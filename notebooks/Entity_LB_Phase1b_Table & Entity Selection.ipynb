{
 "cells": [
  {
   "cell_type": "code",
   "execution_count": null,
   "id": "aaf0a6f5",
   "metadata": {},
   "outputs": [],
   "source": [
    "# Based on some preliminary tests, my idea for table & entity selection is as follows:\n",
    "\n",
    "# - start with top 30 tables with largets 'tableNclusters' as candidates; in each iteration, randomly select 500 entities \n",
    "#   calculate the number of cluster occurences for each table; save the results\n",
    "# - redo the above step for N=10000 times, and calculate the mean of cluster occurences for each table\n",
    "# - select the 15 tables with largest mean occurence. The underlying assumption is that, if a table is more likely to \n",
    "#   cover some randomly selected entities, it should have a higher probability of including the 500 selected entities\n",
    "#   in the end.\n",
    "# - do the above random sampling again on entities and select the 500 entities that are most likely to be included in the\n",
    "#   15 tables selected from the last step."
   ]
  },
  {
   "cell_type": "code",
   "execution_count": 48,
   "id": "c1d66139",
   "metadata": {},
   "outputs": [],
   "source": [
    "import os\n",
    "import pandas as pd\n",
    "import numpy as np\n",
    "import math\n",
    "import matplotlib.pyplot as plt\n",
    "import seaborn as sns"
   ]
  },
  {
   "cell_type": "code",
   "execution_count": 49,
   "id": "f790044a",
   "metadata": {},
   "outputs": [],
   "source": [
    "source_path = r\"C:\\Users\\chench10\\Downloads\\-\" \n",
    "file = 'MFile_cleaned_upper'\n",
    "\n",
    "df = pd.read_json(os.path.join(source_path, file), compression='gzip', orient='records', lines=True) "
   ]
  },
  {
   "cell_type": "code",
   "execution_count": 50,
   "id": "8382f79e",
   "metadata": {},
   "outputs": [],
   "source": [
    "df_copy = df.copy()"
   ]
  },
  {
   "cell_type": "code",
   "execution_count": 51,
   "id": "58815f88",
   "metadata": {},
   "outputs": [],
   "source": [
    "df = df_copy\n",
    "\n",
    "tmp = pd.DataFrame(df.groupby(['table_id'])['cluster_id'].nunique()).reset_index()\n",
    "tmp.columns = ['table_id','tableNclusters']\n",
    "df = df.merge(tmp, on='table_id', how='left').sort_values(by='tableNclusters', ascending=False)\n",
    "\n",
    "tmp = pd.DataFrame(df.groupby(['cluster_id'])['table_id'].nunique()).reset_index()\n",
    "tmp.columns = ['cluster_id','clusterNtables']\n",
    "df = df.merge(tmp, on='cluster_id', how='left')"
   ]
  },
  {
   "cell_type": "code",
   "execution_count": 52,
   "id": "711ab24e",
   "metadata": {},
   "outputs": [
    {
     "data": {
      "text/html": [
       "<div>\n",
       "<style scoped>\n",
       "    .dataframe tbody tr th:only-of-type {\n",
       "        vertical-align: middle;\n",
       "    }\n",
       "\n",
       "    .dataframe tbody tr th {\n",
       "        vertical-align: top;\n",
       "    }\n",
       "\n",
       "    .dataframe thead th {\n",
       "        text-align: right;\n",
       "    }\n",
       "</style>\n",
       "<table border=\"1\" class=\"dataframe\">\n",
       "  <thead>\n",
       "    <tr style=\"text-align: right;\">\n",
       "      <th></th>\n",
       "      <th>cluster_id</th>\n",
       "      <th>table_id</th>\n",
       "      <th>row_id</th>\n",
       "      <th>page_url</th>\n",
       "      <th>tableNclusters</th>\n",
       "      <th>clusterNtables</th>\n",
       "    </tr>\n",
       "  </thead>\n",
       "  <tbody>\n",
       "    <tr>\n",
       "      <th>0</th>\n",
       "      <td>1</td>\n",
       "      <td>Hotel_marriott.com_September2020.json.gz</td>\n",
       "      <td>5860</td>\n",
       "      <td>https://whattoexpect.marriott.com/rommd</td>\n",
       "      <td>3096</td>\n",
       "      <td>2</td>\n",
       "    </tr>\n",
       "    <tr>\n",
       "      <th>1</th>\n",
       "      <td>4342</td>\n",
       "      <td>Hotel_marriott.com_September2020.json.gz</td>\n",
       "      <td>5229</td>\n",
       "      <td>https://www.marriott.com/hotels/local-things-t...</td>\n",
       "      <td>3096</td>\n",
       "      <td>3</td>\n",
       "    </tr>\n",
       "    <tr>\n",
       "      <th>2</th>\n",
       "      <td>4359</td>\n",
       "      <td>Hotel_marriott.com_September2020.json.gz</td>\n",
       "      <td>5971</td>\n",
       "      <td>https://www.marriott.com/hotels/travel/bosfx-r...</td>\n",
       "      <td>3096</td>\n",
       "      <td>3</td>\n",
       "    </tr>\n",
       "    <tr>\n",
       "      <th>3</th>\n",
       "      <td>4358</td>\n",
       "      <td>Hotel_marriott.com_September2020.json.gz</td>\n",
       "      <td>7383</td>\n",
       "      <td>https://www.marriott.com/hotels/hotel-reviews/...</td>\n",
       "      <td>3096</td>\n",
       "      <td>2</td>\n",
       "    </tr>\n",
       "    <tr>\n",
       "      <th>4</th>\n",
       "      <td>4354</td>\n",
       "      <td>Hotel_marriott.com_September2020.json.gz</td>\n",
       "      <td>5552</td>\n",
       "      <td>https://www.marriott.com/hotels/hotel-deals/bo...</td>\n",
       "      <td>3096</td>\n",
       "      <td>2</td>\n",
       "    </tr>\n",
       "    <tr>\n",
       "      <th>...</th>\n",
       "      <td>...</td>\n",
       "      <td>...</td>\n",
       "      <td>...</td>\n",
       "      <td>...</td>\n",
       "      <td>...</td>\n",
       "      <td>...</td>\n",
       "    </tr>\n",
       "    <tr>\n",
       "      <th>40506</th>\n",
       "      <td>10126</td>\n",
       "      <td>Restaurant_acquaefarinaparis.com_September2020...</td>\n",
       "      <td>14</td>\n",
       "      <td>http://www.acquaefarinaparis.com/el/address-co...</td>\n",
       "      <td>1</td>\n",
       "      <td>2</td>\n",
       "    </tr>\n",
       "    <tr>\n",
       "      <th>40507</th>\n",
       "      <td>3864</td>\n",
       "      <td>LocalBusiness_potspace.com_September2020.json.gz</td>\n",
       "      <td>93</td>\n",
       "      <td>https://www.potspace.com/dispensaries/los-ange...</td>\n",
       "      <td>1</td>\n",
       "      <td>2</td>\n",
       "    </tr>\n",
       "    <tr>\n",
       "      <th>40508</th>\n",
       "      <td>10126</td>\n",
       "      <td>Restaurant_acquaefarinaparis.com_September2020...</td>\n",
       "      <td>0</td>\n",
       "      <td>https://www.acquaefarinaparis.com/nl/</td>\n",
       "      <td>1</td>\n",
       "      <td>2</td>\n",
       "    </tr>\n",
       "    <tr>\n",
       "      <th>40509</th>\n",
       "      <td>10126</td>\n",
       "      <td>Restaurant_acquaefarinaparis.com_September2020...</td>\n",
       "      <td>13</td>\n",
       "      <td>http://www.acquaefarinaparis.com/</td>\n",
       "      <td>1</td>\n",
       "      <td>2</td>\n",
       "    </tr>\n",
       "    <tr>\n",
       "      <th>40510</th>\n",
       "      <td>9645</td>\n",
       "      <td>LocalBusiness_lagunaguide.com_September2020.js...</td>\n",
       "      <td>125</td>\n",
       "      <td>https://lagunaguide.com/places/holiday-inn/</td>\n",
       "      <td>1</td>\n",
       "      <td>2</td>\n",
       "    </tr>\n",
       "  </tbody>\n",
       "</table>\n",
       "<p>40511 rows × 6 columns</p>\n",
       "</div>"
      ],
      "text/plain": [
       "       cluster_id                                           table_id  row_id  \\\n",
       "0               1           Hotel_marriott.com_September2020.json.gz    5860   \n",
       "1            4342           Hotel_marriott.com_September2020.json.gz    5229   \n",
       "2            4359           Hotel_marriott.com_September2020.json.gz    5971   \n",
       "3            4358           Hotel_marriott.com_September2020.json.gz    7383   \n",
       "4            4354           Hotel_marriott.com_September2020.json.gz    5552   \n",
       "...           ...                                                ...     ...   \n",
       "40506       10126  Restaurant_acquaefarinaparis.com_September2020...      14   \n",
       "40507        3864   LocalBusiness_potspace.com_September2020.json.gz      93   \n",
       "40508       10126  Restaurant_acquaefarinaparis.com_September2020...       0   \n",
       "40509       10126  Restaurant_acquaefarinaparis.com_September2020...      13   \n",
       "40510        9645  LocalBusiness_lagunaguide.com_September2020.js...     125   \n",
       "\n",
       "                                                page_url  tableNclusters  \\\n",
       "0                https://whattoexpect.marriott.com/rommd            3096   \n",
       "1      https://www.marriott.com/hotels/local-things-t...            3096   \n",
       "2      https://www.marriott.com/hotels/travel/bosfx-r...            3096   \n",
       "3      https://www.marriott.com/hotels/hotel-reviews/...            3096   \n",
       "4      https://www.marriott.com/hotels/hotel-deals/bo...            3096   \n",
       "...                                                  ...             ...   \n",
       "40506  http://www.acquaefarinaparis.com/el/address-co...               1   \n",
       "40507  https://www.potspace.com/dispensaries/los-ange...               1   \n",
       "40508              https://www.acquaefarinaparis.com/nl/               1   \n",
       "40509                  http://www.acquaefarinaparis.com/               1   \n",
       "40510        https://lagunaguide.com/places/holiday-inn/               1   \n",
       "\n",
       "       clusterNtables  \n",
       "0                   2  \n",
       "1                   3  \n",
       "2                   3  \n",
       "3                   2  \n",
       "4                   2  \n",
       "...               ...  \n",
       "40506               2  \n",
       "40507               2  \n",
       "40508               2  \n",
       "40509               2  \n",
       "40510               2  \n",
       "\n",
       "[40511 rows x 6 columns]"
      ]
     },
     "execution_count": 52,
     "metadata": {},
     "output_type": "execute_result"
    }
   ],
   "source": [
    "df"
   ]
  },
  {
   "cell_type": "markdown",
   "id": "095fc2ea",
   "metadata": {},
   "source": [
    "### Table Selection"
   ]
  },
  {
   "cell_type": "code",
   "execution_count": 53,
   "id": "e091c6a4",
   "metadata": {},
   "outputs": [],
   "source": [
    "ncluster = df['cluster_id'].nunique()\n",
    "ntables  = df['table_id'].nunique()"
   ]
  },
  {
   "cell_type": "code",
   "execution_count": 54,
   "id": "dcc4e5be",
   "metadata": {},
   "outputs": [],
   "source": [
    "# np.random.seed(42)\n",
    "# table_idx = np.random.randint(0, ntables, 15)   # 15 is the number of selected tables\n",
    "# table_candidates = tables[table_idx]\n",
    "\n",
    "# cluster_idx = np.random.randint(0, ntables, 500)   # 500 is the number of selected clusters\n",
    "# cluster_candidates = clusters[cluster_idx]"
   ]
  },
  {
   "cell_type": "code",
   "execution_count": 55,
   "id": "085e30bd",
   "metadata": {},
   "outputs": [],
   "source": [
    "# initialize a dictionary to store cluster frequency\n",
    "# cluster_fre = {key: 0 for key in range(ncluster)}\n",
    "\n",
    "# for t in table_candidates:\n",
    "#     clusters = df[df['table_id']==t]['cluster_id'].unique()\n",
    "#     for c in clusters:\n",
    "#         cluster_fre[c] += 1\n",
    "        \n",
    "# results =pd.DataFrame.from_dict(cluster_fre, orient='index', columns=['frequency']).sort_values('frequency', ascending=False)"
   ]
  },
  {
   "cell_type": "code",
   "execution_count": 101,
   "id": "0ca84d82",
   "metadata": {},
   "outputs": [],
   "source": [
    "np.random.seed(42)\n",
    "\n",
    "sampling_tables = 50\n",
    "sampling_times = 1000\n",
    "\n",
    "tables = np.array(df['table_id'].unique())[:sampling_tables]   \n",
    "clusters = np.array(df['cluster_id'].unique())\n",
    "\n",
    "array1 = np.ndarray((sampling_times, sampling_tables))\n",
    "for i in range(sampling_times):             # number of sampling attempts\n",
    "    table_candidates = tables\n",
    "    cluster_candidates = np.random.choice(clusters, 500, replace=False)   # 500 is the number of selected clusters\n",
    "\n",
    "    list_frequency =[]\n",
    "    for t in table_candidates:\n",
    "        l1 = set(df[df['table_id']==t].cluster_id.unique())  # clusters that are included in the table  \n",
    "        l2 = set(cluster_candidates)                         # choosen clusters\n",
    "\n",
    "        list_frequency.append(len(l1.intersection(l2)))      \n",
    "    \n",
    "    #print(list_frequency)\n",
    "    #if mean(list_frequency) > 200:\n",
    "    #    break\n",
    "    array2 = np.append(array1, list_frequency).reshape(-1,sampling_tables)"
   ]
  },
  {
   "cell_type": "code",
   "execution_count": 102,
   "id": "17655c7c",
   "metadata": {},
   "outputs": [
    {
     "name": "stdout",
     "output_type": "stream",
     "text": [
      "[0.11788212 0.1008991  0.07692308 0.06893107 0.06893107 0.04095904\n",
      " 0.03396603 0.03496503 0.03196803 0.02797203 0.02997003 0.01798202\n",
      " 0.02097902 0.02097902 0.02097902 0.01798202 0.01798202 0.01298701\n",
      " 0.01498501 0.00999001 0.01398601 0.01398601 0.00899101 0.01598402\n",
      " 0.00899101 0.01198801 0.00699301 0.00599401 0.003996   0.00799201\n",
      " 0.00799201 0.01298701 0.00699301 0.00899101 0.00599401 0.00799201\n",
      " 0.004995   0.002997   0.00999001 0.003996   0.002997   0.004995\n",
      " 0.003996   0.00899101 0.00899101 0.004995   0.00599401 0.00799201\n",
      " 0.003996   0.002997  ]\n"
     ]
    }
   ],
   "source": [
    "print(np.mean(array2, axis=0))"
   ]
  },
  {
   "cell_type": "code",
   "execution_count": 103,
   "id": "fe189f91",
   "metadata": {},
   "outputs": [
    {
     "data": {
      "text/plain": [
       "array(['Hotel_chateauxhotels.co.uk_September2020.json.gz',\n",
       "       'LocalBusiness_visitdenmark.com_September2020.json.gz',\n",
       "       'LocalBusiness_infinitishops.com_September2020.json.gz',\n",
       "       'Restaurant_slicelife.com_September2020.json.gz',\n",
       "       'Hotel_marriott.co.uk_September2020.json.gz',\n",
       "       'LocalBusiness_exoticautoshops.com_September2020.json.gz',\n",
       "       'LocalBusiness_travelks.com_September2020.json.gz',\n",
       "       'LocalBusiness_lansingsports.org_September2020.json.gz',\n",
       "       'LocalBusiness_lansing.org_September2020.json.gz',\n",
       "       'LocalBusiness_acushops.com_September2020.json.gz',\n",
       "       'LocalBusiness_saabshops.com_September2020.json.gz',\n",
       "       'Hotel_ihg.com_September2020.json.gz',\n",
       "       'LocalBusiness_lexrepairshops.com_September2020.json.gz',\n",
       "       'LocalBusiness_jagshops.com_September2020.json.gz',\n",
       "       'LocalBusiness_homify.com.my_September2020.json.gz',\n",
       "       'LocalBusiness_homify.com_September2020.json.gz',\n",
       "       'LocalBusiness_lrshops.com_September2020.json.gz',\n",
       "       'LocalBusiness_volvomechanics.com_September2020.json.gz',\n",
       "       'LocalBusiness_fingerlakestravelny.com_September2020.json.gz',\n",
       "       'LocalBusiness_homify.co.uk_September2020.json.gz',\n",
       "       'LocalBusiness_pcarshops.com_September2020.json.gz',\n",
       "       'LocalBusiness_vcarshops.com_September2020.json.gz',\n",
       "       'LocalBusiness_minirepairshops.com_September2020.json.gz',\n",
       "       'LocalBusiness_benzshops.com_September2020.json.gz',\n",
       "       'LocalBusiness_fourringsrepair.com_September2020.json.gz',\n",
       "       'LocalBusiness_bimmershops.com_September2020.json.gz',\n",
       "       'Restaurant_bookatable.co.uk_September2020.json.gz',\n",
       "       'Restaurant_bookatable.com_September2020.json.gz',\n",
       "       'Hotel_marriott.com.au_September2020.json.gz',\n",
       "       'Hotel_marriott.com_September2020.json.gz'], dtype=object)"
      ]
     },
     "execution_count": 103,
     "metadata": {},
     "output_type": "execute_result"
    }
   ],
   "source": [
    "idx = np.argpartition(np.mean(array2, axis=0), -30)[-30:]     # first narrow the tables to 30\n",
    "tables_selected = tables[idx]\n",
    "tables_selected"
   ]
  },
  {
   "cell_type": "markdown",
   "id": "7fe977a6",
   "metadata": {},
   "source": [
    "### Entity Selection"
   ]
  },
  {
   "cell_type": "code",
   "execution_count": 104,
   "id": "6daf89a0",
   "metadata": {},
   "outputs": [],
   "source": [
    "# select the 15 tables with largest mean occurence (15 is the number of selected tables)\n",
    "# then do the above random sampling again on entities and select the 500 entity with largest mean inclusion"
   ]
  },
  {
   "cell_type": "code",
   "execution_count": 122,
   "id": "64459a5e",
   "metadata": {},
   "outputs": [],
   "source": [
    "# initialize a dictionary to store cluster frequency\n",
    "cluster_fre = {key: 0 for key in range(1, ncluster+1)}\n",
    "\n",
    "for t in tables_selected:\n",
    "    clusters = df[df['table_id']==t]['cluster_id'].unique()\n",
    "    for c in clusters:\n",
    "        cluster_fre[c] += 1"
   ]
  },
  {
   "cell_type": "code",
   "execution_count": 124,
   "id": "981411f8",
   "metadata": {},
   "outputs": [],
   "source": [
    "cluster_fre\n",
    "results =pd.DataFrame.from_dict(cluster_fre, orient='index', columns=['frequency']).sort_values('frequency', ascending=False)"
   ]
  },
  {
   "cell_type": "code",
   "execution_count": 125,
   "id": "b9f48f74",
   "metadata": {},
   "outputs": [
    {
     "data": {
      "text/plain": [
       "Int64Index([9600, 2731, 6284, 9886, 7767, 2884, 2715, 8824, 7280, 3438,\n",
       "            ...\n",
       "            8868, 1478, 1479, 4138, 4118, 9538, 1492, 6878, 1630, 7062],\n",
       "           dtype='int64', length=500)"
      ]
     },
     "execution_count": 125,
     "metadata": {},
     "output_type": "execute_result"
    }
   ],
   "source": [
    "clusters_selected = results[:500].index\n",
    "clusters_selected"
   ]
  },
  {
   "cell_type": "markdown",
   "id": "3dbbfc6e",
   "metadata": {},
   "source": [
    "### Testing"
   ]
  },
  {
   "cell_type": "code",
   "execution_count": 126,
   "id": "bc68fbad",
   "metadata": {},
   "outputs": [],
   "source": [
    "list_test = []\n",
    "for t in tables_selected:\n",
    "        l1 = set(df[df['table_id']==t].cluster_id.unique())  # clusters that are included in the table  \n",
    "        l2 = set(clusters_selected)                          # choosen clusters\n",
    "\n",
    "        list_test.append(len(l1.intersection(l2))) "
   ]
  },
  {
   "cell_type": "code",
   "execution_count": 127,
   "id": "565fc097",
   "metadata": {},
   "outputs": [
    {
     "data": {
      "text/plain": [
       "[0,\n",
       " 0,\n",
       " 205,\n",
       " 0,\n",
       " 0,\n",
       " 171,\n",
       " 0,\n",
       " 0,\n",
       " 0,\n",
       " 220,\n",
       " 258,\n",
       " 0,\n",
       " 319,\n",
       " 351,\n",
       " 0,\n",
       " 0,\n",
       " 377,\n",
       " 383,\n",
       " 0,\n",
       " 0,\n",
       " 408,\n",
       " 456,\n",
       " 403,\n",
       " 432,\n",
       " 470,\n",
       " 485,\n",
       " 0,\n",
       " 0,\n",
       " 0,\n",
       " 0]"
      ]
     },
     "execution_count": 127,
     "metadata": {},
     "output_type": "execute_result"
    }
   ],
   "source": [
    "list_test"
   ]
  }
 ],
 "metadata": {
  "kernelspec": {
   "display_name": "Python 3 (ipykernel)",
   "language": "python",
   "name": "python3"
  },
  "language_info": {
   "codemirror_mode": {
    "name": "ipython",
    "version": 3
   },
   "file_extension": ".py",
   "mimetype": "text/x-python",
   "name": "python",
   "nbconvert_exporter": "python",
   "pygments_lexer": "ipython3",
   "version": "3.8.8"
  }
 },
 "nbformat": 4,
 "nbformat_minor": 5
}
