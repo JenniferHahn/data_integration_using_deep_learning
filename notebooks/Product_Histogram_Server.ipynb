{
 "cells": [
  {
   "cell_type": "code",
   "execution_count": 1,
   "metadata": {},
   "outputs": [],
   "source": [
    "import os\n",
    "import pandas as pd\n",
    "import plotly.express as px\n",
    "import progressbar\n",
    "import json\n",
    "import numpy as np"
   ]
  },
  {
   "cell_type": "markdown",
   "metadata": {},
   "source": [
    "## Get the paths and build table names for iteration"
   ]
  },
  {
   "cell_type": "code",
   "execution_count": 2,
   "metadata": {},
   "outputs": [],
   "source": [
    "data_path = '../src/data'\n",
    "mapping_corpus_path = data_path + r'/product/lspc2020_to_tablecorpus'\n",
    "mapping_corpus_path_2 = data_path + r'/product/lspc2020_to_tablecorpus/Cleaned'\n",
    "table_corpus_path = data_path + r'/product/product_top100/cleaned'\n",
    "table_corpus_path_with_id = data_path + r'/product/product_top100/cleaned/with_id'\n",
    "table_corpus_path2 = data_path + r'/product/product_minimum3/cleaned/with_id'"
   ]
  },
  {
   "cell_type": "code",
   "execution_count": 3,
   "metadata": {},
   "outputs": [],
   "source": [
    "zip_files_mapping = [file for file in os.listdir(mapping_corpus_path_2) if file.endswith('.json.gz')]\n",
    "zip_files_tables = [file for file in os.listdir(table_corpus_path) if file.endswith('.json.gz')]"
   ]
  },
  {
   "cell_type": "code",
   "execution_count": null,
   "metadata": {},
   "outputs": [],
   "source": [
    "# count = 0\n",
    "# count_1=0\n",
    "# with progressbar.ProgressBar(max_value=len(zip_files_tables)) as bar:\n",
    "#     for zip_file in zip_files_tables:\n",
    "#         print('/{}'.format(zip_file))\n",
    "#         df = pd.read_json(table_corpus_path + '/{}'.format(zip_file), compression='gzip', lines=True)     \n",
    "#         df['cluster_id']=0\n",
    "#         for zip_file_map in zip_files_mapping:\n",
    "#             count_1=count_1+1\n",
    "#             print(count_1)\n",
    "#             df_map = pd.read_json(mapping_corpus_path_2 + '/{}'.format(zip_file_map), compression='gzip', lines=True)\n",
    "#             for i in range(len(df_map)):\n",
    "#                 if df_map['table_id'][i]=='{}'.format(zip_file):\n",
    "#                   index_map=df_map['row_id'][i]\n",
    "#                   if df.index[df['row_id'] == index_map].size != 0:\n",
    "#                     index_table=df.index[df['row_id'] == index_map][0]\n",
    "#                     if df['cluster_id'][index_table]==0:\n",
    "#                         df['cluster_id'][index_table]=df_map['cluster_id'][i] \n",
    "#                     else:\n",
    "#                         print('double product value in table')\n",
    "#         df.to_json(table_corpus_path_with_id + '/{}'.format(zip_file), compression='gzip', orient='records', lines=True)\n",
    "#         df\n",
    "#         count += 1\n",
    "#         bar.update(count)"
   ]
  },
  {
   "cell_type": "code",
   "execution_count": null,
   "metadata": {},
   "outputs": [],
   "source": [
    "# count = 0\n",
    "# count_1=0\n",
    "# with progressbar.ProgressBar(max_value=len(zip_files_tables)) as bar:\n",
    "#     for zip_file in zip_files_tables:\n",
    "#         print('/{}'.format(zip_file))\n",
    "#         df = pd.read_json(table_corpus_path2 + '/{}'.format(zip_file), compression='gzip', lines=True)     \n",
    "#         df['cluster_id']=0\n",
    "#         for zip_file_map in zip_files_mapping:\n",
    "#             count_1=count_1+1\n",
    "#             print(count_1)\n",
    "#             df_map = pd.read_json(mapping_corpus_path_2 + '/{}'.format(zip_file_map), compression='gzip', lines=True)\n",
    "#             for i in range(len(df_map)):\n",
    "#                 if df_map['table_id'][i]=='{}'.format(zip_file):\n",
    "#                   index_map=df_map['row_id'][i]\n",
    "#                   if df.index[df['row_id'] == index_map].size != 0:\n",
    "#                     index_table=df.index[df['row_id'] == index_map][0]\n",
    "#                     if df['cluster_id'][index_table]==0:\n",
    "#                         df['cluster_id'][index_table]=df_map['cluster_id'][i] \n",
    "#                     else:\n",
    "#                         print('double product value in table')\n",
    "#         df.to_json(table_corpus_path2_with_id + '/{}'.format(zip_file), compression='gzip', orient='records', lines=True)\n",
    "#         df\n",
    "#         count += 1\n",
    "#         bar.update(count)"
   ]
  },
  {
   "cell_type": "markdown",
   "metadata": {},
   "source": [
    "## Only use first cleaning step on cluster_id tables"
   ]
  },
  {
   "cell_type": "markdown",
   "metadata": {},
   "source": [
    "#### Matching the cluster_ids to the entity tables Top100 did not result in good clusters, as the Top100 seem to be pretty specific regarding their input, e.g., amazonaws with aws-ids as products -> no matches somewhere else"
   ]
  },
  {
   "cell_type": "code",
   "execution_count": null,
   "metadata": {},
   "outputs": [],
   "source": [
    "# # Use the 4 endings to search for english websites and then only keep these to get valid cluster_ids\n",
    "# def clean_table(df):\n",
    "#   valid_tld = ['.com', '.net', '.org', '.uk']\n",
    "#   df['Valid']=0\n",
    "#   for i in range(len(df)):\n",
    "#     #print(i)\n",
    "#     for tld in valid_tld:\n",
    "#       if tld in df['table_id'][i]:\n",
    "#         df['Valid'][i]=1\n",
    "#   return df[df['Valid']==1]"
   ]
  },
  {
   "cell_type": "code",
   "execution_count": null,
   "metadata": {},
   "outputs": [],
   "source": [
    "# #clean mapping files and save them again\n",
    "# # then use the cleaned tables to append into a series and the get a dataframe from that\n",
    "# count = 0\n",
    "# count_1=0\n",
    "# data=[]\n",
    "# with progressbar.ProgressBar(max_value=len(zip_files_mapping)) as bar:\n",
    "#     for zip_file in zip_files_mapping:\n",
    "#         print('/{}'.format(zip_file))\n",
    "#         df = pd.read_json(mapping_corpus_path_2 + '/{}'.format(zip_file), compression='gzip', lines=True)\n",
    "#         #df=clean_table(df)\n",
    "#         #df['table_name']='{}'.format(zip_file)\n",
    "#         #df.to_json(mapping_corpus_path_2 + '/{}'.format(zip_file), compression='gzip', orient='records', lines=True)\n",
    "#         data.append(df)\n",
    "#         count += 1\n",
    "#         bar.update(count)\n",
    "# #large_df= pd.concat(data, ignore_index=True)\n",
    "# #large_df.to_json(os.path.join(mapping_corpus_path, 'concatentation'), compression='gzip', orient='records', lines=True)"
   ]
  },
  {
   "cell_type": "code",
   "execution_count": null,
   "metadata": {},
   "outputs": [],
   "source": [
    "# #see the input of the series\n",
    "# data"
   ]
  },
  {
   "cell_type": "markdown",
   "metadata": {},
   "source": [
    "### Concat the series into a dataframe and then sort by the cluster_ids to get the table counts for each cluster"
   ]
  },
  {
   "cell_type": "code",
   "execution_count": null,
   "metadata": {},
   "outputs": [],
   "source": [
    "# large_df= pd.concat(data, ignore_index=True)"
   ]
  },
  {
   "cell_type": "code",
   "execution_count": null,
   "metadata": {},
   "outputs": [],
   "source": [
    "#table has around 28 Million valid cluster ids (not necessarily unique)\n",
    "# large_df"
   ]
  },
  {
   "cell_type": "markdown",
   "metadata": {},
   "source": [
    "## Filter on cluster_id and table_id to be easily able to count the table_ids per unique cluster"
   ]
  },
  {
   "cell_type": "code",
   "execution_count": 4,
   "metadata": {},
   "outputs": [],
   "source": [
    "# get dictionaries\n",
    "data_path_1 = '../src/data/product/lspc2020_to_tablecorpus/Cleaned/allocation_amount_only_total_dict.json'\n",
    "data_path_2 = '../src/data/product/lspc2020_to_tablecorpus/Cleaned/allocation_amount_only_set_dict.json'"
   ]
  },
  {
   "cell_type": "code",
   "execution_count": 5,
   "metadata": {},
   "outputs": [],
   "source": [
    "with open(data_path_1) as f:\n",
    "    data_1=json.load(f)\n",
    "with open(data_path_2) as f:\n",
    "    data_2=json.load(f)"
   ]
  },
  {
   "cell_type": "code",
   "execution_count": 7,
   "metadata": {},
   "outputs": [
    {
     "data": {
      "text/html": [
       "<div>\n",
       "<style scoped>\n",
       "    .dataframe tbody tr th:only-of-type {\n",
       "        vertical-align: middle;\n",
       "    }\n",
       "\n",
       "    .dataframe tbody tr th {\n",
       "        vertical-align: top;\n",
       "    }\n",
       "\n",
       "    .dataframe thead th {\n",
       "        text-align: right;\n",
       "    }\n",
       "</style>\n",
       "<table border=\"1\" class=\"dataframe\">\n",
       "  <thead>\n",
       "    <tr style=\"text-align: right;\">\n",
       "      <th></th>\n",
       "      <th>0</th>\n",
       "    </tr>\n",
       "  </thead>\n",
       "  <tbody>\n",
       "    <tr>\n",
       "      <th>73924608</th>\n",
       "      <td>1</td>\n",
       "    </tr>\n",
       "    <tr>\n",
       "      <th>31326208</th>\n",
       "      <td>1</td>\n",
       "    </tr>\n",
       "    <tr>\n",
       "      <th>22544400</th>\n",
       "      <td>1</td>\n",
       "    </tr>\n",
       "    <tr>\n",
       "      <th>51904529</th>\n",
       "      <td>1</td>\n",
       "    </tr>\n",
       "    <tr>\n",
       "      <th>74055698</th>\n",
       "      <td>1</td>\n",
       "    </tr>\n",
       "    <tr>\n",
       "      <th>...</th>\n",
       "      <td>...</td>\n",
       "    </tr>\n",
       "    <tr>\n",
       "      <th>14680043</th>\n",
       "      <td>1</td>\n",
       "    </tr>\n",
       "    <tr>\n",
       "      <th>6553589</th>\n",
       "      <td>1</td>\n",
       "    </tr>\n",
       "    <tr>\n",
       "      <th>20709366</th>\n",
       "      <td>1</td>\n",
       "    </tr>\n",
       "    <tr>\n",
       "      <th>75628536</th>\n",
       "      <td>1</td>\n",
       "    </tr>\n",
       "    <tr>\n",
       "      <th>72089597</th>\n",
       "      <td>1</td>\n",
       "    </tr>\n",
       "  </tbody>\n",
       "</table>\n",
       "<p>20916785 rows × 1 columns</p>\n",
       "</div>"
      ],
      "text/plain": [
       "          0\n",
       "73924608  1\n",
       "31326208  1\n",
       "22544400  1\n",
       "51904529  1\n",
       "74055698  1\n",
       "...      ..\n",
       "14680043  1\n",
       "6553589   1\n",
       "20709366  1\n",
       "75628536  1\n",
       "72089597  1\n",
       "\n",
       "[20916785 rows x 1 columns]"
      ]
     },
     "execution_count": 7,
     "metadata": {},
     "output_type": "execute_result"
    }
   ],
   "source": [
    "df_total=pd.DataFrame.from_dict(data_1, orient='index')\n",
    "df_total"
   ]
  },
  {
   "cell_type": "code",
   "execution_count": 8,
   "metadata": {},
   "outputs": [
    {
     "data": {
      "text/html": [
       "<div>\n",
       "<style scoped>\n",
       "    .dataframe tbody tr th:only-of-type {\n",
       "        vertical-align: middle;\n",
       "    }\n",
       "\n",
       "    .dataframe tbody tr th {\n",
       "        vertical-align: top;\n",
       "    }\n",
       "\n",
       "    .dataframe thead th {\n",
       "        text-align: right;\n",
       "    }\n",
       "</style>\n",
       "<table border=\"1\" class=\"dataframe\">\n",
       "  <thead>\n",
       "    <tr style=\"text-align: right;\">\n",
       "      <th></th>\n",
       "      <th>0</th>\n",
       "    </tr>\n",
       "  </thead>\n",
       "  <tbody>\n",
       "    <tr>\n",
       "      <th>73924608</th>\n",
       "      <td>1</td>\n",
       "    </tr>\n",
       "    <tr>\n",
       "      <th>31326208</th>\n",
       "      <td>1</td>\n",
       "    </tr>\n",
       "    <tr>\n",
       "      <th>22544400</th>\n",
       "      <td>1</td>\n",
       "    </tr>\n",
       "    <tr>\n",
       "      <th>51904529</th>\n",
       "      <td>1</td>\n",
       "    </tr>\n",
       "    <tr>\n",
       "      <th>74055698</th>\n",
       "      <td>1</td>\n",
       "    </tr>\n",
       "    <tr>\n",
       "      <th>...</th>\n",
       "      <td>...</td>\n",
       "    </tr>\n",
       "    <tr>\n",
       "      <th>14680043</th>\n",
       "      <td>1</td>\n",
       "    </tr>\n",
       "    <tr>\n",
       "      <th>6553589</th>\n",
       "      <td>1</td>\n",
       "    </tr>\n",
       "    <tr>\n",
       "      <th>20709366</th>\n",
       "      <td>1</td>\n",
       "    </tr>\n",
       "    <tr>\n",
       "      <th>75628536</th>\n",
       "      <td>1</td>\n",
       "    </tr>\n",
       "    <tr>\n",
       "      <th>72089597</th>\n",
       "      <td>1</td>\n",
       "    </tr>\n",
       "  </tbody>\n",
       "</table>\n",
       "<p>20916785 rows × 1 columns</p>\n",
       "</div>"
      ],
      "text/plain": [
       "          0\n",
       "73924608  1\n",
       "31326208  1\n",
       "22544400  1\n",
       "51904529  1\n",
       "74055698  1\n",
       "...      ..\n",
       "14680043  1\n",
       "6553589   1\n",
       "20709366  1\n",
       "75628536  1\n",
       "72089597  1\n",
       "\n",
       "[20916785 rows x 1 columns]"
      ]
     },
     "execution_count": 8,
     "metadata": {},
     "output_type": "execute_result"
    }
   ],
   "source": [
    "df_set=pd.DataFrame.from_dict(data_2, orient='index')\n",
    "df_set"
   ]
  },
  {
   "cell_type": "code",
   "execution_count": 9,
   "metadata": {},
   "outputs": [],
   "source": [
    "df_total=df_total.reset_index().rename(columns={0:\"Amount\",'index':\"cluster_id\"})\n",
    "df_set=df_set.reset_index().rename(columns={0:\"Amount\",'index':\"cluster_id\"})"
   ]
  },
  {
   "cell_type": "code",
   "execution_count": 10,
   "metadata": {},
   "outputs": [
    {
     "data": {
      "text/plain": [
       "index     9999996\n",
       "Amount       1285\n",
       "dtype: object"
      ]
     },
     "execution_count": 10,
     "metadata": {},
     "output_type": "execute_result"
    }
   ],
   "source": [
    "df_set.max()"
   ]
  },
  {
   "cell_type": "code",
   "execution_count": 11,
   "metadata": {},
   "outputs": [
    {
     "data": {
      "text/plain": [
       "index     9999996\n",
       "Amount       2600\n",
       "dtype: object"
      ]
     },
     "execution_count": 11,
     "metadata": {},
     "output_type": "execute_result"
    }
   ],
   "source": [
    "df_total.max()"
   ]
  },
  {
   "cell_type": "code",
   "execution_count": 12,
   "metadata": {},
   "outputs": [
    {
     "data": {
      "text/html": [
       "<div>\n",
       "<style scoped>\n",
       "    .dataframe tbody tr th:only-of-type {\n",
       "        vertical-align: middle;\n",
       "    }\n",
       "\n",
       "    .dataframe tbody tr th {\n",
       "        vertical-align: top;\n",
       "    }\n",
       "\n",
       "    .dataframe thead th {\n",
       "        text-align: right;\n",
       "    }\n",
       "</style>\n",
       "<table border=\"1\" class=\"dataframe\">\n",
       "  <thead>\n",
       "    <tr style=\"text-align: right;\">\n",
       "      <th></th>\n",
       "      <th>index</th>\n",
       "      <th>Amount</th>\n",
       "    </tr>\n",
       "  </thead>\n",
       "  <tbody>\n",
       "    <tr>\n",
       "      <th>5</th>\n",
       "      <td>131092</td>\n",
       "      <td>29</td>\n",
       "    </tr>\n",
       "    <tr>\n",
       "      <th>9</th>\n",
       "      <td>4980762</td>\n",
       "      <td>4</td>\n",
       "    </tr>\n",
       "    <tr>\n",
       "      <th>25</th>\n",
       "      <td>17694777</td>\n",
       "      <td>2</td>\n",
       "    </tr>\n",
       "    <tr>\n",
       "      <th>27</th>\n",
       "      <td>2490427</td>\n",
       "      <td>9</td>\n",
       "    </tr>\n",
       "    <tr>\n",
       "      <th>28</th>\n",
       "      <td>4980796</td>\n",
       "      <td>2</td>\n",
       "    </tr>\n",
       "    <tr>\n",
       "      <th>...</th>\n",
       "      <td>...</td>\n",
       "      <td>...</td>\n",
       "    </tr>\n",
       "    <tr>\n",
       "      <th>20852522</th>\n",
       "      <td>55847403</td>\n",
       "      <td>2</td>\n",
       "    </tr>\n",
       "    <tr>\n",
       "      <th>20887842</th>\n",
       "      <td>2436046</td>\n",
       "      <td>2</td>\n",
       "    </tr>\n",
       "    <tr>\n",
       "      <th>20892455</th>\n",
       "      <td>740855</td>\n",
       "      <td>2</td>\n",
       "    </tr>\n",
       "    <tr>\n",
       "      <th>20900059</th>\n",
       "      <td>2721215</td>\n",
       "      <td>2</td>\n",
       "    </tr>\n",
       "    <tr>\n",
       "      <th>20903836</th>\n",
       "      <td>26976540</td>\n",
       "      <td>2</td>\n",
       "    </tr>\n",
       "  </tbody>\n",
       "</table>\n",
       "<p>1244562 rows × 2 columns</p>\n",
       "</div>"
      ],
      "text/plain": [
       "             index  Amount\n",
       "5           131092      29\n",
       "9          4980762       4\n",
       "25        17694777       2\n",
       "27         2490427       9\n",
       "28         4980796       2\n",
       "...            ...     ...\n",
       "20852522  55847403       2\n",
       "20887842   2436046       2\n",
       "20892455    740855       2\n",
       "20900059   2721215       2\n",
       "20903836  26976540       2\n",
       "\n",
       "[1244562 rows x 2 columns]"
      ]
     },
     "execution_count": 12,
     "metadata": {},
     "output_type": "execute_result"
    }
   ],
   "source": [
    "# We discard all clusters with less than 2 entries, cause we cannot match anything there, so 1,6 million clusters remain\n",
    "df_set=df_set[df_set['Amount']>1]\n",
    "df_set"
   ]
  },
  {
   "cell_type": "code",
   "execution_count": 13,
   "metadata": {},
   "outputs": [
    {
     "data": {
      "text/html": [
       "<div>\n",
       "<style scoped>\n",
       "    .dataframe tbody tr th:only-of-type {\n",
       "        vertical-align: middle;\n",
       "    }\n",
       "\n",
       "    .dataframe tbody tr th {\n",
       "        vertical-align: top;\n",
       "    }\n",
       "\n",
       "    .dataframe thead th {\n",
       "        text-align: right;\n",
       "    }\n",
       "</style>\n",
       "<table border=\"1\" class=\"dataframe\">\n",
       "  <thead>\n",
       "    <tr style=\"text-align: right;\">\n",
       "      <th></th>\n",
       "      <th>count</th>\n",
       "      <th>mean</th>\n",
       "      <th>std</th>\n",
       "      <th>min</th>\n",
       "      <th>25%</th>\n",
       "      <th>50%</th>\n",
       "      <th>75%</th>\n",
       "      <th>max</th>\n",
       "    </tr>\n",
       "  </thead>\n",
       "  <tbody>\n",
       "    <tr>\n",
       "      <th>Amount</th>\n",
       "      <td>1244562.0</td>\n",
       "      <td>4.0</td>\n",
       "      <td>11.0</td>\n",
       "      <td>2.0</td>\n",
       "      <td>2.0</td>\n",
       "      <td>2.0</td>\n",
       "      <td>3.0</td>\n",
       "      <td>1285.0</td>\n",
       "    </tr>\n",
       "  </tbody>\n",
       "</table>\n",
       "</div>"
      ],
      "text/plain": [
       "            count  mean   std  min  25%  50%  75%     max\n",
       "Amount  1244562.0   4.0  11.0  2.0  2.0  2.0  3.0  1285.0"
      ]
     },
     "execution_count": 13,
     "metadata": {},
     "output_type": "execute_result"
    }
   ],
   "source": [
    "df_set.set_index('cluster_id').describe().T.round()"
   ]
  },
  {
   "cell_type": "code",
   "execution_count": 16,
   "metadata": {},
   "outputs": [
    {
     "data": {
      "text/plain": [
       "<AxesSubplot:ylabel='Frequency'>"
      ]
     },
     "execution_count": 16,
     "metadata": {},
     "output_type": "execute_result"
    },
    {
     "data": {
      "image/png": "[encoded data removed]",
      "text/plain": [
       "<Figure size 432x288 with 1 Axes>"
      ]
     },
     "metadata": {
      "needs_background": "light"
     },
     "output_type": "display_data"
    }
   ],
   "source": [
    "df_set.plot(x='cluster_id',y='Amount',kind='hist')"
   ]
  },
  {
   "cell_type": "code",
   "execution_count": 17,
   "metadata": {},
   "outputs": [
    {
     "data": {
      "text/html": [
       "<div>\n",
       "<style scoped>\n",
       "    .dataframe tbody tr th:only-of-type {\n",
       "        vertical-align: middle;\n",
       "    }\n",
       "\n",
       "    .dataframe tbody tr th {\n",
       "        vertical-align: top;\n",
       "    }\n",
       "\n",
       "    .dataframe thead th {\n",
       "        text-align: right;\n",
       "    }\n",
       "</style>\n",
       "<table border=\"1\" class=\"dataframe\">\n",
       "  <thead>\n",
       "    <tr style=\"text-align: right;\">\n",
       "      <th></th>\n",
       "      <th>cluster_id</th>\n",
       "      <th>Amount</th>\n",
       "    </tr>\n",
       "  </thead>\n",
       "  <tbody>\n",
       "    <tr>\n",
       "      <th>5</th>\n",
       "      <td>131092</td>\n",
       "      <td>29</td>\n",
       "    </tr>\n",
       "    <tr>\n",
       "      <th>30</th>\n",
       "      <td>47710279</td>\n",
       "      <td>42</td>\n",
       "    </tr>\n",
       "    <tr>\n",
       "      <th>201</th>\n",
       "      <td>2621903</td>\n",
       "      <td>33</td>\n",
       "    </tr>\n",
       "    <tr>\n",
       "      <th>642</th>\n",
       "      <td>787983</td>\n",
       "      <td>18</td>\n",
       "    </tr>\n",
       "    <tr>\n",
       "      <th>646</th>\n",
       "      <td>1050139</td>\n",
       "      <td>16</td>\n",
       "    </tr>\n",
       "    <tr>\n",
       "      <th>...</th>\n",
       "      <td>...</td>\n",
       "      <td>...</td>\n",
       "    </tr>\n",
       "    <tr>\n",
       "      <th>8306446</th>\n",
       "      <td>65770080</td>\n",
       "      <td>17</td>\n",
       "    </tr>\n",
       "    <tr>\n",
       "      <th>8780123</th>\n",
       "      <td>19170901</td>\n",
       "      <td>17</td>\n",
       "    </tr>\n",
       "    <tr>\n",
       "      <th>9040570</th>\n",
       "      <td>58582000</td>\n",
       "      <td>16</td>\n",
       "    </tr>\n",
       "    <tr>\n",
       "      <th>9429552</th>\n",
       "      <td>19412215</td>\n",
       "      <td>17</td>\n",
       "    </tr>\n",
       "    <tr>\n",
       "      <th>11139359</th>\n",
       "      <td>5381269</td>\n",
       "      <td>16</td>\n",
       "    </tr>\n",
       "  </tbody>\n",
       "</table>\n",
       "<p>19367 rows × 2 columns</p>\n",
       "</div>"
      ],
      "text/plain": [
       "         cluster_id  Amount\n",
       "5            131092      29\n",
       "30         47710279      42\n",
       "201         2621903      33\n",
       "642          787983      18\n",
       "646         1050139      16\n",
       "...             ...     ...\n",
       "8306446    65770080      17\n",
       "8780123    19170901      17\n",
       "9040570    58582000      16\n",
       "9429552    19412215      17\n",
       "11139359    5381269      16\n",
       "\n",
       "[19367 rows x 2 columns]"
      ]
     },
     "execution_count": 17,
     "metadata": {},
     "output_type": "execute_result"
    }
   ],
   "source": [
    "# filter on clusters with more entries to get information, here are still 20k clusters left\n",
    "df_15=df_set[df_set['Amount']>15]\n",
    "df_15"
   ]
  },
  {
   "cell_type": "code",
   "execution_count": 19,
   "metadata": {},
   "outputs": [
    {
     "data": {
      "text/html": [
       "<div>\n",
       "<style scoped>\n",
       "    .dataframe tbody tr th:only-of-type {\n",
       "        vertical-align: middle;\n",
       "    }\n",
       "\n",
       "    .dataframe tbody tr th {\n",
       "        vertical-align: top;\n",
       "    }\n",
       "\n",
       "    .dataframe thead th {\n",
       "        text-align: right;\n",
       "    }\n",
       "</style>\n",
       "<table border=\"1\" class=\"dataframe\">\n",
       "  <thead>\n",
       "    <tr style=\"text-align: right;\">\n",
       "      <th></th>\n",
       "      <th>count</th>\n",
       "      <th>mean</th>\n",
       "      <th>std</th>\n",
       "      <th>min</th>\n",
       "      <th>25%</th>\n",
       "      <th>50%</th>\n",
       "      <th>75%</th>\n",
       "      <th>max</th>\n",
       "    </tr>\n",
       "  </thead>\n",
       "  <tbody>\n",
       "    <tr>\n",
       "      <th>Amount</th>\n",
       "      <td>19367.0</td>\n",
       "      <td>59.0</td>\n",
       "      <td>69.0</td>\n",
       "      <td>16.0</td>\n",
       "      <td>22.0</td>\n",
       "      <td>33.0</td>\n",
       "      <td>63.0</td>\n",
       "      <td>1285.0</td>\n",
       "    </tr>\n",
       "  </tbody>\n",
       "</table>\n",
       "</div>"
      ],
      "text/plain": [
       "          count  mean   std   min   25%   50%   75%     max\n",
       "Amount  19367.0  59.0  69.0  16.0  22.0  33.0  63.0  1285.0"
      ]
     },
     "execution_count": 19,
     "metadata": {},
     "output_type": "execute_result"
    }
   ],
   "source": [
    "df_15.set_index('cluster_id').describe().T.round()"
   ]
  },
  {
   "cell_type": "code",
   "execution_count": 20,
   "metadata": {},
   "outputs": [
    {
     "data": {
      "text/plain": [
       "<AxesSubplot:ylabel='Frequency'>"
      ]
     },
     "execution_count": 20,
     "metadata": {},
     "output_type": "execute_result"
    },
    {
     "data": {
      "image/png": "[encoded data removed]",
      "text/plain": [
       "<Figure size 432x288 with 1 Axes>"
      ]
     },
     "metadata": {
      "needs_background": "light"
     },
     "output_type": "display_data"
    }
   ],
   "source": [
    "df_15.plot(x='cluster_id',y='Amount',kind='hist')"
   ]
  },
  {
   "cell_type": "code",
   "execution_count": 21,
   "metadata": {},
   "outputs": [
    {
     "data": {
      "text/html": [
       "<div>\n",
       "<style scoped>\n",
       "    .dataframe tbody tr th:only-of-type {\n",
       "        vertical-align: middle;\n",
       "    }\n",
       "\n",
       "    .dataframe tbody tr th {\n",
       "        vertical-align: top;\n",
       "    }\n",
       "\n",
       "    .dataframe thead th {\n",
       "        text-align: right;\n",
       "    }\n",
       "</style>\n",
       "<table border=\"1\" class=\"dataframe\">\n",
       "  <thead>\n",
       "    <tr style=\"text-align: right;\">\n",
       "      <th></th>\n",
       "      <th>cluster_id</th>\n",
       "      <th>Amount</th>\n",
       "    </tr>\n",
       "  </thead>\n",
       "  <tbody>\n",
       "    <tr>\n",
       "      <th>696</th>\n",
       "      <td>63047326</td>\n",
       "      <td>158</td>\n",
       "    </tr>\n",
       "    <tr>\n",
       "      <th>729</th>\n",
       "      <td>26085086</td>\n",
       "      <td>162</td>\n",
       "    </tr>\n",
       "    <tr>\n",
       "      <th>1001</th>\n",
       "      <td>59902335</td>\n",
       "      <td>185</td>\n",
       "    </tr>\n",
       "    <tr>\n",
       "      <th>1406</th>\n",
       "      <td>47320529</td>\n",
       "      <td>156</td>\n",
       "    </tr>\n",
       "    <tr>\n",
       "      <th>1584</th>\n",
       "      <td>24252278</td>\n",
       "      <td>176</td>\n",
       "    </tr>\n",
       "    <tr>\n",
       "      <th>...</th>\n",
       "      <td>...</td>\n",
       "      <td>...</td>\n",
       "    </tr>\n",
       "    <tr>\n",
       "      <th>1082271</th>\n",
       "      <td>5388699</td>\n",
       "      <td>172</td>\n",
       "    </tr>\n",
       "    <tr>\n",
       "      <th>1093363</th>\n",
       "      <td>63881368</td>\n",
       "      <td>174</td>\n",
       "    </tr>\n",
       "    <tr>\n",
       "      <th>1192604</th>\n",
       "      <td>40071639</td>\n",
       "      <td>154</td>\n",
       "    </tr>\n",
       "    <tr>\n",
       "      <th>1198138</th>\n",
       "      <td>72856662</td>\n",
       "      <td>202</td>\n",
       "    </tr>\n",
       "    <tr>\n",
       "      <th>1299638</th>\n",
       "      <td>35389</td>\n",
       "      <td>181</td>\n",
       "    </tr>\n",
       "  </tbody>\n",
       "</table>\n",
       "<p>1608 rows × 2 columns</p>\n",
       "</div>"
      ],
      "text/plain": [
       "        cluster_id  Amount\n",
       "696       63047326     158\n",
       "729       26085086     162\n",
       "1001      59902335     185\n",
       "1406      47320529     156\n",
       "1584      24252278     176\n",
       "...            ...     ...\n",
       "1082271    5388699     172\n",
       "1093363   63881368     174\n",
       "1192604   40071639     154\n",
       "1198138   72856662     202\n",
       "1299638      35389     181\n",
       "\n",
       "[1608 rows x 2 columns]"
      ]
     },
     "execution_count": 21,
     "metadata": {},
     "output_type": "execute_result"
    }
   ],
   "source": [
    "# filter on clusters with more entries to get information, here are still 20k clusters left\n",
    "df_150=df_set[df_set['Amount']>150]\n",
    "df_150"
   ]
  },
  {
   "cell_type": "code",
   "execution_count": 22,
   "metadata": {},
   "outputs": [
    {
     "data": {
      "text/html": [
       "<div>\n",
       "<style scoped>\n",
       "    .dataframe tbody tr th:only-of-type {\n",
       "        vertical-align: middle;\n",
       "    }\n",
       "\n",
       "    .dataframe tbody tr th {\n",
       "        vertical-align: top;\n",
       "    }\n",
       "\n",
       "    .dataframe thead th {\n",
       "        text-align: right;\n",
       "    }\n",
       "</style>\n",
       "<table border=\"1\" class=\"dataframe\">\n",
       "  <thead>\n",
       "    <tr style=\"text-align: right;\">\n",
       "      <th></th>\n",
       "      <th>count</th>\n",
       "      <th>mean</th>\n",
       "      <th>std</th>\n",
       "      <th>min</th>\n",
       "      <th>25%</th>\n",
       "      <th>50%</th>\n",
       "      <th>75%</th>\n",
       "      <th>max</th>\n",
       "    </tr>\n",
       "  </thead>\n",
       "  <tbody>\n",
       "    <tr>\n",
       "      <th>Amount</th>\n",
       "      <td>1608.0</td>\n",
       "      <td>242.0</td>\n",
       "      <td>99.0</td>\n",
       "      <td>151.0</td>\n",
       "      <td>171.0</td>\n",
       "      <td>205.0</td>\n",
       "      <td>280.0</td>\n",
       "      <td>1285.0</td>\n",
       "    </tr>\n",
       "  </tbody>\n",
       "</table>\n",
       "</div>"
      ],
      "text/plain": [
       "         count   mean   std    min    25%    50%    75%     max\n",
       "Amount  1608.0  242.0  99.0  151.0  171.0  205.0  280.0  1285.0"
      ]
     },
     "execution_count": 22,
     "metadata": {},
     "output_type": "execute_result"
    }
   ],
   "source": [
    "df_150.set_index('cluster_id').describe().T.round()"
   ]
  },
  {
   "cell_type": "code",
   "execution_count": 23,
   "metadata": {},
   "outputs": [
    {
     "data": {
      "text/plain": [
       "<AxesSubplot:ylabel='Frequency'>"
      ]
     },
     "execution_count": 23,
     "metadata": {},
     "output_type": "execute_result"
    },
    {
     "data": {
      "image/png": "[encoded data removed]",
      "text/plain": [
       "<Figure size 432x288 with 1 Axes>"
      ]
     },
     "metadata": {
      "needs_background": "light"
     },
     "output_type": "display_data"
    }
   ],
   "source": [
    "df_150.plot(x='cluster_id',y='Amount',kind='hist')"
   ]
  },
  {
   "cell_type": "code",
   "execution_count": 25,
   "metadata": {},
   "outputs": [],
   "source": [
    "df_15_500=df_15[df_15['Amount']<500]"
   ]
  },
  {
   "cell_type": "code",
   "execution_count": 27,
   "metadata": {},
   "outputs": [
    {
     "data": {
      "text/plain": [
       "<AxesSubplot:ylabel='Frequency'>"
      ]
     },
     "execution_count": 27,
     "metadata": {},
     "output_type": "execute_result"
    },
    {
     "data": {
      "image/png": "[encoded data removed]",
      "text/plain": [
       "<Figure size 432x288 with 1 Axes>"
      ]
     },
     "metadata": {
      "needs_background": "light"
     },
     "output_type": "display_data"
    }
   ],
   "source": [
    "df_15_500.plot(x='cluster_id',y='Amount',kind='hist')"
   ]
  },
  {
   "cell_type": "markdown",
   "metadata": {},
   "source": [
    "## Match the number dictionaries with the information about the brand"
   ]
  },
  {
   "cell_type": "code",
   "execution_count": 4,
   "metadata": {},
   "outputs": [],
   "source": [
    "# get dictionaries\n",
    "electronics_path = '../src/data/product/product_electronics/electronics_dict.json'\n",
    "clothes_path = '../src/data/product/product_clothes/clothes_dict.json'\n",
    "mapping_corpus_path_2 = '../src/data/product/lspc2020_to_tablecorpus/Cleaned'"
   ]
  },
  {
   "cell_type": "code",
   "execution_count": 5,
   "metadata": {},
   "outputs": [],
   "source": [
    "with open(electronics_path) as f:\n",
    "    electronics_data=json.load(f)"
   ]
  },
  {
   "cell_type": "code",
   "execution_count": 7,
   "metadata": {},
   "outputs": [],
   "source": [
    "with open(clothes_path) as f:\n",
    "    clothes_data=json.load(f)"
   ]
  },
  {
   "cell_type": "code",
   "execution_count": null,
   "metadata": {
    "scrolled": false
   },
   "outputs": [],
   "source": [
    "#clean the dictionaries by getting rid of the first key \n",
    "cleaned_dictionary_electronics={}\n",
    "for value in electronics_data.values():\n",
    "    cleaned_dictionary_electronics.update(value)"
   ]
  },
  {
   "cell_type": "code",
   "execution_count": null,
   "metadata": {},
   "outputs": [],
   "source": [
    "#clean the dictionaries by getting rid of the first key \n",
    "cleaned_dictionary_clothes={}\n",
    "for value in clothes_data.values():\n",
    "    cleaned_dictionary_clothes.update(value)"
   ]
  },
  {
   "cell_type": "code",
   "execution_count": 11,
   "metadata": {},
   "outputs": [],
   "source": [
    "#put the dictionaries into dataframes \n",
    "df_electronics=pd.DataFrame.from_dict(cleaned_dictionary_electronics, orient='index')\n",
    "df_clothes=pd.DataFrame.from_dict(cleaned_dictionary_clothes, orient='index')"
   ]
  },
  {
   "cell_type": "code",
   "execution_count": 12,
   "metadata": {
    "scrolled": true
   },
   "outputs": [
    {
     "data": {
      "text/plain": [
       "[]"
      ]
     },
     "execution_count": 12,
     "metadata": {},
     "output_type": "execute_result"
    }
   ],
   "source": [
    "#compare column names of table before and after dropping to actually get a feeling for the best products\n",
    "electronics_before_cleaning = df_electronics.index.tolist()\n",
    "#drop empty rows\n",
    "df_electronics.dropna(how='all', inplace=True)\n",
    "electronics_after_cleaning = df_electronics.index.tolist()\n",
    "list(set(electronics_before_cleaning) - set(electronics_after_cleaning))"
   ]
  },
  {
   "cell_type": "code",
   "execution_count": 13,
   "metadata": {},
   "outputs": [
    {
     "data": {
      "text/plain": [
       "[]"
      ]
     },
     "execution_count": 13,
     "metadata": {},
     "output_type": "execute_result"
    }
   ],
   "source": [
    "# get information about top 20 electronic brands by hard coding to find rows with most column content\n",
    "dataframe = pd.isna(df_electronics[82])\n",
    "newlist = dataframe[dataframe==False].index.tolist()\n",
    "newlist\n",
    "#get information about which brands to be dropped, as otherwise running time of code would be too high\n",
    "list(set(electronics_after_cleaning) - set(newlist))"
   ]
  },
  {
   "cell_type": "code",
   "execution_count": 14,
   "metadata": {},
   "outputs": [
    {
     "data": {
      "text/plain": [
       "[]"
      ]
     },
     "execution_count": 14,
     "metadata": {},
     "output_type": "execute_result"
    }
   ],
   "source": [
    "# get information about top 20 clothes brands by hard coding to find rows with most column content\n",
    "clothes_before_cleaning = df_clothes.index.tolist()\n",
    "dataframe = pd.isna(df_clothes[150])\n",
    "new_list_clothes = dataframe[dataframe==False].index.tolist()\n",
    "new_list_clothes\n",
    "#get information about which brands to be dropped, as otherwise running time of code would be too high\n",
    "list(set(clothes_before_cleaning) - set(new_list_clothes))"
   ]
  },
  {
   "cell_type": "code",
   "execution_count": 15,
   "metadata": {},
   "outputs": [
    {
     "name": "stdout",
     "output_type": "stream",
     "text": [
      "/map_to_tables_35.json.gz\n"
     ]
    },
    {
     "name": "stderr",
     "output_type": "stream",
     "text": [
      "\r",
      "  0% (0 of 359) |                        | Elapsed Time: 0:00:00 ETA:  --:--:--"
     ]
    },
    {
     "name": "stdout",
     "output_type": "stream",
     "text": [
      "/map_to_tables_279.json.gz\n"
     ]
    },
    {
     "name": "stderr",
     "output_type": "stream",
     "text": [
      "\r",
      "  0% (2 of 359) |                        | Elapsed Time: 0:00:00 ETA:   0:01:45"
     ]
    },
    {
     "name": "stdout",
     "output_type": "stream",
     "text": [
      "/map_to_tables_223.json.gz\n"
     ]
    },
    {
     "name": "stderr",
     "output_type": "stream",
     "text": [
      "\r",
      "  0% (3 of 359) |                        | Elapsed Time: 0:00:00 ETA:   0:01:46"
     ]
    },
    {
     "name": "stdout",
     "output_type": "stream",
     "text": [
      "/map_to_tables_182.json.gz\n"
     ]
    },
    {
     "name": "stderr",
     "output_type": "stream",
     "text": [
      "\r",
      "  1% (4 of 359) |                        | Elapsed Time: 0:00:01 ETA:   0:02:03"
     ]
    },
    {
     "name": "stdout",
     "output_type": "stream",
     "text": [
      "/map_to_tables_88.json.gz\n"
     ]
    },
    {
     "name": "stderr",
     "output_type": "stream",
     "text": [
      "\r",
      "  1% (5 of 359) |                        | Elapsed Time: 0:00:01 ETA:   0:01:57"
     ]
    },
    {
     "name": "stdout",
     "output_type": "stream",
     "text": [
      "/map_to_tables_27.json.gz\n"
     ]
    },
    {
     "name": "stderr",
     "output_type": "stream",
     "text": [
      "\r",
      "  1% (6 of 359) |                        | Elapsed Time: 0:00:01 ETA:   0:01:54"
     ]
    },
    {
     "name": "stdout",
     "output_type": "stream",
     "text": [
      "/map_to_tables_166.json.gz\n"
     ]
    },
    {
     "name": "stderr",
     "output_type": "stream",
     "text": [
      "\r",
      "  1% (7 of 359) |                        | Elapsed Time: 0:00:02 ETA:   0:01:54"
     ]
    },
    {
     "name": "stdout",
     "output_type": "stream",
     "text": [
      "/map_to_tables_321.json.gz\n"
     ]
    },
    {
     "name": "stderr",
     "output_type": "stream",
     "text": [
      "\r",
      "  2% (8 of 359) |                        | Elapsed Time: 0:00:02 ETA:   0:01:52"
     ]
    },
    {
     "name": "stdout",
     "output_type": "stream",
     "text": [
      "/map_to_tables_334.json.gz\n"
     ]
    },
    {
     "name": "stderr",
     "output_type": "stream",
     "text": [
      "\r",
      "  2% (9 of 359) |                        | Elapsed Time: 0:00:03 ETA:   0:02:07"
     ]
    },
    {
     "name": "stdout",
     "output_type": "stream",
     "text": [
      "/map_to_tables_211.json.gz\n"
     ]
    },
    {
     "name": "stderr",
     "output_type": "stream",
     "text": [
      "\r",
      "  2% (10 of 359) |                       | Elapsed Time: 0:00:03 ETA:   0:01:58"
     ]
    },
    {
     "name": "stdout",
     "output_type": "stream",
     "text": [
      "/map_to_tables_121.json.gz\n"
     ]
    },
    {
     "name": "stderr",
     "output_type": "stream",
     "text": [
      "\r",
      "  3% (11 of 359) |                       | Elapsed Time: 0:00:03 ETA:   0:01:59"
     ]
    },
    {
     "name": "stdout",
     "output_type": "stream",
     "text": [
      "/map_to_tables_104.json.gz\n"
     ]
    },
    {
     "name": "stderr",
     "output_type": "stream",
     "text": [
      "\r",
      "  3% (12 of 359) |                       | Elapsed Time: 0:00:04 ETA:   0:01:58"
     ]
    },
    {
     "name": "stdout",
     "output_type": "stream",
     "text": [
      "/map_to_tables_225.json.gz\n"
     ]
    },
    {
     "name": "stderr",
     "output_type": "stream",
     "text": [
      "\r",
      "  3% (13 of 359) |                       | Elapsed Time: 0:00:04 ETA:   0:01:56"
     ]
    },
    {
     "name": "stdout",
     "output_type": "stream",
     "text": [
      "/map_to_tables_76.json.gz\n"
     ]
    },
    {
     "name": "stderr",
     "output_type": "stream",
     "text": [
      "\r",
      "  3% (14 of 359) |                       | Elapsed Time: 0:00:04 ETA:   0:01:57"
     ]
    },
    {
     "name": "stdout",
     "output_type": "stream",
     "text": [
      "/map_to_tables_150.json.gz\n"
     ]
    },
    {
     "name": "stderr",
     "output_type": "stream",
     "text": [
      "\r",
      "  4% (15 of 359) |                       | Elapsed Time: 0:00:04 ETA:   0:01:54"
     ]
    },
    {
     "name": "stdout",
     "output_type": "stream",
     "text": [
      "/map_to_tables_160.json.gz\n"
     ]
    },
    {
     "name": "stderr",
     "output_type": "stream",
     "text": [
      "\r",
      "  4% (16 of 359) |#                      | Elapsed Time: 0:00:05 ETA:   0:01:43"
     ]
    },
    {
     "name": "stdout",
     "output_type": "stream",
     "text": [
      "/map_to_tables_136.json.gz\n"
     ]
    },
    {
     "name": "stderr",
     "output_type": "stream",
     "text": [
      "\r",
      "  4% (17 of 359) |#                      | Elapsed Time: 0:00:05 ETA:   0:01:41"
     ]
    },
    {
     "name": "stdout",
     "output_type": "stream",
     "text": [
      "/map_to_tables_254.json.gz\n"
     ]
    },
    {
     "name": "stderr",
     "output_type": "stream",
     "text": [
      "\r",
      "  5% (18 of 359) |#                      | Elapsed Time: 0:00:06 ETA:   0:01:55"
     ]
    },
    {
     "name": "stdout",
     "output_type": "stream",
     "text": [
      "/map_to_tables_128.json.gz\n"
     ]
    },
    {
     "name": "stderr",
     "output_type": "stream",
     "text": [
      "\r",
      "  5% (19 of 359) |#                      | Elapsed Time: 0:00:06 ETA:   0:02:07"
     ]
    },
    {
     "name": "stdout",
     "output_type": "stream",
     "text": [
      "/map_to_tables_147.json.gz\n"
     ]
    },
    {
     "name": "stderr",
     "output_type": "stream",
     "text": [
      "\r",
      "  5% (20 of 359) |#                      | Elapsed Time: 0:00:07 ETA:   0:02:26"
     ]
    },
    {
     "name": "stdout",
     "output_type": "stream",
     "text": [
      "/map_to_tables_188.json.gz\n"
     ]
    },
    {
     "name": "stderr",
     "output_type": "stream",
     "text": [
      "\r",
      "  5% (21 of 359) |#                      | Elapsed Time: 0:00:07 ETA:   0:02:52"
     ]
    },
    {
     "name": "stdout",
     "output_type": "stream",
     "text": [
      "/map_to_tables_24.json.gz\n"
     ]
    },
    {
     "name": "stderr",
     "output_type": "stream",
     "text": [
      "\r",
      "  6% (22 of 359) |#                      | Elapsed Time: 0:00:08 ETA:   0:02:51"
     ]
    },
    {
     "name": "stdout",
     "output_type": "stream",
     "text": [
      "/map_to_tables_41.json.gz\n"
     ]
    },
    {
     "name": "stderr",
     "output_type": "stream",
     "text": [
      "\r",
      "  6% (23 of 359) |#                      | Elapsed Time: 0:00:08 ETA:   0:02:33"
     ]
    },
    {
     "name": "stdout",
     "output_type": "stream",
     "text": [
      "/map_to_tables_165.json.gz\n"
     ]
    },
    {
     "name": "stderr",
     "output_type": "stream",
     "text": [
      "\r",
      "  6% (24 of 359) |#                      | Elapsed Time: 0:00:08 ETA:   0:02:18"
     ]
    },
    {
     "name": "stdout",
     "output_type": "stream",
     "text": [
      "/map_to_tables_43.json.gz\n"
     ]
    },
    {
     "name": "stderr",
     "output_type": "stream",
     "text": [
      "\r",
      "  6% (25 of 359) |#                      | Elapsed Time: 0:00:08 ETA:   0:02:10"
     ]
    },
    {
     "name": "stdout",
     "output_type": "stream",
     "text": [
      "/map_to_tables_174.json.gz\n"
     ]
    },
    {
     "name": "stderr",
     "output_type": "stream",
     "text": [
      "\r",
      "  7% (26 of 359) |#                      | Elapsed Time: 0:00:09 ETA:   0:01:57"
     ]
    },
    {
     "name": "stdout",
     "output_type": "stream",
     "text": [
      "/map_to_tables_288.json.gz\n"
     ]
    },
    {
     "name": "stderr",
     "output_type": "stream",
     "text": [
      "\r",
      "  7% (27 of 359) |#                      | Elapsed Time: 0:00:09 ETA:   0:01:54"
     ]
    },
    {
     "name": "stdout",
     "output_type": "stream",
     "text": [
      "/map_to_tables_261.json.gz\n"
     ]
    },
    {
     "name": "stderr",
     "output_type": "stream",
     "text": [
      "\r",
      "  7% (28 of 359) |#                      | Elapsed Time: 0:00:09 ETA:   0:01:55"
     ]
    },
    {
     "name": "stdout",
     "output_type": "stream",
     "text": [
      "/map_to_tables_33.json.gz\n"
     ]
    },
    {
     "name": "stderr",
     "output_type": "stream",
     "text": [
      "\r",
      "  8% (29 of 359) |#                      | Elapsed Time: 0:00:10 ETA:   0:01:59"
     ]
    },
    {
     "name": "stdout",
     "output_type": "stream",
     "text": [
      "/map_to_tables_197.json.gz\n"
     ]
    },
    {
     "name": "stderr",
     "output_type": "stream",
     "text": [
      "\r",
      "  8% (30 of 359) |#                      | Elapsed Time: 0:00:10 ETA:   0:02:00"
     ]
    },
    {
     "name": "stdout",
     "output_type": "stream",
     "text": [
      "/map_to_tables_291.json.gz\n"
     ]
    },
    {
     "name": "stderr",
     "output_type": "stream",
     "text": [
      "\r",
      "  8% (31 of 359) |#                      | Elapsed Time: 0:00:11 ETA:   0:02:02"
     ]
    },
    {
     "name": "stdout",
     "output_type": "stream",
     "text": [
      "/map_to_tables_155.json.gz\n"
     ]
    },
    {
     "name": "stderr",
     "output_type": "stream",
     "text": [
      "\r",
      "  8% (32 of 359) |##                     | Elapsed Time: 0:00:11 ETA:   0:02:23"
     ]
    },
    {
     "name": "stdout",
     "output_type": "stream",
     "text": [
      "/map_to_tables_149.json.gz\n"
     ]
    },
    {
     "name": "stderr",
     "output_type": "stream",
     "text": [
      "\r",
      "  9% (33 of 359) |##                     | Elapsed Time: 0:00:12 ETA:   0:02:27"
     ]
    },
    {
     "name": "stdout",
     "output_type": "stream",
     "text": [
      "/map_to_tables_186.json.gz\n"
     ]
    },
    {
     "name": "stderr",
     "output_type": "stream",
     "text": [
      "\r",
      "  9% (34 of 359) |##                     | Elapsed Time: 0:00:12 ETA:   0:02:13"
     ]
    },
    {
     "name": "stdout",
     "output_type": "stream",
     "text": [
      "/map_to_tables_183.json.gz\n"
     ]
    },
    {
     "name": "stderr",
     "output_type": "stream",
     "text": [
      "\r",
      "  9% (35 of 359) |##                     | Elapsed Time: 0:00:13 ETA:   0:02:27"
     ]
    },
    {
     "name": "stdout",
     "output_type": "stream",
     "text": [
      "/map_to_tables_153.json.gz\n"
     ]
    },
    {
     "name": "stderr",
     "output_type": "stream",
     "text": [
      "\r",
      " 10% (36 of 359) |##                     | Elapsed Time: 0:00:13 ETA:   0:02:39"
     ]
    },
    {
     "name": "stdout",
     "output_type": "stream",
     "text": [
      "/map_to_tables_168.json.gz\n"
     ]
    },
    {
     "name": "stderr",
     "output_type": "stream",
     "text": [
      "\r",
      " 10% (37 of 359) |##                     | Elapsed Time: 0:00:14 ETA:   0:02:35"
     ]
    },
    {
     "name": "stdout",
     "output_type": "stream",
     "text": [
      "/map_to_tables_18.json.gz\n"
     ]
    },
    {
     "name": "stderr",
     "output_type": "stream",
     "text": [
      "\r",
      " 10% (38 of 359) |##                     | Elapsed Time: 0:00:14 ETA:   0:02:42"
     ]
    },
    {
     "name": "stdout",
     "output_type": "stream",
     "text": [
      "/map_to_tables_343.json.gz\n"
     ]
    },
    {
     "name": "stderr",
     "output_type": "stream",
     "text": [
      "\r",
      " 10% (39 of 359) |##                     | Elapsed Time: 0:00:15 ETA:   0:02:40"
     ]
    },
    {
     "name": "stdout",
     "output_type": "stream",
     "text": [
      "/map_to_tables_355.json.gz\n"
     ]
    },
    {
     "name": "stderr",
     "output_type": "stream",
     "text": [
      "\r",
      " 11% (40 of 359) |##                     | Elapsed Time: 0:00:15 ETA:   0:02:26"
     ]
    },
    {
     "name": "stdout",
     "output_type": "stream",
     "text": [
      "/map_to_tables_270.json.gz\n"
     ]
    },
    {
     "name": "stderr",
     "output_type": "stream",
     "text": [
      "\r",
      " 11% (41 of 359) |##                     | Elapsed Time: 0:00:15 ETA:   0:02:26"
     ]
    },
    {
     "name": "stdout",
     "output_type": "stream",
     "text": [
      "/map_to_tables_130.json.gz\n"
     ]
    },
    {
     "name": "stderr",
     "output_type": "stream",
     "text": [
      "\r",
      " 11% (42 of 359) |##                     | Elapsed Time: 0:00:16 ETA:   0:02:13"
     ]
    },
    {
     "name": "stdout",
     "output_type": "stream",
     "text": [
      "/map_to_tables_98.json.gz\n"
     ]
    },
    {
     "name": "stderr",
     "output_type": "stream",
     "text": [
      "\r",
      " 11% (43 of 359) |##                     | Elapsed Time: 0:00:16 ETA:   0:02:05"
     ]
    },
    {
     "name": "stdout",
     "output_type": "stream",
     "text": [
      "/map_to_tables_55.json.gz\n"
     ]
    },
    {
     "name": "stderr",
     "output_type": "stream",
     "text": [
      "\r",
      " 12% (44 of 359) |##                     | Elapsed Time: 0:00:16 ETA:   0:01:54"
     ]
    },
    {
     "name": "stdout",
     "output_type": "stream",
     "text": [
      "/map_to_tables_306.json.gz\n"
     ]
    },
    {
     "name": "stderr",
     "output_type": "stream",
     "text": [
      "\r",
      " 12% (45 of 359) |##                     | Elapsed Time: 0:00:17 ETA:   0:01:51"
     ]
    },
    {
     "name": "stdout",
     "output_type": "stream",
     "text": [
      "/map_to_tables_207.json.gz\n"
     ]
    },
    {
     "name": "stderr",
     "output_type": "stream",
     "text": [
      "\r",
      " 12% (46 of 359) |##                     | Elapsed Time: 0:00:17 ETA:   0:01:55"
     ]
    },
    {
     "name": "stdout",
     "output_type": "stream",
     "text": [
      "/map_to_tables_77.json.gz\n"
     ]
    },
    {
     "name": "stderr",
     "output_type": "stream",
     "text": [
      "\r",
      " 13% (47 of 359) |###                    | Elapsed Time: 0:00:17 ETA:   0:01:45"
     ]
    },
    {
     "name": "stdout",
     "output_type": "stream",
     "text": [
      "/map_to_tables_212.json.gz\n"
     ]
    },
    {
     "name": "stderr",
     "output_type": "stream",
     "text": [
      "\r",
      " 13% (48 of 359) |###                    | Elapsed Time: 0:00:18 ETA:   0:01:44"
     ]
    },
    {
     "name": "stdout",
     "output_type": "stream",
     "text": [
      "/map_to_tables_92.json.gz\n"
     ]
    },
    {
     "name": "stderr",
     "output_type": "stream",
     "text": [
      "\r",
      " 13% (49 of 359) |###                    | Elapsed Time: 0:00:18 ETA:   0:01:44"
     ]
    },
    {
     "name": "stdout",
     "output_type": "stream",
     "text": [
      "/map_to_tables_352.json.gz\n"
     ]
    },
    {
     "name": "stderr",
     "output_type": "stream",
     "text": [
      "\r",
      " 13% (50 of 359) |###                    | Elapsed Time: 0:00:18 ETA:   0:01:54"
     ]
    },
    {
     "name": "stdout",
     "output_type": "stream",
     "text": [
      "/map_to_tables_69.json.gz\n"
     ]
    },
    {
     "name": "stderr",
     "output_type": "stream",
     "text": [
      "\r",
      " 14% (51 of 359) |###                    | Elapsed Time: 0:00:19 ETA:   0:01:55"
     ]
    },
    {
     "name": "stdout",
     "output_type": "stream",
     "text": [
      "/map_to_tables_213.json.gz\n"
     ]
    },
    {
     "name": "stderr",
     "output_type": "stream",
     "text": [
      "\r",
      " 14% (52 of 359) |###                    | Elapsed Time: 0:00:19 ETA:   0:01:54"
     ]
    },
    {
     "name": "stdout",
     "output_type": "stream",
     "text": [
      "/map_to_tables_79.json.gz\n"
     ]
    },
    {
     "name": "stderr",
     "output_type": "stream",
     "text": [
      "\r",
      " 14% (53 of 359) |###                    | Elapsed Time: 0:00:20 ETA:   0:01:54"
     ]
    },
    {
     "name": "stdout",
     "output_type": "stream",
     "text": [
      "/map_to_tables_287.json.gz\n"
     ]
    },
    {
     "name": "stderr",
     "output_type": "stream",
     "text": [
      "\r",
      " 15% (54 of 359) |###                    | Elapsed Time: 0:00:20 ETA:   0:01:54"
     ]
    },
    {
     "name": "stdout",
     "output_type": "stream",
     "text": [
      "/map_to_tables_269.json.gz\n"
     ]
    },
    {
     "name": "stderr",
     "output_type": "stream",
     "text": [
      "\r",
      " 15% (55 of 359) |###                    | Elapsed Time: 0:00:20 ETA:   0:02:06"
     ]
    },
    {
     "name": "stdout",
     "output_type": "stream",
     "text": [
      "/map_to_tables_313.json.gz\n"
     ]
    },
    {
     "name": "stderr",
     "output_type": "stream",
     "text": [
      "\r",
      " 15% (56 of 359) |###                    | Elapsed Time: 0:00:21 ETA:   0:02:12"
     ]
    },
    {
     "name": "stdout",
     "output_type": "stream",
     "text": [
      "/map_to_tables_286.json.gz\n"
     ]
    },
    {
     "name": "stderr",
     "output_type": "stream",
     "text": [
      "\r",
      " 15% (57 of 359) |###                    | Elapsed Time: 0:00:21 ETA:   0:02:04"
     ]
    },
    {
     "name": "stdout",
     "output_type": "stream",
     "text": [
      "/map_to_tables_132.json.gz\n"
     ]
    },
    {
     "name": "stderr",
     "output_type": "stream",
     "text": [
      "\r",
      " 16% (58 of 359) |###                    | Elapsed Time: 0:00:22 ETA:   0:01:53"
     ]
    },
    {
     "name": "stdout",
     "output_type": "stream",
     "text": [
      "/map_to_tables_200.json.gz\n"
     ]
    },
    {
     "name": "stderr",
     "output_type": "stream",
     "text": [
      "\r",
      " 16% (59 of 359) |###                    | Elapsed Time: 0:00:22 ETA:   0:01:52"
     ]
    },
    {
     "name": "stdout",
     "output_type": "stream",
     "text": [
      "/map_to_tables_323.json.gz\n"
     ]
    },
    {
     "name": "stderr",
     "output_type": "stream",
     "text": [
      "\r",
      " 16% (60 of 359) |###                    | Elapsed Time: 0:00:22 ETA:   0:01:52"
     ]
    },
    {
     "name": "stdout",
     "output_type": "stream",
     "text": [
      "/map_to_tables_102.json.gz\n"
     ]
    },
    {
     "name": "stderr",
     "output_type": "stream",
     "text": [
      "\r",
      " 16% (61 of 359) |###                    | Elapsed Time: 0:00:23 ETA:   0:01:40"
     ]
    },
    {
     "name": "stdout",
     "output_type": "stream",
     "text": [
      "/map_to_tables_161.json.gz\n"
     ]
    },
    {
     "name": "stderr",
     "output_type": "stream",
     "text": [
      "\r",
      " 17% (62 of 359) |###                    | Elapsed Time: 0:00:23 ETA:   0:01:38"
     ]
    },
    {
     "name": "stdout",
     "output_type": "stream",
     "text": [
      "/map_to_tables_5.json.gz\n"
     ]
    },
    {
     "name": "stderr",
     "output_type": "stream",
     "text": [
      "\r",
      " 17% (63 of 359) |####                   | Elapsed Time: 0:00:23 ETA:   0:01:29"
     ]
    },
    {
     "name": "stdout",
     "output_type": "stream",
     "text": [
      "/map_to_tables_278.json.gz\n"
     ]
    },
    {
     "name": "stderr",
     "output_type": "stream",
     "text": [
      "\r",
      " 17% (64 of 359) |####                   | Elapsed Time: 0:00:24 ETA:   0:01:40"
     ]
    },
    {
     "name": "stdout",
     "output_type": "stream",
     "text": [
      "/map_to_tables_325.json.gz\n"
     ]
    },
    {
     "name": "stderr",
     "output_type": "stream",
     "text": [
      "\r",
      " 18% (65 of 359) |####                   | Elapsed Time: 0:00:24 ETA:   0:01:40"
     ]
    },
    {
     "name": "stdout",
     "output_type": "stream",
     "text": [
      "/map_to_tables_96.json.gz\n"
     ]
    },
    {
     "name": "stderr",
     "output_type": "stream",
     "text": [
      "\r",
      " 18% (66 of 359) |####                   | Elapsed Time: 0:00:24 ETA:   0:01:39"
     ]
    },
    {
     "name": "stdout",
     "output_type": "stream",
     "text": [
      "/map_to_tables_297.json.gz\n"
     ]
    },
    {
     "name": "stderr",
     "output_type": "stream",
     "text": [
      "\r",
      " 18% (67 of 359) |####                   | Elapsed Time: 0:00:25 ETA:   0:01:50"
     ]
    },
    {
     "name": "stdout",
     "output_type": "stream",
     "text": [
      "/map_to_tables_53.json.gz\n"
     ]
    },
    {
     "name": "stderr",
     "output_type": "stream",
     "text": [
      "\r",
      " 18% (68 of 359) |####                   | Elapsed Time: 0:00:25 ETA:   0:01:51"
     ]
    },
    {
     "name": "stdout",
     "output_type": "stream",
     "text": [
      "/map_to_tables_218.json.gz\n"
     ]
    },
    {
     "name": "stderr",
     "output_type": "stream",
     "text": [
      "\r",
      " 19% (69 of 359) |####                   | Elapsed Time: 0:00:26 ETA:   0:02:00"
     ]
    },
    {
     "name": "stdout",
     "output_type": "stream",
     "text": [
      "/map_to_tables_359.json.gz\n"
     ]
    },
    {
     "name": "stderr",
     "output_type": "stream",
     "text": [
      "\r",
      " 19% (70 of 359) |####                   | Elapsed Time: 0:00:26 ETA:   0:01:50"
     ]
    },
    {
     "name": "stdout",
     "output_type": "stream",
     "text": [
      "/map_to_tables_74.json.gz\n"
     ]
    },
    {
     "name": "stderr",
     "output_type": "stream",
     "text": [
      "\r",
      " 19% (71 of 359) |####                   | Elapsed Time: 0:00:26 ETA:   0:01:49"
     ]
    },
    {
     "name": "stdout",
     "output_type": "stream",
     "text": [
      "/map_to_tables_342.json.gz\n"
     ]
    },
    {
     "name": "stderr",
     "output_type": "stream",
     "text": [
      "\r",
      " 20% (72 of 359) |####                   | Elapsed Time: 0:00:27 ETA:   0:01:49"
     ]
    },
    {
     "name": "stdout",
     "output_type": "stream",
     "text": [
      "/map_to_tables_151.json.gz\n"
     ]
    },
    {
     "name": "stderr",
     "output_type": "stream",
     "text": [
      "\r",
      " 20% (73 of 359) |####                   | Elapsed Time: 0:00:27 ETA:   0:01:37"
     ]
    },
    {
     "name": "stdout",
     "output_type": "stream",
     "text": [
      "/map_to_tables_101.json.gz\n"
     ]
    },
    {
     "name": "stderr",
     "output_type": "stream",
     "text": [
      "\r",
      " 20% (74 of 359) |####                   | Elapsed Time: 0:00:27 ETA:   0:01:37"
     ]
    },
    {
     "name": "stdout",
     "output_type": "stream",
     "text": [
      "/map_to_tables_241.json.gz\n"
     ]
    },
    {
     "name": "stderr",
     "output_type": "stream",
     "text": [
      "\r",
      " 20% (75 of 359) |####                   | Elapsed Time: 0:00:28 ETA:   0:01:36"
     ]
    },
    {
     "name": "stdout",
     "output_type": "stream",
     "text": [
      "/map_to_tables_308.json.gz\n"
     ]
    },
    {
     "name": "stderr",
     "output_type": "stream",
     "text": [
      "\r",
      " 21% (76 of 359) |####                   | Elapsed Time: 0:00:28 ETA:   0:01:46"
     ]
    },
    {
     "name": "stdout",
     "output_type": "stream",
     "text": [
      "/map_to_tables_326.json.gz\n"
     ]
    },
    {
     "name": "stderr",
     "output_type": "stream",
     "text": [
      "\r",
      " 21% (77 of 359) |####                   | Elapsed Time: 0:00:29 ETA:   0:02:02"
     ]
    },
    {
     "name": "stdout",
     "output_type": "stream",
     "text": [
      "/map_to_tables_158.json.gz\n"
     ]
    },
    {
     "name": "stderr",
     "output_type": "stream",
     "text": [
      "\r",
      " 21% (78 of 359) |####                   | Elapsed Time: 0:00:29 ETA:   0:02:04"
     ]
    },
    {
     "name": "stdout",
     "output_type": "stream",
     "text": [
      "/map_to_tables_143.json.gz\n"
     ]
    },
    {
     "name": "stderr",
     "output_type": "stream",
     "text": [
      "\r",
      " 22% (79 of 359) |#####                  | Elapsed Time: 0:00:30 ETA:   0:02:14"
     ]
    },
    {
     "name": "stdout",
     "output_type": "stream",
     "text": [
      "/map_to_tables_240.json.gz\n"
     ]
    },
    {
     "name": "stderr",
     "output_type": "stream",
     "text": [
      "\r",
      " 22% (80 of 359) |#####                  | Elapsed Time: 0:00:30 ETA:   0:02:02"
     ]
    },
    {
     "name": "stdout",
     "output_type": "stream",
     "text": [
      "/map_to_tables_318.json.gz\n"
     ]
    },
    {
     "name": "stderr",
     "output_type": "stream",
     "text": [
      "\r",
      " 22% (81 of 359) |#####                  | Elapsed Time: 0:00:30 ETA:   0:01:56"
     ]
    },
    {
     "name": "stdout",
     "output_type": "stream",
     "text": [
      "/map_to_tables_124.json.gz\n"
     ]
    },
    {
     "name": "stderr",
     "output_type": "stream",
     "text": [
      "\r",
      " 22% (82 of 359) |#####                  | Elapsed Time: 0:00:31 ETA:   0:01:55"
     ]
    },
    {
     "name": "stdout",
     "output_type": "stream",
     "text": [
      "/map_to_tables_81.json.gz\n"
     ]
    },
    {
     "name": "stderr",
     "output_type": "stream",
     "text": [
      "\r",
      " 23% (83 of 359) |#####                  | Elapsed Time: 0:00:31 ETA:   0:01:44"
     ]
    },
    {
     "name": "stdout",
     "output_type": "stream",
     "text": [
      "/map_to_tables_332.json.gz\n"
     ]
    },
    {
     "name": "stderr",
     "output_type": "stream",
     "text": [
      "\r",
      " 23% (84 of 359) |#####                  | Elapsed Time: 0:00:31 ETA:   0:01:44"
     ]
    },
    {
     "name": "stdout",
     "output_type": "stream",
     "text": [
      "/map_to_tables_252.json.gz\n"
     ]
    },
    {
     "name": "stderr",
     "output_type": "stream",
     "text": [
      "\r",
      " 23% (85 of 359) |#####                  | Elapsed Time: 0:00:32 ETA:   0:01:44"
     ]
    },
    {
     "name": "stdout",
     "output_type": "stream",
     "text": [
      "/map_to_tables_118.json.gz\n"
     ]
    },
    {
     "name": "stderr",
     "output_type": "stream",
     "text": [
      "\r",
      " 23% (86 of 359) |#####                  | Elapsed Time: 0:00:32 ETA:   0:01:43"
     ]
    },
    {
     "name": "stdout",
     "output_type": "stream",
     "text": [
      "/map_to_tables_80.json.gz\n"
     ]
    },
    {
     "name": "stderr",
     "output_type": "stream",
     "text": [
      "\r",
      " 24% (87 of 359) |#####                  | Elapsed Time: 0:00:32 ETA:   0:01:41"
     ]
    },
    {
     "name": "stdout",
     "output_type": "stream",
     "text": [
      "/map_to_tables_320.json.gz\n"
     ]
    },
    {
     "name": "stderr",
     "output_type": "stream",
     "text": [
      "\r",
      " 24% (88 of 359) |#####                  | Elapsed Time: 0:00:33 ETA:   0:01:31"
     ]
    },
    {
     "name": "stdout",
     "output_type": "stream",
     "text": [
      "/map_to_tables_172.json.gz\n"
     ]
    },
    {
     "name": "stderr",
     "output_type": "stream",
     "text": [
      "\r",
      " 24% (89 of 359) |#####                  | Elapsed Time: 0:00:33 ETA:   0:01:31"
     ]
    },
    {
     "name": "stdout",
     "output_type": "stream",
     "text": [
      "/map_to_tables_285.json.gz\n"
     ]
    },
    {
     "name": "stderr",
     "output_type": "stream",
     "text": [
      "\r",
      " 25% (90 of 359) |#####                  | Elapsed Time: 0:00:34 ETA:   0:01:40"
     ]
    },
    {
     "name": "stdout",
     "output_type": "stream",
     "text": [
      "/map_to_tables_135.json.gz\n"
     ]
    },
    {
     "name": "stderr",
     "output_type": "stream",
     "text": [
      "\r",
      " 25% (91 of 359) |#####                  | Elapsed Time: 0:00:34 ETA:   0:01:30"
     ]
    },
    {
     "name": "stdout",
     "output_type": "stream",
     "text": [
      "/map_to_tables_199.json.gz\n"
     ]
    },
    {
     "name": "stderr",
     "output_type": "stream",
     "text": [
      "\r",
      " 25% (92 of 359) |#####                  | Elapsed Time: 0:00:34 ETA:   0:01:38"
     ]
    },
    {
     "name": "stdout",
     "output_type": "stream",
     "text": [
      "/map_to_tables_11.json.gz\n"
     ]
    },
    {
     "name": "stderr",
     "output_type": "stream",
     "text": [
      "\r",
      " 25% (93 of 359) |#####                  | Elapsed Time: 0:00:35 ETA:   0:01:54"
     ]
    },
    {
     "name": "stdout",
     "output_type": "stream",
     "text": [
      "/map_to_tables_38.json.gz\n"
     ]
    },
    {
     "name": "stderr",
     "output_type": "stream",
     "text": [
      "\r",
      " 26% (94 of 359) |######                 | Elapsed Time: 0:00:35 ETA:   0:02:05"
     ]
    },
    {
     "name": "stdout",
     "output_type": "stream",
     "text": [
      "/map_to_tables_273.json.gz\n"
     ]
    },
    {
     "name": "stderr",
     "output_type": "stream",
     "text": [
      "\r",
      " 26% (95 of 359) |######                 | Elapsed Time: 0:00:36 ETA:   0:01:51"
     ]
    },
    {
     "name": "stdout",
     "output_type": "stream",
     "text": [
      "/map_to_tables_47.json.gz\n"
     ]
    },
    {
     "name": "stderr",
     "output_type": "stream",
     "text": [
      "\r",
      " 26% (96 of 359) |######                 | Elapsed Time: 0:00:36 ETA:   0:02:02"
     ]
    },
    {
     "name": "stdout",
     "output_type": "stream",
     "text": [
      "/map_to_tables_70.json.gz\n"
     ]
    },
    {
     "name": "stderr",
     "output_type": "stream",
     "text": [
      "\r",
      " 27% (97 of 359) |######                 | Elapsed Time: 0:00:36 ETA:   0:01:51"
     ]
    },
    {
     "name": "stdout",
     "output_type": "stream",
     "text": [
      "/map_to_tables_181.json.gz\n"
     ]
    },
    {
     "name": "stderr",
     "output_type": "stream",
     "text": [
      "\r",
      " 27% (98 of 359) |######                 | Elapsed Time: 0:00:37 ETA:   0:01:45"
     ]
    },
    {
     "name": "stdout",
     "output_type": "stream",
     "text": [
      "/map_to_tables_202.json.gz\n"
     ]
    },
    {
     "name": "stderr",
     "output_type": "stream",
     "text": [
      "\r",
      " 27% (99 of 359) |######                 | Elapsed Time: 0:00:37 ETA:   0:01:36"
     ]
    },
    {
     "name": "stdout",
     "output_type": "stream",
     "text": [
      "/map_to_tables_108.json.gz\n"
     ]
    },
    {
     "name": "stderr",
     "output_type": "stream",
     "text": [
      "\r",
      " 27% (100 of 359) |######                | Elapsed Time: 0:00:37 ETA:   0:01:32"
     ]
    },
    {
     "name": "stdout",
     "output_type": "stream",
     "text": [
      "/map_to_tables_8.json.gz\n"
     ]
    },
    {
     "name": "stderr",
     "output_type": "stream",
     "text": [
      "\r",
      " 28% (101 of 359) |######                | Elapsed Time: 0:00:38 ETA:   0:01:24"
     ]
    },
    {
     "name": "stdout",
     "output_type": "stream",
     "text": [
      "/map_to_tables_242.json.gz\n"
     ]
    },
    {
     "name": "stderr",
     "output_type": "stream",
     "text": [
      "\r",
      " 28% (102 of 359) |######                | Elapsed Time: 0:00:38 ETA:   0:01:24"
     ]
    },
    {
     "name": "stdout",
     "output_type": "stream",
     "text": [
      "/map_to_tables_290.json.gz\n"
     ]
    },
    {
     "name": "stderr",
     "output_type": "stream",
     "text": [
      "\r",
      " 28% (103 of 359) |######                | Elapsed Time: 0:00:38 ETA:   0:01:16"
     ]
    },
    {
     "name": "stdout",
     "output_type": "stream",
     "text": [
      "/map_to_tables_239.json.gz\n"
     ]
    },
    {
     "name": "stderr",
     "output_type": "stream",
     "text": [
      "\r",
      " 28% (104 of 359) |######                | Elapsed Time: 0:00:39 ETA:   0:01:25"
     ]
    },
    {
     "name": "stdout",
     "output_type": "stream",
     "text": [
      "/map_to_tables_176.json.gz\n"
     ]
    },
    {
     "name": "stderr",
     "output_type": "stream",
     "text": [
      "\r",
      " 29% (105 of 359) |######                | Elapsed Time: 0:00:39 ETA:   0:01:24"
     ]
    },
    {
     "name": "stdout",
     "output_type": "stream",
     "text": [
      "/map_to_tables_137.json.gz\n"
     ]
    },
    {
     "name": "stderr",
     "output_type": "stream",
     "text": [
      "\r",
      " 29% (106 of 359) |######                | Elapsed Time: 0:00:39 ETA:   0:01:22"
     ]
    },
    {
     "name": "stdout",
     "output_type": "stream",
     "text": [
      "/map_to_tables_303.json.gz\n"
     ]
    },
    {
     "name": "stderr",
     "output_type": "stream",
     "text": [
      "\r",
      " 29% (107 of 359) |######                | Elapsed Time: 0:00:40 ETA:   0:01:32"
     ]
    },
    {
     "name": "stdout",
     "output_type": "stream",
     "text": [
      "/map_to_tables_184.json.gz\n"
     ]
    },
    {
     "name": "stderr",
     "output_type": "stream",
     "text": [
      "\r",
      " 30% (108 of 359) |######                | Elapsed Time: 0:00:40 ETA:   0:01:47"
     ]
    },
    {
     "name": "stdout",
     "output_type": "stream",
     "text": [
      "/map_to_tables_54.json.gz\n"
     ]
    },
    {
     "name": "stderr",
     "output_type": "stream",
     "text": [
      "\r",
      " 30% (109 of 359) |######                | Elapsed Time: 0:00:41 ETA:   0:01:41"
     ]
    },
    {
     "name": "stdout",
     "output_type": "stream",
     "text": [
      "/map_to_tables_51.json.gz\n"
     ]
    },
    {
     "name": "stderr",
     "output_type": "stream",
     "text": [
      "\r",
      " 30% (110 of 359) |######                | Elapsed Time: 0:00:41 ETA:   0:01:32"
     ]
    },
    {
     "name": "stdout",
     "output_type": "stream",
     "text": [
      "/map_to_tables_103.json.gz\n"
     ]
    },
    {
     "name": "stderr",
     "output_type": "stream",
     "text": [
      "\r",
      " 30% (111 of 359) |######                | Elapsed Time: 0:00:41 ETA:   0:01:32"
     ]
    },
    {
     "name": "stdout",
     "output_type": "stream",
     "text": [
      "/map_to_tables_233.json.gz\n"
     ]
    },
    {
     "name": "stderr",
     "output_type": "stream",
     "text": [
      "\r",
      " 31% (112 of 359) |######                | Elapsed Time: 0:00:42 ETA:   0:01:33"
     ]
    },
    {
     "name": "stdout",
     "output_type": "stream",
     "text": [
      "/map_to_tables_316.json.gz\n"
     ]
    },
    {
     "name": "stderr",
     "output_type": "stream",
     "text": [
      "\r",
      " 31% (113 of 359) |######                | Elapsed Time: 0:00:42 ETA:   0:01:23"
     ]
    },
    {
     "name": "stdout",
     "output_type": "stream",
     "text": [
      "/map_to_tables_156.json.gz\n"
     ]
    },
    {
     "name": "stderr",
     "output_type": "stream",
     "text": [
      "\r",
      " 31% (114 of 359) |######                | Elapsed Time: 0:00:42 ETA:   0:01:22"
     ]
    },
    {
     "name": "stdout",
     "output_type": "stream",
     "text": [
      "/map_to_tables_277.json.gz\n"
     ]
    },
    {
     "name": "stderr",
     "output_type": "stream",
     "text": [
      "\r",
      " 32% (115 of 359) |#######               | Elapsed Time: 0:00:43 ETA:   0:01:13"
     ]
    },
    {
     "name": "stdout",
     "output_type": "stream",
     "text": [
      "/map_to_tables_133.json.gz\n"
     ]
    },
    {
     "name": "stderr",
     "output_type": "stream",
     "text": [
      "\r",
      " 32% (116 of 359) |#######               | Elapsed Time: 0:00:43 ETA:   0:01:12"
     ]
    },
    {
     "name": "stdout",
     "output_type": "stream",
     "text": [
      "/map_to_tables_255.json.gz\n"
     ]
    },
    {
     "name": "stderr",
     "output_type": "stream",
     "text": [
      "\r",
      " 32% (117 of 359) |#######               | Elapsed Time: 0:00:43 ETA:   0:01:14"
     ]
    },
    {
     "name": "stdout",
     "output_type": "stream",
     "text": [
      "/map_to_tables_129.json.gz\n"
     ]
    },
    {
     "name": "stderr",
     "output_type": "stream",
     "text": [
      "\r",
      " 32% (118 of 359) |#######               | Elapsed Time: 0:00:43 ETA:   0:01:13"
     ]
    },
    {
     "name": "stdout",
     "output_type": "stream",
     "text": [
      "/map_to_tables_230.json.gz\n"
     ]
    },
    {
     "name": "stderr",
     "output_type": "stream",
     "text": [
      "\r",
      " 33% (119 of 359) |#######               | Elapsed Time: 0:00:44 ETA:   0:01:13"
     ]
    },
    {
     "name": "stdout",
     "output_type": "stream",
     "text": [
      "/map_to_tables_191.json.gz\n"
     ]
    },
    {
     "name": "stderr",
     "output_type": "stream",
     "text": [
      "\r",
      " 33% (120 of 359) |#######               | Elapsed Time: 0:00:44 ETA:   0:01:21"
     ]
    },
    {
     "name": "stdout",
     "output_type": "stream",
     "text": [
      "/map_to_tables_62.json.gz\n"
     ]
    },
    {
     "name": "stderr",
     "output_type": "stream",
     "text": [
      "\r",
      " 33% (121 of 359) |#######               | Elapsed Time: 0:00:45 ETA:   0:01:21"
     ]
    },
    {
     "name": "stdout",
     "output_type": "stream",
     "text": [
      "/map_to_tables_282.json.gz\n"
     ]
    },
    {
     "name": "stderr",
     "output_type": "stream",
     "text": [
      "\r",
      " 33% (122 of 359) |#######               | Elapsed Time: 0:00:45 ETA:   0:01:30"
     ]
    },
    {
     "name": "stdout",
     "output_type": "stream",
     "text": [
      "/map_to_tables_15.json.gz\n"
     ]
    },
    {
     "name": "stderr",
     "output_type": "stream",
     "text": [
      "\r",
      " 34% (123 of 359) |#######               | Elapsed Time: 0:00:45 ETA:   0:01:28"
     ]
    },
    {
     "name": "stdout",
     "output_type": "stream",
     "text": [
      "/map_to_tables_180.json.gz\n"
     ]
    },
    {
     "name": "stderr",
     "output_type": "stream",
     "text": [
      "\r",
      " 34% (124 of 359) |#######               | Elapsed Time: 0:00:46 ETA:   0:01:40"
     ]
    },
    {
     "name": "stdout",
     "output_type": "stream",
     "text": [
      "/map_to_tables_219.json.gz\n"
     ]
    },
    {
     "name": "stderr",
     "output_type": "stream",
     "text": [
      " 35% (126 of 359) |#######               | Elapsed Time: 0:00:47 ETA:   0:01:33"
     ]
    },
    {
     "name": "stdout",
     "output_type": "stream",
     "text": [
      "/map_to_tables_263.json.gz\n",
      "/map_to_tables_144.json.gz\n"
     ]
    },
    {
     "name": "stderr",
     "output_type": "stream",
     "text": [
      "\r",
      " 35% (127 of 359) |#######               | Elapsed Time: 0:00:47 ETA:   0:01:40"
     ]
    },
    {
     "name": "stdout",
     "output_type": "stream",
     "text": [
      "/map_to_tables_195.json.gz\n"
     ]
    },
    {
     "name": "stderr",
     "output_type": "stream",
     "text": [
      "\r",
      " 35% (128 of 359) |#######               | Elapsed Time: 0:00:48 ETA:   0:01:40"
     ]
    },
    {
     "name": "stdout",
     "output_type": "stream",
     "text": [
      "/map_to_tables_260.json.gz\n"
     ]
    },
    {
     "name": "stderr",
     "output_type": "stream",
     "text": [
      "\r",
      " 35% (129 of 359) |#######               | Elapsed Time: 0:00:48 ETA:   0:01:33"
     ]
    },
    {
     "name": "stdout",
     "output_type": "stream",
     "text": [
      "/map_to_tables_341.json.gz\n"
     ]
    },
    {
     "name": "stderr",
     "output_type": "stream",
     "text": [
      "\r",
      " 36% (130 of 359) |#######               | Elapsed Time: 0:00:48 ETA:   0:01:34"
     ]
    },
    {
     "name": "stdout",
     "output_type": "stream",
     "text": [
      "/map_to_tables_16.json.gz\n"
     ]
    },
    {
     "name": "stderr",
     "output_type": "stream",
     "text": [
      "\r",
      " 36% (131 of 359) |########              | Elapsed Time: 0:00:49 ETA:   0:01:35"
     ]
    },
    {
     "name": "stdout",
     "output_type": "stream",
     "text": [
      "/map_to_tables_13.json.gz\n"
     ]
    },
    {
     "name": "stderr",
     "output_type": "stream",
     "text": [
      "\r",
      " 36% (132 of 359) |########              | Elapsed Time: 0:00:49 ETA:   0:01:38"
     ]
    },
    {
     "name": "stdout",
     "output_type": "stream",
     "text": [
      "/map_to_tables_310.json.gz\n"
     ]
    },
    {
     "name": "stderr",
     "output_type": "stream",
     "text": [
      "\r",
      " 37% (133 of 359) |########              | Elapsed Time: 0:00:50 ETA:   0:01:23"
     ]
    },
    {
     "name": "stdout",
     "output_type": "stream",
     "text": [
      "/map_to_tables_127.json.gz\n"
     ]
    },
    {
     "name": "stderr",
     "output_type": "stream",
     "text": [
      "\r",
      " 37% (134 of 359) |########              | Elapsed Time: 0:00:50 ETA:   0:01:36"
     ]
    },
    {
     "name": "stdout",
     "output_type": "stream",
     "text": [
      "/map_to_tables_258.json.gz\n"
     ]
    },
    {
     "name": "stderr",
     "output_type": "stream",
     "text": [
      "\r",
      " 37% (135 of 359) |########              | Elapsed Time: 0:00:51 ETA:   0:01:36"
     ]
    },
    {
     "name": "stdout",
     "output_type": "stream",
     "text": [
      "/map_to_tables_44.json.gz\n"
     ]
    },
    {
     "name": "stderr",
     "output_type": "stream",
     "text": [
      "\r",
      " 37% (136 of 359) |########              | Elapsed Time: 0:00:51 ETA:   0:01:46"
     ]
    },
    {
     "name": "stdout",
     "output_type": "stream",
     "text": [
      "/map_to_tables_141.json.gz\n"
     ]
    },
    {
     "name": "stderr",
     "output_type": "stream",
     "text": [
      "\r",
      " 38% (137 of 359) |########              | Elapsed Time: 0:00:52 ETA:   0:01:55"
     ]
    },
    {
     "name": "stdout",
     "output_type": "stream",
     "text": [
      "/map_to_tables_58.json.gz\n"
     ]
    },
    {
     "name": "stderr",
     "output_type": "stream",
     "text": [
      "\r",
      " 38% (138 of 359) |########              | Elapsed Time: 0:00:52 ETA:   0:01:56"
     ]
    },
    {
     "name": "stdout",
     "output_type": "stream",
     "text": [
      "/map_to_tables_75.json.gz\n"
     ]
    },
    {
     "name": "stderr",
     "output_type": "stream",
     "text": [
      "\r",
      " 38% (139 of 359) |########              | Elapsed Time: 0:00:53 ETA:   0:01:54"
     ]
    },
    {
     "name": "stdout",
     "output_type": "stream",
     "text": [
      "/map_to_tables_107.json.gz\n"
     ]
    },
    {
     "name": "stderr",
     "output_type": "stream",
     "text": [
      "\r",
      " 38% (140 of 359) |########              | Elapsed Time: 0:00:53 ETA:   0:01:52"
     ]
    },
    {
     "name": "stdout",
     "output_type": "stream",
     "text": [
      "/map_to_tables_237.json.gz\n"
     ]
    },
    {
     "name": "stderr",
     "output_type": "stream",
     "text": [
      "\r",
      " 39% (141 of 359) |########              | Elapsed Time: 0:00:54 ETA:   0:01:53"
     ]
    },
    {
     "name": "stdout",
     "output_type": "stream",
     "text": [
      "/map_to_tables_229.json.gz\n"
     ]
    },
    {
     "name": "stderr",
     "output_type": "stream",
     "text": [
      "\r",
      " 39% (142 of 359) |########              | Elapsed Time: 0:00:54 ETA:   0:01:43"
     ]
    },
    {
     "name": "stdout",
     "output_type": "stream",
     "text": [
      "/map_to_tables_125.json.gz\n"
     ]
    },
    {
     "name": "stderr",
     "output_type": "stream",
     "text": [
      "\r",
      " 39% (143 of 359) |########              | Elapsed Time: 0:00:54 ETA:   0:01:31"
     ]
    },
    {
     "name": "stdout",
     "output_type": "stream",
     "text": [
      "/map_to_tables_26.json.gz\n"
     ]
    },
    {
     "name": "stderr",
     "output_type": "stream",
     "text": [
      "\r",
      " 40% (144 of 359) |########              | Elapsed Time: 0:00:55 ETA:   0:01:31"
     ]
    },
    {
     "name": "stdout",
     "output_type": "stream",
     "text": [
      "/map_to_tables_217.json.gz\n"
     ]
    },
    {
     "name": "stderr",
     "output_type": "stream",
     "text": [
      "\r",
      " 40% (145 of 359) |########              | Elapsed Time: 0:00:55 ETA:   0:01:32"
     ]
    },
    {
     "name": "stdout",
     "output_type": "stream",
     "text": [
      "/map_to_tables_56.json.gz\n"
     ]
    },
    {
     "name": "stderr",
     "output_type": "stream",
     "text": [
      "\r",
      " 40% (146 of 359) |########              | Elapsed Time: 0:00:56 ETA:   0:01:28"
     ]
    },
    {
     "name": "stdout",
     "output_type": "stream",
     "text": [
      "/map_to_tables_350.json.gz\n"
     ]
    },
    {
     "name": "stderr",
     "output_type": "stream",
     "text": [
      "\r",
      " 40% (147 of 359) |#########             | Elapsed Time: 0:00:56 ETA:   0:01:31"
     ]
    },
    {
     "name": "stdout",
     "output_type": "stream",
     "text": [
      "/map_to_tables_309.json.gz\n"
     ]
    },
    {
     "name": "stderr",
     "output_type": "stream",
     "text": [
      "\r",
      " 41% (148 of 359) |#########             | Elapsed Time: 0:00:57 ETA:   0:01:40"
     ]
    },
    {
     "name": "stdout",
     "output_type": "stream",
     "text": [
      "/map_to_tables_113.json.gz\n"
     ]
    },
    {
     "name": "stderr",
     "output_type": "stream",
     "text": [
      "\r",
      " 41% (149 of 359) |#########             | Elapsed Time: 0:00:57 ETA:   0:01:30"
     ]
    },
    {
     "name": "stdout",
     "output_type": "stream",
     "text": [
      "/map_to_tables_193.json.gz\n"
     ]
    },
    {
     "name": "stderr",
     "output_type": "stream",
     "text": [
      "\r",
      " 41% (150 of 359) |#########             | Elapsed Time: 0:00:57 ETA:   0:01:25"
     ]
    },
    {
     "name": "stdout",
     "output_type": "stream",
     "text": [
      "/map_to_tables_232.json.gz\n"
     ]
    },
    {
     "name": "stderr",
     "output_type": "stream",
     "text": [
      "\r",
      " 42% (151 of 359) |#########             | Elapsed Time: 0:00:58 ETA:   0:01:18"
     ]
    },
    {
     "name": "stdout",
     "output_type": "stream",
     "text": [
      "/map_to_tables_49.json.gz\n"
     ]
    },
    {
     "name": "stderr",
     "output_type": "stream",
     "text": [
      "\r",
      " 42% (152 of 359) |#########             | Elapsed Time: 0:00:58 ETA:   0:01:23"
     ]
    },
    {
     "name": "stdout",
     "output_type": "stream",
     "text": [
      "/map_to_tables_109.json.gz\n"
     ]
    },
    {
     "name": "stderr",
     "output_type": "stream",
     "text": [
      "\r",
      " 42% (153 of 359) |#########             | Elapsed Time: 0:00:59 ETA:   0:01:23"
     ]
    },
    {
     "name": "stdout",
     "output_type": "stream",
     "text": [
      "/map_to_tables_94.json.gz\n"
     ]
    },
    {
     "name": "stderr",
     "output_type": "stream",
     "text": [
      "\r",
      " 42% (154 of 359) |#########             | Elapsed Time: 0:00:59 ETA:   0:01:27"
     ]
    },
    {
     "name": "stdout",
     "output_type": "stream",
     "text": [
      "/map_to_tables_60.json.gz\n"
     ]
    },
    {
     "name": "stderr",
     "output_type": "stream",
     "text": [
      "\r",
      " 43% (155 of 359) |#########             | Elapsed Time: 0:01:00 ETA:   0:01:45"
     ]
    },
    {
     "name": "stdout",
     "output_type": "stream",
     "text": [
      "/map_to_tables_163.json.gz\n"
     ]
    },
    {
     "name": "stderr",
     "output_type": "stream",
     "text": [
      "\r",
      " 43% (156 of 359) |#########             | Elapsed Time: 0:01:00 ETA:   0:01:45"
     ]
    },
    {
     "name": "stdout",
     "output_type": "stream",
     "text": [
      "/map_to_tables_67.json.gz\n"
     ]
    },
    {
     "name": "stderr",
     "output_type": "stream",
     "text": [
      "\r",
      " 43% (157 of 359) |#########             | Elapsed Time: 0:01:01 ETA:   0:01:44"
     ]
    },
    {
     "name": "stdout",
     "output_type": "stream",
     "text": [
      "/map_to_tables_117.json.gz\n"
     ]
    },
    {
     "name": "stderr",
     "output_type": "stream",
     "text": [
      "\r",
      " 44% (158 of 359) |#########             | Elapsed Time: 0:01:01 ETA:   0:01:44"
     ]
    },
    {
     "name": "stdout",
     "output_type": "stream",
     "text": [
      "/map_to_tables_28.json.gz\n"
     ]
    },
    {
     "name": "stderr",
     "output_type": "stream",
     "text": [
      "\r",
      " 44% (159 of 359) |#########             | Elapsed Time: 0:01:02 ETA:   0:01:45"
     ]
    },
    {
     "name": "stdout",
     "output_type": "stream",
     "text": [
      "/map_to_tables_244.json.gz\n"
     ]
    },
    {
     "name": "stderr",
     "output_type": "stream",
     "text": [
      "\r",
      " 44% (160 of 359) |#########             | Elapsed Time: 0:01:02 ETA:   0:01:43"
     ]
    },
    {
     "name": "stdout",
     "output_type": "stream",
     "text": [
      "/map_to_tables_123.json.gz\n"
     ]
    },
    {
     "name": "stderr",
     "output_type": "stream",
     "text": [
      "\r",
      " 44% (161 of 359) |#########             | Elapsed Time: 0:01:03 ETA:   0:01:45"
     ]
    },
    {
     "name": "stdout",
     "output_type": "stream",
     "text": [
      "/map_to_tables_14.json.gz\n"
     ]
    },
    {
     "name": "stderr",
     "output_type": "stream",
     "text": [
      "\r",
      " 45% (162 of 359) |#########             | Elapsed Time: 0:01:03 ETA:   0:01:35"
     ]
    },
    {
     "name": "stdout",
     "output_type": "stream",
     "text": [
      "/map_to_tables_159.json.gz\n"
     ]
    },
    {
     "name": "stderr",
     "output_type": "stream",
     "text": [
      "\r",
      " 45% (163 of 359) |#########             | Elapsed Time: 0:01:04 ETA:   0:01:33"
     ]
    },
    {
     "name": "stdout",
     "output_type": "stream",
     "text": [
      "/map_to_tables_330.json.gz\n"
     ]
    },
    {
     "name": "stderr",
     "output_type": "stream",
     "text": [
      "\r",
      " 45% (164 of 359) |##########            | Elapsed Time: 0:01:04 ETA:   0:01:23"
     ]
    },
    {
     "name": "stdout",
     "output_type": "stream",
     "text": [
      "/map_to_tables_178.json.gz\n"
     ]
    },
    {
     "name": "stderr",
     "output_type": "stream",
     "text": [
      "\r",
      " 45% (165 of 359) |##########            | Elapsed Time: 0:01:04 ETA:   0:01:18"
     ]
    },
    {
     "name": "stdout",
     "output_type": "stream",
     "text": [
      "/map_to_tables_298.json.gz\n"
     ]
    },
    {
     "name": "stderr",
     "output_type": "stream",
     "text": [
      "\r",
      " 46% (166 of 359) |##########            | Elapsed Time: 0:01:05 ETA:   0:01:18"
     ]
    },
    {
     "name": "stdout",
     "output_type": "stream",
     "text": [
      "/map_to_tables_271.json.gz\n"
     ]
    },
    {
     "name": "stderr",
     "output_type": "stream",
     "text": [
      "\r",
      " 46% (167 of 359) |##########            | Elapsed Time: 0:01:05 ETA:   0:01:21"
     ]
    },
    {
     "name": "stdout",
     "output_type": "stream",
     "text": [
      "/map_to_tables_259.json.gz\n"
     ]
    },
    {
     "name": "stderr",
     "output_type": "stream",
     "text": [
      "\r",
      " 46% (168 of 359) |##########            | Elapsed Time: 0:01:06 ETA:   0:01:21"
     ]
    },
    {
     "name": "stdout",
     "output_type": "stream",
     "text": [
      "/map_to_tables_134.json.gz\n"
     ]
    },
    {
     "name": "stderr",
     "output_type": "stream",
     "text": [
      "\r",
      " 47% (169 of 359) |##########            | Elapsed Time: 0:01:06 ETA:   0:01:21"
     ]
    },
    {
     "name": "stdout",
     "output_type": "stream",
     "text": [
      "/map_to_tables_248.json.gz\n"
     ]
    },
    {
     "name": "stderr",
     "output_type": "stream",
     "text": [
      "\r",
      " 47% (170 of 359) |##########            | Elapsed Time: 0:01:07 ETA:   0:01:29"
     ]
    },
    {
     "name": "stdout",
     "output_type": "stream",
     "text": [
      "/map_to_tables_340.json.gz\n"
     ]
    },
    {
     "name": "stderr",
     "output_type": "stream",
     "text": [
      "\r",
      " 47% (171 of 359) |##########            | Elapsed Time: 0:01:07 ETA:   0:01:21"
     ]
    },
    {
     "name": "stdout",
     "output_type": "stream",
     "text": [
      "/map_to_tables_319.json.gz\n"
     ]
    },
    {
     "name": "stderr",
     "output_type": "stream",
     "text": [
      "\r",
      " 47% (172 of 359) |##########            | Elapsed Time: 0:01:07 ETA:   0:01:16"
     ]
    },
    {
     "name": "stdout",
     "output_type": "stream",
     "text": [
      "/map_to_tables_238.json.gz\n"
     ]
    },
    {
     "name": "stderr",
     "output_type": "stream",
     "text": [
      "\r",
      " 48% (173 of 359) |##########            | Elapsed Time: 0:01:07 ETA:   0:01:09"
     ]
    },
    {
     "name": "stdout",
     "output_type": "stream",
     "text": [
      "/map_to_tables_245.json.gz\n"
     ]
    },
    {
     "name": "stderr",
     "output_type": "stream",
     "text": [
      "\r",
      " 48% (174 of 359) |##########            | Elapsed Time: 0:01:08 ETA:   0:01:03"
     ]
    },
    {
     "name": "stdout",
     "output_type": "stream",
     "text": [
      "/map_to_tables_314.json.gz\n"
     ]
    },
    {
     "name": "stderr",
     "output_type": "stream",
     "text": [
      "\r",
      " 48% (175 of 359) |##########            | Elapsed Time: 0:01:08 ETA:   0:01:10"
     ]
    },
    {
     "name": "stdout",
     "output_type": "stream",
     "text": [
      "/map_to_tables_122.json.gz\n"
     ]
    },
    {
     "name": "stderr",
     "output_type": "stream",
     "text": [
      "\r",
      " 49% (176 of 359) |##########            | Elapsed Time: 0:01:09 ETA:   0:01:09"
     ]
    },
    {
     "name": "stdout",
     "output_type": "stream",
     "text": [
      "/map_to_tables_301.json.gz\n"
     ]
    },
    {
     "name": "stderr",
     "output_type": "stream",
     "text": [
      "\r",
      " 49% (177 of 359) |##########            | Elapsed Time: 0:01:09 ETA:   0:01:08"
     ]
    },
    {
     "name": "stdout",
     "output_type": "stream",
     "text": [
      "/map_to_tables_71.json.gz\n"
     ]
    },
    {
     "name": "stderr",
     "output_type": "stream",
     "text": [
      "\r",
      " 49% (178 of 359) |##########            | Elapsed Time: 0:01:10 ETA:   0:01:19"
     ]
    },
    {
     "name": "stdout",
     "output_type": "stream",
     "text": [
      "/map_to_tables_275.json.gz\n"
     ]
    },
    {
     "name": "stderr",
     "output_type": "stream",
     "text": [
      "\r",
      " 49% (179 of 359) |##########            | Elapsed Time: 0:01:10 ETA:   0:01:26"
     ]
    },
    {
     "name": "stdout",
     "output_type": "stream",
     "text": [
      "/map_to_tables_203.json.gz\n"
     ]
    },
    {
     "name": "stderr",
     "output_type": "stream",
     "text": [
      "\r",
      " 50% (180 of 359) |###########           | Elapsed Time: 0:01:10 ETA:   0:01:16"
     ]
    },
    {
     "name": "stdout",
     "output_type": "stream",
     "text": [
      "/map_to_tables_114.json.gz\n"
     ]
    },
    {
     "name": "stderr",
     "output_type": "stream",
     "text": [
      "\r",
      " 50% (181 of 359) |###########           | Elapsed Time: 0:01:11 ETA:   0:01:11"
     ]
    },
    {
     "name": "stdout",
     "output_type": "stream",
     "text": [
      "/map_to_tables_284.json.gz\n"
     ]
    },
    {
     "name": "stderr",
     "output_type": "stream",
     "text": [
      "\r",
      " 50% (182 of 359) |###########           | Elapsed Time: 0:01:11 ETA:   0:01:19"
     ]
    },
    {
     "name": "stdout",
     "output_type": "stream",
     "text": [
      "/map_to_tables_347.json.gz\n"
     ]
    },
    {
     "name": "stderr",
     "output_type": "stream",
     "text": [
      "\r",
      " 50% (183 of 359) |###########           | Elapsed Time: 0:01:12 ETA:   0:01:20"
     ]
    },
    {
     "name": "stdout",
     "output_type": "stream",
     "text": [
      "/map_to_tables_154.json.gz\n"
     ]
    },
    {
     "name": "stderr",
     "output_type": "stream",
     "text": [
      "\r",
      " 51% (184 of 359) |###########           | Elapsed Time: 0:01:12 ETA:   0:01:28"
     ]
    },
    {
     "name": "stdout",
     "output_type": "stream",
     "text": [
      "/map_to_tables_324.json.gz\n"
     ]
    },
    {
     "name": "stderr",
     "output_type": "stream",
     "text": [
      "\r",
      " 51% (185 of 359) |###########           | Elapsed Time: 0:01:13 ETA:   0:01:33"
     ]
    },
    {
     "name": "stdout",
     "output_type": "stream",
     "text": [
      "/map_to_tables_210.json.gz\n"
     ]
    },
    {
     "name": "stderr",
     "output_type": "stream",
     "text": [
      "\r",
      " 51% (186 of 359) |###########           | Elapsed Time: 0:01:13 ETA:   0:01:31"
     ]
    },
    {
     "name": "stdout",
     "output_type": "stream",
     "text": [
      "/map_to_tables_65.json.gz\n"
     ]
    },
    {
     "name": "stderr",
     "output_type": "stream",
     "text": [
      "\r",
      " 52% (187 of 359) |###########           | Elapsed Time: 0:01:14 ETA:   0:01:29"
     ]
    },
    {
     "name": "stdout",
     "output_type": "stream",
     "text": [
      "/map_to_tables_17.json.gz\n"
     ]
    },
    {
     "name": "stderr",
     "output_type": "stream",
     "text": [
      "\r",
      " 52% (188 of 359) |###########           | Elapsed Time: 0:01:14 ETA:   0:01:21"
     ]
    },
    {
     "name": "stdout",
     "output_type": "stream",
     "text": [
      "/map_to_tables_220.json.gz\n"
     ]
    },
    {
     "name": "stderr",
     "output_type": "stream",
     "text": [
      "\r",
      " 52% (189 of 359) |###########           | Elapsed Time: 0:01:15 ETA:   0:01:20"
     ]
    },
    {
     "name": "stdout",
     "output_type": "stream",
     "text": [
      "/map_to_tables_119.json.gz\n"
     ]
    },
    {
     "name": "stderr",
     "output_type": "stream",
     "text": [
      "\r",
      " 52% (190 of 359) |###########           | Elapsed Time: 0:01:15 ETA:   0:01:19"
     ]
    },
    {
     "name": "stdout",
     "output_type": "stream",
     "text": [
      "/map_to_tables_164.json.gz\n"
     ]
    },
    {
     "name": "stderr",
     "output_type": "stream",
     "text": [
      "\r",
      " 53% (191 of 359) |###########           | Elapsed Time: 0:01:16 ETA:   0:01:12"
     ]
    },
    {
     "name": "stdout",
     "output_type": "stream",
     "text": [
      "/map_to_tables_48.json.gz\n"
     ]
    },
    {
     "name": "stderr",
     "output_type": "stream",
     "text": [
      "\r",
      " 53% (192 of 359) |###########           | Elapsed Time: 0:01:16 ETA:   0:01:08"
     ]
    },
    {
     "name": "stdout",
     "output_type": "stream",
     "text": [
      "/map_to_tables_112.json.gz\n"
     ]
    },
    {
     "name": "stderr",
     "output_type": "stream",
     "text": [
      "\r",
      " 53% (193 of 359) |###########           | Elapsed Time: 0:01:16 ETA:   0:01:12"
     ]
    },
    {
     "name": "stdout",
     "output_type": "stream",
     "text": [
      "/map_to_tables_339.json.gz\n"
     ]
    },
    {
     "name": "stderr",
     "output_type": "stream",
     "text": [
      "\r",
      " 54% (194 of 359) |###########           | Elapsed Time: 0:01:17 ETA:   0:01:08"
     ]
    },
    {
     "name": "stdout",
     "output_type": "stream",
     "text": [
      "/map_to_tables_327.json.gz\n"
     ]
    },
    {
     "name": "stderr",
     "output_type": "stream",
     "text": [
      "\r",
      " 54% (195 of 359) |###########           | Elapsed Time: 0:01:17 ETA:   0:01:08"
     ]
    },
    {
     "name": "stdout",
     "output_type": "stream",
     "text": [
      "/map_to_tables_322.json.gz\n"
     ]
    },
    {
     "name": "stderr",
     "output_type": "stream",
     "text": [
      "\r",
      " 54% (196 of 359) |############          | Elapsed Time: 0:01:18 ETA:   0:01:13"
     ]
    },
    {
     "name": "stdout",
     "output_type": "stream",
     "text": [
      "/map_to_tables_353.json.gz\n"
     ]
    },
    {
     "name": "stderr",
     "output_type": "stream",
     "text": [
      "\r",
      " 54% (197 of 359) |############          | Elapsed Time: 0:01:18 ETA:   0:01:13"
     ]
    },
    {
     "name": "stdout",
     "output_type": "stream",
     "text": [
      "/map_to_tables_86.json.gz\n"
     ]
    },
    {
     "name": "stderr",
     "output_type": "stream",
     "text": [
      "\r",
      " 55% (198 of 359) |############          | Elapsed Time: 0:01:19 ETA:   0:01:12"
     ]
    },
    {
     "name": "stdout",
     "output_type": "stream",
     "text": [
      "/map_to_tables_311.json.gz\n"
     ]
    },
    {
     "name": "stderr",
     "output_type": "stream",
     "text": [
      "\r",
      " 55% (199 of 359) |############          | Elapsed Time: 0:01:19 ETA:   0:01:18"
     ]
    },
    {
     "name": "stdout",
     "output_type": "stream",
     "text": [
      "/map_to_tables_304.json.gz\n"
     ]
    },
    {
     "name": "stderr",
     "output_type": "stream",
     "text": [
      "\r",
      " 55% (200 of 359) |############          | Elapsed Time: 0:01:20 ETA:   0:01:17"
     ]
    },
    {
     "name": "stdout",
     "output_type": "stream",
     "text": [
      "/map_to_tables_19.json.gz\n"
     ]
    },
    {
     "name": "stderr",
     "output_type": "stream",
     "text": [
      "\r",
      " 55% (201 of 359) |############          | Elapsed Time: 0:01:20 ETA:   0:01:20"
     ]
    },
    {
     "name": "stdout",
     "output_type": "stream",
     "text": [
      "/map_to_tables_167.json.gz\n"
     ]
    },
    {
     "name": "stderr",
     "output_type": "stream",
     "text": [
      "\r",
      " 56% (202 of 359) |############          | Elapsed Time: 0:01:21 ETA:   0:01:14"
     ]
    },
    {
     "name": "stdout",
     "output_type": "stream",
     "text": [
      "/map_to_tables_66.json.gz\n"
     ]
    },
    {
     "name": "stderr",
     "output_type": "stream",
     "text": [
      "\r",
      " 56% (203 of 359) |############          | Elapsed Time: 0:01:21 ETA:   0:01:07"
     ]
    },
    {
     "name": "stdout",
     "output_type": "stream",
     "text": [
      "/map_to_tables_36.json.gz\n"
     ]
    },
    {
     "name": "stderr",
     "output_type": "stream",
     "text": [
      "\r",
      " 56% (204 of 359) |############          | Elapsed Time: 0:01:21 ETA:   0:01:07"
     ]
    },
    {
     "name": "stdout",
     "output_type": "stream",
     "text": [
      "/map_to_tables_206.json.gz\n"
     ]
    },
    {
     "name": "stderr",
     "output_type": "stream",
     "text": [
      "\r",
      " 57% (205 of 359) |############          | Elapsed Time: 0:01:22 ETA:   0:01:03"
     ]
    },
    {
     "name": "stdout",
     "output_type": "stream",
     "text": [
      "/map_to_tables_346.json.gz\n"
     ]
    },
    {
     "name": "stderr",
     "output_type": "stream",
     "text": [
      "\r",
      " 57% (206 of 359) |############          | Elapsed Time: 0:01:22 ETA:   0:00:58"
     ]
    },
    {
     "name": "stdout",
     "output_type": "stream",
     "text": [
      "/map_to_tables_91.json.gz\n"
     ]
    },
    {
     "name": "stderr",
     "output_type": "stream",
     "text": [
      "\r",
      " 57% (207 of 359) |############          | Elapsed Time: 0:01:22 ETA:   0:00:52"
     ]
    },
    {
     "name": "stdout",
     "output_type": "stream",
     "text": [
      "/map_to_tables_20.json.gz\n"
     ]
    },
    {
     "name": "stderr",
     "output_type": "stream",
     "text": [
      "\r",
      " 57% (208 of 359) |############          | Elapsed Time: 0:01:23 ETA:   0:00:57"
     ]
    },
    {
     "name": "stdout",
     "output_type": "stream",
     "text": [
      "/map_to_tables_222.json.gz\n"
     ]
    },
    {
     "name": "stderr",
     "output_type": "stream",
     "text": [
      "\r",
      " 58% (209 of 359) |############          | Elapsed Time: 0:01:23 ETA:   0:00:57"
     ]
    },
    {
     "name": "stdout",
     "output_type": "stream",
     "text": [
      "/map_to_tables_12.json.gz\n"
     ]
    },
    {
     "name": "stderr",
     "output_type": "stream",
     "text": [
      "\r",
      " 58% (210 of 359) |############          | Elapsed Time: 0:01:24 ETA:   0:00:56"
     ]
    },
    {
     "name": "stdout",
     "output_type": "stream",
     "text": [
      "/map_to_tables_189.json.gz\n"
     ]
    },
    {
     "name": "stderr",
     "output_type": "stream",
     "text": [
      "\r",
      " 58% (211 of 359) |############          | Elapsed Time: 0:01:24 ETA:   0:01:04"
     ]
    },
    {
     "name": "stdout",
     "output_type": "stream",
     "text": [
      "/map_to_tables_315.json.gz\n"
     ]
    },
    {
     "name": "stderr",
     "output_type": "stream",
     "text": [
      "\r",
      " 59% (212 of 359) |############          | Elapsed Time: 0:01:25 ETA:   0:01:10"
     ]
    },
    {
     "name": "stdout",
     "output_type": "stream",
     "text": [
      "/map_to_tables_31.json.gz\n"
     ]
    },
    {
     "name": "stderr",
     "output_type": "stream",
     "text": [
      "\r",
      " 59% (213 of 359) |#############         | Elapsed Time: 0:01:25 ETA:   0:01:03"
     ]
    },
    {
     "name": "stdout",
     "output_type": "stream",
     "text": [
      "/map_to_tables_204.json.gz\n"
     ]
    },
    {
     "name": "stderr",
     "output_type": "stream",
     "text": [
      "\r",
      " 59% (214 of 359) |#############         | Elapsed Time: 0:01:25 ETA:   0:01:02"
     ]
    },
    {
     "name": "stdout",
     "output_type": "stream",
     "text": [
      "/map_to_tables_302.json.gz\n"
     ]
    },
    {
     "name": "stderr",
     "output_type": "stream",
     "text": [
      "\r",
      " 59% (215 of 359) |#############         | Elapsed Time: 0:01:26 ETA:   0:00:59"
     ]
    },
    {
     "name": "stdout",
     "output_type": "stream",
     "text": [
      "/map_to_tables_3.json.gz\n"
     ]
    },
    {
     "name": "stderr",
     "output_type": "stream",
     "text": [
      "\r",
      " 60% (216 of 359) |#############         | Elapsed Time: 0:01:26 ETA:   0:00:58"
     ]
    },
    {
     "name": "stdout",
     "output_type": "stream",
     "text": [
      "/map_to_tables_243.json.gz\n"
     ]
    },
    {
     "name": "stderr",
     "output_type": "stream",
     "text": [
      "\r",
      " 60% (217 of 359) |#############         | Elapsed Time: 0:01:26 ETA:   0:00:52"
     ]
    },
    {
     "name": "stdout",
     "output_type": "stream",
     "text": [
      "/map_to_tables_358.json.gz\n"
     ]
    },
    {
     "name": "stderr",
     "output_type": "stream",
     "text": [
      "\r",
      " 60% (218 of 359) |#############         | Elapsed Time: 0:01:27 ETA:   0:00:52"
     ]
    },
    {
     "name": "stdout",
     "output_type": "stream",
     "text": [
      "/map_to_tables_281.json.gz\n"
     ]
    },
    {
     "name": "stderr",
     "output_type": "stream",
     "text": [
      "\r",
      " 61% (219 of 359) |#############         | Elapsed Time: 0:01:27 ETA:   0:00:52"
     ]
    },
    {
     "name": "stdout",
     "output_type": "stream",
     "text": [
      "/map_to_tables_22.json.gz\n"
     ]
    },
    {
     "name": "stderr",
     "output_type": "stream",
     "text": [
      "\r",
      " 61% (220 of 359) |#############         | Elapsed Time: 0:01:28 ETA:   0:00:59"
     ]
    },
    {
     "name": "stdout",
     "output_type": "stream",
     "text": [
      "/map_to_tables_228.json.gz\n"
     ]
    },
    {
     "name": "stderr",
     "output_type": "stream",
     "text": [
      "\r",
      " 61% (221 of 359) |#############         | Elapsed Time: 0:01:28 ETA:   0:00:59"
     ]
    },
    {
     "name": "stdout",
     "output_type": "stream",
     "text": [
      "/map_to_tables_111.json.gz\n"
     ]
    },
    {
     "name": "stderr",
     "output_type": "stream",
     "text": [
      "\r",
      " 61% (222 of 359) |#############         | Elapsed Time: 0:01:29 ETA:   0:00:59"
     ]
    },
    {
     "name": "stdout",
     "output_type": "stream",
     "text": [
      "/map_to_tables_57.json.gz\n"
     ]
    },
    {
     "name": "stderr",
     "output_type": "stream",
     "text": [
      "\r",
      " 62% (223 of 359) |#############         | Elapsed Time: 0:01:29 ETA:   0:00:55"
     ]
    },
    {
     "name": "stdout",
     "output_type": "stream",
     "text": [
      "/map_to_tables_84.json.gz\n"
     ]
    },
    {
     "name": "stderr",
     "output_type": "stream",
     "text": [
      "\r",
      " 62% (224 of 359) |#############         | Elapsed Time: 0:01:29 ETA:   0:00:50"
     ]
    },
    {
     "name": "stdout",
     "output_type": "stream",
     "text": [
      "/map_to_tables_50.json.gz\n"
     ]
    },
    {
     "name": "stderr",
     "output_type": "stream",
     "text": [
      "\r",
      " 62% (225 of 359) |#############         | Elapsed Time: 0:01:29 ETA:   0:00:49"
     ]
    },
    {
     "name": "stdout",
     "output_type": "stream",
     "text": [
      "/map_to_tables_338.json.gz\n"
     ]
    },
    {
     "name": "stderr",
     "output_type": "stream",
     "text": [
      "\r",
      " 62% (226 of 359) |#############         | Elapsed Time: 0:01:30 ETA:   0:00:49"
     ]
    },
    {
     "name": "stdout",
     "output_type": "stream",
     "text": [
      "/map_to_tables_266.json.gz\n"
     ]
    },
    {
     "name": "stderr",
     "output_type": "stream",
     "text": [
      "\r",
      " 63% (227 of 359) |#############         | Elapsed Time: 0:01:30 ETA:   0:00:47"
     ]
    },
    {
     "name": "stdout",
     "output_type": "stream",
     "text": [
      "/map_to_tables_205.json.gz\n"
     ]
    },
    {
     "name": "stderr",
     "output_type": "stream",
     "text": [
      "\r",
      " 63% (228 of 359) |#############         | Elapsed Time: 0:01:31 ETA:   0:00:47"
     ]
    },
    {
     "name": "stdout",
     "output_type": "stream",
     "text": [
      "/map_to_tables_90.json.gz\n"
     ]
    },
    {
     "name": "stderr",
     "output_type": "stream",
     "text": [
      "\r",
      " 63% (229 of 359) |##############        | Elapsed Time: 0:01:31 ETA:   0:00:54"
     ]
    },
    {
     "name": "stdout",
     "output_type": "stream",
     "text": [
      "/map_to_tables_10.json.gz\n"
     ]
    },
    {
     "name": "stderr",
     "output_type": "stream",
     "text": [
      "\r",
      " 64% (230 of 359) |##############        | Elapsed Time: 0:01:32 ETA:   0:00:55"
     ]
    },
    {
     "name": "stdout",
     "output_type": "stream",
     "text": [
      "/map_to_tables_23.json.gz\n"
     ]
    },
    {
     "name": "stderr",
     "output_type": "stream",
     "text": [
      "\r",
      " 64% (231 of 359) |##############        | Elapsed Time: 0:01:32 ETA:   0:00:55"
     ]
    },
    {
     "name": "stdout",
     "output_type": "stream",
     "text": [
      "/map_to_tables_39.json.gz\n"
     ]
    },
    {
     "name": "stderr",
     "output_type": "stream",
     "text": [
      "\r",
      " 64% (232 of 359) |##############        | Elapsed Time: 0:01:33 ETA:   0:01:01"
     ]
    },
    {
     "name": "stdout",
     "output_type": "stream",
     "text": [
      "/map_to_tables_234.json.gz\n"
     ]
    },
    {
     "name": "stderr",
     "output_type": "stream",
     "text": [
      "\r",
      " 64% (233 of 359) |##############        | Elapsed Time: 0:01:33 ETA:   0:01:01"
     ]
    },
    {
     "name": "stdout",
     "output_type": "stream",
     "text": [
      "/map_to_tables_169.json.gz\n"
     ]
    },
    {
     "name": "stderr",
     "output_type": "stream",
     "text": [
      "\r",
      " 65% (234 of 359) |##############        | Elapsed Time: 0:01:34 ETA:   0:00:56"
     ]
    },
    {
     "name": "stdout",
     "output_type": "stream",
     "text": [
      "/map_to_tables_292.json.gz\n"
     ]
    },
    {
     "name": "stderr",
     "output_type": "stream",
     "text": [
      "\r",
      " 65% (235 of 359) |##############        | Elapsed Time: 0:01:34 ETA:   0:01:00"
     ]
    },
    {
     "name": "stdout",
     "output_type": "stream",
     "text": [
      "/map_to_tables_170.json.gz\n"
     ]
    },
    {
     "name": "stderr",
     "output_type": "stream",
     "text": [
      "\r",
      " 65% (236 of 359) |##############        | Elapsed Time: 0:01:34 ETA:   0:00:54"
     ]
    },
    {
     "name": "stdout",
     "output_type": "stream",
     "text": [
      "/map_to_tables_267.json.gz\n"
     ]
    },
    {
     "name": "stderr",
     "output_type": "stream",
     "text": [
      "\r",
      " 66% (237 of 359) |##############        | Elapsed Time: 0:01:35 ETA:   0:00:51"
     ]
    },
    {
     "name": "stdout",
     "output_type": "stream",
     "text": [
      "/map_to_tables_208.json.gz\n"
     ]
    },
    {
     "name": "stderr",
     "output_type": "stream",
     "text": [
      "\r",
      " 66% (238 of 359) |##############        | Elapsed Time: 0:01:35 ETA:   0:00:50"
     ]
    },
    {
     "name": "stdout",
     "output_type": "stream",
     "text": [
      "/map_to_tables_190.json.gz\n"
     ]
    },
    {
     "name": "stderr",
     "output_type": "stream",
     "text": [
      "\r",
      " 66% (239 of 359) |##############        | Elapsed Time: 0:01:36 ETA:   0:00:45"
     ]
    },
    {
     "name": "stdout",
     "output_type": "stream",
     "text": [
      "/map_to_tables_106.json.gz\n"
     ]
    },
    {
     "name": "stderr",
     "output_type": "stream",
     "text": [
      "\r",
      " 66% (240 of 359) |##############        | Elapsed Time: 0:01:36 ETA:   0:00:44"
     ]
    },
    {
     "name": "stdout",
     "output_type": "stream",
     "text": [
      "/map_to_tables_272.json.gz\n"
     ]
    },
    {
     "name": "stderr",
     "output_type": "stream",
     "text": [
      "\r",
      " 67% (241 of 359) |##############        | Elapsed Time: 0:01:36 ETA:   0:00:40"
     ]
    },
    {
     "name": "stdout",
     "output_type": "stream",
     "text": [
      "/map_to_tables_85.json.gz\n"
     ]
    },
    {
     "name": "stderr",
     "output_type": "stream",
     "text": [
      "\r",
      " 67% (242 of 359) |##############        | Elapsed Time: 0:01:36 ETA:   0:00:40"
     ]
    },
    {
     "name": "stdout",
     "output_type": "stream",
     "text": [
      "/map_to_tables_87.json.gz\n"
     ]
    },
    {
     "name": "stderr",
     "output_type": "stream",
     "text": [
      "\r",
      " 67% (243 of 359) |##############        | Elapsed Time: 0:01:37 ETA:   0:00:39"
     ]
    },
    {
     "name": "stdout",
     "output_type": "stream",
     "text": [
      "/map_to_tables_256.json.gz\n"
     ]
    },
    {
     "name": "stderr",
     "output_type": "stream",
     "text": [
      "\r",
      " 67% (244 of 359) |##############        | Elapsed Time: 0:01:37 ETA:   0:00:38"
     ]
    },
    {
     "name": "stdout",
     "output_type": "stream",
     "text": [
      "/map_to_tables_59.json.gz\n"
     ]
    },
    {
     "name": "stderr",
     "output_type": "stream",
     "text": [
      "\r",
      " 68% (245 of 359) |###############       | Elapsed Time: 0:01:38 ETA:   0:00:38"
     ]
    },
    {
     "name": "stdout",
     "output_type": "stream",
     "text": [
      "/map_to_tables_152.json.gz\n"
     ]
    },
    {
     "name": "stderr",
     "output_type": "stream",
     "text": [
      "\r",
      " 68% (246 of 359) |###############       | Elapsed Time: 0:01:38 ETA:   0:00:43"
     ]
    },
    {
     "name": "stdout",
     "output_type": "stream",
     "text": [
      "/map_to_tables_82.json.gz\n"
     ]
    },
    {
     "name": "stderr",
     "output_type": "stream",
     "text": [
      "\r",
      " 68% (247 of 359) |###############       | Elapsed Time: 0:01:38 ETA:   0:00:42"
     ]
    },
    {
     "name": "stdout",
     "output_type": "stream",
     "text": [
      "/map_to_tables_95.json.gz\n"
     ]
    },
    {
     "name": "stderr",
     "output_type": "stream",
     "text": [
      "\r",
      " 69% (248 of 359) |###############       | Elapsed Time: 0:01:39 ETA:   0:00:42"
     ]
    },
    {
     "name": "stdout",
     "output_type": "stream",
     "text": [
      "/map_to_tables_216.json.gz\n"
     ]
    },
    {
     "name": "stderr",
     "output_type": "stream",
     "text": [
      "\r",
      " 69% (249 of 359) |###############       | Elapsed Time: 0:01:39 ETA:   0:00:48"
     ]
    },
    {
     "name": "stdout",
     "output_type": "stream",
     "text": [
      "/map_to_tables_25.json.gz\n"
     ]
    },
    {
     "name": "stderr",
     "output_type": "stream",
     "text": [
      "\r",
      " 69% (250 of 359) |###############       | Elapsed Time: 0:01:40 ETA:   0:00:45"
     ]
    },
    {
     "name": "stdout",
     "output_type": "stream",
     "text": [
      "/map_to_tables_9.json.gz\n"
     ]
    },
    {
     "name": "stderr",
     "output_type": "stream",
     "text": [
      "\r",
      " 69% (251 of 359) |###############       | Elapsed Time: 0:01:40 ETA:   0:00:45"
     ]
    },
    {
     "name": "stdout",
     "output_type": "stream",
     "text": [
      "/map_to_tables_175.json.gz\n"
     ]
    },
    {
     "name": "stderr",
     "output_type": "stream",
     "text": [
      "\r",
      " 70% (252 of 359) |###############       | Elapsed Time: 0:01:41 ETA:   0:00:47"
     ]
    },
    {
     "name": "stdout",
     "output_type": "stream",
     "text": [
      "/map_to_tables_72.json.gz\n"
     ]
    },
    {
     "name": "stderr",
     "output_type": "stream",
     "text": [
      "\r",
      " 70% (253 of 359) |###############       | Elapsed Time: 0:01:41 ETA:   0:00:47"
     ]
    },
    {
     "name": "stdout",
     "output_type": "stream",
     "text": [
      "/map_to_tables_63.json.gz\n"
     ]
    },
    {
     "name": "stderr",
     "output_type": "stream",
     "text": [
      "\r",
      " 70% (254 of 359) |###############       | Elapsed Time: 0:01:41 ETA:   0:00:44"
     ]
    },
    {
     "name": "stdout",
     "output_type": "stream",
     "text": [
      "/map_to_tables_274.json.gz\n"
     ]
    },
    {
     "name": "stderr",
     "output_type": "stream",
     "text": [
      "\r",
      " 71% (255 of 359) |###############       | Elapsed Time: 0:01:42 ETA:   0:00:39"
     ]
    },
    {
     "name": "stdout",
     "output_type": "stream",
     "text": [
      "/map_to_tables_97.json.gz\n"
     ]
    },
    {
     "name": "stderr",
     "output_type": "stream",
     "text": [
      "\r",
      " 71% (256 of 359) |###############       | Elapsed Time: 0:01:42 ETA:   0:00:42"
     ]
    },
    {
     "name": "stdout",
     "output_type": "stream",
     "text": [
      "/map_to_tables_7.json.gz\n"
     ]
    },
    {
     "name": "stderr",
     "output_type": "stream",
     "text": [
      "\r",
      " 71% (257 of 359) |###############       | Elapsed Time: 0:01:42 ETA:   0:00:38"
     ]
    },
    {
     "name": "stdout",
     "output_type": "stream",
     "text": [
      "/map_to_tables_140.json.gz\n"
     ]
    },
    {
     "name": "stderr",
     "output_type": "stream",
     "text": [
      "\r",
      " 71% (258 of 359) |###############       | Elapsed Time: 0:01:43 ETA:   0:00:34"
     ]
    },
    {
     "name": "stdout",
     "output_type": "stream",
     "text": [
      "/map_to_tables_146.json.gz\n"
     ]
    },
    {
     "name": "stderr",
     "output_type": "stream",
     "text": [
      "\r",
      " 72% (259 of 359) |###############       | Elapsed Time: 0:01:43 ETA:   0:00:34"
     ]
    },
    {
     "name": "stdout",
     "output_type": "stream",
     "text": [
      "/map_to_tables_185.json.gz\n"
     ]
    },
    {
     "name": "stderr",
     "output_type": "stream",
     "text": [
      "\r",
      " 72% (260 of 359) |###############       | Elapsed Time: 0:01:44 ETA:   0:00:37"
     ]
    },
    {
     "name": "stdout",
     "output_type": "stream",
     "text": [
      "/map_to_tables_280.json.gz\n"
     ]
    },
    {
     "name": "stderr",
     "output_type": "stream",
     "text": [
      "\r",
      " 72% (261 of 359) |###############       | Elapsed Time: 0:01:44 ETA:   0:00:40"
     ]
    },
    {
     "name": "stdout",
     "output_type": "stream",
     "text": [
      "/map_to_tables_227.json.gz\n"
     ]
    },
    {
     "name": "stderr",
     "output_type": "stream",
     "text": [
      "\r",
      " 72% (262 of 359) |################      | Elapsed Time: 0:01:45 ETA:   0:00:42"
     ]
    },
    {
     "name": "stdout",
     "output_type": "stream",
     "text": [
      "/map_to_tables_329.json.gz\n"
     ]
    },
    {
     "name": "stderr",
     "output_type": "stream",
     "text": [
      "\r",
      " 73% (263 of 359) |################      | Elapsed Time: 0:01:45 ETA:   0:00:50"
     ]
    },
    {
     "name": "stdout",
     "output_type": "stream",
     "text": [
      "/map_to_tables_32.json.gz\n"
     ]
    },
    {
     "name": "stderr",
     "output_type": "stream",
     "text": [
      "\r",
      " 73% (264 of 359) |################      | Elapsed Time: 0:01:45 ETA:   0:00:45"
     ]
    },
    {
     "name": "stdout",
     "output_type": "stream",
     "text": [
      "/map_to_tables_357.json.gz\n"
     ]
    },
    {
     "name": "stderr",
     "output_type": "stream",
     "text": [
      "\r",
      " 73% (265 of 359) |################      | Elapsed Time: 0:01:46 ETA:   0:00:41"
     ]
    },
    {
     "name": "stdout",
     "output_type": "stream",
     "text": [
      "/map_to_tables_262.json.gz\n"
     ]
    },
    {
     "name": "stderr",
     "output_type": "stream",
     "text": [
      "\r",
      " 74% (266 of 359) |################      | Elapsed Time: 0:01:46 ETA:   0:00:41"
     ]
    },
    {
     "name": "stdout",
     "output_type": "stream",
     "text": [
      "/map_to_tables_142.json.gz\n"
     ]
    },
    {
     "name": "stderr",
     "output_type": "stream",
     "text": [
      "\r",
      " 74% (267 of 359) |################      | Elapsed Time: 0:01:47 ETA:   0:00:37"
     ]
    },
    {
     "name": "stdout",
     "output_type": "stream",
     "text": [
      "/map_to_tables_299.json.gz\n"
     ]
    },
    {
     "name": "stderr",
     "output_type": "stream",
     "text": [
      "\r",
      " 74% (268 of 359) |################      | Elapsed Time: 0:01:47 ETA:   0:00:35"
     ]
    },
    {
     "name": "stdout",
     "output_type": "stream",
     "text": [
      "/map_to_tables_276.json.gz\n"
     ]
    },
    {
     "name": "stderr",
     "output_type": "stream",
     "text": [
      "\r",
      " 74% (269 of 359) |################      | Elapsed Time: 0:01:47 ETA:   0:00:31"
     ]
    },
    {
     "name": "stdout",
     "output_type": "stream",
     "text": [
      "/map_to_tables_1.json.gz\n"
     ]
    },
    {
     "name": "stderr",
     "output_type": "stream",
     "text": [
      "\r",
      " 75% (270 of 359) |################      | Elapsed Time: 0:01:47 ETA:   0:00:30"
     ]
    },
    {
     "name": "stdout",
     "output_type": "stream",
     "text": [
      "/map_to_tables_110.json.gz\n"
     ]
    },
    {
     "name": "stderr",
     "output_type": "stream",
     "text": [
      "\r",
      " 75% (271 of 359) |################      | Elapsed Time: 0:01:48 ETA:   0:00:30"
     ]
    },
    {
     "name": "stdout",
     "output_type": "stream",
     "text": [
      "/map_to_tables_37.json.gz\n"
     ]
    },
    {
     "name": "stderr",
     "output_type": "stream",
     "text": [
      "\r",
      " 75% (272 of 359) |################      | Elapsed Time: 0:01:48 ETA:   0:00:29"
     ]
    },
    {
     "name": "stdout",
     "output_type": "stream",
     "text": [
      "/map_to_tables_328.json.gz\n"
     ]
    },
    {
     "name": "stderr",
     "output_type": "stream",
     "text": [
      "\r",
      " 76% (273 of 359) |################      | Elapsed Time: 0:01:49 ETA:   0:00:29"
     ]
    },
    {
     "name": "stdout",
     "output_type": "stream",
     "text": [
      "/map_to_tables_196.json.gz\n"
     ]
    },
    {
     "name": "stderr",
     "output_type": "stream",
     "text": [
      "\r",
      " 76% (274 of 359) |################      | Elapsed Time: 0:01:49 ETA:   0:00:29"
     ]
    },
    {
     "name": "stdout",
     "output_type": "stream",
     "text": [
      "/map_to_tables_40.json.gz\n"
     ]
    },
    {
     "name": "stderr",
     "output_type": "stream",
     "text": [
      "\r",
      " 76% (275 of 359) |################      | Elapsed Time: 0:01:49 ETA:   0:00:33"
     ]
    },
    {
     "name": "stdout",
     "output_type": "stream",
     "text": [
      "/map_to_tables_29.json.gz\n"
     ]
    },
    {
     "name": "stderr",
     "output_type": "stream",
     "text": [
      "\r",
      " 76% (276 of 359) |################      | Elapsed Time: 0:01:50 ETA:   0:00:36"
     ]
    },
    {
     "name": "stdout",
     "output_type": "stream",
     "text": [
      "/map_to_tables_215.json.gz\n"
     ]
    },
    {
     "name": "stderr",
     "output_type": "stream",
     "text": [
      "\r",
      " 77% (277 of 359) |################      | Elapsed Time: 0:01:51 ETA:   0:00:39"
     ]
    },
    {
     "name": "stdout",
     "output_type": "stream",
     "text": [
      "/map_to_tables_116.json.gz\n"
     ]
    },
    {
     "name": "stderr",
     "output_type": "stream",
     "text": [
      "\r",
      " 77% (278 of 359) |#################     | Elapsed Time: 0:01:51 ETA:   0:00:42"
     ]
    },
    {
     "name": "stdout",
     "output_type": "stream",
     "text": [
      "/map_to_tables_250.json.gz\n"
     ]
    },
    {
     "name": "stderr",
     "output_type": "stream",
     "text": [
      "\r",
      " 77% (279 of 359) |#################     | Elapsed Time: 0:01:52 ETA:   0:00:41"
     ]
    },
    {
     "name": "stdout",
     "output_type": "stream",
     "text": [
      "/map_to_tables_249.json.gz\n"
     ]
    },
    {
     "name": "stderr",
     "output_type": "stream",
     "text": [
      "\r",
      " 77% (280 of 359) |#################     | Elapsed Time: 0:01:52 ETA:   0:00:38"
     ]
    },
    {
     "name": "stdout",
     "output_type": "stream",
     "text": [
      "/map_to_tables_157.json.gz\n"
     ]
    },
    {
     "name": "stderr",
     "output_type": "stream",
     "text": [
      "\r",
      " 78% (281 of 359) |#################     | Elapsed Time: 0:01:52 ETA:   0:00:34"
     ]
    },
    {
     "name": "stdout",
     "output_type": "stream",
     "text": [
      "/map_to_tables_45.json.gz\n"
     ]
    },
    {
     "name": "stderr",
     "output_type": "stream",
     "text": [
      "\r",
      " 78% (282 of 359) |#################     | Elapsed Time: 0:01:53 ETA:   0:00:33"
     ]
    },
    {
     "name": "stdout",
     "output_type": "stream",
     "text": [
      "/map_to_tables_231.json.gz\n"
     ]
    },
    {
     "name": "stderr",
     "output_type": "stream",
     "text": [
      "\r",
      " 78% (283 of 359) |#################     | Elapsed Time: 0:01:53 ETA:   0:00:31"
     ]
    },
    {
     "name": "stdout",
     "output_type": "stream",
     "text": [
      "/map_to_tables_235.json.gz\n"
     ]
    },
    {
     "name": "stderr",
     "output_type": "stream",
     "text": [
      "\r",
      " 79% (284 of 359) |#################     | Elapsed Time: 0:01:53 ETA:   0:00:28"
     ]
    },
    {
     "name": "stdout",
     "output_type": "stream",
     "text": [
      "/map_to_tables_331.json.gz\n"
     ]
    },
    {
     "name": "stderr",
     "output_type": "stream",
     "text": [
      "\r",
      " 79% (285 of 359) |#################     | Elapsed Time: 0:01:54 ETA:   0:00:28"
     ]
    },
    {
     "name": "stdout",
     "output_type": "stream",
     "text": [
      "/map_to_tables_6.json.gz\n"
     ]
    },
    {
     "name": "stderr",
     "output_type": "stream",
     "text": [
      "\r",
      " 79% (286 of 359) |#################     | Elapsed Time: 0:01:54 ETA:   0:00:31"
     ]
    },
    {
     "name": "stdout",
     "output_type": "stream",
     "text": [
      "/map_to_tables_78.json.gz\n"
     ]
    },
    {
     "name": "stderr",
     "output_type": "stream",
     "text": [
      "\r",
      " 79% (287 of 359) |#################     | Elapsed Time: 0:01:55 ETA:   0:00:29"
     ]
    },
    {
     "name": "stdout",
     "output_type": "stream",
     "text": [
      "/map_to_tables_305.json.gz\n"
     ]
    },
    {
     "name": "stderr",
     "output_type": "stream",
     "text": [
      "\r",
      " 80% (288 of 359) |#################     | Elapsed Time: 0:01:55 ETA:   0:00:26"
     ]
    },
    {
     "name": "stdout",
     "output_type": "stream",
     "text": [
      "/map_to_tables_356.json.gz\n"
     ]
    },
    {
     "name": "stderr",
     "output_type": "stream",
     "text": [
      "\r",
      " 80% (289 of 359) |#################     | Elapsed Time: 0:01:55 ETA:   0:00:26"
     ]
    },
    {
     "name": "stdout",
     "output_type": "stream",
     "text": [
      "/map_to_tables_177.json.gz\n"
     ]
    },
    {
     "name": "stderr",
     "output_type": "stream",
     "text": [
      "\r",
      " 80% (290 of 359) |#################     | Elapsed Time: 0:01:56 ETA:   0:00:26"
     ]
    },
    {
     "name": "stdout",
     "output_type": "stream",
     "text": [
      "/map_to_tables_294.json.gz\n"
     ]
    },
    {
     "name": "stderr",
     "output_type": "stream",
     "text": [
      "\r",
      " 81% (291 of 359) |#################     | Elapsed Time: 0:01:56 ETA:   0:00:23"
     ]
    },
    {
     "name": "stdout",
     "output_type": "stream",
     "text": [
      "/map_to_tables_209.json.gz\n"
     ]
    },
    {
     "name": "stderr",
     "output_type": "stream",
     "text": [
      "\r",
      " 81% (292 of 359) |#################     | Elapsed Time: 0:01:56 ETA:   0:00:22"
     ]
    },
    {
     "name": "stdout",
     "output_type": "stream",
     "text": [
      "/map_to_tables_264.json.gz\n"
     ]
    },
    {
     "name": "stderr",
     "output_type": "stream",
     "text": [
      "\r",
      " 81% (293 of 359) |#################     | Elapsed Time: 0:01:57 ETA:   0:00:22"
     ]
    },
    {
     "name": "stdout",
     "output_type": "stream",
     "text": [
      "/map_to_tables_296.json.gz\n"
     ]
    },
    {
     "name": "stderr",
     "output_type": "stream",
     "text": [
      "\r",
      " 81% (294 of 359) |##################    | Elapsed Time: 0:01:57 ETA:   0:00:24"
     ]
    },
    {
     "name": "stdout",
     "output_type": "stream",
     "text": [
      "/map_to_tables_115.json.gz\n"
     ]
    },
    {
     "name": "stderr",
     "output_type": "stream",
     "text": [
      "\r",
      " 82% (295 of 359) |##################    | Elapsed Time: 0:01:58 ETA:   0:00:24"
     ]
    },
    {
     "name": "stdout",
     "output_type": "stream",
     "text": [
      "/map_to_tables_312.json.gz\n"
     ]
    },
    {
     "name": "stderr",
     "output_type": "stream",
     "text": [
      "\r",
      " 82% (296 of 359) |##################    | Elapsed Time: 0:01:58 ETA:   0:00:25"
     ]
    },
    {
     "name": "stdout",
     "output_type": "stream",
     "text": [
      "/map_to_tables_253.json.gz\n"
     ]
    },
    {
     "name": "stderr",
     "output_type": "stream",
     "text": [
      "\r",
      " 82% (297 of 359) |##################    | Elapsed Time: 0:01:58 ETA:   0:00:24"
     ]
    },
    {
     "name": "stdout",
     "output_type": "stream",
     "text": [
      "/map_to_tables_300.json.gz\n"
     ]
    },
    {
     "name": "stderr",
     "output_type": "stream",
     "text": [
      "\r",
      " 83% (298 of 359) |##################    | Elapsed Time: 0:01:59 ETA:   0:00:21"
     ]
    },
    {
     "name": "stdout",
     "output_type": "stream",
     "text": [
      "/map_to_tables_171.json.gz\n"
     ]
    },
    {
     "name": "stderr",
     "output_type": "stream",
     "text": [
      "\r",
      " 83% (299 of 359) |##################    | Elapsed Time: 0:01:59 ETA:   0:00:23"
     ]
    },
    {
     "name": "stdout",
     "output_type": "stream",
     "text": [
      "/map_to_tables_73.json.gz\n"
     ]
    },
    {
     "name": "stderr",
     "output_type": "stream",
     "text": [
      "\r",
      " 83% (300 of 359) |##################    | Elapsed Time: 0:02:00 ETA:   0:00:24"
     ]
    },
    {
     "name": "stdout",
     "output_type": "stream",
     "text": [
      "/map_to_tables_344.json.gz\n"
     ]
    },
    {
     "name": "stderr",
     "output_type": "stream",
     "text": [
      "\r",
      " 83% (301 of 359) |##################    | Elapsed Time: 0:02:00 ETA:   0:00:26"
     ]
    },
    {
     "name": "stdout",
     "output_type": "stream",
     "text": [
      "/map_to_tables_224.json.gz\n"
     ]
    },
    {
     "name": "stderr",
     "output_type": "stream",
     "text": [
      "\r",
      " 84% (302 of 359) |##################    | Elapsed Time: 0:02:01 ETA:   0:00:25"
     ]
    },
    {
     "name": "stdout",
     "output_type": "stream",
     "text": [
      "/map_to_tables_131.json.gz\n"
     ]
    },
    {
     "name": "stderr",
     "output_type": "stream",
     "text": [
      "\r",
      " 84% (303 of 359) |##################    | Elapsed Time: 0:02:01 ETA:   0:00:25"
     ]
    },
    {
     "name": "stdout",
     "output_type": "stream",
     "text": [
      "/map_to_tables_348.json.gz\n"
     ]
    },
    {
     "name": "stderr",
     "output_type": "stream",
     "text": [
      "\r",
      " 84% (304 of 359) |##################    | Elapsed Time: 0:02:01 ETA:   0:00:24"
     ]
    },
    {
     "name": "stdout",
     "output_type": "stream",
     "text": [
      "/map_to_tables_293.json.gz\n"
     ]
    },
    {
     "name": "stderr",
     "output_type": "stream",
     "text": [
      "\r",
      " 84% (305 of 359) |##################    | Elapsed Time: 0:02:02 ETA:   0:00:24"
     ]
    },
    {
     "name": "stdout",
     "output_type": "stream",
     "text": [
      "/map_to_tables_251.json.gz\n"
     ]
    },
    {
     "name": "stderr",
     "output_type": "stream",
     "text": [
      "\r",
      " 85% (306 of 359) |##################    | Elapsed Time: 0:02:02 ETA:   0:00:23"
     ]
    },
    {
     "name": "stdout",
     "output_type": "stream",
     "text": [
      "/map_to_tables_46.json.gz\n"
     ]
    },
    {
     "name": "stderr",
     "output_type": "stream",
     "text": [
      "\r",
      " 85% (307 of 359) |##################    | Elapsed Time: 0:02:03 ETA:   0:00:28"
     ]
    },
    {
     "name": "stdout",
     "output_type": "stream",
     "text": [
      "/map_to_tables_126.json.gz\n"
     ]
    },
    {
     "name": "stderr",
     "output_type": "stream",
     "text": [
      "\r",
      " 85% (308 of 359) |##################    | Elapsed Time: 0:02:03 ETA:   0:00:25"
     ]
    },
    {
     "name": "stdout",
     "output_type": "stream",
     "text": [
      "/map_to_tables_349.json.gz\n"
     ]
    },
    {
     "name": "stderr",
     "output_type": "stream",
     "text": [
      "\r",
      " 86% (309 of 359) |##################    | Elapsed Time: 0:02:04 ETA:   0:00:25"
     ]
    },
    {
     "name": "stdout",
     "output_type": "stream",
     "text": [
      "/map_to_tables_2.json.gz\n"
     ]
    },
    {
     "name": "stderr",
     "output_type": "stream",
     "text": [
      "\r",
      " 86% (310 of 359) |##################    | Elapsed Time: 0:02:04 ETA:   0:00:22"
     ]
    },
    {
     "name": "stdout",
     "output_type": "stream",
     "text": [
      "/map_to_tables_333.json.gz\n"
     ]
    },
    {
     "name": "stderr",
     "output_type": "stream",
     "text": [
      "\r",
      " 86% (311 of 359) |###################   | Elapsed Time: 0:02:04 ETA:   0:00:19"
     ]
    },
    {
     "name": "stdout",
     "output_type": "stream",
     "text": [
      "/map_to_tables_265.json.gz\n"
     ]
    },
    {
     "name": "stderr",
     "output_type": "stream",
     "text": [
      "\r",
      " 86% (312 of 359) |###################   | Elapsed Time: 0:02:05 ETA:   0:00:20"
     ]
    },
    {
     "name": "stdout",
     "output_type": "stream",
     "text": [
      "/map_to_tables_283.json.gz\n"
     ]
    },
    {
     "name": "stderr",
     "output_type": "stream",
     "text": [
      "\r",
      " 87% (313 of 359) |###################   | Elapsed Time: 0:02:06 ETA:   0:00:19"
     ]
    },
    {
     "name": "stdout",
     "output_type": "stream",
     "text": [
      "/map_to_tables_198.json.gz\n"
     ]
    },
    {
     "name": "stderr",
     "output_type": "stream",
     "text": [
      "\r",
      " 87% (314 of 359) |###################   | Elapsed Time: 0:02:06 ETA:   0:00:19"
     ]
    },
    {
     "name": "stdout",
     "output_type": "stream",
     "text": [
      "/map_to_tables_30.json.gz\n"
     ]
    },
    {
     "name": "stderr",
     "output_type": "stream",
     "text": [
      "\r",
      " 87% (315 of 359) |###################   | Elapsed Time: 0:02:07 ETA:   0:00:23"
     ]
    },
    {
     "name": "stdout",
     "output_type": "stream",
     "text": [
      "/map_to_tables_268.json.gz\n"
     ]
    },
    {
     "name": "stderr",
     "output_type": "stream",
     "text": [
      "\r",
      " 88% (316 of 359) |###################   | Elapsed Time: 0:02:07 ETA:   0:00:22"
     ]
    },
    {
     "name": "stdout",
     "output_type": "stream",
     "text": [
      "/map_to_tables_52.json.gz\n"
     ]
    },
    {
     "name": "stderr",
     "output_type": "stream",
     "text": [
      "\r",
      " 88% (317 of 359) |###################   | Elapsed Time: 0:02:07 ETA:   0:00:20"
     ]
    },
    {
     "name": "stdout",
     "output_type": "stream",
     "text": [
      "/map_to_tables_354.json.gz\n"
     ]
    },
    {
     "name": "stderr",
     "output_type": "stream",
     "text": [
      "\r",
      " 88% (318 of 359) |###################   | Elapsed Time: 0:02:08 ETA:   0:00:17"
     ]
    },
    {
     "name": "stdout",
     "output_type": "stream",
     "text": [
      "/map_to_tables_201.json.gz\n"
     ]
    },
    {
     "name": "stderr",
     "output_type": "stream",
     "text": [
      "\r",
      " 88% (319 of 359) |###################   | Elapsed Time: 0:02:08 ETA:   0:00:17"
     ]
    },
    {
     "name": "stdout",
     "output_type": "stream",
     "text": [
      "/map_to_tables_61.json.gz\n"
     ]
    },
    {
     "name": "stderr",
     "output_type": "stream",
     "text": [
      "\r",
      " 89% (320 of 359) |###################   | Elapsed Time: 0:02:09 ETA:   0:00:16"
     ]
    },
    {
     "name": "stdout",
     "output_type": "stream",
     "text": [
      "/map_to_tables_99.json.gz\n"
     ]
    },
    {
     "name": "stderr",
     "output_type": "stream",
     "text": [
      "\r",
      " 89% (321 of 359) |###################   | Elapsed Time: 0:02:09 ETA:   0:00:15"
     ]
    },
    {
     "name": "stdout",
     "output_type": "stream",
     "text": [
      "/map_to_tables_68.json.gz\n"
     ]
    },
    {
     "name": "stderr",
     "output_type": "stream",
     "text": [
      "\r",
      " 89% (322 of 359) |###################   | Elapsed Time: 0:02:10 ETA:   0:00:16"
     ]
    },
    {
     "name": "stdout",
     "output_type": "stream",
     "text": [
      "/map_to_tables_120.json.gz\n"
     ]
    },
    {
     "name": "stderr",
     "output_type": "stream",
     "text": [
      "\r",
      " 89% (323 of 359) |###################   | Elapsed Time: 0:02:10 ETA:   0:00:17"
     ]
    },
    {
     "name": "stdout",
     "output_type": "stream",
     "text": [
      "/map_to_tables_295.json.gz\n"
     ]
    },
    {
     "name": "stderr",
     "output_type": "stream",
     "text": [
      "\r",
      " 90% (324 of 359) |###################   | Elapsed Time: 0:02:10 ETA:   0:00:15"
     ]
    },
    {
     "name": "stdout",
     "output_type": "stream",
     "text": [
      "/map_to_tables_335.json.gz\n"
     ]
    },
    {
     "name": "stderr",
     "output_type": "stream",
     "text": [
      "\r",
      " 90% (325 of 359) |###################   | Elapsed Time: 0:02:11 ETA:   0:00:14"
     ]
    },
    {
     "name": "stdout",
     "output_type": "stream",
     "text": [
      "/map_to_tables_42.json.gz\n"
     ]
    },
    {
     "name": "stderr",
     "output_type": "stream",
     "text": [
      "\r",
      " 90% (326 of 359) |###################   | Elapsed Time: 0:02:11 ETA:   0:00:13"
     ]
    },
    {
     "name": "stdout",
     "output_type": "stream",
     "text": [
      "/map_to_tables_179.json.gz\n"
     ]
    },
    {
     "name": "stderr",
     "output_type": "stream",
     "text": [
      "\r",
      " 91% (327 of 359) |####################  | Elapsed Time: 0:02:11 ETA:   0:00:12"
     ]
    },
    {
     "name": "stdout",
     "output_type": "stream",
     "text": [
      "/map_to_tables_236.json.gz\n"
     ]
    },
    {
     "name": "stderr",
     "output_type": "stream",
     "text": [
      "\r",
      " 91% (328 of 359) |####################  | Elapsed Time: 0:02:12 ETA:   0:00:11"
     ]
    },
    {
     "name": "stdout",
     "output_type": "stream",
     "text": [
      "/map_to_tables_317.json.gz\n"
     ]
    },
    {
     "name": "stderr",
     "output_type": "stream",
     "text": [
      "\r",
      " 91% (329 of 359) |####################  | Elapsed Time: 0:02:12 ETA:   0:00:10"
     ]
    },
    {
     "name": "stdout",
     "output_type": "stream",
     "text": [
      "/map_to_tables_173.json.gz\n"
     ]
    },
    {
     "name": "stderr",
     "output_type": "stream",
     "text": [
      "\r",
      " 91% (330 of 359) |####################  | Elapsed Time: 0:02:13 ETA:   0:00:11"
     ]
    },
    {
     "name": "stdout",
     "output_type": "stream",
     "text": [
      "/map_to_tables_187.json.gz\n"
     ]
    },
    {
     "name": "stderr",
     "output_type": "stream",
     "text": [
      "\r",
      " 92% (331 of 359) |####################  | Elapsed Time: 0:02:13 ETA:   0:00:10"
     ]
    },
    {
     "name": "stdout",
     "output_type": "stream",
     "text": [
      "/map_to_tables_93.json.gz\n"
     ]
    },
    {
     "name": "stderr",
     "output_type": "stream",
     "text": [
      "\r",
      " 92% (332 of 359) |####################  | Elapsed Time: 0:02:14 ETA:   0:00:12"
     ]
    },
    {
     "name": "stdout",
     "output_type": "stream",
     "text": [
      "/map_to_tables_21.json.gz\n"
     ]
    },
    {
     "name": "stderr",
     "output_type": "stream",
     "text": [
      "\r",
      " 92% (333 of 359) |####################  | Elapsed Time: 0:02:14 ETA:   0:00:10"
     ]
    },
    {
     "name": "stdout",
     "output_type": "stream",
     "text": [
      "/map_to_tables_226.json.gz\n"
     ]
    },
    {
     "name": "stderr",
     "output_type": "stream",
     "text": [
      "\r",
      " 93% (334 of 359) |####################  | Elapsed Time: 0:02:14 ETA:   0:00:10"
     ]
    },
    {
     "name": "stdout",
     "output_type": "stream",
     "text": [
      "/map_to_tables_221.json.gz\n"
     ]
    },
    {
     "name": "stderr",
     "output_type": "stream",
     "text": [
      "\r",
      " 93% (335 of 359) |####################  | Elapsed Time: 0:02:15 ETA:   0:00:09"
     ]
    },
    {
     "name": "stdout",
     "output_type": "stream",
     "text": [
      "/map_to_tables_148.json.gz\n"
     ]
    },
    {
     "name": "stderr",
     "output_type": "stream",
     "text": [
      "\r",
      " 93% (336 of 359) |####################  | Elapsed Time: 0:02:15 ETA:   0:00:08"
     ]
    },
    {
     "name": "stdout",
     "output_type": "stream",
     "text": [
      "/map_to_tables_34.json.gz\n"
     ]
    },
    {
     "name": "stderr",
     "output_type": "stream",
     "text": [
      "\r",
      " 93% (337 of 359) |####################  | Elapsed Time: 0:02:15 ETA:   0:00:08"
     ]
    },
    {
     "name": "stdout",
     "output_type": "stream",
     "text": [
      "/map_to_tables_307.json.gz\n"
     ]
    },
    {
     "name": "stderr",
     "output_type": "stream",
     "text": [
      "\r",
      " 94% (338 of 359) |####################  | Elapsed Time: 0:02:16 ETA:   0:00:08"
     ]
    },
    {
     "name": "stdout",
     "output_type": "stream",
     "text": [
      "/map_to_tables_105.json.gz\n"
     ]
    },
    {
     "name": "stderr",
     "output_type": "stream",
     "text": [
      "\r",
      " 94% (339 of 359) |####################  | Elapsed Time: 0:02:17 ETA:   0:00:09"
     ]
    },
    {
     "name": "stdout",
     "output_type": "stream",
     "text": [
      "/map_to_tables_89.json.gz\n"
     ]
    },
    {
     "name": "stderr",
     "output_type": "stream",
     "text": [
      "\r",
      " 94% (340 of 359) |####################  | Elapsed Time: 0:02:17 ETA:   0:00:08"
     ]
    },
    {
     "name": "stdout",
     "output_type": "stream",
     "text": [
      "/map_to_tables_138.json.gz\n"
     ]
    },
    {
     "name": "stderr",
     "output_type": "stream",
     "text": [
      "\r",
      " 94% (341 of 359) |####################  | Elapsed Time: 0:02:17 ETA:   0:00:08"
     ]
    },
    {
     "name": "stdout",
     "output_type": "stream",
     "text": [
      "/map_to_tables_246.json.gz\n"
     ]
    },
    {
     "name": "stderr",
     "output_type": "stream",
     "text": [
      "\r",
      " 95% (342 of 359) |####################  | Elapsed Time: 0:02:17 ETA:   0:00:06"
     ]
    },
    {
     "name": "stdout",
     "output_type": "stream",
     "text": [
      "/map_to_tables_337.json.gz\n"
     ]
    },
    {
     "name": "stderr",
     "output_type": "stream",
     "text": [
      "\r",
      " 95% (343 of 359) |##################### | Elapsed Time: 0:02:18 ETA:   0:00:06"
     ]
    },
    {
     "name": "stdout",
     "output_type": "stream",
     "text": [
      "/map_to_tables_100.json.gz\n"
     ]
    },
    {
     "name": "stderr",
     "output_type": "stream",
     "text": [
      "\r",
      " 95% (344 of 359) |##################### | Elapsed Time: 0:02:18 ETA:   0:00:05"
     ]
    },
    {
     "name": "stdout",
     "output_type": "stream",
     "text": [
      "/map_to_tables_257.json.gz\n"
     ]
    },
    {
     "name": "stderr",
     "output_type": "stream",
     "text": [
      "\r",
      " 96% (345 of 359) |##################### | Elapsed Time: 0:02:19 ETA:   0:00:05"
     ]
    },
    {
     "name": "stdout",
     "output_type": "stream",
     "text": [
      "/map_to_tables_64.json.gz\n"
     ]
    },
    {
     "name": "stderr",
     "output_type": "stream",
     "text": [
      "\r",
      " 96% (346 of 359) |##################### | Elapsed Time: 0:02:19 ETA:   0:00:05"
     ]
    },
    {
     "name": "stdout",
     "output_type": "stream",
     "text": [
      "/map_to_tables_139.json.gz\n"
     ]
    },
    {
     "name": "stderr",
     "output_type": "stream",
     "text": [
      "\r",
      " 96% (347 of 359) |##################### | Elapsed Time: 0:02:19 ETA:   0:00:04"
     ]
    },
    {
     "name": "stdout",
     "output_type": "stream",
     "text": [
      "/map_to_tables_214.json.gz\n"
     ]
    },
    {
     "name": "stderr",
     "output_type": "stream",
     "text": [
      "\r",
      " 96% (348 of 359) |##################### | Elapsed Time: 0:02:20 ETA:   0:00:04"
     ]
    },
    {
     "name": "stdout",
     "output_type": "stream",
     "text": [
      "/map_to_tables_4.json.gz\n"
     ]
    },
    {
     "name": "stderr",
     "output_type": "stream",
     "text": [
      "\r",
      " 97% (349 of 359) |##################### | Elapsed Time: 0:02:20 ETA:   0:00:03"
     ]
    },
    {
     "name": "stdout",
     "output_type": "stream",
     "text": [
      "/map_to_tables_194.json.gz\n"
     ]
    },
    {
     "name": "stderr",
     "output_type": "stream",
     "text": [
      "\r",
      " 97% (350 of 359) |##################### | Elapsed Time: 0:02:20 ETA:   0:00:03"
     ]
    },
    {
     "name": "stdout",
     "output_type": "stream",
     "text": [
      "/map_to_tables_351.json.gz\n"
     ]
    },
    {
     "name": "stderr",
     "output_type": "stream",
     "text": [
      "\r",
      " 97% (351 of 359) |##################### | Elapsed Time: 0:02:21 ETA:   0:00:02"
     ]
    },
    {
     "name": "stdout",
     "output_type": "stream",
     "text": [
      "/map_to_tables_162.json.gz\n"
     ]
    },
    {
     "name": "stderr",
     "output_type": "stream",
     "text": [
      "\r",
      " 98% (352 of 359) |##################### | Elapsed Time: 0:02:21 ETA:   0:00:02"
     ]
    },
    {
     "name": "stdout",
     "output_type": "stream",
     "text": [
      "/map_to_tables_345.json.gz\n"
     ]
    },
    {
     "name": "stderr",
     "output_type": "stream",
     "text": [
      "\r",
      " 98% (353 of 359) |##################### | Elapsed Time: 0:02:22 ETA:   0:00:02"
     ]
    },
    {
     "name": "stdout",
     "output_type": "stream",
     "text": [
      "/map_to_tables_83.json.gz\n"
     ]
    },
    {
     "name": "stderr",
     "output_type": "stream",
     "text": [
      "\r",
      " 98% (354 of 359) |##################### | Elapsed Time: 0:02:22 ETA:   0:00:02"
     ]
    },
    {
     "name": "stdout",
     "output_type": "stream",
     "text": [
      "/map_to_tables_145.json.gz\n"
     ]
    },
    {
     "name": "stderr",
     "output_type": "stream",
     "text": [
      "\r",
      " 98% (355 of 359) |##################### | Elapsed Time: 0:02:23 ETA:   0:00:01"
     ]
    },
    {
     "name": "stdout",
     "output_type": "stream",
     "text": [
      "/map_to_tables_336.json.gz\n"
     ]
    },
    {
     "name": "stderr",
     "output_type": "stream",
     "text": [
      "\r",
      " 99% (356 of 359) |##################### | Elapsed Time: 0:02:23 ETA:   0:00:01"
     ]
    },
    {
     "name": "stdout",
     "output_type": "stream",
     "text": [
      "/map_to_tables_192.json.gz\n"
     ]
    },
    {
     "name": "stderr",
     "output_type": "stream",
     "text": [
      "\r",
      " 99% (357 of 359) |##################### | Elapsed Time: 0:02:23 ETA:   0:00:00"
     ]
    },
    {
     "name": "stdout",
     "output_type": "stream",
     "text": [
      "/map_to_tables_289.json.gz\n"
     ]
    },
    {
     "name": "stderr",
     "output_type": "stream",
     "text": [
      "\r",
      " 99% (358 of 359) |##################### | Elapsed Time: 0:02:24 ETA:   0:00:00"
     ]
    },
    {
     "name": "stdout",
     "output_type": "stream",
     "text": [
      "/map_to_tables_247.json.gz\n"
     ]
    },
    {
     "name": "stderr",
     "output_type": "stream",
     "text": [
      "100% (359 of 359) |######################| Elapsed Time: 0:02:24 Time:  0:02:24\n"
     ]
    }
   ],
   "source": [
    "# use the cleaned tables to append into a series and the get a dataframe from that with the remaining cluster ids\n",
    "count = 0\n",
    "data=[]\n",
    "with progressbar.ProgressBar(max_value=len(zip_files_mapping)) as bar:\n",
    "    for zip_file in zip_files_mapping:\n",
    "        print('/{}'.format(zip_file))\n",
    "        df = pd.read_json(mapping_corpus_path_2 + '/{}'.format(zip_file), compression='gzip', lines=True)\n",
    "        data.append(df)\n",
    "        count += 1\n",
    "        bar.update(count)\n",
    "df_large= pd.concat(data, ignore_index=True)\n",
    "#df.large.to_json(os.path.join(mapping_corpus_path_2, 'concatentation'), compression='gzip', orient='records', lines=True)"
   ]
  },
  {
   "cell_type": "code",
   "execution_count": 16,
   "metadata": {},
   "outputs": [
    {
     "data": {
      "text/html": [
       "<div>\n",
       "<style scoped>\n",
       "    .dataframe tbody tr th:only-of-type {\n",
       "        vertical-align: middle;\n",
       "    }\n",
       "\n",
       "    .dataframe tbody tr th {\n",
       "        vertical-align: top;\n",
       "    }\n",
       "\n",
       "    .dataframe thead th {\n",
       "        text-align: right;\n",
       "    }\n",
       "</style>\n",
       "<table border=\"1\" class=\"dataframe\">\n",
       "  <thead>\n",
       "    <tr style=\"text-align: right;\">\n",
       "      <th></th>\n",
       "      <th>cluster_id</th>\n",
       "      <th>url</th>\n",
       "      <th>row_id</th>\n",
       "      <th>table_id</th>\n",
       "      <th>Valid</th>\n",
       "    </tr>\n",
       "  </thead>\n",
       "  <tbody>\n",
       "    <tr>\n",
       "      <th>0</th>\n",
       "      <td>59178314</td>\n",
       "      <td>https://www.cultureindoor.com/796-irrigation-a...</td>\n",
       "      <td>1561</td>\n",
       "      <td>Product_cultureindoor.com_September2020.json.gz</td>\n",
       "      <td>1</td>\n",
       "    </tr>\n",
       "    <tr>\n",
       "      <th>1</th>\n",
       "      <td>70692685</td>\n",
       "      <td>https://www.culturekings.com/products/new-era-...</td>\n",
       "      <td>3893</td>\n",
       "      <td>Product_culturekings.com_September2020.json.gz</td>\n",
       "      <td>1</td>\n",
       "    </tr>\n",
       "    <tr>\n",
       "      <th>2</th>\n",
       "      <td>395606</td>\n",
       "      <td>https://www.culturekings.com/products/new-era-...</td>\n",
       "      <td>3894</td>\n",
       "      <td>Product_culturekings.com_September2020.json.gz</td>\n",
       "      <td>1</td>\n",
       "    </tr>\n",
       "    <tr>\n",
       "      <th>3</th>\n",
       "      <td>3361797</td>\n",
       "      <td>https://www.customizedgirl.com/design/2605608/...</td>\n",
       "      <td>9318</td>\n",
       "      <td>Product_customizedgirl.com_September2020.json.gz</td>\n",
       "      <td>1</td>\n",
       "    </tr>\n",
       "    <tr>\n",
       "      <th>4</th>\n",
       "      <td>235755</td>\n",
       "      <td>https://www.customizedgirl.com/design/2613423/...</td>\n",
       "      <td>9319</td>\n",
       "      <td>Product_customizedgirl.com_September2020.json.gz</td>\n",
       "      <td>1</td>\n",
       "    </tr>\n",
       "    <tr>\n",
       "      <th>...</th>\n",
       "      <td>...</td>\n",
       "      <td>...</td>\n",
       "      <td>...</td>\n",
       "      <td>...</td>\n",
       "      <td>...</td>\n",
       "    </tr>\n",
       "    <tr>\n",
       "      <th>24687502</th>\n",
       "      <td>8653717</td>\n",
       "      <td>https://shop-list.com/women/utuwa-tatara/sg323...</td>\n",
       "      <td>1620</td>\n",
       "      <td>Product_shop-list.com_September2020.json.gz</td>\n",
       "      <td>1</td>\n",
       "    </tr>\n",
       "    <tr>\n",
       "      <th>24687503</th>\n",
       "      <td>22258637</td>\n",
       "      <td>https://shop-list.com/women/youmotto/famille-ltm</td>\n",
       "      <td>1621</td>\n",
       "      <td>Product_shop-list.com_September2020.json.gz</td>\n",
       "      <td>1</td>\n",
       "    </tr>\n",
       "    <tr>\n",
       "      <th>24687504</th>\n",
       "      <td>41434658</td>\n",
       "      <td>https://shop.agwaycapecod.com/products/0190147...</td>\n",
       "      <td>126</td>\n",
       "      <td>Product_agwaycapecod.com_September2020.json.gz</td>\n",
       "      <td>1</td>\n",
       "    </tr>\n",
       "    <tr>\n",
       "      <th>24687505</th>\n",
       "      <td>62702145</td>\n",
       "      <td>https://shop.agwaycapecod.com/products/0373214...</td>\n",
       "      <td>127</td>\n",
       "      <td>Product_agwaycapecod.com_September2020.json.gz</td>\n",
       "      <td>1</td>\n",
       "    </tr>\n",
       "    <tr>\n",
       "      <th>24687506</th>\n",
       "      <td>60936713</td>\n",
       "      <td>https://shop.areefcreation.com/products/ls-apr...</td>\n",
       "      <td>120</td>\n",
       "      <td>Product_areefcreation.com_September2020.json.gz</td>\n",
       "      <td>1</td>\n",
       "    </tr>\n",
       "  </tbody>\n",
       "</table>\n",
       "<p>24687507 rows × 5 columns</p>\n",
       "</div>"
      ],
      "text/plain": [
       "          cluster_id                                                url  \\\n",
       "0           59178314  https://www.cultureindoor.com/796-irrigation-a...   \n",
       "1           70692685  https://www.culturekings.com/products/new-era-...   \n",
       "2             395606  https://www.culturekings.com/products/new-era-...   \n",
       "3            3361797  https://www.customizedgirl.com/design/2605608/...   \n",
       "4             235755  https://www.customizedgirl.com/design/2613423/...   \n",
       "...              ...                                                ...   \n",
       "24687502     8653717  https://shop-list.com/women/utuwa-tatara/sg323...   \n",
       "24687503    22258637   https://shop-list.com/women/youmotto/famille-ltm   \n",
       "24687504    41434658  https://shop.agwaycapecod.com/products/0190147...   \n",
       "24687505    62702145  https://shop.agwaycapecod.com/products/0373214...   \n",
       "24687506    60936713  https://shop.areefcreation.com/products/ls-apr...   \n",
       "\n",
       "          row_id                                          table_id  Valid  \n",
       "0           1561   Product_cultureindoor.com_September2020.json.gz      1  \n",
       "1           3893    Product_culturekings.com_September2020.json.gz      1  \n",
       "2           3894    Product_culturekings.com_September2020.json.gz      1  \n",
       "3           9318  Product_customizedgirl.com_September2020.json.gz      1  \n",
       "4           9319  Product_customizedgirl.com_September2020.json.gz      1  \n",
       "...          ...                                               ...    ...  \n",
       "24687502    1620       Product_shop-list.com_September2020.json.gz      1  \n",
       "24687503    1621       Product_shop-list.com_September2020.json.gz      1  \n",
       "24687504     126    Product_agwaycapecod.com_September2020.json.gz      1  \n",
       "24687505     127    Product_agwaycapecod.com_September2020.json.gz      1  \n",
       "24687506     120   Product_areefcreation.com_September2020.json.gz      1  \n",
       "\n",
       "[24687507 rows x 5 columns]"
      ]
     },
     "execution_count": 16,
     "metadata": {},
     "output_type": "execute_result"
    }
   ],
   "source": [
    "df_large"
   ]
  },
  {
   "cell_type": "code",
   "execution_count": 17,
   "metadata": {},
   "outputs": [],
   "source": [
    "#fill up missing values in both product category data frames to be able to split the tuples up\n",
    "df_electronics_filtered=df_electronics.applymap(lambda x: [0,0] if x is None else x)\n",
    "df_clothes_filtered=df_clothes.applymap(lambda x: [0,0] if x is None else x)"
   ]
  },
  {
   "cell_type": "code",
   "execution_count": 20,
   "metadata": {},
   "outputs": [
    {
     "data": {
      "text/html": [
       "<div>\n",
       "<style scoped>\n",
       "    .dataframe tbody tr th:only-of-type {\n",
       "        vertical-align: middle;\n",
       "    }\n",
       "\n",
       "    .dataframe tbody tr th {\n",
       "        vertical-align: top;\n",
       "    }\n",
       "\n",
       "    .dataframe thead th {\n",
       "        text-align: right;\n",
       "    }\n",
       "</style>\n",
       "<table border=\"1\" class=\"dataframe\">\n",
       "  <thead>\n",
       "    <tr style=\"text-align: right;\">\n",
       "      <th></th>\n",
       "      <th>table_id</th>\n",
       "      <th>row_id</th>\n",
       "    </tr>\n",
       "  </thead>\n",
       "  <tbody>\n",
       "    <tr>\n",
       "      <th>lenovo</th>\n",
       "      <td>Product_likenewpcs.com_September2020.json.gz</td>\n",
       "      <td>33</td>\n",
       "    </tr>\n",
       "    <tr>\n",
       "      <th>canon</th>\n",
       "      <td>Product_teklobby.com_September2020.json.gz</td>\n",
       "      <td>17</td>\n",
       "    </tr>\n",
       "    <tr>\n",
       "      <th>hitachi</th>\n",
       "      <td>Product_thebladerunner.com.au_September2020.js...</td>\n",
       "      <td>1</td>\n",
       "    </tr>\n",
       "    <tr>\n",
       "      <th>resonant</th>\n",
       "      <td>Product_einsteindeals.com_September2020.json.gz</td>\n",
       "      <td>21</td>\n",
       "    </tr>\n",
       "    <tr>\n",
       "      <th>sony</th>\n",
       "      <td>Product_teklobby.com_September2020.json.gz</td>\n",
       "      <td>137</td>\n",
       "    </tr>\n",
       "    <tr>\n",
       "      <th>nvidia</th>\n",
       "      <td>Product_teklobby.com_September2020.json.gz</td>\n",
       "      <td>164</td>\n",
       "    </tr>\n",
       "    <tr>\n",
       "      <th>nintendo</th>\n",
       "      <td>Product_customrapid.com_September2020.json.gz</td>\n",
       "      <td>171</td>\n",
       "    </tr>\n",
       "    <tr>\n",
       "      <th>apple</th>\n",
       "      <td>Product_uppolomallets.com_September2020.json.gz</td>\n",
       "      <td>33</td>\n",
       "    </tr>\n",
       "    <tr>\n",
       "      <th>samsung</th>\n",
       "      <td>Product_lorexpromos.com_September2020.json.gz</td>\n",
       "      <td>746</td>\n",
       "    </tr>\n",
       "    <tr>\n",
       "      <th>yaskawa</th>\n",
       "      <td>Product_spartancontrols.com_September2020.json.gz</td>\n",
       "      <td>126</td>\n",
       "    </tr>\n",
       "    <tr>\n",
       "      <th>asus</th>\n",
       "      <td>Product_teklobby.com_September2020.json.gz</td>\n",
       "      <td>149</td>\n",
       "    </tr>\n",
       "    <tr>\n",
       "      <th>dell</th>\n",
       "      <td>Product_likenewpcs.com_September2020.json.gz</td>\n",
       "      <td>16</td>\n",
       "    </tr>\n",
       "    <tr>\n",
       "      <th>hp</th>\n",
       "      <td>Product_officecentralinteriors.com_September20...</td>\n",
       "      <td>578</td>\n",
       "    </tr>\n",
       "    <tr>\n",
       "      <th>amd</th>\n",
       "      <td>Product_twenergy.com_September2020.json.gz</td>\n",
       "      <td>37</td>\n",
       "    </tr>\n",
       "    <tr>\n",
       "      <th>nikon</th>\n",
       "      <td>Product_teklobby.com_September2020.json.gz</td>\n",
       "      <td>121</td>\n",
       "    </tr>\n",
       "    <tr>\n",
       "      <th>xiaomi</th>\n",
       "      <td>Product_teklobby.com_September2020.json.gz</td>\n",
       "      <td>186</td>\n",
       "    </tr>\n",
       "    <tr>\n",
       "      <th>cisco</th>\n",
       "      <td>Product_housingunits.co.uk_September2020.json.gz</td>\n",
       "      <td>2281</td>\n",
       "    </tr>\n",
       "    <tr>\n",
       "      <th>panasonic</th>\n",
       "      <td>Product_planetbike.com_September2020.json.gz</td>\n",
       "      <td>233</td>\n",
       "    </tr>\n",
       "    <tr>\n",
       "      <th>intel</th>\n",
       "      <td>Product_likenewpcs.com_September2020.json.gz</td>\n",
       "      <td>0</td>\n",
       "    </tr>\n",
       "    <tr>\n",
       "      <th>flex</th>\n",
       "      <td>Product_officecentralinteriors.com_September20...</td>\n",
       "      <td>50</td>\n",
       "    </tr>\n",
       "  </tbody>\n",
       "</table>\n",
       "</div>"
      ],
      "text/plain": [
       "                                                    table_id  row_id\n",
       "lenovo          Product_likenewpcs.com_September2020.json.gz      33\n",
       "canon             Product_teklobby.com_September2020.json.gz      17\n",
       "hitachi    Product_thebladerunner.com.au_September2020.js...       1\n",
       "resonant     Product_einsteindeals.com_September2020.json.gz      21\n",
       "sony              Product_teklobby.com_September2020.json.gz     137\n",
       "nvidia            Product_teklobby.com_September2020.json.gz     164\n",
       "nintendo       Product_customrapid.com_September2020.json.gz     171\n",
       "apple        Product_uppolomallets.com_September2020.json.gz      33\n",
       "samsung        Product_lorexpromos.com_September2020.json.gz     746\n",
       "yaskawa    Product_spartancontrols.com_September2020.json.gz     126\n",
       "asus              Product_teklobby.com_September2020.json.gz     149\n",
       "dell            Product_likenewpcs.com_September2020.json.gz      16\n",
       "hp         Product_officecentralinteriors.com_September20...     578\n",
       "amd               Product_twenergy.com_September2020.json.gz      37\n",
       "nikon             Product_teklobby.com_September2020.json.gz     121\n",
       "xiaomi            Product_teklobby.com_September2020.json.gz     186\n",
       "cisco       Product_housingunits.co.uk_September2020.json.gz    2281\n",
       "panasonic       Product_planetbike.com_September2020.json.gz     233\n",
       "intel           Product_likenewpcs.com_September2020.json.gz       0\n",
       "flex       Product_officecentralinteriors.com_September20...      50"
      ]
     },
     "execution_count": 20,
     "metadata": {},
     "output_type": "execute_result"
    }
   ],
   "source": [
    "# # clean up the tables\n",
    "# #split up tuples in in each column for each brand into two different columns table_id and row_id and concatente\n",
    "# df_electronics_cleaned=pd.DataFrame(columns=['table_id', 'row_id'])\n",
    "# df_electronics_cleaned[['table_id', 'row_id']]=pd.DataFrame(df_electronics_filtered[0].tolist(), index=df_electronics_filtered.index)\n",
    "# df_electronics_cleaned"
   ]
  },
  {
   "cell_type": "code",
   "execution_count": 26,
   "metadata": {},
   "outputs": [
    {
     "name": "stderr",
     "output_type": "stream",
     "text": [
      "100% (27520 of 27520) |##################| Elapsed Time: 0:07:39 Time:  0:07:39\n"
     ]
    }
   ],
   "source": [
    "# clean up the tables\n",
    "#split up tuples in in each column for each brand into two different columns table_id and row_id and concatente these rows\n",
    "df_electronics_cleaned=pd.DataFrame(columns=['table_id', 'row_id'])\n",
    "count = 0\n",
    "with progressbar.ProgressBar(max_value=len(df_electronics_filtered.columns)) as bar:\n",
    "    for i in range(len(df_electronics_filtered.columns)):\n",
    "        df_electronics_cleaned = df_electronics_cleaned.append(pd.DataFrame(df_electronics_filtered[i].tolist(),columns=['table_id', 'row_id'], index=df_electronics_filtered.index))\n",
    "        count += 1\n",
    "        bar.update(count)"
   ]
  },
  {
   "cell_type": "code",
   "execution_count": 62,
   "metadata": {},
   "outputs": [
    {
     "name": "stderr",
     "output_type": "stream",
     "text": [
      "100% (21893 of 21893) |##################| Elapsed Time: 0:04:41 Time:  0:04:41\n"
     ]
    }
   ],
   "source": [
    "#clean up the tables\n",
    "#split up tuples in in each column for each brand into two different columns table_id and row_id and concatente these rows\n",
    "df_clothes_cleaned=pd.DataFrame(columns=['table_id', 'row_id'])\n",
    "count = 0\n",
    "with progressbar.ProgressBar(max_value=len(df_clothes_filtered.columns)) as bar:\n",
    "    for i in range(len(df_clothes_filtered.columns)):\n",
    "        df_clothes_cleaned = df_clothes_cleaned.append(pd.DataFrame(df_clothes_filtered[i].tolist(),columns=['table_id', 'row_id'], index=df_clothes_filtered.index))\n",
    "        count += 1\n",
    "        bar.update(count)"
   ]
  },
  {
   "cell_type": "code",
   "execution_count": 27,
   "metadata": {},
   "outputs": [
    {
     "data": {
      "text/html": [
       "<div>\n",
       "<style scoped>\n",
       "    .dataframe tbody tr th:only-of-type {\n",
       "        vertical-align: middle;\n",
       "    }\n",
       "\n",
       "    .dataframe tbody tr th {\n",
       "        vertical-align: top;\n",
       "    }\n",
       "\n",
       "    .dataframe thead th {\n",
       "        text-align: right;\n",
       "    }\n",
       "</style>\n",
       "<table border=\"1\" class=\"dataframe\">\n",
       "  <thead>\n",
       "    <tr style=\"text-align: right;\">\n",
       "      <th></th>\n",
       "      <th>brand</th>\n",
       "      <th>table_id</th>\n",
       "      <th>row_id</th>\n",
       "    </tr>\n",
       "  </thead>\n",
       "  <tbody>\n",
       "    <tr>\n",
       "      <th>0</th>\n",
       "      <td>lenovo</td>\n",
       "      <td>Product_likenewpcs.com_September2020.json.gz</td>\n",
       "      <td>33</td>\n",
       "    </tr>\n",
       "    <tr>\n",
       "      <th>1</th>\n",
       "      <td>canon</td>\n",
       "      <td>Product_teklobby.com_September2020.json.gz</td>\n",
       "      <td>17</td>\n",
       "    </tr>\n",
       "    <tr>\n",
       "      <th>2</th>\n",
       "      <td>hitachi</td>\n",
       "      <td>Product_thebladerunner.com.au_September2020.js...</td>\n",
       "      <td>1</td>\n",
       "    </tr>\n",
       "    <tr>\n",
       "      <th>3</th>\n",
       "      <td>resonant</td>\n",
       "      <td>Product_einsteindeals.com_September2020.json.gz</td>\n",
       "      <td>21</td>\n",
       "    </tr>\n",
       "    <tr>\n",
       "      <th>4</th>\n",
       "      <td>sony</td>\n",
       "      <td>Product_teklobby.com_September2020.json.gz</td>\n",
       "      <td>137</td>\n",
       "    </tr>\n",
       "    <tr>\n",
       "      <th>...</th>\n",
       "      <td>...</td>\n",
       "      <td>...</td>\n",
       "      <td>...</td>\n",
       "    </tr>\n",
       "    <tr>\n",
       "      <th>550395</th>\n",
       "      <td>xiaomi</td>\n",
       "      <td>0</td>\n",
       "      <td>0</td>\n",
       "    </tr>\n",
       "    <tr>\n",
       "      <th>550396</th>\n",
       "      <td>cisco</td>\n",
       "      <td>0</td>\n",
       "      <td>0</td>\n",
       "    </tr>\n",
       "    <tr>\n",
       "      <th>550397</th>\n",
       "      <td>panasonic</td>\n",
       "      <td>0</td>\n",
       "      <td>0</td>\n",
       "    </tr>\n",
       "    <tr>\n",
       "      <th>550398</th>\n",
       "      <td>intel</td>\n",
       "      <td>0</td>\n",
       "      <td>0</td>\n",
       "    </tr>\n",
       "    <tr>\n",
       "      <th>550399</th>\n",
       "      <td>flex</td>\n",
       "      <td>0</td>\n",
       "      <td>0</td>\n",
       "    </tr>\n",
       "  </tbody>\n",
       "</table>\n",
       "<p>550400 rows × 3 columns</p>\n",
       "</div>"
      ],
      "text/plain": [
       "            brand                                           table_id row_id\n",
       "0          lenovo       Product_likenewpcs.com_September2020.json.gz     33\n",
       "1           canon         Product_teklobby.com_September2020.json.gz     17\n",
       "2         hitachi  Product_thebladerunner.com.au_September2020.js...      1\n",
       "3        resonant    Product_einsteindeals.com_September2020.json.gz     21\n",
       "4            sony         Product_teklobby.com_September2020.json.gz    137\n",
       "...           ...                                                ...    ...\n",
       "550395     xiaomi                                                  0      0\n",
       "550396      cisco                                                  0      0\n",
       "550397  panasonic                                                  0      0\n",
       "550398      intel                                                  0      0\n",
       "550399       flex                                                  0      0\n",
       "\n",
       "[550400 rows x 3 columns]"
      ]
     },
     "execution_count": 27,
     "metadata": {},
     "output_type": "execute_result"
    }
   ],
   "source": [
    "#rename the columns to be able to join them into the cluster_id table\n",
    "df_electronics_cleaned=df_electronics_cleaned.reset_index().rename(columns={'index':\"brand\"})\n",
    "df_electronics_cleaned"
   ]
  },
  {
   "cell_type": "code",
   "execution_count": 63,
   "metadata": {},
   "outputs": [
    {
     "data": {
      "text/html": [
       "<div>\n",
       "<style scoped>\n",
       "    .dataframe tbody tr th:only-of-type {\n",
       "        vertical-align: middle;\n",
       "    }\n",
       "\n",
       "    .dataframe tbody tr th {\n",
       "        vertical-align: top;\n",
       "    }\n",
       "\n",
       "    .dataframe thead th {\n",
       "        text-align: right;\n",
       "    }\n",
       "</style>\n",
       "<table border=\"1\" class=\"dataframe\">\n",
       "  <thead>\n",
       "    <tr style=\"text-align: right;\">\n",
       "      <th></th>\n",
       "      <th>brand</th>\n",
       "      <th>table_id</th>\n",
       "      <th>row_id</th>\n",
       "    </tr>\n",
       "  </thead>\n",
       "  <tbody>\n",
       "    <tr>\n",
       "      <th>0</th>\n",
       "      <td>prada</td>\n",
       "      <td>Product_unifiedgoods.com_September2020.json.gz</td>\n",
       "      <td>897</td>\n",
       "    </tr>\n",
       "    <tr>\n",
       "      <th>1</th>\n",
       "      <td>calvin klein</td>\n",
       "      <td>Product_brillianthippie.com_September2020.json.gz</td>\n",
       "      <td>214</td>\n",
       "    </tr>\n",
       "    <tr>\n",
       "      <th>2</th>\n",
       "      <td>louis vuitton</td>\n",
       "      <td>Product_hannari-shop.net_September2020.json.gz</td>\n",
       "      <td>25</td>\n",
       "    </tr>\n",
       "    <tr>\n",
       "      <th>3</th>\n",
       "      <td>under armour</td>\n",
       "      <td>Product_gouldacademy.org_September2020.json.gz</td>\n",
       "      <td>43</td>\n",
       "    </tr>\n",
       "    <tr>\n",
       "      <th>4</th>\n",
       "      <td>the north face</td>\n",
       "      <td>Product_everrich.com_September2020.json.gz</td>\n",
       "      <td>1374</td>\n",
       "    </tr>\n",
       "    <tr>\n",
       "      <th>...</th>\n",
       "      <td>...</td>\n",
       "      <td>...</td>\n",
       "      <td>...</td>\n",
       "    </tr>\n",
       "    <tr>\n",
       "      <th>437855</th>\n",
       "      <td>patagonia</td>\n",
       "      <td>0</td>\n",
       "      <td>0</td>\n",
       "    </tr>\n",
       "    <tr>\n",
       "      <th>437856</th>\n",
       "      <td>moncler</td>\n",
       "      <td>0</td>\n",
       "      <td>0</td>\n",
       "    </tr>\n",
       "    <tr>\n",
       "      <th>437857</th>\n",
       "      <td>armani</td>\n",
       "      <td>0</td>\n",
       "      <td>0</td>\n",
       "    </tr>\n",
       "    <tr>\n",
       "      <th>437858</th>\n",
       "      <td>burberry</td>\n",
       "      <td>0</td>\n",
       "      <td>0</td>\n",
       "    </tr>\n",
       "    <tr>\n",
       "      <th>437859</th>\n",
       "      <td>nike</td>\n",
       "      <td>Product_nfljerseysellers.com_September2020.jso...</td>\n",
       "      <td>116</td>\n",
       "    </tr>\n",
       "  </tbody>\n",
       "</table>\n",
       "<p>437860 rows × 3 columns</p>\n",
       "</div>"
      ],
      "text/plain": [
       "                 brand                                           table_id  \\\n",
       "0                prada     Product_unifiedgoods.com_September2020.json.gz   \n",
       "1         calvin klein  Product_brillianthippie.com_September2020.json.gz   \n",
       "2        louis vuitton     Product_hannari-shop.net_September2020.json.gz   \n",
       "3         under armour     Product_gouldacademy.org_September2020.json.gz   \n",
       "4       the north face         Product_everrich.com_September2020.json.gz   \n",
       "...                ...                                                ...   \n",
       "437855       patagonia                                                  0   \n",
       "437856         moncler                                                  0   \n",
       "437857          armani                                                  0   \n",
       "437858        burberry                                                  0   \n",
       "437859            nike  Product_nfljerseysellers.com_September2020.jso...   \n",
       "\n",
       "       row_id  \n",
       "0         897  \n",
       "1         214  \n",
       "2          25  \n",
       "3          43  \n",
       "4        1374  \n",
       "...       ...  \n",
       "437855      0  \n",
       "437856      0  \n",
       "437857      0  \n",
       "437858      0  \n",
       "437859    116  \n",
       "\n",
       "[437860 rows x 3 columns]"
      ]
     },
     "execution_count": 63,
     "metadata": {},
     "output_type": "execute_result"
    }
   ],
   "source": [
    "#rename the columns to be able to join them into the cluster_id table\n",
    "df_clothes_cleaned=df_clothes_cleaned.reset_index().rename(columns={'index':\"brand\"})\n",
    "df_clothes_cleaned"
   ]
  },
  {
   "cell_type": "code",
   "execution_count": 72,
   "metadata": {},
   "outputs": [],
   "source": [
    "#join the tables to the cluster tables by using left joins\n",
    "#filled up zero values will be discarded by the join condition\n",
    "df_joined_electronics = df_large.merge(df_electronics_cleaned, left_on=['table_id','row_id'], right_on = ['table_id','row_id'], how='left')"
   ]
  },
  {
   "cell_type": "code",
   "execution_count": 73,
   "metadata": {},
   "outputs": [],
   "source": [
    "#join the tables to the cluster tables by using left joins \n",
    "#filled up zero values will be discarded by the join condition\n",
    "df_joined_clothes = df_large.merge(df_clothes_cleaned, left_on=['table_id','row_id'], right_on = ['table_id','row_id'], how='left')"
   ]
  },
  {
   "cell_type": "code",
   "execution_count": 92,
   "metadata": {},
   "outputs": [],
   "source": [
    "# df_tables_count=df_join.groupby('cluster_id').count()\n",
    "# df_tables_count[df_tables_count['brand']>2]"
   ]
  },
  {
   "cell_type": "markdown",
   "metadata": {},
   "source": [
    "## Cluster statistics for product category electronics"
   ]
  },
  {
   "cell_type": "code",
   "execution_count": 75,
   "metadata": {},
   "outputs": [],
   "source": [
    "df_grouped_electronics = df_joined_electronics.groupby('cluster_id').count()"
   ]
  },
  {
   "cell_type": "code",
   "execution_count": 82,
   "metadata": {},
   "outputs": [],
   "source": [
    "# only look at clusters that have at least one brand associated\n",
    "df_set_electronics = df_grouped_electronics[df_grouped_electronics['brand']>0].reset_index()[['cluster_id','table_id']].rename(columns={'table_id':'Amount'})"
   ]
  },
  {
   "cell_type": "code",
   "execution_count": 83,
   "metadata": {},
   "outputs": [
    {
     "data": {
      "text/html": [
       "<div>\n",
       "<style scoped>\n",
       "    .dataframe tbody tr th:only-of-type {\n",
       "        vertical-align: middle;\n",
       "    }\n",
       "\n",
       "    .dataframe tbody tr th {\n",
       "        vertical-align: top;\n",
       "    }\n",
       "\n",
       "    .dataframe thead th {\n",
       "        text-align: right;\n",
       "    }\n",
       "</style>\n",
       "<table border=\"1\" class=\"dataframe\">\n",
       "  <thead>\n",
       "    <tr style=\"text-align: right;\">\n",
       "      <th></th>\n",
       "      <th>cluster_id</th>\n",
       "      <th>Amount</th>\n",
       "    </tr>\n",
       "  </thead>\n",
       "  <tbody>\n",
       "    <tr>\n",
       "      <th>0</th>\n",
       "      <td>997</td>\n",
       "      <td>3</td>\n",
       "    </tr>\n",
       "    <tr>\n",
       "      <th>1</th>\n",
       "      <td>2172</td>\n",
       "      <td>6</td>\n",
       "    </tr>\n",
       "    <tr>\n",
       "      <th>2</th>\n",
       "      <td>2880</td>\n",
       "      <td>10</td>\n",
       "    </tr>\n",
       "    <tr>\n",
       "      <th>3</th>\n",
       "      <td>3668</td>\n",
       "      <td>15</td>\n",
       "    </tr>\n",
       "    <tr>\n",
       "      <th>4</th>\n",
       "      <td>4381</td>\n",
       "      <td>5</td>\n",
       "    </tr>\n",
       "    <tr>\n",
       "      <th>...</th>\n",
       "      <td>...</td>\n",
       "      <td>...</td>\n",
       "    </tr>\n",
       "    <tr>\n",
       "      <th>23902</th>\n",
       "      <td>80102179</td>\n",
       "      <td>2</td>\n",
       "    </tr>\n",
       "    <tr>\n",
       "      <th>23916</th>\n",
       "      <td>80177580</td>\n",
       "      <td>2</td>\n",
       "    </tr>\n",
       "    <tr>\n",
       "      <th>23917</th>\n",
       "      <td>80178542</td>\n",
       "      <td>2</td>\n",
       "    </tr>\n",
       "    <tr>\n",
       "      <th>23934</th>\n",
       "      <td>80266082</td>\n",
       "      <td>2</td>\n",
       "    </tr>\n",
       "    <tr>\n",
       "      <th>23960</th>\n",
       "      <td>80392464</td>\n",
       "      <td>2</td>\n",
       "    </tr>\n",
       "  </tbody>\n",
       "</table>\n",
       "<p>3372 rows × 2 columns</p>\n",
       "</div>"
      ],
      "text/plain": [
       "       cluster_id  Amount\n",
       "0             997       3\n",
       "1            2172       6\n",
       "2            2880      10\n",
       "3            3668      15\n",
       "4            4381       5\n",
       "...           ...     ...\n",
       "23902    80102179       2\n",
       "23916    80177580       2\n",
       "23917    80178542       2\n",
       "23934    80266082       2\n",
       "23960    80392464       2\n",
       "\n",
       "[3372 rows x 2 columns]"
      ]
     },
     "execution_count": 83,
     "metadata": {},
     "output_type": "execute_result"
    }
   ],
   "source": [
    "# We discard all clusters with less than 2 entries, cause we cannot match anything there, so 1,6 million clusters remain\n",
    "df_set_electronics=df_set_electronics[df_set_electronics['Amount']>1]\n",
    "df_set_electronics"
   ]
  },
  {
   "cell_type": "code",
   "execution_count": 84,
   "metadata": {},
   "outputs": [
    {
     "data": {
      "text/html": [
       "<div>\n",
       "<style scoped>\n",
       "    .dataframe tbody tr th:only-of-type {\n",
       "        vertical-align: middle;\n",
       "    }\n",
       "\n",
       "    .dataframe tbody tr th {\n",
       "        vertical-align: top;\n",
       "    }\n",
       "\n",
       "    .dataframe thead th {\n",
       "        text-align: right;\n",
       "    }\n",
       "</style>\n",
       "<table border=\"1\" class=\"dataframe\">\n",
       "  <thead>\n",
       "    <tr style=\"text-align: right;\">\n",
       "      <th></th>\n",
       "      <th>count</th>\n",
       "      <th>mean</th>\n",
       "      <th>std</th>\n",
       "      <th>min</th>\n",
       "      <th>25%</th>\n",
       "      <th>50%</th>\n",
       "      <th>75%</th>\n",
       "      <th>max</th>\n",
       "    </tr>\n",
       "  </thead>\n",
       "  <tbody>\n",
       "    <tr>\n",
       "      <th>Amount</th>\n",
       "      <td>3372.0</td>\n",
       "      <td>5.0</td>\n",
       "      <td>15.0</td>\n",
       "      <td>2.0</td>\n",
       "      <td>2.0</td>\n",
       "      <td>3.0</td>\n",
       "      <td>5.0</td>\n",
       "      <td>268.0</td>\n",
       "    </tr>\n",
       "  </tbody>\n",
       "</table>\n",
       "</div>"
      ],
      "text/plain": [
       "         count  mean   std  min  25%  50%  75%    max\n",
       "Amount  3372.0   5.0  15.0  2.0  2.0  3.0  5.0  268.0"
      ]
     },
     "execution_count": 84,
     "metadata": {},
     "output_type": "execute_result"
    }
   ],
   "source": [
    "df_set_electronics.set_index('cluster_id').describe().T.round()"
   ]
  },
  {
   "cell_type": "code",
   "execution_count": 85,
   "metadata": {},
   "outputs": [
    {
     "data": {
      "text/plain": [
       "<AxesSubplot:ylabel='Frequency'>"
      ]
     },
     "execution_count": 85,
     "metadata": {},
     "output_type": "execute_result"
    },
    {
     "data": {
      "image/png": "[encoded data removed]",
      "text/plain": [
       "<Figure size 432x288 with 1 Axes>"
      ]
     },
     "metadata": {
      "needs_background": "light"
     },
     "output_type": "display_data"
    }
   ],
   "source": [
    "df_set_electronics.plot(x='cluster_id',y='Amount',kind='hist')"
   ]
  },
  {
   "cell_type": "code",
   "execution_count": 103,
   "metadata": {},
   "outputs": [
    {
     "data": {
      "text/html": [
       "<div>\n",
       "<style scoped>\n",
       "    .dataframe tbody tr th:only-of-type {\n",
       "        vertical-align: middle;\n",
       "    }\n",
       "\n",
       "    .dataframe tbody tr th {\n",
       "        vertical-align: top;\n",
       "    }\n",
       "\n",
       "    .dataframe thead th {\n",
       "        text-align: right;\n",
       "    }\n",
       "</style>\n",
       "<table border=\"1\" class=\"dataframe\">\n",
       "  <thead>\n",
       "    <tr style=\"text-align: right;\">\n",
       "      <th></th>\n",
       "      <th>cluster_id</th>\n",
       "      <th>Amount</th>\n",
       "    </tr>\n",
       "  </thead>\n",
       "  <tbody>\n",
       "    <tr>\n",
       "      <th>1</th>\n",
       "      <td>2172</td>\n",
       "      <td>6</td>\n",
       "    </tr>\n",
       "    <tr>\n",
       "      <th>2</th>\n",
       "      <td>2880</td>\n",
       "      <td>10</td>\n",
       "    </tr>\n",
       "    <tr>\n",
       "      <th>3</th>\n",
       "      <td>3668</td>\n",
       "      <td>15</td>\n",
       "    </tr>\n",
       "    <tr>\n",
       "      <th>5</th>\n",
       "      <td>5487</td>\n",
       "      <td>10</td>\n",
       "    </tr>\n",
       "    <tr>\n",
       "      <th>7</th>\n",
       "      <td>5901</td>\n",
       "      <td>8</td>\n",
       "    </tr>\n",
       "    <tr>\n",
       "      <th>...</th>\n",
       "      <td>...</td>\n",
       "      <td>...</td>\n",
       "    </tr>\n",
       "    <tr>\n",
       "      <th>22731</th>\n",
       "      <td>74975318</td>\n",
       "      <td>205</td>\n",
       "    </tr>\n",
       "    <tr>\n",
       "      <th>22792</th>\n",
       "      <td>75294989</td>\n",
       "      <td>11</td>\n",
       "    </tr>\n",
       "    <tr>\n",
       "      <th>22996</th>\n",
       "      <td>76065434</td>\n",
       "      <td>7</td>\n",
       "    </tr>\n",
       "    <tr>\n",
       "      <th>23399</th>\n",
       "      <td>78043480</td>\n",
       "      <td>7</td>\n",
       "    </tr>\n",
       "    <tr>\n",
       "      <th>23859</th>\n",
       "      <td>79963108</td>\n",
       "      <td>11</td>\n",
       "    </tr>\n",
       "  </tbody>\n",
       "</table>\n",
       "<p>692 rows × 2 columns</p>\n",
       "</div>"
      ],
      "text/plain": [
       "       cluster_id  Amount\n",
       "1            2172       6\n",
       "2            2880      10\n",
       "3            3668      15\n",
       "5            5487      10\n",
       "7            5901       8\n",
       "...           ...     ...\n",
       "22731    74975318     205\n",
       "22792    75294989      11\n",
       "22996    76065434       7\n",
       "23399    78043480       7\n",
       "23859    79963108      11\n",
       "\n",
       "[692 rows x 2 columns]"
      ]
     },
     "execution_count": 103,
     "metadata": {},
     "output_type": "execute_result"
    }
   ],
   "source": [
    "# filter on clusters with more entries to get information, here are still 20k clusters left\n",
    "df_5_electronics=df_set_electronics[df_set_electronics['Amount']>5]\n",
    "df_5_electronics"
   ]
  },
  {
   "cell_type": "code",
   "execution_count": 104,
   "metadata": {},
   "outputs": [
    {
     "data": {
      "text/html": [
       "<div>\n",
       "<style scoped>\n",
       "    .dataframe tbody tr th:only-of-type {\n",
       "        vertical-align: middle;\n",
       "    }\n",
       "\n",
       "    .dataframe tbody tr th {\n",
       "        vertical-align: top;\n",
       "    }\n",
       "\n",
       "    .dataframe thead th {\n",
       "        text-align: right;\n",
       "    }\n",
       "</style>\n",
       "<table border=\"1\" class=\"dataframe\">\n",
       "  <thead>\n",
       "    <tr style=\"text-align: right;\">\n",
       "      <th></th>\n",
       "      <th>count</th>\n",
       "      <th>mean</th>\n",
       "      <th>std</th>\n",
       "      <th>min</th>\n",
       "      <th>25%</th>\n",
       "      <th>50%</th>\n",
       "      <th>75%</th>\n",
       "      <th>max</th>\n",
       "    </tr>\n",
       "  </thead>\n",
       "  <tbody>\n",
       "    <tr>\n",
       "      <th>Amount</th>\n",
       "      <td>692.0</td>\n",
       "      <td>15.0</td>\n",
       "      <td>31.0</td>\n",
       "      <td>6.0</td>\n",
       "      <td>7.0</td>\n",
       "      <td>9.0</td>\n",
       "      <td>12.0</td>\n",
       "      <td>268.0</td>\n",
       "    </tr>\n",
       "  </tbody>\n",
       "</table>\n",
       "</div>"
      ],
      "text/plain": [
       "        count  mean   std  min  25%  50%   75%    max\n",
       "Amount  692.0  15.0  31.0  6.0  7.0  9.0  12.0  268.0"
      ]
     },
     "execution_count": 104,
     "metadata": {},
     "output_type": "execute_result"
    }
   ],
   "source": [
    "df_5_electronics.set_index('cluster_id').describe().T.round()"
   ]
  },
  {
   "cell_type": "code",
   "execution_count": 106,
   "metadata": {},
   "outputs": [
    {
     "data": {
      "text/plain": [
       "<AxesSubplot:ylabel='Frequency'>"
      ]
     },
     "execution_count": 106,
     "metadata": {},
     "output_type": "execute_result"
    },
    {
     "data": {
      "image/png": "[encoded data removed]",
      "text/plain": [
       "<Figure size 432x288 with 1 Axes>"
      ]
     },
     "metadata": {
      "needs_background": "light"
     },
     "output_type": "display_data"
    }
   ],
   "source": [
    "df_5_electronics.plot(x='cluster_id',y='Amount',kind='hist')"
   ]
  },
  {
   "cell_type": "code",
   "execution_count": 87,
   "metadata": {},
   "outputs": [
    {
     "data": {
      "text/html": [
       "<div>\n",
       "<style scoped>\n",
       "    .dataframe tbody tr th:only-of-type {\n",
       "        vertical-align: middle;\n",
       "    }\n",
       "\n",
       "    .dataframe tbody tr th {\n",
       "        vertical-align: top;\n",
       "    }\n",
       "\n",
       "    .dataframe thead th {\n",
       "        text-align: right;\n",
       "    }\n",
       "</style>\n",
       "<table border=\"1\" class=\"dataframe\">\n",
       "  <thead>\n",
       "    <tr style=\"text-align: right;\">\n",
       "      <th></th>\n",
       "      <th>cluster_id</th>\n",
       "      <th>Amount</th>\n",
       "    </tr>\n",
       "  </thead>\n",
       "  <tbody>\n",
       "    <tr>\n",
       "      <th>8</th>\n",
       "      <td>6505</td>\n",
       "      <td>16</td>\n",
       "    </tr>\n",
       "    <tr>\n",
       "      <th>9</th>\n",
       "      <td>6690</td>\n",
       "      <td>20</td>\n",
       "    </tr>\n",
       "    <tr>\n",
       "      <th>12</th>\n",
       "      <td>9046</td>\n",
       "      <td>21</td>\n",
       "    </tr>\n",
       "    <tr>\n",
       "      <th>48</th>\n",
       "      <td>37409</td>\n",
       "      <td>28</td>\n",
       "    </tr>\n",
       "    <tr>\n",
       "      <th>51</th>\n",
       "      <td>39040</td>\n",
       "      <td>17</td>\n",
       "    </tr>\n",
       "    <tr>\n",
       "      <th>...</th>\n",
       "      <td>...</td>\n",
       "      <td>...</td>\n",
       "    </tr>\n",
       "    <tr>\n",
       "      <th>15654</th>\n",
       "      <td>47966137</td>\n",
       "      <td>205</td>\n",
       "    </tr>\n",
       "    <tr>\n",
       "      <th>16781</th>\n",
       "      <td>52664201</td>\n",
       "      <td>81</td>\n",
       "    </tr>\n",
       "    <tr>\n",
       "      <th>20853</th>\n",
       "      <td>67449101</td>\n",
       "      <td>24</td>\n",
       "    </tr>\n",
       "    <tr>\n",
       "      <th>22593</th>\n",
       "      <td>74270662</td>\n",
       "      <td>206</td>\n",
       "    </tr>\n",
       "    <tr>\n",
       "      <th>22731</th>\n",
       "      <td>74975318</td>\n",
       "      <td>205</td>\n",
       "    </tr>\n",
       "  </tbody>\n",
       "</table>\n",
       "<p>97 rows × 2 columns</p>\n",
       "</div>"
      ],
      "text/plain": [
       "       cluster_id  Amount\n",
       "8            6505      16\n",
       "9            6690      20\n",
       "12           9046      21\n",
       "48          37409      28\n",
       "51          39040      17\n",
       "...           ...     ...\n",
       "15654    47966137     205\n",
       "16781    52664201      81\n",
       "20853    67449101      24\n",
       "22593    74270662     206\n",
       "22731    74975318     205\n",
       "\n",
       "[97 rows x 2 columns]"
      ]
     },
     "execution_count": 87,
     "metadata": {},
     "output_type": "execute_result"
    }
   ],
   "source": [
    "df_15_electronics=df_set_electronics[df_set_electronics['Amount']>15]\n",
    "df_15_electronics"
   ]
  },
  {
   "cell_type": "code",
   "execution_count": 88,
   "metadata": {},
   "outputs": [
    {
     "data": {
      "text/html": [
       "<div>\n",
       "<style scoped>\n",
       "    .dataframe tbody tr th:only-of-type {\n",
       "        vertical-align: middle;\n",
       "    }\n",
       "\n",
       "    .dataframe tbody tr th {\n",
       "        vertical-align: top;\n",
       "    }\n",
       "\n",
       "    .dataframe thead th {\n",
       "        text-align: right;\n",
       "    }\n",
       "</style>\n",
       "<table border=\"1\" class=\"dataframe\">\n",
       "  <thead>\n",
       "    <tr style=\"text-align: right;\">\n",
       "      <th></th>\n",
       "      <th>count</th>\n",
       "      <th>mean</th>\n",
       "      <th>std</th>\n",
       "      <th>min</th>\n",
       "      <th>25%</th>\n",
       "      <th>50%</th>\n",
       "      <th>75%</th>\n",
       "      <th>max</th>\n",
       "    </tr>\n",
       "  </thead>\n",
       "  <tbody>\n",
       "    <tr>\n",
       "      <th>Amount</th>\n",
       "      <td>97.0</td>\n",
       "      <td>56.0</td>\n",
       "      <td>70.0</td>\n",
       "      <td>16.0</td>\n",
       "      <td>17.0</td>\n",
       "      <td>22.0</td>\n",
       "      <td>42.0</td>\n",
       "      <td>268.0</td>\n",
       "    </tr>\n",
       "  </tbody>\n",
       "</table>\n",
       "</div>"
      ],
      "text/plain": [
       "        count  mean   std   min   25%   50%   75%    max\n",
       "Amount   97.0  56.0  70.0  16.0  17.0  22.0  42.0  268.0"
      ]
     },
     "execution_count": 88,
     "metadata": {},
     "output_type": "execute_result"
    }
   ],
   "source": [
    "df_15_electronics.set_index('cluster_id').describe().T.round()"
   ]
  },
  {
   "cell_type": "code",
   "execution_count": 89,
   "metadata": {},
   "outputs": [
    {
     "data": {
      "text/plain": [
       "<AxesSubplot:ylabel='Frequency'>"
      ]
     },
     "execution_count": 89,
     "metadata": {},
     "output_type": "execute_result"
    },
    {
     "data": {
      "image/png": "[encoded data removed]",
      "text/plain": [
       "<Figure size 432x288 with 1 Axes>"
      ]
     },
     "metadata": {
      "needs_background": "light"
     },
     "output_type": "display_data"
    }
   ],
   "source": [
    "df_15_electronics.plot(x='cluster_id',y='Amount',kind='hist')"
   ]
  },
  {
   "cell_type": "code",
   "execution_count": 91,
   "metadata": {},
   "outputs": [
    {
     "data": {
      "text/html": [
       "<div>\n",
       "<style scoped>\n",
       "    .dataframe tbody tr th:only-of-type {\n",
       "        vertical-align: middle;\n",
       "    }\n",
       "\n",
       "    .dataframe tbody tr th {\n",
       "        vertical-align: top;\n",
       "    }\n",
       "\n",
       "    .dataframe thead th {\n",
       "        text-align: right;\n",
       "    }\n",
       "</style>\n",
       "<table border=\"1\" class=\"dataframe\">\n",
       "  <thead>\n",
       "    <tr style=\"text-align: right;\">\n",
       "      <th></th>\n",
       "      <th>cluster_id</th>\n",
       "      <th>Amount</th>\n",
       "    </tr>\n",
       "  </thead>\n",
       "  <tbody>\n",
       "    <tr>\n",
       "      <th>108</th>\n",
       "      <td>96277</td>\n",
       "      <td>268</td>\n",
       "    </tr>\n",
       "    <tr>\n",
       "      <th>268</th>\n",
       "      <td>244025</td>\n",
       "      <td>119</td>\n",
       "    </tr>\n",
       "    <tr>\n",
       "      <th>1042</th>\n",
       "      <td>1092304</td>\n",
       "      <td>64</td>\n",
       "    </tr>\n",
       "    <tr>\n",
       "      <th>1380</th>\n",
       "      <td>1543882</td>\n",
       "      <td>62</td>\n",
       "    </tr>\n",
       "    <tr>\n",
       "      <th>2340</th>\n",
       "      <td>3133321</td>\n",
       "      <td>130</td>\n",
       "    </tr>\n",
       "    <tr>\n",
       "      <th>4532</th>\n",
       "      <td>7780966</td>\n",
       "      <td>194</td>\n",
       "    </tr>\n",
       "    <tr>\n",
       "      <th>5133</th>\n",
       "      <td>10626565</td>\n",
       "      <td>201</td>\n",
       "    </tr>\n",
       "    <tr>\n",
       "      <th>5291</th>\n",
       "      <td>11332257</td>\n",
       "      <td>193</td>\n",
       "    </tr>\n",
       "    <tr>\n",
       "      <th>9225</th>\n",
       "      <td>21021316</td>\n",
       "      <td>189</td>\n",
       "    </tr>\n",
       "    <tr>\n",
       "      <th>9919</th>\n",
       "      <td>24321483</td>\n",
       "      <td>208</td>\n",
       "    </tr>\n",
       "    <tr>\n",
       "      <th>10389</th>\n",
       "      <td>26217595</td>\n",
       "      <td>204</td>\n",
       "    </tr>\n",
       "    <tr>\n",
       "      <th>11105</th>\n",
       "      <td>29067497</td>\n",
       "      <td>192</td>\n",
       "    </tr>\n",
       "    <tr>\n",
       "      <th>11460</th>\n",
       "      <td>30995813</td>\n",
       "      <td>220</td>\n",
       "    </tr>\n",
       "    <tr>\n",
       "      <th>11540</th>\n",
       "      <td>31453348</td>\n",
       "      <td>207</td>\n",
       "    </tr>\n",
       "    <tr>\n",
       "      <th>12050</th>\n",
       "      <td>34016600</td>\n",
       "      <td>208</td>\n",
       "    </tr>\n",
       "    <tr>\n",
       "      <th>12723</th>\n",
       "      <td>36165868</td>\n",
       "      <td>206</td>\n",
       "    </tr>\n",
       "    <tr>\n",
       "      <th>14007</th>\n",
       "      <td>41351695</td>\n",
       "      <td>184</td>\n",
       "    </tr>\n",
       "    <tr>\n",
       "      <th>15654</th>\n",
       "      <td>47966137</td>\n",
       "      <td>205</td>\n",
       "    </tr>\n",
       "    <tr>\n",
       "      <th>16781</th>\n",
       "      <td>52664201</td>\n",
       "      <td>81</td>\n",
       "    </tr>\n",
       "    <tr>\n",
       "      <th>22593</th>\n",
       "      <td>74270662</td>\n",
       "      <td>206</td>\n",
       "    </tr>\n",
       "    <tr>\n",
       "      <th>22731</th>\n",
       "      <td>74975318</td>\n",
       "      <td>205</td>\n",
       "    </tr>\n",
       "  </tbody>\n",
       "</table>\n",
       "</div>"
      ],
      "text/plain": [
       "       cluster_id  Amount\n",
       "108         96277     268\n",
       "268        244025     119\n",
       "1042      1092304      64\n",
       "1380      1543882      62\n",
       "2340      3133321     130\n",
       "4532      7780966     194\n",
       "5133     10626565     201\n",
       "5291     11332257     193\n",
       "9225     21021316     189\n",
       "9919     24321483     208\n",
       "10389    26217595     204\n",
       "11105    29067497     192\n",
       "11460    30995813     220\n",
       "11540    31453348     207\n",
       "12050    34016600     208\n",
       "12723    36165868     206\n",
       "14007    41351695     184\n",
       "15654    47966137     205\n",
       "16781    52664201      81\n",
       "22593    74270662     206\n",
       "22731    74975318     205"
      ]
     },
     "execution_count": 91,
     "metadata": {},
     "output_type": "execute_result"
    }
   ],
   "source": [
    "df_50_electronics=df_set_electronics[df_set_electronics['Amount']>50]\n",
    "df_50_electronics"
   ]
  },
  {
   "cell_type": "code",
   "execution_count": 92,
   "metadata": {},
   "outputs": [
    {
     "data": {
      "text/html": [
       "<div>\n",
       "<style scoped>\n",
       "    .dataframe tbody tr th:only-of-type {\n",
       "        vertical-align: middle;\n",
       "    }\n",
       "\n",
       "    .dataframe tbody tr th {\n",
       "        vertical-align: top;\n",
       "    }\n",
       "\n",
       "    .dataframe thead th {\n",
       "        text-align: right;\n",
       "    }\n",
       "</style>\n",
       "<table border=\"1\" class=\"dataframe\">\n",
       "  <thead>\n",
       "    <tr style=\"text-align: right;\">\n",
       "      <th></th>\n",
       "      <th>count</th>\n",
       "      <th>mean</th>\n",
       "      <th>std</th>\n",
       "      <th>min</th>\n",
       "      <th>25%</th>\n",
       "      <th>50%</th>\n",
       "      <th>75%</th>\n",
       "      <th>max</th>\n",
       "    </tr>\n",
       "  </thead>\n",
       "  <tbody>\n",
       "    <tr>\n",
       "      <th>Amount</th>\n",
       "      <td>21.0</td>\n",
       "      <td>178.0</td>\n",
       "      <td>54.0</td>\n",
       "      <td>62.0</td>\n",
       "      <td>184.0</td>\n",
       "      <td>201.0</td>\n",
       "      <td>206.0</td>\n",
       "      <td>268.0</td>\n",
       "    </tr>\n",
       "  </tbody>\n",
       "</table>\n",
       "</div>"
      ],
      "text/plain": [
       "        count   mean   std   min    25%    50%    75%    max\n",
       "Amount   21.0  178.0  54.0  62.0  184.0  201.0  206.0  268.0"
      ]
     },
     "execution_count": 92,
     "metadata": {},
     "output_type": "execute_result"
    }
   ],
   "source": [
    "df_50_electronics.set_index('cluster_id').describe().T.round()"
   ]
  },
  {
   "cell_type": "code",
   "execution_count": 93,
   "metadata": {},
   "outputs": [
    {
     "data": {
      "text/plain": [
       "<AxesSubplot:ylabel='Frequency'>"
      ]
     },
     "execution_count": 93,
     "metadata": {},
     "output_type": "execute_result"
    },
    {
     "data": {
      "image/png": "[encoded data removed]",
      "text/plain": [
       "<Figure size 432x288 with 1 Axes>"
      ]
     },
     "metadata": {
      "needs_background": "light"
     },
     "output_type": "display_data"
    }
   ],
   "source": [
    "df_50_electronics.plot(x='cluster_id',y='Amount',kind='hist')"
   ]
  },
  {
   "cell_type": "markdown",
   "metadata": {},
   "source": [
    "## Cluster statistics for product category clothes"
   ]
  },
  {
   "cell_type": "code",
   "execution_count": 107,
   "metadata": {},
   "outputs": [],
   "source": [
    "df_grouped_clothes = df_joined_clothes.groupby('cluster_id').count()"
   ]
  },
  {
   "cell_type": "code",
   "execution_count": 108,
   "metadata": {},
   "outputs": [],
   "source": [
    "# only look at clusters that have at least one brand associated\n",
    "df_set_clothes = df_grouped_clothes[df_grouped_clothes['brand']>0].reset_index()[['cluster_id','table_id']].rename(columns={'table_id':'Amount'})"
   ]
  },
  {
   "cell_type": "code",
   "execution_count": 109,
   "metadata": {},
   "outputs": [
    {
     "data": {
      "text/html": [
       "<div>\n",
       "<style scoped>\n",
       "    .dataframe tbody tr th:only-of-type {\n",
       "        vertical-align: middle;\n",
       "    }\n",
       "\n",
       "    .dataframe tbody tr th {\n",
       "        vertical-align: top;\n",
       "    }\n",
       "\n",
       "    .dataframe thead th {\n",
       "        text-align: right;\n",
       "    }\n",
       "</style>\n",
       "<table border=\"1\" class=\"dataframe\">\n",
       "  <thead>\n",
       "    <tr style=\"text-align: right;\">\n",
       "      <th></th>\n",
       "      <th>cluster_id</th>\n",
       "      <th>Amount</th>\n",
       "    </tr>\n",
       "  </thead>\n",
       "  <tbody>\n",
       "    <tr>\n",
       "      <th>0</th>\n",
       "      <td>4497</td>\n",
       "      <td>3</td>\n",
       "    </tr>\n",
       "    <tr>\n",
       "      <th>1</th>\n",
       "      <td>5875</td>\n",
       "      <td>2</td>\n",
       "    </tr>\n",
       "    <tr>\n",
       "      <th>2</th>\n",
       "      <td>8261</td>\n",
       "      <td>3</td>\n",
       "    </tr>\n",
       "    <tr>\n",
       "      <th>3</th>\n",
       "      <td>8465</td>\n",
       "      <td>5</td>\n",
       "    </tr>\n",
       "    <tr>\n",
       "      <th>6</th>\n",
       "      <td>23765</td>\n",
       "      <td>2</td>\n",
       "    </tr>\n",
       "    <tr>\n",
       "      <th>...</th>\n",
       "      <td>...</td>\n",
       "      <td>...</td>\n",
       "    </tr>\n",
       "    <tr>\n",
       "      <th>18243</th>\n",
       "      <td>80422321</td>\n",
       "      <td>2</td>\n",
       "    </tr>\n",
       "    <tr>\n",
       "      <th>18244</th>\n",
       "      <td>80424345</td>\n",
       "      <td>2</td>\n",
       "    </tr>\n",
       "    <tr>\n",
       "      <th>18249</th>\n",
       "      <td>80438085</td>\n",
       "      <td>2</td>\n",
       "    </tr>\n",
       "    <tr>\n",
       "      <th>18251</th>\n",
       "      <td>80472255</td>\n",
       "      <td>4</td>\n",
       "    </tr>\n",
       "    <tr>\n",
       "      <th>18252</th>\n",
       "      <td>80478117</td>\n",
       "      <td>3</td>\n",
       "    </tr>\n",
       "  </tbody>\n",
       "</table>\n",
       "<p>2831 rows × 2 columns</p>\n",
       "</div>"
      ],
      "text/plain": [
       "       cluster_id  Amount\n",
       "0            4497       3\n",
       "1            5875       2\n",
       "2            8261       3\n",
       "3            8465       5\n",
       "6           23765       2\n",
       "...           ...     ...\n",
       "18243    80422321       2\n",
       "18244    80424345       2\n",
       "18249    80438085       2\n",
       "18251    80472255       4\n",
       "18252    80478117       3\n",
       "\n",
       "[2831 rows x 2 columns]"
      ]
     },
     "execution_count": 109,
     "metadata": {},
     "output_type": "execute_result"
    }
   ],
   "source": [
    "# We discard all clusters with less than 2 entries, cause we cannot match anything there, so 1,6 million clusters remain\n",
    "df_set_clothes=df_set_clothes[df_set_clothes['Amount']>1]\n",
    "df_set_clothes"
   ]
  },
  {
   "cell_type": "code",
   "execution_count": 110,
   "metadata": {},
   "outputs": [
    {
     "data": {
      "text/html": [
       "<div>\n",
       "<style scoped>\n",
       "    .dataframe tbody tr th:only-of-type {\n",
       "        vertical-align: middle;\n",
       "    }\n",
       "\n",
       "    .dataframe tbody tr th {\n",
       "        vertical-align: top;\n",
       "    }\n",
       "\n",
       "    .dataframe thead th {\n",
       "        text-align: right;\n",
       "    }\n",
       "</style>\n",
       "<table border=\"1\" class=\"dataframe\">\n",
       "  <thead>\n",
       "    <tr style=\"text-align: right;\">\n",
       "      <th></th>\n",
       "      <th>count</th>\n",
       "      <th>mean</th>\n",
       "      <th>std</th>\n",
       "      <th>min</th>\n",
       "      <th>25%</th>\n",
       "      <th>50%</th>\n",
       "      <th>75%</th>\n",
       "      <th>max</th>\n",
       "    </tr>\n",
       "  </thead>\n",
       "  <tbody>\n",
       "    <tr>\n",
       "      <th>Amount</th>\n",
       "      <td>2831.0</td>\n",
       "      <td>3.0</td>\n",
       "      <td>7.0</td>\n",
       "      <td>2.0</td>\n",
       "      <td>2.0</td>\n",
       "      <td>2.0</td>\n",
       "      <td>4.0</td>\n",
       "      <td>289.0</td>\n",
       "    </tr>\n",
       "  </tbody>\n",
       "</table>\n",
       "</div>"
      ],
      "text/plain": [
       "         count  mean  std  min  25%  50%  75%    max\n",
       "Amount  2831.0   3.0  7.0  2.0  2.0  2.0  4.0  289.0"
      ]
     },
     "execution_count": 110,
     "metadata": {},
     "output_type": "execute_result"
    }
   ],
   "source": [
    "df_set_clothes.set_index('cluster_id').describe().T.round()"
   ]
  },
  {
   "cell_type": "code",
   "execution_count": 111,
   "metadata": {},
   "outputs": [
    {
     "data": {
      "text/plain": [
       "<AxesSubplot:ylabel='Frequency'>"
      ]
     },
     "execution_count": 111,
     "metadata": {},
     "output_type": "execute_result"
    },
    {
     "data": {
      "image/png": "[encoded data removed]",
      "text/plain": [
       "<Figure size 432x288 with 1 Axes>"
      ]
     },
     "metadata": {
      "needs_background": "light"
     },
     "output_type": "display_data"
    }
   ],
   "source": [
    "df_set_clothes.plot(x='cluster_id',y='Amount',kind='hist')"
   ]
  },
  {
   "cell_type": "code",
   "execution_count": 112,
   "metadata": {},
   "outputs": [
    {
     "data": {
      "text/html": [
       "<div>\n",
       "<style scoped>\n",
       "    .dataframe tbody tr th:only-of-type {\n",
       "        vertical-align: middle;\n",
       "    }\n",
       "\n",
       "    .dataframe tbody tr th {\n",
       "        vertical-align: top;\n",
       "    }\n",
       "\n",
       "    .dataframe thead th {\n",
       "        text-align: right;\n",
       "    }\n",
       "</style>\n",
       "<table border=\"1\" class=\"dataframe\">\n",
       "  <thead>\n",
       "    <tr style=\"text-align: right;\">\n",
       "      <th></th>\n",
       "      <th>cluster_id</th>\n",
       "      <th>Amount</th>\n",
       "    </tr>\n",
       "  </thead>\n",
       "  <tbody>\n",
       "    <tr>\n",
       "      <th>7</th>\n",
       "      <td>25486</td>\n",
       "      <td>6</td>\n",
       "    </tr>\n",
       "    <tr>\n",
       "      <th>8</th>\n",
       "      <td>26807</td>\n",
       "      <td>10</td>\n",
       "    </tr>\n",
       "    <tr>\n",
       "      <th>13</th>\n",
       "      <td>34157</td>\n",
       "      <td>6</td>\n",
       "    </tr>\n",
       "    <tr>\n",
       "      <th>18</th>\n",
       "      <td>36914</td>\n",
       "      <td>7</td>\n",
       "    </tr>\n",
       "    <tr>\n",
       "      <th>23</th>\n",
       "      <td>52684</td>\n",
       "      <td>6</td>\n",
       "    </tr>\n",
       "    <tr>\n",
       "      <th>...</th>\n",
       "      <td>...</td>\n",
       "      <td>...</td>\n",
       "    </tr>\n",
       "    <tr>\n",
       "      <th>17523</th>\n",
       "      <td>76307780</td>\n",
       "      <td>9</td>\n",
       "    </tr>\n",
       "    <tr>\n",
       "      <th>17727</th>\n",
       "      <td>77567193</td>\n",
       "      <td>8</td>\n",
       "    </tr>\n",
       "    <tr>\n",
       "      <th>17922</th>\n",
       "      <td>78604388</td>\n",
       "      <td>6</td>\n",
       "    </tr>\n",
       "    <tr>\n",
       "      <th>17964</th>\n",
       "      <td>78820038</td>\n",
       "      <td>7</td>\n",
       "    </tr>\n",
       "    <tr>\n",
       "      <th>18190</th>\n",
       "      <td>80142371</td>\n",
       "      <td>7</td>\n",
       "    </tr>\n",
       "  </tbody>\n",
       "</table>\n",
       "<p>293 rows × 2 columns</p>\n",
       "</div>"
      ],
      "text/plain": [
       "       cluster_id  Amount\n",
       "7           25486       6\n",
       "8           26807      10\n",
       "13          34157       6\n",
       "18          36914       7\n",
       "23          52684       6\n",
       "...           ...     ...\n",
       "17523    76307780       9\n",
       "17727    77567193       8\n",
       "17922    78604388       6\n",
       "17964    78820038       7\n",
       "18190    80142371       7\n",
       "\n",
       "[293 rows x 2 columns]"
      ]
     },
     "execution_count": 112,
     "metadata": {},
     "output_type": "execute_result"
    }
   ],
   "source": [
    "# filter on clusters with more entries to get information, here are still 20k clusters left\n",
    "df_5_clothes=df_set_clothes[df_set_clothes['Amount']>5]\n",
    "df_5_clothes"
   ]
  },
  {
   "cell_type": "code",
   "execution_count": 113,
   "metadata": {},
   "outputs": [
    {
     "data": {
      "text/html": [
       "<div>\n",
       "<style scoped>\n",
       "    .dataframe tbody tr th:only-of-type {\n",
       "        vertical-align: middle;\n",
       "    }\n",
       "\n",
       "    .dataframe tbody tr th {\n",
       "        vertical-align: top;\n",
       "    }\n",
       "\n",
       "    .dataframe thead th {\n",
       "        text-align: right;\n",
       "    }\n",
       "</style>\n",
       "<table border=\"1\" class=\"dataframe\">\n",
       "  <thead>\n",
       "    <tr style=\"text-align: right;\">\n",
       "      <th></th>\n",
       "      <th>count</th>\n",
       "      <th>mean</th>\n",
       "      <th>std</th>\n",
       "      <th>min</th>\n",
       "      <th>25%</th>\n",
       "      <th>50%</th>\n",
       "      <th>75%</th>\n",
       "      <th>max</th>\n",
       "    </tr>\n",
       "  </thead>\n",
       "  <tbody>\n",
       "    <tr>\n",
       "      <th>Amount</th>\n",
       "      <td>293.0</td>\n",
       "      <td>10.0</td>\n",
       "      <td>19.0</td>\n",
       "      <td>6.0</td>\n",
       "      <td>6.0</td>\n",
       "      <td>7.0</td>\n",
       "      <td>9.0</td>\n",
       "      <td>289.0</td>\n",
       "    </tr>\n",
       "  </tbody>\n",
       "</table>\n",
       "</div>"
      ],
      "text/plain": [
       "        count  mean   std  min  25%  50%  75%    max\n",
       "Amount  293.0  10.0  19.0  6.0  6.0  7.0  9.0  289.0"
      ]
     },
     "execution_count": 113,
     "metadata": {},
     "output_type": "execute_result"
    }
   ],
   "source": [
    "df_5_clothes.set_index('cluster_id').describe().T.round()"
   ]
  },
  {
   "cell_type": "code",
   "execution_count": 114,
   "metadata": {},
   "outputs": [
    {
     "data": {
      "text/plain": [
       "<AxesSubplot:ylabel='Frequency'>"
      ]
     },
     "execution_count": 114,
     "metadata": {},
     "output_type": "execute_result"
    },
    {
     "data": {
      "image/png": "[encoded data removed]",
      "text/plain": [
       "<Figure size 432x288 with 1 Axes>"
      ]
     },
     "metadata": {
      "needs_background": "light"
     },
     "output_type": "display_data"
    }
   ],
   "source": [
    "df_5_clothes.plot(x='cluster_id',y='Amount',kind='hist')"
   ]
  },
  {
   "cell_type": "code",
   "execution_count": 122,
   "metadata": {},
   "outputs": [
    {
     "data": {
      "text/html": [
       "<div>\n",
       "<style scoped>\n",
       "    .dataframe tbody tr th:only-of-type {\n",
       "        vertical-align: middle;\n",
       "    }\n",
       "\n",
       "    .dataframe tbody tr th {\n",
       "        vertical-align: top;\n",
       "    }\n",
       "\n",
       "    .dataframe thead th {\n",
       "        text-align: right;\n",
       "    }\n",
       "</style>\n",
       "<table border=\"1\" class=\"dataframe\">\n",
       "  <thead>\n",
       "    <tr style=\"text-align: right;\">\n",
       "      <th></th>\n",
       "      <th>cluster_id</th>\n",
       "      <th>Amount</th>\n",
       "    </tr>\n",
       "  </thead>\n",
       "  <tbody>\n",
       "    <tr>\n",
       "      <th>41</th>\n",
       "      <td>90549</td>\n",
       "      <td>12</td>\n",
       "    </tr>\n",
       "    <tr>\n",
       "      <th>48</th>\n",
       "      <td>102437</td>\n",
       "      <td>14</td>\n",
       "    </tr>\n",
       "    <tr>\n",
       "      <th>55</th>\n",
       "      <td>133789</td>\n",
       "      <td>15</td>\n",
       "    </tr>\n",
       "    <tr>\n",
       "      <th>57</th>\n",
       "      <td>142594</td>\n",
       "      <td>11</td>\n",
       "    </tr>\n",
       "    <tr>\n",
       "      <th>62</th>\n",
       "      <td>148818</td>\n",
       "      <td>11</td>\n",
       "    </tr>\n",
       "    <tr>\n",
       "      <th>64</th>\n",
       "      <td>150932</td>\n",
       "      <td>25</td>\n",
       "    </tr>\n",
       "    <tr>\n",
       "      <th>81</th>\n",
       "      <td>186753</td>\n",
       "      <td>12</td>\n",
       "    </tr>\n",
       "    <tr>\n",
       "      <th>109</th>\n",
       "      <td>237888</td>\n",
       "      <td>17</td>\n",
       "    </tr>\n",
       "    <tr>\n",
       "      <th>124</th>\n",
       "      <td>280618</td>\n",
       "      <td>17</td>\n",
       "    </tr>\n",
       "    <tr>\n",
       "      <th>130</th>\n",
       "      <td>310409</td>\n",
       "      <td>17</td>\n",
       "    </tr>\n",
       "    <tr>\n",
       "      <th>167</th>\n",
       "      <td>391605</td>\n",
       "      <td>16</td>\n",
       "    </tr>\n",
       "    <tr>\n",
       "      <th>177</th>\n",
       "      <td>414741</td>\n",
       "      <td>11</td>\n",
       "    </tr>\n",
       "    <tr>\n",
       "      <th>208</th>\n",
       "      <td>466032</td>\n",
       "      <td>13</td>\n",
       "    </tr>\n",
       "    <tr>\n",
       "      <th>236</th>\n",
       "      <td>527917</td>\n",
       "      <td>110</td>\n",
       "    </tr>\n",
       "    <tr>\n",
       "      <th>279</th>\n",
       "      <td>641714</td>\n",
       "      <td>21</td>\n",
       "    </tr>\n",
       "    <tr>\n",
       "      <th>361</th>\n",
       "      <td>860030</td>\n",
       "      <td>53</td>\n",
       "    </tr>\n",
       "    <tr>\n",
       "      <th>368</th>\n",
       "      <td>881202</td>\n",
       "      <td>11</td>\n",
       "    </tr>\n",
       "    <tr>\n",
       "      <th>373</th>\n",
       "      <td>885565</td>\n",
       "      <td>15</td>\n",
       "    </tr>\n",
       "    <tr>\n",
       "      <th>384</th>\n",
       "      <td>906656</td>\n",
       "      <td>11</td>\n",
       "    </tr>\n",
       "    <tr>\n",
       "      <th>408</th>\n",
       "      <td>971411</td>\n",
       "      <td>16</td>\n",
       "    </tr>\n",
       "    <tr>\n",
       "      <th>428</th>\n",
       "      <td>1036157</td>\n",
       "      <td>15</td>\n",
       "    </tr>\n",
       "    <tr>\n",
       "      <th>439</th>\n",
       "      <td>1063839</td>\n",
       "      <td>26</td>\n",
       "    </tr>\n",
       "    <tr>\n",
       "      <th>478</th>\n",
       "      <td>1164520</td>\n",
       "      <td>12</td>\n",
       "    </tr>\n",
       "    <tr>\n",
       "      <th>511</th>\n",
       "      <td>1290229</td>\n",
       "      <td>11</td>\n",
       "    </tr>\n",
       "    <tr>\n",
       "      <th>514</th>\n",
       "      <td>1302559</td>\n",
       "      <td>13</td>\n",
       "    </tr>\n",
       "    <tr>\n",
       "      <th>530</th>\n",
       "      <td>1321456</td>\n",
       "      <td>13</td>\n",
       "    </tr>\n",
       "    <tr>\n",
       "      <th>585</th>\n",
       "      <td>1454074</td>\n",
       "      <td>18</td>\n",
       "    </tr>\n",
       "    <tr>\n",
       "      <th>596</th>\n",
       "      <td>1488425</td>\n",
       "      <td>26</td>\n",
       "    </tr>\n",
       "    <tr>\n",
       "      <th>611</th>\n",
       "      <td>1524820</td>\n",
       "      <td>95</td>\n",
       "    </tr>\n",
       "    <tr>\n",
       "      <th>639</th>\n",
       "      <td>1589191</td>\n",
       "      <td>14</td>\n",
       "    </tr>\n",
       "    <tr>\n",
       "      <th>667</th>\n",
       "      <td>1664307</td>\n",
       "      <td>11</td>\n",
       "    </tr>\n",
       "    <tr>\n",
       "      <th>728</th>\n",
       "      <td>1852022</td>\n",
       "      <td>11</td>\n",
       "    </tr>\n",
       "    <tr>\n",
       "      <th>750</th>\n",
       "      <td>1942692</td>\n",
       "      <td>11</td>\n",
       "    </tr>\n",
       "    <tr>\n",
       "      <th>754</th>\n",
       "      <td>1956729</td>\n",
       "      <td>12</td>\n",
       "    </tr>\n",
       "    <tr>\n",
       "      <th>782</th>\n",
       "      <td>2017762</td>\n",
       "      <td>12</td>\n",
       "    </tr>\n",
       "    <tr>\n",
       "      <th>845</th>\n",
       "      <td>2150270</td>\n",
       "      <td>12</td>\n",
       "    </tr>\n",
       "    <tr>\n",
       "      <th>946</th>\n",
       "      <td>2434654</td>\n",
       "      <td>46</td>\n",
       "    </tr>\n",
       "    <tr>\n",
       "      <th>952</th>\n",
       "      <td>2459966</td>\n",
       "      <td>11</td>\n",
       "    </tr>\n",
       "    <tr>\n",
       "      <th>956</th>\n",
       "      <td>2472326</td>\n",
       "      <td>34</td>\n",
       "    </tr>\n",
       "    <tr>\n",
       "      <th>1039</th>\n",
       "      <td>2702997</td>\n",
       "      <td>17</td>\n",
       "    </tr>\n",
       "    <tr>\n",
       "      <th>1080</th>\n",
       "      <td>2843033</td>\n",
       "      <td>39</td>\n",
       "    </tr>\n",
       "    <tr>\n",
       "      <th>1182</th>\n",
       "      <td>3108479</td>\n",
       "      <td>22</td>\n",
       "    </tr>\n",
       "    <tr>\n",
       "      <th>1213</th>\n",
       "      <td>3196849</td>\n",
       "      <td>20</td>\n",
       "    </tr>\n",
       "    <tr>\n",
       "      <th>2000</th>\n",
       "      <td>5672069</td>\n",
       "      <td>289</td>\n",
       "    </tr>\n",
       "    <tr>\n",
       "      <th>13831</th>\n",
       "      <td>55845991</td>\n",
       "      <td>12</td>\n",
       "    </tr>\n",
       "    <tr>\n",
       "      <th>14358</th>\n",
       "      <td>58591075</td>\n",
       "      <td>11</td>\n",
       "    </tr>\n",
       "    <tr>\n",
       "      <th>14361</th>\n",
       "      <td>58592784</td>\n",
       "      <td>19</td>\n",
       "    </tr>\n",
       "    <tr>\n",
       "      <th>14520</th>\n",
       "      <td>59598568</td>\n",
       "      <td>53</td>\n",
       "    </tr>\n",
       "    <tr>\n",
       "      <th>15649</th>\n",
       "      <td>65475235</td>\n",
       "      <td>11</td>\n",
       "    </tr>\n",
       "  </tbody>\n",
       "</table>\n",
       "</div>"
      ],
      "text/plain": [
       "       cluster_id  Amount\n",
       "41          90549      12\n",
       "48         102437      14\n",
       "55         133789      15\n",
       "57         142594      11\n",
       "62         148818      11\n",
       "64         150932      25\n",
       "81         186753      12\n",
       "109        237888      17\n",
       "124        280618      17\n",
       "130        310409      17\n",
       "167        391605      16\n",
       "177        414741      11\n",
       "208        466032      13\n",
       "236        527917     110\n",
       "279        641714      21\n",
       "361        860030      53\n",
       "368        881202      11\n",
       "373        885565      15\n",
       "384        906656      11\n",
       "408        971411      16\n",
       "428       1036157      15\n",
       "439       1063839      26\n",
       "478       1164520      12\n",
       "511       1290229      11\n",
       "514       1302559      13\n",
       "530       1321456      13\n",
       "585       1454074      18\n",
       "596       1488425      26\n",
       "611       1524820      95\n",
       "639       1589191      14\n",
       "667       1664307      11\n",
       "728       1852022      11\n",
       "750       1942692      11\n",
       "754       1956729      12\n",
       "782       2017762      12\n",
       "845       2150270      12\n",
       "946       2434654      46\n",
       "952       2459966      11\n",
       "956       2472326      34\n",
       "1039      2702997      17\n",
       "1080      2843033      39\n",
       "1182      3108479      22\n",
       "1213      3196849      20\n",
       "2000      5672069     289\n",
       "13831    55845991      12\n",
       "14358    58591075      11\n",
       "14361    58592784      19\n",
       "14520    59598568      53\n",
       "15649    65475235      11"
      ]
     },
     "execution_count": 122,
     "metadata": {},
     "output_type": "execute_result"
    }
   ],
   "source": [
    "df_15_clothes=df_set_clothes[df_set_clothes['Amount']>10]\n",
    "df_15_clothes"
   ]
  },
  {
   "cell_type": "code",
   "execution_count": 123,
   "metadata": {},
   "outputs": [
    {
     "data": {
      "text/html": [
       "<div>\n",
       "<style scoped>\n",
       "    .dataframe tbody tr th:only-of-type {\n",
       "        vertical-align: middle;\n",
       "    }\n",
       "\n",
       "    .dataframe tbody tr th {\n",
       "        vertical-align: top;\n",
       "    }\n",
       "\n",
       "    .dataframe thead th {\n",
       "        text-align: right;\n",
       "    }\n",
       "</style>\n",
       "<table border=\"1\" class=\"dataframe\">\n",
       "  <thead>\n",
       "    <tr style=\"text-align: right;\">\n",
       "      <th></th>\n",
       "      <th>count</th>\n",
       "      <th>mean</th>\n",
       "      <th>std</th>\n",
       "      <th>min</th>\n",
       "      <th>25%</th>\n",
       "      <th>50%</th>\n",
       "      <th>75%</th>\n",
       "      <th>max</th>\n",
       "    </tr>\n",
       "  </thead>\n",
       "  <tbody>\n",
       "    <tr>\n",
       "      <th>Amount</th>\n",
       "      <td>49.0</td>\n",
       "      <td>27.0</td>\n",
       "      <td>43.0</td>\n",
       "      <td>11.0</td>\n",
       "      <td>12.0</td>\n",
       "      <td>15.0</td>\n",
       "      <td>21.0</td>\n",
       "      <td>289.0</td>\n",
       "    </tr>\n",
       "  </tbody>\n",
       "</table>\n",
       "</div>"
      ],
      "text/plain": [
       "        count  mean   std   min   25%   50%   75%    max\n",
       "Amount   49.0  27.0  43.0  11.0  12.0  15.0  21.0  289.0"
      ]
     },
     "execution_count": 123,
     "metadata": {},
     "output_type": "execute_result"
    }
   ],
   "source": [
    "df_15_clothes.set_index('cluster_id').describe().T.round()"
   ]
  },
  {
   "cell_type": "code",
   "execution_count": 124,
   "metadata": {},
   "outputs": [
    {
     "data": {
      "text/plain": [
       "<AxesSubplot:ylabel='Frequency'>"
      ]
     },
     "execution_count": 124,
     "metadata": {},
     "output_type": "execute_result"
    },
    {
     "data": {
      "image/png": "[encoded data removed]",
      "text/plain": [
       "<Figure size 432x288 with 1 Axes>"
      ]
     },
     "metadata": {
      "needs_background": "light"
     },
     "output_type": "display_data"
    }
   ],
   "source": [
    "df_15_clothes.plot(x='cluster_id',y='Amount',kind='hist')"
   ]
  }
 ],
 "metadata": {
  "kernelspec": {
   "display_name": "Python 3",
   "language": "python",
   "name": "python3"
  },
  "language_info": {
   "codemirror_mode": {
    "name": "ipython",
    "version": 3
   },
   "file_extension": ".py",
   "mimetype": "text/x-python",
   "name": "python",
   "nbconvert_exporter": "python",
   "pygments_lexer": "ipython3",
   "version": "3.8.8"
  }
 },
 "nbformat": 4,
 "nbformat_minor": 4
}
