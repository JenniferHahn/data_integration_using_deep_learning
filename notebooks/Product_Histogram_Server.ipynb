{
 "cells": [
  {
   "cell_type": "code",
   "execution_count": 1,
   "metadata": {},
   "outputs": [],
   "source": [
    "import os\n",
    "import pandas as pd\n",
    "import plotly.express as px\n",
    "import progressbar\n",
    "import json\n",
    "import numpy as np"
   ]
  },
  {
   "cell_type": "markdown",
   "metadata": {},
   "source": [
    "## Get the paths and build table names for iteration"
   ]
  },
  {
   "cell_type": "code",
   "execution_count": 2,
   "metadata": {},
   "outputs": [],
   "source": [
    "data_path = '../src/data'\n",
    "mapping_corpus_path = data_path + r'/product/lspc2020_to_tablecorpus'\n",
    "mapping_corpus_path_2 = data_path + r'/product/lspc2020_to_tablecorpus/Cleaned'\n",
    "table_corpus_path = data_path + r'/product/product_top100/cleaned'\n",
    "table_corpus_path_with_id = data_path + r'/product/product_top100/cleaned/with_id'\n",
    "table_corpus_path2 = data_path + r'/product/product_minimum3/cleaned/with_id'"
   ]
  },
  {
   "cell_type": "code",
   "execution_count": 3,
   "metadata": {},
   "outputs": [],
   "source": [
    "zip_files_mapping = [file for file in os.listdir(mapping_corpus_path_2) if file.endswith('.json.gz')]\n",
    "zip_files_tables = [file for file in os.listdir(table_corpus_path) if file.endswith('.json.gz')]"
   ]
  },
  {
   "cell_type": "code",
   "execution_count": null,
   "metadata": {},
   "outputs": [],
   "source": [
    "# count = 0\n",
    "# count_1=0\n",
    "# with progressbar.ProgressBar(max_value=len(zip_files_tables)) as bar:\n",
    "#     for zip_file in zip_files_tables:\n",
    "#         print('/{}'.format(zip_file))\n",
    "#         df = pd.read_json(table_corpus_path + '/{}'.format(zip_file), compression='gzip', lines=True)     \n",
    "#         df['cluster_id']=0\n",
    "#         for zip_file_map in zip_files_mapping:\n",
    "#             count_1=count_1+1\n",
    "#             print(count_1)\n",
    "#             df_map = pd.read_json(mapping_corpus_path_2 + '/{}'.format(zip_file_map), compression='gzip', lines=True)\n",
    "#             for i in range(len(df_map)):\n",
    "#                 if df_map['table_id'][i]=='{}'.format(zip_file):\n",
    "#                   index_map=df_map['row_id'][i]\n",
    "#                   if df.index[df['row_id'] == index_map].size != 0:\n",
    "#                     index_table=df.index[df['row_id'] == index_map][0]\n",
    "#                     if df['cluster_id'][index_table]==0:\n",
    "#                         df['cluster_id'][index_table]=df_map['cluster_id'][i] \n",
    "#                     else:\n",
    "#                         print('double product value in table')\n",
    "#         df.to_json(table_corpus_path_with_id + '/{}'.format(zip_file), compression='gzip', orient='records', lines=True)\n",
    "#         df\n",
    "#         count += 1\n",
    "#         bar.update(count)"
   ]
  },
  {
   "cell_type": "code",
   "execution_count": null,
   "metadata": {},
   "outputs": [],
   "source": [
    "# count = 0\n",
    "# count_1=0\n",
    "# with progressbar.ProgressBar(max_value=len(zip_files_tables)) as bar:\n",
    "#     for zip_file in zip_files_tables:\n",
    "#         print('/{}'.format(zip_file))\n",
    "#         df = pd.read_json(table_corpus_path2 + '/{}'.format(zip_file), compression='gzip', lines=True)     \n",
    "#         df['cluster_id']=0\n",
    "#         for zip_file_map in zip_files_mapping:\n",
    "#             count_1=count_1+1\n",
    "#             print(count_1)\n",
    "#             df_map = pd.read_json(mapping_corpus_path_2 + '/{}'.format(zip_file_map), compression='gzip', lines=True)\n",
    "#             for i in range(len(df_map)):\n",
    "#                 if df_map['table_id'][i]=='{}'.format(zip_file):\n",
    "#                   index_map=df_map['row_id'][i]\n",
    "#                   if df.index[df['row_id'] == index_map].size != 0:\n",
    "#                     index_table=df.index[df['row_id'] == index_map][0]\n",
    "#                     if df['cluster_id'][index_table]==0:\n",
    "#                         df['cluster_id'][index_table]=df_map['cluster_id'][i] \n",
    "#                     else:\n",
    "#                         print('double product value in table')\n",
    "#         df.to_json(table_corpus_path2_with_id + '/{}'.format(zip_file), compression='gzip', orient='records', lines=True)\n",
    "#         df\n",
    "#         count += 1\n",
    "#         bar.update(count)"
   ]
  },
  {
   "cell_type": "markdown",
   "metadata": {},
   "source": [
    "## Only use first cleaning step on cluster_id tables"
   ]
  },
  {
   "cell_type": "markdown",
   "metadata": {},
   "source": [
    "#### Matching the cluster_ids to the entity tables Top100 did not result in good clusters, as the Top100 seem to be pretty specific regarding their input, e.g., amazonaws with aws-ids as products -> no matches somewhere else"
   ]
  },
  {
   "cell_type": "code",
   "execution_count": null,
   "metadata": {},
   "outputs": [],
   "source": [
    "# # Use the 4 endings to search for english websites and then only keep these to get valid cluster_ids\n",
    "# def clean_table(df):\n",
    "#   valid_tld = ['.com', '.net', '.org', '.uk']\n",
    "#   df['Valid']=0\n",
    "#   for i in range(len(df)):\n",
    "#     #print(i)\n",
    "#     for tld in valid_tld:\n",
    "#       if tld in df['table_id'][i]:\n",
    "#         df['Valid'][i]=1\n",
    "#   return df[df['Valid']==1]"
   ]
  },
  {
   "cell_type": "code",
   "execution_count": null,
   "metadata": {},
   "outputs": [],
   "source": [
    "# #clean mapping files and save them again\n",
    "# # then use the cleaned tables to append into a series and the get a dataframe from that\n",
    "# count = 0\n",
    "# count_1=0\n",
    "# data=[]\n",
    "# with progressbar.ProgressBar(max_value=len(zip_files_mapping)) as bar:\n",
    "#     for zip_file in zip_files_mapping:\n",
    "#         print('/{}'.format(zip_file))\n",
    "#         df = pd.read_json(mapping_corpus_path_2 + '/{}'.format(zip_file), compression='gzip', lines=True)\n",
    "#         #df=clean_table(df)\n",
    "#         #df['table_name']='{}'.format(zip_file)\n",
    "#         #df.to_json(mapping_corpus_path_2 + '/{}'.format(zip_file), compression='gzip', orient='records', lines=True)\n",
    "#         data.append(df)\n",
    "#         count += 1\n",
    "#         bar.update(count)\n",
    "# #large_df= pd.concat(data, ignore_index=True)\n",
    "# #large_df.to_json(os.path.join(mapping_corpus_path, 'concatentation'), compression='gzip', orient='records', lines=True)"
   ]
  },
  {
   "cell_type": "code",
   "execution_count": null,
   "metadata": {},
   "outputs": [],
   "source": [
    "# #see the input of the series\n",
    "# data"
   ]
  },
  {
   "cell_type": "markdown",
   "metadata": {},
   "source": [
    "### Concat the series into a dataframe and then sort by the cluster_ids to get the table counts for each cluster"
   ]
  },
  {
   "cell_type": "code",
   "execution_count": null,
   "metadata": {},
   "outputs": [],
   "source": [
    "# large_df= pd.concat(data, ignore_index=True)"
   ]
  },
  {
   "cell_type": "code",
   "execution_count": null,
   "metadata": {},
   "outputs": [],
   "source": [
    "#table has around 28 Million valid cluster ids (not necessarily unique)\n",
    "# large_df"
   ]
  },
  {
   "cell_type": "markdown",
   "metadata": {},
   "source": [
    "## Filter on cluster_id and table_id to be easily able to count the table_ids per unique cluster"
   ]
  },
  {
   "cell_type": "code",
   "execution_count": 4,
   "metadata": {},
   "outputs": [],
   "source": [
    "# get dictionaries\n",
    "data_path_1 = '../src/data/product/lspc2020_to_tablecorpus/Cleaned/allocation_amount_only_total_dict.json'\n",
    "data_path_2 = '../src/data/product/lspc2020_to_tablecorpus/Cleaned/allocation_amount_only_set_dict.json'"
   ]
  },
  {
   "cell_type": "code",
   "execution_count": 5,
   "metadata": {},
   "outputs": [],
   "source": [
    "with open(data_path_1) as f:\n",
    "    data_1=json.load(f)\n",
    "with open(data_path_2) as f:\n",
    "    data_2=json.load(f)"
   ]
  },
  {
   "cell_type": "code",
   "execution_count": 7,
   "metadata": {},
   "outputs": [
    {
     "data": {
      "text/html": [
       "<div>\n",
       "<style scoped>\n",
       "    .dataframe tbody tr th:only-of-type {\n",
       "        vertical-align: middle;\n",
       "    }\n",
       "\n",
       "    .dataframe tbody tr th {\n",
       "        vertical-align: top;\n",
       "    }\n",
       "\n",
       "    .dataframe thead th {\n",
       "        text-align: right;\n",
       "    }\n",
       "</style>\n",
       "<table border=\"1\" class=\"dataframe\">\n",
       "  <thead>\n",
       "    <tr style=\"text-align: right;\">\n",
       "      <th></th>\n",
       "      <th>0</th>\n",
       "    </tr>\n",
       "  </thead>\n",
       "  <tbody>\n",
       "    <tr>\n",
       "      <th>73924608</th>\n",
       "      <td>1</td>\n",
       "    </tr>\n",
       "    <tr>\n",
       "      <th>31326208</th>\n",
       "      <td>1</td>\n",
       "    </tr>\n",
       "    <tr>\n",
       "      <th>22544400</th>\n",
       "      <td>1</td>\n",
       "    </tr>\n",
       "    <tr>\n",
       "      <th>51904529</th>\n",
       "      <td>1</td>\n",
       "    </tr>\n",
       "    <tr>\n",
       "      <th>74055698</th>\n",
       "      <td>1</td>\n",
       "    </tr>\n",
       "    <tr>\n",
       "      <th>...</th>\n",
       "      <td>...</td>\n",
       "    </tr>\n",
       "    <tr>\n",
       "      <th>14680043</th>\n",
       "      <td>1</td>\n",
       "    </tr>\n",
       "    <tr>\n",
       "      <th>6553589</th>\n",
       "      <td>1</td>\n",
       "    </tr>\n",
       "    <tr>\n",
       "      <th>20709366</th>\n",
       "      <td>1</td>\n",
       "    </tr>\n",
       "    <tr>\n",
       "      <th>75628536</th>\n",
       "      <td>1</td>\n",
       "    </tr>\n",
       "    <tr>\n",
       "      <th>72089597</th>\n",
       "      <td>1</td>\n",
       "    </tr>\n",
       "  </tbody>\n",
       "</table>\n",
       "<p>20916785 rows × 1 columns</p>\n",
       "</div>"
      ],
      "text/plain": [
       "          0\n",
       "73924608  1\n",
       "31326208  1\n",
       "22544400  1\n",
       "51904529  1\n",
       "74055698  1\n",
       "...      ..\n",
       "14680043  1\n",
       "6553589   1\n",
       "20709366  1\n",
       "75628536  1\n",
       "72089597  1\n",
       "\n",
       "[20916785 rows x 1 columns]"
      ]
     },
     "execution_count": 7,
     "metadata": {},
     "output_type": "execute_result"
    }
   ],
   "source": [
    "df_total=pd.DataFrame.from_dict(data_1, orient='index')\n",
    "df_total"
   ]
  },
  {
   "cell_type": "code",
   "execution_count": 8,
   "metadata": {},
   "outputs": [
    {
     "data": {
      "text/html": [
       "<div>\n",
       "<style scoped>\n",
       "    .dataframe tbody tr th:only-of-type {\n",
       "        vertical-align: middle;\n",
       "    }\n",
       "\n",
       "    .dataframe tbody tr th {\n",
       "        vertical-align: top;\n",
       "    }\n",
       "\n",
       "    .dataframe thead th {\n",
       "        text-align: right;\n",
       "    }\n",
       "</style>\n",
       "<table border=\"1\" class=\"dataframe\">\n",
       "  <thead>\n",
       "    <tr style=\"text-align: right;\">\n",
       "      <th></th>\n",
       "      <th>0</th>\n",
       "    </tr>\n",
       "  </thead>\n",
       "  <tbody>\n",
       "    <tr>\n",
       "      <th>73924608</th>\n",
       "      <td>1</td>\n",
       "    </tr>\n",
       "    <tr>\n",
       "      <th>31326208</th>\n",
       "      <td>1</td>\n",
       "    </tr>\n",
       "    <tr>\n",
       "      <th>22544400</th>\n",
       "      <td>1</td>\n",
       "    </tr>\n",
       "    <tr>\n",
       "      <th>51904529</th>\n",
       "      <td>1</td>\n",
       "    </tr>\n",
       "    <tr>\n",
       "      <th>74055698</th>\n",
       "      <td>1</td>\n",
       "    </tr>\n",
       "    <tr>\n",
       "      <th>...</th>\n",
       "      <td>...</td>\n",
       "    </tr>\n",
       "    <tr>\n",
       "      <th>14680043</th>\n",
       "      <td>1</td>\n",
       "    </tr>\n",
       "    <tr>\n",
       "      <th>6553589</th>\n",
       "      <td>1</td>\n",
       "    </tr>\n",
       "    <tr>\n",
       "      <th>20709366</th>\n",
       "      <td>1</td>\n",
       "    </tr>\n",
       "    <tr>\n",
       "      <th>75628536</th>\n",
       "      <td>1</td>\n",
       "    </tr>\n",
       "    <tr>\n",
       "      <th>72089597</th>\n",
       "      <td>1</td>\n",
       "    </tr>\n",
       "  </tbody>\n",
       "</table>\n",
       "<p>20916785 rows × 1 columns</p>\n",
       "</div>"
      ],
      "text/plain": [
       "          0\n",
       "73924608  1\n",
       "31326208  1\n",
       "22544400  1\n",
       "51904529  1\n",
       "74055698  1\n",
       "...      ..\n",
       "14680043  1\n",
       "6553589   1\n",
       "20709366  1\n",
       "75628536  1\n",
       "72089597  1\n",
       "\n",
       "[20916785 rows x 1 columns]"
      ]
     },
     "execution_count": 8,
     "metadata": {},
     "output_type": "execute_result"
    }
   ],
   "source": [
    "df_set=pd.DataFrame.from_dict(data_2, orient='index')\n",
    "df_set"
   ]
  },
  {
   "cell_type": "code",
   "execution_count": 9,
   "metadata": {},
   "outputs": [],
   "source": [
    "df_total=df_total.reset_index().rename(columns={0:\"Amount\",'index':\"cluster_id\"})\n",
    "df_set=df_set.reset_index().rename(columns={0:\"Amount\",'index':\"cluster_id\"})"
   ]
  },
  {
   "cell_type": "code",
   "execution_count": 10,
   "metadata": {},
   "outputs": [
    {
     "data": {
      "text/plain": [
       "index     9999996\n",
       "Amount       1285\n",
       "dtype: object"
      ]
     },
     "execution_count": 10,
     "metadata": {},
     "output_type": "execute_result"
    }
   ],
   "source": [
    "df_set.max()"
   ]
  },
  {
   "cell_type": "code",
   "execution_count": 11,
   "metadata": {},
   "outputs": [
    {
     "data": {
      "text/plain": [
       "index     9999996\n",
       "Amount       2600\n",
       "dtype: object"
      ]
     },
     "execution_count": 11,
     "metadata": {},
     "output_type": "execute_result"
    }
   ],
   "source": [
    "df_total.max()"
   ]
  },
  {
   "cell_type": "code",
   "execution_count": 12,
   "metadata": {},
   "outputs": [
    {
     "data": {
      "text/html": [
       "<div>\n",
       "<style scoped>\n",
       "    .dataframe tbody tr th:only-of-type {\n",
       "        vertical-align: middle;\n",
       "    }\n",
       "\n",
       "    .dataframe tbody tr th {\n",
       "        vertical-align: top;\n",
       "    }\n",
       "\n",
       "    .dataframe thead th {\n",
       "        text-align: right;\n",
       "    }\n",
       "</style>\n",
       "<table border=\"1\" class=\"dataframe\">\n",
       "  <thead>\n",
       "    <tr style=\"text-align: right;\">\n",
       "      <th></th>\n",
       "      <th>index</th>\n",
       "      <th>Amount</th>\n",
       "    </tr>\n",
       "  </thead>\n",
       "  <tbody>\n",
       "    <tr>\n",
       "      <th>5</th>\n",
       "      <td>131092</td>\n",
       "      <td>29</td>\n",
       "    </tr>\n",
       "    <tr>\n",
       "      <th>9</th>\n",
       "      <td>4980762</td>\n",
       "      <td>4</td>\n",
       "    </tr>\n",
       "    <tr>\n",
       "      <th>25</th>\n",
       "      <td>17694777</td>\n",
       "      <td>2</td>\n",
       "    </tr>\n",
       "    <tr>\n",
       "      <th>27</th>\n",
       "      <td>2490427</td>\n",
       "      <td>9</td>\n",
       "    </tr>\n",
       "    <tr>\n",
       "      <th>28</th>\n",
       "      <td>4980796</td>\n",
       "      <td>2</td>\n",
       "    </tr>\n",
       "    <tr>\n",
       "      <th>...</th>\n",
       "      <td>...</td>\n",
       "      <td>...</td>\n",
       "    </tr>\n",
       "    <tr>\n",
       "      <th>20852522</th>\n",
       "      <td>55847403</td>\n",
       "      <td>2</td>\n",
       "    </tr>\n",
       "    <tr>\n",
       "      <th>20887842</th>\n",
       "      <td>2436046</td>\n",
       "      <td>2</td>\n",
       "    </tr>\n",
       "    <tr>\n",
       "      <th>20892455</th>\n",
       "      <td>740855</td>\n",
       "      <td>2</td>\n",
       "    </tr>\n",
       "    <tr>\n",
       "      <th>20900059</th>\n",
       "      <td>2721215</td>\n",
       "      <td>2</td>\n",
       "    </tr>\n",
       "    <tr>\n",
       "      <th>20903836</th>\n",
       "      <td>26976540</td>\n",
       "      <td>2</td>\n",
       "    </tr>\n",
       "  </tbody>\n",
       "</table>\n",
       "<p>1244562 rows × 2 columns</p>\n",
       "</div>"
      ],
      "text/plain": [
       "             index  Amount\n",
       "5           131092      29\n",
       "9          4980762       4\n",
       "25        17694777       2\n",
       "27         2490427       9\n",
       "28         4980796       2\n",
       "...            ...     ...\n",
       "20852522  55847403       2\n",
       "20887842   2436046       2\n",
       "20892455    740855       2\n",
       "20900059   2721215       2\n",
       "20903836  26976540       2\n",
       "\n",
       "[1244562 rows x 2 columns]"
      ]
     },
     "execution_count": 12,
     "metadata": {},
     "output_type": "execute_result"
    }
   ],
   "source": [
    "# We discard all clusters with less than 2 entries, cause we cannot match anything there, so 1,6 million clusters remain\n",
    "df_set=df_set[df_set['Amount']>1]\n",
    "df_set"
   ]
  },
  {
   "cell_type": "code",
   "execution_count": 13,
   "metadata": {},
   "outputs": [
    {
     "data": {
      "text/html": [
       "<div>\n",
       "<style scoped>\n",
       "    .dataframe tbody tr th:only-of-type {\n",
       "        vertical-align: middle;\n",
       "    }\n",
       "\n",
       "    .dataframe tbody tr th {\n",
       "        vertical-align: top;\n",
       "    }\n",
       "\n",
       "    .dataframe thead th {\n",
       "        text-align: right;\n",
       "    }\n",
       "</style>\n",
       "<table border=\"1\" class=\"dataframe\">\n",
       "  <thead>\n",
       "    <tr style=\"text-align: right;\">\n",
       "      <th></th>\n",
       "      <th>count</th>\n",
       "      <th>mean</th>\n",
       "      <th>std</th>\n",
       "      <th>min</th>\n",
       "      <th>25%</th>\n",
       "      <th>50%</th>\n",
       "      <th>75%</th>\n",
       "      <th>max</th>\n",
       "    </tr>\n",
       "  </thead>\n",
       "  <tbody>\n",
       "    <tr>\n",
       "      <th>Amount</th>\n",
       "      <td>1244562.0</td>\n",
       "      <td>4.0</td>\n",
       "      <td>11.0</td>\n",
       "      <td>2.0</td>\n",
       "      <td>2.0</td>\n",
       "      <td>2.0</td>\n",
       "      <td>3.0</td>\n",
       "      <td>1285.0</td>\n",
       "    </tr>\n",
       "  </tbody>\n",
       "</table>\n",
       "</div>"
      ],
      "text/plain": [
       "            count  mean   std  min  25%  50%  75%     max\n",
       "Amount  1244562.0   4.0  11.0  2.0  2.0  2.0  3.0  1285.0"
      ]
     },
     "execution_count": 13,
     "metadata": {},
     "output_type": "execute_result"
    }
   ],
   "source": [
    "df_set.set_index('cluster_id').describe().T.round()"
   ]
  },
  {
   "cell_type": "code",
   "execution_count": 16,
   "metadata": {},
   "outputs": [
    {
     "data": {
      "text/plain": [
       "<AxesSubplot:ylabel='Frequency'>"
      ]
     },
     "execution_count": 16,
     "metadata": {},
     "output_type": "execute_result"
    },
    {
     "data": {
      "image/png": "[encoded data removed]",
      "text/plain": [
       "<Figure size 432x288 with 1 Axes>"
      ]
     },
     "metadata": {
      "needs_background": "light"
     },
     "output_type": "display_data"
    }
   ],
   "source": [
    "df_set.plot(x='cluster_id',y='Amount',kind='hist')"
   ]
  },
  {
   "cell_type": "code",
   "execution_count": 17,
   "metadata": {},
   "outputs": [
    {
     "data": {
      "text/html": [
       "<div>\n",
       "<style scoped>\n",
       "    .dataframe tbody tr th:only-of-type {\n",
       "        vertical-align: middle;\n",
       "    }\n",
       "\n",
       "    .dataframe tbody tr th {\n",
       "        vertical-align: top;\n",
       "    }\n",
       "\n",
       "    .dataframe thead th {\n",
       "        text-align: right;\n",
       "    }\n",
       "</style>\n",
       "<table border=\"1\" class=\"dataframe\">\n",
       "  <thead>\n",
       "    <tr style=\"text-align: right;\">\n",
       "      <th></th>\n",
       "      <th>cluster_id</th>\n",
       "      <th>Amount</th>\n",
       "    </tr>\n",
       "  </thead>\n",
       "  <tbody>\n",
       "    <tr>\n",
       "      <th>5</th>\n",
       "      <td>131092</td>\n",
       "      <td>29</td>\n",
       "    </tr>\n",
       "    <tr>\n",
       "      <th>30</th>\n",
       "      <td>47710279</td>\n",
       "      <td>42</td>\n",
       "    </tr>\n",
       "    <tr>\n",
       "      <th>201</th>\n",
       "      <td>2621903</td>\n",
       "      <td>33</td>\n",
       "    </tr>\n",
       "    <tr>\n",
       "      <th>642</th>\n",
       "      <td>787983</td>\n",
       "      <td>18</td>\n",
       "    </tr>\n",
       "    <tr>\n",
       "      <th>646</th>\n",
       "      <td>1050139</td>\n",
       "      <td>16</td>\n",
       "    </tr>\n",
       "    <tr>\n",
       "      <th>...</th>\n",
       "      <td>...</td>\n",
       "      <td>...</td>\n",
       "    </tr>\n",
       "    <tr>\n",
       "      <th>8306446</th>\n",
       "      <td>65770080</td>\n",
       "      <td>17</td>\n",
       "    </tr>\n",
       "    <tr>\n",
       "      <th>8780123</th>\n",
       "      <td>19170901</td>\n",
       "      <td>17</td>\n",
       "    </tr>\n",
       "    <tr>\n",
       "      <th>9040570</th>\n",
       "      <td>58582000</td>\n",
       "      <td>16</td>\n",
       "    </tr>\n",
       "    <tr>\n",
       "      <th>9429552</th>\n",
       "      <td>19412215</td>\n",
       "      <td>17</td>\n",
       "    </tr>\n",
       "    <tr>\n",
       "      <th>11139359</th>\n",
       "      <td>5381269</td>\n",
       "      <td>16</td>\n",
       "    </tr>\n",
       "  </tbody>\n",
       "</table>\n",
       "<p>19367 rows × 2 columns</p>\n",
       "</div>"
      ],
      "text/plain": [
       "         cluster_id  Amount\n",
       "5            131092      29\n",
       "30         47710279      42\n",
       "201         2621903      33\n",
       "642          787983      18\n",
       "646         1050139      16\n",
       "...             ...     ...\n",
       "8306446    65770080      17\n",
       "8780123    19170901      17\n",
       "9040570    58582000      16\n",
       "9429552    19412215      17\n",
       "11139359    5381269      16\n",
       "\n",
       "[19367 rows x 2 columns]"
      ]
     },
     "execution_count": 17,
     "metadata": {},
     "output_type": "execute_result"
    }
   ],
   "source": [
    "# filter on clusters with more entries to get information, here are still 20k clusters left\n",
    "df_15=df_set[df_set['Amount']>15]\n",
    "df_15"
   ]
  },
  {
   "cell_type": "code",
   "execution_count": 19,
   "metadata": {},
   "outputs": [
    {
     "data": {
      "text/html": [
       "<div>\n",
       "<style scoped>\n",
       "    .dataframe tbody tr th:only-of-type {\n",
       "        vertical-align: middle;\n",
       "    }\n",
       "\n",
       "    .dataframe tbody tr th {\n",
       "        vertical-align: top;\n",
       "    }\n",
       "\n",
       "    .dataframe thead th {\n",
       "        text-align: right;\n",
       "    }\n",
       "</style>\n",
       "<table border=\"1\" class=\"dataframe\">\n",
       "  <thead>\n",
       "    <tr style=\"text-align: right;\">\n",
       "      <th></th>\n",
       "      <th>count</th>\n",
       "      <th>mean</th>\n",
       "      <th>std</th>\n",
       "      <th>min</th>\n",
       "      <th>25%</th>\n",
       "      <th>50%</th>\n",
       "      <th>75%</th>\n",
       "      <th>max</th>\n",
       "    </tr>\n",
       "  </thead>\n",
       "  <tbody>\n",
       "    <tr>\n",
       "      <th>Amount</th>\n",
       "      <td>19367.0</td>\n",
       "      <td>59.0</td>\n",
       "      <td>69.0</td>\n",
       "      <td>16.0</td>\n",
       "      <td>22.0</td>\n",
       "      <td>33.0</td>\n",
       "      <td>63.0</td>\n",
       "      <td>1285.0</td>\n",
       "    </tr>\n",
       "  </tbody>\n",
       "</table>\n",
       "</div>"
      ],
      "text/plain": [
       "          count  mean   std   min   25%   50%   75%     max\n",
       "Amount  19367.0  59.0  69.0  16.0  22.0  33.0  63.0  1285.0"
      ]
     },
     "execution_count": 19,
     "metadata": {},
     "output_type": "execute_result"
    }
   ],
   "source": [
    "df_15.set_index('cluster_id').describe().T.round()"
   ]
  },
  {
   "cell_type": "code",
   "execution_count": 20,
   "metadata": {},
   "outputs": [
    {
     "data": {
      "text/plain": [
       "<AxesSubplot:ylabel='Frequency'>"
      ]
     },
     "execution_count": 20,
     "metadata": {},
     "output_type": "execute_result"
    },
    {
     "data": {
      "image/png": "[encoded data removed]",
      "text/plain": [
       "<Figure size 432x288 with 1 Axes>"
      ]
     },
     "metadata": {
      "needs_background": "light"
     },
     "output_type": "display_data"
    }
   ],
   "source": [
    "df_15.plot(x='cluster_id',y='Amount',kind='hist')"
   ]
  },
  {
   "cell_type": "code",
   "execution_count": 21,
   "metadata": {},
   "outputs": [
    {
     "data": {
      "text/html": [
       "<div>\n",
       "<style scoped>\n",
       "    .dataframe tbody tr th:only-of-type {\n",
       "        vertical-align: middle;\n",
       "    }\n",
       "\n",
       "    .dataframe tbody tr th {\n",
       "        vertical-align: top;\n",
       "    }\n",
       "\n",
       "    .dataframe thead th {\n",
       "        text-align: right;\n",
       "    }\n",
       "</style>\n",
       "<table border=\"1\" class=\"dataframe\">\n",
       "  <thead>\n",
       "    <tr style=\"text-align: right;\">\n",
       "      <th></th>\n",
       "      <th>cluster_id</th>\n",
       "      <th>Amount</th>\n",
       "    </tr>\n",
       "  </thead>\n",
       "  <tbody>\n",
       "    <tr>\n",
       "      <th>696</th>\n",
       "      <td>63047326</td>\n",
       "      <td>158</td>\n",
       "    </tr>\n",
       "    <tr>\n",
       "      <th>729</th>\n",
       "      <td>26085086</td>\n",
       "      <td>162</td>\n",
       "    </tr>\n",
       "    <tr>\n",
       "      <th>1001</th>\n",
       "      <td>59902335</td>\n",
       "      <td>185</td>\n",
       "    </tr>\n",
       "    <tr>\n",
       "      <th>1406</th>\n",
       "      <td>47320529</td>\n",
       "      <td>156</td>\n",
       "    </tr>\n",
       "    <tr>\n",
       "      <th>1584</th>\n",
       "      <td>24252278</td>\n",
       "      <td>176</td>\n",
       "    </tr>\n",
       "    <tr>\n",
       "      <th>...</th>\n",
       "      <td>...</td>\n",
       "      <td>...</td>\n",
       "    </tr>\n",
       "    <tr>\n",
       "      <th>1082271</th>\n",
       "      <td>5388699</td>\n",
       "      <td>172</td>\n",
       "    </tr>\n",
       "    <tr>\n",
       "      <th>1093363</th>\n",
       "      <td>63881368</td>\n",
       "      <td>174</td>\n",
       "    </tr>\n",
       "    <tr>\n",
       "      <th>1192604</th>\n",
       "      <td>40071639</td>\n",
       "      <td>154</td>\n",
       "    </tr>\n",
       "    <tr>\n",
       "      <th>1198138</th>\n",
       "      <td>72856662</td>\n",
       "      <td>202</td>\n",
       "    </tr>\n",
       "    <tr>\n",
       "      <th>1299638</th>\n",
       "      <td>35389</td>\n",
       "      <td>181</td>\n",
       "    </tr>\n",
       "  </tbody>\n",
       "</table>\n",
       "<p>1608 rows × 2 columns</p>\n",
       "</div>"
      ],
      "text/plain": [
       "        cluster_id  Amount\n",
       "696       63047326     158\n",
       "729       26085086     162\n",
       "1001      59902335     185\n",
       "1406      47320529     156\n",
       "1584      24252278     176\n",
       "...            ...     ...\n",
       "1082271    5388699     172\n",
       "1093363   63881368     174\n",
       "1192604   40071639     154\n",
       "1198138   72856662     202\n",
       "1299638      35389     181\n",
       "\n",
       "[1608 rows x 2 columns]"
      ]
     },
     "execution_count": 21,
     "metadata": {},
     "output_type": "execute_result"
    }
   ],
   "source": [
    "# filter on clusters with more entries to get information, here are still 20k clusters left\n",
    "df_150=df_set[df_set['Amount']>150]\n",
    "df_150"
   ]
  },
  {
   "cell_type": "code",
   "execution_count": 22,
   "metadata": {},
   "outputs": [
    {
     "data": {
      "text/html": [
       "<div>\n",
       "<style scoped>\n",
       "    .dataframe tbody tr th:only-of-type {\n",
       "        vertical-align: middle;\n",
       "    }\n",
       "\n",
       "    .dataframe tbody tr th {\n",
       "        vertical-align: top;\n",
       "    }\n",
       "\n",
       "    .dataframe thead th {\n",
       "        text-align: right;\n",
       "    }\n",
       "</style>\n",
       "<table border=\"1\" class=\"dataframe\">\n",
       "  <thead>\n",
       "    <tr style=\"text-align: right;\">\n",
       "      <th></th>\n",
       "      <th>count</th>\n",
       "      <th>mean</th>\n",
       "      <th>std</th>\n",
       "      <th>min</th>\n",
       "      <th>25%</th>\n",
       "      <th>50%</th>\n",
       "      <th>75%</th>\n",
       "      <th>max</th>\n",
       "    </tr>\n",
       "  </thead>\n",
       "  <tbody>\n",
       "    <tr>\n",
       "      <th>Amount</th>\n",
       "      <td>1608.0</td>\n",
       "      <td>242.0</td>\n",
       "      <td>99.0</td>\n",
       "      <td>151.0</td>\n",
       "      <td>171.0</td>\n",
       "      <td>205.0</td>\n",
       "      <td>280.0</td>\n",
       "      <td>1285.0</td>\n",
       "    </tr>\n",
       "  </tbody>\n",
       "</table>\n",
       "</div>"
      ],
      "text/plain": [
       "         count   mean   std    min    25%    50%    75%     max\n",
       "Amount  1608.0  242.0  99.0  151.0  171.0  205.0  280.0  1285.0"
      ]
     },
     "execution_count": 22,
     "metadata": {},
     "output_type": "execute_result"
    }
   ],
   "source": [
    "df_150.set_index('cluster_id').describe().T.round()"
   ]
  },
  {
   "cell_type": "code",
   "execution_count": 23,
   "metadata": {},
   "outputs": [
    {
     "data": {
      "text/plain": [
       "<AxesSubplot:ylabel='Frequency'>"
      ]
     },
     "execution_count": 23,
     "metadata": {},
     "output_type": "execute_result"
    },
    {
     "data": {
      "image/png": "[encoded data removed]",
      "text/plain": [
       "<Figure size 432x288 with 1 Axes>"
      ]
     },
     "metadata": {
      "needs_background": "light"
     },
     "output_type": "display_data"
    }
   ],
   "source": [
    "df_150.plot(x='cluster_id',y='Amount',kind='hist')"
   ]
  },
  {
   "cell_type": "code",
   "execution_count": 25,
   "metadata": {},
   "outputs": [],
   "source": [
    "df_15_500=df_15[df_15['Amount']<500]"
   ]
  },
  {
   "cell_type": "code",
   "execution_count": 27,
   "metadata": {},
   "outputs": [
    {
     "data": {
      "text/plain": [
       "<AxesSubplot:ylabel='Frequency'>"
      ]
     },
     "execution_count": 27,
     "metadata": {},
     "output_type": "execute_result"
    },
    {
     "data": {
      "image/png": "[encoded data removed]",
      "text/plain": [
       "<Figure size 432x288 with 1 Axes>"
      ]
     },
     "metadata": {
      "needs_background": "light"
     },
     "output_type": "display_data"
    }
   ],
   "source": [
    "df_15_500.plot(x='cluster_id',y='Amount',kind='hist')"
   ]
  },
  {
   "cell_type": "markdown",
   "metadata": {},
   "source": [
    "## Match the number dictionaries with the information about the brand"
   ]
  },
  {
   "cell_type": "code",
   "execution_count": 4,
   "metadata": {},
   "outputs": [],
   "source": [
    "# get dictionaries\n",
    "electronics_path = '../src/data/product/product_electronics/electronics_dict.json'\n",
    "clothes_path = '../src/data/product/product_clothes/clothes_dict.json'\n",
    "mapping_corpus_path_2 = '../src/data/product/lspc2020_to_tablecorpus/Cleaned'"
   ]
  },
  {
   "cell_type": "code",
   "execution_count": 5,
   "metadata": {},
   "outputs": [],
   "source": [
    "with open(electronics_path) as f:\n",
    "    electronics_data=json.load(f)"
   ]
  },
  {
   "cell_type": "code",
   "execution_count": 6,
   "metadata": {},
   "outputs": [],
   "source": [
    "with open(clothes_path) as f:\n",
    "    clothes_data=json.load(f)"
   ]
  },
  {
   "cell_type": "code",
   "execution_count": 7,
   "metadata": {
    "scrolled": false
   },
   "outputs": [],
   "source": [
    "#clean the dictionaries by getting rid of the first key \n",
    "cleaned_dictionary_electronics={}\n",
    "for value in electronics_data.values():\n",
    "    cleaned_dictionary_electronics.update(value)"
   ]
  },
  {
   "cell_type": "code",
   "execution_count": 8,
   "metadata": {},
   "outputs": [],
   "source": [
    "#clean the dictionaries by getting rid of the first key \n",
    "cleaned_dictionary_clothes={}\n",
    "for value in clothes_data.values():\n",
    "    cleaned_dictionary_clothes.update(value)"
   ]
  },
  {
   "cell_type": "code",
   "execution_count": 9,
   "metadata": {},
   "outputs": [],
   "source": [
    "#put the dictionaries into dataframes \n",
    "df_electronics=pd.DataFrame.from_dict(cleaned_dictionary_electronics, orient='index')\n",
    "df_clothes=pd.DataFrame.from_dict(cleaned_dictionary_clothes, orient='index')"
   ]
  },
  {
   "cell_type": "code",
   "execution_count": 10,
   "metadata": {
    "scrolled": true
   },
   "outputs": [
    {
     "data": {
      "text/plain": [
       "[]"
      ]
     },
     "execution_count": 10,
     "metadata": {},
     "output_type": "execute_result"
    }
   ],
   "source": [
    "#compare column names of table before and after dropping to actually get a feeling for the best products\n",
    "electronics_before_cleaning = df_electronics.index.tolist()\n",
    "#drop empty rows\n",
    "df_electronics.dropna(how='all', inplace=True)\n",
    "electronics_after_cleaning = df_electronics.index.tolist()\n",
    "list(set(electronics_before_cleaning) - set(electronics_after_cleaning))"
   ]
  },
  {
   "cell_type": "code",
   "execution_count": 11,
   "metadata": {},
   "outputs": [
    {
     "data": {
      "text/plain": [
       "[]"
      ]
     },
     "execution_count": 11,
     "metadata": {},
     "output_type": "execute_result"
    }
   ],
   "source": [
    "# get information about top 20 electronic brands by hard coding to find rows with most column content\n",
    "dataframe = pd.isna(df_electronics[82])\n",
    "newlist = dataframe[dataframe==False].index.tolist()\n",
    "newlist\n",
    "#get information about which brands to be dropped, as otherwise running time of code would be too high\n",
    "list(set(electronics_after_cleaning) - set(newlist))"
   ]
  },
  {
   "cell_type": "code",
   "execution_count": 12,
   "metadata": {},
   "outputs": [
    {
     "data": {
      "text/plain": [
       "[]"
      ]
     },
     "execution_count": 12,
     "metadata": {},
     "output_type": "execute_result"
    }
   ],
   "source": [
    "# get information about top 20 clothes brands by hard coding to find rows with most column content\n",
    "clothes_before_cleaning = df_clothes.index.tolist()\n",
    "dataframe = pd.isna(df_clothes[150])\n",
    "new_list_clothes = dataframe[dataframe==False].index.tolist()\n",
    "new_list_clothes\n",
    "#get information about which brands to be dropped, as otherwise running time of code would be too high\n",
    "list(set(clothes_before_cleaning) - set(new_list_clothes))"
   ]
  },
  {
   "cell_type": "code",
   "execution_count": 13,
   "metadata": {},
   "outputs": [
    {
     "name": "stdout",
     "output_type": "stream",
     "text": [
      "/map_to_tables_35.json.gz\n"
     ]
    },
    {
     "name": "stderr",
     "output_type": "stream",
     "text": [
      "\r",
      "  0% (0 of 359) |                        | Elapsed Time: 0:00:00 ETA:  --:--:--"
     ]
    },
    {
     "name": "stdout",
     "output_type": "stream",
     "text": [
      "/map_to_tables_279.json.gz\n"
     ]
    },
    {
     "name": "stderr",
     "output_type": "stream",
     "text": [
      "\r",
      "  0% (2 of 359) |                        | Elapsed Time: 0:00:00 ETA:   0:01:33"
     ]
    },
    {
     "name": "stdout",
     "output_type": "stream",
     "text": [
      "/map_to_tables_223.json.gz\n"
     ]
    },
    {
     "name": "stderr",
     "output_type": "stream",
     "text": [
      "\r",
      "  0% (3 of 359) |                        | Elapsed Time: 0:00:00 ETA:   0:01:35"
     ]
    },
    {
     "name": "stdout",
     "output_type": "stream",
     "text": [
      "/map_to_tables_182.json.gz\n"
     ]
    },
    {
     "name": "stderr",
     "output_type": "stream",
     "text": [
      "\r",
      "  1% (4 of 359) |                        | Elapsed Time: 0:00:01 ETA:   0:01:55"
     ]
    },
    {
     "name": "stdout",
     "output_type": "stream",
     "text": [
      "/map_to_tables_88.json.gz\n"
     ]
    },
    {
     "name": "stderr",
     "output_type": "stream",
     "text": [
      "\r",
      "  1% (5 of 359) |                        | Elapsed Time: 0:00:01 ETA:   0:01:51"
     ]
    },
    {
     "name": "stdout",
     "output_type": "stream",
     "text": [
      "/map_to_tables_27.json.gz\n"
     ]
    },
    {
     "name": "stderr",
     "output_type": "stream",
     "text": [
      "\r",
      "  1% (6 of 359) |                        | Elapsed Time: 0:00:01 ETA:   0:01:53"
     ]
    },
    {
     "name": "stdout",
     "output_type": "stream",
     "text": [
      "/map_to_tables_166.json.gz\n"
     ]
    },
    {
     "name": "stderr",
     "output_type": "stream",
     "text": [
      "\r",
      "  1% (7 of 359) |                        | Elapsed Time: 0:00:02 ETA:   0:01:54"
     ]
    },
    {
     "name": "stdout",
     "output_type": "stream",
     "text": [
      "/map_to_tables_321.json.gz\n"
     ]
    },
    {
     "name": "stderr",
     "output_type": "stream",
     "text": [
      "\r",
      "  2% (8 of 359) |                        | Elapsed Time: 0:00:02 ETA:   0:01:59"
     ]
    },
    {
     "name": "stdout",
     "output_type": "stream",
     "text": [
      "/map_to_tables_334.json.gz\n"
     ]
    },
    {
     "name": "stderr",
     "output_type": "stream",
     "text": [
      "\r",
      "  2% (9 of 359) |                        | Elapsed Time: 0:00:03 ETA:   0:02:12"
     ]
    },
    {
     "name": "stdout",
     "output_type": "stream",
     "text": [
      "/map_to_tables_211.json.gz\n"
     ]
    },
    {
     "name": "stderr",
     "output_type": "stream",
     "text": [
      "\r",
      "  2% (10 of 359) |                       | Elapsed Time: 0:00:03 ETA:   0:02:01"
     ]
    },
    {
     "name": "stdout",
     "output_type": "stream",
     "text": [
      "/map_to_tables_121.json.gz\n"
     ]
    },
    {
     "name": "stderr",
     "output_type": "stream",
     "text": [
      "\r",
      "  3% (11 of 359) |                       | Elapsed Time: 0:00:03 ETA:   0:02:01"
     ]
    },
    {
     "name": "stdout",
     "output_type": "stream",
     "text": [
      "/map_to_tables_104.json.gz\n"
     ]
    },
    {
     "name": "stderr",
     "output_type": "stream",
     "text": [
      "\r",
      "  3% (12 of 359) |                       | Elapsed Time: 0:00:03 ETA:   0:01:57"
     ]
    },
    {
     "name": "stdout",
     "output_type": "stream",
     "text": [
      "/map_to_tables_225.json.gz\n"
     ]
    },
    {
     "name": "stderr",
     "output_type": "stream",
     "text": [
      "\r",
      "  3% (13 of 359) |                       | Elapsed Time: 0:00:04 ETA:   0:01:54"
     ]
    },
    {
     "name": "stdout",
     "output_type": "stream",
     "text": [
      "/map_to_tables_76.json.gz\n"
     ]
    },
    {
     "name": "stderr",
     "output_type": "stream",
     "text": [
      "\r",
      "  3% (14 of 359) |                       | Elapsed Time: 0:00:04 ETA:   0:01:51"
     ]
    },
    {
     "name": "stdout",
     "output_type": "stream",
     "text": [
      "/map_to_tables_150.json.gz\n"
     ]
    },
    {
     "name": "stderr",
     "output_type": "stream",
     "text": [
      "\r",
      "  4% (15 of 359) |                       | Elapsed Time: 0:00:04 ETA:   0:01:50"
     ]
    },
    {
     "name": "stdout",
     "output_type": "stream",
     "text": [
      "/map_to_tables_160.json.gz\n"
     ]
    },
    {
     "name": "stderr",
     "output_type": "stream",
     "text": [
      "\r",
      "  4% (16 of 359) |#                      | Elapsed Time: 0:00:05 ETA:   0:01:40"
     ]
    },
    {
     "name": "stdout",
     "output_type": "stream",
     "text": [
      "/map_to_tables_136.json.gz\n"
     ]
    },
    {
     "name": "stderr",
     "output_type": "stream",
     "text": [
      "\r",
      "  4% (17 of 359) |#                      | Elapsed Time: 0:00:05 ETA:   0:01:39"
     ]
    },
    {
     "name": "stdout",
     "output_type": "stream",
     "text": [
      "/map_to_tables_254.json.gz\n"
     ]
    },
    {
     "name": "stderr",
     "output_type": "stream",
     "text": [
      "\r",
      "  5% (18 of 359) |#                      | Elapsed Time: 0:00:05 ETA:   0:01:49"
     ]
    },
    {
     "name": "stdout",
     "output_type": "stream",
     "text": [
      "/map_to_tables_128.json.gz\n"
     ]
    },
    {
     "name": "stderr",
     "output_type": "stream",
     "text": [
      "\r",
      "  5% (19 of 359) |#                      | Elapsed Time: 0:00:06 ETA:   0:02:02"
     ]
    },
    {
     "name": "stdout",
     "output_type": "stream",
     "text": [
      "/map_to_tables_147.json.gz\n"
     ]
    },
    {
     "name": "stderr",
     "output_type": "stream",
     "text": [
      "\r",
      "  5% (20 of 359) |#                      | Elapsed Time: 0:00:06 ETA:   0:02:21"
     ]
    },
    {
     "name": "stdout",
     "output_type": "stream",
     "text": [
      "/map_to_tables_188.json.gz\n"
     ]
    },
    {
     "name": "stderr",
     "output_type": "stream",
     "text": [
      "\r",
      "  5% (21 of 359) |#                      | Elapsed Time: 0:00:07 ETA:   0:02:49"
     ]
    },
    {
     "name": "stdout",
     "output_type": "stream",
     "text": [
      "/map_to_tables_24.json.gz\n"
     ]
    },
    {
     "name": "stderr",
     "output_type": "stream",
     "text": [
      "\r",
      "  6% (22 of 359) |#                      | Elapsed Time: 0:00:07 ETA:   0:02:50"
     ]
    },
    {
     "name": "stdout",
     "output_type": "stream",
     "text": [
      "/map_to_tables_41.json.gz\n"
     ]
    },
    {
     "name": "stderr",
     "output_type": "stream",
     "text": [
      "\r",
      "  6% (23 of 359) |#                      | Elapsed Time: 0:00:08 ETA:   0:02:36"
     ]
    },
    {
     "name": "stdout",
     "output_type": "stream",
     "text": [
      "/map_to_tables_165.json.gz\n"
     ]
    },
    {
     "name": "stderr",
     "output_type": "stream",
     "text": [
      "\r",
      "  6% (24 of 359) |#                      | Elapsed Time: 0:00:08 ETA:   0:02:22"
     ]
    },
    {
     "name": "stdout",
     "output_type": "stream",
     "text": [
      "/map_to_tables_43.json.gz\n"
     ]
    },
    {
     "name": "stderr",
     "output_type": "stream",
     "text": [
      "\r",
      "  6% (25 of 359) |#                      | Elapsed Time: 0:00:08 ETA:   0:02:15"
     ]
    },
    {
     "name": "stdout",
     "output_type": "stream",
     "text": [
      "/map_to_tables_174.json.gz\n"
     ]
    },
    {
     "name": "stderr",
     "output_type": "stream",
     "text": [
      "\r",
      "  7% (26 of 359) |#                      | Elapsed Time: 0:00:09 ETA:   0:02:03"
     ]
    },
    {
     "name": "stdout",
     "output_type": "stream",
     "text": [
      "/map_to_tables_288.json.gz\n"
     ]
    },
    {
     "name": "stderr",
     "output_type": "stream",
     "text": [
      "\r",
      "  7% (27 of 359) |#                      | Elapsed Time: 0:00:09 ETA:   0:01:52"
     ]
    },
    {
     "name": "stdout",
     "output_type": "stream",
     "text": [
      "/map_to_tables_261.json.gz\n"
     ]
    },
    {
     "name": "stderr",
     "output_type": "stream",
     "text": [
      "\r",
      "  7% (28 of 359) |#                      | Elapsed Time: 0:00:09 ETA:   0:01:51"
     ]
    },
    {
     "name": "stdout",
     "output_type": "stream",
     "text": [
      "/map_to_tables_33.json.gz\n"
     ]
    },
    {
     "name": "stderr",
     "output_type": "stream",
     "text": [
      "\r",
      "  8% (29 of 359) |#                      | Elapsed Time: 0:00:10 ETA:   0:02:02"
     ]
    },
    {
     "name": "stdout",
     "output_type": "stream",
     "text": [
      "/map_to_tables_197.json.gz\n"
     ]
    },
    {
     "name": "stderr",
     "output_type": "stream",
     "text": [
      "\r",
      "  8% (30 of 359) |#                      | Elapsed Time: 0:00:10 ETA:   0:02:02"
     ]
    },
    {
     "name": "stdout",
     "output_type": "stream",
     "text": [
      "/map_to_tables_291.json.gz\n"
     ]
    },
    {
     "name": "stderr",
     "output_type": "stream",
     "text": [
      "\r",
      "  8% (31 of 359) |#                      | Elapsed Time: 0:00:11 ETA:   0:02:02"
     ]
    },
    {
     "name": "stdout",
     "output_type": "stream",
     "text": [
      "/map_to_tables_155.json.gz\n"
     ]
    },
    {
     "name": "stderr",
     "output_type": "stream",
     "text": [
      "\r",
      "  8% (32 of 359) |##                     | Elapsed Time: 0:00:11 ETA:   0:02:19"
     ]
    },
    {
     "name": "stdout",
     "output_type": "stream",
     "text": [
      "/map_to_tables_149.json.gz\n"
     ]
    },
    {
     "name": "stderr",
     "output_type": "stream",
     "text": [
      "\r",
      "  9% (33 of 359) |##                     | Elapsed Time: 0:00:12 ETA:   0:02:18"
     ]
    },
    {
     "name": "stdout",
     "output_type": "stream",
     "text": [
      "/map_to_tables_186.json.gz\n"
     ]
    },
    {
     "name": "stderr",
     "output_type": "stream",
     "text": [
      "\r",
      "  9% (34 of 359) |##                     | Elapsed Time: 0:00:12 ETA:   0:02:11"
     ]
    },
    {
     "name": "stdout",
     "output_type": "stream",
     "text": [
      "/map_to_tables_183.json.gz\n"
     ]
    },
    {
     "name": "stderr",
     "output_type": "stream",
     "text": [
      "\r",
      "  9% (35 of 359) |##                     | Elapsed Time: 0:00:12 ETA:   0:02:18"
     ]
    },
    {
     "name": "stdout",
     "output_type": "stream",
     "text": [
      "/map_to_tables_153.json.gz\n"
     ]
    },
    {
     "name": "stderr",
     "output_type": "stream",
     "text": [
      "\r",
      " 10% (36 of 359) |##                     | Elapsed Time: 0:00:13 ETA:   0:02:31"
     ]
    },
    {
     "name": "stdout",
     "output_type": "stream",
     "text": [
      "/map_to_tables_168.json.gz\n"
     ]
    },
    {
     "name": "stderr",
     "output_type": "stream",
     "text": [
      "\r",
      " 10% (37 of 359) |##                     | Elapsed Time: 0:00:14 ETA:   0:02:39"
     ]
    },
    {
     "name": "stdout",
     "output_type": "stream",
     "text": [
      "/map_to_tables_18.json.gz\n"
     ]
    },
    {
     "name": "stderr",
     "output_type": "stream",
     "text": [
      "\r",
      " 10% (38 of 359) |##                     | Elapsed Time: 0:00:14 ETA:   0:02:53"
     ]
    },
    {
     "name": "stdout",
     "output_type": "stream",
     "text": [
      "/map_to_tables_343.json.gz\n"
     ]
    },
    {
     "name": "stderr",
     "output_type": "stream",
     "text": [
      "\r",
      " 10% (39 of 359) |##                     | Elapsed Time: 0:00:15 ETA:   0:02:53"
     ]
    },
    {
     "name": "stdout",
     "output_type": "stream",
     "text": [
      "/map_to_tables_355.json.gz\n"
     ]
    },
    {
     "name": "stderr",
     "output_type": "stream",
     "text": [
      "\r",
      " 11% (40 of 359) |##                     | Elapsed Time: 0:00:15 ETA:   0:02:37"
     ]
    },
    {
     "name": "stdout",
     "output_type": "stream",
     "text": [
      "/map_to_tables_270.json.gz\n"
     ]
    },
    {
     "name": "stderr",
     "output_type": "stream",
     "text": [
      "\r",
      " 11% (41 of 359) |##                     | Elapsed Time: 0:00:15 ETA:   0:02:37"
     ]
    },
    {
     "name": "stdout",
     "output_type": "stream",
     "text": [
      "/map_to_tables_130.json.gz\n"
     ]
    },
    {
     "name": "stderr",
     "output_type": "stream",
     "text": [
      "\r",
      " 11% (42 of 359) |##                     | Elapsed Time: 0:00:16 ETA:   0:02:16"
     ]
    },
    {
     "name": "stdout",
     "output_type": "stream",
     "text": [
      "/map_to_tables_98.json.gz\n"
     ]
    },
    {
     "name": "stderr",
     "output_type": "stream",
     "text": [
      "\r",
      " 11% (43 of 359) |##                     | Elapsed Time: 0:00:16 ETA:   0:02:08"
     ]
    },
    {
     "name": "stdout",
     "output_type": "stream",
     "text": [
      "/map_to_tables_55.json.gz\n"
     ]
    },
    {
     "name": "stderr",
     "output_type": "stream",
     "text": [
      "\r",
      " 12% (44 of 359) |##                     | Elapsed Time: 0:00:16 ETA:   0:01:56"
     ]
    },
    {
     "name": "stdout",
     "output_type": "stream",
     "text": [
      "/map_to_tables_306.json.gz\n"
     ]
    },
    {
     "name": "stderr",
     "output_type": "stream",
     "text": [
      "\r",
      " 12% (45 of 359) |##                     | Elapsed Time: 0:00:17 ETA:   0:01:52"
     ]
    },
    {
     "name": "stdout",
     "output_type": "stream",
     "text": [
      "/map_to_tables_207.json.gz\n"
     ]
    },
    {
     "name": "stderr",
     "output_type": "stream",
     "text": [
      "\r",
      " 12% (46 of 359) |##                     | Elapsed Time: 0:00:17 ETA:   0:01:56"
     ]
    },
    {
     "name": "stdout",
     "output_type": "stream",
     "text": [
      "/map_to_tables_77.json.gz\n"
     ]
    },
    {
     "name": "stderr",
     "output_type": "stream",
     "text": [
      "\r",
      " 13% (47 of 359) |###                    | Elapsed Time: 0:00:17 ETA:   0:01:46"
     ]
    },
    {
     "name": "stdout",
     "output_type": "stream",
     "text": [
      "/map_to_tables_212.json.gz\n"
     ]
    },
    {
     "name": "stderr",
     "output_type": "stream",
     "text": [
      "\r",
      " 13% (48 of 359) |###                    | Elapsed Time: 0:00:18 ETA:   0:01:45"
     ]
    },
    {
     "name": "stdout",
     "output_type": "stream",
     "text": [
      "/map_to_tables_92.json.gz\n"
     ]
    },
    {
     "name": "stderr",
     "output_type": "stream",
     "text": [
      "\r",
      " 13% (49 of 359) |###                    | Elapsed Time: 0:00:18 ETA:   0:01:45"
     ]
    },
    {
     "name": "stdout",
     "output_type": "stream",
     "text": [
      "/map_to_tables_352.json.gz\n"
     ]
    },
    {
     "name": "stderr",
     "output_type": "stream",
     "text": [
      "\r",
      " 13% (50 of 359) |###                    | Elapsed Time: 0:00:19 ETA:   0:01:56"
     ]
    },
    {
     "name": "stdout",
     "output_type": "stream",
     "text": [
      "/map_to_tables_69.json.gz\n"
     ]
    },
    {
     "name": "stderr",
     "output_type": "stream",
     "text": [
      "\r",
      " 14% (51 of 359) |###                    | Elapsed Time: 0:00:19 ETA:   0:01:57"
     ]
    },
    {
     "name": "stdout",
     "output_type": "stream",
     "text": [
      "/map_to_tables_213.json.gz\n"
     ]
    },
    {
     "name": "stderr",
     "output_type": "stream",
     "text": [
      "\r",
      " 14% (52 of 359) |###                    | Elapsed Time: 0:00:19 ETA:   0:01:56"
     ]
    },
    {
     "name": "stdout",
     "output_type": "stream",
     "text": [
      "/map_to_tables_79.json.gz\n"
     ]
    },
    {
     "name": "stderr",
     "output_type": "stream",
     "text": [
      "\r",
      " 14% (53 of 359) |###                    | Elapsed Time: 0:00:20 ETA:   0:01:55"
     ]
    },
    {
     "name": "stdout",
     "output_type": "stream",
     "text": [
      "/map_to_tables_287.json.gz\n"
     ]
    },
    {
     "name": "stderr",
     "output_type": "stream",
     "text": [
      "\r",
      " 15% (54 of 359) |###                    | Elapsed Time: 0:00:20 ETA:   0:01:54"
     ]
    },
    {
     "name": "stdout",
     "output_type": "stream",
     "text": [
      "/map_to_tables_269.json.gz\n"
     ]
    },
    {
     "name": "stderr",
     "output_type": "stream",
     "text": [
      "\r",
      " 15% (55 of 359) |###                    | Elapsed Time: 0:00:21 ETA:   0:02:04"
     ]
    },
    {
     "name": "stdout",
     "output_type": "stream",
     "text": [
      "/map_to_tables_313.json.gz\n"
     ]
    },
    {
     "name": "stderr",
     "output_type": "stream",
     "text": [
      "\r",
      " 15% (56 of 359) |###                    | Elapsed Time: 0:00:21 ETA:   0:02:11"
     ]
    },
    {
     "name": "stdout",
     "output_type": "stream",
     "text": [
      "/map_to_tables_286.json.gz\n"
     ]
    },
    {
     "name": "stderr",
     "output_type": "stream",
     "text": [
      "\r",
      " 15% (57 of 359) |###                    | Elapsed Time: 0:00:21 ETA:   0:02:04"
     ]
    },
    {
     "name": "stdout",
     "output_type": "stream",
     "text": [
      "/map_to_tables_132.json.gz\n"
     ]
    },
    {
     "name": "stderr",
     "output_type": "stream",
     "text": [
      "\r",
      " 16% (58 of 359) |###                    | Elapsed Time: 0:00:22 ETA:   0:01:53"
     ]
    },
    {
     "name": "stdout",
     "output_type": "stream",
     "text": [
      "/map_to_tables_200.json.gz\n"
     ]
    },
    {
     "name": "stderr",
     "output_type": "stream",
     "text": [
      "\r",
      " 16% (59 of 359) |###                    | Elapsed Time: 0:00:22 ETA:   0:01:51"
     ]
    },
    {
     "name": "stdout",
     "output_type": "stream",
     "text": [
      "/map_to_tables_323.json.gz\n"
     ]
    },
    {
     "name": "stderr",
     "output_type": "stream",
     "text": [
      "\r",
      " 16% (60 of 359) |###                    | Elapsed Time: 0:00:22 ETA:   0:01:51"
     ]
    },
    {
     "name": "stdout",
     "output_type": "stream",
     "text": [
      "/map_to_tables_102.json.gz\n"
     ]
    },
    {
     "name": "stderr",
     "output_type": "stream",
     "text": [
      "\r",
      " 16% (61 of 359) |###                    | Elapsed Time: 0:00:23 ETA:   0:01:41"
     ]
    },
    {
     "name": "stdout",
     "output_type": "stream",
     "text": [
      "/map_to_tables_161.json.gz\n"
     ]
    },
    {
     "name": "stderr",
     "output_type": "stream",
     "text": [
      "\r",
      " 17% (62 of 359) |###                    | Elapsed Time: 0:00:23 ETA:   0:01:39"
     ]
    },
    {
     "name": "stdout",
     "output_type": "stream",
     "text": [
      "/map_to_tables_5.json.gz\n"
     ]
    },
    {
     "name": "stderr",
     "output_type": "stream",
     "text": [
      "\r",
      " 17% (63 of 359) |####                   | Elapsed Time: 0:00:23 ETA:   0:01:28"
     ]
    },
    {
     "name": "stdout",
     "output_type": "stream",
     "text": [
      "/map_to_tables_278.json.gz\n"
     ]
    },
    {
     "name": "stderr",
     "output_type": "stream",
     "text": [
      "\r",
      " 17% (64 of 359) |####                   | Elapsed Time: 0:00:24 ETA:   0:01:40"
     ]
    },
    {
     "name": "stdout",
     "output_type": "stream",
     "text": [
      "/map_to_tables_325.json.gz\n"
     ]
    },
    {
     "name": "stderr",
     "output_type": "stream",
     "text": [
      "\r",
      " 18% (65 of 359) |####                   | Elapsed Time: 0:00:24 ETA:   0:01:39"
     ]
    },
    {
     "name": "stdout",
     "output_type": "stream",
     "text": [
      "/map_to_tables_96.json.gz\n"
     ]
    },
    {
     "name": "stderr",
     "output_type": "stream",
     "text": [
      "\r",
      " 18% (66 of 359) |####                   | Elapsed Time: 0:00:24 ETA:   0:01:39"
     ]
    },
    {
     "name": "stdout",
     "output_type": "stream",
     "text": [
      "/map_to_tables_297.json.gz\n"
     ]
    },
    {
     "name": "stderr",
     "output_type": "stream",
     "text": [
      "\r",
      " 18% (67 of 359) |####                   | Elapsed Time: 0:00:25 ETA:   0:01:49"
     ]
    },
    {
     "name": "stdout",
     "output_type": "stream",
     "text": [
      "/map_to_tables_53.json.gz\n"
     ]
    },
    {
     "name": "stderr",
     "output_type": "stream",
     "text": [
      "\r",
      " 18% (68 of 359) |####                   | Elapsed Time: 0:00:25 ETA:   0:01:49"
     ]
    },
    {
     "name": "stdout",
     "output_type": "stream",
     "text": [
      "/map_to_tables_218.json.gz\n"
     ]
    },
    {
     "name": "stderr",
     "output_type": "stream",
     "text": [
      "\r",
      " 19% (69 of 359) |####                   | Elapsed Time: 0:00:26 ETA:   0:02:00"
     ]
    },
    {
     "name": "stdout",
     "output_type": "stream",
     "text": [
      "/map_to_tables_359.json.gz\n"
     ]
    },
    {
     "name": "stderr",
     "output_type": "stream",
     "text": [
      "\r",
      " 19% (70 of 359) |####                   | Elapsed Time: 0:00:26 ETA:   0:01:49"
     ]
    },
    {
     "name": "stdout",
     "output_type": "stream",
     "text": [
      "/map_to_tables_74.json.gz\n"
     ]
    },
    {
     "name": "stderr",
     "output_type": "stream",
     "text": [
      "\r",
      " 19% (71 of 359) |####                   | Elapsed Time: 0:00:26 ETA:   0:01:56"
     ]
    },
    {
     "name": "stdout",
     "output_type": "stream",
     "text": [
      "/map_to_tables_342.json.gz\n"
     ]
    },
    {
     "name": "stderr",
     "output_type": "stream",
     "text": [
      "\r",
      " 20% (72 of 359) |####                   | Elapsed Time: 0:00:27 ETA:   0:01:54"
     ]
    },
    {
     "name": "stdout",
     "output_type": "stream",
     "text": [
      "/map_to_tables_151.json.gz\n"
     ]
    },
    {
     "name": "stderr",
     "output_type": "stream",
     "text": [
      "\r",
      " 20% (73 of 359) |####                   | Elapsed Time: 0:00:27 ETA:   0:01:44"
     ]
    },
    {
     "name": "stdout",
     "output_type": "stream",
     "text": [
      "/map_to_tables_101.json.gz\n"
     ]
    },
    {
     "name": "stderr",
     "output_type": "stream",
     "text": [
      "\r",
      " 20% (74 of 359) |####                   | Elapsed Time: 0:00:27 ETA:   0:01:43"
     ]
    },
    {
     "name": "stdout",
     "output_type": "stream",
     "text": [
      "/map_to_tables_241.json.gz\n"
     ]
    },
    {
     "name": "stderr",
     "output_type": "stream",
     "text": [
      "\r",
      " 20% (75 of 359) |####                   | Elapsed Time: 0:00:28 ETA:   0:01:42"
     ]
    },
    {
     "name": "stdout",
     "output_type": "stream",
     "text": [
      "/map_to_tables_308.json.gz\n"
     ]
    },
    {
     "name": "stderr",
     "output_type": "stream",
     "text": [
      "\r",
      " 21% (76 of 359) |####                   | Elapsed Time: 0:00:28 ETA:   0:01:53"
     ]
    },
    {
     "name": "stdout",
     "output_type": "stream",
     "text": [
      "/map_to_tables_326.json.gz\n"
     ]
    },
    {
     "name": "stderr",
     "output_type": "stream",
     "text": [
      "\r",
      " 21% (77 of 359) |####                   | Elapsed Time: 0:00:29 ETA:   0:02:01"
     ]
    },
    {
     "name": "stdout",
     "output_type": "stream",
     "text": [
      "/map_to_tables_158.json.gz\n"
     ]
    },
    {
     "name": "stderr",
     "output_type": "stream",
     "text": [
      "\r",
      " 21% (78 of 359) |####                   | Elapsed Time: 0:00:29 ETA:   0:02:01"
     ]
    },
    {
     "name": "stdout",
     "output_type": "stream",
     "text": [
      "/map_to_tables_143.json.gz\n"
     ]
    },
    {
     "name": "stderr",
     "output_type": "stream",
     "text": [
      "\r",
      " 22% (79 of 359) |#####                  | Elapsed Time: 0:00:30 ETA:   0:02:14"
     ]
    },
    {
     "name": "stdout",
     "output_type": "stream",
     "text": [
      "/map_to_tables_240.json.gz\n"
     ]
    },
    {
     "name": "stderr",
     "output_type": "stream",
     "text": [
      "\r",
      " 22% (80 of 359) |#####                  | Elapsed Time: 0:00:30 ETA:   0:02:02"
     ]
    },
    {
     "name": "stdout",
     "output_type": "stream",
     "text": [
      "/map_to_tables_318.json.gz\n"
     ]
    },
    {
     "name": "stderr",
     "output_type": "stream",
     "text": [
      "\r",
      " 22% (81 of 359) |#####                  | Elapsed Time: 0:00:30 ETA:   0:01:54"
     ]
    },
    {
     "name": "stdout",
     "output_type": "stream",
     "text": [
      "/map_to_tables_124.json.gz\n"
     ]
    },
    {
     "name": "stderr",
     "output_type": "stream",
     "text": [
      "\r",
      " 22% (82 of 359) |#####                  | Elapsed Time: 0:00:31 ETA:   0:01:53"
     ]
    },
    {
     "name": "stdout",
     "output_type": "stream",
     "text": [
      "/map_to_tables_81.json.gz\n"
     ]
    },
    {
     "name": "stderr",
     "output_type": "stream",
     "text": [
      "\r",
      " 23% (83 of 359) |#####                  | Elapsed Time: 0:00:31 ETA:   0:01:42"
     ]
    },
    {
     "name": "stdout",
     "output_type": "stream",
     "text": [
      "/map_to_tables_332.json.gz\n"
     ]
    },
    {
     "name": "stderr",
     "output_type": "stream",
     "text": [
      "\r",
      " 23% (84 of 359) |#####                  | Elapsed Time: 0:00:31 ETA:   0:01:40"
     ]
    },
    {
     "name": "stdout",
     "output_type": "stream",
     "text": [
      "/map_to_tables_252.json.gz\n"
     ]
    },
    {
     "name": "stderr",
     "output_type": "stream",
     "text": [
      "\r",
      " 23% (85 of 359) |#####                  | Elapsed Time: 0:00:32 ETA:   0:01:38"
     ]
    },
    {
     "name": "stdout",
     "output_type": "stream",
     "text": [
      "/map_to_tables_118.json.gz\n"
     ]
    },
    {
     "name": "stderr",
     "output_type": "stream",
     "text": [
      "\r",
      " 23% (86 of 359) |#####                  | Elapsed Time: 0:00:32 ETA:   0:01:40"
     ]
    },
    {
     "name": "stdout",
     "output_type": "stream",
     "text": [
      "/map_to_tables_80.json.gz\n"
     ]
    },
    {
     "name": "stderr",
     "output_type": "stream",
     "text": [
      "\r",
      " 24% (87 of 359) |#####                  | Elapsed Time: 0:00:32 ETA:   0:01:40"
     ]
    },
    {
     "name": "stdout",
     "output_type": "stream",
     "text": [
      "/map_to_tables_320.json.gz\n"
     ]
    },
    {
     "name": "stderr",
     "output_type": "stream",
     "text": [
      "\r",
      " 24% (88 of 359) |#####                  | Elapsed Time: 0:00:33 ETA:   0:01:36"
     ]
    },
    {
     "name": "stdout",
     "output_type": "stream",
     "text": [
      "/map_to_tables_172.json.gz\n"
     ]
    },
    {
     "name": "stderr",
     "output_type": "stream",
     "text": [
      "\r",
      " 24% (89 of 359) |#####                  | Elapsed Time: 0:00:33 ETA:   0:01:27"
     ]
    },
    {
     "name": "stdout",
     "output_type": "stream",
     "text": [
      "/map_to_tables_285.json.gz\n"
     ]
    },
    {
     "name": "stderr",
     "output_type": "stream",
     "text": [
      "\r",
      " 25% (90 of 359) |#####                  | Elapsed Time: 0:00:34 ETA:   0:01:40"
     ]
    },
    {
     "name": "stdout",
     "output_type": "stream",
     "text": [
      "/map_to_tables_135.json.gz\n"
     ]
    },
    {
     "name": "stderr",
     "output_type": "stream",
     "text": [
      "\r",
      " 25% (91 of 359) |#####                  | Elapsed Time: 0:00:34 ETA:   0:01:30"
     ]
    },
    {
     "name": "stdout",
     "output_type": "stream",
     "text": [
      "/map_to_tables_199.json.gz\n"
     ]
    },
    {
     "name": "stderr",
     "output_type": "stream",
     "text": [
      "\r",
      " 25% (92 of 359) |#####                  | Elapsed Time: 0:00:34 ETA:   0:01:36"
     ]
    },
    {
     "name": "stdout",
     "output_type": "stream",
     "text": [
      "/map_to_tables_11.json.gz\n"
     ]
    },
    {
     "name": "stderr",
     "output_type": "stream",
     "text": [
      "\r",
      " 25% (93 of 359) |#####                  | Elapsed Time: 0:00:35 ETA:   0:01:51"
     ]
    },
    {
     "name": "stdout",
     "output_type": "stream",
     "text": [
      "/map_to_tables_38.json.gz\n"
     ]
    },
    {
     "name": "stderr",
     "output_type": "stream",
     "text": [
      "\r",
      " 26% (94 of 359) |######                 | Elapsed Time: 0:00:35 ETA:   0:02:02"
     ]
    },
    {
     "name": "stdout",
     "output_type": "stream",
     "text": [
      "/map_to_tables_273.json.gz\n"
     ]
    },
    {
     "name": "stderr",
     "output_type": "stream",
     "text": [
      "\r",
      " 26% (95 of 359) |######                 | Elapsed Time: 0:00:36 ETA:   0:01:49"
     ]
    },
    {
     "name": "stdout",
     "output_type": "stream",
     "text": [
      "/map_to_tables_47.json.gz\n"
     ]
    },
    {
     "name": "stderr",
     "output_type": "stream",
     "text": [
      "\r",
      " 26% (96 of 359) |######                 | Elapsed Time: 0:00:36 ETA:   0:02:00"
     ]
    },
    {
     "name": "stdout",
     "output_type": "stream",
     "text": [
      "/map_to_tables_70.json.gz\n"
     ]
    },
    {
     "name": "stderr",
     "output_type": "stream",
     "text": [
      "\r",
      " 27% (97 of 359) |######                 | Elapsed Time: 0:00:36 ETA:   0:01:50"
     ]
    },
    {
     "name": "stdout",
     "output_type": "stream",
     "text": [
      "/map_to_tables_181.json.gz\n"
     ]
    },
    {
     "name": "stderr",
     "output_type": "stream",
     "text": [
      "\r",
      " 27% (98 of 359) |######                 | Elapsed Time: 0:00:37 ETA:   0:01:44"
     ]
    },
    {
     "name": "stdout",
     "output_type": "stream",
     "text": [
      "/map_to_tables_202.json.gz\n"
     ]
    },
    {
     "name": "stderr",
     "output_type": "stream",
     "text": [
      "\r",
      " 27% (99 of 359) |######                 | Elapsed Time: 0:00:37 ETA:   0:01:35"
     ]
    },
    {
     "name": "stdout",
     "output_type": "stream",
     "text": [
      "/map_to_tables_108.json.gz\n"
     ]
    },
    {
     "name": "stderr",
     "output_type": "stream",
     "text": [
      "\r",
      " 27% (100 of 359) |######                | Elapsed Time: 0:00:37 ETA:   0:01:26"
     ]
    },
    {
     "name": "stdout",
     "output_type": "stream",
     "text": [
      "/map_to_tables_8.json.gz\n"
     ]
    },
    {
     "name": "stderr",
     "output_type": "stream",
     "text": [
      "\r",
      " 28% (101 of 359) |######                | Elapsed Time: 0:00:38 ETA:   0:01:26"
     ]
    },
    {
     "name": "stdout",
     "output_type": "stream",
     "text": [
      "/map_to_tables_242.json.gz\n"
     ]
    },
    {
     "name": "stderr",
     "output_type": "stream",
     "text": [
      "\r",
      " 28% (102 of 359) |######                | Elapsed Time: 0:00:38 ETA:   0:01:23"
     ]
    },
    {
     "name": "stdout",
     "output_type": "stream",
     "text": [
      "/map_to_tables_290.json.gz\n"
     ]
    },
    {
     "name": "stderr",
     "output_type": "stream",
     "text": [
      "\r",
      " 28% (103 of 359) |######                | Elapsed Time: 0:00:38 ETA:   0:01:15"
     ]
    },
    {
     "name": "stdout",
     "output_type": "stream",
     "text": [
      "/map_to_tables_239.json.gz\n"
     ]
    },
    {
     "name": "stderr",
     "output_type": "stream",
     "text": [
      "\r",
      " 28% (104 of 359) |######                | Elapsed Time: 0:00:39 ETA:   0:01:25"
     ]
    },
    {
     "name": "stdout",
     "output_type": "stream",
     "text": [
      "/map_to_tables_176.json.gz\n"
     ]
    },
    {
     "name": "stderr",
     "output_type": "stream",
     "text": [
      "\r",
      " 29% (105 of 359) |######                | Elapsed Time: 0:00:39 ETA:   0:01:25"
     ]
    },
    {
     "name": "stdout",
     "output_type": "stream",
     "text": [
      "/map_to_tables_137.json.gz\n"
     ]
    },
    {
     "name": "stderr",
     "output_type": "stream",
     "text": [
      "\r",
      " 29% (106 of 359) |######                | Elapsed Time: 0:00:39 ETA:   0:01:25"
     ]
    },
    {
     "name": "stdout",
     "output_type": "stream",
     "text": [
      "/map_to_tables_303.json.gz\n"
     ]
    },
    {
     "name": "stderr",
     "output_type": "stream",
     "text": [
      "\r",
      " 29% (107 of 359) |######                | Elapsed Time: 0:00:40 ETA:   0:01:34"
     ]
    },
    {
     "name": "stdout",
     "output_type": "stream",
     "text": [
      "/map_to_tables_184.json.gz\n"
     ]
    },
    {
     "name": "stderr",
     "output_type": "stream",
     "text": [
      "\r",
      " 30% (108 of 359) |######                | Elapsed Time: 0:00:40 ETA:   0:01:50"
     ]
    },
    {
     "name": "stdout",
     "output_type": "stream",
     "text": [
      "/map_to_tables_54.json.gz\n"
     ]
    },
    {
     "name": "stderr",
     "output_type": "stream",
     "text": [
      "\r",
      " 30% (109 of 359) |######                | Elapsed Time: 0:00:41 ETA:   0:01:43"
     ]
    },
    {
     "name": "stdout",
     "output_type": "stream",
     "text": [
      "/map_to_tables_51.json.gz\n"
     ]
    },
    {
     "name": "stderr",
     "output_type": "stream",
     "text": [
      "\r",
      " 30% (110 of 359) |######                | Elapsed Time: 0:00:41 ETA:   0:01:33"
     ]
    },
    {
     "name": "stdout",
     "output_type": "stream",
     "text": [
      "/map_to_tables_103.json.gz\n"
     ]
    },
    {
     "name": "stderr",
     "output_type": "stream",
     "text": [
      "\r",
      " 30% (111 of 359) |######                | Elapsed Time: 0:00:41 ETA:   0:01:32"
     ]
    },
    {
     "name": "stdout",
     "output_type": "stream",
     "text": [
      "/map_to_tables_233.json.gz\n"
     ]
    },
    {
     "name": "stderr",
     "output_type": "stream",
     "text": [
      "\r",
      " 31% (112 of 359) |######                | Elapsed Time: 0:00:42 ETA:   0:01:33"
     ]
    },
    {
     "name": "stdout",
     "output_type": "stream",
     "text": [
      "/map_to_tables_316.json.gz\n"
     ]
    },
    {
     "name": "stderr",
     "output_type": "stream",
     "text": [
      "\r",
      " 31% (113 of 359) |######                | Elapsed Time: 0:00:42 ETA:   0:01:23"
     ]
    },
    {
     "name": "stdout",
     "output_type": "stream",
     "text": [
      "/map_to_tables_156.json.gz\n"
     ]
    },
    {
     "name": "stderr",
     "output_type": "stream",
     "text": [
      "\r",
      " 31% (114 of 359) |######                | Elapsed Time: 0:00:42 ETA:   0:01:22"
     ]
    },
    {
     "name": "stdout",
     "output_type": "stream",
     "text": [
      "/map_to_tables_277.json.gz\n"
     ]
    },
    {
     "name": "stderr",
     "output_type": "stream",
     "text": [
      "\r",
      " 32% (115 of 359) |#######               | Elapsed Time: 0:00:43 ETA:   0:01:13"
     ]
    },
    {
     "name": "stdout",
     "output_type": "stream",
     "text": [
      "/map_to_tables_133.json.gz\n"
     ]
    },
    {
     "name": "stderr",
     "output_type": "stream",
     "text": [
      "\r",
      " 32% (116 of 359) |#######               | Elapsed Time: 0:00:43 ETA:   0:01:14"
     ]
    },
    {
     "name": "stdout",
     "output_type": "stream",
     "text": [
      "/map_to_tables_255.json.gz\n"
     ]
    },
    {
     "name": "stderr",
     "output_type": "stream",
     "text": [
      "\r",
      " 32% (117 of 359) |#######               | Elapsed Time: 0:00:43 ETA:   0:01:12"
     ]
    },
    {
     "name": "stdout",
     "output_type": "stream",
     "text": [
      "/map_to_tables_129.json.gz\n"
     ]
    },
    {
     "name": "stderr",
     "output_type": "stream",
     "text": [
      "\r",
      " 32% (118 of 359) |#######               | Elapsed Time: 0:00:43 ETA:   0:01:12"
     ]
    },
    {
     "name": "stdout",
     "output_type": "stream",
     "text": [
      "/map_to_tables_230.json.gz\n"
     ]
    },
    {
     "name": "stderr",
     "output_type": "stream",
     "text": [
      "\r",
      " 33% (119 of 359) |#######               | Elapsed Time: 0:00:44 ETA:   0:01:12"
     ]
    },
    {
     "name": "stdout",
     "output_type": "stream",
     "text": [
      "/map_to_tables_191.json.gz\n"
     ]
    },
    {
     "name": "stderr",
     "output_type": "stream",
     "text": [
      "\r",
      " 33% (120 of 359) |#######               | Elapsed Time: 0:00:44 ETA:   0:01:19"
     ]
    },
    {
     "name": "stdout",
     "output_type": "stream",
     "text": [
      "/map_to_tables_62.json.gz\n"
     ]
    },
    {
     "name": "stderr",
     "output_type": "stream",
     "text": [
      "\r",
      " 33% (121 of 359) |#######               | Elapsed Time: 0:00:45 ETA:   0:01:17"
     ]
    },
    {
     "name": "stdout",
     "output_type": "stream",
     "text": [
      "/map_to_tables_282.json.gz\n"
     ]
    },
    {
     "name": "stderr",
     "output_type": "stream",
     "text": [
      "\r",
      " 33% (122 of 359) |#######               | Elapsed Time: 0:00:45 ETA:   0:01:28"
     ]
    },
    {
     "name": "stdout",
     "output_type": "stream",
     "text": [
      "/map_to_tables_15.json.gz\n"
     ]
    },
    {
     "name": "stderr",
     "output_type": "stream",
     "text": [
      "\r",
      " 34% (123 of 359) |#######               | Elapsed Time: 0:00:45 ETA:   0:01:28"
     ]
    },
    {
     "name": "stdout",
     "output_type": "stream",
     "text": [
      "/map_to_tables_180.json.gz\n"
     ]
    },
    {
     "name": "stderr",
     "output_type": "stream",
     "text": [
      "\r",
      " 34% (124 of 359) |#######               | Elapsed Time: 0:00:46 ETA:   0:01:40"
     ]
    },
    {
     "name": "stdout",
     "output_type": "stream",
     "text": [
      "/map_to_tables_219.json.gz\n"
     ]
    },
    {
     "name": "stderr",
     "output_type": "stream",
     "text": [
      " 35% (126 of 359) |#######               | Elapsed Time: 0:00:47 ETA:   0:01:33"
     ]
    },
    {
     "name": "stdout",
     "output_type": "stream",
     "text": [
      "/map_to_tables_263.json.gz\n",
      "/map_to_tables_144.json.gz\n"
     ]
    },
    {
     "name": "stderr",
     "output_type": "stream",
     "text": [
      "\r",
      " 35% (127 of 359) |#######               | Elapsed Time: 0:00:47 ETA:   0:01:36"
     ]
    },
    {
     "name": "stdout",
     "output_type": "stream",
     "text": [
      "/map_to_tables_195.json.gz\n"
     ]
    },
    {
     "name": "stderr",
     "output_type": "stream",
     "text": [
      "\r",
      " 35% (128 of 359) |#######               | Elapsed Time: 0:00:47 ETA:   0:01:26"
     ]
    },
    {
     "name": "stdout",
     "output_type": "stream",
     "text": [
      "/map_to_tables_260.json.gz\n"
     ]
    },
    {
     "name": "stderr",
     "output_type": "stream",
     "text": [
      "\r",
      " 35% (129 of 359) |#######               | Elapsed Time: 0:00:48 ETA:   0:01:25"
     ]
    },
    {
     "name": "stdout",
     "output_type": "stream",
     "text": [
      "/map_to_tables_341.json.gz\n"
     ]
    },
    {
     "name": "stderr",
     "output_type": "stream",
     "text": [
      "\r",
      " 36% (130 of 359) |#######               | Elapsed Time: 0:00:48 ETA:   0:01:26"
     ]
    },
    {
     "name": "stdout",
     "output_type": "stream",
     "text": [
      "/map_to_tables_16.json.gz\n"
     ]
    },
    {
     "name": "stderr",
     "output_type": "stream",
     "text": [
      "\r",
      " 36% (131 of 359) |########              | Elapsed Time: 0:00:48 ETA:   0:01:18"
     ]
    },
    {
     "name": "stdout",
     "output_type": "stream",
     "text": [
      "/map_to_tables_13.json.gz\n"
     ]
    },
    {
     "name": "stderr",
     "output_type": "stream",
     "text": [
      "\r",
      " 36% (132 of 359) |########              | Elapsed Time: 0:00:49 ETA:   0:01:32"
     ]
    },
    {
     "name": "stdout",
     "output_type": "stream",
     "text": [
      "/map_to_tables_310.json.gz\n"
     ]
    },
    {
     "name": "stderr",
     "output_type": "stream",
     "text": [
      "\r",
      " 37% (133 of 359) |########              | Elapsed Time: 0:00:49 ETA:   0:01:24"
     ]
    },
    {
     "name": "stdout",
     "output_type": "stream",
     "text": [
      "/map_to_tables_127.json.gz\n"
     ]
    },
    {
     "name": "stderr",
     "output_type": "stream",
     "text": [
      "\r",
      " 37% (134 of 359) |########              | Elapsed Time: 0:00:50 ETA:   0:01:37"
     ]
    },
    {
     "name": "stdout",
     "output_type": "stream",
     "text": [
      "/map_to_tables_258.json.gz\n"
     ]
    },
    {
     "name": "stderr",
     "output_type": "stream",
     "text": [
      "\r",
      " 37% (135 of 359) |########              | Elapsed Time: 0:00:50 ETA:   0:01:38"
     ]
    },
    {
     "name": "stdout",
     "output_type": "stream",
     "text": [
      "/map_to_tables_44.json.gz\n"
     ]
    },
    {
     "name": "stderr",
     "output_type": "stream",
     "text": [
      "\r",
      " 37% (136 of 359) |########              | Elapsed Time: 0:00:51 ETA:   0:01:46"
     ]
    },
    {
     "name": "stdout",
     "output_type": "stream",
     "text": [
      "/map_to_tables_141.json.gz\n"
     ]
    },
    {
     "name": "stderr",
     "output_type": "stream",
     "text": [
      "\r",
      " 38% (137 of 359) |########              | Elapsed Time: 0:00:51 ETA:   0:01:55"
     ]
    },
    {
     "name": "stdout",
     "output_type": "stream",
     "text": [
      "/map_to_tables_58.json.gz\n"
     ]
    },
    {
     "name": "stderr",
     "output_type": "stream",
     "text": [
      "\r",
      " 38% (138 of 359) |########              | Elapsed Time: 0:00:52 ETA:   0:01:54"
     ]
    },
    {
     "name": "stdout",
     "output_type": "stream",
     "text": [
      "/map_to_tables_75.json.gz\n"
     ]
    },
    {
     "name": "stderr",
     "output_type": "stream",
     "text": [
      "\r",
      " 38% (139 of 359) |########              | Elapsed Time: 0:00:52 ETA:   0:01:52"
     ]
    },
    {
     "name": "stdout",
     "output_type": "stream",
     "text": [
      "/map_to_tables_107.json.gz\n"
     ]
    },
    {
     "name": "stderr",
     "output_type": "stream",
     "text": [
      "\r",
      " 38% (140 of 359) |########              | Elapsed Time: 0:00:53 ETA:   0:01:52"
     ]
    },
    {
     "name": "stdout",
     "output_type": "stream",
     "text": [
      "/map_to_tables_237.json.gz\n"
     ]
    },
    {
     "name": "stderr",
     "output_type": "stream",
     "text": [
      "\r",
      " 39% (141 of 359) |########              | Elapsed Time: 0:00:53 ETA:   0:01:52"
     ]
    },
    {
     "name": "stdout",
     "output_type": "stream",
     "text": [
      "/map_to_tables_229.json.gz\n"
     ]
    },
    {
     "name": "stderr",
     "output_type": "stream",
     "text": [
      "\r",
      " 39% (142 of 359) |########              | Elapsed Time: 0:00:54 ETA:   0:01:42"
     ]
    },
    {
     "name": "stdout",
     "output_type": "stream",
     "text": [
      "/map_to_tables_125.json.gz\n"
     ]
    },
    {
     "name": "stderr",
     "output_type": "stream",
     "text": [
      "\r",
      " 39% (143 of 359) |########              | Elapsed Time: 0:00:54 ETA:   0:01:32"
     ]
    },
    {
     "name": "stdout",
     "output_type": "stream",
     "text": [
      "/map_to_tables_26.json.gz\n"
     ]
    },
    {
     "name": "stderr",
     "output_type": "stream",
     "text": [
      "\r",
      " 40% (144 of 359) |########              | Elapsed Time: 0:00:55 ETA:   0:01:31"
     ]
    },
    {
     "name": "stdout",
     "output_type": "stream",
     "text": [
      "/map_to_tables_217.json.gz\n"
     ]
    },
    {
     "name": "stderr",
     "output_type": "stream",
     "text": [
      "\r",
      " 40% (145 of 359) |########              | Elapsed Time: 0:00:55 ETA:   0:01:31"
     ]
    },
    {
     "name": "stdout",
     "output_type": "stream",
     "text": [
      "/map_to_tables_56.json.gz\n"
     ]
    },
    {
     "name": "stderr",
     "output_type": "stream",
     "text": [
      "\r",
      " 40% (146 of 359) |########              | Elapsed Time: 0:00:55 ETA:   0:01:25"
     ]
    },
    {
     "name": "stdout",
     "output_type": "stream",
     "text": [
      "/map_to_tables_350.json.gz\n"
     ]
    },
    {
     "name": "stderr",
     "output_type": "stream",
     "text": [
      "\r",
      " 40% (147 of 359) |#########             | Elapsed Time: 0:00:56 ETA:   0:01:29"
     ]
    },
    {
     "name": "stdout",
     "output_type": "stream",
     "text": [
      "/map_to_tables_309.json.gz\n"
     ]
    },
    {
     "name": "stderr",
     "output_type": "stream",
     "text": [
      "\r",
      " 41% (148 of 359) |#########             | Elapsed Time: 0:00:56 ETA:   0:01:38"
     ]
    },
    {
     "name": "stdout",
     "output_type": "stream",
     "text": [
      "/map_to_tables_113.json.gz\n"
     ]
    },
    {
     "name": "stderr",
     "output_type": "stream",
     "text": [
      "\r",
      " 41% (149 of 359) |#########             | Elapsed Time: 0:00:57 ETA:   0:01:29"
     ]
    },
    {
     "name": "stdout",
     "output_type": "stream",
     "text": [
      "/map_to_tables_193.json.gz\n"
     ]
    },
    {
     "name": "stderr",
     "output_type": "stream",
     "text": [
      "\r",
      " 41% (150 of 359) |#########             | Elapsed Time: 0:00:57 ETA:   0:01:24"
     ]
    },
    {
     "name": "stdout",
     "output_type": "stream",
     "text": [
      "/map_to_tables_232.json.gz\n"
     ]
    },
    {
     "name": "stderr",
     "output_type": "stream",
     "text": [
      "\r",
      " 42% (151 of 359) |#########             | Elapsed Time: 0:00:57 ETA:   0:01:17"
     ]
    },
    {
     "name": "stdout",
     "output_type": "stream",
     "text": [
      "/map_to_tables_49.json.gz\n"
     ]
    },
    {
     "name": "stderr",
     "output_type": "stream",
     "text": [
      "\r",
      " 42% (152 of 359) |#########             | Elapsed Time: 0:00:58 ETA:   0:01:24"
     ]
    },
    {
     "name": "stdout",
     "output_type": "stream",
     "text": [
      "/map_to_tables_109.json.gz\n"
     ]
    },
    {
     "name": "stderr",
     "output_type": "stream",
     "text": [
      "\r",
      " 42% (153 of 359) |#########             | Elapsed Time: 0:00:58 ETA:   0:01:24"
     ]
    },
    {
     "name": "stdout",
     "output_type": "stream",
     "text": [
      "/map_to_tables_94.json.gz\n"
     ]
    },
    {
     "name": "stderr",
     "output_type": "stream",
     "text": [
      "\r",
      " 42% (154 of 359) |#########             | Elapsed Time: 0:00:59 ETA:   0:01:27"
     ]
    },
    {
     "name": "stdout",
     "output_type": "stream",
     "text": [
      "/map_to_tables_60.json.gz\n"
     ]
    },
    {
     "name": "stderr",
     "output_type": "stream",
     "text": [
      "\r",
      " 43% (155 of 359) |#########             | Elapsed Time: 0:00:59 ETA:   0:01:45"
     ]
    },
    {
     "name": "stdout",
     "output_type": "stream",
     "text": [
      "/map_to_tables_163.json.gz\n"
     ]
    },
    {
     "name": "stderr",
     "output_type": "stream",
     "text": [
      "\r",
      " 43% (156 of 359) |#########             | Elapsed Time: 0:01:00 ETA:   0:01:46"
     ]
    },
    {
     "name": "stdout",
     "output_type": "stream",
     "text": [
      "/map_to_tables_67.json.gz\n"
     ]
    },
    {
     "name": "stderr",
     "output_type": "stream",
     "text": [
      "\r",
      " 43% (157 of 359) |#########             | Elapsed Time: 0:01:00 ETA:   0:01:45"
     ]
    },
    {
     "name": "stdout",
     "output_type": "stream",
     "text": [
      "/map_to_tables_117.json.gz\n"
     ]
    },
    {
     "name": "stderr",
     "output_type": "stream",
     "text": [
      "\r",
      " 44% (158 of 359) |#########             | Elapsed Time: 0:01:01 ETA:   0:01:44"
     ]
    },
    {
     "name": "stdout",
     "output_type": "stream",
     "text": [
      "/map_to_tables_28.json.gz\n"
     ]
    },
    {
     "name": "stderr",
     "output_type": "stream",
     "text": [
      "\r",
      " 44% (159 of 359) |#########             | Elapsed Time: 0:01:01 ETA:   0:01:44"
     ]
    },
    {
     "name": "stdout",
     "output_type": "stream",
     "text": [
      "/map_to_tables_244.json.gz\n"
     ]
    },
    {
     "name": "stderr",
     "output_type": "stream",
     "text": [
      "\r",
      " 44% (160 of 359) |#########             | Elapsed Time: 0:01:02 ETA:   0:01:42"
     ]
    },
    {
     "name": "stdout",
     "output_type": "stream",
     "text": [
      "/map_to_tables_123.json.gz\n"
     ]
    },
    {
     "name": "stderr",
     "output_type": "stream",
     "text": [
      "\r",
      " 44% (161 of 359) |#########             | Elapsed Time: 0:01:02 ETA:   0:01:43"
     ]
    },
    {
     "name": "stdout",
     "output_type": "stream",
     "text": [
      "/map_to_tables_14.json.gz\n"
     ]
    },
    {
     "name": "stderr",
     "output_type": "stream",
     "text": [
      "\r",
      " 45% (162 of 359) |#########             | Elapsed Time: 0:01:03 ETA:   0:01:33"
     ]
    },
    {
     "name": "stdout",
     "output_type": "stream",
     "text": [
      "/map_to_tables_159.json.gz\n"
     ]
    },
    {
     "name": "stderr",
     "output_type": "stream",
     "text": [
      "\r",
      " 45% (163 of 359) |#########             | Elapsed Time: 0:01:03 ETA:   0:01:33"
     ]
    },
    {
     "name": "stdout",
     "output_type": "stream",
     "text": [
      "/map_to_tables_330.json.gz\n"
     ]
    },
    {
     "name": "stderr",
     "output_type": "stream",
     "text": [
      "\r",
      " 45% (164 of 359) |##########            | Elapsed Time: 0:01:04 ETA:   0:01:23"
     ]
    },
    {
     "name": "stdout",
     "output_type": "stream",
     "text": [
      "/map_to_tables_178.json.gz\n"
     ]
    },
    {
     "name": "stderr",
     "output_type": "stream",
     "text": [
      "\r",
      " 45% (165 of 359) |##########            | Elapsed Time: 0:01:04 ETA:   0:01:19"
     ]
    },
    {
     "name": "stdout",
     "output_type": "stream",
     "text": [
      "/map_to_tables_298.json.gz\n"
     ]
    },
    {
     "name": "stderr",
     "output_type": "stream",
     "text": [
      "\r",
      " 46% (166 of 359) |##########            | Elapsed Time: 0:01:04 ETA:   0:01:19"
     ]
    },
    {
     "name": "stdout",
     "output_type": "stream",
     "text": [
      "/map_to_tables_271.json.gz\n"
     ]
    },
    {
     "name": "stderr",
     "output_type": "stream",
     "text": [
      "\r",
      " 46% (167 of 359) |##########            | Elapsed Time: 0:01:05 ETA:   0:01:21"
     ]
    },
    {
     "name": "stdout",
     "output_type": "stream",
     "text": [
      "/map_to_tables_259.json.gz\n"
     ]
    },
    {
     "name": "stderr",
     "output_type": "stream",
     "text": [
      "\r",
      " 46% (168 of 359) |##########            | Elapsed Time: 0:01:05 ETA:   0:01:22"
     ]
    },
    {
     "name": "stdout",
     "output_type": "stream",
     "text": [
      "/map_to_tables_134.json.gz\n"
     ]
    },
    {
     "name": "stderr",
     "output_type": "stream",
     "text": [
      "\r",
      " 47% (169 of 359) |##########            | Elapsed Time: 0:01:06 ETA:   0:01:21"
     ]
    },
    {
     "name": "stdout",
     "output_type": "stream",
     "text": [
      "/map_to_tables_248.json.gz\n"
     ]
    },
    {
     "name": "stderr",
     "output_type": "stream",
     "text": [
      "\r",
      " 47% (170 of 359) |##########            | Elapsed Time: 0:01:06 ETA:   0:01:28"
     ]
    },
    {
     "name": "stdout",
     "output_type": "stream",
     "text": [
      "/map_to_tables_340.json.gz\n"
     ]
    },
    {
     "name": "stderr",
     "output_type": "stream",
     "text": [
      "\r",
      " 47% (171 of 359) |##########            | Elapsed Time: 0:01:07 ETA:   0:01:21"
     ]
    },
    {
     "name": "stdout",
     "output_type": "stream",
     "text": [
      "/map_to_tables_319.json.gz\n"
     ]
    },
    {
     "name": "stderr",
     "output_type": "stream",
     "text": [
      "\r",
      " 47% (172 of 359) |##########            | Elapsed Time: 0:01:07 ETA:   0:01:16"
     ]
    },
    {
     "name": "stdout",
     "output_type": "stream",
     "text": [
      "/map_to_tables_238.json.gz\n"
     ]
    },
    {
     "name": "stderr",
     "output_type": "stream",
     "text": [
      "\r",
      " 48% (173 of 359) |##########            | Elapsed Time: 0:01:07 ETA:   0:01:10"
     ]
    },
    {
     "name": "stdout",
     "output_type": "stream",
     "text": [
      "/map_to_tables_245.json.gz\n"
     ]
    },
    {
     "name": "stderr",
     "output_type": "stream",
     "text": [
      "\r",
      " 48% (174 of 359) |##########            | Elapsed Time: 0:01:07 ETA:   0:01:03"
     ]
    },
    {
     "name": "stdout",
     "output_type": "stream",
     "text": [
      "/map_to_tables_314.json.gz\n"
     ]
    },
    {
     "name": "stderr",
     "output_type": "stream",
     "text": [
      "\r",
      " 48% (175 of 359) |##########            | Elapsed Time: 0:01:08 ETA:   0:01:10"
     ]
    },
    {
     "name": "stdout",
     "output_type": "stream",
     "text": [
      "/map_to_tables_122.json.gz\n"
     ]
    },
    {
     "name": "stderr",
     "output_type": "stream",
     "text": [
      "\r",
      " 49% (176 of 359) |##########            | Elapsed Time: 0:01:08 ETA:   0:01:09"
     ]
    },
    {
     "name": "stdout",
     "output_type": "stream",
     "text": [
      "/map_to_tables_301.json.gz\n"
     ]
    },
    {
     "name": "stderr",
     "output_type": "stream",
     "text": [
      "\r",
      " 49% (177 of 359) |##########            | Elapsed Time: 0:01:09 ETA:   0:01:09"
     ]
    },
    {
     "name": "stdout",
     "output_type": "stream",
     "text": [
      "/map_to_tables_71.json.gz\n"
     ]
    },
    {
     "name": "stderr",
     "output_type": "stream",
     "text": [
      "\r",
      " 49% (178 of 359) |##########            | Elapsed Time: 0:01:09 ETA:   0:01:19"
     ]
    },
    {
     "name": "stdout",
     "output_type": "stream",
     "text": [
      "/map_to_tables_275.json.gz\n"
     ]
    },
    {
     "name": "stderr",
     "output_type": "stream",
     "text": [
      "\r",
      " 49% (179 of 359) |##########            | Elapsed Time: 0:01:10 ETA:   0:01:25"
     ]
    },
    {
     "name": "stdout",
     "output_type": "stream",
     "text": [
      "/map_to_tables_203.json.gz\n"
     ]
    },
    {
     "name": "stderr",
     "output_type": "stream",
     "text": [
      "\r",
      " 50% (180 of 359) |###########           | Elapsed Time: 0:01:10 ETA:   0:01:17"
     ]
    },
    {
     "name": "stdout",
     "output_type": "stream",
     "text": [
      "/map_to_tables_114.json.gz\n"
     ]
    },
    {
     "name": "stderr",
     "output_type": "stream",
     "text": [
      "\r",
      " 50% (181 of 359) |###########           | Elapsed Time: 0:01:10 ETA:   0:01:13"
     ]
    },
    {
     "name": "stdout",
     "output_type": "stream",
     "text": [
      "/map_to_tables_284.json.gz\n"
     ]
    },
    {
     "name": "stderr",
     "output_type": "stream",
     "text": [
      "\r",
      " 50% (182 of 359) |###########           | Elapsed Time: 0:01:11 ETA:   0:01:17"
     ]
    },
    {
     "name": "stdout",
     "output_type": "stream",
     "text": [
      "/map_to_tables_347.json.gz\n"
     ]
    },
    {
     "name": "stderr",
     "output_type": "stream",
     "text": [
      "\r",
      " 50% (183 of 359) |###########           | Elapsed Time: 0:01:12 ETA:   0:01:16"
     ]
    },
    {
     "name": "stdout",
     "output_type": "stream",
     "text": [
      "/map_to_tables_154.json.gz\n"
     ]
    },
    {
     "name": "stderr",
     "output_type": "stream",
     "text": [
      "\r",
      " 51% (184 of 359) |###########           | Elapsed Time: 0:01:12 ETA:   0:01:17"
     ]
    },
    {
     "name": "stdout",
     "output_type": "stream",
     "text": [
      "/map_to_tables_324.json.gz\n"
     ]
    },
    {
     "name": "stderr",
     "output_type": "stream",
     "text": [
      "\r",
      " 51% (185 of 359) |###########           | Elapsed Time: 0:01:13 ETA:   0:01:31"
     ]
    },
    {
     "name": "stdout",
     "output_type": "stream",
     "text": [
      "/map_to_tables_210.json.gz\n"
     ]
    },
    {
     "name": "stderr",
     "output_type": "stream",
     "text": [
      "\r",
      " 51% (186 of 359) |###########           | Elapsed Time: 0:01:13 ETA:   0:01:31"
     ]
    },
    {
     "name": "stdout",
     "output_type": "stream",
     "text": [
      "/map_to_tables_65.json.gz\n"
     ]
    },
    {
     "name": "stderr",
     "output_type": "stream",
     "text": [
      "\r",
      " 52% (187 of 359) |###########           | Elapsed Time: 0:01:14 ETA:   0:01:30"
     ]
    },
    {
     "name": "stdout",
     "output_type": "stream",
     "text": [
      "/map_to_tables_17.json.gz\n"
     ]
    },
    {
     "name": "stderr",
     "output_type": "stream",
     "text": [
      "\r",
      " 52% (188 of 359) |###########           | Elapsed Time: 0:01:14 ETA:   0:01:22"
     ]
    },
    {
     "name": "stdout",
     "output_type": "stream",
     "text": [
      "/map_to_tables_220.json.gz\n"
     ]
    },
    {
     "name": "stderr",
     "output_type": "stream",
     "text": [
      "\r",
      " 52% (189 of 359) |###########           | Elapsed Time: 0:01:14 ETA:   0:01:20"
     ]
    },
    {
     "name": "stdout",
     "output_type": "stream",
     "text": [
      "/map_to_tables_119.json.gz\n"
     ]
    },
    {
     "name": "stderr",
     "output_type": "stream",
     "text": [
      "\r",
      " 52% (190 of 359) |###########           | Elapsed Time: 0:01:15 ETA:   0:01:20"
     ]
    },
    {
     "name": "stdout",
     "output_type": "stream",
     "text": [
      "/map_to_tables_164.json.gz\n"
     ]
    },
    {
     "name": "stderr",
     "output_type": "stream",
     "text": [
      "\r",
      " 53% (191 of 359) |###########           | Elapsed Time: 0:01:15 ETA:   0:01:11"
     ]
    },
    {
     "name": "stdout",
     "output_type": "stream",
     "text": [
      "/map_to_tables_48.json.gz\n"
     ]
    },
    {
     "name": "stderr",
     "output_type": "stream",
     "text": [
      "\r",
      " 53% (192 of 359) |###########           | Elapsed Time: 0:01:16 ETA:   0:01:07"
     ]
    },
    {
     "name": "stdout",
     "output_type": "stream",
     "text": [
      "/map_to_tables_112.json.gz\n"
     ]
    },
    {
     "name": "stderr",
     "output_type": "stream",
     "text": [
      "\r",
      " 53% (193 of 359) |###########           | Elapsed Time: 0:01:16 ETA:   0:01:10"
     ]
    },
    {
     "name": "stdout",
     "output_type": "stream",
     "text": [
      "/map_to_tables_339.json.gz\n"
     ]
    },
    {
     "name": "stderr",
     "output_type": "stream",
     "text": [
      "\r",
      " 54% (194 of 359) |###########           | Elapsed Time: 0:01:16 ETA:   0:01:06"
     ]
    },
    {
     "name": "stdout",
     "output_type": "stream",
     "text": [
      "/map_to_tables_327.json.gz\n"
     ]
    },
    {
     "name": "stderr",
     "output_type": "stream",
     "text": [
      "\r",
      " 54% (195 of 359) |###########           | Elapsed Time: 0:01:17 ETA:   0:01:05"
     ]
    },
    {
     "name": "stdout",
     "output_type": "stream",
     "text": [
      "/map_to_tables_322.json.gz\n"
     ]
    },
    {
     "name": "stderr",
     "output_type": "stream",
     "text": [
      "\r",
      " 54% (196 of 359) |############          | Elapsed Time: 0:01:17 ETA:   0:01:09"
     ]
    },
    {
     "name": "stdout",
     "output_type": "stream",
     "text": [
      "/map_to_tables_353.json.gz\n"
     ]
    },
    {
     "name": "stderr",
     "output_type": "stream",
     "text": [
      "\r",
      " 54% (197 of 359) |############          | Elapsed Time: 0:01:18 ETA:   0:01:09"
     ]
    },
    {
     "name": "stdout",
     "output_type": "stream",
     "text": [
      "/map_to_tables_86.json.gz\n"
     ]
    },
    {
     "name": "stderr",
     "output_type": "stream",
     "text": [
      "\r",
      " 55% (198 of 359) |############          | Elapsed Time: 0:01:18 ETA:   0:01:10"
     ]
    },
    {
     "name": "stdout",
     "output_type": "stream",
     "text": [
      "/map_to_tables_311.json.gz\n"
     ]
    },
    {
     "name": "stderr",
     "output_type": "stream",
     "text": [
      "\r",
      " 55% (199 of 359) |############          | Elapsed Time: 0:01:19 ETA:   0:01:17"
     ]
    },
    {
     "name": "stdout",
     "output_type": "stream",
     "text": [
      "/map_to_tables_304.json.gz\n"
     ]
    },
    {
     "name": "stderr",
     "output_type": "stream",
     "text": [
      "\r",
      " 55% (200 of 359) |############          | Elapsed Time: 0:01:19 ETA:   0:01:16"
     ]
    },
    {
     "name": "stdout",
     "output_type": "stream",
     "text": [
      "/map_to_tables_19.json.gz\n"
     ]
    },
    {
     "name": "stderr",
     "output_type": "stream",
     "text": [
      "\r",
      " 55% (201 of 359) |############          | Elapsed Time: 0:01:20 ETA:   0:01:21"
     ]
    },
    {
     "name": "stdout",
     "output_type": "stream",
     "text": [
      "/map_to_tables_167.json.gz\n"
     ]
    },
    {
     "name": "stderr",
     "output_type": "stream",
     "text": [
      "\r",
      " 56% (202 of 359) |############          | Elapsed Time: 0:01:20 ETA:   0:01:14"
     ]
    },
    {
     "name": "stdout",
     "output_type": "stream",
     "text": [
      "/map_to_tables_66.json.gz\n"
     ]
    },
    {
     "name": "stderr",
     "output_type": "stream",
     "text": [
      "\r",
      " 56% (203 of 359) |############          | Elapsed Time: 0:01:20 ETA:   0:01:06"
     ]
    },
    {
     "name": "stdout",
     "output_type": "stream",
     "text": [
      "/map_to_tables_36.json.gz\n"
     ]
    },
    {
     "name": "stderr",
     "output_type": "stream",
     "text": [
      "\r",
      " 56% (204 of 359) |############          | Elapsed Time: 0:01:21 ETA:   0:01:05"
     ]
    },
    {
     "name": "stdout",
     "output_type": "stream",
     "text": [
      "/map_to_tables_206.json.gz\n"
     ]
    },
    {
     "name": "stderr",
     "output_type": "stream",
     "text": [
      "\r",
      " 57% (205 of 359) |############          | Elapsed Time: 0:01:21 ETA:   0:01:03"
     ]
    },
    {
     "name": "stdout",
     "output_type": "stream",
     "text": [
      "/map_to_tables_346.json.gz\n"
     ]
    },
    {
     "name": "stderr",
     "output_type": "stream",
     "text": [
      "\r",
      " 57% (206 of 359) |############          | Elapsed Time: 0:01:22 ETA:   0:00:58"
     ]
    },
    {
     "name": "stdout",
     "output_type": "stream",
     "text": [
      "/map_to_tables_91.json.gz\n"
     ]
    },
    {
     "name": "stderr",
     "output_type": "stream",
     "text": [
      "\r",
      " 57% (207 of 359) |############          | Elapsed Time: 0:01:22 ETA:   0:00:53"
     ]
    },
    {
     "name": "stdout",
     "output_type": "stream",
     "text": [
      "/map_to_tables_20.json.gz\n"
     ]
    },
    {
     "name": "stderr",
     "output_type": "stream",
     "text": [
      "\r",
      " 57% (208 of 359) |############          | Elapsed Time: 0:01:22 ETA:   0:01:00"
     ]
    },
    {
     "name": "stdout",
     "output_type": "stream",
     "text": [
      "/map_to_tables_222.json.gz\n"
     ]
    },
    {
     "name": "stderr",
     "output_type": "stream",
     "text": [
      "\r",
      " 58% (209 of 359) |############          | Elapsed Time: 0:01:23 ETA:   0:00:57"
     ]
    },
    {
     "name": "stdout",
     "output_type": "stream",
     "text": [
      "/map_to_tables_12.json.gz\n"
     ]
    },
    {
     "name": "stderr",
     "output_type": "stream",
     "text": [
      "\r",
      " 58% (210 of 359) |############          | Elapsed Time: 0:01:23 ETA:   0:00:57"
     ]
    },
    {
     "name": "stdout",
     "output_type": "stream",
     "text": [
      "/map_to_tables_189.json.gz\n"
     ]
    },
    {
     "name": "stderr",
     "output_type": "stream",
     "text": [
      "\r",
      " 58% (211 of 359) |############          | Elapsed Time: 0:01:24 ETA:   0:01:04"
     ]
    },
    {
     "name": "stdout",
     "output_type": "stream",
     "text": [
      "/map_to_tables_315.json.gz\n"
     ]
    },
    {
     "name": "stderr",
     "output_type": "stream",
     "text": [
      "\r",
      " 59% (212 of 359) |############          | Elapsed Time: 0:01:24 ETA:   0:01:09"
     ]
    },
    {
     "name": "stdout",
     "output_type": "stream",
     "text": [
      "/map_to_tables_31.json.gz\n"
     ]
    },
    {
     "name": "stderr",
     "output_type": "stream",
     "text": [
      "\r",
      " 59% (213 of 359) |#############         | Elapsed Time: 0:01:25 ETA:   0:01:03"
     ]
    },
    {
     "name": "stdout",
     "output_type": "stream",
     "text": [
      "/map_to_tables_204.json.gz\n"
     ]
    },
    {
     "name": "stderr",
     "output_type": "stream",
     "text": [
      "\r",
      " 59% (214 of 359) |#############         | Elapsed Time: 0:01:25 ETA:   0:01:02"
     ]
    },
    {
     "name": "stdout",
     "output_type": "stream",
     "text": [
      "/map_to_tables_302.json.gz\n"
     ]
    },
    {
     "name": "stderr",
     "output_type": "stream",
     "text": [
      "\r",
      " 59% (215 of 359) |#############         | Elapsed Time: 0:01:25 ETA:   0:00:58"
     ]
    },
    {
     "name": "stdout",
     "output_type": "stream",
     "text": [
      "/map_to_tables_3.json.gz\n"
     ]
    },
    {
     "name": "stderr",
     "output_type": "stream",
     "text": [
      "\r",
      " 60% (216 of 359) |#############         | Elapsed Time: 0:01:26 ETA:   0:00:58"
     ]
    },
    {
     "name": "stdout",
     "output_type": "stream",
     "text": [
      "/map_to_tables_243.json.gz\n"
     ]
    },
    {
     "name": "stderr",
     "output_type": "stream",
     "text": [
      "\r",
      " 60% (217 of 359) |#############         | Elapsed Time: 0:01:26 ETA:   0:00:52"
     ]
    },
    {
     "name": "stdout",
     "output_type": "stream",
     "text": [
      "/map_to_tables_358.json.gz\n"
     ]
    },
    {
     "name": "stderr",
     "output_type": "stream",
     "text": [
      "\r",
      " 60% (218 of 359) |#############         | Elapsed Time: 0:01:26 ETA:   0:00:51"
     ]
    },
    {
     "name": "stdout",
     "output_type": "stream",
     "text": [
      "/map_to_tables_281.json.gz\n"
     ]
    },
    {
     "name": "stderr",
     "output_type": "stream",
     "text": [
      "\r",
      " 61% (219 of 359) |#############         | Elapsed Time: 0:01:27 ETA:   0:00:51"
     ]
    },
    {
     "name": "stdout",
     "output_type": "stream",
     "text": [
      "/map_to_tables_22.json.gz\n"
     ]
    },
    {
     "name": "stderr",
     "output_type": "stream",
     "text": [
      "\r",
      " 61% (220 of 359) |#############         | Elapsed Time: 0:01:27 ETA:   0:00:59"
     ]
    },
    {
     "name": "stdout",
     "output_type": "stream",
     "text": [
      "/map_to_tables_228.json.gz\n"
     ]
    },
    {
     "name": "stderr",
     "output_type": "stream",
     "text": [
      "\r",
      " 61% (221 of 359) |#############         | Elapsed Time: 0:01:28 ETA:   0:00:58"
     ]
    },
    {
     "name": "stdout",
     "output_type": "stream",
     "text": [
      "/map_to_tables_111.json.gz\n"
     ]
    },
    {
     "name": "stderr",
     "output_type": "stream",
     "text": [
      "\r",
      " 61% (222 of 359) |#############         | Elapsed Time: 0:01:28 ETA:   0:00:59"
     ]
    },
    {
     "name": "stdout",
     "output_type": "stream",
     "text": [
      "/map_to_tables_57.json.gz\n"
     ]
    },
    {
     "name": "stderr",
     "output_type": "stream",
     "text": [
      "\r",
      " 62% (223 of 359) |#############         | Elapsed Time: 0:01:28 ETA:   0:00:55"
     ]
    },
    {
     "name": "stdout",
     "output_type": "stream",
     "text": [
      "/map_to_tables_84.json.gz\n"
     ]
    },
    {
     "name": "stderr",
     "output_type": "stream",
     "text": [
      "\r",
      " 62% (224 of 359) |#############         | Elapsed Time: 0:01:29 ETA:   0:00:50"
     ]
    },
    {
     "name": "stdout",
     "output_type": "stream",
     "text": [
      "/map_to_tables_50.json.gz\n"
     ]
    },
    {
     "name": "stderr",
     "output_type": "stream",
     "text": [
      "\r",
      " 62% (225 of 359) |#############         | Elapsed Time: 0:01:29 ETA:   0:00:49"
     ]
    },
    {
     "name": "stdout",
     "output_type": "stream",
     "text": [
      "/map_to_tables_338.json.gz\n"
     ]
    },
    {
     "name": "stderr",
     "output_type": "stream",
     "text": [
      "\r",
      " 62% (226 of 359) |#############         | Elapsed Time: 0:01:29 ETA:   0:00:49"
     ]
    },
    {
     "name": "stdout",
     "output_type": "stream",
     "text": [
      "/map_to_tables_266.json.gz\n"
     ]
    },
    {
     "name": "stderr",
     "output_type": "stream",
     "text": [
      "\r",
      " 63% (227 of 359) |#############         | Elapsed Time: 0:01:30 ETA:   0:00:45"
     ]
    },
    {
     "name": "stdout",
     "output_type": "stream",
     "text": [
      "/map_to_tables_205.json.gz\n"
     ]
    },
    {
     "name": "stderr",
     "output_type": "stream",
     "text": [
      "\r",
      " 63% (228 of 359) |#############         | Elapsed Time: 0:01:30 ETA:   0:00:53"
     ]
    },
    {
     "name": "stdout",
     "output_type": "stream",
     "text": [
      "/map_to_tables_90.json.gz\n"
     ]
    },
    {
     "name": "stderr",
     "output_type": "stream",
     "text": [
      "\r",
      " 63% (229 of 359) |##############        | Elapsed Time: 0:01:31 ETA:   0:00:58"
     ]
    },
    {
     "name": "stdout",
     "output_type": "stream",
     "text": [
      "/map_to_tables_10.json.gz\n"
     ]
    },
    {
     "name": "stderr",
     "output_type": "stream",
     "text": [
      "\r",
      " 64% (230 of 359) |##############        | Elapsed Time: 0:01:31 ETA:   0:00:57"
     ]
    },
    {
     "name": "stdout",
     "output_type": "stream",
     "text": [
      "/map_to_tables_23.json.gz\n"
     ]
    },
    {
     "name": "stderr",
     "output_type": "stream",
     "text": [
      "\r",
      " 64% (231 of 359) |##############        | Elapsed Time: 0:01:32 ETA:   0:00:56"
     ]
    },
    {
     "name": "stdout",
     "output_type": "stream",
     "text": [
      "/map_to_tables_39.json.gz\n"
     ]
    },
    {
     "name": "stderr",
     "output_type": "stream",
     "text": [
      "\r",
      " 64% (232 of 359) |##############        | Elapsed Time: 0:01:32 ETA:   0:01:01"
     ]
    },
    {
     "name": "stdout",
     "output_type": "stream",
     "text": [
      "/map_to_tables_234.json.gz\n"
     ]
    },
    {
     "name": "stderr",
     "output_type": "stream",
     "text": [
      "\r",
      " 64% (233 of 359) |##############        | Elapsed Time: 0:01:33 ETA:   0:00:59"
     ]
    },
    {
     "name": "stdout",
     "output_type": "stream",
     "text": [
      "/map_to_tables_169.json.gz\n"
     ]
    },
    {
     "name": "stderr",
     "output_type": "stream",
     "text": [
      "\r",
      " 65% (234 of 359) |##############        | Elapsed Time: 0:01:33 ETA:   0:00:53"
     ]
    },
    {
     "name": "stdout",
     "output_type": "stream",
     "text": [
      "/map_to_tables_292.json.gz\n"
     ]
    },
    {
     "name": "stderr",
     "output_type": "stream",
     "text": [
      "\r",
      " 65% (235 of 359) |##############        | Elapsed Time: 0:01:34 ETA:   0:00:58"
     ]
    },
    {
     "name": "stdout",
     "output_type": "stream",
     "text": [
      "/map_to_tables_170.json.gz\n"
     ]
    },
    {
     "name": "stderr",
     "output_type": "stream",
     "text": [
      "\r",
      " 65% (236 of 359) |##############        | Elapsed Time: 0:01:34 ETA:   0:00:53"
     ]
    },
    {
     "name": "stdout",
     "output_type": "stream",
     "text": [
      "/map_to_tables_267.json.gz\n"
     ]
    },
    {
     "name": "stderr",
     "output_type": "stream",
     "text": [
      "\r",
      " 66% (237 of 359) |##############        | Elapsed Time: 0:01:34 ETA:   0:00:50"
     ]
    },
    {
     "name": "stdout",
     "output_type": "stream",
     "text": [
      "/map_to_tables_208.json.gz\n"
     ]
    },
    {
     "name": "stderr",
     "output_type": "stream",
     "text": [
      "\r",
      " 66% (238 of 359) |##############        | Elapsed Time: 0:01:35 ETA:   0:00:49"
     ]
    },
    {
     "name": "stdout",
     "output_type": "stream",
     "text": [
      "/map_to_tables_190.json.gz\n"
     ]
    },
    {
     "name": "stderr",
     "output_type": "stream",
     "text": [
      "\r",
      " 66% (239 of 359) |##############        | Elapsed Time: 0:01:35 ETA:   0:00:45"
     ]
    },
    {
     "name": "stdout",
     "output_type": "stream",
     "text": [
      "/map_to_tables_106.json.gz\n"
     ]
    },
    {
     "name": "stderr",
     "output_type": "stream",
     "text": [
      "\r",
      " 66% (240 of 359) |##############        | Elapsed Time: 0:01:35 ETA:   0:00:44"
     ]
    },
    {
     "name": "stdout",
     "output_type": "stream",
     "text": [
      "/map_to_tables_272.json.gz\n"
     ]
    },
    {
     "name": "stderr",
     "output_type": "stream",
     "text": [
      "\r",
      " 67% (241 of 359) |##############        | Elapsed Time: 0:01:36 ETA:   0:00:40"
     ]
    },
    {
     "name": "stdout",
     "output_type": "stream",
     "text": [
      "/map_to_tables_85.json.gz\n"
     ]
    },
    {
     "name": "stderr",
     "output_type": "stream",
     "text": [
      "\r",
      " 67% (242 of 359) |##############        | Elapsed Time: 0:01:36 ETA:   0:00:39"
     ]
    },
    {
     "name": "stdout",
     "output_type": "stream",
     "text": [
      "/map_to_tables_87.json.gz\n"
     ]
    },
    {
     "name": "stderr",
     "output_type": "stream",
     "text": [
      "\r",
      " 67% (243 of 359) |##############        | Elapsed Time: 0:01:36 ETA:   0:00:39"
     ]
    },
    {
     "name": "stdout",
     "output_type": "stream",
     "text": [
      "/map_to_tables_256.json.gz\n"
     ]
    },
    {
     "name": "stderr",
     "output_type": "stream",
     "text": [
      "\r",
      " 67% (244 of 359) |##############        | Elapsed Time: 0:01:37 ETA:   0:00:38"
     ]
    },
    {
     "name": "stdout",
     "output_type": "stream",
     "text": [
      "/map_to_tables_59.json.gz\n"
     ]
    },
    {
     "name": "stderr",
     "output_type": "stream",
     "text": [
      "\r",
      " 68% (245 of 359) |###############       | Elapsed Time: 0:01:37 ETA:   0:00:38"
     ]
    },
    {
     "name": "stdout",
     "output_type": "stream",
     "text": [
      "/map_to_tables_152.json.gz\n"
     ]
    },
    {
     "name": "stderr",
     "output_type": "stream",
     "text": [
      "\r",
      " 68% (246 of 359) |###############       | Elapsed Time: 0:01:38 ETA:   0:00:42"
     ]
    },
    {
     "name": "stdout",
     "output_type": "stream",
     "text": [
      "/map_to_tables_82.json.gz\n"
     ]
    },
    {
     "name": "stderr",
     "output_type": "stream",
     "text": [
      "\r",
      " 68% (247 of 359) |###############       | Elapsed Time: 0:01:38 ETA:   0:00:42"
     ]
    },
    {
     "name": "stdout",
     "output_type": "stream",
     "text": [
      "/map_to_tables_95.json.gz\n"
     ]
    },
    {
     "name": "stderr",
     "output_type": "stream",
     "text": [
      "\r",
      " 69% (248 of 359) |###############       | Elapsed Time: 0:01:38 ETA:   0:00:42"
     ]
    },
    {
     "name": "stdout",
     "output_type": "stream",
     "text": [
      "/map_to_tables_216.json.gz\n"
     ]
    },
    {
     "name": "stderr",
     "output_type": "stream",
     "text": [
      "\r",
      " 69% (249 of 359) |###############       | Elapsed Time: 0:01:39 ETA:   0:00:48"
     ]
    },
    {
     "name": "stdout",
     "output_type": "stream",
     "text": [
      "/map_to_tables_25.json.gz\n"
     ]
    },
    {
     "name": "stderr",
     "output_type": "stream",
     "text": [
      "\r",
      " 69% (250 of 359) |###############       | Elapsed Time: 0:01:39 ETA:   0:00:45"
     ]
    },
    {
     "name": "stdout",
     "output_type": "stream",
     "text": [
      "/map_to_tables_9.json.gz\n"
     ]
    },
    {
     "name": "stderr",
     "output_type": "stream",
     "text": [
      "\r",
      " 69% (251 of 359) |###############       | Elapsed Time: 0:01:40 ETA:   0:00:44"
     ]
    },
    {
     "name": "stdout",
     "output_type": "stream",
     "text": [
      "/map_to_tables_175.json.gz\n"
     ]
    },
    {
     "name": "stderr",
     "output_type": "stream",
     "text": [
      "\r",
      " 70% (252 of 359) |###############       | Elapsed Time: 0:01:40 ETA:   0:00:46"
     ]
    },
    {
     "name": "stdout",
     "output_type": "stream",
     "text": [
      "/map_to_tables_72.json.gz\n"
     ]
    },
    {
     "name": "stderr",
     "output_type": "stream",
     "text": [
      "\r",
      " 70% (253 of 359) |###############       | Elapsed Time: 0:01:40 ETA:   0:00:46"
     ]
    },
    {
     "name": "stdout",
     "output_type": "stream",
     "text": [
      "/map_to_tables_63.json.gz\n"
     ]
    },
    {
     "name": "stderr",
     "output_type": "stream",
     "text": [
      "\r",
      " 70% (254 of 359) |###############       | Elapsed Time: 0:01:41 ETA:   0:00:43"
     ]
    },
    {
     "name": "stdout",
     "output_type": "stream",
     "text": [
      "/map_to_tables_274.json.gz\n"
     ]
    },
    {
     "name": "stderr",
     "output_type": "stream",
     "text": [
      "\r",
      " 71% (255 of 359) |###############       | Elapsed Time: 0:01:41 ETA:   0:00:43"
     ]
    },
    {
     "name": "stdout",
     "output_type": "stream",
     "text": [
      "/map_to_tables_97.json.gz\n"
     ]
    },
    {
     "name": "stderr",
     "output_type": "stream",
     "text": [
      "\r",
      " 71% (256 of 359) |###############       | Elapsed Time: 0:01:42 ETA:   0:00:42"
     ]
    },
    {
     "name": "stdout",
     "output_type": "stream",
     "text": [
      "/map_to_tables_7.json.gz\n"
     ]
    },
    {
     "name": "stderr",
     "output_type": "stream",
     "text": [
      "\r",
      " 71% (257 of 359) |###############       | Elapsed Time: 0:01:42 ETA:   0:00:40"
     ]
    },
    {
     "name": "stdout",
     "output_type": "stream",
     "text": [
      "/map_to_tables_140.json.gz\n"
     ]
    },
    {
     "name": "stderr",
     "output_type": "stream",
     "text": [
      "\r",
      " 71% (258 of 359) |###############       | Elapsed Time: 0:01:42 ETA:   0:00:36"
     ]
    },
    {
     "name": "stdout",
     "output_type": "stream",
     "text": [
      "/map_to_tables_146.json.gz\n"
     ]
    },
    {
     "name": "stderr",
     "output_type": "stream",
     "text": [
      "\r",
      " 72% (259 of 359) |###############       | Elapsed Time: 0:01:43 ETA:   0:00:36"
     ]
    },
    {
     "name": "stdout",
     "output_type": "stream",
     "text": [
      "/map_to_tables_185.json.gz\n"
     ]
    },
    {
     "name": "stderr",
     "output_type": "stream",
     "text": [
      "\r",
      " 72% (260 of 359) |###############       | Elapsed Time: 0:01:43 ETA:   0:00:40"
     ]
    },
    {
     "name": "stdout",
     "output_type": "stream",
     "text": [
      "/map_to_tables_280.json.gz\n"
     ]
    },
    {
     "name": "stderr",
     "output_type": "stream",
     "text": [
      "\r",
      " 72% (261 of 359) |###############       | Elapsed Time: 0:01:44 ETA:   0:00:40"
     ]
    },
    {
     "name": "stdout",
     "output_type": "stream",
     "text": [
      "/map_to_tables_227.json.gz\n"
     ]
    },
    {
     "name": "stderr",
     "output_type": "stream",
     "text": [
      "\r",
      " 72% (262 of 359) |################      | Elapsed Time: 0:01:44 ETA:   0:00:42"
     ]
    },
    {
     "name": "stdout",
     "output_type": "stream",
     "text": [
      "/map_to_tables_329.json.gz\n"
     ]
    },
    {
     "name": "stderr",
     "output_type": "stream",
     "text": [
      "\r",
      " 73% (263 of 359) |################      | Elapsed Time: 0:01:45 ETA:   0:00:50"
     ]
    },
    {
     "name": "stdout",
     "output_type": "stream",
     "text": [
      "/map_to_tables_32.json.gz\n"
     ]
    },
    {
     "name": "stderr",
     "output_type": "stream",
     "text": [
      "\r",
      " 73% (264 of 359) |################      | Elapsed Time: 0:01:45 ETA:   0:00:45"
     ]
    },
    {
     "name": "stdout",
     "output_type": "stream",
     "text": [
      "/map_to_tables_357.json.gz\n"
     ]
    },
    {
     "name": "stderr",
     "output_type": "stream",
     "text": [
      "\r",
      " 73% (265 of 359) |################      | Elapsed Time: 0:01:45 ETA:   0:00:40"
     ]
    },
    {
     "name": "stdout",
     "output_type": "stream",
     "text": [
      "/map_to_tables_262.json.gz\n"
     ]
    },
    {
     "name": "stderr",
     "output_type": "stream",
     "text": [
      "\r",
      " 74% (266 of 359) |################      | Elapsed Time: 0:01:46 ETA:   0:00:40"
     ]
    },
    {
     "name": "stdout",
     "output_type": "stream",
     "text": [
      "/map_to_tables_142.json.gz\n"
     ]
    },
    {
     "name": "stderr",
     "output_type": "stream",
     "text": [
      "\r",
      " 74% (267 of 359) |################      | Elapsed Time: 0:01:46 ETA:   0:00:37"
     ]
    },
    {
     "name": "stdout",
     "output_type": "stream",
     "text": [
      "/map_to_tables_299.json.gz\n"
     ]
    },
    {
     "name": "stderr",
     "output_type": "stream",
     "text": [
      "\r",
      " 74% (268 of 359) |################      | Elapsed Time: 0:01:46 ETA:   0:00:34"
     ]
    },
    {
     "name": "stdout",
     "output_type": "stream",
     "text": [
      "/map_to_tables_276.json.gz\n"
     ]
    },
    {
     "name": "stderr",
     "output_type": "stream",
     "text": [
      "\r",
      " 74% (269 of 359) |################      | Elapsed Time: 0:01:47 ETA:   0:00:30"
     ]
    },
    {
     "name": "stdout",
     "output_type": "stream",
     "text": [
      "/map_to_tables_1.json.gz\n"
     ]
    },
    {
     "name": "stderr",
     "output_type": "stream",
     "text": [
      "\r",
      " 75% (270 of 359) |################      | Elapsed Time: 0:01:47 ETA:   0:00:30"
     ]
    },
    {
     "name": "stdout",
     "output_type": "stream",
     "text": [
      "/map_to_tables_110.json.gz\n"
     ]
    },
    {
     "name": "stderr",
     "output_type": "stream",
     "text": [
      "\r",
      " 75% (271 of 359) |################      | Elapsed Time: 0:01:47 ETA:   0:00:30"
     ]
    },
    {
     "name": "stdout",
     "output_type": "stream",
     "text": [
      "/map_to_tables_37.json.gz\n"
     ]
    },
    {
     "name": "stderr",
     "output_type": "stream",
     "text": [
      "\r",
      " 75% (272 of 359) |################      | Elapsed Time: 0:01:48 ETA:   0:00:29"
     ]
    },
    {
     "name": "stdout",
     "output_type": "stream",
     "text": [
      "/map_to_tables_328.json.gz\n"
     ]
    },
    {
     "name": "stderr",
     "output_type": "stream",
     "text": [
      "\r",
      " 76% (273 of 359) |################      | Elapsed Time: 0:01:48 ETA:   0:00:29"
     ]
    },
    {
     "name": "stdout",
     "output_type": "stream",
     "text": [
      "/map_to_tables_196.json.gz\n"
     ]
    },
    {
     "name": "stderr",
     "output_type": "stream",
     "text": [
      "\r",
      " 76% (274 of 359) |################      | Elapsed Time: 0:01:48 ETA:   0:00:29"
     ]
    },
    {
     "name": "stdout",
     "output_type": "stream",
     "text": [
      "/map_to_tables_40.json.gz\n"
     ]
    },
    {
     "name": "stderr",
     "output_type": "stream",
     "text": [
      "\r",
      " 76% (275 of 359) |################      | Elapsed Time: 0:01:49 ETA:   0:00:31"
     ]
    },
    {
     "name": "stdout",
     "output_type": "stream",
     "text": [
      "/map_to_tables_29.json.gz\n"
     ]
    },
    {
     "name": "stderr",
     "output_type": "stream",
     "text": [
      "\r",
      " 76% (276 of 359) |################      | Elapsed Time: 0:01:49 ETA:   0:00:36"
     ]
    },
    {
     "name": "stdout",
     "output_type": "stream",
     "text": [
      "/map_to_tables_215.json.gz\n"
     ]
    },
    {
     "name": "stderr",
     "output_type": "stream",
     "text": [
      "\r",
      " 77% (277 of 359) |################      | Elapsed Time: 0:01:50 ETA:   0:00:39"
     ]
    },
    {
     "name": "stdout",
     "output_type": "stream",
     "text": [
      "/map_to_tables_116.json.gz\n"
     ]
    },
    {
     "name": "stderr",
     "output_type": "stream",
     "text": [
      "\r",
      " 77% (278 of 359) |#################     | Elapsed Time: 0:01:51 ETA:   0:00:42"
     ]
    },
    {
     "name": "stdout",
     "output_type": "stream",
     "text": [
      "/map_to_tables_250.json.gz\n"
     ]
    },
    {
     "name": "stderr",
     "output_type": "stream",
     "text": [
      "\r",
      " 77% (279 of 359) |#################     | Elapsed Time: 0:01:51 ETA:   0:00:41"
     ]
    },
    {
     "name": "stdout",
     "output_type": "stream",
     "text": [
      "/map_to_tables_249.json.gz\n"
     ]
    },
    {
     "name": "stderr",
     "output_type": "stream",
     "text": [
      "\r",
      " 77% (280 of 359) |#################     | Elapsed Time: 0:01:51 ETA:   0:00:39"
     ]
    },
    {
     "name": "stdout",
     "output_type": "stream",
     "text": [
      "/map_to_tables_157.json.gz\n"
     ]
    },
    {
     "name": "stderr",
     "output_type": "stream",
     "text": [
      "\r",
      " 78% (281 of 359) |#################     | Elapsed Time: 0:01:52 ETA:   0:00:35"
     ]
    },
    {
     "name": "stdout",
     "output_type": "stream",
     "text": [
      "/map_to_tables_45.json.gz\n"
     ]
    },
    {
     "name": "stderr",
     "output_type": "stream",
     "text": [
      "\r",
      " 78% (282 of 359) |#################     | Elapsed Time: 0:01:52 ETA:   0:00:34"
     ]
    },
    {
     "name": "stdout",
     "output_type": "stream",
     "text": [
      "/map_to_tables_231.json.gz\n"
     ]
    },
    {
     "name": "stderr",
     "output_type": "stream",
     "text": [
      "\r",
      " 78% (283 of 359) |#################     | Elapsed Time: 0:01:53 ETA:   0:00:31"
     ]
    },
    {
     "name": "stdout",
     "output_type": "stream",
     "text": [
      "/map_to_tables_235.json.gz\n"
     ]
    },
    {
     "name": "stderr",
     "output_type": "stream",
     "text": [
      "\r",
      " 79% (284 of 359) |#################     | Elapsed Time: 0:01:53 ETA:   0:00:29"
     ]
    },
    {
     "name": "stdout",
     "output_type": "stream",
     "text": [
      "/map_to_tables_331.json.gz\n"
     ]
    },
    {
     "name": "stderr",
     "output_type": "stream",
     "text": [
      "\r",
      " 79% (285 of 359) |#################     | Elapsed Time: 0:01:53 ETA:   0:00:29"
     ]
    },
    {
     "name": "stdout",
     "output_type": "stream",
     "text": [
      "/map_to_tables_6.json.gz\n"
     ]
    },
    {
     "name": "stderr",
     "output_type": "stream",
     "text": [
      "\r",
      " 79% (286 of 359) |#################     | Elapsed Time: 0:01:54 ETA:   0:00:31"
     ]
    },
    {
     "name": "stdout",
     "output_type": "stream",
     "text": [
      "/map_to_tables_78.json.gz\n"
     ]
    },
    {
     "name": "stderr",
     "output_type": "stream",
     "text": [
      "\r",
      " 79% (287 of 359) |#################     | Elapsed Time: 0:01:54 ETA:   0:00:29"
     ]
    },
    {
     "name": "stdout",
     "output_type": "stream",
     "text": [
      "/map_to_tables_305.json.gz\n"
     ]
    },
    {
     "name": "stderr",
     "output_type": "stream",
     "text": [
      "\r",
      " 80% (288 of 359) |#################     | Elapsed Time: 0:01:55 ETA:   0:00:26"
     ]
    },
    {
     "name": "stdout",
     "output_type": "stream",
     "text": [
      "/map_to_tables_356.json.gz\n"
     ]
    },
    {
     "name": "stderr",
     "output_type": "stream",
     "text": [
      "\r",
      " 80% (289 of 359) |#################     | Elapsed Time: 0:01:55 ETA:   0:00:26"
     ]
    },
    {
     "name": "stdout",
     "output_type": "stream",
     "text": [
      "/map_to_tables_177.json.gz\n"
     ]
    },
    {
     "name": "stderr",
     "output_type": "stream",
     "text": [
      "\r",
      " 80% (290 of 359) |#################     | Elapsed Time: 0:01:55 ETA:   0:00:25"
     ]
    },
    {
     "name": "stdout",
     "output_type": "stream",
     "text": [
      "/map_to_tables_294.json.gz\n"
     ]
    },
    {
     "name": "stderr",
     "output_type": "stream",
     "text": [
      "\r",
      " 81% (291 of 359) |#################     | Elapsed Time: 0:01:55 ETA:   0:00:23"
     ]
    },
    {
     "name": "stdout",
     "output_type": "stream",
     "text": [
      "/map_to_tables_209.json.gz\n"
     ]
    },
    {
     "name": "stderr",
     "output_type": "stream",
     "text": [
      "\r",
      " 81% (292 of 359) |#################     | Elapsed Time: 0:01:56 ETA:   0:00:22"
     ]
    },
    {
     "name": "stdout",
     "output_type": "stream",
     "text": [
      "/map_to_tables_264.json.gz\n"
     ]
    },
    {
     "name": "stderr",
     "output_type": "stream",
     "text": [
      "\r",
      " 81% (293 of 359) |#################     | Elapsed Time: 0:01:56 ETA:   0:00:22"
     ]
    },
    {
     "name": "stdout",
     "output_type": "stream",
     "text": [
      "/map_to_tables_296.json.gz\n"
     ]
    },
    {
     "name": "stderr",
     "output_type": "stream",
     "text": [
      "\r",
      " 81% (294 of 359) |##################    | Elapsed Time: 0:01:57 ETA:   0:00:24"
     ]
    },
    {
     "name": "stdout",
     "output_type": "stream",
     "text": [
      "/map_to_tables_115.json.gz\n"
     ]
    },
    {
     "name": "stderr",
     "output_type": "stream",
     "text": [
      "\r",
      " 82% (295 of 359) |##################    | Elapsed Time: 0:01:57 ETA:   0:00:23"
     ]
    },
    {
     "name": "stdout",
     "output_type": "stream",
     "text": [
      "/map_to_tables_312.json.gz\n"
     ]
    },
    {
     "name": "stderr",
     "output_type": "stream",
     "text": [
      "\r",
      " 82% (296 of 359) |##################    | Elapsed Time: 0:01:57 ETA:   0:00:23"
     ]
    },
    {
     "name": "stdout",
     "output_type": "stream",
     "text": [
      "/map_to_tables_253.json.gz\n"
     ]
    },
    {
     "name": "stderr",
     "output_type": "stream",
     "text": [
      "\r",
      " 82% (297 of 359) |##################    | Elapsed Time: 0:01:58 ETA:   0:00:23"
     ]
    },
    {
     "name": "stdout",
     "output_type": "stream",
     "text": [
      "/map_to_tables_300.json.gz\n"
     ]
    },
    {
     "name": "stderr",
     "output_type": "stream",
     "text": [
      "\r",
      " 83% (298 of 359) |##################    | Elapsed Time: 0:01:58 ETA:   0:00:21"
     ]
    },
    {
     "name": "stdout",
     "output_type": "stream",
     "text": [
      "/map_to_tables_171.json.gz\n"
     ]
    },
    {
     "name": "stderr",
     "output_type": "stream",
     "text": [
      "\r",
      " 83% (299 of 359) |##################    | Elapsed Time: 0:01:59 ETA:   0:00:22"
     ]
    },
    {
     "name": "stdout",
     "output_type": "stream",
     "text": [
      "/map_to_tables_73.json.gz\n"
     ]
    },
    {
     "name": "stderr",
     "output_type": "stream",
     "text": [
      "\r",
      " 83% (300 of 359) |##################    | Elapsed Time: 0:01:59 ETA:   0:00:23"
     ]
    },
    {
     "name": "stdout",
     "output_type": "stream",
     "text": [
      "/map_to_tables_344.json.gz\n"
     ]
    },
    {
     "name": "stderr",
     "output_type": "stream",
     "text": [
      "\r",
      " 83% (301 of 359) |##################    | Elapsed Time: 0:02:00 ETA:   0:00:26"
     ]
    },
    {
     "name": "stdout",
     "output_type": "stream",
     "text": [
      "/map_to_tables_224.json.gz\n"
     ]
    },
    {
     "name": "stderr",
     "output_type": "stream",
     "text": [
      "\r",
      " 84% (302 of 359) |##################    | Elapsed Time: 0:02:00 ETA:   0:00:25"
     ]
    },
    {
     "name": "stdout",
     "output_type": "stream",
     "text": [
      "/map_to_tables_131.json.gz\n"
     ]
    },
    {
     "name": "stderr",
     "output_type": "stream",
     "text": [
      "\r",
      " 84% (303 of 359) |##################    | Elapsed Time: 0:02:00 ETA:   0:00:25"
     ]
    },
    {
     "name": "stdout",
     "output_type": "stream",
     "text": [
      "/map_to_tables_348.json.gz\n"
     ]
    },
    {
     "name": "stderr",
     "output_type": "stream",
     "text": [
      "\r",
      " 84% (304 of 359) |##################    | Elapsed Time: 0:02:01 ETA:   0:00:24"
     ]
    },
    {
     "name": "stdout",
     "output_type": "stream",
     "text": [
      "/map_to_tables_293.json.gz\n"
     ]
    },
    {
     "name": "stderr",
     "output_type": "stream",
     "text": [
      "\r",
      " 84% (305 of 359) |##################    | Elapsed Time: 0:02:01 ETA:   0:00:24"
     ]
    },
    {
     "name": "stdout",
     "output_type": "stream",
     "text": [
      "/map_to_tables_251.json.gz\n"
     ]
    },
    {
     "name": "stderr",
     "output_type": "stream",
     "text": [
      "\r",
      " 85% (306 of 359) |##################    | Elapsed Time: 0:02:02 ETA:   0:00:23"
     ]
    },
    {
     "name": "stdout",
     "output_type": "stream",
     "text": [
      "/map_to_tables_46.json.gz\n"
     ]
    },
    {
     "name": "stderr",
     "output_type": "stream",
     "text": [
      "\r",
      " 85% (307 of 359) |##################    | Elapsed Time: 0:02:02 ETA:   0:00:27"
     ]
    },
    {
     "name": "stdout",
     "output_type": "stream",
     "text": [
      "/map_to_tables_126.json.gz\n"
     ]
    },
    {
     "name": "stderr",
     "output_type": "stream",
     "text": [
      "\r",
      " 85% (308 of 359) |##################    | Elapsed Time: 0:02:03 ETA:   0:00:24"
     ]
    },
    {
     "name": "stdout",
     "output_type": "stream",
     "text": [
      "/map_to_tables_349.json.gz\n"
     ]
    },
    {
     "name": "stderr",
     "output_type": "stream",
     "text": [
      "\r",
      " 86% (309 of 359) |##################    | Elapsed Time: 0:02:03 ETA:   0:00:24"
     ]
    },
    {
     "name": "stdout",
     "output_type": "stream",
     "text": [
      "/map_to_tables_2.json.gz\n"
     ]
    },
    {
     "name": "stderr",
     "output_type": "stream",
     "text": [
      "\r",
      " 86% (310 of 359) |##################    | Elapsed Time: 0:02:04 ETA:   0:00:21"
     ]
    },
    {
     "name": "stdout",
     "output_type": "stream",
     "text": [
      "/map_to_tables_333.json.gz\n"
     ]
    },
    {
     "name": "stderr",
     "output_type": "stream",
     "text": [
      "\r",
      " 86% (311 of 359) |###################   | Elapsed Time: 0:02:04 ETA:   0:00:19"
     ]
    },
    {
     "name": "stdout",
     "output_type": "stream",
     "text": [
      "/map_to_tables_265.json.gz\n"
     ]
    },
    {
     "name": "stderr",
     "output_type": "stream",
     "text": [
      "\r",
      " 86% (312 of 359) |###################   | Elapsed Time: 0:02:04 ETA:   0:00:19"
     ]
    },
    {
     "name": "stdout",
     "output_type": "stream",
     "text": [
      "/map_to_tables_283.json.gz\n"
     ]
    },
    {
     "name": "stderr",
     "output_type": "stream",
     "text": [
      "\r",
      " 87% (313 of 359) |###################   | Elapsed Time: 0:02:05 ETA:   0:00:20"
     ]
    },
    {
     "name": "stdout",
     "output_type": "stream",
     "text": [
      "/map_to_tables_198.json.gz\n"
     ]
    },
    {
     "name": "stderr",
     "output_type": "stream",
     "text": [
      "\r",
      " 87% (314 of 359) |###################   | Elapsed Time: 0:02:05 ETA:   0:00:19"
     ]
    },
    {
     "name": "stdout",
     "output_type": "stream",
     "text": [
      "/map_to_tables_30.json.gz\n"
     ]
    },
    {
     "name": "stderr",
     "output_type": "stream",
     "text": [
      "\r",
      " 87% (315 of 359) |###################   | Elapsed Time: 0:02:06 ETA:   0:00:23"
     ]
    },
    {
     "name": "stdout",
     "output_type": "stream",
     "text": [
      "/map_to_tables_268.json.gz\n"
     ]
    },
    {
     "name": "stderr",
     "output_type": "stream",
     "text": [
      "\r",
      " 88% (316 of 359) |###################   | Elapsed Time: 0:02:06 ETA:   0:00:22"
     ]
    },
    {
     "name": "stdout",
     "output_type": "stream",
     "text": [
      "/map_to_tables_52.json.gz\n"
     ]
    },
    {
     "name": "stderr",
     "output_type": "stream",
     "text": [
      "\r",
      " 88% (317 of 359) |###################   | Elapsed Time: 0:02:07 ETA:   0:00:20"
     ]
    },
    {
     "name": "stdout",
     "output_type": "stream",
     "text": [
      "/map_to_tables_354.json.gz\n"
     ]
    },
    {
     "name": "stderr",
     "output_type": "stream",
     "text": [
      "\r",
      " 88% (318 of 359) |###################   | Elapsed Time: 0:02:07 ETA:   0:00:17"
     ]
    },
    {
     "name": "stdout",
     "output_type": "stream",
     "text": [
      "/map_to_tables_201.json.gz\n"
     ]
    },
    {
     "name": "stderr",
     "output_type": "stream",
     "text": [
      "\r",
      " 88% (319 of 359) |###################   | Elapsed Time: 0:02:08 ETA:   0:00:17"
     ]
    },
    {
     "name": "stdout",
     "output_type": "stream",
     "text": [
      "/map_to_tables_61.json.gz\n"
     ]
    },
    {
     "name": "stderr",
     "output_type": "stream",
     "text": [
      "\r",
      " 89% (320 of 359) |###################   | Elapsed Time: 0:02:08 ETA:   0:00:16"
     ]
    },
    {
     "name": "stdout",
     "output_type": "stream",
     "text": [
      "/map_to_tables_99.json.gz\n"
     ]
    },
    {
     "name": "stderr",
     "output_type": "stream",
     "text": [
      "\r",
      " 89% (321 of 359) |###################   | Elapsed Time: 0:02:08 ETA:   0:00:15"
     ]
    },
    {
     "name": "stdout",
     "output_type": "stream",
     "text": [
      "/map_to_tables_68.json.gz\n"
     ]
    },
    {
     "name": "stderr",
     "output_type": "stream",
     "text": [
      "\r",
      " 89% (322 of 359) |###################   | Elapsed Time: 0:02:09 ETA:   0:00:16"
     ]
    },
    {
     "name": "stdout",
     "output_type": "stream",
     "text": [
      "/map_to_tables_120.json.gz\n"
     ]
    },
    {
     "name": "stderr",
     "output_type": "stream",
     "text": [
      "\r",
      " 89% (323 of 359) |###################   | Elapsed Time: 0:02:09 ETA:   0:00:17"
     ]
    },
    {
     "name": "stdout",
     "output_type": "stream",
     "text": [
      "/map_to_tables_295.json.gz\n"
     ]
    },
    {
     "name": "stderr",
     "output_type": "stream",
     "text": [
      "\r",
      " 90% (324 of 359) |###################   | Elapsed Time: 0:02:10 ETA:   0:00:15"
     ]
    },
    {
     "name": "stdout",
     "output_type": "stream",
     "text": [
      "/map_to_tables_335.json.gz\n"
     ]
    },
    {
     "name": "stderr",
     "output_type": "stream",
     "text": [
      "\r",
      " 90% (325 of 359) |###################   | Elapsed Time: 0:02:10 ETA:   0:00:15"
     ]
    },
    {
     "name": "stdout",
     "output_type": "stream",
     "text": [
      "/map_to_tables_42.json.gz\n"
     ]
    },
    {
     "name": "stderr",
     "output_type": "stream",
     "text": [
      "\r",
      " 90% (326 of 359) |###################   | Elapsed Time: 0:02:11 ETA:   0:00:13"
     ]
    },
    {
     "name": "stdout",
     "output_type": "stream",
     "text": [
      "/map_to_tables_179.json.gz\n"
     ]
    },
    {
     "name": "stderr",
     "output_type": "stream",
     "text": [
      "\r",
      " 91% (327 of 359) |####################  | Elapsed Time: 0:02:11 ETA:   0:00:12"
     ]
    },
    {
     "name": "stdout",
     "output_type": "stream",
     "text": [
      "/map_to_tables_236.json.gz\n"
     ]
    },
    {
     "name": "stderr",
     "output_type": "stream",
     "text": [
      "\r",
      " 91% (328 of 359) |####################  | Elapsed Time: 0:02:11 ETA:   0:00:12"
     ]
    },
    {
     "name": "stdout",
     "output_type": "stream",
     "text": [
      "/map_to_tables_317.json.gz\n"
     ]
    },
    {
     "name": "stderr",
     "output_type": "stream",
     "text": [
      "\r",
      " 91% (329 of 359) |####################  | Elapsed Time: 0:02:12 ETA:   0:00:10"
     ]
    },
    {
     "name": "stdout",
     "output_type": "stream",
     "text": [
      "/map_to_tables_173.json.gz\n"
     ]
    },
    {
     "name": "stderr",
     "output_type": "stream",
     "text": [
      "\r",
      " 91% (330 of 359) |####################  | Elapsed Time: 0:02:12 ETA:   0:00:11"
     ]
    },
    {
     "name": "stdout",
     "output_type": "stream",
     "text": [
      "/map_to_tables_187.json.gz\n"
     ]
    },
    {
     "name": "stderr",
     "output_type": "stream",
     "text": [
      "\r",
      " 92% (331 of 359) |####################  | Elapsed Time: 0:02:13 ETA:   0:00:11"
     ]
    },
    {
     "name": "stdout",
     "output_type": "stream",
     "text": [
      "/map_to_tables_93.json.gz\n"
     ]
    },
    {
     "name": "stderr",
     "output_type": "stream",
     "text": [
      "\r",
      " 92% (332 of 359) |####################  | Elapsed Time: 0:02:13 ETA:   0:00:12"
     ]
    },
    {
     "name": "stdout",
     "output_type": "stream",
     "text": [
      "/map_to_tables_21.json.gz\n"
     ]
    },
    {
     "name": "stderr",
     "output_type": "stream",
     "text": [
      "\r",
      " 92% (333 of 359) |####################  | Elapsed Time: 0:02:13 ETA:   0:00:10"
     ]
    },
    {
     "name": "stdout",
     "output_type": "stream",
     "text": [
      "/map_to_tables_226.json.gz\n"
     ]
    },
    {
     "name": "stderr",
     "output_type": "stream",
     "text": [
      "\r",
      " 93% (334 of 359) |####################  | Elapsed Time: 0:02:14 ETA:   0:00:10"
     ]
    },
    {
     "name": "stdout",
     "output_type": "stream",
     "text": [
      "/map_to_tables_221.json.gz\n"
     ]
    },
    {
     "name": "stderr",
     "output_type": "stream",
     "text": [
      "\r",
      " 93% (335 of 359) |####################  | Elapsed Time: 0:02:14 ETA:   0:00:09"
     ]
    },
    {
     "name": "stdout",
     "output_type": "stream",
     "text": [
      "/map_to_tables_148.json.gz\n"
     ]
    },
    {
     "name": "stderr",
     "output_type": "stream",
     "text": [
      "\r",
      " 93% (336 of 359) |####################  | Elapsed Time: 0:02:14 ETA:   0:00:08"
     ]
    },
    {
     "name": "stdout",
     "output_type": "stream",
     "text": [
      "/map_to_tables_34.json.gz\n"
     ]
    },
    {
     "name": "stderr",
     "output_type": "stream",
     "text": [
      "\r",
      " 93% (337 of 359) |####################  | Elapsed Time: 0:02:15 ETA:   0:00:08"
     ]
    },
    {
     "name": "stdout",
     "output_type": "stream",
     "text": [
      "/map_to_tables_307.json.gz\n"
     ]
    },
    {
     "name": "stderr",
     "output_type": "stream",
     "text": [
      "\r",
      " 94% (338 of 359) |####################  | Elapsed Time: 0:02:15 ETA:   0:00:08"
     ]
    },
    {
     "name": "stdout",
     "output_type": "stream",
     "text": [
      "/map_to_tables_105.json.gz\n"
     ]
    },
    {
     "name": "stderr",
     "output_type": "stream",
     "text": [
      "\r",
      " 94% (339 of 359) |####################  | Elapsed Time: 0:02:16 ETA:   0:00:09"
     ]
    },
    {
     "name": "stdout",
     "output_type": "stream",
     "text": [
      "/map_to_tables_89.json.gz\n"
     ]
    },
    {
     "name": "stderr",
     "output_type": "stream",
     "text": [
      "\r",
      " 94% (340 of 359) |####################  | Elapsed Time: 0:02:16 ETA:   0:00:08"
     ]
    },
    {
     "name": "stdout",
     "output_type": "stream",
     "text": [
      "/map_to_tables_138.json.gz\n"
     ]
    },
    {
     "name": "stderr",
     "output_type": "stream",
     "text": [
      "\r",
      " 94% (341 of 359) |####################  | Elapsed Time: 0:02:17 ETA:   0:00:08"
     ]
    },
    {
     "name": "stdout",
     "output_type": "stream",
     "text": [
      "/map_to_tables_246.json.gz\n"
     ]
    },
    {
     "name": "stderr",
     "output_type": "stream",
     "text": [
      "\r",
      " 95% (342 of 359) |####################  | Elapsed Time: 0:02:17 ETA:   0:00:06"
     ]
    },
    {
     "name": "stdout",
     "output_type": "stream",
     "text": [
      "/map_to_tables_337.json.gz\n"
     ]
    },
    {
     "name": "stderr",
     "output_type": "stream",
     "text": [
      "\r",
      " 95% (343 of 359) |##################### | Elapsed Time: 0:02:17 ETA:   0:00:06"
     ]
    },
    {
     "name": "stdout",
     "output_type": "stream",
     "text": [
      "/map_to_tables_100.json.gz\n"
     ]
    },
    {
     "name": "stderr",
     "output_type": "stream",
     "text": [
      "\r",
      " 95% (344 of 359) |##################### | Elapsed Time: 0:02:18 ETA:   0:00:05"
     ]
    },
    {
     "name": "stdout",
     "output_type": "stream",
     "text": [
      "/map_to_tables_257.json.gz\n"
     ]
    },
    {
     "name": "stderr",
     "output_type": "stream",
     "text": [
      "\r",
      " 96% (345 of 359) |##################### | Elapsed Time: 0:02:18 ETA:   0:00:05"
     ]
    },
    {
     "name": "stdout",
     "output_type": "stream",
     "text": [
      "/map_to_tables_64.json.gz\n"
     ]
    },
    {
     "name": "stderr",
     "output_type": "stream",
     "text": [
      "\r",
      " 96% (346 of 359) |##################### | Elapsed Time: 0:02:19 ETA:   0:00:04"
     ]
    },
    {
     "name": "stdout",
     "output_type": "stream",
     "text": [
      "/map_to_tables_139.json.gz\n"
     ]
    },
    {
     "name": "stderr",
     "output_type": "stream",
     "text": [
      "\r",
      " 96% (347 of 359) |##################### | Elapsed Time: 0:02:19 ETA:   0:00:04"
     ]
    },
    {
     "name": "stdout",
     "output_type": "stream",
     "text": [
      "/map_to_tables_214.json.gz\n"
     ]
    },
    {
     "name": "stderr",
     "output_type": "stream",
     "text": [
      "\r",
      " 96% (348 of 359) |##################### | Elapsed Time: 0:02:19 ETA:   0:00:04"
     ]
    },
    {
     "name": "stdout",
     "output_type": "stream",
     "text": [
      "/map_to_tables_4.json.gz\n"
     ]
    },
    {
     "name": "stderr",
     "output_type": "stream",
     "text": [
      "\r",
      " 97% (349 of 359) |##################### | Elapsed Time: 0:02:20 ETA:   0:00:03"
     ]
    },
    {
     "name": "stdout",
     "output_type": "stream",
     "text": [
      "/map_to_tables_194.json.gz\n"
     ]
    },
    {
     "name": "stderr",
     "output_type": "stream",
     "text": [
      "\r",
      " 97% (350 of 359) |##################### | Elapsed Time: 0:02:20 ETA:   0:00:03"
     ]
    },
    {
     "name": "stdout",
     "output_type": "stream",
     "text": [
      "/map_to_tables_351.json.gz\n"
     ]
    },
    {
     "name": "stderr",
     "output_type": "stream",
     "text": [
      "\r",
      " 97% (351 of 359) |##################### | Elapsed Time: 0:02:20 ETA:   0:00:02"
     ]
    },
    {
     "name": "stdout",
     "output_type": "stream",
     "text": [
      "/map_to_tables_162.json.gz\n"
     ]
    },
    {
     "name": "stderr",
     "output_type": "stream",
     "text": [
      "\r",
      " 98% (352 of 359) |##################### | Elapsed Time: 0:02:21 ETA:   0:00:02"
     ]
    },
    {
     "name": "stdout",
     "output_type": "stream",
     "text": [
      "/map_to_tables_345.json.gz\n"
     ]
    },
    {
     "name": "stderr",
     "output_type": "stream",
     "text": [
      "\r",
      " 98% (353 of 359) |##################### | Elapsed Time: 0:02:21 ETA:   0:00:02"
     ]
    },
    {
     "name": "stdout",
     "output_type": "stream",
     "text": [
      "/map_to_tables_83.json.gz\n"
     ]
    },
    {
     "name": "stderr",
     "output_type": "stream",
     "text": [
      "\r",
      " 98% (354 of 359) |##################### | Elapsed Time: 0:02:21 ETA:   0:00:01"
     ]
    },
    {
     "name": "stdout",
     "output_type": "stream",
     "text": [
      "/map_to_tables_145.json.gz\n"
     ]
    },
    {
     "name": "stderr",
     "output_type": "stream",
     "text": [
      "\r",
      " 98% (355 of 359) |##################### | Elapsed Time: 0:02:22 ETA:   0:00:01"
     ]
    },
    {
     "name": "stdout",
     "output_type": "stream",
     "text": [
      "/map_to_tables_336.json.gz\n"
     ]
    },
    {
     "name": "stderr",
     "output_type": "stream",
     "text": [
      "\r",
      " 99% (356 of 359) |##################### | Elapsed Time: 0:02:22 ETA:   0:00:01"
     ]
    },
    {
     "name": "stdout",
     "output_type": "stream",
     "text": [
      "/map_to_tables_192.json.gz\n"
     ]
    },
    {
     "name": "stderr",
     "output_type": "stream",
     "text": [
      "\r",
      " 99% (357 of 359) |##################### | Elapsed Time: 0:02:23 ETA:   0:00:00"
     ]
    },
    {
     "name": "stdout",
     "output_type": "stream",
     "text": [
      "/map_to_tables_289.json.gz\n"
     ]
    },
    {
     "name": "stderr",
     "output_type": "stream",
     "text": [
      "\r",
      " 99% (358 of 359) |##################### | Elapsed Time: 0:02:23 ETA:   0:00:00"
     ]
    },
    {
     "name": "stdout",
     "output_type": "stream",
     "text": [
      "/map_to_tables_247.json.gz\n"
     ]
    },
    {
     "name": "stderr",
     "output_type": "stream",
     "text": [
      "100% (359 of 359) |######################| Elapsed Time: 0:02:24 Time:  0:02:24\n"
     ]
    }
   ],
   "source": [
    "# use the cleaned tables to append into a series and the get a dataframe from that with the remaining cluster ids\n",
    "count = 0\n",
    "data=[]\n",
    "with progressbar.ProgressBar(max_value=len(zip_files_mapping)) as bar:\n",
    "    for zip_file in zip_files_mapping:\n",
    "        print('/{}'.format(zip_file))\n",
    "        df = pd.read_json(mapping_corpus_path_2 + '/{}'.format(zip_file), compression='gzip', lines=True)\n",
    "        data.append(df)\n",
    "        count += 1\n",
    "        bar.update(count)\n",
    "df_large= pd.concat(data, ignore_index=True)\n",
    "#df.large.to_json(os.path.join(mapping_corpus_path_2, 'concatentation'), compression='gzip', orient='records', lines=True)"
   ]
  },
  {
   "cell_type": "code",
   "execution_count": 14,
   "metadata": {},
   "outputs": [
    {
     "data": {
      "text/html": [
       "<div>\n",
       "<style scoped>\n",
       "    .dataframe tbody tr th:only-of-type {\n",
       "        vertical-align: middle;\n",
       "    }\n",
       "\n",
       "    .dataframe tbody tr th {\n",
       "        vertical-align: top;\n",
       "    }\n",
       "\n",
       "    .dataframe thead th {\n",
       "        text-align: right;\n",
       "    }\n",
       "</style>\n",
       "<table border=\"1\" class=\"dataframe\">\n",
       "  <thead>\n",
       "    <tr style=\"text-align: right;\">\n",
       "      <th></th>\n",
       "      <th>cluster_id</th>\n",
       "      <th>url</th>\n",
       "      <th>row_id</th>\n",
       "      <th>table_id</th>\n",
       "      <th>Valid</th>\n",
       "    </tr>\n",
       "  </thead>\n",
       "  <tbody>\n",
       "    <tr>\n",
       "      <th>0</th>\n",
       "      <td>59178314</td>\n",
       "      <td>https://www.cultureindoor.com/796-irrigation-a...</td>\n",
       "      <td>1561</td>\n",
       "      <td>Product_cultureindoor.com_September2020.json.gz</td>\n",
       "      <td>1</td>\n",
       "    </tr>\n",
       "    <tr>\n",
       "      <th>1</th>\n",
       "      <td>70692685</td>\n",
       "      <td>https://www.culturekings.com/products/new-era-...</td>\n",
       "      <td>3893</td>\n",
       "      <td>Product_culturekings.com_September2020.json.gz</td>\n",
       "      <td>1</td>\n",
       "    </tr>\n",
       "    <tr>\n",
       "      <th>2</th>\n",
       "      <td>395606</td>\n",
       "      <td>https://www.culturekings.com/products/new-era-...</td>\n",
       "      <td>3894</td>\n",
       "      <td>Product_culturekings.com_September2020.json.gz</td>\n",
       "      <td>1</td>\n",
       "    </tr>\n",
       "    <tr>\n",
       "      <th>3</th>\n",
       "      <td>3361797</td>\n",
       "      <td>https://www.customizedgirl.com/design/2605608/...</td>\n",
       "      <td>9318</td>\n",
       "      <td>Product_customizedgirl.com_September2020.json.gz</td>\n",
       "      <td>1</td>\n",
       "    </tr>\n",
       "    <tr>\n",
       "      <th>4</th>\n",
       "      <td>235755</td>\n",
       "      <td>https://www.customizedgirl.com/design/2613423/...</td>\n",
       "      <td>9319</td>\n",
       "      <td>Product_customizedgirl.com_September2020.json.gz</td>\n",
       "      <td>1</td>\n",
       "    </tr>\n",
       "    <tr>\n",
       "      <th>...</th>\n",
       "      <td>...</td>\n",
       "      <td>...</td>\n",
       "      <td>...</td>\n",
       "      <td>...</td>\n",
       "      <td>...</td>\n",
       "    </tr>\n",
       "    <tr>\n",
       "      <th>24687502</th>\n",
       "      <td>8653717</td>\n",
       "      <td>https://shop-list.com/women/utuwa-tatara/sg323...</td>\n",
       "      <td>1620</td>\n",
       "      <td>Product_shop-list.com_September2020.json.gz</td>\n",
       "      <td>1</td>\n",
       "    </tr>\n",
       "    <tr>\n",
       "      <th>24687503</th>\n",
       "      <td>22258637</td>\n",
       "      <td>https://shop-list.com/women/youmotto/famille-ltm</td>\n",
       "      <td>1621</td>\n",
       "      <td>Product_shop-list.com_September2020.json.gz</td>\n",
       "      <td>1</td>\n",
       "    </tr>\n",
       "    <tr>\n",
       "      <th>24687504</th>\n",
       "      <td>41434658</td>\n",
       "      <td>https://shop.agwaycapecod.com/products/0190147...</td>\n",
       "      <td>126</td>\n",
       "      <td>Product_agwaycapecod.com_September2020.json.gz</td>\n",
       "      <td>1</td>\n",
       "    </tr>\n",
       "    <tr>\n",
       "      <th>24687505</th>\n",
       "      <td>62702145</td>\n",
       "      <td>https://shop.agwaycapecod.com/products/0373214...</td>\n",
       "      <td>127</td>\n",
       "      <td>Product_agwaycapecod.com_September2020.json.gz</td>\n",
       "      <td>1</td>\n",
       "    </tr>\n",
       "    <tr>\n",
       "      <th>24687506</th>\n",
       "      <td>60936713</td>\n",
       "      <td>https://shop.areefcreation.com/products/ls-apr...</td>\n",
       "      <td>120</td>\n",
       "      <td>Product_areefcreation.com_September2020.json.gz</td>\n",
       "      <td>1</td>\n",
       "    </tr>\n",
       "  </tbody>\n",
       "</table>\n",
       "<p>24687507 rows × 5 columns</p>\n",
       "</div>"
      ],
      "text/plain": [
       "          cluster_id                                                url  \\\n",
       "0           59178314  https://www.cultureindoor.com/796-irrigation-a...   \n",
       "1           70692685  https://www.culturekings.com/products/new-era-...   \n",
       "2             395606  https://www.culturekings.com/products/new-era-...   \n",
       "3            3361797  https://www.customizedgirl.com/design/2605608/...   \n",
       "4             235755  https://www.customizedgirl.com/design/2613423/...   \n",
       "...              ...                                                ...   \n",
       "24687502     8653717  https://shop-list.com/women/utuwa-tatara/sg323...   \n",
       "24687503    22258637   https://shop-list.com/women/youmotto/famille-ltm   \n",
       "24687504    41434658  https://shop.agwaycapecod.com/products/0190147...   \n",
       "24687505    62702145  https://shop.agwaycapecod.com/products/0373214...   \n",
       "24687506    60936713  https://shop.areefcreation.com/products/ls-apr...   \n",
       "\n",
       "          row_id                                          table_id  Valid  \n",
       "0           1561   Product_cultureindoor.com_September2020.json.gz      1  \n",
       "1           3893    Product_culturekings.com_September2020.json.gz      1  \n",
       "2           3894    Product_culturekings.com_September2020.json.gz      1  \n",
       "3           9318  Product_customizedgirl.com_September2020.json.gz      1  \n",
       "4           9319  Product_customizedgirl.com_September2020.json.gz      1  \n",
       "...          ...                                               ...    ...  \n",
       "24687502    1620       Product_shop-list.com_September2020.json.gz      1  \n",
       "24687503    1621       Product_shop-list.com_September2020.json.gz      1  \n",
       "24687504     126    Product_agwaycapecod.com_September2020.json.gz      1  \n",
       "24687505     127    Product_agwaycapecod.com_September2020.json.gz      1  \n",
       "24687506     120   Product_areefcreation.com_September2020.json.gz      1  \n",
       "\n",
       "[24687507 rows x 5 columns]"
      ]
     },
     "execution_count": 14,
     "metadata": {},
     "output_type": "execute_result"
    }
   ],
   "source": [
    "df_large"
   ]
  },
  {
   "cell_type": "code",
   "execution_count": 15,
   "metadata": {},
   "outputs": [],
   "source": [
    "#fill up missing values in both product category data frames to be able to split the tuples up\n",
    "df_electronics_filtered=df_electronics.applymap(lambda x: [0,0] if x is None else x)\n",
    "df_clothes_filtered=df_clothes.applymap(lambda x: [0,0] if x is None else x)"
   ]
  },
  {
   "cell_type": "code",
   "execution_count": 16,
   "metadata": {},
   "outputs": [
    {
     "name": "stderr",
     "output_type": "stream",
     "text": [
      "100% (65407 of 65407) |##################| Elapsed Time: 0:46:55 Time:  0:46:55\n"
     ]
    }
   ],
   "source": [
    "# clean up the tables\n",
    "#split up tuples in in each column for each brand into two different columns table_id and row_id and concatente these rows\n",
    "df_electronics_cleaned=pd.DataFrame(columns=['table_id', 'row_id'])\n",
    "count = 0\n",
    "with progressbar.ProgressBar(max_value=len(df_electronics_filtered.columns)) as bar:\n",
    "    for i in range(len(df_electronics_filtered.columns)):\n",
    "        df_electronics_cleaned = df_electronics_cleaned.append(pd.DataFrame(df_electronics_filtered[i].tolist(),columns=['table_id', 'row_id'], index=df_electronics_filtered.index))\n",
    "        count += 1\n",
    "        bar.update(count)"
   ]
  },
  {
   "cell_type": "code",
   "execution_count": null,
   "metadata": {},
   "outputs": [
    {
     "name": "stderr",
     "output_type": "stream",
     "text": [
      " 26% (12697 of 48486) |####              | Elapsed Time: 0:01:56 ETA:   0:10:27"
     ]
    }
   ],
   "source": [
    "#clean up the tables\n",
    "#split up tuples in in each column for each brand into two different columns table_id and row_id and concatente these rows\n",
    "df_clothes_cleaned=pd.DataFrame(columns=['table_id', 'row_id'])\n",
    "count = 0\n",
    "with progressbar.ProgressBar(max_value=len(df_clothes_filtered.columns)) as bar:\n",
    "    for i in range(len(df_clothes_filtered.columns)):\n",
    "        df_clothes_cleaned = df_clothes_cleaned.append(pd.DataFrame(df_clothes_filtered[i].tolist(),columns=['table_id', 'row_id'], index=df_clothes_filtered.index))\n",
    "        count += 1\n",
    "        bar.update(count)"
   ]
  },
  {
   "cell_type": "code",
   "execution_count": 17,
   "metadata": {},
   "outputs": [
    {
     "data": {
      "text/html": [
       "<div>\n",
       "<style scoped>\n",
       "    .dataframe tbody tr th:only-of-type {\n",
       "        vertical-align: middle;\n",
       "    }\n",
       "\n",
       "    .dataframe tbody tr th {\n",
       "        vertical-align: top;\n",
       "    }\n",
       "\n",
       "    .dataframe thead th {\n",
       "        text-align: right;\n",
       "    }\n",
       "</style>\n",
       "<table border=\"1\" class=\"dataframe\">\n",
       "  <thead>\n",
       "    <tr style=\"text-align: right;\">\n",
       "      <th></th>\n",
       "      <th>brand</th>\n",
       "      <th>table_id</th>\n",
       "      <th>row_id</th>\n",
       "    </tr>\n",
       "  </thead>\n",
       "  <tbody>\n",
       "    <tr>\n",
       "      <th>0</th>\n",
       "      <td>lenovo</td>\n",
       "      <td>Product_likenewpcs.com_September2020.json.gz</td>\n",
       "      <td>33</td>\n",
       "    </tr>\n",
       "    <tr>\n",
       "      <th>1</th>\n",
       "      <td>canon</td>\n",
       "      <td>Product_teklobby.com_September2020.json.gz</td>\n",
       "      <td>17</td>\n",
       "    </tr>\n",
       "    <tr>\n",
       "      <th>2</th>\n",
       "      <td>hitachi</td>\n",
       "      <td>Product_thebladerunner.com.au_September2020.js...</td>\n",
       "      <td>1</td>\n",
       "    </tr>\n",
       "    <tr>\n",
       "      <th>3</th>\n",
       "      <td>resonant</td>\n",
       "      <td>Product_einsteindeals.com_September2020.json.gz</td>\n",
       "      <td>21</td>\n",
       "    </tr>\n",
       "    <tr>\n",
       "      <th>4</th>\n",
       "      <td>sony</td>\n",
       "      <td>Product_teklobby.com_September2020.json.gz</td>\n",
       "      <td>137</td>\n",
       "    </tr>\n",
       "    <tr>\n",
       "      <th>...</th>\n",
       "      <td>...</td>\n",
       "      <td>...</td>\n",
       "      <td>...</td>\n",
       "    </tr>\n",
       "    <tr>\n",
       "      <th>1308135</th>\n",
       "      <td>xiaomi</td>\n",
       "      <td>0</td>\n",
       "      <td>0</td>\n",
       "    </tr>\n",
       "    <tr>\n",
       "      <th>1308136</th>\n",
       "      <td>cisco</td>\n",
       "      <td>0</td>\n",
       "      <td>0</td>\n",
       "    </tr>\n",
       "    <tr>\n",
       "      <th>1308137</th>\n",
       "      <td>panasonic</td>\n",
       "      <td>0</td>\n",
       "      <td>0</td>\n",
       "    </tr>\n",
       "    <tr>\n",
       "      <th>1308138</th>\n",
       "      <td>intel</td>\n",
       "      <td>0</td>\n",
       "      <td>0</td>\n",
       "    </tr>\n",
       "    <tr>\n",
       "      <th>1308139</th>\n",
       "      <td>flex</td>\n",
       "      <td>0</td>\n",
       "      <td>0</td>\n",
       "    </tr>\n",
       "  </tbody>\n",
       "</table>\n",
       "<p>1308140 rows × 3 columns</p>\n",
       "</div>"
      ],
      "text/plain": [
       "             brand                                           table_id row_id\n",
       "0           lenovo       Product_likenewpcs.com_September2020.json.gz     33\n",
       "1            canon         Product_teklobby.com_September2020.json.gz     17\n",
       "2          hitachi  Product_thebladerunner.com.au_September2020.js...      1\n",
       "3         resonant    Product_einsteindeals.com_September2020.json.gz     21\n",
       "4             sony         Product_teklobby.com_September2020.json.gz    137\n",
       "...            ...                                                ...    ...\n",
       "1308135     xiaomi                                                  0      0\n",
       "1308136      cisco                                                  0      0\n",
       "1308137  panasonic                                                  0      0\n",
       "1308138      intel                                                  0      0\n",
       "1308139       flex                                                  0      0\n",
       "\n",
       "[1308140 rows x 3 columns]"
      ]
     },
     "execution_count": 17,
     "metadata": {},
     "output_type": "execute_result"
    }
   ],
   "source": [
    "#rename the columns to be able to join them into the cluster_id table\n",
    "df_electronics_cleaned=df_electronics_cleaned.reset_index().rename(columns={'index':\"brand\"})\n",
    "df_electronics_cleaned"
   ]
  },
  {
   "cell_type": "code",
   "execution_count": null,
   "metadata": {},
   "outputs": [],
   "source": [
    "#rename the columns to be able to join them into the cluster_id table\n",
    "df_clothes_cleaned=df_clothes_cleaned.reset_index().rename(columns={'index':\"brand\"})\n",
    "df_clothes_cleaned"
   ]
  },
  {
   "cell_type": "code",
   "execution_count": 18,
   "metadata": {},
   "outputs": [],
   "source": [
    "#join the tables to the cluster tables by using left joins\n",
    "#filled up zero values will be discarded by the join condition\n",
    "df_joined_electronics = df_large.merge(df_electronics_cleaned, left_on=['table_id','row_id'], right_on = ['table_id','row_id'], how='left')"
   ]
  },
  {
   "cell_type": "code",
   "execution_count": 31,
   "metadata": {},
   "outputs": [],
   "source": [
    "df_joined_electronics.to_json(mapping_corpus_path_2 + '/joined_electronics', compression='gzip', orient='records', lines=True)"
   ]
  },
  {
   "cell_type": "code",
   "execution_count": null,
   "metadata": {},
   "outputs": [],
   "source": [
    "df_joined_electronics.to_json(mapping_corpus_path_2 + '/joined_clothes', compression='gzip', orient='records', lines=True)"
   ]
  },
  {
   "cell_type": "code",
   "execution_count": 32,
   "metadata": {},
   "outputs": [],
   "source": [
    "df_joined_electronics = pd.read_json(os.path.join(mapping_corpus_path_2, 'joined_electronics'), compression='gzip', orient='records', lines=True)"
   ]
  },
  {
   "cell_type": "code",
   "execution_count": 33,
   "metadata": {},
   "outputs": [
    {
     "data": {
      "text/html": [
       "<div>\n",
       "<style scoped>\n",
       "    .dataframe tbody tr th:only-of-type {\n",
       "        vertical-align: middle;\n",
       "    }\n",
       "\n",
       "    .dataframe tbody tr th {\n",
       "        vertical-align: top;\n",
       "    }\n",
       "\n",
       "    .dataframe thead th {\n",
       "        text-align: right;\n",
       "    }\n",
       "</style>\n",
       "<table border=\"1\" class=\"dataframe\">\n",
       "  <thead>\n",
       "    <tr style=\"text-align: right;\">\n",
       "      <th></th>\n",
       "      <th>cluster_id</th>\n",
       "      <th>url</th>\n",
       "      <th>row_id</th>\n",
       "      <th>table_id</th>\n",
       "      <th>Valid</th>\n",
       "      <th>brand</th>\n",
       "    </tr>\n",
       "  </thead>\n",
       "  <tbody>\n",
       "    <tr>\n",
       "      <th>0</th>\n",
       "      <td>59178314</td>\n",
       "      <td>https://www.cultureindoor.com/796-irrigation-a...</td>\n",
       "      <td>1561</td>\n",
       "      <td>Product_cultureindoor.com_September2020.json.gz</td>\n",
       "      <td>1</td>\n",
       "      <td>None</td>\n",
       "    </tr>\n",
       "    <tr>\n",
       "      <th>1</th>\n",
       "      <td>70692685</td>\n",
       "      <td>https://www.culturekings.com/products/new-era-...</td>\n",
       "      <td>3893</td>\n",
       "      <td>Product_culturekings.com_September2020.json.gz</td>\n",
       "      <td>1</td>\n",
       "      <td>None</td>\n",
       "    </tr>\n",
       "    <tr>\n",
       "      <th>2</th>\n",
       "      <td>395606</td>\n",
       "      <td>https://www.culturekings.com/products/new-era-...</td>\n",
       "      <td>3894</td>\n",
       "      <td>Product_culturekings.com_September2020.json.gz</td>\n",
       "      <td>1</td>\n",
       "      <td>None</td>\n",
       "    </tr>\n",
       "    <tr>\n",
       "      <th>3</th>\n",
       "      <td>3361797</td>\n",
       "      <td>https://www.customizedgirl.com/design/2605608/...</td>\n",
       "      <td>9318</td>\n",
       "      <td>Product_customizedgirl.com_September2020.json.gz</td>\n",
       "      <td>1</td>\n",
       "      <td>None</td>\n",
       "    </tr>\n",
       "    <tr>\n",
       "      <th>4</th>\n",
       "      <td>235755</td>\n",
       "      <td>https://www.customizedgirl.com/design/2613423/...</td>\n",
       "      <td>9319</td>\n",
       "      <td>Product_customizedgirl.com_September2020.json.gz</td>\n",
       "      <td>1</td>\n",
       "      <td>None</td>\n",
       "    </tr>\n",
       "    <tr>\n",
       "      <th>...</th>\n",
       "      <td>...</td>\n",
       "      <td>...</td>\n",
       "      <td>...</td>\n",
       "      <td>...</td>\n",
       "      <td>...</td>\n",
       "      <td>...</td>\n",
       "    </tr>\n",
       "    <tr>\n",
       "      <th>24687502</th>\n",
       "      <td>8653717</td>\n",
       "      <td>https://shop-list.com/women/utuwa-tatara/sg323...</td>\n",
       "      <td>1620</td>\n",
       "      <td>Product_shop-list.com_September2020.json.gz</td>\n",
       "      <td>1</td>\n",
       "      <td>None</td>\n",
       "    </tr>\n",
       "    <tr>\n",
       "      <th>24687503</th>\n",
       "      <td>22258637</td>\n",
       "      <td>https://shop-list.com/women/youmotto/famille-ltm</td>\n",
       "      <td>1621</td>\n",
       "      <td>Product_shop-list.com_September2020.json.gz</td>\n",
       "      <td>1</td>\n",
       "      <td>None</td>\n",
       "    </tr>\n",
       "    <tr>\n",
       "      <th>24687504</th>\n",
       "      <td>41434658</td>\n",
       "      <td>https://shop.agwaycapecod.com/products/0190147...</td>\n",
       "      <td>126</td>\n",
       "      <td>Product_agwaycapecod.com_September2020.json.gz</td>\n",
       "      <td>1</td>\n",
       "      <td>None</td>\n",
       "    </tr>\n",
       "    <tr>\n",
       "      <th>24687505</th>\n",
       "      <td>62702145</td>\n",
       "      <td>https://shop.agwaycapecod.com/products/0373214...</td>\n",
       "      <td>127</td>\n",
       "      <td>Product_agwaycapecod.com_September2020.json.gz</td>\n",
       "      <td>1</td>\n",
       "      <td>None</td>\n",
       "    </tr>\n",
       "    <tr>\n",
       "      <th>24687506</th>\n",
       "      <td>60936713</td>\n",
       "      <td>https://shop.areefcreation.com/products/ls-apr...</td>\n",
       "      <td>120</td>\n",
       "      <td>Product_areefcreation.com_September2020.json.gz</td>\n",
       "      <td>1</td>\n",
       "      <td>None</td>\n",
       "    </tr>\n",
       "  </tbody>\n",
       "</table>\n",
       "<p>24687507 rows × 6 columns</p>\n",
       "</div>"
      ],
      "text/plain": [
       "          cluster_id                                                url  \\\n",
       "0           59178314  https://www.cultureindoor.com/796-irrigation-a...   \n",
       "1           70692685  https://www.culturekings.com/products/new-era-...   \n",
       "2             395606  https://www.culturekings.com/products/new-era-...   \n",
       "3            3361797  https://www.customizedgirl.com/design/2605608/...   \n",
       "4             235755  https://www.customizedgirl.com/design/2613423/...   \n",
       "...              ...                                                ...   \n",
       "24687502     8653717  https://shop-list.com/women/utuwa-tatara/sg323...   \n",
       "24687503    22258637   https://shop-list.com/women/youmotto/famille-ltm   \n",
       "24687504    41434658  https://shop.agwaycapecod.com/products/0190147...   \n",
       "24687505    62702145  https://shop.agwaycapecod.com/products/0373214...   \n",
       "24687506    60936713  https://shop.areefcreation.com/products/ls-apr...   \n",
       "\n",
       "          row_id                                          table_id  Valid  \\\n",
       "0           1561   Product_cultureindoor.com_September2020.json.gz      1   \n",
       "1           3893    Product_culturekings.com_September2020.json.gz      1   \n",
       "2           3894    Product_culturekings.com_September2020.json.gz      1   \n",
       "3           9318  Product_customizedgirl.com_September2020.json.gz      1   \n",
       "4           9319  Product_customizedgirl.com_September2020.json.gz      1   \n",
       "...          ...                                               ...    ...   \n",
       "24687502    1620       Product_shop-list.com_September2020.json.gz      1   \n",
       "24687503    1621       Product_shop-list.com_September2020.json.gz      1   \n",
       "24687504     126    Product_agwaycapecod.com_September2020.json.gz      1   \n",
       "24687505     127    Product_agwaycapecod.com_September2020.json.gz      1   \n",
       "24687506     120   Product_areefcreation.com_September2020.json.gz      1   \n",
       "\n",
       "         brand  \n",
       "0         None  \n",
       "1         None  \n",
       "2         None  \n",
       "3         None  \n",
       "4         None  \n",
       "...        ...  \n",
       "24687502  None  \n",
       "24687503  None  \n",
       "24687504  None  \n",
       "24687505  None  \n",
       "24687506  None  \n",
       "\n",
       "[24687507 rows x 6 columns]"
      ]
     },
     "execution_count": 33,
     "metadata": {},
     "output_type": "execute_result"
    }
   ],
   "source": [
    "df_joined_electronics"
   ]
  },
  {
   "cell_type": "code",
   "execution_count": 75,
   "metadata": {},
   "outputs": [
    {
     "data": {
      "text/html": [
       "<div>\n",
       "<style scoped>\n",
       "    .dataframe tbody tr th:only-of-type {\n",
       "        vertical-align: middle;\n",
       "    }\n",
       "\n",
       "    .dataframe tbody tr th {\n",
       "        vertical-align: top;\n",
       "    }\n",
       "\n",
       "    .dataframe thead th {\n",
       "        text-align: right;\n",
       "    }\n",
       "</style>\n",
       "<table border=\"1\" class=\"dataframe\">\n",
       "  <thead>\n",
       "    <tr style=\"text-align: right;\">\n",
       "      <th></th>\n",
       "      <th>cluster_id</th>\n",
       "      <th>brand</th>\n",
       "    </tr>\n",
       "  </thead>\n",
       "  <tbody>\n",
       "    <tr>\n",
       "      <th>301</th>\n",
       "      <td>77802045</td>\n",
       "      <td>samsung</td>\n",
       "    </tr>\n",
       "    <tr>\n",
       "      <th>345</th>\n",
       "      <td>2811793</td>\n",
       "      <td>hp</td>\n",
       "    </tr>\n",
       "    <tr>\n",
       "      <th>541</th>\n",
       "      <td>77569811</td>\n",
       "      <td>cisco</td>\n",
       "    </tr>\n",
       "    <tr>\n",
       "      <th>681</th>\n",
       "      <td>75925357</td>\n",
       "      <td>sony</td>\n",
       "    </tr>\n",
       "    <tr>\n",
       "      <th>907</th>\n",
       "      <td>484956</td>\n",
       "      <td>nikon</td>\n",
       "    </tr>\n",
       "    <tr>\n",
       "      <th>...</th>\n",
       "      <td>...</td>\n",
       "      <td>...</td>\n",
       "    </tr>\n",
       "    <tr>\n",
       "      <th>24682764</th>\n",
       "      <td>33552563</td>\n",
       "      <td>hitachi</td>\n",
       "    </tr>\n",
       "    <tr>\n",
       "      <th>24683395</th>\n",
       "      <td>938827</td>\n",
       "      <td>cisco</td>\n",
       "    </tr>\n",
       "    <tr>\n",
       "      <th>24684430</th>\n",
       "      <td>26890836</td>\n",
       "      <td>apple</td>\n",
       "    </tr>\n",
       "    <tr>\n",
       "      <th>24684605</th>\n",
       "      <td>78506997</td>\n",
       "      <td>flex</td>\n",
       "    </tr>\n",
       "    <tr>\n",
       "      <th>24687217</th>\n",
       "      <td>3056832</td>\n",
       "      <td>asus</td>\n",
       "    </tr>\n",
       "  </tbody>\n",
       "</table>\n",
       "<p>50739 rows × 2 columns</p>\n",
       "</div>"
      ],
      "text/plain": [
       "          cluster_id    brand\n",
       "301         77802045  samsung\n",
       "345          2811793       hp\n",
       "541         77569811    cisco\n",
       "681         75925357     sony\n",
       "907           484956    nikon\n",
       "...              ...      ...\n",
       "24682764    33552563  hitachi\n",
       "24683395      938827    cisco\n",
       "24684430    26890836    apple\n",
       "24684605    78506997     flex\n",
       "24687217     3056832     asus\n",
       "\n",
       "[50739 rows x 2 columns]"
      ]
     },
     "execution_count": 75,
     "metadata": {},
     "output_type": "execute_result"
    }
   ],
   "source": [
    "df_joined_electronics.dropna()[['cluster_id','brand']].drop_duplicates('cluster_id', keep='last')"
   ]
  },
  {
   "cell_type": "code",
   "execution_count": null,
   "metadata": {},
   "outputs": [],
   "source": [
    "#join the tables to the cluster tables by using left joins \n",
    "#filled up zero values will be discarded by the join condition\n",
    "df_joined_clothes = df_large.merge(df_clothes_cleaned, left_on=['table_id','row_id'], right_on = ['table_id','row_id'], how='left')"
   ]
  },
  {
   "cell_type": "code",
   "execution_count": null,
   "metadata": {},
   "outputs": [],
   "source": [
    "df_joined_clothes.to_json(mapping_corpus_path_2 + '/joined_clothes', compression='gzip', orient='records', lines=True)"
   ]
  },
  {
   "cell_type": "code",
   "execution_count": null,
   "metadata": {},
   "outputs": [],
   "source": [
    "df_joined_clothes = pd.read_json(os.path.join(mapping_corpus_path_2, 'joined_clothes'), compression='gzip', orient='records', lines=True)\n",
    "df_joined_clothes"
   ]
  },
  {
   "cell_type": "code",
   "execution_count": null,
   "metadata": {},
   "outputs": [],
   "source": [
    "# df_tables_count=df_join.groupby('cluster_id').count()\n",
    "# df_tables_count[df_tables_count['brand']>2]"
   ]
  },
  {
   "cell_type": "markdown",
   "metadata": {},
   "source": [
    "## Cluster statistics for product category electronics"
   ]
  },
  {
   "cell_type": "code",
   "execution_count": 37,
   "metadata": {},
   "outputs": [],
   "source": [
    "df_grouped_electronics = df_joined_electronics.groupby('cluster_id').count()"
   ]
  },
  {
   "cell_type": "code",
   "execution_count": 38,
   "metadata": {},
   "outputs": [],
   "source": [
    "# only look at clusters that have at least one brand associated\n",
    "df_set_electronics = df_grouped_electronics[df_grouped_electronics['brand']>0].reset_index()[['cluster_id','table_id']].rename(columns={'table_id':'Amount'})"
   ]
  },
  {
   "cell_type": "code",
   "execution_count": 39,
   "metadata": {},
   "outputs": [
    {
     "data": {
      "text/html": [
       "<div>\n",
       "<style scoped>\n",
       "    .dataframe tbody tr th:only-of-type {\n",
       "        vertical-align: middle;\n",
       "    }\n",
       "\n",
       "    .dataframe tbody tr th {\n",
       "        vertical-align: top;\n",
       "    }\n",
       "\n",
       "    .dataframe thead th {\n",
       "        text-align: right;\n",
       "    }\n",
       "</style>\n",
       "<table border=\"1\" class=\"dataframe\">\n",
       "  <thead>\n",
       "    <tr style=\"text-align: right;\">\n",
       "      <th></th>\n",
       "      <th>cluster_id</th>\n",
       "      <th>Amount</th>\n",
       "    </tr>\n",
       "  </thead>\n",
       "  <tbody>\n",
       "    <tr>\n",
       "      <th>2</th>\n",
       "      <td>997</td>\n",
       "      <td>3</td>\n",
       "    </tr>\n",
       "    <tr>\n",
       "      <th>3</th>\n",
       "      <td>2034</td>\n",
       "      <td>3</td>\n",
       "    </tr>\n",
       "    <tr>\n",
       "      <th>4</th>\n",
       "      <td>2172</td>\n",
       "      <td>6</td>\n",
       "    </tr>\n",
       "    <tr>\n",
       "      <th>5</th>\n",
       "      <td>2880</td>\n",
       "      <td>10</td>\n",
       "    </tr>\n",
       "    <tr>\n",
       "      <th>6</th>\n",
       "      <td>3529</td>\n",
       "      <td>10</td>\n",
       "    </tr>\n",
       "    <tr>\n",
       "      <th>...</th>\n",
       "      <td>...</td>\n",
       "      <td>...</td>\n",
       "    </tr>\n",
       "    <tr>\n",
       "      <th>50699</th>\n",
       "      <td>80451118</td>\n",
       "      <td>2</td>\n",
       "    </tr>\n",
       "    <tr>\n",
       "      <th>50700</th>\n",
       "      <td>80451138</td>\n",
       "      <td>2</td>\n",
       "    </tr>\n",
       "    <tr>\n",
       "      <th>50701</th>\n",
       "      <td>80451139</td>\n",
       "      <td>2</td>\n",
       "    </tr>\n",
       "    <tr>\n",
       "      <th>50702</th>\n",
       "      <td>80451187</td>\n",
       "      <td>2</td>\n",
       "    </tr>\n",
       "    <tr>\n",
       "      <th>50717</th>\n",
       "      <td>80469264</td>\n",
       "      <td>3</td>\n",
       "    </tr>\n",
       "  </tbody>\n",
       "</table>\n",
       "<p>6896 rows × 2 columns</p>\n",
       "</div>"
      ],
      "text/plain": [
       "       cluster_id  Amount\n",
       "2             997       3\n",
       "3            2034       3\n",
       "4            2172       6\n",
       "5            2880      10\n",
       "6            3529      10\n",
       "...           ...     ...\n",
       "50699    80451118       2\n",
       "50700    80451138       2\n",
       "50701    80451139       2\n",
       "50702    80451187       2\n",
       "50717    80469264       3\n",
       "\n",
       "[6896 rows x 2 columns]"
      ]
     },
     "execution_count": 39,
     "metadata": {},
     "output_type": "execute_result"
    }
   ],
   "source": [
    "# We discard all clusters with less than 2 entries, cause we cannot match anything there, so 1,6 million clusters remain\n",
    "df_set_electronics=df_set_electronics[df_set_electronics['Amount']>1]\n",
    "df_set_electronics"
   ]
  },
  {
   "cell_type": "code",
   "execution_count": 40,
   "metadata": {},
   "outputs": [
    {
     "data": {
      "text/html": [
       "<div>\n",
       "<style scoped>\n",
       "    .dataframe tbody tr th:only-of-type {\n",
       "        vertical-align: middle;\n",
       "    }\n",
       "\n",
       "    .dataframe tbody tr th {\n",
       "        vertical-align: top;\n",
       "    }\n",
       "\n",
       "    .dataframe thead th {\n",
       "        text-align: right;\n",
       "    }\n",
       "</style>\n",
       "<table border=\"1\" class=\"dataframe\">\n",
       "  <thead>\n",
       "    <tr style=\"text-align: right;\">\n",
       "      <th></th>\n",
       "      <th>count</th>\n",
       "      <th>mean</th>\n",
       "      <th>std</th>\n",
       "      <th>min</th>\n",
       "      <th>25%</th>\n",
       "      <th>50%</th>\n",
       "      <th>75%</th>\n",
       "      <th>max</th>\n",
       "    </tr>\n",
       "  </thead>\n",
       "  <tbody>\n",
       "    <tr>\n",
       "      <th>Amount</th>\n",
       "      <td>6896.0</td>\n",
       "      <td>5.0</td>\n",
       "      <td>22.0</td>\n",
       "      <td>2.0</td>\n",
       "      <td>2.0</td>\n",
       "      <td>3.0</td>\n",
       "      <td>4.0</td>\n",
       "      <td>1043.0</td>\n",
       "    </tr>\n",
       "  </tbody>\n",
       "</table>\n",
       "</div>"
      ],
      "text/plain": [
       "         count  mean   std  min  25%  50%  75%     max\n",
       "Amount  6896.0   5.0  22.0  2.0  2.0  3.0  4.0  1043.0"
      ]
     },
     "execution_count": 40,
     "metadata": {},
     "output_type": "execute_result"
    }
   ],
   "source": [
    "df_set_electronics.set_index('cluster_id').describe().T.round()"
   ]
  },
  {
   "cell_type": "code",
   "execution_count": 41,
   "metadata": {},
   "outputs": [
    {
     "data": {
      "text/plain": [
       "<AxesSubplot:ylabel='Frequency'>"
      ]
     },
     "execution_count": 41,
     "metadata": {},
     "output_type": "execute_result"
    },
    {
     "data": {
      "image/png": "[encoded data removed]",
      "text/plain": [
       "<Figure size 432x288 with 1 Axes>"
      ]
     },
     "metadata": {
      "needs_background": "light"
     },
     "output_type": "display_data"
    }
   ],
   "source": [
    "df_set_electronics.plot(x='cluster_id',y='Amount',kind='hist')"
   ]
  },
  {
   "cell_type": "code",
   "execution_count": 42,
   "metadata": {},
   "outputs": [
    {
     "data": {
      "text/html": [
       "<div>\n",
       "<style scoped>\n",
       "    .dataframe tbody tr th:only-of-type {\n",
       "        vertical-align: middle;\n",
       "    }\n",
       "\n",
       "    .dataframe tbody tr th {\n",
       "        vertical-align: top;\n",
       "    }\n",
       "\n",
       "    .dataframe thead th {\n",
       "        text-align: right;\n",
       "    }\n",
       "</style>\n",
       "<table border=\"1\" class=\"dataframe\">\n",
       "  <thead>\n",
       "    <tr style=\"text-align: right;\">\n",
       "      <th></th>\n",
       "      <th>cluster_id</th>\n",
       "      <th>Amount</th>\n",
       "    </tr>\n",
       "  </thead>\n",
       "  <tbody>\n",
       "    <tr>\n",
       "      <th>4</th>\n",
       "      <td>2172</td>\n",
       "      <td>6</td>\n",
       "    </tr>\n",
       "    <tr>\n",
       "      <th>5</th>\n",
       "      <td>2880</td>\n",
       "      <td>10</td>\n",
       "    </tr>\n",
       "    <tr>\n",
       "      <th>6</th>\n",
       "      <td>3529</td>\n",
       "      <td>10</td>\n",
       "    </tr>\n",
       "    <tr>\n",
       "      <th>7</th>\n",
       "      <td>3668</td>\n",
       "      <td>15</td>\n",
       "    </tr>\n",
       "    <tr>\n",
       "      <th>8</th>\n",
       "      <td>4025</td>\n",
       "      <td>6</td>\n",
       "    </tr>\n",
       "    <tr>\n",
       "      <th>...</th>\n",
       "      <td>...</td>\n",
       "      <td>...</td>\n",
       "    </tr>\n",
       "    <tr>\n",
       "      <th>47987</th>\n",
       "      <td>75294989</td>\n",
       "      <td>11</td>\n",
       "    </tr>\n",
       "    <tr>\n",
       "      <th>48392</th>\n",
       "      <td>76064893</td>\n",
       "      <td>6</td>\n",
       "    </tr>\n",
       "    <tr>\n",
       "      <th>48394</th>\n",
       "      <td>76065434</td>\n",
       "      <td>7</td>\n",
       "    </tr>\n",
       "    <tr>\n",
       "      <th>49357</th>\n",
       "      <td>78043480</td>\n",
       "      <td>7</td>\n",
       "    </tr>\n",
       "    <tr>\n",
       "      <th>50431</th>\n",
       "      <td>79963108</td>\n",
       "      <td>11</td>\n",
       "    </tr>\n",
       "  </tbody>\n",
       "</table>\n",
       "<p>1294 rows × 2 columns</p>\n",
       "</div>"
      ],
      "text/plain": [
       "       cluster_id  Amount\n",
       "4            2172       6\n",
       "5            2880      10\n",
       "6            3529      10\n",
       "7            3668      15\n",
       "8            4025       6\n",
       "...           ...     ...\n",
       "47987    75294989      11\n",
       "48392    76064893       6\n",
       "48394    76065434       7\n",
       "49357    78043480       7\n",
       "50431    79963108      11\n",
       "\n",
       "[1294 rows x 2 columns]"
      ]
     },
     "execution_count": 42,
     "metadata": {},
     "output_type": "execute_result"
    }
   ],
   "source": [
    "# filter on clusters with more entries to get information, here are still 20k clusters left\n",
    "df_5_electronics=df_set_electronics[df_set_electronics['Amount']>5]\n",
    "df_5_electronics"
   ]
  },
  {
   "cell_type": "code",
   "execution_count": 43,
   "metadata": {},
   "outputs": [
    {
     "data": {
      "text/html": [
       "<div>\n",
       "<style scoped>\n",
       "    .dataframe tbody tr th:only-of-type {\n",
       "        vertical-align: middle;\n",
       "    }\n",
       "\n",
       "    .dataframe tbody tr th {\n",
       "        vertical-align: top;\n",
       "    }\n",
       "\n",
       "    .dataframe thead th {\n",
       "        text-align: right;\n",
       "    }\n",
       "</style>\n",
       "<table border=\"1\" class=\"dataframe\">\n",
       "  <thead>\n",
       "    <tr style=\"text-align: right;\">\n",
       "      <th></th>\n",
       "      <th>count</th>\n",
       "      <th>mean</th>\n",
       "      <th>std</th>\n",
       "      <th>min</th>\n",
       "      <th>25%</th>\n",
       "      <th>50%</th>\n",
       "      <th>75%</th>\n",
       "      <th>max</th>\n",
       "    </tr>\n",
       "  </thead>\n",
       "  <tbody>\n",
       "    <tr>\n",
       "      <th>Amount</th>\n",
       "      <td>1294.0</td>\n",
       "      <td>15.0</td>\n",
       "      <td>49.0</td>\n",
       "      <td>6.0</td>\n",
       "      <td>7.0</td>\n",
       "      <td>8.0</td>\n",
       "      <td>11.0</td>\n",
       "      <td>1043.0</td>\n",
       "    </tr>\n",
       "  </tbody>\n",
       "</table>\n",
       "</div>"
      ],
      "text/plain": [
       "         count  mean   std  min  25%  50%   75%     max\n",
       "Amount  1294.0  15.0  49.0  6.0  7.0  8.0  11.0  1043.0"
      ]
     },
     "execution_count": 43,
     "metadata": {},
     "output_type": "execute_result"
    }
   ],
   "source": [
    "df_5_electronics.set_index('cluster_id').describe().T.round()"
   ]
  },
  {
   "cell_type": "code",
   "execution_count": 44,
   "metadata": {},
   "outputs": [
    {
     "data": {
      "text/plain": [
       "<AxesSubplot:ylabel='Frequency'>"
      ]
     },
     "execution_count": 44,
     "metadata": {},
     "output_type": "execute_result"
    },
    {
     "data": {
      "image/png": "[encoded data removed]",
      "text/plain": [
       "<Figure size 432x288 with 1 Axes>"
      ]
     },
     "metadata": {
      "needs_background": "light"
     },
     "output_type": "display_data"
    }
   ],
   "source": [
    "df_5_electronics.plot(x='cluster_id',y='Amount',kind='hist')"
   ]
  },
  {
   "cell_type": "code",
   "execution_count": 45,
   "metadata": {},
   "outputs": [
    {
     "data": {
      "text/html": [
       "<div>\n",
       "<style scoped>\n",
       "    .dataframe tbody tr th:only-of-type {\n",
       "        vertical-align: middle;\n",
       "    }\n",
       "\n",
       "    .dataframe tbody tr th {\n",
       "        vertical-align: top;\n",
       "    }\n",
       "\n",
       "    .dataframe thead th {\n",
       "        text-align: right;\n",
       "    }\n",
       "</style>\n",
       "<table border=\"1\" class=\"dataframe\">\n",
       "  <thead>\n",
       "    <tr style=\"text-align: right;\">\n",
       "      <th></th>\n",
       "      <th>cluster_id</th>\n",
       "      <th>Amount</th>\n",
       "    </tr>\n",
       "  </thead>\n",
       "  <tbody>\n",
       "    <tr>\n",
       "      <th>14</th>\n",
       "      <td>6076</td>\n",
       "      <td>19</td>\n",
       "    </tr>\n",
       "    <tr>\n",
       "      <th>15</th>\n",
       "      <td>6505</td>\n",
       "      <td>16</td>\n",
       "    </tr>\n",
       "    <tr>\n",
       "      <th>16</th>\n",
       "      <td>6690</td>\n",
       "      <td>20</td>\n",
       "    </tr>\n",
       "    <tr>\n",
       "      <th>20</th>\n",
       "      <td>7366</td>\n",
       "      <td>17</td>\n",
       "    </tr>\n",
       "    <tr>\n",
       "      <th>23</th>\n",
       "      <td>9046</td>\n",
       "      <td>21</td>\n",
       "    </tr>\n",
       "    <tr>\n",
       "      <th>...</th>\n",
       "      <td>...</td>\n",
       "      <td>...</td>\n",
       "    </tr>\n",
       "    <tr>\n",
       "      <th>37772</th>\n",
       "      <td>57235777</td>\n",
       "      <td>27</td>\n",
       "    </tr>\n",
       "    <tr>\n",
       "      <th>43828</th>\n",
       "      <td>67449101</td>\n",
       "      <td>24</td>\n",
       "    </tr>\n",
       "    <tr>\n",
       "      <th>44143</th>\n",
       "      <td>68112533</td>\n",
       "      <td>17</td>\n",
       "    </tr>\n",
       "    <tr>\n",
       "      <th>47508</th>\n",
       "      <td>74270662</td>\n",
       "      <td>206</td>\n",
       "    </tr>\n",
       "    <tr>\n",
       "      <th>47853</th>\n",
       "      <td>74975318</td>\n",
       "      <td>205</td>\n",
       "    </tr>\n",
       "  </tbody>\n",
       "</table>\n",
       "<p>155 rows × 2 columns</p>\n",
       "</div>"
      ],
      "text/plain": [
       "       cluster_id  Amount\n",
       "14           6076      19\n",
       "15           6505      16\n",
       "16           6690      20\n",
       "20           7366      17\n",
       "23           9046      21\n",
       "...           ...     ...\n",
       "37772    57235777      27\n",
       "43828    67449101      24\n",
       "44143    68112533      17\n",
       "47508    74270662     206\n",
       "47853    74975318     205\n",
       "\n",
       "[155 rows x 2 columns]"
      ]
     },
     "execution_count": 45,
     "metadata": {},
     "output_type": "execute_result"
    }
   ],
   "source": [
    "df_15_electronics=df_set_electronics[df_set_electronics['Amount']>15]\n",
    "df_15_electronics"
   ]
  },
  {
   "cell_type": "code",
   "execution_count": 46,
   "metadata": {},
   "outputs": [
    {
     "data": {
      "text/html": [
       "<div>\n",
       "<style scoped>\n",
       "    .dataframe tbody tr th:only-of-type {\n",
       "        vertical-align: middle;\n",
       "    }\n",
       "\n",
       "    .dataframe tbody tr th {\n",
       "        vertical-align: top;\n",
       "    }\n",
       "\n",
       "    .dataframe thead th {\n",
       "        text-align: right;\n",
       "    }\n",
       "</style>\n",
       "<table border=\"1\" class=\"dataframe\">\n",
       "  <thead>\n",
       "    <tr style=\"text-align: right;\">\n",
       "      <th></th>\n",
       "      <th>count</th>\n",
       "      <th>mean</th>\n",
       "      <th>std</th>\n",
       "      <th>min</th>\n",
       "      <th>25%</th>\n",
       "      <th>50%</th>\n",
       "      <th>75%</th>\n",
       "      <th>max</th>\n",
       "    </tr>\n",
       "  </thead>\n",
       "  <tbody>\n",
       "    <tr>\n",
       "      <th>Amount</th>\n",
       "      <td>155.0</td>\n",
       "      <td>61.0</td>\n",
       "      <td>133.0</td>\n",
       "      <td>16.0</td>\n",
       "      <td>17.0</td>\n",
       "      <td>21.0</td>\n",
       "      <td>32.0</td>\n",
       "      <td>1043.0</td>\n",
       "    </tr>\n",
       "  </tbody>\n",
       "</table>\n",
       "</div>"
      ],
      "text/plain": [
       "        count  mean    std   min   25%   50%   75%     max\n",
       "Amount  155.0  61.0  133.0  16.0  17.0  21.0  32.0  1043.0"
      ]
     },
     "execution_count": 46,
     "metadata": {},
     "output_type": "execute_result"
    }
   ],
   "source": [
    "df_15_electronics.set_index('cluster_id').describe().T.round()"
   ]
  },
  {
   "cell_type": "code",
   "execution_count": 47,
   "metadata": {},
   "outputs": [
    {
     "data": {
      "text/plain": [
       "<AxesSubplot:ylabel='Frequency'>"
      ]
     },
     "execution_count": 47,
     "metadata": {},
     "output_type": "execute_result"
    },
    {
     "data": {
      "image/png": "[encoded data removed]",
      "text/plain": [
       "<Figure size 432x288 with 1 Axes>"
      ]
     },
     "metadata": {
      "needs_background": "light"
     },
     "output_type": "display_data"
    }
   ],
   "source": [
    "df_15_electronics.plot(x='cluster_id',y='Amount',kind='hist')"
   ]
  },
  {
   "cell_type": "code",
   "execution_count": 68,
   "metadata": {},
   "outputs": [
    {
     "data": {
      "text/html": [
       "<div>\n",
       "<style scoped>\n",
       "    .dataframe tbody tr th:only-of-type {\n",
       "        vertical-align: middle;\n",
       "    }\n",
       "\n",
       "    .dataframe tbody tr th {\n",
       "        vertical-align: top;\n",
       "    }\n",
       "\n",
       "    .dataframe thead th {\n",
       "        text-align: right;\n",
       "    }\n",
       "</style>\n",
       "<table border=\"1\" class=\"dataframe\">\n",
       "  <thead>\n",
       "    <tr style=\"text-align: right;\">\n",
       "      <th></th>\n",
       "      <th>cluster_id</th>\n",
       "      <th>Amount</th>\n",
       "    </tr>\n",
       "  </thead>\n",
       "  <tbody>\n",
       "    <tr>\n",
       "      <th>77</th>\n",
       "      <td>28307</td>\n",
       "      <td>36</td>\n",
       "    </tr>\n",
       "    <tr>\n",
       "      <th>105</th>\n",
       "      <td>37409</td>\n",
       "      <td>28</td>\n",
       "    </tr>\n",
       "    <tr>\n",
       "      <th>241</th>\n",
       "      <td>96277</td>\n",
       "      <td>268</td>\n",
       "    </tr>\n",
       "    <tr>\n",
       "      <th>245</th>\n",
       "      <td>99153</td>\n",
       "      <td>29</td>\n",
       "    </tr>\n",
       "    <tr>\n",
       "      <th>479</th>\n",
       "      <td>197396</td>\n",
       "      <td>30</td>\n",
       "    </tr>\n",
       "    <tr>\n",
       "      <th>503</th>\n",
       "      <td>207413</td>\n",
       "      <td>47</td>\n",
       "    </tr>\n",
       "    <tr>\n",
       "      <th>587</th>\n",
       "      <td>244025</td>\n",
       "      <td>119</td>\n",
       "    </tr>\n",
       "    <tr>\n",
       "      <th>1560</th>\n",
       "      <td>685416</td>\n",
       "      <td>27</td>\n",
       "    </tr>\n",
       "    <tr>\n",
       "      <th>1596</th>\n",
       "      <td>704991</td>\n",
       "      <td>35</td>\n",
       "    </tr>\n",
       "    <tr>\n",
       "      <th>1666</th>\n",
       "      <td>730377</td>\n",
       "      <td>27</td>\n",
       "    </tr>\n",
       "    <tr>\n",
       "      <th>1848</th>\n",
       "      <td>835420</td>\n",
       "      <td>30</td>\n",
       "    </tr>\n",
       "    <tr>\n",
       "      <th>1852</th>\n",
       "      <td>836946</td>\n",
       "      <td>32</td>\n",
       "    </tr>\n",
       "    <tr>\n",
       "      <th>1945</th>\n",
       "      <td>887937</td>\n",
       "      <td>32</td>\n",
       "    </tr>\n",
       "    <tr>\n",
       "      <th>1975</th>\n",
       "      <td>902145</td>\n",
       "      <td>47</td>\n",
       "    </tr>\n",
       "    <tr>\n",
       "      <th>2035</th>\n",
       "      <td>941003</td>\n",
       "      <td>26</td>\n",
       "    </tr>\n",
       "    <tr>\n",
       "      <th>2144</th>\n",
       "      <td>1006110</td>\n",
       "      <td>33</td>\n",
       "    </tr>\n",
       "    <tr>\n",
       "      <th>2231</th>\n",
       "      <td>1063839</td>\n",
       "      <td>26</td>\n",
       "    </tr>\n",
       "    <tr>\n",
       "      <th>2282</th>\n",
       "      <td>1092304</td>\n",
       "      <td>64</td>\n",
       "    </tr>\n",
       "    <tr>\n",
       "      <th>2399</th>\n",
       "      <td>1163995</td>\n",
       "      <td>29</td>\n",
       "    </tr>\n",
       "    <tr>\n",
       "      <th>2568</th>\n",
       "      <td>1257145</td>\n",
       "      <td>27</td>\n",
       "    </tr>\n",
       "    <tr>\n",
       "      <th>2771</th>\n",
       "      <td>1381570</td>\n",
       "      <td>38</td>\n",
       "    </tr>\n",
       "    <tr>\n",
       "      <th>3022</th>\n",
       "      <td>1543882</td>\n",
       "      <td>62</td>\n",
       "    </tr>\n",
       "    <tr>\n",
       "      <th>3316</th>\n",
       "      <td>1753422</td>\n",
       "      <td>1043</td>\n",
       "    </tr>\n",
       "    <tr>\n",
       "      <th>3447</th>\n",
       "      <td>1850486</td>\n",
       "      <td>28</td>\n",
       "    </tr>\n",
       "    <tr>\n",
       "      <th>4041</th>\n",
       "      <td>2294669</td>\n",
       "      <td>39</td>\n",
       "    </tr>\n",
       "    <tr>\n",
       "      <th>4240</th>\n",
       "      <td>2456244</td>\n",
       "      <td>55</td>\n",
       "    </tr>\n",
       "    <tr>\n",
       "      <th>4600</th>\n",
       "      <td>2751278</td>\n",
       "      <td>28</td>\n",
       "    </tr>\n",
       "    <tr>\n",
       "      <th>4727</th>\n",
       "      <td>2848082</td>\n",
       "      <td>29</td>\n",
       "    </tr>\n",
       "    <tr>\n",
       "      <th>5083</th>\n",
       "      <td>3133321</td>\n",
       "      <td>130</td>\n",
       "    </tr>\n",
       "    <tr>\n",
       "      <th>5271</th>\n",
       "      <td>3295040</td>\n",
       "      <td>35</td>\n",
       "    </tr>\n",
       "    <tr>\n",
       "      <th>5740</th>\n",
       "      <td>3730598</td>\n",
       "      <td>55</td>\n",
       "    </tr>\n",
       "    <tr>\n",
       "      <th>7096</th>\n",
       "      <td>5071722</td>\n",
       "      <td>27</td>\n",
       "    </tr>\n",
       "    <tr>\n",
       "      <th>8678</th>\n",
       "      <td>6680403</td>\n",
       "      <td>33</td>\n",
       "    </tr>\n",
       "    <tr>\n",
       "      <th>9437</th>\n",
       "      <td>7780966</td>\n",
       "      <td>194</td>\n",
       "    </tr>\n",
       "    <tr>\n",
       "      <th>10935</th>\n",
       "      <td>10626565</td>\n",
       "      <td>201</td>\n",
       "    </tr>\n",
       "    <tr>\n",
       "      <th>11260</th>\n",
       "      <td>11332257</td>\n",
       "      <td>193</td>\n",
       "    </tr>\n",
       "    <tr>\n",
       "      <th>18150</th>\n",
       "      <td>21021316</td>\n",
       "      <td>189</td>\n",
       "    </tr>\n",
       "    <tr>\n",
       "      <th>19787</th>\n",
       "      <td>24321483</td>\n",
       "      <td>208</td>\n",
       "    </tr>\n",
       "    <tr>\n",
       "      <th>20793</th>\n",
       "      <td>26217595</td>\n",
       "      <td>204</td>\n",
       "    </tr>\n",
       "    <tr>\n",
       "      <th>22047</th>\n",
       "      <td>28526191</td>\n",
       "      <td>58</td>\n",
       "    </tr>\n",
       "    <tr>\n",
       "      <th>22338</th>\n",
       "      <td>29067497</td>\n",
       "      <td>192</td>\n",
       "    </tr>\n",
       "    <tr>\n",
       "      <th>22743</th>\n",
       "      <td>29931410</td>\n",
       "      <td>648</td>\n",
       "    </tr>\n",
       "    <tr>\n",
       "      <th>23263</th>\n",
       "      <td>30995813</td>\n",
       "      <td>220</td>\n",
       "    </tr>\n",
       "    <tr>\n",
       "      <th>23277</th>\n",
       "      <td>31045437</td>\n",
       "      <td>45</td>\n",
       "    </tr>\n",
       "    <tr>\n",
       "      <th>23460</th>\n",
       "      <td>31453348</td>\n",
       "      <td>207</td>\n",
       "    </tr>\n",
       "    <tr>\n",
       "      <th>24737</th>\n",
       "      <td>34016600</td>\n",
       "      <td>208</td>\n",
       "    </tr>\n",
       "    <tr>\n",
       "      <th>26000</th>\n",
       "      <td>36165868</td>\n",
       "      <td>206</td>\n",
       "    </tr>\n",
       "    <tr>\n",
       "      <th>26664</th>\n",
       "      <td>37318510</td>\n",
       "      <td>50</td>\n",
       "    </tr>\n",
       "    <tr>\n",
       "      <th>27676</th>\n",
       "      <td>39329070</td>\n",
       "      <td>30</td>\n",
       "    </tr>\n",
       "    <tr>\n",
       "      <th>28741</th>\n",
       "      <td>41254765</td>\n",
       "      <td>42</td>\n",
       "    </tr>\n",
       "    <tr>\n",
       "      <th>28801</th>\n",
       "      <td>41351695</td>\n",
       "      <td>184</td>\n",
       "    </tr>\n",
       "    <tr>\n",
       "      <th>31262</th>\n",
       "      <td>45305942</td>\n",
       "      <td>982</td>\n",
       "    </tr>\n",
       "    <tr>\n",
       "      <th>32709</th>\n",
       "      <td>47966137</td>\n",
       "      <td>205</td>\n",
       "    </tr>\n",
       "    <tr>\n",
       "      <th>35264</th>\n",
       "      <td>52664201</td>\n",
       "      <td>81</td>\n",
       "    </tr>\n",
       "    <tr>\n",
       "      <th>37772</th>\n",
       "      <td>57235777</td>\n",
       "      <td>27</td>\n",
       "    </tr>\n",
       "    <tr>\n",
       "      <th>47508</th>\n",
       "      <td>74270662</td>\n",
       "      <td>206</td>\n",
       "    </tr>\n",
       "    <tr>\n",
       "      <th>47853</th>\n",
       "      <td>74975318</td>\n",
       "      <td>205</td>\n",
       "    </tr>\n",
       "  </tbody>\n",
       "</table>\n",
       "</div>"
      ],
      "text/plain": [
       "       cluster_id  Amount\n",
       "77          28307      36\n",
       "105         37409      28\n",
       "241         96277     268\n",
       "245         99153      29\n",
       "479        197396      30\n",
       "503        207413      47\n",
       "587        244025     119\n",
       "1560       685416      27\n",
       "1596       704991      35\n",
       "1666       730377      27\n",
       "1848       835420      30\n",
       "1852       836946      32\n",
       "1945       887937      32\n",
       "1975       902145      47\n",
       "2035       941003      26\n",
       "2144      1006110      33\n",
       "2231      1063839      26\n",
       "2282      1092304      64\n",
       "2399      1163995      29\n",
       "2568      1257145      27\n",
       "2771      1381570      38\n",
       "3022      1543882      62\n",
       "3316      1753422    1043\n",
       "3447      1850486      28\n",
       "4041      2294669      39\n",
       "4240      2456244      55\n",
       "4600      2751278      28\n",
       "4727      2848082      29\n",
       "5083      3133321     130\n",
       "5271      3295040      35\n",
       "5740      3730598      55\n",
       "7096      5071722      27\n",
       "8678      6680403      33\n",
       "9437      7780966     194\n",
       "10935    10626565     201\n",
       "11260    11332257     193\n",
       "18150    21021316     189\n",
       "19787    24321483     208\n",
       "20793    26217595     204\n",
       "22047    28526191      58\n",
       "22338    29067497     192\n",
       "22743    29931410     648\n",
       "23263    30995813     220\n",
       "23277    31045437      45\n",
       "23460    31453348     207\n",
       "24737    34016600     208\n",
       "26000    36165868     206\n",
       "26664    37318510      50\n",
       "27676    39329070      30\n",
       "28741    41254765      42\n",
       "28801    41351695     184\n",
       "31262    45305942     982\n",
       "32709    47966137     205\n",
       "35264    52664201      81\n",
       "37772    57235777      27\n",
       "47508    74270662     206\n",
       "47853    74975318     205"
      ]
     },
     "execution_count": 68,
     "metadata": {},
     "output_type": "execute_result"
    }
   ],
   "source": [
    "df_25_electronics=df_set_electronics[df_set_electronics['Amount']>25]\n",
    "df_25_electronics"
   ]
  },
  {
   "cell_type": "code",
   "execution_count": 69,
   "metadata": {},
   "outputs": [
    {
     "data": {
      "text/html": [
       "<div>\n",
       "<style scoped>\n",
       "    .dataframe tbody tr th:only-of-type {\n",
       "        vertical-align: middle;\n",
       "    }\n",
       "\n",
       "    .dataframe tbody tr th {\n",
       "        vertical-align: top;\n",
       "    }\n",
       "\n",
       "    .dataframe thead th {\n",
       "        text-align: right;\n",
       "    }\n",
       "</style>\n",
       "<table border=\"1\" class=\"dataframe\">\n",
       "  <thead>\n",
       "    <tr style=\"text-align: right;\">\n",
       "      <th></th>\n",
       "      <th>count</th>\n",
       "      <th>mean</th>\n",
       "      <th>std</th>\n",
       "      <th>min</th>\n",
       "      <th>25%</th>\n",
       "      <th>50%</th>\n",
       "      <th>75%</th>\n",
       "      <th>max</th>\n",
       "    </tr>\n",
       "  </thead>\n",
       "  <tbody>\n",
       "    <tr>\n",
       "      <th>Amount</th>\n",
       "      <td>57.0</td>\n",
       "      <td>133.0</td>\n",
       "      <td>200.0</td>\n",
       "      <td>26.0</td>\n",
       "      <td>30.0</td>\n",
       "      <td>47.0</td>\n",
       "      <td>194.0</td>\n",
       "      <td>1043.0</td>\n",
       "    </tr>\n",
       "  </tbody>\n",
       "</table>\n",
       "</div>"
      ],
      "text/plain": [
       "        count   mean    std   min   25%   50%    75%     max\n",
       "Amount   57.0  133.0  200.0  26.0  30.0  47.0  194.0  1043.0"
      ]
     },
     "execution_count": 69,
     "metadata": {},
     "output_type": "execute_result"
    }
   ],
   "source": [
    "df_25_electronics.set_index('cluster_id').describe().T.round()"
   ]
  },
  {
   "cell_type": "code",
   "execution_count": 70,
   "metadata": {},
   "outputs": [
    {
     "data": {
      "text/plain": [
       "<AxesSubplot:ylabel='Frequency'>"
      ]
     },
     "execution_count": 70,
     "metadata": {},
     "output_type": "execute_result"
    },
    {
     "data": {
      "image/png": "[encoded data removed]",
      "text/plain": [
       "<Figure size 432x288 with 1 Axes>"
      ]
     },
     "metadata": {
      "needs_background": "light"
     },
     "output_type": "display_data"
    }
   ],
   "source": [
    "df_25_electronics.plot(x='cluster_id',y='Amount',kind='hist')"
   ]
  },
  {
   "cell_type": "code",
   "execution_count": 93,
   "metadata": {},
   "outputs": [
    {
     "data": {
      "text/html": [
       "<div>\n",
       "<style scoped>\n",
       "    .dataframe tbody tr th:only-of-type {\n",
       "        vertical-align: middle;\n",
       "    }\n",
       "\n",
       "    .dataframe tbody tr th {\n",
       "        vertical-align: top;\n",
       "    }\n",
       "\n",
       "    .dataframe thead th {\n",
       "        text-align: right;\n",
       "    }\n",
       "</style>\n",
       "<table border=\"1\" class=\"dataframe\">\n",
       "  <thead>\n",
       "    <tr style=\"text-align: right;\">\n",
       "      <th></th>\n",
       "      <th>cluster_id</th>\n",
       "      <th>Amount</th>\n",
       "      <th>brand</th>\n",
       "    </tr>\n",
       "  </thead>\n",
       "  <tbody>\n",
       "    <tr>\n",
       "      <th>0</th>\n",
       "      <td>6076</td>\n",
       "      <td>19</td>\n",
       "      <td>canon</td>\n",
       "    </tr>\n",
       "    <tr>\n",
       "      <th>1</th>\n",
       "      <td>6505</td>\n",
       "      <td>16</td>\n",
       "      <td>apple</td>\n",
       "    </tr>\n",
       "    <tr>\n",
       "      <th>2</th>\n",
       "      <td>6690</td>\n",
       "      <td>20</td>\n",
       "      <td>cisco</td>\n",
       "    </tr>\n",
       "    <tr>\n",
       "      <th>3</th>\n",
       "      <td>7366</td>\n",
       "      <td>17</td>\n",
       "      <td>canon</td>\n",
       "    </tr>\n",
       "    <tr>\n",
       "      <th>4</th>\n",
       "      <td>9046</td>\n",
       "      <td>21</td>\n",
       "      <td>amd</td>\n",
       "    </tr>\n",
       "    <tr>\n",
       "      <th>...</th>\n",
       "      <td>...</td>\n",
       "      <td>...</td>\n",
       "      <td>...</td>\n",
       "    </tr>\n",
       "    <tr>\n",
       "      <th>147</th>\n",
       "      <td>57235777</td>\n",
       "      <td>27</td>\n",
       "      <td>samsung</td>\n",
       "    </tr>\n",
       "    <tr>\n",
       "      <th>148</th>\n",
       "      <td>67449101</td>\n",
       "      <td>24</td>\n",
       "      <td>xiaomi</td>\n",
       "    </tr>\n",
       "    <tr>\n",
       "      <th>149</th>\n",
       "      <td>68112533</td>\n",
       "      <td>17</td>\n",
       "      <td>samsung</td>\n",
       "    </tr>\n",
       "    <tr>\n",
       "      <th>150</th>\n",
       "      <td>74270662</td>\n",
       "      <td>206</td>\n",
       "      <td>flex</td>\n",
       "    </tr>\n",
       "    <tr>\n",
       "      <th>151</th>\n",
       "      <td>74975318</td>\n",
       "      <td>205</td>\n",
       "      <td>flex</td>\n",
       "    </tr>\n",
       "  </tbody>\n",
       "</table>\n",
       "<p>152 rows × 3 columns</p>\n",
       "</div>"
      ],
      "text/plain": [
       "     cluster_id  Amount    brand\n",
       "0          6076      19    canon\n",
       "1          6505      16    apple\n",
       "2          6690      20    cisco\n",
       "3          7366      17    canon\n",
       "4          9046      21      amd\n",
       "..          ...     ...      ...\n",
       "147    57235777      27  samsung\n",
       "148    67449101      24   xiaomi\n",
       "149    68112533      17  samsung\n",
       "150    74270662     206     flex\n",
       "151    74975318     205     flex\n",
       "\n",
       "[152 rows x 3 columns]"
      ]
     },
     "execution_count": 93,
     "metadata": {},
     "output_type": "execute_result"
    }
   ],
   "source": [
    "#merge brand name to cluster amount\n",
    "df_cluster_brand = df_15_electronics[df_15_electronics['Amount']<400].merge(df_joined_electronics.dropna()[['cluster_id','brand']].drop_duplicates('cluster_id', keep='last'), left_on=['cluster_id'], right_on = ['cluster_id'], how='left')\n",
    "df_cluster_brand"
   ]
  },
  {
   "cell_type": "code",
   "execution_count": 94,
   "metadata": {
    "scrolled": true
   },
   "outputs": [
    {
     "data": {
      "text/html": [
       "<div>\n",
       "<style scoped>\n",
       "    .dataframe tbody tr th:only-of-type {\n",
       "        vertical-align: middle;\n",
       "    }\n",
       "\n",
       "    .dataframe tbody tr th {\n",
       "        vertical-align: top;\n",
       "    }\n",
       "\n",
       "    .dataframe thead th {\n",
       "        text-align: right;\n",
       "    }\n",
       "</style>\n",
       "<table border=\"1\" class=\"dataframe\">\n",
       "  <thead>\n",
       "    <tr style=\"text-align: right;\">\n",
       "      <th></th>\n",
       "      <th>cluster_id</th>\n",
       "      <th>Amount</th>\n",
       "      <th>brand</th>\n",
       "    </tr>\n",
       "  </thead>\n",
       "  <tbody>\n",
       "    <tr>\n",
       "      <th>15</th>\n",
       "      <td>96277</td>\n",
       "      <td>268</td>\n",
       "      <td>sony</td>\n",
       "    </tr>\n",
       "    <tr>\n",
       "      <th>129</th>\n",
       "      <td>30995813</td>\n",
       "      <td>220</td>\n",
       "      <td>flex</td>\n",
       "    </tr>\n",
       "    <tr>\n",
       "      <th>110</th>\n",
       "      <td>3133321</td>\n",
       "      <td>130</td>\n",
       "      <td>canon</td>\n",
       "    </tr>\n",
       "    <tr>\n",
       "      <th>145</th>\n",
       "      <td>52664201</td>\n",
       "      <td>81</td>\n",
       "      <td>samsung</td>\n",
       "    </tr>\n",
       "    <tr>\n",
       "      <th>112</th>\n",
       "      <td>3730598</td>\n",
       "      <td>55</td>\n",
       "      <td>hp</td>\n",
       "    </tr>\n",
       "    <tr>\n",
       "      <th>27</th>\n",
       "      <td>207413</td>\n",
       "      <td>47</td>\n",
       "      <td>intel</td>\n",
       "    </tr>\n",
       "    <tr>\n",
       "      <th>83</th>\n",
       "      <td>1381570</td>\n",
       "      <td>38</td>\n",
       "      <td>apple</td>\n",
       "    </tr>\n",
       "    <tr>\n",
       "      <th>52</th>\n",
       "      <td>704991</td>\n",
       "      <td>35</td>\n",
       "      <td>nikon</td>\n",
       "    </tr>\n",
       "    <tr>\n",
       "      <th>71</th>\n",
       "      <td>1006110</td>\n",
       "      <td>33</td>\n",
       "      <td>resonant</td>\n",
       "    </tr>\n",
       "    <tr>\n",
       "      <th>60</th>\n",
       "      <td>835420</td>\n",
       "      <td>30</td>\n",
       "      <td>amd</td>\n",
       "    </tr>\n",
       "    <tr>\n",
       "      <th>16</th>\n",
       "      <td>99153</td>\n",
       "      <td>29</td>\n",
       "      <td>asus</td>\n",
       "    </tr>\n",
       "    <tr>\n",
       "      <th>5</th>\n",
       "      <td>14418</td>\n",
       "      <td>25</td>\n",
       "      <td>panasonic</td>\n",
       "    </tr>\n",
       "    <tr>\n",
       "      <th>148</th>\n",
       "      <td>67449101</td>\n",
       "      <td>24</td>\n",
       "      <td>xiaomi</td>\n",
       "    </tr>\n",
       "    <tr>\n",
       "      <th>44</th>\n",
       "      <td>562955</td>\n",
       "      <td>23</td>\n",
       "      <td>cisco</td>\n",
       "    </tr>\n",
       "  </tbody>\n",
       "</table>\n",
       "</div>"
      ],
      "text/plain": [
       "     cluster_id  Amount      brand\n",
       "15        96277     268       sony\n",
       "129    30995813     220       flex\n",
       "110     3133321     130      canon\n",
       "145    52664201      81    samsung\n",
       "112     3730598      55         hp\n",
       "27       207413      47      intel\n",
       "83      1381570      38      apple\n",
       "52       704991      35      nikon\n",
       "71      1006110      33   resonant\n",
       "60       835420      30        amd\n",
       "16        99153      29       asus\n",
       "5         14418      25  panasonic\n",
       "148    67449101      24     xiaomi\n",
       "44       562955      23      cisco"
      ]
     },
     "execution_count": 94,
     "metadata": {},
     "output_type": "execute_result"
    }
   ],
   "source": [
    "#get the top clusters per brand\n",
    "df_top_clusters = df_cluster_brand.sort_values(['Amount'], ascending=False).drop_duplicates(subset=[\"brand\"], keep=\"first\")\n",
    "df_top_clusters"
   ]
  },
  {
   "cell_type": "code",
   "execution_count": 95,
   "metadata": {},
   "outputs": [],
   "source": [
    "pd.set_option('display.max_colwidth', None)"
   ]
  },
  {
   "cell_type": "code",
   "execution_count": 115,
   "metadata": {},
   "outputs": [
    {
     "data": {
      "text/html": [
       "<div>\n",
       "<style scoped>\n",
       "    .dataframe tbody tr th:only-of-type {\n",
       "        vertical-align: middle;\n",
       "    }\n",
       "\n",
       "    .dataframe tbody tr th {\n",
       "        vertical-align: top;\n",
       "    }\n",
       "\n",
       "    .dataframe thead th {\n",
       "        text-align: right;\n",
       "    }\n",
       "</style>\n",
       "<table border=\"1\" class=\"dataframe\">\n",
       "  <thead>\n",
       "    <tr style=\"text-align: right;\">\n",
       "      <th></th>\n",
       "      <th>cluster_id</th>\n",
       "      <th>url</th>\n",
       "      <th>row_id</th>\n",
       "      <th>table_id</th>\n",
       "      <th>Valid</th>\n",
       "      <th>brand</th>\n",
       "    </tr>\n",
       "  </thead>\n",
       "  <tbody>\n",
       "    <tr>\n",
       "      <th>2208454</th>\n",
       "      <td>52664201</td>\n",
       "      <td>https://www.uccyclery.com/product/delta-mini-tablet-holder-242436-1.htm</td>\n",
       "      <td>715</td>\n",
       "      <td>Product_uccyclery.com_September2020.json.gz</td>\n",
       "      <td>1</td>\n",
       "      <td>None</td>\n",
       "    </tr>\n",
       "    <tr>\n",
       "      <th>2400705</th>\n",
       "      <td>52664201</td>\n",
       "      <td>https://www.alamedabicycle.com/product/delta-mini-tablet-holder-242436-1.htm</td>\n",
       "      <td>836</td>\n",
       "      <td>Product_alamedabicycle.com_September2020.json.gz</td>\n",
       "      <td>1</td>\n",
       "      <td>None</td>\n",
       "    </tr>\n",
       "    <tr>\n",
       "      <th>2508821</th>\n",
       "      <td>52664201</td>\n",
       "      <td>https://www.actionsportsbicyclecenter.com/product/delta-mini-tablet-holder-242436-1.htm</td>\n",
       "      <td>192</td>\n",
       "      <td>Product_actionsportsbicyclecenter.com_September2020.json.gz</td>\n",
       "      <td>1</td>\n",
       "      <td>None</td>\n",
       "    </tr>\n",
       "    <tr>\n",
       "      <th>2539508</th>\n",
       "      <td>52664201</td>\n",
       "      <td>https://www.bicycleseast.com/product/delta-mini-tablet-holder-242436-1.htm</td>\n",
       "      <td>238</td>\n",
       "      <td>Product_bicycleseast.com_September2020.json.gz</td>\n",
       "      <td>1</td>\n",
       "      <td>None</td>\n",
       "    </tr>\n",
       "    <tr>\n",
       "      <th>2573533</th>\n",
       "      <td>52664201</td>\n",
       "      <td>https://www.andyjordans.com/product/delta-mini-tablet-holder-242436-1.htm</td>\n",
       "      <td>964</td>\n",
       "      <td>Product_andyjordans.com_September2020.json.gz</td>\n",
       "      <td>1</td>\n",
       "      <td>None</td>\n",
       "    </tr>\n",
       "    <tr>\n",
       "      <th>...</th>\n",
       "      <td>...</td>\n",
       "      <td>...</td>\n",
       "      <td>...</td>\n",
       "      <td>...</td>\n",
       "      <td>...</td>\n",
       "      <td>...</td>\n",
       "    </tr>\n",
       "    <tr>\n",
       "      <th>23236154</th>\n",
       "      <td>52664201</td>\n",
       "      <td>https://www.meadsbikeshop.com/product/delta-mini-tablet-holder-242436-1.htm</td>\n",
       "      <td>889</td>\n",
       "      <td>Product_meadsbikeshop.com_September2020.json.gz</td>\n",
       "      <td>1</td>\n",
       "      <td>None</td>\n",
       "    </tr>\n",
       "    <tr>\n",
       "      <th>23565772</th>\n",
       "      <td>52664201</td>\n",
       "      <td>https://www.ryderbikes.com/product/delta-mini-tablet-holder-242436-1.htm</td>\n",
       "      <td>865</td>\n",
       "      <td>Product_ryderbikes.com_September2020.json.gz</td>\n",
       "      <td>1</td>\n",
       "      <td>None</td>\n",
       "    </tr>\n",
       "    <tr>\n",
       "      <th>24162317</th>\n",
       "      <td>52664201</td>\n",
       "      <td>https://www.finishlinebikes.com/product/delta-mini-tablet-holder-242436-1.htm</td>\n",
       "      <td>1002</td>\n",
       "      <td>Product_finishlinebikes.com_September2020.json.gz</td>\n",
       "      <td>1</td>\n",
       "      <td>None</td>\n",
       "    </tr>\n",
       "    <tr>\n",
       "      <th>24253484</th>\n",
       "      <td>52664201</td>\n",
       "      <td>https://www.outspokin.net/product/delta-mini-tablet-holder-242436-1.htm</td>\n",
       "      <td>1125</td>\n",
       "      <td>Product_outspokin.net_September2020.json.gz</td>\n",
       "      <td>1</td>\n",
       "      <td>None</td>\n",
       "    </tr>\n",
       "    <tr>\n",
       "      <th>24677210</th>\n",
       "      <td>52664201</td>\n",
       "      <td>https://www.nickscf.com/product/delta-mini-tablet-holder-242436-1.htm</td>\n",
       "      <td>109</td>\n",
       "      <td>Product_nickscf.com_September2020.json.gz</td>\n",
       "      <td>1</td>\n",
       "      <td>None</td>\n",
       "    </tr>\n",
       "  </tbody>\n",
       "</table>\n",
       "<p>81 rows × 6 columns</p>\n",
       "</div>"
      ],
      "text/plain": [
       "          cluster_id  \\\n",
       "2208454     52664201   \n",
       "2400705     52664201   \n",
       "2508821     52664201   \n",
       "2539508     52664201   \n",
       "2573533     52664201   \n",
       "...              ...   \n",
       "23236154    52664201   \n",
       "23565772    52664201   \n",
       "24162317    52664201   \n",
       "24253484    52664201   \n",
       "24677210    52664201   \n",
       "\n",
       "                                                                                              url  \\\n",
       "2208454                   https://www.uccyclery.com/product/delta-mini-tablet-holder-242436-1.htm   \n",
       "2400705              https://www.alamedabicycle.com/product/delta-mini-tablet-holder-242436-1.htm   \n",
       "2508821   https://www.actionsportsbicyclecenter.com/product/delta-mini-tablet-holder-242436-1.htm   \n",
       "2539508                https://www.bicycleseast.com/product/delta-mini-tablet-holder-242436-1.htm   \n",
       "2573533                 https://www.andyjordans.com/product/delta-mini-tablet-holder-242436-1.htm   \n",
       "...                                                                                           ...   \n",
       "23236154              https://www.meadsbikeshop.com/product/delta-mini-tablet-holder-242436-1.htm   \n",
       "23565772                 https://www.ryderbikes.com/product/delta-mini-tablet-holder-242436-1.htm   \n",
       "24162317            https://www.finishlinebikes.com/product/delta-mini-tablet-holder-242436-1.htm   \n",
       "24253484                  https://www.outspokin.net/product/delta-mini-tablet-holder-242436-1.htm   \n",
       "24677210                    https://www.nickscf.com/product/delta-mini-tablet-holder-242436-1.htm   \n",
       "\n",
       "          row_id                                                     table_id  \\\n",
       "2208454      715                  Product_uccyclery.com_September2020.json.gz   \n",
       "2400705      836             Product_alamedabicycle.com_September2020.json.gz   \n",
       "2508821      192  Product_actionsportsbicyclecenter.com_September2020.json.gz   \n",
       "2539508      238               Product_bicycleseast.com_September2020.json.gz   \n",
       "2573533      964                Product_andyjordans.com_September2020.json.gz   \n",
       "...          ...                                                          ...   \n",
       "23236154     889              Product_meadsbikeshop.com_September2020.json.gz   \n",
       "23565772     865                 Product_ryderbikes.com_September2020.json.gz   \n",
       "24162317    1002            Product_finishlinebikes.com_September2020.json.gz   \n",
       "24253484    1125                  Product_outspokin.net_September2020.json.gz   \n",
       "24677210     109                    Product_nickscf.com_September2020.json.gz   \n",
       "\n",
       "          Valid brand  \n",
       "2208454       1  None  \n",
       "2400705       1  None  \n",
       "2508821       1  None  \n",
       "2539508       1  None  \n",
       "2573533       1  None  \n",
       "...         ...   ...  \n",
       "23236154      1  None  \n",
       "23565772      1  None  \n",
       "24162317      1  None  \n",
       "24253484      1  None  \n",
       "24677210      1  None  \n",
       "\n",
       "[81 rows x 6 columns]"
      ]
     },
     "execution_count": 115,
     "metadata": {},
     "output_type": "execute_result"
    }
   ],
   "source": [
    "df_joined_electronics[(df_joined_electronics['cluster_id']==52664201)]"
   ]
  },
  {
   "cell_type": "code",
   "execution_count": 118,
   "metadata": {},
   "outputs": [],
   "source": [
    "#get a new column with the product names from the url\n",
    "df_joined_electronics['product_name'] = df_joined_electronics['url'].apply(lambda row: row.split(\"/\")[-1])"
   ]
  },
  {
   "cell_type": "code",
   "execution_count": 119,
   "metadata": {},
   "outputs": [
    {
     "data": {
      "text/html": [
       "<div>\n",
       "<style scoped>\n",
       "    .dataframe tbody tr th:only-of-type {\n",
       "        vertical-align: middle;\n",
       "    }\n",
       "\n",
       "    .dataframe tbody tr th {\n",
       "        vertical-align: top;\n",
       "    }\n",
       "\n",
       "    .dataframe thead th {\n",
       "        text-align: right;\n",
       "    }\n",
       "</style>\n",
       "<table border=\"1\" class=\"dataframe\">\n",
       "  <thead>\n",
       "    <tr style=\"text-align: right;\">\n",
       "      <th></th>\n",
       "      <th>cluster_id</th>\n",
       "      <th>url</th>\n",
       "      <th>row_id</th>\n",
       "      <th>table_id</th>\n",
       "      <th>Valid</th>\n",
       "      <th>brand</th>\n",
       "      <th>product_name</th>\n",
       "    </tr>\n",
       "  </thead>\n",
       "  <tbody>\n",
       "    <tr>\n",
       "      <th>0</th>\n",
       "      <td>59178314</td>\n",
       "      <td>https://www.cultureindoor.com/796-irrigation-arrosage-tuyau-pe-20mm-semi-rigide-rouleau-100m.html</td>\n",
       "      <td>1561</td>\n",
       "      <td>Product_cultureindoor.com_September2020.json.gz</td>\n",
       "      <td>1</td>\n",
       "      <td>None</td>\n",
       "      <td>796-irrigation-arrosage-tuyau-pe-20mm-semi-rigide-rouleau-100m.html</td>\n",
       "    </tr>\n",
       "    <tr>\n",
       "      <th>1</th>\n",
       "      <td>70692685</td>\n",
       "      <td>https://www.culturekings.com/products/new-era-new-era-new-orleans-pelicans-nba-940-a-frame-snapback-black</td>\n",
       "      <td>3893</td>\n",
       "      <td>Product_culturekings.com_September2020.json.gz</td>\n",
       "      <td>1</td>\n",
       "      <td>None</td>\n",
       "      <td>new-era-new-era-new-orleans-pelicans-nba-940-a-frame-snapback-black</td>\n",
       "    </tr>\n",
       "    <tr>\n",
       "      <th>2</th>\n",
       "      <td>395606</td>\n",
       "      <td>https://www.culturekings.com/products/new-era-x-nrl-west-tigers-aframe-charcoal-orange</td>\n",
       "      <td>3894</td>\n",
       "      <td>Product_culturekings.com_September2020.json.gz</td>\n",
       "      <td>1</td>\n",
       "      <td>None</td>\n",
       "      <td>new-era-x-nrl-west-tigers-aframe-charcoal-orange</td>\n",
       "    </tr>\n",
       "    <tr>\n",
       "      <th>3</th>\n",
       "      <td>3361797</td>\n",
       "      <td>https://www.customizedgirl.com/design/2605608/The+Real+Baseball+Moms</td>\n",
       "      <td>9318</td>\n",
       "      <td>Product_customizedgirl.com_September2020.json.gz</td>\n",
       "      <td>1</td>\n",
       "      <td>None</td>\n",
       "      <td>The+Real+Baseball+Moms</td>\n",
       "    </tr>\n",
       "    <tr>\n",
       "      <th>4</th>\n",
       "      <td>235755</td>\n",
       "      <td>https://www.customizedgirl.com/design/2613423/Mentally+Dating+Ronaldo</td>\n",
       "      <td>9319</td>\n",
       "      <td>Product_customizedgirl.com_September2020.json.gz</td>\n",
       "      <td>1</td>\n",
       "      <td>None</td>\n",
       "      <td>Mentally+Dating+Ronaldo</td>\n",
       "    </tr>\n",
       "    <tr>\n",
       "      <th>...</th>\n",
       "      <td>...</td>\n",
       "      <td>...</td>\n",
       "      <td>...</td>\n",
       "      <td>...</td>\n",
       "      <td>...</td>\n",
       "      <td>...</td>\n",
       "      <td>...</td>\n",
       "    </tr>\n",
       "    <tr>\n",
       "      <th>24687502</th>\n",
       "      <td>8653717</td>\n",
       "      <td>https://shop-list.com/women/utuwa-tatara/sg3232-03</td>\n",
       "      <td>1620</td>\n",
       "      <td>Product_shop-list.com_September2020.json.gz</td>\n",
       "      <td>1</td>\n",
       "      <td>None</td>\n",
       "      <td>sg3232-03</td>\n",
       "    </tr>\n",
       "    <tr>\n",
       "      <th>24687503</th>\n",
       "      <td>22258637</td>\n",
       "      <td>https://shop-list.com/women/youmotto/famille-ltm</td>\n",
       "      <td>1621</td>\n",
       "      <td>Product_shop-list.com_September2020.json.gz</td>\n",
       "      <td>1</td>\n",
       "      <td>None</td>\n",
       "      <td>famille-ltm</td>\n",
       "    </tr>\n",
       "    <tr>\n",
       "      <th>24687504</th>\n",
       "      <td>41434658</td>\n",
       "      <td>https://shop.agwaycapecod.com/products/019014710959/adult-small-breed-dog-food-5-lb</td>\n",
       "      <td>126</td>\n",
       "      <td>Product_agwaycapecod.com_September2020.json.gz</td>\n",
       "      <td>1</td>\n",
       "      <td>None</td>\n",
       "      <td>adult-small-breed-dog-food-5-lb</td>\n",
       "    </tr>\n",
       "    <tr>\n",
       "      <th>24687505</th>\n",
       "      <td>62702145</td>\n",
       "      <td>https://shop.agwaycapecod.com/products/037321455042/ant-killer-dust-3-lbs</td>\n",
       "      <td>127</td>\n",
       "      <td>Product_agwaycapecod.com_September2020.json.gz</td>\n",
       "      <td>1</td>\n",
       "      <td>None</td>\n",
       "      <td>ant-killer-dust-3-lbs</td>\n",
       "    </tr>\n",
       "    <tr>\n",
       "      <th>24687506</th>\n",
       "      <td>60936713</td>\n",
       "      <td>https://shop.areefcreation.com/products/ls-apr-344b</td>\n",
       "      <td>120</td>\n",
       "      <td>Product_areefcreation.com_September2020.json.gz</td>\n",
       "      <td>1</td>\n",
       "      <td>None</td>\n",
       "      <td>ls-apr-344b</td>\n",
       "    </tr>\n",
       "  </tbody>\n",
       "</table>\n",
       "<p>24687507 rows × 7 columns</p>\n",
       "</div>"
      ],
      "text/plain": [
       "          cluster_id  \\\n",
       "0           59178314   \n",
       "1           70692685   \n",
       "2             395606   \n",
       "3            3361797   \n",
       "4             235755   \n",
       "...              ...   \n",
       "24687502     8653717   \n",
       "24687503    22258637   \n",
       "24687504    41434658   \n",
       "24687505    62702145   \n",
       "24687506    60936713   \n",
       "\n",
       "                                                                                                                url  \\\n",
       "0                 https://www.cultureindoor.com/796-irrigation-arrosage-tuyau-pe-20mm-semi-rigide-rouleau-100m.html   \n",
       "1         https://www.culturekings.com/products/new-era-new-era-new-orleans-pelicans-nba-940-a-frame-snapback-black   \n",
       "2                            https://www.culturekings.com/products/new-era-x-nrl-west-tigers-aframe-charcoal-orange   \n",
       "3                                              https://www.customizedgirl.com/design/2605608/The+Real+Baseball+Moms   \n",
       "4                                             https://www.customizedgirl.com/design/2613423/Mentally+Dating+Ronaldo   \n",
       "...                                                                                                             ...   \n",
       "24687502                                                         https://shop-list.com/women/utuwa-tatara/sg3232-03   \n",
       "24687503                                                           https://shop-list.com/women/youmotto/famille-ltm   \n",
       "24687504                        https://shop.agwaycapecod.com/products/019014710959/adult-small-breed-dog-food-5-lb   \n",
       "24687505                                  https://shop.agwaycapecod.com/products/037321455042/ant-killer-dust-3-lbs   \n",
       "24687506                                                        https://shop.areefcreation.com/products/ls-apr-344b   \n",
       "\n",
       "          row_id                                          table_id  Valid  \\\n",
       "0           1561   Product_cultureindoor.com_September2020.json.gz      1   \n",
       "1           3893    Product_culturekings.com_September2020.json.gz      1   \n",
       "2           3894    Product_culturekings.com_September2020.json.gz      1   \n",
       "3           9318  Product_customizedgirl.com_September2020.json.gz      1   \n",
       "4           9319  Product_customizedgirl.com_September2020.json.gz      1   \n",
       "...          ...                                               ...    ...   \n",
       "24687502    1620       Product_shop-list.com_September2020.json.gz      1   \n",
       "24687503    1621       Product_shop-list.com_September2020.json.gz      1   \n",
       "24687504     126    Product_agwaycapecod.com_September2020.json.gz      1   \n",
       "24687505     127    Product_agwaycapecod.com_September2020.json.gz      1   \n",
       "24687506     120   Product_areefcreation.com_September2020.json.gz      1   \n",
       "\n",
       "         brand  \\\n",
       "0         None   \n",
       "1         None   \n",
       "2         None   \n",
       "3         None   \n",
       "4         None   \n",
       "...        ...   \n",
       "24687502  None   \n",
       "24687503  None   \n",
       "24687504  None   \n",
       "24687505  None   \n",
       "24687506  None   \n",
       "\n",
       "                                                                 product_name  \n",
       "0         796-irrigation-arrosage-tuyau-pe-20mm-semi-rigide-rouleau-100m.html  \n",
       "1         new-era-new-era-new-orleans-pelicans-nba-940-a-frame-snapback-black  \n",
       "2                            new-era-x-nrl-west-tigers-aframe-charcoal-orange  \n",
       "3                                                      The+Real+Baseball+Moms  \n",
       "4                                                     Mentally+Dating+Ronaldo  \n",
       "...                                                                       ...  \n",
       "24687502                                                            sg3232-03  \n",
       "24687503                                                          famille-ltm  \n",
       "24687504                                      adult-small-breed-dog-food-5-lb  \n",
       "24687505                                                ant-killer-dust-3-lbs  \n",
       "24687506                                                          ls-apr-344b  \n",
       "\n",
       "[24687507 rows x 7 columns]"
      ]
     },
     "execution_count": 119,
     "metadata": {},
     "output_type": "execute_result"
    }
   ],
   "source": [
    "df_joined_electronics"
   ]
  },
  {
   "cell_type": "markdown",
   "metadata": {},
   "source": [
    "## Cluster statistics for product category clothes"
   ]
  },
  {
   "cell_type": "code",
   "execution_count": null,
   "metadata": {},
   "outputs": [],
   "source": [
    "df_grouped_clothes = df_joined_clothes.groupby('cluster_id').count()"
   ]
  },
  {
   "cell_type": "code",
   "execution_count": null,
   "metadata": {},
   "outputs": [],
   "source": [
    "# only look at clusters that have at least one brand associated\n",
    "df_set_clothes = df_grouped_clothes[df_grouped_clothes['brand']>0].reset_index()[['cluster_id','table_id']].rename(columns={'table_id':'Amount'})"
   ]
  },
  {
   "cell_type": "code",
   "execution_count": null,
   "metadata": {},
   "outputs": [],
   "source": [
    "# We discard all clusters with less than 2 entries, cause we cannot match anything there, so 1,6 million clusters remain\n",
    "df_set_clothes=df_set_clothes[df_set_clothes['Amount']>1]\n",
    "df_set_clothes"
   ]
  },
  {
   "cell_type": "code",
   "execution_count": null,
   "metadata": {},
   "outputs": [],
   "source": [
    "df_set_clothes.set_index('cluster_id').describe().T.round()"
   ]
  },
  {
   "cell_type": "code",
   "execution_count": null,
   "metadata": {},
   "outputs": [],
   "source": [
    "df_set_clothes.plot(x='cluster_id',y='Amount',kind='hist')"
   ]
  },
  {
   "cell_type": "code",
   "execution_count": null,
   "metadata": {},
   "outputs": [],
   "source": [
    "# filter on clusters with more entries to get information, here are still 20k clusters left\n",
    "df_5_clothes=df_set_clothes[df_set_clothes['Amount']>5]\n",
    "df_5_clothes"
   ]
  },
  {
   "cell_type": "code",
   "execution_count": null,
   "metadata": {},
   "outputs": [],
   "source": [
    "df_5_clothes.set_index('cluster_id').describe().T.round()"
   ]
  },
  {
   "cell_type": "code",
   "execution_count": null,
   "metadata": {},
   "outputs": [],
   "source": [
    "df_5_clothes.plot(x='cluster_id',y='Amount',kind='hist')"
   ]
  },
  {
   "cell_type": "code",
   "execution_count": null,
   "metadata": {},
   "outputs": [],
   "source": [
    "df_15_clothes=df_set_clothes[df_set_clothes['Amount']>10]\n",
    "df_15_clothes"
   ]
  },
  {
   "cell_type": "code",
   "execution_count": null,
   "metadata": {},
   "outputs": [],
   "source": [
    "df_15_clothes.set_index('cluster_id').describe().T.round()"
   ]
  },
  {
   "cell_type": "code",
   "execution_count": null,
   "metadata": {},
   "outputs": [],
   "source": [
    "df_15_clothes.plot(x='cluster_id',y='Amount',kind='hist')"
   ]
  },
  {
   "cell_type": "markdown",
   "metadata": {},
   "source": [
    "## Get information about the cluster distribution per table to get a first glance at which tables for which clusters have an overlap to get good training data"
   ]
  },
  {
   "cell_type": "markdown",
   "metadata": {},
   "source": [
    "#### Have at first a look at electronic products"
   ]
  },
  {
   "cell_type": "code",
   "execution_count": 51,
   "metadata": {},
   "outputs": [
    {
     "data": {
      "text/html": [
       "<div>\n",
       "<style scoped>\n",
       "    .dataframe tbody tr th:only-of-type {\n",
       "        vertical-align: middle;\n",
       "    }\n",
       "\n",
       "    .dataframe tbody tr th {\n",
       "        vertical-align: top;\n",
       "    }\n",
       "\n",
       "    .dataframe thead th {\n",
       "        text-align: right;\n",
       "    }\n",
       "</style>\n",
       "<table border=\"1\" class=\"dataframe\">\n",
       "  <thead>\n",
       "    <tr style=\"text-align: right;\">\n",
       "      <th></th>\n",
       "      <th>cluster_id</th>\n",
       "      <th>url</th>\n",
       "      <th>row_id</th>\n",
       "      <th>table_id</th>\n",
       "      <th>Valid</th>\n",
       "      <th>brand</th>\n",
       "    </tr>\n",
       "  </thead>\n",
       "  <tbody>\n",
       "    <tr>\n",
       "      <th>0</th>\n",
       "      <td>59178314</td>\n",
       "      <td>https://www.cultureindoor.com/796-irrigation-a...</td>\n",
       "      <td>1561</td>\n",
       "      <td>Product_cultureindoor.com_September2020.json.gz</td>\n",
       "      <td>1</td>\n",
       "      <td>None</td>\n",
       "    </tr>\n",
       "    <tr>\n",
       "      <th>1</th>\n",
       "      <td>70692685</td>\n",
       "      <td>https://www.culturekings.com/products/new-era-...</td>\n",
       "      <td>3893</td>\n",
       "      <td>Product_culturekings.com_September2020.json.gz</td>\n",
       "      <td>1</td>\n",
       "      <td>None</td>\n",
       "    </tr>\n",
       "    <tr>\n",
       "      <th>2</th>\n",
       "      <td>395606</td>\n",
       "      <td>https://www.culturekings.com/products/new-era-...</td>\n",
       "      <td>3894</td>\n",
       "      <td>Product_culturekings.com_September2020.json.gz</td>\n",
       "      <td>1</td>\n",
       "      <td>None</td>\n",
       "    </tr>\n",
       "    <tr>\n",
       "      <th>3</th>\n",
       "      <td>3361797</td>\n",
       "      <td>https://www.customizedgirl.com/design/2605608/...</td>\n",
       "      <td>9318</td>\n",
       "      <td>Product_customizedgirl.com_September2020.json.gz</td>\n",
       "      <td>1</td>\n",
       "      <td>None</td>\n",
       "    </tr>\n",
       "    <tr>\n",
       "      <th>4</th>\n",
       "      <td>235755</td>\n",
       "      <td>https://www.customizedgirl.com/design/2613423/...</td>\n",
       "      <td>9319</td>\n",
       "      <td>Product_customizedgirl.com_September2020.json.gz</td>\n",
       "      <td>1</td>\n",
       "      <td>None</td>\n",
       "    </tr>\n",
       "    <tr>\n",
       "      <th>...</th>\n",
       "      <td>...</td>\n",
       "      <td>...</td>\n",
       "      <td>...</td>\n",
       "      <td>...</td>\n",
       "      <td>...</td>\n",
       "      <td>...</td>\n",
       "    </tr>\n",
       "    <tr>\n",
       "      <th>24687502</th>\n",
       "      <td>8653717</td>\n",
       "      <td>https://shop-list.com/women/utuwa-tatara/sg323...</td>\n",
       "      <td>1620</td>\n",
       "      <td>Product_shop-list.com_September2020.json.gz</td>\n",
       "      <td>1</td>\n",
       "      <td>None</td>\n",
       "    </tr>\n",
       "    <tr>\n",
       "      <th>24687503</th>\n",
       "      <td>22258637</td>\n",
       "      <td>https://shop-list.com/women/youmotto/famille-ltm</td>\n",
       "      <td>1621</td>\n",
       "      <td>Product_shop-list.com_September2020.json.gz</td>\n",
       "      <td>1</td>\n",
       "      <td>None</td>\n",
       "    </tr>\n",
       "    <tr>\n",
       "      <th>24687504</th>\n",
       "      <td>41434658</td>\n",
       "      <td>https://shop.agwaycapecod.com/products/0190147...</td>\n",
       "      <td>126</td>\n",
       "      <td>Product_agwaycapecod.com_September2020.json.gz</td>\n",
       "      <td>1</td>\n",
       "      <td>None</td>\n",
       "    </tr>\n",
       "    <tr>\n",
       "      <th>24687505</th>\n",
       "      <td>62702145</td>\n",
       "      <td>https://shop.agwaycapecod.com/products/0373214...</td>\n",
       "      <td>127</td>\n",
       "      <td>Product_agwaycapecod.com_September2020.json.gz</td>\n",
       "      <td>1</td>\n",
       "      <td>None</td>\n",
       "    </tr>\n",
       "    <tr>\n",
       "      <th>24687506</th>\n",
       "      <td>60936713</td>\n",
       "      <td>https://shop.areefcreation.com/products/ls-apr...</td>\n",
       "      <td>120</td>\n",
       "      <td>Product_areefcreation.com_September2020.json.gz</td>\n",
       "      <td>1</td>\n",
       "      <td>None</td>\n",
       "    </tr>\n",
       "  </tbody>\n",
       "</table>\n",
       "<p>24687507 rows × 6 columns</p>\n",
       "</div>"
      ],
      "text/plain": [
       "          cluster_id                                                url  \\\n",
       "0           59178314  https://www.cultureindoor.com/796-irrigation-a...   \n",
       "1           70692685  https://www.culturekings.com/products/new-era-...   \n",
       "2             395606  https://www.culturekings.com/products/new-era-...   \n",
       "3            3361797  https://www.customizedgirl.com/design/2605608/...   \n",
       "4             235755  https://www.customizedgirl.com/design/2613423/...   \n",
       "...              ...                                                ...   \n",
       "24687502     8653717  https://shop-list.com/women/utuwa-tatara/sg323...   \n",
       "24687503    22258637   https://shop-list.com/women/youmotto/famille-ltm   \n",
       "24687504    41434658  https://shop.agwaycapecod.com/products/0190147...   \n",
       "24687505    62702145  https://shop.agwaycapecod.com/products/0373214...   \n",
       "24687506    60936713  https://shop.areefcreation.com/products/ls-apr...   \n",
       "\n",
       "          row_id                                          table_id  Valid  \\\n",
       "0           1561   Product_cultureindoor.com_September2020.json.gz      1   \n",
       "1           3893    Product_culturekings.com_September2020.json.gz      1   \n",
       "2           3894    Product_culturekings.com_September2020.json.gz      1   \n",
       "3           9318  Product_customizedgirl.com_September2020.json.gz      1   \n",
       "4           9319  Product_customizedgirl.com_September2020.json.gz      1   \n",
       "...          ...                                               ...    ...   \n",
       "24687502    1620       Product_shop-list.com_September2020.json.gz      1   \n",
       "24687503    1621       Product_shop-list.com_September2020.json.gz      1   \n",
       "24687504     126    Product_agwaycapecod.com_September2020.json.gz      1   \n",
       "24687505     127    Product_agwaycapecod.com_September2020.json.gz      1   \n",
       "24687506     120   Product_areefcreation.com_September2020.json.gz      1   \n",
       "\n",
       "         brand  \n",
       "0         None  \n",
       "1         None  \n",
       "2         None  \n",
       "3         None  \n",
       "4         None  \n",
       "...        ...  \n",
       "24687502  None  \n",
       "24687503  None  \n",
       "24687504  None  \n",
       "24687505  None  \n",
       "24687506  None  \n",
       "\n",
       "[24687507 rows x 6 columns]"
      ]
     },
     "execution_count": 51,
     "metadata": {},
     "output_type": "execute_result"
    }
   ],
   "source": [
    "df_joined_electronics"
   ]
  },
  {
   "cell_type": "code",
   "execution_count": 52,
   "metadata": {},
   "outputs": [],
   "source": [
    "df_grouped_electronics_tables = df_joined_electronics.groupby('table_id').count()"
   ]
  },
  {
   "cell_type": "code",
   "execution_count": 53,
   "metadata": {},
   "outputs": [],
   "source": [
    "# only look at clusters that have at least one brand associated\n",
    "df_set_electronics_tables = df_grouped_electronics_tables[df_grouped_electronics_tables['brand']>0].reset_index()[['cluster_id','table_id']].rename(columns={'cluster_id':'Amount'})"
   ]
  },
  {
   "cell_type": "code",
   "execution_count": 54,
   "metadata": {},
   "outputs": [
    {
     "data": {
      "text/html": [
       "<div>\n",
       "<style scoped>\n",
       "    .dataframe tbody tr th:only-of-type {\n",
       "        vertical-align: middle;\n",
       "    }\n",
       "\n",
       "    .dataframe tbody tr th {\n",
       "        vertical-align: top;\n",
       "    }\n",
       "\n",
       "    .dataframe thead th {\n",
       "        text-align: right;\n",
       "    }\n",
       "</style>\n",
       "<table border=\"1\" class=\"dataframe\">\n",
       "  <thead>\n",
       "    <tr style=\"text-align: right;\">\n",
       "      <th></th>\n",
       "      <th>Amount</th>\n",
       "      <th>table_id</th>\n",
       "    </tr>\n",
       "  </thead>\n",
       "  <tbody>\n",
       "    <tr>\n",
       "      <th>0</th>\n",
       "      <td>670</td>\n",
       "      <td>Product_0cm.com_September2020.json.gz</td>\n",
       "    </tr>\n",
       "    <tr>\n",
       "      <th>1</th>\n",
       "      <td>13</td>\n",
       "      <td>Product_10knew.com_September2020.json.gz</td>\n",
       "    </tr>\n",
       "    <tr>\n",
       "      <th>2</th>\n",
       "      <td>891</td>\n",
       "      <td>Product_10sim.com_September2020.json.gz</td>\n",
       "    </tr>\n",
       "    <tr>\n",
       "      <th>3</th>\n",
       "      <td>43</td>\n",
       "      <td>Product_123-hampers.co.uk_September2020.json.gz</td>\n",
       "    </tr>\n",
       "    <tr>\n",
       "      <th>4</th>\n",
       "      <td>202</td>\n",
       "      <td>Product_1234oo7.com_September2020.json.gz</td>\n",
       "    </tr>\n",
       "    <tr>\n",
       "      <th>...</th>\n",
       "      <td>...</td>\n",
       "      <td>...</td>\n",
       "    </tr>\n",
       "    <tr>\n",
       "      <th>3242</th>\n",
       "      <td>712</td>\n",
       "      <td>Product_zooscape.com_September2020.json.gz</td>\n",
       "    </tr>\n",
       "    <tr>\n",
       "      <th>3243</th>\n",
       "      <td>18</td>\n",
       "      <td>Product_zpower.com.au_September2020.json.gz</td>\n",
       "    </tr>\n",
       "    <tr>\n",
       "      <th>3244</th>\n",
       "      <td>37</td>\n",
       "      <td>Product_zspeed.com_September2020.json.gz</td>\n",
       "    </tr>\n",
       "    <tr>\n",
       "      <th>3245</th>\n",
       "      <td>34</td>\n",
       "      <td>Product_ztijl.com_September2020.json.gz</td>\n",
       "    </tr>\n",
       "    <tr>\n",
       "      <th>3246</th>\n",
       "      <td>85</td>\n",
       "      <td>Product_zuppa.com.my_September2020.json.gz</td>\n",
       "    </tr>\n",
       "  </tbody>\n",
       "</table>\n",
       "<p>3247 rows × 2 columns</p>\n",
       "</div>"
      ],
      "text/plain": [
       "      Amount                                         table_id\n",
       "0        670            Product_0cm.com_September2020.json.gz\n",
       "1         13         Product_10knew.com_September2020.json.gz\n",
       "2        891          Product_10sim.com_September2020.json.gz\n",
       "3         43  Product_123-hampers.co.uk_September2020.json.gz\n",
       "4        202        Product_1234oo7.com_September2020.json.gz\n",
       "...      ...                                              ...\n",
       "3242     712       Product_zooscape.com_September2020.json.gz\n",
       "3243      18      Product_zpower.com.au_September2020.json.gz\n",
       "3244      37         Product_zspeed.com_September2020.json.gz\n",
       "3245      34          Product_ztijl.com_September2020.json.gz\n",
       "3246      85       Product_zuppa.com.my_September2020.json.gz\n",
       "\n",
       "[3247 rows x 2 columns]"
      ]
     },
     "execution_count": 54,
     "metadata": {},
     "output_type": "execute_result"
    }
   ],
   "source": [
    "df_set_electronics_tables"
   ]
  },
  {
   "cell_type": "code",
   "execution_count": 55,
   "metadata": {},
   "outputs": [
    {
     "data": {
      "text/html": [
       "<div>\n",
       "<style scoped>\n",
       "    .dataframe tbody tr th:only-of-type {\n",
       "        vertical-align: middle;\n",
       "    }\n",
       "\n",
       "    .dataframe tbody tr th {\n",
       "        vertical-align: top;\n",
       "    }\n",
       "\n",
       "    .dataframe thead th {\n",
       "        text-align: right;\n",
       "    }\n",
       "</style>\n",
       "<table border=\"1\" class=\"dataframe\">\n",
       "  <thead>\n",
       "    <tr style=\"text-align: right;\">\n",
       "      <th></th>\n",
       "      <th>count</th>\n",
       "      <th>mean</th>\n",
       "      <th>std</th>\n",
       "      <th>min</th>\n",
       "      <th>25%</th>\n",
       "      <th>50%</th>\n",
       "      <th>75%</th>\n",
       "      <th>max</th>\n",
       "    </tr>\n",
       "  </thead>\n",
       "  <tbody>\n",
       "    <tr>\n",
       "      <th>Amount</th>\n",
       "      <td>3247.0</td>\n",
       "      <td>398.0</td>\n",
       "      <td>953.0</td>\n",
       "      <td>1.0</td>\n",
       "      <td>37.0</td>\n",
       "      <td>131.0</td>\n",
       "      <td>411.0</td>\n",
       "      <td>16496.0</td>\n",
       "    </tr>\n",
       "  </tbody>\n",
       "</table>\n",
       "</div>"
      ],
      "text/plain": [
       "         count   mean    std  min   25%    50%    75%      max\n",
       "Amount  3247.0  398.0  953.0  1.0  37.0  131.0  411.0  16496.0"
      ]
     },
     "execution_count": 55,
     "metadata": {},
     "output_type": "execute_result"
    }
   ],
   "source": [
    "df_set_electronics_tables.set_index('table_id').describe().T.round()"
   ]
  },
  {
   "cell_type": "code",
   "execution_count": 56,
   "metadata": {},
   "outputs": [
    {
     "data": {
      "text/html": [
       "<div>\n",
       "<style scoped>\n",
       "    .dataframe tbody tr th:only-of-type {\n",
       "        vertical-align: middle;\n",
       "    }\n",
       "\n",
       "    .dataframe tbody tr th {\n",
       "        vertical-align: top;\n",
       "    }\n",
       "\n",
       "    .dataframe thead th {\n",
       "        text-align: right;\n",
       "    }\n",
       "</style>\n",
       "<table border=\"1\" class=\"dataframe\">\n",
       "  <thead>\n",
       "    <tr style=\"text-align: right;\">\n",
       "      <th></th>\n",
       "      <th>Amount</th>\n",
       "      <th>table_id</th>\n",
       "    </tr>\n",
       "  </thead>\n",
       "  <tbody>\n",
       "    <tr>\n",
       "      <th>0</th>\n",
       "      <td>670</td>\n",
       "      <td>Product_0cm.com_September2020.json.gz</td>\n",
       "    </tr>\n",
       "    <tr>\n",
       "      <th>2</th>\n",
       "      <td>891</td>\n",
       "      <td>Product_10sim.com_September2020.json.gz</td>\n",
       "    </tr>\n",
       "    <tr>\n",
       "      <th>4</th>\n",
       "      <td>202</td>\n",
       "      <td>Product_1234oo7.com_September2020.json.gz</td>\n",
       "    </tr>\n",
       "    <tr>\n",
       "      <th>5</th>\n",
       "      <td>282</td>\n",
       "      <td>Product_12volt-travel.com_September2020.json.gz</td>\n",
       "    </tr>\n",
       "    <tr>\n",
       "      <th>7</th>\n",
       "      <td>130</td>\n",
       "      <td>Product_1800timeclocks.com_September2020.json.gz</td>\n",
       "    </tr>\n",
       "    <tr>\n",
       "      <th>...</th>\n",
       "      <td>...</td>\n",
       "      <td>...</td>\n",
       "    </tr>\n",
       "    <tr>\n",
       "      <th>3234</th>\n",
       "      <td>452</td>\n",
       "      <td>Product_zeusgames.com.br_September2020.json.gz</td>\n",
       "    </tr>\n",
       "    <tr>\n",
       "      <th>3238</th>\n",
       "      <td>449</td>\n",
       "      <td>Product_zoccoshop.com_September2020.json.gz</td>\n",
       "    </tr>\n",
       "    <tr>\n",
       "      <th>3240</th>\n",
       "      <td>530</td>\n",
       "      <td>Product_zoobi-shop.com_September2020.json.gz</td>\n",
       "    </tr>\n",
       "    <tr>\n",
       "      <th>3242</th>\n",
       "      <td>712</td>\n",
       "      <td>Product_zooscape.com_September2020.json.gz</td>\n",
       "    </tr>\n",
       "    <tr>\n",
       "      <th>3246</th>\n",
       "      <td>85</td>\n",
       "      <td>Product_zuppa.com.my_September2020.json.gz</td>\n",
       "    </tr>\n",
       "  </tbody>\n",
       "</table>\n",
       "<p>1973 rows × 2 columns</p>\n",
       "</div>"
      ],
      "text/plain": [
       "      Amount                                          table_id\n",
       "0        670             Product_0cm.com_September2020.json.gz\n",
       "2        891           Product_10sim.com_September2020.json.gz\n",
       "4        202         Product_1234oo7.com_September2020.json.gz\n",
       "5        282   Product_12volt-travel.com_September2020.json.gz\n",
       "7        130  Product_1800timeclocks.com_September2020.json.gz\n",
       "...      ...                                               ...\n",
       "3234     452    Product_zeusgames.com.br_September2020.json.gz\n",
       "3238     449       Product_zoccoshop.com_September2020.json.gz\n",
       "3240     530      Product_zoobi-shop.com_September2020.json.gz\n",
       "3242     712        Product_zooscape.com_September2020.json.gz\n",
       "3246      85        Product_zuppa.com.my_September2020.json.gz\n",
       "\n",
       "[1973 rows x 2 columns]"
      ]
     },
     "execution_count": 56,
     "metadata": {},
     "output_type": "execute_result"
    }
   ],
   "source": [
    "df_75_electronics_tables=df_set_electronics_tables[df_set_electronics_tables['Amount']>75]\n",
    "df_75_electronics_tables"
   ]
  },
  {
   "cell_type": "code",
   "execution_count": 57,
   "metadata": {},
   "outputs": [
    {
     "data": {
      "text/html": [
       "<div>\n",
       "<style scoped>\n",
       "    .dataframe tbody tr th:only-of-type {\n",
       "        vertical-align: middle;\n",
       "    }\n",
       "\n",
       "    .dataframe tbody tr th {\n",
       "        vertical-align: top;\n",
       "    }\n",
       "\n",
       "    .dataframe thead th {\n",
       "        text-align: right;\n",
       "    }\n",
       "</style>\n",
       "<table border=\"1\" class=\"dataframe\">\n",
       "  <thead>\n",
       "    <tr style=\"text-align: right;\">\n",
       "      <th></th>\n",
       "      <th>count</th>\n",
       "      <th>mean</th>\n",
       "      <th>std</th>\n",
       "      <th>min</th>\n",
       "      <th>25%</th>\n",
       "      <th>50%</th>\n",
       "      <th>75%</th>\n",
       "      <th>max</th>\n",
       "    </tr>\n",
       "  </thead>\n",
       "  <tbody>\n",
       "    <tr>\n",
       "      <th>Amount</th>\n",
       "      <td>1973.0</td>\n",
       "      <td>634.0</td>\n",
       "      <td>1163.0</td>\n",
       "      <td>76.0</td>\n",
       "      <td>165.0</td>\n",
       "      <td>313.0</td>\n",
       "      <td>688.0</td>\n",
       "      <td>16496.0</td>\n",
       "    </tr>\n",
       "  </tbody>\n",
       "</table>\n",
       "</div>"
      ],
      "text/plain": [
       "         count   mean     std   min    25%    50%    75%      max\n",
       "Amount  1973.0  634.0  1163.0  76.0  165.0  313.0  688.0  16496.0"
      ]
     },
     "execution_count": 57,
     "metadata": {},
     "output_type": "execute_result"
    }
   ],
   "source": [
    "df_75_electronics_tables.set_index('table_id').describe().T.round()"
   ]
  },
  {
   "cell_type": "code",
   "execution_count": 58,
   "metadata": {
    "scrolled": true
   },
   "outputs": [
    {
     "data": {
      "text/plain": [
       "<AxesSubplot:ylabel='Frequency'>"
      ]
     },
     "execution_count": 58,
     "metadata": {},
     "output_type": "execute_result"
    },
    {
     "data": {
      "image/png": "[encoded data removed]",
      "text/plain": [
       "<Figure size 432x288 with 1 Axes>"
      ]
     },
     "metadata": {
      "needs_background": "light"
     },
     "output_type": "display_data"
    }
   ],
   "source": [
    "df_75_electronics_tables.plot(x='table_id',y='Amount',kind='hist')"
   ]
  },
  {
   "cell_type": "code",
   "execution_count": 59,
   "metadata": {},
   "outputs": [
    {
     "data": {
      "text/html": [
       "<div>\n",
       "<style scoped>\n",
       "    .dataframe tbody tr th:only-of-type {\n",
       "        vertical-align: middle;\n",
       "    }\n",
       "\n",
       "    .dataframe tbody tr th {\n",
       "        vertical-align: top;\n",
       "    }\n",
       "\n",
       "    .dataframe thead th {\n",
       "        text-align: right;\n",
       "    }\n",
       "</style>\n",
       "<table border=\"1\" class=\"dataframe\">\n",
       "  <thead>\n",
       "    <tr style=\"text-align: right;\">\n",
       "      <th></th>\n",
       "      <th>Amount</th>\n",
       "      <th>table_id</th>\n",
       "    </tr>\n",
       "  </thead>\n",
       "  <tbody>\n",
       "    <tr>\n",
       "      <th>0</th>\n",
       "      <td>670</td>\n",
       "      <td>Product_0cm.com_September2020.json.gz</td>\n",
       "    </tr>\n",
       "    <tr>\n",
       "      <th>2</th>\n",
       "      <td>891</td>\n",
       "      <td>Product_10sim.com_September2020.json.gz</td>\n",
       "    </tr>\n",
       "    <tr>\n",
       "      <th>4</th>\n",
       "      <td>202</td>\n",
       "      <td>Product_1234oo7.com_September2020.json.gz</td>\n",
       "    </tr>\n",
       "    <tr>\n",
       "      <th>5</th>\n",
       "      <td>282</td>\n",
       "      <td>Product_12volt-travel.com_September2020.json.gz</td>\n",
       "    </tr>\n",
       "    <tr>\n",
       "      <th>8</th>\n",
       "      <td>5508</td>\n",
       "      <td>Product_1aauto.com_September2020.json.gz</td>\n",
       "    </tr>\n",
       "    <tr>\n",
       "      <th>...</th>\n",
       "      <td>...</td>\n",
       "      <td>...</td>\n",
       "    </tr>\n",
       "    <tr>\n",
       "      <th>3233</th>\n",
       "      <td>373</td>\n",
       "      <td>Product_zerolag.com_September2020.json.gz</td>\n",
       "    </tr>\n",
       "    <tr>\n",
       "      <th>3234</th>\n",
       "      <td>452</td>\n",
       "      <td>Product_zeusgames.com.br_September2020.json.gz</td>\n",
       "    </tr>\n",
       "    <tr>\n",
       "      <th>3238</th>\n",
       "      <td>449</td>\n",
       "      <td>Product_zoccoshop.com_September2020.json.gz</td>\n",
       "    </tr>\n",
       "    <tr>\n",
       "      <th>3240</th>\n",
       "      <td>530</td>\n",
       "      <td>Product_zoobi-shop.com_September2020.json.gz</td>\n",
       "    </tr>\n",
       "    <tr>\n",
       "      <th>3242</th>\n",
       "      <td>712</td>\n",
       "      <td>Product_zooscape.com_September2020.json.gz</td>\n",
       "    </tr>\n",
       "  </tbody>\n",
       "</table>\n",
       "<p>1531 rows × 2 columns</p>\n",
       "</div>"
      ],
      "text/plain": [
       "      Amount                                         table_id\n",
       "0        670            Product_0cm.com_September2020.json.gz\n",
       "2        891          Product_10sim.com_September2020.json.gz\n",
       "4        202        Product_1234oo7.com_September2020.json.gz\n",
       "5        282  Product_12volt-travel.com_September2020.json.gz\n",
       "8       5508         Product_1aauto.com_September2020.json.gz\n",
       "...      ...                                              ...\n",
       "3233     373        Product_zerolag.com_September2020.json.gz\n",
       "3234     452   Product_zeusgames.com.br_September2020.json.gz\n",
       "3238     449      Product_zoccoshop.com_September2020.json.gz\n",
       "3240     530     Product_zoobi-shop.com_September2020.json.gz\n",
       "3242     712       Product_zooscape.com_September2020.json.gz\n",
       "\n",
       "[1531 rows x 2 columns]"
      ]
     },
     "execution_count": 59,
     "metadata": {},
     "output_type": "execute_result"
    }
   ],
   "source": [
    "df_150_electronics_tables=df_set_electronics_tables[df_set_electronics_tables['Amount']>150]\n",
    "df_150_electronics_tables"
   ]
  },
  {
   "cell_type": "code",
   "execution_count": 60,
   "metadata": {},
   "outputs": [
    {
     "data": {
      "text/html": [
       "<div>\n",
       "<style scoped>\n",
       "    .dataframe tbody tr th:only-of-type {\n",
       "        vertical-align: middle;\n",
       "    }\n",
       "\n",
       "    .dataframe tbody tr th {\n",
       "        vertical-align: top;\n",
       "    }\n",
       "\n",
       "    .dataframe thead th {\n",
       "        text-align: right;\n",
       "    }\n",
       "</style>\n",
       "<table border=\"1\" class=\"dataframe\">\n",
       "  <thead>\n",
       "    <tr style=\"text-align: right;\">\n",
       "      <th></th>\n",
       "      <th>count</th>\n",
       "      <th>mean</th>\n",
       "      <th>std</th>\n",
       "      <th>min</th>\n",
       "      <th>25%</th>\n",
       "      <th>50%</th>\n",
       "      <th>75%</th>\n",
       "      <th>max</th>\n",
       "    </tr>\n",
       "  </thead>\n",
       "  <tbody>\n",
       "    <tr>\n",
       "      <th>Amount</th>\n",
       "      <td>1531.0</td>\n",
       "      <td>786.0</td>\n",
       "      <td>1281.0</td>\n",
       "      <td>151.0</td>\n",
       "      <td>253.0</td>\n",
       "      <td>442.0</td>\n",
       "      <td>808.0</td>\n",
       "      <td>16496.0</td>\n",
       "    </tr>\n",
       "  </tbody>\n",
       "</table>\n",
       "</div>"
      ],
      "text/plain": [
       "         count   mean     std    min    25%    50%    75%      max\n",
       "Amount  1531.0  786.0  1281.0  151.0  253.0  442.0  808.0  16496.0"
      ]
     },
     "execution_count": 60,
     "metadata": {},
     "output_type": "execute_result"
    }
   ],
   "source": [
    "df_150_electronics_tables.set_index('table_id').describe().T.round()"
   ]
  },
  {
   "cell_type": "code",
   "execution_count": 61,
   "metadata": {
    "scrolled": true
   },
   "outputs": [
    {
     "data": {
      "text/plain": [
       "<AxesSubplot:ylabel='Frequency'>"
      ]
     },
     "execution_count": 61,
     "metadata": {},
     "output_type": "execute_result"
    },
    {
     "data": {
      "image/png": "[encoded data removed]",
      "text/plain": [
       "<Figure size 432x288 with 1 Axes>"
      ]
     },
     "metadata": {
      "needs_background": "light"
     },
     "output_type": "display_data"
    }
   ],
   "source": [
    "df_150_electronics_tables.plot(x='table_id',y='Amount',kind='hist')"
   ]
  },
  {
   "cell_type": "markdown",
   "metadata": {},
   "source": [
    "#### Have a look at clothes"
   ]
  },
  {
   "cell_type": "code",
   "execution_count": null,
   "metadata": {},
   "outputs": [],
   "source": [
    "df_joined_clothes"
   ]
  },
  {
   "cell_type": "code",
   "execution_count": null,
   "metadata": {},
   "outputs": [],
   "source": [
    "df_grouped_clothes_tables = df_joined_clothes.groupby('table_id').count()"
   ]
  },
  {
   "cell_type": "code",
   "execution_count": null,
   "metadata": {},
   "outputs": [],
   "source": [
    "# only look at clusters that have at least one brand associated\n",
    "df_set_clothes_tables = df_grouped_clothes_tables[df_grouped_clothes_tables['brand']>0].reset_index()[['cluster_id','table_id']].rename(columns={'cluster_id':'Amount'})"
   ]
  },
  {
   "cell_type": "code",
   "execution_count": null,
   "metadata": {},
   "outputs": [],
   "source": [
    "df_set_clothes_tables"
   ]
  },
  {
   "cell_type": "code",
   "execution_count": null,
   "metadata": {},
   "outputs": [],
   "source": [
    "df_set_clothes_tables.set_index('table_id').describe().T.round()"
   ]
  },
  {
   "cell_type": "code",
   "execution_count": null,
   "metadata": {},
   "outputs": [],
   "source": [
    "df_75_clothes_tables=df_set_clothes_tables[df_set_clothes_tables['Amount']>75]\n",
    "df_75_clothes_tables"
   ]
  },
  {
   "cell_type": "code",
   "execution_count": null,
   "metadata": {},
   "outputs": [],
   "source": [
    "df_75_clothes_tables.set_index('table_id').describe().T.round()"
   ]
  },
  {
   "cell_type": "code",
   "execution_count": null,
   "metadata": {
    "scrolled": true
   },
   "outputs": [],
   "source": [
    "df_75_clothes_tables.plot(x='table_id',y='Amount',kind='hist')"
   ]
  },
  {
   "cell_type": "code",
   "execution_count": null,
   "metadata": {},
   "outputs": [],
   "source": [
    "df_150_clothes_tables=df_set_clothes_tables[df_set_clothes_tables['Amount']>150]\n",
    "df_150_clothes_tables"
   ]
  },
  {
   "cell_type": "code",
   "execution_count": null,
   "metadata": {},
   "outputs": [],
   "source": [
    "df_150_clothes_tables.set_index('table_id').describe().T.round()"
   ]
  },
  {
   "cell_type": "code",
   "execution_count": null,
   "metadata": {},
   "outputs": [],
   "source": [
    "df_150_clothes_tables.plot(x='table_id',y='Amount',kind='hist')"
   ]
  },
  {
   "cell_type": "markdown",
   "metadata": {},
   "source": [
    "# Get information about which tables and which clusters have the highest overlap"
   ]
  },
  {
   "cell_type": "code",
   "execution_count": 62,
   "metadata": {},
   "outputs": [
    {
     "data": {
      "text/html": [
       "<div>\n",
       "<style scoped>\n",
       "    .dataframe tbody tr th:only-of-type {\n",
       "        vertical-align: middle;\n",
       "    }\n",
       "\n",
       "    .dataframe tbody tr th {\n",
       "        vertical-align: top;\n",
       "    }\n",
       "\n",
       "    .dataframe thead th {\n",
       "        text-align: right;\n",
       "    }\n",
       "</style>\n",
       "<table border=\"1\" class=\"dataframe\">\n",
       "  <thead>\n",
       "    <tr style=\"text-align: right;\">\n",
       "      <th></th>\n",
       "      <th>cluster_id</th>\n",
       "      <th>url</th>\n",
       "      <th>row_id</th>\n",
       "      <th>table_id</th>\n",
       "      <th>Valid</th>\n",
       "      <th>brand</th>\n",
       "    </tr>\n",
       "  </thead>\n",
       "  <tbody>\n",
       "    <tr>\n",
       "      <th>0</th>\n",
       "      <td>59178314</td>\n",
       "      <td>https://www.cultureindoor.com/796-irrigation-a...</td>\n",
       "      <td>1561</td>\n",
       "      <td>Product_cultureindoor.com_September2020.json.gz</td>\n",
       "      <td>1</td>\n",
       "      <td>None</td>\n",
       "    </tr>\n",
       "    <tr>\n",
       "      <th>1</th>\n",
       "      <td>70692685</td>\n",
       "      <td>https://www.culturekings.com/products/new-era-...</td>\n",
       "      <td>3893</td>\n",
       "      <td>Product_culturekings.com_September2020.json.gz</td>\n",
       "      <td>1</td>\n",
       "      <td>None</td>\n",
       "    </tr>\n",
       "    <tr>\n",
       "      <th>2</th>\n",
       "      <td>395606</td>\n",
       "      <td>https://www.culturekings.com/products/new-era-...</td>\n",
       "      <td>3894</td>\n",
       "      <td>Product_culturekings.com_September2020.json.gz</td>\n",
       "      <td>1</td>\n",
       "      <td>None</td>\n",
       "    </tr>\n",
       "    <tr>\n",
       "      <th>3</th>\n",
       "      <td>3361797</td>\n",
       "      <td>https://www.customizedgirl.com/design/2605608/...</td>\n",
       "      <td>9318</td>\n",
       "      <td>Product_customizedgirl.com_September2020.json.gz</td>\n",
       "      <td>1</td>\n",
       "      <td>None</td>\n",
       "    </tr>\n",
       "    <tr>\n",
       "      <th>4</th>\n",
       "      <td>235755</td>\n",
       "      <td>https://www.customizedgirl.com/design/2613423/...</td>\n",
       "      <td>9319</td>\n",
       "      <td>Product_customizedgirl.com_September2020.json.gz</td>\n",
       "      <td>1</td>\n",
       "      <td>None</td>\n",
       "    </tr>\n",
       "    <tr>\n",
       "      <th>...</th>\n",
       "      <td>...</td>\n",
       "      <td>...</td>\n",
       "      <td>...</td>\n",
       "      <td>...</td>\n",
       "      <td>...</td>\n",
       "      <td>...</td>\n",
       "    </tr>\n",
       "    <tr>\n",
       "      <th>24687502</th>\n",
       "      <td>8653717</td>\n",
       "      <td>https://shop-list.com/women/utuwa-tatara/sg323...</td>\n",
       "      <td>1620</td>\n",
       "      <td>Product_shop-list.com_September2020.json.gz</td>\n",
       "      <td>1</td>\n",
       "      <td>None</td>\n",
       "    </tr>\n",
       "    <tr>\n",
       "      <th>24687503</th>\n",
       "      <td>22258637</td>\n",
       "      <td>https://shop-list.com/women/youmotto/famille-ltm</td>\n",
       "      <td>1621</td>\n",
       "      <td>Product_shop-list.com_September2020.json.gz</td>\n",
       "      <td>1</td>\n",
       "      <td>None</td>\n",
       "    </tr>\n",
       "    <tr>\n",
       "      <th>24687504</th>\n",
       "      <td>41434658</td>\n",
       "      <td>https://shop.agwaycapecod.com/products/0190147...</td>\n",
       "      <td>126</td>\n",
       "      <td>Product_agwaycapecod.com_September2020.json.gz</td>\n",
       "      <td>1</td>\n",
       "      <td>None</td>\n",
       "    </tr>\n",
       "    <tr>\n",
       "      <th>24687505</th>\n",
       "      <td>62702145</td>\n",
       "      <td>https://shop.agwaycapecod.com/products/0373214...</td>\n",
       "      <td>127</td>\n",
       "      <td>Product_agwaycapecod.com_September2020.json.gz</td>\n",
       "      <td>1</td>\n",
       "      <td>None</td>\n",
       "    </tr>\n",
       "    <tr>\n",
       "      <th>24687506</th>\n",
       "      <td>60936713</td>\n",
       "      <td>https://shop.areefcreation.com/products/ls-apr...</td>\n",
       "      <td>120</td>\n",
       "      <td>Product_areefcreation.com_September2020.json.gz</td>\n",
       "      <td>1</td>\n",
       "      <td>None</td>\n",
       "    </tr>\n",
       "  </tbody>\n",
       "</table>\n",
       "<p>24687507 rows × 6 columns</p>\n",
       "</div>"
      ],
      "text/plain": [
       "          cluster_id                                                url  \\\n",
       "0           59178314  https://www.cultureindoor.com/796-irrigation-a...   \n",
       "1           70692685  https://www.culturekings.com/products/new-era-...   \n",
       "2             395606  https://www.culturekings.com/products/new-era-...   \n",
       "3            3361797  https://www.customizedgirl.com/design/2605608/...   \n",
       "4             235755  https://www.customizedgirl.com/design/2613423/...   \n",
       "...              ...                                                ...   \n",
       "24687502     8653717  https://shop-list.com/women/utuwa-tatara/sg323...   \n",
       "24687503    22258637   https://shop-list.com/women/youmotto/famille-ltm   \n",
       "24687504    41434658  https://shop.agwaycapecod.com/products/0190147...   \n",
       "24687505    62702145  https://shop.agwaycapecod.com/products/0373214...   \n",
       "24687506    60936713  https://shop.areefcreation.com/products/ls-apr...   \n",
       "\n",
       "          row_id                                          table_id  Valid  \\\n",
       "0           1561   Product_cultureindoor.com_September2020.json.gz      1   \n",
       "1           3893    Product_culturekings.com_September2020.json.gz      1   \n",
       "2           3894    Product_culturekings.com_September2020.json.gz      1   \n",
       "3           9318  Product_customizedgirl.com_September2020.json.gz      1   \n",
       "4           9319  Product_customizedgirl.com_September2020.json.gz      1   \n",
       "...          ...                                               ...    ...   \n",
       "24687502    1620       Product_shop-list.com_September2020.json.gz      1   \n",
       "24687503    1621       Product_shop-list.com_September2020.json.gz      1   \n",
       "24687504     126    Product_agwaycapecod.com_September2020.json.gz      1   \n",
       "24687505     127    Product_agwaycapecod.com_September2020.json.gz      1   \n",
       "24687506     120   Product_areefcreation.com_September2020.json.gz      1   \n",
       "\n",
       "         brand  \n",
       "0         None  \n",
       "1         None  \n",
       "2         None  \n",
       "3         None  \n",
       "4         None  \n",
       "...        ...  \n",
       "24687502  None  \n",
       "24687503  None  \n",
       "24687504  None  \n",
       "24687505  None  \n",
       "24687506  None  \n",
       "\n",
       "[24687507 rows x 6 columns]"
      ]
     },
     "execution_count": 62,
     "metadata": {},
     "output_type": "execute_result"
    }
   ],
   "source": [
    "df_joined_electronics"
   ]
  },
  {
   "cell_type": "code",
   "execution_count": 63,
   "metadata": {},
   "outputs": [],
   "source": [
    "# get information about counts of clusters per table\n",
    "df_electronics_table_id = df_joined_electronics.groupby('table_id').count().reset_index().rename(columns={'brand':'brand_table','cluster_id':'cluster_count'}).drop(columns = ['url','row_id','Valid'])"
   ]
  },
  {
   "cell_type": "code",
   "execution_count": 64,
   "metadata": {},
   "outputs": [],
   "source": [
    "# get information about counts of tables per cluster\n",
    "df_electronics_cluster_id = df_joined_electronics.groupby('cluster_id').count().reset_index().rename(columns={'brand':'brand_cluster','table_id':'table_count'}).drop(columns = ['url','row_id','Valid'])"
   ]
  },
  {
   "cell_type": "code",
   "execution_count": 65,
   "metadata": {},
   "outputs": [],
   "source": [
    "#join the two informations\n",
    "df_enriched = df_joined_electronics.merge(df_electronics_table_id, how='left',left_on=['table_id'],right_on=['table_id']).merge(df_electronics_cluster_id, how='left',left_on=['cluster_id'],right_on=['cluster_id'])"
   ]
  },
  {
   "cell_type": "code",
   "execution_count": 66,
   "metadata": {},
   "outputs": [],
   "source": [
    "# select only the entries, where we have at least one brand in table counts and cluster counts\n",
    "df_enriched = df_enriched[(df_enriched['brand_table']>0) & (df_enriched['brand_cluster']>0)]"
   ]
  },
  {
   "cell_type": "code",
   "execution_count": 67,
   "metadata": {},
   "outputs": [
    {
     "data": {
      "text/html": [
       "<div>\n",
       "<style scoped>\n",
       "    .dataframe tbody tr th:only-of-type {\n",
       "        vertical-align: middle;\n",
       "    }\n",
       "\n",
       "    .dataframe tbody tr th {\n",
       "        vertical-align: top;\n",
       "    }\n",
       "\n",
       "    .dataframe thead th {\n",
       "        text-align: right;\n",
       "    }\n",
       "</style>\n",
       "<table border=\"1\" class=\"dataframe\">\n",
       "  <thead>\n",
       "    <tr style=\"text-align: right;\">\n",
       "      <th></th>\n",
       "      <th>cluster_id</th>\n",
       "      <th>url</th>\n",
       "      <th>row_id</th>\n",
       "      <th>table_id</th>\n",
       "      <th>Valid</th>\n",
       "      <th>brand</th>\n",
       "      <th>cluster_count</th>\n",
       "      <th>brand_table</th>\n",
       "      <th>table_count</th>\n",
       "      <th>brand_cluster</th>\n",
       "    </tr>\n",
       "  </thead>\n",
       "  <tbody>\n",
       "    <tr>\n",
       "      <th>13163537</th>\n",
       "      <td>289703</td>\n",
       "      <td>https://www.247inktoner.com/genuine-oem-canon-...</td>\n",
       "      <td>1056</td>\n",
       "      <td>Product_247inktoner.com_September2020.json.gz</td>\n",
       "      <td>1</td>\n",
       "      <td>canon</td>\n",
       "      <td>837</td>\n",
       "      <td>265</td>\n",
       "      <td>12</td>\n",
       "      <td>3</td>\n",
       "    </tr>\n",
       "    <tr>\n",
       "      <th>9028173</th>\n",
       "      <td>7780966</td>\n",
       "      <td>https://www.a-zprint.com/p/product/6c836b78-d5...</td>\n",
       "      <td>160</td>\n",
       "      <td>Product_a-zprint.com_September2020.json.gz</td>\n",
       "      <td>1</td>\n",
       "      <td>flex</td>\n",
       "      <td>230</td>\n",
       "      <td>11</td>\n",
       "      <td>194</td>\n",
       "      <td>66</td>\n",
       "    </tr>\n",
       "    <tr>\n",
       "      <th>13427014</th>\n",
       "      <td>10626565</td>\n",
       "      <td>https://www.a-zprint.com/p/product/ce52bd41-0c...</td>\n",
       "      <td>740</td>\n",
       "      <td>Product_a-zprint.com_September2020.json.gz</td>\n",
       "      <td>1</td>\n",
       "      <td>flex</td>\n",
       "      <td>230</td>\n",
       "      <td>11</td>\n",
       "      <td>201</td>\n",
       "      <td>59</td>\n",
       "    </tr>\n",
       "    <tr>\n",
       "      <th>21098439</th>\n",
       "      <td>11332257</td>\n",
       "      <td>https://www.a-zprint.com/p/product/e9f63052-9e...</td>\n",
       "      <td>493</td>\n",
       "      <td>Product_a-zprint.com_September2020.json.gz</td>\n",
       "      <td>1</td>\n",
       "      <td>flex</td>\n",
       "      <td>230</td>\n",
       "      <td>11</td>\n",
       "      <td>193</td>\n",
       "      <td>60</td>\n",
       "    </tr>\n",
       "    <tr>\n",
       "      <th>18255872</th>\n",
       "      <td>24321483</td>\n",
       "      <td>https://www.a-zprint.com/p/product/69f6d3d3-b7...</td>\n",
       "      <td>354</td>\n",
       "      <td>Product_a-zprint.com_September2020.json.gz</td>\n",
       "      <td>1</td>\n",
       "      <td>flex</td>\n",
       "      <td>230</td>\n",
       "      <td>11</td>\n",
       "      <td>208</td>\n",
       "      <td>67</td>\n",
       "    </tr>\n",
       "    <tr>\n",
       "      <th>...</th>\n",
       "      <td>...</td>\n",
       "      <td>...</td>\n",
       "      <td>...</td>\n",
       "      <td>...</td>\n",
       "      <td>...</td>\n",
       "      <td>...</td>\n",
       "      <td>...</td>\n",
       "      <td>...</td>\n",
       "      <td>...</td>\n",
       "      <td>...</td>\n",
       "    </tr>\n",
       "    <tr>\n",
       "      <th>8572471</th>\n",
       "      <td>835420</td>\n",
       "      <td>https://www.zoccoshop.com/amd-ryzen-7-3800x-39...</td>\n",
       "      <td>217</td>\n",
       "      <td>Product_zoccoshop.com_September2020.json.gz</td>\n",
       "      <td>1</td>\n",
       "      <td>amd</td>\n",
       "      <td>449</td>\n",
       "      <td>58</td>\n",
       "      <td>30</td>\n",
       "      <td>1</td>\n",
       "    </tr>\n",
       "    <tr>\n",
       "      <th>20727269</th>\n",
       "      <td>881358</td>\n",
       "      <td>https://www.zoccoshop.com/intel-core-i5-9500-3...</td>\n",
       "      <td>426</td>\n",
       "      <td>Product_zoccoshop.com_September2020.json.gz</td>\n",
       "      <td>1</td>\n",
       "      <td>intel</td>\n",
       "      <td>449</td>\n",
       "      <td>58</td>\n",
       "      <td>12</td>\n",
       "      <td>4</td>\n",
       "    </tr>\n",
       "    <tr>\n",
       "      <th>20336953</th>\n",
       "      <td>1706093</td>\n",
       "      <td>https://www.zoccoshop.com/intel-core-i5-10500-...</td>\n",
       "      <td>27</td>\n",
       "      <td>Product_zoccoshop.com_September2020.json.gz</td>\n",
       "      <td>1</td>\n",
       "      <td>intel</td>\n",
       "      <td>449</td>\n",
       "      <td>58</td>\n",
       "      <td>14</td>\n",
       "      <td>2</td>\n",
       "    </tr>\n",
       "    <tr>\n",
       "      <th>4423594</th>\n",
       "      <td>2108868</td>\n",
       "      <td>https://www.zoccoshop.com/intel-i9-9900kf-360g...</td>\n",
       "      <td>228</td>\n",
       "      <td>Product_zoccoshop.com_September2020.json.gz</td>\n",
       "      <td>1</td>\n",
       "      <td>intel</td>\n",
       "      <td>449</td>\n",
       "      <td>58</td>\n",
       "      <td>16</td>\n",
       "      <td>2</td>\n",
       "    </tr>\n",
       "    <tr>\n",
       "      <th>19759369</th>\n",
       "      <td>2290969</td>\n",
       "      <td>https://www.zoccoshop.com/amd-ryzen-5-3600x-38...</td>\n",
       "      <td>376</td>\n",
       "      <td>Product_zoccoshop.com_September2020.json.gz</td>\n",
       "      <td>1</td>\n",
       "      <td>amd</td>\n",
       "      <td>449</td>\n",
       "      <td>58</td>\n",
       "      <td>11</td>\n",
       "      <td>2</td>\n",
       "    </tr>\n",
       "  </tbody>\n",
       "</table>\n",
       "<p>1638 rows × 10 columns</p>\n",
       "</div>"
      ],
      "text/plain": [
       "          cluster_id                                                url  \\\n",
       "13163537      289703  https://www.247inktoner.com/genuine-oem-canon-...   \n",
       "9028173      7780966  https://www.a-zprint.com/p/product/6c836b78-d5...   \n",
       "13427014    10626565  https://www.a-zprint.com/p/product/ce52bd41-0c...   \n",
       "21098439    11332257  https://www.a-zprint.com/p/product/e9f63052-9e...   \n",
       "18255872    24321483  https://www.a-zprint.com/p/product/69f6d3d3-b7...   \n",
       "...              ...                                                ...   \n",
       "8572471       835420  https://www.zoccoshop.com/amd-ryzen-7-3800x-39...   \n",
       "20727269      881358  https://www.zoccoshop.com/intel-core-i5-9500-3...   \n",
       "20336953     1706093  https://www.zoccoshop.com/intel-core-i5-10500-...   \n",
       "4423594      2108868  https://www.zoccoshop.com/intel-i9-9900kf-360g...   \n",
       "19759369     2290969  https://www.zoccoshop.com/amd-ryzen-5-3600x-38...   \n",
       "\n",
       "          row_id                                       table_id  Valid  brand  \\\n",
       "13163537    1056  Product_247inktoner.com_September2020.json.gz      1  canon   \n",
       "9028173      160     Product_a-zprint.com_September2020.json.gz      1   flex   \n",
       "13427014     740     Product_a-zprint.com_September2020.json.gz      1   flex   \n",
       "21098439     493     Product_a-zprint.com_September2020.json.gz      1   flex   \n",
       "18255872     354     Product_a-zprint.com_September2020.json.gz      1   flex   \n",
       "...          ...                                            ...    ...    ...   \n",
       "8572471      217    Product_zoccoshop.com_September2020.json.gz      1    amd   \n",
       "20727269     426    Product_zoccoshop.com_September2020.json.gz      1  intel   \n",
       "20336953      27    Product_zoccoshop.com_September2020.json.gz      1  intel   \n",
       "4423594      228    Product_zoccoshop.com_September2020.json.gz      1  intel   \n",
       "19759369     376    Product_zoccoshop.com_September2020.json.gz      1    amd   \n",
       "\n",
       "          cluster_count  brand_table  table_count  brand_cluster  \n",
       "13163537            837          265           12              3  \n",
       "9028173             230           11          194             66  \n",
       "13427014            230           11          201             59  \n",
       "21098439            230           11          193             60  \n",
       "18255872            230           11          208             67  \n",
       "...                 ...          ...          ...            ...  \n",
       "8572471             449           58           30              1  \n",
       "20727269            449           58           12              4  \n",
       "20336953            449           58           14              2  \n",
       "4423594             449           58           16              2  \n",
       "19759369            449           58           11              2  \n",
       "\n",
       "[1638 rows x 10 columns]"
      ]
     },
     "execution_count": 67,
     "metadata": {},
     "output_type": "execute_result"
    }
   ],
   "source": [
    "df_enriched[df_enriched['table_count']>10].dropna().sort_values(by=['table_id','cluster_id'])"
   ]
  },
  {
   "cell_type": "code",
   "execution_count": null,
   "metadata": {},
   "outputs": [],
   "source": []
  }
 ],
 "metadata": {
  "kernelspec": {
   "display_name": "Python 3",
   "language": "python",
   "name": "python3"
  },
  "language_info": {
   "codemirror_mode": {
    "name": "ipython",
    "version": 3
   },
   "file_extension": ".py",
   "mimetype": "text/x-python",
   "name": "python",
   "nbconvert_exporter": "python",
   "pygments_lexer": "ipython3",
   "version": "3.8.8"
  }
 },
 "nbformat": 4,
 "nbformat_minor": 4
}