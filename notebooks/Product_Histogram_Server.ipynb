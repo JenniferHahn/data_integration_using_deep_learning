{
 "cells": [
  {
   "cell_type": "code",
   "execution_count": 1,
   "metadata": {},
   "outputs": [],
   "source": [
    "import os\n",
    "import pandas as pd\n",
    "import plotly.express as px\n",
    "import progressbar\n",
    "import json\n",
    "import numpy as np"
   ]
  },
  {
   "cell_type": "markdown",
   "metadata": {},
   "source": [
    "## Get the paths and build table names for iteration"
   ]
  },
  {
   "cell_type": "code",
   "execution_count": 2,
   "metadata": {},
   "outputs": [],
   "source": [
    "data_path = '../src/data'\n",
    "mapping_corpus_path = data_path + r'/product/lspc2020_to_tablecorpus'\n",
    "mapping_corpus_path_2 = data_path + r'/product/lspc2020_to_tablecorpus/Cleaned'\n",
    "table_corpus_path = data_path + r'/product/product_top100/cleaned'\n",
    "table_corpus_path_with_id = data_path + r'/product/product_top100/cleaned/with_id'\n",
    "table_corpus_path2 = data_path + r'/product/product_minimum3/cleaned/with_id'\n",
    "mapping_corpus_path_all = data_path + r'/product/lspcV2020'"
   ]
  },
  {
   "cell_type": "code",
   "execution_count": 3,
   "metadata": {},
   "outputs": [],
   "source": [
    "zip_files_mapping = [file for file in os.listdir(mapping_corpus_path_2) if file.endswith('.json.gz')]\n",
    "zip_files_tables = [file for file in os.listdir(table_corpus_path) if file.endswith('.json.gz')]"
   ]
  },
  {
   "cell_type": "code",
   "execution_count": null,
   "metadata": {},
   "outputs": [],
   "source": [
    "# count = 0\n",
    "# count_1=0\n",
    "# with progressbar.ProgressBar(max_value=len(zip_files_tables)) as bar:\n",
    "#     for zip_file in zip_files_tables:\n",
    "#         print('/{}'.format(zip_file))\n",
    "#         df = pd.read_json(table_corpus_path + '/{}'.format(zip_file), compression='gzip', lines=True)     \n",
    "#         df['cluster_id']=0\n",
    "#         for zip_file_map in zip_files_mapping:\n",
    "#             count_1=count_1+1\n",
    "#             print(count_1)\n",
    "#             df_map = pd.read_json(mapping_corpus_path_2 + '/{}'.format(zip_file_map), compression='gzip', lines=True)\n",
    "#             for i in range(len(df_map)):\n",
    "#                 if df_map['table_id'][i]=='{}'.format(zip_file):\n",
    "#                   index_map=df_map['row_id'][i]\n",
    "#                   if df.index[df['row_id'] == index_map].size != 0:\n",
    "#                     index_table=df.index[df['row_id'] == index_map][0]\n",
    "#                     if df['cluster_id'][index_table]==0:\n",
    "#                         df['cluster_id'][index_table]=df_map['cluster_id'][i] \n",
    "#                     else:\n",
    "#                         print('double product value in table')\n",
    "#         df.to_json(table_corpus_path_with_id + '/{}'.format(zip_file), compression='gzip', orient='records', lines=True)\n",
    "#         df\n",
    "#         count += 1\n",
    "#         bar.update(count)"
   ]
  },
  {
   "cell_type": "code",
   "execution_count": null,
   "metadata": {},
   "outputs": [],
   "source": [
    "# count = 0\n",
    "# count_1=0\n",
    "# with progressbar.ProgressBar(max_value=len(zip_files_tables)) as bar:\n",
    "#     for zip_file in zip_files_tables:\n",
    "#         print('/{}'.format(zip_file))\n",
    "#         df = pd.read_json(table_corpus_path2 + '/{}'.format(zip_file), compression='gzip', lines=True)     \n",
    "#         df['cluster_id']=0\n",
    "#         for zip_file_map in zip_files_mapping:\n",
    "#             count_1=count_1+1\n",
    "#             print(count_1)\n",
    "#             df_map = pd.read_json(mapping_corpus_path_2 + '/{}'.format(zip_file_map), compression='gzip', lines=True)\n",
    "#             for i in range(len(df_map)):\n",
    "#                 if df_map['table_id'][i]=='{}'.format(zip_file):\n",
    "#                   index_map=df_map['row_id'][i]\n",
    "#                   if df.index[df['row_id'] == index_map].size != 0:\n",
    "#                     index_table=df.index[df['row_id'] == index_map][0]\n",
    "#                     if df['cluster_id'][index_table]==0:\n",
    "#                         df['cluster_id'][index_table]=df_map['cluster_id'][i] \n",
    "#                     else:\n",
    "#                         print('double product value in table')\n",
    "#         df.to_json(table_corpus_path2_with_id + '/{}'.format(zip_file), compression='gzip', orient='records', lines=True)\n",
    "#         df\n",
    "#         count += 1\n",
    "#         bar.update(count)"
   ]
  },
  {
   "cell_type": "markdown",
   "metadata": {},
   "source": [
    "## Only use first cleaning step on cluster_id tables"
   ]
  },
  {
   "cell_type": "markdown",
   "metadata": {},
   "source": [
    "#### Matching the cluster_ids to the entity tables Top100 did not result in good clusters, as the Top100 seem to be pretty specific regarding their input, e.g., amazonaws with aws-ids as products -> no matches somewhere else"
   ]
  },
  {
   "cell_type": "code",
   "execution_count": 11,
   "metadata": {},
   "outputs": [],
   "source": [
    "# Use the 4 endings to search for english websites and then only keep these to get valid cluster_ids\n",
    "def clean_table(df):\n",
    "  valid_tld = ['.com', '.net', '.org', '.uk']\n",
    "  df['Valid']=0\n",
    "  for i in range(len(df)):\n",
    "    #print(i)\n",
    "    for tld in valid_tld:\n",
    "      if tld in df['table_id'][i]:\n",
    "        df['Valid'][i]=1\n",
    "  return df[df['Valid']==1]"
   ]
  },
  {
   "cell_type": "code",
   "execution_count": 10,
   "metadata": {},
   "outputs": [],
   "source": [
    "# #clean mapping files and save them again\n",
    "# # then use the cleaned tables to append into a series and the get a dataframe from that\n",
    "# count = 0\n",
    "# count_1=0\n",
    "# data=[]\n",
    "# with progressbar.ProgressBar(max_value=len(zip_files_mapping)) as bar:\n",
    "#     for zip_file in zip_files_mapping:\n",
    "#         print('/{}'.format(zip_file))\n",
    "#         df = pd.read_json(mapping_corpus_path_2 + '/{}'.format(zip_file), compression='gzip', lines=True)\n",
    "#         #df=clean_table(df)\n",
    "#         #df['table_name']='{}'.format(zip_file)\n",
    "#         #df.to_json(mapping_corpus_path_2 + '/{}'.format(zip_file), compression='gzip', orient='records', lines=True)\n",
    "#         data.append(df)\n",
    "#         count += 1\n",
    "#         bar.update(count)\n",
    "# #large_df= pd.concat(data, ignore_index=True)\n",
    "# #large_df.to_json(os.path.join(mapping_corpus_path, 'concatentation'), compression='gzip', orient='records', lines=True)"
   ]
  },
  {
   "cell_type": "code",
   "execution_count": null,
   "metadata": {},
   "outputs": [],
   "source": [
    "# #see the input of the series\n",
    "# data"
   ]
  },
  {
   "cell_type": "markdown",
   "metadata": {},
   "source": [
    "### Concat the series into a dataframe and then sort by the cluster_ids to get the table counts for each cluster"
   ]
  },
  {
   "cell_type": "code",
   "execution_count": null,
   "metadata": {},
   "outputs": [],
   "source": [
    "# large_df= pd.concat(data, ignore_index=True)"
   ]
  },
  {
   "cell_type": "code",
   "execution_count": null,
   "metadata": {},
   "outputs": [],
   "source": [
    "#table has around 28 Million valid cluster ids (not necessarily unique)\n",
    "# large_df"
   ]
  },
  {
   "cell_type": "markdown",
   "metadata": {},
   "source": [
    "## Filter on cluster_id and table_id to be easily able to count the table_ids per unique cluster"
   ]
  },
  {
   "cell_type": "code",
   "execution_count": 4,
   "metadata": {},
   "outputs": [],
   "source": [
    "# get dictionaries\n",
    "data_path_1 = '../src/data/product/lspc2020_to_tablecorpus/Cleaned/allocation_amount_only_total_dict.json'\n",
    "data_path_2 = '../src/data/product/lspc2020_to_tablecorpus/Cleaned/allocation_amount_only_set_dict.json'"
   ]
  },
  {
   "cell_type": "code",
   "execution_count": 5,
   "metadata": {},
   "outputs": [],
   "source": [
    "with open(data_path_1) as f:\n",
    "    data_1=json.load(f)\n",
    "with open(data_path_2) as f:\n",
    "    data_2=json.load(f)"
   ]
  },
  {
   "cell_type": "code",
   "execution_count": 7,
   "metadata": {},
   "outputs": [
    {
     "data": {
      "text/html": [
       "<div>\n",
       "<style scoped>\n",
       "    .dataframe tbody tr th:only-of-type {\n",
       "        vertical-align: middle;\n",
       "    }\n",
       "\n",
       "    .dataframe tbody tr th {\n",
       "        vertical-align: top;\n",
       "    }\n",
       "\n",
       "    .dataframe thead th {\n",
       "        text-align: right;\n",
       "    }\n",
       "</style>\n",
       "<table border=\"1\" class=\"dataframe\">\n",
       "  <thead>\n",
       "    <tr style=\"text-align: right;\">\n",
       "      <th></th>\n",
       "      <th>0</th>\n",
       "    </tr>\n",
       "  </thead>\n",
       "  <tbody>\n",
       "    <tr>\n",
       "      <th>73924608</th>\n",
       "      <td>1</td>\n",
       "    </tr>\n",
       "    <tr>\n",
       "      <th>31326208</th>\n",
       "      <td>1</td>\n",
       "    </tr>\n",
       "    <tr>\n",
       "      <th>22544400</th>\n",
       "      <td>1</td>\n",
       "    </tr>\n",
       "    <tr>\n",
       "      <th>51904529</th>\n",
       "      <td>1</td>\n",
       "    </tr>\n",
       "    <tr>\n",
       "      <th>74055698</th>\n",
       "      <td>1</td>\n",
       "    </tr>\n",
       "    <tr>\n",
       "      <th>...</th>\n",
       "      <td>...</td>\n",
       "    </tr>\n",
       "    <tr>\n",
       "      <th>14680043</th>\n",
       "      <td>1</td>\n",
       "    </tr>\n",
       "    <tr>\n",
       "      <th>6553589</th>\n",
       "      <td>1</td>\n",
       "    </tr>\n",
       "    <tr>\n",
       "      <th>20709366</th>\n",
       "      <td>1</td>\n",
       "    </tr>\n",
       "    <tr>\n",
       "      <th>75628536</th>\n",
       "      <td>1</td>\n",
       "    </tr>\n",
       "    <tr>\n",
       "      <th>72089597</th>\n",
       "      <td>1</td>\n",
       "    </tr>\n",
       "  </tbody>\n",
       "</table>\n",
       "<p>20916785 rows × 1 columns</p>\n",
       "</div>"
      ],
      "text/plain": [
       "          0\n",
       "73924608  1\n",
       "31326208  1\n",
       "22544400  1\n",
       "51904529  1\n",
       "74055698  1\n",
       "...      ..\n",
       "14680043  1\n",
       "6553589   1\n",
       "20709366  1\n",
       "75628536  1\n",
       "72089597  1\n",
       "\n",
       "[20916785 rows x 1 columns]"
      ]
     },
     "execution_count": 7,
     "metadata": {},
     "output_type": "execute_result"
    }
   ],
   "source": [
    "df_total=pd.DataFrame.from_dict(data_1, orient='index')\n",
    "df_total"
   ]
  },
  {
   "cell_type": "code",
   "execution_count": 8,
   "metadata": {},
   "outputs": [
    {
     "data": {
      "text/html": [
       "<div>\n",
       "<style scoped>\n",
       "    .dataframe tbody tr th:only-of-type {\n",
       "        vertical-align: middle;\n",
       "    }\n",
       "\n",
       "    .dataframe tbody tr th {\n",
       "        vertical-align: top;\n",
       "    }\n",
       "\n",
       "    .dataframe thead th {\n",
       "        text-align: right;\n",
       "    }\n",
       "</style>\n",
       "<table border=\"1\" class=\"dataframe\">\n",
       "  <thead>\n",
       "    <tr style=\"text-align: right;\">\n",
       "      <th></th>\n",
       "      <th>0</th>\n",
       "    </tr>\n",
       "  </thead>\n",
       "  <tbody>\n",
       "    <tr>\n",
       "      <th>73924608</th>\n",
       "      <td>1</td>\n",
       "    </tr>\n",
       "    <tr>\n",
       "      <th>31326208</th>\n",
       "      <td>1</td>\n",
       "    </tr>\n",
       "    <tr>\n",
       "      <th>22544400</th>\n",
       "      <td>1</td>\n",
       "    </tr>\n",
       "    <tr>\n",
       "      <th>51904529</th>\n",
       "      <td>1</td>\n",
       "    </tr>\n",
       "    <tr>\n",
       "      <th>74055698</th>\n",
       "      <td>1</td>\n",
       "    </tr>\n",
       "    <tr>\n",
       "      <th>...</th>\n",
       "      <td>...</td>\n",
       "    </tr>\n",
       "    <tr>\n",
       "      <th>14680043</th>\n",
       "      <td>1</td>\n",
       "    </tr>\n",
       "    <tr>\n",
       "      <th>6553589</th>\n",
       "      <td>1</td>\n",
       "    </tr>\n",
       "    <tr>\n",
       "      <th>20709366</th>\n",
       "      <td>1</td>\n",
       "    </tr>\n",
       "    <tr>\n",
       "      <th>75628536</th>\n",
       "      <td>1</td>\n",
       "    </tr>\n",
       "    <tr>\n",
       "      <th>72089597</th>\n",
       "      <td>1</td>\n",
       "    </tr>\n",
       "  </tbody>\n",
       "</table>\n",
       "<p>20916785 rows × 1 columns</p>\n",
       "</div>"
      ],
      "text/plain": [
       "          0\n",
       "73924608  1\n",
       "31326208  1\n",
       "22544400  1\n",
       "51904529  1\n",
       "74055698  1\n",
       "...      ..\n",
       "14680043  1\n",
       "6553589   1\n",
       "20709366  1\n",
       "75628536  1\n",
       "72089597  1\n",
       "\n",
       "[20916785 rows x 1 columns]"
      ]
     },
     "execution_count": 8,
     "metadata": {},
     "output_type": "execute_result"
    }
   ],
   "source": [
    "df_set=pd.DataFrame.from_dict(data_2, orient='index')\n",
    "df_set"
   ]
  },
  {
   "cell_type": "code",
   "execution_count": 9,
   "metadata": {},
   "outputs": [],
   "source": [
    "df_total=df_total.reset_index().rename(columns={0:\"Amount\",'index':\"cluster_id\"})\n",
    "df_set=df_set.reset_index().rename(columns={0:\"Amount\",'index':\"cluster_id\"})"
   ]
  },
  {
   "cell_type": "code",
   "execution_count": 10,
   "metadata": {},
   "outputs": [
    {
     "data": {
      "text/plain": [
       "index     9999996\n",
       "Amount       1285\n",
       "dtype: object"
      ]
     },
     "execution_count": 10,
     "metadata": {},
     "output_type": "execute_result"
    }
   ],
   "source": [
    "df_set.max()"
   ]
  },
  {
   "cell_type": "code",
   "execution_count": 11,
   "metadata": {},
   "outputs": [
    {
     "data": {
      "text/plain": [
       "index     9999996\n",
       "Amount       2600\n",
       "dtype: object"
      ]
     },
     "execution_count": 11,
     "metadata": {},
     "output_type": "execute_result"
    }
   ],
   "source": [
    "df_total.max()"
   ]
  },
  {
   "cell_type": "code",
   "execution_count": 12,
   "metadata": {},
   "outputs": [
    {
     "data": {
      "text/html": [
       "<div>\n",
       "<style scoped>\n",
       "    .dataframe tbody tr th:only-of-type {\n",
       "        vertical-align: middle;\n",
       "    }\n",
       "\n",
       "    .dataframe tbody tr th {\n",
       "        vertical-align: top;\n",
       "    }\n",
       "\n",
       "    .dataframe thead th {\n",
       "        text-align: right;\n",
       "    }\n",
       "</style>\n",
       "<table border=\"1\" class=\"dataframe\">\n",
       "  <thead>\n",
       "    <tr style=\"text-align: right;\">\n",
       "      <th></th>\n",
       "      <th>index</th>\n",
       "      <th>Amount</th>\n",
       "    </tr>\n",
       "  </thead>\n",
       "  <tbody>\n",
       "    <tr>\n",
       "      <th>5</th>\n",
       "      <td>131092</td>\n",
       "      <td>29</td>\n",
       "    </tr>\n",
       "    <tr>\n",
       "      <th>9</th>\n",
       "      <td>4980762</td>\n",
       "      <td>4</td>\n",
       "    </tr>\n",
       "    <tr>\n",
       "      <th>25</th>\n",
       "      <td>17694777</td>\n",
       "      <td>2</td>\n",
       "    </tr>\n",
       "    <tr>\n",
       "      <th>27</th>\n",
       "      <td>2490427</td>\n",
       "      <td>9</td>\n",
       "    </tr>\n",
       "    <tr>\n",
       "      <th>28</th>\n",
       "      <td>4980796</td>\n",
       "      <td>2</td>\n",
       "    </tr>\n",
       "    <tr>\n",
       "      <th>...</th>\n",
       "      <td>...</td>\n",
       "      <td>...</td>\n",
       "    </tr>\n",
       "    <tr>\n",
       "      <th>20852522</th>\n",
       "      <td>55847403</td>\n",
       "      <td>2</td>\n",
       "    </tr>\n",
       "    <tr>\n",
       "      <th>20887842</th>\n",
       "      <td>2436046</td>\n",
       "      <td>2</td>\n",
       "    </tr>\n",
       "    <tr>\n",
       "      <th>20892455</th>\n",
       "      <td>740855</td>\n",
       "      <td>2</td>\n",
       "    </tr>\n",
       "    <tr>\n",
       "      <th>20900059</th>\n",
       "      <td>2721215</td>\n",
       "      <td>2</td>\n",
       "    </tr>\n",
       "    <tr>\n",
       "      <th>20903836</th>\n",
       "      <td>26976540</td>\n",
       "      <td>2</td>\n",
       "    </tr>\n",
       "  </tbody>\n",
       "</table>\n",
       "<p>1244562 rows × 2 columns</p>\n",
       "</div>"
      ],
      "text/plain": [
       "             index  Amount\n",
       "5           131092      29\n",
       "9          4980762       4\n",
       "25        17694777       2\n",
       "27         2490427       9\n",
       "28         4980796       2\n",
       "...            ...     ...\n",
       "20852522  55847403       2\n",
       "20887842   2436046       2\n",
       "20892455    740855       2\n",
       "20900059   2721215       2\n",
       "20903836  26976540       2\n",
       "\n",
       "[1244562 rows x 2 columns]"
      ]
     },
     "execution_count": 12,
     "metadata": {},
     "output_type": "execute_result"
    }
   ],
   "source": [
    "# We discard all clusters with less than 2 entries, cause we cannot match anything there, so 1,6 million clusters remain\n",
    "df_set=df_set[df_set['Amount']>1]\n",
    "df_set"
   ]
  },
  {
   "cell_type": "code",
   "execution_count": 13,
   "metadata": {},
   "outputs": [
    {
     "data": {
      "text/html": [
       "<div>\n",
       "<style scoped>\n",
       "    .dataframe tbody tr th:only-of-type {\n",
       "        vertical-align: middle;\n",
       "    }\n",
       "\n",
       "    .dataframe tbody tr th {\n",
       "        vertical-align: top;\n",
       "    }\n",
       "\n",
       "    .dataframe thead th {\n",
       "        text-align: right;\n",
       "    }\n",
       "</style>\n",
       "<table border=\"1\" class=\"dataframe\">\n",
       "  <thead>\n",
       "    <tr style=\"text-align: right;\">\n",
       "      <th></th>\n",
       "      <th>count</th>\n",
       "      <th>mean</th>\n",
       "      <th>std</th>\n",
       "      <th>min</th>\n",
       "      <th>25%</th>\n",
       "      <th>50%</th>\n",
       "      <th>75%</th>\n",
       "      <th>max</th>\n",
       "    </tr>\n",
       "  </thead>\n",
       "  <tbody>\n",
       "    <tr>\n",
       "      <th>Amount</th>\n",
       "      <td>1244562.0</td>\n",
       "      <td>4.0</td>\n",
       "      <td>11.0</td>\n",
       "      <td>2.0</td>\n",
       "      <td>2.0</td>\n",
       "      <td>2.0</td>\n",
       "      <td>3.0</td>\n",
       "      <td>1285.0</td>\n",
       "    </tr>\n",
       "  </tbody>\n",
       "</table>\n",
       "</div>"
      ],
      "text/plain": [
       "            count  mean   std  min  25%  50%  75%     max\n",
       "Amount  1244562.0   4.0  11.0  2.0  2.0  2.0  3.0  1285.0"
      ]
     },
     "execution_count": 13,
     "metadata": {},
     "output_type": "execute_result"
    }
   ],
   "source": [
    "df_set.set_index('cluster_id').describe().T.round()"
   ]
  },
  {
   "cell_type": "code",
   "execution_count": 16,
   "metadata": {},
   "outputs": [
    {
     "data": {
      "text/plain": [
       "<AxesSubplot:ylabel='Frequency'>"
      ]
     },
     "execution_count": 16,
     "metadata": {},
     "output_type": "execute_result"
    },
    {
     "data": {
      "image/png": "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\n",
      "text/plain": [
       "<Figure size 432x288 with 1 Axes>"
      ]
     },
     "metadata": {
      "needs_background": "light"
     },
     "output_type": "display_data"
    }
   ],
   "source": [
    "df_set.plot(x='cluster_id',y='Amount',kind='hist')"
   ]
  },
  {
   "cell_type": "code",
   "execution_count": 17,
   "metadata": {},
   "outputs": [
    {
     "data": {
      "text/html": [
       "<div>\n",
       "<style scoped>\n",
       "    .dataframe tbody tr th:only-of-type {\n",
       "        vertical-align: middle;\n",
       "    }\n",
       "\n",
       "    .dataframe tbody tr th {\n",
       "        vertical-align: top;\n",
       "    }\n",
       "\n",
       "    .dataframe thead th {\n",
       "        text-align: right;\n",
       "    }\n",
       "</style>\n",
       "<table border=\"1\" class=\"dataframe\">\n",
       "  <thead>\n",
       "    <tr style=\"text-align: right;\">\n",
       "      <th></th>\n",
       "      <th>cluster_id</th>\n",
       "      <th>Amount</th>\n",
       "    </tr>\n",
       "  </thead>\n",
       "  <tbody>\n",
       "    <tr>\n",
       "      <th>5</th>\n",
       "      <td>131092</td>\n",
       "      <td>29</td>\n",
       "    </tr>\n",
       "    <tr>\n",
       "      <th>30</th>\n",
       "      <td>47710279</td>\n",
       "      <td>42</td>\n",
       "    </tr>\n",
       "    <tr>\n",
       "      <th>201</th>\n",
       "      <td>2621903</td>\n",
       "      <td>33</td>\n",
       "    </tr>\n",
       "    <tr>\n",
       "      <th>642</th>\n",
       "      <td>787983</td>\n",
       "      <td>18</td>\n",
       "    </tr>\n",
       "    <tr>\n",
       "      <th>646</th>\n",
       "      <td>1050139</td>\n",
       "      <td>16</td>\n",
       "    </tr>\n",
       "    <tr>\n",
       "      <th>...</th>\n",
       "      <td>...</td>\n",
       "      <td>...</td>\n",
       "    </tr>\n",
       "    <tr>\n",
       "      <th>8306446</th>\n",
       "      <td>65770080</td>\n",
       "      <td>17</td>\n",
       "    </tr>\n",
       "    <tr>\n",
       "      <th>8780123</th>\n",
       "      <td>19170901</td>\n",
       "      <td>17</td>\n",
       "    </tr>\n",
       "    <tr>\n",
       "      <th>9040570</th>\n",
       "      <td>58582000</td>\n",
       "      <td>16</td>\n",
       "    </tr>\n",
       "    <tr>\n",
       "      <th>9429552</th>\n",
       "      <td>19412215</td>\n",
       "      <td>17</td>\n",
       "    </tr>\n",
       "    <tr>\n",
       "      <th>11139359</th>\n",
       "      <td>5381269</td>\n",
       "      <td>16</td>\n",
       "    </tr>\n",
       "  </tbody>\n",
       "</table>\n",
       "<p>19367 rows × 2 columns</p>\n",
       "</div>"
      ],
      "text/plain": [
       "         cluster_id  Amount\n",
       "5            131092      29\n",
       "30         47710279      42\n",
       "201         2621903      33\n",
       "642          787983      18\n",
       "646         1050139      16\n",
       "...             ...     ...\n",
       "8306446    65770080      17\n",
       "8780123    19170901      17\n",
       "9040570    58582000      16\n",
       "9429552    19412215      17\n",
       "11139359    5381269      16\n",
       "\n",
       "[19367 rows x 2 columns]"
      ]
     },
     "execution_count": 17,
     "metadata": {},
     "output_type": "execute_result"
    }
   ],
   "source": [
    "# filter on clusters with more entries to get information, here are still 20k clusters left\n",
    "df_15=df_set[df_set['Amount']>15]\n",
    "df_15"
   ]
  },
  {
   "cell_type": "code",
   "execution_count": 19,
   "metadata": {},
   "outputs": [
    {
     "data": {
      "text/html": [
       "<div>\n",
       "<style scoped>\n",
       "    .dataframe tbody tr th:only-of-type {\n",
       "        vertical-align: middle;\n",
       "    }\n",
       "\n",
       "    .dataframe tbody tr th {\n",
       "        vertical-align: top;\n",
       "    }\n",
       "\n",
       "    .dataframe thead th {\n",
       "        text-align: right;\n",
       "    }\n",
       "</style>\n",
       "<table border=\"1\" class=\"dataframe\">\n",
       "  <thead>\n",
       "    <tr style=\"text-align: right;\">\n",
       "      <th></th>\n",
       "      <th>count</th>\n",
       "      <th>mean</th>\n",
       "      <th>std</th>\n",
       "      <th>min</th>\n",
       "      <th>25%</th>\n",
       "      <th>50%</th>\n",
       "      <th>75%</th>\n",
       "      <th>max</th>\n",
       "    </tr>\n",
       "  </thead>\n",
       "  <tbody>\n",
       "    <tr>\n",
       "      <th>Amount</th>\n",
       "      <td>19367.0</td>\n",
       "      <td>59.0</td>\n",
       "      <td>69.0</td>\n",
       "      <td>16.0</td>\n",
       "      <td>22.0</td>\n",
       "      <td>33.0</td>\n",
       "      <td>63.0</td>\n",
       "      <td>1285.0</td>\n",
       "    </tr>\n",
       "  </tbody>\n",
       "</table>\n",
       "</div>"
      ],
      "text/plain": [
       "          count  mean   std   min   25%   50%   75%     max\n",
       "Amount  19367.0  59.0  69.0  16.0  22.0  33.0  63.0  1285.0"
      ]
     },
     "execution_count": 19,
     "metadata": {},
     "output_type": "execute_result"
    }
   ],
   "source": [
    "df_15.set_index('cluster_id').describe().T.round()"
   ]
  },
  {
   "cell_type": "code",
   "execution_count": 20,
   "metadata": {},
   "outputs": [
    {
     "data": {
      "text/plain": [
       "<AxesSubplot:ylabel='Frequency'>"
      ]
     },
     "execution_count": 20,
     "metadata": {},
     "output_type": "execute_result"
    },
    {
     "data": {
      "image/png": "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\n",
      "text/plain": [
       "<Figure size 432x288 with 1 Axes>"
      ]
     },
     "metadata": {
      "needs_background": "light"
     },
     "output_type": "display_data"
    }
   ],
   "source": [
    "df_15.plot(x='cluster_id',y='Amount',kind='hist')"
   ]
  },
  {
   "cell_type": "code",
   "execution_count": 21,
   "metadata": {},
   "outputs": [
    {
     "data": {
      "text/html": [
       "<div>\n",
       "<style scoped>\n",
       "    .dataframe tbody tr th:only-of-type {\n",
       "        vertical-align: middle;\n",
       "    }\n",
       "\n",
       "    .dataframe tbody tr th {\n",
       "        vertical-align: top;\n",
       "    }\n",
       "\n",
       "    .dataframe thead th {\n",
       "        text-align: right;\n",
       "    }\n",
       "</style>\n",
       "<table border=\"1\" class=\"dataframe\">\n",
       "  <thead>\n",
       "    <tr style=\"text-align: right;\">\n",
       "      <th></th>\n",
       "      <th>cluster_id</th>\n",
       "      <th>Amount</th>\n",
       "    </tr>\n",
       "  </thead>\n",
       "  <tbody>\n",
       "    <tr>\n",
       "      <th>696</th>\n",
       "      <td>63047326</td>\n",
       "      <td>158</td>\n",
       "    </tr>\n",
       "    <tr>\n",
       "      <th>729</th>\n",
       "      <td>26085086</td>\n",
       "      <td>162</td>\n",
       "    </tr>\n",
       "    <tr>\n",
       "      <th>1001</th>\n",
       "      <td>59902335</td>\n",
       "      <td>185</td>\n",
       "    </tr>\n",
       "    <tr>\n",
       "      <th>1406</th>\n",
       "      <td>47320529</td>\n",
       "      <td>156</td>\n",
       "    </tr>\n",
       "    <tr>\n",
       "      <th>1584</th>\n",
       "      <td>24252278</td>\n",
       "      <td>176</td>\n",
       "    </tr>\n",
       "    <tr>\n",
       "      <th>...</th>\n",
       "      <td>...</td>\n",
       "      <td>...</td>\n",
       "    </tr>\n",
       "    <tr>\n",
       "      <th>1082271</th>\n",
       "      <td>5388699</td>\n",
       "      <td>172</td>\n",
       "    </tr>\n",
       "    <tr>\n",
       "      <th>1093363</th>\n",
       "      <td>63881368</td>\n",
       "      <td>174</td>\n",
       "    </tr>\n",
       "    <tr>\n",
       "      <th>1192604</th>\n",
       "      <td>40071639</td>\n",
       "      <td>154</td>\n",
       "    </tr>\n",
       "    <tr>\n",
       "      <th>1198138</th>\n",
       "      <td>72856662</td>\n",
       "      <td>202</td>\n",
       "    </tr>\n",
       "    <tr>\n",
       "      <th>1299638</th>\n",
       "      <td>35389</td>\n",
       "      <td>181</td>\n",
       "    </tr>\n",
       "  </tbody>\n",
       "</table>\n",
       "<p>1608 rows × 2 columns</p>\n",
       "</div>"
      ],
      "text/plain": [
       "        cluster_id  Amount\n",
       "696       63047326     158\n",
       "729       26085086     162\n",
       "1001      59902335     185\n",
       "1406      47320529     156\n",
       "1584      24252278     176\n",
       "...            ...     ...\n",
       "1082271    5388699     172\n",
       "1093363   63881368     174\n",
       "1192604   40071639     154\n",
       "1198138   72856662     202\n",
       "1299638      35389     181\n",
       "\n",
       "[1608 rows x 2 columns]"
      ]
     },
     "execution_count": 21,
     "metadata": {},
     "output_type": "execute_result"
    }
   ],
   "source": [
    "# filter on clusters with more entries to get information, here are still 20k clusters left\n",
    "df_150=df_set[df_set['Amount']>150]\n",
    "df_150"
   ]
  },
  {
   "cell_type": "code",
   "execution_count": 22,
   "metadata": {},
   "outputs": [
    {
     "data": {
      "text/html": [
       "<div>\n",
       "<style scoped>\n",
       "    .dataframe tbody tr th:only-of-type {\n",
       "        vertical-align: middle;\n",
       "    }\n",
       "\n",
       "    .dataframe tbody tr th {\n",
       "        vertical-align: top;\n",
       "    }\n",
       "\n",
       "    .dataframe thead th {\n",
       "        text-align: right;\n",
       "    }\n",
       "</style>\n",
       "<table border=\"1\" class=\"dataframe\">\n",
       "  <thead>\n",
       "    <tr style=\"text-align: right;\">\n",
       "      <th></th>\n",
       "      <th>count</th>\n",
       "      <th>mean</th>\n",
       "      <th>std</th>\n",
       "      <th>min</th>\n",
       "      <th>25%</th>\n",
       "      <th>50%</th>\n",
       "      <th>75%</th>\n",
       "      <th>max</th>\n",
       "    </tr>\n",
       "  </thead>\n",
       "  <tbody>\n",
       "    <tr>\n",
       "      <th>Amount</th>\n",
       "      <td>1608.0</td>\n",
       "      <td>242.0</td>\n",
       "      <td>99.0</td>\n",
       "      <td>151.0</td>\n",
       "      <td>171.0</td>\n",
       "      <td>205.0</td>\n",
       "      <td>280.0</td>\n",
       "      <td>1285.0</td>\n",
       "    </tr>\n",
       "  </tbody>\n",
       "</table>\n",
       "</div>"
      ],
      "text/plain": [
       "         count   mean   std    min    25%    50%    75%     max\n",
       "Amount  1608.0  242.0  99.0  151.0  171.0  205.0  280.0  1285.0"
      ]
     },
     "execution_count": 22,
     "metadata": {},
     "output_type": "execute_result"
    }
   ],
   "source": [
    "df_150.set_index('cluster_id').describe().T.round()"
   ]
  },
  {
   "cell_type": "code",
   "execution_count": 23,
   "metadata": {},
   "outputs": [
    {
     "data": {
      "text/plain": [
       "<AxesSubplot:ylabel='Frequency'>"
      ]
     },
     "execution_count": 23,
     "metadata": {},
     "output_type": "execute_result"
    },
    {
     "data": {
      "image/png": "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\n",
      "text/plain": [
       "<Figure size 432x288 with 1 Axes>"
      ]
     },
     "metadata": {
      "needs_background": "light"
     },
     "output_type": "display_data"
    }
   ],
   "source": [
    "df_150.plot(x='cluster_id',y='Amount',kind='hist')"
   ]
  },
  {
   "cell_type": "code",
   "execution_count": 25,
   "metadata": {},
   "outputs": [],
   "source": [
    "df_15_500=df_15[df_15['Amount']<500]"
   ]
  },
  {
   "cell_type": "code",
   "execution_count": 27,
   "metadata": {},
   "outputs": [
    {
     "data": {
      "text/plain": [
       "<AxesSubplot:ylabel='Frequency'>"
      ]
     },
     "execution_count": 27,
     "metadata": {},
     "output_type": "execute_result"
    },
    {
     "data": {
      "image/png": "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\n",
      "text/plain": [
       "<Figure size 432x288 with 1 Axes>"
      ]
     },
     "metadata": {
      "needs_background": "light"
     },
     "output_type": "display_data"
    }
   ],
   "source": [
    "df_15_500.plot(x='cluster_id',y='Amount',kind='hist')"
   ]
  },
  {
   "cell_type": "markdown",
   "metadata": {},
   "source": [
    "## Match the number dictionaries with the information about the brand"
   ]
  },
  {
   "cell_type": "code",
   "execution_count": 4,
   "metadata": {},
   "outputs": [],
   "source": [
    "# get dictionaries\n",
    "electronics_path = '../src/data/product/product_electronics_v2/electronics_dict.json'\n",
    "clothes_path = '../src/data/product/product_clothes_v2/clothes_dict.json'\n",
    "mapping_corpus_path_2 = '../src/data/product/lspc2020_to_tablecorpus/Cleaned'"
   ]
  },
  {
   "cell_type": "code",
   "execution_count": 5,
   "metadata": {},
   "outputs": [],
   "source": [
    "with open(electronics_path) as f:\n",
    "    electronics_data=json.load(f)"
   ]
  },
  {
   "cell_type": "code",
   "execution_count": 6,
   "metadata": {},
   "outputs": [],
   "source": [
    "with open(clothes_path) as f:\n",
    "    clothes_data=json.load(f)"
   ]
  },
  {
   "cell_type": "code",
   "execution_count": 7,
   "metadata": {
    "scrolled": false
   },
   "outputs": [],
   "source": [
    "#clean the dictionaries by getting rid of the first key \n",
    "cleaned_dictionary_electronics={}\n",
    "for value in electronics_data.values():\n",
    "    cleaned_dictionary_electronics.update(value)"
   ]
  },
  {
   "cell_type": "code",
   "execution_count": 8,
   "metadata": {},
   "outputs": [],
   "source": [
    "#clean the dictionaries by getting rid of the first key \n",
    "cleaned_dictionary_clothes={}\n",
    "for value in clothes_data.values():\n",
    "    cleaned_dictionary_clothes.update(value)"
   ]
  },
  {
   "cell_type": "code",
   "execution_count": 9,
   "metadata": {},
   "outputs": [],
   "source": [
    "#put the dictionaries into dataframes \n",
    "df_electronics=pd.DataFrame.from_dict(cleaned_dictionary_electronics, orient='index')\n",
    "df_clothes=pd.DataFrame.from_dict(cleaned_dictionary_clothes, orient='index')"
   ]
  },
  {
   "cell_type": "code",
   "execution_count": 10,
   "metadata": {
    "scrolled": true
   },
   "outputs": [
    {
     "data": {
      "text/plain": [
       "[]"
      ]
     },
     "execution_count": 10,
     "metadata": {},
     "output_type": "execute_result"
    }
   ],
   "source": [
    "#compare column names of table before and after dropping to actually get a feeling for the best products\n",
    "electronics_before_cleaning = df_electronics.index.tolist()\n",
    "#drop empty rows\n",
    "df_electronics.dropna(how='all', inplace=True)\n",
    "electronics_after_cleaning = df_electronics.index.tolist()\n",
    "list(set(electronics_before_cleaning) - set(electronics_after_cleaning))"
   ]
  },
  {
   "cell_type": "code",
   "execution_count": 11,
   "metadata": {},
   "outputs": [
    {
     "data": {
      "text/plain": [
       "['resonant']"
      ]
     },
     "execution_count": 11,
     "metadata": {},
     "output_type": "execute_result"
    }
   ],
   "source": [
    "# get information about top 20 electronic brands by hard coding to find rows with most column content\n",
    "dataframe = pd.isna(df_electronics[82])\n",
    "newlist = dataframe[dataframe==False].index.tolist()\n",
    "newlist\n",
    "#get information about which brands to be dropped, as otherwise running time of code would be too high\n",
    "list(set(electronics_after_cleaning) - set(newlist))"
   ]
  },
  {
   "cell_type": "code",
   "execution_count": 12,
   "metadata": {},
   "outputs": [
    {
     "data": {
      "text/plain": [
       "[]"
      ]
     },
     "execution_count": 12,
     "metadata": {},
     "output_type": "execute_result"
    }
   ],
   "source": [
    "# get information about top 20 clothes brands by hard coding to find rows with most column content\n",
    "clothes_before_cleaning = df_clothes.index.tolist()\n",
    "dataframe = pd.isna(df_clothes[150])\n",
    "new_list_clothes = dataframe[dataframe==False].index.tolist()\n",
    "new_list_clothes\n",
    "#get information about which brands to be dropped, as otherwise running time of code would be too high\n",
    "list(set(clothes_before_cleaning) - set(new_list_clothes))"
   ]
  },
  {
   "cell_type": "code",
   "execution_count": 14,
   "metadata": {},
   "outputs": [
    {
     "name": "stdout",
     "output_type": "stream",
     "text": [
      "/map_to_tables_35.json.gz\n"
     ]
    },
    {
     "name": "stderr",
     "output_type": "stream",
     "text": [
      "\r",
      "  0% (0 of 359) |                        | Elapsed Time: 0:00:00 ETA:  --:--:--"
     ]
    },
    {
     "name": "stdout",
     "output_type": "stream",
     "text": [
      "/map_to_tables_279.json.gz\n"
     ]
    },
    {
     "name": "stderr",
     "output_type": "stream",
     "text": [
      "\r",
      "  0% (2 of 359) |                        | Elapsed Time: 0:00:00 ETA:   0:02:10"
     ]
    },
    {
     "name": "stdout",
     "output_type": "stream",
     "text": [
      "/map_to_tables_223.json.gz\n"
     ]
    },
    {
     "name": "stderr",
     "output_type": "stream",
     "text": [
      "\r",
      "  0% (3 of 359) |                        | Elapsed Time: 0:00:01 ETA:   0:02:15"
     ]
    },
    {
     "name": "stdout",
     "output_type": "stream",
     "text": [
      "/map_to_tables_182.json.gz\n"
     ]
    },
    {
     "name": "stderr",
     "output_type": "stream",
     "text": [
      "\r",
      "  1% (4 of 359) |                        | Elapsed Time: 0:00:01 ETA:   0:02:52"
     ]
    },
    {
     "name": "stdout",
     "output_type": "stream",
     "text": [
      "/map_to_tables_88.json.gz\n"
     ]
    },
    {
     "name": "stderr",
     "output_type": "stream",
     "text": [
      "\r",
      "  1% (5 of 359) |                        | Elapsed Time: 0:00:02 ETA:   0:02:55"
     ]
    },
    {
     "name": "stdout",
     "output_type": "stream",
     "text": [
      "/map_to_tables_27.json.gz\n"
     ]
    },
    {
     "name": "stderr",
     "output_type": "stream",
     "text": [
      "\r",
      "  1% (6 of 359) |                        | Elapsed Time: 0:00:02 ETA:   0:03:17"
     ]
    },
    {
     "name": "stdout",
     "output_type": "stream",
     "text": [
      "/map_to_tables_166.json.gz\n"
     ]
    },
    {
     "name": "stderr",
     "output_type": "stream",
     "text": [
      "\r",
      "  1% (7 of 359) |                        | Elapsed Time: 0:00:03 ETA:   0:03:21"
     ]
    },
    {
     "name": "stdout",
     "output_type": "stream",
     "text": [
      "/map_to_tables_321.json.gz\n"
     ]
    },
    {
     "name": "stderr",
     "output_type": "stream",
     "text": [
      "\r",
      "  2% (8 of 359) |                        | Elapsed Time: 0:00:03 ETA:   0:03:05"
     ]
    },
    {
     "name": "stdout",
     "output_type": "stream",
     "text": [
      "/map_to_tables_334.json.gz\n"
     ]
    },
    {
     "name": "stderr",
     "output_type": "stream",
     "text": [
      "\r",
      "  2% (9 of 359) |                        | Elapsed Time: 0:00:04 ETA:   0:02:53"
     ]
    },
    {
     "name": "stdout",
     "output_type": "stream",
     "text": [
      "/map_to_tables_211.json.gz\n"
     ]
    },
    {
     "name": "stderr",
     "output_type": "stream",
     "text": [
      "\r",
      "  2% (10 of 359) |                       | Elapsed Time: 0:00:04 ETA:   0:02:41"
     ]
    },
    {
     "name": "stdout",
     "output_type": "stream",
     "text": [
      "/map_to_tables_121.json.gz\n"
     ]
    },
    {
     "name": "stderr",
     "output_type": "stream",
     "text": [
      "\r",
      "  3% (11 of 359) |                       | Elapsed Time: 0:00:05 ETA:   0:02:33"
     ]
    },
    {
     "name": "stdout",
     "output_type": "stream",
     "text": [
      "/map_to_tables_104.json.gz\n"
     ]
    },
    {
     "name": "stderr",
     "output_type": "stream",
     "text": [
      "\r",
      "  3% (12 of 359) |                       | Elapsed Time: 0:00:05 ETA:   0:02:24"
     ]
    },
    {
     "name": "stdout",
     "output_type": "stream",
     "text": [
      "/map_to_tables_225.json.gz\n"
     ]
    },
    {
     "name": "stderr",
     "output_type": "stream",
     "text": [
      "\r",
      "  3% (13 of 359) |                       | Elapsed Time: 0:00:05 ETA:   0:02:27"
     ]
    },
    {
     "name": "stdout",
     "output_type": "stream",
     "text": [
      "/map_to_tables_76.json.gz\n"
     ]
    },
    {
     "name": "stderr",
     "output_type": "stream",
     "text": [
      "\r",
      "  3% (14 of 359) |                       | Elapsed Time: 0:00:06 ETA:   0:02:31"
     ]
    },
    {
     "name": "stdout",
     "output_type": "stream",
     "text": [
      "/map_to_tables_150.json.gz\n"
     ]
    },
    {
     "name": "stderr",
     "output_type": "stream",
     "text": [
      "\r",
      "  4% (15 of 359) |                       | Elapsed Time: 0:00:06 ETA:   0:02:15"
     ]
    },
    {
     "name": "stdout",
     "output_type": "stream",
     "text": [
      "/map_to_tables_160.json.gz\n"
     ]
    },
    {
     "name": "stderr",
     "output_type": "stream",
     "text": [
      "\r",
      "  4% (16 of 359) |#                      | Elapsed Time: 0:00:07 ETA:   0:02:15"
     ]
    },
    {
     "name": "stdout",
     "output_type": "stream",
     "text": [
      "/map_to_tables_136.json.gz\n"
     ]
    },
    {
     "name": "stderr",
     "output_type": "stream",
     "text": [
      "\r",
      "  4% (17 of 359) |#                      | Elapsed Time: 0:00:07 ETA:   0:02:16"
     ]
    },
    {
     "name": "stdout",
     "output_type": "stream",
     "text": [
      "/map_to_tables_254.json.gz\n"
     ]
    },
    {
     "name": "stderr",
     "output_type": "stream",
     "text": [
      "\r",
      "  5% (18 of 359) |#                      | Elapsed Time: 0:00:08 ETA:   0:02:33"
     ]
    },
    {
     "name": "stdout",
     "output_type": "stream",
     "text": [
      "/map_to_tables_128.json.gz\n"
     ]
    },
    {
     "name": "stderr",
     "output_type": "stream",
     "text": [
      "\r",
      "  5% (19 of 359) |#                      | Elapsed Time: 0:00:08 ETA:   0:02:50"
     ]
    },
    {
     "name": "stdout",
     "output_type": "stream",
     "text": [
      "/map_to_tables_147.json.gz\n"
     ]
    },
    {
     "name": "stderr",
     "output_type": "stream",
     "text": [
      "\r",
      "  5% (20 of 359) |#                      | Elapsed Time: 0:00:09 ETA:   0:03:09"
     ]
    },
    {
     "name": "stdout",
     "output_type": "stream",
     "text": [
      "/map_to_tables_188.json.gz\n"
     ]
    },
    {
     "name": "stderr",
     "output_type": "stream",
     "text": [
      "\r",
      "  5% (21 of 359) |#                      | Elapsed Time: 0:00:10 ETA:   0:03:37"
     ]
    },
    {
     "name": "stdout",
     "output_type": "stream",
     "text": [
      "/map_to_tables_24.json.gz\n"
     ]
    },
    {
     "name": "stderr",
     "output_type": "stream",
     "text": [
      "\r",
      "  6% (22 of 359) |#                      | Elapsed Time: 0:00:10 ETA:   0:03:36"
     ]
    },
    {
     "name": "stdout",
     "output_type": "stream",
     "text": [
      "/map_to_tables_41.json.gz\n"
     ]
    },
    {
     "name": "stderr",
     "output_type": "stream",
     "text": [
      "\r",
      "  6% (23 of 359) |#                      | Elapsed Time: 0:00:11 ETA:   0:03:19"
     ]
    },
    {
     "name": "stdout",
     "output_type": "stream",
     "text": [
      "/map_to_tables_165.json.gz\n"
     ]
    },
    {
     "name": "stderr",
     "output_type": "stream",
     "text": [
      "\r",
      "  6% (24 of 359) |#                      | Elapsed Time: 0:00:11 ETA:   0:03:13"
     ]
    },
    {
     "name": "stdout",
     "output_type": "stream",
     "text": [
      "/map_to_tables_43.json.gz\n"
     ]
    },
    {
     "name": "stderr",
     "output_type": "stream",
     "text": [
      "\r",
      "  6% (25 of 359) |#                      | Elapsed Time: 0:00:12 ETA:   0:02:56"
     ]
    },
    {
     "name": "stdout",
     "output_type": "stream",
     "text": [
      "/map_to_tables_174.json.gz\n"
     ]
    },
    {
     "name": "stderr",
     "output_type": "stream",
     "text": [
      "\r",
      "  7% (26 of 359) |#                      | Elapsed Time: 0:00:12 ETA:   0:02:36"
     ]
    },
    {
     "name": "stdout",
     "output_type": "stream",
     "text": [
      "/map_to_tables_288.json.gz\n"
     ]
    },
    {
     "name": "stderr",
     "output_type": "stream",
     "text": [
      "\r",
      "  7% (27 of 359) |#                      | Elapsed Time: 0:00:12 ETA:   0:02:17"
     ]
    },
    {
     "name": "stdout",
     "output_type": "stream",
     "text": [
      "/map_to_tables_261.json.gz\n"
     ]
    },
    {
     "name": "stderr",
     "output_type": "stream",
     "text": [
      "\r",
      "  7% (28 of 359) |#                      | Elapsed Time: 0:00:13 ETA:   0:02:30"
     ]
    },
    {
     "name": "stdout",
     "output_type": "stream",
     "text": [
      "/map_to_tables_33.json.gz\n"
     ]
    },
    {
     "name": "stderr",
     "output_type": "stream",
     "text": [
      "\r",
      "  8% (29 of 359) |#                      | Elapsed Time: 0:00:14 ETA:   0:02:50"
     ]
    },
    {
     "name": "stdout",
     "output_type": "stream",
     "text": [
      "/map_to_tables_197.json.gz\n"
     ]
    },
    {
     "name": "stderr",
     "output_type": "stream",
     "text": [
      "\r",
      "  8% (30 of 359) |#                      | Elapsed Time: 0:00:14 ETA:   0:02:46"
     ]
    },
    {
     "name": "stdout",
     "output_type": "stream",
     "text": [
      "/map_to_tables_291.json.gz\n"
     ]
    },
    {
     "name": "stderr",
     "output_type": "stream",
     "text": [
      "\r",
      "  8% (31 of 359) |#                      | Elapsed Time: 0:00:14 ETA:   0:02:47"
     ]
    },
    {
     "name": "stdout",
     "output_type": "stream",
     "text": [
      "/map_to_tables_155.json.gz\n"
     ]
    },
    {
     "name": "stderr",
     "output_type": "stream",
     "text": [
      "\r",
      "  8% (32 of 359) |##                     | Elapsed Time: 0:00:15 ETA:   0:02:47"
     ]
    },
    {
     "name": "stdout",
     "output_type": "stream",
     "text": [
      "/map_to_tables_149.json.gz\n"
     ]
    },
    {
     "name": "stderr",
     "output_type": "stream",
     "text": [
      "\r",
      "  9% (33 of 359) |##                     | Elapsed Time: 0:00:16 ETA:   0:02:43"
     ]
    },
    {
     "name": "stdout",
     "output_type": "stream",
     "text": [
      "/map_to_tables_186.json.gz\n"
     ]
    },
    {
     "name": "stderr",
     "output_type": "stream",
     "text": [
      "\r",
      "  9% (34 of 359) |##                     | Elapsed Time: 0:00:16 ETA:   0:02:42"
     ]
    },
    {
     "name": "stdout",
     "output_type": "stream",
     "text": [
      "/map_to_tables_183.json.gz\n"
     ]
    },
    {
     "name": "stderr",
     "output_type": "stream",
     "text": [
      "\r",
      "  9% (35 of 359) |##                     | Elapsed Time: 0:00:17 ETA:   0:03:04"
     ]
    },
    {
     "name": "stdout",
     "output_type": "stream",
     "text": [
      "/map_to_tables_153.json.gz\n"
     ]
    },
    {
     "name": "stderr",
     "output_type": "stream",
     "text": [
      "\r",
      " 10% (36 of 359) |##                     | Elapsed Time: 0:00:17 ETA:   0:03:01"
     ]
    },
    {
     "name": "stdout",
     "output_type": "stream",
     "text": [
      "/map_to_tables_168.json.gz\n"
     ]
    },
    {
     "name": "stderr",
     "output_type": "stream",
     "text": [
      "\r",
      " 10% (37 of 359) |##                     | Elapsed Time: 0:00:18 ETA:   0:03:02"
     ]
    },
    {
     "name": "stdout",
     "output_type": "stream",
     "text": [
      "/map_to_tables_18.json.gz\n"
     ]
    },
    {
     "name": "stderr",
     "output_type": "stream",
     "text": [
      "\r",
      " 10% (38 of 359) |##                     | Elapsed Time: 0:00:19 ETA:   0:03:23"
     ]
    },
    {
     "name": "stdout",
     "output_type": "stream",
     "text": [
      "/map_to_tables_343.json.gz\n"
     ]
    },
    {
     "name": "stderr",
     "output_type": "stream",
     "text": [
      "\r",
      " 10% (39 of 359) |##                     | Elapsed Time: 0:00:19 ETA:   0:03:20"
     ]
    },
    {
     "name": "stdout",
     "output_type": "stream",
     "text": [
      "/map_to_tables_355.json.gz\n"
     ]
    },
    {
     "name": "stderr",
     "output_type": "stream",
     "text": [
      "\r",
      " 11% (40 of 359) |##                     | Elapsed Time: 0:00:19 ETA:   0:02:58"
     ]
    },
    {
     "name": "stdout",
     "output_type": "stream",
     "text": [
      "/map_to_tables_270.json.gz\n"
     ]
    },
    {
     "name": "stderr",
     "output_type": "stream",
     "text": [
      "\r",
      " 11% (41 of 359) |##                     | Elapsed Time: 0:00:20 ETA:   0:02:55"
     ]
    },
    {
     "name": "stdout",
     "output_type": "stream",
     "text": [
      "/map_to_tables_130.json.gz\n"
     ]
    },
    {
     "name": "stderr",
     "output_type": "stream",
     "text": [
      "\r",
      " 11% (42 of 359) |##                     | Elapsed Time: 0:00:21 ETA:   0:02:41"
     ]
    },
    {
     "name": "stdout",
     "output_type": "stream",
     "text": [
      "/map_to_tables_98.json.gz\n"
     ]
    },
    {
     "name": "stderr",
     "output_type": "stream",
     "text": [
      "\r",
      " 11% (43 of 359) |##                     | Elapsed Time: 0:00:21 ETA:   0:02:30"
     ]
    },
    {
     "name": "stdout",
     "output_type": "stream",
     "text": [
      "/map_to_tables_55.json.gz\n"
     ]
    },
    {
     "name": "stderr",
     "output_type": "stream",
     "text": [
      "\r",
      " 12% (44 of 359) |##                     | Elapsed Time: 0:00:21 ETA:   0:02:14"
     ]
    },
    {
     "name": "stdout",
     "output_type": "stream",
     "text": [
      "/map_to_tables_306.json.gz\n"
     ]
    },
    {
     "name": "stderr",
     "output_type": "stream",
     "text": [
      "\r",
      " 12% (45 of 359) |##                     | Elapsed Time: 0:00:22 ETA:   0:02:14"
     ]
    },
    {
     "name": "stdout",
     "output_type": "stream",
     "text": [
      "/map_to_tables_207.json.gz\n"
     ]
    },
    {
     "name": "stderr",
     "output_type": "stream",
     "text": [
      "\r",
      " 12% (46 of 359) |##                     | Elapsed Time: 0:00:22 ETA:   0:02:15"
     ]
    },
    {
     "name": "stdout",
     "output_type": "stream",
     "text": [
      "/map_to_tables_77.json.gz\n"
     ]
    },
    {
     "name": "stderr",
     "output_type": "stream",
     "text": [
      "\r",
      " 13% (47 of 359) |###                    | Elapsed Time: 0:00:23 ETA:   0:02:09"
     ]
    },
    {
     "name": "stdout",
     "output_type": "stream",
     "text": [
      "/map_to_tables_212.json.gz\n"
     ]
    },
    {
     "name": "stderr",
     "output_type": "stream",
     "text": [
      "\r",
      " 13% (48 of 359) |###                    | Elapsed Time: 0:00:23 ETA:   0:02:10"
     ]
    },
    {
     "name": "stdout",
     "output_type": "stream",
     "text": [
      "/map_to_tables_92.json.gz\n"
     ]
    },
    {
     "name": "stderr",
     "output_type": "stream",
     "text": [
      "\r",
      " 13% (49 of 359) |###                    | Elapsed Time: 0:00:23 ETA:   0:02:08"
     ]
    },
    {
     "name": "stdout",
     "output_type": "stream",
     "text": [
      "/map_to_tables_352.json.gz\n"
     ]
    },
    {
     "name": "stderr",
     "output_type": "stream",
     "text": [
      "\r",
      " 13% (50 of 359) |###                    | Elapsed Time: 0:00:24 ETA:   0:02:25"
     ]
    },
    {
     "name": "stdout",
     "output_type": "stream",
     "text": [
      "/map_to_tables_69.json.gz\n"
     ]
    },
    {
     "name": "stderr",
     "output_type": "stream",
     "text": [
      "\r",
      " 14% (51 of 359) |###                    | Elapsed Time: 0:00:24 ETA:   0:02:08"
     ]
    },
    {
     "name": "stdout",
     "output_type": "stream",
     "text": [
      "/map_to_tables_213.json.gz\n"
     ]
    },
    {
     "name": "stderr",
     "output_type": "stream",
     "text": [
      "\r",
      " 14% (52 of 359) |###                    | Elapsed Time: 0:00:25 ETA:   0:02:24"
     ]
    },
    {
     "name": "stdout",
     "output_type": "stream",
     "text": [
      "/map_to_tables_79.json.gz\n"
     ]
    },
    {
     "name": "stderr",
     "output_type": "stream",
     "text": [
      "\r",
      " 14% (53 of 359) |###                    | Elapsed Time: 0:00:25 ETA:   0:02:33"
     ]
    },
    {
     "name": "stdout",
     "output_type": "stream",
     "text": [
      "/map_to_tables_287.json.gz\n"
     ]
    },
    {
     "name": "stderr",
     "output_type": "stream",
     "text": [
      "\r",
      " 15% (54 of 359) |###                    | Elapsed Time: 0:00:26 ETA:   0:02:23"
     ]
    },
    {
     "name": "stdout",
     "output_type": "stream",
     "text": [
      "/map_to_tables_269.json.gz\n"
     ]
    },
    {
     "name": "stderr",
     "output_type": "stream",
     "text": [
      "\r",
      " 15% (55 of 359) |###                    | Elapsed Time: 0:00:26 ETA:   0:02:22"
     ]
    },
    {
     "name": "stdout",
     "output_type": "stream",
     "text": [
      "/map_to_tables_313.json.gz\n"
     ]
    },
    {
     "name": "stderr",
     "output_type": "stream",
     "text": [
      "\r",
      " 15% (56 of 359) |###                    | Elapsed Time: 0:00:27 ETA:   0:02:35"
     ]
    },
    {
     "name": "stdout",
     "output_type": "stream",
     "text": [
      "/map_to_tables_286.json.gz\n"
     ]
    },
    {
     "name": "stderr",
     "output_type": "stream",
     "text": [
      "\r",
      " 15% (57 of 359) |###                    | Elapsed Time: 0:00:27 ETA:   0:02:34"
     ]
    },
    {
     "name": "stdout",
     "output_type": "stream",
     "text": [
      "/map_to_tables_132.json.gz\n"
     ]
    },
    {
     "name": "stderr",
     "output_type": "stream",
     "text": [
      "\r",
      " 16% (58 of 359) |###                    | Elapsed Time: 0:00:28 ETA:   0:02:33"
     ]
    },
    {
     "name": "stdout",
     "output_type": "stream",
     "text": [
      "/map_to_tables_200.json.gz\n"
     ]
    },
    {
     "name": "stderr",
     "output_type": "stream",
     "text": [
      "\r",
      " 16% (59 of 359) |###                    | Elapsed Time: 0:00:28 ETA:   0:02:24"
     ]
    },
    {
     "name": "stdout",
     "output_type": "stream",
     "text": [
      "/map_to_tables_323.json.gz\n"
     ]
    },
    {
     "name": "stderr",
     "output_type": "stream",
     "text": [
      "\r",
      " 16% (60 of 359) |###                    | Elapsed Time: 0:00:29 ETA:   0:02:18"
     ]
    },
    {
     "name": "stdout",
     "output_type": "stream",
     "text": [
      "/map_to_tables_102.json.gz\n"
     ]
    },
    {
     "name": "stderr",
     "output_type": "stream",
     "text": [
      "\r",
      " 16% (61 of 359) |###                    | Elapsed Time: 0:00:29 ETA:   0:02:14"
     ]
    },
    {
     "name": "stdout",
     "output_type": "stream",
     "text": [
      "/map_to_tables_161.json.gz\n"
     ]
    },
    {
     "name": "stderr",
     "output_type": "stream",
     "text": [
      "\r",
      " 17% (62 of 359) |###                    | Elapsed Time: 0:00:30 ETA:   0:02:08"
     ]
    },
    {
     "name": "stdout",
     "output_type": "stream",
     "text": [
      "/map_to_tables_5.json.gz\n"
     ]
    },
    {
     "name": "stderr",
     "output_type": "stream",
     "text": [
      "\r",
      " 17% (63 of 359) |####                   | Elapsed Time: 0:00:30 ETA:   0:02:08"
     ]
    },
    {
     "name": "stdout",
     "output_type": "stream",
     "text": [
      "/map_to_tables_278.json.gz\n"
     ]
    },
    {
     "name": "stderr",
     "output_type": "stream",
     "text": [
      "\r",
      " 17% (64 of 359) |####                   | Elapsed Time: 0:00:31 ETA:   0:02:24"
     ]
    },
    {
     "name": "stdout",
     "output_type": "stream",
     "text": [
      "/map_to_tables_325.json.gz\n"
     ]
    },
    {
     "name": "stderr",
     "output_type": "stream",
     "text": [
      "\r",
      " 18% (65 of 359) |####                   | Elapsed Time: 0:00:31 ETA:   0:02:14"
     ]
    },
    {
     "name": "stdout",
     "output_type": "stream",
     "text": [
      "/map_to_tables_96.json.gz\n"
     ]
    },
    {
     "name": "stderr",
     "output_type": "stream",
     "text": [
      "\r",
      " 18% (66 of 359) |####                   | Elapsed Time: 0:00:31 ETA:   0:02:11"
     ]
    },
    {
     "name": "stdout",
     "output_type": "stream",
     "text": [
      "/map_to_tables_297.json.gz\n"
     ]
    },
    {
     "name": "stderr",
     "output_type": "stream",
     "text": [
      "\r",
      " 18% (67 of 359) |####                   | Elapsed Time: 0:00:32 ETA:   0:02:29"
     ]
    },
    {
     "name": "stdout",
     "output_type": "stream",
     "text": [
      "/map_to_tables_53.json.gz\n"
     ]
    },
    {
     "name": "stderr",
     "output_type": "stream",
     "text": [
      "\r",
      " 18% (68 of 359) |####                   | Elapsed Time: 0:00:32 ETA:   0:02:21"
     ]
    },
    {
     "name": "stdout",
     "output_type": "stream",
     "text": [
      "/map_to_tables_218.json.gz\n"
     ]
    },
    {
     "name": "stderr",
     "output_type": "stream",
     "text": [
      "\r",
      " 19% (69 of 359) |####                   | Elapsed Time: 0:00:33 ETA:   0:02:30"
     ]
    },
    {
     "name": "stdout",
     "output_type": "stream",
     "text": [
      "/map_to_tables_359.json.gz\n"
     ]
    },
    {
     "name": "stderr",
     "output_type": "stream",
     "text": [
      "\r",
      " 19% (70 of 359) |####                   | Elapsed Time: 0:00:33 ETA:   0:02:30"
     ]
    },
    {
     "name": "stdout",
     "output_type": "stream",
     "text": [
      "/map_to_tables_74.json.gz\n"
     ]
    },
    {
     "name": "stderr",
     "output_type": "stream",
     "text": [
      "\r",
      " 19% (71 of 359) |####                   | Elapsed Time: 0:00:34 ETA:   0:02:21"
     ]
    },
    {
     "name": "stdout",
     "output_type": "stream",
     "text": [
      "/map_to_tables_342.json.gz\n"
     ]
    },
    {
     "name": "stderr",
     "output_type": "stream",
     "text": [
      "\r",
      " 20% (72 of 359) |####                   | Elapsed Time: 0:00:34 ETA:   0:02:01"
     ]
    },
    {
     "name": "stdout",
     "output_type": "stream",
     "text": [
      "/map_to_tables_151.json.gz\n"
     ]
    },
    {
     "name": "stderr",
     "output_type": "stream",
     "text": [
      "\r",
      " 20% (73 of 359) |####                   | Elapsed Time: 0:00:34 ETA:   0:02:00"
     ]
    },
    {
     "name": "stdout",
     "output_type": "stream",
     "text": [
      "/map_to_tables_101.json.gz\n"
     ]
    },
    {
     "name": "stderr",
     "output_type": "stream",
     "text": [
      "\r",
      " 20% (74 of 359) |####                   | Elapsed Time: 0:00:35 ETA:   0:01:56"
     ]
    },
    {
     "name": "stdout",
     "output_type": "stream",
     "text": [
      "/map_to_tables_241.json.gz\n"
     ]
    },
    {
     "name": "stderr",
     "output_type": "stream",
     "text": [
      "\r",
      " 20% (75 of 359) |####                   | Elapsed Time: 0:00:36 ETA:   0:02:03"
     ]
    },
    {
     "name": "stdout",
     "output_type": "stream",
     "text": [
      "/map_to_tables_308.json.gz\n"
     ]
    },
    {
     "name": "stderr",
     "output_type": "stream",
     "text": [
      "\r",
      " 21% (76 of 359) |####                   | Elapsed Time: 0:00:36 ETA:   0:02:25"
     ]
    },
    {
     "name": "stdout",
     "output_type": "stream",
     "text": [
      "/map_to_tables_326.json.gz\n"
     ]
    },
    {
     "name": "stderr",
     "output_type": "stream",
     "text": [
      "\r",
      " 21% (77 of 359) |####                   | Elapsed Time: 0:00:37 ETA:   0:02:45"
     ]
    },
    {
     "name": "stdout",
     "output_type": "stream",
     "text": [
      "/map_to_tables_158.json.gz\n"
     ]
    },
    {
     "name": "stderr",
     "output_type": "stream",
     "text": [
      "\r",
      " 21% (78 of 359) |####                   | Elapsed Time: 0:00:37 ETA:   0:02:46"
     ]
    },
    {
     "name": "stdout",
     "output_type": "stream",
     "text": [
      "/map_to_tables_143.json.gz\n"
     ]
    },
    {
     "name": "stderr",
     "output_type": "stream",
     "text": [
      "\r",
      " 22% (79 of 359) |#####                  | Elapsed Time: 0:00:38 ETA:   0:02:41"
     ]
    },
    {
     "name": "stdout",
     "output_type": "stream",
     "text": [
      "/map_to_tables_240.json.gz\n"
     ]
    },
    {
     "name": "stderr",
     "output_type": "stream",
     "text": [
      "\r",
      " 22% (80 of 359) |#####                  | Elapsed Time: 0:00:38 ETA:   0:02:20"
     ]
    },
    {
     "name": "stdout",
     "output_type": "stream",
     "text": [
      "/map_to_tables_318.json.gz\n"
     ]
    },
    {
     "name": "stderr",
     "output_type": "stream",
     "text": [
      "\r",
      " 22% (81 of 359) |#####                  | Elapsed Time: 0:00:39 ETA:   0:02:11"
     ]
    },
    {
     "name": "stdout",
     "output_type": "stream",
     "text": [
      "/map_to_tables_124.json.gz\n"
     ]
    },
    {
     "name": "stderr",
     "output_type": "stream",
     "text": [
      "\r",
      " 22% (82 of 359) |#####                  | Elapsed Time: 0:00:39 ETA:   0:02:11"
     ]
    },
    {
     "name": "stdout",
     "output_type": "stream",
     "text": [
      "/map_to_tables_81.json.gz\n"
     ]
    },
    {
     "name": "stderr",
     "output_type": "stream",
     "text": [
      "\r",
      " 23% (83 of 359) |#####                  | Elapsed Time: 0:00:40 ETA:   0:02:08"
     ]
    },
    {
     "name": "stdout",
     "output_type": "stream",
     "text": [
      "/map_to_tables_332.json.gz\n"
     ]
    },
    {
     "name": "stderr",
     "output_type": "stream",
     "text": [
      "\r",
      " 23% (84 of 359) |#####                  | Elapsed Time: 0:00:40 ETA:   0:01:52"
     ]
    },
    {
     "name": "stdout",
     "output_type": "stream",
     "text": [
      "/map_to_tables_252.json.gz\n"
     ]
    },
    {
     "name": "stderr",
     "output_type": "stream",
     "text": [
      "\r",
      " 23% (85 of 359) |#####                  | Elapsed Time: 0:00:40 ETA:   0:02:08"
     ]
    },
    {
     "name": "stdout",
     "output_type": "stream",
     "text": [
      "/map_to_tables_118.json.gz\n"
     ]
    },
    {
     "name": "stderr",
     "output_type": "stream",
     "text": [
      "\r",
      " 23% (86 of 359) |#####                  | Elapsed Time: 0:00:41 ETA:   0:02:09"
     ]
    },
    {
     "name": "stdout",
     "output_type": "stream",
     "text": [
      "/map_to_tables_80.json.gz\n"
     ]
    },
    {
     "name": "stderr",
     "output_type": "stream",
     "text": [
      "\r",
      " 24% (87 of 359) |#####                  | Elapsed Time: 0:00:41 ETA:   0:01:52"
     ]
    },
    {
     "name": "stdout",
     "output_type": "stream",
     "text": [
      "/map_to_tables_320.json.gz\n"
     ]
    },
    {
     "name": "stderr",
     "output_type": "stream",
     "text": [
      "\r",
      " 24% (88 of 359) |#####                  | Elapsed Time: 0:00:42 ETA:   0:01:54"
     ]
    },
    {
     "name": "stdout",
     "output_type": "stream",
     "text": [
      "/map_to_tables_172.json.gz\n"
     ]
    },
    {
     "name": "stderr",
     "output_type": "stream",
     "text": [
      "\r",
      " 24% (89 of 359) |#####                  | Elapsed Time: 0:00:42 ETA:   0:01:54"
     ]
    },
    {
     "name": "stdout",
     "output_type": "stream",
     "text": [
      "/map_to_tables_285.json.gz\n"
     ]
    },
    {
     "name": "stderr",
     "output_type": "stream",
     "text": [
      "\r",
      " 25% (90 of 359) |#####                  | Elapsed Time: 0:00:43 ETA:   0:01:54"
     ]
    },
    {
     "name": "stdout",
     "output_type": "stream",
     "text": [
      "/map_to_tables_135.json.gz\n"
     ]
    },
    {
     "name": "stderr",
     "output_type": "stream",
     "text": [
      "\r",
      " 25% (91 of 359) |#####                  | Elapsed Time: 0:00:43 ETA:   0:01:53"
     ]
    },
    {
     "name": "stdout",
     "output_type": "stream",
     "text": [
      "/map_to_tables_199.json.gz\n"
     ]
    },
    {
     "name": "stderr",
     "output_type": "stream",
     "text": [
      "\r",
      " 25% (92 of 359) |#####                  | Elapsed Time: 0:00:44 ETA:   0:02:08"
     ]
    },
    {
     "name": "stdout",
     "output_type": "stream",
     "text": [
      "/map_to_tables_11.json.gz\n"
     ]
    },
    {
     "name": "stderr",
     "output_type": "stream",
     "text": [
      "\r",
      " 25% (93 of 359) |#####                  | Elapsed Time: 0:00:44 ETA:   0:02:30"
     ]
    },
    {
     "name": "stdout",
     "output_type": "stream",
     "text": [
      "/map_to_tables_38.json.gz\n"
     ]
    },
    {
     "name": "stderr",
     "output_type": "stream",
     "text": [
      "\r",
      " 26% (94 of 359) |######                 | Elapsed Time: 0:00:45 ETA:   0:02:30"
     ]
    },
    {
     "name": "stdout",
     "output_type": "stream",
     "text": [
      "/map_to_tables_273.json.gz\n"
     ]
    },
    {
     "name": "stderr",
     "output_type": "stream",
     "text": [
      "\r",
      " 26% (95 of 359) |######                 | Elapsed Time: 0:00:45 ETA:   0:02:28"
     ]
    },
    {
     "name": "stdout",
     "output_type": "stream",
     "text": [
      "/map_to_tables_47.json.gz\n"
     ]
    },
    {
     "name": "stderr",
     "output_type": "stream",
     "text": [
      "\r",
      " 26% (96 of 359) |######                 | Elapsed Time: 0:00:46 ETA:   0:02:29"
     ]
    },
    {
     "name": "stdout",
     "output_type": "stream",
     "text": [
      "/map_to_tables_70.json.gz\n"
     ]
    },
    {
     "name": "stderr",
     "output_type": "stream",
     "text": [
      "\r",
      " 27% (97 of 359) |######                 | Elapsed Time: 0:00:46 ETA:   0:02:11"
     ]
    },
    {
     "name": "stdout",
     "output_type": "stream",
     "text": [
      "/map_to_tables_181.json.gz\n"
     ]
    },
    {
     "name": "stderr",
     "output_type": "stream",
     "text": [
      "\r",
      " 27% (98 of 359) |######                 | Elapsed Time: 0:00:47 ETA:   0:02:03"
     ]
    },
    {
     "name": "stdout",
     "output_type": "stream",
     "text": [
      "/map_to_tables_202.json.gz\n"
     ]
    },
    {
     "name": "stderr",
     "output_type": "stream",
     "text": [
      "\r",
      " 27% (99 of 359) |######                 | Elapsed Time: 0:00:47 ETA:   0:01:47"
     ]
    },
    {
     "name": "stdout",
     "output_type": "stream",
     "text": [
      "/map_to_tables_108.json.gz\n"
     ]
    },
    {
     "name": "stderr",
     "output_type": "stream",
     "text": [
      "\r",
      " 27% (100 of 359) |######                | Elapsed Time: 0:00:47 ETA:   0:01:47"
     ]
    },
    {
     "name": "stdout",
     "output_type": "stream",
     "text": [
      "/map_to_tables_8.json.gz\n"
     ]
    },
    {
     "name": "stderr",
     "output_type": "stream",
     "text": [
      "\r",
      " 28% (101 of 359) |######                | Elapsed Time: 0:00:48 ETA:   0:01:45"
     ]
    },
    {
     "name": "stdout",
     "output_type": "stream",
     "text": [
      "/map_to_tables_242.json.gz\n"
     ]
    },
    {
     "name": "stderr",
     "output_type": "stream",
     "text": [
      "\r",
      " 28% (102 of 359) |######                | Elapsed Time: 0:00:48 ETA:   0:01:32"
     ]
    },
    {
     "name": "stdout",
     "output_type": "stream",
     "text": [
      "/map_to_tables_290.json.gz\n"
     ]
    },
    {
     "name": "stderr",
     "output_type": "stream",
     "text": [
      "\r",
      " 28% (103 of 359) |######                | Elapsed Time: 0:00:48 ETA:   0:01:32"
     ]
    },
    {
     "name": "stdout",
     "output_type": "stream",
     "text": [
      "/map_to_tables_239.json.gz\n"
     ]
    },
    {
     "name": "stderr",
     "output_type": "stream",
     "text": [
      "\r",
      " 28% (104 of 359) |######                | Elapsed Time: 0:00:49 ETA:   0:01:46"
     ]
    },
    {
     "name": "stdout",
     "output_type": "stream",
     "text": [
      "/map_to_tables_176.json.gz\n"
     ]
    },
    {
     "name": "stderr",
     "output_type": "stream",
     "text": [
      "\r",
      " 29% (105 of 359) |######                | Elapsed Time: 0:00:50 ETA:   0:01:51"
     ]
    },
    {
     "name": "stdout",
     "output_type": "stream",
     "text": [
      "/map_to_tables_137.json.gz\n"
     ]
    },
    {
     "name": "stderr",
     "output_type": "stream",
     "text": [
      "\r",
      " 29% (106 of 359) |######                | Elapsed Time: 0:00:50 ETA:   0:01:50"
     ]
    },
    {
     "name": "stdout",
     "output_type": "stream",
     "text": [
      "/map_to_tables_303.json.gz\n"
     ]
    },
    {
     "name": "stderr",
     "output_type": "stream",
     "text": [
      "\r",
      " 29% (107 of 359) |######                | Elapsed Time: 0:00:51 ETA:   0:02:14"
     ]
    },
    {
     "name": "stdout",
     "output_type": "stream",
     "text": [
      "/map_to_tables_184.json.gz\n"
     ]
    },
    {
     "name": "stderr",
     "output_type": "stream",
     "text": [
      "\r",
      " 30% (108 of 359) |######                | Elapsed Time: 0:00:51 ETA:   0:02:16"
     ]
    },
    {
     "name": "stdout",
     "output_type": "stream",
     "text": [
      "/map_to_tables_54.json.gz\n"
     ]
    },
    {
     "name": "stderr",
     "output_type": "stream",
     "text": [
      "\r",
      " 30% (109 of 359) |######                | Elapsed Time: 0:00:52 ETA:   0:02:10"
     ]
    },
    {
     "name": "stdout",
     "output_type": "stream",
     "text": [
      "/map_to_tables_51.json.gz\n"
     ]
    },
    {
     "name": "stderr",
     "output_type": "stream",
     "text": [
      "\r",
      " 30% (110 of 359) |######                | Elapsed Time: 0:00:52 ETA:   0:02:08"
     ]
    },
    {
     "name": "stdout",
     "output_type": "stream",
     "text": [
      "/map_to_tables_103.json.gz\n"
     ]
    },
    {
     "name": "stderr",
     "output_type": "stream",
     "text": [
      "\r",
      " 30% (111 of 359) |######                | Elapsed Time: 0:00:52 ETA:   0:01:59"
     ]
    },
    {
     "name": "stdout",
     "output_type": "stream",
     "text": [
      "/map_to_tables_233.json.gz\n"
     ]
    },
    {
     "name": "stderr",
     "output_type": "stream",
     "text": [
      "\r",
      " 31% (112 of 359) |######                | Elapsed Time: 0:00:53 ETA:   0:01:45"
     ]
    },
    {
     "name": "stdout",
     "output_type": "stream",
     "text": [
      "/map_to_tables_316.json.gz\n"
     ]
    },
    {
     "name": "stderr",
     "output_type": "stream",
     "text": [
      "\r",
      " 31% (113 of 359) |######                | Elapsed Time: 0:00:53 ETA:   0:01:43"
     ]
    },
    {
     "name": "stdout",
     "output_type": "stream",
     "text": [
      "/map_to_tables_156.json.gz\n"
     ]
    },
    {
     "name": "stderr",
     "output_type": "stream",
     "text": [
      "\r",
      " 31% (114 of 359) |######                | Elapsed Time: 0:00:53 ETA:   0:01:30"
     ]
    },
    {
     "name": "stdout",
     "output_type": "stream",
     "text": [
      "/map_to_tables_277.json.gz\n"
     ]
    },
    {
     "name": "stderr",
     "output_type": "stream",
     "text": [
      "\r",
      " 32% (115 of 359) |#######               | Elapsed Time: 0:00:54 ETA:   0:01:28"
     ]
    },
    {
     "name": "stdout",
     "output_type": "stream",
     "text": [
      "/map_to_tables_133.json.gz\n"
     ]
    },
    {
     "name": "stderr",
     "output_type": "stream",
     "text": [
      "\r",
      " 32% (116 of 359) |#######               | Elapsed Time: 0:00:54 ETA:   0:01:28"
     ]
    },
    {
     "name": "stdout",
     "output_type": "stream",
     "text": [
      "/map_to_tables_255.json.gz\n"
     ]
    },
    {
     "name": "stderr",
     "output_type": "stream",
     "text": [
      "\r",
      " 32% (117 of 359) |#######               | Elapsed Time: 0:00:55 ETA:   0:01:31"
     ]
    },
    {
     "name": "stdout",
     "output_type": "stream",
     "text": [
      "/map_to_tables_129.json.gz\n"
     ]
    },
    {
     "name": "stderr",
     "output_type": "stream",
     "text": [
      "\r",
      " 32% (118 of 359) |#######               | Elapsed Time: 0:00:55 ETA:   0:01:30"
     ]
    },
    {
     "name": "stdout",
     "output_type": "stream",
     "text": [
      "/map_to_tables_230.json.gz\n"
     ]
    },
    {
     "name": "stderr",
     "output_type": "stream",
     "text": [
      "\r",
      " 33% (119 of 359) |#######               | Elapsed Time: 0:00:55 ETA:   0:01:29"
     ]
    },
    {
     "name": "stdout",
     "output_type": "stream",
     "text": [
      "/map_to_tables_191.json.gz\n"
     ]
    },
    {
     "name": "stderr",
     "output_type": "stream",
     "text": [
      "\r",
      " 33% (120 of 359) |#######               | Elapsed Time: 0:00:56 ETA:   0:01:42"
     ]
    },
    {
     "name": "stdout",
     "output_type": "stream",
     "text": [
      "/map_to_tables_62.json.gz\n"
     ]
    },
    {
     "name": "stderr",
     "output_type": "stream",
     "text": [
      "\r",
      " 33% (121 of 359) |#######               | Elapsed Time: 0:00:56 ETA:   0:01:42"
     ]
    },
    {
     "name": "stdout",
     "output_type": "stream",
     "text": [
      "/map_to_tables_282.json.gz\n"
     ]
    },
    {
     "name": "stderr",
     "output_type": "stream",
     "text": [
      "\r",
      " 33% (122 of 359) |#######               | Elapsed Time: 0:00:57 ETA:   0:01:58"
     ]
    },
    {
     "name": "stdout",
     "output_type": "stream",
     "text": [
      "/map_to_tables_15.json.gz\n"
     ]
    },
    {
     "name": "stderr",
     "output_type": "stream",
     "text": [
      "\r",
      " 34% (123 of 359) |#######               | Elapsed Time: 0:00:57 ETA:   0:01:59"
     ]
    },
    {
     "name": "stdout",
     "output_type": "stream",
     "text": [
      "/map_to_tables_180.json.gz\n"
     ]
    },
    {
     "name": "stderr",
     "output_type": "stream",
     "text": [
      "\r",
      " 34% (124 of 359) |#######               | Elapsed Time: 0:00:58 ETA:   0:02:00"
     ]
    },
    {
     "name": "stdout",
     "output_type": "stream",
     "text": [
      "/map_to_tables_219.json.gz\n"
     ]
    },
    {
     "name": "stderr",
     "output_type": "stream",
     "text": [
      " 35% (126 of 359) |#######               | Elapsed Time: 0:00:59 ETA:   0:01:58"
     ]
    },
    {
     "name": "stdout",
     "output_type": "stream",
     "text": [
      "/map_to_tables_263.json.gz\n",
      "/map_to_tables_144.json.gz\n"
     ]
    },
    {
     "name": "stderr",
     "output_type": "stream",
     "text": [
      "\r",
      " 35% (127 of 359) |#######               | Elapsed Time: 0:00:59 ETA:   0:02:05"
     ]
    },
    {
     "name": "stdout",
     "output_type": "stream",
     "text": [
      "/map_to_tables_195.json.gz\n"
     ]
    },
    {
     "name": "stderr",
     "output_type": "stream",
     "text": [
      "\r",
      " 35% (128 of 359) |#######               | Elapsed Time: 0:01:00 ETA:   0:01:56"
     ]
    },
    {
     "name": "stdout",
     "output_type": "stream",
     "text": [
      "/map_to_tables_260.json.gz\n"
     ]
    },
    {
     "name": "stderr",
     "output_type": "stream",
     "text": [
      "\r",
      " 35% (129 of 359) |#######               | Elapsed Time: 0:01:00 ETA:   0:01:40"
     ]
    },
    {
     "name": "stdout",
     "output_type": "stream",
     "text": [
      "/map_to_tables_341.json.gz\n"
     ]
    },
    {
     "name": "stderr",
     "output_type": "stream",
     "text": [
      "\r",
      " 36% (130 of 359) |#######               | Elapsed Time: 0:01:01 ETA:   0:01:55"
     ]
    },
    {
     "name": "stdout",
     "output_type": "stream",
     "text": [
      "/map_to_tables_16.json.gz\n"
     ]
    },
    {
     "name": "stderr",
     "output_type": "stream",
     "text": [
      "\r",
      " 36% (131 of 359) |########              | Elapsed Time: 0:01:01 ETA:   0:01:47"
     ]
    },
    {
     "name": "stdout",
     "output_type": "stream",
     "text": [
      "/map_to_tables_13.json.gz\n"
     ]
    },
    {
     "name": "stderr",
     "output_type": "stream",
     "text": [
      "\r",
      " 36% (132 of 359) |########              | Elapsed Time: 0:01:02 ETA:   0:01:56"
     ]
    },
    {
     "name": "stdout",
     "output_type": "stream",
     "text": [
      "/map_to_tables_310.json.gz\n"
     ]
    },
    {
     "name": "stderr",
     "output_type": "stream",
     "text": [
      "\r",
      " 37% (133 of 359) |########              | Elapsed Time: 0:01:02 ETA:   0:01:56"
     ]
    },
    {
     "name": "stdout",
     "output_type": "stream",
     "text": [
      "/map_to_tables_127.json.gz\n"
     ]
    },
    {
     "name": "stderr",
     "output_type": "stream",
     "text": [
      "\r",
      " 37% (134 of 359) |########              | Elapsed Time: 0:01:03 ETA:   0:01:53"
     ]
    },
    {
     "name": "stdout",
     "output_type": "stream",
     "text": [
      "/map_to_tables_258.json.gz\n"
     ]
    },
    {
     "name": "stderr",
     "output_type": "stream",
     "text": [
      "\r",
      " 37% (135 of 359) |########              | Elapsed Time: 0:01:04 ETA:   0:02:09"
     ]
    },
    {
     "name": "stdout",
     "output_type": "stream",
     "text": [
      "/map_to_tables_44.json.gz\n"
     ]
    },
    {
     "name": "stderr",
     "output_type": "stream",
     "text": [
      "\r",
      " 37% (136 of 359) |########              | Elapsed Time: 0:01:04 ETA:   0:02:05"
     ]
    },
    {
     "name": "stdout",
     "output_type": "stream",
     "text": [
      "/map_to_tables_141.json.gz\n"
     ]
    },
    {
     "name": "stderr",
     "output_type": "stream",
     "text": [
      "\r",
      " 38% (137 of 359) |########              | Elapsed Time: 0:01:05 ETA:   0:02:39"
     ]
    },
    {
     "name": "stdout",
     "output_type": "stream",
     "text": [
      "/map_to_tables_58.json.gz\n"
     ]
    },
    {
     "name": "stderr",
     "output_type": "stream",
     "text": [
      "\r",
      " 38% (138 of 359) |########              | Elapsed Time: 0:01:06 ETA:   0:02:38"
     ]
    },
    {
     "name": "stdout",
     "output_type": "stream",
     "text": [
      "/map_to_tables_75.json.gz\n"
     ]
    },
    {
     "name": "stderr",
     "output_type": "stream",
     "text": [
      "\r",
      " 38% (139 of 359) |########              | Elapsed Time: 0:01:06 ETA:   0:02:41"
     ]
    },
    {
     "name": "stdout",
     "output_type": "stream",
     "text": [
      "/map_to_tables_107.json.gz\n"
     ]
    },
    {
     "name": "stderr",
     "output_type": "stream",
     "text": [
      "\r",
      " 38% (140 of 359) |########              | Elapsed Time: 0:01:07 ETA:   0:02:34"
     ]
    },
    {
     "name": "stdout",
     "output_type": "stream",
     "text": [
      "/map_to_tables_237.json.gz\n"
     ]
    },
    {
     "name": "stderr",
     "output_type": "stream",
     "text": [
      "\r",
      " 39% (141 of 359) |########              | Elapsed Time: 0:01:08 ETA:   0:02:33"
     ]
    },
    {
     "name": "stdout",
     "output_type": "stream",
     "text": [
      "/map_to_tables_229.json.gz\n"
     ]
    },
    {
     "name": "stderr",
     "output_type": "stream",
     "text": [
      "\r",
      " 39% (142 of 359) |########              | Elapsed Time: 0:01:08 ETA:   0:02:14"
     ]
    },
    {
     "name": "stdout",
     "output_type": "stream",
     "text": [
      "/map_to_tables_125.json.gz\n"
     ]
    },
    {
     "name": "stderr",
     "output_type": "stream",
     "text": [
      "\r",
      " 39% (143 of 359) |########              | Elapsed Time: 0:01:09 ETA:   0:01:57"
     ]
    },
    {
     "name": "stdout",
     "output_type": "stream",
     "text": [
      "/map_to_tables_26.json.gz\n"
     ]
    },
    {
     "name": "stderr",
     "output_type": "stream",
     "text": [
      "\r",
      " 40% (144 of 359) |########              | Elapsed Time: 0:01:09 ETA:   0:01:57"
     ]
    },
    {
     "name": "stdout",
     "output_type": "stream",
     "text": [
      "/map_to_tables_217.json.gz\n"
     ]
    },
    {
     "name": "stderr",
     "output_type": "stream",
     "text": [
      "\r",
      " 40% (145 of 359) |########              | Elapsed Time: 0:01:10 ETA:   0:01:47"
     ]
    },
    {
     "name": "stdout",
     "output_type": "stream",
     "text": [
      "/map_to_tables_56.json.gz\n"
     ]
    },
    {
     "name": "stderr",
     "output_type": "stream",
     "text": [
      "\r",
      " 40% (146 of 359) |########              | Elapsed Time: 0:01:10 ETA:   0:01:48"
     ]
    },
    {
     "name": "stdout",
     "output_type": "stream",
     "text": [
      "/map_to_tables_350.json.gz\n"
     ]
    },
    {
     "name": "stderr",
     "output_type": "stream",
     "text": [
      "\r",
      " 40% (147 of 359) |#########             | Elapsed Time: 0:01:11 ETA:   0:02:00"
     ]
    },
    {
     "name": "stdout",
     "output_type": "stream",
     "text": [
      "/map_to_tables_309.json.gz\n"
     ]
    },
    {
     "name": "stderr",
     "output_type": "stream",
     "text": [
      "\r",
      " 41% (148 of 359) |#########             | Elapsed Time: 0:01:11 ETA:   0:01:58"
     ]
    },
    {
     "name": "stdout",
     "output_type": "stream",
     "text": [
      "/map_to_tables_113.json.gz\n"
     ]
    },
    {
     "name": "stderr",
     "output_type": "stream",
     "text": [
      "\r",
      " 41% (149 of 359) |#########             | Elapsed Time: 0:01:12 ETA:   0:01:48"
     ]
    },
    {
     "name": "stdout",
     "output_type": "stream",
     "text": [
      "/map_to_tables_193.json.gz\n"
     ]
    },
    {
     "name": "stderr",
     "output_type": "stream",
     "text": [
      "\r",
      " 41% (150 of 359) |#########             | Elapsed Time: 0:01:12 ETA:   0:01:48"
     ]
    },
    {
     "name": "stdout",
     "output_type": "stream",
     "text": [
      "/map_to_tables_232.json.gz\n"
     ]
    },
    {
     "name": "stderr",
     "output_type": "stream",
     "text": [
      "\r",
      " 42% (151 of 359) |#########             | Elapsed Time: 0:01:13 ETA:   0:01:40"
     ]
    },
    {
     "name": "stdout",
     "output_type": "stream",
     "text": [
      "/map_to_tables_49.json.gz\n"
     ]
    },
    {
     "name": "stderr",
     "output_type": "stream",
     "text": [
      "\r",
      " 42% (152 of 359) |#########             | Elapsed Time: 0:01:13 ETA:   0:01:40"
     ]
    },
    {
     "name": "stdout",
     "output_type": "stream",
     "text": [
      "/map_to_tables_109.json.gz\n"
     ]
    },
    {
     "name": "stderr",
     "output_type": "stream",
     "text": [
      "\r",
      " 42% (153 of 359) |#########             | Elapsed Time: 0:01:14 ETA:   0:01:47"
     ]
    },
    {
     "name": "stdout",
     "output_type": "stream",
     "text": [
      "/map_to_tables_94.json.gz\n"
     ]
    },
    {
     "name": "stderr",
     "output_type": "stream",
     "text": [
      "\r",
      " 42% (154 of 359) |#########             | Elapsed Time: 0:01:14 ETA:   0:01:53"
     ]
    },
    {
     "name": "stdout",
     "output_type": "stream",
     "text": [
      "/map_to_tables_60.json.gz\n"
     ]
    },
    {
     "name": "stderr",
     "output_type": "stream",
     "text": [
      "\r",
      " 43% (155 of 359) |#########             | Elapsed Time: 0:01:15 ETA:   0:02:07"
     ]
    },
    {
     "name": "stdout",
     "output_type": "stream",
     "text": [
      "/map_to_tables_163.json.gz\n"
     ]
    },
    {
     "name": "stderr",
     "output_type": "stream",
     "text": [
      "\r",
      " 43% (156 of 359) |#########             | Elapsed Time: 0:01:16 ETA:   0:02:08"
     ]
    },
    {
     "name": "stdout",
     "output_type": "stream",
     "text": [
      "/map_to_tables_67.json.gz\n"
     ]
    },
    {
     "name": "stderr",
     "output_type": "stream",
     "text": [
      "\r",
      " 43% (157 of 359) |#########             | Elapsed Time: 0:01:16 ETA:   0:02:08"
     ]
    },
    {
     "name": "stdout",
     "output_type": "stream",
     "text": [
      "/map_to_tables_117.json.gz\n"
     ]
    },
    {
     "name": "stderr",
     "output_type": "stream",
     "text": [
      "\r",
      " 44% (158 of 359) |#########             | Elapsed Time: 0:01:17 ETA:   0:02:08"
     ]
    },
    {
     "name": "stdout",
     "output_type": "stream",
     "text": [
      "/map_to_tables_28.json.gz\n"
     ]
    },
    {
     "name": "stderr",
     "output_type": "stream",
     "text": [
      "\r",
      " 44% (159 of 359) |#########             | Elapsed Time: 0:01:18 ETA:   0:02:07"
     ]
    },
    {
     "name": "stdout",
     "output_type": "stream",
     "text": [
      "/map_to_tables_244.json.gz\n"
     ]
    },
    {
     "name": "stderr",
     "output_type": "stream",
     "text": [
      "\r",
      " 44% (160 of 359) |#########             | Elapsed Time: 0:01:18 ETA:   0:02:05"
     ]
    },
    {
     "name": "stdout",
     "output_type": "stream",
     "text": [
      "/map_to_tables_123.json.gz\n"
     ]
    },
    {
     "name": "stderr",
     "output_type": "stream",
     "text": [
      "\r",
      " 44% (161 of 359) |#########             | Elapsed Time: 0:01:19 ETA:   0:02:06"
     ]
    },
    {
     "name": "stdout",
     "output_type": "stream",
     "text": [
      "/map_to_tables_14.json.gz\n"
     ]
    },
    {
     "name": "stderr",
     "output_type": "stream",
     "text": [
      "\r",
      " 45% (162 of 359) |#########             | Elapsed Time: 0:01:19 ETA:   0:01:50"
     ]
    },
    {
     "name": "stdout",
     "output_type": "stream",
     "text": [
      "/map_to_tables_159.json.gz\n"
     ]
    },
    {
     "name": "stderr",
     "output_type": "stream",
     "text": [
      "\r",
      " 45% (163 of 359) |#########             | Elapsed Time: 0:01:20 ETA:   0:01:51"
     ]
    },
    {
     "name": "stdout",
     "output_type": "stream",
     "text": [
      "/map_to_tables_330.json.gz\n"
     ]
    },
    {
     "name": "stderr",
     "output_type": "stream",
     "text": [
      "\r",
      " 45% (164 of 359) |##########            | Elapsed Time: 0:01:20 ETA:   0:01:37"
     ]
    },
    {
     "name": "stdout",
     "output_type": "stream",
     "text": [
      "/map_to_tables_178.json.gz\n"
     ]
    },
    {
     "name": "stderr",
     "output_type": "stream",
     "text": [
      "\r",
      " 45% (165 of 359) |##########            | Elapsed Time: 0:01:21 ETA:   0:01:31"
     ]
    },
    {
     "name": "stdout",
     "output_type": "stream",
     "text": [
      "/map_to_tables_298.json.gz\n"
     ]
    },
    {
     "name": "stderr",
     "output_type": "stream",
     "text": [
      "\r",
      " 46% (166 of 359) |##########            | Elapsed Time: 0:01:21 ETA:   0:01:39"
     ]
    },
    {
     "name": "stdout",
     "output_type": "stream",
     "text": [
      "/map_to_tables_271.json.gz\n"
     ]
    },
    {
     "name": "stderr",
     "output_type": "stream",
     "text": [
      "\r",
      " 46% (167 of 359) |##########            | Elapsed Time: 0:01:22 ETA:   0:01:38"
     ]
    },
    {
     "name": "stdout",
     "output_type": "stream",
     "text": [
      "/map_to_tables_259.json.gz\n"
     ]
    },
    {
     "name": "stderr",
     "output_type": "stream",
     "text": [
      "\r",
      " 46% (168 of 359) |##########            | Elapsed Time: 0:01:23 ETA:   0:01:51"
     ]
    },
    {
     "name": "stdout",
     "output_type": "stream",
     "text": [
      "/map_to_tables_134.json.gz\n"
     ]
    },
    {
     "name": "stderr",
     "output_type": "stream",
     "text": [
      "\r",
      " 47% (169 of 359) |##########            | Elapsed Time: 0:01:23 ETA:   0:01:52"
     ]
    },
    {
     "name": "stdout",
     "output_type": "stream",
     "text": [
      "/map_to_tables_248.json.gz\n"
     ]
    },
    {
     "name": "stderr",
     "output_type": "stream",
     "text": [
      "\r",
      " 47% (170 of 359) |##########            | Elapsed Time: 0:01:24 ETA:   0:01:49"
     ]
    },
    {
     "name": "stdout",
     "output_type": "stream",
     "text": [
      "/map_to_tables_340.json.gz\n"
     ]
    },
    {
     "name": "stderr",
     "output_type": "stream",
     "text": [
      "\r",
      " 47% (171 of 359) |##########            | Elapsed Time: 0:01:24 ETA:   0:01:36"
     ]
    },
    {
     "name": "stdout",
     "output_type": "stream",
     "text": [
      "/map_to_tables_319.json.gz\n"
     ]
    },
    {
     "name": "stderr",
     "output_type": "stream",
     "text": [
      "\r",
      " 47% (172 of 359) |##########            | Elapsed Time: 0:01:24 ETA:   0:01:29"
     ]
    },
    {
     "name": "stdout",
     "output_type": "stream",
     "text": [
      "/map_to_tables_238.json.gz\n"
     ]
    },
    {
     "name": "stderr",
     "output_type": "stream",
     "text": [
      "\r",
      " 48% (173 of 359) |##########            | Elapsed Time: 0:01:25 ETA:   0:01:19"
     ]
    },
    {
     "name": "stdout",
     "output_type": "stream",
     "text": [
      "/map_to_tables_245.json.gz\n"
     ]
    },
    {
     "name": "stderr",
     "output_type": "stream",
     "text": [
      "\r",
      " 48% (174 of 359) |##########            | Elapsed Time: 0:01:25 ETA:   0:01:18"
     ]
    },
    {
     "name": "stdout",
     "output_type": "stream",
     "text": [
      "/map_to_tables_314.json.gz\n"
     ]
    },
    {
     "name": "stderr",
     "output_type": "stream",
     "text": [
      "\r",
      " 48% (175 of 359) |##########            | Elapsed Time: 0:01:26 ETA:   0:01:17"
     ]
    },
    {
     "name": "stdout",
     "output_type": "stream",
     "text": [
      "/map_to_tables_122.json.gz\n"
     ]
    },
    {
     "name": "stderr",
     "output_type": "stream",
     "text": [
      "\r",
      " 49% (176 of 359) |##########            | Elapsed Time: 0:01:26 ETA:   0:01:35"
     ]
    },
    {
     "name": "stdout",
     "output_type": "stream",
     "text": [
      "/map_to_tables_301.json.gz\n"
     ]
    },
    {
     "name": "stderr",
     "output_type": "stream",
     "text": [
      "\r",
      " 49% (177 of 359) |##########            | Elapsed Time: 0:01:27 ETA:   0:01:35"
     ]
    },
    {
     "name": "stdout",
     "output_type": "stream",
     "text": [
      "/map_to_tables_71.json.gz\n"
     ]
    },
    {
     "name": "stderr",
     "output_type": "stream",
     "text": [
      "\r",
      " 49% (178 of 359) |##########            | Elapsed Time: 0:01:27 ETA:   0:01:48"
     ]
    },
    {
     "name": "stdout",
     "output_type": "stream",
     "text": [
      "/map_to_tables_275.json.gz\n"
     ]
    },
    {
     "name": "stderr",
     "output_type": "stream",
     "text": [
      "\r",
      " 49% (179 of 359) |##########            | Elapsed Time: 0:01:28 ETA:   0:01:48"
     ]
    },
    {
     "name": "stdout",
     "output_type": "stream",
     "text": [
      "/map_to_tables_203.json.gz\n"
     ]
    },
    {
     "name": "stderr",
     "output_type": "stream",
     "text": [
      "\r",
      " 50% (180 of 359) |###########           | Elapsed Time: 0:01:29 ETA:   0:01:31"
     ]
    },
    {
     "name": "stdout",
     "output_type": "stream",
     "text": [
      "/map_to_tables_114.json.gz\n"
     ]
    },
    {
     "name": "stderr",
     "output_type": "stream",
     "text": [
      "\r",
      " 50% (181 of 359) |###########           | Elapsed Time: 0:01:29 ETA:   0:01:31"
     ]
    },
    {
     "name": "stdout",
     "output_type": "stream",
     "text": [
      "/map_to_tables_284.json.gz\n"
     ]
    },
    {
     "name": "stderr",
     "output_type": "stream",
     "text": [
      "\r",
      " 50% (182 of 359) |###########           | Elapsed Time: 0:01:30 ETA:   0:01:30"
     ]
    },
    {
     "name": "stdout",
     "output_type": "stream",
     "text": [
      "/map_to_tables_347.json.gz\n"
     ]
    },
    {
     "name": "stderr",
     "output_type": "stream",
     "text": [
      "\r",
      " 50% (183 of 359) |###########           | Elapsed Time: 0:01:30 ETA:   0:01:30"
     ]
    },
    {
     "name": "stdout",
     "output_type": "stream",
     "text": [
      "/map_to_tables_154.json.gz\n"
     ]
    },
    {
     "name": "stderr",
     "output_type": "stream",
     "text": [
      "\r",
      " 51% (184 of 359) |###########           | Elapsed Time: 0:01:31 ETA:   0:01:41"
     ]
    },
    {
     "name": "stdout",
     "output_type": "stream",
     "text": [
      "/map_to_tables_324.json.gz\n"
     ]
    },
    {
     "name": "stderr",
     "output_type": "stream",
     "text": [
      "\r",
      " 51% (185 of 359) |###########           | Elapsed Time: 0:01:32 ETA:   0:01:53"
     ]
    },
    {
     "name": "stdout",
     "output_type": "stream",
     "text": [
      "/map_to_tables_210.json.gz\n"
     ]
    },
    {
     "name": "stderr",
     "output_type": "stream",
     "text": [
      "\r",
      " 51% (186 of 359) |###########           | Elapsed Time: 0:01:32 ETA:   0:01:53"
     ]
    },
    {
     "name": "stdout",
     "output_type": "stream",
     "text": [
      "/map_to_tables_65.json.gz\n"
     ]
    },
    {
     "name": "stderr",
     "output_type": "stream",
     "text": [
      "\r",
      " 52% (187 of 359) |###########           | Elapsed Time: 0:01:33 ETA:   0:01:51"
     ]
    },
    {
     "name": "stdout",
     "output_type": "stream",
     "text": [
      "/map_to_tables_17.json.gz\n"
     ]
    },
    {
     "name": "stderr",
     "output_type": "stream",
     "text": [
      "\r",
      " 52% (188 of 359) |###########           | Elapsed Time: 0:01:33 ETA:   0:01:39"
     ]
    },
    {
     "name": "stdout",
     "output_type": "stream",
     "text": [
      "/map_to_tables_220.json.gz\n"
     ]
    },
    {
     "name": "stderr",
     "output_type": "stream",
     "text": [
      "\r",
      " 52% (189 of 359) |###########           | Elapsed Time: 0:01:34 ETA:   0:01:37"
     ]
    },
    {
     "name": "stdout",
     "output_type": "stream",
     "text": [
      "/map_to_tables_119.json.gz\n"
     ]
    },
    {
     "name": "stderr",
     "output_type": "stream",
     "text": [
      "\r",
      " 52% (190 of 359) |###########           | Elapsed Time: 0:01:35 ETA:   0:01:41"
     ]
    },
    {
     "name": "stdout",
     "output_type": "stream",
     "text": [
      "/map_to_tables_164.json.gz\n"
     ]
    },
    {
     "name": "stderr",
     "output_type": "stream",
     "text": [
      "\r",
      " 53% (191 of 359) |###########           | Elapsed Time: 0:01:35 ETA:   0:01:28"
     ]
    },
    {
     "name": "stdout",
     "output_type": "stream",
     "text": [
      "/map_to_tables_48.json.gz\n"
     ]
    },
    {
     "name": "stderr",
     "output_type": "stream",
     "text": [
      "\r",
      " 53% (192 of 359) |###########           | Elapsed Time: 0:01:35 ETA:   0:01:28"
     ]
    },
    {
     "name": "stdout",
     "output_type": "stream",
     "text": [
      "/map_to_tables_112.json.gz\n"
     ]
    },
    {
     "name": "stderr",
     "output_type": "stream",
     "text": [
      "\r",
      " 53% (193 of 359) |###########           | Elapsed Time: 0:01:36 ETA:   0:01:26"
     ]
    },
    {
     "name": "stdout",
     "output_type": "stream",
     "text": [
      "/map_to_tables_339.json.gz\n"
     ]
    },
    {
     "name": "stderr",
     "output_type": "stream",
     "text": [
      "\r",
      " 54% (194 of 359) |###########           | Elapsed Time: 0:01:36 ETA:   0:01:20"
     ]
    },
    {
     "name": "stdout",
     "output_type": "stream",
     "text": [
      "/map_to_tables_327.json.gz\n"
     ]
    },
    {
     "name": "stderr",
     "output_type": "stream",
     "text": [
      "\r",
      " 54% (195 of 359) |###########           | Elapsed Time: 0:01:37 ETA:   0:01:16"
     ]
    },
    {
     "name": "stdout",
     "output_type": "stream",
     "text": [
      "/map_to_tables_322.json.gz\n"
     ]
    },
    {
     "name": "stderr",
     "output_type": "stream",
     "text": [
      "\r",
      " 54% (196 of 359) |############          | Elapsed Time: 0:01:38 ETA:   0:01:31"
     ]
    },
    {
     "name": "stdout",
     "output_type": "stream",
     "text": [
      "/map_to_tables_353.json.gz\n"
     ]
    },
    {
     "name": "stderr",
     "output_type": "stream",
     "text": [
      "\r",
      " 54% (197 of 359) |############          | Elapsed Time: 0:01:38 ETA:   0:01:24"
     ]
    },
    {
     "name": "stdout",
     "output_type": "stream",
     "text": [
      "/map_to_tables_86.json.gz\n"
     ]
    },
    {
     "name": "stderr",
     "output_type": "stream",
     "text": [
      "\r",
      " 55% (198 of 359) |############          | Elapsed Time: 0:01:39 ETA:   0:01:31"
     ]
    },
    {
     "name": "stdout",
     "output_type": "stream",
     "text": [
      "/map_to_tables_311.json.gz\n"
     ]
    },
    {
     "name": "stderr",
     "output_type": "stream",
     "text": [
      "\r",
      " 55% (199 of 359) |############          | Elapsed Time: 0:01:39 ETA:   0:01:31"
     ]
    },
    {
     "name": "stdout",
     "output_type": "stream",
     "text": [
      "/map_to_tables_304.json.gz\n"
     ]
    },
    {
     "name": "stderr",
     "output_type": "stream",
     "text": [
      "\r",
      " 55% (200 of 359) |############          | Elapsed Time: 0:01:40 ETA:   0:01:28"
     ]
    },
    {
     "name": "stdout",
     "output_type": "stream",
     "text": [
      "/map_to_tables_19.json.gz\n"
     ]
    },
    {
     "name": "stderr",
     "output_type": "stream",
     "text": [
      "\r",
      " 55% (201 of 359) |############          | Elapsed Time: 0:01:40 ETA:   0:01:43"
     ]
    },
    {
     "name": "stdout",
     "output_type": "stream",
     "text": [
      "/map_to_tables_167.json.gz\n"
     ]
    },
    {
     "name": "stderr",
     "output_type": "stream",
     "text": [
      "\r",
      " 56% (202 of 359) |############          | Elapsed Time: 0:01:41 ETA:   0:01:32"
     ]
    },
    {
     "name": "stdout",
     "output_type": "stream",
     "text": [
      "/map_to_tables_66.json.gz\n"
     ]
    },
    {
     "name": "stderr",
     "output_type": "stream",
     "text": [
      "\r",
      " 56% (203 of 359) |############          | Elapsed Time: 0:01:41 ETA:   0:01:20"
     ]
    },
    {
     "name": "stdout",
     "output_type": "stream",
     "text": [
      "/map_to_tables_36.json.gz\n"
     ]
    },
    {
     "name": "stderr",
     "output_type": "stream",
     "text": [
      "\r",
      " 56% (204 of 359) |############          | Elapsed Time: 0:01:42 ETA:   0:01:20"
     ]
    },
    {
     "name": "stdout",
     "output_type": "stream",
     "text": [
      "/map_to_tables_206.json.gz\n"
     ]
    },
    {
     "name": "stderr",
     "output_type": "stream",
     "text": [
      "\r",
      " 57% (205 of 359) |############          | Elapsed Time: 0:01:42 ETA:   0:01:16"
     ]
    },
    {
     "name": "stdout",
     "output_type": "stream",
     "text": [
      "/map_to_tables_346.json.gz\n"
     ]
    },
    {
     "name": "stderr",
     "output_type": "stream",
     "text": [
      "\r",
      " 57% (206 of 359) |############          | Elapsed Time: 0:01:43 ETA:   0:01:05"
     ]
    },
    {
     "name": "stdout",
     "output_type": "stream",
     "text": [
      "/map_to_tables_91.json.gz\n"
     ]
    },
    {
     "name": "stderr",
     "output_type": "stream",
     "text": [
      "\r",
      " 57% (207 of 359) |############          | Elapsed Time: 0:01:43 ETA:   0:01:04"
     ]
    },
    {
     "name": "stdout",
     "output_type": "stream",
     "text": [
      "/map_to_tables_20.json.gz\n"
     ]
    },
    {
     "name": "stderr",
     "output_type": "stream",
     "text": [
      "\r",
      " 57% (208 of 359) |############          | Elapsed Time: 0:01:44 ETA:   0:01:13"
     ]
    },
    {
     "name": "stdout",
     "output_type": "stream",
     "text": [
      "/map_to_tables_222.json.gz\n"
     ]
    },
    {
     "name": "stderr",
     "output_type": "stream",
     "text": [
      "\r",
      " 58% (209 of 359) |############          | Elapsed Time: 0:01:44 ETA:   0:01:07"
     ]
    },
    {
     "name": "stdout",
     "output_type": "stream",
     "text": [
      "/map_to_tables_12.json.gz\n"
     ]
    },
    {
     "name": "stderr",
     "output_type": "stream",
     "text": [
      "\r",
      " 58% (210 of 359) |############          | Elapsed Time: 0:01:45 ETA:   0:01:18"
     ]
    },
    {
     "name": "stdout",
     "output_type": "stream",
     "text": [
      "/map_to_tables_189.json.gz\n"
     ]
    },
    {
     "name": "stderr",
     "output_type": "stream",
     "text": [
      "\r",
      " 58% (211 of 359) |############          | Elapsed Time: 0:01:45 ETA:   0:01:29"
     ]
    },
    {
     "name": "stdout",
     "output_type": "stream",
     "text": [
      "/map_to_tables_315.json.gz\n"
     ]
    },
    {
     "name": "stderr",
     "output_type": "stream",
     "text": [
      "\r",
      " 59% (212 of 359) |############          | Elapsed Time: 0:01:46 ETA:   0:01:27"
     ]
    },
    {
     "name": "stdout",
     "output_type": "stream",
     "text": [
      "/map_to_tables_31.json.gz\n"
     ]
    },
    {
     "name": "stderr",
     "output_type": "stream",
     "text": [
      "\r",
      " 59% (213 of 359) |#############         | Elapsed Time: 0:01:46 ETA:   0:01:24"
     ]
    },
    {
     "name": "stdout",
     "output_type": "stream",
     "text": [
      "/map_to_tables_204.json.gz\n"
     ]
    },
    {
     "name": "stderr",
     "output_type": "stream",
     "text": [
      "\r",
      " 59% (214 of 359) |#############         | Elapsed Time: 0:01:47 ETA:   0:01:13"
     ]
    },
    {
     "name": "stdout",
     "output_type": "stream",
     "text": [
      "/map_to_tables_302.json.gz\n"
     ]
    },
    {
     "name": "stderr",
     "output_type": "stream",
     "text": [
      "\r",
      " 59% (215 of 359) |#############         | Elapsed Time: 0:01:47 ETA:   0:01:08"
     ]
    },
    {
     "name": "stdout",
     "output_type": "stream",
     "text": [
      "/map_to_tables_3.json.gz\n"
     ]
    },
    {
     "name": "stderr",
     "output_type": "stream",
     "text": [
      "\r",
      " 60% (216 of 359) |#############         | Elapsed Time: 0:01:48 ETA:   0:01:06"
     ]
    },
    {
     "name": "stdout",
     "output_type": "stream",
     "text": [
      "/map_to_tables_243.json.gz\n"
     ]
    },
    {
     "name": "stderr",
     "output_type": "stream",
     "text": [
      "\r",
      " 60% (217 of 359) |#############         | Elapsed Time: 0:01:48 ETA:   0:00:58"
     ]
    },
    {
     "name": "stdout",
     "output_type": "stream",
     "text": [
      "/map_to_tables_358.json.gz\n"
     ]
    },
    {
     "name": "stderr",
     "output_type": "stream",
     "text": [
      "\r",
      " 60% (218 of 359) |#############         | Elapsed Time: 0:01:49 ETA:   0:01:05"
     ]
    },
    {
     "name": "stdout",
     "output_type": "stream",
     "text": [
      "/map_to_tables_281.json.gz\n"
     ]
    },
    {
     "name": "stderr",
     "output_type": "stream",
     "text": [
      "\r",
      " 61% (219 of 359) |#############         | Elapsed Time: 0:01:49 ETA:   0:01:05"
     ]
    },
    {
     "name": "stdout",
     "output_type": "stream",
     "text": [
      "/map_to_tables_22.json.gz\n"
     ]
    },
    {
     "name": "stderr",
     "output_type": "stream",
     "text": [
      "\r",
      " 61% (220 of 359) |#############         | Elapsed Time: 0:01:50 ETA:   0:01:12"
     ]
    },
    {
     "name": "stdout",
     "output_type": "stream",
     "text": [
      "/map_to_tables_228.json.gz\n"
     ]
    },
    {
     "name": "stderr",
     "output_type": "stream",
     "text": [
      "\r",
      " 61% (221 of 359) |#############         | Elapsed Time: 0:01:50 ETA:   0:01:21"
     ]
    },
    {
     "name": "stdout",
     "output_type": "stream",
     "text": [
      "/map_to_tables_111.json.gz\n"
     ]
    },
    {
     "name": "stderr",
     "output_type": "stream",
     "text": [
      "\r",
      " 61% (222 of 359) |#############         | Elapsed Time: 0:01:51 ETA:   0:01:12"
     ]
    },
    {
     "name": "stdout",
     "output_type": "stream",
     "text": [
      "/map_to_tables_57.json.gz\n"
     ]
    },
    {
     "name": "stderr",
     "output_type": "stream",
     "text": [
      "\r",
      " 62% (223 of 359) |#############         | Elapsed Time: 0:01:51 ETA:   0:01:11"
     ]
    },
    {
     "name": "stdout",
     "output_type": "stream",
     "text": [
      "/map_to_tables_84.json.gz\n"
     ]
    },
    {
     "name": "stderr",
     "output_type": "stream",
     "text": [
      "\r",
      " 62% (224 of 359) |#############         | Elapsed Time: 0:01:52 ETA:   0:01:06"
     ]
    },
    {
     "name": "stdout",
     "output_type": "stream",
     "text": [
      "/map_to_tables_50.json.gz\n"
     ]
    },
    {
     "name": "stderr",
     "output_type": "stream",
     "text": [
      "\r",
      " 62% (225 of 359) |#############         | Elapsed Time: 0:01:52 ETA:   0:00:59"
     ]
    },
    {
     "name": "stdout",
     "output_type": "stream",
     "text": [
      "/map_to_tables_338.json.gz\n"
     ]
    },
    {
     "name": "stderr",
     "output_type": "stream",
     "text": [
      "\r",
      " 62% (226 of 359) |#############         | Elapsed Time: 0:01:53 ETA:   0:00:59"
     ]
    },
    {
     "name": "stdout",
     "output_type": "stream",
     "text": [
      "/map_to_tables_266.json.gz\n"
     ]
    },
    {
     "name": "stderr",
     "output_type": "stream",
     "text": [
      "\r",
      " 63% (227 of 359) |#############         | Elapsed Time: 0:01:53 ETA:   0:00:59"
     ]
    },
    {
     "name": "stdout",
     "output_type": "stream",
     "text": [
      "/map_to_tables_205.json.gz\n"
     ]
    },
    {
     "name": "stderr",
     "output_type": "stream",
     "text": [
      "\r",
      " 63% (228 of 359) |#############         | Elapsed Time: 0:01:54 ETA:   0:01:10"
     ]
    },
    {
     "name": "stdout",
     "output_type": "stream",
     "text": [
      "/map_to_tables_90.json.gz\n"
     ]
    },
    {
     "name": "stderr",
     "output_type": "stream",
     "text": [
      "\r",
      " 63% (229 of 359) |##############        | Elapsed Time: 0:01:54 ETA:   0:01:17"
     ]
    },
    {
     "name": "stdout",
     "output_type": "stream",
     "text": [
      "/map_to_tables_10.json.gz\n"
     ]
    },
    {
     "name": "stderr",
     "output_type": "stream",
     "text": [
      "\r",
      " 64% (230 of 359) |##############        | Elapsed Time: 0:01:55 ETA:   0:01:10"
     ]
    },
    {
     "name": "stdout",
     "output_type": "stream",
     "text": [
      "/map_to_tables_23.json.gz\n"
     ]
    },
    {
     "name": "stderr",
     "output_type": "stream",
     "text": [
      "\r",
      " 64% (231 of 359) |##############        | Elapsed Time: 0:01:55 ETA:   0:01:11"
     ]
    },
    {
     "name": "stdout",
     "output_type": "stream",
     "text": [
      "/map_to_tables_39.json.gz\n"
     ]
    },
    {
     "name": "stderr",
     "output_type": "stream",
     "text": [
      "\r",
      " 64% (232 of 359) |##############        | Elapsed Time: 0:01:56 ETA:   0:01:11"
     ]
    },
    {
     "name": "stdout",
     "output_type": "stream",
     "text": [
      "/map_to_tables_234.json.gz\n"
     ]
    },
    {
     "name": "stderr",
     "output_type": "stream",
     "text": [
      "\r",
      " 64% (233 of 359) |##############        | Elapsed Time: 0:01:57 ETA:   0:01:11"
     ]
    },
    {
     "name": "stdout",
     "output_type": "stream",
     "text": [
      "/map_to_tables_169.json.gz\n"
     ]
    },
    {
     "name": "stderr",
     "output_type": "stream",
     "text": [
      "\r",
      " 65% (234 of 359) |##############        | Elapsed Time: 0:01:57 ETA:   0:01:11"
     ]
    },
    {
     "name": "stdout",
     "output_type": "stream",
     "text": [
      "/map_to_tables_292.json.gz\n"
     ]
    },
    {
     "name": "stderr",
     "output_type": "stream",
     "text": [
      "\r",
      " 65% (235 of 359) |##############        | Elapsed Time: 0:01:58 ETA:   0:01:10"
     ]
    },
    {
     "name": "stdout",
     "output_type": "stream",
     "text": [
      "/map_to_tables_170.json.gz\n"
     ]
    },
    {
     "name": "stderr",
     "output_type": "stream",
     "text": [
      "\r",
      " 65% (236 of 359) |##############        | Elapsed Time: 0:01:58 ETA:   0:01:01"
     ]
    },
    {
     "name": "stdout",
     "output_type": "stream",
     "text": [
      "/map_to_tables_267.json.gz\n"
     ]
    },
    {
     "name": "stderr",
     "output_type": "stream",
     "text": [
      "\r",
      " 66% (237 of 359) |##############        | Elapsed Time: 0:01:58 ETA:   0:00:57"
     ]
    },
    {
     "name": "stdout",
     "output_type": "stream",
     "text": [
      "/map_to_tables_208.json.gz\n"
     ]
    },
    {
     "name": "stderr",
     "output_type": "stream",
     "text": [
      "\r",
      " 66% (238 of 359) |##############        | Elapsed Time: 0:01:59 ETA:   0:00:57"
     ]
    },
    {
     "name": "stdout",
     "output_type": "stream",
     "text": [
      "/map_to_tables_190.json.gz\n"
     ]
    },
    {
     "name": "stderr",
     "output_type": "stream",
     "text": [
      "\r",
      " 66% (239 of 359) |##############        | Elapsed Time: 0:01:59 ETA:   0:00:56"
     ]
    },
    {
     "name": "stdout",
     "output_type": "stream",
     "text": [
      "/map_to_tables_106.json.gz\n"
     ]
    },
    {
     "name": "stderr",
     "output_type": "stream",
     "text": [
      "\r",
      " 66% (240 of 359) |##############        | Elapsed Time: 0:02:00 ETA:   0:00:50"
     ]
    },
    {
     "name": "stdout",
     "output_type": "stream",
     "text": [
      "/map_to_tables_272.json.gz\n"
     ]
    },
    {
     "name": "stderr",
     "output_type": "stream",
     "text": [
      "\r",
      " 67% (241 of 359) |##############        | Elapsed Time: 0:02:00 ETA:   0:00:50"
     ]
    },
    {
     "name": "stdout",
     "output_type": "stream",
     "text": [
      "/map_to_tables_85.json.gz\n"
     ]
    },
    {
     "name": "stderr",
     "output_type": "stream",
     "text": [
      "\r",
      " 67% (242 of 359) |##############        | Elapsed Time: 0:02:00 ETA:   0:00:49"
     ]
    },
    {
     "name": "stdout",
     "output_type": "stream",
     "text": [
      "/map_to_tables_87.json.gz\n"
     ]
    },
    {
     "name": "stderr",
     "output_type": "stream",
     "text": [
      "\r",
      " 67% (243 of 359) |##############        | Elapsed Time: 0:02:01 ETA:   0:00:47"
     ]
    },
    {
     "name": "stdout",
     "output_type": "stream",
     "text": [
      "/map_to_tables_256.json.gz\n"
     ]
    },
    {
     "name": "stderr",
     "output_type": "stream",
     "text": [
      "\r",
      " 67% (244 of 359) |##############        | Elapsed Time: 0:02:01 ETA:   0:00:42"
     ]
    },
    {
     "name": "stdout",
     "output_type": "stream",
     "text": [
      "/map_to_tables_59.json.gz\n"
     ]
    },
    {
     "name": "stderr",
     "output_type": "stream",
     "text": [
      "\r",
      " 68% (245 of 359) |###############       | Elapsed Time: 0:02:02 ETA:   0:00:51"
     ]
    },
    {
     "name": "stdout",
     "output_type": "stream",
     "text": [
      "/map_to_tables_152.json.gz\n"
     ]
    },
    {
     "name": "stderr",
     "output_type": "stream",
     "text": [
      "\r",
      " 68% (246 of 359) |###############       | Elapsed Time: 0:02:03 ETA:   0:01:00"
     ]
    },
    {
     "name": "stdout",
     "output_type": "stream",
     "text": [
      "/map_to_tables_82.json.gz\n"
     ]
    },
    {
     "name": "stderr",
     "output_type": "stream",
     "text": [
      "\r",
      " 68% (247 of 359) |###############       | Elapsed Time: 0:02:03 ETA:   0:00:59"
     ]
    },
    {
     "name": "stdout",
     "output_type": "stream",
     "text": [
      "/map_to_tables_95.json.gz\n"
     ]
    },
    {
     "name": "stderr",
     "output_type": "stream",
     "text": [
      "\r",
      " 69% (248 of 359) |###############       | Elapsed Time: 0:02:03 ETA:   0:00:59"
     ]
    },
    {
     "name": "stdout",
     "output_type": "stream",
     "text": [
      "/map_to_tables_216.json.gz\n"
     ]
    },
    {
     "name": "stderr",
     "output_type": "stream",
     "text": [
      "\r",
      " 69% (249 of 359) |###############       | Elapsed Time: 0:02:04 ETA:   0:01:00"
     ]
    },
    {
     "name": "stdout",
     "output_type": "stream",
     "text": [
      "/map_to_tables_25.json.gz\n"
     ]
    },
    {
     "name": "stderr",
     "output_type": "stream",
     "text": [
      "\r",
      " 69% (250 of 359) |###############       | Elapsed Time: 0:02:04 ETA:   0:00:51"
     ]
    },
    {
     "name": "stdout",
     "output_type": "stream",
     "text": [
      "/map_to_tables_9.json.gz\n"
     ]
    },
    {
     "name": "stderr",
     "output_type": "stream",
     "text": [
      "\r",
      " 69% (251 of 359) |###############       | Elapsed Time: 0:02:05 ETA:   0:00:50"
     ]
    },
    {
     "name": "stdout",
     "output_type": "stream",
     "text": [
      "/map_to_tables_175.json.gz\n"
     ]
    },
    {
     "name": "stderr",
     "output_type": "stream",
     "text": [
      "\r",
      " 70% (252 of 359) |###############       | Elapsed Time: 0:02:06 ETA:   0:01:00"
     ]
    },
    {
     "name": "stdout",
     "output_type": "stream",
     "text": [
      "/map_to_tables_72.json.gz\n"
     ]
    },
    {
     "name": "stderr",
     "output_type": "stream",
     "text": [
      "\r",
      " 70% (253 of 359) |###############       | Elapsed Time: 0:02:06 ETA:   0:00:53"
     ]
    },
    {
     "name": "stdout",
     "output_type": "stream",
     "text": [
      "/map_to_tables_63.json.gz\n"
     ]
    },
    {
     "name": "stderr",
     "output_type": "stream",
     "text": [
      "\r",
      " 70% (254 of 359) |###############       | Elapsed Time: 0:02:06 ETA:   0:00:49"
     ]
    },
    {
     "name": "stdout",
     "output_type": "stream",
     "text": [
      "/map_to_tables_274.json.gz\n"
     ]
    },
    {
     "name": "stderr",
     "output_type": "stream",
     "text": [
      "\r",
      " 71% (255 of 359) |###############       | Elapsed Time: 0:02:07 ETA:   0:00:49"
     ]
    },
    {
     "name": "stdout",
     "output_type": "stream",
     "text": [
      "/map_to_tables_97.json.gz\n"
     ]
    },
    {
     "name": "stderr",
     "output_type": "stream",
     "text": [
      "\r",
      " 71% (256 of 359) |###############       | Elapsed Time: 0:02:07 ETA:   0:00:49"
     ]
    },
    {
     "name": "stdout",
     "output_type": "stream",
     "text": [
      "/map_to_tables_7.json.gz\n"
     ]
    },
    {
     "name": "stderr",
     "output_type": "stream",
     "text": [
      "\r",
      " 71% (257 of 359) |###############       | Elapsed Time: 0:02:08 ETA:   0:00:42"
     ]
    },
    {
     "name": "stdout",
     "output_type": "stream",
     "text": [
      "/map_to_tables_140.json.gz\n"
     ]
    },
    {
     "name": "stderr",
     "output_type": "stream",
     "text": [
      "\r",
      " 71% (258 of 359) |###############       | Elapsed Time: 0:02:08 ETA:   0:00:42"
     ]
    },
    {
     "name": "stdout",
     "output_type": "stream",
     "text": [
      "/map_to_tables_146.json.gz\n"
     ]
    },
    {
     "name": "stderr",
     "output_type": "stream",
     "text": [
      "\r",
      " 72% (259 of 359) |###############       | Elapsed Time: 0:02:08 ETA:   0:00:42"
     ]
    },
    {
     "name": "stdout",
     "output_type": "stream",
     "text": [
      "/map_to_tables_185.json.gz\n"
     ]
    },
    {
     "name": "stderr",
     "output_type": "stream",
     "text": [
      "\r",
      " 72% (260 of 359) |###############       | Elapsed Time: 0:02:09 ETA:   0:00:49"
     ]
    },
    {
     "name": "stdout",
     "output_type": "stream",
     "text": [
      "/map_to_tables_280.json.gz\n"
     ]
    },
    {
     "name": "stderr",
     "output_type": "stream",
     "text": [
      "\r",
      " 72% (261 of 359) |###############       | Elapsed Time: 0:02:10 ETA:   0:00:51"
     ]
    },
    {
     "name": "stdout",
     "output_type": "stream",
     "text": [
      "/map_to_tables_227.json.gz\n"
     ]
    },
    {
     "name": "stderr",
     "output_type": "stream",
     "text": [
      "\r",
      " 72% (262 of 359) |################      | Elapsed Time: 0:02:10 ETA:   0:00:57"
     ]
    },
    {
     "name": "stdout",
     "output_type": "stream",
     "text": [
      "/map_to_tables_329.json.gz\n"
     ]
    },
    {
     "name": "stderr",
     "output_type": "stream",
     "text": [
      "\r",
      " 73% (263 of 359) |################      | Elapsed Time: 0:02:11 ETA:   0:01:03"
     ]
    },
    {
     "name": "stdout",
     "output_type": "stream",
     "text": [
      "/map_to_tables_32.json.gz\n"
     ]
    },
    {
     "name": "stderr",
     "output_type": "stream",
     "text": [
      "\r",
      " 73% (264 of 359) |################      | Elapsed Time: 0:02:11 ETA:   0:00:53"
     ]
    },
    {
     "name": "stdout",
     "output_type": "stream",
     "text": [
      "/map_to_tables_357.json.gz\n"
     ]
    },
    {
     "name": "stderr",
     "output_type": "stream",
     "text": [
      "\r",
      " 73% (265 of 359) |################      | Elapsed Time: 0:02:12 ETA:   0:00:48"
     ]
    },
    {
     "name": "stdout",
     "output_type": "stream",
     "text": [
      "/map_to_tables_262.json.gz\n"
     ]
    },
    {
     "name": "stderr",
     "output_type": "stream",
     "text": [
      "\r",
      " 74% (266 of 359) |################      | Elapsed Time: 0:02:12 ETA:   0:00:48"
     ]
    },
    {
     "name": "stdout",
     "output_type": "stream",
     "text": [
      "/map_to_tables_142.json.gz\n"
     ]
    },
    {
     "name": "stderr",
     "output_type": "stream",
     "text": [
      "\r",
      " 74% (267 of 359) |################      | Elapsed Time: 0:02:13 ETA:   0:00:43"
     ]
    },
    {
     "name": "stdout",
     "output_type": "stream",
     "text": [
      "/map_to_tables_299.json.gz\n"
     ]
    },
    {
     "name": "stderr",
     "output_type": "stream",
     "text": [
      "\r",
      " 74% (268 of 359) |################      | Elapsed Time: 0:02:13 ETA:   0:00:37"
     ]
    },
    {
     "name": "stdout",
     "output_type": "stream",
     "text": [
      "/map_to_tables_276.json.gz\n"
     ]
    },
    {
     "name": "stderr",
     "output_type": "stream",
     "text": [
      "\r",
      " 74% (269 of 359) |################      | Elapsed Time: 0:02:14 ETA:   0:00:39"
     ]
    },
    {
     "name": "stdout",
     "output_type": "stream",
     "text": [
      "/map_to_tables_1.json.gz\n"
     ]
    },
    {
     "name": "stderr",
     "output_type": "stream",
     "text": [
      "\r",
      " 75% (270 of 359) |################      | Elapsed Time: 0:02:14 ETA:   0:00:39"
     ]
    },
    {
     "name": "stdout",
     "output_type": "stream",
     "text": [
      "/map_to_tables_110.json.gz\n"
     ]
    },
    {
     "name": "stderr",
     "output_type": "stream",
     "text": [
      "\r",
      " 75% (271 of 359) |################      | Elapsed Time: 0:02:14 ETA:   0:00:37"
     ]
    },
    {
     "name": "stdout",
     "output_type": "stream",
     "text": [
      "/map_to_tables_37.json.gz\n"
     ]
    },
    {
     "name": "stderr",
     "output_type": "stream",
     "text": [
      "\r",
      " 75% (272 of 359) |################      | Elapsed Time: 0:02:15 ETA:   0:00:33"
     ]
    },
    {
     "name": "stdout",
     "output_type": "stream",
     "text": [
      "/map_to_tables_328.json.gz\n"
     ]
    },
    {
     "name": "stderr",
     "output_type": "stream",
     "text": [
      "\r",
      " 76% (273 of 359) |################      | Elapsed Time: 0:02:15 ETA:   0:00:38"
     ]
    },
    {
     "name": "stdout",
     "output_type": "stream",
     "text": [
      "/map_to_tables_196.json.gz\n"
     ]
    },
    {
     "name": "stderr",
     "output_type": "stream",
     "text": [
      "\r",
      " 76% (274 of 359) |################      | Elapsed Time: 0:02:16 ETA:   0:00:36"
     ]
    },
    {
     "name": "stdout",
     "output_type": "stream",
     "text": [
      "/map_to_tables_40.json.gz\n"
     ]
    },
    {
     "name": "stderr",
     "output_type": "stream",
     "text": [
      "\r",
      " 76% (275 of 359) |################      | Elapsed Time: 0:02:16 ETA:   0:00:43"
     ]
    },
    {
     "name": "stdout",
     "output_type": "stream",
     "text": [
      "/map_to_tables_29.json.gz\n"
     ]
    },
    {
     "name": "stderr",
     "output_type": "stream",
     "text": [
      "\r",
      " 76% (276 of 359) |################      | Elapsed Time: 0:02:17 ETA:   0:00:48"
     ]
    },
    {
     "name": "stdout",
     "output_type": "stream",
     "text": [
      "/map_to_tables_215.json.gz\n"
     ]
    },
    {
     "name": "stderr",
     "output_type": "stream",
     "text": [
      "\r",
      " 77% (277 of 359) |################      | Elapsed Time: 0:02:18 ETA:   0:00:47"
     ]
    },
    {
     "name": "stdout",
     "output_type": "stream",
     "text": [
      "/map_to_tables_116.json.gz\n"
     ]
    },
    {
     "name": "stderr",
     "output_type": "stream",
     "text": [
      "\r",
      " 77% (278 of 359) |#################     | Elapsed Time: 0:02:18 ETA:   0:00:52"
     ]
    },
    {
     "name": "stdout",
     "output_type": "stream",
     "text": [
      "/map_to_tables_250.json.gz\n"
     ]
    },
    {
     "name": "stderr",
     "output_type": "stream",
     "text": [
      "\r",
      " 77% (279 of 359) |#################     | Elapsed Time: 0:02:19 ETA:   0:00:50"
     ]
    },
    {
     "name": "stdout",
     "output_type": "stream",
     "text": [
      "/map_to_tables_249.json.gz\n"
     ]
    },
    {
     "name": "stderr",
     "output_type": "stream",
     "text": [
      "\r",
      " 77% (280 of 359) |#################     | Elapsed Time: 0:02:19 ETA:   0:00:44"
     ]
    },
    {
     "name": "stdout",
     "output_type": "stream",
     "text": [
      "/map_to_tables_157.json.gz\n"
     ]
    },
    {
     "name": "stderr",
     "output_type": "stream",
     "text": [
      "\r",
      " 78% (281 of 359) |#################     | Elapsed Time: 0:02:20 ETA:   0:00:40"
     ]
    },
    {
     "name": "stdout",
     "output_type": "stream",
     "text": [
      "/map_to_tables_45.json.gz\n"
     ]
    },
    {
     "name": "stderr",
     "output_type": "stream",
     "text": [
      "\r",
      " 78% (282 of 359) |#################     | Elapsed Time: 0:02:20 ETA:   0:00:39"
     ]
    },
    {
     "name": "stdout",
     "output_type": "stream",
     "text": [
      "/map_to_tables_231.json.gz\n"
     ]
    },
    {
     "name": "stderr",
     "output_type": "stream",
     "text": [
      "\r",
      " 78% (283 of 359) |#################     | Elapsed Time: 0:02:21 ETA:   0:00:34"
     ]
    },
    {
     "name": "stdout",
     "output_type": "stream",
     "text": [
      "/map_to_tables_235.json.gz\n"
     ]
    },
    {
     "name": "stderr",
     "output_type": "stream",
     "text": [
      "\r",
      " 79% (284 of 359) |#################     | Elapsed Time: 0:02:21 ETA:   0:00:30"
     ]
    },
    {
     "name": "stdout",
     "output_type": "stream",
     "text": [
      "/map_to_tables_331.json.gz\n"
     ]
    },
    {
     "name": "stderr",
     "output_type": "stream",
     "text": [
      "\r",
      " 79% (285 of 359) |#################     | Elapsed Time: 0:02:22 ETA:   0:00:34"
     ]
    },
    {
     "name": "stdout",
     "output_type": "stream",
     "text": [
      "/map_to_tables_6.json.gz\n"
     ]
    },
    {
     "name": "stderr",
     "output_type": "stream",
     "text": [
      "\r",
      " 79% (286 of 359) |#################     | Elapsed Time: 0:02:22 ETA:   0:00:36"
     ]
    },
    {
     "name": "stdout",
     "output_type": "stream",
     "text": [
      "/map_to_tables_78.json.gz\n"
     ]
    },
    {
     "name": "stderr",
     "output_type": "stream",
     "text": [
      "\r",
      " 79% (287 of 359) |#################     | Elapsed Time: 0:02:23 ETA:   0:00:36"
     ]
    },
    {
     "name": "stdout",
     "output_type": "stream",
     "text": [
      "/map_to_tables_305.json.gz\n"
     ]
    },
    {
     "name": "stderr",
     "output_type": "stream",
     "text": [
      "\r",
      " 80% (288 of 359) |#################     | Elapsed Time: 0:02:23 ETA:   0:00:33"
     ]
    },
    {
     "name": "stdout",
     "output_type": "stream",
     "text": [
      "/map_to_tables_356.json.gz\n"
     ]
    },
    {
     "name": "stderr",
     "output_type": "stream",
     "text": [
      "\r",
      " 80% (289 of 359) |#################     | Elapsed Time: 0:02:23 ETA:   0:00:32"
     ]
    },
    {
     "name": "stdout",
     "output_type": "stream",
     "text": [
      "/map_to_tables_177.json.gz\n"
     ]
    },
    {
     "name": "stderr",
     "output_type": "stream",
     "text": [
      "\r",
      " 80% (290 of 359) |#################     | Elapsed Time: 0:02:24 ETA:   0:00:28"
     ]
    },
    {
     "name": "stdout",
     "output_type": "stream",
     "text": [
      "/map_to_tables_294.json.gz\n"
     ]
    },
    {
     "name": "stderr",
     "output_type": "stream",
     "text": [
      "\r",
      " 81% (291 of 359) |#################     | Elapsed Time: 0:02:24 ETA:   0:00:27"
     ]
    },
    {
     "name": "stdout",
     "output_type": "stream",
     "text": [
      "/map_to_tables_209.json.gz\n"
     ]
    },
    {
     "name": "stderr",
     "output_type": "stream",
     "text": [
      "\r",
      " 81% (292 of 359) |#################     | Elapsed Time: 0:02:25 ETA:   0:00:29"
     ]
    },
    {
     "name": "stdout",
     "output_type": "stream",
     "text": [
      "/map_to_tables_264.json.gz\n"
     ]
    },
    {
     "name": "stderr",
     "output_type": "stream",
     "text": [
      "\r",
      " 81% (293 of 359) |#################     | Elapsed Time: 0:02:25 ETA:   0:00:29"
     ]
    },
    {
     "name": "stdout",
     "output_type": "stream",
     "text": [
      "/map_to_tables_296.json.gz\n"
     ]
    },
    {
     "name": "stderr",
     "output_type": "stream",
     "text": [
      "\r",
      " 81% (294 of 359) |##################    | Elapsed Time: 0:02:26 ETA:   0:00:35"
     ]
    },
    {
     "name": "stdout",
     "output_type": "stream",
     "text": [
      "/map_to_tables_115.json.gz\n"
     ]
    },
    {
     "name": "stderr",
     "output_type": "stream",
     "text": [
      "\r",
      " 82% (295 of 359) |##################    | Elapsed Time: 0:02:26 ETA:   0:00:34"
     ]
    },
    {
     "name": "stdout",
     "output_type": "stream",
     "text": [
      "/map_to_tables_312.json.gz\n"
     ]
    },
    {
     "name": "stderr",
     "output_type": "stream",
     "text": [
      "\r",
      " 82% (296 of 359) |##################    | Elapsed Time: 0:02:27 ETA:   0:00:31"
     ]
    },
    {
     "name": "stdout",
     "output_type": "stream",
     "text": [
      "/map_to_tables_253.json.gz\n"
     ]
    },
    {
     "name": "stderr",
     "output_type": "stream",
     "text": [
      "\r",
      " 82% (297 of 359) |##################    | Elapsed Time: 0:02:27 ETA:   0:00:26"
     ]
    },
    {
     "name": "stdout",
     "output_type": "stream",
     "text": [
      "/map_to_tables_300.json.gz\n"
     ]
    },
    {
     "name": "stderr",
     "output_type": "stream",
     "text": [
      "\r",
      " 83% (298 of 359) |##################    | Elapsed Time: 0:02:27 ETA:   0:00:25"
     ]
    },
    {
     "name": "stdout",
     "output_type": "stream",
     "text": [
      "/map_to_tables_171.json.gz\n"
     ]
    },
    {
     "name": "stderr",
     "output_type": "stream",
     "text": [
      "\r",
      " 83% (299 of 359) |##################    | Elapsed Time: 0:02:28 ETA:   0:00:25"
     ]
    },
    {
     "name": "stdout",
     "output_type": "stream",
     "text": [
      "/map_to_tables_73.json.gz\n"
     ]
    },
    {
     "name": "stderr",
     "output_type": "stream",
     "text": [
      "\r",
      " 83% (300 of 359) |##################    | Elapsed Time: 0:02:29 ETA:   0:00:29"
     ]
    },
    {
     "name": "stdout",
     "output_type": "stream",
     "text": [
      "/map_to_tables_344.json.gz\n"
     ]
    },
    {
     "name": "stderr",
     "output_type": "stream",
     "text": [
      "\r",
      " 83% (301 of 359) |##################    | Elapsed Time: 0:02:29 ETA:   0:00:33"
     ]
    },
    {
     "name": "stdout",
     "output_type": "stream",
     "text": [
      "/map_to_tables_224.json.gz\n"
     ]
    },
    {
     "name": "stderr",
     "output_type": "stream",
     "text": [
      "\r",
      " 84% (302 of 359) |##################    | Elapsed Time: 0:02:30 ETA:   0:00:33"
     ]
    },
    {
     "name": "stdout",
     "output_type": "stream",
     "text": [
      "/map_to_tables_131.json.gz\n"
     ]
    },
    {
     "name": "stderr",
     "output_type": "stream",
     "text": [
      "\r",
      " 84% (303 of 359) |##################    | Elapsed Time: 0:02:30 ETA:   0:00:29"
     ]
    },
    {
     "name": "stdout",
     "output_type": "stream",
     "text": [
      "/map_to_tables_348.json.gz\n"
     ]
    },
    {
     "name": "stderr",
     "output_type": "stream",
     "text": [
      "\r",
      " 84% (304 of 359) |##################    | Elapsed Time: 0:02:31 ETA:   0:00:28"
     ]
    },
    {
     "name": "stdout",
     "output_type": "stream",
     "text": [
      "/map_to_tables_293.json.gz\n"
     ]
    },
    {
     "name": "stderr",
     "output_type": "stream",
     "text": [
      "\r",
      " 84% (305 of 359) |##################    | Elapsed Time: 0:02:31 ETA:   0:00:27"
     ]
    },
    {
     "name": "stdout",
     "output_type": "stream",
     "text": [
      "/map_to_tables_251.json.gz\n"
     ]
    },
    {
     "name": "stderr",
     "output_type": "stream",
     "text": [
      "\r",
      " 85% (306 of 359) |##################    | Elapsed Time: 0:02:32 ETA:   0:00:30"
     ]
    },
    {
     "name": "stdout",
     "output_type": "stream",
     "text": [
      "/map_to_tables_46.json.gz\n"
     ]
    },
    {
     "name": "stderr",
     "output_type": "stream",
     "text": [
      "\r",
      " 85% (307 of 359) |##################    | Elapsed Time: 0:02:33 ETA:   0:00:32"
     ]
    },
    {
     "name": "stdout",
     "output_type": "stream",
     "text": [
      "/map_to_tables_126.json.gz\n"
     ]
    },
    {
     "name": "stderr",
     "output_type": "stream",
     "text": [
      "\r",
      " 85% (308 of 359) |##################    | Elapsed Time: 0:02:33 ETA:   0:00:28"
     ]
    },
    {
     "name": "stdout",
     "output_type": "stream",
     "text": [
      "/map_to_tables_349.json.gz\n"
     ]
    },
    {
     "name": "stderr",
     "output_type": "stream",
     "text": [
      "\r",
      " 86% (309 of 359) |##################    | Elapsed Time: 0:02:34 ETA:   0:00:29"
     ]
    },
    {
     "name": "stdout",
     "output_type": "stream",
     "text": [
      "/map_to_tables_2.json.gz\n"
     ]
    },
    {
     "name": "stderr",
     "output_type": "stream",
     "text": [
      "\r",
      " 86% (310 of 359) |##################    | Elapsed Time: 0:02:34 ETA:   0:00:26"
     ]
    },
    {
     "name": "stdout",
     "output_type": "stream",
     "text": [
      "/map_to_tables_333.json.gz\n"
     ]
    },
    {
     "name": "stderr",
     "output_type": "stream",
     "text": [
      "\r",
      " 86% (311 of 359) |###################   | Elapsed Time: 0:02:34 ETA:   0:00:23"
     ]
    },
    {
     "name": "stdout",
     "output_type": "stream",
     "text": [
      "/map_to_tables_265.json.gz\n"
     ]
    },
    {
     "name": "stderr",
     "output_type": "stream",
     "text": [
      "\r",
      " 86% (312 of 359) |###################   | Elapsed Time: 0:02:35 ETA:   0:00:24"
     ]
    },
    {
     "name": "stdout",
     "output_type": "stream",
     "text": [
      "/map_to_tables_283.json.gz\n"
     ]
    },
    {
     "name": "stderr",
     "output_type": "stream",
     "text": [
      "\r",
      " 87% (313 of 359) |###################   | Elapsed Time: 0:02:36 ETA:   0:00:32"
     ]
    },
    {
     "name": "stdout",
     "output_type": "stream",
     "text": [
      "/map_to_tables_198.json.gz\n"
     ]
    },
    {
     "name": "stderr",
     "output_type": "stream",
     "text": [
      "\r",
      " 87% (314 of 359) |###################   | Elapsed Time: 0:02:37 ETA:   0:00:35"
     ]
    },
    {
     "name": "stdout",
     "output_type": "stream",
     "text": [
      "/map_to_tables_30.json.gz\n"
     ]
    },
    {
     "name": "stderr",
     "output_type": "stream",
     "text": [
      "\r",
      " 87% (315 of 359) |###################   | Elapsed Time: 0:02:37 ETA:   0:00:35"
     ]
    },
    {
     "name": "stdout",
     "output_type": "stream",
     "text": [
      "/map_to_tables_268.json.gz\n"
     ]
    },
    {
     "name": "stderr",
     "output_type": "stream",
     "text": [
      "\r",
      " 88% (316 of 359) |###################   | Elapsed Time: 0:02:38 ETA:   0:00:32"
     ]
    },
    {
     "name": "stdout",
     "output_type": "stream",
     "text": [
      "/map_to_tables_52.json.gz\n"
     ]
    },
    {
     "name": "stderr",
     "output_type": "stream",
     "text": [
      "\r",
      " 88% (317 of 359) |###################   | Elapsed Time: 0:02:38 ETA:   0:00:23"
     ]
    },
    {
     "name": "stdout",
     "output_type": "stream",
     "text": [
      "/map_to_tables_354.json.gz\n"
     ]
    },
    {
     "name": "stderr",
     "output_type": "stream",
     "text": [
      "\r",
      " 88% (318 of 359) |###################   | Elapsed Time: 0:02:39 ETA:   0:00:20"
     ]
    },
    {
     "name": "stdout",
     "output_type": "stream",
     "text": [
      "/map_to_tables_201.json.gz\n"
     ]
    },
    {
     "name": "stderr",
     "output_type": "stream",
     "text": [
      "\r",
      " 88% (319 of 359) |###################   | Elapsed Time: 0:02:39 ETA:   0:00:21"
     ]
    },
    {
     "name": "stdout",
     "output_type": "stream",
     "text": [
      "/map_to_tables_61.json.gz\n"
     ]
    },
    {
     "name": "stderr",
     "output_type": "stream",
     "text": [
      "\r",
      " 89% (320 of 359) |###################   | Elapsed Time: 0:02:40 ETA:   0:00:18"
     ]
    },
    {
     "name": "stdout",
     "output_type": "stream",
     "text": [
      "/map_to_tables_99.json.gz\n"
     ]
    },
    {
     "name": "stderr",
     "output_type": "stream",
     "text": [
      "\r",
      " 89% (321 of 359) |###################   | Elapsed Time: 0:02:40 ETA:   0:00:19"
     ]
    },
    {
     "name": "stdout",
     "output_type": "stream",
     "text": [
      "/map_to_tables_68.json.gz\n"
     ]
    },
    {
     "name": "stderr",
     "output_type": "stream",
     "text": [
      "\r",
      " 89% (322 of 359) |###################   | Elapsed Time: 0:02:41 ETA:   0:00:22"
     ]
    },
    {
     "name": "stdout",
     "output_type": "stream",
     "text": [
      "/map_to_tables_120.json.gz\n"
     ]
    },
    {
     "name": "stderr",
     "output_type": "stream",
     "text": [
      "\r",
      " 89% (323 of 359) |###################   | Elapsed Time: 0:02:42 ETA:   0:00:24"
     ]
    },
    {
     "name": "stdout",
     "output_type": "stream",
     "text": [
      "/map_to_tables_295.json.gz\n"
     ]
    },
    {
     "name": "stderr",
     "output_type": "stream",
     "text": [
      "\r",
      " 90% (324 of 359) |###################   | Elapsed Time: 0:02:42 ETA:   0:00:21"
     ]
    },
    {
     "name": "stdout",
     "output_type": "stream",
     "text": [
      "/map_to_tables_335.json.gz\n"
     ]
    },
    {
     "name": "stderr",
     "output_type": "stream",
     "text": [
      "\r",
      " 90% (325 of 359) |###################   | Elapsed Time: 0:02:43 ETA:   0:00:18"
     ]
    },
    {
     "name": "stdout",
     "output_type": "stream",
     "text": [
      "/map_to_tables_42.json.gz\n"
     ]
    },
    {
     "name": "stderr",
     "output_type": "stream",
     "text": [
      "\r",
      " 90% (326 of 359) |###################   | Elapsed Time: 0:02:43 ETA:   0:00:17"
     ]
    },
    {
     "name": "stdout",
     "output_type": "stream",
     "text": [
      "/map_to_tables_179.json.gz\n"
     ]
    },
    {
     "name": "stderr",
     "output_type": "stream",
     "text": [
      "\r",
      " 91% (327 of 359) |####################  | Elapsed Time: 0:02:43 ETA:   0:00:14"
     ]
    },
    {
     "name": "stdout",
     "output_type": "stream",
     "text": [
      "/map_to_tables_236.json.gz\n"
     ]
    },
    {
     "name": "stderr",
     "output_type": "stream",
     "text": [
      "\r",
      " 91% (328 of 359) |####################  | Elapsed Time: 0:02:44 ETA:   0:00:13"
     ]
    },
    {
     "name": "stdout",
     "output_type": "stream",
     "text": [
      "/map_to_tables_317.json.gz\n"
     ]
    },
    {
     "name": "stderr",
     "output_type": "stream",
     "text": [
      "\r",
      " 91% (329 of 359) |####################  | Elapsed Time: 0:02:44 ETA:   0:00:13"
     ]
    },
    {
     "name": "stdout",
     "output_type": "stream",
     "text": [
      "/map_to_tables_173.json.gz\n"
     ]
    },
    {
     "name": "stderr",
     "output_type": "stream",
     "text": [
      "\r",
      " 91% (330 of 359) |####################  | Elapsed Time: 0:02:45 ETA:   0:00:15"
     ]
    },
    {
     "name": "stdout",
     "output_type": "stream",
     "text": [
      "/map_to_tables_187.json.gz\n"
     ]
    },
    {
     "name": "stderr",
     "output_type": "stream",
     "text": [
      "\r",
      " 92% (331 of 359) |####################  | Elapsed Time: 0:02:46 ETA:   0:00:15"
     ]
    },
    {
     "name": "stdout",
     "output_type": "stream",
     "text": [
      "/map_to_tables_93.json.gz\n"
     ]
    },
    {
     "name": "stderr",
     "output_type": "stream",
     "text": [
      "\r",
      " 92% (332 of 359) |####################  | Elapsed Time: 0:02:46 ETA:   0:00:15"
     ]
    },
    {
     "name": "stdout",
     "output_type": "stream",
     "text": [
      "/map_to_tables_21.json.gz\n"
     ]
    },
    {
     "name": "stderr",
     "output_type": "stream",
     "text": [
      "\r",
      " 92% (333 of 359) |####################  | Elapsed Time: 0:02:47 ETA:   0:00:14"
     ]
    },
    {
     "name": "stdout",
     "output_type": "stream",
     "text": [
      "/map_to_tables_226.json.gz\n"
     ]
    },
    {
     "name": "stderr",
     "output_type": "stream",
     "text": [
      "\r",
      " 93% (334 of 359) |####################  | Elapsed Time: 0:02:47 ETA:   0:00:12"
     ]
    },
    {
     "name": "stdout",
     "output_type": "stream",
     "text": [
      "/map_to_tables_221.json.gz\n"
     ]
    },
    {
     "name": "stderr",
     "output_type": "stream",
     "text": [
      "\r",
      " 93% (335 of 359) |####################  | Elapsed Time: 0:02:47 ETA:   0:00:10"
     ]
    },
    {
     "name": "stdout",
     "output_type": "stream",
     "text": [
      "/map_to_tables_148.json.gz\n"
     ]
    },
    {
     "name": "stderr",
     "output_type": "stream",
     "text": [
      "\r",
      " 93% (336 of 359) |####################  | Elapsed Time: 0:02:48 ETA:   0:00:09"
     ]
    },
    {
     "name": "stdout",
     "output_type": "stream",
     "text": [
      "/map_to_tables_34.json.gz\n"
     ]
    },
    {
     "name": "stderr",
     "output_type": "stream",
     "text": [
      "\r",
      " 93% (337 of 359) |####################  | Elapsed Time: 0:02:48 ETA:   0:00:09"
     ]
    },
    {
     "name": "stdout",
     "output_type": "stream",
     "text": [
      "/map_to_tables_307.json.gz\n"
     ]
    },
    {
     "name": "stderr",
     "output_type": "stream",
     "text": [
      "\r",
      " 94% (338 of 359) |####################  | Elapsed Time: 0:02:49 ETA:   0:00:10"
     ]
    },
    {
     "name": "stdout",
     "output_type": "stream",
     "text": [
      "/map_to_tables_105.json.gz\n"
     ]
    },
    {
     "name": "stderr",
     "output_type": "stream",
     "text": [
      "\r",
      " 94% (339 of 359) |####################  | Elapsed Time: 0:02:50 ETA:   0:00:11"
     ]
    },
    {
     "name": "stdout",
     "output_type": "stream",
     "text": [
      "/map_to_tables_89.json.gz\n"
     ]
    },
    {
     "name": "stderr",
     "output_type": "stream",
     "text": [
      "\r",
      " 94% (340 of 359) |####################  | Elapsed Time: 0:02:50 ETA:   0:00:11"
     ]
    },
    {
     "name": "stdout",
     "output_type": "stream",
     "text": [
      "/map_to_tables_138.json.gz\n"
     ]
    },
    {
     "name": "stderr",
     "output_type": "stream",
     "text": [
      "\r",
      " 94% (341 of 359) |####################  | Elapsed Time: 0:02:50 ETA:   0:00:09"
     ]
    },
    {
     "name": "stdout",
     "output_type": "stream",
     "text": [
      "/map_to_tables_246.json.gz\n"
     ]
    },
    {
     "name": "stderr",
     "output_type": "stream",
     "text": [
      "\r",
      " 95% (342 of 359) |####################  | Elapsed Time: 0:02:51 ETA:   0:00:08"
     ]
    },
    {
     "name": "stdout",
     "output_type": "stream",
     "text": [
      "/map_to_tables_337.json.gz\n"
     ]
    },
    {
     "name": "stderr",
     "output_type": "stream",
     "text": [
      "\r",
      " 95% (343 of 359) |##################### | Elapsed Time: 0:02:51 ETA:   0:00:07"
     ]
    },
    {
     "name": "stdout",
     "output_type": "stream",
     "text": [
      "/map_to_tables_100.json.gz\n"
     ]
    },
    {
     "name": "stderr",
     "output_type": "stream",
     "text": [
      "\r",
      " 95% (344 of 359) |##################### | Elapsed Time: 0:02:52 ETA:   0:00:06"
     ]
    },
    {
     "name": "stdout",
     "output_type": "stream",
     "text": [
      "/map_to_tables_257.json.gz\n"
     ]
    },
    {
     "name": "stderr",
     "output_type": "stream",
     "text": [
      "\r",
      " 96% (345 of 359) |##################### | Elapsed Time: 0:02:53 ETA:   0:00:07"
     ]
    },
    {
     "name": "stdout",
     "output_type": "stream",
     "text": [
      "/map_to_tables_64.json.gz\n"
     ]
    },
    {
     "name": "stderr",
     "output_type": "stream",
     "text": [
      "\r",
      " 96% (346 of 359) |##################### | Elapsed Time: 0:02:53 ETA:   0:00:06"
     ]
    },
    {
     "name": "stdout",
     "output_type": "stream",
     "text": [
      "/map_to_tables_139.json.gz\n"
     ]
    },
    {
     "name": "stderr",
     "output_type": "stream",
     "text": [
      "\r",
      " 96% (347 of 359) |##################### | Elapsed Time: 0:02:53 ETA:   0:00:05"
     ]
    },
    {
     "name": "stdout",
     "output_type": "stream",
     "text": [
      "/map_to_tables_214.json.gz\n"
     ]
    },
    {
     "name": "stderr",
     "output_type": "stream",
     "text": [
      "\r",
      " 96% (348 of 359) |##################### | Elapsed Time: 0:02:54 ETA:   0:00:04"
     ]
    },
    {
     "name": "stdout",
     "output_type": "stream",
     "text": [
      "/map_to_tables_4.json.gz\n"
     ]
    },
    {
     "name": "stderr",
     "output_type": "stream",
     "text": [
      "\r",
      " 97% (349 of 359) |##################### | Elapsed Time: 0:02:54 ETA:   0:00:04"
     ]
    },
    {
     "name": "stdout",
     "output_type": "stream",
     "text": [
      "/map_to_tables_194.json.gz\n"
     ]
    },
    {
     "name": "stderr",
     "output_type": "stream",
     "text": [
      "\r",
      " 97% (350 of 359) |##################### | Elapsed Time: 0:02:54 ETA:   0:00:03"
     ]
    },
    {
     "name": "stdout",
     "output_type": "stream",
     "text": [
      "/map_to_tables_351.json.gz\n"
     ]
    },
    {
     "name": "stderr",
     "output_type": "stream",
     "text": [
      "\r",
      " 97% (351 of 359) |##################### | Elapsed Time: 0:02:55 ETA:   0:00:02"
     ]
    },
    {
     "name": "stdout",
     "output_type": "stream",
     "text": [
      "/map_to_tables_162.json.gz\n"
     ]
    },
    {
     "name": "stderr",
     "output_type": "stream",
     "text": [
      "\r",
      " 98% (352 of 359) |##################### | Elapsed Time: 0:02:55 ETA:   0:00:02"
     ]
    },
    {
     "name": "stdout",
     "output_type": "stream",
     "text": [
      "/map_to_tables_345.json.gz\n"
     ]
    },
    {
     "name": "stderr",
     "output_type": "stream",
     "text": [
      "\r",
      " 98% (353 of 359) |##################### | Elapsed Time: 0:02:56 ETA:   0:00:02"
     ]
    },
    {
     "name": "stdout",
     "output_type": "stream",
     "text": [
      "/map_to_tables_83.json.gz\n"
     ]
    },
    {
     "name": "stderr",
     "output_type": "stream",
     "text": [
      "\r",
      " 98% (354 of 359) |##################### | Elapsed Time: 0:02:56 ETA:   0:00:02"
     ]
    },
    {
     "name": "stdout",
     "output_type": "stream",
     "text": [
      "/map_to_tables_145.json.gz\n"
     ]
    },
    {
     "name": "stderr",
     "output_type": "stream",
     "text": [
      "\r",
      " 98% (355 of 359) |##################### | Elapsed Time: 0:02:57 ETA:   0:00:02"
     ]
    },
    {
     "name": "stdout",
     "output_type": "stream",
     "text": [
      "/map_to_tables_336.json.gz\n"
     ]
    },
    {
     "name": "stderr",
     "output_type": "stream",
     "text": [
      "\r",
      " 99% (356 of 359) |##################### | Elapsed Time: 0:02:58 ETA:   0:00:01"
     ]
    },
    {
     "name": "stdout",
     "output_type": "stream",
     "text": [
      "/map_to_tables_192.json.gz\n"
     ]
    },
    {
     "name": "stderr",
     "output_type": "stream",
     "text": [
      "\r",
      " 99% (357 of 359) |##################### | Elapsed Time: 0:02:58 ETA:   0:00:01"
     ]
    },
    {
     "name": "stdout",
     "output_type": "stream",
     "text": [
      "/map_to_tables_289.json.gz\n"
     ]
    },
    {
     "name": "stderr",
     "output_type": "stream",
     "text": [
      "\r",
      " 99% (358 of 359) |##################### | Elapsed Time: 0:02:58 ETA:   0:00:00"
     ]
    },
    {
     "name": "stdout",
     "output_type": "stream",
     "text": [
      "/map_to_tables_247.json.gz\n"
     ]
    },
    {
     "name": "stderr",
     "output_type": "stream",
     "text": [
      "100% (359 of 359) |######################| Elapsed Time: 0:02:59 Time:  0:02:59\n"
     ]
    }
   ],
   "source": [
    "# use the cleaned tables to append into a series and the get a dataframe from that with the remaining cluster ids\n",
    "count = 0\n",
    "data=[]\n",
    "with progressbar.ProgressBar(max_value=len(zip_files_mapping)) as bar:\n",
    "    for zip_file in zip_files_mapping:\n",
    "        print('/{}'.format(zip_file))\n",
    "        df = pd.read_json(mapping_corpus_path_2 + '/{}'.format(zip_file), compression='gzip', lines=True)\n",
    "        data.append(df)\n",
    "        count += 1\n",
    "        bar.update(count)\n",
    "df_large= pd.concat(data, ignore_index=True)\n",
    "#df.large.to_json(os.path.join(mapping_corpus_path_2, 'concatentation'), compression='gzip', orient='records', lines=True)"
   ]
  },
  {
   "cell_type": "code",
   "execution_count": 15,
   "metadata": {},
   "outputs": [
    {
     "data": {
      "text/html": [
       "<div>\n",
       "<style scoped>\n",
       "    .dataframe tbody tr th:only-of-type {\n",
       "        vertical-align: middle;\n",
       "    }\n",
       "\n",
       "    .dataframe tbody tr th {\n",
       "        vertical-align: top;\n",
       "    }\n",
       "\n",
       "    .dataframe thead th {\n",
       "        text-align: right;\n",
       "    }\n",
       "</style>\n",
       "<table border=\"1\" class=\"dataframe\">\n",
       "  <thead>\n",
       "    <tr style=\"text-align: right;\">\n",
       "      <th></th>\n",
       "      <th>cluster_id</th>\n",
       "      <th>url</th>\n",
       "      <th>row_id</th>\n",
       "      <th>table_id</th>\n",
       "      <th>Valid</th>\n",
       "    </tr>\n",
       "  </thead>\n",
       "  <tbody>\n",
       "    <tr>\n",
       "      <th>0</th>\n",
       "      <td>59178314</td>\n",
       "      <td>https://www.cultureindoor.com/796-irrigation-a...</td>\n",
       "      <td>1561</td>\n",
       "      <td>Product_cultureindoor.com_September2020.json.gz</td>\n",
       "      <td>1</td>\n",
       "    </tr>\n",
       "    <tr>\n",
       "      <th>1</th>\n",
       "      <td>70692685</td>\n",
       "      <td>https://www.culturekings.com/products/new-era-...</td>\n",
       "      <td>3893</td>\n",
       "      <td>Product_culturekings.com_September2020.json.gz</td>\n",
       "      <td>1</td>\n",
       "    </tr>\n",
       "    <tr>\n",
       "      <th>2</th>\n",
       "      <td>395606</td>\n",
       "      <td>https://www.culturekings.com/products/new-era-...</td>\n",
       "      <td>3894</td>\n",
       "      <td>Product_culturekings.com_September2020.json.gz</td>\n",
       "      <td>1</td>\n",
       "    </tr>\n",
       "    <tr>\n",
       "      <th>3</th>\n",
       "      <td>3361797</td>\n",
       "      <td>https://www.customizedgirl.com/design/2605608/...</td>\n",
       "      <td>9318</td>\n",
       "      <td>Product_customizedgirl.com_September2020.json.gz</td>\n",
       "      <td>1</td>\n",
       "    </tr>\n",
       "    <tr>\n",
       "      <th>4</th>\n",
       "      <td>235755</td>\n",
       "      <td>https://www.customizedgirl.com/design/2613423/...</td>\n",
       "      <td>9319</td>\n",
       "      <td>Product_customizedgirl.com_September2020.json.gz</td>\n",
       "      <td>1</td>\n",
       "    </tr>\n",
       "    <tr>\n",
       "      <th>...</th>\n",
       "      <td>...</td>\n",
       "      <td>...</td>\n",
       "      <td>...</td>\n",
       "      <td>...</td>\n",
       "      <td>...</td>\n",
       "    </tr>\n",
       "    <tr>\n",
       "      <th>24687502</th>\n",
       "      <td>8653717</td>\n",
       "      <td>https://shop-list.com/women/utuwa-tatara/sg323...</td>\n",
       "      <td>1620</td>\n",
       "      <td>Product_shop-list.com_September2020.json.gz</td>\n",
       "      <td>1</td>\n",
       "    </tr>\n",
       "    <tr>\n",
       "      <th>24687503</th>\n",
       "      <td>22258637</td>\n",
       "      <td>https://shop-list.com/women/youmotto/famille-ltm</td>\n",
       "      <td>1621</td>\n",
       "      <td>Product_shop-list.com_September2020.json.gz</td>\n",
       "      <td>1</td>\n",
       "    </tr>\n",
       "    <tr>\n",
       "      <th>24687504</th>\n",
       "      <td>41434658</td>\n",
       "      <td>https://shop.agwaycapecod.com/products/0190147...</td>\n",
       "      <td>126</td>\n",
       "      <td>Product_agwaycapecod.com_September2020.json.gz</td>\n",
       "      <td>1</td>\n",
       "    </tr>\n",
       "    <tr>\n",
       "      <th>24687505</th>\n",
       "      <td>62702145</td>\n",
       "      <td>https://shop.agwaycapecod.com/products/0373214...</td>\n",
       "      <td>127</td>\n",
       "      <td>Product_agwaycapecod.com_September2020.json.gz</td>\n",
       "      <td>1</td>\n",
       "    </tr>\n",
       "    <tr>\n",
       "      <th>24687506</th>\n",
       "      <td>60936713</td>\n",
       "      <td>https://shop.areefcreation.com/products/ls-apr...</td>\n",
       "      <td>120</td>\n",
       "      <td>Product_areefcreation.com_September2020.json.gz</td>\n",
       "      <td>1</td>\n",
       "    </tr>\n",
       "  </tbody>\n",
       "</table>\n",
       "<p>24687507 rows × 5 columns</p>\n",
       "</div>"
      ],
      "text/plain": [
       "          cluster_id                                                url  \\\n",
       "0           59178314  https://www.cultureindoor.com/796-irrigation-a...   \n",
       "1           70692685  https://www.culturekings.com/products/new-era-...   \n",
       "2             395606  https://www.culturekings.com/products/new-era-...   \n",
       "3            3361797  https://www.customizedgirl.com/design/2605608/...   \n",
       "4             235755  https://www.customizedgirl.com/design/2613423/...   \n",
       "...              ...                                                ...   \n",
       "24687502     8653717  https://shop-list.com/women/utuwa-tatara/sg323...   \n",
       "24687503    22258637   https://shop-list.com/women/youmotto/famille-ltm   \n",
       "24687504    41434658  https://shop.agwaycapecod.com/products/0190147...   \n",
       "24687505    62702145  https://shop.agwaycapecod.com/products/0373214...   \n",
       "24687506    60936713  https://shop.areefcreation.com/products/ls-apr...   \n",
       "\n",
       "          row_id                                          table_id  Valid  \n",
       "0           1561   Product_cultureindoor.com_September2020.json.gz      1  \n",
       "1           3893    Product_culturekings.com_September2020.json.gz      1  \n",
       "2           3894    Product_culturekings.com_September2020.json.gz      1  \n",
       "3           9318  Product_customizedgirl.com_September2020.json.gz      1  \n",
       "4           9319  Product_customizedgirl.com_September2020.json.gz      1  \n",
       "...          ...                                               ...    ...  \n",
       "24687502    1620       Product_shop-list.com_September2020.json.gz      1  \n",
       "24687503    1621       Product_shop-list.com_September2020.json.gz      1  \n",
       "24687504     126    Product_agwaycapecod.com_September2020.json.gz      1  \n",
       "24687505     127    Product_agwaycapecod.com_September2020.json.gz      1  \n",
       "24687506     120   Product_areefcreation.com_September2020.json.gz      1  \n",
       "\n",
       "[24687507 rows x 5 columns]"
      ]
     },
     "execution_count": 15,
     "metadata": {},
     "output_type": "execute_result"
    }
   ],
   "source": [
    "df_large"
   ]
  },
  {
   "cell_type": "code",
   "execution_count": 16,
   "metadata": {},
   "outputs": [
    {
     "name": "stdout",
     "output_type": "stream",
     "text": [
      "/product_V2020_214.json.gz\n"
     ]
    },
    {
     "name": "stderr",
     "output_type": "stream",
     "text": [
      "\r",
      "  0% (0 of 359) |                        | Elapsed Time: 0:00:00 ETA:  --:--:--"
     ]
    },
    {
     "name": "stdout",
     "output_type": "stream",
     "text": [
      "/product_V2020_324.json.gz\n"
     ]
    },
    {
     "name": "stderr",
     "output_type": "stream",
     "text": [
      "\r",
      "  0% (2 of 359) |                        | Elapsed Time: 0:00:11 ETA:   0:32:56"
     ]
    },
    {
     "name": "stdout",
     "output_type": "stream",
     "text": [
      "/product_V2020_26.json.gz\n"
     ]
    },
    {
     ]
    },
    {
     "name": "stdout",
     "output_type": "stream",
     "text": [
      "/product_V2020_26.json.gz\n"
     ]
    },
    {
     "name": "stderr",
     "output_type": "stream",
     "text": [
      "\r",
      "  0% (3 of 359) |                        | Elapsed Time: 0:00:22 ETA:   1:06:49"
     ]
    },
    {
     "name": "stdout",
     "output_type": "stream",
     "text": [
      "/product_V2020_128.json.gz\n"
     ]
    },
    {
     "name": "stderr",
     "output_type": "stream",
     "text": [
      "\r",
      "  1% (4 of 359) |                        | Elapsed Time: 0:00:33 ETA:   1:05:41"
     ]
    },
    {
     "name": "stdout",
     "output_type": "stream",
     "text": [
      "/product_V2020_258.json.gz\n"
     ]
    },
    {
     "name": "stderr",
     "output_type": "stream",
     "text": [
      "\r",
      "  1% (5 of 359) |                        | Elapsed Time: 0:00:44 ETA:   1:07:43"
     ]
    },
    {
     "name": "stdout",
     "output_type": "stream",
     "text": [
      "/product_V2020_233.json.gz\n"
     ]
    },
    {
     "name": "stderr",
     "output_type": "stream",
     "text": [
      "\r",
      "  1% (6 of 359) |                        | Elapsed Time: 0:00:50 ETA:   0:30:06"
     ]
    },
    {
     "name": "stdout",
     "output_type": "stream",
     "text": [
      "/product_V2020_346.json.gz\n"
     ]
    },
    {
     "name": "stderr",
     "output_type": "stream",
     "text": [
      "\r",
      "  1% (7 of 359) |                        | Elapsed Time: 0:00:55 ETA:   0:30:33"
     ]
    },
    {
     "name": "stdout",
     "output_type": "stream",
     "text": [
      "/product_V2020_211.json.gz\n"
     ]
    },
    {
     "name": "stderr",
     "output_type": "stream",
     "text": [
      "\r",
      "  2% (8 of 359) |                        | Elapsed Time: 0:01:00 ETA:   0:30:07"
     ]
    },
    {
     "name": "stdout",
     "output_type": "stream",
     "text": [
      "/product_V2020_239.json.gz\n"
     ]
    },
    {
     "name": "stderr",
     "output_type": "stream",
     "text": [
      "\r",
      "  2% (9 of 359) |                        | Elapsed Time: 0:01:11 ETA:   1:07:12"
     ]
    },
    {
     "name": "stdout",
     "output_type": "stream",
     "text": [
      "/product_V2020_73.json.gz\n"
     ]
    },
    {
     "name": "stderr",
     "output_type": "stream",
     "text": [
      "\r",
      "  2% (10 of 359) |                       | Elapsed Time: 0:01:23 ETA:   1:05:22"
     ]
    },
    {
     "name": "stdout",
     "output_type": "stream",
     "text": [
      "/product_V2020_100.json.gz\n"
     ]
    },
    {
     "name": "stderr",
     "output_type": "stream",
     "text": [
      "\r",
      "  3% (11 of 359) |                       | Elapsed Time: 0:01:30 ETA:   0:41:49"
     ]
    },
    {
     "name": "stdout",
     "output_type": "stream",
     "text": [
      "/product_V2020_118.json.gz\n"
     ]
    },
    {
     "name": "stderr",
     "output_type": "stream",
     "text": [
      "\r",
      "  3% (12 of 359) |                       | Elapsed Time: 0:01:35 ETA:   0:29:27"
     ]
    },
    {
     "name": "stdout",
     "output_type": "stream",
     "text": [
      "/product_V2020_92.json.gz\n"
     ]
    },
    {
     "name": "stderr",
     "output_type": "stream",
     "text": [
      "\r",
      "  3% (13 of 359) |                       | Elapsed Time: 0:01:40 ETA:   0:30:09"
     ]
    },
    {
     "name": "stdout",
     "output_type": "stream",
     "text": [
      "/product_V2020_139.json.gz\n"
     ]
    },
    {
     "name": "stderr",
     "output_type": "stream",
     "text": [
      "\r",
      "  3% (14 of 359) |                       | Elapsed Time: 0:01:46 ETA:   0:30:49"
     ]
    },
    {
     "name": "stdout",
     "output_type": "stream",
     "text": [
      "/product_V2020_293.json.gz\n"
     ]
    },
    {
     "name": "stderr",
     "output_type": "stream",
     "text": [
      "\r",
      "  4% (15 of 359) |                       | Elapsed Time: 0:01:57 ETA:   1:07:15"
     ]
    },
    {
     "name": "stdout",
     "output_type": "stream",
     "text": [
      "/product_V2020_102.json.gz\n"
     ]
    },
    {
     "name": "stderr",
     "output_type": "stream",
     "text": [
      "\r",
      "  4% (16 of 359) |#                      | Elapsed Time: 0:02:02 ETA:   0:29:32"
     ]
    },
    {
     "name": "stdout",
     "output_type": "stream",
     "text": [
      "/product_V2020_95.json.gz\n"
     ]
    },
    {
     "name": "stderr",
     "output_type": "stream",
     "text": [
      "\r",
      "  4% (17 of 359) |#                      | Elapsed Time: 0:02:08 ETA:   0:29:09"
     ]
    },
    {
     "name": "stdout",
     "output_type": "stream",
     "text": [
      "/product_V2020_147.json.gz\n"
     ]
    },
    {
     "name": "stderr",
     "output_type": "stream",
     "text": [
      "\r",
      "  5% (18 of 359) |#                      | Elapsed Time: 0:02:19 ETA:   1:04:56"
     ]
    },
    {
     "name": "stdout",
     "output_type": "stream",
     "text": [
      "/product_V2020_138.json.gz\n"
     ]
    },
    {
     "name": "stderr",
     "output_type": "stream",
     "text": [
      "\r",
      "  5% (19 of 359) |#                      | Elapsed Time: 0:02:24 ETA:   0:29:26"
     ]
    },
    {
     "name": "stdout",
     "output_type": "stream",
     "text": [
      "/product_V2020_347.json.gz\n"
     ]
    },
    {
     "name": "stderr",
     "output_type": "stream",
     "text": [
      "\r",
      "  5% (20 of 359) |#                      | Elapsed Time: 0:02:36 ETA:   1:04:50"
     ]
    },
    {
     "name": "stdout",
     "output_type": "stream",
     "text": [
      "/product_V2020_164.json.gz\n"
     ]
    },
    {
     "name": "stderr",
     "output_type": "stream",
     "text": [
      "\r",
      "  5% (21 of 359) |#                      | Elapsed Time: 0:02:41 ETA:   0:29:22"
     ]
    },
    {
     "name": "stdout",
     "output_type": "stream",
     "text": [
      "/product_V2020_171.json.gz\n"
     ]
    },
    {
     "name": "stderr",
     "output_type": "stream",
     "text": [
      "\r",
      "  6% (22 of 359) |#                      | Elapsed Time: 0:02:53 ETA:   1:06:06"
     ]
    },
    {
     "name": "stdout",
     "output_type": "stream",
     "text": [
      "/product_V2020_63.json.gz\n"
     ]
    },
    {
     "name": "stderr",
     "output_type": "stream",
     "text": [
      "\r",
      "  6% (23 of 359) |#                      | Elapsed Time: 0:02:58 ETA:   0:30:20"
     ]
    },
    {
     "name": "stdout",
     "output_type": "stream",
     "text": [
      "/product_V2020_352.json.gz\n"
     ]
    },
    {
     "name": "stderr",
     "output_type": "stream",
     "text": [
      "\r",
      "  6% (24 of 359) |#                      | Elapsed Time: 0:03:10 ETA:   1:05:22"
     ]
    },
    {
     "name": "stdout",
     "output_type": "stream",
     "text": [
      "/product_V2020_129.json.gz\n"
     ]
    },
    {
     "name": "stderr",
     "output_type": "stream",
     "text": [
      "\r",
      "  6% (25 of 359) |#                      | Elapsed Time: 0:03:15 ETA:   0:29:33"
     ]
    },
    {
     "name": "stdout",
     "output_type": "stream",
     "text": [
      "/product_V2020_319.json.gz\n"
     ]
    },
    {
     "name": "stderr",
     "output_type": "stream",
     "text": [
      "\r",
      "  7% (26 of 359) |#                      | Elapsed Time: 0:03:20 ETA:   0:28:44"
     ]
    },
    {
     "name": "stdout",
     "output_type": "stream",
     "text": [
      "/product_V2020_83.json.gz\n"
     ]
    },
    {
     "name": "stderr",
     "output_type": "stream",
     "text": [
      "\r",
      "  7% (27 of 359) |#                      | Elapsed Time: 0:03:25 ETA:   0:28:46"
     ]
    },
    {
     "name": "stdout",
     "output_type": "stream",
     "text": [
      "/product_V2020_38.json.gz\n"
     ]
    },
    {
     "name": "stderr",
     "output_type": "stream",
     "text": [
      "\r",
      "  7% (28 of 359) |#                      | Elapsed Time: 0:03:37 ETA:   1:04:11"
     ]
    },
    {
     "name": "stdout",
     "output_type": "stream",
     "text": [
      "/product_V2020_195.json.gz\n"
     ]
    },
    {
     "name": "stderr",
     "output_type": "stream",
     "text": [
      "\r",
      "  8% (29 of 359) |#                      | Elapsed Time: 0:03:42 ETA:   0:28:55"
     ]
    },
    {
     "name": "stdout",
     "output_type": "stream",
     "text": [
      "/product_V2020_125.json.gz\n"
     ]
    },
    {
     "name": "stderr",
     "output_type": "stream",
     "text": [
      "\r",
      "  8% (30 of 359) |#                      | Elapsed Time: 0:03:48 ETA:   0:29:42"
     ]
    },
    {
     "name": "stdout",
     "output_type": "stream",
     "text": [
      "/product_V2020_50.json.gz\n"
     ]
    },
    {
     "name": "stderr",
     "output_type": "stream",
     "text": [
      "\r",
      "  8% (31 of 359) |#                      | Elapsed Time: 0:03:53 ETA:   0:29:30"
     ]
    },
    {
     "name": "stdout",
     "output_type": "stream",
     "text": [
      "/product_V2020_232.json.gz\n"
     ]
    },
    {
     "name": "stderr",
     "output_type": "stream",
     "text": [
      "\r",
      "  8% (32 of 359) |##                     | Elapsed Time: 0:03:59 ETA:   0:29:23"
     ]
    },
    {
     "name": "stdout",
     "output_type": "stream",
     "text": [
      "/product_V2020_97.json.gz\n"
     ]
    },
    {
     "name": "stderr",
     "output_type": "stream",
     "text": [
      "\r",
      "  9% (33 of 359) |##                     | Elapsed Time: 0:04:10 ETA:   1:04:45"
     ]
    },
    {
     "name": "stdout",
     "output_type": "stream",
     "text": [
      "/product_V2020_228.json.gz\n"
     ]
    },
    {
     "name": "stderr",
     "output_type": "stream",
     "text": [
      "\r",
      "  9% (34 of 359) |##                     | Elapsed Time: 0:04:22 ETA:   1:01:03"
     ]
    },
    {
     "name": "stdout",
     "output_type": "stream",
     "text": [
      "/product_V2020_109.json.gz\n"
     ]
    },
    {
     "name": "stderr",
     "output_type": "stream",
     "text": [
      "\r",
      "  9% (35 of 359) |##                     | Elapsed Time: 0:04:33 ETA:   1:01:16"
     ]
    },
    {
     "name": "stdout",
     "output_type": "stream",
     "text": [
      "/product_V2020_267.json.gz\n"
     ]
    },
    {
     "name": "stderr",
     "output_type": "stream",
     "text": [
      "\r",
      " 10% (36 of 359) |##                     | Elapsed Time: 0:04:38 ETA:   0:28:40"
     ]
    },
    {
     "name": "stdout",
     "output_type": "stream",
     "text": [
      "/product_V2020_316.json.gz\n"
     ]
    },
    {
     "name": "stderr",
     "output_type": "stream",
     "text": [
      "\r",
      " 10% (37 of 359) |##                     | Elapsed Time: 0:04:44 ETA:   0:28:57"
     ]
    },
    {
     "name": "stdout",
     "output_type": "stream",
     "text": [
      "/product_V2020_137.json.gz\n"
     ]
    },
    {
     "name": "stderr",
     "output_type": "stream",
     "text": [
      "\r",
      " 10% (38 of 359) |##                     | Elapsed Time: 0:04:49 ETA:   0:28:16"
     ]
    },
    {
     "name": "stdout",
     "output_type": "stream",
     "text": [
      "/product_V2020_224.json.gz\n"
     ]
    },
    {
     "name": "stderr",
     "output_type": "stream",
     "text": [
      "\r",
      " 10% (39 of 359) |##                     | Elapsed Time: 0:04:55 ETA:   0:29:02"
     ]
    },
    {
     "name": "stdout",
     "output_type": "stream",
     "text": [
      "/product_V2020_226.json.gz\n"
     ]
    },
    {
     "name": "stderr",
     "output_type": "stream",
     "text": [
      "\r",
      " 11% (40 of 359) |##                     | Elapsed Time: 0:05:00 ETA:   0:28:41"
     ]
    },
    {
     "name": "stdout",
     "output_type": "stream",
     "text": [
      "/product_V2020_163.json.gz\n"
     ]
    },
    {
     "name": "stderr",
     "output_type": "stream",
     "text": [
      "\r",
      " 11% (41 of 359) |##                     | Elapsed Time: 0:05:12 ETA:   1:02:11"
     ]
    },
    {
     "name": "stdout",
     "output_type": "stream",
     "text": [
      "/product_V2020_311.json.gz\n"
     ]
    },
    {
     "name": "stderr",
     "output_type": "stream",
     "text": [
      "\r",
      " 11% (42 of 359) |##                     | Elapsed Time: 0:05:23 ETA:   1:00:54"
     ]
    },
    {
     "name": "stdout",
     "output_type": "stream",
     "text": [
      "/product_V2020_45.json.gz\n"
     ]
    },
    {
     "name": "stderr",
     "output_type": "stream",
     "text": [
      "\r",
      " 11% (43 of 359) |##                     | Elapsed Time: 0:05:35 ETA:   1:00:53"
     ]
    },
    {
     "name": "stdout",
     "output_type": "stream",
     "text": [
      "/product_V2020_15.json.gz\n"
     ]
    },
    {
     "name": "stderr",
     "output_type": "stream",
     "text": [
      "\r",
      " 12% (44 of 359) |##                     | Elapsed Time: 0:05:40 ETA:   0:28:39"
     ]
    },
    {
     "name": "stdout",
     "output_type": "stream",
     "text": [
      "/product_V2020_205.json.gz\n"
     ]
    },
    {
     "name": "stderr",
     "output_type": "stream",
     "text": [
      "\r",
      " 12% (45 of 359) |##                     | Elapsed Time: 0:05:52 ETA:   1:03:07"
     ]
    },
    {
     "name": "stdout",
     "output_type": "stream",
     "text": [
      "/product_V2020_134.json.gz\n"
     ]
    },
    {
     "name": "stderr",
     "output_type": "stream",
     "text": [
      "\r",
      " 12% (46 of 359) |##                     | Elapsed Time: 0:05:58 ETA:   0:27:38"
     ]
    },
    {
     "name": "stdout",
     "output_type": "stream",
     "text": [
      "/product_V2020_212.json.gz\n"
     ]
    },
    {
     "name": "stderr",
     "output_type": "stream",
     "text": [
      "\r",
      " 13% (47 of 359) |###                    | Elapsed Time: 0:06:03 ETA:   0:27:22"
     ]
    },
    {
     "name": "stdout",
     "output_type": "stream",
     "text": [
      "/product_V2020_41.json.gz\n"
     ]
    },
    {
     "name": "stderr",
     "output_type": "stream",
     "text": [
      "\r",
      " 13% (48 of 359) |###                    | Elapsed Time: 0:06:08 ETA:   0:27:16"
     ]
    },
    {
     "name": "stdout",
     "output_type": "stream",
     "text": [
      "/product_V2020_159.json.gz\n"
     ]
    },
    {
     "name": "stderr",
     "output_type": "stream",
     "text": [
      "\r",
      " 13% (49 of 359) |###                    | Elapsed Time: 0:06:20 ETA:   1:00:54"
     ]
    },
    {
     "name": "stdout",
     "output_type": "stream",
     "text": [
      "/product_V2020_178.json.gz\n"
     ]
    },
    {
     "name": "stderr",
     "output_type": "stream",
     "text": [
      "\r",
      " 13% (50 of 359) |###                    | Elapsed Time: 0:06:25 ETA:   0:27:07"
     ]
    },
    {
     "name": "stdout",
     "output_type": "stream",
     "text": [
      "/product_V2020_122.json.gz\n"
     ]
    },
    {
     "name": "stderr",
     "output_type": "stream",
     "text": [
      "\r",
      " 14% (51 of 359) |###                    | Elapsed Time: 0:06:37 ETA:   0:59:52"
     ]
    },
    {
     "name": "stdout",
     "output_type": "stream",
     "text": [
      "/product_V2020_42.json.gz\n"
     ]
    },
    {
     "name": "stderr",
     "output_type": "stream",
     "text": [
      "\r",
      " 14% (52 of 359) |###                    | Elapsed Time: 0:06:42 ETA:   0:27:42"
     ]
    },
    {
     "name": "stdout",
     "output_type": "stream",
     "text": [
      "/product_V2020_126.json.gz\n"
     ]
    },
    {
     "name": "stderr",
     "output_type": "stream",
     "text": [
      "\r",
      " 14% (53 of 359) |###                    | Elapsed Time: 0:06:48 ETA:   0:27:22"
     ]
    },
    {
     "name": "stdout",
     "output_type": "stream",
     "text": [
      "/product_V2020_191.json.gz\n"
     ]
    },
    {
     "name": "stderr",
     "output_type": "stream",
     "text": [
      "\r",
      " 15% (54 of 359) |###                    | Elapsed Time: 0:06:59 ETA:   1:00:07"
     ]
    },
    {
     "name": "stdout",
     "output_type": "stream",
     "text": [
      "/product_V2020_204.json.gz\n"
     ]
    },
    {
     "name": "stderr",
     "output_type": "stream",
     "text": [
      "\r",
      " 15% (55 of 359) |###                    | Elapsed Time: 0:07:05 ETA:   0:27:04"
     ]
    },
    {
     "name": "stdout",
     "output_type": "stream",
     "text": [
      "/product_V2020_157.json.gz\n"
     ]
    },
    {
     "name": "stderr",
     "output_type": "stream",
     "text": [
      "\r",
      " 15% (56 of 359) |###                    | Elapsed Time: 0:07:10 ETA:   0:26:33"
     ]
    },
    {
     "name": "stdout",
     "output_type": "stream",
     "text": [
      "/product_V2020_99.json.gz\n"
     ]
    },
    {
     "name": "stderr",
     "output_type": "stream",
     "text": [
      "\r",
      " 15% (57 of 359) |###                    | Elapsed Time: 0:07:22 ETA:   0:58:40"
     ]
    },
    {
     "name": "stdout",
     "output_type": "stream",
     "text": [
      "/product_V2020_101.json.gz\n"
     ]
    },
    {
     "name": "stderr",
     "output_type": "stream",
     "text": [
      "\r",
      " 16% (58 of 359) |###                    | Elapsed Time: 0:07:27 ETA:   0:26:35"
     ]
    },
    {
     "name": "stdout",
     "output_type": "stream",
     "text": [
      "/product_V2020_75.json.gz\n"
     ]
    },
    {
     "name": "stderr",
     "output_type": "stream",
     "text": [
      "\r",
      " 16% (59 of 359) |###                    | Elapsed Time: 0:07:39 ETA:   0:58:40"
     ]
    },
    {
     "name": "stdout",
     "output_type": "stream",
     "text": [
      "/product_V2020_188.json.gz\n"
     ]
    },
    {
     "name": "stderr",
     "output_type": "stream",
     "text": [
      "\r",
      " 16% (60 of 359) |###                    | Elapsed Time: 0:07:50 ETA:   0:58:29"
     ]
    },
    {
     "name": "stdout",
     "output_type": "stream",
     "text": [
      "/product_V2020_31.json.gz\n"
     ]
    },
    {
     "name": "stderr",
     "output_type": "stream",
     "text": [
      "\r",
      " 16% (61 of 359) |###                    | Elapsed Time: 0:07:56 ETA:   0:26:36"
     ]
    },
    {
     "name": "stdout",
     "output_type": "stream",
     "text": [
      "/product_V2020_298.json.gz\n"
     ]
    },
    {
     "name": "stderr",
     "output_type": "stream",
     "text": [
      "\r",
      " 17% (62 of 359) |###                    | Elapsed Time: 0:08:07 ETA:   0:56:36"
     ]
    },
    {
     "name": "stdout",
     "output_type": "stream",
     "text": [
      "/product_V2020_93.json.gz\n"
     ]
    },
    {
     "name": "stderr",
     "output_type": "stream",
     "text": [
      "\r",
      " 17% (63 of 359) |####                   | Elapsed Time: 0:08:19 ETA:   0:56:23"
     ]
    },
    {
     "name": "stdout",
     "output_type": "stream",
     "text": [
      "/product_V2020_56.json.gz\n"
     ]
    },
    {
     "name": "stderr",
     "output_type": "stream",
     "text": [
      "\r",
      " 17% (64 of 359) |####                   | Elapsed Time: 0:08:24 ETA:   0:26:40"
     ]
    },
    {
     "name": "stdout",
     "output_type": "stream",
     "text": [
      "/product_V2020_327.json.gz\n"
     ]
    },
    {
     "name": "stderr",
     "output_type": "stream",
     "text": [
      "\r",
      " 18% (65 of 359) |####                   | Elapsed Time: 0:08:36 ETA:   0:58:29"
     ]
    },
    {
     "name": "stdout",
     "output_type": "stream",
     "text": [
      "/product_V2020_285.json.gz\n"
     ]
    },
    {
     "name": "stderr",
     "output_type": "stream",
     "text": [
      "\r",
      " 18% (66 of 359) |####                   | Elapsed Time: 0:08:48 ETA:   0:58:47"
     ]
    },
    {
     "name": "stdout",
     "output_type": "stream",
     "text": [
      "/product_V2020_330.json.gz\n"
     ]
    },
    {
     "name": "stderr",
     "output_type": "stream",
     "text": [
      "\r",
      " 18% (67 of 359) |####                   | Elapsed Time: 0:08:53 ETA:   0:25:49"
     ]
    },
    {
     "name": "stdout",
     "output_type": "stream",
     "text": [
      "/product_V2020_57.json.gz\n"
     ]
    },
    {
     "name": "stderr",
     "output_type": "stream",
     "text": [
      "\r",
      " 18% (68 of 359) |####                   | Elapsed Time: 0:08:59 ETA:   0:25:57"
     ]
    },
    {
     "name": "stdout",
     "output_type": "stream",
     "text": [
      "/product_V2020_220.json.gz\n"
     ]
    },
    {
     "name": "stderr",
     "output_type": "stream",
     "text": [
      "\r",
      " 19% (69 of 359) |####                   | Elapsed Time: 0:09:10 ETA:   0:56:03"
     ]
    },
    {
     "name": "stdout",
     "output_type": "stream",
     "text": [
      "/product_V2020_351.json.gz\n"
     ]
    },
    {
     "name": "stderr",
     "output_type": "stream",
     "text": [
      "\r",
      " 19% (70 of 359) |####                   | Elapsed Time: 0:09:16 ETA:   0:25:33"
     ]
    },
    {
     "name": "stdout",
     "output_type": "stream",
     "text": [
      "/product_V2020_66.json.gz\n"
     ]
    },
    {
     "name": "stderr",
     "output_type": "stream",
     "text": [
      "\r",
      " 19% (71 of 359) |####                   | Elapsed Time: 0:09:21 ETA:   0:25:56"
     ]
    },
    {
     "name": "stdout",
     "output_type": "stream",
     "text": [
      "/product_V2020_60.json.gz\n"
     ]
    },
    {
     "name": "stderr",
     "output_type": "stream",
     "text": [
      "\r",
      " 20% (72 of 359) |####                   | Elapsed Time: 0:09:33 ETA:   0:56:55"
     ]
    },
    {
     "name": "stdout",
     "output_type": "stream",
     "text": [
      "/product_V2020_51.json.gz\n"
     ]
    },
    {
     "name": "stderr",
     "output_type": "stream",
     "text": [
      "\r",
      " 20% (73 of 359) |####                   | Elapsed Time: 0:09:38 ETA:   0:26:09"
     ]
    },
    {
     "name": "stdout",
     "output_type": "stream",
     "text": [
      "/product_V2020_185.json.gz\n"
     ]
    },
    {
     "name": "stderr",
     "output_type": "stream",
     "text": [
      "\r",
      " 20% (74 of 359) |####                   | Elapsed Time: 0:09:50 ETA:   0:56:50"
     ]
    },
    {
     "name": "stdout",
     "output_type": "stream",
     "text": [
      "/product_V2020_315.json.gz\n"
     ]
    },
    {
     "name": "stderr",
     "output_type": "stream",
     "text": [
      "\r",
      " 20% (75 of 359) |####                   | Elapsed Time: 0:10:02 ETA:   0:54:08"
     ]
    },
    {
     "name": "stdout",
     "output_type": "stream",
     "text": [
      "/product_V2020_244.json.gz\n"
     ]
    },
    {
     "name": "stderr",
     "output_type": "stream",
     "text": [
      "\r",
      " 21% (76 of 359) |####                   | Elapsed Time: 0:10:14 ETA:   0:55:53"
     ]
    },
    {
     "name": "stdout",
     "output_type": "stream",
     "text": [
      "/product_V2020_33.json.gz\n"
     ]
    },
    {
     "name": "stderr",
     "output_type": "stream",
     "text": [
      "\r",
      " 21% (77 of 359) |####                   | Elapsed Time: 0:10:26 ETA:   0:57:09"
     ]
    },
    {
     "name": "stdout",
     "output_type": "stream",
     "text": [
      "/product_V2020_273.json.gz\n"
     ]
    },
    {
     "name": "stderr",
     "output_type": "stream",
     "text": [
      "\r",
      " 21% (78 of 359) |####                   | Elapsed Time: 0:10:31 ETA:   0:26:05"
     ]
    },
    {
     "name": "stdout",
     "output_type": "stream",
     "text": [
      "/product_V2020_231.json.gz\n"
     ]
    },
    {
     "name": "stderr",
     "output_type": "stream",
     "text": [
      "\r",
      " 22% (79 of 359) |#####                  | Elapsed Time: 0:10:37 ETA:   0:26:37"
     ]
    },
    {
     "name": "stdout",
     "output_type": "stream",
     "text": [
      "/product_V2020_124.json.gz\n"
     ]
    },
    {
     "name": "stderr",
     "output_type": "stream",
     "text": [
      "\r",
      " 22% (80 of 359) |#####                  | Elapsed Time: 0:10:50 ETA:   0:59:29"
     ]
    },
    {
     "name": "stdout",
     "output_type": "stream",
     "text": [
      "/product_V2020_32.json.gz\n"
     ]
    },
    {
     "name": "stderr",
     "output_type": "stream",
     "text": [
      "\r",
      " 22% (81 of 359) |#####                  | Elapsed Time: 0:10:55 ETA:   0:25:12"
     ]
    },
    {
     "name": "stdout",
     "output_type": "stream",
     "text": [
      "/product_V2020_207.json.gz\n"
     ]
    },
    {
     "name": "stderr",
     "output_type": "stream",
     "text": [
      "\r",
      " 22% (82 of 359) |#####                  | Elapsed Time: 0:11:08 ETA:   0:57:36"
     ]
    },
    {
     "name": "stdout",
     "output_type": "stream",
     "text": [
      "/product_V2020_4.json.gz\n"
     ]
    },
    {
     "name": "stderr",
     "output_type": "stream",
     "text": [
      "\r",
      " 23% (83 of 359) |#####                  | Elapsed Time: 0:11:13 ETA:   0:24:47"
     ]
    },
    {
     "name": "stdout",
     "output_type": "stream",
     "text": [
      "/product_V2020_276.json.gz\n"
     ]
    },
    {
     "name": "stderr",
     "output_type": "stream",
     "text": [
      "\r",
      " 23% (84 of 359) |#####                  | Elapsed Time: 0:11:19 ETA:   0:24:52"
     ]
    },
    {
     "name": "stdout",
     "output_type": "stream",
     "text": [
      "/product_V2020_156.json.gz\n"
     ]
    },
    {
     "name": "stderr",
     "output_type": "stream",
     "text": [
      "\r",
      " 23% (85 of 359) |#####                  | Elapsed Time: 0:11:24 ETA:   0:24:46"
     ]
    },
    {
     "name": "stdout",
     "output_type": "stream",
     "text": [
      "/product_V2020_245.json.gz\n"
     ]
    },
    {
     "name": "stderr",
     "output_type": "stream",
     "text": [
      "\r",
      " 23% (86 of 359) |#####                  | Elapsed Time: 0:11:30 ETA:   0:25:27"
     ]
    },
    {
     "name": "stdout",
     "output_type": "stream",
     "text": [
      "/product_V2020_143.json.gz\n"
     ]
    },
    {
     "name": "stderr",
     "output_type": "stream",
     "text": [
      "\r",
      " 24% (87 of 359) |#####                  | Elapsed Time: 0:11:43 ETA:   0:59:04"
     ]
    },
    {
     "name": "stdout",
     "output_type": "stream",
     "text": [
      "/product_V2020_179.json.gz\n"
     ]
    },
    {
     "name": "stderr",
     "output_type": "stream",
     "text": [
      "\r",
      " 24% (88 of 359) |#####                  | Elapsed Time: 0:11:48 ETA:   0:23:52"
     ]
    },
    {
     "name": "stdout",
     "output_type": "stream",
     "text": [
      "/product_V2020_6.json.gz\n"
     ]
    },
    {
     "name": "stderr",
     "output_type": "stream",
     "text": [
      "\r",
      " 24% (89 of 359) |#####                  | Elapsed Time: 0:12:00 ETA:   0:54:43"
     ]
    },
    {
     "name": "stdout",
     "output_type": "stream",
     "text": [
      "/product_V2020_335.json.gz\n"
     ]
    },
    {
     "name": "stderr",
     "output_type": "stream",
     "text": [
      "\r",
      " 25% (90 of 359) |#####                  | Elapsed Time: 0:12:05 ETA:   0:23:26"
     ]
    },
    {
     "name": "stdout",
     "output_type": "stream",
     "text": [
      "/product_V2020_249.json.gz\n"
     ]
    },
    {
     "name": "stderr",
     "output_type": "stream",
     "text": [
      "\r",
      " 25% (91 of 359) |#####                  | Elapsed Time: 0:12:11 ETA:   0:23:01"
     ]
    },
    {
     "name": "stdout",
     "output_type": "stream",
     "text": [
      "/product_V2020_58.json.gz\n"
     ]
    },
    {
     "name": "stderr",
     "output_type": "stream",
     "text": [
      "\r",
      " 25% (92 of 359) |#####                  | Elapsed Time: 0:12:23 ETA:   0:55:45"
     ]
    },
    {
     "name": "stdout",
     "output_type": "stream",
     "text": [
      "/product_V2020_140.json.gz\n"
     ]
    },
    {
     "name": "stderr",
     "output_type": "stream",
     "text": [
      "\r",
      " 25% (93 of 359) |#####                  | Elapsed Time: 0:12:28 ETA:   0:23:48"
     ]
    },
    {
     "name": "stdout",
     "output_type": "stream",
     "text": [
      "/product_V2020_8.json.gz\n"
     ]
    },
    {
     "name": "stderr",
     "output_type": "stream",
     "text": [
      "\r",
      " 26% (94 of 359) |######                 | Elapsed Time: 0:12:34 ETA:   0:24:51"
     ]
    },
    {
     "name": "stdout",
     "output_type": "stream",
     "text": [
      "/product_V2020_243.json.gz\n"
     ]
    },
    {
     "name": "stderr",
     "output_type": "stream",
     "text": [
      "\r",
      " 26% (95 of 359) |######                 | Elapsed Time: 0:12:40 ETA:   0:24:10"
     ]
    },
    {
     "name": "stdout",
     "output_type": "stream",
     "text": [
      "/product_V2020_299.json.gz\n"
     ]
    },
    {
     "name": "stderr",
     "output_type": "stream",
     "text": [
      "\r",
      " 26% (96 of 359) |######                 | Elapsed Time: 0:12:45 ETA:   0:23:25"
     ]
    },
    {
     "name": "stdout",
     "output_type": "stream",
     "text": [
      "/product_V2020_353.json.gz\n"
     ]
    },
    {
     "name": "stderr",
     "output_type": "stream",
     "text": [
      "\r",
      " 27% (97 of 359) |######                 | Elapsed Time: 0:12:50 ETA:   0:23:38"
     ]
    },
    {
     "name": "stdout",
     "output_type": "stream",
     "text": [
      "/product_V2020_107.json.gz\n"
     ]
    },
    {
     "name": "stderr",
     "output_type": "stream",
     "text": [
      "\r",
      " 27% (98 of 359) |######                 | Elapsed Time: 0:13:03 ETA:   0:54:37"
     ]
    },
    {
     "name": "stdout",
     "output_type": "stream",
     "text": [
      "/product_V2020_283.json.gz\n"
     ]
    },
    {
     "name": "stderr",
     "output_type": "stream",
     "text": [
      "\r",
      " 27% (99 of 359) |######                 | Elapsed Time: 0:13:15 ETA:   0:53:28"
     ]
    },
    {
     "name": "stdout",
     "output_type": "stream",
     "text": [
      "/product_V2020_40.json.gz\n"
     ]
    },
    {
     "name": "stderr",
     "output_type": "stream",
     "text": [
      "\r",
      " 27% (100 of 359) |######                | Elapsed Time: 0:13:28 ETA:   0:53:35"
     ]
    },
    {
     "name": "stdout",
     "output_type": "stream",
     "text": [
      "/product_V2020_323.json.gz\n"
     ]
    },
    {
     "name": "stderr",
     "output_type": "stream",
     "text": [
      "\r",
      " 28% (101 of 359) |######                | Elapsed Time: 0:13:33 ETA:   0:23:16"
     ]
    },
    {
     "name": "stdout",
     "output_type": "stream",
     "text": [
      "/product_V2020_25.json.gz\n"
     ]
    },
    {
     "name": "stderr",
     "output_type": "stream",
     "text": [
      "\r",
      " 28% (102 of 359) |######                | Elapsed Time: 0:13:39 ETA:   0:23:55"
     ]
    },
    {
     "name": "stdout",
     "output_type": "stream",
     "text": [
      "/product_V2020_168.json.gz\n"
     ]
    },
    {
     "name": "stderr",
     "output_type": "stream",
     "text": [
      "\r",
      " 28% (103 of 359) |######                | Elapsed Time: 0:13:51 ETA:   0:53:35"
     ]
    },
    {
     "name": "stdout",
     "output_type": "stream",
     "text": [
      "/product_V2020_151.json.gz\n"
     ]
    },
    {
     "name": "stderr",
     "output_type": "stream",
     "text": [
      "\r",
      " 28% (104 of 359) |######                | Elapsed Time: 0:13:57 ETA:   0:22:54"
     ]
    },
    {
     "name": "stdout",
     "output_type": "stream",
     "text": [
      "/product_V2020_48.json.gz\n"
     ]
    },
    {
     "name": "stderr",
     "output_type": "stream",
     "text": [
      "\r",
      " 29% (105 of 359) |######                | Elapsed Time: 0:14:02 ETA:   0:22:38"
     ]
    },
    {
     "name": "stdout",
     "output_type": "stream",
     "text": [
      "/product_V2020_251.json.gz\n"
     ]
    },
    {
     "name": "stderr",
     "output_type": "stream",
     "text": [
      "\r",
      " 29% (106 of 359) |######                | Elapsed Time: 0:14:14 ETA:   0:52:09"
     ]
    },
    {
     "name": "stdout",
     "output_type": "stream",
     "text": [
      "/product_V2020_94.json.gz\n"
     ]
    },
    {
     "name": "stderr",
     "output_type": "stream",
     "text": [
      "\r",
      " 29% (107 of 359) |######                | Elapsed Time: 0:14:27 ETA:   0:52:19"
     ]
    },
    {
     "name": "stdout",
     "output_type": "stream",
     "text": [
      "/product_V2020_119.json.gz\n"
     ]
    },
    {
     "name": "stderr",
     "output_type": "stream",
     "text": [
      "\r",
      " 30% (108 of 359) |######                | Elapsed Time: 0:14:39 ETA:   0:52:26"
     ]
    },
    {
     "name": "stdout",
     "output_type": "stream",
     "text": [
      "/product_V2020_217.json.gz\n"
     ]
    },
    {
     "name": "stderr",
     "output_type": "stream",
     "text": [
      "\r",
      " 30% (109 of 359) |######                | Elapsed Time: 0:14:52 ETA:   0:50:48"
     ]
    },
    {
     "name": "stdout",
     "output_type": "stream",
     "text": [
      "/product_V2020_106.json.gz\n"
     ]
    },
    {
     "name": "stderr",
     "output_type": "stream",
     "text": [
      "\r",
      " 30% (110 of 359) |######                | Elapsed Time: 0:14:57 ETA:   0:22:29"
     ]
    },
    {
     "name": "stdout",
     "output_type": "stream",
     "text": [
      "/product_V2020_130.json.gz\n"
     ]
    },
    {
     "name": "stderr",
     "output_type": "stream",
     "text": [
      "\r",
      " 30% (111 of 359) |######                | Elapsed Time: 0:15:02 ETA:   0:22:21"
     ]
    },
    {
     "name": "stdout",
     "output_type": "stream",
     "text": [
      "/product_V2020_173.json.gz\n"
     ]
    },
    {
     "name": "stderr",
     "output_type": "stream",
     "text": [
      "\r",
      " 31% (112 of 359) |######                | Elapsed Time: 0:15:15 ETA:   0:50:48"
     ]
    },
    {
     "name": "stdout",
     "output_type": "stream",
     "text": [
      "/product_V2020_359.json.gz\n"
     ]
    },
    {
     "name": "stderr",
     "output_type": "stream",
     "text": [
      "\r",
      " 31% (113 of 359) |######                | Elapsed Time: 0:15:20 ETA:   0:22:32"
     ]
    },
    {
     "name": "stdout",
     "output_type": "stream",
     "text": [
      "/product_V2020_265.json.gz\n"
     ]
    },
    {
     "name": "stderr",
     "output_type": "stream",
     "text": [
      "\r",
      " 31% (114 of 359) |######                | Elapsed Time: 0:15:34 ETA:   0:54:24"
     ]
    },
    {
     "name": "stdout",
     "output_type": "stream",
     "text": [
      "/product_V2020_131.json.gz\n"
     ]
    },
    {
     "name": "stderr",
     "output_type": "stream",
     "text": [
      "\r",
      " 32% (115 of 359) |#######               | Elapsed Time: 0:15:39 ETA:   0:23:02"
     ]
    },
    {
     "name": "stdout",
     "output_type": "stream",
     "text": [
      "/product_V2020_356.json.gz\n"
     ]
    },
    {
     "name": "stderr",
     "output_type": "stream",
     "text": [
      "\r",
      " 32% (116 of 359) |#######               | Elapsed Time: 0:15:45 ETA:   0:22:18"
     ]
    },
    {
     "name": "stdout",
     "output_type": "stream",
     "text": [
      "/product_V2020_104.json.gz\n"
     ]
    },
    {
     "name": "stderr",
     "output_type": "stream",
     "text": [
      "\r",
      " 32% (117 of 359) |#######               | Elapsed Time: 0:15:50 ETA:   0:21:38"
     ]
    },
    {
     "name": "stdout",
     "output_type": "stream",
     "text": [
      "/product_V2020_269.json.gz\n"
     ]
    },
    {
     "name": "stderr",
     "output_type": "stream",
     "text": [
      "\r",
      " 32% (118 of 359) |#######               | Elapsed Time: 0:16:03 ETA:   0:50:22"
     ]
    },
    {
     "name": "stdout",
     "output_type": "stream",
     "text": [
      "/product_V2020_70.json.gz\n"
     ]
    },
    {
     "name": "stderr",
     "output_type": "stream",
     "text": [
      "\r",
      " 33% (119 of 359) |#######               | Elapsed Time: 0:16:08 ETA:   0:21:14"
     ]
    },
    {
     "name": "stdout",
     "output_type": "stream",
     "text": [
      "/product_V2020_292.json.gz\n"
     ]
    },
    {
     "name": "stderr",
     "output_type": "stream",
     "text": [
      "\r",
      " 33% (120 of 359) |#######               | Elapsed Time: 0:16:21 ETA:   0:50:11"
     ]
    },
    {
     "name": "stdout",
     "output_type": "stream",
     "text": [
      "/product_V2020_77.json.gz\n"
     ]
    },
    {
     "name": "stderr",
     "output_type": "stream",
     "text": [
      "\r",
      " 33% (121 of 359) |#######               | Elapsed Time: 0:16:26 ETA:   0:21:45"
     ]
    },
    {
     "name": "stdout",
     "output_type": "stream",
     "text": [
      "/product_V2020_59.json.gz\n"
     ]
    },
    {
     "name": "stderr",
     "output_type": "stream",
     "text": [
      "\r",
      " 33% (122 of 359) |#######               | Elapsed Time: 0:16:39 ETA:   0:52:03"
     ]
    },
    {
     "name": "stdout",
     "output_type": "stream",
     "text": [
      "/product_V2020_338.json.gz\n"
     ]
    },
    {
     "name": "stderr",
     "output_type": "stream",
     "text": [
      "\r",
      " 34% (123 of 359) |#######               | Elapsed Time: 0:16:52 ETA:   0:49:35"
     ]
    },
    {
     "name": "stdout",
     "output_type": "stream",
     "text": [
      "/product_V2020_76.json.gz\n"
     ]
    },
    {
     "name": "stderr",
     "output_type": "stream",
     "text": [
      "\r",
      " 34% (124 of 359) |#######               | Elapsed Time: 0:16:57 ETA:   0:20:55"
     ]
    },
    {
     "name": "stdout",
     "output_type": "stream",
     "text": [
      "/product_V2020_340.json.gz\n"
     ]
    },
    {
     "name": "stderr",
     "output_type": "stream",
     "text": [
      "\r",
      " 34% (125 of 359) |#######               | Elapsed Time: 0:17:03 ETA:   0:20:59"
     ]
    },
    {
     "name": "stdout",
     "output_type": "stream",
     "text": [
      "/product_V2020_326.json.gz\n"
     ]
    },
    {
     "name": "stderr",
     "output_type": "stream",
     "text": [
      "\r",
      " 35% (126 of 359) |#######               | Elapsed Time: 0:17:15 ETA:   0:48:10"
     ]
    },
    {
     "name": "stdout",
     "output_type": "stream",
     "text": [
      "/product_V2020_286.json.gz\n"
     ]
    },
    {
     "name": "stderr",
     "output_type": "stream",
     "text": [
      "\r",
      " 35% (127 of 359) |#######               | Elapsed Time: 0:17:20 ETA:   0:20:43"
     ]
    },
    {
     "name": "stdout",
     "output_type": "stream",
     "text": [
      "/product_V2020_46.json.gz\n"
     ]
    },
    {
     "name": "stderr",
     "output_type": "stream",
     "text": [
      "\r",
      " 35% (128 of 359) |#######               | Elapsed Time: 0:17:33 ETA:   0:48:16"
     ]
    },
    {
     "name": "stdout",
     "output_type": "stream",
     "text": [
      "/product_V2020_13.json.gz\n"
     ]
    },
    {
     "name": "stderr",
     "output_type": "stream",
     "text": [
      "\r",
      " 35% (129 of 359) |#######               | Elapsed Time: 0:17:46 ETA:   0:49:25"
     ]
    },
    {
     "name": "stdout",
     "output_type": "stream",
     "text": [
      "/product_V2020_37.json.gz\n"
     ]
    },
    {
     "name": "stderr",
     "output_type": "stream",
     "text": [
      "\r",
      " 36% (130 of 359) |#######               | Elapsed Time: 0:17:51 ETA:   0:21:23"
     ]
    },
    {
     "name": "stdout",
     "output_type": "stream",
     "text": [
      "/product_V2020_317.json.gz\n"
     ]
    },
    {
     "name": "stderr",
     "output_type": "stream",
     "text": [
      "\r",
      " 36% (131 of 359) |########              | Elapsed Time: 0:17:57 ETA:   0:20:48"
     ]
    },
    {
     "name": "stdout",
     "output_type": "stream",
     "text": [
      "/product_V2020_192.json.gz\n"
     ]
    },
    {
     "name": "stderr",
     "output_type": "stream",
     "text": [
      "\r",
      " 36% (132 of 359) |########              | Elapsed Time: 0:18:02 ETA:   0:20:52"
     ]
    },
    {
     "name": "stdout",
     "output_type": "stream",
     "text": [
      "/product_V2020_223.json.gz\n"
     ]
    },
    {
     "name": "stderr",
     "output_type": "stream",
     "text": [
      "\r",
      " 37% (133 of 359) |########              | Elapsed Time: 0:18:08 ETA:   0:21:09"
     ]
    },
    {
     "name": "stdout",
     "output_type": "stream",
     "text": [
      "/product_V2020_264.json.gz\n"
     ]
    },
    {
     "name": "stderr",
     "output_type": "stream",
     "text": [
      "\r",
      " 37% (134 of 359) |########              | Elapsed Time: 0:18:13 ETA:   0:20:42"
     ]
    },
    {
     "name": "stdout",
     "output_type": "stream",
     "text": [
      "/product_V2020_282.json.gz\n"
     ]
    },
    {
     "name": "stderr",
     "output_type": "stream",
     "text": [
      "\r",
      " 37% (135 of 359) |########              | Elapsed Time: 0:18:26 ETA:   0:47:18"
     ]
    },
    {
     "name": "stdout",
     "output_type": "stream",
     "text": [
      "/product_V2020_7.json.gz\n"
     ]
    },
    {
     "name": "stderr",
     "output_type": "stream",
     "text": [
      "\r",
      " 37% (136 of 359) |########              | Elapsed Time: 0:18:32 ETA:   0:21:00"
     ]
    },
    {
     "name": "stdout",
     "output_type": "stream",
     "text": [
      "/product_V2020_287.json.gz\n"
     ]
    },
    {
     "name": "stderr",
     "output_type": "stream",
     "text": [
      "\r",
      " 38% (137 of 359) |########              | Elapsed Time: 0:18:37 ETA:   0:21:06"
     ]
    },
    {
     "name": "stdout",
     "output_type": "stream",
     "text": [
      "/product_V2020_329.json.gz\n"
     ]
    },
    {
     "name": "stderr",
     "output_type": "stream",
     "text": [
      "\r",
      " 38% (138 of 359) |########              | Elapsed Time: 0:18:51 ETA:   0:48:24"
     ]
    },
    {
     "name": "stdout",
     "output_type": "stream",
     "text": [
      "/product_V2020_14.json.gz\n"
     ]
    },
    {
     "name": "stderr",
     "output_type": "stream",
     "text": [
      "\r",
      " 38% (139 of 359) |########              | Elapsed Time: 0:18:56 ETA:   0:19:39"
     ]
    },
    {
     "name": "stdout",
     "output_type": "stream",
     "text": [
      "/product_V2020_78.json.gz\n"
     ]
    },
    {
     "name": "stderr",
     "output_type": "stream",
     "text": [
      "\r",
      " 38% (140 of 359) |########              | Elapsed Time: 0:19:02 ETA:   0:20:24"
     ]
    },
    {
     "name": "stdout",
     "output_type": "stream",
     "text": [
      "/product_V2020_271.json.gz\n"
     ]
    },
    {
     "name": "stderr",
     "output_type": "stream",
     "text": [
      "\r",
      " 39% (141 of 359) |########              | Elapsed Time: 0:19:14 ETA:   0:45:24"
     ]
    },
    {
     "name": "stdout",
     "output_type": "stream",
     "text": [
      "/product_V2020_90.json.gz\n"
     ]
    },
    {
     "name": "stderr",
     "output_type": "stream",
     "text": [
      "\r",
      " 39% (142 of 359) |########              | Elapsed Time: 0:19:26 ETA:   0:44:21"
     ]
    },
    {
     "name": "stdout",
     "output_type": "stream",
     "text": [
      "/product_V2020_313.json.gz\n"
     ]
    },
    {
     "name": "stderr",
     "output_type": "stream",
     "text": [
      "\r",
      " 39% (143 of 359) |########              | Elapsed Time: 0:19:39 ETA:   0:47:06"
     ]
    },
    {
     "name": "stdout",
     "output_type": "stream",
     "text": [
      "/product_V2020_215.json.gz\n"
     ]
    },
    {
     "name": "stderr",
     "output_type": "stream",
     "text": [
      "\r",
      " 40% (144 of 359) |########              | Elapsed Time: 0:19:53 ETA:   0:47:13"
     ]
    },
    {
     "name": "stdout",
     "output_type": "stream",
     "text": [
      "/product_V2020_252.json.gz\n"
     ]
    },
    {
     "name": "stderr",
     "output_type": "stream",
     "text": [
      "\r",
      " 40% (145 of 359) |########              | Elapsed Time: 0:20:05 ETA:   0:44:06"
     ]
    },
    {
     "name": "stdout",
     "output_type": "stream",
     "text": [
      "/product_V2020_237.json.gz\n"
     ]
    },
    {
     "name": "stderr",
     "output_type": "stream",
     "text": [
      "\r",
      " 40% (146 of 359) |########              | Elapsed Time: 0:20:18 ETA:   0:44:51"
     ]
    },
    {
     "name": "stdout",
     "output_type": "stream",
     "text": [
      "/product_V2020_111.json.gz\n"
     ]
    },
    {
     "name": "stderr",
     "output_type": "stream",
     "text": [
      "\r",
      " 40% (147 of 359) |#########             | Elapsed Time: 0:20:23 ETA:   0:20:17"
     ]
    },
    {
     "name": "stdout",
     "output_type": "stream",
     "text": [
      "/product_V2020_120.json.gz\n"
     ]
    },
    {
     "name": "stderr",
     "output_type": "stream",
     "text": [
      "\r",
      " 41% (148 of 359) |#########             | Elapsed Time: 0:20:36 ETA:   0:45:18"
     ]
    },
    {
     "name": "stdout",
     "output_type": "stream",
     "text": [
      "/product_V2020_162.json.gz\n"
     ]
    },
    {
     "name": "stderr",
     "output_type": "stream",
     "text": [
      "\r",
      " 41% (149 of 359) |#########             | Elapsed Time: 0:20:50 ETA:   0:46:29"
     ]
    },
    {
     "name": "stdout",
     "output_type": "stream",
     "text": [
      "/product_V2020_89.json.gz\n"
     ]
    },
    {
     "name": "stderr",
     "output_type": "stream",
     "text": [
      "\r",
      " 41% (150 of 359) |#########             | Elapsed Time: 0:20:55 ETA:   0:19:13"
     ]
    },
    {
     "name": "stdout",
     "output_type": "stream",
     "text": [
      "/product_V2020_341.json.gz\n"
     ]
    },
    {
     "name": "stderr",
     "output_type": "stream",
     "text": [
      "\r",
      " 42% (151 of 359) |#########             | Elapsed Time: 0:21:07 ETA:   0:42:36"
     ]
    },
    {
     "name": "stdout",
     "output_type": "stream",
     "text": [
      "/product_V2020_20.json.gz\n"
     ]
    },
    {
     "name": "stderr",
     "output_type": "stream",
     "text": [
      "\r",
      " 42% (152 of 359) |#########             | Elapsed Time: 0:21:20 ETA:   0:42:08"
     ]
    },
    {
     "name": "stdout",
     "output_type": "stream",
     "text": [
      "/product_V2020_247.json.gz\n"
     ]
    },
    {
     "name": "stderr",
     "output_type": "stream",
     "text": [
      "\r",
      " 42% (153 of 359) |#########             | Elapsed Time: 0:21:32 ETA:   0:42:51"
     ]
    },
    {
     "name": "stdout",
     "output_type": "stream",
     "text": [
      "/product_V2020_281.json.gz\n"
     ]
    },
    {
     "name": "stderr",
     "output_type": "stream",
     "text": [
      "\r",
      " 42% (154 of 359) |#########             | Elapsed Time: 0:21:38 ETA:   0:19:00"
     ]
    },
    {
     "name": "stdout",
     "output_type": "stream",
     "text": [
      "/product_V2020_175.json.gz\n"
     ]
    },
    {
     "name": "stderr",
     "output_type": "stream",
     "text": [
      "\r",
      " 43% (155 of 359) |#########             | Elapsed Time: 0:21:51 ETA:   0:45:39"
     ]
    },
    {
     "name": "stdout",
     "output_type": "stream",
     "text": [
      "/product_V2020_336.json.gz\n"
     ]
    },
    {
     "name": "stderr",
     "output_type": "stream",
     "text": [
      "\r",
      " 43% (156 of 359) |#########             | Elapsed Time: 0:22:04 ETA:   0:42:38"
     ]
    },
    {
     "name": "stdout",
     "output_type": "stream",
     "text": [
      "/product_V2020_11.json.gz\n"
     ]
    },
    {
     "name": "stderr",
     "output_type": "stream",
     "text": [
      "\r",
      " 43% (157 of 359) |#########             | Elapsed Time: 0:22:16 ETA:   0:42:10"
     ]
    },
    {
     "name": "stdout",
     "output_type": "stream",
     "text": [
      "/product_V2020_110.json.gz\n"
     ]
    },
    {
     "name": "stderr",
     "output_type": "stream",
     "text": [
      "\r",
      " 44% (158 of 359) |#########             | Elapsed Time: 0:22:22 ETA:   0:19:01"
     ]
    },
    {
     "name": "stdout",
     "output_type": "stream",
     "text": [
      "/product_V2020_36.json.gz\n"
     ]
    },
    {
     "name": "stderr",
     "output_type": "stream",
     "text": [
      "\r",
      " 44% (159 of 359) |#########             | Elapsed Time: 0:22:35 ETA:   0:42:32"
     ]
    },
    {
     "name": "stdout",
     "output_type": "stream",
     "text": [
      "/product_V2020_256.json.gz\n"
     ]
    },
    {
     "name": "stderr",
     "output_type": "stream",
     "text": [
      "\r",
      " 44% (160 of 359) |#########             | Elapsed Time: 0:22:40 ETA:   0:19:30"
     ]
    },
    {
     "name": "stdout",
     "output_type": "stream",
     "text": [
      "/product_V2020_301.json.gz\n"
     ]
    },
    {
     "name": "stderr",
     "output_type": "stream",
     "text": [
      "\r",
      " 44% (161 of 359) |#########             | Elapsed Time: 0:22:46 ETA:   0:18:52"
     ]
    },
    {
     "name": "stdout",
     "output_type": "stream",
     "text": [
      "/product_V2020_105.json.gz\n"
     ]
    },
    {
     "name": "stderr",
     "output_type": "stream",
     "text": [
      "\r",
      " 45% (162 of 359) |#########             | Elapsed Time: 0:23:00 ETA:   0:43:51"
     ]
    },
    {
     "name": "stdout",
     "output_type": "stream",
     "text": [
      "/product_V2020_85.json.gz\n"
     ]
    },
    {
     "name": "stderr",
     "output_type": "stream",
     "text": [
      "\r",
      " 45% (163 of 359) |#########             | Elapsed Time: 0:23:05 ETA:   0:18:13"
     ]
    },
    {
     "name": "stdout",
     "output_type": "stream",
     "text": [
      "/product_V2020_227.json.gz\n"
     ]
    },
    {
     "name": "stderr",
     "output_type": "stream",
     "text": [
      "\r",
      " 45% (164 of 359) |##########            | Elapsed Time: 0:23:18 ETA:   0:40:48"
     ]
    },
    {
     "name": "stdout",
     "output_type": "stream",
     "text": [
      "/product_V2020_357.json.gz\n"
     ]
    },
    {
     "name": "stderr",
     "output_type": "stream",
     "text": [
      "\r",
      " 45% (165 of 359) |##########            | Elapsed Time: 0:23:23 ETA:   0:17:56"
     ]
    },
    {
     "name": "stdout",
     "output_type": "stream",
     "text": [
      "/product_V2020_289.json.gz\n"
     ]
    },
    {
     "name": "stderr",
     "output_type": "stream",
     "text": [
      "\r",
      " 46% (166 of 359) |##########            | Elapsed Time: 0:23:29 ETA:   0:17:26"
     ]
    },
    {
     "name": "stdout",
     "output_type": "stream",
     "text": [
      "/product_V2020_275.json.gz\n"
     ]
    },
    {
     "name": "stderr",
     "output_type": "stream",
     "text": [
      "\r",
      " 46% (167 of 359) |##########            | Elapsed Time: 0:23:41 ETA:   0:39:48"
     ]
    },
    {
     "name": "stdout",
     "output_type": "stream",
     "text": [
      "/product_V2020_116.json.gz\n"
     ]
    },
    {
     "name": "stderr",
     "output_type": "stream",
     "text": [
      "\r",
      " 46% (168 of 359) |##########            | Elapsed Time: 0:23:54 ETA:   0:39:50"
     ]
    },
    {
     "name": "stdout",
     "output_type": "stream",
     "text": [
      "/product_V2020_87.json.gz\n"
     ]
    },
    {
     "name": "stderr",
     "output_type": "stream",
     "text": [
      "\r",
      " 47% (169 of 359) |##########            | Elapsed Time: 0:23:59 ETA:   0:18:31"
     ]
    },
    {
     "name": "stdout",
     "output_type": "stream",
     "text": [
      "/product_V2020_55.json.gz\n"
     ]
    },
    {
     "name": "stderr",
     "output_type": "stream",
     "text": [
      "\r",
      " 47% (170 of 359) |##########            | Elapsed Time: 0:24:05 ETA:   0:18:03"
     ]
    },
    {
     "name": "stdout",
     "output_type": "stream",
     "text": [
      "/product_V2020_2.json.gz\n"
     ]
    },
    {
     "name": "stderr",
     "output_type": "stream",
     "text": [
      "\r",
      " 47% (171 of 359) |##########            | Elapsed Time: 0:24:11 ETA:   0:17:24"
     ]
    },
    {
     "name": "stdout",
     "output_type": "stream",
     "text": [
      "/product_V2020_250.json.gz\n"
     ]
    },
    {
     "name": "stderr",
     "output_type": "stream",
     "text": [
      "\r",
      " 47% (172 of 359) |##########            | Elapsed Time: 0:24:23 ETA:   0:38:03"
     ]
    },
    {
     "name": "stdout",
     "output_type": "stream",
     "text": [
      "/product_V2020_339.json.gz\n"
     ]
    },
    {
     "name": "stderr",
     "output_type": "stream",
     "text": [
      "\r",
      " 48% (173 of 359) |##########            | Elapsed Time: 0:24:28 ETA:   0:16:51"
     ]
    },
    {
     "name": "stdout",
     "output_type": "stream",
     "text": [
      "/product_V2020_27.json.gz\n"
     ]
    },
    {
     "name": "stderr",
     "output_type": "stream",
     "text": [
      "\r",
      " 48% (174 of 359) |##########            | Elapsed Time: 0:24:34 ETA:   0:16:58"
     ]
    },
    {
     "name": "stdout",
     "output_type": "stream",
     "text": [
      "/product_V2020_108.json.gz\n"
     ]
    },
    {
     "name": "stderr",
     "output_type": "stream",
     "text": [
      "\r",
      " 48% (175 of 359) |##########            | Elapsed Time: 0:24:39 ETA:   0:17:07"
     ]
    },
    {
     "name": "stdout",
     "output_type": "stream",
     "text": [
      "/product_V2020_16.json.gz\n"
     ]
    },
    {
     "name": "stderr",
     "output_type": "stream",
     "text": [
      "\r",
      " 49% (176 of 359) |##########            | Elapsed Time: 0:24:45 ETA:   0:17:20"
     ]
    },
    {
     "name": "stdout",
     "output_type": "stream",
     "text": [
      "/product_V2020_61.json.gz\n"
     ]
    },
    {
     "name": "stderr",
     "output_type": "stream",
     "text": [
      "\r",
      " 49% (177 of 359) |##########            | Elapsed Time: 0:24:51 ETA:   0:17:38"
     ]
    },
    {
     "name": "stdout",
     "output_type": "stream",
     "text": [
      "/product_V2020_277.json.gz\n"
     ]
    },
    {
     "name": "stderr",
     "output_type": "stream",
     "text": [
      "\r",
      " 49% (178 of 359) |##########            | Elapsed Time: 0:24:57 ETA:   0:17:26"
     ]
    },
    {
     "name": "stdout",
     "output_type": "stream",
     "text": [
      "/product_V2020_9.json.gz\n"
     ]
    },
    {
     "name": "stderr",
     "output_type": "stream",
     "text": [
      "\r",
      " 49% (179 of 359) |##########            | Elapsed Time: 0:25:10 ETA:   0:38:26"
     ]
    },
    {
     "name": "stdout",
     "output_type": "stream",
     "text": [
      "/product_V2020_358.json.gz\n"
     ]
    },
    {
     "name": "stderr",
     "output_type": "stream",
     "text": [
      "\r",
      " 50% (180 of 359) |###########           | Elapsed Time: 0:25:21 ETA:   0:35:22"
     ]
    },
    {
     "name": "stdout",
     "output_type": "stream",
     "text": [
      "/product_V2020_49.json.gz\n"
     ]
    },
    {
     "name": "stderr",
     "output_type": "stream",
     "text": [
      "\r",
      " 50% (181 of 359) |###########           | Elapsed Time: 0:25:33 ETA:   0:35:24"
     ]
    },
    {
     "name": "stdout",
     "output_type": "stream",
     "text": [
      "/product_V2020_306.json.gz\n"
     ]
    },
    {
     "name": "stderr",
     "output_type": "stream",
     "text": [
      "\r",
      " 50% (182 of 359) |###########           | Elapsed Time: 0:25:39 ETA:   0:16:28"
     ]
    },
    {
     "name": "stdout",
     "output_type": "stream",
     "text": [
      "/product_V2020_181.json.gz\n"
     ]
    },
    {
     "name": "stderr",
     "output_type": "stream",
     "text": [
      "\r",
      " 50% (183 of 359) |###########           | Elapsed Time: 0:25:45 ETA:   0:16:47"
     ]
    },
    {
     "name": "stdout",
     "output_type": "stream",
     "text": [
      "/product_V2020_259.json.gz\n"
     ]
    },
    {
     "name": "stderr",
     "output_type": "stream",
     "text": [
      "\r",
      " 51% (184 of 359) |###########           | Elapsed Time: 0:25:57 ETA:   0:37:04"
     ]
    },
    {
     "name": "stdout",
     "output_type": "stream",
     "text": [
      "/product_V2020_112.json.gz\n"
     ]
    },
    {
     "name": "stderr",
     "output_type": "stream",
     "text": [
      "\r",
      " 51% (185 of 359) |###########           | Elapsed Time: 0:26:10 ETA:   0:35:49"
     ]
    },
    {
     "name": "stdout",
     "output_type": "stream",
     "text": [
      "/product_V2020_284.json.gz\n"
     ]
    },
    {
     "name": "stderr",
     "output_type": "stream",
     "text": [
      "\r",
      " 51% (186 of 359) |###########           | Elapsed Time: 0:26:22 ETA:   0:34:54"
     ]
    },
    {
     "name": "stdout",
     "output_type": "stream",
     "text": [
      "/product_V2020_354.json.gz\n"
     ]
    },
    {
     "name": "stderr",
     "output_type": "stream",
     "text": [
      "\r",
      " 52% (187 of 359) |###########           | Elapsed Time: 0:26:27 ETA:   0:15:52"
     ]
    },
    {
     "name": "stdout",
     "output_type": "stream",
     "text": [
      "/product_V2020_69.json.gz\n"
     ]
    },
    {
     "name": "stderr",
     "output_type": "stream",
     "text": [
      "\r",
      " 52% (188 of 359) |###########           | Elapsed Time: 0:26:33 ETA:   0:16:18"
     ]
    },
    {
     "name": "stdout",
     "output_type": "stream",
     "text": [
      "/product_V2020_235.json.gz\n"
     ]
    },
    {
     "name": "stderr",
     "output_type": "stream",
     "text": [
      "\r",
      " 52% (189 of 359) |###########           | Elapsed Time: 0:26:39 ETA:   0:15:52"
     ]
    },
    {
     "name": "stdout",
     "output_type": "stream",
     "text": [
      "/product_V2020_98.json.gz\n"
     ]
    },
    {
     "name": "stderr",
     "output_type": "stream",
     "text": [
      "\r",
      " 52% (190 of 359) |###########           | Elapsed Time: 0:26:44 ETA:   0:15:42"
     ]
    },
    {
     "name": "stdout",
     "output_type": "stream",
     "text": [
      "/product_V2020_355.json.gz\n"
     ]
    },
    {
     "name": "stderr",
     "output_type": "stream",
     "text": [
      "\r",
      " 53% (191 of 359) |###########           | Elapsed Time: 0:26:50 ETA:   0:16:13"
     ]
    },
    {
     "name": "stdout",
     "output_type": "stream",
     "text": [
      "/product_V2020_300.json.gz\n"
     ]
    },
    {
     "name": "stderr",
     "output_type": "stream",
     "text": [
      "\r",
      " 53% (192 of 359) |###########           | Elapsed Time: 0:26:56 ETA:   0:15:37"
     ]
    },
    {
     "name": "stdout",
     "output_type": "stream",
     "text": [
      "/product_V2020_280.json.gz\n"
     ]
    },
    {
     "name": "stderr",
     "output_type": "stream",
     "text": [
      "\r",
      " 53% (193 of 359) |###########           | Elapsed Time: 0:27:09 ETA:   0:35:39"
     ]
    },
    {
     "name": "stdout",
     "output_type": "stream",
     "text": [
      "/product_V2020_82.json.gz\n"
     ]
    },
    {
     "name": "stderr",
     "output_type": "stream",
     "text": [
      "\r",
      " 54% (194 of 359) |###########           | Elapsed Time: 0:27:14 ETA:   0:15:46"
     ]
    },
    {
     "name": "stdout",
     "output_type": "stream",
     "text": [
      "/product_V2020_132.json.gz\n"
     ]
    },
    {
     "name": "stderr",
     "output_type": "stream",
     "text": [
      "\r",
      " 54% (195 of 359) |###########           | Elapsed Time: 0:27:20 ETA:   0:15:15"
     ]
    },
    {
     "name": "stdout",
     "output_type": "stream",
     "text": [
      "/product_V2020_318.json.gz\n"
     ]
    },
    {
     "name": "stderr",
     "output_type": "stream",
     "text": [
      "\r",
      " 54% (196 of 359) |############          | Elapsed Time: 0:27:25 ETA:   0:14:18"
     ]
    },
    {
     "name": "stdout",
     "output_type": "stream",
     "text": [
      "/product_V2020_290.json.gz\n"
     ]
    },
    {
     "name": "stderr",
     "output_type": "stream",
     "text": [
      "\r",
      " 54% (197 of 359) |############          | Elapsed Time: 0:27:31 ETA:   0:14:40"
     ]
    },
    {
     "name": "stdout",
     "output_type": "stream",
     "text": [
      "/product_V2020_297.json.gz\n"
     ]
    },
    {
     "name": "stderr",
     "output_type": "stream",
     "text": [
      "\r",
      " 55% (198 of 359) |############          | Elapsed Time: 0:27:43 ETA:   0:33:27"
     ]
    },
    {
     "name": "stdout",
     "output_type": "stream",
     "text": [
      "/product_V2020_296.json.gz\n"
     ]
    },
    {
     "name": "stderr",
     "output_type": "stream",
     "text": [
      "\r",
      " 55% (199 of 359) |############          | Elapsed Time: 0:27:56 ETA:   0:33:22"
     ]
    },
    {
     "name": "stdout",
     "output_type": "stream",
     "text": [
      "/product_V2020_169.json.gz\n"
     ]
    },
    {
     "name": "stderr",
     "output_type": "stream",
     "text": [
      "\r",
      " 55% (200 of 359) |############          | Elapsed Time: 0:28:01 ETA:   0:15:05"
     ]
    },
    {
     "name": "stdout",
     "output_type": "stream",
     "text": [
      "/product_V2020_203.json.gz\n"
     ]
    },
    {
     "name": "stderr",
     "output_type": "stream",
     "text": [
      "\r",
      " 55% (201 of 359) |############          | Elapsed Time: 0:28:07 ETA:   0:15:01"
     ]
    },
    {
     "name": "stdout",
     "output_type": "stream",
     "text": [
      "/product_V2020_1.json.gz\n"
     ]
    },
    {
     "name": "stderr",
     "output_type": "stream",
     "text": [
      "\r",
      " 56% (202 of 359) |############          | Elapsed Time: 0:28:12 ETA:   0:13:58"
     ]
    },
    {
     "name": "stdout",
     "output_type": "stream",
     "text": [
      "/product_V2020_196.json.gz\n"
     ]
    },
    {
     "name": "stderr",
     "output_type": "stream",
     "text": [
      "\r",
      " 56% (203 of 359) |############          | Elapsed Time: 0:28:18 ETA:   0:14:25"
     ]
    },
    {
     "name": "stdout",
     "output_type": "stream",
     "text": [
      "/product_V2020_39.json.gz\n"
     ]
    },
    {
     "name": "stderr",
     "output_type": "stream",
     "text": [
      "\r",
      " 56% (204 of 359) |############          | Elapsed Time: 0:28:31 ETA:   0:33:06"
     ]
    },
    {
     "name": "stdout",
     "output_type": "stream",
     "text": [
      "/product_V2020_193.json.gz\n"
     ]
    },
    {
     "name": "stderr",
     "output_type": "stream",
     "text": [
      "\r",
      " 57% (205 of 359) |############          | Elapsed Time: 0:28:36 ETA:   0:13:35"
     ]
    },
    {
     "name": "stdout",
     "output_type": "stream",
     "text": [
      "/product_V2020_270.json.gz\n"
     ]
    },
    {
     "name": "stderr",
     "output_type": "stream",
     "text": [
      "\r",
      " 57% (206 of 359) |############          | Elapsed Time: 0:28:49 ETA:   0:33:09"
     ]
    },
    {
     "name": "stdout",
     "output_type": "stream",
     "text": [
      "/product_V2020_331.json.gz\n"
     ]
    },
    {
     "name": "stderr",
     "output_type": "stream",
     "text": [
      "\r",
      " 57% (207 of 359) |############          | Elapsed Time: 0:29:02 ETA:   0:33:11"
     ]
    },
    {
     "name": "stdout",
     "output_type": "stream",
     "text": [
      "/product_V2020_332.json.gz\n"
     ]
    },
    {
     "name": "stderr",
     "output_type": "stream",
     "text": [
      "\r",
      " 57% (208 of 359) |############          | Elapsed Time: 0:29:08 ETA:   0:14:35"
     ]
    },
    {
     "name": "stdout",
     "output_type": "stream",
     "text": [
      "/product_V2020_53.json.gz\n"
     ]
    },
    {
     "name": "stderr",
     "output_type": "stream",
     "text": [
      "\r",
      " 58% (209 of 359) |############          | Elapsed Time: 0:29:14 ETA:   0:14:22"
     ]
    },
    {
     "name": "stdout",
     "output_type": "stream",
     "text": [
      "/product_V2020_262.json.gz\n"
     ]
    },
    {
     "name": "stderr",
     "output_type": "stream",
     "text": [
      "\r",
      " 58% (210 of 359) |############          | Elapsed Time: 0:29:27 ETA:   0:33:35"
     ]
    },
    {
     "name": "stdout",
     "output_type": "stream",
     "text": [
      "/product_V2020_28.json.gz\n"
     ]
    },
    {
     "name": "stderr",
     "output_type": "stream",
     "text": [
      "\r",
      " 58% (211 of 359) |############          | Elapsed Time: 0:29:41 ETA:   0:33:49"
     ]
    },
    {
     "name": "stdout",
     "output_type": "stream",
     "text": [
      "/product_V2020_291.json.gz\n"
     ]
    },
    {
     "name": "stderr",
     "output_type": "stream",
     "text": [
      "\r",
      " 59% (212 of 359) |############          | Elapsed Time: 0:29:46 ETA:   0:13:38"
     ]
    },
    {
     "name": "stdout",
     "output_type": "stream",
     "text": [
      "/product_V2020_201.json.gz\n"
     ]
    },
    {
     "name": "stderr",
     "output_type": "stream",
     "text": [
      "\r",
      " 59% (213 of 359) |#############         | Elapsed Time: 0:30:00 ETA:   0:32:11"
     ]
    },
    {
     "name": "stdout",
     "output_type": "stream",
     "text": [
      "/product_V2020_199.json.gz\n"
     ]
    },
    {
     "name": "stderr",
     "output_type": "stream",
     "text": [
      "\r",
      " 59% (214 of 359) |#############         | Elapsed Time: 0:30:13 ETA:   0:32:36"
     ]
    },
    {
     "name": "stdout",
     "output_type": "stream",
     "text": [
      "/product_V2020_343.json.gz\n"
     ]
    },
    {
     "name": "stderr",
     "output_type": "stream",
     "text": [
      "\r",
      " 59% (215 of 359) |#############         | Elapsed Time: 0:30:26 ETA:   0:30:22"
     ]
    },
    {
     "name": "stdout",
     "output_type": "stream",
     "text": [
      "/product_V2020_154.json.gz\n"
     ]
    },
    {
     "name": "stderr",
     "output_type": "stream",
     "text": [
      "\r",
      " 60% (216 of 359) |#############         | Elapsed Time: 0:30:39 ETA:   0:30:41"
     ]
    },
    {
     "name": "stdout",
     "output_type": "stream",
     "text": [
      "/product_V2020_133.json.gz\n"
     ]
    },
    {
     "name": "stderr",
     "output_type": "stream",
     "text": [
      "\r",
      " 60% (217 of 359) |#############         | Elapsed Time: 0:30:45 ETA:   0:14:33"
     ]
    },
    {
     "name": "stdout",
     "output_type": "stream",
     "text": [
      "/product_V2020_248.json.gz\n"
     ]
    },
    {
     "name": "stderr",
     "output_type": "stream",
     "text": [
      "\r",
      " 60% (218 of 359) |#############         | Elapsed Time: 0:30:58 ETA:   0:31:29"
     ]
    },
    {
     "name": "stdout",
     "output_type": "stream",
     "text": [
      "/product_V2020_71.json.gz\n"
     ]
    },
    {
     "name": "stderr",
     "output_type": "stream",
     "text": [
      "\r",
      " 61% (219 of 359) |#############         | Elapsed Time: 0:31:11 ETA:   0:30:00"
     ]
    },
    {
     "name": "stdout",
     "output_type": "stream",
     "text": [
      "/product_V2020_135.json.gz\n"
     ]
    },
    {
     "name": "stderr",
     "output_type": "stream",
     "text": [
      "\r",
      " 61% (220 of 359) |#############         | Elapsed Time: 0:31:17 ETA:   0:12:43"
     ]
    },
    {
     "name": "stdout",
     "output_type": "stream",
     "text": [
      "/product_V2020_34.json.gz\n"
     ]
    },
    {
     "name": "stderr",
     "output_type": "stream",
     "text": [
      "\r",
      " 61% (221 of 359) |#############         | Elapsed Time: 0:31:30 ETA:   0:30:05"
     ]
    },
    {
     "name": "stdout",
     "output_type": "stream",
     "text": [
      "/product_V2020_145.json.gz\n"
     ]
    },
    {
     "name": "stderr",
     "output_type": "stream",
     "text": [
      "\r",
      " 61% (222 of 359) |#############         | Elapsed Time: 0:31:43 ETA:   0:30:59"
     ]
    },
    {
     "name": "stdout",
     "output_type": "stream",
     "text": [
      "/product_V2020_12.json.gz\n"
     ]
    },
    {
     "name": "stderr",
     "output_type": "stream",
     "text": [
      "\r",
      " 62% (223 of 359) |#############         | Elapsed Time: 0:31:57 ETA:   0:32:00"
     ]
    },
    {
     "name": "stdout",
     "output_type": "stream",
     "text": [
      "/product_V2020_165.json.gz\n"
     ]
    },
    {
     "name": "stderr",
     "output_type": "stream",
     "text": [
      "\r",
      " 62% (224 of 359) |#############         | Elapsed Time: 0:32:03 ETA:   0:12:36"
     ]
    },
    {
     "name": "stdout",
     "output_type": "stream",
     "text": [
      "/product_V2020_54.json.gz\n"
     ]
    },
    {
     "name": "stderr",
     "output_type": "stream",
     "text": [
      "\r",
      " 62% (225 of 359) |#############         | Elapsed Time: 0:32:09 ETA:   0:12:29"
     ]
    },
    {
     "name": "stdout",
     "output_type": "stream",
     "text": [
      "/product_V2020_242.json.gz\n"
     ]
    },
    {
     "name": "stderr",
     "output_type": "stream",
     "text": [
      "\r",
      " 62% (226 of 359) |#############         | Elapsed Time: 0:32:14 ETA:   0:12:46"
     ]
    },
    {
     "name": "stdout",
     "output_type": "stream",
     "text": [
      "/product_V2020_30.json.gz\n"
     ]
    },
    {
     "name": "stderr",
     "output_type": "stream",
     "text": [
      "\r",
      " 63% (227 of 359) |#############         | Elapsed Time: 0:32:29 ETA:   0:31:51"
     ]
    },
    {
     "name": "stdout",
     "output_type": "stream",
     "text": [
      "/product_V2020_255.json.gz\n"
     ]
    },
    {
     "name": "stderr",
     "output_type": "stream",
     "text": [
      "\r",
      " 63% (228 of 359) |#############         | Elapsed Time: 0:32:35 ETA:   0:13:43"
     ]
    },
    {
     "name": "stdout",
     "output_type": "stream",
     "text": [
      "/product_V2020_65.json.gz\n"
     ]
    },
    {
     "name": "stderr",
     "output_type": "stream",
     "text": [
      "\r",
      " 63% (229 of 359) |##############        | Elapsed Time: 0:32:51 ETA:   0:34:11"
     ]
    },
    {
     "name": "stdout",
     "output_type": "stream",
     "text": [
      "/product_V2020_177.json.gz\n"
     ]
    },
    {
     "name": "stderr",
     "output_type": "stream",
     "text": [
      "\r",
      " 64% (230 of 359) |##############        | Elapsed Time: 0:32:58 ETA:   0:14:24"
     ]
    },
    {
     "name": "stdout",
     "output_type": "stream",
     "text": [
      "/product_V2020_206.json.gz\n"
     ]
    },
    {
     "name": "stderr",
     "output_type": "stream",
     "text": [
      "\r",
      " 64% (231 of 359) |##############        | Elapsed Time: 0:33:04 ETA:   0:13:44"
     ]
    },
    {
     "name": "stdout",
     "output_type": "stream",
     "text": [
      "/product_V2020_261.json.gz\n"
     ]
    },
    {
     "name": "stderr",
     "output_type": "stream",
     "text": [
      "\r",
      " 64% (232 of 359) |##############        | Elapsed Time: 0:33:19 ETA:   0:32:32"
     ]
    },
    {
     "name": "stdout",
     "output_type": "stream",
     "text": [
      "/product_V2020_266.json.gz\n"
     ]
    },
    {
     "name": "stderr",
     "output_type": "stream",
     "text": [
      "\r",
      " 64% (233 of 359) |##############        | Elapsed Time: 0:33:26 ETA:   0:14:03"
     ]
    },
    {
     "name": "stdout",
     "output_type": "stream",
     "text": [
      "/product_V2020_64.json.gz\n"
     ]
    },
    {
     "name": "stderr",
     "output_type": "stream",
     "text": [
      "\r",
      " 65% (234 of 359) |##############        | Elapsed Time: 0:33:33 ETA:   0:14:07"
     ]
    },
    {
     "name": "stdout",
     "output_type": "stream",
     "text": [
      "/product_V2020_166.json.gz\n"
     ]
    },
    {
     "name": "stderr",
     "output_type": "stream",
     "text": [
      "\r",
      " 65% (235 of 359) |##############        | Elapsed Time: 0:33:40 ETA:   0:14:33"
     ]
    },
    {
     "name": "stdout",
     "output_type": "stream",
     "text": [
      "/product_V2020_180.json.gz\n"
     ]
    },
    {
     "name": "stderr",
     "output_type": "stream",
     "text": [
      "\r",
      " 65% (236 of 359) |##############        | Elapsed Time: 0:33:57 ETA:   0:35:46"
     ]
    },
    {
     "name": "stdout",
     "output_type": "stream",
     "text": [
      "/product_V2020_155.json.gz\n"
     ]
    },
    {
     "name": "stderr",
     "output_type": "stream",
     "text": [
      "\r",
      " 66% (237 of 359) |##############        | Elapsed Time: 0:34:14 ETA:   0:33:15"
     ]
    },
    {
     "name": "stdout",
     "output_type": "stream",
     "text": [
      "/product_V2020_208.json.gz\n"
     ]
    },
    {
     "name": "stderr",
     "output_type": "stream",
     "text": [
      "\r",
      " 66% (238 of 359) |##############        | Elapsed Time: 0:34:30 ETA:   0:32:53"
     ]
    },
    {
     "name": "stdout",
     "output_type": "stream",
     "text": [
      "/product_V2020_230.json.gz\n"
     ]
    },
    {
     "name": "stderr",
     "output_type": "stream",
     "text": [
      "\r",
      " 66% (239 of 359) |##############        | Elapsed Time: 0:34:37 ETA:   0:14:35"
     ]
    },
    {
     "name": "stdout",
     "output_type": "stream",
     "text": [
      "/product_V2020_342.json.gz\n"
     ]
    },
    {
     "name": "stderr",
     "output_type": "stream",
     "text": [
      "\r",
      " 66% (240 of 359) |##############        | Elapsed Time: 0:34:46 ETA:   0:16:10"
     ]
    },
    {
     "name": "stdout",
     "output_type": "stream",
     "text": [
      "/product_V2020_170.json.gz\n"
     ]
    },
    {
     "name": "stderr",
     "output_type": "stream",
     "text": [
      "\r",
      " 67% (241 of 359) |##############        | Elapsed Time: 0:34:53 ETA:   0:14:53"
     ]
    },
    {
     "name": "stdout",
     "output_type": "stream",
     "text": [
      "/product_V2020_240.json.gz\n"
     ]
    },
    {
     "name": "stderr",
     "output_type": "stream",
     "text": [
      "\r",
      " 67% (242 of 359) |##############        | Elapsed Time: 0:35:01 ETA:   0:15:51"
     ]
    },
    {
     "name": "stdout",
     "output_type": "stream",
     "text": [
      "/product_V2020_79.json.gz\n"
     ]
    },
    {
     "name": "stderr",
     "output_type": "stream",
     "text": [
      "\r",
      " 67% (243 of 359) |##############        | Elapsed Time: 0:35:09 ETA:   0:14:42"
     ]
    },
    {
     "name": "stdout",
     "output_type": "stream",
     "text": [
      "/product_V2020_146.json.gz\n"
     ]
    },
    {
     "name": "stderr",
     "output_type": "stream",
     "text": [
      "\r",
      " 67% (244 of 359) |##############        | Elapsed Time: 0:35:16 ETA:   0:14:09"
     ]
    },
    {
     "name": "stdout",
     "output_type": "stream",
     "text": [
      "/product_V2020_19.json.gz\n"
     ]
    },
    {
     "name": "stderr",
     "output_type": "stream",
     "text": [
      "\r",
      " 68% (245 of 359) |###############       | Elapsed Time: 0:35:34 ETA:   0:33:24"
     ]
    },
    {
     "name": "stdout",
     "output_type": "stream",
     "text": [
      "/product_V2020_121.json.gz\n"
     ]
    },
    {
     "name": "stderr",
     "output_type": "stream",
     "text": [
      "\r",
      " 68% (246 of 359) |###############       | Elapsed Time: 0:35:41 ETA:   0:14:12"
     ]
    },
    {
     "name": "stdout",
     "output_type": "stream",
     "text": [
      "/product_V2020_67.json.gz\n"
     ]
    },
    {
     "name": "stderr",
     "output_type": "stream",
     "text": [
      "\r",
      " 68% (247 of 359) |###############       | Elapsed Time: 0:35:58 ETA:   0:31:30"
     ]
    },
    {
     "name": "stdout",
     "output_type": "stream",
     "text": [
      "/product_V2020_234.json.gz\n"
     ]
    },
    {
     "name": "stderr",
     "output_type": "stream",
     "text": [
      "\r",
      " 69% (248 of 359) |###############       | Elapsed Time: 0:36:15 ETA:   0:31:56"
     ]
    },
    {
     "name": "stdout",
     "output_type": "stream",
     "text": [
      "/product_V2020_23.json.gz\n"
     ]
    },
    {
     "name": "stderr",
     "output_type": "stream",
     "text": [
      "\r",
      " 69% (249 of 359) |###############       | Elapsed Time: 0:36:32 ETA:   0:30:09"
     ]
    },
    {
     "name": "stdout",
     "output_type": "stream",
     "text": [
      "/product_V2020_103.json.gz\n"
     ]
    },
    {
     "name": "stderr",
     "output_type": "stream",
     "text": [
      "\r",
      " 69% (250 of 359) |###############       | Elapsed Time: 0:36:39 ETA:   0:13:38"
     ]
    },
    {
     "name": "stdout",
     "output_type": "stream",
     "text": [
      "/product_V2020_72.json.gz\n"
     ]
    },
    {
     "name": "stderr",
     "output_type": "stream",
     "text": [
      "\r",
      " 69% (251 of 359) |###############       | Elapsed Time: 0:36:47 ETA:   0:13:33"
     ]
    },
    {
     "name": "stdout",
     "output_type": "stream",
     "text": [
      "/product_V2020_334.json.gz\n"
     ]
    },
    {
     "name": "stderr",
     "output_type": "stream",
     "text": [
      "\r",
      " 70% (252 of 359) |###############       | Elapsed Time: 0:37:05 ETA:   0:31:22"
     ]
    },
    {
     "name": "stdout",
     "output_type": "stream",
     "text": [
      "/product_V2020_117.json.gz\n"
     ]
    },
    {
     "name": "stderr",
     "output_type": "stream",
     "text": [
      "\r",
      " 70% (253 of 359) |###############       | Elapsed Time: 0:37:22 ETA:   0:30:38"
     ]
    },
    {
     "name": "stdout",
     "output_type": "stream",
     "text": [
      "/product_V2020_263.json.gz\n"
     ]
    },
    {
     "name": "stderr",
     "output_type": "stream",
     "text": [
      "\r",
      " 70% (254 of 359) |###############       | Elapsed Time: 0:37:26 ETA:   0:06:25"
     ]
    },
    {
     "name": "stdout",
     "output_type": "stream",
     "text": [
      "/product_V2020_88.json.gz\n"
     ]
    },
    {
     "name": "stderr",
     "output_type": "stream",
     "text": [
      "\r",
      " 71% (255 of 359) |###############       | Elapsed Time: 0:37:33 ETA:   0:13:10"
     ]
    },
    {
     "name": "stdout",
     "output_type": "stream",
     "text": [
      "/product_V2020_35.json.gz\n"
     ]
    },
    {
     "name": "stderr",
     "output_type": "stream",
     "text": [
      "\r",
      " 71% (256 of 359) |###############       | Elapsed Time: 0:37:41 ETA:   0:12:50"
     ]
    },
    {
     "name": "stdout",
     "output_type": "stream",
     "text": [
      "/product_V2020_294.json.gz\n"
     ]
    },
    {
     "name": "stderr",
     "output_type": "stream",
     "text": [
      "\r",
      " 71% (257 of 359) |###############       | Elapsed Time: 0:37:48 ETA:   0:12:48"
     ]
    },
    {
     "name": "stdout",
     "output_type": "stream",
     "text": [
      "/product_V2020_254.json.gz\n"
     ]
    },
    {
     "name": "stderr",
     "output_type": "stream",
     "text": [
      "\r",
      " 71% (258 of 359) |###############       | Elapsed Time: 0:38:05 ETA:   0:28:56"
     ]
    },
    {
     "name": "stdout",
     "output_type": "stream",
     "text": [
      "/product_V2020_274.json.gz\n"
     ]
    },
    {
     "name": "stderr",
     "output_type": "stream",
     "text": [
      "\r",
      " 72% (259 of 359) |###############       | Elapsed Time: 0:38:14 ETA:   0:13:45"
     ]
    },
    {
     "name": "stdout",
     "output_type": "stream",
     "text": [
      "/product_V2020_349.json.gz\n"
     ]
    },
    {
     "name": "stderr",
     "output_type": "stream",
     "text": [
      "\r",
      " 72% (260 of 359) |###############       | Elapsed Time: 0:38:30 ETA:   0:27:28"
     ]
    },
    {
     "name": "stdout",
     "output_type": "stream",
     "text": [
      "/product_V2020_225.json.gz\n"
     ]
    },
    {
     "name": "stderr",
     "output_type": "stream",
     "text": [
      "\r",
      " 72% (261 of 359) |###############       | Elapsed Time: 0:38:38 ETA:   0:12:14"
     ]
    },
    {
     "name": "stdout",
     "output_type": "stream",
     "text": [
      "/product_V2020_149.json.gz\n"
     ]
    },
    {
     "name": "stderr",
     "output_type": "stream",
     "text": [
      "\r",
      " 72% (262 of 359) |################      | Elapsed Time: 0:38:54 ETA:   0:26:37"
     ]
    },
    {
     "name": "stdout",
     "output_type": "stream",
     "text": [
      "/product_V2020_246.json.gz\n"
     ]
    },
    {
     "name": "stderr",
     "output_type": "stream",
     "text": [
      "\r",
      " 73% (263 of 359) |################      | Elapsed Time: 0:39:02 ETA:   0:12:00"
     ]
    },
    {
     "name": "stdout",
     "output_type": "stream",
     "text": [
      "/product_V2020_308.json.gz\n"
     ]
    },
    {
     "name": "stderr",
     "output_type": "stream",
     "text": [
      "\r",
      " 73% (264 of 359) |################      | Elapsed Time: 0:39:20 ETA:   0:29:09"
     ]
    },
    {
     "name": "stdout",
     "output_type": "stream",
     "text": [
      "/product_V2020_86.json.gz\n"
     ]
    },
    {
     "name": "stderr",
     "output_type": "stream",
     "text": [
      "\r",
      " 73% (265 of 359) |################      | Elapsed Time: 0:39:37 ETA:   0:25:49"
     ]
    },
    {
     "name": "stdout",
     "output_type": "stream",
     "text": [
      "/product_V2020_184.json.gz\n"
     ]
    },
    {
     "name": "stderr",
     "output_type": "stream",
     "text": [
      "\r",
      " 74% (266 of 359) |################      | Elapsed Time: 0:39:52 ETA:   0:24:20"
     ]
    },
    {
     "name": "stdout",
     "output_type": "stream",
     "text": [
      "/product_V2020_213.json.gz\n"
     ]
    },
    {
     "name": "stderr",
     "output_type": "stream",
     "text": [
      "\r",
      " 74% (267 of 359) |################      | Elapsed Time: 0:40:09 ETA:   0:25:11"
     ]
    },
    {
     "name": "stdout",
     "output_type": "stream",
     "text": [
      "/product_V2020_127.json.gz\n"
     ]
    },
    {
     "name": "stderr",
     "output_type": "stream",
     "text": [
      "\r",
      " 74% (268 of 359) |################      | Elapsed Time: 0:40:26 ETA:   0:25:55"
     ]
    },
    {
     "name": "stdout",
     "output_type": "stream",
     "text": [
      "/product_V2020_333.json.gz\n"
     ]
    },
    {
     "name": "stderr",
     "output_type": "stream",
     "text": [
      "\r",
      " 74% (269 of 359) |################      | Elapsed Time: 0:40:34 ETA:   0:12:23"
     ]
    },
    {
     "name": "stdout",
     "output_type": "stream",
     "text": [
      "/product_V2020_96.json.gz\n"
     ]
    },
    {
     "name": "stderr",
     "output_type": "stream",
     "text": [
      "\r",
      " 75% (270 of 359) |################      | Elapsed Time: 0:40:42 ETA:   0:11:22"
     ]
    },
    {
     "name": "stdout",
     "output_type": "stream",
     "text": [
      "/product_V2020_187.json.gz\n"
     ]
    },
    {
     "name": "stderr",
     "output_type": "stream",
     "text": [
      "\r",
      " 75% (271 of 359) |################      | Elapsed Time: 0:40:50 ETA:   0:11:17"
     ]
    },
    {
     "name": "stdout",
     "output_type": "stream",
     "text": [
      "/product_V2020_328.json.gz\n"
     ]
    },
    {
     "name": "stderr",
     "output_type": "stream",
     "text": [
      "\r",
      " 75% (272 of 359) |################      | Elapsed Time: 0:41:07 ETA:   0:24:54"
     ]
    },
    {
     "name": "stdout",
     "output_type": "stream",
     "text": [
      "/product_V2020_148.json.gz\n"
     ]
    },
    {
     "name": "stderr",
     "output_type": "stream",
     "text": [
      "\r",
      " 76% (273 of 359) |################      | Elapsed Time: 0:41:15 ETA:   0:12:18"
     ]
    },
    {
     "name": "stdout",
     "output_type": "stream",
     "text": [
      "/product_V2020_186.json.gz\n"
     ]
    },
    {
     "name": "stderr",
     "output_type": "stream",
     "text": [
      "\r",
      " 76% (274 of 359) |################      | Elapsed Time: 0:41:24 ETA:   0:12:17"
     ]
    },
    {
     "name": "stdout",
     "output_type": "stream",
     "text": [
      "/product_V2020_312.json.gz\n"
     ]
    },
    {
     "name": "stderr",
     "output_type": "stream",
     "text": [
      "\r",
      " 76% (275 of 359) |################      | Elapsed Time: 0:41:32 ETA:   0:11:28"
     ]
    },
    {
     "name": "stdout",
     "output_type": "stream",
     "text": [
      "/product_V2020_337.json.gz\n"
     ]
    },
    {
     "name": "stderr",
     "output_type": "stream",
     "text": [
      "\r",
      " 76% (276 of 359) |################      | Elapsed Time: 0:41:49 ETA:   0:23:26"
     ]
    },
    {
     "name": "stdout",
     "output_type": "stream",
     "text": [
      "/product_V2020_29.json.gz\n"
     ]
    },
    {
     "name": "stderr",
     "output_type": "stream",
     "text": [
      "\r",
      " 77% (277 of 359) |################      | Elapsed Time: 0:42:06 ETA:   0:22:54"
     ]
    },
    {
     "name": "stdout",
     "output_type": "stream",
     "text": [
      "/product_V2020_197.json.gz\n"
     ]
    },
    {
     "name": "stderr",
     "output_type": "stream",
     "text": [
      "\r",
      " 77% (278 of 359) |#################     | Elapsed Time: 0:42:14 ETA:   0:10:56"
     ]
    },
    {
     "name": "stdout",
     "output_type": "stream",
     "text": [
      "/product_V2020_136.json.gz\n"
     ]
    },
    {
     "name": "stderr",
     "output_type": "stream",
     "text": [
      "\r",
      " 77% (279 of 359) |#################     | Elapsed Time: 0:42:22 ETA:   0:11:18"
     ]
    },
    {
     "name": "stdout",
     "output_type": "stream",
     "text": [
      "/product_V2020_279.json.gz\n"
     ]
    },
    {
     "name": "stderr",
     "output_type": "stream",
     "text": [
      "\r",
      " 77% (280 of 359) |#################     | Elapsed Time: 0:42:39 ETA:   0:22:13"
     ]
    },
    {
     "name": "stdout",
     "output_type": "stream",
     "text": [
      "/product_V2020_62.json.gz\n"
     ]
    },
    {
     "name": "stderr",
     "output_type": "stream",
     "text": [
      "\r",
      " 78% (281 of 359) |#################     | Elapsed Time: 0:42:48 ETA:   0:10:50"
     ]
    },
    {
     "name": "stdout",
     "output_type": "stream",
     "text": [
      "/product_V2020_142.json.gz\n"
     ]
    },
    {
     "name": "stderr",
     "output_type": "stream",
     "text": [
      "\r",
      " 78% (282 of 359) |#################     | Elapsed Time: 0:42:55 ETA:   0:09:44"
     ]
    },
    {
     "name": "stdout",
     "output_type": "stream",
     "text": [
      "/product_V2020_210.json.gz\n"
     ]
    },
    {
     "name": "stderr",
     "output_type": "stream",
     "text": [
      "\r",
      " 78% (283 of 359) |#################     | Elapsed Time: 0:43:12 ETA:   0:21:35"
     ]
    },
    {
     "name": "stdout",
     "output_type": "stream",
     "text": [
      "/product_V2020_152.json.gz\n"
     ]
    },
    {
     "name": "stderr",
     "output_type": "stream",
     "text": [
      "\r",
      " 79% (284 of 359) |#################     | Elapsed Time: 0:43:30 ETA:   0:21:44"
     ]
    },
    {
     "name": "stdout",
     "output_type": "stream",
     "text": [
      "/product_V2020_114.json.gz\n"
     ]
    },
    {
     "name": "stderr",
     "output_type": "stream",
     "text": [
      "\r",
      " 79% (285 of 359) |#################     | Elapsed Time: 0:43:38 ETA:   0:09:41"
     ]
    },
    {
     "name": "stdout",
     "output_type": "stream",
     "text": [
      "/product_V2020_22.json.gz\n"
     ]
    },
    {
     "name": "stderr",
     "output_type": "stream",
     "text": [
      "\r",
      " 79% (286 of 359) |#################     | Elapsed Time: 0:43:54 ETA:   0:19:54"
     ]
    },
    {
     "name": "stdout",
     "output_type": "stream",
     "text": [
      "/product_V2020_218.json.gz\n"
     ]
    },
    {
     "name": "stderr",
     "output_type": "stream",
     "text": [
      "\r",
      " 79% (287 of 359) |#################     | Elapsed Time: 0:44:11 ETA:   0:20:19"
     ]
    },
    {
     "name": "stdout",
     "output_type": "stream",
     "text": [
      "/product_V2020_189.json.gz\n"
     ]
    },
    {
     "name": "stderr",
     "output_type": "stream",
     "text": [
      "\r",
      " 80% (288 of 359) |#################     | Elapsed Time: 0:44:29 ETA:   0:21:32"
     ]
    },
    {
     "name": "stdout",
     "output_type": "stream",
     "text": [
      "/product_V2020_222.json.gz\n"
     ]
    },
    {
     "name": "stderr",
     "output_type": "stream",
     "text": [
      "\r",
      " 80% (289 of 359) |#################     | Elapsed Time: 0:44:37 ETA:   0:09:06"
     ]
    },
    {
     "name": "stdout",
     "output_type": "stream",
     "text": [
      "/product_V2020_17.json.gz\n"
     ]
    },
    {
     "name": "stderr",
     "output_type": "stream",
     "text": [
      "\r",
      " 80% (290 of 359) |#################     | Elapsed Time: 0:44:45 ETA:   0:08:48"
     ]
    },
    {
     "name": "stdout",
     "output_type": "stream",
     "text": [
      "/product_V2020_309.json.gz\n"
     ]
    },
    {
     "name": "stderr",
     "output_type": "stream",
     "text": [
      "\r",
      " 81% (291 of 359) |#################     | Elapsed Time: 0:45:01 ETA:   0:19:00"
     ]
    },
    {
     "name": "stdout",
     "output_type": "stream",
     "text": [
      "/product_V2020_350.json.gz\n"
     ]
    },
    {
     "name": "stderr",
     "output_type": "stream",
     "text": [
      "\r",
      " 81% (292 of 359) |#################     | Elapsed Time: 0:45:14 ETA:   0:14:24"
     ]
    },
    {
     "name": "stdout",
     "output_type": "stream",
     "text": [
      "/product_V2020_172.json.gz\n"
     ]
    },
    {
     "name": "stderr",
     "output_type": "stream",
     "text": [
      "\r",
      " 81% (293 of 359) |#################     | Elapsed Time: 0:45:20 ETA:   0:06:54"
     ]
    },
    {
     "name": "stdout",
     "output_type": "stream",
     "text": [
      "/product_V2020_84.json.gz\n"
     ]
    },
    {
     "name": "stderr",
     "output_type": "stream",
     "text": [
      "\r",
      " 81% (294 of 359) |##################    | Elapsed Time: 0:45:26 ETA:   0:06:23"
     ]
    },
    {
     "name": "stdout",
     "output_type": "stream",
     "text": [
      "/product_V2020_174.json.gz\n"
     ]
    },
    {
     "name": "stderr",
     "output_type": "stream",
     "text": [
      "\r",
      " 82% (295 of 359) |##################    | Elapsed Time: 0:45:33 ETA:   0:07:16"
     ]
    },
    {
     "name": "stdout",
     "output_type": "stream",
     "text": [
      "/product_V2020_288.json.gz\n"
     ]
    },
    {
     "name": "stderr",
     "output_type": "stream",
     "text": [
      "\r",
      " 82% (296 of 359) |##################    | Elapsed Time: 0:45:39 ETA:   0:06:28"
     ]
    },
    {
     "name": "stdout",
     "output_type": "stream",
     "text": [
      "/product_V2020_325.json.gz\n"
     ]
    },
    {
     "name": "stderr",
     "output_type": "stream",
     "text": [
      "\r",
      " 82% (297 of 359) |##################    | Elapsed Time: 0:45:47 ETA:   0:07:57"
     ]
    },
    {
     "name": "stdout",
     "output_type": "stream",
     "text": [
      "/product_V2020_304.json.gz\n"
     ]
    },
    {
     "name": "stderr",
     "output_type": "stream",
     "text": [
      "\r",
      " 83% (298 of 359) |##################    | Elapsed Time: 0:46:04 ETA:   0:17:40"
     ]
    },
    {
     "name": "stdout",
     "output_type": "stream",
     "text": [
      "/product_V2020_257.json.gz\n"
     ]
    },
    {
     "name": "stderr",
     "output_type": "stream",
     "text": [
      "\r",
      " 83% (299 of 359) |##################    | Elapsed Time: 0:46:22 ETA:   0:17:32"
     ]
    },
    {
     "name": "stdout",
     "output_type": "stream",
     "text": [
      "/product_V2020_344.json.gz\n"
     ]
    },
    {
     "name": "stderr",
     "output_type": "stream",
     "text": [
      "\r",
      " 83% (300 of 359) |##################    | Elapsed Time: 0:46:38 ETA:   0:15:59"
     ]
    },
    {
     "name": "stdout",
     "output_type": "stream",
     "text": [
      "/product_V2020_141.json.gz\n"
     ]
    },
    {
     "name": "stderr",
     "output_type": "stream",
     "text": [
      "\r",
      " 83% (301 of 359) |##################    | Elapsed Time: 0:46:55 ETA:   0:16:02"
     ]
    },
    {
     "name": "stdout",
     "output_type": "stream",
     "text": [
      "/product_V2020_219.json.gz\n"
     ]
    },
    {
     "name": "stderr",
     "output_type": "stream",
     "text": [
      "\r",
      " 84% (302 of 359) |##################    | Elapsed Time: 0:47:11 ETA:   0:15:21"
     ]
    },
    {
     "name": "stdout",
     "output_type": "stream",
     "text": [
      "/product_V2020_303.json.gz\n"
     ]
    },
    {
     "name": "stderr",
     "output_type": "stream",
     "text": [
      "\r",
      " 84% (303 of 359) |##################    | Elapsed Time: 0:47:24 ETA:   0:11:46"
     ]
    },
    {
     "name": "stdout",
     "output_type": "stream",
     "text": [
      "/product_V2020_253.json.gz\n"
     ]
    },
    {
     "name": "stderr",
     "output_type": "stream",
     "text": [
      "\r",
      " 84% (304 of 359) |##################    | Elapsed Time: 0:47:29 ETA:   0:05:18"
     ]
    },
    {
     "name": "stdout",
     "output_type": "stream",
     "text": [
      "/product_V2020_52.json.gz\n"
     ]
    },
    {
     "name": "stderr",
     "output_type": "stream",
     "text": [
      "\r",
      " 84% (305 of 359) |##################    | Elapsed Time: 0:47:35 ETA:   0:05:08"
     ]
    },
    {
     "name": "stdout",
     "output_type": "stream",
     "text": [
      "/product_V2020_216.json.gz\n"
     ]
    },
    {
     "name": "stderr",
     "output_type": "stream",
     "text": [
      "\r",
      " 85% (306 of 359) |##################    | Elapsed Time: 0:47:48 ETA:   0:11:04"
     ]
    },
    {
     "name": "stdout",
     "output_type": "stream",
     "text": [
      "/product_V2020_158.json.gz\n"
     ]
    },
    {
     "name": "stderr",
     "output_type": "stream",
     "text": [
      "\r",
      " 85% (307 of 359) |##################    | Elapsed Time: 0:47:54 ETA:   0:05:09"
     ]
    },
    {
     "name": "stdout",
     "output_type": "stream",
     "text": [
      "/product_V2020_5.json.gz\n"
     ]
    },
    {
     "name": "stderr",
     "output_type": "stream",
     "text": [
      "\r",
      " 85% (308 of 359) |##################    | Elapsed Time: 0:48:00 ETA:   0:05:32"
     ]
    },
    {
     "name": "stdout",
     "output_type": "stream",
     "text": [
      "/product_V2020_345.json.gz\n"
     ]
    },
    {
     "name": "stderr",
     "output_type": "stream",
     "text": [
      "\r",
      " 86% (309 of 359) |##################    | Elapsed Time: 0:48:13 ETA:   0:11:05"
     ]
    },
    {
     "name": "stdout",
     "output_type": "stream",
     "text": [
      "/product_V2020_183.json.gz\n"
     ]
    },
    {
     "name": "stderr",
     "output_type": "stream",
     "text": [
      "\r",
      " 86% (310 of 359) |##################    | Elapsed Time: 0:48:26 ETA:   0:09:55"
     ]
    },
    {
     "name": "stdout",
     "output_type": "stream",
     "text": [
      "/product_V2020_278.json.gz\n"
     ]
    },
    {
     "name": "stderr",
     "output_type": "stream",
     "text": [
      "\r",
      " 86% (311 of 359) |###################   | Elapsed Time: 0:48:38 ETA:   0:09:42"
     ]
    },
    {
     "name": "stdout",
     "output_type": "stream",
     "text": [
      "/product_V2020_272.json.gz\n"
     ]
    },
    {
     "name": "stderr",
     "output_type": "stream",
     "text": [
      "\r",
      " 86% (312 of 359) |###################   | Elapsed Time: 0:48:44 ETA:   0:05:01"
     ]
    },
    {
     "name": "stdout",
     "output_type": "stream",
     "text": [
      "/product_V2020_348.json.gz\n"
     ]
    },
    {
     "name": "stderr",
     "output_type": "stream",
     "text": [
      "\r",
      " 87% (313 of 359) |###################   | Elapsed Time: 0:48:57 ETA:   0:09:49"
     ]
    },
    {
     "name": "stdout",
     "output_type": "stream",
     "text": [
      "/product_V2020_268.json.gz\n"
     ]
    },
    {
     "name": "stderr",
     "output_type": "stream",
     "text": [
      "\r",
      " 87% (314 of 359) |###################   | Elapsed Time: 0:49:10 ETA:   0:09:50"
     ]
    },
    {
     "name": "stdout",
     "output_type": "stream",
     "text": [
      "/product_V2020_310.json.gz\n"
     ]
    },
    {
     "name": "stderr",
     "output_type": "stream",
     "text": [
      "\r",
      " 87% (315 of 359) |###################   | Elapsed Time: 0:49:16 ETA:   0:04:18"
     ]
    },
    {
     "name": "stdout",
     "output_type": "stream",
     "text": [
      "/product_V2020_150.json.gz\n"
     ]
    },
    {
     "name": "stderr",
     "output_type": "stream",
     "text": [
      "\r",
      " 88% (316 of 359) |###################   | Elapsed Time: 0:49:22 ETA:   0:04:09"
     ]
    },
    {
     "name": "stdout",
     "output_type": "stream",
     "text": [
      "/product_V2020_198.json.gz\n"
     ]
    },
    {
     "name": "stderr",
     "output_type": "stream",
     "text": [
      "\r",
      " 88% (317 of 359) |###################   | Elapsed Time: 0:49:34 ETA:   0:08:29"
     ]
    },
    {
     "name": "stdout",
     "output_type": "stream",
     "text": [
      "/product_V2020_305.json.gz\n"
     ]
    },
    {
     "name": "stderr",
     "output_type": "stream",
     "text": [
      "\r",
      " 88% (318 of 359) |###################   | Elapsed Time: 0:49:40 ETA:   0:03:56"
     ]
    },
    {
     "name": "stdout",
     "output_type": "stream",
     "text": [
      "/product_V2020_194.json.gz\n"
     ]
    },
    {
     "name": "stderr",
     "output_type": "stream",
     "text": [
      "\r",
      " 88% (319 of 359) |###################   | Elapsed Time: 0:49:45 ETA:   0:03:51"
     ]
    },
    {
     "name": "stdout",
     "output_type": "stream",
     "text": [
      "/product_V2020_321.json.gz\n"
     ]
    },
    {
     "name": "stderr",
     "output_type": "stream",
     "text": [
      "\r",
      " 89% (320 of 359) |###################   | Elapsed Time: 0:49:51 ETA:   0:03:40"
     ]
    },
    {
     "name": "stdout",
     "output_type": "stream",
     "text": [
      "/product_V2020_167.json.gz\n"
     ]
    },
    {
     "name": "stderr",
     "output_type": "stream",
     "text": [
      "\r",
      " 89% (321 of 359) |###################   | Elapsed Time: 0:49:57 ETA:   0:03:36"
     ]
    },
    {
     "name": "stdout",
     "output_type": "stream",
     "text": [
      "/product_V2020_21.json.gz\n"
     ]
    },
    {
     "name": "stderr",
     "output_type": "stream",
     "text": [
      "\r",
      " 89% (322 of 359) |###################   | Elapsed Time: 0:50:03 ETA:   0:03:41"
     ]
    },
    {
     "name": "stdout",
     "output_type": "stream",
     "text": [
      "/product_V2020_91.json.gz\n"
     ]
    },
    {
     "name": "stderr",
     "output_type": "stream",
     "text": [
      "\r",
      " 89% (323 of 359) |###################   | Elapsed Time: 0:50:09 ETA:   0:03:52"
     ]
    },
    {
     "name": "stdout",
     "output_type": "stream",
     "text": [
      "/product_V2020_43.json.gz\n"
     ]
    },
    {
     "name": "stderr",
     "output_type": "stream",
     "text": [
      "\r",
      " 90% (324 of 359) |###################   | Elapsed Time: 0:50:15 ETA:   0:03:26"
     ]
    },
    {
     "name": "stdout",
     "output_type": "stream",
     "text": [
      "/product_V2020_260.json.gz\n"
     ]
    },
    {
     "name": "stderr",
     "output_type": "stream",
     "text": [
      "\r",
      " 90% (325 of 359) |###################   | Elapsed Time: 0:50:21 ETA:   0:03:21"
     ]
    },
    {
     "name": "stdout",
     "output_type": "stream",
     "text": [
      "/product_V2020_241.json.gz\n"
     ]
    },
    {
     "name": "stderr",
     "output_type": "stream",
     "text": [
      "\r",
      " 90% (326 of 359) |###################   | Elapsed Time: 0:50:35 ETA:   0:07:29"
     ]
    },
    {
     "name": "stdout",
     "output_type": "stream",
     "text": [
      "/product_V2020_302.json.gz\n"
     ]
    },
    {
     "name": "stderr",
     "output_type": "stream",
     "text": [
      "\r",
      " 91% (327 of 359) |####################  | Elapsed Time: 0:50:40 ETA:   0:02:59"
     ]
    },
    {
     "name": "stdout",
     "output_type": "stream",
     "text": [
      "/product_V2020_209.json.gz\n"
     ]
    },
    {
     "name": "stderr",
     "output_type": "stream",
     "text": [
      "\r",
      " 91% (328 of 359) |####################  | Elapsed Time: 0:50:52 ETA:   0:06:18"
     ]
    },
    {
     "name": "stdout",
     "output_type": "stream",
     "text": [
      "/product_V2020_44.json.gz\n"
     ]
    },
    {
     "name": "stderr",
     "output_type": "stream",
     "text": [
      "\r",
      " 91% (329 of 359) |####################  | Elapsed Time: 0:51:05 ETA:   0:06:17"
     ]
    },
    {
     "name": "stdout",
     "output_type": "stream",
     "text": [
      "/product_V2020_80.json.gz\n"
     ]
    },
    {
     "name": "stderr",
     "output_type": "stream",
     "text": [
      "\r",
      " 91% (330 of 359) |####################  | Elapsed Time: 0:51:11 ETA:   0:02:57"
     ]
    },
    {
     "name": "stdout",
     "output_type": "stream",
     "text": [
      "/product_V2020_307.json.gz\n"
     ]
    },
    {
     "name": "stderr",
     "output_type": "stream",
     "text": [
      "\r",
      " 92% (331 of 359) |####################  | Elapsed Time: 0:51:23 ETA:   0:05:39"
     ]
    },
    {
     "name": "stdout",
     "output_type": "stream",
     "text": [
      "/product_V2020_113.json.gz\n"
     ]
    },
    {
     "name": "stderr",
     "output_type": "stream",
     "text": [
      "\r",
      " 92% (332 of 359) |####################  | Elapsed Time: 0:51:29 ETA:   0:02:33"
     ]
    },
    {
     "name": "stdout",
     "output_type": "stream",
     "text": [
      "/product_V2020_322.json.gz\n"
     ]
    },
    {
     "name": "stderr",
     "output_type": "stream",
     "text": [
      "\r",
      " 92% (333 of 359) |####################  | Elapsed Time: 0:51:41 ETA:   0:05:20"
     ]
    },
    {
     "name": "stdout",
     "output_type": "stream",
     "text": [
      "/product_V2020_3.json.gz\n"
     ]
    },
    {
     "name": "stderr",
     "output_type": "stream",
     "text": [
      "\r",
      " 93% (334 of 359) |####################  | Elapsed Time: 0:51:53 ETA:   0:04:56"
     ]
    },
    {
     "name": "stdout",
     "output_type": "stream",
     "text": [
      "/product_V2020_236.json.gz\n"
     ]
    },
    {
     "name": "stderr",
     "output_type": "stream",
     "text": [
      "\r",
      " 93% (335 of 359) |####################  | Elapsed Time: 0:52:06 ETA:   0:05:00"
     ]
    },
    {
     "name": "stdout",
     "output_type": "stream",
     "text": [
      "/product_V2020_160.json.gz\n"
     ]
    },
    {
     "name": "stderr",
     "output_type": "stream",
     "text": [
      "\r",
      " 93% (336 of 359) |####################  | Elapsed Time: 0:52:12 ETA:   0:02:23"
     ]
    },
    {
     "name": "stdout",
     "output_type": "stream",
     "text": [
      "/product_V2020_74.json.gz\n"
     ]
    },
    {
     "name": "stderr",
     "output_type": "stream",
     "text": [
      "\r",
      " 93% (337 of 359) |####################  | Elapsed Time: 0:52:18 ETA:   0:02:05"
     ]
    },
    {
     "name": "stdout",
     "output_type": "stream",
     "text": [
      "/product_V2020_295.json.gz\n"
     ]
    },
    {
     "name": "stderr",
     "output_type": "stream",
     "text": [
      "\r",
      " 94% (338 of 359) |####################  | Elapsed Time: 0:52:23 ETA:   0:02:03"
     ]
    },
    {
     "name": "stdout",
     "output_type": "stream",
     "text": [
      "/product_V2020_47.json.gz\n"
     ]
    },
    {
     "name": "stderr",
     "output_type": "stream",
     "text": [
      "\r",
      " 94% (339 of 359) |####################  | Elapsed Time: 0:52:36 ETA:   0:04:11"
     ]
    },
    {
     "name": "stdout",
     "output_type": "stream",
     "text": [
      "/product_V2020_18.json.gz\n"
     ]
    },
    {
     "name": "stderr",
     "output_type": "stream",
     "text": [
      "\r",
      " 94% (340 of 359) |####################  | Elapsed Time: 0:52:48 ETA:   0:03:45"
     ]
    },
    {
     "name": "stdout",
     "output_type": "stream",
     "text": [
      "/product_V2020_24.json.gz\n"
     ]
    },
    {
     "name": "stderr",
     "output_type": "stream",
     "text": [
      "\r",
      " 94% (341 of 359) |####################  | Elapsed Time: 0:53:00 ETA:   0:03:37"
     ]
    },
    {
     "name": "stdout",
     "output_type": "stream",
     "text": [
      "/product_V2020_123.json.gz\n"
     ]
    },
    {
     "name": "stderr",
     "output_type": "stream",
     "text": [
      "\r",
      " 95% (342 of 359) |####################  | Elapsed Time: 0:53:14 ETA:   0:03:49"
     ]
    },
    {
     "name": "stdout",
     "output_type": "stream",
     "text": [
      "/product_V2020_68.json.gz\n"
     ]
    },
    {
     "name": "stderr",
     "output_type": "stream",
     "text": [
      "\r",
      " 95% (343 of 359) |##################### | Elapsed Time: 0:53:25 ETA:   0:03:09"
     ]
    },
    {
     "name": "stdout",
     "output_type": "stream",
     "text": [
      "/product_V2020_161.json.gz\n"
     ]
    },
    {
     "name": "stderr",
     "output_type": "stream",
     "text": [
      "\r",
      " 95% (344 of 359) |##################### | Elapsed Time: 0:53:31 ETA:   0:01:26"
     ]
    },
    {
     "name": "stdout",
     "output_type": "stream",
     "text": [
      "/product_V2020_176.json.gz\n"
     ]
    },
    {
     "name": "stderr",
     "output_type": "stream",
     "text": [
      "\r",
      " 96% (345 of 359) |##################### | Elapsed Time: 0:53:37 ETA:   0:01:20"
     ]
    },
    {
     "name": "stdout",
     "output_type": "stream",
     "text": [
      "/product_V2020_314.json.gz\n"
     ]
    },
    {
     "name": "stderr",
     "output_type": "stream",
     "text": [
      "\r",
      " 96% (346 of 359) |##################### | Elapsed Time: 0:53:49 ETA:   0:02:39"
     ]
    },
    {
     "name": "stdout",
     "output_type": "stream",
     "text": [
      "/product_V2020_144.json.gz\n"
     ]
    },
    {
     "name": "stderr",
     "output_type": "stream",
     "text": [
      "\r",
      " 96% (347 of 359) |##################### | Elapsed Time: 0:54:01 ETA:   0:02:26"
     ]
    },
    {
     "name": "stdout",
     "output_type": "stream",
     "text": [
      "/product_V2020_190.json.gz\n"
     ]
    },
    {
     "name": "stderr",
     "output_type": "stream",
     "text": [
      "\r",
      " 96% (348 of 359) |##################### | Elapsed Time: 0:54:07 ETA:   0:01:04"
     ]
    },
    {
     "name": "stdout",
     "output_type": "stream",
     "text": [
      "/product_V2020_221.json.gz\n"
     ]
    },
    {
     "name": "stderr",
     "output_type": "stream",
     "text": [
      "\r",
      " 97% (349 of 359) |##################### | Elapsed Time: 0:54:14 ETA:   0:01:04"
     ]
    },
    {
     "name": "stdout",
     "output_type": "stream",
     "text": [
      "/product_V2020_238.json.gz\n"
     ]
    },
    {
     "name": "stderr",
     "output_type": "stream",
     "text": [
      "\r",
      " 97% (350 of 359) |##################### | Elapsed Time: 0:54:19 ETA:   0:00:51"
     ]
    },
    {
     "name": "stdout",
     "output_type": "stream",
     "text": [
      "/product_V2020_81.json.gz\n"
     ]
    },
    {
     "name": "stderr",
     "output_type": "stream",
     "text": [
      "\r",
      " 97% (351 of 359) |##################### | Elapsed Time: 0:54:25 ETA:   0:00:45"
     ]
    },
    {
     "name": "stdout",
     "output_type": "stream",
     "text": [
      "/product_V2020_182.json.gz\n"
     ]
    },
    {
     "name": "stderr",
     "output_type": "stream",
     "text": [
      "\r",
      " 98% (352 of 359) |##################### | Elapsed Time: 0:54:37 ETA:   0:01:25"
     ]
    },
    {
     "name": "stdout",
     "output_type": "stream",
     "text": [
      "/product_V2020_153.json.gz\n"
     ]
    },
    {
     "name": "stderr",
     "output_type": "stream",
     "text": [
      "\r",
      " 98% (353 of 359) |##################### | Elapsed Time: 0:54:49 ETA:   0:01:11"
     ]
    },
    {
     "name": "stdout",
     "output_type": "stream",
     "text": [
      "/product_V2020_10.json.gz\n"
     ]
    },
    {
     "name": "stderr",
     "output_type": "stream",
     "text": [
      "\r",
      " 98% (354 of 359) |##################### | Elapsed Time: 0:54:55 ETA:   0:00:28"
     ]
    },
    {
     "name": "stdout",
     "output_type": "stream",
     "text": [
      "/product_V2020_229.json.gz\n"
     ]
    },
    {
     "name": "stderr",
     "output_type": "stream",
     "text": [
      "\r",
      " 98% (355 of 359) |##################### | Elapsed Time: 0:55:01 ETA:   0:00:23"
     ]
    },
    {
     "name": "stdout",
     "output_type": "stream",
     "text": [
      "/product_V2020_320.json.gz\n"
     ]
    },
    {
     "name": "stderr",
     "output_type": "stream",
     "text": [
      "\r",
      " 99% (356 of 359) |##################### | Elapsed Time: 0:55:07 ETA:   0:00:17"
     ]
    },
    {
     "name": "stdout",
     "output_type": "stream",
     "text": [
      "/product_V2020_115.json.gz\n"
     ]
    },
    {
     "name": "stderr",
     "output_type": "stream",
     "text": [
      "\r",
      " 99% (357 of 359) |##################### | Elapsed Time: 0:55:13 ETA:   0:00:13"
     ]
    },
    {
     "name": "stdout",
     "output_type": "stream",
     "text": [
      "/product_V2020_202.json.gz\n"
     ]
    },
    {
     "name": "stderr",
     "output_type": "stream",
     "text": [
      "\r",
      " 99% (358 of 359) |##################### | Elapsed Time: 0:55:19 ETA:   0:00:05"
     ]
    },
    {
     "name": "stdout",
     "output_type": "stream",
     "text": [
      "/product_V2020_200.json.gz\n"
     ]
    },
    {
     "name": "stderr",
     "output_type": "stream",
     "text": [
      "100% (359 of 359) |######################| Elapsed Time: 0:55:25 Time:  0:55:25\n"
     ]
    }
   ],
   "source": [
    "zip_files_mapping = [file for file in os.listdir(mapping_corpus_path_all) if file.endswith('.json.gz')]\n",
    "# use the cleaned tables to append into a series and the get a dataframe from that with the remaining cluster ids\n",
    "count = 0\n",
    "data=[]\n",
    "with progressbar.ProgressBar(max_value=len(zip_files_mapping)) as bar:\n",
    "    for zip_file in zip_files_mapping:\n",
    "        print('/{}'.format(zip_file))\n",
    "        df = pd.read_json(mapping_corpus_path_all + '/{}'.format(zip_file), compression='gzip', lines=True)\n",
    "        data.append(df)\n",
    "        count += 1\n",
    "        bar.update(count)\n",
    "df_large_all= pd.concat(data, ignore_index=True)"
   ]
  },
  {
   "cell_type": "code",
   "execution_count": 17,
   "metadata": {
    "scrolled": true
   },
   "outputs": [
    {
     "data": {
      "text/html": [
       "<div>\n",
       "<style scoped>\n",
       "    .dataframe tbody tr th:only-of-type {\n",
       "        vertical-align: middle;\n",
       "    }\n",
       "\n",
       "    .dataframe tbody tr th {\n",
       "        vertical-align: top;\n",
       "    }\n",
       "\n",
       "    .dataframe thead th {\n",
       "        text-align: right;\n",
       "    }\n",
       "</style>\n",
       "<table border=\"1\" class=\"dataframe\">\n",
       "  <thead>\n",
       "    <tr style=\"text-align: right;\">\n",
       "      <th></th>\n",
       "      <th>cluster_id</th>\n",
       "      <th>url</th>\n",
       "      <th>gtin14</th>\n",
       "      <th>sku</th>\n",
       "      <th>name</th>\n",
       "      <th>description</th>\n",
       "      <th>price</th>\n",
       "      <th>priceCurrency</th>\n",
       "      <th>nodeId</th>\n",
       "      <th>brand</th>\n",
       "      <th>gtin13</th>\n",
       "      <th>mpn</th>\n",
       "      <th>productID</th>\n",
       "      <th>manufacturer</th>\n",
       "      <th>gtin</th>\n",
       "      <th>identifier</th>\n",
       "      <th>gtin8</th>\n",
       "      <th>title</th>\n",
       "      <th>gtin12</th>\n",
       "    </tr>\n",
       "  </thead>\n",
       "  <tbody>\n",
       "    <tr>\n",
       "      <th>0</th>\n",
       "      <td>3333680</td>\n",
       "      <td>https://www.tomjoule.de/M%C3%A4dchen/Bekleidun...</td>\n",
       "      <td>5057909836884</td>\n",
       "      <td>209470NVYUNICORN</td>\n",
       "      <td>Lexy Lustig designter Rock, 1-12 Jahre</td>\n",
       "      <td>Ihre Kleine wird die Applikationen, die rundhe...</td>\n",
       "      <td>42.95</td>\n",
       "      <td>EUR</td>\n",
       "      <td>_:node1eq7bc9nqx25330388</td>\n",
       "      <td>None</td>\n",
       "      <td>None</td>\n",
       "      <td>None</td>\n",
       "      <td>None</td>\n",
       "      <td>None</td>\n",
       "      <td>None</td>\n",
       "      <td>None</td>\n",
       "      <td>None</td>\n",
       "      <td>None</td>\n",
       "      <td>None</td>\n",
       "    </tr>\n",
       "    <tr>\n",
       "      <th>1</th>\n",
       "      <td>31634631</td>\n",
       "      <td>https://www.toms-car-hifi.de/zubehoer/car-hifi...</td>\n",
       "      <td>None</td>\n",
       "      <td>340001_acv</td>\n",
       "      <td>ACV - Stossverbinder</td>\n",
       "      <td>ACV-Nr.: 340001StossverbinderKabelstärke: 0,5 ...</td>\n",
       "      <td>4.99</td>\n",
       "      <td>EUR</td>\n",
       "      <td>_:node1eq7bc9nqx25330619</td>\n",
       "      <td>ACV</td>\n",
       "      <td>None</td>\n",
       "      <td>None</td>\n",
       "      <td>None</td>\n",
       "      <td>None</td>\n",
       "      <td>None</td>\n",
       "      <td>None</td>\n",
       "      <td>None</td>\n",
       "      <td>None</td>\n",
       "      <td>None</td>\n",
       "    </tr>\n",
       "    <tr>\n",
       "      <th>2</th>\n",
       "      <td>42406505</td>\n",
       "      <td>https://www.tonaexpert.cz/vyprodej/klic-ockopl...</td>\n",
       "      <td>None</td>\n",
       "      <td>None</td>\n",
       "      <td>Klíč očkoplochý prodloužený 23mm Tona Expert E...</td>\n",
       "      <td>Klíč očkoplochý prodloužený 23mm Tona Expert E...</td>\n",
       "      <td>190.00</td>\n",
       "      <td>CZK</td>\n",
       "      <td>_:node1eq43n5l0x88855842</td>\n",
       "      <td>None</td>\n",
       "      <td>3258951177037</td>\n",
       "      <td>None</td>\n",
       "      <td>None</td>\n",
       "      <td>None</td>\n",
       "      <td>None</td>\n",
       "      <td>None</td>\n",
       "      <td>None</td>\n",
       "      <td>None</td>\n",
       "      <td>None</td>\n",
       "    </tr>\n",
       "    <tr>\n",
       "      <th>3</th>\n",
       "      <td>42362590</td>\n",
       "      <td>https://www.tool.com/wall-cutter-machine-12-inch</td>\n",
       "      <td>None</td>\n",
       "      <td>T-WCM-300A</td>\n",
       "      <td>Hand Control Wall Cutter Machine, 12 inch, 6150W</td>\n",
       "      <td>Competitive price hand control cutter machine ...</td>\n",
       "      <td>1728.46</td>\n",
       "      <td>USD</td>\n",
       "      <td>_:node1eq7vcriax9798783</td>\n",
       "      <td>None</td>\n",
       "      <td>None</td>\n",
       "      <td>None</td>\n",
       "      <td>None</td>\n",
       "      <td>None</td>\n",
       "      <td>None</td>\n",
       "      <td>None</td>\n",
       "      <td>None</td>\n",
       "      <td>None</td>\n",
       "      <td>None</td>\n",
       "    </tr>\n",
       "    <tr>\n",
       "      <th>4</th>\n",
       "      <td>3041730</td>\n",
       "      <td>https://www.toolteam24.com/de-DE/villeroy-boch...</td>\n",
       "      <td>None</td>\n",
       "      <td>4047289974192-209</td>\n",
       "      <td>Villeroy &amp; Boch AWT Loop &amp; Friends 515400 585x...</td>\n",
       "      <td>Ware für Anwender aus Handwerk und Industrie: ...</td>\n",
       "      <td>419.9</td>\n",
       "      <td>EUR</td>\n",
       "      <td>_:node1eq57lgrfx32500456</td>\n",
       "      <td>Villeroy &amp; Boch AG</td>\n",
       "      <td>4047289974192</td>\n",
       "      <td>None</td>\n",
       "      <td>None</td>\n",
       "      <td>None</td>\n",
       "      <td>None</td>\n",
       "      <td>None</td>\n",
       "      <td>None</td>\n",
       "      <td>None</td>\n",
       "      <td>None</td>\n",
       "    </tr>\n",
       "    <tr>\n",
       "      <th>...</th>\n",
       "      <td>...</td>\n",
       "      <td>...</td>\n",
       "      <td>...</td>\n",
       "      <td>...</td>\n",
       "      <td>...</td>\n",
       "      <td>...</td>\n",
       "      <td>...</td>\n",
       "      <td>...</td>\n",
       "      <td>...</td>\n",
       "      <td>...</td>\n",
       "      <td>...</td>\n",
       "      <td>...</td>\n",
       "      <td>...</td>\n",
       "      <td>...</td>\n",
       "      <td>...</td>\n",
       "      <td>...</td>\n",
       "      <td>...</td>\n",
       "      <td>...</td>\n",
       "      <td>...</td>\n",
       "    </tr>\n",
       "    <tr>\n",
       "      <th>98900643</th>\n",
       "      <td>55887318</td>\n",
       "      <td>https://www.kogan.com/au/buy/pertemba-canvas-m...</td>\n",
       "      <td>None</td>\n",
       "      <td>None</td>\n",
       "      <td>Canvas Mens 3/4 Sleeve Baseball T-Shirt (Black...</td>\n",
       "      <td>Due to the current COVID-19 situation, delays ...</td>\n",
       "      <td>27.24</td>\n",
       "      <td>AUD</td>\n",
       "      <td>_:node1eq4pn1h2x65213194</td>\n",
       "      <td>None</td>\n",
       "      <td>5057080846702</td>\n",
       "      <td>None</td>\n",
       "      <td>None</td>\n",
       "      <td>None</td>\n",
       "      <td>None</td>\n",
       "      <td>None</td>\n",
       "      <td>None</td>\n",
       "      <td>None</td>\n",
       "      <td>None</td>\n",
       "    </tr>\n",
       "    <tr>\n",
       "      <th>98900644</th>\n",
       "      <td>56749010</td>\n",
       "      <td>https://www.komercinis.lt/virtuves-baldai/vitr...</td>\n",
       "      <td>None</td>\n",
       "      <td>jur-berg-7</td>\n",
       "      <td>Pakabinama vitrina Berg 7</td>\n",
       "      <td>None</td>\n",
       "      <td>78.53</td>\n",
       "      <td>EUR</td>\n",
       "      <td>_:node1eq4ple1nx20936531</td>\n",
       "      <td>None</td>\n",
       "      <td>None</td>\n",
       "      <td>None</td>\n",
       "      <td>None</td>\n",
       "      <td>None</td>\n",
       "      <td>None</td>\n",
       "      <td>None</td>\n",
       "      <td>None</td>\n",
       "      <td>None</td>\n",
       "      <td>None</td>\n",
       "    </tr>\n",
       "    <tr>\n",
       "      <th>98900645</th>\n",
       "      <td>64611111</td>\n",
       "      <td>https://www.korsholm.dk/grizzly-zonker-strips-...</td>\n",
       "      <td>None</td>\n",
       "      <td>Varenr.: 8529945</td>\n",
       "      <td>Grizzly Zonker strips grå</td>\n",
       "      <td>None</td>\n",
       "      <td>20</td>\n",
       "      <td>DKK</td>\n",
       "      <td>_:node1eqcfes93x26192273</td>\n",
       "      <td>None</td>\n",
       "      <td>None</td>\n",
       "      <td>None</td>\n",
       "      <td>None</td>\n",
       "      <td>None</td>\n",
       "      <td>None</td>\n",
       "      <td>None</td>\n",
       "      <td>None</td>\n",
       "      <td>None</td>\n",
       "      <td>None</td>\n",
       "    </tr>\n",
       "    <tr>\n",
       "      <th>98900646</th>\n",
       "      <td>42270249</td>\n",
       "      <td>https://www.kovovybaveni.cz/p/elektromerovy-ro...</td>\n",
       "      <td>None</td>\n",
       "      <td>None</td>\n",
       "      <td>Elektroměrový rozváděč Aspera REV 10</td>\n",
       "      <td>Oceloplechový elektroměrový rozváděč. Více</td>\n",
       "      <td>None</td>\n",
       "      <td>None</td>\n",
       "      <td>_:node1eqcfes93x26194245</td>\n",
       "      <td>None</td>\n",
       "      <td>None</td>\n",
       "      <td>None</td>\n",
       "      <td>ASV.REV10</td>\n",
       "      <td>None</td>\n",
       "      <td>None</td>\n",
       "      <td>None</td>\n",
       "      <td>None</td>\n",
       "      <td>None</td>\n",
       "      <td>None</td>\n",
       "    </tr>\n",
       "    <tr>\n",
       "      <th>98900647</th>\n",
       "      <td>49420896</td>\n",
       "      <td>https://www.kpodj.com/chauvet-pro-maverick-mk2...</td>\n",
       "      <td>None</td>\n",
       "      <td>None</td>\n",
       "      <td>Chauvet Pro Maverick MK2 Spot/Profile and MK1 ...</td>\n",
       "      <td>Maverick MK2 Spot/Profile and MK1 Spot/Hybrid ...</td>\n",
       "      <td>1264.99</td>\n",
       "      <td>USD</td>\n",
       "      <td>_:node1eq4vfg32x116471450</td>\n",
       "      <td>None</td>\n",
       "      <td>None</td>\n",
       "      <td>791462217556</td>\n",
       "      <td>None</td>\n",
       "      <td>None</td>\n",
       "      <td>None</td>\n",
       "      <td>None</td>\n",
       "      <td>None</td>\n",
       "      <td>None</td>\n",
       "      <td>None</td>\n",
       "    </tr>\n",
       "  </tbody>\n",
       "</table>\n",
       "<p>98900648 rows × 19 columns</p>\n",
       "</div>"
      ],
      "text/plain": [
       "          cluster_id                                                url  \\\n",
       "0            3333680  https://www.tomjoule.de/M%C3%A4dchen/Bekleidun...   \n",
       "1           31634631  https://www.toms-car-hifi.de/zubehoer/car-hifi...   \n",
       "2           42406505  https://www.tonaexpert.cz/vyprodej/klic-ockopl...   \n",
       "3           42362590   https://www.tool.com/wall-cutter-machine-12-inch   \n",
       "4            3041730  https://www.toolteam24.com/de-DE/villeroy-boch...   \n",
       "...              ...                                                ...   \n",
       "98900643    55887318  https://www.kogan.com/au/buy/pertemba-canvas-m...   \n",
       "98900644    56749010  https://www.komercinis.lt/virtuves-baldai/vitr...   \n",
       "98900645    64611111  https://www.korsholm.dk/grizzly-zonker-strips-...   \n",
       "98900646    42270249  https://www.kovovybaveni.cz/p/elektromerovy-ro...   \n",
       "98900647    49420896  https://www.kpodj.com/chauvet-pro-maverick-mk2...   \n",
       "\n",
       "                 gtin14                sku  \\\n",
       "0         5057909836884   209470NVYUNICORN   \n",
       "1                  None         340001_acv   \n",
       "2                  None               None   \n",
       "3                  None         T-WCM-300A   \n",
       "4                  None  4047289974192-209   \n",
       "...                 ...                ...   \n",
       "98900643           None               None   \n",
       "98900644           None         jur-berg-7   \n",
       "98900645           None   Varenr.: 8529945   \n",
       "98900646           None               None   \n",
       "98900647           None               None   \n",
       "\n",
       "                                                       name  \\\n",
       "0                    Lexy Lustig designter Rock, 1-12 Jahre   \n",
       "1                                      ACV - Stossverbinder   \n",
       "2         Klíč očkoplochý prodloužený 23mm Tona Expert E...   \n",
       "3          Hand Control Wall Cutter Machine, 12 inch, 6150W   \n",
       "4         Villeroy & Boch AWT Loop & Friends 515400 585x...   \n",
       "...                                                     ...   \n",
       "98900643  Canvas Mens 3/4 Sleeve Baseball T-Shirt (Black...   \n",
       "98900644                          Pakabinama vitrina Berg 7   \n",
       "98900645                          Grizzly Zonker strips grå   \n",
       "98900646               Elektroměrový rozváděč Aspera REV 10   \n",
       "98900647  Chauvet Pro Maverick MK2 Spot/Profile and MK1 ...   \n",
       "\n",
       "                                                description    price  \\\n",
       "0         Ihre Kleine wird die Applikationen, die rundhe...    42.95   \n",
       "1         ACV-Nr.: 340001StossverbinderKabelstärke: 0,5 ...     4.99   \n",
       "2         Klíč očkoplochý prodloužený 23mm Tona Expert E...   190.00   \n",
       "3         Competitive price hand control cutter machine ...  1728.46   \n",
       "4         Ware für Anwender aus Handwerk und Industrie: ...    419.9   \n",
       "...                                                     ...      ...   \n",
       "98900643  Due to the current COVID-19 situation, delays ...    27.24   \n",
       "98900644                                               None    78.53   \n",
       "98900645                                               None       20   \n",
       "98900646         Oceloplechový elektroměrový rozváděč. Více     None   \n",
       "98900647  Maverick MK2 Spot/Profile and MK1 Spot/Hybrid ...  1264.99   \n",
       "\n",
       "         priceCurrency                     nodeId               brand  \\\n",
       "0                  EUR   _:node1eq7bc9nqx25330388                None   \n",
       "1                  EUR   _:node1eq7bc9nqx25330619                 ACV   \n",
       "2                  CZK   _:node1eq43n5l0x88855842                None   \n",
       "3                  USD    _:node1eq7vcriax9798783                None   \n",
       "4                  EUR   _:node1eq57lgrfx32500456  Villeroy & Boch AG   \n",
       "...                ...                        ...                 ...   \n",
       "98900643           AUD   _:node1eq4pn1h2x65213194                None   \n",
       "98900644           EUR   _:node1eq4ple1nx20936531                None   \n",
       "98900645           DKK   _:node1eqcfes93x26192273                None   \n",
       "98900646          None   _:node1eqcfes93x26194245                None   \n",
       "98900647           USD  _:node1eq4vfg32x116471450                None   \n",
       "\n",
       "                 gtin13           mpn  productID manufacturer  gtin  \\\n",
       "0                  None          None       None         None  None   \n",
       "1                  None          None       None         None  None   \n",
       "2         3258951177037          None       None         None  None   \n",
       "3                  None          None       None         None  None   \n",
       "4         4047289974192          None       None         None  None   \n",
       "...                 ...           ...        ...          ...   ...   \n",
       "98900643  5057080846702          None       None         None  None   \n",
       "98900644           None          None       None         None  None   \n",
       "98900645           None          None       None         None  None   \n",
       "98900646           None          None  ASV.REV10         None  None   \n",
       "98900647           None  791462217556       None         None  None   \n",
       "\n",
       "         identifier gtin8 title gtin12  \n",
       "0              None  None  None   None  \n",
       "1              None  None  None   None  \n",
       "2              None  None  None   None  \n",
       "3              None  None  None   None  \n",
       "4              None  None  None   None  \n",
       "...             ...   ...   ...    ...  \n",
       "98900643       None  None  None   None  \n",
       "98900644       None  None  None   None  \n",
       "98900645       None  None  None   None  \n",
       "98900646       None  None  None   None  \n",
       "98900647       None  None  None   None  \n",
       "\n",
       "[98900648 rows x 19 columns]"
      ]
     },
     "execution_count": 17,
     "metadata": {},
     "output_type": "execute_result"
    }
   ],
   "source": [
    "df_large_all"
   ]
  },
  {
   "cell_type": "code",
   "execution_count": 21,
   "metadata": {},
   "outputs": [
    {
     "data": {
      "text/html": [
       "<div>\n",
       "<style scoped>\n",
       "    .dataframe tbody tr th:only-of-type {\n",
       "        vertical-align: middle;\n",
       "    }\n",
       "\n",
       "    .dataframe tbody tr th {\n",
       "        vertical-align: top;\n",
       "    }\n",
       "\n",
       "    .dataframe thead th {\n",
       "        text-align: right;\n",
       "    }\n",
       "</style>\n",
       "<table border=\"1\" class=\"dataframe\">\n",
       "  <thead>\n",
       "    <tr style=\"text-align: right;\">\n",
       "      <th></th>\n",
       "      <th>cluster_id</th>\n",
       "      <th>url</th>\n",
       "      <th>name</th>\n",
       "      <th>description</th>\n",
       "      <th>brand</th>\n",
       "    </tr>\n",
       "  </thead>\n",
       "  <tbody>\n",
       "    <tr>\n",
       "      <th>0</th>\n",
       "      <td>3333680</td>\n",
       "      <td>https://www.tomjoule.de/M%C3%A4dchen/Bekleidun...</td>\n",
       "      <td>Lexy Lustig designter Rock, 1-12 Jahre</td>\n",
       "      <td>Ihre Kleine wird die Applikationen, die rundhe...</td>\n",
       "      <td>None</td>\n",
       "    </tr>\n",
       "    <tr>\n",
       "      <th>1</th>\n",
       "      <td>31634631</td>\n",
       "      <td>https://www.toms-car-hifi.de/zubehoer/car-hifi...</td>\n",
       "      <td>ACV - Stossverbinder</td>\n",
       "      <td>ACV-Nr.: 340001StossverbinderKabelstärke: 0,5 ...</td>\n",
       "      <td>ACV</td>\n",
       "    </tr>\n",
       "    <tr>\n",
       "      <th>2</th>\n",
       "      <td>42406505</td>\n",
       "      <td>https://www.tonaexpert.cz/vyprodej/klic-ockopl...</td>\n",
       "      <td>Klíč očkoplochý prodloužený 23mm Tona Expert E...</td>\n",
       "      <td>Klíč očkoplochý prodloužený 23mm Tona Expert E...</td>\n",
       "      <td>None</td>\n",
       "    </tr>\n",
       "    <tr>\n",
       "      <th>3</th>\n",
       "      <td>42362590</td>\n",
       "      <td>https://www.tool.com/wall-cutter-machine-12-inch</td>\n",
       "      <td>Hand Control Wall Cutter Machine, 12 inch, 6150W</td>\n",
       "      <td>Competitive price hand control cutter machine ...</td>\n",
       "      <td>None</td>\n",
       "    </tr>\n",
       "    <tr>\n",
       "      <th>4</th>\n",
       "      <td>3041730</td>\n",
       "      <td>https://www.toolteam24.com/de-DE/villeroy-boch...</td>\n",
       "      <td>Villeroy &amp; Boch AWT Loop &amp; Friends 515400 585x...</td>\n",
       "      <td>Ware für Anwender aus Handwerk und Industrie: ...</td>\n",
       "      <td>Villeroy &amp; Boch AG</td>\n",
       "    </tr>\n",
       "    <tr>\n",
       "      <th>...</th>\n",
       "      <td>...</td>\n",
       "      <td>...</td>\n",
       "      <td>...</td>\n",
       "      <td>...</td>\n",
       "      <td>...</td>\n",
       "    </tr>\n",
       "    <tr>\n",
       "      <th>98900643</th>\n",
       "      <td>55887318</td>\n",
       "      <td>https://www.kogan.com/au/buy/pertemba-canvas-m...</td>\n",
       "      <td>Canvas Mens 3/4 Sleeve Baseball T-Shirt (Black...</td>\n",
       "      <td>Due to the current COVID-19 situation, delays ...</td>\n",
       "      <td>None</td>\n",
       "    </tr>\n",
       "    <tr>\n",
       "      <th>98900644</th>\n",
       "      <td>56749010</td>\n",
       "      <td>https://www.komercinis.lt/virtuves-baldai/vitr...</td>\n",
       "      <td>Pakabinama vitrina Berg 7</td>\n",
       "      <td>None</td>\n",
       "      <td>None</td>\n",
       "    </tr>\n",
       "    <tr>\n",
       "      <th>98900645</th>\n",
       "      <td>64611111</td>\n",
       "      <td>https://www.korsholm.dk/grizzly-zonker-strips-...</td>\n",
       "      <td>Grizzly Zonker strips grå</td>\n",
       "      <td>None</td>\n",
       "      <td>None</td>\n",
       "    </tr>\n",
       "    <tr>\n",
       "      <th>98900646</th>\n",
       "      <td>42270249</td>\n",
       "      <td>https://www.kovovybaveni.cz/p/elektromerovy-ro...</td>\n",
       "      <td>Elektroměrový rozváděč Aspera REV 10</td>\n",
       "      <td>Oceloplechový elektroměrový rozváděč. Více</td>\n",
       "      <td>None</td>\n",
       "    </tr>\n",
       "    <tr>\n",
       "      <th>98900647</th>\n",
       "      <td>49420896</td>\n",
       "      <td>https://www.kpodj.com/chauvet-pro-maverick-mk2...</td>\n",
       "      <td>Chauvet Pro Maverick MK2 Spot/Profile and MK1 ...</td>\n",
       "      <td>Maverick MK2 Spot/Profile and MK1 Spot/Hybrid ...</td>\n",
       "      <td>None</td>\n",
       "    </tr>\n",
       "  </tbody>\n",
       "</table>\n",
       "<p>98900648 rows × 5 columns</p>\n",
       "</div>"
      ],
      "text/plain": [
       "          cluster_id                                                url  \\\n",
       "0            3333680  https://www.tomjoule.de/M%C3%A4dchen/Bekleidun...   \n",
       "1           31634631  https://www.toms-car-hifi.de/zubehoer/car-hifi...   \n",
       "2           42406505  https://www.tonaexpert.cz/vyprodej/klic-ockopl...   \n",
       "3           42362590   https://www.tool.com/wall-cutter-machine-12-inch   \n",
       "4            3041730  https://www.toolteam24.com/de-DE/villeroy-boch...   \n",
       "...              ...                                                ...   \n",
       "98900643    55887318  https://www.kogan.com/au/buy/pertemba-canvas-m...   \n",
       "98900644    56749010  https://www.komercinis.lt/virtuves-baldai/vitr...   \n",
       "98900645    64611111  https://www.korsholm.dk/grizzly-zonker-strips-...   \n",
       "98900646    42270249  https://www.kovovybaveni.cz/p/elektromerovy-ro...   \n",
       "98900647    49420896  https://www.kpodj.com/chauvet-pro-maverick-mk2...   \n",
       "\n",
       "                                                       name  \\\n",
       "0                    Lexy Lustig designter Rock, 1-12 Jahre   \n",
       "1                                      ACV - Stossverbinder   \n",
       "2         Klíč očkoplochý prodloužený 23mm Tona Expert E...   \n",
       "3          Hand Control Wall Cutter Machine, 12 inch, 6150W   \n",
       "4         Villeroy & Boch AWT Loop & Friends 515400 585x...   \n",
       "...                                                     ...   \n",
       "98900643  Canvas Mens 3/4 Sleeve Baseball T-Shirt (Black...   \n",
       "98900644                          Pakabinama vitrina Berg 7   \n",
       "98900645                          Grizzly Zonker strips grå   \n",
       "98900646               Elektroměrový rozváděč Aspera REV 10   \n",
       "98900647  Chauvet Pro Maverick MK2 Spot/Profile and MK1 ...   \n",
       "\n",
       "                                                description  \\\n",
       "0         Ihre Kleine wird die Applikationen, die rundhe...   \n",
       "1         ACV-Nr.: 340001StossverbinderKabelstärke: 0,5 ...   \n",
       "2         Klíč očkoplochý prodloužený 23mm Tona Expert E...   \n",
       "3         Competitive price hand control cutter machine ...   \n",
       "4         Ware für Anwender aus Handwerk und Industrie: ...   \n",
       "...                                                     ...   \n",
       "98900643  Due to the current COVID-19 situation, delays ...   \n",
       "98900644                                               None   \n",
       "98900645                                               None   \n",
       "98900646         Oceloplechový elektroměrový rozváděč. Více   \n",
       "98900647  Maverick MK2 Spot/Profile and MK1 Spot/Hybrid ...   \n",
       "\n",
       "                       brand  \n",
       "0                       None  \n",
       "1                        ACV  \n",
       "2                       None  \n",
       "3                       None  \n",
       "4         Villeroy & Boch AG  \n",
       "...                      ...  \n",
       "98900643                None  \n",
       "98900644                None  \n",
       "98900645                None  \n",
       "98900646                None  \n",
       "98900647                None  \n",
       "\n",
       "[98900648 rows x 5 columns]"
      ]
     },
     "execution_count": 21,
     "metadata": {},
     "output_type": "execute_result"
    }
   ],
   "source": [
    "df_large_all[['cluster_id','url','name','description','brand']]"
   ]
  },
  {
   "cell_type": "code",
   "execution_count": 22,
   "metadata": {},
   "outputs": [],
   "source": [
    "df_large_matched = df_large.merge(df_large_all[['cluster_id','url','name','description','brand']], left_on=['cluster_id','url'], right_on = ['cluster_id','url'], how='left')"
   ]
  },
  {
   "cell_type": "code",
   "execution_count": 23,
   "metadata": {},
   "outputs": [
    {
     "data": {
      "text/html": [
       "<div>\n",
       "<style scoped>\n",
       "    .dataframe tbody tr th:only-of-type {\n",
       "        vertical-align: middle;\n",
       "    }\n",
       "\n",
       "    .dataframe tbody tr th {\n",
       "        vertical-align: top;\n",
       "    }\n",
       "\n",
       "    .dataframe thead th {\n",
       "        text-align: right;\n",
       "    }\n",
       "</style>\n",
       "<table border=\"1\" class=\"dataframe\">\n",
       "  <thead>\n",
       "    <tr style=\"text-align: right;\">\n",
       "      <th></th>\n",
       "      <th>cluster_id</th>\n",
       "      <th>url</th>\n",
       "      <th>row_id</th>\n",
       "      <th>table_id</th>\n",
       "      <th>Valid</th>\n",
       "      <th>name</th>\n",
       "      <th>description</th>\n",
       "      <th>brand</th>\n",
       "    </tr>\n",
       "  </thead>\n",
       "  <tbody>\n",
       "    <tr>\n",
       "      <th>0</th>\n",
       "      <td>59178314</td>\n",
       "      <td>https://www.cultureindoor.com/796-irrigation-a...</td>\n",
       "      <td>1561</td>\n",
       "      <td>Product_cultureindoor.com_September2020.json.gz</td>\n",
       "      <td>1</td>\n",
       "      <td>irrigation ,arrosage Tuyau PE 20mm semi rigide...</td>\n",
       "      <td>Tuyau PE 20mm semi rigide rouleau 100m, idéal ...</td>\n",
       "      <td>FRANCE ARROSAGE</td>\n",
       "    </tr>\n",
       "    <tr>\n",
       "      <th>1</th>\n",
       "      <td>70692685</td>\n",
       "      <td>https://www.culturekings.com/products/new-era-...</td>\n",
       "      <td>3893</td>\n",
       "      <td>Product_culturekings.com_September2020.json.gz</td>\n",
       "      <td>1</td>\n",
       "      <td>New Era New Orleans Pelicans NBA 9FORTY A-Fram...</td>\n",
       "      <td>New Era is back at it again this season with a...</td>\n",
       "      <td>None</td>\n",
       "    </tr>\n",
       "    <tr>\n",
       "      <th>2</th>\n",
       "      <td>395606</td>\n",
       "      <td>https://www.culturekings.com/products/new-era-...</td>\n",
       "      <td>3894</td>\n",
       "      <td>Product_culturekings.com_September2020.json.gz</td>\n",
       "      <td>1</td>\n",
       "      <td>New Era X NRL West Tigers Aframe Charcoal/orange</td>\n",
       "      <td>The Iconic New Era is the premium siloute of h...</td>\n",
       "      <td>None</td>\n",
       "    </tr>\n",
       "    <tr>\n",
       "      <th>3</th>\n",
       "      <td>3361797</td>\n",
       "      <td>https://www.customizedgirl.com/design/2605608/...</td>\n",
       "      <td>9318</td>\n",
       "      <td>Product_customizedgirl.com_September2020.json.gz</td>\n",
       "      <td>1</td>\n",
       "      <td>The Real Baseball Moms (2XL)</td>\n",
       "      <td>Are you a real baseball mom fan? Customize a c...</td>\n",
       "      <td>CustomizedGirl.com</td>\n",
       "    </tr>\n",
       "    <tr>\n",
       "      <th>4</th>\n",
       "      <td>235755</td>\n",
       "      <td>https://www.customizedgirl.com/design/2613423/...</td>\n",
       "      <td>9319</td>\n",
       "      <td>Product_customizedgirl.com_September2020.json.gz</td>\n",
       "      <td>1</td>\n",
       "      <td>Mentally Dating Ronaldo (2XL)</td>\n",
       "      <td>Mentally dating Christiano Ronaldo. Yeah girl,...</td>\n",
       "      <td>CustomizedGirl.com</td>\n",
       "    </tr>\n",
       "    <tr>\n",
       "      <th>...</th>\n",
       "      <td>...</td>\n",
       "      <td>...</td>\n",
       "      <td>...</td>\n",
       "      <td>...</td>\n",
       "      <td>...</td>\n",
       "      <td>...</td>\n",
       "      <td>...</td>\n",
       "      <td>...</td>\n",
       "    </tr>\n",
       "    <tr>\n",
       "      <th>24688354</th>\n",
       "      <td>8653717</td>\n",
       "      <td>https://shop-list.com/women/utuwa-tatara/sg323...</td>\n",
       "      <td>1620</td>\n",
       "      <td>Product_shop-list.com_September2020.json.gz</td>\n",
       "      <td>1</td>\n",
       "      <td>vZXEC h[ yAv[gZbg(Vf) v[g Mtg </td>\n",
       "      <td>yPrincessRoyalDreams-vZXCh[-zyAv[gZbg(Vf)(v[g2...</td>\n",
       "      <td>None</td>\n",
       "    </tr>\n",
       "    <tr>\n",
       "      <th>24688355</th>\n",
       "      <td>22258637</td>\n",
       "      <td>https://shop-list.com/women/youmotto/famille-ltm</td>\n",
       "      <td>1621</td>\n",
       "      <td>Product_shop-list.com_September2020.json.gz</td>\n",
       "      <td>1</td>\n",
       "      <td>t@~[ OgC}bg80~60cm[gC }bg gC^[ Jg[ _ i` IV AC{...</td>\n",
       "      <td>yiڍׁzyގzpC/|GXe100yTCYz80~60cmyYzyɂĂ̂ӁzEŏ̐͗Vі...</td>\n",
       "      <td>None</td>\n",
       "    </tr>\n",
       "    <tr>\n",
       "      <th>24688356</th>\n",
       "      <td>41434658</td>\n",
       "      <td>https://shop.agwaycapecod.com/products/0190147...</td>\n",
       "      <td>126</td>\n",
       "      <td>Product_agwaycapecod.com_September2020.json.gz</td>\n",
       "      <td>1</td>\n",
       "      <td>Adult Small Breed Dog Food, 5-Lb.</td>\n",
       "      <td>Eukanuba, 5 LB, Adult Small Breed Dry Dog Food...</td>\n",
       "      <td>None</td>\n",
       "    </tr>\n",
       "    <tr>\n",
       "      <th>24688357</th>\n",
       "      <td>62702145</td>\n",
       "      <td>https://shop.agwaycapecod.com/products/0373214...</td>\n",
       "      <td>127</td>\n",
       "      <td>Product_agwaycapecod.com_September2020.json.gz</td>\n",
       "      <td>1</td>\n",
       "      <td>Ant Killer Dust, 3-Lbs.</td>\n",
       "      <td>3 LB, Water-Proof Ant Killer Dust, Use Indoors...</td>\n",
       "      <td>None</td>\n",
       "    </tr>\n",
       "    <tr>\n",
       "      <th>24688358</th>\n",
       "      <td>60936713</td>\n",
       "      <td>https://shop.areefcreation.com/products/ls-apr...</td>\n",
       "      <td>120</td>\n",
       "      <td>Product_areefcreation.com_September2020.json.gz</td>\n",
       "      <td>1</td>\n",
       "      <td>ARC Prince Acro</td>\n",
       "      <td>None</td>\n",
       "      <td>None</td>\n",
       "    </tr>\n",
       "  </tbody>\n",
       "</table>\n",
       "<p>24688359 rows × 8 columns</p>\n",
       "</div>"
      ],
      "text/plain": [
       "          cluster_id                                                url  \\\n",
       "0           59178314  https://www.cultureindoor.com/796-irrigation-a...   \n",
       "1           70692685  https://www.culturekings.com/products/new-era-...   \n",
       "2             395606  https://www.culturekings.com/products/new-era-...   \n",
       "3            3361797  https://www.customizedgirl.com/design/2605608/...   \n",
       "4             235755  https://www.customizedgirl.com/design/2613423/...   \n",
       "...              ...                                                ...   \n",
       "24688354     8653717  https://shop-list.com/women/utuwa-tatara/sg323...   \n",
       "24688355    22258637   https://shop-list.com/women/youmotto/famille-ltm   \n",
       "24688356    41434658  https://shop.agwaycapecod.com/products/0190147...   \n",
       "24688357    62702145  https://shop.agwaycapecod.com/products/0373214...   \n",
       "24688358    60936713  https://shop.areefcreation.com/products/ls-apr...   \n",
       "\n",
       "          row_id                                          table_id  Valid  \\\n",
       "0           1561   Product_cultureindoor.com_September2020.json.gz      1   \n",
       "1           3893    Product_culturekings.com_September2020.json.gz      1   \n",
       "2           3894    Product_culturekings.com_September2020.json.gz      1   \n",
       "3           9318  Product_customizedgirl.com_September2020.json.gz      1   \n",
       "4           9319  Product_customizedgirl.com_September2020.json.gz      1   \n",
       "...          ...                                               ...    ...   \n",
       "24688354    1620       Product_shop-list.com_September2020.json.gz      1   \n",
       "24688355    1621       Product_shop-list.com_September2020.json.gz      1   \n",
       "24688356     126    Product_agwaycapecod.com_September2020.json.gz      1   \n",
       "24688357     127    Product_agwaycapecod.com_September2020.json.gz      1   \n",
       "24688358     120   Product_areefcreation.com_September2020.json.gz      1   \n",
       "\n",
       "                                                       name  \\\n",
       "0         irrigation ,arrosage Tuyau PE 20mm semi rigide...   \n",
       "1         New Era New Orleans Pelicans NBA 9FORTY A-Fram...   \n",
       "2          New Era X NRL West Tigers Aframe Charcoal/orange   \n",
       "3                              The Real Baseball Moms (2XL)   \n",
       "4                             Mentally Dating Ronaldo (2XL)   \n",
       "...                                                     ...   \n",
       "24688354                    vZXEC h[ yAv[gZbg(Vf) v[g Mtg    \n",
       "24688355  t@~[ OgC}bg80~60cm[gC }bg gC^[ Jg[ _ i` IV AC{...   \n",
       "24688356                  Adult Small Breed Dog Food, 5-Lb.   \n",
       "24688357                            Ant Killer Dust, 3-Lbs.   \n",
       "24688358                                    ARC Prince Acro   \n",
       "\n",
       "                                                description  \\\n",
       "0         Tuyau PE 20mm semi rigide rouleau 100m, idéal ...   \n",
       "1         New Era is back at it again this season with a...   \n",
       "2         The Iconic New Era is the premium siloute of h...   \n",
       "3         Are you a real baseball mom fan? Customize a c...   \n",
       "4         Mentally dating Christiano Ronaldo. Yeah girl,...   \n",
       "...                                                     ...   \n",
       "24688354  yPrincessRoyalDreams-vZXCh[-zyAv[gZbg(Vf)(v[g2...   \n",
       "24688355  yiڍׁzyގzpC/|GXe100yTCYz80~60cmyYzyɂĂ̂ӁzEŏ̐͗Vі...   \n",
       "24688356  Eukanuba, 5 LB, Adult Small Breed Dry Dog Food...   \n",
       "24688357  3 LB, Water-Proof Ant Killer Dust, Use Indoors...   \n",
       "24688358                                               None   \n",
       "\n",
       "                       brand  \n",
       "0            FRANCE ARROSAGE  \n",
       "1                       None  \n",
       "2                       None  \n",
       "3         CustomizedGirl.com  \n",
       "4         CustomizedGirl.com  \n",
       "...                      ...  \n",
       "24688354                None  \n",
       "24688355                None  \n",
       "24688356                None  \n",
       "24688357                None  \n",
       "24688358                None  \n",
       "\n",
       "[24688359 rows x 8 columns]"
      ]
     },
     "execution_count": 23,
     "metadata": {},
     "output_type": "execute_result"
    }
   ],
   "source": [
    "df_large_matched"
   ]
  },
  {
   "cell_type": "code",
   "execution_count": 24,
   "metadata": {},
   "outputs": [],
   "source": [
    "df_large_matched.to_json(os.path.join(mapping_corpus_path_2, 'df_large_matched'), compression='gzip', orient='records', lines=True)"
   ]
  },
  {
   "cell_type": "code",
   "execution_count": 25,
   "metadata": {},
   "outputs": [
    {
     "data": {
      "text/html": [
       "<div>\n",
       "<style scoped>\n",
       "    .dataframe tbody tr th:only-of-type {\n",
       "        vertical-align: middle;\n",
       "    }\n",
       "\n",
       "    .dataframe tbody tr th {\n",
       "        vertical-align: top;\n",
       "    }\n",
       "\n",
       "    .dataframe thead th {\n",
       "        text-align: right;\n",
       "    }\n",
       "</style>\n",
       "<table border=\"1\" class=\"dataframe\">\n",
       "  <thead>\n",
       "    <tr style=\"text-align: right;\">\n",
       "      <th></th>\n",
       "      <th>cluster_id</th>\n",
       "      <th>url</th>\n",
       "      <th>row_id</th>\n",
       "      <th>table_id</th>\n",
       "      <th>Valid</th>\n",
       "      <th>name</th>\n",
       "      <th>description</th>\n",
       "      <th>brand</th>\n",
       "    </tr>\n",
       "  </thead>\n",
       "  <tbody>\n",
       "    <tr>\n",
       "      <th>0</th>\n",
       "      <td>59178314</td>\n",
       "      <td>https://www.cultureindoor.com/796-irrigation-a...</td>\n",
       "      <td>1561</td>\n",
       "      <td>Product_cultureindoor.com_September2020.json.gz</td>\n",
       "      <td>1</td>\n",
       "      <td>irrigation ,arrosage Tuyau PE 20mm semi rigide...</td>\n",
       "      <td>Tuyau PE 20mm semi rigide rouleau 100m, idéal ...</td>\n",
       "      <td>FRANCE ARROSAGE</td>\n",
       "    </tr>\n",
       "    <tr>\n",
       "      <th>1</th>\n",
       "      <td>70692685</td>\n",
       "      <td>https://www.culturekings.com/products/new-era-...</td>\n",
       "      <td>3893</td>\n",
       "      <td>Product_culturekings.com_September2020.json.gz</td>\n",
       "      <td>1</td>\n",
       "      <td>New Era New Orleans Pelicans NBA 9FORTY A-Fram...</td>\n",
       "      <td>New Era is back at it again this season with a...</td>\n",
       "      <td>None</td>\n",
       "    </tr>\n",
       "    <tr>\n",
       "      <th>2</th>\n",
       "      <td>395606</td>\n",
       "      <td>https://www.culturekings.com/products/new-era-...</td>\n",
       "      <td>3894</td>\n",
       "      <td>Product_culturekings.com_September2020.json.gz</td>\n",
       "      <td>1</td>\n",
       "      <td>New Era X NRL West Tigers Aframe Charcoal/orange</td>\n",
       "      <td>The Iconic New Era is the premium siloute of h...</td>\n",
       "      <td>None</td>\n",
       "    </tr>\n",
       "    <tr>\n",
       "      <th>3</th>\n",
       "      <td>3361797</td>\n",
       "      <td>https://www.customizedgirl.com/design/2605608/...</td>\n",
       "      <td>9318</td>\n",
       "      <td>Product_customizedgirl.com_September2020.json.gz</td>\n",
       "      <td>1</td>\n",
       "      <td>The Real Baseball Moms (2XL)</td>\n",
       "      <td>Are you a real baseball mom fan? Customize a c...</td>\n",
       "      <td>CustomizedGirl.com</td>\n",
       "    </tr>\n",
       "    <tr>\n",
       "      <th>4</th>\n",
       "      <td>235755</td>\n",
       "      <td>https://www.customizedgirl.com/design/2613423/...</td>\n",
       "      <td>9319</td>\n",
       "      <td>Product_customizedgirl.com_September2020.json.gz</td>\n",
       "      <td>1</td>\n",
       "      <td>Mentally Dating Ronaldo (2XL)</td>\n",
       "      <td>Mentally dating Christiano Ronaldo. Yeah girl,...</td>\n",
       "      <td>CustomizedGirl.com</td>\n",
       "    </tr>\n",
       "    <tr>\n",
       "      <th>...</th>\n",
       "      <td>...</td>\n",
       "      <td>...</td>\n",
       "      <td>...</td>\n",
       "      <td>...</td>\n",
       "      <td>...</td>\n",
       "      <td>...</td>\n",
       "      <td>...</td>\n",
       "      <td>...</td>\n",
       "    </tr>\n",
       "    <tr>\n",
       "      <th>24688354</th>\n",
       "      <td>8653717</td>\n",
       "      <td>https://shop-list.com/women/utuwa-tatara/sg323...</td>\n",
       "      <td>1620</td>\n",
       "      <td>Product_shop-list.com_September2020.json.gz</td>\n",
       "      <td>1</td>\n",
       "      <td>vZXEC h[ yAv[gZbg(Vf) v[g Mtg </td>\n",
       "      <td>yPrincessRoyalDreams-vZXCh[-zyAv[gZbg(Vf)(v[g2...</td>\n",
       "      <td>None</td>\n",
       "    </tr>\n",
       "    <tr>\n",
       "      <th>24688355</th>\n",
       "      <td>22258637</td>\n",
       "      <td>https://shop-list.com/women/youmotto/famille-ltm</td>\n",
       "      <td>1621</td>\n",
       "      <td>Product_shop-list.com_September2020.json.gz</td>\n",
       "      <td>1</td>\n",
       "      <td>t@~[ OgC}bg80~60cm[gC }bg gC^[ Jg[ _ i` IV AC{...</td>\n",
       "      <td>yiڍׁzyގzpC/|GXe100yTCYz80~60cmyYzyɂĂ̂ӁzEŏ̐͗Vі...</td>\n",
       "      <td>None</td>\n",
       "    </tr>\n",
       "    <tr>\n",
       "      <th>24688356</th>\n",
       "      <td>41434658</td>\n",
       "      <td>https://shop.agwaycapecod.com/products/0190147...</td>\n",
       "      <td>126</td>\n",
       "      <td>Product_agwaycapecod.com_September2020.json.gz</td>\n",
       "      <td>1</td>\n",
       "      <td>Adult Small Breed Dog Food, 5-Lb.</td>\n",
       "      <td>Eukanuba, 5 LB, Adult Small Breed Dry Dog Food...</td>\n",
       "      <td>None</td>\n",
       "    </tr>\n",
       "    <tr>\n",
       "      <th>24688357</th>\n",
       "      <td>62702145</td>\n",
       "      <td>https://shop.agwaycapecod.com/products/0373214...</td>\n",
       "      <td>127</td>\n",
       "      <td>Product_agwaycapecod.com_September2020.json.gz</td>\n",
       "      <td>1</td>\n",
       "      <td>Ant Killer Dust, 3-Lbs.</td>\n",
       "      <td>3 LB, Water-Proof Ant Killer Dust, Use Indoors...</td>\n",
       "      <td>None</td>\n",
       "    </tr>\n",
       "    <tr>\n",
       "      <th>24688358</th>\n",
       "      <td>60936713</td>\n",
       "      <td>https://shop.areefcreation.com/products/ls-apr...</td>\n",
       "      <td>120</td>\n",
       "      <td>Product_areefcreation.com_September2020.json.gz</td>\n",
       "      <td>1</td>\n",
       "      <td>ARC Prince Acro</td>\n",
       "      <td>None</td>\n",
       "      <td>None</td>\n",
       "    </tr>\n",
       "  </tbody>\n",
       "</table>\n",
       "<p>24688359 rows × 8 columns</p>\n",
       "</div>"
      ],
      "text/plain": [
       "          cluster_id                                                url  \\\n",
       "0           59178314  https://www.cultureindoor.com/796-irrigation-a...   \n",
       "1           70692685  https://www.culturekings.com/products/new-era-...   \n",
       "2             395606  https://www.culturekings.com/products/new-era-...   \n",
       "3            3361797  https://www.customizedgirl.com/design/2605608/...   \n",
       "4             235755  https://www.customizedgirl.com/design/2613423/...   \n",
       "...              ...                                                ...   \n",
       "24688354     8653717  https://shop-list.com/women/utuwa-tatara/sg323...   \n",
       "24688355    22258637   https://shop-list.com/women/youmotto/famille-ltm   \n",
       "24688356    41434658  https://shop.agwaycapecod.com/products/0190147...   \n",
       "24688357    62702145  https://shop.agwaycapecod.com/products/0373214...   \n",
       "24688358    60936713  https://shop.areefcreation.com/products/ls-apr...   \n",
       "\n",
       "          row_id                                          table_id  Valid  \\\n",
       "0           1561   Product_cultureindoor.com_September2020.json.gz      1   \n",
       "1           3893    Product_culturekings.com_September2020.json.gz      1   \n",
       "2           3894    Product_culturekings.com_September2020.json.gz      1   \n",
       "3           9318  Product_customizedgirl.com_September2020.json.gz      1   \n",
       "4           9319  Product_customizedgirl.com_September2020.json.gz      1   \n",
       "...          ...                                               ...    ...   \n",
       "24688354    1620       Product_shop-list.com_September2020.json.gz      1   \n",
       "24688355    1621       Product_shop-list.com_September2020.json.gz      1   \n",
       "24688356     126    Product_agwaycapecod.com_September2020.json.gz      1   \n",
       "24688357     127    Product_agwaycapecod.com_September2020.json.gz      1   \n",
       "24688358     120   Product_areefcreation.com_September2020.json.gz      1   \n",
       "\n",
       "                                                       name  \\\n",
       "0         irrigation ,arrosage Tuyau PE 20mm semi rigide...   \n",
       "1         New Era New Orleans Pelicans NBA 9FORTY A-Fram...   \n",
       "2          New Era X NRL West Tigers Aframe Charcoal/orange   \n",
       "3                              The Real Baseball Moms (2XL)   \n",
       "4                             Mentally Dating Ronaldo (2XL)   \n",
       "...                                                     ...   \n",
       "24688354                    vZXEC h[ yAv[gZbg(Vf) v[g Mtg    \n",
       "24688355  t@~[ OgC}bg80~60cm[gC }bg gC^[ Jg[ _ i` IV AC{...   \n",
       "24688356                  Adult Small Breed Dog Food, 5-Lb.   \n",
       "24688357                            Ant Killer Dust, 3-Lbs.   \n",
       "24688358                                    ARC Prince Acro   \n",
       "\n",
       "                                                description  \\\n",
       "0         Tuyau PE 20mm semi rigide rouleau 100m, idéal ...   \n",
       "1         New Era is back at it again this season with a...   \n",
       "2         The Iconic New Era is the premium siloute of h...   \n",
       "3         Are you a real baseball mom fan? Customize a c...   \n",
       "4         Mentally dating Christiano Ronaldo. Yeah girl,...   \n",
       "...                                                     ...   \n",
       "24688354  yPrincessRoyalDreams-vZXCh[-zyAv[gZbg(Vf)(v[g2...   \n",
       "24688355  yiڍׁzyގzpC/|GXe100yTCYz80~60cmyYzyɂĂ̂ӁzEŏ̐͗Vі...   \n",
       "24688356  Eukanuba, 5 LB, Adult Small Breed Dry Dog Food...   \n",
       "24688357  3 LB, Water-Proof Ant Killer Dust, Use Indoors...   \n",
       "24688358                                               None   \n",
       "\n",
       "                       brand  \n",
       "0            FRANCE ARROSAGE  \n",
       "1                       None  \n",
       "2                       None  \n",
       "3         CustomizedGirl.com  \n",
       "4         CustomizedGirl.com  \n",
       "...                      ...  \n",
       "24688354                None  \n",
       "24688355                None  \n",
       "24688356                None  \n",
       "24688357                None  \n",
       "24688358                None  \n",
       "\n",
       "[24688359 rows x 8 columns]"
      ]
     },
     "execution_count": 25,
     "metadata": {},
     "output_type": "execute_result"
    }
   ],
   "source": [
    "pd.read_json(os.path.join(mapping_corpus_path_2, 'df_large_matched'), compression='gzip', orient='records', lines=True)"
   ]
  },
  {
   "cell_type": "code",
   "execution_count": 15,
   "metadata": {},
   "outputs": [],
   "source": [
    "#fill up missing values in both product category data frames to be able to split the tuples up\n",
    "df_electronics_filtered=df_electronics.applymap(lambda x: [0,0] if x is None else x)\n",
    "df_clothes_filtered=df_clothes.applymap(lambda x: [0,0] if x is None else x)"
   ]
  },
  {
   "cell_type": "code",
   "execution_count": 16,
   "metadata": {},
   "outputs": [
    {
     "name": "stderr",
     "output_type": "stream",
     "text": [
      "100% (61889 of 61889) |##################| Elapsed Time: 1:06:00 Time:  1:06:00\n"
     ]
    }
   ],
   "source": [
    "# clean up the tables\n",
    "#split up tuples in in each column for each brand into two different columns table_id and row_id and concatente these rows\n",
    "df_electronics_cleaned=pd.DataFrame(columns=['table_id', 'row_id'])\n",
    "count = 0\n",
    "with progressbar.ProgressBar(max_value=len(df_electronics_filtered.columns)) as bar:\n",
    "    for i in range(len(df_electronics_filtered.columns)):\n",
    "        df_electronics_cleaned = df_electronics_cleaned.append(pd.DataFrame(df_electronics_filtered[i].tolist(),columns=['table_id', 'row_id'], index=df_electronics_filtered.index))\n",
    "        count += 1\n",
    "        bar.update(count)"
   ]
  },
  {
   "cell_type": "code",
   "execution_count": 24,
   "metadata": {},
   "outputs": [],
   "execution_count": 24,
   "metadata": {},
   "outputs": [
    {
     "name": "stderr",
     "output_type": "stream",
     "text": [
      " 56% (78425 of 139178) |#########        | Elapsed Time: 1:58:46 ETA:   2:56:08IOPub message rate exceeded.\n",
      "The notebook server will temporarily stop sending output\n",
      "to the client in order to avoid crashing it.\n",
      "To change this limit, set the config variable\n",
      "`--NotebookApp.iopub_msg_rate_limit`.\n",
      "\n",
      "Current values:\n",
      "NotebookApp.iopub_msg_rate_limit=1000.0 (msgs/sec)\n",
      "NotebookApp.rate_limit_window=3.0 (secs)\n",
      "\n",
      " 62% (87007 of 139178) |##########       | Elapsed Time: 2:24:24 ETA:   2:53:01IOPub message rate exceeded.\n",
      "The notebook server will temporarily stop sending output\n",
      "to the client in order to avoid crashing it.\n",
      "To change this limit, set the config variable\n",
      "`--NotebookApp.iopub_msg_rate_limit`.\n",
      "\n",
      "Current values:\n",
      "NotebookApp.iopub_msg_rate_limit=1000.0 (msgs/sec)\n",
      "NotebookApp.rate_limit_window=3.0 (secs)\n",
      "\n",
      " 68% (95313 of 139178) |###########      | Elapsed Time: 2:48:50 ETA:   2:28:54IOPub message rate exceeded.\n",
      "The notebook server will temporarily stop sending output\n",
      "to the client in order to avoid crashing it.\n",
      "To change this limit, set the config variable\n",
      "`--NotebookApp.iopub_msg_rate_limit`.\n",
      "\n",
      "Current values:\n",
      "NotebookApp.iopub_msg_rate_limit=1000.0 (msgs/sec)\n",
      "NotebookApp.rate_limit_window=3.0 (secs)\n",
      "\n",
      " 74% (103876 of 139178) |###########     | Elapsed Time: 3:23:03 ETA:   2:29:29IOPub message rate exceeded.\n",
      "The notebook server will temporarily stop sending output\n",
      "to the client in order to avoid crashing it.\n",
      "To change this limit, set the config variable\n",
      "`--NotebookApp.iopub_msg_rate_limit`.\n",
      "\n",
      "Current values:\n",
      "NotebookApp.iopub_msg_rate_limit=1000.0 (msgs/sec)\n",
      "NotebookApp.rate_limit_window=3.0 (secs)\n",
      "\n",
      " 77% (107781 of 139178) |############    | Elapsed Time: 3:42:02 ETA:   3:12:24\n"
     ]
    },
    {
     "ename": "KeyboardInterrupt",
     "evalue": "",
     "output_type": "error",
     "traceback": [
      "\u001b[0;31m---------------------------------------------------------------------------\u001b[0m",
      "\u001b[0;31mKeyboardInterrupt\u001b[0m                         Traceback (most recent call last)",
      "\u001b[0;32m<ipython-input-24-2d7376197073>\u001b[0m in \u001b[0;36m<module>\u001b[0;34m\u001b[0m\n\u001b[1;32m      5\u001b[0m \u001b[0;32mwith\u001b[0m \u001b[0mprogressbar\u001b[0m\u001b[0;34m.\u001b[0m\u001b[0mProgressBar\u001b[0m\u001b[0;34m(\u001b[0m\u001b[0mmax_value\u001b[0m\u001b[0;34m=\u001b[0m\u001b[0mlen\u001b[0m\u001b[0;34m(\u001b[0m\u001b[0mdf_clothes_filtered\u001b[0m\u001b[0;34m.\u001b[0m\u001b[0mcolumns\u001b[0m\u001b[0;34m)\u001b[0m\u001b[0;34m)\u001b[0m \u001b[0;32mas\u001b[0m \u001b[0mbar\u001b[0m\u001b[0;34m:\u001b[0m\u001b[0;34m\u001b[0m\u001b[0;34m\u001b[0m\u001b[0m\n\u001b[1;32m      6\u001b[0m     \u001b[0;32mfor\u001b[0m \u001b[0mi\u001b[0m \u001b[0;32min\u001b[0m \u001b[0mrange\u001b[0m\u001b[0;34m(\u001b[0m\u001b[0mlen\u001b[0m\u001b[0;34m(\u001b[0m\u001b[0mdf_clothes_filtered\u001b[0m\u001b[0;34m.\u001b[0m\u001b[0mcolumns\u001b[0m\u001b[0;34m)\u001b[0m\u001b[0;34m)\u001b[0m\u001b[0;34m:\u001b[0m\u001b[0;34m\u001b[0m\u001b[0;34m\u001b[0m\u001b[0m\n\u001b[0;32m----> 7\u001b[0;31m         \u001b[0mdf_clothes_cleaned\u001b[0m \u001b[0;34m=\u001b[0m \u001b[0mdf_clothes_cleaned\u001b[0m\u001b[0;34m.\u001b[0m\u001b[0mappend\u001b[0m\u001b[0;34m(\u001b[0m\u001b[0mpd\u001b[0m\u001b[0;34m.\u001b[0m\u001b[0mDataFrame\u001b[0m\u001b[0;34m(\u001b[0m\u001b[0mdf_clothes_filtered\u001b[0m\u001b[0;34m[\u001b[0m\u001b[0mi\u001b[0m\u001b[0;34m]\u001b[0m\u001b[0;34m.\u001b[0m\u001b[0mtolist\u001b[0m\u001b[0;34m(\u001b[0m\u001b[0;34m)\u001b[0m\u001b[0;34m,\u001b[0m\u001b[0mcolumns\u001b[0m\u001b[0;34m=\u001b[0m\u001b[0;34m[\u001b[0m\u001b[0;34m'table_id'\u001b[0m\u001b[0;34m,\u001b[0m \u001b[0;34m'row_id'\u001b[0m\u001b[0;34m]\u001b[0m\u001b[0;34m,\u001b[0m \u001b[0mindex\u001b[0m\u001b[0;34m=\u001b[0m\u001b[0mdf_clothes_filtered\u001b[0m\u001b[0;34m.\u001b[0m\u001b[0mindex\u001b[0m\u001b[0;34m)\u001b[0m\u001b[0;34m)\u001b[0m\u001b[0;34m\u001b[0m\u001b[0;34m\u001b[0m\u001b[0m\n\u001b[0m\u001b[1;32m      8\u001b[0m         \u001b[0mcount\u001b[0m \u001b[0;34m+=\u001b[0m \u001b[0;36m1\u001b[0m\u001b[0;34m\u001b[0m\u001b[0;34m\u001b[0m\u001b[0m\n\u001b[1;32m      9\u001b[0m         \u001b[0mbar\u001b[0m\u001b[0;34m.\u001b[0m\u001b[0mupdate\u001b[0m\u001b[0;34m(\u001b[0m\u001b[0mcount\u001b[0m\u001b[0;34m)\u001b[0m\u001b[0;34m\u001b[0m\u001b[0;34m\u001b[0m\u001b[0m\n",
      "\u001b[0;32m~/anaconda3/lib/python3.8/site-packages/pandas/core/frame.py\u001b[0m in \u001b[0;36mappend\u001b[0;34m(self, other, ignore_index, verify_integrity, sort)\u001b[0m\n\u001b[1;32m   7980\u001b[0m             \u001b[0mto_concat\u001b[0m \u001b[0;34m=\u001b[0m \u001b[0;34m[\u001b[0m\u001b[0mself\u001b[0m\u001b[0;34m,\u001b[0m \u001b[0mother\u001b[0m\u001b[0;34m]\u001b[0m\u001b[0;34m\u001b[0m\u001b[0;34m\u001b[0m\u001b[0m\n\u001b[1;32m   7981\u001b[0m         return (\n\u001b[0;32m-> 7982\u001b[0;31m             concat(\n\u001b[0m\u001b[1;32m   7983\u001b[0m                 \u001b[0mto_concat\u001b[0m\u001b[0;34m,\u001b[0m\u001b[0;34m\u001b[0m\u001b[0;34m\u001b[0m\u001b[0m\n\u001b[1;32m   7984\u001b[0m                 \u001b[0mignore_index\u001b[0m\u001b[0;34m=\u001b[0m\u001b[0mignore_index\u001b[0m\u001b[0;34m,\u001b[0m\u001b[0;34m\u001b[0m\u001b[0;34m\u001b[0m\u001b[0m\n",
      "\u001b[0;32m~/anaconda3/lib/python3.8/site-packages/pandas/core/reshape/concat.py\u001b[0m in \u001b[0;36mconcat\u001b[0;34m(objs, axis, join, ignore_index, keys, levels, names, verify_integrity, sort, copy)\u001b[0m\n\u001b[1;32m    296\u001b[0m     )\n\u001b[1;32m    297\u001b[0m \u001b[0;34m\u001b[0m\u001b[0m\n\u001b[0;32m--> 298\u001b[0;31m     \u001b[0;32mreturn\u001b[0m \u001b[0mop\u001b[0m\u001b[0;34m.\u001b[0m\u001b[0mget_result\u001b[0m\u001b[0;34m(\u001b[0m\u001b[0;34m)\u001b[0m\u001b[0;34m\u001b[0m\u001b[0;34m\u001b[0m\u001b[0m\n\u001b[0m\u001b[1;32m    299\u001b[0m \u001b[0;34m\u001b[0m\u001b[0m\n\u001b[1;32m    300\u001b[0m \u001b[0;34m\u001b[0m\u001b[0m\n",
      "\u001b[0;32m~/anaconda3/lib/python3.8/site-packages/pandas/core/reshape/concat.py\u001b[0m in \u001b[0;36mget_result\u001b[0;34m(self)\u001b[0m\n\u001b[1;32m    518\u001b[0m                 \u001b[0mmgrs_indexers\u001b[0m\u001b[0;34m.\u001b[0m\u001b[0mappend\u001b[0m\u001b[0;34m(\u001b[0m\u001b[0;34m(\u001b[0m\u001b[0mobj\u001b[0m\u001b[0;34m.\u001b[0m\u001b[0m_mgr\u001b[0m\u001b[0;34m,\u001b[0m \u001b[0mindexers\u001b[0m\u001b[0;34m)\u001b[0m\u001b[0;34m)\u001b[0m\u001b[0;34m\u001b[0m\u001b[0;34m\u001b[0m\u001b[0m\n\u001b[1;32m    519\u001b[0m \u001b[0;34m\u001b[0m\u001b[0m\n\u001b[0;32m--> 520\u001b[0;31m             new_data = concatenate_block_managers(\n\u001b[0m\u001b[1;32m    521\u001b[0m                 \u001b[0mmgrs_indexers\u001b[0m\u001b[0;34m,\u001b[0m \u001b[0mself\u001b[0m\u001b[0;34m.\u001b[0m\u001b[0mnew_axes\u001b[0m\u001b[0;34m,\u001b[0m \u001b[0mconcat_axis\u001b[0m\u001b[0;34m=\u001b[0m\u001b[0mself\u001b[0m\u001b[0;34m.\u001b[0m\u001b[0mbm_axis\u001b[0m\u001b[0;34m,\u001b[0m \u001b[0mcopy\u001b[0m\u001b[0;34m=\u001b[0m\u001b[0mself\u001b[0m\u001b[0;34m.\u001b[0m\u001b[0mcopy\u001b[0m\u001b[0;34m\u001b[0m\u001b[0;34m\u001b[0m\u001b[0m\n\u001b[1;32m    522\u001b[0m             )\n",
      "\u001b[0;32m~/anaconda3/lib/python3.8/site-packages/pandas/core/internals/concat.py\u001b[0m in \u001b[0;36mconcatenate_block_managers\u001b[0;34m(mgrs_indexers, axes, concat_axis, copy)\u001b[0m\n\u001b[1;32m     71\u001b[0m \u001b[0;34m\u001b[0m\u001b[0m\n\u001b[1;32m     72\u001b[0m             \u001b[0;32mif\u001b[0m \u001b[0;32mnot\u001b[0m \u001b[0mblk\u001b[0m\u001b[0;34m.\u001b[0m\u001b[0mis_extension\u001b[0m\u001b[0;34m:\u001b[0m\u001b[0;34m\u001b[0m\u001b[0;34m\u001b[0m\u001b[0m\n\u001b[0;32m---> 73\u001b[0;31m                 \u001b[0mvalues\u001b[0m \u001b[0;34m=\u001b[0m \u001b[0mconcat_compat\u001b[0m\u001b[0;34m(\u001b[0m\u001b[0mvals\u001b[0m\u001b[0;34m,\u001b[0m \u001b[0maxis\u001b[0m\u001b[0;34m=\u001b[0m\u001b[0mblk\u001b[0m\u001b[0;34m.\u001b[0m\u001b[0mndim\u001b[0m \u001b[0;34m-\u001b[0m \u001b[0;36m1\u001b[0m\u001b[0;34m)\u001b[0m\u001b[0;34m\u001b[0m\u001b[0;34m\u001b[0m\u001b[0m\n\u001b[0m\u001b[1;32m     74\u001b[0m             \u001b[0;32melse\u001b[0m\u001b[0;34m:\u001b[0m\u001b[0;34m\u001b[0m\u001b[0;34m\u001b[0m\u001b[0m\n\u001b[1;32m     75\u001b[0m                 \u001b[0;31m# TODO(EA2D): special-casing not needed with 2D EAs\u001b[0m\u001b[0;34m\u001b[0m\u001b[0;34m\u001b[0m\u001b[0;34m\u001b[0m\u001b[0m\n",
      "\u001b[0;32m~/anaconda3/lib/python3.8/site-packages/pandas/core/dtypes/concat.py\u001b[0m in \u001b[0;36mconcat_compat\u001b[0;34m(to_concat, axis)\u001b[0m\n\u001b[1;32m    169\u001b[0m                 \u001b[0mto_concat\u001b[0m \u001b[0;34m=\u001b[0m \u001b[0;34m[\u001b[0m\u001b[0mx\u001b[0m\u001b[0;34m.\u001b[0m\u001b[0mastype\u001b[0m\u001b[0;34m(\u001b[0m\u001b[0;34m\"object\"\u001b[0m\u001b[0;34m)\u001b[0m \u001b[0;32mfor\u001b[0m \u001b[0mx\u001b[0m \u001b[0;32min\u001b[0m \u001b[0mto_concat\u001b[0m\u001b[0;34m]\u001b[0m\u001b[0;34m\u001b[0m\u001b[0;34m\u001b[0m\u001b[0m\n\u001b[1;32m    170\u001b[0m \u001b[0;34m\u001b[0m\u001b[0m\n\u001b[0;32m--> 171\u001b[0;31m     \u001b[0;32mreturn\u001b[0m \u001b[0mnp\u001b[0m\u001b[0;34m.\u001b[0m\u001b[0mconcatenate\u001b[0m\u001b[0;34m(\u001b[0m\u001b[0mto_concat\u001b[0m\u001b[0;34m,\u001b[0m \u001b[0maxis\u001b[0m\u001b[0;34m=\u001b[0m\u001b[0maxis\u001b[0m\u001b[0;34m)\u001b[0m\u001b[0;34m\u001b[0m\u001b[0;34m\u001b[0m\u001b[0m\n\u001b[0m\u001b[1;32m    172\u001b[0m \u001b[0;34m\u001b[0m\u001b[0m\n\u001b[1;32m    173\u001b[0m \u001b[0;34m\u001b[0m\u001b[0m\n",
      "\u001b[0;32m<__array_function__ internals>\u001b[0m in \u001b[0;36mconcatenate\u001b[0;34m(*args, **kwargs)\u001b[0m\n",
      "\u001b[0;31mKeyboardInterrupt\u001b[0m: "
     ]
    }
   ],
   "source": [
    "#clean up the tables\n",
    "#split up tuples in in each column for each brand into two different columns table_id and row_id and concatente these rows\n",
    "df_clothes_cleaned=pd.DataFrame(columns=['table_id', 'row_id'])\n",
    "count = 0\n",
    "with progressbar.ProgressBar(max_value=len(df_clothes_filtered.columns)) as bar:\n",
    "    for i in range(len(df_clothes_filtered.columns)):\n",
    "        df_clothes_cleaned = df_clothes_cleaned.append(pd.DataFrame(df_clothes_filtered[i].tolist(),columns=['table_id', 'row_id'], index=df_clothes_filtered.index))\n",
    "        count += 1\n",
    "        bar.update(count)"
   ]
  },
  {
   "cell_type": "code",
   "execution_count": null,
   "metadata": {},
   "outputs": [],
   "source": [
    "#rename the columns to be able to join them into the cluster_id table\n",
    "df_electronics_cleaned=df_electronics_cleaned.reset_index().rename(columns={'index':\"brand\"})\n",
    "df_electronics_cleaned"
   ]
  },
  {
   "cell_type": "code",
   "execution_count": null,
   "metadata": {},
   "outputs": [],
   "source": [
    "#rename the columns to be able to join them into the cluster_id table\n",
    "df_clothes_cleaned=df_clothes_cleaned.reset_index().rename(columns={'index':\"brand\"})\n",
    "df_clothes_cleaned"
   ]
  },
  {
   "cell_type": "code",
   "execution_count": null,
   "metadata": {},
   "outputs": [],
   "source": [
    "#join the tables to the cluster tables by using left joins\n",
    "#filled up zero values will be discarded by the join condition\n",
    "df_joined_electronics = df_large.merge(df_electronics_cleaned, left_on=['table_id','row_id'], right_on = ['table_id','row_id'], how='left')"
   ]
  },
  {
   "cell_type": "code",
   "execution_count": null,
   "metadata": {},
   "outputs": [],
   "source": [
    "df_joined_electronics.to_json(mapping_corpus_path_2 + '/joined_electronics', compression='gzip', orient='records', lines=True)"
   ]
  },
  {
   "cell_type": "code",
   "execution_count": 5,
   "metadata": {},
   "outputs": [],
   "source": [
    "df_joined_electronics = pd.read_json(os.path.join(mapping_corpus_path_2, 'joined_electronics'), compression='gzip', orient='records', lines=True)"
   ]
  },
  {
   "cell_type": "code",
   "execution_count": 6,
   "metadata": {},
   "outputs": [
    {
     "data": {
      "text/html": [
       "<div>\n",
       "<style scoped>\n",
       "    .dataframe tbody tr th:only-of-type {\n",
       "        vertical-align: middle;\n",
       "    }\n",
       "\n",
       "    .dataframe tbody tr th {\n",
       "        vertical-align: top;\n",
       "    }\n",
       "\n",
       "    .dataframe thead th {\n",
       "        text-align: right;\n",
       "    }\n",
       "</style>\n",
       "<table border=\"1\" class=\"dataframe\">\n",
       "  <thead>\n",
       "    <tr style=\"text-align: right;\">\n",
       "      <th></th>\n",
       "      <th>cluster_id</th>\n",
       "      <th>url</th>\n",
       "      <th>row_id</th>\n",
       "      <th>table_id</th>\n",
       "      <th>Valid</th>\n",
       "      <th>brand</th>\n",
       "    </tr>\n",
       "  </thead>\n",
       "  <tbody>\n",
       "    <tr>\n",
       "      <th>0</th>\n",
       "      <td>59178314</td>\n",
       "      <td>https://www.cultureindoor.com/796-irrigation-a...</td>\n",
       "      <td>1561</td>\n",
       "      <td>Product_cultureindoor.com_September2020.json.gz</td>\n",
       "      <td>1</td>\n",
       "      <td>None</td>\n",
       "    </tr>\n",
       "    <tr>\n",
       "      <th>1</th>\n",
       "      <td>70692685</td>\n",
       "      <td>https://www.culturekings.com/products/new-era-...</td>\n",
       "      <td>3893</td>\n",
       "      <td>Product_culturekings.com_September2020.json.gz</td>\n",
       "      <td>1</td>\n",
       "      <td>None</td>\n",
       "    </tr>\n",
       "    <tr>\n",
       "      <th>2</th>\n",
       "      <td>395606</td>\n",
       "      <td>https://www.culturekings.com/products/new-era-...</td>\n",
       "      <td>3894</td>\n",
       "      <td>Product_culturekings.com_September2020.json.gz</td>\n",
       "      <td>1</td>\n",
       "      <td>None</td>\n",
       "    </tr>\n",
       "    <tr>\n",
       "      <th>3</th>\n",
       "      <td>3361797</td>\n",
       "      <td>https://www.customizedgirl.com/design/2605608/...</td>\n",
       "      <td>9318</td>\n",
       "      <td>Product_customizedgirl.com_September2020.json.gz</td>\n",
       "      <td>1</td>\n",
       "      <td>None</td>\n",
       "    </tr>\n",
       "    <tr>\n",
       "      <th>4</th>\n",
       "      <td>235755</td>\n",
       "      <td>https://www.customizedgirl.com/design/2613423/...</td>\n",
       "      <td>9319</td>\n",
       "      <td>Product_customizedgirl.com_September2020.json.gz</td>\n",
       "      <td>1</td>\n",
       "      <td>None</td>\n",
       "    </tr>\n",
       "    <tr>\n",
       "      <th>...</th>\n",
       "      <td>...</td>\n",
       "      <td>...</td>\n",
       "      <td>...</td>\n",
       "      <td>...</td>\n",
       "      <td>...</td>\n",
       "      <td>...</td>\n",
       "    </tr>\n",
       "    <tr>\n",
       "      <th>24687502</th>\n",
       "      <td>8653717</td>\n",
       "      <td>https://shop-list.com/women/utuwa-tatara/sg323...</td>\n",
       "      <td>1620</td>\n",
       "      <td>Product_shop-list.com_September2020.json.gz</td>\n",
       "      <td>1</td>\n",
       "      <td>None</td>\n",
       "    </tr>\n",
       "    <tr>\n",
       "      <th>24687503</th>\n",
       "      <td>22258637</td>\n",
       "      <td>https://shop-list.com/women/youmotto/famille-ltm</td>\n",
       "      <td>1621</td>\n",
       "      <td>Product_shop-list.com_September2020.json.gz</td>\n",
       "      <td>1</td>\n",
       "      <td>None</td>\n",
       "    </tr>\n",
       "    <tr>\n",
       "      <th>24687504</th>\n",
       "      <td>41434658</td>\n",
       "      <td>https://shop.agwaycapecod.com/products/0190147...</td>\n",
       "      <td>126</td>\n",
       "      <td>Product_agwaycapecod.com_September2020.json.gz</td>\n",
       "      <td>1</td>\n",
       "      <td>None</td>\n",
       "    </tr>\n",
       "    <tr>\n",
       "      <th>24687505</th>\n",
       "      <td>62702145</td>\n",
       "      <td>https://shop.agwaycapecod.com/products/0373214...</td>\n",
       "      <td>127</td>\n",
       "      <td>Product_agwaycapecod.com_September2020.json.gz</td>\n",
       "      <td>1</td>\n",
       "      <td>None</td>\n",
       "    </tr>\n",
       "    <tr>\n",
       "      <th>24687506</th>\n",
       "      <td>60936713</td>\n",
       "      <td>https://shop.areefcreation.com/products/ls-apr...</td>\n",
       "      <td>120</td>\n",
       "      <td>Product_areefcreation.com_September2020.json.gz</td>\n",
       "      <td>1</td>\n",
       "      <td>None</td>\n",
       "    </tr>\n",
       "  </tbody>\n",
       "</table>\n",
       "<p>24687507 rows × 6 columns</p>\n",
       "</div>"
      ],
      "text/plain": [
       "          cluster_id                                                url  \\\n",
       "0           59178314  https://www.cultureindoor.com/796-irrigation-a...   \n",
       "1           70692685  https://www.culturekings.com/products/new-era-...   \n",
       "2             395606  https://www.culturekings.com/products/new-era-...   \n",
       "3            3361797  https://www.customizedgirl.com/design/2605608/...   \n",
       "4             235755  https://www.customizedgirl.com/design/2613423/...   \n",
       "...              ...                                                ...   \n",
       "24687502     8653717  https://shop-list.com/women/utuwa-tatara/sg323...   \n",
       "24687503    22258637   https://shop-list.com/women/youmotto/famille-ltm   \n",
       "24687504    41434658  https://shop.agwaycapecod.com/products/0190147...   \n",
       "24687505    62702145  https://shop.agwaycapecod.com/products/0373214...   \n",
       "24687506    60936713  https://shop.areefcreation.com/products/ls-apr...   \n",
       "\n",
       "          row_id                                          table_id  Valid  \\\n",
       "0           1561   Product_cultureindoor.com_September2020.json.gz      1   \n",
       "1           3893    Product_culturekings.com_September2020.json.gz      1   \n",
       "2           3894    Product_culturekings.com_September2020.json.gz      1   \n",
       "3           9318  Product_customizedgirl.com_September2020.json.gz      1   \n",
       "4           9319  Product_customizedgirl.com_September2020.json.gz      1   \n",
       "...          ...                                               ...    ...   \n",
       "24687502    1620       Product_shop-list.com_September2020.json.gz      1   \n",
       "24687503    1621       Product_shop-list.com_September2020.json.gz      1   \n",
       "24687504     126    Product_agwaycapecod.com_September2020.json.gz      1   \n",
       "24687505     127    Product_agwaycapecod.com_September2020.json.gz      1   \n",
       "24687506     120   Product_areefcreation.com_September2020.json.gz      1   \n",
       "\n",
       "         brand  \n",
       "0         None  \n",
       "1         None  \n",
       "2         None  \n",
       "3         None  \n",
       "4         None  \n",
       "...        ...  \n",
       "24687502  None  \n",
       "24687503  None  \n",
       "24687504  None  \n",
       "24687505  None  \n",
       "24687506  None  \n",
       "\n",
       "[24687507 rows x 6 columns]"
      ]
     },
     "execution_count": 6,
     "metadata": {},
     "output_type": "execute_result"
    }
   ],
   "source": [
    "df_joined_electronics"
   ]
  },
  {
   "cell_type": "code",
   "execution_count": null,
   "metadata": {},
   "outputs": [],
   "source": [
    "#join the tables to the cluster tables by using left joins \n",
    "#filled up zero values will be discarded by the join condition\n",
    "df_joined_clothes = df_large.merge(df_clothes_cleaned, left_on=['table_id','row_id'], right_on = ['table_id','row_id'], how='left')"
   ]
  },
  {
   "cell_type": "code",
   "execution_count": 7,
   "metadata": {},
   "outputs": [
    {
     "ename": "NameError",
     "evalue": "name 'df_joined_clothes' is not defined",
     "output_type": "error",
     "traceback": [
      "\u001b[0;31m---------------------------------------------------------------------------\u001b[0m",
      "\u001b[0;31mNameError\u001b[0m                                 Traceback (most recent call last)",
      "\u001b[0;32m<ipython-input-7-6619c64b962c>\u001b[0m in \u001b[0;36m<module>\u001b[0;34m\u001b[0m\n\u001b[0;32m----> 1\u001b[0;31m \u001b[0mdf_joined_clothes\u001b[0m\u001b[0;34m.\u001b[0m\u001b[0mto_json\u001b[0m\u001b[0;34m(\u001b[0m\u001b[0mmapping_corpus_path_2\u001b[0m \u001b[0;34m+\u001b[0m \u001b[0;34m'/joined_clothes'\u001b[0m\u001b[0;34m,\u001b[0m \u001b[0mcompression\u001b[0m\u001b[0;34m=\u001b[0m\u001b[0;34m'gzip'\u001b[0m\u001b[0;34m,\u001b[0m \u001b[0morient\u001b[0m\u001b[0;34m=\u001b[0m\u001b[0;34m'records'\u001b[0m\u001b[0;34m,\u001b[0m \u001b[0mlines\u001b[0m\u001b[0;34m=\u001b[0m\u001b[0;32mTrue\u001b[0m\u001b[0;34m)\u001b[0m\u001b[0;34m\u001b[0m\u001b[0;34m\u001b[0m\u001b[0m\n\u001b[0m",
      "\u001b[0;31mNameError\u001b[0m: name 'df_joined_clothes' is not defined"
     ]
    }
   ],
   "source": [
    "df_joined_clothes.to_json(mapping_corpus_path_2 + '/joined_clothes', compression='gzip', orient='records', lines=True)"
   ]
  },
  {
   "cell_type": "code",
   "execution_count": 8,
   "metadata": {},
   "outputs": [
    {
     "data": {
      "text/html": [
       "<div>\n",
       "<style scoped>\n",
       "    .dataframe tbody tr th:only-of-type {\n",
       "        vertical-align: middle;\n",
       "    }\n",
       "\n",
       "    .dataframe tbody tr th {\n",
       "        vertical-align: top;\n",
       "    }\n",
       "\n",
       "    .dataframe thead th {\n",
       "        text-align: right;\n",
       "    }\n",
       "</style>\n",
       "<table border=\"1\" class=\"dataframe\">\n",
       "  <thead>\n",
       "    <tr style=\"text-align: right;\">\n",
       "      <th></th>\n",
       "      <th>cluster_id</th>\n",
       "      <th>url</th>\n",
       "      <th>row_id</th>\n",
       "      <th>table_id</th>\n",
       "      <th>Valid</th>\n",
       "      <th>brand</th>\n",
       "    </tr>\n",
       "  </thead>\n",
       "  <tbody>\n",
       "    <tr>\n",
       "      <th>0</th>\n",
       "      <td>59178314</td>\n",
       "      <td>https://www.cultureindoor.com/796-irrigation-a...</td>\n",
       "      <td>1561</td>\n",
       "      <td>Product_cultureindoor.com_September2020.json.gz</td>\n",
       "      <td>1</td>\n",
       "      <td>None</td>\n",
       "    </tr>\n",
       "    <tr>\n",
       "      <th>1</th>\n",
       "      <td>70692685</td>\n",
       "      <td>https://www.culturekings.com/products/new-era-...</td>\n",
       "      <td>3893</td>\n",
       "      <td>Product_culturekings.com_September2020.json.gz</td>\n",
       "      <td>1</td>\n",
       "      <td>None</td>\n",
       "    </tr>\n",
       "    <tr>\n",
       "      <th>2</th>\n",
       "      <td>395606</td>\n",
       "      <td>https://www.culturekings.com/products/new-era-...</td>\n",
       "      <td>3894</td>\n",
       "      <td>Product_culturekings.com_September2020.json.gz</td>\n",
       "      <td>1</td>\n",
       "      <td>None</td>\n",
       "    </tr>\n",
       "    <tr>\n",
       "      <th>3</th>\n",
       "      <td>3361797</td>\n",
       "      <td>https://www.customizedgirl.com/design/2605608/...</td>\n",
       "      <td>9318</td>\n",
       "      <td>Product_customizedgirl.com_September2020.json.gz</td>\n",
       "      <td>1</td>\n",
       "      <td>None</td>\n",
       "    </tr>\n",
       "    <tr>\n",
       "      <th>4</th>\n",
       "      <td>235755</td>\n",
       "      <td>https://www.customizedgirl.com/design/2613423/...</td>\n",
       "      <td>9319</td>\n",
       "      <td>Product_customizedgirl.com_September2020.json.gz</td>\n",
       "      <td>1</td>\n",
       "      <td>None</td>\n",
       "    </tr>\n",
       "    <tr>\n",
       "      <th>...</th>\n",
       "      <td>...</td>\n",
       "      <td>...</td>\n",
       "      <td>...</td>\n",
       "      <td>...</td>\n",
       "      <td>...</td>\n",
       "      <td>...</td>\n",
       "    </tr>\n",
       "    <tr>\n",
       "      <th>24687502</th>\n",
       "      <td>8653717</td>\n",
       "      <td>https://shop-list.com/women/utuwa-tatara/sg323...</td>\n",
       "      <td>1620</td>\n",
       "      <td>Product_shop-list.com_September2020.json.gz</td>\n",
       "      <td>1</td>\n",
       "      <td>None</td>\n",
       "    </tr>\n",
       "    <tr>\n",
       "      <th>24687503</th>\n",
       "      <td>22258637</td>\n",
       "      <td>https://shop-list.com/women/youmotto/famille-ltm</td>\n",
       "      <td>1621</td>\n",
       "      <td>Product_shop-list.com_September2020.json.gz</td>\n",
       "      <td>1</td>\n",
       "      <td>None</td>\n",
       "    </tr>\n",
       "    <tr>\n",
       "      <th>24687504</th>\n",
       "      <td>41434658</td>\n",
       "      <td>https://shop.agwaycapecod.com/products/0190147...</td>\n",
       "      <td>126</td>\n",
       "      <td>Product_agwaycapecod.com_September2020.json.gz</td>\n",
       "      <td>1</td>\n",
       "      <td>None</td>\n",
       "    </tr>\n",
       "    <tr>\n",
       "      <th>24687505</th>\n",
       "      <td>62702145</td>\n",
       "      <td>https://shop.agwaycapecod.com/products/0373214...</td>\n",
       "      <td>127</td>\n",
       "      <td>Product_agwaycapecod.com_September2020.json.gz</td>\n",
       "      <td>1</td>\n",
       "      <td>None</td>\n",
       "    </tr>\n",
       "    <tr>\n",
       "      <th>24687506</th>\n",
       "      <td>60936713</td>\n",
       "      <td>https://shop.areefcreation.com/products/ls-apr...</td>\n",
       "      <td>120</td>\n",
       "      <td>Product_areefcreation.com_September2020.json.gz</td>\n",
       "      <td>1</td>\n",
       "      <td>None</td>\n",
       "    </tr>\n",
       "  </tbody>\n",
       "</table>\n",
       "<p>24687507 rows × 6 columns</p>\n",
       "</div>"
      ],
      "text/plain": [
       "          cluster_id                                                url  \\\n",
       "0           59178314  https://www.cultureindoor.com/796-irrigation-a...   \n",
       "1           70692685  https://www.culturekings.com/products/new-era-...   \n",
       "2             395606  https://www.culturekings.com/products/new-era-...   \n",
       "3            3361797  https://www.customizedgirl.com/design/2605608/...   \n",
       "4             235755  https://www.customizedgirl.com/design/2613423/...   \n",
       "...              ...                                                ...   \n",
       "24687502     8653717  https://shop-list.com/women/utuwa-tatara/sg323...   \n",
       "24687503    22258637   https://shop-list.com/women/youmotto/famille-ltm   \n",
       "24687504    41434658  https://shop.agwaycapecod.com/products/0190147...   \n",
       "24687505    62702145  https://shop.agwaycapecod.com/products/0373214...   \n",
       "24687506    60936713  https://shop.areefcreation.com/products/ls-apr...   \n",
       "\n",
       "          row_id                                          table_id  Valid  \\\n",
       "0           1561   Product_cultureindoor.com_September2020.json.gz      1   \n",
       "1           3893    Product_culturekings.com_September2020.json.gz      1   \n",
       "2           3894    Product_culturekings.com_September2020.json.gz      1   \n",
       "3           9318  Product_customizedgirl.com_September2020.json.gz      1   \n",
       "4           9319  Product_customizedgirl.com_September2020.json.gz      1   \n",
       "...          ...                                               ...    ...   \n",
       "24687502    1620       Product_shop-list.com_September2020.json.gz      1   \n",
       "24687503    1621       Product_shop-list.com_September2020.json.gz      1   \n",
       "24687504     126    Product_agwaycapecod.com_September2020.json.gz      1   \n",
       "24687505     127    Product_agwaycapecod.com_September2020.json.gz      1   \n",
       "24687506     120   Product_areefcreation.com_September2020.json.gz      1   \n",
       "\n",
       "         brand  \n",
       "0         None  \n",
       "1         None  \n",
       "2         None  \n",
       "3         None  \n",
       "4         None  \n",
       "...        ...  \n",
       "24687502  None  \n",
       "24687503  None  \n",
       "24687504  None  \n",
       "24687505  None  \n",
       "24687506  None  \n",
       "\n",
       "[24687507 rows x 6 columns]"
      ]
     },
     "execution_count": 8,
     "metadata": {},
     "output_type": "execute_result"
    }
   ],
   "source": [
    "df_joined_clothes = pd.read_json(os.path.join(mapping_corpus_path_2, 'joined_clothes'), compression='gzip', orient='records', lines=True)\n",
    "df_joined_clothes"
   ]
  },
  {
   "cell_type": "code",
   "execution_count": null,
   "metadata": {},
   "outputs": [],
   "source": [
    "# df_tables_count=df_join.groupby('cluster_id').count()\n",
    "# df_tables_count[df_tables_count['brand']>2]"
   ]
  },
  {
   "cell_type": "markdown",
   "metadata": {},
   "source": [
    "## Cluster statistics for product category electronics"
   ]
  },
  {
   "cell_type": "code",
   "execution_count": 4,
   "metadata": {},
   "outputs": [],
   "source": [
    "df_joined_electronics = pd.read_json(os.path.join(mapping_corpus_path_2, 'joined_electronics_v2'), compression='gzip', orient='records', lines=True)"
   ]
  },
  {
   "cell_type": "code",
   "execution_count": 5,
   "metadata": {},
   "outputs": [],
   "source": [
    "df_grouped_electronics = df_joined_electronics.groupby('cluster_id').count()"
   ]
  },
  {
   "cell_type": "code",
   "execution_count": 9,
   "metadata": {},
   "outputs": [],
   "source": [
    "# only look at clusters that have at least one brand associated\n",
    "df_set_electronics = df_grouped_electronics[df_grouped_electronics['brand_y']>0].reset_index()[['cluster_id','table_id']].rename(columns={'table_id':'Amount'})"
   ]
  },
  {
   "cell_type": "code",
   "execution_count": 10,
   "metadata": {},
   "outputs": [
    {
     "data": {
      "text/html": [
       "<div>\n",
       "<style scoped>\n",
       "    .dataframe tbody tr th:only-of-type {\n",
       "        vertical-align: middle;\n",
       "    }\n",
       "\n",
       "    .dataframe tbody tr th {\n",
       "        vertical-align: top;\n",
       "    }\n",
       "\n",
       "    .dataframe thead th {\n",
       "        text-align: right;\n",
       "    }\n",
       "</style>\n",
       "<table border=\"1\" class=\"dataframe\">\n",
       "  <thead>\n",
       "    <tr style=\"text-align: right;\">\n",
       "      <th></th>\n",
       "      <th>cluster_id</th>\n",
       "      <th>Amount</th>\n",
       "    </tr>\n",
       "  </thead>\n",
       "  <tbody>\n",
       "    <tr>\n",
       "      <th>0</th>\n",
       "      <td>419</td>\n",
       "      <td>6</td>\n",
       "    </tr>\n",
       "    <tr>\n",
       "      <th>4</th>\n",
       "      <td>968</td>\n",
       "      <td>4</td>\n",
       "    </tr>\n",
       "    <tr>\n",
       "      <th>5</th>\n",
       "      <td>985</td>\n",
       "      <td>14</td>\n",
       "    </tr>\n",
       "    <tr>\n",
       "      <th>6</th>\n",
       "      <td>997</td>\n",
       "      <td>3</td>\n",
       "    </tr>\n",
       "    <tr>\n",
       "      <th>7</th>\n",
       "      <td>1040</td>\n",
       "      <td>21</td>\n",
       "    </tr>\n",
       "    <tr>\n",
       "      <th>...</th>\n",
       "      <td>...</td>\n",
       "      <td>...</td>\n",
       "    </tr>\n",
       "    <tr>\n",
       "      <th>113412</th>\n",
       "      <td>80449645</td>\n",
       "      <td>2</td>\n",
       "    </tr>\n",
       "    <tr>\n",
       "      <th>113413</th>\n",
       "      <td>80449702</td>\n",
       "      <td>3</td>\n",
       "    </tr>\n",
       "    <tr>\n",
       "      <th>113414</th>\n",
       "      <td>80449752</td>\n",
       "      <td>3</td>\n",
       "    </tr>\n",
       "    <tr>\n",
       "      <th>113415</th>\n",
       "      <td>80449777</td>\n",
       "      <td>2</td>\n",
       "    </tr>\n",
       "    <tr>\n",
       "      <th>113438</th>\n",
       "      <td>80469264</td>\n",
       "      <td>3</td>\n",
       "    </tr>\n",
       "  </tbody>\n",
       "</table>\n",
       "<p>16134 rows × 2 columns</p>\n",
       "</div>"
      ],
      "text/plain": [
       "        cluster_id  Amount\n",
       "0              419       6\n",
       "4              968       4\n",
       "5              985      14\n",
       "6              997       3\n",
       "7             1040      21\n",
       "...            ...     ...\n",
       "113412    80449645       2\n",
       "113413    80449702       3\n",
       "113414    80449752       3\n",
       "113415    80449777       2\n",
       "113438    80469264       3\n",
       "\n",
       "[16134 rows x 2 columns]"
      ]
     },
     "execution_count": 10,
     "metadata": {},
     "output_type": "execute_result"
    }
   ],
   "source": [
    "# We discard all clusters with less than 2 entries, cause we cannot match anything there, so 1,6 million clusters remain\n",
    "df_set_electronics=df_set_electronics[df_set_electronics['Amount']>1]\n",
    "df_set_electronics"
   ]
  },
  {
   "cell_type": "code",
   "execution_count": 11,
   "metadata": {},
   "outputs": [
    {
     "data": {
      "text/html": [
       "<div>\n",
       "<style scoped>\n",
       "    .dataframe tbody tr th:only-of-type {\n",
       "        vertical-align: middle;\n",
       "    }\n",
       "\n",
       "    .dataframe tbody tr th {\n",
       "        vertical-align: top;\n",
       "    }\n",
       "\n",
       "    .dataframe thead th {\n",
       "        text-align: right;\n",
       "    }\n",
       "</style>\n",
       "<table border=\"1\" class=\"dataframe\">\n",
       "  <thead>\n",
       "    <tr style=\"text-align: right;\">\n",
       "      <th></th>\n",
       "      <th>count</th>\n",
       "      <th>mean</th>\n",
       "      <th>std</th>\n",
       "      <th>min</th>\n",
       "      <th>25%</th>\n",
       "      <th>50%</th>\n",
       "      <th>75%</th>\n",
       "      <th>max</th>\n",
       "    </tr>\n",
       "  </thead>\n",
       "  <tbody>\n",
       "    <tr>\n",
       "      <th>Amount</th>\n",
       "      <td>16134.0</td>\n",
       "      <td>5.0</td>\n",
       "      <td>25.0</td>\n",
       "      <td>2.0</td>\n",
       "      <td>2.0</td>\n",
       "      <td>2.0</td>\n",
       "      <td>4.0</td>\n",
       "      <td>2600.0</td>\n",
       "    </tr>\n",
       "  </tbody>\n",
       "</table>\n",
       "</div>"
      ],
      "text/plain": [
       "          count  mean   std  min  25%  50%  75%     max\n",
       "Amount  16134.0   5.0  25.0  2.0  2.0  2.0  4.0  2600.0"
      ]
     },
     "execution_count": 11,
     "metadata": {},
     "output_type": "execute_result"
    }
   ],
   "source": [
    "df_set_electronics.set_index('cluster_id').describe().T.round()"
   ]
  },
  {
   "cell_type": "code",
   "execution_count": 12,
   "metadata": {},
   "outputs": [
    {
     "data": {
      "text/plain": [
       "<AxesSubplot:ylabel='Frequency'>"
      ]
     },
     "execution_count": 12,
     "metadata": {},
     "output_type": "execute_result"
    },
    {
     "data": {
      "image/png": "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\n",
      "text/plain": [
       "<Figure size 432x288 with 1 Axes>"
      ]
     },
     "metadata": {
      "needs_background": "light"
     },
     "output_type": "display_data"
    }
   ],
   "source": [
    "df_set_electronics.plot(x='cluster_id',y='Amount',kind='hist')"
   ]
  },
  {
   "cell_type": "code",
   "execution_count": 13,
   "metadata": {},
   "outputs": [
    {
     "data": {
      "text/html": [
       "<div>\n",
       "<style scoped>\n",
       "    .dataframe tbody tr th:only-of-type {\n",
       "        vertical-align: middle;\n",
       "    }\n",
       "\n",
       "    .dataframe tbody tr th {\n",
       "        vertical-align: top;\n",
       "    }\n",
       "\n",
       "    .dataframe thead th {\n",
       "        text-align: right;\n",
       "    }\n",
       "</style>\n",
       "<table border=\"1\" class=\"dataframe\">\n",
       "  <thead>\n",
       "    <tr style=\"text-align: right;\">\n",
       "      <th></th>\n",
       "      <th>cluster_id</th>\n",
       "      <th>Amount</th>\n",
       "    </tr>\n",
       "  </thead>\n",
       "  <tbody>\n",
       "    <tr>\n",
       "      <th>5</th>\n",
       "      <td>985</td>\n",
       "      <td>14</td>\n",
       "    </tr>\n",
       "    <tr>\n",
       "      <th>7</th>\n",
       "      <td>1040</td>\n",
       "      <td>21</td>\n",
       "    </tr>\n",
       "    <tr>\n",
       "      <th>19</th>\n",
       "      <td>3668</td>\n",
       "      <td>15</td>\n",
       "    </tr>\n",
       "    <tr>\n",
       "      <th>26</th>\n",
       "      <td>6076</td>\n",
       "      <td>19</td>\n",
       "    </tr>\n",
       "    <tr>\n",
       "      <th>27</th>\n",
       "      <td>6443</td>\n",
       "      <td>25</td>\n",
       "    </tr>\n",
       "    <tr>\n",
       "      <th>...</th>\n",
       "      <td>...</td>\n",
       "      <td>...</td>\n",
       "    </tr>\n",
       "    <tr>\n",
       "      <th>108804</th>\n",
       "      <td>76869317</td>\n",
       "      <td>60</td>\n",
       "    </tr>\n",
       "    <tr>\n",
       "      <th>110646</th>\n",
       "      <td>78260404</td>\n",
       "      <td>80</td>\n",
       "    </tr>\n",
       "    <tr>\n",
       "      <th>112351</th>\n",
       "      <td>79512161</td>\n",
       "      <td>16</td>\n",
       "    </tr>\n",
       "    <tr>\n",
       "      <th>112994</th>\n",
       "      <td>80097153</td>\n",
       "      <td>60</td>\n",
       "    </tr>\n",
       "    <tr>\n",
       "      <th>112995</th>\n",
       "      <td>80097161</td>\n",
       "      <td>37</td>\n",
       "    </tr>\n",
       "  </tbody>\n",
       "</table>\n",
       "<p>829 rows × 2 columns</p>\n",
       "</div>"
      ],
      "text/plain": [
       "        cluster_id  Amount\n",
       "5              985      14\n",
       "7             1040      21\n",
       "19            3668      15\n",
       "26            6076      19\n",
       "27            6443      25\n",
       "...            ...     ...\n",
       "108804    76869317      60\n",
       "110646    78260404      80\n",
       "112351    79512161      16\n",
       "112994    80097153      60\n",
       "112995    80097161      37\n",
       "\n",
       "[829 rows x 2 columns]"
      ]
     },
     "execution_count": 13,
     "metadata": {},
     "output_type": "execute_result"
    }
   ],
   "source": [
    "# filter on clusters with more entries to get information, here are still 20k clusters left\n",
    "df_10_electronics=df_set_electronics[df_set_electronics['Amount']>10]\n",
    "df_10_electronics"
   ]
  },
  {
   "cell_type": "code",
   "execution_count": 41,
   "metadata": {},
   "outputs": [
    {
     "data": {
      "text/plain": [
       "cluster_id    80097161\n",
       "Amount            2600\n",
       "dtype: int64"
      ]
     },
     "execution_count": 41,
     "metadata": {},
     "output_type": "execute_result"
    }
   ],
   "source": [
    "df_10_electronics.max()"
   ]
  },
  {
   "cell_type": "code",
   "execution_count": 14,
   "metadata": {},
   "outputs": [
    {
     "data": {
      "text/html": [
       "<div>\n",
       "<style scoped>\n",
       "    .dataframe tbody tr th:only-of-type {\n",
       "        vertical-align: middle;\n",
       "    }\n",
       "\n",
       "    .dataframe tbody tr th {\n",
       "        vertical-align: top;\n",
       "    }\n",
       "\n",
       "    .dataframe thead th {\n",
       "        text-align: right;\n",
       "    }\n",
       "</style>\n",
       "<table border=\"1\" class=\"dataframe\">\n",
       "  <thead>\n",
       "    <tr style=\"text-align: right;\">\n",
       "      <th></th>\n",
       "      <th>count</th>\n",
       "      <th>mean</th>\n",
       "      <th>std</th>\n",
       "      <th>min</th>\n",
       "      <th>25%</th>\n",
       "      <th>50%</th>\n",
       "      <th>75%</th>\n",
       "      <th>max</th>\n",
       "    </tr>\n",
       "  </thead>\n",
       "  <tbody>\n",
       "    <tr>\n",
       "      <th>Amount</th>\n",
       "      <td>829.0</td>\n",
       "      <td>31.0</td>\n",
       "      <td>107.0</td>\n",
       "      <td>11.0</td>\n",
       "      <td>12.0</td>\n",
       "      <td>16.0</td>\n",
       "      <td>25.0</td>\n",
       "      <td>2600.0</td>\n",
       "    </tr>\n",
       "  </tbody>\n",
       "</table>\n",
       "</div>"
      ],
      "text/plain": [
       "        count  mean    std   min   25%   50%   75%     max\n",
       "Amount  829.0  31.0  107.0  11.0  12.0  16.0  25.0  2600.0"
      ]
     },
     "execution_count": 14,
     "metadata": {},
     "output_type": "execute_result"
    }
   ],
   "source": [
    "df_10_electronics.set_index('cluster_id').describe().T.round()"
   ]
  },
  {
   "cell_type": "code",
   "execution_count": 15,
   "metadata": {},
   "outputs": [
    {
     "data": {
      "text/plain": [
       "<AxesSubplot:ylabel='Frequency'>"
      ]
     },
     "execution_count": 15,
     "metadata": {},
     "output_type": "execute_result"
    },
    {
     "data": {
      "image/png": "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\n",
      "text/plain": [
       "<Figure size 432x288 with 1 Axes>"
      ]
     },
     "metadata": {
      "needs_background": "light"
     },
     "output_type": "display_data"
    }
   ],
   "source": [
    "df_10_electronics.plot(x='cluster_id',y='Amount',kind='hist')"
   ]
  },
  {
   "cell_type": "code",
   "execution_count": 16,
   "metadata": {},
   "outputs": [
    {
     "data": {
      "text/html": [
       "<div>\n",
       "<style scoped>\n",
       "    .dataframe tbody tr th:only-of-type {\n",
       "        vertical-align: middle;\n",
       "    }\n",
       "\n",
       "    .dataframe tbody tr th {\n",
       "        vertical-align: top;\n",
       "    }\n",
       "\n",
       "    .dataframe thead th {\n",
       "        text-align: right;\n",
       "    }\n",
       "</style>\n",
       "<table border=\"1\" class=\"dataframe\">\n",
       "  <thead>\n",
       "    <tr style=\"text-align: right;\">\n",
       "      <th></th>\n",
       "      <th>cluster_id</th>\n",
       "      <th>Amount</th>\n",
       "    </tr>\n",
       "  </thead>\n",
       "  <tbody>\n",
       "    <tr>\n",
       "      <th>7</th>\n",
       "      <td>1040</td>\n",
       "      <td>21</td>\n",
       "    </tr>\n",
       "    <tr>\n",
       "      <th>26</th>\n",
       "      <td>6076</td>\n",
       "      <td>19</td>\n",
       "    </tr>\n",
       "    <tr>\n",
       "      <th>27</th>\n",
       "      <td>6443</td>\n",
       "      <td>25</td>\n",
       "    </tr>\n",
       "    <tr>\n",
       "      <th>29</th>\n",
       "      <td>6505</td>\n",
       "      <td>16</td>\n",
       "    </tr>\n",
       "    <tr>\n",
       "      <th>30</th>\n",
       "      <td>6690</td>\n",
       "      <td>20</td>\n",
       "    </tr>\n",
       "    <tr>\n",
       "      <th>...</th>\n",
       "      <td>...</td>\n",
       "      <td>...</td>\n",
       "    </tr>\n",
       "    <tr>\n",
       "      <th>108804</th>\n",
       "      <td>76869317</td>\n",
       "      <td>60</td>\n",
       "    </tr>\n",
       "    <tr>\n",
       "      <th>110646</th>\n",
       "      <td>78260404</td>\n",
       "      <td>80</td>\n",
       "    </tr>\n",
       "    <tr>\n",
       "      <th>112351</th>\n",
       "      <td>79512161</td>\n",
       "      <td>16</td>\n",
       "    </tr>\n",
       "    <tr>\n",
       "      <th>112994</th>\n",
       "      <td>80097153</td>\n",
       "      <td>60</td>\n",
       "    </tr>\n",
       "    <tr>\n",
       "      <th>112995</th>\n",
       "      <td>80097161</td>\n",
       "      <td>37</td>\n",
       "    </tr>\n",
       "  </tbody>\n",
       "</table>\n",
       "<p>416 rows × 2 columns</p>\n",
       "</div>"
      ],
      "text/plain": [
       "        cluster_id  Amount\n",
       "7             1040      21\n",
       "26            6076      19\n",
       "27            6443      25\n",
       "29            6505      16\n",
       "30            6690      20\n",
       "...            ...     ...\n",
       "108804    76869317      60\n",
       "110646    78260404      80\n",
       "112351    79512161      16\n",
       "112994    80097153      60\n",
       "112995    80097161      37\n",
       "\n",
       "[416 rows x 2 columns]"
      ]
     },
     "execution_count": 16,
     "metadata": {},
     "output_type": "execute_result"
    }
   ],
   "source": [
    "df_15_electronics=df_set_electronics[df_set_electronics['Amount']>15]\n",
    "df_15_electronics"
   ]
  },
  {
   "cell_type": "code",
   "execution_count": 17,
   "metadata": {},
   "outputs": [
    {
     "data": {
      "text/html": [
       "<div>\n",
       "<style scoped>\n",
       "    .dataframe tbody tr th:only-of-type {\n",
       "        vertical-align: middle;\n",
       "    }\n",
       "\n",
       "    .dataframe tbody tr th {\n",
       "        vertical-align: top;\n",
       "    }\n",
       "\n",
       "    .dataframe thead th {\n",
       "        text-align: right;\n",
       "    }\n",
       "</style>\n",
       "<table border=\"1\" class=\"dataframe\">\n",
       "  <thead>\n",
       "    <tr style=\"text-align: right;\">\n",
       "      <th></th>\n",
       "      <th>count</th>\n",
       "      <th>mean</th>\n",
       "      <th>std</th>\n",
       "      <th>min</th>\n",
       "      <th>25%</th>\n",
       "      <th>50%</th>\n",
       "      <th>75%</th>\n",
       "      <th>max</th>\n",
       "    </tr>\n",
       "  </thead>\n",
       "  <tbody>\n",
       "    <tr>\n",
       "      <th>Amount</th>\n",
       "      <td>416.0</td>\n",
       "      <td>48.0</td>\n",
       "      <td>148.0</td>\n",
       "      <td>16.0</td>\n",
       "      <td>18.0</td>\n",
       "      <td>25.0</td>\n",
       "      <td>50.0</td>\n",
       "      <td>2600.0</td>\n",
       "    </tr>\n",
       "  </tbody>\n",
       "</table>\n",
       "</div>"
      ],
      "text/plain": [
       "        count  mean    std   min   25%   50%   75%     max\n",
       "Amount  416.0  48.0  148.0  16.0  18.0  25.0  50.0  2600.0"
      ]
     },
     "execution_count": 17,
     "metadata": {},
     "output_type": "execute_result"
    }
   ],
   "source": [
    "df_15_electronics.set_index('cluster_id').describe().T.round()"
   ]
  },
  {
   "cell_type": "code",
   "execution_count": 18,
   "metadata": {},
   "outputs": [
    {
     "data": {
      "text/plain": [
       "<AxesSubplot:ylabel='Frequency'>"
      ]
     },
     "execution_count": 18,
     "metadata": {},
     "output_type": "execute_result"
    },
    {
     "data": {
      "image/png": "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\n",
      "text/plain": [
       "<Figure size 432x288 with 1 Axes>"
      ]
     },
     "metadata": {
      "needs_background": "light"
     },
     "output_type": "display_data"
    }
   ],
   "source": [
    "df_15_electronics.plot(x='cluster_id',y='Amount',kind='hist')"
   ]
  },
  {
   "cell_type": "code",
   "execution_count": 19,
   "metadata": {},
   "outputs": [
    {
     "data": {
      "text/html": [
       "<div>\n",
       "<style scoped>\n",
       "    .dataframe tbody tr th:only-of-type {\n",
       "        vertical-align: middle;\n",
       "    }\n",
       "\n",
       "    .dataframe tbody tr th {\n",
       "        vertical-align: top;\n",
       "    }\n",
       "\n",
       "    .dataframe thead th {\n",
       "        text-align: right;\n",
       "    }\n",
       "</style>\n",
       "<table border=\"1\" class=\"dataframe\">\n",
       "  <thead>\n",
       "    <tr style=\"text-align: right;\">\n",
       "      <th></th>\n",
       "      <th>cluster_id</th>\n",
       "      <th>Amount</th>\n",
       "    </tr>\n",
       "  </thead>\n",
       "  <tbody>\n",
       "    <tr>\n",
       "      <th>124</th>\n",
       "      <td>18640</td>\n",
       "      <td>49</td>\n",
       "    </tr>\n",
       "    <tr>\n",
       "      <th>182</th>\n",
       "      <td>28307</td>\n",
       "      <td>36</td>\n",
       "    </tr>\n",
       "    <tr>\n",
       "      <th>245</th>\n",
       "      <td>37409</td>\n",
       "      <td>28</td>\n",
       "    </tr>\n",
       "    <tr>\n",
       "      <th>280</th>\n",
       "      <td>45122</td>\n",
       "      <td>26</td>\n",
       "    </tr>\n",
       "    <tr>\n",
       "      <th>564</th>\n",
       "      <td>96277</td>\n",
       "      <td>268</td>\n",
       "    </tr>\n",
       "    <tr>\n",
       "      <th>...</th>\n",
       "      <td>...</td>\n",
       "      <td>...</td>\n",
       "    </tr>\n",
       "    <tr>\n",
       "      <th>108803</th>\n",
       "      <td>76869259</td>\n",
       "      <td>43</td>\n",
       "    </tr>\n",
       "    <tr>\n",
       "      <th>108804</th>\n",
       "      <td>76869317</td>\n",
       "      <td>60</td>\n",
       "    </tr>\n",
       "    <tr>\n",
       "      <th>110646</th>\n",
       "      <td>78260404</td>\n",
       "      <td>80</td>\n",
       "    </tr>\n",
       "    <tr>\n",
       "      <th>112994</th>\n",
       "      <td>80097153</td>\n",
       "      <td>60</td>\n",
       "    </tr>\n",
       "    <tr>\n",
       "      <th>112995</th>\n",
       "      <td>80097161</td>\n",
       "      <td>37</td>\n",
       "    </tr>\n",
       "  </tbody>\n",
       "</table>\n",
       "<p>207 rows × 2 columns</p>\n",
       "</div>"
      ],
      "text/plain": [
       "        cluster_id  Amount\n",
       "124          18640      49\n",
       "182          28307      36\n",
       "245          37409      28\n",
       "280          45122      26\n",
       "564          96277     268\n",
       "...            ...     ...\n",
       "108803    76869259      43\n",
       "108804    76869317      60\n",
       "110646    78260404      80\n",
       "112994    80097153      60\n",
       "112995    80097161      37\n",
       "\n",
       "[207 rows x 2 columns]"
      ]
     },
     "execution_count": 19,
     "metadata": {},
     "output_type": "execute_result"
    }
   ],
   "source": [
    "df_25_electronics=df_set_electronics[df_set_electronics['Amount']>25]\n",
    "df_25_electronics"
   ]
  },
  {
   "cell_type": "code",
   "execution_count": 20,
   "metadata": {},
   "outputs": [
    {
     "data": {
      "text/html": [
       "<div>\n",
       "<style scoped>\n",
       "    .dataframe tbody tr th:only-of-type {\n",
       "        vertical-align: middle;\n",
       "    }\n",
       "\n",
       "    .dataframe tbody tr th {\n",
       "        vertical-align: top;\n",
       "    }\n",
       "\n",
       "    .dataframe thead th {\n",
       "        text-align: right;\n",
       "    }\n",
       "</style>\n",
       "<table border=\"1\" class=\"dataframe\">\n",
       "  <thead>\n",
       "    <tr style=\"text-align: right;\">\n",
       "      <th></th>\n",
       "      <th>count</th>\n",
       "      <th>mean</th>\n",
       "      <th>std</th>\n",
       "      <th>min</th>\n",
       "      <th>25%</th>\n",
       "      <th>50%</th>\n",
       "      <th>75%</th>\n",
       "      <th>max</th>\n",
       "    </tr>\n",
       "  </thead>\n",
       "  <tbody>\n",
       "    <tr>\n",
       "      <th>Amount</th>\n",
       "      <td>207.0</td>\n",
       "      <td>78.0</td>\n",
       "      <td>206.0</td>\n",
       "      <td>26.0</td>\n",
       "      <td>34.0</td>\n",
       "      <td>51.0</td>\n",
       "      <td>64.0</td>\n",
       "      <td>2600.0</td>\n",
       "    </tr>\n",
       "  </tbody>\n",
       "</table>\n",
       "</div>"
      ],
      "text/plain": [
       "        count  mean    std   min   25%   50%   75%     max\n",
       "Amount  207.0  78.0  206.0  26.0  34.0  51.0  64.0  2600.0"
      ]
     },
     "execution_count": 20,
     "metadata": {},
     "output_type": "execute_result"
    }
   ],
   "source": [
    "df_25_electronics.set_index('cluster_id').describe().T.round()"
   ]
  },
  {
   "cell_type": "code",
   "execution_count": 21,
   "metadata": {},
   "outputs": [
    {
     "data": {
      "text/plain": [
       "<AxesSubplot:ylabel='Frequency'>"
      ]
     },
     "execution_count": 21,
     "metadata": {},
     "output_type": "execute_result"
    },
    {
     "data": {
      "image/png": "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\n",
      "text/plain": [
       "<Figure size 432x288 with 1 Axes>"
      ]
     },
     "metadata": {
      "needs_background": "light"
     },
     "output_type": "display_data"
    }
   ],
   "source": [
    "df_25_electronics.plot(x='cluster_id',y='Amount',kind='hist')"
   ]
  },
  {
   "cell_type": "code",
   "execution_count": 22,
   "metadata": {},
   "outputs": [
    {
     "data": {
      "text/html": [
       "<div>\n",
       "<style scoped>\n",
       "    .dataframe tbody tr th:only-of-type {\n",
       "        vertical-align: middle;\n",
       "    }\n",
       "\n",
       "    .dataframe tbody tr th {\n",
       "        vertical-align: top;\n",
       "    }\n",
       "\n",
       "    .dataframe thead th {\n",
       "        text-align: right;\n",
       "    }\n",
       "</style>\n",
       "<table border=\"1\" class=\"dataframe\">\n",
       "  <thead>\n",
       "    <tr style=\"text-align: right;\">\n",
       "      <th></th>\n",
       "      <th>cluster_id</th>\n",
       "      <th>Amount</th>\n",
       "      <th>brand_y</th>\n",
       "    </tr>\n",
       "  </thead>\n",
       "  <tbody>\n",
       "    <tr>\n",
       "      <th>0</th>\n",
       "      <td>1040</td>\n",
       "      <td>21</td>\n",
       "      <td>nikon</td>\n",
       "    </tr>\n",
       "    <tr>\n",
       "      <th>1</th>\n",
       "      <td>6076</td>\n",
       "      <td>19</td>\n",
       "      <td>canon</td>\n",
       "    </tr>\n",
       "    <tr>\n",
       "      <th>2</th>\n",
       "      <td>6443</td>\n",
       "      <td>25</td>\n",
       "      <td>canon</td>\n",
       "    </tr>\n",
       "    <tr>\n",
       "      <th>3</th>\n",
       "      <td>6505</td>\n",
       "      <td>16</td>\n",
       "      <td>apple</td>\n",
       "    </tr>\n",
       "    <tr>\n",
       "      <th>4</th>\n",
       "      <td>6690</td>\n",
       "      <td>20</td>\n",
       "      <td>cisco</td>\n",
       "    </tr>\n",
       "    <tr>\n",
       "      <th>...</th>\n",
       "      <td>...</td>\n",
       "      <td>...</td>\n",
       "      <td>...</td>\n",
       "    </tr>\n",
       "    <tr>\n",
       "      <th>407</th>\n",
       "      <td>76869317</td>\n",
       "      <td>60</td>\n",
       "      <td>NaN</td>\n",
       "    </tr>\n",
       "    <tr>\n",
       "      <th>408</th>\n",
       "      <td>78260404</td>\n",
       "      <td>80</td>\n",
       "      <td>NaN</td>\n",
       "    </tr>\n",
       "    <tr>\n",
       "      <th>409</th>\n",
       "      <td>79512161</td>\n",
       "      <td>16</td>\n",
       "      <td>NaN</td>\n",
       "    </tr>\n",
       "    <tr>\n",
       "      <th>410</th>\n",
       "      <td>80097153</td>\n",
       "      <td>60</td>\n",
       "      <td>samsung</td>\n",
       "    </tr>\n",
       "    <tr>\n",
       "      <th>411</th>\n",
       "      <td>80097161</td>\n",
       "      <td>37</td>\n",
       "      <td>samsung</td>\n",
       "    </tr>\n",
       "  </tbody>\n",
       "</table>\n",
       "<p>412 rows × 3 columns</p>\n",
       "</div>"
      ],
      "text/plain": [
       "     cluster_id  Amount  brand_y\n",
       "0          1040      21    nikon\n",
       "1          6076      19    canon\n",
       "2          6443      25    canon\n",
       "3          6505      16    apple\n",
       "4          6690      20    cisco\n",
       "..          ...     ...      ...\n",
       "407    76869317      60      NaN\n",
       "408    78260404      80      NaN\n",
       "409    79512161      16      NaN\n",
       "410    80097153      60  samsung\n",
       "411    80097161      37  samsung\n",
       "\n",
       "[412 rows x 3 columns]"
      ]
     },
     "execution_count": 22,
     "metadata": {},
     "output_type": "execute_result"
    }
   ],
   "source": [
    "#merge brand name to cluster amount\n",
    "df_cluster_brand = df_15_electronics[df_15_electronics['Amount']<400].merge(df_joined_electronics.dropna()[['cluster_id','brand_y']].drop_duplicates('cluster_id', keep='last'), left_on=['cluster_id'], right_on = ['cluster_id'], how='left')\n",
    "df_cluster_brand"
   ]
  },
  {
   "cell_type": "code",
   "execution_count": 23,
   "metadata": {
    "scrolled": true
   },
   "outputs": [
    {
     "data": {
      "text/html": [
       "<div>\n",
       "<style scoped>\n",
       "    .dataframe tbody tr th:only-of-type {\n",
       "        vertical-align: middle;\n",
       "    }\n",
       "\n",
       "    .dataframe tbody tr th {\n",
       "        vertical-align: top;\n",
       "    }\n",
       "\n",
       "    .dataframe thead th {\n",
       "        text-align: right;\n",
       "    }\n",
       "</style>\n",
       "<table border=\"1\" class=\"dataframe\">\n",
       "  <thead>\n",
       "    <tr style=\"text-align: right;\">\n",
       "      <th></th>\n",
       "      <th>cluster_id</th>\n",
       "      <th>Amount</th>\n",
       "      <th>brand_y</th>\n",
       "    </tr>\n",
       "  </thead>\n",
       "  <tbody>\n",
       "    <tr>\n",
       "      <th>51</th>\n",
       "      <td>184777</td>\n",
       "      <td>314</td>\n",
       "      <td>sony</td>\n",
       "    </tr>\n",
       "    <tr>\n",
       "      <th>202</th>\n",
       "      <td>1566090</td>\n",
       "      <td>177</td>\n",
       "      <td>canon</td>\n",
       "    </tr>\n",
       "    <tr>\n",
       "      <th>276</th>\n",
       "      <td>4494482</td>\n",
       "      <td>83</td>\n",
       "      <td>samsung</td>\n",
       "    </tr>\n",
       "    <tr>\n",
       "      <th>336</th>\n",
       "      <td>31546467</td>\n",
       "      <td>81</td>\n",
       "      <td>NaN</td>\n",
       "    </tr>\n",
       "    <tr>\n",
       "      <th>387</th>\n",
       "      <td>61604040</td>\n",
       "      <td>69</td>\n",
       "      <td>lg electronics</td>\n",
       "    </tr>\n",
       "    <tr>\n",
       "      <th>241</th>\n",
       "      <td>2456244</td>\n",
       "      <td>55</td>\n",
       "      <td>nikon</td>\n",
       "    </tr>\n",
       "    <tr>\n",
       "      <th>182</th>\n",
       "      <td>1381570</td>\n",
       "      <td>38</td>\n",
       "      <td>apple</td>\n",
       "    </tr>\n",
       "    <tr>\n",
       "      <th>11</th>\n",
       "      <td>28307</td>\n",
       "      <td>36</td>\n",
       "      <td>hp</td>\n",
       "    </tr>\n",
       "    <tr>\n",
       "      <th>70</th>\n",
       "      <td>251884</td>\n",
       "      <td>34</td>\n",
       "      <td>gopro</td>\n",
       "    </tr>\n",
       "    <tr>\n",
       "      <th>107</th>\n",
       "      <td>541658</td>\n",
       "      <td>32</td>\n",
       "      <td>western digital</td>\n",
       "    </tr>\n",
       "    <tr>\n",
       "      <th>145</th>\n",
       "      <td>835420</td>\n",
       "      <td>30</td>\n",
       "      <td>amd</td>\n",
       "    </tr>\n",
       "    <tr>\n",
       "      <th>55</th>\n",
       "      <td>197396</td>\n",
       "      <td>30</td>\n",
       "      <td>intel</td>\n",
       "    </tr>\n",
       "    <tr>\n",
       "      <th>31</th>\n",
       "      <td>99153</td>\n",
       "      <td>29</td>\n",
       "      <td>asus</td>\n",
       "    </tr>\n",
       "    <tr>\n",
       "      <th>7</th>\n",
       "      <td>14418</td>\n",
       "      <td>25</td>\n",
       "      <td>panasonic</td>\n",
       "    </tr>\n",
       "    <tr>\n",
       "      <th>219</th>\n",
       "      <td>1819249</td>\n",
       "      <td>24</td>\n",
       "      <td>hikvision</td>\n",
       "    </tr>\n",
       "    <tr>\n",
       "      <th>113</th>\n",
       "      <td>562955</td>\n",
       "      <td>23</td>\n",
       "      <td>cisco</td>\n",
       "    </tr>\n",
       "    <tr>\n",
       "      <th>112</th>\n",
       "      <td>554860</td>\n",
       "      <td>22</td>\n",
       "      <td>lenovo</td>\n",
       "    </tr>\n",
       "    <tr>\n",
       "      <th>138</th>\n",
       "      <td>773766</td>\n",
       "      <td>22</td>\n",
       "      <td>ubiquiti</td>\n",
       "    </tr>\n",
       "    <tr>\n",
       "      <th>319</th>\n",
       "      <td>22374889</td>\n",
       "      <td>16</td>\n",
       "      <td>dell</td>\n",
       "    </tr>\n",
       "    <tr>\n",
       "      <th>57</th>\n",
       "      <td>201669</td>\n",
       "      <td>16</td>\n",
       "      <td>xiaomi</td>\n",
       "    </tr>\n",
       "    <tr>\n",
       "      <th>50</th>\n",
       "      <td>182246</td>\n",
       "      <td>16</td>\n",
       "      <td>plantronics</td>\n",
       "    </tr>\n",
       "  </tbody>\n",
       "</table>\n",
       "</div>"
      ],
      "text/plain": [
       "     cluster_id  Amount          brand_y\n",
       "51       184777     314             sony\n",
       "202     1566090     177            canon\n",
       "276     4494482      83          samsung\n",
       "336    31546467      81              NaN\n",
       "387    61604040      69   lg electronics\n",
       "241     2456244      55            nikon\n",
       "182     1381570      38            apple\n",
       "11        28307      36               hp\n",
       "70       251884      34            gopro\n",
       "107      541658      32  western digital\n",
       "145      835420      30              amd\n",
       "55       197396      30            intel\n",
       "31        99153      29             asus\n",
       "7         14418      25        panasonic\n",
       "219     1819249      24        hikvision\n",
       "113      562955      23            cisco\n",
       "112      554860      22           lenovo\n",
       "138      773766      22         ubiquiti\n",
       "319    22374889      16             dell\n",
       "57       201669      16           xiaomi\n",
       "50       182246      16      plantronics"
      ]
     },
     "execution_count": 23,
     "metadata": {},
     "output_type": "execute_result"
    }
   ],
   "source": [
    "#get the top clusters per brand\n",
    "df_top_clusters = df_cluster_brand.sort_values(['Amount'], ascending=False).drop_duplicates(subset=[\"brand_y\"], keep=\"first\")\n",
    "df_top_clusters"
   ]
  },
  {
   "cell_type": "markdown",
   "metadata": {},
   "source": [
    "## Cluster statistics for product category clothes"
   ]
  },
  {
   "cell_type": "code",
   "execution_count": 24,
   "metadata": {},
   "outputs": [],
   "source": [
    "df_joined_clothes = pd.read_json(os.path.join(mapping_corpus_path_2, 'joined_clothes_v2'), compression='gzip', orient='records', lines=True)"
   ]
  },
  {
   "cell_type": "code",
   "execution_count": 25,
   "metadata": {},
   "outputs": [],
   "source": [
    "df_grouped_clothes = df_joined_clothes.groupby('cluster_id').count()"
   ]
  },
  {
   "cell_type": "code",
   "execution_count": 26,
   "metadata": {},
   "outputs": [],
   "source": [
    "# only look at clusters that have at least one brand associated\n",
    "df_set_clothes = df_grouped_clothes[df_grouped_clothes['brand_y']>0].reset_index()[['cluster_id','table_id']].rename(columns={'table_id':'Amount'})"
   ]
  },
  {
   "cell_type": "code",
   "execution_count": 27,
   "metadata": {},
   "outputs": [
    {
     "data": {
      "text/html": [
       "<div>\n",
       "<style scoped>\n",
       "    .dataframe tbody tr th:only-of-type {\n",
       "        vertical-align: middle;\n",
       "    }\n",
       "\n",
       "    .dataframe tbody tr th {\n",
       "        vertical-align: top;\n",
       "    }\n",
       "\n",
       "    .dataframe thead th {\n",
       "        text-align: right;\n",
       "    }\n",
       "</style>\n",
       "<table border=\"1\" class=\"dataframe\">\n",
       "  <thead>\n",
       "    <tr style=\"text-align: right;\">\n",
       "      <th></th>\n",
       "      <th>cluster_id</th>\n",
       "      <th>Amount</th>\n",
       "    </tr>\n",
       "  </thead>\n",
       "  <tbody>\n",
       "    <tr>\n",
       "      <th>0</th>\n",
       "      <td>532</td>\n",
       "      <td>4</td>\n",
       "    </tr>\n",
       "    <tr>\n",
       "      <th>1</th>\n",
       "      <td>560</td>\n",
       "      <td>2</td>\n",
       "    </tr>\n",
       "    <tr>\n",
       "      <th>2</th>\n",
       "      <td>1507</td>\n",
       "      <td>3</td>\n",
       "    </tr>\n",
       "    <tr>\n",
       "      <th>3</th>\n",
       "      <td>1747</td>\n",
       "      <td>4</td>\n",
       "    </tr>\n",
       "    <tr>\n",
       "      <th>5</th>\n",
       "      <td>2033</td>\n",
       "      <td>8</td>\n",
       "    </tr>\n",
       "    <tr>\n",
       "      <th>...</th>\n",
       "      <td>...</td>\n",
       "      <td>...</td>\n",
       "    </tr>\n",
       "    <tr>\n",
       "      <th>175641</th>\n",
       "      <td>80465508</td>\n",
       "      <td>2</td>\n",
       "    </tr>\n",
       "    <tr>\n",
       "      <th>175642</th>\n",
       "      <td>80467771</td>\n",
       "      <td>2</td>\n",
       "    </tr>\n",
       "    <tr>\n",
       "      <th>175653</th>\n",
       "      <td>80472255</td>\n",
       "      <td>4</td>\n",
       "    </tr>\n",
       "    <tr>\n",
       "      <th>175654</th>\n",
       "      <td>80472257</td>\n",
       "      <td>4</td>\n",
       "    </tr>\n",
       "    <tr>\n",
       "      <th>175666</th>\n",
       "      <td>80478117</td>\n",
       "      <td>3</td>\n",
       "    </tr>\n",
       "  </tbody>\n",
       "</table>\n",
       "<p>20444 rows × 2 columns</p>\n",
       "</div>"
      ],
      "text/plain": [
       "        cluster_id  Amount\n",
       "0              532       4\n",
       "1              560       2\n",
       "2             1507       3\n",
       "3             1747       4\n",
       "5             2033       8\n",
       "...            ...     ...\n",
       "175641    80465508       2\n",
       "175642    80467771       2\n",
       "175653    80472255       4\n",
       "175654    80472257       4\n",
       "175666    80478117       3\n",
       "\n",
       "[20444 rows x 2 columns]"
      ]
     },
     "execution_count": 27,
     "metadata": {},
     "output_type": "execute_result"
    }
   ],
   "source": [
    "# We discard all clusters with less than 2 entries, cause we cannot match anything there, so 1,6 million clusters remain\n",
    "df_set_clothes=df_set_clothes[df_set_clothes['Amount']>1]\n",
    "df_set_clothes"
   ]
  },
  {
   "cell_type": "code",
   "execution_count": 28,
   "metadata": {},
   "outputs": [
    {
     "data": {
      "text/html": [
       "<div>\n",
       "<style scoped>\n",
       "    .dataframe tbody tr th:only-of-type {\n",
       "        vertical-align: middle;\n",
       "    }\n",
       "\n",
       "    .dataframe tbody tr th {\n",
       "        vertical-align: top;\n",
       "    }\n",
       "\n",
       "    .dataframe thead th {\n",
       "        text-align: right;\n",
       "    }\n",
       "</style>\n",
       "<table border=\"1\" class=\"dataframe\">\n",
       "  <thead>\n",
       "    <tr style=\"text-align: right;\">\n",
       "      <th></th>\n",
       "      <th>count</th>\n",
       "      <th>mean</th>\n",
       "      <th>std</th>\n",
       "      <th>min</th>\n",
       "      <th>25%</th>\n",
       "      <th>50%</th>\n",
       "      <th>75%</th>\n",
       "      <th>max</th>\n",
       "    </tr>\n",
       "  </thead>\n",
       "  <tbody>\n",
       "    <tr>\n",
       "      <th>Amount</th>\n",
       "      <td>20444.0</td>\n",
       "      <td>3.0</td>\n",
       "      <td>19.0</td>\n",
       "      <td>2.0</td>\n",
       "      <td>2.0</td>\n",
       "      <td>2.0</td>\n",
       "      <td>3.0</td>\n",
       "      <td>2600.0</td>\n",
       "    </tr>\n",
       "  </tbody>\n",
       "</table>\n",
       "</div>"
      ],
      "text/plain": [
       "          count  mean   std  min  25%  50%  75%     max\n",
       "Amount  20444.0   3.0  19.0  2.0  2.0  2.0  3.0  2600.0"
      ]
     },
     "execution_count": 28,
     "metadata": {},
     "output_type": "execute_result"
    }
   ],
   "source": [
    "df_set_clothes.set_index('cluster_id').describe().T.round()"
   ]
  },
  {
   "cell_type": "code",
   "execution_count": 29,
   "metadata": {},
   "outputs": [
    {
     "data": {
      "text/plain": [
       "<AxesSubplot:ylabel='Frequency'>"
      ]
     },
     "execution_count": 29,
     "metadata": {},
     "output_type": "execute_result"
    },
    {
     "data": {
      "image/png": "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\n",
      "text/plain": [
       "<Figure size 432x288 with 1 Axes>"
      ]
     },
     "metadata": {
      "needs_background": "light"
     },
     "output_type": "display_data"
    }
   ],
   "source": [
    "df_set_clothes.plot(x='cluster_id',y='Amount',kind='hist')"
   ]
  },
  {
   "cell_type": "code",
   "execution_count": 30,
   "metadata": {},
   "outputs": [
    {
     "data": {
      "text/html": [
       "<div>\n",
       "<style scoped>\n",
       "    .dataframe tbody tr th:only-of-type {\n",
       "        vertical-align: middle;\n",
       "    }\n",
       "\n",
       "    .dataframe tbody tr th {\n",
       "        vertical-align: top;\n",
       "    }\n",
       "\n",
       "    .dataframe thead th {\n",
       "        text-align: right;\n",
       "    }\n",
       "</style>\n",
       "<table border=\"1\" class=\"dataframe\">\n",
       "  <thead>\n",
       "    <tr style=\"text-align: right;\">\n",
       "      <th></th>\n",
       "      <th>cluster_id</th>\n",
       "      <th>Amount</th>\n",
       "    </tr>\n",
       "  </thead>\n",
       "  <tbody>\n",
       "    <tr>\n",
       "      <th>21</th>\n",
       "      <td>5310</td>\n",
       "      <td>11</td>\n",
       "    </tr>\n",
       "    <tr>\n",
       "      <th>196</th>\n",
       "      <td>37366</td>\n",
       "      <td>14</td>\n",
       "    </tr>\n",
       "    <tr>\n",
       "      <th>198</th>\n",
       "      <td>37525</td>\n",
       "      <td>12</td>\n",
       "    </tr>\n",
       "    <tr>\n",
       "      <th>223</th>\n",
       "      <td>42322</td>\n",
       "      <td>14</td>\n",
       "    </tr>\n",
       "    <tr>\n",
       "      <th>287</th>\n",
       "      <td>58043</td>\n",
       "      <td>12</td>\n",
       "    </tr>\n",
       "    <tr>\n",
       "      <th>...</th>\n",
       "      <td>...</td>\n",
       "      <td>...</td>\n",
       "    </tr>\n",
       "    <tr>\n",
       "      <th>152589</th>\n",
       "      <td>68554513</td>\n",
       "      <td>13</td>\n",
       "    </tr>\n",
       "    <tr>\n",
       "      <th>170854</th>\n",
       "      <td>77602818</td>\n",
       "      <td>16</td>\n",
       "    </tr>\n",
       "    <tr>\n",
       "      <th>171766</th>\n",
       "      <td>78110534</td>\n",
       "      <td>13</td>\n",
       "    </tr>\n",
       "    <tr>\n",
       "      <th>172417</th>\n",
       "      <td>78499693</td>\n",
       "      <td>16</td>\n",
       "    </tr>\n",
       "    <tr>\n",
       "      <th>175479</th>\n",
       "      <td>80330359</td>\n",
       "      <td>14</td>\n",
       "    </tr>\n",
       "  </tbody>\n",
       "</table>\n",
       "<p>268 rows × 2 columns</p>\n",
       "</div>"
      ],
      "text/plain": [
       "        cluster_id  Amount\n",
       "21            5310      11\n",
       "196          37366      14\n",
       "198          37525      12\n",
       "223          42322      14\n",
       "287          58043      12\n",
       "...            ...     ...\n",
       "152589    68554513      13\n",
       "170854    77602818      16\n",
       "171766    78110534      13\n",
       "172417    78499693      16\n",
       "175479    80330359      14\n",
       "\n",
       "[268 rows x 2 columns]"
      ]
     },
     "execution_count": 30,
     "metadata": {},
     "output_type": "execute_result"
    }
   ],
   "source": [
    "df_10_clothes=df_set_clothes[df_set_clothes['Amount']>10]\n",
    "df_10_clothes"
   ]
  },
  {
   "cell_type": "code",
   "execution_count": 31,
   "metadata": {},
   "outputs": [
    {
     "data": {
      "text/html": [
       "<div>\n",
       "<style scoped>\n",
       "    .dataframe tbody tr th:only-of-type {\n",
       "        vertical-align: middle;\n",
       "    }\n",
       "\n",
       "    .dataframe tbody tr th {\n",
       "        vertical-align: top;\n",
       "    }\n",
       "\n",
       "    .dataframe thead th {\n",
       "        text-align: right;\n",
       "    }\n",
       "</style>\n",
       "<table border=\"1\" class=\"dataframe\">\n",
       "  <thead>\n",
       "    <tr style=\"text-align: right;\">\n",
       "      <th></th>\n",
       "      <th>count</th>\n",
       "      <th>mean</th>\n",
       "      <th>std</th>\n",
       "      <th>min</th>\n",
       "      <th>25%</th>\n",
       "      <th>50%</th>\n",
       "      <th>75%</th>\n",
       "      <th>max</th>\n",
       "    </tr>\n",
       "  </thead>\n",
       "  <tbody>\n",
       "    <tr>\n",
       "      <th>Amount</th>\n",
       "      <td>268.0</td>\n",
       "      <td>29.0</td>\n",
       "      <td>159.0</td>\n",
       "      <td>11.0</td>\n",
       "      <td>12.0</td>\n",
       "      <td>13.0</td>\n",
       "      <td>17.0</td>\n",
       "      <td>2600.0</td>\n",
       "    </tr>\n",
       "  </tbody>\n",
       "</table>\n",
       "</div>"
      ],
      "text/plain": [
       "        count  mean    std   min   25%   50%   75%     max\n",
       "Amount  268.0  29.0  159.0  11.0  12.0  13.0  17.0  2600.0"
      ]
     },
     "execution_count": 31,
     "metadata": {},
     "output_type": "execute_result"
    }
   ],
   "source": [
    "df_10_clothes.set_index('cluster_id').describe().T.round()"
   ]
  },
  {
   "cell_type": "code",
   "execution_count": 32,
   "metadata": {},
   "outputs": [
    {
     "data": {
      "text/html": [
       "<div>\n",
       "<style scoped>\n",
       "    .dataframe tbody tr th:only-of-type {\n",
       "        vertical-align: middle;\n",
       "    }\n",
       "\n",
       "    .dataframe tbody tr th {\n",
       "        vertical-align: top;\n",
       "    }\n",
       "\n",
       "    .dataframe thead th {\n",
       "        text-align: right;\n",
       "    }\n",
       "</style>\n",
       "<table border=\"1\" class=\"dataframe\">\n",
       "  <thead>\n",
       "    <tr style=\"text-align: right;\">\n",
       "      <th></th>\n",
       "      <th>cluster_id</th>\n",
       "      <th>Amount</th>\n",
       "    </tr>\n",
       "  </thead>\n",
       "  <tbody>\n",
       "    <tr>\n",
       "      <th>657</th>\n",
       "      <td>135583</td>\n",
       "      <td>18</td>\n",
       "    </tr>\n",
       "    <tr>\n",
       "      <th>668</th>\n",
       "      <td>138313</td>\n",
       "      <td>17</td>\n",
       "    </tr>\n",
       "    <tr>\n",
       "      <th>725</th>\n",
       "      <td>148199</td>\n",
       "      <td>24</td>\n",
       "    </tr>\n",
       "    <tr>\n",
       "      <th>740</th>\n",
       "      <td>150932</td>\n",
       "      <td>25</td>\n",
       "    </tr>\n",
       "    <tr>\n",
       "      <th>785</th>\n",
       "      <td>159911</td>\n",
       "      <td>18</td>\n",
       "    </tr>\n",
       "    <tr>\n",
       "      <th>...</th>\n",
       "      <td>...</td>\n",
       "      <td>...</td>\n",
       "    </tr>\n",
       "    <tr>\n",
       "      <th>110633</th>\n",
       "      <td>48051979</td>\n",
       "      <td>17</td>\n",
       "    </tr>\n",
       "    <tr>\n",
       "      <th>130738</th>\n",
       "      <td>58083280</td>\n",
       "      <td>24</td>\n",
       "    </tr>\n",
       "    <tr>\n",
       "      <th>131754</th>\n",
       "      <td>58592784</td>\n",
       "      <td>19</td>\n",
       "    </tr>\n",
       "    <tr>\n",
       "      <th>170854</th>\n",
       "      <td>77602818</td>\n",
       "      <td>16</td>\n",
       "    </tr>\n",
       "    <tr>\n",
       "      <th>172417</th>\n",
       "      <td>78499693</td>\n",
       "      <td>16</td>\n",
       "    </tr>\n",
       "  </tbody>\n",
       "</table>\n",
       "<p>88 rows × 2 columns</p>\n",
       "</div>"
      ],
      "text/plain": [
       "        cluster_id  Amount\n",
       "657         135583      18\n",
       "668         138313      17\n",
       "725         148199      24\n",
       "740         150932      25\n",
       "785         159911      18\n",
       "...            ...     ...\n",
       "110633    48051979      17\n",
       "130738    58083280      24\n",
       "131754    58592784      19\n",
       "170854    77602818      16\n",
       "172417    78499693      16\n",
       "\n",
       "[88 rows x 2 columns]"
      ]
     },
     "execution_count": 32,
     "metadata": {},
     "output_type": "execute_result"
    }
   ],
   "source": [
    "df_15_clothes=df_set_clothes[df_set_clothes['Amount']>15]\n",
    "df_15_clothes"
   ]
  },
  {
   "cell_type": "code",
   "execution_count": 33,
   "metadata": {},
   "outputs": [
    {
     "data": {
      "text/html": [
       "<div>\n",
       "<style scoped>\n",
       "    .dataframe tbody tr th:only-of-type {\n",
       "        vertical-align: middle;\n",
       "    }\n",
       "\n",
       "    .dataframe tbody tr th {\n",
       "        vertical-align: top;\n",
       "    }\n",
       "\n",
       "    .dataframe thead th {\n",
       "        text-align: right;\n",
       "    }\n",
       "</style>\n",
       "<table border=\"1\" class=\"dataframe\">\n",
       "  <thead>\n",
       "    <tr style=\"text-align: right;\">\n",
       "      <th></th>\n",
       "      <th>count</th>\n",
       "      <th>mean</th>\n",
       "      <th>std</th>\n",
       "      <th>min</th>\n",
       "      <th>25%</th>\n",
       "      <th>50%</th>\n",
       "      <th>75%</th>\n",
       "      <th>max</th>\n",
       "    </tr>\n",
       "  </thead>\n",
       "  <tbody>\n",
       "    <tr>\n",
       "      <th>Amount</th>\n",
       "      <td>88.0</td>\n",
       "      <td>62.0</td>\n",
       "      <td>276.0</td>\n",
       "      <td>16.0</td>\n",
       "      <td>17.0</td>\n",
       "      <td>18.0</td>\n",
       "      <td>28.0</td>\n",
       "      <td>2600.0</td>\n",
       "    </tr>\n",
       "  </tbody>\n",
       "</table>\n",
       "</div>"
      ],
      "text/plain": [
       "        count  mean    std   min   25%   50%   75%     max\n",
       "Amount   88.0  62.0  276.0  16.0  17.0  18.0  28.0  2600.0"
      ]
     },
     "execution_count": 33,
     "metadata": {},
     "output_type": "execute_result"
    }
   ],
   "source": [
    "df_15_clothes.set_index('cluster_id').describe().T.round()"
   ]
  },
  {
   "cell_type": "code",
   "execution_count": 34,
   "metadata": {},
   "outputs": [
    {
     "data": {
      "text/plain": [
       "<AxesSubplot:ylabel='Frequency'>"
      ]
     },
     "execution_count": 34,
     "metadata": {},
     "output_type": "execute_result"
    },
    {
     "data": {
      "image/png": "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\n",
      "text/plain": [
       "<Figure size 432x288 with 1 Axes>"
      ]
     },
     "metadata": {
      "needs_background": "light"
     },
     "output_type": "display_data"
    }
   ],
   "source": [
    "df_15_clothes.plot(x='cluster_id',y='Amount',kind='hist')"
   ]
  },
  {
   "cell_type": "code",
   "execution_count": 38,
   "metadata": {},
   "outputs": [
    {
     "data": {
      "text/plain": [
       "cluster_id    78499693\n",
       "Amount            2600\n",
       "dtype: int64"
      ]
     },
     "execution_count": 38,
     "metadata": {},
     "output_type": "execute_result"
    }
   ],
   "source": [
    "df_15_clothes"
   ]
  },
  {
   "cell_type": "code",
   "execution_count": 40,
   "metadata": {},
   "outputs": [
    {
     "data": {
      "text/html": [
       "<div>\n",
       "<style scoped>\n",
       "    .dataframe tbody tr th:only-of-type {\n",
       "        vertical-align: middle;\n",
       "    }\n",
       "\n",
       "    .dataframe tbody tr th {\n",
       "        vertical-align: top;\n",
       "    }\n",
       "\n",
       "    .dataframe thead th {\n",
       "        text-align: right;\n",
       "    }\n",
       "</style>\n",
       "<table border=\"1\" class=\"dataframe\">\n",
       "  <thead>\n",
       "    <tr style=\"text-align: right;\">\n",
       "      <th></th>\n",
       "      <th>cluster_id</th>\n",
       "      <th>url</th>\n",
       "      <th>row_id</th>\n",
       "      <th>table_id</th>\n",
       "      <th>Valid</th>\n",
       "      <th>name</th>\n",
       "      <th>description</th>\n",
       "      <th>brand_x</th>\n",
       "      <th>brand_y</th>\n",
       "    </tr>\n",
       "  </thead>\n",
       "  <tbody>\n",
       "    <tr>\n",
       "      <th>404085</th>\n",
       "      <td>78499693</td>\n",
       "      <td>https://www.ch.forzieri.com/handtaschen/dolce-...</td>\n",
       "      <td>3789</td>\n",
       "      <td>Product_forzieri.com_September2020.json.gz</td>\n",
       "      <td>1</td>\n",
       "      <td>Canvas and Leather Sicily 62 Mini Bag</td>\n",
       "      <td>Sicily 62 mini bag by Dolce &amp; Gabbana made of ...</td>\n",
       "      <td>Dolce &amp; Gabbana</td>\n",
       "      <td>dolce &amp; gabbana</td>\n",
       "    </tr>\n",
       "    <tr>\n",
       "      <th>1621809</th>\n",
       "      <td>78499693</td>\n",
       "      <td>https://www.be.forzieri.com/sacs-a-main/dolce-...</td>\n",
       "      <td>2355</td>\n",
       "      <td>Product_forzieri.com_September2020.json.gz</td>\n",
       "      <td>1</td>\n",
       "      <td>Canvas and Leather Sicily 62 Mini Bag</td>\n",
       "      <td>Sicily 62 mini bag by Dolce &amp; Gabbana made of ...</td>\n",
       "      <td>Dolce &amp; Gabbana</td>\n",
       "      <td>dolce &amp; gabbana</td>\n",
       "    </tr>\n",
       "    <tr>\n",
       "      <th>4537392</th>\n",
       "      <td>78499693</td>\n",
       "      <td>https://www.sa.forzieri.com/esp/product_view.a...</td>\n",
       "      <td>3652</td>\n",
       "      <td>Product_forzieri.com_September2020.json.gz</td>\n",
       "      <td>1</td>\n",
       "      <td>Light And Natural shopper</td>\n",
       "      <td>Sicily 62 mini bag by Dolce &amp; Gabbana made of ...</td>\n",
       "      <td>Dolce &amp; Gabbana</td>\n",
       "      <td>dolce &amp; gabbana</td>\n",
       "    </tr>\n",
       "    <tr>\n",
       "      <th>5899278</th>\n",
       "      <td>78499693</td>\n",
       "      <td>https://www.cn.forzieri.com/chn/product_view.a...</td>\n",
       "      <td>3503</td>\n",
       "      <td>Product_forzieri.com_September2020.json.gz</td>\n",
       "      <td>1</td>\n",
       "      <td>Canvas and Leather Sicily 62 Mini Bag</td>\n",
       "      <td>Sicily 62 mini bag by Dolce &amp; Gabbana made of ...</td>\n",
       "      <td>Dolce &amp; Gabbana żΰ</td>\n",
       "      <td>None</td>\n",
       "    </tr>\n",
       "    <tr>\n",
       "      <th>7590300</th>\n",
       "      <td>78499693</td>\n",
       "      <td>https://www.kr.forzieri.com/kor/product_view.a...</td>\n",
       "      <td>3414</td>\n",
       "      <td>Product_forzieri.com_September2020.json.gz</td>\n",
       "      <td>1</td>\n",
       "      <td>Light And Natural shopper</td>\n",
       "      <td>Sicily 62 mini bag by Dolce &amp; Gabbana made of ...</td>\n",
       "      <td>Dolce &amp; Gabbana</td>\n",
       "      <td>dolce &amp; gabbana</td>\n",
       "    </tr>\n",
       "    <tr>\n",
       "      <th>12186682</th>\n",
       "      <td>78499693</td>\n",
       "      <td>https://www.au.forzieri.com/handbags/dolce-gab...</td>\n",
       "      <td>1121</td>\n",
       "      <td>Product_forzieri.com_September2020.json.gz</td>\n",
       "      <td>1</td>\n",
       "      <td>Canvas and Leather Sicily 62 Mini Bag</td>\n",
       "      <td>Sicily 62 mini bag by Dolce &amp; Gabbana made of ...</td>\n",
       "      <td>Dolce &amp; Gabbana</td>\n",
       "      <td>dolce &amp; gabbana</td>\n",
       "    </tr>\n",
       "    <tr>\n",
       "      <th>13533830</th>\n",
       "      <td>78499693</td>\n",
       "      <td>https://www.jp.forzieri.com/jpn/product_view.a...</td>\n",
       "      <td>1950</td>\n",
       "      <td>Product_forzieri.com_September2020.json.gz</td>\n",
       "      <td>1</td>\n",
       "      <td>Canvas and Leather Sicily 62 Mini Bag</td>\n",
       "      <td>Sicily 62 mini bag by Dolce &amp; Gabbana made of ...</td>\n",
       "      <td>Dolce &amp; Gabbana / h`F&amp;Kbo[i</td>\n",
       "      <td>None</td>\n",
       "    </tr>\n",
       "    <tr>\n",
       "      <th>13907901</th>\n",
       "      <td>78499693</td>\n",
       "      <td>https://www.se.forzieri.com/handbags/dolce-gab...</td>\n",
       "      <td>3220</td>\n",
       "      <td>Product_forzieri.com_September2020.json.gz</td>\n",
       "      <td>1</td>\n",
       "      <td>Canvas and Leather Sicily 62 Mini Bag</td>\n",
       "      <td>Sicily 62 mini bag by Dolce &amp; Gabbana made of ...</td>\n",
       "      <td>Dolce &amp; Gabbana</td>\n",
       "      <td>dolce &amp; gabbana</td>\n",
       "    </tr>\n",
       "    <tr>\n",
       "      <th>13983511</th>\n",
       "      <td>78499693</td>\n",
       "      <td>https://www.dk.forzieri.com/handbags/dolce-gab...</td>\n",
       "      <td>2099</td>\n",
       "      <td>Product_forzieri.com_September2020.json.gz</td>\n",
       "      <td>1</td>\n",
       "      <td>Canvas and Leather Sicily 62 Mini Bag</td>\n",
       "      <td>Sicily 62 mini bag by Dolce &amp; Gabbana made of ...</td>\n",
       "      <td>Dolce &amp; Gabbana</td>\n",
       "      <td>dolce &amp; gabbana</td>\n",
       "    </tr>\n",
       "    <tr>\n",
       "      <th>14684495</th>\n",
       "      <td>78499693</td>\n",
       "      <td>https://www.es.forzieri.com/esp/product_view.a...</td>\n",
       "      <td>2051</td>\n",
       "      <td>Product_forzieri.com_September2020.json.gz</td>\n",
       "      <td>1</td>\n",
       "      <td>Light And Natural shopper</td>\n",
       "      <td>Sicily 62 mini bag by Dolce &amp; Gabbana made of ...</td>\n",
       "      <td>Dolce &amp; Gabbana</td>\n",
       "      <td>dolce &amp; gabbana</td>\n",
       "    </tr>\n",
       "    <tr>\n",
       "      <th>17169845</th>\n",
       "      <td>78499693</td>\n",
       "      <td>https://www.ca.forzieri.com/handbags/dolce-gab...</td>\n",
       "      <td>1328</td>\n",
       "      <td>Product_forzieri.com_September2020.json.gz</td>\n",
       "      <td>1</td>\n",
       "      <td>Canvas and Leather Sicily 62 Mini Bag</td>\n",
       "      <td>Sicily 62 mini bag by Dolce &amp; Gabbana made of ...</td>\n",
       "      <td>Dolce &amp; Gabbana</td>\n",
       "      <td>dolce &amp; gabbana</td>\n",
       "    </tr>\n",
       "    <tr>\n",
       "      <th>17741188</th>\n",
       "      <td>78499693</td>\n",
       "      <td>https://www.de.forzieri.com/handtaschen/dolce-...</td>\n",
       "      <td>1593</td>\n",
       "      <td>Product_forzieri.com_September2020.json.gz</td>\n",
       "      <td>1</td>\n",
       "      <td>Canvas and Leather Sicily 62 Mini Bag</td>\n",
       "      <td>Sicily 62 mini bag by Dolce &amp; Gabbana made of ...</td>\n",
       "      <td>Dolce &amp; Gabbana</td>\n",
       "      <td>dolce &amp; gabbana</td>\n",
       "    </tr>\n",
       "    <tr>\n",
       "      <th>18531261</th>\n",
       "      <td>78499693</td>\n",
       "      <td>https://www.no.forzieri.com/handbags/dolce-gab...</td>\n",
       "      <td>1262</td>\n",
       "      <td>Product_forzieri.com_September2020.json.gz</td>\n",
       "      <td>1</td>\n",
       "      <td>Canvas and Leather Sicily 62 Mini Bag</td>\n",
       "      <td>Sicily 62 mini bag by Dolce &amp; Gabbana made of ...</td>\n",
       "      <td>Dolce &amp; Gabbana</td>\n",
       "      <td>dolce &amp; gabbana</td>\n",
       "    </tr>\n",
       "    <tr>\n",
       "      <th>20375705</th>\n",
       "      <td>78499693</td>\n",
       "      <td>https://www.ru.forzieri.com/rus/product_view.a...</td>\n",
       "      <td>285</td>\n",
       "      <td>Product_forzieri.com_September2020.json.gz</td>\n",
       "      <td>1</td>\n",
       "      <td>Light And Natural - Сумка Шопер</td>\n",
       "      <td>Логотип спереди.Возможна пахнущая подарочная у...</td>\n",
       "      <td>Dolce&amp;Gabbana</td>\n",
       "      <td>None</td>\n",
       "    </tr>\n",
       "    <tr>\n",
       "      <th>22404808</th>\n",
       "      <td>78499693</td>\n",
       "      <td>https://www.ux.forzieri.com/handbags/dolce-gab...</td>\n",
       "      <td>1703</td>\n",
       "      <td>Product_forzieri.com_September2020.json.gz</td>\n",
       "      <td>1</td>\n",
       "      <td>Canvas and Leather Sicily 62 Mini Bag</td>\n",
       "      <td>Sicily 62 mini bag by Dolce &amp; Gabbana made of ...</td>\n",
       "      <td>Dolce &amp; Gabbana</td>\n",
       "      <td>dolce &amp; gabbana</td>\n",
       "    </tr>\n",
       "    <tr>\n",
       "      <th>22950771</th>\n",
       "      <td>78499693</td>\n",
       "      <td>https://www.uk.forzieri.com/handbags/dolce-gab...</td>\n",
       "      <td>2857</td>\n",
       "      <td>Product_forzieri.com_September2020.json.gz</td>\n",
       "      <td>1</td>\n",
       "      <td>Canvas and Leather Sicily 62 Mini Bag</td>\n",
       "      <td>Sicily 62 mini bag by Dolce &amp; Gabbana made of ...</td>\n",
       "      <td>Dolce &amp; Gabbana</td>\n",
       "      <td>dolce &amp; gabbana</td>\n",
       "    </tr>\n",
       "  </tbody>\n",
       "</table>\n",
       "</div>"
      ],
      "text/plain": [
       "          cluster_id                                                url  \\\n",
       "404085      78499693  https://www.ch.forzieri.com/handtaschen/dolce-...   \n",
       "1621809     78499693  https://www.be.forzieri.com/sacs-a-main/dolce-...   \n",
       "4537392     78499693  https://www.sa.forzieri.com/esp/product_view.a...   \n",
       "5899278     78499693  https://www.cn.forzieri.com/chn/product_view.a...   \n",
       "7590300     78499693  https://www.kr.forzieri.com/kor/product_view.a...   \n",
       "12186682    78499693  https://www.au.forzieri.com/handbags/dolce-gab...   \n",
       "13533830    78499693  https://www.jp.forzieri.com/jpn/product_view.a...   \n",
       "13907901    78499693  https://www.se.forzieri.com/handbags/dolce-gab...   \n",
       "13983511    78499693  https://www.dk.forzieri.com/handbags/dolce-gab...   \n",
       "14684495    78499693  https://www.es.forzieri.com/esp/product_view.a...   \n",
       "17169845    78499693  https://www.ca.forzieri.com/handbags/dolce-gab...   \n",
       "17741188    78499693  https://www.de.forzieri.com/handtaschen/dolce-...   \n",
       "18531261    78499693  https://www.no.forzieri.com/handbags/dolce-gab...   \n",
       "20375705    78499693  https://www.ru.forzieri.com/rus/product_view.a...   \n",
       "22404808    78499693  https://www.ux.forzieri.com/handbags/dolce-gab...   \n",
       "22950771    78499693  https://www.uk.forzieri.com/handbags/dolce-gab...   \n",
       "\n",
       "          row_id                                    table_id  Valid  \\\n",
       "404085      3789  Product_forzieri.com_September2020.json.gz      1   \n",
       "1621809     2355  Product_forzieri.com_September2020.json.gz      1   \n",
       "4537392     3652  Product_forzieri.com_September2020.json.gz      1   \n",
       "5899278     3503  Product_forzieri.com_September2020.json.gz      1   \n",
       "7590300     3414  Product_forzieri.com_September2020.json.gz      1   \n",
       "12186682    1121  Product_forzieri.com_September2020.json.gz      1   \n",
       "13533830    1950  Product_forzieri.com_September2020.json.gz      1   \n",
       "13907901    3220  Product_forzieri.com_September2020.json.gz      1   \n",
       "13983511    2099  Product_forzieri.com_September2020.json.gz      1   \n",
       "14684495    2051  Product_forzieri.com_September2020.json.gz      1   \n",
       "17169845    1328  Product_forzieri.com_September2020.json.gz      1   \n",
       "17741188    1593  Product_forzieri.com_September2020.json.gz      1   \n",
       "18531261    1262  Product_forzieri.com_September2020.json.gz      1   \n",
       "20375705     285  Product_forzieri.com_September2020.json.gz      1   \n",
       "22404808    1703  Product_forzieri.com_September2020.json.gz      1   \n",
       "22950771    2857  Product_forzieri.com_September2020.json.gz      1   \n",
       "\n",
       "                                           name  \\\n",
       "404085    Canvas and Leather Sicily 62 Mini Bag   \n",
       "1621809   Canvas and Leather Sicily 62 Mini Bag   \n",
       "4537392               Light And Natural shopper   \n",
       "5899278   Canvas and Leather Sicily 62 Mini Bag   \n",
       "7590300               Light And Natural shopper   \n",
       "12186682  Canvas and Leather Sicily 62 Mini Bag   \n",
       "13533830  Canvas and Leather Sicily 62 Mini Bag   \n",
       "13907901  Canvas and Leather Sicily 62 Mini Bag   \n",
       "13983511  Canvas and Leather Sicily 62 Mini Bag   \n",
       "14684495              Light And Natural shopper   \n",
       "17169845  Canvas and Leather Sicily 62 Mini Bag   \n",
       "17741188  Canvas and Leather Sicily 62 Mini Bag   \n",
       "18531261  Canvas and Leather Sicily 62 Mini Bag   \n",
       "20375705        Light And Natural - Сумка Шопер   \n",
       "22404808  Canvas and Leather Sicily 62 Mini Bag   \n",
       "22950771  Canvas and Leather Sicily 62 Mini Bag   \n",
       "\n",
       "                                                description  \\\n",
       "404085    Sicily 62 mini bag by Dolce & Gabbana made of ...   \n",
       "1621809   Sicily 62 mini bag by Dolce & Gabbana made of ...   \n",
       "4537392   Sicily 62 mini bag by Dolce & Gabbana made of ...   \n",
       "5899278   Sicily 62 mini bag by Dolce & Gabbana made of ...   \n",
       "7590300   Sicily 62 mini bag by Dolce & Gabbana made of ...   \n",
       "12186682  Sicily 62 mini bag by Dolce & Gabbana made of ...   \n",
       "13533830  Sicily 62 mini bag by Dolce & Gabbana made of ...   \n",
       "13907901  Sicily 62 mini bag by Dolce & Gabbana made of ...   \n",
       "13983511  Sicily 62 mini bag by Dolce & Gabbana made of ...   \n",
       "14684495  Sicily 62 mini bag by Dolce & Gabbana made of ...   \n",
       "17169845  Sicily 62 mini bag by Dolce & Gabbana made of ...   \n",
       "17741188  Sicily 62 mini bag by Dolce & Gabbana made of ...   \n",
       "18531261  Sicily 62 mini bag by Dolce & Gabbana made of ...   \n",
       "20375705  Логотип спереди.Возможна пахнущая подарочная у...   \n",
       "22404808  Sicily 62 mini bag by Dolce & Gabbana made of ...   \n",
       "22950771  Sicily 62 mini bag by Dolce & Gabbana made of ...   \n",
       "\n",
       "                              brand_x          brand_y  \n",
       "404085                Dolce & Gabbana  dolce & gabbana  \n",
       "1621809               Dolce & Gabbana  dolce & gabbana  \n",
       "4537392               Dolce & Gabbana  dolce & gabbana  \n",
       "5899278            Dolce & Gabbana żΰ             None  \n",
       "7590300               Dolce & Gabbana  dolce & gabbana  \n",
       "12186682              Dolce & Gabbana  dolce & gabbana  \n",
       "13533830  Dolce & Gabbana / h`F&Kbo[i             None  \n",
       "13907901              Dolce & Gabbana  dolce & gabbana  \n",
       "13983511              Dolce & Gabbana  dolce & gabbana  \n",
       "14684495              Dolce & Gabbana  dolce & gabbana  \n",
       "17169845              Dolce & Gabbana  dolce & gabbana  \n",
       "17741188              Dolce & Gabbana  dolce & gabbana  \n",
       "18531261              Dolce & Gabbana  dolce & gabbana  \n",
       "20375705                Dolce&Gabbana             None  \n",
       "22404808              Dolce & Gabbana  dolce & gabbana  \n",
       "22950771              Dolce & Gabbana  dolce & gabbana  "
      ]
     },
     "execution_count": 40,
     "metadata": {},
     "output_type": "execute_result"
    }
   ],
   "source": [
    "df_joined_clothes[df_joined_clothes['cluster_id']==78499693]"
   ]
  },
  {
   "cell_type": "code",
   "execution_count": 36,
   "metadata": {},
   "outputs": [
    {
     "data": {
      "text/html": [
       "<div>\n",
       "<style scoped>\n",
       "    .dataframe tbody tr th:only-of-type {\n",
       "        vertical-align: middle;\n",
       "    }\n",
       "\n",
       "    .dataframe tbody tr th {\n",
       "        vertical-align: top;\n",
       "    }\n",
       "\n",
       "    .dataframe thead th {\n",
       "        text-align: right;\n",
       "    }\n",
       "</style>\n",
       "<table border=\"1\" class=\"dataframe\">\n",
       "  <thead>\n",
       "    <tr style=\"text-align: right;\">\n",
       "      <th></th>\n",
       "      <th>cluster_id</th>\n",
       "      <th>Amount</th>\n",
       "      <th>brand_y</th>\n",
       "    </tr>\n",
       "  </thead>\n",
       "  <tbody>\n",
       "    <tr>\n",
       "      <th>0</th>\n",
       "      <td>135583</td>\n",
       "      <td>18</td>\n",
       "      <td>tissot</td>\n",
       "    </tr>\n",
       "    <tr>\n",
       "      <th>1</th>\n",
       "      <td>138313</td>\n",
       "      <td>17</td>\n",
       "      <td>christian louboutin</td>\n",
       "    </tr>\n",
       "    <tr>\n",
       "      <th>2</th>\n",
       "      <td>148199</td>\n",
       "      <td>24</td>\n",
       "      <td>ray ban</td>\n",
       "    </tr>\n",
       "    <tr>\n",
       "      <th>3</th>\n",
       "      <td>150932</td>\n",
       "      <td>25</td>\n",
       "      <td>louis vuitton</td>\n",
       "    </tr>\n",
       "    <tr>\n",
       "      <th>4</th>\n",
       "      <td>159911</td>\n",
       "      <td>18</td>\n",
       "      <td>chopard</td>\n",
       "    </tr>\n",
       "    <tr>\n",
       "      <th>...</th>\n",
       "      <td>...</td>\n",
       "      <td>...</td>\n",
       "      <td>...</td>\n",
       "    </tr>\n",
       "    <tr>\n",
       "      <th>82</th>\n",
       "      <td>48051979</td>\n",
       "      <td>17</td>\n",
       "      <td>calvin klein</td>\n",
       "    </tr>\n",
       "    <tr>\n",
       "      <th>83</th>\n",
       "      <td>58083280</td>\n",
       "      <td>24</td>\n",
       "      <td>nike</td>\n",
       "    </tr>\n",
       "    <tr>\n",
       "      <th>84</th>\n",
       "      <td>58592784</td>\n",
       "      <td>19</td>\n",
       "      <td>nike</td>\n",
       "    </tr>\n",
       "    <tr>\n",
       "      <th>85</th>\n",
       "      <td>77602818</td>\n",
       "      <td>16</td>\n",
       "      <td>valentino</td>\n",
       "    </tr>\n",
       "    <tr>\n",
       "      <th>86</th>\n",
       "      <td>78499693</td>\n",
       "      <td>16</td>\n",
       "      <td>dolce &amp; gabbana</td>\n",
       "    </tr>\n",
       "  </tbody>\n",
       "</table>\n",
       "<p>87 rows × 3 columns</p>\n",
       "</div>"
      ],
      "text/plain": [
       "    cluster_id  Amount              brand_y\n",
       "0       135583      18               tissot\n",
       "1       138313      17  christian louboutin\n",
       "2       148199      24              ray ban\n",
       "3       150932      25        louis vuitton\n",
       "4       159911      18              chopard\n",
       "..         ...     ...                  ...\n",
       "82    48051979      17         calvin klein\n",
       "83    58083280      24                 nike\n",
       "84    58592784      19                 nike\n",
       "85    77602818      16            valentino\n",
       "86    78499693      16      dolce & gabbana\n",
       "\n",
       "[87 rows x 3 columns]"
      ]
     },
     "execution_count": 36,
     "metadata": {},
     "output_type": "execute_result"
    }
   ],
   "source": [
    "#merge brand name to cluster amount\n",
    "df_cluster_brand_clothes = df_15_clothes[df_15_clothes['Amount']<400].merge(df_joined_clothes.dropna()[['cluster_id','brand_y']].drop_duplicates('cluster_id', keep='last'), left_on=['cluster_id'], right_on = ['cluster_id'], how='left')\n",
    "df_cluster_brand_clothes"
   ]
  },
  {
   "cell_type": "code",
   "execution_count": 37,
   "metadata": {},
   "outputs": [
    {
     "data": {
      "text/html": [
       "<div>\n",
       "<style scoped>\n",
       "    .dataframe tbody tr th:only-of-type {\n",
       "        vertical-align: middle;\n",
       "    }\n",
       "\n",
       "    .dataframe tbody tr th {\n",
       "        vertical-align: top;\n",
       "    }\n",
       "\n",
       "    .dataframe thead th {\n",
       "        text-align: right;\n",
       "    }\n",
       "</style>\n",
       "<table border=\"1\" class=\"dataframe\">\n",
       "  <thead>\n",
       "    <tr style=\"text-align: right;\">\n",
       "      <th></th>\n",
       "      <th>cluster_id</th>\n",
       "      <th>Amount</th>\n",
       "      <th>brand_y</th>\n",
       "    </tr>\n",
       "  </thead>\n",
       "  <tbody>\n",
       "    <tr>\n",
       "      <th>73</th>\n",
       "      <td>5672069</td>\n",
       "      <td>289</td>\n",
       "      <td>gucci</td>\n",
       "    </tr>\n",
       "    <tr>\n",
       "      <th>53</th>\n",
       "      <td>2202568</td>\n",
       "      <td>139</td>\n",
       "      <td>NaN</td>\n",
       "    </tr>\n",
       "    <tr>\n",
       "      <th>10</th>\n",
       "      <td>329538</td>\n",
       "      <td>135</td>\n",
       "      <td>christian louboutin</td>\n",
       "    </tr>\n",
       "    <tr>\n",
       "      <th>65</th>\n",
       "      <td>2933691</td>\n",
       "      <td>110</td>\n",
       "      <td>fendi</td>\n",
       "    </tr>\n",
       "    <tr>\n",
       "      <th>19</th>\n",
       "      <td>527917</td>\n",
       "      <td>110</td>\n",
       "      <td>chanel</td>\n",
       "    </tr>\n",
       "    <tr>\n",
       "      <th>45</th>\n",
       "      <td>1524820</td>\n",
       "      <td>95</td>\n",
       "      <td>prada</td>\n",
       "    </tr>\n",
       "    <tr>\n",
       "      <th>49</th>\n",
       "      <td>1765562</td>\n",
       "      <td>73</td>\n",
       "      <td>rolex</td>\n",
       "    </tr>\n",
       "    <tr>\n",
       "      <th>52</th>\n",
       "      <td>2132296</td>\n",
       "      <td>61</td>\n",
       "      <td>the north face</td>\n",
       "    </tr>\n",
       "    <tr>\n",
       "      <th>41</th>\n",
       "      <td>1467318</td>\n",
       "      <td>48</td>\n",
       "      <td>elie saab</td>\n",
       "    </tr>\n",
       "    <tr>\n",
       "      <th>56</th>\n",
       "      <td>2434654</td>\n",
       "      <td>46</td>\n",
       "      <td>louis vuitton</td>\n",
       "    </tr>\n",
       "    <tr>\n",
       "      <th>70</th>\n",
       "      <td>3324035</td>\n",
       "      <td>40</td>\n",
       "      <td>oakley</td>\n",
       "    </tr>\n",
       "    <tr>\n",
       "      <th>35</th>\n",
       "      <td>1086463</td>\n",
       "      <td>39</td>\n",
       "      <td>cartier</td>\n",
       "    </tr>\n",
       "    <tr>\n",
       "      <th>6</th>\n",
       "      <td>226659</td>\n",
       "      <td>30</td>\n",
       "      <td>ray ban</td>\n",
       "    </tr>\n",
       "    <tr>\n",
       "      <th>22</th>\n",
       "      <td>584195</td>\n",
       "      <td>27</td>\n",
       "      <td>adidas</td>\n",
       "    </tr>\n",
       "    <tr>\n",
       "      <th>83</th>\n",
       "      <td>58083280</td>\n",
       "      <td>24</td>\n",
       "      <td>nike</td>\n",
       "    </tr>\n",
       "    <tr>\n",
       "      <th>27</th>\n",
       "      <td>878031</td>\n",
       "      <td>24</td>\n",
       "      <td>omega</td>\n",
       "    </tr>\n",
       "    <tr>\n",
       "      <th>62</th>\n",
       "      <td>2825229</td>\n",
       "      <td>24</td>\n",
       "      <td>calvin klein</td>\n",
       "    </tr>\n",
       "    <tr>\n",
       "      <th>67</th>\n",
       "      <td>3015048</td>\n",
       "      <td>22</td>\n",
       "      <td>tissot</td>\n",
       "    </tr>\n",
       "    <tr>\n",
       "      <th>60</th>\n",
       "      <td>2628369</td>\n",
       "      <td>20</td>\n",
       "      <td>tag heuer</td>\n",
       "    </tr>\n",
       "    <tr>\n",
       "      <th>4</th>\n",
       "      <td>159911</td>\n",
       "      <td>18</td>\n",
       "      <td>chopard</td>\n",
       "    </tr>\n",
       "    <tr>\n",
       "      <th>29</th>\n",
       "      <td>944406</td>\n",
       "      <td>18</td>\n",
       "      <td>dolce &amp; gabbana</td>\n",
       "    </tr>\n",
       "    <tr>\n",
       "      <th>75</th>\n",
       "      <td>12651417</td>\n",
       "      <td>17</td>\n",
       "      <td>tory burch</td>\n",
       "    </tr>\n",
       "    <tr>\n",
       "      <th>74</th>\n",
       "      <td>8280952</td>\n",
       "      <td>17</td>\n",
       "      <td>valentino</td>\n",
       "    </tr>\n",
       "    <tr>\n",
       "      <th>20</th>\n",
       "      <td>531122</td>\n",
       "      <td>17</td>\n",
       "      <td>patagonia</td>\n",
       "    </tr>\n",
       "    <tr>\n",
       "      <th>55</th>\n",
       "      <td>2395583</td>\n",
       "      <td>16</td>\n",
       "      <td>armani</td>\n",
       "    </tr>\n",
       "    <tr>\n",
       "      <th>81</th>\n",
       "      <td>44159446</td>\n",
       "      <td>16</td>\n",
       "      <td>michael kors</td>\n",
       "    </tr>\n",
       "    <tr>\n",
       "      <th>69</th>\n",
       "      <td>3249785</td>\n",
       "      <td>16</td>\n",
       "      <td>brunello cucinelli</td>\n",
       "    </tr>\n",
       "  </tbody>\n",
       "</table>\n",
       "</div>"
      ],
      "text/plain": [
       "    cluster_id  Amount              brand_y\n",
       "73     5672069     289                gucci\n",
       "53     2202568     139                  NaN\n",
       "10      329538     135  christian louboutin\n",
       "65     2933691     110                fendi\n",
       "19      527917     110               chanel\n",
       "45     1524820      95                prada\n",
       "49     1765562      73                rolex\n",
       "52     2132296      61       the north face\n",
       "41     1467318      48            elie saab\n",
       "56     2434654      46        louis vuitton\n",
       "70     3324035      40               oakley\n",
       "35     1086463      39              cartier\n",
       "6       226659      30              ray ban\n",
       "22      584195      27               adidas\n",
       "83    58083280      24                 nike\n",
       "27      878031      24                omega\n",
       "62     2825229      24         calvin klein\n",
       "67     3015048      22               tissot\n",
       "60     2628369      20            tag heuer\n",
       "4       159911      18              chopard\n",
       "29      944406      18      dolce & gabbana\n",
       "75    12651417      17           tory burch\n",
       "74     8280952      17            valentino\n",
       "20      531122      17            patagonia\n",
       "55     2395583      16               armani\n",
       "81    44159446      16         michael kors\n",
       "69     3249785      16   brunello cucinelli"
      ]
     },
     "execution_count": 37,
     "metadata": {},
     "output_type": "execute_result"
    }
   ],
   "source": [
    "#get the top clusters per brand\n",
    "df_top_clusters_clothes = df_cluster_brand_clothes.sort_values(['Amount'], ascending=False).drop_duplicates(subset=[\"brand_y\"], keep=\"first\")\n",
    "df_top_clusters_clothes"
   ]
  },
  {
   "cell_type": "code",
   "execution_count": 96,
   "metadata": {},
   "outputs": [
    {
     "data": {
      "text/html": [
       "<div>\n",
       "<style scoped>\n",
       "    .dataframe tbody tr th:only-of-type {\n",
       "        vertical-align: middle;\n",
       "    }\n",
       "\n",
       "    .dataframe tbody tr th {\n",
       "        vertical-align: top;\n",
       "    }\n",
       "\n",
       "    .dataframe thead th {\n",
       "        text-align: right;\n",
       "    }\n",
       "</style>\n",
       "<table border=\"1\" class=\"dataframe\">\n",
       "  <thead>\n",
       "    <tr style=\"text-align: right;\">\n",
       "      <th></th>\n",
       "      <th>cluster_id</th>\n",
       "      <th>url</th>\n",
       "      <th>row_id</th>\n",
       "      <th>table_id</th>\n",
       "      <th>Valid</th>\n",
       "      <th>brand</th>\n",
       "    </tr>\n",
       "  </thead>\n",
       "  <tbody>\n",
       "    <tr>\n",
       "      <th>1126480</th>\n",
       "      <td>22374915</td>\n",
       "      <td>https://06.aplikasionlineshop.com/index.php/product/unero-military-classical-backpack</td>\n",
       "      <td>14</td>\n",
       "      <td>Product_aplikasionlineshop.com_September2020.json.gz</td>\n",
       "      <td>1</td>\n",
       "      <td>None</td>\n",
       "    </tr>\n",
       "    <tr>\n",
       "      <th>2128782</th>\n",
       "      <td>22374915</td>\n",
       "      <td>https://pensalo.com/product/unero-military-classical-backpack</td>\n",
       "      <td>16</td>\n",
       "      <td>Product_pensalo.com_September2020.json.gz</td>\n",
       "      <td>1</td>\n",
       "      <td>None</td>\n",
       "    </tr>\n",
       "    <tr>\n",
       "      <th>5574153</th>\n",
       "      <td>22374915</td>\n",
       "      <td>https://nelau.com/?product=unero-military-classical-backpack</td>\n",
       "      <td>14</td>\n",
       "      <td>Product_nelau.com_September2020.json.gz</td>\n",
       "      <td>1</td>\n",
       "      <td>None</td>\n",
       "    </tr>\n",
       "    <tr>\n",
       "      <th>5848416</th>\n",
       "      <td>22374915</td>\n",
       "      <td>https://pcmundo.com.mx/producto/panasonic-invertr-900l-refrigerator</td>\n",
       "      <td>70</td>\n",
       "      <td>Product_pcmundo.com.mx_September2020.json.gz</td>\n",
       "      <td>1</td>\n",
       "      <td>None</td>\n",
       "    </tr>\n",
       "    <tr>\n",
       "      <th>6191685</th>\n",
       "      <td>22374915</td>\n",
       "      <td>https://ebonth.com/product/unero-military-classical-backpack</td>\n",
       "      <td>24</td>\n",
       "      <td>Product_ebonth.com_September2020.json.gz</td>\n",
       "      <td>1</td>\n",
       "      <td>None</td>\n",
       "    </tr>\n",
       "    <tr>\n",
       "      <th>6994438</th>\n",
       "      <td>22374915</td>\n",
       "      <td>https://winnershopbd.com/product/unero-military-classical-backpack</td>\n",
       "      <td>22</td>\n",
       "      <td>Product_winnershopbd.com_September2020.json.gz</td>\n",
       "      <td>1</td>\n",
       "      <td>None</td>\n",
       "    </tr>\n",
       "    <tr>\n",
       "      <th>8350514</th>\n",
       "      <td>22374915</td>\n",
       "      <td>https://ikotaonline.com/product/unero-military-classical-backpack</td>\n",
       "      <td>15</td>\n",
       "      <td>Product_ikotaonline.com_September2020.json.gz</td>\n",
       "      <td>1</td>\n",
       "      <td>None</td>\n",
       "    </tr>\n",
       "    <tr>\n",
       "      <th>8765168</th>\n",
       "      <td>22374915</td>\n",
       "      <td>https://grixbase.com/product/graco-slim-snacker-high-chair-whisk</td>\n",
       "      <td>26</td>\n",
       "      <td>Product_grixbase.com_September2020.json.gz</td>\n",
       "      <td>1</td>\n",
       "      <td>None</td>\n",
       "    </tr>\n",
       "    <tr>\n",
       "      <th>9447506</th>\n",
       "      <td>22374915</td>\n",
       "      <td>https://www.digitalshopup.com/product/unero-military-classical-backpack</td>\n",
       "      <td>6</td>\n",
       "      <td>Product_digitalshopup.com_September2020.json.gz</td>\n",
       "      <td>1</td>\n",
       "      <td>None</td>\n",
       "    </tr>\n",
       "    <tr>\n",
       "      <th>10271721</th>\n",
       "      <td>22374915</td>\n",
       "      <td>https://ktrworld.com/product/unero-military-classical-backpack</td>\n",
       "      <td>78</td>\n",
       "      <td>Product_ktrworld.com_September2020.json.gz</td>\n",
       "      <td>1</td>\n",
       "      <td>None</td>\n",
       "    </tr>\n",
       "    <tr>\n",
       "      <th>11773220</th>\n",
       "      <td>22374915</td>\n",
       "      <td>https://aventuradiner.com/shop/international-foods/unero-military-classical-backpack</td>\n",
       "      <td>93</td>\n",
       "      <td>Product_aventuradiner.com_September2020.json.gz</td>\n",
       "      <td>1</td>\n",
       "      <td>None</td>\n",
       "    </tr>\n",
       "    <tr>\n",
       "      <th>18679974</th>\n",
       "      <td>22374915</td>\n",
       "      <td>https://05.aplikasionlineshop.com/index.php/product/unero-military-classical-backpack</td>\n",
       "      <td>47</td>\n",
       "      <td>Product_aplikasionlineshop.com_September2020.json.gz</td>\n",
       "      <td>1</td>\n",
       "      <td>None</td>\n",
       "    </tr>\n",
       "    <tr>\n",
       "      <th>18961276</th>\n",
       "      <td>22374915</td>\n",
       "      <td>https://apkgood.com/product/graco-slim-snacker-high-chair-whisk</td>\n",
       "      <td>25</td>\n",
       "      <td>Product_apkgood.com_September2020.json.gz</td>\n",
       "      <td>1</td>\n",
       "      <td>None</td>\n",
       "    </tr>\n",
       "    <tr>\n",
       "      <th>19633516</th>\n",
       "      <td>22374915</td>\n",
       "      <td>https://7bucket.com/product/unero-military-classical-backpack</td>\n",
       "      <td>22</td>\n",
       "      <td>Product_7bucket.com_September2020.json.gz</td>\n",
       "      <td>1</td>\n",
       "      <td>None</td>\n",
       "    </tr>\n",
       "    <tr>\n",
       "      <th>20513728</th>\n",
       "      <td>22374915</td>\n",
       "      <td>https://buttfittings.com/product/unero-military-classical-backpack</td>\n",
       "      <td>19</td>\n",
       "      <td>Product_buttfittings.com_September2020.json.gz</td>\n",
       "      <td>1</td>\n",
       "      <td>None</td>\n",
       "    </tr>\n",
       "    <tr>\n",
       "      <th>21016790</th>\n",
       "      <td>22374915</td>\n",
       "      <td>https://meerab-industries.com/puma-polo-shirts-mens-clothing-wholesale</td>\n",
       "      <td>17</td>\n",
       "      <td>Product_meerab-industries.com_September2020.json.gz</td>\n",
       "      <td>1</td>\n",
       "      <td>puma</td>\n",
       "    </tr>\n",
       "  </tbody>\n",
       "</table>\n",
       "</div>"
      ],
      "text/plain": [
       "          cluster_id  \\\n",
       "1126480     22374915   \n",
       "2128782     22374915   \n",
       "5574153     22374915   \n",
       "5848416     22374915   \n",
       "6191685     22374915   \n",
       "6994438     22374915   \n",
       "8350514     22374915   \n",
       "8765168     22374915   \n",
       "9447506     22374915   \n",
       "10271721    22374915   \n",
       "11773220    22374915   \n",
       "18679974    22374915   \n",
       "18961276    22374915   \n",
       "19633516    22374915   \n",
       "20513728    22374915   \n",
       "21016790    22374915   \n",
       "\n",
       "                                                                                            url  \\\n",
       "1126480   https://06.aplikasionlineshop.com/index.php/product/unero-military-classical-backpack   \n",
       "2128782                           https://pensalo.com/product/unero-military-classical-backpack   \n",
       "5574153                            https://nelau.com/?product=unero-military-classical-backpack   \n",
       "5848416                     https://pcmundo.com.mx/producto/panasonic-invertr-900l-refrigerator   \n",
       "6191685                            https://ebonth.com/product/unero-military-classical-backpack   \n",
       "6994438                      https://winnershopbd.com/product/unero-military-classical-backpack   \n",
       "8350514                       https://ikotaonline.com/product/unero-military-classical-backpack   \n",
       "8765168                        https://grixbase.com/product/graco-slim-snacker-high-chair-whisk   \n",
       "9447506                 https://www.digitalshopup.com/product/unero-military-classical-backpack   \n",
       "10271721                         https://ktrworld.com/product/unero-military-classical-backpack   \n",
       "11773220   https://aventuradiner.com/shop/international-foods/unero-military-classical-backpack   \n",
       "18679974  https://05.aplikasionlineshop.com/index.php/product/unero-military-classical-backpack   \n",
       "18961276                        https://apkgood.com/product/graco-slim-snacker-high-chair-whisk   \n",
       "19633516                          https://7bucket.com/product/unero-military-classical-backpack   \n",
       "20513728                     https://buttfittings.com/product/unero-military-classical-backpack   \n",
       "21016790                 https://meerab-industries.com/puma-polo-shirts-mens-clothing-wholesale   \n",
       "\n",
       "          row_id                                              table_id  Valid  \\\n",
       "1126480       14  Product_aplikasionlineshop.com_September2020.json.gz      1   \n",
       "2128782       16             Product_pensalo.com_September2020.json.gz      1   \n",
       "5574153       14               Product_nelau.com_September2020.json.gz      1   \n",
       "5848416       70          Product_pcmundo.com.mx_September2020.json.gz      1   \n",
       "6191685       24              Product_ebonth.com_September2020.json.gz      1   \n",
       "6994438       22        Product_winnershopbd.com_September2020.json.gz      1   \n",
       "8350514       15         Product_ikotaonline.com_September2020.json.gz      1   \n",
       "8765168       26            Product_grixbase.com_September2020.json.gz      1   \n",
       "9447506        6       Product_digitalshopup.com_September2020.json.gz      1   \n",
       "10271721      78            Product_ktrworld.com_September2020.json.gz      1   \n",
       "11773220      93       Product_aventuradiner.com_September2020.json.gz      1   \n",
       "18679974      47  Product_aplikasionlineshop.com_September2020.json.gz      1   \n",
       "18961276      25             Product_apkgood.com_September2020.json.gz      1   \n",
       "19633516      22             Product_7bucket.com_September2020.json.gz      1   \n",
       "20513728      19        Product_buttfittings.com_September2020.json.gz      1   \n",
       "21016790      17   Product_meerab-industries.com_September2020.json.gz      1   \n",
       "\n",
       "         brand  \n",
       "1126480   None  \n",
       "2128782   None  \n",
       "5574153   None  \n",
       "5848416   None  \n",
       "6191685   None  \n",
       "6994438   None  \n",
       "8350514   None  \n",
       "8765168   None  \n",
       "9447506   None  \n",
       "10271721  None  \n",
       "11773220  None  \n",
       "18679974  None  \n",
       "18961276  None  \n",
       "19633516  None  \n",
       "20513728  None  \n",
       "21016790  puma  "
      ]
     },
     "execution_count": 96,
     "metadata": {},
     "output_type": "execute_result"
    }
   ],
   "source": [
    "df_joined_clothes[(df_joined_clothes['cluster_id']==22374915)]"
   ]
  },
  {
   "cell_type": "code",
   "execution_count": 98,
   "metadata": {},
   "outputs": [
    {
     "data": {
      "text/html": [
       "<div>\n",
       "<style scoped>\n",
       "    .dataframe tbody tr th:only-of-type {\n",
       "        vertical-align: middle;\n",
       "    }\n",
       "\n",
       "    .dataframe tbody tr th {\n",
       "        vertical-align: top;\n",
       "    }\n",
       "\n",
       "    .dataframe thead th {\n",
       "        text-align: right;\n",
       "    }\n",
       "</style>\n",
       "<table border=\"1\" class=\"dataframe\">\n",
       "  <thead>\n",
       "    <tr style=\"text-align: right;\">\n",
       "      <th></th>\n",
       "      <th>cluster_id</th>\n",
       "      <th>url</th>\n",
       "      <th>row_id</th>\n",
       "      <th>table_id</th>\n",
       "      <th>Valid</th>\n",
       "    </tr>\n",
       "  </thead>\n",
       "  <tbody>\n",
       "    <tr>\n",
       "      <th>1126480</th>\n",
       "      <td>22374915</td>\n",
       "      <td>https://06.aplikasionlineshop.com/index.php/product/unero-military-classical-backpack</td>\n",
       "      <td>14</td>\n",
       "      <td>Product_aplikasionlineshop.com_September2020.json.gz</td>\n",
       "      <td>1</td>\n",
       "    </tr>\n",
       "    <tr>\n",
       "      <th>2128782</th>\n",
       "      <td>22374915</td>\n",
       "      <td>https://pensalo.com/product/unero-military-classical-backpack</td>\n",
       "      <td>16</td>\n",
       "      <td>Product_pensalo.com_September2020.json.gz</td>\n",
       "      <td>1</td>\n",
       "    </tr>\n",
       "    <tr>\n",
       "      <th>5574153</th>\n",
       "      <td>22374915</td>\n",
       "      <td>https://nelau.com/?product=unero-military-classical-backpack</td>\n",
       "      <td>14</td>\n",
       "      <td>Product_nelau.com_September2020.json.gz</td>\n",
       "      <td>1</td>\n",
       "    </tr>\n",
       "    <tr>\n",
       "      <th>5848416</th>\n",
       "      <td>22374915</td>\n",
       "      <td>https://pcmundo.com.mx/producto/panasonic-invertr-900l-refrigerator</td>\n",
       "      <td>70</td>\n",
       "      <td>Product_pcmundo.com.mx_September2020.json.gz</td>\n",
       "      <td>1</td>\n",
       "    </tr>\n",
       "    <tr>\n",
       "      <th>6191685</th>\n",
       "      <td>22374915</td>\n",
       "      <td>https://ebonth.com/product/unero-military-classical-backpack</td>\n",
       "      <td>24</td>\n",
       "      <td>Product_ebonth.com_September2020.json.gz</td>\n",
       "      <td>1</td>\n",
       "    </tr>\n",
       "    <tr>\n",
       "      <th>6994438</th>\n",
       "      <td>22374915</td>\n",
       "      <td>https://winnershopbd.com/product/unero-military-classical-backpack</td>\n",
       "      <td>22</td>\n",
       "      <td>Product_winnershopbd.com_September2020.json.gz</td>\n",
       "      <td>1</td>\n",
       "    </tr>\n",
       "    <tr>\n",
       "      <th>8350514</th>\n",
       "      <td>22374915</td>\n",
       "      <td>https://ikotaonline.com/product/unero-military-classical-backpack</td>\n",
       "      <td>15</td>\n",
       "      <td>Product_ikotaonline.com_September2020.json.gz</td>\n",
       "      <td>1</td>\n",
       "    </tr>\n",
       "    <tr>\n",
       "      <th>8765168</th>\n",
       "      <td>22374915</td>\n",
       "      <td>https://grixbase.com/product/graco-slim-snacker-high-chair-whisk</td>\n",
       "      <td>26</td>\n",
       "      <td>Product_grixbase.com_September2020.json.gz</td>\n",
       "      <td>1</td>\n",
       "    </tr>\n",
       "    <tr>\n",
       "      <th>9447506</th>\n",
       "      <td>22374915</td>\n",
       "      <td>https://www.digitalshopup.com/product/unero-military-classical-backpack</td>\n",
       "      <td>6</td>\n",
       "      <td>Product_digitalshopup.com_September2020.json.gz</td>\n",
       "      <td>1</td>\n",
       "    </tr>\n",
       "    <tr>\n",
       "      <th>10271721</th>\n",
       "      <td>22374915</td>\n",
       "      <td>https://ktrworld.com/product/unero-military-classical-backpack</td>\n",
       "      <td>78</td>\n",
       "      <td>Product_ktrworld.com_September2020.json.gz</td>\n",
       "      <td>1</td>\n",
       "    </tr>\n",
       "    <tr>\n",
       "      <th>11773220</th>\n",
       "      <td>22374915</td>\n",
       "      <td>https://aventuradiner.com/shop/international-foods/unero-military-classical-backpack</td>\n",
       "      <td>93</td>\n",
       "      <td>Product_aventuradiner.com_September2020.json.gz</td>\n",
       "      <td>1</td>\n",
       "    </tr>\n",
       "    <tr>\n",
       "      <th>18679974</th>\n",
       "      <td>22374915</td>\n",
       "      <td>https://05.aplikasionlineshop.com/index.php/product/unero-military-classical-backpack</td>\n",
       "      <td>47</td>\n",
       "      <td>Product_aplikasionlineshop.com_September2020.json.gz</td>\n",
       "      <td>1</td>\n",
       "    </tr>\n",
       "    <tr>\n",
       "      <th>18961276</th>\n",
       "      <td>22374915</td>\n",
       "      <td>https://apkgood.com/product/graco-slim-snacker-high-chair-whisk</td>\n",
       "      <td>25</td>\n",
       "      <td>Product_apkgood.com_September2020.json.gz</td>\n",
       "      <td>1</td>\n",
       "    </tr>\n",
       "    <tr>\n",
       "      <th>19633516</th>\n",
       "      <td>22374915</td>\n",
       "      <td>https://7bucket.com/product/unero-military-classical-backpack</td>\n",
       "      <td>22</td>\n",
       "      <td>Product_7bucket.com_September2020.json.gz</td>\n",
       "      <td>1</td>\n",
       "    </tr>\n",
       "    <tr>\n",
       "      <th>20513728</th>\n",
       "      <td>22374915</td>\n",
       "      <td>https://buttfittings.com/product/unero-military-classical-backpack</td>\n",
       "      <td>19</td>\n",
       "      <td>Product_buttfittings.com_September2020.json.gz</td>\n",
       "      <td>1</td>\n",
       "    </tr>\n",
       "    <tr>\n",
       "      <th>21016790</th>\n",
       "      <td>22374915</td>\n",
       "      <td>https://meerab-industries.com/puma-polo-shirts-mens-clothing-wholesale</td>\n",
       "      <td>17</td>\n",
       "      <td>Product_meerab-industries.com_September2020.json.gz</td>\n",
       "      <td>1</td>\n",
       "    </tr>\n",
       "  </tbody>\n",
       "</table>\n",
       "</div>"
      ],
      "text/plain": [
       "          cluster_id  \\\n",
       "1126480     22374915   \n",
       "2128782     22374915   \n",
       "5574153     22374915   \n",
       "5848416     22374915   \n",
       "6191685     22374915   \n",
       "6994438     22374915   \n",
       "8350514     22374915   \n",
       "8765168     22374915   \n",
       "9447506     22374915   \n",
       "10271721    22374915   \n",
       "11773220    22374915   \n",
       "18679974    22374915   \n",
       "18961276    22374915   \n",
       "19633516    22374915   \n",
       "20513728    22374915   \n",
       "21016790    22374915   \n",
       "\n",
       "                                                                                            url  \\\n",
       "1126480   https://06.aplikasionlineshop.com/index.php/product/unero-military-classical-backpack   \n",
       "2128782                           https://pensalo.com/product/unero-military-classical-backpack   \n",
       "5574153                            https://nelau.com/?product=unero-military-classical-backpack   \n",
       "5848416                     https://pcmundo.com.mx/producto/panasonic-invertr-900l-refrigerator   \n",
       "6191685                            https://ebonth.com/product/unero-military-classical-backpack   \n",
       "6994438                      https://winnershopbd.com/product/unero-military-classical-backpack   \n",
       "8350514                       https://ikotaonline.com/product/unero-military-classical-backpack   \n",
       "8765168                        https://grixbase.com/product/graco-slim-snacker-high-chair-whisk   \n",
       "9447506                 https://www.digitalshopup.com/product/unero-military-classical-backpack   \n",
       "10271721                         https://ktrworld.com/product/unero-military-classical-backpack   \n",
       "11773220   https://aventuradiner.com/shop/international-foods/unero-military-classical-backpack   \n",
       "18679974  https://05.aplikasionlineshop.com/index.php/product/unero-military-classical-backpack   \n",
       "18961276                        https://apkgood.com/product/graco-slim-snacker-high-chair-whisk   \n",
       "19633516                          https://7bucket.com/product/unero-military-classical-backpack   \n",
       "20513728                     https://buttfittings.com/product/unero-military-classical-backpack   \n",
       "21016790                 https://meerab-industries.com/puma-polo-shirts-mens-clothing-wholesale   \n",
       "\n",
       "          row_id                                              table_id  Valid  \n",
       "1126480       14  Product_aplikasionlineshop.com_September2020.json.gz      1  \n",
       "2128782       16             Product_pensalo.com_September2020.json.gz      1  \n",
       "5574153       14               Product_nelau.com_September2020.json.gz      1  \n",
       "5848416       70          Product_pcmundo.com.mx_September2020.json.gz      1  \n",
       "6191685       24              Product_ebonth.com_September2020.json.gz      1  \n",
       "6994438       22        Product_winnershopbd.com_September2020.json.gz      1  \n",
       "8350514       15         Product_ikotaonline.com_September2020.json.gz      1  \n",
       "8765168       26            Product_grixbase.com_September2020.json.gz      1  \n",
       "9447506        6       Product_digitalshopup.com_September2020.json.gz      1  \n",
       "10271721      78            Product_ktrworld.com_September2020.json.gz      1  \n",
       "11773220      93       Product_aventuradiner.com_September2020.json.gz      1  \n",
       "18679974      47  Product_aplikasionlineshop.com_September2020.json.gz      1  \n",
       "18961276      25             Product_apkgood.com_September2020.json.gz      1  \n",
       "19633516      22             Product_7bucket.com_September2020.json.gz      1  \n",
       "20513728      19        Product_buttfittings.com_September2020.json.gz      1  \n",
       "21016790      17   Product_meerab-industries.com_September2020.json.gz      1  "
      ]
     },
     "execution_count": 98,
     "metadata": {},
     "output_type": "execute_result"
    }
   ],
   "source": [
    "df_large[df_large['cluster_id']==22374915]"
   ]
  },
  {
   "cell_type": "markdown",
   "metadata": {},
   "source": [
    "## Get information about the cluster distribution per table to get a first glance at which tables for which clusters have an overlap to get good training data"
   ]
  },
  {
   "cell_type": "markdown",
   "metadata": {},
   "source": [
    "#### Have at first a look at electronic products"
   ]
  },
  {
   "cell_type": "code",
   "execution_count": 40,
   "metadata": {},
   "outputs": [
    {
     "data": {
      "text/html": [
       "<div>\n",
       "<style scoped>\n",
       "    .dataframe tbody tr th:only-of-type {\n",
       "        vertical-align: middle;\n",
       "    }\n",
       "\n",
       "    .dataframe tbody tr th {\n",
       "        vertical-align: top;\n",
       "    }\n",
       "\n",
       "    .dataframe thead th {\n",
       "        text-align: right;\n",
       "    }\n",
       "</style>\n",
       "<table border=\"1\" class=\"dataframe\">\n",
       "  <thead>\n",
       "    <tr style=\"text-align: right;\">\n",
       "      <th></th>\n",
       "      <th>cluster_id</th>\n",
       "      <th>url</th>\n",
       "      <th>row_id</th>\n",
       "      <th>table_id</th>\n",
       "      <th>Valid</th>\n",
       "      <th>brand</th>\n",
       "      <th>product_name</th>\n",
       "    </tr>\n",
       "  </thead>\n",
       "  <tbody>\n",
       "    <tr>\n",
       "      <th>0</th>\n",
       "      <td>59178314</td>\n",
       "      <td>https://www.cultureindoor.com/796-irrigation-arrosage-tuyau-pe-20mm-semi-rigide-rouleau-100m.html</td>\n",
       "      <td>1561</td>\n",
       "      <td>Product_cultureindoor.com_September2020.json.gz</td>\n",
       "      <td>1</td>\n",
       "      <td>None</td>\n",
       "      <td>796-irrigation-arrosage-tuyau-pe-20mm-semi-rigide-rouleau-100m.html</td>\n",
       "    </tr>\n",
       "    <tr>\n",
       "      <th>1</th>\n",
       "      <td>70692685</td>\n",
       "      <td>https://www.culturekings.com/products/new-era-new-era-new-orleans-pelicans-nba-940-a-frame-snapback-black</td>\n",
       "      <td>3893</td>\n",
       "      <td>Product_culturekings.com_September2020.json.gz</td>\n",
       "      <td>1</td>\n",
       "      <td>None</td>\n",
       "      <td>new-era-new-era-new-orleans-pelicans-nba-940-a-frame-snapback-black</td>\n",
       "    </tr>\n",
       "    <tr>\n",
       "      <th>2</th>\n",
       "      <td>395606</td>\n",
       "      <td>https://www.culturekings.com/products/new-era-x-nrl-west-tigers-aframe-charcoal-orange</td>\n",
       "      <td>3894</td>\n",
       "      <td>Product_culturekings.com_September2020.json.gz</td>\n",
       "      <td>1</td>\n",
       "      <td>None</td>\n",
       "      <td>new-era-x-nrl-west-tigers-aframe-charcoal-orange</td>\n",
       "    </tr>\n",
       "    <tr>\n",
       "      <th>3</th>\n",
       "      <td>3361797</td>\n",
       "      <td>https://www.customizedgirl.com/design/2605608/The+Real+Baseball+Moms</td>\n",
       "      <td>9318</td>\n",
       "      <td>Product_customizedgirl.com_September2020.json.gz</td>\n",
       "      <td>1</td>\n",
       "      <td>None</td>\n",
       "      <td>The+Real+Baseball+Moms</td>\n",
       "    </tr>\n",
       "    <tr>\n",
       "      <th>4</th>\n",
       "      <td>235755</td>\n",
       "      <td>https://www.customizedgirl.com/design/2613423/Mentally+Dating+Ronaldo</td>\n",
       "      <td>9319</td>\n",
       "      <td>Product_customizedgirl.com_September2020.json.gz</td>\n",
       "      <td>1</td>\n",
       "      <td>None</td>\n",
       "      <td>Mentally+Dating+Ronaldo</td>\n",
       "    </tr>\n",
       "    <tr>\n",
       "      <th>...</th>\n",
       "      <td>...</td>\n",
       "      <td>...</td>\n",
       "      <td>...</td>\n",
       "      <td>...</td>\n",
       "      <td>...</td>\n",
       "      <td>...</td>\n",
       "      <td>...</td>\n",
       "    </tr>\n",
       "    <tr>\n",
       "      <th>24687502</th>\n",
       "      <td>8653717</td>\n",
       "      <td>https://shop-list.com/women/utuwa-tatara/sg3232-03</td>\n",
       "      <td>1620</td>\n",
       "      <td>Product_shop-list.com_September2020.json.gz</td>\n",
       "      <td>1</td>\n",
       "      <td>None</td>\n",
       "      <td>sg3232-03</td>\n",
       "    </tr>\n",
       "    <tr>\n",
       "      <th>24687503</th>\n",
       "      <td>22258637</td>\n",
       "      <td>https://shop-list.com/women/youmotto/famille-ltm</td>\n",
       "      <td>1621</td>\n",
       "      <td>Product_shop-list.com_September2020.json.gz</td>\n",
       "      <td>1</td>\n",
       "      <td>None</td>\n",
       "      <td>famille-ltm</td>\n",
       "    </tr>\n",
       "    <tr>\n",
       "      <th>24687504</th>\n",
       "      <td>41434658</td>\n",
       "      <td>https://shop.agwaycapecod.com/products/019014710959/adult-small-breed-dog-food-5-lb</td>\n",
       "      <td>126</td>\n",
       "      <td>Product_agwaycapecod.com_September2020.json.gz</td>\n",
       "      <td>1</td>\n",
       "      <td>None</td>\n",
       "      <td>adult-small-breed-dog-food-5-lb</td>\n",
       "    </tr>\n",
       "    <tr>\n",
       "      <th>24687505</th>\n",
       "      <td>62702145</td>\n",
       "      <td>https://shop.agwaycapecod.com/products/037321455042/ant-killer-dust-3-lbs</td>\n",
       "      <td>127</td>\n",
       "      <td>Product_agwaycapecod.com_September2020.json.gz</td>\n",
       "      <td>1</td>\n",
       "      <td>None</td>\n",
       "      <td>ant-killer-dust-3-lbs</td>\n",
       "    </tr>\n",
       "    <tr>\n",
       "      <th>24687506</th>\n",
       "      <td>60936713</td>\n",
       "      <td>https://shop.areefcreation.com/products/ls-apr-344b</td>\n",
       "      <td>120</td>\n",
       "      <td>Product_areefcreation.com_September2020.json.gz</td>\n",
       "      <td>1</td>\n",
       "      <td>None</td>\n",
       "      <td>ls-apr-344b</td>\n",
       "    </tr>\n",
       "  </tbody>\n",
       "</table>\n",
       "<p>24687507 rows × 7 columns</p>\n",
       "</div>"
      ],
      "text/plain": [
       "          cluster_id  \\\n",
       "0           59178314   \n",
       "1           70692685   \n",
       "2             395606   \n",
       "3            3361797   \n",
       "4             235755   \n",
       "...              ...   \n",
       "24687502     8653717   \n",
       "24687503    22258637   \n",
       "24687504    41434658   \n",
       "24687505    62702145   \n",
       "24687506    60936713   \n",
       "\n",
       "                                                                                                                url  \\\n",
       "0                 https://www.cultureindoor.com/796-irrigation-arrosage-tuyau-pe-20mm-semi-rigide-rouleau-100m.html   \n",
       "1         https://www.culturekings.com/products/new-era-new-era-new-orleans-pelicans-nba-940-a-frame-snapback-black   \n",
       "2                            https://www.culturekings.com/products/new-era-x-nrl-west-tigers-aframe-charcoal-orange   \n",
       "3                                              https://www.customizedgirl.com/design/2605608/The+Real+Baseball+Moms   \n",
       "4                                             https://www.customizedgirl.com/design/2613423/Mentally+Dating+Ronaldo   \n",
       "...                                                                                                             ...   \n",
       "24687502                                                         https://shop-list.com/women/utuwa-tatara/sg3232-03   \n",
       "24687503                                                           https://shop-list.com/women/youmotto/famille-ltm   \n",
       "24687504                        https://shop.agwaycapecod.com/products/019014710959/adult-small-breed-dog-food-5-lb   \n",
       "24687505                                  https://shop.agwaycapecod.com/products/037321455042/ant-killer-dust-3-lbs   \n",
       "24687506                                                        https://shop.areefcreation.com/products/ls-apr-344b   \n",
       "\n",
       "          row_id                                          table_id  Valid  \\\n",
       "0           1561   Product_cultureindoor.com_September2020.json.gz      1   \n",
       "1           3893    Product_culturekings.com_September2020.json.gz      1   \n",
       "2           3894    Product_culturekings.com_September2020.json.gz      1   \n",
       "3           9318  Product_customizedgirl.com_September2020.json.gz      1   \n",
       "4           9319  Product_customizedgirl.com_September2020.json.gz      1   \n",
       "...          ...                                               ...    ...   \n",
       "24687502    1620       Product_shop-list.com_September2020.json.gz      1   \n",
       "24687503    1621       Product_shop-list.com_September2020.json.gz      1   \n",
       "24687504     126    Product_agwaycapecod.com_September2020.json.gz      1   \n",
       "24687505     127    Product_agwaycapecod.com_September2020.json.gz      1   \n",
       "24687506     120   Product_areefcreation.com_September2020.json.gz      1   \n",
       "\n",
       "         brand  \\\n",
       "0         None   \n",
       "1         None   \n",
       "2         None   \n",
       "3         None   \n",
       "4         None   \n",
       "...        ...   \n",
       "24687502  None   \n",
       "24687503  None   \n",
       "24687504  None   \n",
       "24687505  None   \n",
       "24687506  None   \n",
       "\n",
       "                                                                 product_name  \n",
       "0         796-irrigation-arrosage-tuyau-pe-20mm-semi-rigide-rouleau-100m.html  \n",
       "1         new-era-new-era-new-orleans-pelicans-nba-940-a-frame-snapback-black  \n",
       "2                            new-era-x-nrl-west-tigers-aframe-charcoal-orange  \n",
       "3                                                      The+Real+Baseball+Moms  \n",
       "4                                                     Mentally+Dating+Ronaldo  \n",
       "...                                                                       ...  \n",
       "24687502                                                            sg3232-03  \n",
       "24687503                                                          famille-ltm  \n",
       "24687504                                      adult-small-breed-dog-food-5-lb  \n",
       "24687505                                                ant-killer-dust-3-lbs  \n",
       "24687506                                                          ls-apr-344b  \n",
       "\n",
       "[24687507 rows x 7 columns]"
      ]
     },
     "execution_count": 40,
     "metadata": {},
     "output_type": "execute_result"
    }
   ],
   "source": [
    "df_joined_electronics"
   ]
  },
  {
   "cell_type": "code",
   "execution_count": 41,
   "metadata": {},
   "outputs": [],
   "source": [
    "df_grouped_electronics_tables = df_joined_electronics.groupby('table_id').count()"
   ]
  },
  {
   "cell_type": "code",
   "execution_count": 42,
   "metadata": {},
   "outputs": [],
   "source": [
    "# only look at clusters that have at least one brand associated\n",
    "df_set_electronics_tables = df_grouped_electronics_tables[df_grouped_electronics_tables['brand']>0].reset_index()[['cluster_id','table_id']].rename(columns={'cluster_id':'Amount'})"
   ]
  },
  {
   "cell_type": "code",
   "execution_count": 43,
   "metadata": {},
   "outputs": [
    {
     "data": {
      "text/html": [
       "<div>\n",
       "<style scoped>\n",
       "    .dataframe tbody tr th:only-of-type {\n",
       "        vertical-align: middle;\n",
       "    }\n",
       "\n",
       "    .dataframe tbody tr th {\n",
       "        vertical-align: top;\n",
       "    }\n",
       "\n",
       "    .dataframe thead th {\n",
       "        text-align: right;\n",
       "    }\n",
       "</style>\n",
       "<table border=\"1\" class=\"dataframe\">\n",
       "  <thead>\n",
       "    <tr style=\"text-align: right;\">\n",
       "      <th></th>\n",
       "      <th>Amount</th>\n",
       "      <th>table_id</th>\n",
       "    </tr>\n",
       "  </thead>\n",
       "  <tbody>\n",
       "    <tr>\n",
       "      <th>0</th>\n",
       "      <td>30</td>\n",
       "      <td>Product_07magaza.com_September2020.json.gz</td>\n",
       "    </tr>\n",
       "    <tr>\n",
       "      <th>1</th>\n",
       "      <td>847</td>\n",
       "      <td>Product_07mua.com_September2020.json.gz</td>\n",
       "    </tr>\n",
       "    <tr>\n",
       "      <th>2</th>\n",
       "      <td>53</td>\n",
       "      <td>Product_100outlets.com_September2020.json.gz</td>\n",
       "    </tr>\n",
       "    <tr>\n",
       "      <th>3</th>\n",
       "      <td>127</td>\n",
       "      <td>Product_101farmacias.com_September2020.json.gz</td>\n",
       "    </tr>\n",
       "    <tr>\n",
       "      <th>4</th>\n",
       "      <td>50</td>\n",
       "      <td>Product_10ngah.com_September2020.json.gz</td>\n",
       "    </tr>\n",
       "    <tr>\n",
       "      <th>...</th>\n",
       "      <td>...</td>\n",
       "      <td>...</td>\n",
       "    </tr>\n",
       "    <tr>\n",
       "      <th>3856</th>\n",
       "      <td>8251</td>\n",
       "      <td>Product_zoro.com_September2020.json.gz</td>\n",
       "    </tr>\n",
       "    <tr>\n",
       "      <th>3857</th>\n",
       "      <td>607</td>\n",
       "      <td>Product_zotim.com.au_September2020.json.gz</td>\n",
       "    </tr>\n",
       "    <tr>\n",
       "      <th>3858</th>\n",
       "      <td>261</td>\n",
       "      <td>Product_zpcinformatica.com_September2020.json.gz</td>\n",
       "    </tr>\n",
       "    <tr>\n",
       "      <th>3859</th>\n",
       "      <td>30</td>\n",
       "      <td>Product_zsyst.com_September2020.json.gz</td>\n",
       "    </tr>\n",
       "    <tr>\n",
       "      <th>3860</th>\n",
       "      <td>2517</td>\n",
       "      <td>Product_zzounds.com_September2020.json.gz</td>\n",
       "    </tr>\n",
       "  </tbody>\n",
       "</table>\n",
       "<p>3861 rows × 2 columns</p>\n",
       "</div>"
      ],
      "text/plain": [
       "      Amount                                          table_id\n",
       "0         30        Product_07magaza.com_September2020.json.gz\n",
       "1        847           Product_07mua.com_September2020.json.gz\n",
       "2         53      Product_100outlets.com_September2020.json.gz\n",
       "3        127    Product_101farmacias.com_September2020.json.gz\n",
       "4         50          Product_10ngah.com_September2020.json.gz\n",
       "...      ...                                               ...\n",
       "3856    8251            Product_zoro.com_September2020.json.gz\n",
       "3857     607        Product_zotim.com.au_September2020.json.gz\n",
       "3858     261  Product_zpcinformatica.com_September2020.json.gz\n",
       "3859      30           Product_zsyst.com_September2020.json.gz\n",
       "3860    2517         Product_zzounds.com_September2020.json.gz\n",
       "\n",
       "[3861 rows x 2 columns]"
      ]
     },
     "execution_count": 43,
     "metadata": {},
     "output_type": "execute_result"
    }
   ],
   "source": [
    "df_set_electronics_tables"
   ]
  },
  {
   "cell_type": "code",
   "execution_count": 44,
   "metadata": {},
   "outputs": [
    {
     "data": {
      "text/html": [
       "<div>\n",
       "<style scoped>\n",
       "    .dataframe tbody tr th:only-of-type {\n",
       "        vertical-align: middle;\n",
       "    }\n",
       "\n",
       "    .dataframe tbody tr th {\n",
       "        vertical-align: top;\n",
       "    }\n",
       "\n",
       "    .dataframe thead th {\n",
       "        text-align: right;\n",
       "    }\n",
       "</style>\n",
       "<table border=\"1\" class=\"dataframe\">\n",
       "  <thead>\n",
       "    <tr style=\"text-align: right;\">\n",
       "      <th></th>\n",
       "      <th>count</th>\n",
       "      <th>mean</th>\n",
       "      <th>std</th>\n",
       "      <th>min</th>\n",
       "      <th>25%</th>\n",
       "      <th>50%</th>\n",
       "      <th>75%</th>\n",
       "      <th>max</th>\n",
       "    </tr>\n",
       "  </thead>\n",
       "  <tbody>\n",
       "    <tr>\n",
       "      <th>Amount</th>\n",
       "      <td>3861.0</td>\n",
       "      <td>537.0</td>\n",
       "      <td>1240.0</td>\n",
       "      <td>1.0</td>\n",
       "      <td>34.0</td>\n",
       "      <td>137.0</td>\n",
       "      <td>546.0</td>\n",
       "      <td>16287.0</td>\n",
       "    </tr>\n",
       "  </tbody>\n",
       "</table>\n",
       "</div>"
      ],
      "text/plain": [
       "         count   mean     std  min   25%    50%    75%      max\n",
       "Amount  3861.0  537.0  1240.0  1.0  34.0  137.0  546.0  16287.0"
      ]
     },
     "execution_count": 44,
     "metadata": {},
     "output_type": "execute_result"
    }
   ],
   "source": [
    "df_set_electronics_tables.set_index('table_id').describe().T.round()"
   ]
  },
  {
   "cell_type": "code",
   "execution_count": 45,
   "metadata": {},
   "outputs": [
    {
     "data": {
      "text/html": [
       "<div>\n",
       "<style scoped>\n",
       "    .dataframe tbody tr th:only-of-type {\n",
       "        vertical-align: middle;\n",
       "    }\n",
       "\n",
       "    .dataframe tbody tr th {\n",
       "        vertical-align: top;\n",
       "    }\n",
       "\n",
       "    .dataframe thead th {\n",
       "        text-align: right;\n",
       "    }\n",
       "</style>\n",
       "<table border=\"1\" class=\"dataframe\">\n",
       "  <thead>\n",
       "    <tr style=\"text-align: right;\">\n",
       "      <th></th>\n",
       "      <th>Amount</th>\n",
       "      <th>table_id</th>\n",
       "    </tr>\n",
       "  </thead>\n",
       "  <tbody>\n",
       "    <tr>\n",
       "      <th>1</th>\n",
       "      <td>847</td>\n",
       "      <td>Product_07mua.com_September2020.json.gz</td>\n",
       "    </tr>\n",
       "    <tr>\n",
       "      <th>3</th>\n",
       "      <td>127</td>\n",
       "      <td>Product_101farmacias.com_September2020.json.gz</td>\n",
       "    </tr>\n",
       "    <tr>\n",
       "      <th>5</th>\n",
       "      <td>982</td>\n",
       "      <td>Product_110220volts.com_September2020.json.gz</td>\n",
       "    </tr>\n",
       "    <tr>\n",
       "      <th>6</th>\n",
       "      <td>202</td>\n",
       "      <td>Product_1234oo7.com_September2020.json.gz</td>\n",
       "    </tr>\n",
       "    <tr>\n",
       "      <th>7</th>\n",
       "      <td>161</td>\n",
       "      <td>Product_123disposables.com_September2020.json.gz</td>\n",
       "    </tr>\n",
       "    <tr>\n",
       "      <th>...</th>\n",
       "      <td>...</td>\n",
       "      <td>...</td>\n",
       "    </tr>\n",
       "    <tr>\n",
       "      <th>3855</th>\n",
       "      <td>712</td>\n",
       "      <td>Product_zooscape.com_September2020.json.gz</td>\n",
       "    </tr>\n",
       "    <tr>\n",
       "      <th>3856</th>\n",
       "      <td>8251</td>\n",
       "      <td>Product_zoro.com_September2020.json.gz</td>\n",
       "    </tr>\n",
       "    <tr>\n",
       "      <th>3857</th>\n",
       "      <td>607</td>\n",
       "      <td>Product_zotim.com.au_September2020.json.gz</td>\n",
       "    </tr>\n",
       "    <tr>\n",
       "      <th>3858</th>\n",
       "      <td>261</td>\n",
       "      <td>Product_zpcinformatica.com_September2020.json.gz</td>\n",
       "    </tr>\n",
       "    <tr>\n",
       "      <th>3860</th>\n",
       "      <td>2517</td>\n",
       "      <td>Product_zzounds.com_September2020.json.gz</td>\n",
       "    </tr>\n",
       "  </tbody>\n",
       "</table>\n",
       "<p>2332 rows × 2 columns</p>\n",
       "</div>"
      ],
      "text/plain": [
       "      Amount                                          table_id\n",
       "1        847           Product_07mua.com_September2020.json.gz\n",
       "3        127    Product_101farmacias.com_September2020.json.gz\n",
       "5        982     Product_110220volts.com_September2020.json.gz\n",
       "6        202         Product_1234oo7.com_September2020.json.gz\n",
       "7        161  Product_123disposables.com_September2020.json.gz\n",
       "...      ...                                               ...\n",
       "3855     712        Product_zooscape.com_September2020.json.gz\n",
       "3856    8251            Product_zoro.com_September2020.json.gz\n",
       "3857     607        Product_zotim.com.au_September2020.json.gz\n",
       "3858     261  Product_zpcinformatica.com_September2020.json.gz\n",
       "3860    2517         Product_zzounds.com_September2020.json.gz\n",
       "\n",
       "[2332 rows x 2 columns]"
      ]
     },
     "execution_count": 45,
     "metadata": {},
     "output_type": "execute_result"
    }
   ],
   "source": [
    "df_75_electronics_tables=df_set_electronics_tables[df_set_electronics_tables['Amount']>75]\n",
    "df_75_electronics_tables"
   ]
  },
  {
   "cell_type": "code",
   "execution_count": 46,
   "metadata": {},
   "outputs": [
    {
     "data": {
      "text/html": [
       "<div>\n",
       "<style scoped>\n",
       "    .dataframe tbody tr th:only-of-type {\n",
       "        vertical-align: middle;\n",
       "    }\n",
       "\n",
       "    .dataframe tbody tr th {\n",
       "        vertical-align: top;\n",
       "    }\n",
       "\n",
       "    .dataframe thead th {\n",
       "        text-align: right;\n",
       "    }\n",
       "</style>\n",
       "<table border=\"1\" class=\"dataframe\">\n",
       "  <thead>\n",
       "    <tr style=\"text-align: right;\">\n",
       "      <th></th>\n",
       "      <th>count</th>\n",
       "      <th>mean</th>\n",
       "      <th>std</th>\n",
       "      <th>min</th>\n",
       "      <th>25%</th>\n",
       "      <th>50%</th>\n",
       "      <th>75%</th>\n",
       "      <th>max</th>\n",
       "    </tr>\n",
       "  </thead>\n",
       "  <tbody>\n",
       "    <tr>\n",
       "      <th>Amount</th>\n",
       "      <td>2332.0</td>\n",
       "      <td>869.0</td>\n",
       "      <td>1505.0</td>\n",
       "      <td>76.0</td>\n",
       "      <td>181.0</td>\n",
       "      <td>414.0</td>\n",
       "      <td>889.0</td>\n",
       "      <td>16287.0</td>\n",
       "    </tr>\n",
       "  </tbody>\n",
       "</table>\n",
       "</div>"
      ],
      "text/plain": [
       "         count   mean     std   min    25%    50%    75%      max\n",
       "Amount  2332.0  869.0  1505.0  76.0  181.0  414.0  889.0  16287.0"
      ]
     },
     "execution_count": 46,
     "metadata": {},
     "output_type": "execute_result"
    }
   ],
   "source": [
    "df_75_electronics_tables.set_index('table_id').describe().T.round()"
   ]
  },
  {
   "cell_type": "code",
   "execution_count": 47,
   "metadata": {
    "scrolled": true
   },
   "outputs": [
    {
     "data": {
      "text/plain": [
       "<AxesSubplot:ylabel='Frequency'>"
      ]
     },
     "execution_count": 47,
     "metadata": {},
     "output_type": "execute_result"
    },
    {
     "data": {
      "image/png": "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\n",
      "text/plain": [
       "<Figure size 432x288 with 1 Axes>"
      ]
     },
     "metadata": {
      "needs_background": "light"
     },
     "output_type": "display_data"
    }
   ],
   "source": [
    "df_75_electronics_tables.plot(x='table_id',y='Amount',kind='hist')"
   ]
  },
  {
   "cell_type": "code",
   "execution_count": 48,
   "metadata": {},
   "outputs": [
    {
     "data": {
      "text/html": [
       "<div>\n",
       "<style scoped>\n",
       "    .dataframe tbody tr th:only-of-type {\n",
       "        vertical-align: middle;\n",
       "    }\n",
       "\n",
       "    .dataframe tbody tr th {\n",
       "        vertical-align: top;\n",
       "    }\n",
       "\n",
       "    .dataframe thead th {\n",
       "        text-align: right;\n",
       "    }\n",
       "</style>\n",
       "<table border=\"1\" class=\"dataframe\">\n",
       "  <thead>\n",
       "    <tr style=\"text-align: right;\">\n",
       "      <th></th>\n",
       "      <th>Amount</th>\n",
       "      <th>table_id</th>\n",
       "    </tr>\n",
       "  </thead>\n",
       "  <tbody>\n",
       "    <tr>\n",
       "      <th>1</th>\n",
       "      <td>847</td>\n",
       "      <td>Product_07mua.com_September2020.json.gz</td>\n",
       "    </tr>\n",
       "    <tr>\n",
       "      <th>5</th>\n",
       "      <td>982</td>\n",
       "      <td>Product_110220volts.com_September2020.json.gz</td>\n",
       "    </tr>\n",
       "    <tr>\n",
       "      <th>6</th>\n",
       "      <td>202</td>\n",
       "      <td>Product_1234oo7.com_September2020.json.gz</td>\n",
       "    </tr>\n",
       "    <tr>\n",
       "      <th>7</th>\n",
       "      <td>161</td>\n",
       "      <td>Product_123disposables.com_September2020.json.gz</td>\n",
       "    </tr>\n",
       "    <tr>\n",
       "      <th>8</th>\n",
       "      <td>397</td>\n",
       "      <td>Product_123securityproducts.com_September2020.json.gz</td>\n",
       "    </tr>\n",
       "    <tr>\n",
       "      <th>...</th>\n",
       "      <td>...</td>\n",
       "      <td>...</td>\n",
       "    </tr>\n",
       "    <tr>\n",
       "      <th>3855</th>\n",
       "      <td>712</td>\n",
       "      <td>Product_zooscape.com_September2020.json.gz</td>\n",
       "    </tr>\n",
       "    <tr>\n",
       "      <th>3856</th>\n",
       "      <td>8251</td>\n",
       "      <td>Product_zoro.com_September2020.json.gz</td>\n",
       "    </tr>\n",
       "    <tr>\n",
       "      <th>3857</th>\n",
       "      <td>607</td>\n",
       "      <td>Product_zotim.com.au_September2020.json.gz</td>\n",
       "    </tr>\n",
       "    <tr>\n",
       "      <th>3858</th>\n",
       "      <td>261</td>\n",
       "      <td>Product_zpcinformatica.com_September2020.json.gz</td>\n",
       "    </tr>\n",
       "    <tr>\n",
       "      <th>3860</th>\n",
       "      <td>2517</td>\n",
       "      <td>Product_zzounds.com_September2020.json.gz</td>\n",
       "    </tr>\n",
       "  </tbody>\n",
       "</table>\n",
       "<p>1881 rows × 2 columns</p>\n",
       "</div>"
      ],
      "text/plain": [
       "      Amount                                               table_id\n",
       "1        847                Product_07mua.com_September2020.json.gz\n",
       "5        982          Product_110220volts.com_September2020.json.gz\n",
       "6        202              Product_1234oo7.com_September2020.json.gz\n",
       "7        161       Product_123disposables.com_September2020.json.gz\n",
       "8        397  Product_123securityproducts.com_September2020.json.gz\n",
       "...      ...                                                    ...\n",
       "3855     712             Product_zooscape.com_September2020.json.gz\n",
       "3856    8251                 Product_zoro.com_September2020.json.gz\n",
       "3857     607             Product_zotim.com.au_September2020.json.gz\n",
       "3858     261       Product_zpcinformatica.com_September2020.json.gz\n",
       "3860    2517              Product_zzounds.com_September2020.json.gz\n",
       "\n",
       "[1881 rows x 2 columns]"
      ]
     },
     "execution_count": 48,
     "metadata": {},
     "output_type": "execute_result"
    }
   ],
   "source": [
    "df_150_electronics_tables=df_set_electronics_tables[df_set_electronics_tables['Amount']>150]\n",
    "df_150_electronics_tables"
   ]
  },
  {
   "cell_type": "code",
   "execution_count": 49,
   "metadata": {},
   "outputs": [
    {
     "data": {
      "text/html": [
       "<div>\n",
       "<style scoped>\n",
       "    .dataframe tbody tr th:only-of-type {\n",
       "        vertical-align: middle;\n",
       "    }\n",
       "\n",
       "    .dataframe tbody tr th {\n",
       "        vertical-align: top;\n",
       "    }\n",
       "\n",
       "    .dataframe thead th {\n",
       "        text-align: right;\n",
       "    }\n",
       "</style>\n",
       "<table border=\"1\" class=\"dataframe\">\n",
       "  <thead>\n",
       "    <tr style=\"text-align: right;\">\n",
       "      <th></th>\n",
       "      <th>count</th>\n",
       "      <th>mean</th>\n",
       "      <th>std</th>\n",
       "      <th>min</th>\n",
       "      <th>25%</th>\n",
       "      <th>50%</th>\n",
       "      <th>75%</th>\n",
       "      <th>max</th>\n",
       "    </tr>\n",
       "  </thead>\n",
       "  <tbody>\n",
       "    <tr>\n",
       "      <th>Amount</th>\n",
       "      <td>1881.0</td>\n",
       "      <td>1052.0</td>\n",
       "      <td>1624.0</td>\n",
       "      <td>151.0</td>\n",
       "      <td>309.0</td>\n",
       "      <td>567.0</td>\n",
       "      <td>982.0</td>\n",
       "      <td>16287.0</td>\n",
       "    </tr>\n",
       "  </tbody>\n",
       "</table>\n",
       "</div>"
      ],
      "text/plain": [
       "         count    mean     std    min    25%    50%    75%      max\n",
       "Amount  1881.0  1052.0  1624.0  151.0  309.0  567.0  982.0  16287.0"
      ]
     },
     "execution_count": 49,
     "metadata": {},
     "output_type": "execute_result"
    }
   ],
   "source": [
    "df_150_electronics_tables.set_index('table_id').describe().T.round()"
   ]
  },
  {
   "cell_type": "code",
   "execution_count": 50,
   "metadata": {
    "scrolled": true
   },
   "outputs": [
    {
     "data": {
      "text/plain": [
       "<AxesSubplot:ylabel='Frequency'>"
      ]
     },
     "execution_count": 50,
     "metadata": {},
     "output_type": "execute_result"
    },
    {
     "data": {
      "image/png": "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\n",
      "text/plain": [
       "<Figure size 432x288 with 1 Axes>"
      ]
     },
     "metadata": {
      "needs_background": "light"
     },
     "output_type": "display_data"
    }
   ],
   "source": [
    "df_150_electronics_tables.plot(x='table_id',y='Amount',kind='hist')"
   ]
  },
  {
   "cell_type": "markdown",
   "metadata": {},
   "source": [
    "#### Have a look at clothes"
   ]
  },
  {
   "cell_type": "code",
   "execution_count": 51,
   "metadata": {},
   "outputs": [
    {
     "data": {
      "text/html": [
       "<div>\n",
       "<style scoped>\n",
       "    .dataframe tbody tr th:only-of-type {\n",
       "        vertical-align: middle;\n",
       "    }\n",
       "\n",
       "    .dataframe tbody tr th {\n",
       "        vertical-align: top;\n",
       "    }\n",
       "\n",
       "    .dataframe thead th {\n",
       "        text-align: right;\n",
       "    }\n",
       "</style>\n",
       "<table border=\"1\" class=\"dataframe\">\n",
       "  <thead>\n",
       "    <tr style=\"text-align: right;\">\n",
       "      <th></th>\n",
       "      <th>cluster_id</th>\n",
       "      <th>url</th>\n",
       "      <th>row_id</th>\n",
       "      <th>table_id</th>\n",
       "      <th>Valid</th>\n",
       "      <th>brand</th>\n",
       "    </tr>\n",
       "  </thead>\n",
       "  <tbody>\n",
       "    <tr>\n",
       "      <th>0</th>\n",
       "      <td>59178314</td>\n",
       "      <td>https://www.cultureindoor.com/796-irrigation-arrosage-tuyau-pe-20mm-semi-rigide-rouleau-100m.html</td>\n",
       "      <td>1561</td>\n",
       "      <td>Product_cultureindoor.com_September2020.json.gz</td>\n",
       "      <td>1</td>\n",
       "      <td>None</td>\n",
       "    </tr>\n",
       "    <tr>\n",
       "      <th>1</th>\n",
       "      <td>70692685</td>\n",
       "      <td>https://www.culturekings.com/products/new-era-new-era-new-orleans-pelicans-nba-940-a-frame-snapback-black</td>\n",
       "      <td>3893</td>\n",
       "      <td>Product_culturekings.com_September2020.json.gz</td>\n",
       "      <td>1</td>\n",
       "      <td>None</td>\n",
       "    </tr>\n",
       "    <tr>\n",
       "      <th>2</th>\n",
       "      <td>395606</td>\n",
       "      <td>https://www.culturekings.com/products/new-era-x-nrl-west-tigers-aframe-charcoal-orange</td>\n",
       "      <td>3894</td>\n",
       "      <td>Product_culturekings.com_September2020.json.gz</td>\n",
       "      <td>1</td>\n",
       "      <td>None</td>\n",
       "    </tr>\n",
       "    <tr>\n",
       "      <th>3</th>\n",
       "      <td>3361797</td>\n",
       "      <td>https://www.customizedgirl.com/design/2605608/The+Real+Baseball+Moms</td>\n",
       "      <td>9318</td>\n",
       "      <td>Product_customizedgirl.com_September2020.json.gz</td>\n",
       "      <td>1</td>\n",
       "      <td>None</td>\n",
       "    </tr>\n",
       "    <tr>\n",
       "      <th>4</th>\n",
       "      <td>235755</td>\n",
       "      <td>https://www.customizedgirl.com/design/2613423/Mentally+Dating+Ronaldo</td>\n",
       "      <td>9319</td>\n",
       "      <td>Product_customizedgirl.com_September2020.json.gz</td>\n",
       "      <td>1</td>\n",
       "      <td>None</td>\n",
       "    </tr>\n",
       "    <tr>\n",
       "      <th>...</th>\n",
       "      <td>...</td>\n",
       "      <td>...</td>\n",
       "      <td>...</td>\n",
       "      <td>...</td>\n",
       "      <td>...</td>\n",
       "      <td>...</td>\n",
       "    </tr>\n",
       "    <tr>\n",
       "      <th>24687502</th>\n",
       "      <td>8653717</td>\n",
       "      <td>https://shop-list.com/women/utuwa-tatara/sg3232-03</td>\n",
       "      <td>1620</td>\n",
       "      <td>Product_shop-list.com_September2020.json.gz</td>\n",
       "      <td>1</td>\n",
       "      <td>None</td>\n",
       "    </tr>\n",
       "    <tr>\n",
       "      <th>24687503</th>\n",
       "      <td>22258637</td>\n",
       "      <td>https://shop-list.com/women/youmotto/famille-ltm</td>\n",
       "      <td>1621</td>\n",
       "      <td>Product_shop-list.com_September2020.json.gz</td>\n",
       "      <td>1</td>\n",
       "      <td>None</td>\n",
       "    </tr>\n",
       "    <tr>\n",
       "      <th>24687504</th>\n",
       "      <td>41434658</td>\n",
       "      <td>https://shop.agwaycapecod.com/products/019014710959/adult-small-breed-dog-food-5-lb</td>\n",
       "      <td>126</td>\n",
       "      <td>Product_agwaycapecod.com_September2020.json.gz</td>\n",
       "      <td>1</td>\n",
       "      <td>None</td>\n",
       "    </tr>\n",
       "    <tr>\n",
       "      <th>24687505</th>\n",
       "      <td>62702145</td>\n",
       "      <td>https://shop.agwaycapecod.com/products/037321455042/ant-killer-dust-3-lbs</td>\n",
       "      <td>127</td>\n",
       "      <td>Product_agwaycapecod.com_September2020.json.gz</td>\n",
       "      <td>1</td>\n",
       "      <td>None</td>\n",
       "    </tr>\n",
       "    <tr>\n",
       "      <th>24687506</th>\n",
       "      <td>60936713</td>\n",
       "      <td>https://shop.areefcreation.com/products/ls-apr-344b</td>\n",
       "      <td>120</td>\n",
       "      <td>Product_areefcreation.com_September2020.json.gz</td>\n",
       "      <td>1</td>\n",
       "      <td>None</td>\n",
       "    </tr>\n",
       "  </tbody>\n",
       "</table>\n",
       "<p>24687507 rows × 6 columns</p>\n",
       "</div>"
      ],
      "text/plain": [
       "          cluster_id  \\\n",
       "0           59178314   \n",
       "1           70692685   \n",
       "2             395606   \n",
       "3            3361797   \n",
       "4             235755   \n",
       "...              ...   \n",
       "24687502     8653717   \n",
       "24687503    22258637   \n",
       "24687504    41434658   \n",
       "24687505    62702145   \n",
       "24687506    60936713   \n",
       "\n",
       "                                                                                                                url  \\\n",
       "0                 https://www.cultureindoor.com/796-irrigation-arrosage-tuyau-pe-20mm-semi-rigide-rouleau-100m.html   \n",
       "1         https://www.culturekings.com/products/new-era-new-era-new-orleans-pelicans-nba-940-a-frame-snapback-black   \n",
       "2                            https://www.culturekings.com/products/new-era-x-nrl-west-tigers-aframe-charcoal-orange   \n",
       "3                                              https://www.customizedgirl.com/design/2605608/The+Real+Baseball+Moms   \n",
       "4                                             https://www.customizedgirl.com/design/2613423/Mentally+Dating+Ronaldo   \n",
       "...                                                                                                             ...   \n",
       "24687502                                                         https://shop-list.com/women/utuwa-tatara/sg3232-03   \n",
       "24687503                                                           https://shop-list.com/women/youmotto/famille-ltm   \n",
       "24687504                        https://shop.agwaycapecod.com/products/019014710959/adult-small-breed-dog-food-5-lb   \n",
       "24687505                                  https://shop.agwaycapecod.com/products/037321455042/ant-killer-dust-3-lbs   \n",
       "24687506                                                        https://shop.areefcreation.com/products/ls-apr-344b   \n",
       "\n",
       "          row_id                                          table_id  Valid  \\\n",
       "0           1561   Product_cultureindoor.com_September2020.json.gz      1   \n",
       "1           3893    Product_culturekings.com_September2020.json.gz      1   \n",
       "2           3894    Product_culturekings.com_September2020.json.gz      1   \n",
       "3           9318  Product_customizedgirl.com_September2020.json.gz      1   \n",
       "4           9319  Product_customizedgirl.com_September2020.json.gz      1   \n",
       "...          ...                                               ...    ...   \n",
       "24687502    1620       Product_shop-list.com_September2020.json.gz      1   \n",
       "24687503    1621       Product_shop-list.com_September2020.json.gz      1   \n",
       "24687504     126    Product_agwaycapecod.com_September2020.json.gz      1   \n",
       "24687505     127    Product_agwaycapecod.com_September2020.json.gz      1   \n",
       "24687506     120   Product_areefcreation.com_September2020.json.gz      1   \n",
       "\n",
       "         brand  \n",
       "0         None  \n",
       "1         None  \n",
       "2         None  \n",
       "3         None  \n",
       "4         None  \n",
       "...        ...  \n",
       "24687502  None  \n",
       "24687503  None  \n",
       "24687504  None  \n",
       "24687505  None  \n",
       "24687506  None  \n",
       "\n",
       "[24687507 rows x 6 columns]"
      ]
     },
     "execution_count": 51,
     "metadata": {},
     "output_type": "execute_result"
    }
   ],
   "source": [
    "df_joined_clothes"
   ]
  },
  {
   "cell_type": "code",
   "execution_count": 52,
   "metadata": {},
   "outputs": [],
   "source": [
    "df_grouped_clothes_tables = df_joined_clothes.groupby('table_id').count()"
   ]
  },
  {
   "cell_type": "code",
   "execution_count": 53,
   "metadata": {},
   "outputs": [],
   "source": [
    "# only look at clusters that have at least one brand associated\n",
    "df_set_clothes_tables = df_grouped_clothes_tables[df_grouped_clothes_tables['brand']>0].reset_index()[['cluster_id','table_id']].rename(columns={'cluster_id':'Amount'})"
   ]
  },
  {
   "cell_type": "code",
   "execution_count": 54,
   "metadata": {},
   "outputs": [
    {
     "data": {
      "text/html": [
       "<div>\n",
       "<style scoped>\n",
       "    .dataframe tbody tr th:only-of-type {\n",
       "        vertical-align: middle;\n",
       "    }\n",
       "\n",
       "    .dataframe tbody tr th {\n",
       "        vertical-align: top;\n",
       "    }\n",
       "\n",
       "    .dataframe thead th {\n",
       "        text-align: right;\n",
       "    }\n",
       "</style>\n",
       "<table border=\"1\" class=\"dataframe\">\n",
       "  <thead>\n",
       "    <tr style=\"text-align: right;\">\n",
       "      <th></th>\n",
       "      <th>Amount</th>\n",
       "      <th>table_id</th>\n",
       "    </tr>\n",
       "  </thead>\n",
       "  <tbody>\n",
       "    <tr>\n",
       "      <th>0</th>\n",
       "      <td>89</td>\n",
       "      <td>Product_1000drawings.org_September2020.json.gz</td>\n",
       "    </tr>\n",
       "    <tr>\n",
       "      <th>1</th>\n",
       "      <td>458</td>\n",
       "      <td>Product_1000tees.com_September2020.json.gz</td>\n",
       "    </tr>\n",
       "    <tr>\n",
       "      <th>2</th>\n",
       "      <td>53</td>\n",
       "      <td>Product_100outlets.com_September2020.json.gz</td>\n",
       "    </tr>\n",
       "    <tr>\n",
       "      <th>3</th>\n",
       "      <td>1090</td>\n",
       "      <td>Product_18montrose.com_September2020.json.gz</td>\n",
       "    </tr>\n",
       "    <tr>\n",
       "      <th>4</th>\n",
       "      <td>207</td>\n",
       "      <td>Product_1stmx.co.uk_September2020.json.gz</td>\n",
       "    </tr>\n",
       "    <tr>\n",
       "      <th>...</th>\n",
       "      <td>...</td>\n",
       "      <td>...</td>\n",
       "    </tr>\n",
       "    <tr>\n",
       "      <th>2452</th>\n",
       "      <td>8</td>\n",
       "      <td>Product_zipjosh.com_September2020.json.gz</td>\n",
       "    </tr>\n",
       "    <tr>\n",
       "      <th>2453</th>\n",
       "      <td>110</td>\n",
       "      <td>Product_zodee.com.au_September2020.json.gz</td>\n",
       "    </tr>\n",
       "    <tr>\n",
       "      <th>2454</th>\n",
       "      <td>1189</td>\n",
       "      <td>Product_zonnebrillen.com_September2020.json.gz</td>\n",
       "    </tr>\n",
       "    <tr>\n",
       "      <th>2455</th>\n",
       "      <td>208</td>\n",
       "      <td>Product_zorch.com_September2020.json.gz</td>\n",
       "    </tr>\n",
       "    <tr>\n",
       "      <th>2456</th>\n",
       "      <td>848</td>\n",
       "      <td>Product_zvejotribuna.net_September2020.json.gz</td>\n",
       "    </tr>\n",
       "  </tbody>\n",
       "</table>\n",
       "<p>2457 rows × 2 columns</p>\n",
       "</div>"
      ],
      "text/plain": [
       "      Amount                                        table_id\n",
       "0         89  Product_1000drawings.org_September2020.json.gz\n",
       "1        458      Product_1000tees.com_September2020.json.gz\n",
       "2         53    Product_100outlets.com_September2020.json.gz\n",
       "3       1090    Product_18montrose.com_September2020.json.gz\n",
       "4        207       Product_1stmx.co.uk_September2020.json.gz\n",
       "...      ...                                             ...\n",
       "2452       8       Product_zipjosh.com_September2020.json.gz\n",
       "2453     110      Product_zodee.com.au_September2020.json.gz\n",
       "2454    1189  Product_zonnebrillen.com_September2020.json.gz\n",
       "2455     208         Product_zorch.com_September2020.json.gz\n",
       "2456     848  Product_zvejotribuna.net_September2020.json.gz\n",
       "\n",
       "[2457 rows x 2 columns]"
      ]
     },
     "execution_count": 54,
     "metadata": {},
     "output_type": "execute_result"
    }
   ],
   "source": [
    "df_set_clothes_tables"
   ]
  },
  {
   "cell_type": "code",
   "execution_count": 55,
   "metadata": {},
   "outputs": [
    {
     "data": {
      "text/html": [
       "<div>\n",
       "<style scoped>\n",
       "    .dataframe tbody tr th:only-of-type {\n",
       "        vertical-align: middle;\n",
       "    }\n",
       "\n",
       "    .dataframe tbody tr th {\n",
       "        vertical-align: top;\n",
       "    }\n",
       "\n",
       "    .dataframe thead th {\n",
       "        text-align: right;\n",
       "    }\n",
       "</style>\n",
       "<table border=\"1\" class=\"dataframe\">\n",
       "  <thead>\n",
       "    <tr style=\"text-align: right;\">\n",
       "      <th></th>\n",
       "      <th>count</th>\n",
       "      <th>mean</th>\n",
       "      <th>std</th>\n",
       "      <th>min</th>\n",
       "      <th>25%</th>\n",
       "      <th>50%</th>\n",
       "      <th>75%</th>\n",
       "      <th>max</th>\n",
       "    </tr>\n",
       "  </thead>\n",
       "  <tbody>\n",
       "    <tr>\n",
       "      <th>Amount</th>\n",
       "      <td>2457.0</td>\n",
       "      <td>558.0</td>\n",
       "      <td>1115.0</td>\n",
       "      <td>1.0</td>\n",
       "      <td>54.0</td>\n",
       "      <td>211.0</td>\n",
       "      <td>633.0</td>\n",
       "      <td>16496.0</td>\n",
       "    </tr>\n",
       "  </tbody>\n",
       "</table>\n",
       "</div>"
      ],
      "text/plain": [
       "         count   mean     std  min   25%    50%    75%      max\n",
       "Amount  2457.0  558.0  1115.0  1.0  54.0  211.0  633.0  16496.0"
      ]
     },
     "execution_count": 55,
     "metadata": {},
     "output_type": "execute_result"
    }
   ],
   "source": [
    "df_set_clothes_tables.set_index('table_id').describe().T.round()"
   ]
  },
  {
   "cell_type": "code",
   "execution_count": 56,
   "metadata": {},
   "outputs": [
    {
     "data": {
      "text/html": [
       "<div>\n",
       "<style scoped>\n",
       "    .dataframe tbody tr th:only-of-type {\n",
       "        vertical-align: middle;\n",
       "    }\n",
       "\n",
       "    .dataframe tbody tr th {\n",
       "        vertical-align: top;\n",
       "    }\n",
       "\n",
       "    .dataframe thead th {\n",
       "        text-align: right;\n",
       "    }\n",
       "</style>\n",
       "<table border=\"1\" class=\"dataframe\">\n",
       "  <thead>\n",
       "    <tr style=\"text-align: right;\">\n",
       "      <th></th>\n",
       "      <th>Amount</th>\n",
       "      <th>table_id</th>\n",
       "    </tr>\n",
       "  </thead>\n",
       "  <tbody>\n",
       "    <tr>\n",
       "      <th>0</th>\n",
       "      <td>89</td>\n",
       "      <td>Product_1000drawings.org_September2020.json.gz</td>\n",
       "    </tr>\n",
       "    <tr>\n",
       "      <th>1</th>\n",
       "      <td>458</td>\n",
       "      <td>Product_1000tees.com_September2020.json.gz</td>\n",
       "    </tr>\n",
       "    <tr>\n",
       "      <th>3</th>\n",
       "      <td>1090</td>\n",
       "      <td>Product_18montrose.com_September2020.json.gz</td>\n",
       "    </tr>\n",
       "    <tr>\n",
       "      <th>4</th>\n",
       "      <td>207</td>\n",
       "      <td>Product_1stmx.co.uk_September2020.json.gz</td>\n",
       "    </tr>\n",
       "    <tr>\n",
       "      <th>7</th>\n",
       "      <td>204</td>\n",
       "      <td>Product_2020brands.com_September2020.json.gz</td>\n",
       "    </tr>\n",
       "    <tr>\n",
       "      <th>...</th>\n",
       "      <td>...</td>\n",
       "      <td>...</td>\n",
       "    </tr>\n",
       "    <tr>\n",
       "      <th>2451</th>\n",
       "      <td>388</td>\n",
       "      <td>Product_zeynshoes.com.tr_September2020.json.gz</td>\n",
       "    </tr>\n",
       "    <tr>\n",
       "      <th>2453</th>\n",
       "      <td>110</td>\n",
       "      <td>Product_zodee.com.au_September2020.json.gz</td>\n",
       "    </tr>\n",
       "    <tr>\n",
       "      <th>2454</th>\n",
       "      <td>1189</td>\n",
       "      <td>Product_zonnebrillen.com_September2020.json.gz</td>\n",
       "    </tr>\n",
       "    <tr>\n",
       "      <th>2455</th>\n",
       "      <td>208</td>\n",
       "      <td>Product_zorch.com_September2020.json.gz</td>\n",
       "    </tr>\n",
       "    <tr>\n",
       "      <th>2456</th>\n",
       "      <td>848</td>\n",
       "      <td>Product_zvejotribuna.net_September2020.json.gz</td>\n",
       "    </tr>\n",
       "  </tbody>\n",
       "</table>\n",
       "<p>1711 rows × 2 columns</p>\n",
       "</div>"
      ],
      "text/plain": [
       "      Amount                                        table_id\n",
       "0         89  Product_1000drawings.org_September2020.json.gz\n",
       "1        458      Product_1000tees.com_September2020.json.gz\n",
       "3       1090    Product_18montrose.com_September2020.json.gz\n",
       "4        207       Product_1stmx.co.uk_September2020.json.gz\n",
       "7        204    Product_2020brands.com_September2020.json.gz\n",
       "...      ...                                             ...\n",
       "2451     388  Product_zeynshoes.com.tr_September2020.json.gz\n",
       "2453     110      Product_zodee.com.au_September2020.json.gz\n",
       "2454    1189  Product_zonnebrillen.com_September2020.json.gz\n",
       "2455     208         Product_zorch.com_September2020.json.gz\n",
       "2456     848  Product_zvejotribuna.net_September2020.json.gz\n",
       "\n",
       "[1711 rows x 2 columns]"
      ]
     },
     "execution_count": 56,
     "metadata": {},
     "output_type": "execute_result"
    }
   ],
   "source": [
    "df_75_clothes_tables=df_set_clothes_tables[df_set_clothes_tables['Amount']>75]\n",
    "df_75_clothes_tables"
   ]
  },
  {
   "cell_type": "code",
   "execution_count": 57,
   "metadata": {},
   "outputs": [
    {
     "data": {
      "text/html": [
       "<div>\n",
       "<style scoped>\n",
       "    .dataframe tbody tr th:only-of-type {\n",
       "        vertical-align: middle;\n",
       "    }\n",
       "\n",
       "    .dataframe tbody tr th {\n",
       "        vertical-align: top;\n",
       "    }\n",
       "\n",
       "    .dataframe thead th {\n",
       "        text-align: right;\n",
       "    }\n",
       "</style>\n",
       "<table border=\"1\" class=\"dataframe\">\n",
       "  <thead>\n",
       "    <tr style=\"text-align: right;\">\n",
       "      <th></th>\n",
       "      <th>count</th>\n",
       "      <th>mean</th>\n",
       "      <th>std</th>\n",
       "      <th>min</th>\n",
       "      <th>25%</th>\n",
       "      <th>50%</th>\n",
       "      <th>75%</th>\n",
       "      <th>max</th>\n",
       "    </tr>\n",
       "  </thead>\n",
       "  <tbody>\n",
       "    <tr>\n",
       "      <th>Amount</th>\n",
       "      <td>1711.0</td>\n",
       "      <td>787.0</td>\n",
       "      <td>1270.0</td>\n",
       "      <td>76.0</td>\n",
       "      <td>192.0</td>\n",
       "      <td>427.0</td>\n",
       "      <td>842.0</td>\n",
       "      <td>16496.0</td>\n",
       "    </tr>\n",
       "  </tbody>\n",
       "</table>\n",
       "</div>"
      ],
      "text/plain": [
       "         count   mean     std   min    25%    50%    75%      max\n",
       "Amount  1711.0  787.0  1270.0  76.0  192.0  427.0  842.0  16496.0"
      ]
     },
     "execution_count": 57,
     "metadata": {},
     "output_type": "execute_result"
    }
   ],
   "source": [
    "df_75_clothes_tables.set_index('table_id').describe().T.round()"
   ]
  },
  {
   "cell_type": "code",
   "execution_count": 58,
   "metadata": {
    "scrolled": true
   },
   "outputs": [
    {
     "data": {
      "text/plain": [
       "<AxesSubplot:ylabel='Frequency'>"
      ]
     },
     "execution_count": 58,
     "metadata": {},
     "output_type": "execute_result"
    },
    {
     "data": {
      "image/png": "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\n",
      "text/plain": [
       "<Figure size 432x288 with 1 Axes>"
      ]
     },
     "metadata": {
      "needs_background": "light"
     },
     "output_type": "display_data"
    }
   ],
   "source": [
    "df_75_clothes_tables.plot(x='table_id',y='Amount',kind='hist')"
   ]
  },
  {
   "cell_type": "code",
   "execution_count": 59,
   "metadata": {},
   "outputs": [
    {
     "data": {
      "text/html": [
       "<div>\n",
       "<style scoped>\n",
       "    .dataframe tbody tr th:only-of-type {\n",
       "        vertical-align: middle;\n",
       "    }\n",
       "\n",
       "    .dataframe tbody tr th {\n",
       "        vertical-align: top;\n",
       "    }\n",
       "\n",
       "    .dataframe thead th {\n",
       "        text-align: right;\n",
       "    }\n",
       "</style>\n",
       "<table border=\"1\" class=\"dataframe\">\n",
       "  <thead>\n",
       "    <tr style=\"text-align: right;\">\n",
       "      <th></th>\n",
       "      <th>Amount</th>\n",
       "      <th>table_id</th>\n",
       "    </tr>\n",
       "  </thead>\n",
       "  <tbody>\n",
       "    <tr>\n",
       "      <th>1</th>\n",
       "      <td>458</td>\n",
       "      <td>Product_1000tees.com_September2020.json.gz</td>\n",
       "    </tr>\n",
       "    <tr>\n",
       "      <th>3</th>\n",
       "      <td>1090</td>\n",
       "      <td>Product_18montrose.com_September2020.json.gz</td>\n",
       "    </tr>\n",
       "    <tr>\n",
       "      <th>4</th>\n",
       "      <td>207</td>\n",
       "      <td>Product_1stmx.co.uk_September2020.json.gz</td>\n",
       "    </tr>\n",
       "    <tr>\n",
       "      <th>7</th>\n",
       "      <td>204</td>\n",
       "      <td>Product_2020brands.com_September2020.json.gz</td>\n",
       "    </tr>\n",
       "    <tr>\n",
       "      <th>11</th>\n",
       "      <td>508</td>\n",
       "      <td>Product_24-7grp.com_September2020.json.gz</td>\n",
       "    </tr>\n",
       "    <tr>\n",
       "      <th>...</th>\n",
       "      <td>...</td>\n",
       "      <td>...</td>\n",
       "    </tr>\n",
       "    <tr>\n",
       "      <th>2449</th>\n",
       "      <td>666</td>\n",
       "      <td>Product_zeeandco.co.uk_September2020.json.gz</td>\n",
       "    </tr>\n",
       "    <tr>\n",
       "      <th>2451</th>\n",
       "      <td>388</td>\n",
       "      <td>Product_zeynshoes.com.tr_September2020.json.gz</td>\n",
       "    </tr>\n",
       "    <tr>\n",
       "      <th>2454</th>\n",
       "      <td>1189</td>\n",
       "      <td>Product_zonnebrillen.com_September2020.json.gz</td>\n",
       "    </tr>\n",
       "    <tr>\n",
       "      <th>2455</th>\n",
       "      <td>208</td>\n",
       "      <td>Product_zorch.com_September2020.json.gz</td>\n",
       "    </tr>\n",
       "    <tr>\n",
       "      <th>2456</th>\n",
       "      <td>848</td>\n",
       "      <td>Product_zvejotribuna.net_September2020.json.gz</td>\n",
       "    </tr>\n",
       "  </tbody>\n",
       "</table>\n",
       "<p>1384 rows × 2 columns</p>\n",
       "</div>"
      ],
      "text/plain": [
       "      Amount                                        table_id\n",
       "1        458      Product_1000tees.com_September2020.json.gz\n",
       "3       1090    Product_18montrose.com_September2020.json.gz\n",
       "4        207       Product_1stmx.co.uk_September2020.json.gz\n",
       "7        204    Product_2020brands.com_September2020.json.gz\n",
       "11       508       Product_24-7grp.com_September2020.json.gz\n",
       "...      ...                                             ...\n",
       "2449     666    Product_zeeandco.co.uk_September2020.json.gz\n",
       "2451     388  Product_zeynshoes.com.tr_September2020.json.gz\n",
       "2454    1189  Product_zonnebrillen.com_September2020.json.gz\n",
       "2455     208         Product_zorch.com_September2020.json.gz\n",
       "2456     848  Product_zvejotribuna.net_September2020.json.gz\n",
       "\n",
       "[1384 rows x 2 columns]"
      ]
     },
     "execution_count": 59,
     "metadata": {},
     "output_type": "execute_result"
    }
   ],
   "source": [
    "df_150_clothes_tables=df_set_clothes_tables[df_set_clothes_tables['Amount']>150]\n",
    "df_150_clothes_tables"
   ]
  },
  {
   "cell_type": "code",
   "execution_count": 60,
   "metadata": {},
   "outputs": [
    {
     "data": {
      "text/html": [
       "<div>\n",
       "<style scoped>\n",
       "    .dataframe tbody tr th:only-of-type {\n",
       "        vertical-align: middle;\n",
       "    }\n",
       "\n",
       "    .dataframe tbody tr th {\n",
       "        vertical-align: top;\n",
       "    }\n",
       "\n",
       "    .dataframe thead th {\n",
       "        text-align: right;\n",
       "    }\n",
       "</style>\n",
       "<table border=\"1\" class=\"dataframe\">\n",
       "  <thead>\n",
       "    <tr style=\"text-align: right;\">\n",
       "      <th></th>\n",
       "      <th>count</th>\n",
       "      <th>mean</th>\n",
       "      <th>std</th>\n",
       "      <th>min</th>\n",
       "      <th>25%</th>\n",
       "      <th>50%</th>\n",
       "      <th>75%</th>\n",
       "      <th>max</th>\n",
       "    </tr>\n",
       "  </thead>\n",
       "  <tbody>\n",
       "    <tr>\n",
       "      <th>Amount</th>\n",
       "      <td>1384.0</td>\n",
       "      <td>947.0</td>\n",
       "      <td>1363.0</td>\n",
       "      <td>151.0</td>\n",
       "      <td>308.0</td>\n",
       "      <td>570.0</td>\n",
       "      <td>947.0</td>\n",
       "      <td>16496.0</td>\n",
       "    </tr>\n",
       "  </tbody>\n",
       "</table>\n",
       "</div>"
      ],
      "text/plain": [
       "         count   mean     std    min    25%    50%    75%      max\n",
       "Amount  1384.0  947.0  1363.0  151.0  308.0  570.0  947.0  16496.0"
      ]
     },
     "execution_count": 60,
     "metadata": {},
     "output_type": "execute_result"
    }
   ],
   "source": [
    "df_150_clothes_tables.set_index('table_id').describe().T.round()"
   ]
  },
  {
   "cell_type": "code",
   "execution_count": 61,
   "metadata": {},
   "outputs": [
    {
     "data": {
      "text/plain": [
       "<AxesSubplot:ylabel='Frequency'>"
      ]
     },
     "execution_count": 61,
     "metadata": {},
     "output_type": "execute_result"
    },
    {
     "data": {
      "image/png": "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\n",
      "text/plain": [
       "<Figure size 432x288 with 1 Axes>"
      ]
     },
     "metadata": {
      "needs_background": "light"
     },
     "output_type": "display_data"
    }
   ],
   "source": [
    "df_150_clothes_tables.plot(x='table_id',y='Amount',kind='hist')"
   ]
  }
 ],
 "metadata": {
  "kernelspec": {
   "display_name": "Python 3",
   "language": "python",
   "name": "python3"
  },
  "language_info": {
   "codemirror_mode": {
    "name": "ipython",
    "version": 3
   },
   "file_extension": ".py",
   "mimetype": "text/x-python",
   "name": "python",
   "nbconvert_exporter": "python",
   "pygments_lexer": "ipython3",
   "version": "3.8.8"
  }
 },
 "nbformat": 4,
 "nbformat_minor": 4
}
