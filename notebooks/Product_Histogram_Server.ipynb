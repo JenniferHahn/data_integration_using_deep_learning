{
 "cells": [
  {
   "cell_type": "code",
   "execution_count": 2,
   "metadata": {},
   "outputs": [],
   "source": [
    "import os\n",
    "import pandas as pd\n",
    "import plotly.express as px\n",
    "import progressbar\n",
    "import json\n",
    "import numpy as np"
   ]
  },
  {
   "cell_type": "markdown",
   "metadata": {},
   "source": [
    "## Get the paths and build table names for iteration"
   ]
  },
  {
   "cell_type": "code",
   "execution_count": 3,
   "metadata": {},
   "outputs": [],
   "source": [
    "data_path = '../src/data'\n",
    "mapping_corpus_path = data_path + r'/product/lspc2020_to_tablecorpus'\n",
    "mapping_corpus_path_2 = data_path + r'/product/lspc2020_to_tablecorpus/Cleaned'\n",
    "table_corpus_path = data_path + r'/product/product_top100/cleaned'\n",
    "table_corpus_path_with_id = data_path + r'/product/product_top100/cleaned/with_id'\n",
    "table_corpus_path2 = data_path + r'/product/product_minimum3/cleaned/with_id'\n",
    "mapping_corpus_path_all = data_path + r'/product/lspcV2020'"
   ]
  },
  {
   "cell_type": "code",
   "execution_count": 13,
   "metadata": {},
   "outputs": [],
   "source": [
    "zip_files_mapping = [file for file in os.listdir(mapping_corpus_path_2) if file.endswith('.json.gz')]\n",
    "zip_files_tables = [file for file in os.listdir(table_corpus_path) if file.endswith('.json.gz')]"
   ]
  },
  {
   "cell_type": "code",
   "execution_count": null,
   "metadata": {},
   "outputs": [],
   "source": [
    "# count = 0\n",
    "# count_1=0\n",
    "# with progressbar.ProgressBar(max_value=len(zip_files_tables)) as bar:\n",
    "#     for zip_file in zip_files_tables:\n",
    "#         print('/{}'.format(zip_file))\n",
    "#         df = pd.read_json(table_corpus_path + '/{}'.format(zip_file), compression='gzip', lines=True)     \n",
    "#         df['cluster_id']=0\n",
    "#         for zip_file_map in zip_files_mapping:\n",
    "#             count_1=count_1+1\n",
    "#             print(count_1)\n",
    "#             df_map = pd.read_json(mapping_corpus_path_2 + '/{}'.format(zip_file_map), compression='gzip', lines=True)\n",
    "#             for i in range(len(df_map)):\n",
    "#                 if df_map['table_id'][i]=='{}'.format(zip_file):\n",
    "#                   index_map=df_map['row_id'][i]\n",
    "#                   if df.index[df['row_id'] == index_map].size != 0:\n",
    "#                     index_table=df.index[df['row_id'] == index_map][0]\n",
    "#                     if df['cluster_id'][index_table]==0:\n",
    "#                         df['cluster_id'][index_table]=df_map['cluster_id'][i] \n",
    "#                     else:\n",
    "#                         print('double product value in table')\n",
    "#         df.to_json(table_corpus_path_with_id + '/{}'.format(zip_file), compression='gzip', orient='records', lines=True)\n",
    "#         df\n",
    "#         count += 1\n",
    "#         bar.update(count)"
   ]
  },
  {
   "cell_type": "code",
   "execution_count": null,
   "metadata": {},
   "outputs": [],
   "source": [
    "# count = 0\n",
    "# count_1=0\n",
    "# with progressbar.ProgressBar(max_value=len(zip_files_tables)) as bar:\n",
    "#     for zip_file in zip_files_tables:\n",
    "#         print('/{}'.format(zip_file))\n",
    "#         df = pd.read_json(table_corpus_path2 + '/{}'.format(zip_file), compression='gzip', lines=True)     \n",
    "#         df['cluster_id']=0\n",
    "#         for zip_file_map in zip_files_mapping:\n",
    "#             count_1=count_1+1\n",
    "#             print(count_1)\n",
    "#             df_map = pd.read_json(mapping_corpus_path_2 + '/{}'.format(zip_file_map), compression='gzip', lines=True)\n",
    "#             for i in range(len(df_map)):\n",
    "#                 if df_map['table_id'][i]=='{}'.format(zip_file):\n",
    "#                   index_map=df_map['row_id'][i]\n",
    "#                   if df.index[df['row_id'] == index_map].size != 0:\n",
    "#                     index_table=df.index[df['row_id'] == index_map][0]\n",
    "#                     if df['cluster_id'][index_table]==0:\n",
    "#                         df['cluster_id'][index_table]=df_map['cluster_id'][i] \n",
    "#                     else:\n",
    "#                         print('double product value in table')\n",
    "#         df.to_json(table_corpus_path2_with_id + '/{}'.format(zip_file), compression='gzip', orient='records', lines=True)\n",
    "#         df\n",
    "#         count += 1\n",
    "#         bar.update(count)"
   ]
  },
  {
   "cell_type": "markdown",
   "metadata": {},
   "source": [
    "## Only use first cleaning step on cluster_id tables"
   ]
  },
  {
   "cell_type": "markdown",
   "metadata": {},
   "source": [
    "#### Matching the cluster_ids to the entity tables Top100 did not result in good clusters, as the Top100 seem to be pretty specific regarding their input, e.g., amazonaws with aws-ids as products -> no matches somewhere else"
   ]
  },
  {
   "cell_type": "code",
   "execution_count": 11,
   "metadata": {},
   "outputs": [],
   "source": [
    "# Use the 4 endings to search for english websites and then only keep these to get valid cluster_ids\n",
    "def clean_table(df):\n",
    "  valid_tld = ['.com', '.net', '.org', '.uk']\n",
    "  df['Valid']=0\n",
    "  for i in range(len(df)):\n",
    "    #print(i)\n",
    "    for tld in valid_tld:\n",
    "      if tld in df['table_id'][i]:\n",
    "        df['Valid'][i]=1\n",
    "  return df[df['Valid']==1]"
   ]
  },
  {
   "cell_type": "code",
   "execution_count": 10,
   "metadata": {},
   "outputs": [],
   "source": [
    "# #clean mapping files and save them again\n",
    "# # then use the cleaned tables to append into a series and the get a dataframe from that\n",
    "# count = 0\n",
    "# count_1=0\n",
    "# data=[]\n",
    "# with progressbar.ProgressBar(max_value=len(zip_files_mapping)) as bar:\n",
    "#     for zip_file in zip_files_mapping:\n",
    "#         print('/{}'.format(zip_file))\n",
    "#         df = pd.read_json(mapping_corpus_path_2 + '/{}'.format(zip_file), compression='gzip', lines=True)\n",
    "#         #df=clean_table(df)\n",
    "#         #df['table_name']='{}'.format(zip_file)\n",
    "#         #df.to_json(mapping_corpus_path_2 + '/{}'.format(zip_file), compression='gzip', orient='records', lines=True)\n",
    "#         data.append(df)\n",
    "#         count += 1\n",
    "#         bar.update(count)\n",
    "# #large_df= pd.concat(data, ignore_index=True)\n",
    "# #large_df.to_json(os.path.join(mapping_corpus_path, 'concatentation'), compression='gzip', orient='records', lines=True)"
   ]
  },
  {
   "cell_type": "code",
   "execution_count": null,
   "metadata": {},
   "outputs": [],
   "source": [
    "# #see the input of the series\n",
    "# data"
   ]
  },
  {
   "cell_type": "markdown",
   "metadata": {},
   "source": [
    "### Concat the series into a dataframe and then sort by the cluster_ids to get the table counts for each cluster"
   ]
  },
  {
   "cell_type": "code",
   "execution_count": null,
   "metadata": {},
   "outputs": [],
   "source": [
    "# large_df= pd.concat(data, ignore_index=True)"
   ]
  },
  {
   "cell_type": "code",
   "execution_count": null,
   "metadata": {},
   "outputs": [],
   "source": [
    "#table has around 28 Million valid cluster ids (not necessarily unique)\n",
    "# large_df"
   ]
  },
  {
   "cell_type": "markdown",
   "metadata": {},
   "source": [
    "## Filter on cluster_id and table_id to be easily able to count the table_ids per unique cluster"
   ]
  },
  {
   "cell_type": "code",
   "execution_count": 4,
   "metadata": {},
   "outputs": [],
   "source": [
    "# get dictionaries\n",
    "data_path_1 = '../src/data/product/lspc2020_to_tablecorpus/Cleaned/allocation_amount_only_total_dict.json'\n",
    "data_path_2 = '../src/data/product/lspc2020_to_tablecorpus/Cleaned/allocation_amount_only_set_dict.json'"
   ]
  },
  {
   "cell_type": "code",
   "execution_count": 5,
   "metadata": {},
   "outputs": [],
   "source": [
    "with open(data_path_1) as f:\n",
    "    data_1=json.load(f)\n",
    "with open(data_path_2) as f:\n",
    "    data_2=json.load(f)"
   ]
  },
  {
   "cell_type": "code",
   "execution_count": 7,
   "metadata": {},
   "outputs": [
    {
     "data": {
      "text/html": [
       "<div>\n",
       "<style scoped>\n",
       "    .dataframe tbody tr th:only-of-type {\n",
       "        vertical-align: middle;\n",
       "    }\n",
       "\n",
       "    .dataframe tbody tr th {\n",
       "        vertical-align: top;\n",
       "    }\n",
       "\n",
       "    .dataframe thead th {\n",
       "        text-align: right;\n",
       "    }\n",
       "</style>\n",
       "<table border=\"1\" class=\"dataframe\">\n",
       "  <thead>\n",
       "    <tr style=\"text-align: right;\">\n",
       "      <th></th>\n",
       "      <th>0</th>\n",
       "    </tr>\n",
       "  </thead>\n",
       "  <tbody>\n",
       "    <tr>\n",
       "      <th>73924608</th>\n",
       "      <td>1</td>\n",
       "    </tr>\n",
       "    <tr>\n",
       "      <th>31326208</th>\n",
       "      <td>1</td>\n",
       "    </tr>\n",
       "    <tr>\n",
       "      <th>22544400</th>\n",
       "      <td>1</td>\n",
       "    </tr>\n",
       "    <tr>\n",
       "      <th>51904529</th>\n",
       "      <td>1</td>\n",
       "    </tr>\n",
       "    <tr>\n",
       "      <th>74055698</th>\n",
       "      <td>1</td>\n",
       "    </tr>\n",
       "    <tr>\n",
       "      <th>...</th>\n",
       "      <td>...</td>\n",
       "    </tr>\n",
       "    <tr>\n",
       "      <th>14680043</th>\n",
       "      <td>1</td>\n",
       "    </tr>\n",
       "    <tr>\n",
       "      <th>6553589</th>\n",
       "      <td>1</td>\n",
       "    </tr>\n",
       "    <tr>\n",
       "      <th>20709366</th>\n",
       "      <td>1</td>\n",
       "    </tr>\n",
       "    <tr>\n",
       "      <th>75628536</th>\n",
       "      <td>1</td>\n",
       "    </tr>\n",
       "    <tr>\n",
       "      <th>72089597</th>\n",
       "      <td>1</td>\n",
       "    </tr>\n",
       "  </tbody>\n",
       "</table>\n",
       "<p>20916785 rows × 1 columns</p>\n",
       "</div>"
      ],
      "text/plain": [
       "          0\n",
       "73924608  1\n",
       "31326208  1\n",
       "22544400  1\n",
       "51904529  1\n",
       "74055698  1\n",
       "...      ..\n",
       "14680043  1\n",
       "6553589   1\n",
       "20709366  1\n",
       "75628536  1\n",
       "72089597  1\n",
       "\n",
       "[20916785 rows x 1 columns]"
      ]
     },
     "execution_count": 7,
     "metadata": {},
     "output_type": "execute_result"
    }
   ],
   "source": [
    "df_total=pd.DataFrame.from_dict(data_1, orient='index')\n",
    "df_total"
   ]
  },
  {
   "cell_type": "code",
   "execution_count": 8,
   "metadata": {},
   "outputs": [
    {
     "data": {
      "text/html": [
       "<div>\n",
       "<style scoped>\n",
       "    .dataframe tbody tr th:only-of-type {\n",
       "        vertical-align: middle;\n",
       "    }\n",
       "\n",
       "    .dataframe tbody tr th {\n",
       "        vertical-align: top;\n",
       "    }\n",
       "\n",
       "    .dataframe thead th {\n",
       "        text-align: right;\n",
       "    }\n",
       "</style>\n",
       "<table border=\"1\" class=\"dataframe\">\n",
       "  <thead>\n",
       "    <tr style=\"text-align: right;\">\n",
       "      <th></th>\n",
       "      <th>0</th>\n",
       "    </tr>\n",
       "  </thead>\n",
       "  <tbody>\n",
       "    <tr>\n",
       "      <th>73924608</th>\n",
       "      <td>1</td>\n",
       "    </tr>\n",
       "    <tr>\n",
       "      <th>31326208</th>\n",
       "      <td>1</td>\n",
       "    </tr>\n",
       "    <tr>\n",
       "      <th>22544400</th>\n",
       "      <td>1</td>\n",
       "    </tr>\n",
       "    <tr>\n",
       "      <th>51904529</th>\n",
       "      <td>1</td>\n",
       "    </tr>\n",
       "    <tr>\n",
       "      <th>74055698</th>\n",
       "      <td>1</td>\n",
       "    </tr>\n",
       "    <tr>\n",
       "      <th>...</th>\n",
       "      <td>...</td>\n",
       "    </tr>\n",
       "    <tr>\n",
       "      <th>14680043</th>\n",
       "      <td>1</td>\n",
       "    </tr>\n",
       "    <tr>\n",
       "      <th>6553589</th>\n",
       "      <td>1</td>\n",
       "    </tr>\n",
       "    <tr>\n",
       "      <th>20709366</th>\n",
       "      <td>1</td>\n",
       "    </tr>\n",
       "    <tr>\n",
       "      <th>75628536</th>\n",
       "      <td>1</td>\n",
       "    </tr>\n",
       "    <tr>\n",
       "      <th>72089597</th>\n",
       "      <td>1</td>\n",
       "    </tr>\n",
       "  </tbody>\n",
       "</table>\n",
       "<p>20916785 rows × 1 columns</p>\n",
       "</div>"
      ],
      "text/plain": [
       "          0\n",
       "73924608  1\n",
       "31326208  1\n",
       "22544400  1\n",
       "51904529  1\n",
       "74055698  1\n",
       "...      ..\n",
       "14680043  1\n",
       "6553589   1\n",
       "20709366  1\n",
       "75628536  1\n",
       "72089597  1\n",
       "\n",
       "[20916785 rows x 1 columns]"
      ]
     },
     "execution_count": 8,
     "metadata": {},
     "output_type": "execute_result"
    }
   ],
   "source": [
    "df_set=pd.DataFrame.from_dict(data_2, orient='index')\n",
    "df_set"
   ]
  },
  {
   "cell_type": "code",
   "execution_count": 9,
   "metadata": {},
   "outputs": [],
   "source": [
    "df_total=df_total.reset_index().rename(columns={0:\"Amount\",'index':\"cluster_id\"})\n",
    "df_set=df_set.reset_index().rename(columns={0:\"Amount\",'index':\"cluster_id\"})"
   ]
  },
  {
   "cell_type": "code",
   "execution_count": 10,
   "metadata": {},
   "outputs": [
    {
     "data": {
      "text/plain": [
       "index     9999996\n",
       "Amount       1285\n",
       "dtype: object"
      ]
     },
     "execution_count": 10,
     "metadata": {},
     "output_type": "execute_result"
    }
   ],
   "source": [
    "df_set.max()"
   ]
  },
  {
   "cell_type": "code",
   "execution_count": 11,
   "metadata": {},
   "outputs": [
    {
     "data": {
      "text/plain": [
       "index     9999996\n",
       "Amount       2600\n",
       "dtype: object"
      ]
     },
     "execution_count": 11,
     "metadata": {},
     "output_type": "execute_result"
    }
   ],
   "source": [
    "df_total.max()"
   ]
  },
  {
   "cell_type": "code",
   "execution_count": 12,
   "metadata": {},
   "outputs": [
    {
     "data": {
      "text/html": [
       "<div>\n",
       "<style scoped>\n",
       "    .dataframe tbody tr th:only-of-type {\n",
       "        vertical-align: middle;\n",
       "    }\n",
       "\n",
       "    .dataframe tbody tr th {\n",
       "        vertical-align: top;\n",
       "    }\n",
       "\n",
       "    .dataframe thead th {\n",
       "        text-align: right;\n",
       "    }\n",
       "</style>\n",
       "<table border=\"1\" class=\"dataframe\">\n",
       "  <thead>\n",
       "    <tr style=\"text-align: right;\">\n",
       "      <th></th>\n",
       "      <th>index</th>\n",
       "      <th>Amount</th>\n",
       "    </tr>\n",
       "  </thead>\n",
       "  <tbody>\n",
       "    <tr>\n",
       "      <th>5</th>\n",
       "      <td>131092</td>\n",
       "      <td>29</td>\n",
       "    </tr>\n",
       "    <tr>\n",
       "      <th>9</th>\n",
       "      <td>4980762</td>\n",
       "      <td>4</td>\n",
       "    </tr>\n",
       "    <tr>\n",
       "      <th>25</th>\n",
       "      <td>17694777</td>\n",
       "      <td>2</td>\n",
       "    </tr>\n",
       "    <tr>\n",
       "      <th>27</th>\n",
       "      <td>2490427</td>\n",
       "      <td>9</td>\n",
       "    </tr>\n",
       "    <tr>\n",
       "      <th>28</th>\n",
       "      <td>4980796</td>\n",
       "      <td>2</td>\n",
       "    </tr>\n",
       "    <tr>\n",
       "      <th>...</th>\n",
       "      <td>...</td>\n",
       "      <td>...</td>\n",
       "    </tr>\n",
       "    <tr>\n",
       "      <th>20852522</th>\n",
       "      <td>55847403</td>\n",
       "      <td>2</td>\n",
       "    </tr>\n",
       "    <tr>\n",
       "      <th>20887842</th>\n",
       "      <td>2436046</td>\n",
       "      <td>2</td>\n",
       "    </tr>\n",
       "    <tr>\n",
       "      <th>20892455</th>\n",
       "      <td>740855</td>\n",
       "      <td>2</td>\n",
       "    </tr>\n",
       "    <tr>\n",
       "      <th>20900059</th>\n",
       "      <td>2721215</td>\n",
       "      <td>2</td>\n",
       "    </tr>\n",
       "    <tr>\n",
       "      <th>20903836</th>\n",
       "      <td>26976540</td>\n",
       "      <td>2</td>\n",
       "    </tr>\n",
       "  </tbody>\n",
       "</table>\n",
       "<p>1244562 rows × 2 columns</p>\n",
       "</div>"
      ],
      "text/plain": [
       "             index  Amount\n",
       "5           131092      29\n",
       "9          4980762       4\n",
       "25        17694777       2\n",
       "27         2490427       9\n",
       "28         4980796       2\n",
       "...            ...     ...\n",
       "20852522  55847403       2\n",
       "20887842   2436046       2\n",
       "20892455    740855       2\n",
       "20900059   2721215       2\n",
       "20903836  26976540       2\n",
       "\n",
       "[1244562 rows x 2 columns]"
      ]
     },
     "execution_count": 12,
     "metadata": {},
     "output_type": "execute_result"
    }
   ],
   "source": [
    "# We discard all clusters with less than 2 entries, cause we cannot match anything there, so 1,6 million clusters remain\n",
    "df_set=df_set[df_set['Amount']>1]\n",
    "df_set"
   ]
  },
  {
   "cell_type": "code",
   "execution_count": 13,
   "metadata": {},
   "outputs": [
    {
     "data": {
      "text/html": [
       "<div>\n",
       "<style scoped>\n",
       "    .dataframe tbody tr th:only-of-type {\n",
       "        vertical-align: middle;\n",
       "    }\n",
       "\n",
       "    .dataframe tbody tr th {\n",
       "        vertical-align: top;\n",
       "    }\n",
       "\n",
       "    .dataframe thead th {\n",
       "        text-align: right;\n",
       "    }\n",
       "</style>\n",
       "<table border=\"1\" class=\"dataframe\">\n",
       "  <thead>\n",
       "    <tr style=\"text-align: right;\">\n",
       "      <th></th>\n",
       "      <th>count</th>\n",
       "      <th>mean</th>\n",
       "      <th>std</th>\n",
       "      <th>min</th>\n",
       "      <th>25%</th>\n",
       "      <th>50%</th>\n",
       "      <th>75%</th>\n",
       "      <th>max</th>\n",
       "    </tr>\n",
       "  </thead>\n",
       "  <tbody>\n",
       "    <tr>\n",
       "      <th>Amount</th>\n",
       "      <td>1244562.0</td>\n",
       "      <td>4.0</td>\n",
       "      <td>11.0</td>\n",
       "      <td>2.0</td>\n",
       "      <td>2.0</td>\n",
       "      <td>2.0</td>\n",
       "      <td>3.0</td>\n",
       "      <td>1285.0</td>\n",
       "    </tr>\n",
       "  </tbody>\n",
       "</table>\n",
       "</div>"
      ],
      "text/plain": [
       "            count  mean   std  min  25%  50%  75%     max\n",
       "Amount  1244562.0   4.0  11.0  2.0  2.0  2.0  3.0  1285.0"
      ]
     },
     "execution_count": 13,
     "metadata": {},
     "output_type": "execute_result"
    }
   ],
   "source": [
    "df_set.set_index('cluster_id').describe().T.round()"
   ]
  },
  {
   "cell_type": "code",
   "execution_count": 16,
   "metadata": {},
   "outputs": [
    {
     "data": {
      "text/plain": [
       "<AxesSubplot:ylabel='Frequency'>"
      ]
     },
     "execution_count": 16,
     "metadata": {},
     "output_type": "execute_result"
    },
    {
     "data": {
      "image/png": "[encoded data removed]",
      "text/plain": [
       "<Figure size 432x288 with 1 Axes>"
      ]
     },
     "metadata": {
      "needs_background": "light"
     },
     "output_type": "display_data"
    }
   ],
   "source": [
    "df_set.plot(x='cluster_id',y='Amount',kind='hist')"
   ]
  },
  {
   "cell_type": "code",
   "execution_count": 17,
   "metadata": {},
   "outputs": [
    {
     "data": {
      "text/html": [
       "<div>\n",
       "<style scoped>\n",
       "    .dataframe tbody tr th:only-of-type {\n",
       "        vertical-align: middle;\n",
       "    }\n",
       "\n",
       "    .dataframe tbody tr th {\n",
       "        vertical-align: top;\n",
       "    }\n",
       "\n",
       "    .dataframe thead th {\n",
       "        text-align: right;\n",
       "    }\n",
       "</style>\n",
       "<table border=\"1\" class=\"dataframe\">\n",
       "  <thead>\n",
       "    <tr style=\"text-align: right;\">\n",
       "      <th></th>\n",
       "      <th>cluster_id</th>\n",
       "      <th>Amount</th>\n",
       "    </tr>\n",
       "  </thead>\n",
       "  <tbody>\n",
       "    <tr>\n",
       "      <th>5</th>\n",
       "      <td>131092</td>\n",
       "      <td>29</td>\n",
       "    </tr>\n",
       "    <tr>\n",
       "      <th>30</th>\n",
       "      <td>47710279</td>\n",
       "      <td>42</td>\n",
       "    </tr>\n",
       "    <tr>\n",
       "      <th>201</th>\n",
       "      <td>2621903</td>\n",
       "      <td>33</td>\n",
       "    </tr>\n",
       "    <tr>\n",
       "      <th>642</th>\n",
       "      <td>787983</td>\n",
       "      <td>18</td>\n",
       "    </tr>\n",
       "    <tr>\n",
       "      <th>646</th>\n",
       "      <td>1050139</td>\n",
       "      <td>16</td>\n",
       "    </tr>\n",
       "    <tr>\n",
       "      <th>...</th>\n",
       "      <td>...</td>\n",
       "      <td>...</td>\n",
       "    </tr>\n",
       "    <tr>\n",
       "      <th>8306446</th>\n",
       "      <td>65770080</td>\n",
       "      <td>17</td>\n",
       "    </tr>\n",
       "    <tr>\n",
       "      <th>8780123</th>\n",
       "      <td>19170901</td>\n",
       "      <td>17</td>\n",
       "    </tr>\n",
       "    <tr>\n",
       "      <th>9040570</th>\n",
       "      <td>58582000</td>\n",
       "      <td>16</td>\n",
       "    </tr>\n",
       "    <tr>\n",
       "      <th>9429552</th>\n",
       "      <td>19412215</td>\n",
       "      <td>17</td>\n",
       "    </tr>\n",
       "    <tr>\n",
       "      <th>11139359</th>\n",
       "      <td>5381269</td>\n",
       "      <td>16</td>\n",
       "    </tr>\n",
       "  </tbody>\n",
       "</table>\n",
       "<p>19367 rows × 2 columns</p>\n",
       "</div>"
      ],
      "text/plain": [
       "         cluster_id  Amount\n",
       "5            131092      29\n",
       "30         47710279      42\n",
       "201         2621903      33\n",
       "642          787983      18\n",
       "646         1050139      16\n",
       "...             ...     ...\n",
       "8306446    65770080      17\n",
       "8780123    19170901      17\n",
       "9040570    58582000      16\n",
       "9429552    19412215      17\n",
       "11139359    5381269      16\n",
       "\n",
       "[19367 rows x 2 columns]"
      ]
     },
     "execution_count": 17,
     "metadata": {},
     "output_type": "execute_result"
    }
   ],
   "source": [
    "# filter on clusters with more entries to get information, here are still 20k clusters left\n",
    "df_15=df_set[df_set['Amount']>15]\n",
    "df_15"
   ]
  },
  {
   "cell_type": "code",
   "execution_count": 19,
   "metadata": {},
   "outputs": [
    {
     "data": {
      "text/html": [
       "<div>\n",
       "<style scoped>\n",
       "    .dataframe tbody tr th:only-of-type {\n",
       "        vertical-align: middle;\n",
       "    }\n",
       "\n",
       "    .dataframe tbody tr th {\n",
       "        vertical-align: top;\n",
       "    }\n",
       "\n",
       "    .dataframe thead th {\n",
       "        text-align: right;\n",
       "    }\n",
       "</style>\n",
       "<table border=\"1\" class=\"dataframe\">\n",
       "  <thead>\n",
       "    <tr style=\"text-align: right;\">\n",
       "      <th></th>\n",
       "      <th>count</th>\n",
       "      <th>mean</th>\n",
       "      <th>std</th>\n",
       "      <th>min</th>\n",
       "      <th>25%</th>\n",
       "      <th>50%</th>\n",
       "      <th>75%</th>\n",
       "      <th>max</th>\n",
       "    </tr>\n",
       "  </thead>\n",
       "  <tbody>\n",
       "    <tr>\n",
       "      <th>Amount</th>\n",
       "      <td>19367.0</td>\n",
       "      <td>59.0</td>\n",
       "      <td>69.0</td>\n",
       "      <td>16.0</td>\n",
       "      <td>22.0</td>\n",
       "      <td>33.0</td>\n",
       "      <td>63.0</td>\n",
       "      <td>1285.0</td>\n",
       "    </tr>\n",
       "  </tbody>\n",
       "</table>\n",
       "</div>"
      ],
      "text/plain": [
       "          count  mean   std   min   25%   50%   75%     max\n",
       "Amount  19367.0  59.0  69.0  16.0  22.0  33.0  63.0  1285.0"
      ]
     },
     "execution_count": 19,
     "metadata": {},
     "output_type": "execute_result"
    }
   ],
   "source": [
    "df_15.set_index('cluster_id').describe().T.round()"
   ]
  },
  {
   "cell_type": "code",
   "execution_count": 20,
   "metadata": {},
   "outputs": [
    {
     "data": {
      "text/plain": [
       "<AxesSubplot:ylabel='Frequency'>"
      ]
     },
     "execution_count": 20,
     "metadata": {},
     "output_type": "execute_result"
    },
    {
     "data": {
      "image/png": "[encoded data removed]",
      "text/plain": [
       "<Figure size 432x288 with 1 Axes>"
      ]
     },
     "metadata": {
      "needs_background": "light"
     },
     "output_type": "display_data"
    }
   ],
   "source": [
    "df_15.plot(x='cluster_id',y='Amount',kind='hist')"
   ]
  },
  {
   "cell_type": "code",
   "execution_count": 21,
   "metadata": {},
   "outputs": [
    {
     "data": {
      "text/html": [
       "<div>\n",
       "<style scoped>\n",
       "    .dataframe tbody tr th:only-of-type {\n",
       "        vertical-align: middle;\n",
       "    }\n",
       "\n",
       "    .dataframe tbody tr th {\n",
       "        vertical-align: top;\n",
       "    }\n",
       "\n",
       "    .dataframe thead th {\n",
       "        text-align: right;\n",
       "    }\n",
       "</style>\n",
       "<table border=\"1\" class=\"dataframe\">\n",
       "  <thead>\n",
       "    <tr style=\"text-align: right;\">\n",
       "      <th></th>\n",
       "      <th>cluster_id</th>\n",
       "      <th>Amount</th>\n",
       "    </tr>\n",
       "  </thead>\n",
       "  <tbody>\n",
       "    <tr>\n",
       "      <th>696</th>\n",
       "      <td>63047326</td>\n",
       "      <td>158</td>\n",
       "    </tr>\n",
       "    <tr>\n",
       "      <th>729</th>\n",
       "      <td>26085086</td>\n",
       "      <td>162</td>\n",
       "    </tr>\n",
       "    <tr>\n",
       "      <th>1001</th>\n",
       "      <td>59902335</td>\n",
       "      <td>185</td>\n",
       "    </tr>\n",
       "    <tr>\n",
       "      <th>1406</th>\n",
       "      <td>47320529</td>\n",
       "      <td>156</td>\n",
       "    </tr>\n",
       "    <tr>\n",
       "      <th>1584</th>\n",
       "      <td>24252278</td>\n",
       "      <td>176</td>\n",
       "    </tr>\n",
       "    <tr>\n",
       "      <th>...</th>\n",
       "      <td>...</td>\n",
       "      <td>...</td>\n",
       "    </tr>\n",
       "    <tr>\n",
       "      <th>1082271</th>\n",
       "      <td>5388699</td>\n",
       "      <td>172</td>\n",
       "    </tr>\n",
       "    <tr>\n",
       "      <th>1093363</th>\n",
       "      <td>63881368</td>\n",
       "      <td>174</td>\n",
       "    </tr>\n",
       "    <tr>\n",
       "      <th>1192604</th>\n",
       "      <td>40071639</td>\n",
       "      <td>154</td>\n",
       "    </tr>\n",
       "    <tr>\n",
       "      <th>1198138</th>\n",
       "      <td>72856662</td>\n",
       "      <td>202</td>\n",
       "    </tr>\n",
       "    <tr>\n",
       "      <th>1299638</th>\n",
       "      <td>35389</td>\n",
       "      <td>181</td>\n",
       "    </tr>\n",
       "  </tbody>\n",
       "</table>\n",
       "<p>1608 rows × 2 columns</p>\n",
       "</div>"
      ],
      "text/plain": [
       "        cluster_id  Amount\n",
       "696       63047326     158\n",
       "729       26085086     162\n",
       "1001      59902335     185\n",
       "1406      47320529     156\n",
       "1584      24252278     176\n",
       "...            ...     ...\n",
       "1082271    5388699     172\n",
       "1093363   63881368     174\n",
       "1192604   40071639     154\n",
       "1198138   72856662     202\n",
       "1299638      35389     181\n",
       "\n",
       "[1608 rows x 2 columns]"
      ]
     },
     "execution_count": 21,
     "metadata": {},
     "output_type": "execute_result"
    }
   ],
   "source": [
    "# filter on clusters with more entries to get information, here are still 20k clusters left\n",
    "df_150=df_set[df_set['Amount']>150]\n",
    "df_150"
   ]
  },
  {
   "cell_type": "code",
   "execution_count": 22,
   "metadata": {},
   "outputs": [
    {
     "data": {
      "text/html": [
       "<div>\n",
       "<style scoped>\n",
       "    .dataframe tbody tr th:only-of-type {\n",
       "        vertical-align: middle;\n",
       "    }\n",
       "\n",
       "    .dataframe tbody tr th {\n",
       "        vertical-align: top;\n",
       "    }\n",
       "\n",
       "    .dataframe thead th {\n",
       "        text-align: right;\n",
       "    }\n",
       "</style>\n",
       "<table border=\"1\" class=\"dataframe\">\n",
       "  <thead>\n",
       "    <tr style=\"text-align: right;\">\n",
       "      <th></th>\n",
       "      <th>count</th>\n",
       "      <th>mean</th>\n",
       "      <th>std</th>\n",
       "      <th>min</th>\n",
       "      <th>25%</th>\n",
       "      <th>50%</th>\n",
       "      <th>75%</th>\n",
       "      <th>max</th>\n",
       "    </tr>\n",
       "  </thead>\n",
       "  <tbody>\n",
       "    <tr>\n",
       "      <th>Amount</th>\n",
       "      <td>1608.0</td>\n",
       "      <td>242.0</td>\n",
       "      <td>99.0</td>\n",
       "      <td>151.0</td>\n",
       "      <td>171.0</td>\n",
       "      <td>205.0</td>\n",
       "      <td>280.0</td>\n",
       "      <td>1285.0</td>\n",
       "    </tr>\n",
       "  </tbody>\n",
       "</table>\n",
       "</div>"
      ],
      "text/plain": [
       "         count   mean   std    min    25%    50%    75%     max\n",
       "Amount  1608.0  242.0  99.0  151.0  171.0  205.0  280.0  1285.0"
      ]
     },
     "execution_count": 22,
     "metadata": {},
     "output_type": "execute_result"
    }
   ],
   "source": [
    "df_150.set_index('cluster_id').describe().T.round()"
   ]
  },
  {
   "cell_type": "code",
   "execution_count": 23,
   "metadata": {},
   "outputs": [
    {
     "data": {
      "text/plain": [
       "<AxesSubplot:ylabel='Frequency'>"
      ]
     },
     "execution_count": 23,
     "metadata": {},
     "output_type": "execute_result"
    },
    {
     "data": {
      "image/png": "[encoded data removed]",
      "text/plain": [
       "<Figure size 432x288 with 1 Axes>"
      ]
     },
     "metadata": {
      "needs_background": "light"
     },
     "output_type": "display_data"
    }
   ],
   "source": [
    "df_150.plot(x='cluster_id',y='Amount',kind='hist')"
   ]
  },
  {
   "cell_type": "code",
   "execution_count": 25,
   "metadata": {},
   "outputs": [],
   "source": [
    "df_15_500=df_15[df_15['Amount']<500]"
   ]
  },
  {
   "cell_type": "code",
   "execution_count": 27,
   "metadata": {},
   "outputs": [
    {
     "data": {
      "text/plain": [
       "<AxesSubplot:ylabel='Frequency'>"
      ]
     },
     "execution_count": 27,
     "metadata": {},
     "output_type": "execute_result"
    },
    {
     "data": {
      "image/png": "[encoded data removed]",
      "text/plain": [
       "<Figure size 432x288 with 1 Axes>"
      ]
     },
     "metadata": {
      "needs_background": "light"
     },
     "output_type": "display_data"
    }
   ],
   "source": [
    "df_15_500.plot(x='cluster_id',y='Amount',kind='hist')"
   ]
  },
  {
   "cell_type": "markdown",
   "metadata": {},
   "source": [
    "## Match the number dictionaries with the information about the brand"
   ]
  },
  {
   "cell_type": "code",
   "execution_count": 4,
   "metadata": {},
   "outputs": [],
   "source": [
    "# get dictionaries\n",
    "electronics_path = '../src/data/product/product_electronics_v2/electronics_dict.json'\n",
    "clothes_path = '../src/data/product/product_clothes_v2/clothes_dict.json'\n",
    "mapping_corpus_path_2 = '../src/data/product/lspc2020_to_tablecorpus/Cleaned'"
   ]
  },
  {
   "cell_type": "code",
   "execution_count": 5,
   "metadata": {},
   "outputs": [],
   "source": [
    "with open(electronics_path) as f:\n",
    "    electronics_data=json.load(f)"
   ]
  },
  {
   "cell_type": "code",
   "execution_count": 6,
   "metadata": {},
   "outputs": [],
   "source": [
    "with open(clothes_path) as f:\n",
    "    clothes_data=json.load(f)"
   ]
  },
  {
   "cell_type": "code",
   "execution_count": 7,
   "metadata": {
    "scrolled": false
   },
   "outputs": [],
   "source": [
    "#clean the dictionaries by getting rid of the first key \n",
    "cleaned_dictionary_electronics={}\n",
    "for value in electronics_data.values():\n",
    "    cleaned_dictionary_electronics.update(value)"
   ]
  },
  {
   "cell_type": "code",
   "execution_count": 8,
   "metadata": {},
   "outputs": [],
   "source": [
    "#clean the dictionaries by getting rid of the first key \n",
    "cleaned_dictionary_clothes={}\n",
    "for value in clothes_data.values():\n",
    "    cleaned_dictionary_clothes.update(value)"
   ]
  },
  {
   "cell_type": "code",
   "execution_count": 9,
   "metadata": {},
   "outputs": [],
   "source": [
    "#put the dictionaries into dataframes \n",
    "df_electronics=pd.DataFrame.from_dict(cleaned_dictionary_electronics, orient='index')\n",
    "df_clothes=pd.DataFrame.from_dict(cleaned_dictionary_clothes, orient='index')"
   ]
  },
  {
   "cell_type": "code",
   "execution_count": 10,
   "metadata": {
    "scrolled": true
   },
   "outputs": [
    {
     "data": {
      "text/plain": [
       "[]"
      ]
     },
     "execution_count": 10,
     "metadata": {},
     "output_type": "execute_result"
    }
   ],
   "source": [
    "#compare column names of table before and after dropping to actually get a feeling for the best products\n",
    "electronics_before_cleaning = df_electronics.index.tolist()\n",
    "#drop empty rows\n",
    "df_electronics.dropna(how='all', inplace=True)\n",
    "electronics_after_cleaning = df_electronics.index.tolist()\n",
    "list(set(electronics_before_cleaning) - set(electronics_after_cleaning))"
   ]
  },
  {
   "cell_type": "code",
   "execution_count": 11,
   "metadata": {},
   "outputs": [
    {
     "data": {
      "text/plain": [
       "['resonant']"
      ]
     },
     "execution_count": 11,
     "metadata": {},
     "output_type": "execute_result"
    }
   ],
   "source": [
    "# get information about top 20 electronic brands by hard coding to find rows with most column content\n",
    "dataframe = pd.isna(df_electronics[82])\n",
    "newlist = dataframe[dataframe==False].index.tolist()\n",
    "newlist\n",
    "#get information about which brands to be dropped, as otherwise running time of code would be too high\n",
    "list(set(electronics_after_cleaning) - set(newlist))"
   ]
  },
  {
   "cell_type": "code",
   "execution_count": 12,
   "metadata": {},
   "outputs": [
    {
     "data": {
      "text/plain": [
       "[]"
      ]
     },
     "execution_count": 12,
     "metadata": {},
     "output_type": "execute_result"
    }
   ],
   "source": [
    "# get information about top 20 clothes brands by hard coding to find rows with most column content\n",
    "clothes_before_cleaning = df_clothes.index.tolist()\n",
    "dataframe = pd.isna(df_clothes[150])\n",
    "new_list_clothes = dataframe[dataframe==False].index.tolist()\n",
    "new_list_clothes\n",
    "#get information about which brands to be dropped, as otherwise running time of code would be too high\n",
    "list(set(clothes_before_cleaning) - set(new_list_clothes))"
   ]
  },
  {
   "cell_type": "code",
   "execution_count": 14,
   "metadata": {},
   "outputs": [
    {
     "name": "stdout",
     "output_type": "stream",
     "text": [
      "/map_to_tables_35.json.gz\n"
     ]
    },
    {
     "name": "stderr",
     "output_type": "stream",
     "text": [
      "\r",
      "  0% (0 of 359) |                        | Elapsed Time: 0:00:00 ETA:  --:--:--"
     ]
    },
    {
     "name": "stdout",
     "output_type": "stream",
     "text": [
      "/map_to_tables_279.json.gz\n"
     ]
    },
    {
     "name": "stderr",
     "output_type": "stream",
     "text": [
      "\r",
      "  0% (2 of 359) |                        | Elapsed Time: 0:00:00 ETA:   0:02:10"
     ]
    },
    {
     "name": "stdout",
     "output_type": "stream",
     "text": [
      "/map_to_tables_223.json.gz\n"
     ]
    },
    {
     "name": "stderr",
     "output_type": "stream",
     "text": [
      "\r",
      "  0% (3 of 359) |                        | Elapsed Time: 0:00:01 ETA:   0:02:15"
     ]
    },
    {
     "name": "stdout",
     "output_type": "stream",
     "text": [
      "/map_to_tables_182.json.gz\n"
     ]
    },
    {
     "name": "stderr",
     "output_type": "stream",
     "text": [
      "\r",
      "  1% (4 of 359) |                        | Elapsed Time: 0:00:01 ETA:   0:02:52"
     ]
    },
    {
     "name": "stdout",
     "output_type": "stream",
     "text": [
      "/map_to_tables_88.json.gz\n"
     ]
    },
    {
     "name": "stderr",
     "output_type": "stream",
     "text": [
      "\r",
      "  1% (5 of 359) |                        | Elapsed Time: 0:00:02 ETA:   0:02:55"
     ]
    },
    {
     "name": "stdout",
     "output_type": "stream",
     "text": [
      "/map_to_tables_27.json.gz\n"
     ]
    },
    {
     "name": "stderr",
     "output_type": "stream",
     "text": [
      "\r",
      "  1% (6 of 359) |                        | Elapsed Time: 0:00:02 ETA:   0:03:17"
     ]
    },
    {
     "name": "stdout",
     "output_type": "stream",
     "text": [
      "/map_to_tables_166.json.gz\n"
     ]
    },
    {
     "name": "stderr",
     "output_type": "stream",
     "text": [
      "\r",
      "  1% (7 of 359) |                        | Elapsed Time: 0:00:03 ETA:   0:03:21"
     ]
    },
    {
     "name": "stdout",
     "output_type": "stream",
     "text": [
      "/map_to_tables_321.json.gz\n"
     ]
    },
    {
     "name": "stderr",
     "output_type": "stream",
     "text": [
      "\r",
      "  2% (8 of 359) |                        | Elapsed Time: 0:00:03 ETA:   0:03:05"
     ]
    },
    {
     "name": "stdout",
     "output_type": "stream",
     "text": [
      "/map_to_tables_334.json.gz\n"
     ]
    },
    {
     "name": "stderr",
     "output_type": "stream",
     "text": [
      "\r",
      "  2% (9 of 359) |                        | Elapsed Time: 0:00:04 ETA:   0:02:53"
     ]
    },
    {
     "name": "stdout",
     "output_type": "stream",
     "text": [
      "/map_to_tables_211.json.gz\n"
     ]
    },
    {
     "name": "stderr",
     "output_type": "stream",
     "text": [
      "\r",
      "  2% (10 of 359) |                       | Elapsed Time: 0:00:04 ETA:   0:02:41"
     ]
    },
    {
     "name": "stdout",
     "output_type": "stream",
     "text": [
      "/map_to_tables_121.json.gz\n"
     ]
    },
    {
     "name": "stderr",
     "output_type": "stream",
     "text": [
      "\r",
      "  3% (11 of 359) |                       | Elapsed Time: 0:00:05 ETA:   0:02:33"
     ]
    },
    {
     "name": "stdout",
     "output_type": "stream",
     "text": [
      "/map_to_tables_104.json.gz\n"
     ]
    },
    {
     "name": "stderr",
     "output_type": "stream",
     "text": [
      "\r",
      "  3% (12 of 359) |                       | Elapsed Time: 0:00:05 ETA:   0:02:24"
     ]
    },
    {
     "name": "stdout",
     "output_type": "stream",
     "text": [
      "/map_to_tables_225.json.gz\n"
     ]
    },
    {
     "name": "stderr",
     "output_type": "stream",
     "text": [
      "\r",
      "  3% (13 of 359) |                       | Elapsed Time: 0:00:05 ETA:   0:02:27"
     ]
    },
    {
     "name": "stdout",
     "output_type": "stream",
     "text": [
      "/map_to_tables_76.json.gz\n"
     ]
    },
    {
     "name": "stderr",
     "output_type": "stream",
     "text": [
      "\r",
      "  3% (14 of 359) |                       | Elapsed Time: 0:00:06 ETA:   0:02:31"
     ]
    },
    {
     "name": "stdout",
     "output_type": "stream",
     "text": [
      "/map_to_tables_150.json.gz\n"
     ]
    },
    {
     "name": "stderr",
     "output_type": "stream",
     "text": [
      "\r",
      "  4% (15 of 359) |                       | Elapsed Time: 0:00:06 ETA:   0:02:15"
     ]
    },
    {
     "name": "stdout",
     "output_type": "stream",
     "text": [
      "/map_to_tables_160.json.gz\n"
     ]
    },
    {
     "name": "stderr",
     "output_type": "stream",
     "text": [
      "\r",
      "  4% (16 of 359) |#                      | Elapsed Time: 0:00:07 ETA:   0:02:15"
     ]
    },
    {
     "name": "stdout",
     "output_type": "stream",
     "text": [
      "/map_to_tables_136.json.gz\n"
     ]
    },
    {
     "name": "stderr",
     "output_type": "stream",
     "text": [
      "\r",
      "  4% (17 of 359) |#                      | Elapsed Time: 0:00:07 ETA:   0:02:16"
     ]
    },
    {
     "name": "stdout",
     "output_type": "stream",
     "text": [
      "/map_to_tables_254.json.gz\n"
     ]
    },
    {
     "name": "stderr",
     "output_type": "stream",
     "text": [
      "\r",
      "  5% (18 of 359) |#                      | Elapsed Time: 0:00:08 ETA:   0:02:33"
     ]
    },
    {
     "name": "stdout",
     "output_type": "stream",
     "text": [
      "/map_to_tables_128.json.gz\n"
     ]
    },
    {
     "name": "stderr",
     "output_type": "stream",
     "text": [
      "\r",
      "  5% (19 of 359) |#                      | Elapsed Time: 0:00:08 ETA:   0:02:50"
     ]
    },
    {
     "name": "stdout",
     "output_type": "stream",
     "text": [
      "/map_to_tables_147.json.gz\n"
     ]
    },
    {
     "name": "stderr",
     "output_type": "stream",
     "text": [
      "\r",
      "  5% (20 of 359) |#                      | Elapsed Time: 0:00:09 ETA:   0:03:09"
     ]
    },
    {
     "name": "stdout",
     "output_type": "stream",
     "text": [
      "/map_to_tables_188.json.gz\n"
     ]
    },
    {
     "name": "stderr",
     "output_type": "stream",
     "text": [
      "\r",
      "  5% (21 of 359) |#                      | Elapsed Time: 0:00:10 ETA:   0:03:37"
     ]
    },
    {
     "name": "stdout",
     "output_type": "stream",
     "text": [
      "/map_to_tables_24.json.gz\n"
     ]
    },
    {
     "name": "stderr",
     "output_type": "stream",
     "text": [
      "\r",
      "  6% (22 of 359) |#                      | Elapsed Time: 0:00:10 ETA:   0:03:36"
     ]
    },
    {
     "name": "stdout",
     "output_type": "stream",
     "text": [
      "/map_to_tables_41.json.gz\n"
     ]
    },
    {
     "name": "stderr",
     "output_type": "stream",
     "text": [
      "\r",
      "  6% (23 of 359) |#                      | Elapsed Time: 0:00:11 ETA:   0:03:19"
     ]
    },
    {
     "name": "stdout",
     "output_type": "stream",
     "text": [
      "/map_to_tables_165.json.gz\n"
     ]
    },
    {
     "name": "stderr",
     "output_type": "stream",
     "text": [
      "\r",
      "  6% (24 of 359) |#                      | Elapsed Time: 0:00:11 ETA:   0:03:13"
     ]
    },
    {
     "name": "stdout",
     "output_type": "stream",
     "text": [
      "/map_to_tables_43.json.gz\n"
     ]
    },
    {
     "name": "stderr",
     "output_type": "stream",
     "text": [
      "\r",
      "  6% (25 of 359) |#                      | Elapsed Time: 0:00:12 ETA:   0:02:56"
     ]
    },
    {
     "name": "stdout",
     "output_type": "stream",
     "text": [
      "/map_to_tables_174.json.gz\n"
     ]
    },
    {
     "name": "stderr",
     "output_type": "stream",
     "text": [
      "\r",
      "  7% (26 of 359) |#                      | Elapsed Time: 0:00:12 ETA:   0:02:36"
     ]
    },
    {
     "name": "stdout",
     "output_type": "stream",
     "text": [
      "/map_to_tables_288.json.gz\n"
     ]
    },
    {
     "name": "stderr",
     "output_type": "stream",
     "text": [
      "\r",
      "  7% (27 of 359) |#                      | Elapsed Time: 0:00:12 ETA:   0:02:17"
     ]
    },
    {
     "name": "stdout",
     "output_type": "stream",
     "text": [
      "/map_to_tables_261.json.gz\n"
     ]
    },
    {
     "name": "stderr",
     "output_type": "stream",
     "text": [
      "\r",
      "  7% (28 of 359) |#                      | Elapsed Time: 0:00:13 ETA:   0:02:30"
     ]
    },
    {
     "name": "stdout",
     "output_type": "stream",
     "text": [
      "/map_to_tables_33.json.gz\n"
     ]
    },
    {
     "name": "stderr",
     "output_type": "stream",
     "text": [
      "\r",
      "  8% (29 of 359) |#                      | Elapsed Time: 0:00:14 ETA:   0:02:50"
     ]
    },
    {
     "name": "stdout",
     "output_type": "stream",
     "text": [
      "/map_to_tables_197.json.gz\n"
     ]
    },
    {
     "name": "stderr",
     "output_type": "stream",
     "text": [
      "\r",
      "  8% (30 of 359) |#                      | Elapsed Time: 0:00:14 ETA:   0:02:46"
     ]
    },
    {
     "name": "stdout",
     "output_type": "stream",
     "text": [
      "/map_to_tables_291.json.gz\n"
     ]
    },
    {
     "name": "stderr",
     "output_type": "stream",
     "text": [
      "\r",
      "  8% (31 of 359) |#                      | Elapsed Time: 0:00:14 ETA:   0:02:47"
     ]
    },
    {
     "name": "stdout",
     "output_type": "stream",
     "text": [
      "/map_to_tables_155.json.gz\n"
     ]
    },
    {
     "name": "stderr",
     "output_type": "stream",
     "text": [
      "\r",
      "  8% (32 of 359) |##                     | Elapsed Time: 0:00:15 ETA:   0:02:47"
     ]
    },
    {
     "name": "stdout",
     "output_type": "stream",
     "text": [
      "/map_to_tables_149.json.gz\n"
     ]
    },
    {
     "name": "stderr",
     "output_type": "stream",
     "text": [
      "\r",
      "  9% (33 of 359) |##                     | Elapsed Time: 0:00:16 ETA:   0:02:43"
     ]
    },
    {
     "name": "stdout",
     "output_type": "stream",
     "text": [
      "/map_to_tables_186.json.gz\n"
     ]
    },
    {
     "name": "stderr",
     "output_type": "stream",
     "text": [
      "\r",
      "  9% (34 of 359) |##                     | Elapsed Time: 0:00:16 ETA:   0:02:42"
     ]
    },
    {
     "name": "stdout",
     "output_type": "stream",
     "text": [
      "/map_to_tables_183.json.gz\n"
     ]
    },
    {
     "name": "stderr",
     "output_type": "stream",
     "text": [
      "\r",
      "  9% (35 of 359) |##                     | Elapsed Time: 0:00:17 ETA:   0:03:04"
     ]
    },
    {
     "name": "stdout",
     "output_type": "stream",
     "text": [
      "/map_to_tables_153.json.gz\n"
     ]
    },
    {
     "name": "stderr",
     "output_type": "stream",
     "text": [
      "\r",
      " 10% (36 of 359) |##                     | Elapsed Time: 0:00:17 ETA:   0:03:01"
     ]
    },
    {
     "name": "stdout",
     "output_type": "stream",
     "text": [
      "/map_to_tables_168.json.gz\n"
     ]
    },
    {
     "name": "stderr",
     "output_type": "stream",
     "text": [
      "\r",
      " 10% (37 of 359) |##                     | Elapsed Time: 0:00:18 ETA:   0:03:02"
     ]
    },
    {
     "name": "stdout",
     "output_type": "stream",
     "text": [
      "/map_to_tables_18.json.gz\n"
     ]
    },
    {
     "name": "stderr",
     "output_type": "stream",
     "text": [
      "\r",
      " 10% (38 of 359) |##                     | Elapsed Time: 0:00:19 ETA:   0:03:23"
     ]
    },
    {
     "name": "stdout",
     "output_type": "stream",
     "text": [
      "/map_to_tables_343.json.gz\n"
     ]
    },
    {
     "name": "stderr",
     "output_type": "stream",
     "text": [
      "\r",
      " 10% (39 of 359) |##                     | Elapsed Time: 0:00:19 ETA:   0:03:20"
     ]
    },
    {
     "name": "stdout",
     "output_type": "stream",
     "text": [
      "/map_to_tables_355.json.gz\n"
     ]
    },
    {
     "name": "stderr",
     "output_type": "stream",
     "text": [
      "\r",
      " 11% (40 of 359) |##                     | Elapsed Time: 0:00:19 ETA:   0:02:58"
     ]
    },
    {
     "name": "stdout",
     "output_type": "stream",
     "text": [
      "/map_to_tables_270.json.gz\n"
     ]
    },
    {
     "name": "stderr",
     "output_type": "stream",
     "text": [
      "\r",
      " 11% (41 of 359) |##                     | Elapsed Time: 0:00:20 ETA:   0:02:55"
     ]
    },
    {
     "name": "stdout",
     "output_type": "stream",
     "text": [
      "/map_to_tables_130.json.gz\n"
     ]
    },
    {
     "name": "stderr",
     "output_type": "stream",
     "text": [
      "\r",
      " 11% (42 of 359) |##                     | Elapsed Time: 0:00:21 ETA:   0:02:41"
     ]
    },
    {
     "name": "stdout",
     "output_type": "stream",
     "text": [
      "/map_to_tables_98.json.gz\n"
     ]
    },
    {
     "name": "stderr",
     "output_type": "stream",
     "text": [
      "\r",
      " 11% (43 of 359) |##                     | Elapsed Time: 0:00:21 ETA:   0:02:30"
     ]
    },
    {
     "name": "stdout",
     "output_type": "stream",
     "text": [
      "/map_to_tables_55.json.gz\n"
     ]
    },
    {
     "name": "stderr",
     "output_type": "stream",
     "text": [
      "\r",
      " 12% (44 of 359) |##                     | Elapsed Time: 0:00:21 ETA:   0:02:14"
     ]
    },
    {
     "name": "stdout",
     "output_type": "stream",
     "text": [
      "/map_to_tables_306.json.gz\n"
     ]
    },
    {
     "name": "stderr",
     "output_type": "stream",
     "text": [
      "\r",
      " 12% (45 of 359) |##                     | Elapsed Time: 0:00:22 ETA:   0:02:14"
     ]
    },
    {
     "name": "stdout",
     "output_type": "stream",
     "text": [
      "/map_to_tables_207.json.gz\n"
     ]
    },
    {
     "name": "stderr",
     "output_type": "stream",
     "text": [
      "\r",
      " 12% (46 of 359) |##                     | Elapsed Time: 0:00:22 ETA:   0:02:15"
     ]
    },
    {
     "name": "stdout",
     "output_type": "stream",
     "text": [
      "/map_to_tables_77.json.gz\n"
     ]
    },
    {
     "name": "stderr",
     "output_type": "stream",
     "text": [
      "\r",
      " 13% (47 of 359) |###                    | Elapsed Time: 0:00:23 ETA:   0:02:09"
     ]
    },
    {
     "name": "stdout",
     "output_type": "stream",
     "text": [
      "/map_to_tables_212.json.gz\n"
     ]
    },
    {
     "name": "stderr",
     "output_type": "stream",
     "text": [
      "\r",
      " 13% (48 of 359) |###                    | Elapsed Time: 0:00:23 ETA:   0:02:10"
     ]
    },
    {
     "name": "stdout",
     "output_type": "stream",
     "text": [
      "/map_to_tables_92.json.gz\n"
     ]
    },
    {
     "name": "stderr",
     "output_type": "stream",
     "text": [
      "\r",
      " 13% (49 of 359) |###                    | Elapsed Time: 0:00:23 ETA:   0:02:08"
     ]
    },
    {
     "name": "stdout",
     "output_type": "stream",
     "text": [
      "/map_to_tables_352.json.gz\n"
     ]
    },
    {
     "name": "stderr",
     "output_type": "stream",
     "text": [
      "\r",
      " 13% (50 of 359) |###                    | Elapsed Time: 0:00:24 ETA:   0:02:25"
     ]
    },
    {
     "name": "stdout",
     "output_type": "stream",
     "text": [
      "/map_to_tables_69.json.gz\n"
     ]
    },
    {
     "name": "stderr",
     "output_type": "stream",
     "text": [
      "\r",
      " 14% (51 of 359) |###                    | Elapsed Time: 0:00:24 ETA:   0:02:08"
     ]
    },
    {
     "name": "stdout",
     "output_type": "stream",
     "text": [
      "/map_to_tables_213.json.gz\n"
     ]
    },
    {
     "name": "stderr",
     "output_type": "stream",
     "text": [
      "\r",
      " 14% (52 of 359) |###                    | Elapsed Time: 0:00:25 ETA:   0:02:24"
     ]
    },
    {
     "name": "stdout",
     "output_type": "stream",
     "text": [
      "/map_to_tables_79.json.gz\n"
     ]
    },
    {
     "name": "stderr",
     "output_type": "stream",
     "text": [
      "\r",
      " 14% (53 of 359) |###                    | Elapsed Time: 0:00:25 ETA:   0:02:33"
     ]
    },
    {
     "name": "stdout",
     "output_type": "stream",
     "text": [
      "/map_to_tables_287.json.gz\n"
     ]
    },
    {
     "name": "stderr",
     "output_type": "stream",
     "text": [
      "\r",
      " 15% (54 of 359) |###                    | Elapsed Time: 0:00:26 ETA:   0:02:23"
     ]
    },
    {
     "name": "stdout",
     "output_type": "stream",
     "text": [
      "/map_to_tables_269.json.gz\n"
     ]
    },
    {
     "name": "stderr",
     "output_type": "stream",
     "text": [
      "\r",
      " 15% (55 of 359) |###                    | Elapsed Time: 0:00:26 ETA:   0:02:22"
     ]
    },
    {
     "name": "stdout",
     "output_type": "stream",
     "text": [
      "/map_to_tables_313.json.gz\n"
     ]
    },
    {
     "name": "stderr",
     "output_type": "stream",
     "text": [
      "\r",
      " 15% (56 of 359) |###                    | Elapsed Time: 0:00:27 ETA:   0:02:35"
     ]
    },
    {
     "name": "stdout",
     "output_type": "stream",
     "text": [
      "/map_to_tables_286.json.gz\n"
     ]
    },
    {
     "name": "stderr",
     "output_type": "stream",
     "text": [
      "\r",
      " 15% (57 of 359) |###                    | Elapsed Time: 0:00:27 ETA:   0:02:34"
     ]
    },
    {
     "name": "stdout",
     "output_type": "stream",
     "text": [
      "/map_to_tables_132.json.gz\n"
     ]
    },
    {
     "name": "stderr",
     "output_type": "stream",
     "text": [
      "\r",
      " 16% (58 of 359) |###                    | Elapsed Time: 0:00:28 ETA:   0:02:33"
     ]
    },
    {
     "name": "stdout",
     "output_type": "stream",
     "text": [
      "/map_to_tables_200.json.gz\n"
     ]
    },
    {
     "name": "stderr",
     "output_type": "stream",
     "text": [
      "\r",
      " 16% (59 of 359) |###                    | Elapsed Time: 0:00:28 ETA:   0:02:24"
     ]
    },
    {
     "name": "stdout",
     "output_type": "stream",
     "text": [
      "/map_to_tables_323.json.gz\n"
     ]
    },
    {
     "name": "stderr",
     "output_type": "stream",
     "text": [
      "\r",
      " 16% (60 of 359) |###                    | Elapsed Time: 0:00:29 ETA:   0:02:18"
     ]
    },
    {
     "name": "stdout",
     "output_type": "stream",
     "text": [
      "/map_to_tables_102.json.gz\n"
     ]
    },
    {
     "name": "stderr",
     "output_type": "stream",
     "text": [
      "\r",
      " 16% (61 of 359) |###                    | Elapsed Time: 0:00:29 ETA:   0:02:14"
     ]
    },
    {
     "name": "stdout",
     "output_type": "stream",
     "text": [
      "/map_to_tables_161.json.gz\n"
     ]
    },
    {
     "name": "stderr",
     "output_type": "stream",
     "text": [
      "\r",
      " 17% (62 of 359) |###                    | Elapsed Time: 0:00:30 ETA:   0:02:08"
     ]
    },
    {
     "name": "stdout",
     "output_type": "stream",
     "text": [
      "/map_to_tables_5.json.gz\n"
     ]
    },
    {
     "name": "stderr",
     "output_type": "stream",
     "text": [
      "\r",
      " 17% (63 of 359) |####                   | Elapsed Time: 0:00:30 ETA:   0:02:08"
     ]
    },
    {
     "name": "stdout",
     "output_type": "stream",
     "text": [
      "/map_to_tables_278.json.gz\n"
     ]
    },
    {
     "name": "stderr",
     "output_type": "stream",
     "text": [
      "\r",
      " 17% (64 of 359) |####                   | Elapsed Time: 0:00:31 ETA:   0:02:24"
     ]
    },
    {
     "name": "stdout",
     "output_type": "stream",
     "text": [
      "/map_to_tables_325.json.gz\n"
     ]
    },
    {
     "name": "stderr",
     "output_type": "stream",
     "text": [
      "\r",
      " 18% (65 of 359) |####                   | Elapsed Time: 0:00:31 ETA:   0:02:14"
     ]
    },
    {
     "name": "stdout",
     "output_type": "stream",
     "text": [
      "/map_to_tables_96.json.gz\n"
     ]
    },
    {
     "name": "stderr",
     "output_type": "stream",
     "text": [
      "\r",
      " 18% (66 of 359) |####                   | Elapsed Time: 0:00:31 ETA:   0:02:11"
     ]
    },
    {
     "name": "stdout",
     "output_type": "stream",
     "text": [
      "/map_to_tables_297.json.gz\n"
     ]
    },
    {
     "name": "stderr",
     "output_type": "stream",
     "text": [
      "\r",
      " 18% (67 of 359) |####                   | Elapsed Time: 0:00:32 ETA:   0:02:29"
     ]
    },
    {
     "name": "stdout",
     "output_type": "stream",
     "text": [
      "/map_to_tables_53.json.gz\n"
     ]
    },
    {
     "name": "stderr",
     "output_type": "stream",
     "text": [
      "\r",
      " 18% (68 of 359) |####                   | Elapsed Time: 0:00:32 ETA:   0:02:21"
     ]
    },
    {
     "name": "stdout",
     "output_type": "stream",
     "text": [
      "/map_to_tables_218.json.gz\n"
     ]
    },
    {
     "name": "stderr",
     "output_type": "stream",
     "text": [
      "\r",
      " 19% (69 of 359) |####                   | Elapsed Time: 0:00:33 ETA:   0:02:30"
     ]
    },
    {
     "name": "stdout",
     "output_type": "stream",
     "text": [
      "/map_to_tables_359.json.gz\n"
     ]
    },
    {
     "name": "stderr",
     "output_type": "stream",
     "text": [
      "\r",
      " 19% (70 of 359) |####                   | Elapsed Time: 0:00:33 ETA:   0:02:30"
     ]
    },
    {
     "name": "stdout",
     "output_type": "stream",
     "text": [
      "/map_to_tables_74.json.gz\n"
     ]
    },
    {
     "name": "stderr",
     "output_type": "stream",
     "text": [
      "\r",
      " 19% (71 of 359) |####                   | Elapsed Time: 0:00:34 ETA:   0:02:21"
     ]
    },
    {
     "name": "stdout",
     "output_type": "stream",
     "text": [
      "/map_to_tables_342.json.gz\n"
     ]
    },
    {
     "name": "stderr",
     "output_type": "stream",
     "text": [
      "\r",
      " 20% (72 of 359) |####                   | Elapsed Time: 0:00:34 ETA:   0:02:01"
     ]
    },
    {
     "name": "stdout",
     "output_type": "stream",
     "text": [
      "/map_to_tables_151.json.gz\n"
     ]
    },
    {
     "name": "stderr",
     "output_type": "stream",
     "text": [
      "\r",
      " 20% (73 of 359) |####                   | Elapsed Time: 0:00:34 ETA:   0:02:00"
     ]
    },
    {
     "name": "stdout",
     "output_type": "stream",
     "text": [
      "/map_to_tables_101.json.gz\n"
     ]
    },
    {
     "name": "stderr",
     "output_type": "stream",
     "text": [
      "\r",
      " 20% (74 of 359) |####                   | Elapsed Time: 0:00:35 ETA:   0:01:56"
     ]
    },
    {
     "name": "stdout",
     "output_type": "stream",
     "text": [
      "/map_to_tables_241.json.gz\n"
     ]
    },
    {
     "name": "stderr",
     "output_type": "stream",
     "text": [
      "\r",
      " 20% (75 of 359) |####                   | Elapsed Time: 0:00:36 ETA:   0:02:03"
     ]
    },
    {
     "name": "stdout",
     "output_type": "stream",
     "text": [
      "/map_to_tables_308.json.gz\n"
     ]
    },
    {
     "name": "stderr",
     "output_type": "stream",
     "text": [
      "\r",
      " 21% (76 of 359) |####                   | Elapsed Time: 0:00:36 ETA:   0:02:25"
     ]
    },
    {
     "name": "stdout",
     "output_type": "stream",
     "text": [
      "/map_to_tables_326.json.gz\n"
     ]
    },
    {
     "name": "stderr",
     "output_type": "stream",
     "text": [
      "\r",
      " 21% (77 of 359) |####                   | Elapsed Time: 0:00:37 ETA:   0:02:45"
     ]
    },
    {
     "name": "stdout",
     "output_type": "stream",
     "text": [
      "/map_to_tables_158.json.gz\n"
     ]
    },
    {
     "name": "stderr",
     "output_type": "stream",
     "text": [
      "\r",
      " 21% (78 of 359) |####                   | Elapsed Time: 0:00:37 ETA:   0:02:46"
     ]
    },
    {
     "name": "stdout",
     "output_type": "stream",
     "text": [
      "/map_to_tables_143.json.gz\n"
     ]
    },
    {
     "name": "stderr",
     "output_type": "stream",
     "text": [
      "\r",
      " 22% (79 of 359) |#####                  | Elapsed Time: 0:00:38 ETA:   0:02:41"
     ]
    },
    {
     "name": "stdout",
     "output_type": "stream",
     "text": [
      "/map_to_tables_240.json.gz\n"
     ]
    },
    {
     "name": "stderr",
     "output_type": "stream",
     "text": [
      "\r",
      " 22% (80 of 359) |#####                  | Elapsed Time: 0:00:38 ETA:   0:02:20"
     ]
    },
    {
     "name": "stdout",
     "output_type": "stream",
     "text": [
      "/map_to_tables_318.json.gz\n"
     ]
    },
    {
     "name": "stderr",
     "output_type": "stream",
     "text": [
      "\r",
      " 22% (81 of 359) |#####                  | Elapsed Time: 0:00:39 ETA:   0:02:11"
     ]
    },
    {
     "name": "stdout",
     "output_type": "stream",
     "text": [
      "/map_to_tables_124.json.gz\n"
     ]
    },
    {
     "name": "stderr",
     "output_type": "stream",
     "text": [
      "\r",
      " 22% (82 of 359) |#####                  | Elapsed Time: 0:00:39 ETA:   0:02:11"
     ]
    },
    {
     "name": "stdout",
     "output_type": "stream",
     "text": [
      "/map_to_tables_81.json.gz\n"
     ]
    },
    {
     "name": "stderr",
     "output_type": "stream",
     "text": [
      "\r",
      " 23% (83 of 359) |#####                  | Elapsed Time: 0:00:40 ETA:   0:02:08"
     ]
    },
    {
     "name": "stdout",
     "output_type": "stream",
     "text": [
      "/map_to_tables_332.json.gz\n"
     ]
    },
    {
     "name": "stderr",
     "output_type": "stream",
     "text": [
      "\r",
      " 23% (84 of 359) |#####                  | Elapsed Time: 0:00:40 ETA:   0:01:52"
     ]
    },
    {
     "name": "stdout",
     "output_type": "stream",
     "text": [
      "/map_to_tables_252.json.gz\n"
     ]
    },
    {
     "name": "stderr",
     "output_type": "stream",
     "text": [
      "\r",
      " 23% (85 of 359) |#####                  | Elapsed Time: 0:00:40 ETA:   0:02:08"
     ]
    },
    {
     "name": "stdout",
     "output_type": "stream",
     "text": [
      "/map_to_tables_118.json.gz\n"
     ]
    },
    {
     "name": "stderr",
     "output_type": "stream",
     "text": [
      "\r",
      " 23% (86 of 359) |#####                  | Elapsed Time: 0:00:41 ETA:   0:02:09"
     ]
    },
    {
     "name": "stdout",
     "output_type": "stream",
     "text": [
      "/map_to_tables_80.json.gz\n"
     ]
    },
    {
     "name": "stderr",
     "output_type": "stream",
     "text": [
      "\r",
      " 24% (87 of 359) |#####                  | Elapsed Time: 0:00:41 ETA:   0:01:52"
     ]
    },
    {
     "name": "stdout",
     "output_type": "stream",
     "text": [
      "/map_to_tables_320.json.gz\n"
     ]
    },
    {
     "name": "stderr",
     "output_type": "stream",
     "text": [
      "\r",
      " 24% (88 of 359) |#####                  | Elapsed Time: 0:00:42 ETA:   0:01:54"
     ]
    },
    {
     "name": "stdout",
     "output_type": "stream",
     "text": [
      "/map_to_tables_172.json.gz\n"
     ]
    },
    {
     "name": "stderr",
     "output_type": "stream",
     "text": [
      "\r",
      " 24% (89 of 359) |#####                  | Elapsed Time: 0:00:42 ETA:   0:01:54"
     ]
    },
    {
     "name": "stdout",
     "output_type": "stream",
     "text": [
      "/map_to_tables_285.json.gz\n"
     ]
    },
    {
     "name": "stderr",
     "output_type": "stream",
     "text": [
      "\r",
      " 25% (90 of 359) |#####                  | Elapsed Time: 0:00:43 ETA:   0:01:54"
     ]
    },
    {
     "name": "stdout",
     "output_type": "stream",
     "text": [
      "/map_to_tables_135.json.gz\n"
     ]
    },
    {
     "name": "stderr",
     "output_type": "stream",
     "text": [
      "\r",
      " 25% (91 of 359) |#####                  | Elapsed Time: 0:00:43 ETA:   0:01:53"
     ]
    },
    {
     "name": "stdout",
     "output_type": "stream",
     "text": [
      "/map_to_tables_199.json.gz\n"
     ]
    },
    {
     "name": "stderr",
     "output_type": "stream",
     "text": [
      "\r",
      " 25% (92 of 359) |#####                  | Elapsed Time: 0:00:44 ETA:   0:02:08"
     ]
    },
    {
     "name": "stdout",
     "output_type": "stream",
     "text": [
      "/map_to_tables_11.json.gz\n"
     ]
    },
    {
     "name": "stderr",
     "output_type": "stream",
     "text": [
      "\r",
      " 25% (93 of 359) |#####                  | Elapsed Time: 0:00:44 ETA:   0:02:30"
     ]
    },
    {
     "name": "stdout",
     "output_type": "stream",
     "text": [
      "/map_to_tables_38.json.gz\n"
     ]
    },
    {
     "name": "stderr",
     "output_type": "stream",
     "text": [
      "\r",
      " 26% (94 of 359) |######                 | Elapsed Time: 0:00:45 ETA:   0:02:30"
     ]
    },
    {
     "name": "stdout",
     "output_type": "stream",
     "text": [
      "/map_to_tables_273.json.gz\n"
     ]
    },
    {
     "name": "stderr",
     "output_type": "stream",
     "text": [
      "\r",
      " 26% (95 of 359) |######                 | Elapsed Time: 0:00:45 ETA:   0:02:28"
     ]
    },
    {
     "name": "stdout",
     "output_type": "stream",
     "text": [
      "/map_to_tables_47.json.gz\n"
     ]
    },
    {
     "name": "stderr",
     "output_type": "stream",
     "text": [
      "\r",
      " 26% (96 of 359) |######                 | Elapsed Time: 0:00:46 ETA:   0:02:29"
     ]
    },
    {
     "name": "stdout",
     "output_type": "stream",
     "text": [
      "/map_to_tables_70.json.gz\n"
     ]
    },
    {
     "name": "stderr",
     "output_type": "stream",
     "text": [
      "\r",
      " 27% (97 of 359) |######                 | Elapsed Time: 0:00:46 ETA:   0:02:11"
     ]
    },
    {
     "name": "stdout",
     "output_type": "stream",
     "text": [
      "/map_to_tables_181.json.gz\n"
     ]
    },
    {
     "name": "stderr",
     "output_type": "stream",
     "text": [
      "\r",
      " 27% (98 of 359) |######                 | Elapsed Time: 0:00:47 ETA:   0:02:03"
     ]
    },
    {
     "name": "stdout",
     "output_type": "stream",
     "text": [
      "/map_to_tables_202.json.gz\n"
     ]
    },
    {
     "name": "stderr",
     "output_type": "stream",
     "text": [
      "\r",
      " 27% (99 of 359) |######                 | Elapsed Time: 0:00:47 ETA:   0:01:47"
     ]
    },
    {
     "name": "stdout",
     "output_type": "stream",
     "text": [
      "/map_to_tables_108.json.gz\n"
     ]
    },
    {
     "name": "stderr",
     "output_type": "stream",
     "text": [
      "\r",
      " 27% (100 of 359) |######                | Elapsed Time: 0:00:47 ETA:   0:01:47"
     ]
    },
    {
     "name": "stdout",
     "output_type": "stream",
     "text": [
      "/map_to_tables_8.json.gz\n"
     ]
    },
    {
     "name": "stderr",
     "output_type": "stream",
     "text": [
      "\r",
      " 28% (101 of 359) |######                | Elapsed Time: 0:00:48 ETA:   0:01:45"
     ]
    },
    {
     "name": "stdout",
     "output_type": "stream",
     "text": [
      "/map_to_tables_242.json.gz\n"
     ]
    },
    {
     "name": "stderr",
     "output_type": "stream",
     "text": [
      "\r",
      " 28% (102 of 359) |######                | Elapsed Time: 0:00:48 ETA:   0:01:32"
     ]
    },
    {
     "name": "stdout",
     "output_type": "stream",
     "text": [
      "/map_to_tables_290.json.gz\n"
     ]
    },
    {
     "name": "stderr",
     "output_type": "stream",
     "text": [
      "\r",
      " 28% (103 of 359) |######                | Elapsed Time: 0:00:48 ETA:   0:01:32"
     ]
    },
    {
     "name": "stdout",
     "output_type": "stream",
     "text": [
      "/map_to_tables_239.json.gz\n"
     ]
    },
    {
     "name": "stderr",
     "output_type": "stream",
     "text": [
      "\r",
      " 28% (104 of 359) |######                | Elapsed Time: 0:00:49 ETA:   0:01:46"
     ]
    },
    {
     "name": "stdout",
     "output_type": "stream",
     "text": [
      "/map_to_tables_176.json.gz\n"
     ]
    },
    {
     "name": "stderr",
     "output_type": "stream",
     "text": [
      "\r",
      " 29% (105 of 359) |######                | Elapsed Time: 0:00:50 ETA:   0:01:51"
     ]
    },
    {
     "name": "stdout",
     "output_type": "stream",
     "text": [
      "/map_to_tables_137.json.gz\n"
     ]
    },
    {
     "name": "stderr",
     "output_type": "stream",
     "text": [
      "\r",
      " 29% (106 of 359) |######                | Elapsed Time: 0:00:50 ETA:   0:01:50"
     ]
    },
    {
     "name": "stdout",
     "output_type": "stream",
     "text": [
      "/map_to_tables_303.json.gz\n"
     ]
    },
    {
     "name": "stderr",
     "output_type": "stream",
     "text": [
      "\r",
      " 29% (107 of 359) |######                | Elapsed Time: 0:00:51 ETA:   0:02:14"
     ]
    },
    {
     "name": "stdout",
     "output_type": "stream",
     "text": [
      "/map_to_tables_184.json.gz\n"
     ]
    },
    {
     "name": "stderr",
     "output_type": "stream",
     "text": [
      "\r",
      " 30% (108 of 359) |######                | Elapsed Time: 0:00:51 ETA:   0:02:16"
     ]
    },
    {
     "name": "stdout",
     "output_type": "stream",
     "text": [
      "/map_to_tables_54.json.gz\n"
     ]
    },
    {
     "name": "stderr",
     "output_type": "stream",
     "text": [
      "\r",
      " 30% (109 of 359) |######                | Elapsed Time: 0:00:52 ETA:   0:02:10"
     ]
    },
    {
     "name": "stdout",
     "output_type": "stream",
     "text": [
      "/map_to_tables_51.json.gz\n"
     ]
    },
    {
     "name": "stderr",
     "output_type": "stream",
     "text": [
      "\r",
      " 30% (110 of 359) |######                | Elapsed Time: 0:00:52 ETA:   0:02:08"
     ]
    },
    {
     "name": "stdout",
     "output_type": "stream",
     "text": [
      "/map_to_tables_103.json.gz\n"
     ]
    },
    {
     "name": "stderr",
     "output_type": "stream",
     "text": [
      "\r",
      " 30% (111 of 359) |######                | Elapsed Time: 0:00:52 ETA:   0:01:59"
     ]
    },
    {
     "name": "stdout",
     "output_type": "stream",
     "text": [
      "/map_to_tables_233.json.gz\n"
     ]
    },
    {
     "name": "stderr",
     "output_type": "stream",
     "text": [
      "\r",
      " 31% (112 of 359) |######                | Elapsed Time: 0:00:53 ETA:   0:01:45"
     ]
    },
    {
     "name": "stdout",
     "output_type": "stream",
     "text": [
      "/map_to_tables_316.json.gz\n"
     ]
    },
    {
     "name": "stderr",
     "output_type": "stream",
     "text": [
      "\r",
      " 31% (113 of 359) |######                | Elapsed Time: 0:00:53 ETA:   0:01:43"
     ]
    },
    {
     "name": "stdout",
     "output_type": "stream",
     "text": [
      "/map_to_tables_156.json.gz\n"
     ]
    },
    {
     "name": "stderr",
     "output_type": "stream",
     "text": [
      "\r",
      " 31% (114 of 359) |######                | Elapsed Time: 0:00:53 ETA:   0:01:30"
     ]
    },
    {
     "name": "stdout",
     "output_type": "stream",
     "text": [
      "/map_to_tables_277.json.gz\n"
     ]
    },
    {
     "name": "stderr",
     "output_type": "stream",
     "text": [
      "\r",
      " 32% (115 of 359) |#######               | Elapsed Time: 0:00:54 ETA:   0:01:28"
     ]
    },
    {
     "name": "stdout",
     "output_type": "stream",
     "text": [
      "/map_to_tables_133.json.gz\n"
     ]
    },
    {
     "name": "stderr",
     "output_type": "stream",
     "text": [
      "\r",
      " 32% (116 of 359) |#######               | Elapsed Time: 0:00:54 ETA:   0:01:28"
     ]
    },
    {
     "name": "stdout",
     "output_type": "stream",
     "text": [
      "/map_to_tables_255.json.gz\n"
     ]
    },
    {
     "name": "stderr",
     "output_type": "stream",
     "text": [
      "\r",
      " 32% (117 of 359) |#######               | Elapsed Time: 0:00:55 ETA:   0:01:31"
     ]
    },
    {
     "name": "stdout",
     "output_type": "stream",
     "text": [
      "/map_to_tables_129.json.gz\n"
     ]
    },
    {
     "name": "stderr",
     "output_type": "stream",
     "text": [
      "\r",
      " 32% (118 of 359) |#######               | Elapsed Time: 0:00:55 ETA:   0:01:30"
     ]
    },
    {
     "name": "stdout",
     "output_type": "stream",
     "text": [
      "/map_to_tables_230.json.gz\n"
     ]
    },
    {
     "name": "stderr",
     "output_type": "stream",
     "text": [
      "\r",
      " 33% (119 of 359) |#######               | Elapsed Time: 0:00:55 ETA:   0:01:29"
     ]
    },
    {
     "name": "stdout",
     "output_type": "stream",
     "text": [
      "/map_to_tables_191.json.gz\n"
     ]
    },
    {
     "name": "stderr",
     "output_type": "stream",
     "text": [
      "\r",
      " 33% (120 of 359) |#######               | Elapsed Time: 0:00:56 ETA:   0:01:42"
     ]
    },
    {
     "name": "stdout",
     "output_type": "stream",
     "text": [
      "/map_to_tables_62.json.gz\n"
     ]
    },
    {
     "name": "stderr",
     "output_type": "stream",
     "text": [
      "\r",
      " 33% (121 of 359) |#######               | Elapsed Time: 0:00:56 ETA:   0:01:42"
     ]
    },
    {
     "name": "stdout",
     "output_type": "stream",
     "text": [
      "/map_to_tables_282.json.gz\n"
     ]
    },
    {
     "name": "stderr",
     "output_type": "stream",
     "text": [
      "\r",
      " 33% (122 of 359) |#######               | Elapsed Time: 0:00:57 ETA:   0:01:58"
     ]
    },
    {
     "name": "stdout",
     "output_type": "stream",
     "text": [
      "/map_to_tables_15.json.gz\n"
     ]
    },
    {
     "name": "stderr",
     "output_type": "stream",
     "text": [
      "\r",
      " 34% (123 of 359) |#######               | Elapsed Time: 0:00:57 ETA:   0:01:59"
     ]
    },
    {
     "name": "stdout",
     "output_type": "stream",
     "text": [
      "/map_to_tables_180.json.gz\n"
     ]
    },
    {
     "name": "stderr",
     "output_type": "stream",
     "text": [
      "\r",
      " 34% (124 of 359) |#######               | Elapsed Time: 0:00:58 ETA:   0:02:00"
     ]
    },
    {
     "name": "stdout",
     "output_type": "stream",
     "text": [
      "/map_to_tables_219.json.gz\n"
     ]
    },
    {
     "name": "stderr",
     "output_type": "stream",
     "text": [
      " 35% (126 of 359) |#######               | Elapsed Time: 0:00:59 ETA:   0:01:58"
     ]
    },
    {
     "name": "stdout",
     "output_type": "stream",
     "text": [
      "/map_to_tables_263.json.gz\n",
      "/map_to_tables_144.json.gz\n"
     ]
    },
    {
     "name": "stderr",
     "output_type": "stream",
     "text": [
      "\r",
      " 35% (127 of 359) |#######               | Elapsed Time: 0:00:59 ETA:   0:02:05"
     ]
    },
    {
     "name": "stdout",
     "output_type": "stream",
     "text": [
      "/map_to_tables_195.json.gz\n"
     ]
    },
    {
     "name": "stderr",
     "output_type": "stream",
     "text": [
      "\r",
      " 35% (128 of 359) |#######               | Elapsed Time: 0:01:00 ETA:   0:01:56"
     ]
    },
    {
     "name": "stdout",
     "output_type": "stream",
     "text": [
      "/map_to_tables_260.json.gz\n"
     ]
    },
    {
     "name": "stderr",
     "output_type": "stream",
     "text": [
      "\r",
      " 35% (129 of 359) |#######               | Elapsed Time: 0:01:00 ETA:   0:01:40"
     ]
    },
    {
     "name": "stdout",
     "output_type": "stream",
     "text": [
      "/map_to_tables_341.json.gz\n"
     ]
    },
    {
     "name": "stderr",
     "output_type": "stream",
     "text": [
      "\r",
      " 36% (130 of 359) |#######               | Elapsed Time: 0:01:01 ETA:   0:01:55"
     ]
    },
    {
     "name": "stdout",
     "output_type": "stream",
     "text": [
      "/map_to_tables_16.json.gz\n"
     ]
    },
    {
     "name": "stderr",
     "output_type": "stream",
     "text": [
      "\r",
      " 36% (131 of 359) |########              | Elapsed Time: 0:01:01 ETA:   0:01:47"
     ]
    },
    {
     "name": "stdout",
     "output_type": "stream",
     "text": [
      "/map_to_tables_13.json.gz\n"
     ]
    },
    {
     "name": "stderr",
     "output_type": "stream",
     "text": [
      "\r",
      " 36% (132 of 359) |########              | Elapsed Time: 0:01:02 ETA:   0:01:56"
     ]
    },
    {
     "name": "stdout",
     "output_type": "stream",
     "text": [
      "/map_to_tables_310.json.gz\n"
     ]
    },
    {
     "name": "stderr",
     "output_type": "stream",
     "text": [
      "\r",
      " 37% (133 of 359) |########              | Elapsed Time: 0:01:02 ETA:   0:01:56"
     ]
    },
    {
     "name": "stdout",
     "output_type": "stream",
     "text": [
      "/map_to_tables_127.json.gz\n"
     ]
    },
    {
     "name": "stderr",
     "output_type": "stream",
     "text": [
      "\r",
      " 37% (134 of 359) |########              | Elapsed Time: 0:01:03 ETA:   0:01:53"
     ]
    },
    {
     "name": "stdout",
     "output_type": "stream",
     "text": [
      "/map_to_tables_258.json.gz\n"
     ]
    },
    {
     "name": "stderr",
     "output_type": "stream",
     "text": [
      "\r",
      " 37% (135 of 359) |########              | Elapsed Time: 0:01:04 ETA:   0:02:09"
     ]
    },
    {
     "name": "stdout",
     "output_type": "stream",
     "text": [
      "/map_to_tables_44.json.gz\n"
     ]
    },
    {
     "name": "stderr",
     "output_type": "stream",
     "text": [
      "\r",
      " 37% (136 of 359) |########              | Elapsed Time: 0:01:04 ETA:   0:02:05"
     ]
    },
    {
     "name": "stdout",
     "output_type": "stream",
     "text": [
      "/map_to_tables_141.json.gz\n"
     ]
    },
    {
     "name": "stderr",
     "output_type": "stream",
     "text": [
      "\r",
      " 38% (137 of 359) |########              | Elapsed Time: 0:01:05 ETA:   0:02:39"
     ]
    },
    {
     "name": "stdout",
     "output_type": "stream",
     "text": [
      "/map_to_tables_58.json.gz\n"
     ]
    },
    {
     "name": "stderr",
     "output_type": "stream",
     "text": [
      "\r",
      " 38% (138 of 359) |########              | Elapsed Time: 0:01:06 ETA:   0:02:38"
     ]
    },
    {
     "name": "stdout",
     "output_type": "stream",
     "text": [
      "/map_to_tables_75.json.gz\n"
     ]
    },
    {
     "name": "stderr",
     "output_type": "stream",
     "text": [
      "\r",
      " 38% (139 of 359) |########              | Elapsed Time: 0:01:06 ETA:   0:02:41"
     ]
    },
    {
     "name": "stdout",
     "output_type": "stream",
     "text": [
      "/map_to_tables_107.json.gz\n"
     ]
    },
    {
     "name": "stderr",
     "output_type": "stream",
     "text": [
      "\r",
      " 38% (140 of 359) |########              | Elapsed Time: 0:01:07 ETA:   0:02:34"
     ]
    },
    {
     "name": "stdout",
     "output_type": "stream",
     "text": [
      "/map_to_tables_237.json.gz\n"
     ]
    },
    {
     "name": "stderr",
     "output_type": "stream",
     "text": [
      "\r",
      " 39% (141 of 359) |########              | Elapsed Time: 0:01:08 ETA:   0:02:33"
     ]
    },
    {
     "name": "stdout",
     "output_type": "stream",
     "text": [
      "/map_to_tables_229.json.gz\n"
     ]
    },
    {
     "name": "stderr",
     "output_type": "stream",
     "text": [
      "\r",
      " 39% (142 of 359) |########              | Elapsed Time: 0:01:08 ETA:   0:02:14"
     ]
    },
    {
     "name": "stdout",
     "output_type": "stream",
     "text": [
      "/map_to_tables_125.json.gz\n"
     ]
    },
    {
     "name": "stderr",
     "output_type": "stream",
     "text": [
      "\r",
      " 39% (143 of 359) |########              | Elapsed Time: 0:01:09 ETA:   0:01:57"
     ]
    },
    {
     "name": "stdout",
     "output_type": "stream",
     "text": [
      "/map_to_tables_26.json.gz\n"
     ]
    },
    {
     "name": "stderr",
     "output_type": "stream",
     "text": [
      "\r",
      " 40% (144 of 359) |########              | Elapsed Time: 0:01:09 ETA:   0:01:57"
     ]
    },
    {
     "name": "stdout",
     "output_type": "stream",
     "text": [
      "/map_to_tables_217.json.gz\n"
     ]
    },
    {
     "name": "stderr",
     "output_type": "stream",
     "text": [
      "\r",
      " 40% (145 of 359) |########              | Elapsed Time: 0:01:10 ETA:   0:01:47"
     ]
    },
    {
     "name": "stdout",
     "output_type": "stream",
     "text": [
      "/map_to_tables_56.json.gz\n"
     ]
    },
    {
     "name": "stderr",
     "output_type": "stream",
     "text": [
      "\r",
      " 40% (146 of 359) |########              | Elapsed Time: 0:01:10 ETA:   0:01:48"
     ]
    },
    {
     "name": "stdout",
     "output_type": "stream",
     "text": [
      "/map_to_tables_350.json.gz\n"
     ]
    },
    {
     "name": "stderr",
     "output_type": "stream",
     "text": [
      "\r",
      " 40% (147 of 359) |#########             | Elapsed Time: 0:01:11 ETA:   0:02:00"
     ]
    },
    {
     "name": "stdout",
     "output_type": "stream",
     "text": [
      "/map_to_tables_309.json.gz\n"
     ]
    },
    {
     "name": "stderr",
     "output_type": "stream",
     "text": [
      "\r",
      " 41% (148 of 359) |#########             | Elapsed Time: 0:01:11 ETA:   0:01:58"
     ]
    },
    {
     "name": "stdout",
     "output_type": "stream",
     "text": [
      "/map_to_tables_113.json.gz\n"
     ]
    },
    {
     "name": "stderr",
     "output_type": "stream",
     "text": [
      "\r",
      " 41% (149 of 359) |#########             | Elapsed Time: 0:01:12 ETA:   0:01:48"
     ]
    },
    {
     "name": "stdout",
     "output_type": "stream",
     "text": [
      "/map_to_tables_193.json.gz\n"
     ]
    },
    {
     "name": "stderr",
     "output_type": "stream",
     "text": [
      "\r",
      " 41% (150 of 359) |#########             | Elapsed Time: 0:01:12 ETA:   0:01:48"
     ]
    },
    {
     "name": "stdout",
     "output_type": "stream",
     "text": [
      "/map_to_tables_232.json.gz\n"
     ]
    },
    {
     "name": "stderr",
     "output_type": "stream",
     "text": [
      "\r",
      " 42% (151 of 359) |#########             | Elapsed Time: 0:01:13 ETA:   0:01:40"
     ]
    },
    {
     "name": "stdout",
     "output_type": "stream",
     "text": [
      "/map_to_tables_49.json.gz\n"
     ]
    },
    {
     "name": "stderr",
     "output_type": "stream",
     "text": [
      "\r",
      " 42% (152 of 359) |#########             | Elapsed Time: 0:01:13 ETA:   0:01:40"
     ]
    },
    {
     "name": "stdout",
     "output_type": "stream",
     "text": [
      "/map_to_tables_109.json.gz\n"
     ]
    },
    {
     "name": "stderr",
     "output_type": "stream",
     "text": [
      "\r",
      " 42% (153 of 359) |#########             | Elapsed Time: 0:01:14 ETA:   0:01:47"
     ]
    },
    {
     "name": "stdout",
     "output_type": "stream",
     "text": [
      "/map_to_tables_94.json.gz\n"
     ]
    },
    {
     "name": "stderr",
     "output_type": "stream",
     "text": [
      "\r",
      " 42% (154 of 359) |#########             | Elapsed Time: 0:01:14 ETA:   0:01:53"
     ]
    },
    {
     "name": "stdout",
     "output_type": "stream",
     "text": [
      "/map_to_tables_60.json.gz\n"
     ]
    },
    {
     "name": "stderr",
     "output_type": "stream",
     "text": [
      "\r",
      " 43% (155 of 359) |#########             | Elapsed Time: 0:01:15 ETA:   0:02:07"
     ]
    },
    {
     "name": "stdout",
     "output_type": "stream",
     "text": [
      "/map_to_tables_163.json.gz\n"
     ]
    },
    {
     "name": "stderr",
     "output_type": "stream",
     "text": [
      "\r",
      " 43% (156 of 359) |#########             | Elapsed Time: 0:01:16 ETA:   0:02:08"
     ]
    },
    {
     "name": "stdout",
     "output_type": "stream",
     "text": [
      "/map_to_tables_67.json.gz\n"
     ]
    },
    {
     "name": "stderr",
     "output_type": "stream",
     "text": [
      "\r",
      " 43% (157 of 359) |#########             | Elapsed Time: 0:01:16 ETA:   0:02:08"
     ]
    },
    {
     "name": "stdout",
     "output_type": "stream",
     "text": [
      "/map_to_tables_117.json.gz\n"
     ]
    },
    {
     "name": "stderr",
     "output_type": "stream",
     "text": [
      "\r",
      " 44% (158 of 359) |#########             | Elapsed Time: 0:01:17 ETA:   0:02:08"
     ]
    },
    {
     "name": "stdout",
     "output_type": "stream",
     "text": [
      "/map_to_tables_28.json.gz\n"
     ]
    },
    {
     "name": "stderr",
     "output_type": "stream",
     "text": [
      "\r",
      " 44% (159 of 359) |#########             | Elapsed Time: 0:01:18 ETA:   0:02:07"
     ]
    },
    {
     "name": "stdout",
     "output_type": "stream",
     "text": [
      "/map_to_tables_244.json.gz\n"
     ]
    },
    {
     "name": "stderr",
     "output_type": "stream",
     "text": [
      "\r",
      " 44% (160 of 359) |#########             | Elapsed Time: 0:01:18 ETA:   0:02:05"
     ]
    },
    {
     "name": "stdout",
     "output_type": "stream",
     "text": [
      "/map_to_tables_123.json.gz\n"
     ]
    },
    {
     "name": "stderr",
     "output_type": "stream",
     "text": [
      "\r",
      " 44% (161 of 359) |#########             | Elapsed Time: 0:01:19 ETA:   0:02:06"
     ]
    },
    {
     "name": "stdout",
     "output_type": "stream",
     "text": [
      "/map_to_tables_14.json.gz\n"
     ]
    },
    {
     "name": "stderr",
     "output_type": "stream",
     "text": [
      "\r",
      " 45% (162 of 359) |#########             | Elapsed Time: 0:01:19 ETA:   0:01:50"
     ]
    },
    {
     "name": "stdout",
     "output_type": "stream",
     "text": [
      "/map_to_tables_159.json.gz\n"
     ]
    },
    {
     "name": "stderr",
     "output_type": "stream",
     "text": [
      "\r",
      " 45% (163 of 359) |#########             | Elapsed Time: 0:01:20 ETA:   0:01:51"
     ]
    },
    {
     "name": "stdout",
     "output_type": "stream",
     "text": [
      "/map_to_tables_330.json.gz\n"
     ]
    },
    {
     "name": "stderr",
     "output_type": "stream",
     "text": [
      "\r",
      " 45% (164 of 359) |##########            | Elapsed Time: 0:01:20 ETA:   0:01:37"
     ]
    },
    {
     "name": "stdout",
     "output_type": "stream",
     "text": [
      "/map_to_tables_178.json.gz\n"
     ]
    },
    {
     "name": "stderr",
     "output_type": "stream",
     "text": [
      "\r",
      " 45% (165 of 359) |##########            | Elapsed Time: 0:01:21 ETA:   0:01:31"
     ]
    },
    {
     "name": "stdout",
     "output_type": "stream",
     "text": [
      "/map_to_tables_298.json.gz\n"
     ]
    },
    {
     "name": "stderr",
     "output_type": "stream",
     "text": [
      "\r",
      " 46% (166 of 359) |##########            | Elapsed Time: 0:01:21 ETA:   0:01:39"
     ]
    },
    {
     "name": "stdout",
     "output_type": "stream",
     "text": [
      "/map_to_tables_271.json.gz\n"
     ]
    },
    {
     "name": "stderr",
     "output_type": "stream",
     "text": [
      "\r",
      " 46% (167 of 359) |##########            | Elapsed Time: 0:01:22 ETA:   0:01:38"
     ]
    },
    {
     "name": "stdout",
     "output_type": "stream",
     "text": [
      "/map_to_tables_259.json.gz\n"
     ]
    },
    {
     "name": "stderr",
     "output_type": "stream",
     "text": [
      "\r",
      " 46% (168 of 359) |##########            | Elapsed Time: 0:01:23 ETA:   0:01:51"
     ]
    },
    {
     "name": "stdout",
     "output_type": "stream",
     "text": [
      "/map_to_tables_134.json.gz\n"
     ]
    },
    {
     "name": "stderr",
     "output_type": "stream",
     "text": [
      "\r",
      " 47% (169 of 359) |##########            | Elapsed Time: 0:01:23 ETA:   0:01:52"
     ]
    },
    {
     "name": "stdout",
     "output_type": "stream",
     "text": [
      "/map_to_tables_248.json.gz\n"
     ]
    },
    {
     "name": "stderr",
     "output_type": "stream",
     "text": [
      "\r",
      " 47% (170 of 359) |##########            | Elapsed Time: 0:01:24 ETA:   0:01:49"
     ]
    },
    {
     "name": "stdout",
     "output_type": "stream",
     "text": [
      "/map_to_tables_340.json.gz\n"
     ]
    },
    {
     "name": "stderr",
     "output_type": "stream",
     "text": [
      "\r",
      " 47% (171 of 359) |##########            | Elapsed Time: 0:01:24 ETA:   0:01:36"
     ]
    },
    {
     "name": "stdout",
     "output_type": "stream",
     "text": [
      "/map_to_tables_319.json.gz\n"
     ]
    },
    {
     "name": "stderr",
     "output_type": "stream",
     "text": [
      "\r",
      " 47% (172 of 359) |##########            | Elapsed Time: 0:01:24 ETA:   0:01:29"
     ]
    },
    {
     "name": "stdout",
     "output_type": "stream",
     "text": [
      "/map_to_tables_238.json.gz\n"
     ]
    },
    {
     "name": "stderr",
     "output_type": "stream",
     "text": [
      "\r",
      " 48% (173 of 359) |##########            | Elapsed Time: 0:01:25 ETA:   0:01:19"
     ]
    },
    {
     "name": "stdout",
     "output_type": "stream",
     "text": [
      "/map_to_tables_245.json.gz\n"
     ]
    },
    {
     "name": "stderr",
     "output_type": "stream",
     "text": [
      "\r",
      " 48% (174 of 359) |##########            | Elapsed Time: 0:01:25 ETA:   0:01:18"
     ]
    },
    {
     "name": "stdout",
     "output_type": "stream",
     "text": [
      "/map_to_tables_314.json.gz\n"
     ]
    },
    {
     "name": "stderr",
     "output_type": "stream",
     "text": [
      "\r",
      " 48% (175 of 359) |##########            | Elapsed Time: 0:01:26 ETA:   0:01:17"
     ]
    },
    {
     "name": "stdout",
     "output_type": "stream",
     "text": [
      "/map_to_tables_122.json.gz\n"
     ]
    },
    {
     "name": "stderr",
     "output_type": "stream",
     "text": [
      "\r",
      " 49% (176 of 359) |##########            | Elapsed Time: 0:01:26 ETA:   0:01:35"
     ]
    },
    {
     "name": "stdout",
     "output_type": "stream",
     "text": [
      "/map_to_tables_301.json.gz\n"
     ]
    },
    {
     "name": "stderr",
     "output_type": "stream",
     "text": [
      "\r",
      " 49% (177 of 359) |##########            | Elapsed Time: 0:01:27 ETA:   0:01:35"
     ]
    },
    {
     "name": "stdout",
     "output_type": "stream",
     "text": [
      "/map_to_tables_71.json.gz\n"
     ]
    },
    {
     "name": "stderr",
     "output_type": "stream",
     "text": [
      "\r",
      " 49% (178 of 359) |##########            | Elapsed Time: 0:01:27 ETA:   0:01:48"
     ]
    },
    {
     "name": "stdout",
     "output_type": "stream",
     "text": [
      "/map_to_tables_275.json.gz\n"
     ]
    },
    {
     "name": "stderr",
     "output_type": "stream",
     "text": [
      "\r",
      " 49% (179 of 359) |##########            | Elapsed Time: 0:01:28 ETA:   0:01:48"
     ]
    },
    {
     "name": "stdout",
     "output_type": "stream",
     "text": [
      "/map_to_tables_203.json.gz\n"
     ]
    },
    {
     "name": "stderr",
     "output_type": "stream",
     "text": [
      "\r",
      " 50% (180 of 359) |###########           | Elapsed Time: 0:01:29 ETA:   0:01:31"
     ]
    },
    {
     "name": "stdout",
     "output_type": "stream",
     "text": [
      "/map_to_tables_114.json.gz\n"
     ]
    },
    {
     "name": "stderr",
     "output_type": "stream",
     "text": [
      "\r",
      " 50% (181 of 359) |###########           | Elapsed Time: 0:01:29 ETA:   0:01:31"
     ]
    },
    {
     "name": "stdout",
     "output_type": "stream",
     "text": [
      "/map_to_tables_284.json.gz\n"
     ]
    },
    {
     "name": "stderr",
     "output_type": "stream",
     "text": [
      "\r",
      " 50% (182 of 359) |###########           | Elapsed Time: 0:01:30 ETA:   0:01:30"
     ]
    },
    {
     "name": "stdout",
     "output_type": "stream",
     "text": [
      "/map_to_tables_347.json.gz\n"
     ]
    },
    {
     "name": "stderr",
     "output_type": "stream",
     "text": [
      "\r",
      " 50% (183 of 359) |###########           | Elapsed Time: 0:01:30 ETA:   0:01:30"
     ]
    },
    {
     "name": "stdout",
     "output_type": "stream",
     "text": [
      "/map_to_tables_154.json.gz\n"
     ]
    },
    {
     "name": "stderr",
     "output_type": "stream",
     "text": [
      "\r",
      " 51% (184 of 359) |###########           | Elapsed Time: 0:01:31 ETA:   0:01:41"
     ]
    },
    {
     "name": "stdout",
     "output_type": "stream",
     "text": [
      "/map_to_tables_324.json.gz\n"
     ]
    },
    {
     "name": "stderr",
     "output_type": "stream",
     "text": [
      "\r",
      " 51% (185 of 359) |###########           | Elapsed Time: 0:01:32 ETA:   0:01:53"
     ]
    },
    {
     "name": "stdout",
     "output_type": "stream",
     "text": [
      "/map_to_tables_210.json.gz\n"
     ]
    },
    {
     "name": "stderr",
     "output_type": "stream",
     "text": [
      "\r",
      " 51% (186 of 359) |###########           | Elapsed Time: 0:01:32 ETA:   0:01:53"
     ]
    },
    {
     "name": "stdout",
     "output_type": "stream",
     "text": [
      "/map_to_tables_65.json.gz\n"
     ]
    },
    {
     "name": "stderr",
     "output_type": "stream",
     "text": [
      "\r",
      " 52% (187 of 359) |###########           | Elapsed Time: 0:01:33 ETA:   0:01:51"
     ]
    },
    {
     "name": "stdout",
     "output_type": "stream",
     "text": [
      "/map_to_tables_17.json.gz\n"
     ]
    },
    {
     "name": "stderr",
     "output_type": "stream",
     "text": [
      "\r",
      " 52% (188 of 359) |###########           | Elapsed Time: 0:01:33 ETA:   0:01:39"
     ]
    },
    {
     "name": "stdout",
     "output_type": "stream",
     "text": [
      "/map_to_tables_220.json.gz\n"
     ]
    },
    {
     "name": "stderr",
     "output_type": "stream",
     "text": [
      "\r",
      " 52% (189 of 359) |###########           | Elapsed Time: 0:01:34 ETA:   0:01:37"
     ]
    },
    {
     "name": "stdout",
     "output_type": "stream",
     "text": [
      "/map_to_tables_119.json.gz\n"
     ]
    },
    {
     "name": "stderr",
     "output_type": "stream",
     "text": [
      "\r",
      " 52% (190 of 359) |###########           | Elapsed Time: 0:01:35 ETA:   0:01:41"
     ]
    },
    {
     "name": "stdout",
     "output_type": "stream",
     "text": [
      "/map_to_tables_164.json.gz\n"
     ]
    },
    {
     "name": "stderr",
     "output_type": "stream",
     "text": [
      "\r",
      " 53% (191 of 359) |###########           | Elapsed Time: 0:01:35 ETA:   0:01:28"
     ]
    },
    {
     "name": "stdout",
     "output_type": "stream",
     "text": [
      "/map_to_tables_48.json.gz\n"
     ]
    },
    {
     "name": "stderr",
     "output_type": "stream",
     "text": [
      "\r",
      " 53% (192 of 359) |###########           | Elapsed Time: 0:01:35 ETA:   0:01:28"
     ]
    },
    {
     "name": "stdout",
     "output_type": "stream",
     "text": [
      "/map_to_tables_112.json.gz\n"
     ]
    },
    {
     "name": "stderr",
     "output_type": "stream",
     "text": [
      "\r",
      " 53% (193 of 359) |###########           | Elapsed Time: 0:01:36 ETA:   0:01:26"
     ]
    },
    {
     "name": "stdout",
     "output_type": "stream",
     "text": [
      "/map_to_tables_339.json.gz\n"
     ]
    },
    {
     "name": "stderr",
     "output_type": "stream",
     "text": [
      "\r",
      " 54% (194 of 359) |###########           | Elapsed Time: 0:01:36 ETA:   0:01:20"
     ]
    },
    {
     "name": "stdout",
     "output_type": "stream",
     "text": [
      "/map_to_tables_327.json.gz\n"
     ]
    },
    {
     "name": "stderr",
     "output_type": "stream",
     "text": [
      "\r",
      " 54% (195 of 359) |###########           | Elapsed Time: 0:01:37 ETA:   0:01:16"
     ]
    },
    {
     "name": "stdout",
     "output_type": "stream",
     "text": [
      "/map_to_tables_322.json.gz\n"
     ]
    },
    {
     "name": "stderr",
     "output_type": "stream",
     "text": [
      "\r",
      " 54% (196 of 359) |############          | Elapsed Time: 0:01:38 ETA:   0:01:31"
     ]
    },
    {
     "name": "stdout",
     "output_type": "stream",
     "text": [
      "/map_to_tables_353.json.gz\n"
     ]
    },
    {
     "name": "stderr",
     "output_type": "stream",
     "text": [
      "\r",
      " 54% (197 of 359) |############          | Elapsed Time: 0:01:38 ETA:   0:01:24"
     ]
    },
    {
     "name": "stdout",
     "output_type": "stream",
     "text": [
      "/map_to_tables_86.json.gz\n"
     ]
    },
    {
     "name": "stderr",
     "output_type": "stream",
     "text": [
      "\r",
      " 55% (198 of 359) |############          | Elapsed Time: 0:01:39 ETA:   0:01:31"
     ]
    },
    {
     "name": "stdout",
     "output_type": "stream",
     "text": [
      "/map_to_tables_311.json.gz\n"
     ]
    },
    {
     "name": "stderr",
     "output_type": "stream",
     "text": [
      "\r",
      " 55% (199 of 359) |############          | Elapsed Time: 0:01:39 ETA:   0:01:31"
     ]
    },
    {
     "name": "stdout",
     "output_type": "stream",
     "text": [
      "/map_to_tables_304.json.gz\n"
     ]
    },
    {
     "name": "stderr",
     "output_type": "stream",
     "text": [
      "\r",
      " 55% (200 of 359) |############          | Elapsed Time: 0:01:40 ETA:   0:01:28"
     ]
    },
    {
     "name": "stdout",
     "output_type": "stream",
     "text": [
      "/map_to_tables_19.json.gz\n"
     ]
    },
    {
     "name": "stderr",
     "output_type": "stream",
     "text": [
      "\r",
      " 55% (201 of 359) |############          | Elapsed Time: 0:01:40 ETA:   0:01:43"
     ]
    },
    {
     "name": "stdout",
     "output_type": "stream",
     "text": [
      "/map_to_tables_167.json.gz\n"
     ]
    },
    {
     "name": "stderr",
     "output_type": "stream",
     "text": [
      "\r",
      " 56% (202 of 359) |############          | Elapsed Time: 0:01:41 ETA:   0:01:32"
     ]
    },
    {
     "name": "stdout",
     "output_type": "stream",
     "text": [
      "/map_to_tables_66.json.gz\n"
     ]
    },
    {
     "name": "stderr",
     "output_type": "stream",
     "text": [
      "\r",
      " 56% (203 of 359) |############          | Elapsed Time: 0:01:41 ETA:   0:01:20"
     ]
    },
    {
     "name": "stdout",
     "output_type": "stream",
     "text": [
      "/map_to_tables_36.json.gz\n"
     ]
    },
    {
     "name": "stderr",
     "output_type": "stream",
     "text": [
      "\r",
      " 56% (204 of 359) |############          | Elapsed Time: 0:01:42 ETA:   0:01:20"
     ]
    },
    {
     "name": "stdout",
     "output_type": "stream",
     "text": [
      "/map_to_tables_206.json.gz\n"
     ]
    },
    {
     "name": "stderr",
     "output_type": "stream",
     "text": [
      "\r",
      " 57% (205 of 359) |############          | Elapsed Time: 0:01:42 ETA:   0:01:16"
     ]
    },
    {
     "name": "stdout",
     "output_type": "stream",
     "text": [
      "/map_to_tables_346.json.gz\n"
     ]
    },
    {
     "name": "stderr",
     "output_type": "stream",
     "text": [
      "\r",
      " 57% (206 of 359) |############          | Elapsed Time: 0:01:43 ETA:   0:01:05"
     ]
    },
    {
     "name": "stdout",
     "output_type": "stream",
     "text": [
      "/map_to_tables_91.json.gz\n"
     ]
    },
    {
     "name": "stderr",
     "output_type": "stream",
     "text": [
      "\r",
      " 57% (207 of 359) |############          | Elapsed Time: 0:01:43 ETA:   0:01:04"
     ]
    },
    {
     "name": "stdout",
     "output_type": "stream",
     "text": [
      "/map_to_tables_20.json.gz\n"
     ]
    },
    {
     "name": "stderr",
     "output_type": "stream",
     "text": [
      "\r",
      " 57% (208 of 359) |############          | Elapsed Time: 0:01:44 ETA:   0:01:13"
     ]
    },
    {
     "name": "stdout",
     "output_type": "stream",
     "text": [
      "/map_to_tables_222.json.gz\n"
     ]
    },
    {
     "name": "stderr",
     "output_type": "stream",
     "text": [
      "\r",
      " 58% (209 of 359) |############          | Elapsed Time: 0:01:44 ETA:   0:01:07"
     ]
    },
    {
     "name": "stdout",
     "output_type": "stream",
     "text": [
      "/map_to_tables_12.json.gz\n"
     ]
    },
    {
     "name": "stderr",
     "output_type": "stream",
     "text": [
      "\r",
      " 58% (210 of 359) |############          | Elapsed Time: 0:01:45 ETA:   0:01:18"
     ]
    },
    {
     "name": "stdout",
     "output_type": "stream",
     "text": [
      "/map_to_tables_189.json.gz\n"
     ]
    },
    {
     "name": "stderr",
     "output_type": "stream",
     "text": [
      "\r",
      " 58% (211 of 359) |############          | Elapsed Time: 0:01:45 ETA:   0:01:29"
     ]
    },
    {
     "name": "stdout",
     "output_type": "stream",
     "text": [
      "/map_to_tables_315.json.gz\n"
     ]
    },
    {
     "name": "stderr",
     "output_type": "stream",
     "text": [
      "\r",
      " 59% (212 of 359) |############          | Elapsed Time: 0:01:46 ETA:   0:01:27"
     ]
    },
    {
     "name": "stdout",
     "output_type": "stream",
     "text": [
      "/map_to_tables_31.json.gz\n"
     ]
    },
    {
     "name": "stderr",
     "output_type": "stream",
     "text": [
      "\r",
      " 59% (213 of 359) |#############         | Elapsed Time: 0:01:46 ETA:   0:01:24"
     ]
    },
    {
     "name": "stdout",
     "output_type": "stream",
     "text": [
      "/map_to_tables_204.json.gz\n"
     ]
    },
    {
     "name": "stderr",
     "output_type": "stream",
     "text": [
      "\r",
      " 59% (214 of 359) |#############         | Elapsed Time: 0:01:47 ETA:   0:01:13"
     ]
    },
    {
     "name": "stdout",
     "output_type": "stream",
     "text": [
      "/map_to_tables_302.json.gz\n"
     ]
    },
    {
     "name": "stderr",
     "output_type": "stream",
     "text": [
      "\r",
      " 59% (215 of 359) |#############         | Elapsed Time: 0:01:47 ETA:   0:01:08"
     ]
    },
    {
     "name": "stdout",
     "output_type": "stream",
     "text": [
      "/map_to_tables_3.json.gz\n"
     ]
    },
    {
     "name": "stderr",
     "output_type": "stream",
     "text": [
      "\r",
      " 60% (216 of 359) |#############         | Elapsed Time: 0:01:48 ETA:   0:01:06"
     ]
    },
    {
     "name": "stdout",
     "output_type": "stream",
     "text": [
      "/map_to_tables_243.json.gz\n"
     ]
    },
    {
     "name": "stderr",
     "output_type": "stream",
     "text": [
      "\r",
      " 60% (217 of 359) |#############         | Elapsed Time: 0:01:48 ETA:   0:00:58"
     ]
    },
    {
     "name": "stdout",
     "output_type": "stream",
     "text": [
      "/map_to_tables_358.json.gz\n"
     ]
    },
    {
     "name": "stderr",
     "output_type": "stream",
     "text": [
      "\r",
      " 60% (218 of 359) |#############         | Elapsed Time: 0:01:49 ETA:   0:01:05"
     ]
    },
    {
     "name": "stdout",
     "output_type": "stream",
     "text": [
      "/map_to_tables_281.json.gz\n"
     ]
    },
    {
     "name": "stderr",
     "output_type": "stream",
     "text": [
      "\r",
      " 61% (219 of 359) |#############         | Elapsed Time: 0:01:49 ETA:   0:01:05"
     ]
    },
    {
     "name": "stdout",
     "output_type": "stream",
     "text": [
      "/map_to_tables_22.json.gz\n"
     ]
    },
    {
     "name": "stderr",
     "output_type": "stream",
     "text": [
      "\r",
      " 61% (220 of 359) |#############         | Elapsed Time: 0:01:50 ETA:   0:01:12"
     ]
    },
    {
     "name": "stdout",
     "output_type": "stream",
     "text": [
      "/map_to_tables_228.json.gz\n"
     ]
    },
    {
     "name": "stderr",
     "output_type": "stream",
     "text": [
      "\r",
      " 61% (221 of 359) |#############         | Elapsed Time: 0:01:50 ETA:   0:01:21"
     ]
    },
    {
     "name": "stdout",
     "output_type": "stream",
     "text": [
      "/map_to_tables_111.json.gz\n"
     ]
    },
    {
     "name": "stderr",
     "output_type": "stream",
     "text": [
      "\r",
      " 61% (222 of 359) |#############         | Elapsed Time: 0:01:51 ETA:   0:01:12"
     ]
    },
    {
     "name": "stdout",
     "output_type": "stream",
     "text": [
      "/map_to_tables_57.json.gz\n"
     ]
    },
    {
     "name": "stderr",
     "output_type": "stream",
     "text": [
      "\r",
      " 62% (223 of 359) |#############         | Elapsed Time: 0:01:51 ETA:   0:01:11"
     ]
    },
    {
     "name": "stdout",
     "output_type": "stream",
     "text": [
      "/map_to_tables_84.json.gz\n"
     ]
    },
    {
     "name": "stderr",
     "output_type": "stream",
     "text": [
      "\r",
      " 62% (224 of 359) |#############         | Elapsed Time: 0:01:52 ETA:   0:01:06"
     ]
    },
    {
     "name": "stdout",
     "output_type": "stream",
     "text": [
      "/map_to_tables_50.json.gz\n"
     ]
    },
    {
     "name": "stderr",
     "output_type": "stream",
     "text": [
      "\r",
      " 62% (225 of 359) |#############         | Elapsed Time: 0:01:52 ETA:   0:00:59"
     ]
    },
    {
     "name": "stdout",
     "output_type": "stream",
     "text": [
      "/map_to_tables_338.json.gz\n"
     ]
    },
    {
     "name": "stderr",
     "output_type": "stream",
     "text": [
      "\r",
      " 62% (226 of 359) |#############         | Elapsed Time: 0:01:53 ETA:   0:00:59"
     ]
    },
    {
     "name": "stdout",
     "output_type": "stream",
     "text": [
      "/map_to_tables_266.json.gz\n"
     ]
    },
    {
     "name": "stderr",
     "output_type": "stream",
     "text": [
      "\r",
      " 63% (227 of 359) |#############         | Elapsed Time: 0:01:53 ETA:   0:00:59"
     ]
    },
    {
     "name": "stdout",
     "output_type": "stream",
     "text": [
      "/map_to_tables_205.json.gz\n"
     ]
    },
    {
     "name": "stderr",
     "output_type": "stream",
     "text": [
      "\r",
      " 63% (228 of 359) |#############         | Elapsed Time: 0:01:54 ETA:   0:01:10"
     ]
    },
    {
     "name": "stdout",
     "output_type": "stream",
     "text": [
      "/map_to_tables_90.json.gz\n"
     ]
    },
    {
     "name": "stderr",
     "output_type": "stream",
     "text": [
      "\r",
      " 63% (229 of 359) |##############        | Elapsed Time: 0:01:54 ETA:   0:01:17"
     ]
    },
    {
     "name": "stdout",
     "output_type": "stream",
     "text": [
      "/map_to_tables_10.json.gz\n"
     ]
    },
    {
     "name": "stderr",
     "output_type": "stream",
     "text": [
      "\r",
      " 64% (230 of 359) |##############        | Elapsed Time: 0:01:55 ETA:   0:01:10"
     ]
    },
    {
     "name": "stdout",
     "output_type": "stream",
     "text": [
      "/map_to_tables_23.json.gz\n"
     ]
    },
    {
     "name": "stderr",
     "output_type": "stream",
     "text": [
      "\r",
      " 64% (231 of 359) |##############        | Elapsed Time: 0:01:55 ETA:   0:01:11"
     ]
    },
    {
     "name": "stdout",
     "output_type": "stream",
     "text": [
      "/map_to_tables_39.json.gz\n"
     ]
    },
    {
     "name": "stderr",
     "output_type": "stream",
     "text": [
      "\r",
      " 64% (232 of 359) |##############        | Elapsed Time: 0:01:56 ETA:   0:01:11"
     ]
    },
    {
     "name": "stdout",
     "output_type": "stream",
     "text": [
      "/map_to_tables_234.json.gz\n"
     ]
    },
    {
     "name": "stderr",
     "output_type": "stream",
     "text": [
      "\r",
      " 64% (233 of 359) |##############        | Elapsed Time: 0:01:57 ETA:   0:01:11"
     ]
    },
    {
     "name": "stdout",
     "output_type": "stream",
     "text": [
      "/map_to_tables_169.json.gz\n"
     ]
    },
    {
     "name": "stderr",
     "output_type": "stream",
     "text": [
      "\r",
      " 65% (234 of 359) |##############        | Elapsed Time: 0:01:57 ETA:   0:01:11"
     ]
    },
    {
     "name": "stdout",
     "output_type": "stream",
     "text": [
      "/map_to_tables_292.json.gz\n"
     ]
    },
    {
     "name": "stderr",
     "output_type": "stream",
     "text": [
      "\r",
      " 65% (235 of 359) |##############        | Elapsed Time: 0:01:58 ETA:   0:01:10"
     ]
    },
    {
     "name": "stdout",
     "output_type": "stream",
     "text": [
      "/map_to_tables_170.json.gz\n"
     ]
    },
    {
     "name": "stderr",
     "output_type": "stream",
     "text": [
      "\r",
      " 65% (236 of 359) |##############        | Elapsed Time: 0:01:58 ETA:   0:01:01"
     ]
    },
    {
     "name": "stdout",
     "output_type": "stream",
     "text": [
      "/map_to_tables_267.json.gz\n"
     ]
    },
    {
     "name": "stderr",
     "output_type": "stream",
     "text": [
      "\r",
      " 66% (237 of 359) |##############        | Elapsed Time: 0:01:58 ETA:   0:00:57"
     ]
    },
    {
     "name": "stdout",
     "output_type": "stream",
     "text": [
      "/map_to_tables_208.json.gz\n"
     ]
    },
    {
     "name": "stderr",
     "output_type": "stream",
     "text": [
      "\r",
      " 66% (238 of 359) |##############        | Elapsed Time: 0:01:59 ETA:   0:00:57"
     ]
    },
    {
     "name": "stdout",
     "output_type": "stream",
     "text": [
      "/map_to_tables_190.json.gz\n"
     ]
    },
    {
     "name": "stderr",
     "output_type": "stream",
     "text": [
      "\r",
      " 66% (239 of 359) |##############        | Elapsed Time: 0:01:59 ETA:   0:00:56"
     ]
    },
    {
     "name": "stdout",
     "output_type": "stream",
     "text": [
      "/map_to_tables_106.json.gz\n"
     ]
    },
    {
     "name": "stderr",
     "output_type": "stream",
     "text": [
      "\r",
      " 66% (240 of 359) |##############        | Elapsed Time: 0:02:00 ETA:   0:00:50"
     ]
    },
    {
     "name": "stdout",
     "output_type": "stream",
     "text": [
      "/map_to_tables_272.json.gz\n"
     ]
    },
    {
     "name": "stderr",
     "output_type": "stream",
     "text": [
      "\r",
      " 67% (241 of 359) |##############        | Elapsed Time: 0:02:00 ETA:   0:00:50"
     ]
    },
    {
     "name": "stdout",
     "output_type": "stream",
     "text": [
      "/map_to_tables_85.json.gz\n"
     ]
    },
    {
     "name": "stderr",
     "output_type": "stream",
     "text": [
      "\r",
      " 67% (242 of 359) |##############        | Elapsed Time: 0:02:00 ETA:   0:00:49"
     ]
    },
    {
     "name": "stdout",
     "output_type": "stream",
     "text": [
      "/map_to_tables_87.json.gz\n"
     ]
    },
    {
     "name": "stderr",
     "output_type": "stream",
     "text": [
      "\r",
      " 67% (243 of 359) |##############        | Elapsed Time: 0:02:01 ETA:   0:00:47"
     ]
    },
    {
     "name": "stdout",
     "output_type": "stream",
     "text": [
      "/map_to_tables_256.json.gz\n"
     ]
    },
    {
     "name": "stderr",
     "output_type": "stream",
     "text": [
      "\r",
      " 67% (244 of 359) |##############        | Elapsed Time: 0:02:01 ETA:   0:00:42"
     ]
    },
    {
     "name": "stdout",
     "output_type": "stream",
     "text": [
      "/map_to_tables_59.json.gz\n"
     ]
    },
    {
     "name": "stderr",
     "output_type": "stream",
     "text": [
      "\r",
      " 68% (245 of 359) |###############       | Elapsed Time: 0:02:02 ETA:   0:00:51"
     ]
    },
    {
     "name": "stdout",
     "output_type": "stream",
     "text": [
      "/map_to_tables_152.json.gz\n"
     ]
    },
    {
     "name": "stderr",
     "output_type": "stream",
     "text": [
      "\r",
      " 68% (246 of 359) |###############       | Elapsed Time: 0:02:03 ETA:   0:01:00"
     ]
    },
    {
     "name": "stdout",
     "output_type": "stream",
     "text": [
      "/map_to_tables_82.json.gz\n"
     ]
    },
    {
     "name": "stderr",
     "output_type": "stream",
     "text": [
      "\r",
      " 68% (247 of 359) |###############       | Elapsed Time: 0:02:03 ETA:   0:00:59"
     ]
    },
    {
     "name": "stdout",
     "output_type": "stream",
     "text": [
      "/map_to_tables_95.json.gz\n"
     ]
    },
    {
     "name": "stderr",
     "output_type": "stream",
     "text": [
      "\r",
      " 69% (248 of 359) |###############       | Elapsed Time: 0:02:03 ETA:   0:00:59"
     ]
    },
    {
     "name": "stdout",
     "output_type": "stream",
     "text": [
      "/map_to_tables_216.json.gz\n"
     ]
    },
    {
     "name": "stderr",
     "output_type": "stream",
     "text": [
      "\r",
      " 69% (249 of 359) |###############       | Elapsed Time: 0:02:04 ETA:   0:01:00"
     ]
    },
    {
     "name": "stdout",
     "output_type": "stream",
     "text": [
      "/map_to_tables_25.json.gz\n"
     ]
    },
    {
     "name": "stderr",
     "output_type": "stream",
     "text": [
      "\r",
      " 69% (250 of 359) |###############       | Elapsed Time: 0:02:04 ETA:   0:00:51"
     ]
    },
    {
     "name": "stdout",
     "output_type": "stream",
     "text": [
      "/map_to_tables_9.json.gz\n"
     ]
    },
    {
     "name": "stderr",
     "output_type": "stream",
     "text": [
      "\r",
      " 69% (251 of 359) |###############       | Elapsed Time: 0:02:05 ETA:   0:00:50"
     ]
    },
    {
     "name": "stdout",
     "output_type": "stream",
     "text": [
      "/map_to_tables_175.json.gz\n"
     ]
    },
    {
     "name": "stderr",
     "output_type": "stream",
     "text": [
      "\r",
      " 70% (252 of 359) |###############       | Elapsed Time: 0:02:06 ETA:   0:01:00"
     ]
    },
    {
     "name": "stdout",
     "output_type": "stream",
     "text": [
      "/map_to_tables_72.json.gz\n"
     ]
    },
    {
     "name": "stderr",
     "output_type": "stream",
     "text": [
      "\r",
      " 70% (253 of 359) |###############       | Elapsed Time: 0:02:06 ETA:   0:00:53"
     ]
    },
    {
     "name": "stdout",
     "output_type": "stream",
     "text": [
      "/map_to_tables_63.json.gz\n"
     ]
    },
    {
     "name": "stderr",
     "output_type": "stream",
     "text": [
      "\r",
      " 70% (254 of 359) |###############       | Elapsed Time: 0:02:06 ETA:   0:00:49"
     ]
    },
    {
     "name": "stdout",
     "output_type": "stream",
     "text": [
      "/map_to_tables_274.json.gz\n"
     ]
    },
    {
     "name": "stderr",
     "output_type": "stream",
     "text": [
      "\r",
      " 71% (255 of 359) |###############       | Elapsed Time: 0:02:07 ETA:   0:00:49"
     ]
    },
    {
     "name": "stdout",
     "output_type": "stream",
     "text": [
      "/map_to_tables_97.json.gz\n"
     ]
    },
    {
     "name": "stderr",
     "output_type": "stream",
     "text": [
      "\r",
      " 71% (256 of 359) |###############       | Elapsed Time: 0:02:07 ETA:   0:00:49"
     ]
    },
    {
     "name": "stdout",
     "output_type": "stream",
     "text": [
      "/map_to_tables_7.json.gz\n"
     ]
    },
    {
     "name": "stderr",
     "output_type": "stream",
     "text": [
      "\r",
      " 71% (257 of 359) |###############       | Elapsed Time: 0:02:08 ETA:   0:00:42"
     ]
    },
    {
     "name": "stdout",
     "output_type": "stream",
     "text": [
      "/map_to_tables_140.json.gz\n"
     ]
    },
    {
     "name": "stderr",
     "output_type": "stream",
     "text": [
      "\r",
      " 71% (258 of 359) |###############       | Elapsed Time: 0:02:08 ETA:   0:00:42"
     ]
    },
    {
     "name": "stdout",
     "output_type": "stream",
     "text": [
      "/map_to_tables_146.json.gz\n"
     ]
    },
    {
     "name": "stderr",
     "output_type": "stream",
     "text": [
      "\r",
      " 72% (259 of 359) |###############       | Elapsed Time: 0:02:08 ETA:   0:00:42"
     ]
    },
    {
     "name": "stdout",
     "output_type": "stream",
     "text": [
      "/map_to_tables_185.json.gz\n"
     ]
    },
    {
     "name": "stderr",
     "output_type": "stream",
     "text": [
      "\r",
      " 72% (260 of 359) |###############       | Elapsed Time: 0:02:09 ETA:   0:00:49"
     ]
    },
    {
     "name": "stdout",
     "output_type": "stream",
     "text": [
      "/map_to_tables_280.json.gz\n"
     ]
    },
    {
     "name": "stderr",
     "output_type": "stream",
     "text": [
      "\r",
      " 72% (261 of 359) |###############       | Elapsed Time: 0:02:10 ETA:   0:00:51"
     ]
    },
    {
     "name": "stdout",
     "output_type": "stream",
     "text": [
      "/map_to_tables_227.json.gz\n"
     ]
    },
    {
     "name": "stderr",
     "output_type": "stream",
     "text": [
      "\r",
      " 72% (262 of 359) |################      | Elapsed Time: 0:02:10 ETA:   0:00:57"
     ]
    },
    {
     "name": "stdout",
     "output_type": "stream",
     "text": [
      "/map_to_tables_329.json.gz\n"
     ]
    },
    {
     "name": "stderr",
     "output_type": "stream",
     "text": [
      "\r",
      " 73% (263 of 359) |################      | Elapsed Time: 0:02:11 ETA:   0:01:03"
     ]
    },
    {
     "name": "stdout",
     "output_type": "stream",
     "text": [
      "/map_to_tables_32.json.gz\n"
     ]
    },
    {
     "name": "stderr",
     "output_type": "stream",
     "text": [
      "\r",
      " 73% (264 of 359) |################      | Elapsed Time: 0:02:11 ETA:   0:00:53"
     ]
    },
    {
     "name": "stdout",
     "output_type": "stream",
     "text": [
      "/map_to_tables_357.json.gz\n"
     ]
    },
    {
     "name": "stderr",
     "output_type": "stream",
     "text": [
      "\r",
      " 73% (265 of 359) |################      | Elapsed Time: 0:02:12 ETA:   0:00:48"
     ]
    },
    {
     "name": "stdout",
     "output_type": "stream",
     "text": [
      "/map_to_tables_262.json.gz\n"
     ]
    },
    {
     "name": "stderr",
     "output_type": "stream",
     "text": [
      "\r",
      " 74% (266 of 359) |################      | Elapsed Time: 0:02:12 ETA:   0:00:48"
     ]
    },
    {
     "name": "stdout",
     "output_type": "stream",
     "text": [
      "/map_to_tables_142.json.gz\n"
     ]
    },
    {
     "name": "stderr",
     "output_type": "stream",
     "text": [
      "\r",
      " 74% (267 of 359) |################      | Elapsed Time: 0:02:13 ETA:   0:00:43"
     ]
    },
    {
     "name": "stdout",
     "output_type": "stream",
     "text": [
      "/map_to_tables_299.json.gz\n"
     ]
    },
    {
     "name": "stderr",
     "output_type": "stream",
     "text": [
      "\r",
      " 74% (268 of 359) |################      | Elapsed Time: 0:02:13 ETA:   0:00:37"
     ]
    },
    {
     "name": "stdout",
     "output_type": "stream",
     "text": [
      "/map_to_tables_276.json.gz\n"
     ]
    },
    {
     "name": "stderr",
     "output_type": "stream",
     "text": [
      "\r",
      " 74% (269 of 359) |################      | Elapsed Time: 0:02:14 ETA:   0:00:39"
     ]
    },
    {
     "name": "stdout",
     "output_type": "stream",
     "text": [
      "/map_to_tables_1.json.gz\n"
     ]
    },
    {
     "name": "stderr",
     "output_type": "stream",
     "text": [
      "\r",
      " 75% (270 of 359) |################      | Elapsed Time: 0:02:14 ETA:   0:00:39"
     ]
    },
    {
     "name": "stdout",
     "output_type": "stream",
     "text": [
      "/map_to_tables_110.json.gz\n"
     ]
    },
    {
     "name": "stderr",
     "output_type": "stream",
     "text": [
      "\r",
      " 75% (271 of 359) |################      | Elapsed Time: 0:02:14 ETA:   0:00:37"
     ]
    },
    {
     "name": "stdout",
     "output_type": "stream",
     "text": [
      "/map_to_tables_37.json.gz\n"
     ]
    },
    {
     "name": "stderr",
     "output_type": "stream",
     "text": [
      "\r",
      " 75% (272 of 359) |################      | Elapsed Time: 0:02:15 ETA:   0:00:33"
     ]
    },
    {
     "name": "stdout",
     "output_type": "stream",
     "text": [
      "/map_to_tables_328.json.gz\n"
     ]
    },
    {
     "name": "stderr",
     "output_type": "stream",
     "text": [
      "\r",
      " 76% (273 of 359) |################      | Elapsed Time: 0:02:15 ETA:   0:00:38"
     ]
    },
    {
     "name": "stdout",
     "output_type": "stream",
     "text": [
      "/map_to_tables_196.json.gz\n"
     ]
    },
    {
     "name": "stderr",
     "output_type": "stream",
     "text": [
      "\r",
      " 76% (274 of 359) |################      | Elapsed Time: 0:02:16 ETA:   0:00:36"
     ]
    },
    {
     "name": "stdout",
     "output_type": "stream",
     "text": [
      "/map_to_tables_40.json.gz\n"
     ]
    },
    {
     "name": "stderr",
     "output_type": "stream",
     "text": [
      "\r",
      " 76% (275 of 359) |################      | Elapsed Time: 0:02:16 ETA:   0:00:43"
     ]
    },
    {
     "name": "stdout",
     "output_type": "stream",
     "text": [
      "/map_to_tables_29.json.gz\n"
     ]
    },
    {
     "name": "stderr",
     "output_type": "stream",
     "text": [
      "\r",
      " 76% (276 of 359) |################      | Elapsed Time: 0:02:17 ETA:   0:00:48"
     ]
    },
    {
     "name": "stdout",
     "output_type": "stream",
     "text": [
      "/map_to_tables_215.json.gz\n"
     ]
    },
    {
     "name": "stderr",
     "output_type": "stream",
     "text": [
      "\r",
      " 77% (277 of 359) |################      | Elapsed Time: 0:02:18 ETA:   0:00:47"
     ]
    },
    {
     "name": "stdout",
     "output_type": "stream",
     "text": [
      "/map_to_tables_116.json.gz\n"
     ]
    },
    {
     "name": "stderr",
     "output_type": "stream",
     "text": [
      "\r",
      " 77% (278 of 359) |#################     | Elapsed Time: 0:02:18 ETA:   0:00:52"
     ]
    },
    {
     "name": "stdout",
     "output_type": "stream",
     "text": [
      "/map_to_tables_250.json.gz\n"
     ]
    },
    {
     "name": "stderr",
     "output_type": "stream",
     "text": [
      "\r",
      " 77% (279 of 359) |#################     | Elapsed Time: 0:02:19 ETA:   0:00:50"
     ]
    },
    {
     "name": "stdout",
     "output_type": "stream",
     "text": [
      "/map_to_tables_249.json.gz\n"
     ]
    },
    {
     "name": "stderr",
     "output_type": "stream",
     "text": [
      "\r",
      " 77% (280 of 359) |#################     | Elapsed Time: 0:02:19 ETA:   0:00:44"
     ]
    },
    {
     "name": "stdout",
     "output_type": "stream",
     "text": [
      "/map_to_tables_157.json.gz\n"
     ]
    },
    {
     "name": "stderr",
     "output_type": "stream",
     "text": [
      "\r",
      " 78% (281 of 359) |#################     | Elapsed Time: 0:02:20 ETA:   0:00:40"
     ]
    },
    {
     "name": "stdout",
     "output_type": "stream",
     "text": [
      "/map_to_tables_45.json.gz\n"
     ]
    },
    {
     "name": "stderr",
     "output_type": "stream",
     "text": [
      "\r",
      " 78% (282 of 359) |#################     | Elapsed Time: 0:02:20 ETA:   0:00:39"
     ]
    },
    {
     "name": "stdout",
     "output_type": "stream",
     "text": [
      "/map_to_tables_231.json.gz\n"
     ]
    },
    {
     "name": "stderr",
     "output_type": "stream",
     "text": [
      "\r",
      " 78% (283 of 359) |#################     | Elapsed Time: 0:02:21 ETA:   0:00:34"
     ]
    },
    {
     "name": "stdout",
     "output_type": "stream",
     "text": [
      "/map_to_tables_235.json.gz\n"
     ]
    },
    {
     "name": "stderr",
     "output_type": "stream",
     "text": [
      "\r",
      " 79% (284 of 359) |#################     | Elapsed Time: 0:02:21 ETA:   0:00:30"
     ]
    },
    {
     "name": "stdout",
     "output_type": "stream",
     "text": [
      "/map_to_tables_331.json.gz\n"
     ]
    },
    {
     "name": "stderr",
     "output_type": "stream",
     "text": [
      "\r",
      " 79% (285 of 359) |#################     | Elapsed Time: 0:02:22 ETA:   0:00:34"
     ]
    },
    {
     "name": "stdout",
     "output_type": "stream",
     "text": [
      "/map_to_tables_6.json.gz\n"
     ]
    },
    {
     "name": "stderr",
     "output_type": "stream",
     "text": [
      "\r",
      " 79% (286 of 359) |#################     | Elapsed Time: 0:02:22 ETA:   0:00:36"
     ]
    },
    {
     "name": "stdout",
     "output_type": "stream",
     "text": [
      "/map_to_tables_78.json.gz\n"
     ]
    },
    {
     "name": "stderr",
     "output_type": "stream",
     "text": [
      "\r",
      " 79% (287 of 359) |#################     | Elapsed Time: 0:02:23 ETA:   0:00:36"
     ]
    },
    {
     "name": "stdout",
     "output_type": "stream",
     "text": [
      "/map_to_tables_305.json.gz\n"
     ]
    },
    {
     "name": "stderr",
     "output_type": "stream",
     "text": [
      "\r",
      " 80% (288 of 359) |#################     | Elapsed Time: 0:02:23 ETA:   0:00:33"
     ]
    },
    {
     "name": "stdout",
     "output_type": "stream",
     "text": [
      "/map_to_tables_356.json.gz\n"
     ]
    },
    {
     "name": "stderr",
     "output_type": "stream",
     "text": [
      "\r",
      " 80% (289 of 359) |#################     | Elapsed Time: 0:02:23 ETA:   0:00:32"
     ]
    },
    {
     "name": "stdout",
     "output_type": "stream",
     "text": [
      "/map_to_tables_177.json.gz\n"
     ]
    },
    {
     "name": "stderr",
     "output_type": "stream",
     "text": [
      "\r",
      " 80% (290 of 359) |#################     | Elapsed Time: 0:02:24 ETA:   0:00:28"
     ]
    },
    {
     "name": "stdout",
     "output_type": "stream",
     "text": [
      "/map_to_tables_294.json.gz\n"
     ]
    },
    {
     "name": "stderr",
     "output_type": "stream",
     "text": [
      "\r",
      " 81% (291 of 359) |#################     | Elapsed Time: 0:02:24 ETA:   0:00:27"
     ]
    },
    {
     "name": "stdout",
     "output_type": "stream",
     "text": [
      "/map_to_tables_209.json.gz\n"
     ]
    },
    {
     "name": "stderr",
     "output_type": "stream",
     "text": [
      "\r",
      " 81% (292 of 359) |#################     | Elapsed Time: 0:02:25 ETA:   0:00:29"
     ]
    },
    {
     "name": "stdout",
     "output_type": "stream",
     "text": [
      "/map_to_tables_264.json.gz\n"
     ]
    },
    {
     "name": "stderr",
     "output_type": "stream",
     "text": [
      "\r",
      " 81% (293 of 359) |#################     | Elapsed Time: 0:02:25 ETA:   0:00:29"
     ]
    },
    {
     "name": "stdout",
     "output_type": "stream",
     "text": [
      "/map_to_tables_296.json.gz\n"
     ]
    },
    {
     "name": "stderr",
     "output_type": "stream",
     "text": [
      "\r",
      " 81% (294 of 359) |##################    | Elapsed Time: 0:02:26 ETA:   0:00:35"
     ]
    },
    {
     "name": "stdout",
     "output_type": "stream",
     "text": [
      "/map_to_tables_115.json.gz\n"
     ]
    },
    {
     "name": "stderr",
     "output_type": "stream",
     "text": [
      "\r",
      " 82% (295 of 359) |##################    | Elapsed Time: 0:02:26 ETA:   0:00:34"
     ]
    },
    {
     "name": "stdout",
     "output_type": "stream",
     "text": [
      "/map_to_tables_312.json.gz\n"
     ]
    },
    {
     "name": "stderr",
     "output_type": "stream",
     "text": [
      "\r",
      " 82% (296 of 359) |##################    | Elapsed Time: 0:02:27 ETA:   0:00:31"
     ]
    },
    {
     "name": "stdout",
     "output_type": "stream",
     "text": [
      "/map_to_tables_253.json.gz\n"
     ]
    },
    {
     "name": "stderr",
     "output_type": "stream",
     "text": [
      "\r",
      " 82% (297 of 359) |##################    | Elapsed Time: 0:02:27 ETA:   0:00:26"
     ]
    },
    {
     "name": "stdout",
     "output_type": "stream",
     "text": [
      "/map_to_tables_300.json.gz\n"
     ]
    },
    {
     "name": "stderr",
     "output_type": "stream",
     "text": [
      "\r",
      " 83% (298 of 359) |##################    | Elapsed Time: 0:02:27 ETA:   0:00:25"
     ]
    },
    {
     "name": "stdout",
     "output_type": "stream",
     "text": [
      "/map_to_tables_171.json.gz\n"
     ]
    },
    {
     "name": "stderr",
     "output_type": "stream",
     "text": [
      "\r",
      " 83% (299 of 359) |##################    | Elapsed Time: 0:02:28 ETA:   0:00:25"
     ]
    },
    {
     "name": "stdout",
     "output_type": "stream",
     "text": [
      "/map_to_tables_73.json.gz\n"
     ]
    },
    {
     "name": "stderr",
     "output_type": "stream",
     "text": [
      "\r",
      " 83% (300 of 359) |##################    | Elapsed Time: 0:02:29 ETA:   0:00:29"
     ]
    },
    {
     "name": "stdout",
     "output_type": "stream",
     "text": [
      "/map_to_tables_344.json.gz\n"
     ]
    },
    {
     "name": "stderr",
     "output_type": "stream",
     "text": [
      "\r",
      " 83% (301 of 359) |##################    | Elapsed Time: 0:02:29 ETA:   0:00:33"
     ]
    },
    {
     "name": "stdout",
     "output_type": "stream",
     "text": [
      "/map_to_tables_224.json.gz\n"
     ]
    },
    {
     "name": "stderr",
     "output_type": "stream",
     "text": [
      "\r",
      " 84% (302 of 359) |##################    | Elapsed Time: 0:02:30 ETA:   0:00:33"
     ]
    },
    {
     "name": "stdout",
     "output_type": "stream",
     "text": [
      "/map_to_tables_131.json.gz\n"
     ]
    },
    {
     "name": "stderr",
     "output_type": "stream",
     "text": [
      "\r",
      " 84% (303 of 359) |##################    | Elapsed Time: 0:02:30 ETA:   0:00:29"
     ]
    },
    {
     "name": "stdout",
     "output_type": "stream",
     "text": [
      "/map_to_tables_348.json.gz\n"
     ]
    },
    {
     "name": "stderr",
     "output_type": "stream",
     "text": [
      "\r",
      " 84% (304 of 359) |##################    | Elapsed Time: 0:02:31 ETA:   0:00:28"
     ]
    },
    {
     "name": "stdout",
     "output_type": "stream",
     "text": [
      "/map_to_tables_293.json.gz\n"
     ]
    },
    {
     "name": "stderr",
     "output_type": "stream",
     "text": [
      "\r",
      " 84% (305 of 359) |##################    | Elapsed Time: 0:02:31 ETA:   0:00:27"
     ]
    },
    {
     "name": "stdout",
     "output_type": "stream",
     "text": [
      "/map_to_tables_251.json.gz\n"
     ]
    },
    {
     "name": "stderr",
     "output_type": "stream",
     "text": [
      "\r",
      " 85% (306 of 359) |##################    | Elapsed Time: 0:02:32 ETA:   0:00:30"
     ]
    },
    {
     "name": "stdout",
     "output_type": "stream",
     "text": [
      "/map_to_tables_46.json.gz\n"
     ]
    },
    {
     "name": "stderr",
     "output_type": "stream",
     "text": [
      "\r",
      " 85% (307 of 359) |##################    | Elapsed Time: 0:02:33 ETA:   0:00:32"
     ]
    },
    {
     "name": "stdout",
     "output_type": "stream",
     "text": [
      "/map_to_tables_126.json.gz\n"
     ]
    },
    {
     "name": "stderr",
     "output_type": "stream",
     "text": [
      "\r",
      " 85% (308 of 359) |##################    | Elapsed Time: 0:02:33 ETA:   0:00:28"
     ]
    },
    {
     "name": "stdout",
     "output_type": "stream",
     "text": [
      "/map_to_tables_349.json.gz\n"
     ]
    },
    {
     "name": "stderr",
     "output_type": "stream",
     "text": [
      "\r",
      " 86% (309 of 359) |##################    | Elapsed Time: 0:02:34 ETA:   0:00:29"
     ]
    },
    {
     "name": "stdout",
     "output_type": "stream",
     "text": [
      "/map_to_tables_2.json.gz\n"
     ]
    },
    {
     "name": "stderr",
     "output_type": "stream",
     "text": [
      "\r",
      " 86% (310 of 359) |##################    | Elapsed Time: 0:02:34 ETA:   0:00:26"
     ]
    },
    {
     "name": "stdout",
     "output_type": "stream",
     "text": [
      "/map_to_tables_333.json.gz\n"
     ]
    },
    {
     "name": "stderr",
     "output_type": "stream",
     "text": [
      "\r",
      " 86% (311 of 359) |###################   | Elapsed Time: 0:02:34 ETA:   0:00:23"
     ]
    },
    {
     "name": "stdout",
     "output_type": "stream",
     "text": [
      "/map_to_tables_265.json.gz\n"
     ]
    },
    {
     "name": "stderr",
     "output_type": "stream",
     "text": [
      "\r",
      " 86% (312 of 359) |###################   | Elapsed Time: 0:02:35 ETA:   0:00:24"
     ]
    },
    {
     "name": "stdout",
     "output_type": "stream",
     "text": [
      "/map_to_tables_283.json.gz\n"
     ]
    },
    {
     "name": "stderr",
     "output_type": "stream",
     "text": [
      "\r",
      " 87% (313 of 359) |###################   | Elapsed Time: 0:02:36 ETA:   0:00:32"
     ]
    },
    {
     "name": "stdout",
     "output_type": "stream",
     "text": [
      "/map_to_tables_198.json.gz\n"
     ]
    },
    {
     "name": "stderr",
     "output_type": "stream",
     "text": [
      "\r",
      " 87% (314 of 359) |###################   | Elapsed Time: 0:02:37 ETA:   0:00:35"
     ]
    },
    {
     "name": "stdout",
     "output_type": "stream",
     "text": [
      "/map_to_tables_30.json.gz\n"
     ]
    },
    {
     "name": "stderr",
     "output_type": "stream",
     "text": [
      "\r",
      " 87% (315 of 359) |###################   | Elapsed Time: 0:02:37 ETA:   0:00:35"
     ]
    },
    {
     "name": "stdout",
     "output_type": "stream",
     "text": [
      "/map_to_tables_268.json.gz\n"
     ]
    },
    {
     "name": "stderr",
     "output_type": "stream",
     "text": [
      "\r",
      " 88% (316 of 359) |###################   | Elapsed Time: 0:02:38 ETA:   0:00:32"
     ]
    },
    {
     "name": "stdout",
     "output_type": "stream",
     "text": [
      "/map_to_tables_52.json.gz\n"
     ]
    },
    {
     "name": "stderr",
     "output_type": "stream",
     "text": [
      "\r",
      " 88% (317 of 359) |###################   | Elapsed Time: 0:02:38 ETA:   0:00:23"
     ]
    },
    {
     "name": "stdout",
     "output_type": "stream",
     "text": [
      "/map_to_tables_354.json.gz\n"
     ]
    },
    {
     "name": "stderr",
     "output_type": "stream",
     "text": [
      "\r",
      " 88% (318 of 359) |###################   | Elapsed Time: 0:02:39 ETA:   0:00:20"
     ]
    },
    {
     "name": "stdout",
     "output_type": "stream",
     "text": [
      "/map_to_tables_201.json.gz\n"
     ]
    },
    {
     "name": "stderr",
     "output_type": "stream",
     "text": [
      "\r",
      " 88% (319 of 359) |###################   | Elapsed Time: 0:02:39 ETA:   0:00:21"
     ]
    },
    {
     "name": "stdout",
     "output_type": "stream",
     "text": [
      "/map_to_tables_61.json.gz\n"
     ]
    },
    {
     "name": "stderr",
     "output_type": "stream",
     "text": [
      "\r",
      " 89% (320 of 359) |###################   | Elapsed Time: 0:02:40 ETA:   0:00:18"
     ]
    },
    {
     "name": "stdout",
     "output_type": "stream",
     "text": [
      "/map_to_tables_99.json.gz\n"
     ]
    },
    {
     "name": "stderr",
     "output_type": "stream",
     "text": [
      "\r",
      " 89% (321 of 359) |###################   | Elapsed Time: 0:02:40 ETA:   0:00:19"
     ]
    },
    {
     "name": "stdout",
     "output_type": "stream",
     "text": [
      "/map_to_tables_68.json.gz\n"
     ]
    },
    {
     "name": "stderr",
     "output_type": "stream",
     "text": [
      "\r",
      " 89% (322 of 359) |###################   | Elapsed Time: 0:02:41 ETA:   0:00:22"
     ]
    },
    {
     "name": "stdout",
     "output_type": "stream",
     "text": [
      "/map_to_tables_120.json.gz\n"
     ]
    },
    {
     "name": "stderr",
     "output_type": "stream",
     "text": [
      "\r",
      " 89% (323 of 359) |###################   | Elapsed Time: 0:02:42 ETA:   0:00:24"
     ]
    },
    {
     "name": "stdout",
     "output_type": "stream",
     "text": [
      "/map_to_tables_295.json.gz\n"
     ]
    },
    {
     "name": "stderr",
     "output_type": "stream",
     "text": [
      "\r",
      " 90% (324 of 359) |###################   | Elapsed Time: 0:02:42 ETA:   0:00:21"
     ]
    },
    {
     "name": "stdout",
     "output_type": "stream",
     "text": [
      "/map_to_tables_335.json.gz\n"
     ]
    },
    {
     "name": "stderr",
     "output_type": "stream",
     "text": [
      "\r",
      " 90% (325 of 359) |###################   | Elapsed Time: 0:02:43 ETA:   0:00:18"
     ]
    },
    {
     "name": "stdout",
     "output_type": "stream",
     "text": [
      "/map_to_tables_42.json.gz\n"
     ]
    },
    {
     "name": "stderr",
     "output_type": "stream",
     "text": [
      "\r",
      " 90% (326 of 359) |###################   | Elapsed Time: 0:02:43 ETA:   0:00:17"
     ]
    },
    {
     "name": "stdout",
     "output_type": "stream",
     "text": [
      "/map_to_tables_179.json.gz\n"
     ]
    },
    {
     "name": "stderr",
     "output_type": "stream",
     "text": [
      "\r",
      " 91% (327 of 359) |####################  | Elapsed Time: 0:02:43 ETA:   0:00:14"
     ]
    },
    {
     "name": "stdout",
     "output_type": "stream",
     "text": [
      "/map_to_tables_236.json.gz\n"
     ]
    },
    {
     "name": "stderr",
     "output_type": "stream",
     "text": [
      "\r",
      " 91% (328 of 359) |####################  | Elapsed Time: 0:02:44 ETA:   0:00:13"
     ]
    },
    {
     "name": "stdout",
     "output_type": "stream",
     "text": [
      "/map_to_tables_317.json.gz\n"
     ]
    },
    {
     "name": "stderr",
     "output_type": "stream",
     "text": [
      "\r",
      " 91% (329 of 359) |####################  | Elapsed Time: 0:02:44 ETA:   0:00:13"
     ]
    },
    {
     "name": "stdout",
     "output_type": "stream",
     "text": [
      "/map_to_tables_173.json.gz\n"
     ]
    },
    {
     "name": "stderr",
     "output_type": "stream",
     "text": [
      "\r",
      " 91% (330 of 359) |####################  | Elapsed Time: 0:02:45 ETA:   0:00:15"
     ]
    },
    {
     "name": "stdout",
     "output_type": "stream",
     "text": [
      "/map_to_tables_187.json.gz\n"
     ]
    },
    {
     "name": "stderr",
     "output_type": "stream",
     "text": [
      "\r",
      " 92% (331 of 359) |####################  | Elapsed Time: 0:02:46 ETA:   0:00:15"
     ]
    },
    {
     "name": "stdout",
     "output_type": "stream",
     "text": [
      "/map_to_tables_93.json.gz\n"
     ]
    },
    {
     "name": "stderr",
     "output_type": "stream",
     "text": [
      "\r",
      " 92% (332 of 359) |####################  | Elapsed Time: 0:02:46 ETA:   0:00:15"
     ]
    },
    {
     "name": "stdout",
     "output_type": "stream",
     "text": [
      "/map_to_tables_21.json.gz\n"
     ]
    },
    {
     "name": "stderr",
     "output_type": "stream",
     "text": [
      "\r",
      " 92% (333 of 359) |####################  | Elapsed Time: 0:02:47 ETA:   0:00:14"
     ]
    },
    {
     "name": "stdout",
     "output_type": "stream",
     "text": [
      "/map_to_tables_226.json.gz\n"
     ]
    },
    {
     "name": "stderr",
     "output_type": "stream",
     "text": [
      "\r",
      " 93% (334 of 359) |####################  | Elapsed Time: 0:02:47 ETA:   0:00:12"
     ]
    },
    {
     "name": "stdout",
     "output_type": "stream",
     "text": [
      "/map_to_tables_221.json.gz\n"
     ]
    },
    {
     "name": "stderr",
     "output_type": "stream",
     "text": [
      "\r",
      " 93% (335 of 359) |####################  | Elapsed Time: 0:02:47 ETA:   0:00:10"
     ]
    },
    {
     "name": "stdout",
     "output_type": "stream",
     "text": [
      "/map_to_tables_148.json.gz\n"
     ]
    },
    {
     "name": "stderr",
     "output_type": "stream",
     "text": [
      "\r",
      " 93% (336 of 359) |####################  | Elapsed Time: 0:02:48 ETA:   0:00:09"
     ]
    },
    {
     "name": "stdout",
     "output_type": "stream",
     "text": [
      "/map_to_tables_34.json.gz\n"
     ]
    },
    {
     "name": "stderr",
     "output_type": "stream",
     "text": [
      "\r",
      " 93% (337 of 359) |####################  | Elapsed Time: 0:02:48 ETA:   0:00:09"
     ]
    },
    {
     "name": "stdout",
     "output_type": "stream",
     "text": [
      "/map_to_tables_307.json.gz\n"
     ]
    },
    {
     "name": "stderr",
     "output_type": "stream",
     "text": [
      "\r",
      " 94% (338 of 359) |####################  | Elapsed Time: 0:02:49 ETA:   0:00:10"
     ]
    },
    {
     "name": "stdout",
     "output_type": "stream",
     "text": [
      "/map_to_tables_105.json.gz\n"
     ]
    },
    {
     "name": "stderr",
     "output_type": "stream",
     "text": [
      "\r",
      " 94% (339 of 359) |####################  | Elapsed Time: 0:02:50 ETA:   0:00:11"
     ]
    },
    {
     "name": "stdout",
     "output_type": "stream",
     "text": [
      "/map_to_tables_89.json.gz\n"
     ]
    },
    {
     "name": "stderr",
     "output_type": "stream",
     "text": [
      "\r",
      " 94% (340 of 359) |####################  | Elapsed Time: 0:02:50 ETA:   0:00:11"
     ]
    },
    {
     "name": "stdout",
     "output_type": "stream",
     "text": [
      "/map_to_tables_138.json.gz\n"
     ]
    },
    {
     "name": "stderr",
     "output_type": "stream",
     "text": [
      "\r",
      " 94% (341 of 359) |####################  | Elapsed Time: 0:02:50 ETA:   0:00:09"
     ]
    },
    {
     "name": "stdout",
     "output_type": "stream",
     "text": [
      "/map_to_tables_246.json.gz\n"
     ]
    },
    {
     "name": "stderr",
     "output_type": "stream",
     "text": [
      "\r",
      " 95% (342 of 359) |####################  | Elapsed Time: 0:02:51 ETA:   0:00:08"
     ]
    },
    {
     "name": "stdout",
     "output_type": "stream",
     "text": [
      "/map_to_tables_337.json.gz\n"
     ]
    },
    {
     "name": "stderr",
     "output_type": "stream",
     "text": [
      "\r",
      " 95% (343 of 359) |##################### | Elapsed Time: 0:02:51 ETA:   0:00:07"
     ]
    },
    {
     "name": "stdout",
     "output_type": "stream",
     "text": [
      "/map_to_tables_100.json.gz\n"
     ]
    },
    {
     "name": "stderr",
     "output_type": "stream",
     "text": [
      "\r",
      " 95% (344 of 359) |##################### | Elapsed Time: 0:02:52 ETA:   0:00:06"
     ]
    },
    {
     "name": "stdout",
     "output_type": "stream",
     "text": [
      "/map_to_tables_257.json.gz\n"
     ]
    },
    {
     "name": "stderr",
     "output_type": "stream",
     "text": [
      "\r",
      " 96% (345 of 359) |##################### | Elapsed Time: 0:02:53 ETA:   0:00:07"
     ]
    },
    {
     "name": "stdout",
     "output_type": "stream",
     "text": [
      "/map_to_tables_64.json.gz\n"
     ]
    },
    {
     "name": "stderr",
     "output_type": "stream",
     "text": [
      "\r",
      " 96% (346 of 359) |##################### | Elapsed Time: 0:02:53 ETA:   0:00:06"
     ]
    },
    {
     "name": "stdout",
     "output_type": "stream",
     "text": [
      "/map_to_tables_139.json.gz\n"
     ]
    },
    {
     "name": "stderr",
     "output_type": "stream",
     "text": [
      "\r",
      " 96% (347 of 359) |##################### | Elapsed Time: 0:02:53 ETA:   0:00:05"
     ]
    },
    {
     "name": "stdout",
     "output_type": "stream",
     "text": [
      "/map_to_tables_214.json.gz\n"
     ]
    },
    {
     "name": "stderr",
     "output_type": "stream",
     "text": [
      "\r",
      " 96% (348 of 359) |##################### | Elapsed Time: 0:02:54 ETA:   0:00:04"
     ]
    },
    {
     "name": "stdout",
     "output_type": "stream",
     "text": [
      "/map_to_tables_4.json.gz\n"
     ]
    },
    {
     "name": "stderr",
     "output_type": "stream",
     "text": [
      "\r",
      " 97% (349 of 359) |##################### | Elapsed Time: 0:02:54 ETA:   0:00:04"
     ]
    },
    {
     "name": "stdout",
     "output_type": "stream",
     "text": [
      "/map_to_tables_194.json.gz\n"
     ]
    },
    {
     "name": "stderr",
     "output_type": "stream",
     "text": [
      "\r",
      " 97% (350 of 359) |##################### | Elapsed Time: 0:02:54 ETA:   0:00:03"
     ]
    },
    {
     "name": "stdout",
     "output_type": "stream",
     "text": [
      "/map_to_tables_351.json.gz\n"
     ]
    },
    {
     "name": "stderr",
     "output_type": "stream",
     "text": [
      "\r",
      " 97% (351 of 359) |##################### | Elapsed Time: 0:02:55 ETA:   0:00:02"
     ]
    },
    {
     "name": "stdout",
     "output_type": "stream",
     "text": [
      "/map_to_tables_162.json.gz\n"
     ]
    },
    {
     "name": "stderr",
     "output_type": "stream",
     "text": [
      "\r",
      " 98% (352 of 359) |##################### | Elapsed Time: 0:02:55 ETA:   0:00:02"
     ]
    },
    {
     "name": "stdout",
     "output_type": "stream",
     "text": [
      "/map_to_tables_345.json.gz\n"
     ]
    },
    {
     "name": "stderr",
     "output_type": "stream",
     "text": [
      "\r",
      " 98% (353 of 359) |##################### | Elapsed Time: 0:02:56 ETA:   0:00:02"
     ]
    },
    {
     "name": "stdout",
     "output_type": "stream",
     "text": [
      "/map_to_tables_83.json.gz\n"
     ]
    },
    {
     "name": "stderr",
     "output_type": "stream",
     "text": [
      "\r",
      " 98% (354 of 359) |##################### | Elapsed Time: 0:02:56 ETA:   0:00:02"
     ]
    },
    {
     "name": "stdout",
     "output_type": "stream",
     "text": [
      "/map_to_tables_145.json.gz\n"
     ]
    },
    {
     "name": "stderr",
     "output_type": "stream",
     "text": [
      "\r",
      " 98% (355 of 359) |##################### | Elapsed Time: 0:02:57 ETA:   0:00:02"
     ]
    },
    {
     "name": "stdout",
     "output_type": "stream",
     "text": [
      "/map_to_tables_336.json.gz\n"
     ]
    },
    {
     "name": "stderr",
     "output_type": "stream",
     "text": [
      "\r",
      " 99% (356 of 359) |##################### | Elapsed Time: 0:02:58 ETA:   0:00:01"
     ]
    },
    {
     "name": "stdout",
     "output_type": "stream",
     "text": [
      "/map_to_tables_192.json.gz\n"
     ]
    },
    {
     "name": "stderr",
     "output_type": "stream",
     "text": [
      "\r",
      " 99% (357 of 359) |##################### | Elapsed Time: 0:02:58 ETA:   0:00:01"
     ]
    },
    {
     "name": "stdout",
     "output_type": "stream",
     "text": [
      "/map_to_tables_289.json.gz\n"
     ]
    },
    {
     "name": "stderr",
     "output_type": "stream",
     "text": [
      "\r",
      " 99% (358 of 359) |##################### | Elapsed Time: 0:02:58 ETA:   0:00:00"
     ]
    },
    {
     "name": "stdout",
     "output_type": "stream",
     "text": [
      "/map_to_tables_247.json.gz\n"
     ]
    },
    {
     "name": "stderr",
     "output_type": "stream",
     "text": [
      "100% (359 of 359) |######################| Elapsed Time: 0:02:59 Time:  0:02:59\n"
     ]
    }
   ],
   "source": [
    "# use the cleaned tables to append into a series and the get a dataframe from that with the remaining cluster ids\n",
    "count = 0\n",
    "data=[]\n",
    "with progressbar.ProgressBar(max_value=len(zip_files_mapping)) as bar:\n",
    "    for zip_file in zip_files_mapping:\n",
    "        print('/{}'.format(zip_file))\n",
    "        df = pd.read_json(mapping_corpus_path_2 + '/{}'.format(zip_file), compression='gzip', lines=True)\n",
    "        data.append(df)\n",
    "        count += 1\n",
    "        bar.update(count)\n",
    "df_large= pd.concat(data, ignore_index=True)\n",
    "#df.large.to_json(os.path.join(mapping_corpus_path_2, 'concatentation'), compression='gzip', orient='records', lines=True)"
   ]
  },
  {
   "cell_type": "code",
   "execution_count": 15,
   "metadata": {},
   "outputs": [
    {
     "data": {
      "text/html": [
       "<div>\n",
       "<style scoped>\n",
       "    .dataframe tbody tr th:only-of-type {\n",
       "        vertical-align: middle;\n",
       "    }\n",
       "\n",
       "    .dataframe tbody tr th {\n",
       "        vertical-align: top;\n",
       "    }\n",
       "\n",
       "    .dataframe thead th {\n",
       "        text-align: right;\n",
       "    }\n",
       "</style>\n",
       "<table border=\"1\" class=\"dataframe\">\n",
       "  <thead>\n",
       "    <tr style=\"text-align: right;\">\n",
       "      <th></th>\n",
       "      <th>cluster_id</th>\n",
       "      <th>url</th>\n",
       "      <th>row_id</th>\n",
       "      <th>table_id</th>\n",
       "      <th>Valid</th>\n",
       "    </tr>\n",
       "  </thead>\n",
       "  <tbody>\n",
       "    <tr>\n",
       "      <th>0</th>\n",
       "      <td>59178314</td>\n",
       "      <td>https://www.cultureindoor.com/796-irrigation-a...</td>\n",
       "      <td>1561</td>\n",
       "      <td>Product_cultureindoor.com_September2020.json.gz</td>\n",
       "      <td>1</td>\n",
       "    </tr>\n",
       "    <tr>\n",
       "      <th>1</th>\n",
       "      <td>70692685</td>\n",
       "      <td>https://www.culturekings.com/products/new-era-...</td>\n",
       "      <td>3893</td>\n",
       "      <td>Product_culturekings.com_September2020.json.gz</td>\n",
       "      <td>1</td>\n",
       "    </tr>\n",
       "    <tr>\n",
       "      <th>2</th>\n",
       "      <td>395606</td>\n",
       "      <td>https://www.culturekings.com/products/new-era-...</td>\n",
       "      <td>3894</td>\n",
       "      <td>Product_culturekings.com_September2020.json.gz</td>\n",
       "      <td>1</td>\n",
       "    </tr>\n",
       "    <tr>\n",
       "      <th>3</th>\n",
       "      <td>3361797</td>\n",
       "      <td>https://www.customizedgirl.com/design/2605608/...</td>\n",
       "      <td>9318</td>\n",
       "      <td>Product_customizedgirl.com_September2020.json.gz</td>\n",
       "      <td>1</td>\n",
       "    </tr>\n",
       "    <tr>\n",
       "      <th>4</th>\n",
       "      <td>235755</td>\n",
       "      <td>https://www.customizedgirl.com/design/2613423/...</td>\n",
       "      <td>9319</td>\n",
       "      <td>Product_customizedgirl.com_September2020.json.gz</td>\n",
       "      <td>1</td>\n",
       "    </tr>\n",
       "    <tr>\n",
       "      <th>...</th>\n",
       "      <td>...</td>\n",
       "      <td>...</td>\n",
       "      <td>...</td>\n",
       "      <td>...</td>\n",
       "      <td>...</td>\n",
       "    </tr>\n",
       "    <tr>\n",
       "      <th>24687502</th>\n",
       "      <td>8653717</td>\n",
       "      <td>https://shop-list.com/women/utuwa-tatara/sg323...</td>\n",
       "      <td>1620</td>\n",
       "      <td>Product_shop-list.com_September2020.json.gz</td>\n",
       "      <td>1</td>\n",
       "    </tr>\n",
       "    <tr>\n",
       "      <th>24687503</th>\n",
       "      <td>22258637</td>\n",
       "      <td>https://shop-list.com/women/youmotto/famille-ltm</td>\n",
       "      <td>1621</td>\n",
       "      <td>Product_shop-list.com_September2020.json.gz</td>\n",
       "      <td>1</td>\n",
       "    </tr>\n",
       "    <tr>\n",
       "      <th>24687504</th>\n",
       "      <td>41434658</td>\n",
       "      <td>https://shop.agwaycapecod.com/products/0190147...</td>\n",
       "      <td>126</td>\n",
       "      <td>Product_agwaycapecod.com_September2020.json.gz</td>\n",
       "      <td>1</td>\n",
       "    </tr>\n",
       "    <tr>\n",
       "      <th>24687505</th>\n",
       "      <td>62702145</td>\n",
       "      <td>https://shop.agwaycapecod.com/products/0373214...</td>\n",
       "      <td>127</td>\n",
       "      <td>Product_agwaycapecod.com_September2020.json.gz</td>\n",
       "      <td>1</td>\n",
       "    </tr>\n",
       "    <tr>\n",
       "      <th>24687506</th>\n",
       "      <td>60936713</td>\n",
       "      <td>https://shop.areefcreation.com/products/ls-apr...</td>\n",
       "      <td>120</td>\n",
       "      <td>Product_areefcreation.com_September2020.json.gz</td>\n",
       "      <td>1</td>\n",
       "    </tr>\n",
       "  </tbody>\n",
       "</table>\n",
       "<p>24687507 rows × 5 columns</p>\n",
       "</div>"
      ],
      "text/plain": [
       "          cluster_id                                                url  \\\n",
       "0           59178314  https://www.cultureindoor.com/796-irrigation-a...   \n",
       "1           70692685  https://www.culturekings.com/products/new-era-...   \n",
       "2             395606  https://www.culturekings.com/products/new-era-...   \n",
       "3            3361797  https://www.customizedgirl.com/design/2605608/...   \n",
       "4             235755  https://www.customizedgirl.com/design/2613423/...   \n",
       "...              ...                                                ...   \n",
       "24687502     8653717  https://shop-list.com/women/utuwa-tatara/sg323...   \n",
       "24687503    22258637   https://shop-list.com/women/youmotto/famille-ltm   \n",
       "24687504    41434658  https://shop.agwaycapecod.com/products/0190147...   \n",
       "24687505    62702145  https://shop.agwaycapecod.com/products/0373214...   \n",
       "24687506    60936713  https://shop.areefcreation.com/products/ls-apr...   \n",
       "\n",
       "          row_id                                          table_id  Valid  \n",
       "0           1561   Product_cultureindoor.com_September2020.json.gz      1  \n",
       "1           3893    Product_culturekings.com_September2020.json.gz      1  \n",
       "2           3894    Product_culturekings.com_September2020.json.gz      1  \n",
       "3           9318  Product_customizedgirl.com_September2020.json.gz      1  \n",
       "4           9319  Product_customizedgirl.com_September2020.json.gz      1  \n",
       "...          ...                                               ...    ...  \n",
       "24687502    1620       Product_shop-list.com_September2020.json.gz      1  \n",
       "24687503    1621       Product_shop-list.com_September2020.json.gz      1  \n",
       "24687504     126    Product_agwaycapecod.com_September2020.json.gz      1  \n",
       "24687505     127    Product_agwaycapecod.com_September2020.json.gz      1  \n",
       "24687506     120   Product_areefcreation.com_September2020.json.gz      1  \n",
       "\n",
       "[24687507 rows x 5 columns]"
      ]
     },
     "execution_count": 15,
     "metadata": {},
     "output_type": "execute_result"
    }
   ],
   "source": [
    "df_large"
   ]
  },
  {
   "cell_type": "code",
   "execution_count": 16,
   "metadata": {},
   "outputs": [
    {
     "name": "stdout",
     "output_type": "stream",
     "text": [
      "/product_V2020_214.json.gz\n"
     ]
    },
    {
     "name": "stderr",
     "output_type": "stream",
     "text": [
      "\r",
      "  0% (0 of 359) |                        | Elapsed Time: 0:00:00 ETA:  --:--:--"
     ]
    },
    {
     "name": "stdout",
     "output_type": "stream",
     "text": [
      "/product_V2020_324.json.gz\n"
     ]
    },
    {
     "name": "stderr",
     "output_type": "stream",
     "text": [
      "\r",
      "  0% (2 of 359) |                        | Elapsed Time: 0:00:11 ETA:   0:32:56"
     ]
    },
    {
     "name": "stdout",
     "output_type": "stream",
     "text": [
      "/product_V2020_26.json.gz\n"
     ]
    },
    {
     "name": "stderr",
     "output_type": "stream",
     "text": [
      "\r",
      "  0% (3 of 359) |                        | Elapsed Time: 0:00:22 ETA:   1:06:49"
     ]
    },
    {
     "name": "stdout",
     "output_type": "stream",
     "text": [
      "/product_V2020_128.json.gz\n"
     ]
    },
    {
     "name": "stderr",
     "output_type": "stream",
     "text": [
      "\r",
      "  1% (4 of 359) |                        | Elapsed Time: 0:00:33 ETA:   1:05:41"
     ]
    },
    {
     "name": "stdout",
     "output_type": "stream",
     "text": [
      "/product_V2020_258.json.gz\n"
     ]
    },
    {
     "name": "stderr",
     "output_type": "stream",
     "text": [
      "\r",
      "  1% (5 of 359) |                        | Elapsed Time: 0:00:44 ETA:   1:07:43"
     ]
    },
    {
     "name": "stdout",
     "output_type": "stream",
     "text": [
      "/product_V2020_233.json.gz\n"
     ]
    },
    {
     "name": "stderr",
     "output_type": "stream",
     "text": [
      "\r",
      "  1% (6 of 359) |                        | Elapsed Time: 0:00:50 ETA:   0:30:06"
     ]
    },
    {
     "name": "stdout",
     "output_type": "stream",
     "text": [
      "/product_V2020_346.json.gz\n"
     ]
    },
    {
     "name": "stderr",
     "output_type": "stream",
     "text": [
      "\r",
      "  1% (7 of 359) |                        | Elapsed Time: 0:00:55 ETA:   0:30:33"
     ]
    },
    {
     "name": "stdout",
     "output_type": "stream",
     "text": [
      "/product_V2020_211.json.gz\n"
     ]
    },
    {
     "name": "stderr",
     "output_type": "stream",
     "text": [
      "\r",
      "  2% (8 of 359) |                        | Elapsed Time: 0:01:00 ETA:   0:30:07"
     ]
    },
    {
     "name": "stdout",
     "output_type": "stream",
     "text": [
      "/product_V2020_239.json.gz\n"
     ]
    },
    {
     "name": "stderr",
     "output_type": "stream",
     "text": [
      "\r",
      "  2% (9 of 359) |                        | Elapsed Time: 0:01:11 ETA:   1:07:12"
     ]
    },
    {
     "name": "stdout",
     "output_type": "stream",
     "text": [
      "/product_V2020_73.json.gz\n"
     ]
    },
    {
     "name": "stderr",
     "output_type": "stream",
     "text": [
      "\r",
      "  2% (10 of 359) |                       | Elapsed Time: 0:01:23 ETA:   1:05:22"
     ]
    },
    {
     "name": "stdout",
     "output_type": "stream",
     "text": [
      "/product_V2020_100.json.gz\n"
     ]
    },
    {
     "name": "stderr",
     "output_type": "stream",
     "text": [
      "\r",
      "  3% (11 of 359) |                       | Elapsed Time: 0:01:30 ETA:   0:41:49"
     ]
    },
    {
     "name": "stdout",
     "output_type": "stream",
     "text": [
      "/product_V2020_118.json.gz\n"
     ]
    },
    {
     "name": "stderr",
     "output_type": "stream",
     "text": [
      "\r",
      "  3% (12 of 359) |                       | Elapsed Time: 0:01:35 ETA:   0:29:27"
     ]
    },
    {
     "name": "stdout",
     "output_type": "stream",
     "text": [
      "/product_V2020_92.json.gz\n"
     ]
    },
    {
     "name": "stderr",
     "output_type": "stream",
     "text": [
      "\r",
      "  3% (13 of 359) |                       | Elapsed Time: 0:01:40 ETA:   0:30:09"
     ]
    },
    {
     "name": "stdout",
     "output_type": "stream",
     "text": [
      "/product_V2020_139.json.gz\n"
     ]
    },
    {
     "name": "stderr",
     "output_type": "stream",
     "text": [
      "\r",
      "  3% (14 of 359) |                       | Elapsed Time: 0:01:46 ETA:   0:30:49"
     ]
    },
    {
     "name": "stdout",
     "output_type": "stream",
     "text": [
      "/product_V2020_293.json.gz\n"
     ]
    },
    {
     "name": "stderr",
     "output_type": "stream",
     "text": [
      "\r",
      "  4% (15 of 359) |                       | Elapsed Time: 0:01:57 ETA:   1:07:15"
     ]
    },
    {
     "name": "stdout",
     "output_type": "stream",
     "text": [
      "/product_V2020_102.json.gz\n"
     ]
    },
    {
     "name": "stderr",
     "output_type": "stream",
     "text": [
      "\r",
      "  4% (16 of 359) |#                      | Elapsed Time: 0:02:02 ETA:   0:29:32"
     ]
    },
    {
     "name": "stdout",
     "output_type": "stream",
     "text": [
      "/product_V2020_95.json.gz\n"
     ]
    },
    {
     "name": "stderr",
     "output_type": "stream",
     "text": [
      "\r",
      "  4% (17 of 359) |#                      | Elapsed Time: 0:02:08 ETA:   0:29:09"
     ]
    },
    {
     "name": "stdout",
     "output_type": "stream",
     "text": [
      "/product_V2020_147.json.gz\n"
     ]
    },
    {
     "name": "stderr",
     "output_type": "stream",
     "text": [
      "\r",
      "  5% (18 of 359) |#                      | Elapsed Time: 0:02:19 ETA:   1:04:56"
     ]
    },
    {
     "name": "stdout",
     "output_type": "stream",
     "text": [
      "/product_V2020_138.json.gz\n"
     ]
    },
    {
     "name": "stderr",
     "output_type": "stream",
     "text": [
      "\r",
      "  5% (19 of 359) |#                      | Elapsed Time: 0:02:24 ETA:   0:29:26"
     ]
    },
    {
     "name": "stdout",
     "output_type": "stream",
     "text": [
      "/product_V2020_347.json.gz\n"
     ]
    },
    {
     "name": "stderr",
     "output_type": "stream",
     "text": [
      "\r",
      "  5% (20 of 359) |#                      | Elapsed Time: 0:02:36 ETA:   1:04:50"
     ]
    },
    {
     "name": "stdout",
     "output_type": "stream",
     "text": [
      "/product_V2020_164.json.gz\n"
     ]
    },
    {
     "name": "stderr",
     "output_type": "stream",
     "text": [
      "\r",
      "  5% (21 of 359) |#                      | Elapsed Time: 0:02:41 ETA:   0:29:22"
     ]
    },
    {
     "name": "stdout",
     "output_type": "stream",
     "text": [
      "/product_V2020_171.json.gz\n"
     ]
    },
    {
     "name": "stderr",
     "output_type": "stream",
     "text": [
      "\r",
      "  6% (22 of 359) |#                      | Elapsed Time: 0:02:53 ETA:   1:06:06"
     ]
    },
    {
     "name": "stdout",
     "output_type": "stream",
     "text": [
      "/product_V2020_63.json.gz\n"
     ]
    },
    {
     "name": "stderr",
     "output_type": "stream",
     "text": [
      "\r",
      "  6% (23 of 359) |#                      | Elapsed Time: 0:02:58 ETA:   0:30:20"
     ]
    },
    {
     "name": "stdout",
     "output_type": "stream",
     "text": [
      "/product_V2020_352.json.gz\n"
     ]
    },
    {
     "name": "stderr",
     "output_type": "stream",
     "text": [
      "\r",
      "  6% (24 of 359) |#                      | Elapsed Time: 0:03:10 ETA:   1:05:22"
     ]
    },
    {
     "name": "stdout",
     "output_type": "stream",
     "text": [
      "/product_V2020_129.json.gz\n"
     ]
    },
    {
     "name": "stderr",
     "output_type": "stream",
     "text": [
      "\r",
      "  6% (25 of 359) |#                      | Elapsed Time: 0:03:15 ETA:   0:29:33"
     ]
    },
    {
     "name": "stdout",
     "output_type": "stream",
     "text": [
      "/product_V2020_319.json.gz\n"
     ]
    },
    {
     "name": "stderr",
     "output_type": "stream",
     "text": [
      "\r",
      "  7% (26 of 359) |#                      | Elapsed Time: 0:03:20 ETA:   0:28:44"
     ]
    },
    {
     "name": "stdout",
     "output_type": "stream",
     "text": [
      "/product_V2020_83.json.gz\n"
     ]
    },
    {
     "name": "stderr",
     "output_type": "stream",
     "text": [
      "\r",
      "  7% (27 of 359) |#                      | Elapsed Time: 0:03:25 ETA:   0:28:46"
     ]
    },
    {
     "name": "stdout",
     "output_type": "stream",
     "text": [
      "/product_V2020_38.json.gz\n"
     ]
    },
    {
     "name": "stderr",
     "output_type": "stream",
     "text": [
      "\r",
      "  7% (28 of 359) |#                      | Elapsed Time: 0:03:37 ETA:   1:04:11"
     ]
    },
    {
     "name": "stdout",
     "output_type": "stream",
     "text": [
      "/product_V2020_195.json.gz\n"
     ]
    },
    {
     "name": "stderr",
     "output_type": "stream",
     "text": [
      "\r",
      "  8% (29 of 359) |#                      | Elapsed Time: 0:03:42 ETA:   0:28:55"
     ]
    },
    {
     "name": "stdout",
     "output_type": "stream",
     "text": [
      "/product_V2020_125.json.gz\n"
     ]
    },
    {
     "name": "stderr",
     "output_type": "stream",
     "text": [
      "\r",
      "  8% (30 of 359) |#                      | Elapsed Time: 0:03:48 ETA:   0:29:42"
     ]
    },
    {
     "name": "stdout",
     "output_type": "stream",
     "text": [
      "/product_V2020_50.json.gz\n"
     ]
    },
    {
     "name": "stderr",
     "output_type": "stream",
     "text": [
      "\r",
      "  8% (31 of 359) |#                      | Elapsed Time: 0:03:53 ETA:   0:29:30"
     ]
    },
    {
     "name": "stdout",
     "output_type": "stream",
     "text": [
      "/product_V2020_232.json.gz\n"
     ]
    },
    {
     "name": "stderr",
     "output_type": "stream",
     "text": [
      "\r",
      "  8% (32 of 359) |##                     | Elapsed Time: 0:03:59 ETA:   0:29:23"
     ]
    },
    {
     "name": "stdout",
     "output_type": "stream",
     "text": [
      "/product_V2020_97.json.gz\n"
     ]
    },
    {
     "name": "stderr",
     "output_type": "stream",
     "text": [
      "\r",
      "  9% (33 of 359) |##                     | Elapsed Time: 0:04:10 ETA:   1:04:45"
     ]
    },
    {
     "name": "stdout",
     "output_type": "stream",
     "text": [
      "/product_V2020_228.json.gz\n"
     ]
    },
    {
     "name": "stderr",
     "output_type": "stream",
     "text": [
      "\r",
      "  9% (34 of 359) |##                     | Elapsed Time: 0:04:22 ETA:   1:01:03"
     ]
    },
    {
     "name": "stdout",
     "output_type": "stream",
     "text": [
      "/product_V2020_109.json.gz\n"
     ]
    },
    {
     "name": "stderr",
     "output_type": "stream",
     "text": [
      "\r",
      "  9% (35 of 359) |##                     | Elapsed Time: 0:04:33 ETA:   1:01:16"
     ]
    },
    {
     "name": "stdout",
     "output_type": "stream",
     "text": [
      "/product_V2020_267.json.gz\n"
     ]
    },
    {
     "name": "stderr",
     "output_type": "stream",
     "text": [
      "\r",
      " 10% (36 of 359) |##                     | Elapsed Time: 0:04:38 ETA:   0:28:40"
     ]
    },
    {
     "name": "stdout",
     "output_type": "stream",
     "text": [
      "/product_V2020_316.json.gz\n"
     ]
    },
    {
     "name": "stderr",
     "output_type": "stream",
     "text": [
      "\r",
      " 10% (37 of 359) |##                     | Elapsed Time: 0:04:44 ETA:   0:28:57"
     ]
    },
    {
     "name": "stdout",
     "output_type": "stream",
     "text": [
      "/product_V2020_137.json.gz\n"
     ]
    },
    {
     "name": "stderr",
     "output_type": "stream",
     "text": [
      "\r",
      " 10% (38 of 359) |##                     | Elapsed Time: 0:04:49 ETA:   0:28:16"
     ]
    },
    {
     "name": "stdout",
     "output_type": "stream",
     "text": [
      "/product_V2020_224.json.gz\n"
     ]
    },
    {
     "name": "stderr",
     "output_type": "stream",
     "text": [
      "\r",
      " 10% (39 of 359) |##                     | Elapsed Time: 0:04:55 ETA:   0:29:02"
     ]
    },
    {
     "name": "stdout",
     "output_type": "stream",
     "text": [
      "/product_V2020_226.json.gz\n"
     ]
    },
    {
     "name": "stderr",
     "output_type": "stream",
     "text": [
      "\r",
      " 11% (40 of 359) |##                     | Elapsed Time: 0:05:00 ETA:   0:28:41"
     ]
    },
    {
     "name": "stdout",
     "output_type": "stream",
     "text": [
      "/product_V2020_163.json.gz\n"
     ]
    },
    {
     "name": "stderr",
     "output_type": "stream",
     "text": [
      "\r",
      " 11% (41 of 359) |##                     | Elapsed Time: 0:05:12 ETA:   1:02:11"
     ]
    },
    {
     "name": "stdout",
     "output_type": "stream",
     "text": [
      "/product_V2020_311.json.gz\n"
     ]
    },
    {
     "name": "stderr",
     "output_type": "stream",
     "text": [
      "\r",
      " 11% (42 of 359) |##                     | Elapsed Time: 0:05:23 ETA:   1:00:54"
     ]
    },
    {
     "name": "stdout",
     "output_type": "stream",
     "text": [
      "/product_V2020_45.json.gz\n"
     ]
    },
    {
     "name": "stderr",
     "output_type": "stream",
     "text": [
      "\r",
      " 11% (43 of 359) |##                     | Elapsed Time: 0:05:35 ETA:   1:00:53"
     ]
    },
    {
     "name": "stdout",
     "output_type": "stream",
     "text": [
      "/product_V2020_15.json.gz\n"
     ]
    },
    {
     "name": "stderr",
     "output_type": "stream",
     "text": [
      "\r",
      " 12% (44 of 359) |##                     | Elapsed Time: 0:05:40 ETA:   0:28:39"
     ]
    },
    {
     "name": "stdout",
     "output_type": "stream",
     "text": [
      "/product_V2020_205.json.gz\n"
     ]
    },
    {
     "name": "stderr",
     "output_type": "stream",
     "text": [
      "\r",
      " 12% (45 of 359) |##                     | Elapsed Time: 0:05:52 ETA:   1:03:07"
     ]
    },
    {
     "name": "stdout",
     "output_type": "stream",
     "text": [
      "/product_V2020_134.json.gz\n"
     ]
    },
    {
     "name": "stderr",
     "output_type": "stream",
     "text": [
      "\r",
      " 12% (46 of 359) |##                     | Elapsed Time: 0:05:58 ETA:   0:27:38"
     ]
    },
    {
     "name": "stdout",
     "output_type": "stream",
     "text": [
      "/product_V2020_212.json.gz\n"
     ]
    },
    {
     "name": "stderr",
     "output_type": "stream",
     "text": [
      "\r",
      " 13% (47 of 359) |###                    | Elapsed Time: 0:06:03 ETA:   0:27:22"
     ]
    },
    {
     "name": "stdout",
     "output_type": "stream",
     "text": [
      "/product_V2020_41.json.gz\n"
     ]
    },
    {
     "name": "stderr",
     "output_type": "stream",
     "text": [
      "\r",
      " 13% (48 of 359) |###                    | Elapsed Time: 0:06:08 ETA:   0:27:16"
     ]
    },
    {
     "name": "stdout",
     "output_type": "stream",
     "text": [
      "/product_V2020_159.json.gz\n"
     ]
    },
    {
     "name": "stderr",
     "output_type": "stream",
     "text": [
      "\r",
      " 13% (49 of 359) |###                    | Elapsed Time: 0:06:20 ETA:   1:00:54"
     ]
    },
    {
     "name": "stdout",
     "output_type": "stream",
     "text": [
      "/product_V2020_178.json.gz\n"
     ]
    },
    {
     "name": "stderr",
     "output_type": "stream",
     "text": [
      "\r",
      " 13% (50 of 359) |###                    | Elapsed Time: 0:06:25 ETA:   0:27:07"
     ]
    },
    {
     "name": "stdout",
     "output_type": "stream",
     "text": [
      "/product_V2020_122.json.gz\n"
     ]
    },
    {
     "name": "stderr",
     "output_type": "stream",
     "text": [
      "\r",
      " 14% (51 of 359) |###                    | Elapsed Time: 0:06:37 ETA:   0:59:52"
     ]
    },
    {
     "name": "stdout",
     "output_type": "stream",
     "text": [
      "/product_V2020_42.json.gz\n"
     ]
    },
    {
     "name": "stderr",
     "output_type": "stream",
     "text": [
      "\r",
      " 14% (52 of 359) |###                    | Elapsed Time: 0:06:42 ETA:   0:27:42"
     ]
    },
    {
     "name": "stdout",
     "output_type": "stream",
     "text": [
      "/product_V2020_126.json.gz\n"
     ]
    },
    {
     "name": "stderr",
     "output_type": "stream",
     "text": [
      "\r",
      " 14% (53 of 359) |###                    | Elapsed Time: 0:06:48 ETA:   0:27:22"
     ]
    },
    {
     "name": "stdout",
     "output_type": "stream",
     "text": [
      "/product_V2020_191.json.gz\n"
     ]
    },
    {
     "name": "stderr",
     "output_type": "stream",
     "text": [
      "\r",
      " 15% (54 of 359) |###                    | Elapsed Time: 0:06:59 ETA:   1:00:07"
     ]
    },
    {
     "name": "stdout",
     "output_type": "stream",
     "text": [
      "/product_V2020_204.json.gz\n"
     ]
    },
    {
     "name": "stderr",
     "output_type": "stream",
     "text": [
      "\r",
      " 15% (55 of 359) |###                    | Elapsed Time: 0:07:05 ETA:   0:27:04"
     ]
    },
    {
     "name": "stdout",
     "output_type": "stream",
     "text": [
      "/product_V2020_157.json.gz\n"
     ]
    },
    {
     "name": "stderr",
     "output_type": "stream",
     "text": [
      "\r",
      " 15% (56 of 359) |###                    | Elapsed Time: 0:07:10 ETA:   0:26:33"
     ]
    },
    {
     "name": "stdout",
     "output_type": "stream",
     "text": [
      "/product_V2020_99.json.gz\n"
     ]
    },
    {
     "name": "stderr",
     "output_type": "stream",
     "text": [
      "\r",
      " 15% (57 of 359) |###                    | Elapsed Time: 0:07:22 ETA:   0:58:40"
     ]
    },
    {
     "name": "stdout",
     "output_type": "stream",
     "text": [
      "/product_V2020_101.json.gz\n"
     ]
    },
    {
     "name": "stderr",
     "output_type": "stream",
     "text": [
      "\r",
      " 16% (58 of 359) |###                    | Elapsed Time: 0:07:27 ETA:   0:26:35"
     ]
    },
    {
     "name": "stdout",
     "output_type": "stream",
     "text": [
      "/product_V2020_75.json.gz\n"
     ]
    },
    {
     "name": "stderr",
     "output_type": "stream",
     "text": [
      "\r",
      " 16% (59 of 359) |###                    | Elapsed Time: 0:07:39 ETA:   0:58:40"
     ]
    },
    {
     "name": "stdout",
     "output_type": "stream",
     "text": [
      "/product_V2020_188.json.gz\n"
     ]
    },
    {
     "name": "stderr",
     "output_type": "stream",
     "text": [
      "\r",
      " 16% (60 of 359) |###                    | Elapsed Time: 0:07:50 ETA:   0:58:29"
     ]
    },
    {
     "name": "stdout",
     "output_type": "stream",
     "text": [
      "/product_V2020_31.json.gz\n"
     ]
    },
    {
     "name": "stderr",
     "output_type": "stream",
     "text": [
      "\r",
      " 16% (61 of 359) |###                    | Elapsed Time: 0:07:56 ETA:   0:26:36"
     ]
    },
    {
     "name": "stdout",
     "output_type": "stream",
     "text": [
      "/product_V2020_298.json.gz\n"
     ]
    },
    {
     "name": "stderr",
     "output_type": "stream",
     "text": [
      "\r",
      " 17% (62 of 359) |###                    | Elapsed Time: 0:08:07 ETA:   0:56:36"
     ]
    },
    {
     "name": "stdout",
     "output_type": "stream",
     "text": [
      "/product_V2020_93.json.gz\n"
     ]
    },
    {
     "name": "stderr",
     "output_type": "stream",
     "text": [
      "\r",
      " 17% (63 of 359) |####                   | Elapsed Time: 0:08:19 ETA:   0:56:23"
     ]
    },
    {
     "name": "stdout",
     "output_type": "stream",
     "text": [
      "/product_V2020_56.json.gz\n"
     ]
    },
    {
     "name": "stderr",
     "output_type": "stream",
     "text": [
      "\r",
      " 17% (64 of 359) |####                   | Elapsed Time: 0:08:24 ETA:   0:26:40"
     ]
    },
    {
     "name": "stdout",
     "output_type": "stream",
     "text": [
      "/product_V2020_327.json.gz\n"
     ]
    },
    {
     "name": "stderr",
     "output_type": "stream",
     "text": [
      "\r",
      " 18% (65 of 359) |####                   | Elapsed Time: 0:08:36 ETA:   0:58:29"
     ]
    },
    {
     "name": "stdout",
     "output_type": "stream",
     "text": [
      "/product_V2020_285.json.gz\n"
     ]
    },
    {
     "name": "stderr",
     "output_type": "stream",
     "text": [
      "\r",
      " 18% (66 of 359) |####                   | Elapsed Time: 0:08:48 ETA:   0:58:47"
     ]
    },
    {
     "name": "stdout",
     "output_type": "stream",
     "text": [
      "/product_V2020_330.json.gz\n"
     ]
    },
    {
     "name": "stderr",
     "output_type": "stream",
     "text": [
      "\r",
      " 18% (67 of 359) |####                   | Elapsed Time: 0:08:53 ETA:   0:25:49"
     ]
    },
    {
     "name": "stdout",
     "output_type": "stream",
     "text": [
      "/product_V2020_57.json.gz\n"
     ]
    },
    {
     "name": "stderr",
     "output_type": "stream",
     "text": [
      "\r",
      " 18% (68 of 359) |####                   | Elapsed Time: 0:08:59 ETA:   0:25:57"
     ]
    },
    {
     "name": "stdout",
     "output_type": "stream",
     "text": [
      "/product_V2020_220.json.gz\n"
     ]
    },
    {
     "name": "stderr",
     "output_type": "stream",
     "text": [
      "\r",
      " 19% (69 of 359) |####                   | Elapsed Time: 0:09:10 ETA:   0:56:03"
     ]
    },
    {
     "name": "stdout",
     "output_type": "stream",
     "text": [
      "/product_V2020_351.json.gz\n"
     ]
    },
    {
     "name": "stderr",
     "output_type": "stream",
     "text": [
      "\r",
      " 19% (70 of 359) |####                   | Elapsed Time: 0:09:16 ETA:   0:25:33"
     ]
    },
    {
     "name": "stdout",
     "output_type": "stream",
     "text": [
      "/product_V2020_66.json.gz\n"
     ]
    },
    {
     "name": "stderr",
     "output_type": "stream",
     "text": [
      "\r",
      " 19% (71 of 359) |####                   | Elapsed Time: 0:09:21 ETA:   0:25:56"
     ]
    },
    {
     "name": "stdout",
     "output_type": "stream",
     "text": [
      "/product_V2020_60.json.gz\n"
     ]
    },
    {
     "name": "stderr",
     "output_type": "stream",
     "text": [
      "\r",
      " 20% (72 of 359) |####                   | Elapsed Time: 0:09:33 ETA:   0:56:55"
     ]
    },
    {
     "name": "stdout",
     "output_type": "stream",
     "text": [
      "/product_V2020_51.json.gz\n"
     ]
    },
    {
     "name": "stderr",
     "output_type": "stream",
     "text": [
      "\r",
      " 20% (73 of 359) |####                   | Elapsed Time: 0:09:38 ETA:   0:26:09"
     ]
    },
    {
     "name": "stdout",
     "output_type": "stream",
     "text": [
      "/product_V2020_185.json.gz\n"
     ]
    },
    {
     "name": "stderr",
     "output_type": "stream",
     "text": [
      "\r",
      " 20% (74 of 359) |####                   | Elapsed Time: 0:09:50 ETA:   0:56:50"
     ]
    },
    {
     "name": "stdout",
     "output_type": "stream",
     "text": [
      "/product_V2020_315.json.gz\n"
     ]
    },
    {
     "name": "stderr",
     "output_type": "stream",
     "text": [
      "\r",
      " 20% (75 of 359) |####                   | Elapsed Time: 0:10:02 ETA:   0:54:08"
     ]
    },
    {
     "name": "stdout",
     "output_type": "stream",
     "text": [
      "/product_V2020_244.json.gz\n"
     ]
    },
    {
     "name": "stderr",
     "output_type": "stream",
     "text": [
      "\r",
      " 21% (76 of 359) |####                   | Elapsed Time: 0:10:14 ETA:   0:55:53"
     ]
    },
    {
     "name": "stdout",
     "output_type": "stream",
     "text": [
      "/product_V2020_33.json.gz\n"
     ]
    },
    {
     "name": "stderr",
     "output_type": "stream",
     "text": [
      "\r",
      " 21% (77 of 359) |####                   | Elapsed Time: 0:10:26 ETA:   0:57:09"
     ]
    },
    {
     "name": "stdout",
     "output_type": "stream",
     "text": [
      "/product_V2020_273.json.gz\n"
     ]
    },
    {
     "name": "stderr",
     "output_type": "stream",
     "text": [
      "\r",
      " 21% (78 of 359) |####                   | Elapsed Time: 0:10:31 ETA:   0:26:05"
     ]
    },
    {
     "name": "stdout",
     "output_type": "stream",
     "text": [
      "/product_V2020_231.json.gz\n"
     ]
    },
    {
     "name": "stderr",
     "output_type": "stream",
     "text": [
      "\r",
      " 22% (79 of 359) |#####                  | Elapsed Time: 0:10:37 ETA:   0:26:37"
     ]
    },
    {
     "name": "stdout",
     "output_type": "stream",
     "text": [
      "/product_V2020_124.json.gz\n"
     ]
    },
    {
     "name": "stderr",
     "output_type": "stream",
     "text": [
      "\r",
      " 22% (80 of 359) |#####                  | Elapsed Time: 0:10:50 ETA:   0:59:29"
     ]
    },
    {
     "name": "stdout",
     "output_type": "stream",
     "text": [
      "/product_V2020_32.json.gz\n"
     ]
    },
    {
     "name": "stderr",
     "output_type": "stream",
     "text": [
      "\r",
      " 22% (81 of 359) |#####                  | Elapsed Time: 0:10:55 ETA:   0:25:12"
     ]
    },
    {
     "name": "stdout",
     "output_type": "stream",
     "text": [
      "/product_V2020_207.json.gz\n"
     ]
    },
    {
     "name": "stderr",
     "output_type": "stream",
     "text": [
      "\r",
      " 22% (82 of 359) |#####                  | Elapsed Time: 0:11:08 ETA:   0:57:36"
     ]
    },
    {
     "name": "stdout",
     "output_type": "stream",
     "text": [
      "/product_V2020_4.json.gz\n"
     ]
    },
    {
     "name": "stderr",
     "output_type": "stream",
     "text": [
      "\r",
      " 23% (83 of 359) |#####                  | Elapsed Time: 0:11:13 ETA:   0:24:47"
     ]
    },
    {
     "name": "stdout",
     "output_type": "stream",
     "text": [
      "/product_V2020_276.json.gz\n"
     ]
    },
    {
     "name": "stderr",
     "output_type": "stream",
     "text": [
      "\r",
      " 23% (84 of 359) |#####                  | Elapsed Time: 0:11:19 ETA:   0:24:52"
     ]
    },
    {
     "name": "stdout",
     "output_type": "stream",
     "text": [
      "/product_V2020_156.json.gz\n"
     ]
    },
    {
     "name": "stderr",
     "output_type": "stream",
     "text": [
      "\r",
      " 23% (85 of 359) |#####                  | Elapsed Time: 0:11:24 ETA:   0:24:46"
     ]
    },
    {
     "name": "stdout",
     "output_type": "stream",
     "text": [
      "/product_V2020_245.json.gz\n"
     ]
    },
    {
     "name": "stderr",
     "output_type": "stream",
     "text": [
      "\r",
      " 23% (86 of 359) |#####                  | Elapsed Time: 0:11:30 ETA:   0:25:27"
     ]
    },
    {
     "name": "stdout",
     "output_type": "stream",
     "text": [
      "/product_V2020_143.json.gz\n"
     ]
    },
    {
     "name": "stderr",
     "output_type": "stream",
     "text": [
      "\r",
      " 24% (87 of 359) |#####                  | Elapsed Time: 0:11:43 ETA:   0:59:04"
     ]
    },
    {
     "name": "stdout",
     "output_type": "stream",
     "text": [
      "/product_V2020_179.json.gz\n"
     ]
    },
    {
     "name": "stderr",
     "output_type": "stream",
     "text": [
      "\r",
      " 24% (88 of 359) |#####                  | Elapsed Time: 0:11:48 ETA:   0:23:52"
     ]
    },
    {
     "name": "stdout",
     "output_type": "stream",
     "text": [
      "/product_V2020_6.json.gz\n"
     ]
    },
    {
     "name": "stderr",
     "output_type": "stream",
     "text": [
      "\r",
      " 24% (89 of 359) |#####                  | Elapsed Time: 0:12:00 ETA:   0:54:43"
     ]
    },
    {
     "name": "stdout",
     "output_type": "stream",
     "text": [
      "/product_V2020_335.json.gz\n"
     ]
    },
    {
     "name": "stderr",
     "output_type": "stream",
     "text": [
      "\r",
      " 25% (90 of 359) |#####                  | Elapsed Time: 0:12:05 ETA:   0:23:26"
     ]
    },
    {
     "name": "stdout",
     "output_type": "stream",
     "text": [
      "/product_V2020_249.json.gz\n"
     ]
    },
    {
     "name": "stderr",
     "output_type": "stream",
     "text": [
      "\r",
      " 25% (91 of 359) |#####                  | Elapsed Time: 0:12:11 ETA:   0:23:01"
     ]
    },
    {
     "name": "stdout",
     "output_type": "stream",
     "text": [
      "/product_V2020_58.json.gz\n"
     ]
    },
    {
     "name": "stderr",
     "output_type": "stream",
     "text": [
      "\r",
      " 25% (92 of 359) |#####                  | Elapsed Time: 0:12:23 ETA:   0:55:45"
     ]
    },
    {
     "name": "stdout",
     "output_type": "stream",
     "text": [
      "/product_V2020_140.json.gz\n"
     ]
    },
    {
     "name": "stderr",
     "output_type": "stream",
     "text": [
      "\r",
      " 25% (93 of 359) |#####                  | Elapsed Time: 0:12:28 ETA:   0:23:48"
     ]
    },
    {
     "name": "stdout",
     "output_type": "stream",
     "text": [
      "/product_V2020_8.json.gz\n"
     ]
    },
    {
     "name": "stderr",
     "output_type": "stream",
     "text": [
      "\r",
      " 26% (94 of 359) |######                 | Elapsed Time: 0:12:34 ETA:   0:24:51"
     ]
    },
    {
     "name": "stdout",
     "output_type": "stream",
     "text": [
      "/product_V2020_243.json.gz\n"
     ]
    },
    {
     "name": "stderr",
     "output_type": "stream",
     "text": [
      "\r",
      " 26% (95 of 359) |######                 | Elapsed Time: 0:12:40 ETA:   0:24:10"
     ]
    },
    {
     "name": "stdout",
     "output_type": "stream",
     "text": [
      "/product_V2020_299.json.gz\n"
     ]
    },
    {
     "name": "stderr",
     "output_type": "stream",
     "text": [
      "\r",
      " 26% (96 of 359) |######                 | Elapsed Time: 0:12:45 ETA:   0:23:25"
     ]
    },
    {
     "name": "stdout",
     "output_type": "stream",
     "text": [
      "/product_V2020_353.json.gz\n"
     ]
    },
    {
     "name": "stderr",
     "output_type": "stream",
     "text": [
      "\r",
      " 27% (97 of 359) |######                 | Elapsed Time: 0:12:50 ETA:   0:23:38"
     ]
    },
    {
     "name": "stdout",
     "output_type": "stream",
     "text": [
      "/product_V2020_107.json.gz\n"
     ]
    },
    {
     "name": "stderr",
     "output_type": "stream",
     "text": [
      "\r",
      " 27% (98 of 359) |######                 | Elapsed Time: 0:13:03 ETA:   0:54:37"
     ]
    },
    {
     "name": "stdout",
     "output_type": "stream",
     "text": [
      "/product_V2020_283.json.gz\n"
     ]
    },
    {
     "name": "stderr",
     "output_type": "stream",
     "text": [
      "\r",
      " 27% (99 of 359) |######                 | Elapsed Time: 0:13:15 ETA:   0:53:28"
     ]
    },
    {
     "name": "stdout",
     "output_type": "stream",
     "text": [
      "/product_V2020_40.json.gz\n"
     ]
    },
    {
     "name": "stderr",
     "output_type": "stream",
     "text": [
      "\r",
      " 27% (100 of 359) |######                | Elapsed Time: 0:13:28 ETA:   0:53:35"
     ]
    },
    {
     "name": "stdout",
     "output_type": "stream",
     "text": [
      "/product_V2020_323.json.gz\n"
     ]
    },
    {
     "name": "stderr",
     "output_type": "stream",
     "text": [
      "\r",
      " 28% (101 of 359) |######                | Elapsed Time: 0:13:33 ETA:   0:23:16"
     ]
    },
    {
     "name": "stdout",
     "output_type": "stream",
     "text": [
      "/product_V2020_25.json.gz\n"
     ]
    },
    {
     "name": "stderr",
     "output_type": "stream",
     "text": [
      "\r",
      " 28% (102 of 359) |######                | Elapsed Time: 0:13:39 ETA:   0:23:55"
     ]
    },
    {
     "name": "stdout",
     "output_type": "stream",
     "text": [
      "/product_V2020_168.json.gz\n"
     ]
    },
    {
     "name": "stderr",
     "output_type": "stream",
     "text": [
      "\r",
      " 28% (103 of 359) |######                | Elapsed Time: 0:13:51 ETA:   0:53:35"
     ]
    },
    {
     "name": "stdout",
     "output_type": "stream",
     "text": [
      "/product_V2020_151.json.gz\n"
     ]
    },
    {
     "name": "stderr",
     "output_type": "stream",
     "text": [
      "\r",
      " 28% (104 of 359) |######                | Elapsed Time: 0:13:57 ETA:   0:22:54"
     ]
    },
    {
     "name": "stdout",
     "output_type": "stream",
     "text": [
      "/product_V2020_48.json.gz\n"
     ]
    },
    {
     "name": "stderr",
     "output_type": "stream",
     "text": [
      "\r",
      " 29% (105 of 359) |######                | Elapsed Time: 0:14:02 ETA:   0:22:38"
     ]
    },
    {
     "name": "stdout",
     "output_type": "stream",
     "text": [
      "/product_V2020_251.json.gz\n"
     ]
    },
    {
     "name": "stderr",
     "output_type": "stream",
     "text": [
      "\r",
      " 29% (106 of 359) |######                | Elapsed Time: 0:14:14 ETA:   0:52:09"
     ]
    },
    {
     "name": "stdout",
     "output_type": "stream",
     "text": [
      "/product_V2020_94.json.gz\n"
     ]
    },
    {
     "name": "stderr",
     "output_type": "stream",
     "text": [
      "\r",
      " 29% (107 of 359) |######                | Elapsed Time: 0:14:27 ETA:   0:52:19"
     ]
    },
    {
     "name": "stdout",
     "output_type": "stream",
     "text": [
      "/product_V2020_119.json.gz\n"
     ]
    },
    {
     "name": "stderr",
     "output_type": "stream",
     "text": [
      "\r",
      " 30% (108 of 359) |######                | Elapsed Time: 0:14:39 ETA:   0:52:26"
     ]
    },
    {
     "name": "stdout",
     "output_type": "stream",
     "text": [
      "/product_V2020_217.json.gz\n"
     ]
    },
    {
     "name": "stderr",
     "output_type": "stream",
     "text": [
      "\r",
      " 30% (109 of 359) |######                | Elapsed Time: 0:14:52 ETA:   0:50:48"
     ]
    },
    {
     "name": "stdout",
     "output_type": "stream",
     "text": [
      "/product_V2020_106.json.gz\n"
     ]
    },
    {
     "name": "stderr",
     "output_type": "stream",
     "text": [
      "\r",
      " 30% (110 of 359) |######                | Elapsed Time: 0:14:57 ETA:   0:22:29"
     ]
    },
    {
     "name": "stdout",
     "output_type": "stream",
     "text": [
      "/product_V2020_130.json.gz\n"
     ]
    },
    {
     "name": "stderr",
     "output_type": "stream",
     "text": [
      "\r",
      " 30% (111 of 359) |######                | Elapsed Time: 0:15:02 ETA:   0:22:21"
     ]
    },
    {
     "name": "stdout",
     "output_type": "stream",
     "text": [
      "/product_V2020_173.json.gz\n"
     ]
    },
    {
     "name": "stderr",
     "output_type": "stream",
     "text": [
      "\r",
      " 31% (112 of 359) |######                | Elapsed Time: 0:15:15 ETA:   0:50:48"
     ]
    },
    {
     "name": "stdout",
     "output_type": "stream",
     "text": [
      "/product_V2020_359.json.gz\n"
     ]
    },
    {
     "name": "stderr",
     "output_type": "stream",
     "text": [
      "\r",
      " 31% (113 of 359) |######                | Elapsed Time: 0:15:20 ETA:   0:22:32"
     ]
    },
    {
     "name": "stdout",
     "output_type": "stream",
     "text": [
      "/product_V2020_265.json.gz\n"
     ]
    },
    {
     "name": "stderr",
     "output_type": "stream",
     "text": [
      "\r",
      " 31% (114 of 359) |######                | Elapsed Time: 0:15:34 ETA:   0:54:24"
     ]
    },
    {
     "name": "stdout",
     "output_type": "stream",
     "text": [
      "/product_V2020_131.json.gz\n"
     ]
    },
    {
     "name": "stderr",
     "output_type": "stream",
     "text": [
      "\r",
      " 32% (115 of 359) |#######               | Elapsed Time: 0:15:39 ETA:   0:23:02"
     ]
    },
    {
     "name": "stdout",
     "output_type": "stream",
     "text": [
      "/product_V2020_356.json.gz\n"
     ]
    },
    {
     "name": "stderr",
     "output_type": "stream",
     "text": [
      "\r",
      " 32% (116 of 359) |#######               | Elapsed Time: 0:15:45 ETA:   0:22:18"
     ]
    },
    {
     "name": "stdout",
     "output_type": "stream",
     "text": [
      "/product_V2020_104.json.gz\n"
     ]
    },
    {
     "name": "stderr",
     "output_type": "stream",
     "text": [
      "\r",
      " 32% (117 of 359) |#######               | Elapsed Time: 0:15:50 ETA:   0:21:38"
     ]
    },
    {
     "name": "stdout",
     "output_type": "stream",
     "text": [
      "/product_V2020_269.json.gz\n"
     ]
    },
    {
     "name": "stderr",
     "output_type": "stream",
     "text": [
      "\r",
      " 32% (118 of 359) |#######               | Elapsed Time: 0:16:03 ETA:   0:50:22"
     ]
    },
    {
     "name": "stdout",
     "output_type": "stream",
     "text": [
      "/product_V2020_70.json.gz\n"
     ]
    },
    {
     "name": "stderr",
     "output_type": "stream",
     "text": [
      "\r",
      " 33% (119 of 359) |#######               | Elapsed Time: 0:16:08 ETA:   0:21:14"
     ]
    },
    {
     "name": "stdout",
     "output_type": "stream",
     "text": [
      "/product_V2020_292.json.gz\n"
     ]
    },
    {
     "name": "stderr",
     "output_type": "stream",
     "text": [
      "\r",
      " 33% (120 of 359) |#######               | Elapsed Time: 0:16:21 ETA:   0:50:11"
     ]
    },
    {
     "name": "stdout",
     "output_type": "stream",
     "text": [
      "/product_V2020_77.json.gz\n"
     ]
    },
    {
     "name": "stderr",
     "output_type": "stream",
     "text": [
      "\r",
      " 33% (121 of 359) |#######               | Elapsed Time: 0:16:26 ETA:   0:21:45"
     ]
    },
    {
     "name": "stdout",
     "output_type": "stream",
     "text": [
      "/product_V2020_59.json.gz\n"
     ]
    },
    {
     "name": "stderr",
     "output_type": "stream",
     "text": [
      "\r",
      " 33% (122 of 359) |#######               | Elapsed Time: 0:16:39 ETA:   0:52:03"
     ]
    },
    {
     "name": "stdout",
     "output_type": "stream",
     "text": [
      "/product_V2020_338.json.gz\n"
     ]
    },
    {
     "name": "stderr",
     "output_type": "stream",
     "text": [
      "\r",
      " 34% (123 of 359) |#######               | Elapsed Time: 0:16:52 ETA:   0:49:35"
     ]
    },
    {
     "name": "stdout",
     "output_type": "stream",
     "text": [
      "/product_V2020_76.json.gz\n"
     ]
    },
    {
     "name": "stderr",
     "output_type": "stream",
     "text": [
      "\r",
      " 34% (124 of 359) |#######               | Elapsed Time: 0:16:57 ETA:   0:20:55"
     ]
    },
    {
     "name": "stdout",
     "output_type": "stream",
     "text": [
      "/product_V2020_340.json.gz\n"
     ]
    },
    {
     "name": "stderr",
     "output_type": "stream",
     "text": [
      "\r",
      " 34% (125 of 359) |#######               | Elapsed Time: 0:17:03 ETA:   0:20:59"
     ]
    },
    {
     "name": "stdout",
     "output_type": "stream",
     "text": [
      "/product_V2020_326.json.gz\n"
     ]
    },
    {
     "name": "stderr",
     "output_type": "stream",
     "text": [
      "\r",
      " 35% (126 of 359) |#######               | Elapsed Time: 0:17:15 ETA:   0:48:10"
     ]
    },
    {
     "name": "stdout",
     "output_type": "stream",
     "text": [
      "/product_V2020_286.json.gz\n"
     ]
    },
    {
     "name": "stderr",
     "output_type": "stream",
     "text": [
      "\r",
      " 35% (127 of 359) |#######               | Elapsed Time: 0:17:20 ETA:   0:20:43"
     ]
    },
    {
     "name": "stdout",
     "output_type": "stream",
     "text": [
      "/product_V2020_46.json.gz\n"
     ]
    },
    {
     "name": "stderr",
     "output_type": "stream",
     "text": [
      "\r",
      " 35% (128 of 359) |#######               | Elapsed Time: 0:17:33 ETA:   0:48:16"
     ]
    },
    {
     "name": "stdout",
     "output_type": "stream",
     "text": [
      "/product_V2020_13.json.gz\n"
     ]
    },
    {
     "name": "stderr",
     "output_type": "stream",
     "text": [
      "\r",
      " 35% (129 of 359) |#######               | Elapsed Time: 0:17:46 ETA:   0:49:25"
     ]
    },
    {
     "name": "stdout",
     "output_type": "stream",
     "text": [
      "/product_V2020_37.json.gz\n"
     ]
    },
    {
     "name": "stderr",
     "output_type": "stream",
     "text": [
      "\r",
      " 36% (130 of 359) |#######               | Elapsed Time: 0:17:51 ETA:   0:21:23"
     ]
    },
    {
     "name": "stdout",
     "output_type": "stream",
     "text": [
      "/product_V2020_317.json.gz\n"
     ]
    },
    {
     "name": "stderr",
     "output_type": "stream",
     "text": [
      "\r",
      " 36% (131 of 359) |########              | Elapsed Time: 0:17:57 ETA:   0:20:48"
     ]
    },
    {
     "name": "stdout",
     "output_type": "stream",
     "text": [
      "/product_V2020_192.json.gz\n"
     ]
    },
    {
     "name": "stderr",
     "output_type": "stream",
     "text": [
      "\r",
      " 36% (132 of 359) |########              | Elapsed Time: 0:18:02 ETA:   0:20:52"
     ]
    },
    {
     "name": "stdout",
     "output_type": "stream",
     "text": [
      "/product_V2020_223.json.gz\n"
     ]
    },
    {
     "name": "stderr",
     "output_type": "stream",
     "text": [
      "\r",
      " 37% (133 of 359) |########              | Elapsed Time: 0:18:08 ETA:   0:21:09"
     ]
    },
    {
     "name": "stdout",
     "output_type": "stream",
     "text": [
      "/product_V2020_264.json.gz\n"
     ]
    },
    {
     "name": "stderr",
     "output_type": "stream",
     "text": [
      "\r",
      " 37% (134 of 359) |########              | Elapsed Time: 0:18:13 ETA:   0:20:42"
     ]
    },
    {
     "name": "stdout",
     "output_type": "stream",
     "text": [
      "/product_V2020_282.json.gz\n"
     ]
    },
    {
     "name": "stderr",
     "output_type": "stream",
     "text": [
      "\r",
      " 37% (135 of 359) |########              | Elapsed Time: 0:18:26 ETA:   0:47:18"
     ]
    },
    {
     "name": "stdout",
     "output_type": "stream",
     "text": [
      "/product_V2020_7.json.gz\n"
     ]
    },
    {
     "name": "stderr",
     "output_type": "stream",
     "text": [
      "\r",
      " 37% (136 of 359) |########              | Elapsed Time: 0:18:32 ETA:   0:21:00"
     ]
    },
    {
     "name": "stdout",
     "output_type": "stream",
     "text": [
      "/product_V2020_287.json.gz\n"
     ]
    },
    {
     "name": "stderr",
     "output_type": "stream",
     "text": [
      "\r",
      " 38% (137 of 359) |########              | Elapsed Time: 0:18:37 ETA:   0:21:06"
     ]
    },
    {
     "name": "stdout",
     "output_type": "stream",
     "text": [
      "/product_V2020_329.json.gz\n"
     ]
    },
    {
     "name": "stderr",
     "output_type": "stream",
     "text": [
      "\r",
      " 38% (138 of 359) |########              | Elapsed Time: 0:18:51 ETA:   0:48:24"
     ]
    },
    {
     "name": "stdout",
     "output_type": "stream",
     "text": [
      "/product_V2020_14.json.gz\n"
     ]
    },
    {
     "name": "stderr",
     "output_type": "stream",
     "text": [
      "\r",
      " 38% (139 of 359) |########              | Elapsed Time: 0:18:56 ETA:   0:19:39"
     ]
    },
    {
     "name": "stdout",
     "output_type": "stream",
     "text": [
      "/product_V2020_78.json.gz\n"
     ]
    },
    {
     "name": "stderr",
     "output_type": "stream",
     "text": [
      "\r",
      " 38% (140 of 359) |########              | Elapsed Time: 0:19:02 ETA:   0:20:24"
     ]
    },
    {
     "name": "stdout",
     "output_type": "stream",
     "text": [
      "/product_V2020_271.json.gz\n"
     ]
    },
    {
     "name": "stderr",
     "output_type": "stream",
     "text": [
      "\r",
      " 39% (141 of 359) |########              | Elapsed Time: 0:19:14 ETA:   0:45:24"
     ]
    },
    {
     "name": "stdout",
     "output_type": "stream",
     "text": [
      "/product_V2020_90.json.gz\n"
     ]
    },
    {
     "name": "stderr",
     "output_type": "stream",
     "text": [
      "\r",
      " 39% (142 of 359) |########              | Elapsed Time: 0:19:26 ETA:   0:44:21"
     ]
    },
    {
     "name": "stdout",
     "output_type": "stream",
     "text": [
      "/product_V2020_313.json.gz\n"
     ]
    },
    {
     "name": "stderr",
     "output_type": "stream",
     "text": [
      "\r",
      " 39% (143 of 359) |########              | Elapsed Time: 0:19:39 ETA:   0:47:06"
     ]
    },
    {
     "name": "stdout",
     "output_type": "stream",
     "text": [
      "/product_V2020_215.json.gz\n"
     ]
    },
    {
     "name": "stderr",
     "output_type": "stream",
     "text": [
      "\r",
      " 40% (144 of 359) |########              | Elapsed Time: 0:19:53 ETA:   0:47:13"
     ]
    },
    {
     "name": "stdout",
     "output_type": "stream",
     "text": [
      "/product_V2020_252.json.gz\n"
     ]
    },
    {
     "name": "stderr",
     "output_type": "stream",
     "text": [
      "\r",
      " 40% (145 of 359) |########              | Elapsed Time: 0:20:05 ETA:   0:44:06"
     ]
    },
    {
     "name": "stdout",
     "output_type": "stream",
     "text": [
      "/product_V2020_237.json.gz\n"
     ]
    },
    {
     "name": "stderr",
     "output_type": "stream",
     "text": [
      "\r",
      " 40% (146 of 359) |########              | Elapsed Time: 0:20:18 ETA:   0:44:51"
     ]
    },
    {
     "name": "stdout",
     "output_type": "stream",
     "text": [
      "/product_V2020_111.json.gz\n"
     ]
    },
    {
     "name": "stderr",
     "output_type": "stream",
     "text": [
      "\r",
      " 40% (147 of 359) |#########             | Elapsed Time: 0:20:23 ETA:   0:20:17"
     ]
    },
    {
     "name": "stdout",
     "output_type": "stream",
     "text": [
      "/product_V2020_120.json.gz\n"
     ]
    },
    {
     "name": "stderr",
     "output_type": "stream",
     "text": [
      "\r",
      " 41% (148 of 359) |#########             | Elapsed Time: 0:20:36 ETA:   0:45:18"
     ]
    },
    {
     "name": "stdout",
     "output_type": "stream",
     "text": [
      "/product_V2020_162.json.gz\n"
     ]
    },
    {
     "name": "stderr",
     "output_type": "stream",
     "text": [
      "\r",
      " 41% (149 of 359) |#########             | Elapsed Time: 0:20:50 ETA:   0:46:29"
     ]
    },
    {
     "name": "stdout",
     "output_type": "stream",
     "text": [
      "/product_V2020_89.json.gz\n"
     ]
    },
    {
     "name": "stderr",
     "output_type": "stream",
     "text": [
      "\r",
      " 41% (150 of 359) |#########             | Elapsed Time: 0:20:55 ETA:   0:19:13"
     ]
    },
    {
     "name": "stdout",
     "output_type": "stream",
     "text": [
      "/product_V2020_341.json.gz\n"
     ]
    },
    {
     "name": "stderr",
     "output_type": "stream",
     "text": [
      "\r",
      " 42% (151 of 359) |#########             | Elapsed Time: 0:21:07 ETA:   0:42:36"
     ]
    },
    {
     "name": "stdout",
     "output_type": "stream",
     "text": [
      "/product_V2020_20.json.gz\n"
     ]
    },
    {
     "name": "stderr",
     "output_type": "stream",
     "text": [
      "\r",
      " 42% (152 of 359) |#########             | Elapsed Time: 0:21:20 ETA:   0:42:08"
     ]
    },
    {
     "name": "stdout",
     "output_type": "stream",
     "text": [
      "/product_V2020_247.json.gz\n"
     ]
    },
    {
     "name": "stderr",
     "output_type": "stream",
     "text": [
      "\r",
      " 42% (153 of 359) |#########             | Elapsed Time: 0:21:32 ETA:   0:42:51"
     ]
    },
    {
     "name": "stdout",
     "output_type": "stream",
     "text": [
      "/product_V2020_281.json.gz\n"
     ]
    },
    {
     "name": "stderr",
     "output_type": "stream",
     "text": [
      "\r",
      " 42% (154 of 359) |#########             | Elapsed Time: 0:21:38 ETA:   0:19:00"
     ]
    },
    {
     "name": "stdout",
     "output_type": "stream",
     "text": [
      "/product_V2020_175.json.gz\n"
     ]
    },
    {
     "name": "stderr",
     "output_type": "stream",
     "text": [
      "\r",
      " 43% (155 of 359) |#########             | Elapsed Time: 0:21:51 ETA:   0:45:39"
     ]
    },
    {
     "name": "stdout",
     "output_type": "stream",
     "text": [
      "/product_V2020_336.json.gz\n"
     ]
    },
    {
     "name": "stderr",
     "output_type": "stream",
     "text": [
      "\r",
      " 43% (156 of 359) |#########             | Elapsed Time: 0:22:04 ETA:   0:42:38"
     ]
    },
    {
     "name": "stdout",
     "output_type": "stream",
     "text": [
      "/product_V2020_11.json.gz\n"
     ]
    },
    {
     "name": "stderr",
     "output_type": "stream",
     "text": [
      "\r",
      " 43% (157 of 359) |#########             | Elapsed Time: 0:22:16 ETA:   0:42:10"
     ]
    },
    {
     "name": "stdout",
     "output_type": "stream",
     "text": [
      "/product_V2020_110.json.gz\n"
     ]
    },
    {
     "name": "stderr",
     "output_type": "stream",
     "text": [
      "\r",
      " 44% (158 of 359) |#########             | Elapsed Time: 0:22:22 ETA:   0:19:01"
     ]
    },
    {
     "name": "stdout",
     "output_type": "stream",
     "text": [
      "/product_V2020_36.json.gz\n"
     ]
    },
    {
     "name": "stderr",
     "output_type": "stream",
     "text": [
      "\r",
      " 44% (159 of 359) |#########             | Elapsed Time: 0:22:35 ETA:   0:42:32"
     ]
    },
    {
     "name": "stdout",
     "output_type": "stream",
     "text": [
      "/product_V2020_256.json.gz\n"
     ]
    },
    {
     "name": "stderr",
     "output_type": "stream",
     "text": [
      "\r",
      " 44% (160 of 359) |#########             | Elapsed Time: 0:22:40 ETA:   0:19:30"
     ]
    },
    {
     "name": "stdout",
     "output_type": "stream",
     "text": [
      "/product_V2020_301.json.gz\n"
     ]
    },
    {
     "name": "stderr",
     "output_type": "stream",
     "text": [
      "\r",
      " 44% (161 of 359) |#########             | Elapsed Time: 0:22:46 ETA:   0:18:52"
     ]
    },
    {
     "name": "stdout",
     "output_type": "stream",
     "text": [
      "/product_V2020_105.json.gz\n"
     ]
    },
    {
     "name": "stderr",
     "output_type": "stream",
     "text": [
      "\r",
      " 45% (162 of 359) |#########             | Elapsed Time: 0:23:00 ETA:   0:43:51"
     ]
    },
    {
     "name": "stdout",
     "output_type": "stream",
     "text": [
      "/product_V2020_85.json.gz\n"
     ]
    },
    {
     "name": "stderr",
     "output_type": "stream",
     "text": [
      "\r",
      " 45% (163 of 359) |#########             | Elapsed Time: 0:23:05 ETA:   0:18:13"
     ]
    },
    {
     "name": "stdout",
     "output_type": "stream",
     "text": [
      "/product_V2020_227.json.gz\n"
     ]
    },
    {
     "name": "stderr",
     "output_type": "stream",
     "text": [
      "\r",
      " 45% (164 of 359) |##########            | Elapsed Time: 0:23:18 ETA:   0:40:48"
     ]
    },
    {
     "name": "stdout",
     "output_type": "stream",
     "text": [
      "/product_V2020_357.json.gz\n"
     ]
    },
    {
     "name": "stderr",
     "output_type": "stream",
     "text": [
      "\r",
      " 45% (165 of 359) |##########            | Elapsed Time: 0:23:23 ETA:   0:17:56"
     ]
    },
    {
     "name": "stdout",
     "output_type": "stream",
     "text": [
      "/product_V2020_289.json.gz\n"
     ]
    },
    {
     "name": "stderr",
     "output_type": "stream",
     "text": [
      "\r",
      " 46% (166 of 359) |##########            | Elapsed Time: 0:23:29 ETA:   0:17:26"
     ]
    },
    {
     "name": "stdout",
     "output_type": "stream",
     "text": [
      "/product_V2020_275.json.gz\n"
     ]
    },
    {
     "name": "stderr",
     "output_type": "stream",
     "text": [
      "\r",
      " 46% (167 of 359) |##########            | Elapsed Time: 0:23:41 ETA:   0:39:48"
     ]
    },
    {
     "name": "stdout",
     "output_type": "stream",
     "text": [
      "/product_V2020_116.json.gz\n"
     ]
    },
    {
     "name": "stderr",
     "output_type": "stream",
     "text": [
      "\r",
      " 46% (168 of 359) |##########            | Elapsed Time: 0:23:54 ETA:   0:39:50"
     ]
    },
    {
     "name": "stdout",
     "output_type": "stream",
     "text": [
      "/product_V2020_87.json.gz\n"
     ]
    },
    {
     "name": "stderr",
     "output_type": "stream",
     "text": [
      "\r",
      " 47% (169 of 359) |##########            | Elapsed Time: 0:23:59 ETA:   0:18:31"
     ]
    },
    {
     "name": "stdout",
     "output_type": "stream",
     "text": [
      "/product_V2020_55.json.gz\n"
     ]
    },
    {
     "name": "stderr",
     "output_type": "stream",
     "text": [
      "\r",
      " 47% (170 of 359) |##########            | Elapsed Time: 0:24:05 ETA:   0:18:03"
     ]
    },
    {
     "name": "stdout",
     "output_type": "stream",
     "text": [
      "/product_V2020_2.json.gz\n"
     ]
    },
    {
     "name": "stderr",
     "output_type": "stream",
     "text": [
      "\r",
      " 47% (171 of 359) |##########            | Elapsed Time: 0:24:11 ETA:   0:17:24"
     ]
    },
    {
     "name": "stdout",
     "output_type": "stream",
     "text": [
      "/product_V2020_250.json.gz\n"
     ]
    },
    {
     "name": "stderr",
     "output_type": "stream",
     "text": [
      "\r",
      " 47% (172 of 359) |##########            | Elapsed Time: 0:24:23 ETA:   0:38:03"
     ]
    },
    {
     "name": "stdout",
     "output_type": "stream",
     "text": [
      "/product_V2020_339.json.gz\n"
     ]
    },
    {
     "name": "stderr",
     "output_type": "stream",
     "text": [
      "\r",
      " 48% (173 of 359) |##########            | Elapsed Time: 0:24:28 ETA:   0:16:51"
     ]
    },
    {
     "name": "stdout",
     "output_type": "stream",
     "text": [
      "/product_V2020_27.json.gz\n"
     ]
    },
    {
     "name": "stderr",
     "output_type": "stream",
     "text": [
      "\r",
      " 48% (174 of 359) |##########            | Elapsed Time: 0:24:34 ETA:   0:16:58"
     ]
    },
    {
     "name": "stdout",
     "output_type": "stream",
     "text": [
      "/product_V2020_108.json.gz\n"
     ]
    },
    {
     "name": "stderr",
     "output_type": "stream",
     "text": [
      "\r",
      " 48% (175 of 359) |##########            | Elapsed Time: 0:24:39 ETA:   0:17:07"
     ]
    },
    {
     "name": "stdout",
     "output_type": "stream",
     "text": [
      "/product_V2020_16.json.gz\n"
     ]
    },
    {
     "name": "stderr",
     "output_type": "stream",
     "text": [
      "\r",
      " 49% (176 of 359) |##########            | Elapsed Time: 0:24:45 ETA:   0:17:20"
     ]
    },
    {
     "name": "stdout",
     "output_type": "stream",
     "text": [
      "/product_V2020_61.json.gz\n"
     ]
    },
    {
     "name": "stderr",
     "output_type": "stream",
     "text": [
      "\r",
      " 49% (177 of 359) |##########            | Elapsed Time: 0:24:51 ETA:   0:17:38"
     ]
    },
    {
     "name": "stdout",
     "output_type": "stream",
     "text": [
      "/product_V2020_277.json.gz\n"
     ]
    },
    {
     "name": "stderr",
     "output_type": "stream",
     "text": [
      "\r",
      " 49% (178 of 359) |##########            | Elapsed Time: 0:24:57 ETA:   0:17:26"
     ]
    },
    {
     "name": "stdout",
     "output_type": "stream",
     "text": [
      "/product_V2020_9.json.gz\n"
     ]
    },
    {
     "name": "stderr",
     "output_type": "stream",
     "text": [
      "\r",
      " 49% (179 of 359) |##########            | Elapsed Time: 0:25:10 ETA:   0:38:26"
     ]
    },
    {
     "name": "stdout",
     "output_type": "stream",
     "text": [
      "/product_V2020_358.json.gz\n"
     ]
    },
    {
     "name": "stderr",
     "output_type": "stream",
     "text": [
      "\r",
      " 50% (180 of 359) |###########           | Elapsed Time: 0:25:21 ETA:   0:35:22"
     ]
    },
    {
     "name": "stdout",
     "output_type": "stream",
     "text": [
      "/product_V2020_49.json.gz\n"
     ]
    },
    {
     "name": "stderr",
     "output_type": "stream",
     "text": [
      "\r",
      " 50% (181 of 359) |###########           | Elapsed Time: 0:25:33 ETA:   0:35:24"
     ]
    },
    {
     "name": "stdout",
     "output_type": "stream",
     "text": [
      "/product_V2020_306.json.gz\n"
     ]
    },
    {
     "name": "stderr",
     "output_type": "stream",
     "text": [
      "\r",
      " 50% (182 of 359) |###########           | Elapsed Time: 0:25:39 ETA:   0:16:28"
     ]
    },
    {
     "name": "stdout",
     "output_type": "stream",
     "text": [
      "/product_V2020_181.json.gz\n"
     ]
    },
    {
     "name": "stderr",
     "output_type": "stream",
     "text": [
      "\r",
      " 50% (183 of 359) |###########           | Elapsed Time: 0:25:45 ETA:   0:16:47"
     ]
    },
    {
     "name": "stdout",
     "output_type": "stream",
     "text": [
      "/product_V2020_259.json.gz\n"
     ]
    },
    {
     "name": "stderr",
     "output_type": "stream",
     "text": [
      "\r",
      " 51% (184 of 359) |###########           | Elapsed Time: 0:25:57 ETA:   0:37:04"
     ]
    },
    {
     "name": "stdout",
     "output_type": "stream",
     "text": [
      "/product_V2020_112.json.gz\n"
     ]
    },
    {
     "name": "stderr",
     "output_type": "stream",
     "text": [
      "\r",
      " 51% (185 of 359) |###########           | Elapsed Time: 0:26:10 ETA:   0:35:49"
     ]
    },
    {
     "name": "stdout",
     "output_type": "stream",
     "text": [
      "/product_V2020_284.json.gz\n"
     ]
    },
    {
     "name": "stderr",
     "output_type": "stream",
     "text": [
      "\r",
      " 51% (186 of 359) |###########           | Elapsed Time: 0:26:22 ETA:   0:34:54"
     ]
    },
    {
     "name": "stdout",
     "output_type": "stream",
     "text": [
      "/product_V2020_354.json.gz\n"
     ]
    },
    {
     "name": "stderr",
     "output_type": "stream",
     "text": [
      "\r",
      " 52% (187 of 359) |###########           | Elapsed Time: 0:26:27 ETA:   0:15:52"
     ]
    },
    {
     "name": "stdout",
     "output_type": "stream",
     "text": [
      "/product_V2020_69.json.gz\n"
     ]
    },
    {
     "name": "stderr",
     "output_type": "stream",
     "text": [
      "\r",
      " 52% (188 of 359) |###########           | Elapsed Time: 0:26:33 ETA:   0:16:18"
     ]
    },
    {
     "name": "stdout",
     "output_type": "stream",
     "text": [
      "/product_V2020_235.json.gz\n"
     ]
    },
    {
     "name": "stderr",
     "output_type": "stream",
     "text": [
      "\r",
      " 52% (189 of 359) |###########           | Elapsed Time: 0:26:39 ETA:   0:15:52"
     ]
    },
    {
     "name": "stdout",
     "output_type": "stream",
     "text": [
      "/product_V2020_98.json.gz\n"
     ]
    },
    {
     "name": "stderr",
     "output_type": "stream",
     "text": [
      "\r",
      " 52% (190 of 359) |###########           | Elapsed Time: 0:26:44 ETA:   0:15:42"
     ]
    },
    {
     "name": "stdout",
     "output_type": "stream",
     "text": [
      "/product_V2020_355.json.gz\n"
     ]
    },
    {
     "name": "stderr",
     "output_type": "stream",
     "text": [
      "\r",
      " 53% (191 of 359) |###########           | Elapsed Time: 0:26:50 ETA:   0:16:13"
     ]
    },
    {
     "name": "stdout",
     "output_type": "stream",
     "text": [
      "/product_V2020_300.json.gz\n"
     ]
    },
    {
     "name": "stderr",
     "output_type": "stream",
     "text": [
      "\r",
      " 53% (192 of 359) |###########           | Elapsed Time: 0:26:56 ETA:   0:15:37"
     ]
    },
    {
     "name": "stdout",
     "output_type": "stream",
     "text": [
      "/product_V2020_280.json.gz\n"
     ]
    },
    {
     "name": "stderr",
     "output_type": "stream",
     "text": [
      "\r",
      " 53% (193 of 359) |###########           | Elapsed Time: 0:27:09 ETA:   0:35:39"
     ]
    },
    {
     "name": "stdout",
     "output_type": "stream",
     "text": [
      "/product_V2020_82.json.gz\n"
     ]
    },
    {
     "name": "stderr",
     "output_type": "stream",
     "text": [
      "\r",
      " 54% (194 of 359) |###########           | Elapsed Time: 0:27:14 ETA:   0:15:46"
     ]
    },
    {
     "name": "stdout",
     "output_type": "stream",
     "text": [
      "/product_V2020_132.json.gz\n"
     ]
    },
    {
     "name": "stderr",
     "output_type": "stream",
     "text": [
      "\r",
      " 54% (195 of 359) |###########           | Elapsed Time: 0:27:20 ETA:   0:15:15"
     ]
    },
    {
     "name": "stdout",
     "output_type": "stream",
     "text": [
      "/product_V2020_318.json.gz\n"
     ]
    },
    {
     "name": "stderr",
     "output_type": "stream",
     "text": [
      "\r",
      " 54% (196 of 359) |############          | Elapsed Time: 0:27:25 ETA:   0:14:18"
     ]
    },
    {
     "name": "stdout",
     "output_type": "stream",
     "text": [
      "/product_V2020_290.json.gz\n"
     ]
    },
    {
     "name": "stderr",
     "output_type": "stream",
     "text": [
      "\r",
      " 54% (197 of 359) |############          | Elapsed Time: 0:27:31 ETA:   0:14:40"
     ]
    },
    {
     "name": "stdout",
     "output_type": "stream",
     "text": [
      "/product_V2020_297.json.gz\n"
     ]
    },
    {
     "name": "stderr",
     "output_type": "stream",
     "text": [
      "\r",
      " 55% (198 of 359) |############          | Elapsed Time: 0:27:43 ETA:   0:33:27"
     ]
    },
    {
     "name": "stdout",
     "output_type": "stream",
     "text": [
      "/product_V2020_296.json.gz\n"
     ]
    },
    {
     "name": "stderr",
     "output_type": "stream",
     "text": [
      "\r",
      " 55% (199 of 359) |############          | Elapsed Time: 0:27:56 ETA:   0:33:22"
     ]
    },
    {
     "name": "stdout",
     "output_type": "stream",
     "text": [
      "/product_V2020_169.json.gz\n"
     ]
    },
    {
     "name": "stderr",
     "output_type": "stream",
     "text": [
      "\r",
      " 55% (200 of 359) |############          | Elapsed Time: 0:28:01 ETA:   0:15:05"
     ]
    },
    {
     "name": "stdout",
     "output_type": "stream",
     "text": [
      "/product_V2020_203.json.gz\n"
     ]
    },
    {
     "name": "stderr",
     "output_type": "stream",
     "text": [
      "\r",
      " 55% (201 of 359) |############          | Elapsed Time: 0:28:07 ETA:   0:15:01"
     ]
    },
    {
     "name": "stdout",
     "output_type": "stream",
     "text": [
      "/product_V2020_1.json.gz\n"
     ]
    },
    {
     "name": "stderr",
     "output_type": "stream",
     "text": [
      "\r",
      " 56% (202 of 359) |############          | Elapsed Time: 0:28:12 ETA:   0:13:58"
     ]
    },
    {
     "name": "stdout",
     "output_type": "stream",
     "text": [
      "/product_V2020_196.json.gz\n"
     ]
    },
    {
     "name": "stderr",
     "output_type": "stream",
     "text": [
      "\r",
      " 56% (203 of 359) |############          | Elapsed Time: 0:28:18 ETA:   0:14:25"
     ]
    },
    {
     "name": "stdout",
     "output_type": "stream",
     "text": [
      "/product_V2020_39.json.gz\n"
     ]
    },
    {
     "name": "stderr",
     "output_type": "stream",
     "text": [
      "\r",
      " 56% (204 of 359) |############          | Elapsed Time: 0:28:31 ETA:   0:33:06"
     ]
    },
    {
     "name": "stdout",
     "output_type": "stream",
     "text": [
      "/product_V2020_193.json.gz\n"
     ]
    },
    {
     "name": "stderr",
     "output_type": "stream",
     "text": [
      "\r",
      " 57% (205 of 359) |############          | Elapsed Time: 0:28:36 ETA:   0:13:35"
     ]
    },
    {
     "name": "stdout",
     "output_type": "stream",
     "text": [
      "/product_V2020_270.json.gz\n"
     ]
    },
    {
     "name": "stderr",
     "output_type": "stream",
     "text": [
      "\r",
      " 57% (206 of 359) |############          | Elapsed Time: 0:28:49 ETA:   0:33:09"
     ]
    },
    {
     "name": "stdout",
     "output_type": "stream",
     "text": [
      "/product_V2020_331.json.gz\n"
     ]
    },
    {
     "name": "stderr",
     "output_type": "stream",
     "text": [
      "\r",
      " 57% (207 of 359) |############          | Elapsed Time: 0:29:02 ETA:   0:33:11"
     ]
    },
    {
     "name": "stdout",
     "output_type": "stream",
     "text": [
      "/product_V2020_332.json.gz\n"
     ]
    },
    {
     "name": "stderr",
     "output_type": "stream",
     "text": [
      "\r",
      " 57% (208 of 359) |############          | Elapsed Time: 0:29:08 ETA:   0:14:35"
     ]
    },
    {
     "name": "stdout",
     "output_type": "stream",
     "text": [
      "/product_V2020_53.json.gz\n"
     ]
    },
    {
     "name": "stderr",
     "output_type": "stream",
     "text": [
      "\r",
      " 58% (209 of 359) |############          | Elapsed Time: 0:29:14 ETA:   0:14:22"
     ]
    },
    {
     "name": "stdout",
     "output_type": "stream",
     "text": [
      "/product_V2020_262.json.gz\n"
     ]
    },
    {
     "name": "stderr",
     "output_type": "stream",
     "text": [
      "\r",
      " 58% (210 of 359) |############          | Elapsed Time: 0:29:27 ETA:   0:33:35"
     ]
    },
    {
     "name": "stdout",
     "output_type": "stream",
     "text": [
      "/product_V2020_28.json.gz\n"
     ]
    },
    {
     "name": "stderr",
     "output_type": "stream",
     "text": [
      "\r",
      " 58% (211 of 359) |############          | Elapsed Time: 0:29:41 ETA:   0:33:49"
     ]
    },
    {
     "name": "stdout",
     "output_type": "stream",
     "text": [
      "/product_V2020_291.json.gz\n"
     ]
    },
    {
     "name": "stderr",
     "output_type": "stream",
     "text": [
      "\r",
      " 59% (212 of 359) |############          | Elapsed Time: 0:29:46 ETA:   0:13:38"
     ]
    },
    {
     "name": "stdout",
     "output_type": "stream",
     "text": [
      "/product_V2020_201.json.gz\n"
     ]
    },
    {
     "name": "stderr",
     "output_type": "stream",
     "text": [
      "\r",
      " 59% (213 of 359) |#############         | Elapsed Time: 0:30:00 ETA:   0:32:11"
     ]
    },
    {
     "name": "stdout",
     "output_type": "stream",
     "text": [
      "/product_V2020_199.json.gz\n"
     ]
    },
    {
     "name": "stderr",
     "output_type": "stream",
     "text": [
      "\r",
      " 59% (214 of 359) |#############         | Elapsed Time: 0:30:13 ETA:   0:32:36"
     ]
    },
    {
     "name": "stdout",
     "output_type": "stream",
     "text": [
      "/product_V2020_343.json.gz\n"
     ]
    },
    {
     "name": "stderr",
     "output_type": "stream",
     "text": [
      "\r",
      " 59% (215 of 359) |#############         | Elapsed Time: 0:30:26 ETA:   0:30:22"
     ]
    },
    {
     "name": "stdout",
     "output_type": "stream",
     "text": [
      "/product_V2020_154.json.gz\n"
     ]
    },
    {
     "name": "stderr",
     "output_type": "stream",
     "text": [
      "\r",
      " 60% (216 of 359) |#############         | Elapsed Time: 0:30:39 ETA:   0:30:41"
     ]
    },
    {
     "name": "stdout",
     "output_type": "stream",
     "text": [
      "/product_V2020_133.json.gz\n"
     ]
    },
    {
     "name": "stderr",
     "output_type": "stream",
     "text": [
      "\r",
      " 60% (217 of 359) |#############         | Elapsed Time: 0:30:45 ETA:   0:14:33"
     ]
    },
    {
     "name": "stdout",
     "output_type": "stream",
     "text": [
      "/product_V2020_248.json.gz\n"
     ]
    },
    {
     "name": "stderr",
     "output_type": "stream",
     "text": [
      "\r",
      " 60% (218 of 359) |#############         | Elapsed Time: 0:30:58 ETA:   0:31:29"
     ]
    },
    {
     "name": "stdout",
     "output_type": "stream",
     "text": [
      "/product_V2020_71.json.gz\n"
     ]
    },
    {
     "name": "stderr",
     "output_type": "stream",
     "text": [
      "\r",
      " 61% (219 of 359) |#############         | Elapsed Time: 0:31:11 ETA:   0:30:00"
     ]
    },
    {
     "name": "stdout",
     "output_type": "stream",
     "text": [
      "/product_V2020_135.json.gz\n"
     ]
    },
    {
     "name": "stderr",
     "output_type": "stream",
     "text": [
      "\r",
      " 61% (220 of 359) |#############         | Elapsed Time: 0:31:17 ETA:   0:12:43"
     ]
    },
    {
     "name": "stdout",
     "output_type": "stream",
     "text": [
      "/product_V2020_34.json.gz\n"
     ]
    },
    {
     "name": "stderr",
     "output_type": "stream",
     "text": [
      "\r",
      " 61% (221 of 359) |#############         | Elapsed Time: 0:31:30 ETA:   0:30:05"
     ]
    },
    {
     "name": "stdout",
     "output_type": "stream",
     "text": [
      "/product_V2020_145.json.gz\n"
     ]
    },
    {
     "name": "stderr",
     "output_type": "stream",
     "text": [
      "\r",
      " 61% (222 of 359) |#############         | Elapsed Time: 0:31:43 ETA:   0:30:59"
     ]
    },
    {
     "name": "stdout",
     "output_type": "stream",
     "text": [
      "/product_V2020_12.json.gz\n"
     ]
    },
    {
     "name": "stderr",
     "output_type": "stream",
     "text": [
      "\r",
      " 62% (223 of 359) |#############         | Elapsed Time: 0:31:57 ETA:   0:32:00"
     ]
    },
    {
     "name": "stdout",
     "output_type": "stream",
     "text": [
      "/product_V2020_165.json.gz\n"
     ]
    },
    {
     "name": "stderr",
     "output_type": "stream",
     "text": [
      "\r",
      " 62% (224 of 359) |#############         | Elapsed Time: 0:32:03 ETA:   0:12:36"
     ]
    },
    {
     "name": "stdout",
     "output_type": "stream",
     "text": [
      "/product_V2020_54.json.gz\n"
     ]
    },
    {
     "name": "stderr",
     "output_type": "stream",
     "text": [
      "\r",
      " 62% (225 of 359) |#############         | Elapsed Time: 0:32:09 ETA:   0:12:29"
     ]
    },
    {
     "name": "stdout",
     "output_type": "stream",
     "text": [
      "/product_V2020_242.json.gz\n"
     ]
    },
    {
     "name": "stderr",
     "output_type": "stream",
     "text": [
      "\r",
      " 62% (226 of 359) |#############         | Elapsed Time: 0:32:14 ETA:   0:12:46"
     ]
    },
    {
     "name": "stdout",
     "output_type": "stream",
     "text": [
      "/product_V2020_30.json.gz\n"
     ]
    },
    {
     "name": "stderr",
     "output_type": "stream",
     "text": [
      "\r",
      " 63% (227 of 359) |#############         | Elapsed Time: 0:32:29 ETA:   0:31:51"
     ]
    },
    {
     "name": "stdout",
     "output_type": "stream",
     "text": [
      "/product_V2020_255.json.gz\n"
     ]
    },
    {
     "name": "stderr",
     "output_type": "stream",
     "text": [
      "\r",
      " 63% (228 of 359) |#############         | Elapsed Time: 0:32:35 ETA:   0:13:43"
     ]
    },
    {
     "name": "stdout",
     "output_type": "stream",
     "text": [
      "/product_V2020_65.json.gz\n"
     ]
    },
    {
     "name": "stderr",
     "output_type": "stream",
     "text": [
      "\r",
      " 63% (229 of 359) |##############        | Elapsed Time: 0:32:51 ETA:   0:34:11"
     ]
    },
    {
     "name": "stdout",
     "output_type": "stream",
     "text": [
      "/product_V2020_177.json.gz\n"
     ]
    },
    {
     "name": "stderr",
     "output_type": "stream",
     "text": [
      "\r",
      " 64% (230 of 359) |##############        | Elapsed Time: 0:32:58 ETA:   0:14:24"
     ]
    },
    {
     "name": "stdout",
     "output_type": "stream",
     "text": [
      "/product_V2020_206.json.gz\n"
     ]
    },
    {
     "name": "stderr",
     "output_type": "stream",
     "text": [
      "\r",
      " 64% (231 of 359) |##############        | Elapsed Time: 0:33:04 ETA:   0:13:44"
     ]
    },
    {
     "name": "stdout",
     "output_type": "stream",
     "text": [
      "/product_V2020_261.json.gz\n"
     ]
    },
    {
     "name": "stderr",
     "output_type": "stream",
     "text": [
      "\r",
      " 64% (232 of 359) |##############        | Elapsed Time: 0:33:19 ETA:   0:32:32"
     ]
    },
    {
     "name": "stdout",
     "output_type": "stream",
     "text": [
      "/product_V2020_266.json.gz\n"
     ]
    },
    {
     "name": "stderr",
     "output_type": "stream",
     "text": [
      "\r",
      " 64% (233 of 359) |##############        | Elapsed Time: 0:33:26 ETA:   0:14:03"
     ]
    },
    {
     "name": "stdout",
     "output_type": "stream",
     "text": [
      "/product_V2020_64.json.gz\n"
     ]
    },
    {
     "name": "stderr",
     "output_type": "stream",
     "text": [
      "\r",
      " 65% (234 of 359) |##############        | Elapsed Time: 0:33:33 ETA:   0:14:07"
     ]
    },
    {
     "name": "stdout",
     "output_type": "stream",
     "text": [
      "/product_V2020_166.json.gz\n"
     ]
    },
    {
     "name": "stderr",
     "output_type": "stream",
     "text": [
      "\r",
      " 65% (235 of 359) |##############        | Elapsed Time: 0:33:40 ETA:   0:14:33"
     ]
    },
    {
     "name": "stdout",
     "output_type": "stream",
     "text": [
      "/product_V2020_180.json.gz\n"
     ]
    },
    {
     "name": "stderr",
     "output_type": "stream",
     "text": [
      "\r",
      " 65% (236 of 359) |##############        | Elapsed Time: 0:33:57 ETA:   0:35:46"
     ]
    },
    {
     "name": "stdout",
     "output_type": "stream",
     "text": [
      "/product_V2020_155.json.gz\n"
     ]
    },
    {
     "name": "stderr",
     "output_type": "stream",
     "text": [
      "\r",
      " 66% (237 of 359) |##############        | Elapsed Time: 0:34:14 ETA:   0:33:15"
     ]
    },
    {
     "name": "stdout",
     "output_type": "stream",
     "text": [
      "/product_V2020_208.json.gz\n"
     ]
    },
    {
     "name": "stderr",
     "output_type": "stream",
     "text": [
      "\r",
      " 66% (238 of 359) |##############        | Elapsed Time: 0:34:30 ETA:   0:32:53"
     ]
    },
    {
     "name": "stdout",
     "output_type": "stream",
     "text": [
      "/product_V2020_230.json.gz\n"
     ]
    },
    {
     "name": "stderr",
     "output_type": "stream",
     "text": [
      "\r",
      " 66% (239 of 359) |##############        | Elapsed Time: 0:34:37 ETA:   0:14:35"
     ]
    },
    {
     "name": "stdout",
     "output_type": "stream",
     "text": [
      "/product_V2020_342.json.gz\n"
     ]
    },
    {
     "name": "stderr",
     "output_type": "stream",
     "text": [
      "\r",
      " 66% (240 of 359) |##############        | Elapsed Time: 0:34:46 ETA:   0:16:10"
     ]
    },
    {
     "name": "stdout",
     "output_type": "stream",
     "text": [
      "/product_V2020_170.json.gz\n"
     ]
    },
    {
     "name": "stderr",
     "output_type": "stream",
     "text": [
      "\r",
      " 67% (241 of 359) |##############        | Elapsed Time: 0:34:53 ETA:   0:14:53"
     ]
    },
    {
     "name": "stdout",
     "output_type": "stream",
     "text": [
      "/product_V2020_240.json.gz\n"
     ]
    },
    {
     "name": "stderr",
     "output_type": "stream",
     "text": [
      "\r",
      " 67% (242 of 359) |##############        | Elapsed Time: 0:35:01 ETA:   0:15:51"
     ]
    },
    {
     "name": "stdout",
     "output_type": "stream",
     "text": [
      "/product_V2020_79.json.gz\n"
     ]
    },
    {
     "name": "stderr",
     "output_type": "stream",
     "text": [
      "\r",
      " 67% (243 of 359) |##############        | Elapsed Time: 0:35:09 ETA:   0:14:42"
     ]
    },
    {
     "name": "stdout",
     "output_type": "stream",
     "text": [
      "/product_V2020_146.json.gz\n"
     ]
    },
    {
     "name": "stderr",
     "output_type": "stream",
     "text": [
      "\r",
      " 67% (244 of 359) |##############        | Elapsed Time: 0:35:16 ETA:   0:14:09"
     ]
    },
    {
     "name": "stdout",
     "output_type": "stream",
     "text": [
      "/product_V2020_19.json.gz\n"
     ]
    },
    {
     "name": "stderr",
     "output_type": "stream",
     "text": [
      "\r",
      " 68% (245 of 359) |###############       | Elapsed Time: 0:35:34 ETA:   0:33:24"
     ]
    },
    {
     "name": "stdout",
     "output_type": "stream",
     "text": [
      "/product_V2020_121.json.gz\n"
     ]
    },
    {
     "name": "stderr",
     "output_type": "stream",
     "text": [
      "\r",
      " 68% (246 of 359) |###############       | Elapsed Time: 0:35:41 ETA:   0:14:12"
     ]
    },
    {
     "name": "stdout",
     "output_type": "stream",
     "text": [
      "/product_V2020_67.json.gz\n"
     ]
    },
    {
     "name": "stderr",
     "output_type": "stream",
     "text": [
      "\r",
      " 68% (247 of 359) |###############       | Elapsed Time: 0:35:58 ETA:   0:31:30"
     ]
    },
    {
     "name": "stdout",
     "output_type": "stream",
     "text": [
      "/product_V2020_234.json.gz\n"
     ]
    },
    {
     "name": "stderr",
     "output_type": "stream",
     "text": [
      "\r",
      " 69% (248 of 359) |###############       | Elapsed Time: 0:36:15 ETA:   0:31:56"
     ]
    },
    {
     "name": "stdout",
     "output_type": "stream",
     "text": [
      "/product_V2020_23.json.gz\n"
     ]
    },
    {
     "name": "stderr",
     "output_type": "stream",
     "text": [
      "\r",
      " 69% (249 of 359) |###############       | Elapsed Time: 0:36:32 ETA:   0:30:09"
     ]
    },
    {
     "name": "stdout",
     "output_type": "stream",
     "text": [
      "/product_V2020_103.json.gz\n"
     ]
    },
    {
     "name": "stderr",
     "output_type": "stream",
     "text": [
      "\r",
      " 69% (250 of 359) |###############       | Elapsed Time: 0:36:39 ETA:   0:13:38"
     ]
    },
    {
     "name": "stdout",
     "output_type": "stream",
     "text": [
      "/product_V2020_72.json.gz\n"
     ]
    },
    {
     "name": "stderr",
     "output_type": "stream",
     "text": [
      "\r",
      " 69% (251 of 359) |###############       | Elapsed Time: 0:36:47 ETA:   0:13:33"
     ]
    },
    {
     "name": "stdout",
     "output_type": "stream",
     "text": [
      "/product_V2020_334.json.gz\n"
     ]
    },
    {
     "name": "stderr",
     "output_type": "stream",
     "text": [
      "\r",
      " 70% (252 of 359) |###############       | Elapsed Time: 0:37:05 ETA:   0:31:22"
     ]
    },
    {
     "name": "stdout",
     "output_type": "stream",
     "text": [
      "/product_V2020_117.json.gz\n"
     ]
    },
    {
     "name": "stderr",
     "output_type": "stream",
     "text": [
      "\r",
      " 70% (253 of 359) |###############       | Elapsed Time: 0:37:22 ETA:   0:30:38"
     ]
    },
    {
     "name": "stdout",
     "output_type": "stream",
     "text": [
      "/product_V2020_263.json.gz\n"
     ]
    },
    {
     "name": "stderr",
     "output_type": "stream",
     "text": [
      "\r",
      " 70% (254 of 359) |###############       | Elapsed Time: 0:37:26 ETA:   0:06:25"
     ]
    },
    {
     "name": "stdout",
     "output_type": "stream",
     "text": [
      "/product_V2020_88.json.gz\n"
     ]
    },
    {
     "name": "stderr",
     "output_type": "stream",
     "text": [
      "\r",
      " 71% (255 of 359) |###############       | Elapsed Time: 0:37:33 ETA:   0:13:10"
     ]
    },
    {
     "name": "stdout",
     "output_type": "stream",
     "text": [
      "/product_V2020_35.json.gz\n"
     ]
    },
    {
     "name": "stderr",
     "output_type": "stream",
     "text": [
      "\r",
      " 71% (256 of 359) |###############       | Elapsed Time: 0:37:41 ETA:   0:12:50"
     ]
    },
    {
     "name": "stdout",
     "output_type": "stream",
     "text": [
      "/product_V2020_294.json.gz\n"
     ]
    },
    {
     "name": "stderr",
     "output_type": "stream",
     "text": [
      "\r",
      " 71% (257 of 359) |###############       | Elapsed Time: 0:37:48 ETA:   0:12:48"
     ]
    },
    {
     "name": "stdout",
     "output_type": "stream",
     "text": [
      "/product_V2020_254.json.gz\n"
     ]
    },
    {
     "name": "stderr",
     "output_type": "stream",
     "text": [
      "\r",
      " 71% (258 of 359) |###############       | Elapsed Time: 0:38:05 ETA:   0:28:56"
     ]
    },
    {
     "name": "stdout",
     "output_type": "stream",
     "text": [
      "/product_V2020_274.json.gz\n"
     ]
    },
    {
     "name": "stderr",
     "output_type": "stream",
     "text": [
      "\r",
      " 72% (259 of 359) |###############       | Elapsed Time: 0:38:14 ETA:   0:13:45"
     ]
    },
    {
     "name": "stdout",
     "output_type": "stream",
     "text": [
      "/product_V2020_349.json.gz\n"
     ]
    },
    {
     "name": "stderr",
     "output_type": "stream",
     "text": [
      "\r",
      " 72% (260 of 359) |###############       | Elapsed Time: 0:38:30 ETA:   0:27:28"
     ]
    },
    {
     "name": "stdout",
     "output_type": "stream",
     "text": [
      "/product_V2020_225.json.gz\n"
     ]
    },
    {
     "name": "stderr",
     "output_type": "stream",
     "text": [
      "\r",
      " 72% (261 of 359) |###############       | Elapsed Time: 0:38:38 ETA:   0:12:14"
     ]
    },
    {
     "name": "stdout",
     "output_type": "stream",
     "text": [
      "/product_V2020_149.json.gz\n"
     ]
    },
    {
     "name": "stderr",
     "output_type": "stream",
     "text": [
      "\r",
      " 72% (262 of 359) |################      | Elapsed Time: 0:38:54 ETA:   0:26:37"
     ]
    },
    {
     "name": "stdout",
     "output_type": "stream",
     "text": [
      "/product_V2020_246.json.gz\n"
     ]
    },
    {
     "name": "stderr",
     "output_type": "stream",
     "text": [
      "\r",
      " 73% (263 of 359) |################      | Elapsed Time: 0:39:02 ETA:   0:12:00"
     ]
    },
    {
     "name": "stdout",
     "output_type": "stream",
     "text": [
      "/product_V2020_308.json.gz\n"
     ]
    },
    {
     "name": "stderr",
     "output_type": "stream",
     "text": [
      "\r",
      " 73% (264 of 359) |################      | Elapsed Time: 0:39:20 ETA:   0:29:09"
     ]
    },
    {
     "name": "stdout",
     "output_type": "stream",
     "text": [
      "/product_V2020_86.json.gz\n"
     ]
    },
    {
     "name": "stderr",
     "output_type": "stream",
     "text": [
      "\r",
      " 73% (265 of 359) |################      | Elapsed Time: 0:39:37 ETA:   0:25:49"
     ]
    },
    {
     "name": "stdout",
     "output_type": "stream",
     "text": [
      "/product_V2020_184.json.gz\n"
     ]
    },
    {
     "name": "stderr",
     "output_type": "stream",
     "text": [
      "\r",
      " 74% (266 of 359) |################      | Elapsed Time: 0:39:52 ETA:   0:24:20"
     ]
    },
    {
     "name": "stdout",
     "output_type": "stream",
     "text": [
      "/product_V2020_213.json.gz\n"
     ]
    },
    {
     "name": "stderr",
     "output_type": "stream",
     "text": [
      "\r",
      " 74% (267 of 359) |################      | Elapsed Time: 0:40:09 ETA:   0:25:11"
     ]
    },
    {
     "name": "stdout",
     "output_type": "stream",
     "text": [
      "/product_V2020_127.json.gz\n"
     ]
    },
    {
     "name": "stderr",
     "output_type": "stream",
     "text": [
      "\r",
      " 74% (268 of 359) |################      | Elapsed Time: 0:40:26 ETA:   0:25:55"
     ]
    },
    {
     "name": "stdout",
     "output_type": "stream",
     "text": [
      "/product_V2020_333.json.gz\n"
     ]
    },
    {
     "name": "stderr",
     "output_type": "stream",
     "text": [
      "\r",
      " 74% (269 of 359) |################      | Elapsed Time: 0:40:34 ETA:   0:12:23"
     ]
    },
    {
     "name": "stdout",
     "output_type": "stream",
     "text": [
      "/product_V2020_96.json.gz\n"
     ]
    },
    {
     "name": "stderr",
     "output_type": "stream",
     "text": [
      "\r",
      " 75% (270 of 359) |################      | Elapsed Time: 0:40:42 ETA:   0:11:22"
     ]
    },
    {
     "name": "stdout",
     "output_type": "stream",
     "text": [
      "/product_V2020_187.json.gz\n"
     ]
    },
    {
     "name": "stderr",
     "output_type": "stream",
     "text": [
      "\r",
      " 75% (271 of 359) |################      | Elapsed Time: 0:40:50 ETA:   0:11:17"
     ]
    },
    {
     "name": "stdout",
     "output_type": "stream",
     "text": [
      "/product_V2020_328.json.gz\n"
     ]
    },
    {
     "name": "stderr",
     "output_type": "stream",
     "text": [
      "\r",
      " 75% (272 of 359) |################      | Elapsed Time: 0:41:07 ETA:   0:24:54"
     ]
    },
    {
     "name": "stdout",
     "output_type": "stream",
     "text": [
      "/product_V2020_148.json.gz\n"
     ]
    },
    {
     "name": "stderr",
     "output_type": "stream",
     "text": [
      "\r",
      " 76% (273 of 359) |################      | Elapsed Time: 0:41:15 ETA:   0:12:18"
     ]
    },
    {
     "name": "stdout",
     "output_type": "stream",
     "text": [
      "/product_V2020_186.json.gz\n"
     ]
    },
    {
     "name": "stderr",
     "output_type": "stream",
     "text": [
      "\r",
      " 76% (274 of 359) |################      | Elapsed Time: 0:41:24 ETA:   0:12:17"
     ]
    },
    {
     "name": "stdout",
     "output_type": "stream",
     "text": [
      "/product_V2020_312.json.gz\n"
     ]
    },
    {
     "name": "stderr",
     "output_type": "stream",
     "text": [
      "\r",
      " 76% (275 of 359) |################      | Elapsed Time: 0:41:32 ETA:   0:11:28"
     ]
    },
    {
     "name": "stdout",
     "output_type": "stream",
     "text": [
      "/product_V2020_337.json.gz\n"
     ]
    },
    {
     "name": "stderr",
     "output_type": "stream",
     "text": [
      "\r",
      " 76% (276 of 359) |################      | Elapsed Time: 0:41:49 ETA:   0:23:26"
     ]
    },
    {
     "name": "stdout",
     "output_type": "stream",
     "text": [
      "/product_V2020_29.json.gz\n"
     ]
    },
    {
     "name": "stderr",
     "output_type": "stream",
     "text": [
      "\r",
      " 77% (277 of 359) |################      | Elapsed Time: 0:42:06 ETA:   0:22:54"
     ]
    },
    {
     "name": "stdout",
     "output_type": "stream",
     "text": [
      "/product_V2020_197.json.gz\n"
     ]
    },
    {
     "name": "stderr",
     "output_type": "stream",
     "text": [
      "\r",
      " 77% (278 of 359) |#################     | Elapsed Time: 0:42:14 ETA:   0:10:56"
     ]
    },
    {
     "name": "stdout",
     "output_type": "stream",
     "text": [
      "/product_V2020_136.json.gz\n"
     ]
    },
    {
     "name": "stderr",
     "output_type": "stream",
     "text": [
      "\r",
      " 77% (279 of 359) |#################     | Elapsed Time: 0:42:22 ETA:   0:11:18"
     ]
    },
    {
     "name": "stdout",
     "output_type": "stream",
     "text": [
      "/product_V2020_279.json.gz\n"
     ]
    },
    {
     "name": "stderr",
     "output_type": "stream",
     "text": [
      "\r",
      " 77% (280 of 359) |#################     | Elapsed Time: 0:42:39 ETA:   0:22:13"
     ]
    },
    {
     "name": "stdout",
     "output_type": "stream",
     "text": [
      "/product_V2020_62.json.gz\n"
     ]
    },
    {
     "name": "stderr",
     "output_type": "stream",
     "text": [
      "\r",
      " 78% (281 of 359) |#################     | Elapsed Time: 0:42:48 ETA:   0:10:50"
     ]
    },
    {
     "name": "stdout",
     "output_type": "stream",
     "text": [
      "/product_V2020_142.json.gz\n"
     ]
    },
    {
     "name": "stderr",
     "output_type": "stream",
     "text": [
      "\r",
      " 78% (282 of 359) |#################     | Elapsed Time: 0:42:55 ETA:   0:09:44"
     ]
    },
    {
     "name": "stdout",
     "output_type": "stream",
     "text": [
      "/product_V2020_210.json.gz\n"
     ]
    },
    {
     "name": "stderr",
     "output_type": "stream",
     "text": [
      "\r",
      " 78% (283 of 359) |#################     | Elapsed Time: 0:43:12 ETA:   0:21:35"
     ]
    },
    {
     "name": "stdout",
     "output_type": "stream",
     "text": [
      "/product_V2020_152.json.gz\n"
     ]
    },
    {
     "name": "stderr",
     "output_type": "stream",
     "text": [
      "\r",
      " 79% (284 of 359) |#################     | Elapsed Time: 0:43:30 ETA:   0:21:44"
     ]
    },
    {
     "name": "stdout",
     "output_type": "stream",
     "text": [
      "/product_V2020_114.json.gz\n"
     ]
    },
    {
     "name": "stderr",
     "output_type": "stream",
     "text": [
      "\r",
      " 79% (285 of 359) |#################     | Elapsed Time: 0:43:38 ETA:   0:09:41"
     ]
    },
    {
     "name": "stdout",
     "output_type": "stream",
     "text": [
      "/product_V2020_22.json.gz\n"
     ]
    },
    {
     "name": "stderr",
     "output_type": "stream",
     "text": [
      "\r",
      " 79% (286 of 359) |#################     | Elapsed Time: 0:43:54 ETA:   0:19:54"
     ]
    },
    {
     "name": "stdout",
     "output_type": "stream",
     "text": [
      "/product_V2020_218.json.gz\n"
     ]
    },
    {
     "name": "stderr",
     "output_type": "stream",
     "text": [
      "\r",
      " 79% (287 of 359) |#################     | Elapsed Time: 0:44:11 ETA:   0:20:19"
     ]
    },
    {
     "name": "stdout",
     "output_type": "stream",
     "text": [
      "/product_V2020_189.json.gz\n"
     ]
    },
    {
     "name": "stderr",
     "output_type": "stream",
     "text": [
      "\r",
      " 80% (288 of 359) |#################     | Elapsed Time: 0:44:29 ETA:   0:21:32"
     ]
    },
    {
     "name": "stdout",
     "output_type": "stream",
     "text": [
      "/product_V2020_222.json.gz\n"
     ]
    },
    {
     "name": "stderr",
     "output_type": "stream",
     "text": [
      "\r",
      " 80% (289 of 359) |#################     | Elapsed Time: 0:44:37 ETA:   0:09:06"
     ]
    },
    {
     "name": "stdout",
     "output_type": "stream",
     "text": [
      "/product_V2020_17.json.gz\n"
     ]
    },
    {
     "name": "stderr",
     "output_type": "stream",
     "text": [
      "\r",
      " 80% (290 of 359) |#################     | Elapsed Time: 0:44:45 ETA:   0:08:48"
     ]
    },
    {
     "name": "stdout",
     "output_type": "stream",
     "text": [
      "/product_V2020_309.json.gz\n"
     ]
    },
    {
     "name": "stderr",
     "output_type": "stream",
     "text": [
      "\r",
      " 81% (291 of 359) |#################     | Elapsed Time: 0:45:01 ETA:   0:19:00"
     ]
    },
    {
     "name": "stdout",
     "output_type": "stream",
     "text": [
      "/product_V2020_350.json.gz\n"
     ]
    },
    {
     "name": "stderr",
     "output_type": "stream",
     "text": [
      "\r",
      " 81% (292 of 359) |#################     | Elapsed Time: 0:45:14 ETA:   0:14:24"
     ]
    },
    {
     "name": "stdout",
     "output_type": "stream",
     "text": [
      "/product_V2020_172.json.gz\n"
     ]
    },
    {
     "name": "stderr",
     "output_type": "stream",
     "text": [
      "\r",
      " 81% (293 of 359) |#################     | Elapsed Time: 0:45:20 ETA:   0:06:54"
     ]
    },
    {
     "name": "stdout",
     "output_type": "stream",
     "text": [
      "/product_V2020_84.json.gz\n"
     ]
    },
    {
     "name": "stderr",
     "output_type": "stream",
     "text": [
      "\r",
      " 81% (294 of 359) |##################    | Elapsed Time: 0:45:26 ETA:   0:06:23"
     ]
    },
    {
     "name": "stdout",
     "output_type": "stream",
     "text": [
      "/product_V2020_174.json.gz\n"
     ]
    },
    {
     "name": "stderr",
     "output_type": "stream",
     "text": [
      "\r",
      " 82% (295 of 359) |##################    | Elapsed Time: 0:45:33 ETA:   0:07:16"
     ]
    },
    {
     "name": "stdout",
     "output_type": "stream",
     "text": [
      "/product_V2020_288.json.gz\n"
     ]
    },
    {
     "name": "stderr",
     "output_type": "stream",
     "text": [
      "\r",
      " 82% (296 of 359) |##################    | Elapsed Time: 0:45:39 ETA:   0:06:28"
     ]
    },
    {
     "name": "stdout",
     "output_type": "stream",
     "text": [
      "/product_V2020_325.json.gz\n"
     ]
    },
    {
     "name": "stderr",
     "output_type": "stream",
     "text": [
      "\r",
      " 82% (297 of 359) |##################    | Elapsed Time: 0:45:47 ETA:   0:07:57"
     ]
    },
    {
     "name": "stdout",
     "output_type": "stream",
     "text": [
      "/product_V2020_304.json.gz\n"
     ]
    },
    {
     "name": "stderr",
     "output_type": "stream",
     "text": [
      "\r",
      " 83% (298 of 359) |##################    | Elapsed Time: 0:46:04 ETA:   0:17:40"
     ]
    },
    {
     "name": "stdout",
     "output_type": "stream",
     "text": [
      "/product_V2020_257.json.gz\n"
     ]
    },
    {
     "name": "stderr",
     "output_type": "stream",
     "text": [
      "\r",
      " 83% (299 of 359) |##################    | Elapsed Time: 0:46:22 ETA:   0:17:32"
     ]
    },
    {
     "name": "stdout",
     "output_type": "stream",
     "text": [
      "/product_V2020_344.json.gz\n"
     ]
    },
    {
     "name": "stderr",
     "output_type": "stream",
     "text": [
      "\r",
      " 83% (300 of 359) |##################    | Elapsed Time: 0:46:38 ETA:   0:15:59"
     ]
    },
    {
     "name": "stdout",
     "output_type": "stream",
     "text": [
      "/product_V2020_141.json.gz\n"
     ]
    },
    {
     "name": "stderr",
     "output_type": "stream",
     "text": [
      "\r",
      " 83% (301 of 359) |##################    | Elapsed Time: 0:46:55 ETA:   0:16:02"
     ]
    },
    {
     "name": "stdout",
     "output_type": "stream",
     "text": [
      "/product_V2020_219.json.gz\n"
     ]
    },
    {
     "name": "stderr",
     "output_type": "stream",
     "text": [
      "\r",
      " 84% (302 of 359) |##################    | Elapsed Time: 0:47:11 ETA:   0:15:21"
     ]
    },
    {
     "name": "stdout",
     "output_type": "stream",
     "text": [
      "/product_V2020_303.json.gz\n"
     ]
    },
    {
     "name": "stderr",
     "output_type": "stream",
     "text": [
      "\r",
      " 84% (303 of 359) |##################    | Elapsed Time: 0:47:24 ETA:   0:11:46"
     ]
    },
    {
     "name": "stdout",
     "output_type": "stream",
     "text": [
      "/product_V2020_253.json.gz\n"
     ]
    },
    {
     "name": "stderr",
     "output_type": "stream",
     "text": [
      "\r",
      " 84% (304 of 359) |##################    | Elapsed Time: 0:47:29 ETA:   0:05:18"
     ]
    },
    {
     "name": "stdout",
     "output_type": "stream",
     "text": [
      "/product_V2020_52.json.gz\n"
     ]
    },
    {
     "name": "stderr",
     "output_type": "stream",
     "text": [
      "\r",
      " 84% (305 of 359) |##################    | Elapsed Time: 0:47:35 ETA:   0:05:08"
     ]
    },
    {
     "name": "stdout",
     "output_type": "stream",
     "text": [
      "/product_V2020_216.json.gz\n"
     ]
    },
    {
     "name": "stderr",
     "output_type": "stream",
     "text": [
      "\r",
      " 85% (306 of 359) |##################    | Elapsed Time: 0:47:48 ETA:   0:11:04"
     ]
    },
    {
     "name": "stdout",
     "output_type": "stream",
     "text": [
      "/product_V2020_158.json.gz\n"
     ]
    },
    {
     "name": "stderr",
     "output_type": "stream",
     "text": [
      "\r",
      " 85% (307 of 359) |##################    | Elapsed Time: 0:47:54 ETA:   0:05:09"
     ]
    },
    {
     "name": "stdout",
     "output_type": "stream",
     "text": [
      "/product_V2020_5.json.gz\n"
     ]
    },
    {
     "name": "stderr",
     "output_type": "stream",
     "text": [
      "\r",
      " 85% (308 of 359) |##################    | Elapsed Time: 0:48:00 ETA:   0:05:32"
     ]
    },
    {
     "name": "stdout",
     "output_type": "stream",
     "text": [
      "/product_V2020_345.json.gz\n"
     ]
    },
    {
     "name": "stderr",
     "output_type": "stream",
     "text": [
      "\r",
      " 86% (309 of 359) |##################    | Elapsed Time: 0:48:13 ETA:   0:11:05"
     ]
    },
    {
     "name": "stdout",
     "output_type": "stream",
     "text": [
      "/product_V2020_183.json.gz\n"
     ]
    },
    {
     "name": "stderr",
     "output_type": "stream",
     "text": [
      "\r",
      " 86% (310 of 359) |##################    | Elapsed Time: 0:48:26 ETA:   0:09:55"
     ]
    },
    {
     "name": "stdout",
     "output_type": "stream",
     "text": [
      "/product_V2020_278.json.gz\n"
     ]
    },
    {
     "name": "stderr",
     "output_type": "stream",
     "text": [
      "\r",
      " 86% (311 of 359) |###################   | Elapsed Time: 0:48:38 ETA:   0:09:42"
     ]
    },
    {
     "name": "stdout",
     "output_type": "stream",
     "text": [
      "/product_V2020_272.json.gz\n"
     ]
    },
    {
     "name": "stderr",
     "output_type": "stream",
     "text": [
      "\r",
      " 86% (312 of 359) |###################   | Elapsed Time: 0:48:44 ETA:   0:05:01"
     ]
    },
    {
     "name": "stdout",
     "output_type": "stream",
     "text": [
      "/product_V2020_348.json.gz\n"
     ]
    },
    {
     "name": "stderr",
     "output_type": "stream",
     "text": [
      "\r",
      " 87% (313 of 359) |###################   | Elapsed Time: 0:48:57 ETA:   0:09:49"
     ]
    },
    {
     "name": "stdout",
     "output_type": "stream",
     "text": [
      "/product_V2020_268.json.gz\n"
     ]
    },
    {
     "name": "stderr",
     "output_type": "stream",
     "text": [
      "\r",
      " 87% (314 of 359) |###################   | Elapsed Time: 0:49:10 ETA:   0:09:50"
     ]
    },
    {
     "name": "stdout",
     "output_type": "stream",
     "text": [
      "/product_V2020_310.json.gz\n"
     ]
    },
    {
     "name": "stderr",
     "output_type": "stream",
     "text": [
      "\r",
      " 87% (315 of 359) |###################   | Elapsed Time: 0:49:16 ETA:   0:04:18"
     ]
    },
    {
     "name": "stdout",
     "output_type": "stream",
     "text": [
      "/product_V2020_150.json.gz\n"
     ]
    },
    {
     "name": "stderr",
     "output_type": "stream",
     "text": [
      "\r",
      " 88% (316 of 359) |###################   | Elapsed Time: 0:49:22 ETA:   0:04:09"
     ]
    },
    {
     "name": "stdout",
     "output_type": "stream",
     "text": [
      "/product_V2020_198.json.gz\n"
     ]
    },
    {
     "name": "stderr",
     "output_type": "stream",
     "text": [
      "\r",
      " 88% (317 of 359) |###################   | Elapsed Time: 0:49:34 ETA:   0:08:29"
     ]
    },
    {
     "name": "stdout",
     "output_type": "stream",
     "text": [
      "/product_V2020_305.json.gz\n"
     ]
    },
    {
     "name": "stderr",
     "output_type": "stream",
     "text": [
      "\r",
      " 88% (318 of 359) |###################   | Elapsed Time: 0:49:40 ETA:   0:03:56"
     ]
    },
    {
     "name": "stdout",
     "output_type": "stream",
     "text": [
      "/product_V2020_194.json.gz\n"
     ]
    },
    {
     "name": "stderr",
     "output_type": "stream",
     "text": [
      "\r",
      " 88% (319 of 359) |###################   | Elapsed Time: 0:49:45 ETA:   0:03:51"
     ]
    },
    {
     "name": "stdout",
     "output_type": "stream",
     "text": [
      "/product_V2020_321.json.gz\n"
     ]
    },
    {
     "name": "stderr",
     "output_type": "stream",
     "text": [
      "\r",
      " 89% (320 of 359) |###################   | Elapsed Time: 0:49:51 ETA:   0:03:40"
     ]
    },
    {
     "name": "stdout",
     "output_type": "stream",
     "text": [
      "/product_V2020_167.json.gz\n"
     ]
    },
    {
     "name": "stderr",
     "output_type": "stream",
     "text": [
      "\r",
      " 89% (321 of 359) |###################   | Elapsed Time: 0:49:57 ETA:   0:03:36"
     ]
    },
    {
     "name": "stdout",
     "output_type": "stream",
     "text": [
      "/product_V2020_21.json.gz\n"
     ]
    },
    {
     "name": "stderr",
     "output_type": "stream",
     "text": [
      "\r",
      " 89% (322 of 359) |###################   | Elapsed Time: 0:50:03 ETA:   0:03:41"
     ]
    },
    {
     "name": "stdout",
     "output_type": "stream",
     "text": [
      "/product_V2020_91.json.gz\n"
     ]
    },
    {
     "name": "stderr",
     "output_type": "stream",
     "text": [
      "\r",
      " 89% (323 of 359) |###################   | Elapsed Time: 0:50:09 ETA:   0:03:52"
     ]
    },
    {
     "name": "stdout",
     "output_type": "stream",
     "text": [
      "/product_V2020_43.json.gz\n"
     ]
    },
    {
     "name": "stderr",
     "output_type": "stream",
     "text": [
      "\r",
      " 90% (324 of 359) |###################   | Elapsed Time: 0:50:15 ETA:   0:03:26"
     ]
    },
    {
     "name": "stdout",
     "output_type": "stream",
     "text": [
      "/product_V2020_260.json.gz\n"
     ]
    },
    {
     "name": "stderr",
     "output_type": "stream",
     "text": [
      "\r",
      " 90% (325 of 359) |###################   | Elapsed Time: 0:50:21 ETA:   0:03:21"
     ]
    },
    {
     "name": "stdout",
     "output_type": "stream",
     "text": [
      "/product_V2020_241.json.gz\n"
     ]
    },
    {
     "name": "stderr",
     "output_type": "stream",
     "text": [
      "\r",
      " 90% (326 of 359) |###################   | Elapsed Time: 0:50:35 ETA:   0:07:29"
     ]
    },
    {
     "name": "stdout",
     "output_type": "stream",
     "text": [
      "/product_V2020_302.json.gz\n"
     ]
    },
    {
     "name": "stderr",
     "output_type": "stream",
     "text": [
      "\r",
      " 91% (327 of 359) |####################  | Elapsed Time: 0:50:40 ETA:   0:02:59"
     ]
    },
    {
     "name": "stdout",
     "output_type": "stream",
     "text": [
      "/product_V2020_209.json.gz\n"
     ]
    },
    {
     "name": "stderr",
     "output_type": "stream",
     "text": [
      "\r",
      " 91% (328 of 359) |####################  | Elapsed Time: 0:50:52 ETA:   0:06:18"
     ]
    },
    {
     "name": "stdout",
     "output_type": "stream",
     "text": [
      "/product_V2020_44.json.gz\n"
     ]
    },
    {
     "name": "stderr",
     "output_type": "stream",
     "text": [
      "\r",
      " 91% (329 of 359) |####################  | Elapsed Time: 0:51:05 ETA:   0:06:17"
     ]
    },
    {
     "name": "stdout",
     "output_type": "stream",
     "text": [
      "/product_V2020_80.json.gz\n"
     ]
    },
    {
     "name": "stderr",
     "output_type": "stream",
     "text": [
      "\r",
      " 91% (330 of 359) |####################  | Elapsed Time: 0:51:11 ETA:   0:02:57"
     ]
    },
    {
     "name": "stdout",
     "output_type": "stream",
     "text": [
      "/product_V2020_307.json.gz\n"
     ]
    },
    {
     "name": "stderr",
     "output_type": "stream",
     "text": [
      "\r",
      " 92% (331 of 359) |####################  | Elapsed Time: 0:51:23 ETA:   0:05:39"
     ]
    },
    {
     "name": "stdout",
     "output_type": "stream",
     "text": [
      "/product_V2020_113.json.gz\n"
     ]
    },
    {
     "name": "stderr",
     "output_type": "stream",
     "text": [
      "\r",
      " 92% (332 of 359) |####################  | Elapsed Time: 0:51:29 ETA:   0:02:33"
     ]
    },
    {
     "name": "stdout",
     "output_type": "stream",
     "text": [
      "/product_V2020_322.json.gz\n"
     ]
    },
    {
     "name": "stderr",
     "output_type": "stream",
     "text": [
      "\r",
      " 92% (333 of 359) |####################  | Elapsed Time: 0:51:41 ETA:   0:05:20"
     ]
    },
    {
     "name": "stdout",
     "output_type": "stream",
     "text": [
      "/product_V2020_3.json.gz\n"
     ]
    },
    {
     "name": "stderr",
     "output_type": "stream",
     "text": [
      "\r",
      " 93% (334 of 359) |####################  | Elapsed Time: 0:51:53 ETA:   0:04:56"
     ]
    },
    {
     "name": "stdout",
     "output_type": "stream",
     "text": [
      "/product_V2020_236.json.gz\n"
     ]
    },
    {
     "name": "stderr",
     "output_type": "stream",
     "text": [
      "\r",
      " 93% (335 of 359) |####################  | Elapsed Time: 0:52:06 ETA:   0:05:00"
     ]
    },
    {
     "name": "stdout",
     "output_type": "stream",
     "text": [
      "/product_V2020_160.json.gz\n"
     ]
    },
    {
     "name": "stderr",
     "output_type": "stream",
     "text": [
      "\r",
      " 93% (336 of 359) |####################  | Elapsed Time: 0:52:12 ETA:   0:02:23"
     ]
    },
    {
     "name": "stdout",
     "output_type": "stream",
     "text": [
      "/product_V2020_74.json.gz\n"
     ]
    },
    {
     "name": "stderr",
     "output_type": "stream",
     "text": [
      "\r",
      " 93% (337 of 359) |####################  | Elapsed Time: 0:52:18 ETA:   0:02:05"
     ]
    },
    {
     "name": "stdout",
     "output_type": "stream",
     "text": [
      "/product_V2020_295.json.gz\n"
     ]
    },
    {
     "name": "stderr",
     "output_type": "stream",
     "text": [
      "\r",
      " 94% (338 of 359) |####################  | Elapsed Time: 0:52:23 ETA:   0:02:03"
     ]
    },
    {
     "name": "stdout",
     "output_type": "stream",
     "text": [
      "/product_V2020_47.json.gz\n"
     ]
    },
    {
     "name": "stderr",
     "output_type": "stream",
     "text": [
      "\r",
      " 94% (339 of 359) |####################  | Elapsed Time: 0:52:36 ETA:   0:04:11"
     ]
    },
    {
     "name": "stdout",
     "output_type": "stream",
     "text": [
      "/product_V2020_18.json.gz\n"
     ]
    },
    {
     "name": "stderr",
     "output_type": "stream",
     "text": [
      "\r",
      " 94% (340 of 359) |####################  | Elapsed Time: 0:52:48 ETA:   0:03:45"
     ]
    },
    {
     "name": "stdout",
     "output_type": "stream",
     "text": [
      "/product_V2020_24.json.gz\n"
     ]
    },
    {
     "name": "stderr",
     "output_type": "stream",
     "text": [
      "\r",
      " 94% (341 of 359) |####################  | Elapsed Time: 0:53:00 ETA:   0:03:37"
     ]
    },
    {
     "name": "stdout",
     "output_type": "stream",
     "text": [
      "/product_V2020_123.json.gz\n"
     ]
    },
    {
     "name": "stderr",
     "output_type": "stream",
     "text": [
      "\r",
      " 95% (342 of 359) |####################  | Elapsed Time: 0:53:14 ETA:   0:03:49"
     ]
    },
    {
     "name": "stdout",
     "output_type": "stream",
     "text": [
      "/product_V2020_68.json.gz\n"
     ]
    },
    {
     "name": "stderr",
     "output_type": "stream",
     "text": [
      "\r",
      " 95% (343 of 359) |##################### | Elapsed Time: 0:53:25 ETA:   0:03:09"
     ]
    },
    {
     "name": "stdout",
     "output_type": "stream",
     "text": [
      "/product_V2020_161.json.gz\n"
     ]
    },
    {
     "name": "stderr",
     "output_type": "stream",
     "text": [
      "\r",
      " 95% (344 of 359) |##################### | Elapsed Time: 0:53:31 ETA:   0:01:26"
     ]
    },
    {
     "name": "stdout",
     "output_type": "stream",
     "text": [
      "/product_V2020_176.json.gz\n"
     ]
    },
    {
     "name": "stderr",
     "output_type": "stream",
     "text": [
      "\r",
      " 96% (345 of 359) |##################### | Elapsed Time: 0:53:37 ETA:   0:01:20"
     ]
    },
    {
     "name": "stdout",
     "output_type": "stream",
     "text": [
      "/product_V2020_314.json.gz\n"
     ]
    },
    {
     "name": "stderr",
     "output_type": "stream",
     "text": [
      "\r",
      " 96% (346 of 359) |##################### | Elapsed Time: 0:53:49 ETA:   0:02:39"
     ]
    },
    {
     "name": "stdout",
     "output_type": "stream",
     "text": [
      "/product_V2020_144.json.gz\n"
     ]
    },
    {
     "name": "stderr",
     "output_type": "stream",
     "text": [
      "\r",
      " 96% (347 of 359) |##################### | Elapsed Time: 0:54:01 ETA:   0:02:26"
     ]
    },
    {
     "name": "stdout",
     "output_type": "stream",
     "text": [
      "/product_V2020_190.json.gz\n"
     ]
    },
    {
     "name": "stderr",
     "output_type": "stream",
     "text": [
      "\r",
      " 96% (348 of 359) |##################### | Elapsed Time: 0:54:07 ETA:   0:01:04"
     ]
    },
    {
     "name": "stdout",
     "output_type": "stream",
     "text": [
      "/product_V2020_221.json.gz\n"
     ]
    },
    {
     "name": "stderr",
     "output_type": "stream",
     "text": [
      "\r",
      " 97% (349 of 359) |##################### | Elapsed Time: 0:54:14 ETA:   0:01:04"
     ]
    },
    {
     "name": "stdout",
     "output_type": "stream",
     "text": [
      "/product_V2020_238.json.gz\n"
     ]
    },
    {
     "name": "stderr",
     "output_type": "stream",
     "text": [
      "\r",
      " 97% (350 of 359) |##################### | Elapsed Time: 0:54:19 ETA:   0:00:51"
     ]
    },
    {
     "name": "stdout",
     "output_type": "stream",
     "text": [
      "/product_V2020_81.json.gz\n"
     ]
    },
    {
     "name": "stderr",
     "output_type": "stream",
     "text": [
      "\r",
      " 97% (351 of 359) |##################### | Elapsed Time: 0:54:25 ETA:   0:00:45"
     ]
    },
    {
     "name": "stdout",
     "output_type": "stream",
     "text": [
      "/product_V2020_182.json.gz\n"
     ]
    },
    {
     "name": "stderr",
     "output_type": "stream",
     "text": [
      "\r",
      " 98% (352 of 359) |##################### | Elapsed Time: 0:54:37 ETA:   0:01:25"
     ]
    },
    {
     "name": "stdout",
     "output_type": "stream",
     "text": [
      "/product_V2020_153.json.gz\n"
     ]
    },
    {
     "name": "stderr",
     "output_type": "stream",
     "text": [
      "\r",
      " 98% (353 of 359) |##################### | Elapsed Time: 0:54:49 ETA:   0:01:11"
     ]
    },
    {
     "name": "stdout",
     "output_type": "stream",
     "text": [
      "/product_V2020_10.json.gz\n"
     ]
    },
    {
     "name": "stderr",
     "output_type": "stream",
     "text": [
      "\r",
      " 98% (354 of 359) |##################### | Elapsed Time: 0:54:55 ETA:   0:00:28"
     ]
    },
    {
     "name": "stdout",
     "output_type": "stream",
     "text": [
      "/product_V2020_229.json.gz\n"
     ]
    },
    {
     "name": "stderr",
     "output_type": "stream",
     "text": [
      "\r",
      " 98% (355 of 359) |##################### | Elapsed Time: 0:55:01 ETA:   0:00:23"
     ]
    },
    {
     "name": "stdout",
     "output_type": "stream",
     "text": [
      "/product_V2020_320.json.gz\n"
     ]
    },
    {
     "name": "stderr",
     "output_type": "stream",
     "text": [
      "\r",
      " 99% (356 of 359) |##################### | Elapsed Time: 0:55:07 ETA:   0:00:17"
     ]
    },
    {
     "name": "stdout",
     "output_type": "stream",
     "text": [
      "/product_V2020_115.json.gz\n"
     ]
    },
    {
     "name": "stderr",
     "output_type": "stream",
     "text": [
      "\r",
      " 99% (357 of 359) |##################### | Elapsed Time: 0:55:13 ETA:   0:00:13"
     ]
    },
    {
     "name": "stdout",
     "output_type": "stream",
     "text": [
      "/product_V2020_202.json.gz\n"
     ]
    },
    {
     "name": "stderr",
     "output_type": "stream",
     "text": [
      "\r",
      " 99% (358 of 359) |##################### | Elapsed Time: 0:55:19 ETA:   0:00:05"
     ]
    },
    {
     "name": "stdout",
     "output_type": "stream",
     "text": [
      "/product_V2020_200.json.gz\n"
     ]
    },
    {
     "name": "stderr",
     "output_type": "stream",
     "text": [
      "100% (359 of 359) |######################| Elapsed Time: 0:55:25 Time:  0:55:25\n"
     ]
    }
   ],
   "source": [
    "zip_files_mapping = [file for file in os.listdir(mapping_corpus_path_all) if file.endswith('.json.gz')]\n",
    "# use the cleaned tables to append into a series and the get a dataframe from that with the remaining cluster ids\n",
    "count = 0\n",
    "data=[]\n",
    "with progressbar.ProgressBar(max_value=len(zip_files_mapping)) as bar:\n",
    "    for zip_file in zip_files_mapping:\n",
    "        print('/{}'.format(zip_file))\n",
    "        df = pd.read_json(mapping_corpus_path_all + '/{}'.format(zip_file), compression='gzip', lines=True)\n",
    "        data.append(df)\n",
    "        count += 1\n",
    "        bar.update(count)\n",
    "df_large_all= pd.concat(data, ignore_index=True)"
   ]
  },
  {
   "cell_type": "code",
   "execution_count": 17,
   "metadata": {
    "scrolled": true
   },
   "outputs": [
    {
     "data": {
      "text/html": [
       "<div>\n",
       "<style scoped>\n",
       "    .dataframe tbody tr th:only-of-type {\n",
       "        vertical-align: middle;\n",
       "    }\n",
       "\n",
       "    .dataframe tbody tr th {\n",
       "        vertical-align: top;\n",
       "    }\n",
       "\n",
       "    .dataframe thead th {\n",
       "        text-align: right;\n",
       "    }\n",
       "</style>\n",
       "<table border=\"1\" class=\"dataframe\">\n",
       "  <thead>\n",
       "    <tr style=\"text-align: right;\">\n",
       "      <th></th>\n",
       "      <th>cluster_id</th>\n",
       "      <th>url</th>\n",
       "      <th>gtin14</th>\n",
       "      <th>sku</th>\n",
       "      <th>name</th>\n",
       "      <th>description</th>\n",
       "      <th>price</th>\n",
       "      <th>priceCurrency</th>\n",
       "      <th>nodeId</th>\n",
       "      <th>brand</th>\n",
       "      <th>gtin13</th>\n",
       "      <th>mpn</th>\n",
       "      <th>productID</th>\n",
       "      <th>manufacturer</th>\n",
       "      <th>gtin</th>\n",
       "      <th>identifier</th>\n",
       "      <th>gtin8</th>\n",
       "      <th>title</th>\n",
       "      <th>gtin12</th>\n",
       "    </tr>\n",
       "  </thead>\n",
       "  <tbody>\n",
       "    <tr>\n",
       "      <th>0</th>\n",
       "      <td>3333680</td>\n",
       "      <td>https://www.tomjoule.de/M%C3%A4dchen/Bekleidun...</td>\n",
       "      <td>5057909836884</td>\n",
       "      <td>209470NVYUNICORN</td>\n",
       "      <td>Lexy Lustig designter Rock, 1-12 Jahre</td>\n",
       "      <td>Ihre Kleine wird die Applikationen, die rundhe...</td>\n",
       "      <td>42.95</td>\n",
       "      <td>EUR</td>\n",
       "      <td>_:node1eq7bc9nqx25330388</td>\n",
       "      <td>None</td>\n",
       "      <td>None</td>\n",
       "      <td>None</td>\n",
       "      <td>None</td>\n",
       "      <td>None</td>\n",
       "      <td>None</td>\n",
       "      <td>None</td>\n",
       "      <td>None</td>\n",
       "      <td>None</td>\n",
       "      <td>None</td>\n",
       "    </tr>\n",
       "    <tr>\n",
       "      <th>1</th>\n",
       "      <td>31634631</td>\n",
       "      <td>https://www.toms-car-hifi.de/zubehoer/car-hifi...</td>\n",
       "      <td>None</td>\n",
       "      <td>340001_acv</td>\n",
       "      <td>ACV - Stossverbinder</td>\n",
       "      <td>ACV-Nr.: 340001StossverbinderKabelstärke: 0,5 ...</td>\n",
       "      <td>4.99</td>\n",
       "      <td>EUR</td>\n",
       "      <td>_:node1eq7bc9nqx25330619</td>\n",
       "      <td>ACV</td>\n",
       "      <td>None</td>\n",
       "      <td>None</td>\n",
       "      <td>None</td>\n",
       "      <td>None</td>\n",
       "      <td>None</td>\n",
       "      <td>None</td>\n",
       "      <td>None</td>\n",
       "      <td>None</td>\n",
       "      <td>None</td>\n",
       "    </tr>\n",
       "    <tr>\n",
       "      <th>2</th>\n",
       "      <td>42406505</td>\n",
       "      <td>https://www.tonaexpert.cz/vyprodej/klic-ockopl...</td>\n",
       "      <td>None</td>\n",
       "      <td>None</td>\n",
       "      <td>Klíč očkoplochý prodloužený 23mm Tona Expert E...</td>\n",
       "      <td>Klíč očkoplochý prodloužený 23mm Tona Expert E...</td>\n",
       "      <td>190.00</td>\n",
       "      <td>CZK</td>\n",
       "      <td>_:node1eq43n5l0x88855842</td>\n",
       "      <td>None</td>\n",
       "      <td>3258951177037</td>\n",
       "      <td>None</td>\n",
       "      <td>None</td>\n",
       "      <td>None</td>\n",
       "      <td>None</td>\n",
       "      <td>None</td>\n",
       "      <td>None</td>\n",
       "      <td>None</td>\n",
       "      <td>None</td>\n",
       "    </tr>\n",
       "    <tr>\n",
       "      <th>3</th>\n",
       "      <td>42362590</td>\n",
       "      <td>https://www.tool.com/wall-cutter-machine-12-inch</td>\n",
       "      <td>None</td>\n",
       "      <td>T-WCM-300A</td>\n",
       "      <td>Hand Control Wall Cutter Machine, 12 inch, 6150W</td>\n",
       "      <td>Competitive price hand control cutter machine ...</td>\n",
       "      <td>1728.46</td>\n",
       "      <td>USD</td>\n",
       "      <td>_:node1eq7vcriax9798783</td>\n",
       "      <td>None</td>\n",
       "      <td>None</td>\n",
       "      <td>None</td>\n",
       "      <td>None</td>\n",
       "      <td>None</td>\n",
       "      <td>None</td>\n",
       "      <td>None</td>\n",
       "      <td>None</td>\n",
       "      <td>None</td>\n",
       "      <td>None</td>\n",
       "    </tr>\n",
       "    <tr>\n",
       "      <th>4</th>\n",
       "      <td>3041730</td>\n",
       "      <td>https://www.toolteam24.com/de-DE/villeroy-boch...</td>\n",
       "      <td>None</td>\n",
       "      <td>4047289974192-209</td>\n",
       "      <td>Villeroy &amp; Boch AWT Loop &amp; Friends 515400 585x...</td>\n",
       "      <td>Ware für Anwender aus Handwerk und Industrie: ...</td>\n",
       "      <td>419.9</td>\n",
       "      <td>EUR</td>\n",
       "      <td>_:node1eq57lgrfx32500456</td>\n",
       "      <td>Villeroy &amp; Boch AG</td>\n",
       "      <td>4047289974192</td>\n",
       "      <td>None</td>\n",
       "      <td>None</td>\n",
       "      <td>None</td>\n",
       "      <td>None</td>\n",
       "      <td>None</td>\n",
       "      <td>None</td>\n",
       "      <td>None</td>\n",
       "      <td>None</td>\n",
       "    </tr>\n",
       "    <tr>\n",
       "      <th>...</th>\n",
       "      <td>...</td>\n",
       "      <td>...</td>\n",
       "      <td>...</td>\n",
       "      <td>...</td>\n",
       "      <td>...</td>\n",
       "      <td>...</td>\n",
       "      <td>...</td>\n",
       "      <td>...</td>\n",
       "      <td>...</td>\n",
       "      <td>...</td>\n",
       "      <td>...</td>\n",
       "      <td>...</td>\n",
       "      <td>...</td>\n",
       "      <td>...</td>\n",
       "      <td>...</td>\n",
       "      <td>...</td>\n",
       "      <td>...</td>\n",
       "      <td>...</td>\n",
       "      <td>...</td>\n",
       "    </tr>\n",
       "    <tr>\n",
       "      <th>98900643</th>\n",
       "      <td>55887318</td>\n",
       "      <td>https://www.kogan.com/au/buy/pertemba-canvas-m...</td>\n",
       "      <td>None</td>\n",
       "      <td>None</td>\n",
       "      <td>Canvas Mens 3/4 Sleeve Baseball T-Shirt (Black...</td>\n",
       "      <td>Due to the current COVID-19 situation, delays ...</td>\n",
       "      <td>27.24</td>\n",
       "      <td>AUD</td>\n",
       "      <td>_:node1eq4pn1h2x65213194</td>\n",
       "      <td>None</td>\n",
       "      <td>5057080846702</td>\n",
       "      <td>None</td>\n",
       "      <td>None</td>\n",
       "      <td>None</td>\n",
       "      <td>None</td>\n",
       "      <td>None</td>\n",
       "      <td>None</td>\n",
       "      <td>None</td>\n",
       "      <td>None</td>\n",
       "    </tr>\n",
       "    <tr>\n",
       "      <th>98900644</th>\n",
       "      <td>56749010</td>\n",
       "      <td>https://www.komercinis.lt/virtuves-baldai/vitr...</td>\n",
       "      <td>None</td>\n",
       "      <td>jur-berg-7</td>\n",
       "      <td>Pakabinama vitrina Berg 7</td>\n",
       "      <td>None</td>\n",
       "      <td>78.53</td>\n",
       "      <td>EUR</td>\n",
       "      <td>_:node1eq4ple1nx20936531</td>\n",
       "      <td>None</td>\n",
       "      <td>None</td>\n",
       "      <td>None</td>\n",
       "      <td>None</td>\n",
       "      <td>None</td>\n",
       "      <td>None</td>\n",
       "      <td>None</td>\n",
       "      <td>None</td>\n",
       "      <td>None</td>\n",
       "      <td>None</td>\n",
       "    </tr>\n",
       "    <tr>\n",
       "      <th>98900645</th>\n",
       "      <td>64611111</td>\n",
       "      <td>https://www.korsholm.dk/grizzly-zonker-strips-...</td>\n",
       "      <td>None</td>\n",
       "      <td>Varenr.: 8529945</td>\n",
       "      <td>Grizzly Zonker strips grå</td>\n",
       "      <td>None</td>\n",
       "      <td>20</td>\n",
       "      <td>DKK</td>\n",
       "      <td>_:node1eqcfes93x26192273</td>\n",
       "      <td>None</td>\n",
       "      <td>None</td>\n",
       "      <td>None</td>\n",
       "      <td>None</td>\n",
       "      <td>None</td>\n",
       "      <td>None</td>\n",
       "      <td>None</td>\n",
       "      <td>None</td>\n",
       "      <td>None</td>\n",
       "      <td>None</td>\n",
       "    </tr>\n",
       "    <tr>\n",
       "      <th>98900646</th>\n",
       "      <td>42270249</td>\n",
       "      <td>https://www.kovovybaveni.cz/p/elektromerovy-ro...</td>\n",
       "      <td>None</td>\n",
       "      <td>None</td>\n",
       "      <td>Elektroměrový rozváděč Aspera REV 10</td>\n",
       "      <td>Oceloplechový elektroměrový rozváděč. Více</td>\n",
       "      <td>None</td>\n",
       "      <td>None</td>\n",
       "      <td>_:node1eqcfes93x26194245</td>\n",
       "      <td>None</td>\n",
       "      <td>None</td>\n",
       "      <td>None</td>\n",
       "      <td>ASV.REV10</td>\n",
       "      <td>None</td>\n",
       "      <td>None</td>\n",
       "      <td>None</td>\n",
       "      <td>None</td>\n",
       "      <td>None</td>\n",
       "      <td>None</td>\n",
       "    </tr>\n",
       "    <tr>\n",
       "      <th>98900647</th>\n",
       "      <td>49420896</td>\n",
       "      <td>https://www.kpodj.com/chauvet-pro-maverick-mk2...</td>\n",
       "      <td>None</td>\n",
       "      <td>None</td>\n",
       "      <td>Chauvet Pro Maverick MK2 Spot/Profile and MK1 ...</td>\n",
       "      <td>Maverick MK2 Spot/Profile and MK1 Spot/Hybrid ...</td>\n",
       "      <td>1264.99</td>\n",
       "      <td>USD</td>\n",
       "      <td>_:node1eq4vfg32x116471450</td>\n",
       "      <td>None</td>\n",
       "      <td>None</td>\n",
       "      <td>791462217556</td>\n",
       "      <td>None</td>\n",
       "      <td>None</td>\n",
       "      <td>None</td>\n",
       "      <td>None</td>\n",
       "      <td>None</td>\n",
       "      <td>None</td>\n",
       "      <td>None</td>\n",
       "    </tr>\n",
       "  </tbody>\n",
       "</table>\n",
       "<p>98900648 rows × 19 columns</p>\n",
       "</div>"
      ],
      "text/plain": [
       "          cluster_id                                                url  \\\n",
       "0            3333680  https://www.tomjoule.de/M%C3%A4dchen/Bekleidun...   \n",
       "1           31634631  https://www.toms-car-hifi.de/zubehoer/car-hifi...   \n",
       "2           42406505  https://www.tonaexpert.cz/vyprodej/klic-ockopl...   \n",
       "3           42362590   https://www.tool.com/wall-cutter-machine-12-inch   \n",
       "4            3041730  https://www.toolteam24.com/de-DE/villeroy-boch...   \n",
       "...              ...                                                ...   \n",
       "98900643    55887318  https://www.kogan.com/au/buy/pertemba-canvas-m...   \n",
       "98900644    56749010  https://www.komercinis.lt/virtuves-baldai/vitr...   \n",
       "98900645    64611111  https://www.korsholm.dk/grizzly-zonker-strips-...   \n",
       "98900646    42270249  https://www.kovovybaveni.cz/p/elektromerovy-ro...   \n",
       "98900647    49420896  https://www.kpodj.com/chauvet-pro-maverick-mk2...   \n",
       "\n",
       "                 gtin14                sku  \\\n",
       "0         5057909836884   209470NVYUNICORN   \n",
       "1                  None         340001_acv   \n",
       "2                  None               None   \n",
       "3                  None         T-WCM-300A   \n",
       "4                  None  4047289974192-209   \n",
       "...                 ...                ...   \n",
       "98900643           None               None   \n",
       "98900644           None         jur-berg-7   \n",
       "98900645           None   Varenr.: 8529945   \n",
       "98900646           None               None   \n",
       "98900647           None               None   \n",
       "\n",
       "                                                       name  \\\n",
       "0                    Lexy Lustig designter Rock, 1-12 Jahre   \n",
       "1                                      ACV - Stossverbinder   \n",
       "2         Klíč očkoplochý prodloužený 23mm Tona Expert E...   \n",
       "3          Hand Control Wall Cutter Machine, 12 inch, 6150W   \n",
       "4         Villeroy & Boch AWT Loop & Friends 515400 585x...   \n",
       "...                                                     ...   \n",
       "98900643  Canvas Mens 3/4 Sleeve Baseball T-Shirt (Black...   \n",
       "98900644                          Pakabinama vitrina Berg 7   \n",
       "98900645                          Grizzly Zonker strips grå   \n",
       "98900646               Elektroměrový rozváděč Aspera REV 10   \n",
       "98900647  Chauvet Pro Maverick MK2 Spot/Profile and MK1 ...   \n",
       "\n",
       "                                                description    price  \\\n",
       "0         Ihre Kleine wird die Applikationen, die rundhe...    42.95   \n",
       "1         ACV-Nr.: 340001StossverbinderKabelstärke: 0,5 ...     4.99   \n",
       "2         Klíč očkoplochý prodloužený 23mm Tona Expert E...   190.00   \n",
       "3         Competitive price hand control cutter machine ...  1728.46   \n",
       "4         Ware für Anwender aus Handwerk und Industrie: ...    419.9   \n",
       "...                                                     ...      ...   \n",
       "98900643  Due to the current COVID-19 situation, delays ...    27.24   \n",
       "98900644                                               None    78.53   \n",
       "98900645                                               None       20   \n",
       "98900646         Oceloplechový elektroměrový rozváděč. Více     None   \n",
       "98900647  Maverick MK2 Spot/Profile and MK1 Spot/Hybrid ...  1264.99   \n",
       "\n",
       "         priceCurrency                     nodeId               brand  \\\n",
       "0                  EUR   _:node1eq7bc9nqx25330388                None   \n",
       "1                  EUR   _:node1eq7bc9nqx25330619                 ACV   \n",
       "2                  CZK   _:node1eq43n5l0x88855842                None   \n",
       "3                  USD    _:node1eq7vcriax9798783                None   \n",
       "4                  EUR   _:node1eq57lgrfx32500456  Villeroy & Boch AG   \n",
       "...                ...                        ...                 ...   \n",
       "98900643           AUD   _:node1eq4pn1h2x65213194                None   \n",
       "98900644           EUR   _:node1eq4ple1nx20936531                None   \n",
       "98900645           DKK   _:node1eqcfes93x26192273                None   \n",
       "98900646          None   _:node1eqcfes93x26194245                None   \n",
       "98900647           USD  _:node1eq4vfg32x116471450                None   \n",
       "\n",
       "                 gtin13           mpn  productID manufacturer  gtin  \\\n",
       "0                  None          None       None         None  None   \n",
       "1                  None          None       None         None  None   \n",
       "2         3258951177037          None       None         None  None   \n",
       "3                  None          None       None         None  None   \n",
       "4         4047289974192          None       None         None  None   \n",
       "...                 ...           ...        ...          ...   ...   \n",
       "98900643  5057080846702          None       None         None  None   \n",
       "98900644           None          None       None         None  None   \n",
       "98900645           None          None       None         None  None   \n",
       "98900646           None          None  ASV.REV10         None  None   \n",
       "98900647           None  791462217556       None         None  None   \n",
       "\n",
       "         identifier gtin8 title gtin12  \n",
       "0              None  None  None   None  \n",
       "1              None  None  None   None  \n",
       "2              None  None  None   None  \n",
       "3              None  None  None   None  \n",
       "4              None  None  None   None  \n",
       "...             ...   ...   ...    ...  \n",
       "98900643       None  None  None   None  \n",
       "98900644       None  None  None   None  \n",
       "98900645       None  None  None   None  \n",
       "98900646       None  None  None   None  \n",
       "98900647       None  None  None   None  \n",
       "\n",
       "[98900648 rows x 19 columns]"
      ]
     },
     "execution_count": 17,
     "metadata": {},
     "output_type": "execute_result"
    }
   ],
   "source": [
    "df_large_all"
   ]
  },
  {
   "cell_type": "code",
   "execution_count": 21,
   "metadata": {},
   "outputs": [
    {
     "data": {
      "text/html": [
       "<div>\n",
       "<style scoped>\n",
       "    .dataframe tbody tr th:only-of-type {\n",
       "        vertical-align: middle;\n",
       "    }\n",
       "\n",
       "    .dataframe tbody tr th {\n",
       "        vertical-align: top;\n",
       "    }\n",
       "\n",
       "    .dataframe thead th {\n",
       "        text-align: right;\n",
       "    }\n",
       "</style>\n",
       "<table border=\"1\" class=\"dataframe\">\n",
       "  <thead>\n",
       "    <tr style=\"text-align: right;\">\n",
       "      <th></th>\n",
       "      <th>cluster_id</th>\n",
       "      <th>url</th>\n",
       "      <th>name</th>\n",
       "      <th>description</th>\n",
       "      <th>brand</th>\n",
       "    </tr>\n",
       "  </thead>\n",
       "  <tbody>\n",
       "    <tr>\n",
       "      <th>0</th>\n",
       "      <td>3333680</td>\n",
       "      <td>https://www.tomjoule.de/M%C3%A4dchen/Bekleidun...</td>\n",
       "      <td>Lexy Lustig designter Rock, 1-12 Jahre</td>\n",
       "      <td>Ihre Kleine wird die Applikationen, die rundhe...</td>\n",
       "      <td>None</td>\n",
       "    </tr>\n",
       "    <tr>\n",
       "      <th>1</th>\n",
       "      <td>31634631</td>\n",
       "      <td>https://www.toms-car-hifi.de/zubehoer/car-hifi...</td>\n",
       "      <td>ACV - Stossverbinder</td>\n",
       "      <td>ACV-Nr.: 340001StossverbinderKabelstärke: 0,5 ...</td>\n",
       "      <td>ACV</td>\n",
       "    </tr>\n",
       "    <tr>\n",
       "      <th>2</th>\n",
       "      <td>42406505</td>\n",
       "      <td>https://www.tonaexpert.cz/vyprodej/klic-ockopl...</td>\n",
       "      <td>Klíč očkoplochý prodloužený 23mm Tona Expert E...</td>\n",
       "      <td>Klíč očkoplochý prodloužený 23mm Tona Expert E...</td>\n",
       "      <td>None</td>\n",
       "    </tr>\n",
       "    <tr>\n",
       "      <th>3</th>\n",
       "      <td>42362590</td>\n",
       "      <td>https://www.tool.com/wall-cutter-machine-12-inch</td>\n",
       "      <td>Hand Control Wall Cutter Machine, 12 inch, 6150W</td>\n",
       "      <td>Competitive price hand control cutter machine ...</td>\n",
       "      <td>None</td>\n",
       "    </tr>\n",
       "    <tr>\n",
       "      <th>4</th>\n",
       "      <td>3041730</td>\n",
       "      <td>https://www.toolteam24.com/de-DE/villeroy-boch...</td>\n",
       "      <td>Villeroy &amp; Boch AWT Loop &amp; Friends 515400 585x...</td>\n",
       "      <td>Ware für Anwender aus Handwerk und Industrie: ...</td>\n",
       "      <td>Villeroy &amp; Boch AG</td>\n",
       "    </tr>\n",
       "    <tr>\n",
       "      <th>...</th>\n",
       "      <td>...</td>\n",
       "      <td>...</td>\n",
       "      <td>...</td>\n",
       "      <td>...</td>\n",
       "      <td>...</td>\n",
       "    </tr>\n",
       "    <tr>\n",
       "      <th>98900643</th>\n",
       "      <td>55887318</td>\n",
       "      <td>https://www.kogan.com/au/buy/pertemba-canvas-m...</td>\n",
       "      <td>Canvas Mens 3/4 Sleeve Baseball T-Shirt (Black...</td>\n",
       "      <td>Due to the current COVID-19 situation, delays ...</td>\n",
       "      <td>None</td>\n",
       "    </tr>\n",
       "    <tr>\n",
       "      <th>98900644</th>\n",
       "      <td>56749010</td>\n",
       "      <td>https://www.komercinis.lt/virtuves-baldai/vitr...</td>\n",
       "      <td>Pakabinama vitrina Berg 7</td>\n",
       "      <td>None</td>\n",
       "      <td>None</td>\n",
       "    </tr>\n",
       "    <tr>\n",
       "      <th>98900645</th>\n",
       "      <td>64611111</td>\n",
       "      <td>https://www.korsholm.dk/grizzly-zonker-strips-...</td>\n",
       "      <td>Grizzly Zonker strips grå</td>\n",
       "      <td>None</td>\n",
       "      <td>None</td>\n",
       "    </tr>\n",
       "    <tr>\n",
       "      <th>98900646</th>\n",
       "      <td>42270249</td>\n",
       "      <td>https://www.kovovybaveni.cz/p/elektromerovy-ro...</td>\n",
       "      <td>Elektroměrový rozváděč Aspera REV 10</td>\n",
       "      <td>Oceloplechový elektroměrový rozváděč. Více</td>\n",
       "      <td>None</td>\n",
       "    </tr>\n",
       "    <tr>\n",
       "      <th>98900647</th>\n",
       "      <td>49420896</td>\n",
       "      <td>https://www.kpodj.com/chauvet-pro-maverick-mk2...</td>\n",
       "      <td>Chauvet Pro Maverick MK2 Spot/Profile and MK1 ...</td>\n",
       "      <td>Maverick MK2 Spot/Profile and MK1 Spot/Hybrid ...</td>\n",
       "      <td>None</td>\n",
       "    </tr>\n",
       "  </tbody>\n",
       "</table>\n",
       "<p>98900648 rows × 5 columns</p>\n",
       "</div>"
      ],
      "text/plain": [
       "          cluster_id                                                url  \\\n",
       "0            3333680  https://www.tomjoule.de/M%C3%A4dchen/Bekleidun...   \n",
       "1           31634631  https://www.toms-car-hifi.de/zubehoer/car-hifi...   \n",
       "2           42406505  https://www.tonaexpert.cz/vyprodej/klic-ockopl...   \n",
       "3           42362590   https://www.tool.com/wall-cutter-machine-12-inch   \n",
       "4            3041730  https://www.toolteam24.com/de-DE/villeroy-boch...   \n",
       "...              ...                                                ...   \n",
       "98900643    55887318  https://www.kogan.com/au/buy/pertemba-canvas-m...   \n",
       "98900644    56749010  https://www.komercinis.lt/virtuves-baldai/vitr...   \n",
       "98900645    64611111  https://www.korsholm.dk/grizzly-zonker-strips-...   \n",
       "98900646    42270249  https://www.kovovybaveni.cz/p/elektromerovy-ro...   \n",
       "98900647    49420896  https://www.kpodj.com/chauvet-pro-maverick-mk2...   \n",
       "\n",
       "                                                       name  \\\n",
       "0                    Lexy Lustig designter Rock, 1-12 Jahre   \n",
       "1                                      ACV - Stossverbinder   \n",
       "2         Klíč očkoplochý prodloužený 23mm Tona Expert E...   \n",
       "3          Hand Control Wall Cutter Machine, 12 inch, 6150W   \n",
       "4         Villeroy & Boch AWT Loop & Friends 515400 585x...   \n",
       "...                                                     ...   \n",
       "98900643  Canvas Mens 3/4 Sleeve Baseball T-Shirt (Black...   \n",
       "98900644                          Pakabinama vitrina Berg 7   \n",
       "98900645                          Grizzly Zonker strips grå   \n",
       "98900646               Elektroměrový rozváděč Aspera REV 10   \n",
       "98900647  Chauvet Pro Maverick MK2 Spot/Profile and MK1 ...   \n",
       "\n",
       "                                                description  \\\n",
       "0         Ihre Kleine wird die Applikationen, die rundhe...   \n",
       "1         ACV-Nr.: 340001StossverbinderKabelstärke: 0,5 ...   \n",
       "2         Klíč očkoplochý prodloužený 23mm Tona Expert E...   \n",
       "3         Competitive price hand control cutter machine ...   \n",
       "4         Ware für Anwender aus Handwerk und Industrie: ...   \n",
       "...                                                     ...   \n",
       "98900643  Due to the current COVID-19 situation, delays ...   \n",
       "98900644                                               None   \n",
       "98900645                                               None   \n",
       "98900646         Oceloplechový elektroměrový rozváděč. Více   \n",
       "98900647  Maverick MK2 Spot/Profile and MK1 Spot/Hybrid ...   \n",
       "\n",
       "                       brand  \n",
       "0                       None  \n",
       "1                        ACV  \n",
       "2                       None  \n",
       "3                       None  \n",
       "4         Villeroy & Boch AG  \n",
       "...                      ...  \n",
       "98900643                None  \n",
       "98900644                None  \n",
       "98900645                None  \n",
       "98900646                None  \n",
       "98900647                None  \n",
       "\n",
       "[98900648 rows x 5 columns]"
      ]
     },
     "execution_count": 21,
     "metadata": {},
     "output_type": "execute_result"
    }
   ],
   "source": [
    "df_large_all[['cluster_id','url','name','description','brand']]"
   ]
  },
  {
   "cell_type": "code",
   "execution_count": 22,
   "metadata": {},
   "outputs": [],
   "source": [
    "df_large_matched = df_large.merge(df_large_all[['cluster_id','url','name','description','brand']], left_on=['cluster_id','url'], right_on = ['cluster_id','url'], how='left')"
   ]
  },
  {
   "cell_type": "code",
   "execution_count": 23,
   "metadata": {},
   "outputs": [
    {
     "data": {
      "text/html": [
       "<div>\n",
       "<style scoped>\n",
       "    .dataframe tbody tr th:only-of-type {\n",
       "        vertical-align: middle;\n",
       "    }\n",
       "\n",
       "    .dataframe tbody tr th {\n",
       "        vertical-align: top;\n",
       "    }\n",
       "\n",
       "    .dataframe thead th {\n",
       "        text-align: right;\n",
       "    }\n",
       "</style>\n",
       "<table border=\"1\" class=\"dataframe\">\n",
       "  <thead>\n",
       "    <tr style=\"text-align: right;\">\n",
       "      <th></th>\n",
       "      <th>cluster_id</th>\n",
       "      <th>url</th>\n",
       "      <th>row_id</th>\n",
       "      <th>table_id</th>\n",
       "      <th>Valid</th>\n",
       "      <th>name</th>\n",
       "      <th>description</th>\n",
       "      <th>brand</th>\n",
       "    </tr>\n",
       "  </thead>\n",
       "  <tbody>\n",
       "    <tr>\n",
       "      <th>0</th>\n",
       "      <td>59178314</td>\n",
       "      <td>https://www.cultureindoor.com/796-irrigation-a...</td>\n",
       "      <td>1561</td>\n",
       "      <td>Product_cultureindoor.com_September2020.json.gz</td>\n",
       "      <td>1</td>\n",
       "      <td>irrigation ,arrosage Tuyau PE 20mm semi rigide...</td>\n",
       "      <td>Tuyau PE 20mm semi rigide rouleau 100m, idéal ...</td>\n",
       "      <td>FRANCE ARROSAGE</td>\n",
       "    </tr>\n",
       "    <tr>\n",
       "      <th>1</th>\n",
       "      <td>70692685</td>\n",
       "      <td>https://www.culturekings.com/products/new-era-...</td>\n",
       "      <td>3893</td>\n",
       "      <td>Product_culturekings.com_September2020.json.gz</td>\n",
       "      <td>1</td>\n",
       "      <td>New Era New Orleans Pelicans NBA 9FORTY A-Fram...</td>\n",
       "      <td>New Era is back at it again this season with a...</td>\n",
       "      <td>None</td>\n",
       "    </tr>\n",
       "    <tr>\n",
       "      <th>2</th>\n",
       "      <td>395606</td>\n",
       "      <td>https://www.culturekings.com/products/new-era-...</td>\n",
       "      <td>3894</td>\n",
       "      <td>Product_culturekings.com_September2020.json.gz</td>\n",
       "      <td>1</td>\n",
       "      <td>New Era X NRL West Tigers Aframe Charcoal/orange</td>\n",
       "      <td>The Iconic New Era is the premium siloute of h...</td>\n",
       "      <td>None</td>\n",
       "    </tr>\n",
       "    <tr>\n",
       "      <th>3</th>\n",
       "      <td>3361797</td>\n",
       "      <td>https://www.customizedgirl.com/design/2605608/...</td>\n",
       "      <td>9318</td>\n",
       "      <td>Product_customizedgirl.com_September2020.json.gz</td>\n",
       "      <td>1</td>\n",
       "      <td>The Real Baseball Moms (2XL)</td>\n",
       "      <td>Are you a real baseball mom fan? Customize a c...</td>\n",
       "      <td>CustomizedGirl.com</td>\n",
       "    </tr>\n",
       "    <tr>\n",
       "      <th>4</th>\n",
       "      <td>235755</td>\n",
       "      <td>https://www.customizedgirl.com/design/2613423/...</td>\n",
       "      <td>9319</td>\n",
       "      <td>Product_customizedgirl.com_September2020.json.gz</td>\n",
       "      <td>1</td>\n",
       "      <td>Mentally Dating Ronaldo (2XL)</td>\n",
       "      <td>Mentally dating Christiano Ronaldo. Yeah girl,...</td>\n",
       "      <td>CustomizedGirl.com</td>\n",
       "    </tr>\n",
       "    <tr>\n",
       "      <th>...</th>\n",
       "      <td>...</td>\n",
       "      <td>...</td>\n",
       "      <td>...</td>\n",
       "      <td>...</td>\n",
       "      <td>...</td>\n",
       "      <td>...</td>\n",
       "      <td>...</td>\n",
       "      <td>...</td>\n",
       "    </tr>\n",
       "    <tr>\n",
       "      <th>24688354</th>\n",
       "      <td>8653717</td>\n",
       "      <td>https://shop-list.com/women/utuwa-tatara/sg323...</td>\n",
       "      <td>1620</td>\n",
       "      <td>Product_shop-list.com_September2020.json.gz</td>\n",
       "      <td>1</td>\n",
       "      <td>vZXEC h[ yAv[gZbg(Vf) v[g Mtg </td>\n",
       "      <td>yPrincessRoyalDreams-vZXCh[-zyAv[gZbg(Vf)(v[g2...</td>\n",
       "      <td>None</td>\n",
       "    </tr>\n",
       "    <tr>\n",
       "      <th>24688355</th>\n",
       "      <td>22258637</td>\n",
       "      <td>https://shop-list.com/women/youmotto/famille-ltm</td>\n",
       "      <td>1621</td>\n",
       "      <td>Product_shop-list.com_September2020.json.gz</td>\n",
       "      <td>1</td>\n",
       "      <td>t@~[ OgC}bg80~60cm[gC }bg gC^[ Jg[ _ i` IV AC{...</td>\n",
       "      <td>yiڍׁzyގzpC/|GXe100yTCYz80~60cmyYzyɂĂ̂ӁzEŏ̐͗Vі...</td>\n",
       "      <td>None</td>\n",
       "    </tr>\n",
       "    <tr>\n",
       "      <th>24688356</th>\n",
       "      <td>41434658</td>\n",
       "      <td>https://shop.agwaycapecod.com/products/0190147...</td>\n",
       "      <td>126</td>\n",
       "      <td>Product_agwaycapecod.com_September2020.json.gz</td>\n",
       "      <td>1</td>\n",
       "      <td>Adult Small Breed Dog Food, 5-Lb.</td>\n",
       "      <td>Eukanuba, 5 LB, Adult Small Breed Dry Dog Food...</td>\n",
       "      <td>None</td>\n",
       "    </tr>\n",
       "    <tr>\n",
       "      <th>24688357</th>\n",
       "      <td>62702145</td>\n",
       "      <td>https://shop.agwaycapecod.com/products/0373214...</td>\n",
       "      <td>127</td>\n",
       "      <td>Product_agwaycapecod.com_September2020.json.gz</td>\n",
       "      <td>1</td>\n",
       "      <td>Ant Killer Dust, 3-Lbs.</td>\n",
       "      <td>3 LB, Water-Proof Ant Killer Dust, Use Indoors...</td>\n",
       "      <td>None</td>\n",
       "    </tr>\n",
       "    <tr>\n",
       "      <th>24688358</th>\n",
       "      <td>60936713</td>\n",
       "      <td>https://shop.areefcreation.com/products/ls-apr...</td>\n",
       "      <td>120</td>\n",
       "      <td>Product_areefcreation.com_September2020.json.gz</td>\n",
       "      <td>1</td>\n",
       "      <td>ARC Prince Acro</td>\n",
       "      <td>None</td>\n",
       "      <td>None</td>\n",
       "    </tr>\n",
       "  </tbody>\n",
       "</table>\n",
       "<p>24688359 rows × 8 columns</p>\n",
       "</div>"
      ],
      "text/plain": [
       "          cluster_id                                                url  \\\n",
       "0           59178314  https://www.cultureindoor.com/796-irrigation-a...   \n",
       "1           70692685  https://www.culturekings.com/products/new-era-...   \n",
       "2             395606  https://www.culturekings.com/products/new-era-...   \n",
       "3            3361797  https://www.customizedgirl.com/design/2605608/...   \n",
       "4             235755  https://www.customizedgirl.com/design/2613423/...   \n",
       "...              ...                                                ...   \n",
       "24688354     8653717  https://shop-list.com/women/utuwa-tatara/sg323...   \n",
       "24688355    22258637   https://shop-list.com/women/youmotto/famille-ltm   \n",
       "24688356    41434658  https://shop.agwaycapecod.com/products/0190147...   \n",
       "24688357    62702145  https://shop.agwaycapecod.com/products/0373214...   \n",
       "24688358    60936713  https://shop.areefcreation.com/products/ls-apr...   \n",
       "\n",
       "          row_id                                          table_id  Valid  \\\n",
       "0           1561   Product_cultureindoor.com_September2020.json.gz      1   \n",
       "1           3893    Product_culturekings.com_September2020.json.gz      1   \n",
       "2           3894    Product_culturekings.com_September2020.json.gz      1   \n",
       "3           9318  Product_customizedgirl.com_September2020.json.gz      1   \n",
       "4           9319  Product_customizedgirl.com_September2020.json.gz      1   \n",
       "...          ...                                               ...    ...   \n",
       "24688354    1620       Product_shop-list.com_September2020.json.gz      1   \n",
       "24688355    1621       Product_shop-list.com_September2020.json.gz      1   \n",
       "24688356     126    Product_agwaycapecod.com_September2020.json.gz      1   \n",
       "24688357     127    Product_agwaycapecod.com_September2020.json.gz      1   \n",
       "24688358     120   Product_areefcreation.com_September2020.json.gz      1   \n",
       "\n",
       "                                                       name  \\\n",
       "0         irrigation ,arrosage Tuyau PE 20mm semi rigide...   \n",
       "1         New Era New Orleans Pelicans NBA 9FORTY A-Fram...   \n",
       "2          New Era X NRL West Tigers Aframe Charcoal/orange   \n",
       "3                              The Real Baseball Moms (2XL)   \n",
       "4                             Mentally Dating Ronaldo (2XL)   \n",
       "...                                                     ...   \n",
       "24688354                    vZXEC h[ yAv[gZbg(Vf) v[g Mtg    \n",
       "24688355  t@~[ OgC}bg80~60cm[gC }bg gC^[ Jg[ _ i` IV AC{...   \n",
       "24688356                  Adult Small Breed Dog Food, 5-Lb.   \n",
       "24688357                            Ant Killer Dust, 3-Lbs.   \n",
       "24688358                                    ARC Prince Acro   \n",
       "\n",
       "                                                description  \\\n",
       "0         Tuyau PE 20mm semi rigide rouleau 100m, idéal ...   \n",
       "1         New Era is back at it again this season with a...   \n",
       "2         The Iconic New Era is the premium siloute of h...   \n",
       "3         Are you a real baseball mom fan? Customize a c...   \n",
       "4         Mentally dating Christiano Ronaldo. Yeah girl,...   \n",
       "...                                                     ...   \n",
       "24688354  yPrincessRoyalDreams-vZXCh[-zyAv[gZbg(Vf)(v[g2...   \n",
       "24688355  yiڍׁzyގzpC/|GXe100yTCYz80~60cmyYzyɂĂ̂ӁzEŏ̐͗Vі...   \n",
       "24688356  Eukanuba, 5 LB, Adult Small Breed Dry Dog Food...   \n",
       "24688357  3 LB, Water-Proof Ant Killer Dust, Use Indoors...   \n",
       "24688358                                               None   \n",
       "\n",
       "                       brand  \n",
       "0            FRANCE ARROSAGE  \n",
       "1                       None  \n",
       "2                       None  \n",
       "3         CustomizedGirl.com  \n",
       "4         CustomizedGirl.com  \n",
       "...                      ...  \n",
       "24688354                None  \n",
       "24688355                None  \n",
       "24688356                None  \n",
       "24688357                None  \n",
       "24688358                None  \n",
       "\n",
       "[24688359 rows x 8 columns]"
      ]
     },
     "execution_count": 23,
     "metadata": {},
     "output_type": "execute_result"
    }
   ],
   "source": [
    "df_large_matched"
   ]
  },
  {
   "cell_type": "code",
   "execution_count": 24,
   "metadata": {},
   "outputs": [],
   "source": [
    "df_large_matched.to_json(os.path.join(mapping_corpus_path_2, 'df_large_matched'), compression='gzip', orient='records', lines=True)"
   ]
  },
  {
   "cell_type": "code",
   "execution_count": 25,
   "metadata": {},
   "outputs": [
    {
     "data": {
      "text/html": [
       "<div>\n",
       "<style scoped>\n",
       "    .dataframe tbody tr th:only-of-type {\n",
       "        vertical-align: middle;\n",
       "    }\n",
       "\n",
       "    .dataframe tbody tr th {\n",
       "        vertical-align: top;\n",
       "    }\n",
       "\n",
       "    .dataframe thead th {\n",
       "        text-align: right;\n",
       "    }\n",
       "</style>\n",
       "<table border=\"1\" class=\"dataframe\">\n",
       "  <thead>\n",
       "    <tr style=\"text-align: right;\">\n",
       "      <th></th>\n",
       "      <th>cluster_id</th>\n",
       "      <th>url</th>\n",
       "      <th>row_id</th>\n",
       "      <th>table_id</th>\n",
       "      <th>Valid</th>\n",
       "      <th>name</th>\n",
       "      <th>description</th>\n",
       "      <th>brand</th>\n",
       "    </tr>\n",
       "  </thead>\n",
       "  <tbody>\n",
       "    <tr>\n",
       "      <th>0</th>\n",
       "      <td>59178314</td>\n",
       "      <td>https://www.cultureindoor.com/796-irrigation-a...</td>\n",
       "      <td>1561</td>\n",
       "      <td>Product_cultureindoor.com_September2020.json.gz</td>\n",
       "      <td>1</td>\n",
       "      <td>irrigation ,arrosage Tuyau PE 20mm semi rigide...</td>\n",
       "      <td>Tuyau PE 20mm semi rigide rouleau 100m, idéal ...</td>\n",
       "      <td>FRANCE ARROSAGE</td>\n",
       "    </tr>\n",
       "    <tr>\n",
       "      <th>1</th>\n",
       "      <td>70692685</td>\n",
       "      <td>https://www.culturekings.com/products/new-era-...</td>\n",
       "      <td>3893</td>\n",
       "      <td>Product_culturekings.com_September2020.json.gz</td>\n",
       "      <td>1</td>\n",
       "      <td>New Era New Orleans Pelicans NBA 9FORTY A-Fram...</td>\n",
       "      <td>New Era is back at it again this season with a...</td>\n",
       "      <td>None</td>\n",
       "    </tr>\n",
       "    <tr>\n",
       "      <th>2</th>\n",
       "      <td>395606</td>\n",
       "      <td>https://www.culturekings.com/products/new-era-...</td>\n",
       "      <td>3894</td>\n",
       "      <td>Product_culturekings.com_September2020.json.gz</td>\n",
       "      <td>1</td>\n",
       "      <td>New Era X NRL West Tigers Aframe Charcoal/orange</td>\n",
       "      <td>The Iconic New Era is the premium siloute of h...</td>\n",
       "      <td>None</td>\n",
       "    </tr>\n",
       "    <tr>\n",
       "      <th>3</th>\n",
       "      <td>3361797</td>\n",
       "      <td>https://www.customizedgirl.com/design/2605608/...</td>\n",
       "      <td>9318</td>\n",
       "      <td>Product_customizedgirl.com_September2020.json.gz</td>\n",
       "      <td>1</td>\n",
       "      <td>The Real Baseball Moms (2XL)</td>\n",
       "      <td>Are you a real baseball mom fan? Customize a c...</td>\n",
       "      <td>CustomizedGirl.com</td>\n",
       "    </tr>\n",
       "    <tr>\n",
       "      <th>4</th>\n",
       "      <td>235755</td>\n",
       "      <td>https://www.customizedgirl.com/design/2613423/...</td>\n",
       "      <td>9319</td>\n",
       "      <td>Product_customizedgirl.com_September2020.json.gz</td>\n",
       "      <td>1</td>\n",
       "      <td>Mentally Dating Ronaldo (2XL)</td>\n",
       "      <td>Mentally dating Christiano Ronaldo. Yeah girl,...</td>\n",
       "      <td>CustomizedGirl.com</td>\n",
       "    </tr>\n",
       "    <tr>\n",
       "      <th>...</th>\n",
       "      <td>...</td>\n",
       "      <td>...</td>\n",
       "      <td>...</td>\n",
       "      <td>...</td>\n",
       "      <td>...</td>\n",
       "      <td>...</td>\n",
       "      <td>...</td>\n",
       "      <td>...</td>\n",
       "    </tr>\n",
       "    <tr>\n",
       "      <th>24688354</th>\n",
       "      <td>8653717</td>\n",
       "      <td>https://shop-list.com/women/utuwa-tatara/sg323...</td>\n",
       "      <td>1620</td>\n",
       "      <td>Product_shop-list.com_September2020.json.gz</td>\n",
       "      <td>1</td>\n",
       "      <td>vZXEC h[ yAv[gZbg(Vf) v[g Mtg </td>\n",
       "      <td>yPrincessRoyalDreams-vZXCh[-zyAv[gZbg(Vf)(v[g2...</td>\n",
       "      <td>None</td>\n",
       "    </tr>\n",
       "    <tr>\n",
       "      <th>24688355</th>\n",
       "      <td>22258637</td>\n",
       "      <td>https://shop-list.com/women/youmotto/famille-ltm</td>\n",
       "      <td>1621</td>\n",
       "      <td>Product_shop-list.com_September2020.json.gz</td>\n",
       "      <td>1</td>\n",
       "      <td>t@~[ OgC}bg80~60cm[gC }bg gC^[ Jg[ _ i` IV AC{...</td>\n",
       "      <td>yiڍׁzyގzpC/|GXe100yTCYz80~60cmyYzyɂĂ̂ӁzEŏ̐͗Vі...</td>\n",
       "      <td>None</td>\n",
       "    </tr>\n",
       "    <tr>\n",
       "      <th>24688356</th>\n",
       "      <td>41434658</td>\n",
       "      <td>https://shop.agwaycapecod.com/products/0190147...</td>\n",
       "      <td>126</td>\n",
       "      <td>Product_agwaycapecod.com_September2020.json.gz</td>\n",
       "      <td>1</td>\n",
       "      <td>Adult Small Breed Dog Food, 5-Lb.</td>\n",
       "      <td>Eukanuba, 5 LB, Adult Small Breed Dry Dog Food...</td>\n",
       "      <td>None</td>\n",
       "    </tr>\n",
       "    <tr>\n",
       "      <th>24688357</th>\n",
       "      <td>62702145</td>\n",
       "      <td>https://shop.agwaycapecod.com/products/0373214...</td>\n",
       "      <td>127</td>\n",
       "      <td>Product_agwaycapecod.com_September2020.json.gz</td>\n",
       "      <td>1</td>\n",
       "      <td>Ant Killer Dust, 3-Lbs.</td>\n",
       "      <td>3 LB, Water-Proof Ant Killer Dust, Use Indoors...</td>\n",
       "      <td>None</td>\n",
       "    </tr>\n",
       "    <tr>\n",
       "      <th>24688358</th>\n",
       "      <td>60936713</td>\n",
       "      <td>https://shop.areefcreation.com/products/ls-apr...</td>\n",
       "      <td>120</td>\n",
       "      <td>Product_areefcreation.com_September2020.json.gz</td>\n",
       "      <td>1</td>\n",
       "      <td>ARC Prince Acro</td>\n",
       "      <td>None</td>\n",
       "      <td>None</td>\n",
       "    </tr>\n",
       "  </tbody>\n",
       "</table>\n",
       "<p>24688359 rows × 8 columns</p>\n",
       "</div>"
      ],
      "text/plain": [
       "          cluster_id                                                url  \\\n",
       "0           59178314  https://www.cultureindoor.com/796-irrigation-a...   \n",
       "1           70692685  https://www.culturekings.com/products/new-era-...   \n",
       "2             395606  https://www.culturekings.com/products/new-era-...   \n",
       "3            3361797  https://www.customizedgirl.com/design/2605608/...   \n",
       "4             235755  https://www.customizedgirl.com/design/2613423/...   \n",
       "...              ...                                                ...   \n",
       "24688354     8653717  https://shop-list.com/women/utuwa-tatara/sg323...   \n",
       "24688355    22258637   https://shop-list.com/women/youmotto/famille-ltm   \n",
       "24688356    41434658  https://shop.agwaycapecod.com/products/0190147...   \n",
       "24688357    62702145  https://shop.agwaycapecod.com/products/0373214...   \n",
       "24688358    60936713  https://shop.areefcreation.com/products/ls-apr...   \n",
       "\n",
       "          row_id                                          table_id  Valid  \\\n",
       "0           1561   Product_cultureindoor.com_September2020.json.gz      1   \n",
       "1           3893    Product_culturekings.com_September2020.json.gz      1   \n",
       "2           3894    Product_culturekings.com_September2020.json.gz      1   \n",
       "3           9318  Product_customizedgirl.com_September2020.json.gz      1   \n",
       "4           9319  Product_customizedgirl.com_September2020.json.gz      1   \n",
       "...          ...                                               ...    ...   \n",
       "24688354    1620       Product_shop-list.com_September2020.json.gz      1   \n",
       "24688355    1621       Product_shop-list.com_September2020.json.gz      1   \n",
       "24688356     126    Product_agwaycapecod.com_September2020.json.gz      1   \n",
       "24688357     127    Product_agwaycapecod.com_September2020.json.gz      1   \n",
       "24688358     120   Product_areefcreation.com_September2020.json.gz      1   \n",
       "\n",
       "                                                       name  \\\n",
       "0         irrigation ,arrosage Tuyau PE 20mm semi rigide...   \n",
       "1         New Era New Orleans Pelicans NBA 9FORTY A-Fram...   \n",
       "2          New Era X NRL West Tigers Aframe Charcoal/orange   \n",
       "3                              The Real Baseball Moms (2XL)   \n",
       "4                             Mentally Dating Ronaldo (2XL)   \n",
       "...                                                     ...   \n",
       "24688354                    vZXEC h[ yAv[gZbg(Vf) v[g Mtg    \n",
       "24688355  t@~[ OgC}bg80~60cm[gC }bg gC^[ Jg[ _ i` IV AC{...   \n",
       "24688356                  Adult Small Breed Dog Food, 5-Lb.   \n",
       "24688357                            Ant Killer Dust, 3-Lbs.   \n",
       "24688358                                    ARC Prince Acro   \n",
       "\n",
       "                                                description  \\\n",
       "0         Tuyau PE 20mm semi rigide rouleau 100m, idéal ...   \n",
       "1         New Era is back at it again this season with a...   \n",
       "2         The Iconic New Era is the premium siloute of h...   \n",
       "3         Are you a real baseball mom fan? Customize a c...   \n",
       "4         Mentally dating Christiano Ronaldo. Yeah girl,...   \n",
       "...                                                     ...   \n",
       "24688354  yPrincessRoyalDreams-vZXCh[-zyAv[gZbg(Vf)(v[g2...   \n",
       "24688355  yiڍׁzyގzpC/|GXe100yTCYz80~60cmyYzyɂĂ̂ӁzEŏ̐͗Vі...   \n",
       "24688356  Eukanuba, 5 LB, Adult Small Breed Dry Dog Food...   \n",
       "24688357  3 LB, Water-Proof Ant Killer Dust, Use Indoors...   \n",
       "24688358                                               None   \n",
       "\n",
       "                       brand  \n",
       "0            FRANCE ARROSAGE  \n",
       "1                       None  \n",
       "2                       None  \n",
       "3         CustomizedGirl.com  \n",
       "4         CustomizedGirl.com  \n",
       "...                      ...  \n",
       "24688354                None  \n",
       "24688355                None  \n",
       "24688356                None  \n",
       "24688357                None  \n",
       "24688358                None  \n",
       "\n",
       "[24688359 rows x 8 columns]"
      ]
     },
     "execution_count": 25,
     "metadata": {},
     "output_type": "execute_result"
    }
   ],
   "source": [
    "pd.read_json(os.path.join(mapping_corpus_path_2, 'df_large_matched'), compression='gzip', orient='records', lines=True)"
   ]
  },
  {
   "cell_type": "code",
   "execution_count": 15,
   "metadata": {},
   "outputs": [],
   "source": [
    "#fill up missing values in both product category data frames to be able to split the tuples up\n",
    "df_electronics_filtered=df_electronics.applymap(lambda x: [0,0] if x is None else x)\n",
    "df_clothes_filtered=df_clothes.applymap(lambda x: [0,0] if x is None else x)"
   ]
  },
  {
   "cell_type": "code",
   "execution_count": 16,
   "metadata": {},
   "outputs": [
    {
     "name": "stderr",
     "output_type": "stream",
     "text": [
      "100% (61889 of 61889) |##################| Elapsed Time: 1:06:00 Time:  1:06:00\n"
     ]
    }
   ],
   "source": [
    "# clean up the tables\n",
    "#split up tuples in in each column for each brand into two different columns table_id and row_id and concatente these rows\n",
    "df_electronics_cleaned=pd.DataFrame(columns=['table_id', 'row_id'])\n",
    "count = 0\n",
    "with progressbar.ProgressBar(max_value=len(df_electronics_filtered.columns)) as bar:\n",
    "    for i in range(len(df_electronics_filtered.columns)):\n",
    "        df_electronics_cleaned = df_electronics_cleaned.append(pd.DataFrame(df_electronics_filtered[i].tolist(),columns=['table_id', 'row_id'], index=df_electronics_filtered.index))\n",
    "        count += 1\n",
    "        bar.update(count)"
   ]
  },
  {
   "cell_type": "code",
   "execution_count": 24,
   "metadata": {},
   "outputs": [
    {
     "name": "stderr",
     "output_type": "stream",
     "text": [
      " 56% (78425 of 139178) |#########        | Elapsed Time: 1:58:46 ETA:   2:56:08IOPub message rate exceeded.\n",
      "The notebook server will temporarily stop sending output\n",
      "to the client in order to avoid crashing it.\n",
      "To change this limit, set the config variable\n",
      "`--NotebookApp.iopub_msg_rate_limit`.\n",
      "\n",
      "Current values:\n",
      "NotebookApp.iopub_msg_rate_limit=1000.0 (msgs/sec)\n",
      "NotebookApp.rate_limit_window=3.0 (secs)\n",
      "\n",
      " 62% (87007 of 139178) |##########       | Elapsed Time: 2:24:24 ETA:   2:53:01IOPub message rate exceeded.\n",
      "The notebook server will temporarily stop sending output\n",
      "to the client in order to avoid crashing it.\n",
      "To change this limit, set the config variable\n",
      "`--NotebookApp.iopub_msg_rate_limit`.\n",
      "\n",
      "Current values:\n",
      "NotebookApp.iopub_msg_rate_limit=1000.0 (msgs/sec)\n",
      "NotebookApp.rate_limit_window=3.0 (secs)\n",
      "\n",
      " 68% (95313 of 139178) |###########      | Elapsed Time: 2:48:50 ETA:   2:28:54IOPub message rate exceeded.\n",
      "The notebook server will temporarily stop sending output\n",
      "to the client in order to avoid crashing it.\n",
      "To change this limit, set the config variable\n",
      "`--NotebookApp.iopub_msg_rate_limit`.\n",
      "\n",
      "Current values:\n",
      "NotebookApp.iopub_msg_rate_limit=1000.0 (msgs/sec)\n",
      "NotebookApp.rate_limit_window=3.0 (secs)\n",
      "\n",
      " 74% (103876 of 139178) |###########     | Elapsed Time: 3:23:03 ETA:   2:29:29IOPub message rate exceeded.\n",
      "The notebook server will temporarily stop sending output\n",
      "to the client in order to avoid crashing it.\n",
      "To change this limit, set the config variable\n",
      "`--NotebookApp.iopub_msg_rate_limit`.\n",
      "\n",
      "Current values:\n",
      "NotebookApp.iopub_msg_rate_limit=1000.0 (msgs/sec)\n",
      "NotebookApp.rate_limit_window=3.0 (secs)\n",
      "\n",
      " 77% (107781 of 139178) |############    | Elapsed Time: 3:42:02 ETA:   3:12:24\n"
     ]
    },
    {
     "ename": "KeyboardInterrupt",
     "evalue": "",
     "output_type": "error",
     "traceback": [
      "\u001B[0;31m---------------------------------------------------------------------------\u001B[0m",
      "\u001B[0;31mKeyboardInterrupt\u001B[0m                         Traceback (most recent call last)",
      "\u001B[0;32m<ipython-input-24-2d7376197073>\u001B[0m in \u001B[0;36m<module>\u001B[0;34m\u001B[0m\n\u001B[1;32m      5\u001B[0m \u001B[0;32mwith\u001B[0m \u001B[0mprogressbar\u001B[0m\u001B[0;34m.\u001B[0m\u001B[0mProgressBar\u001B[0m\u001B[0;34m(\u001B[0m\u001B[0mmax_value\u001B[0m\u001B[0;34m=\u001B[0m\u001B[0mlen\u001B[0m\u001B[0;34m(\u001B[0m\u001B[0mdf_clothes_filtered\u001B[0m\u001B[0;34m.\u001B[0m\u001B[0mcolumns\u001B[0m\u001B[0;34m)\u001B[0m\u001B[0;34m)\u001B[0m \u001B[0;32mas\u001B[0m \u001B[0mbar\u001B[0m\u001B[0;34m:\u001B[0m\u001B[0;34m\u001B[0m\u001B[0;34m\u001B[0m\u001B[0m\n\u001B[1;32m      6\u001B[0m     \u001B[0;32mfor\u001B[0m \u001B[0mi\u001B[0m \u001B[0;32min\u001B[0m \u001B[0mrange\u001B[0m\u001B[0;34m(\u001B[0m\u001B[0mlen\u001B[0m\u001B[0;34m(\u001B[0m\u001B[0mdf_clothes_filtered\u001B[0m\u001B[0;34m.\u001B[0m\u001B[0mcolumns\u001B[0m\u001B[0;34m)\u001B[0m\u001B[0;34m)\u001B[0m\u001B[0;34m:\u001B[0m\u001B[0;34m\u001B[0m\u001B[0;34m\u001B[0m\u001B[0m\n\u001B[0;32m----> 7\u001B[0;31m         \u001B[0mdf_clothes_cleaned\u001B[0m \u001B[0;34m=\u001B[0m \u001B[0mdf_clothes_cleaned\u001B[0m\u001B[0;34m.\u001B[0m\u001B[0mappend\u001B[0m\u001B[0;34m(\u001B[0m\u001B[0mpd\u001B[0m\u001B[0;34m.\u001B[0m\u001B[0mDataFrame\u001B[0m\u001B[0;34m(\u001B[0m\u001B[0mdf_clothes_filtered\u001B[0m\u001B[0;34m[\u001B[0m\u001B[0mi\u001B[0m\u001B[0;34m]\u001B[0m\u001B[0;34m.\u001B[0m\u001B[0mtolist\u001B[0m\u001B[0;34m(\u001B[0m\u001B[0;34m)\u001B[0m\u001B[0;34m,\u001B[0m\u001B[0mcolumns\u001B[0m\u001B[0;34m=\u001B[0m\u001B[0;34m[\u001B[0m\u001B[0;34m'table_id'\u001B[0m\u001B[0;34m,\u001B[0m \u001B[0;34m'row_id'\u001B[0m\u001B[0;34m]\u001B[0m\u001B[0;34m,\u001B[0m \u001B[0mindex\u001B[0m\u001B[0;34m=\u001B[0m\u001B[0mdf_clothes_filtered\u001B[0m\u001B[0;34m.\u001B[0m\u001B[0mindex\u001B[0m\u001B[0;34m)\u001B[0m\u001B[0;34m)\u001B[0m\u001B[0;34m\u001B[0m\u001B[0;34m\u001B[0m\u001B[0m\n\u001B[0m\u001B[1;32m      8\u001B[0m         \u001B[0mcount\u001B[0m \u001B[0;34m+=\u001B[0m \u001B[0;36m1\u001B[0m\u001B[0;34m\u001B[0m\u001B[0;34m\u001B[0m\u001B[0m\n\u001B[1;32m      9\u001B[0m         \u001B[0mbar\u001B[0m\u001B[0;34m.\u001B[0m\u001B[0mupdate\u001B[0m\u001B[0;34m(\u001B[0m\u001B[0mcount\u001B[0m\u001B[0;34m)\u001B[0m\u001B[0;34m\u001B[0m\u001B[0;34m\u001B[0m\u001B[0m\n",
      "\u001B[0;32m~/anaconda3/lib/python3.8/site-packages/pandas/core/frame.py\u001B[0m in \u001B[0;36mappend\u001B[0;34m(self, other, ignore_index, verify_integrity, sort)\u001B[0m\n\u001B[1;32m   7980\u001B[0m             \u001B[0mto_concat\u001B[0m \u001B[0;34m=\u001B[0m \u001B[0;34m[\u001B[0m\u001B[0mself\u001B[0m\u001B[0;34m,\u001B[0m \u001B[0mother\u001B[0m\u001B[0;34m]\u001B[0m\u001B[0;34m\u001B[0m\u001B[0;34m\u001B[0m\u001B[0m\n\u001B[1;32m   7981\u001B[0m         return (\n\u001B[0;32m-> 7982\u001B[0;31m             concat(\n\u001B[0m\u001B[1;32m   7983\u001B[0m                 \u001B[0mto_concat\u001B[0m\u001B[0;34m,\u001B[0m\u001B[0;34m\u001B[0m\u001B[0;34m\u001B[0m\u001B[0m\n\u001B[1;32m   7984\u001B[0m                 \u001B[0mignore_index\u001B[0m\u001B[0;34m=\u001B[0m\u001B[0mignore_index\u001B[0m\u001B[0;34m,\u001B[0m\u001B[0;34m\u001B[0m\u001B[0;34m\u001B[0m\u001B[0m\n",
      "\u001B[0;32m~/anaconda3/lib/python3.8/site-packages/pandas/core/reshape/concat.py\u001B[0m in \u001B[0;36mconcat\u001B[0;34m(objs, axis, join, ignore_index, keys, levels, names, verify_integrity, sort, copy)\u001B[0m\n\u001B[1;32m    296\u001B[0m     )\n\u001B[1;32m    297\u001B[0m \u001B[0;34m\u001B[0m\u001B[0m\n\u001B[0;32m--> 298\u001B[0;31m     \u001B[0;32mreturn\u001B[0m \u001B[0mop\u001B[0m\u001B[0;34m.\u001B[0m\u001B[0mget_result\u001B[0m\u001B[0;34m(\u001B[0m\u001B[0;34m)\u001B[0m\u001B[0;34m\u001B[0m\u001B[0;34m\u001B[0m\u001B[0m\n\u001B[0m\u001B[1;32m    299\u001B[0m \u001B[0;34m\u001B[0m\u001B[0m\n\u001B[1;32m    300\u001B[0m \u001B[0;34m\u001B[0m\u001B[0m\n",
      "\u001B[0;32m~/anaconda3/lib/python3.8/site-packages/pandas/core/reshape/concat.py\u001B[0m in \u001B[0;36mget_result\u001B[0;34m(self)\u001B[0m\n\u001B[1;32m    518\u001B[0m                 \u001B[0mmgrs_indexers\u001B[0m\u001B[0;34m.\u001B[0m\u001B[0mappend\u001B[0m\u001B[0;34m(\u001B[0m\u001B[0;34m(\u001B[0m\u001B[0mobj\u001B[0m\u001B[0;34m.\u001B[0m\u001B[0m_mgr\u001B[0m\u001B[0;34m,\u001B[0m \u001B[0mindexers\u001B[0m\u001B[0;34m)\u001B[0m\u001B[0;34m)\u001B[0m\u001B[0;34m\u001B[0m\u001B[0;34m\u001B[0m\u001B[0m\n\u001B[1;32m    519\u001B[0m \u001B[0;34m\u001B[0m\u001B[0m\n\u001B[0;32m--> 520\u001B[0;31m             new_data = concatenate_block_managers(\n\u001B[0m\u001B[1;32m    521\u001B[0m                 \u001B[0mmgrs_indexers\u001B[0m\u001B[0;34m,\u001B[0m \u001B[0mself\u001B[0m\u001B[0;34m.\u001B[0m\u001B[0mnew_axes\u001B[0m\u001B[0;34m,\u001B[0m \u001B[0mconcat_axis\u001B[0m\u001B[0;34m=\u001B[0m\u001B[0mself\u001B[0m\u001B[0;34m.\u001B[0m\u001B[0mbm_axis\u001B[0m\u001B[0;34m,\u001B[0m \u001B[0mcopy\u001B[0m\u001B[0;34m=\u001B[0m\u001B[0mself\u001B[0m\u001B[0;34m.\u001B[0m\u001B[0mcopy\u001B[0m\u001B[0;34m\u001B[0m\u001B[0;34m\u001B[0m\u001B[0m\n\u001B[1;32m    522\u001B[0m             )\n",
      "\u001B[0;32m~/anaconda3/lib/python3.8/site-packages/pandas/core/internals/concat.py\u001B[0m in \u001B[0;36mconcatenate_block_managers\u001B[0;34m(mgrs_indexers, axes, concat_axis, copy)\u001B[0m\n\u001B[1;32m     71\u001B[0m \u001B[0;34m\u001B[0m\u001B[0m\n\u001B[1;32m     72\u001B[0m             \u001B[0;32mif\u001B[0m \u001B[0;32mnot\u001B[0m \u001B[0mblk\u001B[0m\u001B[0;34m.\u001B[0m\u001B[0mis_extension\u001B[0m\u001B[0;34m:\u001B[0m\u001B[0;34m\u001B[0m\u001B[0;34m\u001B[0m\u001B[0m\n\u001B[0;32m---> 73\u001B[0;31m                 \u001B[0mvalues\u001B[0m \u001B[0;34m=\u001B[0m \u001B[0mconcat_compat\u001B[0m\u001B[0;34m(\u001B[0m\u001B[0mvals\u001B[0m\u001B[0;34m,\u001B[0m \u001B[0maxis\u001B[0m\u001B[0;34m=\u001B[0m\u001B[0mblk\u001B[0m\u001B[0;34m.\u001B[0m\u001B[0mndim\u001B[0m \u001B[0;34m-\u001B[0m \u001B[0;36m1\u001B[0m\u001B[0;34m)\u001B[0m\u001B[0;34m\u001B[0m\u001B[0;34m\u001B[0m\u001B[0m\n\u001B[0m\u001B[1;32m     74\u001B[0m             \u001B[0;32melse\u001B[0m\u001B[0;34m:\u001B[0m\u001B[0;34m\u001B[0m\u001B[0;34m\u001B[0m\u001B[0m\n\u001B[1;32m     75\u001B[0m                 \u001B[0;31m# TODO(EA2D): special-casing not needed with 2D EAs\u001B[0m\u001B[0;34m\u001B[0m\u001B[0;34m\u001B[0m\u001B[0;34m\u001B[0m\u001B[0m\n",
      "\u001B[0;32m~/anaconda3/lib/python3.8/site-packages/pandas/core/dtypes/concat.py\u001B[0m in \u001B[0;36mconcat_compat\u001B[0;34m(to_concat, axis)\u001B[0m\n\u001B[1;32m    169\u001B[0m                 \u001B[0mto_concat\u001B[0m \u001B[0;34m=\u001B[0m \u001B[0;34m[\u001B[0m\u001B[0mx\u001B[0m\u001B[0;34m.\u001B[0m\u001B[0mastype\u001B[0m\u001B[0;34m(\u001B[0m\u001B[0;34m\"object\"\u001B[0m\u001B[0;34m)\u001B[0m \u001B[0;32mfor\u001B[0m \u001B[0mx\u001B[0m \u001B[0;32min\u001B[0m \u001B[0mto_concat\u001B[0m\u001B[0;34m]\u001B[0m\u001B[0;34m\u001B[0m\u001B[0;34m\u001B[0m\u001B[0m\n\u001B[1;32m    170\u001B[0m \u001B[0;34m\u001B[0m\u001B[0m\n\u001B[0;32m--> 171\u001B[0;31m     \u001B[0;32mreturn\u001B[0m \u001B[0mnp\u001B[0m\u001B[0;34m.\u001B[0m\u001B[0mconcatenate\u001B[0m\u001B[0;34m(\u001B[0m\u001B[0mto_concat\u001B[0m\u001B[0;34m,\u001B[0m \u001B[0maxis\u001B[0m\u001B[0;34m=\u001B[0m\u001B[0maxis\u001B[0m\u001B[0;34m)\u001B[0m\u001B[0;34m\u001B[0m\u001B[0;34m\u001B[0m\u001B[0m\n\u001B[0m\u001B[1;32m    172\u001B[0m \u001B[0;34m\u001B[0m\u001B[0m\n\u001B[1;32m    173\u001B[0m \u001B[0;34m\u001B[0m\u001B[0m\n",
      "\u001B[0;32m<__array_function__ internals>\u001B[0m in \u001B[0;36mconcatenate\u001B[0;34m(*args, **kwargs)\u001B[0m\n",
      "\u001B[0;31mKeyboardInterrupt\u001B[0m: "
     ]
    }
   ],
   "source": [
    "#clean up the tables\n",
    "#split up tuples in in each column for each brand into two different columns table_id and row_id and concatente these rows\n",
    "df_clothes_cleaned=pd.DataFrame(columns=['table_id', 'row_id'])\n",
    "count = 0\n",
    "with progressbar.ProgressBar(max_value=len(df_clothes_filtered.columns)) as bar:\n",
    "    for i in range(len(df_clothes_filtered.columns)):\n",
    "        df_clothes_cleaned = df_clothes_cleaned.append(pd.DataFrame(df_clothes_filtered[i].tolist(),columns=['table_id', 'row_id'], index=df_clothes_filtered.index))\n",
    "        count += 1\n",
    "        bar.update(count)"
   ]
  },
  {
   "cell_type": "code",
   "execution_count": null,
   "metadata": {},
   "outputs": [],
   "source": [
    "#rename the columns to be able to join them into the cluster_id table\n",
    "df_electronics_cleaned=df_electronics_cleaned.reset_index().rename(columns={'index':\"brand\"})\n",
    "df_electronics_cleaned"
   ]
  },
  {
   "cell_type": "code",
   "execution_count": null,
   "metadata": {},
   "outputs": [],
   "source": [
    "#rename the columns to be able to join them into the cluster_id table\n",
    "df_clothes_cleaned=df_clothes_cleaned.reset_index().rename(columns={'index':\"brand\"})\n",
    "df_clothes_cleaned"
   ]
  },
  {
   "cell_type": "code",
   "execution_count": null,
   "metadata": {},
   "outputs": [],
   "source": [
    "#join the tables to the cluster tables by using left joins\n",
    "#filled up zero values will be discarded by the join condition\n",
    "df_joined_electronics = df_large.merge(df_electronics_cleaned, left_on=['table_id','row_id'], right_on = ['table_id','row_id'], how='left')"
   ]
  },
  {
   "cell_type": "code",
   "execution_count": null,
   "metadata": {},
   "outputs": [],
   "source": [
    "df_joined_electronics.to_json(mapping_corpus_path_2 + '/joined_electronics', compression='gzip', orient='records', lines=True)"
   ]
  },
  {
   "cell_type": "code",
   "execution_count": 5,
   "metadata": {},
   "outputs": [],
   "source": [
    "df_joined_electronics = pd.read_json(os.path.join(mapping_corpus_path_2, 'joined_electronics'), compression='gzip', orient='records', lines=True)"
   ]
  },
  {
   "cell_type": "code",
   "execution_count": 6,
   "metadata": {},
   "outputs": [
    {
     "data": {
      "text/html": [
       "<div>\n",
       "<style scoped>\n",
       "    .dataframe tbody tr th:only-of-type {\n",
       "        vertical-align: middle;\n",
       "    }\n",
       "\n",
       "    .dataframe tbody tr th {\n",
       "        vertical-align: top;\n",
       "    }\n",
       "\n",
       "    .dataframe thead th {\n",
       "        text-align: right;\n",
       "    }\n",
       "</style>\n",
       "<table border=\"1\" class=\"dataframe\">\n",
       "  <thead>\n",
       "    <tr style=\"text-align: right;\">\n",
       "      <th></th>\n",
       "      <th>cluster_id</th>\n",
       "      <th>url</th>\n",
       "      <th>row_id</th>\n",
       "      <th>table_id</th>\n",
       "      <th>Valid</th>\n",
       "      <th>brand</th>\n",
       "    </tr>\n",
       "  </thead>\n",
       "  <tbody>\n",
       "    <tr>\n",
       "      <th>0</th>\n",
       "      <td>59178314</td>\n",
       "      <td>https://www.cultureindoor.com/796-irrigation-a...</td>\n",
       "      <td>1561</td>\n",
       "      <td>Product_cultureindoor.com_September2020.json.gz</td>\n",
       "      <td>1</td>\n",
       "      <td>None</td>\n",
       "    </tr>\n",
       "    <tr>\n",
       "      <th>1</th>\n",
       "      <td>70692685</td>\n",
       "      <td>https://www.culturekings.com/products/new-era-...</td>\n",
       "      <td>3893</td>\n",
       "      <td>Product_culturekings.com_September2020.json.gz</td>\n",
       "      <td>1</td>\n",
       "      <td>None</td>\n",
       "    </tr>\n",
       "    <tr>\n",
       "      <th>2</th>\n",
       "      <td>395606</td>\n",
       "      <td>https://www.culturekings.com/products/new-era-...</td>\n",
       "      <td>3894</td>\n",
       "      <td>Product_culturekings.com_September2020.json.gz</td>\n",
       "      <td>1</td>\n",
       "      <td>None</td>\n",
       "    </tr>\n",
       "    <tr>\n",
       "      <th>3</th>\n",
       "      <td>3361797</td>\n",
       "      <td>https://www.customizedgirl.com/design/2605608/...</td>\n",
       "      <td>9318</td>\n",
       "      <td>Product_customizedgirl.com_September2020.json.gz</td>\n",
       "      <td>1</td>\n",
       "      <td>None</td>\n",
       "    </tr>\n",
       "    <tr>\n",
       "      <th>4</th>\n",
       "      <td>235755</td>\n",
       "      <td>https://www.customizedgirl.com/design/2613423/...</td>\n",
       "      <td>9319</td>\n",
       "      <td>Product_customizedgirl.com_September2020.json.gz</td>\n",
       "      <td>1</td>\n",
       "      <td>None</td>\n",
       "    </tr>\n",
       "    <tr>\n",
       "      <th>...</th>\n",
       "      <td>...</td>\n",
       "      <td>...</td>\n",
       "      <td>...</td>\n",
       "      <td>...</td>\n",
       "      <td>...</td>\n",
       "      <td>...</td>\n",
       "    </tr>\n",
       "    <tr>\n",
       "      <th>24687502</th>\n",
       "      <td>8653717</td>\n",
       "      <td>https://shop-list.com/women/utuwa-tatara/sg323...</td>\n",
       "      <td>1620</td>\n",
       "      <td>Product_shop-list.com_September2020.json.gz</td>\n",
       "      <td>1</td>\n",
       "      <td>None</td>\n",
       "    </tr>\n",
       "    <tr>\n",
       "      <th>24687503</th>\n",
       "      <td>22258637</td>\n",
       "      <td>https://shop-list.com/women/youmotto/famille-ltm</td>\n",
       "      <td>1621</td>\n",
       "      <td>Product_shop-list.com_September2020.json.gz</td>\n",
       "      <td>1</td>\n",
       "      <td>None</td>\n",
       "    </tr>\n",
       "    <tr>\n",
       "      <th>24687504</th>\n",
       "      <td>41434658</td>\n",
       "      <td>https://shop.agwaycapecod.com/products/0190147...</td>\n",
       "      <td>126</td>\n",
       "      <td>Product_agwaycapecod.com_September2020.json.gz</td>\n",
       "      <td>1</td>\n",
       "      <td>None</td>\n",
       "    </tr>\n",
       "    <tr>\n",
       "      <th>24687505</th>\n",
       "      <td>62702145</td>\n",
       "      <td>https://shop.agwaycapecod.com/products/0373214...</td>\n",
       "      <td>127</td>\n",
       "      <td>Product_agwaycapecod.com_September2020.json.gz</td>\n",
       "      <td>1</td>\n",
       "      <td>None</td>\n",
       "    </tr>\n",
       "    <tr>\n",
       "      <th>24687506</th>\n",
       "      <td>60936713</td>\n",
       "      <td>https://shop.areefcreation.com/products/ls-apr...</td>\n",
       "      <td>120</td>\n",
       "      <td>Product_areefcreation.com_September2020.json.gz</td>\n",
       "      <td>1</td>\n",
       "      <td>None</td>\n",
       "    </tr>\n",
       "  </tbody>\n",
       "</table>\n",
       "<p>24687507 rows × 6 columns</p>\n",
       "</div>"
      ],
      "text/plain": [
       "          cluster_id                                                url  \\\n",
       "0           59178314  https://www.cultureindoor.com/796-irrigation-a...   \n",
       "1           70692685  https://www.culturekings.com/products/new-era-...   \n",
       "2             395606  https://www.culturekings.com/products/new-era-...   \n",
       "3            3361797  https://www.customizedgirl.com/design/2605608/...   \n",
       "4             235755  https://www.customizedgirl.com/design/2613423/...   \n",
       "...              ...                                                ...   \n",
       "24687502     8653717  https://shop-list.com/women/utuwa-tatara/sg323...   \n",
       "24687503    22258637   https://shop-list.com/women/youmotto/famille-ltm   \n",
       "24687504    41434658  https://shop.agwaycapecod.com/products/0190147...   \n",
       "24687505    62702145  https://shop.agwaycapecod.com/products/0373214...   \n",
       "24687506    60936713  https://shop.areefcreation.com/products/ls-apr...   \n",
       "\n",
       "          row_id                                          table_id  Valid  \\\n",
       "0           1561   Product_cultureindoor.com_September2020.json.gz      1   \n",
       "1           3893    Product_culturekings.com_September2020.json.gz      1   \n",
       "2           3894    Product_culturekings.com_September2020.json.gz      1   \n",
       "3           9318  Product_customizedgirl.com_September2020.json.gz      1   \n",
       "4           9319  Product_customizedgirl.com_September2020.json.gz      1   \n",
       "...          ...                                               ...    ...   \n",
       "24687502    1620       Product_shop-list.com_September2020.json.gz      1   \n",
       "24687503    1621       Product_shop-list.com_September2020.json.gz      1   \n",
       "24687504     126    Product_agwaycapecod.com_September2020.json.gz      1   \n",
       "24687505     127    Product_agwaycapecod.com_September2020.json.gz      1   \n",
       "24687506     120   Product_areefcreation.com_September2020.json.gz      1   \n",
       "\n",
       "         brand  \n",
       "0         None  \n",
       "1         None  \n",
       "2         None  \n",
       "3         None  \n",
       "4         None  \n",
       "...        ...  \n",
       "24687502  None  \n",
       "24687503  None  \n",
       "24687504  None  \n",
       "24687505  None  \n",
       "24687506  None  \n",
       "\n",
       "[24687507 rows x 6 columns]"
      ]
     },
     "execution_count": 6,
     "metadata": {},
     "output_type": "execute_result"
    }
   ],
   "source": [
    "df_joined_electronics"
   ]
  },
  {
   "cell_type": "code",
   "execution_count": null,
   "metadata": {},
   "outputs": [],
   "source": [
    "#join the tables to the cluster tables by using left joins \n",
    "#filled up zero values will be discarded by the join condition\n",
    "df_joined_clothes = df_large.merge(df_clothes_cleaned, left_on=['table_id','row_id'], right_on = ['table_id','row_id'], how='left')"
   ]
  },
  {
   "cell_type": "code",
   "execution_count": 7,
   "metadata": {},
   "outputs": [
    {
     "ename": "NameError",
     "evalue": "name 'df_joined_clothes' is not defined",
     "output_type": "error",
     "traceback": [
      "\u001B[0;31m---------------------------------------------------------------------------\u001B[0m",
      "\u001B[0;31mNameError\u001B[0m                                 Traceback (most recent call last)",
      "\u001B[0;32m<ipython-input-7-6619c64b962c>\u001B[0m in \u001B[0;36m<module>\u001B[0;34m\u001B[0m\n\u001B[0;32m----> 1\u001B[0;31m \u001B[0mdf_joined_clothes\u001B[0m\u001B[0;34m.\u001B[0m\u001B[0mto_json\u001B[0m\u001B[0;34m(\u001B[0m\u001B[0mmapping_corpus_path_2\u001B[0m \u001B[0;34m+\u001B[0m \u001B[0;34m'/joined_clothes'\u001B[0m\u001B[0;34m,\u001B[0m \u001B[0mcompression\u001B[0m\u001B[0;34m=\u001B[0m\u001B[0;34m'gzip'\u001B[0m\u001B[0;34m,\u001B[0m \u001B[0morient\u001B[0m\u001B[0;34m=\u001B[0m\u001B[0;34m'records'\u001B[0m\u001B[0;34m,\u001B[0m \u001B[0mlines\u001B[0m\u001B[0;34m=\u001B[0m\u001B[0;32mTrue\u001B[0m\u001B[0;34m)\u001B[0m\u001B[0;34m\u001B[0m\u001B[0;34m\u001B[0m\u001B[0m\n\u001B[0m",
      "\u001B[0;31mNameError\u001B[0m: name 'df_joined_clothes' is not defined"
     ]
    }
   ],
   "source": [
    "df_joined_clothes.to_json(mapping_corpus_path_2 + '/joined_clothes', compression='gzip', orient='records', lines=True)"
   ]
  },
  {
   "cell_type": "code",
   "execution_count": 8,
   "metadata": {},
   "outputs": [
    {
     "data": {
      "text/html": [
       "<div>\n",
       "<style scoped>\n",
       "    .dataframe tbody tr th:only-of-type {\n",
       "        vertical-align: middle;\n",
       "    }\n",
       "\n",
       "    .dataframe tbody tr th {\n",
       "        vertical-align: top;\n",
       "    }\n",
       "\n",
       "    .dataframe thead th {\n",
       "        text-align: right;\n",
       "    }\n",
       "</style>\n",
       "<table border=\"1\" class=\"dataframe\">\n",
       "  <thead>\n",
       "    <tr style=\"text-align: right;\">\n",
       "      <th></th>\n",
       "      <th>cluster_id</th>\n",
       "      <th>url</th>\n",
       "      <th>row_id</th>\n",
       "      <th>table_id</th>\n",
       "      <th>Valid</th>\n",
       "      <th>brand</th>\n",
       "    </tr>\n",
       "  </thead>\n",
       "  <tbody>\n",
       "    <tr>\n",
       "      <th>0</th>\n",
       "      <td>59178314</td>\n",
       "      <td>https://www.cultureindoor.com/796-irrigation-a...</td>\n",
       "      <td>1561</td>\n",
       "      <td>Product_cultureindoor.com_September2020.json.gz</td>\n",
       "      <td>1</td>\n",
       "      <td>None</td>\n",
       "    </tr>\n",
       "    <tr>\n",
       "      <th>1</th>\n",
       "      <td>70692685</td>\n",
       "      <td>https://www.culturekings.com/products/new-era-...</td>\n",
       "      <td>3893</td>\n",
       "      <td>Product_culturekings.com_September2020.json.gz</td>\n",
       "      <td>1</td>\n",
       "      <td>None</td>\n",
       "    </tr>\n",
       "    <tr>\n",
       "      <th>2</th>\n",
       "      <td>395606</td>\n",
       "      <td>https://www.culturekings.com/products/new-era-...</td>\n",
       "      <td>3894</td>\n",
       "      <td>Product_culturekings.com_September2020.json.gz</td>\n",
       "      <td>1</td>\n",
       "      <td>None</td>\n",
       "    </tr>\n",
       "    <tr>\n",
       "      <th>3</th>\n",
       "      <td>3361797</td>\n",
       "      <td>https://www.customizedgirl.com/design/2605608/...</td>\n",
       "      <td>9318</td>\n",
       "      <td>Product_customizedgirl.com_September2020.json.gz</td>\n",
       "      <td>1</td>\n",
       "      <td>None</td>\n",
       "    </tr>\n",
       "    <tr>\n",
       "      <th>4</th>\n",
       "      <td>235755</td>\n",
       "      <td>https://www.customizedgirl.com/design/2613423/...</td>\n",
       "      <td>9319</td>\n",
       "      <td>Product_customizedgirl.com_September2020.json.gz</td>\n",
       "      <td>1</td>\n",
       "      <td>None</td>\n",
       "    </tr>\n",
       "    <tr>\n",
       "      <th>...</th>\n",
       "      <td>...</td>\n",
       "      <td>...</td>\n",
       "      <td>...</td>\n",
       "      <td>...</td>\n",
       "      <td>...</td>\n",
       "      <td>...</td>\n",
       "    </tr>\n",
       "    <tr>\n",
       "      <th>24687502</th>\n",
       "      <td>8653717</td>\n",
       "      <td>https://shop-list.com/women/utuwa-tatara/sg323...</td>\n",
       "      <td>1620</td>\n",
       "      <td>Product_shop-list.com_September2020.json.gz</td>\n",
       "      <td>1</td>\n",
       "      <td>None</td>\n",
       "    </tr>\n",
       "    <tr>\n",
       "      <th>24687503</th>\n",
       "      <td>22258637</td>\n",
       "      <td>https://shop-list.com/women/youmotto/famille-ltm</td>\n",
       "      <td>1621</td>\n",
       "      <td>Product_shop-list.com_September2020.json.gz</td>\n",
       "      <td>1</td>\n",
       "      <td>None</td>\n",
       "    </tr>\n",
       "    <tr>\n",
       "      <th>24687504</th>\n",
       "      <td>41434658</td>\n",
       "      <td>https://shop.agwaycapecod.com/products/0190147...</td>\n",
       "      <td>126</td>\n",
       "      <td>Product_agwaycapecod.com_September2020.json.gz</td>\n",
       "      <td>1</td>\n",
       "      <td>None</td>\n",
       "    </tr>\n",
       "    <tr>\n",
       "      <th>24687505</th>\n",
       "      <td>62702145</td>\n",
       "      <td>https://shop.agwaycapecod.com/products/0373214...</td>\n",
       "      <td>127</td>\n",
       "      <td>Product_agwaycapecod.com_September2020.json.gz</td>\n",
       "      <td>1</td>\n",
       "      <td>None</td>\n",
       "    </tr>\n",
       "    <tr>\n",
       "      <th>24687506</th>\n",
       "      <td>60936713</td>\n",
       "      <td>https://shop.areefcreation.com/products/ls-apr...</td>\n",
       "      <td>120</td>\n",
       "      <td>Product_areefcreation.com_September2020.json.gz</td>\n",
       "      <td>1</td>\n",
       "      <td>None</td>\n",
       "    </tr>\n",
       "  </tbody>\n",
       "</table>\n",
       "<p>24687507 rows × 6 columns</p>\n",
       "</div>"
      ],
      "text/plain": [
       "          cluster_id                                                url  \\\n",
       "0           59178314  https://www.cultureindoor.com/796-irrigation-a...   \n",
       "1           70692685  https://www.culturekings.com/products/new-era-...   \n",
       "2             395606  https://www.culturekings.com/products/new-era-...   \n",
       "3            3361797  https://www.customizedgirl.com/design/2605608/...   \n",
       "4             235755  https://www.customizedgirl.com/design/2613423/...   \n",
       "...              ...                                                ...   \n",
       "24687502     8653717  https://shop-list.com/women/utuwa-tatara/sg323...   \n",
       "24687503    22258637   https://shop-list.com/women/youmotto/famille-ltm   \n",
       "24687504    41434658  https://shop.agwaycapecod.com/products/0190147...   \n",
       "24687505    62702145  https://shop.agwaycapecod.com/products/0373214...   \n",
       "24687506    60936713  https://shop.areefcreation.com/products/ls-apr...   \n",
       "\n",
       "          row_id                                          table_id  Valid  \\\n",
       "0           1561   Product_cultureindoor.com_September2020.json.gz      1   \n",
       "1           3893    Product_culturekings.com_September2020.json.gz      1   \n",
       "2           3894    Product_culturekings.com_September2020.json.gz      1   \n",
       "3           9318  Product_customizedgirl.com_September2020.json.gz      1   \n",
       "4           9319  Product_customizedgirl.com_September2020.json.gz      1   \n",
       "...          ...                                               ...    ...   \n",
       "24687502    1620       Product_shop-list.com_September2020.json.gz      1   \n",
       "24687503    1621       Product_shop-list.com_September2020.json.gz      1   \n",
       "24687504     126    Product_agwaycapecod.com_September2020.json.gz      1   \n",
       "24687505     127    Product_agwaycapecod.com_September2020.json.gz      1   \n",
       "24687506     120   Product_areefcreation.com_September2020.json.gz      1   \n",
       "\n",
       "         brand  \n",
       "0         None  \n",
       "1         None  \n",
       "2         None  \n",
       "3         None  \n",
       "4         None  \n",
       "...        ...  \n",
       "24687502  None  \n",
       "24687503  None  \n",
       "24687504  None  \n",
       "24687505  None  \n",
       "24687506  None  \n",
       "\n",
       "[24687507 rows x 6 columns]"
      ]
     },
     "execution_count": 8,
     "metadata": {},
     "output_type": "execute_result"
    }
   ],
   "source": [
    "df_joined_clothes = pd.read_json(os.path.join(mapping_corpus_path_2, 'joined_clothes'), compression='gzip', orient='records', lines=True)\n",
    "df_joined_clothes"
   ]
  },
  {
   "cell_type": "code",
   "execution_count": null,
   "metadata": {},
   "outputs": [],
   "source": [
    "# df_tables_count=df_join.groupby('cluster_id').count()\n",
    "# df_tables_count[df_tables_count['brand']>2]"
   ]
  },
  {
   "cell_type": "markdown",
   "metadata": {},
   "source": [
    "## Cluster statistics for product category electronics"
   ]
  },
  {
   "cell_type": "code",
   "execution_count": 9,
   "metadata": {},
   "outputs": [],
   "source": [
    "df_grouped_electronics = df_joined_electronics.groupby('cluster_id').count()"
   ]
  },
  {
   "cell_type": "code",
   "execution_count": 10,
   "metadata": {},
   "outputs": [],
   "source": [
    "# only look at clusters that have at least one brand associated\n",
    "df_set_electronics = df_grouped_electronics[df_grouped_electronics['brand']>0].reset_index()[['cluster_id','table_id']].rename(columns={'table_id':'Amount'})"
   ]
  },
  {
   "cell_type": "code",
   "execution_count": 11,
   "metadata": {},
   "outputs": [
    {
     "data": {
      "text/html": [
       "<div>\n",
       "<style scoped>\n",
       "    .dataframe tbody tr th:only-of-type {\n",
       "        vertical-align: middle;\n",
       "    }\n",
       "\n",
       "    .dataframe tbody tr th {\n",
       "        vertical-align: top;\n",
       "    }\n",
       "\n",
       "    .dataframe thead th {\n",
       "        text-align: right;\n",
       "    }\n",
       "</style>\n",
       "<table border=\"1\" class=\"dataframe\">\n",
       "  <thead>\n",
       "    <tr style=\"text-align: right;\">\n",
       "      <th></th>\n",
       "      <th>cluster_id</th>\n",
       "      <th>Amount</th>\n",
       "    </tr>\n",
       "  </thead>\n",
       "  <tbody>\n",
       "    <tr>\n",
       "      <th>0</th>\n",
       "      <td>419</td>\n",
       "      <td>6</td>\n",
       "    </tr>\n",
       "    <tr>\n",
       "      <th>3</th>\n",
       "      <td>968</td>\n",
       "      <td>4</td>\n",
       "    </tr>\n",
       "    <tr>\n",
       "      <th>4</th>\n",
       "      <td>985</td>\n",
       "      <td>14</td>\n",
       "    </tr>\n",
       "    <tr>\n",
       "      <th>5</th>\n",
       "      <td>997</td>\n",
       "      <td>3</td>\n",
       "    </tr>\n",
       "    <tr>\n",
       "      <th>6</th>\n",
       "      <td>1040</td>\n",
       "      <td>21</td>\n",
       "    </tr>\n",
       "    <tr>\n",
       "      <th>...</th>\n",
       "      <td>...</td>\n",
       "      <td>...</td>\n",
       "    </tr>\n",
       "    <tr>\n",
       "      <th>104491</th>\n",
       "      <td>80393061</td>\n",
       "      <td>2</td>\n",
       "    </tr>\n",
       "    <tr>\n",
       "      <th>104517</th>\n",
       "      <td>80418008</td>\n",
       "      <td>3</td>\n",
       "    </tr>\n",
       "    <tr>\n",
       "      <th>104529</th>\n",
       "      <td>80434638</td>\n",
       "      <td>4</td>\n",
       "    </tr>\n",
       "    <tr>\n",
       "      <th>104532</th>\n",
       "      <td>80436986</td>\n",
       "      <td>2</td>\n",
       "    </tr>\n",
       "    <tr>\n",
       "      <th>104572</th>\n",
       "      <td>80469264</td>\n",
       "      <td>3</td>\n",
       "    </tr>\n",
       "  </tbody>\n",
       "</table>\n",
       "<p>13943 rows × 2 columns</p>\n",
       "</div>"
      ],
      "text/plain": [
       "        cluster_id  Amount\n",
       "0              419       6\n",
       "3              968       4\n",
       "4              985      14\n",
       "5              997       3\n",
       "6             1040      21\n",
       "...            ...     ...\n",
       "104491    80393061       2\n",
       "104517    80418008       3\n",
       "104529    80434638       4\n",
       "104532    80436986       2\n",
       "104572    80469264       3\n",
       "\n",
       "[13943 rows x 2 columns]"
      ]
     },
     "execution_count": 11,
     "metadata": {},
     "output_type": "execute_result"
    }
   ],
   "source": [
    "# We discard all clusters with less than 2 entries, cause we cannot match anything there, so 1,6 million clusters remain\n",
    "df_set_electronics=df_set_electronics[df_set_electronics['Amount']>1]\n",
    "df_set_electronics"
   ]
  },
  {
   "cell_type": "code",
   "execution_count": 12,
   "metadata": {},
   "outputs": [
    {
     "data": {
      "text/html": [
       "<div>\n",
       "<style scoped>\n",
       "    .dataframe tbody tr th:only-of-type {\n",
       "        vertical-align: middle;\n",
       "    }\n",
       "\n",
       "    .dataframe tbody tr th {\n",
       "        vertical-align: top;\n",
       "    }\n",
       "\n",
       "    .dataframe thead th {\n",
       "        text-align: right;\n",
       "    }\n",
       "</style>\n",
       "<table border=\"1\" class=\"dataframe\">\n",
       "  <thead>\n",
       "    <tr style=\"text-align: right;\">\n",
       "      <th></th>\n",
       "      <th>count</th>\n",
       "      <th>mean</th>\n",
       "      <th>std</th>\n",
       "      <th>min</th>\n",
       "      <th>25%</th>\n",
       "      <th>50%</th>\n",
       "      <th>75%</th>\n",
       "      <th>max</th>\n",
       "    </tr>\n",
       "  </thead>\n",
       "  <tbody>\n",
       "    <tr>\n",
       "      <th>Amount</th>\n",
       "      <td>13943.0</td>\n",
       "      <td>5.0</td>\n",
       "      <td>27.0</td>\n",
       "      <td>2.0</td>\n",
       "      <td>2.0</td>\n",
       "      <td>2.0</td>\n",
       "      <td>4.0</td>\n",
       "      <td>2600.0</td>\n",
       "    </tr>\n",
       "  </tbody>\n",
       "</table>\n",
       "</div>"
      ],
      "text/plain": [
       "          count  mean   std  min  25%  50%  75%     max\n",
       "Amount  13943.0   5.0  27.0  2.0  2.0  2.0  4.0  2600.0"
      ]
     },
     "execution_count": 12,
     "metadata": {},
     "output_type": "execute_result"
    }
   ],
   "source": [
    "df_set_electronics.set_index('cluster_id').describe().T.round()"
   ]
  },
  {
   "cell_type": "code",
   "execution_count": 13,
   "metadata": {},
   "outputs": [
    {
     "data": {
      "text/plain": [
       "<AxesSubplot:ylabel='Frequency'>"
      ]
     },
     "execution_count": 13,
     "metadata": {},
     "output_type": "execute_result"
    },
    {
     "data": {
      "image/png": "[encoded data removed]",
      "text/plain": [
       "<Figure size 432x288 with 1 Axes>"
      ]
     },
     "metadata": {
      "needs_background": "light"
     },
     "output_type": "display_data"
    }
   ],
   "source": [
    "df_set_electronics.plot(x='cluster_id',y='Amount',kind='hist')"
   ]
  },
  {
   "cell_type": "code",
   "execution_count": 14,
   "metadata": {},
   "outputs": [
    {
     "data": {
      "text/html": [
       "<div>\n",
       "<style scoped>\n",
       "    .dataframe tbody tr th:only-of-type {\n",
       "        vertical-align: middle;\n",
       "    }\n",
       "\n",
       "    .dataframe tbody tr th {\n",
       "        vertical-align: top;\n",
       "    }\n",
       "\n",
       "    .dataframe thead th {\n",
       "        text-align: right;\n",
       "    }\n",
       "</style>\n",
       "<table border=\"1\" class=\"dataframe\">\n",
       "  <thead>\n",
       "    <tr style=\"text-align: right;\">\n",
       "      <th></th>\n",
       "      <th>cluster_id</th>\n",
       "      <th>Amount</th>\n",
       "    </tr>\n",
       "  </thead>\n",
       "  <tbody>\n",
       "    <tr>\n",
       "      <th>0</th>\n",
       "      <td>419</td>\n",
       "      <td>6</td>\n",
       "    </tr>\n",
       "    <tr>\n",
       "      <th>4</th>\n",
       "      <td>985</td>\n",
       "      <td>14</td>\n",
       "    </tr>\n",
       "    <tr>\n",
       "      <th>6</th>\n",
       "      <td>1040</td>\n",
       "      <td>21</td>\n",
       "    </tr>\n",
       "    <tr>\n",
       "      <th>9</th>\n",
       "      <td>1922</td>\n",
       "      <td>6</td>\n",
       "    </tr>\n",
       "    <tr>\n",
       "      <th>11</th>\n",
       "      <td>2172</td>\n",
       "      <td>6</td>\n",
       "    </tr>\n",
       "    <tr>\n",
       "      <th>...</th>\n",
       "      <td>...</td>\n",
       "      <td>...</td>\n",
       "    </tr>\n",
       "    <tr>\n",
       "      <th>103926</th>\n",
       "      <td>79871460</td>\n",
       "      <td>6</td>\n",
       "    </tr>\n",
       "    <tr>\n",
       "      <th>104132</th>\n",
       "      <td>80071710</td>\n",
       "      <td>6</td>\n",
       "    </tr>\n",
       "    <tr>\n",
       "      <th>104156</th>\n",
       "      <td>80097153</td>\n",
       "      <td>60</td>\n",
       "    </tr>\n",
       "    <tr>\n",
       "      <th>104157</th>\n",
       "      <td>80097161</td>\n",
       "      <td>37</td>\n",
       "    </tr>\n",
       "    <tr>\n",
       "      <th>104236</th>\n",
       "      <td>80168995</td>\n",
       "      <td>10</td>\n",
       "    </tr>\n",
       "  </tbody>\n",
       "</table>\n",
       "<p>2172 rows × 2 columns</p>\n",
       "</div>"
      ],
      "text/plain": [
       "        cluster_id  Amount\n",
       "0              419       6\n",
       "4              985      14\n",
       "6             1040      21\n",
       "9             1922       6\n",
       "11            2172       6\n",
       "...            ...     ...\n",
       "103926    79871460       6\n",
       "104132    80071710       6\n",
       "104156    80097153      60\n",
       "104157    80097161      37\n",
       "104236    80168995      10\n",
       "\n",
       "[2172 rows x 2 columns]"
      ]
     },
     "execution_count": 14,
     "metadata": {},
     "output_type": "execute_result"
    }
   ],
   "source": [
    "# filter on clusters with more entries to get information, here are still 20k clusters left\n",
    "df_5_electronics=df_set_electronics[df_set_electronics['Amount']>5]\n",
    "df_5_electronics"
   ]
  },
  {
   "cell_type": "code",
   "execution_count": 15,
   "metadata": {},
   "outputs": [
    {
     "data": {
      "text/html": [
       "<div>\n",
       "<style scoped>\n",
       "    .dataframe tbody tr th:only-of-type {\n",
       "        vertical-align: middle;\n",
       "    }\n",
       "\n",
       "    .dataframe tbody tr th {\n",
       "        vertical-align: top;\n",
       "    }\n",
       "\n",
       "    .dataframe thead th {\n",
       "        text-align: right;\n",
       "    }\n",
       "</style>\n",
       "<table border=\"1\" class=\"dataframe\">\n",
       "  <thead>\n",
       "    <tr style=\"text-align: right;\">\n",
       "      <th></th>\n",
       "      <th>count</th>\n",
       "      <th>mean</th>\n",
       "      <th>std</th>\n",
       "      <th>min</th>\n",
       "      <th>25%</th>\n",
       "      <th>50%</th>\n",
       "      <th>75%</th>\n",
       "      <th>max</th>\n",
       "    </tr>\n",
       "  </thead>\n",
       "  <tbody>\n",
       "    <tr>\n",
       "      <th>Amount</th>\n",
       "      <td>2172.0</td>\n",
       "      <td>15.0</td>\n",
       "      <td>67.0</td>\n",
       "      <td>6.0</td>\n",
       "      <td>7.0</td>\n",
       "      <td>8.0</td>\n",
       "      <td>12.0</td>\n",
       "      <td>2600.0</td>\n",
       "    </tr>\n",
       "  </tbody>\n",
       "</table>\n",
       "</div>"
      ],
      "text/plain": [
       "         count  mean   std  min  25%  50%   75%     max\n",
       "Amount  2172.0  15.0  67.0  6.0  7.0  8.0  12.0  2600.0"
      ]
     },
     "execution_count": 15,
     "metadata": {},
     "output_type": "execute_result"
    }
   ],
   "source": [
    "df_5_electronics.set_index('cluster_id').describe().T.round()"
   ]
  },
  {
   "cell_type": "code",
   "execution_count": 16,
   "metadata": {},
   "outputs": [
    {
     "data": {
      "text/plain": [
       "<AxesSubplot:ylabel='Frequency'>"
      ]
     },
     "execution_count": 16,
     "metadata": {},
     "output_type": "execute_result"
    },
    {
     "data": {
      "image/png": "[encoded data removed]",
      "text/plain": [
       "<Figure size 432x288 with 1 Axes>"
      ]
     },
     "metadata": {
      "needs_background": "light"
     },
     "output_type": "display_data"
    }
   ],
   "source": [
    "df_5_electronics.plot(x='cluster_id',y='Amount',kind='hist')"
   ]
  },
  {
   "cell_type": "code",
   "execution_count": 17,
   "metadata": {},
   "outputs": [
    {
     "data": {
      "text/html": [
       "<div>\n",
       "<style scoped>\n",
       "    .dataframe tbody tr th:only-of-type {\n",
       "        vertical-align: middle;\n",
       "    }\n",
       "\n",
       "    .dataframe tbody tr th {\n",
       "        vertical-align: top;\n",
       "    }\n",
       "\n",
       "    .dataframe thead th {\n",
       "        text-align: right;\n",
       "    }\n",
       "</style>\n",
       "<table border=\"1\" class=\"dataframe\">\n",
       "  <thead>\n",
       "    <tr style=\"text-align: right;\">\n",
       "      <th></th>\n",
       "      <th>cluster_id</th>\n",
       "      <th>Amount</th>\n",
       "    </tr>\n",
       "  </thead>\n",
       "  <tbody>\n",
       "    <tr>\n",
       "      <th>6</th>\n",
       "      <td>1040</td>\n",
       "      <td>21</td>\n",
       "    </tr>\n",
       "    <tr>\n",
       "      <th>25</th>\n",
       "      <td>6076</td>\n",
       "      <td>19</td>\n",
       "    </tr>\n",
       "    <tr>\n",
       "      <th>26</th>\n",
       "      <td>6443</td>\n",
       "      <td>25</td>\n",
       "    </tr>\n",
       "    <tr>\n",
       "      <th>28</th>\n",
       "      <td>6505</td>\n",
       "      <td>16</td>\n",
       "    </tr>\n",
       "    <tr>\n",
       "      <th>29</th>\n",
       "      <td>6690</td>\n",
       "      <td>20</td>\n",
       "    </tr>\n",
       "    <tr>\n",
       "      <th>...</th>\n",
       "      <td>...</td>\n",
       "      <td>...</td>\n",
       "    </tr>\n",
       "    <tr>\n",
       "      <th>100248</th>\n",
       "      <td>76869317</td>\n",
       "      <td>60</td>\n",
       "    </tr>\n",
       "    <tr>\n",
       "      <th>101968</th>\n",
       "      <td>78260404</td>\n",
       "      <td>80</td>\n",
       "    </tr>\n",
       "    <tr>\n",
       "      <th>103569</th>\n",
       "      <td>79512161</td>\n",
       "      <td>16</td>\n",
       "    </tr>\n",
       "    <tr>\n",
       "      <th>104156</th>\n",
       "      <td>80097153</td>\n",
       "      <td>60</td>\n",
       "    </tr>\n",
       "    <tr>\n",
       "      <th>104157</th>\n",
       "      <td>80097161</td>\n",
       "      <td>37</td>\n",
       "    </tr>\n",
       "  </tbody>\n",
       "</table>\n",
       "<p>337 rows × 2 columns</p>\n",
       "</div>"
      ],
      "text/plain": [
       "        cluster_id  Amount\n",
       "6             1040      21\n",
       "25            6076      19\n",
       "26            6443      25\n",
       "28            6505      16\n",
       "29            6690      20\n",
       "...            ...     ...\n",
       "100248    76869317      60\n",
       "101968    78260404      80\n",
       "103569    79512161      16\n",
       "104156    80097153      60\n",
       "104157    80097161      37\n",
       "\n",
       "[337 rows x 2 columns]"
      ]
     },
     "execution_count": 17,
     "metadata": {},
     "output_type": "execute_result"
    }
   ],
   "source": [
    "df_15_electronics=df_set_electronics[df_set_electronics['Amount']>15]\n",
    "df_15_electronics"
   ]
  },
  {
   "cell_type": "code",
   "execution_count": 18,
   "metadata": {},
   "outputs": [
    {
     "data": {
      "text/html": [
       "<div>\n",
       "<style scoped>\n",
       "    .dataframe tbody tr th:only-of-type {\n",
       "        vertical-align: middle;\n",
       "    }\n",
       "\n",
       "    .dataframe tbody tr th {\n",
       "        vertical-align: top;\n",
       "    }\n",
       "\n",
       "    .dataframe thead th {\n",
       "        text-align: right;\n",
       "    }\n",
       "</style>\n",
       "<table border=\"1\" class=\"dataframe\">\n",
       "  <thead>\n",
       "    <tr style=\"text-align: right;\">\n",
       "      <th></th>\n",
       "      <th>count</th>\n",
       "      <th>mean</th>\n",
       "      <th>std</th>\n",
       "      <th>min</th>\n",
       "      <th>25%</th>\n",
       "      <th>50%</th>\n",
       "      <th>75%</th>\n",
       "      <th>max</th>\n",
       "    </tr>\n",
       "  </thead>\n",
       "  <tbody>\n",
       "    <tr>\n",
       "      <th>Amount</th>\n",
       "      <td>337.0</td>\n",
       "      <td>52.0</td>\n",
       "      <td>164.0</td>\n",
       "      <td>16.0</td>\n",
       "      <td>18.0</td>\n",
       "      <td>26.0</td>\n",
       "      <td>52.0</td>\n",
       "      <td>2600.0</td>\n",
       "    </tr>\n",
       "  </tbody>\n",
       "</table>\n",
       "</div>"
      ],
      "text/plain": [
       "        count  mean    std   min   25%   50%   75%     max\n",
       "Amount  337.0  52.0  164.0  16.0  18.0  26.0  52.0  2600.0"
      ]
     },
     "execution_count": 18,
     "metadata": {},
     "output_type": "execute_result"
    }
   ],
   "source": [
    "df_15_electronics.set_index('cluster_id').describe().T.round()"
   ]
  },
  {
   "cell_type": "code",
   "execution_count": 19,
   "metadata": {},
   "outputs": [
    {
     "data": {
      "text/plain": [
       "<AxesSubplot:ylabel='Frequency'>"
      ]
     },
     "execution_count": 19,
     "metadata": {},
     "output_type": "execute_result"
    },
    {
     "data": {
      "image/png": "[encoded data removed]",
      "text/plain": [
       "<Figure size 432x288 with 1 Axes>"
      ]
     },
     "metadata": {
      "needs_background": "light"
     },
     "output_type": "display_data"
    }
   ],
   "source": [
    "df_15_electronics.plot(x='cluster_id',y='Amount',kind='hist')"
   ]
  },
  {
   "cell_type": "code",
   "execution_count": 20,
   "metadata": {},
   "outputs": [
    {
     "data": {
      "text/html": [
       "<div>\n",
       "<style scoped>\n",
       "    .dataframe tbody tr th:only-of-type {\n",
       "        vertical-align: middle;\n",
       "    }\n",
       "\n",
       "    .dataframe tbody tr th {\n",
       "        vertical-align: top;\n",
       "    }\n",
       "\n",
       "    .dataframe thead th {\n",
       "        text-align: right;\n",
       "    }\n",
       "</style>\n",
       "<table border=\"1\" class=\"dataframe\">\n",
       "  <thead>\n",
       "    <tr style=\"text-align: right;\">\n",
       "      <th></th>\n",
       "      <th>cluster_id</th>\n",
       "      <th>Amount</th>\n",
       "    </tr>\n",
       "  </thead>\n",
       "  <tbody>\n",
       "    <tr>\n",
       "      <th>113</th>\n",
       "      <td>18640</td>\n",
       "      <td>49</td>\n",
       "    </tr>\n",
       "    <tr>\n",
       "      <th>167</th>\n",
       "      <td>28307</td>\n",
       "      <td>36</td>\n",
       "    </tr>\n",
       "    <tr>\n",
       "      <th>223</th>\n",
       "      <td>37409</td>\n",
       "      <td>28</td>\n",
       "    </tr>\n",
       "    <tr>\n",
       "      <th>257</th>\n",
       "      <td>45122</td>\n",
       "      <td>26</td>\n",
       "    </tr>\n",
       "    <tr>\n",
       "      <th>507</th>\n",
       "      <td>96277</td>\n",
       "      <td>268</td>\n",
       "    </tr>\n",
       "    <tr>\n",
       "      <th>...</th>\n",
       "      <td>...</td>\n",
       "      <td>...</td>\n",
       "    </tr>\n",
       "    <tr>\n",
       "      <th>100247</th>\n",
       "      <td>76869259</td>\n",
       "      <td>43</td>\n",
       "    </tr>\n",
       "    <tr>\n",
       "      <th>100248</th>\n",
       "      <td>76869317</td>\n",
       "      <td>60</td>\n",
       "    </tr>\n",
       "    <tr>\n",
       "      <th>101968</th>\n",
       "      <td>78260404</td>\n",
       "      <td>80</td>\n",
       "    </tr>\n",
       "    <tr>\n",
       "      <th>104156</th>\n",
       "      <td>80097153</td>\n",
       "      <td>60</td>\n",
       "    </tr>\n",
       "    <tr>\n",
       "      <th>104157</th>\n",
       "      <td>80097161</td>\n",
       "      <td>37</td>\n",
       "    </tr>\n",
       "  </tbody>\n",
       "</table>\n",
       "<p>171 rows × 2 columns</p>\n",
       "</div>"
      ],
      "text/plain": [
       "        cluster_id  Amount\n",
       "113          18640      49\n",
       "167          28307      36\n",
       "223          37409      28\n",
       "257          45122      26\n",
       "507          96277     268\n",
       "...            ...     ...\n",
       "100247    76869259      43\n",
       "100248    76869317      60\n",
       "101968    78260404      80\n",
       "104156    80097153      60\n",
       "104157    80097161      37\n",
       "\n",
       "[171 rows x 2 columns]"
      ]
     },
     "execution_count": 20,
     "metadata": {},
     "output_type": "execute_result"
    }
   ],
   "source": [
    "df_25_electronics=df_set_electronics[df_set_electronics['Amount']>25]\n",
    "df_25_electronics"
   ]
  },
  {
   "cell_type": "code",
   "execution_count": 21,
   "metadata": {},
   "outputs": [
    {
     "data": {
      "text/html": [
       "<div>\n",
       "<style scoped>\n",
       "    .dataframe tbody tr th:only-of-type {\n",
       "        vertical-align: middle;\n",
       "    }\n",
       "\n",
       "    .dataframe tbody tr th {\n",
       "        vertical-align: top;\n",
       "    }\n",
       "\n",
       "    .dataframe thead th {\n",
       "        text-align: right;\n",
       "    }\n",
       "</style>\n",
       "<table border=\"1\" class=\"dataframe\">\n",
       "  <thead>\n",
       "    <tr style=\"text-align: right;\">\n",
       "      <th></th>\n",
       "      <th>count</th>\n",
       "      <th>mean</th>\n",
       "      <th>std</th>\n",
       "      <th>min</th>\n",
       "      <th>25%</th>\n",
       "      <th>50%</th>\n",
       "      <th>75%</th>\n",
       "      <th>max</th>\n",
       "    </tr>\n",
       "  </thead>\n",
       "  <tbody>\n",
       "    <tr>\n",
       "      <th>Amount</th>\n",
       "      <td>171.0</td>\n",
       "      <td>84.0</td>\n",
       "      <td>227.0</td>\n",
       "      <td>26.0</td>\n",
       "      <td>36.0</td>\n",
       "      <td>51.0</td>\n",
       "      <td>63.0</td>\n",
       "      <td>2600.0</td>\n",
       "    </tr>\n",
       "  </tbody>\n",
       "</table>\n",
       "</div>"
      ],
      "text/plain": [
       "        count  mean    std   min   25%   50%   75%     max\n",
       "Amount  171.0  84.0  227.0  26.0  36.0  51.0  63.0  2600.0"
      ]
     },
     "execution_count": 21,
     "metadata": {},
     "output_type": "execute_result"
    }
   ],
   "source": [
    "df_25_electronics.set_index('cluster_id').describe().T.round()"
   ]
  },
  {
   "cell_type": "code",
   "execution_count": 22,
   "metadata": {},
   "outputs": [
    {
     "data": {
      "text/plain": [
       "<AxesSubplot:ylabel='Frequency'>"
      ]
     },
     "execution_count": 22,
     "metadata": {},
     "output_type": "execute_result"
    },
    {
     "data": {
      "image/png": "[encoded data removed]",
      "text/plain": [
       "<Figure size 432x288 with 1 Axes>"
      ]
     },
     "metadata": {
      "needs_background": "light"
     },
     "output_type": "display_data"
    }
   ],
   "source": [
    "df_25_electronics.plot(x='cluster_id',y='Amount',kind='hist')"
   ]
  },
  {
   "cell_type": "code",
   "execution_count": 23,
   "metadata": {},
   "outputs": [
    {
     "data": {
      "text/html": [
       "<div>\n",
       "<style scoped>\n",
       "    .dataframe tbody tr th:only-of-type {\n",
       "        vertical-align: middle;\n",
       "    }\n",
       "\n",
       "    .dataframe tbody tr th {\n",
       "        vertical-align: top;\n",
       "    }\n",
       "\n",
       "    .dataframe thead th {\n",
       "        text-align: right;\n",
       "    }\n",
       "</style>\n",
       "<table border=\"1\" class=\"dataframe\">\n",
       "  <thead>\n",
       "    <tr style=\"text-align: right;\">\n",
       "      <th></th>\n",
       "      <th>cluster_id</th>\n",
       "      <th>Amount</th>\n",
       "      <th>brand</th>\n",
       "    </tr>\n",
       "  </thead>\n",
       "  <tbody>\n",
       "    <tr>\n",
       "      <th>0</th>\n",
       "      <td>1040</td>\n",
       "      <td>21</td>\n",
       "      <td>nikon</td>\n",
       "    </tr>\n",
       "    <tr>\n",
       "      <th>1</th>\n",
       "      <td>6076</td>\n",
       "      <td>19</td>\n",
       "      <td>canon</td>\n",
       "    </tr>\n",
       "    <tr>\n",
       "      <th>2</th>\n",
       "      <td>6443</td>\n",
       "      <td>25</td>\n",
       "      <td>canon</td>\n",
       "    </tr>\n",
       "    <tr>\n",
       "      <th>3</th>\n",
       "      <td>6505</td>\n",
       "      <td>16</td>\n",
       "      <td>apple</td>\n",
       "    </tr>\n",
       "    <tr>\n",
       "      <th>4</th>\n",
       "      <td>6690</td>\n",
       "      <td>20</td>\n",
       "      <td>cisco</td>\n",
       "    </tr>\n",
       "    <tr>\n",
       "      <th>...</th>\n",
       "      <td>...</td>\n",
       "      <td>...</td>\n",
       "      <td>...</td>\n",
       "    </tr>\n",
       "    <tr>\n",
       "      <th>328</th>\n",
       "      <td>76869317</td>\n",
       "      <td>60</td>\n",
       "      <td>samsung</td>\n",
       "    </tr>\n",
       "    <tr>\n",
       "      <th>329</th>\n",
       "      <td>78260404</td>\n",
       "      <td>80</td>\n",
       "      <td>samsung</td>\n",
       "    </tr>\n",
       "    <tr>\n",
       "      <th>330</th>\n",
       "      <td>79512161</td>\n",
       "      <td>16</td>\n",
       "      <td>xiaomi</td>\n",
       "    </tr>\n",
       "    <tr>\n",
       "      <th>331</th>\n",
       "      <td>80097153</td>\n",
       "      <td>60</td>\n",
       "      <td>samsung</td>\n",
       "    </tr>\n",
       "    <tr>\n",
       "      <th>332</th>\n",
       "      <td>80097161</td>\n",
       "      <td>37</td>\n",
       "      <td>samsung</td>\n",
       "    </tr>\n",
       "  </tbody>\n",
       "</table>\n",
       "<p>333 rows × 3 columns</p>\n",
       "</div>"
      ],
      "text/plain": [
       "     cluster_id  Amount    brand\n",
       "0          1040      21    nikon\n",
       "1          6076      19    canon\n",
       "2          6443      25    canon\n",
       "3          6505      16    apple\n",
       "4          6690      20    cisco\n",
       "..          ...     ...      ...\n",
       "328    76869317      60  samsung\n",
       "329    78260404      80  samsung\n",
       "330    79512161      16   xiaomi\n",
       "331    80097153      60  samsung\n",
       "332    80097161      37  samsung\n",
       "\n",
       "[333 rows x 3 columns]"
      ]
     },
     "execution_count": 23,
     "metadata": {},
     "output_type": "execute_result"
    }
   ],
   "source": [
    "#merge brand name to cluster amount\n",
    "df_cluster_brand = df_15_electronics[df_15_electronics['Amount']<400].merge(df_joined_electronics.dropna()[['cluster_id','brand']].drop_duplicates('cluster_id', keep='last'), left_on=['cluster_id'], right_on = ['cluster_id'], how='left')\n",
    "df_cluster_brand"
   ]
  },
  {
   "cell_type": "code",
   "execution_count": 24,
   "metadata": {
    "scrolled": true
   },
   "outputs": [
    {
     "data": {
      "text/html": [
       "<div>\n",
       "<style scoped>\n",
       "    .dataframe tbody tr th:only-of-type {\n",
       "        vertical-align: middle;\n",
       "    }\n",
       "\n",
       "    .dataframe tbody tr th {\n",
       "        vertical-align: top;\n",
       "    }\n",
       "\n",
       "    .dataframe thead th {\n",
       "        text-align: right;\n",
       "    }\n",
       "</style>\n",
       "<table border=\"1\" class=\"dataframe\">\n",
       "  <thead>\n",
       "    <tr style=\"text-align: right;\">\n",
       "      <th></th>\n",
       "      <th>cluster_id</th>\n",
       "      <th>Amount</th>\n",
       "      <th>brand</th>\n",
       "    </tr>\n",
       "  </thead>\n",
       "  <tbody>\n",
       "    <tr>\n",
       "      <th>41</th>\n",
       "      <td>184777</td>\n",
       "      <td>314</td>\n",
       "      <td>sony</td>\n",
       "    </tr>\n",
       "    <tr>\n",
       "      <th>158</th>\n",
       "      <td>1566090</td>\n",
       "      <td>177</td>\n",
       "      <td>canon</td>\n",
       "    </tr>\n",
       "    <tr>\n",
       "      <th>219</th>\n",
       "      <td>4494482</td>\n",
       "      <td>83</td>\n",
       "      <td>samsung</td>\n",
       "    </tr>\n",
       "    <tr>\n",
       "      <th>189</th>\n",
       "      <td>2456244</td>\n",
       "      <td>55</td>\n",
       "      <td>nikon</td>\n",
       "    </tr>\n",
       "    <tr>\n",
       "      <th>80</th>\n",
       "      <td>491900</td>\n",
       "      <td>38</td>\n",
       "      <td>apple</td>\n",
       "    </tr>\n",
       "    <tr>\n",
       "      <th>10</th>\n",
       "      <td>28307</td>\n",
       "      <td>36</td>\n",
       "      <td>hp</td>\n",
       "    </tr>\n",
       "    <tr>\n",
       "      <th>110</th>\n",
       "      <td>835420</td>\n",
       "      <td>30</td>\n",
       "      <td>amd</td>\n",
       "    </tr>\n",
       "    <tr>\n",
       "      <th>43</th>\n",
       "      <td>197396</td>\n",
       "      <td>30</td>\n",
       "      <td>intel</td>\n",
       "    </tr>\n",
       "    <tr>\n",
       "      <th>200</th>\n",
       "      <td>2848082</td>\n",
       "      <td>29</td>\n",
       "      <td>asus</td>\n",
       "    </tr>\n",
       "    <tr>\n",
       "      <th>7</th>\n",
       "      <td>14418</td>\n",
       "      <td>25</td>\n",
       "      <td>panasonic</td>\n",
       "    </tr>\n",
       "    <tr>\n",
       "      <th>87</th>\n",
       "      <td>562955</td>\n",
       "      <td>23</td>\n",
       "      <td>cisco</td>\n",
       "    </tr>\n",
       "    <tr>\n",
       "      <th>86</th>\n",
       "      <td>554860</td>\n",
       "      <td>22</td>\n",
       "      <td>lenovo</td>\n",
       "    </tr>\n",
       "    <tr>\n",
       "      <th>267</th>\n",
       "      <td>34506054</td>\n",
       "      <td>21</td>\n",
       "      <td>dell</td>\n",
       "    </tr>\n",
       "    <tr>\n",
       "      <th>292</th>\n",
       "      <td>47841827</td>\n",
       "      <td>18</td>\n",
       "      <td>xiaomi</td>\n",
       "    </tr>\n",
       "  </tbody>\n",
       "</table>\n",
       "</div>"
      ],
      "text/plain": [
       "     cluster_id  Amount      brand\n",
       "41       184777     314       sony\n",
       "158     1566090     177      canon\n",
       "219     4494482      83    samsung\n",
       "189     2456244      55      nikon\n",
       "80       491900      38      apple\n",
       "10        28307      36         hp\n",
       "110      835420      30        amd\n",
       "43       197396      30      intel\n",
       "200     2848082      29       asus\n",
       "7         14418      25  panasonic\n",
       "87       562955      23      cisco\n",
       "86       554860      22     lenovo\n",
       "267    34506054      21       dell\n",
       "292    47841827      18     xiaomi"
      ]
     },
     "execution_count": 24,
     "metadata": {},
     "output_type": "execute_result"
    }
   ],
   "source": [
    "#get the top clusters per brand\n",
    "df_top_clusters = df_cluster_brand.sort_values(['Amount'], ascending=False).drop_duplicates(subset=[\"brand\"], keep=\"first\")\n",
    "df_top_clusters"
   ]
  },
  {
   "cell_type": "code",
   "execution_count": 25,
   "metadata": {},
   "outputs": [],
   "source": [
    "pd.set_option('display.max_colwidth', None)"
   ]
  },
  {
   "cell_type": "code",
   "execution_count": 82,
   "metadata": {},
   "outputs": [
    {
     "data": {
      "text/html": [
       "<div>\n",
       "<style scoped>\n",
       "    .dataframe tbody tr th:only-of-type {\n",
       "        vertical-align: middle;\n",
       "    }\n",
       "\n",
       "    .dataframe tbody tr th {\n",
       "        vertical-align: top;\n",
       "    }\n",
       "\n",
       "    .dataframe thead th {\n",
       "        text-align: right;\n",
       "    }\n",
       "</style>\n",
       "<table border=\"1\" class=\"dataframe\">\n",
       "  <thead>\n",
       "    <tr style=\"text-align: right;\">\n",
       "      <th></th>\n",
       "      <th>cluster_id</th>\n",
       "      <th>url</th>\n",
       "      <th>row_id</th>\n",
       "      <th>table_id</th>\n",
       "      <th>Valid</th>\n",
       "      <th>brand</th>\n",
       "      <th>product_name</th>\n",
       "    </tr>\n",
       "  </thead>\n",
       "  <tbody>\n",
       "    <tr>\n",
       "      <th>105918</th>\n",
       "      <td>1566090</td>\n",
       "      <td>https://www.scottsbikes.com/product/park-tool-chain-wear-indicator-222236-1.htm</td>\n",
       "      <td>222</td>\n",
       "      <td>Product_scottsbikes.com_September2020.json.gz</td>\n",
       "      <td>1</td>\n",
       "      <td>None</td>\n",
       "      <td>park-tool-chain-wear-indicator-222236-1.htm</td>\n",
       "    </tr>\n",
       "    <tr>\n",
       "      <th>541872</th>\n",
       "      <td>1566090</td>\n",
       "      <td>https://www.bigshark.com/product/park-tool-chain-wear-indicator-222236-1.htm</td>\n",
       "      <td>2221</td>\n",
       "      <td>Product_bigshark.com_September2020.json.gz</td>\n",
       "      <td>1</td>\n",
       "      <td>None</td>\n",
       "      <td>park-tool-chain-wear-indicator-222236-1.htm</td>\n",
       "    </tr>\n",
       "    <tr>\n",
       "      <th>968763</th>\n",
       "      <td>1566090</td>\n",
       "      <td>https://avcstore.com/products/canon-mt-26ex-rt-macro-twin-lite</td>\n",
       "      <td>303</td>\n",
       "      <td>Product_avcstore.com_September2020.json.gz</td>\n",
       "      <td>1</td>\n",
       "      <td>canon</td>\n",
       "      <td>canon-mt-26ex-rt-macro-twin-lite</td>\n",
       "    </tr>\n",
       "    <tr>\n",
       "      <th>1092099</th>\n",
       "      <td>1566090</td>\n",
       "      <td>https://www.trekstoreracine.com/product/park-tool-chain-wear-indicator-222236-1.htm</td>\n",
       "      <td>144</td>\n",
       "      <td>Product_trekstoreracine.com_September2020.json.gz</td>\n",
       "      <td>1</td>\n",
       "      <td>None</td>\n",
       "      <td>park-tool-chain-wear-indicator-222236-1.htm</td>\n",
       "    </tr>\n",
       "    <tr>\n",
       "      <th>1631174</th>\n",
       "      <td>1566090</td>\n",
       "      <td>https://www.seabasscycles.co.uk/cc-32-chain-wear-indicator.html</td>\n",
       "      <td>75</td>\n",
       "      <td>Product_seabasscycles.co.uk_September2020.json.gz</td>\n",
       "      <td>1</td>\n",
       "      <td>None</td>\n",
       "      <td>cc-32-chain-wear-indicator.html</td>\n",
       "    </tr>\n",
       "    <tr>\n",
       "      <th>...</th>\n",
       "      <td>...</td>\n",
       "      <td>...</td>\n",
       "      <td>...</td>\n",
       "      <td>...</td>\n",
       "      <td>...</td>\n",
       "      <td>...</td>\n",
       "      <td>...</td>\n",
       "    </tr>\n",
       "    <tr>\n",
       "      <th>24134777</th>\n",
       "      <td>1566090</td>\n",
       "      <td>https://www.seriouscycles.com/product/park-tool-chain-wear-indicator-222236-1.htm</td>\n",
       "      <td>1717</td>\n",
       "      <td>Product_seriouscycles.com_September2020.json.gz</td>\n",
       "      <td>1</td>\n",
       "      <td>None</td>\n",
       "      <td>park-tool-chain-wear-indicator-222236-1.htm</td>\n",
       "    </tr>\n",
       "    <tr>\n",
       "      <th>24382426</th>\n",
       "      <td>1566090</td>\n",
       "      <td>https://www.freewheelbike.com/product/park-tool-chain-wear-indicator-222236-1.htm</td>\n",
       "      <td>625</td>\n",
       "      <td>Product_freewheelbike.com_September2020.json.gz</td>\n",
       "      <td>1</td>\n",
       "      <td>None</td>\n",
       "      <td>park-tool-chain-wear-indicator-222236-1.htm</td>\n",
       "    </tr>\n",
       "    <tr>\n",
       "      <th>24398829</th>\n",
       "      <td>1566090</td>\n",
       "      <td>https://www.actionsportsbicyclecenter.com/product/park-tool-chain-wear-indicator-222236-1.htm</td>\n",
       "      <td>462</td>\n",
       "      <td>Product_actionsportsbicyclecenter.com_September2020.json.gz</td>\n",
       "      <td>1</td>\n",
       "      <td>None</td>\n",
       "      <td>park-tool-chain-wear-indicator-222236-1.htm</td>\n",
       "    </tr>\n",
       "    <tr>\n",
       "      <th>24427409</th>\n",
       "      <td>1566090</td>\n",
       "      <td>https://www.bikesportbikes.com/product/park-tool-chain-wear-indicator-222236-1.htm</td>\n",
       "      <td>1354</td>\n",
       "      <td>Product_bikesportbikes.com_September2020.json.gz</td>\n",
       "      <td>1</td>\n",
       "      <td>None</td>\n",
       "      <td>park-tool-chain-wear-indicator-222236-1.htm</td>\n",
       "    </tr>\n",
       "    <tr>\n",
       "      <th>24435992</th>\n",
       "      <td>1566090</td>\n",
       "      <td>https://www.coloradocyclingcompany.com/product/park-tool-chain-wear-indicator-222236-1.htm</td>\n",
       "      <td>263</td>\n",
       "      <td>Product_coloradocyclingcompany.com_September2020.json.gz</td>\n",
       "      <td>1</td>\n",
       "      <td>None</td>\n",
       "      <td>park-tool-chain-wear-indicator-222236-1.htm</td>\n",
       "    </tr>\n",
       "  </tbody>\n",
       "</table>\n",
       "<p>177 rows × 7 columns</p>\n",
       "</div>"
      ],
      "text/plain": [
       "          cluster_id  \\\n",
       "105918       1566090   \n",
       "541872       1566090   \n",
       "968763       1566090   \n",
       "1092099      1566090   \n",
       "1631174      1566090   \n",
       "...              ...   \n",
       "24134777     1566090   \n",
       "24382426     1566090   \n",
       "24398829     1566090   \n",
       "24427409     1566090   \n",
       "24435992     1566090   \n",
       "\n",
       "                                                                                                    url  \\\n",
       "105918                  https://www.scottsbikes.com/product/park-tool-chain-wear-indicator-222236-1.htm   \n",
       "541872                     https://www.bigshark.com/product/park-tool-chain-wear-indicator-222236-1.htm   \n",
       "968763                                   https://avcstore.com/products/canon-mt-26ex-rt-macro-twin-lite   \n",
       "1092099             https://www.trekstoreracine.com/product/park-tool-chain-wear-indicator-222236-1.htm   \n",
       "1631174                                 https://www.seabasscycles.co.uk/cc-32-chain-wear-indicator.html   \n",
       "...                                                                                                 ...   \n",
       "24134777              https://www.seriouscycles.com/product/park-tool-chain-wear-indicator-222236-1.htm   \n",
       "24382426              https://www.freewheelbike.com/product/park-tool-chain-wear-indicator-222236-1.htm   \n",
       "24398829  https://www.actionsportsbicyclecenter.com/product/park-tool-chain-wear-indicator-222236-1.htm   \n",
       "24427409             https://www.bikesportbikes.com/product/park-tool-chain-wear-indicator-222236-1.htm   \n",
       "24435992     https://www.coloradocyclingcompany.com/product/park-tool-chain-wear-indicator-222236-1.htm   \n",
       "\n",
       "          row_id                                                     table_id  \\\n",
       "105918       222                Product_scottsbikes.com_September2020.json.gz   \n",
       "541872      2221                   Product_bigshark.com_September2020.json.gz   \n",
       "968763       303                   Product_avcstore.com_September2020.json.gz   \n",
       "1092099      144            Product_trekstoreracine.com_September2020.json.gz   \n",
       "1631174       75            Product_seabasscycles.co.uk_September2020.json.gz   \n",
       "...          ...                                                          ...   \n",
       "24134777    1717              Product_seriouscycles.com_September2020.json.gz   \n",
       "24382426     625              Product_freewheelbike.com_September2020.json.gz   \n",
       "24398829     462  Product_actionsportsbicyclecenter.com_September2020.json.gz   \n",
       "24427409    1354             Product_bikesportbikes.com_September2020.json.gz   \n",
       "24435992     263     Product_coloradocyclingcompany.com_September2020.json.gz   \n",
       "\n",
       "          Valid  brand                                 product_name  \n",
       "105918        1   None  park-tool-chain-wear-indicator-222236-1.htm  \n",
       "541872        1   None  park-tool-chain-wear-indicator-222236-1.htm  \n",
       "968763        1  canon             canon-mt-26ex-rt-macro-twin-lite  \n",
       "1092099       1   None  park-tool-chain-wear-indicator-222236-1.htm  \n",
       "1631174       1   None              cc-32-chain-wear-indicator.html  \n",
       "...         ...    ...                                          ...  \n",
       "24134777      1   None  park-tool-chain-wear-indicator-222236-1.htm  \n",
       "24382426      1   None  park-tool-chain-wear-indicator-222236-1.htm  \n",
       "24398829      1   None  park-tool-chain-wear-indicator-222236-1.htm  \n",
       "24427409      1   None  park-tool-chain-wear-indicator-222236-1.htm  \n",
       "24435992      1   None  park-tool-chain-wear-indicator-222236-1.htm  \n",
       "\n",
       "[177 rows x 7 columns]"
      ]
     },
     "execution_count": 82,
     "metadata": {},
     "output_type": "execute_result"
    }
   ],
   "source": [
    "df_joined_electronics[(df_joined_electronics['cluster_id']==1566090)]"
   ]
  },
  {
   "cell_type": "code",
   "execution_count": 27,
   "metadata": {},
   "outputs": [],
   "source": [
    "#get a new column with the product names from the url\n",
    "df_joined_electronics['product_name'] = df_joined_electronics['url'].apply(lambda row: row.split(\"/\")[-1])"
   ]
  },
  {
   "cell_type": "code",
   "execution_count": 28,
   "metadata": {},
   "outputs": [
    {
     "data": {
      "text/html": [
       "<div>\n",
       "<style scoped>\n",
       "    .dataframe tbody tr th:only-of-type {\n",
       "        vertical-align: middle;\n",
       "    }\n",
       "\n",
       "    .dataframe tbody tr th {\n",
       "        vertical-align: top;\n",
       "    }\n",
       "\n",
       "    .dataframe thead th {\n",
       "        text-align: right;\n",
       "    }\n",
       "</style>\n",
       "<table border=\"1\" class=\"dataframe\">\n",
       "  <thead>\n",
       "    <tr style=\"text-align: right;\">\n",
       "      <th></th>\n",
       "      <th>cluster_id</th>\n",
       "      <th>url</th>\n",
       "      <th>row_id</th>\n",
       "      <th>table_id</th>\n",
       "      <th>Valid</th>\n",
       "      <th>brand</th>\n",
       "      <th>product_name</th>\n",
       "    </tr>\n",
       "  </thead>\n",
       "  <tbody>\n",
       "    <tr>\n",
       "      <th>0</th>\n",
       "      <td>59178314</td>\n",
       "      <td>https://www.cultureindoor.com/796-irrigation-arrosage-tuyau-pe-20mm-semi-rigide-rouleau-100m.html</td>\n",
       "      <td>1561</td>\n",
       "      <td>Product_cultureindoor.com_September2020.json.gz</td>\n",
       "      <td>1</td>\n",
       "      <td>None</td>\n",
       "      <td>796-irrigation-arrosage-tuyau-pe-20mm-semi-rigide-rouleau-100m.html</td>\n",
       "    </tr>\n",
       "    <tr>\n",
       "      <th>1</th>\n",
       "      <td>70692685</td>\n",
       "      <td>https://www.culturekings.com/products/new-era-new-era-new-orleans-pelicans-nba-940-a-frame-snapback-black</td>\n",
       "      <td>3893</td>\n",
       "      <td>Product_culturekings.com_September2020.json.gz</td>\n",
       "      <td>1</td>\n",
       "      <td>None</td>\n",
       "      <td>new-era-new-era-new-orleans-pelicans-nba-940-a-frame-snapback-black</td>\n",
       "    </tr>\n",
       "    <tr>\n",
       "      <th>2</th>\n",
       "      <td>395606</td>\n",
       "      <td>https://www.culturekings.com/products/new-era-x-nrl-west-tigers-aframe-charcoal-orange</td>\n",
       "      <td>3894</td>\n",
       "      <td>Product_culturekings.com_September2020.json.gz</td>\n",
       "      <td>1</td>\n",
       "      <td>None</td>\n",
       "      <td>new-era-x-nrl-west-tigers-aframe-charcoal-orange</td>\n",
       "    </tr>\n",
       "    <tr>\n",
       "      <th>3</th>\n",
       "      <td>3361797</td>\n",
       "      <td>https://www.customizedgirl.com/design/2605608/The+Real+Baseball+Moms</td>\n",
       "      <td>9318</td>\n",
       "      <td>Product_customizedgirl.com_September2020.json.gz</td>\n",
       "      <td>1</td>\n",
       "      <td>None</td>\n",
       "      <td>The+Real+Baseball+Moms</td>\n",
       "    </tr>\n",
       "    <tr>\n",
       "      <th>4</th>\n",
       "      <td>235755</td>\n",
       "      <td>https://www.customizedgirl.com/design/2613423/Mentally+Dating+Ronaldo</td>\n",
       "      <td>9319</td>\n",
       "      <td>Product_customizedgirl.com_September2020.json.gz</td>\n",
       "      <td>1</td>\n",
       "      <td>None</td>\n",
       "      <td>Mentally+Dating+Ronaldo</td>\n",
       "    </tr>\n",
       "    <tr>\n",
       "      <th>...</th>\n",
       "      <td>...</td>\n",
       "      <td>...</td>\n",
       "      <td>...</td>\n",
       "      <td>...</td>\n",
       "      <td>...</td>\n",
       "      <td>...</td>\n",
       "      <td>...</td>\n",
       "    </tr>\n",
       "    <tr>\n",
       "      <th>24687502</th>\n",
       "      <td>8653717</td>\n",
       "      <td>https://shop-list.com/women/utuwa-tatara/sg3232-03</td>\n",
       "      <td>1620</td>\n",
       "      <td>Product_shop-list.com_September2020.json.gz</td>\n",
       "      <td>1</td>\n",
       "      <td>None</td>\n",
       "      <td>sg3232-03</td>\n",
       "    </tr>\n",
       "    <tr>\n",
       "      <th>24687503</th>\n",
       "      <td>22258637</td>\n",
       "      <td>https://shop-list.com/women/youmotto/famille-ltm</td>\n",
       "      <td>1621</td>\n",
       "      <td>Product_shop-list.com_September2020.json.gz</td>\n",
       "      <td>1</td>\n",
       "      <td>None</td>\n",
       "      <td>famille-ltm</td>\n",
       "    </tr>\n",
       "    <tr>\n",
       "      <th>24687504</th>\n",
       "      <td>41434658</td>\n",
       "      <td>https://shop.agwaycapecod.com/products/019014710959/adult-small-breed-dog-food-5-lb</td>\n",
       "      <td>126</td>\n",
       "      <td>Product_agwaycapecod.com_September2020.json.gz</td>\n",
       "      <td>1</td>\n",
       "      <td>None</td>\n",
       "      <td>adult-small-breed-dog-food-5-lb</td>\n",
       "    </tr>\n",
       "    <tr>\n",
       "      <th>24687505</th>\n",
       "      <td>62702145</td>\n",
       "      <td>https://shop.agwaycapecod.com/products/037321455042/ant-killer-dust-3-lbs</td>\n",
       "      <td>127</td>\n",
       "      <td>Product_agwaycapecod.com_September2020.json.gz</td>\n",
       "      <td>1</td>\n",
       "      <td>None</td>\n",
       "      <td>ant-killer-dust-3-lbs</td>\n",
       "    </tr>\n",
       "    <tr>\n",
       "      <th>24687506</th>\n",
       "      <td>60936713</td>\n",
       "      <td>https://shop.areefcreation.com/products/ls-apr-344b</td>\n",
       "      <td>120</td>\n",
       "      <td>Product_areefcreation.com_September2020.json.gz</td>\n",
       "      <td>1</td>\n",
       "      <td>None</td>\n",
       "      <td>ls-apr-344b</td>\n",
       "    </tr>\n",
       "  </tbody>\n",
       "</table>\n",
       "<p>24687507 rows × 7 columns</p>\n",
       "</div>"
      ],
      "text/plain": [
       "          cluster_id  \\\n",
       "0           59178314   \n",
       "1           70692685   \n",
       "2             395606   \n",
       "3            3361797   \n",
       "4             235755   \n",
       "...              ...   \n",
       "24687502     8653717   \n",
       "24687503    22258637   \n",
       "24687504    41434658   \n",
       "24687505    62702145   \n",
       "24687506    60936713   \n",
       "\n",
       "                                                                                                                url  \\\n",
       "0                 https://www.cultureindoor.com/796-irrigation-arrosage-tuyau-pe-20mm-semi-rigide-rouleau-100m.html   \n",
       "1         https://www.culturekings.com/products/new-era-new-era-new-orleans-pelicans-nba-940-a-frame-snapback-black   \n",
       "2                            https://www.culturekings.com/products/new-era-x-nrl-west-tigers-aframe-charcoal-orange   \n",
       "3                                              https://www.customizedgirl.com/design/2605608/The+Real+Baseball+Moms   \n",
       "4                                             https://www.customizedgirl.com/design/2613423/Mentally+Dating+Ronaldo   \n",
       "...                                                                                                             ...   \n",
       "24687502                                                         https://shop-list.com/women/utuwa-tatara/sg3232-03   \n",
       "24687503                                                           https://shop-list.com/women/youmotto/famille-ltm   \n",
       "24687504                        https://shop.agwaycapecod.com/products/019014710959/adult-small-breed-dog-food-5-lb   \n",
       "24687505                                  https://shop.agwaycapecod.com/products/037321455042/ant-killer-dust-3-lbs   \n",
       "24687506                                                        https://shop.areefcreation.com/products/ls-apr-344b   \n",
       "\n",
       "          row_id                                          table_id  Valid  \\\n",
       "0           1561   Product_cultureindoor.com_September2020.json.gz      1   \n",
       "1           3893    Product_culturekings.com_September2020.json.gz      1   \n",
       "2           3894    Product_culturekings.com_September2020.json.gz      1   \n",
       "3           9318  Product_customizedgirl.com_September2020.json.gz      1   \n",
       "4           9319  Product_customizedgirl.com_September2020.json.gz      1   \n",
       "...          ...                                               ...    ...   \n",
       "24687502    1620       Product_shop-list.com_September2020.json.gz      1   \n",
       "24687503    1621       Product_shop-list.com_September2020.json.gz      1   \n",
       "24687504     126    Product_agwaycapecod.com_September2020.json.gz      1   \n",
       "24687505     127    Product_agwaycapecod.com_September2020.json.gz      1   \n",
       "24687506     120   Product_areefcreation.com_September2020.json.gz      1   \n",
       "\n",
       "         brand  \\\n",
       "0         None   \n",
       "1         None   \n",
       "2         None   \n",
       "3         None   \n",
       "4         None   \n",
       "...        ...   \n",
       "24687502  None   \n",
       "24687503  None   \n",
       "24687504  None   \n",
       "24687505  None   \n",
       "24687506  None   \n",
       "\n",
       "                                                                 product_name  \n",
       "0         796-irrigation-arrosage-tuyau-pe-20mm-semi-rigide-rouleau-100m.html  \n",
       "1         new-era-new-era-new-orleans-pelicans-nba-940-a-frame-snapback-black  \n",
       "2                            new-era-x-nrl-west-tigers-aframe-charcoal-orange  \n",
       "3                                                      The+Real+Baseball+Moms  \n",
       "4                                                     Mentally+Dating+Ronaldo  \n",
       "...                                                                       ...  \n",
       "24687502                                                            sg3232-03  \n",
       "24687503                                                          famille-ltm  \n",
       "24687504                                      adult-small-breed-dog-food-5-lb  \n",
       "24687505                                                ant-killer-dust-3-lbs  \n",
       "24687506                                                          ls-apr-344b  \n",
       "\n",
       "[24687507 rows x 7 columns]"
      ]
     },
     "execution_count": 28,
     "metadata": {},
     "output_type": "execute_result"
    }
   ],
   "source": [
    "df_joined_electronics"
   ]
  },
  {
   "cell_type": "markdown",
   "metadata": {},
   "source": [
    "## Cluster statistics for product category clothes"
   ]
  },
  {
   "cell_type": "code",
   "execution_count": 29,
   "metadata": {},
   "outputs": [],
   "source": [
    "df_grouped_clothes = df_joined_clothes.groupby('cluster_id').count()"
   ]
  },
  {
   "cell_type": "code",
   "execution_count": 30,
   "metadata": {},
   "outputs": [],
   "source": [
    "# only look at clusters that have at least one brand associated\n",
    "df_set_clothes = df_grouped_clothes[df_grouped_clothes['brand']>0].reset_index()[['cluster_id','table_id']].rename(columns={'table_id':'Amount'})"
   ]
  },
  {
   "cell_type": "code",
   "execution_count": 31,
   "metadata": {},
   "outputs": [
    {
     "data": {
      "text/html": [
       "<div>\n",
       "<style scoped>\n",
       "    .dataframe tbody tr th:only-of-type {\n",
       "        vertical-align: middle;\n",
       "    }\n",
       "\n",
       "    .dataframe tbody tr th {\n",
       "        vertical-align: top;\n",
       "    }\n",
       "\n",
       "    .dataframe thead th {\n",
       "        text-align: right;\n",
       "    }\n",
       "</style>\n",
       "<table border=\"1\" class=\"dataframe\">\n",
       "  <thead>\n",
       "    <tr style=\"text-align: right;\">\n",
       "      <th></th>\n",
       "      <th>cluster_id</th>\n",
       "      <th>Amount</th>\n",
       "    </tr>\n",
       "  </thead>\n",
       "  <tbody>\n",
       "    <tr>\n",
       "      <th>0</th>\n",
       "      <td>560</td>\n",
       "      <td>2</td>\n",
       "    </tr>\n",
       "    <tr>\n",
       "      <th>1</th>\n",
       "      <td>1507</td>\n",
       "      <td>3</td>\n",
       "    </tr>\n",
       "    <tr>\n",
       "      <th>2</th>\n",
       "      <td>2420</td>\n",
       "      <td>3</td>\n",
       "    </tr>\n",
       "    <tr>\n",
       "      <th>3</th>\n",
       "      <td>2523</td>\n",
       "      <td>2</td>\n",
       "    </tr>\n",
       "    <tr>\n",
       "      <th>4</th>\n",
       "      <td>2663</td>\n",
       "      <td>3</td>\n",
       "    </tr>\n",
       "    <tr>\n",
       "      <th>...</th>\n",
       "      <td>...</td>\n",
       "      <td>...</td>\n",
       "    </tr>\n",
       "    <tr>\n",
       "      <th>105590</th>\n",
       "      <td>80424345</td>\n",
       "      <td>2</td>\n",
       "    </tr>\n",
       "    <tr>\n",
       "      <th>105604</th>\n",
       "      <td>80438085</td>\n",
       "      <td>2</td>\n",
       "    </tr>\n",
       "    <tr>\n",
       "      <th>105623</th>\n",
       "      <td>80472255</td>\n",
       "      <td>4</td>\n",
       "    </tr>\n",
       "    <tr>\n",
       "      <th>105624</th>\n",
       "      <td>80472257</td>\n",
       "      <td>4</td>\n",
       "    </tr>\n",
       "    <tr>\n",
       "      <th>105631</th>\n",
       "      <td>80478117</td>\n",
       "      <td>3</td>\n",
       "    </tr>\n",
       "  </tbody>\n",
       "</table>\n",
       "<p>12666 rows × 2 columns</p>\n",
       "</div>"
      ],
      "text/plain": [
       "        cluster_id  Amount\n",
       "0              560       2\n",
       "1             1507       3\n",
       "2             2420       3\n",
       "3             2523       2\n",
       "4             2663       3\n",
       "...            ...     ...\n",
       "105590    80424345       2\n",
       "105604    80438085       2\n",
       "105623    80472255       4\n",
       "105624    80472257       4\n",
       "105631    80478117       3\n",
       "\n",
       "[12666 rows x 2 columns]"
      ]
     },
     "execution_count": 31,
     "metadata": {},
     "output_type": "execute_result"
    }
   ],
   "source": [
    "# We discard all clusters with less than 2 entries, cause we cannot match anything there, so 1,6 million clusters remain\n",
    "df_set_clothes=df_set_clothes[df_set_clothes['Amount']>1]\n",
    "df_set_clothes"
   ]
  },
  {
   "cell_type": "code",
   "execution_count": 32,
   "metadata": {},
   "outputs": [
    {
     "data": {
      "text/html": [
       "<div>\n",
       "<style scoped>\n",
       "    .dataframe tbody tr th:only-of-type {\n",
       "        vertical-align: middle;\n",
       "    }\n",
       "\n",
       "    .dataframe tbody tr th {\n",
       "        vertical-align: top;\n",
       "    }\n",
       "\n",
       "    .dataframe thead th {\n",
       "        text-align: right;\n",
       "    }\n",
       "</style>\n",
       "<table border=\"1\" class=\"dataframe\">\n",
       "  <thead>\n",
       "    <tr style=\"text-align: right;\">\n",
       "      <th></th>\n",
       "      <th>count</th>\n",
       "      <th>mean</th>\n",
       "      <th>std</th>\n",
       "      <th>min</th>\n",
       "      <th>25%</th>\n",
       "      <th>50%</th>\n",
       "      <th>75%</th>\n",
       "      <th>max</th>\n",
       "    </tr>\n",
       "  </thead>\n",
       "  <tbody>\n",
       "    <tr>\n",
       "      <th>Amount</th>\n",
       "      <td>12666.0</td>\n",
       "      <td>3.0</td>\n",
       "      <td>3.0</td>\n",
       "      <td>2.0</td>\n",
       "      <td>2.0</td>\n",
       "      <td>2.0</td>\n",
       "      <td>3.0</td>\n",
       "      <td>289.0</td>\n",
       "    </tr>\n",
       "  </tbody>\n",
       "</table>\n",
       "</div>"
      ],
      "text/plain": [
       "          count  mean  std  min  25%  50%  75%    max\n",
       "Amount  12666.0   3.0  3.0  2.0  2.0  2.0  3.0  289.0"
      ]
     },
     "execution_count": 32,
     "metadata": {},
     "output_type": "execute_result"
    }
   ],
   "source": [
    "df_set_clothes.set_index('cluster_id').describe().T.round()"
   ]
  },
  {
   "cell_type": "code",
   "execution_count": 33,
   "metadata": {},
   "outputs": [
    {
     "data": {
      "text/plain": [
       "<AxesSubplot:ylabel='Frequency'>"
      ]
     },
     "execution_count": 33,
     "metadata": {},
     "output_type": "execute_result"
    },
    {
     "data": {
      "image/png": "[encoded data removed]",
      "text/plain": [
       "<Figure size 432x288 with 1 Axes>"
      ]
     },
     "metadata": {
      "needs_background": "light"
     },
     "output_type": "display_data"
    }
   ],
   "source": [
    "df_set_clothes.plot(x='cluster_id',y='Amount',kind='hist')"
   ]
  },
  {
   "cell_type": "code",
   "execution_count": 34,
   "metadata": {},
   "outputs": [
    {
     "data": {
      "text/html": [
       "<div>\n",
       "<style scoped>\n",
       "    .dataframe tbody tr th:only-of-type {\n",
       "        vertical-align: middle;\n",
       "    }\n",
       "\n",
       "    .dataframe tbody tr th {\n",
       "        vertical-align: top;\n",
       "    }\n",
       "\n",
       "    .dataframe thead th {\n",
       "        text-align: right;\n",
       "    }\n",
       "</style>\n",
       "<table border=\"1\" class=\"dataframe\">\n",
       "  <thead>\n",
       "    <tr style=\"text-align: right;\">\n",
       "      <th></th>\n",
       "      <th>cluster_id</th>\n",
       "      <th>Amount</th>\n",
       "    </tr>\n",
       "  </thead>\n",
       "  <tbody>\n",
       "    <tr>\n",
       "      <th>5</th>\n",
       "      <td>2883</td>\n",
       "      <td>8</td>\n",
       "    </tr>\n",
       "    <tr>\n",
       "      <th>11</th>\n",
       "      <td>5310</td>\n",
       "      <td>11</td>\n",
       "    </tr>\n",
       "    <tr>\n",
       "      <th>30</th>\n",
       "      <td>12068</td>\n",
       "      <td>7</td>\n",
       "    </tr>\n",
       "    <tr>\n",
       "      <th>34</th>\n",
       "      <td>13678</td>\n",
       "      <td>6</td>\n",
       "    </tr>\n",
       "    <tr>\n",
       "      <th>47</th>\n",
       "      <td>16573</td>\n",
       "      <td>9</td>\n",
       "    </tr>\n",
       "    <tr>\n",
       "      <th>...</th>\n",
       "      <td>...</td>\n",
       "      <td>...</td>\n",
       "    </tr>\n",
       "    <tr>\n",
       "      <th>104001</th>\n",
       "      <td>78785962</td>\n",
       "      <td>6</td>\n",
       "    </tr>\n",
       "    <tr>\n",
       "      <th>104070</th>\n",
       "      <td>78826947</td>\n",
       "      <td>6</td>\n",
       "    </tr>\n",
       "    <tr>\n",
       "      <th>104186</th>\n",
       "      <td>78930130</td>\n",
       "      <td>7</td>\n",
       "    </tr>\n",
       "    <tr>\n",
       "      <th>104235</th>\n",
       "      <td>79010737</td>\n",
       "      <td>8</td>\n",
       "    </tr>\n",
       "    <tr>\n",
       "      <th>105150</th>\n",
       "      <td>79987429</td>\n",
       "      <td>6</td>\n",
       "    </tr>\n",
       "  </tbody>\n",
       "</table>\n",
       "<p>758 rows × 2 columns</p>\n",
       "</div>"
      ],
      "text/plain": [
       "        cluster_id  Amount\n",
       "5             2883       8\n",
       "11            5310      11\n",
       "30           12068       7\n",
       "34           13678       6\n",
       "47           16573       9\n",
       "...            ...     ...\n",
       "104001    78785962       6\n",
       "104070    78826947       6\n",
       "104186    78930130       7\n",
       "104235    79010737       8\n",
       "105150    79987429       6\n",
       "\n",
       "[758 rows x 2 columns]"
      ]
     },
     "execution_count": 34,
     "metadata": {},
     "output_type": "execute_result"
    }
   ],
   "source": [
    "# filter on clusters with more entries to get information, here are still 20k clusters left\n",
    "df_5_clothes=df_set_clothes[df_set_clothes['Amount']>5]\n",
    "df_5_clothes"
   ]
  },
  {
   "cell_type": "code",
   "execution_count": 35,
   "metadata": {},
   "outputs": [
    {
     "data": {
      "text/html": [
       "<div>\n",
       "<style scoped>\n",
       "    .dataframe tbody tr th:only-of-type {\n",
       "        vertical-align: middle;\n",
       "    }\n",
       "\n",
       "    .dataframe tbody tr th {\n",
       "        vertical-align: top;\n",
       "    }\n",
       "\n",
       "    .dataframe thead th {\n",
       "        text-align: right;\n",
       "    }\n",
       "</style>\n",
       "<table border=\"1\" class=\"dataframe\">\n",
       "  <thead>\n",
       "    <tr style=\"text-align: right;\">\n",
       "      <th></th>\n",
       "      <th>count</th>\n",
       "      <th>mean</th>\n",
       "      <th>std</th>\n",
       "      <th>min</th>\n",
       "      <th>25%</th>\n",
       "      <th>50%</th>\n",
       "      <th>75%</th>\n",
       "      <th>max</th>\n",
       "    </tr>\n",
       "  </thead>\n",
       "  <tbody>\n",
       "    <tr>\n",
       "      <th>Amount</th>\n",
       "      <td>758.0</td>\n",
       "      <td>9.0</td>\n",
       "      <td>12.0</td>\n",
       "      <td>6.0</td>\n",
       "      <td>6.0</td>\n",
       "      <td>7.0</td>\n",
       "      <td>9.0</td>\n",
       "      <td>289.0</td>\n",
       "    </tr>\n",
       "  </tbody>\n",
       "</table>\n",
       "</div>"
      ],
      "text/plain": [
       "        count  mean   std  min  25%  50%  75%    max\n",
       "Amount  758.0   9.0  12.0  6.0  6.0  7.0  9.0  289.0"
      ]
     },
     "execution_count": 35,
     "metadata": {},
     "output_type": "execute_result"
    }
   ],
   "source": [
    "df_5_clothes.set_index('cluster_id').describe().T.round()"
   ]
  },
  {
   "cell_type": "code",
   "execution_count": 36,
   "metadata": {},
   "outputs": [
    {
     "data": {
      "text/plain": [
       "<AxesSubplot:ylabel='Frequency'>"
      ]
     },
     "execution_count": 36,
     "metadata": {},
     "output_type": "execute_result"
    },
    {
     "data": {
      "image/png": "[encoded data removed]",
      "text/plain": [
       "<Figure size 432x288 with 1 Axes>"
      ]
     },
     "metadata": {
      "needs_background": "light"
     },
     "output_type": "display_data"
    }
   ],
   "source": [
    "df_5_clothes.plot(x='cluster_id',y='Amount',kind='hist')"
   ]
  },
  {
   "cell_type": "code",
   "execution_count": 37,
   "metadata": {},
   "outputs": [
    {
     "data": {
      "text/html": [
       "<div>\n",
       "<style scoped>\n",
       "    .dataframe tbody tr th:only-of-type {\n",
       "        vertical-align: middle;\n",
       "    }\n",
       "\n",
       "    .dataframe tbody tr th {\n",
       "        vertical-align: top;\n",
       "    }\n",
       "\n",
       "    .dataframe thead th {\n",
       "        text-align: right;\n",
       "    }\n",
       "</style>\n",
       "<table border=\"1\" class=\"dataframe\">\n",
       "  <thead>\n",
       "    <tr style=\"text-align: right;\">\n",
       "      <th></th>\n",
       "      <th>cluster_id</th>\n",
       "      <th>Amount</th>\n",
       "    </tr>\n",
       "  </thead>\n",
       "  <tbody>\n",
       "    <tr>\n",
       "      <th>11</th>\n",
       "      <td>5310</td>\n",
       "      <td>11</td>\n",
       "    </tr>\n",
       "    <tr>\n",
       "      <th>183</th>\n",
       "      <td>58043</td>\n",
       "      <td>12</td>\n",
       "    </tr>\n",
       "    <tr>\n",
       "      <th>246</th>\n",
       "      <td>79412</td>\n",
       "      <td>15</td>\n",
       "    </tr>\n",
       "    <tr>\n",
       "      <th>279</th>\n",
       "      <td>90549</td>\n",
       "      <td>12</td>\n",
       "    </tr>\n",
       "    <tr>\n",
       "      <th>319</th>\n",
       "      <td>102437</td>\n",
       "      <td>14</td>\n",
       "    </tr>\n",
       "    <tr>\n",
       "      <th>...</th>\n",
       "      <td>...</td>\n",
       "      <td>...</td>\n",
       "    </tr>\n",
       "    <tr>\n",
       "      <th>79674</th>\n",
       "      <td>58592784</td>\n",
       "      <td>19</td>\n",
       "    </tr>\n",
       "    <tr>\n",
       "      <th>88341</th>\n",
       "      <td>65475235</td>\n",
       "      <td>11</td>\n",
       "    </tr>\n",
       "    <tr>\n",
       "      <th>92112</th>\n",
       "      <td>68554513</td>\n",
       "      <td>13</td>\n",
       "    </tr>\n",
       "    <tr>\n",
       "      <th>103333</th>\n",
       "      <td>78110534</td>\n",
       "      <td>13</td>\n",
       "    </tr>\n",
       "    <tr>\n",
       "      <th>103701</th>\n",
       "      <td>78499693</td>\n",
       "      <td>16</td>\n",
       "    </tr>\n",
       "  </tbody>\n",
       "</table>\n",
       "<p>105 rows × 2 columns</p>\n",
       "</div>"
      ],
      "text/plain": [
       "        cluster_id  Amount\n",
       "11            5310      11\n",
       "183          58043      12\n",
       "246          79412      15\n",
       "279          90549      12\n",
       "319         102437      14\n",
       "...            ...     ...\n",
       "79674     58592784      19\n",
       "88341     65475235      11\n",
       "92112     68554513      13\n",
       "103333    78110534      13\n",
       "103701    78499693      16\n",
       "\n",
       "[105 rows x 2 columns]"
      ]
     },
     "execution_count": 37,
     "metadata": {},
     "output_type": "execute_result"
    }
   ],
   "source": [
    "df_15_clothes=df_set_clothes[df_set_clothes['Amount']>10]\n",
    "df_15_clothes"
   ]
  },
  {
   "cell_type": "code",
   "execution_count": 38,
   "metadata": {},
   "outputs": [
    {
     "data": {
      "text/html": [
       "<div>\n",
       "<style scoped>\n",
       "    .dataframe tbody tr th:only-of-type {\n",
       "        vertical-align: middle;\n",
       "    }\n",
       "\n",
       "    .dataframe tbody tr th {\n",
       "        vertical-align: top;\n",
       "    }\n",
       "\n",
       "    .dataframe thead th {\n",
       "        text-align: right;\n",
       "    }\n",
       "</style>\n",
       "<table border=\"1\" class=\"dataframe\">\n",
       "  <thead>\n",
       "    <tr style=\"text-align: right;\">\n",
       "      <th></th>\n",
       "      <th>count</th>\n",
       "      <th>mean</th>\n",
       "      <th>std</th>\n",
       "      <th>min</th>\n",
       "      <th>25%</th>\n",
       "      <th>50%</th>\n",
       "      <th>75%</th>\n",
       "      <th>max</th>\n",
       "    </tr>\n",
       "  </thead>\n",
       "  <tbody>\n",
       "    <tr>\n",
       "      <th>Amount</th>\n",
       "      <td>105.0</td>\n",
       "      <td>21.0</td>\n",
       "      <td>30.0</td>\n",
       "      <td>11.0</td>\n",
       "      <td>12.0</td>\n",
       "      <td>14.0</td>\n",
       "      <td>18.0</td>\n",
       "      <td>289.0</td>\n",
       "    </tr>\n",
       "  </tbody>\n",
       "</table>\n",
       "</div>"
      ],
      "text/plain": [
       "        count  mean   std   min   25%   50%   75%    max\n",
       "Amount  105.0  21.0  30.0  11.0  12.0  14.0  18.0  289.0"
      ]
     },
     "execution_count": 38,
     "metadata": {},
     "output_type": "execute_result"
    }
   ],
   "source": [
    "df_15_clothes.set_index('cluster_id').describe().T.round()"
   ]
  },
  {
   "cell_type": "code",
   "execution_count": 39,
   "metadata": {},
   "outputs": [
    {
     "data": {
      "text/plain": [
       "<AxesSubplot:ylabel='Frequency'>"
      ]
     },
     "execution_count": 39,
     "metadata": {},
     "output_type": "execute_result"
    },
    {
     "data": {
      "image/png": "[encoded data removed]",
      "text/plain": [
       "<Figure size 432x288 with 1 Axes>"
      ]
     },
     "metadata": {
      "needs_background": "light"
     },
     "output_type": "display_data"
    }
   ],
   "source": [
    "df_15_clothes.plot(x='cluster_id',y='Amount',kind='hist')"
   ]
  },
  {
   "cell_type": "code",
   "execution_count": 84,
   "metadata": {},
   "outputs": [
    {
     "data": {
      "text/html": [
       "<div>\n",
       "<style scoped>\n",
       "    .dataframe tbody tr th:only-of-type {\n",
       "        vertical-align: middle;\n",
       "    }\n",
       "\n",
       "    .dataframe tbody tr th {\n",
       "        vertical-align: top;\n",
       "    }\n",
       "\n",
       "    .dataframe thead th {\n",
       "        text-align: right;\n",
       "    }\n",
       "</style>\n",
       "<table border=\"1\" class=\"dataframe\">\n",
       "  <thead>\n",
       "    <tr style=\"text-align: right;\">\n",
       "      <th></th>\n",
       "      <th>cluster_id</th>\n",
       "      <th>Amount</th>\n",
       "    </tr>\n",
       "  </thead>\n",
       "  <tbody>\n",
       "    <tr>\n",
       "      <th>11</th>\n",
       "      <td>5310</td>\n",
       "      <td>11</td>\n",
       "    </tr>\n",
       "    <tr>\n",
       "      <th>183</th>\n",
       "      <td>58043</td>\n",
       "      <td>12</td>\n",
       "    </tr>\n",
       "    <tr>\n",
       "      <th>246</th>\n",
       "      <td>79412</td>\n",
       "      <td>15</td>\n",
       "    </tr>\n",
       "    <tr>\n",
       "      <th>279</th>\n",
       "      <td>90549</td>\n",
       "      <td>12</td>\n",
       "    </tr>\n",
       "    <tr>\n",
       "      <th>319</th>\n",
       "      <td>102437</td>\n",
       "      <td>14</td>\n",
       "    </tr>\n",
       "    <tr>\n",
       "      <th>...</th>\n",
       "      <td>...</td>\n",
       "      <td>...</td>\n",
       "    </tr>\n",
       "    <tr>\n",
       "      <th>79674</th>\n",
       "      <td>58592784</td>\n",
       "      <td>19</td>\n",
       "    </tr>\n",
       "    <tr>\n",
       "      <th>88341</th>\n",
       "      <td>65475235</td>\n",
       "      <td>11</td>\n",
       "    </tr>\n",
       "    <tr>\n",
       "      <th>92112</th>\n",
       "      <td>68554513</td>\n",
       "      <td>13</td>\n",
       "    </tr>\n",
       "    <tr>\n",
       "      <th>103333</th>\n",
       "      <td>78110534</td>\n",
       "      <td>13</td>\n",
       "    </tr>\n",
       "    <tr>\n",
       "      <th>103701</th>\n",
       "      <td>78499693</td>\n",
       "      <td>16</td>\n",
       "    </tr>\n",
       "  </tbody>\n",
       "</table>\n",
       "<p>105 rows × 2 columns</p>\n",
       "</div>"
      ],
      "text/plain": [
       "        cluster_id  Amount\n",
       "11            5310      11\n",
       "183          58043      12\n",
       "246          79412      15\n",
       "279          90549      12\n",
       "319         102437      14\n",
       "...            ...     ...\n",
       "79674     58592784      19\n",
       "88341     65475235      11\n",
       "92112     68554513      13\n",
       "103333    78110534      13\n",
       "103701    78499693      16\n",
       "\n",
       "[105 rows x 2 columns]"
      ]
     },
     "execution_count": 84,
     "metadata": {},
     "output_type": "execute_result"
    }
   ],
   "source": [
    "df_15_clothes"
   ]
  },
  {
   "cell_type": "code",
   "execution_count": 86,
   "metadata": {},
   "outputs": [
    {
     "data": {
      "text/html": [
       "<div>\n",
       "<style scoped>\n",
       "    .dataframe tbody tr th:only-of-type {\n",
       "        vertical-align: middle;\n",
       "    }\n",
       "\n",
       "    .dataframe tbody tr th {\n",
       "        vertical-align: top;\n",
       "    }\n",
       "\n",
       "    .dataframe thead th {\n",
       "        text-align: right;\n",
       "    }\n",
       "</style>\n",
       "<table border=\"1\" class=\"dataframe\">\n",
       "  <thead>\n",
       "    <tr style=\"text-align: right;\">\n",
       "      <th></th>\n",
       "      <th>cluster_id</th>\n",
       "      <th>Amount</th>\n",
       "      <th>brand</th>\n",
       "    </tr>\n",
       "  </thead>\n",
       "  <tbody>\n",
       "    <tr>\n",
       "      <th>0</th>\n",
       "      <td>5310</td>\n",
       "      <td>11</td>\n",
       "      <td>armani</td>\n",
       "    </tr>\n",
       "    <tr>\n",
       "      <th>1</th>\n",
       "      <td>58043</td>\n",
       "      <td>12</td>\n",
       "      <td>burberry</td>\n",
       "    </tr>\n",
       "    <tr>\n",
       "      <th>2</th>\n",
       "      <td>79412</td>\n",
       "      <td>15</td>\n",
       "      <td>adidas</td>\n",
       "    </tr>\n",
       "    <tr>\n",
       "      <th>3</th>\n",
       "      <td>90549</td>\n",
       "      <td>12</td>\n",
       "      <td>louis vuitton</td>\n",
       "    </tr>\n",
       "    <tr>\n",
       "      <th>4</th>\n",
       "      <td>102437</td>\n",
       "      <td>14</td>\n",
       "      <td>chanel</td>\n",
       "    </tr>\n",
       "    <tr>\n",
       "      <th>...</th>\n",
       "      <td>...</td>\n",
       "      <td>...</td>\n",
       "      <td>...</td>\n",
       "    </tr>\n",
       "    <tr>\n",
       "      <th>100</th>\n",
       "      <td>58592784</td>\n",
       "      <td>19</td>\n",
       "      <td>nike</td>\n",
       "    </tr>\n",
       "    <tr>\n",
       "      <th>101</th>\n",
       "      <td>65475235</td>\n",
       "      <td>11</td>\n",
       "      <td>nike</td>\n",
       "    </tr>\n",
       "    <tr>\n",
       "      <th>102</th>\n",
       "      <td>68554513</td>\n",
       "      <td>13</td>\n",
       "      <td>nike</td>\n",
       "    </tr>\n",
       "    <tr>\n",
       "      <th>103</th>\n",
       "      <td>78110534</td>\n",
       "      <td>13</td>\n",
       "      <td>dolce &amp; gabbana</td>\n",
       "    </tr>\n",
       "    <tr>\n",
       "      <th>104</th>\n",
       "      <td>78499693</td>\n",
       "      <td>16</td>\n",
       "      <td>dolce &amp; gabbana</td>\n",
       "    </tr>\n",
       "  </tbody>\n",
       "</table>\n",
       "<p>105 rows × 3 columns</p>\n",
       "</div>"
      ],
      "text/plain": [
       "     cluster_id  Amount            brand\n",
       "0          5310      11           armani\n",
       "1         58043      12         burberry\n",
       "2         79412      15           adidas\n",
       "3         90549      12    louis vuitton\n",
       "4        102437      14           chanel\n",
       "..          ...     ...              ...\n",
       "100    58592784      19             nike\n",
       "101    65475235      11             nike\n",
       "102    68554513      13             nike\n",
       "103    78110534      13  dolce & gabbana\n",
       "104    78499693      16  dolce & gabbana\n",
       "\n",
       "[105 rows x 3 columns]"
      ]
     },
     "execution_count": 86,
     "metadata": {},
     "output_type": "execute_result"
    }
   ],
   "source": [
    "#merge brand name to cluster amount\n",
    "df_cluster_brand_clothes = df_15_clothes[df_15_clothes['Amount']<400].merge(df_joined_clothes.dropna()[['cluster_id','brand']].drop_duplicates('cluster_id', keep='last'), left_on=['cluster_id'], right_on = ['cluster_id'], how='left')\n",
    "df_cluster_brand_clothes"
   ]
  },
  {
   "cell_type": "code",
   "execution_count": 87,
   "metadata": {},
   "outputs": [
    {
     "data": {
      "text/html": [
       "<div>\n",
       "<style scoped>\n",
       "    .dataframe tbody tr th:only-of-type {\n",
       "        vertical-align: middle;\n",
       "    }\n",
       "\n",
       "    .dataframe tbody tr th {\n",
       "        vertical-align: top;\n",
       "    }\n",
       "\n",
       "    .dataframe thead th {\n",
       "        text-align: right;\n",
       "    }\n",
       "</style>\n",
       "<table border=\"1\" class=\"dataframe\">\n",
       "  <thead>\n",
       "    <tr style=\"text-align: right;\">\n",
       "      <th></th>\n",
       "      <th>cluster_id</th>\n",
       "      <th>Amount</th>\n",
       "      <th>brand</th>\n",
       "    </tr>\n",
       "  </thead>\n",
       "  <tbody>\n",
       "    <tr>\n",
       "      <th>84</th>\n",
       "      <td>5672069</td>\n",
       "      <td>289</td>\n",
       "      <td>gucci</td>\n",
       "    </tr>\n",
       "    <tr>\n",
       "      <th>27</th>\n",
       "      <td>527917</td>\n",
       "      <td>110</td>\n",
       "      <td>chanel</td>\n",
       "    </tr>\n",
       "    <tr>\n",
       "      <th>62</th>\n",
       "      <td>1524820</td>\n",
       "      <td>95</td>\n",
       "      <td>prada</td>\n",
       "    </tr>\n",
       "    <tr>\n",
       "      <th>67</th>\n",
       "      <td>2132296</td>\n",
       "      <td>61</td>\n",
       "      <td>the north face</td>\n",
       "    </tr>\n",
       "    <tr>\n",
       "      <th>24</th>\n",
       "      <td>434734</td>\n",
       "      <td>53</td>\n",
       "      <td>adidas</td>\n",
       "    </tr>\n",
       "    <tr>\n",
       "      <th>71</th>\n",
       "      <td>2434654</td>\n",
       "      <td>46</td>\n",
       "      <td>louis vuitton</td>\n",
       "    </tr>\n",
       "    <tr>\n",
       "      <th>83</th>\n",
       "      <td>3324035</td>\n",
       "      <td>40</td>\n",
       "      <td>oakley</td>\n",
       "    </tr>\n",
       "    <tr>\n",
       "      <th>98</th>\n",
       "      <td>58083280</td>\n",
       "      <td>24</td>\n",
       "      <td>nike</td>\n",
       "    </tr>\n",
       "    <tr>\n",
       "      <th>78</th>\n",
       "      <td>2825229</td>\n",
       "      <td>24</td>\n",
       "      <td>calvin klein</td>\n",
       "    </tr>\n",
       "    <tr>\n",
       "      <th>47</th>\n",
       "      <td>944406</td>\n",
       "      <td>18</td>\n",
       "      <td>dolce &amp; gabbana</td>\n",
       "    </tr>\n",
       "    <tr>\n",
       "      <th>28</th>\n",
       "      <td>531122</td>\n",
       "      <td>17</td>\n",
       "      <td>patagonia</td>\n",
       "    </tr>\n",
       "    <tr>\n",
       "      <th>70</th>\n",
       "      <td>2395583</td>\n",
       "      <td>16</td>\n",
       "      <td>armani</td>\n",
       "    </tr>\n",
       "    <tr>\n",
       "      <th>88</th>\n",
       "      <td>22374915</td>\n",
       "      <td>16</td>\n",
       "      <td>puma</td>\n",
       "    </tr>\n",
       "    <tr>\n",
       "      <th>93</th>\n",
       "      <td>44159446</td>\n",
       "      <td>16</td>\n",
       "      <td>michael kors</td>\n",
       "    </tr>\n",
       "    <tr>\n",
       "      <th>49</th>\n",
       "      <td>1036157</td>\n",
       "      <td>15</td>\n",
       "      <td>burberry</td>\n",
       "    </tr>\n",
       "    <tr>\n",
       "      <th>66</th>\n",
       "      <td>1970366</td>\n",
       "      <td>14</td>\n",
       "      <td>dior</td>\n",
       "    </tr>\n",
       "  </tbody>\n",
       "</table>\n",
       "</div>"
      ],
      "text/plain": [
       "    cluster_id  Amount            brand\n",
       "84     5672069     289            gucci\n",
       "27      527917     110           chanel\n",
       "62     1524820      95            prada\n",
       "67     2132296      61   the north face\n",
       "24      434734      53           adidas\n",
       "71     2434654      46    louis vuitton\n",
       "83     3324035      40           oakley\n",
       "98    58083280      24             nike\n",
       "78     2825229      24     calvin klein\n",
       "47      944406      18  dolce & gabbana\n",
       "28      531122      17        patagonia\n",
       "70     2395583      16           armani\n",
       "88    22374915      16             puma\n",
       "93    44159446      16     michael kors\n",
       "49     1036157      15         burberry\n",
       "66     1970366      14             dior"
      ]
     },
     "execution_count": 87,
     "metadata": {},
     "output_type": "execute_result"
    }
   ],
   "source": [
    "#get the top clusters per brand\n",
    "df_top_clusters_clothes = df_cluster_brand_clothes.sort_values(['Amount'], ascending=False).drop_duplicates(subset=[\"brand\"], keep=\"first\")\n",
    "df_top_clusters_clothes"
   ]
  },
  {
   "cell_type": "code",
   "execution_count": 96,
   "metadata": {},
   "outputs": [
    {
     "data": {
      "text/html": [
       "<div>\n",
       "<style scoped>\n",
       "    .dataframe tbody tr th:only-of-type {\n",
       "        vertical-align: middle;\n",
       "    }\n",
       "\n",
       "    .dataframe tbody tr th {\n",
       "        vertical-align: top;\n",
       "    }\n",
       "\n",
       "    .dataframe thead th {\n",
       "        text-align: right;\n",
       "    }\n",
       "</style>\n",
       "<table border=\"1\" class=\"dataframe\">\n",
       "  <thead>\n",
       "    <tr style=\"text-align: right;\">\n",
       "      <th></th>\n",
       "      <th>cluster_id</th>\n",
       "      <th>url</th>\n",
       "      <th>row_id</th>\n",
       "      <th>table_id</th>\n",
       "      <th>Valid</th>\n",
       "      <th>brand</th>\n",
       "    </tr>\n",
       "  </thead>\n",
       "  <tbody>\n",
       "    <tr>\n",
       "      <th>1126480</th>\n",
       "      <td>22374915</td>\n",
       "      <td>https://06.aplikasionlineshop.com/index.php/product/unero-military-classical-backpack</td>\n",
       "      <td>14</td>\n",
       "      <td>Product_aplikasionlineshop.com_September2020.json.gz</td>\n",
       "      <td>1</td>\n",
       "      <td>None</td>\n",
       "    </tr>\n",
       "    <tr>\n",
       "      <th>2128782</th>\n",
       "      <td>22374915</td>\n",
       "      <td>https://pensalo.com/product/unero-military-classical-backpack</td>\n",
       "      <td>16</td>\n",
       "      <td>Product_pensalo.com_September2020.json.gz</td>\n",
       "      <td>1</td>\n",
       "      <td>None</td>\n",
       "    </tr>\n",
       "    <tr>\n",
       "      <th>5574153</th>\n",
       "      <td>22374915</td>\n",
       "      <td>https://nelau.com/?product=unero-military-classical-backpack</td>\n",
       "      <td>14</td>\n",
       "      <td>Product_nelau.com_September2020.json.gz</td>\n",
       "      <td>1</td>\n",
       "      <td>None</td>\n",
       "    </tr>\n",
       "    <tr>\n",
       "      <th>5848416</th>\n",
       "      <td>22374915</td>\n",
       "      <td>https://pcmundo.com.mx/producto/panasonic-invertr-900l-refrigerator</td>\n",
       "      <td>70</td>\n",
       "      <td>Product_pcmundo.com.mx_September2020.json.gz</td>\n",
       "      <td>1</td>\n",
       "      <td>None</td>\n",
       "    </tr>\n",
       "    <tr>\n",
       "      <th>6191685</th>\n",
       "      <td>22374915</td>\n",
       "      <td>https://ebonth.com/product/unero-military-classical-backpack</td>\n",
       "      <td>24</td>\n",
       "      <td>Product_ebonth.com_September2020.json.gz</td>\n",
       "      <td>1</td>\n",
       "      <td>None</td>\n",
       "    </tr>\n",
       "    <tr>\n",
       "      <th>6994438</th>\n",
       "      <td>22374915</td>\n",
       "      <td>https://winnershopbd.com/product/unero-military-classical-backpack</td>\n",
       "      <td>22</td>\n",
       "      <td>Product_winnershopbd.com_September2020.json.gz</td>\n",
       "      <td>1</td>\n",
       "      <td>None</td>\n",
       "    </tr>\n",
       "    <tr>\n",
       "      <th>8350514</th>\n",
       "      <td>22374915</td>\n",
       "      <td>https://ikotaonline.com/product/unero-military-classical-backpack</td>\n",
       "      <td>15</td>\n",
       "      <td>Product_ikotaonline.com_September2020.json.gz</td>\n",
       "      <td>1</td>\n",
       "      <td>None</td>\n",
       "    </tr>\n",
       "    <tr>\n",
       "      <th>8765168</th>\n",
       "      <td>22374915</td>\n",
       "      <td>https://grixbase.com/product/graco-slim-snacker-high-chair-whisk</td>\n",
       "      <td>26</td>\n",
       "      <td>Product_grixbase.com_September2020.json.gz</td>\n",
       "      <td>1</td>\n",
       "      <td>None</td>\n",
       "    </tr>\n",
       "    <tr>\n",
       "      <th>9447506</th>\n",
       "      <td>22374915</td>\n",
       "      <td>https://www.digitalshopup.com/product/unero-military-classical-backpack</td>\n",
       "      <td>6</td>\n",
       "      <td>Product_digitalshopup.com_September2020.json.gz</td>\n",
       "      <td>1</td>\n",
       "      <td>None</td>\n",
       "    </tr>\n",
       "    <tr>\n",
       "      <th>10271721</th>\n",
       "      <td>22374915</td>\n",
       "      <td>https://ktrworld.com/product/unero-military-classical-backpack</td>\n",
       "      <td>78</td>\n",
       "      <td>Product_ktrworld.com_September2020.json.gz</td>\n",
       "      <td>1</td>\n",
       "      <td>None</td>\n",
       "    </tr>\n",
       "    <tr>\n",
       "      <th>11773220</th>\n",
       "      <td>22374915</td>\n",
       "      <td>https://aventuradiner.com/shop/international-foods/unero-military-classical-backpack</td>\n",
       "      <td>93</td>\n",
       "      <td>Product_aventuradiner.com_September2020.json.gz</td>\n",
       "      <td>1</td>\n",
       "      <td>None</td>\n",
       "    </tr>\n",
       "    <tr>\n",
       "      <th>18679974</th>\n",
       "      <td>22374915</td>\n",
       "      <td>https://05.aplikasionlineshop.com/index.php/product/unero-military-classical-backpack</td>\n",
       "      <td>47</td>\n",
       "      <td>Product_aplikasionlineshop.com_September2020.json.gz</td>\n",
       "      <td>1</td>\n",
       "      <td>None</td>\n",
       "    </tr>\n",
       "    <tr>\n",
       "      <th>18961276</th>\n",
       "      <td>22374915</td>\n",
       "      <td>https://apkgood.com/product/graco-slim-snacker-high-chair-whisk</td>\n",
       "      <td>25</td>\n",
       "      <td>Product_apkgood.com_September2020.json.gz</td>\n",
       "      <td>1</td>\n",
       "      <td>None</td>\n",
       "    </tr>\n",
       "    <tr>\n",
       "      <th>19633516</th>\n",
       "      <td>22374915</td>\n",
       "      <td>https://7bucket.com/product/unero-military-classical-backpack</td>\n",
       "      <td>22</td>\n",
       "      <td>Product_7bucket.com_September2020.json.gz</td>\n",
       "      <td>1</td>\n",
       "      <td>None</td>\n",
       "    </tr>\n",
       "    <tr>\n",
       "      <th>20513728</th>\n",
       "      <td>22374915</td>\n",
       "      <td>https://buttfittings.com/product/unero-military-classical-backpack</td>\n",
       "      <td>19</td>\n",
       "      <td>Product_buttfittings.com_September2020.json.gz</td>\n",
       "      <td>1</td>\n",
       "      <td>None</td>\n",
       "    </tr>\n",
       "    <tr>\n",
       "      <th>21016790</th>\n",
       "      <td>22374915</td>\n",
       "      <td>https://meerab-industries.com/puma-polo-shirts-mens-clothing-wholesale</td>\n",
       "      <td>17</td>\n",
       "      <td>Product_meerab-industries.com_September2020.json.gz</td>\n",
       "      <td>1</td>\n",
       "      <td>puma</td>\n",
       "    </tr>\n",
       "  </tbody>\n",
       "</table>\n",
       "</div>"
      ],
      "text/plain": [
       "          cluster_id  \\\n",
       "1126480     22374915   \n",
       "2128782     22374915   \n",
       "5574153     22374915   \n",
       "5848416     22374915   \n",
       "6191685     22374915   \n",
       "6994438     22374915   \n",
       "8350514     22374915   \n",
       "8765168     22374915   \n",
       "9447506     22374915   \n",
       "10271721    22374915   \n",
       "11773220    22374915   \n",
       "18679974    22374915   \n",
       "18961276    22374915   \n",
       "19633516    22374915   \n",
       "20513728    22374915   \n",
       "21016790    22374915   \n",
       "\n",
       "                                                                                            url  \\\n",
       "1126480   https://06.aplikasionlineshop.com/index.php/product/unero-military-classical-backpack   \n",
       "2128782                           https://pensalo.com/product/unero-military-classical-backpack   \n",
       "5574153                            https://nelau.com/?product=unero-military-classical-backpack   \n",
       "5848416                     https://pcmundo.com.mx/producto/panasonic-invertr-900l-refrigerator   \n",
       "6191685                            https://ebonth.com/product/unero-military-classical-backpack   \n",
       "6994438                      https://winnershopbd.com/product/unero-military-classical-backpack   \n",
       "8350514                       https://ikotaonline.com/product/unero-military-classical-backpack   \n",
       "8765168                        https://grixbase.com/product/graco-slim-snacker-high-chair-whisk   \n",
       "9447506                 https://www.digitalshopup.com/product/unero-military-classical-backpack   \n",
       "10271721                         https://ktrworld.com/product/unero-military-classical-backpack   \n",
       "11773220   https://aventuradiner.com/shop/international-foods/unero-military-classical-backpack   \n",
       "18679974  https://05.aplikasionlineshop.com/index.php/product/unero-military-classical-backpack   \n",
       "18961276                        https://apkgood.com/product/graco-slim-snacker-high-chair-whisk   \n",
       "19633516                          https://7bucket.com/product/unero-military-classical-backpack   \n",
       "20513728                     https://buttfittings.com/product/unero-military-classical-backpack   \n",
       "21016790                 https://meerab-industries.com/puma-polo-shirts-mens-clothing-wholesale   \n",
       "\n",
       "          row_id                                              table_id  Valid  \\\n",
       "1126480       14  Product_aplikasionlineshop.com_September2020.json.gz      1   \n",
       "2128782       16             Product_pensalo.com_September2020.json.gz      1   \n",
       "5574153       14               Product_nelau.com_September2020.json.gz      1   \n",
       "5848416       70          Product_pcmundo.com.mx_September2020.json.gz      1   \n",
       "6191685       24              Product_ebonth.com_September2020.json.gz      1   \n",
       "6994438       22        Product_winnershopbd.com_September2020.json.gz      1   \n",
       "8350514       15         Product_ikotaonline.com_September2020.json.gz      1   \n",
       "8765168       26            Product_grixbase.com_September2020.json.gz      1   \n",
       "9447506        6       Product_digitalshopup.com_September2020.json.gz      1   \n",
       "10271721      78            Product_ktrworld.com_September2020.json.gz      1   \n",
       "11773220      93       Product_aventuradiner.com_September2020.json.gz      1   \n",
       "18679974      47  Product_aplikasionlineshop.com_September2020.json.gz      1   \n",
       "18961276      25             Product_apkgood.com_September2020.json.gz      1   \n",
       "19633516      22             Product_7bucket.com_September2020.json.gz      1   \n",
       "20513728      19        Product_buttfittings.com_September2020.json.gz      1   \n",
       "21016790      17   Product_meerab-industries.com_September2020.json.gz      1   \n",
       "\n",
       "         brand  \n",
       "1126480   None  \n",
       "2128782   None  \n",
       "5574153   None  \n",
       "5848416   None  \n",
       "6191685   None  \n",
       "6994438   None  \n",
       "8350514   None  \n",
       "8765168   None  \n",
       "9447506   None  \n",
       "10271721  None  \n",
       "11773220  None  \n",
       "18679974  None  \n",
       "18961276  None  \n",
       "19633516  None  \n",
       "20513728  None  \n",
       "21016790  puma  "
      ]
     },
     "execution_count": 96,
     "metadata": {},
     "output_type": "execute_result"
    }
   ],
   "source": [
    "df_joined_clothes[(df_joined_clothes['cluster_id']==22374915)]"
   ]
  },
  {
   "cell_type": "code",
   "execution_count": 98,
   "metadata": {},
   "outputs": [
    {
     "data": {
      "text/html": [
       "<div>\n",
       "<style scoped>\n",
       "    .dataframe tbody tr th:only-of-type {\n",
       "        vertical-align: middle;\n",
       "    }\n",
       "\n",
       "    .dataframe tbody tr th {\n",
       "        vertical-align: top;\n",
       "    }\n",
       "\n",
       "    .dataframe thead th {\n",
       "        text-align: right;\n",
       "    }\n",
       "</style>\n",
       "<table border=\"1\" class=\"dataframe\">\n",
       "  <thead>\n",
       "    <tr style=\"text-align: right;\">\n",
       "      <th></th>\n",
       "      <th>cluster_id</th>\n",
       "      <th>url</th>\n",
       "      <th>row_id</th>\n",
       "      <th>table_id</th>\n",
       "      <th>Valid</th>\n",
       "    </tr>\n",
       "  </thead>\n",
       "  <tbody>\n",
       "    <tr>\n",
       "      <th>1126480</th>\n",
       "      <td>22374915</td>\n",
       "      <td>https://06.aplikasionlineshop.com/index.php/product/unero-military-classical-backpack</td>\n",
       "      <td>14</td>\n",
       "      <td>Product_aplikasionlineshop.com_September2020.json.gz</td>\n",
       "      <td>1</td>\n",
       "    </tr>\n",
       "    <tr>\n",
       "      <th>2128782</th>\n",
       "      <td>22374915</td>\n",
       "      <td>https://pensalo.com/product/unero-military-classical-backpack</td>\n",
       "      <td>16</td>\n",
       "      <td>Product_pensalo.com_September2020.json.gz</td>\n",
       "      <td>1</td>\n",
       "    </tr>\n",
       "    <tr>\n",
       "      <th>5574153</th>\n",
       "      <td>22374915</td>\n",
       "      <td>https://nelau.com/?product=unero-military-classical-backpack</td>\n",
       "      <td>14</td>\n",
       "      <td>Product_nelau.com_September2020.json.gz</td>\n",
       "      <td>1</td>\n",
       "    </tr>\n",
       "    <tr>\n",
       "      <th>5848416</th>\n",
       "      <td>22374915</td>\n",
       "      <td>https://pcmundo.com.mx/producto/panasonic-invertr-900l-refrigerator</td>\n",
       "      <td>70</td>\n",
       "      <td>Product_pcmundo.com.mx_September2020.json.gz</td>\n",
       "      <td>1</td>\n",
       "    </tr>\n",
       "    <tr>\n",
       "      <th>6191685</th>\n",
       "      <td>22374915</td>\n",
       "      <td>https://ebonth.com/product/unero-military-classical-backpack</td>\n",
       "      <td>24</td>\n",
       "      <td>Product_ebonth.com_September2020.json.gz</td>\n",
       "      <td>1</td>\n",
       "    </tr>\n",
       "    <tr>\n",
       "      <th>6994438</th>\n",
       "      <td>22374915</td>\n",
       "      <td>https://winnershopbd.com/product/unero-military-classical-backpack</td>\n",
       "      <td>22</td>\n",
       "      <td>Product_winnershopbd.com_September2020.json.gz</td>\n",
       "      <td>1</td>\n",
       "    </tr>\n",
       "    <tr>\n",
       "      <th>8350514</th>\n",
       "      <td>22374915</td>\n",
       "      <td>https://ikotaonline.com/product/unero-military-classical-backpack</td>\n",
       "      <td>15</td>\n",
       "      <td>Product_ikotaonline.com_September2020.json.gz</td>\n",
       "      <td>1</td>\n",
       "    </tr>\n",
       "    <tr>\n",
       "      <th>8765168</th>\n",
       "      <td>22374915</td>\n",
       "      <td>https://grixbase.com/product/graco-slim-snacker-high-chair-whisk</td>\n",
       "      <td>26</td>\n",
       "      <td>Product_grixbase.com_September2020.json.gz</td>\n",
       "      <td>1</td>\n",
       "    </tr>\n",
       "    <tr>\n",
       "      <th>9447506</th>\n",
       "      <td>22374915</td>\n",
       "      <td>https://www.digitalshopup.com/product/unero-military-classical-backpack</td>\n",
       "      <td>6</td>\n",
       "      <td>Product_digitalshopup.com_September2020.json.gz</td>\n",
       "      <td>1</td>\n",
       "    </tr>\n",
       "    <tr>\n",
       "      <th>10271721</th>\n",
       "      <td>22374915</td>\n",
       "      <td>https://ktrworld.com/product/unero-military-classical-backpack</td>\n",
       "      <td>78</td>\n",
       "      <td>Product_ktrworld.com_September2020.json.gz</td>\n",
       "      <td>1</td>\n",
       "    </tr>\n",
       "    <tr>\n",
       "      <th>11773220</th>\n",
       "      <td>22374915</td>\n",
       "      <td>https://aventuradiner.com/shop/international-foods/unero-military-classical-backpack</td>\n",
       "      <td>93</td>\n",
       "      <td>Product_aventuradiner.com_September2020.json.gz</td>\n",
       "      <td>1</td>\n",
       "    </tr>\n",
       "    <tr>\n",
       "      <th>18679974</th>\n",
       "      <td>22374915</td>\n",
       "      <td>https://05.aplikasionlineshop.com/index.php/product/unero-military-classical-backpack</td>\n",
       "      <td>47</td>\n",
       "      <td>Product_aplikasionlineshop.com_September2020.json.gz</td>\n",
       "      <td>1</td>\n",
       "    </tr>\n",
       "    <tr>\n",
       "      <th>18961276</th>\n",
       "      <td>22374915</td>\n",
       "      <td>https://apkgood.com/product/graco-slim-snacker-high-chair-whisk</td>\n",
       "      <td>25</td>\n",
       "      <td>Product_apkgood.com_September2020.json.gz</td>\n",
       "      <td>1</td>\n",
       "    </tr>\n",
       "    <tr>\n",
       "      <th>19633516</th>\n",
       "      <td>22374915</td>\n",
       "      <td>https://7bucket.com/product/unero-military-classical-backpack</td>\n",
       "      <td>22</td>\n",
       "      <td>Product_7bucket.com_September2020.json.gz</td>\n",
       "      <td>1</td>\n",
       "    </tr>\n",
       "    <tr>\n",
       "      <th>20513728</th>\n",
       "      <td>22374915</td>\n",
       "      <td>https://buttfittings.com/product/unero-military-classical-backpack</td>\n",
       "      <td>19</td>\n",
       "      <td>Product_buttfittings.com_September2020.json.gz</td>\n",
       "      <td>1</td>\n",
       "    </tr>\n",
       "    <tr>\n",
       "      <th>21016790</th>\n",
       "      <td>22374915</td>\n",
       "      <td>https://meerab-industries.com/puma-polo-shirts-mens-clothing-wholesale</td>\n",
       "      <td>17</td>\n",
       "      <td>Product_meerab-industries.com_September2020.json.gz</td>\n",
       "      <td>1</td>\n",
       "    </tr>\n",
       "  </tbody>\n",
       "</table>\n",
       "</div>"
      ],
      "text/plain": [
       "          cluster_id  \\\n",
       "1126480     22374915   \n",
       "2128782     22374915   \n",
       "5574153     22374915   \n",
       "5848416     22374915   \n",
       "6191685     22374915   \n",
       "6994438     22374915   \n",
       "8350514     22374915   \n",
       "8765168     22374915   \n",
       "9447506     22374915   \n",
       "10271721    22374915   \n",
       "11773220    22374915   \n",
       "18679974    22374915   \n",
       "18961276    22374915   \n",
       "19633516    22374915   \n",
       "20513728    22374915   \n",
       "21016790    22374915   \n",
       "\n",
       "                                                                                            url  \\\n",
       "1126480   https://06.aplikasionlineshop.com/index.php/product/unero-military-classical-backpack   \n",
       "2128782                           https://pensalo.com/product/unero-military-classical-backpack   \n",
       "5574153                            https://nelau.com/?product=unero-military-classical-backpack   \n",
       "5848416                     https://pcmundo.com.mx/producto/panasonic-invertr-900l-refrigerator   \n",
       "6191685                            https://ebonth.com/product/unero-military-classical-backpack   \n",
       "6994438                      https://winnershopbd.com/product/unero-military-classical-backpack   \n",
       "8350514                       https://ikotaonline.com/product/unero-military-classical-backpack   \n",
       "8765168                        https://grixbase.com/product/graco-slim-snacker-high-chair-whisk   \n",
       "9447506                 https://www.digitalshopup.com/product/unero-military-classical-backpack   \n",
       "10271721                         https://ktrworld.com/product/unero-military-classical-backpack   \n",
       "11773220   https://aventuradiner.com/shop/international-foods/unero-military-classical-backpack   \n",
       "18679974  https://05.aplikasionlineshop.com/index.php/product/unero-military-classical-backpack   \n",
       "18961276                        https://apkgood.com/product/graco-slim-snacker-high-chair-whisk   \n",
       "19633516                          https://7bucket.com/product/unero-military-classical-backpack   \n",
       "20513728                     https://buttfittings.com/product/unero-military-classical-backpack   \n",
       "21016790                 https://meerab-industries.com/puma-polo-shirts-mens-clothing-wholesale   \n",
       "\n",
       "          row_id                                              table_id  Valid  \n",
       "1126480       14  Product_aplikasionlineshop.com_September2020.json.gz      1  \n",
       "2128782       16             Product_pensalo.com_September2020.json.gz      1  \n",
       "5574153       14               Product_nelau.com_September2020.json.gz      1  \n",
       "5848416       70          Product_pcmundo.com.mx_September2020.json.gz      1  \n",
       "6191685       24              Product_ebonth.com_September2020.json.gz      1  \n",
       "6994438       22        Product_winnershopbd.com_September2020.json.gz      1  \n",
       "8350514       15         Product_ikotaonline.com_September2020.json.gz      1  \n",
       "8765168       26            Product_grixbase.com_September2020.json.gz      1  \n",
       "9447506        6       Product_digitalshopup.com_September2020.json.gz      1  \n",
       "10271721      78            Product_ktrworld.com_September2020.json.gz      1  \n",
       "11773220      93       Product_aventuradiner.com_September2020.json.gz      1  \n",
       "18679974      47  Product_aplikasionlineshop.com_September2020.json.gz      1  \n",
       "18961276      25             Product_apkgood.com_September2020.json.gz      1  \n",
       "19633516      22             Product_7bucket.com_September2020.json.gz      1  \n",
       "20513728      19        Product_buttfittings.com_September2020.json.gz      1  \n",
       "21016790      17   Product_meerab-industries.com_September2020.json.gz      1  "
      ]
     },
     "execution_count": 98,
     "metadata": {},
     "output_type": "execute_result"
    }
   ],
   "source": [
    "df_large[df_large['cluster_id']==22374915]"
   ]
  },
  {
   "cell_type": "markdown",
   "metadata": {},
   "source": [
    "## Get information about the cluster distribution per table to get a first glance at which tables for which clusters have an overlap to get good training data"
   ]
  },
  {
   "cell_type": "markdown",
   "metadata": {},
   "source": [
    "#### Have at first a look at electronic products"
   ]
  },
  {
   "cell_type": "code",
   "execution_count": 40,
   "metadata": {},
   "outputs": [
    {
     "data": {
      "text/html": [
       "<div>\n",
       "<style scoped>\n",
       "    .dataframe tbody tr th:only-of-type {\n",
       "        vertical-align: middle;\n",
       "    }\n",
       "\n",
       "    .dataframe tbody tr th {\n",
       "        vertical-align: top;\n",
       "    }\n",
       "\n",
       "    .dataframe thead th {\n",
       "        text-align: right;\n",
       "    }\n",
       "</style>\n",
       "<table border=\"1\" class=\"dataframe\">\n",
       "  <thead>\n",
       "    <tr style=\"text-align: right;\">\n",
       "      <th></th>\n",
       "      <th>cluster_id</th>\n",
       "      <th>url</th>\n",
       "      <th>row_id</th>\n",
       "      <th>table_id</th>\n",
       "      <th>Valid</th>\n",
       "      <th>brand</th>\n",
       "      <th>product_name</th>\n",
       "    </tr>\n",
       "  </thead>\n",
       "  <tbody>\n",
       "    <tr>\n",
       "      <th>0</th>\n",
       "      <td>59178314</td>\n",
       "      <td>https://www.cultureindoor.com/796-irrigation-arrosage-tuyau-pe-20mm-semi-rigide-rouleau-100m.html</td>\n",
       "      <td>1561</td>\n",
       "      <td>Product_cultureindoor.com_September2020.json.gz</td>\n",
       "      <td>1</td>\n",
       "      <td>None</td>\n",
       "      <td>796-irrigation-arrosage-tuyau-pe-20mm-semi-rigide-rouleau-100m.html</td>\n",
       "    </tr>\n",
       "    <tr>\n",
       "      <th>1</th>\n",
       "      <td>70692685</td>\n",
       "      <td>https://www.culturekings.com/products/new-era-new-era-new-orleans-pelicans-nba-940-a-frame-snapback-black</td>\n",
       "      <td>3893</td>\n",
       "      <td>Product_culturekings.com_September2020.json.gz</td>\n",
       "      <td>1</td>\n",
       "      <td>None</td>\n",
       "      <td>new-era-new-era-new-orleans-pelicans-nba-940-a-frame-snapback-black</td>\n",
       "    </tr>\n",
       "    <tr>\n",
       "      <th>2</th>\n",
       "      <td>395606</td>\n",
       "      <td>https://www.culturekings.com/products/new-era-x-nrl-west-tigers-aframe-charcoal-orange</td>\n",
       "      <td>3894</td>\n",
       "      <td>Product_culturekings.com_September2020.json.gz</td>\n",
       "      <td>1</td>\n",
       "      <td>None</td>\n",
       "      <td>new-era-x-nrl-west-tigers-aframe-charcoal-orange</td>\n",
       "    </tr>\n",
       "    <tr>\n",
       "      <th>3</th>\n",
       "      <td>3361797</td>\n",
       "      <td>https://www.customizedgirl.com/design/2605608/The+Real+Baseball+Moms</td>\n",
       "      <td>9318</td>\n",
       "      <td>Product_customizedgirl.com_September2020.json.gz</td>\n",
       "      <td>1</td>\n",
       "      <td>None</td>\n",
       "      <td>The+Real+Baseball+Moms</td>\n",
       "    </tr>\n",
       "    <tr>\n",
       "      <th>4</th>\n",
       "      <td>235755</td>\n",
       "      <td>https://www.customizedgirl.com/design/2613423/Mentally+Dating+Ronaldo</td>\n",
       "      <td>9319</td>\n",
       "      <td>Product_customizedgirl.com_September2020.json.gz</td>\n",
       "      <td>1</td>\n",
       "      <td>None</td>\n",
       "      <td>Mentally+Dating+Ronaldo</td>\n",
       "    </tr>\n",
       "    <tr>\n",
       "      <th>...</th>\n",
       "      <td>...</td>\n",
       "      <td>...</td>\n",
       "      <td>...</td>\n",
       "      <td>...</td>\n",
       "      <td>...</td>\n",
       "      <td>...</td>\n",
       "      <td>...</td>\n",
       "    </tr>\n",
       "    <tr>\n",
       "      <th>24687502</th>\n",
       "      <td>8653717</td>\n",
       "      <td>https://shop-list.com/women/utuwa-tatara/sg3232-03</td>\n",
       "      <td>1620</td>\n",
       "      <td>Product_shop-list.com_September2020.json.gz</td>\n",
       "      <td>1</td>\n",
       "      <td>None</td>\n",
       "      <td>sg3232-03</td>\n",
       "    </tr>\n",
       "    <tr>\n",
       "      <th>24687503</th>\n",
       "      <td>22258637</td>\n",
       "      <td>https://shop-list.com/women/youmotto/famille-ltm</td>\n",
       "      <td>1621</td>\n",
       "      <td>Product_shop-list.com_September2020.json.gz</td>\n",
       "      <td>1</td>\n",
       "      <td>None</td>\n",
       "      <td>famille-ltm</td>\n",
       "    </tr>\n",
       "    <tr>\n",
       "      <th>24687504</th>\n",
       "      <td>41434658</td>\n",
       "      <td>https://shop.agwaycapecod.com/products/019014710959/adult-small-breed-dog-food-5-lb</td>\n",
       "      <td>126</td>\n",
       "      <td>Product_agwaycapecod.com_September2020.json.gz</td>\n",
       "      <td>1</td>\n",
       "      <td>None</td>\n",
       "      <td>adult-small-breed-dog-food-5-lb</td>\n",
       "    </tr>\n",
       "    <tr>\n",
       "      <th>24687505</th>\n",
       "      <td>62702145</td>\n",
       "      <td>https://shop.agwaycapecod.com/products/037321455042/ant-killer-dust-3-lbs</td>\n",
       "      <td>127</td>\n",
       "      <td>Product_agwaycapecod.com_September2020.json.gz</td>\n",
       "      <td>1</td>\n",
       "      <td>None</td>\n",
       "      <td>ant-killer-dust-3-lbs</td>\n",
       "    </tr>\n",
       "    <tr>\n",
       "      <th>24687506</th>\n",
       "      <td>60936713</td>\n",
       "      <td>https://shop.areefcreation.com/products/ls-apr-344b</td>\n",
       "      <td>120</td>\n",
       "      <td>Product_areefcreation.com_September2020.json.gz</td>\n",
       "      <td>1</td>\n",
       "      <td>None</td>\n",
       "      <td>ls-apr-344b</td>\n",
       "    </tr>\n",
       "  </tbody>\n",
       "</table>\n",
       "<p>24687507 rows × 7 columns</p>\n",
       "</div>"
      ],
      "text/plain": [
       "          cluster_id  \\\n",
       "0           59178314   \n",
       "1           70692685   \n",
       "2             395606   \n",
       "3            3361797   \n",
       "4             235755   \n",
       "...              ...   \n",
       "24687502     8653717   \n",
       "24687503    22258637   \n",
       "24687504    41434658   \n",
       "24687505    62702145   \n",
       "24687506    60936713   \n",
       "\n",
       "                                                                                                                url  \\\n",
       "0                 https://www.cultureindoor.com/796-irrigation-arrosage-tuyau-pe-20mm-semi-rigide-rouleau-100m.html   \n",
       "1         https://www.culturekings.com/products/new-era-new-era-new-orleans-pelicans-nba-940-a-frame-snapback-black   \n",
       "2                            https://www.culturekings.com/products/new-era-x-nrl-west-tigers-aframe-charcoal-orange   \n",
       "3                                              https://www.customizedgirl.com/design/2605608/The+Real+Baseball+Moms   \n",
       "4                                             https://www.customizedgirl.com/design/2613423/Mentally+Dating+Ronaldo   \n",
       "...                                                                                                             ...   \n",
       "24687502                                                         https://shop-list.com/women/utuwa-tatara/sg3232-03   \n",
       "24687503                                                           https://shop-list.com/women/youmotto/famille-ltm   \n",
       "24687504                        https://shop.agwaycapecod.com/products/019014710959/adult-small-breed-dog-food-5-lb   \n",
       "24687505                                  https://shop.agwaycapecod.com/products/037321455042/ant-killer-dust-3-lbs   \n",
       "24687506                                                        https://shop.areefcreation.com/products/ls-apr-344b   \n",
       "\n",
       "          row_id                                          table_id  Valid  \\\n",
       "0           1561   Product_cultureindoor.com_September2020.json.gz      1   \n",
       "1           3893    Product_culturekings.com_September2020.json.gz      1   \n",
       "2           3894    Product_culturekings.com_September2020.json.gz      1   \n",
       "3           9318  Product_customizedgirl.com_September2020.json.gz      1   \n",
       "4           9319  Product_customizedgirl.com_September2020.json.gz      1   \n",
       "...          ...                                               ...    ...   \n",
       "24687502    1620       Product_shop-list.com_September2020.json.gz      1   \n",
       "24687503    1621       Product_shop-list.com_September2020.json.gz      1   \n",
       "24687504     126    Product_agwaycapecod.com_September2020.json.gz      1   \n",
       "24687505     127    Product_agwaycapecod.com_September2020.json.gz      1   \n",
       "24687506     120   Product_areefcreation.com_September2020.json.gz      1   \n",
       "\n",
       "         brand  \\\n",
       "0         None   \n",
       "1         None   \n",
       "2         None   \n",
       "3         None   \n",
       "4         None   \n",
       "...        ...   \n",
       "24687502  None   \n",
       "24687503  None   \n",
       "24687504  None   \n",
       "24687505  None   \n",
       "24687506  None   \n",
       "\n",
       "                                                                 product_name  \n",
       "0         796-irrigation-arrosage-tuyau-pe-20mm-semi-rigide-rouleau-100m.html  \n",
       "1         new-era-new-era-new-orleans-pelicans-nba-940-a-frame-snapback-black  \n",
       "2                            new-era-x-nrl-west-tigers-aframe-charcoal-orange  \n",
       "3                                                      The+Real+Baseball+Moms  \n",
       "4                                                     Mentally+Dating+Ronaldo  \n",
       "...                                                                       ...  \n",
       "24687502                                                            sg3232-03  \n",
       "24687503                                                          famille-ltm  \n",
       "24687504                                      adult-small-breed-dog-food-5-lb  \n",
       "24687505                                                ant-killer-dust-3-lbs  \n",
       "24687506                                                          ls-apr-344b  \n",
       "\n",
       "[24687507 rows x 7 columns]"
      ]
     },
     "execution_count": 40,
     "metadata": {},
     "output_type": "execute_result"
    }
   ],
   "source": [
    "df_joined_electronics"
   ]
  },
  {
   "cell_type": "code",
   "execution_count": 41,
   "metadata": {},
   "outputs": [],
   "source": [
    "df_grouped_electronics_tables = df_joined_electronics.groupby('table_id').count()"
   ]
  },
  {
   "cell_type": "code",
   "execution_count": 42,
   "metadata": {},
   "outputs": [],
   "source": [
    "# only look at clusters that have at least one brand associated\n",
    "df_set_electronics_tables = df_grouped_electronics_tables[df_grouped_electronics_tables['brand']>0].reset_index()[['cluster_id','table_id']].rename(columns={'cluster_id':'Amount'})"
   ]
  },
  {
   "cell_type": "code",
   "execution_count": 43,
   "metadata": {},
   "outputs": [
    {
     "data": {
      "text/html": [
       "<div>\n",
       "<style scoped>\n",
       "    .dataframe tbody tr th:only-of-type {\n",
       "        vertical-align: middle;\n",
       "    }\n",
       "\n",
       "    .dataframe tbody tr th {\n",
       "        vertical-align: top;\n",
       "    }\n",
       "\n",
       "    .dataframe thead th {\n",
       "        text-align: right;\n",
       "    }\n",
       "</style>\n",
       "<table border=\"1\" class=\"dataframe\">\n",
       "  <thead>\n",
       "    <tr style=\"text-align: right;\">\n",
       "      <th></th>\n",
       "      <th>Amount</th>\n",
       "      <th>table_id</th>\n",
       "    </tr>\n",
       "  </thead>\n",
       "  <tbody>\n",
       "    <tr>\n",
       "      <th>0</th>\n",
       "      <td>30</td>\n",
       "      <td>Product_07magaza.com_September2020.json.gz</td>\n",
       "    </tr>\n",
       "    <tr>\n",
       "      <th>1</th>\n",
       "      <td>847</td>\n",
       "      <td>Product_07mua.com_September2020.json.gz</td>\n",
       "    </tr>\n",
       "    <tr>\n",
       "      <th>2</th>\n",
       "      <td>53</td>\n",
       "      <td>Product_100outlets.com_September2020.json.gz</td>\n",
       "    </tr>\n",
       "    <tr>\n",
       "      <th>3</th>\n",
       "      <td>127</td>\n",
       "      <td>Product_101farmacias.com_September2020.json.gz</td>\n",
       "    </tr>\n",
       "    <tr>\n",
       "      <th>4</th>\n",
       "      <td>50</td>\n",
       "      <td>Product_10ngah.com_September2020.json.gz</td>\n",
       "    </tr>\n",
       "    <tr>\n",
       "      <th>...</th>\n",
       "      <td>...</td>\n",
       "      <td>...</td>\n",
       "    </tr>\n",
       "    <tr>\n",
       "      <th>3856</th>\n",
       "      <td>8251</td>\n",
       "      <td>Product_zoro.com_September2020.json.gz</td>\n",
       "    </tr>\n",
       "    <tr>\n",
       "      <th>3857</th>\n",
       "      <td>607</td>\n",
       "      <td>Product_zotim.com.au_September2020.json.gz</td>\n",
       "    </tr>\n",
       "    <tr>\n",
       "      <th>3858</th>\n",
       "      <td>261</td>\n",
       "      <td>Product_zpcinformatica.com_September2020.json.gz</td>\n",
       "    </tr>\n",
       "    <tr>\n",
       "      <th>3859</th>\n",
       "      <td>30</td>\n",
       "      <td>Product_zsyst.com_September2020.json.gz</td>\n",
       "    </tr>\n",
       "    <tr>\n",
       "      <th>3860</th>\n",
       "      <td>2517</td>\n",
       "      <td>Product_zzounds.com_September2020.json.gz</td>\n",
       "    </tr>\n",
       "  </tbody>\n",
       "</table>\n",
       "<p>3861 rows × 2 columns</p>\n",
       "</div>"
      ],
      "text/plain": [
       "      Amount                                          table_id\n",
       "0         30        Product_07magaza.com_September2020.json.gz\n",
       "1        847           Product_07mua.com_September2020.json.gz\n",
       "2         53      Product_100outlets.com_September2020.json.gz\n",
       "3        127    Product_101farmacias.com_September2020.json.gz\n",
       "4         50          Product_10ngah.com_September2020.json.gz\n",
       "...      ...                                               ...\n",
       "3856    8251            Product_zoro.com_September2020.json.gz\n",
       "3857     607        Product_zotim.com.au_September2020.json.gz\n",
       "3858     261  Product_zpcinformatica.com_September2020.json.gz\n",
       "3859      30           Product_zsyst.com_September2020.json.gz\n",
       "3860    2517         Product_zzounds.com_September2020.json.gz\n",
       "\n",
       "[3861 rows x 2 columns]"
      ]
     },
     "execution_count": 43,
     "metadata": {},
     "output_type": "execute_result"
    }
   ],
   "source": [
    "df_set_electronics_tables"
   ]
  },
  {
   "cell_type": "code",
   "execution_count": 44,
   "metadata": {},
   "outputs": [
    {
     "data": {
      "text/html": [
       "<div>\n",
       "<style scoped>\n",
       "    .dataframe tbody tr th:only-of-type {\n",
       "        vertical-align: middle;\n",
       "    }\n",
       "\n",
       "    .dataframe tbody tr th {\n",
       "        vertical-align: top;\n",
       "    }\n",
       "\n",
       "    .dataframe thead th {\n",
       "        text-align: right;\n",
       "    }\n",
       "</style>\n",
       "<table border=\"1\" class=\"dataframe\">\n",
       "  <thead>\n",
       "    <tr style=\"text-align: right;\">\n",
       "      <th></th>\n",
       "      <th>count</th>\n",
       "      <th>mean</th>\n",
       "      <th>std</th>\n",
       "      <th>min</th>\n",
       "      <th>25%</th>\n",
       "      <th>50%</th>\n",
       "      <th>75%</th>\n",
       "      <th>max</th>\n",
       "    </tr>\n",
       "  </thead>\n",
       "  <tbody>\n",
       "    <tr>\n",
       "      <th>Amount</th>\n",
       "      <td>3861.0</td>\n",
       "      <td>537.0</td>\n",
       "      <td>1240.0</td>\n",
       "      <td>1.0</td>\n",
       "      <td>34.0</td>\n",
       "      <td>137.0</td>\n",
       "      <td>546.0</td>\n",
       "      <td>16287.0</td>\n",
       "    </tr>\n",
       "  </tbody>\n",
       "</table>\n",
       "</div>"
      ],
      "text/plain": [
       "         count   mean     std  min   25%    50%    75%      max\n",
       "Amount  3861.0  537.0  1240.0  1.0  34.0  137.0  546.0  16287.0"
      ]
     },
     "execution_count": 44,
     "metadata": {},
     "output_type": "execute_result"
    }
   ],
   "source": [
    "df_set_electronics_tables.set_index('table_id').describe().T.round()"
   ]
  },
  {
   "cell_type": "code",
   "execution_count": 45,
   "metadata": {},
   "outputs": [
    {
     "data": {
      "text/html": [
       "<div>\n",
       "<style scoped>\n",
       "    .dataframe tbody tr th:only-of-type {\n",
       "        vertical-align: middle;\n",
       "    }\n",
       "\n",
       "    .dataframe tbody tr th {\n",
       "        vertical-align: top;\n",
       "    }\n",
       "\n",
       "    .dataframe thead th {\n",
       "        text-align: right;\n",
       "    }\n",
       "</style>\n",
       "<table border=\"1\" class=\"dataframe\">\n",
       "  <thead>\n",
       "    <tr style=\"text-align: right;\">\n",
       "      <th></th>\n",
       "      <th>Amount</th>\n",
       "      <th>table_id</th>\n",
       "    </tr>\n",
       "  </thead>\n",
       "  <tbody>\n",
       "    <tr>\n",
       "      <th>1</th>\n",
       "      <td>847</td>\n",
       "      <td>Product_07mua.com_September2020.json.gz</td>\n",
       "    </tr>\n",
       "    <tr>\n",
       "      <th>3</th>\n",
       "      <td>127</td>\n",
       "      <td>Product_101farmacias.com_September2020.json.gz</td>\n",
       "    </tr>\n",
       "    <tr>\n",
       "      <th>5</th>\n",
       "      <td>982</td>\n",
       "      <td>Product_110220volts.com_September2020.json.gz</td>\n",
       "    </tr>\n",
       "    <tr>\n",
       "      <th>6</th>\n",
       "      <td>202</td>\n",
       "      <td>Product_1234oo7.com_September2020.json.gz</td>\n",
       "    </tr>\n",
       "    <tr>\n",
       "      <th>7</th>\n",
       "      <td>161</td>\n",
       "      <td>Product_123disposables.com_September2020.json.gz</td>\n",
       "    </tr>\n",
       "    <tr>\n",
       "      <th>...</th>\n",
       "      <td>...</td>\n",
       "      <td>...</td>\n",
       "    </tr>\n",
       "    <tr>\n",
       "      <th>3855</th>\n",
       "      <td>712</td>\n",
       "      <td>Product_zooscape.com_September2020.json.gz</td>\n",
       "    </tr>\n",
       "    <tr>\n",
       "      <th>3856</th>\n",
       "      <td>8251</td>\n",
       "      <td>Product_zoro.com_September2020.json.gz</td>\n",
       "    </tr>\n",
       "    <tr>\n",
       "      <th>3857</th>\n",
       "      <td>607</td>\n",
       "      <td>Product_zotim.com.au_September2020.json.gz</td>\n",
       "    </tr>\n",
       "    <tr>\n",
       "      <th>3858</th>\n",
       "      <td>261</td>\n",
       "      <td>Product_zpcinformatica.com_September2020.json.gz</td>\n",
       "    </tr>\n",
       "    <tr>\n",
       "      <th>3860</th>\n",
       "      <td>2517</td>\n",
       "      <td>Product_zzounds.com_September2020.json.gz</td>\n",
       "    </tr>\n",
       "  </tbody>\n",
       "</table>\n",
       "<p>2332 rows × 2 columns</p>\n",
       "</div>"
      ],
      "text/plain": [
       "      Amount                                          table_id\n",
       "1        847           Product_07mua.com_September2020.json.gz\n",
       "3        127    Product_101farmacias.com_September2020.json.gz\n",
       "5        982     Product_110220volts.com_September2020.json.gz\n",
       "6        202         Product_1234oo7.com_September2020.json.gz\n",
       "7        161  Product_123disposables.com_September2020.json.gz\n",
       "...      ...                                               ...\n",
       "3855     712        Product_zooscape.com_September2020.json.gz\n",
       "3856    8251            Product_zoro.com_September2020.json.gz\n",
       "3857     607        Product_zotim.com.au_September2020.json.gz\n",
       "3858     261  Product_zpcinformatica.com_September2020.json.gz\n",
       "3860    2517         Product_zzounds.com_September2020.json.gz\n",
       "\n",
       "[2332 rows x 2 columns]"
      ]
     },
     "execution_count": 45,
     "metadata": {},
     "output_type": "execute_result"
    }
   ],
   "source": [
    "df_75_electronics_tables=df_set_electronics_tables[df_set_electronics_tables['Amount']>75]\n",
    "df_75_electronics_tables"
   ]
  },
  {
   "cell_type": "code",
   "execution_count": 46,
   "metadata": {},
   "outputs": [
    {
     "data": {
      "text/html": [
       "<div>\n",
       "<style scoped>\n",
       "    .dataframe tbody tr th:only-of-type {\n",
       "        vertical-align: middle;\n",
       "    }\n",
       "\n",
       "    .dataframe tbody tr th {\n",
       "        vertical-align: top;\n",
       "    }\n",
       "\n",
       "    .dataframe thead th {\n",
       "        text-align: right;\n",
       "    }\n",
       "</style>\n",
       "<table border=\"1\" class=\"dataframe\">\n",
       "  <thead>\n",
       "    <tr style=\"text-align: right;\">\n",
       "      <th></th>\n",
       "      <th>count</th>\n",
       "      <th>mean</th>\n",
       "      <th>std</th>\n",
       "      <th>min</th>\n",
       "      <th>25%</th>\n",
       "      <th>50%</th>\n",
       "      <th>75%</th>\n",
       "      <th>max</th>\n",
       "    </tr>\n",
       "  </thead>\n",
       "  <tbody>\n",
       "    <tr>\n",
       "      <th>Amount</th>\n",
       "      <td>2332.0</td>\n",
       "      <td>869.0</td>\n",
       "      <td>1505.0</td>\n",
       "      <td>76.0</td>\n",
       "      <td>181.0</td>\n",
       "      <td>414.0</td>\n",
       "      <td>889.0</td>\n",
       "      <td>16287.0</td>\n",
       "    </tr>\n",
       "  </tbody>\n",
       "</table>\n",
       "</div>"
      ],
      "text/plain": [
       "         count   mean     std   min    25%    50%    75%      max\n",
       "Amount  2332.0  869.0  1505.0  76.0  181.0  414.0  889.0  16287.0"
      ]
     },
     "execution_count": 46,
     "metadata": {},
     "output_type": "execute_result"
    }
   ],
   "source": [
    "df_75_electronics_tables.set_index('table_id').describe().T.round()"
   ]
  },
  {
   "cell_type": "code",
   "execution_count": 47,
   "metadata": {
    "scrolled": true
   },
   "outputs": [
    {
     "data": {
      "text/plain": [
       "<AxesSubplot:ylabel='Frequency'>"
      ]
     },
     "execution_count": 47,
     "metadata": {},
     "output_type": "execute_result"
    },
    {
     "data": {
      "image/png": "[encoded data removed]",
      "text/plain": [
       "<Figure size 432x288 with 1 Axes>"
      ]
     },
     "metadata": {
      "needs_background": "light"
     },
     "output_type": "display_data"
    }
   ],
   "source": [
    "df_75_electronics_tables.plot(x='table_id',y='Amount',kind='hist')"
   ]
  },
  {
   "cell_type": "code",
   "execution_count": 48,
   "metadata": {},
   "outputs": [
    {
     "data": {
      "text/html": [
       "<div>\n",
       "<style scoped>\n",
       "    .dataframe tbody tr th:only-of-type {\n",
       "        vertical-align: middle;\n",
       "    }\n",
       "\n",
       "    .dataframe tbody tr th {\n",
       "        vertical-align: top;\n",
       "    }\n",
       "\n",
       "    .dataframe thead th {\n",
       "        text-align: right;\n",
       "    }\n",
       "</style>\n",
       "<table border=\"1\" class=\"dataframe\">\n",
       "  <thead>\n",
       "    <tr style=\"text-align: right;\">\n",
       "      <th></th>\n",
       "      <th>Amount</th>\n",
       "      <th>table_id</th>\n",
       "    </tr>\n",
       "  </thead>\n",
       "  <tbody>\n",
       "    <tr>\n",
       "      <th>1</th>\n",
       "      <td>847</td>\n",
       "      <td>Product_07mua.com_September2020.json.gz</td>\n",
       "    </tr>\n",
       "    <tr>\n",
       "      <th>5</th>\n",
       "      <td>982</td>\n",
       "      <td>Product_110220volts.com_September2020.json.gz</td>\n",
       "    </tr>\n",
       "    <tr>\n",
       "      <th>6</th>\n",
       "      <td>202</td>\n",
       "      <td>Product_1234oo7.com_September2020.json.gz</td>\n",
       "    </tr>\n",
       "    <tr>\n",
       "      <th>7</th>\n",
       "      <td>161</td>\n",
       "      <td>Product_123disposables.com_September2020.json.gz</td>\n",
       "    </tr>\n",
       "    <tr>\n",
       "      <th>8</th>\n",
       "      <td>397</td>\n",
       "      <td>Product_123securityproducts.com_September2020.json.gz</td>\n",
       "    </tr>\n",
       "    <tr>\n",
       "      <th>...</th>\n",
       "      <td>...</td>\n",
       "      <td>...</td>\n",
       "    </tr>\n",
       "    <tr>\n",
       "      <th>3855</th>\n",
       "      <td>712</td>\n",
       "      <td>Product_zooscape.com_September2020.json.gz</td>\n",
       "    </tr>\n",
       "    <tr>\n",
       "      <th>3856</th>\n",
       "      <td>8251</td>\n",
       "      <td>Product_zoro.com_September2020.json.gz</td>\n",
       "    </tr>\n",
       "    <tr>\n",
       "      <th>3857</th>\n",
       "      <td>607</td>\n",
       "      <td>Product_zotim.com.au_September2020.json.gz</td>\n",
       "    </tr>\n",
       "    <tr>\n",
       "      <th>3858</th>\n",
       "      <td>261</td>\n",
       "      <td>Product_zpcinformatica.com_September2020.json.gz</td>\n",
       "    </tr>\n",
       "    <tr>\n",
       "      <th>3860</th>\n",
       "      <td>2517</td>\n",
       "      <td>Product_zzounds.com_September2020.json.gz</td>\n",
       "    </tr>\n",
       "  </tbody>\n",
       "</table>\n",
       "<p>1881 rows × 2 columns</p>\n",
       "</div>"
      ],
      "text/plain": [
       "      Amount                                               table_id\n",
       "1        847                Product_07mua.com_September2020.json.gz\n",
       "5        982          Product_110220volts.com_September2020.json.gz\n",
       "6        202              Product_1234oo7.com_September2020.json.gz\n",
       "7        161       Product_123disposables.com_September2020.json.gz\n",
       "8        397  Product_123securityproducts.com_September2020.json.gz\n",
       "...      ...                                                    ...\n",
       "3855     712             Product_zooscape.com_September2020.json.gz\n",
       "3856    8251                 Product_zoro.com_September2020.json.gz\n",
       "3857     607             Product_zotim.com.au_September2020.json.gz\n",
       "3858     261       Product_zpcinformatica.com_September2020.json.gz\n",
       "3860    2517              Product_zzounds.com_September2020.json.gz\n",
       "\n",
       "[1881 rows x 2 columns]"
      ]
     },
     "execution_count": 48,
     "metadata": {},
     "output_type": "execute_result"
    }
   ],
   "source": [
    "df_150_electronics_tables=df_set_electronics_tables[df_set_electronics_tables['Amount']>150]\n",
    "df_150_electronics_tables"
   ]
  },
  {
   "cell_type": "code",
   "execution_count": 49,
   "metadata": {},
   "outputs": [
    {
     "data": {
      "text/html": [
       "<div>\n",
       "<style scoped>\n",
       "    .dataframe tbody tr th:only-of-type {\n",
       "        vertical-align: middle;\n",
       "    }\n",
       "\n",
       "    .dataframe tbody tr th {\n",
       "        vertical-align: top;\n",
       "    }\n",
       "\n",
       "    .dataframe thead th {\n",
       "        text-align: right;\n",
       "    }\n",
       "</style>\n",
       "<table border=\"1\" class=\"dataframe\">\n",
       "  <thead>\n",
       "    <tr style=\"text-align: right;\">\n",
       "      <th></th>\n",
       "      <th>count</th>\n",
       "      <th>mean</th>\n",
       "      <th>std</th>\n",
       "      <th>min</th>\n",
       "      <th>25%</th>\n",
       "      <th>50%</th>\n",
       "      <th>75%</th>\n",
       "      <th>max</th>\n",
       "    </tr>\n",
       "  </thead>\n",
       "  <tbody>\n",
       "    <tr>\n",
       "      <th>Amount</th>\n",
       "      <td>1881.0</td>\n",
       "      <td>1052.0</td>\n",
       "      <td>1624.0</td>\n",
       "      <td>151.0</td>\n",
       "      <td>309.0</td>\n",
       "      <td>567.0</td>\n",
       "      <td>982.0</td>\n",
       "      <td>16287.0</td>\n",
       "    </tr>\n",
       "  </tbody>\n",
       "</table>\n",
       "</div>"
      ],
      "text/plain": [
       "         count    mean     std    min    25%    50%    75%      max\n",
       "Amount  1881.0  1052.0  1624.0  151.0  309.0  567.0  982.0  16287.0"
      ]
     },
     "execution_count": 49,
     "metadata": {},
     "output_type": "execute_result"
    }
   ],
   "source": [
    "df_150_electronics_tables.set_index('table_id').describe().T.round()"
   ]
  },
  {
   "cell_type": "code",
   "execution_count": 50,
   "metadata": {
    "scrolled": true
   },
   "outputs": [
    {
     "data": {
      "text/plain": [
       "<AxesSubplot:ylabel='Frequency'>"
      ]
     },
     "execution_count": 50,
     "metadata": {},
     "output_type": "execute_result"
    },
    {
     "data": {
      "image/png": "[encoded data removed]",
      "text/plain": [
       "<Figure size 432x288 with 1 Axes>"
      ]
     },
     "metadata": {
      "needs_background": "light"
     },
     "output_type": "display_data"
    }
   ],
   "source": [
    "df_150_electronics_tables.plot(x='table_id',y='Amount',kind='hist')"
   ]
  },
  {
   "cell_type": "markdown",
   "metadata": {},
   "source": [
    "#### Have a look at clothes"
   ]
  },
  {
   "cell_type": "code",
   "execution_count": 51,
   "metadata": {},
   "outputs": [
    {
     "data": {
      "text/html": [
       "<div>\n",
       "<style scoped>\n",
       "    .dataframe tbody tr th:only-of-type {\n",
       "        vertical-align: middle;\n",
       "    }\n",
       "\n",
       "    .dataframe tbody tr th {\n",
       "        vertical-align: top;\n",
       "    }\n",
       "\n",
       "    .dataframe thead th {\n",
       "        text-align: right;\n",
       "    }\n",
       "</style>\n",
       "<table border=\"1\" class=\"dataframe\">\n",
       "  <thead>\n",
       "    <tr style=\"text-align: right;\">\n",
       "      <th></th>\n",
       "      <th>cluster_id</th>\n",
       "      <th>url</th>\n",
       "      <th>row_id</th>\n",
       "      <th>table_id</th>\n",
       "      <th>Valid</th>\n",
       "      <th>brand</th>\n",
       "    </tr>\n",
       "  </thead>\n",
       "  <tbody>\n",
       "    <tr>\n",
       "      <th>0</th>\n",
       "      <td>59178314</td>\n",
       "      <td>https://www.cultureindoor.com/796-irrigation-arrosage-tuyau-pe-20mm-semi-rigide-rouleau-100m.html</td>\n",
       "      <td>1561</td>\n",
       "      <td>Product_cultureindoor.com_September2020.json.gz</td>\n",
       "      <td>1</td>\n",
       "      <td>None</td>\n",
       "    </tr>\n",
       "    <tr>\n",
       "      <th>1</th>\n",
       "      <td>70692685</td>\n",
       "      <td>https://www.culturekings.com/products/new-era-new-era-new-orleans-pelicans-nba-940-a-frame-snapback-black</td>\n",
       "      <td>3893</td>\n",
       "      <td>Product_culturekings.com_September2020.json.gz</td>\n",
       "      <td>1</td>\n",
       "      <td>None</td>\n",
       "    </tr>\n",
       "    <tr>\n",
       "      <th>2</th>\n",
       "      <td>395606</td>\n",
       "      <td>https://www.culturekings.com/products/new-era-x-nrl-west-tigers-aframe-charcoal-orange</td>\n",
       "      <td>3894</td>\n",
       "      <td>Product_culturekings.com_September2020.json.gz</td>\n",
       "      <td>1</td>\n",
       "      <td>None</td>\n",
       "    </tr>\n",
       "    <tr>\n",
       "      <th>3</th>\n",
       "      <td>3361797</td>\n",
       "      <td>https://www.customizedgirl.com/design/2605608/The+Real+Baseball+Moms</td>\n",
       "      <td>9318</td>\n",
       "      <td>Product_customizedgirl.com_September2020.json.gz</td>\n",
       "      <td>1</td>\n",
       "      <td>None</td>\n",
       "    </tr>\n",
       "    <tr>\n",
       "      <th>4</th>\n",
       "      <td>235755</td>\n",
       "      <td>https://www.customizedgirl.com/design/2613423/Mentally+Dating+Ronaldo</td>\n",
       "      <td>9319</td>\n",
       "      <td>Product_customizedgirl.com_September2020.json.gz</td>\n",
       "      <td>1</td>\n",
       "      <td>None</td>\n",
       "    </tr>\n",
       "    <tr>\n",
       "      <th>...</th>\n",
       "      <td>...</td>\n",
       "      <td>...</td>\n",
       "      <td>...</td>\n",
       "      <td>...</td>\n",
       "      <td>...</td>\n",
       "      <td>...</td>\n",
       "    </tr>\n",
       "    <tr>\n",
       "      <th>24687502</th>\n",
       "      <td>8653717</td>\n",
       "      <td>https://shop-list.com/women/utuwa-tatara/sg3232-03</td>\n",
       "      <td>1620</td>\n",
       "      <td>Product_shop-list.com_September2020.json.gz</td>\n",
       "      <td>1</td>\n",
       "      <td>None</td>\n",
       "    </tr>\n",
       "    <tr>\n",
       "      <th>24687503</th>\n",
       "      <td>22258637</td>\n",
       "      <td>https://shop-list.com/women/youmotto/famille-ltm</td>\n",
       "      <td>1621</td>\n",
       "      <td>Product_shop-list.com_September2020.json.gz</td>\n",
       "      <td>1</td>\n",
       "      <td>None</td>\n",
       "    </tr>\n",
       "    <tr>\n",
       "      <th>24687504</th>\n",
       "      <td>41434658</td>\n",
       "      <td>https://shop.agwaycapecod.com/products/019014710959/adult-small-breed-dog-food-5-lb</td>\n",
       "      <td>126</td>\n",
       "      <td>Product_agwaycapecod.com_September2020.json.gz</td>\n",
       "      <td>1</td>\n",
       "      <td>None</td>\n",
       "    </tr>\n",
       "    <tr>\n",
       "      <th>24687505</th>\n",
       "      <td>62702145</td>\n",
       "      <td>https://shop.agwaycapecod.com/products/037321455042/ant-killer-dust-3-lbs</td>\n",
       "      <td>127</td>\n",
       "      <td>Product_agwaycapecod.com_September2020.json.gz</td>\n",
       "      <td>1</td>\n",
       "      <td>None</td>\n",
       "    </tr>\n",
       "    <tr>\n",
       "      <th>24687506</th>\n",
       "      <td>60936713</td>\n",
       "      <td>https://shop.areefcreation.com/products/ls-apr-344b</td>\n",
       "      <td>120</td>\n",
       "      <td>Product_areefcreation.com_September2020.json.gz</td>\n",
       "      <td>1</td>\n",
       "      <td>None</td>\n",
       "    </tr>\n",
       "  </tbody>\n",
       "</table>\n",
       "<p>24687507 rows × 6 columns</p>\n",
       "</div>"
      ],
      "text/plain": [
       "          cluster_id  \\\n",
       "0           59178314   \n",
       "1           70692685   \n",
       "2             395606   \n",
       "3            3361797   \n",
       "4             235755   \n",
       "...              ...   \n",
       "24687502     8653717   \n",
       "24687503    22258637   \n",
       "24687504    41434658   \n",
       "24687505    62702145   \n",
       "24687506    60936713   \n",
       "\n",
       "                                                                                                                url  \\\n",
       "0                 https://www.cultureindoor.com/796-irrigation-arrosage-tuyau-pe-20mm-semi-rigide-rouleau-100m.html   \n",
       "1         https://www.culturekings.com/products/new-era-new-era-new-orleans-pelicans-nba-940-a-frame-snapback-black   \n",
       "2                            https://www.culturekings.com/products/new-era-x-nrl-west-tigers-aframe-charcoal-orange   \n",
       "3                                              https://www.customizedgirl.com/design/2605608/The+Real+Baseball+Moms   \n",
       "4                                             https://www.customizedgirl.com/design/2613423/Mentally+Dating+Ronaldo   \n",
       "...                                                                                                             ...   \n",
       "24687502                                                         https://shop-list.com/women/utuwa-tatara/sg3232-03   \n",
       "24687503                                                           https://shop-list.com/women/youmotto/famille-ltm   \n",
       "24687504                        https://shop.agwaycapecod.com/products/019014710959/adult-small-breed-dog-food-5-lb   \n",
       "24687505                                  https://shop.agwaycapecod.com/products/037321455042/ant-killer-dust-3-lbs   \n",
       "24687506                                                        https://shop.areefcreation.com/products/ls-apr-344b   \n",
       "\n",
       "          row_id                                          table_id  Valid  \\\n",
       "0           1561   Product_cultureindoor.com_September2020.json.gz      1   \n",
       "1           3893    Product_culturekings.com_September2020.json.gz      1   \n",
       "2           3894    Product_culturekings.com_September2020.json.gz      1   \n",
       "3           9318  Product_customizedgirl.com_September2020.json.gz      1   \n",
       "4           9319  Product_customizedgirl.com_September2020.json.gz      1   \n",
       "...          ...                                               ...    ...   \n",
       "24687502    1620       Product_shop-list.com_September2020.json.gz      1   \n",
       "24687503    1621       Product_shop-list.com_September2020.json.gz      1   \n",
       "24687504     126    Product_agwaycapecod.com_September2020.json.gz      1   \n",
       "24687505     127    Product_agwaycapecod.com_September2020.json.gz      1   \n",
       "24687506     120   Product_areefcreation.com_September2020.json.gz      1   \n",
       "\n",
       "         brand  \n",
       "0         None  \n",
       "1         None  \n",
       "2         None  \n",
       "3         None  \n",
       "4         None  \n",
       "...        ...  \n",
       "24687502  None  \n",
       "24687503  None  \n",
       "24687504  None  \n",
       "24687505  None  \n",
       "24687506  None  \n",
       "\n",
       "[24687507 rows x 6 columns]"
      ]
     },
     "execution_count": 51,
     "metadata": {},
     "output_type": "execute_result"
    }
   ],
   "source": [
    "df_joined_clothes"
   ]
  },
  {
   "cell_type": "code",
   "execution_count": 52,
   "metadata": {},
   "outputs": [],
   "source": [
    "df_grouped_clothes_tables = df_joined_clothes.groupby('table_id').count()"
   ]
  },
  {
   "cell_type": "code",
   "execution_count": 53,
   "metadata": {},
   "outputs": [],
   "source": [
    "# only look at clusters that have at least one brand associated\n",
    "df_set_clothes_tables = df_grouped_clothes_tables[df_grouped_clothes_tables['brand']>0].reset_index()[['cluster_id','table_id']].rename(columns={'cluster_id':'Amount'})"
   ]
  },
  {
   "cell_type": "code",
   "execution_count": 54,
   "metadata": {},
   "outputs": [
    {
     "data": {
      "text/html": [
       "<div>\n",
       "<style scoped>\n",
       "    .dataframe tbody tr th:only-of-type {\n",
       "        vertical-align: middle;\n",
       "    }\n",
       "\n",
       "    .dataframe tbody tr th {\n",
       "        vertical-align: top;\n",
       "    }\n",
       "\n",
       "    .dataframe thead th {\n",
       "        text-align: right;\n",
       "    }\n",
       "</style>\n",
       "<table border=\"1\" class=\"dataframe\">\n",
       "  <thead>\n",
       "    <tr style=\"text-align: right;\">\n",
       "      <th></th>\n",
       "      <th>Amount</th>\n",
       "      <th>table_id</th>\n",
       "    </tr>\n",
       "  </thead>\n",
       "  <tbody>\n",
       "    <tr>\n",
       "      <th>0</th>\n",
       "      <td>89</td>\n",
       "      <td>Product_1000drawings.org_September2020.json.gz</td>\n",
       "    </tr>\n",
       "    <tr>\n",
       "      <th>1</th>\n",
       "      <td>458</td>\n",
       "      <td>Product_1000tees.com_September2020.json.gz</td>\n",
       "    </tr>\n",
       "    <tr>\n",
       "      <th>2</th>\n",
       "      <td>53</td>\n",
       "      <td>Product_100outlets.com_September2020.json.gz</td>\n",
       "    </tr>\n",
       "    <tr>\n",
       "      <th>3</th>\n",
       "      <td>1090</td>\n",
       "      <td>Product_18montrose.com_September2020.json.gz</td>\n",
       "    </tr>\n",
       "    <tr>\n",
       "      <th>4</th>\n",
       "      <td>207</td>\n",
       "      <td>Product_1stmx.co.uk_September2020.json.gz</td>\n",
       "    </tr>\n",
       "    <tr>\n",
       "      <th>...</th>\n",
       "      <td>...</td>\n",
       "      <td>...</td>\n",
       "    </tr>\n",
       "    <tr>\n",
       "      <th>2452</th>\n",
       "      <td>8</td>\n",
       "      <td>Product_zipjosh.com_September2020.json.gz</td>\n",
       "    </tr>\n",
       "    <tr>\n",
       "      <th>2453</th>\n",
       "      <td>110</td>\n",
       "      <td>Product_zodee.com.au_September2020.json.gz</td>\n",
       "    </tr>\n",
       "    <tr>\n",
       "      <th>2454</th>\n",
       "      <td>1189</td>\n",
       "      <td>Product_zonnebrillen.com_September2020.json.gz</td>\n",
       "    </tr>\n",
       "    <tr>\n",
       "      <th>2455</th>\n",
       "      <td>208</td>\n",
       "      <td>Product_zorch.com_September2020.json.gz</td>\n",
       "    </tr>\n",
       "    <tr>\n",
       "      <th>2456</th>\n",
       "      <td>848</td>\n",
       "      <td>Product_zvejotribuna.net_September2020.json.gz</td>\n",
       "    </tr>\n",
       "  </tbody>\n",
       "</table>\n",
       "<p>2457 rows × 2 columns</p>\n",
       "</div>"
      ],
      "text/plain": [
       "      Amount                                        table_id\n",
       "0         89  Product_1000drawings.org_September2020.json.gz\n",
       "1        458      Product_1000tees.com_September2020.json.gz\n",
       "2         53    Product_100outlets.com_September2020.json.gz\n",
       "3       1090    Product_18montrose.com_September2020.json.gz\n",
       "4        207       Product_1stmx.co.uk_September2020.json.gz\n",
       "...      ...                                             ...\n",
       "2452       8       Product_zipjosh.com_September2020.json.gz\n",
       "2453     110      Product_zodee.com.au_September2020.json.gz\n",
       "2454    1189  Product_zonnebrillen.com_September2020.json.gz\n",
       "2455     208         Product_zorch.com_September2020.json.gz\n",
       "2456     848  Product_zvejotribuna.net_September2020.json.gz\n",
       "\n",
       "[2457 rows x 2 columns]"
      ]
     },
     "execution_count": 54,
     "metadata": {},
     "output_type": "execute_result"
    }
   ],
   "source": [
    "df_set_clothes_tables"
   ]
  },
  {
   "cell_type": "code",
   "execution_count": 55,
   "metadata": {},
   "outputs": [
    {
     "data": {
      "text/html": [
       "<div>\n",
       "<style scoped>\n",
       "    .dataframe tbody tr th:only-of-type {\n",
       "        vertical-align: middle;\n",
       "    }\n",
       "\n",
       "    .dataframe tbody tr th {\n",
       "        vertical-align: top;\n",
       "    }\n",
       "\n",
       "    .dataframe thead th {\n",
       "        text-align: right;\n",
       "    }\n",
       "</style>\n",
       "<table border=\"1\" class=\"dataframe\">\n",
       "  <thead>\n",
       "    <tr style=\"text-align: right;\">\n",
       "      <th></th>\n",
       "      <th>count</th>\n",
       "      <th>mean</th>\n",
       "      <th>std</th>\n",
       "      <th>min</th>\n",
       "      <th>25%</th>\n",
       "      <th>50%</th>\n",
       "      <th>75%</th>\n",
       "      <th>max</th>\n",
       "    </tr>\n",
       "  </thead>\n",
       "  <tbody>\n",
       "    <tr>\n",
       "      <th>Amount</th>\n",
       "      <td>2457.0</td>\n",
       "      <td>558.0</td>\n",
       "      <td>1115.0</td>\n",
       "      <td>1.0</td>\n",
       "      <td>54.0</td>\n",
       "      <td>211.0</td>\n",
       "      <td>633.0</td>\n",
       "      <td>16496.0</td>\n",
       "    </tr>\n",
       "  </tbody>\n",
       "</table>\n",
       "</div>"
      ],
      "text/plain": [
       "         count   mean     std  min   25%    50%    75%      max\n",
       "Amount  2457.0  558.0  1115.0  1.0  54.0  211.0  633.0  16496.0"
      ]
     },
     "execution_count": 55,
     "metadata": {},
     "output_type": "execute_result"
    }
   ],
   "source": [
    "df_set_clothes_tables.set_index('table_id').describe().T.round()"
   ]
  },
  {
   "cell_type": "code",
   "execution_count": 56,
   "metadata": {},
   "outputs": [
    {
     "data": {
      "text/html": [
       "<div>\n",
       "<style scoped>\n",
       "    .dataframe tbody tr th:only-of-type {\n",
       "        vertical-align: middle;\n",
       "    }\n",
       "\n",
       "    .dataframe tbody tr th {\n",
       "        vertical-align: top;\n",
       "    }\n",
       "\n",
       "    .dataframe thead th {\n",
       "        text-align: right;\n",
       "    }\n",
       "</style>\n",
       "<table border=\"1\" class=\"dataframe\">\n",
       "  <thead>\n",
       "    <tr style=\"text-align: right;\">\n",
       "      <th></th>\n",
       "      <th>Amount</th>\n",
       "      <th>table_id</th>\n",
       "    </tr>\n",
       "  </thead>\n",
       "  <tbody>\n",
       "    <tr>\n",
       "      <th>0</th>\n",
       "      <td>89</td>\n",
       "      <td>Product_1000drawings.org_September2020.json.gz</td>\n",
       "    </tr>\n",
       "    <tr>\n",
       "      <th>1</th>\n",
       "      <td>458</td>\n",
       "      <td>Product_1000tees.com_September2020.json.gz</td>\n",
       "    </tr>\n",
       "    <tr>\n",
       "      <th>3</th>\n",
       "      <td>1090</td>\n",
       "      <td>Product_18montrose.com_September2020.json.gz</td>\n",
       "    </tr>\n",
       "    <tr>\n",
       "      <th>4</th>\n",
       "      <td>207</td>\n",
       "      <td>Product_1stmx.co.uk_September2020.json.gz</td>\n",
       "    </tr>\n",
       "    <tr>\n",
       "      <th>7</th>\n",
       "      <td>204</td>\n",
       "      <td>Product_2020brands.com_September2020.json.gz</td>\n",
       "    </tr>\n",
       "    <tr>\n",
       "      <th>...</th>\n",
       "      <td>...</td>\n",
       "      <td>...</td>\n",
       "    </tr>\n",
       "    <tr>\n",
       "      <th>2451</th>\n",
       "      <td>388</td>\n",
       "      <td>Product_zeynshoes.com.tr_September2020.json.gz</td>\n",
       "    </tr>\n",
       "    <tr>\n",
       "      <th>2453</th>\n",
       "      <td>110</td>\n",
       "      <td>Product_zodee.com.au_September2020.json.gz</td>\n",
       "    </tr>\n",
       "    <tr>\n",
       "      <th>2454</th>\n",
       "      <td>1189</td>\n",
       "      <td>Product_zonnebrillen.com_September2020.json.gz</td>\n",
       "    </tr>\n",
       "    <tr>\n",
       "      <th>2455</th>\n",
       "      <td>208</td>\n",
       "      <td>Product_zorch.com_September2020.json.gz</td>\n",
       "    </tr>\n",
       "    <tr>\n",
       "      <th>2456</th>\n",
       "      <td>848</td>\n",
       "      <td>Product_zvejotribuna.net_September2020.json.gz</td>\n",
       "    </tr>\n",
       "  </tbody>\n",
       "</table>\n",
       "<p>1711 rows × 2 columns</p>\n",
       "</div>"
      ],
      "text/plain": [
       "      Amount                                        table_id\n",
       "0         89  Product_1000drawings.org_September2020.json.gz\n",
       "1        458      Product_1000tees.com_September2020.json.gz\n",
       "3       1090    Product_18montrose.com_September2020.json.gz\n",
       "4        207       Product_1stmx.co.uk_September2020.json.gz\n",
       "7        204    Product_2020brands.com_September2020.json.gz\n",
       "...      ...                                             ...\n",
       "2451     388  Product_zeynshoes.com.tr_September2020.json.gz\n",
       "2453     110      Product_zodee.com.au_September2020.json.gz\n",
       "2454    1189  Product_zonnebrillen.com_September2020.json.gz\n",
       "2455     208         Product_zorch.com_September2020.json.gz\n",
       "2456     848  Product_zvejotribuna.net_September2020.json.gz\n",
       "\n",
       "[1711 rows x 2 columns]"
      ]
     },
     "execution_count": 56,
     "metadata": {},
     "output_type": "execute_result"
    }
   ],
   "source": [
    "df_75_clothes_tables=df_set_clothes_tables[df_set_clothes_tables['Amount']>75]\n",
    "df_75_clothes_tables"
   ]
  },
  {
   "cell_type": "code",
   "execution_count": 57,
   "metadata": {},
   "outputs": [
    {
     "data": {
      "text/html": [
       "<div>\n",
       "<style scoped>\n",
       "    .dataframe tbody tr th:only-of-type {\n",
       "        vertical-align: middle;\n",
       "    }\n",
       "\n",
       "    .dataframe tbody tr th {\n",
       "        vertical-align: top;\n",
       "    }\n",
       "\n",
       "    .dataframe thead th {\n",
       "        text-align: right;\n",
       "    }\n",
       "</style>\n",
       "<table border=\"1\" class=\"dataframe\">\n",
       "  <thead>\n",
       "    <tr style=\"text-align: right;\">\n",
       "      <th></th>\n",
       "      <th>count</th>\n",
       "      <th>mean</th>\n",
       "      <th>std</th>\n",
       "      <th>min</th>\n",
       "      <th>25%</th>\n",
       "      <th>50%</th>\n",
       "      <th>75%</th>\n",
       "      <th>max</th>\n",
       "    </tr>\n",
       "  </thead>\n",
       "  <tbody>\n",
       "    <tr>\n",
       "      <th>Amount</th>\n",
       "      <td>1711.0</td>\n",
       "      <td>787.0</td>\n",
       "      <td>1270.0</td>\n",
       "      <td>76.0</td>\n",
       "      <td>192.0</td>\n",
       "      <td>427.0</td>\n",
       "      <td>842.0</td>\n",
       "      <td>16496.0</td>\n",
       "    </tr>\n",
       "  </tbody>\n",
       "</table>\n",
       "</div>"
      ],
      "text/plain": [
       "         count   mean     std   min    25%    50%    75%      max\n",
       "Amount  1711.0  787.0  1270.0  76.0  192.0  427.0  842.0  16496.0"
      ]
     },
     "execution_count": 57,
     "metadata": {},
     "output_type": "execute_result"
    }
   ],
   "source": [
    "df_75_clothes_tables.set_index('table_id').describe().T.round()"
   ]
  },
  {
   "cell_type": "code",
   "execution_count": 58,
   "metadata": {
    "scrolled": true
   },
   "outputs": [
    {
     "data": {
      "text/plain": [
       "<AxesSubplot:ylabel='Frequency'>"
      ]
     },
     "execution_count": 58,
     "metadata": {},
     "output_type": "execute_result"
    },
    {
     "data": {
      "image/png": "[encoded data removed]",
      "text/plain": [
       "<Figure size 432x288 with 1 Axes>"
      ]
     },
     "metadata": {
      "needs_background": "light"
     },
     "output_type": "display_data"
    }
   ],
   "source": [
    "df_75_clothes_tables.plot(x='table_id',y='Amount',kind='hist')"
   ]
  },
  {
   "cell_type": "code",
   "execution_count": 59,
   "metadata": {},
   "outputs": [
    {
     "data": {
      "text/html": [
       "<div>\n",
       "<style scoped>\n",
       "    .dataframe tbody tr th:only-of-type {\n",
       "        vertical-align: middle;\n",
       "    }\n",
       "\n",
       "    .dataframe tbody tr th {\n",
       "        vertical-align: top;\n",
       "    }\n",
       "\n",
       "    .dataframe thead th {\n",
       "        text-align: right;\n",
       "    }\n",
       "</style>\n",
       "<table border=\"1\" class=\"dataframe\">\n",
       "  <thead>\n",
       "    <tr style=\"text-align: right;\">\n",
       "      <th></th>\n",
       "      <th>Amount</th>\n",
       "      <th>table_id</th>\n",
       "    </tr>\n",
       "  </thead>\n",
       "  <tbody>\n",
       "    <tr>\n",
       "      <th>1</th>\n",
       "      <td>458</td>\n",
       "      <td>Product_1000tees.com_September2020.json.gz</td>\n",
       "    </tr>\n",
       "    <tr>\n",
       "      <th>3</th>\n",
       "      <td>1090</td>\n",
       "      <td>Product_18montrose.com_September2020.json.gz</td>\n",
       "    </tr>\n",
       "    <tr>\n",
       "      <th>4</th>\n",
       "      <td>207</td>\n",
       "      <td>Product_1stmx.co.uk_September2020.json.gz</td>\n",
       "    </tr>\n",
       "    <tr>\n",
       "      <th>7</th>\n",
       "      <td>204</td>\n",
       "      <td>Product_2020brands.com_September2020.json.gz</td>\n",
       "    </tr>\n",
       "    <tr>\n",
       "      <th>11</th>\n",
       "      <td>508</td>\n",
       "      <td>Product_24-7grp.com_September2020.json.gz</td>\n",
       "    </tr>\n",
       "    <tr>\n",
       "      <th>...</th>\n",
       "      <td>...</td>\n",
       "      <td>...</td>\n",
       "    </tr>\n",
       "    <tr>\n",
       "      <th>2449</th>\n",
       "      <td>666</td>\n",
       "      <td>Product_zeeandco.co.uk_September2020.json.gz</td>\n",
       "    </tr>\n",
       "    <tr>\n",
       "      <th>2451</th>\n",
       "      <td>388</td>\n",
       "      <td>Product_zeynshoes.com.tr_September2020.json.gz</td>\n",
       "    </tr>\n",
       "    <tr>\n",
       "      <th>2454</th>\n",
       "      <td>1189</td>\n",
       "      <td>Product_zonnebrillen.com_September2020.json.gz</td>\n",
       "    </tr>\n",
       "    <tr>\n",
       "      <th>2455</th>\n",
       "      <td>208</td>\n",
       "      <td>Product_zorch.com_September2020.json.gz</td>\n",
       "    </tr>\n",
       "    <tr>\n",
       "      <th>2456</th>\n",
       "      <td>848</td>\n",
       "      <td>Product_zvejotribuna.net_September2020.json.gz</td>\n",
       "    </tr>\n",
       "  </tbody>\n",
       "</table>\n",
       "<p>1384 rows × 2 columns</p>\n",
       "</div>"
      ],
      "text/plain": [
       "      Amount                                        table_id\n",
       "1        458      Product_1000tees.com_September2020.json.gz\n",
       "3       1090    Product_18montrose.com_September2020.json.gz\n",
       "4        207       Product_1stmx.co.uk_September2020.json.gz\n",
       "7        204    Product_2020brands.com_September2020.json.gz\n",
       "11       508       Product_24-7grp.com_September2020.json.gz\n",
       "...      ...                                             ...\n",
       "2449     666    Product_zeeandco.co.uk_September2020.json.gz\n",
       "2451     388  Product_zeynshoes.com.tr_September2020.json.gz\n",
       "2454    1189  Product_zonnebrillen.com_September2020.json.gz\n",
       "2455     208         Product_zorch.com_September2020.json.gz\n",
       "2456     848  Product_zvejotribuna.net_September2020.json.gz\n",
       "\n",
       "[1384 rows x 2 columns]"
      ]
     },
     "execution_count": 59,
     "metadata": {},
     "output_type": "execute_result"
    }
   ],
   "source": [
    "df_150_clothes_tables=df_set_clothes_tables[df_set_clothes_tables['Amount']>150]\n",
    "df_150_clothes_tables"
   ]
  },
  {
   "cell_type": "code",
   "execution_count": 60,
   "metadata": {},
   "outputs": [
    {
     "data": {
      "text/html": [
       "<div>\n",
       "<style scoped>\n",
       "    .dataframe tbody tr th:only-of-type {\n",
       "        vertical-align: middle;\n",
       "    }\n",
       "\n",
       "    .dataframe tbody tr th {\n",
       "        vertical-align: top;\n",
       "    }\n",
       "\n",
       "    .dataframe thead th {\n",
       "        text-align: right;\n",
       "    }\n",
       "</style>\n",
       "<table border=\"1\" class=\"dataframe\">\n",
       "  <thead>\n",
       "    <tr style=\"text-align: right;\">\n",
       "      <th></th>\n",
       "      <th>count</th>\n",
       "      <th>mean</th>\n",
       "      <th>std</th>\n",
       "      <th>min</th>\n",
       "      <th>25%</th>\n",
       "      <th>50%</th>\n",
       "      <th>75%</th>\n",
       "      <th>max</th>\n",
       "    </tr>\n",
       "  </thead>\n",
       "  <tbody>\n",
       "    <tr>\n",
       "      <th>Amount</th>\n",
       "      <td>1384.0</td>\n",
       "      <td>947.0</td>\n",
       "      <td>1363.0</td>\n",
       "      <td>151.0</td>\n",
       "      <td>308.0</td>\n",
       "      <td>570.0</td>\n",
       "      <td>947.0</td>\n",
       "      <td>16496.0</td>\n",
       "    </tr>\n",
       "  </tbody>\n",
       "</table>\n",
       "</div>"
      ],
      "text/plain": [
       "         count   mean     std    min    25%    50%    75%      max\n",
       "Amount  1384.0  947.0  1363.0  151.0  308.0  570.0  947.0  16496.0"
      ]
     },
     "execution_count": 60,
     "metadata": {},
     "output_type": "execute_result"
    }
   ],
   "source": [
    "df_150_clothes_tables.set_index('table_id').describe().T.round()"
   ]
  },
  {
   "cell_type": "code",
   "execution_count": 61,
   "metadata": {},
   "outputs": [
    {
     "data": {
      "text/plain": [
       "<AxesSubplot:ylabel='Frequency'>"
      ]
     },
     "execution_count": 61,
     "metadata": {},
     "output_type": "execute_result"
    },
    {
     "data": {
      "image/png": "[encoded data removed]",
      "text/plain": [
       "<Figure size 432x288 with 1 Axes>"
      ]
     },
     "metadata": {
      "needs_background": "light"
     },
     "output_type": "display_data"
    }
   ],
   "source": [
    "df_150_clothes_tables.plot(x='table_id',y='Amount',kind='hist')"
   ]
  },
  {
   "cell_type": "markdown",
   "metadata": {},
   "source": [
    "# Get information about which tables and which clusters have the highest overlap"
   ]
  },
  {
   "cell_type": "code",
   "execution_count": 62,
   "metadata": {},
   "outputs": [
    {
     "data": {
      "text/html": [
       "<div>\n",
       "<style scoped>\n",
       "    .dataframe tbody tr th:only-of-type {\n",
       "        vertical-align: middle;\n",
       "    }\n",
       "\n",
       "    .dataframe tbody tr th {\n",
       "        vertical-align: top;\n",
       "    }\n",
       "\n",
       "    .dataframe thead th {\n",
       "        text-align: right;\n",
       "    }\n",
       "</style>\n",
       "<table border=\"1\" class=\"dataframe\">\n",
       "  <thead>\n",
       "    <tr style=\"text-align: right;\">\n",
       "      <th></th>\n",
       "      <th>cluster_id</th>\n",
       "      <th>url</th>\n",
       "      <th>row_id</th>\n",
       "      <th>table_id</th>\n",
       "      <th>Valid</th>\n",
       "      <th>brand</th>\n",
       "      <th>product_name</th>\n",
       "    </tr>\n",
       "  </thead>\n",
       "  <tbody>\n",
       "    <tr>\n",
       "      <th>0</th>\n",
       "      <td>59178314</td>\n",
       "      <td>https://www.cultureindoor.com/796-irrigation-arrosage-tuyau-pe-20mm-semi-rigide-rouleau-100m.html</td>\n",
       "      <td>1561</td>\n",
       "      <td>Product_cultureindoor.com_September2020.json.gz</td>\n",
       "      <td>1</td>\n",
       "      <td>None</td>\n",
       "      <td>796-irrigation-arrosage-tuyau-pe-20mm-semi-rigide-rouleau-100m.html</td>\n",
       "    </tr>\n",
       "    <tr>\n",
       "      <th>1</th>\n",
       "      <td>70692685</td>\n",
       "      <td>https://www.culturekings.com/products/new-era-new-era-new-orleans-pelicans-nba-940-a-frame-snapback-black</td>\n",
       "      <td>3893</td>\n",
       "      <td>Product_culturekings.com_September2020.json.gz</td>\n",
       "      <td>1</td>\n",
       "      <td>None</td>\n",
       "      <td>new-era-new-era-new-orleans-pelicans-nba-940-a-frame-snapback-black</td>\n",
       "    </tr>\n",
       "    <tr>\n",
       "      <th>2</th>\n",
       "      <td>395606</td>\n",
       "      <td>https://www.culturekings.com/products/new-era-x-nrl-west-tigers-aframe-charcoal-orange</td>\n",
       "      <td>3894</td>\n",
       "      <td>Product_culturekings.com_September2020.json.gz</td>\n",
       "      <td>1</td>\n",
       "      <td>None</td>\n",
       "      <td>new-era-x-nrl-west-tigers-aframe-charcoal-orange</td>\n",
       "    </tr>\n",
       "    <tr>\n",
       "      <th>3</th>\n",
       "      <td>3361797</td>\n",
       "      <td>https://www.customizedgirl.com/design/2605608/The+Real+Baseball+Moms</td>\n",
       "      <td>9318</td>\n",
       "      <td>Product_customizedgirl.com_September2020.json.gz</td>\n",
       "      <td>1</td>\n",
       "      <td>None</td>\n",
       "      <td>The+Real+Baseball+Moms</td>\n",
       "    </tr>\n",
       "    <tr>\n",
       "      <th>4</th>\n",
       "      <td>235755</td>\n",
       "      <td>https://www.customizedgirl.com/design/2613423/Mentally+Dating+Ronaldo</td>\n",
       "      <td>9319</td>\n",
       "      <td>Product_customizedgirl.com_September2020.json.gz</td>\n",
       "      <td>1</td>\n",
       "      <td>None</td>\n",
       "      <td>Mentally+Dating+Ronaldo</td>\n",
       "    </tr>\n",
       "    <tr>\n",
       "      <th>...</th>\n",
       "      <td>...</td>\n",
       "      <td>...</td>\n",
       "      <td>...</td>\n",
       "      <td>...</td>\n",
       "      <td>...</td>\n",
       "      <td>...</td>\n",
       "      <td>...</td>\n",
       "    </tr>\n",
       "    <tr>\n",
       "      <th>24687502</th>\n",
       "      <td>8653717</td>\n",
       "      <td>https://shop-list.com/women/utuwa-tatara/sg3232-03</td>\n",
       "      <td>1620</td>\n",
       "      <td>Product_shop-list.com_September2020.json.gz</td>\n",
       "      <td>1</td>\n",
       "      <td>None</td>\n",
       "      <td>sg3232-03</td>\n",
       "    </tr>\n",
       "    <tr>\n",
       "      <th>24687503</th>\n",
       "      <td>22258637</td>\n",
       "      <td>https://shop-list.com/women/youmotto/famille-ltm</td>\n",
       "      <td>1621</td>\n",
       "      <td>Product_shop-list.com_September2020.json.gz</td>\n",
       "      <td>1</td>\n",
       "      <td>None</td>\n",
       "      <td>famille-ltm</td>\n",
       "    </tr>\n",
       "    <tr>\n",
       "      <th>24687504</th>\n",
       "      <td>41434658</td>\n",
       "      <td>https://shop.agwaycapecod.com/products/019014710959/adult-small-breed-dog-food-5-lb</td>\n",
       "      <td>126</td>\n",
       "      <td>Product_agwaycapecod.com_September2020.json.gz</td>\n",
       "      <td>1</td>\n",
       "      <td>None</td>\n",
       "      <td>adult-small-breed-dog-food-5-lb</td>\n",
       "    </tr>\n",
       "    <tr>\n",
       "      <th>24687505</th>\n",
       "      <td>62702145</td>\n",
       "      <td>https://shop.agwaycapecod.com/products/037321455042/ant-killer-dust-3-lbs</td>\n",
       "      <td>127</td>\n",
       "      <td>Product_agwaycapecod.com_September2020.json.gz</td>\n",
       "      <td>1</td>\n",
       "      <td>None</td>\n",
       "      <td>ant-killer-dust-3-lbs</td>\n",
       "    </tr>\n",
       "    <tr>\n",
       "      <th>24687506</th>\n",
       "      <td>60936713</td>\n",
       "      <td>https://shop.areefcreation.com/products/ls-apr-344b</td>\n",
       "      <td>120</td>\n",
       "      <td>Product_areefcreation.com_September2020.json.gz</td>\n",
       "      <td>1</td>\n",
       "      <td>None</td>\n",
       "      <td>ls-apr-344b</td>\n",
       "    </tr>\n",
       "  </tbody>\n",
       "</table>\n",
       "<p>24687507 rows × 7 columns</p>\n",
       "</div>"
      ],
      "text/plain": [
       "          cluster_id  \\\n",
       "0           59178314   \n",
       "1           70692685   \n",
       "2             395606   \n",
       "3            3361797   \n",
       "4             235755   \n",
       "...              ...   \n",
       "24687502     8653717   \n",
       "24687503    22258637   \n",
       "24687504    41434658   \n",
       "24687505    62702145   \n",
       "24687506    60936713   \n",
       "\n",
       "                                                                                                                url  \\\n",
       "0                 https://www.cultureindoor.com/796-irrigation-arrosage-tuyau-pe-20mm-semi-rigide-rouleau-100m.html   \n",
       "1         https://www.culturekings.com/products/new-era-new-era-new-orleans-pelicans-nba-940-a-frame-snapback-black   \n",
       "2                            https://www.culturekings.com/products/new-era-x-nrl-west-tigers-aframe-charcoal-orange   \n",
       "3                                              https://www.customizedgirl.com/design/2605608/The+Real+Baseball+Moms   \n",
       "4                                             https://www.customizedgirl.com/design/2613423/Mentally+Dating+Ronaldo   \n",
       "...                                                                                                             ...   \n",
       "24687502                                                         https://shop-list.com/women/utuwa-tatara/sg3232-03   \n",
       "24687503                                                           https://shop-list.com/women/youmotto/famille-ltm   \n",
       "24687504                        https://shop.agwaycapecod.com/products/019014710959/adult-small-breed-dog-food-5-lb   \n",
       "24687505                                  https://shop.agwaycapecod.com/products/037321455042/ant-killer-dust-3-lbs   \n",
       "24687506                                                        https://shop.areefcreation.com/products/ls-apr-344b   \n",
       "\n",
       "          row_id                                          table_id  Valid  \\\n",
       "0           1561   Product_cultureindoor.com_September2020.json.gz      1   \n",
       "1           3893    Product_culturekings.com_September2020.json.gz      1   \n",
       "2           3894    Product_culturekings.com_September2020.json.gz      1   \n",
       "3           9318  Product_customizedgirl.com_September2020.json.gz      1   \n",
       "4           9319  Product_customizedgirl.com_September2020.json.gz      1   \n",
       "...          ...                                               ...    ...   \n",
       "24687502    1620       Product_shop-list.com_September2020.json.gz      1   \n",
       "24687503    1621       Product_shop-list.com_September2020.json.gz      1   \n",
       "24687504     126    Product_agwaycapecod.com_September2020.json.gz      1   \n",
       "24687505     127    Product_agwaycapecod.com_September2020.json.gz      1   \n",
       "24687506     120   Product_areefcreation.com_September2020.json.gz      1   \n",
       "\n",
       "         brand  \\\n",
       "0         None   \n",
       "1         None   \n",
       "2         None   \n",
       "3         None   \n",
       "4         None   \n",
       "...        ...   \n",
       "24687502  None   \n",
       "24687503  None   \n",
       "24687504  None   \n",
       "24687505  None   \n",
       "24687506  None   \n",
       "\n",
       "                                                                 product_name  \n",
       "0         796-irrigation-arrosage-tuyau-pe-20mm-semi-rigide-rouleau-100m.html  \n",
       "1         new-era-new-era-new-orleans-pelicans-nba-940-a-frame-snapback-black  \n",
       "2                            new-era-x-nrl-west-tigers-aframe-charcoal-orange  \n",
       "3                                                      The+Real+Baseball+Moms  \n",
       "4                                                     Mentally+Dating+Ronaldo  \n",
       "...                                                                       ...  \n",
       "24687502                                                            sg3232-03  \n",
       "24687503                                                          famille-ltm  \n",
       "24687504                                      adult-small-breed-dog-food-5-lb  \n",
       "24687505                                                ant-killer-dust-3-lbs  \n",
       "24687506                                                          ls-apr-344b  \n",
       "\n",
       "[24687507 rows x 7 columns]"
      ]
     },
     "execution_count": 62,
     "metadata": {},
     "output_type": "execute_result"
    }
   ],
   "source": [
    "df_joined_electronics"
   ]
  },
  {
   "cell_type": "code",
   "execution_count": 63,
   "metadata": {},
   "outputs": [],
   "source": [
    "# get information about counts of clusters per table\n",
    "df_electronics_table_id = df_joined_electronics.groupby('table_id').count().reset_index().rename(columns={'brand':'brand_table','cluster_id':'cluster_count'}).drop(columns = ['url','row_id','Valid'])"
   ]
  },
  {
   "cell_type": "code",
   "execution_count": 64,
   "metadata": {},
   "outputs": [],
   "source": [
    "# get information about counts of tables per cluster\n",
    "df_electronics_cluster_id = df_joined_electronics.groupby('cluster_id').count().reset_index().rename(columns={'brand':'brand_cluster','table_id':'table_count'}).drop(columns = ['url','row_id','Valid'])"
   ]
  },
  {
   "cell_type": "code",
   "execution_count": 65,
   "metadata": {},
   "outputs": [],
   "source": [
    "#join the two informations\n",
    "df_enriched = df_joined_electronics.merge(df_electronics_table_id, how='left',left_on=['table_id'],right_on=['table_id']).merge(df_electronics_cluster_id, how='left',left_on=['cluster_id'],right_on=['cluster_id'])"
   ]
  },
  {
   "cell_type": "code",
   "execution_count": 66,
   "metadata": {},
   "outputs": [],
   "source": [
    "# select only the entries, where we have at least one brand in table counts and cluster counts\n",
    "df_enriched = df_enriched[(df_enriched['brand_table']>0) & (df_enriched['brand_cluster']>0)]"
   ]
  },
  {
   "cell_type": "code",
   "execution_count": 67,
   "metadata": {},
   "outputs": [
    {
     "data": {
      "text/html": [
       "<div>\n",
       "<style scoped>\n",
       "    .dataframe tbody tr th:only-of-type {\n",
       "        vertical-align: middle;\n",
       "    }\n",
       "\n",
       "    .dataframe tbody tr th {\n",
       "        vertical-align: top;\n",
       "    }\n",
       "\n",
       "    .dataframe thead th {\n",
       "        text-align: right;\n",
       "    }\n",
       "</style>\n",
       "<table border=\"1\" class=\"dataframe\">\n",
       "  <thead>\n",
       "    <tr style=\"text-align: right;\">\n",
       "      <th></th>\n",
       "      <th>cluster_id</th>\n",
       "      <th>url</th>\n",
       "      <th>row_id</th>\n",
       "      <th>table_id</th>\n",
       "      <th>Valid</th>\n",
       "      <th>brand</th>\n",
       "      <th>product_name_x</th>\n",
       "      <th>cluster_count</th>\n",
       "      <th>brand_table</th>\n",
       "      <th>product_name_y</th>\n",
       "      <th>table_count</th>\n",
       "      <th>brand_cluster</th>\n",
       "      <th>product_name</th>\n",
       "    </tr>\n",
       "  </thead>\n",
       "  <tbody>\n",
       "    <tr>\n",
       "      <th>1039873</th>\n",
       "      <td>224590</td>\n",
       "      <td>https://www.110220volts.com/sony-bdp-s1700-region-free-blu-ray-player-with-100-240-volt-50-60-hz.html</td>\n",
       "      <td>1550</td>\n",
       "      <td>Product_110220volts.com_September2020.json.gz</td>\n",
       "      <td>1</td>\n",
       "      <td>sony</td>\n",
       "      <td>sony-bdp-s1700-region-free-blu-ray-player-with-100-240-volt-50-60-hz.html</td>\n",
       "      <td>982</td>\n",
       "      <td>500</td>\n",
       "      <td>982</td>\n",
       "      <td>16</td>\n",
       "      <td>6</td>\n",
       "      <td>16</td>\n",
       "    </tr>\n",
       "    <tr>\n",
       "      <th>13163537</th>\n",
       "      <td>289703</td>\n",
       "      <td>https://www.247inktoner.com/genuine-oem-canon-pgi-72pbk-ink-cartridge</td>\n",
       "      <td>1056</td>\n",
       "      <td>Product_247inktoner.com_September2020.json.gz</td>\n",
       "      <td>1</td>\n",
       "      <td>canon</td>\n",
       "      <td>genuine-oem-canon-pgi-72pbk-ink-cartridge</td>\n",
       "      <td>837</td>\n",
       "      <td>265</td>\n",
       "      <td>837</td>\n",
       "      <td>12</td>\n",
       "      <td>7</td>\n",
       "      <td>12</td>\n",
       "    </tr>\n",
       "    <tr>\n",
       "      <th>16303144</th>\n",
       "      <td>23343</td>\n",
       "      <td>https://www.4clik.com/photo-video/objectifs/id=905049/sony-e-70-350mm-f4.5-6.3-g-oss</td>\n",
       "      <td>233</td>\n",
       "      <td>Product_4clik.com_September2020.json.gz</td>\n",
       "      <td>1</td>\n",
       "      <td>sony</td>\n",
       "      <td>sony-e-70-350mm-f4.5-6.3-g-oss</td>\n",
       "      <td>977</td>\n",
       "      <td>101</td>\n",
       "      <td>977</td>\n",
       "      <td>18</td>\n",
       "      <td>6</td>\n",
       "      <td>18</td>\n",
       "    </tr>\n",
       "    <tr>\n",
       "      <th>14736718</th>\n",
       "      <td>201669</td>\n",
       "      <td>https://www.4clik.com/smartphone/id=SMTPH9915/xiaomi-redmi-note-8-pro-double-sim-64go-4g</td>\n",
       "      <td>1737</td>\n",
       "      <td>Product_4clik.com_September2020.json.gz</td>\n",
       "      <td>1</td>\n",
       "      <td>xiaomi</td>\n",
       "      <td>xiaomi-redmi-note-8-pro-double-sim-64go-4g</td>\n",
       "      <td>977</td>\n",
       "      <td>101</td>\n",
       "      <td>977</td>\n",
       "      <td>16</td>\n",
       "      <td>5</td>\n",
       "      <td>16</td>\n",
       "    </tr>\n",
       "    <tr>\n",
       "      <th>3132861</th>\n",
       "      <td>206844</td>\n",
       "      <td>https://www.4clik.com/informatique/imprimantes/id=B58435/hp-laserjet-pro-m404dn</td>\n",
       "      <td>893</td>\n",
       "      <td>Product_4clik.com_September2020.json.gz</td>\n",
       "      <td>1</td>\n",
       "      <td>hp</td>\n",
       "      <td>hp-laserjet-pro-m404dn</td>\n",
       "      <td>977</td>\n",
       "      <td>101</td>\n",
       "      <td>977</td>\n",
       "      <td>12</td>\n",
       "      <td>3</td>\n",
       "      <td>12</td>\n",
       "    </tr>\n",
       "    <tr>\n",
       "      <th>...</th>\n",
       "      <td>...</td>\n",
       "      <td>...</td>\n",
       "      <td>...</td>\n",
       "      <td>...</td>\n",
       "      <td>...</td>\n",
       "      <td>...</td>\n",
       "      <td>...</td>\n",
       "      <td>...</td>\n",
       "      <td>...</td>\n",
       "      <td>...</td>\n",
       "      <td>...</td>\n",
       "      <td>...</td>\n",
       "      <td>...</td>\n",
       "    </tr>\n",
       "    <tr>\n",
       "      <th>640506</th>\n",
       "      <td>262855</td>\n",
       "      <td>https://www.zotim.com.au/shop/sam-con-mlt-d116l</td>\n",
       "      <td>564</td>\n",
       "      <td>Product_zotim.com.au_September2020.json.gz</td>\n",
       "      <td>1</td>\n",
       "      <td>samsung</td>\n",
       "      <td>sam-con-mlt-d116l</td>\n",
       "      <td>607</td>\n",
       "      <td>86</td>\n",
       "      <td>607</td>\n",
       "      <td>11</td>\n",
       "      <td>5</td>\n",
       "      <td>11</td>\n",
       "    </tr>\n",
       "    <tr>\n",
       "      <th>7360491</th>\n",
       "      <td>660698</td>\n",
       "      <td>https://www.zotim.com.au/shop/sam-con-clt-c406s</td>\n",
       "      <td>122</td>\n",
       "      <td>Product_zotim.com.au_September2020.json.gz</td>\n",
       "      <td>1</td>\n",
       "      <td>samsung</td>\n",
       "      <td>sam-con-clt-c406s</td>\n",
       "      <td>607</td>\n",
       "      <td>86</td>\n",
       "      <td>607</td>\n",
       "      <td>15</td>\n",
       "      <td>4</td>\n",
       "      <td>15</td>\n",
       "    </tr>\n",
       "    <tr>\n",
       "      <th>13531632</th>\n",
       "      <td>855653</td>\n",
       "      <td>https://www.zotim.com.au/shop/can-con-cli526bk</td>\n",
       "      <td>493</td>\n",
       "      <td>Product_zotim.com.au_September2020.json.gz</td>\n",
       "      <td>1</td>\n",
       "      <td>canon</td>\n",
       "      <td>can-con-cli526bk</td>\n",
       "      <td>607</td>\n",
       "      <td>86</td>\n",
       "      <td>607</td>\n",
       "      <td>12</td>\n",
       "      <td>1</td>\n",
       "      <td>12</td>\n",
       "    </tr>\n",
       "    <tr>\n",
       "      <th>12836186</th>\n",
       "      <td>2593008</td>\n",
       "      <td>https://www.zotim.com.au/shop/sam-con-clt-c504s</td>\n",
       "      <td>990</td>\n",
       "      <td>Product_zotim.com.au_September2020.json.gz</td>\n",
       "      <td>1</td>\n",
       "      <td>samsung</td>\n",
       "      <td>sam-con-clt-c504s</td>\n",
       "      <td>607</td>\n",
       "      <td>86</td>\n",
       "      <td>607</td>\n",
       "      <td>11</td>\n",
       "      <td>3</td>\n",
       "      <td>11</td>\n",
       "    </tr>\n",
       "    <tr>\n",
       "      <th>14052778</th>\n",
       "      <td>663328</td>\n",
       "      <td>https://zsyst.com/product/sony-fe-28mm-f2-lens</td>\n",
       "      <td>38</td>\n",
       "      <td>Product_zsyst.com_September2020.json.gz</td>\n",
       "      <td>1</td>\n",
       "      <td>sony</td>\n",
       "      <td>sony-fe-28mm-f2-lens</td>\n",
       "      <td>30</td>\n",
       "      <td>13</td>\n",
       "      <td>30</td>\n",
       "      <td>11</td>\n",
       "      <td>7</td>\n",
       "      <td>11</td>\n",
       "    </tr>\n",
       "  </tbody>\n",
       "</table>\n",
       "<p>2530 rows × 13 columns</p>\n",
       "</div>"
      ],
      "text/plain": [
       "          cluster_id  \\\n",
       "1039873       224590   \n",
       "13163537      289703   \n",
       "16303144       23343   \n",
       "14736718      201669   \n",
       "3132861       206844   \n",
       "...              ...   \n",
       "640506        262855   \n",
       "7360491       660698   \n",
       "13531632      855653   \n",
       "12836186     2593008   \n",
       "14052778      663328   \n",
       "\n",
       "                                                                                                            url  \\\n",
       "1039873   https://www.110220volts.com/sony-bdp-s1700-region-free-blu-ray-player-with-100-240-volt-50-60-hz.html   \n",
       "13163537                                  https://www.247inktoner.com/genuine-oem-canon-pgi-72pbk-ink-cartridge   \n",
       "16303144                   https://www.4clik.com/photo-video/objectifs/id=905049/sony-e-70-350mm-f4.5-6.3-g-oss   \n",
       "14736718               https://www.4clik.com/smartphone/id=SMTPH9915/xiaomi-redmi-note-8-pro-double-sim-64go-4g   \n",
       "3132861                         https://www.4clik.com/informatique/imprimantes/id=B58435/hp-laserjet-pro-m404dn   \n",
       "...                                                                                                         ...   \n",
       "640506                                                          https://www.zotim.com.au/shop/sam-con-mlt-d116l   \n",
       "7360491                                                         https://www.zotim.com.au/shop/sam-con-clt-c406s   \n",
       "13531632                                                         https://www.zotim.com.au/shop/can-con-cli526bk   \n",
       "12836186                                                        https://www.zotim.com.au/shop/sam-con-clt-c504s   \n",
       "14052778                                                         https://zsyst.com/product/sony-fe-28mm-f2-lens   \n",
       "\n",
       "          row_id                                       table_id  Valid  \\\n",
       "1039873     1550  Product_110220volts.com_September2020.json.gz      1   \n",
       "13163537    1056  Product_247inktoner.com_September2020.json.gz      1   \n",
       "16303144     233        Product_4clik.com_September2020.json.gz      1   \n",
       "14736718    1737        Product_4clik.com_September2020.json.gz      1   \n",
       "3132861      893        Product_4clik.com_September2020.json.gz      1   \n",
       "...          ...                                            ...    ...   \n",
       "640506       564     Product_zotim.com.au_September2020.json.gz      1   \n",
       "7360491      122     Product_zotim.com.au_September2020.json.gz      1   \n",
       "13531632     493     Product_zotim.com.au_September2020.json.gz      1   \n",
       "12836186     990     Product_zotim.com.au_September2020.json.gz      1   \n",
       "14052778      38        Product_zsyst.com_September2020.json.gz      1   \n",
       "\n",
       "            brand  \\\n",
       "1039873      sony   \n",
       "13163537    canon   \n",
       "16303144     sony   \n",
       "14736718   xiaomi   \n",
       "3132861        hp   \n",
       "...           ...   \n",
       "640506    samsung   \n",
       "7360491   samsung   \n",
       "13531632    canon   \n",
       "12836186  samsung   \n",
       "14052778     sony   \n",
       "\n",
       "                                                                     product_name_x  \\\n",
       "1039873   sony-bdp-s1700-region-free-blu-ray-player-with-100-240-volt-50-60-hz.html   \n",
       "13163537                                  genuine-oem-canon-pgi-72pbk-ink-cartridge   \n",
       "16303144                                             sony-e-70-350mm-f4.5-6.3-g-oss   \n",
       "14736718                                 xiaomi-redmi-note-8-pro-double-sim-64go-4g   \n",
       "3132861                                                      hp-laserjet-pro-m404dn   \n",
       "...                                                                             ...   \n",
       "640506                                                            sam-con-mlt-d116l   \n",
       "7360491                                                           sam-con-clt-c406s   \n",
       "13531632                                                           can-con-cli526bk   \n",
       "12836186                                                          sam-con-clt-c504s   \n",
       "14052778                                                       sony-fe-28mm-f2-lens   \n",
       "\n",
       "          cluster_count  brand_table  product_name_y  table_count  \\\n",
       "1039873             982          500             982           16   \n",
       "13163537            837          265             837           12   \n",
       "16303144            977          101             977           18   \n",
       "14736718            977          101             977           16   \n",
       "3132861             977          101             977           12   \n",
       "...                 ...          ...             ...          ...   \n",
       "640506              607           86             607           11   \n",
       "7360491             607           86             607           15   \n",
       "13531632            607           86             607           12   \n",
       "12836186            607           86             607           11   \n",
       "14052778             30           13              30           11   \n",
       "\n",
       "          brand_cluster  product_name  \n",
       "1039873               6            16  \n",
       "13163537              7            12  \n",
       "16303144              6            18  \n",
       "14736718              5            16  \n",
       "3132861               3            12  \n",
       "...                 ...           ...  \n",
       "640506                5            11  \n",
       "7360491               4            15  \n",
       "13531632              1            12  \n",
       "12836186              3            11  \n",
       "14052778              7            11  \n",
       "\n",
       "[2530 rows x 13 columns]"
      ]
     },
     "execution_count": 67,
     "metadata": {},
     "output_type": "execute_result"
    }
   ],
   "source": [
    "df_enriched[df_enriched['table_count']>10].dropna().sort_values(by=['table_id','cluster_id'])"
   ]
  },
  {
   "cell_type": "code",
   "execution_count": null,
   "metadata": {},
   "outputs": [],
   "source": []
  },
  {
   "cell_type": "code",
   "execution_count": null,
   "metadata": {},
   "outputs": [],
   "source": []
  }
 ],
 "metadata": {
  "kernelspec": {
   "display_name": "Python 3",
   "language": "python",
   "name": "python3"
  },
  "language_info": {
   "codemirror_mode": {
    "name": "ipython",
    "version": 3
   },
   "file_extension": ".py",
   "mimetype": "text/x-python",
   "name": "python",
   "nbconvert_exporter": "python",
   "pygments_lexer": "ipython3",
   "version": "3.8.8"
  }
 },
 "nbformat": 4,
 "nbformat_minor": 4
}