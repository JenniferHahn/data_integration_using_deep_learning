{
 "cells": [
  {
   "cell_type": "code",
   "execution_count": 1,
   "id": "29c792b9",
   "metadata": {},
   "outputs": [],
   "source": [
    "import pandas as pd\n",
    "import json \n",
    "import gzip\n",
    "import os\n",
    "\n",
    "import nltk\n",
    "from nltk.corpus import stopwords\n",
    "import string\n",
    "from gensim.models.doc2vec import Doc2Vec, TaggedDocument\n",
    "from nltk.tokenize import word_tokenize"
   ]
  },
  {
   "cell_type": "code",
   "execution_count": 2,
   "id": "c92df947",
   "metadata": {},
   "outputs": [],
   "source": [
    "data_path = '../src/data'\n",
    "mapping_corpus_path_2 = data_path + r'/product/lspc2020_to_tablecorpus/Cleaned'\n",
    "notebook_path = '../notebooks'\n",
    "product_path = os.path.join(data_path, 'product')"
   ]
  },
  {
   "cell_type": "code",
   "execution_count": null,
   "id": "30004b4f",
   "metadata": {},
   "outputs": [],
   "source": [
    "#cluster_df = pd.read_json(os.path.join(mapping_corpus_path_2, 'df_large_matched.json'), compression='gzip', orient='records', lines=True)\n",
    "clothes_cluster_df = pd.read_json(os.path.join(mapping_corpus_path_2, 'joined_clothes_v3.json'), compression='gzip', orient='records', lines=True)\n",
    "#bikes_cluster_df = pd.read_json(os.path.join(mapping_corpus_path_2, 'joined_bikes.json'), compression='gzip', orient='records', lines=True)\n",
    "#cars_cluster_df = pd.read_json(os.path.join(mapping_corpus_path_2, 'joined_cars.json'), compression='gzip', orient='records', lines=True)\n",
    "#drugstore_cluster_df = pd.read_json(os.path.join(mapping_corpus_path_2, 'joined_drugstore.json'), compression='gzip', orient='records', lines=True)\n",
    "#electronics_cluster_df = pd.read_json(os.path.join(mapping_corpus_path_2, 'joined_electronics_v3.json'), compression='gzip', orient='records', lines=True)\n",
    "#technology_cluster_df = pd.read_json(os.path.join(mapping_corpus_path_2, 'joined_technology.json'), compression='gzip', orient='records', lines=True)\n",
    "#tools_cluster_df = pd.read_json(os.path.join(mapping_corpus_path_2, 'joined_tools.json'), compression='gzip', orient='records', lines=True)\n",
    "#random_cluster_df = pd.read_json(os.path.join(mapping_corpus_path_2, 'joined_random.json'), compression='gzip', orient='records', lines=True)"
   ]
  },
  {
   "cell_type": "code",
   "execution_count": null,
   "id": "c1a224df",
   "metadata": {},
   "outputs": [],
   "source": [
    "clothes_final_entities_df = pd.read_csv(os.path.join(mapping_corpus_path_2, 'Clothes_cluster_8_tables.csv'), index_col=None)\n",
    "clothes_final_entities_list = clothes_final_entities_df['cluster_id']"
   ]
  },
  {
   "cell_type": "code",
   "execution_count": null,
   "id": "77d0e769",
   "metadata": {},
   "outputs": [],
   "source": [
    "clothes_clusters_all_8_df = clothes_cluster_df[clothes_cluster_df['cluster_id'].isin(clothes_final_entities_list)]\n",
    "#bikes_clusters_all_8_df = bikes_cluster_df[bikes_cluster_df['cluster_id'].isin(bikes_final_entities_list)]\n",
    "#cars_clusters_all_8_df = cars_cluster_df[cars_cluster_df['cluster_id'].isin(cars_final_entities_list)]\n",
    "#drugstore_clusters_all_8_df = drugstore_cluster_df[drugstore_cluster_df['cluster_id'].isin(drugstore_final_entities_list)]\n",
    "#electronics_clusters_all_8_df = electronics_cluster_df[electronics_cluster_df['cluster_id'].isin(electronics_final_entities_list)]\n",
    "#technology_clusters_all_8_df = technology_cluster_df[technology_cluster_df['cluster_id'].isin(technology_final_entities_list)]\n",
    "#tools_clusters_all_8_df = tools_cluster_df[tools_cluster_df['cluster_id'].isin(tools_final_entities_list)]\n",
    "#random_clusters_all_8_df = random_cluster_df[random_cluster_df['cluster_id'].isin(random_final_entities_list)]\n",
    "\n",
    "clothes_clusters_all_8_df.to_csv(os.path.join(mapping_corpus_path_2, 'Clothes_clusters_all_8_tables_v3.csv'), columns=None)\n",
    "#bikes_clusters_all_8_df.to_csv(os.path.join(mapping_corpus_path_2, 'Bikes_clusters_all_8_tables.csv'), columns=None)\n",
    "#cars_clusters_all_8_df.to_csv(os.path.join(mapping_corpus_path_2, 'Cars_clusters_all_8_tables.csv'), columns=None)\n",
    "#drugstore_clusters_all_8_df.to_csv(os.path.join(mapping_corpus_path_2, 'Drugstore_clusters_all_8_tables.csv'), columns=None)\n",
    "#electronics_clusters_all_8_df.to_csv(os.path.join(mapping_corpus_path_2, 'Electronics_clusters_all_8_tables.csv'), columns=None)\n",
    "#technology_clusters_all_8_df.to_csv(os.path.join(mapping_corpus_path_2, 'Technology_clusters_all_8_tables.csv'), columns=None)\n",
    "#tools_clusters_all_8_df.to_csv(os.path.join(mapping_corpus_path_2, 'Tools_clusters_all_8_tables.csv'), columns=None)\n",
    "#random_clusters_all_8_df.to_csv(os.path.join(mapping_corpus_path_2, 'Random_clusters_all_8_tables.csv'), columns=None)"
   ]
  },
  {
   "cell_type": "code",
   "execution_count": null,
   "id": "aa6bd784",
   "metadata": {},
   "outputs": [],
   "source": []
  }
 ],
 "metadata": {
  "kernelspec": {
   "display_name": "Python 3 (ipykernel)",
   "language": "python",
   "name": "python3"
  },
  "language_info": {
   "codemirror_mode": {
    "name": "ipython",
    "version": 3
   },
   "file_extension": ".py",
   "mimetype": "text/x-python",
   "name": "python",
   "nbconvert_exporter": "python",
   "pygments_lexer": "ipython3",
   "version": "3.8.8"
  }
 },
 "nbformat": 4,
 "nbformat_minor": 5
}
