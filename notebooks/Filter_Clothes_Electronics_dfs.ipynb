{
 "cells": [
  {
   "cell_type": "code",
   "execution_count": 2,
   "id": "1c6dbea9",
   "metadata": {},
   "outputs": [],
   "source": [
    "import pandas as pd\n",
    "import json \n",
    "import gzip\n",
    "import os\n",
    "\n",
    "import nltk\n",
    "from nltk.corpus import stopwords\n",
    "import string\n",
    "from gensim.models.doc2vec import Doc2Vec, TaggedDocument\n",
    "from nltk.tokenize import word_tokenize"
   ]
  },
  {
   "cell_type": "code",
   "execution_count": 3,
   "id": "c2064631",
   "metadata": {},
   "outputs": [],
   "source": [
    "data_path = '../src/data'\n",
    "mapping_corpus_path_2 = data_path + r'/product/lspc2020_to_tablecorpus/Cleaned'\n",
    "notebook_path = '../notebooks'\n",
    "product_path = os.path.join(data_path, 'product')"
   ]
  },
  {
   "cell_type": "code",
   "execution_count": 3,
   "id": "aa247ee9",
   "metadata": {},
   "outputs": [],
   "source": [
    "cluster_df = pd.read_json(os.path.join(mapping_corpus_path_2, 'df_large_matched.json'), compression='gzip', orient='records', lines=True)"
   ]
  },
  {
   "cell_type": "code",
   "execution_count": 3,
   "id": "ae650f8e",
   "metadata": {},
   "outputs": [],
   "source": [
    "electronics_final_entities_df = pd.read_csv(os.path.join(notebook_path, 'electronics_clusters_15_tables.csv'), index_col=None)\n",
    "electronics_final_entities_list = electronics_final_entities_df['cluster_id']"
   ]
  },
  {
   "cell_type": "code",
   "execution_count": 4,
   "id": "92e4e986",
   "metadata": {},
   "outputs": [],
   "source": [
    "clothes_final_entities_df = pd.read_csv(os.path.join(notebook_path, 'clothes_clusters_10_tables.csv'), index_col=None)\n",
    "clothes_final_entities_list = clothes_final_entities_df['cluster_id']"
   ]
  },
  {
   "cell_type": "code",
   "execution_count": 5,
   "id": "a7030984",
   "metadata": {
    "scrolled": true
   },
   "outputs": [
    {
     "ename": "NameError",
     "evalue": "name 'cluster_df' is not defined",
     "output_type": "error",
     "traceback": [
      "\u001b[0;31m---------------------------------------------------------------------------\u001b[0m",
      "\u001b[0;31mNameError\u001b[0m                                 Traceback (most recent call last)",
      "\u001b[0;32m<ipython-input-5-d841cce5dfae>\u001b[0m in \u001b[0;36m<module>\u001b[0;34m\u001b[0m\n\u001b[0;32m----> 1\u001b[0;31m \u001b[0melectronics_clusters_all_15_df\u001b[0m \u001b[0;34m=\u001b[0m \u001b[0mcluster_df\u001b[0m\u001b[0;34m[\u001b[0m\u001b[0mcluster_df\u001b[0m\u001b[0;34m[\u001b[0m\u001b[0;34m'cluster_id'\u001b[0m\u001b[0;34m]\u001b[0m\u001b[0;34m.\u001b[0m\u001b[0misin\u001b[0m\u001b[0;34m(\u001b[0m\u001b[0melectronics_final_entities_list\u001b[0m\u001b[0;34m)\u001b[0m\u001b[0;34m]\u001b[0m\u001b[0;34m\u001b[0m\u001b[0;34m\u001b[0m\u001b[0m\n\u001b[0m",
      "\u001b[0;31mNameError\u001b[0m: name 'cluster_df' is not defined"
     ]
    }
   ],
   "source": [
    "electronics_clusters_all_15_df = cluster_df[cluster_df['cluster_id'].isin(electronics_final_entities_list)]"
   ]
  },
  {
   "cell_type": "code",
   "execution_count": null,
   "id": "2723d93c",
   "metadata": {},
   "outputs": [],
   "source": [
    "clothes_clusters_all_10_df = cluster_df[cluster_df['cluster_id'].isin(clothes_final_entities_list)]"
   ]
  },
  {
   "cell_type": "code",
   "execution_count": 8,
   "id": "c6ddba82",
   "metadata": {},
   "outputs": [],
   "source": [
    "electronics_clusters_all_15_df.to_csv(os.path.join(mapping_corpus_path_2, 'electronics_clusters_all_15_tables.csv'), columns=None)"
   ]
  },
  {
   "cell_type": "code",
   "execution_count": 9,
   "id": "f61fb258",
   "metadata": {},
   "outputs": [],
   "source": [
    "clothes_clusters_all_10_df.to_csv(os.path.join(mapping_corpus_path_2, 'clothes_clusters_all_10_tables.csv'), columns=None)"
   ]
  },
  {
   "cell_type": "markdown",
   "id": "05c14d0a",
   "metadata": {},
   "source": [
    "## Run from here"
   ]
  },
  {
   "cell_type": "code",
   "execution_count": 4,
   "id": "26d33400",
   "metadata": {},
   "outputs": [],
   "source": [
    "def remove_stopwords(token_vector, stopwords_list):\n",
    "    return token_vector.apply(lambda token_list: [word for word in token_list if word not in stopwords_list])"
   ]
  },
  {
   "cell_type": "code",
   "execution_count": 5,
   "id": "33c0b24e",
   "metadata": {},
   "outputs": [],
   "source": [
    "def remove_punctuation(token_vector):\n",
    "    return token_vector.apply(lambda token_list: [word for word in token_list if word not in string.punctuation])"
   ]
  },
  {
   "cell_type": "code",
   "execution_count": 6,
   "id": "178c4b25",
   "metadata": {},
   "outputs": [],
   "source": [
    "# read final dataframes with all cluster_ids left for electronics and clothes\n",
    "electronics_clusters_all_15_df = pd.read_csv(os.path.join(mapping_corpus_path_2, 'electronics_clusters_all_15_tables.csv'), index_col=None)\n",
    "clothes_clusters_all_10_df = pd.read_csv(os.path.join(mapping_corpus_path_2, 'clothes_clusters_all_10_tables.csv'), index_col=None)"
   ]
  },
  {
   "cell_type": "code",
   "execution_count": 7,
   "id": "8eb51076",
   "metadata": {},
   "outputs": [],
   "source": [
    "# generate lists for final cluster_ids for electronics and clothes\n",
    "electronics_final_entities_df = pd.read_csv(os.path.join(notebook_path, 'electronics_clusters_15_tables.csv'),index_col=None)\n",
    "electronics_final_entities_list = electronics_final_entities_df['cluster_id']\n",
    "\n",
    "clothes_final_entities_df = pd.read_csv(os.path.join(notebook_path, 'clothes_clusters_10_tables.csv'),index_col=None)\n",
    "clothes_final_entities_list = clothes_final_entities_df['cluster_id']"
   ]
  },
  {
   "cell_type": "code",
   "execution_count": 8,
   "id": "1682e2bf",
   "metadata": {},
   "outputs": [],
   "source": [
    "# generate lists for valid electronics and clothes brands\n",
    "with open(os.path.join(product_path, 'brands_dict.json'), 'r', encoding='utf-8') as f:\n",
    "    brands_dict = json.load(f)\n",
    "\n",
    "electronics_valid_brands = brands_dict['electronics_total']\n",
    "clothes_valid_brands = brands_dict['clothes']"
   ]
  },
  {
   "cell_type": "code",
   "execution_count": 9,
   "id": "34e867a9",
   "metadata": {},
   "outputs": [],
   "source": [
    "# lowercase name column for similarity measure\n",
    "electronics_clusters_all_15_df['name'] = electronics_clusters_all_15_df['name'].apply(lambda row: str(row).lower())\n",
    "clothes_clusters_all_10_df['name'] = clothes_clusters_all_10_df['name'].apply(lambda row: str(row).lower())"
   ]
  },
  {
   "cell_type": "code",
   "execution_count": 10,
   "id": "c5ae21ec",
   "metadata": {},
   "outputs": [],
   "source": [
    "# use tokenizer for name column to get tokens for training the model, remove stopwords and punctuation\n",
    "electronics_clusters_all_15_df['tokens'] = electronics_clusters_all_15_df['name'].apply(lambda row: word_tokenize(row))\n",
    "electronics_clusters_all_15_df['tokens'] = remove_stopwords(electronics_clusters_all_15_df['tokens'], stopwords.words())\n",
    "electronics_clusters_all_15_df['tokens'] = remove_punctuation(electronics_clusters_all_15_df['tokens'])\n",
    "\n",
    "clothes_clusters_all_10_df['tokens'] = clothes_clusters_all_10_df['name'].apply(lambda row: word_tokenize(row))\n",
    "clothes_clusters_all_10_df['tokens'] = remove_stopwords(clothes_clusters_all_10_df['tokens'],stopwords.words())\n",
    "clothes_clusters_all_10_df['tokens'] = remove_punctuation(clothes_clusters_all_10_df['tokens'])"
   ]
  },
  {
   "cell_type": "code",
   "execution_count": 11,
   "id": "4980c9f3",
   "metadata": {},
   "outputs": [],
   "source": [
    "# get tagged words\n",
    "tagged_data_electronics = [TaggedDocument(words=_d, tags=[str(i)]) for i, _d in enumerate(electronics_clusters_all_15_df['tokens'])]\n",
    "tagged_data_clothes = [TaggedDocument(words=_d, tags=[str(i)]) for i, _d in enumerate(clothes_clusters_all_10_df['tokens'])]"
   ]
  },
  {
   "cell_type": "code",
   "execution_count": 12,
   "id": "7fd4da85",
   "metadata": {},
   "outputs": [],
   "source": [
    "# build model and vocabulary for electronics (do same for clothes later)\n",
    "model_electronics = Doc2Vec(vector_size=50, min_count=5, epochs=25, dm=0)\n",
    "model_electronics.build_vocab(tagged_data_electronics)\n",
    "# Train model\n",
    "model_electronics.train(tagged_data_electronics, total_examples=model_electronics.corpus_count, epochs=25)"
   ]
  },
  {
   "cell_type": "markdown",
   "id": "82a81a95",
   "metadata": {},
   "source": [
    "### Change index label for testing here"
   ]
  },
  {
   "cell_type": "code",
   "execution_count": 122,
   "id": "be543e43",
   "metadata": {},
   "outputs": [],
   "source": [
    "electronics_single_cluster_id_df = electronics_clusters_all_15_df[electronics_clusters_all_15_df['cluster_id']==6443]"
   ]
  },
  {
   "cell_type": "code",
   "execution_count": 123,
   "id": "6ae0b0fb",
   "metadata": {},
   "outputs": [],
   "source": [
    "valid_brands = list(filter(lambda brand: brand in electronics_valid_brands, electronics_single_cluster_id_df['brand'].apply(lambda element: str(element).lower())))"
   ]
  },
  {
   "cell_type": "code",
   "execution_count": 124,
   "id": "e30cc74c",
   "metadata": {},
   "outputs": [
    {
     "data": {
      "text/plain": [
       "['canon']"
      ]
     },
     "execution_count": 124,
     "metadata": {},
     "output_type": "execute_result"
    }
   ],
   "source": [
    "valid_brands"
   ]
  },
  {
   "cell_type": "code",
   "execution_count": 125,
   "id": "410437be",
   "metadata": {},
   "outputs": [],
   "source": [
    "most_common_brand = max(valid_brands, key=valid_brands.count)"
   ]
  },
  {
   "cell_type": "code",
   "execution_count": 126,
   "id": "8d9f3cfe",
   "metadata": {},
   "outputs": [
    {
     "data": {
      "text/plain": [
       "'canon'"
      ]
     },
     "execution_count": 126,
     "metadata": {},
     "output_type": "execute_result"
    }
   ],
   "source": [
    "most_common_brand"
   ]
  },
  {
   "cell_type": "code",
   "execution_count": 127,
   "id": "2376ad19",
   "metadata": {},
   "outputs": [],
   "source": [
    "index_most_common = electronics_single_cluster_id_df[electronics_single_cluster_id_df['brand'].apply(lambda element: str(element).lower()) == most_common_brand].index[0]"
   ]
  },
  {
   "cell_type": "code",
   "execution_count": 128,
   "id": "095cbea4",
   "metadata": {},
   "outputs": [
    {
     "data": {
      "text/plain": [
       "9821"
      ]
     },
     "execution_count": 128,
     "metadata": {},
     "output_type": "execute_result"
    }
   ],
   "source": [
    "index_most_common"
   ]
  },
  {
   "cell_type": "code",
   "execution_count": 129,
   "id": "09c502ce",
   "metadata": {},
   "outputs": [],
   "source": [
    "similar_doc = model_electronics.docvecs.most_similar(f'{index_most_common}', topn=electronics_clusters_all_15_df.shape[0])"
   ]
  },
  {
   "cell_type": "code",
   "execution_count": 130,
   "id": "f8047349",
   "metadata": {},
   "outputs": [],
   "source": [
    "similar_doc_cluster = [tup for tup in similar_doc if int(tup[0]) in list(electronics_single_cluster_id_df.index)]"
   ]
  },
  {
   "cell_type": "code",
   "execution_count": 131,
   "id": "9f2c967f",
   "metadata": {},
   "outputs": [
    {
     "data": {
      "text/plain": [
       "[('17211', 0.9915350675582886),\n",
       " ('7698', 0.9530832767486572),\n",
       " ('19449', 0.945699155330658),\n",
       " ('2297', 0.9418596029281616),\n",
       " ('5358', 0.9416583776473999),\n",
       " ('20071', 0.9407882690429688),\n",
       " ('17273', 0.9397830963134766),\n",
       " ('16897', 0.9396624565124512),\n",
       " ('20102', 0.9390707015991211),\n",
       " ('4816', 0.9385650157928467),\n",
       " ('16215', 0.9385466575622559),\n",
       " ('2626', 0.9383862614631653),\n",
       " ('18583', 0.9380822777748108),\n",
       " ('18035', 0.9378562569618225),\n",
       " ('15932', 0.9371479153633118),\n",
       " ('3016', 0.9366330504417419),\n",
       " ('12465', 0.9360285401344299),\n",
       " ('3085', 0.935420572757721),\n",
       " ('16165', 0.9329388737678528),\n",
       " ('3727', 0.9277349710464478),\n",
       " ('4926', 0.8776125907897949),\n",
       " ('11676', 0.8206188082695007),\n",
       " ('19230', 0.07203356921672821),\n",
       " ('15834', -0.0624079592525959)]"
      ]
     },
     "execution_count": 131,
     "metadata": {},
     "output_type": "execute_result"
    }
   ],
   "source": [
    "similar_doc_cluster"
   ]
  },
  {
   "cell_type": "code",
   "execution_count": 132,
   "id": "783d721f",
   "metadata": {},
   "outputs": [],
   "source": [
    "similar_doc_cluster_similarities = [tup[1] for tup in similar_doc_cluster]"
   ]
  },
  {
   "cell_type": "code",
   "execution_count": 133,
   "id": "e9bf9802",
   "metadata": {},
   "outputs": [],
   "source": [
    "similar_doc_cluster_distances = [abs(x - similar_doc_cluster_similarities[i - 1]) for i, x in enumerate(similar_doc_cluster_similarities)][1:]"
   ]
  },
  {
   "cell_type": "code",
   "execution_count": 134,
   "id": "175ccb81",
   "metadata": {},
   "outputs": [
    {
     "data": {
      "text/plain": [
       "0.7485852390527725"
      ]
     },
     "execution_count": 134,
     "metadata": {},
     "output_type": "execute_result"
    }
   ],
   "source": [
    "max_distance = max(similar_doc_cluster_distances)\n",
    "max_distance"
   ]
  },
  {
   "cell_type": "code",
   "execution_count": 135,
   "id": "a3ff1423",
   "metadata": {},
   "outputs": [
    {
     "data": {
      "text/plain": [
       "21"
      ]
     },
     "execution_count": 135,
     "metadata": {},
     "output_type": "execute_result"
    }
   ],
   "source": [
    "max_distance_index = similar_doc_cluster_distances.index(max_distance)\n",
    "max_distance_index"
   ]
  },
  {
   "cell_type": "code",
   "execution_count": 136,
   "id": "6c60290d",
   "metadata": {},
   "outputs": [],
   "source": [
    "def jaccard_similarity_score(original, translation):\n",
    "    intersect = set(original).intersection(set(translation))\n",
    "    union = set(original).union(set(translation))\n",
    "    try:\n",
    "        return len(intersect) / len(union)\n",
    "    except ZeroDivisionError:\n",
    "        return 0"
   ]
  },
  {
   "cell_type": "code",
   "execution_count": 137,
   "id": "e20a858e",
   "metadata": {},
   "outputs": [
    {
     "data": {
      "text/plain": [
       "2297           z-man games carcassonne 3 princess & dragon\n",
       "2626        earthbath ultra-mild wild cherry puppy shampoo\n",
       "3016                               eric javits phoenix hat\n",
       "3085           earthbath shampoing sans larmes pour chiots\n",
       "3727                 macallan carn mor 1989 26yo 42.5% abv\n",
       "4816          earthbath dog shampoo ultra-mild puppy, 16oz\n",
       "4926               earthbath ultra mild puppy shampoo 16oz\n",
       "5358                             star shaped lollipop mold\n",
       "7698                                     di2 ew-sd50 cable\n",
       "9821     canon eos r mirrorless digital camera with 24-...\n",
       "11676                            electric wire,200mm black\n",
       "12465                          hop cone crown caps - 12 pk\n",
       "15834                                     taproot magazine\n",
       "15932           four virtues bourbon barrel aged zinfandel\n",
       "16165               earthbath earthbath puppy shampoo 16oz\n",
       "16215                      shimano wire for di2 gear 20 cm\n",
       "16897           cocktail kingdom shaking tin - gold plated\n",
       "17211    canon eos r mirrorless camera with rf 24-105mm...\n",
       "17273       earthbath ultra-mild wild cherry puppy shampoo\n",
       "18035                   earth bath dog shampoo puppy 473ml\n",
       "18583                  earthbath puppy shampoo, 16 fl. oz.\n",
       "19230                              association/association\n",
       "19449    earthbath 472ml ultra-mild puppy shampoo wild ...\n",
       "20071                     echinacea premium - 200ml liquid\n",
       "20102           hp velotechnik scorpion fx 20 orange trike\n",
       "Name: name, dtype: object"
      ]
     },
     "execution_count": 137,
     "metadata": {},
     "output_type": "execute_result"
    }
   ],
   "source": [
    "electronics_single_cluster_id_df['name']"
   ]
  },
  {
   "cell_type": "code",
   "execution_count": 138,
   "id": "feaf92aa",
   "metadata": {},
   "outputs": [],
   "source": [
    "jaccard_score = electronics_single_cluster_id_df['name'].apply(lambda row: jaccard_similarity_score(row,electronics_single_cluster_id_df['name'].loc[int(index_most_common)]))"
   ]
  },
  {
   "cell_type": "code",
   "execution_count": 139,
   "id": "01fefed7",
   "metadata": {},
   "outputs": [],
   "source": [
    "jaccard_score = jaccard_score.drop(int(index_most_common)).sort_values(ascending=False)"
   ]
  },
  {
   "cell_type": "code",
   "execution_count": 140,
   "id": "6ee6d636",
   "metadata": {},
   "outputs": [
    {
     "data": {
      "text/plain": [
       "17211    0.800000\n",
       "16215    0.695652\n",
       "19449    0.629630\n",
       "16897    0.625000\n",
       "17273    0.576923\n",
       "2626     0.576923\n",
       "7698     0.565217\n",
       "20071    0.560000\n",
       "3085     0.560000\n",
       "20102    0.555556\n",
       "12465    0.541667\n",
       "5358     0.521739\n",
       "4816     0.517241\n",
       "2297     0.500000\n",
       "11676    0.480000\n",
       "4926     0.464286\n",
       "18035    0.464286\n",
       "15932    0.444444\n",
       "3016     0.423077\n",
       "15834    0.416667\n",
       "3727     0.400000\n",
       "16165    0.357143\n",
       "18583    0.354839\n",
       "19230    0.304348\n",
       "Name: name, dtype: float64"
      ]
     },
     "execution_count": 140,
     "metadata": {},
     "output_type": "execute_result"
    }
   ],
   "source": [
    "jaccard_score"
   ]
  },
  {
   "cell_type": "code",
   "execution_count": null,
   "id": "24356487",
   "metadata": {},
   "outputs": [],
   "source": []
  }
 ],
 "metadata": {
  "kernelspec": {
   "display_name": "Python 3 (ipykernel)",
   "language": "python",
   "name": "python3"
  },
  "language_info": {
   "codemirror_mode": {
    "name": "ipython",
    "version": 3
   },
   "file_extension": ".py",
   "mimetype": "text/x-python",
   "name": "python",
   "nbconvert_exporter": "python",
   "pygments_lexer": "ipython3",
   "version": "3.8.8"
  }
 },
 "nbformat": 4,
 "nbformat_minor": 5
}
