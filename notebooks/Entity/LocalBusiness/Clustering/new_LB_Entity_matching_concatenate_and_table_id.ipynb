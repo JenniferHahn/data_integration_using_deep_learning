{
 "cells": [
  {
   "cell_type": "code",
   "execution_count": 1,
   "id": "90c6e08b",
   "metadata": {
    "pycharm": {
     "is_executing": true
    }
   },
   "outputs": [],
   "source": [
    "#!pip install rank-bm25\n",
    "#from rank_bm25 import BM25Okapi\n",
    "import pandas as pd\n",
    "#import matplotlib.pyplot as plt\n",
    "#import seaborn as sns\n",
    "import os\n",
    "from os import listdir\n",
    "from os.path import isfile, join\n",
    "import re\n",
    "import numpy as np\n",
    "from math import floor, ceil\n",
    "\n",
    "import json\n",
    "import gzip\n",
    "\n",
    "from os import walk\n",
    "from scipy.spatial import KDTree\n",
    "\n",
    "# !pip install geopy\n",
    "# !pip install phonenumbers\n",
    "# !pip install pycountry\n",
    "\n",
    "import geopy.distance\n",
    "import phonenumbers\n",
    "import pycountry\n",
    "\n"
   ]
  },
  {
   "cell_type": "code",
   "execution_count": 2,
   "id": "c508ee8f",
   "metadata": {},
   "outputs": [],
   "source": [
    "pd.options.display.max_columns = 100"
   ]
  },
  {
   "cell_type": "code",
   "execution_count": 3,
   "id": "f6183270",
   "metadata": {},
   "outputs": [],
   "source": [
    "path = r\"../../../../src/data\"\n",
    "lb_path_min3 = path + r\"/LocalBusiness/LocalBusiness_minimum3/geo_preprocessed\"\n",
    "lb_path_top100 = path + r\"/LocalBusiness/LocalBusiness_top100/geo_preprocessed\"\n",
    "lb_path_rest = path + r\"/LocalBusiness/LocalBusiness_rest/geo_preprocessed\"\n",
    "rest_path_min3 = path + r\"/Restaurant/Restaurant_minimum3/geo_preprocessed\"\n",
    "rest_path_top100 = path + r\"/Restaurant/Restaurant_top100/geo_preprocessed\"\n",
    "rest_path_rest = path + r\"/Restaurant/Restaurant_rest/geo_preprocessed\"\n",
    "hotel_path_min3 = path + r\"/Hotel/Hotel_minimum3/geo_preprocessed\"\n",
    "hotel_path_top100 = path + r\"/Hotel/Hotel_top100/geo_preprocessed\"\n",
    "hotel_path_rest = path + r\"/Hotel/Hotel_rest/geo_preprocessed\"\n",
    "\n",
    "\n",
    "file_path_list = [lb_path_min3, lb_path_top100, rest_path_min3, rest_path_top100, hotel_path_min3, hotel_path_top100, lb_path_rest, rest_path_rest, hotel_path_rest ]"
   ]
  },
  {
   "cell_type": "code",
   "execution_count": 4,
   "id": "6282d1ef",
   "metadata": {},
   "outputs": [],
   "source": [
    "def create_df(file_path):\n",
    "    files = os.listdir(file_path)\n",
    "    df_as_list = []\n",
    "    for lb in files:\n",
    "        with gzip.open(file_path + '/' + lb, 'r') as dataFile:\n",
    "            for line in dataFile:\n",
    "                lineData = json.loads(line.decode('utf-8'))\n",
    "                lineData[\"origin\"] = lb\n",
    "                df_as_list.append(lineData)\n",
    "    df = pd.DataFrame(df_as_list)\n",
    "    return df"
   ]
  },
  {
   "cell_type": "code",
   "execution_count": 5,
   "id": "c046a679",
   "metadata": {},
   "outputs": [],
   "source": [
    "df_list = []\n",
    "for file_path in file_path_list:\n",
    "    df = create_df(file_path)\n",
    "    df_list.append(df)"
   ]
  },
  {
   "cell_type": "markdown",
   "id": "0febf422",
   "metadata": {},
   "source": [
    "## Concatenate Dataframes"
   ]
  },
  {
   "cell_type": "code",
   "execution_count": 6,
   "id": "b5bcc144",
   "metadata": {},
   "outputs": [],
   "source": [
    "df_all = pd.concat(df_list, axis = 0, ignore_index = True)"
   ]
  },
  {
   "cell_type": "code",
   "execution_count": 7,
   "id": "3d134dc2",
   "metadata": {},
   "outputs": [
    {
     "data": {
      "text/plain": [
       "4856255"
      ]
     },
     "execution_count": 7,
     "metadata": {},
     "output_type": "execute_result"
    }
   ],
   "source": [
    "len(df_all)"
   ]
  },
  {
   "cell_type": "code",
   "execution_count": 32,
   "id": "bc4500fb",
   "metadata": {},
   "outputs": [
    {
     "name": "stdout",
     "output_type": "stream",
     "text": [
      "295428\n"
     ]
    }
   ],
   "source": [
    "print(df_all['origin'].nunique())"
   ]
  },
  {
   "cell_type": "code",
   "execution_count": 33,
   "id": "196a45df",
   "metadata": {},
   "outputs": [
    {
     "data": {
      "text/html": [
       "<div>\n",
       "<style scoped>\n",
       "    .dataframe tbody tr th:only-of-type {\n",
       "        vertical-align: middle;\n",
       "    }\n",
       "\n",
       "    .dataframe tbody tr th {\n",
       "        vertical-align: top;\n",
       "    }\n",
       "\n",
       "    .dataframe thead th {\n",
       "        text-align: right;\n",
       "    }\n",
       "</style>\n",
       "<table border=\"1\" class=\"dataframe\">\n",
       "  <thead>\n",
       "    <tr style=\"text-align: right;\">\n",
       "      <th></th>\n",
       "      <th>row_id</th>\n",
       "      <th>name</th>\n",
       "      <th>address</th>\n",
       "      <th>description</th>\n",
       "      <th>pricerange</th>\n",
       "      <th>founder</th>\n",
       "      <th>owns</th>\n",
       "      <th>page_url</th>\n",
       "      <th>addressregion</th>\n",
       "      <th>streetaddress</th>\n",
       "      <th>addresscountry</th>\n",
       "      <th>telephone_address</th>\n",
       "      <th>addresslocality</th>\n",
       "      <th>postalcode</th>\n",
       "      <th>origin</th>\n",
       "      <th>telephone</th>\n",
       "      <th>geo</th>\n",
       "      <th>sameas</th>\n",
       "      <th>latitude</th>\n",
       "      <th>longitude</th>\n",
       "      <th>url</th>\n",
       "      <th>aggregaterating</th>\n",
       "      <th>image</th>\n",
       "      <th>openinghours</th>\n",
       "      <th>review</th>\n",
       "      <th>email</th>\n",
       "      <th>contactpoint</th>\n",
       "      <th>reviews</th>\n",
       "      <th>employees</th>\n",
       "      <th>faxnumber</th>\n",
       "      <th>about</th>\n",
       "      <th>citystatezip</th>\n",
       "      <th>openinghoursspecification</th>\n",
       "      <th>areaserved</th>\n",
       "      <th>location</th>\n",
       "      <th>paymentaccepted</th>\n",
       "      <th>currenciesaccepted</th>\n",
       "      <th>legalname</th>\n",
       "      <th>photos</th>\n",
       "      <th>photo</th>\n",
       "      <th>logo</th>\n",
       "      <th>alternatename</th>\n",
       "      <th>brand</th>\n",
       "      <th>department</th>\n",
       "      <th>makesoffer</th>\n",
       "      <th>map</th>\n",
       "      <th>award</th>\n",
       "      <th>hasmap</th>\n",
       "      <th>isicv4</th>\n",
       "      <th>foundingdate</th>\n",
       "      <th>...</th>\n",
       "      <th>sms</th>\n",
       "      <th>mailto</th>\n",
       "      <th>tollffee</th>\n",
       "      <th>dissolutiondate</th>\n",
       "      <th>adressregion</th>\n",
       "      <th>worksfor</th>\n",
       "      <th>opening_hours</th>\n",
       "      <th>email_address</th>\n",
       "      <th>slug</th>\n",
       "      <th>\\u201caddressregion\\\"</th>\n",
       "      <th>line</th>\n",
       "      <th>isfamilyfriendly</th>\n",
       "      <th>actors</th>\n",
       "      <th>faxno</th>\n",
       "      <th>addresslocalilty</th>\n",
       "      <th>subtitle</th>\n",
       "      <th>t\\u00e9l\\u00e9phone</th>\n",
       "      <th>weekendhours</th>\n",
       "      <th>secondarytelephone</th>\n",
       "      <th>primarytelephone</th>\n",
       "      <th>weekdayhours</th>\n",
       "      <th>addressinfo</th>\n",
       "      <th>menusection</th>\n",
       "      <th>deliverymethod</th>\n",
       "      <th>streetaddressline2</th>\n",
       "      <th>hasmenusection</th>\n",
       "      <th>telepone</th>\n",
       "      <th>cccc</th>\n",
       "      <th>hasdescription</th>\n",
       "      <th>resources</th>\n",
       "      <th>facilities-list</th>\n",
       "      <th>vatnumber</th>\n",
       "      <th>streetaddressline1</th>\n",
       "      <th>numadults</th>\n",
       "      <th>mobilenumber</th>\n",
       "      <th>@image</th>\n",
       "      <th>@logo</th>\n",
       "      <th>result</th>\n",
       "      <th>google+</th>\n",
       "      <th>numchildren</th>\n",
       "      <th>local</th>\n",
       "      <th>floorlevel</th>\n",
       "      <th>yearbuilt</th>\n",
       "      <th>value</th>\n",
       "      <th>itemlistorder</th>\n",
       "      <th>typeofgood</th>\n",
       "      <th>hotelname</th>\n",
       "      <th>piva</th>\n",
       "      <th>offersservice</th>\n",
       "      <th>hasamenity</th>\n",
       "    </tr>\n",
       "  </thead>\n",
       "  <tbody>\n",
       "    <tr>\n",
       "      <th>4856250</th>\n",
       "      <td>0</td>\n",
       "      <td>Majycc</td>\n",
       "      <td>{'addresslocality': 'Paris', 'addresscountry':...</td>\n",
       "      <td>Majycc</td>\n",
       "      <td>NaN</td>\n",
       "      <td>NaN</td>\n",
       "      <td>NaN</td>\n",
       "      <td>https://www.majycc.com/fonciere</td>\n",
       "      <td>NaN</td>\n",
       "      <td>10 Rue Treilhard</td>\n",
       "      <td>FR</td>\n",
       "      <td>NaN</td>\n",
       "      <td>Paris</td>\n",
       "      <td>75008</td>\n",
       "      <td>Hotel_majycc.com_September2020.json.gz</td>\n",
       "      <td>XX XX XX XX XX</td>\n",
       "      <td>NaN</td>\n",
       "      <td>NaN</td>\n",
       "      <td>NaN</td>\n",
       "      <td>NaN</td>\n",
       "      <td>NaN</td>\n",
       "      <td>NaN</td>\n",
       "      <td>NaN</td>\n",
       "      <td>NaN</td>\n",
       "      <td>NaN</td>\n",
       "      <td>NaN</td>\n",
       "      <td>NaN</td>\n",
       "      <td>NaN</td>\n",
       "      <td>NaN</td>\n",
       "      <td>NaN</td>\n",
       "      <td>NaN</td>\n",
       "      <td>NaN</td>\n",
       "      <td>NaN</td>\n",
       "      <td>NaN</td>\n",
       "      <td>NaN</td>\n",
       "      <td>NaN</td>\n",
       "      <td>NaN</td>\n",
       "      <td>NaN</td>\n",
       "      <td>NaN</td>\n",
       "      <td>NaN</td>\n",
       "      <td>NaN</td>\n",
       "      <td>NaN</td>\n",
       "      <td>NaN</td>\n",
       "      <td>NaN</td>\n",
       "      <td>NaN</td>\n",
       "      <td>NaN</td>\n",
       "      <td>NaN</td>\n",
       "      <td>NaN</td>\n",
       "      <td>NaN</td>\n",
       "      <td>NaN</td>\n",
       "      <td>...</td>\n",
       "      <td>NaN</td>\n",
       "      <td>NaN</td>\n",
       "      <td>NaN</td>\n",
       "      <td>NaN</td>\n",
       "      <td>NaN</td>\n",
       "      <td>NaN</td>\n",
       "      <td>NaN</td>\n",
       "      <td>NaN</td>\n",
       "      <td>NaN</td>\n",
       "      <td>NaN</td>\n",
       "      <td>NaN</td>\n",
       "      <td>NaN</td>\n",
       "      <td>NaN</td>\n",
       "      <td>NaN</td>\n",
       "      <td>NaN</td>\n",
       "      <td>NaN</td>\n",
       "      <td>NaN</td>\n",
       "      <td>NaN</td>\n",
       "      <td>NaN</td>\n",
       "      <td>NaN</td>\n",
       "      <td>NaN</td>\n",
       "      <td>NaN</td>\n",
       "      <td>NaN</td>\n",
       "      <td>NaN</td>\n",
       "      <td>NaN</td>\n",
       "      <td>NaN</td>\n",
       "      <td>NaN</td>\n",
       "      <td>NaN</td>\n",
       "      <td>NaN</td>\n",
       "      <td>NaN</td>\n",
       "      <td>NaN</td>\n",
       "      <td>NaN</td>\n",
       "      <td>NaN</td>\n",
       "      <td>NaN</td>\n",
       "      <td>NaN</td>\n",
       "      <td>NaN</td>\n",
       "      <td>NaN</td>\n",
       "      <td>NaN</td>\n",
       "      <td>NaN</td>\n",
       "      <td>NaN</td>\n",
       "      <td>NaN</td>\n",
       "      <td>NaN</td>\n",
       "      <td>NaN</td>\n",
       "      <td>NaN</td>\n",
       "      <td>NaN</td>\n",
       "      <td>NaN</td>\n",
       "      <td>NaN</td>\n",
       "      <td>NaN</td>\n",
       "      <td>NaN</td>\n",
       "      <td>NaN</td>\n",
       "    </tr>\n",
       "    <tr>\n",
       "      <th>4856251</th>\n",
       "      <td>0</td>\n",
       "      <td>Soggiorno La Coccinella - Florence - Italy</td>\n",
       "      <td>{'postalcode': '50144', 'addresslocality': 'Fl...</td>\n",
       "      <td>Soggiorno La Coccinella is located in the Port...</td>\n",
       "      <td>NaN</td>\n",
       "      <td>NaN</td>\n",
       "      <td>NaN</td>\n",
       "      <td>https://www.soggiornolacoccinella.com/en-us</td>\n",
       "      <td>NaN</td>\n",
       "      <td>Viale Belfiore 58</td>\n",
       "      <td>NaN</td>\n",
       "      <td>NaN</td>\n",
       "      <td>Florence</td>\n",
       "      <td>50144</td>\n",
       "      <td>Hotel_soggiornolacoccinella.com_September2020....</td>\n",
       "      <td>+39 392 220 7801</td>\n",
       "      <td>NaN</td>\n",
       "      <td>NaN</td>\n",
       "      <td>NaN</td>\n",
       "      <td>NaN</td>\n",
       "      <td>NaN</td>\n",
       "      <td>{'ratingvalue': '8.1E0', 'reviewcount': '265',...</td>\n",
       "      <td>NaN</td>\n",
       "      <td>NaN</td>\n",
       "      <td>NaN</td>\n",
       "      <td>NaN</td>\n",
       "      <td>NaN</td>\n",
       "      <td>NaN</td>\n",
       "      <td>NaN</td>\n",
       "      <td>NaN</td>\n",
       "      <td>NaN</td>\n",
       "      <td>NaN</td>\n",
       "      <td>NaN</td>\n",
       "      <td>NaN</td>\n",
       "      <td>NaN</td>\n",
       "      <td>NaN</td>\n",
       "      <td>NaN</td>\n",
       "      <td>NaN</td>\n",
       "      <td>NaN</td>\n",
       "      <td>NaN</td>\n",
       "      <td>NaN</td>\n",
       "      <td>NaN</td>\n",
       "      <td>NaN</td>\n",
       "      <td>NaN</td>\n",
       "      <td>NaN</td>\n",
       "      <td>NaN</td>\n",
       "      <td>NaN</td>\n",
       "      <td>NaN</td>\n",
       "      <td>NaN</td>\n",
       "      <td>NaN</td>\n",
       "      <td>...</td>\n",
       "      <td>NaN</td>\n",
       "      <td>NaN</td>\n",
       "      <td>NaN</td>\n",
       "      <td>NaN</td>\n",
       "      <td>NaN</td>\n",
       "      <td>NaN</td>\n",
       "      <td>NaN</td>\n",
       "      <td>NaN</td>\n",
       "      <td>NaN</td>\n",
       "      <td>NaN</td>\n",
       "      <td>NaN</td>\n",
       "      <td>NaN</td>\n",
       "      <td>NaN</td>\n",
       "      <td>NaN</td>\n",
       "      <td>NaN</td>\n",
       "      <td>NaN</td>\n",
       "      <td>NaN</td>\n",
       "      <td>NaN</td>\n",
       "      <td>NaN</td>\n",
       "      <td>NaN</td>\n",
       "      <td>NaN</td>\n",
       "      <td>NaN</td>\n",
       "      <td>NaN</td>\n",
       "      <td>NaN</td>\n",
       "      <td>NaN</td>\n",
       "      <td>NaN</td>\n",
       "      <td>NaN</td>\n",
       "      <td>NaN</td>\n",
       "      <td>NaN</td>\n",
       "      <td>NaN</td>\n",
       "      <td>NaN</td>\n",
       "      <td>NaN</td>\n",
       "      <td>NaN</td>\n",
       "      <td>NaN</td>\n",
       "      <td>NaN</td>\n",
       "      <td>NaN</td>\n",
       "      <td>NaN</td>\n",
       "      <td>NaN</td>\n",
       "      <td>NaN</td>\n",
       "      <td>NaN</td>\n",
       "      <td>NaN</td>\n",
       "      <td>NaN</td>\n",
       "      <td>NaN</td>\n",
       "      <td>NaN</td>\n",
       "      <td>NaN</td>\n",
       "      <td>NaN</td>\n",
       "      <td>NaN</td>\n",
       "      <td>NaN</td>\n",
       "      <td>NaN</td>\n",
       "      <td>NaN</td>\n",
       "    </tr>\n",
       "    <tr>\n",
       "      <th>4856252</th>\n",
       "      <td>0</td>\n",
       "      <td>Regency Inn &amp; Suites Florida</td>\n",
       "      <td>{'addresslocality': 'De Funiak Springs', 'addr...</td>\n",
       "      <td>Regency Inn &amp;amp; Suites is an affordable fami...</td>\n",
       "      <td>NaN</td>\n",
       "      <td>NaN</td>\n",
       "      <td>NaN</td>\n",
       "      <td>https://www.regencyinnfl.com/</td>\n",
       "      <td>Florida</td>\n",
       "      <td>472 Hugh Adams Rd</td>\n",
       "      <td>USA</td>\n",
       "      <td>NaN</td>\n",
       "      <td>De Funiak Springs</td>\n",
       "      <td>32435</td>\n",
       "      <td>Hotel_regencyinnfl.com_September2020.json.gz</td>\n",
       "      <td>(850) 892-6115</td>\n",
       "      <td>{'latitude': '30.694060', 'longitude': '-86.12...</td>\n",
       "      <td>NaN</td>\n",
       "      <td>30.694060</td>\n",
       "      <td>-86.122010</td>\n",
       "      <td>NaN</td>\n",
       "      <td>{'ratingvalue': '5', 'bestrating': '5', 'revie...</td>\n",
       "      <td>NaN</td>\n",
       "      <td>NaN</td>\n",
       "      <td>NaN</td>\n",
       "      <td>Info@regencyinndefuniak.com</td>\n",
       "      <td>{'contacttype': 'Customer Support', 'telephone...</td>\n",
       "      <td>NaN</td>\n",
       "      <td>NaN</td>\n",
       "      <td>(850) 892-0707</td>\n",
       "      <td>NaN</td>\n",
       "      <td>NaN</td>\n",
       "      <td>NaN</td>\n",
       "      <td>NaN</td>\n",
       "      <td>NaN</td>\n",
       "      <td>NaN</td>\n",
       "      <td>NaN</td>\n",
       "      <td>NaN</td>\n",
       "      <td>NaN</td>\n",
       "      <td>NaN</td>\n",
       "      <td>NaN</td>\n",
       "      <td>NaN</td>\n",
       "      <td>NaN</td>\n",
       "      <td>NaN</td>\n",
       "      <td>NaN</td>\n",
       "      <td>NaN</td>\n",
       "      <td>NaN</td>\n",
       "      <td>NaN</td>\n",
       "      <td>NaN</td>\n",
       "      <td>NaN</td>\n",
       "      <td>...</td>\n",
       "      <td>NaN</td>\n",
       "      <td>NaN</td>\n",
       "      <td>NaN</td>\n",
       "      <td>NaN</td>\n",
       "      <td>NaN</td>\n",
       "      <td>NaN</td>\n",
       "      <td>NaN</td>\n",
       "      <td>NaN</td>\n",
       "      <td>NaN</td>\n",
       "      <td>NaN</td>\n",
       "      <td>NaN</td>\n",
       "      <td>NaN</td>\n",
       "      <td>NaN</td>\n",
       "      <td>NaN</td>\n",
       "      <td>NaN</td>\n",
       "      <td>NaN</td>\n",
       "      <td>NaN</td>\n",
       "      <td>NaN</td>\n",
       "      <td>NaN</td>\n",
       "      <td>NaN</td>\n",
       "      <td>NaN</td>\n",
       "      <td>NaN</td>\n",
       "      <td>NaN</td>\n",
       "      <td>NaN</td>\n",
       "      <td>NaN</td>\n",
       "      <td>NaN</td>\n",
       "      <td>NaN</td>\n",
       "      <td>NaN</td>\n",
       "      <td>NaN</td>\n",
       "      <td>NaN</td>\n",
       "      <td>NaN</td>\n",
       "      <td>NaN</td>\n",
       "      <td>NaN</td>\n",
       "      <td>NaN</td>\n",
       "      <td>NaN</td>\n",
       "      <td>NaN</td>\n",
       "      <td>NaN</td>\n",
       "      <td>NaN</td>\n",
       "      <td>NaN</td>\n",
       "      <td>NaN</td>\n",
       "      <td>NaN</td>\n",
       "      <td>NaN</td>\n",
       "      <td>NaN</td>\n",
       "      <td>NaN</td>\n",
       "      <td>NaN</td>\n",
       "      <td>NaN</td>\n",
       "      <td>NaN</td>\n",
       "      <td>NaN</td>\n",
       "      <td>NaN</td>\n",
       "      <td>NaN</td>\n",
       "    </tr>\n",
       "    <tr>\n",
       "      <th>4856253</th>\n",
       "      <td>0</td>\n",
       "      <td>Samui Green Hotel</td>\n",
       "      <td>{'addresslocality': 'Koh Samui', 'addressregio...</td>\n",
       "      <td>NaN</td>\n",
       "      <td>NaN</td>\n",
       "      <td>NaN</td>\n",
       "      <td>NaN</td>\n",
       "      <td>https://samuigreenhotel.com/</td>\n",
       "      <td>Surat Thani</td>\n",
       "      <td>17/52 Moo 3 Chaweng Beach Road, Amphoe</td>\n",
       "      <td>Thailand</td>\n",
       "      <td>NaN</td>\n",
       "      <td>Koh Samui</td>\n",
       "      <td>84320</td>\n",
       "      <td>Hotel_samuigreenhotel.com_September2020.json.gz</td>\n",
       "      <td>+66-(0)77-422-590</td>\n",
       "      <td>{'longitude': '100.0576° E', 'latitude': '9.52...</td>\n",
       "      <td>NaN</td>\n",
       "      <td>9.5216° N</td>\n",
       "      <td>100.0576° E</td>\n",
       "      <td>NaN</td>\n",
       "      <td>NaN</td>\n",
       "      <td>NaN</td>\n",
       "      <td>Monday,Tuesday,Wednesday,Thursday,Friday,Satur...</td>\n",
       "      <td>NaN</td>\n",
       "      <td>NaN</td>\n",
       "      <td>NaN</td>\n",
       "      <td>NaN</td>\n",
       "      <td>NaN</td>\n",
       "      <td>NaN</td>\n",
       "      <td>NaN</td>\n",
       "      <td>NaN</td>\n",
       "      <td>NaN</td>\n",
       "      <td>NaN</td>\n",
       "      <td>NaN</td>\n",
       "      <td>NaN</td>\n",
       "      <td>NaN</td>\n",
       "      <td>NaN</td>\n",
       "      <td>NaN</td>\n",
       "      <td>NaN</td>\n",
       "      <td>NaN</td>\n",
       "      <td>NaN</td>\n",
       "      <td>NaN</td>\n",
       "      <td>NaN</td>\n",
       "      <td>NaN</td>\n",
       "      <td>NaN</td>\n",
       "      <td>NaN</td>\n",
       "      <td>NaN</td>\n",
       "      <td>NaN</td>\n",
       "      <td>NaN</td>\n",
       "      <td>...</td>\n",
       "      <td>NaN</td>\n",
       "      <td>NaN</td>\n",
       "      <td>NaN</td>\n",
       "      <td>NaN</td>\n",
       "      <td>NaN</td>\n",
       "      <td>NaN</td>\n",
       "      <td>NaN</td>\n",
       "      <td>NaN</td>\n",
       "      <td>NaN</td>\n",
       "      <td>NaN</td>\n",
       "      <td>NaN</td>\n",
       "      <td>NaN</td>\n",
       "      <td>NaN</td>\n",
       "      <td>NaN</td>\n",
       "      <td>NaN</td>\n",
       "      <td>NaN</td>\n",
       "      <td>NaN</td>\n",
       "      <td>NaN</td>\n",
       "      <td>NaN</td>\n",
       "      <td>NaN</td>\n",
       "      <td>NaN</td>\n",
       "      <td>NaN</td>\n",
       "      <td>NaN</td>\n",
       "      <td>NaN</td>\n",
       "      <td>NaN</td>\n",
       "      <td>NaN</td>\n",
       "      <td>NaN</td>\n",
       "      <td>NaN</td>\n",
       "      <td>NaN</td>\n",
       "      <td>NaN</td>\n",
       "      <td>NaN</td>\n",
       "      <td>NaN</td>\n",
       "      <td>NaN</td>\n",
       "      <td>NaN</td>\n",
       "      <td>NaN</td>\n",
       "      <td>NaN</td>\n",
       "      <td>NaN</td>\n",
       "      <td>NaN</td>\n",
       "      <td>NaN</td>\n",
       "      <td>NaN</td>\n",
       "      <td>NaN</td>\n",
       "      <td>NaN</td>\n",
       "      <td>NaN</td>\n",
       "      <td>NaN</td>\n",
       "      <td>NaN</td>\n",
       "      <td>NaN</td>\n",
       "      <td>NaN</td>\n",
       "      <td>NaN</td>\n",
       "      <td>NaN</td>\n",
       "      <td>NaN</td>\n",
       "    </tr>\n",
       "    <tr>\n",
       "      <th>4856254</th>\n",
       "      <td>0</td>\n",
       "      <td>Fawlty Towers</td>\n",
       "      <td>{'streetaddress': 'Asheldon Rd', 'addressregio...</td>\n",
       "      <td>Lorem ipsum dolor sit amet, consectetur adipis...</td>\n",
       "      <td>100.00€ - 150.00€</td>\n",
       "      <td>NaN</td>\n",
       "      <td>NaN</td>\n",
       "      <td>https://www.spainstay.com/?option=com_jomres&amp;p...</td>\n",
       "      <td>Devon</td>\n",
       "      <td>Asheldon Rd</td>\n",
       "      <td>United Kingdom</td>\n",
       "      <td>01000 123456</td>\n",
       "      <td>Torquay</td>\n",
       "      <td>TQ1 2QS</td>\n",
       "      <td>Hotel_spainstay.com_September2020.json.gz</td>\n",
       "      <td>NaN</td>\n",
       "      <td>{'longitude': '-0.14523', 'latitude': '51.50842'}</td>\n",
       "      <td>NaN</td>\n",
       "      <td>51.50842</td>\n",
       "      <td>-0.14523</td>\n",
       "      <td>https://www.spainstay.com/index.php?option=com...</td>\n",
       "      <td>NaN</td>\n",
       "      <td>NaN</td>\n",
       "      <td>NaN</td>\n",
       "      <td>NaN</td>\n",
       "      <td>NaN</td>\n",
       "      <td>NaN</td>\n",
       "      <td>NaN</td>\n",
       "      <td>NaN</td>\n",
       "      <td>NaN</td>\n",
       "      <td>NaN</td>\n",
       "      <td>NaN</td>\n",
       "      <td>NaN</td>\n",
       "      <td>NaN</td>\n",
       "      <td>NaN</td>\n",
       "      <td>NaN</td>\n",
       "      <td>NaN</td>\n",
       "      <td>NaN</td>\n",
       "      <td>NaN</td>\n",
       "      <td>NaN</td>\n",
       "      <td>NaN</td>\n",
       "      <td>NaN</td>\n",
       "      <td>NaN</td>\n",
       "      <td>NaN</td>\n",
       "      <td>NaN</td>\n",
       "      <td>NaN</td>\n",
       "      <td>NaN</td>\n",
       "      <td>NaN</td>\n",
       "      <td>NaN</td>\n",
       "      <td>NaN</td>\n",
       "      <td>...</td>\n",
       "      <td>NaN</td>\n",
       "      <td>NaN</td>\n",
       "      <td>NaN</td>\n",
       "      <td>NaN</td>\n",
       "      <td>NaN</td>\n",
       "      <td>NaN</td>\n",
       "      <td>NaN</td>\n",
       "      <td>NaN</td>\n",
       "      <td>NaN</td>\n",
       "      <td>NaN</td>\n",
       "      <td>NaN</td>\n",
       "      <td>NaN</td>\n",
       "      <td>NaN</td>\n",
       "      <td>NaN</td>\n",
       "      <td>NaN</td>\n",
       "      <td>NaN</td>\n",
       "      <td>NaN</td>\n",
       "      <td>NaN</td>\n",
       "      <td>NaN</td>\n",
       "      <td>NaN</td>\n",
       "      <td>NaN</td>\n",
       "      <td>NaN</td>\n",
       "      <td>NaN</td>\n",
       "      <td>NaN</td>\n",
       "      <td>NaN</td>\n",
       "      <td>NaN</td>\n",
       "      <td>NaN</td>\n",
       "      <td>NaN</td>\n",
       "      <td>NaN</td>\n",
       "      <td>NaN</td>\n",
       "      <td>NaN</td>\n",
       "      <td>NaN</td>\n",
       "      <td>NaN</td>\n",
       "      <td>NaN</td>\n",
       "      <td>NaN</td>\n",
       "      <td>NaN</td>\n",
       "      <td>NaN</td>\n",
       "      <td>NaN</td>\n",
       "      <td>NaN</td>\n",
       "      <td>NaN</td>\n",
       "      <td>NaN</td>\n",
       "      <td>NaN</td>\n",
       "      <td>NaN</td>\n",
       "      <td>NaN</td>\n",
       "      <td>NaN</td>\n",
       "      <td>NaN</td>\n",
       "      <td>NaN</td>\n",
       "      <td>NaN</td>\n",
       "      <td>NaN</td>\n",
       "      <td>NaN</td>\n",
       "    </tr>\n",
       "  </tbody>\n",
       "</table>\n",
       "<p>5 rows × 595 columns</p>\n",
       "</div>"
      ],
      "text/plain": [
       "         row_id                                        name  \\\n",
       "4856250       0                                      Majycc   \n",
       "4856251       0  Soggiorno La Coccinella - Florence - Italy   \n",
       "4856252       0                Regency Inn & Suites Florida   \n",
       "4856253       0                           Samui Green Hotel   \n",
       "4856254       0                               Fawlty Towers   \n",
       "\n",
       "                                                   address  \\\n",
       "4856250  {'addresslocality': 'Paris', 'addresscountry':...   \n",
       "4856251  {'postalcode': '50144', 'addresslocality': 'Fl...   \n",
       "4856252  {'addresslocality': 'De Funiak Springs', 'addr...   \n",
       "4856253  {'addresslocality': 'Koh Samui', 'addressregio...   \n",
       "4856254  {'streetaddress': 'Asheldon Rd', 'addressregio...   \n",
       "\n",
       "                                               description         pricerange  \\\n",
       "4856250                                             Majycc                NaN   \n",
       "4856251  Soggiorno La Coccinella is located in the Port...                NaN   \n",
       "4856252  Regency Inn &amp; Suites is an affordable fami...                NaN   \n",
       "4856253                                                NaN                NaN   \n",
       "4856254  Lorem ipsum dolor sit amet, consectetur adipis...  100.00€ - 150.00€   \n",
       "\n",
       "        founder owns                                           page_url  \\\n",
       "4856250     NaN  NaN                    https://www.majycc.com/fonciere   \n",
       "4856251     NaN  NaN        https://www.soggiornolacoccinella.com/en-us   \n",
       "4856252     NaN  NaN                      https://www.regencyinnfl.com/   \n",
       "4856253     NaN  NaN                       https://samuigreenhotel.com/   \n",
       "4856254     NaN  NaN  https://www.spainstay.com/?option=com_jomres&p...   \n",
       "\n",
       "        addressregion                           streetaddress  addresscountry  \\\n",
       "4856250           NaN                        10 Rue Treilhard              FR   \n",
       "4856251           NaN                       Viale Belfiore 58             NaN   \n",
       "4856252       Florida                       472 Hugh Adams Rd             USA   \n",
       "4856253   Surat Thani  17/52 Moo 3 Chaweng Beach Road, Amphoe        Thailand   \n",
       "4856254         Devon                             Asheldon Rd  United Kingdom   \n",
       "\n",
       "        telephone_address    addresslocality postalcode  \\\n",
       "4856250               NaN              Paris      75008   \n",
       "4856251               NaN           Florence      50144   \n",
       "4856252               NaN  De Funiak Springs      32435   \n",
       "4856253               NaN          Koh Samui      84320   \n",
       "4856254      01000 123456            Torquay    TQ1 2QS   \n",
       "\n",
       "                                                    origin          telephone  \\\n",
       "4856250             Hotel_majycc.com_September2020.json.gz     XX XX XX XX XX   \n",
       "4856251  Hotel_soggiornolacoccinella.com_September2020....   +39 392 220 7801   \n",
       "4856252       Hotel_regencyinnfl.com_September2020.json.gz     (850) 892-6115   \n",
       "4856253    Hotel_samuigreenhotel.com_September2020.json.gz  +66-(0)77-422-590   \n",
       "4856254          Hotel_spainstay.com_September2020.json.gz                NaN   \n",
       "\n",
       "                                                       geo sameas   latitude  \\\n",
       "4856250                                                NaN    NaN        NaN   \n",
       "4856251                                                NaN    NaN        NaN   \n",
       "4856252  {'latitude': '30.694060', 'longitude': '-86.12...    NaN  30.694060   \n",
       "4856253  {'longitude': '100.0576° E', 'latitude': '9.52...    NaN  9.5216° N   \n",
       "4856254  {'longitude': '-0.14523', 'latitude': '51.50842'}    NaN   51.50842   \n",
       "\n",
       "           longitude                                                url  \\\n",
       "4856250          NaN                                                NaN   \n",
       "4856251          NaN                                                NaN   \n",
       "4856252   -86.122010                                                NaN   \n",
       "4856253  100.0576° E                                                NaN   \n",
       "4856254     -0.14523  https://www.spainstay.com/index.php?option=com...   \n",
       "\n",
       "                                           aggregaterating image  \\\n",
       "4856250                                                NaN   NaN   \n",
       "4856251  {'ratingvalue': '8.1E0', 'reviewcount': '265',...   NaN   \n",
       "4856252  {'ratingvalue': '5', 'bestrating': '5', 'revie...   NaN   \n",
       "4856253                                                NaN   NaN   \n",
       "4856254                                                NaN   NaN   \n",
       "\n",
       "                                              openinghours review  \\\n",
       "4856250                                                NaN    NaN   \n",
       "4856251                                                NaN    NaN   \n",
       "4856252                                                NaN    NaN   \n",
       "4856253  Monday,Tuesday,Wednesday,Thursday,Friday,Satur...    NaN   \n",
       "4856254                                                NaN    NaN   \n",
       "\n",
       "                               email  \\\n",
       "4856250                          NaN   \n",
       "4856251                          NaN   \n",
       "4856252  Info@regencyinndefuniak.com   \n",
       "4856253                          NaN   \n",
       "4856254                          NaN   \n",
       "\n",
       "                                              contactpoint reviews employees  \\\n",
       "4856250                                                NaN     NaN       NaN   \n",
       "4856251                                                NaN     NaN       NaN   \n",
       "4856252  {'contacttype': 'Customer Support', 'telephone...     NaN       NaN   \n",
       "4856253                                                NaN     NaN       NaN   \n",
       "4856254                                                NaN     NaN       NaN   \n",
       "\n",
       "              faxnumber about citystatezip openinghoursspecification  \\\n",
       "4856250             NaN   NaN          NaN                       NaN   \n",
       "4856251             NaN   NaN          NaN                       NaN   \n",
       "4856252  (850) 892-0707   NaN          NaN                       NaN   \n",
       "4856253             NaN   NaN          NaN                       NaN   \n",
       "4856254             NaN   NaN          NaN                       NaN   \n",
       "\n",
       "        areaserved location paymentaccepted currenciesaccepted legalname  \\\n",
       "4856250        NaN      NaN             NaN                NaN       NaN   \n",
       "4856251        NaN      NaN             NaN                NaN       NaN   \n",
       "4856252        NaN      NaN             NaN                NaN       NaN   \n",
       "4856253        NaN      NaN             NaN                NaN       NaN   \n",
       "4856254        NaN      NaN             NaN                NaN       NaN   \n",
       "\n",
       "        photos photo logo alternatename brand department makesoffer  map  \\\n",
       "4856250    NaN   NaN  NaN           NaN   NaN        NaN        NaN  NaN   \n",
       "4856251    NaN   NaN  NaN           NaN   NaN        NaN        NaN  NaN   \n",
       "4856252    NaN   NaN  NaN           NaN   NaN        NaN        NaN  NaN   \n",
       "4856253    NaN   NaN  NaN           NaN   NaN        NaN        NaN  NaN   \n",
       "4856254    NaN   NaN  NaN           NaN   NaN        NaN        NaN  NaN   \n",
       "\n",
       "        award hasmap isicv4 foundingdate  ...  sms mailto tollffee  \\\n",
       "4856250   NaN    NaN    NaN          NaN  ...  NaN    NaN      NaN   \n",
       "4856251   NaN    NaN    NaN          NaN  ...  NaN    NaN      NaN   \n",
       "4856252   NaN    NaN    NaN          NaN  ...  NaN    NaN      NaN   \n",
       "4856253   NaN    NaN    NaN          NaN  ...  NaN    NaN      NaN   \n",
       "4856254   NaN    NaN    NaN          NaN  ...  NaN    NaN      NaN   \n",
       "\n",
       "        dissolutiondate adressregion  worksfor opening_hours email_address  \\\n",
       "4856250             NaN          NaN       NaN           NaN           NaN   \n",
       "4856251             NaN          NaN       NaN           NaN           NaN   \n",
       "4856252             NaN          NaN       NaN           NaN           NaN   \n",
       "4856253             NaN          NaN       NaN           NaN           NaN   \n",
       "4856254             NaN          NaN       NaN           NaN           NaN   \n",
       "\n",
       "        slug \\u201caddressregion\\\" line isfamilyfriendly actors faxno  \\\n",
       "4856250  NaN                   NaN  NaN              NaN    NaN   NaN   \n",
       "4856251  NaN                   NaN  NaN              NaN    NaN   NaN   \n",
       "4856252  NaN                   NaN  NaN              NaN    NaN   NaN   \n",
       "4856253  NaN                   NaN  NaN              NaN    NaN   NaN   \n",
       "4856254  NaN                   NaN  NaN              NaN    NaN   NaN   \n",
       "\n",
       "        addresslocalilty subtitle  t\\u00e9l\\u00e9phone  weekendhours  \\\n",
       "4856250              NaN      NaN                  NaN           NaN   \n",
       "4856251              NaN      NaN                  NaN           NaN   \n",
       "4856252              NaN      NaN                  NaN           NaN   \n",
       "4856253              NaN      NaN                  NaN           NaN   \n",
       "4856254              NaN      NaN                  NaN           NaN   \n",
       "\n",
       "        secondarytelephone primarytelephone weekdayhours addressinfo  \\\n",
       "4856250                NaN              NaN          NaN         NaN   \n",
       "4856251                NaN              NaN          NaN         NaN   \n",
       "4856252                NaN              NaN          NaN         NaN   \n",
       "4856253                NaN              NaN          NaN         NaN   \n",
       "4856254                NaN              NaN          NaN         NaN   \n",
       "\n",
       "        menusection deliverymethod streetaddressline2 hasmenusection telepone  \\\n",
       "4856250         NaN            NaN                NaN            NaN      NaN   \n",
       "4856251         NaN            NaN                NaN            NaN      NaN   \n",
       "4856252         NaN            NaN                NaN            NaN      NaN   \n",
       "4856253         NaN            NaN                NaN            NaN      NaN   \n",
       "4856254         NaN            NaN                NaN            NaN      NaN   \n",
       "\n",
       "        cccc hasdescription resources facilities-list vatnumber  \\\n",
       "4856250  NaN            NaN       NaN             NaN       NaN   \n",
       "4856251  NaN            NaN       NaN             NaN       NaN   \n",
       "4856252  NaN            NaN       NaN             NaN       NaN   \n",
       "4856253  NaN            NaN       NaN             NaN       NaN   \n",
       "4856254  NaN            NaN       NaN             NaN       NaN   \n",
       "\n",
       "        streetaddressline1 numadults mobilenumber  @image @logo result  \\\n",
       "4856250                NaN       NaN          NaN     NaN   NaN    NaN   \n",
       "4856251                NaN       NaN          NaN     NaN   NaN    NaN   \n",
       "4856252                NaN       NaN          NaN     NaN   NaN    NaN   \n",
       "4856253                NaN       NaN          NaN     NaN   NaN    NaN   \n",
       "4856254                NaN       NaN          NaN     NaN   NaN    NaN   \n",
       "\n",
       "        google+ numchildren local floorlevel yearbuilt value itemlistorder  \\\n",
       "4856250     NaN         NaN   NaN        NaN       NaN   NaN           NaN   \n",
       "4856251     NaN         NaN   NaN        NaN       NaN   NaN           NaN   \n",
       "4856252     NaN         NaN   NaN        NaN       NaN   NaN           NaN   \n",
       "4856253     NaN         NaN   NaN        NaN       NaN   NaN           NaN   \n",
       "4856254     NaN         NaN   NaN        NaN       NaN   NaN           NaN   \n",
       "\n",
       "        typeofgood hotelname piva offersservice hasamenity  \n",
       "4856250        NaN       NaN  NaN           NaN        NaN  \n",
       "4856251        NaN       NaN  NaN           NaN        NaN  \n",
       "4856252        NaN       NaN  NaN           NaN        NaN  \n",
       "4856253        NaN       NaN  NaN           NaN        NaN  \n",
       "4856254        NaN       NaN  NaN           NaN        NaN  \n",
       "\n",
       "[5 rows x 595 columns]"
      ]
     },
     "execution_count": 33,
     "metadata": {},
     "output_type": "execute_result"
    }
   ],
   "source": [
    "df_all.tail()"
   ]
  },
  {
   "cell_type": "markdown",
   "id": "4953717f",
   "metadata": {},
   "source": [
    "# Tables after getting rid off empy phone - and country codes"
   ]
  },
  {
   "cell_type": "code",
   "execution_count": 34,
   "id": "50cc3b46",
   "metadata": {},
   "outputs": [
    {
     "data": {
      "text/plain": [
       "165207"
      ]
     },
     "execution_count": 34,
     "metadata": {},
     "output_type": "execute_result"
    }
   ],
   "source": [
    "df_clean_phone = df_all[df_all[\"addresscountry\"].notna()]\n",
    "df_clean_phone = df_clean_phone[df_clean_phone[\"telephone\"].notna()]\n",
    "#len(df_clean_phone)\n",
    "df_clean_phone[\"origin\"].nunique()"
   ]
  },
  {
   "cell_type": "markdown",
   "id": "5aed7895",
   "metadata": {},
   "source": [
    "# Tables after getting rid empy phone - and country codes"
   ]
  },
  {
   "cell_type": "code",
   "execution_count": 11,
   "id": "5c517868",
   "metadata": {},
   "outputs": [],
   "source": [
    "# df_clean_geo = df_all[df_all[\"longitude\"].notna()]\n",
    "# df_clean_geo = df_clean_geo[df_clean_geo[\"latitude\"].notna()]\n",
    "# df_clean_geo[\"origin\"].nunique()"
   ]
  },
  {
   "cell_type": "code",
   "execution_count": 12,
   "id": "deb4e656",
   "metadata": {},
   "outputs": [],
   "source": [
    "# df_clean_phone_geo = df_clean_phone[df_clean_phone[\"longitude\"].notna()]\n",
    "# df_clean_phone_geo = df_clean_phone_geo[df_clean_phone_geo[\"latitude\"].notna()]\n",
    "# df_clean_phone_geo[\"origin\"].nunique()"
   ]
  },
  {
   "cell_type": "markdown",
   "id": "5482c198",
   "metadata": {},
   "source": [
    "### Roughly 1.3 mio data after conditioning on phone and non-zero country codes"
   ]
  },
  {
   "cell_type": "markdown",
   "id": "39d67a0f",
   "metadata": {},
   "source": [
    "## Format longitudes AND latitudes"
   ]
  },
  {
   "cell_type": "code",
   "execution_count": 13,
   "id": "95fb5e4c",
   "metadata": {},
   "outputs": [],
   "source": [
    "# lon = \"longitude\"\n",
    "# lat = \"latitude\""
   ]
  },
  {
   "cell_type": "code",
   "execution_count": 14,
   "id": "39c1ac01",
   "metadata": {},
   "outputs": [],
   "source": [
    "# # Remove entries that are not numbers or cannot be convertred to one number (list etc.)\n",
    "# longitudes = df_clean_geo[lon].to_numpy()\n",
    "# latitudes = df_clean_geo[lat].to_numpy()\n",
    "# deleteList = []\n",
    "# i = 0\n",
    "\n",
    "# for value in longitudes:\n",
    "#     if ((isinstance(value, str) == False) & (isinstance(value, float) == False)):\n",
    "#         deleteList.append(i)\n",
    "#     i = i + 1\n",
    "\n",
    "# i = 0\n",
    "# for value in latitudes:\n",
    "#     if ((isinstance(value, str) == False) & (isinstance(value, float) == False)):\n",
    "#         deleteList.append(i)\n",
    "#     i = i + 1    \n",
    "\n",
    "# df_clean_geo.drop(df_clean_geo.index[deleteList], axis = 0, inplace = True)        "
   ]
  },
  {
   "cell_type": "markdown",
   "id": "e0e18ecc",
   "metadata": {},
   "source": [
    "### Format longitude and latitude"
   ]
  },
  {
   "cell_type": "code",
   "execution_count": 15,
   "id": "f5624f85",
   "metadata": {},
   "outputs": [],
   "source": [
    "# longArray = df_clean_geo[lon].to_numpy().astype(str)\n",
    "# longArray = np.char.replace(longArray, ',', '.')\n",
    "# longArray = np.char.replace(longArray, '--', '-')\n",
    "# df_clean_geo[lon] = longArray\n",
    "# df_clean_geo[lon] = pd.to_numeric(df_clean_geo[lon], errors='coerce')\n",
    "\n",
    "# latArray = df_clean_geo[lat].to_numpy().astype(str)\n",
    "# latArray = np.char.replace(latArray, ',', '.')\n",
    "# latArray = np.char.replace(latArray, '--', '-')\n",
    "# df_clean_geo[lat] = latArray\n",
    "# df_clean_geo[lat] = pd.to_numeric(df_clean_geo[lat], errors='coerce')"
   ]
  },
  {
   "cell_type": "code",
   "execution_count": 16,
   "id": "f7b664c6",
   "metadata": {},
   "outputs": [],
   "source": [
    "# # Remove the entries that were set to NaN because of other errors\n",
    "# df_clean_geo = df_clean_geo[df_clean_geo[\"longitude\"].notna()]\n",
    "# df_clean_geo = df_clean_geo[df_clean_geo[\"latitude\"].notna()]\n",
    "# # Make sure to only include valid longitudes and latitudes\n",
    "# df_clean_geo = df_clean_geo.loc[(df_clean_geo[lat] >= -90) & (df_clean_geo[lat] <= 90)]\n",
    "# df_clean_geo = df_clean_geo.loc[(df_clean_geo[lon] >= -180) & (df_clean_geo[lon] <= 80)]"
   ]
  },
  {
   "cell_type": "code",
   "execution_count": 17,
   "id": "25c2450c",
   "metadata": {},
   "outputs": [],
   "source": [
    "# df_clean_geo[\"origin\"].nunqiue()"
   ]
  },
  {
   "cell_type": "markdown",
   "id": "ef4c47d7",
   "metadata": {},
   "source": [
    "### Roughly 700k datapoints left after conditioning on geo-location"
   ]
  },
  {
   "cell_type": "markdown",
   "id": "8717ec5f",
   "metadata": {},
   "source": [
    "## Further preprocessing step\n",
    "\n",
    "### Remove non-digits from telephone numbers"
   ]
  },
  {
   "cell_type": "code",
   "execution_count": 18,
   "id": "bf49cc9e",
   "metadata": {},
   "outputs": [],
   "source": [
    "def remove_non_digits(string):\n",
    "    cleaned = re.sub('[^0-9]','', string)\n",
    "    return cleaned"
   ]
  },
  {
   "cell_type": "code",
   "execution_count": 19,
   "id": "890144ed",
   "metadata": {},
   "outputs": [],
   "source": [
    "df_clean = df_clean_phone[[\"row_id\", \"address\", \"page_url\", \"origin\", \"telephone\" , \"addresscountry\", \"longitude\", \"latitude\"]]"
   ]
  },
  {
   "cell_type": "code",
   "execution_count": 20,
   "id": "cb29434b",
   "metadata": {},
   "outputs": [
    {
     "name": "stderr",
     "output_type": "stream",
     "text": [
      "<ipython-input-20-cbc6e0b80647>:1: SettingWithCopyWarning: \n",
      "A value is trying to be set on a copy of a slice from a DataFrame.\n",
      "Try using .loc[row_indexer,col_indexer] = value instead\n",
      "\n",
      "See the caveats in the documentation: https://pandas.pydata.org/pandas-docs/stable/user_guide/indexing.html#returning-a-view-versus-a-copy\n",
      "  df_clean['telephone_'] = df_clean['telephone'].astype('str').apply(remove_non_digits)\n"
     ]
    }
   ],
   "source": [
    "df_clean['telephone_'] = df_clean['telephone'].astype('str').apply(remove_non_digits)"
   ]
  },
  {
   "cell_type": "markdown",
   "id": "cf025d67",
   "metadata": {},
   "source": [
    "### Extract country codes to ISO-2 format using ``pycountry``"
   ]
  },
  {
   "cell_type": "code",
   "execution_count": 21,
   "id": "3305cc74",
   "metadata": {
    "scrolled": false
   },
   "outputs": [
    {
     "data": {
      "text/plain": [
       "{'Aruba': 'AW',\n",
       " 'Afghanistan': 'AF',\n",
       " 'Angola': 'AO',\n",
       " 'Anguilla': 'AI',\n",
       " 'Åland Islands': 'AX',\n",
       " 'Albania': 'AL',\n",
       " 'Andorra': 'AD',\n",
       " 'United Arab Emirates': 'AE',\n",
       " 'Argentina': 'AR',\n",
       " 'Armenia': 'AM',\n",
       " 'American Samoa': 'AS',\n",
       " 'Antarctica': 'AQ',\n",
       " 'French Southern Territories': 'TF',\n",
       " 'Antigua and Barbuda': 'AG',\n",
       " 'Australia': 'AU',\n",
       " 'Austria': 'AT',\n",
       " 'Azerbaijan': 'AZ',\n",
       " 'Burundi': 'BI',\n",
       " 'Belgium': 'BE',\n",
       " 'Benin': 'BJ',\n",
       " 'Bonaire, Sint Eustatius and Saba': 'BQ',\n",
       " 'Burkina Faso': 'BF',\n",
       " 'Bangladesh': 'BD',\n",
       " 'Bulgaria': 'BG',\n",
       " 'Bahrain': 'BH',\n",
       " 'Bahamas': 'BS',\n",
       " 'Bosnia and Herzegovina': 'BA',\n",
       " 'Saint Barthélemy': 'BL',\n",
       " 'Belarus': 'BY',\n",
       " 'Belize': 'BZ',\n",
       " 'Bermuda': 'BM',\n",
       " 'Bolivia, Plurinational State of': 'BO',\n",
       " 'Brazil': 'BR',\n",
       " 'Barbados': 'BB',\n",
       " 'Brunei Darussalam': 'BN',\n",
       " 'Bhutan': 'BT',\n",
       " 'Bouvet Island': 'BV',\n",
       " 'Botswana': 'BW',\n",
       " 'Central African Republic': 'CF',\n",
       " 'Canada': 'CA',\n",
       " 'Cocos (Keeling) Islands': 'CC',\n",
       " 'Switzerland': 'CH',\n",
       " 'Chile': 'CL',\n",
       " 'China': 'CN',\n",
       " \"Côte d'Ivoire\": 'CI',\n",
       " 'Cameroon': 'CM',\n",
       " 'Congo, The Democratic Republic of the': 'CD',\n",
       " 'Congo': 'CG',\n",
       " 'Cook Islands': 'CK',\n",
       " 'Colombia': 'CO',\n",
       " 'Comoros': 'KM',\n",
       " 'Cabo Verde': 'CV',\n",
       " 'Costa Rica': 'CR',\n",
       " 'Cuba': 'CU',\n",
       " 'Curaçao': 'CW',\n",
       " 'Christmas Island': 'CX',\n",
       " 'Cayman Islands': 'KY',\n",
       " 'Cyprus': 'CY',\n",
       " 'Czechia': 'CZ',\n",
       " 'Germany': 'DE',\n",
       " 'Djibouti': 'DJ',\n",
       " 'Dominica': 'DM',\n",
       " 'Denmark': 'DK',\n",
       " 'Dominican Republic': 'DO',\n",
       " 'Algeria': 'DZ',\n",
       " 'Ecuador': 'EC',\n",
       " 'Egypt': 'EG',\n",
       " 'Eritrea': 'ER',\n",
       " 'Western Sahara': 'EH',\n",
       " 'Spain': 'ES',\n",
       " 'Estonia': 'EE',\n",
       " 'Ethiopia': 'ET',\n",
       " 'Finland': 'FI',\n",
       " 'Fiji': 'FJ',\n",
       " 'Falkland Islands (Malvinas)': 'FK',\n",
       " 'France': 'FR',\n",
       " 'Faroe Islands': 'FO',\n",
       " 'Micronesia, Federated States of': 'FM',\n",
       " 'Gabon': 'GA',\n",
       " 'United Kingdom': 'GB',\n",
       " 'Georgia': 'GE',\n",
       " 'Guernsey': 'GG',\n",
       " 'Ghana': 'GH',\n",
       " 'Gibraltar': 'GI',\n",
       " 'Guinea': 'GN',\n",
       " 'Guadeloupe': 'GP',\n",
       " 'Gambia': 'GM',\n",
       " 'Guinea-Bissau': 'GW',\n",
       " 'Equatorial Guinea': 'GQ',\n",
       " 'Greece': 'GR',\n",
       " 'Grenada': 'GD',\n",
       " 'Greenland': 'GL',\n",
       " 'Guatemala': 'GT',\n",
       " 'French Guiana': 'GF',\n",
       " 'Guam': 'GU',\n",
       " 'Guyana': 'GY',\n",
       " 'Hong Kong': 'HK',\n",
       " 'Heard Island and McDonald Islands': 'HM',\n",
       " 'Honduras': 'HN',\n",
       " 'Croatia': 'HR',\n",
       " 'Haiti': 'HT',\n",
       " 'Hungary': 'HU',\n",
       " 'Indonesia': 'ID',\n",
       " 'Isle of Man': 'IM',\n",
       " 'India': 'IN',\n",
       " 'British Indian Ocean Territory': 'IO',\n",
       " 'Ireland': 'IE',\n",
       " 'Iran, Islamic Republic of': 'IR',\n",
       " 'Iraq': 'IQ',\n",
       " 'Iceland': 'IS',\n",
       " 'Israel': 'IL',\n",
       " 'Italy': 'IT',\n",
       " 'Jamaica': 'JM',\n",
       " 'Jersey': 'JE',\n",
       " 'Jordan': 'JO',\n",
       " 'Japan': 'JP',\n",
       " 'Kazakhstan': 'KZ',\n",
       " 'Kenya': 'KE',\n",
       " 'Kyrgyzstan': 'KG',\n",
       " 'Cambodia': 'KH',\n",
       " 'Kiribati': 'KI',\n",
       " 'Saint Kitts and Nevis': 'KN',\n",
       " 'Korea, Republic of': 'KR',\n",
       " 'Kuwait': 'KW',\n",
       " \"Lao People's Democratic Republic\": 'LA',\n",
       " 'Lebanon': 'LB',\n",
       " 'Liberia': 'LR',\n",
       " 'Libya': 'LY',\n",
       " 'Saint Lucia': 'LC',\n",
       " 'Liechtenstein': 'LI',\n",
       " 'Sri Lanka': 'LK',\n",
       " 'Lesotho': 'LS',\n",
       " 'Lithuania': 'LT',\n",
       " 'Luxembourg': 'LU',\n",
       " 'Latvia': 'LV',\n",
       " 'Macao': 'MO',\n",
       " 'Saint Martin (French part)': 'MF',\n",
       " 'Morocco': 'MA',\n",
       " 'Monaco': 'MC',\n",
       " 'Moldova, Republic of': 'MD',\n",
       " 'Madagascar': 'MG',\n",
       " 'Maldives': 'MV',\n",
       " 'Mexico': 'MX',\n",
       " 'Marshall Islands': 'MH',\n",
       " 'North Macedonia': 'MK',\n",
       " 'Mali': 'ML',\n",
       " 'Malta': 'MT',\n",
       " 'Myanmar': 'MM',\n",
       " 'Montenegro': 'ME',\n",
       " 'Mongolia': 'MN',\n",
       " 'Northern Mariana Islands': 'MP',\n",
       " 'Mozambique': 'MZ',\n",
       " 'Mauritania': 'MR',\n",
       " 'Montserrat': 'MS',\n",
       " 'Martinique': 'MQ',\n",
       " 'Mauritius': 'MU',\n",
       " 'Malawi': 'MW',\n",
       " 'Malaysia': 'MY',\n",
       " 'Mayotte': 'YT',\n",
       " 'Namibia': 'NA',\n",
       " 'New Caledonia': 'NC',\n",
       " 'Niger': 'NE',\n",
       " 'Norfolk Island': 'NF',\n",
       " 'Nigeria': 'NG',\n",
       " 'Nicaragua': 'NI',\n",
       " 'Niue': 'NU',\n",
       " 'Netherlands': 'NL',\n",
       " 'Norway': 'NO',\n",
       " 'Nepal': 'NP',\n",
       " 'Nauru': 'NR',\n",
       " 'New Zealand': 'NZ',\n",
       " 'Oman': 'OM',\n",
       " 'Pakistan': 'PK',\n",
       " 'Panama': 'PA',\n",
       " 'Pitcairn': 'PN',\n",
       " 'Peru': 'PE',\n",
       " 'Philippines': 'PH',\n",
       " 'Palau': 'PW',\n",
       " 'Papua New Guinea': 'PG',\n",
       " 'Poland': 'PL',\n",
       " 'Puerto Rico': 'PR',\n",
       " \"Korea, Democratic People's Republic of\": 'KP',\n",
       " 'Portugal': 'PT',\n",
       " 'Paraguay': 'PY',\n",
       " 'Palestine, State of': 'PS',\n",
       " 'French Polynesia': 'PF',\n",
       " 'Qatar': 'QA',\n",
       " 'Réunion': 'RE',\n",
       " 'Romania': 'RO',\n",
       " 'Russian Federation': 'RU',\n",
       " 'Rwanda': 'RW',\n",
       " 'Saudi Arabia': 'SA',\n",
       " 'Sudan': 'SD',\n",
       " 'Senegal': 'SN',\n",
       " 'Singapore': 'SG',\n",
       " 'South Georgia and the South Sandwich Islands': 'GS',\n",
       " 'Saint Helena, Ascension and Tristan da Cunha': 'SH',\n",
       " 'Svalbard and Jan Mayen': 'SJ',\n",
       " 'Solomon Islands': 'SB',\n",
       " 'Sierra Leone': 'SL',\n",
       " 'El Salvador': 'SV',\n",
       " 'San Marino': 'SM',\n",
       " 'Somalia': 'SO',\n",
       " 'Saint Pierre and Miquelon': 'PM',\n",
       " 'Serbia': 'RS',\n",
       " 'South Sudan': 'SS',\n",
       " 'Sao Tome and Principe': 'ST',\n",
       " 'Suriname': 'SR',\n",
       " 'Slovakia': 'SK',\n",
       " 'Slovenia': 'SI',\n",
       " 'Sweden': 'SE',\n",
       " 'Eswatini': 'SZ',\n",
       " 'Sint Maarten (Dutch part)': 'SX',\n",
       " 'Seychelles': 'SC',\n",
       " 'Syrian Arab Republic': 'SY',\n",
       " 'Turks and Caicos Islands': 'TC',\n",
       " 'Chad': 'TD',\n",
       " 'Togo': 'TG',\n",
       " 'Thailand': 'TH',\n",
       " 'Tajikistan': 'TJ',\n",
       " 'Tokelau': 'TK',\n",
       " 'Turkmenistan': 'TM',\n",
       " 'Timor-Leste': 'TL',\n",
       " 'Tonga': 'TO',\n",
       " 'Trinidad and Tobago': 'TT',\n",
       " 'Tunisia': 'TN',\n",
       " 'Turkey': 'TR',\n",
       " 'Tuvalu': 'TV',\n",
       " 'Taiwan, Province of China': 'TW',\n",
       " 'Tanzania, United Republic of': 'TZ',\n",
       " 'Uganda': 'UG',\n",
       " 'Ukraine': 'UA',\n",
       " 'United States Minor Outlying Islands': 'UM',\n",
       " 'Uruguay': 'UY',\n",
       " 'United States': 'US',\n",
       " 'Uzbekistan': 'UZ',\n",
       " 'Holy See (Vatican City State)': 'VA',\n",
       " 'Saint Vincent and the Grenadines': 'VC',\n",
       " 'Venezuela, Bolivarian Republic of': 'VE',\n",
       " 'Virgin Islands, British': 'VG',\n",
       " 'Virgin Islands, U.S.': 'VI',\n",
       " 'Viet Nam': 'VN',\n",
       " 'Vanuatu': 'VU',\n",
       " 'Wallis and Futuna': 'WF',\n",
       " 'Samoa': 'WS',\n",
       " 'Yemen': 'YE',\n",
       " 'South Africa': 'ZA',\n",
       " 'Zambia': 'ZM',\n",
       " 'Zimbabwe': 'ZW'}"
      ]
     },
     "execution_count": 21,
     "metadata": {},
     "output_type": "execute_result"
    }
   ],
   "source": [
    "countries = {}\n",
    "for country in pycountry.countries:\n",
    "    countries[country.name] = country.alpha_2\n",
    "\n",
    "countries\n"
   ]
  },
  {
   "cell_type": "code",
   "execution_count": 22,
   "id": "552d72f6",
   "metadata": {},
   "outputs": [],
   "source": [
    "# fuction to modify the country dictionary in uppercase\n",
    "def modify_dic(d):\n",
    "    for key in list(d.keys()):\n",
    "        new_key = key.upper()\n",
    "        d[new_key] = d[key]\n",
    "    return d"
   ]
  },
  {
   "cell_type": "code",
   "execution_count": 23,
   "id": "263667a9",
   "metadata": {},
   "outputs": [],
   "source": [
    "countries_upper = modify_dic(countries)"
   ]
  },
  {
   "cell_type": "code",
   "execution_count": 24,
   "id": "2d456445",
   "metadata": {
    "scrolled": false
   },
   "outputs": [],
   "source": [
    "#countries_upper"
   ]
  },
  {
   "cell_type": "code",
   "execution_count": 25,
   "id": "4de88e0a",
   "metadata": {},
   "outputs": [
    {
     "name": "stderr",
     "output_type": "stream",
     "text": [
      "<ipython-input-25-f93ebcb01688>:2: SettingWithCopyWarning: \n",
      "A value is trying to be set on a copy of a slice from a DataFrame.\n",
      "Try using .loc[row_indexer,col_indexer] = value instead\n",
      "\n",
      "See the caveats in the documentation: https://pandas.pydata.org/pandas-docs/stable/user_guide/indexing.html#returning-a-view-versus-a-copy\n",
      "  df_clean[\"addresscountry\"] = df_clean[\"addresscountry\"].str.upper()\n"
     ]
    }
   ],
   "source": [
    "#uppercase the df_column \n",
    "df_clean[\"addresscountry\"] = df_clean[\"addresscountry\"].str.upper()"
   ]
  },
  {
   "cell_type": "code",
   "execution_count": 26,
   "id": "c60d4e33",
   "metadata": {},
   "outputs": [
    {
     "data": {
      "text/plain": [
       "US                                         321793\n",
       "UNITED STATES                              259972\n",
       "USA                                         88901\n",
       "UNITED KINGDOM                              61260\n",
       "NL                                          60967\n",
       "                                            ...  \n",
       "BOLIVYA                                         1\n",
       "BERKSHIRE                                       1\n",
       "SUNDANCE CENTER                                 1\n",
       "COLUMBUS STATES                                 1\n",
       "3-4 COVENTRY STREET, LONDON W1D 6BL, UK         1\n",
       "Name: addresscountry, Length: 2648, dtype: int64"
      ]
     },
     "execution_count": 26,
     "metadata": {},
     "output_type": "execute_result"
    }
   ],
   "source": [
    "df_clean[\"addresscountry\"].value_counts()"
   ]
  },
  {
   "cell_type": "code",
   "execution_count": 27,
   "id": "5dfdd736",
   "metadata": {},
   "outputs": [
    {
     "name": "stderr",
     "output_type": "stream",
     "text": [
      "<ipython-input-27-05d220ee92af>:3: SettingWithCopyWarning: \n",
      "A value is trying to be set on a copy of a slice from a DataFrame.\n",
      "Try using .loc[row_indexer,col_indexer] = value instead\n",
      "\n",
      "See the caveats in the documentation: https://pandas.pydata.org/pandas-docs/stable/user_guide/indexing.html#returning-a-view-versus-a-copy\n",
      "  df_clean[\"addresscountry\"] = df_clean[\"addresscountry\"].str.replace(key, value)\n",
      "<ipython-input-27-05d220ee92af>:3: FutureWarning: The default value of regex will change from True to False in a future version.\n",
      "  df_clean[\"addresscountry\"] = df_clean[\"addresscountry\"].str.replace(key, value)\n"
     ]
    }
   ],
   "source": [
    "# Replace known countries with ISO-2 format country code\n",
    "for key, value in countries_upper.items():\n",
    "    df_clean[\"addresscountry\"] = df_clean[\"addresscountry\"].str.replace(key, value)"
   ]
  },
  {
   "cell_type": "markdown",
   "id": "e2f76d3b",
   "metadata": {},
   "source": [
    "## Manually normalize countries which do not exist in country package"
   ]
  },
  {
   "cell_type": "code",
   "execution_count": 28,
   "id": "558fea52",
   "metadata": {},
   "outputs": [
    {
     "data": {
      "text/plain": [
       "US         581765\n",
       "GB         109552\n",
       "USA         88901\n",
       "AU          86579\n",
       "IN          66515\n",
       "NL          62617\n",
       "FR          48612\n",
       "CA          35543\n",
       "UK          31874\n",
       "DE          22687\n",
       "BR          20344\n",
       "MX          17592\n",
       "ES          17468\n",
       "IT          14254\n",
       "JP          11273\n",
       "ID          10662\n",
       "CL           8507\n",
       "US,          7959\n",
       "AE           6406\n",
       "DK           6244\n",
       "TR           6000\n",
       "TH           4765\n",
       "PT           4363\n",
       "MY           4301\n",
       "ENGLAND      4138\n",
       "AT           4043\n",
       "CO           4043\n",
       "CN           3960\n",
       "SG           3933\n",
       "AR           3560\n",
       "Name: addresscountry, dtype: int64"
      ]
     },
     "execution_count": 28,
     "metadata": {},
     "output_type": "execute_result"
    }
   ],
   "source": [
    "df_clean[\"addresscountry\"].value_counts().head(30)"
   ]
  },
  {
   "cell_type": "code",
   "execution_count": 29,
   "id": "409afec1",
   "metadata": {},
   "outputs": [
    {
     "name": "stderr",
     "output_type": "stream",
     "text": [
      "<ipython-input-29-74035b11ab3c>:23: SettingWithCopyWarning: \n",
      "A value is trying to be set on a copy of a slice from a DataFrame.\n",
      "Try using .loc[row_indexer,col_indexer] = value instead\n",
      "\n",
      "See the caveats in the documentation: https://pandas.pydata.org/pandas-docs/stable/user_guide/indexing.html#returning-a-view-versus-a-copy\n",
      "  df_clean[\"addresscountry\"] = df_clean[\"addresscountry\"].str.replace(key, value)\n"
     ]
    }
   ],
   "source": [
    "country_dictionary = {\n",
    "                      \"UNITED STATES\": \"US\",\n",
    "                      \"USA\":\"US\",\n",
    "                      \"UNITED KINGDOM\": \"GB\",\n",
    "                      \"UK\": \"GB\",\n",
    "                      \"CANADA\": \"CA\",\n",
    "                      \"AUSTRALIA\": \"AU\",\n",
    "                      \"UNITED ARAB EMIRATES\":\"AE\",\n",
    "                        \"UAE\": \"AE\",\n",
    "                      \"INDIA\" : \"IN\",\n",
    "                      \"NEW ZEALAND\": \"NZ\",\n",
    "                      \"SVERIGE\" : \"SE\",\n",
    "                      \"DEUTSCHLAND\": \"DE\",\n",
    "                        \"DEU\": \"DE\",\n",
    "                      \"RUSSIA\": \"RU\",\n",
    "                      \"ITALIA\": \"IT\",\n",
    "                      \"IRAN\": \"IR\",\n",
    "                      \", IN\" : \"IN\",\n",
    "                      \"ENGLAND\": \"GB\",\n",
    "                        \"FRA\": \"FR\"\n",
    "                    }\n",
    "for key, value in country_dictionary.items():\n",
    "    df_clean[\"addresscountry\"] = df_clean[\"addresscountry\"].str.replace(key, value)"
   ]
  },
  {
   "cell_type": "markdown",
   "id": "4b6b5ac1",
   "metadata": {},
   "source": [
    "## In this manual step we save about 50k extra datapoints"
   ]
  },
  {
   "cell_type": "markdown",
   "id": "2c8fa659",
   "metadata": {},
   "source": [
    "## Remove non-covered countries\n",
    "\n",
    "### There are still some uncovered cases left which have to be removed"
   ]
  },
  {
   "cell_type": "code",
   "execution_count": 30,
   "id": "9b8db2c8",
   "metadata": {},
   "outputs": [],
   "source": [
    "df_clean.reset_index(inplace=True)"
   ]
  },
  {
   "cell_type": "code",
   "execution_count": 31,
   "id": "31744016",
   "metadata": {},
   "outputs": [
    {
     "ename": "TypeError",
     "evalue": "object of type 'float' has no len()",
     "output_type": "error",
     "traceback": [
      "\u001b[0;31m---------------------------------------------------------------------------\u001b[0m",
      "\u001b[0;31mTypeError\u001b[0m                                 Traceback (most recent call last)",
      "\u001b[0;32m<ipython-input-31-161cf6eb88c3>\u001b[0m in \u001b[0;36m<module>\u001b[0;34m\u001b[0m\n\u001b[1;32m      1\u001b[0m \u001b[0mliste\u001b[0m \u001b[0;34m=\u001b[0m \u001b[0;34m[\u001b[0m\u001b[0;34m]\u001b[0m\u001b[0;34m\u001b[0m\u001b[0;34m\u001b[0m\u001b[0m\n\u001b[1;32m      2\u001b[0m \u001b[0;32mfor\u001b[0m \u001b[0mi\u001b[0m\u001b[0;34m,\u001b[0m \u001b[0mrow\u001b[0m \u001b[0;32min\u001b[0m \u001b[0menumerate\u001b[0m\u001b[0;34m(\u001b[0m\u001b[0mdf_clean\u001b[0m\u001b[0;34m[\u001b[0m\u001b[0;34m\"addresscountry\"\u001b[0m\u001b[0;34m]\u001b[0m\u001b[0;34m)\u001b[0m\u001b[0;34m:\u001b[0m\u001b[0;34m\u001b[0m\u001b[0;34m\u001b[0m\u001b[0m\n\u001b[0;32m----> 3\u001b[0;31m     \u001b[0;32mif\u001b[0m \u001b[0mlen\u001b[0m\u001b[0;34m(\u001b[0m\u001b[0mrow\u001b[0m\u001b[0;34m)\u001b[0m \u001b[0;34m>\u001b[0m \u001b[0;36m2\u001b[0m\u001b[0;34m:\u001b[0m\u001b[0;34m\u001b[0m\u001b[0;34m\u001b[0m\u001b[0m\n\u001b[0m\u001b[1;32m      4\u001b[0m         \u001b[0mliste\u001b[0m\u001b[0;34m.\u001b[0m\u001b[0mappend\u001b[0m\u001b[0;34m(\u001b[0m\u001b[0mi\u001b[0m\u001b[0;34m)\u001b[0m\u001b[0;34m\u001b[0m\u001b[0;34m\u001b[0m\u001b[0m\n\u001b[1;32m      5\u001b[0m \u001b[0;34m\u001b[0m\u001b[0m\n",
      "\u001b[0;31mTypeError\u001b[0m: object of type 'float' has no len()"
     ]
    }
   ],
   "source": [
    "liste = []\n",
    "for i, row in enumerate(df_clean[\"addresscountry\"]):\n",
    "    if len(row) > 2:\n",
    "        liste.append(i)\n",
    "        \n",
    "df_clean = df_clean.drop(liste)        "
   ]
  },
  {
   "cell_type": "code",
   "execution_count": null,
   "id": "873ec4fe",
   "metadata": {
    "scrolled": true
   },
   "outputs": [],
   "source": [
    "df_clean[\"addresscountry\"].unique()"
   ]
  },
  {
   "cell_type": "markdown",
   "id": "a2876881",
   "metadata": {},
   "source": [
    "## Drop empty phonenumbers and too lengthy phone numbers"
   ]
  },
  {
   "cell_type": "code",
   "execution_count": 35,
   "id": "526099e9",
   "metadata": {},
   "outputs": [],
   "source": [
    "df_clean = df_clean[df_clean[\"telephone_\"] != \"\" ]"
   ]
  },
  {
   "cell_type": "code",
   "execution_count": 36,
   "id": "0619c4d5",
   "metadata": {},
   "outputs": [],
   "source": [
    "liste = []\n",
    "df_clean.reset_index(inplace=True)\n",
    "for row_index in df_clean.index:\n",
    "    if len(df_clean.iloc[row_index][\"telephone_\"])>18:\n",
    "        liste.append(row_index)"
   ]
  },
  {
   "cell_type": "code",
   "execution_count": 37,
   "id": "4d9e9e79",
   "metadata": {},
   "outputs": [],
   "source": [
    "df_clean.drop(labels = liste, inplace = True)"
   ]
  },
  {
   "cell_type": "code",
   "execution_count": 38,
   "id": "5f438c7c",
   "metadata": {},
   "outputs": [
    {
     "data": {
      "text/html": [
       "<div>\n",
       "<style scoped>\n",
       "    .dataframe tbody tr th:only-of-type {\n",
       "        vertical-align: middle;\n",
       "    }\n",
       "\n",
       "    .dataframe tbody tr th {\n",
       "        vertical-align: top;\n",
       "    }\n",
       "\n",
       "    .dataframe thead th {\n",
       "        text-align: right;\n",
       "    }\n",
       "</style>\n",
       "<table border=\"1\" class=\"dataframe\">\n",
       "  <thead>\n",
       "    <tr style=\"text-align: right;\">\n",
       "      <th></th>\n",
       "      <th>row_id</th>\n",
       "      <th>address</th>\n",
       "      <th>page_url</th>\n",
       "      <th>origin</th>\n",
       "      <th>telephone</th>\n",
       "      <th>addresscountry</th>\n",
       "      <th>longitude</th>\n",
       "      <th>latitude</th>\n",
       "      <th>telephone_</th>\n",
       "    </tr>\n",
       "  </thead>\n",
       "  <tbody>\n",
       "    <tr>\n",
       "      <th>1423043</th>\n",
       "      <td>0</td>\n",
       "      <td>{'postalcode': '29577', 'streetaddress': '803 ...</td>\n",
       "      <td>https://www.seacrestmyrtlebeachresort.com/blog...</td>\n",
       "      <td>Hotel_seacrestmyrtlebeachresort.com_September2...</td>\n",
       "      <td>1-800-845-1112</td>\n",
       "      <td>AMERICA</td>\n",
       "      <td>NaN</td>\n",
       "      <td>NaN</td>\n",
       "      <td>18008451112</td>\n",
       "    </tr>\n",
       "    <tr>\n",
       "      <th>1423044</th>\n",
       "      <td>0</td>\n",
       "      <td>{'streetaddress': '1433 Conway Road', 'address...</td>\n",
       "      <td>https://www.fairwaysuitespeak.com/blog/winter-...</td>\n",
       "      <td>Hotel_fairwaysuitespeak.com_September2020.json.gz</td>\n",
       "      <td>(716) 355-5014</td>\n",
       "      <td>US</td>\n",
       "      <td>-79.7276271</td>\n",
       "      <td>42.062021</td>\n",
       "      <td>7163555014</td>\n",
       "    </tr>\n",
       "    <tr>\n",
       "      <th>1423045</th>\n",
       "      <td>0</td>\n",
       "      <td>{'addresslocality': 'Boston', 'addresscountry'...</td>\n",
       "      <td>https://www.eliothotel.com/</td>\n",
       "      <td>Hotel_eliothotel.com_September2020.json.gz</td>\n",
       "      <td>(617) 267-1607</td>\n",
       "      <td>US</td>\n",
       "      <td>NaN</td>\n",
       "      <td>NaN</td>\n",
       "      <td>6172671607</td>\n",
       "    </tr>\n",
       "    <tr>\n",
       "      <th>1423046</th>\n",
       "      <td>0</td>\n",
       "      <td>{'addresslocality': 'De Funiak Springs', 'addr...</td>\n",
       "      <td>https://www.regencyinnfl.com/</td>\n",
       "      <td>Hotel_regencyinnfl.com_September2020.json.gz</td>\n",
       "      <td>(850) 892-6115</td>\n",
       "      <td>US</td>\n",
       "      <td>-86.122010</td>\n",
       "      <td>30.694060</td>\n",
       "      <td>8508926115</td>\n",
       "    </tr>\n",
       "    <tr>\n",
       "      <th>1423047</th>\n",
       "      <td>0</td>\n",
       "      <td>{'addresslocality': 'Koh Samui', 'addressregio...</td>\n",
       "      <td>https://samuigreenhotel.com/</td>\n",
       "      <td>Hotel_samuigreenhotel.com_September2020.json.gz</td>\n",
       "      <td>+66-(0)77-422-590</td>\n",
       "      <td>TH</td>\n",
       "      <td>100.0576° E</td>\n",
       "      <td>9.5216° N</td>\n",
       "      <td>66077422590</td>\n",
       "    </tr>\n",
       "  </tbody>\n",
       "</table>\n",
       "</div>"
      ],
      "text/plain": [
       "         row_id                                            address  \\\n",
       "1423043       0  {'postalcode': '29577', 'streetaddress': '803 ...   \n",
       "1423044       0  {'streetaddress': '1433 Conway Road', 'address...   \n",
       "1423045       0  {'addresslocality': 'Boston', 'addresscountry'...   \n",
       "1423046       0  {'addresslocality': 'De Funiak Springs', 'addr...   \n",
       "1423047       0  {'addresslocality': 'Koh Samui', 'addressregio...   \n",
       "\n",
       "                                                  page_url  \\\n",
       "1423043  https://www.seacrestmyrtlebeachresort.com/blog...   \n",
       "1423044  https://www.fairwaysuitespeak.com/blog/winter-...   \n",
       "1423045                        https://www.eliothotel.com/   \n",
       "1423046                      https://www.regencyinnfl.com/   \n",
       "1423047                       https://samuigreenhotel.com/   \n",
       "\n",
       "                                                    origin          telephone  \\\n",
       "1423043  Hotel_seacrestmyrtlebeachresort.com_September2...     1-800-845-1112   \n",
       "1423044  Hotel_fairwaysuitespeak.com_September2020.json.gz     (716) 355-5014   \n",
       "1423045         Hotel_eliothotel.com_September2020.json.gz     (617) 267-1607   \n",
       "1423046       Hotel_regencyinnfl.com_September2020.json.gz     (850) 892-6115   \n",
       "1423047    Hotel_samuigreenhotel.com_September2020.json.gz  +66-(0)77-422-590   \n",
       "\n",
       "        addresscountry    longitude   latitude   telephone_  \n",
       "1423043        AMERICA          NaN        NaN  18008451112  \n",
       "1423044             US  -79.7276271  42.062021   7163555014  \n",
       "1423045             US          NaN        NaN   6172671607  \n",
       "1423046             US   -86.122010  30.694060   8508926115  \n",
       "1423047             TH  100.0576° E  9.5216° N  66077422590  "
      ]
     },
     "execution_count": 38,
     "metadata": {},
     "output_type": "execute_result"
    }
   ],
   "source": [
    "df_clean = df_clean.drop(columns = [\"level_0\",\"index\"])\n",
    "df_clean.tail()"
   ]
  },
  {
   "cell_type": "code",
   "execution_count": null,
   "id": "49acf3d8",
   "metadata": {},
   "outputs": [],
   "source": [
    "len(df_clean)"
   ]
  },
  {
   "cell_type": "markdown",
   "id": "79448668",
   "metadata": {},
   "source": [
    "## Define normalizer for telephone package phonenumbers"
   ]
  },
  {
   "cell_type": "code",
   "execution_count": 39,
   "id": "69a2c029",
   "metadata": {},
   "outputs": [],
   "source": [
    "def normalizer(entity):\n",
    "    number = entity[\"telephone_\"]\n",
    "    address_country = entity[\"addresscountry\"]\n",
    "    phone_number = phonenumbers.parse(number, address_country)\n",
    "    return phone_number"
   ]
  },
  {
   "cell_type": "markdown",
   "id": "34348149",
   "metadata": {},
   "source": [
    "## Finally normalizing phone numbers in E.164 format\n",
    "\n",
    "### Ignore those which can not be identified and replace as ``unknown``"
   ]
  },
  {
   "cell_type": "code",
   "execution_count": 40,
   "id": "711fdd96",
   "metadata": {
    "scrolled": true
   },
   "outputs": [],
   "source": [
    "df_clean.reset_index(inplace=True)\n",
    "phone_objects =[]\n",
    "#index = []\n",
    "for row_index in df_clean.index:\n",
    "    try:\n",
    "        phone_object =  normalizer(df_clean.iloc[row_index])\n",
    "        #index.append(row_index)\n",
    "        phone_objects.append(phone_object)\n",
    "    except:\n",
    "        phone_objects.append(\"unknown\")\n",
    "    \n",
    "    "
   ]
  },
  {
   "cell_type": "code",
   "execution_count": null,
   "id": "14faafda",
   "metadata": {},
   "outputs": [],
   "source": [
    "len(phone_objects)"
   ]
  },
  {
   "cell_type": "code",
   "execution_count": null,
   "id": "4fe0aae8",
   "metadata": {
    "scrolled": false
   },
   "outputs": [],
   "source": [
    "df_clean[\"phone_object\"] = pd.Series(phone_objects)"
   ]
  },
  {
   "cell_type": "code",
   "execution_count": null,
   "id": "babf6e2e",
   "metadata": {},
   "outputs": [],
   "source": [
    "df_clean = df_clean.drop(columns = \"index\")\n",
    "df_clean.head()"
   ]
  },
  {
   "cell_type": "code",
   "execution_count": null,
   "id": "0da26809",
   "metadata": {},
   "outputs": [],
   "source": [
    "unknown_rows = df_clean[df_clean[\"phone_object\"] == \"unknown\"].index"
   ]
  },
  {
   "cell_type": "code",
   "execution_count": null,
   "id": "31881a1d",
   "metadata": {},
   "outputs": [],
   "source": [
    "df_clean = df_clean.drop(unknown_rows)"
   ]
  },
  {
   "cell_type": "code",
   "execution_count": null,
   "id": "ef5cfc81",
   "metadata": {
    "scrolled": true
   },
   "outputs": [],
   "source": [
    "len(df_clean)"
   ]
  },
  {
   "cell_type": "markdown",
   "id": "56399561",
   "metadata": {},
   "source": [
    "## Check whether phonenumbers are valid"
   ]
  },
  {
   "cell_type": "code",
   "execution_count": null,
   "id": "6f094ece",
   "metadata": {
    "scrolled": true
   },
   "outputs": [],
   "source": [
    "df_valid_numbers = df_clean[df_clean[\"phone_object\"].apply(phonenumbers.is_valid_number)]"
   ]
  },
  {
   "cell_type": "code",
   "execution_count": null,
   "id": "9efdcf5a",
   "metadata": {
    "scrolled": true
   },
   "outputs": [],
   "source": [
    "len(df_valid_numbers)"
   ]
  },
  {
   "cell_type": "markdown",
   "id": "13992ba0",
   "metadata": {},
   "source": [
    "## Next step: Format every telephone number into unique E.164 format"
   ]
  },
  {
   "cell_type": "code",
   "execution_count": null,
   "id": "472acd13",
   "metadata": {},
   "outputs": [],
   "source": [
    "#phonenumbers.format_number(df_valid_numbers[\"phone_object\"][0], phonenumbers.PhoneNumberFormat.E164)"
   ]
  },
  {
   "cell_type": "code",
   "execution_count": null,
   "id": "4c9c79b8",
   "metadata": {},
   "outputs": [],
   "source": [
    "df_valid_numbers[\"E.164 format\"] = df_valid_numbers[\"phone_object\"].apply(lambda objects: phonenumbers.format_number(objects, phonenumbers.PhoneNumberFormat.E164))"
   ]
  },
  {
   "cell_type": "code",
   "execution_count": null,
   "id": "0f4dce86",
   "metadata": {
    "scrolled": false
   },
   "outputs": [],
   "source": [
    "len(df_valid_numbers)"
   ]
  },
  {
   "cell_type": "code",
   "execution_count": null,
   "id": "ebfa00cd",
   "metadata": {},
   "outputs": [],
   "source": [
    "df_valid_numbers.head()"
   ]
  },
  {
   "cell_type": "markdown",
   "id": "2b4987b2",
   "metadata": {},
   "source": [
    "## After formatting phone numbers into unified format we can group by phone numbers to identify clusters"
   ]
  },
  {
   "cell_type": "code",
   "execution_count": null,
   "id": "ea38a2a7",
   "metadata": {
    "scrolled": false
   },
   "outputs": [],
   "source": [
    "df_valid_numbers[\"E.164 format\"].value_counts().sort_values().tail(20)"
   ]
  },
  {
   "cell_type": "markdown",
   "id": "46a7cfc5",
   "metadata": {},
   "source": [
    "## Adding the matching telephone numbers in a new column"
   ]
  },
  {
   "cell_type": "code",
   "execution_count": null,
   "id": "438d949e",
   "metadata": {},
   "outputs": [],
   "source": [
    "df_valid_numbers['telephoneNorm'] = df_valid_numbers['E.164 format'].str.replace('+','').astype(np.int64)"
   ]
  },
  {
   "cell_type": "code",
   "execution_count": null,
   "id": "e21ec45b",
   "metadata": {},
   "outputs": [],
   "source": [
    "# def createKDTree(tupleArray):\n",
    "#     tree = KDTree(tupleArray)\n",
    "#     return tree\n",
    "\n",
    "# # Return all values that are in a specific proximity\n",
    "# def queryTree(tree, point, r = 0):    \n",
    "#     point = [float(i) for i in point]\n",
    "#     idx = tree.query_ball_point(point, r)\n",
    "#     return idx\n",
    "\n",
    "\n",
    "# df_valid_numbers.reset_index(drop=True, inplace=True)\n",
    "# df_valid_numbers['indexValue'] = df_valid_numbers.index\n",
    "# telephoneArray = df_valid_numbers['telephoneNorm'].to_numpy().astype('int64')\n",
    "# fillArray = np.full(len(telephoneArray), 1)\n",
    "# tupleArray = np.array((telephoneArray, fillArray)).T.astype('int64')\n",
    "\n",
    "\n",
    "# # create new column with all matching points\n",
    "# tree = createKDTree(tupleArray)\n",
    "# idx = queryTree(tree, tupleArray[0])\n",
    "\n",
    "# # Search for the closest neighbour in all of the points\n",
    "# df_valid_numbers['MatchingNumbers'] = df_valid_numbers.apply(lambda row: queryTree(tree,[row['telephoneNorm'], 1]), axis=1) "
   ]
  },
  {
   "cell_type": "code",
   "execution_count": null,
   "id": "d81d7a24",
   "metadata": {},
   "outputs": [],
   "source": [
    "# len(df_valid_numbers)"
   ]
  },
  {
   "cell_type": "code",
   "execution_count": null,
   "id": "b5bf7265",
   "metadata": {},
   "outputs": [],
   "source": [
    "# # # filter out the values which only have one value\n",
    "# data = df_valid_numbers[df_valid_numbers['MatchingNumbers'].apply(lambda x: len(x) > 1)]"
   ]
  },
  {
   "cell_type": "markdown",
   "id": "ac32b7f2",
   "metadata": {},
   "source": [
    "## Throwing out noisy clusters\n",
    "\n",
    "### Throw out everything > 100 (interim step)\n",
    "### Some peaks come fromt the same table --> could delete those entries right away"
   ]
  },
  {
   "cell_type": "code",
   "execution_count": null,
   "id": "9d8e613f",
   "metadata": {
    "scrolled": true
   },
   "outputs": [],
   "source": [
    "# data[\"telephoneNorm\"].value_counts()"
   ]
  },
  {
   "cell_type": "code",
   "execution_count": null,
   "id": "573fd446",
   "metadata": {},
   "outputs": [],
   "source": [
    "# data.loc[df_valid_numbers[\"telephoneNorm\"] == 18884082399]"
   ]
  },
  {
   "cell_type": "code",
   "execution_count": null,
   "id": "d859f588",
   "metadata": {},
   "outputs": [],
   "source": [
    "# len(data)"
   ]
  },
  {
   "cell_type": "code",
   "execution_count": null,
   "id": "fc0148dc",
   "metadata": {},
   "outputs": [],
   "source": [
    "# data.head()"
   ]
  },
  {
   "cell_type": "markdown",
   "id": "51c64fb3",
   "metadata": {},
   "source": [
    "## Additional Filtering by Geo Location"
   ]
  },
  {
   "cell_type": "code",
   "execution_count": null,
   "id": "afc206ce",
   "metadata": {},
   "outputs": [],
   "source": [
    "# def calcDifference(pointOne, pointTwo):\n",
    "#     return geopy.distance.great_circle(pointOne, pointTwo).km\n",
    "\n",
    "# def calcDifferenceFromRow (row):\n",
    "#     tmp = data\n",
    "#     indexValue = row['indexValue']\n",
    "#     indexPosition = (row[lat], row[lon])\n",
    "#     diffList = []\n",
    "#     for value in row['MatchingGeoPoints']:\n",
    "#         if not value in tmp.index:\n",
    "#             continue\n",
    "#         currRow = data.loc[data['indexValue'] == value]\n",
    "#         currIndex = currRow['indexValue'].values[0]\n",
    "#         if currIndex == indexValue:\n",
    "#             diffList.append(-1)\n",
    "#         else:            \n",
    "#             currPosition = (currRow[lat].values[0], currRow[lon].values[0])\n",
    "#             diffList.append(calcDifference(indexPosition, currPosition))\n",
    "#     return diffList\n"
   ]
  },
  {
   "cell_type": "markdown",
   "id": "b5b85c07",
   "metadata": {},
   "source": [
    "## Experiment with different radius --> check radius = 0.001 ?"
   ]
  },
  {
   "cell_type": "code",
   "execution_count": null,
   "id": "70c3c18d",
   "metadata": {
    "scrolled": true
   },
   "outputs": [],
   "source": [
    "# def createKDTree(tupleArray):\n",
    "#     tree = KDTree(tupleArray)\n",
    "#     return tree\n",
    "\n",
    "# # Return all values that are in a specific proximity\n",
    "# def queryTree(tree, point, radius = 0.001):    \n",
    "#     point = [float(i) for i in point]\n",
    "#     idx = tree.query_ball_point(point, r=radius)\n",
    "#     return idx\n",
    "#     idx = tree.query(point, k=neighbours)\n",
    "#     return idx[1]\n",
    "\n",
    "# # convert to tuples and from string to float\n",
    "# lonArr = data[lon].to_numpy()\n",
    "# latArr = data[lat].to_numpy()\n",
    "# tupleArray = np.array((lonArr, latArr)).T.astype('float32')\n",
    "\n",
    "# data.reset_index(drop=True, inplace=True)\n",
    "# data['indexValue'] = data.index\n",
    "\n",
    "# # create new column with all matching points\n",
    "# tree = createKDTree(tupleArray)\n",
    "# idx = queryTree(tree, tupleArray[0])\n",
    "\n",
    "# # Search for the closest neighbour in all of the points\n",
    "# data['MatchingGeoPoints'] = data.apply(lambda row: queryTree(tree,[row[lon], row[lat]]), axis=1) \n",
    "\n",
    "# # Keep those that have one or more matches withing the radius\n",
    "# data = data[data['MatchingGeoPoints'].apply(lambda x: len(x) > 1)]"
   ]
  },
  {
   "cell_type": "code",
   "execution_count": null,
   "id": "5a6cb2b4",
   "metadata": {
    "scrolled": true
   },
   "outputs": [],
   "source": [
    "# data[\"telephoneNorm\"].value_counts().tail(20)"
   ]
  },
  {
   "cell_type": "code",
   "execution_count": null,
   "id": "21156e0d",
   "metadata": {},
   "outputs": [],
   "source": [
    "# pd.set_option('max_colwidth', 400)"
   ]
  },
  {
   "cell_type": "code",
   "execution_count": null,
   "id": "176cb4d7",
   "metadata": {},
   "outputs": [],
   "source": [
    "# data.loc[data[\"telephoneNorm\"] == 16103991390]"
   ]
  },
  {
   "cell_type": "markdown",
   "id": "b960fc0a",
   "metadata": {},
   "source": [
    "## !Export table with condition and without condition !"
   ]
  },
  {
   "cell_type": "code",
   "execution_count": null,
   "id": "b87fdefd",
   "metadata": {},
   "outputs": [],
   "source": [
    "# data.loc[data['indexValue'] == 5]"
   ]
  },
  {
   "cell_type": "code",
   "execution_count": null,
   "id": "f77a2ad4",
   "metadata": {},
   "outputs": [],
   "source": [
    "# Calculate the difference in km between those\n",
    "#data['Difference'] = data.apply(lambda row: calcDifferenceFromRow(row), axis=1) "
   ]
  },
  {
   "cell_type": "code",
   "execution_count": null,
   "id": "ecc13e2d",
   "metadata": {},
   "outputs": [],
   "source": [
    "# data.iloc[3:4]"
   ]
  },
  {
   "cell_type": "code",
   "execution_count": null,
   "id": "054db294",
   "metadata": {},
   "outputs": [],
   "source": [
    "# len(data)"
   ]
  },
  {
   "cell_type": "code",
   "execution_count": null,
   "id": "4995935c",
   "metadata": {},
   "outputs": [],
   "source": [
    "# data[\"origin\"].value_counts()"
   ]
  },
  {
   "cell_type": "code",
   "execution_count": null,
   "id": "b595d143",
   "metadata": {},
   "outputs": [],
   "source": [
    "# data.loc[data['indexValue'] == 32][['name', 'address', 'page_url', 'E.164 format', lat, lon]]"
   ]
  },
  {
   "cell_type": "code",
   "execution_count": null,
   "id": "b28783f7",
   "metadata": {},
   "outputs": [],
   "source": [
    "# data.loc[data['indexValue'] == 21907]"
   ]
  },
  {
   "cell_type": "code",
   "execution_count": null,
   "id": "9b34c3c5",
   "metadata": {},
   "outputs": [],
   "source": [
    "df_valid_numbers.to_json(\"Concatenated_MatchingFile_with_rest\", compression=\"gzip\", orient='records', lines=True)"
   ]
  }
 ],
 "metadata": {
  "interpreter": {
   "hash": "4e6c05dd04d5f1ab156515bda71d539c3517fd88dab50801005ef579a3eac424"
  },
  "kernelspec": {
   "display_name": "Python 3 (ipykernel)",
   "language": "python",
   "name": "python3"
  }
 },
 "nbformat": 4,
 "nbformat_minor": 5
}
