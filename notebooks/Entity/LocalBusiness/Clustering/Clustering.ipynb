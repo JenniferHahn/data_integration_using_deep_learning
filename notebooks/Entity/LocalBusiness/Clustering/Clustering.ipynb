{
 "cells": [
  {
   "cell_type": "code",
   "execution_count": 1,
   "metadata": {},
   "outputs": [],
   "source": [
    "import numpy as np\n",
    "import pandas as pd\n",
    "import gzip\n",
    "import json"
   ]
  },
  {
   "cell_type": "code",
   "execution_count": 2,
   "metadata": {},
   "outputs": [],
   "source": [
    "path = r'../../../Results/'\n",
    "file = r'Concatenated_MFile.gz'\n",
    "pathFile = path + file"
   ]
  },
  {
   "cell_type": "code",
   "execution_count": 57,
   "metadata": {},
   "outputs": [],
   "source": [
    "dataList = []\n",
    "\n",
    "with gzip.open(pathFile, 'r') as dataFile:\n",
    "    for line in dataFile:\n",
    "        lineData = json.loads(line.decode('utf-8'))\n",
    "        dataList.append(lineData)\n",
    "data = pd.DataFrame(dataList)"
   ]
  },
  {
   "cell_type": "code",
   "execution_count": 58,
   "metadata": {},
   "outputs": [
    {
     "data": {
      "text/plain": [
       "180823"
      ]
     },
     "execution_count": 58,
     "metadata": {},
     "output_type": "execute_result"
    }
   ],
   "source": [
    "len(data)"
   ]
  },
  {
   "cell_type": "code",
   "execution_count": 32,
   "metadata": {},
   "outputs": [],
   "source": [
    "data.longitude = data.longitude.round(3)\n",
    "data.latitude = data.latitude.round(3)"
   ]
  },
  {
   "cell_type": "code",
   "execution_count": 43,
   "metadata": {},
   "outputs": [],
   "source": [
    "cluster = data.groupby(['E.164 format', 'latitude', 'longitude']).size().reset_index(name='counts')\n",
    "cluster = cluster.sort_values('counts', ascending=False)\n",
    "pd.set_option('max_colwidth', 400)"
   ]
  },
  {
   "cell_type": "code",
   "execution_count": 55,
   "metadata": {},
   "outputs": [],
   "source": [
    "phoneNumbers = cluster['E.164 format'].loc[cluster['counts'] > 200]\n",
    "data = data[~data['E.164 format'].isin(phoneNumbers)]"
   ]
  },
  {
   "cell_type": "code",
   "execution_count": 56,
   "metadata": {},
   "outputs": [],
   "source": [
    "data.to_json(pathFile, compression=\"gzip\", orient='records', lines=True)"
   ]
  }
 ],
 "metadata": {
  "interpreter": {
   "hash": "4e6c05dd04d5f1ab156515bda71d539c3517fd88dab50801005ef579a3eac424"
  },
  "kernelspec": {
   "display_name": "Python 3 (ipykernel)",
   "language": "python",
   "name": "python3"
  },
  "language_info": {
   "codemirror_mode": {
    "name": "ipython",
    "version": 3
   },
   "file_extension": ".py",
   "mimetype": "text/x-python",
   "name": "python",
   "nbconvert_exporter": "python",
   "pygments_lexer": "ipython3",
   "version": "3.8.8"
  }
 },
 "nbformat": 4,
 "nbformat_minor": 2
}
