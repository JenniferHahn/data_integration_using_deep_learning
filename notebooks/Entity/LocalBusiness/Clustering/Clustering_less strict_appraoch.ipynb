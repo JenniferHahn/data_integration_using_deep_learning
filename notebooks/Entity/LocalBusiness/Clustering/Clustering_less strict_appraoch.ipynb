{
 "cells": [
  {
   "cell_type": "code",
   "execution_count": 11,
   "metadata": {},
   "outputs": [],
   "source": [
    "import numpy as np\n",
    "import pandas as pd\n",
    "import gzip\n",
    "import json\n",
    "import os"
   ]
  },
  {
   "cell_type": "code",
   "execution_count": 2,
   "metadata": {},
   "outputs": [],
   "source": [
    "path = r'../../../Results/'\n",
    "file = r'Concatenated_MFile.gz'\n",
    "pathFile = path + file"
   ]
  },
  {
   "cell_type": "code",
   "execution_count": 3,
   "metadata": {},
   "outputs": [],
   "source": [
    "dataList = []\n",
    "\n",
    "with gzip.open(pathFile, 'r') as dataFile:\n",
    "    for line in dataFile:\n",
    "        lineData = json.loads(line.decode('utf-8'))\n",
    "        dataList.append(lineData)\n",
    "data = pd.DataFrame(dataList)"
   ]
  },
  {
   "cell_type": "code",
   "execution_count": 4,
   "metadata": {},
   "outputs": [
    {
     "data": {
      "text/plain": [
       "192665"
      ]
     },
     "execution_count": 4,
     "metadata": {},
     "output_type": "execute_result"
    }
   ],
   "source": [
    "len(data)"
   ]
  },
  {
   "cell_type": "code",
   "execution_count": 7,
   "metadata": {},
   "outputs": [
    {
     "data": {
      "text/plain": [
       "1928"
      ]
     },
     "execution_count": 7,
     "metadata": {},
     "output_type": "execute_result"
    }
   ],
   "source": [
    "data[\"origin\"].nunique()"
   ]
  },
  {
   "cell_type": "code",
   "execution_count": 31,
   "metadata": {},
   "outputs": [],
   "source": [
    "path = r'../../../../src/data/Restaurant/Restaurant_minimum3/geo_preprocessed'"
   ]
  },
  {
   "cell_type": "code",
   "execution_count": 32,
   "metadata": {},
   "outputs": [
    {
     "data": {
      "text/plain": [
       "1093"
      ]
     },
     "execution_count": 32,
     "metadata": {},
     "output_type": "execute_result"
    }
   ],
   "source": [
    "len(os.listdir(path))"
   ]
  },
  {
   "cell_type": "markdown",
   "metadata": {},
   "source": [
    "## Conclusion our Concatenated_MFile has too less entries to begin with\n",
    "\n",
    "- Option 1: Use additional Data?\n",
    "\n",
    "\n",
    "- Option 2: **use a less strict appraoch in the first place**\n"
   ]
  },
  {
   "cell_type": "code",
   "execution_count": 7,
   "metadata": {},
   "outputs": [],
   "source": [
    "data.longitude = data.longitude.round(5)\n",
    "data.latitude = data.latitude.round(5)"
   ]
  },
  {
   "cell_type": "code",
   "execution_count": 25,
   "metadata": {},
   "outputs": [],
   "source": [
    "cluster = data.groupby(['E.164 format', 'latitude', 'longitude']).size().reset_index(name='counts')\n",
    "cluster = cluster.sort_values('counts', ascending=False)\n",
    "pd.set_option('max_colwidth', 400)"
   ]
  },
  {
   "cell_type": "code",
   "execution_count": 81,
   "metadata": {
    "scrolled": false
   },
   "outputs": [
    {
     "data": {
      "text/html": [
       "<div>\n",
       "<style scoped>\n",
       "    .dataframe tbody tr th:only-of-type {\n",
       "        vertical-align: middle;\n",
       "    }\n",
       "\n",
       "    .dataframe tbody tr th {\n",
       "        vertical-align: top;\n",
       "    }\n",
       "\n",
       "    .dataframe thead th {\n",
       "        text-align: right;\n",
       "    }\n",
       "</style>\n",
       "<table border=\"1\" class=\"dataframe\">\n",
       "  <thead>\n",
       "    <tr style=\"text-align: right;\">\n",
       "      <th></th>\n",
       "      <th>E.164 format</th>\n",
       "      <th>latitude</th>\n",
       "      <th>longitude</th>\n",
       "      <th>counts</th>\n",
       "    </tr>\n",
       "  </thead>\n",
       "  <tbody>\n",
       "    <tr>\n",
       "      <th>28585</th>\n",
       "      <td>+17136954939</td>\n",
       "      <td>29.79909</td>\n",
       "      <td>-95.36764</td>\n",
       "      <td>2053</td>\n",
       "    </tr>\n",
       "    <tr>\n",
       "      <th>66568</th>\n",
       "      <td>+443458121007</td>\n",
       "      <td>51.55645</td>\n",
       "      <td>0.70062</td>\n",
       "      <td>1701</td>\n",
       "    </tr>\n",
       "    <tr>\n",
       "      <th>63719</th>\n",
       "      <td>+442035985088</td>\n",
       "      <td>51.42955</td>\n",
       "      <td>-0.12394</td>\n",
       "      <td>1506</td>\n",
       "    </tr>\n",
       "    <tr>\n",
       "      <th>58697</th>\n",
       "      <td>+421905383904</td>\n",
       "      <td>48.14383</td>\n",
       "      <td>17.85810</td>\n",
       "      <td>515</td>\n",
       "    </tr>\n",
       "    <tr>\n",
       "      <th>69152</th>\n",
       "      <td>+48570600559</td>\n",
       "      <td>49.95232</td>\n",
       "      <td>18.59726</td>\n",
       "      <td>416</td>\n",
       "    </tr>\n",
       "    <tr>\n",
       "      <th>...</th>\n",
       "      <td>...</td>\n",
       "      <td>...</td>\n",
       "      <td>...</td>\n",
       "      <td>...</td>\n",
       "    </tr>\n",
       "    <tr>\n",
       "      <th>49121</th>\n",
       "      <td>+18887964652</td>\n",
       "      <td>33.69740</td>\n",
       "      <td>-78.87371</td>\n",
       "      <td>1</td>\n",
       "    </tr>\n",
       "    <tr>\n",
       "      <th>49122</th>\n",
       "      <td>+18887964652</td>\n",
       "      <td>33.72066</td>\n",
       "      <td>-78.87742</td>\n",
       "      <td>1</td>\n",
       "    </tr>\n",
       "    <tr>\n",
       "      <th>21083</th>\n",
       "      <td>+16019567079</td>\n",
       "      <td>32.36586</td>\n",
       "      <td>-90.14700</td>\n",
       "      <td>1</td>\n",
       "    </tr>\n",
       "    <tr>\n",
       "      <th>49124</th>\n",
       "      <td>+18887964652</td>\n",
       "      <td>33.72519</td>\n",
       "      <td>-78.84001</td>\n",
       "      <td>1</td>\n",
       "    </tr>\n",
       "    <tr>\n",
       "      <th>40881</th>\n",
       "      <td>+18555161090</td>\n",
       "      <td>33.76177</td>\n",
       "      <td>-84.39549</td>\n",
       "      <td>1</td>\n",
       "    </tr>\n",
       "  </tbody>\n",
       "</table>\n",
       "<p>81763 rows × 4 columns</p>\n",
       "</div>"
      ],
      "text/plain": [
       "        E.164 format  latitude  longitude  counts\n",
       "28585   +17136954939  29.79909  -95.36764    2053\n",
       "66568  +443458121007  51.55645    0.70062    1701\n",
       "63719  +442035985088  51.42955   -0.12394    1506\n",
       "58697  +421905383904  48.14383   17.85810     515\n",
       "69152   +48570600559  49.95232   18.59726     416\n",
       "...              ...       ...        ...     ...\n",
       "49121   +18887964652  33.69740  -78.87371       1\n",
       "49122   +18887964652  33.72066  -78.87742       1\n",
       "21083   +16019567079  32.36586  -90.14700       1\n",
       "49124   +18887964652  33.72519  -78.84001       1\n",
       "40881   +18555161090  33.76177  -84.39549       1\n",
       "\n",
       "[81763 rows x 4 columns]"
      ]
     },
     "execution_count": 81,
     "metadata": {},
     "output_type": "execute_result"
    }
   ],
   "source": [
    "cluster"
   ]
  },
  {
   "cell_type": "code",
   "execution_count": 80,
   "metadata": {},
   "outputs": [
    {
     "data": {
      "text/plain": [
       "28585     True\n",
       "66568     True\n",
       "63719     True\n",
       "58697     True\n",
       "69152     True\n",
       "         ...  \n",
       "49121    False\n",
       "49122    False\n",
       "21083    False\n",
       "49124    False\n",
       "40881    False\n",
       "Name: counts, Length: 81763, dtype: bool"
      ]
     },
     "execution_count": 80,
     "metadata": {},
     "output_type": "execute_result"
    }
   ],
   "source": [
    "cluster['counts'] > 200"
   ]
  },
  {
   "cell_type": "code",
   "execution_count": 82,
   "metadata": {},
   "outputs": [],
   "source": [
    "phoneNumbers = cluster['E.164 format'].loc[cluster['counts'] > 200]\n",
    "data = data[~data['E.164 format'].isin(phoneNumbers)]"
   ]
  },
  {
   "cell_type": "code",
   "execution_count": 83,
   "metadata": {},
   "outputs": [
    {
     "data": {
      "text/html": [
       "<div>\n",
       "<style scoped>\n",
       "    .dataframe tbody tr th:only-of-type {\n",
       "        vertical-align: middle;\n",
       "    }\n",
       "\n",
       "    .dataframe tbody tr th {\n",
       "        vertical-align: top;\n",
       "    }\n",
       "\n",
       "    .dataframe thead th {\n",
       "        text-align: right;\n",
       "    }\n",
       "</style>\n",
       "<table border=\"1\" class=\"dataframe\">\n",
       "  <thead>\n",
       "    <tr style=\"text-align: right;\">\n",
       "      <th></th>\n",
       "      <th>E.164 format</th>\n",
       "      <th>latitude</th>\n",
       "      <th>longitude</th>\n",
       "      <th>counts</th>\n",
       "    </tr>\n",
       "  </thead>\n",
       "  <tbody>\n",
       "    <tr>\n",
       "      <th>5630</th>\n",
       "      <td>+12813921166</td>\n",
       "      <td>29.70628</td>\n",
       "      <td>-95.74338</td>\n",
       "      <td>195</td>\n",
       "    </tr>\n",
       "    <tr>\n",
       "      <th>56640</th>\n",
       "      <td>+34932554084</td>\n",
       "      <td>41.41580</td>\n",
       "      <td>2.13866</td>\n",
       "      <td>192</td>\n",
       "    </tr>\n",
       "    <tr>\n",
       "      <th>63275</th>\n",
       "      <td>+441934521155</td>\n",
       "      <td>51.36261</td>\n",
       "      <td>-2.91280</td>\n",
       "      <td>192</td>\n",
       "    </tr>\n",
       "    <tr>\n",
       "      <th>61994</th>\n",
       "      <td>+441623646000</td>\n",
       "      <td>53.15599</td>\n",
       "      <td>-1.18753</td>\n",
       "      <td>187</td>\n",
       "    </tr>\n",
       "    <tr>\n",
       "      <th>12022</th>\n",
       "      <td>+14046364800</td>\n",
       "      <td>33.88618</td>\n",
       "      <td>-84.26237</td>\n",
       "      <td>180</td>\n",
       "    </tr>\n",
       "    <tr>\n",
       "      <th>...</th>\n",
       "      <td>...</td>\n",
       "      <td>...</td>\n",
       "      <td>...</td>\n",
       "      <td>...</td>\n",
       "    </tr>\n",
       "    <tr>\n",
       "      <th>49100</th>\n",
       "      <td>+18887867384</td>\n",
       "      <td>42.00718</td>\n",
       "      <td>-87.82309</td>\n",
       "      <td>1</td>\n",
       "    </tr>\n",
       "    <tr>\n",
       "      <th>49101</th>\n",
       "      <td>+18887867384</td>\n",
       "      <td>42.96273</td>\n",
       "      <td>-85.63750</td>\n",
       "      <td>1</td>\n",
       "    </tr>\n",
       "    <tr>\n",
       "      <th>49103</th>\n",
       "      <td>+18887919099</td>\n",
       "      <td>40.73744</td>\n",
       "      <td>-74.04313</td>\n",
       "      <td>1</td>\n",
       "    </tr>\n",
       "    <tr>\n",
       "      <th>49105</th>\n",
       "      <td>+18887964652</td>\n",
       "      <td>33.47594</td>\n",
       "      <td>-79.11422</td>\n",
       "      <td>1</td>\n",
       "    </tr>\n",
       "    <tr>\n",
       "      <th>40868</th>\n",
       "      <td>+18555161090</td>\n",
       "      <td>33.76161</td>\n",
       "      <td>-84.38731</td>\n",
       "      <td>1</td>\n",
       "    </tr>\n",
       "  </tbody>\n",
       "</table>\n",
       "<p>81737 rows × 4 columns</p>\n",
       "</div>"
      ],
      "text/plain": [
       "        E.164 format  latitude  longitude  counts\n",
       "5630    +12813921166  29.70628  -95.74338     195\n",
       "56640   +34932554084  41.41580    2.13866     192\n",
       "63275  +441934521155  51.36261   -2.91280     192\n",
       "61994  +441623646000  53.15599   -1.18753     187\n",
       "12022   +14046364800  33.88618  -84.26237     180\n",
       "...              ...       ...        ...     ...\n",
       "49100   +18887867384  42.00718  -87.82309       1\n",
       "49101   +18887867384  42.96273  -85.63750       1\n",
       "49103   +18887919099  40.73744  -74.04313       1\n",
       "49105   +18887964652  33.47594  -79.11422       1\n",
       "40868   +18555161090  33.76161  -84.38731       1\n",
       "\n",
       "[81737 rows x 4 columns]"
      ]
     },
     "execution_count": 83,
     "metadata": {},
     "output_type": "execute_result"
    }
   ],
   "source": [
    "cluster_clean = data.groupby(['E.164 format', 'latitude', 'longitude']).size().reset_index(name='counts')\n",
    "cluster_clean = cluster_clean.sort_values('counts', ascending=False)\n",
    "cluster_clean"
   ]
  },
  {
   "cell_type": "code",
   "execution_count": 84,
   "metadata": {},
   "outputs": [
    {
     "data": {
      "text/plain": [
       "180823"
      ]
     },
     "execution_count": 84,
     "metadata": {},
     "output_type": "execute_result"
    }
   ],
   "source": [
    "len(data)"
   ]
  },
  {
   "cell_type": "code",
   "execution_count": null,
   "metadata": {},
   "outputs": [],
   "source": [
    "file = 'LB_ClusteringResult.gz'\n",
    "data.to_json(path + file, compression=\"gzip\", orient='records', lines=True)"
   ]
  }
 ],
 "metadata": {
  "interpreter": {
   "hash": "4e6c05dd04d5f1ab156515bda71d539c3517fd88dab50801005ef579a3eac424"
  },
  "kernelspec": {
   "display_name": "Python 3 (ipykernel)",
   "language": "python",
   "name": "python3"
  },
  "language_info": {
   "codemirror_mode": {
    "name": "ipython",
    "version": 3
   },
   "file_extension": ".py",
   "mimetype": "text/x-python",
   "name": "python",
   "nbconvert_exporter": "python",
   "pygments_lexer": "ipython3",
   "version": "3.8.8"
  }
 },
 "nbformat": 4,
 "nbformat_minor": 2
}
