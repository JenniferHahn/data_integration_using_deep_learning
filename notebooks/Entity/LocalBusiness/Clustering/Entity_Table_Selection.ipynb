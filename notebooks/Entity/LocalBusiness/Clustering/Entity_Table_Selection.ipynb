{
 "cells": [
  {
   "cell_type": "code",
   "execution_count": 8,
   "metadata": {},
   "outputs": [],
   "source": [
    "import os\n",
    "import pandas as pd\n",
    "import plotly.express as px\n",
    "import progressbar\n",
    "import json\n",
    "import numpy as np\n",
    "import nltk\n",
    "from nltk.corpus import stopwords\n",
    "import string\n",
    "from gensim.models.doc2vec import Doc2Vec, TaggedDocument\n",
    "from nltk.tokenize import word_tokenize\n",
    "pd.set_option('display.max_colwidth', 20)\n",
    "import gzip\n"
   ]
  },
  {
   "cell_type": "code",
   "execution_count": 16,
   "metadata": {},
   "outputs": [],
   "source": [
    "path = r'../../../../src//data/LocalBusiness/MFile_cleaned_withLBname'\n",
    "dataList = []\n",
    "\n",
    "with gzip.open(path, 'r') as dataFile:\n",
    "    for line in dataFile:\n",
    "        lineData = json.loads(line.decode('utf-8'))\n",
    "        dataList.append(lineData)\n",
    "data = pd.DataFrame(dataList)"
   ]
  },
  {
   "cell_type": "code",
   "execution_count": 27,
   "metadata": {},
   "outputs": [
    {
     "data": {
      "text/plain": [
       "array([ 2,  3,  4,  5,  6, 11,  9,  7, 12,  8, 13, 14, 10, 15])"
      ]
     },
     "execution_count": 27,
     "metadata": {},
     "output_type": "execute_result"
    }
   ],
   "source": [
    "data[\"clusterNtables\"].unique()"
   ]
  },
  {
   "cell_type": "code",
   "execution_count": 3,
   "metadata": {
    "pycharm": {
     "name": "#%%\n"
    }
   },
   "outputs": [],
   "source": [
    "def remove_stopwords(token_vector, stopwords_list):\n",
    "    return token_vector.apply(lambda token_list: [word for word in token_list if word not in stopwords_list])\n",
    "\n",
    "\n",
    "def remove_punctuation(token_vector):\n",
    "    return token_vector.apply(lambda token_list: [word for word in token_list if word not in string.punctuation])\n",
    "\n",
    "def jaccard_similarity_score(original, translation):\n",
    "    intersect = set(original).intersection(set(translation))\n",
    "    union = set(original).union(set(translation))\n",
    "    try:\n",
    "        return len(intersect) / len(union)\n",
    "    except ZeroDivisionError:\n",
    "        return 0\n",
    "def delete_empty_rows(df):\n",
    "    rows = []\n",
    "    for i, row in enumerate(df['name']):\n",
    "        if type(row) != str:\n",
    "            rows.append(i)\n",
    "    df_clean = df.drop(index=rows)\n",
    "    df_clean = df_clean.reset_index(drop=True)\n",
    "    return df_clean"
   ]
  },
  {
   "cell_type": "code",
   "execution_count": 144,
   "metadata": {},
   "outputs": [
    {
     "data": {
      "text/plain": [
       "40389"
      ]
     },
     "execution_count": 144,
     "metadata": {},
     "output_type": "execute_result"
    }
   ],
   "source": [
    "len(data)"
   ]
  },
  {
   "cell_type": "code",
   "execution_count": 44,
   "metadata": {
    "scrolled": false
   },
   "outputs": [
    {
     "data": {
      "text/html": [
       "<div>\n",
       "<style scoped>\n",
       "    .dataframe tbody tr th:only-of-type {\n",
       "        vertical-align: middle;\n",
       "    }\n",
       "\n",
       "    .dataframe tbody tr th {\n",
       "        vertical-align: top;\n",
       "    }\n",
       "\n",
       "    .dataframe thead th {\n",
       "        text-align: right;\n",
       "    }\n",
       "</style>\n",
       "<table border=\"1\" class=\"dataframe\">\n",
       "  <thead>\n",
       "    <tr style=\"text-align: right;\">\n",
       "      <th></th>\n",
       "      <th>row_id</th>\n",
       "      <th>name</th>\n",
       "      <th>address</th>\n",
       "      <th>page_url</th>\n",
       "      <th>addressregion</th>\n",
       "      <th>streetaddress</th>\n",
       "      <th>addresscountry</th>\n",
       "      <th>addresslocality</th>\n",
       "      <th>postalcode</th>\n",
       "      <th>table_id</th>\n",
       "      <th>...</th>\n",
       "      <th>E.164 format</th>\n",
       "      <th>telephoneNorm</th>\n",
       "      <th>indexValue</th>\n",
       "      <th>MatchingNumbers</th>\n",
       "      <th>distance</th>\n",
       "      <th>MatchingNumbers_New</th>\n",
       "      <th>cluster_id</th>\n",
       "      <th>clusterNtables</th>\n",
       "      <th>tableNclusters</th>\n",
       "      <th>business_tokens</th>\n",
       "    </tr>\n",
       "  </thead>\n",
       "  <tbody>\n",
       "    <tr>\n",
       "      <th>0</th>\n",
       "      <td>5860</td>\n",
       "      <td>le méridien visconti rome</td>\n",
       "      <td>{'addresslocality': 'Rome', 'postalcode': '00193', 'streetaddress': 'Via Federico Cesi 37', 'addresscountry': 'Italy'}</td>\n",
       "      <td>https://whattoexpect.marriott.com/rommd</td>\n",
       "      <td>None</td>\n",
       "      <td>VIA FEDERICO CESI 37</td>\n",
       "      <td>IT</td>\n",
       "      <td>ROME</td>\n",
       "      <td>00193</td>\n",
       "      <td>Hotel_marriott.com_September2020.json.gz</td>\n",
       "      <td>...</td>\n",
       "      <td>39063684</td>\n",
       "      <td>39063684</td>\n",
       "      <td>591585</td>\n",
       "      <td>[591585, 589400, 587459]</td>\n",
       "      <td>[-1, 0.0, 0.0]</td>\n",
       "      <td>[591585, 589400, 587459]</td>\n",
       "      <td>1</td>\n",
       "      <td>2</td>\n",
       "      <td>3096</td>\n",
       "      <td>[le, méridien, visconti, rome]</td>\n",
       "    </tr>\n",
       "    <tr>\n",
       "      <th>1</th>\n",
       "      <td>5229</td>\n",
       "      <td>residence inn boston franklin</td>\n",
       "      <td>{'addressregion': 'Massachusetts', 'postalcode': '02038', 'addresslocality': 'Franklin', 'streetaddress': '4 Forge Parkway', 'addresscountry': 'USA'}</td>\n",
       "      <td>https://www.marriott.com/hotels/local-things-to-do/bosfr-residence-inn-boston-franklin/</td>\n",
       "      <td>Massachusetts</td>\n",
       "      <td>4 FORGE PARKWAY</td>\n",
       "      <td>US</td>\n",
       "      <td>FRANKLIN</td>\n",
       "      <td>02038</td>\n",
       "      <td>Hotel_marriott.com_September2020.json.gz</td>\n",
       "      <td>...</td>\n",
       "      <td>15085418188</td>\n",
       "      <td>15085418188</td>\n",
       "      <td>591212</td>\n",
       "      <td>[591212, 585732, 602392]</td>\n",
       "      <td>[-1, 0.0, 0.0]</td>\n",
       "      <td>[591212, 585732, 602392]</td>\n",
       "      <td>4342</td>\n",
       "      <td>3</td>\n",
       "      <td>3096</td>\n",
       "      <td>[residence, inn, boston, franklin]</td>\n",
       "    </tr>\n",
       "    <tr>\n",
       "      <th>2</th>\n",
       "      <td>5971</td>\n",
       "      <td>residence inn boston foxborough</td>\n",
       "      <td>{'addresslocality': 'Foxborough', 'addressregion': 'Massachusetts', 'postalcode': '02035', 'streetaddress': '250 Foxborough Blvd', 'addresscountry': 'USA'}</td>\n",
       "      <td>https://www.marriott.com/hotels/travel/bosfx-residence-inn-boston-foxborough/</td>\n",
       "      <td>Massachusetts</td>\n",
       "      <td>250 FOXBOROUGH BLVD</td>\n",
       "      <td>US</td>\n",
       "      <td>FOXBOROUGH</td>\n",
       "      <td>02035</td>\n",
       "      <td>Hotel_marriott.com_September2020.json.gz</td>\n",
       "      <td>...</td>\n",
       "      <td>15086982800</td>\n",
       "      <td>15086982800</td>\n",
       "      <td>591654</td>\n",
       "      <td>[587766, 591654, 600468]</td>\n",
       "      <td>[0.0, -1, 0.0]</td>\n",
       "      <td>[587766, 591654, 600468]</td>\n",
       "      <td>4359</td>\n",
       "      <td>3</td>\n",
       "      <td>3096</td>\n",
       "      <td>[residence, inn, boston, foxborough]</td>\n",
       "    </tr>\n",
       "    <tr>\n",
       "      <th>3</th>\n",
       "      <td>7383</td>\n",
       "      <td>residence inn boston bridgewater</td>\n",
       "      <td>{'postalcode': '02324', 'addressregion': 'Massachusetts', 'addresslocality': 'Bridgewater', 'streetaddress': '2020 Pleasant Street', 'addresscountry': 'USA'}</td>\n",
       "      <td>https://www.marriott.com/hotels/hotel-reviews/ewbbw-residence-inn-boston-bridgewater/</td>\n",
       "      <td>Massachusetts</td>\n",
       "      <td>2020 PLEASANT STREET</td>\n",
       "      <td>US</td>\n",
       "      <td>BRIDGEWATER</td>\n",
       "      <td>02324</td>\n",
       "      <td>Hotel_marriott.com_September2020.json.gz</td>\n",
       "      <td>...</td>\n",
       "      <td>15086971412</td>\n",
       "      <td>15086971412</td>\n",
       "      <td>592477</td>\n",
       "      <td>[592477, 601701]</td>\n",
       "      <td>[-1, 0.0]</td>\n",
       "      <td>[592477, 601701]</td>\n",
       "      <td>4358</td>\n",
       "      <td>2</td>\n",
       "      <td>3096</td>\n",
       "      <td>[residence, inn, boston, bridgewater]</td>\n",
       "    </tr>\n",
       "    <tr>\n",
       "      <th>4</th>\n",
       "      <td>5552</td>\n",
       "      <td>courtyard boston natick</td>\n",
       "      <td>{'addressregion': 'Massachusetts', 'addresslocality': 'Natick', 'postalcode': '01760', 'streetaddress': '342 Speen Street', 'addresscountry': 'USA'}</td>\n",
       "      <td>https://www.marriott.com/hotels/hotel-deals/bosnf-courtyard-boston-natick/</td>\n",
       "      <td>Massachusetts</td>\n",
       "      <td>342 SPEEN STREET</td>\n",
       "      <td>US</td>\n",
       "      <td>NATICK</td>\n",
       "      <td>01760</td>\n",
       "      <td>Hotel_marriott.com_September2020.json.gz</td>\n",
       "      <td>...</td>\n",
       "      <td>15086556100</td>\n",
       "      <td>15086556100</td>\n",
       "      <td>591406</td>\n",
       "      <td>[591406, 587365]</td>\n",
       "      <td>[-1, 0.0]</td>\n",
       "      <td>[591406, 587365]</td>\n",
       "      <td>4354</td>\n",
       "      <td>2</td>\n",
       "      <td>3096</td>\n",
       "      <td>[courtyard, boston, natick]</td>\n",
       "    </tr>\n",
       "  </tbody>\n",
       "</table>\n",
       "<p>5 rows × 26 columns</p>\n",
       "</div>"
      ],
      "text/plain": [
       "   row_id                              name  \\\n",
       "0    5860         le méridien visconti rome   \n",
       "1    5229     residence inn boston franklin   \n",
       "2    5971   residence inn boston foxborough   \n",
       "3    7383  residence inn boston bridgewater   \n",
       "4    5552           courtyard boston natick   \n",
       "\n",
       "                                                                                                                                                         address  \\\n",
       "0                                         {'addresslocality': 'Rome', 'postalcode': '00193', 'streetaddress': 'Via Federico Cesi 37', 'addresscountry': 'Italy'}   \n",
       "1          {'addressregion': 'Massachusetts', 'postalcode': '02038', 'addresslocality': 'Franklin', 'streetaddress': '4 Forge Parkway', 'addresscountry': 'USA'}   \n",
       "2    {'addresslocality': 'Foxborough', 'addressregion': 'Massachusetts', 'postalcode': '02035', 'streetaddress': '250 Foxborough Blvd', 'addresscountry': 'USA'}   \n",
       "3  {'postalcode': '02324', 'addressregion': 'Massachusetts', 'addresslocality': 'Bridgewater', 'streetaddress': '2020 Pleasant Street', 'addresscountry': 'USA'}   \n",
       "4           {'addressregion': 'Massachusetts', 'addresslocality': 'Natick', 'postalcode': '01760', 'streetaddress': '342 Speen Street', 'addresscountry': 'USA'}   \n",
       "\n",
       "                                                                                  page_url  \\\n",
       "0                                                  https://whattoexpect.marriott.com/rommd   \n",
       "1  https://www.marriott.com/hotels/local-things-to-do/bosfr-residence-inn-boston-franklin/   \n",
       "2            https://www.marriott.com/hotels/travel/bosfx-residence-inn-boston-foxborough/   \n",
       "3    https://www.marriott.com/hotels/hotel-reviews/ewbbw-residence-inn-boston-bridgewater/   \n",
       "4               https://www.marriott.com/hotels/hotel-deals/bosnf-courtyard-boston-natick/   \n",
       "\n",
       "   addressregion         streetaddress addresscountry addresslocality  \\\n",
       "0           None  VIA FEDERICO CESI 37             IT            ROME   \n",
       "1  Massachusetts       4 FORGE PARKWAY             US        FRANKLIN   \n",
       "2  Massachusetts   250 FOXBOROUGH BLVD             US      FOXBOROUGH   \n",
       "3  Massachusetts  2020 PLEASANT STREET             US     BRIDGEWATER   \n",
       "4  Massachusetts      342 SPEEN STREET             US          NATICK   \n",
       "\n",
       "  postalcode                                  table_id  ... E.164 format  \\\n",
       "0      00193  Hotel_marriott.com_September2020.json.gz  ...     39063684   \n",
       "1      02038  Hotel_marriott.com_September2020.json.gz  ...  15085418188   \n",
       "2      02035  Hotel_marriott.com_September2020.json.gz  ...  15086982800   \n",
       "3      02324  Hotel_marriott.com_September2020.json.gz  ...  15086971412   \n",
       "4      01760  Hotel_marriott.com_September2020.json.gz  ...  15086556100   \n",
       "\n",
       "  telephoneNorm indexValue           MatchingNumbers        distance  \\\n",
       "0      39063684     591585  [591585, 589400, 587459]  [-1, 0.0, 0.0]   \n",
       "1   15085418188     591212  [591212, 585732, 602392]  [-1, 0.0, 0.0]   \n",
       "2   15086982800     591654  [587766, 591654, 600468]  [0.0, -1, 0.0]   \n",
       "3   15086971412     592477          [592477, 601701]       [-1, 0.0]   \n",
       "4   15086556100     591406          [591406, 587365]       [-1, 0.0]   \n",
       "\n",
       "        MatchingNumbers_New  cluster_id  clusterNtables  tableNclusters  \\\n",
       "0  [591585, 589400, 587459]           1               2            3096   \n",
       "1  [591212, 585732, 602392]        4342               3            3096   \n",
       "2  [587766, 591654, 600468]        4359               3            3096   \n",
       "3          [592477, 601701]        4358               2            3096   \n",
       "4          [591406, 587365]        4354               2            3096   \n",
       "\n",
       "                         business_tokens  \n",
       "0         [le, méridien, visconti, rome]  \n",
       "1     [residence, inn, boston, franklin]  \n",
       "2   [residence, inn, boston, foxborough]  \n",
       "3  [residence, inn, boston, bridgewater]  \n",
       "4            [courtyard, boston, natick]  \n",
       "\n",
       "[5 rows x 26 columns]"
      ]
     },
     "execution_count": 44,
     "metadata": {},
     "output_type": "execute_result"
    }
   ],
   "source": [
    "# short pre-cleaning step to remove non-string entities\n",
    "data = delete_empty_rows(data)\n",
    "data['name'] = data['name'].apply(lambda row: row.lower())\n",
    "data['business_tokens'] = data['name'].apply(lambda row: word_tokenize(row))\n",
    "#data['business_tokens'] = remove_stopwords(data['business_tokens'],stopwords.words())\n",
    "data['business_tokens'] = remove_punctuation (data['business_tokens'])\n",
    "data.head()"
   ]
  },
  {
   "cell_type": "code",
   "execution_count": 8,
   "metadata": {},
   "outputs": [
    {
     "data": {
      "text/plain": [
       "40389"
      ]
     },
     "execution_count": 8,
     "metadata": {},
     "output_type": "execute_result"
    }
   ],
   "source": [
    "len(data)"
   ]
  },
  {
   "cell_type": "code",
   "execution_count": 45,
   "metadata": {},
   "outputs": [],
   "source": [
    "#get tagged words\n",
    "tagged_data = [TaggedDocument(words=_d, tags=[str(i)]) for i, _d in enumerate(data['business_tokens'])]\n",
    "# build model and vocabulary\n",
    "model = Doc2Vec(vector_size=50, min_count = 5, epochs = 25, dm = 0)\n",
    "model.build_vocab(tagged_data)\n",
    "# Train model\n",
    "model.train(tagged_data, total_examples=model.corpus_count, epochs=25)"
   ]
  },
  {
   "cell_type": "code",
   "execution_count": 46,
   "metadata": {},
   "outputs": [
    {
     "data": {
      "text/plain": [
       "[TaggedDocument(words=['le', 'méridien', 'visconti', 'rome'], tags=['0']),\n",
       " TaggedDocument(words=['residence', 'inn', 'boston', 'franklin'], tags=['1']),\n",
       " TaggedDocument(words=['residence', 'inn', 'boston', 'foxborough'], tags=['2']),\n",
       " TaggedDocument(words=['residence', 'inn', 'boston', 'bridgewater'], tags=['3']),\n",
       " TaggedDocument(words=['courtyard', 'boston', 'natick'], tags=['4']),\n",
       " TaggedDocument(words=['residence', 'inn', 'boston', 'natick'], tags=['5']),\n",
       " TaggedDocument(words=['courtyard', 'boston', 'milford'], tags=['6']),\n",
       " TaggedDocument(words=['courtyard', 'boston', 'milford'], tags=['7']),\n",
       " TaggedDocument(words=['residence', 'inn', 'boston', 'brockton/easton'], tags=['8']),\n",
       " TaggedDocument(words=['courtyard', 'boston', 'foxborough/mansfield'], tags=['9'])]"
      ]
     },
     "execution_count": 46,
     "metadata": {},
     "output_type": "execute_result"
    }
   ],
   "source": [
    "tagged_data[:10]"
   ]
  },
  {
   "cell_type": "markdown",
   "metadata": {},
   "source": [
    "## Start from top clusters - seed clusters"
   ]
  },
  {
   "cell_type": "code",
   "execution_count": 154,
   "metadata": {
    "scrolled": true
   },
   "outputs": [
    {
     "name": "stdout",
     "output_type": "stream",
     "text": [
      "Number of individual entities: 26\n",
      "Number of tables: 30\n"
     ]
    }
   ],
   "source": [
    "# isolate top clusters with at least 14 tables\n",
    "df_14 = data[data[\"clusterNtables\"] >= 14]\n",
    "# save top cluster ids in list\n",
    "top_clusters_list = df_14['cluster_id'].unique().tolist()\n",
    "print(\"Number of individual entities:\" , len(top_clusters_list))\n",
    "print(\"Number of tables:\" , df_14[\"table_id\"].nunique())"
   ]
  },
  {
   "cell_type": "code",
   "execution_count": 155,
   "metadata": {},
   "outputs": [
    {
     "data": {
      "text/plain": [
       "39601       4\n",
       "38785       8\n",
       "38602       9\n",
       "37981      13\n",
       "37584      15\n",
       "         ... \n",
       "15302    1234\n",
       "15326    1234\n",
       "15338    1234\n",
       "14830    1234\n",
       "14132    1234\n",
       "Name: tableNclusters, Length: 376, dtype: int64"
      ]
     },
     "execution_count": 155,
     "metadata": {},
     "output_type": "execute_result"
    }
   ],
   "source": [
    "df_14[\"tableNclusters\"].sort_values()"
   ]
  },
  {
   "cell_type": "code",
   "execution_count": 152,
   "metadata": {},
   "outputs": [
    {
     "data": {
      "text/plain": [
       "'LocalBusiness_visitnordfyn.com_September2020.json.gz'"
      ]
     },
     "execution_count": 152,
     "metadata": {},
     "output_type": "execute_result"
    }
   ],
   "source": [
    "df_14.loc[39601][\"table_id\"]"
   ]
  },
  {
   "cell_type": "markdown",
   "metadata": {},
   "source": [
    "### **Question**: Is that a Problem? Is there a min_size for the tables?"
   ]
  },
  {
   "cell_type": "markdown",
   "metadata": {},
   "source": [
    "# Now try to expand from seed-clusters and get 4 similar entities\n",
    "\n",
    "- idea: given we have x seed clusters, we identify 4 similar entities (=cluster_ids) and have 4*x individual final entities\n",
    "- note the similar entities should exhibit a cluster size of at least 10 (15)"
   ]
  },
  {
   "cell_type": "code",
   "execution_count": 160,
   "metadata": {},
   "outputs": [],
   "source": [
    "index_top_clusters_list=[]\n",
    "for i_d in top_clusters_list:\n",
    "    index_top_clusters_list.append(data[data['cluster_id']==i_d].index[0])\n"
   ]
  },
  {
   "cell_type": "code",
   "execution_count": 191,
   "metadata": {},
   "outputs": [
    {
     "data": {
      "text/plain": [
       "[14132, 14268, 14286, 14313, 14437, 14522, 14614, 14618, 14730, 14756]"
      ]
     },
     "execution_count": 191,
     "metadata": {},
     "output_type": "execute_result"
    }
   ],
   "source": [
    "index_top_clusters_list[:10]"
   ]
  },
  {
   "cell_type": "code",
   "execution_count": 173,
   "metadata": {},
   "outputs": [
    {
     "name": "stderr",
     "output_type": "stream",
     "text": [
      "C:\\Users\\Jannik\\AppData\\Local\\Temp/ipykernel_20740/1030062797.py:1: DeprecationWarning: Call to deprecated `docvecs` (The `docvecs` property has been renamed `dv`.).\n",
      "  model.docvecs.most_similar(14522, topn = 20)\n"
     ]
    },
    {
     "data": {
      "text/plain": [
       "[('21129', 0.989883303642273),\n",
       " ('23176', 0.9890414476394653),\n",
       " ('19122', 0.9870344996452332),\n",
       " ('25435', 0.9867845773696899),\n",
       " ('22569', 0.9864322543144226),\n",
       " ('16801', 0.9860634207725525),\n",
       " ('25233', 0.9859685301780701),\n",
       " ('19008', 0.985758364200592),\n",
       " ('20586', 0.9856730103492737),\n",
       " ('23802', 0.9856458306312561),\n",
       " ('16996', 0.9855813384056091),\n",
       " ('20580', 0.9848409295082092),\n",
       " ('23609', 0.98475581407547),\n",
       " ('25373', 0.9846353530883789),\n",
       " ('18786', 0.9845947027206421),\n",
       " ('20414', 0.9845492839813232),\n",
       " ('15926', 0.9840709567070007),\n",
       " ('19555', 0.9838147163391113),\n",
       " ('35520', 0.983170747756958),\n",
       " ('19991', 0.9828994870185852)]"
      ]
     },
     "execution_count": 173,
     "metadata": {},
     "output_type": "execute_result"
    }
   ],
   "source": [
    "model.docvecs.most_similar(14522, topn = 20)"
   ]
  },
  {
   "cell_type": "code",
   "execution_count": 113,
   "metadata": {},
   "outputs": [
    {
     "data": {
      "text/plain": [
       "TaggedDocument(words=['euro', 'mobil', 'autohouse'], tags=['14522'])"
      ]
     },
     "execution_count": 113,
     "metadata": {},
     "output_type": "execute_result"
    }
   ],
   "source": [
    "tagged_data[14522]"
   ]
  },
  {
   "cell_type": "code",
   "execution_count": 174,
   "metadata": {},
   "outputs": [
    {
     "data": {
      "text/plain": [
       "TaggedDocument(words=['euro', 'mobil', 'autohouse'], tags=['19122'])"
      ]
     },
     "execution_count": 174,
     "metadata": {},
     "output_type": "execute_result"
    }
   ],
   "source": [
    "tagged_data[19122]"
   ]
  },
  {
   "cell_type": "code",
   "execution_count": 186,
   "metadata": {},
   "outputs": [
    {
     "data": {
      "text/plain": [
       "TaggedDocument(words=['euro', 'mechanik'], tags=['20580'])"
      ]
     },
     "execution_count": 186,
     "metadata": {},
     "output_type": "execute_result"
    }
   ],
   "source": [
    "tagged_data[20580]"
   ]
  },
  {
   "cell_type": "code",
   "execution_count": 189,
   "metadata": {},
   "outputs": [
    {
     "data": {
      "text/plain": [
       "2053"
      ]
     },
     "execution_count": 189,
     "metadata": {},
     "output_type": "execute_result"
    }
   ],
   "source": [
    "data.iloc[int(14522)][\"cluster_id\"]"
   ]
  },
  {
   "cell_type": "code",
   "execution_count": 181,
   "metadata": {},
   "outputs": [
    {
     "data": {
      "text/plain": [
       "2053"
      ]
     },
     "execution_count": 181,
     "metadata": {},
     "output_type": "execute_result"
    }
   ],
   "source": [
    "data.iloc[int(22569)][\"cluster_id\"]"
   ]
  },
  {
   "cell_type": "code",
   "execution_count": 190,
   "metadata": {},
   "outputs": [
    {
     "data": {
      "text/plain": [
       "7220"
      ]
     },
     "execution_count": 190,
     "metadata": {},
     "output_type": "execute_result"
    }
   ],
   "source": [
    "data.iloc[int(20580)][\"cluster_id\"]"
   ]
  },
  {
   "cell_type": "markdown",
   "metadata": {},
   "source": [
    "### Find similar entities based on Jaccard and Doc2Vec \n",
    "\n",
    "- similarity metric ``name``"
   ]
  },
  {
   "cell_type": "code",
   "execution_count": 197,
   "metadata": {
    "scrolled": false
   },
   "outputs": [
    {
     "name": "stderr",
     "output_type": "stream",
     "text": [
      "C:\\Users\\Jannik\\AppData\\Local\\Temp/ipykernel_20740/3956135039.py:3: DeprecationWarning: Call to deprecated `docvecs` (The `docvecs` property has been renamed `dv`.).\n",
      "  similar_doc = model.docvecs.most_similar(i, topn = 25)\n"
     ]
    }
   ],
   "source": [
    "clusters_search=[]\n",
    "for i in index_top_clusters_list:\n",
    "    similar_doc = model.docvecs.most_similar(i, topn = 25)\n",
    "    clusters_search.append(i)\n",
    "    for index, similarity in similar_doc:\n",
    "        if data.iloc[int(index)]['cluster_id'] != data.iloc[int(i)]['cluster_id']:\n",
    "            if data.iloc[int(index)]['clusterNtables']>10:\n",
    "                clusters_search.append(int(index))\n",
    "    jaccard_score = data['business_tokens'].apply(lambda row: jaccard_similarity_score(row,data.iloc[i]['business_tokens']))\n",
    "    indizes=sorted(range(len(jaccard_score)), key=lambda i: jaccard_score[i])[-20:]\n",
    "    for index in indizes:\n",
    "        if data.iloc[int(index)]['cluster_id'] != data.iloc[int(i)]['cluster_id']:\n",
    "             if data.iloc[int(index)]['clusterNtables']>10:\n",
    "                clusters_search.append(int(index))    \n",
    "df_final = data.iloc[clusters_search]"
   ]
  },
  {
   "cell_type": "code",
   "execution_count": 198,
   "metadata": {},
   "outputs": [
    {
     "data": {
      "text/plain": [
       "161"
      ]
     },
     "execution_count": 198,
     "metadata": {},
     "output_type": "execute_result"
    }
   ],
   "source": [
    "len(df_final)"
   ]
  },
  {
   "cell_type": "code",
   "execution_count": 208,
   "metadata": {},
   "outputs": [
    {
     "name": "stdout",
     "output_type": "stream",
     "text": [
      "Total number of cluster_ids: 69\n",
      "Total number of tables: 17\n"
     ]
    }
   ],
   "source": [
    "print(\"Total number of cluster_ids:\" , df_final[\"cluster_id\"].nunique())\n",
    "print(\"Total number of tables:\" , df_final[\"table_id\"].nunique())"
   ]
  },
  {
   "cell_type": "code",
   "execution_count": 217,
   "metadata": {},
   "outputs": [
    {
     "data": {
      "text/plain": [
       "table_id\n",
       "LocalBusiness_igotbiz.com_September2020.json.gz              [58]\n",
       "LocalBusiness_subieshops.com_September2020.json.gz           [72]\n",
       "LocalBusiness_visitdenmark.com_September2020.json.gz        [206]\n",
       "LocalBusiness_exoticautoshops.com_September2020.json.gz     [259]\n",
       "LocalBusiness_infinitishops.com_September2020.json.gz       [259]\n",
       "LocalBusiness_acushops.com_September2020.json.gz            [308]\n",
       "LocalBusiness_saabshops.com_September2020.json.gz           [332]\n",
       "LocalBusiness_lexrepairshops.com_September2020.json.gz      [442]\n",
       "LocalBusiness_jagshops.com_September2020.json.gz            [461]\n",
       "LocalBusiness_lrshops.com_September2020.json.gz             [523]\n",
       "LocalBusiness_volvomechanics.com_September2020.json.gz      [577]\n",
       "LocalBusiness_pcarshops.com_September2020.json.gz           [778]\n",
       "LocalBusiness_vcarshops.com_September2020.json.gz           [833]\n",
       "LocalBusiness_minirepairshops.com_September2020.json.gz     [842]\n",
       "LocalBusiness_benzshops.com_September2020.json.gz           [901]\n",
       "LocalBusiness_fourringsrepair.com_September2020.json.gz     [931]\n",
       "LocalBusiness_bimmershops.com_September2020.json.gz        [1234]\n",
       "Name: tableNclusters, dtype: object"
      ]
     },
     "execution_count": 217,
     "metadata": {},
     "output_type": "execute_result"
    }
   ],
   "source": [
    "df_final.groupby(\"table_id\")[\"tableNclusters\"].unique().sort_values()"
   ]
  },
  {
   "cell_type": "markdown",
   "metadata": {},
   "source": [
    "df_final might still contain **duplicate cluster_ids** due top 20 similarity scores**\n"
   ]
  },
  {
   "cell_type": "code",
   "execution_count": 219,
   "metadata": {},
   "outputs": [
    {
     "data": {
      "text/plain": [
       "69"
      ]
     },
     "execution_count": 219,
     "metadata": {},
     "output_type": "execute_result"
    }
   ],
   "source": [
    "df_final_clean = df_final.drop_duplicates('cluster_id', keep='first')\n",
    "len(df_final_clean)"
   ]
  },
  {
   "cell_type": "code",
   "execution_count": 220,
   "metadata": {},
   "outputs": [
    {
     "data": {
      "text/plain": [
       "69"
      ]
     },
     "execution_count": 220,
     "metadata": {},
     "output_type": "execute_result"
    }
   ],
   "source": [
    "df_final_clean[\"cluster_id\"].nunique()"
   ]
  },
  {
   "cell_type": "code",
   "execution_count": 221,
   "metadata": {},
   "outputs": [],
   "source": [
    "#df_final_clean.to_excel(\"LB_selection.xlsx\")"
   ]
  },
  {
   "cell_type": "markdown",
   "metadata": {},
   "source": [
    "- Which attributes are involved for matching?\n",
    "- weighted Jaccard\n",
    "- min size of table?\n",
    "- what if do not get along with cluster_size = 15?"
   ]
  }
 ],
 "metadata": {
  "kernelspec": {
   "display_name": "Python 3 (ipykernel)",
   "language": "python",
   "name": "python3"
  },
  "language_info": {
   "codemirror_mode": {
    "name": "ipython",
    "version": 3
   },
   "file_extension": ".py",
   "mimetype": "text/x-python",
   "name": "python",
   "nbconvert_exporter": "python",
   "pygments_lexer": "ipython3",
   "version": "3.8.8"
  }
 },
 "nbformat": 4,
 "nbformat_minor": 1
}
