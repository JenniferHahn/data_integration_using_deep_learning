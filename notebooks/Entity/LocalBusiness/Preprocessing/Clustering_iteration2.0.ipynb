{
 "cells": [
  {
   "cell_type": "code",
   "execution_count": 1,
   "metadata": {},
   "outputs": [],
   "source": [
    "import numpy as np\n",
    "import pandas as pd\n",
    "import gzip\n",
    "import json"
   ]
  },
  {
   "cell_type": "code",
   "execution_count": 2,
   "metadata": {},
   "outputs": [],
   "source": [
    "# path = r'../../../Results/'\n",
    "# file = r'Concatenated_MFile.gz'\n",
    "# pathFile = path + file\n",
    "pathFile = 'Concatenated_MatchingFile_with_rest'"
   ]
  },
  {
   "cell_type": "code",
   "execution_count": 3,
   "metadata": {},
   "outputs": [],
   "source": [
    "dataList = []\n",
    "\n",
    "with gzip.open(pathFile, 'r') as dataFile:\n",
    "    for line in dataFile:\n",
    "        lineData = json.loads(line.decode('utf-8'))\n",
    "        dataList.append(lineData)\n",
    "data = pd.DataFrame(dataList)"
   ]
  },
  {
   "cell_type": "code",
   "execution_count": 10,
   "metadata": {},
   "outputs": [
    {
     "name": "stdout",
     "output_type": "stream",
     "text": [
      "number of entries: 1183993\n",
      "number of unique tables: 99443\n"
     ]
    }
   ],
   "source": [
    "print(\"number of entries:\" , len(data))\n",
    "print(\"number of unique tables:\", data[\"origin\"].nunique())"
   ]
  },
  {
   "cell_type": "code",
   "execution_count": 8,
   "metadata": {},
   "outputs": [
    {
     "data": {
      "text/html": [
       "<div>\n",
       "<style scoped>\n",
       "    .dataframe tbody tr th:only-of-type {\n",
       "        vertical-align: middle;\n",
       "    }\n",
       "\n",
       "    .dataframe tbody tr th {\n",
       "        vertical-align: top;\n",
       "    }\n",
       "\n",
       "    .dataframe thead th {\n",
       "        text-align: right;\n",
       "    }\n",
       "</style>\n",
       "<table border=\"1\" class=\"dataframe\">\n",
       "  <thead>\n",
       "    <tr style=\"text-align: right;\">\n",
       "      <th></th>\n",
       "      <th>row_id</th>\n",
       "      <th>address</th>\n",
       "      <th>page_url</th>\n",
       "      <th>origin</th>\n",
       "      <th>telephone</th>\n",
       "      <th>addresscountry</th>\n",
       "      <th>longitude</th>\n",
       "      <th>latitude</th>\n",
       "      <th>telephone_</th>\n",
       "      <th>phone_object</th>\n",
       "      <th>E.164 format</th>\n",
       "      <th>telephoneNorm</th>\n",
       "    </tr>\n",
       "  </thead>\n",
       "  <tbody>\n",
       "    <tr>\n",
       "      <th>0</th>\n",
       "      <td>2</td>\n",
       "      <td>{'postalcode': '28001', 'addresslocality': 'Ma...</td>\n",
       "      <td>https://es.litmind.com/salvadormodelagency</td>\n",
       "      <td>LocalBusiness_litmind.com_September2020.json.gz</td>\n",
       "      <td>+34 914310707</td>\n",
       "      <td>ES</td>\n",
       "      <td>-3.6835849285126</td>\n",
       "      <td>40.423894105042</td>\n",
       "      <td>34914310707</td>\n",
       "      <td>{'country_code': 34, 'extension': None, 'natio...</td>\n",
       "      <td>+34914310707</td>\n",
       "      <td>34914310707</td>\n",
       "    </tr>\n",
       "    <tr>\n",
       "      <th>1</th>\n",
       "      <td>10</td>\n",
       "      <td>{'postalcode': '28250', 'addresscountry': 'ES'...</td>\n",
       "      <td>https://es.litmind.com/456459</td>\n",
       "      <td>LocalBusiness_litmind.com_September2020.json.gz</td>\n",
       "      <td>+34 918599376</td>\n",
       "      <td>ES</td>\n",
       "      <td>-3.8939949</td>\n",
       "      <td>40.5808292</td>\n",
       "      <td>34918599376</td>\n",
       "      <td>{'country_code': 34, 'extension': None, 'natio...</td>\n",
       "      <td>+34918599376</td>\n",
       "      <td>34918599376</td>\n",
       "    </tr>\n",
       "    <tr>\n",
       "      <th>2</th>\n",
       "      <td>16</td>\n",
       "      <td>{'streetaddress': 'Calle Zabaleta, 10', 'addre...</td>\n",
       "      <td>https://es.litmind.com/coconutmadrid/info</td>\n",
       "      <td>LocalBusiness_litmind.com_September2020.json.gz</td>\n",
       "      <td>+34 913776214</td>\n",
       "      <td>ES</td>\n",
       "      <td>-3.6744062</td>\n",
       "      <td>40.4413414</td>\n",
       "      <td>34913776214</td>\n",
       "      <td>{'country_code': 34, 'extension': None, 'natio...</td>\n",
       "      <td>+34913776214</td>\n",
       "      <td>34913776214</td>\n",
       "    </tr>\n",
       "    <tr>\n",
       "      <th>3</th>\n",
       "      <td>18</td>\n",
       "      <td>{'postalcode': '28001', 'addresscountry': 'ES'...</td>\n",
       "      <td>https://es.litmind.com/sdamodelsintagency</td>\n",
       "      <td>LocalBusiness_litmind.com_September2020.json.gz</td>\n",
       "      <td>+34 640847492</td>\n",
       "      <td>ES</td>\n",
       "      <td>-3.6825650000001</td>\n",
       "      <td>40.427645</td>\n",
       "      <td>34640847492</td>\n",
       "      <td>{'country_code': 34, 'extension': None, 'natio...</td>\n",
       "      <td>+34640847492</td>\n",
       "      <td>34640847492</td>\n",
       "    </tr>\n",
       "    <tr>\n",
       "      <th>4</th>\n",
       "      <td>20</td>\n",
       "      <td>{'addressregion': 'Badajoz', 'addresslocality'...</td>\n",
       "      <td>https://es.litmind.com/ramonserranophoto-estudio</td>\n",
       "      <td>LocalBusiness_litmind.com_September2020.json.gz</td>\n",
       "      <td>+34 636540326</td>\n",
       "      <td>ES</td>\n",
       "      <td>-6.3428955</td>\n",
       "      <td>38.5616549</td>\n",
       "      <td>34636540326</td>\n",
       "      <td>{'country_code': 34, 'extension': None, 'natio...</td>\n",
       "      <td>+34636540326</td>\n",
       "      <td>34636540326</td>\n",
       "    </tr>\n",
       "  </tbody>\n",
       "</table>\n",
       "</div>"
      ],
      "text/plain": [
       "   row_id                                            address  \\\n",
       "0       2  {'postalcode': '28001', 'addresslocality': 'Ma...   \n",
       "1      10  {'postalcode': '28250', 'addresscountry': 'ES'...   \n",
       "2      16  {'streetaddress': 'Calle Zabaleta, 10', 'addre...   \n",
       "3      18  {'postalcode': '28001', 'addresscountry': 'ES'...   \n",
       "4      20  {'addressregion': 'Badajoz', 'addresslocality'...   \n",
       "\n",
       "                                           page_url  \\\n",
       "0        https://es.litmind.com/salvadormodelagency   \n",
       "1                     https://es.litmind.com/456459   \n",
       "2         https://es.litmind.com/coconutmadrid/info   \n",
       "3         https://es.litmind.com/sdamodelsintagency   \n",
       "4  https://es.litmind.com/ramonserranophoto-estudio   \n",
       "\n",
       "                                            origin      telephone  \\\n",
       "0  LocalBusiness_litmind.com_September2020.json.gz  +34 914310707   \n",
       "1  LocalBusiness_litmind.com_September2020.json.gz  +34 918599376   \n",
       "2  LocalBusiness_litmind.com_September2020.json.gz  +34 913776214   \n",
       "3  LocalBusiness_litmind.com_September2020.json.gz  +34 640847492   \n",
       "4  LocalBusiness_litmind.com_September2020.json.gz  +34 636540326   \n",
       "\n",
       "  addresscountry         longitude         latitude   telephone_  \\\n",
       "0             ES  -3.6835849285126  40.423894105042  34914310707   \n",
       "1             ES        -3.8939949       40.5808292  34918599376   \n",
       "2             ES        -3.6744062       40.4413414  34913776214   \n",
       "3             ES  -3.6825650000001        40.427645  34640847492   \n",
       "4             ES        -6.3428955       38.5616549  34636540326   \n",
       "\n",
       "                                        phone_object  E.164 format  \\\n",
       "0  {'country_code': 34, 'extension': None, 'natio...  +34914310707   \n",
       "1  {'country_code': 34, 'extension': None, 'natio...  +34918599376   \n",
       "2  {'country_code': 34, 'extension': None, 'natio...  +34913776214   \n",
       "3  {'country_code': 34, 'extension': None, 'natio...  +34640847492   \n",
       "4  {'country_code': 34, 'extension': None, 'natio...  +34636540326   \n",
       "\n",
       "   telephoneNorm  \n",
       "0    34914310707  \n",
       "1    34918599376  \n",
       "2    34913776214  \n",
       "3    34640847492  \n",
       "4    34636540326  "
      ]
     },
     "execution_count": 8,
     "metadata": {},
     "output_type": "execute_result"
    }
   ],
   "source": [
    "data.head()"
   ]
  },
  {
   "cell_type": "code",
   "execution_count": 9,
   "metadata": {},
   "outputs": [
    {
     "data": {
      "text/plain": [
       "18884082399     14917\n",
       "33972196746      7646\n",
       "18555161090      6955\n",
       "919313931393     6818\n",
       "18885385188      4916\n",
       "                ...  \n",
       "14183853287         1\n",
       "441952603355        1\n",
       "17572826347         1\n",
       "19378482415         1\n",
       "15124676600         1\n",
       "Name: telephoneNorm, Length: 819056, dtype: int64"
      ]
     },
     "execution_count": 9,
     "metadata": {},
     "output_type": "execute_result"
    }
   ],
   "source": [
    "data[\"telephoneNorm\"].value_counts()"
   ]
  }
 ],
 "metadata": {
  "interpreter": {
   "hash": "4e6c05dd04d5f1ab156515bda71d539c3517fd88dab50801005ef579a3eac424"
  },
  "kernelspec": {
   "display_name": "Python 3 (ipykernel)",
   "language": "python",
   "name": "python3"
  },
  "language_info": {
   "codemirror_mode": {
    "name": "ipython",
    "version": 3
   },
   "file_extension": ".py",
   "mimetype": "text/x-python",
   "name": "python",
   "nbconvert_exporter": "python",
   "pygments_lexer": "ipython3",
   "version": "3.8.8"
  }
 },
 "nbformat": 4,
 "nbformat_minor": 2
}
