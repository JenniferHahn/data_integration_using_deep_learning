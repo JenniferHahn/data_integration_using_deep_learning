{
 "cells": [
  {
   "cell_type": "code",
   "execution_count": 59,
   "id": "51ab17dd",
   "metadata": {},
   "outputs": [],
   "source": [
    "import pandas as pd\n",
    "import numpy as np\n",
    "import json\n",
    "import gzip\n",
    "import os\n",
    "import os.path\n",
    "from os import listdir\n",
    "import multiprocessing\n",
    "from tqdm import tqdm\n",
    "import mmap\n",
    "from multiprocessing import Pool\n",
    "import seaborn as sns\n",
    "import matplotlib.pyplot as plt\n",
    "import py_entitymatching as em\n",
    "import py_stringmatching as sm\n",
    "import scipy\n",
    "from scipy.io import arff\n",
    "from sklearn import preprocessing\n",
    "#from sklearn.model_selection import train_test_split\n",
    "from skmultilearn.model_selection import iterative_train_test_split\n",
    "from iterstrat.ml_stratifiers import MultilabelStratifiedShuffleSplit\n",
    "import progressbar\n",
    "import itertools"
   ]
  },
  {
   "cell_type": "code",
   "execution_count": 53,
   "id": "830e4f7e",
   "metadata": {},
   "outputs": [],
   "source": [
    "product_path = '../../../../src/data/product'\n",
    "cluster_path = os.path.join(product_path, 'lspc2020_to_tablecorpus/Cleaned')\n",
    "cleaned_top100_path = os.path.join(product_path, 'product_top100/cleaned')\n",
    "top100_path = os.path.join(product_path, 'product_top100')\n",
    "cleaned_min3_path = os.path.join(product_path, 'product_minimum3/cleaned')\n",
    "min3_path = os.path.join(product_path, 'product_minimum3')\n",
    "results_path = os.path.join(product_path, 'product_results/after_preprocessing')\n",
    "train_test_input_path = os.path.join(product_path, 'train_test_split/input')"
   ]
  },
  {
   "cell_type": "code",
   "execution_count": 10,
   "id": "f6eb6a64",
   "metadata": {},
   "outputs": [],
   "source": [
    "'''\n",
    "entities = ['Bikes', 'Cars', 'Clothes', 'Drugstore', 'Electronics', 'Technology', 'Tools', 'Random']\n",
    "count = 0\n",
    "for entity in entities:\n",
    "    df_category1 = pd.read_csv(os.path.join(mapping_corpus_path_2,\n",
    "                                            '{}_clusters_all_8_tables_post_processed_lower_threshold.csv'.format(\n",
    "                                                entity)))\n",
    "    df_category1['category'] = entity.lower()\n",
    "    if count == 0:\n",
    "        df_concat = df_category1\n",
    "    if count > 0:\n",
    "        df_concat = pd.concat([df_category1, df_category2]).drop(columns=['Unnamed: 0', 'Unnamed: 0.1', 'Valid'])\n",
    "    df_category2 = df_concat\n",
    "    count += 1\n",
    "    \n",
    "df_concat\n",
    "'''"
   ]
  },
  {
   "cell_type": "code",
   "execution_count": 13,
   "id": "73125f26",
   "metadata": {},
   "outputs": [],
   "source": [
    "unique_clusters_df = pd.read_excel(os.path.join(results_path, 'Final_lower threshold.xlsx'))\n",
    "unique_clusters = list(set(unique_clusters_df['cluster_id'].to_list()))"
   ]
  },
  {
   "cell_type": "code",
   "execution_count": 22,
   "id": "7b447b8b",
   "metadata": {},
   "outputs": [],
   "source": [
    "#df_all = df_concat[df_concat['cluster_id'].isin(unique_clusters)]\n",
    "#df_all"
   ]
  },
  {
   "cell_type": "code",
   "execution_count": 26,
   "id": "1bf32442",
   "metadata": {},
   "outputs": [],
   "source": [
    "'''\n",
    "product_target = df_all['cluster_id']\n",
    "product_data = df_all.drop(columns='cluster_id')\n",
    "\n",
    "# create the train/test split\n",
    "data_train, data_test, target_train, target_test = train_test_split(product_data, product_target, test_size=0.3, random_state=42, stratify=product_target)\n",
    "'''"
   ]
  },
  {
   "cell_type": "code",
   "execution_count": 33,
   "id": "e3d94669",
   "metadata": {},
   "outputs": [],
   "source": [
    "df_table_cleaned = df_cleaned[df_cleaned['table_id'] == 'Product_mountainbikespecialists.com_September2020.json.gz']\n",
    "table = 'Product_mountainbikespecialists.com_September2020.json.gz'\n",
    "valid_table_rows = df_table_cleaned['row_id'].to_list()\n",
    "table_path = cleaned_min3_path\n",
    "table_df = pd.read_json(os.path.join(table_path, '{}'.format(table)), compression='gzip', lines=True)"
   ]
  },
  {
   "cell_type": "code",
   "execution_count": 34,
   "id": "eae4cf55",
   "metadata": {},
   "outputs": [
    {
     "data": {
      "text/html": [
       "<div>\n",
       "<style scoped>\n",
       "    .dataframe tbody tr th:only-of-type {\n",
       "        vertical-align: middle;\n",
       "    }\n",
       "\n",
       "    .dataframe tbody tr th {\n",
       "        vertical-align: top;\n",
       "    }\n",
       "\n",
       "    .dataframe thead th {\n",
       "        text-align: right;\n",
       "    }\n",
       "</style>\n",
       "<table border=\"1\" class=\"dataframe\">\n",
       "  <thead>\n",
       "    <tr style=\"text-align: right;\">\n",
       "      <th></th>\n",
       "      <th>row_id</th>\n",
       "      <th>name</th>\n",
       "      <th>offers</th>\n",
       "      <th>description</th>\n",
       "      <th>brand</th>\n",
       "      <th>page_url</th>\n",
       "    </tr>\n",
       "  </thead>\n",
       "  <tbody>\n",
       "    <tr>\n",
       "      <th>0</th>\n",
       "      <td>0</td>\n",
       "      <td>Blowtorch</td>\n",
       "      <td>{'gtin': '708752317437', 'availability': 'https://schema.org/OutOfStock', 'price': '30.00', 'pri...</td>\n",
       "      <td>Sometimes the simplest pieces can be a favorite piece of kit. The Blowtorch neck gaiter is that ...</td>\n",
       "      <td>{'name': '45NRTH'}</td>\n",
       "      <td>https://www.mountainbikespecialists.com/product/45nrth-blowtorch-368817-1.htm</td>\n",
       "    </tr>\n",
       "    <tr>\n",
       "      <th>1</th>\n",
       "      <td>1</td>\n",
       "      <td>Jekyll 1</td>\n",
       "      <td>[{'pricecurrency': 'USD', 'price': '8200.00', 'availability': 'https://schema.org/OutOfStock', '...</td>\n",
       "      <td>This precision instrument is for the enduro artists, the ones who will use its Gemini dual-trave...</td>\n",
       "      <td>{'name': 'Cannondale'}</td>\n",
       "      <td>https://www.mountainbikespecialists.com/product/cannondale-jekyll-1-345682-1.htm</td>\n",
       "    </tr>\n",
       "    <tr>\n",
       "      <th>2</th>\n",
       "      <td>2</td>\n",
       "      <td>K1SL SuperLite Kool Wide Chain</td>\n",
       "      <td>{'pricecurrency': 'USD', 'price': '25.00', 'gtin': '766759171056', 'availability': 'https://sche...</td>\n",
       "      <td>The KMC K1SL SuperLite Kool Chain is suitable for a variety of single-speed riding styles, such ...</td>\n",
       "      <td>{'name': 'KMC'}</td>\n",
       "      <td>https://www.mountainbikespecialists.com/product/kmc-k1sl-superlite-kool-wide-chain-378124-1.htm</td>\n",
       "    </tr>\n",
       "    <tr>\n",
       "      <th>3</th>\n",
       "      <td>3</td>\n",
       "      <td>Corkscrew Bottle Opener</td>\n",
       "      <td>{'pricecurrency': 'USD', 'price': '45.95', 'availability': 'https://schema.org/OutOfStock', 'gti...</td>\n",
       "      <td>In the tradition of our premium quality fold up tools, the BO-4 is a combination corkscrew and b...</td>\n",
       "      <td>{'name': 'Park Tool'}</td>\n",
       "      <td>https://www.mountainbikespecialists.com/product/park-tool-corkscrew-bottle-opener-326868-1.htm</td>\n",
       "    </tr>\n",
       "    <tr>\n",
       "      <th>4</th>\n",
       "      <td>4</td>\n",
       "      <td>Mountain Sport Organic Disc Brake Pads (Shimano)</td>\n",
       "      <td>{'pricecurrency': 'USD', 'availability': 'https://schema.org/OutOfStock', 'price': '10.99', 'gti...</td>\n",
       "      <td>Jagwire Sport Organic pads feature an all-new resin compound. Mounted on a steel backing plate, ...</td>\n",
       "      <td>{'name': 'Jagwire'}</td>\n",
       "      <td>https://www.mountainbikespecialists.com/product/jagwire-mountain-sport-organic-disc-brake-pads-s...</td>\n",
       "    </tr>\n",
       "    <tr>\n",
       "      <th>...</th>\n",
       "      <td>...</td>\n",
       "      <td>...</td>\n",
       "      <td>...</td>\n",
       "      <td>...</td>\n",
       "      <td>...</td>\n",
       "      <td>...</td>\n",
       "    </tr>\n",
       "    <tr>\n",
       "      <th>1935</th>\n",
       "      <td>1935</td>\n",
       "      <td>Challenge Large Tool Bag</td>\n",
       "      <td>None</td>\n",
       "      <td>The Brooks Challenge Large Tool Bag is a saddle bag for fitment to the rear of a saddle bearing ...</td>\n",
       "      <td>{'name': 'Brooks'}</td>\n",
       "      <td>https://www.mountainbikespecialists.com/product/brooks-challenge-large-tool-bag-282611-1.htm</td>\n",
       "    </tr>\n",
       "    <tr>\n",
       "      <th>1936</th>\n",
       "      <td>1936</td>\n",
       "      <td>Femto Drive Rear</td>\n",
       "      <td>{'pricecurrency': 'USD', 'price': '13.49', 'availability': 'https://schema.org/OutOfStock', 'gti...</td>\n",
       "      <td>Lezyne's Femto Drive Rear is a compact, bright, and beautifully made light. The lens is made of ...</td>\n",
       "      <td>{'name': 'Lezyne'}</td>\n",
       "      <td>https://www.mountainbikespecialists.com/product/lezyne-femto-drive-rear-192883-1.htm</td>\n",
       "    </tr>\n",
       "    <tr>\n",
       "      <th>1937</th>\n",
       "      <td>1937</td>\n",
       "      <td>Impact Pro Women's Mountain Bike Shoe</td>\n",
       "      <td>[{'pricecurrency': 'USD', 'gtin': '191529206285', 'price': '160.00', 'availability': 'https://sc...</td>\n",
       "      <td>The Impact Pro touts superior toe protection and quicker drying than its predecessor and utilize...</td>\n",
       "      <td>{'name': 'Five Ten'}</td>\n",
       "      <td>https://www.mountainbikespecialists.com/product/five-ten-impact-pro-womens-mountain-bike-shoe-37...</td>\n",
       "    </tr>\n",
       "    <tr>\n",
       "      <th>1938</th>\n",
       "      <td>1938</td>\n",
       "      <td>Cool Mesh Super Light SL Base Layer</td>\n",
       "      <td>{'pricecurrency': 'USD', 'gtin': '800550194491', 'availability': 'https://schema.org/OutOfStock'...</td>\n",
       "      <td>Craft's Superlight Mesh top features big-hole design for superior ventilation and cooling. • Mul...</td>\n",
       "      <td>{'name': 'Craft'}</td>\n",
       "      <td>https://www.mountainbikespecialists.com/product/craft-cool-mesh-super-light-sl-base-layer-235278...</td>\n",
       "    </tr>\n",
       "    <tr>\n",
       "      <th>1939</th>\n",
       "      <td>1939</td>\n",
       "      <td>Hex Bit Set</td>\n",
       "      <td>{'pricecurrency': 'USD', 'price': '15.00', 'gtin': '790983291624', 'availability': 'https://sche...</td>\n",
       "      <td>Pedro's Bit Set is designed to work with their Demi and Pro Torque Wrenches, offering the most c...</td>\n",
       "      <td>{'name': 'Pedro's'}</td>\n",
       "      <td>https://www.mountainbikespecialists.com/product/pedros-hex-bit-set-252708-1.htm</td>\n",
       "    </tr>\n",
       "  </tbody>\n",
       "</table>\n",
       "<p>1940 rows × 6 columns</p>\n",
       "</div>"
      ],
      "text/plain": [
       "      row_id                                              name  \\\n",
       "0          0                                         Blowtorch   \n",
       "1          1                                          Jekyll 1   \n",
       "2          2                    K1SL SuperLite Kool Wide Chain   \n",
       "3          3                           Corkscrew Bottle Opener   \n",
       "4          4  Mountain Sport Organic Disc Brake Pads (Shimano)   \n",
       "...      ...                                               ...   \n",
       "1935    1935                          Challenge Large Tool Bag   \n",
       "1936    1936                                  Femto Drive Rear   \n",
       "1937    1937             Impact Pro Women's Mountain Bike Shoe   \n",
       "1938    1938               Cool Mesh Super Light SL Base Layer   \n",
       "1939    1939                                       Hex Bit Set   \n",
       "\n",
       "                                                                                                   offers  \\\n",
       "0     {'gtin': '708752317437', 'availability': 'https://schema.org/OutOfStock', 'price': '30.00', 'pri...   \n",
       "1     [{'pricecurrency': 'USD', 'price': '8200.00', 'availability': 'https://schema.org/OutOfStock', '...   \n",
       "2     {'pricecurrency': 'USD', 'price': '25.00', 'gtin': '766759171056', 'availability': 'https://sche...   \n",
       "3     {'pricecurrency': 'USD', 'price': '45.95', 'availability': 'https://schema.org/OutOfStock', 'gti...   \n",
       "4     {'pricecurrency': 'USD', 'availability': 'https://schema.org/OutOfStock', 'price': '10.99', 'gti...   \n",
       "...                                                                                                   ...   \n",
       "1935                                                                                                 None   \n",
       "1936  {'pricecurrency': 'USD', 'price': '13.49', 'availability': 'https://schema.org/OutOfStock', 'gti...   \n",
       "1937  [{'pricecurrency': 'USD', 'gtin': '191529206285', 'price': '160.00', 'availability': 'https://sc...   \n",
       "1938  {'pricecurrency': 'USD', 'gtin': '800550194491', 'availability': 'https://schema.org/OutOfStock'...   \n",
       "1939  {'pricecurrency': 'USD', 'price': '15.00', 'gtin': '790983291624', 'availability': 'https://sche...   \n",
       "\n",
       "                                                                                              description  \\\n",
       "0     Sometimes the simplest pieces can be a favorite piece of kit. The Blowtorch neck gaiter is that ...   \n",
       "1     This precision instrument is for the enduro artists, the ones who will use its Gemini dual-trave...   \n",
       "2     The KMC K1SL SuperLite Kool Chain is suitable for a variety of single-speed riding styles, such ...   \n",
       "3     In the tradition of our premium quality fold up tools, the BO-4 is a combination corkscrew and b...   \n",
       "4     Jagwire Sport Organic pads feature an all-new resin compound. Mounted on a steel backing plate, ...   \n",
       "...                                                                                                   ...   \n",
       "1935  The Brooks Challenge Large Tool Bag is a saddle bag for fitment to the rear of a saddle bearing ...   \n",
       "1936  Lezyne's Femto Drive Rear is a compact, bright, and beautifully made light. The lens is made of ...   \n",
       "1937  The Impact Pro touts superior toe protection and quicker drying than its predecessor and utilize...   \n",
       "1938  Craft's Superlight Mesh top features big-hole design for superior ventilation and cooling. • Mul...   \n",
       "1939  Pedro's Bit Set is designed to work with their Demi and Pro Torque Wrenches, offering the most c...   \n",
       "\n",
       "                       brand  \\\n",
       "0         {'name': '45NRTH'}   \n",
       "1     {'name': 'Cannondale'}   \n",
       "2            {'name': 'KMC'}   \n",
       "3      {'name': 'Park Tool'}   \n",
       "4        {'name': 'Jagwire'}   \n",
       "...                      ...   \n",
       "1935      {'name': 'Brooks'}   \n",
       "1936      {'name': 'Lezyne'}   \n",
       "1937    {'name': 'Five Ten'}   \n",
       "1938       {'name': 'Craft'}   \n",
       "1939     {'name': 'Pedro's'}   \n",
       "\n",
       "                                                                                                 page_url  \n",
       "0                           https://www.mountainbikespecialists.com/product/45nrth-blowtorch-368817-1.htm  \n",
       "1                        https://www.mountainbikespecialists.com/product/cannondale-jekyll-1-345682-1.htm  \n",
       "2         https://www.mountainbikespecialists.com/product/kmc-k1sl-superlite-kool-wide-chain-378124-1.htm  \n",
       "3          https://www.mountainbikespecialists.com/product/park-tool-corkscrew-bottle-opener-326868-1.htm  \n",
       "4     https://www.mountainbikespecialists.com/product/jagwire-mountain-sport-organic-disc-brake-pads-s...  \n",
       "...                                                                                                   ...  \n",
       "1935         https://www.mountainbikespecialists.com/product/brooks-challenge-large-tool-bag-282611-1.htm  \n",
       "1936                 https://www.mountainbikespecialists.com/product/lezyne-femto-drive-rear-192883-1.htm  \n",
       "1937  https://www.mountainbikespecialists.com/product/five-ten-impact-pro-womens-mountain-bike-shoe-37...  \n",
       "1938  https://www.mountainbikespecialists.com/product/craft-cool-mesh-super-light-sl-base-layer-235278...  \n",
       "1939                      https://www.mountainbikespecialists.com/product/pedros-hex-bit-set-252708-1.htm  \n",
       "\n",
       "[1940 rows x 6 columns]"
      ]
     },
     "execution_count": 34,
     "metadata": {},
     "output_type": "execute_result"
    }
   ],
   "source": [
    "table_df"
   ]
  },
  {
   "cell_type": "code",
   "execution_count": 35,
   "id": "f403104e",
   "metadata": {},
   "outputs": [
    {
     "data": {
      "text/plain": [
       "[1718, 1318]"
      ]
     },
     "execution_count": 35,
     "metadata": {},
     "output_type": "execute_result"
    }
   ],
   "source": [
    "valid_table_rows"
   ]
  },
  {
   "cell_type": "code",
   "execution_count": 36,
   "id": "7bdfc818",
   "metadata": {},
   "outputs": [
    {
     "data": {
      "text/html": [
       "<div>\n",
       "<style scoped>\n",
       "    .dataframe tbody tr th:only-of-type {\n",
       "        vertical-align: middle;\n",
       "    }\n",
       "\n",
       "    .dataframe tbody tr th {\n",
       "        vertical-align: top;\n",
       "    }\n",
       "\n",
       "    .dataframe thead th {\n",
       "        text-align: right;\n",
       "    }\n",
       "</style>\n",
       "<table border=\"1\" class=\"dataframe\">\n",
       "  <thead>\n",
       "    <tr style=\"text-align: right;\">\n",
       "      <th></th>\n",
       "      <th>row_id</th>\n",
       "      <th>name</th>\n",
       "      <th>offers</th>\n",
       "      <th>description</th>\n",
       "      <th>brand</th>\n",
       "      <th>page_url</th>\n",
       "    </tr>\n",
       "  </thead>\n",
       "  <tbody>\n",
       "    <tr>\n",
       "      <th>1318</th>\n",
       "      <td>1318</td>\n",
       "      <td>Treadwell Neo</td>\n",
       "      <td>{'pricecurrency': 'USD', 'gtin': '884603786383', 'price': '2300.00', 'availability': 'https://sc...</td>\n",
       "      <td>An urban e-bike for daily rides to class or rehearsal, to the park or the studio, or to meet you...</td>\n",
       "      <td>{'name': 'Cannondale'}</td>\n",
       "      <td>https://www.mountainbikespecialists.com/product/cannondale-treadwell-neo-366127-1.htm</td>\n",
       "    </tr>\n",
       "    <tr>\n",
       "      <th>1718</th>\n",
       "      <td>1718</td>\n",
       "      <td>Kids Trail Single-Speed 16-inch</td>\n",
       "      <td>{'pricecurrency': 'USD', 'gtin': '884603785904', 'availability': 'https://schema.org/OutOfStock'...</td>\n",
       "      <td>Get your little riders rolling free and loving life on these high-performance, Kid-Correct bikes...</td>\n",
       "      <td>{'name': 'Cannondale'}</td>\n",
       "      <td>https://www.mountainbikespecialists.com/product/cannondale-kids-trail-single-speed-16-inch-36336...</td>\n",
       "    </tr>\n",
       "  </tbody>\n",
       "</table>\n",
       "</div>"
      ],
      "text/plain": [
       "      row_id                             name  \\\n",
       "1318    1318                    Treadwell Neo   \n",
       "1718    1718  Kids Trail Single-Speed 16-inch   \n",
       "\n",
       "                                                                                                   offers  \\\n",
       "1318  {'pricecurrency': 'USD', 'gtin': '884603786383', 'price': '2300.00', 'availability': 'https://sc...   \n",
       "1718  {'pricecurrency': 'USD', 'gtin': '884603785904', 'availability': 'https://schema.org/OutOfStock'...   \n",
       "\n",
       "                                                                                              description  \\\n",
       "1318  An urban e-bike for daily rides to class or rehearsal, to the park or the studio, or to meet you...   \n",
       "1718  Get your little riders rolling free and loving life on these high-performance, Kid-Correct bikes...   \n",
       "\n",
       "                       brand  \\\n",
       "1318  {'name': 'Cannondale'}   \n",
       "1718  {'name': 'Cannondale'}   \n",
       "\n",
       "                                                                                                 page_url  \n",
       "1318                https://www.mountainbikespecialists.com/product/cannondale-treadwell-neo-366127-1.htm  \n",
       "1718  https://www.mountainbikespecialists.com/product/cannondale-kids-trail-single-speed-16-inch-36336...  "
      ]
     },
     "execution_count": 36,
     "metadata": {},
     "output_type": "execute_result"
    }
   ],
   "source": [
    "table_df = table_df[table_df['row_id'].isin(valid_table_rows)]\n",
    "table_df"
   ]
  },
  {
   "cell_type": "code",
   "execution_count": 37,
   "id": "d1a24e5b",
   "metadata": {},
   "outputs": [
    {
     "data": {
      "text/html": [
       "<div>\n",
       "<style scoped>\n",
       "    .dataframe tbody tr th:only-of-type {\n",
       "        vertical-align: middle;\n",
       "    }\n",
       "\n",
       "    .dataframe tbody tr th {\n",
       "        vertical-align: top;\n",
       "    }\n",
       "\n",
       "    .dataframe thead th {\n",
       "        text-align: right;\n",
       "    }\n",
       "</style>\n",
       "<table border=\"1\" class=\"dataframe\">\n",
       "  <thead>\n",
       "    <tr style=\"text-align: right;\">\n",
       "      <th></th>\n",
       "      <th>Unnamed: 0</th>\n",
       "      <th>Unnamed: 0.1</th>\n",
       "      <th>cluster_id</th>\n",
       "      <th>url</th>\n",
       "      <th>row_id</th>\n",
       "      <th>table_id</th>\n",
       "      <th>Valid</th>\n",
       "      <th>name</th>\n",
       "      <th>description</th>\n",
       "      <th>brand_x</th>\n",
       "      <th>brand_y</th>\n",
       "      <th>tokens</th>\n",
       "    </tr>\n",
       "  </thead>\n",
       "  <tbody>\n",
       "    <tr>\n",
       "      <th>9</th>\n",
       "      <td>106</td>\n",
       "      <td>554015</td>\n",
       "      <td>1615000</td>\n",
       "      <td>https://www.mountainbikespecialists.com/product/cannondale-kids-trail-single-speed-16-inch-36336...</td>\n",
       "      <td>1718</td>\n",
       "      <td>Product_mountainbikespecialists.com_September2020.json.gz</td>\n",
       "      <td>1</td>\n",
       "      <td>kids trail single-speed 16-inch</td>\n",
       "      <td>Get your little riders rolling free and loving life on these high-performance, Kid-Correct bikes...</td>\n",
       "      <td>NaN</td>\n",
       "      <td>NaN</td>\n",
       "      <td>['kids', 'trail', 'single-speed', '16-inch']</td>\n",
       "    </tr>\n",
       "    <tr>\n",
       "      <th>811</th>\n",
       "      <td>5460</td>\n",
       "      <td>24106971</td>\n",
       "      <td>1001195</td>\n",
       "      <td>https://www.mountainbikespecialists.com/product/cannondale-treadwell-neo-366127-1.htm</td>\n",
       "      <td>1318</td>\n",
       "      <td>Product_mountainbikespecialists.com_September2020.json.gz</td>\n",
       "      <td>1</td>\n",
       "      <td>treadwell neo</td>\n",
       "      <td>An urban e-bike for daily rides to class or rehearsal, to the park or the studio, or to meet you...</td>\n",
       "      <td>NaN</td>\n",
       "      <td>NaN</td>\n",
       "      <td>['treadwell', 'neo']</td>\n",
       "    </tr>\n",
       "  </tbody>\n",
       "</table>\n",
       "</div>"
      ],
      "text/plain": [
       "     Unnamed: 0  Unnamed: 0.1  cluster_id  \\\n",
       "9           106        554015     1615000   \n",
       "811        5460      24106971     1001195   \n",
       "\n",
       "                                                                                                     url  \\\n",
       "9    https://www.mountainbikespecialists.com/product/cannondale-kids-trail-single-speed-16-inch-36336...   \n",
       "811                https://www.mountainbikespecialists.com/product/cannondale-treadwell-neo-366127-1.htm   \n",
       "\n",
       "     row_id                                                   table_id  Valid  \\\n",
       "9      1718  Product_mountainbikespecialists.com_September2020.json.gz      1   \n",
       "811    1318  Product_mountainbikespecialists.com_September2020.json.gz      1   \n",
       "\n",
       "                                name  \\\n",
       "9    kids trail single-speed 16-inch   \n",
       "811                    treadwell neo   \n",
       "\n",
       "                                                                                             description  \\\n",
       "9    Get your little riders rolling free and loving life on these high-performance, Kid-Correct bikes...   \n",
       "811  An urban e-bike for daily rides to class or rehearsal, to the park or the studio, or to meet you...   \n",
       "\n",
       "    brand_x brand_y                                        tokens  \n",
       "9       NaN     NaN  ['kids', 'trail', 'single-speed', '16-inch']  \n",
       "811     NaN     NaN                          ['treadwell', 'neo']  "
      ]
     },
     "execution_count": 37,
     "metadata": {},
     "output_type": "execute_result"
    }
   ],
   "source": [
    "df_table_cleaned"
   ]
  },
  {
   "cell_type": "code",
   "execution_count": 43,
   "id": "cecde497",
   "metadata": {},
   "outputs": [],
   "source": [
    "new_table_df = pd.merge(table_df, df_table_cleaned[['row_id', 'cluster_id', 'table_id', 'brand_x', 'brand_y', 'tokens']], left_on='row_id', right_on='row_id', how='left')"
   ]
  },
  {
   "cell_type": "code",
   "execution_count": 44,
   "id": "8fdee134",
   "metadata": {},
   "outputs": [
    {
     "data": {
      "text/html": [
       "<div>\n",
       "<style scoped>\n",
       "    .dataframe tbody tr th:only-of-type {\n",
       "        vertical-align: middle;\n",
       "    }\n",
       "\n",
       "    .dataframe tbody tr th {\n",
       "        vertical-align: top;\n",
       "    }\n",
       "\n",
       "    .dataframe thead th {\n",
       "        text-align: right;\n",
       "    }\n",
       "</style>\n",
       "<table border=\"1\" class=\"dataframe\">\n",
       "  <thead>\n",
       "    <tr style=\"text-align: right;\">\n",
       "      <th></th>\n",
       "      <th>row_id</th>\n",
       "      <th>name</th>\n",
       "      <th>offers</th>\n",
       "      <th>description</th>\n",
       "      <th>brand</th>\n",
       "      <th>page_url</th>\n",
       "      <th>cluster_id</th>\n",
       "      <th>table_id</th>\n",
       "      <th>brand_x</th>\n",
       "      <th>brand_y</th>\n",
       "      <th>tokens</th>\n",
       "    </tr>\n",
       "  </thead>\n",
       "  <tbody>\n",
       "    <tr>\n",
       "      <th>0</th>\n",
       "      <td>1318</td>\n",
       "      <td>Treadwell Neo</td>\n",
       "      <td>{'pricecurrency': 'USD', 'gtin': '884603786383', 'price': '2300.00', 'availability': 'https://sc...</td>\n",
       "      <td>An urban e-bike for daily rides to class or rehearsal, to the park or the studio, or to meet you...</td>\n",
       "      <td>{'name': 'Cannondale'}</td>\n",
       "      <td>https://www.mountainbikespecialists.com/product/cannondale-treadwell-neo-366127-1.htm</td>\n",
       "      <td>1001195</td>\n",
       "      <td>Product_mountainbikespecialists.com_September2020.json.gz</td>\n",
       "      <td>NaN</td>\n",
       "      <td>NaN</td>\n",
       "      <td>['treadwell', 'neo']</td>\n",
       "    </tr>\n",
       "    <tr>\n",
       "      <th>1</th>\n",
       "      <td>1718</td>\n",
       "      <td>Kids Trail Single-Speed 16-inch</td>\n",
       "      <td>{'pricecurrency': 'USD', 'gtin': '884603785904', 'availability': 'https://schema.org/OutOfStock'...</td>\n",
       "      <td>Get your little riders rolling free and loving life on these high-performance, Kid-Correct bikes...</td>\n",
       "      <td>{'name': 'Cannondale'}</td>\n",
       "      <td>https://www.mountainbikespecialists.com/product/cannondale-kids-trail-single-speed-16-inch-36336...</td>\n",
       "      <td>1615000</td>\n",
       "      <td>Product_mountainbikespecialists.com_September2020.json.gz</td>\n",
       "      <td>NaN</td>\n",
       "      <td>NaN</td>\n",
       "      <td>['kids', 'trail', 'single-speed', '16-inch']</td>\n",
       "    </tr>\n",
       "  </tbody>\n",
       "</table>\n",
       "</div>"
      ],
      "text/plain": [
       "   row_id                             name  \\\n",
       "0    1318                    Treadwell Neo   \n",
       "1    1718  Kids Trail Single-Speed 16-inch   \n",
       "\n",
       "                                                                                                offers  \\\n",
       "0  {'pricecurrency': 'USD', 'gtin': '884603786383', 'price': '2300.00', 'availability': 'https://sc...   \n",
       "1  {'pricecurrency': 'USD', 'gtin': '884603785904', 'availability': 'https://schema.org/OutOfStock'...   \n",
       "\n",
       "                                                                                           description  \\\n",
       "0  An urban e-bike for daily rides to class or rehearsal, to the park or the studio, or to meet you...   \n",
       "1  Get your little riders rolling free and loving life on these high-performance, Kid-Correct bikes...   \n",
       "\n",
       "                    brand  \\\n",
       "0  {'name': 'Cannondale'}   \n",
       "1  {'name': 'Cannondale'}   \n",
       "\n",
       "                                                                                              page_url  \\\n",
       "0                https://www.mountainbikespecialists.com/product/cannondale-treadwell-neo-366127-1.htm   \n",
       "1  https://www.mountainbikespecialists.com/product/cannondale-kids-trail-single-speed-16-inch-36336...   \n",
       "\n",
       "   cluster_id                                                   table_id  \\\n",
       "0     1001195  Product_mountainbikespecialists.com_September2020.json.gz   \n",
       "1     1615000  Product_mountainbikespecialists.com_September2020.json.gz   \n",
       "\n",
       "  brand_x brand_y                                        tokens  \n",
       "0     NaN     NaN                          ['treadwell', 'neo']  \n",
       "1     NaN     NaN  ['kids', 'trail', 'single-speed', '16-inch']  "
      ]
     },
     "execution_count": 44,
     "metadata": {},
     "output_type": "execute_result"
    }
   ],
   "source": [
    "new_table_df"
   ]
  },
  {
   "cell_type": "code",
   "execution_count": 45,
   "id": "21bc0a37",
   "metadata": {},
   "outputs": [
    {
     "data": {
      "text/html": [
       "<div>\n",
       "<style scoped>\n",
       "    .dataframe tbody tr th:only-of-type {\n",
       "        vertical-align: middle;\n",
       "    }\n",
       "\n",
       "    .dataframe tbody tr th {\n",
       "        vertical-align: top;\n",
       "    }\n",
       "\n",
       "    .dataframe thead th {\n",
       "        text-align: right;\n",
       "    }\n",
       "</style>\n",
       "<table border=\"1\" class=\"dataframe\">\n",
       "  <thead>\n",
       "    <tr style=\"text-align: right;\">\n",
       "      <th></th>\n",
       "      <th>row_id</th>\n",
       "      <th>name</th>\n",
       "      <th>offers</th>\n",
       "      <th>description</th>\n",
       "      <th>brand</th>\n",
       "      <th>page_url</th>\n",
       "      <th>cluster_id</th>\n",
       "      <th>table_id</th>\n",
       "      <th>brand_x</th>\n",
       "      <th>brand_y</th>\n",
       "      <th>tokens</th>\n",
       "      <th>category</th>\n",
       "    </tr>\n",
       "  </thead>\n",
       "  <tbody>\n",
       "    <tr>\n",
       "      <th>0</th>\n",
       "      <td>1318</td>\n",
       "      <td>Treadwell Neo</td>\n",
       "      <td>{'pricecurrency': 'USD', 'gtin': '884603786383', 'price': '2300.00', 'availability': 'https://sc...</td>\n",
       "      <td>An urban e-bike for daily rides to class or rehearsal, to the park or the studio, or to meet you...</td>\n",
       "      <td>{'name': 'Cannondale'}</td>\n",
       "      <td>https://www.mountainbikespecialists.com/product/cannondale-treadwell-neo-366127-1.htm</td>\n",
       "      <td>1001195</td>\n",
       "      <td>Product_mountainbikespecialists.com_September2020.json.gz</td>\n",
       "      <td>NaN</td>\n",
       "      <td>NaN</td>\n",
       "      <td>['treadwell', 'neo']</td>\n",
       "      <td>bikes</td>\n",
       "    </tr>\n",
       "    <tr>\n",
       "      <th>1</th>\n",
       "      <td>1718</td>\n",
       "      <td>Kids Trail Single-Speed 16-inch</td>\n",
       "      <td>{'pricecurrency': 'USD', 'gtin': '884603785904', 'availability': 'https://schema.org/OutOfStock'...</td>\n",
       "      <td>Get your little riders rolling free and loving life on these high-performance, Kid-Correct bikes...</td>\n",
       "      <td>{'name': 'Cannondale'}</td>\n",
       "      <td>https://www.mountainbikespecialists.com/product/cannondale-kids-trail-single-speed-16-inch-36336...</td>\n",
       "      <td>1615000</td>\n",
       "      <td>Product_mountainbikespecialists.com_September2020.json.gz</td>\n",
       "      <td>NaN</td>\n",
       "      <td>NaN</td>\n",
       "      <td>['kids', 'trail', 'single-speed', '16-inch']</td>\n",
       "      <td>bikes</td>\n",
       "    </tr>\n",
       "  </tbody>\n",
       "</table>\n",
       "</div>"
      ],
      "text/plain": [
       "   row_id                             name  \\\n",
       "0    1318                    Treadwell Neo   \n",
       "1    1718  Kids Trail Single-Speed 16-inch   \n",
       "\n",
       "                                                                                                offers  \\\n",
       "0  {'pricecurrency': 'USD', 'gtin': '884603786383', 'price': '2300.00', 'availability': 'https://sc...   \n",
       "1  {'pricecurrency': 'USD', 'gtin': '884603785904', 'availability': 'https://schema.org/OutOfStock'...   \n",
       "\n",
       "                                                                                           description  \\\n",
       "0  An urban e-bike for daily rides to class or rehearsal, to the park or the studio, or to meet you...   \n",
       "1  Get your little riders rolling free and loving life on these high-performance, Kid-Correct bikes...   \n",
       "\n",
       "                    brand  \\\n",
       "0  {'name': 'Cannondale'}   \n",
       "1  {'name': 'Cannondale'}   \n",
       "\n",
       "                                                                                              page_url  \\\n",
       "0                https://www.mountainbikespecialists.com/product/cannondale-treadwell-neo-366127-1.htm   \n",
       "1  https://www.mountainbikespecialists.com/product/cannondale-kids-trail-single-speed-16-inch-36336...   \n",
       "\n",
       "   cluster_id                                                   table_id  \\\n",
       "0     1001195  Product_mountainbikespecialists.com_September2020.json.gz   \n",
       "1     1615000  Product_mountainbikespecialists.com_September2020.json.gz   \n",
       "\n",
       "  brand_x brand_y                                        tokens category  \n",
       "0     NaN     NaN                          ['treadwell', 'neo']    bikes  \n",
       "1     NaN     NaN  ['kids', 'trail', 'single-speed', '16-inch']    bikes  "
      ]
     },
     "execution_count": 45,
     "metadata": {},
     "output_type": "execute_result"
    }
   ],
   "source": [
    "new_table_df['category'] = 'bikes'\n",
    "new_table_df"
   ]
  },
  {
   "cell_type": "code",
   "execution_count": 46,
   "id": "041167b8",
   "metadata": {},
   "outputs": [],
   "source": [
    "new_table_df.to_json(os.path.join(train_test_input_path, '{}'.format(entity.lower()), '{}'.format(table)), compression='gzip', orient='records', lines=True)"
   ]
  },
  {
   "cell_type": "code",
   "execution_count": 54,
   "id": "9866bd8a",
   "metadata": {},
   "outputs": [
    {
     "name": "stderr",
     "output_type": "stream",
     "text": [
      "\r",
      "  0% (0 of 126) |                        | Elapsed Time: 0:00:00 ETA:  --:--:--"
     ]
    },
    {
     "name": "stdout",
     "output_type": "stream",
     "text": [
      "Bikes\n"
     ]
    },
    {
     "name": "stderr",
     "output_type": "stream",
     "text": [
      "100% (126 of 126) |######################| Elapsed Time: 0:00:12 Time:  0:00:12\n"
     ]
    },
    {
     "name": "stdout",
     "output_type": "stream",
     "text": [
      "Cars\n"
     ]
    },
    {
     "name": "stderr",
     "output_type": "stream",
     "text": [
      "100% (234 of 234) |######################| Elapsed Time: 0:00:25 Time:  0:00:25\n"
     ]
    },
    {
     "name": "stdout",
     "output_type": "stream",
     "text": [
      "Clothes\n"
     ]
    },
    {
     "name": "stderr",
     "output_type": "stream",
     "text": [
      "100% (1047 of 1047) |####################| Elapsed Time: 0:01:51 Time:  0:01:51\n",
      "  0% (0 of 207) |                        | Elapsed Time: 0:00:00 ETA:  --:--:--"
     ]
    },
    {
     "name": "stdout",
     "output_type": "stream",
     "text": [
      "Drugstore\n"
     ]
    },
    {
     "name": "stderr",
     "output_type": "stream",
     "text": [
      "100% (207 of 207) |######################| Elapsed Time: 0:00:25 Time:  0:00:25\n"
     ]
    },
    {
     "name": "stdout",
     "output_type": "stream",
     "text": [
      "Electronics\n"
     ]
    },
    {
     "name": "stderr",
     "output_type": "stream",
     "text": [
      "100% (1758 of 1758) |####################| Elapsed Time: 0:02:43 Time:  0:02:43\n"
     ]
    },
    {
     "name": "stdout",
     "output_type": "stream",
     "text": [
      "Technology\n"
     ]
    },
    {
     "name": "stderr",
     "output_type": "stream",
     "text": [
      "100% (476 of 476) |######################| Elapsed Time: 0:00:26 Time:  0:00:26\n"
     ]
    },
    {
     "name": "stdout",
     "output_type": "stream",
     "text": [
      "Tools\n"
     ]
    },
    {
     "name": "stderr",
     "output_type": "stream",
     "text": [
      "100% (9 of 9) |##########################| Elapsed Time: 0:00:00 Time:  0:00:00\n"
     ]
    },
    {
     "name": "stdout",
     "output_type": "stream",
     "text": [
      "Random\n"
     ]
    },
    {
     "name": "stderr",
     "output_type": "stream",
     "text": [
      "100% (2280 of 2280) |####################| Elapsed Time: 0:03:11 Time:  0:03:11\n"
     ]
    }
   ],
   "source": [
    "entities = ['Bikes', 'Cars', 'Clothes', 'Drugstore', 'Electronics', 'Technology', 'Tools', 'Random']\n",
    "\n",
    "files_dict = {'minimum3': [file for file in os.listdir(min3_path) if file.endswith('.json.gz')], \n",
    "             'top100': [file for file in os.listdir(top100_path) if file.endswith('.json.gz')]}\n",
    "    \n",
    "for entity in entities:\n",
    "    print(entity)\n",
    "    df_category = pd.read_csv(os.path.join(cluster_path,\n",
    "                                                '{}_clusters_all_8_tables_post_processed_lower_threshold.csv'.format(\n",
    "                                                    entity)))\n",
    "    df_cleaned = df_category[df_category['cluster_id'].isin(unique_clusters)]\n",
    "    valid_tables = list(set(df_cleaned['table_id'].to_list()))\n",
    "    \n",
    "    count = 0\n",
    "    with progressbar.ProgressBar(max_value=len(valid_tables)) as bar:\n",
    "        for table in valid_tables:\n",
    "            count += 1\n",
    "            if table in files_dict['minimum3']:\n",
    "                table_path = min3_path\n",
    "            elif table in files_dict['top100']:\n",
    "                table_path = top100_path\n",
    "            else:\n",
    "                print('no valid path for: {}'.format(table))\n",
    "                continue\n",
    "\n",
    "            df_table_cleaned = df_cleaned[df_cleaned['table_id'] == table]\n",
    "            valid_table_rows = df_table_cleaned['row_id'].to_list()\n",
    "            table_df = pd.read_json(os.path.join(table_path, '{}'.format(table)), compression='gzip', lines=True)\n",
    "            table_df = table_df[table_df['row_id'].isin(valid_table_rows)]\n",
    "            new_table_df = pd.merge(table_df, df_table_cleaned[['row_id', 'cluster_id', 'table_id', 'brand_x', 'brand_y', 'tokens']], left_on='row_id', right_on='row_id', how='left')\n",
    "            new_table_df['category'] = entity.lower()\n",
    "            new_table_df.to_json(os.path.join(train_test_input_path, '{}'.format(entity.lower()), '{}'.format(table)), compression='gzip', orient='records', lines=True)\n",
    "            \n",
    "            bar.update(count)\n",
    "            "
   ]
  },
  {
   "cell_type": "code",
   "execution_count": 55,
   "id": "acb3754a",
   "metadata": {},
   "outputs": [],
   "source": [
    "input_files_dict = {}\n",
    "for entity in entities:\n",
    "    train_test_category_path = os.path.join(train_test_input_path, '{}'.format(entity.lower()))\n",
    "    input_files_dict[entity.lower()] = [file for file in os.listdir(train_test_category_path) if file.endswith('.json.gz')]"
   ]
  },
  {
   "cell_type": "code",
   "execution_count": 66,
   "id": "96bf9cc9",
   "metadata": {},
   "outputs": [],
   "source": [
    "# try to find overlap between two categories:\n",
    "combinations_list = []\n",
    "for pair in itertools.combinations(entities,2):\n",
    "    combinations_list.append(pair)\n",
    "    \n",
    "overlap_dict = {}\n",
    "for pair in combinations_list:\n",
    "    overlap = list(set(input_files_dict[pair[0].lower()]) & set(input_files_dict[pair[1].lower()]))\n",
    "    overlap_dict[str(pair)] = overlap\n",
    "    \n",
    "overlap_dict\n",
    "\n",
    "# save overlap_dict\n",
    "with open(os.path.join(train_test_input_path, 'all/overlap_tables_between_categories_dict.json'), 'w', encoding='utf-8') as f:\n",
    "    json.dump(overlap_dict, f)"
   ]
  },
  {
   "cell_type": "code",
   "execution_count": 67,
   "id": "fb4b99e5",
   "metadata": {},
   "outputs": [
    {
     "name": "stderr",
     "output_type": "stream",
     "text": [
      "  0% (13 of 2280) |                      | Elapsed Time: 0:00:00 ETA:   0:00:18"
     ]
    },
    {
     "name": "stdout",
     "output_type": "stream",
     "text": [
      "Bikes\n"
     ]
    },
    {
     "name": "stderr",
     "output_type": "stream",
     "text": [
      "100% (2280 of 2280) |####################| Elapsed Time: 0:00:00 Time:  0:00:00\n",
      "  1% (29 of 2280) |                      | Elapsed Time: 0:00:00 ETA:   0:00:14"
     ]
    },
    {
     "name": "stdout",
     "output_type": "stream",
     "text": [
      "Cars\n"
     ]
    },
    {
     "name": "stderr",
     "output_type": "stream",
     "text": [
      "100% (2280 of 2280) |####################| Elapsed Time: 0:00:01 Time:  0:00:01\n",
      "  0% (16 of 2280) |                      | Elapsed Time: 0:00:00 ETA:   0:00:14"
     ]
    },
    {
     "name": "stdout",
     "output_type": "stream",
     "text": [
      "Clothes\n"
     ]
    },
    {
     "name": "stderr",
     "output_type": "stream",
     "text": [
      "100% (2280 of 2280) |####################| Elapsed Time: 0:00:16 Time:  0:00:16\n",
      "  0% (12 of 2280) |                      | Elapsed Time: 0:00:00 ETA:   0:00:20"
     ]
    },
    {
     "name": "stdout",
     "output_type": "stream",
     "text": [
      "Drugstore\n"
     ]
    },
    {
     "name": "stderr",
     "output_type": "stream",
     "text": [
      "100% (2280 of 2280) |####################| Elapsed Time: 0:00:07 Time:  0:00:07\n",
      "  0% (7 of 2280) |                       | Elapsed Time: 0:00:00 ETA:   0:00:37"
     ]
    },
    {
     "name": "stdout",
     "output_type": "stream",
     "text": [
      "Electronics\n"
     ]
    },
    {
     "name": "stderr",
     "output_type": "stream",
     "text": [
      "100% (2280 of 2280) |####################| Elapsed Time: 0:00:19 Time:  0:00:19\n",
      "  0% (3 of 2280) |                       | Elapsed Time: 0:00:00 ETA:   0:01:21"
     ]
    },
    {
     "name": "stdout",
     "output_type": "stream",
     "text": [
      "Technology\n"
     ]
    },
    {
     "name": "stderr",
     "output_type": "stream",
     "text": [
      "100% (2280 of 2280) |####################| Elapsed Time: 0:00:08 Time:  0:00:08\n",
      "100% (2280 of 2280) |####################| Elapsed Time: 0:00:00 Time:  0:00:00\n"
     ]
    },
    {
     "name": "stdout",
     "output_type": "stream",
     "text": [
      "Tools\n",
      "Random\n"
     ]
    },
    {
     "name": "stderr",
     "output_type": "stream",
     "text": [
      "100% (2280 of 2280) |####################| Elapsed Time: 0:00:28 Time:  0:00:28\n"
     ]
    }
   ],
   "source": [
    "# save all tables in one path\n",
    "for entity in entities:\n",
    "    print(entity)\n",
    "    train_test_category_path = os.path.join(train_test_input_path, '{}'.format(entity.lower()))\n",
    "    train_test_all_path = os.path.join(train_test_input_path, 'all')\n",
    "    category_tables_list = [file for file in os.listdir(train_test_category_path) if file.endswith('.json.gz')]\n",
    "    \n",
    "    count = 0\n",
    "    with progressbar.ProgressBar(max_value=len(valid_tables)) as bar:\n",
    "        for table in category_tables_list:\n",
    "            if os.path.isfile(os.path.join(train_test_all_path,'{}'.format(table))):\n",
    "                all_table_df = pd.read_json(os.path.join(train_test_all_path,'{}'.format(table)), compression='gzip', lines=True)\n",
    "                cat_table_df = pd.read_json(os.path.join(train_test_category_path,'{}'.format(table)), compression='gzip', lines=True)\n",
    "                frames = [all_table_df, cat_table_df]\n",
    "                all_table_df = pd.concat(frames)\n",
    "            else:\n",
    "                all_table_df = pd.read_json(os.path.join(train_test_category_path,'{}'.format(table)), compression='gzip', lines=True)\n",
    "            all_table_df.to_json(os.path.join(train_test_all_path, '{}'.format(table)), compression='gzip', orient='records', lines=True)\n",
    "            \n",
    "            count += 1\n",
    "            bar.update(count)"
   ]
  },
  {
   "cell_type": "code",
   "execution_count": null,
   "id": "321ab8ea",
   "metadata": {},
   "outputs": [],
   "source": []
  }
 ],
 "metadata": {
  "kernelspec": {
   "display_name": "Python 3 (ipykernel)",
   "language": "python",
   "name": "python3"
  },
  "language_info": {
   "codemirror_mode": {
    "name": "ipython",
    "version": 3
   },
   "file_extension": ".py",
   "mimetype": "text/x-python",
   "name": "python",
   "nbconvert_exporter": "python",
   "pygments_lexer": "ipython3",
   "version": "3.8.8"
  }
 },
 "nbformat": 4,
 "nbformat_minor": 5
}
