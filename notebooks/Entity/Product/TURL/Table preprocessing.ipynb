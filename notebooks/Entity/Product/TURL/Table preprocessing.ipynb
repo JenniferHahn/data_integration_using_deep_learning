{
 "cells": [
  {
   "cell_type": "code",
   "execution_count": 25,
   "id": "c998e455",
   "metadata": {},
   "outputs": [],
   "source": [
    "import pandas as pd\n",
    "import json \n",
    "import gzip\n",
    "import os\n",
    "import re as regex\n",
    "import progressbar\n",
    "import pickle"
   ]
  },
  {
   "cell_type": "code",
   "execution_count": 47,
   "id": "4b446158",
   "metadata": {},
   "outputs": [],
   "source": [
    "product_path = '../../../../src/data/product'\n",
    "train_test_all_filtered_path = os.path.join(product_path, 'train_test_split/output_unfiltered_tables/large/after_manual_checking')\n",
    "files_representation_train = [file for file in os.listdir(os.path.join(train_test_all_filtered_path,'train')) if file.endswith('.json.gz')]\n",
    "turl_input_path = os.path.join(product_path, 'TURL/input')"
   ]
  },
  {
   "cell_type": "code",
   "execution_count": 24,
   "id": "1264b51c",
   "metadata": {},
   "outputs": [
    {
     "data": {
      "text/plain": [
       "['Product_boticas23.com_September2020.json.gz',\n",
       " 'Product_maidstonetreefarm.com_September2020.json.gz',\n",
       " 'Product_themusicvault.co.uk_September2020.json.gz',\n",
       " 'Product_vipaudiovisual.com_September2020.json.gz',\n",
       " 'Product_russhays.com_September2020.json.gz',\n",
       " 'Product_sharonandsons.com_September2020.json.gz',\n",
       " 'Product_februn.com_September2020.json.gz',\n",
       " 'Product_theapplianceadvantage.com_September2020.json.gz',\n",
       " 'Product_thegoldsmithatch.com_September2020.json.gz',\n",
       " 'Product_eos-magazine-shop.com_September2020.json.gz',\n",
       " 'Product_joyeriarelojeriadavid.com_September2020.json.gz',\n",
       " 'Product_leeread.com_September2020.json.gz',\n",
       " 'Product_linkproved.com_September2020.json.gz',\n",
       " 'Product_ridgelinebicycles.com_September2020.json.gz',\n",
       " 'Product_privafarma.com_September2020.json.gz',\n",
       " 'Product_ishopcolombia.com_September2020.json.gz',\n",
       " 'Product_fergushomeandhardware.com_September2020.json.gz',\n",
       " 'Product_johnnysprockets.com_September2020.json.gz',\n",
       " 'Product_mbofnorthscottsdale.com_September2020.json.gz',\n",
       " 'Product_digitalwarehouse.com_September2020.json.gz',\n",
       " 'Product_gadget-winkel.com_September2020.json.gz',\n",
       " 'Product_connection.com_September2020.json.gz',\n",
       " 'Product_sarasotacarpetinstallation.com_September2020.json.gz',\n",
       " 'Product_gearbrain.com_September2020.json.gz',\n",
       " 'Product_iperhardware.com_September2020.json.gz',\n",
       " 'Product_leaderlabs.com_September2020.json.gz',\n",
       " 'Product_unlimitedbiking.com_September2020.json.gz',\n",
       " 'Product_houseofwatches.co.uk_September2020.json.gz',\n",
       " 'Product_bluenty.com_September2020.json.gz',\n",
       " 'Product_chronext.com_September2020.json.gz',\n",
       " 'Product_pcjuireless.com_September2020.json.gz',\n",
       " 'Product_abracadabranyc.com_September2020.json.gz',\n",
       " 'Product_hollowbonerecords.com_September2020.json.gz',\n",
       " 'Product_trhistorical.com_September2020.json.gz',\n",
       " 'Product_eastcoastfloorcoverings.com_September2020.json.gz',\n",
       " 'Product_sunfloweroutdoorandbike.com_September2020.json.gz',\n",
       " 'Product_cyclestore.co.uk_September2020.json.gz',\n",
       " 'Product_jamesen.co.uk_September2020.json.gz',\n",
       " 'Product_bluemercury.com_September2020.json.gz',\n",
       " 'Product_plasmatv4less.com_September2020.json.gz',\n",
       " 'Product_bananas.com_September2020.json.gz',\n",
       " 'Product_advancedtoolcorp.com_September2020.json.gz',\n",
       " 'Product_kooponline.com_September2020.json.gz',\n",
       " 'Product_outdoorbeerdsman.com_September2020.json.gz',\n",
       " 'Product_basketmania.co.uk_September2020.json.gz',\n",
       " 'Product_shopstadiumsports.com_September2020.json.gz',\n",
       " 'Product_breakingbadshop.com_September2020.json.gz',\n",
       " 'Product_franscoop.com_September2020.json.gz',\n",
       " 'Product_bsafetechnology.com_September2020.json.gz',\n",
       " 'Product_mercadora172.com_September2020.json.gz',\n",
       " 'Product_gallifurniture.com_September2020.json.gz',\n",
       " 'Product_coffeemakersusa.com_September2020.json.gz',\n",
       " 'Product_electrono.co.uk_September2020.json.gz',\n",
       " 'Product_micheomusic.com_September2020.json.gz',\n",
       " 'Product_lifesafetysolution.com_September2020.json.gz',\n",
       " 'Product_whiteriverflooring.com_September2020.json.gz',\n",
       " 'Product_lesnomadesinteriors.com_September2020.json.gz',\n",
       " 'Product_lecbroome.com.au_September2020.json.gz',\n",
       " 'Product_nelsonsfurniturestore.com_September2020.json.gz',\n",
       " 'Product_expressapplianceid.com_September2020.json.gz',\n",
       " 'Product_amazinghardwoodfloors.com_September2020.json.gz',\n",
       " 'Product_technosdesign.com_September2020.json.gz',\n",
       " 'Product_sportrequest.com_September2020.json.gz',\n",
       " 'Product_dacon.com.sg_September2020.json.gz',\n",
       " 'Product_max270.com_September2020.json.gz',\n",
       " 'Product_corposmart.com.dz_September2020.json.gz',\n",
       " 'Product_happytime.com.pl_September2020.json.gz',\n",
       " 'Product_bikegarage.com_September2020.json.gz',\n",
       " 'Product_mitzvahland.com_September2020.json.gz',\n",
       " 'Product_inspiredflooringdesign.com_September2020.json.gz',\n",
       " 'Product_gutterfixed.com_September2020.json.gz',\n",
       " 'Product_lifedistribucion.com_September2020.json.gz',\n",
       " 'Product_homecarehospitalbeds.com_September2020.json.gz',\n",
       " 'Product_thetelecomshop.com_September2020.json.gz',\n",
       " 'Product_ornamentalproductsinc.com_September2020.json.gz',\n",
       " 'Product_shopymy.com_September2020.json.gz',\n",
       " 'Product_energysk.com_September2020.json.gz',\n",
       " 'Product_amegoev.com_September2020.json.gz',\n",
       " 'Product_cartridgestockmarket.com_September2020.json.gz',\n",
       " 'Product_sitnsleepfl.com_September2020.json.gz',\n",
       " 'Product_best4headsets.co.uk_September2020.json.gz',\n",
       " 'Product_twowheelerskidealer.com_September2020.json.gz',\n",
       " 'Product_onbuy.com_September2020.json.gz',\n",
       " 'Product_competitivegear.com_September2020.json.gz',\n",
       " 'Product_totalpersonalprotection.com_September2020.json.gz',\n",
       " 'Product_austinsdiving.com_September2020.json.gz',\n",
       " 'Product_timix.com.br_September2020.json.gz',\n",
       " 'Product_allhdd.com_September2020.json.gz',\n",
       " 'Product_communityappliance.com_September2020.json.gz',\n",
       " 'Product_tampacontractfloors.com_September2020.json.gz',\n",
       " 'Product_tunisianet.com.tn_September2020.json.gz',\n",
       " 'Product_logitechstore.com.br_September2020.json.gz',\n",
       " 'Product_totalhouseandflooring.com_September2020.json.gz',\n",
       " 'Product_bikeworksma.com_September2020.json.gz',\n",
       " 'Product_healthyworldpharmacy.com.au_September2020.json.gz',\n",
       " 'Product_toottoottoys.com.au_September2020.json.gz',\n",
       " 'Product_grosbill.com_September2020.json.gz',\n",
       " 'Product_fotoimageneshop.com_September2020.json.gz',\n",
       " 'Product_commsdirect.com.au_September2020.json.gz',\n",
       " 'Product_traceurdirect.com_September2020.json.gz',\n",
       " 'Product_blackscintilla.com_September2020.json.gz',\n",
       " 'Product_indoorcity.com_September2020.json.gz',\n",
       " 'Product_flanigansfurnitureoutlet.com_September2020.json.gz',\n",
       " 'Product_thejlryshop.com_September2020.json.gz',\n",
       " 'Product_savemak.com_September2020.json.gz',\n",
       " 'Product_treadbikeshop.com_September2020.json.gz',\n",
       " 'Product_leaffloorcovering.com_September2020.json.gz',\n",
       " 'Product_cliktodeal.com_September2020.json.gz',\n",
       " 'Product_uccyclery.com_September2020.json.gz',\n",
       " 'Product_carpetcitywi.com_September2020.json.gz',\n",
       " 'Product_thewatchagency.com_September2020.json.gz',\n",
       " 'Product_montelongos.com_September2020.json.gz',\n",
       " 'Product_trikesuk.com_September2020.json.gz',\n",
       " 'Product_accidentalartrockford.com_September2020.json.gz',\n",
       " 'Product_aedmarket.com_September2020.json.gz',\n",
       " 'Product_drimmersmiami.com_September2020.json.gz',\n",
       " 'Product_mbsdirect.com_September2020.json.gz',\n",
       " 'Product_buchika.com_September2020.json.gz',\n",
       " 'Product_yorktowncycles.com_September2020.json.gz',\n",
       " 'Product_fayettesalonsuites.com_September2020.json.gz',\n",
       " 'Product_sport-tiedje.co.uk_September2020.json.gz',\n",
       " 'Product_ldlc.com_September2020.json.gz',\n",
       " 'Product_slowfarma.com_September2020.json.gz',\n",
       " 'Product_downtownappliance.com_September2020.json.gz',\n",
       " 'Product_rayashop.com_September2020.json.gz',\n",
       " 'Product_lucasdivestore.com_September2020.json.gz',\n",
       " 'Product_vsmusicstudio.com_September2020.json.gz',\n",
       " 'Product_swiss-pro.com_September2020.json.gz',\n",
       " 'Product_npbikeshop.com_September2020.json.gz',\n",
       " 'Product_beersofeurope.co.uk_September2020.json.gz',\n",
       " 'Product_ytsundance.com_September2020.json.gz',\n",
       " 'Product_penandtool.com_September2020.json.gz',\n",
       " 'Product_rev-cycles.com_September2020.json.gz',\n",
       " 'Product_tonerpoint24.com_September2020.json.gz',\n",
       " 'Product_villagebikeshop.com_September2020.json.gz',\n",
       " 'Product_flippanceandcarr.com_September2020.json.gz',\n",
       " 'Product_watchshopvietnam.com_September2020.json.gz',\n",
       " 'Product_vaupelhomefurnishings.com_September2020.json.gz',\n",
       " 'Product_photospecialist.co.uk_September2020.json.gz',\n",
       " 'Product_crocodileye.com_September2020.json.gz',\n",
       " 'Product_anchorexpress.com_September2020.json.gz',\n",
       " 'Product_welovetopartyherts.com_September2020.json.gz',\n",
       " 'Product_fisselfloorcovering.com_September2020.json.gz',\n",
       " 'Product_pcgaming365.com_September2020.json.gz',\n",
       " 'Product_tornlightrecords.com_September2020.json.gz',\n",
       " 'Product_kacparaya.com_September2020.json.gz',\n",
       " 'Product_rentgamingcomputer.com_September2020.json.gz',\n",
       " 'Product_homehealthcareshoppe.com_September2020.json.gz',\n",
       " 'Product_csmerchants.com.au_September2020.json.gz',\n",
       " 'Product_sakura-mall.com_September2020.json.gz',\n",
       " 'Product_bikenetic.com_September2020.json.gz',\n",
       " 'Product_outdoorsmans.com_September2020.json.gz',\n",
       " 'Product_shopmainstco.com_September2020.json.gz',\n",
       " 'Product_barberhood.com.au_September2020.json.gz',\n",
       " 'Product_avitecstore.com_September2020.json.gz',\n",
       " 'Product_blackyard-skateboards.com_September2020.json.gz',\n",
       " 'Product_fotozunic.com_September2020.json.gz',\n",
       " 'Product_mcginnisappliance.com_September2020.json.gz',\n",
       " 'Product_rs-online.com_September2020.json.gz',\n",
       " 'Product_elitecycling.com_September2020.json.gz',\n",
       " 'Product_constantstealth.com_September2020.json.gz',\n",
       " 'Product_rickshometown.com_September2020.json.gz',\n",
       " 'Product_beyondfringe.com_September2020.json.gz',\n",
       " 'Product_readysetgofitness.com.au_September2020.json.gz',\n",
       " 'Product_vintagehomesouth.com_September2020.json.gz',\n",
       " 'Product_castorandpollux.co.uk_September2020.json.gz',\n",
       " 'Product_schmidtcustomfloors.com_September2020.json.gz',\n",
       " 'Product_pc-kombo.com_September2020.json.gz',\n",
       " 'Product_tiendabigcom.com.mx_September2020.json.gz',\n",
       " 'Product_continentalski.com_September2020.json.gz',\n",
       " 'Product_oempcworld.com_September2020.json.gz',\n",
       " 'Product_mytechsense.com.au_September2020.json.gz',\n",
       " 'Product_gardeninggiftsdirect.com_September2020.json.gz',\n",
       " 'Product_naturalopulence.com_September2020.json.gz',\n",
       " 'Product_ferrogioielli.com_September2020.json.gz',\n",
       " 'Product_bikeandtrike.com_September2020.json.gz',\n",
       " 'Product_adappliancecenter.com_September2020.json.gz',\n",
       " 'Product_sunshinebicycle.com_September2020.json.gz',\n",
       " 'Product_oskobayashi.com_September2020.json.gz',\n",
       " 'Product_dgcycles.com_September2020.json.gz',\n",
       " 'Product_achatpc.com_September2020.json.gz',\n",
       " 'Product_treiberandstraub.com_September2020.json.gz',\n",
       " 'Product_capefearflooring.com_September2020.json.gz',\n",
       " 'Product_dscbike.com_September2020.json.gz',\n",
       " 'Product_centralavewines.com_September2020.json.gz',\n",
       " 'Product_madridhifi.com_September2020.json.gz',\n",
       " 'Product_tcateamstore.com_September2020.json.gz',\n",
       " 'Product_gerhardsappliance.com_September2020.json.gz',\n",
       " 'Product_sunsvision.com_September2020.json.gz',\n",
       " 'Product_houseofcop.com_September2020.json.gz',\n",
       " 'Product_technoworld.com_September2020.json.gz',\n",
       " 'Product_memoirevive-fournitures-de-bureau.com_September2020.json.gz',\n",
       " 'Product_dougjohnsonart.com_September2020.json.gz',\n",
       " 'Product_ntrstore.com_September2020.json.gz',\n",
       " 'Product_costenfloors.com_September2020.json.gz',\n",
       " 'Product_outdoority.com_September2020.json.gz',\n",
       " 'Product_midyatgumusdunyasi.com_September2020.json.gz',\n",
       " 'Product_mrsdoepee.com_September2020.json.gz',\n",
       " 'Product_secufast.com_September2020.json.gz',\n",
       " 'Product_centralwheel.com_September2020.json.gz',\n",
       " 'Product_hethonganninh.com_September2020.json.gz',\n",
       " 'Product_spokelifecycles.com_September2020.json.gz',\n",
       " 'Product_act1flooring.com_September2020.json.gz',\n",
       " 'Product_pcfactorycomputer.com_September2020.json.gz',\n",
       " 'Product_madridgadgetstore.com_September2020.json.gz',\n",
       " 'Product_homestylefurnituremodesto.com_September2020.json.gz',\n",
       " 'Product_bcdbazaar.com_September2020.json.gz',\n",
       " 'Product_gaelforcemarine.co.uk_September2020.json.gz',\n",
       " 'Product_mi-store.com.au_September2020.json.gz',\n",
       " 'Product_cycleworldmiami.com_September2020.json.gz',\n",
       " 'Product_renodepot.com_September2020.json.gz',\n",
       " 'Product_platinumcomputer.net_September2020.json.gz',\n",
       " 'Product_millenniumbg.com_September2020.json.gz',\n",
       " 'Product_tri-zone.com_September2020.json.gz',\n",
       " 'Product_thefloorstorerva.com_September2020.json.gz',\n",
       " 'Product_masquevideo.com_September2020.json.gz',\n",
       " 'Product_amazonstone.com_September2020.json.gz',\n",
       " 'Product_liulostore.com_September2020.json.gz',\n",
       " 'Product_therecordexchange.com_September2020.json.gz',\n",
       " 'Product_myonlinedigitalproducts.com_September2020.json.gz',\n",
       " 'Product_mir-informatica.com_September2020.json.gz',\n",
       " 'Product_fotomalzeme.com_September2020.json.gz',\n",
       " 'Product_harveynorman.com.my_September2020.json.gz',\n",
       " 'Product_shoplovetv.com_September2020.json.gz',\n",
       " 'Product_coalfieldcarpets.com_September2020.json.gz',\n",
       " 'Product_yeezybreezy.com_September2020.json.gz',\n",
       " 'Product_montresenligne.com_September2020.json.gz',\n",
       " 'Product_espressoutlet.com_September2020.json.gz',\n",
       " 'Product_shopsiesta.com_September2020.json.gz',\n",
       " 'Product_ankarapantry.com_September2020.json.gz',\n",
       " 'Product_soundscrystalsandvibrations.com_September2020.json.gz',\n",
       " 'Product_inegolalisveris.com_September2020.json.gz',\n",
       " 'Product_la-compagnie-de-huile-d-olive.com_September2020.json.gz',\n",
       " 'Product_cbibikes.com_September2020.json.gz',\n",
       " 'Product_flamesport.com_September2020.json.gz',\n",
       " 'Product_bicyclesplus.com_September2020.json.gz',\n",
       " 'Product_prodirecttennis.com_September2020.json.gz',\n",
       " 'Product_greenmountainbikes.com_September2020.json.gz',\n",
       " 'Product_creativeprintersoflondon.co.uk_September2020.json.gz',\n",
       " 'Product_shop8eaz.com_September2020.json.gz',\n",
       " 'Product_designlabaz.com_September2020.json.gz',\n",
       " 'Product_mcphersonpharmacy.co.uk_September2020.json.gz',\n",
       " 'Product_prodirectrunning.com_September2020.json.gz',\n",
       " 'Product_mainstreetbicycles.com_September2020.json.gz',\n",
       " 'Product_bicycletrip.com_September2020.json.gz',\n",
       " 'Product_playbetter.com_September2020.json.gz',\n",
       " 'Product_pssl.com_September2020.json.gz',\n",
       " 'Product_partness.com_September2020.json.gz',\n",
       " 'Product_ajcarpet.com_September2020.json.gz',\n",
       " 'Product_gottagogowdy.com_September2020.json.gz',\n",
       " 'Product_georges.com.au_September2020.json.gz',\n",
       " 'Product_amaincycling.com_September2020.json.gz',\n",
       " 'Product_alexandalexa.com_September2020.json.gz',\n",
       " 'Product_bicyclevillage.com_September2020.json.gz',\n",
       " 'Product_tiendaazul.com_September2020.json.gz',\n",
       " 'Product_ebrarbilgisayar.com_September2020.json.gz',\n",
       " 'Product_buttfittings.com_September2020.json.gz',\n",
       " 'Product_bikefixutah.com_September2020.json.gz',\n",
       " 'Product_velvetgray.com_September2020.json.gz',\n",
       " 'Product_pluginson13.com_September2020.json.gz',\n",
       " 'Product_carsontrees.com_September2020.json.gz',\n",
       " 'Product_blockbikespdx.com_September2020.json.gz',\n",
       " 'Product_c-tac.com_September2020.json.gz',\n",
       " 'Product_funpro.com.br_September2020.json.gz',\n",
       " 'Product_glasses.com_September2020.json.gz',\n",
       " 'Product_cyclemania1.com_September2020.json.gz',\n",
       " 'Product_skiplusonline.co.uk_September2020.json.gz',\n",
       " 'Product_stormcomputers.com.au_September2020.json.gz',\n",
       " 'Product_evolutionmusicstore.com_September2020.json.gz',\n",
       " 'Product_macs.com.au_September2020.json.gz',\n",
       " 'Product_sacfloorstore.com_September2020.json.gz',\n",
       " 'Product_aussiemobilesolution.com.au_September2020.json.gz',\n",
       " 'Product_inkdepot.com.au_September2020.json.gz',\n",
       " 'Product_premierfloors-gv.com_September2020.json.gz',\n",
       " 'Product_imperialrobes.com_September2020.json.gz',\n",
       " 'Product_peakmtnbike.com_September2020.json.gz',\n",
       " 'Product_morroneelectric.com_September2020.json.gz',\n",
       " 'Product_clarkcountyarhistory.org_September2020.json.gz',\n",
       " 'Product_performancesolutions.com.br_September2020.json.gz',\n",
       " 'Product_eetgroup.com_September2020.json.gz',\n",
       " 'Product_flooringconnectionsinc.com_September2020.json.gz',\n",
       " 'Product_elitebalustrade.com_September2020.json.gz',\n",
       " 'Product_onestopstationery.co.uk_September2020.json.gz',\n",
       " 'Product_shoproyalflooring.com_September2020.json.gz',\n",
       " 'Product_carpetworldamarillo.com_September2020.json.gz',\n",
       " 'Product_beyerdynamic.com.au_September2020.json.gz',\n",
       " 'Product_sanderfurnitureco.com_September2020.json.gz',\n",
       " 'Product_gamesncomps.com_September2020.json.gz',\n",
       " 'Product_cowboymaloneys.com_September2020.json.gz',\n",
       " 'Product_thorndown.co.uk_September2020.json.gz',\n",
       " 'Product_pckuwait.com_September2020.json.gz',\n",
       " 'Product_videostaff.com.mx_September2020.json.gz',\n",
       " 'Product_thesacredearthpantry.com_September2020.json.gz',\n",
       " 'Product_maquillalia.com_September2020.json.gz',\n",
       " 'Product_jootree.co.uk_September2020.json.gz',\n",
       " 'Product_reach-clothing.com_September2020.json.gz',\n",
       " 'Product_ilogmaria.com_September2020.json.gz',\n",
       " 'Product_hairext.co.uk_September2020.json.gz',\n",
       " 'Product_speakit.co.uk_September2020.json.gz',\n",
       " 'Product_tabletymovil.com_September2020.json.gz',\n",
       " 'Product_garmin.com_September2020.json.gz',\n",
       " 'Product_infinitewarehouse.com_September2020.json.gz',\n",
       " 'Product_flaskfinewines.com_September2020.json.gz',\n",
       " 'Product_freedombikeshop.com_September2020.json.gz',\n",
       " 'Product_spirited-wines.com_September2020.json.gz',\n",
       " 'Product_hooklineandpaddle.com_September2020.json.gz',\n",
       " 'Product_perfumeseden.com_September2020.json.gz',\n",
       " 'Product_stoutsflooring.com_September2020.json.gz',\n",
       " 'Product_tonerpoint.com.es_September2020.json.gz',\n",
       " 'Product_upfarma.com_September2020.json.gz',\n",
       " 'Product_bulluna.com_September2020.json.gz',\n",
       " 'Product_winc.com.au_September2020.json.gz',\n",
       " 'Product_inusnet.com_September2020.json.gz',\n",
       " 'Product_intercomp.com.mt_September2020.json.gz',\n",
       " 'Product_burrowsgps.co.uk_September2020.json.gz',\n",
       " 'Product_kindbikesandskis.com_September2020.json.gz',\n",
       " 'Product_chainwheeldrive.com_September2020.json.gz',\n",
       " 'Product_padani.com_September2020.json.gz',\n",
       " 'Product_antiguarelojeria.com_September2020.json.gz',\n",
       " 'Product_swissluxury.com_September2020.json.gz',\n",
       " 'Product_primofitnessusa.com_September2020.json.gz',\n",
       " 'Product_damlarose.co.uk_September2020.json.gz',\n",
       " 'Product_carpetworldfargo.com_September2020.json.gz',\n",
       " 'Product_eztvappliance.com_September2020.json.gz',\n",
       " 'Product_mikesbikes.com_September2020.json.gz',\n",
       " 'Product_compufirst.com_September2020.json.gz',\n",
       " 'Product_bludiode.com_September2020.json.gz',\n",
       " 'Product_legendcoastal.com_September2020.json.gz',\n",
       " 'Product_grandos.com.br_September2020.json.gz',\n",
       " 'Product_momentbicycles.com_September2020.json.gz',\n",
       " 'Product_universalcomputer.net_September2020.json.gz',\n",
       " 'Product_ttwolondon.com_September2020.json.gz',\n",
       " 'Product_terabyteshop.com.br_September2020.json.gz',\n",
       " 'Product_woodkrazyhandmade.co.uk_September2020.json.gz',\n",
       " 'Product_mylilhealthbot.com_September2020.json.gz',\n",
       " 'Product_thewittygrittypaperco.com_September2020.json.gz',\n",
       " 'Product_shopsquireshop.com_September2020.json.gz',\n",
       " 'Product_lord-chambrayshop.com_September2020.json.gz',\n",
       " 'Product_beachorganicsskincare.com_September2020.json.gz',\n",
       " 'Product_countytv.com_September2020.json.gz',\n",
       " 'Product_linio.com.ar_September2020.json.gz',\n",
       " 'Product_williamschevy.com_September2020.json.gz',\n",
       " 'Product_1stdiscountsafety.com_September2020.json.gz',\n",
       " 'Product_rickhendrickchevy.com_September2020.json.gz',\n",
       " 'Product_bidbum.com_September2020.json.gz',\n",
       " 'Product_petstreetmall.com_September2020.json.gz',\n",
       " 'Product_firsttothefinish.com_September2020.json.gz',\n",
       " 'Product_msdist.co.uk_September2020.json.gz',\n",
       " 'Product_laurenceking.com_September2020.json.gz',\n",
       " 'Product_joyeriaquintas.com_September2020.json.gz',\n",
       " 'Product_opsm.com.au_September2020.json.gz',\n",
       " 'Product_djcolifestyle.com_September2020.json.gz',\n",
       " 'Product_porchconcepts.com_September2020.json.gz',\n",
       " 'Product_tahoesportsltd.com_September2020.json.gz',\n",
       " 'Product_trusted.com_September2020.json.gz',\n",
       " 'Product_rideonsports.com_September2020.json.gz',\n",
       " 'Product_theapplianceloft.com_September2020.json.gz',\n",
       " 'Product_hylandcyclery.com_September2020.json.gz',\n",
       " 'Product_botanicabazaar.com_September2020.json.gz',\n",
       " 'Product_carpetcountry.net_September2020.json.gz',\n",
       " 'Product_vipvapers.com_September2020.json.gz',\n",
       " 'Product_tracebikes.com_September2020.json.gz',\n",
       " 'Product_safeprotech.com_September2020.json.gz',\n",
       " 'Product_hypercat.com_September2020.json.gz',\n",
       " 'Product_gusbike.com_September2020.json.gz',\n",
       " 'Product_onemillionairetravel.com_September2020.json.gz',\n",
       " 'Product_miralahora.com_September2020.json.gz',\n",
       " 'Product_youarrived.com_September2020.json.gz',\n",
       " 'Product_microcabin.net_September2020.json.gz',\n",
       " 'Product_hemamaps.com_September2020.json.gz',\n",
       " 'Product_vpccomputers.com_September2020.json.gz',\n",
       " 'Product_grixbase.com_September2020.json.gz',\n",
       " 'Product_abt.com_September2020.json.gz',\n",
       " 'Product_trekbicyclestorelondon.com_September2020.json.gz',\n",
       " 'Product_exclusiveappliances.com_September2020.json.gz',\n",
       " 'Product_reuseyourit.com_September2020.json.gz',\n",
       " 'Product_greentoe.com_September2020.json.gz',\n",
       " 'Product_relaxdays.co.uk_September2020.json.gz',\n",
       " 'Product_ireineheadwraps.com_September2020.json.gz',\n",
       " 'Product_carolinabrewsupply.com_September2020.json.gz',\n",
       " 'Product_reliancesolution.co.uk_September2020.json.gz',\n",
       " 'Product_owenfurniture.com_September2020.json.gz',\n",
       " 'Product_bikecountry.com_September2020.json.gz',\n",
       " 'Product_southgeosystems.com_September2020.json.gz',\n",
       " 'Product_sugarcastleusa.com_September2020.json.gz',\n",
       " 'Product_koletic.com_September2020.json.gz',\n",
       " 'Product_sunglasstrend.com_September2020.json.gz',\n",
       " 'Product_exactflooring.com_September2020.json.gz',\n",
       " 'Product_realtropicals.com_September2020.json.gz',\n",
       " 'Product_argento.com_September2020.json.gz',\n",
       " 'Product_ricksparknsave.com_September2020.json.gz',\n",
       " 'Product_salssentimentalgifts.com_September2020.json.gz',\n",
       " 'Product_sweetpetes.com_September2020.json.gz',\n",
       " 'Product_gadgetcircuit.com_September2020.json.gz',\n",
       " 'Product_algerbikes.com_September2020.json.gz',\n",
       " 'Product_aabikes.net_September2020.json.gz',\n",
       " 'Product_djs-marine.com_September2020.json.gz',\n",
       " 'Product_ernestjones.co.uk_September2020.json.gz',\n",
       " 'Product_checkeredflag.com_September2020.json.gz',\n",
       " 'Product_dell.com_September2020.json.gz',\n",
       " 'Product_trailheadcycling.com_September2020.json.gz',\n",
       " 'Product_farmamica.com_September2020.json.gz',\n",
       " 'Product_globalshopcenter.com_September2020.json.gz',\n",
       " 'Product_orange-marine.com_September2020.json.gz',\n",
       " 'Product_yrgear.com.au_September2020.json.gz',\n",
       " 'Product_azgardens.com_September2020.json.gz',\n",
       " 'Product_backyardbikes.com_September2020.json.gz',\n",
       " 'Product_victory.computer_September2020.json.gz',\n",
       " 'Product_nositeli.com.ua_September2020.json.gz',\n",
       " 'Product_crimsonbikes.com_September2020.json.gz',\n",
       " 'Product_andypemberton.com_September2020.json.gz',\n",
       " 'Product_drogal.com.br_September2020.json.gz',\n",
       " 'Product_otticazzurrocapri.com_September2020.json.gz',\n",
       " 'Product_pcmemories.com.mx_September2020.json.gz',\n",
       " 'Product_mtvernonappliance.com_September2020.json.gz',\n",
       " 'Product_southbaycycle.com_September2020.json.gz',\n",
       " 'Product_octo24.com_September2020.json.gz',\n",
       " 'Product_classicliquorsonline.com_September2020.json.gz',\n",
       " 'Product_maddalonijewelers.com_September2020.json.gz',\n",
       " 'Product_dermalution.com_September2020.json.gz',\n",
       " 'Product_willmanfurniture.com_September2020.json.gz',\n",
       " 'Product_mesatvappliance.com_September2020.json.gz',\n",
       " 'Product_alabamacustomflooring.com_September2020.json.gz',\n",
       " 'Product_yijiaocn.com_September2020.json.gz',\n",
       " 'Product_atel.com.pl_September2020.json.gz',\n",
       " 'Product_lavysflooring.com_September2020.json.gz',\n",
       " 'Product_ronslumber.com_September2020.json.gz',\n",
       " 'Product_saatcim.com.tr_September2020.json.gz',\n",
       " 'Product_cdwg.com_September2020.json.gz',\n",
       " 'Product_redmountainbunker.com_September2020.json.gz',\n",
       " 'Product_suplementosrp.com.br_September2020.json.gz',\n",
       " 'Product_ideakix.com_September2020.json.gz',\n",
       " 'Product_yourperfumewarehouse.co.uk_September2020.json.gz',\n",
       " 'Product_ashlandhardseltzer.com_September2020.json.gz',\n",
       " 'Product_bijouxemoi.com_September2020.json.gz',\n",
       " 'Product_usedcarmalaysia.com_September2020.json.gz',\n",
       " 'Product_allikestore.com_September2020.json.gz',\n",
       " 'Product_getrocked.org_September2020.json.gz',\n",
       " 'Product_zoccoshop.com_September2020.json.gz',\n",
       " 'Product_sluggerscarpets.com_September2020.json.gz',\n",
       " 'Product_wildearth.com.au_September2020.json.gz',\n",
       " 'Product_feonka.com_September2020.json.gz',\n",
       " 'Product_wifi-stock.co.uk_September2020.json.gz',\n",
       " 'Product_sneakerworldshop.com_September2020.json.gz',\n",
       " 'Product_karenlustrup.com_September2020.json.gz',\n",
       " 'Product_rococosystems.com_September2020.json.gz',\n",
       " 'Product_foodland.com_September2020.json.gz',\n",
       " 'Product_joyeriagimenez.com_September2020.json.gz',\n",
       " 'Product_fitnewsole.com_September2020.json.gz',\n",
       " 'Product_deskidea.com_September2020.json.gz',\n",
       " 'Product_olmsteadstv.com_September2020.json.gz',\n",
       " 'Product_thecoastalcottagebayhead.com_September2020.json.gz',\n",
       " 'Product_wadesworld.com.au_September2020.json.gz',\n",
       " 'Product_exquisitetimepieces.com_September2020.json.gz',\n",
       " 'Product_plazacameras.com.au_September2020.json.gz',\n",
       " 'Product_hefnerfurniture.com_September2020.json.gz',\n",
       " 'Product_stickandcaneshop.co.uk_September2020.json.gz',\n",
       " 'Product_ozpilot.com.au_September2020.json.gz',\n",
       " 'Product_skinnywheels.com_September2020.json.gz',\n",
       " 'Product_efarma.com_September2020.json.gz',\n",
       " 'Product_nowbikes-fitness.com_September2020.json.gz',\n",
       " 'Product_hendrickappliance.com_September2020.json.gz',\n",
       " 'Product_landrys.com_September2020.json.gz',\n",
       " 'Product_feelgoodcontacts.com_September2020.json.gz',\n",
       " 'Product_jpflooring.com_September2020.json.gz',\n",
       " 'Product_klcfloors.com_September2020.json.gz',\n",
       " 'Product_jamiescarpetshop.com_September2020.json.gz',\n",
       " 'Product_veronicasdoggiedelights.com_September2020.json.gz',\n",
       " 'Product_informaticalamancha.com_September2020.json.gz',\n",
       " 'Product_glorycycles.com_September2020.json.gz',\n",
       " 'Product_tuszetonery.net_September2020.json.gz',\n",
       " 'Product_schuh-spanner.com_September2020.json.gz',\n",
       " 'Product_sparkleandsass.net_September2020.json.gz',\n",
       " 'Product_the-house.com_September2020.json.gz',\n",
       " 'Product_puritycandy.com_September2020.json.gz',\n",
       " 'Product_cultpens.com_September2020.json.gz',\n",
       " 'Product_nexttime.com.br_September2020.json.gz',\n",
       " 'Product_graysofwestminster.co.uk_September2020.json.gz',\n",
       " 'Product_lamecrate.com_September2020.json.gz',\n",
       " 'Product_flooringmaster.com_September2020.json.gz',\n",
       " 'Product_achat-mania.com_September2020.json.gz',\n",
       " 'Product_wineologycc.com_September2020.json.gz',\n",
       " 'Product_wheelworld.com_September2020.json.gz',\n",
       " 'Product_urbanbicyclegallery.com_September2020.json.gz',\n",
       " 'Product_mrsgs.com_September2020.json.gz',\n",
       " 'Product_modesens.uk_September2020.json.gz',\n",
       " 'Product_footballstyle.com.ua_September2020.json.gz',\n",
       " 'Product_milcarsky.com_September2020.json.gz',\n",
       " 'Product_overclockers.co.uk_September2020.json.gz',\n",
       " 'Product_allprofloorstx.com_September2020.json.gz',\n",
       " 'Product_quzo.net_September2020.json.gz',\n",
       " 'Product_petersofkensington.com.au_September2020.json.gz',\n",
       " 'Product_unitedbroadcast.com_September2020.json.gz',\n",
       " 'Product_friedmansappliances.com_September2020.json.gz',\n",
       " 'Product_bahubalicraft.com_September2020.json.gz',\n",
       " 'Product_ewcarpets.com_September2020.json.gz',\n",
       " 'Product_trekraleigh.com_September2020.json.gz',\n",
       " 'Product_leboxgourmet.com_September2020.json.gz',\n",
       " 'Product_lakeside-bikes.com_September2020.json.gz',\n",
       " 'Product_cellnetonline.com_September2020.json.gz',\n",
       " 'Product_gabelbros.com_September2020.json.gz',\n",
       " 'Product_impulsestate.com_September2020.json.gz',\n",
       " 'Product_pearluno.com_September2020.json.gz',\n",
       " 'Product_leather4ever.com_September2020.json.gz',\n",
       " 'Product_holstandlee.com_September2020.json.gz',\n",
       " 'Product_methowcyclesport.com_September2020.json.gz',\n",
       " 'Product_bikeworkskona.com_September2020.json.gz',\n",
       " 'Product_detectorpower.com_September2020.json.gz',\n",
       " 'Product_ligayaflowers.com_September2020.json.gz',\n",
       " 'Product_paintedcolorceramics.com_September2020.json.gz',\n",
       " 'Product_thehuntressny.com_September2020.json.gz',\n",
       " 'Product_camerasolutionsinc.com_September2020.json.gz',\n",
       " 'Product_farmaciaspasteur.com.co_September2020.json.gz',\n",
       " 'Product_skyland.com.bd_September2020.json.gz',\n",
       " 'Product_hiketech.com.au_September2020.json.gz',\n",
       " 'Product_drhome-auto.com_September2020.json.gz',\n",
       " 'Product_ridgelinebikenski.com_September2020.json.gz',\n",
       " 'Product_oldtownbicycle.com_September2020.json.gz',\n",
       " 'Product_skydiamondco.com_September2020.json.gz',\n",
       " 'Product_infoprec.com_September2020.json.gz',\n",
       " 'Product_tcrunningco.com_September2020.json.gz',\n",
       " 'Product_laptopsdirect.co.uk_September2020.json.gz',\n",
       " 'Product_bicycleworldrgv.com_September2020.json.gz',\n",
       " 'Product_wheelworks.com_September2020.json.gz',\n",
       " 'Product_phototech.com.br_September2020.json.gz',\n",
       " 'Product_explorebeavertail.com_September2020.json.gz',\n",
       " 'Product_divadeejboutique.com_September2020.json.gz',\n",
       " 'Product_bargainfotos.com_September2020.json.gz',\n",
       " 'Product_prettyclickcosmetics.com_September2020.json.gz',\n",
       " 'Product_boutiquepassecompose.com_September2020.json.gz',\n",
       " 'Product_fabactive.com_September2020.json.gz',\n",
       " 'Product_vesuviustreamline.com_September2020.json.gz',\n",
       " 'Product_hsamuel.co.uk_September2020.json.gz',\n",
       " 'Product_almokhtaroptics.com_September2020.json.gz',\n",
       " 'Product_sweetcanes.com_September2020.json.gz',\n",
       " 'Product_atlantatrek.com_September2020.json.gz',\n",
       " 'Product_freespirithair.co.uk_September2020.json.gz',\n",
       " 'Product_azmediquip.com_September2020.json.gz',\n",
       " 'Product_eczadan.net_September2020.json.gz',\n",
       " 'Product_saraappliance.com_September2020.json.gz',\n",
       " 'Product_thompson-jewelers.com_September2020.json.gz',\n",
       " 'Product_miomiorun.com_September2020.json.gz',\n",
       " 'Product_atlas-tile.com_September2020.json.gz',\n",
       " 'Product_demetrejewelers.com_September2020.json.gz',\n",
       " 'Product_biggscameraused.com_September2020.json.gz',\n",
       " 'Product_supergo.com_September2020.json.gz',\n",
       " 'Product_oncentrejp.com_September2020.json.gz',\n",
       " 'Product_counterassaulttech.com_September2020.json.gz',\n",
       " 'Product_avertek.com.sg_September2020.json.gz',\n",
       " 'Product_waadtappliance.com_September2020.json.gz',\n",
       " 'Product_aurorasapothecary.com_September2020.json.gz',\n",
       " 'Product_nouglyfloors.com_September2020.json.gz',\n",
       " 'Product_camerok.com_September2020.json.gz',\n",
       " 'Product_hearthandcook.com_September2020.json.gz',\n",
       " 'Product_bellaphoto.com.br_September2020.json.gz',\n",
       " 'Product_billandpauls.com_September2020.json.gz',\n",
       " 'Product_jbl.com_September2020.json.gz',\n",
       " 'Product_dahlkempers.com_September2020.json.gz',\n",
       " 'Product_lassana.com_September2020.json.gz',\n",
       " 'Product_fireworksfoods.com.au_September2020.json.gz',\n",
       " 'Product_notjussouthern.com_September2020.json.gz',\n",
       " 'Product_riegelmanns.com_September2020.json.gz',\n",
       " 'Product_electrical-deals.co.uk_September2020.json.gz',\n",
       " 'Product_garminssa.com_September2020.json.gz',\n",
       " 'Product_faithchapelsd.com_September2020.json.gz',\n",
       " 'Product_comms-express.com_September2020.json.gz',\n",
       " 'Product_pvtek.com.vn_September2020.json.gz',\n",
       " 'Product_hamradiodesigns.co.uk_September2020.json.gz',\n",
       " 'Product_farmaciagt.com_September2020.json.gz',\n",
       " 'Product_armarinhosaojose.com.br_September2020.json.gz',\n",
       " 'Product_carpetconceptsonline.com_September2020.json.gz',\n",
       " 'Product_aldodesigngroup.com_September2020.json.gz',\n",
       " 'Product_bouldercyclesport.com_September2020.json.gz',\n",
       " 'Product_bnetsafety.com_September2020.json.gz',\n",
       " 'Product_us-appliance.com_September2020.json.gz',\n",
       " 'Product_straitfloors.com_September2020.json.gz',\n",
       " 'Product_storegermany.com_September2020.json.gz',\n",
       " 'Product_royalwinemerchants.com_September2020.json.gz',\n",
       " 'Product_tweakers.net_September2020.json.gz',\n",
       " 'Product_workhorsebicycles.com_September2020.json.gz',\n",
       " 'Product_americanfreight.com_September2020.json.gz',\n",
       " 'Product_thepalmbeachprinter.com_September2020.json.gz',\n",
       " 'Product_authogar.com_September2020.json.gz',\n",
       " 'Product_netplus.com.au_September2020.json.gz',\n",
       " 'Product_43einhalb.com_September2020.json.gz',\n",
       " 'Product_ideepreziose.com_September2020.json.gz',\n",
       " 'Product_pcsimple.net_September2020.json.gz',\n",
       " 'Product_cctvwholesales.co.uk_September2020.json.gz',\n",
       " 'Product_camerahouse.com.au_September2020.json.gz',\n",
       " 'Product_laced.co.uk_September2020.json.gz',\n",
       " 'Product_prodirectrugby.com_September2020.json.gz',\n",
       " 'Product_stenata.com_September2020.json.gz',\n",
       " 'Product_rosevillehyundai.com_September2020.json.gz',\n",
       " 'Product_teknostore.com_September2020.json.gz',\n",
       " 'Product_kpodj.com_September2020.json.gz',\n",
       " 'Product_connectec.uk_September2020.json.gz',\n",
       " 'Product_billywoodappliance.com_September2020.json.gz',\n",
       " 'Product_ubcbike.com_September2020.json.gz',\n",
       " 'Product_guardiangraphixca.com_September2020.json.gz',\n",
       " 'Product_therobustolive.com_September2020.json.gz',\n",
       " 'Product_habibishomemedical.com_September2020.json.gz',\n",
       " 'Product_athletesportsworld.com_September2020.json.gz',\n",
       " 'Product_boardtownbikes.com_September2020.json.gz',\n",
       " 'Product_chainreactionga.com_September2020.json.gz',\n",
       " 'Product_gigante.co.uk_September2020.json.gz',\n",
       " 'Product_buygiftforher.com_September2020.json.gz',\n",
       " 'Product_gro-zone.co.uk_September2020.json.gz',\n",
       " 'Product_bikestoponline.com_September2020.json.gz',\n",
       " 'Product_gibert.com_September2020.json.gz',\n",
       " 'Product_vectorstock.com_September2020.json.gz',\n",
       " 'Product_flyingowl.com_September2020.json.gz',\n",
       " 'Product_getice.com_September2020.json.gz',\n",
       " 'Product_stacyluzzi.com_September2020.json.gz',\n",
       " 'Product_brownapplianceandmattress.com_September2020.json.gz',\n",
       " 'Product_lifemiles.com_September2020.json.gz',\n",
       " 'Product_cloud10beauty.com_September2020.json.gz',\n",
       " 'Product_cam4sell.com_September2020.json.gz',\n",
       " 'Product_helenscycles.com_September2020.json.gz',\n",
       " 'Product_sanfordcarpet.com_September2020.json.gz',\n",
       " 'Product_pcsuppliesuk.com_September2020.json.gz',\n",
       " 'Product_freens-sup.com_September2020.json.gz',\n",
       " 'Product_mankind.co.uk_September2020.json.gz',\n",
       " 'Product_sistyon.com_September2020.json.gz',\n",
       " 'Product_cycleryusa.com_September2020.json.gz',\n",
       " 'Product_letsbeholistic.com_September2020.json.gz',\n",
       " 'Product_columbusrunning.com_September2020.json.gz',\n",
       " 'Product_netechsolutionsllc.com_September2020.json.gz',\n",
       " 'Product_ddflooring.com_September2020.json.gz',\n",
       " 'Product_tissotwatches.com_September2020.json.gz',\n",
       " 'Product_monparfumdirect.com_September2020.json.gz',\n",
       " 'Product_blinkqa.com_September2020.json.gz',\n",
       " 'Product_jaysappliances.com_September2020.json.gz',\n",
       " 'Product_camerton99.com_September2020.json.gz',\n",
       " 'Product_droneassemble.com_September2020.json.gz',\n",
       " 'Product_shop4indonesia.com_September2020.json.gz',\n",
       " 'Product_shaysappliance.com_September2020.json.gz',\n",
       " 'Product_onguardprotectionproducts.com_September2020.json.gz',\n",
       " 'Product_hollandbikes.com_September2020.json.gz',\n",
       " 'Product_mtcfactoryoutlet.com_September2020.json.gz',\n",
       " 'Product_bluewaterphotostore.com_September2020.json.gz',\n",
       " 'Product_jdsound.com.au_September2020.json.gz',\n",
       " 'Product_sabinocycles.com_September2020.json.gz',\n",
       " 'Product_comfortcarpets.com_September2020.json.gz',\n",
       " 'Product_lambcotvandappliance.com_September2020.json.gz',\n",
       " 'Product_impacteverything.org_September2020.json.gz',\n",
       " 'Product_fotoruanopro.com_September2020.json.gz',\n",
       " 'Product_basilfredonia.com_September2020.json.gz',\n",
       " 'Product_sunandski.com_September2020.json.gz',\n",
       " 'Product_swearygoods.com_September2020.json.gz',\n",
       " 'Product_bicyclechain.com_September2020.json.gz',\n",
       " 'Product_fragrances2go.co.uk_September2020.json.gz',\n",
       " 'Product_databazaar.com_September2020.json.gz',\n",
       " 'Product_briansflooring.net_September2020.json.gz',\n",
       " 'Product_michtile.com_September2020.json.gz',\n",
       " 'Product_injectelixir.com_September2020.json.gz',\n",
       " 'Product_replicadungeon.com_September2020.json.gz',\n",
       " 'Product_ozsupplycentre.com.au_September2020.json.gz',\n",
       " 'Product_silverbackprotectionproducts.com_September2020.json.gz',\n",
       " 'Product_supplementxpress.com_September2020.json.gz',\n",
       " 'Product_americanflooringyulee.com_September2020.json.gz',\n",
       " 'Product_genestvandappliance.com_September2020.json.gz',\n",
       " 'Product_speedriverbicycle.com_September2020.json.gz',\n",
       " 'Product_theappliancecenter.net_September2020.json.gz',\n",
       " 'Product_tonkacycleandski.com_September2020.json.gz',\n",
       " 'Product_cachepot.com_September2020.json.gz',\n",
       " 'Product_wheelaway.com_September2020.json.gz',\n",
       " 'Product_speechproducts.co.uk_September2020.json.gz',\n",
       " 'Product_summerlinfloors.com_September2020.json.gz',\n",
       " 'Product_victoryvelo.com_September2020.json.gz',\n",
       " 'Product_proteusbicycles.com_September2020.json.gz',\n",
       " 'Product_jose-candido.com_September2020.json.gz',\n",
       " 'Product_northvivor.com_September2020.json.gz',\n",
       " 'Product_rickhendrickchevroletnorfolk.com_September2020.json.gz',\n",
       " 'Product_actflooring.com_September2020.json.gz',\n",
       " 'Product_extremeoutfitters.com_September2020.json.gz',\n",
       " 'Product_drogasil.com.br_September2020.json.gz',\n",
       " 'Product_pepper-mill.com_September2020.json.gz',\n",
       " 'Product_comptoirjoffrin.com_September2020.json.gz',\n",
       " 'Product_fitzrovia.com.ar_September2020.json.gz',\n",
       " 'Product_buythesneaker.com_September2020.json.gz',\n",
       " 'Product_hutchseugene.com_September2020.json.gz',\n",
       " 'Product_cidalia-cabeleireiros.com_September2020.json.gz',\n",
       " 'Product_slickdiscmusic.com_September2020.json.gz',\n",
       " 'Product_shopkees.com_September2020.json.gz',\n",
       " 'Product_hollimansgunshop.com.au_September2020.json.gz',\n",
       " 'Product_reserbicycle.com_September2020.json.gz',\n",
       " 'Product_floorcw.com_September2020.json.gz',\n",
       " 'Product_timeshop24.com_September2020.json.gz',\n",
       " 'Product_thediscdjstore.com_September2020.json.gz',\n",
       " 'Product_piratescave.co.uk_September2020.json.gz',\n",
       " 'Product_southwestbikes.com_September2020.json.gz',\n",
       " 'Product_inlandsurf.com.au_September2020.json.gz',\n",
       " 'Product_mountaincitycycles.com_September2020.json.gz',\n",
       " 'Product_thornybastards.com_September2020.json.gz',\n",
       " 'Product_505cycles.com_September2020.json.gz',\n",
       " 'Product_laroche-posay.com.hr_September2020.json.gz',\n",
       " 'Product_dermomarket.com_September2020.json.gz',\n",
       " 'Product_takeawaypackaging.co.uk_September2020.json.gz',\n",
       " 'Product_carpetworldbismarck.com_September2020.json.gz',\n",
       " 'Product_amickhomecenter.com_September2020.json.gz',\n",
       " 'Product_soundlight.com.au_September2020.json.gz',\n",
       " 'Product_fivestarbuy.com_September2020.json.gz',\n",
       " 'Product_headhunterssmokeshop.com_September2020.json.gz',\n",
       " 'Product_centrepowersports.com_September2020.json.gz',\n",
       " 'Product_vpiera.com_September2020.json.gz',\n",
       " 'Product_kanarygifts.com_September2020.json.gz',\n",
       " 'Product_techtrot.com_September2020.json.gz',\n",
       " 'Product_hardwaresuche.com_September2020.json.gz',\n",
       " 'Product_southmountaingirls.com_September2020.json.gz',\n",
       " 'Product_alcamo.net_September2020.json.gz',\n",
       " 'Product_apex-dst.uk_September2020.json.gz',\n",
       " 'Product_rbmofatlanta.com_September2020.json.gz',\n",
       " 'Product_sotrix.com_September2020.json.gz',\n",
       " 'Product_theforumstore.co.uk_September2020.json.gz',\n",
       " 'Product_cestbeauoui.com_September2020.json.gz',\n",
       " 'Product_abcquiltingstudio.com_September2020.json.gz',\n",
       " 'Product_hc.com.vn_September2020.json.gz',\n",
       " 'Product_buywaiwai.com_September2020.json.gz',\n",
       " 'Product_blackbeardsrestaurant.net_September2020.json.gz',\n",
       " 'Product_banleong.com_September2020.json.gz',\n",
       " 'Product_panasonic.com_September2020.json.gz',\n",
       " 'Product_thewildvine.com.au_September2020.json.gz',\n",
       " 'Product_blinkae.com_September2020.json.gz',\n",
       " 'Product_mammothbikes.com_September2020.json.gz',\n",
       " 'Product_coloradocyclist.com_September2020.json.gz',\n",
       " 'Product_caddies-nyc.com_September2020.json.gz',\n",
       " 'Product_untumble.com_September2020.json.gz',\n",
       " 'Product_bikebarn.com_September2020.json.gz',\n",
       " 'Product_fakemeats.com_September2020.json.gz',\n",
       " 'Product_carpetmillmoscow.com_September2020.json.gz',\n",
       " 'Product_proskiservice.com_September2020.json.gz',\n",
       " 'Product_cottet.com_September2020.json.gz',\n",
       " 'Product_pasadenacyclery.com_September2020.json.gz',\n",
       " 'Product_thunder.com.pl_September2020.json.gz',\n",
       " 'Product_discountnutritiontampa.com_September2020.json.gz',\n",
       " 'Product_thumuadonghohieu.com_September2020.json.gz',\n",
       " 'Product_riversidecycle.com_September2020.json.gz',\n",
       " 'Product_crooze.com.au_September2020.json.gz',\n",
       " 'Product_reedssports.com_September2020.json.gz',\n",
       " 'Product_kuldi.net_September2020.json.gz',\n",
       " 'Product_zsmartbuy.com_September2020.json.gz',\n",
       " 'Product_chillblast.com_September2020.json.gz',\n",
       " 'Product_3dcartstores.com_September2020.json.gz',\n",
       " 'Product_locuradigital.com_September2020.json.gz',\n",
       " 'Product_shopmoment.com_September2020.json.gz',\n",
       " 'Product_thebikehub.com_September2020.json.gz',\n",
       " 'Product_hhgregg.com_September2020.json.gz',\n",
       " 'Product_namastesouqdubai.com_September2020.json.gz',\n",
       " 'Product_blackstarglobalsicc.com_September2020.json.gz',\n",
       " 'Product_littlegrubborchard.com_September2020.json.gz',\n",
       " 'Product_netvapes.com_September2020.json.gz',\n",
       " 'Product_spokeomotion.com_September2020.json.gz',\n",
       " 'Product_kineticskateboarding.com_September2020.json.gz',\n",
       " 'Product_legitkit.com_September2020.json.gz',\n",
       " 'Product_proteinwise.com_September2020.json.gz',\n",
       " 'Product_slippinggears.com_September2020.json.gz',\n",
       " 'Product_lilyatelier.com_September2020.json.gz',\n",
       " 'Product_colosishop.com_September2020.json.gz',\n",
       " 'Product_nbxbikes.com_September2020.json.gz',\n",
       " 'Product_saglikreyonu.com_September2020.json.gz',\n",
       " 'Product_thetruthbeautycompany.com_September2020.json.gz',\n",
       " 'Product_shopbuildersappliances.com_September2020.json.gz',\n",
       " 'Product_alkosto.com_September2020.json.gz',\n",
       " 'Product_navgearthai.com_September2020.json.gz',\n",
       " 'Product_allsouthappliance.net_September2020.json.gz',\n",
       " 'Product_nordoorsports.com_September2020.json.gz',\n",
       " 'Product_moon-audio.com_September2020.json.gz',\n",
       " 'Product_ramirezdecartagena.com_September2020.json.gz',\n",
       " 'Product_we-supply.com_September2020.json.gz',\n",
       " 'Product_avacaremedical.com_September2020.json.gz',\n",
       " 'Product_daveshomesupply.com_September2020.json.gz',\n",
       " 'Product_biketechusa.com_September2020.json.gz',\n",
       " 'Product_farmavip.com.ar_September2020.json.gz',\n",
       " 'Product_trekstoregulfcoast.com_September2020.json.gz',\n",
       " 'Product_servercase.co.uk_September2020.json.gz',\n",
       " 'Product_stanandpauls.com_September2020.json.gz',\n",
       " 'Product_narecza.com_September2020.json.gz',\n",
       " 'Product_zerenadiaz.com_September2020.json.gz',\n",
       " 'Product_lantaubasecamp.com_September2020.json.gz',\n",
       " 'Product_joyeriamontero.com_September2020.json.gz',\n",
       " 'Product_biondivino.com_September2020.json.gz',\n",
       " 'Product_latitudebooks.com.au_September2020.json.gz',\n",
       " 'Product_marysal-shop.com_September2020.json.gz',\n",
       " 'Product_farmaciasanchezcarbayo.com_September2020.json.gz',\n",
       " 'Product_crossroadbikes.com_September2020.json.gz',\n",
       " 'Product_pestrol.com.au_September2020.json.gz',\n",
       " 'Product_paradrugs.com_September2020.json.gz',\n",
       " 'Product_onlinehealthfoodstore.co.uk_September2020.json.gz',\n",
       " 'Product_spokesbikes.com_September2020.json.gz',\n",
       " 'Product_bikesourceonline.com_September2020.json.gz',\n",
       " 'Product_besthifistore.com_September2020.json.gz',\n",
       " 'Product_runninglabstore.com_September2020.json.gz',\n",
       " 'Product_ninostrading.com_September2020.json.gz',\n",
       " 'Product_kikatek.com_September2020.json.gz',\n",
       " 'Product_decorium.com_September2020.json.gz',\n",
       " 'Product_staugustineflooring.com_September2020.json.gz',\n",
       " 'Product_bentgate.com_September2020.json.gz',\n",
       " 'Product_workingperson.com_September2020.json.gz',\n",
       " 'Product_vlcanada.com_September2020.json.gz',\n",
       " 'Product_anticoronakits.com_September2020.json.gz',\n",
       " 'Product_purple-cat.co.uk_September2020.json.gz',\n",
       " 'Product_dosbandidosart.com_September2020.json.gz',\n",
       " 'Product_nicetys.com_September2020.json.gz',\n",
       " 'Product_dcrainmaker.com_September2020.json.gz',\n",
       " 'Product_ubaldi.com_September2020.json.gz',\n",
       " 'Product_wgwheelworks.com_September2020.json.gz',\n",
       " 'Product_lemacurbain.com_September2020.json.gz',\n",
       " 'Product_jarrold.co.uk_September2020.json.gz',\n",
       " 'Product_velocity-cycles.com_September2020.json.gz',\n",
       " 'Product_carpetsofamericalogan.com_September2020.json.gz',\n",
       " 'Product_store-belgie.com_September2020.json.gz',\n",
       " 'Product_thefreedomtrail.org_September2020.json.gz',\n",
       " 'Product_brickwheels.com_September2020.json.gz',\n",
       " 'Product_blackparrotmaine.com_September2020.json.gz',\n",
       " 'Product_cardinalbikes.com_September2020.json.gz',\n",
       " 'Product_cherokeejewelry.com_September2020.json.gz',\n",
       " 'Product_cuttingedgewoodcreations.com_September2020.json.gz',\n",
       " 'Product_algarismosdesucessostore.com_September2020.json.gz',\n",
       " 'Product_feeandtees.com_September2020.json.gz',\n",
       " 'Product_bicycleranchtucson.com_September2020.json.gz',\n",
       " 'Product_ttot.com.hk_September2020.json.gz',\n",
       " 'Product_lowcarbemporium.com.au_September2020.json.gz',\n",
       " 'Product_materiel.net_September2020.json.gz',\n",
       " 'Product_encinabicyclecenters.com_September2020.json.gz',\n",
       " 'Product_storeaustria.com_September2020.json.gz',\n",
       " 'Product_belletica.com_September2020.json.gz',\n",
       " 'Product_debikestore.com_September2020.json.gz',\n",
       " 'Product_azaraks.com.tr_September2020.json.gz',\n",
       " 'Product_beaverbrooks.co.uk_September2020.json.gz',\n",
       " 'Product_eadobikeco.com_September2020.json.gz',\n",
       " 'Product_bydesigngems.com_September2020.json.gz',\n",
       " 'Product_apkgood.com_September2020.json.gz',\n",
       " 'Product_getmyring.com_September2020.json.gz',\n",
       " 'Product_papa-wheelies.com_September2020.json.gz',\n",
       " 'Product_xatamy.com_September2020.json.gz',\n",
       " 'Product_thehubbikecoop.org_September2020.json.gz',\n",
       " 'Product_goviperbaseball.com_September2020.json.gz',\n",
       " 'Product_7dayshop.com_September2020.json.gz',\n",
       " 'Product_pivicdata.com_September2020.json.gz',\n",
       " 'Product_officebeaver.co.uk_September2020.json.gz',\n",
       " 'Product_hodginsappliance.com_September2020.json.gz',\n",
       " 'Product_barrettfloorsaz.com_September2020.json.gz',\n",
       " 'Product_primeself-defense.com_September2020.json.gz',\n",
       " 'Product_blossombariatricsshop.com_September2020.json.gz',\n",
       " 'Product_meesjewelry.com_September2020.json.gz',\n",
       " 'Product_gurgencler.com.tr_September2020.json.gz',\n",
       " 'Product_viekart.com_September2020.json.gz',\n",
       " 'Product_skincaremarket.net_September2020.json.gz',\n",
       " 'Product_shopnautico.com.br_September2020.json.gz',\n",
       " 'Product_lunoxel.com_September2020.json.gz',\n",
       " 'Product_mellovelobicycles.com_September2020.json.gz',\n",
       " 'Product_highgearsports.com_September2020.json.gz',\n",
       " 'Product_toyshnip.com_September2020.json.gz',\n",
       " 'Product_twohoosierscyclery.com_September2020.json.gz',\n",
       " 'Product_sdbikeshop.com_September2020.json.gz',\n",
       " 'Product_ugursaatcilik.com_September2020.json.gz',\n",
       " 'Product_dirtcheep.com_September2020.json.gz',\n",
       " 'Product_mac-center.com_September2020.json.gz',\n",
       " 'Product_inkfactory.com_September2020.json.gz',\n",
       " 'Product_arashrahimiart.com_September2020.json.gz',\n",
       " 'Product_sunstudiosaustralia.com_September2020.json.gz',\n",
       " 'Product_bigapplecollectibles.com_September2020.json.gz',\n",
       " 'Product_solidsignal.com_September2020.json.gz',\n",
       " 'Product_fusioncine.com_September2020.json.gz',\n",
       " 'Product_openbeautyfacts.org_September2020.json.gz',\n",
       " 'Product_zavvi.com_September2020.json.gz',\n",
       " 'Product_onpromostore.com_September2020.json.gz',\n",
       " 'Product_americancyclery.com_September2020.json.gz',\n",
       " 'Product_joplinfloors.com_September2020.json.gz',\n",
       " 'Product_bishopracingproducts.com_September2020.json.gz',\n",
       " 'Product_argonautliquor.com_September2020.json.gz',\n",
       " 'Product_fashionsadmire.com_September2020.json.gz',\n",
       " 'Product_ootbseafood.com_September2020.json.gz',\n",
       " 'Product_intel.co.uk_September2020.json.gz',\n",
       " 'Product_rei.com_September2020.json.gz',\n",
       " 'Product_abatiellodesigncenter.com_September2020.json.gz',\n",
       " 'Product_sachane.com_September2020.json.gz',\n",
       " 'Product_thenailindustry.com_September2020.json.gz',\n",
       " 'Product_cliftoncameras.co.uk_September2020.json.gz',\n",
       " 'Product_lojadaniele.com.br_September2020.json.gz',\n",
       " 'Product_oldetownebicycles.com_September2020.json.gz',\n",
       " 'Product_bikengear.com_September2020.json.gz',\n",
       " 'Product_jackrabbit.com_September2020.json.gz',\n",
       " 'Product_finishlinebikes.com_September2020.json.gz',\n",
       " 'Product_pidiendopista.com_September2020.json.gz',\n",
       " 'Product_smockingbirdsgifts.com_September2020.json.gz',\n",
       " 'Product_nwampersonalsecurity.com_September2020.json.gz',\n",
       " 'Product_sunglasshut.com_September2020.json.gz',\n",
       " 'Product_princetechnology.net_September2020.json.gz',\n",
       " 'Product_thepinkstudiola.com_September2020.json.gz',\n",
       " 'Product_flooringnbeyond.com_September2020.json.gz',\n",
       " 'Product_myspysupplies.com_September2020.json.gz',\n",
       " 'Product_atbshop.co.uk_September2020.json.gz',\n",
       " 'Product_bigringcycles.com_September2020.json.gz',\n",
       " 'Product_cjcharles.com_September2020.json.gz',\n",
       " 'Product_artscyclery.com_September2020.json.gz',\n",
       " 'Product_watchfinder.co.uk_September2020.json.gz',\n",
       " 'Product_goveganmarket.com_September2020.json.gz',\n",
       " 'Product_nelau.com_September2020.json.gz',\n",
       " 'Product_adakitap.com.tr_September2020.json.gz',\n",
       " 'Product_enhleorganics.com_September2020.json.gz',\n",
       " 'Product_nexgen-techhk.com_September2020.json.gz',\n",
       " 'Product_breakawaycycling.com_September2020.json.gz',\n",
       " 'Product_dollartile.com_September2020.json.gz',\n",
       " 'Product_scottscycle.com_September2020.json.gz',\n",
       " 'Product_konakdijital.com_September2020.json.gz',\n",
       " 'Product_downtownstock.com_September2020.json.gz',\n",
       " 'Product_claytonappliance.com_September2020.json.gz',\n",
       " 'Product_edipsaat.com_September2020.json.gz',\n",
       " 'Product_openairbicycles.com_September2020.json.gz',\n",
       " 'Product_tecnoprecios.net_September2020.json.gz',\n",
       " 'Product_thebikemasters.com_September2020.json.gz',\n",
       " 'Product_macway.com_September2020.json.gz',\n",
       " 'Product_pashop.com_September2020.json.gz',\n",
       " 'Product_damoonmed.com_September2020.json.gz',\n",
       " 'Product_mccabespharmacy.com_September2020.json.gz',\n",
       " 'Product_chucksappliance.com_September2020.json.gz',\n",
       " 'Product_mysterydeal.com_September2020.json.gz',\n",
       " 'Product_store-singapore.com_September2020.json.gz',\n",
       " 'Product_autoexpohouston.com_September2020.json.gz',\n",
       " 'Product_a1protectionproducts.com_September2020.json.gz',\n",
       " 'Product_powersolutionmall.com_September2020.json.gz',\n",
       " 'Product_whitehouseboutique.net_September2020.json.gz',\n",
       " 'Product_bikebladeball.com_September2020.json.gz',\n",
       " 'Product_longestyardfloors.com_September2020.json.gz',\n",
       " 'Product_shopholliday.com_September2020.json.gz',\n",
       " 'Product_timhogansflooring.com_September2020.json.gz',\n",
       " 'Product_connersclinic.com_September2020.json.gz',\n",
       " 'Product_unwrappedkawartha.com_September2020.json.gz',\n",
       " 'Product_coloradocyclingcompany.com_September2020.json.gz',\n",
       " 'Product_dawsons.co.uk_September2020.json.gz',\n",
       " 'Product_zdnet.com_September2020.json.gz',\n",
       " 'Product_hdoutlets.com_September2020.json.gz',\n",
       " 'Product_southwindcycle.com_September2020.json.gz',\n",
       " 'Product_iscomputer.com.br_September2020.json.gz',\n",
       " 'Product_familysafetystorellc.com_September2020.json.gz',\n",
       " 'Product_globalcollectionasia.com_September2020.json.gz',\n",
       " 'Product_lustmexico.com_September2020.json.gz',\n",
       " 'Product_gps.co.uk_September2020.json.gz',\n",
       " 'Product_pronet.com.uy_September2020.json.gz',\n",
       " 'Product_startfitness.co.uk_September2020.json.gz',\n",
       " 'Product_danceandsport.com_September2020.json.gz',\n",
       " 'Product_ascentoutdoors.com_September2020.json.gz',\n",
       " 'Product_macblowouts.com_September2020.json.gz',\n",
       " 'Product_beamanbuickgmc.com_September2020.json.gz',\n",
       " 'Product_eddys.com_September2020.json.gz',\n",
       " 'Product_quality-cameras.com_September2020.json.gz',\n",
       " 'Product_rivieramultimedia.co.uk_September2020.json.gz',\n",
       " 'Product_natgreenproducts.com_September2020.json.gz',\n",
       " 'Product_ielectrica.com_September2020.json.gz',\n",
       " 'Product_theinspoboutique.com_September2020.json.gz',\n",
       " 'Product_forsecuritysake.com_September2020.json.gz',\n",
       " 'Product_varietyproducts.com_September2020.json.gz',\n",
       " 'Product_cayugaskiandcyclery.com_September2020.json.gz',\n",
       " 'Product_hammondaviation.com_September2020.json.gz',\n",
       " 'Product_loganmasterappliance.com_September2020.json.gz',\n",
       " 'Product_consumibles.com_September2020.json.gz',\n",
       " 'Product_tumovilnuevo.com_September2020.json.gz',\n",
       " 'Product_selfdefenseoutlet.com_September2020.json.gz',\n",
       " 'Product_go-ride.com_September2020.json.gz',\n",
       " 'Product_skishacksports.com_September2020.json.gz',\n",
       " 'Product_rodelag.com_September2020.json.gz',\n",
       " 'Product_idmastershop.com_September2020.json.gz',\n",
       " 'Product_lookyourtech.com_September2020.json.gz',\n",
       " 'Product_inspirepartyhire.co.uk_September2020.json.gz',\n",
       " 'Product_backalleybikes.net_September2020.json.gz',\n",
       " 'Product_scorptec.com.au_September2020.json.gz',\n",
       " 'Product_masterg.com_September2020.json.gz',\n",
       " 'Product_fortinstv.com_September2020.json.gz',\n",
       " 'Product_capitolflooringatl.com_September2020.json.gz',\n",
       " 'Product_canonclassicfurniture.com_September2020.json.gz',\n",
       " 'Product_skycomp.com.au_September2020.json.gz',\n",
       " 'Product_sklaveryappliance.com_September2020.json.gz',\n",
       " 'Product_servertek.co.uk_September2020.json.gz',\n",
       " 'Product_shopa1appliance.com_September2020.json.gz',\n",
       " 'Product_pharmacygreek.com_September2020.json.gz',\n",
       " 'Product_naplescyclery.com_September2020.json.gz',\n",
       " 'Product_machineitservices.com_September2020.json.gz',\n",
       " 'Product_pricewaiter.com_September2020.json.gz',\n",
       " 'Product_myhightechsecurity.com_September2020.json.gz',\n",
       " 'Product_thegurushoppe.com_September2020.json.gz',\n",
       " 'Product_alamedabicycle.com_September2020.json.gz',\n",
       " 'Product_zeezamicro.com_September2020.json.gz',\n",
       " 'Product_amicoflooring.com_September2020.json.gz',\n",
       " 'Product_carpetsgaloreflooring.com_September2020.json.gz',\n",
       " 'Product_zevartworks.com_September2020.json.gz',\n",
       " 'Product_pinckneys.com_September2020.json.gz',\n",
       " 'Product_chollocomponentes.com_September2020.json.gz',\n",
       " 'Product_top4fitness.com_September2020.json.gz',\n",
       " 'Product_moibotime.com_September2020.json.gz',\n",
       " 'Product_bulkmemorycards.com_September2020.json.gz',\n",
       " 'Product_jarrellco.com_September2020.json.gz',\n",
       " 'Product_hushstyle.com_September2020.json.gz',\n",
       " 'Product_wowbeli.com_September2020.json.gz',\n",
       " 'Product_stablerappliance.com_September2020.json.gz',\n",
       " 'Product_thtbilgisayar.com_September2020.json.gz',\n",
       " 'Product_adarewoollens.com_September2020.json.gz',\n",
       " 'Product_uzmanlarpc.com_September2020.json.gz',\n",
       " 'Product_jtownbike.com_September2020.json.gz',\n",
       " 'Product_batterypete.com_September2020.json.gz',\n",
       " ...]"
      ]
     },
     "execution_count": 24,
     "metadata": {},
     "output_type": "execute_result"
    }
   ],
   "source": [
    "files_representation_train"
   ]
  },
  {
   "cell_type": "code",
   "execution_count": 6,
   "id": "6d3edbe9",
   "metadata": {},
   "outputs": [],
   "source": [
    "table_id = 'Product_1clicksafety.com_September2020.json.gz'\n",
    "df = pd.read_json(os.path.join(train_test_all_filtered_path,os.path.join('train',table_id)), compression='gzip', lines=True)\n"
   ]
  },
  {
   "cell_type": "code",
   "execution_count": 7,
   "id": "edc1a0b5",
   "metadata": {},
   "outputs": [],
   "source": [
    "df_testing = df[['row_id','name','description','page_url','cluster_id']]"
   ]
  },
  {
   "cell_type": "code",
   "execution_count": 8,
   "id": "52d0c8ea",
   "metadata": {},
   "outputs": [
    {
     "data": {
      "text/html": [
       "<div>\n",
       "<style scoped>\n",
       "    .dataframe tbody tr th:only-of-type {\n",
       "        vertical-align: middle;\n",
       "    }\n",
       "\n",
       "    .dataframe tbody tr th {\n",
       "        vertical-align: top;\n",
       "    }\n",
       "\n",
       "    .dataframe thead th {\n",
       "        text-align: right;\n",
       "    }\n",
       "</style>\n",
       "<table border=\"1\" class=\"dataframe\">\n",
       "  <thead>\n",
       "    <tr style=\"text-align: right;\">\n",
       "      <th></th>\n",
       "      <th>row_id</th>\n",
       "      <th>name</th>\n",
       "      <th>description</th>\n",
       "      <th>page_url</th>\n",
       "      <th>cluster_id</th>\n",
       "    </tr>\n",
       "  </thead>\n",
       "  <tbody>\n",
       "    <tr>\n",
       "      <th>0</th>\n",
       "      <td>173</td>\n",
       "      <td>Mini Alert Infrared Alarm</td>\n",
       "      <td>The MINI ALERT ALARM uses passive infrared tec...</td>\n",
       "      <td>https://1clicksafety.com/self-defense/mini-ale...</td>\n",
       "      <td>58254847</td>\n",
       "    </tr>\n",
       "    <tr>\n",
       "      <th>1</th>\n",
       "      <td>0</td>\n",
       "      <td>Pepper Shot 1.2% MC 1/2 oz Lipstick Pepper Sprays</td>\n",
       "      <td>Pepper Shot 1.2% MC ½ oz lipstick pepper spray...</td>\n",
       "      <td>https://1clicksafety.com/self-defense/pepper-s...</td>\n",
       "      <td>-100</td>\n",
       "    </tr>\n",
       "    <tr>\n",
       "      <th>2</th>\n",
       "      <td>1</td>\n",
       "      <td>Taser Pulse Soft Holster</td>\n",
       "      <td>Carry your TASER Pulse/Pulse+ easily with this...</td>\n",
       "      <td>https://1clicksafety.com/self-defense/taser-pu...</td>\n",
       "      <td>-100</td>\n",
       "    </tr>\n",
       "    <tr>\n",
       "      <th>3</th>\n",
       "      <td>2</td>\n",
       "      <td>Kubotan Aircraft Grade Aluminum Keychain</td>\n",
       "      <td>Aircraft Grade Aluminum Keychain Kubotan. Grip...</td>\n",
       "      <td>https://1clicksafety.com/self-defense/kubotan-...</td>\n",
       "      <td>-100</td>\n",
       "    </tr>\n",
       "    <tr>\n",
       "      <th>4</th>\n",
       "      <td>3</td>\n",
       "      <td>Glass Breakage Alarm</td>\n",
       "      <td>The GLASS BREAKAGE ALARM is an effective low c...</td>\n",
       "      <td>https://1clicksafety.com/self-defense/glass-br...</td>\n",
       "      <td>-100</td>\n",
       "    </tr>\n",
       "    <tr>\n",
       "      <th>...</th>\n",
       "      <td>...</td>\n",
       "      <td>...</td>\n",
       "      <td>...</td>\n",
       "      <td>...</td>\n",
       "      <td>...</td>\n",
       "    </tr>\n",
       "    <tr>\n",
       "      <th>185</th>\n",
       "      <td>185</td>\n",
       "      <td>Solar Powered Dummy Camera</td>\n",
       "      <td>Solar Powered Dummy Camera made with a quality...</td>\n",
       "      <td>https://1clicksafety.com/self-defense/solar-po...</td>\n",
       "      <td>-100</td>\n",
       "    </tr>\n",
       "    <tr>\n",
       "      <th>186</th>\n",
       "      <td>186</td>\n",
       "      <td>Stun Gun Knife and Flashlight</td>\n",
       "      <td>Stun Knife 20 Million volt Stun Gun. Comfortab...</td>\n",
       "      <td>https://1clicksafety.com/self-defense/stun-gun...</td>\n",
       "      <td>-100</td>\n",
       "    </tr>\n",
       "    <tr>\n",
       "      <th>187</th>\n",
       "      <td>187</td>\n",
       "      <td>Wildfire™ 1.4% MC Pepper Spray Fogger</td>\n",
       "      <td>Wildfire™ 2 oz 1.4% MC flip top actuator peppe...</td>\n",
       "      <td>https://1clicksafety.com/self-defense/wildfire...</td>\n",
       "      <td>-100</td>\n",
       "    </tr>\n",
       "    <tr>\n",
       "      <th>188</th>\n",
       "      <td>188</td>\n",
       "      <td>Spray Bottle Diversion Safe</td>\n",
       "      <td>Spray Bottle Diversion Safe Interior dimension...</td>\n",
       "      <td>https://1clicksafety.com/self-defense/spray-bo...</td>\n",
       "      <td>-100</td>\n",
       "    </tr>\n",
       "    <tr>\n",
       "      <th>189</th>\n",
       "      <td>189</td>\n",
       "      <td>Runt Rechargeable Stun Gun With Flashlight And...</td>\n",
       "      <td>The rechargeable RUNT 20,000,000 volt stun gun...</td>\n",
       "      <td>https://1clicksafety.com/self-defense/runt-rec...</td>\n",
       "      <td>-100</td>\n",
       "    </tr>\n",
       "  </tbody>\n",
       "</table>\n",
       "<p>190 rows × 5 columns</p>\n",
       "</div>"
      ],
      "text/plain": [
       "     row_id                                               name  \\\n",
       "0       173                          Mini Alert Infrared Alarm   \n",
       "1         0  Pepper Shot 1.2% MC 1/2 oz Lipstick Pepper Sprays   \n",
       "2         1                           Taser Pulse Soft Holster   \n",
       "3         2           Kubotan Aircraft Grade Aluminum Keychain   \n",
       "4         3                               Glass Breakage Alarm   \n",
       "..      ...                                                ...   \n",
       "185     185                         Solar Powered Dummy Camera   \n",
       "186     186                      Stun Gun Knife and Flashlight   \n",
       "187     187              Wildfire™ 1.4% MC Pepper Spray Fogger   \n",
       "188     188                        Spray Bottle Diversion Safe   \n",
       "189     189  Runt Rechargeable Stun Gun With Flashlight And...   \n",
       "\n",
       "                                           description  \\\n",
       "0    The MINI ALERT ALARM uses passive infrared tec...   \n",
       "1    Pepper Shot 1.2% MC ½ oz lipstick pepper spray...   \n",
       "2    Carry your TASER Pulse/Pulse+ easily with this...   \n",
       "3    Aircraft Grade Aluminum Keychain Kubotan. Grip...   \n",
       "4    The GLASS BREAKAGE ALARM is an effective low c...   \n",
       "..                                                 ...   \n",
       "185  Solar Powered Dummy Camera made with a quality...   \n",
       "186  Stun Knife 20 Million volt Stun Gun. Comfortab...   \n",
       "187  Wildfire™ 2 oz 1.4% MC flip top actuator peppe...   \n",
       "188  Spray Bottle Diversion Safe Interior dimension...   \n",
       "189  The rechargeable RUNT 20,000,000 volt stun gun...   \n",
       "\n",
       "                                              page_url  cluster_id  \n",
       "0    https://1clicksafety.com/self-defense/mini-ale...    58254847  \n",
       "1    https://1clicksafety.com/self-defense/pepper-s...        -100  \n",
       "2    https://1clicksafety.com/self-defense/taser-pu...        -100  \n",
       "3    https://1clicksafety.com/self-defense/kubotan-...        -100  \n",
       "4    https://1clicksafety.com/self-defense/glass-br...        -100  \n",
       "..                                                 ...         ...  \n",
       "185  https://1clicksafety.com/self-defense/solar-po...        -100  \n",
       "186  https://1clicksafety.com/self-defense/stun-gun...        -100  \n",
       "187  https://1clicksafety.com/self-defense/wildfire...        -100  \n",
       "188  https://1clicksafety.com/self-defense/spray-bo...        -100  \n",
       "189  https://1clicksafety.com/self-defense/runt-rec...        -100  \n",
       "\n",
       "[190 rows x 5 columns]"
      ]
     },
     "execution_count": 8,
     "metadata": {},
     "output_type": "execute_result"
    }
   ],
   "source": [
    "df_testing"
   ]
  },
  {
   "cell_type": "code",
   "execution_count": 9,
   "id": "008fb089",
   "metadata": {},
   "outputs": [
    {
     "name": "stderr",
     "output_type": "stream",
     "text": [
      "/tmp/ipykernel_480841/4215666608.py:1: SettingWithCopyWarning: \n",
      "A value is trying to be set on a copy of a slice from a DataFrame.\n",
      "Try using .loc[row_indexer,col_indexer] = value instead\n",
      "\n",
      "See the caveats in the documentation: https://pandas.pydata.org/pandas-docs/stable/user_guide/indexing.html#returning-a-view-versus-a-copy\n",
      "  df_testing['header']=df_testing['row_id'].astype(str)+'_'+df_testing['cluster_id'].astype(str)\n"
     ]
    },
    {
     "data": {
      "text/html": [
       "<div>\n",
       "<style scoped>\n",
       "    .dataframe tbody tr th:only-of-type {\n",
       "        vertical-align: middle;\n",
       "    }\n",
       "\n",
       "    .dataframe tbody tr th {\n",
       "        vertical-align: top;\n",
       "    }\n",
       "\n",
       "    .dataframe thead th {\n",
       "        text-align: right;\n",
       "    }\n",
       "</style>\n",
       "<table border=\"1\" class=\"dataframe\">\n",
       "  <thead>\n",
       "    <tr style=\"text-align: right;\">\n",
       "      <th></th>\n",
       "      <th>row_id</th>\n",
       "      <th>name</th>\n",
       "      <th>description</th>\n",
       "      <th>page_url</th>\n",
       "      <th>cluster_id</th>\n",
       "      <th>header</th>\n",
       "    </tr>\n",
       "  </thead>\n",
       "  <tbody>\n",
       "    <tr>\n",
       "      <th>0</th>\n",
       "      <td>173</td>\n",
       "      <td>Mini Alert Infrared Alarm</td>\n",
       "      <td>The MINI ALERT ALARM uses passive infrared tec...</td>\n",
       "      <td>https://1clicksafety.com/self-defense/mini-ale...</td>\n",
       "      <td>58254847</td>\n",
       "      <td>173_58254847</td>\n",
       "    </tr>\n",
       "    <tr>\n",
       "      <th>1</th>\n",
       "      <td>0</td>\n",
       "      <td>Pepper Shot 1.2% MC 1/2 oz Lipstick Pepper Sprays</td>\n",
       "      <td>Pepper Shot 1.2% MC ½ oz lipstick pepper spray...</td>\n",
       "      <td>https://1clicksafety.com/self-defense/pepper-s...</td>\n",
       "      <td>-100</td>\n",
       "      <td>0_-100</td>\n",
       "    </tr>\n",
       "    <tr>\n",
       "      <th>2</th>\n",
       "      <td>1</td>\n",
       "      <td>Taser Pulse Soft Holster</td>\n",
       "      <td>Carry your TASER Pulse/Pulse+ easily with this...</td>\n",
       "      <td>https://1clicksafety.com/self-defense/taser-pu...</td>\n",
       "      <td>-100</td>\n",
       "      <td>1_-100</td>\n",
       "    </tr>\n",
       "    <tr>\n",
       "      <th>3</th>\n",
       "      <td>2</td>\n",
       "      <td>Kubotan Aircraft Grade Aluminum Keychain</td>\n",
       "      <td>Aircraft Grade Aluminum Keychain Kubotan. Grip...</td>\n",
       "      <td>https://1clicksafety.com/self-defense/kubotan-...</td>\n",
       "      <td>-100</td>\n",
       "      <td>2_-100</td>\n",
       "    </tr>\n",
       "    <tr>\n",
       "      <th>4</th>\n",
       "      <td>3</td>\n",
       "      <td>Glass Breakage Alarm</td>\n",
       "      <td>The GLASS BREAKAGE ALARM is an effective low c...</td>\n",
       "      <td>https://1clicksafety.com/self-defense/glass-br...</td>\n",
       "      <td>-100</td>\n",
       "      <td>3_-100</td>\n",
       "    </tr>\n",
       "    <tr>\n",
       "      <th>...</th>\n",
       "      <td>...</td>\n",
       "      <td>...</td>\n",
       "      <td>...</td>\n",
       "      <td>...</td>\n",
       "      <td>...</td>\n",
       "      <td>...</td>\n",
       "    </tr>\n",
       "    <tr>\n",
       "      <th>185</th>\n",
       "      <td>185</td>\n",
       "      <td>Solar Powered Dummy Camera</td>\n",
       "      <td>Solar Powered Dummy Camera made with a quality...</td>\n",
       "      <td>https://1clicksafety.com/self-defense/solar-po...</td>\n",
       "      <td>-100</td>\n",
       "      <td>185_-100</td>\n",
       "    </tr>\n",
       "    <tr>\n",
       "      <th>186</th>\n",
       "      <td>186</td>\n",
       "      <td>Stun Gun Knife and Flashlight</td>\n",
       "      <td>Stun Knife 20 Million volt Stun Gun. Comfortab...</td>\n",
       "      <td>https://1clicksafety.com/self-defense/stun-gun...</td>\n",
       "      <td>-100</td>\n",
       "      <td>186_-100</td>\n",
       "    </tr>\n",
       "    <tr>\n",
       "      <th>187</th>\n",
       "      <td>187</td>\n",
       "      <td>Wildfire™ 1.4% MC Pepper Spray Fogger</td>\n",
       "      <td>Wildfire™ 2 oz 1.4% MC flip top actuator peppe...</td>\n",
       "      <td>https://1clicksafety.com/self-defense/wildfire...</td>\n",
       "      <td>-100</td>\n",
       "      <td>187_-100</td>\n",
       "    </tr>\n",
       "    <tr>\n",
       "      <th>188</th>\n",
       "      <td>188</td>\n",
       "      <td>Spray Bottle Diversion Safe</td>\n",
       "      <td>Spray Bottle Diversion Safe Interior dimension...</td>\n",
       "      <td>https://1clicksafety.com/self-defense/spray-bo...</td>\n",
       "      <td>-100</td>\n",
       "      <td>188_-100</td>\n",
       "    </tr>\n",
       "    <tr>\n",
       "      <th>189</th>\n",
       "      <td>189</td>\n",
       "      <td>Runt Rechargeable Stun Gun With Flashlight And...</td>\n",
       "      <td>The rechargeable RUNT 20,000,000 volt stun gun...</td>\n",
       "      <td>https://1clicksafety.com/self-defense/runt-rec...</td>\n",
       "      <td>-100</td>\n",
       "      <td>189_-100</td>\n",
       "    </tr>\n",
       "  </tbody>\n",
       "</table>\n",
       "<p>190 rows × 6 columns</p>\n",
       "</div>"
      ],
      "text/plain": [
       "     row_id                                               name  \\\n",
       "0       173                          Mini Alert Infrared Alarm   \n",
       "1         0  Pepper Shot 1.2% MC 1/2 oz Lipstick Pepper Sprays   \n",
       "2         1                           Taser Pulse Soft Holster   \n",
       "3         2           Kubotan Aircraft Grade Aluminum Keychain   \n",
       "4         3                               Glass Breakage Alarm   \n",
       "..      ...                                                ...   \n",
       "185     185                         Solar Powered Dummy Camera   \n",
       "186     186                      Stun Gun Knife and Flashlight   \n",
       "187     187              Wildfire™ 1.4% MC Pepper Spray Fogger   \n",
       "188     188                        Spray Bottle Diversion Safe   \n",
       "189     189  Runt Rechargeable Stun Gun With Flashlight And...   \n",
       "\n",
       "                                           description  \\\n",
       "0    The MINI ALERT ALARM uses passive infrared tec...   \n",
       "1    Pepper Shot 1.2% MC ½ oz lipstick pepper spray...   \n",
       "2    Carry your TASER Pulse/Pulse+ easily with this...   \n",
       "3    Aircraft Grade Aluminum Keychain Kubotan. Grip...   \n",
       "4    The GLASS BREAKAGE ALARM is an effective low c...   \n",
       "..                                                 ...   \n",
       "185  Solar Powered Dummy Camera made with a quality...   \n",
       "186  Stun Knife 20 Million volt Stun Gun. Comfortab...   \n",
       "187  Wildfire™ 2 oz 1.4% MC flip top actuator peppe...   \n",
       "188  Spray Bottle Diversion Safe Interior dimension...   \n",
       "189  The rechargeable RUNT 20,000,000 volt stun gun...   \n",
       "\n",
       "                                              page_url  cluster_id  \\\n",
       "0    https://1clicksafety.com/self-defense/mini-ale...    58254847   \n",
       "1    https://1clicksafety.com/self-defense/pepper-s...        -100   \n",
       "2    https://1clicksafety.com/self-defense/taser-pu...        -100   \n",
       "3    https://1clicksafety.com/self-defense/kubotan-...        -100   \n",
       "4    https://1clicksafety.com/self-defense/glass-br...        -100   \n",
       "..                                                 ...         ...   \n",
       "185  https://1clicksafety.com/self-defense/solar-po...        -100   \n",
       "186  https://1clicksafety.com/self-defense/stun-gun...        -100   \n",
       "187  https://1clicksafety.com/self-defense/wildfire...        -100   \n",
       "188  https://1clicksafety.com/self-defense/spray-bo...        -100   \n",
       "189  https://1clicksafety.com/self-defense/runt-rec...        -100   \n",
       "\n",
       "           header  \n",
       "0    173_58254847  \n",
       "1          0_-100  \n",
       "2          1_-100  \n",
       "3          2_-100  \n",
       "4          3_-100  \n",
       "..            ...  \n",
       "185      185_-100  \n",
       "186      186_-100  \n",
       "187      187_-100  \n",
       "188      188_-100  \n",
       "189      189_-100  \n",
       "\n",
       "[190 rows x 6 columns]"
      ]
     },
     "execution_count": 9,
     "metadata": {},
     "output_type": "execute_result"
    }
   ],
   "source": [
    "df_testing['header']=df_testing['row_id'].astype(str)+'_'+df_testing['cluster_id'].astype(str)\n",
    "df_testing"
   ]
  },
  {
   "cell_type": "code",
   "execution_count": 10,
   "id": "3f0a42ae",
   "metadata": {},
   "outputs": [],
   "source": [
    "df_testing['header']=df_testing['row_id'].astype(str)+'_'+df_testing['cluster_id'].astype(str)\n",
    "table_representation = [] #empty list for table\n",
    "table_representation.append(table_id)#append table id\n",
    "website_name = table_id.split('_')\n",
    "table_representation.append(website_name[1])#append page tite\n",
    "table_representation.append('')#append wikipedia page id -> not given\n",
    "table_representation.append(website_name[0])#append information about entity -> product\n",
    "table_representation.append('')#append table caption -> not given\n",
    "table_representation.append(df_testing['header'].to_list()) #append headers -> not sure if we should do that"
   ]
  },
  {
   "cell_type": "code",
   "execution_count": 20,
   "id": "833d40fb",
   "metadata": {},
   "outputs": [],
   "source": [
    "all_rows_representation = []#representation of all rows\n",
    "for i in range(len(df_testing)):\n",
    "    row_representation=[] # cell representation of single row\n",
    "    row_representation.append([[0,i],[df_testing['row_id'][i],str(df_testing['name'][i])]])\n",
    "    row_representation.append([[1,i],[df_testing['row_id'][i],str(df_testing['description'][i])]])\n",
    "    all_rows_representation.append(row_representation) #append single cell representation to representation of all rows\n",
    "table_representation.append(all_rows_representation)#append it to representation of whole table"
   ]
  },
  {
   "cell_type": "code",
   "execution_count": 21,
   "id": "5e029f65",
   "metadata": {},
   "outputs": [],
   "source": [
    "table_representation.append(df_testing['cluster_id'].apply(lambda x: [str(x)]).to_list()) #append cluster ids"
   ]
  },
  {
   "cell_type": "code",
   "execution_count": 30,
   "id": "54feae28",
   "metadata": {},
   "outputs": [],
   "source": [
    "#table_representation"
   ]
  },
  {
   "cell_type": "code",
   "execution_count": 44,
   "id": "c43dac89",
   "metadata": {},
   "outputs": [
    {
     "name": "stderr",
     "output_type": "stream",
     "text": [
      "\r",
      "  0% (0 of 1614) |                       | Elapsed Time: 0:00:00 ETA:  --:--:--"
     ]
    },
    {
     "name": "stdout",
     "output_type": "stream",
     "text": [
      "/Product_boticas23.com_September2020.json.gz\n",
      "/Product_maidstonetreefarm.com_September2020.json.gz\n",
      "/Product_themusicvault.co.uk_September2020.json.gz\n",
      "/Product_vipaudiovisual.com_September2020.json.gz\n"
     ]
    },
    {
     "name": "stderr",
     "output_type": "stream",
     "text": [
      "  0% (5 of 1614) |                       | Elapsed Time: 0:00:00 ETA:   0:01:13"
     ]
    },
    {
     "name": "stdout",
     "output_type": "stream",
     "text": [
      "/Product_russhays.com_September2020.json.gz\n",
      "/Product_sharonandsons.com_September2020.json.gz\n",
      "/Product_februn.com_September2020.json.gz\n"
     ]
    },
    {
     "name": "stderr",
     "output_type": "stream",
     "text": [
      "\r",
      "  0% (8 of 1614) |                       | Elapsed Time: 0:00:00 ETA:   0:01:15"
     ]
    },
    {
     "name": "stdout",
     "output_type": "stream",
     "text": [
      "/Product_theapplianceadvantage.com_September2020.json.gz\n",
      "/Product_thegoldsmithatch.com_September2020.json.gz\n"
     ]
    },
    {
     "name": "stderr",
     "output_type": "stream",
     "text": [
      "  0% (11 of 1614) |                      | Elapsed Time: 0:00:00 ETA:   0:01:54"
     ]
    },
    {
     "name": "stdout",
     "output_type": "stream",
     "text": [
      "/Product_eos-magazine-shop.com_September2020.json.gz\n",
      "/Product_joyeriarelojeriadavid.com_September2020.json.gz\n",
      "/Product_leeread.com_September2020.json.gz\n",
      "/Product_linkproved.com_September2020.json.gz\n"
     ]
    },
    {
     "name": "stderr",
     "output_type": "stream",
     "text": [
      "  0% (16 of 1614) |                      | Elapsed Time: 0:00:01 ETA:   0:01:51"
     ]
    },
    {
     "name": "stdout",
     "output_type": "stream",
     "text": [
      "/Product_ridgelinebicycles.com_September2020.json.gz\n",
      "/Product_privafarma.com_September2020.json.gz\n",
      "/Product_ishopcolombia.com_September2020.json.gz\n",
      "/Product_fergushomeandhardware.com_September2020.json.gz\n",
      "/Product_johnnysprockets.com_September2020.json.gz\n"
     ]
    },
    {
     "name": "stderr",
     "output_type": "stream",
     "text": [
      "\r",
      "  1% (19 of 1614) |                      | Elapsed Time: 0:00:01 ETA:   0:01:43"
     ]
    },
    {
     "name": "stdout",
     "output_type": "stream",
     "text": [
      "/Product_mbofnorthscottsdale.com_September2020.json.gz\n",
      "/Product_digitalwarehouse.com_September2020.json.gz\n",
      "/Product_gadget-winkel.com_September2020.json.gz\n",
      "/Product_connection.com_September2020.json.gz\n"
     ]
    },
    {
     "name": "stderr",
     "output_type": "stream",
     "text": [
      "  1% (25 of 1614) |                      | Elapsed Time: 0:00:01 ETA:   0:02:01"
     ]
    },
    {
     "name": "stdout",
     "output_type": "stream",
     "text": [
      "/Product_sarasotacarpetinstallation.com_September2020.json.gz\n",
      "/Product_gearbrain.com_September2020.json.gz\n",
      "/Product_iperhardware.com_September2020.json.gz\n",
      "/Product_leaderlabs.com_September2020.json.gz\n",
      "/Product_unlimitedbiking.com_September2020.json.gz\n"
     ]
    },
    {
     "name": "stderr",
     "output_type": "stream",
     "text": [
      "  1% (30 of 1614) |                      | Elapsed Time: 0:00:02 ETA:   0:02:08"
     ]
    },
    {
     "name": "stdout",
     "output_type": "stream",
     "text": [
      "/Product_houseofwatches.co.uk_September2020.json.gz\n",
      "/Product_bluenty.com_September2020.json.gz\n",
      "/Product_chronext.com_September2020.json.gz\n",
      "/Product_pcjuireless.com_September2020.json.gz\n",
      "/Product_abracadabranyc.com_September2020.json.gz\n"
     ]
    },
    {
     "name": "stderr",
     "output_type": "stream",
     "text": [
      "  2% (34 of 1614) |                      | Elapsed Time: 0:00:02 ETA:   0:02:08"
     ]
    },
    {
     "name": "stdout",
     "output_type": "stream",
     "text": [
      "/Product_hollowbonerecords.com_September2020.json.gz\n",
      "/Product_trhistorical.com_September2020.json.gz\n",
      "/Product_eastcoastfloorcoverings.com_September2020.json.gz\n",
      "/Product_sunfloweroutdoorandbike.com_September2020.json.gz\n"
     ]
    },
    {
     "name": "stderr",
     "output_type": "stream",
     "text": [
      "\r",
      "  2% (36 of 1614) |                      | Elapsed Time: 0:00:02 ETA:   0:02:00"
     ]
    },
    {
     "name": "stdout",
     "output_type": "stream",
     "text": [
      "/Product_cyclestore.co.uk_September2020.json.gz\n"
     ]
    },
    {
     "name": "stderr",
     "output_type": "stream",
     "text": [
      "\r",
      "  2% (37 of 1614) |                      | Elapsed Time: 0:00:02 ETA:   0:02:12"
     ]
    },
    {
     "name": "stdout",
     "output_type": "stream",
     "text": [
      "/Product_jamesen.co.uk_September2020.json.gz\n",
      "/Product_bluemercury.com_September2020.json.gz\n"
     ]
    },
    {
     "name": "stderr",
     "output_type": "stream",
     "text": [
      "  2% (41 of 1614) |                      | Elapsed Time: 0:00:03 ETA:   0:02:32"
     ]
    },
    {
     "name": "stdout",
     "output_type": "stream",
     "text": [
      "/Product_plasmatv4less.com_September2020.json.gz\n",
      "/Product_bananas.com_September2020.json.gz\n",
      "/Product_advancedtoolcorp.com_September2020.json.gz\n",
      "/Product_kooponline.com_September2020.json.gz\n"
     ]
    },
    {
     "name": "stderr",
     "output_type": "stream",
     "text": [
      "  2% (46 of 1614) |                      | Elapsed Time: 0:00:03 ETA:   0:02:21"
     ]
    },
    {
     "name": "stdout",
     "output_type": "stream",
     "text": [
      "/Product_outdoorbeerdsman.com_September2020.json.gz\n",
      "/Product_basketmania.co.uk_September2020.json.gz\n",
      "/Product_shopstadiumsports.com_September2020.json.gz\n",
      "/Product_breakingbadshop.com_September2020.json.gz\n",
      "/Product_franscoop.com_September2020.json.gz\n",
      "/Product_bsafetechnology.com_September2020.json.gz\n"
     ]
    },
    {
     "name": "stderr",
     "output_type": "stream",
     "text": [
      "  3% (53 of 1614) |                      | Elapsed Time: 0:00:03 ETA:   0:01:51"
     ]
    },
    {
     "name": "stdout",
     "output_type": "stream",
     "text": [
      "/Product_mercadora172.com_September2020.json.gz\n",
      "/Product_gallifurniture.com_September2020.json.gz\n",
      "/Product_coffeemakersusa.com_September2020.json.gz\n",
      "/Product_electrono.co.uk_September2020.json.gz\n",
      "/Product_micheomusic.com_September2020.json.gz\n"
     ]
    },
    {
     "name": "stderr",
     "output_type": "stream",
     "text": [
      "  3% (62 of 1614) |                      | Elapsed Time: 0:00:04 ETA:   0:01:37"
     ]
    },
    {
     "name": "stdout",
     "output_type": "stream",
     "text": [
      "/Product_lifesafetysolution.com_September2020.json.gz\n",
      "/Product_whiteriverflooring.com_September2020.json.gz\n",
      "/Product_lesnomadesinteriors.com_September2020.json.gz\n",
      "/Product_lecbroome.com.au_September2020.json.gz\n",
      "/Product_nelsonsfurniturestore.com_September2020.json.gz\n",
      "/Product_expressapplianceid.com_September2020.json.gz\n",
      "/Product_amazinghardwoodfloors.com_September2020.json.gz\n",
      "/Product_technosdesign.com_September2020.json.gz\n",
      "/Product_sportrequest.com_September2020.json.gz\n"
     ]
    },
    {
     "name": "stderr",
     "output_type": "stream",
     "text": [
      "  4% (68 of 1614) |                      | Elapsed Time: 0:00:04 ETA:   0:01:28"
     ]
    },
    {
     "name": "stdout",
     "output_type": "stream",
     "text": [
      "/Product_dacon.com.sg_September2020.json.gz\n",
      "/Product_max270.com_September2020.json.gz\n",
      "/Product_corposmart.com.dz_September2020.json.gz\n",
      "/Product_happytime.com.pl_September2020.json.gz\n",
      "/Product_bikegarage.com_September2020.json.gz\n",
      "/Product_mitzvahland.com_September2020.json.gz\n"
     ]
    },
    {
     "name": "stderr",
     "output_type": "stream",
     "text": [
      "  4% (74 of 1614) |#                     | Elapsed Time: 0:00:04 ETA:   0:01:21"
     ]
    },
    {
     "name": "stdout",
     "output_type": "stream",
     "text": [
      "/Product_inspiredflooringdesign.com_September2020.json.gz\n",
      "/Product_gutterfixed.com_September2020.json.gz\n",
      "/Product_lifedistribucion.com_September2020.json.gz\n",
      "/Product_homecarehospitalbeds.com_September2020.json.gz\n",
      "/Product_thetelecomshop.com_September2020.json.gz\n",
      "/Product_ornamentalproductsinc.com_September2020.json.gz\n",
      "/Product_shopymy.com_September2020.json.gz\n"
     ]
    },
    {
     "name": "stderr",
     "output_type": "stream",
     "text": [
      "  5% (81 of 1614) |#                     | Elapsed Time: 0:00:04 ETA:   0:01:15"
     ]
    },
    {
     "name": "stdout",
     "output_type": "stream",
     "text": [
      "/Product_energysk.com_September2020.json.gz\n",
      "/Product_amegoev.com_September2020.json.gz\n",
      "/Product_cartridgestockmarket.com_September2020.json.gz\n",
      "/Product_sitnsleepfl.com_September2020.json.gz\n",
      "/Product_best4headsets.co.uk_September2020.json.gz\n",
      "/Product_twowheelerskidealer.com_September2020.json.gz\n",
      "/Product_onbuy.com_September2020.json.gz\n"
     ]
    },
    {
     "name": "stderr",
     "output_type": "stream",
     "text": [
      "  5% (86 of 1614) |#                     | Elapsed Time: 0:00:05 ETA:   0:01:15"
     ]
    },
    {
     "name": "stdout",
     "output_type": "stream",
     "text": [
      "/Product_competitivegear.com_September2020.json.gz\n",
      "/Product_totalpersonalprotection.com_September2020.json.gz\n",
      "/Product_austinsdiving.com_September2020.json.gz\n",
      "/Product_timix.com.br_September2020.json.gz\n",
      "/Product_allhdd.com_September2020.json.gz\n"
     ]
    },
    {
     "name": "stderr",
     "output_type": "stream",
     "text": [
      "  5% (91 of 1614) |#                     | Elapsed Time: 0:00:06 ETA:   0:01:44"
     ]
    },
    {
     "name": "stdout",
     "output_type": "stream",
     "text": [
      "/Product_communityappliance.com_September2020.json.gz\n",
      "/Product_tampacontractfloors.com_September2020.json.gz\n",
      "/Product_tunisianet.com.tn_September2020.json.gz\n",
      "/Product_logitechstore.com.br_September2020.json.gz\n",
      "/Product_totalhouseandflooring.com_September2020.json.gz\n"
     ]
    },
    {
     "name": "stderr",
     "output_type": "stream",
     "text": [
      "\r",
      "  5% (95 of 1614) |#                     | Elapsed Time: 0:00:06 ETA:   0:01:50"
     ]
    },
    {
     "name": "stdout",
     "output_type": "stream",
     "text": [
      "/Product_bikeworksma.com_September2020.json.gz\n",
      "/Product_healthyworldpharmacy.com.au_September2020.json.gz\n",
      "/Product_toottoottoys.com.au_September2020.json.gz\n",
      "/Product_grosbill.com_September2020.json.gz\n"
     ]
    },
    {
     "name": "stderr",
     "output_type": "stream",
     "text": [
      "  6% (99 of 1614) |#                     | Elapsed Time: 0:00:06 ETA:   0:02:37"
     ]
    },
    {
     "name": "stdout",
     "output_type": "stream",
     "text": [
      "/Product_fotoimageneshop.com_September2020.json.gz\n",
      "/Product_commsdirect.com.au_September2020.json.gz\n",
      "/Product_traceurdirect.com_September2020.json.gz\n",
      "/Product_blackscintilla.com_September2020.json.gz\n",
      "/Product_indoorcity.com_September2020.json.gz\n",
      "/Product_flanigansfurnitureoutlet.com_September2020.json.gz\n"
     ]
    },
    {
     "name": "stderr",
     "output_type": "stream",
     "text": [
      "\r",
      "  6% (103 of 1614) |#                    | Elapsed Time: 0:00:07 ETA:   0:02:25"
     ]
    },
    {
     "name": "stdout",
     "output_type": "stream",
     "text": [
      "/Product_thejlryshop.com_September2020.json.gz\n",
      "/Product_savemak.com_September2020.json.gz\n",
      "/Product_treadbikeshop.com_September2020.json.gz\n"
     ]
    },
    {
     "name": "stderr",
     "output_type": "stream",
     "text": [
      "  6% (108 of 1614) |#                    | Elapsed Time: 0:00:07 ETA:   0:02:16"
     ]
    },
    {
     "name": "stdout",
     "output_type": "stream",
     "text": [
      "/Product_leaffloorcovering.com_September2020.json.gz\n",
      "/Product_cliktodeal.com_September2020.json.gz\n",
      "/Product_uccyclery.com_September2020.json.gz\n"
     ]
    },
    {
     "name": "stderr",
     "output_type": "stream",
     "text": [
      "  6% (112 of 1614) |#                    | Elapsed Time: 0:00:07 ETA:   0:01:48"
     ]
    },
    {
     "name": "stdout",
     "output_type": "stream",
     "text": [
      "/Product_carpetcitywi.com_September2020.json.gz\n",
      "/Product_thewatchagency.com_September2020.json.gz\n",
      "/Product_montelongos.com_September2020.json.gz\n",
      "/Product_trikesuk.com_September2020.json.gz\n",
      "/Product_accidentalartrockford.com_September2020.json.gz\n",
      "/Product_aedmarket.com_September2020.json.gz\n",
      "/Product_drimmersmiami.com_September2020.json.gz\n"
     ]
    },
    {
     "name": "stderr",
     "output_type": "stream",
     "text": [
      "  7% (118 of 1614) |#                    | Elapsed Time: 0:00:07 ETA:   0:01:45"
     ]
    },
    {
     "name": "stdout",
     "output_type": "stream",
     "text": [
      "/Product_mbsdirect.com_September2020.json.gz\n",
      "/Product_buchika.com_September2020.json.gz\n",
      "/Product_yorktowncycles.com_September2020.json.gz\n"
     ]
    },
    {
     "name": "stderr",
     "output_type": "stream",
     "text": [
      "\r",
      "  7% (119 of 1614) |#                    | Elapsed Time: 0:00:08 ETA:   0:01:48"
     ]
    },
    {
     "name": "stdout",
     "output_type": "stream",
     "text": [
      "/Product_fayettesalonsuites.com_September2020.json.gz\n",
      "/Product_sport-tiedje.co.uk_September2020.json.gz\n",
      "/Product_ldlc.com_September2020.json.gz\n"
     ]
    },
    {
     "name": "stderr",
     "output_type": "stream",
     "text": [
      "  7% (125 of 1614) |#                    | Elapsed Time: 0:00:08 ETA:   0:01:48"
     ]
    },
    {
     "name": "stdout",
     "output_type": "stream",
     "text": [
      "/Product_slowfarma.com_September2020.json.gz\n",
      "/Product_downtownappliance.com_September2020.json.gz\n",
      "/Product_rayashop.com_September2020.json.gz\n",
      "/Product_lucasdivestore.com_September2020.json.gz\n"
     ]
    },
    {
     "name": "stderr",
     "output_type": "stream",
     "text": [
      "  7% (129 of 1614) |#                    | Elapsed Time: 0:00:08 ETA:   0:01:34"
     ]
    },
    {
     "name": "stdout",
     "output_type": "stream",
     "text": [
      "/Product_vsmusicstudio.com_September2020.json.gz\n",
      "/Product_swiss-pro.com_September2020.json.gz\n",
      "/Product_npbikeshop.com_September2020.json.gz\n",
      "/Product_beersofeurope.co.uk_September2020.json.gz\n"
     ]
    },
    {
     "name": "stderr",
     "output_type": "stream",
     "text": [
      "\r",
      "  8% (130 of 1614) |#                    | Elapsed Time: 0:00:09 ETA:   0:01:51"
     ]
    },
    {
     "name": "stdout",
     "output_type": "stream",
     "text": [
      "/Product_ytsundance.com_September2020.json.gz\n"
     ]
    },
    {
     "name": "stderr",
     "output_type": "stream",
     "text": [
      "\r",
      "  8% (131 of 1614) |#                    | Elapsed Time: 0:00:09 ETA:   0:02:16"
     ]
    },
    {
     "name": "stdout",
     "output_type": "stream",
     "text": [
      "/Product_penandtool.com_September2020.json.gz\n",
      "/Product_rev-cycles.com_September2020.json.gz\n"
     ]
    },
    {
     "name": "stderr",
     "output_type": "stream",
     "text": [
      "  8% (135 of 1614) |#                    | Elapsed Time: 0:00:09 ETA:   0:02:43"
     ]
    },
    {
     "name": "stdout",
     "output_type": "stream",
     "text": [
      "/Product_tonerpoint24.com_September2020.json.gz\n",
      "/Product_villagebikeshop.com_September2020.json.gz\n",
      "/Product_flippanceandcarr.com_September2020.json.gz\n",
      "/Product_watchshopvietnam.com_September2020.json.gz\n"
     ]
    },
    {
     "name": "stderr",
     "output_type": "stream",
     "text": [
      "  8% (141 of 1614) |#                    | Elapsed Time: 0:00:10 ETA:   0:02:20"
     ]
    },
    {
     "name": "stdout",
     "output_type": "stream",
     "text": [
      "/Product_vaupelhomefurnishings.com_September2020.json.gz\n",
      "/Product_photospecialist.co.uk_September2020.json.gz\n",
      "/Product_crocodileye.com_September2020.json.gz\n",
      "/Product_anchorexpress.com_September2020.json.gz\n",
      "/Product_welovetopartyherts.com_September2020.json.gz\n"
     ]
    },
    {
     "name": "stderr",
     "output_type": "stream",
     "text": [
      "\r",
      "  8% (144 of 1614) |#                    | Elapsed Time: 0:00:10 ETA:   0:02:20"
     ]
    },
    {
     "name": "stdout",
     "output_type": "stream",
     "text": [
      "/Product_fisselfloorcovering.com_September2020.json.gz\n",
      "/Product_pcgaming365.com_September2020.json.gz\n",
      "/Product_tornlightrecords.com_September2020.json.gz\n",
      "/Product_kacparaya.com_September2020.json.gz\n",
      "/Product_rentgamingcomputer.com_September2020.json.gz\n",
      "/Product_homehealthcareshoppe.com_September2020.json.gz\n"
     ]
    },
    {
     "name": "stderr",
     "output_type": "stream",
     "text": [
      "\r",
      "  9% (148 of 1614) |#                    | Elapsed Time: 0:00:10 ETA:   0:02:00"
     ]
    },
    {
     "name": "stdout",
     "output_type": "stream",
     "text": [
      "/Product_csmerchants.com.au_September2020.json.gz\n",
      "/Product_sakura-mall.com_September2020.json.gz\n",
      "/Product_bikenetic.com_September2020.json.gz\n"
     ]
    },
    {
     "name": "stderr",
     "output_type": "stream",
     "text": [
      "  9% (154 of 1614) |##                   | Elapsed Time: 0:00:11 ETA:   0:02:07"
     ]
    },
    {
     "name": "stdout",
     "output_type": "stream",
     "text": [
      "/Product_outdoorsmans.com_September2020.json.gz\n",
      "/Product_shopmainstco.com_September2020.json.gz\n",
      "/Product_barberhood.com.au_September2020.json.gz\n",
      "/Product_avitecstore.com_September2020.json.gz\n",
      "/Product_blackyard-skateboards.com_September2020.json.gz\n",
      "/Product_fotozunic.com_September2020.json.gz\n",
      "/Product_mcginnisappliance.com_September2020.json.gz\n"
     ]
    },
    {
     "name": "stderr",
     "output_type": "stream",
     "text": [
      "  9% (160 of 1614) |##                   | Elapsed Time: 0:00:18 ETA:   0:29:17"
     ]
    },
    {
     "name": "stdout",
     "output_type": "stream",
     "text": [
      "/Product_rs-online.com_September2020.json.gz\n",
      "/Product_elitecycling.com_September2020.json.gz\n",
      "/Product_constantstealth.com_September2020.json.gz\n",
      "/Product_rickshometown.com_September2020.json.gz\n",
      "/Product_beyondfringe.com_September2020.json.gz\n",
      "/Product_readysetgofitness.com.au_September2020.json.gz\n"
     ]
    },
    {
     "name": "stderr",
     "output_type": "stream",
     "text": [
      " 10% (168 of 1614) |##                   | Elapsed Time: 0:00:18 ETA:   0:12:51"
     ]
    },
    {
     "name": "stdout",
     "output_type": "stream",
     "text": [
      "/Product_vintagehomesouth.com_September2020.json.gz\n",
      "/Product_castorandpollux.co.uk_September2020.json.gz\n",
      "/Product_schmidtcustomfloors.com_September2020.json.gz\n",
      "/Product_pc-kombo.com_September2020.json.gz\n",
      "/Product_tiendabigcom.com.mx_September2020.json.gz\n",
      "/Product_continentalski.com_September2020.json.gz\n"
     ]
    },
    {
     "name": "stderr",
     "output_type": "stream",
     "text": [
      " 10% (171 of 1614) |##                   | Elapsed Time: 0:00:18 ETA:   0:11:05"
     ]
    },
    {
     "name": "stdout",
     "output_type": "stream",
     "text": [
      "/Product_oempcworld.com_September2020.json.gz\n",
      "/Product_mytechsense.com.au_September2020.json.gz\n"
     ]
    },
    {
     "name": "stderr",
     "output_type": "stream",
     "text": [
      " 11% (178 of 1614) |##                   | Elapsed Time: 0:00:19 ETA:   0:08:02"
     ]
    },
    {
     "name": "stdout",
     "output_type": "stream",
     "text": [
      "/Product_gardeninggiftsdirect.com_September2020.json.gz\n",
      "/Product_naturalopulence.com_September2020.json.gz\n",
      "/Product_ferrogioielli.com_September2020.json.gz\n",
      "/Product_bikeandtrike.com_September2020.json.gz\n",
      "/Product_adappliancecenter.com_September2020.json.gz\n",
      "/Product_sunshinebicycle.com_September2020.json.gz\n",
      "/Product_oskobayashi.com_September2020.json.gz\n",
      "/Product_dgcycles.com_September2020.json.gz\n"
     ]
    },
    {
     "name": "stderr",
     "output_type": "stream",
     "text": [
      " 11% (184 of 1614) |##                   | Elapsed Time: 0:00:19 ETA:   0:06:36"
     ]
    },
    {
     "name": "stdout",
     "output_type": "stream",
     "text": [
      "/Product_achatpc.com_September2020.json.gz\n",
      "/Product_treiberandstraub.com_September2020.json.gz\n",
      "/Product_capefearflooring.com_September2020.json.gz\n",
      "/Product_dscbike.com_September2020.json.gz\n",
      "/Product_centralavewines.com_September2020.json.gz\n",
      "/Product_madridhifi.com_September2020.json.gz\n"
     ]
    },
    {
     "name": "stderr",
     "output_type": "stream",
     "text": [
      "\r",
      " 11% (186 of 1614) |##                   | Elapsed Time: 0:00:19 ETA:   0:06:17"
     ]
    },
    {
     "name": "stdout",
     "output_type": "stream",
     "text": [
      "/Product_tcateamstore.com_September2020.json.gz\n",
      "/Product_gerhardsappliance.com_September2020.json.gz\n",
      "/Product_sunsvision.com_September2020.json.gz\n"
     ]
    },
    {
     "name": "stderr",
     "output_type": "stream",
     "text": [
      " 11% (192 of 1614) |##                   | Elapsed Time: 0:00:19 ETA:   0:05:29"
     ]
    },
    {
     "name": "stdout",
     "output_type": "stream",
     "text": [
      "/Product_houseofcop.com_September2020.json.gz\n",
      "/Product_technoworld.com_September2020.json.gz\n",
      "/Product_memoirevive-fournitures-de-bureau.com_September2020.json.gz\n",
      "/Product_dougjohnsonart.com_September2020.json.gz\n",
      "/Product_ntrstore.com_September2020.json.gz\n",
      "/Product_costenfloors.com_September2020.json.gz\n"
     ]
    },
    {
     "name": "stderr",
     "output_type": "stream",
     "text": [
      " 12% (199 of 1614) |##                   | Elapsed Time: 0:00:20 ETA:   0:04:45"
     ]
    },
    {
     "name": "stdout",
     "output_type": "stream",
     "text": [
      "/Product_outdoority.com_September2020.json.gz\n",
      "/Product_midyatgumusdunyasi.com_September2020.json.gz\n",
      "/Product_mrsdoepee.com_September2020.json.gz\n",
      "/Product_secufast.com_September2020.json.gz\n",
      "/Product_centralwheel.com_September2020.json.gz\n"
     ]
    },
    {
     "name": "stderr",
     "output_type": "stream",
     "text": [
      " 12% (205 of 1614) |##                   | Elapsed Time: 0:00:20 ETA:   0:01:09"
     ]
    },
    {
     "name": "stdout",
     "output_type": "stream",
     "text": [
      "/Product_hethonganninh.com_September2020.json.gz\n",
      "/Product_spokelifecycles.com_September2020.json.gz\n",
      "/Product_act1flooring.com_September2020.json.gz\n",
      "/Product_pcfactorycomputer.com_September2020.json.gz\n",
      "/Product_madridgadgetstore.com_September2020.json.gz\n",
      "/Product_homestylefurnituremodesto.com_September2020.json.gz\n"
     ]
    },
    {
     "name": "stderr",
     "output_type": "stream",
     "text": [
      "\r",
      " 12% (208 of 1614) |##                   | Elapsed Time: 0:00:20 ETA:   0:01:12"
     ]
    },
    {
     "name": "stdout",
     "output_type": "stream",
     "text": [
      "/Product_bcdbazaar.com_September2020.json.gz\n",
      "/Product_gaelforcemarine.co.uk_September2020.json.gz\n",
      "/Product_mi-store.com.au_September2020.json.gz\n",
      "/Product_cycleworldmiami.com_September2020.json.gz\n",
      "/Product_renodepot.com_September2020.json.gz\n"
     ]
    },
    {
     "name": "stderr",
     "output_type": "stream",
     "text": [
      " 13% (212 of 1614) |##                   | Elapsed Time: 0:00:21 ETA:   0:01:14"
     ]
    },
    {
     "name": "stdout",
     "output_type": "stream",
     "text": [
      "/Product_platinumcomputer.net_September2020.json.gz\n",
      "/Product_millenniumbg.com_September2020.json.gz\n",
      "/Product_tri-zone.com_September2020.json.gz\n"
     ]
    },
    {
     "name": "stderr",
     "output_type": "stream",
     "text": [
      " 13% (216 of 1614) |##                   | Elapsed Time: 0:00:21 ETA:   0:01:21"
     ]
    },
    {
     "name": "stdout",
     "output_type": "stream",
     "text": [
      "/Product_thefloorstorerva.com_September2020.json.gz\n",
      "/Product_masquevideo.com_September2020.json.gz\n",
      "/Product_amazonstone.com_September2020.json.gz\n",
      "/Product_liulostore.com_September2020.json.gz\n",
      "/Product_therecordexchange.com_September2020.json.gz\n"
     ]
    },
    {
     "name": "stderr",
     "output_type": "stream",
     "text": [
      " 13% (222 of 1614) |##                   | Elapsed Time: 0:00:21 ETA:   0:01:29"
     ]
    },
    {
     "name": "stdout",
     "output_type": "stream",
     "text": [
      "/Product_myonlinedigitalproducts.com_September2020.json.gz\n",
      "/Product_mir-informatica.com_September2020.json.gz\n",
      "/Product_fotomalzeme.com_September2020.json.gz\n",
      "/Product_harveynorman.com.my_September2020.json.gz\n",
      "/Product_shoplovetv.com_September2020.json.gz\n",
      "/Product_coalfieldcarpets.com_September2020.json.gz\n"
     ]
    },
    {
     "name": "stderr",
     "output_type": "stream",
     "text": [
      " 14% (227 of 1614) |##                   | Elapsed Time: 0:00:22 ETA:   0:01:33"
     ]
    },
    {
     "name": "stdout",
     "output_type": "stream",
     "text": [
      "/Product_yeezybreezy.com_September2020.json.gz\n",
      "/Product_montresenligne.com_September2020.json.gz\n",
      "/Product_espressoutlet.com_September2020.json.gz\n",
      "/Product_shopsiesta.com_September2020.json.gz\n"
     ]
    },
    {
     "name": "stderr",
     "output_type": "stream",
     "text": [
      " 14% (232 of 1614) |###                  | Elapsed Time: 0:00:22 ETA:   0:01:27"
     ]
    },
    {
     "name": "stdout",
     "output_type": "stream",
     "text": [
      "/Product_ankarapantry.com_September2020.json.gz\n",
      "/Product_soundscrystalsandvibrations.com_September2020.json.gz\n",
      "/Product_inegolalisveris.com_September2020.json.gz\n",
      "/Product_la-compagnie-de-huile-d-olive.com_September2020.json.gz\n",
      "/Product_cbibikes.com_September2020.json.gz\n",
      "/Product_flamesport.com_September2020.json.gz\n"
     ]
    },
    {
     "name": "stderr",
     "output_type": "stream",
     "text": [
      "\r",
      " 14% (235 of 1614) |###                  | Elapsed Time: 0:00:22 ETA:   0:01:25"
     ]
    },
    {
     "name": "stdout",
     "output_type": "stream",
     "text": [
      "/Product_bicyclesplus.com_September2020.json.gz\n",
      "/Product_prodirecttennis.com_September2020.json.gz\n"
     ]
    },
    {
     "name": "stderr",
     "output_type": "stream",
     "text": [
      " 14% (241 of 1614) |###                  | Elapsed Time: 0:00:22 ETA:   0:01:35"
     ]
    },
    {
     "name": "stdout",
     "output_type": "stream",
     "text": [
      "/Product_greenmountainbikes.com_September2020.json.gz\n",
      "/Product_creativeprintersoflondon.co.uk_September2020.json.gz\n",
      "/Product_shop8eaz.com_September2020.json.gz\n",
      "/Product_designlabaz.com_September2020.json.gz\n",
      "/Product_mcphersonpharmacy.co.uk_September2020.json.gz\n",
      "/Product_prodirectrunning.com_September2020.json.gz\n"
     ]
    },
    {
     "name": "stderr",
     "output_type": "stream",
     "text": [
      "\r",
      " 15% (243 of 1614) |###                  | Elapsed Time: 0:00:22 ETA:   0:01:28"
     ]
    },
    {
     "name": "stdout",
     "output_type": "stream",
     "text": [
      "/Product_mainstreetbicycles.com_September2020.json.gz\n",
      "/Product_bicycletrip.com_September2020.json.gz\n"
     ]
    },
    {
     "name": "stderr",
     "output_type": "stream",
     "text": [
      "\r",
      " 15% (245 of 1614) |###                  | Elapsed Time: 0:00:23 ETA:   0:01:30"
     ]
    },
    {
     "name": "stdout",
     "output_type": "stream",
     "text": [
      "/Product_playbetter.com_September2020.json.gz\n",
      "/Product_pssl.com_September2020.json.gz\n"
     ]
    },
    {
     "name": "stderr",
     "output_type": "stream",
     "text": [
      " 15% (250 of 1614) |###                  | Elapsed Time: 0:00:24 ETA:   0:03:22"
     ]
    },
    {
     "name": "stdout",
     "output_type": "stream",
     "text": [
      "/Product_partness.com_September2020.json.gz\n",
      "/Product_ajcarpet.com_September2020.json.gz\n",
      "/Product_gottagogowdy.com_September2020.json.gz\n",
      "/Product_georges.com.au_September2020.json.gz\n",
      "/Product_amaincycling.com_September2020.json.gz\n"
     ]
    },
    {
     "name": "stderr",
     "output_type": "stream",
     "text": [
      "\r",
      " 15% (252 of 1614) |###                  | Elapsed Time: 0:00:24 ETA:   0:03:04"
     ]
    },
    {
     "name": "stdout",
     "output_type": "stream",
     "text": [
      "/Product_alexandalexa.com_September2020.json.gz\n"
     ]
    },
    {
     "name": "stderr",
     "output_type": "stream",
     "text": [
      " 15% (255 of 1614) |###                  | Elapsed Time: 0:00:25 ETA:   0:04:14"
     ]
    },
    {
     "name": "stdout",
     "output_type": "stream",
     "text": [
      "/Product_bicyclevillage.com_September2020.json.gz\n",
      "/Product_tiendaazul.com_September2020.json.gz\n",
      "/Product_ebrarbilgisayar.com_September2020.json.gz\n"
     ]
    },
    {
     "name": "stderr",
     "output_type": "stream",
     "text": [
      "\r",
      " 15% (258 of 1614) |###                  | Elapsed Time: 0:00:25 ETA:   0:03:45"
     ]
    },
    {
     "name": "stdout",
     "output_type": "stream",
     "text": [
      "/Product_buttfittings.com_September2020.json.gz\n",
      "/Product_bikefixutah.com_September2020.json.gz\n",
      "/Product_velvetgray.com_September2020.json.gz\n",
      "/Product_pluginson13.com_September2020.json.gz\n",
      "/Product_carsontrees.com_September2020.json.gz\n"
     ]
    },
    {
     "name": "stderr",
     "output_type": "stream",
     "text": [
      " 16% (265 of 1614) |###                  | Elapsed Time: 0:00:25 ETA:   0:02:47"
     ]
    },
    {
     "name": "stdout",
     "output_type": "stream",
     "text": [
      "/Product_blockbikespdx.com_September2020.json.gz\n",
      "/Product_c-tac.com_September2020.json.gz\n",
      "/Product_funpro.com.br_September2020.json.gz\n",
      "/Product_glasses.com_September2020.json.gz\n",
      "/Product_cyclemania1.com_September2020.json.gz\n"
     ]
    },
    {
     "name": "stderr",
     "output_type": "stream",
     "text": [
      " 16% (269 of 1614) |###                  | Elapsed Time: 0:00:26 ETA:   0:02:36"
     ]
    },
    {
     "name": "stdout",
     "output_type": "stream",
     "text": [
      "/Product_skiplusonline.co.uk_September2020.json.gz\n",
      "/Product_stormcomputers.com.au_September2020.json.gz\n",
      "/Product_evolutionmusicstore.com_September2020.json.gz\n",
      "/Product_macs.com.au_September2020.json.gz\n"
     ]
    },
    {
     "name": "stderr",
     "output_type": "stream",
     "text": [
      "\r",
      " 16% (272 of 1614) |###                  | Elapsed Time: 0:00:26 ETA:   0:02:26"
     ]
    },
    {
     "name": "stdout",
     "output_type": "stream",
     "text": [
      "/Product_sacfloorstore.com_September2020.json.gz\n",
      "/Product_aussiemobilesolution.com.au_September2020.json.gz\n",
      "/Product_inkdepot.com.au_September2020.json.gz\n",
      "/Product_premierfloors-gv.com_September2020.json.gz\n"
     ]
    },
    {
     "name": "stderr",
     "output_type": "stream",
     "text": [
      " 17% (280 of 1614) |###                  | Elapsed Time: 0:00:26 ETA:   0:02:01"
     ]
    },
    {
     "name": "stdout",
     "output_type": "stream",
     "text": [
      "/Product_imperialrobes.com_September2020.json.gz\n",
      "/Product_peakmtnbike.com_September2020.json.gz\n",
      "/Product_morroneelectric.com_September2020.json.gz\n",
      "/Product_clarkcountyarhistory.org_September2020.json.gz\n",
      "/Product_performancesolutions.com.br_September2020.json.gz\n",
      "/Product_eetgroup.com_September2020.json.gz\n",
      "/Product_flooringconnectionsinc.com_September2020.json.gz\n",
      "/Product_elitebalustrade.com_September2020.json.gz\n",
      "/Product_onestopstationery.co.uk_September2020.json.gz\n",
      "/Product_shoproyalflooring.com_September2020.json.gz\n"
     ]
    },
    {
     "name": "stderr",
     "output_type": "stream",
     "text": [
      " 17% (287 of 1614) |###                  | Elapsed Time: 0:00:26 ETA:   0:01:15"
     ]
    },
    {
     "name": "stdout",
     "output_type": "stream",
     "text": [
      "/Product_carpetworldamarillo.com_September2020.json.gz\n",
      "/Product_beyerdynamic.com.au_September2020.json.gz\n",
      "/Product_sanderfurnitureco.com_September2020.json.gz\n",
      "/Product_gamesncomps.com_September2020.json.gz\n",
      "/Product_cowboymaloneys.com_September2020.json.gz\n",
      "/Product_thorndown.co.uk_September2020.json.gz\n",
      "/Product_pckuwait.com_September2020.json.gz\n",
      "/Product_videostaff.com.mx_September2020.json.gz\n"
     ]
    },
    {
     "name": "stderr",
     "output_type": "stream",
     "text": [
      "\r",
      " 18% (292 of 1614) |###                  | Elapsed Time: 0:00:26 ETA:   0:01:09"
     ]
    },
    {
     "name": "stdout",
     "output_type": "stream",
     "text": [
      "/Product_thesacredearthpantry.com_September2020.json.gz\n",
      "/Product_maquillalia.com_September2020.json.gz\n"
     ]
    },
    {
     "name": "stderr",
     "output_type": "stream",
     "text": [
      " 18% (297 of 1614) |###                  | Elapsed Time: 0:00:27 ETA:   0:01:02"
     ]
    },
    {
     "name": "stdout",
     "output_type": "stream",
     "text": [
      "/Product_jootree.co.uk_September2020.json.gz\n",
      "/Product_reach-clothing.com_September2020.json.gz\n",
      "/Product_ilogmaria.com_September2020.json.gz\n",
      "/Product_hairext.co.uk_September2020.json.gz\n",
      "/Product_speakit.co.uk_September2020.json.gz\n",
      "/Product_tabletymovil.com_September2020.json.gz\n",
      "/Product_garmin.com_September2020.json.gz\n"
     ]
    },
    {
     "name": "stderr",
     "output_type": "stream",
     "text": [
      "\r",
      " 18% (301 of 1614) |###                  | Elapsed Time: 0:00:27 ETA:   0:01:04"
     ]
    },
    {
     "name": "stdout",
     "output_type": "stream",
     "text": [
      "/Product_infinitewarehouse.com_September2020.json.gz\n",
      "/Product_flaskfinewines.com_September2020.json.gz\n"
     ]
    },
    {
     "name": "stderr",
     "output_type": "stream",
     "text": [
      "\r",
      " 18% (303 of 1614) |###                  | Elapsed Time: 0:00:27 ETA:   0:01:10"
     ]
    },
    {
     "name": "stdout",
     "output_type": "stream",
     "text": [
      "/Product_freedombikeshop.com_September2020.json.gz\n"
     ]
    },
    {
     "name": "stderr",
     "output_type": "stream",
     "text": [
      " 19% (307 of 1614) |###                  | Elapsed Time: 0:00:28 ETA:   0:01:11"
     ]
    },
    {
     "name": "stdout",
     "output_type": "stream",
     "text": [
      "/Product_spirited-wines.com_September2020.json.gz\n",
      "/Product_hooklineandpaddle.com_September2020.json.gz\n",
      "/Product_perfumeseden.com_September2020.json.gz\n",
      "/Product_stoutsflooring.com_September2020.json.gz\n",
      "/Product_tonerpoint.com.es_September2020.json.gz\n"
     ]
    },
    {
     "name": "stderr",
     "output_type": "stream",
     "text": [
      "\r",
      " 19% (310 of 1614) |####                 | Elapsed Time: 0:00:28 ETA:   0:01:10"
     ]
    },
    {
     "name": "stdout",
     "output_type": "stream",
     "text": [
      "/Product_upfarma.com_September2020.json.gz\n",
      "/Product_bulluna.com_September2020.json.gz\n",
      "/Product_winc.com.au_September2020.json.gz\n"
     ]
    },
    {
     "name": "stderr",
     "output_type": "stream",
     "text": [
      " 19% (314 of 1614) |####                 | Elapsed Time: 0:00:28 ETA:   0:01:27"
     ]
    },
    {
     "name": "stdout",
     "output_type": "stream",
     "text": [
      "/Product_inusnet.com_September2020.json.gz\n",
      "/Product_intercomp.com.mt_September2020.json.gz\n",
      "/Product_burrowsgps.co.uk_September2020.json.gz\n",
      "/Product_kindbikesandskis.com_September2020.json.gz\n"
     ]
    },
    {
     "name": "stderr",
     "output_type": "stream",
     "text": [
      " 19% (317 of 1614) |####                 | Elapsed Time: 0:00:28 ETA:   0:01:29"
     ]
    },
    {
     "name": "stdout",
     "output_type": "stream",
     "text": [
      "/Product_chainwheeldrive.com_September2020.json.gz\n",
      "/Product_padani.com_September2020.json.gz\n",
      "/Product_antiguarelojeria.com_September2020.json.gz\n",
      "/Product_swissluxury.com_September2020.json.gz\n"
     ]
    },
    {
     "name": "stderr",
     "output_type": "stream",
     "text": [
      " 19% (322 of 1614) |####                 | Elapsed Time: 0:00:29 ETA:   0:01:56"
     ]
    },
    {
     "name": "stdout",
     "output_type": "stream",
     "text": [
      "/Product_primofitnessusa.com_September2020.json.gz\n",
      "/Product_damlarose.co.uk_September2020.json.gz\n",
      "/Product_carpetworldfargo.com_September2020.json.gz\n",
      "/Product_eztvappliance.com_September2020.json.gz\n"
     ]
    },
    {
     "name": "stderr",
     "output_type": "stream",
     "text": [
      " 20% (325 of 1614) |####                 | Elapsed Time: 0:00:29 ETA:   0:01:59"
     ]
    },
    {
     "name": "stdout",
     "output_type": "stream",
     "text": [
      "/Product_mikesbikes.com_September2020.json.gz\n",
      "/Product_compufirst.com_September2020.json.gz\n"
     ]
    },
    {
     "name": "stderr",
     "output_type": "stream",
     "text": [
      " 20% (327 of 1614) |####                 | Elapsed Time: 0:00:30 ETA:   0:01:56"
     ]
    },
    {
     "name": "stdout",
     "output_type": "stream",
     "text": [
      "/Product_bludiode.com_September2020.json.gz\n",
      "/Product_legendcoastal.com_September2020.json.gz\n"
     ]
    },
    {
     "name": "stderr",
     "output_type": "stream",
     "text": [
      "\r",
      " 20% (329 of 1614) |####                 | Elapsed Time: 0:00:30 ETA:   0:02:02"
     ]
    },
    {
     "name": "stdout",
     "output_type": "stream",
     "text": [
      "/Product_grandos.com.br_September2020.json.gz\n",
      "/Product_momentbicycles.com_September2020.json.gz\n"
     ]
    },
    {
     "name": "stderr",
     "output_type": "stream",
     "text": [
      " 20% (333 of 1614) |####                 | Elapsed Time: 0:00:30 ETA:   0:02:07"
     ]
    },
    {
     "name": "stdout",
     "output_type": "stream",
     "text": [
      "/Product_universalcomputer.net_September2020.json.gz\n",
      "/Product_ttwolondon.com_September2020.json.gz\n",
      "/Product_terabyteshop.com.br_September2020.json.gz\n",
      "/Product_woodkrazyhandmade.co.uk_September2020.json.gz\n",
      "/Product_mylilhealthbot.com_September2020.json.gz\n",
      "/Product_thewittygrittypaperco.com_September2020.json.gz\n"
     ]
    },
    {
     "name": "stderr",
     "output_type": "stream",
     "text": [
      "\r",
      " 20% (337 of 1614) |####                 | Elapsed Time: 0:00:30 ETA:   0:01:56"
     ]
    },
    {
     "name": "stdout",
     "output_type": "stream",
     "text": [
      "/Product_shopsquireshop.com_September2020.json.gz\n",
      "/Product_lord-chambrayshop.com_September2020.json.gz\n",
      "/Product_beachorganicsskincare.com_September2020.json.gz\n",
      "/Product_countytv.com_September2020.json.gz\n"
     ]
    },
    {
     "name": "stderr",
     "output_type": "stream",
     "text": [
      "\r",
      " 21% (340 of 1614) |####                 | Elapsed Time: 0:00:30 ETA:   0:01:53"
     ]
    },
    {
     "name": "stdout",
     "output_type": "stream",
     "text": [
      "/Product_linio.com.ar_September2020.json.gz\n"
     ]
    },
    {
     "name": "stderr",
     "output_type": "stream",
     "text": [
      " 21% (343 of 1614) |####                 | Elapsed Time: 0:00:31 ETA:   0:01:57"
     ]
    },
    {
     "name": "stdout",
     "output_type": "stream",
     "text": [
      "/Product_williamschevy.com_September2020.json.gz\n",
      "/Product_1stdiscountsafety.com_September2020.json.gz\n",
      "/Product_rickhendrickchevy.com_September2020.json.gz\n"
     ]
    },
    {
     "name": "stderr",
     "output_type": "stream",
     "text": [
      "\r",
      " 21% (346 of 1614) |####                 | Elapsed Time: 0:00:31 ETA:   0:01:48"
     ]
    },
    {
     "name": "stdout",
     "output_type": "stream",
     "text": [
      "/Product_bidbum.com_September2020.json.gz\n",
      "/Product_petstreetmall.com_September2020.json.gz\n",
      "/Product_firsttothefinish.com_September2020.json.gz\n"
     ]
    },
    {
     "name": "stderr",
     "output_type": "stream",
     "text": [
      " 21% (348 of 1614) |####                 | Elapsed Time: 0:00:31 ETA:   0:01:54"
     ]
    },
    {
     "name": "stdout",
     "output_type": "stream",
     "text": [
      "/Product_msdist.co.uk_September2020.json.gz\n",
      "/Product_laurenceking.com_September2020.json.gz\n",
      "/Product_joyeriaquintas.com_September2020.json.gz\n"
     ]
    },
    {
     "name": "stderr",
     "output_type": "stream",
     "text": [
      " 21% (353 of 1614) |####                 | Elapsed Time: 0:00:32 ETA:   0:01:36"
     ]
    },
    {
     "name": "stdout",
     "output_type": "stream",
     "text": [
      "/Product_opsm.com.au_September2020.json.gz\n",
      "/Product_djcolifestyle.com_September2020.json.gz\n",
      "/Product_porchconcepts.com_September2020.json.gz\n",
      "/Product_tahoesportsltd.com_September2020.json.gz\n",
      "/Product_trusted.com_September2020.json.gz\n"
     ]
    },
    {
     "name": "stderr",
     "output_type": "stream",
     "text": [
      " 22% (356 of 1614) |####                 | Elapsed Time: 0:00:32 ETA:   0:01:35"
     ]
    },
    {
     "name": "stdout",
     "output_type": "stream",
     "text": [
      "/Product_rideonsports.com_September2020.json.gz\n",
      "/Product_theapplianceloft.com_September2020.json.gz\n",
      "/Product_hylandcyclery.com_September2020.json.gz\n"
     ]
    },
    {
     "name": "stderr",
     "output_type": "stream",
     "text": [
      " 22% (360 of 1614) |####                 | Elapsed Time: 0:00:32 ETA:   0:01:30"
     ]
    },
    {
     "name": "stdout",
     "output_type": "stream",
     "text": [
      "/Product_botanicabazaar.com_September2020.json.gz\n",
      "/Product_carpetcountry.net_September2020.json.gz\n",
      "/Product_vipvapers.com_September2020.json.gz\n",
      "/Product_tracebikes.com_September2020.json.gz\n"
     ]
    },
    {
     "name": "stderr",
     "output_type": "stream",
     "text": [
      "\r",
      " 22% (362 of 1614) |####                 | Elapsed Time: 0:00:33 ETA:   0:02:51"
     ]
    },
    {
     "name": "stdout",
     "output_type": "stream",
     "text": [
      "/Product_safeprotech.com_September2020.json.gz\n",
      "/Product_hypercat.com_September2020.json.gz\n"
     ]
    },
    {
     "name": "stderr",
     "output_type": "stream",
     "text": [
      "\r",
      " 22% (364 of 1614) |####                 | Elapsed Time: 0:00:34 ETA:   0:03:50"
     ]
    },
    {
     "name": "stdout",
     "output_type": "stream",
     "text": [
      "/Product_gusbike.com_September2020.json.gz\n",
      "/Product_onemillionairetravel.com_September2020.json.gz\n"
     ]
    },
    {
     "name": "stderr",
     "output_type": "stream",
     "text": [
      " 22% (368 of 1614) |####                 | Elapsed Time: 0:00:34 ETA:   0:03:43"
     ]
    },
    {
     "name": "stdout",
     "output_type": "stream",
     "text": [
      "/Product_miralahora.com_September2020.json.gz\n",
      "/Product_youarrived.com_September2020.json.gz\n",
      "/Product_microcabin.net_September2020.json.gz\n"
     ]
    },
    {
     "name": "stderr",
     "output_type": "stream",
     "text": [
      "\r",
      " 22% (370 of 1614) |####                 | Elapsed Time: 0:00:34 ETA:   0:03:36"
     ]
    },
    {
     "name": "stdout",
     "output_type": "stream",
     "text": [
      "/Product_hemamaps.com_September2020.json.gz\n",
      "/Product_vpccomputers.com_September2020.json.gz\n",
      "/Product_grixbase.com_September2020.json.gz\n",
      "/Product_abt.com_September2020.json.gz\n",
      "/Product_trekbicyclestorelondon.com_September2020.json.gz\n"
     ]
    },
    {
     "name": "stderr",
     "output_type": "stream",
     "text": [
      "\r",
      " 23% (374 of 1614) |####                 | Elapsed Time: 0:00:34 ETA:   0:03:06"
     ]
    },
    {
     "name": "stdout",
     "output_type": "stream",
     "text": [
      "/Product_exclusiveappliances.com_September2020.json.gz\n",
      "/Product_reuseyourit.com_September2020.json.gz\n",
      "/Product_greentoe.com_September2020.json.gz\n"
     ]
    },
    {
     "name": "stderr",
     "output_type": "stream",
     "text": [
      " 23% (380 of 1614) |####                 | Elapsed Time: 0:00:35 ETA:   0:02:34"
     ]
    },
    {
     "name": "stdout",
     "output_type": "stream",
     "text": [
      "/Product_relaxdays.co.uk_September2020.json.gz\n",
      "/Product_ireineheadwraps.com_September2020.json.gz\n",
      "/Product_carolinabrewsupply.com_September2020.json.gz\n",
      "/Product_reliancesolution.co.uk_September2020.json.gz\n",
      "/Product_owenfurniture.com_September2020.json.gz\n"
     ]
    },
    {
     "name": "stderr",
     "output_type": "stream",
     "text": [
      " 23% (386 of 1614) |#####                | Elapsed Time: 0:00:35 ETA:   0:02:10"
     ]
    },
    {
     "name": "stdout",
     "output_type": "stream",
     "text": [
      "/Product_bikecountry.com_September2020.json.gz\n",
      "/Product_southgeosystems.com_September2020.json.gz\n",
      "/Product_sugarcastleusa.com_September2020.json.gz\n",
      "/Product_koletic.com_September2020.json.gz\n",
      "/Product_sunglasstrend.com_September2020.json.gz\n"
     ]
    },
    {
     "name": "stderr",
     "output_type": "stream",
     "text": [
      " 24% (390 of 1614) |#####                | Elapsed Time: 0:00:35 ETA:   0:02:01"
     ]
    },
    {
     "name": "stdout",
     "output_type": "stream",
     "text": [
      "/Product_exactflooring.com_September2020.json.gz\n",
      "/Product_realtropicals.com_September2020.json.gz\n",
      "/Product_argento.com_September2020.json.gz\n",
      "/Product_ricksparknsave.com_September2020.json.gz\n",
      "/Product_salssentimentalgifts.com_September2020.json.gz\n",
      "/Product_sweetpetes.com_September2020.json.gz\n"
     ]
    },
    {
     "name": "stderr",
     "output_type": "stream",
     "text": [
      " 24% (394 of 1614) |#####                | Elapsed Time: 0:00:35 ETA:   0:01:24"
     ]
    },
    {
     "name": "stdout",
     "output_type": "stream",
     "text": [
      "/Product_gadgetcircuit.com_September2020.json.gz\n",
      "/Product_algerbikes.com_September2020.json.gz\n"
     ]
    },
    {
     "name": "stderr",
     "output_type": "stream",
     "text": [
      "\r",
      " 24% (395 of 1614) |#####                | Elapsed Time: 0:00:36 ETA:   0:01:20"
     ]
    },
    {
     "name": "stdout",
     "output_type": "stream",
     "text": [
      "/Product_aabikes.net_September2020.json.gz\n"
     ]
    },
    {
     "name": "stderr",
     "output_type": "stream",
     "text": [
      "\r",
      " 24% (396 of 1614) |#####                | Elapsed Time: 0:00:36 ETA:   0:01:23"
     ]
    },
    {
     "name": "stdout",
     "output_type": "stream",
     "text": [
      "/Product_djs-marine.com_September2020.json.gz\n",
      "/Product_ernestjones.co.uk_September2020.json.gz\n"
     ]
    },
    {
     "name": "stderr",
     "output_type": "stream",
     "text": [
      "\r",
      " 24% (398 of 1614) |#####                | Elapsed Time: 0:00:36 ETA:   0:01:27"
     ]
    },
    {
     "name": "stdout",
     "output_type": "stream",
     "text": [
      "/Product_checkeredflag.com_September2020.json.gz\n",
      "/Product_dell.com_September2020.json.gz\n"
     ]
    },
    {
     "name": "stderr",
     "output_type": "stream",
     "text": [
      "\r",
      " 24% (400 of 1614) |#####                | Elapsed Time: 0:00:38 ETA:   0:07:00"
     ]
    },
    {
     "name": "stdout",
     "output_type": "stream",
     "text": [
      "/Product_trailheadcycling.com_September2020.json.gz\n",
      "/Product_farmamica.com_September2020.json.gz\n"
     ]
    },
    {
     "name": "stderr",
     "output_type": "stream",
     "text": [
      " 25% (405 of 1614) |#####                | Elapsed Time: 0:00:38 ETA:   0:05:56"
     ]
    },
    {
     "name": "stdout",
     "output_type": "stream",
     "text": [
      "/Product_globalshopcenter.com_September2020.json.gz\n",
      "/Product_orange-marine.com_September2020.json.gz\n",
      "/Product_yrgear.com.au_September2020.json.gz\n",
      "/Product_azgardens.com_September2020.json.gz\n",
      "/Product_backyardbikes.com_September2020.json.gz\n"
     ]
    },
    {
     "name": "stderr",
     "output_type": "stream",
     "text": [
      " 25% (409 of 1614) |#####                | Elapsed Time: 0:00:38 ETA:   0:04:28"
     ]
    },
    {
     "name": "stdout",
     "output_type": "stream",
     "text": [
      "/Product_victory.computer_September2020.json.gz\n",
      "/Product_nositeli.com.ua_September2020.json.gz\n",
      "/Product_crimsonbikes.com_September2020.json.gz\n",
      "/Product_andypemberton.com_September2020.json.gz\n"
     ]
    },
    {
     "name": "stderr",
     "output_type": "stream",
     "text": [
      " 25% (414 of 1614) |#####                | Elapsed Time: 0:00:39 ETA:   0:03:35"
     ]
    },
    {
     "name": "stdout",
     "output_type": "stream",
     "text": [
      "/Product_drogal.com.br_September2020.json.gz\n",
      "/Product_otticazzurrocapri.com_September2020.json.gz\n",
      "/Product_pcmemories.com.mx_September2020.json.gz\n",
      "/Product_mtvernonappliance.com_September2020.json.gz\n",
      "/Product_southbaycycle.com_September2020.json.gz\n"
     ]
    },
    {
     "name": "stderr",
     "output_type": "stream",
     "text": [
      " 25% (418 of 1614) |#####                | Elapsed Time: 0:00:39 ETA:   0:03:07"
     ]
    },
    {
     "name": "stdout",
     "output_type": "stream",
     "text": [
      "/Product_octo24.com_September2020.json.gz\n",
      "/Product_classicliquorsonline.com_September2020.json.gz\n",
      "/Product_maddalonijewelers.com_September2020.json.gz\n",
      "/Product_dermalution.com_September2020.json.gz\n",
      "/Product_willmanfurniture.com_September2020.json.gz\n",
      "/Product_mesatvappliance.com_September2020.json.gz\n"
     ]
    },
    {
     "name": "stderr",
     "output_type": "stream",
     "text": [
      " 26% (425 of 1614) |#####                | Elapsed Time: 0:00:39 ETA:   0:02:27"
     ]
    },
    {
     "name": "stdout",
     "output_type": "stream",
     "text": [
      "/Product_alabamacustomflooring.com_September2020.json.gz\n",
      "/Product_yijiaocn.com_September2020.json.gz\n",
      "/Product_atel.com.pl_September2020.json.gz\n",
      "/Product_lavysflooring.com_September2020.json.gz\n",
      "/Product_ronslumber.com_September2020.json.gz\n",
      "/Product_saatcim.com.tr_September2020.json.gz\n"
     ]
    },
    {
     "name": "stderr",
     "output_type": "stream",
     "text": [
      "\r",
      " 26% (428 of 1614) |#####                | Elapsed Time: 0:00:40 ETA:   0:02:16"
     ]
    },
    {
     "name": "stdout",
     "output_type": "stream",
     "text": [
      "/Product_cdwg.com_September2020.json.gz\n"
     ]
    },
    {
     "name": "stderr",
     "output_type": "stream",
     "text": [
      " 26% (434 of 1614) |#####                | Elapsed Time: 0:00:40 ETA:   0:01:29"
     ]
    },
    {
     "name": "stdout",
     "output_type": "stream",
     "text": [
      "/Product_redmountainbunker.com_September2020.json.gz\n",
      "/Product_suplementosrp.com.br_September2020.json.gz\n",
      "/Product_ideakix.com_September2020.json.gz\n",
      "/Product_yourperfumewarehouse.co.uk_September2020.json.gz\n",
      "/Product_ashlandhardseltzer.com_September2020.json.gz\n",
      "/Product_bijouxemoi.com_September2020.json.gz\n",
      "/Product_usedcarmalaysia.com_September2020.json.gz\n"
     ]
    },
    {
     "name": "stderr",
     "output_type": "stream",
     "text": [
      " 27% (437 of 1614) |#####                | Elapsed Time: 0:00:41 ETA:   0:01:24"
     ]
    },
    {
     "name": "stdout",
     "output_type": "stream",
     "text": [
      "/Product_allikestore.com_September2020.json.gz\n",
      "/Product_getrocked.org_September2020.json.gz\n",
      "/Product_zoccoshop.com_September2020.json.gz\n",
      "/Product_sluggerscarpets.com_September2020.json.gz\n"
     ]
    },
    {
     "name": "stderr",
     "output_type": "stream",
     "text": [
      " 27% (441 of 1614) |#####                | Elapsed Time: 0:00:41 ETA:   0:01:23"
     ]
    },
    {
     "name": "stdout",
     "output_type": "stream",
     "text": [
      "/Product_wildearth.com.au_September2020.json.gz\n",
      "/Product_feonka.com_September2020.json.gz\n",
      "/Product_wifi-stock.co.uk_September2020.json.gz\n"
     ]
    },
    {
     "name": "stderr",
     "output_type": "stream",
     "text": [
      "\r",
      " 27% (444 of 1614) |#####                | Elapsed Time: 0:00:41 ETA:   0:01:18"
     ]
    },
    {
     "name": "stdout",
     "output_type": "stream",
     "text": [
      "/Product_sneakerworldshop.com_September2020.json.gz\n",
      "/Product_karenlustrup.com_September2020.json.gz\n",
      "/Product_rococosystems.com_September2020.json.gz\n",
      "/Product_foodland.com_September2020.json.gz\n"
     ]
    },
    {
     "name": "stderr",
     "output_type": "stream",
     "text": [
      " 27% (449 of 1614) |#####                | Elapsed Time: 0:00:42 ETA:   0:02:10"
     ]
    },
    {
     "name": "stdout",
     "output_type": "stream",
     "text": [
      "/Product_joyeriagimenez.com_September2020.json.gz\n",
      "/Product_fitnewsole.com_September2020.json.gz\n",
      "/Product_deskidea.com_September2020.json.gz\n"
     ]
    },
    {
     "name": "stderr",
     "output_type": "stream",
     "text": [
      " 28% (453 of 1614) |#####                | Elapsed Time: 0:00:42 ETA:   0:02:00"
     ]
    },
    {
     "name": "stdout",
     "output_type": "stream",
     "text": [
      "/Product_olmsteadstv.com_September2020.json.gz\n",
      "/Product_thecoastalcottagebayhead.com_September2020.json.gz\n",
      "/Product_wadesworld.com.au_September2020.json.gz\n",
      "/Product_exquisitetimepieces.com_September2020.json.gz\n"
     ]
    },
    {
     "name": "stderr",
     "output_type": "stream",
     "text": [
      " 28% (457 of 1614) |#####                | Elapsed Time: 0:00:42 ETA:   0:01:45"
     ]
    },
    {
     "name": "stdout",
     "output_type": "stream",
     "text": [
      "/Product_plazacameras.com.au_September2020.json.gz\n",
      "/Product_hefnerfurniture.com_September2020.json.gz\n",
      "/Product_stickandcaneshop.co.uk_September2020.json.gz\n",
      "/Product_ozpilot.com.au_September2020.json.gz\n"
     ]
    },
    {
     "name": "stderr",
     "output_type": "stream",
     "text": [
      "\r",
      " 28% (459 of 1614) |#####                | Elapsed Time: 0:00:43 ETA:   0:01:48"
     ]
    },
    {
     "name": "stdout",
     "output_type": "stream",
     "text": [
      "/Product_skinnywheels.com_September2020.json.gz\n",
      "/Product_efarma.com_September2020.json.gz\n"
     ]
    },
    {
     "name": "stderr",
     "output_type": "stream",
     "text": [
      "\r",
      " 28% (460 of 1614) |#####                | Elapsed Time: 0:00:43 ETA:   0:02:00"
     ]
    },
    {
     "name": "stdout",
     "output_type": "stream",
     "text": [
      "/Product_nowbikes-fitness.com_September2020.json.gz\n"
     ]
    },
    {
     "name": "stderr",
     "output_type": "stream",
     "text": [
      "\r",
      " 28% (461 of 1614) |#####                | Elapsed Time: 0:00:44 ETA:   0:03:42"
     ]
    },
    {
     "name": "stdout",
     "output_type": "stream",
     "text": [
      "/Product_hendrickappliance.com_September2020.json.gz\n",
      "/Product_landrys.com_September2020.json.gz\n"
     ]
    },
    {
     "name": "stderr",
     "output_type": "stream",
     "text": [
      " 28% (465 of 1614) |######               | Elapsed Time: 0:00:45 ETA:   0:05:04"
     ]
    },
    {
     "name": "stdout",
     "output_type": "stream",
     "text": [
      "/Product_feelgoodcontacts.com_September2020.json.gz\n",
      "/Product_jpflooring.com_September2020.json.gz\n",
      "/Product_klcfloors.com_September2020.json.gz\n",
      "/Product_jamiescarpetshop.com_September2020.json.gz\n",
      "/Product_veronicasdoggiedelights.com_September2020.json.gz\n",
      "/Product_informaticalamancha.com_September2020.json.gz\n",
      "/Product_glorycycles.com_September2020.json.gz\n"
     ]
    },
    {
     "name": "stderr",
     "output_type": "stream",
     "text": [
      " 29% (472 of 1614) |######               | Elapsed Time: 0:00:45 ETA:   0:03:14"
     ]
    },
    {
     "name": "stdout",
     "output_type": "stream",
     "text": [
      "/Product_tuszetonery.net_September2020.json.gz\n",
      "/Product_schuh-spanner.com_September2020.json.gz\n",
      "/Product_sparkleandsass.net_September2020.json.gz\n",
      "/Product_the-house.com_September2020.json.gz\n"
     ]
    },
    {
     "name": "stderr",
     "output_type": "stream",
     "text": [
      "\r",
      " 29% (474 of 1614) |######               | Elapsed Time: 0:00:45 ETA:   0:03:19"
     ]
    },
    {
     "name": "stdout",
     "output_type": "stream",
     "text": [
      "/Product_puritycandy.com_September2020.json.gz\n",
      "/Product_cultpens.com_September2020.json.gz\n"
     ]
    },
    {
     "name": "stderr",
     "output_type": "stream",
     "text": [
      " 29% (478 of 1614) |######               | Elapsed Time: 0:00:46 ETA:   0:03:04"
     ]
    },
    {
     "name": "stdout",
     "output_type": "stream",
     "text": [
      "/Product_nexttime.com.br_September2020.json.gz\n",
      "/Product_graysofwestminster.co.uk_September2020.json.gz\n",
      "/Product_lamecrate.com_September2020.json.gz\n",
      "/Product_flooringmaster.com_September2020.json.gz\n",
      "/Product_achat-mania.com_September2020.json.gz\n"
     ]
    },
    {
     "name": "stderr",
     "output_type": "stream",
     "text": [
      "\r",
      " 29% (481 of 1614) |######               | Elapsed Time: 0:00:46 ETA:   0:02:44"
     ]
    },
    {
     "name": "stdout",
     "output_type": "stream",
     "text": [
      "/Product_wineologycc.com_September2020.json.gz\n",
      "/Product_wheelworld.com_September2020.json.gz\n"
     ]
    },
    {
     "name": "stderr",
     "output_type": "stream",
     "text": [
      "\r",
      " 29% (483 of 1614) |######               | Elapsed Time: 0:00:46 ETA:   0:02:43"
     ]
    },
    {
     "name": "stdout",
     "output_type": "stream",
     "text": [
      "/Product_urbanbicyclegallery.com_September2020.json.gz\n",
      "/Product_mrsgs.com_September2020.json.gz\n"
     ]
    },
    {
     "name": "stderr",
     "output_type": "stream",
     "text": [
      "\r",
      " 30% (485 of 1614) |######               | Elapsed Time: 0:00:46 ETA:   0:01:48"
     ]
    },
    {
     "name": "stdout",
     "output_type": "stream",
     "text": [
      "/Product_modesens.uk_September2020.json.gz\n",
      "/Product_footballstyle.com.ua_September2020.json.gz\n"
     ]
    },
    {
     "name": "stderr",
     "output_type": "stream",
     "text": [
      "\r",
      " 30% (487 of 1614) |######               | Elapsed Time: 0:00:47 ETA:   0:01:49"
     ]
    },
    {
     "name": "stdout",
     "output_type": "stream",
     "text": [
      "/Product_milcarsky.com_September2020.json.gz\n",
      "/Product_overclockers.co.uk_September2020.json.gz\n"
     ]
    },
    {
     "name": "stderr",
     "output_type": "stream",
     "text": [
      "\r",
      " 30% (489 of 1614) |######               | Elapsed Time: 0:00:47 ETA:   0:02:26"
     ]
    },
    {
     "name": "stdout",
     "output_type": "stream",
     "text": [
      "/Product_allprofloorstx.com_September2020.json.gz\n",
      "/Product_quzo.net_September2020.json.gz\n"
     ]
    },
    {
     "name": "stderr",
     "output_type": "stream",
     "text": [
      " 30% (492 of 1614) |######               | Elapsed Time: 0:00:47 ETA:   0:02:18"
     ]
    },
    {
     "name": "stdout",
     "output_type": "stream",
     "text": [
      "/Product_petersofkensington.com.au_September2020.json.gz\n",
      "/Product_unitedbroadcast.com_September2020.json.gz\n"
     ]
    },
    {
     "name": "stderr",
     "output_type": "stream",
     "text": [
      "\r",
      " 30% (496 of 1614) |######               | Elapsed Time: 0:00:48 ETA:   0:01:52"
     ]
    },
    {
     "name": "stdout",
     "output_type": "stream",
     "text": [
      "/Product_friedmansappliances.com_September2020.json.gz\n",
      "/Product_bahubalicraft.com_September2020.json.gz\n",
      "/Product_ewcarpets.com_September2020.json.gz\n",
      "/Product_trekraleigh.com_September2020.json.gz\n",
      "/Product_leboxgourmet.com_September2020.json.gz\n",
      "/Product_lakeside-bikes.com_September2020.json.gz\n"
     ]
    },
    {
     "name": "stderr",
     "output_type": "stream",
     "text": [
      " 31% (502 of 1614) |######               | Elapsed Time: 0:00:48 ETA:   0:01:46"
     ]
    },
    {
     "name": "stdout",
     "output_type": "stream",
     "text": [
      "/Product_cellnetonline.com_September2020.json.gz\n",
      "/Product_gabelbros.com_September2020.json.gz\n",
      "/Product_impulsestate.com_September2020.json.gz\n",
      "/Product_pearluno.com_September2020.json.gz\n",
      "/Product_leather4ever.com_September2020.json.gz\n",
      "/Product_holstandlee.com_September2020.json.gz\n",
      "/Product_methowcyclesport.com_September2020.json.gz\n"
     ]
    },
    {
     "name": "stderr",
     "output_type": "stream",
     "text": [
      "\r",
      " 31% (506 of 1614) |######               | Elapsed Time: 0:00:48 ETA:   0:01:39"
     ]
    },
    {
     "name": "stdout",
     "output_type": "stream",
     "text": [
      "/Product_bikeworkskona.com_September2020.json.gz\n"
     ]
    },
    {
     "name": "stderr",
     "output_type": "stream",
     "text": [
      " 31% (510 of 1614) |######               | Elapsed Time: 0:00:48 ETA:   0:01:36"
     ]
    },
    {
     "name": "stdout",
     "output_type": "stream",
     "text": [
      "/Product_detectorpower.com_September2020.json.gz\n",
      "/Product_ligayaflowers.com_September2020.json.gz\n",
      "/Product_paintedcolorceramics.com_September2020.json.gz\n",
      "/Product_thehuntressny.com_September2020.json.gz\n",
      "/Product_camerasolutionsinc.com_September2020.json.gz\n"
     ]
    },
    {
     "name": "stderr",
     "output_type": "stream",
     "text": [
      "\r",
      " 31% (514 of 1614) |######               | Elapsed Time: 0:00:49 ETA:   0:01:21"
     ]
    },
    {
     "name": "stdout",
     "output_type": "stream",
     "text": [
      "/Product_farmaciaspasteur.com.co_September2020.json.gz\n",
      "/Product_skyland.com.bd_September2020.json.gz\n",
      "/Product_hiketech.com.au_September2020.json.gz\n",
      "/Product_drhome-auto.com_September2020.json.gz\n",
      "/Product_ridgelinebikenski.com_September2020.json.gz\n"
     ]
    },
    {
     "name": "stderr",
     "output_type": "stream",
     "text": [
      " 32% (518 of 1614) |######               | Elapsed Time: 0:00:49 ETA:   0:01:15"
     ]
    },
    {
     "name": "stdout",
     "output_type": "stream",
     "text": [
      "/Product_oldtownbicycle.com_September2020.json.gz\n",
      "/Product_skydiamondco.com_September2020.json.gz\n"
     ]
    },
    {
     "name": "stderr",
     "output_type": "stream",
     "text": [
      " 32% (521 of 1614) |######               | Elapsed Time: 0:00:49 ETA:   0:01:10"
     ]
    },
    {
     "name": "stdout",
     "output_type": "stream",
     "text": [
      "/Product_infoprec.com_September2020.json.gz\n",
      "/Product_tcrunningco.com_September2020.json.gz\n",
      "/Product_laptopsdirect.co.uk_September2020.json.gz\n"
     ]
    },
    {
     "name": "stderr",
     "output_type": "stream",
     "text": [
      "\r",
      " 32% (522 of 1614) |######               | Elapsed Time: 0:00:49 ETA:   0:01:13"
     ]
    },
    {
     "name": "stdout",
     "output_type": "stream",
     "text": [
      "/Product_bicycleworldrgv.com_September2020.json.gz\n",
      "/Product_wheelworks.com_September2020.json.gz\n"
     ]
    },
    {
     "name": "stderr",
     "output_type": "stream",
     "text": [
      " 32% (526 of 1614) |######               | Elapsed Time: 0:00:50 ETA:   0:01:17"
     ]
    },
    {
     "name": "stdout",
     "output_type": "stream",
     "text": [
      "/Product_phototech.com.br_September2020.json.gz\n",
      "/Product_explorebeavertail.com_September2020.json.gz\n",
      "/Product_divadeejboutique.com_September2020.json.gz\n",
      "/Product_bargainfotos.com_September2020.json.gz\n"
     ]
    },
    {
     "name": "stderr",
     "output_type": "stream",
     "text": [
      " 32% (530 of 1614) |######               | Elapsed Time: 0:00:50 ETA:   0:01:22"
     ]
    },
    {
     "name": "stdout",
     "output_type": "stream",
     "text": [
      "/Product_prettyclickcosmetics.com_September2020.json.gz\n",
      "/Product_boutiquepassecompose.com_September2020.json.gz\n",
      "/Product_fabactive.com_September2020.json.gz\n"
     ]
    },
    {
     "name": "stderr",
     "output_type": "stream",
     "text": [
      " 32% (532 of 1614) |######               | Elapsed Time: 0:00:50 ETA:   0:01:23"
     ]
    },
    {
     "name": "stdout",
     "output_type": "stream",
     "text": [
      "/Product_vesuviustreamline.com_September2020.json.gz\n",
      "/Product_hsamuel.co.uk_September2020.json.gz\n"
     ]
    },
    {
     "name": "stderr",
     "output_type": "stream",
     "text": [
      " 33% (534 of 1614) |######               | Elapsed Time: 0:00:50 ETA:   0:01:24"
     ]
    },
    {
     "name": "stdout",
     "output_type": "stream",
     "text": [
      "/Product_almokhtaroptics.com_September2020.json.gz\n",
      "/Product_sweetcanes.com_September2020.json.gz\n",
      "/Product_atlantatrek.com_September2020.json.gz\n"
     ]
    },
    {
     "name": "stderr",
     "output_type": "stream",
     "text": [
      " 33% (539 of 1614) |#######              | Elapsed Time: 0:00:51 ETA:   0:01:30"
     ]
    },
    {
     "name": "stdout",
     "output_type": "stream",
     "text": [
      "/Product_freespirithair.co.uk_September2020.json.gz\n",
      "/Product_azmediquip.com_September2020.json.gz\n",
      "/Product_eczadan.net_September2020.json.gz\n",
      "/Product_saraappliance.com_September2020.json.gz\n",
      "/Product_thompson-jewelers.com_September2020.json.gz\n",
      "/Product_miomiorun.com_September2020.json.gz\n"
     ]
    },
    {
     "name": "stderr",
     "output_type": "stream",
     "text": [
      " 33% (544 of 1614) |#######              | Elapsed Time: 0:00:51 ETA:   0:01:25"
     ]
    },
    {
     "name": "stdout",
     "output_type": "stream",
     "text": [
      "/Product_atlas-tile.com_September2020.json.gz\n",
      "/Product_demetrejewelers.com_September2020.json.gz\n",
      "/Product_biggscameraused.com_September2020.json.gz\n",
      "/Product_supergo.com_September2020.json.gz\n"
     ]
    },
    {
     "name": "stderr",
     "output_type": "stream",
     "text": [
      " 34% (549 of 1614) |#######              | Elapsed Time: 0:00:51 ETA:   0:01:19"
     ]
    },
    {
     "name": "stdout",
     "output_type": "stream",
     "text": [
      "/Product_oncentrejp.com_September2020.json.gz\n",
      "/Product_counterassaulttech.com_September2020.json.gz\n",
      "/Product_avertek.com.sg_September2020.json.gz\n",
      "/Product_waadtappliance.com_September2020.json.gz\n"
     ]
    },
    {
     "name": "stderr",
     "output_type": "stream",
     "text": [
      " 34% (552 of 1614) |#######              | Elapsed Time: 0:00:51 ETA:   0:01:13"
     ]
    },
    {
     "name": "stdout",
     "output_type": "stream",
     "text": [
      "/Product_aurorasapothecary.com_September2020.json.gz\n",
      "/Product_nouglyfloors.com_September2020.json.gz\n",
      "/Product_camerok.com_September2020.json.gz\n"
     ]
    },
    {
     "name": "stderr",
     "output_type": "stream",
     "text": [
      " 34% (556 of 1614) |#######              | Elapsed Time: 0:00:52 ETA:   0:01:11"
     ]
    },
    {
     "name": "stdout",
     "output_type": "stream",
     "text": [
      "/Product_hearthandcook.com_September2020.json.gz\n",
      "/Product_bellaphoto.com.br_September2020.json.gz\n",
      "/Product_billandpauls.com_September2020.json.gz\n",
      "/Product_jbl.com_September2020.json.gz\n"
     ]
    },
    {
     "name": "stderr",
     "output_type": "stream",
     "text": [
      " 34% (559 of 1614) |#######              | Elapsed Time: 0:00:52 ETA:   0:01:16"
     ]
    },
    {
     "name": "stdout",
     "output_type": "stream",
     "text": [
      "/Product_dahlkempers.com_September2020.json.gz\n",
      "/Product_lassana.com_September2020.json.gz\n",
      "/Product_fireworksfoods.com.au_September2020.json.gz\n",
      "/Product_notjussouthern.com_September2020.json.gz\n",
      "/Product_riegelmanns.com_September2020.json.gz\n"
     ]
    },
    {
     "name": "stderr",
     "output_type": "stream",
     "text": [
      "\r",
      " 34% (563 of 1614) |#######              | Elapsed Time: 0:00:52 ETA:   0:01:13"
     ]
    },
    {
     "name": "stdout",
     "output_type": "stream",
     "text": [
      "/Product_electrical-deals.co.uk_September2020.json.gz\n",
      "/Product_garminssa.com_September2020.json.gz\n",
      "/Product_faithchapelsd.com_September2020.json.gz\n",
      "/Product_comms-express.com_September2020.json.gz\n"
     ]
    },
    {
     "name": "stderr",
     "output_type": "stream",
     "text": [
      "\r",
      " 35% (566 of 1614) |#######              | Elapsed Time: 0:00:52 ETA:   0:01:08"
     ]
    },
    {
     "name": "stdout",
     "output_type": "stream",
     "text": [
      "/Product_pvtek.com.vn_September2020.json.gz\n",
      "/Product_hamradiodesigns.co.uk_September2020.json.gz\n",
      "/Product_farmaciagt.com_September2020.json.gz\n"
     ]
    },
    {
     "name": "stderr",
     "output_type": "stream",
     "text": [
      "\r",
      " 35% (569 of 1614) |#######              | Elapsed Time: 0:00:53 ETA:   0:01:09"
     ]
    },
    {
     "name": "stdout",
     "output_type": "stream",
     "text": [
      "/Product_armarinhosaojose.com.br_September2020.json.gz\n"
     ]
    },
    {
     "name": "stderr",
     "output_type": "stream",
     "text": [
      "\r",
      " 35% (570 of 1614) |#######              | Elapsed Time: 0:00:53 ETA:   0:01:20"
     ]
    },
    {
     "name": "stdout",
     "output_type": "stream",
     "text": [
      "/Product_carpetconceptsonline.com_September2020.json.gz\n",
      "/Product_aldodesigngroup.com_September2020.json.gz\n",
      "/Product_bouldercyclesport.com_September2020.json.gz\n"
     ]
    },
    {
     "name": "stderr",
     "output_type": "stream",
     "text": [
      " 35% (575 of 1614) |#######              | Elapsed Time: 0:00:53 ETA:   0:01:26"
     ]
    },
    {
     "name": "stdout",
     "output_type": "stream",
     "text": [
      "/Product_bnetsafety.com_September2020.json.gz\n",
      "/Product_us-appliance.com_September2020.json.gz\n",
      "/Product_straitfloors.com_September2020.json.gz\n"
     ]
    },
    {
     "name": "stderr",
     "output_type": "stream",
     "text": [
      "\r",
      " 35% (578 of 1614) |#######              | Elapsed Time: 0:00:54 ETA:   0:01:22"
     ]
    },
    {
     "name": "stdout",
     "output_type": "stream",
     "text": [
      "/Product_storegermany.com_September2020.json.gz\n",
      "/Product_royalwinemerchants.com_September2020.json.gz\n",
      "/Product_tweakers.net_September2020.json.gz\n"
     ]
    },
    {
     "name": "stderr",
     "output_type": "stream",
     "text": [
      " 35% (581 of 1614) |#######              | Elapsed Time: 0:00:54 ETA:   0:01:26"
     ]
    },
    {
     "name": "stdout",
     "output_type": "stream",
     "text": [
      "/Product_workhorsebicycles.com_September2020.json.gz\n",
      "/Product_americanfreight.com_September2020.json.gz\n",
      "/Product_thepalmbeachprinter.com_September2020.json.gz\n",
      "/Product_authogar.com_September2020.json.gz\n"
     ]
    },
    {
     "name": "stderr",
     "output_type": "stream",
     "text": [
      " 36% (585 of 1614) |#######              | Elapsed Time: 0:00:54 ETA:   0:01:22"
     ]
    },
    {
     "name": "stdout",
     "output_type": "stream",
     "text": [
      "/Product_netplus.com.au_September2020.json.gz\n",
      "/Product_43einhalb.com_September2020.json.gz\n",
      "/Product_ideepreziose.com_September2020.json.gz\n"
     ]
    },
    {
     "name": "stderr",
     "output_type": "stream",
     "text": [
      " 36% (589 of 1614) |#######              | Elapsed Time: 0:00:54 ETA:   0:01:22"
     ]
    },
    {
     "name": "stdout",
     "output_type": "stream",
     "text": [
      "/Product_pcsimple.net_September2020.json.gz\n",
      "/Product_cctvwholesales.co.uk_September2020.json.gz\n",
      "/Product_camerahouse.com.au_September2020.json.gz\n",
      "/Product_laced.co.uk_September2020.json.gz\n"
     ]
    },
    {
     "name": "stderr",
     "output_type": "stream",
     "text": [
      "\r",
      " 36% (591 of 1614) |#######              | Elapsed Time: 0:00:55 ETA:   0:01:27"
     ]
    },
    {
     "name": "stdout",
     "output_type": "stream",
     "text": [
      "/Product_prodirectrugby.com_September2020.json.gz\n",
      "/Product_stenata.com_September2020.json.gz\n"
     ]
    },
    {
     "name": "stderr",
     "output_type": "stream",
     "text": [
      " 36% (595 of 1614) |#######              | Elapsed Time: 0:00:55 ETA:   0:01:22"
     ]
    },
    {
     "name": "stdout",
     "output_type": "stream",
     "text": [
      "/Product_rosevillehyundai.com_September2020.json.gz\n",
      "/Product_teknostore.com_September2020.json.gz\n",
      "/Product_kpodj.com_September2020.json.gz\n",
      "/Product_connectec.uk_September2020.json.gz\n"
     ]
    },
    {
     "name": "stderr",
     "output_type": "stream",
     "text": [
      "\r",
      " 37% (598 of 1614) |#######              | Elapsed Time: 0:00:55 ETA:   0:01:20"
     ]
    },
    {
     "name": "stdout",
     "output_type": "stream",
     "text": [
      "/Product_billywoodappliance.com_September2020.json.gz\n",
      "/Product_ubcbike.com_September2020.json.gz\n",
      "/Product_guardiangraphixca.com_September2020.json.gz\n",
      "/Product_therobustolive.com_September2020.json.gz\n",
      "/Product_habibishomemedical.com_September2020.json.gz\n"
     ]
    },
    {
     "name": "stderr",
     "output_type": "stream",
     "text": [
      "\r",
      " 37% (602 of 1614) |#######              | Elapsed Time: 0:00:55 ETA:   0:01:13"
     ]
    },
    {
     "name": "stdout",
     "output_type": "stream",
     "text": [
      "/Product_athletesportsworld.com_September2020.json.gz\n",
      "/Product_boardtownbikes.com_September2020.json.gz\n"
     ]
    },
    {
     "name": "stderr",
     "output_type": "stream",
     "text": [
      " 37% (605 of 1614) |#######              | Elapsed Time: 0:00:56 ETA:   0:01:16"
     ]
    },
    {
     "name": "stdout",
     "output_type": "stream",
     "text": [
      "/Product_chainreactionga.com_September2020.json.gz\n",
      "/Product_gigante.co.uk_September2020.json.gz\n",
      "/Product_buygiftforher.com_September2020.json.gz\n",
      "/Product_gro-zone.co.uk_September2020.json.gz\n",
      "/Product_bikestoponline.com_September2020.json.gz\n"
     ]
    },
    {
     "name": "stderr",
     "output_type": "stream",
     "text": [
      "\r",
      " 37% (608 of 1614) |#######              | Elapsed Time: 0:00:56 ETA:   0:01:16"
     ]
    },
    {
     "name": "stdout",
     "output_type": "stream",
     "text": [
      "/Product_gibert.com_September2020.json.gz\n"
     ]
    },
    {
     "name": "stderr",
     "output_type": "stream",
     "text": [
      "\r",
      " 37% (609 of 1614) |#######              | Elapsed Time: 0:00:56 ETA:   0:01:25"
     ]
    },
    {
     "name": "stdout",
     "output_type": "stream",
     "text": [
      "/Product_vectorstock.com_September2020.json.gz\n"
     ]
    },
    {
     "name": "stderr",
     "output_type": "stream",
     "text": [
      " 37% (612 of 1614) |#######              | Elapsed Time: 0:00:59 ETA:   0:17:32"
     ]
    },
    {
     "name": "stdout",
     "output_type": "stream",
     "text": [
      "/Product_flyingowl.com_September2020.json.gz\n",
      "/Product_getice.com_September2020.json.gz\n",
      "/Product_stacyluzzi.com_September2020.json.gz\n",
      "/Product_brownapplianceandmattress.com_September2020.json.gz\n"
     ]
    },
    {
     "name": "stderr",
     "output_type": "stream",
     "text": [
      " 38% (616 of 1614) |########             | Elapsed Time: 0:01:00 ETA:   0:09:07"
     ]
    },
    {
     "name": "stdout",
     "output_type": "stream",
     "text": [
      "/Product_lifemiles.com_September2020.json.gz\n",
      "/Product_cloud10beauty.com_September2020.json.gz\n",
      "/Product_cam4sell.com_September2020.json.gz\n"
     ]
    },
    {
     "name": "stderr",
     "output_type": "stream",
     "text": [
      "\r",
      " 38% (618 of 1614) |########             | Elapsed Time: 0:01:00 ETA:   0:07:21"
     ]
    },
    {
     "name": "stdout",
     "output_type": "stream",
     "text": [
      "/Product_helenscycles.com_September2020.json.gz\n",
      "/Product_sanfordcarpet.com_September2020.json.gz\n",
      "/Product_pcsuppliesuk.com_September2020.json.gz\n",
      "/Product_freens-sup.com_September2020.json.gz\n"
     ]
    },
    {
     "name": "stderr",
     "output_type": "stream",
     "text": [
      "\r",
      " 38% (622 of 1614) |########             | Elapsed Time: 0:01:00 ETA:   0:05:26"
     ]
    },
    {
     "name": "stdout",
     "output_type": "stream",
     "text": [
      "/Product_mankind.co.uk_September2020.json.gz\n",
      "/Product_sistyon.com_September2020.json.gz\n"
     ]
    },
    {
     "name": "stderr",
     "output_type": "stream",
     "text": [
      "\r",
      " 38% (624 of 1614) |########             | Elapsed Time: 0:01:01 ETA:   0:04:50"
     ]
    },
    {
     "name": "stdout",
     "output_type": "stream",
     "text": [
      "/Product_cycleryusa.com_September2020.json.gz\n",
      "/Product_letsbeholistic.com_September2020.json.gz\n",
      "/Product_columbusrunning.com_September2020.json.gz\n",
      "/Product_netechsolutionsllc.com_September2020.json.gz\n",
      "/Product_ddflooring.com_September2020.json.gz\n"
     ]
    },
    {
     "name": "stderr",
     "output_type": "stream",
     "text": [
      " 38% (629 of 1614) |########             | Elapsed Time: 0:01:01 ETA:   0:03:49"
     ]
    },
    {
     "name": "stdout",
     "output_type": "stream",
     "text": [
      "/Product_tissotwatches.com_September2020.json.gz\n",
      "/Product_monparfumdirect.com_September2020.json.gz\n",
      "/Product_blinkqa.com_September2020.json.gz\n"
     ]
    },
    {
     "name": "stderr",
     "output_type": "stream",
     "text": [
      "\r",
      " 39% (632 of 1614) |########             | Elapsed Time: 0:01:01 ETA:   0:03:26"
     ]
    },
    {
     "name": "stdout",
     "output_type": "stream",
     "text": [
      "/Product_jaysappliances.com_September2020.json.gz\n",
      "/Product_camerton99.com_September2020.json.gz\n",
      "/Product_droneassemble.com_September2020.json.gz\n"
     ]
    },
    {
     "name": "stderr",
     "output_type": "stream",
     "text": [
      " 39% (636 of 1614) |########             | Elapsed Time: 0:01:01 ETA:   0:01:17"
     ]
    },
    {
     "name": "stdout",
     "output_type": "stream",
     "text": [
      "/Product_shop4indonesia.com_September2020.json.gz\n",
      "/Product_shaysappliance.com_September2020.json.gz\n",
      "/Product_onguardprotectionproducts.com_September2020.json.gz\n",
      "/Product_hollandbikes.com_September2020.json.gz\n"
     ]
    },
    {
     "name": "stderr",
     "output_type": "stream",
     "text": [
      "\r",
      " 39% (640 of 1614) |########             | Elapsed Time: 0:01:01 ETA:   0:01:12"
     ]
    },
    {
     "name": "stdout",
     "output_type": "stream",
     "text": [
      "/Product_mtcfactoryoutlet.com_September2020.json.gz\n",
      "/Product_bluewaterphotostore.com_September2020.json.gz\n",
      "/Product_jdsound.com.au_September2020.json.gz\n",
      "/Product_sabinocycles.com_September2020.json.gz\n"
     ]
    },
    {
     "name": "stderr",
     "output_type": "stream",
     "text": [
      " 39% (644 of 1614) |########             | Elapsed Time: 0:01:02 ETA:   0:01:11"
     ]
    },
    {
     "name": "stdout",
     "output_type": "stream",
     "text": [
      "/Product_comfortcarpets.com_September2020.json.gz\n",
      "/Product_lambcotvandappliance.com_September2020.json.gz\n",
      "/Product_impacteverything.org_September2020.json.gz\n",
      "/Product_fotoruanopro.com_September2020.json.gz\n"
     ]
    },
    {
     "name": "stderr",
     "output_type": "stream",
     "text": [
      "\r",
      " 40% (646 of 1614) |########             | Elapsed Time: 0:01:02 ETA:   0:01:02"
     ]
    },
    {
     "name": "stdout",
     "output_type": "stream",
     "text": [
      "/Product_basilfredonia.com_September2020.json.gz\n",
      "/Product_sunandski.com_September2020.json.gz\n"
     ]
    },
    {
     "name": "stderr",
     "output_type": "stream",
     "text": [
      "\r",
      " 40% (648 of 1614) |########             | Elapsed Time: 0:01:02 ETA:   0:01:02"
     ]
    },
    {
     "name": "stdout",
     "output_type": "stream",
     "text": [
      "/Product_swearygoods.com_September2020.json.gz\n",
      "/Product_bicyclechain.com_September2020.json.gz\n"
     ]
    },
    {
     "name": "stderr",
     "output_type": "stream",
     "text": [
      "\r",
      " 40% (650 of 1614) |########             | Elapsed Time: 0:01:02 ETA:   0:01:04"
     ]
    },
    {
     "name": "stdout",
     "output_type": "stream",
     "text": [
      "/Product_fragrances2go.co.uk_September2020.json.gz\n",
      "/Product_databazaar.com_September2020.json.gz\n"
     ]
    },
    {
     "name": "stderr",
     "output_type": "stream",
     "text": [
      " 40% (657 of 1614) |########             | Elapsed Time: 0:01:03 ETA:   0:01:08"
     ]
    },
    {
     "name": "stdout",
     "output_type": "stream",
     "text": [
      "/Product_briansflooring.net_September2020.json.gz\n",
      "/Product_michtile.com_September2020.json.gz\n",
      "/Product_injectelixir.com_September2020.json.gz\n",
      "/Product_replicadungeon.com_September2020.json.gz\n",
      "/Product_ozsupplycentre.com.au_September2020.json.gz\n",
      "/Product_silverbackprotectionproducts.com_September2020.json.gz\n"
     ]
    },
    {
     "name": "stderr",
     "output_type": "stream",
     "text": [
      "\r",
      " 40% (661 of 1614) |########             | Elapsed Time: 0:01:03 ETA:   0:01:03"
     ]
    },
    {
     "name": "stdout",
     "output_type": "stream",
     "text": [
      "/Product_supplementxpress.com_September2020.json.gz\n",
      "/Product_americanflooringyulee.com_September2020.json.gz\n",
      "/Product_genestvandappliance.com_September2020.json.gz\n",
      "/Product_speedriverbicycle.com_September2020.json.gz\n"
     ]
    },
    {
     "name": "stderr",
     "output_type": "stream",
     "text": [
      " 41% (664 of 1614) |########             | Elapsed Time: 0:01:03 ETA:   0:01:05"
     ]
    },
    {
     "name": "stdout",
     "output_type": "stream",
     "text": [
      "/Product_theappliancecenter.net_September2020.json.gz\n",
      "/Product_tonkacycleandski.com_September2020.json.gz\n",
      "/Product_cachepot.com_September2020.json.gz\n",
      "/Product_wheelaway.com_September2020.json.gz\n"
     ]
    },
    {
     "name": "stderr",
     "output_type": "stream",
     "text": [
      " 41% (669 of 1614) |########             | Elapsed Time: 0:01:03 ETA:   0:01:07"
     ]
    },
    {
     "name": "stdout",
     "output_type": "stream",
     "text": [
      "/Product_speechproducts.co.uk_September2020.json.gz\n",
      "/Product_summerlinfloors.com_September2020.json.gz\n",
      "/Product_victoryvelo.com_September2020.json.gz\n",
      "/Product_proteusbicycles.com_September2020.json.gz\n"
     ]
    },
    {
     "name": "stderr",
     "output_type": "stream",
     "text": [
      " 41% (672 of 1614) |########             | Elapsed Time: 0:01:04 ETA:   0:01:14"
     ]
    },
    {
     "name": "stdout",
     "output_type": "stream",
     "text": [
      "/Product_jose-candido.com_September2020.json.gz\n",
      "/Product_northvivor.com_September2020.json.gz\n",
      "/Product_rickhendrickchevroletnorfolk.com_September2020.json.gz\n",
      "/Product_actflooring.com_September2020.json.gz\n"
     ]
    },
    {
     "name": "stderr",
     "output_type": "stream",
     "text": [
      "\r",
      " 41% (675 of 1614) |########             | Elapsed Time: 0:01:04 ETA:   0:01:09"
     ]
    },
    {
     "name": "stdout",
     "output_type": "stream",
     "text": [
      "/Product_extremeoutfitters.com_September2020.json.gz\n",
      "/Product_drogasil.com.br_September2020.json.gz\n"
     ]
    },
    {
     "name": "stderr",
     "output_type": "stream",
     "text": [
      "\r",
      " 41% (676 of 1614) |########             | Elapsed Time: 0:01:04 ETA:   0:01:10"
     ]
    },
    {
     "name": "stdout",
     "output_type": "stream",
     "text": [
      "/Product_pepper-mill.com_September2020.json.gz\n",
      "/Product_comptoirjoffrin.com_September2020.json.gz\n"
     ]
    },
    {
     "name": "stderr",
     "output_type": "stream",
     "text": [
      " 42% (681 of 1614) |########             | Elapsed Time: 0:01:05 ETA:   0:01:08"
     ]
    },
    {
     "name": "stdout",
     "output_type": "stream",
     "text": [
      "/Product_fitzrovia.com.ar_September2020.json.gz\n",
      "/Product_buythesneaker.com_September2020.json.gz\n",
      "/Product_hutchseugene.com_September2020.json.gz\n",
      "/Product_cidalia-cabeleireiros.com_September2020.json.gz\n",
      "/Product_slickdiscmusic.com_September2020.json.gz\n"
     ]
    },
    {
     "name": "stderr",
     "output_type": "stream",
     "text": [
      " 42% (685 of 1614) |########             | Elapsed Time: 0:01:05 ETA:   0:01:07"
     ]
    },
    {
     "name": "stdout",
     "output_type": "stream",
     "text": [
      "/Product_shopkees.com_September2020.json.gz\n",
      "/Product_hollimansgunshop.com.au_September2020.json.gz\n",
      "/Product_reserbicycle.com_September2020.json.gz\n"
     ]
    },
    {
     "name": "stderr",
     "output_type": "stream",
     "text": [
      " 42% (688 of 1614) |########             | Elapsed Time: 0:01:05 ETA:   0:01:17"
     ]
    },
    {
     "name": "stdout",
     "output_type": "stream",
     "text": [
      "/Product_floorcw.com_September2020.json.gz\n",
      "/Product_timeshop24.com_September2020.json.gz\n",
      "/Product_thediscdjstore.com_September2020.json.gz\n"
     ]
    },
    {
     "name": "stderr",
     "output_type": "stream",
     "text": [
      "\r",
      " 42% (690 of 1614) |########             | Elapsed Time: 0:01:05 ETA:   0:01:17"
     ]
    },
    {
     "name": "stdout",
     "output_type": "stream",
     "text": [
      "/Product_piratescave.co.uk_September2020.json.gz\n",
      "/Product_southwestbikes.com_September2020.json.gz\n"
     ]
    },
    {
     "name": "stderr",
     "output_type": "stream",
     "text": [
      " 42% (694 of 1614) |#########            | Elapsed Time: 0:01:06 ETA:   0:01:19"
     ]
    },
    {
     "name": "stdout",
     "output_type": "stream",
     "text": [
      "/Product_inlandsurf.com.au_September2020.json.gz\n",
      "/Product_mountaincitycycles.com_September2020.json.gz\n",
      "/Product_thornybastards.com_September2020.json.gz\n",
      "/Product_505cycles.com_September2020.json.gz\n"
     ]
    },
    {
     "name": "stderr",
     "output_type": "stream",
     "text": [
      " 43% (698 of 1614) |#########            | Elapsed Time: 0:01:06 ETA:   0:01:08"
     ]
    },
    {
     "name": "stdout",
     "output_type": "stream",
     "text": [
      "/Product_laroche-posay.com.hr_September2020.json.gz\n",
      "/Product_dermomarket.com_September2020.json.gz\n",
      "/Product_takeawaypackaging.co.uk_September2020.json.gz\n",
      "/Product_carpetworldbismarck.com_September2020.json.gz\n",
      "/Product_amickhomecenter.com_September2020.json.gz\n",
      "/Product_soundlight.com.au_September2020.json.gz\n"
     ]
    },
    {
     "name": "stderr",
     "output_type": "stream",
     "text": [
      " 43% (704 of 1614) |#########            | Elapsed Time: 0:01:06 ETA:   0:01:05"
     ]
    },
    {
     "name": "stdout",
     "output_type": "stream",
     "text": [
      "/Product_fivestarbuy.com_September2020.json.gz\n",
      "/Product_headhunterssmokeshop.com_September2020.json.gz\n",
      "/Product_centrepowersports.com_September2020.json.gz\n",
      "/Product_vpiera.com_September2020.json.gz\n"
     ]
    },
    {
     "name": "stderr",
     "output_type": "stream",
     "text": [
      "\r",
      " 43% (705 of 1614) |#########            | Elapsed Time: 0:01:06 ETA:   0:01:03"
     ]
    },
    {
     "name": "stdout",
     "output_type": "stream",
     "text": [
      "/Product_kanarygifts.com_September2020.json.gz\n",
      "/Product_techtrot.com_September2020.json.gz\n",
      "/Product_hardwaresuche.com_September2020.json.gz\n"
     ]
    },
    {
     "name": "stderr",
     "output_type": "stream",
     "text": [
      " 44% (712 of 1614) |#########            | Elapsed Time: 0:01:07 ETA:   0:01:03"
     ]
    },
    {
     "name": "stdout",
     "output_type": "stream",
     "text": [
      "/Product_southmountaingirls.com_September2020.json.gz\n",
      "/Product_alcamo.net_September2020.json.gz\n",
      "/Product_apex-dst.uk_September2020.json.gz\n",
      "/Product_rbmofatlanta.com_September2020.json.gz\n",
      "/Product_sotrix.com_September2020.json.gz\n",
      "/Product_theforumstore.co.uk_September2020.json.gz\n",
      "/Product_cestbeauoui.com_September2020.json.gz\n"
     ]
    },
    {
     "name": "stderr",
     "output_type": "stream",
     "text": [
      " 44% (718 of 1614) |#########            | Elapsed Time: 0:01:07 ETA:   0:00:57"
     ]
    },
    {
     "name": "stdout",
     "output_type": "stream",
     "text": [
      "/Product_abcquiltingstudio.com_September2020.json.gz\n",
      "/Product_hc.com.vn_September2020.json.gz\n",
      "/Product_buywaiwai.com_September2020.json.gz\n",
      "/Product_blackbeardsrestaurant.net_September2020.json.gz\n",
      "/Product_banleong.com_September2020.json.gz\n",
      "/Product_panasonic.com_September2020.json.gz\n"
     ]
    },
    {
     "name": "stderr",
     "output_type": "stream",
     "text": [
      " 44% (725 of 1614) |#########            | Elapsed Time: 0:01:07 ETA:   0:00:48"
     ]
    },
    {
     "name": "stdout",
     "output_type": "stream",
     "text": [
      "/Product_thewildvine.com.au_September2020.json.gz\n",
      "/Product_blinkae.com_September2020.json.gz\n",
      "/Product_mammothbikes.com_September2020.json.gz\n",
      "/Product_coloradocyclist.com_September2020.json.gz\n",
      "/Product_caddies-nyc.com_September2020.json.gz\n",
      "/Product_untumble.com_September2020.json.gz\n"
     ]
    },
    {
     "name": "stderr",
     "output_type": "stream",
     "text": [
      "\r",
      " 45% (727 of 1614) |#########            | Elapsed Time: 0:01:07 ETA:   0:00:49"
     ]
    },
    {
     "name": "stdout",
     "output_type": "stream",
     "text": [
      "/Product_bikebarn.com_September2020.json.gz\n"
     ]
    },
    {
     "name": "stderr",
     "output_type": "stream",
     "text": [
      " 45% (731 of 1614) |#########            | Elapsed Time: 0:01:08 ETA:   0:00:48"
     ]
    },
    {
     "name": "stdout",
     "output_type": "stream",
     "text": [
      "/Product_fakemeats.com_September2020.json.gz\n",
      "/Product_carpetmillmoscow.com_September2020.json.gz\n",
      "/Product_proskiservice.com_September2020.json.gz\n",
      "/Product_cottet.com_September2020.json.gz\n"
     ]
    },
    {
     "name": "stderr",
     "output_type": "stream",
     "text": [
      " 45% (736 of 1614) |#########            | Elapsed Time: 0:01:08 ETA:   0:00:53"
     ]
    },
    {
     "name": "stdout",
     "output_type": "stream",
     "text": [
      "/Product_pasadenacyclery.com_September2020.json.gz\n",
      "/Product_thunder.com.pl_September2020.json.gz\n",
      "/Product_discountnutritiontampa.com_September2020.json.gz\n",
      "/Product_thumuadonghohieu.com_September2020.json.gz\n",
      "/Product_riversidecycle.com_September2020.json.gz\n"
     ]
    },
    {
     "name": "stderr",
     "output_type": "stream",
     "text": [
      " 45% (739 of 1614) |#########            | Elapsed Time: 0:01:08 ETA:   0:00:53"
     ]
    },
    {
     "name": "stdout",
     "output_type": "stream",
     "text": [
      "/Product_crooze.com.au_September2020.json.gz\n",
      "/Product_reedssports.com_September2020.json.gz\n",
      "/Product_kuldi.net_September2020.json.gz\n",
      "/Product_zsmartbuy.com_September2020.json.gz\n"
     ]
    },
    {
     "name": "stderr",
     "output_type": "stream",
     "text": [
      "\r",
      " 45% (741 of 1614) |#########            | Elapsed Time: 0:01:08 ETA:   0:00:53"
     ]
    },
    {
     "name": "stdout",
     "output_type": "stream",
     "text": [
      "/Product_chillblast.com_September2020.json.gz\n",
      "/Product_3dcartstores.com_September2020.json.gz\n"
     ]
    },
    {
     "name": "stderr",
     "output_type": "stream",
     "text": [
      " 46% (744 of 1614) |#########            | Elapsed Time: 0:01:11 ETA:   0:13:13"
     ]
    },
    {
     "name": "stdout",
     "output_type": "stream",
     "text": [
      "/Product_locuradigital.com_September2020.json.gz\n",
      "/Product_shopmoment.com_September2020.json.gz\n"
     ]
    },
    {
     "name": "stderr",
     "output_type": "stream",
     "text": [
      "\r",
      " 46% (746 of 1614) |#########            | Elapsed Time: 0:01:11 ETA:   0:08:34"
     ]
    },
    {
     "name": "stdout",
     "output_type": "stream",
     "text": [
      "/Product_thebikehub.com_September2020.json.gz\n",
      "/Product_hhgregg.com_September2020.json.gz\n"
     ]
    },
    {
     "name": "stderr",
     "output_type": "stream",
     "text": [
      "\r",
      " 46% (748 of 1614) |#########            | Elapsed Time: 0:01:12 ETA:   0:06:20"
     ]
    },
    {
     "name": "stdout",
     "output_type": "stream",
     "text": [
      "/Product_namastesouqdubai.com_September2020.json.gz\n",
      "/Product_blackstarglobalsicc.com_September2020.json.gz\n",
      "/Product_littlegrubborchard.com_September2020.json.gz\n",
      "/Product_netvapes.com_September2020.json.gz\n",
      "/Product_spokeomotion.com_September2020.json.gz\n"
     ]
    },
    {
     "name": "stderr",
     "output_type": "stream",
     "text": [
      " 46% (754 of 1614) |#########            | Elapsed Time: 0:01:13 ETA:   0:03:45"
     ]
    },
    {
     "name": "stdout",
     "output_type": "stream",
     "text": [
      "/Product_kineticskateboarding.com_September2020.json.gz\n",
      "/Product_legitkit.com_September2020.json.gz\n",
      "/Product_proteinwise.com_September2020.json.gz\n"
     ]
    },
    {
     "name": "stderr",
     "output_type": "stream",
     "text": [
      " 46% (756 of 1614) |#########            | Elapsed Time: 0:01:14 ETA:   0:04:16"
     ]
    },
    {
     "name": "stdout",
     "output_type": "stream",
     "text": [
      "/Product_slippinggears.com_September2020.json.gz\n",
      "/Product_lilyatelier.com_September2020.json.gz\n",
      "/Product_colosishop.com_September2020.json.gz\n"
     ]
    },
    {
     "name": "stderr",
     "output_type": "stream",
     "text": [
      " 47% (759 of 1614) |#########            | Elapsed Time: 0:01:14 ETA:   0:03:10"
     ]
    },
    {
     "name": "stdout",
     "output_type": "stream",
     "text": [
      "/Product_nbxbikes.com_September2020.json.gz\n",
      "/Product_saglikreyonu.com_September2020.json.gz\n"
     ]
    },
    {
     "name": "stderr",
     "output_type": "stream",
     "text": [
      "\r",
      " 47% (761 of 1614) |#########            | Elapsed Time: 0:01:14 ETA:   0:02:48"
     ]
    },
    {
     "name": "stdout",
     "output_type": "stream",
     "text": [
      "/Product_thetruthbeautycompany.com_September2020.json.gz\n",
      "/Product_shopbuildersappliances.com_September2020.json.gz\n",
      "/Product_alkosto.com_September2020.json.gz\n"
     ]
    },
    {
     "name": "stderr",
     "output_type": "stream",
     "text": [
      " 47% (765 of 1614) |#########            | Elapsed Time: 0:01:14 ETA:   0:02:26"
     ]
    },
    {
     "name": "stdout",
     "output_type": "stream",
     "text": [
      "/Product_navgearthai.com_September2020.json.gz\n",
      "/Product_allsouthappliance.net_September2020.json.gz\n",
      "/Product_nordoorsports.com_September2020.json.gz\n"
     ]
    },
    {
     "name": "stderr",
     "output_type": "stream",
     "text": [
      "\r",
      " 47% (768 of 1614) |#########            | Elapsed Time: 0:01:15 ETA:   0:02:11"
     ]
    },
    {
     "name": "stdout",
     "output_type": "stream",
     "text": [
      "/Product_moon-audio.com_September2020.json.gz\n",
      "/Product_ramirezdecartagena.com_September2020.json.gz\n",
      "/Product_we-supply.com_September2020.json.gz\n"
     ]
    },
    {
     "name": "stderr",
     "output_type": "stream",
     "text": [
      " 47% (771 of 1614) |##########           | Elapsed Time: 0:01:15 ETA:   0:02:04"
     ]
    },
    {
     "name": "stdout",
     "output_type": "stream",
     "text": [
      "/Product_avacaremedical.com_September2020.json.gz\n",
      "/Product_daveshomesupply.com_September2020.json.gz\n",
      "/Product_biketechusa.com_September2020.json.gz\n"
     ]
    },
    {
     "name": "stderr",
     "output_type": "stream",
     "text": [
      " 48% (776 of 1614) |##########           | Elapsed Time: 0:01:15 ETA:   0:01:49"
     ]
    },
    {
     "name": "stdout",
     "output_type": "stream",
     "text": [
      "/Product_farmavip.com.ar_September2020.json.gz\n",
      "/Product_trekstoregulfcoast.com_September2020.json.gz\n",
      "/Product_servercase.co.uk_September2020.json.gz\n",
      "/Product_stanandpauls.com_September2020.json.gz\n",
      "/Product_narecza.com_September2020.json.gz\n"
     ]
    },
    {
     "name": "stderr",
     "output_type": "stream",
     "text": [
      " 48% (780 of 1614) |##########           | Elapsed Time: 0:01:15 ETA:   0:01:03"
     ]
    },
    {
     "name": "stdout",
     "output_type": "stream",
     "text": [
      "/Product_zerenadiaz.com_September2020.json.gz\n",
      "/Product_lantaubasecamp.com_September2020.json.gz\n",
      "/Product_joyeriamontero.com_September2020.json.gz\n",
      "/Product_biondivino.com_September2020.json.gz\n"
     ]
    },
    {
     "name": "stderr",
     "output_type": "stream",
     "text": [
      " 48% (783 of 1614) |##########           | Elapsed Time: 0:01:16 ETA:   0:01:03"
     ]
    },
    {
     "name": "stdout",
     "output_type": "stream",
     "text": [
      "/Product_latitudebooks.com.au_September2020.json.gz\n",
      "/Product_marysal-shop.com_September2020.json.gz\n",
      "/Product_farmaciasanchezcarbayo.com_September2020.json.gz\n",
      "/Product_crossroadbikes.com_September2020.json.gz\n"
     ]
    },
    {
     "name": "stderr",
     "output_type": "stream",
     "text": [
      " 48% (787 of 1614) |##########           | Elapsed Time: 0:01:16 ETA:   0:01:00"
     ]
    },
    {
     "name": "stdout",
     "output_type": "stream",
     "text": [
      "/Product_pestrol.com.au_September2020.json.gz\n",
      "/Product_paradrugs.com_September2020.json.gz\n",
      "/Product_onlinehealthfoodstore.co.uk_September2020.json.gz\n"
     ]
    },
    {
     "name": "stderr",
     "output_type": "stream",
     "text": [
      "\r",
      " 48% (789 of 1614) |##########           | Elapsed Time: 0:01:16 ETA:   0:01:03"
     ]
    },
    {
     "name": "stdout",
     "output_type": "stream",
     "text": [
      "/Product_spokesbikes.com_September2020.json.gz\n",
      "/Product_bikesourceonline.com_September2020.json.gz\n"
     ]
    },
    {
     "name": "stderr",
     "output_type": "stream",
     "text": [
      " 49% (792 of 1614) |##########           | Elapsed Time: 0:01:17 ETA:   0:01:03"
     ]
    },
    {
     "name": "stdout",
     "output_type": "stream",
     "text": [
      "/Product_besthifistore.com_September2020.json.gz\n",
      "/Product_runninglabstore.com_September2020.json.gz\n",
      "/Product_ninostrading.com_September2020.json.gz\n",
      "/Product_kikatek.com_September2020.json.gz\n"
     ]
    },
    {
     "name": "stderr",
     "output_type": "stream",
     "text": [
      " 49% (797 of 1614) |##########           | Elapsed Time: 0:01:17 ETA:   0:00:59"
     ]
    },
    {
     "name": "stdout",
     "output_type": "stream",
     "text": [
      "/Product_decorium.com_September2020.json.gz\n",
      "/Product_staugustineflooring.com_September2020.json.gz\n",
      "/Product_bentgate.com_September2020.json.gz\n",
      "/Product_workingperson.com_September2020.json.gz\n"
     ]
    },
    {
     "name": "stderr",
     "output_type": "stream",
     "text": [
      " 49% (799 of 1614) |##########           | Elapsed Time: 0:01:17 ETA:   0:01:15"
     ]
    },
    {
     "name": "stdout",
     "output_type": "stream",
     "text": [
      "/Product_vlcanada.com_September2020.json.gz\n",
      "/Product_anticoronakits.com_September2020.json.gz\n",
      "/Product_purple-cat.co.uk_September2020.json.gz\n",
      "/Product_dosbandidosart.com_September2020.json.gz\n",
      "/Product_nicetys.com_September2020.json.gz\n"
     ]
    },
    {
     "name": "stderr",
     "output_type": "stream",
     "text": [
      "\r",
      " 49% (803 of 1614) |##########           | Elapsed Time: 0:01:17 ETA:   0:01:05"
     ]
    },
    {
     "name": "stdout",
     "output_type": "stream",
     "text": [
      "/Product_dcrainmaker.com_September2020.json.gz\n",
      "/Product_ubaldi.com_September2020.json.gz\n"
     ]
    },
    {
     "name": "stderr",
     "output_type": "stream",
     "text": [
      " 49% (806 of 1614) |##########           | Elapsed Time: 0:01:18 ETA:   0:01:11"
     ]
    },
    {
     "name": "stdout",
     "output_type": "stream",
     "text": [
      "/Product_wgwheelworks.com_September2020.json.gz\n",
      "/Product_lemacurbain.com_September2020.json.gz\n",
      "/Product_jarrold.co.uk_September2020.json.gz\n"
     ]
    },
    {
     "name": "stderr",
     "output_type": "stream",
     "text": [
      " 50% (810 of 1614) |##########           | Elapsed Time: 0:01:18 ETA:   0:01:13"
     ]
    },
    {
     "name": "stdout",
     "output_type": "stream",
     "text": [
      "/Product_velocity-cycles.com_September2020.json.gz\n",
      "/Product_carpetsofamericalogan.com_September2020.json.gz\n",
      "/Product_store-belgie.com_September2020.json.gz\n",
      "/Product_thefreedomtrail.org_September2020.json.gz\n",
      "/Product_brickwheels.com_September2020.json.gz\n"
     ]
    },
    {
     "name": "stderr",
     "output_type": "stream",
     "text": [
      " 50% (815 of 1614) |##########           | Elapsed Time: 0:01:18 ETA:   0:01:05"
     ]
    },
    {
     "name": "stdout",
     "output_type": "stream",
     "text": [
      "/Product_blackparrotmaine.com_September2020.json.gz\n",
      "/Product_cardinalbikes.com_September2020.json.gz\n",
      "/Product_cherokeejewelry.com_September2020.json.gz\n",
      "/Product_cuttingedgewoodcreations.com_September2020.json.gz\n",
      "/Product_algarismosdesucessostore.com_September2020.json.gz\n"
     ]
    },
    {
     "name": "stderr",
     "output_type": "stream",
     "text": [
      " 50% (821 of 1614) |##########           | Elapsed Time: 0:01:19 ETA:   0:00:55"
     ]
    },
    {
     "name": "stdout",
     "output_type": "stream",
     "text": [
      "/Product_feeandtees.com_September2020.json.gz\n",
      "/Product_bicycleranchtucson.com_September2020.json.gz\n",
      "/Product_ttot.com.hk_September2020.json.gz\n",
      "/Product_lowcarbemporium.com.au_September2020.json.gz\n",
      "/Product_materiel.net_September2020.json.gz\n"
     ]
    },
    {
     "name": "stderr",
     "output_type": "stream",
     "text": [
      " 51% (824 of 1614) |##########           | Elapsed Time: 0:01:19 ETA:   0:01:06"
     ]
    },
    {
     "name": "stdout",
     "output_type": "stream",
     "text": [
      "/Product_encinabicyclecenters.com_September2020.json.gz\n",
      "/Product_storeaustria.com_September2020.json.gz\n"
     ]
    },
    {
     "name": "stderr",
     "output_type": "stream",
     "text": [
      "\r",
      " 51% (827 of 1614) |##########           | Elapsed Time: 0:01:19 ETA:   0:00:56"
     ]
    },
    {
     "name": "stdout",
     "output_type": "stream",
     "text": [
      "/Product_belletica.com_September2020.json.gz\n",
      "/Product_debikestore.com_September2020.json.gz\n",
      "/Product_azaraks.com.tr_September2020.json.gz\n",
      "/Product_beaverbrooks.co.uk_September2020.json.gz\n"
     ]
    },
    {
     "name": "stderr",
     "output_type": "stream",
     "text": [
      " 51% (830 of 1614) |##########           | Elapsed Time: 0:01:20 ETA:   0:01:05"
     ]
    },
    {
     "name": "stdout",
     "output_type": "stream",
     "text": [
      "/Product_eadobikeco.com_September2020.json.gz\n",
      "/Product_bydesigngems.com_September2020.json.gz\n",
      "/Product_apkgood.com_September2020.json.gz\n"
     ]
    },
    {
     "name": "stderr",
     "output_type": "stream",
     "text": [
      " 51% (834 of 1614) |##########           | Elapsed Time: 0:01:20 ETA:   0:01:00"
     ]
    },
    {
     "name": "stdout",
     "output_type": "stream",
     "text": [
      "/Product_getmyring.com_September2020.json.gz\n",
      "/Product_papa-wheelies.com_September2020.json.gz\n",
      "/Product_xatamy.com_September2020.json.gz\n",
      "/Product_thehubbikecoop.org_September2020.json.gz\n"
     ]
    },
    {
     "name": "stderr",
     "output_type": "stream",
     "text": [
      "\r",
      " 51% (836 of 1614) |##########           | Elapsed Time: 0:01:20 ETA:   0:01:08"
     ]
    },
    {
     "name": "stdout",
     "output_type": "stream",
     "text": [
      "/Product_goviperbaseball.com_September2020.json.gz\n",
      "/Product_7dayshop.com_September2020.json.gz\n"
     ]
    },
    {
     "name": "stderr",
     "output_type": "stream",
     "text": [
      " 52% (841 of 1614) |##########           | Elapsed Time: 0:01:21 ETA:   0:01:17"
     ]
    },
    {
     "name": "stdout",
     "output_type": "stream",
     "text": [
      "/Product_pivicdata.com_September2020.json.gz\n",
      "/Product_officebeaver.co.uk_September2020.json.gz\n",
      "/Product_hodginsappliance.com_September2020.json.gz\n",
      "/Product_barrettfloorsaz.com_September2020.json.gz\n",
      "/Product_primeself-defense.com_September2020.json.gz\n"
     ]
    },
    {
     "name": "stderr",
     "output_type": "stream",
     "text": [
      " 52% (846 of 1614) |###########          | Elapsed Time: 0:01:21 ETA:   0:01:09"
     ]
    },
    {
     "name": "stdout",
     "output_type": "stream",
     "text": [
      "/Product_blossombariatricsshop.com_September2020.json.gz\n",
      "/Product_meesjewelry.com_September2020.json.gz\n",
      "/Product_gurgencler.com.tr_September2020.json.gz\n",
      "/Product_viekart.com_September2020.json.gz\n",
      "/Product_skincaremarket.net_September2020.json.gz\n"
     ]
    },
    {
     "name": "stderr",
     "output_type": "stream",
     "text": [
      "\r",
      " 52% (849 of 1614) |###########          | Elapsed Time: 0:01:21 ETA:   0:01:00"
     ]
    },
    {
     "name": "stdout",
     "output_type": "stream",
     "text": [
      "/Product_shopnautico.com.br_September2020.json.gz\n",
      "/Product_lunoxel.com_September2020.json.gz\n",
      "/Product_mellovelobicycles.com_September2020.json.gz\n"
     ]
    },
    {
     "name": "stderr",
     "output_type": "stream",
     "text": [
      "\r",
      " 52% (851 of 1614) |###########          | Elapsed Time: 0:01:21 ETA:   0:00:59"
     ]
    },
    {
     "name": "stdout",
     "output_type": "stream",
     "text": [
      "/Product_highgearsports.com_September2020.json.gz\n",
      "/Product_toyshnip.com_September2020.json.gz\n"
     ]
    },
    {
     "name": "stderr",
     "output_type": "stream",
     "text": [
      " 52% (855 of 1614) |###########          | Elapsed Time: 0:01:22 ETA:   0:01:02"
     ]
    },
    {
     "name": "stdout",
     "output_type": "stream",
     "text": [
      "/Product_twohoosierscyclery.com_September2020.json.gz\n",
      "/Product_sdbikeshop.com_September2020.json.gz\n",
      "/Product_ugursaatcilik.com_September2020.json.gz\n",
      "/Product_dirtcheep.com_September2020.json.gz\n"
     ]
    },
    {
     "name": "stderr",
     "output_type": "stream",
     "text": [
      " 53% (858 of 1614) |###########          | Elapsed Time: 0:01:22 ETA:   0:00:56"
     ]
    },
    {
     "name": "stdout",
     "output_type": "stream",
     "text": [
      "/Product_mac-center.com_September2020.json.gz\n",
      "/Product_inkfactory.com_September2020.json.gz\n",
      "/Product_arashrahimiart.com_September2020.json.gz\n",
      "/Product_sunstudiosaustralia.com_September2020.json.gz\n",
      "/Product_bigapplecollectibles.com_September2020.json.gz\n"
     ]
    },
    {
     "name": "stderr",
     "output_type": "stream",
     "text": [
      "\r",
      " 53% (862 of 1614) |###########          | Elapsed Time: 0:01:22 ETA:   0:00:55"
     ]
    },
    {
     "name": "stdout",
     "output_type": "stream",
     "text": [
      "/Product_solidsignal.com_September2020.json.gz\n"
     ]
    },
    {
     "name": "stderr",
     "output_type": "stream",
     "text": [
      "\r",
      " 53% (863 of 1614) |###########          | Elapsed Time: 0:01:22 ETA:   0:00:56"
     ]
    },
    {
     "name": "stdout",
     "output_type": "stream",
     "text": [
      "/Product_fusioncine.com_September2020.json.gz\n",
      "/Product_openbeautyfacts.org_September2020.json.gz\n"
     ]
    },
    {
     "name": "stderr",
     "output_type": "stream",
     "text": [
      "\r",
      " 53% (865 of 1614) |###########          | Elapsed Time: 0:01:23 ETA:   0:01:03"
     ]
    },
    {
     "name": "stdout",
     "output_type": "stream",
     "text": [
      "/Product_zavvi.com_September2020.json.gz\n"
     ]
    },
    {
     "name": "stderr",
     "output_type": "stream",
     "text": [
      "\r",
      " 53% (866 of 1614) |###########          | Elapsed Time: 0:01:25 ETA:   0:32:41"
     ]
    },
    {
     "name": "stdout",
     "output_type": "stream",
     "text": [
      "/Product_onpromostore.com_September2020.json.gz\n",
      "/Product_americancyclery.com_September2020.json.gz\n"
     ]
    },
    {
     "name": "stderr",
     "output_type": "stream",
     "text": [
      "\r",
      " 53% (868 of 1614) |###########          | Elapsed Time: 0:01:26 ETA:   0:12:02"
     ]
    },
    {
     "name": "stdout",
     "output_type": "stream",
     "text": [
      "/Product_joplinfloors.com_September2020.json.gz\n",
      "/Product_bishopracingproducts.com_September2020.json.gz\n",
      "/Product_argonautliquor.com_September2020.json.gz\n"
     ]
    },
    {
     "name": "stderr",
     "output_type": "stream",
     "text": [
      "\r",
      " 53% (871 of 1614) |###########          | Elapsed Time: 0:01:26 ETA:   0:06:30"
     ]
    },
    {
     "name": "stdout",
     "output_type": "stream",
     "text": [
      "/Product_fashionsadmire.com_September2020.json.gz\n"
     ]
    },
    {
     "name": "stderr",
     "output_type": "stream",
     "text": [
      " 54% (874 of 1614) |###########          | Elapsed Time: 0:01:26 ETA:   0:05:07"
     ]
    },
    {
     "name": "stdout",
     "output_type": "stream",
     "text": [
      "/Product_ootbseafood.com_September2020.json.gz\n",
      "/Product_intel.co.uk_September2020.json.gz\n",
      "/Product_rei.com_September2020.json.gz\n"
     ]
    },
    {
     "name": "stderr",
     "output_type": "stream",
     "text": [
      " 54% (877 of 1614) |###########          | Elapsed Time: 0:01:27 ETA:   0:04:42"
     ]
    },
    {
     "name": "stdout",
     "output_type": "stream",
     "text": [
      "/Product_abatiellodesigncenter.com_September2020.json.gz\n",
      "/Product_sachane.com_September2020.json.gz\n",
      "/Product_thenailindustry.com_September2020.json.gz\n"
     ]
    },
    {
     "name": "stderr",
     "output_type": "stream",
     "text": [
      "\r",
      " 54% (879 of 1614) |###########          | Elapsed Time: 0:01:27 ETA:   0:02:01"
     ]
    },
    {
     "name": "stdout",
     "output_type": "stream",
     "text": [
      "/Product_cliftoncameras.co.uk_September2020.json.gz\n",
      "/Product_lojadaniele.com.br_September2020.json.gz\n"
     ]
    },
    {
     "name": "stderr",
     "output_type": "stream",
     "text": [
      " 54% (884 of 1614) |###########          | Elapsed Time: 0:01:28 ETA:   0:01:41"
     ]
    },
    {
     "name": "stdout",
     "output_type": "stream",
     "text": [
      "/Product_oldetownebicycles.com_September2020.json.gz\n",
      "/Product_bikengear.com_September2020.json.gz\n",
      "/Product_jackrabbit.com_September2020.json.gz\n",
      "/Product_finishlinebikes.com_September2020.json.gz\n",
      "/Product_pidiendopista.com_September2020.json.gz\n"
     ]
    },
    {
     "name": "stderr",
     "output_type": "stream",
     "text": [
      "\r",
      " 54% (886 of 1614) |###########          | Elapsed Time: 0:01:28 ETA:   0:01:42"
     ]
    },
    {
     "name": "stdout",
     "output_type": "stream",
     "text": [
      "/Product_smockingbirdsgifts.com_September2020.json.gz\n",
      "/Product_nwampersonalsecurity.com_September2020.json.gz\n",
      "/Product_sunglasshut.com_September2020.json.gz\n"
     ]
    },
    {
     "name": "stderr",
     "output_type": "stream",
     "text": [
      " 55% (891 of 1614) |###########          | Elapsed Time: 0:01:28 ETA:   0:01:28"
     ]
    },
    {
     "name": "stdout",
     "output_type": "stream",
     "text": [
      "/Product_princetechnology.net_September2020.json.gz\n",
      "/Product_thepinkstudiola.com_September2020.json.gz\n",
      "/Product_flooringnbeyond.com_September2020.json.gz\n",
      "/Product_myspysupplies.com_September2020.json.gz\n",
      "/Product_atbshop.co.uk_September2020.json.gz\n",
      "/Product_bigringcycles.com_September2020.json.gz\n"
     ]
    },
    {
     "name": "stderr",
     "output_type": "stream",
     "text": [
      "\r",
      " 55% (894 of 1614) |###########          | Elapsed Time: 0:01:29 ETA:   0:01:24"
     ]
    },
    {
     "name": "stdout",
     "output_type": "stream",
     "text": [
      "/Product_cjcharles.com_September2020.json.gz\n",
      "/Product_artscyclery.com_September2020.json.gz\n"
     ]
    },
    {
     "name": "stderr",
     "output_type": "stream",
     "text": [
      " 55% (898 of 1614) |###########          | Elapsed Time: 0:01:29 ETA:   0:01:06"
     ]
    },
    {
     "name": "stdout",
     "output_type": "stream",
     "text": [
      "/Product_watchfinder.co.uk_September2020.json.gz\n",
      "/Product_goveganmarket.com_September2020.json.gz\n",
      "/Product_nelau.com_September2020.json.gz\n",
      "/Product_adakitap.com.tr_September2020.json.gz\n"
     ]
    },
    {
     "name": "stderr",
     "output_type": "stream",
     "text": [
      "\r",
      " 55% (900 of 1614) |###########          | Elapsed Time: 0:01:29 ETA:   0:01:04"
     ]
    },
    {
     "name": "stdout",
     "output_type": "stream",
     "text": [
      "/Product_enhleorganics.com_September2020.json.gz\n",
      "/Product_nexgen-techhk.com_September2020.json.gz\n",
      "/Product_breakawaycycling.com_September2020.json.gz\n"
     ]
    },
    {
     "name": "stderr",
     "output_type": "stream",
     "text": [
      " 56% (905 of 1614) |###########          | Elapsed Time: 0:01:30 ETA:   0:01:01"
     ]
    },
    {
     "name": "stdout",
     "output_type": "stream",
     "text": [
      "/Product_dollartile.com_September2020.json.gz\n",
      "/Product_scottscycle.com_September2020.json.gz\n",
      "/Product_konakdijital.com_September2020.json.gz\n",
      "/Product_downtownstock.com_September2020.json.gz\n"
     ]
    },
    {
     "name": "stderr",
     "output_type": "stream",
     "text": [
      " 56% (909 of 1614) |###########          | Elapsed Time: 0:01:30 ETA:   0:00:59"
     ]
    },
    {
     "name": "stdout",
     "output_type": "stream",
     "text": [
      "/Product_claytonappliance.com_September2020.json.gz\n",
      "/Product_edipsaat.com_September2020.json.gz\n",
      "/Product_openairbicycles.com_September2020.json.gz\n",
      "/Product_tecnoprecios.net_September2020.json.gz\n"
     ]
    },
    {
     "name": "stderr",
     "output_type": "stream",
     "text": [
      "\r",
      " 56% (911 of 1614) |###########          | Elapsed Time: 0:01:30 ETA:   0:00:58"
     ]
    },
    {
     "name": "stdout",
     "output_type": "stream",
     "text": [
      "/Product_thebikemasters.com_September2020.json.gz\n",
      "/Product_macway.com_September2020.json.gz\n"
     ]
    },
    {
     "name": "stderr",
     "output_type": "stream",
     "text": [
      " 56% (916 of 1614) |###########          | Elapsed Time: 0:01:30 ETA:   0:00:49"
     ]
    },
    {
     "name": "stdout",
     "output_type": "stream",
     "text": [
      "/Product_pashop.com_September2020.json.gz\n",
      "/Product_damoonmed.com_September2020.json.gz\n",
      "/Product_mccabespharmacy.com_September2020.json.gz\n",
      "/Product_chucksappliance.com_September2020.json.gz\n",
      "/Product_mysterydeal.com_September2020.json.gz\n"
     ]
    },
    {
     "name": "stderr",
     "output_type": "stream",
     "text": [
      " 57% (924 of 1614) |############         | Elapsed Time: 0:01:31 ETA:   0:00:46"
     ]
    },
    {
     "name": "stdout",
     "output_type": "stream",
     "text": [
      "/Product_store-singapore.com_September2020.json.gz\n",
      "/Product_autoexpohouston.com_September2020.json.gz\n",
      "/Product_a1protectionproducts.com_September2020.json.gz\n",
      "/Product_powersolutionmall.com_September2020.json.gz\n",
      "/Product_whitehouseboutique.net_September2020.json.gz\n",
      "/Product_bikebladeball.com_September2020.json.gz\n",
      "/Product_longestyardfloors.com_September2020.json.gz\n"
     ]
    },
    {
     "name": "stderr",
     "output_type": "stream",
     "text": [
      "\r",
      " 57% (927 of 1614) |############         | Elapsed Time: 0:01:31 ETA:   0:00:44"
     ]
    },
    {
     "name": "stdout",
     "output_type": "stream",
     "text": [
      "/Product_shopholliday.com_September2020.json.gz\n",
      "/Product_timhogansflooring.com_September2020.json.gz\n",
      "/Product_connersclinic.com_September2020.json.gz\n",
      "/Product_unwrappedkawartha.com_September2020.json.gz\n"
     ]
    },
    {
     "name": "stderr",
     "output_type": "stream",
     "text": [
      "\r",
      " 57% (929 of 1614) |############         | Elapsed Time: 0:01:31 ETA:   0:00:44"
     ]
    },
    {
     "name": "stdout",
     "output_type": "stream",
     "text": [
      "/Product_coloradocyclingcompany.com_September2020.json.gz\n",
      "/Product_dawsons.co.uk_September2020.json.gz\n"
     ]
    },
    {
     "name": "stderr",
     "output_type": "stream",
     "text": [
      " 57% (934 of 1614) |############         | Elapsed Time: 0:01:31 ETA:   0:00:41"
     ]
    },
    {
     "name": "stdout",
     "output_type": "stream",
     "text": [
      "/Product_zdnet.com_September2020.json.gz\n",
      "/Product_hdoutlets.com_September2020.json.gz\n",
      "/Product_southwindcycle.com_September2020.json.gz\n",
      "/Product_iscomputer.com.br_September2020.json.gz\n",
      "/Product_familysafetystorellc.com_September2020.json.gz\n"
     ]
    },
    {
     "name": "stderr",
     "output_type": "stream",
     "text": [
      " 58% (940 of 1614) |############         | Elapsed Time: 0:01:32 ETA:   0:00:38"
     ]
    },
    {
     "name": "stdout",
     "output_type": "stream",
     "text": [
      "/Product_globalcollectionasia.com_September2020.json.gz\n",
      "/Product_lustmexico.com_September2020.json.gz\n",
      "/Product_gps.co.uk_September2020.json.gz\n",
      "/Product_pronet.com.uy_September2020.json.gz\n",
      "/Product_startfitness.co.uk_September2020.json.gz\n"
     ]
    },
    {
     "name": "stderr",
     "output_type": "stream",
     "text": [
      " 58% (943 of 1614) |############         | Elapsed Time: 0:01:34 ETA:   0:05:50"
     ]
    },
    {
     "name": "stdout",
     "output_type": "stream",
     "text": [
      "/Product_danceandsport.com_September2020.json.gz\n",
      "/Product_ascentoutdoors.com_September2020.json.gz\n",
      "/Product_macblowouts.com_September2020.json.gz\n"
     ]
    },
    {
     "name": "stderr",
     "output_type": "stream",
     "text": [
      "\r",
      " 58% (946 of 1614) |############         | Elapsed Time: 0:01:34 ETA:   0:03:42"
     ]
    },
    {
     "name": "stdout",
     "output_type": "stream",
     "text": [
      "/Product_beamanbuickgmc.com_September2020.json.gz\n",
      "/Product_eddys.com_September2020.json.gz\n",
      "/Product_quality-cameras.com_September2020.json.gz\n"
     ]
    },
    {
     "name": "stderr",
     "output_type": "stream",
     "text": [
      "\r",
      " 58% (950 of 1614) |############         | Elapsed Time: 0:01:34 ETA:   0:02:27"
     ]
    },
    {
     "name": "stdout",
     "output_type": "stream",
     "text": [
      "/Product_rivieramultimedia.co.uk_September2020.json.gz\n",
      "/Product_natgreenproducts.com_September2020.json.gz\n",
      "/Product_ielectrica.com_September2020.json.gz\n",
      "/Product_theinspoboutique.com_September2020.json.gz\n",
      "/Product_forsecuritysake.com_September2020.json.gz\n",
      "/Product_varietyproducts.com_September2020.json.gz\n",
      "/Product_cayugaskiandcyclery.com_September2020.json.gz\n"
     ]
    },
    {
     "name": "stderr",
     "output_type": "stream",
     "text": [
      "\r",
      " 59% (954 of 1614) |############         | Elapsed Time: 0:01:34 ETA:   0:01:53"
     ]
    },
    {
     "name": "stdout",
     "output_type": "stream",
     "text": [
      "/Product_hammondaviation.com_September2020.json.gz\n",
      "/Product_loganmasterappliance.com_September2020.json.gz\n",
      "/Product_consumibles.com_September2020.json.gz\n"
     ]
    },
    {
     "name": "stderr",
     "output_type": "stream",
     "text": [
      " 59% (960 of 1614) |############         | Elapsed Time: 0:01:35 ETA:   0:01:44"
     ]
    },
    {
     "name": "stdout",
     "output_type": "stream",
     "text": [
      "/Product_tumovilnuevo.com_September2020.json.gz\n",
      "/Product_selfdefenseoutlet.com_September2020.json.gz\n",
      "/Product_go-ride.com_September2020.json.gz\n",
      "/Product_skishacksports.com_September2020.json.gz\n",
      "/Product_rodelag.com_September2020.json.gz\n"
     ]
    },
    {
     "name": "stderr",
     "output_type": "stream",
     "text": [
      " 59% (966 of 1614) |############         | Elapsed Time: 0:01:35 ETA:   0:01:27"
     ]
    },
    {
     "name": "stdout",
     "output_type": "stream",
     "text": [
      "/Product_idmastershop.com_September2020.json.gz\n",
      "/Product_lookyourtech.com_September2020.json.gz\n",
      "/Product_inspirepartyhire.co.uk_September2020.json.gz\n",
      "/Product_backalleybikes.net_September2020.json.gz\n",
      "/Product_scorptec.com.au_September2020.json.gz\n"
     ]
    },
    {
     "name": "stderr",
     "output_type": "stream",
     "text": [
      " 60% (970 of 1614) |############         | Elapsed Time: 0:01:36 ETA:   0:00:45"
     ]
    },
    {
     "name": "stdout",
     "output_type": "stream",
     "text": [
      "/Product_masterg.com_September2020.json.gz\n",
      "/Product_fortinstv.com_September2020.json.gz\n",
      "/Product_capitolflooringatl.com_September2020.json.gz\n",
      "/Product_canonclassicfurniture.com_September2020.json.gz\n",
      "/Product_skycomp.com.au_September2020.json.gz\n"
     ]
    },
    {
     "name": "stderr",
     "output_type": "stream",
     "text": [
      " 60% (976 of 1614) |############         | Elapsed Time: 0:01:36 ETA:   0:00:41"
     ]
    },
    {
     "name": "stdout",
     "output_type": "stream",
     "text": [
      "/Product_sklaveryappliance.com_September2020.json.gz\n",
      "/Product_servertek.co.uk_September2020.json.gz\n",
      "/Product_shopa1appliance.com_September2020.json.gz\n",
      "/Product_pharmacygreek.com_September2020.json.gz\n",
      "/Product_naplescyclery.com_September2020.json.gz\n"
     ]
    },
    {
     "name": "stderr",
     "output_type": "stream",
     "text": [
      " 60% (981 of 1614) |############         | Elapsed Time: 0:01:36 ETA:   0:00:42"
     ]
    },
    {
     "name": "stdout",
     "output_type": "stream",
     "text": [
      "/Product_machineitservices.com_September2020.json.gz\n",
      "/Product_pricewaiter.com_September2020.json.gz\n",
      "/Product_myhightechsecurity.com_September2020.json.gz\n",
      "/Product_thegurushoppe.com_September2020.json.gz\n",
      "/Product_alamedabicycle.com_September2020.json.gz\n"
     ]
    },
    {
     "name": "stderr",
     "output_type": "stream",
     "text": [
      " 61% (985 of 1614) |############         | Elapsed Time: 0:01:36 ETA:   0:00:43"
     ]
    },
    {
     "name": "stdout",
     "output_type": "stream",
     "text": [
      "/Product_zeezamicro.com_September2020.json.gz\n",
      "/Product_amicoflooring.com_September2020.json.gz\n",
      "/Product_carpetsgaloreflooring.com_September2020.json.gz\n",
      "/Product_zevartworks.com_September2020.json.gz\n",
      "/Product_pinckneys.com_September2020.json.gz\n",
      "/Product_chollocomponentes.com_September2020.json.gz\n"
     ]
    },
    {
     "name": "stderr",
     "output_type": "stream",
     "text": [
      " 61% (990 of 1614) |############         | Elapsed Time: 0:01:37 ETA:   0:00:41"
     ]
    },
    {
     "name": "stdout",
     "output_type": "stream",
     "text": [
      "/Product_top4fitness.com_September2020.json.gz\n",
      "/Product_moibotime.com_September2020.json.gz\n",
      "/Product_bulkmemorycards.com_September2020.json.gz\n",
      "/Product_jarrellco.com_September2020.json.gz\n",
      "/Product_hushstyle.com_September2020.json.gz\n"
     ]
    },
    {
     "name": "stderr",
     "output_type": "stream",
     "text": [
      " 61% (995 of 1614) |############         | Elapsed Time: 0:01:37 ETA:   0:00:39"
     ]
    },
    {
     "name": "stdout",
     "output_type": "stream",
     "text": [
      "/Product_wowbeli.com_September2020.json.gz\n",
      "/Product_stablerappliance.com_September2020.json.gz\n",
      "/Product_thtbilgisayar.com_September2020.json.gz\n",
      "/Product_adarewoollens.com_September2020.json.gz\n",
      "/Product_uzmanlarpc.com_September2020.json.gz\n"
     ]
    },
    {
     "name": "stderr",
     "output_type": "stream",
     "text": [
      " 61% (1000 of 1614) |############        | Elapsed Time: 0:01:37 ETA:   0:00:32"
     ]
    },
    {
     "name": "stdout",
     "output_type": "stream",
     "text": [
      "/Product_jtownbike.com_September2020.json.gz\n",
      "/Product_batterypete.com_September2020.json.gz\n",
      "/Product_sony-mea.com_September2020.json.gz\n",
      "/Product_avadirect.com_September2020.json.gz\n"
     ]
    },
    {
     "name": "stderr",
     "output_type": "stream",
     "text": [
      " 62% (1003 of 1614) |############        | Elapsed Time: 0:01:38 ETA:   0:00:35"
     ]
    },
    {
     "name": "stdout",
     "output_type": "stream",
     "text": [
      "/Product_georgegarnercyclery.com_September2020.json.gz\n",
      "/Product_planete-gateau.com_September2020.json.gz\n"
     ]
    },
    {
     "name": "stderr",
     "output_type": "stream",
     "text": [
      "\r",
      " 62% (1006 of 1614) |############        | Elapsed Time: 0:01:38 ETA:   0:00:35"
     ]
    },
    {
     "name": "stdout",
     "output_type": "stream",
     "text": [
      "/Product_lojasconforto.com_September2020.json.gz\n",
      "/Product_springbokshop.co.uk_September2020.json.gz\n",
      "/Product_maresmajoiers.com_September2020.json.gz\n",
      "/Product_bikedoctorwaldorf.com_September2020.json.gz\n"
     ]
    },
    {
     "name": "stderr",
     "output_type": "stream",
     "text": [
      " 62% (1010 of 1614) |############        | Elapsed Time: 0:01:38 ETA:   0:00:37"
     ]
    },
    {
     "name": "stdout",
     "output_type": "stream",
     "text": [
      "/Product_cvbmedia.co.uk_September2020.json.gz\n",
      "/Product_tmconstructionservicesllc.com_September2020.json.gz\n",
      "/Product_ingedus.com_September2020.json.gz\n",
      "/Product_journeymanhandcraft.com_September2020.json.gz\n",
      "/Product_bicycleproshop.com_September2020.json.gz\n"
     ]
    },
    {
     "name": "stderr",
     "output_type": "stream",
     "text": [
      " 62% (1015 of 1614) |############        | Elapsed Time: 0:01:38 ETA:   0:00:41"
     ]
    },
    {
     "name": "stdout",
     "output_type": "stream",
     "text": [
      "/Product_intermusic-pro.com_September2020.json.gz\n",
      "/Product_shuboxdesign.com_September2020.json.gz\n",
      "/Product_fabricutopia.com_September2020.json.gz\n",
      "/Product_crutchfield.com_September2020.json.gz\n"
     ]
    },
    {
     "name": "stderr",
     "output_type": "stream",
     "text": [
      " 63% (1019 of 1614) |############        | Elapsed Time: 0:01:39 ETA:   0:00:59"
     ]
    },
    {
     "name": "stdout",
     "output_type": "stream",
     "text": [
      "/Product_pcacierto.com_September2020.json.gz\n",
      "/Product_lakeshorecyclery.com_September2020.json.gz\n",
      "/Product_cartridgeink.co.uk_September2020.json.gz\n"
     ]
    },
    {
     "name": "stderr",
     "output_type": "stream",
     "text": [
      "\r",
      " 63% (1021 of 1614) |############        | Elapsed Time: 0:01:39 ETA:   0:01:00"
     ]
    },
    {
     "name": "stdout",
     "output_type": "stream",
     "text": [
      "/Product_watch.co.uk_September2020.json.gz\n",
      "/Product_fumfie.com_September2020.json.gz\n",
      "/Product_olvis-lace.com_September2020.json.gz\n",
      "/Product_songsus.com_September2020.json.gz\n"
     ]
    },
    {
     "name": "stderr",
     "output_type": "stream",
     "text": [
      "\r",
      " 63% (1024 of 1614) |############        | Elapsed Time: 0:01:39 ETA:   0:00:55"
     ]
    },
    {
     "name": "stdout",
     "output_type": "stream",
     "text": [
      "/Product_safetytechspy.com_September2020.json.gz\n",
      "/Product_greentophuntfish.com_September2020.json.gz\n"
     ]
    },
    {
     "name": "stderr",
     "output_type": "stream",
     "text": [
      "\r",
      " 63% (1026 of 1614) |############        | Elapsed Time: 0:01:40 ETA:   0:00:58"
     ]
    },
    {
     "name": "stdout",
     "output_type": "stream",
     "text": [
      "/Product_bikesportbikes.com_September2020.json.gz\n"
     ]
    },
    {
     "name": "stderr",
     "output_type": "stream",
     "text": [
      " 63% (1029 of 1614) |############        | Elapsed Time: 0:01:40 ETA:   0:01:04"
     ]
    },
    {
     "name": "stdout",
     "output_type": "stream",
     "text": [
      "/Product_outletoptico.com_September2020.json.gz\n",
      "/Product_baronsmajorbrands.com_September2020.json.gz\n",
      "/Product_cakedelice.com_September2020.json.gz\n"
     ]
    },
    {
     "name": "stderr",
     "output_type": "stream",
     "text": [
      " 64% (1035 of 1614) |############        | Elapsed Time: 0:01:40 ETA:   0:00:53"
     ]
    },
    {
     "name": "stdout",
     "output_type": "stream",
     "text": [
      "/Product_superstationpc.com_September2020.json.gz\n",
      "/Product_gunas11.com_September2020.json.gz\n",
      "/Product_wbs-office.co.uk_September2020.json.gz\n",
      "/Product_nextpathit.com_September2020.json.gz\n",
      "/Product_gsus4.com.au_September2020.json.gz\n",
      "/Product_videolinea.com_September2020.json.gz\n"
     ]
    },
    {
     "name": "stderr",
     "output_type": "stream",
     "text": [
      "\r",
      " 64% (1038 of 1614) |############        | Elapsed Time: 0:01:41 ETA:   0:00:52"
     ]
    },
    {
     "name": "stdout",
     "output_type": "stream",
     "text": [
      "/Product_beatrix-potter-shop.co.uk_September2020.json.gz\n",
      "/Product_cartridgesdirect.com.au_September2020.json.gz\n",
      "/Product_advancedpaints.co.uk_September2020.json.gz\n",
      "/Product_base.com_September2020.json.gz\n"
     ]
    },
    {
     "name": "stderr",
     "output_type": "stream",
     "text": [
      " 64% (1042 of 1614) |############        | Elapsed Time: 0:01:41 ETA:   0:00:54"
     ]
    },
    {
     "name": "stdout",
     "output_type": "stream",
     "text": [
      "/Product_infomaisnet.com.br_September2020.json.gz\n",
      "/Product_raystvappliances.com_September2020.json.gz\n",
      "/Product_jumpplus.com_September2020.json.gz\n",
      "/Product_insight.com_September2020.json.gz\n"
     ]
    },
    {
     "name": "stderr",
     "output_type": "stream",
     "text": [
      " 64% (1046 of 1614) |############        | Elapsed Time: 0:01:41 ETA:   0:00:44"
     ]
    },
    {
     "name": "stdout",
     "output_type": "stream",
     "text": [
      "/Product_floorsourceaz.com_September2020.json.gz\n",
      "/Product_otticasm.com_September2020.json.gz\n",
      "/Product_datasud.com_September2020.json.gz\n",
      "/Product_portagebaygoods.com_September2020.json.gz\n"
     ]
    },
    {
     "name": "stderr",
     "output_type": "stream",
     "text": [
      " 64% (1049 of 1614) |############        | Elapsed Time: 0:01:41 ETA:   0:00:48"
     ]
    },
    {
     "name": "stdout",
     "output_type": "stream",
     "text": [
      "/Product_villagecyclesport.com_September2020.json.gz\n",
      "/Product_perfecttimingsewing.com_September2020.json.gz\n",
      "/Product_kanyadafashion.com_September2020.json.gz\n"
     ]
    },
    {
     "name": "stderr",
     "output_type": "stream",
     "text": [
      " 65% (1055 of 1614) |#############       | Elapsed Time: 0:01:42 ETA:   0:00:40"
     ]
    },
    {
     "name": "stdout",
     "output_type": "stream",
     "text": [
      "/Product_ntappliance.com_September2020.json.gz\n",
      "/Product_roturkopy.com_September2020.json.gz\n",
      "/Product_aztech.com.br_September2020.json.gz\n",
      "/Product_perfectcolours.com_September2020.json.gz\n",
      "/Product_nandjinkjet.co.uk_September2020.json.gz\n"
     ]
    },
    {
     "name": "stderr",
     "output_type": "stream",
     "text": [
      "\r",
      " 65% (1057 of 1614) |#############       | Elapsed Time: 0:01:42 ETA:   0:00:39"
     ]
    },
    {
     "name": "stdout",
     "output_type": "stream",
     "text": [
      "/Product_genaybilgisayar.com_September2020.json.gz\n",
      "/Product_braincandyart.org_September2020.json.gz\n",
      "/Product_amendment21wines.com_September2020.json.gz\n"
     ]
    },
    {
     "name": "stderr",
     "output_type": "stream",
     "text": [
      "\r",
      " 65% (1059 of 1614) |#############       | Elapsed Time: 0:01:42 ETA:   0:00:36"
     ]
    },
    {
     "name": "stdout",
     "output_type": "stream",
     "text": [
      "/Product_seriouscycles.com_September2020.json.gz\n"
     ]
    },
    {
     "name": "stderr",
     "output_type": "stream",
     "text": [
      " 65% (1063 of 1614) |#############       | Elapsed Time: 0:01:42 ETA:   0:00:37"
     ]
    },
    {
     "name": "stdout",
     "output_type": "stream",
     "text": [
      "/Product_frenchpharmacy.com_September2020.json.gz\n",
      "/Product_somepgh.com_September2020.json.gz\n",
      "/Product_discosmetropoli.com_September2020.json.gz\n",
      "/Product_davidsworld.com_September2020.json.gz\n"
     ]
    },
    {
     "name": "stderr",
     "output_type": "stream",
     "text": [
      " 66% (1066 of 1614) |#############       | Elapsed Time: 0:01:43 ETA:   0:00:42"
     ]
    },
    {
     "name": "stdout",
     "output_type": "stream",
     "text": [
      "/Product_diyaaz.com_September2020.json.gz\n",
      "/Product_urbanperennials.com_September2020.json.gz\n",
      "/Product_yucaipabikecenter.com_September2020.json.gz\n"
     ]
    },
    {
     "name": "stderr",
     "output_type": "stream",
     "text": [
      "\r",
      " 66% (1068 of 1614) |#############       | Elapsed Time: 0:01:43 ETA:   0:00:40"
     ]
    },
    {
     "name": "stdout",
     "output_type": "stream",
     "text": [
      "/Product_johnsonfloorcoveringct.com_September2020.json.gz\n",
      "/Product_anaheimcarpetandflooring.com_September2020.json.gz\n",
      "/Product_hamptonchevy.com_September2020.json.gz\n",
      "/Product_rosebikes.co.uk_September2020.json.gz\n"
     ]
    },
    {
     "name": "stderr",
     "output_type": "stream",
     "text": [
      " 66% (1074 of 1614) |#############       | Elapsed Time: 0:01:43 ETA:   0:00:39"
     ]
    },
    {
     "name": "stdout",
     "output_type": "stream",
     "text": [
      "/Product_sneakerdistrict.com_September2020.json.gz\n",
      "/Product_buysvip.com_September2020.json.gz\n",
      "/Product_hcfloorstx.com_September2020.json.gz\n",
      "/Product_ksfurnituremart.com_September2020.json.gz\n",
      "/Product_halfpriceperfumes.co.uk_September2020.json.gz\n"
     ]
    },
    {
     "name": "stderr",
     "output_type": "stream",
     "text": [
      "\r",
      " 66% (1077 of 1614) |#############       | Elapsed Time: 0:01:43 ETA:   0:00:37"
     ]
    },
    {
     "name": "stdout",
     "output_type": "stream",
     "text": [
      "/Product_emergiready.net_September2020.json.gz\n",
      "/Product_bankswinesandspirits.com_September2020.json.gz\n",
      "/Product_filmtools.com_September2020.json.gz\n"
     ]
    },
    {
     "name": "stderr",
     "output_type": "stream",
     "text": [
      " 66% (1080 of 1614) |#############       | Elapsed Time: 0:01:44 ETA:   0:00:42"
     ]
    },
    {
     "name": "stdout",
     "output_type": "stream",
     "text": [
      "/Product_jeffjonesfurniture.net_September2020.json.gz\n",
      "/Product_cablemonkey.co.uk_September2020.json.gz\n",
      "/Product_rsbikeco.com_September2020.json.gz\n"
     ]
    },
    {
     "name": "stderr",
     "output_type": "stream",
     "text": [
      " 67% (1087 of 1614) |#############       | Elapsed Time: 0:01:44 ETA:   0:00:39"
     ]
    },
    {
     "name": "stdout",
     "output_type": "stream",
     "text": [
      "/Product_greattomorrowclothing.com_September2020.json.gz\n",
      "/Product_mathieuperformance.com_September2020.json.gz\n",
      "/Product_cloud-systems.com_September2020.json.gz\n",
      "/Product_iwc.com.pk_September2020.json.gz\n",
      "/Product_andrejac.com_September2020.json.gz\n",
      "/Product_bikepeddlerutah.com_September2020.json.gz\n"
     ]
    },
    {
     "name": "stderr",
     "output_type": "stream",
     "text": [
      " 67% (1090 of 1614) |#############       | Elapsed Time: 0:01:44 ETA:   0:00:36"
     ]
    },
    {
     "name": "stdout",
     "output_type": "stream",
     "text": [
      "/Product_4run3.com_September2020.json.gz\n",
      "/Product_pedometersusa.com_September2020.json.gz\n",
      "/Product_nuovalaig.com_September2020.json.gz\n",
      "/Product_myrtlebeachfloors.com_September2020.json.gz\n",
      "/Product_deadtechrecords.net_September2020.json.gz\n"
     ]
    },
    {
     "name": "stderr",
     "output_type": "stream",
     "text": [
      " 67% (1096 of 1614) |#############       | Elapsed Time: 0:01:45 ETA:   0:00:32"
     ]
    },
    {
     "name": "stdout",
     "output_type": "stream",
     "text": [
      "/Product_wakullacarpetbrokers.com_September2020.json.gz\n",
      "/Product_baystaterug.com_September2020.json.gz\n",
      "/Product_thekeykey.com_September2020.json.gz\n",
      "/Product_freaksports.com.au_September2020.json.gz\n"
     ]
    },
    {
     "name": "stderr",
     "output_type": "stream",
     "text": [
      " 68% (1100 of 1614) |#############       | Elapsed Time: 0:01:45 ETA:   0:00:31"
     ]
    },
    {
     "name": "stdout",
     "output_type": "stream",
     "text": [
      "/Product_norfolkflooringsolutions.com_September2020.json.gz\n",
      "/Product_gntmuebles.com_September2020.json.gz\n",
      "/Product_thebikeshopjc.com_September2020.json.gz\n",
      "/Product_flooring-inspirations.com_September2020.json.gz\n"
     ]
    },
    {
     "name": "stderr",
     "output_type": "stream",
     "text": [
      " 68% (1104 of 1614) |#############       | Elapsed Time: 0:01:45 ETA:   0:00:31"
     ]
    },
    {
     "name": "stdout",
     "output_type": "stream",
     "text": [
      "/Product_dressyout.com_September2020.json.gz\n",
      "/Product_arrowheadcarpettile.com_September2020.json.gz\n",
      "/Product_sellalchemco.com_September2020.json.gz\n",
      "/Product_advantageappliance.com_September2020.json.gz\n"
     ]
    },
    {
     "name": "stderr",
     "output_type": "stream",
     "text": [
      "\r",
      " 68% (1107 of 1614) |#############       | Elapsed Time: 0:01:45 ETA:   0:00:30"
     ]
    },
    {
     "name": "stdout",
     "output_type": "stream",
     "text": [
      "/Product_info-computer.com_September2020.json.gz\n",
      "/Product_aitoro.com_September2020.json.gz\n",
      "/Product_jadoreeventss.com_September2020.json.gz\n",
      "/Product_coastalcarpetntiledestin.com_September2020.json.gz\n",
      "/Product_2riversbicycle.com_September2020.json.gz\n"
     ]
    },
    {
     "name": "stderr",
     "output_type": "stream",
     "text": [
      " 68% (1113 of 1614) |#############       | Elapsed Time: 0:01:46 ETA:   0:00:30"
     ]
    },
    {
     "name": "stdout",
     "output_type": "stream",
     "text": [
      "/Product_marcellasappliance.com_September2020.json.gz\n",
      "/Product_podiumms.com_September2020.json.gz\n",
      "/Product_acadia-info.com_September2020.json.gz\n",
      "/Product_daretocompareus.com_September2020.json.gz\n",
      "/Product_silvercycles.com_September2020.json.gz\n"
     ]
    },
    {
     "name": "stderr",
     "output_type": "stream",
     "text": [
      "\r",
      " 69% (1115 of 1614) |#############       | Elapsed Time: 0:01:46 ETA:   0:00:29"
     ]
    },
    {
     "name": "stdout",
     "output_type": "stream",
     "text": [
      "/Product_iherb.com_September2020.json.gz\n"
     ]
    },
    {
     "name": "stderr",
     "output_type": "stream",
     "text": [
      " 69% (1117 of 1614) |#############       | Elapsed Time: 0:02:02 ETA:   1:05:55"
     ]
    },
    {
     "name": "stdout",
     "output_type": "stream",
     "text": [
      "/Product_healthy-italia.com_September2020.json.gz\n",
      "/Product_molloyspharmacy.com_September2020.json.gz\n"
     ]
    },
    {
     "name": "stderr",
     "output_type": "stream",
     "text": [
      " 69% (1121 of 1614) |#############       | Elapsed Time: 0:02:02 ETA:   0:22:10"
     ]
    },
    {
     "name": "stdout",
     "output_type": "stream",
     "text": [
      "/Product_lordperfumaria.com.br_September2020.json.gz\n",
      "/Product_latinbikes.com_September2020.json.gz\n",
      "/Product_spokesmanprobikeworks.com_September2020.json.gz\n",
      "/Product_wilton.com_September2020.json.gz\n"
     ]
    },
    {
     "name": "stderr",
     "output_type": "stream",
     "text": [
      " 69% (1124 of 1614) |#############       | Elapsed Time: 0:02:02 ETA:   0:16:43"
     ]
    },
    {
     "name": "stdout",
     "output_type": "stream",
     "text": [
      "/Product_locatelonline.com_September2020.json.gz\n",
      "/Product_scontimania.com_September2020.json.gz\n",
      "/Product_peoplesjewellers.com_September2020.json.gz\n"
     ]
    },
    {
     "name": "stderr",
     "output_type": "stream",
     "text": [
      " 69% (1127 of 1614) |#############       | Elapsed Time: 0:02:03 ETA:   0:11:18"
     ]
    },
    {
     "name": "stdout",
     "output_type": "stream",
     "text": [
      "/Product_macstudio.com.my_September2020.json.gz\n",
      "/Product_washburns.com_September2020.json.gz\n",
      "/Product_cocoapproved.com_September2020.json.gz\n"
     ]
    },
    {
     "name": "stderr",
     "output_type": "stream",
     "text": [
      "\r",
      " 69% (1129 of 1614) |#############       | Elapsed Time: 0:02:03 ETA:   0:09:44"
     ]
    },
    {
     "name": "stdout",
     "output_type": "stream",
     "text": [
      "/Product_hendrickchevybuickgmcrichmond.com_September2020.json.gz\n",
      "/Product_brandnameappliance.net_September2020.json.gz\n",
      "/Product_bobsbicycles.com_September2020.json.gz\n"
     ]
    },
    {
     "name": "stderr",
     "output_type": "stream",
     "text": [
      " 70% (1135 of 1614) |##############      | Elapsed Time: 0:02:03 ETA:   0:06:57"
     ]
    },
    {
     "name": "stdout",
     "output_type": "stream",
     "text": [
      "/Product_unique-safetyproducts.com_September2020.json.gz\n",
      "/Product_cloudgeeks.com.au_September2020.json.gz\n",
      "/Product_iyva.com_September2020.json.gz\n",
      "/Product_bikesale.com_September2020.json.gz\n",
      "/Product_maktus.com_September2020.json.gz\n"
     ]
    },
    {
     "name": "stderr",
     "output_type": "stream",
     "text": [
      " 70% (1137 of 1614) |##############      | Elapsed Time: 0:02:04 ETA:   0:00:45"
     ]
    },
    {
     "name": "stdout",
     "output_type": "stream",
     "text": [
      "/Product_sivasdescalzo.com_September2020.json.gz\n",
      "/Product_ariselettronica.com_September2020.json.gz\n"
     ]
    },
    {
     "name": "stderr",
     "output_type": "stream",
     "text": [
      "\r",
      " 70% (1139 of 1614) |##############      | Elapsed Time: 0:02:04 ETA:   0:00:44"
     ]
    },
    {
     "name": "stdout",
     "output_type": "stream",
     "text": [
      "/Product_towheels.com_September2020.json.gz\n",
      "/Product_cycologybikeshop.com_September2020.json.gz\n"
     ]
    },
    {
     "name": "stderr",
     "output_type": "stream",
     "text": [
      " 70% (1142 of 1614) |##############      | Elapsed Time: 0:02:04 ETA:   0:00:43"
     ]
    },
    {
     "name": "stdout",
     "output_type": "stream",
     "text": [
      "/Product_shopkemet.com_September2020.json.gz\n",
      "/Product_backpacks4less.com_September2020.json.gz\n",
      "/Product_shopnoroeste.com.br_September2020.json.gz\n",
      "/Product_arkansascycling.com_September2020.json.gz\n"
     ]
    },
    {
     "name": "stderr",
     "output_type": "stream",
     "text": [
      " 70% (1145 of 1614) |##############      | Elapsed Time: 0:02:04 ETA:   0:00:44"
     ]
    },
    {
     "name": "stdout",
     "output_type": "stream",
     "text": [
      "/Product_thunderboltelectronics.com_September2020.json.gz\n",
      "/Product_bakersbestsupplies.com_September2020.json.gz\n",
      "/Product_farmaciaospedale.com_September2020.json.gz\n"
     ]
    },
    {
     "name": "stderr",
     "output_type": "stream",
     "text": [
      " 71% (1149 of 1614) |##############      | Elapsed Time: 0:02:05 ETA:   0:00:48"
     ]
    },
    {
     "name": "stdout",
     "output_type": "stream",
     "text": [
      "/Product_tecnoysat.com_September2020.json.gz\n",
      "/Product_alphaink.net_September2020.json.gz\n",
      "/Product_nelsonmazdaok.com_September2020.json.gz\n",
      "/Product_minhaoticaonline.com.br_September2020.json.gz\n",
      "/Product_thewineguyli.com_September2020.json.gz\n"
     ]
    },
    {
     "name": "stderr",
     "output_type": "stream",
     "text": [
      "\r",
      " 71% (1152 of 1614) |##############      | Elapsed Time: 0:02:05 ETA:   0:00:44"
     ]
    },
    {
     "name": "stdout",
     "output_type": "stream",
     "text": [
      "/Product_macchoice.com.au_September2020.json.gz\n",
      "/Product_brandscycle.com_September2020.json.gz\n"
     ]
    },
    {
     "name": "stderr",
     "output_type": "stream",
     "text": [
      " 71% (1155 of 1614) |##############      | Elapsed Time: 0:02:05 ETA:   0:00:46"
     ]
    },
    {
     "name": "stdout",
     "output_type": "stream",
     "text": [
      "/Product_cognitioncyclery.com_September2020.json.gz\n",
      "/Product_solextrem.com_September2020.json.gz\n"
     ]
    },
    {
     "name": "stderr",
     "output_type": "stream",
     "text": [
      " 71% (1159 of 1614) |##############      | Elapsed Time: 0:02:06 ETA:   0:00:42"
     ]
    },
    {
     "name": "stdout",
     "output_type": "stream",
     "text": [
      "/Product_crawford-racing.com_September2020.json.gz\n",
      "/Product_atlanticfinefurniture.com_September2020.json.gz\n",
      "/Product_opticaslookout.com.ar_September2020.json.gz\n",
      "/Product_jimagin.com_September2020.json.gz\n"
     ]
    },
    {
     "name": "stderr",
     "output_type": "stream",
     "text": [
      " 72% (1163 of 1614) |##############      | Elapsed Time: 0:02:06 ETA:   0:00:40"
     ]
    },
    {
     "name": "stdout",
     "output_type": "stream",
     "text": [
      "/Product_bdtwatch.com_September2020.json.gz\n",
      "/Product_seacoastflooring.com_September2020.json.gz\n",
      "/Product_hiperclick.com_September2020.json.gz\n",
      "/Product_la2ta.com_September2020.json.gz\n",
      "/Product_sherpagranada.com_September2020.json.gz\n"
     ]
    },
    {
     "name": "stderr",
     "output_type": "stream",
     "text": [
      " 72% (1168 of 1614) |##############      | Elapsed Time: 0:02:06 ETA:   0:00:37"
     ]
    },
    {
     "name": "stdout",
     "output_type": "stream",
     "text": [
      "/Product_wifi-stock.com_September2020.json.gz\n",
      "/Product_jacksbicyclecenter.com_September2020.json.gz\n",
      "/Product_okayfones.com_September2020.json.gz\n",
      "/Product_sportique.com_September2020.json.gz\n"
     ]
    },
    {
     "name": "stderr",
     "output_type": "stream",
     "text": [
      " 72% (1170 of 1614) |##############      | Elapsed Time: 0:02:07 ETA:   0:00:40"
     ]
    },
    {
     "name": "stdout",
     "output_type": "stream",
     "text": [
      "/Product_incycle.com_September2020.json.gz\n",
      "/Product_mcneilsappliance.com_September2020.json.gz\n"
     ]
    },
    {
     "name": "stderr",
     "output_type": "stream",
     "text": [
      " 72% (1173 of 1614) |##############      | Elapsed Time: 0:02:07 ETA:   0:00:38"
     ]
    },
    {
     "name": "stdout",
     "output_type": "stream",
     "text": [
      "/Product_ecigsinternational.com_September2020.json.gz\n",
      "/Product_materiel-photo-pro.com_September2020.json.gz\n",
      "/Product_djcity.com.au_September2020.json.gz\n"
     ]
    },
    {
     "name": "stderr",
     "output_type": "stream",
     "text": [
      " 72% (1177 of 1614) |##############      | Elapsed Time: 0:02:07 ETA:   0:00:42"
     ]
    },
    {
     "name": "stdout",
     "output_type": "stream",
     "text": [
      "/Product_guerradigital.com.br_September2020.json.gz\n",
      "/Product_jebhealth.com_September2020.json.gz\n",
      "/Product_blacklavavape.com_September2020.json.gz\n",
      "/Product_studio24botanicals.com_September2020.json.gz\n",
      "/Product_altawasel.com_September2020.json.gz\n"
     ]
    },
    {
     "name": "stderr",
     "output_type": "stream",
     "text": [
      "\r",
      " 73% (1180 of 1614) |##############      | Elapsed Time: 0:02:08 ETA:   0:00:36"
     ]
    },
    {
     "name": "stdout",
     "output_type": "stream",
     "text": [
      "/Product_occhialuto.com_September2020.json.gz\n",
      "/Product_massoyanjewelers.com_September2020.json.gz\n",
      "/Product_bestpricenutrition.com_September2020.json.gz\n"
     ]
    },
    {
     "name": "stderr",
     "output_type": "stream",
     "text": [
      "\r",
      " 73% (1182 of 1614) |##############      | Elapsed Time: 0:02:08 ETA:   0:00:41"
     ]
    },
    {
     "name": "stdout",
     "output_type": "stream",
     "text": [
      "/Product_shoppingexpress.com.au_September2020.json.gz\n",
      "/Product_kogan.com_September2020.json.gz\n"
     ]
    },
    {
     "name": "stderr",
     "output_type": "stream",
     "text": [
      " 73% (1187 of 1614) |##############      | Elapsed Time: 0:02:09 ETA:   0:00:59"
     ]
    },
    {
     "name": "stdout",
     "output_type": "stream",
     "text": [
      "/Product_eliteflooringonline.com_September2020.json.gz\n",
      "/Product_pinnacletp.com_September2020.json.gz\n",
      "/Product_simplywholesale.com.au_September2020.json.gz\n",
      "/Product_cloudsecurity.com.ng_September2020.json.gz\n"
     ]
    },
    {
     "name": "stderr",
     "output_type": "stream",
     "text": [
      " 73% (1192 of 1614) |##############      | Elapsed Time: 0:02:09 ETA:   0:00:49"
     ]
    },
    {
     "name": "stdout",
     "output_type": "stream",
     "text": [
      "/Product_mpgessentials.com_September2020.json.gz\n",
      "/Product_bestbuycarpetinc.com_September2020.json.gz\n",
      "/Product_bluecyclesonline.com.au_September2020.json.gz\n",
      "/Product_farmaku.com_September2020.json.gz\n"
     ]
    },
    {
     "name": "stderr",
     "output_type": "stream",
     "text": [
      "\r",
      " 73% (1194 of 1614) |##############      | Elapsed Time: 0:02:09 ETA:   0:00:47"
     ]
    },
    {
     "name": "stdout",
     "output_type": "stream",
     "text": [
      "/Product_bezambar.com_September2020.json.gz\n",
      "/Product_ufostorekh.com_September2020.json.gz\n",
      "/Product_cclonline.com_September2020.json.gz\n"
     ]
    },
    {
     "name": "stderr",
     "output_type": "stream",
     "text": [
      "\r",
      " 74% (1195 of 1614) |##############      | Elapsed Time: 0:02:09 ETA:   0:00:42"
     ]
    },
    {
     "name": "stdout",
     "output_type": "stream",
     "text": [
      "/Product_apodax.com_September2020.json.gz\n",
      "/Product_montanaflooringliquidators.com_September2020.json.gz\n",
      "/Product_macombbike.com_September2020.json.gz\n"
     ]
    },
    {
     "name": "stderr",
     "output_type": "stream",
     "text": [
      " 74% (1199 of 1614) |##############      | Elapsed Time: 0:02:10 ETA:   0:00:49"
     ]
    },
    {
     "name": "stdout",
     "output_type": "stream",
     "text": [
      "/Product_watchshopping.com_September2020.json.gz\n",
      "/Product_datch.company_September2020.json.gz\n",
      "/Product_amatteroffax.com_September2020.json.gz\n"
     ]
    },
    {
     "name": "stderr",
     "output_type": "stream",
     "text": [
      " 74% (1204 of 1614) |##############      | Elapsed Time: 0:02:10 ETA:   0:00:50"
     ]
    },
    {
     "name": "stdout",
     "output_type": "stream",
     "text": [
      "/Product_growersoutletinwillis.com_September2020.json.gz\n",
      "/Product_handhcarpets.com_September2020.json.gz\n",
      "/Product_fateka.com_September2020.json.gz\n",
      "/Product_bikehabitat.com_September2020.json.gz\n"
     ]
    },
    {
     "name": "stderr",
     "output_type": "stream",
     "text": [
      " 74% (1208 of 1614) |##############      | Elapsed Time: 0:02:11 ETA:   0:00:35"
     ]
    },
    {
     "name": "stdout",
     "output_type": "stream",
     "text": [
      "/Product_star-power.com_September2020.json.gz\n",
      "/Product_mediqc.com_September2020.json.gz\n",
      "/Product_tucsonendurancecenter.com_September2020.json.gz\n",
      "/Product_nasty-queen.com_September2020.json.gz\n"
     ]
    },
    {
     "name": "stderr",
     "output_type": "stream",
     "text": [
      "\r",
      " 74% (1210 of 1614) |##############      | Elapsed Time: 0:02:11 ETA:   0:00:36"
     ]
    },
    {
     "name": "stdout",
     "output_type": "stream",
     "text": [
      "/Product_collegestreetcycles.com_September2020.json.gz\n",
      "/Product_joyeriamunoz.com_September2020.json.gz\n"
     ]
    },
    {
     "name": "stderr",
     "output_type": "stream",
     "text": [
      " 75% (1215 of 1614) |###############     | Elapsed Time: 0:02:11 ETA:   0:00:35"
     ]
    },
    {
     "name": "stdout",
     "output_type": "stream",
     "text": [
      "/Product_fairpricecarpets.com_September2020.json.gz\n",
      "/Product_vavcisalon.com_September2020.json.gz\n",
      "/Product_folsomlakehyundai.com_September2020.json.gz\n",
      "/Product_newlookfloors.net_September2020.json.gz\n",
      "/Product_toposoutdoor.com_September2020.json.gz\n"
     ]
    },
    {
     "name": "stderr",
     "output_type": "stream",
     "text": [
      "\r",
      " 75% (1217 of 1614) |###############     | Elapsed Time: 0:02:11 ETA:   0:00:35"
     ]
    },
    {
     "name": "stdout",
     "output_type": "stream",
     "text": [
      "/Product_reviewofprint.com_September2020.json.gz\n",
      "/Product_lakerpontoonboats.com_September2020.json.gz\n",
      "/Product_menke-floorscapes.com_September2020.json.gz\n",
      "/Product_yatakshop.com_September2020.json.gz\n"
     ]
    },
    {
     "name": "stderr",
     "output_type": "stream",
     "text": [
      " 75% (1223 of 1614) |###############     | Elapsed Time: 0:02:12 ETA:   0:00:31"
     ]
    },
    {
     "name": "stdout",
     "output_type": "stream",
     "text": [
      "/Product_sabotage-oddal.com_September2020.json.gz\n",
      "/Product_phodongho.com.vn_September2020.json.gz\n",
      "/Product_gearthirty.com_September2020.json.gz\n",
      "/Product_bgindy.com_September2020.json.gz\n"
     ]
    },
    {
     "name": "stderr",
     "output_type": "stream",
     "text": [
      "\r",
      " 75% (1226 of 1614) |###############     | Elapsed Time: 0:02:12 ETA:   0:00:28"
     ]
    },
    {
     "name": "stdout",
     "output_type": "stream",
     "text": [
      "/Product_gunas2.com_September2020.json.gz\n",
      "/Product_leatherjacketmakers.com_September2020.json.gz\n",
      "/Product_onlinestorez.com_September2020.json.gz\n",
      "/Product_vps.com.au_September2020.json.gz\n",
      "/Product_napalmi.com_September2020.json.gz\n",
      "/Product_luxewatches.co.uk_September2020.json.gz\n"
     ]
    },
    {
     "name": "stderr",
     "output_type": "stream",
     "text": [
      "\r",
      " 76% (1230 of 1614) |###############     | Elapsed Time: 0:02:12 ETA:   0:00:26"
     ]
    },
    {
     "name": "stdout",
     "output_type": "stream",
     "text": [
      "/Product_bikegallery.com_September2020.json.gz\n"
     ]
    },
    {
     "name": "stderr",
     "output_type": "stream",
     "text": [
      " 76% (1232 of 1614) |###############     | Elapsed Time: 0:02:12 ETA:   0:00:28"
     ]
    },
    {
     "name": "stdout",
     "output_type": "stream",
     "text": [
      "/Product_retravision.com.au_September2020.json.gz\n",
      "/Product_carmarthencameras.com_September2020.json.gz\n"
     ]
    },
    {
     "name": "stderr",
     "output_type": "stream",
     "text": [
      " 76% (1235 of 1614) |###############     | Elapsed Time: 0:02:13 ETA:   0:00:24"
     ]
    },
    {
     "name": "stdout",
     "output_type": "stream",
     "text": [
      "/Product_patriciotile.com_September2020.json.gz\n",
      "/Product_avcstore.com_September2020.json.gz\n",
      "/Product_swingawaycreations.com_September2020.json.gz\n",
      "/Product_simasflooranddesign.com_September2020.json.gz\n"
     ]
    },
    {
     "name": "stderr",
     "output_type": "stream",
     "text": [
      " 76% (1241 of 1614) |###############     | Elapsed Time: 0:02:13 ETA:   0:00:23"
     ]
    },
    {
     "name": "stdout",
     "output_type": "stream",
     "text": [
      "/Product_sockologie.com_September2020.json.gz\n",
      "/Product_portcitycycles.com.au_September2020.json.gz\n",
      "/Product_urbanpalms.com_September2020.json.gz\n",
      "/Product_downtownbicycles.com_September2020.json.gz\n",
      "/Product_procyclingoutlet.com_September2020.json.gz\n",
      "/Product_mysticalmoonbmt.com_September2020.json.gz\n",
      "/Product_pagosabikeshop.com_September2020.json.gz\n"
     ]
    },
    {
     "name": "stderr",
     "output_type": "stream",
     "text": [
      " 77% (1247 of 1614) |###############     | Elapsed Time: 0:02:13 ETA:   0:00:21"
     ]
    },
    {
     "name": "stdout",
     "output_type": "stream",
     "text": [
      "/Product_tansyhairandbeauty.co.uk_September2020.json.gz\n",
      "/Product_ckcollection.com_September2020.json.gz\n",
      "/Product_builderssource.com_September2020.json.gz\n",
      "/Product_bike-rack.com_September2020.json.gz\n"
     ]
    },
    {
     "name": "stderr",
     "output_type": "stream",
     "text": [
      " 77% (1250 of 1614) |###############     | Elapsed Time: 0:02:13 ETA:   0:00:23"
     ]
    },
    {
     "name": "stdout",
     "output_type": "stream",
     "text": [
      "/Product_france-health.com_September2020.json.gz\n",
      "/Product_elektrosepeti.com_September2020.json.gz\n",
      "/Product_pcmundo.com.mx_September2020.json.gz\n",
      "/Product_1clicksafety.com_September2020.json.gz\n"
     ]
    },
    {
     "name": "stderr",
     "output_type": "stream",
     "text": [
      "\r",
      " 77% (1254 of 1614) |###############     | Elapsed Time: 0:02:14 ETA:   0:00:22"
     ]
    },
    {
     "name": "stdout",
     "output_type": "stream",
     "text": [
      "/Product_reynoldsandsons.com_September2020.json.gz\n",
      "/Product_sabinastore.com_September2020.json.gz\n",
      "/Product_lelong.com.my_September2020.json.gz\n"
     ]
    },
    {
     "name": "stderr",
     "output_type": "stream",
     "text": [
      "\r",
      " 77% (1255 of 1614) |###############     | Elapsed Time: 0:02:14 ETA:   0:00:25"
     ]
    },
    {
     "name": "stdout",
     "output_type": "stream",
     "text": [
      "/Product_toysrusmena.com_September2020.json.gz\n"
     ]
    },
    {
     "name": "stderr",
     "output_type": "stream",
     "text": [
      " 77% (1258 of 1614) |###############     | Elapsed Time: 0:02:14 ETA:   0:00:28"
     ]
    },
    {
     "name": "stdout",
     "output_type": "stream",
     "text": [
      "/Product_jw.com.au_September2020.json.gz\n",
      "/Product_zpcinformatica.com_September2020.json.gz\n",
      "/Product_pcbyte.com.au_September2020.json.gz\n",
      "/Product_landyschemist.com_September2020.json.gz\n"
     ]
    },
    {
     "name": "stderr",
     "output_type": "stream",
     "text": [
      "\r",
      " 78% (1260 of 1614) |###############     | Elapsed Time: 0:02:15 ETA:   0:00:28"
     ]
    },
    {
     "name": "stdout",
     "output_type": "stream",
     "text": [
      "/Product_swamp.net.au_September2020.json.gz\n"
     ]
    },
    {
     "name": "stderr",
     "output_type": "stream",
     "text": [
      " 78% (1263 of 1614) |###############     | Elapsed Time: 0:02:15 ETA:   0:00:33"
     ]
    },
    {
     "name": "stdout",
     "output_type": "stream",
     "text": [
      "/Product_simeonnetworks.com_September2020.json.gz\n",
      "/Product_goldensbikeshop.com_September2020.json.gz\n",
      "/Product_christoffandsons.com_September2020.json.gz\n",
      "/Product_thesoleline.com_September2020.json.gz\n"
     ]
    },
    {
     "name": "stderr",
     "output_type": "stream",
     "text": [
      " 78% (1266 of 1614) |###############     | Elapsed Time: 0:02:15 ETA:   0:00:37"
     ]
    },
    {
     "name": "stdout",
     "output_type": "stream",
     "text": [
      "/Product_bemidjisnd.com_September2020.json.gz\n",
      "/Product_orthostatmedicalsupply.com_September2020.json.gz\n",
      "/Product_tuffney.com_September2020.json.gz\n",
      "/Product_outspokinbicycles.com_September2020.json.gz\n"
     ]
    },
    {
     "name": "stderr",
     "output_type": "stream",
     "text": [
      " 78% (1271 of 1614) |###############     | Elapsed Time: 0:02:15 ETA:   0:00:31"
     ]
    },
    {
     "name": "stdout",
     "output_type": "stream",
     "text": [
      "/Product_sbrofallon.com_September2020.json.gz\n",
      "/Product_shopshag.com_September2020.json.gz\n",
      "/Product_stylewithcece.com_September2020.json.gz\n",
      "/Product_clinicalposters.com_September2020.json.gz\n"
     ]
    },
    {
     "name": "stderr",
     "output_type": "stream",
     "text": [
      " 78% (1275 of 1614) |###############     | Elapsed Time: 0:02:16 ETA:   0:00:33"
     ]
    },
    {
     "name": "stdout",
     "output_type": "stream",
     "text": [
      "/Product_tondeesfurniture.com_September2020.json.gz\n",
      "/Product_lelyssucree.net_September2020.json.gz\n",
      "/Product_treesdirect.co.uk_September2020.json.gz\n",
      "/Product_salemcycle.com_September2020.json.gz\n"
     ]
    },
    {
     "name": "stderr",
     "output_type": "stream",
     "text": [
      " 79% (1279 of 1614) |###############     | Elapsed Time: 0:02:16 ETA:   0:00:29"
     ]
    },
    {
     "name": "stdout",
     "output_type": "stream",
     "text": [
      "/Product_applianceliquidators.com_September2020.json.gz\n",
      "/Product_maxsafetyproducts.com_September2020.json.gz\n",
      "/Product_bestwayruston.com_September2020.json.gz\n",
      "/Product_sorensonsappliance.com_September2020.json.gz\n"
     ]
    },
    {
     "name": "stderr",
     "output_type": "stream",
     "text": [
      " 79% (1284 of 1614) |###############     | Elapsed Time: 0:02:16 ETA:   0:00:23"
     ]
    },
    {
     "name": "stdout",
     "output_type": "stream",
     "text": [
      "/Product_grinerjewelryco.com_September2020.json.gz\n",
      "/Product_naffcofloorsandinteriors.com_September2020.json.gz\n",
      "/Product_gamarraecommerce.com_September2020.json.gz\n",
      "/Product_allegrocyclery.com_September2020.json.gz\n",
      "/Product_theoddspoke.com.au_September2020.json.gz\n"
     ]
    },
    {
     "name": "stderr",
     "output_type": "stream",
     "text": [
      " 79% (1288 of 1614) |###############     | Elapsed Time: 0:02:16 ETA:   0:00:23"
     ]
    },
    {
     "name": "stdout",
     "output_type": "stream",
     "text": [
      "/Product_biwizehome.com_September2020.json.gz\n",
      "/Product_dixieselfdefense.com_September2020.json.gz\n",
      "/Product_genuinemaytagfestus.com_September2020.json.gz\n",
      "/Product_finebrandwatches.com_September2020.json.gz\n"
     ]
    },
    {
     "name": "stderr",
     "output_type": "stream",
     "text": [
      " 80% (1293 of 1614) |################    | Elapsed Time: 0:02:17 ETA:   0:00:21"
     ]
    },
    {
     "name": "stdout",
     "output_type": "stream",
     "text": [
      "/Product_fashionfloorcenter.com_September2020.json.gz\n",
      "/Product_mastermindtri.com_September2020.json.gz\n",
      "/Product_interstateappliance.com_September2020.json.gz\n",
      "/Product_voipsupply.com_September2020.json.gz\n"
     ]
    },
    {
     "name": "stderr",
     "output_type": "stream",
     "text": [
      "\r",
      " 80% (1294 of 1614) |################    | Elapsed Time: 0:02:17 ETA:   0:00:22"
     ]
    },
    {
     "name": "stdout",
     "output_type": "stream",
     "text": [
      "/Product_titaniccenter.com_September2020.json.gz\n",
      "/Product_euro.com.pl_September2020.json.gz\n"
     ]
    },
    {
     "name": "stderr",
     "output_type": "stream",
     "text": [
      " 80% (1299 of 1614) |################    | Elapsed Time: 0:02:18 ETA:   0:00:29"
     ]
    },
    {
     "name": "stdout",
     "output_type": "stream",
     "text": [
      "/Product_brummelshomefurnishings.com_September2020.json.gz\n",
      "/Product_talaco.net_September2020.json.gz\n",
      "/Product_arcadiarooms.com_September2020.json.gz\n",
      "/Product_storehongkong.com_September2020.json.gz\n",
      "/Product_yatesflooring.com_September2020.json.gz\n",
      "/Product_cameramall.com_September2020.json.gz\n"
     ]
    },
    {
     "name": "stderr",
     "output_type": "stream",
     "text": [
      "\r",
      " 80% (1302 of 1614) |################    | Elapsed Time: 0:02:18 ETA:   0:00:30"
     ]
    },
    {
     "name": "stdout",
     "output_type": "stream",
     "text": [
      "/Product_gamma-it.com_September2020.json.gz\n",
      "/Product_casesbychristina.com_September2020.json.gz\n",
      "/Product_woodinvillebicycle.com_September2020.json.gz\n"
     ]
    },
    {
     "name": "stderr",
     "output_type": "stream",
     "text": [
      " 81% (1308 of 1614) |################    | Elapsed Time: 0:02:19 ETA:   0:00:34"
     ]
    },
    {
     "name": "stdout",
     "output_type": "stream",
     "text": [
      "/Product_stevesapplianceme.com_September2020.json.gz\n",
      "/Product_signalgroup.com.au_September2020.json.gz\n",
      "/Product_milkandhoneybabies.com_September2020.json.gz\n",
      "/Product_superrunnersshop.com_September2020.json.gz\n",
      "/Product_bngsports.com.au_September2020.json.gz\n"
     ]
    },
    {
     "name": "stderr",
     "output_type": "stream",
     "text": [
      " 81% (1311 of 1614) |################    | Elapsed Time: 0:02:19 ETA:   0:00:35"
     ]
    },
    {
     "name": "stdout",
     "output_type": "stream",
     "text": [
      "/Product_coolgiftsforkidsstore.com_September2020.json.gz\n",
      "/Product_laserink.co.uk_September2020.json.gz\n",
      "/Product_heroicgoodsandgames.com_September2020.json.gz\n"
     ]
    },
    {
     "name": "stderr",
     "output_type": "stream",
     "text": [
      " 81% (1315 of 1614) |################    | Elapsed Time: 0:02:19 ETA:   0:00:29"
     ]
    },
    {
     "name": "stdout",
     "output_type": "stream",
     "text": [
      "/Product_giftapolis.com_September2020.json.gz\n",
      "/Product_roguecycle.com_September2020.json.gz\n",
      "/Product_utairboat.com_September2020.json.gz\n"
     ]
    },
    {
     "name": "stderr",
     "output_type": "stream",
     "text": [
      "\r",
      " 81% (1316 of 1614) |################    | Elapsed Time: 0:02:19 ETA:   0:00:30"
     ]
    },
    {
     "name": "stdout",
     "output_type": "stream",
     "text": [
      "/Product_ebay.com_September2020.json.gz\n"
     ]
    },
    {
     "name": "stderr",
     "output_type": "stream",
     "text": [
      " 81% (1318 of 1614) |################    | Elapsed Time: 0:02:21 ETA:   0:02:03"
     ]
    },
    {
     "name": "stdout",
     "output_type": "stream",
     "text": [
      "/Product_ucycle.com_September2020.json.gz\n",
      "/Product_ronsmith.co.uk_September2020.json.gz\n"
     ]
    },
    {
     "name": "stderr",
     "output_type": "stream",
     "text": [
      "\r",
      " 81% (1320 of 1614) |################    | Elapsed Time: 0:02:21 ETA:   0:02:02"
     ]
    },
    {
     "name": "stdout",
     "output_type": "stream",
     "text": [
      "/Product_campfirecycling.com_September2020.json.gz\n",
      "/Product_provideosevilla.com_September2020.json.gz\n",
      "/Product_dronesdirect.co.uk_September2020.json.gz\n",
      "/Product_urashop8x.com_September2020.json.gz\n"
     ]
    },
    {
     "name": "stderr",
     "output_type": "stream",
     "text": [
      " 82% (1325 of 1614) |################    | Elapsed Time: 0:02:22 ETA:   0:01:12"
     ]
    },
    {
     "name": "stdout",
     "output_type": "stream",
     "text": [
      "/Product_milfordbicycle.com_September2020.json.gz\n",
      "/Product_teamdigital.com.au_September2020.json.gz\n",
      "/Product_estimasports.com_September2020.json.gz\n",
      "/Product_northtownebikes.com_September2020.json.gz\n"
     ]
    },
    {
     "name": "stderr",
     "output_type": "stream",
     "text": [
      " 82% (1328 of 1614) |################    | Elapsed Time: 0:02:22 ETA:   0:01:01"
     ]
    },
    {
     "name": "stdout",
     "output_type": "stream",
     "text": [
      "/Product_annarborchocolate.com_September2020.json.gz\n",
      "/Product_parapharmanet.com_September2020.json.gz\n",
      "/Product_bikemart.com_September2020.json.gz\n"
     ]
    },
    {
     "name": "stderr",
     "output_type": "stream",
     "text": [
      "\r",
      " 82% (1330 of 1614) |################    | Elapsed Time: 0:02:22 ETA:   0:00:55"
     ]
    },
    {
     "name": "stdout",
     "output_type": "stream",
     "text": [
      "/Product_bismillahbiryani.com_September2020.json.gz\n",
      "/Product_alltechlife.com_September2020.json.gz\n"
     ]
    },
    {
     "name": "stderr",
     "output_type": "stream",
     "text": [
      " 82% (1333 of 1614) |################    | Elapsed Time: 0:02:26 ETA:   0:05:34"
     ]
    },
    {
     "name": "stdout",
     "output_type": "stream",
     "text": [
      "/Product_agrifeedpetsupply.com_September2020.json.gz\n",
      "/Product_rocake.com_September2020.json.gz\n"
     ]
    },
    {
     "name": "stderr",
     "output_type": "stream",
     "text": [
      "\r",
      " 82% (1335 of 1614) |################    | Elapsed Time: 0:02:26 ETA:   0:03:25"
     ]
    },
    {
     "name": "stdout",
     "output_type": "stream",
     "text": [
      "/Product_hipposstunguns.com_September2020.json.gz\n",
      "/Product_cakerswarehouse.com.au_September2020.json.gz\n",
      "/Product_spinbikeshop.com_September2020.json.gz\n"
     ]
    },
    {
     "name": "stderr",
     "output_type": "stream",
     "text": [
      " 83% (1340 of 1614) |################    | Elapsed Time: 0:02:26 ETA:   0:01:52"
     ]
    },
    {
     "name": "stdout",
     "output_type": "stream",
     "text": [
      "/Product_hippiehempsoaps.com_September2020.json.gz\n",
      "/Product_meuchevette.com_September2020.json.gz\n",
      "/Product_rvebike.com_September2020.json.gz\n",
      "/Product_jemequipe.com_September2020.json.gz\n"
     ]
    },
    {
     "name": "stderr",
     "output_type": "stream",
     "text": [
      " 83% (1345 of 1614) |################    | Elapsed Time: 0:02:26 ETA:   0:01:17"
     ]
    },
    {
     "name": "stdout",
     "output_type": "stream",
     "text": [
      "/Product_kluesnerflooring.com_September2020.json.gz\n",
      "/Product_homehaven.net_September2020.json.gz\n",
      "/Product_planetselfdefense.com_September2020.json.gz\n",
      "/Product_palmtile.com_September2020.json.gz\n",
      "/Product_westbikes.com_September2020.json.gz\n"
     ]
    },
    {
     "name": "stderr",
     "output_type": "stream",
     "text": [
      "\r",
      " 83% (1346 of 1614) |################    | Elapsed Time: 0:02:27 ETA:   0:01:15"
     ]
    },
    {
     "name": "stdout",
     "output_type": "stream",
     "text": [
      "/Product_gjirafamall.com_September2020.json.gz\n",
      "/Product_holabirdsports.com_September2020.json.gz\n"
     ]
    },
    {
     "name": "stderr",
     "output_type": "stream",
     "text": [
      " 83% (1349 of 1614) |################    | Elapsed Time: 0:02:27 ETA:   0:01:12"
     ]
    },
    {
     "name": "stdout",
     "output_type": "stream",
     "text": [
      "/Product_skorpion-design.com_September2020.json.gz\n",
      "/Product_bikeauthority.com_September2020.json.gz\n"
     ]
    },
    {
     "name": "stderr",
     "output_type": "stream",
     "text": [
      " 83% (1352 of 1614) |################    | Elapsed Time: 0:02:27 ETA:   0:01:02"
     ]
    },
    {
     "name": "stdout",
     "output_type": "stream",
     "text": [
      "/Product_schohariesoilandwater.org_September2020.json.gz\n",
      "/Product_smithandbevill.com_September2020.json.gz\n",
      "/Product_artscameras.com_September2020.json.gz\n",
      "/Product_nakeahsacademyofmakeup.com_September2020.json.gz\n",
      "/Product_maxgaming.com_September2020.json.gz\n"
     ]
    },
    {
     "name": "stderr",
     "output_type": "stream",
     "text": [
      " 84% (1357 of 1614) |################    | Elapsed Time: 0:02:28 ETA:   0:00:21"
     ]
    },
    {
     "name": "stdout",
     "output_type": "stream",
     "text": [
      "/Product_defensemerchandise.com_September2020.json.gz\n",
      "/Product_dealsallyear.com_September2020.json.gz\n",
      "/Product_zorinstechnologies.com_September2020.json.gz\n",
      "/Product_viotek.com_September2020.json.gz\n",
      "/Product_icit.net.au_September2020.json.gz\n",
      "/Product_gannettpeaksports.com_September2020.json.gz\n"
     ]
    },
    {
     "name": "stderr",
     "output_type": "stream",
     "text": [
      "\r",
      " 84% (1361 of 1614) |################    | Elapsed Time: 0:02:28 ETA:   0:00:19"
     ]
    },
    {
     "name": "stdout",
     "output_type": "stream",
     "text": [
      "/Product_ozgameshop.com_September2020.json.gz\n"
     ]
    },
    {
     "name": "stderr",
     "output_type": "stream",
     "text": [
      " 84% (1365 of 1614) |################    | Elapsed Time: 0:02:28 ETA:   0:00:25"
     ]
    },
    {
     "name": "stdout",
     "output_type": "stream",
     "text": [
      "/Product_martelelectronics.com_September2020.json.gz\n",
      "/Product_tankservices.co.uk_September2020.json.gz\n",
      "/Product_rickhendricktoyotasandysprings.com_September2020.json.gz\n",
      "/Product_griffinsfloorcrafters.com_September2020.json.gz\n",
      "/Product_themusicmotel.com_September2020.json.gz\n",
      "/Product_citybikesonline.com_September2020.json.gz\n"
     ]
    },
    {
     "name": "stderr",
     "output_type": "stream",
     "text": [
      " 84% (1369 of 1614) |################    | Elapsed Time: 0:02:29 ETA:   0:00:24"
     ]
    },
    {
     "name": "stdout",
     "output_type": "stream",
     "text": [
      "/Product_mountainbikespecialists.com_September2020.json.gz\n",
      "/Product_bearessence.com.au_September2020.json.gz\n"
     ]
    },
    {
     "name": "stderr",
     "output_type": "stream",
     "text": [
      "\r",
      " 84% (1371 of 1614) |################    | Elapsed Time: 0:02:29 ETA:   0:00:22"
     ]
    },
    {
     "name": "stdout",
     "output_type": "stream",
     "text": [
      "/Product_beachcamera.com_September2020.json.gz\n",
      "/Product_montredo.com_September2020.json.gz\n"
     ]
    },
    {
     "name": "stderr",
     "output_type": "stream",
     "text": [
      " 85% (1377 of 1614) |#################   | Elapsed Time: 0:02:29 ETA:   0:00:19"
     ]
    },
    {
     "name": "stdout",
     "output_type": "stream",
     "text": [
      "/Product_spokensportinc.net_September2020.json.gz\n",
      "/Product_bronxhomewares.com.au_September2020.json.gz\n",
      "/Product_ebonth.com_September2020.json.gz\n",
      "/Product_usedcisco.com_September2020.json.gz\n",
      "/Product_skywaysdirect.com_September2020.json.gz\n",
      "/Product_allspeed.com_September2020.json.gz\n"
     ]
    },
    {
     "name": "stderr",
     "output_type": "stream",
     "text": [
      " 85% (1383 of 1614) |#################   | Elapsed Time: 0:02:30 ETA:   0:00:18"
     ]
    },
    {
     "name": "stdout",
     "output_type": "stream",
     "text": [
      "/Product_your-best-buy.com_September2020.json.gz\n",
      "/Product_shopgdt.com_September2020.json.gz\n",
      "/Product_american-interiors.com_September2020.json.gz\n",
      "/Product_flowerfunky.com_September2020.json.gz\n",
      "/Product_northpointappliance.com_September2020.json.gz\n",
      "/Product_chooseyourgift.com_September2020.json.gz\n"
     ]
    },
    {
     "name": "stderr",
     "output_type": "stream",
     "text": [
      " 85% (1387 of 1614) |#################   | Elapsed Time: 0:02:30 ETA:   0:00:18"
     ]
    },
    {
     "name": "stdout",
     "output_type": "stream",
     "text": [
      "/Product_surfacesnw.com_September2020.json.gz\n",
      "/Product_cistaarts.com_September2020.json.gz\n",
      "/Product_nakupovanje.net_September2020.json.gz\n",
      "/Product_societycycles.com_September2020.json.gz\n"
     ]
    },
    {
     "name": "stderr",
     "output_type": "stream",
     "text": [
      " 86% (1393 of 1614) |#################   | Elapsed Time: 0:02:30 ETA:   0:00:16"
     ]
    },
    {
     "name": "stdout",
     "output_type": "stream",
     "text": [
      "/Product_couchpotatocarpet.com_September2020.json.gz\n",
      "/Product_matek.net_September2020.json.gz\n",
      "/Product_thecyclingfix.com.au_September2020.json.gz\n",
      "/Product_mirocom.com.mx_September2020.json.gz\n",
      "/Product_truehardwoods.com_September2020.json.gz\n",
      "/Product_bikemasterscycling.com_September2020.json.gz\n"
     ]
    },
    {
     "name": "stderr",
     "output_type": "stream",
     "text": [
      " 86% (1395 of 1614) |#################   | Elapsed Time: 0:02:30 ETA:   0:00:13"
     ]
    },
    {
     "name": "stdout",
     "output_type": "stream",
     "text": [
      "/Product_essential-watches.com_September2020.json.gz\n",
      "/Product_avacab-online.com_September2020.json.gz\n"
     ]
    },
    {
     "name": "stderr",
     "output_type": "stream",
     "text": [
      "\r",
      " 86% (1397 of 1614) |#################   | Elapsed Time: 0:02:31 ETA:   0:00:13"
     ]
    },
    {
     "name": "stdout",
     "output_type": "stream",
     "text": [
      "/Product_soupstodesserts.com_September2020.json.gz\n",
      "/Product_sunlotusresource.com_September2020.json.gz\n",
      "/Product_shopdegroods.com_September2020.json.gz\n",
      "/Product_boulanger.com_September2020.json.gz\n"
     ]
    },
    {
     "name": "stderr",
     "output_type": "stream",
     "text": [
      "\r",
      " 86% (1400 of 1614) |#################   | Elapsed Time: 0:02:31 ETA:   0:00:15"
     ]
    },
    {
     "name": "stdout",
     "output_type": "stream",
     "text": [
      "/Product_samspc.com_September2020.json.gz\n",
      "/Product_vegashdtv.com_September2020.json.gz\n",
      "/Product_jrdunn.com_September2020.json.gz\n"
     ]
    },
    {
     "name": "stderr",
     "output_type": "stream",
     "text": [
      " 87% (1405 of 1614) |#################   | Elapsed Time: 0:02:31 ETA:   0:00:15"
     ]
    },
    {
     "name": "stdout",
     "output_type": "stream",
     "text": [
      "/Product_wanderstyles.com_September2020.json.gz\n",
      "/Product_tiendatr.com_September2020.json.gz\n",
      "/Product_trekbikessouthcarolina.com_September2020.json.gz\n"
     ]
    },
    {
     "name": "stderr",
     "output_type": "stream",
     "text": [
      " 87% (1408 of 1614) |#################   | Elapsed Time: 0:02:32 ETA:   0:00:17"
     ]
    },
    {
     "name": "stdout",
     "output_type": "stream",
     "text": [
      "/Product_olibodi.com_September2020.json.gz\n",
      "/Product_advanced-cycles.com_September2020.json.gz\n",
      "/Product_alteregosports.com_September2020.json.gz\n"
     ]
    },
    {
     "name": "stderr",
     "output_type": "stream",
     "text": [
      "\r",
      " 87% (1409 of 1614) |#################   | Elapsed Time: 0:02:32 ETA:   0:00:17"
     ]
    },
    {
     "name": "stdout",
     "output_type": "stream",
     "text": [
      "/Product_omc-objets-connectes.com_September2020.json.gz\n",
      "/Product_laybyland.com.au_September2020.json.gz\n",
      "/Product_naturalchoicepetfoods.co.uk_September2020.json.gz\n",
      "/Product_opticalh.com_September2020.json.gz\n"
     ]
    },
    {
     "name": "stderr",
     "output_type": "stream",
     "text": [
      " 87% (1416 of 1614) |#################   | Elapsed Time: 0:02:32 ETA:   0:00:19"
     ]
    },
    {
     "name": "stdout",
     "output_type": "stream",
     "text": [
      "/Product_securitycamexpert.com_September2020.json.gz\n",
      "/Product_hofapotheken.com_September2020.json.gz\n",
      "/Product_castleink.com_September2020.json.gz\n",
      "/Product_claytonflooringcenter.com_September2020.json.gz\n",
      "/Product_generator-pro.co.uk_September2020.json.gz\n",
      "/Product_kulaklik.com_September2020.json.gz\n"
     ]
    },
    {
     "name": "stderr",
     "output_type": "stream",
     "text": [
      " 88% (1423 of 1614) |#################   | Elapsed Time: 0:02:33 ETA:   0:00:15"
     ]
    },
    {
     "name": "stdout",
     "output_type": "stream",
     "text": [
      "/Product_stingersupplements.com_September2020.json.gz\n",
      "/Product_yakadventure.com.mx_September2020.json.gz\n",
      "/Product_stpetebicycleandfitness.com_September2020.json.gz\n",
      "/Product_rent2business.com_September2020.json.gz\n",
      "/Product_deltaoutdoors.com_September2020.json.gz\n",
      "/Product_hairbymeniaq.com_September2020.json.gz\n",
      "/Product_hypop.com.au_September2020.json.gz\n"
     ]
    },
    {
     "name": "stderr",
     "output_type": "stream",
     "text": [
      "\r",
      " 88% (1426 of 1614) |#################   | Elapsed Time: 0:02:33 ETA:   0:00:14"
     ]
    },
    {
     "name": "stdout",
     "output_type": "stream",
     "text": [
      "/Product_myshopify.com_September2020.json.gz\n"
     ]
    },
    {
     "name": "stderr",
     "output_type": "stream",
     "text": [
      "\r",
      " 88% (1427 of 1614) |#################   | Elapsed Time: 0:03:04 ETA:   1:38:20"
     ]
    },
    {
     "name": "stdout",
     "output_type": "stream",
     "text": [
      "/Product_manhattanrunningco.com_September2020.json.gz\n"
     ]
    },
    {
     "name": "stderr",
     "output_type": "stream",
     "text": [
      " 88% (1430 of 1614) |#################   | Elapsed Time: 0:03:05 ETA:   0:24:34"
     ]
    },
    {
     "name": "stdout",
     "output_type": "stream",
     "text": [
      "/Product_gibbelhome.com_September2020.json.gz\n",
      "/Product_askforthewolfman.com_September2020.json.gz\n",
      "/Product_gorhambike.com_September2020.json.gz\n"
     ]
    },
    {
     "name": "stderr",
     "output_type": "stream",
     "text": [
      " 88% (1433 of 1614) |#################   | Elapsed Time: 0:03:05 ETA:   0:13:59"
     ]
    },
    {
     "name": "stdout",
     "output_type": "stream",
     "text": [
      "/Product_motoliberty.com_September2020.json.gz\n",
      "/Product_greatdividecyclery.com_September2020.json.gz\n",
      "/Product_stylefairyboutique.co.uk_September2020.json.gz\n",
      "/Product_lasvegascyclery.com_September2020.json.gz\n"
     ]
    },
    {
     "name": "stderr",
     "output_type": "stream",
     "text": [
      " 88% (1436 of 1614) |#################   | Elapsed Time: 0:03:06 ETA:   0:09:45"
     ]
    },
    {
     "name": "stdout",
     "output_type": "stream",
     "text": [
      "/Product_scubadoctor.com.au_September2020.json.gz\n",
      "/Product_melbournemarine.com.au_September2020.json.gz\n"
     ]
    },
    {
     "name": "stderr",
     "output_type": "stream",
     "text": [
      "\r",
      " 89% (1439 of 1614) |#################   | Elapsed Time: 0:03:06 ETA:   0:07:24"
     ]
    },
    {
     "name": "stdout",
     "output_type": "stream",
     "text": [
      "/Product_fortespyproductions.com_September2020.json.gz\n",
      "/Product_guygunterhome.com_September2020.json.gz\n",
      "/Product_3dlipoeastbourne.com_September2020.json.gz\n",
      "/Product_eu.com_September2020.json.gz\n"
     ]
    },
    {
     "name": "stderr",
     "output_type": "stream",
     "text": [
      " 89% (1444 of 1614) |#################   | Elapsed Time: 0:03:06 ETA:   0:00:20"
     ]
    },
    {
     "name": "stdout",
     "output_type": "stream",
     "text": [
      "/Product_pskmegastore.com_September2020.json.gz\n",
      "/Product_5thaveshop.com_September2020.json.gz\n",
      "/Product_danvillebikes.com_September2020.json.gz\n",
      "/Product_masterc.co.uk_September2020.json.gz\n",
      "/Product_foreverabrave.com_September2020.json.gz\n"
     ]
    },
    {
     "name": "stderr",
     "output_type": "stream",
     "text": [
      " 89% (1448 of 1614) |#################   | Elapsed Time: 0:03:07 ETA:   0:00:17"
     ]
    },
    {
     "name": "stdout",
     "output_type": "stream",
     "text": [
      "/Product_vichy-lb.com_September2020.json.gz\n",
      "/Product_voitektv.com_September2020.json.gz\n",
      "/Product_latuacartuccia.com_September2020.json.gz\n",
      "/Product_raeofsunshinelife.com_September2020.json.gz\n"
     ]
    },
    {
     "name": "stderr",
     "output_type": "stream",
     "text": [
      " 90% (1453 of 1614) |##################  | Elapsed Time: 0:03:07 ETA:   0:00:14"
     ]
    },
    {
     "name": "stdout",
     "output_type": "stream",
     "text": [
      "/Product_devoraprecios.com_September2020.json.gz\n",
      "/Product_hornessafetysolutions.com_September2020.json.gz\n",
      "/Product_countrysidecarpetandpaint.com_September2020.json.gz\n",
      "/Product_feldmarwatch.com_September2020.json.gz\n",
      "/Product_waltscycle.com_September2020.json.gz\n",
      "/Product_perfumescanarias.com_September2020.json.gz\n"
     ]
    },
    {
     "name": "stderr",
     "output_type": "stream",
     "text": [
      "\r",
      " 90% (1456 of 1614) |##################  | Elapsed Time: 0:03:07 ETA:   0:00:13"
     ]
    },
    {
     "name": "stdout",
     "output_type": "stream",
     "text": [
      "/Product_thevelolove.com_September2020.json.gz\n",
      "/Product_lemcketvandappliances.com_September2020.json.gz\n",
      "/Product_target.com_September2020.json.gz\n"
     ]
    },
    {
     "name": "stderr",
     "output_type": "stream",
     "text": [
      "\r",
      " 90% (1459 of 1614) |##################  | Elapsed Time: 0:03:08 ETA:   0:00:13"
     ]
    },
    {
     "name": "stdout",
     "output_type": "stream",
     "text": [
      "/Product_kreggers.com_September2020.json.gz\n",
      "/Product_myhealthywoe.com_September2020.json.gz\n",
      "/Product_wachusettliquors.com_September2020.json.gz\n"
     ]
    },
    {
     "name": "stderr",
     "output_type": "stream",
     "text": [
      "\r",
      " 90% (1462 of 1614) |##################  | Elapsed Time: 0:03:08 ETA:   0:00:13"
     ]
    },
    {
     "name": "stdout",
     "output_type": "stream",
     "text": [
      "/Product_fotokungen.com_September2020.json.gz\n",
      "/Product_rappi.com.mx_September2020.json.gz\n",
      "/Product_worldwidecyclery.com_September2020.json.gz\n"
     ]
    },
    {
     "name": "stderr",
     "output_type": "stream",
     "text": [
      " 90% (1467 of 1614) |##################  | Elapsed Time: 0:03:08 ETA:   0:00:11"
     ]
    },
    {
     "name": "stdout",
     "output_type": "stream",
     "text": [
      "/Product_wipoid.com_September2020.json.gz\n",
      "/Product_shopatcentral.com_September2020.json.gz\n",
      "/Product_kozy.com_September2020.json.gz\n"
     ]
    },
    {
     "name": "stderr",
     "output_type": "stream",
     "text": [
      "\r",
      " 90% (1468 of 1614) |##################  | Elapsed Time: 0:03:08 ETA:   0:00:12"
     ]
    },
    {
     "name": "stdout",
     "output_type": "stream",
     "text": [
      "/Product_btfurnishings.com_September2020.json.gz\n",
      "/Product_cyclecraft.com_September2020.json.gz\n"
     ]
    },
    {
     "name": "stderr",
     "output_type": "stream",
     "text": [
      " 91% (1473 of 1614) |##################  | Elapsed Time: 0:03:09 ETA:   0:00:12"
     ]
    },
    {
     "name": "stdout",
     "output_type": "stream",
     "text": [
      "/Product_gohermitage.com_September2020.json.gz\n",
      "/Product_theworkwearstore.com_September2020.json.gz\n",
      "/Product_feelgoodfloors.com_September2020.json.gz\n",
      "/Product_gioielleriapaschetta.com_September2020.json.gz\n",
      "/Product_firkinscj.com_September2020.json.gz\n",
      "/Product_drogaraia.com.br_September2020.json.gz\n"
     ]
    },
    {
     "name": "stderr",
     "output_type": "stream",
     "text": [
      " 91% (1478 of 1614) |##################  | Elapsed Time: 0:03:09 ETA:   0:00:13"
     ]
    },
    {
     "name": "stdout",
     "output_type": "stream",
     "text": [
      "/Product_polinadcd.com_September2020.json.gz\n",
      "/Product_artsappliance.com_September2020.json.gz\n",
      "/Product_jaclot.com_September2020.json.gz\n",
      "/Product_bicyclesetc-il.com_September2020.json.gz\n"
     ]
    },
    {
     "name": "stderr",
     "output_type": "stream",
     "text": [
      " 91% (1481 of 1614) |##################  | Elapsed Time: 0:03:09 ETA:   0:00:13"
     ]
    },
    {
     "name": "stdout",
     "output_type": "stream",
     "text": [
      "/Product_arrocha.com_September2020.json.gz\n",
      "/Product_vntch.com_September2020.json.gz\n",
      "/Product_bustersliquors.com_September2020.json.gz\n"
     ]
    },
    {
     "name": "stderr",
     "output_type": "stream",
     "text": [
      " 92% (1486 of 1614) |##################  | Elapsed Time: 0:03:10 ETA:   0:00:10"
     ]
    },
    {
     "name": "stdout",
     "output_type": "stream",
     "text": [
      "/Product_916floors.com_September2020.json.gz\n",
      "/Product_mainstreetfloorcoveringvermont.com_September2020.json.gz\n",
      "/Product_dogisgood.com_September2020.json.gz\n",
      "/Product_howlinbayfield.com_September2020.json.gz\n"
     ]
    },
    {
     "name": "stderr",
     "output_type": "stream",
     "text": [
      "\r",
      " 92% (1488 of 1614) |##################  | Elapsed Time: 0:03:10 ETA:   0:00:10"
     ]
    },
    {
     "name": "stdout",
     "output_type": "stream",
     "text": [
      "/Product_cccarpet.com_September2020.json.gz\n",
      "/Product_quickhard.com_September2020.json.gz\n"
     ]
    },
    {
     "name": "stderr",
     "output_type": "stream",
     "text": [
      " 92% (1492 of 1614) |##################  | Elapsed Time: 0:03:10 ETA:   0:00:10"
     ]
    },
    {
     "name": "stdout",
     "output_type": "stream",
     "text": [
      "/Product_dexterclearance.com_September2020.json.gz\n",
      "/Product_hughiewillett.co.uk_September2020.json.gz\n",
      "/Product_robertsonsofpitlochry.co.uk_September2020.json.gz\n",
      "/Product_kew.org_September2020.json.gz\n"
     ]
    },
    {
     "name": "stderr",
     "output_type": "stream",
     "text": [
      "\r",
      " 92% (1493 of 1614) |##################  | Elapsed Time: 0:03:10 ETA:   0:00:10"
     ]
    },
    {
     "name": "stdout",
     "output_type": "stream",
     "text": [
      "/Product_zotim.com.au_September2020.json.gz\n",
      "/Product_zegarek.net_September2020.json.gz\n"
     ]
    },
    {
     "name": "stderr",
     "output_type": "stream",
     "text": [
      "\r",
      " 92% (1495 of 1614) |##################  | Elapsed Time: 0:03:11 ETA:   0:00:13"
     ]
    },
    {
     "name": "stdout",
     "output_type": "stream",
     "text": [
      "/Product_newrxpharma.com_September2020.json.gz\n",
      "/Product_tlminternational.com_September2020.json.gz\n",
      "/Product_stonemandouglasband.com_September2020.json.gz\n",
      "/Product_tuckahoebikeshop.com_September2020.json.gz\n"
     ]
    },
    {
     "name": "stderr",
     "output_type": "stream",
     "text": [
      " 93% (1503 of 1614) |##################  | Elapsed Time: 0:03:12 ETA:   0:00:10"
     ]
    },
    {
     "name": "stdout",
     "output_type": "stream",
     "text": [
      "/Product_nafgroupbd.com_September2020.json.gz\n",
      "/Product_pingpongpower.co.uk_September2020.json.gz\n",
      "/Product_drinkplg.com_September2020.json.gz\n",
      "/Product_theavstore.com.au_September2020.json.gz\n",
      "/Product_toymazecollectibles.com_September2020.json.gz\n",
      "/Product_shootknekt.com_September2020.json.gz\n",
      "/Product_personalsecuritydepot.com_September2020.json.gz\n"
     ]
    },
    {
     "name": "stderr",
     "output_type": "stream",
     "text": [
      " 93% (1508 of 1614) |##################  | Elapsed Time: 0:03:12 ETA:   0:00:08"
     ]
    },
    {
     "name": "stdout",
     "output_type": "stream",
     "text": [
      "/Product_goprointeriorsinc.com_September2020.json.gz\n",
      "/Product_compusales.com.mx_September2020.json.gz\n",
      "/Product_mczdirect.com_September2020.json.gz\n"
     ]
    },
    {
     "name": "stderr",
     "output_type": "stream",
     "text": [
      "\r",
      " 93% (1509 of 1614) |##################  | Elapsed Time: 0:03:12 ETA:   0:00:09"
     ]
    },
    {
     "name": "stdout",
     "output_type": "stream",
     "text": [
      "/Product_tacwrk.com_September2020.json.gz\n",
      "/Product_brucescycleworks.com_September2020.json.gz\n"
     ]
    },
    {
     "name": "stderr",
     "output_type": "stream",
     "text": [
      " 93% (1512 of 1614) |##################  | Elapsed Time: 0:03:12 ETA:   0:00:09"
     ]
    },
    {
     "name": "stdout",
     "output_type": "stream",
     "text": [
      "/Product_backyardsupplydecor.com_September2020.json.gz\n",
      "/Product_racepacebicycles.com_September2020.json.gz\n"
     ]
    },
    {
     "name": "stderr",
     "output_type": "stream",
     "text": [
      " 93% (1515 of 1614) |##################  | Elapsed Time: 0:03:13 ETA:   0:00:09"
     ]
    },
    {
     "name": "stdout",
     "output_type": "stream",
     "text": [
      "/Product_farmaciatorrent.com_September2020.json.gz\n",
      "/Product_malmomusikaffar.com_September2020.json.gz\n",
      "/Product_valuediscountflooring.com_September2020.json.gz\n",
      "/Product_jetstore.com.mx_September2020.json.gz\n"
     ]
    },
    {
     "name": "stderr",
     "output_type": "stream",
     "text": [
      "\r",
      " 93% (1517 of 1614) |##################  | Elapsed Time: 0:03:13 ETA:   0:00:09"
     ]
    },
    {
     "name": "stdout",
     "output_type": "stream",
     "text": [
      "/Product_ray-ban.com_September2020.json.gz\n"
     ]
    },
    {
     "name": "stderr",
     "output_type": "stream",
     "text": [
      "\r",
      " 94% (1518 of 1614) |##################  | Elapsed Time: 0:03:13 ETA:   0:00:10"
     ]
    },
    {
     "name": "stdout",
     "output_type": "stream",
     "text": [
      "/Product_karkkainen.com_September2020.json.gz\n"
     ]
    },
    {
     "name": "stderr",
     "output_type": "stream",
     "text": [
      " 94% (1522 of 1614) |##################  | Elapsed Time: 0:03:14 ETA:   0:00:13"
     ]
    },
    {
     "name": "stdout",
     "output_type": "stream",
     "text": [
      "/Product_planggersfurniture.com_September2020.json.gz\n",
      "/Product_thegadgetcompany.com_September2020.json.gz\n",
      "/Product_futuromic.com_September2020.json.gz\n",
      "/Product_byluxedesign.com_September2020.json.gz\n",
      "/Product_drogariasaopaulo.com.br_September2020.json.gz\n"
     ]
    },
    {
     "name": "stderr",
     "output_type": "stream",
     "text": [
      " 94% (1526 of 1614) |##################  | Elapsed Time: 0:03:14 ETA:   0:00:10"
     ]
    },
    {
     "name": "stdout",
     "output_type": "stream",
     "text": [
      "/Product_millworksupplyinc.com_September2020.json.gz\n",
      "/Product_henlopenappliance.com_September2020.json.gz\n",
      "/Product_radbitz.com_September2020.json.gz\n",
      "/Product_mikramix.com_September2020.json.gz\n"
     ]
    },
    {
     "name": "stderr",
     "output_type": "stream",
     "text": [
      " 94% (1531 of 1614) |##################  | Elapsed Time: 0:03:14 ETA:   0:00:08"
     ]
    },
    {
     "name": "stdout",
     "output_type": "stream",
     "text": [
      "/Product_n1wireless.com_September2020.json.gz\n",
      "/Product_meerab-industries.com_September2020.json.gz\n",
      "/Product_gunemporium.com.au_September2020.json.gz\n",
      "/Product_appliancecorner.com_September2020.json.gz\n",
      "/Product_shopmtn.com_September2020.json.gz\n"
     ]
    },
    {
     "name": "stderr",
     "output_type": "stream",
     "text": [
      " 95% (1536 of 1614) |################### | Elapsed Time: 0:03:15 ETA:   0:00:07"
     ]
    },
    {
     "name": "stdout",
     "output_type": "stream",
     "text": [
      "/Product_yeucongngheso.com_September2020.json.gz\n",
      "/Product_multinetwork.com.br_September2020.json.gz\n",
      "/Product_izschwartzappliance.com_September2020.json.gz\n",
      "/Product_compedgebikes.com_September2020.json.gz\n"
     ]
    },
    {
     "name": "stderr",
     "output_type": "stream",
     "text": [
      " 95% (1541 of 1614) |################### | Elapsed Time: 0:03:15 ETA:   0:00:06"
     ]
    },
    {
     "name": "stdout",
     "output_type": "stream",
     "text": [
      "/Product_i-sklep.com.pl_September2020.json.gz\n",
      "/Product_it-dealers.com_September2020.json.gz\n",
      "/Product_avaneb.com_September2020.json.gz\n",
      "/Product_swisswatchesdirect.co.uk_September2020.json.gz\n",
      "/Product_ellipsesecurity.com_September2020.json.gz\n",
      "/Product_jaclem.com_September2020.json.gz\n",
      "/Product_surfstitch.com_September2020.json.gz\n"
     ]
    },
    {
     "name": "stderr",
     "output_type": "stream",
     "text": [
      " 95% (1546 of 1614) |################### | Elapsed Time: 0:03:15 ETA:   0:00:05"
     ]
    },
    {
     "name": "stdout",
     "output_type": "stream",
     "text": [
      "/Product_goodsell2me.com_September2020.json.gz\n",
      "/Product_cottinghamtile.com_September2020.json.gz\n",
      "/Product_istanbulsaat.com.tr_September2020.json.gz\n"
     ]
    },
    {
     "name": "stderr",
     "output_type": "stream",
     "text": [
      "\r",
      " 95% (1548 of 1614) |################### | Elapsed Time: 0:03:15 ETA:   0:00:05"
     ]
    },
    {
     "name": "stdout",
     "output_type": "stream",
     "text": [
      "/Product_shop4ph.com_September2020.json.gz\n",
      "/Product_prodirectselect.com_September2020.json.gz\n"
     ]
    },
    {
     "name": "stderr",
     "output_type": "stream",
     "text": [
      "\r",
      " 95% (1549 of 1614) |################### | Elapsed Time: 0:03:16 ETA:   0:00:04"
     ]
    },
    {
     "name": "stdout",
     "output_type": "stream",
     "text": [
      "/Product_swissgbic.com_September2020.json.gz\n",
      "/Product_kens-nursery.com_September2020.json.gz\n"
     ]
    },
    {
     "name": "stderr",
     "output_type": "stream",
     "text": [
      " 96% (1553 of 1614) |################### | Elapsed Time: 0:03:16 ETA:   0:00:04"
     ]
    },
    {
     "name": "stdout",
     "output_type": "stream",
     "text": [
      "/Product_americarpetsoflayton.com_September2020.json.gz\n",
      "/Product_trekspringhill.com_September2020.json.gz\n",
      "/Product_fjariltech.com_September2020.json.gz\n",
      "/Product_datablitz.com.ph_September2020.json.gz\n",
      "/Product_westhillshop.com_September2020.json.gz\n"
     ]
    },
    {
     "name": "stderr",
     "output_type": "stream",
     "text": [
      " 96% (1559 of 1614) |################### | Elapsed Time: 0:03:17 ETA:   0:00:04"
     ]
    },
    {
     "name": "stdout",
     "output_type": "stream",
     "text": [
      "/Product_donperro.com.co_September2020.json.gz\n",
      "/Product_fluidvaper.com_September2020.json.gz\n",
      "/Product_fullcirclecycleorlando.com_September2020.json.gz\n",
      "/Product_rogerheaton.co.uk_September2020.json.gz\n",
      "/Product_precisioncomputerstore.com.au_September2020.json.gz\n"
     ]
    },
    {
     "name": "stderr",
     "output_type": "stream",
     "text": [
      "\r",
      " 96% (1563 of 1614) |################### | Elapsed Time: 0:03:17 ETA:   0:00:04"
     ]
    },
    {
     "name": "stdout",
     "output_type": "stream",
     "text": [
      "/Product_thetvbar.com_September2020.json.gz\n",
      "/Product_purepara.com_September2020.json.gz\n",
      "/Product_bosworthsonline.co.uk_September2020.json.gz\n"
     ]
    },
    {
     "name": "stderr",
     "output_type": "stream",
     "text": [
      " 97% (1566 of 1614) |################### | Elapsed Time: 0:03:17 ETA:   0:00:04"
     ]
    },
    {
     "name": "stdout",
     "output_type": "stream",
     "text": [
      "/Product_gearupcyclery.com_September2020.json.gz\n",
      "/Product_fwcycling.com_September2020.json.gz\n",
      "/Product_completestoves.co.uk_September2020.json.gz\n",
      "/Product_yourflooringwarehouse.com_September2020.json.gz\n"
     ]
    },
    {
     "name": "stderr",
     "output_type": "stream",
     "text": [
      " 97% (1573 of 1614) |################### | Elapsed Time: 0:03:17 ETA:   0:00:03"
     ]
    },
    {
     "name": "stdout",
     "output_type": "stream",
     "text": [
      "/Product_justrunning.com.au_September2020.json.gz\n",
      "/Product_dsiselfdefense.com_September2020.json.gz\n",
      "/Product_lilliputhomedesigns.com_September2020.json.gz\n",
      "/Product_cyclesgervaisrioux.com_September2020.json.gz\n",
      "/Product_system1it.com_September2020.json.gz\n",
      "/Product_eskincarestore.com_September2020.json.gz\n"
     ]
    },
    {
     "name": "stderr",
     "output_type": "stream",
     "text": [
      " 97% (1577 of 1614) |################### | Elapsed Time: 0:03:18 ETA:   0:00:02"
     ]
    },
    {
     "name": "stdout",
     "output_type": "stream",
     "text": [
      "/Product_mitchellsfurnitureandflooring.com_September2020.json.gz\n",
      "/Product_cameradongduong.com_September2020.json.gz\n",
      "/Product_discounterspoolandspa.com_September2020.json.gz\n",
      "/Product_jbl.com.sg_September2020.json.gz\n",
      "/Product_completelyfloored.com_September2020.json.gz\n"
     ]
    },
    {
     "name": "stderr",
     "output_type": "stream",
     "text": [
      "\r",
      " 97% (1581 of 1614) |################### | Elapsed Time: 0:03:18 ETA:   0:00:02"
     ]
    },
    {
     "name": "stdout",
     "output_type": "stream",
     "text": [
      "/Product_themuzzleshop.com_September2020.json.gz\n",
      "/Product_frojo.com_September2020.json.gz\n",
      "/Product_watchportal.com.ph_September2020.json.gz\n"
     ]
    },
    {
     "name": "stderr",
     "output_type": "stream",
     "text": [
      "\r",
      " 98% (1582 of 1614) |################### | Elapsed Time: 0:03:18 ETA:   0:00:02"
     ]
    },
    {
     "name": "stdout",
     "output_type": "stream",
     "text": [
      "/Product_bicyclesportsinc.com_September2020.json.gz\n",
      "/Product_linio.com.co_September2020.json.gz\n"
     ]
    },
    {
     "name": "stderr",
     "output_type": "stream",
     "text": [
      " 98% (1585 of 1614) |################### | Elapsed Time: 0:03:19 ETA:   0:00:02"
     ]
    },
    {
     "name": "stdout",
     "output_type": "stream",
     "text": [
      "/Product_vicnic.com_September2020.json.gz\n",
      "/Product_qorbeauty.com_September2020.json.gz\n",
      "/Product_gunas10.com_September2020.json.gz\n",
      "/Product_thewatchhut.co.uk_September2020.json.gz\n"
     ]
    },
    {
     "name": "stderr",
     "output_type": "stream",
     "text": [
      " 98% (1590 of 1614) |################### | Elapsed Time: 0:03:19 ETA:   0:00:01"
     ]
    },
    {
     "name": "stdout",
     "output_type": "stream",
     "text": [
      "/Product_jhutechstore.com_September2020.json.gz\n",
      "/Product_akademimuzik.com.tr_September2020.json.gz\n",
      "/Product_appliancestoresandiego.com_September2020.json.gz\n",
      "/Product_zeppgear.com.au_September2020.json.gz\n"
     ]
    },
    {
     "name": "stderr",
     "output_type": "stream",
     "text": [
      " 98% (1594 of 1614) |################### | Elapsed Time: 0:03:19 ETA:   0:00:01"
     ]
    },
    {
     "name": "stdout",
     "output_type": "stream",
     "text": [
      "/Product_sportaixtrem.com_September2020.json.gz\n",
      "/Product_simurghbakery.com_September2020.json.gz\n",
      "/Product_woononapetfoods.com.au_September2020.json.gz\n",
      "/Product_a-sec.com_September2020.json.gz\n"
     ]
    },
    {
     "name": "stderr",
     "output_type": "stream",
     "text": [
      " 99% (1598 of 1614) |################### | Elapsed Time: 0:03:19 ETA:   0:00:01"
     ]
    },
    {
     "name": "stdout",
     "output_type": "stream",
     "text": [
      "/Product_imaginethatboutique.com_September2020.json.gz\n",
      "/Product_yay.com_September2020.json.gz\n",
      "/Product_thewholisticpet.com_September2020.json.gz\n"
     ]
    },
    {
     "name": "stderr",
     "output_type": "stream",
     "text": [
      "\r",
      " 99% (1599 of 1614) |################### | Elapsed Time: 0:03:19 ETA:   0:00:01"
     ]
    },
    {
     "name": "stdout",
     "output_type": "stream",
     "text": [
      "/Product_parapharmacie-et-medicament.com_September2020.json.gz\n",
      "/Product_travinautic.com_September2020.json.gz\n",
      "/Product_gruntgoattactical.com_September2020.json.gz\n",
      "/Product_arrowbicycle.com_September2020.json.gz\n"
     ]
    },
    {
     "name": "stderr",
     "output_type": "stream",
     "text": [
      " 99% (1607 of 1614) |################### | Elapsed Time: 0:03:20 ETA:   0:00:00"
     ]
    },
    {
     "name": "stdout",
     "output_type": "stream",
     "text": [
      "/Product_joyride-cycles.com_September2020.json.gz\n",
      "/Product_rochus-apotheke.net_September2020.json.gz\n",
      "/Product_luxamart.com_September2020.json.gz\n",
      "/Product_cartridge24.co.uk_September2020.json.gz\n",
      "/Product_cartier.co.uk_September2020.json.gz\n"
     ]
    },
    {
     "name": "stderr",
     "output_type": "stream",
     "text": [
      " 99% (1611 of 1614) |################### | Elapsed Time: 0:03:20 ETA:   0:00:00"
     ]
    },
    {
     "name": "stdout",
     "output_type": "stream",
     "text": [
      "/Product_russellmarineproducts.com_September2020.json.gz\n",
      "/Product_zoominformatica.com_September2020.json.gz\n",
      "/Product_caretobeauty.com_September2020.json.gz\n",
      "/Product_marchands.net_September2020.json.gz\n"
     ]
    },
    {
     "name": "stderr",
     "output_type": "stream",
     "text": [
      "100% (1614 of 1614) |####################| Elapsed Time: 0:03:20 Time:  0:03:20\n"
     ]
    },
    {
     "name": "stdout",
     "output_type": "stream",
     "text": [
      "/Product_odsi.co.uk_September2020.json.gz\n",
      "/Product_malinandgoetz.com_September2020.json.gz\n"
     ]
    }
   ],
   "source": [
    "#clean mapping files and save them again\n",
    "# then use the cleaned tables to append into a series and the get a dataframe from that\n",
    "count = 0\n",
    "train_representation=[] #representation of whole training set\n",
    "with progressbar.ProgressBar(max_value=len(files_representation_train)) as bar:\n",
    "    for zip_file in files_representation_train:\n",
    "        print('/{}'.format(zip_file))\n",
    "        df = pd.read_json(os.path.join(train_test_all_filtered_path,'train') + '/{}'.format(zip_file), compression='gzip', lines=True)\n",
    "        if ('description' in df.columns)== False:\n",
    "            df['description'] = ''\n",
    "        df['header']=df['row_id'].astype(str)+'_'+df['cluster_id'].astype(str)\n",
    "        table_representation = [] #empty list for table\n",
    "        table_representation.append(zip_file)#append table id\n",
    "        website_name = zip_file.split('_')\n",
    "        table_representation.append(website_name[1])#append page tite\n",
    "        table_representation.append('')#append wikipedia page id -> not given\n",
    "        table_representation.append(website_name[0])#append information about entity -> product\n",
    "        table_representation.append('')#append table caption -> not given\n",
    "        table_representation.append(df['header'].to_list()) #append headers -> not sure if we should do that\n",
    "        all_rows_representation = []#representation of all rows\n",
    "        for i in range(len(df)):\n",
    "            row_representation=[] # cell representation of single row\n",
    "            row_representation.append([[0,i],[df['row_id'][i],str(df['name'][i])]])\n",
    "            row_representation.append([[1,i],[df['row_id'][i],str(df['description'][i])]])\n",
    "            all_rows_representation.append(row_representation) #append single cell representation to representation of all rows\n",
    "        table_representation.append(all_rows_representation)#append it to representation of whole table\n",
    "        train_representation.append(table_representation)\n",
    "        count += 1\n",
    "        bar.update(count)"
   ]
  },
  {
   "cell_type": "code",
   "execution_count": 51,
   "id": "88d3b9f9",
   "metadata": {},
   "outputs": [],
   "source": [
    "with open(os.path.join(turl_input_path, 'train_representation.txt'), \"wb\") as fp:  #Pickling\n",
    "    pickle.dump(train_representation, fp)"
   ]
  },
  {
   "cell_type": "code",
   "execution_count": 52,
   "id": "9f24c135",
   "metadata": {},
   "outputs": [],
   "source": [
    "with open(os.path.join(turl_input_path, 'train_representation.txt'), \"rb\") as fp:   # Unpickling\n",
    "    train_representation = pickle.load(fp)"
   ]
  },
  {
   "cell_type": "code",
   "execution_count": null,
   "id": "2a24895c",
   "metadata": {},
   "outputs": [],
   "source": []
  }
 ],
 "metadata": {
  "kernelspec": {
   "display_name": "Python 3 (ipykernel)",
   "language": "python",
   "name": "python3"
  },
  "language_info": {
   "codemirror_mode": {
    "name": "ipython",
    "version": 3
   },
   "file_extension": ".py",
   "mimetype": "text/x-python",
   "name": "python",
   "nbconvert_exporter": "python",
   "pygments_lexer": "ipython3",
   "version": "3.8.8"
  }
 },
 "nbformat": 4,
 "nbformat_minor": 5
}
