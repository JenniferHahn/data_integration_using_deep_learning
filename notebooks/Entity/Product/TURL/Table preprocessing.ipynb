{
 "cells": [
  {
   "cell_type": "code",
   "execution_count": 1,
   "id": "c998e455",
   "metadata": {},
   "outputs": [],
   "source": [
    "import pandas as pd\n",
    "import json \n",
    "import gzip\n",
    "import os\n",
    "import re as regex\n",
    "import progressbar\n",
    "import pickle"
   ]
  },
  {
   "cell_type": "code",
   "execution_count": 2,
   "id": "4b446158",
   "metadata": {},
   "outputs": [],
   "source": [
    "product_path = '../../../../src/data/product'\n",
    "train_test_all_filtered_path = os.path.join(product_path, 'train_test_split/output_unfiltered_tables/large/after_manual_checking')\n",
    "files_representation_train = [file for file in os.listdir(os.path.join(train_test_all_filtered_path,'train')) if file.endswith('.json.gz')]\n",
    "turl_input_path = os.path.join(product_path, 'TURL/input')"
   ]
  },
  {
   "cell_type": "code",
   "execution_count": 5,
   "id": "c43dac89",
   "metadata": {},
   "outputs": [
    {
     "name": "stderr",
     "output_type": "stream",
     "text": [
      "\r",
      "  0% (0 of 1614) |                       | Elapsed Time: 0:00:00 ETA:  --:--:--"
     ]
    },
    {
     "name": "stdout",
     "output_type": "stream",
     "text": [
      "/Product_boticas23.com_September2020.json.gz\n",
      "/Product_maidstonetreefarm.com_September2020.json.gz\n",
      "/Product_themusicvault.co.uk_September2020.json.gz\n"
     ]
    },
    {
     "name": "stderr",
     "output_type": "stream",
     "text": [
      "\r",
      "  0% (3 of 1614) |                       | Elapsed Time: 0:00:00 ETA:   0:01:32"
     ]
    },
    {
     "name": "stdout",
     "output_type": "stream",
     "text": [
      "/Product_vipaudiovisual.com_September2020.json.gz\n",
      "/Product_russhays.com_September2020.json.gz\n"
     ]
    },
    {
     "name": "stderr",
     "output_type": "stream",
     "text": [
      "  0% (7 of 1614) |                       | Elapsed Time: 0:00:00 ETA:   0:01:56"
     ]
    },
    {
     "name": "stdout",
     "output_type": "stream",
     "text": [
      "/Product_sharonandsons.com_September2020.json.gz\n",
      "/Product_februn.com_September2020.json.gz\n",
      "/Product_theapplianceadvantage.com_September2020.json.gz\n"
     ]
    },
    {
     "name": "stderr",
     "output_type": "stream",
     "text": [
      "\r",
      "  0% (9 of 1614) |                       | Elapsed Time: 0:00:00 ETA:   0:02:12"
     ]
    },
    {
     "name": "stdout",
     "output_type": "stream",
     "text": [
      "/Product_thegoldsmithatch.com_September2020.json.gz\n",
      "/Product_eos-magazine-shop.com_September2020.json.gz\n"
     ]
    },
    {
     "name": "stderr",
     "output_type": "stream",
     "text": [
      "  0% (12 of 1614) |                      | Elapsed Time: 0:00:01 ETA:   0:02:16"
     ]
    },
    {
     "name": "stdout",
     "output_type": "stream",
     "text": [
      "/Product_joyeriarelojeriadavid.com_September2020.json.gz\n",
      "/Product_leeread.com_September2020.json.gz\n",
      "/Product_linkproved.com_September2020.json.gz\n"
     ]
    },
    {
     "name": "stderr",
     "output_type": "stream",
     "text": [
      "  0% (15 of 1614) |                      | Elapsed Time: 0:00:01 ETA:   0:02:24"
     ]
    },
    {
     "name": "stdout",
     "output_type": "stream",
     "text": [
      "/Product_ridgelinebicycles.com_September2020.json.gz\n",
      "/Product_privafarma.com_September2020.json.gz\n",
      "/Product_ishopcolombia.com_September2020.json.gz\n",
      "/Product_fergushomeandhardware.com_September2020.json.gz\n"
     ]
    },
    {
     "name": "stderr",
     "output_type": "stream",
     "text": [
      "  1% (20 of 1614) |                      | Elapsed Time: 0:00:01 ETA:   0:02:11"
     ]
    },
    {
     "name": "stdout",
     "output_type": "stream",
     "text": [
      "/Product_johnnysprockets.com_September2020.json.gz\n",
      "/Product_mbofnorthscottsdale.com_September2020.json.gz\n",
      "/Product_digitalwarehouse.com_September2020.json.gz\n",
      "/Product_gadget-winkel.com_September2020.json.gz\n"
     ]
    },
    {
     "name": "stderr",
     "output_type": "stream",
     "text": [
      "\r",
      "  1% (21 of 1614) |                      | Elapsed Time: 0:00:01 ETA:   0:02:11"
     ]
    },
    {
     "name": "stdout",
     "output_type": "stream",
     "text": [
      "/Product_connection.com_September2020.json.gz\n"
     ]
    },
    {
     "name": "stderr",
     "output_type": "stream",
     "text": [
      "  1% (24 of 1614) |                      | Elapsed Time: 0:00:02 ETA:   0:02:52"
     ]
    },
    {
     "name": "stdout",
     "output_type": "stream",
     "text": [
      "/Product_sarasotacarpetinstallation.com_September2020.json.gz\n",
      "/Product_gearbrain.com_September2020.json.gz\n",
      "/Product_iperhardware.com_September2020.json.gz\n"
     ]
    },
    {
     "name": "stderr",
     "output_type": "stream",
     "text": [
      "\r",
      "  1% (25 of 1614) |                      | Elapsed Time: 0:00:02 ETA:   0:02:59"
     ]
    },
    {
     "name": "stdout",
     "output_type": "stream",
     "text": [
      "/Product_leaderlabs.com_September2020.json.gz\n",
      "/Product_unlimitedbiking.com_September2020.json.gz\n"
     ]
    },
    {
     "name": "stderr",
     "output_type": "stream",
     "text": [
      "\r",
      "  1% (27 of 1614) |                      | Elapsed Time: 0:00:02 ETA:   0:02:58"
     ]
    },
    {
     "name": "stdout",
     "output_type": "stream",
     "text": [
      "/Product_houseofwatches.co.uk_September2020.json.gz\n"
     ]
    },
    {
     "name": "stderr",
     "output_type": "stream",
     "text": [
      "  1% (30 of 1614) |                      | Elapsed Time: 0:00:03 ETA:   0:03:05"
     ]
    },
    {
     "name": "stdout",
     "output_type": "stream",
     "text": [
      "/Product_bluenty.com_September2020.json.gz\n",
      "/Product_chronext.com_September2020.json.gz\n",
      "/Product_pcjuireless.com_September2020.json.gz\n",
      "/Product_abracadabranyc.com_September2020.json.gz\n"
     ]
    },
    {
     "name": "stderr",
     "output_type": "stream",
     "text": [
      "  2% (33 of 1614) |                      | Elapsed Time: 0:00:03 ETA:   0:03:01"
     ]
    },
    {
     "name": "stdout",
     "output_type": "stream",
     "text": [
      "/Product_hollowbonerecords.com_September2020.json.gz\n",
      "/Product_trhistorical.com_September2020.json.gz\n",
      "/Product_eastcoastfloorcoverings.com_September2020.json.gz\n",
      "/Product_sunfloweroutdoorandbike.com_September2020.json.gz\n"
     ]
    },
    {
     "name": "stderr",
     "output_type": "stream",
     "text": [
      "\r",
      "  2% (36 of 1614) |                      | Elapsed Time: 0:00:03 ETA:   0:03:33"
     ]
    },
    {
     "name": "stdout",
     "output_type": "stream",
     "text": [
      "/Product_cyclestore.co.uk_September2020.json.gz\n",
      "/Product_jamesen.co.uk_September2020.json.gz\n"
     ]
    },
    {
     "name": "stderr",
     "output_type": "stream",
     "text": [
      "  2% (39 of 1614) |                      | Elapsed Time: 0:00:04 ETA:   0:03:31"
     ]
    },
    {
     "name": "stdout",
     "output_type": "stream",
     "text": [
      "/Product_bluemercury.com_September2020.json.gz\n",
      "/Product_plasmatv4less.com_September2020.json.gz\n"
     ]
    },
    {
     "name": "stderr",
     "output_type": "stream",
     "text": [
      "\r",
      "  2% (41 of 1614) |                      | Elapsed Time: 0:00:04 ETA:   0:02:53"
     ]
    },
    {
     "name": "stdout",
     "output_type": "stream",
     "text": [
      "/Product_bananas.com_September2020.json.gz\n",
      "/Product_advancedtoolcorp.com_September2020.json.gz\n"
     ]
    },
    {
     "name": "stderr",
     "output_type": "stream",
     "text": [
      "\r",
      "  2% (43 of 1614) |                      | Elapsed Time: 0:00:04 ETA:   0:03:00"
     ]
    },
    {
     "name": "stdout",
     "output_type": "stream",
     "text": [
      "/Product_kooponline.com_September2020.json.gz\n",
      "/Product_outdoorbeerdsman.com_September2020.json.gz\n",
      "/Product_basketmania.co.uk_September2020.json.gz\n"
     ]
    },
    {
     "name": "stderr",
     "output_type": "stream",
     "text": [
      "  2% (46 of 1614) |                      | Elapsed Time: 0:00:04 ETA:   0:02:57"
     ]
    },
    {
     "name": "stdout",
     "output_type": "stream",
     "text": [
      "/Product_shopstadiumsports.com_September2020.json.gz\n",
      "/Product_breakingbadshop.com_September2020.json.gz\n",
      "/Product_franscoop.com_September2020.json.gz\n"
     ]
    },
    {
     "name": "stderr",
     "output_type": "stream",
     "text": [
      "  3% (51 of 1614) |                      | Elapsed Time: 0:00:05 ETA:   0:02:31"
     ]
    },
    {
     "name": "stdout",
     "output_type": "stream",
     "text": [
      "/Product_bsafetechnology.com_September2020.json.gz\n",
      "/Product_mercadora172.com_September2020.json.gz\n",
      "/Product_gallifurniture.com_September2020.json.gz\n",
      "/Product_coffeemakersusa.com_September2020.json.gz\n"
     ]
    },
    {
     "name": "stderr",
     "output_type": "stream",
     "text": [
      "  3% (55 of 1614) |                      | Elapsed Time: 0:00:05 ETA:   0:02:21"
     ]
    },
    {
     "name": "stdout",
     "output_type": "stream",
     "text": [
      "/Product_electrono.co.uk_September2020.json.gz\n",
      "/Product_micheomusic.com_September2020.json.gz\n",
      "/Product_lifesafetysolution.com_September2020.json.gz\n",
      "/Product_whiteriverflooring.com_September2020.json.gz\n"
     ]
    },
    {
     "name": "stderr",
     "output_type": "stream",
     "text": [
      "\r",
      "  3% (59 of 1614) |                      | Elapsed Time: 0:00:05 ETA:   0:02:08"
     ]
    },
    {
     "name": "stdout",
     "output_type": "stream",
     "text": [
      "/Product_lesnomadesinteriors.com_September2020.json.gz\n",
      "/Product_lecbroome.com.au_September2020.json.gz\n",
      "/Product_nelsonsfurniturestore.com_September2020.json.gz\n",
      "/Product_expressapplianceid.com_September2020.json.gz\n",
      "/Product_amazinghardwoodfloors.com_September2020.json.gz\n",
      "/Product_technosdesign.com_September2020.json.gz\n"
     ]
    },
    {
     "name": "stderr",
     "output_type": "stream",
     "text": [
      "  3% (64 of 1614) |                      | Elapsed Time: 0:00:05 ETA:   0:01:57"
     ]
    },
    {
     "name": "stdout",
     "output_type": "stream",
     "text": [
      "/Product_sportrequest.com_September2020.json.gz\n",
      "/Product_dacon.com.sg_September2020.json.gz\n",
      "/Product_max270.com_September2020.json.gz\n",
      "/Product_corposmart.com.dz_September2020.json.gz\n",
      "/Product_happytime.com.pl_September2020.json.gz\n",
      "/Product_bikegarage.com_September2020.json.gz\n"
     ]
    },
    {
     "name": "stderr",
     "output_type": "stream",
     "text": [
      "  4% (69 of 1614) |                      | Elapsed Time: 0:00:06 ETA:   0:01:42"
     ]
    },
    {
     "name": "stdout",
     "output_type": "stream",
     "text": [
      "/Product_mitzvahland.com_September2020.json.gz\n",
      "/Product_inspiredflooringdesign.com_September2020.json.gz\n",
      "/Product_gutterfixed.com_September2020.json.gz\n",
      "/Product_lifedistribucion.com_September2020.json.gz\n"
     ]
    },
    {
     "name": "stderr",
     "output_type": "stream",
     "text": [
      "  4% (74 of 1614) |#                     | Elapsed Time: 0:00:06 ETA:   0:01:35"
     ]
    },
    {
     "name": "stdout",
     "output_type": "stream",
     "text": [
      "/Product_homecarehospitalbeds.com_September2020.json.gz\n",
      "/Product_thetelecomshop.com_September2020.json.gz\n",
      "/Product_ornamentalproductsinc.com_September2020.json.gz\n"
     ]
    },
    {
     "name": "stderr",
     "output_type": "stream",
     "text": [
      "\r",
      "  4% (78 of 1614) |#                     | Elapsed Time: 0:00:06 ETA:   0:01:27"
     ]
    },
    {
     "name": "stdout",
     "output_type": "stream",
     "text": [
      "/Product_shopymy.com_September2020.json.gz\n",
      "/Product_energysk.com_September2020.json.gz\n",
      "/Product_amegoev.com_September2020.json.gz\n",
      "/Product_cartridgestockmarket.com_September2020.json.gz\n",
      "/Product_sitnsleepfl.com_September2020.json.gz\n"
     ]
    },
    {
     "name": "stderr",
     "output_type": "stream",
     "text": [
      "  5% (81 of 1614) |#                     | Elapsed Time: 0:00:06 ETA:   0:01:28"
     ]
    },
    {
     "name": "stdout",
     "output_type": "stream",
     "text": [
      "/Product_best4headsets.co.uk_September2020.json.gz\n",
      "/Product_twowheelerskidealer.com_September2020.json.gz\n",
      "/Product_onbuy.com_September2020.json.gz\n"
     ]
    },
    {
     "name": "stderr",
     "output_type": "stream",
     "text": [
      "  5% (86 of 1614) |#                     | Elapsed Time: 0:00:07 ETA:   0:01:59"
     ]
    },
    {
     "name": "stdout",
     "output_type": "stream",
     "text": [
      "/Product_competitivegear.com_September2020.json.gz\n",
      "/Product_totalpersonalprotection.com_September2020.json.gz\n",
      "/Product_austinsdiving.com_September2020.json.gz\n",
      "/Product_timix.com.br_September2020.json.gz\n"
     ]
    },
    {
     "name": "stderr",
     "output_type": "stream",
     "text": [
      "\r",
      "  5% (88 of 1614) |#                     | Elapsed Time: 0:00:07 ETA:   0:02:16"
     ]
    },
    {
     "name": "stdout",
     "output_type": "stream",
     "text": [
      "/Product_allhdd.com_September2020.json.gz\n",
      "/Product_communityappliance.com_September2020.json.gz\n"
     ]
    },
    {
     "name": "stderr",
     "output_type": "stream",
     "text": [
      "  5% (91 of 1614) |#                     | Elapsed Time: 0:00:08 ETA:   0:02:24"
     ]
    },
    {
     "name": "stdout",
     "output_type": "stream",
     "text": [
      "/Product_tampacontractfloors.com_September2020.json.gz\n",
      "/Product_tunisianet.com.tn_September2020.json.gz\n",
      "/Product_logitechstore.com.br_September2020.json.gz\n"
     ]
    },
    {
     "name": "stderr",
     "output_type": "stream",
     "text": [
      "\r",
      "  5% (94 of 1614) |#                     | Elapsed Time: 0:00:08 ETA:   0:02:26"
     ]
    },
    {
     "name": "stdout",
     "output_type": "stream",
     "text": [
      "/Product_totalhouseandflooring.com_September2020.json.gz\n",
      "/Product_bikeworksma.com_September2020.json.gz\n",
      "/Product_healthyworldpharmacy.com.au_September2020.json.gz\n",
      "/Product_toottoottoys.com.au_September2020.json.gz\n"
     ]
    },
    {
     "name": "stderr",
     "output_type": "stream",
     "text": [
      "\r",
      "  5% (96 of 1614) |#                     | Elapsed Time: 0:00:08 ETA:   0:02:21"
     ]
    },
    {
     "name": "stdout",
     "output_type": "stream",
     "text": [
      "/Product_grosbill.com_September2020.json.gz\n"
     ]
    },
    {
     "name": "stderr",
     "output_type": "stream",
     "text": [
      "  6% (99 of 1614) |#                     | Elapsed Time: 0:00:09 ETA:   0:03:13"
     ]
    },
    {
     "name": "stdout",
     "output_type": "stream",
     "text": [
      "/Product_fotoimageneshop.com_September2020.json.gz\n",
      "/Product_commsdirect.com.au_September2020.json.gz\n",
      "/Product_traceurdirect.com_September2020.json.gz\n"
     ]
    },
    {
     "name": "stderr",
     "output_type": "stream",
     "text": [
      "\r",
      "  6% (103 of 1614) |#                    | Elapsed Time: 0:00:09 ETA:   0:02:50"
     ]
    },
    {
     "name": "stdout",
     "output_type": "stream",
     "text": [
      "/Product_blackscintilla.com_September2020.json.gz\n",
      "/Product_indoorcity.com_September2020.json.gz\n",
      "/Product_flanigansfurnitureoutlet.com_September2020.json.gz\n",
      "/Product_thejlryshop.com_September2020.json.gz\n"
     ]
    },
    {
     "name": "stderr",
     "output_type": "stream",
     "text": [
      "\r",
      "  6% (105 of 1614) |#                    | Elapsed Time: 0:00:09 ETA:   0:02:43"
     ]
    },
    {
     "name": "stdout",
     "output_type": "stream",
     "text": [
      "/Product_savemak.com_September2020.json.gz\n",
      "/Product_treadbikeshop.com_September2020.json.gz\n"
     ]
    },
    {
     "name": "stderr",
     "output_type": "stream",
     "text": [
      "  6% (108 of 1614) |#                    | Elapsed Time: 0:00:09 ETA:   0:02:22"
     ]
    },
    {
     "name": "stdout",
     "output_type": "stream",
     "text": [
      "/Product_leaffloorcovering.com_September2020.json.gz\n",
      "/Product_cliktodeal.com_September2020.json.gz\n",
      "/Product_uccyclery.com_September2020.json.gz\n"
     ]
    },
    {
     "name": "stderr",
     "output_type": "stream",
     "text": [
      "  6% (112 of 1614) |#                    | Elapsed Time: 0:00:10 ETA:   0:02:18"
     ]
    },
    {
     "name": "stdout",
     "output_type": "stream",
     "text": [
      "/Product_carpetcitywi.com_September2020.json.gz\n",
      "/Product_thewatchagency.com_September2020.json.gz\n",
      "/Product_montelongos.com_September2020.json.gz\n",
      "/Product_trikesuk.com_September2020.json.gz\n",
      "/Product_accidentalartrockford.com_September2020.json.gz\n",
      "/Product_aedmarket.com_September2020.json.gz\n"
     ]
    },
    {
     "name": "stderr",
     "output_type": "stream",
     "text": [
      "\r",
      "  7% (115 of 1614) |#                    | Elapsed Time: 0:00:10 ETA:   0:02:05"
     ]
    },
    {
     "name": "stdout",
     "output_type": "stream",
     "text": [
      "/Product_drimmersmiami.com_September2020.json.gz\n",
      "/Product_mbsdirect.com_September2020.json.gz\n",
      "/Product_buchika.com_September2020.json.gz\n"
     ]
    },
    {
     "name": "stderr",
     "output_type": "stream",
     "text": [
      "  7% (119 of 1614) |#                    | Elapsed Time: 0:00:10 ETA:   0:02:16"
     ]
    },
    {
     "name": "stdout",
     "output_type": "stream",
     "text": [
      "/Product_yorktowncycles.com_September2020.json.gz\n",
      "/Product_fayettesalonsuites.com_September2020.json.gz\n",
      "/Product_sport-tiedje.co.uk_September2020.json.gz\n"
     ]
    },
    {
     "name": "stderr",
     "output_type": "stream",
     "text": [
      "\r",
      "  7% (121 of 1614) |#                    | Elapsed Time: 0:00:10 ETA:   0:02:22"
     ]
    },
    {
     "name": "stdout",
     "output_type": "stream",
     "text": [
      "/Product_ldlc.com_September2020.json.gz\n"
     ]
    },
    {
     "name": "stderr",
     "output_type": "stream",
     "text": [
      "  7% (125 of 1614) |#                    | Elapsed Time: 0:00:11 ETA:   0:02:19"
     ]
    },
    {
     "name": "stdout",
     "output_type": "stream",
     "text": [
      "/Product_slowfarma.com_September2020.json.gz\n",
      "/Product_downtownappliance.com_September2020.json.gz\n",
      "/Product_rayashop.com_September2020.json.gz\n",
      "/Product_lucasdivestore.com_September2020.json.gz\n"
     ]
    },
    {
     "name": "stderr",
     "output_type": "stream",
     "text": [
      "  7% (129 of 1614) |#                    | Elapsed Time: 0:00:11 ETA:   0:02:09"
     ]
    },
    {
     "name": "stdout",
     "output_type": "stream",
     "text": [
      "/Product_vsmusicstudio.com_September2020.json.gz\n",
      "/Product_swiss-pro.com_September2020.json.gz\n",
      "/Product_npbikeshop.com_September2020.json.gz\n",
      "/Product_beersofeurope.co.uk_September2020.json.gz\n"
     ]
    },
    {
     "name": "stderr",
     "output_type": "stream",
     "text": [
      "  8% (132 of 1614) |#                    | Elapsed Time: 0:00:12 ETA:   0:02:15"
     ]
    },
    {
     "name": "stdout",
     "output_type": "stream",
     "text": [
      "/Product_ytsundance.com_September2020.json.gz\n",
      "/Product_penandtool.com_September2020.json.gz\n",
      "/Product_rev-cycles.com_September2020.json.gz\n"
     ]
    },
    {
     "name": "stderr",
     "output_type": "stream",
     "text": [
      "  8% (135 of 1614) |#                    | Elapsed Time: 0:00:12 ETA:   0:02:57"
     ]
    },
    {
     "name": "stdout",
     "output_type": "stream",
     "text": [
      "/Product_tonerpoint24.com_September2020.json.gz\n",
      "/Product_villagebikeshop.com_September2020.json.gz\n",
      "/Product_flippanceandcarr.com_September2020.json.gz\n"
     ]
    },
    {
     "name": "stderr",
     "output_type": "stream",
     "text": [
      "  8% (140 of 1614) |#                    | Elapsed Time: 0:00:12 ETA:   0:02:30"
     ]
    },
    {
     "name": "stdout",
     "output_type": "stream",
     "text": [
      "/Product_watchshopvietnam.com_September2020.json.gz\n",
      "/Product_vaupelhomefurnishings.com_September2020.json.gz\n",
      "/Product_photospecialist.co.uk_September2020.json.gz\n",
      "/Product_crocodileye.com_September2020.json.gz\n",
      "/Product_anchorexpress.com_September2020.json.gz\n"
     ]
    },
    {
     "name": "stderr",
     "output_type": "stream",
     "text": [
      "  8% (144 of 1614) |#                    | Elapsed Time: 0:00:12 ETA:   0:02:14"
     ]
    },
    {
     "name": "stdout",
     "output_type": "stream",
     "text": [
      "/Product_welovetopartyherts.com_September2020.json.gz\n",
      "/Product_fisselfloorcovering.com_September2020.json.gz\n",
      "/Product_pcgaming365.com_September2020.json.gz\n",
      "/Product_tornlightrecords.com_September2020.json.gz\n"
     ]
    },
    {
     "name": "stderr",
     "output_type": "stream",
     "text": [
      "  9% (148 of 1614) |#                    | Elapsed Time: 0:00:13 ETA:   0:02:08"
     ]
    },
    {
     "name": "stdout",
     "output_type": "stream",
     "text": [
      "/Product_kacparaya.com_September2020.json.gz\n",
      "/Product_rentgamingcomputer.com_September2020.json.gz\n",
      "/Product_homehealthcareshoppe.com_September2020.json.gz\n",
      "/Product_csmerchants.com.au_September2020.json.gz\n",
      "/Product_sakura-mall.com_September2020.json.gz\n",
      "/Product_bikenetic.com_September2020.json.gz\n"
     ]
    },
    {
     "name": "stderr",
     "output_type": "stream",
     "text": [
      "  9% (153 of 1614) |#                    | Elapsed Time: 0:00:14 ETA:   0:02:15"
     ]
    },
    {
     "name": "stdout",
     "output_type": "stream",
     "text": [
      "/Product_outdoorsmans.com_September2020.json.gz\n",
      "/Product_shopmainstco.com_September2020.json.gz\n",
      "/Product_barberhood.com.au_September2020.json.gz\n",
      "/Product_avitecstore.com_September2020.json.gz\n"
     ]
    },
    {
     "name": "stderr",
     "output_type": "stream",
     "text": [
      "\r",
      "  9% (157 of 1614) |##                   | Elapsed Time: 0:00:14 ETA:   0:02:04"
     ]
    },
    {
     "name": "stdout",
     "output_type": "stream",
     "text": [
      "/Product_blackyard-skateboards.com_September2020.json.gz\n",
      "/Product_fotozunic.com_September2020.json.gz\n",
      "/Product_mcginnisappliance.com_September2020.json.gz\n",
      "/Product_rs-online.com_September2020.json.gz\n"
     ]
    },
    {
     "name": "stderr",
     "output_type": "stream",
     "text": [
      "\r",
      "  9% (159 of 1614) |##                   | Elapsed Time: 0:00:20 ETA:   1:21:19"
     ]
    },
    {
     "name": "stdout",
     "output_type": "stream",
     "text": [
      "/Product_elitecycling.com_September2020.json.gz\n"
     ]
    },
    {
     "name": "stderr",
     "output_type": "stream",
     "text": [
      " 10% (164 of 1614) |##                   | Elapsed Time: 0:00:21 ETA:   0:25:45"
     ]
    },
    {
     "name": "stdout",
     "output_type": "stream",
     "text": [
      "/Product_constantstealth.com_September2020.json.gz\n",
      "/Product_rickshometown.com_September2020.json.gz\n",
      "/Product_beyondfringe.com_September2020.json.gz\n",
      "/Product_readysetgofitness.com.au_September2020.json.gz\n",
      "/Product_vintagehomesouth.com_September2020.json.gz\n",
      "/Product_castorandpollux.co.uk_September2020.json.gz\n"
     ]
    },
    {
     "name": "stderr",
     "output_type": "stream",
     "text": [
      "\r",
      " 10% (167 of 1614) |##                   | Elapsed Time: 0:00:21 ETA:   0:18:14"
     ]
    },
    {
     "name": "stdout",
     "output_type": "stream",
     "text": [
      "/Product_schmidtcustomfloors.com_September2020.json.gz\n",
      "/Product_pc-kombo.com_September2020.json.gz\n",
      "/Product_tiendabigcom.com.mx_September2020.json.gz\n",
      "/Product_continentalski.com_September2020.json.gz\n"
     ]
    },
    {
     "name": "stderr",
     "output_type": "stream",
     "text": [
      " 10% (171 of 1614) |##                   | Elapsed Time: 0:00:22 ETA:   0:13:47"
     ]
    },
    {
     "name": "stdout",
     "output_type": "stream",
     "text": [
      "/Product_oempcworld.com_September2020.json.gz\n",
      "/Product_mytechsense.com.au_September2020.json.gz\n"
     ]
    },
    {
     "name": "stderr",
     "output_type": "stream",
     "text": [
      " 10% (173 of 1614) |##                   | Elapsed Time: 0:00:22 ETA:   0:12:22"
     ]
    },
    {
     "name": "stdout",
     "output_type": "stream",
     "text": [
      "/Product_gardeninggiftsdirect.com_September2020.json.gz\n",
      "/Product_naturalopulence.com_September2020.json.gz\n",
      "/Product_ferrogioielli.com_September2020.json.gz\n",
      "/Product_bikeandtrike.com_September2020.json.gz\n"
     ]
    },
    {
     "name": "stderr",
     "output_type": "stream",
     "text": [
      " 11% (179 of 1614) |##                   | Elapsed Time: 0:00:22 ETA:   0:09:13"
     ]
    },
    {
     "name": "stdout",
     "output_type": "stream",
     "text": [
      "/Product_adappliancecenter.com_September2020.json.gz\n",
      "/Product_sunshinebicycle.com_September2020.json.gz\n",
      "/Product_oskobayashi.com_September2020.json.gz\n",
      "/Product_dgcycles.com_September2020.json.gz\n"
     ]
    },
    {
     "name": "stderr",
     "output_type": "stream",
     "text": [
      "\r",
      " 11% (180 of 1614) |##                   | Elapsed Time: 0:00:22 ETA:   0:08:57"
     ]
    },
    {
     "name": "stdout",
     "output_type": "stream",
     "text": [
      "/Product_achatpc.com_September2020.json.gz\n"
     ]
    },
    {
     "name": "stderr",
     "output_type": "stream",
     "text": [
      " 11% (184 of 1614) |##                   | Elapsed Time: 0:00:23 ETA:   0:02:08"
     ]
    },
    {
     "name": "stdout",
     "output_type": "stream",
     "text": [
      "/Product_treiberandstraub.com_September2020.json.gz\n",
      "/Product_capefearflooring.com_September2020.json.gz\n",
      "/Product_dscbike.com_September2020.json.gz\n",
      "/Product_centralavewines.com_September2020.json.gz\n",
      "/Product_madridhifi.com_September2020.json.gz\n"
     ]
    },
    {
     "name": "stderr",
     "output_type": "stream",
     "text": [
      "\r",
      " 11% (186 of 1614) |##                   | Elapsed Time: 0:00:23 ETA:   0:02:06"
     ]
    },
    {
     "name": "stdout",
     "output_type": "stream",
     "text": [
      "/Product_tcateamstore.com_September2020.json.gz\n",
      "/Product_gerhardsappliance.com_September2020.json.gz\n",
      "/Product_sunsvision.com_September2020.json.gz\n"
     ]
    },
    {
     "name": "stderr",
     "output_type": "stream",
     "text": [
      " 11% (191 of 1614) |##                   | Elapsed Time: 0:00:23 ETA:   0:01:46"
     ]
    },
    {
     "name": "stdout",
     "output_type": "stream",
     "text": [
      "/Product_houseofcop.com_September2020.json.gz\n",
      "/Product_technoworld.com_September2020.json.gz\n",
      "/Product_memoirevive-fournitures-de-bureau.com_September2020.json.gz\n",
      "/Product_dougjohnsonart.com_September2020.json.gz\n",
      "/Product_ntrstore.com_September2020.json.gz\n"
     ]
    },
    {
     "name": "stderr",
     "output_type": "stream",
     "text": [
      " 12% (197 of 1614) |##                   | Elapsed Time: 0:00:23 ETA:   0:01:44"
     ]
    },
    {
     "name": "stdout",
     "output_type": "stream",
     "text": [
      "/Product_costenfloors.com_September2020.json.gz\n",
      "/Product_outdoority.com_September2020.json.gz\n",
      "/Product_midyatgumusdunyasi.com_September2020.json.gz\n",
      "/Product_mrsdoepee.com_September2020.json.gz\n"
     ]
    },
    {
     "name": "stderr",
     "output_type": "stream",
     "text": [
      "\r",
      " 12% (198 of 1614) |##                   | Elapsed Time: 0:00:24 ETA:   0:01:44"
     ]
    },
    {
     "name": "stdout",
     "output_type": "stream",
     "text": [
      "/Product_secufast.com_September2020.json.gz\n",
      "/Product_centralwheel.com_September2020.json.gz\n"
     ]
    },
    {
     "name": "stderr",
     "output_type": "stream",
     "text": [
      " 12% (202 of 1614) |##                   | Elapsed Time: 0:00:24 ETA:   0:01:38"
     ]
    },
    {
     "name": "stdout",
     "output_type": "stream",
     "text": [
      "/Product_hethonganninh.com_September2020.json.gz\n",
      "/Product_spokelifecycles.com_September2020.json.gz\n",
      "/Product_act1flooring.com_September2020.json.gz\n",
      "/Product_pcfactorycomputer.com_September2020.json.gz\n"
     ]
    },
    {
     "name": "stderr",
     "output_type": "stream",
     "text": [
      " 12% (207 of 1614) |##                   | Elapsed Time: 0:00:24 ETA:   0:01:35"
     ]
    },
    {
     "name": "stdout",
     "output_type": "stream",
     "text": [
      "/Product_madridgadgetstore.com_September2020.json.gz\n",
      "/Product_homestylefurnituremodesto.com_September2020.json.gz\n",
      "/Product_bcdbazaar.com_September2020.json.gz\n",
      "/Product_gaelforcemarine.co.uk_September2020.json.gz\n"
     ]
    },
    {
     "name": "stderr",
     "output_type": "stream",
     "text": [
      "\r",
      " 13% (210 of 1614) |##                   | Elapsed Time: 0:00:24 ETA:   0:01:34"
     ]
    },
    {
     "name": "stdout",
     "output_type": "stream",
     "text": [
      "/Product_mi-store.com.au_September2020.json.gz\n",
      "/Product_cycleworldmiami.com_September2020.json.gz\n",
      "/Product_renodepot.com_September2020.json.gz\n"
     ]
    },
    {
     "name": "stderr",
     "output_type": "stream",
     "text": [
      " 13% (212 of 1614) |##                   | Elapsed Time: 0:00:25 ETA:   0:01:45"
     ]
    },
    {
     "name": "stdout",
     "output_type": "stream",
     "text": [
      "/Product_platinumcomputer.net_September2020.json.gz\n",
      "/Product_millenniumbg.com_September2020.json.gz\n",
      "/Product_tri-zone.com_September2020.json.gz\n"
     ]
    },
    {
     "name": "stderr",
     "output_type": "stream",
     "text": [
      " 13% (216 of 1614) |##                   | Elapsed Time: 0:00:25 ETA:   0:01:43"
     ]
    },
    {
     "name": "stdout",
     "output_type": "stream",
     "text": [
      "/Product_thefloorstorerva.com_September2020.json.gz\n",
      "/Product_masquevideo.com_September2020.json.gz\n",
      "/Product_amazonstone.com_September2020.json.gz\n",
      "/Product_liulostore.com_September2020.json.gz\n",
      "/Product_therecordexchange.com_September2020.json.gz\n"
     ]
    },
    {
     "name": "stderr",
     "output_type": "stream",
     "text": [
      " 13% (221 of 1614) |##                   | Elapsed Time: 0:00:26 ETA:   0:02:01"
     ]
    },
    {
     "name": "stdout",
     "output_type": "stream",
     "text": [
      "/Product_myonlinedigitalproducts.com_September2020.json.gz\n",
      "/Product_mir-informatica.com_September2020.json.gz\n",
      "/Product_fotomalzeme.com_September2020.json.gz\n",
      "/Product_harveynorman.com.my_September2020.json.gz\n",
      "/Product_shoplovetv.com_September2020.json.gz\n"
     ]
    },
    {
     "name": "stderr",
     "output_type": "stream",
     "text": [
      " 14% (226 of 1614) |##                   | Elapsed Time: 0:00:26 ETA:   0:01:49"
     ]
    },
    {
     "name": "stdout",
     "output_type": "stream",
     "text": [
      "/Product_coalfieldcarpets.com_September2020.json.gz\n",
      "/Product_yeezybreezy.com_September2020.json.gz\n",
      "/Product_montresenligne.com_September2020.json.gz\n",
      "/Product_espressoutlet.com_September2020.json.gz\n"
     ]
    },
    {
     "name": "stderr",
     "output_type": "stream",
     "text": [
      " 14% (231 of 1614) |###                  | Elapsed Time: 0:00:26 ETA:   0:01:42"
     ]
    },
    {
     "name": "stdout",
     "output_type": "stream",
     "text": [
      "/Product_shopsiesta.com_September2020.json.gz\n",
      "/Product_ankarapantry.com_September2020.json.gz\n",
      "/Product_soundscrystalsandvibrations.com_September2020.json.gz\n",
      "/Product_inegolalisveris.com_September2020.json.gz\n",
      "/Product_la-compagnie-de-huile-d-olive.com_September2020.json.gz\n"
     ]
    },
    {
     "name": "stderr",
     "output_type": "stream",
     "text": [
      " 14% (235 of 1614) |###                  | Elapsed Time: 0:00:26 ETA:   0:01:50"
     ]
    },
    {
     "name": "stdout",
     "output_type": "stream",
     "text": [
      "/Product_cbibikes.com_September2020.json.gz\n",
      "/Product_flamesport.com_September2020.json.gz\n",
      "/Product_bicyclesplus.com_September2020.json.gz\n",
      "/Product_prodirecttennis.com_September2020.json.gz\n"
     ]
    },
    {
     "name": "stderr",
     "output_type": "stream",
     "text": [
      "\r",
      " 14% (237 of 1614) |###                  | Elapsed Time: 0:00:27 ETA:   0:01:51"
     ]
    },
    {
     "name": "stdout",
     "output_type": "stream",
     "text": [
      "/Product_greenmountainbikes.com_September2020.json.gz\n",
      "/Product_creativeprintersoflondon.co.uk_September2020.json.gz\n",
      "/Product_shop8eaz.com_September2020.json.gz\n"
     ]
    },
    {
     "name": "stderr",
     "output_type": "stream",
     "text": [
      " 15% (243 of 1614) |###                  | Elapsed Time: 0:00:28 ETA:   0:01:58"
     ]
    },
    {
     "name": "stdout",
     "output_type": "stream",
     "text": [
      "/Product_designlabaz.com_September2020.json.gz\n",
      "/Product_mcphersonpharmacy.co.uk_September2020.json.gz\n",
      "/Product_prodirectrunning.com_September2020.json.gz\n",
      "/Product_mainstreetbicycles.com_September2020.json.gz\n",
      "/Product_bicycletrip.com_September2020.json.gz\n"
     ]
    },
    {
     "name": "stderr",
     "output_type": "stream",
     "text": [
      " 15% (246 of 1614) |###                  | Elapsed Time: 0:00:28 ETA:   0:02:18"
     ]
    },
    {
     "name": "stdout",
     "output_type": "stream",
     "text": [
      "/Product_playbetter.com_September2020.json.gz\n",
      "/Product_pssl.com_September2020.json.gz\n"
     ]
    },
    {
     "name": "stderr",
     "output_type": "stream",
     "text": [
      " 15% (248 of 1614) |###                  | Elapsed Time: 0:00:29 ETA:   0:03:53"
     ]
    },
    {
     "name": "stdout",
     "output_type": "stream",
     "text": [
      "/Product_partness.com_September2020.json.gz\n",
      "/Product_ajcarpet.com_September2020.json.gz\n",
      "/Product_gottagogowdy.com_September2020.json.gz\n",
      "/Product_georges.com.au_September2020.json.gz\n"
     ]
    },
    {
     "name": "stderr",
     "output_type": "stream",
     "text": [
      " 15% (252 of 1614) |###                  | Elapsed Time: 0:00:29 ETA:   0:03:11"
     ]
    },
    {
     "name": "stdout",
     "output_type": "stream",
     "text": [
      "/Product_amaincycling.com_September2020.json.gz\n",
      "/Product_alexandalexa.com_September2020.json.gz\n"
     ]
    },
    {
     "name": "stderr",
     "output_type": "stream",
     "text": [
      " 15% (255 of 1614) |###                  | Elapsed Time: 0:00:29 ETA:   0:03:15"
     ]
    },
    {
     "name": "stdout",
     "output_type": "stream",
     "text": [
      "/Product_bicyclevillage.com_September2020.json.gz\n",
      "/Product_tiendaazul.com_September2020.json.gz\n",
      "/Product_ebrarbilgisayar.com_September2020.json.gz\n"
     ]
    },
    {
     "name": "stderr",
     "output_type": "stream",
     "text": [
      " 15% (258 of 1614) |###                  | Elapsed Time: 0:00:30 ETA:   0:03:06"
     ]
    },
    {
     "name": "stdout",
     "output_type": "stream",
     "text": [
      "/Product_buttfittings.com_September2020.json.gz\n",
      "/Product_bikefixutah.com_September2020.json.gz\n",
      "/Product_velvetgray.com_September2020.json.gz\n"
     ]
    },
    {
     "name": "stderr",
     "output_type": "stream",
     "text": [
      " 16% (263 of 1614) |###                  | Elapsed Time: 0:00:30 ETA:   0:02:30"
     ]
    },
    {
     "name": "stdout",
     "output_type": "stream",
     "text": [
      "/Product_pluginson13.com_September2020.json.gz\n",
      "/Product_carsontrees.com_September2020.json.gz\n",
      "/Product_blockbikespdx.com_September2020.json.gz\n",
      "/Product_c-tac.com_September2020.json.gz\n",
      "/Product_funpro.com.br_September2020.json.gz\n"
     ]
    },
    {
     "name": "stderr",
     "output_type": "stream",
     "text": [
      "\r",
      " 16% (265 of 1614) |###                  | Elapsed Time: 0:00:30 ETA:   0:02:27"
     ]
    },
    {
     "name": "stdout",
     "output_type": "stream",
     "text": [
      "/Product_glasses.com_September2020.json.gz\n",
      "/Product_cyclemania1.com_September2020.json.gz\n"
     ]
    },
    {
     "name": "stderr",
     "output_type": "stream",
     "text": [
      " 16% (269 of 1614) |###                  | Elapsed Time: 0:00:30 ETA:   0:02:22"
     ]
    },
    {
     "name": "stdout",
     "output_type": "stream",
     "text": [
      "/Product_skiplusonline.co.uk_September2020.json.gz\n",
      "/Product_stormcomputers.com.au_September2020.json.gz\n",
      "/Product_evolutionmusicstore.com_September2020.json.gz\n",
      "/Product_macs.com.au_September2020.json.gz\n"
     ]
    },
    {
     "name": "stderr",
     "output_type": "stream",
     "text": [
      " 16% (272 of 1614) |###                  | Elapsed Time: 0:00:31 ETA:   0:01:56"
     ]
    },
    {
     "name": "stdout",
     "output_type": "stream",
     "text": [
      "/Product_sacfloorstore.com_September2020.json.gz\n",
      "/Product_aussiemobilesolution.com.au_September2020.json.gz\n",
      "/Product_inkdepot.com.au_September2020.json.gz\n"
     ]
    },
    {
     "name": "stderr",
     "output_type": "stream",
     "text": [
      " 17% (278 of 1614) |###                  | Elapsed Time: 0:00:31 ETA:   0:01:44"
     ]
    },
    {
     "name": "stdout",
     "output_type": "stream",
     "text": [
      "/Product_premierfloors-gv.com_September2020.json.gz\n",
      "/Product_imperialrobes.com_September2020.json.gz\n",
      "/Product_peakmtnbike.com_September2020.json.gz\n",
      "/Product_morroneelectric.com_September2020.json.gz\n",
      "/Product_clarkcountyarhistory.org_September2020.json.gz\n",
      "/Product_performancesolutions.com.br_September2020.json.gz\n",
      "/Product_eetgroup.com_September2020.json.gz\n"
     ]
    },
    {
     "name": "stderr",
     "output_type": "stream",
     "text": [
      "\r",
      " 17% (281 of 1614) |###                  | Elapsed Time: 0:00:31 ETA:   0:01:38"
     ]
    },
    {
     "name": "stdout",
     "output_type": "stream",
     "text": [
      "/Product_flooringconnectionsinc.com_September2020.json.gz\n",
      "/Product_elitebalustrade.com_September2020.json.gz\n",
      "/Product_onestopstationery.co.uk_September2020.json.gz\n",
      "/Product_shoproyalflooring.com_September2020.json.gz\n"
     ]
    },
    {
     "name": "stderr",
     "output_type": "stream",
     "text": [
      " 17% (287 of 1614) |###                  | Elapsed Time: 0:00:31 ETA:   0:01:26"
     ]
    },
    {
     "name": "stdout",
     "output_type": "stream",
     "text": [
      "/Product_carpetworldamarillo.com_September2020.json.gz\n",
      "/Product_beyerdynamic.com.au_September2020.json.gz\n",
      "/Product_sanderfurnitureco.com_September2020.json.gz\n",
      "/Product_gamesncomps.com_September2020.json.gz\n",
      "/Product_cowboymaloneys.com_September2020.json.gz\n"
     ]
    },
    {
     "name": "stderr",
     "output_type": "stream",
     "text": [
      "\r",
      " 17% (289 of 1614) |###                  | Elapsed Time: 0:00:31 ETA:   0:01:20"
     ]
    },
    {
     "name": "stdout",
     "output_type": "stream",
     "text": [
      "/Product_thorndown.co.uk_September2020.json.gz\n",
      "/Product_pckuwait.com_September2020.json.gz\n",
      "/Product_videostaff.com.mx_September2020.json.gz\n"
     ]
    },
    {
     "name": "stderr",
     "output_type": "stream",
     "text": [
      "\r",
      " 18% (292 of 1614) |###                  | Elapsed Time: 0:00:32 ETA:   0:01:19"
     ]
    },
    {
     "name": "stdout",
     "output_type": "stream",
     "text": [
      "/Product_thesacredearthpantry.com_September2020.json.gz\n",
      "/Product_maquillalia.com_September2020.json.gz\n"
     ]
    },
    {
     "name": "stderr",
     "output_type": "stream",
     "text": [
      " 18% (295 of 1614) |###                  | Elapsed Time: 0:00:32 ETA:   0:01:26"
     ]
    },
    {
     "name": "stdout",
     "output_type": "stream",
     "text": [
      "/Product_jootree.co.uk_September2020.json.gz\n",
      "/Product_reach-clothing.com_September2020.json.gz\n",
      "/Product_ilogmaria.com_September2020.json.gz\n",
      "/Product_hairext.co.uk_September2020.json.gz\n",
      "/Product_speakit.co.uk_September2020.json.gz\n"
     ]
    },
    {
     "name": "stderr",
     "output_type": "stream",
     "text": [
      "\r",
      " 18% (300 of 1614) |###                  | Elapsed Time: 0:00:32 ETA:   0:01:17"
     ]
    },
    {
     "name": "stdout",
     "output_type": "stream",
     "text": [
      "/Product_tabletymovil.com_September2020.json.gz\n",
      "/Product_garmin.com_September2020.json.gz\n"
     ]
    },
    {
     "name": "stderr",
     "output_type": "stream",
     "text": [
      "\r",
      " 18% (301 of 1614) |###                  | Elapsed Time: 0:00:32 ETA:   0:01:19"
     ]
    },
    {
     "name": "stdout",
     "output_type": "stream",
     "text": [
      "/Product_infinitewarehouse.com_September2020.json.gz\n",
      "/Product_flaskfinewines.com_September2020.json.gz\n"
     ]
    },
    {
     "name": "stderr",
     "output_type": "stream",
     "text": [
      "\r",
      " 18% (303 of 1614) |###                  | Elapsed Time: 0:00:33 ETA:   0:01:25"
     ]
    },
    {
     "name": "stdout",
     "output_type": "stream",
     "text": [
      "/Product_freedombikeshop.com_September2020.json.gz\n"
     ]
    },
    {
     "name": "stderr",
     "output_type": "stream",
     "text": [
      " 18% (305 of 1614) |###                  | Elapsed Time: 0:00:33 ETA:   0:01:41"
     ]
    },
    {
     "name": "stdout",
     "output_type": "stream",
     "text": [
      "/Product_spirited-wines.com_September2020.json.gz\n",
      "/Product_hooklineandpaddle.com_September2020.json.gz\n",
      "/Product_perfumeseden.com_September2020.json.gz\n"
     ]
    },
    {
     "name": "stderr",
     "output_type": "stream",
     "text": [
      " 19% (310 of 1614) |####                 | Elapsed Time: 0:00:33 ETA:   0:01:42"
     ]
    },
    {
     "name": "stdout",
     "output_type": "stream",
     "text": [
      "/Product_stoutsflooring.com_September2020.json.gz\n",
      "/Product_tonerpoint.com.es_September2020.json.gz\n",
      "/Product_upfarma.com_September2020.json.gz\n",
      "/Product_bulluna.com_September2020.json.gz\n"
     ]
    },
    {
     "name": "stderr",
     "output_type": "stream",
     "text": [
      " 19% (312 of 1614) |####                 | Elapsed Time: 0:00:33 ETA:   0:01:57"
     ]
    },
    {
     "name": "stdout",
     "output_type": "stream",
     "text": [
      "/Product_winc.com.au_September2020.json.gz\n",
      "/Product_inusnet.com_September2020.json.gz\n",
      "/Product_intercomp.com.mt_September2020.json.gz\n"
     ]
    },
    {
     "name": "stderr",
     "output_type": "stream",
     "text": [
      " 19% (316 of 1614) |####                 | Elapsed Time: 0:00:34 ETA:   0:01:54"
     ]
    },
    {
     "name": "stdout",
     "output_type": "stream",
     "text": [
      "/Product_burrowsgps.co.uk_September2020.json.gz\n",
      "/Product_kindbikesandskis.com_September2020.json.gz\n",
      "/Product_chainwheeldrive.com_September2020.json.gz\n"
     ]
    },
    {
     "name": "stderr",
     "output_type": "stream",
     "text": [
      "\r",
      " 19% (317 of 1614) |####                 | Elapsed Time: 0:00:34 ETA:   0:01:53"
     ]
    },
    {
     "name": "stdout",
     "output_type": "stream",
     "text": [
      "/Product_padani.com_September2020.json.gz\n",
      "/Product_antiguarelojeria.com_September2020.json.gz\n",
      "/Product_swissluxury.com_September2020.json.gz\n"
     ]
    },
    {
     "name": "stderr",
     "output_type": "stream",
     "text": [
      " 19% (321 of 1614) |####                 | Elapsed Time: 0:00:35 ETA:   0:04:00"
     ]
    },
    {
     "name": "stdout",
     "output_type": "stream",
     "text": [
      "/Product_primofitnessusa.com_September2020.json.gz\n",
      "/Product_damlarose.co.uk_September2020.json.gz\n"
     ]
    },
    {
     "name": "stderr",
     "output_type": "stream",
     "text": [
      "\r",
      " 20% (324 of 1614) |####                 | Elapsed Time: 0:00:35 ETA:   0:03:22"
     ]
    },
    {
     "name": "stdout",
     "output_type": "stream",
     "text": [
      "/Product_carpetworldfargo.com_September2020.json.gz\n",
      "/Product_eztvappliance.com_September2020.json.gz\n",
      "/Product_mikesbikes.com_September2020.json.gz\n"
     ]
    },
    {
     "name": "stderr",
     "output_type": "stream",
     "text": [
      " 20% (326 of 1614) |####                 | Elapsed Time: 0:00:36 ETA:   0:03:47"
     ]
    },
    {
     "name": "stdout",
     "output_type": "stream",
     "text": [
      "/Product_compufirst.com_September2020.json.gz\n",
      "/Product_bludiode.com_September2020.json.gz\n"
     ]
    },
    {
     "name": "stderr",
     "output_type": "stream",
     "text": [
      " 20% (329 of 1614) |####                 | Elapsed Time: 0:00:36 ETA:   0:03:41"
     ]
    },
    {
     "name": "stdout",
     "output_type": "stream",
     "text": [
      "/Product_legendcoastal.com_September2020.json.gz\n",
      "/Product_grandos.com.br_September2020.json.gz\n",
      "/Product_momentbicycles.com_September2020.json.gz\n"
     ]
    },
    {
     "name": "stderr",
     "output_type": "stream",
     "text": [
      " 20% (334 of 1614) |####                 | Elapsed Time: 0:00:36 ETA:   0:02:56"
     ]
    },
    {
     "name": "stdout",
     "output_type": "stream",
     "text": [
      "/Product_universalcomputer.net_September2020.json.gz\n",
      "/Product_ttwolondon.com_September2020.json.gz\n",
      "/Product_terabyteshop.com.br_September2020.json.gz\n",
      "/Product_woodkrazyhandmade.co.uk_September2020.json.gz\n",
      "/Product_mylilhealthbot.com_September2020.json.gz\n",
      "/Product_thewittygrittypaperco.com_September2020.json.gz\n",
      "/Product_shopsquireshop.com_September2020.json.gz\n"
     ]
    },
    {
     "name": "stderr",
     "output_type": "stream",
     "text": [
      " 21% (340 of 1614) |####                 | Elapsed Time: 0:00:36 ETA:   0:02:23"
     ]
    },
    {
     "name": "stdout",
     "output_type": "stream",
     "text": [
      "/Product_lord-chambrayshop.com_September2020.json.gz\n",
      "/Product_beachorganicsskincare.com_September2020.json.gz\n",
      "/Product_countytv.com_September2020.json.gz\n",
      "/Product_linio.com.ar_September2020.json.gz\n"
     ]
    },
    {
     "name": "stderr",
     "output_type": "stream",
     "text": [
      " 21% (344 of 1614) |####                 | Elapsed Time: 0:00:37 ETA:   0:02:17"
     ]
    },
    {
     "name": "stdout",
     "output_type": "stream",
     "text": [
      "/Product_williamschevy.com_September2020.json.gz\n",
      "/Product_1stdiscountsafety.com_September2020.json.gz\n",
      "/Product_rickhendrickchevy.com_September2020.json.gz\n",
      "/Product_bidbum.com_September2020.json.gz\n",
      "/Product_petstreetmall.com_September2020.json.gz\n"
     ]
    },
    {
     "name": "stderr",
     "output_type": "stream",
     "text": [
      " 21% (347 of 1614) |####                 | Elapsed Time: 0:00:37 ETA:   0:01:36"
     ]
    },
    {
     "name": "stdout",
     "output_type": "stream",
     "text": [
      "/Product_firsttothefinish.com_September2020.json.gz\n",
      "/Product_msdist.co.uk_September2020.json.gz\n"
     ]
    },
    {
     "name": "stderr",
     "output_type": "stream",
     "text": [
      " 21% (350 of 1614) |####                 | Elapsed Time: 0:00:37 ETA:   0:01:29"
     ]
    },
    {
     "name": "stdout",
     "output_type": "stream",
     "text": [
      "/Product_laurenceking.com_September2020.json.gz\n",
      "/Product_joyeriaquintas.com_September2020.json.gz\n",
      "/Product_opsm.com.au_September2020.json.gz\n",
      "/Product_djcolifestyle.com_September2020.json.gz\n",
      "/Product_porchconcepts.com_September2020.json.gz\n"
     ]
    },
    {
     "name": "stderr",
     "output_type": "stream",
     "text": [
      " 21% (355 of 1614) |####                 | Elapsed Time: 0:00:38 ETA:   0:01:24"
     ]
    },
    {
     "name": "stdout",
     "output_type": "stream",
     "text": [
      "/Product_tahoesportsltd.com_September2020.json.gz\n",
      "/Product_trusted.com_September2020.json.gz\n",
      "/Product_rideonsports.com_September2020.json.gz\n"
     ]
    },
    {
     "name": "stderr",
     "output_type": "stream",
     "text": [
      "\r",
      " 22% (357 of 1614) |####                 | Elapsed Time: 0:00:38 ETA:   0:01:22"
     ]
    },
    {
     "name": "stdout",
     "output_type": "stream",
     "text": [
      "/Product_theapplianceloft.com_September2020.json.gz\n",
      "/Product_hylandcyclery.com_September2020.json.gz\n",
      "/Product_botanicabazaar.com_September2020.json.gz\n"
     ]
    },
    {
     "name": "stderr",
     "output_type": "stream",
     "text": [
      "\r",
      " 22% (359 of 1614) |####                 | Elapsed Time: 0:00:38 ETA:   0:01:23"
     ]
    },
    {
     "name": "stdout",
     "output_type": "stream",
     "text": [
      "/Product_carpetcountry.net_September2020.json.gz\n",
      "/Product_vipvapers.com_September2020.json.gz\n",
      "/Product_tracebikes.com_September2020.json.gz\n"
     ]
    },
    {
     "name": "stderr",
     "output_type": "stream",
     "text": [
      "\r",
      " 22% (362 of 1614) |####                 | Elapsed Time: 0:00:38 ETA:   0:01:29"
     ]
    },
    {
     "name": "stdout",
     "output_type": "stream",
     "text": [
      "/Product_safeprotech.com_September2020.json.gz\n",
      "/Product_hypercat.com_September2020.json.gz\n"
     ]
    },
    {
     "name": "stderr",
     "output_type": "stream",
     "text": [
      "\r",
      " 22% (364 of 1614) |####                 | Elapsed Time: 0:00:38 ETA:   0:01:46"
     ]
    },
    {
     "name": "stdout",
     "output_type": "stream",
     "text": [
      "/Product_gusbike.com_September2020.json.gz\n",
      "/Product_onemillionairetravel.com_September2020.json.gz\n"
     ]
    },
    {
     "name": "stderr",
     "output_type": "stream",
     "text": [
      " 22% (368 of 1614) |####                 | Elapsed Time: 0:00:39 ETA:   0:01:46"
     ]
    },
    {
     "name": "stdout",
     "output_type": "stream",
     "text": [
      "/Product_miralahora.com_September2020.json.gz\n",
      "/Product_youarrived.com_September2020.json.gz\n",
      "/Product_microcabin.net_September2020.json.gz\n",
      "/Product_hemamaps.com_September2020.json.gz\n"
     ]
    },
    {
     "name": "stderr",
     "output_type": "stream",
     "text": [
      " 23% (374 of 1614) |####                 | Elapsed Time: 0:00:39 ETA:   0:01:34"
     ]
    },
    {
     "name": "stdout",
     "output_type": "stream",
     "text": [
      "/Product_vpccomputers.com_September2020.json.gz\n",
      "/Product_grixbase.com_September2020.json.gz\n",
      "/Product_abt.com_September2020.json.gz\n",
      "/Product_trekbicyclestorelondon.com_September2020.json.gz\n",
      "/Product_exclusiveappliances.com_September2020.json.gz\n",
      "/Product_reuseyourit.com_September2020.json.gz\n",
      "/Product_greentoe.com_September2020.json.gz\n"
     ]
    },
    {
     "name": "stderr",
     "output_type": "stream",
     "text": [
      " 23% (380 of 1614) |####                 | Elapsed Time: 0:00:39 ETA:   0:01:33"
     ]
    },
    {
     "name": "stdout",
     "output_type": "stream",
     "text": [
      "/Product_relaxdays.co.uk_September2020.json.gz\n",
      "/Product_ireineheadwraps.com_September2020.json.gz\n",
      "/Product_carolinabrewsupply.com_September2020.json.gz\n",
      "/Product_reliancesolution.co.uk_September2020.json.gz\n",
      "/Product_owenfurniture.com_September2020.json.gz\n"
     ]
    },
    {
     "name": "stderr",
     "output_type": "stream",
     "text": [
      " 23% (386 of 1614) |#####                | Elapsed Time: 0:00:40 ETA:   0:01:25"
     ]
    },
    {
     "name": "stdout",
     "output_type": "stream",
     "text": [
      "/Product_bikecountry.com_September2020.json.gz\n",
      "/Product_southgeosystems.com_September2020.json.gz\n",
      "/Product_sugarcastleusa.com_September2020.json.gz\n",
      "/Product_koletic.com_September2020.json.gz\n",
      "/Product_sunglasstrend.com_September2020.json.gz\n",
      "/Product_exactflooring.com_September2020.json.gz\n"
     ]
    },
    {
     "name": "stderr",
     "output_type": "stream",
     "text": [
      " 24% (391 of 1614) |#####                | Elapsed Time: 0:00:40 ETA:   0:01:17"
     ]
    },
    {
     "name": "stdout",
     "output_type": "stream",
     "text": [
      "/Product_realtropicals.com_September2020.json.gz\n",
      "/Product_argento.com_September2020.json.gz\n",
      "/Product_ricksparknsave.com_September2020.json.gz\n",
      "/Product_salssentimentalgifts.com_September2020.json.gz\n",
      "/Product_sweetpetes.com_September2020.json.gz\n"
     ]
    },
    {
     "name": "stderr",
     "output_type": "stream",
     "text": [
      " 24% (394 of 1614) |#####                | Elapsed Time: 0:00:40 ETA:   0:01:19"
     ]
    },
    {
     "name": "stdout",
     "output_type": "stream",
     "text": [
      "/Product_gadgetcircuit.com_September2020.json.gz\n",
      "/Product_algerbikes.com_September2020.json.gz\n"
     ]
    },
    {
     "name": "stderr",
     "output_type": "stream",
     "text": [
      "\r",
      " 24% (395 of 1614) |#####                | Elapsed Time: 0:00:40 ETA:   0:01:21"
     ]
    },
    {
     "name": "stdout",
     "output_type": "stream",
     "text": [
      "/Product_aabikes.net_September2020.json.gz\n"
     ]
    },
    {
     "name": "stderr",
     "output_type": "stream",
     "text": [
      "\r",
      " 24% (396 of 1614) |#####                | Elapsed Time: 0:00:41 ETA:   0:01:20"
     ]
    },
    {
     "name": "stdout",
     "output_type": "stream",
     "text": [
      "/Product_djs-marine.com_September2020.json.gz\n",
      "/Product_ernestjones.co.uk_September2020.json.gz\n"
     ]
    },
    {
     "name": "stderr",
     "output_type": "stream",
     "text": [
      "\r",
      " 24% (398 of 1614) |#####                | Elapsed Time: 0:00:41 ETA:   0:01:23"
     ]
    },
    {
     "name": "stdout",
     "output_type": "stream",
     "text": [
      "/Product_checkeredflag.com_September2020.json.gz\n",
      "/Product_dell.com_September2020.json.gz\n"
     ]
    },
    {
     "name": "stderr",
     "output_type": "stream",
     "text": [
      " 24% (401 of 1614) |#####                | Elapsed Time: 0:00:43 ETA:   0:16:49"
     ]
    },
    {
     "name": "stdout",
     "output_type": "stream",
     "text": [
      "/Product_trailheadcycling.com_September2020.json.gz\n",
      "/Product_farmamica.com_September2020.json.gz\n"
     ]
    },
    {
     "name": "stderr",
     "output_type": "stream",
     "text": [
      " 25% (404 of 1614) |#####                | Elapsed Time: 0:00:44 ETA:   0:09:51"
     ]
    },
    {
     "name": "stdout",
     "output_type": "stream",
     "text": [
      "/Product_globalshopcenter.com_September2020.json.gz\n",
      "/Product_orange-marine.com_September2020.json.gz\n",
      "/Product_yrgear.com.au_September2020.json.gz\n",
      "/Product_azgardens.com_September2020.json.gz\n",
      "/Product_backyardbikes.com_September2020.json.gz\n"
     ]
    },
    {
     "name": "stderr",
     "output_type": "stream",
     "text": [
      " 25% (409 of 1614) |#####                | Elapsed Time: 0:00:44 ETA:   0:06:11"
     ]
    },
    {
     "name": "stdout",
     "output_type": "stream",
     "text": [
      "/Product_victory.computer_September2020.json.gz\n",
      "/Product_nositeli.com.ua_September2020.json.gz\n",
      "/Product_crimsonbikes.com_September2020.json.gz\n"
     ]
    },
    {
     "name": "stderr",
     "output_type": "stream",
     "text": [
      "\r",
      " 25% (410 of 1614) |#####                | Elapsed Time: 0:00:44 ETA:   0:05:51"
     ]
    },
    {
     "name": "stdout",
     "output_type": "stream",
     "text": [
      "/Product_andypemberton.com_September2020.json.gz\n"
     ]
    },
    {
     "name": "stderr",
     "output_type": "stream",
     "text": [
      "\r",
      " 25% (411 of 1614) |#####                | Elapsed Time: 0:00:45 ETA:   0:05:46"
     ]
    },
    {
     "name": "stdout",
     "output_type": "stream",
     "text": [
      "/Product_drogal.com.br_September2020.json.gz\n",
      "/Product_otticazzurrocapri.com_September2020.json.gz\n",
      "/Product_pcmemories.com.mx_September2020.json.gz\n",
      "/Product_mtvernonappliance.com_September2020.json.gz\n"
     ]
    },
    {
     "name": "stderr",
     "output_type": "stream",
     "text": [
      " 25% (416 of 1614) |#####                | Elapsed Time: 0:00:45 ETA:   0:04:37"
     ]
    },
    {
     "name": "stdout",
     "output_type": "stream",
     "text": [
      "/Product_southbaycycle.com_September2020.json.gz\n",
      "/Product_octo24.com_September2020.json.gz\n",
      "/Product_classicliquorsonline.com_September2020.json.gz\n"
     ]
    },
    {
     "name": "stderr",
     "output_type": "stream",
     "text": [
      "\r",
      " 25% (418 of 1614) |#####                | Elapsed Time: 0:00:45 ETA:   0:04:15"
     ]
    },
    {
     "name": "stdout",
     "output_type": "stream",
     "text": [
      "/Product_maddalonijewelers.com_September2020.json.gz\n"
     ]
    },
    {
     "name": "stderr",
     "output_type": "stream",
     "text": [
      " 26% (424 of 1614) |#####                | Elapsed Time: 0:00:45 ETA:   0:01:49"
     ]
    },
    {
     "name": "stdout",
     "output_type": "stream",
     "text": [
      "/Product_dermalution.com_September2020.json.gz\n",
      "/Product_willmanfurniture.com_September2020.json.gz\n",
      "/Product_mesatvappliance.com_September2020.json.gz\n",
      "/Product_alabamacustomflooring.com_September2020.json.gz\n",
      "/Product_yijiaocn.com_September2020.json.gz\n",
      "/Product_atel.com.pl_September2020.json.gz\n",
      "/Product_lavysflooring.com_September2020.json.gz\n",
      "/Product_ronslumber.com_September2020.json.gz\n"
     ]
    },
    {
     "name": "stderr",
     "output_type": "stream",
     "text": [
      "\r",
      " 26% (428 of 1614) |#####                | Elapsed Time: 0:00:46 ETA:   0:01:40"
     ]
    },
    {
     "name": "stdout",
     "output_type": "stream",
     "text": [
      "/Product_saatcim.com.tr_September2020.json.gz\n",
      "/Product_cdwg.com_September2020.json.gz\n"
     ]
    },
    {
     "name": "stderr",
     "output_type": "stream",
     "text": [
      " 26% (432 of 1614) |#####                | Elapsed Time: 0:00:46 ETA:   0:01:53"
     ]
    },
    {
     "name": "stdout",
     "output_type": "stream",
     "text": [
      "/Product_redmountainbunker.com_September2020.json.gz\n",
      "/Product_suplementosrp.com.br_September2020.json.gz\n",
      "/Product_ideakix.com_September2020.json.gz\n",
      "/Product_yourperfumewarehouse.co.uk_September2020.json.gz\n",
      "/Product_ashlandhardseltzer.com_September2020.json.gz\n",
      "/Product_bijouxemoi.com_September2020.json.gz\n"
     ]
    },
    {
     "name": "stderr",
     "output_type": "stream",
     "text": [
      " 27% (437 of 1614) |#####                | Elapsed Time: 0:00:47 ETA:   0:01:34"
     ]
    },
    {
     "name": "stdout",
     "output_type": "stream",
     "text": [
      "/Product_usedcarmalaysia.com_September2020.json.gz\n",
      "/Product_allikestore.com_September2020.json.gz\n",
      "/Product_getrocked.org_September2020.json.gz\n",
      "/Product_zoccoshop.com_September2020.json.gz\n"
     ]
    },
    {
     "name": "stderr",
     "output_type": "stream",
     "text": [
      " 27% (441 of 1614) |#####                | Elapsed Time: 0:00:47 ETA:   0:01:34"
     ]
    },
    {
     "name": "stdout",
     "output_type": "stream",
     "text": [
      "/Product_sluggerscarpets.com_September2020.json.gz\n",
      "/Product_wildearth.com.au_September2020.json.gz\n",
      "/Product_feonka.com_September2020.json.gz\n"
     ]
    },
    {
     "name": "stderr",
     "output_type": "stream",
     "text": [
      "\r",
      " 27% (444 of 1614) |#####                | Elapsed Time: 0:00:47 ETA:   0:01:27"
     ]
    },
    {
     "name": "stdout",
     "output_type": "stream",
     "text": [
      "/Product_wifi-stock.co.uk_September2020.json.gz\n",
      "/Product_sneakerworldshop.com_September2020.json.gz\n",
      "/Product_karenlustrup.com_September2020.json.gz\n",
      "/Product_rococosystems.com_September2020.json.gz\n",
      "/Product_foodland.com_September2020.json.gz\n"
     ]
    },
    {
     "name": "stderr",
     "output_type": "stream",
     "text": [
      " 27% (449 of 1614) |#####                | Elapsed Time: 0:00:48 ETA:   0:02:15"
     ]
    },
    {
     "name": "stdout",
     "output_type": "stream",
     "text": [
      "/Product_joyeriagimenez.com_September2020.json.gz\n",
      "/Product_fitnewsole.com_September2020.json.gz\n",
      "/Product_deskidea.com_September2020.json.gz\n"
     ]
    },
    {
     "name": "stderr",
     "output_type": "stream",
     "text": [
      " 28% (453 of 1614) |#####                | Elapsed Time: 0:00:48 ETA:   0:01:36"
     ]
    },
    {
     "name": "stdout",
     "output_type": "stream",
     "text": [
      "/Product_olmsteadstv.com_September2020.json.gz\n",
      "/Product_thecoastalcottagebayhead.com_September2020.json.gz\n",
      "/Product_wadesworld.com.au_September2020.json.gz\n",
      "/Product_exquisitetimepieces.com_September2020.json.gz\n"
     ]
    },
    {
     "name": "stderr",
     "output_type": "stream",
     "text": [
      " 28% (457 of 1614) |#####                | Elapsed Time: 0:00:49 ETA:   0:01:51"
     ]
    },
    {
     "name": "stdout",
     "output_type": "stream",
     "text": [
      "/Product_plazacameras.com.au_September2020.json.gz\n",
      "/Product_hefnerfurniture.com_September2020.json.gz\n",
      "/Product_stickandcaneshop.co.uk_September2020.json.gz\n",
      "/Product_ozpilot.com.au_September2020.json.gz\n"
     ]
    },
    {
     "name": "stderr",
     "output_type": "stream",
     "text": [
      "\r",
      " 28% (459 of 1614) |#####                | Elapsed Time: 0:00:49 ETA:   0:01:48"
     ]
    },
    {
     "name": "stdout",
     "output_type": "stream",
     "text": [
      "/Product_skinnywheels.com_September2020.json.gz\n",
      "/Product_efarma.com_September2020.json.gz\n"
     ]
    },
    {
     "name": "stderr",
     "output_type": "stream",
     "text": [
      "\r",
      " 28% (460 of 1614) |#####                | Elapsed Time: 0:00:49 ETA:   0:01:57"
     ]
    },
    {
     "name": "stdout",
     "output_type": "stream",
     "text": [
      "/Product_nowbikes-fitness.com_September2020.json.gz\n"
     ]
    },
    {
     "name": "stderr",
     "output_type": "stream",
     "text": [
      "\r",
      " 28% (461 of 1614) |#####                | Elapsed Time: 0:00:49 ETA:   0:02:17"
     ]
    },
    {
     "name": "stdout",
     "output_type": "stream",
     "text": [
      "/Product_hendrickappliance.com_September2020.json.gz\n",
      "/Product_landrys.com_September2020.json.gz\n"
     ]
    },
    {
     "name": "stderr",
     "output_type": "stream",
     "text": [
      " 28% (465 of 1614) |######               | Elapsed Time: 0:00:50 ETA:   0:02:17"
     ]
    },
    {
     "name": "stdout",
     "output_type": "stream",
     "text": [
      "/Product_feelgoodcontacts.com_September2020.json.gz\n",
      "/Product_jpflooring.com_September2020.json.gz\n",
      "/Product_klcfloors.com_September2020.json.gz\n",
      "/Product_jamiescarpetshop.com_September2020.json.gz\n",
      "/Product_veronicasdoggiedelights.com_September2020.json.gz\n"
     ]
    },
    {
     "name": "stderr",
     "output_type": "stream",
     "text": [
      " 29% (470 of 1614) |######               | Elapsed Time: 0:00:50 ETA:   0:02:00"
     ]
    },
    {
     "name": "stdout",
     "output_type": "stream",
     "text": [
      "/Product_informaticalamancha.com_September2020.json.gz\n",
      "/Product_glorycycles.com_September2020.json.gz\n",
      "/Product_tuszetonery.net_September2020.json.gz\n",
      "/Product_schuh-spanner.com_September2020.json.gz\n"
     ]
    },
    {
     "name": "stderr",
     "output_type": "stream",
     "text": [
      "\r",
      " 29% (472 of 1614) |######               | Elapsed Time: 0:00:50 ETA:   0:01:54"
     ]
    },
    {
     "name": "stdout",
     "output_type": "stream",
     "text": [
      "/Product_sparkleandsass.net_September2020.json.gz\n",
      "/Product_the-house.com_September2020.json.gz\n"
     ]
    },
    {
     "name": "stderr",
     "output_type": "stream",
     "text": [
      "\r",
      " 29% (474 of 1614) |######               | Elapsed Time: 0:00:50 ETA:   0:01:49"
     ]
    },
    {
     "name": "stdout",
     "output_type": "stream",
     "text": [
      "/Product_puritycandy.com_September2020.json.gz\n",
      "/Product_cultpens.com_September2020.json.gz\n"
     ]
    },
    {
     "name": "stderr",
     "output_type": "stream",
     "text": [
      " 29% (478 of 1614) |######               | Elapsed Time: 0:00:51 ETA:   0:02:03"
     ]
    },
    {
     "name": "stdout",
     "output_type": "stream",
     "text": [
      "/Product_nexttime.com.br_September2020.json.gz\n",
      "/Product_graysofwestminster.co.uk_September2020.json.gz\n",
      "/Product_lamecrate.com_September2020.json.gz\n",
      "/Product_flooringmaster.com_September2020.json.gz\n"
     ]
    },
    {
     "name": "stderr",
     "output_type": "stream",
     "text": [
      "\r",
      " 29% (481 of 1614) |######               | Elapsed Time: 0:00:51 ETA:   0:01:48"
     ]
    },
    {
     "name": "stdout",
     "output_type": "stream",
     "text": [
      "/Product_achat-mania.com_September2020.json.gz\n",
      "/Product_wineologycc.com_September2020.json.gz\n",
      "/Product_wheelworld.com_September2020.json.gz\n"
     ]
    },
    {
     "name": "stderr",
     "output_type": "stream",
     "text": [
      "\r",
      " 29% (483 of 1614) |######               | Elapsed Time: 0:00:51 ETA:   0:01:45"
     ]
    },
    {
     "name": "stdout",
     "output_type": "stream",
     "text": [
      "/Product_urbanbicyclegallery.com_September2020.json.gz\n",
      "/Product_mrsgs.com_September2020.json.gz\n"
     ]
    },
    {
     "name": "stderr",
     "output_type": "stream",
     "text": [
      "\r",
      " 30% (485 of 1614) |######               | Elapsed Time: 0:00:52 ETA:   0:01:46"
     ]
    },
    {
     "name": "stdout",
     "output_type": "stream",
     "text": [
      "/Product_modesens.uk_September2020.json.gz\n",
      "/Product_footballstyle.com.ua_September2020.json.gz\n"
     ]
    },
    {
     "name": "stderr",
     "output_type": "stream",
     "text": [
      "\r",
      " 30% (487 of 1614) |######               | Elapsed Time: 0:00:52 ETA:   0:02:09"
     ]
    },
    {
     "name": "stdout",
     "output_type": "stream",
     "text": [
      "/Product_milcarsky.com_September2020.json.gz\n",
      "/Product_overclockers.co.uk_September2020.json.gz\n"
     ]
    },
    {
     "name": "stderr",
     "output_type": "stream",
     "text": [
      "\r",
      " 30% (489 of 1614) |######               | Elapsed Time: 0:00:52 ETA:   0:02:25"
     ]
    },
    {
     "name": "stdout",
     "output_type": "stream",
     "text": [
      "/Product_allprofloorstx.com_September2020.json.gz\n",
      "/Product_quzo.net_September2020.json.gz\n"
     ]
    },
    {
     "name": "stderr",
     "output_type": "stream",
     "text": [
      " 30% (492 of 1614) |######               | Elapsed Time: 0:00:53 ETA:   0:02:18"
     ]
    },
    {
     "name": "stdout",
     "output_type": "stream",
     "text": [
      "/Product_petersofkensington.com.au_September2020.json.gz\n",
      "/Product_unitedbroadcast.com_September2020.json.gz\n"
     ]
    },
    {
     "name": "stderr",
     "output_type": "stream",
     "text": [
      "\r",
      " 30% (495 of 1614) |######               | Elapsed Time: 0:00:53 ETA:   0:02:03"
     ]
    },
    {
     "name": "stdout",
     "output_type": "stream",
     "text": [
      "/Product_friedmansappliances.com_September2020.json.gz\n",
      "/Product_bahubalicraft.com_September2020.json.gz\n",
      "/Product_ewcarpets.com_September2020.json.gz\n"
     ]
    },
    {
     "name": "stderr",
     "output_type": "stream",
     "text": [
      " 30% (498 of 1614) |######               | Elapsed Time: 0:00:54 ETA:   0:03:30"
     ]
    },
    {
     "name": "stdout",
     "output_type": "stream",
     "text": [
      "/Product_trekraleigh.com_September2020.json.gz\n",
      "/Product_leboxgourmet.com_September2020.json.gz\n",
      "/Product_lakeside-bikes.com_September2020.json.gz\n"
     ]
    },
    {
     "name": "stderr",
     "output_type": "stream",
     "text": [
      "\r",
      " 31% (501 of 1614) |######               | Elapsed Time: 0:00:54 ETA:   0:02:55"
     ]
    },
    {
     "name": "stdout",
     "output_type": "stream",
     "text": [
      "/Product_cellnetonline.com_September2020.json.gz\n",
      "/Product_gabelbros.com_September2020.json.gz\n",
      "/Product_impulsestate.com_September2020.json.gz\n",
      "/Product_pearluno.com_September2020.json.gz\n",
      "/Product_leather4ever.com_September2020.json.gz\n",
      "/Product_holstandlee.com_September2020.json.gz\n",
      "/Product_methowcyclesport.com_September2020.json.gz\n"
     ]
    },
    {
     "name": "stderr",
     "output_type": "stream",
     "text": [
      "\r",
      " 31% (506 of 1614) |######               | Elapsed Time: 0:00:54 ETA:   0:02:19"
     ]
    },
    {
     "name": "stdout",
     "output_type": "stream",
     "text": [
      "/Product_bikeworkskona.com_September2020.json.gz\n"
     ]
    },
    {
     "name": "stderr",
     "output_type": "stream",
     "text": [
      " 31% (510 of 1614) |######               | Elapsed Time: 0:00:55 ETA:   0:02:08"
     ]
    },
    {
     "name": "stdout",
     "output_type": "stream",
     "text": [
      "/Product_detectorpower.com_September2020.json.gz\n",
      "/Product_ligayaflowers.com_September2020.json.gz\n",
      "/Product_paintedcolorceramics.com_September2020.json.gz\n",
      "/Product_thehuntressny.com_September2020.json.gz\n",
      "/Product_camerasolutionsinc.com_September2020.json.gz\n"
     ]
    },
    {
     "name": "stderr",
     "output_type": "stream",
     "text": [
      "\r",
      " 31% (513 of 1614) |######               | Elapsed Time: 0:00:55 ETA:   0:02:09"
     ]
    },
    {
     "name": "stdout",
     "output_type": "stream",
     "text": [
      "/Product_farmaciaspasteur.com.co_September2020.json.gz\n",
      "/Product_skyland.com.bd_September2020.json.gz\n",
      "/Product_hiketech.com.au_September2020.json.gz\n",
      "/Product_drhome-auto.com_September2020.json.gz\n"
     ]
    },
    {
     "name": "stderr",
     "output_type": "stream",
     "text": [
      " 32% (518 of 1614) |######               | Elapsed Time: 0:00:55 ETA:   0:01:58"
     ]
    },
    {
     "name": "stdout",
     "output_type": "stream",
     "text": [
      "/Product_ridgelinebikenski.com_September2020.json.gz\n",
      "/Product_oldtownbicycle.com_September2020.json.gz\n",
      "/Product_skydiamondco.com_September2020.json.gz\n"
     ]
    },
    {
     "name": "stderr",
     "output_type": "stream",
     "text": [
      " 32% (521 of 1614) |######               | Elapsed Time: 0:00:55 ETA:   0:01:53"
     ]
    },
    {
     "name": "stdout",
     "output_type": "stream",
     "text": [
      "/Product_infoprec.com_September2020.json.gz\n",
      "/Product_tcrunningco.com_September2020.json.gz\n",
      "/Product_laptopsdirect.co.uk_September2020.json.gz\n"
     ]
    },
    {
     "name": "stderr",
     "output_type": "stream",
     "text": [
      "\r",
      " 32% (522 of 1614) |######               | Elapsed Time: 0:00:56 ETA:   0:02:03"
     ]
    },
    {
     "name": "stdout",
     "output_type": "stream",
     "text": [
      "/Product_bicycleworldrgv.com_September2020.json.gz\n",
      "/Product_wheelworks.com_September2020.json.gz\n"
     ]
    },
    {
     "name": "stderr",
     "output_type": "stream",
     "text": [
      " 32% (526 of 1614) |######               | Elapsed Time: 0:00:56 ETA:   0:01:29"
     ]
    },
    {
     "name": "stdout",
     "output_type": "stream",
     "text": [
      "/Product_phototech.com.br_September2020.json.gz\n",
      "/Product_explorebeavertail.com_September2020.json.gz\n",
      "/Product_divadeejboutique.com_September2020.json.gz\n",
      "/Product_bargainfotos.com_September2020.json.gz\n"
     ]
    },
    {
     "name": "stderr",
     "output_type": "stream",
     "text": [
      " 32% (530 of 1614) |######               | Elapsed Time: 0:00:56 ETA:   0:01:32"
     ]
    },
    {
     "name": "stdout",
     "output_type": "stream",
     "text": [
      "/Product_prettyclickcosmetics.com_September2020.json.gz\n",
      "/Product_boutiquepassecompose.com_September2020.json.gz\n",
      "/Product_fabactive.com_September2020.json.gz\n",
      "/Product_vesuviustreamline.com_September2020.json.gz\n"
     ]
    },
    {
     "name": "stderr",
     "output_type": "stream",
     "text": [
      " 33% (533 of 1614) |######               | Elapsed Time: 0:00:57 ETA:   0:01:28"
     ]
    },
    {
     "name": "stdout",
     "output_type": "stream",
     "text": [
      "/Product_hsamuel.co.uk_September2020.json.gz\n",
      "/Product_almokhtaroptics.com_September2020.json.gz\n"
     ]
    },
    {
     "name": "stderr",
     "output_type": "stream",
     "text": [
      " 33% (536 of 1614) |######               | Elapsed Time: 0:00:57 ETA:   0:01:39"
     ]
    },
    {
     "name": "stdout",
     "output_type": "stream",
     "text": [
      "/Product_sweetcanes.com_September2020.json.gz\n",
      "/Product_atlantatrek.com_September2020.json.gz\n",
      "/Product_freespirithair.co.uk_September2020.json.gz\n",
      "/Product_azmediquip.com_September2020.json.gz\n"
     ]
    },
    {
     "name": "stderr",
     "output_type": "stream",
     "text": [
      " 33% (542 of 1614) |#######              | Elapsed Time: 0:00:57 ETA:   0:01:29"
     ]
    },
    {
     "name": "stdout",
     "output_type": "stream",
     "text": [
      "/Product_eczadan.net_September2020.json.gz\n",
      "/Product_saraappliance.com_September2020.json.gz\n",
      "/Product_thompson-jewelers.com_September2020.json.gz\n",
      "/Product_miomiorun.com_September2020.json.gz\n",
      "/Product_atlas-tile.com_September2020.json.gz\n"
     ]
    },
    {
     "name": "stderr",
     "output_type": "stream",
     "text": [
      " 33% (546 of 1614) |#######              | Elapsed Time: 0:00:57 ETA:   0:01:26"
     ]
    },
    {
     "name": "stdout",
     "output_type": "stream",
     "text": [
      "/Product_demetrejewelers.com_September2020.json.gz\n",
      "/Product_biggscameraused.com_September2020.json.gz\n",
      "/Product_supergo.com_September2020.json.gz\n",
      "/Product_oncentrejp.com_September2020.json.gz\n"
     ]
    },
    {
     "name": "stderr",
     "output_type": "stream",
     "text": [
      " 34% (550 of 1614) |#######              | Elapsed Time: 0:00:58 ETA:   0:01:23"
     ]
    },
    {
     "name": "stdout",
     "output_type": "stream",
     "text": [
      "/Product_counterassaulttech.com_September2020.json.gz\n",
      "/Product_avertek.com.sg_September2020.json.gz\n",
      "/Product_waadtappliance.com_September2020.json.gz\n",
      "/Product_aurorasapothecary.com_September2020.json.gz\n"
     ]
    },
    {
     "name": "stderr",
     "output_type": "stream",
     "text": [
      "\r",
      " 34% (552 of 1614) |#######              | Elapsed Time: 0:00:58 ETA:   0:01:13"
     ]
    },
    {
     "name": "stdout",
     "output_type": "stream",
     "text": [
      "/Product_nouglyfloors.com_September2020.json.gz\n",
      "/Product_camerok.com_September2020.json.gz\n",
      "/Product_hearthandcook.com_September2020.json.gz\n"
     ]
    },
    {
     "name": "stderr",
     "output_type": "stream",
     "text": [
      " 34% (556 of 1614) |#######              | Elapsed Time: 0:00:58 ETA:   0:01:15"
     ]
    },
    {
     "name": "stdout",
     "output_type": "stream",
     "text": [
      "/Product_bellaphoto.com.br_September2020.json.gz\n",
      "/Product_billandpauls.com_September2020.json.gz\n",
      "/Product_jbl.com_September2020.json.gz\n"
     ]
    },
    {
     "name": "stderr",
     "output_type": "stream",
     "text": [
      " 34% (559 of 1614) |#######              | Elapsed Time: 0:00:59 ETA:   0:01:22"
     ]
    },
    {
     "name": "stdout",
     "output_type": "stream",
     "text": [
      "/Product_dahlkempers.com_September2020.json.gz\n",
      "/Product_lassana.com_September2020.json.gz\n",
      "/Product_fireworksfoods.com.au_September2020.json.gz\n",
      "/Product_notjussouthern.com_September2020.json.gz\n",
      "/Product_riegelmanns.com_September2020.json.gz\n",
      "/Product_electrical-deals.co.uk_September2020.json.gz\n"
     ]
    },
    {
     "name": "stderr",
     "output_type": "stream",
     "text": [
      " 35% (566 of 1614) |#######              | Elapsed Time: 0:00:59 ETA:   0:01:11"
     ]
    },
    {
     "name": "stdout",
     "output_type": "stream",
     "text": [
      "/Product_garminssa.com_September2020.json.gz\n",
      "/Product_faithchapelsd.com_September2020.json.gz\n",
      "/Product_comms-express.com_September2020.json.gz\n",
      "/Product_pvtek.com.vn_September2020.json.gz\n"
     ]
    },
    {
     "name": "stderr",
     "output_type": "stream",
     "text": [
      "\r",
      " 35% (569 of 1614) |#######              | Elapsed Time: 0:00:59 ETA:   0:01:18"
     ]
    },
    {
     "name": "stdout",
     "output_type": "stream",
     "text": [
      "/Product_hamradiodesigns.co.uk_September2020.json.gz\n",
      "/Product_farmaciagt.com_September2020.json.gz\n",
      "/Product_armarinhosaojose.com.br_September2020.json.gz\n"
     ]
    },
    {
     "name": "stderr",
     "output_type": "stream",
     "text": [
      "\r",
      " 35% (570 of 1614) |#######              | Elapsed Time: 0:00:59 ETA:   0:01:26"
     ]
    },
    {
     "name": "stdout",
     "output_type": "stream",
     "text": [
      "/Product_carpetconceptsonline.com_September2020.json.gz\n",
      "/Product_aldodesigngroup.com_September2020.json.gz\n",
      "/Product_bouldercyclesport.com_September2020.json.gz\n"
     ]
    },
    {
     "name": "stderr",
     "output_type": "stream",
     "text": [
      " 35% (575 of 1614) |#######              | Elapsed Time: 0:01:00 ETA:   0:01:31"
     ]
    },
    {
     "name": "stdout",
     "output_type": "stream",
     "text": [
      "/Product_bnetsafety.com_September2020.json.gz\n",
      "/Product_us-appliance.com_September2020.json.gz\n",
      "/Product_straitfloors.com_September2020.json.gz\n",
      "/Product_storegermany.com_September2020.json.gz\n"
     ]
    },
    {
     "name": "stderr",
     "output_type": "stream",
     "text": [
      "\r",
      " 35% (578 of 1614) |#######              | Elapsed Time: 0:01:00 ETA:   0:01:27"
     ]
    },
    {
     "name": "stdout",
     "output_type": "stream",
     "text": [
      "/Product_royalwinemerchants.com_September2020.json.gz\n",
      "/Product_tweakers.net_September2020.json.gz\n"
     ]
    },
    {
     "name": "stderr",
     "output_type": "stream",
     "text": [
      " 35% (581 of 1614) |#######              | Elapsed Time: 0:01:00 ETA:   0:01:24"
     ]
    },
    {
     "name": "stdout",
     "output_type": "stream",
     "text": [
      "/Product_workhorsebicycles.com_September2020.json.gz\n",
      "/Product_americanfreight.com_September2020.json.gz\n",
      "/Product_thepalmbeachprinter.com_September2020.json.gz\n"
     ]
    },
    {
     "name": "stderr",
     "output_type": "stream",
     "text": [
      " 36% (584 of 1614) |#######              | Elapsed Time: 0:01:01 ETA:   0:01:18"
     ]
    },
    {
     "name": "stdout",
     "output_type": "stream",
     "text": [
      "/Product_authogar.com_September2020.json.gz\n",
      "/Product_netplus.com.au_September2020.json.gz\n",
      "/Product_43einhalb.com_September2020.json.gz\n"
     ]
    },
    {
     "name": "stderr",
     "output_type": "stream",
     "text": [
      " 36% (587 of 1614) |#######              | Elapsed Time: 0:01:01 ETA:   0:01:26"
     ]
    },
    {
     "name": "stdout",
     "output_type": "stream",
     "text": [
      "/Product_ideepreziose.com_September2020.json.gz\n",
      "/Product_pcsimple.net_September2020.json.gz\n",
      "/Product_cctvwholesales.co.uk_September2020.json.gz\n",
      "/Product_camerahouse.com.au_September2020.json.gz\n"
     ]
    },
    {
     "name": "stderr",
     "output_type": "stream",
     "text": [
      "\r",
      " 36% (589 of 1614) |#######              | Elapsed Time: 0:01:01 ETA:   0:01:24"
     ]
    },
    {
     "name": "stdout",
     "output_type": "stream",
     "text": [
      "/Product_laced.co.uk_September2020.json.gz\n",
      "/Product_prodirectrugby.com_September2020.json.gz\n"
     ]
    },
    {
     "name": "stderr",
     "output_type": "stream",
     "text": [
      " 36% (592 of 1614) |#######              | Elapsed Time: 0:01:01 ETA:   0:01:33"
     ]
    },
    {
     "name": "stdout",
     "output_type": "stream",
     "text": [
      "/Product_stenata.com_September2020.json.gz\n",
      "/Product_rosevillehyundai.com_September2020.json.gz\n",
      "/Product_teknostore.com_September2020.json.gz\n"
     ]
    },
    {
     "name": "stderr",
     "output_type": "stream",
     "text": [
      "\r",
      " 36% (595 of 1614) |#######              | Elapsed Time: 0:01:01 ETA:   0:01:23"
     ]
    },
    {
     "name": "stdout",
     "output_type": "stream",
     "text": [
      "/Product_kpodj.com_September2020.json.gz\n",
      "/Product_connectec.uk_September2020.json.gz\n",
      "/Product_billywoodappliance.com_September2020.json.gz\n",
      "/Product_ubcbike.com_September2020.json.gz\n"
     ]
    },
    {
     "name": "stderr",
     "output_type": "stream",
     "text": [
      " 37% (602 of 1614) |#######              | Elapsed Time: 0:01:02 ETA:   0:01:14"
     ]
    },
    {
     "name": "stdout",
     "output_type": "stream",
     "text": [
      "/Product_guardiangraphixca.com_September2020.json.gz\n",
      "/Product_therobustolive.com_September2020.json.gz\n",
      "/Product_habibishomemedical.com_September2020.json.gz\n",
      "/Product_athletesportsworld.com_September2020.json.gz\n",
      "/Product_boardtownbikes.com_September2020.json.gz\n"
     ]
    },
    {
     "name": "stderr",
     "output_type": "stream",
     "text": [
      " 37% (605 of 1614) |#######              | Elapsed Time: 0:01:02 ETA:   0:01:20"
     ]
    },
    {
     "name": "stdout",
     "output_type": "stream",
     "text": [
      "/Product_chainreactionga.com_September2020.json.gz\n",
      "/Product_gigante.co.uk_September2020.json.gz\n",
      "/Product_buygiftforher.com_September2020.json.gz\n",
      "/Product_gro-zone.co.uk_September2020.json.gz\n",
      "/Product_bikestoponline.com_September2020.json.gz\n"
     ]
    },
    {
     "name": "stderr",
     "output_type": "stream",
     "text": [
      "\r",
      " 37% (608 of 1614) |#######              | Elapsed Time: 0:01:02 ETA:   0:01:19"
     ]
    },
    {
     "name": "stdout",
     "output_type": "stream",
     "text": [
      "/Product_gibert.com_September2020.json.gz\n"
     ]
    },
    {
     "name": "stderr",
     "output_type": "stream",
     "text": [
      "\r",
      " 37% (609 of 1614) |#######              | Elapsed Time: 0:01:03 ETA:   0:01:27"
     ]
    },
    {
     "name": "stdout",
     "output_type": "stream",
     "text": [
      "/Product_vectorstock.com_September2020.json.gz\n"
     ]
    },
    {
     "name": "stderr",
     "output_type": "stream",
     "text": [
      " 37% (612 of 1614) |#######              | Elapsed Time: 0:01:05 ETA:   0:08:58"
     ]
    },
    {
     "name": "stdout",
     "output_type": "stream",
     "text": [
      "/Product_flyingowl.com_September2020.json.gz\n",
      "/Product_getice.com_September2020.json.gz\n",
      "/Product_stacyluzzi.com_September2020.json.gz\n",
      "/Product_brownapplianceandmattress.com_September2020.json.gz\n"
     ]
    },
    {
     "name": "stderr",
     "output_type": "stream",
     "text": [
      "\r",
      " 38% (614 of 1614) |#######              | Elapsed Time: 0:01:05 ETA:   0:06:23"
     ]
    },
    {
     "name": "stdout",
     "output_type": "stream",
     "text": [
      "/Product_lifemiles.com_September2020.json.gz\n"
     ]
    },
    {
     "name": "stderr",
     "output_type": "stream",
     "text": [
      "\r",
      " 38% (615 of 1614) |########             | Elapsed Time: 0:01:06 ETA:   0:09:53"
     ]
    },
    {
     "name": "stdout",
     "output_type": "stream",
     "text": [
      "/Product_cloud10beauty.com_September2020.json.gz\n"
     ]
    },
    {
     "name": "stderr",
     "output_type": "stream",
     "text": [
      " 38% (618 of 1614) |########             | Elapsed Time: 0:01:07 ETA:   0:05:56"
     ]
    },
    {
     "name": "stdout",
     "output_type": "stream",
     "text": [
      "/Product_cam4sell.com_September2020.json.gz\n",
      "/Product_helenscycles.com_September2020.json.gz\n",
      "/Product_sanfordcarpet.com_September2020.json.gz\n"
     ]
    },
    {
     "name": "stderr",
     "output_type": "stream",
     "text": [
      "\r",
      " 38% (621 of 1614) |########             | Elapsed Time: 0:01:07 ETA:   0:04:59"
     ]
    },
    {
     "name": "stdout",
     "output_type": "stream",
     "text": [
      "/Product_pcsuppliesuk.com_September2020.json.gz\n",
      "/Product_freens-sup.com_September2020.json.gz\n",
      "/Product_mankind.co.uk_September2020.json.gz\n"
     ]
    },
    {
     "name": "stderr",
     "output_type": "stream",
     "text": [
      " 38% (624 of 1614) |########             | Elapsed Time: 0:01:07 ETA:   0:04:05"
     ]
    },
    {
     "name": "stdout",
     "output_type": "stream",
     "text": [
      "/Product_sistyon.com_September2020.json.gz\n",
      "/Product_cycleryusa.com_September2020.json.gz\n",
      "/Product_letsbeholistic.com_September2020.json.gz\n",
      "/Product_columbusrunning.com_September2020.json.gz\n",
      "/Product_netechsolutionsllc.com_September2020.json.gz\n"
     ]
    },
    {
     "name": "stderr",
     "output_type": "stream",
     "text": [
      " 38% (629 of 1614) |########             | Elapsed Time: 0:01:07 ETA:   0:03:00"
     ]
    },
    {
     "name": "stdout",
     "output_type": "stream",
     "text": [
      "/Product_ddflooring.com_September2020.json.gz\n",
      "/Product_tissotwatches.com_September2020.json.gz\n",
      "/Product_monparfumdirect.com_September2020.json.gz\n"
     ]
    },
    {
     "name": "stderr",
     "output_type": "stream",
     "text": [
      "\r",
      " 39% (632 of 1614) |########             | Elapsed Time: 0:01:08 ETA:   0:02:38"
     ]
    },
    {
     "name": "stdout",
     "output_type": "stream",
     "text": [
      "/Product_blinkqa.com_September2020.json.gz\n",
      "/Product_jaysappliances.com_September2020.json.gz\n",
      "/Product_camerton99.com_September2020.json.gz\n",
      "/Product_droneassemble.com_September2020.json.gz\n"
     ]
    },
    {
     "name": "stderr",
     "output_type": "stream",
     "text": [
      " 39% (636 of 1614) |########             | Elapsed Time: 0:01:08 ETA:   0:02:23"
     ]
    },
    {
     "name": "stdout",
     "output_type": "stream",
     "text": [
      "/Product_shop4indonesia.com_September2020.json.gz\n",
      "/Product_shaysappliance.com_September2020.json.gz\n",
      "/Product_onguardprotectionproducts.com_September2020.json.gz\n",
      "/Product_hollandbikes.com_September2020.json.gz\n"
     ]
    },
    {
     "name": "stderr",
     "output_type": "stream",
     "text": [
      "\r",
      " 39% (640 of 1614) |########             | Elapsed Time: 0:01:08 ETA:   0:02:07"
     ]
    },
    {
     "name": "stdout",
     "output_type": "stream",
     "text": [
      "/Product_mtcfactoryoutlet.com_September2020.json.gz\n",
      "/Product_bluewaterphotostore.com_September2020.json.gz\n",
      "/Product_jdsound.com.au_September2020.json.gz\n",
      "/Product_sabinocycles.com_September2020.json.gz\n"
     ]
    },
    {
     "name": "stderr",
     "output_type": "stream",
     "text": [
      " 39% (645 of 1614) |########             | Elapsed Time: 0:01:08 ETA:   0:01:08"
     ]
    },
    {
     "name": "stdout",
     "output_type": "stream",
     "text": [
      "/Product_comfortcarpets.com_September2020.json.gz\n",
      "/Product_lambcotvandappliance.com_September2020.json.gz\n",
      "/Product_impacteverything.org_September2020.json.gz\n",
      "/Product_fotoruanopro.com_September2020.json.gz\n"
     ]
    },
    {
     "name": "stderr",
     "output_type": "stream",
     "text": [
      "\r",
      " 40% (647 of 1614) |########             | Elapsed Time: 0:01:09 ETA:   0:01:08"
     ]
    },
    {
     "name": "stdout",
     "output_type": "stream",
     "text": [
      "/Product_basilfredonia.com_September2020.json.gz\n",
      "/Product_sunandski.com_September2020.json.gz\n"
     ]
    },
    {
     "name": "stderr",
     "output_type": "stream",
     "text": [
      "\r",
      " 40% (648 of 1614) |########             | Elapsed Time: 0:01:09 ETA:   0:01:14"
     ]
    },
    {
     "name": "stdout",
     "output_type": "stream",
     "text": [
      "/Product_swearygoods.com_September2020.json.gz\n",
      "/Product_bicyclechain.com_September2020.json.gz\n"
     ]
    },
    {
     "name": "stderr",
     "output_type": "stream",
     "text": [
      "\r",
      " 40% (650 of 1614) |########             | Elapsed Time: 0:01:09 ETA:   0:01:09"
     ]
    },
    {
     "name": "stdout",
     "output_type": "stream",
     "text": [
      "/Product_fragrances2go.co.uk_September2020.json.gz\n",
      "/Product_databazaar.com_September2020.json.gz\n"
     ]
    },
    {
     "name": "stderr",
     "output_type": "stream",
     "text": [
      " 40% (658 of 1614) |########             | Elapsed Time: 0:01:10 ETA:   0:01:09"
     ]
    },
    {
     "name": "stdout",
     "output_type": "stream",
     "text": [
      "/Product_briansflooring.net_September2020.json.gz\n",
      "/Product_michtile.com_September2020.json.gz\n",
      "/Product_injectelixir.com_September2020.json.gz\n",
      "/Product_replicadungeon.com_September2020.json.gz\n",
      "/Product_ozsupplycentre.com.au_September2020.json.gz\n",
      "/Product_silverbackprotectionproducts.com_September2020.json.gz\n",
      "/Product_supplementxpress.com_September2020.json.gz\n"
     ]
    },
    {
     "name": "stderr",
     "output_type": "stream",
     "text": [
      "\r",
      " 40% (661 of 1614) |########             | Elapsed Time: 0:01:10 ETA:   0:01:08"
     ]
    },
    {
     "name": "stdout",
     "output_type": "stream",
     "text": [
      "/Product_americanflooringyulee.com_September2020.json.gz\n",
      "/Product_genestvandappliance.com_September2020.json.gz\n",
      "/Product_speedriverbicycle.com_September2020.json.gz\n",
      "/Product_theappliancecenter.net_September2020.json.gz\n"
     ]
    },
    {
     "name": "stderr",
     "output_type": "stream",
     "text": [
      " 41% (664 of 1614) |########             | Elapsed Time: 0:01:10 ETA:   0:01:08"
     ]
    },
    {
     "name": "stdout",
     "output_type": "stream",
     "text": [
      "/Product_tonkacycleandski.com_September2020.json.gz\n",
      "/Product_cachepot.com_September2020.json.gz\n",
      "/Product_wheelaway.com_September2020.json.gz\n"
     ]
    },
    {
     "name": "stderr",
     "output_type": "stream",
     "text": [
      " 41% (669 of 1614) |########             | Elapsed Time: 0:01:10 ETA:   0:01:08"
     ]
    },
    {
     "name": "stdout",
     "output_type": "stream",
     "text": [
      "/Product_speechproducts.co.uk_September2020.json.gz\n",
      "/Product_summerlinfloors.com_September2020.json.gz\n",
      "/Product_victoryvelo.com_September2020.json.gz\n",
      "/Product_proteusbicycles.com_September2020.json.gz\n"
     ]
    },
    {
     "name": "stderr",
     "output_type": "stream",
     "text": [
      " 41% (672 of 1614) |########             | Elapsed Time: 0:01:11 ETA:   0:01:16"
     ]
    },
    {
     "name": "stdout",
     "output_type": "stream",
     "text": [
      "/Product_jose-candido.com_September2020.json.gz\n",
      "/Product_northvivor.com_September2020.json.gz\n",
      "/Product_rickhendrickchevroletnorfolk.com_September2020.json.gz\n"
     ]
    },
    {
     "name": "stderr",
     "output_type": "stream",
     "text": [
      "\r",
      " 41% (675 of 1614) |########             | Elapsed Time: 0:01:11 ETA:   0:01:10"
     ]
    },
    {
     "name": "stdout",
     "output_type": "stream",
     "text": [
      "/Product_actflooring.com_September2020.json.gz\n",
      "/Product_extremeoutfitters.com_September2020.json.gz\n",
      "/Product_drogasil.com.br_September2020.json.gz\n"
     ]
    },
    {
     "name": "stderr",
     "output_type": "stream",
     "text": [
      "\r",
      " 41% (676 of 1614) |########             | Elapsed Time: 0:01:11 ETA:   0:01:12"
     ]
    },
    {
     "name": "stdout",
     "output_type": "stream",
     "text": [
      "/Product_pepper-mill.com_September2020.json.gz\n",
      "/Product_comptoirjoffrin.com_September2020.json.gz\n"
     ]
    },
    {
     "name": "stderr",
     "output_type": "stream",
     "text": [
      " 42% (680 of 1614) |########             | Elapsed Time: 0:01:11 ETA:   0:01:07"
     ]
    },
    {
     "name": "stdout",
     "output_type": "stream",
     "text": [
      "/Product_fitzrovia.com.ar_September2020.json.gz\n",
      "/Product_buythesneaker.com_September2020.json.gz\n",
      "/Product_hutchseugene.com_September2020.json.gz\n",
      "/Product_cidalia-cabeleireiros.com_September2020.json.gz\n"
     ]
    },
    {
     "name": "stderr",
     "output_type": "stream",
     "text": [
      " 42% (683 of 1614) |########             | Elapsed Time: 0:01:12 ETA:   0:01:15"
     ]
    },
    {
     "name": "stdout",
     "output_type": "stream",
     "text": [
      "/Product_slickdiscmusic.com_September2020.json.gz\n",
      "/Product_shopkees.com_September2020.json.gz\n",
      "/Product_hollimansgunshop.com.au_September2020.json.gz\n"
     ]
    },
    {
     "name": "stderr",
     "output_type": "stream",
     "text": [
      "\r",
      " 42% (685 of 1614) |########             | Elapsed Time: 0:01:12 ETA:   0:01:13"
     ]
    },
    {
     "name": "stdout",
     "output_type": "stream",
     "text": [
      "/Product_reserbicycle.com_September2020.json.gz\n"
     ]
    },
    {
     "name": "stderr",
     "output_type": "stream",
     "text": [
      " 42% (688 of 1614) |########             | Elapsed Time: 0:01:12 ETA:   0:01:21"
     ]
    },
    {
     "name": "stdout",
     "output_type": "stream",
     "text": [
      "/Product_floorcw.com_September2020.json.gz\n",
      "/Product_timeshop24.com_September2020.json.gz\n",
      "/Product_thediscdjstore.com_September2020.json.gz\n"
     ]
    },
    {
     "name": "stderr",
     "output_type": "stream",
     "text": [
      "\r",
      " 42% (690 of 1614) |########             | Elapsed Time: 0:01:12 ETA:   0:01:22"
     ]
    },
    {
     "name": "stdout",
     "output_type": "stream",
     "text": [
      "/Product_piratescave.co.uk_September2020.json.gz\n",
      "/Product_southwestbikes.com_September2020.json.gz\n"
     ]
    },
    {
     "name": "stderr",
     "output_type": "stream",
     "text": [
      " 43% (695 of 1614) |#########            | Elapsed Time: 0:01:13 ETA:   0:01:17"
     ]
    },
    {
     "name": "stdout",
     "output_type": "stream",
     "text": [
      "/Product_inlandsurf.com.au_September2020.json.gz\n",
      "/Product_mountaincitycycles.com_September2020.json.gz\n",
      "/Product_thornybastards.com_September2020.json.gz\n",
      "/Product_505cycles.com_September2020.json.gz\n",
      "/Product_laroche-posay.com.hr_September2020.json.gz\n"
     ]
    },
    {
     "name": "stderr",
     "output_type": "stream",
     "text": [
      "\r",
      " 43% (698 of 1614) |#########            | Elapsed Time: 0:01:13 ETA:   0:01:11"
     ]
    },
    {
     "name": "stdout",
     "output_type": "stream",
     "text": [
      "/Product_dermomarket.com_September2020.json.gz\n",
      "/Product_takeawaypackaging.co.uk_September2020.json.gz\n",
      "/Product_carpetworldbismarck.com_September2020.json.gz\n",
      "/Product_amickhomecenter.com_September2020.json.gz\n",
      "/Product_soundlight.com.au_September2020.json.gz\n"
     ]
    },
    {
     "name": "stderr",
     "output_type": "stream",
     "text": [
      " 43% (704 of 1614) |#########            | Elapsed Time: 0:01:13 ETA:   0:01:06"
     ]
    },
    {
     "name": "stdout",
     "output_type": "stream",
     "text": [
      "/Product_fivestarbuy.com_September2020.json.gz\n",
      "/Product_headhunterssmokeshop.com_September2020.json.gz\n",
      "/Product_centrepowersports.com_September2020.json.gz\n",
      "/Product_vpiera.com_September2020.json.gz\n"
     ]
    },
    {
     "name": "stderr",
     "output_type": "stream",
     "text": [
      "\r",
      " 43% (705 of 1614) |#########            | Elapsed Time: 0:01:13 ETA:   0:01:04"
     ]
    },
    {
     "name": "stdout",
     "output_type": "stream",
     "text": [
      "/Product_kanarygifts.com_September2020.json.gz\n",
      "/Product_techtrot.com_September2020.json.gz\n",
      "/Product_hardwaresuche.com_September2020.json.gz\n"
     ]
    },
    {
     "name": "stderr",
     "output_type": "stream",
     "text": [
      " 44% (711 of 1614) |#########            | Elapsed Time: 0:01:14 ETA:   0:01:05"
     ]
    },
    {
     "name": "stdout",
     "output_type": "stream",
     "text": [
      "/Product_southmountaingirls.com_September2020.json.gz\n",
      "/Product_alcamo.net_September2020.json.gz\n",
      "/Product_apex-dst.uk_September2020.json.gz\n",
      "/Product_rbmofatlanta.com_September2020.json.gz\n",
      "/Product_sotrix.com_September2020.json.gz\n",
      "/Product_theforumstore.co.uk_September2020.json.gz\n"
     ]
    },
    {
     "name": "stderr",
     "output_type": "stream",
     "text": [
      " 44% (716 of 1614) |#########            | Elapsed Time: 0:01:14 ETA:   0:01:04"
     ]
    },
    {
     "name": "stdout",
     "output_type": "stream",
     "text": [
      "/Product_cestbeauoui.com_September2020.json.gz\n",
      "/Product_abcquiltingstudio.com_September2020.json.gz\n",
      "/Product_hc.com.vn_September2020.json.gz\n",
      "/Product_buywaiwai.com_September2020.json.gz\n"
     ]
    },
    {
     "name": "stderr",
     "output_type": "stream",
     "text": [
      " 44% (722 of 1614) |#########            | Elapsed Time: 0:01:14 ETA:   0:00:54"
     ]
    },
    {
     "name": "stdout",
     "output_type": "stream",
     "text": [
      "/Product_blackbeardsrestaurant.net_September2020.json.gz\n",
      "/Product_banleong.com_September2020.json.gz\n",
      "/Product_panasonic.com_September2020.json.gz\n",
      "/Product_thewildvine.com.au_September2020.json.gz\n",
      "/Product_blinkae.com_September2020.json.gz\n",
      "/Product_mammothbikes.com_September2020.json.gz\n",
      "/Product_coloradocyclist.com_September2020.json.gz\n"
     ]
    },
    {
     "name": "stderr",
     "output_type": "stream",
     "text": [
      " 45% (727 of 1614) |#########            | Elapsed Time: 0:01:14 ETA:   0:00:49"
     ]
    },
    {
     "name": "stdout",
     "output_type": "stream",
     "text": [
      "/Product_caddies-nyc.com_September2020.json.gz\n",
      "/Product_untumble.com_September2020.json.gz\n",
      "/Product_bikebarn.com_September2020.json.gz\n"
     ]
    },
    {
     "name": "stderr",
     "output_type": "stream",
     "text": [
      " 45% (731 of 1614) |#########            | Elapsed Time: 0:01:15 ETA:   0:00:54"
     ]
    },
    {
     "name": "stdout",
     "output_type": "stream",
     "text": [
      "/Product_fakemeats.com_September2020.json.gz\n",
      "/Product_carpetmillmoscow.com_September2020.json.gz\n",
      "/Product_proskiservice.com_September2020.json.gz\n",
      "/Product_cottet.com_September2020.json.gz\n"
     ]
    },
    {
     "name": "stderr",
     "output_type": "stream",
     "text": [
      " 45% (736 of 1614) |#########            | Elapsed Time: 0:01:15 ETA:   0:01:01"
     ]
    },
    {
     "name": "stdout",
     "output_type": "stream",
     "text": [
      "/Product_pasadenacyclery.com_September2020.json.gz\n",
      "/Product_thunder.com.pl_September2020.json.gz\n",
      "/Product_discountnutritiontampa.com_September2020.json.gz\n",
      "/Product_thumuadonghohieu.com_September2020.json.gz\n",
      "/Product_riversidecycle.com_September2020.json.gz\n"
     ]
    },
    {
     "name": "stderr",
     "output_type": "stream",
     "text": [
      " 45% (739 of 1614) |#########            | Elapsed Time: 0:01:15 ETA:   0:00:56"
     ]
    },
    {
     "name": "stdout",
     "output_type": "stream",
     "text": [
      "/Product_crooze.com.au_September2020.json.gz\n",
      "/Product_reedssports.com_September2020.json.gz\n",
      "/Product_kuldi.net_September2020.json.gz\n",
      "/Product_zsmartbuy.com_September2020.json.gz\n"
     ]
    },
    {
     "name": "stderr",
     "output_type": "stream",
     "text": [
      "\r",
      " 45% (741 of 1614) |#########            | Elapsed Time: 0:01:15 ETA:   0:00:56"
     ]
    },
    {
     "name": "stdout",
     "output_type": "stream",
     "text": [
      "/Product_chillblast.com_September2020.json.gz\n",
      "/Product_3dcartstores.com_September2020.json.gz\n"
     ]
    },
    {
     "name": "stderr",
     "output_type": "stream",
     "text": [
      " 46% (744 of 1614) |#########            | Elapsed Time: 0:01:18 ETA:   0:13:12"
     ]
    },
    {
     "name": "stdout",
     "output_type": "stream",
     "text": [
      "/Product_locuradigital.com_September2020.json.gz\n",
      "/Product_shopmoment.com_September2020.json.gz\n"
     ]
    },
    {
     "name": "stderr",
     "output_type": "stream",
     "text": [
      "\r",
      " 46% (746 of 1614) |#########            | Elapsed Time: 0:01:18 ETA:   0:08:33"
     ]
    },
    {
     "name": "stdout",
     "output_type": "stream",
     "text": [
      "/Product_thebikehub.com_September2020.json.gz\n",
      "/Product_hhgregg.com_September2020.json.gz\n"
     ]
    },
    {
     "name": "stderr",
     "output_type": "stream",
     "text": [
      "\r",
      " 46% (748 of 1614) |#########            | Elapsed Time: 0:01:19 ETA:   0:06:21"
     ]
    },
    {
     "name": "stdout",
     "output_type": "stream",
     "text": [
      "/Product_namastesouqdubai.com_September2020.json.gz\n",
      "/Product_blackstarglobalsicc.com_September2020.json.gz\n",
      "/Product_littlegrubborchard.com_September2020.json.gz\n",
      "/Product_netvapes.com_September2020.json.gz\n",
      "/Product_spokeomotion.com_September2020.json.gz\n"
     ]
    },
    {
     "name": "stderr",
     "output_type": "stream",
     "text": [
      " 46% (754 of 1614) |#########            | Elapsed Time: 0:01:19 ETA:   0:03:52"
     ]
    },
    {
     "name": "stdout",
     "output_type": "stream",
     "text": [
      "/Product_kineticskateboarding.com_September2020.json.gz\n",
      "/Product_legitkit.com_September2020.json.gz\n",
      "/Product_proteinwise.com_September2020.json.gz\n"
     ]
    },
    {
     "name": "stderr",
     "output_type": "stream",
     "text": [
      " 46% (756 of 1614) |#########            | Elapsed Time: 0:01:19 ETA:   0:03:41"
     ]
    },
    {
     "name": "stdout",
     "output_type": "stream",
     "text": [
      "/Product_slippinggears.com_September2020.json.gz\n",
      "/Product_lilyatelier.com_September2020.json.gz\n",
      "/Product_colosishop.com_September2020.json.gz\n"
     ]
    },
    {
     "name": "stderr",
     "output_type": "stream",
     "text": [
      " 47% (759 of 1614) |#########            | Elapsed Time: 0:01:19 ETA:   0:03:10"
     ]
    },
    {
     "name": "stdout",
     "output_type": "stream",
     "text": [
      "/Product_nbxbikes.com_September2020.json.gz\n",
      "/Product_saglikreyonu.com_September2020.json.gz\n"
     ]
    },
    {
     "name": "stderr",
     "output_type": "stream",
     "text": [
      " 47% (762 of 1614) |#########            | Elapsed Time: 0:01:20 ETA:   0:02:52"
     ]
    },
    {
     "name": "stdout",
     "output_type": "stream",
     "text": [
      "/Product_thetruthbeautycompany.com_September2020.json.gz\n",
      "/Product_shopbuildersappliances.com_September2020.json.gz\n",
      "/Product_alkosto.com_September2020.json.gz\n"
     ]
    },
    {
     "name": "stderr",
     "output_type": "stream",
     "text": [
      " 47% (765 of 1614) |#########            | Elapsed Time: 0:01:22 ETA:   0:04:52"
     ]
    },
    {
     "name": "stdout",
     "output_type": "stream",
     "text": [
      "/Product_navgearthai.com_September2020.json.gz\n",
      "/Product_allsouthappliance.net_September2020.json.gz\n",
      "/Product_nordoorsports.com_September2020.json.gz\n"
     ]
    },
    {
     "name": "stderr",
     "output_type": "stream",
     "text": [
      "\r",
      " 47% (768 of 1614) |#########            | Elapsed Time: 0:01:22 ETA:   0:03:43"
     ]
    },
    {
     "name": "stdout",
     "output_type": "stream",
     "text": [
      "/Product_moon-audio.com_September2020.json.gz\n",
      "/Product_ramirezdecartagena.com_September2020.json.gz\n",
      "/Product_we-supply.com_September2020.json.gz\n"
     ]
    },
    {
     "name": "stderr",
     "output_type": "stream",
     "text": [
      " 47% (770 of 1614) |##########           | Elapsed Time: 0:01:22 ETA:   0:03:57"
     ]
    },
    {
     "name": "stdout",
     "output_type": "stream",
     "text": [
      "/Product_avacaremedical.com_September2020.json.gz\n",
      "/Product_daveshomesupply.com_September2020.json.gz\n",
      "/Product_biketechusa.com_September2020.json.gz\n"
     ]
    },
    {
     "name": "stderr",
     "output_type": "stream",
     "text": [
      " 48% (775 of 1614) |##########           | Elapsed Time: 0:01:22 ETA:   0:02:41"
     ]
    },
    {
     "name": "stdout",
     "output_type": "stream",
     "text": [
      "/Product_farmavip.com.ar_September2020.json.gz\n",
      "/Product_trekstoregulfcoast.com_September2020.json.gz\n",
      "/Product_servercase.co.uk_September2020.json.gz\n",
      "/Product_stanandpauls.com_September2020.json.gz\n",
      "/Product_narecza.com_September2020.json.gz\n"
     ]
    },
    {
     "name": "stderr",
     "output_type": "stream",
     "text": [
      " 48% (779 of 1614) |##########           | Elapsed Time: 0:01:23 ETA:   0:02:18"
     ]
    },
    {
     "name": "stdout",
     "output_type": "stream",
     "text": [
      "/Product_zerenadiaz.com_September2020.json.gz\n",
      "/Product_lantaubasecamp.com_September2020.json.gz\n",
      "/Product_joyeriamontero.com_September2020.json.gz\n",
      "/Product_biondivino.com_September2020.json.gz\n"
     ]
    },
    {
     "name": "stderr",
     "output_type": "stream",
     "text": [
      " 48% (782 of 1614) |##########           | Elapsed Time: 0:01:23 ETA:   0:02:09"
     ]
    },
    {
     "name": "stdout",
     "output_type": "stream",
     "text": [
      "/Product_latitudebooks.com.au_September2020.json.gz\n",
      "/Product_marysal-shop.com_September2020.json.gz\n",
      "/Product_farmaciasanchezcarbayo.com_September2020.json.gz\n",
      "/Product_crossroadbikes.com_September2020.json.gz\n",
      "/Product_pestrol.com.au_September2020.json.gz\n"
     ]
    },
    {
     "name": "stderr",
     "output_type": "stream",
     "text": [
      " 48% (787 of 1614) |##########           | Elapsed Time: 0:01:23 ETA:   0:01:51"
     ]
    },
    {
     "name": "stdout",
     "output_type": "stream",
     "text": [
      "/Product_paradrugs.com_September2020.json.gz\n",
      "/Product_onlinehealthfoodstore.co.uk_September2020.json.gz\n",
      "/Product_spokesbikes.com_September2020.json.gz\n"
     ]
    },
    {
     "name": "stderr",
     "output_type": "stream",
     "text": [
      "\r",
      " 48% (789 of 1614) |##########           | Elapsed Time: 0:01:23 ETA:   0:01:50"
     ]
    },
    {
     "name": "stdout",
     "output_type": "stream",
     "text": [
      "/Product_bikesourceonline.com_September2020.json.gz\n"
     ]
    },
    {
     "name": "stderr",
     "output_type": "stream",
     "text": [
      " 49% (792 of 1614) |##########           | Elapsed Time: 0:01:24 ETA:   0:01:04"
     ]
    },
    {
     "name": "stdout",
     "output_type": "stream",
     "text": [
      "/Product_besthifistore.com_September2020.json.gz\n",
      "/Product_runninglabstore.com_September2020.json.gz\n",
      "/Product_ninostrading.com_September2020.json.gz\n",
      "/Product_kikatek.com_September2020.json.gz\n"
     ]
    },
    {
     "name": "stderr",
     "output_type": "stream",
     "text": [
      " 49% (797 of 1614) |##########           | Elapsed Time: 0:01:24 ETA:   0:01:00"
     ]
    },
    {
     "name": "stdout",
     "output_type": "stream",
     "text": [
      "/Product_decorium.com_September2020.json.gz\n",
      "/Product_staugustineflooring.com_September2020.json.gz\n",
      "/Product_bentgate.com_September2020.json.gz\n",
      "/Product_workingperson.com_September2020.json.gz\n"
     ]
    },
    {
     "name": "stderr",
     "output_type": "stream",
     "text": [
      " 49% (799 of 1614) |##########           | Elapsed Time: 0:01:24 ETA:   0:01:14"
     ]
    },
    {
     "name": "stdout",
     "output_type": "stream",
     "text": [
      "/Product_vlcanada.com_September2020.json.gz\n",
      "/Product_anticoronakits.com_September2020.json.gz\n"
     ]
    },
    {
     "name": "stderr",
     "output_type": "stream",
     "text": [
      " 49% (803 of 1614) |##########           | Elapsed Time: 0:01:25 ETA:   0:01:10"
     ]
    },
    {
     "name": "stdout",
     "output_type": "stream",
     "text": [
      "/Product_purple-cat.co.uk_September2020.json.gz\n",
      "/Product_dosbandidosart.com_September2020.json.gz\n",
      "/Product_nicetys.com_September2020.json.gz\n",
      "/Product_dcrainmaker.com_September2020.json.gz\n",
      "/Product_ubaldi.com_September2020.json.gz\n"
     ]
    },
    {
     "name": "stderr",
     "output_type": "stream",
     "text": [
      " 49% (806 of 1614) |##########           | Elapsed Time: 0:01:25 ETA:   0:01:22"
     ]
    },
    {
     "name": "stdout",
     "output_type": "stream",
     "text": [
      "/Product_wgwheelworks.com_September2020.json.gz\n",
      "/Product_lemacurbain.com_September2020.json.gz\n",
      "/Product_jarrold.co.uk_September2020.json.gz\n"
     ]
    },
    {
     "name": "stderr",
     "output_type": "stream",
     "text": [
      " 50% (810 of 1614) |##########           | Elapsed Time: 0:01:25 ETA:   0:01:17"
     ]
    },
    {
     "name": "stdout",
     "output_type": "stream",
     "text": [
      "/Product_velocity-cycles.com_September2020.json.gz\n",
      "/Product_carpetsofamericalogan.com_September2020.json.gz\n",
      "/Product_store-belgie.com_September2020.json.gz\n",
      "/Product_thefreedomtrail.org_September2020.json.gz\n",
      "/Product_brickwheels.com_September2020.json.gz\n"
     ]
    },
    {
     "name": "stderr",
     "output_type": "stream",
     "text": [
      " 50% (815 of 1614) |##########           | Elapsed Time: 0:01:26 ETA:   0:01:06"
     ]
    },
    {
     "name": "stdout",
     "output_type": "stream",
     "text": [
      "/Product_blackparrotmaine.com_September2020.json.gz\n",
      "/Product_cardinalbikes.com_September2020.json.gz\n",
      "/Product_cherokeejewelry.com_September2020.json.gz\n",
      "/Product_cuttingedgewoodcreations.com_September2020.json.gz\n"
     ]
    },
    {
     "name": "stderr",
     "output_type": "stream",
     "text": [
      " 50% (820 of 1614) |##########           | Elapsed Time: 0:01:26 ETA:   0:01:02"
     ]
    },
    {
     "name": "stdout",
     "output_type": "stream",
     "text": [
      "/Product_algarismosdesucessostore.com_September2020.json.gz\n",
      "/Product_feeandtees.com_September2020.json.gz\n",
      "/Product_bicycleranchtucson.com_September2020.json.gz\n",
      "/Product_ttot.com.hk_September2020.json.gz\n"
     ]
    },
    {
     "name": "stderr",
     "output_type": "stream",
     "text": [
      "\r",
      " 50% (822 of 1614) |##########           | Elapsed Time: 0:01:26 ETA:   0:01:00"
     ]
    },
    {
     "name": "stdout",
     "output_type": "stream",
     "text": [
      "/Product_lowcarbemporium.com.au_September2020.json.gz\n",
      "/Product_materiel.net_September2020.json.gz\n"
     ]
    },
    {
     "name": "stderr",
     "output_type": "stream",
     "text": [
      " 51% (824 of 1614) |##########           | Elapsed Time: 0:01:26 ETA:   0:01:04"
     ]
    },
    {
     "name": "stdout",
     "output_type": "stream",
     "text": [
      "/Product_encinabicyclecenters.com_September2020.json.gz\n",
      "/Product_storeaustria.com_September2020.json.gz\n",
      "/Product_belletica.com_September2020.json.gz\n",
      "/Product_debikestore.com_September2020.json.gz\n"
     ]
    },
    {
     "name": "stderr",
     "output_type": "stream",
     "text": [
      " 51% (828 of 1614) |##########           | Elapsed Time: 0:01:27 ETA:   0:01:06"
     ]
    },
    {
     "name": "stdout",
     "output_type": "stream",
     "text": [
      "/Product_azaraks.com.tr_September2020.json.gz\n",
      "/Product_beaverbrooks.co.uk_September2020.json.gz\n"
     ]
    },
    {
     "name": "stderr",
     "output_type": "stream",
     "text": [
      " 51% (830 of 1614) |##########           | Elapsed Time: 0:01:27 ETA:   0:01:10"
     ]
    },
    {
     "name": "stdout",
     "output_type": "stream",
     "text": [
      "/Product_eadobikeco.com_September2020.json.gz\n",
      "/Product_bydesigngems.com_September2020.json.gz\n",
      "/Product_apkgood.com_September2020.json.gz\n"
     ]
    },
    {
     "name": "stderr",
     "output_type": "stream",
     "text": [
      " 51% (834 of 1614) |##########           | Elapsed Time: 0:01:27 ETA:   0:01:15"
     ]
    },
    {
     "name": "stdout",
     "output_type": "stream",
     "text": [
      "/Product_getmyring.com_September2020.json.gz\n",
      "/Product_papa-wheelies.com_September2020.json.gz\n",
      "/Product_xatamy.com_September2020.json.gz\n",
      "/Product_thehubbikecoop.org_September2020.json.gz\n"
     ]
    },
    {
     "name": "stderr",
     "output_type": "stream",
     "text": [
      "\r",
      " 51% (836 of 1614) |##########           | Elapsed Time: 0:01:28 ETA:   0:01:26"
     ]
    },
    {
     "name": "stdout",
     "output_type": "stream",
     "text": [
      "/Product_goviperbaseball.com_September2020.json.gz\n",
      "/Product_7dayshop.com_September2020.json.gz\n"
     ]
    },
    {
     "name": "stderr",
     "output_type": "stream",
     "text": [
      " 52% (841 of 1614) |##########           | Elapsed Time: 0:01:28 ETA:   0:01:27"
     ]
    },
    {
     "name": "stdout",
     "output_type": "stream",
     "text": [
      "/Product_pivicdata.com_September2020.json.gz\n",
      "/Product_officebeaver.co.uk_September2020.json.gz\n",
      "/Product_hodginsappliance.com_September2020.json.gz\n",
      "/Product_barrettfloorsaz.com_September2020.json.gz\n",
      "/Product_primeself-defense.com_September2020.json.gz\n"
     ]
    },
    {
     "name": "stderr",
     "output_type": "stream",
     "text": [
      " 52% (846 of 1614) |###########          | Elapsed Time: 0:01:28 ETA:   0:01:10"
     ]
    },
    {
     "name": "stdout",
     "output_type": "stream",
     "text": [
      "/Product_blossombariatricsshop.com_September2020.json.gz\n",
      "/Product_meesjewelry.com_September2020.json.gz\n",
      "/Product_gurgencler.com.tr_September2020.json.gz\n",
      "/Product_viekart.com_September2020.json.gz\n",
      "/Product_skincaremarket.net_September2020.json.gz\n"
     ]
    },
    {
     "name": "stderr",
     "output_type": "stream",
     "text": [
      "\r",
      " 52% (849 of 1614) |###########          | Elapsed Time: 0:01:28 ETA:   0:01:02"
     ]
    },
    {
     "name": "stdout",
     "output_type": "stream",
     "text": [
      "/Product_shopnautico.com.br_September2020.json.gz\n",
      "/Product_lunoxel.com_September2020.json.gz\n",
      "/Product_mellovelobicycles.com_September2020.json.gz\n"
     ]
    },
    {
     "name": "stderr",
     "output_type": "stream",
     "text": [
      "\r",
      " 52% (851 of 1614) |###########          | Elapsed Time: 0:01:29 ETA:   0:01:05"
     ]
    },
    {
     "name": "stdout",
     "output_type": "stream",
     "text": [
      "/Product_highgearsports.com_September2020.json.gz\n",
      "/Product_toyshnip.com_September2020.json.gz\n"
     ]
    },
    {
     "name": "stderr",
     "output_type": "stream",
     "text": [
      " 52% (855 of 1614) |###########          | Elapsed Time: 0:01:29 ETA:   0:01:05"
     ]
    },
    {
     "name": "stdout",
     "output_type": "stream",
     "text": [
      "/Product_twohoosierscyclery.com_September2020.json.gz\n",
      "/Product_sdbikeshop.com_September2020.json.gz\n",
      "/Product_ugursaatcilik.com_September2020.json.gz\n"
     ]
    },
    {
     "name": "stderr",
     "output_type": "stream",
     "text": [
      " 53% (858 of 1614) |###########          | Elapsed Time: 0:01:29 ETA:   0:00:59"
     ]
    },
    {
     "name": "stdout",
     "output_type": "stream",
     "text": [
      "/Product_dirtcheep.com_September2020.json.gz\n",
      "/Product_mac-center.com_September2020.json.gz\n",
      "/Product_inkfactory.com_September2020.json.gz\n",
      "/Product_arashrahimiart.com_September2020.json.gz\n",
      "/Product_sunstudiosaustralia.com_September2020.json.gz\n"
     ]
    },
    {
     "name": "stderr",
     "output_type": "stream",
     "text": [
      "\r",
      " 53% (862 of 1614) |###########          | Elapsed Time: 0:01:30 ETA:   0:00:57"
     ]
    },
    {
     "name": "stdout",
     "output_type": "stream",
     "text": [
      "/Product_bigapplecollectibles.com_September2020.json.gz\n",
      "/Product_solidsignal.com_September2020.json.gz\n"
     ]
    },
    {
     "name": "stderr",
     "output_type": "stream",
     "text": [
      "\r",
      " 53% (863 of 1614) |###########          | Elapsed Time: 0:01:30 ETA:   0:00:58"
     ]
    },
    {
     "name": "stdout",
     "output_type": "stream",
     "text": [
      "/Product_fusioncine.com_September2020.json.gz\n",
      "/Product_openbeautyfacts.org_September2020.json.gz\n"
     ]
    },
    {
     "name": "stderr",
     "output_type": "stream",
     "text": [
      "\r",
      " 53% (865 of 1614) |###########          | Elapsed Time: 0:01:30 ETA:   0:01:04"
     ]
    },
    {
     "name": "stdout",
     "output_type": "stream",
     "text": [
      "/Product_zavvi.com_September2020.json.gz\n"
     ]
    },
    {
     "name": "stderr",
     "output_type": "stream",
     "text": [
      "\r",
      " 53% (866 of 1614) |###########          | Elapsed Time: 0:01:33 ETA:   0:32:46"
     ]
    },
    {
     "name": "stdout",
     "output_type": "stream",
     "text": [
      "/Product_onpromostore.com_September2020.json.gz\n",
      "/Product_americancyclery.com_September2020.json.gz\n"
     ]
    },
    {
     "name": "stderr",
     "output_type": "stream",
     "text": [
      "\r",
      " 53% (868 of 1614) |###########          | Elapsed Time: 0:01:33 ETA:   0:11:59"
     ]
    },
    {
     "name": "stdout",
     "output_type": "stream",
     "text": [
      "/Product_joplinfloors.com_September2020.json.gz\n",
      "/Product_bishopracingproducts.com_September2020.json.gz\n",
      "/Product_argonautliquor.com_September2020.json.gz\n"
     ]
    },
    {
     "name": "stderr",
     "output_type": "stream",
     "text": [
      "\r",
      " 53% (871 of 1614) |###########          | Elapsed Time: 0:01:33 ETA:   0:06:29"
     ]
    },
    {
     "name": "stdout",
     "output_type": "stream",
     "text": [
      "/Product_fashionsadmire.com_September2020.json.gz\n"
     ]
    },
    {
     "name": "stderr",
     "output_type": "stream",
     "text": [
      " 54% (874 of 1614) |###########          | Elapsed Time: 0:01:34 ETA:   0:05:08"
     ]
    },
    {
     "name": "stdout",
     "output_type": "stream",
     "text": [
      "/Product_ootbseafood.com_September2020.json.gz\n",
      "/Product_intel.co.uk_September2020.json.gz\n",
      "/Product_rei.com_September2020.json.gz\n"
     ]
    },
    {
     "name": "stderr",
     "output_type": "stream",
     "text": [
      " 54% (877 of 1614) |###########          | Elapsed Time: 0:01:35 ETA:   0:04:43"
     ]
    },
    {
     "name": "stdout",
     "output_type": "stream",
     "text": [
      "/Product_abatiellodesigncenter.com_September2020.json.gz\n",
      "/Product_sachane.com_September2020.json.gz\n",
      "/Product_thenailindustry.com_September2020.json.gz\n"
     ]
    },
    {
     "name": "stderr",
     "output_type": "stream",
     "text": [
      "\r",
      " 54% (879 of 1614) |###########          | Elapsed Time: 0:01:35 ETA:   0:02:01"
     ]
    },
    {
     "name": "stdout",
     "output_type": "stream",
     "text": [
      "/Product_cliftoncameras.co.uk_September2020.json.gz\n",
      "/Product_lojadaniele.com.br_September2020.json.gz\n",
      "/Product_oldetownebicycles.com_September2020.json.gz\n"
     ]
    },
    {
     "name": "stderr",
     "output_type": "stream",
     "text": [
      " 54% (884 of 1614) |###########          | Elapsed Time: 0:01:35 ETA:   0:01:42"
     ]
    },
    {
     "name": "stdout",
     "output_type": "stream",
     "text": [
      "/Product_bikengear.com_September2020.json.gz\n",
      "/Product_jackrabbit.com_September2020.json.gz\n",
      "/Product_finishlinebikes.com_September2020.json.gz\n"
     ]
    },
    {
     "name": "stderr",
     "output_type": "stream",
     "text": [
      "\r",
      " 54% (886 of 1614) |###########          | Elapsed Time: 0:01:35 ETA:   0:01:43"
     ]
    },
    {
     "name": "stdout",
     "output_type": "stream",
     "text": [
      "/Product_pidiendopista.com_September2020.json.gz\n",
      "/Product_smockingbirdsgifts.com_September2020.json.gz\n",
      "/Product_nwampersonalsecurity.com_September2020.json.gz\n",
      "/Product_sunglasshut.com_September2020.json.gz\n"
     ]
    },
    {
     "name": "stderr",
     "output_type": "stream",
     "text": [
      " 55% (891 of 1614) |###########          | Elapsed Time: 0:01:36 ETA:   0:01:28"
     ]
    },
    {
     "name": "stdout",
     "output_type": "stream",
     "text": [
      "/Product_princetechnology.net_September2020.json.gz\n",
      "/Product_thepinkstudiola.com_September2020.json.gz\n",
      "/Product_flooringnbeyond.com_September2020.json.gz\n",
      "/Product_myspysupplies.com_September2020.json.gz\n",
      "/Product_atbshop.co.uk_September2020.json.gz\n"
     ]
    },
    {
     "name": "stderr",
     "output_type": "stream",
     "text": [
      "\r",
      " 55% (894 of 1614) |###########          | Elapsed Time: 0:01:36 ETA:   0:01:24"
     ]
    },
    {
     "name": "stdout",
     "output_type": "stream",
     "text": [
      "/Product_bigringcycles.com_September2020.json.gz\n",
      "/Product_cjcharles.com_September2020.json.gz\n",
      "/Product_artscyclery.com_September2020.json.gz\n"
     ]
    },
    {
     "name": "stderr",
     "output_type": "stream",
     "text": [
      " 55% (898 of 1614) |###########          | Elapsed Time: 0:01:37 ETA:   0:01:07"
     ]
    },
    {
     "name": "stdout",
     "output_type": "stream",
     "text": [
      "/Product_watchfinder.co.uk_September2020.json.gz\n",
      "/Product_goveganmarket.com_September2020.json.gz\n",
      "/Product_nelau.com_September2020.json.gz\n"
     ]
    },
    {
     "name": "stderr",
     "output_type": "stream",
     "text": [
      "\r",
      " 55% (900 of 1614) |###########          | Elapsed Time: 0:01:37 ETA:   0:01:04"
     ]
    },
    {
     "name": "stdout",
     "output_type": "stream",
     "text": [
      "/Product_adakitap.com.tr_September2020.json.gz\n",
      "/Product_enhleorganics.com_September2020.json.gz\n",
      "/Product_nexgen-techhk.com_September2020.json.gz\n",
      "/Product_breakawaycycling.com_September2020.json.gz\n"
     ]
    },
    {
     "name": "stderr",
     "output_type": "stream",
     "text": [
      " 56% (905 of 1614) |###########          | Elapsed Time: 0:01:37 ETA:   0:01:01"
     ]
    },
    {
     "name": "stdout",
     "output_type": "stream",
     "text": [
      "/Product_dollartile.com_September2020.json.gz\n",
      "/Product_scottscycle.com_September2020.json.gz\n",
      "/Product_konakdijital.com_September2020.json.gz\n",
      "/Product_downtownstock.com_September2020.json.gz\n"
     ]
    },
    {
     "name": "stderr",
     "output_type": "stream",
     "text": [
      " 56% (910 of 1614) |###########          | Elapsed Time: 0:01:37 ETA:   0:00:59"
     ]
    },
    {
     "name": "stdout",
     "output_type": "stream",
     "text": [
      "/Product_claytonappliance.com_September2020.json.gz\n",
      "/Product_edipsaat.com_September2020.json.gz\n",
      "/Product_openairbicycles.com_September2020.json.gz\n",
      "/Product_tecnoprecios.net_September2020.json.gz\n"
     ]
    },
    {
     "name": "stderr",
     "output_type": "stream",
     "text": [
      "\r",
      " 56% (912 of 1614) |###########          | Elapsed Time: 0:01:38 ETA:   0:00:57"
     ]
    },
    {
     "name": "stdout",
     "output_type": "stream",
     "text": [
      "/Product_thebikemasters.com_September2020.json.gz\n",
      "/Product_macway.com_September2020.json.gz\n"
     ]
    },
    {
     "name": "stderr",
     "output_type": "stream",
     "text": [
      " 56% (916 of 1614) |###########          | Elapsed Time: 0:01:38 ETA:   0:00:50"
     ]
    },
    {
     "name": "stdout",
     "output_type": "stream",
     "text": [
      "/Product_pashop.com_September2020.json.gz\n",
      "/Product_damoonmed.com_September2020.json.gz\n",
      "/Product_mccabespharmacy.com_September2020.json.gz\n",
      "/Product_chucksappliance.com_September2020.json.gz\n"
     ]
    },
    {
     "name": "stderr",
     "output_type": "stream",
     "text": [
      " 57% (920 of 1614) |###########          | Elapsed Time: 0:01:38 ETA:   0:00:52"
     ]
    },
    {
     "name": "stdout",
     "output_type": "stream",
     "text": [
      "/Product_mysterydeal.com_September2020.json.gz\n",
      "/Product_store-singapore.com_September2020.json.gz\n",
      "/Product_autoexpohouston.com_September2020.json.gz\n",
      "/Product_a1protectionproducts.com_September2020.json.gz\n",
      "/Product_powersolutionmall.com_September2020.json.gz\n"
     ]
    },
    {
     "name": "stderr",
     "output_type": "stream",
     "text": [
      " 57% (925 of 1614) |############         | Elapsed Time: 0:01:38 ETA:   0:00:45"
     ]
    },
    {
     "name": "stdout",
     "output_type": "stream",
     "text": [
      "/Product_whitehouseboutique.net_September2020.json.gz\n",
      "/Product_bikebladeball.com_September2020.json.gz\n",
      "/Product_longestyardfloors.com_September2020.json.gz\n",
      "/Product_shopholliday.com_September2020.json.gz\n",
      "/Product_timhogansflooring.com_September2020.json.gz\n"
     ]
    },
    {
     "name": "stderr",
     "output_type": "stream",
     "text": [
      " 57% (929 of 1614) |############         | Elapsed Time: 0:01:39 ETA:   0:00:42"
     ]
    },
    {
     "name": "stdout",
     "output_type": "stream",
     "text": [
      "/Product_connersclinic.com_September2020.json.gz\n",
      "/Product_unwrappedkawartha.com_September2020.json.gz\n",
      "/Product_coloradocyclingcompany.com_September2020.json.gz\n"
     ]
    },
    {
     "name": "stderr",
     "output_type": "stream",
     "text": [
      "\r",
      " 57% (930 of 1614) |############         | Elapsed Time: 0:01:40 ETA:   0:04:50"
     ]
    },
    {
     "name": "stdout",
     "output_type": "stream",
     "text": [
      "/Product_dawsons.co.uk_September2020.json.gz\n"
     ]
    },
    {
     "name": "stderr",
     "output_type": "stream",
     "text": [
      " 57% (933 of 1614) |############         | Elapsed Time: 0:01:41 ETA:   0:06:19"
     ]
    },
    {
     "name": "stdout",
     "output_type": "stream",
     "text": [
      "/Product_zdnet.com_September2020.json.gz\n",
      "/Product_hdoutlets.com_September2020.json.gz\n",
      "/Product_southwindcycle.com_September2020.json.gz\n",
      "/Product_iscomputer.com.br_September2020.json.gz\n"
     ]
    },
    {
     "name": "stderr",
     "output_type": "stream",
     "text": [
      " 58% (938 of 1614) |############         | Elapsed Time: 0:01:41 ETA:   0:03:06"
     ]
    },
    {
     "name": "stdout",
     "output_type": "stream",
     "text": [
      "/Product_familysafetystorellc.com_September2020.json.gz\n",
      "/Product_globalcollectionasia.com_September2020.json.gz\n",
      "/Product_lustmexico.com_September2020.json.gz\n",
      "/Product_gps.co.uk_September2020.json.gz\n",
      "/Product_pronet.com.uy_September2020.json.gz\n"
     ]
    },
    {
     "name": "stderr",
     "output_type": "stream",
     "text": [
      " 58% (941 of 1614) |############         | Elapsed Time: 0:01:41 ETA:   0:02:32"
     ]
    },
    {
     "name": "stdout",
     "output_type": "stream",
     "text": [
      "/Product_startfitness.co.uk_September2020.json.gz\n",
      "/Product_danceandsport.com_September2020.json.gz\n",
      "/Product_ascentoutdoors.com_September2020.json.gz\n"
     ]
    },
    {
     "name": "stderr",
     "output_type": "stream",
     "text": [
      "\r",
      " 58% (943 of 1614) |############         | Elapsed Time: 0:01:42 ETA:   0:02:21"
     ]
    },
    {
     "name": "stdout",
     "output_type": "stream",
     "text": [
      "/Product_macblowouts.com_September2020.json.gz\n",
      "/Product_beamanbuickgmc.com_September2020.json.gz\n",
      "/Product_eddys.com_September2020.json.gz\n"
     ]
    },
    {
     "name": "stderr",
     "output_type": "stream",
     "text": [
      " 58% (948 of 1614) |############         | Elapsed Time: 0:01:42 ETA:   0:01:57"
     ]
    },
    {
     "name": "stdout",
     "output_type": "stream",
     "text": [
      "/Product_quality-cameras.com_September2020.json.gz\n",
      "/Product_rivieramultimedia.co.uk_September2020.json.gz\n",
      "/Product_natgreenproducts.com_September2020.json.gz\n",
      "/Product_ielectrica.com_September2020.json.gz\n",
      "/Product_theinspoboutique.com_September2020.json.gz\n",
      "/Product_forsecuritysake.com_September2020.json.gz\n"
     ]
    },
    {
     "name": "stderr",
     "output_type": "stream",
     "text": [
      " 59% (955 of 1614) |############         | Elapsed Time: 0:01:42 ETA:   0:01:31"
     ]
    },
    {
     "name": "stdout",
     "output_type": "stream",
     "text": [
      "/Product_varietyproducts.com_September2020.json.gz\n",
      "/Product_cayugaskiandcyclery.com_September2020.json.gz\n",
      "/Product_hammondaviation.com_September2020.json.gz\n",
      "/Product_loganmasterappliance.com_September2020.json.gz\n",
      "/Product_consumibles.com_September2020.json.gz\n"
     ]
    },
    {
     "name": "stderr",
     "output_type": "stream",
     "text": [
      " 59% (960 of 1614) |############         | Elapsed Time: 0:01:43 ETA:   0:00:55"
     ]
    },
    {
     "name": "stdout",
     "output_type": "stream",
     "text": [
      "/Product_tumovilnuevo.com_September2020.json.gz\n",
      "/Product_selfdefenseoutlet.com_September2020.json.gz\n",
      "/Product_go-ride.com_September2020.json.gz\n",
      "/Product_skishacksports.com_September2020.json.gz\n"
     ]
    },
    {
     "name": "stderr",
     "output_type": "stream",
     "text": [
      " 59% (962 of 1614) |############         | Elapsed Time: 0:01:43 ETA:   0:01:05"
     ]
    },
    {
     "name": "stdout",
     "output_type": "stream",
     "text": [
      "/Product_rodelag.com_September2020.json.gz\n",
      "/Product_idmastershop.com_September2020.json.gz\n",
      "/Product_lookyourtech.com_September2020.json.gz\n",
      "/Product_inspirepartyhire.co.uk_September2020.json.gz\n"
     ]
    },
    {
     "name": "stderr",
     "output_type": "stream",
     "text": [
      "\r",
      " 59% (966 of 1614) |############         | Elapsed Time: 0:01:44 ETA:   0:00:58"
     ]
    },
    {
     "name": "stdout",
     "output_type": "stream",
     "text": [
      "/Product_backalleybikes.net_September2020.json.gz\n",
      "/Product_scorptec.com.au_September2020.json.gz\n"
     ]
    },
    {
     "name": "stderr",
     "output_type": "stream",
     "text": [
      " 60% (969 of 1614) |############         | Elapsed Time: 0:01:44 ETA:   0:00:57"
     ]
    },
    {
     "name": "stdout",
     "output_type": "stream",
     "text": [
      "/Product_masterg.com_September2020.json.gz\n",
      "/Product_fortinstv.com_September2020.json.gz\n",
      "/Product_capitolflooringatl.com_September2020.json.gz\n",
      "/Product_canonclassicfurniture.com_September2020.json.gz\n",
      "/Product_skycomp.com.au_September2020.json.gz\n"
     ]
    },
    {
     "name": "stderr",
     "output_type": "stream",
     "text": [
      " 60% (974 of 1614) |############         | Elapsed Time: 0:01:44 ETA:   0:01:09"
     ]
    },
    {
     "name": "stdout",
     "output_type": "stream",
     "text": [
      "/Product_sklaveryappliance.com_September2020.json.gz\n",
      "/Product_servertek.co.uk_September2020.json.gz\n",
      "/Product_shopa1appliance.com_September2020.json.gz\n",
      "/Product_pharmacygreek.com_September2020.json.gz\n"
     ]
    },
    {
     "name": "stderr",
     "output_type": "stream",
     "text": [
      " 60% (977 of 1614) |############         | Elapsed Time: 0:01:45 ETA:   0:01:08"
     ]
    },
    {
     "name": "stdout",
     "output_type": "stream",
     "text": [
      "/Product_naplescyclery.com_September2020.json.gz\n",
      "/Product_machineitservices.com_September2020.json.gz\n"
     ]
    },
    {
     "name": "stderr",
     "output_type": "stream",
     "text": [
      "\r",
      " 60% (980 of 1614) |############         | Elapsed Time: 0:01:45 ETA:   0:01:03"
     ]
    },
    {
     "name": "stdout",
     "output_type": "stream",
     "text": [
      "/Product_pricewaiter.com_September2020.json.gz\n",
      "/Product_myhightechsecurity.com_September2020.json.gz\n",
      "/Product_thegurushoppe.com_September2020.json.gz\n",
      "/Product_alamedabicycle.com_September2020.json.gz\n"
     ]
    },
    {
     "name": "stderr",
     "output_type": "stream",
     "text": [
      " 61% (985 of 1614) |############         | Elapsed Time: 0:01:45 ETA:   0:00:47"
     ]
    },
    {
     "name": "stdout",
     "output_type": "stream",
     "text": [
      "/Product_zeezamicro.com_September2020.json.gz\n",
      "/Product_amicoflooring.com_September2020.json.gz\n",
      "/Product_carpetsgaloreflooring.com_September2020.json.gz\n",
      "/Product_zevartworks.com_September2020.json.gz\n",
      "/Product_pinckneys.com_September2020.json.gz\n",
      "/Product_chollocomponentes.com_September2020.json.gz\n"
     ]
    },
    {
     "name": "stderr",
     "output_type": "stream",
     "text": [
      " 61% (990 of 1614) |############         | Elapsed Time: 0:01:45 ETA:   0:00:45"
     ]
    },
    {
     "name": "stdout",
     "output_type": "stream",
     "text": [
      "/Product_top4fitness.com_September2020.json.gz\n",
      "/Product_moibotime.com_September2020.json.gz\n",
      "/Product_bulkmemorycards.com_September2020.json.gz\n",
      "/Product_jarrellco.com_September2020.json.gz\n"
     ]
    },
    {
     "name": "stderr",
     "output_type": "stream",
     "text": [
      " 61% (995 of 1614) |############         | Elapsed Time: 0:01:46 ETA:   0:00:39"
     ]
    },
    {
     "name": "stdout",
     "output_type": "stream",
     "text": [
      "/Product_hushstyle.com_September2020.json.gz\n",
      "/Product_wowbeli.com_September2020.json.gz\n",
      "/Product_stablerappliance.com_September2020.json.gz\n",
      "/Product_thtbilgisayar.com_September2020.json.gz\n"
     ]
    },
    {
     "name": "stderr",
     "output_type": "stream",
     "text": [
      "\r",
      " 61% (998 of 1614) |############         | Elapsed Time: 0:01:46 ETA:   0:00:40"
     ]
    },
    {
     "name": "stdout",
     "output_type": "stream",
     "text": [
      "/Product_adarewoollens.com_September2020.json.gz\n",
      "/Product_uzmanlarpc.com_September2020.json.gz\n",
      "/Product_jtownbike.com_September2020.json.gz\n",
      "/Product_batterypete.com_September2020.json.gz\n"
     ]
    },
    {
     "name": "stderr",
     "output_type": "stream",
     "text": [
      "\r",
      " 61% (1000 of 1614) |############        | Elapsed Time: 0:01:46 ETA:   0:00:38"
     ]
    },
    {
     "name": "stdout",
     "output_type": "stream",
     "text": [
      "/Product_sony-mea.com_September2020.json.gz\n",
      "/Product_avadirect.com_September2020.json.gz\n"
     ]
    },
    {
     "name": "stderr",
     "output_type": "stream",
     "text": [
      "\r",
      " 62% (1002 of 1614) |############        | Elapsed Time: 0:01:46 ETA:   0:00:43"
     ]
    },
    {
     "name": "stdout",
     "output_type": "stream",
     "text": [
      "/Product_georgegarnercyclery.com_September2020.json.gz\n"
     ]
    },
    {
     "name": "stderr",
     "output_type": "stream",
     "text": [
      " 62% (1005 of 1614) |############        | Elapsed Time: 0:01:47 ETA:   0:00:45"
     ]
    },
    {
     "name": "stdout",
     "output_type": "stream",
     "text": [
      "/Product_planete-gateau.com_September2020.json.gz\n",
      "/Product_lojasconforto.com_September2020.json.gz\n",
      "/Product_springbokshop.co.uk_September2020.json.gz\n",
      "/Product_maresmajoiers.com_September2020.json.gz\n",
      "/Product_bikedoctorwaldorf.com_September2020.json.gz\n"
     ]
    },
    {
     "name": "stderr",
     "output_type": "stream",
     "text": [
      " 62% (1010 of 1614) |############        | Elapsed Time: 0:01:47 ETA:   0:00:43"
     ]
    },
    {
     "name": "stdout",
     "output_type": "stream",
     "text": [
      "/Product_cvbmedia.co.uk_September2020.json.gz\n",
      "/Product_tmconstructionservicesllc.com_September2020.json.gz\n",
      "/Product_ingedus.com_September2020.json.gz\n",
      "/Product_journeymanhandcraft.com_September2020.json.gz\n",
      "/Product_bicycleproshop.com_September2020.json.gz\n"
     ]
    },
    {
     "name": "stderr",
     "output_type": "stream",
     "text": [
      " 62% (1014 of 1614) |############        | Elapsed Time: 0:01:47 ETA:   0:00:52"
     ]
    },
    {
     "name": "stdout",
     "output_type": "stream",
     "text": [
      "/Product_intermusic-pro.com_September2020.json.gz\n",
      "/Product_shuboxdesign.com_September2020.json.gz\n",
      "/Product_fabricutopia.com_September2020.json.gz\n"
     ]
    },
    {
     "name": "stderr",
     "output_type": "stream",
     "text": [
      "\r",
      " 62% (1016 of 1614) |############        | Elapsed Time: 0:01:47 ETA:   0:00:53"
     ]
    },
    {
     "name": "stdout",
     "output_type": "stream",
     "text": [
      "/Product_crutchfield.com_September2020.json.gz\n"
     ]
    },
    {
     "name": "stderr",
     "output_type": "stream",
     "text": [
      " 63% (1019 of 1614) |############        | Elapsed Time: 0:01:48 ETA:   0:01:11"
     ]
    },
    {
     "name": "stdout",
     "output_type": "stream",
     "text": [
      "/Product_pcacierto.com_September2020.json.gz\n",
      "/Product_lakeshorecyclery.com_September2020.json.gz\n",
      "/Product_cartridgeink.co.uk_September2020.json.gz\n"
     ]
    },
    {
     "name": "stderr",
     "output_type": "stream",
     "text": [
      "\r",
      " 63% (1021 of 1614) |############        | Elapsed Time: 0:01:48 ETA:   0:01:04"
     ]
    },
    {
     "name": "stdout",
     "output_type": "stream",
     "text": [
      "/Product_watch.co.uk_September2020.json.gz\n",
      "/Product_fumfie.com_September2020.json.gz\n",
      "/Product_olvis-lace.com_September2020.json.gz\n",
      "/Product_songsus.com_September2020.json.gz\n"
     ]
    },
    {
     "name": "stderr",
     "output_type": "stream",
     "text": [
      "\r",
      " 63% (1024 of 1614) |############        | Elapsed Time: 0:01:48 ETA:   0:00:58"
     ]
    },
    {
     "name": "stdout",
     "output_type": "stream",
     "text": [
      "/Product_safetytechspy.com_September2020.json.gz\n",
      "/Product_greentophuntfish.com_September2020.json.gz\n"
     ]
    },
    {
     "name": "stderr",
     "output_type": "stream",
     "text": [
      "\r",
      " 63% (1026 of 1614) |############        | Elapsed Time: 0:01:49 ETA:   0:01:06"
     ]
    },
    {
     "name": "stdout",
     "output_type": "stream",
     "text": [
      "/Product_bikesportbikes.com_September2020.json.gz\n"
     ]
    },
    {
     "name": "stderr",
     "output_type": "stream",
     "text": [
      " 63% (1029 of 1614) |############        | Elapsed Time: 0:01:49 ETA:   0:01:09"
     ]
    },
    {
     "name": "stdout",
     "output_type": "stream",
     "text": [
      "/Product_outletoptico.com_September2020.json.gz\n",
      "/Product_baronsmajorbrands.com_September2020.json.gz\n",
      "/Product_cakedelice.com_September2020.json.gz\n"
     ]
    },
    {
     "name": "stderr",
     "output_type": "stream",
     "text": [
      "\r",
      " 63% (1031 of 1614) |############        | Elapsed Time: 0:01:49 ETA:   0:01:06"
     ]
    },
    {
     "name": "stdout",
     "output_type": "stream",
     "text": [
      "/Product_superstationpc.com_September2020.json.gz\n",
      "/Product_gunas11.com_September2020.json.gz\n",
      "/Product_wbs-office.co.uk_September2020.json.gz\n",
      "/Product_nextpathit.com_September2020.json.gz\n",
      "/Product_gsus4.com.au_September2020.json.gz\n"
     ]
    },
    {
     "name": "stderr",
     "output_type": "stream",
     "text": [
      " 64% (1038 of 1614) |############        | Elapsed Time: 0:01:50 ETA:   0:00:56"
     ]
    },
    {
     "name": "stdout",
     "output_type": "stream",
     "text": [
      "/Product_videolinea.com_September2020.json.gz\n",
      "/Product_beatrix-potter-shop.co.uk_September2020.json.gz\n",
      "/Product_cartridgesdirect.com.au_September2020.json.gz\n",
      "/Product_advancedpaints.co.uk_September2020.json.gz\n",
      "/Product_base.com_September2020.json.gz\n"
     ]
    },
    {
     "name": "stderr",
     "output_type": "stream",
     "text": [
      " 64% (1042 of 1614) |############        | Elapsed Time: 0:01:50 ETA:   0:00:57"
     ]
    },
    {
     "name": "stdout",
     "output_type": "stream",
     "text": [
      "/Product_infomaisnet.com.br_September2020.json.gz\n",
      "/Product_raystvappliances.com_September2020.json.gz\n",
      "/Product_jumpplus.com_September2020.json.gz\n",
      "/Product_insight.com_September2020.json.gz\n"
     ]
    },
    {
     "name": "stderr",
     "output_type": "stream",
     "text": [
      " 64% (1046 of 1614) |############        | Elapsed Time: 0:01:50 ETA:   0:00:46"
     ]
    },
    {
     "name": "stdout",
     "output_type": "stream",
     "text": [
      "/Product_floorsourceaz.com_September2020.json.gz\n",
      "/Product_otticasm.com_September2020.json.gz\n",
      "/Product_datasud.com_September2020.json.gz\n",
      "/Product_portagebaygoods.com_September2020.json.gz\n"
     ]
    },
    {
     "name": "stderr",
     "output_type": "stream",
     "text": [
      " 64% (1049 of 1614) |############        | Elapsed Time: 0:01:51 ETA:   0:00:49"
     ]
    },
    {
     "name": "stdout",
     "output_type": "stream",
     "text": [
      "/Product_villagecyclesport.com_September2020.json.gz\n",
      "/Product_perfecttimingsewing.com_September2020.json.gz\n",
      "/Product_kanyadafashion.com_September2020.json.gz\n"
     ]
    },
    {
     "name": "stderr",
     "output_type": "stream",
     "text": [
      " 65% (1055 of 1614) |#############       | Elapsed Time: 0:01:51 ETA:   0:00:40"
     ]
    },
    {
     "name": "stdout",
     "output_type": "stream",
     "text": [
      "/Product_ntappliance.com_September2020.json.gz\n",
      "/Product_roturkopy.com_September2020.json.gz\n",
      "/Product_aztech.com.br_September2020.json.gz\n",
      "/Product_perfectcolours.com_September2020.json.gz\n",
      "/Product_nandjinkjet.co.uk_September2020.json.gz\n"
     ]
    },
    {
     "name": "stderr",
     "output_type": "stream",
     "text": [
      " 65% (1059 of 1614) |#############       | Elapsed Time: 0:01:51 ETA:   0:00:36"
     ]
    },
    {
     "name": "stdout",
     "output_type": "stream",
     "text": [
      "/Product_genaybilgisayar.com_September2020.json.gz\n",
      "/Product_braincandyart.org_September2020.json.gz\n",
      "/Product_amendment21wines.com_September2020.json.gz\n",
      "/Product_seriouscycles.com_September2020.json.gz\n"
     ]
    },
    {
     "name": "stderr",
     "output_type": "stream",
     "text": [
      " 65% (1063 of 1614) |#############       | Elapsed Time: 0:01:51 ETA:   0:00:37"
     ]
    },
    {
     "name": "stdout",
     "output_type": "stream",
     "text": [
      "/Product_frenchpharmacy.com_September2020.json.gz\n",
      "/Product_somepgh.com_September2020.json.gz\n",
      "/Product_discosmetropoli.com_September2020.json.gz\n",
      "/Product_davidsworld.com_September2020.json.gz\n"
     ]
    },
    {
     "name": "stderr",
     "output_type": "stream",
     "text": [
      " 66% (1066 of 1614) |#############       | Elapsed Time: 0:01:52 ETA:   0:00:42"
     ]
    },
    {
     "name": "stdout",
     "output_type": "stream",
     "text": [
      "/Product_diyaaz.com_September2020.json.gz\n",
      "/Product_urbanperennials.com_September2020.json.gz\n",
      "/Product_yucaipabikecenter.com_September2020.json.gz\n"
     ]
    },
    {
     "name": "stderr",
     "output_type": "stream",
     "text": [
      "\r",
      " 66% (1068 of 1614) |#############       | Elapsed Time: 0:01:52 ETA:   0:00:39"
     ]
    },
    {
     "name": "stdout",
     "output_type": "stream",
     "text": [
      "/Product_johnsonfloorcoveringct.com_September2020.json.gz\n",
      "/Product_anaheimcarpetandflooring.com_September2020.json.gz\n",
      "/Product_hamptonchevy.com_September2020.json.gz\n",
      "/Product_rosebikes.co.uk_September2020.json.gz\n"
     ]
    },
    {
     "name": "stderr",
     "output_type": "stream",
     "text": [
      " 66% (1074 of 1614) |#############       | Elapsed Time: 0:01:52 ETA:   0:00:37"
     ]
    },
    {
     "name": "stdout",
     "output_type": "stream",
     "text": [
      "/Product_sneakerdistrict.com_September2020.json.gz\n",
      "/Product_buysvip.com_September2020.json.gz\n",
      "/Product_hcfloorstx.com_September2020.json.gz\n",
      "/Product_ksfurnituremart.com_September2020.json.gz\n",
      "/Product_halfpriceperfumes.co.uk_September2020.json.gz\n"
     ]
    },
    {
     "name": "stderr",
     "output_type": "stream",
     "text": [
      "\r",
      " 66% (1077 of 1614) |#############       | Elapsed Time: 0:01:52 ETA:   0:00:36"
     ]
    },
    {
     "name": "stdout",
     "output_type": "stream",
     "text": [
      "/Product_emergiready.net_September2020.json.gz\n",
      "/Product_bankswinesandspirits.com_September2020.json.gz\n",
      "/Product_filmtools.com_September2020.json.gz\n"
     ]
    },
    {
     "name": "stderr",
     "output_type": "stream",
     "text": [
      " 66% (1081 of 1614) |#############       | Elapsed Time: 0:01:53 ETA:   0:00:38"
     ]
    },
    {
     "name": "stdout",
     "output_type": "stream",
     "text": [
      "/Product_jeffjonesfurniture.net_September2020.json.gz\n",
      "/Product_cablemonkey.co.uk_September2020.json.gz\n",
      "/Product_rsbikeco.com_September2020.json.gz\n"
     ]
    },
    {
     "name": "stderr",
     "output_type": "stream",
     "text": [
      " 67% (1087 of 1614) |#############       | Elapsed Time: 0:01:53 ETA:   0:00:36"
     ]
    },
    {
     "name": "stdout",
     "output_type": "stream",
     "text": [
      "/Product_greattomorrowclothing.com_September2020.json.gz\n",
      "/Product_mathieuperformance.com_September2020.json.gz\n",
      "/Product_cloud-systems.com_September2020.json.gz\n",
      "/Product_iwc.com.pk_September2020.json.gz\n",
      "/Product_andrejac.com_September2020.json.gz\n",
      "/Product_bikepeddlerutah.com_September2020.json.gz\n"
     ]
    },
    {
     "name": "stderr",
     "output_type": "stream",
     "text": [
      " 67% (1090 of 1614) |#############       | Elapsed Time: 0:01:53 ETA:   0:00:36"
     ]
    },
    {
     "name": "stdout",
     "output_type": "stream",
     "text": [
      "/Product_4run3.com_September2020.json.gz\n",
      "/Product_pedometersusa.com_September2020.json.gz\n",
      "/Product_nuovalaig.com_September2020.json.gz\n",
      "/Product_myrtlebeachfloors.com_September2020.json.gz\n",
      "/Product_deadtechrecords.net_September2020.json.gz\n"
     ]
    },
    {
     "name": "stderr",
     "output_type": "stream",
     "text": [
      " 67% (1096 of 1614) |#############       | Elapsed Time: 0:01:54 ETA:   0:00:33"
     ]
    },
    {
     "name": "stdout",
     "output_type": "stream",
     "text": [
      "/Product_wakullacarpetbrokers.com_September2020.json.gz\n",
      "/Product_baystaterug.com_September2020.json.gz\n",
      "/Product_thekeykey.com_September2020.json.gz\n",
      "/Product_freaksports.com.au_September2020.json.gz\n"
     ]
    },
    {
     "name": "stderr",
     "output_type": "stream",
     "text": [
      "\r",
      " 68% (1098 of 1614) |#############       | Elapsed Time: 0:01:54 ETA:   0:00:32"
     ]
    },
    {
     "name": "stdout",
     "output_type": "stream",
     "text": [
      "/Product_norfolkflooringsolutions.com_September2020.json.gz\n",
      "/Product_gntmuebles.com_September2020.json.gz\n"
     ]
    },
    {
     "name": "stderr",
     "output_type": "stream",
     "text": [
      " 68% (1102 of 1614) |#############       | Elapsed Time: 0:01:54 ETA:   0:00:33"
     ]
    },
    {
     "name": "stdout",
     "output_type": "stream",
     "text": [
      "/Product_thebikeshopjc.com_September2020.json.gz\n",
      "/Product_flooring-inspirations.com_September2020.json.gz\n",
      "/Product_dressyout.com_September2020.json.gz\n",
      "/Product_arrowheadcarpettile.com_September2020.json.gz\n"
     ]
    },
    {
     "name": "stderr",
     "output_type": "stream",
     "text": [
      " 68% (1107 of 1614) |#############       | Elapsed Time: 0:01:54 ETA:   0:00:32"
     ]
    },
    {
     "name": "stdout",
     "output_type": "stream",
     "text": [
      "/Product_sellalchemco.com_September2020.json.gz\n",
      "/Product_advantageappliance.com_September2020.json.gz\n",
      "/Product_info-computer.com_September2020.json.gz\n",
      "/Product_aitoro.com_September2020.json.gz\n",
      "/Product_jadoreeventss.com_September2020.json.gz\n"
     ]
    },
    {
     "name": "stderr",
     "output_type": "stream",
     "text": [
      "\r",
      " 68% (1110 of 1614) |#############       | Elapsed Time: 0:01:55 ETA:   0:00:33"
     ]
    },
    {
     "name": "stdout",
     "output_type": "stream",
     "text": [
      "/Product_coastalcarpetntiledestin.com_September2020.json.gz\n",
      "/Product_2riversbicycle.com_September2020.json.gz\n",
      "/Product_marcellasappliance.com_September2020.json.gz\n",
      "/Product_podiumms.com_September2020.json.gz\n"
     ]
    },
    {
     "name": "stderr",
     "output_type": "stream",
     "text": [
      " 69% (1114 of 1614) |#############       | Elapsed Time: 0:01:55 ETA:   0:00:31"
     ]
    },
    {
     "name": "stdout",
     "output_type": "stream",
     "text": [
      "/Product_acadia-info.com_September2020.json.gz\n",
      "/Product_daretocompareus.com_September2020.json.gz\n",
      "/Product_silvercycles.com_September2020.json.gz\n"
     ]
    },
    {
     "name": "stderr",
     "output_type": "stream",
     "text": [
      "\r",
      " 69% (1115 of 1614) |#############       | Elapsed Time: 0:01:55 ETA:   0:00:36"
     ]
    },
    {
     "name": "stdout",
     "output_type": "stream",
     "text": [
      "/Product_iherb.com_September2020.json.gz\n"
     ]
    },
    {
     "name": "stderr",
     "output_type": "stream",
     "text": [
      " 69% (1117 of 1614) |#############       | Elapsed Time: 0:02:11 ETA:   1:04:38"
     ]
    },
    {
     "name": "stdout",
     "output_type": "stream",
     "text": [
      "/Product_healthy-italia.com_September2020.json.gz\n",
      "/Product_molloyspharmacy.com_September2020.json.gz\n"
     ]
    },
    {
     "name": "stderr",
     "output_type": "stream",
     "text": [
      "\r",
      " 69% (1119 of 1614) |#############       | Elapsed Time: 0:02:11 ETA:   0:32:26"
     ]
    },
    {
     "name": "stdout",
     "output_type": "stream",
     "text": [
      "/Product_lordperfumaria.com.br_September2020.json.gz\n",
      "/Product_latinbikes.com_September2020.json.gz\n",
      "/Product_spokesmanprobikeworks.com_September2020.json.gz\n"
     ]
    },
    {
     "name": "stderr",
     "output_type": "stream",
     "text": [
      " 69% (1123 of 1614) |#############       | Elapsed Time: 0:02:11 ETA:   0:16:28"
     ]
    },
    {
     "name": "stdout",
     "output_type": "stream",
     "text": [
      "/Product_wilton.com_September2020.json.gz\n",
      "/Product_locatelonline.com_September2020.json.gz\n",
      "/Product_scontimania.com_September2020.json.gz\n"
     ]
    },
    {
     "name": "stderr",
     "output_type": "stream",
     "text": [
      " 69% (1125 of 1614) |#############       | Elapsed Time: 0:02:11 ETA:   0:13:18"
     ]
    },
    {
     "name": "stdout",
     "output_type": "stream",
     "text": [
      "/Product_peoplesjewellers.com_September2020.json.gz\n",
      "/Product_macstudio.com.my_September2020.json.gz\n"
     ]
    },
    {
     "name": "stderr",
     "output_type": "stream",
     "text": [
      "\r",
      " 69% (1127 of 1614) |#############       | Elapsed Time: 0:02:12 ETA:   0:11:07"
     ]
    },
    {
     "name": "stdout",
     "output_type": "stream",
     "text": [
      "/Product_washburns.com_September2020.json.gz\n",
      "/Product_cocoapproved.com_September2020.json.gz\n",
      "/Product_hendrickchevybuickgmcrichmond.com_September2020.json.gz\n"
     ]
    },
    {
     "name": "stderr",
     "output_type": "stream",
     "text": [
      "\r",
      " 69% (1129 of 1614) |#############       | Elapsed Time: 0:02:12 ETA:   0:09:34"
     ]
    },
    {
     "name": "stdout",
     "output_type": "stream",
     "text": [
      "/Product_brandnameappliance.net_September2020.json.gz\n",
      "/Product_bobsbicycles.com_September2020.json.gz\n"
     ]
    },
    {
     "name": "stderr",
     "output_type": "stream",
     "text": [
      " 70% (1135 of 1614) |##############      | Elapsed Time: 0:02:12 ETA:   0:06:51"
     ]
    },
    {
     "name": "stdout",
     "output_type": "stream",
     "text": [
      "/Product_unique-safetyproducts.com_September2020.json.gz\n",
      "/Product_cloudgeeks.com.au_September2020.json.gz\n",
      "/Product_iyva.com_September2020.json.gz\n",
      "/Product_bikesale.com_September2020.json.gz\n",
      "/Product_maktus.com_September2020.json.gz\n"
     ]
    },
    {
     "name": "stderr",
     "output_type": "stream",
     "text": [
      " 70% (1137 of 1614) |##############      | Elapsed Time: 0:02:13 ETA:   0:00:46"
     ]
    },
    {
     "name": "stdout",
     "output_type": "stream",
     "text": [
      "/Product_sivasdescalzo.com_September2020.json.gz\n",
      "/Product_ariselettronica.com_September2020.json.gz\n"
     ]
    },
    {
     "name": "stderr",
     "output_type": "stream",
     "text": [
      " 70% (1140 of 1614) |##############      | Elapsed Time: 0:02:13 ETA:   0:00:43"
     ]
    },
    {
     "name": "stdout",
     "output_type": "stream",
     "text": [
      "/Product_towheels.com_September2020.json.gz\n",
      "/Product_cycologybikeshop.com_September2020.json.gz\n",
      "/Product_shopkemet.com_September2020.json.gz\n"
     ]
    },
    {
     "name": "stderr",
     "output_type": "stream",
     "text": [
      "\r",
      " 70% (1142 of 1614) |##############      | Elapsed Time: 0:02:13 ETA:   0:00:43"
     ]
    },
    {
     "name": "stdout",
     "output_type": "stream",
     "text": [
      "/Product_backpacks4less.com_September2020.json.gz\n",
      "/Product_shopnoroeste.com.br_September2020.json.gz\n",
      "/Product_arkansascycling.com_September2020.json.gz\n"
     ]
    },
    {
     "name": "stderr",
     "output_type": "stream",
     "text": [
      " 70% (1145 of 1614) |##############      | Elapsed Time: 0:02:13 ETA:   0:00:42"
     ]
    },
    {
     "name": "stdout",
     "output_type": "stream",
     "text": [
      "/Product_thunderboltelectronics.com_September2020.json.gz\n",
      "/Product_bakersbestsupplies.com_September2020.json.gz\n",
      "/Product_farmaciaospedale.com_September2020.json.gz\n"
     ]
    },
    {
     "name": "stderr",
     "output_type": "stream",
     "text": [
      " 71% (1149 of 1614) |##############      | Elapsed Time: 0:02:14 ETA:   0:00:44"
     ]
    },
    {
     "name": "stdout",
     "output_type": "stream",
     "text": [
      "/Product_tecnoysat.com_September2020.json.gz\n",
      "/Product_alphaink.net_September2020.json.gz\n",
      "/Product_nelsonmazdaok.com_September2020.json.gz\n",
      "/Product_minhaoticaonline.com.br_September2020.json.gz\n"
     ]
    },
    {
     "name": "stderr",
     "output_type": "stream",
     "text": [
      "\r",
      " 71% (1152 of 1614) |##############      | Elapsed Time: 0:02:14 ETA:   0:00:43"
     ]
    },
    {
     "name": "stdout",
     "output_type": "stream",
     "text": [
      "/Product_thewineguyli.com_September2020.json.gz\n",
      "/Product_macchoice.com.au_September2020.json.gz\n",
      "/Product_brandscycle.com_September2020.json.gz\n"
     ]
    },
    {
     "name": "stderr",
     "output_type": "stream",
     "text": [
      " 71% (1155 of 1614) |##############      | Elapsed Time: 0:02:14 ETA:   0:00:39"
     ]
    },
    {
     "name": "stdout",
     "output_type": "stream",
     "text": [
      "/Product_cognitioncyclery.com_September2020.json.gz\n",
      "/Product_solextrem.com_September2020.json.gz\n"
     ]
    },
    {
     "name": "stderr",
     "output_type": "stream",
     "text": [
      " 71% (1158 of 1614) |##############      | Elapsed Time: 0:02:15 ETA:   0:00:45"
     ]
    },
    {
     "name": "stdout",
     "output_type": "stream",
     "text": [
      "/Product_crawford-racing.com_September2020.json.gz\n",
      "/Product_atlanticfinefurniture.com_September2020.json.gz\n",
      "/Product_opticaslookout.com.ar_September2020.json.gz\n",
      "/Product_jimagin.com_September2020.json.gz\n"
     ]
    },
    {
     "name": "stderr",
     "output_type": "stream",
     "text": [
      " 72% (1163 of 1614) |##############      | Elapsed Time: 0:02:15 ETA:   0:00:40"
     ]
    },
    {
     "name": "stdout",
     "output_type": "stream",
     "text": [
      "/Product_bdtwatch.com_September2020.json.gz\n",
      "/Product_seacoastflooring.com_September2020.json.gz\n",
      "/Product_hiperclick.com_September2020.json.gz\n",
      "/Product_la2ta.com_September2020.json.gz\n"
     ]
    },
    {
     "name": "stderr",
     "output_type": "stream",
     "text": [
      "\r",
      " 72% (1165 of 1614) |##############      | Elapsed Time: 0:02:15 ETA:   0:00:40"
     ]
    },
    {
     "name": "stdout",
     "output_type": "stream",
     "text": [
      "/Product_sherpagranada.com_September2020.json.gz\n",
      "/Product_wifi-stock.com_September2020.json.gz\n",
      "/Product_jacksbicyclecenter.com_September2020.json.gz\n"
     ]
    },
    {
     "name": "stderr",
     "output_type": "stream",
     "text": [
      "\r",
      " 72% (1167 of 1614) |##############      | Elapsed Time: 0:02:15 ETA:   0:00:39"
     ]
    },
    {
     "name": "stdout",
     "output_type": "stream",
     "text": [
      "/Product_okayfones.com_September2020.json.gz\n",
      "/Product_sportique.com_September2020.json.gz\n"
     ]
    },
    {
     "name": "stderr",
     "output_type": "stream",
     "text": [
      " 72% (1170 of 1614) |##############      | Elapsed Time: 0:02:16 ETA:   0:00:38"
     ]
    },
    {
     "name": "stdout",
     "output_type": "stream",
     "text": [
      "/Product_incycle.com_September2020.json.gz\n",
      "/Product_mcneilsappliance.com_September2020.json.gz\n"
     ]
    },
    {
     "name": "stderr",
     "output_type": "stream",
     "text": [
      " 72% (1173 of 1614) |##############      | Elapsed Time: 0:02:16 ETA:   0:00:39"
     ]
    },
    {
     "name": "stdout",
     "output_type": "stream",
     "text": [
      "/Product_ecigsinternational.com_September2020.json.gz\n",
      "/Product_materiel-photo-pro.com_September2020.json.gz\n",
      "/Product_djcity.com.au_September2020.json.gz\n"
     ]
    },
    {
     "name": "stderr",
     "output_type": "stream",
     "text": [
      " 72% (1177 of 1614) |##############      | Elapsed Time: 0:02:16 ETA:   0:00:42"
     ]
    },
    {
     "name": "stdout",
     "output_type": "stream",
     "text": [
      "/Product_guerradigital.com.br_September2020.json.gz\n",
      "/Product_jebhealth.com_September2020.json.gz\n",
      "/Product_blacklavavape.com_September2020.json.gz\n",
      "/Product_studio24botanicals.com_September2020.json.gz\n",
      "/Product_altawasel.com_September2020.json.gz\n"
     ]
    },
    {
     "name": "stderr",
     "output_type": "stream",
     "text": [
      "\r",
      " 73% (1180 of 1614) |##############      | Elapsed Time: 0:02:16 ETA:   0:00:36"
     ]
    },
    {
     "name": "stdout",
     "output_type": "stream",
     "text": [
      "/Product_occhialuto.com_September2020.json.gz\n",
      "/Product_massoyanjewelers.com_September2020.json.gz\n",
      "/Product_bestpricenutrition.com_September2020.json.gz\n"
     ]
    },
    {
     "name": "stderr",
     "output_type": "stream",
     "text": [
      "\r",
      " 73% (1182 of 1614) |##############      | Elapsed Time: 0:02:17 ETA:   0:00:38"
     ]
    },
    {
     "name": "stdout",
     "output_type": "stream",
     "text": [
      "/Product_shoppingexpress.com.au_September2020.json.gz\n",
      "/Product_kogan.com_September2020.json.gz\n"
     ]
    },
    {
     "name": "stderr",
     "output_type": "stream",
     "text": [
      " 73% (1187 of 1614) |##############      | Elapsed Time: 0:02:18 ETA:   0:00:59"
     ]
    },
    {
     "name": "stdout",
     "output_type": "stream",
     "text": [
      "/Product_eliteflooringonline.com_September2020.json.gz\n",
      "/Product_pinnacletp.com_September2020.json.gz\n",
      "/Product_simplywholesale.com.au_September2020.json.gz\n",
      "/Product_cloudsecurity.com.ng_September2020.json.gz\n"
     ]
    },
    {
     "name": "stderr",
     "output_type": "stream",
     "text": [
      "\r",
      " 73% (1189 of 1614) |##############      | Elapsed Time: 0:02:18 ETA:   0:00:55"
     ]
    },
    {
     "name": "stdout",
     "output_type": "stream",
     "text": [
      "/Product_mpgessentials.com_September2020.json.gz\n",
      "/Product_bestbuycarpetinc.com_September2020.json.gz\n",
      "/Product_bluecyclesonline.com.au_September2020.json.gz\n",
      "/Product_farmaku.com_September2020.json.gz\n"
     ]
    },
    {
     "name": "stderr",
     "output_type": "stream",
     "text": [
      " 73% (1194 of 1614) |##############      | Elapsed Time: 0:02:18 ETA:   0:00:47"
     ]
    },
    {
     "name": "stdout",
     "output_type": "stream",
     "text": [
      "/Product_bezambar.com_September2020.json.gz\n",
      "/Product_ufostorekh.com_September2020.json.gz\n",
      "/Product_cclonline.com_September2020.json.gz\n"
     ]
    },
    {
     "name": "stderr",
     "output_type": "stream",
     "text": [
      " 74% (1197 of 1614) |##############      | Elapsed Time: 0:02:18 ETA:   0:00:43"
     ]
    },
    {
     "name": "stdout",
     "output_type": "stream",
     "text": [
      "/Product_apodax.com_September2020.json.gz\n",
      "/Product_montanaflooringliquidators.com_September2020.json.gz\n",
      "/Product_macombbike.com_September2020.json.gz\n"
     ]
    },
    {
     "name": "stderr",
     "output_type": "stream",
     "text": [
      " 74% (1199 of 1614) |##############      | Elapsed Time: 0:02:19 ETA:   0:00:50"
     ]
    },
    {
     "name": "stdout",
     "output_type": "stream",
     "text": [
      "/Product_watchshopping.com_September2020.json.gz\n",
      "/Product_datch.company_September2020.json.gz\n",
      "/Product_amatteroffax.com_September2020.json.gz\n"
     ]
    },
    {
     "name": "stderr",
     "output_type": "stream",
     "text": [
      " 74% (1204 of 1614) |##############      | Elapsed Time: 0:02:19 ETA:   0:00:51"
     ]
    },
    {
     "name": "stdout",
     "output_type": "stream",
     "text": [
      "/Product_growersoutletinwillis.com_September2020.json.gz\n",
      "/Product_handhcarpets.com_September2020.json.gz\n",
      "/Product_fateka.com_September2020.json.gz\n",
      "/Product_bikehabitat.com_September2020.json.gz\n"
     ]
    },
    {
     "name": "stderr",
     "output_type": "stream",
     "text": [
      " 74% (1208 of 1614) |##############      | Elapsed Time: 0:02:20 ETA:   0:00:35"
     ]
    },
    {
     "name": "stdout",
     "output_type": "stream",
     "text": [
      "/Product_star-power.com_September2020.json.gz\n",
      "/Product_mediqc.com_September2020.json.gz\n",
      "/Product_tucsonendurancecenter.com_September2020.json.gz\n",
      "/Product_nasty-queen.com_September2020.json.gz\n"
     ]
    },
    {
     "name": "stderr",
     "output_type": "stream",
     "text": [
      "\r",
      " 74% (1210 of 1614) |##############      | Elapsed Time: 0:02:20 ETA:   0:00:36"
     ]
    },
    {
     "name": "stdout",
     "output_type": "stream",
     "text": [
      "/Product_collegestreetcycles.com_September2020.json.gz\n",
      "/Product_joyeriamunoz.com_September2020.json.gz\n"
     ]
    },
    {
     "name": "stderr",
     "output_type": "stream",
     "text": [
      " 75% (1215 of 1614) |###############     | Elapsed Time: 0:02:20 ETA:   0:00:36"
     ]
    },
    {
     "name": "stdout",
     "output_type": "stream",
     "text": [
      "/Product_fairpricecarpets.com_September2020.json.gz\n",
      "/Product_vavcisalon.com_September2020.json.gz\n",
      "/Product_folsomlakehyundai.com_September2020.json.gz\n",
      "/Product_newlookfloors.net_September2020.json.gz\n",
      "/Product_toposoutdoor.com_September2020.json.gz\n"
     ]
    },
    {
     "name": "stderr",
     "output_type": "stream",
     "text": [
      " 75% (1220 of 1614) |###############     | Elapsed Time: 0:02:20 ETA:   0:00:32"
     ]
    },
    {
     "name": "stdout",
     "output_type": "stream",
     "text": [
      "/Product_reviewofprint.com_September2020.json.gz\n",
      "/Product_lakerpontoonboats.com_September2020.json.gz\n",
      "/Product_menke-floorscapes.com_September2020.json.gz\n",
      "/Product_yatakshop.com_September2020.json.gz\n",
      "/Product_sabotage-oddal.com_September2020.json.gz\n"
     ]
    },
    {
     "name": "stderr",
     "output_type": "stream",
     "text": [
      " 75% (1225 of 1614) |###############     | Elapsed Time: 0:02:21 ETA:   0:00:29"
     ]
    },
    {
     "name": "stdout",
     "output_type": "stream",
     "text": [
      "/Product_phodongho.com.vn_September2020.json.gz\n",
      "/Product_gearthirty.com_September2020.json.gz\n",
      "/Product_bgindy.com_September2020.json.gz\n",
      "/Product_gunas2.com_September2020.json.gz\n"
     ]
    },
    {
     "name": "stderr",
     "output_type": "stream",
     "text": [
      "\r",
      " 76% (1229 of 1614) |###############     | Elapsed Time: 0:02:21 ETA:   0:00:26"
     ]
    },
    {
     "name": "stdout",
     "output_type": "stream",
     "text": [
      "/Product_leatherjacketmakers.com_September2020.json.gz\n",
      "/Product_onlinestorez.com_September2020.json.gz\n",
      "/Product_vps.com.au_September2020.json.gz\n",
      "/Product_napalmi.com_September2020.json.gz\n",
      "/Product_luxewatches.co.uk_September2020.json.gz\n",
      "/Product_bikegallery.com_September2020.json.gz\n"
     ]
    },
    {
     "name": "stderr",
     "output_type": "stream",
     "text": [
      " 76% (1233 of 1614) |###############     | Elapsed Time: 0:02:21 ETA:   0:00:27"
     ]
    },
    {
     "name": "stdout",
     "output_type": "stream",
     "text": [
      "/Product_retravision.com.au_September2020.json.gz\n",
      "/Product_carmarthencameras.com_September2020.json.gz\n",
      "/Product_patriciotile.com_September2020.json.gz\n"
     ]
    },
    {
     "name": "stderr",
     "output_type": "stream",
     "text": [
      "\r",
      " 76% (1235 of 1614) |###############     | Elapsed Time: 0:02:21 ETA:   0:00:23"
     ]
    },
    {
     "name": "stdout",
     "output_type": "stream",
     "text": [
      "/Product_avcstore.com_September2020.json.gz\n",
      "/Product_swingawaycreations.com_September2020.json.gz\n",
      "/Product_simasflooranddesign.com_September2020.json.gz\n",
      "/Product_sockologie.com_September2020.json.gz\n"
     ]
    },
    {
     "name": "stderr",
     "output_type": "stream",
     "text": [
      " 76% (1241 of 1614) |###############     | Elapsed Time: 0:02:22 ETA:   0:00:21"
     ]
    },
    {
     "name": "stdout",
     "output_type": "stream",
     "text": [
      "/Product_portcitycycles.com.au_September2020.json.gz\n",
      "/Product_urbanpalms.com_September2020.json.gz\n",
      "/Product_downtownbicycles.com_September2020.json.gz\n",
      "/Product_procyclingoutlet.com_September2020.json.gz\n",
      "/Product_mysticalmoonbmt.com_September2020.json.gz\n"
     ]
    },
    {
     "name": "stderr",
     "output_type": "stream",
     "text": [
      " 77% (1247 of 1614) |###############     | Elapsed Time: 0:02:22 ETA:   0:00:20"
     ]
    },
    {
     "name": "stdout",
     "output_type": "stream",
     "text": [
      "/Product_pagosabikeshop.com_September2020.json.gz\n",
      "/Product_tansyhairandbeauty.co.uk_September2020.json.gz\n",
      "/Product_ckcollection.com_September2020.json.gz\n",
      "/Product_builderssource.com_September2020.json.gz\n",
      "/Product_bike-rack.com_September2020.json.gz\n"
     ]
    },
    {
     "name": "stderr",
     "output_type": "stream",
     "text": [
      " 77% (1250 of 1614) |###############     | Elapsed Time: 0:02:22 ETA:   0:00:21"
     ]
    },
    {
     "name": "stdout",
     "output_type": "stream",
     "text": [
      "/Product_france-health.com_September2020.json.gz\n",
      "/Product_elektrosepeti.com_September2020.json.gz\n",
      "/Product_pcmundo.com.mx_September2020.json.gz\n",
      "/Product_1clicksafety.com_September2020.json.gz\n",
      "/Product_reynoldsandsons.com_September2020.json.gz\n",
      "/Product_sabinastore.com_September2020.json.gz\n"
     ]
    },
    {
     "name": "stderr",
     "output_type": "stream",
     "text": [
      "\r",
      " 77% (1254 of 1614) |###############     | Elapsed Time: 0:02:22 ETA:   0:00:19"
     ]
    },
    {
     "name": "stdout",
     "output_type": "stream",
     "text": [
      "/Product_lelong.com.my_September2020.json.gz\n"
     ]
    },
    {
     "name": "stderr",
     "output_type": "stream",
     "text": [
      "\r",
      " 77% (1255 of 1614) |###############     | Elapsed Time: 0:02:23 ETA:   0:00:21"
     ]
    },
    {
     "name": "stdout",
     "output_type": "stream",
     "text": [
      "/Product_toysrusmena.com_September2020.json.gz\n"
     ]
    },
    {
     "name": "stderr",
     "output_type": "stream",
     "text": [
      " 77% (1258 of 1614) |###############     | Elapsed Time: 0:02:23 ETA:   0:00:27"
     ]
    },
    {
     "name": "stdout",
     "output_type": "stream",
     "text": [
      "/Product_jw.com.au_September2020.json.gz\n",
      "/Product_zpcinformatica.com_September2020.json.gz\n",
      "/Product_pcbyte.com.au_September2020.json.gz\n",
      "/Product_landyschemist.com_September2020.json.gz\n"
     ]
    },
    {
     "name": "stderr",
     "output_type": "stream",
     "text": [
      "\r",
      " 78% (1260 of 1614) |###############     | Elapsed Time: 0:02:23 ETA:   0:00:25"
     ]
    },
    {
     "name": "stdout",
     "output_type": "stream",
     "text": [
      "/Product_swamp.net.au_September2020.json.gz\n"
     ]
    },
    {
     "name": "stderr",
     "output_type": "stream",
     "text": [
      " 78% (1262 of 1614) |###############     | Elapsed Time: 0:02:23 ETA:   0:00:27"
     ]
    },
    {
     "name": "stdout",
     "output_type": "stream",
     "text": [
      "/Product_simeonnetworks.com_September2020.json.gz\n",
      "/Product_goldensbikeshop.com_September2020.json.gz\n",
      "/Product_christoffandsons.com_September2020.json.gz\n"
     ]
    },
    {
     "name": "stderr",
     "output_type": "stream",
     "text": [
      " 78% (1266 of 1614) |###############     | Elapsed Time: 0:02:24 ETA:   0:00:30"
     ]
    },
    {
     "name": "stdout",
     "output_type": "stream",
     "text": [
      "/Product_thesoleline.com_September2020.json.gz\n",
      "/Product_bemidjisnd.com_September2020.json.gz\n",
      "/Product_orthostatmedicalsupply.com_September2020.json.gz\n",
      "/Product_tuffney.com_September2020.json.gz\n"
     ]
    },
    {
     "name": "stderr",
     "output_type": "stream",
     "text": [
      "\r",
      " 78% (1269 of 1614) |###############     | Elapsed Time: 0:02:24 ETA:   0:00:30"
     ]
    },
    {
     "name": "stdout",
     "output_type": "stream",
     "text": [
      "/Product_outspokinbicycles.com_September2020.json.gz\n",
      "/Product_sbrofallon.com_September2020.json.gz\n",
      "/Product_shopshag.com_September2020.json.gz\n"
     ]
    },
    {
     "name": "stderr",
     "output_type": "stream",
     "text": [
      " 78% (1273 of 1614) |###############     | Elapsed Time: 0:02:24 ETA:   0:00:28"
     ]
    },
    {
     "name": "stdout",
     "output_type": "stream",
     "text": [
      "/Product_stylewithcece.com_September2020.json.gz\n",
      "/Product_clinicalposters.com_September2020.json.gz\n",
      "/Product_tondeesfurniture.com_September2020.json.gz\n"
     ]
    },
    {
     "name": "stderr",
     "output_type": "stream",
     "text": [
      " 79% (1277 of 1614) |###############     | Elapsed Time: 0:02:24 ETA:   0:00:30"
     ]
    },
    {
     "name": "stdout",
     "output_type": "stream",
     "text": [
      "/Product_lelyssucree.net_September2020.json.gz\n",
      "/Product_treesdirect.co.uk_September2020.json.gz\n",
      "/Product_salemcycle.com_September2020.json.gz\n",
      "/Product_applianceliquidators.com_September2020.json.gz\n"
     ]
    },
    {
     "name": "stderr",
     "output_type": "stream",
     "text": [
      " 79% (1281 of 1614) |###############     | Elapsed Time: 0:02:25 ETA:   0:00:26"
     ]
    },
    {
     "name": "stdout",
     "output_type": "stream",
     "text": [
      "/Product_maxsafetyproducts.com_September2020.json.gz\n",
      "/Product_bestwayruston.com_September2020.json.gz\n",
      "/Product_sorensonsappliance.com_September2020.json.gz\n",
      "/Product_grinerjewelryco.com_September2020.json.gz\n"
     ]
    },
    {
     "name": "stderr",
     "output_type": "stream",
     "text": [
      " 79% (1286 of 1614) |###############     | Elapsed Time: 0:02:25 ETA:   0:00:22"
     ]
    },
    {
     "name": "stdout",
     "output_type": "stream",
     "text": [
      "/Product_naffcofloorsandinteriors.com_September2020.json.gz\n",
      "/Product_gamarraecommerce.com_September2020.json.gz\n",
      "/Product_allegrocyclery.com_September2020.json.gz\n",
      "/Product_theoddspoke.com.au_September2020.json.gz\n",
      "/Product_biwizehome.com_September2020.json.gz\n"
     ]
    },
    {
     "name": "stderr",
     "output_type": "stream",
     "text": [
      " 79% (1291 of 1614) |###############     | Elapsed Time: 0:02:25 ETA:   0:00:20"
     ]
    },
    {
     "name": "stdout",
     "output_type": "stream",
     "text": [
      "/Product_dixieselfdefense.com_September2020.json.gz\n",
      "/Product_genuinemaytagfestus.com_September2020.json.gz\n",
      "/Product_finebrandwatches.com_September2020.json.gz\n",
      "/Product_fashionfloorcenter.com_September2020.json.gz\n",
      "/Product_mastermindtri.com_September2020.json.gz\n",
      "/Product_interstateappliance.com_September2020.json.gz\n",
      "/Product_voipsupply.com_September2020.json.gz\n"
     ]
    },
    {
     "name": "stderr",
     "output_type": "stream",
     "text": [
      "\r",
      " 80% (1294 of 1614) |################    | Elapsed Time: 0:02:25 ETA:   0:00:20"
     ]
    },
    {
     "name": "stdout",
     "output_type": "stream",
     "text": [
      "/Product_titaniccenter.com_September2020.json.gz\n",
      "/Product_euro.com.pl_September2020.json.gz\n"
     ]
    },
    {
     "name": "stderr",
     "output_type": "stream",
     "text": [
      " 80% (1299 of 1614) |################    | Elapsed Time: 0:02:29 ETA:   0:03:22"
     ]
    },
    {
     "name": "stdout",
     "output_type": "stream",
     "text": [
      "/Product_brummelshomefurnishings.com_September2020.json.gz\n",
      "/Product_talaco.net_September2020.json.gz\n",
      "/Product_arcadiarooms.com_September2020.json.gz\n",
      "/Product_storehongkong.com_September2020.json.gz\n",
      "/Product_yatesflooring.com_September2020.json.gz\n",
      "/Product_cameramall.com_September2020.json.gz\n"
     ]
    },
    {
     "name": "stderr",
     "output_type": "stream",
     "text": [
      "\r",
      " 80% (1302 of 1614) |################    | Elapsed Time: 0:02:29 ETA:   0:02:11"
     ]
    },
    {
     "name": "stdout",
     "output_type": "stream",
     "text": [
      "/Product_gamma-it.com_September2020.json.gz\n",
      "/Product_casesbychristina.com_September2020.json.gz\n",
      "/Product_woodinvillebicycle.com_September2020.json.gz\n"
     ]
    },
    {
     "name": "stderr",
     "output_type": "stream",
     "text": [
      " 80% (1307 of 1614) |################    | Elapsed Time: 0:02:29 ETA:   0:01:28"
     ]
    },
    {
     "name": "stdout",
     "output_type": "stream",
     "text": [
      "/Product_stevesapplianceme.com_September2020.json.gz\n",
      "/Product_signalgroup.com.au_September2020.json.gz\n",
      "/Product_milkandhoneybabies.com_September2020.json.gz\n",
      "/Product_superrunnersshop.com_September2020.json.gz\n"
     ]
    },
    {
     "name": "stderr",
     "output_type": "stream",
     "text": [
      " 81% (1311 of 1614) |################    | Elapsed Time: 0:02:29 ETA:   0:01:11"
     ]
    },
    {
     "name": "stdout",
     "output_type": "stream",
     "text": [
      "/Product_bngsports.com.au_September2020.json.gz\n",
      "/Product_coolgiftsforkidsstore.com_September2020.json.gz\n",
      "/Product_laserink.co.uk_September2020.json.gz\n",
      "/Product_heroicgoodsandgames.com_September2020.json.gz\n"
     ]
    },
    {
     "name": "stderr",
     "output_type": "stream",
     "text": [
      " 81% (1315 of 1614) |################    | Elapsed Time: 0:02:30 ETA:   0:01:01"
     ]
    },
    {
     "name": "stdout",
     "output_type": "stream",
     "text": [
      "/Product_giftapolis.com_September2020.json.gz\n",
      "/Product_roguecycle.com_September2020.json.gz\n",
      "/Product_utairboat.com_September2020.json.gz\n"
     ]
    },
    {
     "name": "stderr",
     "output_type": "stream",
     "text": [
      "\r",
      " 81% (1316 of 1614) |################    | Elapsed Time: 0:02:30 ETA:   0:01:00"
     ]
    },
    {
     "name": "stdout",
     "output_type": "stream",
     "text": [
      "/Product_ebay.com_September2020.json.gz\n"
     ]
    },
    {
     "name": "stderr",
     "output_type": "stream",
     "text": [
      " 81% (1318 of 1614) |################    | Elapsed Time: 0:02:31 ETA:   0:01:06"
     ]
    },
    {
     "name": "stdout",
     "output_type": "stream",
     "text": [
      "/Product_ucycle.com_September2020.json.gz\n",
      "/Product_ronsmith.co.uk_September2020.json.gz\n",
      "/Product_campfirecycling.com_September2020.json.gz\n"
     ]
    },
    {
     "name": "stderr",
     "output_type": "stream",
     "text": [
      " 81% (1323 of 1614) |################    | Elapsed Time: 0:02:32 ETA:   0:00:52"
     ]
    },
    {
     "name": "stdout",
     "output_type": "stream",
     "text": [
      "/Product_provideosevilla.com_September2020.json.gz\n",
      "/Product_dronesdirect.co.uk_September2020.json.gz\n",
      "/Product_urashop8x.com_September2020.json.gz\n",
      "/Product_milfordbicycle.com_September2020.json.gz\n",
      "/Product_teamdigital.com.au_September2020.json.gz\n"
     ]
    },
    {
     "name": "stderr",
     "output_type": "stream",
     "text": [
      " 82% (1327 of 1614) |################    | Elapsed Time: 0:02:32 ETA:   0:00:49"
     ]
    },
    {
     "name": "stdout",
     "output_type": "stream",
     "text": [
      "/Product_estimasports.com_September2020.json.gz\n",
      "/Product_northtownebikes.com_September2020.json.gz\n",
      "/Product_annarborchocolate.com_September2020.json.gz\n"
     ]
    },
    {
     "name": "stderr",
     "output_type": "stream",
     "text": [
      "\r",
      " 82% (1328 of 1614) |################    | Elapsed Time: 0:02:32 ETA:   0:00:49"
     ]
    },
    {
     "name": "stdout",
     "output_type": "stream",
     "text": [
      "/Product_parapharmanet.com_September2020.json.gz\n",
      "/Product_bikemart.com_September2020.json.gz\n"
     ]
    },
    {
     "name": "stderr",
     "output_type": "stream",
     "text": [
      " 82% (1332 of 1614) |################    | Elapsed Time: 0:02:32 ETA:   0:00:43"
     ]
    },
    {
     "name": "stdout",
     "output_type": "stream",
     "text": [
      "/Product_bismillahbiryani.com_September2020.json.gz\n",
      "/Product_alltechlife.com_September2020.json.gz\n",
      "/Product_agrifeedpetsupply.com_September2020.json.gz\n"
     ]
    },
    {
     "name": "stderr",
     "output_type": "stream",
     "text": [
      "\r",
      " 82% (1333 of 1614) |################    | Elapsed Time: 0:02:33 ETA:   0:00:42"
     ]
    },
    {
     "name": "stdout",
     "output_type": "stream",
     "text": [
      "/Product_rocake.com_September2020.json.gz\n",
      "/Product_hipposstunguns.com_September2020.json.gz\n",
      "/Product_cakerswarehouse.com.au_September2020.json.gz\n"
     ]
    },
    {
     "name": "stderr",
     "output_type": "stream",
     "text": [
      " 82% (1337 of 1614) |################    | Elapsed Time: 0:02:33 ETA:   0:00:39"
     ]
    },
    {
     "name": "stdout",
     "output_type": "stream",
     "text": [
      "/Product_spinbikeshop.com_September2020.json.gz\n",
      "/Product_hippiehempsoaps.com_September2020.json.gz\n",
      "/Product_meuchevette.com_September2020.json.gz\n",
      "/Product_rvebike.com_September2020.json.gz\n"
     ]
    },
    {
     "name": "stderr",
     "output_type": "stream",
     "text": [
      " 83% (1341 of 1614) |################    | Elapsed Time: 0:02:33 ETA:   0:00:35"
     ]
    },
    {
     "name": "stdout",
     "output_type": "stream",
     "text": [
      "/Product_jemequipe.com_September2020.json.gz\n",
      "/Product_kluesnerflooring.com_September2020.json.gz\n",
      "/Product_homehaven.net_September2020.json.gz\n",
      "/Product_planetselfdefense.com_September2020.json.gz\n"
     ]
    },
    {
     "name": "stderr",
     "output_type": "stream",
     "text": [
      " 83% (1346 of 1614) |################    | Elapsed Time: 0:02:33 ETA:   0:00:19"
     ]
    },
    {
     "name": "stdout",
     "output_type": "stream",
     "text": [
      "/Product_palmtile.com_September2020.json.gz\n",
      "/Product_westbikes.com_September2020.json.gz\n",
      "/Product_gjirafamall.com_September2020.json.gz\n",
      "/Product_holabirdsports.com_September2020.json.gz\n"
     ]
    },
    {
     "name": "stderr",
     "output_type": "stream",
     "text": [
      " 83% (1349 of 1614) |################    | Elapsed Time: 0:02:34 ETA:   0:00:23"
     ]
    },
    {
     "name": "stdout",
     "output_type": "stream",
     "text": [
      "/Product_skorpion-design.com_September2020.json.gz\n",
      "/Product_bikeauthority.com_September2020.json.gz\n"
     ]
    },
    {
     "name": "stderr",
     "output_type": "stream",
     "text": [
      " 83% (1353 of 1614) |################    | Elapsed Time: 0:02:34 ETA:   0:00:22"
     ]
    },
    {
     "name": "stdout",
     "output_type": "stream",
     "text": [
      "/Product_schohariesoilandwater.org_September2020.json.gz\n",
      "/Product_smithandbevill.com_September2020.json.gz\n",
      "/Product_artscameras.com_September2020.json.gz\n",
      "/Product_nakeahsacademyofmakeup.com_September2020.json.gz\n",
      "/Product_maxgaming.com_September2020.json.gz\n"
     ]
    },
    {
     "name": "stderr",
     "output_type": "stream",
     "text": [
      " 84% (1359 of 1614) |################    | Elapsed Time: 0:02:34 ETA:   0:00:18"
     ]
    },
    {
     "name": "stdout",
     "output_type": "stream",
     "text": [
      "/Product_defensemerchandise.com_September2020.json.gz\n",
      "/Product_dealsallyear.com_September2020.json.gz\n",
      "/Product_zorinstechnologies.com_September2020.json.gz\n",
      "/Product_viotek.com_September2020.json.gz\n",
      "/Product_icit.net.au_September2020.json.gz\n",
      "/Product_gannettpeaksports.com_September2020.json.gz\n"
     ]
    },
    {
     "name": "stderr",
     "output_type": "stream",
     "text": [
      "\r",
      " 84% (1361 of 1614) |################    | Elapsed Time: 0:02:34 ETA:   0:00:18"
     ]
    },
    {
     "name": "stdout",
     "output_type": "stream",
     "text": [
      "/Product_ozgameshop.com_September2020.json.gz\n"
     ]
    },
    {
     "name": "stderr",
     "output_type": "stream",
     "text": [
      " 84% (1365 of 1614) |################    | Elapsed Time: 0:02:35 ETA:   0:00:19"
     ]
    },
    {
     "name": "stdout",
     "output_type": "stream",
     "text": [
      "/Product_martelelectronics.com_September2020.json.gz\n",
      "/Product_tankservices.co.uk_September2020.json.gz\n",
      "/Product_rickhendricktoyotasandysprings.com_September2020.json.gz\n",
      "/Product_griffinsfloorcrafters.com_September2020.json.gz\n",
      "/Product_themusicmotel.com_September2020.json.gz\n",
      "/Product_citybikesonline.com_September2020.json.gz\n"
     ]
    },
    {
     "name": "stderr",
     "output_type": "stream",
     "text": [
      " 84% (1369 of 1614) |################    | Elapsed Time: 0:02:35 ETA:   0:00:21"
     ]
    },
    {
     "name": "stdout",
     "output_type": "stream",
     "text": [
      "/Product_mountainbikespecialists.com_September2020.json.gz\n",
      "/Product_bearessence.com.au_September2020.json.gz\n",
      "/Product_beachcamera.com_September2020.json.gz\n"
     ]
    },
    {
     "name": "stderr",
     "output_type": "stream",
     "text": [
      " 85% (1374 of 1614) |#################   | Elapsed Time: 0:02:36 ETA:   0:00:19"
     ]
    },
    {
     "name": "stdout",
     "output_type": "stream",
     "text": [
      "/Product_montredo.com_September2020.json.gz\n",
      "/Product_spokensportinc.net_September2020.json.gz\n",
      "/Product_bronxhomewares.com.au_September2020.json.gz\n",
      "/Product_ebonth.com_September2020.json.gz\n",
      "/Product_usedcisco.com_September2020.json.gz\n",
      "/Product_skywaysdirect.com_September2020.json.gz\n"
     ]
    },
    {
     "name": "stderr",
     "output_type": "stream",
     "text": [
      " 85% (1378 of 1614) |#################   | Elapsed Time: 0:02:36 ETA:   0:00:17"
     ]
    },
    {
     "name": "stdout",
     "output_type": "stream",
     "text": [
      "/Product_allspeed.com_September2020.json.gz\n",
      "/Product_your-best-buy.com_September2020.json.gz\n",
      "/Product_shopgdt.com_September2020.json.gz\n",
      "/Product_american-interiors.com_September2020.json.gz\n"
     ]
    },
    {
     "name": "stderr",
     "output_type": "stream",
     "text": [
      " 85% (1384 of 1614) |#################   | Elapsed Time: 0:02:36 ETA:   0:00:15"
     ]
    },
    {
     "name": "stdout",
     "output_type": "stream",
     "text": [
      "/Product_flowerfunky.com_September2020.json.gz\n",
      "/Product_northpointappliance.com_September2020.json.gz\n",
      "/Product_chooseyourgift.com_September2020.json.gz\n",
      "/Product_surfacesnw.com_September2020.json.gz\n"
     ]
    },
    {
     "name": "stderr",
     "output_type": "stream",
     "text": [
      " 85% (1388 of 1614) |#################   | Elapsed Time: 0:02:36 ETA:   0:00:16"
     ]
    },
    {
     "name": "stdout",
     "output_type": "stream",
     "text": [
      "/Product_cistaarts.com_September2020.json.gz\n",
      "/Product_nakupovanje.net_September2020.json.gz\n",
      "/Product_societycycles.com_September2020.json.gz\n"
     ]
    },
    {
     "name": "stderr",
     "output_type": "stream",
     "text": [
      "\r",
      " 86% (1393 of 1614) |#################   | Elapsed Time: 0:02:37 ETA:   0:00:14"
     ]
    },
    {
     "name": "stdout",
     "output_type": "stream",
     "text": [
      "/Product_couchpotatocarpet.com_September2020.json.gz\n",
      "/Product_matek.net_September2020.json.gz\n",
      "/Product_thecyclingfix.com.au_September2020.json.gz\n",
      "/Product_mirocom.com.mx_September2020.json.gz\n",
      "/Product_truehardwoods.com_September2020.json.gz\n",
      "/Product_bikemasterscycling.com_September2020.json.gz\n",
      "/Product_essential-watches.com_September2020.json.gz\n"
     ]
    },
    {
     "name": "stderr",
     "output_type": "stream",
     "text": [
      " 86% (1399 of 1614) |#################   | Elapsed Time: 0:02:37 ETA:   0:00:11"
     ]
    },
    {
     "name": "stdout",
     "output_type": "stream",
     "text": [
      "/Product_avacab-online.com_September2020.json.gz\n",
      "/Product_soupstodesserts.com_September2020.json.gz\n",
      "/Product_sunlotusresource.com_September2020.json.gz\n",
      "/Product_shopdegroods.com_September2020.json.gz\n",
      "/Product_boulanger.com_September2020.json.gz\n"
     ]
    },
    {
     "name": "stderr",
     "output_type": "stream",
     "text": [
      "\r",
      " 86% (1400 of 1614) |#################   | Elapsed Time: 0:02:37 ETA:   0:00:14"
     ]
    },
    {
     "name": "stdout",
     "output_type": "stream",
     "text": [
      "/Product_samspc.com_September2020.json.gz\n",
      "/Product_vegashdtv.com_September2020.json.gz\n",
      "/Product_jrdunn.com_September2020.json.gz\n"
     ]
    },
    {
     "name": "stderr",
     "output_type": "stream",
     "text": [
      " 87% (1405 of 1614) |#################   | Elapsed Time: 0:02:38 ETA:   0:00:14"
     ]
    },
    {
     "name": "stdout",
     "output_type": "stream",
     "text": [
      "/Product_wanderstyles.com_September2020.json.gz\n",
      "/Product_tiendatr.com_September2020.json.gz\n",
      "/Product_trekbikessouthcarolina.com_September2020.json.gz\n"
     ]
    },
    {
     "name": "stderr",
     "output_type": "stream",
     "text": [
      " 87% (1408 of 1614) |#################   | Elapsed Time: 0:02:38 ETA:   0:00:15"
     ]
    },
    {
     "name": "stdout",
     "output_type": "stream",
     "text": [
      "/Product_olibodi.com_September2020.json.gz\n",
      "/Product_advanced-cycles.com_September2020.json.gz\n",
      "/Product_alteregosports.com_September2020.json.gz\n"
     ]
    },
    {
     "name": "stderr",
     "output_type": "stream",
     "text": [
      "\r",
      " 87% (1410 of 1614) |#################   | Elapsed Time: 0:02:38 ETA:   0:00:15"
     ]
    },
    {
     "name": "stdout",
     "output_type": "stream",
     "text": [
      "/Product_omc-objets-connectes.com_September2020.json.gz\n",
      "/Product_laybyland.com.au_September2020.json.gz\n",
      "/Product_naturalchoicepetfoods.co.uk_September2020.json.gz\n",
      "/Product_opticalh.com_September2020.json.gz\n"
     ]
    },
    {
     "name": "stderr",
     "output_type": "stream",
     "text": [
      " 87% (1416 of 1614) |#################   | Elapsed Time: 0:02:39 ETA:   0:00:18"
     ]
    },
    {
     "name": "stdout",
     "output_type": "stream",
     "text": [
      "/Product_securitycamexpert.com_September2020.json.gz\n",
      "/Product_hofapotheken.com_September2020.json.gz\n",
      "/Product_castleink.com_September2020.json.gz\n",
      "/Product_claytonflooringcenter.com_September2020.json.gz\n",
      "/Product_generator-pro.co.uk_September2020.json.gz\n",
      "/Product_kulaklik.com_September2020.json.gz\n"
     ]
    },
    {
     "name": "stderr",
     "output_type": "stream",
     "text": [
      " 88% (1422 of 1614) |#################   | Elapsed Time: 0:02:39 ETA:   0:00:14"
     ]
    },
    {
     "name": "stdout",
     "output_type": "stream",
     "text": [
      "/Product_stingersupplements.com_September2020.json.gz\n",
      "/Product_yakadventure.com.mx_September2020.json.gz\n",
      "/Product_stpetebicycleandfitness.com_September2020.json.gz\n",
      "/Product_rent2business.com_September2020.json.gz\n",
      "/Product_deltaoutdoors.com_September2020.json.gz\n",
      "/Product_hairbymeniaq.com_September2020.json.gz\n"
     ]
    },
    {
     "name": "stderr",
     "output_type": "stream",
     "text": [
      "\r",
      " 88% (1425 of 1614) |#################   | Elapsed Time: 0:02:39 ETA:   0:00:14"
     ]
    },
    {
     "name": "stdout",
     "output_type": "stream",
     "text": [
      "/Product_hypop.com.au_September2020.json.gz\n",
      "/Product_myshopify.com_September2020.json.gz\n"
     ]
    },
    {
     "name": "stderr",
     "output_type": "stream",
     "text": [
      "\r",
      " 88% (1427 of 1614) |#################   | Elapsed Time: 0:03:04 ETA:   0:39:08"
     ]
    },
    {
     "name": "stdout",
     "output_type": "stream",
     "text": [
      "/Product_manhattanrunningco.com_September2020.json.gz\n"
     ]
    },
    {
     "name": "stderr",
     "output_type": "stream",
     "text": [
      " 88% (1430 of 1614) |#################   | Elapsed Time: 0:03:05 ETA:   0:15:40"
     ]
    },
    {
     "name": "stdout",
     "output_type": "stream",
     "text": [
      "/Product_gibbelhome.com_September2020.json.gz\n",
      "/Product_askforthewolfman.com_September2020.json.gz\n",
      "/Product_gorhambike.com_September2020.json.gz\n"
     ]
    },
    {
     "name": "stderr",
     "output_type": "stream",
     "text": [
      " 88% (1433 of 1614) |#################   | Elapsed Time: 0:03:05 ETA:   0:09:45"
     ]
    },
    {
     "name": "stdout",
     "output_type": "stream",
     "text": [
      "/Product_motoliberty.com_September2020.json.gz\n",
      "/Product_greatdividecyclery.com_September2020.json.gz\n",
      "/Product_stylefairyboutique.co.uk_September2020.json.gz\n",
      "/Product_lasvegascyclery.com_September2020.json.gz\n"
     ]
    },
    {
     "name": "stderr",
     "output_type": "stream",
     "text": [
      " 88% (1436 of 1614) |#################   | Elapsed Time: 0:03:05 ETA:   0:07:05"
     ]
    },
    {
     "name": "stdout",
     "output_type": "stream",
     "text": [
      "/Product_scubadoctor.com.au_September2020.json.gz\n",
      "/Product_melbournemarine.com.au_September2020.json.gz\n"
     ]
    },
    {
     "name": "stderr",
     "output_type": "stream",
     "text": [
      "\r",
      " 89% (1439 of 1614) |#################   | Elapsed Time: 0:03:05 ETA:   0:05:30"
     ]
    },
    {
     "name": "stdout",
     "output_type": "stream",
     "text": [
      "/Product_fortespyproductions.com_September2020.json.gz\n",
      "/Product_guygunterhome.com_September2020.json.gz\n",
      "/Product_3dlipoeastbourne.com_September2020.json.gz\n",
      "/Product_eu.com_September2020.json.gz\n"
     ]
    },
    {
     "name": "stderr",
     "output_type": "stream",
     "text": [
      " 89% (1444 of 1614) |#################   | Elapsed Time: 0:03:06 ETA:   0:04:00"
     ]
    },
    {
     "name": "stdout",
     "output_type": "stream",
     "text": [
      "/Product_pskmegastore.com_September2020.json.gz\n",
      "/Product_5thaveshop.com_September2020.json.gz\n",
      "/Product_danvillebikes.com_September2020.json.gz\n",
      "/Product_masterc.co.uk_September2020.json.gz\n",
      "/Product_foreverabrave.com_September2020.json.gz\n"
     ]
    },
    {
     "name": "stderr",
     "output_type": "stream",
     "text": [
      " 89% (1448 of 1614) |#################   | Elapsed Time: 0:03:06 ETA:   0:03:15"
     ]
    },
    {
     "name": "stdout",
     "output_type": "stream",
     "text": [
      "/Product_vichy-lb.com_September2020.json.gz\n",
      "/Product_voitektv.com_September2020.json.gz\n",
      "/Product_latuacartuccia.com_September2020.json.gz\n",
      "/Product_raeofsunshinelife.com_September2020.json.gz\n"
     ]
    },
    {
     "name": "stderr",
     "output_type": "stream",
     "text": [
      " 90% (1453 of 1614) |##################  | Elapsed Time: 0:03:06 ETA:   0:00:13"
     ]
    },
    {
     "name": "stdout",
     "output_type": "stream",
     "text": [
      "/Product_devoraprecios.com_September2020.json.gz\n",
      "/Product_hornessafetysolutions.com_September2020.json.gz\n",
      "/Product_countrysidecarpetandpaint.com_September2020.json.gz\n",
      "/Product_feldmarwatch.com_September2020.json.gz\n",
      "/Product_waltscycle.com_September2020.json.gz\n",
      "/Product_perfumescanarias.com_September2020.json.gz\n",
      "/Product_thevelolove.com_September2020.json.gz\n"
     ]
    },
    {
     "name": "stderr",
     "output_type": "stream",
     "text": [
      "\r",
      " 90% (1457 of 1614) |##################  | Elapsed Time: 0:03:07 ETA:   0:00:11"
     ]
    },
    {
     "name": "stdout",
     "output_type": "stream",
     "text": [
      "/Product_lemcketvandappliances.com_September2020.json.gz\n",
      "/Product_target.com_September2020.json.gz\n"
     ]
    },
    {
     "name": "stderr",
     "output_type": "stream",
     "text": [
      " 90% (1461 of 1614) |##################  | Elapsed Time: 0:03:07 ETA:   0:00:11"
     ]
    },
    {
     "name": "stdout",
     "output_type": "stream",
     "text": [
      "/Product_kreggers.com_September2020.json.gz\n",
      "/Product_myhealthywoe.com_September2020.json.gz\n",
      "/Product_wachusettliquors.com_September2020.json.gz\n"
     ]
    },
    {
     "name": "stderr",
     "output_type": "stream",
     "text": [
      " 90% (1465 of 1614) |##################  | Elapsed Time: 0:03:07 ETA:   0:00:11"
     ]
    },
    {
     "name": "stdout",
     "output_type": "stream",
     "text": [
      "/Product_fotokungen.com_September2020.json.gz\n",
      "/Product_rappi.com.mx_September2020.json.gz\n",
      "/Product_worldwidecyclery.com_September2020.json.gz\n",
      "/Product_wipoid.com_September2020.json.gz\n"
     ]
    },
    {
     "name": "stderr",
     "output_type": "stream",
     "text": [
      "\r",
      " 90% (1468 of 1614) |##################  | Elapsed Time: 0:03:08 ETA:   0:00:11"
     ]
    },
    {
     "name": "stdout",
     "output_type": "stream",
     "text": [
      "/Product_shopatcentral.com_September2020.json.gz\n",
      "/Product_kozy.com_September2020.json.gz\n",
      "/Product_btfurnishings.com_September2020.json.gz\n",
      "/Product_cyclecraft.com_September2020.json.gz\n"
     ]
    },
    {
     "name": "stderr",
     "output_type": "stream",
     "text": [
      " 91% (1473 of 1614) |##################  | Elapsed Time: 0:03:08 ETA:   0:00:10"
     ]
    },
    {
     "name": "stdout",
     "output_type": "stream",
     "text": [
      "/Product_gohermitage.com_September2020.json.gz\n",
      "/Product_theworkwearstore.com_September2020.json.gz\n",
      "/Product_feelgoodfloors.com_September2020.json.gz\n",
      "/Product_gioielleriapaschetta.com_September2020.json.gz\n",
      "/Product_firkinscj.com_September2020.json.gz\n",
      "/Product_drogaraia.com.br_September2020.json.gz\n"
     ]
    },
    {
     "name": "stderr",
     "output_type": "stream",
     "text": [
      " 91% (1479 of 1614) |##################  | Elapsed Time: 0:03:08 ETA:   0:00:09"
     ]
    },
    {
     "name": "stdout",
     "output_type": "stream",
     "text": [
      "/Product_polinadcd.com_September2020.json.gz\n",
      "/Product_artsappliance.com_September2020.json.gz\n",
      "/Product_jaclot.com_September2020.json.gz\n",
      "/Product_bicyclesetc-il.com_September2020.json.gz\n"
     ]
    },
    {
     "name": "stderr",
     "output_type": "stream",
     "text": [
      " 91% (1482 of 1614) |##################  | Elapsed Time: 0:03:09 ETA:   0:00:11"
     ]
    },
    {
     "name": "stdout",
     "output_type": "stream",
     "text": [
      "/Product_arrocha.com_September2020.json.gz\n",
      "/Product_vntch.com_September2020.json.gz\n",
      "/Product_bustersliquors.com_September2020.json.gz\n"
     ]
    },
    {
     "name": "stderr",
     "output_type": "stream",
     "text": [
      " 92% (1486 of 1614) |##################  | Elapsed Time: 0:03:09 ETA:   0:00:10"
     ]
    },
    {
     "name": "stdout",
     "output_type": "stream",
     "text": [
      "/Product_916floors.com_September2020.json.gz\n",
      "/Product_mainstreetfloorcoveringvermont.com_September2020.json.gz\n",
      "/Product_dogisgood.com_September2020.json.gz\n",
      "/Product_howlinbayfield.com_September2020.json.gz\n",
      "/Product_cccarpet.com_September2020.json.gz\n"
     ]
    },
    {
     "name": "stderr",
     "output_type": "stream",
     "text": [
      " 92% (1489 of 1614) |##################  | Elapsed Time: 0:03:09 ETA:   0:00:09"
     ]
    },
    {
     "name": "stdout",
     "output_type": "stream",
     "text": [
      "/Product_quickhard.com_September2020.json.gz\n",
      "/Product_dexterclearance.com_September2020.json.gz\n",
      "/Product_hughiewillett.co.uk_September2020.json.gz\n"
     ]
    },
    {
     "name": "stderr",
     "output_type": "stream",
     "text": [
      " 92% (1493 of 1614) |##################  | Elapsed Time: 0:03:09 ETA:   0:00:08"
     ]
    },
    {
     "name": "stdout",
     "output_type": "stream",
     "text": [
      "/Product_robertsonsofpitlochry.co.uk_September2020.json.gz\n",
      "/Product_kew.org_September2020.json.gz\n",
      "/Product_zotim.com.au_September2020.json.gz\n",
      "/Product_zegarek.net_September2020.json.gz\n"
     ]
    },
    {
     "name": "stderr",
     "output_type": "stream",
     "text": [
      "\r",
      " 92% (1495 of 1614) |##################  | Elapsed Time: 0:03:10 ETA:   0:00:11"
     ]
    },
    {
     "name": "stdout",
     "output_type": "stream",
     "text": [
      "/Product_newrxpharma.com_September2020.json.gz\n",
      "/Product_tlminternational.com_September2020.json.gz\n",
      "/Product_stonemandouglasband.com_September2020.json.gz\n",
      "/Product_tuckahoebikeshop.com_September2020.json.gz\n"
     ]
    },
    {
     "name": "stderr",
     "output_type": "stream",
     "text": [
      " 93% (1503 of 1614) |##################  | Elapsed Time: 0:03:10 ETA:   0:00:09"
     ]
    },
    {
     "name": "stdout",
     "output_type": "stream",
     "text": [
      "/Product_nafgroupbd.com_September2020.json.gz\n",
      "/Product_pingpongpower.co.uk_September2020.json.gz\n",
      "/Product_drinkplg.com_September2020.json.gz\n",
      "/Product_theavstore.com.au_September2020.json.gz\n",
      "/Product_toymazecollectibles.com_September2020.json.gz\n",
      "/Product_shootknekt.com_September2020.json.gz\n",
      "/Product_personalsecuritydepot.com_September2020.json.gz\n"
     ]
    },
    {
     "name": "stderr",
     "output_type": "stream",
     "text": [
      " 93% (1508 of 1614) |##################  | Elapsed Time: 0:03:11 ETA:   0:00:08"
     ]
    },
    {
     "name": "stdout",
     "output_type": "stream",
     "text": [
      "/Product_goprointeriorsinc.com_September2020.json.gz\n",
      "/Product_compusales.com.mx_September2020.json.gz\n",
      "/Product_mczdirect.com_September2020.json.gz\n"
     ]
    },
    {
     "name": "stderr",
     "output_type": "stream",
     "text": [
      "\r",
      " 93% (1509 of 1614) |##################  | Elapsed Time: 0:03:11 ETA:   0:00:08"
     ]
    },
    {
     "name": "stdout",
     "output_type": "stream",
     "text": [
      "/Product_tacwrk.com_September2020.json.gz\n",
      "/Product_brucescycleworks.com_September2020.json.gz\n"
     ]
    },
    {
     "name": "stderr",
     "output_type": "stream",
     "text": [
      " 93% (1512 of 1614) |##################  | Elapsed Time: 0:03:11 ETA:   0:00:08"
     ]
    },
    {
     "name": "stdout",
     "output_type": "stream",
     "text": [
      "/Product_backyardsupplydecor.com_September2020.json.gz\n",
      "/Product_racepacebicycles.com_September2020.json.gz\n"
     ]
    },
    {
     "name": "stderr",
     "output_type": "stream",
     "text": [
      " 93% (1516 of 1614) |##################  | Elapsed Time: 0:03:11 ETA:   0:00:08"
     ]
    },
    {
     "name": "stdout",
     "output_type": "stream",
     "text": [
      "/Product_farmaciatorrent.com_September2020.json.gz\n",
      "/Product_malmomusikaffar.com_September2020.json.gz\n",
      "/Product_valuediscountflooring.com_September2020.json.gz\n",
      "/Product_jetstore.com.mx_September2020.json.gz\n",
      "/Product_ray-ban.com_September2020.json.gz\n"
     ]
    },
    {
     "name": "stderr",
     "output_type": "stream",
     "text": [
      "\r",
      " 94% (1518 of 1614) |##################  | Elapsed Time: 0:03:12 ETA:   0:00:08"
     ]
    },
    {
     "name": "stdout",
     "output_type": "stream",
     "text": [
      "/Product_karkkainen.com_September2020.json.gz\n"
     ]
    },
    {
     "name": "stderr",
     "output_type": "stream",
     "text": [
      " 94% (1522 of 1614) |##################  | Elapsed Time: 0:03:12 ETA:   0:00:08"
     ]
    },
    {
     "name": "stdout",
     "output_type": "stream",
     "text": [
      "/Product_planggersfurniture.com_September2020.json.gz\n",
      "/Product_thegadgetcompany.com_September2020.json.gz\n",
      "/Product_futuromic.com_September2020.json.gz\n",
      "/Product_byluxedesign.com_September2020.json.gz\n",
      "/Product_drogariasaopaulo.com.br_September2020.json.gz\n"
     ]
    },
    {
     "name": "stderr",
     "output_type": "stream",
     "text": [
      " 94% (1526 of 1614) |##################  | Elapsed Time: 0:03:13 ETA:   0:00:09"
     ]
    },
    {
     "name": "stdout",
     "output_type": "stream",
     "text": [
      "/Product_millworksupplyinc.com_September2020.json.gz\n",
      "/Product_henlopenappliance.com_September2020.json.gz\n",
      "/Product_radbitz.com_September2020.json.gz\n",
      "/Product_mikramix.com_September2020.json.gz\n"
     ]
    },
    {
     "name": "stderr",
     "output_type": "stream",
     "text": [
      " 94% (1531 of 1614) |##################  | Elapsed Time: 0:03:13 ETA:   0:00:07"
     ]
    },
    {
     "name": "stdout",
     "output_type": "stream",
     "text": [
      "/Product_n1wireless.com_September2020.json.gz\n",
      "/Product_meerab-industries.com_September2020.json.gz\n",
      "/Product_gunemporium.com.au_September2020.json.gz\n",
      "/Product_appliancecorner.com_September2020.json.gz\n",
      "/Product_shopmtn.com_September2020.json.gz\n"
     ]
    },
    {
     "name": "stderr",
     "output_type": "stream",
     "text": [
      " 95% (1535 of 1614) |################### | Elapsed Time: 0:03:13 ETA:   0:00:06"
     ]
    },
    {
     "name": "stdout",
     "output_type": "stream",
     "text": [
      "/Product_yeucongngheso.com_September2020.json.gz\n",
      "/Product_multinetwork.com.br_September2020.json.gz\n",
      "/Product_izschwartzappliance.com_September2020.json.gz\n",
      "/Product_compedgebikes.com_September2020.json.gz\n"
     ]
    },
    {
     "name": "stderr",
     "output_type": "stream",
     "text": [
      " 95% (1539 of 1614) |################### | Elapsed Time: 0:03:13 ETA:   0:00:06"
     ]
    },
    {
     "name": "stdout",
     "output_type": "stream",
     "text": [
      "/Product_i-sklep.com.pl_September2020.json.gz\n",
      "/Product_it-dealers.com_September2020.json.gz\n",
      "/Product_avaneb.com_September2020.json.gz\n"
     ]
    },
    {
     "name": "stderr",
     "output_type": "stream",
     "text": [
      " 95% (1543 of 1614) |################### | Elapsed Time: 0:03:14 ETA:   0:00:06"
     ]
    },
    {
     "name": "stdout",
     "output_type": "stream",
     "text": [
      "/Product_swisswatchesdirect.co.uk_September2020.json.gz\n",
      "/Product_ellipsesecurity.com_September2020.json.gz\n",
      "/Product_jaclem.com_September2020.json.gz\n",
      "/Product_surfstitch.com_September2020.json.gz\n"
     ]
    },
    {
     "name": "stderr",
     "output_type": "stream",
     "text": [
      " 95% (1546 of 1614) |################### | Elapsed Time: 0:03:14 ETA:   0:00:05"
     ]
    },
    {
     "name": "stdout",
     "output_type": "stream",
     "text": [
      "/Product_goodsell2me.com_September2020.json.gz\n",
      "/Product_cottinghamtile.com_September2020.json.gz\n",
      "/Product_istanbulsaat.com.tr_September2020.json.gz\n",
      "/Product_shop4ph.com_September2020.json.gz\n"
     ]
    },
    {
     "name": "stderr",
     "output_type": "stream",
     "text": [
      "\r",
      " 95% (1548 of 1614) |################### | Elapsed Time: 0:03:14 ETA:   0:00:05"
     ]
    },
    {
     "name": "stdout",
     "output_type": "stream",
     "text": [
      "/Product_prodirectselect.com_September2020.json.gz\n"
     ]
    },
    {
     "name": "stderr",
     "output_type": "stream",
     "text": [
      " 96% (1551 of 1614) |################### | Elapsed Time: 0:03:15 ETA:   0:00:05"
     ]
    },
    {
     "name": "stdout",
     "output_type": "stream",
     "text": [
      "/Product_swissgbic.com_September2020.json.gz\n",
      "/Product_kens-nursery.com_September2020.json.gz\n",
      "/Product_americarpetsoflayton.com_September2020.json.gz\n"
     ]
    },
    {
     "name": "stderr",
     "output_type": "stream",
     "text": [
      " 96% (1555 of 1614) |################### | Elapsed Time: 0:03:15 ETA:   0:00:04"
     ]
    },
    {
     "name": "stdout",
     "output_type": "stream",
     "text": [
      "/Product_trekspringhill.com_September2020.json.gz\n",
      "/Product_fjariltech.com_September2020.json.gz\n",
      "/Product_datablitz.com.ph_September2020.json.gz\n",
      "/Product_westhillshop.com_September2020.json.gz\n"
     ]
    },
    {
     "name": "stderr",
     "output_type": "stream",
     "text": [
      " 96% (1559 of 1614) |################### | Elapsed Time: 0:03:15 ETA:   0:00:04"
     ]
    },
    {
     "name": "stdout",
     "output_type": "stream",
     "text": [
      "/Product_donperro.com.co_September2020.json.gz\n",
      "/Product_fluidvaper.com_September2020.json.gz\n",
      "/Product_fullcirclecycleorlando.com_September2020.json.gz\n",
      "/Product_rogerheaton.co.uk_September2020.json.gz\n"
     ]
    },
    {
     "name": "stderr",
     "output_type": "stream",
     "text": [
      " 96% (1563 of 1614) |################### | Elapsed Time: 0:03:15 ETA:   0:00:04"
     ]
    },
    {
     "name": "stdout",
     "output_type": "stream",
     "text": [
      "/Product_precisioncomputerstore.com.au_September2020.json.gz\n",
      "/Product_thetvbar.com_September2020.json.gz\n",
      "/Product_purepara.com_September2020.json.gz\n",
      "/Product_bosworthsonline.co.uk_September2020.json.gz\n"
     ]
    },
    {
     "name": "stderr",
     "output_type": "stream",
     "text": [
      " 97% (1567 of 1614) |################### | Elapsed Time: 0:03:16 ETA:   0:00:03"
     ]
    },
    {
     "name": "stdout",
     "output_type": "stream",
     "text": [
      "/Product_gearupcyclery.com_September2020.json.gz\n",
      "/Product_fwcycling.com_September2020.json.gz\n",
      "/Product_completestoves.co.uk_September2020.json.gz\n",
      "/Product_yourflooringwarehouse.com_September2020.json.gz\n"
     ]
    },
    {
     "name": "stderr",
     "output_type": "stream",
     "text": [
      " 97% (1573 of 1614) |################### | Elapsed Time: 0:03:16 ETA:   0:00:03"
     ]
    },
    {
     "name": "stdout",
     "output_type": "stream",
     "text": [
      "/Product_justrunning.com.au_September2020.json.gz\n",
      "/Product_dsiselfdefense.com_September2020.json.gz\n",
      "/Product_lilliputhomedesigns.com_September2020.json.gz\n",
      "/Product_cyclesgervaisrioux.com_September2020.json.gz\n",
      "/Product_system1it.com_September2020.json.gz\n",
      "/Product_eskincarestore.com_September2020.json.gz\n"
     ]
    },
    {
     "name": "stderr",
     "output_type": "stream",
     "text": [
      "\r",
      " 97% (1576 of 1614) |################### | Elapsed Time: 0:03:16 ETA:   0:00:02"
     ]
    },
    {
     "name": "stdout",
     "output_type": "stream",
     "text": [
      "/Product_mitchellsfurnitureandflooring.com_September2020.json.gz\n",
      "/Product_cameradongduong.com_September2020.json.gz\n",
      "/Product_discounterspoolandspa.com_September2020.json.gz\n",
      "/Product_jbl.com.sg_September2020.json.gz\n",
      "/Product_completelyfloored.com_September2020.json.gz\n"
     ]
    },
    {
     "name": "stderr",
     "output_type": "stream",
     "text": [
      "\r",
      " 97% (1579 of 1614) |################### | Elapsed Time: 0:03:16 ETA:   0:00:02"
     ]
    },
    {
     "name": "stdout",
     "output_type": "stream",
     "text": [
      "/Product_themuzzleshop.com_September2020.json.gz\n",
      "/Product_frojo.com_September2020.json.gz\n",
      "/Product_watchportal.com.ph_September2020.json.gz\n"
     ]
    },
    {
     "name": "stderr",
     "output_type": "stream",
     "text": [
      "\r",
      " 98% (1582 of 1614) |################### | Elapsed Time: 0:03:16 ETA:   0:00:02"
     ]
    },
    {
     "name": "stdout",
     "output_type": "stream",
     "text": [
      "/Product_bicyclesportsinc.com_September2020.json.gz\n",
      "/Product_linio.com.co_September2020.json.gz\n"
     ]
    },
    {
     "name": "stderr",
     "output_type": "stream",
     "text": [
      " 98% (1586 of 1614) |################### | Elapsed Time: 0:03:17 ETA:   0:00:01"
     ]
    },
    {
     "name": "stdout",
     "output_type": "stream",
     "text": [
      "/Product_vicnic.com_September2020.json.gz\n",
      "/Product_qorbeauty.com_September2020.json.gz\n",
      "/Product_gunas10.com_September2020.json.gz\n",
      "/Product_thewatchhut.co.uk_September2020.json.gz\n"
     ]
    },
    {
     "name": "stderr",
     "output_type": "stream",
     "text": [
      " 98% (1590 of 1614) |################### | Elapsed Time: 0:03:17 ETA:   0:00:01"
     ]
    },
    {
     "name": "stdout",
     "output_type": "stream",
     "text": [
      "/Product_jhutechstore.com_September2020.json.gz\n",
      "/Product_akademimuzik.com.tr_September2020.json.gz\n",
      "/Product_appliancestoresandiego.com_September2020.json.gz\n",
      "/Product_zeppgear.com.au_September2020.json.gz\n"
     ]
    },
    {
     "name": "stderr",
     "output_type": "stream",
     "text": [
      " 98% (1594 of 1614) |################### | Elapsed Time: 0:03:18 ETA:   0:00:01"
     ]
    },
    {
     "name": "stdout",
     "output_type": "stream",
     "text": [
      "/Product_sportaixtrem.com_September2020.json.gz\n",
      "/Product_simurghbakery.com_September2020.json.gz\n",
      "/Product_woononapetfoods.com.au_September2020.json.gz\n",
      "/Product_a-sec.com_September2020.json.gz\n",
      "/Product_imaginethatboutique.com_September2020.json.gz\n"
     ]
    },
    {
     "name": "stderr",
     "output_type": "stream",
     "text": [
      " 99% (1599 of 1614) |################### | Elapsed Time: 0:03:18 ETA:   0:00:01"
     ]
    },
    {
     "name": "stdout",
     "output_type": "stream",
     "text": [
      "/Product_yay.com_September2020.json.gz\n",
      "/Product_thewholisticpet.com_September2020.json.gz\n",
      "/Product_parapharmacie-et-medicament.com_September2020.json.gz\n",
      "/Product_travinautic.com_September2020.json.gz\n"
     ]
    },
    {
     "name": "stderr",
     "output_type": "stream",
     "text": [
      "\r",
      " 99% (1603 of 1614) |################### | Elapsed Time: 0:03:18 ETA:   0:00:00"
     ]
    },
    {
     "name": "stdout",
     "output_type": "stream",
     "text": [
      "/Product_gruntgoattactical.com_September2020.json.gz\n",
      "/Product_arrowbicycle.com_September2020.json.gz\n",
      "/Product_joyride-cycles.com_September2020.json.gz\n",
      "/Product_rochus-apotheke.net_September2020.json.gz\n",
      "/Product_luxamart.com_September2020.json.gz\n",
      "/Product_cartridge24.co.uk_September2020.json.gz\n"
     ]
    },
    {
     "name": "stderr",
     "output_type": "stream",
     "text": [
      " 99% (1609 of 1614) |################### | Elapsed Time: 0:03:18 ETA:   0:00:00"
     ]
    },
    {
     "name": "stdout",
     "output_type": "stream",
     "text": [
      "/Product_cartier.co.uk_September2020.json.gz\n",
      "/Product_russellmarineproducts.com_September2020.json.gz\n",
      "/Product_zoominformatica.com_September2020.json.gz\n",
      "/Product_caretobeauty.com_September2020.json.gz\n"
     ]
    },
    {
     "name": "stderr",
     "output_type": "stream",
     "text": [
      "100% (1614 of 1614) |####################| Elapsed Time: 0:03:19 Time:  0:03:19\n"
     ]
    },
    {
     "name": "stdout",
     "output_type": "stream",
     "text": [
      "/Product_marchands.net_September2020.json.gz\n",
      "/Product_odsi.co.uk_September2020.json.gz\n",
      "/Product_malinandgoetz.com_September2020.json.gz\n"
     ]
    }
   ],
   "source": [
    "#clean mapping files and save them again\n",
    "# then use the cleaned tables to append into a series and the get a dataframe from that\n",
    "count = 0\n",
    "train_representation=[] #representation of whole training set\n",
    "with progressbar.ProgressBar(max_value=len(files_representation_train)) as bar:\n",
    "    for zip_file in files_representation_train:\n",
    "        print('/{}'.format(zip_file))\n",
    "        df = pd.read_json(os.path.join(train_test_all_filtered_path,'train') + '/{}'.format(zip_file), compression='gzip', lines=True)\n",
    "        if ('description' in df.columns)== False: # check if description column given\n",
    "            df['description'] = ''\n",
    "        df['header']=''#empty string for headers\n",
    "        table_representation = [] #empty list for table\n",
    "        table_representation.append(zip_file)#append table id\n",
    "        table_representation.append('')#append page title -> not relevant\n",
    "        table_representation.append('')#append wikipedia page id -> not given\n",
    "        table_representation.append('')#append information about entity -> product, not relevant since same for all tables\n",
    "        table_representation.append('')#append table caption -> not given\n",
    "        table_representation.append(df['header'].to_list()) #append headers -> not sure if we should do that\n",
    "        all_rows_representation = []#representation of all rows\n",
    "        for i in range(len(df)):\n",
    "            row_representation=[] # cell representation of single row\n",
    "            row_representation.append([[0,i],[df['row_id'][i],str(df['name'][i])]])\n",
    "            row_representation.append([[1,i],[df['row_id'][i],str(df['description'][i])]])\n",
    "            all_rows_representation.append(row_representation) #append single cell representation to representation of all rows\n",
    "        table_representation.append(all_rows_representation)#append it to representation of whole table\n",
    "        train_representation.append(table_representation)\n",
    "        count += 1\n",
    "        bar.update(count)"
   ]
  },
  {
   "cell_type": "code",
   "execution_count": 6,
   "id": "88d3b9f9",
   "metadata": {},
   "outputs": [],
   "source": [
    "with open(os.path.join(turl_input_path, 'train_representation.txt'), \"wb\") as fp:  #Pickling\n",
    "    pickle.dump(train_representation, fp)"
   ]
  },
  {
   "cell_type": "code",
   "execution_count": 7,
   "id": "9f24c135",
   "metadata": {},
   "outputs": [],
   "source": [
    "with open(os.path.join(turl_input_path, 'train_representation.txt'), \"rb\") as fp:   # Unpickling\n",
    "    train_representation = pickle.load(fp)"
   ]
  }
 ],
 "metadata": {
  "kernelspec": {
   "display_name": "Python 3 (ipykernel)",
   "language": "python",
   "name": "python3"
  },
  "language_info": {
   "codemirror_mode": {
    "name": "ipython",
    "version": 3
   },
   "file_extension": ".py",
   "mimetype": "text/x-python",
   "name": "python",
   "nbconvert_exporter": "python",
   "pygments_lexer": "ipython3",
   "version": "3.8.8"
  }
 },
 "nbformat": 4,
 "nbformat_minor": 5
}
