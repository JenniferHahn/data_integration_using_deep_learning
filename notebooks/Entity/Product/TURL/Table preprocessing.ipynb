{
 "cells": [
  {
   "cell_type": "code",
   "execution_count": 1,
   "id": "c998e455",
   "metadata": {},
   "outputs": [],
   "source": [
    "import pandas as pd\n",
    "import json \n",
    "import gzip\n",
    "import os\n",
    "import re as regex\n",
    "import progressbar\n",
    "import pickle"
   ]
  },
  {
   "cell_type": "code",
   "execution_count": 16,
   "id": "4b446158",
   "metadata": {},
   "outputs": [],
   "source": [
    "product_path = '../../../../src/data/product'\n",
    "train_test_all_filtered_path = os.path.join(product_path, 'train_test_split/output_unfiltered_tables/large/after_manual_checking')\n",
    "files_representation_train = [file for file in os.listdir(os.path.join(train_test_all_filtered_path,'test')) if file.endswith('.json.gz')]\n",
    "turl_input_path = os.path.join(product_path, 'TURL/input')"
   ]
  },
  {
   "cell_type": "code",
   "execution_count": 17,
   "id": "04f3f2e1",
   "metadata": {},
   "outputs": [
    {
     "data": {
      "text/plain": [
       "['Product_sixtysixtysounds.com_September2020.json.gz',\n",
       " 'Product_ahorroimprimiendo.com_September2020.json.gz',\n",
       " 'Product_watch4usale.com_September2020.json.gz',\n",
       " 'Product_novmak.com_September2020.json.gz',\n",
       " 'Product_camtecphoto.com_September2020.json.gz',\n",
       " 'Product_reveresecurity.com_September2020.json.gz',\n",
       " 'Product_comboink.com_September2020.json.gz',\n",
       " 'Product_roobol.com_September2020.json.gz',\n",
       " 'Product_roysbikes.com_September2020.json.gz',\n",
       " 'Product_weaverscarpet.com_September2020.json.gz',\n",
       " 'Product_louisianarunning.com_September2020.json.gz',\n",
       " 'Product_torichristgen.com_September2020.json.gz',\n",
       " 'Product_heathflooring.com_September2020.json.gz',\n",
       " 'Product_yudinsappliances.com_September2020.json.gz',\n",
       " 'Product_velopro.com_September2020.json.gz',\n",
       " 'Product_billmans.com_September2020.json.gz',\n",
       " 'Product_frenshmo.com.au_September2020.json.gz',\n",
       " 'Product_kinetikcycles.com_September2020.json.gz',\n",
       " 'Product_beandcare.com_September2020.json.gz',\n",
       " 'Product_welovetec.com_September2020.json.gz',\n",
       " 'Product_idefix.com_September2020.json.gz',\n",
       " 'Product_bikebarnaz.com_September2020.json.gz',\n",
       " 'Product_bobbaileys.com_September2020.json.gz',\n",
       " 'Product_farmabimbi.com_September2020.json.gz',\n",
       " 'Product_supplementwarehouse.com_September2020.json.gz',\n",
       " 'Product_dealsaday.com_September2020.json.gz',\n",
       " 'Product_hollisterhomecenter.com_September2020.json.gz',\n",
       " 'Product_canvasskin.com.co_September2020.json.gz',\n",
       " 'Product_allstarbikeshop.com_September2020.json.gz',\n",
       " 'Product_petcentralgander.com_September2020.json.gz',\n",
       " 'Product_parentgiving.com_September2020.json.gz',\n",
       " 'Product_techboxs.org_September2020.json.gz',\n",
       " 'Product_dedhambike.com_September2020.json.gz',\n",
       " 'Product_arizonawholesalefloors.com_September2020.json.gz',\n",
       " 'Product_northdivision.com_September2020.json.gz',\n",
       " 'Product_awcycles.co.uk_September2020.json.gz',\n",
       " 'Product_remelectriconline.com_September2020.json.gz',\n",
       " 'Product_installershub.co.uk_September2020.json.gz',\n",
       " 'Product_trekbikesmississauga.com_September2020.json.gz',\n",
       " 'Product_simplyforlife.com_September2020.json.gz',\n",
       " 'Product_ezfloorz.com_September2020.json.gz',\n",
       " 'Product_cyclingconcepts.com_September2020.json.gz',\n",
       " 'Product_waynecyclery.com_September2020.json.gz',\n",
       " 'Product_socksforliving.com.au_September2020.json.gz',\n",
       " 'Product_spiffymutt.com_September2020.json.gz',\n",
       " 'Product_b3kdigital.com_September2020.json.gz',\n",
       " 'Product_atlantacycling.com_September2020.json.gz',\n",
       " 'Product_dbs-impressions.com_September2020.json.gz',\n",
       " 'Product_thewatchbox.com_September2020.json.gz',\n",
       " 'Product_petalsbyrobyn.com_September2020.json.gz',\n",
       " 'Product_michaels.com_September2020.json.gz',\n",
       " 'Product_sdjsports.com_September2020.json.gz',\n",
       " 'Product_gogameshop.com_September2020.json.gz',\n",
       " 'Product_ml-toner.com_September2020.json.gz',\n",
       " 'Product_valueflooringonline.com_September2020.json.gz',\n",
       " 'Product_mywatchescorner.com_September2020.json.gz',\n",
       " 'Product_storemonaco.com_September2020.json.gz',\n",
       " 'Product_pcglobal.com.pe_September2020.json.gz',\n",
       " 'Product_cycleak.com_September2020.json.gz',\n",
       " 'Product_kensphilodendrons.com_September2020.json.gz',\n",
       " 'Product_dekohrevents.com_September2020.json.gz',\n",
       " 'Product_cocooncenter.co.uk_September2020.json.gz',\n",
       " 'Product_centreduvelo.com_September2020.json.gz',\n",
       " 'Product_faitein.com_September2020.json.gz',\n",
       " 'Product_dwinteriorsinc.net_September2020.json.gz',\n",
       " 'Product_agpgroupe.com_September2020.json.gz',\n",
       " 'Product_turtechstore.com_September2020.json.gz',\n",
       " 'Product_mahlanders.com_September2020.json.gz',\n",
       " 'Product_gunas3.com_September2020.json.gz',\n",
       " 'Product_srsmicrosystems.co.uk_September2020.json.gz',\n",
       " 'Product_chavisfurniture.com_September2020.json.gz',\n",
       " 'Product_sepshoe.com_September2020.json.gz',\n",
       " 'Product_dulcesenda.com_September2020.json.gz',\n",
       " 'Product_mysprintcart.com_September2020.json.gz',\n",
       " 'Product_liquorbank.com.au_September2020.json.gz',\n",
       " 'Product_4mac.com_September2020.json.gz',\n",
       " 'Product_pedalonline.com_September2020.json.gz',\n",
       " 'Product_citys-bg.com_September2020.json.gz',\n",
       " 'Product_intel.com.au_September2020.json.gz',\n",
       " 'Product_bulcom2000.com_September2020.json.gz',\n",
       " 'Product_totallychocolate.com_September2020.json.gz',\n",
       " 'Product_waterloobikeshop.com_September2020.json.gz',\n",
       " 'Product_johnhenrybikes.com_September2020.json.gz',\n",
       " 'Product_forcekiteandwake.com_September2020.json.gz',\n",
       " 'Product_todaysfurnitureonline.com_September2020.json.gz',\n",
       " 'Product_siabyte.com_September2020.json.gz',\n",
       " 'Product_powersante.com_September2020.json.gz',\n",
       " 'Product_rcwilley.com_September2020.json.gz',\n",
       " 'Product_bikeforlife.com.br_September2020.json.gz',\n",
       " 'Product_jwright.com_September2020.json.gz',\n",
       " 'Product_vatanbilgisayar.com_September2020.json.gz',\n",
       " 'Product_peterjackson.co.uk_September2020.json.gz',\n",
       " 'Product_aspenartmuseum.org_September2020.json.gz',\n",
       " 'Product_saucey.com_September2020.json.gz',\n",
       " 'Product_crookandcrook.com_September2020.json.gz',\n",
       " 'Product_guidosgrooming.com_September2020.json.gz',\n",
       " 'Product_moboevo.com_September2020.json.gz',\n",
       " 'Product_hamburger-meile.com_September2020.json.gz',\n",
       " 'Product_locusttradingcompany.com_September2020.json.gz',\n",
       " 'Product_harpersphoto.co.uk_September2020.json.gz',\n",
       " 'Product_ecta-3.com_September2020.json.gz',\n",
       " 'Product_sunergon.net_September2020.json.gz',\n",
       " 'Product_cadysport.com_September2020.json.gz',\n",
       " 'Product_fabologist.com_September2020.json.gz',\n",
       " 'Product_tiendasagatha.com_September2020.json.gz',\n",
       " 'Product_stoneridgecarpets.com_September2020.json.gz',\n",
       " 'Product_fotomonza.com_September2020.json.gz',\n",
       " 'Product_calcoastbicycles.com_September2020.json.gz',\n",
       " 'Product_drummersonly.co.uk_September2020.json.gz',\n",
       " 'Product_shinertx.com_September2020.json.gz',\n",
       " 'Product_twowheelerdealer.com_September2020.json.gz',\n",
       " 'Product_gearforce.com.au_September2020.json.gz',\n",
       " 'Product_unexbg.com_September2020.json.gz',\n",
       " 'Product_nikonusa.com_September2020.json.gz',\n",
       " 'Product_oneononeflooring.com_September2020.json.gz',\n",
       " 'Product_jacobsenappliances.com_September2020.json.gz',\n",
       " 'Product_rockfordbikes.com_September2020.json.gz',\n",
       " 'Product_saramonicuk.com_September2020.json.gz',\n",
       " 'Product_bowcycle.com_September2020.json.gz',\n",
       " 'Product_evolution-automotive.com_September2020.json.gz',\n",
       " 'Product_symposiumbooks.com_September2020.json.gz',\n",
       " 'Product_creative-floorworks.com_September2020.json.gz',\n",
       " 'Product_12volttechnology.com_September2020.json.gz',\n",
       " 'Product_seappliances.com_September2020.json.gz',\n",
       " 'Product_macking.co.uk_September2020.json.gz',\n",
       " 'Product_toyologytoys.com_September2020.json.gz',\n",
       " 'Product_keycompanies.com_September2020.json.gz',\n",
       " 'Product_pu-parts.com_September2020.json.gz',\n",
       " 'Product_championfloor.com_September2020.json.gz',\n",
       " 'Product_taylorsbikeshop.com_September2020.json.gz',\n",
       " 'Product_dtmccalls.com_September2020.json.gz',\n",
       " 'Product_brickwell.com_September2020.json.gz',\n",
       " 'Product_wythecarpet.com_September2020.json.gz',\n",
       " 'Product_powertechstore.com_September2020.json.gz',\n",
       " 'Product_themightyhobby.com_September2020.json.gz',\n",
       " 'Product_trekofclt.com_September2020.json.gz',\n",
       " 'Product_aevoshop.com_September2020.json.gz',\n",
       " 'Product_shoppointoforigin.com_September2020.json.gz',\n",
       " 'Product_prattvillecarpet.com_September2020.json.gz',\n",
       " 'Product_globalbix.com_September2020.json.gz',\n",
       " 'Product_first-aid-store.com_September2020.json.gz',\n",
       " 'Product_watchfinder.com_September2020.json.gz',\n",
       " 'Product_cameronmarks.com_September2020.json.gz',\n",
       " 'Product_premiertonercartridge.com_September2020.json.gz',\n",
       " 'Product_alephksa.com_September2020.json.gz',\n",
       " 'Product_steepletonlodgefarm.co.uk_September2020.json.gz',\n",
       " 'Product_dickens.com.mt_September2020.json.gz',\n",
       " 'Product_theriversideoutlet.com_September2020.json.gz',\n",
       " 'Product_guaranteedfun.com_September2020.json.gz',\n",
       " 'Product_paintedtrout.com_September2020.json.gz',\n",
       " 'Product_paylessdesigncenter.com_September2020.json.gz',\n",
       " 'Product_qualityflooring4less.com_September2020.json.gz',\n",
       " 'Product_jsappliance.com_September2020.json.gz',\n",
       " 'Product_maddogsafetytechnologies.com_September2020.json.gz',\n",
       " 'Product_dailydealbender.com_September2020.json.gz',\n",
       " 'Product_ichoose-ltd.co.uk_September2020.json.gz',\n",
       " 'Product_365wholesale.com_September2020.json.gz',\n",
       " 'Product_marineappliancecenter.com_September2020.json.gz',\n",
       " 'Product_e-traceur.net_September2020.json.gz',\n",
       " 'Product_magicvaporshop.com_September2020.json.gz',\n",
       " 'Product_gigabit-networkswitch.com_September2020.json.gz',\n",
       " 'Product_turnersbudgetfurniture.com_September2020.json.gz',\n",
       " 'Product_cavendersinterior.com_September2020.json.gz',\n",
       " 'Product_taffetabarberclub.com_September2020.json.gz',\n",
       " 'Product_digitalsolutions.com.sv_September2020.json.gz',\n",
       " 'Product_careofcarl.com_September2020.json.gz',\n",
       " 'Product_valleystoveandcycle.com_September2020.json.gz',\n",
       " 'Product_led-ht.com_September2020.json.gz',\n",
       " 'Product_kitchenandcompany.com_September2020.json.gz',\n",
       " 'Product_bicikla.com_September2020.json.gz',\n",
       " 'Product_builders-sales.com_September2020.json.gz',\n",
       " 'Product_galerie-dorsay.com_September2020.json.gz',\n",
       " 'Product_citruscyclery.com_September2020.json.gz',\n",
       " 'Product_fix-punkt.org_September2020.json.gz',\n",
       " 'Product_boutiquelucs.com_September2020.json.gz',\n",
       " 'Product_emamory.com_September2020.json.gz',\n",
       " 'Product_dermokozmetika.com.tr_September2020.json.gz',\n",
       " 'Product_churchresources.com.au_September2020.json.gz',\n",
       " 'Product_opirata.com_September2020.json.gz',\n",
       " 'Product_netstoredirect.com_September2020.json.gz',\n",
       " 'Product_kjell.com_September2020.json.gz',\n",
       " 'Product_bluebearanimalrehabilitation.co.uk_September2020.json.gz',\n",
       " 'Product_officesupply.com_September2020.json.gz',\n",
       " 'Product_after-burn.com_September2020.json.gz',\n",
       " 'Product_thefloorsourcesml.com_September2020.json.gz',\n",
       " 'Product_appliancediscounters.com_September2020.json.gz',\n",
       " 'Product_djinyc.com_September2020.json.gz',\n",
       " 'Product_factorymattresslincolnton.com_September2020.json.gz',\n",
       " 'Product_freemanliquidators.com_September2020.json.gz',\n",
       " 'Product_technetworksupply.com_September2020.json.gz',\n",
       " 'Product_franmakes.com.br_September2020.json.gz',\n",
       " 'Product_palmerandpurchase.com_September2020.json.gz',\n",
       " 'Product_premierfloorcenter.com_September2020.json.gz',\n",
       " 'Product_retaildirect.co.uk_September2020.json.gz',\n",
       " 'Product_videoandaudiocenter.com_September2020.json.gz',\n",
       " 'Product_opticaldiscount.com_September2020.json.gz',\n",
       " 'Product_uebelhor-tv.com_September2020.json.gz',\n",
       " 'Product_shopbellamar.com_September2020.json.gz',\n",
       " 'Product_laureneelifestyle.com_September2020.json.gz',\n",
       " 'Product_topachat.com_September2020.json.gz',\n",
       " 'Product_holmescycling.com_September2020.json.gz',\n",
       " 'Product_cornercycle.com_September2020.json.gz',\n",
       " 'Product_zylax.com.au_September2020.json.gz',\n",
       " 'Product_fangirlcollectables.com_September2020.json.gz',\n",
       " 'Product_theoriginallakesappliance.com_September2020.json.gz',\n",
       " 'Product_mainplacefloor.com_September2020.json.gz',\n",
       " 'Product_farmaciaitria.com_September2020.json.gz',\n",
       " 'Product_bellevuepharmacy.co.uk_September2020.json.gz',\n",
       " 'Product_pharmhealth.com_September2020.json.gz',\n",
       " 'Product_bushtukah.com_September2020.json.gz',\n",
       " 'Product_mrccycles.com_September2020.json.gz',\n",
       " 'Product_theonlinepencompany.com_September2020.json.gz',\n",
       " 'Product_directcurrentavu.com_September2020.json.gz',\n",
       " 'Product_netxl.com_September2020.json.gz',\n",
       " 'Product_furrification.com_September2020.json.gz',\n",
       " 'Product_codigo03.com_September2020.json.gz',\n",
       " 'Product_camerashopmuskegon.com_September2020.json.gz',\n",
       " 'Product_cgbsolutions.com.au_September2020.json.gz',\n",
       " 'Product_lafbike.com_September2020.json.gz',\n",
       " 'Product_cycleogicalbikes.com_September2020.json.gz',\n",
       " 'Product_harveynorman.com.au_September2020.json.gz',\n",
       " 'Product_nashbar.com_September2020.json.gz',\n",
       " 'Product_wollongongbikehub.com.au_September2020.json.gz',\n",
       " 'Product_industrialcaflor.com_September2020.json.gz',\n",
       " 'Product_russellsfitness.com_September2020.json.gz',\n",
       " 'Product_kixpress.com_September2020.json.gz',\n",
       " 'Product_personalsafetysource.com_September2020.json.gz',\n",
       " 'Product_astronutrition.com_September2020.json.gz',\n",
       " 'Product_sacramentohyundai.com_September2020.json.gz',\n",
       " 'Product_alaada.com_September2020.json.gz',\n",
       " 'Product_camcor.com_September2020.json.gz',\n",
       " 'Product_screekoutfitters.com_September2020.json.gz',\n",
       " 'Product_warehousecpt.com_September2020.json.gz',\n",
       " 'Product_senzigs.com_September2020.json.gz',\n",
       " 'Product_pinkdolphinsecurity.com_September2020.json.gz',\n",
       " 'Product_lnt.com.lb_September2020.json.gz',\n",
       " 'Product_carpetsplusdesign.com_September2020.json.gz',\n",
       " 'Product_buycheapcentral.com_September2020.json.gz',\n",
       " 'Product_isparktoys.com_September2020.json.gz',\n",
       " 'Product_newmoonski.com_September2020.json.gz',\n",
       " 'Product_picstop.co.uk_September2020.json.gz',\n",
       " 'Product_tcrsportlab.com_September2020.json.gz',\n",
       " 'Product_toycra.com_September2020.json.gz',\n",
       " 'Product_mcalisterflooring.com_September2020.json.gz',\n",
       " 'Product_binghamcyclery.com_September2020.json.gz',\n",
       " 'Product_mountaindesigns.com_September2020.json.gz',\n",
       " 'Product_brentview.com_September2020.json.gz',\n",
       " 'Product_trekstoreracine.com_September2020.json.gz',\n",
       " 'Product_blueberrybrands.co.uk_September2020.json.gz',\n",
       " 'Product_arteblas.com_September2020.json.gz',\n",
       " 'Product_thebikehubonline.com_September2020.json.gz',\n",
       " 'Product_365games.co.uk_September2020.json.gz',\n",
       " 'Product_steinersskibike.com_September2020.json.gz',\n",
       " 'Product_firearmsunknown.com_September2020.json.gz',\n",
       " 'Product_giantuniversitycity.com_September2020.json.gz',\n",
       " 'Product_deadtreeart.net_September2020.json.gz',\n",
       " 'Product_tuckertime.com_September2020.json.gz',\n",
       " 'Product_1foteam.com_September2020.json.gz',\n",
       " 'Product_dhcp.com.br_September2020.json.gz',\n",
       " 'Product_harrisburgfloor.com_September2020.json.gz',\n",
       " 'Product_abovedarim.com_September2020.json.gz',\n",
       " 'Product_cbmusiconline.com_September2020.json.gz',\n",
       " 'Product_incredideals.net_September2020.json.gz',\n",
       " 'Product_allencarpetfloorsandbeyond.com_September2020.json.gz',\n",
       " 'Product_spokengear.com_September2020.json.gz',\n",
       " 'Product_lasermediasupplies.co.uk_September2020.json.gz',\n",
       " 'Product_tonerstampante.com_September2020.json.gz',\n",
       " 'Product_gunas9.com_September2020.json.gz',\n",
       " 'Product_therefurbishedapplestore.com_September2020.json.gz',\n",
       " 'Product_raymondleejewelers.net_September2020.json.gz',\n",
       " 'Product_gurleyleep.com_September2020.json.gz',\n",
       " 'Product_contractorsflooringsupply.com_September2020.json.gz',\n",
       " 'Product_appliancedriven.com_September2020.json.gz',\n",
       " 'Product_closetspree.com_September2020.json.gz',\n",
       " 'Product_youngbloodbicycles.com_September2020.json.gz',\n",
       " 'Product_millcreekfoods.com_September2020.json.gz',\n",
       " 'Product_rocosmetiks.com_September2020.json.gz',\n",
       " 'Product_agpatweb.com_September2020.json.gz',\n",
       " 'Product_shop4fi.com_September2020.json.gz',\n",
       " 'Product_krogensboscobel.com_September2020.json.gz',\n",
       " 'Product_queenappliance.com_September2020.json.gz',\n",
       " 'Product_rainierag.org_September2020.json.gz',\n",
       " 'Product_farmaten.com_September2020.json.gz',\n",
       " 'Product_sydneyjewishmuseum.com.au_September2020.json.gz',\n",
       " 'Product_bikelinkbham.com_September2020.json.gz',\n",
       " 'Product_shop4mu.com_September2020.json.gz',\n",
       " 'Product_scottappliances.com_September2020.json.gz',\n",
       " 'Product_hometownfloorsonline.com_September2020.json.gz',\n",
       " 'Product_eurocarta.net_September2020.json.gz',\n",
       " 'Product_sumblex.com_September2020.json.gz',\n",
       " 'Product_easternoutfitter.com_September2020.json.gz',\n",
       " 'Product_delairscarpetbarn.com_September2020.json.gz',\n",
       " 'Product_shoptronics.com_September2020.json.gz',\n",
       " 'Product_e-cosmetorium.com_September2020.json.gz',\n",
       " 'Product_best-traditional-herbalist-healer.com_September2020.json.gz',\n",
       " 'Product_meadsbikeshop.com_September2020.json.gz',\n",
       " 'Product_tchomefurnishingsiowa.com_September2020.json.gz',\n",
       " 'Product_drmusic123.com_September2020.json.gz',\n",
       " 'Product_citygrounds.com_September2020.json.gz',\n",
       " 'Product_montlakebike.com_September2020.json.gz',\n",
       " 'Product_simel-bih.com_September2020.json.gz',\n",
       " 'Product_greenacregardening.com_September2020.json.gz',\n",
       " 'Product_kmapplianceandtv.com_September2020.json.gz',\n",
       " 'Product_bobcatbicycles.com_September2020.json.gz',\n",
       " 'Product_medallionshop.com_September2020.json.gz',\n",
       " 'Product_highertech.com_September2020.json.gz',\n",
       " 'Product_247inktoner.com_September2020.json.gz',\n",
       " 'Product_pharmaciedelafobio.com_September2020.json.gz',\n",
       " 'Product_shopbaldwins.com_September2020.json.gz',\n",
       " 'Product_onlineshoppingdirect.com.au_September2020.json.gz',\n",
       " 'Product_bikeconnection.net_September2020.json.gz',\n",
       " 'Product_forestry-suppliers.com_September2020.json.gz',\n",
       " 'Product_1stclassflooring.com_September2020.json.gz',\n",
       " 'Product_ridebrooklynny.com_September2020.json.gz',\n",
       " 'Product_ultimatesheepskin.com_September2020.json.gz',\n",
       " 'Product_bibliocommons.com_September2020.json.gz',\n",
       " 'Product_rayskillmannortheast.com_September2020.json.gz',\n",
       " 'Product_frogandtoadstore.com_September2020.json.gz',\n",
       " 'Product_lolany.com_September2020.json.gz',\n",
       " 'Product_foreverfloorswholesale.com_September2020.json.gz',\n",
       " 'Product_qlickcafe.com_September2020.json.gz',\n",
       " 'Product_newlondonpharmacy.com_September2020.json.gz',\n",
       " 'Product_nflandisappliances.com_September2020.json.gz',\n",
       " 'Product_shopbdlux.com_September2020.json.gz',\n",
       " 'Product_performancebike.com_September2020.json.gz',\n",
       " 'Product_earlsbicyclestore.com_September2020.json.gz',\n",
       " 'Product_getitnew.com_September2020.json.gz',\n",
       " 'Product_boulevardflooringemporium.com_September2020.json.gz',\n",
       " 'Product_activcycles.co.uk_September2020.json.gz',\n",
       " 'Product_gadgeticloud.com_September2020.json.gz',\n",
       " 'Product_selfdefensesupermall.com_September2020.json.gz',\n",
       " 'Product_sonolightsystems.com_September2020.json.gz',\n",
       " 'Product_wolf-events.com_September2020.json.gz',\n",
       " 'Product_rbpublish.com_September2020.json.gz',\n",
       " 'Product_fabulousfairyfactory.co.uk_September2020.json.gz',\n",
       " 'Product_birdlegsbicycles.com_September2020.json.gz',\n",
       " 'Product_teknotrend.net_September2020.json.gz',\n",
       " 'Product_smithfurniturehuntington.com_September2020.json.gz',\n",
       " 'Product_rockandsoul.com_September2020.json.gz',\n",
       " 'Product_mestores.com_September2020.json.gz',\n",
       " 'Product_bluedistribuidora.com.br_September2020.json.gz',\n",
       " 'Product_vesira.com_September2020.json.gz',\n",
       " 'Product_allfloors.com_September2020.json.gz',\n",
       " 'Product_betakart.com_September2020.json.gz',\n",
       " 'Product_clnanddrty.com_September2020.json.gz',\n",
       " 'Product_vanderbergfurniture.com_September2020.json.gz',\n",
       " 'Product_nexus.com.bd_September2020.json.gz',\n",
       " 'Product_mgscommunications-securitystore.com_September2020.json.gz',\n",
       " 'Product_edel-optics.co.uk_September2020.json.gz',\n",
       " 'Product_prodirectfit.com_September2020.json.gz',\n",
       " 'Product_rjbradleys.com_September2020.json.gz',\n",
       " 'Product_cucarfinders.com_September2020.json.gz',\n",
       " 'Product_homeinteriorsoutlet.com_September2020.json.gz',\n",
       " 'Product_agillemed.com.br_September2020.json.gz',\n",
       " 'Product_avroshackleton.co.uk_September2020.json.gz',\n",
       " 'Product_pilogico.com_September2020.json.gz',\n",
       " 'Product_videoplay.net_September2020.json.gz',\n",
       " 'Product_tiptopbikeshop.com_September2020.json.gz',\n",
       " 'Product_breechesandbows.com_September2020.json.gz',\n",
       " 'Product_bozziglobe.com_September2020.json.gz',\n",
       " 'Product_fotoattualitacesni.com_September2020.json.gz',\n",
       " 'Product_stricklinstudio.org_September2020.json.gz',\n",
       " 'Product_peoriamedicalcenter.com_September2020.json.gz',\n",
       " 'Product_sherlockscarpet.com_September2020.json.gz',\n",
       " 'Product_pilotmall.com_September2020.json.gz',\n",
       " 'Product_mypilotstore.com_September2020.json.gz',\n",
       " 'Product_ippolitosfurniture.com_September2020.json.gz',\n",
       " 'Product_electronicabenedicto.com_September2020.json.gz',\n",
       " 'Product_anetinfo.com_September2020.json.gz',\n",
       " 'Product_elktoncarpet.com_September2020.json.gz',\n",
       " 'Product_desibela.com_September2020.json.gz',\n",
       " 'Product_soloptical.net_September2020.json.gz',\n",
       " 'Product_dimensionsintile.com_September2020.json.gz',\n",
       " 'Product_prensadigitalpr.com_September2020.json.gz',\n",
       " 'Product_pro-computers.co.uk_September2020.json.gz',\n",
       " 'Product_cycling-force.com_September2020.json.gz',\n",
       " 'Product_opasolutions.net_September2020.json.gz',\n",
       " 'Product_outspokin.net_September2020.json.gz',\n",
       " 'Product_laroche-posay.co.uk_September2020.json.gz',\n",
       " 'Product_simplifinetworks.com_September2020.json.gz',\n",
       " 'Product_hprestonmedia.co.uk_September2020.json.gz',\n",
       " 'Product_sneakerbarber.com_September2020.json.gz',\n",
       " 'Product_modern-capsule.com_September2020.json.gz',\n",
       " 'Product_drogariaspacheco.com.br_September2020.json.gz',\n",
       " 'Product_thefragrancecounter.co.uk_September2020.json.gz',\n",
       " 'Product_bristleconebikes.com_September2020.json.gz',\n",
       " 'Product_skincarerx.com_September2020.json.gz',\n",
       " 'Product_sewan.com_September2020.json.gz',\n",
       " 'Product_mimosala.com_September2020.json.gz',\n",
       " 'Product_elite-electronics.com.au_September2020.json.gz',\n",
       " 'Product_nicolletbike.com_September2020.json.gz',\n",
       " 'Product_thehappysol.com_September2020.json.gz',\n",
       " 'Product_route66bicycles.com_September2020.json.gz',\n",
       " 'Product_lcgfoods.com_September2020.json.gz',\n",
       " 'Product_tristatesecurityproducts.com_September2020.json.gz',\n",
       " 'Product_helidirect.com_September2020.json.gz',\n",
       " 'Product_carpetsofcapecod.com_September2020.json.gz',\n",
       " 'Product_revolutionscyclery.com_September2020.json.gz',\n",
       " 'Product_hairbyjammie.com_September2020.json.gz',\n",
       " 'Product_theinitialchoice.com_September2020.json.gz',\n",
       " 'Product_nacloset.com_September2020.json.gz',\n",
       " 'Product_fotooehlmann.com_September2020.json.gz',\n",
       " 'Product_miswag.net_September2020.json.gz',\n",
       " 'Product_e-siactis.com_September2020.json.gz',\n",
       " 'Product_foundationmc.com_September2020.json.gz',\n",
       " 'Product_edenbicycles.com_September2020.json.gz',\n",
       " 'Product_bluelinebikelab.com_September2020.json.gz',\n",
       " 'Product_wildcatbeauty.com_September2020.json.gz',\n",
       " 'Product_superfreshmarketrd.com_September2020.json.gz',\n",
       " 'Product_industry-electronics.com_September2020.json.gz',\n",
       " 'Product_southernman.com.au_September2020.json.gz',\n",
       " 'Product_outdoorphotogear.com_September2020.json.gz',\n",
       " 'Product_harborsidecycle.com_September2020.json.gz',\n",
       " 'Product_shoppoponline.com_September2020.json.gz',\n",
       " 'Product_chefsgourmetmarket.com_September2020.json.gz',\n",
       " 'Product_springviewapp.com_September2020.json.gz',\n",
       " 'Product_suzyswede.com_September2020.json.gz',\n",
       " 'Product_chiaragioielleria.com_September2020.json.gz',\n",
       " 'Product_antonline.com_September2020.json.gz',\n",
       " 'Product_lavandedelapaloma.com_September2020.json.gz',\n",
       " 'Product_carpetusainc.com_September2020.json.gz',\n",
       " 'Product_rbscyclery.com_September2020.json.gz',\n",
       " 'Product_opticasanabre.com_September2020.json.gz',\n",
       " 'Product_hp.com_September2020.json.gz',\n",
       " 'Product_raysappliancestaunton.com_September2020.json.gz',\n",
       " 'Product_hvchemical.com_September2020.json.gz',\n",
       " 'Product_infomaxparis.com_September2020.json.gz',\n",
       " 'Product_gorigogo.com_September2020.json.gz',\n",
       " 'Product_studiodepot.com_September2020.json.gz',\n",
       " 'Product_iphoneshoppingonline.com_September2020.json.gz',\n",
       " 'Product_billsbikeandrun.com_September2020.json.gz',\n",
       " 'Product_greggscycles.com_September2020.json.gz',\n",
       " 'Product_tronikx.com.mt_September2020.json.gz',\n",
       " 'Product_flashmemo.co.uk_September2020.json.gz',\n",
       " 'Product_shoplunaclaires.com_September2020.json.gz',\n",
       " 'Product_woodcockcycle.com_September2020.json.gz',\n",
       " 'Product_ricbdsales.com_September2020.json.gz',\n",
       " 'Product_bt.com_September2020.json.gz',\n",
       " 'Product_lovealexandra.co.uk_September2020.json.gz',\n",
       " 'Product_bonzadigital.co.uk_September2020.json.gz',\n",
       " 'Product_bobzillabikes.com_September2020.json.gz',\n",
       " 'Product_kool-heads.com_September2020.json.gz',\n",
       " 'Product_nmbikensport.com_September2020.json.gz',\n",
       " 'Product_asus.com_September2020.json.gz',\n",
       " 'Product_coolmobile.net.nz_September2020.json.gz',\n",
       " 'Product_rydjor.com_September2020.json.gz',\n",
       " 'Product_rapidfurnitureutica.com_September2020.json.gz',\n",
       " 'Product_bandlbicycles.com_September2020.json.gz',\n",
       " 'Product_itosolutions.net_September2020.json.gz',\n",
       " 'Product_blueridgecyclery.com_September2020.json.gz',\n",
       " 'Product_heritage-print.com_September2020.json.gz',\n",
       " 'Product_loladre.com_September2020.json.gz',\n",
       " 'Product_afterhours.co.uk_September2020.json.gz',\n",
       " 'Product_perrimed.com_September2020.json.gz',\n",
       " 'Product_3jcigar.com_September2020.json.gz',\n",
       " 'Product_baylandflooring.com_September2020.json.gz',\n",
       " 'Product_atelierlou.com_September2020.json.gz',\n",
       " 'Product_kosmetikonline-shop.com_September2020.json.gz',\n",
       " 'Product_barriessports.com_September2020.json.gz',\n",
       " 'Product_extremeskiandbike.com_September2020.json.gz',\n",
       " 'Product_linio.com.mx_September2020.json.gz',\n",
       " 'Product_guillermoscoffee.com_September2020.json.gz',\n",
       " 'Product_centrul.com_September2020.json.gz',\n",
       " 'Product_gunas7.com_September2020.json.gz',\n",
       " 'Product_bayareacycling.com_September2020.json.gz',\n",
       " 'Product_dalionstore.com_September2020.json.gz',\n",
       " 'Product_ethosprofumerielauda.com_September2020.json.gz',\n",
       " 'Product_appliancesoforlando.com_September2020.json.gz',\n",
       " 'Product_forcetop.com_September2020.json.gz',\n",
       " 'Product_crosscountrycycle.com_September2020.json.gz',\n",
       " 'Product_findprices.co.uk_September2020.json.gz',\n",
       " 'Product_popsbikeshop.com_September2020.json.gz',\n",
       " 'Product_billmayappliance.com_September2020.json.gz',\n",
       " 'Product_labyrinthgameshop.com_September2020.json.gz',\n",
       " 'Product_fotocinegranada.com_September2020.json.gz',\n",
       " 'Product_polylinecorp.com_September2020.json.gz',\n",
       " 'Product_carpetempireplus.com_September2020.json.gz',\n",
       " 'Product_brothersmain.com_September2020.json.gz',\n",
       " 'Product_marikavera.com_September2020.json.gz',\n",
       " 'Product_schellers.com_September2020.json.gz',\n",
       " 'Product_ubikes.com_September2020.json.gz',\n",
       " 'Product_after-eight.com_September2020.json.gz',\n",
       " 'Product_bigdealflooring.com_September2020.json.gz',\n",
       " 'Product_perryrubberbikeshop.com_September2020.json.gz',\n",
       " 'Product_vo2sportsco.com_September2020.json.gz',\n",
       " 'Product_bluewillowtucson.com_September2020.json.gz',\n",
       " 'Product_runnersdepot.net_September2020.json.gz',\n",
       " 'Product_kojahub.com_September2020.json.gz',\n",
       " 'Product_vira-world.com_September2020.json.gz',\n",
       " 'Product_archersbikes.com_September2020.json.gz',\n",
       " 'Product_tptg.co.uk_September2020.json.gz',\n",
       " 'Product_freecycle.com.br_September2020.json.gz',\n",
       " 'Product_wifispares.com_September2020.json.gz',\n",
       " 'Product_cardozaflooring.com_September2020.json.gz',\n",
       " 'Product_botappliance.com_September2020.json.gz',\n",
       " 'Product_bikedoctor.com_September2020.json.gz',\n",
       " 'Product_bobwallaceappliance.com_September2020.json.gz',\n",
       " 'Product_vapensmokengo.com_September2020.json.gz',\n",
       " 'Product_joyeriaminguez.com_September2020.json.gz',\n",
       " 'Product_surfstationstore.com_September2020.json.gz',\n",
       " 'Product_pacmarts.com_September2020.json.gz',\n",
       " 'Product_holdan.co.uk_September2020.json.gz',\n",
       " 'Product_bikedepot.com_September2020.json.gz',\n",
       " 'Product_top4football.com_September2020.json.gz',\n",
       " 'Product_florentineeyewear.com.au_September2020.json.gz',\n",
       " 'Product_halalgyrospot.com_September2020.json.gz',\n",
       " 'Product_coupongrab.com_September2020.json.gz',\n",
       " 'Product_teds.com.au_September2020.json.gz',\n",
       " 'Product_aboutallfloors.com_September2020.json.gz',\n",
       " 'Product_shoproyalappliance.com_September2020.json.gz',\n",
       " 'Product_valorebooks.com_September2020.json.gz',\n",
       " 'Product_planetetechnologie.com_September2020.json.gz',\n",
       " 'Product_flamingovape.com_September2020.json.gz',\n",
       " 'Product_geeit.com.au_September2020.json.gz',\n",
       " 'Product_orion-web.net_September2020.json.gz',\n",
       " 'Product_duncan-parnell.com_September2020.json.gz',\n",
       " 'Product_mahkesis.com_September2020.json.gz',\n",
       " 'Product_rudysbikes.com_September2020.json.gz',\n",
       " 'Product_universalcarpetinc.com_September2020.json.gz',\n",
       " 'Product_dextersdeli.com_September2020.json.gz',\n",
       " 'Product_trekbicyclesuperstore.com_September2020.json.gz',\n",
       " 'Product_dudussklep.com_September2020.json.gz',\n",
       " 'Product_eclicktecnologia.com.br_September2020.json.gz',\n",
       " 'Product_golfonline.co.uk_September2020.json.gz',\n",
       " 'Product_gizmopower.net_September2020.json.gz',\n",
       " 'Product_scan.co.uk_September2020.json.gz',\n",
       " 'Product_electrodomesticoscid.com_September2020.json.gz',\n",
       " 'Product_officeproducts.co.uk_September2020.json.gz',\n",
       " 'Product_uktechstore.com_September2020.json.gz',\n",
       " 'Product_riverboatsnautica.com_September2020.json.gz',\n",
       " 'Product_normansfloorcovering.com_September2020.json.gz',\n",
       " 'Product_lawsonbrothersfloor.com_September2020.json.gz',\n",
       " 'Product_searshometownstores.com_September2020.json.gz',\n",
       " 'Product_globalgiftsft.com_September2020.json.gz',\n",
       " 'Product_cooperrivercycles.com_September2020.json.gz',\n",
       " 'Product_trippodo.com_September2020.json.gz',\n",
       " 'Product_rocklandappliance.com_September2020.json.gz',\n",
       " 'Product_printtu.com_September2020.json.gz',\n",
       " 'Product_senetic.com.au_September2020.json.gz',\n",
       " 'Product_drimmers.com_September2020.json.gz',\n",
       " 'Product_summitbicycles.com_September2020.json.gz',\n",
       " 'Product_hansbargerhomesolutions.com_September2020.json.gz',\n",
       " 'Product_urbantropicals.com_September2020.json.gz',\n",
       " 'Product_pedalpusherscyclery.com_September2020.json.gz',\n",
       " 'Product_sweetwaterbicycles.com_September2020.json.gz',\n",
       " 'Product_webcyclery.com_September2020.json.gz',\n",
       " 'Product_aboutmichelle.com_September2020.json.gz',\n",
       " 'Product_eliteappliance.com_September2020.json.gz',\n",
       " 'Product_cyclecenter.com_September2020.json.gz',\n",
       " 'Product_dutyfreedufry.com.br_September2020.json.gz',\n",
       " 'Product_bombabehling.com.br_September2020.json.gz',\n",
       " 'Product_blahaschmuck.com_September2020.json.gz',\n",
       " 'Product_fusionelectronix.com_September2020.json.gz',\n",
       " 'Product_lakrafashion.com_September2020.json.gz',\n",
       " 'Product_hairgallerystore.com_September2020.json.gz',\n",
       " 'Product_garmincyprus.com_September2020.json.gz',\n",
       " 'Product_shopdealclue.com_September2020.json.gz',\n",
       " 'Product_best4systems.co.uk_September2020.json.gz',\n",
       " 'Product_linktechs.net_September2020.json.gz',\n",
       " 'Product_nursecallbits.co.uk_September2020.json.gz',\n",
       " 'Product_cupertinobikeshop.com_September2020.json.gz',\n",
       " 'Product_kellimaroney.com_September2020.json.gz',\n",
       " 'Product_worthylux.com_September2020.json.gz',\n",
       " 'Product_cycleworksusa.com_September2020.json.gz',\n",
       " 'Product_pcpowercase.com.au_September2020.json.gz',\n",
       " 'Product_mitxpc.com_September2020.json.gz',\n",
       " 'Product_runningxpert.com_September2020.json.gz',\n",
       " 'Product_wheatridgecyclery.com_September2020.json.gz',\n",
       " 'Product_inlandpacificflooring.com_September2020.json.gz',\n",
       " 'Product_pedalrevolution.co.uk_September2020.json.gz',\n",
       " 'Product_garminmalta.com_September2020.json.gz',\n",
       " 'Product_svcyclesport.com_September2020.json.gz',\n",
       " 'Product_a1pressurewashers.com_September2020.json.gz',\n",
       " 'Product_misahouse.com_September2020.json.gz',\n",
       " 'Product_gccgamers.com_September2020.json.gz',\n",
       " 'Product_watterott.com_September2020.json.gz',\n",
       " 'Product_bikeking.com_September2020.json.gz',\n",
       " 'Product_izone365.com_September2020.json.gz',\n",
       " 'Product_itecnicstore.com_September2020.json.gz',\n",
       " 'Product_shjcqc.com_September2020.json.gz',\n",
       " 'Product_becharming.com_September2020.json.gz',\n",
       " 'Product_lsistore.com.br_September2020.json.gz',\n",
       " 'Product_innovasport.com_September2020.json.gz',\n",
       " 'Product_farmaseller.com_September2020.json.gz',\n",
       " 'Product_farmashoping.com_September2020.json.gz',\n",
       " 'Product_americasfinestcarpet.com_September2020.json.gz',\n",
       " 'Product_hastingschillicothe.com_September2020.json.gz',\n",
       " 'Product_giantofcentennial.com_September2020.json.gz',\n",
       " 'Product_mrknickerbocker.com_September2020.json.gz',\n",
       " 'Product_topman.com_September2020.json.gz',\n",
       " 'Product_mcarerental.com_September2020.json.gz',\n",
       " 'Product_sophiesclass.com_September2020.json.gz',\n",
       " 'Product_powertechbcn.com_September2020.json.gz',\n",
       " 'Product_foreverfloorandtile.com_September2020.json.gz',\n",
       " 'Product_handrcarpet.com_September2020.json.gz',\n",
       " 'Product_hitechgoods.com_September2020.json.gz',\n",
       " 'Product_gunas1.com_September2020.json.gz',\n",
       " 'Product_leucadiabikes.com_September2020.json.gz',\n",
       " 'Product_citychevrolet.com_September2020.json.gz',\n",
       " 'Product_inside.com.hk_September2020.json.gz',\n",
       " 'Product_backbeatperth.com_September2020.json.gz',\n",
       " 'Product_ple.com.au_September2020.json.gz',\n",
       " 'Product_roadandtrailbicycles.com_September2020.json.gz',\n",
       " 'Product_lalahotyoga.com_September2020.json.gz',\n",
       " 'Product_videotexsystems.com_September2020.json.gz',\n",
       " 'Product_privatetechgroup.com_September2020.json.gz',\n",
       " 'Product_mrshobby.com_September2020.json.gz',\n",
       " 'Product_mattressesandmorellc.com_September2020.json.gz',\n",
       " 'Product_icentre.com.mt_September2020.json.gz',\n",
       " 'Product_bijouxeclore.com_September2020.json.gz',\n",
       " 'Product_memory4less.com_September2020.json.gz',\n",
       " 'Product_epocacosmeticos.com.br_September2020.json.gz',\n",
       " 'Product_singular.com.cy_September2020.json.gz',\n",
       " 'Product_ruffaloappliances.com_September2020.json.gz',\n",
       " 'Product_skunkrivercycles.com_September2020.json.gz',\n",
       " 'Product_jbhifi.com.au_September2020.json.gz',\n",
       " 'Product_moninformatique.net_September2020.json.gz',\n",
       " 'Product_libertybikes.com_September2020.json.gz',\n",
       " 'Product_glopalstore.com_September2020.json.gz',\n",
       " 'Product_qxwebcam.com_September2020.json.gz',\n",
       " 'Product_annandaledistillery.com_September2020.json.gz',\n",
       " 'Product_cyndiscarpet.com_September2020.json.gz',\n",
       " 'Product_hjhphotography.net_September2020.json.gz',\n",
       " 'Product_farmareyon.com_September2020.json.gz',\n",
       " 'Product_a1eventrental.com_September2020.json.gz',\n",
       " 'Product_zegarki.com.pl_September2020.json.gz',\n",
       " 'Product_megacomponentes.com_September2020.json.gz',\n",
       " 'Product_hesslerfloors.com_September2020.json.gz',\n",
       " 'Product_funsportz.com.my_September2020.json.gz',\n",
       " 'Product_teknosolar.com_September2020.json.gz',\n",
       " 'Product_digitalshopup.com_September2020.json.gz',\n",
       " 'Product_kylesbikeshop.net_September2020.json.gz',\n",
       " 'Product_gibsonnet.com.br_September2020.json.gz',\n",
       " 'Product_winedelight.com_September2020.json.gz',\n",
       " 'Product_donsbikeshop.com_September2020.json.gz',\n",
       " 'Product_creativeappliques.com_September2020.json.gz',\n",
       " 'Product_mirelojeria.com_September2020.json.gz',\n",
       " 'Product_danibikes.com_September2020.json.gz',\n",
       " 'Product_botach.com_September2020.json.gz',\n",
       " 'Product_irtmn.com_September2020.json.gz',\n",
       " 'Product_motionmakers.com_September2020.json.gz',\n",
       " 'Product_morhipo.com_September2020.json.gz',\n",
       " 'Product_purplepurl.com_September2020.json.gz',\n",
       " 'Product_intercompras.com_September2020.json.gz',\n",
       " 'Product_lauderdalecyclery.com_September2020.json.gz',\n",
       " 'Product_christianflooring.com_September2020.json.gz',\n",
       " 'Product_sepetciniz.com_September2020.json.gz',\n",
       " 'Product_franksappliance.com_September2020.json.gz',\n",
       " 'Product_woolandcompany.com_September2020.json.gz',\n",
       " 'Product_printersupermarket.com.au_September2020.json.gz',\n",
       " 'Product_brightretail.co.uk_September2020.json.gz',\n",
       " 'Product_smithtownappliances.com_September2020.json.gz',\n",
       " 'Product_dicksmith.com.au_September2020.json.gz',\n",
       " 'Product_mediability.com_September2020.json.gz',\n",
       " 'Product_davesappliancewin.com_September2020.json.gz',\n",
       " 'Product_redrivercyclery.com_September2020.json.gz',\n",
       " 'Product_aplikasionlineshop.com_September2020.json.gz',\n",
       " 'Product_webjetive.com_September2020.json.gz',\n",
       " 'Product_micropartsmi.com_September2020.json.gz',\n",
       " 'Product_bestreviewsca.com_September2020.json.gz',\n",
       " 'Product_bergeysappliances.com_September2020.json.gz',\n",
       " 'Product_tinkco.com_September2020.json.gz',\n",
       " 'Product_harrystv.com_September2020.json.gz',\n",
       " 'Product_turuncukasa.com_September2020.json.gz',\n",
       " 'Product_4clik.com_September2020.json.gz',\n",
       " 'Product_randq.com_September2020.json.gz',\n",
       " 'Product_marquise-jewelers.com_September2020.json.gz',\n",
       " 'Product_gowshomehardware.com_September2020.json.gz',\n",
       " 'Product_mipc.com.mx_September2020.json.gz',\n",
       " 'Product_diamondscamera.com.au_September2020.json.gz',\n",
       " 'Product_arteinottica.com_September2020.json.gz',\n",
       " 'Product_bedfordfallsusa.com_September2020.json.gz',\n",
       " 'Product_csell.org_September2020.json.gz',\n",
       " 'Product_andorra2000.com_September2020.json.gz',\n",
       " 'Product_netuniversecorp.com_September2020.json.gz',\n",
       " 'Product_thayerappliance.com_September2020.json.gz',\n",
       " 'Product_rabo-networks-kreuzau.com_September2020.json.gz',\n",
       " 'Product_adencamera.com_September2020.json.gz',\n",
       " 'Product_specialtyflooringstore.com_September2020.json.gz',\n",
       " 'Product_constructionresourcesusa.com_September2020.json.gz',\n",
       " 'Product_baytownfloors.com_September2020.json.gz',\n",
       " 'Product_bicyclebrustop.com_September2020.json.gz',\n",
       " 'Product_istyleme.com_September2020.json.gz',\n",
       " 'Product_manuelsav.com.au_September2020.json.gz',\n",
       " 'Product_highcountryoutfitters.com_September2020.json.gz',\n",
       " 'Product_wiredsystems.com_September2020.json.gz',\n",
       " 'Product_cingolanibikeshop.com_September2020.json.gz',\n",
       " 'Product_tiendavirtual.com_September2020.json.gz',\n",
       " 'Product_decchoice.com_September2020.json.gz',\n",
       " 'Product_randswoodflooring.com_September2020.json.gz',\n",
       " 'Product_wowpharma.com_September2020.json.gz',\n",
       " 'Product_mountainspirit.com_September2020.json.gz',\n",
       " 'Product_shoppersbase.com_September2020.json.gz',\n",
       " 'Product_zonehomeentertainment.com_September2020.json.gz',\n",
       " 'Product_salemiappliance.com_September2020.json.gz',\n",
       " 'Product_battlefield-outdoors.com_September2020.json.gz',\n",
       " 'Product_saveritemedical.com_September2020.json.gz',\n",
       " 'Product_durstcycle.com_September2020.json.gz',\n",
       " 'Product_mandmappliance.com_September2020.json.gz',\n",
       " 'Product_thefragrancecounter.com_September2020.json.gz',\n",
       " 'Product_equipboard.com_September2020.json.gz',\n",
       " 'Product_yakwax.com_September2020.json.gz',\n",
       " 'Product_tustains.co.uk_September2020.json.gz',\n",
       " 'Product_firstclasstvs.com_September2020.json.gz',\n",
       " 'Product_boomtownfurniture.com_September2020.json.gz',\n",
       " 'Product_officeworks.com.au_September2020.json.gz',\n",
       " 'Product_manijewellers.com_September2020.json.gz',\n",
       " 'Product_surfacesource.net_September2020.json.gz',\n",
       " 'Product_klmfitness.com_September2020.json.gz',\n",
       " 'Product_resurrectionvintage.com_September2020.json.gz',\n",
       " 'Product_hallbicycle.com_September2020.json.gz',\n",
       " 'Product_fallprotectionusa.com_September2020.json.gz',\n",
       " 'Product_expertelectrical.co.uk_September2020.json.gz',\n",
       " 'Product_mysafetymatterz.com_September2020.json.gz',\n",
       " 'Product_asorti-shoes.com.ua_September2020.json.gz',\n",
       " 'Product_slonayurum.com_September2020.json.gz',\n",
       " 'Product_jbl.com.my_September2020.json.gz',\n",
       " 'Product_eintac.com_September2020.json.gz',\n",
       " 'Product_arlbergsports.com_September2020.json.gz',\n",
       " 'Product_productfrom.com_September2020.json.gz',\n",
       " 'Product_antarti.com_September2020.json.gz',\n",
       " 'Product_lansingfurniture.com_September2020.json.gz',\n",
       " 'Product_priceattack.com.au_September2020.json.gz',\n",
       " 'Product_carlorussowine.com_September2020.json.gz',\n",
       " 'Product_life4more.com_September2020.json.gz',\n",
       " 'Product_emiaudio.com_September2020.json.gz',\n",
       " 'Product_destinybizz.com_September2020.json.gz',\n",
       " 'Product_garmin.com.ee_September2020.json.gz',\n",
       " 'Product_zingznthingz.com_September2020.json.gz',\n",
       " 'Product_watchwarehouse.com_September2020.json.gz',\n",
       " 'Product_ebuystt.com_September2020.json.gz',\n",
       " 'Product_buyitdirect.com_September2020.json.gz',\n",
       " 'Product_amandasblockcrafts.uk_September2020.json.gz',\n",
       " 'Product_shopheysailor.com_September2020.json.gz',\n",
       " 'Product_marcotec-shop.com_September2020.json.gz',\n",
       " 'Product_cycle-solutions.com_September2020.json.gz',\n",
       " 'Product_cadencecycling.com_September2020.json.gz',\n",
       " 'Product_latencie.com_September2020.json.gz',\n",
       " 'Product_fleetfeet.com_September2020.json.gz',\n",
       " 'Product_exultedeagles.com_September2020.json.gz',\n",
       " 'Product_smit.com.ua_September2020.json.gz',\n",
       " 'Product_misterpagu.com_September2020.json.gz',\n",
       " 'Product_shopbriansflooring.com_September2020.json.gz',\n",
       " 'Product_charliesstorellano.com_September2020.json.gz',\n",
       " 'Product_buyur.co.uk_September2020.json.gz',\n",
       " 'Product_drogariaminasbrasil.com.br_September2020.json.gz',\n",
       " 'Product_genevaflooring.com_September2020.json.gz',\n",
       " 'Product_famoustate.com_September2020.json.gz',\n",
       " 'Product_ranchorelaxoca.com_September2020.json.gz',\n",
       " 'Product_eskell.com_September2020.json.gz',\n",
       " 'Product_peaksportscorvallis.com_September2020.json.gz',\n",
       " 'Product_westhamptonfinewine.com_September2020.json.gz',\n",
       " 'Product_shopmerit.com_September2020.json.gz',\n",
       " 'Product_safetyfirsttechnologies.com_September2020.json.gz',\n",
       " 'Product_onetencycles.com_September2020.json.gz',\n",
       " 'Product_yugomaxdigital.com_September2020.json.gz',\n",
       " 'Product_bezali.com_September2020.json.gz',\n",
       " 'Product_tri-city-sales.com_September2020.json.gz',\n",
       " 'Product_kellysliquor.com_September2020.json.gz',\n",
       " 'Product_zeiglerchevroletschaumburg.com_September2020.json.gz',\n",
       " 'Product_bisekinteriors.com_September2020.json.gz',\n",
       " 'Product_ulapop.com_September2020.json.gz',\n",
       " 'Product_thetopshopper.com_September2020.json.gz',\n",
       " 'Product_joieriahelios.com_September2020.json.gz',\n",
       " 'Product_pinewoodnurseries.net_September2020.json.gz',\n",
       " 'Product_orilagba.org_September2020.json.gz',\n",
       " 'Product_farmaciaigea.com_September2020.json.gz',\n",
       " 'Product_bilisimport.com.tr_September2020.json.gz',\n",
       " 'Product_alza.co.uk_September2020.json.gz',\n",
       " 'Product_deertrackingservices.co.uk_September2020.json.gz',\n",
       " 'Product_carpetlandstores.com_September2020.json.gz',\n",
       " 'Product_immashopping.com_September2020.json.gz',\n",
       " 'Product_cripplecreekbc.com_September2020.json.gz',\n",
       " 'Product_rainsltd.com_September2020.json.gz',\n",
       " 'Product_gunghobikes.com_September2020.json.gz',\n",
       " 'Product_cycleneron.com_September2020.json.gz',\n",
       " 'Product_schindlercarpetandfloors.com_September2020.json.gz',\n",
       " 'Product_gigabitlanswitch.com_September2020.json.gz',\n",
       " 'Product_bikeforceellenbrook.com.au_September2020.json.gz',\n",
       " 'Product_thegunparlor.com_September2020.json.gz',\n",
       " 'Product_bikeway.com_September2020.json.gz',\n",
       " 'Product_aphome.com_September2020.json.gz',\n",
       " 'Product_tonernuevosministerios.com_September2020.json.gz',\n",
       " 'Product_airesjewelers.com_September2020.json.gz',\n",
       " 'Product_t-mobile.com_September2020.json.gz',\n",
       " 'Product_automaticapplianceservice.com_September2020.json.gz',\n",
       " 'Product_tntcarpets.com_September2020.json.gz',\n",
       " 'Product_thebigscreenstore.com_September2020.json.gz',\n",
       " 'Product_thebicycleplanet.com_September2020.json.gz',\n",
       " 'Product_niemchem.com_September2020.json.gz',\n",
       " 'Product_gerritsappliances.com_September2020.json.gz',\n",
       " 'Product_swiftoutside.com_September2020.json.gz',\n",
       " 'Product_lifeandlooks.com_September2020.json.gz',\n",
       " 'Product_farmaciazentner.com.ar_September2020.json.gz',\n",
       " 'Product_ladolcevitae.com_September2020.json.gz',\n",
       " 'Product_aehowardflooring.com_September2020.json.gz',\n",
       " 'Product_motifjewelry.com_September2020.json.gz',\n",
       " 'Product_newbraunfelsflooring.com_September2020.json.gz',\n",
       " 'Product_southbeachdivers.com_September2020.json.gz',\n",
       " 'Product_easylounge.com_September2020.json.gz',\n",
       " 'Product_tambikes.com_September2020.json.gz',\n",
       " 'Product_enchantedivy.com_September2020.json.gz',\n",
       " 'Product_headsupfortails.com_September2020.json.gz',\n",
       " 'Product_harperscycling.com_September2020.json.gz',\n",
       " 'Product_depannpc74.com_September2020.json.gz',\n",
       " 'Product_graysappliance.com_September2020.json.gz',\n",
       " 'Product_arrivenutritioncenter.com_September2020.json.gz',\n",
       " 'Product_drfuri.com_September2020.json.gz',\n",
       " 'Product_tonerbuzz.com_September2020.json.gz',\n",
       " 'Product_vaivaton.com_September2020.json.gz',\n",
       " 'Product_liljohnsmotorsports.com_September2020.json.gz',\n",
       " 'Product_keshop.com_September2020.json.gz',\n",
       " 'Product_ambientbp.com_September2020.json.gz',\n",
       " 'Product_elgot.com_September2020.json.gz',\n",
       " 'Product_staples.com_September2020.json.gz',\n",
       " 'Product_farmsteadoutdoors.com_September2020.json.gz',\n",
       " 'Product_kicks-sport.com_September2020.json.gz',\n",
       " 'Product_appliancegallerydayton.com_September2020.json.gz',\n",
       " 'Product_copaco.com_September2020.json.gz',\n",
       " 'Product_thewheelthing.net_September2020.json.gz',\n",
       " 'Product_sahmone.com_September2020.json.gz',\n",
       " 'Product_une-pharmacie.com_September2020.json.gz',\n",
       " 'Product_thepanicroom.com.sg_September2020.json.gz',\n",
       " 'Product_panchkits.com_September2020.json.gz',\n",
       " 'Product_fotogrupouniversal.com_September2020.json.gz',\n",
       " 'Product_starnestvapp.com_September2020.json.gz',\n",
       " 'Product_pushys.com.au_September2020.json.gz',\n",
       " 'Product_getcheaphealthinsurance.net_September2020.json.gz',\n",
       " 'Product_wawanpro.com_September2020.json.gz',\n",
       " 'Product_capitolcyclery.com_September2020.json.gz',\n",
       " 'Product_hype.com.co_September2020.json.gz',\n",
       " 'Product_d-d-photographics.com.au_September2020.json.gz',\n",
       " 'Product_mutantpulp.com_September2020.json.gz',\n",
       " 'Product_dreamersarewelcome.com_September2020.json.gz',\n",
       " 'Product_evo.com_September2020.json.gz',\n",
       " 'Product_thefitness-shop.com.au_September2020.json.gz',\n",
       " 'Product_aventuradiner.com_September2020.json.gz',\n",
       " 'Product_shop4world.com_September2020.json.gz',\n",
       " 'Product_spokesmanbicycles.com_September2020.json.gz',\n",
       " 'Product_stringsfield.com_September2020.json.gz',\n",
       " 'Product_fritzsbicycleshop.com_September2020.json.gz',\n",
       " 'Product_skipscustomflooring.com_September2020.json.gz',\n",
       " 'Product_macstore.com.pa_September2020.json.gz',\n",
       " 'Product_kalex.com.br_September2020.json.gz',\n",
       " 'Product_shrevecrumpandlow.com_September2020.json.gz',\n",
       " 'Product_johnnybrinks.com_September2020.json.gz',\n",
       " 'Product_mmf-pro.com_September2020.json.gz',\n",
       " 'Product_donaldsonflooring.com_September2020.json.gz',\n",
       " 'Product_shopwaltons.com_September2020.json.gz',\n",
       " 'Product_dzustore.com_September2020.json.gz',\n",
       " 'Product_telefonchik.net_September2020.json.gz',\n",
       " 'Product_wcslmall.com_September2020.json.gz',\n",
       " 'Product_hawleysbicycleworld.com_September2020.json.gz',\n",
       " 'Product_yohohongkong.com_September2020.json.gz',\n",
       " 'Product_rbrooksandson.com_September2020.json.gz',\n",
       " 'Product_verpacking.com_September2020.json.gz',\n",
       " 'Product_ebikestore.com_September2020.json.gz',\n",
       " 'Product_goldenleafstore.com_September2020.json.gz',\n",
       " 'Product_joyeriaamores.com_September2020.json.gz',\n",
       " 'Product_coloradomultisport.com_September2020.json.gz',\n",
       " 'Product_ponchosrojas.com_September2020.json.gz',\n",
       " 'Product_sportshowroom.com.br_September2020.json.gz',\n",
       " 'Product_bandtelectricinc.com_September2020.json.gz',\n",
       " 'Product_detailers-eg.com_September2020.json.gz',\n",
       " 'Product_wallerboot.com_September2020.json.gz',\n",
       " 'Product_katzfloor.com_September2020.json.gz',\n",
       " 'Product_everysize.com_September2020.json.gz',\n",
       " 'Product_mcbaincamera.com_September2020.json.gz',\n",
       " 'Product_joyeriasbizzarro.com_September2020.json.gz',\n",
       " 'Product_bonesps.com_September2020.json.gz',\n",
       " 'Product_izarmicro.net_September2020.json.gz',\n",
       " 'Product_revolutionbicycle.com_September2020.json.gz',\n",
       " 'Product_newtech-bg.com_September2020.json.gz',\n",
       " 'Product_bicyclesnyc.com_September2020.json.gz',\n",
       " 'Product_fischerfurniture.com_September2020.json.gz',\n",
       " 'Product_unitednissanreno.com_September2020.json.gz',\n",
       " 'Product_ridgewoodcycle.com_September2020.json.gz',\n",
       " 'Product_licotronic.com_September2020.json.gz',\n",
       " 'Product_urbangeneralstore.com_September2020.json.gz',\n",
       " 'Product_glamtom.com_September2020.json.gz',\n",
       " 'Product_oroley.com_September2020.json.gz',\n",
       " 'Product_gunas4.com_September2020.json.gz',\n",
       " 'Product_sunglasses-direct.co.uk_September2020.json.gz',\n",
       " 'Product_alzashop.com_September2020.json.gz',\n",
       " 'Product_petspawt.com_September2020.json.gz',\n",
       " 'Product_deltacarpetanddecor.net_September2020.json.gz',\n",
       " 'Product_senetic.com.gh_September2020.json.gz',\n",
       " 'Product_pcmadd.com_September2020.json.gz',\n",
       " 'Product_redsappliance.com_September2020.json.gz',\n",
       " 'Product_shopping4net.co.uk_September2020.json.gz',\n",
       " 'Product_pro-techspecialtysllc.com_September2020.json.gz',\n",
       " 'Product_kocpa.com_September2020.json.gz',\n",
       " 'Product_g-comm.co.uk_September2020.json.gz',\n",
       " 'Product_hoopjordan.com_September2020.json.gz',\n",
       " 'Product_artwalktile.com_September2020.json.gz',\n",
       " 'Product_gelbura.com_September2020.json.gz',\n",
       " 'Product_batolis.com_September2020.json.gz',\n",
       " 'Product_feryseg.com_September2020.json.gz',\n",
       " 'Product_ultrajewels.com_September2020.json.gz',\n",
       " 'Product_alexanderjewelers.net_September2020.json.gz',\n",
       " 'Product_first-aid-product.com_September2020.json.gz',\n",
       " 'Product_vozipmexico.com_September2020.json.gz',\n",
       " 'Product_mysaftzonellc.com_September2020.json.gz',\n",
       " 'Product_lavenderdogshop.co.uk_September2020.json.gz',\n",
       " 'Product_erasureskin.com_September2020.json.gz',\n",
       " 'Product_iwonatec.com_September2020.json.gz',\n",
       " 'Product_yourtiasbeautysupply.com_September2020.json.gz',\n",
       " 'Product_fesfashionanddecor.com.au_September2020.json.gz',\n",
       " 'Product_pinupparlorboutique.com_September2020.json.gz',\n",
       " 'Product_karstsports.com_September2020.json.gz',\n",
       " 'Product_bobscyclecenter.com_September2020.json.gz',\n",
       " 'Product_triathletesports.com_September2020.json.gz',\n",
       " 'Product_bodysoulemporium.com_September2020.json.gz',\n",
       " 'Product_tnksecurityproducts.com_September2020.json.gz',\n",
       " 'Product_ersasaat.com.tr_September2020.json.gz',\n",
       " 'Product_multitecloja.com_September2020.json.gz',\n",
       " 'Product_eastcoastsupplements.com.au_September2020.json.gz',\n",
       " 'Product_arnoldsappliance.com_September2020.json.gz',\n",
       " 'Product_outspokinbikes.com_September2020.json.gz',\n",
       " 'Product_sussexpictures.co.uk_September2020.json.gz',\n",
       " 'Product_lifeinformatica.com_September2020.json.gz',\n",
       " 'Product_creationsfinejewelers.com_September2020.json.gz',\n",
       " 'Product_hladovypes.com_September2020.json.gz',\n",
       " 'Product_haykaymarket.com_September2020.json.gz',\n",
       " 'Product_nytro.com_September2020.json.gz',\n",
       " 'Product_karakjewelry.com_September2020.json.gz',\n",
       " 'Product_juwelier-barth.com_September2020.json.gz',\n",
       " 'Product_emmaroseart.com_September2020.json.gz',\n",
       " 'Product_rutlandappliances.com_September2020.json.gz',\n",
       " 'Product_modesens.com_September2020.json.gz',\n",
       " 'Product_toov.com_September2020.json.gz',\n",
       " 'Product_doohickey-hut.com_September2020.json.gz',\n",
       " 'Product_tannertileandstone.com_September2020.json.gz',\n",
       " 'Product_niestevan.com_September2020.json.gz',\n",
       " 'Product_teknashop.com_September2020.json.gz',\n",
       " 'Product_map-centre.com.au_September2020.json.gz',\n",
       " 'Product_lucindas.net_September2020.json.gz',\n",
       " 'Product_brsfacialspa.com_September2020.json.gz',\n",
       " 'Product_pslflooring.com_September2020.json.gz',\n",
       " 'Product_parafarmaciacampoamor.com_September2020.json.gz',\n",
       " 'Product_avnow.com_September2020.json.gz',\n",
       " 'Product_chiccarines.com_September2020.json.gz',\n",
       " 'Product_totalcycling.com_September2020.json.gz',\n",
       " 'Product_samsclub.com_September2020.json.gz',\n",
       " 'Product_sheepdogprotectiongroup.com_September2020.json.gz',\n",
       " 'Product_bewareofmuggles.com_September2020.json.gz',\n",
       " 'Product_ballicom.co.uk_September2020.json.gz',\n",
       " 'Product_iworldtt.com_September2020.json.gz',\n",
       " 'Product_evitamins.com_September2020.json.gz',\n",
       " 'Product_southeaststeel.net_September2020.json.gz',\n",
       " 'Product_gmflooringllc.com_September2020.json.gz',\n",
       " 'Product_watch-a-porter.com_September2020.json.gz',\n",
       " 'Product_jerrystvinc.com_September2020.json.gz',\n",
       " 'Product_senetic.co.uk_September2020.json.gz',\n",
       " 'Product_itnest.com.au_September2020.json.gz',\n",
       " 'Product_offmaingifts.com_September2020.json.gz',\n",
       " 'Product_dickscountrydodge.com_September2020.json.gz',\n",
       " 'Product_vichy.co.uk_September2020.json.gz',\n",
       " 'Product_cadencecyclery.com_September2020.json.gz',\n",
       " 'Product_321eshop.com_September2020.json.gz',\n",
       " 'Product_cgmelectronics.com_September2020.json.gz',\n",
       " 'Product_technextday.co.uk_September2020.json.gz',\n",
       " 'Product_cyclesstonge.com_September2020.json.gz',\n",
       " 'Product_firstclasswatches.co.uk_September2020.json.gz',\n",
       " 'Product_bigriversilkskincare.com_September2020.json.gz',\n",
       " 'Product_threekingdomsgames.com_September2020.json.gz',\n",
       " 'Product_viking-direct.co.uk_September2020.json.gz',\n",
       " 'Product_diamondcellar.com_September2020.json.gz',\n",
       " 'Product_tangletownbikeshop.com_September2020.json.gz',\n",
       " 'Product_szptstech.com_September2020.json.gz',\n",
       " 'Product_ralphsfloors.com_September2020.json.gz',\n",
       " 'Product_gordonchevy.com_September2020.json.gz',\n",
       " 'Product_rxskinbar.com_September2020.json.gz',\n",
       " 'Product_toyotaofgoldsboro.com_September2020.json.gz',\n",
       " 'Product_eeeshop.net_September2020.json.gz',\n",
       " 'Product_qnapdirect.com_September2020.json.gz',\n",
       " 'Product_nierle.com_September2020.json.gz',\n",
       " 'Product_apple.com_September2020.json.gz',\n",
       " 'Product_videopro.com.au_September2020.json.gz',\n",
       " 'Product_kayakspecialists.com.au_September2020.json.gz',\n",
       " 'Product_jjcycle.com_September2020.json.gz',\n",
       " 'Product_showcaseoffloors.net_September2020.json.gz',\n",
       " 'Product_piratemonkeypainting.com_September2020.json.gz',\n",
       " 'Product_denvercarpetandflooring.com_September2020.json.gz',\n",
       " 'Product_foursightsupplyco.com_September2020.json.gz',\n",
       " 'Product_mifsuds.com_September2020.json.gz',\n",
       " 'Product_keithsappliances.com_September2020.json.gz',\n",
       " 'Product_macfixit.com.au_September2020.json.gz',\n",
       " 'Product_universalpart.com_September2020.json.gz',\n",
       " 'Product_tiendaclic.com.ar_September2020.json.gz',\n",
       " 'Product_interiors-unlimited.net_September2020.json.gz',\n",
       " 'Product_afew-store.com_September2020.json.gz',\n",
       " 'Product_escentual.com_September2020.json.gz',\n",
       " 'Product_photo-denfert.com_September2020.json.gz',\n",
       " 'Product_bechad.com_September2020.json.gz',\n",
       " 'Product_lookeronline.com_September2020.json.gz',\n",
       " 'Product_mybottlebutler.com_September2020.json.gz',\n",
       " 'Product_adventurecycle.net_September2020.json.gz',\n",
       " 'Product_carpetstation.net_September2020.json.gz',\n",
       " 'Product_freewheelerbikeshop.com_September2020.json.gz',\n",
       " ...]"
      ]
     },
     "execution_count": 17,
     "metadata": {},
     "output_type": "execute_result"
    }
   ],
   "source": [
    "files_representation_train"
   ]
  },
  {
   "cell_type": "code",
   "execution_count": 18,
   "id": "6b828d4e",
   "metadata": {},
   "outputs": [
    {
     "data": {
      "text/plain": [
       "1687"
      ]
     },
     "execution_count": 18,
     "metadata": {},
     "output_type": "execute_result"
    }
   ],
   "source": [
    "len(files_representation_train)"
   ]
  },
  {
   "cell_type": "code",
   "execution_count": 20,
   "id": "c43dac89",
   "metadata": {},
   "outputs": [
    {
     "name": "stderr",
     "output_type": "stream",
     "text": [
      "\r",
      "  0% (0 of 1687) |                       | Elapsed Time: 0:00:00 ETA:  --:--:--"
     ]
    },
    {
     "name": "stdout",
     "output_type": "stream",
     "text": [
      "/Product_sixtysixtysounds.com_September2020.json.gz\n",
      "/Product_ahorroimprimiendo.com_September2020.json.gz\n",
      "/Product_watch4usale.com_September2020.json.gz\n",
      "/Product_novmak.com_September2020.json.gz\n"
     ]
    },
    {
     "name": "stderr",
     "output_type": "stream",
     "text": [
      "  0% (6 of 1687) |                       | Elapsed Time: 0:00:00 ETA:   0:01:14"
     ]
    },
    {
     "name": "stdout",
     "output_type": "stream",
     "text": [
      "/Product_camtecphoto.com_September2020.json.gz\n",
      "/Product_reveresecurity.com_September2020.json.gz\n",
      "/Product_comboink.com_September2020.json.gz\n"
     ]
    },
    {
     "name": "stderr",
     "output_type": "stream",
     "text": [
      "\r",
      "  0% (7 of 1687) |                       | Elapsed Time: 0:00:00 ETA:   0:01:37"
     ]
    },
    {
     "name": "stdout",
     "output_type": "stream",
     "text": [
      "/Product_roobol.com_September2020.json.gz\n"
     ]
    },
    {
     "name": "stderr",
     "output_type": "stream",
     "text": [
      "\r",
      "  0% (8 of 1687) |                       | Elapsed Time: 0:00:00 ETA:   0:02:24"
     ]
    },
    {
     "name": "stdout",
     "output_type": "stream",
     "text": [
      "/Product_roysbikes.com_September2020.json.gz\n"
     ]
    },
    {
     "name": "stderr",
     "output_type": "stream",
     "text": [
      "  0% (11 of 1687) |                      | Elapsed Time: 0:00:01 ETA:   0:03:06"
     ]
    },
    {
     "name": "stdout",
     "output_type": "stream",
     "text": [
      "/Product_weaverscarpet.com_September2020.json.gz\n",
      "/Product_louisianarunning.com_September2020.json.gz\n",
      "/Product_torichristgen.com_September2020.json.gz\n",
      "/Product_heathflooring.com_September2020.json.gz\n"
     ]
    },
    {
     "name": "stderr",
     "output_type": "stream",
     "text": [
      "  0% (15 of 1687) |                      | Elapsed Time: 0:00:01 ETA:   0:02:46"
     ]
    },
    {
     "name": "stdout",
     "output_type": "stream",
     "text": [
      "/Product_yudinsappliances.com_September2020.json.gz\n",
      "/Product_velopro.com_September2020.json.gz\n",
      "/Product_billmans.com_September2020.json.gz\n",
      "/Product_frenshmo.com.au_September2020.json.gz\n"
     ]
    },
    {
     "name": "stderr",
     "output_type": "stream",
     "text": [
      "  1% (19 of 1687) |                      | Elapsed Time: 0:00:02 ETA:   0:05:15"
     ]
    },
    {
     "name": "stdout",
     "output_type": "stream",
     "text": [
      "/Product_kinetikcycles.com_September2020.json.gz\n",
      "/Product_beandcare.com_September2020.json.gz\n",
      "/Product_welovetec.com_September2020.json.gz\n",
      "/Product_idefix.com_September2020.json.gz\n"
     ]
    },
    {
     "name": "stderr",
     "output_type": "stream",
     "text": [
      "\r",
      "  1% (21 of 1687) |                      | Elapsed Time: 0:00:02 ETA:   0:04:53"
     ]
    },
    {
     "name": "stdout",
     "output_type": "stream",
     "text": [
      "/Product_bikebarnaz.com_September2020.json.gz\n"
     ]
    },
    {
     "name": "stderr",
     "output_type": "stream",
     "text": [
      "  1% (24 of 1687) |                      | Elapsed Time: 0:00:03 ETA:   0:05:44"
     ]
    },
    {
     "name": "stdout",
     "output_type": "stream",
     "text": [
      "/Product_bobbaileys.com_September2020.json.gz\n",
      "/Product_farmabimbi.com_September2020.json.gz\n",
      "/Product_supplementwarehouse.com_September2020.json.gz\n"
     ]
    },
    {
     "name": "stderr",
     "output_type": "stream",
     "text": [
      "  1% (28 of 1687) |                      | Elapsed Time: 0:00:03 ETA:   0:05:00"
     ]
    },
    {
     "name": "stdout",
     "output_type": "stream",
     "text": [
      "/Product_dealsaday.com_September2020.json.gz\n",
      "/Product_hollisterhomecenter.com_September2020.json.gz\n",
      "/Product_canvasskin.com.co_September2020.json.gz\n",
      "/Product_allstarbikeshop.com_September2020.json.gz\n"
     ]
    },
    {
     "name": "stderr",
     "output_type": "stream",
     "text": [
      "\r",
      "  1% (29 of 1687) |                      | Elapsed Time: 0:00:04 ETA:   0:05:01"
     ]
    },
    {
     "name": "stdout",
     "output_type": "stream",
     "text": [
      "/Product_petcentralgander.com_September2020.json.gz\n",
      "/Product_parentgiving.com_September2020.json.gz\n"
     ]
    },
    {
     "name": "stderr",
     "output_type": "stream",
     "text": [
      "  1% (32 of 1687) |                      | Elapsed Time: 0:00:04 ETA:   0:03:41"
     ]
    },
    {
     "name": "stdout",
     "output_type": "stream",
     "text": [
      "/Product_techboxs.org_September2020.json.gz\n",
      "/Product_dedhambike.com_September2020.json.gz\n"
     ]
    },
    {
     "name": "stderr",
     "output_type": "stream",
     "text": [
      "\r",
      "  1% (33 of 1687) |                      | Elapsed Time: 0:00:04 ETA:   0:03:58"
     ]
    },
    {
     "name": "stdout",
     "output_type": "stream",
     "text": [
      "/Product_arizonawholesalefloors.com_September2020.json.gz\n",
      "/Product_northdivision.com_September2020.json.gz\n"
     ]
    },
    {
     "name": "stderr",
     "output_type": "stream",
     "text": [
      "  2% (36 of 1687) |                      | Elapsed Time: 0:00:05 ETA:   0:03:47"
     ]
    },
    {
     "name": "stdout",
     "output_type": "stream",
     "text": [
      "/Product_awcycles.co.uk_September2020.json.gz\n",
      "/Product_remelectriconline.com_September2020.json.gz\n",
      "/Product_installershub.co.uk_September2020.json.gz\n",
      "/Product_trekbikesmississauga.com_September2020.json.gz\n"
     ]
    },
    {
     "name": "stderr",
     "output_type": "stream",
     "text": [
      "\r",
      "  2% (39 of 1687) |                      | Elapsed Time: 0:00:05 ETA:   0:03:22"
     ]
    },
    {
     "name": "stdout",
     "output_type": "stream",
     "text": [
      "/Product_simplyforlife.com_September2020.json.gz\n"
     ]
    },
    {
     "name": "stderr",
     "output_type": "stream",
     "text": [
      "\r",
      "  2% (40 of 1687) |                      | Elapsed Time: 0:00:05 ETA:   0:03:28"
     ]
    },
    {
     "name": "stdout",
     "output_type": "stream",
     "text": [
      "/Product_ezfloorz.com_September2020.json.gz\n",
      "/Product_cyclingconcepts.com_September2020.json.gz\n"
     ]
    },
    {
     "name": "stderr",
     "output_type": "stream",
     "text": [
      "  2% (43 of 1687) |                      | Elapsed Time: 0:00:05 ETA:   0:03:16"
     ]
    },
    {
     "name": "stdout",
     "output_type": "stream",
     "text": [
      "/Product_waynecyclery.com_September2020.json.gz\n",
      "/Product_socksforliving.com.au_September2020.json.gz\n"
     ]
    },
    {
     "name": "stderr",
     "output_type": "stream",
     "text": [
      "\r",
      "  2% (45 of 1687) |                      | Elapsed Time: 0:00:05 ETA:   0:03:22"
     ]
    },
    {
     "name": "stdout",
     "output_type": "stream",
     "text": [
      "/Product_spiffymutt.com_September2020.json.gz\n",
      "/Product_b3kdigital.com_September2020.json.gz\n",
      "/Product_atlantacycling.com_September2020.json.gz\n"
     ]
    },
    {
     "name": "stderr",
     "output_type": "stream",
     "text": [
      "  2% (48 of 1687) |                      | Elapsed Time: 0:00:06 ETA:   0:03:14"
     ]
    },
    {
     "name": "stdout",
     "output_type": "stream",
     "text": [
      "/Product_dbs-impressions.com_September2020.json.gz\n",
      "/Product_thewatchbox.com_September2020.json.gz\n"
     ]
    },
    {
     "name": "stderr",
     "output_type": "stream",
     "text": [
      "\r",
      "  2% (49 of 1687) |                      | Elapsed Time: 0:00:06 ETA:   0:03:21"
     ]
    },
    {
     "name": "stdout",
     "output_type": "stream",
     "text": [
      "/Product_petalsbyrobyn.com_September2020.json.gz\n",
      "/Product_michaels.com_September2020.json.gz\n"
     ]
    },
    {
     "name": "stderr",
     "output_type": "stream",
     "text": [
      "  3% (52 of 1687) |                      | Elapsed Time: 0:00:08 ETA:   0:13:47"
     ]
    },
    {
     "name": "stdout",
     "output_type": "stream",
     "text": [
      "/Product_sdjsports.com_September2020.json.gz\n",
      "/Product_gogameshop.com_September2020.json.gz\n"
     ]
    },
    {
     "name": "stderr",
     "output_type": "stream",
     "text": [
      "\r",
      "  3% (54 of 1687) |                      | Elapsed Time: 0:00:08 ETA:   0:10:03"
     ]
    },
    {
     "name": "stdout",
     "output_type": "stream",
     "text": [
      "/Product_ml-toner.com_September2020.json.gz\n",
      "/Product_valueflooringonline.com_September2020.json.gz\n",
      "/Product_mywatchescorner.com_September2020.json.gz\n"
     ]
    },
    {
     "name": "stderr",
     "output_type": "stream",
     "text": [
      "\r",
      "  3% (56 of 1687) |                      | Elapsed Time: 0:00:08 ETA:   0:08:10"
     ]
    },
    {
     "name": "stdout",
     "output_type": "stream",
     "text": [
      "/Product_storemonaco.com_September2020.json.gz\n",
      "/Product_pcglobal.com.pe_September2020.json.gz\n",
      "/Product_cycleak.com_September2020.json.gz\n"
     ]
    },
    {
     "name": "stderr",
     "output_type": "stream",
     "text": [
      "  3% (62 of 1687) |                      | Elapsed Time: 0:00:09 ETA:   0:05:32"
     ]
    },
    {
     "name": "stdout",
     "output_type": "stream",
     "text": [
      "/Product_kensphilodendrons.com_September2020.json.gz\n",
      "/Product_dekohrevents.com_September2020.json.gz\n",
      "/Product_cocooncenter.co.uk_September2020.json.gz\n",
      "/Product_centreduvelo.com_September2020.json.gz\n"
     ]
    },
    {
     "name": "stderr",
     "output_type": "stream",
     "text": [
      "  3% (65 of 1687) |                      | Elapsed Time: 0:00:09 ETA:   0:05:00"
     ]
    },
    {
     "name": "stdout",
     "output_type": "stream",
     "text": [
      "/Product_faitein.com_September2020.json.gz\n",
      "/Product_dwinteriorsinc.net_September2020.json.gz\n",
      "/Product_agpgroupe.com_September2020.json.gz\n",
      "/Product_turtechstore.com_September2020.json.gz\n"
     ]
    },
    {
     "name": "stderr",
     "output_type": "stream",
     "text": [
      "  4% (68 of 1687) |                      | Elapsed Time: 0:00:09 ETA:   0:04:24"
     ]
    },
    {
     "name": "stdout",
     "output_type": "stream",
     "text": [
      "/Product_mahlanders.com_September2020.json.gz\n",
      "/Product_gunas3.com_September2020.json.gz\n",
      "/Product_srsmicrosystems.co.uk_September2020.json.gz\n"
     ]
    },
    {
     "name": "stderr",
     "output_type": "stream",
     "text": [
      "  4% (72 of 1687) |                      | Elapsed Time: 0:00:10 ETA:   0:04:03"
     ]
    },
    {
     "name": "stdout",
     "output_type": "stream",
     "text": [
      "/Product_chavisfurniture.com_September2020.json.gz\n",
      "/Product_sepshoe.com_September2020.json.gz\n",
      "/Product_dulcesenda.com_September2020.json.gz\n",
      "/Product_mysprintcart.com_September2020.json.gz\n"
     ]
    },
    {
     "name": "stderr",
     "output_type": "stream",
     "text": [
      "\r",
      "  4% (74 of 1687) |                      | Elapsed Time: 0:00:10 ETA:   0:02:21"
     ]
    },
    {
     "name": "stdout",
     "output_type": "stream",
     "text": [
      "/Product_liquorbank.com.au_September2020.json.gz\n",
      "/Product_4mac.com_September2020.json.gz\n",
      "/Product_pedalonline.com_September2020.json.gz\n"
     ]
    },
    {
     "name": "stderr",
     "output_type": "stream",
     "text": [
      "  4% (78 of 1687) |#                     | Elapsed Time: 0:00:10 ETA:   0:02:17"
     ]
    },
    {
     "name": "stdout",
     "output_type": "stream",
     "text": [
      "/Product_citys-bg.com_September2020.json.gz\n",
      "/Product_intel.com.au_September2020.json.gz\n",
      "/Product_bulcom2000.com_September2020.json.gz\n"
     ]
    },
    {
     "name": "stderr",
     "output_type": "stream",
     "text": [
      "  4% (82 of 1687) |#                     | Elapsed Time: 0:00:10 ETA:   0:02:08"
     ]
    },
    {
     "name": "stdout",
     "output_type": "stream",
     "text": [
      "/Product_totallychocolate.com_September2020.json.gz\n",
      "/Product_waterloobikeshop.com_September2020.json.gz\n",
      "/Product_johnhenrybikes.com_September2020.json.gz\n"
     ]
    },
    {
     "name": "stderr",
     "output_type": "stream",
     "text": [
      "  5% (85 of 1687) |#                     | Elapsed Time: 0:00:11 ETA:   0:02:05"
     ]
    },
    {
     "name": "stdout",
     "output_type": "stream",
     "text": [
      "/Product_forcekiteandwake.com_September2020.json.gz\n",
      "/Product_todaysfurnitureonline.com_September2020.json.gz\n",
      "/Product_siabyte.com_September2020.json.gz\n",
      "/Product_powersante.com_September2020.json.gz\n"
     ]
    },
    {
     "name": "stderr",
     "output_type": "stream",
     "text": [
      "\r",
      "  5% (87 of 1687) |#                     | Elapsed Time: 0:00:11 ETA:   0:02:02"
     ]
    },
    {
     "name": "stdout",
     "output_type": "stream",
     "text": [
      "/Product_rcwilley.com_September2020.json.gz\n"
     ]
    },
    {
     "name": "stderr",
     "output_type": "stream",
     "text": [
      "\r",
      "  5% (88 of 1687) |#                     | Elapsed Time: 0:00:12 ETA:   0:03:04"
     ]
    },
    {
     "name": "stdout",
     "output_type": "stream",
     "text": [
      "/Product_bikeforlife.com.br_September2020.json.gz\n",
      "/Product_jwright.com_September2020.json.gz\n",
      "/Product_vatanbilgisayar.com_September2020.json.gz\n"
     ]
    },
    {
     "name": "stderr",
     "output_type": "stream",
     "text": [
      "  5% (92 of 1687) |#                     | Elapsed Time: 0:00:12 ETA:   0:05:41"
     ]
    },
    {
     "name": "stdout",
     "output_type": "stream",
     "text": [
      "/Product_peterjackson.co.uk_September2020.json.gz\n",
      "/Product_aspenartmuseum.org_September2020.json.gz\n",
      "/Product_saucey.com_September2020.json.gz\n"
     ]
    },
    {
     "name": "stderr",
     "output_type": "stream",
     "text": [
      "  5% (95 of 1687) |#                     | Elapsed Time: 0:00:13 ETA:   0:08:04"
     ]
    },
    {
     "name": "stdout",
     "output_type": "stream",
     "text": [
      "/Product_crookandcrook.com_September2020.json.gz\n",
      "/Product_guidosgrooming.com_September2020.json.gz\n",
      "/Product_moboevo.com_September2020.json.gz\n"
     ]
    },
    {
     "name": "stderr",
     "output_type": "stream",
     "text": [
      "\r",
      "  5% (97 of 1687) |#                     | Elapsed Time: 0:00:13 ETA:   0:06:55"
     ]
    },
    {
     "name": "stdout",
     "output_type": "stream",
     "text": [
      "/Product_hamburger-meile.com_September2020.json.gz\n"
     ]
    },
    {
     "name": "stderr",
     "output_type": "stream",
     "text": [
      "\r",
      "  5% (98 of 1687) |#                     | Elapsed Time: 0:00:14 ETA:   0:06:05"
     ]
    },
    {
     "name": "stdout",
     "output_type": "stream",
     "text": [
      "/Product_locusttradingcompany.com_September2020.json.gz\n",
      "/Product_harpersphoto.co.uk_September2020.json.gz\n"
     ]
    },
    {
     "name": "stderr",
     "output_type": "stream",
     "text": [
      "  6% (102 of 1687) |#                    | Elapsed Time: 0:00:14 ETA:   0:05:03"
     ]
    },
    {
     "name": "stdout",
     "output_type": "stream",
     "text": [
      "/Product_ecta-3.com_September2020.json.gz\n",
      "/Product_sunergon.net_September2020.json.gz\n",
      "/Product_cadysport.com_September2020.json.gz\n",
      "/Product_fabologist.com_September2020.json.gz\n"
     ]
    },
    {
     "name": "stderr",
     "output_type": "stream",
     "text": [
      "  6% (106 of 1687) |#                    | Elapsed Time: 0:00:15 ETA:   0:03:54"
     ]
    },
    {
     "name": "stdout",
     "output_type": "stream",
     "text": [
      "/Product_tiendasagatha.com_September2020.json.gz\n",
      "/Product_stoneridgecarpets.com_September2020.json.gz\n",
      "/Product_fotomonza.com_September2020.json.gz\n"
     ]
    },
    {
     "name": "stderr",
     "output_type": "stream",
     "text": [
      "  6% (108 of 1687) |#                    | Elapsed Time: 0:00:15 ETA:   0:03:49"
     ]
    },
    {
     "name": "stdout",
     "output_type": "stream",
     "text": [
      "/Product_calcoastbicycles.com_September2020.json.gz\n",
      "/Product_drummersonly.co.uk_September2020.json.gz\n"
     ]
    },
    {
     "name": "stderr",
     "output_type": "stream",
     "text": [
      "\r",
      "  6% (109 of 1687) |#                    | Elapsed Time: 0:00:15 ETA:   0:03:48"
     ]
    },
    {
     "name": "stdout",
     "output_type": "stream",
     "text": [
      "/Product_shinertx.com_September2020.json.gz\n",
      "/Product_twowheelerdealer.com_September2020.json.gz\n"
     ]
    },
    {
     "name": "stderr",
     "output_type": "stream",
     "text": [
      "\r",
      "  6% (111 of 1687) |#                    | Elapsed Time: 0:00:15 ETA:   0:03:12"
     ]
    },
    {
     "name": "stdout",
     "output_type": "stream",
     "text": [
      "/Product_gearforce.com.au_September2020.json.gz\n",
      "/Product_unexbg.com_September2020.json.gz\n",
      "/Product_nikonusa.com_September2020.json.gz\n"
     ]
    },
    {
     "name": "stderr",
     "output_type": "stream",
     "text": [
      "  6% (115 of 1687) |#                    | Elapsed Time: 0:00:15 ETA:   0:03:05"
     ]
    },
    {
     "name": "stdout",
     "output_type": "stream",
     "text": [
      "/Product_oneononeflooring.com_September2020.json.gz\n",
      "/Product_jacobsenappliances.com_September2020.json.gz\n"
     ]
    },
    {
     "name": "stderr",
     "output_type": "stream",
     "text": [
      "  6% (117 of 1687) |#                    | Elapsed Time: 0:00:16 ETA:   0:03:09"
     ]
    },
    {
     "name": "stdout",
     "output_type": "stream",
     "text": [
      "/Product_rockfordbikes.com_September2020.json.gz\n",
      "/Product_saramonicuk.com_September2020.json.gz\n",
      "/Product_bowcycle.com_September2020.json.gz\n"
     ]
    },
    {
     "name": "stderr",
     "output_type": "stream",
     "text": [
      "  7% (121 of 1687) |#                    | Elapsed Time: 0:00:16 ETA:   0:02:32"
     ]
    },
    {
     "name": "stdout",
     "output_type": "stream",
     "text": [
      "/Product_evolution-automotive.com_September2020.json.gz\n",
      "/Product_symposiumbooks.com_September2020.json.gz\n",
      "/Product_creative-floorworks.com_September2020.json.gz\n",
      "/Product_12volttechnology.com_September2020.json.gz\n"
     ]
    },
    {
     "name": "stderr",
     "output_type": "stream",
     "text": [
      "\r",
      "  7% (123 of 1687) |#                    | Elapsed Time: 0:00:16 ETA:   0:02:45"
     ]
    },
    {
     "name": "stdout",
     "output_type": "stream",
     "text": [
      "/Product_seappliances.com_September2020.json.gz\n",
      "/Product_macking.co.uk_September2020.json.gz\n",
      "/Product_toyologytoys.com_September2020.json.gz\n"
     ]
    },
    {
     "name": "stderr",
     "output_type": "stream",
     "text": [
      "  7% (128 of 1687) |#                    | Elapsed Time: 0:00:17 ETA:   0:02:42"
     ]
    },
    {
     "name": "stdout",
     "output_type": "stream",
     "text": [
      "/Product_keycompanies.com_September2020.json.gz\n",
      "/Product_pu-parts.com_September2020.json.gz\n"
     ]
    },
    {
     "name": "stderr",
     "output_type": "stream",
     "text": [
      "  7% (130 of 1687) |#                    | Elapsed Time: 0:00:17 ETA:   0:02:38"
     ]
    },
    {
     "name": "stdout",
     "output_type": "stream",
     "text": [
      "/Product_championfloor.com_September2020.json.gz\n",
      "/Product_taylorsbikeshop.com_September2020.json.gz\n",
      "/Product_dtmccalls.com_September2020.json.gz\n",
      "/Product_brickwell.com_September2020.json.gz\n"
     ]
    },
    {
     "name": "stderr",
     "output_type": "stream",
     "text": [
      "\r",
      "  7% (132 of 1687) |#                    | Elapsed Time: 0:00:18 ETA:   0:03:27"
     ]
    },
    {
     "name": "stdout",
     "output_type": "stream",
     "text": [
      "/Product_wythecarpet.com_September2020.json.gz\n",
      "/Product_powertechstore.com_September2020.json.gz\n"
     ]
    },
    {
     "name": "stderr",
     "output_type": "stream",
     "text": [
      "  8% (135 of 1687) |#                    | Elapsed Time: 0:00:18 ETA:   0:03:31"
     ]
    },
    {
     "name": "stdout",
     "output_type": "stream",
     "text": [
      "/Product_themightyhobby.com_September2020.json.gz\n",
      "/Product_trekofclt.com_September2020.json.gz\n"
     ]
    },
    {
     "name": "stderr",
     "output_type": "stream",
     "text": [
      "  8% (138 of 1687) |#                    | Elapsed Time: 0:00:18 ETA:   0:03:23"
     ]
    },
    {
     "name": "stdout",
     "output_type": "stream",
     "text": [
      "/Product_aevoshop.com_September2020.json.gz\n",
      "/Product_shoppointoforigin.com_September2020.json.gz\n",
      "/Product_prattvillecarpet.com_September2020.json.gz\n",
      "/Product_globalbix.com_September2020.json.gz\n"
     ]
    },
    {
     "name": "stderr",
     "output_type": "stream",
     "text": [
      "  8% (141 of 1687) |#                    | Elapsed Time: 0:00:19 ETA:   0:03:05"
     ]
    },
    {
     "name": "stdout",
     "output_type": "stream",
     "text": [
      "/Product_first-aid-store.com_September2020.json.gz\n",
      "/Product_watchfinder.com_September2020.json.gz\n"
     ]
    },
    {
     "name": "stderr",
     "output_type": "stream",
     "text": [
      "  8% (146 of 1687) |#                    | Elapsed Time: 0:00:19 ETA:   0:02:45"
     ]
    },
    {
     "name": "stdout",
     "output_type": "stream",
     "text": [
      "/Product_cameronmarks.com_September2020.json.gz\n",
      "/Product_premiertonercartridge.com_September2020.json.gz\n",
      "/Product_alephksa.com_September2020.json.gz\n",
      "/Product_steepletonlodgefarm.co.uk_September2020.json.gz\n",
      "/Product_dickens.com.mt_September2020.json.gz\n",
      "/Product_theriversideoutlet.com_September2020.json.gz\n"
     ]
    },
    {
     "name": "stderr",
     "output_type": "stream",
     "text": [
      "\r",
      "  8% (149 of 1687) |#                    | Elapsed Time: 0:00:19 ETA:   0:02:32"
     ]
    },
    {
     "name": "stdout",
     "output_type": "stream",
     "text": [
      "/Product_guaranteedfun.com_September2020.json.gz\n",
      "/Product_paintedtrout.com_September2020.json.gz\n"
     ]
    },
    {
     "name": "stderr",
     "output_type": "stream",
     "text": [
      "\r",
      "  8% (150 of 1687) |#                    | Elapsed Time: 0:00:19 ETA:   0:02:37"
     ]
    },
    {
     "name": "stdout",
     "output_type": "stream",
     "text": [
      "/Product_paylessdesigncenter.com_September2020.json.gz\n",
      "/Product_qualityflooring4less.com_September2020.json.gz\n"
     ]
    },
    {
     "name": "stderr",
     "output_type": "stream",
     "text": [
      "  9% (154 of 1687) |#                    | Elapsed Time: 0:00:19 ETA:   0:02:33"
     ]
    },
    {
     "name": "stdout",
     "output_type": "stream",
     "text": [
      "/Product_jsappliance.com_September2020.json.gz\n",
      "/Product_maddogsafetytechnologies.com_September2020.json.gz\n",
      "/Product_dailydealbender.com_September2020.json.gz\n",
      "/Product_ichoose-ltd.co.uk_September2020.json.gz\n"
     ]
    },
    {
     "name": "stderr",
     "output_type": "stream",
     "text": [
      "\r",
      "  9% (156 of 1687) |#                    | Elapsed Time: 0:00:20 ETA:   0:02:32"
     ]
    },
    {
     "name": "stdout",
     "output_type": "stream",
     "text": [
      "/Product_365wholesale.com_September2020.json.gz\n"
     ]
    },
    {
     "name": "stderr",
     "output_type": "stream",
     "text": [
      "  9% (159 of 1687) |#                    | Elapsed Time: 0:00:20 ETA:   0:02:04"
     ]
    },
    {
     "name": "stdout",
     "output_type": "stream",
     "text": [
      "/Product_marineappliancecenter.com_September2020.json.gz\n",
      "/Product_e-traceur.net_September2020.json.gz\n",
      "/Product_magicvaporshop.com_September2020.json.gz\n",
      "/Product_gigabit-networkswitch.com_September2020.json.gz\n"
     ]
    },
    {
     "name": "stderr",
     "output_type": "stream",
     "text": [
      "  9% (164 of 1687) |##                   | Elapsed Time: 0:00:20 ETA:   0:01:50"
     ]
    },
    {
     "name": "stdout",
     "output_type": "stream",
     "text": [
      "/Product_turnersbudgetfurniture.com_September2020.json.gz\n",
      "/Product_cavendersinterior.com_September2020.json.gz\n",
      "/Product_taffetabarberclub.com_September2020.json.gz\n",
      "/Product_digitalsolutions.com.sv_September2020.json.gz\n"
     ]
    },
    {
     "name": "stderr",
     "output_type": "stream",
     "text": [
      "  9% (166 of 1687) |##                   | Elapsed Time: 0:00:20 ETA:   0:01:59"
     ]
    },
    {
     "name": "stdout",
     "output_type": "stream",
     "text": [
      "/Product_careofcarl.com_September2020.json.gz\n",
      "/Product_valleystoveandcycle.com_September2020.json.gz\n"
     ]
    },
    {
     "name": "stderr",
     "output_type": "stream",
     "text": [
      " 10% (169 of 1687) |##                   | Elapsed Time: 0:00:21 ETA:   0:02:00"
     ]
    },
    {
     "name": "stdout",
     "output_type": "stream",
     "text": [
      "/Product_led-ht.com_September2020.json.gz\n",
      "/Product_kitchenandcompany.com_September2020.json.gz\n",
      "/Product_bicikla.com_September2020.json.gz\n"
     ]
    },
    {
     "name": "stderr",
     "output_type": "stream",
     "text": [
      " 10% (173 of 1687) |##                   | Elapsed Time: 0:00:21 ETA:   0:02:13"
     ]
    },
    {
     "name": "stdout",
     "output_type": "stream",
     "text": [
      "/Product_builders-sales.com_September2020.json.gz\n",
      "/Product_galerie-dorsay.com_September2020.json.gz\n",
      "/Product_citruscyclery.com_September2020.json.gz\n",
      "/Product_fix-punkt.org_September2020.json.gz\n"
     ]
    },
    {
     "name": "stderr",
     "output_type": "stream",
     "text": [
      "\r",
      " 10% (175 of 1687) |##                   | Elapsed Time: 0:00:21 ETA:   0:02:09"
     ]
    },
    {
     "name": "stdout",
     "output_type": "stream",
     "text": [
      "/Product_boutiquelucs.com_September2020.json.gz\n",
      "/Product_emamory.com_September2020.json.gz\n",
      "/Product_dermokozmetika.com.tr_September2020.json.gz\n"
     ]
    },
    {
     "name": "stderr",
     "output_type": "stream",
     "text": [
      "\r",
      " 10% (177 of 1687) |##                   | Elapsed Time: 0:00:21 ETA:   0:02:02"
     ]
    },
    {
     "name": "stdout",
     "output_type": "stream",
     "text": [
      "/Product_churchresources.com.au_September2020.json.gz\n",
      "/Product_opirata.com_September2020.json.gz\n"
     ]
    },
    {
     "name": "stderr",
     "output_type": "stream",
     "text": [
      " 10% (180 of 1687) |##                   | Elapsed Time: 0:00:22 ETA:   0:02:18"
     ]
    },
    {
     "name": "stdout",
     "output_type": "stream",
     "text": [
      "/Product_netstoredirect.com_September2020.json.gz\n",
      "/Product_kjell.com_September2020.json.gz\n"
     ]
    },
    {
     "name": "stderr",
     "output_type": "stream",
     "text": [
      "\r",
      " 10% (181 of 1687) |##                   | Elapsed Time: 0:00:23 ETA:   0:03:52"
     ]
    },
    {
     "name": "stdout",
     "output_type": "stream",
     "text": [
      "/Product_bluebearanimalrehabilitation.co.uk_September2020.json.gz\n",
      "/Product_officesupply.com_September2020.json.gz\n"
     ]
    },
    {
     "name": "stderr",
     "output_type": "stream",
     "text": [
      " 10% (185 of 1687) |##                   | Elapsed Time: 0:00:24 ETA:   0:07:08"
     ]
    },
    {
     "name": "stdout",
     "output_type": "stream",
     "text": [
      "/Product_after-burn.com_September2020.json.gz\n",
      "/Product_thefloorsourcesml.com_September2020.json.gz\n",
      "/Product_appliancediscounters.com_September2020.json.gz\n"
     ]
    },
    {
     "name": "stderr",
     "output_type": "stream",
     "text": [
      " 11% (188 of 1687) |##                   | Elapsed Time: 0:00:24 ETA:   0:06:38"
     ]
    },
    {
     "name": "stdout",
     "output_type": "stream",
     "text": [
      "/Product_djinyc.com_September2020.json.gz\n",
      "/Product_factorymattresslincolnton.com_September2020.json.gz\n",
      "/Product_freemanliquidators.com_September2020.json.gz\n"
     ]
    },
    {
     "name": "stderr",
     "output_type": "stream",
     "text": [
      "\r",
      " 11% (190 of 1687) |##                   | Elapsed Time: 0:00:24 ETA:   0:05:44"
     ]
    },
    {
     "name": "stdout",
     "output_type": "stream",
     "text": [
      "/Product_technetworksupply.com_September2020.json.gz\n",
      "/Product_franmakes.com.br_September2020.json.gz\n"
     ]
    },
    {
     "name": "stderr",
     "output_type": "stream",
     "text": [
      " 11% (193 of 1687) |##                   | Elapsed Time: 0:00:24 ETA:   0:04:59"
     ]
    },
    {
     "name": "stdout",
     "output_type": "stream",
     "text": [
      "/Product_palmerandpurchase.com_September2020.json.gz\n",
      "/Product_premierfloorcenter.com_September2020.json.gz\n",
      "/Product_retaildirect.co.uk_September2020.json.gz\n"
     ]
    },
    {
     "name": "stderr",
     "output_type": "stream",
     "text": [
      " 11% (198 of 1687) |##                   | Elapsed Time: 0:00:25 ETA:   0:03:06"
     ]
    },
    {
     "name": "stdout",
     "output_type": "stream",
     "text": [
      "/Product_videoandaudiocenter.com_September2020.json.gz\n",
      "/Product_opticaldiscount.com_September2020.json.gz\n",
      "/Product_uebelhor-tv.com_September2020.json.gz\n",
      "/Product_shopbellamar.com_September2020.json.gz\n",
      "/Product_laureneelifestyle.com_September2020.json.gz\n"
     ]
    },
    {
     "name": "stderr",
     "output_type": "stream",
     "text": [
      "\r",
      " 11% (199 of 1687) |##                   | Elapsed Time: 0:00:25 ETA:   0:03:11"
     ]
    },
    {
     "name": "stdout",
     "output_type": "stream",
     "text": [
      "/Product_topachat.com_September2020.json.gz\n"
     ]
    },
    {
     "name": "stderr",
     "output_type": "stream",
     "text": [
      "\r",
      " 11% (200 of 1687) |##                   | Elapsed Time: 0:00:25 ETA:   0:03:29"
     ]
    },
    {
     "name": "stdout",
     "output_type": "stream",
     "text": [
      "/Product_holmescycling.com_September2020.json.gz\n"
     ]
    },
    {
     "name": "stderr",
     "output_type": "stream",
     "text": [
      "\r",
      " 11% (201 of 1687) |##                   | Elapsed Time: 0:00:26 ETA:   0:03:36"
     ]
    },
    {
     "name": "stdout",
     "output_type": "stream",
     "text": [
      "/Product_cornercycle.com_September2020.json.gz\n"
     ]
    },
    {
     "name": "stderr",
     "output_type": "stream",
     "text": [
      " 12% (203 of 1687) |##                   | Elapsed Time: 0:00:26 ETA:   0:02:59"
     ]
    },
    {
     "name": "stdout",
     "output_type": "stream",
     "text": [
      "/Product_zylax.com.au_September2020.json.gz\n",
      "/Product_fangirlcollectables.com_September2020.json.gz\n",
      "/Product_theoriginallakesappliance.com_September2020.json.gz\n"
     ]
    },
    {
     "name": "stderr",
     "output_type": "stream",
     "text": [
      " 12% (207 of 1687) |##                   | Elapsed Time: 0:00:26 ETA:   0:02:55"
     ]
    },
    {
     "name": "stdout",
     "output_type": "stream",
     "text": [
      "/Product_mainplacefloor.com_September2020.json.gz\n",
      "/Product_farmaciaitria.com_September2020.json.gz\n",
      "/Product_bellevuepharmacy.co.uk_September2020.json.gz\n"
     ]
    },
    {
     "name": "stderr",
     "output_type": "stream",
     "text": [
      " 12% (210 of 1687) |##                   | Elapsed Time: 0:00:26 ETA:   0:02:47"
     ]
    },
    {
     "name": "stdout",
     "output_type": "stream",
     "text": [
      "/Product_pharmhealth.com_September2020.json.gz\n",
      "/Product_bushtukah.com_September2020.json.gz\n"
     ]
    },
    {
     "name": "stderr",
     "output_type": "stream",
     "text": [
      "\r",
      " 12% (211 of 1687) |##                   | Elapsed Time: 0:00:27 ETA:   0:02:53"
     ]
    },
    {
     "name": "stdout",
     "output_type": "stream",
     "text": [
      "/Product_mrccycles.com_September2020.json.gz\n",
      "/Product_theonlinepencompany.com_September2020.json.gz\n"
     ]
    },
    {
     "name": "stderr",
     "output_type": "stream",
     "text": [
      " 12% (214 of 1687) |##                   | Elapsed Time: 0:00:27 ETA:   0:03:38"
     ]
    },
    {
     "name": "stdout",
     "output_type": "stream",
     "text": [
      "/Product_directcurrentavu.com_September2020.json.gz\n",
      "/Product_netxl.com_September2020.json.gz\n",
      "/Product_furrification.com_September2020.json.gz\n",
      "/Product_codigo03.com_September2020.json.gz\n",
      "/Product_camerashopmuskegon.com_September2020.json.gz\n"
     ]
    },
    {
     "name": "stderr",
     "output_type": "stream",
     "text": [
      " 12% (219 of 1687) |##                   | Elapsed Time: 0:00:27 ETA:   0:02:44"
     ]
    },
    {
     "name": "stdout",
     "output_type": "stream",
     "text": [
      "/Product_cgbsolutions.com.au_September2020.json.gz\n",
      "/Product_lafbike.com_September2020.json.gz\n",
      "/Product_cycleogicalbikes.com_September2020.json.gz\n"
     ]
    },
    {
     "name": "stderr",
     "output_type": "stream",
     "text": [
      "\r",
      " 13% (220 of 1687) |##                   | Elapsed Time: 0:00:27 ETA:   0:02:27"
     ]
    },
    {
     "name": "stdout",
     "output_type": "stream",
     "text": [
      "/Product_harveynorman.com.au_September2020.json.gz\n"
     ]
    },
    {
     "name": "stderr",
     "output_type": "stream",
     "text": [
      "\r",
      " 13% (221 of 1687) |##                   | Elapsed Time: 0:00:28 ETA:   0:02:43"
     ]
    },
    {
     "name": "stdout",
     "output_type": "stream",
     "text": [
      "/Product_nashbar.com_September2020.json.gz\n"
     ]
    },
    {
     "name": "stderr",
     "output_type": "stream",
     "text": [
      "\r",
      " 13% (222 of 1687) |##                   | Elapsed Time: 0:00:28 ETA:   0:03:56"
     ]
    },
    {
     "name": "stdout",
     "output_type": "stream",
     "text": [
      "/Product_wollongongbikehub.com.au_September2020.json.gz\n",
      "/Product_industrialcaflor.com_September2020.json.gz\n"
     ]
    },
    {
     "name": "stderr",
     "output_type": "stream",
     "text": [
      "\r",
      " 13% (224 of 1687) |##                   | Elapsed Time: 0:00:29 ETA:   0:03:55"
     ]
    },
    {
     "name": "stdout",
     "output_type": "stream",
     "text": [
      "/Product_russellsfitness.com_September2020.json.gz\n",
      "/Product_kixpress.com_September2020.json.gz\n"
     ]
    },
    {
     "name": "stderr",
     "output_type": "stream",
     "text": [
      "\r",
      " 13% (226 of 1687) |##                   | Elapsed Time: 0:00:29 ETA:   0:03:38"
     ]
    },
    {
     "name": "stdout",
     "output_type": "stream",
     "text": [
      "/Product_personalsafetysource.com_September2020.json.gz\n",
      "/Product_astronutrition.com_September2020.json.gz\n"
     ]
    },
    {
     "name": "stderr",
     "output_type": "stream",
     "text": [
      "\r",
      " 13% (228 of 1687) |##                   | Elapsed Time: 0:00:30 ETA:   0:07:37"
     ]
    },
    {
     "name": "stdout",
     "output_type": "stream",
     "text": [
      "/Product_sacramentohyundai.com_September2020.json.gz\n",
      "/Product_alaada.com_September2020.json.gz\n"
     ]
    },
    {
     "name": "stderr",
     "output_type": "stream",
     "text": [
      "\r",
      " 13% (230 of 1687) |##                   | Elapsed Time: 0:00:30 ETA:   0:06:30"
     ]
    },
    {
     "name": "stdout",
     "output_type": "stream",
     "text": [
      "/Product_camcor.com_September2020.json.gz\n"
     ]
    },
    {
     "name": "stderr",
     "output_type": "stream",
     "text": [
      " 13% (233 of 1687) |##                   | Elapsed Time: 0:00:31 ETA:   0:05:41"
     ]
    },
    {
     "name": "stdout",
     "output_type": "stream",
     "text": [
      "/Product_screekoutfitters.com_September2020.json.gz\n",
      "/Product_warehousecpt.com_September2020.json.gz\n",
      "/Product_senzigs.com_September2020.json.gz\n",
      "/Product_pinkdolphinsecurity.com_September2020.json.gz\n"
     ]
    },
    {
     "name": "stderr",
     "output_type": "stream",
     "text": [
      " 13% (236 of 1687) |##                   | Elapsed Time: 0:00:31 ETA:   0:05:12"
     ]
    },
    {
     "name": "stdout",
     "output_type": "stream",
     "text": [
      "/Product_lnt.com.lb_September2020.json.gz\n",
      "/Product_carpetsplusdesign.com_September2020.json.gz\n",
      "/Product_buycheapcentral.com_September2020.json.gz\n"
     ]
    },
    {
     "name": "stderr",
     "output_type": "stream",
     "text": [
      "\r",
      " 14% (238 of 1687) |##                   | Elapsed Time: 0:00:31 ETA:   0:04:44"
     ]
    },
    {
     "name": "stdout",
     "output_type": "stream",
     "text": [
      "/Product_isparktoys.com_September2020.json.gz\n",
      "/Product_newmoonski.com_September2020.json.gz\n"
     ]
    },
    {
     "name": "stderr",
     "output_type": "stream",
     "text": [
      " 14% (241 of 1687) |###                  | Elapsed Time: 0:00:32 ETA:   0:04:28"
     ]
    },
    {
     "name": "stdout",
     "output_type": "stream",
     "text": [
      "/Product_picstop.co.uk_September2020.json.gz\n",
      "/Product_tcrsportlab.com_September2020.json.gz\n",
      "/Product_toycra.com_September2020.json.gz\n"
     ]
    },
    {
     "name": "stderr",
     "output_type": "stream",
     "text": [
      "\r",
      " 14% (243 of 1687) |###                  | Elapsed Time: 0:00:32 ETA:   0:04:10"
     ]
    },
    {
     "name": "stdout",
     "output_type": "stream",
     "text": [
      "/Product_mcalisterflooring.com_September2020.json.gz\n",
      "/Product_binghamcyclery.com_September2020.json.gz\n"
     ]
    },
    {
     "name": "stderr",
     "output_type": "stream",
     "text": [
      " 14% (246 of 1687) |###                  | Elapsed Time: 0:00:33 ETA:   0:03:24"
     ]
    },
    {
     "name": "stdout",
     "output_type": "stream",
     "text": [
      "/Product_mountaindesigns.com_September2020.json.gz\n",
      "/Product_brentview.com_September2020.json.gz\n",
      "/Product_trekstoreracine.com_September2020.json.gz\n"
     ]
    },
    {
     "name": "stderr",
     "output_type": "stream",
     "text": [
      " 14% (249 of 1687) |###                  | Elapsed Time: 0:00:33 ETA:   0:03:11"
     ]
    },
    {
     "name": "stdout",
     "output_type": "stream",
     "text": [
      "/Product_blueberrybrands.co.uk_September2020.json.gz\n",
      "/Product_arteblas.com_September2020.json.gz\n",
      "/Product_thebikehubonline.com_September2020.json.gz\n"
     ]
    },
    {
     "name": "stderr",
     "output_type": "stream",
     "text": [
      "\r",
      " 14% (251 of 1687) |###                  | Elapsed Time: 0:00:33 ETA:   0:03:20"
     ]
    },
    {
     "name": "stdout",
     "output_type": "stream",
     "text": [
      "/Product_365games.co.uk_September2020.json.gz\n"
     ]
    },
    {
     "name": "stderr",
     "output_type": "stream",
     "text": [
      " 14% (253 of 1687) |###                  | Elapsed Time: 0:00:34 ETA:   0:05:47"
     ]
    },
    {
     "name": "stdout",
     "output_type": "stream",
     "text": [
      "/Product_steinersskibike.com_September2020.json.gz\n",
      "/Product_firearmsunknown.com_September2020.json.gz\n"
     ]
    },
    {
     "name": "stderr",
     "output_type": "stream",
     "text": [
      "\r",
      " 15% (255 of 1687) |###                  | Elapsed Time: 0:00:34 ETA:   0:05:03"
     ]
    },
    {
     "name": "stdout",
     "output_type": "stream",
     "text": [
      "/Product_giantuniversitycity.com_September2020.json.gz\n",
      "/Product_deadtreeart.net_September2020.json.gz\n",
      "/Product_tuckertime.com_September2020.json.gz\n"
     ]
    },
    {
     "name": "stderr",
     "output_type": "stream",
     "text": [
      " 15% (259 of 1687) |###                  | Elapsed Time: 0:00:35 ETA:   0:04:19"
     ]
    },
    {
     "name": "stdout",
     "output_type": "stream",
     "text": [
      "/Product_1foteam.com_September2020.json.gz\n",
      "/Product_dhcp.com.br_September2020.json.gz\n",
      "/Product_harrisburgfloor.com_September2020.json.gz\n"
     ]
    },
    {
     "name": "stderr",
     "output_type": "stream",
     "text": [
      "\r",
      " 15% (262 of 1687) |###                  | Elapsed Time: 0:00:35 ETA:   0:03:40"
     ]
    },
    {
     "name": "stdout",
     "output_type": "stream",
     "text": [
      "/Product_abovedarim.com_September2020.json.gz\n",
      "/Product_cbmusiconline.com_September2020.json.gz\n",
      "/Product_incredideals.net_September2020.json.gz\n",
      "/Product_allencarpetfloorsandbeyond.com_September2020.json.gz\n",
      "/Product_spokengear.com_September2020.json.gz\n"
     ]
    },
    {
     "name": "stderr",
     "output_type": "stream",
     "text": [
      " 15% (266 of 1687) |###                  | Elapsed Time: 0:00:35 ETA:   0:03:29"
     ]
    },
    {
     "name": "stdout",
     "output_type": "stream",
     "text": [
      "/Product_lasermediasupplies.co.uk_September2020.json.gz\n",
      "/Product_tonerstampante.com_September2020.json.gz\n",
      "/Product_gunas9.com_September2020.json.gz\n"
     ]
    },
    {
     "name": "stderr",
     "output_type": "stream",
     "text": [
      " 16% (270 of 1687) |###                  | Elapsed Time: 0:00:36 ETA:   0:03:07"
     ]
    },
    {
     "name": "stdout",
     "output_type": "stream",
     "text": [
      "/Product_therefurbishedapplestore.com_September2020.json.gz\n",
      "/Product_raymondleejewelers.net_September2020.json.gz\n",
      "/Product_gurleyleep.com_September2020.json.gz\n"
     ]
    },
    {
     "name": "stderr",
     "output_type": "stream",
     "text": [
      "\r",
      " 16% (272 of 1687) |###                  | Elapsed Time: 0:00:36 ETA:   0:02:59"
     ]
    },
    {
     "name": "stdout",
     "output_type": "stream",
     "text": [
      "/Product_contractorsflooringsupply.com_September2020.json.gz\n",
      "/Product_appliancedriven.com_September2020.json.gz\n",
      "/Product_closetspree.com_September2020.json.gz\n",
      "/Product_youngbloodbicycles.com_September2020.json.gz\n"
     ]
    },
    {
     "name": "stderr",
     "output_type": "stream",
     "text": [
      " 16% (277 of 1687) |###                  | Elapsed Time: 0:00:36 ETA:   0:02:38"
     ]
    },
    {
     "name": "stdout",
     "output_type": "stream",
     "text": [
      "/Product_millcreekfoods.com_September2020.json.gz\n",
      "/Product_rocosmetiks.com_September2020.json.gz\n",
      "/Product_agpatweb.com_September2020.json.gz\n"
     ]
    },
    {
     "name": "stderr",
     "output_type": "stream",
     "text": [
      " 16% (279 of 1687) |###                  | Elapsed Time: 0:00:36 ETA:   0:01:51"
     ]
    },
    {
     "name": "stdout",
     "output_type": "stream",
     "text": [
      "/Product_shop4fi.com_September2020.json.gz\n",
      "/Product_krogensboscobel.com_September2020.json.gz\n"
     ]
    },
    {
     "name": "stderr",
     "output_type": "stream",
     "text": [
      "\r",
      " 16% (280 of 1687) |###                  | Elapsed Time: 0:00:36 ETA:   0:01:56"
     ]
    },
    {
     "name": "stdout",
     "output_type": "stream",
     "text": [
      "/Product_queenappliance.com_September2020.json.gz\n",
      "/Product_rainierag.org_September2020.json.gz\n",
      "/Product_farmaten.com_September2020.json.gz\n"
     ]
    },
    {
     "name": "stderr",
     "output_type": "stream",
     "text": [
      "\r",
      " 16% (283 of 1687) |###                  | Elapsed Time: 0:00:37 ETA:   0:01:52"
     ]
    },
    {
     "name": "stdout",
     "output_type": "stream",
     "text": [
      "/Product_sydneyjewishmuseum.com.au_September2020.json.gz\n",
      "/Product_bikelinkbham.com_September2020.json.gz\n"
     ]
    },
    {
     "name": "stderr",
     "output_type": "stream",
     "text": [
      " 16% (286 of 1687) |###                  | Elapsed Time: 0:00:37 ETA:   0:02:10"
     ]
    },
    {
     "name": "stdout",
     "output_type": "stream",
     "text": [
      "/Product_shop4mu.com_September2020.json.gz\n",
      "/Product_scottappliances.com_September2020.json.gz\n",
      "/Product_hometownfloorsonline.com_September2020.json.gz\n"
     ]
    },
    {
     "name": "stderr",
     "output_type": "stream",
     "text": [
      " 17% (289 of 1687) |###                  | Elapsed Time: 0:00:37 ETA:   0:02:02"
     ]
    },
    {
     "name": "stdout",
     "output_type": "stream",
     "text": [
      "/Product_eurocarta.net_September2020.json.gz\n",
      "/Product_sumblex.com_September2020.json.gz\n",
      "/Product_easternoutfitter.com_September2020.json.gz\n",
      "/Product_delairscarpetbarn.com_September2020.json.gz\n"
     ]
    },
    {
     "name": "stderr",
     "output_type": "stream",
     "text": [
      " 17% (295 of 1687) |###                  | Elapsed Time: 0:00:38 ETA:   0:01:49"
     ]
    },
    {
     "name": "stdout",
     "output_type": "stream",
     "text": [
      "/Product_shoptronics.com_September2020.json.gz\n",
      "/Product_e-cosmetorium.com_September2020.json.gz\n",
      "/Product_best-traditional-herbalist-healer.com_September2020.json.gz\n",
      "/Product_meadsbikeshop.com_September2020.json.gz\n"
     ]
    },
    {
     "name": "stderr",
     "output_type": "stream",
     "text": [
      "\r",
      " 17% (296 of 1687) |###                  | Elapsed Time: 0:00:38 ETA:   0:01:50"
     ]
    },
    {
     "name": "stdout",
     "output_type": "stream",
     "text": [
      "/Product_tchomefurnishingsiowa.com_September2020.json.gz\n",
      "/Product_drmusic123.com_September2020.json.gz\n"
     ]
    },
    {
     "name": "stderr",
     "output_type": "stream",
     "text": [
      " 17% (299 of 1687) |###                  | Elapsed Time: 0:00:39 ETA:   0:03:10"
     ]
    },
    {
     "name": "stdout",
     "output_type": "stream",
     "text": [
      "/Product_citygrounds.com_September2020.json.gz\n",
      "/Product_montlakebike.com_September2020.json.gz\n"
     ]
    },
    {
     "name": "stderr",
     "output_type": "stream",
     "text": [
      " 17% (302 of 1687) |###                  | Elapsed Time: 0:00:39 ETA:   0:03:33"
     ]
    },
    {
     "name": "stdout",
     "output_type": "stream",
     "text": [
      "/Product_simel-bih.com_September2020.json.gz\n",
      "/Product_greenacregardening.com_September2020.json.gz\n",
      "/Product_kmapplianceandtv.com_September2020.json.gz\n",
      "/Product_bobcatbicycles.com_September2020.json.gz\n"
     ]
    },
    {
     "name": "stderr",
     "output_type": "stream",
     "text": [
      " 18% (306 of 1687) |###                  | Elapsed Time: 0:00:40 ETA:   0:04:24"
     ]
    },
    {
     "name": "stdout",
     "output_type": "stream",
     "text": [
      "/Product_medallionshop.com_September2020.json.gz\n",
      "/Product_highertech.com_September2020.json.gz\n",
      "/Product_247inktoner.com_September2020.json.gz\n"
     ]
    },
    {
     "name": "stderr",
     "output_type": "stream",
     "text": [
      " 18% (309 of 1687) |###                  | Elapsed Time: 0:00:40 ETA:   0:04:11"
     ]
    },
    {
     "name": "stdout",
     "output_type": "stream",
     "text": [
      "/Product_pharmaciedelafobio.com_September2020.json.gz\n",
      "/Product_shopbaldwins.com_September2020.json.gz\n",
      "/Product_onlineshoppingdirect.com.au_September2020.json.gz\n",
      "/Product_bikeconnection.net_September2020.json.gz\n"
     ]
    },
    {
     "name": "stderr",
     "output_type": "stream",
     "text": [
      "\r",
      " 18% (311 of 1687) |###                  | Elapsed Time: 0:00:40 ETA:   0:04:03"
     ]
    },
    {
     "name": "stdout",
     "output_type": "stream",
     "text": [
      "/Product_forestry-suppliers.com_September2020.json.gz\n"
     ]
    },
    {
     "name": "stderr",
     "output_type": "stream",
     "text": [
      "\r",
      " 18% (312 of 1687) |###                  | Elapsed Time: 0:00:41 ETA:   0:04:09"
     ]
    },
    {
     "name": "stdout",
     "output_type": "stream",
     "text": [
      "/Product_1stclassflooring.com_September2020.json.gz\n",
      "/Product_ridebrooklynny.com_September2020.json.gz\n"
     ]
    },
    {
     "name": "stderr",
     "output_type": "stream",
     "text": [
      "\r",
      " 18% (314 of 1687) |###                  | Elapsed Time: 0:00:41 ETA:   0:03:05"
     ]
    },
    {
     "name": "stdout",
     "output_type": "stream",
     "text": [
      "/Product_ultimatesheepskin.com_September2020.json.gz\n",
      "/Product_bibliocommons.com_September2020.json.gz\n"
     ]
    },
    {
     "name": "stderr",
     "output_type": "stream",
     "text": [
      "\r",
      " 18% (316 of 1687) |###                  | Elapsed Time: 0:00:43 ETA:   0:12:34"
     ]
    },
    {
     "name": "stdout",
     "output_type": "stream",
     "text": [
      "/Product_rayskillmannortheast.com_September2020.json.gz\n",
      "/Product_frogandtoadstore.com_September2020.json.gz\n"
     ]
    },
    {
     "name": "stderr",
     "output_type": "stream",
     "text": [
      " 18% (320 of 1687) |###                  | Elapsed Time: 0:00:43 ETA:   0:09:53"
     ]
    },
    {
     "name": "stdout",
     "output_type": "stream",
     "text": [
      "/Product_lolany.com_September2020.json.gz\n",
      "/Product_foreverfloorswholesale.com_September2020.json.gz\n",
      "/Product_qlickcafe.com_September2020.json.gz\n",
      "/Product_newlondonpharmacy.com_September2020.json.gz\n"
     ]
    },
    {
     "name": "stderr",
     "output_type": "stream",
     "text": [
      " 19% (324 of 1687) |####                 | Elapsed Time: 0:00:44 ETA:   0:06:43"
     ]
    },
    {
     "name": "stdout",
     "output_type": "stream",
     "text": [
      "/Product_nflandisappliances.com_September2020.json.gz\n",
      "/Product_shopbdlux.com_September2020.json.gz\n",
      "/Product_performancebike.com_September2020.json.gz\n"
     ]
    },
    {
     "name": "stderr",
     "output_type": "stream",
     "text": [
      "\r",
      " 19% (325 of 1687) |####                 | Elapsed Time: 0:00:45 ETA:   0:07:45"
     ]
    },
    {
     "name": "stdout",
     "output_type": "stream",
     "text": [
      "/Product_earlsbicyclestore.com_September2020.json.gz\n",
      "/Product_getitnew.com_September2020.json.gz\n"
     ]
    },
    {
     "name": "stderr",
     "output_type": "stream",
     "text": [
      " 19% (330 of 1687) |####                 | Elapsed Time: 0:00:45 ETA:   0:03:29"
     ]
    },
    {
     "name": "stdout",
     "output_type": "stream",
     "text": [
      "/Product_boulevardflooringemporium.com_September2020.json.gz\n",
      "/Product_activcycles.co.uk_September2020.json.gz\n",
      "/Product_gadgeticloud.com_September2020.json.gz\n",
      "/Product_selfdefensesupermall.com_September2020.json.gz\n",
      "/Product_sonolightsystems.com_September2020.json.gz\n"
     ]
    },
    {
     "name": "stderr",
     "output_type": "stream",
     "text": [
      "\r",
      " 19% (332 of 1687) |####                 | Elapsed Time: 0:00:45 ETA:   0:03:18"
     ]
    },
    {
     "name": "stdout",
     "output_type": "stream",
     "text": [
      "/Product_wolf-events.com_September2020.json.gz\n",
      "/Product_rbpublish.com_September2020.json.gz\n",
      "/Product_fabulousfairyfactory.co.uk_September2020.json.gz\n",
      "/Product_birdlegsbicycles.com_September2020.json.gz\n"
     ]
    },
    {
     "name": "stderr",
     "output_type": "stream",
     "text": [
      "\r",
      " 19% (336 of 1687) |####                 | Elapsed Time: 0:00:45 ETA:   0:02:34"
     ]
    },
    {
     "name": "stdout",
     "output_type": "stream",
     "text": [
      "/Product_teknotrend.net_September2020.json.gz\n",
      "/Product_smithfurniturehuntington.com_September2020.json.gz\n"
     ]
    },
    {
     "name": "stderr",
     "output_type": "stream",
     "text": [
      " 20% (339 of 1687) |####                 | Elapsed Time: 0:00:46 ETA:   0:02:47"
     ]
    },
    {
     "name": "stdout",
     "output_type": "stream",
     "text": [
      "/Product_rockandsoul.com_September2020.json.gz\n",
      "/Product_mestores.com_September2020.json.gz\n"
     ]
    },
    {
     "name": "stderr",
     "output_type": "stream",
     "text": [
      " 20% (342 of 1687) |####                 | Elapsed Time: 0:00:46 ETA:   0:02:53"
     ]
    },
    {
     "name": "stdout",
     "output_type": "stream",
     "text": [
      "/Product_bluedistribuidora.com.br_September2020.json.gz\n",
      "/Product_vesira.com_September2020.json.gz\n",
      "/Product_allfloors.com_September2020.json.gz\n"
     ]
    },
    {
     "name": "stderr",
     "output_type": "stream",
     "text": [
      " 20% (348 of 1687) |####                 | Elapsed Time: 0:00:46 ETA:   0:02:20"
     ]
    },
    {
     "name": "stdout",
     "output_type": "stream",
     "text": [
      "/Product_betakart.com_September2020.json.gz\n",
      "/Product_clnanddrty.com_September2020.json.gz\n",
      "/Product_vanderbergfurniture.com_September2020.json.gz\n",
      "/Product_nexus.com.bd_September2020.json.gz\n",
      "/Product_mgscommunications-securitystore.com_September2020.json.gz\n",
      "/Product_edel-optics.co.uk_September2020.json.gz\n"
     ]
    },
    {
     "name": "stderr",
     "output_type": "stream",
     "text": [
      "\r",
      " 20% (350 of 1687) |####                 | Elapsed Time: 0:00:47 ETA:   0:02:22"
     ]
    },
    {
     "name": "stdout",
     "output_type": "stream",
     "text": [
      "/Product_prodirectfit.com_September2020.json.gz\n",
      "/Product_rjbradleys.com_September2020.json.gz\n"
     ]
    },
    {
     "name": "stderr",
     "output_type": "stream",
     "text": [
      "\r",
      " 20% (352 of 1687) |####                 | Elapsed Time: 0:00:47 ETA:   0:01:44"
     ]
    },
    {
     "name": "stdout",
     "output_type": "stream",
     "text": [
      "/Product_cucarfinders.com_September2020.json.gz\n",
      "/Product_homeinteriorsoutlet.com_September2020.json.gz\n"
     ]
    },
    {
     "name": "stderr",
     "output_type": "stream",
     "text": [
      " 20% (354 of 1687) |####                 | Elapsed Time: 0:00:48 ETA:   0:03:32"
     ]
    },
    {
     "name": "stdout",
     "output_type": "stream",
     "text": [
      "/Product_agillemed.com.br_September2020.json.gz\n",
      "/Product_avroshackleton.co.uk_September2020.json.gz\n",
      "/Product_pilogico.com_September2020.json.gz\n"
     ]
    },
    {
     "name": "stderr",
     "output_type": "stream",
     "text": [
      " 21% (359 of 1687) |####                 | Elapsed Time: 0:00:48 ETA:   0:03:17"
     ]
    },
    {
     "name": "stdout",
     "output_type": "stream",
     "text": [
      "/Product_videoplay.net_September2020.json.gz\n",
      "/Product_tiptopbikeshop.com_September2020.json.gz\n",
      "/Product_breechesandbows.com_September2020.json.gz\n",
      "/Product_bozziglobe.com_September2020.json.gz\n"
     ]
    },
    {
     "name": "stderr",
     "output_type": "stream",
     "text": [
      "\r",
      " 21% (360 of 1687) |####                 | Elapsed Time: 0:00:48 ETA:   0:03:47"
     ]
    },
    {
     "name": "stdout",
     "output_type": "stream",
     "text": [
      "/Product_fotoattualitacesni.com_September2020.json.gz\n",
      "/Product_stricklinstudio.org_September2020.json.gz\n",
      "/Product_peoriamedicalcenter.com_September2020.json.gz\n"
     ]
    },
    {
     "name": "stderr",
     "output_type": "stream",
     "text": [
      "\r",
      " 21% (363 of 1687) |####                 | Elapsed Time: 0:00:49 ETA:   0:03:32"
     ]
    },
    {
     "name": "stdout",
     "output_type": "stream",
     "text": [
      "/Product_sherlockscarpet.com_September2020.json.gz\n",
      "/Product_pilotmall.com_September2020.json.gz\n"
     ]
    },
    {
     "name": "stderr",
     "output_type": "stream",
     "text": [
      " 21% (366 of 1687) |####                 | Elapsed Time: 0:00:49 ETA:   0:03:41"
     ]
    },
    {
     "name": "stdout",
     "output_type": "stream",
     "text": [
      "/Product_mypilotstore.com_September2020.json.gz\n",
      "/Product_ippolitosfurniture.com_September2020.json.gz\n"
     ]
    },
    {
     "name": "stderr",
     "output_type": "stream",
     "text": [
      " 21% (369 of 1687) |####                 | Elapsed Time: 0:00:49 ETA:   0:03:25"
     ]
    },
    {
     "name": "stdout",
     "output_type": "stream",
     "text": [
      "/Product_electronicabenedicto.com_September2020.json.gz\n",
      "/Product_anetinfo.com_September2020.json.gz\n",
      "/Product_elktoncarpet.com_September2020.json.gz\n"
     ]
    },
    {
     "name": "stderr",
     "output_type": "stream",
     "text": [
      "\r",
      " 21% (371 of 1687) |####                 | Elapsed Time: 0:00:49 ETA:   0:03:10"
     ]
    },
    {
     "name": "stdout",
     "output_type": "stream",
     "text": [
      "/Product_desibela.com_September2020.json.gz\n",
      "/Product_soloptical.net_September2020.json.gz\n",
      "/Product_dimensionsintile.com_September2020.json.gz\n"
     ]
    },
    {
     "name": "stderr",
     "output_type": "stream",
     "text": [
      " 22% (374 of 1687) |####                 | Elapsed Time: 0:00:50 ETA:   0:03:04"
     ]
    },
    {
     "name": "stdout",
     "output_type": "stream",
     "text": [
      "/Product_prensadigitalpr.com_September2020.json.gz\n"
     ]
    },
    {
     "name": "stderr",
     "output_type": "stream",
     "text": [
      "\r",
      " 22% (376 of 1687) |####                 | Elapsed Time: 0:00:50 ETA:   0:01:55"
     ]
    },
    {
     "name": "stdout",
     "output_type": "stream",
     "text": [
      "/Product_pro-computers.co.uk_September2020.json.gz\n",
      "/Product_cycling-force.com_September2020.json.gz\n",
      "/Product_opasolutions.net_September2020.json.gz\n",
      "/Product_outspokin.net_September2020.json.gz\n"
     ]
    },
    {
     "name": "stderr",
     "output_type": "stream",
     "text": [
      " 22% (381 of 1687) |####                 | Elapsed Time: 0:00:50 ETA:   0:02:02"
     ]
    },
    {
     "name": "stdout",
     "output_type": "stream",
     "text": [
      "/Product_laroche-posay.co.uk_September2020.json.gz\n",
      "/Product_simplifinetworks.com_September2020.json.gz\n",
      "/Product_hprestonmedia.co.uk_September2020.json.gz\n",
      "/Product_sneakerbarber.com_September2020.json.gz\n"
     ]
    },
    {
     "name": "stderr",
     "output_type": "stream",
     "text": [
      "\r",
      " 22% (384 of 1687) |####                 | Elapsed Time: 0:00:51 ETA:   0:01:59"
     ]
    },
    {
     "name": "stdout",
     "output_type": "stream",
     "text": [
      "/Product_modern-capsule.com_September2020.json.gz\n",
      "/Product_drogariaspacheco.com.br_September2020.json.gz\n",
      "/Product_thefragrancecounter.co.uk_September2020.json.gz\n"
     ]
    },
    {
     "name": "stderr",
     "output_type": "stream",
     "text": [
      "\r",
      " 22% (385 of 1687) |####                 | Elapsed Time: 0:00:51 ETA:   0:01:59"
     ]
    },
    {
     "name": "stdout",
     "output_type": "stream",
     "text": [
      "/Product_bristleconebikes.com_September2020.json.gz\n",
      "/Product_skincarerx.com_September2020.json.gz\n"
     ]
    },
    {
     "name": "stderr",
     "output_type": "stream",
     "text": [
      " 22% (388 of 1687) |####                 | Elapsed Time: 0:00:51 ETA:   0:02:12"
     ]
    },
    {
     "name": "stdout",
     "output_type": "stream",
     "text": [
      "/Product_sewan.com_September2020.json.gz\n",
      "/Product_mimosala.com_September2020.json.gz\n",
      "/Product_elite-electronics.com.au_September2020.json.gz\n",
      "/Product_nicolletbike.com_September2020.json.gz\n"
     ]
    },
    {
     "name": "stderr",
     "output_type": "stream",
     "text": [
      "\r",
      " 23% (391 of 1687) |####                 | Elapsed Time: 0:00:52 ETA:   0:02:17"
     ]
    },
    {
     "name": "stdout",
     "output_type": "stream",
     "text": [
      "/Product_thehappysol.com_September2020.json.gz\n",
      "/Product_route66bicycles.com_September2020.json.gz\n"
     ]
    },
    {
     "name": "stderr",
     "output_type": "stream",
     "text": [
      "\r",
      " 23% (393 of 1687) |####                 | Elapsed Time: 0:00:52 ETA:   0:02:22"
     ]
    },
    {
     "name": "stdout",
     "output_type": "stream",
     "text": [
      "/Product_lcgfoods.com_September2020.json.gz\n",
      "/Product_tristatesecurityproducts.com_September2020.json.gz\n",
      "/Product_helidirect.com_September2020.json.gz\n"
     ]
    },
    {
     "name": "stderr",
     "output_type": "stream",
     "text": [
      " 23% (398 of 1687) |####                 | Elapsed Time: 0:00:52 ETA:   0:02:18"
     ]
    },
    {
     "name": "stdout",
     "output_type": "stream",
     "text": [
      "/Product_carpetsofcapecod.com_September2020.json.gz\n",
      "/Product_revolutionscyclery.com_September2020.json.gz\n",
      "/Product_hairbyjammie.com_September2020.json.gz\n"
     ]
    },
    {
     "name": "stderr",
     "output_type": "stream",
     "text": [
      "\r",
      " 23% (400 of 1687) |####                 | Elapsed Time: 0:00:52 ETA:   0:02:22"
     ]
    },
    {
     "name": "stdout",
     "output_type": "stream",
     "text": [
      "/Product_theinitialchoice.com_September2020.json.gz\n",
      "/Product_nacloset.com_September2020.json.gz\n"
     ]
    },
    {
     "name": "stderr",
     "output_type": "stream",
     "text": [
      " 23% (402 of 1687) |#####                | Elapsed Time: 0:00:53 ETA:   0:02:40"
     ]
    },
    {
     "name": "stdout",
     "output_type": "stream",
     "text": [
      "/Product_fotooehlmann.com_September2020.json.gz\n",
      "/Product_miswag.net_September2020.json.gz\n"
     ]
    },
    {
     "name": "stderr",
     "output_type": "stream",
     "text": [
      "\r",
      " 23% (403 of 1687) |#####                | Elapsed Time: 0:00:53 ETA:   0:03:00"
     ]
    },
    {
     "name": "stdout",
     "output_type": "stream",
     "text": [
      "/Product_e-siactis.com_September2020.json.gz\n",
      "/Product_foundationmc.com_September2020.json.gz\n",
      "/Product_edenbicycles.com_September2020.json.gz\n"
     ]
    },
    {
     "name": "stderr",
     "output_type": "stream",
     "text": [
      " 24% (409 of 1687) |#####                | Elapsed Time: 0:00:54 ETA:   0:02:41"
     ]
    },
    {
     "name": "stdout",
     "output_type": "stream",
     "text": [
      "/Product_bluelinebikelab.com_September2020.json.gz\n",
      "/Product_wildcatbeauty.com_September2020.json.gz\n",
      "/Product_superfreshmarketrd.com_September2020.json.gz\n",
      "/Product_industry-electronics.com_September2020.json.gz\n"
     ]
    },
    {
     "name": "stderr",
     "output_type": "stream",
     "text": [
      " 24% (412 of 1687) |#####                | Elapsed Time: 0:00:54 ETA:   0:02:34"
     ]
    },
    {
     "name": "stdout",
     "output_type": "stream",
     "text": [
      "/Product_southernman.com.au_September2020.json.gz\n",
      "/Product_outdoorphotogear.com_September2020.json.gz\n",
      "/Product_harborsidecycle.com_September2020.json.gz\n"
     ]
    },
    {
     "name": "stderr",
     "output_type": "stream",
     "text": [
      "\r",
      " 24% (414 of 1687) |#####                | Elapsed Time: 0:00:54 ETA:   0:02:39"
     ]
    },
    {
     "name": "stdout",
     "output_type": "stream",
     "text": [
      "/Product_shoppoponline.com_September2020.json.gz\n",
      "/Product_chefsgourmetmarket.com_September2020.json.gz\n",
      "/Product_springviewapp.com_September2020.json.gz\n"
     ]
    },
    {
     "name": "stderr",
     "output_type": "stream",
     "text": [
      " 24% (418 of 1687) |#####                | Elapsed Time: 0:00:55 ETA:   0:02:32"
     ]
    },
    {
     "name": "stdout",
     "output_type": "stream",
     "text": [
      "/Product_suzyswede.com_September2020.json.gz\n",
      "/Product_chiaragioielleria.com_September2020.json.gz\n",
      "/Product_antonline.com_September2020.json.gz\n"
     ]
    },
    {
     "name": "stderr",
     "output_type": "stream",
     "text": [
      "\r",
      " 24% (419 of 1687) |#####                | Elapsed Time: 0:00:55 ETA:   0:02:45"
     ]
    },
    {
     "name": "stdout",
     "output_type": "stream",
     "text": [
      "/Product_lavandedelapaloma.com_September2020.json.gz\n",
      "/Product_carpetusainc.com_September2020.json.gz\n",
      "/Product_rbscyclery.com_September2020.json.gz\n"
     ]
    },
    {
     "name": "stderr",
     "output_type": "stream",
     "text": [
      " 25% (423 of 1687) |#####                | Elapsed Time: 0:00:56 ETA:   0:02:10"
     ]
    },
    {
     "name": "stdout",
     "output_type": "stream",
     "text": [
      "/Product_opticasanabre.com_September2020.json.gz\n",
      "/Product_hp.com_September2020.json.gz\n"
     ]
    },
    {
     "name": "stderr",
     "output_type": "stream",
     "text": [
      "\r",
      " 25% (424 of 1687) |#####                | Elapsed Time: 0:00:57 ETA:   0:08:10"
     ]
    },
    {
     "name": "stdout",
     "output_type": "stream",
     "text": [
      "/Product_raysappliancestaunton.com_September2020.json.gz\n",
      "/Product_hvchemical.com_September2020.json.gz\n"
     ]
    },
    {
     "name": "stderr",
     "output_type": "stream",
     "text": [
      " 25% (428 of 1687) |#####                | Elapsed Time: 0:00:57 ETA:   0:06:21"
     ]
    },
    {
     "name": "stdout",
     "output_type": "stream",
     "text": [
      "/Product_infomaxparis.com_September2020.json.gz\n",
      "/Product_gorigogo.com_September2020.json.gz\n",
      "/Product_studiodepot.com_September2020.json.gz\n"
     ]
    },
    {
     "name": "stderr",
     "output_type": "stream",
     "text": [
      "\r",
      " 25% (429 of 1687) |#####                | Elapsed Time: 0:00:58 ETA:   0:07:13"
     ]
    },
    {
     "name": "stdout",
     "output_type": "stream",
     "text": [
      "/Product_iphoneshoppingonline.com_September2020.json.gz\n",
      "/Product_billsbikeandrun.com_September2020.json.gz\n"
     ]
    },
    {
     "name": "stderr",
     "output_type": "stream",
     "text": [
      "\r",
      " 25% (431 of 1687) |#####                | Elapsed Time: 0:00:58 ETA:   0:06:02"
     ]
    },
    {
     "name": "stdout",
     "output_type": "stream",
     "text": [
      "/Product_greggscycles.com_September2020.json.gz\n"
     ]
    },
    {
     "name": "stderr",
     "output_type": "stream",
     "text": [
      " 25% (434 of 1687) |#####                | Elapsed Time: 0:00:58 ETA:   0:05:19"
     ]
    },
    {
     "name": "stdout",
     "output_type": "stream",
     "text": [
      "/Product_tronikx.com.mt_September2020.json.gz\n",
      "/Product_flashmemo.co.uk_September2020.json.gz\n",
      "/Product_shoplunaclaires.com_September2020.json.gz\n",
      "/Product_woodcockcycle.com_September2020.json.gz\n"
     ]
    },
    {
     "name": "stderr",
     "output_type": "stream",
     "text": [
      "\r",
      " 25% (436 of 1687) |#####                | Elapsed Time: 0:00:59 ETA:   0:05:13"
     ]
    },
    {
     "name": "stdout",
     "output_type": "stream",
     "text": [
      "/Product_ricbdsales.com_September2020.json.gz\n",
      "/Product_bt.com_September2020.json.gz\n"
     ]
    },
    {
     "name": "stderr",
     "output_type": "stream",
     "text": [
      " 26% (440 of 1687) |#####                | Elapsed Time: 0:01:02 ETA:   0:17:29"
     ]
    },
    {
     "name": "stdout",
     "output_type": "stream",
     "text": [
      "/Product_lovealexandra.co.uk_September2020.json.gz\n",
      "/Product_bonzadigital.co.uk_September2020.json.gz\n",
      "/Product_bobzillabikes.com_September2020.json.gz\n"
     ]
    },
    {
     "name": "stderr",
     "output_type": "stream",
     "text": [
      "\r",
      " 26% (442 of 1687) |#####                | Elapsed Time: 0:01:02 ETA:   0:12:30"
     ]
    },
    {
     "name": "stdout",
     "output_type": "stream",
     "text": [
      "/Product_kool-heads.com_September2020.json.gz\n",
      "/Product_nmbikensport.com_September2020.json.gz\n"
     ]
    },
    {
     "name": "stderr",
     "output_type": "stream",
     "text": [
      "\r",
      " 26% (443 of 1687) |#####                | Elapsed Time: 0:01:03 ETA:   0:11:47"
     ]
    },
    {
     "name": "stdout",
     "output_type": "stream",
     "text": [
      "/Product_asus.com_September2020.json.gz\n"
     ]
    },
    {
     "name": "stderr",
     "output_type": "stream",
     "text": [
      "\r",
      " 26% (444 of 1687) |#####                | Elapsed Time: 0:01:03 ETA:   0:11:17"
     ]
    },
    {
     "name": "stdout",
     "output_type": "stream",
     "text": [
      "/Product_coolmobile.net.nz_September2020.json.gz\n",
      "/Product_rydjor.com_September2020.json.gz\n"
     ]
    },
    {
     "name": "stderr",
     "output_type": "stream",
     "text": [
      " 26% (447 of 1687) |#####                | Elapsed Time: 0:01:04 ETA:   0:09:06"
     ]
    },
    {
     "name": "stdout",
     "output_type": "stream",
     "text": [
      "/Product_rapidfurnitureutica.com_September2020.json.gz\n",
      "/Product_bandlbicycles.com_September2020.json.gz\n"
     ]
    },
    {
     "name": "stderr",
     "output_type": "stream",
     "text": [
      "\r",
      " 26% (449 of 1687) |#####                | Elapsed Time: 0:01:04 ETA:   0:07:59"
     ]
    },
    {
     "name": "stdout",
     "output_type": "stream",
     "text": [
      "/Product_itosolutions.net_September2020.json.gz\n",
      "/Product_blueridgecyclery.com_September2020.json.gz\n"
     ]
    },
    {
     "name": "stderr",
     "output_type": "stream",
     "text": [
      "\r",
      " 26% (450 of 1687) |#####                | Elapsed Time: 0:01:04 ETA:   0:03:38"
     ]
    },
    {
     "name": "stdout",
     "output_type": "stream",
     "text": [
      "/Product_heritage-print.com_September2020.json.gz\n"
     ]
    },
    {
     "name": "stderr",
     "output_type": "stream",
     "text": [
      " 26% (453 of 1687) |#####                | Elapsed Time: 0:01:05 ETA:   0:04:14"
     ]
    },
    {
     "name": "stdout",
     "output_type": "stream",
     "text": [
      "/Product_loladre.com_September2020.json.gz\n",
      "/Product_afterhours.co.uk_September2020.json.gz\n",
      "/Product_perrimed.com_September2020.json.gz\n"
     ]
    },
    {
     "name": "stderr",
     "output_type": "stream",
     "text": [
      "\r",
      " 26% (455 of 1687) |#####                | Elapsed Time: 0:01:05 ETA:   0:03:50"
     ]
    },
    {
     "name": "stdout",
     "output_type": "stream",
     "text": [
      "/Product_3jcigar.com_September2020.json.gz\n",
      "/Product_baylandflooring.com_September2020.json.gz\n",
      "/Product_atelierlou.com_September2020.json.gz\n"
     ]
    },
    {
     "name": "stderr",
     "output_type": "stream",
     "text": [
      "\r",
      " 27% (457 of 1687) |#####                | Elapsed Time: 0:01:05 ETA:   0:03:26"
     ]
    },
    {
     "name": "stdout",
     "output_type": "stream",
     "text": [
      "/Product_kosmetikonline-shop.com_September2020.json.gz\n",
      "/Product_barriessports.com_September2020.json.gz\n"
     ]
    },
    {
     "name": "stderr",
     "output_type": "stream",
     "text": [
      " 27% (460 of 1687) |#####                | Elapsed Time: 0:01:06 ETA:   0:02:58"
     ]
    },
    {
     "name": "stdout",
     "output_type": "stream",
     "text": [
      "/Product_extremeskiandbike.com_September2020.json.gz\n",
      "/Product_linio.com.mx_September2020.json.gz\n"
     ]
    },
    {
     "name": "stderr",
     "output_type": "stream",
     "text": [
      " 27% (464 of 1687) |#####                | Elapsed Time: 0:01:07 ETA:   0:06:17"
     ]
    },
    {
     "name": "stdout",
     "output_type": "stream",
     "text": [
      "/Product_guillermoscoffee.com_September2020.json.gz\n",
      "/Product_centrul.com_September2020.json.gz\n",
      "/Product_gunas7.com_September2020.json.gz\n",
      "/Product_bayareacycling.com_September2020.json.gz\n"
     ]
    },
    {
     "name": "stderr",
     "output_type": "stream",
     "text": [
      "\r",
      " 27% (465 of 1687) |#####                | Elapsed Time: 0:01:07 ETA:   0:06:59"
     ]
    },
    {
     "name": "stdout",
     "output_type": "stream",
     "text": [
      "/Product_dalionstore.com_September2020.json.gz\n",
      "/Product_ethosprofumerielauda.com_September2020.json.gz\n"
     ]
    },
    {
     "name": "stderr",
     "output_type": "stream",
     "text": [
      " 27% (468 of 1687) |#####                | Elapsed Time: 0:01:08 ETA:   0:05:46"
     ]
    },
    {
     "name": "stdout",
     "output_type": "stream",
     "text": [
      "/Product_appliancesoforlando.com_September2020.json.gz\n",
      "/Product_forcetop.com_September2020.json.gz\n"
     ]
    },
    {
     "name": "stderr",
     "output_type": "stream",
     "text": [
      "\r",
      " 27% (469 of 1687) |#####                | Elapsed Time: 0:01:08 ETA:   0:05:25"
     ]
    },
    {
     "name": "stdout",
     "output_type": "stream",
     "text": [
      "/Product_crosscountrycycle.com_September2020.json.gz\n"
     ]
    },
    {
     "name": "stderr",
     "output_type": "stream",
     "text": [
      " 27% (472 of 1687) |#####                | Elapsed Time: 0:01:08 ETA:   0:04:46"
     ]
    },
    {
     "name": "stdout",
     "output_type": "stream",
     "text": [
      "/Product_findprices.co.uk_September2020.json.gz\n",
      "/Product_popsbikeshop.com_September2020.json.gz\n",
      "/Product_billmayappliance.com_September2020.json.gz\n",
      "/Product_labyrinthgameshop.com_September2020.json.gz\n"
     ]
    },
    {
     "name": "stderr",
     "output_type": "stream",
     "text": [
      "\r",
      " 28% (474 of 1687) |#####                | Elapsed Time: 0:01:09 ETA:   0:04:18"
     ]
    },
    {
     "name": "stdout",
     "output_type": "stream",
     "text": [
      "/Product_fotocinegranada.com_September2020.json.gz\n",
      "/Product_polylinecorp.com_September2020.json.gz\n"
     ]
    },
    {
     "name": "stderr",
     "output_type": "stream",
     "text": [
      " 28% (478 of 1687) |#####                | Elapsed Time: 0:01:09 ETA:   0:04:03"
     ]
    },
    {
     "name": "stdout",
     "output_type": "stream",
     "text": [
      "/Product_carpetempireplus.com_September2020.json.gz\n",
      "/Product_brothersmain.com_September2020.json.gz\n",
      "/Product_marikavera.com_September2020.json.gz\n",
      "/Product_schellers.com_September2020.json.gz\n"
     ]
    },
    {
     "name": "stderr",
     "output_type": "stream",
     "text": [
      "\r",
      " 28% (480 of 1687) |#####                | Elapsed Time: 0:01:10 ETA:   0:02:45"
     ]
    },
    {
     "name": "stdout",
     "output_type": "stream",
     "text": [
      "/Product_ubikes.com_September2020.json.gz\n"
     ]
    },
    {
     "name": "stderr",
     "output_type": "stream",
     "text": [
      "\r",
      " 28% (481 of 1687) |#####                | Elapsed Time: 0:01:10 ETA:   0:03:06"
     ]
    },
    {
     "name": "stdout",
     "output_type": "stream",
     "text": [
      "/Product_after-eight.com_September2020.json.gz\n",
      "/Product_bigdealflooring.com_September2020.json.gz\n",
      "/Product_perryrubberbikeshop.com_September2020.json.gz\n"
     ]
    },
    {
     "name": "stderr",
     "output_type": "stream",
     "text": [
      " 28% (486 of 1687) |######               | Elapsed Time: 0:01:10 ETA:   0:02:42"
     ]
    },
    {
     "name": "stdout",
     "output_type": "stream",
     "text": [
      "/Product_vo2sportsco.com_September2020.json.gz\n",
      "/Product_bluewillowtucson.com_September2020.json.gz\n",
      "/Product_runnersdepot.net_September2020.json.gz\n",
      "/Product_kojahub.com_September2020.json.gz\n"
     ]
    },
    {
     "name": "stderr",
     "output_type": "stream",
     "text": [
      "\r",
      " 28% (489 of 1687) |######               | Elapsed Time: 0:01:10 ETA:   0:02:29"
     ]
    },
    {
     "name": "stdout",
     "output_type": "stream",
     "text": [
      "/Product_vira-world.com_September2020.json.gz\n",
      "/Product_archersbikes.com_September2020.json.gz\n"
     ]
    },
    {
     "name": "stderr",
     "output_type": "stream",
     "text": [
      " 29% (492 of 1687) |######               | Elapsed Time: 0:01:11 ETA:   0:02:28"
     ]
    },
    {
     "name": "stdout",
     "output_type": "stream",
     "text": [
      "/Product_tptg.co.uk_September2020.json.gz\n",
      "/Product_freecycle.com.br_September2020.json.gz\n",
      "/Product_wifispares.com_September2020.json.gz\n",
      "/Product_cardozaflooring.com_September2020.json.gz\n",
      "/Product_botappliance.com_September2020.json.gz\n"
     ]
    },
    {
     "name": "stderr",
     "output_type": "stream",
     "text": [
      "\r",
      " 29% (495 of 1687) |######               | Elapsed Time: 0:01:11 ETA:   0:02:13"
     ]
    },
    {
     "name": "stdout",
     "output_type": "stream",
     "text": [
      "/Product_bikedoctor.com_September2020.json.gz\n"
     ]
    },
    {
     "name": "stderr",
     "output_type": "stream",
     "text": [
      " 29% (500 of 1687) |######               | Elapsed Time: 0:01:11 ETA:   0:01:58"
     ]
    },
    {
     "name": "stdout",
     "output_type": "stream",
     "text": [
      "/Product_bobwallaceappliance.com_September2020.json.gz\n",
      "/Product_vapensmokengo.com_September2020.json.gz\n",
      "/Product_joyeriaminguez.com_September2020.json.gz\n",
      "/Product_surfstationstore.com_September2020.json.gz\n",
      "/Product_pacmarts.com_September2020.json.gz\n"
     ]
    },
    {
     "name": "stderr",
     "output_type": "stream",
     "text": [
      "\r",
      " 29% (502 of 1687) |######               | Elapsed Time: 0:01:12 ETA:   0:01:48"
     ]
    },
    {
     "name": "stdout",
     "output_type": "stream",
     "text": [
      "/Product_holdan.co.uk_September2020.json.gz\n",
      "/Product_bikedepot.com_September2020.json.gz\n",
      "/Product_top4football.com_September2020.json.gz\n"
     ]
    },
    {
     "name": "stderr",
     "output_type": "stream",
     "text": [
      " 29% (505 of 1687) |######               | Elapsed Time: 0:01:12 ETA:   0:01:48"
     ]
    },
    {
     "name": "stdout",
     "output_type": "stream",
     "text": [
      "/Product_florentineeyewear.com.au_September2020.json.gz\n",
      "/Product_halalgyrospot.com_September2020.json.gz\n",
      "/Product_coupongrab.com_September2020.json.gz\n"
     ]
    },
    {
     "name": "stderr",
     "output_type": "stream",
     "text": [
      "\r",
      " 30% (507 of 1687) |######               | Elapsed Time: 0:01:12 ETA:   0:01:36"
     ]
    },
    {
     "name": "stdout",
     "output_type": "stream",
     "text": [
      "/Product_teds.com.au_September2020.json.gz\n"
     ]
    },
    {
     "name": "stderr",
     "output_type": "stream",
     "text": [
      " 30% (510 of 1687) |######               | Elapsed Time: 0:01:12 ETA:   0:01:43"
     ]
    },
    {
     "name": "stdout",
     "output_type": "stream",
     "text": [
      "/Product_aboutallfloors.com_September2020.json.gz\n",
      "/Product_shoproyalappliance.com_September2020.json.gz\n",
      "/Product_valorebooks.com_September2020.json.gz\n"
     ]
    },
    {
     "name": "stderr",
     "output_type": "stream",
     "text": [
      " 30% (512 of 1687) |######               | Elapsed Time: 0:01:17 ETA:   0:50:09"
     ]
    },
    {
     "name": "stdout",
     "output_type": "stream",
     "text": [
      "/Product_planetetechnologie.com_September2020.json.gz\n",
      "/Product_flamingovape.com_September2020.json.gz\n",
      "/Product_geeit.com.au_September2020.json.gz\n"
     ]
    },
    {
     "name": "stderr",
     "output_type": "stream",
     "text": [
      "\r",
      " 30% (515 of 1687) |######               | Elapsed Time: 0:01:18 ETA:   0:20:43"
     ]
    },
    {
     "name": "stdout",
     "output_type": "stream",
     "text": [
      "/Product_orion-web.net_September2020.json.gz\n",
      "/Product_duncan-parnell.com_September2020.json.gz\n",
      "/Product_mahkesis.com_September2020.json.gz\n",
      "/Product_rudysbikes.com_September2020.json.gz\n"
     ]
    },
    {
     "name": "stderr",
     "output_type": "stream",
     "text": [
      "\r",
      " 30% (518 of 1687) |######               | Elapsed Time: 0:01:18 ETA:   0:13:28"
     ]
    },
    {
     "name": "stdout",
     "output_type": "stream",
     "text": [
      "/Product_universalcarpetinc.com_September2020.json.gz\n",
      "/Product_dextersdeli.com_September2020.json.gz\n",
      "/Product_trekbicyclesuperstore.com_September2020.json.gz\n"
     ]
    },
    {
     "name": "stderr",
     "output_type": "stream",
     "text": [
      " 31% (523 of 1687) |######               | Elapsed Time: 0:01:18 ETA:   0:08:56"
     ]
    },
    {
     "name": "stdout",
     "output_type": "stream",
     "text": [
      "/Product_dudussklep.com_September2020.json.gz\n",
      "/Product_eclicktecnologia.com.br_September2020.json.gz\n",
      "/Product_golfonline.co.uk_September2020.json.gz\n",
      "/Product_gizmopower.net_September2020.json.gz\n"
     ]
    },
    {
     "name": "stderr",
     "output_type": "stream",
     "text": [
      "\r",
      " 31% (525 of 1687) |######               | Elapsed Time: 0:01:18 ETA:   0:07:52"
     ]
    },
    {
     "name": "stdout",
     "output_type": "stream",
     "text": [
      "/Product_scan.co.uk_September2020.json.gz\n"
     ]
    },
    {
     "name": "stderr",
     "output_type": "stream",
     "text": [
      "\r",
      " 31% (526 of 1687) |######               | Elapsed Time: 0:01:19 ETA:   0:08:08"
     ]
    },
    {
     "name": "stdout",
     "output_type": "stream",
     "text": [
      "/Product_electrodomesticoscid.com_September2020.json.gz\n",
      "/Product_officeproducts.co.uk_September2020.json.gz\n"
     ]
    },
    {
     "name": "stderr",
     "output_type": "stream",
     "text": [
      " 31% (530 of 1687) |######               | Elapsed Time: 0:01:19 ETA:   0:02:09"
     ]
    },
    {
     "name": "stdout",
     "output_type": "stream",
     "text": [
      "/Product_uktechstore.com_September2020.json.gz\n",
      "/Product_riverboatsnautica.com_September2020.json.gz\n",
      "/Product_normansfloorcovering.com_September2020.json.gz\n",
      "/Product_lawsonbrothersfloor.com_September2020.json.gz\n",
      "/Product_searshometownstores.com_September2020.json.gz\n"
     ]
    },
    {
     "name": "stderr",
     "output_type": "stream",
     "text": [
      " 31% (534 of 1687) |######               | Elapsed Time: 0:01:20 ETA:   0:02:09"
     ]
    },
    {
     "name": "stdout",
     "output_type": "stream",
     "text": [
      "/Product_globalgiftsft.com_September2020.json.gz\n",
      "/Product_cooperrivercycles.com_September2020.json.gz\n"
     ]
    },
    {
     "name": "stderr",
     "output_type": "stream",
     "text": [
      " 31% (538 of 1687) |######               | Elapsed Time: 0:01:20 ETA:   0:02:05"
     ]
    },
    {
     "name": "stdout",
     "output_type": "stream",
     "text": [
      "/Product_trippodo.com_September2020.json.gz\n",
      "/Product_rocklandappliance.com_September2020.json.gz\n",
      "/Product_printtu.com_September2020.json.gz\n",
      "/Product_senetic.com.au_September2020.json.gz\n"
     ]
    },
    {
     "name": "stderr",
     "output_type": "stream",
     "text": [
      "\r",
      " 32% (540 of 1687) |######               | Elapsed Time: 0:01:20 ETA:   0:01:59"
     ]
    },
    {
     "name": "stdout",
     "output_type": "stream",
     "text": [
      "/Product_drimmers.com_September2020.json.gz\n",
      "/Product_summitbicycles.com_September2020.json.gz\n"
     ]
    },
    {
     "name": "stderr",
     "output_type": "stream",
     "text": [
      " 32% (542 of 1687) |######               | Elapsed Time: 0:01:21 ETA:   0:02:28"
     ]
    },
    {
     "name": "stdout",
     "output_type": "stream",
     "text": [
      "/Product_hansbargerhomesolutions.com_September2020.json.gz\n",
      "/Product_urbantropicals.com_September2020.json.gz\n"
     ]
    },
    {
     "name": "stderr",
     "output_type": "stream",
     "text": [
      "\r",
      " 32% (543 of 1687) |######               | Elapsed Time: 0:01:21 ETA:   0:02:31"
     ]
    },
    {
     "name": "stdout",
     "output_type": "stream",
     "text": [
      "/Product_pedalpusherscyclery.com_September2020.json.gz\n"
     ]
    },
    {
     "name": "stderr",
     "output_type": "stream",
     "text": [
      " 32% (545 of 1687) |######               | Elapsed Time: 0:01:21 ETA:   0:02:06"
     ]
    },
    {
     "name": "stdout",
     "output_type": "stream",
     "text": [
      "/Product_sweetwaterbicycles.com_September2020.json.gz\n",
      "/Product_webcyclery.com_September2020.json.gz\n"
     ]
    },
    {
     "name": "stderr",
     "output_type": "stream",
     "text": [
      "\r",
      " 32% (546 of 1687) |######               | Elapsed Time: 0:01:22 ETA:   0:02:32"
     ]
    },
    {
     "name": "stdout",
     "output_type": "stream",
     "text": [
      "/Product_aboutmichelle.com_September2020.json.gz\n",
      "/Product_eliteappliance.com_September2020.json.gz\n"
     ]
    },
    {
     "name": "stderr",
     "output_type": "stream",
     "text": [
      "\r",
      " 32% (548 of 1687) |######               | Elapsed Time: 0:01:22 ETA:   0:02:49"
     ]
    },
    {
     "name": "stdout",
     "output_type": "stream",
     "text": [
      "/Product_cyclecenter.com_September2020.json.gz\n"
     ]
    },
    {
     "name": "stderr",
     "output_type": "stream",
     "text": [
      "\r",
      " 32% (549 of 1687) |######               | Elapsed Time: 0:01:22 ETA:   0:04:37"
     ]
    },
    {
     "name": "stdout",
     "output_type": "stream",
     "text": [
      "/Product_dutyfreedufry.com.br_September2020.json.gz\n",
      "/Product_bombabehling.com.br_September2020.json.gz\n"
     ]
    },
    {
     "name": "stderr",
     "output_type": "stream",
     "text": [
      " 32% (552 of 1687) |######               | Elapsed Time: 0:01:23 ETA:   0:03:54"
     ]
    },
    {
     "name": "stdout",
     "output_type": "stream",
     "text": [
      "/Product_blahaschmuck.com_September2020.json.gz\n",
      "/Product_fusionelectronix.com_September2020.json.gz\n"
     ]
    },
    {
     "name": "stderr",
     "output_type": "stream",
     "text": [
      "\r",
      " 32% (553 of 1687) |######               | Elapsed Time: 0:01:23 ETA:   0:03:47"
     ]
    },
    {
     "name": "stdout",
     "output_type": "stream",
     "text": [
      "/Product_lakrafashion.com_September2020.json.gz\n",
      "/Product_hairgallerystore.com_September2020.json.gz\n"
     ]
    },
    {
     "name": "stderr",
     "output_type": "stream",
     "text": [
      " 32% (556 of 1687) |######               | Elapsed Time: 0:01:23 ETA:   0:03:27"
     ]
    },
    {
     "name": "stdout",
     "output_type": "stream",
     "text": [
      "/Product_garmincyprus.com_September2020.json.gz\n",
      "/Product_shopdealclue.com_September2020.json.gz\n",
      "/Product_best4systems.co.uk_September2020.json.gz\n"
     ]
    },
    {
     "name": "stderr",
     "output_type": "stream",
     "text": [
      " 33% (560 of 1687) |######               | Elapsed Time: 0:01:23 ETA:   0:02:48"
     ]
    },
    {
     "name": "stdout",
     "output_type": "stream",
     "text": [
      "/Product_linktechs.net_September2020.json.gz\n",
      "/Product_nursecallbits.co.uk_September2020.json.gz\n",
      "/Product_cupertinobikeshop.com_September2020.json.gz\n"
     ]
    },
    {
     "name": "stderr",
     "output_type": "stream",
     "text": [
      " 33% (563 of 1687) |#######              | Elapsed Time: 0:01:24 ETA:   0:02:34"
     ]
    },
    {
     "name": "stdout",
     "output_type": "stream",
     "text": [
      "/Product_kellimaroney.com_September2020.json.gz\n",
      "/Product_worthylux.com_September2020.json.gz\n",
      "/Product_cycleworksusa.com_September2020.json.gz\n"
     ]
    },
    {
     "name": "stderr",
     "output_type": "stream",
     "text": [
      " 33% (565 of 1687) |#######              | Elapsed Time: 0:01:24 ETA:   0:02:24"
     ]
    },
    {
     "name": "stdout",
     "output_type": "stream",
     "text": [
      "/Product_pcpowercase.com.au_September2020.json.gz\n",
      "/Product_mitxpc.com_September2020.json.gz\n"
     ]
    },
    {
     "name": "stderr",
     "output_type": "stream",
     "text": [
      " 33% (567 of 1687) |#######              | Elapsed Time: 0:01:25 ETA:   0:02:33"
     ]
    },
    {
     "name": "stdout",
     "output_type": "stream",
     "text": [
      "/Product_runningxpert.com_September2020.json.gz\n",
      "/Product_wheatridgecyclery.com_September2020.json.gz\n"
     ]
    },
    {
     "name": "stderr",
     "output_type": "stream",
     "text": [
      " 33% (570 of 1687) |#######              | Elapsed Time: 0:01:25 ETA:   0:02:22"
     ]
    },
    {
     "name": "stdout",
     "output_type": "stream",
     "text": [
      "/Product_inlandpacificflooring.com_September2020.json.gz\n",
      "/Product_pedalrevolution.co.uk_September2020.json.gz\n",
      "/Product_garminmalta.com_September2020.json.gz\n",
      "/Product_svcyclesport.com_September2020.json.gz\n"
     ]
    },
    {
     "name": "stderr",
     "output_type": "stream",
     "text": [
      " 33% (573 of 1687) |#######              | Elapsed Time: 0:01:25 ETA:   0:02:34"
     ]
    },
    {
     "name": "stdout",
     "output_type": "stream",
     "text": [
      "/Product_a1pressurewashers.com_September2020.json.gz\n",
      "/Product_misahouse.com_September2020.json.gz\n"
     ]
    },
    {
     "name": "stderr",
     "output_type": "stream",
     "text": [
      " 34% (575 of 1687) |#######              | Elapsed Time: 0:01:26 ETA:   0:02:48"
     ]
    },
    {
     "name": "stdout",
     "output_type": "stream",
     "text": [
      "/Product_gccgamers.com_September2020.json.gz\n",
      "/Product_watterott.com_September2020.json.gz\n"
     ]
    },
    {
     "name": "stderr",
     "output_type": "stream",
     "text": [
      " 34% (577 of 1687) |#######              | Elapsed Time: 0:01:26 ETA:   0:02:42"
     ]
    },
    {
     "name": "stdout",
     "output_type": "stream",
     "text": [
      "/Product_bikeking.com_September2020.json.gz\n",
      "/Product_izone365.com_September2020.json.gz\n"
     ]
    },
    {
     "name": "stderr",
     "output_type": "stream",
     "text": [
      " 34% (580 of 1687) |#######              | Elapsed Time: 0:01:26 ETA:   0:02:27"
     ]
    },
    {
     "name": "stdout",
     "output_type": "stream",
     "text": [
      "/Product_itecnicstore.com_September2020.json.gz\n",
      "/Product_shjcqc.com_September2020.json.gz\n",
      "/Product_becharming.com_September2020.json.gz\n"
     ]
    },
    {
     "name": "stderr",
     "output_type": "stream",
     "text": [
      " 34% (582 of 1687) |#######              | Elapsed Time: 0:01:26 ETA:   0:02:11"
     ]
    },
    {
     "name": "stdout",
     "output_type": "stream",
     "text": [
      "/Product_lsistore.com.br_September2020.json.gz\n",
      "/Product_innovasport.com_September2020.json.gz\n"
     ]
    },
    {
     "name": "stderr",
     "output_type": "stream",
     "text": [
      " 34% (584 of 1687) |#######              | Elapsed Time: 0:01:27 ETA:   0:02:22"
     ]
    },
    {
     "name": "stdout",
     "output_type": "stream",
     "text": [
      "/Product_farmaseller.com_September2020.json.gz\n",
      "/Product_farmashoping.com_September2020.json.gz\n"
     ]
    },
    {
     "name": "stderr",
     "output_type": "stream",
     "text": [
      " 34% (586 of 1687) |#######              | Elapsed Time: 0:01:27 ETA:   0:02:42"
     ]
    },
    {
     "name": "stdout",
     "output_type": "stream",
     "text": [
      "/Product_americasfinestcarpet.com_September2020.json.gz\n",
      "/Product_hastingschillicothe.com_September2020.json.gz\n"
     ]
    },
    {
     "name": "stderr",
     "output_type": "stream",
     "text": [
      " 34% (588 of 1687) |#######              | Elapsed Time: 0:01:28 ETA:   0:02:40"
     ]
    },
    {
     "name": "stdout",
     "output_type": "stream",
     "text": [
      "/Product_giantofcentennial.com_September2020.json.gz\n",
      "/Product_mrknickerbocker.com_September2020.json.gz\n"
     ]
    },
    {
     "name": "stderr",
     "output_type": "stream",
     "text": [
      "\r",
      " 34% (589 of 1687) |#######              | Elapsed Time: 0:01:28 ETA:   0:02:37"
     ]
    },
    {
     "name": "stdout",
     "output_type": "stream",
     "text": [
      "/Product_topman.com_September2020.json.gz\n"
     ]
    },
    {
     "name": "stderr",
     "output_type": "stream",
     "text": [
      " 35% (591 of 1687) |#######              | Elapsed Time: 0:01:29 ETA:   0:04:25"
     ]
    },
    {
     "name": "stdout",
     "output_type": "stream",
     "text": [
      "/Product_mcarerental.com_September2020.json.gz\n",
      "/Product_sophiesclass.com_September2020.json.gz\n"
     ]
    },
    {
     "name": "stderr",
     "output_type": "stream",
     "text": [
      " 35% (593 of 1687) |#######              | Elapsed Time: 0:01:29 ETA:   0:04:08"
     ]
    },
    {
     "name": "stdout",
     "output_type": "stream",
     "text": [
      "/Product_powertechbcn.com_September2020.json.gz\n",
      "/Product_foreverfloorandtile.com_September2020.json.gz\n"
     ]
    },
    {
     "name": "stderr",
     "output_type": "stream",
     "text": [
      "\r",
      " 35% (595 of 1687) |#######              | Elapsed Time: 0:01:29 ETA:   0:03:32"
     ]
    },
    {
     "name": "stdout",
     "output_type": "stream",
     "text": [
      "/Product_handrcarpet.com_September2020.json.gz\n",
      "/Product_hitechgoods.com_September2020.json.gz\n"
     ]
    },
    {
     "name": "stderr",
     "output_type": "stream",
     "text": [
      " 35% (598 of 1687) |#######              | Elapsed Time: 0:01:29 ETA:   0:03:18"
     ]
    },
    {
     "name": "stdout",
     "output_type": "stream",
     "text": [
      "/Product_gunas1.com_September2020.json.gz\n",
      "/Product_leucadiabikes.com_September2020.json.gz\n",
      "/Product_citychevrolet.com_September2020.json.gz\n"
     ]
    },
    {
     "name": "stderr",
     "output_type": "stream",
     "text": [
      " 35% (601 of 1687) |#######              | Elapsed Time: 0:01:30 ETA:   0:02:55"
     ]
    },
    {
     "name": "stdout",
     "output_type": "stream",
     "text": [
      "/Product_inside.com.hk_September2020.json.gz\n",
      "/Product_backbeatperth.com_September2020.json.gz\n",
      "/Product_ple.com.au_September2020.json.gz\n",
      "/Product_roadandtrailbicycles.com_September2020.json.gz\n"
     ]
    },
    {
     "name": "stderr",
     "output_type": "stream",
     "text": [
      " 35% (605 of 1687) |#######              | Elapsed Time: 0:01:30 ETA:   0:02:33"
     ]
    },
    {
     "name": "stdout",
     "output_type": "stream",
     "text": [
      "/Product_lalahotyoga.com_September2020.json.gz\n",
      "/Product_videotexsystems.com_September2020.json.gz\n",
      "/Product_privatetechgroup.com_September2020.json.gz\n"
     ]
    },
    {
     "name": "stderr",
     "output_type": "stream",
     "text": [
      " 36% (608 of 1687) |#######              | Elapsed Time: 0:01:30 ETA:   0:02:31"
     ]
    },
    {
     "name": "stdout",
     "output_type": "stream",
     "text": [
      "/Product_mrshobby.com_September2020.json.gz\n",
      "/Product_mattressesandmorellc.com_September2020.json.gz\n",
      "/Product_icentre.com.mt_September2020.json.gz\n"
     ]
    },
    {
     "name": "stderr",
     "output_type": "stream",
     "text": [
      "\r",
      " 36% (610 of 1687) |#######              | Elapsed Time: 0:01:31 ETA:   0:01:54"
     ]
    },
    {
     "name": "stdout",
     "output_type": "stream",
     "text": [
      "/Product_bijouxeclore.com_September2020.json.gz\n",
      "/Product_memory4less.com_September2020.json.gz\n"
     ]
    },
    {
     "name": "stderr",
     "output_type": "stream",
     "text": [
      "\r",
      " 36% (611 of 1687) |#######              | Elapsed Time: 0:01:31 ETA:   0:01:50"
     ]
    },
    {
     "name": "stdout",
     "output_type": "stream",
     "text": [
      "/Product_epocacosmeticos.com.br_September2020.json.gz\n"
     ]
    },
    {
     "name": "stderr",
     "output_type": "stream",
     "text": [
      " 36% (613 of 1687) |#######              | Elapsed Time: 0:01:31 ETA:   0:02:10"
     ]
    },
    {
     "name": "stdout",
     "output_type": "stream",
     "text": [
      "/Product_singular.com.cy_September2020.json.gz\n",
      "/Product_ruffaloappliances.com_September2020.json.gz\n"
     ]
    },
    {
     "name": "stderr",
     "output_type": "stream",
     "text": [
      "\r",
      " 36% (614 of 1687) |#######              | Elapsed Time: 0:01:31 ETA:   0:02:14"
     ]
    },
    {
     "name": "stdout",
     "output_type": "stream",
     "text": [
      "/Product_skunkrivercycles.com_September2020.json.gz\n"
     ]
    },
    {
     "name": "stderr",
     "output_type": "stream",
     "text": [
      "\r",
      " 36% (615 of 1687) |#######              | Elapsed Time: 0:01:32 ETA:   0:02:21"
     ]
    },
    {
     "name": "stdout",
     "output_type": "stream",
     "text": [
      "/Product_jbhifi.com.au_September2020.json.gz\n"
     ]
    },
    {
     "name": "stderr",
     "output_type": "stream",
     "text": [
      "\r",
      " 36% (616 of 1687) |#######              | Elapsed Time: 0:01:33 ETA:   0:09:00"
     ]
    },
    {
     "name": "stdout",
     "output_type": "stream",
     "text": [
      "/Product_moninformatique.net_September2020.json.gz\n",
      "/Product_libertybikes.com_September2020.json.gz\n"
     ]
    },
    {
     "name": "stderr",
     "output_type": "stream",
     "text": [
      "\r",
      " 36% (618 of 1687) |#######              | Elapsed Time: 0:01:34 ETA:   0:09:24"
     ]
    },
    {
     "name": "stdout",
     "output_type": "stream",
     "text": [
      "/Product_glopalstore.com_September2020.json.gz\n"
     ]
    },
    {
     "name": "stderr",
     "output_type": "stream",
     "text": [
      "\r",
      " 36% (619 of 1687) |#######              | Elapsed Time: 0:01:36 ETA:   0:48:02"
     ]
    },
    {
     "name": "stdout",
     "output_type": "stream",
     "text": [
      "/Product_qxwebcam.com_September2020.json.gz\n"
     ]
    },
    {
     "name": "stderr",
     "output_type": "stream",
     "text": [
      " 36% (623 of 1687) |#######              | Elapsed Time: 0:01:37 ETA:   0:10:53"
     ]
    },
    {
     "name": "stdout",
     "output_type": "stream",
     "text": [
      "/Product_annandaledistillery.com_September2020.json.gz\n",
      "/Product_cyndiscarpet.com_September2020.json.gz\n",
      "/Product_hjhphotography.net_September2020.json.gz\n",
      "/Product_farmareyon.com_September2020.json.gz\n"
     ]
    },
    {
     "name": "stderr",
     "output_type": "stream",
     "text": [
      " 37% (626 of 1687) |#######              | Elapsed Time: 0:01:37 ETA:   0:07:47"
     ]
    },
    {
     "name": "stdout",
     "output_type": "stream",
     "text": [
      "/Product_a1eventrental.com_September2020.json.gz\n",
      "/Product_zegarki.com.pl_September2020.json.gz\n",
      "/Product_megacomponentes.com_September2020.json.gz\n"
     ]
    },
    {
     "name": "stderr",
     "output_type": "stream",
     "text": [
      " 37% (630 of 1687) |#######              | Elapsed Time: 0:01:38 ETA:   0:06:06"
     ]
    },
    {
     "name": "stdout",
     "output_type": "stream",
     "text": [
      "/Product_hesslerfloors.com_September2020.json.gz\n",
      "/Product_funsportz.com.my_September2020.json.gz\n",
      "/Product_teknosolar.com_September2020.json.gz\n",
      "/Product_digitalshopup.com_September2020.json.gz\n",
      "/Product_kylesbikeshop.net_September2020.json.gz\n"
     ]
    },
    {
     "name": "stderr",
     "output_type": "stream",
     "text": [
      " 37% (633 of 1687) |#######              | Elapsed Time: 0:01:38 ETA:   0:05:19"
     ]
    },
    {
     "name": "stdout",
     "output_type": "stream",
     "text": [
      "/Product_gibsonnet.com.br_September2020.json.gz\n",
      "/Product_winedelight.com_September2020.json.gz\n"
     ]
    },
    {
     "name": "stderr",
     "output_type": "stream",
     "text": [
      "\r",
      " 37% (634 of 1687) |#######              | Elapsed Time: 0:01:38 ETA:   0:02:24"
     ]
    },
    {
     "name": "stdout",
     "output_type": "stream",
     "text": [
      "/Product_donsbikeshop.com_September2020.json.gz\n"
     ]
    },
    {
     "name": "stderr",
     "output_type": "stream",
     "text": [
      " 37% (637 of 1687) |#######              | Elapsed Time: 0:01:39 ETA:   0:02:32"
     ]
    },
    {
     "name": "stdout",
     "output_type": "stream",
     "text": [
      "/Product_creativeappliques.com_September2020.json.gz\n",
      "/Product_mirelojeria.com_September2020.json.gz\n",
      "/Product_danibikes.com_September2020.json.gz\n",
      "/Product_botach.com_September2020.json.gz\n"
     ]
    },
    {
     "name": "stderr",
     "output_type": "stream",
     "text": [
      " 37% (640 of 1687) |#######              | Elapsed Time: 0:01:39 ETA:   0:02:52"
     ]
    },
    {
     "name": "stdout",
     "output_type": "stream",
     "text": [
      "/Product_irtmn.com_September2020.json.gz\n",
      "/Product_motionmakers.com_September2020.json.gz\n"
     ]
    },
    {
     "name": "stderr",
     "output_type": "stream",
     "text": [
      "\r",
      " 37% (641 of 1687) |#######              | Elapsed Time: 0:01:40 ETA:   0:02:36"
     ]
    },
    {
     "name": "stdout",
     "output_type": "stream",
     "text": [
      "/Product_morhipo.com_September2020.json.gz\n"
     ]
    },
    {
     "name": "stderr",
     "output_type": "stream",
     "text": [
      " 38% (644 of 1687) |########             | Elapsed Time: 0:01:40 ETA:   0:02:58"
     ]
    },
    {
     "name": "stdout",
     "output_type": "stream",
     "text": [
      "/Product_purplepurl.com_September2020.json.gz\n",
      "/Product_intercompras.com_September2020.json.gz\n",
      "/Product_lauderdalecyclery.com_September2020.json.gz\n"
     ]
    },
    {
     "name": "stderr",
     "output_type": "stream",
     "text": [
      " 38% (647 of 1687) |########             | Elapsed Time: 0:01:40 ETA:   0:02:43"
     ]
    },
    {
     "name": "stdout",
     "output_type": "stream",
     "text": [
      "/Product_christianflooring.com_September2020.json.gz\n",
      "/Product_sepetciniz.com_September2020.json.gz\n",
      "/Product_franksappliance.com_September2020.json.gz\n"
     ]
    },
    {
     "name": "stderr",
     "output_type": "stream",
     "text": [
      "\r",
      " 38% (648 of 1687) |########             | Elapsed Time: 0:01:40 ETA:   0:02:37"
     ]
    },
    {
     "name": "stdout",
     "output_type": "stream",
     "text": [
      "/Product_woolandcompany.com_September2020.json.gz\n"
     ]
    },
    {
     "name": "stderr",
     "output_type": "stream",
     "text": [
      " 38% (650 of 1687) |########             | Elapsed Time: 0:01:41 ETA:   0:03:17"
     ]
    },
    {
     "name": "stdout",
     "output_type": "stream",
     "text": [
      "/Product_printersupermarket.com.au_September2020.json.gz\n",
      "/Product_brightretail.co.uk_September2020.json.gz\n"
     ]
    },
    {
     "name": "stderr",
     "output_type": "stream",
     "text": [
      "\r",
      " 38% (651 of 1687) |########             | Elapsed Time: 0:01:41 ETA:   0:02:54"
     ]
    },
    {
     "name": "stdout",
     "output_type": "stream",
     "text": [
      "/Product_smithtownappliances.com_September2020.json.gz\n",
      "/Product_dicksmith.com.au_September2020.json.gz\n"
     ]
    },
    {
     "name": "stderr",
     "output_type": "stream",
     "text": [
      " 38% (655 of 1687) |########             | Elapsed Time: 0:01:42 ETA:   0:04:23"
     ]
    },
    {
     "name": "stdout",
     "output_type": "stream",
     "text": [
      "/Product_mediability.com_September2020.json.gz\n",
      "/Product_davesappliancewin.com_September2020.json.gz\n",
      "/Product_redrivercyclery.com_September2020.json.gz\n",
      "/Product_aplikasionlineshop.com_September2020.json.gz\n"
     ]
    },
    {
     "name": "stderr",
     "output_type": "stream",
     "text": [
      "\r",
      " 38% (657 of 1687) |########             | Elapsed Time: 0:01:42 ETA:   0:03:52"
     ]
    },
    {
     "name": "stdout",
     "output_type": "stream",
     "text": [
      "/Product_webjetive.com_September2020.json.gz\n",
      "/Product_micropartsmi.com_September2020.json.gz\n"
     ]
    },
    {
     "name": "stderr",
     "output_type": "stream",
     "text": [
      "\r",
      " 39% (659 of 1687) |########             | Elapsed Time: 0:01:43 ETA:   0:03:43"
     ]
    },
    {
     "name": "stdout",
     "output_type": "stream",
     "text": [
      "/Product_bestreviewsca.com_September2020.json.gz\n"
     ]
    },
    {
     "name": "stderr",
     "output_type": "stream",
     "text": [
      "\r",
      " 39% (660 of 1687) |########             | Elapsed Time: 0:01:43 ETA:   0:03:30"
     ]
    },
    {
     "name": "stdout",
     "output_type": "stream",
     "text": [
      "/Product_bergeysappliances.com_September2020.json.gz\n",
      "/Product_tinkco.com_September2020.json.gz\n"
     ]
    },
    {
     "name": "stderr",
     "output_type": "stream",
     "text": [
      " 39% (664 of 1687) |########             | Elapsed Time: 0:01:44 ETA:   0:03:20"
     ]
    },
    {
     "name": "stdout",
     "output_type": "stream",
     "text": [
      "/Product_harrystv.com_September2020.json.gz\n",
      "/Product_turuncukasa.com_September2020.json.gz\n",
      "/Product_4clik.com_September2020.json.gz\n"
     ]
    },
    {
     "name": "stderr",
     "output_type": "stream",
     "text": [
      " 39% (667 of 1687) |########             | Elapsed Time: 0:01:44 ETA:   0:02:26"
     ]
    },
    {
     "name": "stdout",
     "output_type": "stream",
     "text": [
      "/Product_randq.com_September2020.json.gz\n",
      "/Product_marquise-jewelers.com_September2020.json.gz\n",
      "/Product_gowshomehardware.com_September2020.json.gz\n",
      "/Product_mipc.com.mx_September2020.json.gz\n"
     ]
    },
    {
     "name": "stderr",
     "output_type": "stream",
     "text": [
      " 39% (670 of 1687) |########             | Elapsed Time: 0:01:45 ETA:   0:02:45"
     ]
    },
    {
     "name": "stdout",
     "output_type": "stream",
     "text": [
      "/Product_diamondscamera.com.au_September2020.json.gz\n",
      "/Product_arteinottica.com_September2020.json.gz\n",
      "/Product_bedfordfallsusa.com_September2020.json.gz\n"
     ]
    },
    {
     "name": "stderr",
     "output_type": "stream",
     "text": [
      " 39% (674 of 1687) |########             | Elapsed Time: 0:01:45 ETA:   0:02:23"
     ]
    },
    {
     "name": "stdout",
     "output_type": "stream",
     "text": [
      "/Product_csell.org_September2020.json.gz\n",
      "/Product_andorra2000.com_September2020.json.gz\n",
      "/Product_netuniversecorp.com_September2020.json.gz\n"
     ]
    },
    {
     "name": "stderr",
     "output_type": "stream",
     "text": [
      "\r",
      " 40% (677 of 1687) |########             | Elapsed Time: 0:01:45 ETA:   0:02:00"
     ]
    },
    {
     "name": "stdout",
     "output_type": "stream",
     "text": [
      "/Product_thayerappliance.com_September2020.json.gz\n",
      "/Product_rabo-networks-kreuzau.com_September2020.json.gz\n",
      "/Product_adencamera.com_September2020.json.gz\n"
     ]
    },
    {
     "name": "stderr",
     "output_type": "stream",
     "text": [
      " 40% (680 of 1687) |########             | Elapsed Time: 0:01:45 ETA:   0:01:54"
     ]
    },
    {
     "name": "stdout",
     "output_type": "stream",
     "text": [
      "/Product_specialtyflooringstore.com_September2020.json.gz\n",
      "/Product_constructionresourcesusa.com_September2020.json.gz\n",
      "/Product_baytownfloors.com_September2020.json.gz\n"
     ]
    },
    {
     "name": "stderr",
     "output_type": "stream",
     "text": [
      "\r",
      " 40% (682 of 1687) |########             | Elapsed Time: 0:01:46 ETA:   0:01:41"
     ]
    },
    {
     "name": "stdout",
     "output_type": "stream",
     "text": [
      "/Product_bicyclebrustop.com_September2020.json.gz\n",
      "/Product_istyleme.com_September2020.json.gz\n",
      "/Product_manuelsav.com.au_September2020.json.gz\n"
     ]
    },
    {
     "name": "stderr",
     "output_type": "stream",
     "text": [
      " 40% (685 of 1687) |########             | Elapsed Time: 0:01:46 ETA:   0:01:41"
     ]
    },
    {
     "name": "stdout",
     "output_type": "stream",
     "text": [
      "/Product_highcountryoutfitters.com_September2020.json.gz\n",
      "/Product_wiredsystems.com_September2020.json.gz\n"
     ]
    },
    {
     "name": "stderr",
     "output_type": "stream",
     "text": [
      " 40% (687 of 1687) |########             | Elapsed Time: 0:01:46 ETA:   0:01:35"
     ]
    },
    {
     "name": "stdout",
     "output_type": "stream",
     "text": [
      "/Product_cingolanibikeshop.com_September2020.json.gz\n",
      "/Product_tiendavirtual.com_September2020.json.gz\n",
      "/Product_decchoice.com_September2020.json.gz\n"
     ]
    },
    {
     "name": "stderr",
     "output_type": "stream",
     "text": [
      "\r",
      " 40% (689 of 1687) |########             | Elapsed Time: 0:01:46 ETA:   0:01:34"
     ]
    },
    {
     "name": "stdout",
     "output_type": "stream",
     "text": [
      "/Product_randswoodflooring.com_September2020.json.gz\n",
      "/Product_wowpharma.com_September2020.json.gz\n",
      "/Product_mountainspirit.com_September2020.json.gz\n"
     ]
    },
    {
     "name": "stderr",
     "output_type": "stream",
     "text": [
      "\r",
      " 41% (692 of 1687) |########             | Elapsed Time: 0:01:47 ETA:   0:01:29"
     ]
    },
    {
     "name": "stdout",
     "output_type": "stream",
     "text": [
      "/Product_shoppersbase.com_September2020.json.gz\n",
      "/Product_zonehomeentertainment.com_September2020.json.gz\n"
     ]
    },
    {
     "name": "stderr",
     "output_type": "stream",
     "text": [
      " 41% (696 of 1687) |########             | Elapsed Time: 0:01:47 ETA:   0:01:28"
     ]
    },
    {
     "name": "stdout",
     "output_type": "stream",
     "text": [
      "/Product_salemiappliance.com_September2020.json.gz\n",
      "/Product_battlefield-outdoors.com_September2020.json.gz\n",
      "/Product_saveritemedical.com_September2020.json.gz\n"
     ]
    },
    {
     "name": "stderr",
     "output_type": "stream",
     "text": [
      " 41% (698 of 1687) |########             | Elapsed Time: 0:01:48 ETA:   0:02:08"
     ]
    },
    {
     "name": "stdout",
     "output_type": "stream",
     "text": [
      "/Product_durstcycle.com_September2020.json.gz\n",
      "/Product_mandmappliance.com_September2020.json.gz\n"
     ]
    },
    {
     "name": "stderr",
     "output_type": "stream",
     "text": [
      "\r",
      " 41% (699 of 1687) |########             | Elapsed Time: 0:01:48 ETA:   0:02:20"
     ]
    },
    {
     "name": "stdout",
     "output_type": "stream",
     "text": [
      "/Product_thefragrancecounter.com_September2020.json.gz\n",
      "/Product_equipboard.com_September2020.json.gz\n"
     ]
    },
    {
     "name": "stderr",
     "output_type": "stream",
     "text": [
      "\r",
      " 41% (701 of 1687) |########             | Elapsed Time: 0:01:48 ETA:   0:02:25"
     ]
    },
    {
     "name": "stdout",
     "output_type": "stream",
     "text": [
      "/Product_yakwax.com_September2020.json.gz\n"
     ]
    },
    {
     "name": "stderr",
     "output_type": "stream",
     "text": [
      " 41% (703 of 1687) |########             | Elapsed Time: 0:01:49 ETA:   0:03:04"
     ]
    },
    {
     "name": "stdout",
     "output_type": "stream",
     "text": [
      "/Product_tustains.co.uk_September2020.json.gz\n",
      "/Product_firstclasstvs.com_September2020.json.gz\n",
      "/Product_boomtownfurniture.com_September2020.json.gz\n"
     ]
    },
    {
     "name": "stderr",
     "output_type": "stream",
     "text": [
      "\r",
      " 41% (705 of 1687) |########             | Elapsed Time: 0:01:49 ETA:   0:02:48"
     ]
    },
    {
     "name": "stdout",
     "output_type": "stream",
     "text": [
      "/Product_officeworks.com.au_September2020.json.gz\n"
     ]
    },
    {
     "name": "stderr",
     "output_type": "stream",
     "text": [
      "\r",
      " 41% (706 of 1687) |########             | Elapsed Time: 0:01:49 ETA:   0:03:35"
     ]
    },
    {
     "name": "stdout",
     "output_type": "stream",
     "text": [
      "/Product_manijewellers.com_September2020.json.gz\n",
      "/Product_surfacesource.net_September2020.json.gz\n",
      "/Product_klmfitness.com_September2020.json.gz\n"
     ]
    },
    {
     "name": "stderr",
     "output_type": "stream",
     "text": [
      " 42% (710 of 1687) |########             | Elapsed Time: 0:01:50 ETA:   0:02:30"
     ]
    },
    {
     "name": "stdout",
     "output_type": "stream",
     "text": [
      "/Product_resurrectionvintage.com_September2020.json.gz\n",
      "/Product_hallbicycle.com_September2020.json.gz\n"
     ]
    },
    {
     "name": "stderr",
     "output_type": "stream",
     "text": [
      " 42% (712 of 1687) |########             | Elapsed Time: 0:01:50 ETA:   0:02:32"
     ]
    },
    {
     "name": "stdout",
     "output_type": "stream",
     "text": [
      "/Product_fallprotectionusa.com_September2020.json.gz\n",
      "/Product_expertelectrical.co.uk_September2020.json.gz\n"
     ]
    },
    {
     "name": "stderr",
     "output_type": "stream",
     "text": [
      " 42% (715 of 1687) |########             | Elapsed Time: 0:01:50 ETA:   0:02:19"
     ]
    },
    {
     "name": "stdout",
     "output_type": "stream",
     "text": [
      "/Product_mysafetymatterz.com_September2020.json.gz\n",
      "/Product_asorti-shoes.com.ua_September2020.json.gz\n",
      "/Product_slonayurum.com_September2020.json.gz\n"
     ]
    },
    {
     "name": "stderr",
     "output_type": "stream",
     "text": [
      "\r",
      " 42% (718 of 1687) |########             | Elapsed Time: 0:01:50 ETA:   0:02:01"
     ]
    },
    {
     "name": "stdout",
     "output_type": "stream",
     "text": [
      "/Product_jbl.com.my_September2020.json.gz\n",
      "/Product_eintac.com_September2020.json.gz\n",
      "/Product_arlbergsports.com_September2020.json.gz\n"
     ]
    },
    {
     "name": "stderr",
     "output_type": "stream",
     "text": [
      "\r",
      " 42% (719 of 1687) |########             | Elapsed Time: 0:01:51 ETA:   0:02:07"
     ]
    },
    {
     "name": "stdout",
     "output_type": "stream",
     "text": [
      "/Product_productfrom.com_September2020.json.gz\n"
     ]
    },
    {
     "name": "stderr",
     "output_type": "stream",
     "text": [
      " 42% (721 of 1687) |########             | Elapsed Time: 0:01:51 ETA:   0:02:26"
     ]
    },
    {
     "name": "stdout",
     "output_type": "stream",
     "text": [
      "/Product_antarti.com_September2020.json.gz\n",
      "/Product_lansingfurniture.com_September2020.json.gz\n",
      "/Product_priceattack.com.au_September2020.json.gz\n"
     ]
    },
    {
     "name": "stderr",
     "output_type": "stream",
     "text": [
      "\r",
      " 42% (723 of 1687) |#########            | Elapsed Time: 0:01:52 ETA:   0:02:32"
     ]
    },
    {
     "name": "stdout",
     "output_type": "stream",
     "text": [
      "/Product_carlorussowine.com_September2020.json.gz\n"
     ]
    },
    {
     "name": "stderr",
     "output_type": "stream",
     "text": [
      " 42% (725 of 1687) |#########            | Elapsed Time: 0:01:52 ETA:   0:02:32"
     ]
    },
    {
     "name": "stdout",
     "output_type": "stream",
     "text": [
      "/Product_life4more.com_September2020.json.gz\n",
      "/Product_emiaudio.com_September2020.json.gz\n",
      "/Product_destinybizz.com_September2020.json.gz\n"
     ]
    },
    {
     "name": "stderr",
     "output_type": "stream",
     "text": [
      " 43% (729 of 1687) |#########            | Elapsed Time: 0:01:52 ETA:   0:02:05"
     ]
    },
    {
     "name": "stdout",
     "output_type": "stream",
     "text": [
      "/Product_garmin.com.ee_September2020.json.gz\n",
      "/Product_zingznthingz.com_September2020.json.gz\n",
      "/Product_watchwarehouse.com_September2020.json.gz\n"
     ]
    },
    {
     "name": "stderr",
     "output_type": "stream",
     "text": [
      " 43% (731 of 1687) |#########            | Elapsed Time: 0:01:53 ETA:   0:02:37"
     ]
    },
    {
     "name": "stdout",
     "output_type": "stream",
     "text": [
      "/Product_ebuystt.com_September2020.json.gz\n",
      "/Product_buyitdirect.com_September2020.json.gz\n"
     ]
    },
    {
     "name": "stderr",
     "output_type": "stream",
     "text": [
      " 43% (735 of 1687) |#########            | Elapsed Time: 0:01:53 ETA:   0:02:05"
     ]
    },
    {
     "name": "stdout",
     "output_type": "stream",
     "text": [
      "/Product_amandasblockcrafts.uk_September2020.json.gz\n",
      "/Product_shopheysailor.com_September2020.json.gz\n",
      "/Product_marcotec-shop.com_September2020.json.gz\n",
      "/Product_cycle-solutions.com_September2020.json.gz\n"
     ]
    },
    {
     "name": "stderr",
     "output_type": "stream",
     "text": [
      " 43% (737 of 1687) |#########            | Elapsed Time: 0:01:53 ETA:   0:02:05"
     ]
    },
    {
     "name": "stdout",
     "output_type": "stream",
     "text": [
      "/Product_cadencecycling.com_September2020.json.gz\n",
      "/Product_latencie.com_September2020.json.gz\n"
     ]
    },
    {
     "name": "stderr",
     "output_type": "stream",
     "text": [
      "\r",
      " 43% (739 of 1687) |#########            | Elapsed Time: 0:01:53 ETA:   0:01:41"
     ]
    },
    {
     "name": "stdout",
     "output_type": "stream",
     "text": [
      "/Product_fleetfeet.com_September2020.json.gz\n",
      "/Product_exultedeagles.com_September2020.json.gz\n"
     ]
    },
    {
     "name": "stderr",
     "output_type": "stream",
     "text": [
      "\r",
      " 43% (741 of 1687) |#########            | Elapsed Time: 0:01:53 ETA:   0:01:37"
     ]
    },
    {
     "name": "stdout",
     "output_type": "stream",
     "text": [
      "/Product_smit.com.ua_September2020.json.gz\n",
      "/Product_misterpagu.com_September2020.json.gz\n"
     ]
    },
    {
     "name": "stderr",
     "output_type": "stream",
     "text": [
      " 44% (744 of 1687) |#########            | Elapsed Time: 0:01:54 ETA:   0:01:33"
     ]
    },
    {
     "name": "stdout",
     "output_type": "stream",
     "text": [
      "/Product_shopbriansflooring.com_September2020.json.gz\n",
      "/Product_charliesstorellano.com_September2020.json.gz\n",
      "/Product_buyur.co.uk_September2020.json.gz\n",
      "/Product_drogariaminasbrasil.com.br_September2020.json.gz\n"
     ]
    },
    {
     "name": "stderr",
     "output_type": "stream",
     "text": [
      " 44% (747 of 1687) |#########            | Elapsed Time: 0:01:54 ETA:   0:01:52"
     ]
    },
    {
     "name": "stdout",
     "output_type": "stream",
     "text": [
      "/Product_genevaflooring.com_September2020.json.gz\n",
      "/Product_famoustate.com_September2020.json.gz\n",
      "/Product_ranchorelaxoca.com_September2020.json.gz\n"
     ]
    },
    {
     "name": "stderr",
     "output_type": "stream",
     "text": [
      " 44% (750 of 1687) |#########            | Elapsed Time: 0:01:55 ETA:   0:01:43"
     ]
    },
    {
     "name": "stdout",
     "output_type": "stream",
     "text": [
      "/Product_eskell.com_September2020.json.gz\n",
      "/Product_peaksportscorvallis.com_September2020.json.gz\n"
     ]
    },
    {
     "name": "stderr",
     "output_type": "stream",
     "text": [
      " 44% (752 of 1687) |#########            | Elapsed Time: 0:01:55 ETA:   0:01:55"
     ]
    },
    {
     "name": "stdout",
     "output_type": "stream",
     "text": [
      "/Product_westhamptonfinewine.com_September2020.json.gz\n",
      "/Product_shopmerit.com_September2020.json.gz\n",
      "/Product_safetyfirsttechnologies.com_September2020.json.gz\n"
     ]
    },
    {
     "name": "stderr",
     "output_type": "stream",
     "text": [
      "\r",
      " 44% (755 of 1687) |#########            | Elapsed Time: 0:01:55 ETA:   0:01:45"
     ]
    },
    {
     "name": "stdout",
     "output_type": "stream",
     "text": [
      "/Product_onetencycles.com_September2020.json.gz\n",
      "/Product_yugomaxdigital.com_September2020.json.gz\n",
      "/Product_bezali.com_September2020.json.gz\n"
     ]
    },
    {
     "name": "stderr",
     "output_type": "stream",
     "text": [
      "\r",
      " 44% (757 of 1687) |#########            | Elapsed Time: 0:01:55 ETA:   0:01:43"
     ]
    },
    {
     "name": "stdout",
     "output_type": "stream",
     "text": [
      "/Product_tri-city-sales.com_September2020.json.gz\n",
      "/Product_kellysliquor.com_September2020.json.gz\n"
     ]
    },
    {
     "name": "stderr",
     "output_type": "stream",
     "text": [
      " 45% (762 of 1687) |#########            | Elapsed Time: 0:01:56 ETA:   0:01:36"
     ]
    },
    {
     "name": "stdout",
     "output_type": "stream",
     "text": [
      "/Product_zeiglerchevroletschaumburg.com_September2020.json.gz\n",
      "/Product_bisekinteriors.com_September2020.json.gz\n",
      "/Product_ulapop.com_September2020.json.gz\n",
      "/Product_thetopshopper.com_September2020.json.gz\n"
     ]
    },
    {
     "name": "stderr",
     "output_type": "stream",
     "text": [
      " 45% (764 of 1687) |#########            | Elapsed Time: 0:01:56 ETA:   0:01:41"
     ]
    },
    {
     "name": "stdout",
     "output_type": "stream",
     "text": [
      "/Product_joieriahelios.com_September2020.json.gz\n",
      "/Product_pinewoodnurseries.net_September2020.json.gz\n",
      "/Product_orilagba.org_September2020.json.gz\n",
      "/Product_farmaciaigea.com_September2020.json.gz\n"
     ]
    },
    {
     "name": "stderr",
     "output_type": "stream",
     "text": [
      " 45% (768 of 1687) |#########            | Elapsed Time: 0:01:56 ETA:   0:01:30"
     ]
    },
    {
     "name": "stdout",
     "output_type": "stream",
     "text": [
      "/Product_bilisimport.com.tr_September2020.json.gz\n",
      "/Product_alza.co.uk_September2020.json.gz\n"
     ]
    },
    {
     "name": "stderr",
     "output_type": "stream",
     "text": [
      " 45% (772 of 1687) |#########            | Elapsed Time: 0:01:57 ETA:   0:01:25"
     ]
    },
    {
     "name": "stdout",
     "output_type": "stream",
     "text": [
      "/Product_deertrackingservices.co.uk_September2020.json.gz\n",
      "/Product_carpetlandstores.com_September2020.json.gz\n",
      "/Product_immashopping.com_September2020.json.gz\n",
      "/Product_cripplecreekbc.com_September2020.json.gz\n"
     ]
    },
    {
     "name": "stderr",
     "output_type": "stream",
     "text": [
      " 45% (774 of 1687) |#########            | Elapsed Time: 0:01:57 ETA:   0:01:27"
     ]
    },
    {
     "name": "stdout",
     "output_type": "stream",
     "text": [
      "/Product_rainsltd.com_September2020.json.gz\n",
      "/Product_gunghobikes.com_September2020.json.gz\n"
     ]
    },
    {
     "name": "stderr",
     "output_type": "stream",
     "text": [
      " 45% (776 of 1687) |#########            | Elapsed Time: 0:01:57 ETA:   0:01:34"
     ]
    },
    {
     "name": "stdout",
     "output_type": "stream",
     "text": [
      "/Product_cycleneron.com_September2020.json.gz\n",
      "/Product_schindlercarpetandfloors.com_September2020.json.gz\n",
      "/Product_gigabitlanswitch.com_September2020.json.gz\n"
     ]
    },
    {
     "name": "stderr",
     "output_type": "stream",
     "text": [
      " 46% (780 of 1687) |#########            | Elapsed Time: 0:01:58 ETA:   0:01:28"
     ]
    },
    {
     "name": "stdout",
     "output_type": "stream",
     "text": [
      "/Product_bikeforceellenbrook.com.au_September2020.json.gz\n",
      "/Product_thegunparlor.com_September2020.json.gz\n",
      "/Product_bikeway.com_September2020.json.gz\n"
     ]
    },
    {
     "name": "stderr",
     "output_type": "stream",
     "text": [
      "\r",
      " 46% (781 of 1687) |#########            | Elapsed Time: 0:01:58 ETA:   0:01:45"
     ]
    },
    {
     "name": "stdout",
     "output_type": "stream",
     "text": [
      "/Product_aphome.com_September2020.json.gz\n"
     ]
    },
    {
     "name": "stderr",
     "output_type": "stream",
     "text": [
      " 46% (784 of 1687) |#########            | Elapsed Time: 0:01:58 ETA:   0:01:51"
     ]
    },
    {
     "name": "stdout",
     "output_type": "stream",
     "text": [
      "/Product_tonernuevosministerios.com_September2020.json.gz\n",
      "/Product_airesjewelers.com_September2020.json.gz\n",
      "/Product_t-mobile.com_September2020.json.gz\n"
     ]
    },
    {
     "name": "stderr",
     "output_type": "stream",
     "text": [
      " 46% (786 of 1687) |#########            | Elapsed Time: 0:01:59 ETA:   0:01:49"
     ]
    },
    {
     "name": "stdout",
     "output_type": "stream",
     "text": [
      "/Product_automaticapplianceservice.com_September2020.json.gz\n",
      "/Product_tntcarpets.com_September2020.json.gz\n",
      "/Product_thebigscreenstore.com_September2020.json.gz\n"
     ]
    },
    {
     "name": "stderr",
     "output_type": "stream",
     "text": [
      "\r",
      " 46% (788 of 1687) |#########            | Elapsed Time: 0:01:59 ETA:   0:01:53"
     ]
    },
    {
     "name": "stdout",
     "output_type": "stream",
     "text": [
      "/Product_thebicycleplanet.com_September2020.json.gz\n"
     ]
    },
    {
     "name": "stderr",
     "output_type": "stream",
     "text": [
      " 46% (790 of 1687) |#########            | Elapsed Time: 0:01:59 ETA:   0:02:12"
     ]
    },
    {
     "name": "stdout",
     "output_type": "stream",
     "text": [
      "/Product_niemchem.com_September2020.json.gz\n",
      "/Product_gerritsappliances.com_September2020.json.gz\n"
     ]
    },
    {
     "name": "stderr",
     "output_type": "stream",
     "text": [
      "\r",
      " 46% (791 of 1687) |#########            | Elapsed Time: 0:01:59 ETA:   0:02:22"
     ]
    },
    {
     "name": "stdout",
     "output_type": "stream",
     "text": [
      "/Product_swiftoutside.com_September2020.json.gz\n",
      "/Product_lifeandlooks.com_September2020.json.gz\n"
     ]
    },
    {
     "name": "stderr",
     "output_type": "stream",
     "text": [
      " 47% (795 of 1687) |#########            | Elapsed Time: 0:02:00 ETA:   0:02:13"
     ]
    },
    {
     "name": "stdout",
     "output_type": "stream",
     "text": [
      "/Product_farmaciazentner.com.ar_September2020.json.gz\n",
      "/Product_ladolcevitae.com_September2020.json.gz\n",
      "/Product_aehowardflooring.com_September2020.json.gz\n"
     ]
    },
    {
     "name": "stderr",
     "output_type": "stream",
     "text": [
      " 47% (797 of 1687) |#########            | Elapsed Time: 0:02:00 ETA:   0:01:58"
     ]
    },
    {
     "name": "stdout",
     "output_type": "stream",
     "text": [
      "/Product_motifjewelry.com_September2020.json.gz\n",
      "/Product_newbraunfelsflooring.com_September2020.json.gz\n",
      "/Product_southbeachdivers.com_September2020.json.gz\n"
     ]
    },
    {
     "name": "stderr",
     "output_type": "stream",
     "text": [
      "\r",
      " 47% (799 of 1687) |#########            | Elapsed Time: 0:02:00 ETA:   0:01:52"
     ]
    },
    {
     "name": "stdout",
     "output_type": "stream",
     "text": [
      "/Product_easylounge.com_September2020.json.gz\n"
     ]
    },
    {
     "name": "stderr",
     "output_type": "stream",
     "text": [
      " 47% (802 of 1687) |#########            | Elapsed Time: 0:02:01 ETA:   0:01:53"
     ]
    },
    {
     "name": "stdout",
     "output_type": "stream",
     "text": [
      "/Product_tambikes.com_September2020.json.gz\n",
      "/Product_enchantedivy.com_September2020.json.gz\n",
      "/Product_headsupfortails.com_September2020.json.gz\n"
     ]
    },
    {
     "name": "stderr",
     "output_type": "stream",
     "text": [
      " 47% (805 of 1687) |##########           | Elapsed Time: 0:02:04 ETA:   0:14:41"
     ]
    },
    {
     "name": "stdout",
     "output_type": "stream",
     "text": [
      "/Product_harperscycling.com_September2020.json.gz\n",
      "/Product_depannpc74.com_September2020.json.gz\n",
      "/Product_graysappliance.com_September2020.json.gz\n"
     ]
    },
    {
     "name": "stderr",
     "output_type": "stream",
     "text": [
      " 47% (808 of 1687) |##########           | Elapsed Time: 0:02:04 ETA:   0:07:55"
     ]
    },
    {
     "name": "stdout",
     "output_type": "stream",
     "text": [
      "/Product_arrivenutritioncenter.com_September2020.json.gz\n",
      "/Product_drfuri.com_September2020.json.gz\n",
      "/Product_tonerbuzz.com_September2020.json.gz\n"
     ]
    },
    {
     "name": "stderr",
     "output_type": "stream",
     "text": [
      "\r",
      " 47% (809 of 1687) |##########           | Elapsed Time: 0:02:04 ETA:   0:07:10"
     ]
    },
    {
     "name": "stdout",
     "output_type": "stream",
     "text": [
      "/Product_vaivaton.com_September2020.json.gz\n"
     ]
    },
    {
     "name": "stderr",
     "output_type": "stream",
     "text": [
      " 48% (811 of 1687) |##########           | Elapsed Time: 0:02:05 ETA:   0:06:42"
     ]
    },
    {
     "name": "stdout",
     "output_type": "stream",
     "text": [
      "/Product_liljohnsmotorsports.com_September2020.json.gz\n",
      "/Product_keshop.com_September2020.json.gz\n"
     ]
    },
    {
     "name": "stderr",
     "output_type": "stream",
     "text": [
      "\r",
      " 48% (812 of 1687) |##########           | Elapsed Time: 0:02:05 ETA:   0:06:34"
     ]
    },
    {
     "name": "stdout",
     "output_type": "stream",
     "text": [
      "/Product_ambientbp.com_September2020.json.gz\n",
      "/Product_elgot.com_September2020.json.gz\n"
     ]
    },
    {
     "name": "stderr",
     "output_type": "stream",
     "text": [
      "\r",
      " 48% (814 of 1687) |##########           | Elapsed Time: 0:02:05 ETA:   0:05:44"
     ]
    },
    {
     "name": "stdout",
     "output_type": "stream",
     "text": [
      "/Product_staples.com_September2020.json.gz\n"
     ]
    },
    {
     "name": "stderr",
     "output_type": "stream",
     "text": [
      " 48% (816 of 1687) |##########           | Elapsed Time: 0:02:06 ETA:   0:04:42"
     ]
    },
    {
     "name": "stdout",
     "output_type": "stream",
     "text": [
      "/Product_farmsteadoutdoors.com_September2020.json.gz\n",
      "/Product_kicks-sport.com_September2020.json.gz\n"
     ]
    },
    {
     "name": "stderr",
     "output_type": "stream",
     "text": [
      " 48% (818 of 1687) |##########           | Elapsed Time: 0:02:07 ETA:   0:04:02"
     ]
    },
    {
     "name": "stdout",
     "output_type": "stream",
     "text": [
      "/Product_appliancegallerydayton.com_September2020.json.gz\n",
      "/Product_copaco.com_September2020.json.gz\n"
     ]
    },
    {
     "name": "stderr",
     "output_type": "stream",
     "text": [
      "\r",
      " 48% (819 of 1687) |##########           | Elapsed Time: 0:02:07 ETA:   0:03:39"
     ]
    },
    {
     "name": "stdout",
     "output_type": "stream",
     "text": [
      "/Product_thewheelthing.net_September2020.json.gz\n"
     ]
    },
    {
     "name": "stderr",
     "output_type": "stream",
     "text": [
      " 48% (822 of 1687) |##########           | Elapsed Time: 0:02:07 ETA:   0:02:58"
     ]
    },
    {
     "name": "stdout",
     "output_type": "stream",
     "text": [
      "/Product_sahmone.com_September2020.json.gz\n",
      "/Product_une-pharmacie.com_September2020.json.gz\n",
      "/Product_thepanicroom.com.sg_September2020.json.gz\n"
     ]
    },
    {
     "name": "stderr",
     "output_type": "stream",
     "text": [
      " 48% (825 of 1687) |##########           | Elapsed Time: 0:02:07 ETA:   0:02:44"
     ]
    },
    {
     "name": "stdout",
     "output_type": "stream",
     "text": [
      "/Product_panchkits.com_September2020.json.gz\n",
      "/Product_fotogrupouniversal.com_September2020.json.gz\n",
      "/Product_starnestvapp.com_September2020.json.gz\n"
     ]
    },
    {
     "name": "stderr",
     "output_type": "stream",
     "text": [
      "\r",
      " 48% (826 of 1687) |##########           | Elapsed Time: 0:02:08 ETA:   0:02:41"
     ]
    },
    {
     "name": "stdout",
     "output_type": "stream",
     "text": [
      "/Product_pushys.com.au_September2020.json.gz\n"
     ]
    },
    {
     "name": "stderr",
     "output_type": "stream",
     "text": [
      " 49% (828 of 1687) |##########           | Elapsed Time: 0:02:08 ETA:   0:02:50"
     ]
    },
    {
     "name": "stdout",
     "output_type": "stream",
     "text": [
      "/Product_getcheaphealthinsurance.net_September2020.json.gz\n",
      "/Product_wawanpro.com_September2020.json.gz\n"
     ]
    },
    {
     "name": "stderr",
     "output_type": "stream",
     "text": [
      "\r",
      " 49% (829 of 1687) |##########           | Elapsed Time: 0:02:08 ETA:   0:02:08"
     ]
    },
    {
     "name": "stdout",
     "output_type": "stream",
     "text": [
      "/Product_capitolcyclery.com_September2020.json.gz\n"
     ]
    },
    {
     "name": "stderr",
     "output_type": "stream",
     "text": [
      " 49% (832 of 1687) |##########           | Elapsed Time: 0:02:09 ETA:   0:02:09"
     ]
    },
    {
     "name": "stdout",
     "output_type": "stream",
     "text": [
      "/Product_hype.com.co_September2020.json.gz\n",
      "/Product_d-d-photographics.com.au_September2020.json.gz\n",
      "/Product_mutantpulp.com_September2020.json.gz\n",
      "/Product_dreamersarewelcome.com_September2020.json.gz\n",
      "/Product_evo.com_September2020.json.gz\n"
     ]
    },
    {
     "name": "stderr",
     "output_type": "stream",
     "text": [
      " 49% (836 of 1687) |##########           | Elapsed Time: 0:02:09 ETA:   0:02:04"
     ]
    },
    {
     "name": "stdout",
     "output_type": "stream",
     "text": [
      "/Product_thefitness-shop.com.au_September2020.json.gz\n",
      "/Product_aventuradiner.com_September2020.json.gz\n"
     ]
    },
    {
     "name": "stderr",
     "output_type": "stream",
     "text": [
      " 49% (838 of 1687) |##########           | Elapsed Time: 0:02:10 ETA:   0:02:12"
     ]
    },
    {
     "name": "stdout",
     "output_type": "stream",
     "text": [
      "/Product_shop4world.com_September2020.json.gz\n",
      "/Product_spokesmanbicycles.com_September2020.json.gz\n"
     ]
    },
    {
     "name": "stderr",
     "output_type": "stream",
     "text": [
      " 49% (840 of 1687) |##########           | Elapsed Time: 0:02:10 ETA:   0:02:23"
     ]
    },
    {
     "name": "stdout",
     "output_type": "stream",
     "text": [
      "/Product_stringsfield.com_September2020.json.gz\n",
      "/Product_fritzsbicycleshop.com_September2020.json.gz\n"
     ]
    },
    {
     "name": "stderr",
     "output_type": "stream",
     "text": [
      "\r",
      " 49% (842 of 1687) |##########           | Elapsed Time: 0:02:10 ETA:   0:02:12"
     ]
    },
    {
     "name": "stdout",
     "output_type": "stream",
     "text": [
      "/Product_skipscustomflooring.com_September2020.json.gz\n",
      "/Product_macstore.com.pa_September2020.json.gz\n"
     ]
    },
    {
     "name": "stderr",
     "output_type": "stream",
     "text": [
      "\r",
      " 49% (843 of 1687) |##########           | Elapsed Time: 0:02:10 ETA:   0:02:11"
     ]
    },
    {
     "name": "stdout",
     "output_type": "stream",
     "text": [
      "/Product_kalex.com.br_September2020.json.gz\n",
      "/Product_shrevecrumpandlow.com_September2020.json.gz\n"
     ]
    },
    {
     "name": "stderr",
     "output_type": "stream",
     "text": [
      " 50% (847 of 1687) |##########           | Elapsed Time: 0:02:11 ETA:   0:02:06"
     ]
    },
    {
     "name": "stdout",
     "output_type": "stream",
     "text": [
      "/Product_johnnybrinks.com_September2020.json.gz\n",
      "/Product_mmf-pro.com_September2020.json.gz\n",
      "/Product_donaldsonflooring.com_September2020.json.gz\n"
     ]
    },
    {
     "name": "stderr",
     "output_type": "stream",
     "text": [
      "\r",
      " 50% (850 of 1687) |##########           | Elapsed Time: 0:02:11 ETA:   0:01:53"
     ]
    },
    {
     "name": "stdout",
     "output_type": "stream",
     "text": [
      "/Product_shopwaltons.com_September2020.json.gz\n",
      "/Product_dzustore.com_September2020.json.gz\n",
      "/Product_telefonchik.net_September2020.json.gz\n"
     ]
    },
    {
     "name": "stderr",
     "output_type": "stream",
     "text": [
      " 50% (853 of 1687) |##########           | Elapsed Time: 0:02:12 ETA:   0:01:51"
     ]
    },
    {
     "name": "stdout",
     "output_type": "stream",
     "text": [
      "/Product_wcslmall.com_September2020.json.gz\n",
      "/Product_hawleysbicycleworld.com_September2020.json.gz\n",
      "/Product_yohohongkong.com_September2020.json.gz\n"
     ]
    },
    {
     "name": "stderr",
     "output_type": "stream",
     "text": [
      "\r",
      " 50% (855 of 1687) |##########           | Elapsed Time: 0:02:12 ETA:   0:01:45"
     ]
    },
    {
     "name": "stdout",
     "output_type": "stream",
     "text": [
      "/Product_rbrooksandson.com_September2020.json.gz\n",
      "/Product_verpacking.com_September2020.json.gz\n",
      "/Product_ebikestore.com_September2020.json.gz\n"
     ]
    },
    {
     "name": "stderr",
     "output_type": "stream",
     "text": [
      "\r",
      " 50% (857 of 1687) |##########           | Elapsed Time: 0:02:12 ETA:   0:01:44"
     ]
    },
    {
     "name": "stdout",
     "output_type": "stream",
     "text": [
      "/Product_goldenleafstore.com_September2020.json.gz\n",
      "/Product_joyeriaamores.com_September2020.json.gz\n"
     ]
    },
    {
     "name": "stderr",
     "output_type": "stream",
     "text": [
      "\r",
      " 50% (859 of 1687) |##########           | Elapsed Time: 0:02:12 ETA:   0:01:29"
     ]
    },
    {
     "name": "stdout",
     "output_type": "stream",
     "text": [
      "/Product_coloradomultisport.com_September2020.json.gz\n"
     ]
    },
    {
     "name": "stderr",
     "output_type": "stream",
     "text": [
      " 51% (862 of 1687) |##########           | Elapsed Time: 0:02:13 ETA:   0:01:31"
     ]
    },
    {
     "name": "stdout",
     "output_type": "stream",
     "text": [
      "/Product_ponchosrojas.com_September2020.json.gz\n",
      "/Product_sportshowroom.com.br_September2020.json.gz\n",
      "/Product_bandtelectricinc.com_September2020.json.gz\n"
     ]
    },
    {
     "name": "stderr",
     "output_type": "stream",
     "text": [
      " 51% (865 of 1687) |##########           | Elapsed Time: 0:02:13 ETA:   0:01:27"
     ]
    },
    {
     "name": "stdout",
     "output_type": "stream",
     "text": [
      "/Product_detailers-eg.com_September2020.json.gz\n",
      "/Product_wallerboot.com_September2020.json.gz\n",
      "/Product_katzfloor.com_September2020.json.gz\n",
      "/Product_everysize.com_September2020.json.gz\n"
     ]
    },
    {
     "name": "stderr",
     "output_type": "stream",
     "text": [
      " 51% (869 of 1687) |##########           | Elapsed Time: 0:02:14 ETA:   0:02:16"
     ]
    },
    {
     "name": "stdout",
     "output_type": "stream",
     "text": [
      "/Product_mcbaincamera.com_September2020.json.gz\n",
      "/Product_joyeriasbizzarro.com_September2020.json.gz\n",
      "/Product_bonesps.com_September2020.json.gz\n"
     ]
    },
    {
     "name": "stderr",
     "output_type": "stream",
     "text": [
      "\r",
      " 51% (871 of 1687) |##########           | Elapsed Time: 0:02:14 ETA:   0:02:05"
     ]
    },
    {
     "name": "stdout",
     "output_type": "stream",
     "text": [
      "/Product_izarmicro.net_September2020.json.gz\n",
      "/Product_revolutionbicycle.com_September2020.json.gz\n"
     ]
    },
    {
     "name": "stderr",
     "output_type": "stream",
     "text": [
      " 51% (873 of 1687) |##########           | Elapsed Time: 0:02:15 ETA:   0:02:31"
     ]
    },
    {
     "name": "stdout",
     "output_type": "stream",
     "text": [
      "/Product_newtech-bg.com_September2020.json.gz\n",
      "/Product_bicyclesnyc.com_September2020.json.gz\n"
     ]
    },
    {
     "name": "stderr",
     "output_type": "stream",
     "text": [
      " 51% (876 of 1687) |##########           | Elapsed Time: 0:02:15 ETA:   0:02:42"
     ]
    },
    {
     "name": "stdout",
     "output_type": "stream",
     "text": [
      "/Product_fischerfurniture.com_September2020.json.gz\n",
      "/Product_unitednissanreno.com_September2020.json.gz\n",
      "/Product_ridgewoodcycle.com_September2020.json.gz\n"
     ]
    },
    {
     "name": "stderr",
     "output_type": "stream",
     "text": [
      "\r",
      " 51% (877 of 1687) |##########           | Elapsed Time: 0:02:15 ETA:   0:02:28"
     ]
    },
    {
     "name": "stdout",
     "output_type": "stream",
     "text": [
      "/Product_licotronic.com_September2020.json.gz\n"
     ]
    },
    {
     "name": "stderr",
     "output_type": "stream",
     "text": [
      "\r",
      " 52% (878 of 1687) |##########           | Elapsed Time: 0:02:15 ETA:   0:02:30"
     ]
    },
    {
     "name": "stdout",
     "output_type": "stream",
     "text": [
      "/Product_urbangeneralstore.com_September2020.json.gz\n"
     ]
    },
    {
     "name": "stderr",
     "output_type": "stream",
     "text": [
      " 52% (882 of 1687) |##########           | Elapsed Time: 0:02:16 ETA:   0:02:14"
     ]
    },
    {
     "name": "stdout",
     "output_type": "stream",
     "text": [
      "/Product_glamtom.com_September2020.json.gz\n",
      "/Product_oroley.com_September2020.json.gz\n",
      "/Product_gunas4.com_September2020.json.gz\n",
      "/Product_sunglasses-direct.co.uk_September2020.json.gz\n"
     ]
    },
    {
     "name": "stderr",
     "output_type": "stream",
     "text": [
      "\r",
      " 52% (884 of 1687) |###########          | Elapsed Time: 0:02:16 ETA:   0:01:49"
     ]
    },
    {
     "name": "stdout",
     "output_type": "stream",
     "text": [
      "/Product_alzashop.com_September2020.json.gz\n",
      "/Product_petspawt.com_September2020.json.gz\n"
     ]
    },
    {
     "name": "stderr",
     "output_type": "stream",
     "text": [
      " 52% (887 of 1687) |###########          | Elapsed Time: 0:02:16 ETA:   0:01:47"
     ]
    },
    {
     "name": "stdout",
     "output_type": "stream",
     "text": [
      "/Product_deltacarpetanddecor.net_September2020.json.gz\n",
      "/Product_senetic.com.gh_September2020.json.gz\n",
      "/Product_pcmadd.com_September2020.json.gz\n"
     ]
    },
    {
     "name": "stderr",
     "output_type": "stream",
     "text": [
      " 52% (890 of 1687) |###########          | Elapsed Time: 0:02:17 ETA:   0:01:39"
     ]
    },
    {
     "name": "stdout",
     "output_type": "stream",
     "text": [
      "/Product_redsappliance.com_September2020.json.gz\n",
      "/Product_shopping4net.co.uk_September2020.json.gz\n",
      "/Product_pro-techspecialtysllc.com_September2020.json.gz\n",
      "/Product_kocpa.com_September2020.json.gz\n"
     ]
    },
    {
     "name": "stderr",
     "output_type": "stream",
     "text": [
      " 52% (894 of 1687) |###########          | Elapsed Time: 0:02:17 ETA:   0:01:31"
     ]
    },
    {
     "name": "stdout",
     "output_type": "stream",
     "text": [
      "/Product_g-comm.co.uk_September2020.json.gz\n",
      "/Product_hoopjordan.com_September2020.json.gz\n",
      "/Product_artwalktile.com_September2020.json.gz\n"
     ]
    },
    {
     "name": "stderr",
     "output_type": "stream",
     "text": [
      " 53% (896 of 1687) |###########          | Elapsed Time: 0:02:17 ETA:   0:01:31"
     ]
    },
    {
     "name": "stdout",
     "output_type": "stream",
     "text": [
      "/Product_gelbura.com_September2020.json.gz\n",
      "/Product_batolis.com_September2020.json.gz\n"
     ]
    },
    {
     "name": "stderr",
     "output_type": "stream",
     "text": [
      " 53% (898 of 1687) |###########          | Elapsed Time: 0:02:18 ETA:   0:02:12"
     ]
    },
    {
     "name": "stdout",
     "output_type": "stream",
     "text": [
      "/Product_feryseg.com_September2020.json.gz\n",
      "/Product_ultrajewels.com_September2020.json.gz\n",
      "/Product_alexanderjewelers.net_September2020.json.gz\n"
     ]
    },
    {
     "name": "stderr",
     "output_type": "stream",
     "text": [
      " 53% (901 of 1687) |###########          | Elapsed Time: 0:02:18 ETA:   0:02:03"
     ]
    },
    {
     "name": "stdout",
     "output_type": "stream",
     "text": [
      "/Product_first-aid-product.com_September2020.json.gz\n",
      "/Product_vozipmexico.com_September2020.json.gz\n",
      "/Product_mysaftzonellc.com_September2020.json.gz\n"
     ]
    },
    {
     "name": "stderr",
     "output_type": "stream",
     "text": [
      " 53% (905 of 1687) |###########          | Elapsed Time: 0:02:19 ETA:   0:01:34"
     ]
    },
    {
     "name": "stdout",
     "output_type": "stream",
     "text": [
      "/Product_lavenderdogshop.co.uk_September2020.json.gz\n",
      "/Product_erasureskin.com_September2020.json.gz\n",
      "/Product_iwonatec.com_September2020.json.gz\n"
     ]
    },
    {
     "name": "stderr",
     "output_type": "stream",
     "text": [
      "\r",
      " 53% (906 of 1687) |###########          | Elapsed Time: 0:02:19 ETA:   0:01:42"
     ]
    },
    {
     "name": "stdout",
     "output_type": "stream",
     "text": [
      "/Product_yourtiasbeautysupply.com_September2020.json.gz\n",
      "/Product_fesfashionanddecor.com.au_September2020.json.gz\n"
     ]
    },
    {
     "name": "stderr",
     "output_type": "stream",
     "text": [
      "\r",
      " 53% (908 of 1687) |###########          | Elapsed Time: 0:02:19 ETA:   0:01:45"
     ]
    },
    {
     "name": "stdout",
     "output_type": "stream",
     "text": [
      "/Product_pinupparlorboutique.com_September2020.json.gz\n",
      "/Product_karstsports.com_September2020.json.gz\n"
     ]
    },
    {
     "name": "stderr",
     "output_type": "stream",
     "text": [
      "\r",
      " 53% (910 of 1687) |###########          | Elapsed Time: 0:02:19 ETA:   0:01:51"
     ]
    },
    {
     "name": "stdout",
     "output_type": "stream",
     "text": [
      "/Product_bobscyclecenter.com_September2020.json.gz\n"
     ]
    },
    {
     "name": "stderr",
     "output_type": "stream",
     "text": [
      " 54% (913 of 1687) |###########          | Elapsed Time: 0:02:20 ETA:   0:01:48"
     ]
    },
    {
     "name": "stdout",
     "output_type": "stream",
     "text": [
      "/Product_triathletesports.com_September2020.json.gz\n",
      "/Product_bodysoulemporium.com_September2020.json.gz\n",
      "/Product_tnksecurityproducts.com_September2020.json.gz\n",
      "/Product_ersasaat.com.tr_September2020.json.gz\n"
     ]
    },
    {
     "name": "stderr",
     "output_type": "stream",
     "text": [
      " 54% (917 of 1687) |###########          | Elapsed Time: 0:02:20 ETA:   0:01:21"
     ]
    },
    {
     "name": "stdout",
     "output_type": "stream",
     "text": [
      "/Product_multitecloja.com_September2020.json.gz\n",
      "/Product_eastcoastsupplements.com.au_September2020.json.gz\n",
      "/Product_arnoldsappliance.com_September2020.json.gz\n",
      "/Product_outspokinbikes.com_September2020.json.gz\n"
     ]
    },
    {
     "name": "stderr",
     "output_type": "stream",
     "text": [
      "\r",
      " 54% (919 of 1687) |###########          | Elapsed Time: 0:02:20 ETA:   0:01:18"
     ]
    },
    {
     "name": "stdout",
     "output_type": "stream",
     "text": [
      "/Product_sussexpictures.co.uk_September2020.json.gz\n"
     ]
    },
    {
     "name": "stderr",
     "output_type": "stream",
     "text": [
      " 54% (921 of 1687) |###########          | Elapsed Time: 0:02:21 ETA:   0:01:37"
     ]
    },
    {
     "name": "stdout",
     "output_type": "stream",
     "text": [
      "/Product_lifeinformatica.com_September2020.json.gz\n",
      "/Product_creationsfinejewelers.com_September2020.json.gz\n"
     ]
    },
    {
     "name": "stderr",
     "output_type": "stream",
     "text": [
      " 54% (923 of 1687) |###########          | Elapsed Time: 0:02:21 ETA:   0:01:32"
     ]
    },
    {
     "name": "stdout",
     "output_type": "stream",
     "text": [
      "/Product_hladovypes.com_September2020.json.gz\n",
      "/Product_haykaymarket.com_September2020.json.gz\n"
     ]
    },
    {
     "name": "stderr",
     "output_type": "stream",
     "text": [
      " 54% (925 of 1687) |###########          | Elapsed Time: 0:02:21 ETA:   0:01:38"
     ]
    },
    {
     "name": "stdout",
     "output_type": "stream",
     "text": [
      "/Product_nytro.com_September2020.json.gz\n",
      "/Product_karakjewelry.com_September2020.json.gz\n"
     ]
    },
    {
     "name": "stderr",
     "output_type": "stream",
     "text": [
      "\r",
      " 54% (927 of 1687) |###########          | Elapsed Time: 0:02:21 ETA:   0:01:33"
     ]
    },
    {
     "name": "stdout",
     "output_type": "stream",
     "text": [
      "/Product_juwelier-barth.com_September2020.json.gz\n",
      "/Product_emmaroseart.com_September2020.json.gz\n",
      "/Product_rutlandappliances.com_September2020.json.gz\n"
     ]
    },
    {
     "name": "stderr",
     "output_type": "stream",
     "text": [
      "\r",
      " 55% (929 of 1687) |###########          | Elapsed Time: 0:02:22 ETA:   0:01:29"
     ]
    },
    {
     "name": "stdout",
     "output_type": "stream",
     "text": [
      "/Product_modesens.com_September2020.json.gz\n"
     ]
    },
    {
     "name": "stderr",
     "output_type": "stream",
     "text": [
      " 55% (931 of 1687) |###########          | Elapsed Time: 0:02:24 ETA:   0:14:11"
     ]
    },
    {
     "name": "stdout",
     "output_type": "stream",
     "text": [
      "/Product_toov.com_September2020.json.gz\n",
      "/Product_doohickey-hut.com_September2020.json.gz\n"
     ]
    },
    {
     "name": "stderr",
     "output_type": "stream",
     "text": [
      "\r",
      " 55% (932 of 1687) |###########          | Elapsed Time: 0:02:24 ETA:   0:10:03"
     ]
    },
    {
     "name": "stdout",
     "output_type": "stream",
     "text": [
      "/Product_tannertileandstone.com_September2020.json.gz\n",
      "/Product_niestevan.com_September2020.json.gz\n",
      "/Product_teknashop.com_September2020.json.gz\n"
     ]
    },
    {
     "name": "stderr",
     "output_type": "stream",
     "text": [
      " 55% (937 of 1687) |###########          | Elapsed Time: 0:02:25 ETA:   0:04:29"
     ]
    },
    {
     "name": "stdout",
     "output_type": "stream",
     "text": [
      "/Product_map-centre.com.au_September2020.json.gz\n",
      "/Product_lucindas.net_September2020.json.gz\n",
      "/Product_brsfacialspa.com_September2020.json.gz\n",
      "/Product_pslflooring.com_September2020.json.gz\n",
      "/Product_parafarmaciacampoamor.com_September2020.json.gz\n"
     ]
    },
    {
     "name": "stderr",
     "output_type": "stream",
     "text": [
      " 55% (941 of 1687) |###########          | Elapsed Time: 0:02:25 ETA:   0:03:20"
     ]
    },
    {
     "name": "stdout",
     "output_type": "stream",
     "text": [
      "/Product_avnow.com_September2020.json.gz\n",
      "/Product_chiccarines.com_September2020.json.gz\n"
     ]
    },
    {
     "name": "stderr",
     "output_type": "stream",
     "text": [
      "\r",
      " 55% (942 of 1687) |###########          | Elapsed Time: 0:02:25 ETA:   0:03:10"
     ]
    },
    {
     "name": "stdout",
     "output_type": "stream",
     "text": [
      "/Product_totalcycling.com_September2020.json.gz\n",
      "/Product_samsclub.com_September2020.json.gz\n"
     ]
    },
    {
     "name": "stderr",
     "output_type": "stream",
     "text": [
      " 56% (946 of 1687) |###########          | Elapsed Time: 0:02:27 ETA:   0:04:17"
     ]
    },
    {
     "name": "stdout",
     "output_type": "stream",
     "text": [
      "/Product_sheepdogprotectiongroup.com_September2020.json.gz\n",
      "/Product_bewareofmuggles.com_September2020.json.gz\n",
      "/Product_ballicom.co.uk_September2020.json.gz\n"
     ]
    },
    {
     "name": "stderr",
     "output_type": "stream",
     "text": [
      " 56% (948 of 1687) |###########          | Elapsed Time: 0:02:27 ETA:   0:04:40"
     ]
    },
    {
     "name": "stdout",
     "output_type": "stream",
     "text": [
      "/Product_iworldtt.com_September2020.json.gz\n",
      "/Product_evitamins.com_September2020.json.gz\n"
     ]
    },
    {
     "name": "stderr",
     "output_type": "stream",
     "text": [
      " 56% (950 of 1687) |###########          | Elapsed Time: 0:02:28 ETA:   0:04:40"
     ]
    },
    {
     "name": "stdout",
     "output_type": "stream",
     "text": [
      "/Product_southeaststeel.net_September2020.json.gz\n",
      "/Product_gmflooringllc.com_September2020.json.gz\n",
      "/Product_watch-a-porter.com_September2020.json.gz\n"
     ]
    },
    {
     "name": "stderr",
     "output_type": "stream",
     "text": [
      " 56% (953 of 1687) |###########          | Elapsed Time: 0:02:28 ETA:   0:03:41"
     ]
    },
    {
     "name": "stdout",
     "output_type": "stream",
     "text": [
      "/Product_jerrystvinc.com_September2020.json.gz\n",
      "/Product_senetic.co.uk_September2020.json.gz\n"
     ]
    },
    {
     "name": "stderr",
     "output_type": "stream",
     "text": [
      " 56% (955 of 1687) |###########          | Elapsed Time: 0:02:29 ETA:   0:03:22"
     ]
    },
    {
     "name": "stdout",
     "output_type": "stream",
     "text": [
      "/Product_itnest.com.au_September2020.json.gz\n",
      "/Product_offmaingifts.com_September2020.json.gz\n"
     ]
    },
    {
     "name": "stderr",
     "output_type": "stream",
     "text": [
      "\r",
      " 56% (956 of 1687) |###########          | Elapsed Time: 0:02:29 ETA:   0:02:05"
     ]
    },
    {
     "name": "stdout",
     "output_type": "stream",
     "text": [
      "/Product_dickscountrydodge.com_September2020.json.gz\n",
      "/Product_vichy.co.uk_September2020.json.gz\n",
      "/Product_cadencecyclery.com_September2020.json.gz\n"
     ]
    },
    {
     "name": "stderr",
     "output_type": "stream",
     "text": [
      " 56% (960 of 1687) |###########          | Elapsed Time: 0:02:29 ETA:   0:01:54"
     ]
    },
    {
     "name": "stdout",
     "output_type": "stream",
     "text": [
      "/Product_321eshop.com_September2020.json.gz\n",
      "/Product_cgmelectronics.com_September2020.json.gz\n"
     ]
    },
    {
     "name": "stderr",
     "output_type": "stream",
     "text": [
      "\r",
      " 57% (962 of 1687) |###########          | Elapsed Time: 0:02:29 ETA:   0:01:48"
     ]
    },
    {
     "name": "stdout",
     "output_type": "stream",
     "text": [
      "/Product_technextday.co.uk_September2020.json.gz\n",
      "/Product_cyclesstonge.com_September2020.json.gz\n",
      "/Product_firstclasswatches.co.uk_September2020.json.gz\n"
     ]
    },
    {
     "name": "stderr",
     "output_type": "stream",
     "text": [
      " 57% (966 of 1687) |############         | Elapsed Time: 0:02:30 ETA:   0:01:43"
     ]
    },
    {
     "name": "stdout",
     "output_type": "stream",
     "text": [
      "/Product_bigriversilkskincare.com_September2020.json.gz\n",
      "/Product_threekingdomsgames.com_September2020.json.gz\n",
      "/Product_viking-direct.co.uk_September2020.json.gz\n"
     ]
    },
    {
     "name": "stderr",
     "output_type": "stream",
     "text": [
      " 57% (968 of 1687) |############         | Elapsed Time: 0:02:30 ETA:   0:01:25"
     ]
    },
    {
     "name": "stdout",
     "output_type": "stream",
     "text": [
      "/Product_diamondcellar.com_September2020.json.gz\n",
      "/Product_tangletownbikeshop.com_September2020.json.gz\n"
     ]
    },
    {
     "name": "stderr",
     "output_type": "stream",
     "text": [
      " 57% (970 of 1687) |############         | Elapsed Time: 0:02:31 ETA:   0:01:38"
     ]
    },
    {
     "name": "stdout",
     "output_type": "stream",
     "text": [
      "/Product_szptstech.com_September2020.json.gz\n",
      "/Product_ralphsfloors.com_September2020.json.gz\n"
     ]
    },
    {
     "name": "stderr",
     "output_type": "stream",
     "text": [
      " 57% (973 of 1687) |############         | Elapsed Time: 0:02:31 ETA:   0:01:30"
     ]
    },
    {
     "name": "stdout",
     "output_type": "stream",
     "text": [
      "/Product_gordonchevy.com_September2020.json.gz\n",
      "/Product_rxskinbar.com_September2020.json.gz\n",
      "/Product_toyotaofgoldsboro.com_September2020.json.gz\n",
      "/Product_eeeshop.net_September2020.json.gz\n"
     ]
    },
    {
     "name": "stderr",
     "output_type": "stream",
     "text": [
      " 57% (976 of 1687) |############         | Elapsed Time: 0:02:31 ETA:   0:01:30"
     ]
    },
    {
     "name": "stdout",
     "output_type": "stream",
     "text": [
      "/Product_qnapdirect.com_September2020.json.gz\n",
      "/Product_nierle.com_September2020.json.gz\n"
     ]
    },
    {
     "name": "stderr",
     "output_type": "stream",
     "text": [
      "\r",
      " 57% (977 of 1687) |############         | Elapsed Time: 0:02:31 ETA:   0:01:29"
     ]
    },
    {
     "name": "stdout",
     "output_type": "stream",
     "text": [
      "/Product_apple.com_September2020.json.gz\n"
     ]
    },
    {
     "name": "stderr",
     "output_type": "stream",
     "text": [
      " 58% (979 of 1687) |############         | Elapsed Time: 0:02:36 ETA:   0:27:38"
     ]
    },
    {
     "name": "stdout",
     "output_type": "stream",
     "text": [
      "/Product_videopro.com.au_September2020.json.gz\n",
      "/Product_kayakspecialists.com.au_September2020.json.gz\n",
      "/Product_jjcycle.com_September2020.json.gz\n"
     ]
    },
    {
     "name": "stderr",
     "output_type": "stream",
     "text": [
      " 58% (983 of 1687) |############         | Elapsed Time: 0:02:36 ETA:   0:09:44"
     ]
    },
    {
     "name": "stdout",
     "output_type": "stream",
     "text": [
      "/Product_showcaseoffloors.net_September2020.json.gz\n",
      "/Product_piratemonkeypainting.com_September2020.json.gz\n",
      "/Product_denvercarpetandflooring.com_September2020.json.gz\n",
      "/Product_foursightsupplyco.com_September2020.json.gz\n",
      "/Product_mifsuds.com_September2020.json.gz\n"
     ]
    },
    {
     "name": "stderr",
     "output_type": "stream",
     "text": [
      " 58% (988 of 1687) |############         | Elapsed Time: 0:02:37 ETA:   0:05:33"
     ]
    },
    {
     "name": "stdout",
     "output_type": "stream",
     "text": [
      "/Product_keithsappliances.com_September2020.json.gz\n",
      "/Product_macfixit.com.au_September2020.json.gz\n",
      "/Product_universalpart.com_September2020.json.gz\n"
     ]
    },
    {
     "name": "stderr",
     "output_type": "stream",
     "text": [
      "\r",
      " 58% (989 of 1687) |############         | Elapsed Time: 0:02:37 ETA:   0:05:11"
     ]
    },
    {
     "name": "stdout",
     "output_type": "stream",
     "text": [
      "/Product_tiendaclic.com.ar_September2020.json.gz\n",
      "/Product_interiors-unlimited.net_September2020.json.gz\n",
      "/Product_afew-store.com_September2020.json.gz\n"
     ]
    },
    {
     "name": "stderr",
     "output_type": "stream",
     "text": [
      "\r",
      " 58% (992 of 1687) |############         | Elapsed Time: 0:02:37 ETA:   0:04:23"
     ]
    },
    {
     "name": "stdout",
     "output_type": "stream",
     "text": [
      "/Product_escentual.com_September2020.json.gz\n"
     ]
    },
    {
     "name": "stderr",
     "output_type": "stream",
     "text": [
      " 58% (994 of 1687) |############         | Elapsed Time: 0:02:37 ETA:   0:04:10"
     ]
    },
    {
     "name": "stdout",
     "output_type": "stream",
     "text": [
      "/Product_photo-denfert.com_September2020.json.gz\n",
      "/Product_bechad.com_September2020.json.gz\n"
     ]
    },
    {
     "name": "stderr",
     "output_type": "stream",
     "text": [
      " 59% (996 of 1687) |############         | Elapsed Time: 0:02:38 ETA:   0:03:53"
     ]
    },
    {
     "name": "stdout",
     "output_type": "stream",
     "text": [
      "/Product_lookeronline.com_September2020.json.gz\n",
      "/Product_mybottlebutler.com_September2020.json.gz\n"
     ]
    },
    {
     "name": "stderr",
     "output_type": "stream",
     "text": [
      " 59% (998 of 1687) |############         | Elapsed Time: 0:02:38 ETA:   0:01:13"
     ]
    },
    {
     "name": "stdout",
     "output_type": "stream",
     "text": [
      "/Product_adventurecycle.net_September2020.json.gz\n",
      "/Product_carpetstation.net_September2020.json.gz\n"
     ]
    },
    {
     "name": "stderr",
     "output_type": "stream",
     "text": [
      "\r",
      " 59% (1000 of 1687) |###########         | Elapsed Time: 0:02:38 ETA:   0:01:15"
     ]
    },
    {
     "name": "stdout",
     "output_type": "stream",
     "text": [
      "/Product_freewheelerbikeshop.com_September2020.json.gz\n",
      "/Product_charliesappliance.com_September2020.json.gz\n"
     ]
    },
    {
     "name": "stderr",
     "output_type": "stream",
     "text": [
      "\r",
      " 59% (1001 of 1687) |###########         | Elapsed Time: 0:02:38 ETA:   0:01:20"
     ]
    },
    {
     "name": "stdout",
     "output_type": "stream",
     "text": [
      "/Product_rocknroadcyclery.net_September2020.json.gz\n"
     ]
    },
    {
     "name": "stderr",
     "output_type": "stream",
     "text": [
      "\r",
      " 59% (1002 of 1687) |###########         | Elapsed Time: 0:02:39 ETA:   0:01:46"
     ]
    },
    {
     "name": "stdout",
     "output_type": "stream",
     "text": [
      "/Product_cheapworkclothes.net_September2020.json.gz\n"
     ]
    },
    {
     "name": "stderr",
     "output_type": "stream",
     "text": [
      " 59% (1006 of 1687) |###########         | Elapsed Time: 0:02:39 ETA:   0:01:47"
     ]
    },
    {
     "name": "stdout",
     "output_type": "stream",
     "text": [
      "/Product_brabary.com_September2020.json.gz\n",
      "/Product_heartratemonitorsusa.com_September2020.json.gz\n",
      "/Product_pclan.com.au_September2020.json.gz\n",
      "/Product_mclaincycle.com_September2020.json.gz\n"
     ]
    },
    {
     "name": "stderr",
     "output_type": "stream",
     "text": [
      " 59% (1009 of 1687) |###########         | Elapsed Time: 0:02:40 ETA:   0:02:03"
     ]
    },
    {
     "name": "stdout",
     "output_type": "stream",
     "text": [
      "/Product_mpventus.com_September2020.json.gz\n",
      "/Product_bestofbritishboutique.com_September2020.json.gz\n",
      "/Product_6ave.com_September2020.json.gz\n"
     ]
    },
    {
     "name": "stderr",
     "output_type": "stream",
     "text": [
      "\r",
      " 59% (1010 of 1687) |###########         | Elapsed Time: 0:02:40 ETA:   0:02:06"
     ]
    },
    {
     "name": "stdout",
     "output_type": "stream",
     "text": [
      "/Product_ahn-skinandbeauty.com_September2020.json.gz\n",
      "/Product_superdigitalcity.com_September2020.json.gz\n",
      "/Product_perfumesclub.com_September2020.json.gz\n"
     ]
    },
    {
     "name": "stderr",
     "output_type": "stream",
     "text": [
      "\r",
      " 60% (1013 of 1687) |############        | Elapsed Time: 0:02:40 ETA:   0:01:55"
     ]
    },
    {
     "name": "stdout",
     "output_type": "stream",
     "text": [
      "/Product_annspantryoflarne.com_September2020.json.gz\n",
      "/Product_miami-posh.com_September2020.json.gz\n",
      "/Product_elektradesign.com_September2020.json.gz\n",
      "/Product_laurelcyclery.com_September2020.json.gz\n"
     ]
    },
    {
     "name": "stderr",
     "output_type": "stream",
     "text": [
      " 60% (1019 of 1687) |############        | Elapsed Time: 0:02:41 ETA:   0:01:26"
     ]
    },
    {
     "name": "stdout",
     "output_type": "stream",
     "text": [
      "/Product_savonflooring.com_September2020.json.gz\n",
      "/Product_elvenrosedesign.com_September2020.json.gz\n",
      "/Product_bellinghamelectric.com_September2020.json.gz\n"
     ]
    },
    {
     "name": "stderr",
     "output_type": "stream",
     "text": [
      " 60% (1022 of 1687) |############        | Elapsed Time: 0:02:41 ETA:   0:01:23"
     ]
    },
    {
     "name": "stdout",
     "output_type": "stream",
     "text": [
      "/Product_leathernjackets.com_September2020.json.gz\n",
      "/Product_thebikeway.com_September2020.json.gz\n",
      "/Product_pandoralv.com_September2020.json.gz\n"
     ]
    },
    {
     "name": "stderr",
     "output_type": "stream",
     "text": [
      " 60% (1024 of 1687) |############        | Elapsed Time: 0:02:41 ETA:   0:01:24"
     ]
    },
    {
     "name": "stdout",
     "output_type": "stream",
     "text": [
      "/Product_top4running.com_September2020.json.gz\n",
      "/Product_newcavendishjewellers.com_September2020.json.gz\n"
     ]
    },
    {
     "name": "stderr",
     "output_type": "stream",
     "text": [
      "\r",
      " 60% (1026 of 1687) |############        | Elapsed Time: 0:02:42 ETA:   0:01:19"
     ]
    },
    {
     "name": "stdout",
     "output_type": "stream",
     "text": [
      "/Product_techcretesystem.com_September2020.json.gz\n",
      "/Product_woodbrass.com_September2020.json.gz\n"
     ]
    },
    {
     "name": "stderr",
     "output_type": "stream",
     "text": [
      " 60% (1028 of 1687) |############        | Elapsed Time: 0:02:42 ETA:   0:01:18"
     ]
    },
    {
     "name": "stdout",
     "output_type": "stream",
     "text": [
      "/Product_top-office.com_September2020.json.gz\n",
      "/Product_easyglobalmall.com_September2020.json.gz\n"
     ]
    },
    {
     "name": "stderr",
     "output_type": "stream",
     "text": [
      " 61% (1030 of 1687) |############        | Elapsed Time: 0:02:43 ETA:   0:01:23"
     ]
    },
    {
     "name": "stdout",
     "output_type": "stream",
     "text": [
      "/Product_premierofficefurniture.com.au_September2020.json.gz\n",
      "/Product_mijndartshop.com_September2020.json.gz\n",
      "/Product_sony.com.au_September2020.json.gz\n"
     ]
    },
    {
     "name": "stderr",
     "output_type": "stream",
     "text": [
      " 61% (1033 of 1687) |############        | Elapsed Time: 0:02:43 ETA:   0:01:37"
     ]
    },
    {
     "name": "stdout",
     "output_type": "stream",
     "text": [
      "/Product_billystvandstereo.com_September2020.json.gz\n",
      "/Product_topnotchflooringky.com_September2020.json.gz\n"
     ]
    },
    {
     "name": "stderr",
     "output_type": "stream",
     "text": [
      " 61% (1035 of 1687) |############        | Elapsed Time: 0:02:43 ETA:   0:01:42"
     ]
    },
    {
     "name": "stdout",
     "output_type": "stream",
     "text": [
      "/Product_cyclelogicbikes.com_September2020.json.gz\n",
      "/Product_stovereveyjackson.com_September2020.json.gz\n"
     ]
    },
    {
     "name": "stderr",
     "output_type": "stream",
     "text": [
      " 61% (1037 of 1687) |############        | Elapsed Time: 0:02:44 ETA:   0:01:43"
     ]
    },
    {
     "name": "stdout",
     "output_type": "stream",
     "text": [
      "/Product_sunshinecoastwashersandfridges.com.au_September2020.json.gz\n",
      "/Product_jordansaleuk.com_September2020.json.gz\n",
      "/Product_first-rescue.co.uk_September2020.json.gz\n"
     ]
    },
    {
     "name": "stderr",
     "output_type": "stream",
     "text": [
      "\r",
      " 61% (1039 of 1687) |############        | Elapsed Time: 0:02:44 ETA:   0:01:44"
     ]
    },
    {
     "name": "stdout",
     "output_type": "stream",
     "text": [
      "/Product_jordanupdate.com_September2020.json.gz\n",
      "/Product_drogisterij.net_September2020.json.gz\n"
     ]
    },
    {
     "name": "stderr",
     "output_type": "stream",
     "text": [
      " 61% (1042 of 1687) |############        | Elapsed Time: 0:02:44 ETA:   0:01:44"
     ]
    },
    {
     "name": "stdout",
     "output_type": "stream",
     "text": [
      "/Product_mobileigo.com_September2020.json.gz\n",
      "/Product_shoretv.com_September2020.json.gz\n"
     ]
    },
    {
     "name": "stderr",
     "output_type": "stream",
     "text": [
      "\r",
      " 61% (1044 of 1687) |############        | Elapsed Time: 0:02:44 ETA:   0:01:21"
     ]
    },
    {
     "name": "stdout",
     "output_type": "stream",
     "text": [
      "/Product_hollandsbicycles.com_September2020.json.gz\n"
     ]
    },
    {
     "name": "stderr",
     "output_type": "stream",
     "text": [
      "\r",
      " 61% (1045 of 1687) |############        | Elapsed Time: 0:02:45 ETA:   0:01:20"
     ]
    },
    {
     "name": "stdout",
     "output_type": "stream",
     "text": [
      "/Product_papawheeliesbicycles.com_September2020.json.gz\n",
      "/Product_samsung.com_September2020.json.gz\n"
     ]
    },
    {
     "name": "stderr",
     "output_type": "stream",
     "text": [
      " 62% (1048 of 1687) |############        | Elapsed Time: 0:02:45 ETA:   0:01:23"
     ]
    },
    {
     "name": "stdout",
     "output_type": "stream",
     "text": [
      "/Product_orangeskyaz.com_September2020.json.gz\n",
      "/Product_cyprus-childrens-shoes.company_September2020.json.gz\n",
      "/Product_store-nederland.com_September2020.json.gz\n"
     ]
    },
    {
     "name": "stderr",
     "output_type": "stream",
     "text": [
      "\r",
      " 62% (1050 of 1687) |############        | Elapsed Time: 0:02:45 ETA:   0:01:19"
     ]
    },
    {
     "name": "stdout",
     "output_type": "stream",
     "text": [
      "/Product_bkwinedepot.com_September2020.json.gz\n",
      "/Product_waltersmercedesbenzofriverside.com_September2020.json.gz\n",
      "/Product_consultpharmacy.co.uk_September2020.json.gz\n"
     ]
    },
    {
     "name": "stderr",
     "output_type": "stream",
     "text": [
      " 62% (1053 of 1687) |############        | Elapsed Time: 0:02:45 ETA:   0:01:14"
     ]
    },
    {
     "name": "stdout",
     "output_type": "stream",
     "text": [
      "/Product_demersbicycles.com_September2020.json.gz\n",
      "/Product_deliciousbuds.com.au_September2020.json.gz\n",
      "/Product_data-butiken.com_September2020.json.gz\n"
     ]
    },
    {
     "name": "stderr",
     "output_type": "stream",
     "text": [
      " 62% (1057 of 1687) |############        | Elapsed Time: 0:02:46 ETA:   0:01:06"
     ]
    },
    {
     "name": "stdout",
     "output_type": "stream",
     "text": [
      "/Product_methodcycles.com_September2020.json.gz\n",
      "/Product_totallyrunning.com_September2020.json.gz\n",
      "/Product_olivre.com.br_September2020.json.gz\n"
     ]
    },
    {
     "name": "stderr",
     "output_type": "stream",
     "text": [
      " 62% (1060 of 1687) |############        | Elapsed Time: 0:02:46 ETA:   0:01:07"
     ]
    },
    {
     "name": "stdout",
     "output_type": "stream",
     "text": [
      "/Product_mapshop.com_September2020.json.gz\n",
      "/Product_herpaintedcanvas.com_September2020.json.gz\n",
      "/Product_getislandfit.com_September2020.json.gz\n",
      "/Product_donjuanpomade.com_September2020.json.gz\n"
     ]
    },
    {
     "name": "stderr",
     "output_type": "stream",
     "text": [
      "\r",
      " 63% (1063 of 1687) |############        | Elapsed Time: 0:02:46 ETA:   0:01:01"
     ]
    },
    {
     "name": "stdout",
     "output_type": "stream",
     "text": [
      "/Product_joyeriaroberto.com_September2020.json.gz\n",
      "/Product_paraselection.com_September2020.json.gz\n"
     ]
    },
    {
     "name": "stderr",
     "output_type": "stream",
     "text": [
      "\r",
      " 63% (1064 of 1687) |############        | Elapsed Time: 0:02:47 ETA:   0:01:09"
     ]
    },
    {
     "name": "stdout",
     "output_type": "stream",
     "text": [
      "/Product_sportwatchestopshops.com_September2020.json.gz\n",
      "/Product_suuqwayne.com_September2020.json.gz\n",
      "/Product_buyskincare.co.uk_September2020.json.gz\n"
     ]
    },
    {
     "name": "stderr",
     "output_type": "stream",
     "text": [
      " 63% (1069 of 1687) |############        | Elapsed Time: 0:02:47 ETA:   0:01:02"
     ]
    },
    {
     "name": "stdout",
     "output_type": "stream",
     "text": [
      "/Product_rez01.com.au_September2020.json.gz\n",
      "/Product_deltatronicinformatica.com.br_September2020.json.gz\n",
      "/Product_arteestile.com_September2020.json.gz\n"
     ]
    },
    {
     "name": "stderr",
     "output_type": "stream",
     "text": [
      "\r",
      " 63% (1070 of 1687) |############        | Elapsed Time: 0:02:47 ETA:   0:01:05"
     ]
    },
    {
     "name": "stdout",
     "output_type": "stream",
     "text": [
      "/Product_lovojo.com_September2020.json.gz\n",
      "/Product_nasons.net_September2020.json.gz\n"
     ]
    },
    {
     "name": "stderr",
     "output_type": "stream",
     "text": [
      " 63% (1073 of 1687) |############        | Elapsed Time: 0:02:48 ETA:   0:01:11"
     ]
    },
    {
     "name": "stdout",
     "output_type": "stream",
     "text": [
      "/Product_americanpaininstitute.org_September2020.json.gz\n",
      "/Product_bobscarpetmart.com_September2020.json.gz\n",
      "/Product_foliaa.com_September2020.json.gz\n"
     ]
    },
    {
     "name": "stderr",
     "output_type": "stream",
     "text": [
      "\r",
      " 63% (1075 of 1687) |############        | Elapsed Time: 0:02:48 ETA:   0:01:08"
     ]
    },
    {
     "name": "stdout",
     "output_type": "stream",
     "text": [
      "/Product_superareshop.com_September2020.json.gz\n",
      "/Product_serversdirect.co.uk_September2020.json.gz\n"
     ]
    },
    {
     "name": "stderr",
     "output_type": "stream",
     "text": [
      "\r",
      " 63% (1077 of 1687) |############        | Elapsed Time: 0:02:48 ETA:   0:01:06"
     ]
    },
    {
     "name": "stdout",
     "output_type": "stream",
     "text": [
      "/Product_ladolcevelo.com_September2020.json.gz\n"
     ]
    },
    {
     "name": "stderr",
     "output_type": "stream",
     "text": [
      "\r",
      " 63% (1078 of 1687) |############        | Elapsed Time: 0:02:48 ETA:   0:01:11"
     ]
    },
    {
     "name": "stdout",
     "output_type": "stream",
     "text": [
      "/Product_leppstorytelling.com_September2020.json.gz\n",
      "/Product_grandcastor.com_September2020.json.gz\n",
      "/Product_fenixcycling.com_September2020.json.gz\n"
     ]
    },
    {
     "name": "stderr",
     "output_type": "stream",
     "text": [
      "\r",
      " 64% (1081 of 1687) |############        | Elapsed Time: 0:02:48 ETA:   0:01:11"
     ]
    },
    {
     "name": "stdout",
     "output_type": "stream",
     "text": [
      "/Product_lloydspharmacy.com_September2020.json.gz\n"
     ]
    },
    {
     "name": "stderr",
     "output_type": "stream",
     "text": [
      "\r",
      " 64% (1082 of 1687) |############        | Elapsed Time: 0:02:49 ETA:   0:01:15"
     ]
    },
    {
     "name": "stdout",
     "output_type": "stream",
     "text": [
      "/Product_nzgameshop.com_September2020.json.gz\n"
     ]
    },
    {
     "name": "stderr",
     "output_type": "stream",
     "text": [
      " 64% (1085 of 1687) |############        | Elapsed Time: 0:02:50 ETA:   0:02:12"
     ]
    },
    {
     "name": "stdout",
     "output_type": "stream",
     "text": [
      "/Product_applianceworld.com_September2020.json.gz\n",
      "/Product_musiccityscuba.com_September2020.json.gz\n",
      "/Product_linewellness.com_September2020.json.gz\n",
      "/Product_perpetualkid.com_September2020.json.gz\n"
     ]
    },
    {
     "name": "stderr",
     "output_type": "stream",
     "text": [
      "\r",
      " 64% (1087 of 1687) |############        | Elapsed Time: 0:02:50 ETA:   0:02:20"
     ]
    },
    {
     "name": "stdout",
     "output_type": "stream",
     "text": [
      "/Product_solehello.com_September2020.json.gz\n"
     ]
    },
    {
     "name": "stderr",
     "output_type": "stream",
     "text": [
      "\r",
      " 64% (1088 of 1687) |############        | Elapsed Time: 0:02:51 ETA:   0:03:03"
     ]
    },
    {
     "name": "stdout",
     "output_type": "stream",
     "text": [
      "/Product_trekbikesofmountpleasant.com_September2020.json.gz\n"
     ]
    },
    {
     "name": "stderr",
     "output_type": "stream",
     "text": [
      "\r",
      " 64% (1089 of 1687) |############        | Elapsed Time: 0:02:51 ETA:   0:03:00"
     ]
    },
    {
     "name": "stdout",
     "output_type": "stream",
     "text": [
      "/Product_aussied.com_September2020.json.gz\n",
      "/Product_megaspin.net_September2020.json.gz\n"
     ]
    },
    {
     "name": "stderr",
     "output_type": "stream",
     "text": [
      "\r",
      " 64% (1091 of 1687) |############        | Elapsed Time: 0:02:51 ETA:   0:02:34"
     ]
    },
    {
     "name": "stdout",
     "output_type": "stream",
     "text": [
      "/Product_smartbikeparts.com_September2020.json.gz\n"
     ]
    },
    {
     "name": "stderr",
     "output_type": "stream",
     "text": [
      " 64% (1093 of 1687) |############        | Elapsed Time: 0:02:52 ETA:   0:02:36"
     ]
    },
    {
     "name": "stdout",
     "output_type": "stream",
     "text": [
      "/Product_cbprimerealty.com_September2020.json.gz\n",
      "/Product_toastwines.com_September2020.json.gz\n"
     ]
    },
    {
     "name": "stderr",
     "output_type": "stream",
     "text": [
      "\r",
      " 64% (1094 of 1687) |############        | Elapsed Time: 0:02:52 ETA:   0:01:51"
     ]
    },
    {
     "name": "stdout",
     "output_type": "stream",
     "text": [
      "/Product_safefamilylife.com_September2020.json.gz\n",
      "/Product_refreshcartridges.co.uk_September2020.json.gz\n",
      "/Product_island-potions.com_September2020.json.gz\n",
      "/Product_contractorshomeappliances.com_September2020.json.gz\n"
     ]
    },
    {
     "name": "stderr",
     "output_type": "stream",
     "text": [
      " 65% (1099 of 1687) |#############       | Elapsed Time: 0:02:52 ETA:   0:01:36"
     ]
    },
    {
     "name": "stdout",
     "output_type": "stream",
     "text": [
      "/Product_monsterblooms.com_September2020.json.gz\n",
      "/Product_jordansunveil.com_September2020.json.gz\n"
     ]
    },
    {
     "name": "stderr",
     "output_type": "stream",
     "text": [
      "\r",
      " 65% (1100 of 1687) |#############       | Elapsed Time: 0:02:52 ETA:   0:01:31"
     ]
    },
    {
     "name": "stdout",
     "output_type": "stream",
     "text": [
      "/Product_angrycatfishbicycle.com_September2020.json.gz\n"
     ]
    },
    {
     "name": "stderr",
     "output_type": "stream",
     "text": [
      " 65% (1103 of 1687) |#############       | Elapsed Time: 0:02:53 ETA:   0:01:25"
     ]
    },
    {
     "name": "stdout",
     "output_type": "stream",
     "text": [
      "/Product_spichers.com_September2020.json.gz\n",
      "/Product_averyselfdefense.com_September2020.json.gz\n",
      "/Product_optdex.com_September2020.json.gz\n"
     ]
    },
    {
     "name": "stderr",
     "output_type": "stream",
     "text": [
      " 65% (1108 of 1687) |#############       | Elapsed Time: 0:02:53 ETA:   0:01:06"
     ]
    },
    {
     "name": "stdout",
     "output_type": "stream",
     "text": [
      "/Product_noblett.com_September2020.json.gz\n",
      "/Product_sixfive.com.sg_September2020.json.gz\n",
      "/Product_lovegoddesshealing.org_September2020.json.gz\n",
      "/Product_breakupexperts.com_September2020.json.gz\n",
      "/Product_veloboutiquepro.com_September2020.json.gz\n"
     ]
    },
    {
     "name": "stderr",
     "output_type": "stream",
     "text": [
      "\r",
      " 65% (1109 of 1687) |#############       | Elapsed Time: 0:02:53 ETA:   0:01:07"
     ]
    },
    {
     "name": "stdout",
     "output_type": "stream",
     "text": [
      "/Product_allstarappliance.net_September2020.json.gz\n",
      "/Product_dakine.com_September2020.json.gz\n"
     ]
    },
    {
     "name": "stderr",
     "output_type": "stream",
     "text": [
      " 65% (1112 of 1687) |#############       | Elapsed Time: 0:02:53 ETA:   0:00:59"
     ]
    },
    {
     "name": "stdout",
     "output_type": "stream",
     "text": [
      "/Product_shoukinet.com_September2020.json.gz\n",
      "/Product_mipcok.com_September2020.json.gz\n",
      "/Product_chainreaction.com_September2020.json.gz\n"
     ]
    },
    {
     "name": "stderr",
     "output_type": "stream",
     "text": [
      " 66% (1116 of 1687) |#############       | Elapsed Time: 0:02:54 ETA:   0:00:53"
     ]
    },
    {
     "name": "stdout",
     "output_type": "stream",
     "text": [
      "/Product_lgkramerflooring.com_September2020.json.gz\n",
      "/Product_megalegend.com_September2020.json.gz\n",
      "/Product_uk.com_September2020.json.gz\n"
     ]
    },
    {
     "name": "stderr",
     "output_type": "stream",
     "text": [
      "\r",
      " 66% (1117 of 1687) |#############       | Elapsed Time: 0:02:58 ETA:   0:35:19"
     ]
    },
    {
     "name": "stdout",
     "output_type": "stream",
     "text": [
      "/Product_elevationcycles.com_September2020.json.gz\n"
     ]
    },
    {
     "name": "stderr",
     "output_type": "stream",
     "text": [
      " 66% (1120 of 1687) |#############       | Elapsed Time: 0:02:58 ETA:   0:10:09"
     ]
    },
    {
     "name": "stdout",
     "output_type": "stream",
     "text": [
      "/Product_lextec.com_September2020.json.gz\n",
      "/Product_vanitystock.com_September2020.json.gz\n",
      "/Product_pictureline.com_September2020.json.gz\n"
     ]
    },
    {
     "name": "stderr",
     "output_type": "stream",
     "text": [
      "\r",
      " 66% (1121 of 1687) |#############       | Elapsed Time: 0:02:59 ETA:   0:08:54"
     ]
    },
    {
     "name": "stdout",
     "output_type": "stream",
     "text": [
      "/Product_markertek.com_September2020.json.gz\n"
     ]
    },
    {
     "name": "stderr",
     "output_type": "stream",
     "text": [
      " 66% (1124 of 1687) |#############       | Elapsed Time: 0:02:59 ETA:   0:06:28"
     ]
    },
    {
     "name": "stdout",
     "output_type": "stream",
     "text": [
      "/Product_richmondcarpetoutlet.com_September2020.json.gz\n",
      "/Product_kandbrefrigeration.com_September2020.json.gz\n",
      "/Product_notoriousbox.com_September2020.json.gz\n",
      "/Product_kolhages.com_September2020.json.gz\n"
     ]
    },
    {
     "name": "stderr",
     "output_type": "stream",
     "text": [
      " 66% (1128 of 1687) |#############       | Elapsed Time: 0:03:00 ETA:   0:01:46"
     ]
    },
    {
     "name": "stdout",
     "output_type": "stream",
     "text": [
      "/Product_backfortywindowtinting.com_September2020.json.gz\n",
      "/Product_tonerstore.com_September2020.json.gz\n",
      "/Product_caratco.com_September2020.json.gz\n"
     ]
    },
    {
     "name": "stderr",
     "output_type": "stream",
     "text": [
      "\r",
      " 66% (1129 of 1687) |#############       | Elapsed Time: 0:03:00 ETA:   0:01:44"
     ]
    },
    {
     "name": "stdout",
     "output_type": "stream",
     "text": [
      "/Product_montgomerycyclery.com_September2020.json.gz\n"
     ]
    },
    {
     "name": "stderr",
     "output_type": "stream",
     "text": [
      " 67% (1131 of 1687) |#############       | Elapsed Time: 0:03:00 ETA:   0:01:47"
     ]
    },
    {
     "name": "stdout",
     "output_type": "stream",
     "text": [
      "/Product_yabex.com.br_September2020.json.gz\n",
      "/Product_redrockbicycle.com_September2020.json.gz\n"
     ]
    },
    {
     "name": "stderr",
     "output_type": "stream",
     "text": [
      "\r",
      " 67% (1132 of 1687) |#############       | Elapsed Time: 0:03:01 ETA:   0:01:42"
     ]
    },
    {
     "name": "stdout",
     "output_type": "stream",
     "text": [
      "/Product_sdmattress.com_September2020.json.gz\n"
     ]
    },
    {
     "name": "stderr",
     "output_type": "stream",
     "text": [
      " 67% (1135 of 1687) |#############       | Elapsed Time: 0:03:01 ETA:   0:01:40"
     ]
    },
    {
     "name": "stdout",
     "output_type": "stream",
     "text": [
      "/Product_friendlyfloors.com_September2020.json.gz\n",
      "/Product_swisswatchesforsale.com_September2020.json.gz\n",
      "/Product_legginsonline.com_September2020.json.gz\n",
      "/Product_yahalaexpress.com_September2020.json.gz\n"
     ]
    },
    {
     "name": "stderr",
     "output_type": "stream",
     "text": [
      "\r",
      " 67% (1137 of 1687) |#############       | Elapsed Time: 0:03:01 ETA:   0:01:31"
     ]
    },
    {
     "name": "stdout",
     "output_type": "stream",
     "text": [
      "/Product_yourfloorz.com_September2020.json.gz\n",
      "/Product_instacosmetic.com_September2020.json.gz\n"
     ]
    },
    {
     "name": "stderr",
     "output_type": "stream",
     "text": [
      " 67% (1141 of 1687) |#############       | Elapsed Time: 0:03:02 ETA:   0:01:17"
     ]
    },
    {
     "name": "stdout",
     "output_type": "stream",
     "text": [
      "/Product_toasttee.com_September2020.json.gz\n",
      "/Product_sclamos.com_September2020.json.gz\n",
      "/Product_sargentappliance.com_September2020.json.gz\n"
     ]
    },
    {
     "name": "stderr",
     "output_type": "stream",
     "text": [
      "\r",
      " 67% (1142 of 1687) |#############       | Elapsed Time: 0:03:02 ETA:   0:01:21"
     ]
    },
    {
     "name": "stdout",
     "output_type": "stream",
     "text": [
      "/Product_microtune.com_September2020.json.gz\n"
     ]
    },
    {
     "name": "stderr",
     "output_type": "stream",
     "text": [
      " 67% (1146 of 1687) |#############       | Elapsed Time: 0:03:02 ETA:   0:01:08"
     ]
    },
    {
     "name": "stdout",
     "output_type": "stream",
     "text": [
      "/Product_le-beauty-club.com_September2020.json.gz\n",
      "/Product_bikesociety.com.au_September2020.json.gz\n",
      "/Product_wineandliquormart.com_September2020.json.gz\n",
      "/Product_luxelaundryrentals.com_September2020.json.gz\n"
     ]
    },
    {
     "name": "stderr",
     "output_type": "stream",
     "text": [
      "\r",
      " 67% (1147 of 1687) |#############       | Elapsed Time: 0:03:02 ETA:   0:01:10"
     ]
    },
    {
     "name": "stdout",
     "output_type": "stream",
     "text": [
      "/Product_bigshark.com_September2020.json.gz\n"
     ]
    },
    {
     "name": "stderr",
     "output_type": "stream",
     "text": [
      " 68% (1149 of 1687) |#############       | Elapsed Time: 0:03:03 ETA:   0:01:11"
     ]
    },
    {
     "name": "stdout",
     "output_type": "stream",
     "text": [
      "/Product_deadsledcoffee.com_September2020.json.gz\n",
      "/Product_ddl-gmbh.org_September2020.json.gz\n"
     ]
    },
    {
     "name": "stderr",
     "output_type": "stream",
     "text": [
      " 68% (1152 of 1687) |#############       | Elapsed Time: 0:03:03 ETA:   0:01:05"
     ]
    },
    {
     "name": "stdout",
     "output_type": "stream",
     "text": [
      "/Product_aramedia.com_September2020.json.gz\n",
      "/Product_noorderwind.computer_September2020.json.gz\n",
      "/Product_terrystvandappliances.com_September2020.json.gz\n"
     ]
    },
    {
     "name": "stderr",
     "output_type": "stream",
     "text": [
      " 68% (1156 of 1687) |#############       | Elapsed Time: 0:03:04 ETA:   0:01:02"
     ]
    },
    {
     "name": "stdout",
     "output_type": "stream",
     "text": [
      "/Product_chrismccallart.com_September2020.json.gz\n",
      "/Product_canon.com_September2020.json.gz\n",
      "/Product_pcbelfast.co.uk_September2020.json.gz\n",
      "/Product_i-tech.com.au_September2020.json.gz\n"
     ]
    },
    {
     "name": "stderr",
     "output_type": "stream",
     "text": [
      "\r",
      " 68% (1159 of 1687) |#############       | Elapsed Time: 0:03:04 ETA:   0:00:55"
     ]
    },
    {
     "name": "stdout",
     "output_type": "stream",
     "text": [
      "/Product_royalcollective.com.au_September2020.json.gz\n",
      "/Product_protectionbay.com_September2020.json.gz\n",
      "/Product_katwalkbelfast.com_September2020.json.gz\n",
      "/Product_oshomarble.com_September2020.json.gz\n",
      "/Product_thebikeline.com_September2020.json.gz\n"
     ]
    },
    {
     "name": "stderr",
     "output_type": "stream",
     "text": [
      " 68% (1163 of 1687) |#############       | Elapsed Time: 0:03:04 ETA:   0:01:02"
     ]
    },
    {
     "name": "stdout",
     "output_type": "stream",
     "text": [
      "/Product_dreamypetproducts.co.uk_September2020.json.gz\n",
      "/Product_cnet.com_September2020.json.gz\n"
     ]
    },
    {
     "name": "stderr",
     "output_type": "stream",
     "text": [
      " 69% (1166 of 1687) |#############       | Elapsed Time: 0:03:05 ETA:   0:00:59"
     ]
    },
    {
     "name": "stdout",
     "output_type": "stream",
     "text": [
      "/Product_prestigeflooringcenter.com_September2020.json.gz\n",
      "/Product_small-english.com_September2020.json.gz\n",
      "/Product_ktrworld.com_September2020.json.gz\n",
      "/Product_shoproots.com_September2020.json.gz\n"
     ]
    },
    {
     "name": "stderr",
     "output_type": "stream",
     "text": [
      " 69% (1170 of 1687) |#############       | Elapsed Time: 0:03:05 ETA:   0:00:54"
     ]
    },
    {
     "name": "stdout",
     "output_type": "stream",
     "text": [
      "/Product_flooredllc.com_September2020.json.gz\n",
      "/Product_walkerthejeweller.com_September2020.json.gz\n",
      "/Product_gametradersseaford.com.au_September2020.json.gz\n"
     ]
    },
    {
     "name": "stderr",
     "output_type": "stream",
     "text": [
      "\r",
      " 69% (1171 of 1687) |#############       | Elapsed Time: 0:03:05 ETA:   0:00:56"
     ]
    },
    {
     "name": "stdout",
     "output_type": "stream",
     "text": [
      "/Product_supremefloorsfl.com_September2020.json.gz\n",
      "/Product_ja-gps.com.au_September2020.json.gz\n"
     ]
    },
    {
     "name": "stderr",
     "output_type": "stream",
     "text": [
      " 69% (1177 of 1687) |#############       | Elapsed Time: 0:03:06 ETA:   0:01:03"
     ]
    },
    {
     "name": "stdout",
     "output_type": "stream",
     "text": [
      "/Product_dirsantjoan.com_September2020.json.gz\n",
      "/Product_eulocis.co.uk_September2020.json.gz\n",
      "/Product_pharmacodel.com_September2020.json.gz\n",
      "/Product_exactainformatica.com.py_September2020.json.gz\n",
      "/Product_701cycleandsport.com_September2020.json.gz\n"
     ]
    },
    {
     "name": "stderr",
     "output_type": "stream",
     "text": [
      "\r",
      " 69% (1178 of 1687) |#############       | Elapsed Time: 0:03:06 ETA:   0:01:02"
     ]
    },
    {
     "name": "stdout",
     "output_type": "stream",
     "text": [
      "/Product_tenspeedspokes.com_September2020.json.gz\n"
     ]
    },
    {
     "name": "stderr",
     "output_type": "stream",
     "text": [
      " 70% (1181 of 1687) |##############      | Elapsed Time: 0:03:06 ETA:   0:01:02"
     ]
    },
    {
     "name": "stdout",
     "output_type": "stream",
     "text": [
      "/Product_nextdaycomponents.co.uk_September2020.json.gz\n",
      "/Product_guthrieflooring.com_September2020.json.gz\n",
      "/Product_drogarianet.com.br_September2020.json.gz\n"
     ]
    },
    {
     "name": "stderr",
     "output_type": "stream",
     "text": [
      " 70% (1183 of 1687) |##############      | Elapsed Time: 0:03:07 ETA:   0:01:25"
     ]
    },
    {
     "name": "stdout",
     "output_type": "stream",
     "text": [
      "/Product_macconnection.com_September2020.json.gz\n",
      "/Product_parlenda.com.br_September2020.json.gz\n"
     ]
    },
    {
     "name": "stderr",
     "output_type": "stream",
     "text": [
      "\r",
      " 70% (1185 of 1687) |##############      | Elapsed Time: 0:03:08 ETA:   0:01:18"
     ]
    },
    {
     "name": "stdout",
     "output_type": "stream",
     "text": [
      "/Product_pianetafarmacia.com_September2020.json.gz\n",
      "/Product_visitbicycleworld.com_September2020.json.gz\n",
      "/Product_solelyoutdoors.com_September2020.json.gz"
     ]
    },
    {
     "name": "stderr",
     "output_type": "stream",
     "text": [
      "\r",
      " 70% (1187 of 1687) |##############      | Elapsed Time: 0:03:08 ETA:   0:01:11"
     ]
    },
    {
     "name": "stdout",
     "output_type": "stream",
     "text": [
      "\n",
      "/Product_fortheflooronline.com_September2020.json.gz\n"
     ]
    },
    {
     "name": "stderr",
     "output_type": "stream",
     "text": [
      " 70% (1190 of 1687) |##############      | Elapsed Time: 0:03:08 ETA:   0:01:20"
     ]
    },
    {
     "name": "stdout",
     "output_type": "stream",
     "text": [
      "/Product_asetra.com.tr_September2020.json.gz\n",
      "/Product_machineskingdom.com_September2020.json.gz\n",
      "/Product_touchpoint.com.au_September2020.json.gz\n"
     ]
    },
    {
     "name": "stderr",
     "output_type": "stream",
     "text": [
      "\r",
      " 70% (1192 of 1687) |##############      | Elapsed Time: 0:03:08 ETA:   0:01:18"
     ]
    },
    {
     "name": "stdout",
     "output_type": "stream",
     "text": [
      "/Product_arrowassociatedstores.com_September2020.json.gz\n",
      "/Product_securityonone.com_September2020.json.gz\n"
     ]
    },
    {
     "name": "stderr",
     "output_type": "stream",
     "text": [
      "\r",
      " 70% (1194 of 1687) |##############      | Elapsed Time: 0:03:08 ETA:   0:01:07"
     ]
    },
    {
     "name": "stdout",
     "output_type": "stream",
     "text": [
      "/Product_rvcyclery.com_September2020.json.gz\n",
      "/Product_kensbikeski.com_September2020.json.gz\n"
     ]
    },
    {
     "name": "stderr",
     "output_type": "stream",
     "text": [
      " 70% (1196 of 1687) |##############      | Elapsed Time: 0:03:09 ETA:   0:01:16"
     ]
    },
    {
     "name": "stdout",
     "output_type": "stream",
     "text": [
      "/Product_chriscraftstore.com_September2020.json.gz\n",
      "/Product_mbweddingplanning.co.uk_September2020.json.gz\n",
      "/Product_linitx.com_September2020.json.gz\n"
     ]
    },
    {
     "name": "stderr",
     "output_type": "stream",
     "text": [
      " 71% (1200 of 1687) |##############      | Elapsed Time: 0:03:09 ETA:   0:01:06"
     ]
    },
    {
     "name": "stdout",
     "output_type": "stream",
     "text": [
      "/Product_nataliamaephotography.com_September2020.json.gz\n",
      "/Product_pc1formatik.com_September2020.json.gz\n",
      "/Product_kitchenaid.com.au_September2020.json.gz\n"
     ]
    },
    {
     "name": "stderr",
     "output_type": "stream",
     "text": [
      " 71% (1204 of 1687) |##############      | Elapsed Time: 0:03:09 ETA:   0:00:46"
     ]
    },
    {
     "name": "stdout",
     "output_type": "stream",
     "text": [
      "/Product_lihomeappliance.com_September2020.json.gz\n",
      "/Product_koanga.org.nz_September2020.json.gz\n",
      "/Product_callawayscarpet.com_September2020.json.gz\n",
      "/Product_kapoorwatch.com_September2020.json.gz\n"
     ]
    },
    {
     "name": "stderr",
     "output_type": "stream",
     "text": [
      " 71% (1206 of 1687) |##############      | Elapsed Time: 0:03:10 ETA:   0:00:47"
     ]
    },
    {
     "name": "stdout",
     "output_type": "stream",
     "text": [
      "/Product_outbackliquors.com_September2020.json.gz\n",
      "/Product_citybikes.com_September2020.json.gz\n"
     ]
    },
    {
     "name": "stderr",
     "output_type": "stream",
     "text": [
      "\r",
      " 71% (1207 of 1687) |##############      | Elapsed Time: 0:03:10 ETA:   0:00:50"
     ]
    },
    {
     "name": "stdout",
     "output_type": "stream",
     "text": [
      "/Product_lg.com_September2020.json.gz\n"
     ]
    },
    {
     "name": "stderr",
     "output_type": "stream",
     "text": [
      " 71% (1209 of 1687) |##############      | Elapsed Time: 0:03:11 ETA:   0:01:18"
     ]
    },
    {
     "name": "stdout",
     "output_type": "stream",
     "text": [
      "/Product_jselect.com_September2020.json.gz\n",
      "/Product_accessoires-asus.com_September2020.json.gz\n"
     ]
    },
    {
     "name": "stderr",
     "output_type": "stream",
     "text": [
      "\r",
      " 71% (1210 of 1687) |##############      | Elapsed Time: 0:03:11 ETA:   0:01:51"
     ]
    },
    {
     "name": "stdout",
     "output_type": "stream",
     "text": [
      "/Product_velo-citycycles.com_September2020.json.gz\n"
     ]
    },
    {
     "name": "stderr",
     "output_type": "stream",
     "text": [
      "\r",
      " 71% (1211 of 1687) |##############      | Elapsed Time: 0:03:12 ETA:   0:02:44"
     ]
    },
    {
     "name": "stdout",
     "output_type": "stream",
     "text": [
      "/Product_teknolojipazar.com_September2020.json.gz\n"
     ]
    },
    {
     "name": "stderr",
     "output_type": "stream",
     "text": [
      " 71% (1214 of 1687) |##############      | Elapsed Time: 0:03:12 ETA:   0:02:32"
     ]
    },
    {
     "name": "stdout",
     "output_type": "stream",
     "text": [
      "/Product_easternctflooring.com_September2020.json.gz\n",
      "/Product_familybiblerevolution.com_September2020.json.gz\n",
      "/Product_thevaporsupply.com_September2020.json.gz\n"
     ]
    },
    {
     "name": "stderr",
     "output_type": "stream",
     "text": [
      "\r",
      " 72% (1215 of 1687) |##############      | Elapsed Time: 0:03:12 ETA:   0:02:19"
     ]
    },
    {
     "name": "stdout",
     "output_type": "stream",
     "text": [
      "/Product_wempe.com_September2020.json.gz\n"
     ]
    },
    {
     "name": "stderr",
     "output_type": "stream",
     "text": [
      " 72% (1218 of 1687) |##############      | Elapsed Time: 0:03:17 ETA:   0:12:37"
     ]
    },
    {
     "name": "stdout",
     "output_type": "stream",
     "text": [
      "/Product_unitedluxuryshop.net_September2020.json.gz\n",
      "/Product_mbwestcovina.com_September2020.json.gz\n",
      "/Product_senetic.com.cy_September2020.json.gz\n"
     ]
    },
    {
     "name": "stderr",
     "output_type": "stream",
     "text": [
      " 72% (1220 of 1687) |##############      | Elapsed Time: 0:03:17 ETA:   0:07:58"
     ]
    },
    {
     "name": "stdout",
     "output_type": "stream",
     "text": [
      "/Product_orangecycleorlando.com_September2020.json.gz\n",
      "/Product_crkphotoimaging.com.au_September2020.json.gz\n"
     ]
    },
    {
     "name": "stderr",
     "output_type": "stream",
     "text": [
      " 72% (1223 of 1687) |##############      | Elapsed Time: 0:03:18 ETA:   0:05:30"
     ]
    },
    {
     "name": "stdout",
     "output_type": "stream",
     "text": [
      "/Product_willsparts.com_September2020.json.gz\n",
      "/Product_shopforgeeks.com_September2020.json.gz\n",
      "/Product_dc-consumiveis.com_September2020.json.gz\n",
      "/Product_thebikerack.com_September2020.json.gz\n"
     ]
    },
    {
     "name": "stderr",
     "output_type": "stream",
     "text": [
      " 72% (1226 of 1687) |##############      | Elapsed Time: 0:03:18 ETA:   0:04:13"
     ]
    },
    {
     "name": "stdout",
     "output_type": "stream",
     "text": [
      "/Product_boston.co.uk_September2020.json.gz\n",
      "/Product_jennythomasartistry.com_September2020.json.gz\n",
      "/Product_ocfloorguy.com_September2020.json.gz\n"
     ]
    },
    {
     "name": "stderr",
     "output_type": "stream",
     "text": [
      " 72% (1230 of 1687) |##############      | Elapsed Time: 0:03:19 ETA:   0:03:11"
     ]
    },
    {
     "name": "stdout",
     "output_type": "stream",
     "text": [
      "/Product_nesstire.com_September2020.json.gz\n",
      "/Product_americanblastsystems.com_September2020.json.gz\n",
      "/Product_nutritionfaktory.com_September2020.json.gz\n"
     ]
    },
    {
     "name": "stderr",
     "output_type": "stream",
     "text": [
      " 73% (1232 of 1687) |##############      | Elapsed Time: 0:03:19 ETA:   0:02:56"
     ]
    },
    {
     "name": "stdout",
     "output_type": "stream",
     "text": [
      "/Product_klmarkertphoto.com_September2020.json.gz\n",
      "/Product_bicycletoyandhobby.com_September2020.json.gz\n"
     ]
    },
    {
     "name": "stderr",
     "output_type": "stream",
     "text": [
      "\r",
      " 73% (1233 of 1687) |##############      | Elapsed Time: 0:03:19 ETA:   0:00:56"
     ]
    },
    {
     "name": "stdout",
     "output_type": "stream",
     "text": [
      "/Product_skinstore.com_September2020.json.gz\n"
     ]
    },
    {
     "name": "stderr",
     "output_type": "stream",
     "text": [
      " 73% (1235 of 1687) |##############      | Elapsed Time: 0:03:20 ETA:   0:01:15"
     ]
    },
    {
     "name": "stdout",
     "output_type": "stream",
     "text": [
      "/Product_thefallswineroom.com_September2020.json.gz\n",
      "/Product_creatabeauty.com_September2020.json.gz\n"
     ]
    },
    {
     "name": "stderr",
     "output_type": "stream",
     "text": [
      "\r",
      " 73% (1236 of 1687) |##############      | Elapsed Time: 0:03:20 ETA:   0:01:14"
     ]
    },
    {
     "name": "stdout",
     "output_type": "stream",
     "text": [
      "/Product_castawayyarnshop.com_September2020.json.gz\n",
      "/Product_bikes4youpr.com_September2020.json.gz\n"
     ]
    },
    {
     "name": "stderr",
     "output_type": "stream",
     "text": [
      "\r",
      " 73% (1238 of 1687) |##############      | Elapsed Time: 0:03:20 ETA:   0:01:15"
     ]
    },
    {
     "name": "stdout",
     "output_type": "stream",
     "text": [
      "/Product_cicloslasalud.com_September2020.json.gz\n"
     ]
    },
    {
     "name": "stderr",
     "output_type": "stream",
     "text": [
      " 73% (1241 of 1687) |##############      | Elapsed Time: 0:03:21 ETA:   0:01:31"
     ]
    },
    {
     "name": "stdout",
     "output_type": "stream",
     "text": [
      "/Product_ocwinemart.com_September2020.json.gz\n",
      "/Product_sthelenacyclery.com_September2020.json.gz\n",
      "/Product_trucht.com_September2020.json.gz\n",
      "/Product_seriouscycling.com_September2020.json.gz\n"
     ]
    },
    {
     "name": "stderr",
     "output_type": "stream",
     "text": [
      " 73% (1245 of 1687) |##############      | Elapsed Time: 0:03:21 ETA:   0:01:24"
     ]
    },
    {
     "name": "stdout",
     "output_type": "stream",
     "text": [
      "/Product_ballantynejewelers.com_September2020.json.gz\n",
      "/Product_7bucket.com_September2020.json.gz\n",
      "/Product_wfcox.com_September2020.json.gz\n",
      "/Product_joe-bike.com_September2020.json.gz\n"
     ]
    },
    {
     "name": "stderr",
     "output_type": "stream",
     "text": [
      "\r",
      " 73% (1247 of 1687) |##############      | Elapsed Time: 0:03:22 ETA:   0:01:21"
     ]
    },
    {
     "name": "stdout",
     "output_type": "stream",
     "text": [
      "/Product_coobby.com_September2020.json.gz\n",
      "/Product_digixo.com_September2020.json.gz\n"
     ]
    },
    {
     "name": "stderr",
     "output_type": "stream",
     "text": [
      " 74% (1250 of 1687) |##############      | Elapsed Time: 0:03:22 ETA:   0:01:00"
     ]
    },
    {
     "name": "stdout",
     "output_type": "stream",
     "text": [
      "/Product_monimega.com_September2020.json.gz\n",
      "/Product_timhangcongnghe.com_September2020.json.gz\n"
     ]
    },
    {
     "name": "stderr",
     "output_type": "stream",
     "text": [
      "\r",
      " 74% (1251 of 1687) |##############      | Elapsed Time: 0:03:22 ETA:   0:01:01"
     ]
    },
    {
     "name": "stdout",
     "output_type": "stream",
     "text": [
      "/Product_gericks.com_September2020.json.gz\n"
     ]
    },
    {
     "name": "stderr",
     "output_type": "stream",
     "text": [
      " 74% (1254 of 1687) |##############      | Elapsed Time: 0:03:23 ETA:   0:01:02"
     ]
    },
    {
     "name": "stdout",
     "output_type": "stream",
     "text": [
      "/Product_swapandshopfurniture.com_September2020.json.gz\n",
      "/Product_hunterstoves.co.uk_September2020.json.gz\n",
      "/Product_safersecurityinc.com_September2020.json.gz\n",
      "/Product_celesteamador.com_September2020.json.gz\n"
     ]
    },
    {
     "name": "stderr",
     "output_type": "stream",
     "text": [
      "\r",
      " 74% (1256 of 1687) |##############      | Elapsed Time: 0:03:23 ETA:   0:00:59"
     ]
    },
    {
     "name": "stdout",
     "output_type": "stream",
     "text": [
      "/Product_feralmountainco.com_September2020.json.gz\n",
      "/Product_nuevoelectro.com_September2020.json.gz\n"
     ]
    },
    {
     "name": "stderr",
     "output_type": "stream",
     "text": [
      " 74% (1260 of 1687) |##############      | Elapsed Time: 0:03:23 ETA:   0:00:50"
     ]
    },
    {
     "name": "stdout",
     "output_type": "stream",
     "text": [
      "/Product_robinsonbrosappliances.com_September2020.json.gz\n",
      "/Product_choicecomputertechnologies.com_September2020.json.gz\n",
      "/Product_parkhomefashion.com_September2020.json.gz\n"
     ]
    },
    {
     "name": "stderr",
     "output_type": "stream",
     "text": [
      "\r",
      " 74% (1263 of 1687) |##############      | Elapsed Time: 0:03:23 ETA:   0:00:50"
     ]
    },
    {
     "name": "stdout",
     "output_type": "stream",
     "text": [
      "/Product_baflooringanddesign.com_September2020.json.gz\n",
      "/Product_snowys.com.au_September2020.json.gz\n",
      "/Product_smithcarpetedmond.com_September2020.json.gz\n"
     ]
    },
    {
     "name": "stderr",
     "output_type": "stream",
     "text": [
      "\r",
      " 74% (1265 of 1687) |##############      | Elapsed Time: 0:03:24 ETA:   0:00:47"
     ]
    },
    {
     "name": "stdout",
     "output_type": "stream",
     "text": [
      "/Product_jacobsondistributingcompany.com_September2020.json.gz\n",
      "/Product_bikezonecapecod.com_September2020.json.gz\n"
     ]
    },
    {
     "name": "stderr",
     "output_type": "stream",
     "text": [
      " 75% (1267 of 1687) |###############     | Elapsed Time: 0:03:24 ETA:   0:00:50"
     ]
    },
    {
     "name": "stdout",
     "output_type": "stream",
     "text": [
      "/Product_actisante-shop.com_September2020.json.gz\n",
      "/Product_gurushreecomputers.com_September2020.json.gz\n",
      "/Product_ocsocks.com_September2020.json.gz\n"
     ]
    },
    {
     "name": "stderr",
     "output_type": "stream",
     "text": [
      " 75% (1271 of 1687) |###############     | Elapsed Time: 0:03:24 ETA:   0:00:43"
     ]
    },
    {
     "name": "stdout",
     "output_type": "stream",
     "text": [
      "/Product_relicusa.com_September2020.json.gz\n",
      "/Product_hookicks.com_September2020.json.gz\n",
      "/Product_rosebikes.com_September2020.json.gz\n"
     ]
    },
    {
     "name": "stderr",
     "output_type": "stream",
     "text": [
      "\r",
      " 75% (1272 of 1687) |###############     | Elapsed Time: 0:03:25 ETA:   0:00:56"
     ]
    },
    {
     "name": "stdout",
     "output_type": "stream",
     "text": [
      "/Product_bikebarnracing.com_September2020.json.gz\n"
     ]
    },
    {
     "name": "stderr",
     "output_type": "stream",
     "text": [
      " 75% (1274 of 1687) |###############     | Elapsed Time: 0:03:25 ETA:   0:00:59"
     ]
    },
    {
     "name": "stdout",
     "output_type": "stream",
     "text": [
      "/Product_totaldiving.com_September2020.json.gz\n",
      "/Product_mornflake.com_September2020.json.gz\n",
      "/Product_sohnsappliancecenter.com_September2020.json.gz\n"
     ]
    },
    {
     "name": "stderr",
     "output_type": "stream",
     "text": [
      "\r",
      " 75% (1276 of 1687) |###############     | Elapsed Time: 0:03:25 ETA:   0:00:55"
     ]
    },
    {
     "name": "stdout",
     "output_type": "stream",
     "text": [
      "/Product_midwayusa.com_September2020.json.gz\n"
     ]
    },
    {
     "name": "stderr",
     "output_type": "stream",
     "text": [
      " 75% (1279 of 1687) |###############     | Elapsed Time: 0:03:26 ETA:   0:01:24"
     ]
    },
    {
     "name": "stdout",
     "output_type": "stream",
     "text": [
      "/Product_equipnetworks.com.au_September2020.json.gz\n",
      "/Product_nationaldirectrepro.com_September2020.json.gz\n",
      "/Product_uvawines.com_September2020.json.gz\n"
     ]
    },
    {
     "name": "stderr",
     "output_type": "stream",
     "text": [
      " 76% (1283 of 1687) |###############     | Elapsed Time: 0:03:27 ETA:   0:01:15"
     ]
    },
    {
     "name": "stdout",
     "output_type": "stream",
     "text": [
      "/Product_evenkon.com_September2020.json.gz\n",
      "/Product_hemphealthnow.net_September2020.json.gz\n",
      "/Product_islandbikeshops.com_September2020.json.gz\n",
      "/Product_mtnchalet.com_September2020.json.gz\n"
     ]
    },
    {
     "name": "stderr",
     "output_type": "stream",
     "text": [
      " 76% (1285 of 1687) |###############     | Elapsed Time: 0:03:27 ETA:   0:01:03"
     ]
    },
    {
     "name": "stdout",
     "output_type": "stream",
     "text": [
      "/Product_latitude45.com_September2020.json.gz\n",
      "/Product_aabikes.com_September2020.json.gz\n"
     ]
    },
    {
     "name": "stderr",
     "output_type": "stream",
     "text": [
      " 76% (1288 of 1687) |###############     | Elapsed Time: 0:03:27 ETA:   0:00:59"
     ]
    },
    {
     "name": "stdout",
     "output_type": "stream",
     "text": [
      "/Product_sajidenterprises.net_September2020.json.gz\n",
      "/Product_harristvandappliance.net_September2020.json.gz\n",
      "/Product_thefrogpadappliances.com_September2020.json.gz\n"
     ]
    },
    {
     "name": "stderr",
     "output_type": "stream",
     "text": [
      "\r",
      " 76% (1289 of 1687) |###############     | Elapsed Time: 0:03:28 ETA:   0:01:04"
     ]
    },
    {
     "name": "stdout",
     "output_type": "stream",
     "text": [
      "/Product_newhorizonsbikes.com_September2020.json.gz\n"
     ]
    },
    {
     "name": "stderr",
     "output_type": "stream",
     "text": [
      " 76% (1292 of 1687) |###############     | Elapsed Time: 0:03:28 ETA:   0:01:05"
     ]
    },
    {
     "name": "stdout",
     "output_type": "stream",
     "text": [
      "/Product_ncs.com.my_September2020.json.gz\n",
      "/Product_camerapro.com.au_September2020.json.gz\n",
      "/Product_365rider.com_September2020.json.gz\n"
     ]
    },
    {
     "name": "stderr",
     "output_type": "stream",
     "text": [
      "\r",
      " 76% (1294 of 1687) |###############     | Elapsed Time: 0:03:28 ETA:   0:00:53"
     ]
    },
    {
     "name": "stdout",
     "output_type": "stream",
     "text": [
      "/Product_wininhealth.com_September2020.json.gz\n",
      "/Product_cactusmusictx.com_September2020.json.gz\n"
     ]
    },
    {
     "name": "stderr",
     "output_type": "stream",
     "text": [
      "\r",
      " 76% (1295 of 1687) |###############     | Elapsed Time: 0:03:29 ETA:   0:01:12"
     ]
    },
    {
     "name": "stdout",
     "output_type": "stream",
     "text": [
      "/Product_pedalpowerbikeshop.com_September2020.json.gz\n"
     ]
    },
    {
     "name": "stderr",
     "output_type": "stream",
     "text": [
      "\r",
      " 76% (1296 of 1687) |###############     | Elapsed Time: 0:03:29 ETA:   0:01:13"
     ]
    },
    {
     "name": "stdout",
     "output_type": "stream",
     "text": [
      "/Product_mytrendyphone.co.uk_September2020.json.gz\n"
     ]
    },
    {
     "name": "stderr",
     "output_type": "stream",
     "text": [
      " 77% (1299 of 1687) |###############     | Elapsed Time: 0:03:29 ETA:   0:01:13"
     ]
    },
    {
     "name": "stdout",
     "output_type": "stream",
     "text": [
      "/Product_coastlinebbq.com.au_September2020.json.gz\n",
      "/Product_muffetandlouisa.com_September2020.json.gz\n",
      "/Product_surecando.com.au_September2020.json.gz\n"
     ]
    },
    {
     "name": "stderr",
     "output_type": "stream",
     "text": [
      " 77% (1302 of 1687) |###############     | Elapsed Time: 0:03:30 ETA:   0:01:07"
     ]
    },
    {
     "name": "stdout",
     "output_type": "stream",
     "text": [
      "/Product_motolastik.com_September2020.json.gz\n",
      "/Product_telemoveis-livres.com_September2020.json.gz\n",
      "/Product_mobilityzone.com.au_September2020.json.gz\n"
     ]
    },
    {
     "name": "stderr",
     "output_type": "stream",
     "text": [
      " 77% (1305 of 1687) |###############     | Elapsed Time: 0:03:30 ETA:   0:00:53"
     ]
    },
    {
     "name": "stdout",
     "output_type": "stream",
     "text": [
      "/Product_bilendenal.com_September2020.json.gz\n",
      "/Product_hipbabygear.com_September2020.json.gz\n",
      "/Product_visiofactory.com_September2020.json.gz\n"
     ]
    },
    {
     "name": "stderr",
     "output_type": "stream",
     "text": [
      " 77% (1308 of 1687) |###############     | Elapsed Time: 0:03:30 ETA:   0:00:51"
     ]
    },
    {
     "name": "stdout",
     "output_type": "stream",
     "text": [
      "/Product_silversilvershop.com_September2020.json.gz\n",
      "/Product_mundotronik.com_September2020.json.gz\n",
      "/Product_bananalouishairstudio.co.uk_September2020.json.gz\n",
      "/Product_goddessarmorprotection.net_September2020.json.gz\n",
      "/Product_toplinesuperstore.net_September2020.json.gz\n"
     ]
    },
    {
     "name": "stderr",
     "output_type": "stream",
     "text": [
      " 77% (1312 of 1687) |###############     | Elapsed Time: 0:03:31 ETA:   0:00:48"
     ]
    },
    {
     "name": "stdout",
     "output_type": "stream",
     "text": [
      "/Product_ishop-mall.com_September2020.json.gz\n",
      "/Product_whidbeynaturalpet.com_September2020.json.gz\n"
     ]
    },
    {
     "name": "stderr",
     "output_type": "stream",
     "text": [
      " 78% (1316 of 1687) |###############     | Elapsed Time: 0:03:31 ETA:   0:00:35"
     ]
    },
    {
     "name": "stdout",
     "output_type": "stream",
     "text": [
      "/Product_babylonhonda.com_September2020.json.gz\n",
      "/Product_prophotosupply.com_September2020.json.gz\n",
      "/Product_fiorani.com_September2020.json.gz\n",
      "/Product_hugosmelroseappliance.com_September2020.json.gz\n"
     ]
    },
    {
     "name": "stderr",
     "output_type": "stream",
     "text": [
      "\r",
      " 78% (1318 of 1687) |###############     | Elapsed Time: 0:03:31 ETA:   0:00:33"
     ]
    },
    {
     "name": "stdout",
     "output_type": "stream",
     "text": [
      "/Product_designerhomeappliances.com_September2020.json.gz\n",
      "/Product_artcraftersonline.com_September2020.json.gz\n"
     ]
    },
    {
     "name": "stderr",
     "output_type": "stream",
     "text": [
      "\r",
      " 78% (1320 of 1687) |###############     | Elapsed Time: 0:03:31 ETA:   0:00:32"
     ]
    },
    {
     "name": "stdout",
     "output_type": "stream",
     "text": [
      "/Product_vinawatch.com_September2020.json.gz\n",
      "/Product_fiberoptics.com_September2020.json.gz\n",
      "/Product_marineelectronicsandwiring.com_September2020.json.gz\n"
     ]
    },
    {
     "name": "stderr",
     "output_type": "stream",
     "text": [
      " 78% (1323 of 1687) |###############     | Elapsed Time: 0:03:32 ETA:   0:00:31"
     ]
    },
    {
     "name": "stdout",
     "output_type": "stream",
     "text": [
      "/Product_donghoduyanh.com_September2020.json.gz\n",
      "/Product_daddykool.com_September2020.json.gz\n"
     ]
    },
    {
     "name": "stderr",
     "output_type": "stream",
     "text": [
      "\r",
      " 78% (1324 of 1687) |###############     | Elapsed Time: 0:03:32 ETA:   0:00:35"
     ]
    },
    {
     "name": "stdout",
     "output_type": "stream",
     "text": [
      "/Product_tandhfloor.net_September2020.json.gz\n",
      "/Product_iheaven.com.ua_September2020.json.gz\n"
     ]
    },
    {
     "name": "stderr",
     "output_type": "stream",
     "text": [
      " 78% (1328 of 1687) |###############     | Elapsed Time: 0:03:32 ETA:   0:00:37"
     ]
    },
    {
     "name": "stdout",
     "output_type": "stream",
     "text": [
      "/Product_thepurplepurl.com_September2020.json.gz\n",
      "/Product_carcassonne-vacances.com_September2020.json.gz\n",
      "/Product_kissakikarate.com_September2020.json.gz\n",
      "/Product_ispsupplies.com_September2020.json.gz\n"
     ]
    },
    {
     "name": "stderr",
     "output_type": "stream",
     "text": [
      " 78% (1332 of 1687) |###############     | Elapsed Time: 0:03:33 ETA:   0:00:47"
     ]
    },
    {
     "name": "stdout",
     "output_type": "stream",
     "text": [
      "/Product_newdominionsecurity.com_September2020.json.gz\n",
      "/Product_appliancesdirect.co.uk_September2020.json.gz\n",
      "/Product_hub-furniture.com_September2020.json.gz\n"
     ]
    },
    {
     "name": "stderr",
     "output_type": "stream",
     "text": [
      " 79% (1334 of 1687) |###############     | Elapsed Time: 0:03:33 ETA:   0:00:52"
     ]
    },
    {
     "name": "stdout",
     "output_type": "stream",
     "text": [
      "/Product_wow10shop.com_September2020.json.gz\n",
      "/Product_ts2informatica.com_September2020.json.gz\n"
     ]
    },
    {
     "name": "stderr",
     "output_type": "stream",
     "text": [
      "\r",
      " 79% (1335 of 1687) |###############     | Elapsed Time: 0:03:33 ETA:   0:00:51"
     ]
    },
    {
     "name": "stdout",
     "output_type": "stream",
     "text": [
      "/Product_luliz.com_September2020.json.gz\n",
      "/Product_yuppiechef.com_September2020.json.gz\n"
     ]
    },
    {
     "name": "stderr",
     "output_type": "stream",
     "text": [
      "\r",
      " 79% (1337 of 1687) |###############     | Elapsed Time: 0:03:34 ETA:   0:00:55"
     ]
    },
    {
     "name": "stdout",
     "output_type": "stream",
     "text": [
      "/Product_lookfantastic.com_September2020.json.gz\n"
     ]
    },
    {
     "name": "stderr",
     "output_type": "stream",
     "text": [
      " 79% (1339 of 1687) |###############     | Elapsed Time: 0:03:35 ETA:   0:02:02"
     ]
    },
    {
     "name": "stdout",
     "output_type": "stream",
     "text": [
      "/Product_tamtampercusion.com_September2020.json.gz\n",
      "/Product_fagagioielli.com_September2020.json.gz\n",
      "/Product_trottscarpet.com_September2020.json.gz\n"
     ]
    },
    {
     "name": "stderr",
     "output_type": "stream",
     "text": [
      " 79% (1343 of 1687) |###############     | Elapsed Time: 0:03:36 ETA:   0:01:33"
     ]
    },
    {
     "name": "stdout",
     "output_type": "stream",
     "text": [
      "/Product_richwellcarpet.com_September2020.json.gz\n",
      "/Product_parafarmaciaenvalencia.com_September2020.json.gz\n",
      "/Product_impresorasytoner.com_September2020.json.gz\n"
     ]
    },
    {
     "name": "stderr",
     "output_type": "stream",
     "text": [
      "\r",
      " 79% (1344 of 1687) |###############     | Elapsed Time: 0:03:36 ETA:   0:01:28"
     ]
    },
    {
     "name": "stdout",
     "output_type": "stream",
     "text": [
      "/Product_bicyclesplustx.com_September2020.json.gz\n"
     ]
    },
    {
     "name": "stderr",
     "output_type": "stream",
     "text": [
      " 79% (1346 of 1687) |###############     | Elapsed Time: 0:03:36 ETA:   0:01:29"
     ]
    },
    {
     "name": "stdout",
     "output_type": "stream",
     "text": [
      "/Product_bikesplus.net_September2020.json.gz\n",
      "/Product_wrightsgallery.com_September2020.json.gz\n"
     ]
    },
    {
     "name": "stderr",
     "output_type": "stream",
     "text": [
      " 80% (1350 of 1687) |################    | Elapsed Time: 0:03:36 ETA:   0:01:07"
     ]
    },
    {
     "name": "stdout",
     "output_type": "stream",
     "text": [
      "/Product_maestrovision.com_September2020.json.gz\n",
      "/Product_cluf60.com_September2020.json.gz\n",
      "/Product_bicycleshop.com_September2020.json.gz\n",
      "/Product_caliandcojewelry.com_September2020.json.gz\n",
      "/Product_selfdefensemarines.com_September2020.json.gz\n"
     ]
    },
    {
     "name": "stderr",
     "output_type": "stream",
     "text": [
      " 80% (1354 of 1687) |################    | Elapsed Time: 0:03:37 ETA:   0:00:55"
     ]
    },
    {
     "name": "stdout",
     "output_type": "stream",
     "text": [
      "/Product_cosmetiquesonline.net_September2020.json.gz\n",
      "/Product_mycarpetland.com_September2020.json.gz\n",
      "/Product_tetenaluk.com_September2020.json.gz\n"
     ]
    },
    {
     "name": "stderr",
     "output_type": "stream",
     "text": [
      "\r",
      " 80% (1355 of 1687) |################    | Elapsed Time: 0:03:37 ETA:   0:00:54"
     ]
    },
    {
     "name": "stdout",
     "output_type": "stream",
     "text": [
      "/Product_storearuba.com_September2020.json.gz\n",
      "/Product_klangfarbe.com_September2020.json.gz\n"
     ]
    },
    {
     "name": "stderr",
     "output_type": "stream",
     "text": [
      " 80% (1359 of 1687) |################    | Elapsed Time: 0:03:37 ETA:   0:00:36"
     ]
    },
    {
     "name": "stdout",
     "output_type": "stream",
     "text": [
      "/Product_sprocketscycles.com_September2020.json.gz\n",
      "/Product_plushsuspension.uk_September2020.json.gz\n",
      "/Product_dannyscycles.com_September2020.json.gz\n"
     ]
    },
    {
     "name": "stderr",
     "output_type": "stream",
     "text": [
      "\r",
      " 80% (1360 of 1687) |################    | Elapsed Time: 0:03:38 ETA:   0:00:39"
     ]
    },
    {
     "name": "stdout",
     "output_type": "stream",
     "text": [
      "/Product_downunderpilotshop.com.au_September2020.json.gz\n",
      "/Product_fanaticguitars.com_September2020.json.gz\n"
     ]
    },
    {
     "name": "stderr",
     "output_type": "stream",
     "text": [
      "\r",
      " 80% (1362 of 1687) |################    | Elapsed Time: 0:03:38 ETA:   0:00:40"
     ]
    },
    {
     "name": "stdout",
     "output_type": "stream",
     "text": [
      "/Product_datastores.co.uk_September2020.json.gz\n",
      "/Product_appletonbike.com_September2020.json.gz\n"
     ]
    },
    {
     "name": "stderr",
     "output_type": "stream",
     "text": [
      "\r",
      " 80% (1364 of 1687) |################    | Elapsed Time: 0:03:38 ETA:   0:00:39"
     ]
    },
    {
     "name": "stdout",
     "output_type": "stream",
     "text": [
      "/Product_dogfoods4u.co.uk_September2020.json.gz\n",
      "/Product_fanmerchstore.com_September2020.json.gz\n"
     ]
    },
    {
     "name": "stderr",
     "output_type": "stream",
     "text": [
      " 81% (1367 of 1687) |################    | Elapsed Time: 0:03:39 ETA:   0:00:50"
     ]
    },
    {
     "name": "stdout",
     "output_type": "stream",
     "text": [
      "/Product_tedsappliancellc.com_September2020.json.gz\n",
      "/Product_affiliatedsafetyproducts.com_September2020.json.gz\n",
      "/Product_beachsalesinc.com_September2020.json.gz\n"
     ]
    },
    {
     "name": "stderr",
     "output_type": "stream",
     "text": [
      " 81% (1371 of 1687) |################    | Elapsed Time: 0:03:39 ETA:   0:00:46"
     ]
    },
    {
     "name": "stdout",
     "output_type": "stream",
     "text": [
      "/Product_carpetmastersmo.com_September2020.json.gz\n",
      "/Product_midwayappliance.com_September2020.json.gz\n",
      "/Product_hitech-market.com_September2020.json.gz\n"
     ]
    },
    {
     "name": "stderr",
     "output_type": "stream",
     "text": [
      " 81% (1373 of 1687) |################    | Elapsed Time: 0:03:40 ETA:   0:00:47"
     ]
    },
    {
     "name": "stdout",
     "output_type": "stream",
     "text": [
      "/Product_laboutiqueeyewear.com_September2020.json.gz\n",
      "/Product_shopourstudio.com_September2020.json.gz\n"
     ]
    },
    {
     "name": "stderr",
     "output_type": "stream",
     "text": [
      "\r",
      " 81% (1375 of 1687) |################    | Elapsed Time: 0:03:40 ETA:   0:00:43"
     ]
    },
    {
     "name": "stdout",
     "output_type": "stream",
     "text": [
      "/Product_crankedbikestudio.com_September2020.json.gz\n",
      "/Product_nikon.com.br_September2020.json.gz\n"
     ]
    },
    {
     "name": "stderr",
     "output_type": "stream",
     "text": [
      "\r",
      " 81% (1377 of 1687) |################    | Elapsed Time: 0:03:40 ETA:   0:00:41"
     ]
    },
    {
     "name": "stdout",
     "output_type": "stream",
     "text": [
      "/Product_corpkart.com_September2020.json.gz\n",
      "/Product_thecabinetencounter.com_September2020.json.gz\n",
      "/Product_free2dayshipping.com_September2020.json.gz\n"
     ]
    },
    {
     "name": "stderr",
     "output_type": "stream",
     "text": [
      " 81% (1381 of 1687) |################    | Elapsed Time: 0:03:40 ETA:   0:00:33"
     ]
    },
    {
     "name": "stdout",
     "output_type": "stream",
     "text": [
      "/Product_retrojordannew.com_September2020.json.gz\n",
      "/Product_allaboutvacuums.com_September2020.json.gz\n",
      "/Product_patocycles.com_September2020.json.gz\n",
      "/Product_wdrobeapparel.com_September2020.json.gz\n"
     ]
    },
    {
     "name": "stderr",
     "output_type": "stream",
     "text": [
      " 82% (1385 of 1687) |################    | Elapsed Time: 0:03:40 ETA:   0:00:30"
     ]
    },
    {
     "name": "stdout",
     "output_type": "stream",
     "text": [
      "/Product_geeksontap.com.au_September2020.json.gz\n",
      "/Product_canon.co.uk_September2020.json.gz\n",
      "/Product_wowbikes.net_September2020.json.gz\n"
     ]
    },
    {
     "name": "stderr",
     "output_type": "stream",
     "text": [
      " 82% (1387 of 1687) |################    | Elapsed Time: 0:03:41 ETA:   0:00:30"
     ]
    },
    {
     "name": "stdout",
     "output_type": "stream",
     "text": [
      "/Product_lojasjusti.com.br_September2020.json.gz\n",
      "/Product_jmedical.net_September2020.json.gz\n",
      "/Product_1servicecar.com_September2020.json.gz\n"
     ]
    },
    {
     "name": "stderr",
     "output_type": "stream",
     "text": [
      " 82% (1391 of 1687) |################    | Elapsed Time: 0:03:41 ETA:   0:00:27"
     ]
    },
    {
     "name": "stdout",
     "output_type": "stream",
     "text": [
      "/Product_watertownfloor.com_September2020.json.gz\n",
      "/Product_cycologybikeco.com_September2020.json.gz\n",
      "/Product_orlyjewellers.com_September2020.json.gz\n"
     ]
    },
    {
     "name": "stderr",
     "output_type": "stream",
     "text": [
      "\r",
      " 82% (1393 of 1687) |################    | Elapsed Time: 0:03:41 ETA:   0:00:26"
     ]
    },
    {
     "name": "stdout",
     "output_type": "stream",
     "text": [
      "/Product_joyeriasendra.com_September2020.json.gz\n",
      "/Product_studioebn.com_September2020.json.gz\n",
      "/Product_onofre.com.br_September2020.json.gz\n"
     ]
    },
    {
     "name": "stderr",
     "output_type": "stream",
     "text": [
      " 82% (1397 of 1687) |################    | Elapsed Time: 0:03:42 ETA:   0:00:28"
     ]
    },
    {
     "name": "stdout",
     "output_type": "stream",
     "text": [
      "/Product_pawsandclawsrr.org_September2020.json.gz\n",
      "/Product_watchsignals.com_September2020.json.gz\n",
      "/Product_bikeboardandski.com_September2020.json.gz\n"
     ]
    },
    {
     "name": "stderr",
     "output_type": "stream",
     "text": [
      " 82% (1399 of 1687) |################    | Elapsed Time: 0:03:42 ETA:   0:00:32"
     ]
    },
    {
     "name": "stdout",
     "output_type": "stream",
     "text": [
      "/Product_gshockstore.com.br_September2020.json.gz\n",
      "/Product_bts.com.au_September2020.json.gz\n",
      "/Product_astrobile.com_September2020.json.gz\n"
     ]
    },
    {
     "name": "stderr",
     "output_type": "stream",
     "text": [
      "\r",
      " 83% (1401 of 1687) |################    | Elapsed Time: 0:03:42 ETA:   0:00:32"
     ]
    },
    {
     "name": "stdout",
     "output_type": "stream",
     "text": [
      "/Product_oculosshop.com.br_September2020.json.gz\n"
     ]
    },
    {
     "name": "stderr",
     "output_type": "stream",
     "text": [
      "\r",
      " 83% (1402 of 1687) |################    | Elapsed Time: 0:03:43 ETA:   0:00:39"
     ]
    },
    {
     "name": "stdout",
     "output_type": "stream",
     "text": [
      "/Product_kd11sale.com_September2020.json.gz\n",
      "/Product_markselectrical.co.uk_September2020.json.gz\n"
     ]
    },
    {
     "name": "stderr",
     "output_type": "stream",
     "text": [
      "\r",
      " 83% (1404 of 1687) |################    | Elapsed Time: 0:03:43 ETA:   0:00:52"
     ]
    },
    {
     "name": "stdout",
     "output_type": "stream",
     "text": [
      "/Product_bloomingtoncycleandfitness.com_September2020.json.gz\n"
     ]
    },
    {
     "name": "stderr",
     "output_type": "stream",
     "text": [
      "\r",
      " 83% (1405 of 1687) |################    | Elapsed Time: 0:03:43 ETA:   0:00:53"
     ]
    },
    {
     "name": "stdout",
     "output_type": "stream",
     "text": [
      "/Product_austinclinic.com.au_September2020.json.gz\n",
      "/Product_jared.com_September2020.json.gz\n"
     ]
    },
    {
     "name": "stderr",
     "output_type": "stream",
     "text": [
      " 83% (1408 of 1687) |################    | Elapsed Time: 0:03:44 ETA:   0:00:52"
     ]
    },
    {
     "name": "stdout",
     "output_type": "stream",
     "text": [
      "/Product_cbadventuresupply.com_September2020.json.gz\n",
      "/Product_peskayak.com_September2020.json.gz\n"
     ]
    },
    {
     "name": "stderr",
     "output_type": "stream",
     "text": [
      " 83% (1411 of 1687) |################    | Elapsed Time: 0:03:44 ETA:   0:00:47"
     ]
    },
    {
     "name": "stdout",
     "output_type": "stream",
     "text": [
      "/Product_matilda.net.au_September2020.json.gz\n",
      "/Product_attitudesports.com_September2020.json.gz\n",
      "/Product_rainbowrecordsde.com_September2020.json.gz\n"
     ]
    },
    {
     "name": "stderr",
     "output_type": "stream",
     "text": [
      " 83% (1415 of 1687) |################    | Elapsed Time: 0:03:45 ETA:   0:00:44"
     ]
    },
    {
     "name": "stdout",
     "output_type": "stream",
     "text": [
      "/Product_buynewjordans.com_September2020.json.gz\n",
      "/Product_pro-lok.com_September2020.json.gz\n",
      "/Product_wps.net.nz_September2020.json.gz\n",
      "/Product_aylamart.com_September2020.json.gz\n"
     ]
    },
    {
     "name": "stderr",
     "output_type": "stream",
     "text": [
      " 83% (1417 of 1687) |################    | Elapsed Time: 0:03:45 ETA:   0:00:39"
     ]
    },
    {
     "name": "stdout",
     "output_type": "stream",
     "text": [
      "/Product_netram.com_September2020.json.gz\n",
      "/Product_miecctv.co.uk_September2020.json.gz\n"
     ]
    },
    {
     "name": "stderr",
     "output_type": "stream",
     "text": [
      "\r",
      " 84% (1419 of 1687) |################    | Elapsed Time: 0:03:45 ETA:   0:00:36"
     ]
    },
    {
     "name": "stdout",
     "output_type": "stream",
     "text": [
      "/Product_jacobsgalleryshop.com_September2020.json.gz\n",
      "/Product_gametimedesigns.org_September2020.json.gz\n",
      "/Product_bellevillehobby.com_September2020.json.gz\n",
      "/Product_healthyplanetcanada.com_September2020.json.gz\n"
     ]
    },
    {
     "name": "stderr",
     "output_type": "stream",
     "text": [
      " 84% (1423 of 1687) |################    | Elapsed Time: 0:03:46 ETA:   0:00:31"
     ]
    },
    {
     "name": "stdout",
     "output_type": "stream",
     "text": [
      "/Product_corsovinci.com_September2020.json.gz\n",
      "/Product_ctisupply.com_September2020.json.gz\n"
     ]
    },
    {
     "name": "stderr",
     "output_type": "stream",
     "text": [
      " 84% (1425 of 1687) |################    | Elapsed Time: 0:03:46 ETA:   0:00:31"
     ]
    },
    {
     "name": "stdout",
     "output_type": "stream",
     "text": [
      "/Product_rcbuying.com_September2020.json.gz\n",
      "/Product_centurycycles.com_September2020.json.gz\n"
     ]
    },
    {
     "name": "stderr",
     "output_type": "stream",
     "text": [
      " 84% (1428 of 1687) |################    | Elapsed Time: 0:03:47 ETA:   0:00:41"
     ]
    },
    {
     "name": "stdout",
     "output_type": "stream",
     "text": [
      "/Product_oswegocyclery.com_September2020.json.gz\n",
      "/Product_haynesfurniture.com_September2020.json.gz\n",
      "/Product_hallsflooring.com_September2020.json.gz\n",
      "/Product_metropolitanappliance.com_September2020.json.gz\n"
     ]
    },
    {
     "name": "stderr",
     "output_type": "stream",
     "text": [
      " 84% (1432 of 1687) |################    | Elapsed Time: 0:03:47 ETA:   0:00:34"
     ]
    },
    {
     "name": "stdout",
     "output_type": "stream",
     "text": [
      "/Product_pedroluisolivaresjoyero.com_September2020.json.gz\n",
      "/Product_easttownappliance.com_September2020.json.gz\n",
      "/Product_bouroa.com_September2020.json.gz\n"
     ]
    },
    {
     "name": "stderr",
     "output_type": "stream",
     "text": [
      "\r",
      " 84% (1433 of 1687) |################    | Elapsed Time: 0:03:47 ETA:   0:00:37"
     ]
    },
    {
     "name": "stdout",
     "output_type": "stream",
     "text": [
      "/Product_economik.com_September2020.json.gz\n"
     ]
    },
    {
     "name": "stderr",
     "output_type": "stream",
     "text": [
      "\r",
      " 85% (1434 of 1687) |#################   | Elapsed Time: 0:03:47 ETA:   0:00:38"
     ]
    },
    {
     "name": "stdout",
     "output_type": "stream",
     "text": [
      "/Product_artprintsforpleasure.com_September2020.json.gz\n"
     ]
    },
    {
     "name": "stderr",
     "output_type": "stream",
     "text": [
      " 85% (1436 of 1687) |#################   | Elapsed Time: 0:03:48 ETA:   0:00:45"
     ]
    },
    {
     "name": "stdout",
     "output_type": "stream",
     "text": [
      "/Product_pioneerfloor.com_September2020.json.gz\n",
      "/Product_overstock.com_September2020.json.gz\n"
     ]
    },
    {
     "name": "stderr",
     "output_type": "stream",
     "text": [
      "\r",
      " 85% (1437 of 1687) |#################   | Elapsed Time: 0:03:49 ETA:   0:01:14"
     ]
    },
    {
     "name": "stdout",
     "output_type": "stream",
     "text": [
      "/Product_thebicyclechain.com_September2020.json.gz\n"
     ]
    },
    {
     "name": "stderr",
     "output_type": "stream",
     "text": [
      " 85% (1440 of 1687) |#################   | Elapsed Time: 0:03:49 ETA:   0:01:13"
     ]
    },
    {
     "name": "stdout",
     "output_type": "stream",
     "text": [
      "/Product_aboveallhardwoodfloors.com_September2020.json.gz\n",
      "/Product_joyfulimpression.com_September2020.json.gz\n",
      "/Product_assenmachers.com_September2020.json.gz\n"
     ]
    },
    {
     "name": "stderr",
     "output_type": "stream",
     "text": [
      " 85% (1442 of 1687) |#################   | Elapsed Time: 0:03:50 ETA:   0:01:09"
     ]
    },
    {
     "name": "stdout",
     "output_type": "stream",
     "text": [
      "/Product_pharmammouth.com_September2020.json.gz\n",
      "/Product_etfloors.com_September2020.json.gz\n",
      "/Product_topfamilystocks.com_September2020.json.gz\n"
     ]
    },
    {
     "name": "stderr",
     "output_type": "stream",
     "text": [
      " 85% (1445 of 1687) |#################   | Elapsed Time: 0:03:50 ETA:   0:00:59"
     ]
    },
    {
     "name": "stdout",
     "output_type": "stream",
     "text": [
      "/Product_laurays.com_September2020.json.gz\n",
      "/Product_binglee.com.au_September2020.json.gz\n"
     ]
    },
    {
     "name": "stderr",
     "output_type": "stream",
     "text": [
      " 85% (1448 of 1687) |#################   | Elapsed Time: 0:03:51 ETA:   0:00:55"
     ]
    },
    {
     "name": "stdout",
     "output_type": "stream",
     "text": [
      "/Product_sukhrog.com_September2020.json.gz\n",
      "/Product_bloodgutsandstory.com_September2020.json.gz\n",
      "/Product_riverbrookbike.com_September2020.json.gz\n"
     ]
    },
    {
     "name": "stderr",
     "output_type": "stream",
     "text": [
      " 85% (1450 of 1687) |#################   | Elapsed Time: 0:03:51 ETA:   0:00:40"
     ]
    },
    {
     "name": "stdout",
     "output_type": "stream",
     "text": [
      "/Product_ddappliance.net_September2020.json.gz\n",
      "/Product_fiveotree.com_September2020.json.gz\n",
      "/Product_capecodseasports.com_September2020.json.gz\n"
     ]
    },
    {
     "name": "stderr",
     "output_type": "stream",
     "text": [
      " 86% (1453 of 1687) |#################   | Elapsed Time: 0:03:52 ETA:   0:00:43"
     ]
    },
    {
     "name": "stdout",
     "output_type": "stream",
     "text": [
      "/Product_mybag.com_September2020.json.gz\n",
      "/Product_microless.com_September2020.json.gz\n"
     ]
    },
    {
     "name": "stderr",
     "output_type": "stream",
     "text": [
      "\r",
      " 86% (1455 of 1687) |#################   | Elapsed Time: 0:03:52 ETA:   0:00:38"
     ]
    },
    {
     "name": "stdout",
     "output_type": "stream",
     "text": [
      "/Product_kartmy.com_September2020.json.gz\n",
      "/Product_spokesetc.com_September2020.json.gz\n"
     ]
    },
    {
     "name": "stderr",
     "output_type": "stream",
     "text": [
      " 86% (1457 of 1687) |#################   | Elapsed Time: 0:03:53 ETA:   0:00:44"
     ]
    },
    {
     "name": "stdout",
     "output_type": "stream",
     "text": [
      "/Product_printer4you.com_September2020.json.gz\n",
      "/Product_tekzone.co.uk_September2020.json.gz\n"
     ]
    },
    {
     "name": "stderr",
     "output_type": "stream",
     "text": [
      "\r",
      " 86% (1458 of 1687) |#################   | Elapsed Time: 0:03:53 ETA:   0:00:47"
     ]
    },
    {
     "name": "stdout",
     "output_type": "stream",
     "text": [
      "/Product_millrace.com_September2020.json.gz\n"
     ]
    },
    {
     "name": "stderr",
     "output_type": "stream",
     "text": [
      " 86% (1460 of 1687) |#################   | Elapsed Time: 0:03:53 ETA:   0:00:46"
     ]
    },
    {
     "name": "stdout",
     "output_type": "stream",
     "text": [
      "/Product_ohmsappliancecenter.com_September2020.json.gz\n",
      "/Product_sepsneakers.com_September2020.json.gz\n",
      "/Product_bgpodarak.com_September2020.json.gz\n"
     ]
    },
    {
     "name": "stderr",
     "output_type": "stream",
     "text": [
      " 86% (1463 of 1687) |#################   | Elapsed Time: 0:03:54 ETA:   0:00:42"
     ]
    },
    {
     "name": "stdout",
     "output_type": "stream",
     "text": [
      "/Product_worldsuperstorez.com_September2020.json.gz\n",
      "/Product_riveredgejewelers.com_September2020.json.gz\n"
     ]
    },
    {
     "name": "stderr",
     "output_type": "stream",
     "text": [
      "\r",
      " 86% (1464 of 1687) |#################   | Elapsed Time: 0:03:54 ETA:   0:00:41"
     ]
    },
    {
     "name": "stdout",
     "output_type": "stream",
     "text": [
      "/Product_twowheelsoneplanet.com_September2020.json.gz\n"
     ]
    },
    {
     "name": "stderr",
     "output_type": "stream",
     "text": [
      " 86% (1466 of 1687) |#################   | Elapsed Time: 0:03:54 ETA:   0:00:49"
     ]
    },
    {
     "name": "stdout",
     "output_type": "stream",
     "text": [
      "/Product_fuma-direkt.com_September2020.json.gz\n",
      "/Product_legacibygj.com_September2020.json.gz\n"
     ]
    },
    {
     "name": "stderr",
     "output_type": "stream",
     "text": [
      "\r",
      " 87% (1469 of 1687) |#################   | Elapsed Time: 0:03:55 ETA:   0:00:41"
     ]
    },
    {
     "name": "stdout",
     "output_type": "stream",
     "text": [
      "/Product_codi-tek.com_September2020.json.gz\n",
      "/Product_specialized.com.tw_September2020.json.gz\n",
      "/Product_maroyjoyeros.com_September2020.json.gz\n"
     ]
    },
    {
     "name": "stderr",
     "output_type": "stream",
     "text": [
      " 87% (1471 of 1687) |#################   | Elapsed Time: 0:03:55 ETA:   0:00:34"
     ]
    },
    {
     "name": "stdout",
     "output_type": "stream",
     "text": [
      "/Product_decaroliscyclists.com_September2020.json.gz\n",
      "/Product_trappchevroletcadillac.com_September2020.json.gz\n"
     ]
    },
    {
     "name": "stderr",
     "output_type": "stream",
     "text": [
      "\r",
      " 87% (1473 of 1687) |#################   | Elapsed Time: 0:03:55 ETA:   0:00:32"
     ]
    },
    {
     "name": "stdout",
     "output_type": "stream",
     "text": [
      "/Product_thesneakerlounge.com.au_September2020.json.gz\n",
      "/Product_ilieky.com_September2020.json.gz\n"
     ]
    },
    {
     "name": "stderr",
     "output_type": "stream",
     "text": [
      "\r",
      " 87% (1474 of 1687) |#################   | Elapsed Time: 0:03:55 ETA:   0:00:30"
     ]
    },
    {
     "name": "stdout",
     "output_type": "stream",
     "text": [
      "/Product_tmsecurityproducts.com_September2020.json.gz\n",
      "/Product_heptinstalls.co.uk_September2020.json.gz\n",
      "/Product_sistemasrodriguez.com_September2020.json.gz\n"
     ]
    },
    {
     "name": "stderr",
     "output_type": "stream",
     "text": [
      " 87% (1478 of 1687) |#################   | Elapsed Time: 0:03:56 ETA:   0:00:27"
     ]
    },
    {
     "name": "stdout",
     "output_type": "stream",
     "text": [
      "/Product_fpsaim.com_September2020.json.gz\n",
      "/Product_austins-uk.com_September2020.json.gz\n"
     ]
    },
    {
     "name": "stderr",
     "output_type": "stream",
     "text": [
      "\r",
      " 87% (1479 of 1687) |#################   | Elapsed Time: 0:03:56 ETA:   0:00:27"
     ]
    },
    {
     "name": "stdout",
     "output_type": "stream",
     "text": [
      "/Product_coggles.com_September2020.json.gz\n"
     ]
    },
    {
     "name": "stderr",
     "output_type": "stream",
     "text": [
      " 87% (1482 of 1687) |#################   | Elapsed Time: 0:03:56 ETA:   0:00:26"
     ]
    },
    {
     "name": "stdout",
     "output_type": "stream",
     "text": [
      "/Product_savemyserver.com_September2020.json.gz\n",
      "/Product_carpetpatioblinds.com_September2020.json.gz\n",
      "/Product_batteriexperten.com_September2020.json.gz\n"
     ]
    },
    {
     "name": "stderr",
     "output_type": "stream",
     "text": [
      " 87% (1484 of 1687) |#################   | Elapsed Time: 0:03:57 ETA:   0:00:37"
     ]
    },
    {
     "name": "stdout",
     "output_type": "stream",
     "text": [
      "/Product_reliablefloorcoverings.com_September2020.json.gz\n",
      "/Product_officestationery.co.uk_September2020.json.gz\n"
     ]
    },
    {
     "name": "stderr",
     "output_type": "stream",
     "text": [
      "\r",
      " 88% (1485 of 1687) |#################   | Elapsed Time: 0:03:57 ETA:   0:00:37"
     ]
    },
    {
     "name": "stdout",
     "output_type": "stream",
     "text": [
      "/Product_storesalute.com_September2020.json.gz\n",
      "/Product_probikekit.com.au_September2020.json.gz\n"
     ]
    },
    {
     "name": "stderr",
     "output_type": "stream",
     "text": [
      "\r",
      " 88% (1487 of 1687) |#################   | Elapsed Time: 0:03:58 ETA:   0:00:40"
     ]
    },
    {
     "name": "stdout",
     "output_type": "stream",
     "text": [
      "/Product_bebikes.com_September2020.json.gz\n"
     ]
    },
    {
     "name": "stderr",
     "output_type": "stream",
     "text": [
      " 88% (1491 of 1687) |#################   | Elapsed Time: 0:03:58 ETA:   0:00:34"
     ]
    },
    {
     "name": "stdout",
     "output_type": "stream",
     "text": [
      "/Product_mercedesbenzgreenwich.com_September2020.json.gz\n",
      "/Product_gemheal.com_September2020.json.gz\n",
      "/Product_orionflooring.com_September2020.json.gz\n",
      "/Product_watches-of-switzerland.co.uk_September2020.json.gz\n",
      "/Product_creationwatches.com_September2020.json.gz\n"
     ]
    },
    {
     "name": "stderr",
     "output_type": "stream",
     "text": [
      "\r",
      " 88% (1493 of 1687) |#################   | Elapsed Time: 0:03:58 ETA:   0:00:33"
     ]
    },
    {
     "name": "stdout",
     "output_type": "stream",
     "text": [
      "/Product_paimages.co.uk_September2020.json.gz\n"
     ]
    },
    {
     "name": "stderr",
     "output_type": "stream",
     "text": [
      "\r",
      " 88% (1494 of 1687) |#################   | Elapsed Time: 0:04:00 ETA:   0:07:00"
     ]
    },
    {
     "name": "stdout",
     "output_type": "stream",
     "text": [
      "/Product_arizon.com.au_September2020.json.gz\n"
     ]
    },
    {
     "name": "stderr",
     "output_type": "stream",
     "text": [
      " 88% (1496 of 1687) |#################   | Elapsed Time: 0:04:01 ETA:   0:02:51"
     ]
    },
    {
     "name": "stdout",
     "output_type": "stream",
     "text": [
      "/Product_michaelscycles-mn.com_September2020.json.gz\n",
      "/Product_compass24.com_September2020.json.gz\n"
     ]
    },
    {
     "name": "stderr",
     "output_type": "stream",
     "text": [
      "\r",
      " 88% (1497 of 1687) |#################   | Elapsed Time: 0:04:01 ETA:   0:02:17"
     ]
    },
    {
     "name": "stdout",
     "output_type": "stream",
     "text": [
      "/Product_allsurfacespdx.com_September2020.json.gz\n",
      "/Product_cahabacycles.com_September2020.json.gz\n"
     ]
    },
    {
     "name": "stderr",
     "output_type": "stream",
     "text": [
      " 88% (1500 of 1687) |#################   | Elapsed Time: 0:04:02 ETA:   0:01:32"
     ]
    },
    {
     "name": "stdout",
     "output_type": "stream",
     "text": [
      "/Product_bigskybikes.com_September2020.json.gz\n",
      "/Product_trotthiddencameras.com_September2020.json.gz\n",
      "/Product_bicycleseast.com_September2020.json.gz\n"
     ]
    },
    {
     "name": "stderr",
     "output_type": "stream",
     "text": [
      " 89% (1504 of 1687) |#################   | Elapsed Time: 0:04:02 ETA:   0:01:06"
     ]
    },
    {
     "name": "stdout",
     "output_type": "stream",
     "text": [
      "/Product_meganandco.com_September2020.json.gz\n",
      "/Product_ontariocarpetstore.com_September2020.json.gz\n",
      "/Product_evanselectrical-online.co.uk_September2020.json.gz\n"
     ]
    },
    {
     "name": "stderr",
     "output_type": "stream",
     "text": [
      "\r",
      " 89% (1505 of 1687) |#################   | Elapsed Time: 0:04:02 ETA:   0:01:02"
     ]
    },
    {
     "name": "stdout",
     "output_type": "stream",
     "text": [
      "/Product_poshnpose.com_September2020.json.gz\n",
      "/Product_giveandtakeuk.com_September2020.json.gz\n",
      "/Product_9wbikeshop.com_September2020.json.gz\n"
     ]
    },
    {
     "name": "stderr",
     "output_type": "stream",
     "text": [
      "\r",
      " 89% (1508 of 1687) |#################   | Elapsed Time: 0:04:02 ETA:   0:00:27"
     ]
    },
    {
     "name": "stdout",
     "output_type": "stream",
     "text": [
      "/Product_webmercs.com_September2020.json.gz\n"
     ]
    },
    {
     "name": "stderr",
     "output_type": "stream",
     "text": [
      "\r",
      " 89% (1509 of 1687) |#################   | Elapsed Time: 0:04:03 ETA:   0:00:26"
     ]
    },
    {
     "name": "stdout",
     "output_type": "stream",
     "text": [
      "/Product_shelburnecountrystore.com_September2020.json.gz\n"
     ]
    },
    {
     "name": "stderr",
     "output_type": "stream",
     "text": [
      "\r",
      " 89% (1510 of 1687) |#################   | Elapsed Time: 0:04:03 ETA:   0:00:27"
     ]
    },
    {
     "name": "stdout",
     "output_type": "stream",
     "text": [
      "/Product_daltonwholesalefloors.com_September2020.json.gz\n"
     ]
    },
    {
     "name": "stderr",
     "output_type": "stream",
     "text": [
      " 89% (1512 of 1687) |#################   | Elapsed Time: 0:04:03 ETA:   0:00:28"
     ]
    },
    {
     "name": "stdout",
     "output_type": "stream",
     "text": [
      "/Product_grelly.com_September2020.json.gz\n",
      "/Product_hairbytajee.com_September2020.json.gz\n",
      "/Product_bigskybike.com_September2020.json.gz\n"
     ]
    },
    {
     "name": "stderr",
     "output_type": "stream",
     "text": [
      "\r",
      " 89% (1514 of 1687) |#################   | Elapsed Time: 0:04:04 ETA:   0:00:26"
     ]
    },
    {
     "name": "stdout",
     "output_type": "stream",
     "text": [
      "/Product_offeroftheday.co.uk_September2020.json.gz\n",
      "/Product_sereni.net_September2020.json.gz\n"
     ]
    },
    {
     "name": "stderr",
     "output_type": "stream",
     "text": [
      " 89% (1518 of 1687) |#################   | Elapsed Time: 0:04:04 ETA:   0:00:24"
     ]
    },
    {
     "name": "stdout",
     "output_type": "stream",
     "text": [
      "/Product_radsecurityconcepts.com_September2020.json.gz\n",
      "/Product_hoerschhomeappliance.com_September2020.json.gz\n",
      "/Product_shopdownwindsports.com_September2020.json.gz\n"
     ]
    },
    {
     "name": "stderr",
     "output_type": "stream",
     "text": [
      "\r",
      " 90% (1519 of 1687) |##################  | Elapsed Time: 0:04:04 ETA:   0:00:24"
     ]
    },
    {
     "name": "stdout",
     "output_type": "stream",
     "text": [
      "/Product_shopidc.com_September2020.json.gz\n"
     ]
    },
    {
     "name": "stderr",
     "output_type": "stream",
     "text": [
      "\r",
      " 90% (1520 of 1687) |##################  | Elapsed Time: 0:04:05 ETA:   0:00:31"
     ]
    },
    {
     "name": "stdout",
     "output_type": "stream",
     "text": [
      "/Product_desrs.com_September2020.json.gz\n",
      "/Product_bigshopper.com_September2020.json.gz\n"
     ]
    },
    {
     "name": "stderr",
     "output_type": "stream",
     "text": [
      "\r",
      " 90% (1522 of 1687) |##################  | Elapsed Time: 0:04:05 ETA:   0:00:28"
     ]
    },
    {
     "name": "stdout",
     "output_type": "stream",
     "text": [
      "/Product_ejuicesteals.com_September2020.json.gz\n"
     ]
    },
    {
     "name": "stderr",
     "output_type": "stream",
     "text": [
      " 90% (1524 of 1687) |##################  | Elapsed Time: 0:04:06 ETA:   0:00:28"
     ]
    },
    {
     "name": "stdout",
     "output_type": "stream",
     "text": [
      "/Product_acewashersupplies.com_September2020.json.gz\n",
      "/Product_bhavyaji.com_September2020.json.gz\n",
      "/Product_pashminawholesale.co.uk_September2020.json.gz\n"
     ]
    },
    {
     "name": "stderr",
     "output_type": "stream",
     "text": [
      " 90% (1527 of 1687) |##################  | Elapsed Time: 0:04:06 ETA:   0:00:25"
     ]
    },
    {
     "name": "stdout",
     "output_type": "stream",
     "text": [
      "/Product_scottsbikes.com_September2020.json.gz\n",
      "/Product_sebabazar.com_September2020.json.gz\n",
      "/Product_deranleaus.com_September2020.json.gz\n"
     ]
    },
    {
     "name": "stderr",
     "output_type": "stream",
     "text": [
      "\r",
      " 90% (1529 of 1687) |##################  | Elapsed Time: 0:04:06 ETA:   0:00:22"
     ]
    },
    {
     "name": "stdout",
     "output_type": "stream",
     "text": [
      "/Product_freemyersbestbrands.com_September2020.json.gz\n"
     ]
    },
    {
     "name": "stderr",
     "output_type": "stream",
     "text": [
      " 90% (1531 of 1687) |##################  | Elapsed Time: 0:04:12 ETA:   0:08:11"
     ]
    },
    {
     "name": "stdout",
     "output_type": "stream",
     "text": [
      "/Product_sescibaba.com_September2020.json.gz\n",
      "/Product_citizensfightingback.com_September2020.json.gz\n"
     ]
    },
    {
     "name": "stderr",
     "output_type": "stream",
     "text": [
      "\r",
      " 90% (1533 of 1687) |##################  | Elapsed Time: 0:04:12 ETA:   0:04:08"
     ]
    },
    {
     "name": "stdout",
     "output_type": "stream",
     "text": [
      "/Product_theperchonmarble.com_September2020.json.gz\n",
      "/Product_wisp.net.au_September2020.json.gz\n",
      "/Product_gardenma.com_September2020.json.gz\n"
     ]
    },
    {
     "name": "stderr",
     "output_type": "stream",
     "text": [
      "\r",
      " 90% (1535 of 1687) |##################  | Elapsed Time: 0:04:13 ETA:   0:02:48"
     ]
    },
    {
     "name": "stdout",
     "output_type": "stream",
     "text": [
      "/Product_selfdefenseproductsflorida.com_September2020.json.gz\n",
      "/Product_bam-music.com_September2020.json.gz\n"
     ]
    },
    {
     "name": "stderr",
     "output_type": "stream",
     "text": [
      " 91% (1538 of 1687) |##################  | Elapsed Time: 0:04:13 ETA:   0:01:56"
     ]
    },
    {
     "name": "stdout",
     "output_type": "stream",
     "text": [
      "/Product_menlovelobicycles.com_September2020.json.gz\n",
      "/Product_sony.com_September2020.json.gz\n"
     ]
    },
    {
     "name": "stderr",
     "output_type": "stream",
     "text": [
      " 91% (1540 of 1687) |##################  | Elapsed Time: 0:04:13 ETA:   0:01:38"
     ]
    },
    {
     "name": "stdout",
     "output_type": "stream",
     "text": [
      "/Product_subeybajabikes.com_September2020.json.gz\n",
      "/Product_kgbikes.com_September2020.json.gz\n"
     ]
    },
    {
     "name": "stderr",
     "output_type": "stream",
     "text": [
      " 91% (1542 of 1687) |##################  | Elapsed Time: 0:04:14 ETA:   0:01:27"
     ]
    },
    {
     "name": "stdout",
     "output_type": "stream",
     "text": [
      "/Product_gloriotticicli.com_September2020.json.gz\n",
      "/Product_sportgps.com.au_September2020.json.gz\n",
      "/Product_tilesbay.com_September2020.json.gz\n"
     ]
    },
    {
     "name": "stderr",
     "output_type": "stream",
     "text": [
      " 91% (1545 of 1687) |##################  | Elapsed Time: 0:04:14 ETA:   0:00:19"
     ]
    },
    {
     "name": "stdout",
     "output_type": "stream",
     "text": [
      "/Product_arrowsmithbikes.com_September2020.json.gz\n",
      "/Product_albritons.com_September2020.json.gz\n"
     ]
    },
    {
     "name": "stderr",
     "output_type": "stream",
     "text": [
      " 91% (1548 of 1687) |##################  | Elapsed Time: 0:04:15 ETA:   0:00:22"
     ]
    },
    {
     "name": "stdout",
     "output_type": "stream",
     "text": [
      "/Product_moravec3d.com_September2020.json.gz\n",
      "/Product_plymouthfurniturewi.com_September2020.json.gz\n",
      "/Product_thumzup.net_September2020.json.gz\n"
     ]
    },
    {
     "name": "stderr",
     "output_type": "stream",
     "text": [
      " 91% (1550 of 1687) |##################  | Elapsed Time: 0:04:15 ETA:   0:00:24"
     ]
    },
    {
     "name": "stdout",
     "output_type": "stream",
     "text": [
      "/Product_loyaltyliquors.com_September2020.json.gz\n",
      "/Product_pcdubai.com_September2020.json.gz\n"
     ]
    },
    {
     "name": "stderr",
     "output_type": "stream",
     "text": [
      " 91% (1552 of 1687) |##################  | Elapsed Time: 0:04:15 ETA:   0:00:25"
     ]
    },
    {
     "name": "stdout",
     "output_type": "stream",
     "text": [
      "/Product_blionestop.com_September2020.json.gz\n",
      "/Product_bornpissed.com_September2020.json.gz\n"
     ]
    },
    {
     "name": "stderr",
     "output_type": "stream",
     "text": [
      " 92% (1557 of 1687) |##################  | Elapsed Time: 0:04:16 ETA:   0:00:17"
     ]
    },
    {
     "name": "stdout",
     "output_type": "stream",
     "text": [
      "/Product_xtremewheels.com_September2020.json.gz\n",
      "/Product_ironfistonline.com_September2020.json.gz\n",
      "/Product_newjordan2020.com_September2020.json.gz\n",
      "/Product_gangastruz.com_September2020.json.gz\n",
      "/Product_apptech.net.au_September2020.json.gz\n",
      "/Product_exchangestation.com_September2020.json.gz\n"
     ]
    },
    {
     "name": "stderr",
     "output_type": "stream",
     "text": [
      "\r",
      " 92% (1559 of 1687) |##################  | Elapsed Time: 0:04:16 ETA:   0:00:16"
     ]
    },
    {
     "name": "stdout",
     "output_type": "stream",
     "text": [
      "/Product_redletterdays.co.uk_September2020.json.gz\n"
     ]
    },
    {
     "name": "stderr",
     "output_type": "stream",
     "text": [
      " 92% (1562 of 1687) |##################  | Elapsed Time: 0:04:17 ETA:   0:00:16"
     ]
    },
    {
     "name": "stdout",
     "output_type": "stream",
     "text": [
      "/Product_rustywallacechevrolet.com_September2020.json.gz\n",
      "/Product_trekwestphoenix.com_September2020.json.gz\n",
      "/Product_batteriesamerica.com_September2020.json.gz\n"
     ]
    },
    {
     "name": "stderr",
     "output_type": "stream",
     "text": [
      " 92% (1565 of 1687) |##################  | Elapsed Time: 0:04:17 ETA:   0:00:16"
     ]
    },
    {
     "name": "stdout",
     "output_type": "stream",
     "text": [
      "/Product_ramseyoil.com_September2020.json.gz\n",
      "/Product_lbfans.co.uk_September2020.json.gz\n",
      "/Product_zemels.com_September2020.json.gz\n"
     ]
    },
    {
     "name": "stderr",
     "output_type": "stream",
     "text": [
      "\r",
      " 92% (1567 of 1687) |##################  | Elapsed Time: 0:04:17 ETA:   0:00:15"
     ]
    },
    {
     "name": "stdout",
     "output_type": "stream",
     "text": [
      "/Product_denigjewelers.net_September2020.json.gz\n",
      "/Product_superpharmacy.com.au_September2020.json.gz\n"
     ]
    },
    {
     "name": "stderr",
     "output_type": "stream",
     "text": [
      "\r",
      " 92% (1568 of 1687) |##################  | Elapsed Time: 0:04:17 ETA:   0:00:14"
     ]
    },
    {
     "name": "stdout",
     "output_type": "stream",
     "text": [
      "/Product_webdenal.com_September2020.json.gz\n"
     ]
    },
    {
     "name": "stderr",
     "output_type": "stream",
     "text": [
      " 93% (1572 of 1687) |##################  | Elapsed Time: 0:04:18 ETA:   0:00:16"
     ]
    },
    {
     "name": "stdout",
     "output_type": "stream",
     "text": [
      "/Product_stefanosevents.com_September2020.json.gz\n",
      "/Product_pass.org.ng_September2020.json.gz\n",
      "/Product_ezimtech.com_September2020.json.gz\n",
      "/Product_bizdehesapli.com_September2020.json.gz\n"
     ]
    },
    {
     "name": "stderr",
     "output_type": "stream",
     "text": [
      "\r",
      " 93% (1574 of 1687) |##################  | Elapsed Time: 0:04:18 ETA:   0:00:16"
     ]
    },
    {
     "name": "stdout",
     "output_type": "stream",
     "text": [
      "/Product_multisom.com.br_September2020.json.gz\n",
      "/Product_gamory.com.au_September2020.json.gz\n"
     ]
    },
    {
     "name": "stderr",
     "output_type": "stream",
     "text": [
      "\r",
      " 93% (1575 of 1687) |##################  | Elapsed Time: 0:04:18 ETA:   0:00:16"
     ]
    },
    {
     "name": "stdout",
     "output_type": "stream",
     "text": [
      "/Product_perromart.com.sg_September2020.json.gz\n"
     ]
    },
    {
     "name": "stderr",
     "output_type": "stream",
     "text": [
      "\r",
      " 93% (1576 of 1687) |##################  | Elapsed Time: 0:04:19 ETA:   0:00:16"
     ]
    },
    {
     "name": "stdout",
     "output_type": "stream",
     "text": [
      "/Product_prophoneplus.com_September2020.json.gz\n",
      "/Product_maxicoffee.com_September2020.json.gz\n"
     ]
    },
    {
     "name": "stderr",
     "output_type": "stream",
     "text": [
      " 93% (1581 of 1687) |##################  | Elapsed Time: 0:04:19 ETA:   0:00:16"
     ]
    },
    {
     "name": "stdout",
     "output_type": "stream",
     "text": [
      "/Product_techsouq.com_September2020.json.gz\n",
      "/Product_visualintermission.com_September2020.json.gz\n",
      "/Product_domainefraney.com_September2020.json.gz\n",
      "/Product_camasbikes.com_September2020.json.gz\n"
     ]
    },
    {
     "name": "stderr",
     "output_type": "stream",
     "text": [
      "\r",
      " 93% (1584 of 1687) |##################  | Elapsed Time: 0:04:20 ETA:   0:00:13"
     ]
    },
    {
     "name": "stdout",
     "output_type": "stream",
     "text": [
      "/Product_videoguys.com.au_September2020.json.gz\n",
      "/Product_tilestonedepot.com_September2020.json.gz\n",
      "/Product_bikeroutenaples.com_September2020.json.gz\n"
     ]
    },
    {
     "name": "stderr",
     "output_type": "stream",
     "text": [
      " 94% (1586 of 1687) |##################  | Elapsed Time: 0:04:20 ETA:   0:00:15"
     ]
    },
    {
     "name": "stdout",
     "output_type": "stream",
     "text": [
      "/Product_solarbenefitsbouldercounty.com_September2020.json.gz\n"
     ]
    },
    {
     "name": "stderr",
     "output_type": "stream",
     "text": [
      "\r",
      " 94% (1588 of 1687) |##################  | Elapsed Time: 0:04:20 ETA:   0:00:13"
     ]
    },
    {
     "name": "stdout",
     "output_type": "stream",
     "text": [
      "/Product_alfredscarpet.com_September2020.json.gz\n",
      "/Product_jbwoodwardfloors.com_September2020.json.gz\n",
      "/Product_probikerun.com_September2020.json.gz\n"
     ]
    },
    {
     "name": "stderr",
     "output_type": "stream",
     "text": [
      "\r",
      " 94% (1589 of 1687) |##################  | Elapsed Time: 0:04:20 ETA:   0:00:14"
     ]
    },
    {
     "name": "stdout",
     "output_type": "stream",
     "text": [
      "/Product_bikeshophawaii.com_September2020.json.gz\n"
     ]
    },
    {
     "name": "stderr",
     "output_type": "stream",
     "text": [
      " 94% (1591 of 1687) |##################  | Elapsed Time: 0:04:21 ETA:   0:00:13"
     ]
    },
    {
     "name": "stdout",
     "output_type": "stream",
     "text": [
      "/Product_superstylez.com_September2020.json.gz\n",
      "/Product_bauerjoyeros.com_September2020.json.gz\n",
      "/Product_mikesavu.com_September2020.json.gz\n"
     ]
    },
    {
     "name": "stderr",
     "output_type": "stream",
     "text": [
      "\r",
      " 94% (1594 of 1687) |##################  | Elapsed Time: 0:04:21 ETA:   0:00:11"
     ]
    },
    {
     "name": "stdout",
     "output_type": "stream",
     "text": [
      "/Product_inkcorporate.com_September2020.json.gz\n",
      "/Product_yysf.com.au_September2020.json.gz\n"
     ]
    },
    {
     "name": "stderr",
     "output_type": "stream",
     "text": [
      "\r",
      " 94% (1595 of 1687) |##################  | Elapsed Time: 0:04:21 ETA:   0:00:11"
     ]
    },
    {
     "name": "stdout",
     "output_type": "stream",
     "text": [
      "/Product_quibsolthestore.com_September2020.json.gz\n",
      "/Product_sproutsanfrancisco.com_September2020.json.gz\n"
     ]
    },
    {
     "name": "stderr",
     "output_type": "stream",
     "text": [
      "\r",
      " 94% (1597 of 1687) |##################  | Elapsed Time: 0:04:21 ETA:   0:00:09"
     ]
    },
    {
     "name": "stdout",
     "output_type": "stream",
     "text": [
      "/Product_shop-apotheke.com_September2020.json.gz\n",
      "/Product_futureelectronics.com_September2020.json.gz\n"
     ]
    },
    {
     "name": "stderr",
     "output_type": "stream",
     "text": [
      " 94% (1601 of 1687) |##################  | Elapsed Time: 0:04:23 ETA:   0:00:16"
     ]
    },
    {
     "name": "stdout",
     "output_type": "stream",
     "text": [
      "/Product_abesofmaine.com_September2020.json.gz\n",
      "/Product_dannycustomupholstery.com_September2020.json.gz\n",
      "/Product_skagitcyclecenter.com_September2020.json.gz\n"
     ]
    },
    {
     "name": "stderr",
     "output_type": "stream",
     "text": [
      "\r",
      " 94% (1602 of 1687) |##################  | Elapsed Time: 0:04:23 ETA:   0:00:14"
     ]
    },
    {
     "name": "stdout",
     "output_type": "stream",
     "text": [
      "/Product_4gon.co.uk_September2020.json.gz\n",
      "/Product_gettingstartedinsap.com_September2020.json.gz\n"
     ]
    },
    {
     "name": "stderr",
     "output_type": "stream",
     "text": [
      "\r",
      " 95% (1604 of 1687) |################### | Elapsed Time: 0:04:23 ETA:   0:00:17"
     ]
    },
    {
     "name": "stdout",
     "output_type": "stream",
     "text": [
      "/Product_anytimewatches.com_September2020.json.gz\n",
      "/Product_sagharborcycle.com_September2020.json.gz\n"
     ]
    },
    {
     "name": "stderr",
     "output_type": "stream",
     "text": [
      " 95% (1607 of 1687) |################### | Elapsed Time: 0:04:23 ETA:   0:00:16"
     ]
    },
    {
     "name": "stdout",
     "output_type": "stream",
     "text": [
      "/Product_crookedimaging.co.uk_September2020.json.gz\n",
      "/Product_oakbaybikes.com_September2020.json.gz\n"
     ]
    },
    {
     "name": "stderr",
     "output_type": "stream",
     "text": [
      " 95% (1609 of 1687) |################### | Elapsed Time: 0:04:24 ETA:   0:00:18"
     ]
    },
    {
     "name": "stdout",
     "output_type": "stream",
     "text": [
      "/Product_giantlasvegas.com_September2020.json.gz\n",
      "/Product_onhomedecor.com_September2020.json.gz\n"
     ]
    },
    {
     "name": "stderr",
     "output_type": "stream",
     "text": [
      "\r",
      " 95% (1610 of 1687) |################### | Elapsed Time: 0:04:24 ETA:   0:00:17"
     ]
    },
    {
     "name": "stdout",
     "output_type": "stream",
     "text": [
      "/Product_russomusic.com_September2020.json.gz\n"
     ]
    },
    {
     "name": "stderr",
     "output_type": "stream",
     "text": [
      "\r",
      " 95% (1611 of 1687) |################### | Elapsed Time: 0:04:25 ETA:   0:00:15"
     ]
    },
    {
     "name": "stdout",
     "output_type": "stream",
     "text": [
      "/Product_sunrisecyclery.com_September2020.json.gz\n"
     ]
    },
    {
     "name": "stderr",
     "output_type": "stream",
     "text": [
      " 95% (1614 of 1687) |################### | Elapsed Time: 0:04:25 ETA:   0:00:15"
     ]
    },
    {
     "name": "stdout",
     "output_type": "stream",
     "text": [
      "/Product_mensjordan2020.com_September2020.json.gz\n",
      "/Product_flowkayaks.co.uk_September2020.json.gz\n",
      "/Product_discountshop.com_September2020.json.gz\n"
     ]
    },
    {
     "name": "stderr",
     "output_type": "stream",
     "text": [
      "\r",
      " 95% (1615 of 1687) |################### | Elapsed Time: 0:04:25 ETA:   0:00:14"
     ]
    },
    {
     "name": "stdout",
     "output_type": "stream",
     "text": [
      "/Product_thefloorstorelargo.com_September2020.json.gz\n",
      "/Product_toplineac.com_September2020.json.gz\n"
     ]
    },
    {
     "name": "stderr",
     "output_type": "stream",
     "text": [
      " 95% (1618 of 1687) |################### | Elapsed Time: 0:04:26 ETA:   0:00:14"
     ]
    },
    {
     "name": "stdout",
     "output_type": "stream",
     "text": [
      "/Product_supercircuits.com_September2020.json.gz\n",
      "/Product_racuntech.com_September2020.json.gz\n",
      "/Product_mrbflooring.com_September2020.json.gz\n"
     ]
    },
    {
     "name": "stderr",
     "output_type": "stream",
     "text": [
      " 96% (1622 of 1687) |################### | Elapsed Time: 0:04:26 ETA:   0:00:09"
     ]
    },
    {
     "name": "stdout",
     "output_type": "stream",
     "text": [
      "/Product_aroma-bar.net_September2020.json.gz\n",
      "/Product_fuelzonesports.com.au_September2020.json.gz\n",
      "/Product_topnotchsecurityproducts.com_September2020.json.gz\n",
      "/Product_paradisegarage.com_September2020.json.gz\n"
     ]
    },
    {
     "name": "stderr",
     "output_type": "stream",
     "text": [
      " 96% (1625 of 1687) |################### | Elapsed Time: 0:04:26 ETA:   0:00:08"
     ]
    },
    {
     "name": "stdout",
     "output_type": "stream",
     "text": [
      "/Product_realtyexchangeweb.com_September2020.json.gz\n",
      "/Product_jonesbros.com_September2020.json.gz\n"
     ]
    },
    {
     "name": "stderr",
     "output_type": "stream",
     "text": [
      "\r",
      " 96% (1626 of 1687) |################### | Elapsed Time: 0:04:26 ETA:   0:00:08"
     ]
    },
    {
     "name": "stdout",
     "output_type": "stream",
     "text": [
      "/Product_inkpal.com_September2020.json.gz\n"
     ]
    },
    {
     "name": "stderr",
     "output_type": "stream",
     "text": [
      " 96% (1628 of 1687) |################### | Elapsed Time: 0:04:27 ETA:   0:00:07"
     ]
    },
    {
     "name": "stdout",
     "output_type": "stream",
     "text": [
      "/Product_abikes.com_September2020.json.gz\n",
      "/Product_pacifiko.com_September2020.json.gz\n"
     ]
    },
    {
     "name": "stderr",
     "output_type": "stream",
     "text": [
      "\r",
      " 96% (1630 of 1687) |################### | Elapsed Time: 0:04:27 ETA:   0:00:07"
     ]
    },
    {
     "name": "stdout",
     "output_type": "stream",
     "text": [
      "/Product_conquerormodels.com_September2020.json.gz\n",
      "/Product_probikesupply.com_September2020.json.gz\n",
      "/Product_bikewaysource.com_September2020.json.gz\n"
     ]
    },
    {
     "name": "stderr",
     "output_type": "stream",
     "text": [
      "\r",
      " 96% (1632 of 1687) |################### | Elapsed Time: 0:04:27 ETA:   0:00:06"
     ]
    },
    {
     "name": "stdout",
     "output_type": "stream",
     "text": [
      "/Product_meyerfloor.com_September2020.json.gz\n",
      "/Product_greenlizardcycling.com_September2020.json.gz\n"
     ]
    },
    {
     "name": "stderr",
     "output_type": "stream",
     "text": [
      "\r",
      " 96% (1634 of 1687) |################### | Elapsed Time: 0:04:28 ETA:   0:00:06"
     ]
    },
    {
     "name": "stdout",
     "output_type": "stream",
     "text": [
      "/Product_evolvebikes.com_September2020.json.gz\n"
     ]
    },
    {
     "name": "stderr",
     "output_type": "stream",
     "text": [
      " 96% (1636 of 1687) |################### | Elapsed Time: 0:04:28 ETA:   0:00:08"
     ]
    },
    {
     "name": "stdout",
     "output_type": "stream",
     "text": [
      "/Product_rowing-shop.com_September2020.json.gz\n",
      "/Product_ciapc.com.br_September2020.json.gz\n"
     ]
    },
    {
     "name": "stderr",
     "output_type": "stream",
     "text": [
      "\r",
      " 97% (1637 of 1687) |################### | Elapsed Time: 0:04:28 ETA:   0:00:08"
     ]
    },
    {
     "name": "stdout",
     "output_type": "stream",
     "text": [
      "/Product_paigekeatonart.com_September2020.json.gz\n",
      "/Product_theindigoroomsalon.com_September2020.json.gz\n",
      "/Product_actionsportsbicyclecenter.com_September2020.json.gz\n"
     ]
    },
    {
     "name": "stderr",
     "output_type": "stream",
     "text": [
      " 97% (1642 of 1687) |################### | Elapsed Time: 0:04:29 ETA:   0:00:06"
     ]
    },
    {
     "name": "stdout",
     "output_type": "stream",
     "text": [
      "/Product_savageflamecarellc.com_September2020.json.gz\n",
      "/Product_sazgaronline.com_September2020.json.gz\n",
      "/Product_americanfamilysafety.com_September2020.json.gz\n",
      "/Product_caprittafinelines.com_September2020.json.gz\n"
     ]
    },
    {
     "name": "stderr",
     "output_type": "stream",
     "text": [
      " 97% (1645 of 1687) |################### | Elapsed Time: 0:04:29 ETA:   0:00:05"
     ]
    },
    {
     "name": "stdout",
     "output_type": "stream",
     "text": [
      "/Product_ishopnutrition.com_September2020.json.gz\n",
      "/Product_majesticfloorsllc.com_September2020.json.gz\n",
      "/Product_gunas5.com_September2020.json.gz\n"
     ]
    },
    {
     "name": "stderr",
     "output_type": "stream",
     "text": [
      " 97% (1648 of 1687) |################### | Elapsed Time: 0:04:29 ETA:   0:00:05"
     ]
    },
    {
     "name": "stdout",
     "output_type": "stream",
     "text": [
      "/Product_japinhaeletro.com.br_September2020.json.gz\n",
      "/Product_coqrouge.com_September2020.json.gz\n",
      "/Product_freewheelbike.com_September2020.json.gz\n"
     ]
    },
    {
     "name": "stderr",
     "output_type": "stream",
     "text": [
      "\r",
      " 97% (1650 of 1687) |################### | Elapsed Time: 0:04:30 ETA:   0:00:04"
     ]
    },
    {
     "name": "stdout",
     "output_type": "stream",
     "text": [
      "/Product_williamnoble.com_September2020.json.gz\n",
      "/Product_stineappliances.com_September2020.json.gz\n"
     ]
    },
    {
     "name": "stderr",
     "output_type": "stream",
     "text": [
      "\r",
      " 97% (1652 of 1687) |################### | Elapsed Time: 0:04:30 ETA:   0:00:04"
     ]
    },
    {
     "name": "stdout",
     "output_type": "stream",
     "text": [
      "/Product_benidormbikes.com_September2020.json.gz\n"
     ]
    },
    {
     "name": "stderr",
     "output_type": "stream",
     "text": [
      " 98% (1654 of 1687) |################### | Elapsed Time: 0:04:31 ETA:   0:00:04"
     ]
    },
    {
     "name": "stdout",
     "output_type": "stream",
     "text": [
      "/Product_worldofluxuryus.com_September2020.json.gz\n",
      "/Product_therosecoloredlens.com_September2020.json.gz\n"
     ]
    },
    {
     "name": "stderr",
     "output_type": "stream",
     "text": [
      "\r",
      " 98% (1655 of 1687) |################### | Elapsed Time: 0:04:31 ETA:   0:00:04"
     ]
    },
    {
     "name": "stdout",
     "output_type": "stream",
     "text": [
      "/Product_a1ontheweb.com_September2020.json.gz\n"
     ]
    },
    {
     "name": "stderr",
     "output_type": "stream",
     "text": [
      " 98% (1658 of 1687) |################### | Elapsed Time: 0:04:31 ETA:   0:00:04"
     ]
    },
    {
     "name": "stdout",
     "output_type": "stream",
     "text": [
      "/Product_biblicalfilms.org_September2020.json.gz\n",
      "/Product_gstechcorner.com_September2020.json.gz\n",
      "/Product_microcenter.com_September2020.json.gz\n"
     ]
    },
    {
     "name": "stderr",
     "output_type": "stream",
     "text": [
      " 98% (1660 of 1687) |################### | Elapsed Time: 0:04:33 ETA:   0:00:09"
     ]
    },
    {
     "name": "stdout",
     "output_type": "stream",
     "text": [
      "/Product_pittcycle.com_September2020.json.gz\n",
      "/Product_fritzandgigi.com_September2020.json.gz\n"
     ]
    },
    {
     "name": "stderr",
     "output_type": "stream",
     "text": [
      "\r",
      " 98% (1662 of 1687) |################### | Elapsed Time: 0:04:33 ETA:   0:00:07"
     ]
    },
    {
     "name": "stdout",
     "output_type": "stream",
     "text": [
      "/Product_notebooksrus.net.au_September2020.json.gz\n",
      "/Product_judaicaspot.com_September2020.json.gz\n"
     ]
    },
    {
     "name": "stderr",
     "output_type": "stream",
     "text": [
      " 98% (1664 of 1687) |################### | Elapsed Time: 0:04:33 ETA:   0:00:08"
     ]
    },
    {
     "name": "stdout",
     "output_type": "stream",
     "text": [
      "/Product_holloways.com_September2020.json.gz\n",
      "/Product_infinitiofhonolulu.com_September2020.json.gz\n"
     ]
    },
    {
     "name": "stderr",
     "output_type": "stream",
     "text": [
      "\r",
      " 98% (1666 of 1687) |################### | Elapsed Time: 0:04:33 ETA:   0:00:05"
     ]
    },
    {
     "name": "stdout",
     "output_type": "stream",
     "text": [
      "/Product_electrisimo.com_September2020.json.gz\n",
      "/Product_rcmart.com_September2020.json.gz\n"
     ]
    },
    {
     "name": "stderr",
     "output_type": "stream",
     "text": [
      " 98% (1668 of 1687) |################### | Elapsed Time: 0:04:35 ETA:   0:00:07"
     ]
    },
    {
     "name": "stdout",
     "output_type": "stream",
     "text": [
      "/Product_sportingdogpro.com_September2020.json.gz\n",
      "/Product_stockdaletile.com_September2020.json.gz\n",
      "/Product_prosonido.com_September2020.json.gz\n"
     ]
    },
    {
     "name": "stderr",
     "output_type": "stream",
     "text": [
      "\r",
      " 98% (1670 of 1687) |################### | Elapsed Time: 0:04:35 ETA:   0:00:05"
     ]
    },
    {
     "name": "stdout",
     "output_type": "stream",
     "text": [
      "/Product_kindnatured.com_September2020.json.gz\n",
      "/Product_fresco.co.uk_September2020.json.gz\n",
      "/Product_allmountaincyclery.com_September2020.json.gz\n"
     ]
    },
    {
     "name": "stderr",
     "output_type": "stream",
     "text": [
      " 99% (1675 of 1687) |################### | Elapsed Time: 0:04:36 ETA:   0:00:03"
     ]
    },
    {
     "name": "stdout",
     "output_type": "stream",
     "text": [
      "/Product_trunkclothiers.com_September2020.json.gz\n",
      "/Product_homedecoraz.com_September2020.json.gz\n",
      "/Product_heinnie.com_September2020.json.gz\n"
     ]
    },
    {
     "name": "stderr",
     "output_type": "stream",
     "text": [
      " 99% (1678 of 1687) |################### | Elapsed Time: 0:04:37 ETA:   0:00:02"
     ]
    },
    {
     "name": "stdout",
     "output_type": "stream",
     "text": [
      "/Product_yepmebazar.com_September2020.json.gz\n",
      "/Product_consommables.com_September2020.json.gz\n",
      "/Product_ventadecomputadoras.com.mx_September2020.json.gz\n"
     ]
    },
    {
     "name": "stderr",
     "output_type": "stream",
     "text": [
      "\r",
      " 99% (1680 of 1687) |################### | Elapsed Time: 0:04:37 ETA:   0:00:01"
     ]
    },
    {
     "name": "stdout",
     "output_type": "stream",
     "text": [
      "/Product_richstv.com_September2020.json.gz\n",
      "/Product_aveneusa.com_September2020.json.gz\n",
      "/Product_curlycooart.com_September2020.json.gz\n",
      "/Product_petimce.com_September2020.json.gz\n"
     ]
    },
    {
     "name": "stderr",
     "output_type": "stream",
     "text": [
      " 99% (1685 of 1687) |################### | Elapsed Time: 0:04:37 ETA:   0:00:00"
     ]
    },
    {
     "name": "stdout",
     "output_type": "stream",
     "text": [
      "/Product_aktivwholesale.com_September2020.json.gz\n",
      "/Product_specialisteduski.com_September2020.json.gz\n",
      "/Product_thecraftist.com_September2020.json.gz\n",
      "/Product_area399.com_September2020.json.gz\n"
     ]
    },
    {
     "name": "stderr",
     "output_type": "stream",
     "text": [
      "100% (1687 of 1687) |####################| Elapsed Time: 0:04:37 Time:  0:04:37\n"
     ]
    }
   ],
   "source": [
    "#clean mapping files and save them again\n",
    "# then use the cleaned tables to append into a series and the get a dataframe from that\n",
    "count = 0\n",
    "train_representation=[] #representation of whole training set\n",
    "with progressbar.ProgressBar(max_value=len(files_representation_train)) as bar:\n",
    "    for zip_file in files_representation_train:\n",
    "        print('/{}'.format(zip_file))\n",
    "        df = pd.read_json(os.path.join(train_test_all_filtered_path,'test') + '/{}'.format(zip_file), compression='gzip', lines=True)\n",
    "        if ('description' in df.columns)== False: # check if description column given\n",
    "            df['description'] = ''\n",
    "        if ('name' in df.columns)== False: # check if description column given\n",
    "            df['name'] = x = df.page_url.apply(lambda x: x.split(\"/\")[4])\n",
    "        df['header']=''#empty string for headers\n",
    "        table_representation = [] #empty list for table\n",
    "        table_representation.append(zip_file)#append table id\n",
    "        table_representation.append('')#append page title -> not relevant\n",
    "        table_representation.append('')#append wikipedia page id -> not given\n",
    "        table_representation.append('')#append information about entity -> product, not relevant since same for all tables\n",
    "        table_representation.append('')#append table caption -> not given\n",
    "        table_representation.append(df['header'].to_list()) #append headers -> not sure if we should do that\n",
    "        all_rows_representation = []#representation of all rows\n",
    "        for i in range(len(df)):\n",
    "            row_representation=[] # cell representation of single row\n",
    "            row_representation.append([[0,i],[df['row_id'][i],str(df['name'][i])]])\n",
    "            row_representation.append([[1,i],[df['row_id'][i],str(df['description'][i])]])\n",
    "            all_rows_representation.append(row_representation) #append single cell representation to representation of all rows\n",
    "        table_representation.append(all_rows_representation)#append it to representation of whole table\n",
    "        table_representation.append(df['cluster_id'].apply(lambda x: [str(x)]).to_list())\n",
    "        train_representation.append(table_representation)\n",
    "        count += 1\n",
    "        bar.update(count)"
   ]
  },
  {
   "cell_type": "code",
   "execution_count": 21,
   "id": "88d3b9f9",
   "metadata": {},
   "outputs": [],
   "source": [
    "with open(os.path.join(turl_input_path, 'test_representation.txt'), \"wb\") as fp:  #Pickling\n",
    "    pickle.dump(train_representation, fp)"
   ]
  },
  {
   "cell_type": "code",
   "execution_count": 7,
   "id": "9f24c135",
   "metadata": {},
   "outputs": [],
   "source": [
    "with open(os.path.join(turl_input_path, 'test_representation.txt'), \"rb\") as fp:   # Unpickling\n",
    "    train_representation = pickle.load(fp)"
   ]
  },
  {
   "cell_type": "code",
   "execution_count": null,
   "id": "87b88cf0",
   "metadata": {},
   "outputs": [],
   "source": []
  }
 ],
 "metadata": {
  "kernelspec": {
   "display_name": "Python 3 (ipykernel)",
   "language": "python",
   "name": "python3"
  },
  "language_info": {
   "codemirror_mode": {
    "name": "ipython",
    "version": 3
   },
   "file_extension": ".py",
   "mimetype": "text/x-python",
   "name": "python",
   "nbconvert_exporter": "python",
   "pygments_lexer": "ipython3",
   "version": "3.8.8"
  }
 },
 "nbformat": 4,
 "nbformat_minor": 5
}
