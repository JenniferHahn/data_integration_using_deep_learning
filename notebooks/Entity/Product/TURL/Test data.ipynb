{
 "cells": [
  {
   "cell_type": "code",
   "execution_count": 1,
   "id": "4e44f30f",
   "metadata": {},
   "outputs": [],
   "source": [
    "import os\n",
    "import json\n",
    "import pickle"
   ]
  },
  {
   "cell_type": "code",
   "execution_count": 2,
   "id": "ebcb25d3",
   "metadata": {},
   "outputs": [],
   "source": [
    "data_dir = '../../../../src/data/product/train_test_split/output_unfiltered_tables/large/after_manual_checking/test'"
   ]
  },
  {
   "cell_type": "code",
   "execution_count": null,
   "id": "3a8403ec",
   "metadata": {},
   "outputs": [],
   "source": [
    "table = ''\n",
    "table_df = pd.read_json(os.path.join(data_dir, '{}'.format(table)), compression='gzip', lines=True)"
   ]
  }
 ],
 "metadata": {
  "kernelspec": {
   "display_name": "Python 3 (ipykernel)",
   "language": "python",
   "name": "python3"
  },
  "language_info": {
   "codemirror_mode": {
    "name": "ipython",
    "version": 3
   },
   "file_extension": ".py",
   "mimetype": "text/x-python",
   "name": "python",
   "nbconvert_exporter": "python",
   "pygments_lexer": "ipython3",
   "version": "3.8.8"
  }
 },
 "nbformat": 4,
 "nbformat_minor": 5
}
