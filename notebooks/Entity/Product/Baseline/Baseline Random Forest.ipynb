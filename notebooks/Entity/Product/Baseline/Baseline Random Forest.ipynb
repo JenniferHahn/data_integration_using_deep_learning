{
 "cells": [
  {
   "cell_type": "markdown",
   "metadata": {},
   "source": [
    "# This notebook will give a first baseline estimation for the matching of entities via a random forest algorithm as multi-class classification"
   ]
  },
  {
   "cell_type": "code",
   "execution_count": 19,
   "metadata": {},
   "outputs": [],
   "source": [
    "import os\n",
    "import pandas as pd\n",
    "import plotly.express as px\n",
    "import progressbar\n",
    "import json\n",
    "import numpy as np\n",
    "import nltk\n",
    "from nltk.corpus import stopwords\n",
    "import string\n",
    "from nltk.tokenize import word_tokenize\n",
    "from sklearn.feature_extraction.text import TfidfVectorizer\n",
    "from sklearn.ensemble import RandomForestClassifier\n",
    "from sklearn.metrics import accuracy_score, f1_score, precision_score, recall_score"
   ]
  },
  {
   "cell_type": "code",
   "execution_count": 2,
   "metadata": {},
   "outputs": [],
   "source": [
    "def remove_stopwords(token_vector, stopwords_list):\n",
    "    return token_vector.apply(lambda token_list: [word for word in token_list if word not in stopwords_list])"
   ]
  },
  {
   "cell_type": "code",
   "execution_count": 3,
   "metadata": {},
   "outputs": [],
   "source": [
    "def remove_punctuation(token_vector):\n",
    "    return token_vector.apply(lambda token_list: [word for word in token_list if word not in string.punctuation])"
   ]
  },
  {
   "cell_type": "code",
   "execution_count": 4,
   "metadata": {},
   "outputs": [],
   "source": [
    "#get path informationb\n",
    "product_path = '../../../../src/data/product'\n",
    "train_test_input_filtered_path = os.path.join(product_path, 'train_test_split/input_filtered_tables')\n",
    "train_test_all_filtered_path = os.path.join(train_test_input_filtered_path, 'all')"
   ]
  },
  {
   "cell_type": "code",
   "execution_count": 5,
   "metadata": {},
   "outputs": [],
   "source": [
    "#fet whole data for baseline\n",
    "all_filtered_tables_df = pd.read_json(os.path.join(train_test_all_filtered_path,'train_test_all_filtered_tables.json.gz'), compression='gzip', lines=True)"
   ]
  },
  {
   "cell_type": "code",
   "execution_count": 6,
   "metadata": {},
   "outputs": [],
   "source": [
    "# get information about train and test table split\n",
    "product_path = '../../../../src/data/product'\n",
    "train_test_output_path = os.path.join(product_path, 'train_test_split/output_unfiltered_tables')\n",
    "zip_files_train = [file for file in os.listdir(os.path.join(train_test_output_path, 'large/train')) if file.endswith('.json.gz')]\n",
    "zip_files_test = [file for file in os.listdir(os.path.join(train_test_output_path, 'large/test')) if file.endswith('.json.gz')]"
   ]
  },
  {
   "cell_type": "code",
   "execution_count": 7,
   "metadata": {},
   "outputs": [],
   "source": [
    "#filter down the dataframe\n",
    "df_whole = all_filtered_tables_df[['name','description','cluster_id','table_id']]"
   ]
  },
  {
   "cell_type": "code",
   "execution_count": 8,
   "metadata": {},
   "outputs": [
    {
     "name": "stderr",
     "output_type": "stream",
     "text": [
      "/home/bizer-tp2021/anaconda3/lib/python3.8/site-packages/pandas/core/series.py:4463: SettingWithCopyWarning: \n",
      "A value is trying to be set on a copy of a slice from a DataFrame\n",
      "\n",
      "See the caveats in the documentation: https://pandas.pydata.org/pandas-docs/stable/user_guide/indexing.html#returning-a-view-versus-a-copy\n",
      "  return super().fillna(\n",
      "/tmp/ipykernel_380550/3294319364.py:3: SettingWithCopyWarning: \n",
      "A value is trying to be set on a copy of a slice from a DataFrame.\n",
      "Try using .loc[row_indexer,col_indexer] = value instead\n",
      "\n",
      "See the caveats in the documentation: https://pandas.pydata.org/pandas-docs/stable/user_guide/indexing.html#returning-a-view-versus-a-copy\n",
      "  df_whole['concat_information']=df_whole['name'].astype(str)#+df_whole['description'].astype(str)\n",
      "/home/bizer-tp2021/anaconda3/lib/python3.8/site-packages/pandas/core/frame.py:4308: SettingWithCopyWarning: \n",
      "A value is trying to be set on a copy of a slice from a DataFrame\n",
      "\n",
      "See the caveats in the documentation: https://pandas.pydata.org/pandas-docs/stable/user_guide/indexing.html#returning-a-view-versus-a-copy\n",
      "  return super().drop(\n"
     ]
    }
   ],
   "source": [
    "# fill emtpy values for description and the concat name and description\n",
    "df_whole.description.fillna(value=',', inplace=True)\n",
    "df_whole['concat_information']=df_whole['name'].astype(str)#+df_whole['description'].astype(str)\n",
    "df_whole.drop(columns=['name','description'],inplace= True)"
   ]
  },
  {
   "cell_type": "code",
   "execution_count": 9,
   "metadata": {
    "scrolled": true
   },
   "outputs": [
    {
     "name": "stderr",
     "output_type": "stream",
     "text": [
      "/tmp/ipykernel_380550/256944513.py:2: SettingWithCopyWarning: \n",
      "A value is trying to be set on a copy of a slice from a DataFrame.\n",
      "Try using .loc[row_indexer,col_indexer] = value instead\n",
      "\n",
      "See the caveats in the documentation: https://pandas.pydata.org/pandas-docs/stable/user_guide/indexing.html#returning-a-view-versus-a-copy\n",
      "  df_whole['concat_information'] = df_whole['concat_information'].apply(lambda row: row.lower())\n",
      "/tmp/ipykernel_380550/256944513.py:3: SettingWithCopyWarning: \n",
      "A value is trying to be set on a copy of a slice from a DataFrame.\n",
      "Try using .loc[row_indexer,col_indexer] = value instead\n",
      "\n",
      "See the caveats in the documentation: https://pandas.pydata.org/pandas-docs/stable/user_guide/indexing.html#returning-a-view-versus-a-copy\n",
      "  df_whole['tokens'] = df_whole['concat_information'].apply(lambda row: word_tokenize(row))\n",
      "/tmp/ipykernel_380550/256944513.py:4: SettingWithCopyWarning: \n",
      "A value is trying to be set on a copy of a slice from a DataFrame.\n",
      "Try using .loc[row_indexer,col_indexer] = value instead\n",
      "\n",
      "See the caveats in the documentation: https://pandas.pydata.org/pandas-docs/stable/user_guide/indexing.html#returning-a-view-versus-a-copy\n",
      "  df_whole['tokens'] = remove_stopwords(df_whole['tokens'],stopwords.words())\n",
      "/tmp/ipykernel_380550/256944513.py:5: SettingWithCopyWarning: \n",
      "A value is trying to be set on a copy of a slice from a DataFrame.\n",
      "Try using .loc[row_indexer,col_indexer] = value instead\n",
      "\n",
      "See the caveats in the documentation: https://pandas.pydata.org/pandas-docs/stable/user_guide/indexing.html#returning-a-view-versus-a-copy\n",
      "  df_whole['tokens'] = remove_punctuation (df_whole['tokens'])\n"
     ]
    }
   ],
   "source": [
    "#clean concated description column to use tf-idf \n",
    "df_whole['concat_information'] = df_whole['concat_information'].apply(lambda row: row.lower())\n",
    "df_whole['tokens'] = df_whole['concat_information'].apply(lambda row: word_tokenize(row))\n",
    "df_whole['tokens'] = remove_stopwords(df_whole['tokens'],stopwords.words())\n",
    "df_whole['tokens'] = remove_punctuation (df_whole['tokens'])\n",
    "df_whole.drop(columns=['concat_information'],inplace=True)"
   ]
  },
  {
   "cell_type": "code",
   "execution_count": 10,
   "metadata": {},
   "outputs": [],
   "source": [
    "#define vectorizer to match preprocessed tokes\n",
    "def dummy_fun(doc):\n",
    "    return doc\n",
    "\n",
    "tfidf = TfidfVectorizer(\n",
    "    analyzer='word',\n",
    "    tokenizer=dummy_fun,\n",
    "    preprocessor=dummy_fun,\n",
    "    token_pattern=None)  \n",
    "tfidf_value = tfidf.fit_transform(df_whole['tokens'])"
   ]
  },
  {
   "cell_type": "code",
   "execution_count": 15,
   "metadata": {},
   "outputs": [],
   "source": [
    "df_tfidf = pd.DataFrame(tfidf_value.toarray(), columns=tfidf.get_feature_names())\n",
    "df_prepared = pd.concat([df_whole, df_tfidf], axis=1)"
   ]
  },
  {
   "cell_type": "code",
   "execution_count": 22,
   "metadata": {},
   "outputs": [
    {
     "name": "stderr",
     "output_type": "stream",
     "text": [
      "/home/bizer-tp2021/anaconda3/lib/python3.8/site-packages/pandas/core/frame.py:4308: SettingWithCopyWarning: \n",
      "A value is trying to be set on a copy of a slice from a DataFrame\n",
      "\n",
      "See the caveats in the documentation: https://pandas.pydata.org/pandas-docs/stable/user_guide/indexing.html#returning-a-view-versus-a-copy\n",
      "  return super().drop(\n"
     ]
    }
   ],
   "source": [
    "df_train = df_prepared[df_prepared['table_id'].isin(zip_files_train)]\n",
    "df_target_train = df_train['cluster_id']\n",
    "df_train.drop(columns=['cluster_id','table_id','tokens'],inplace= True)"
   ]
  },
  {
   "cell_type": "code",
   "execution_count": 23,
   "metadata": {},
   "outputs": [],
   "source": [
    "df_test = df_prepared[df_prepared['table_id'].isin(zip_files_test)]\n",
    "df_target_test = df_test['cluster_id']\n",
    "df_test.drop(columns=['cluster_id','table_id','tokens'],inplace= True)"
   ]
  },
  {
   "cell_type": "code",
   "execution_count": 25,
   "metadata": {},
   "outputs": [
    {
     "ename": "NameError",
     "evalue": "name 'target_test' is not defined",
     "output_type": "error",
     "traceback": [
      "\u001B[0;31m---------------------------------------------------------------------------\u001B[0m",
      "\u001B[0;31mNameError\u001B[0m                                 Traceback (most recent call last)",
      "\u001B[0;32m/tmp/ipykernel_380550/824503707.py\u001B[0m in \u001B[0;36m<module>\u001B[0;34m\u001B[0m\n\u001B[1;32m      3\u001B[0m \u001B[0mrf\u001B[0m\u001B[0;34m.\u001B[0m\u001B[0mfit\u001B[0m\u001B[0;34m(\u001B[0m\u001B[0mdf_train\u001B[0m\u001B[0;34m,\u001B[0m\u001B[0mdf_target_train\u001B[0m\u001B[0;34m)\u001B[0m\u001B[0;34m\u001B[0m\u001B[0;34m\u001B[0m\u001B[0m\n\u001B[1;32m      4\u001B[0m \u001B[0mprediction\u001B[0m \u001B[0;34m=\u001B[0m \u001B[0mrf\u001B[0m\u001B[0;34m.\u001B[0m\u001B[0mpredict\u001B[0m\u001B[0;34m(\u001B[0m\u001B[0mdf_test\u001B[0m\u001B[0;34m)\u001B[0m\u001B[0;34m\u001B[0m\u001B[0;34m\u001B[0m\u001B[0m\n\u001B[0;32m----> 5\u001B[0;31m \u001B[0mf1\u001B[0m \u001B[0;34m=\u001B[0m \u001B[0mf1_score\u001B[0m\u001B[0;34m(\u001B[0m\u001B[0mtarget_test\u001B[0m\u001B[0;34m,\u001B[0m\u001B[0mprediction\u001B[0m\u001B[0;34m)\u001B[0m\u001B[0;34m\u001B[0m\u001B[0;34m\u001B[0m\u001B[0m\n\u001B[0m\u001B[1;32m      6\u001B[0m \u001B[0maccuracy\u001B[0m \u001B[0;34m=\u001B[0m \u001B[0maccuracy_score\u001B[0m\u001B[0;34m(\u001B[0m\u001B[0mtarget_test\u001B[0m\u001B[0;34m,\u001B[0m\u001B[0mprediction\u001B[0m\u001B[0;34m)\u001B[0m\u001B[0;34m\u001B[0m\u001B[0;34m\u001B[0m\u001B[0m\n\u001B[1;32m      7\u001B[0m \u001B[0mprecision\u001B[0m \u001B[0;34m=\u001B[0m \u001B[0mprecision_score\u001B[0m\u001B[0;34m(\u001B[0m\u001B[0mtarget_test\u001B[0m\u001B[0;34m,\u001B[0m\u001B[0mprediction\u001B[0m\u001B[0;34m)\u001B[0m\u001B[0;34m\u001B[0m\u001B[0;34m\u001B[0m\u001B[0m\n",
      "\u001B[0;31mNameError\u001B[0m: name 'target_test' is not defined"
     ]
    }
   ],
   "source": [
    "# Baseline random forest\n",
    "rf = RandomForestClassifier()\n",
    "rf.fit(df_train,df_target_train)\n",
    "prediction = rf.predict(df_test) \n",
    "f1 = f1_score(df_target_test,prediction)\n",
    "accuracy = accuracy_score(target_test,prediction) \n",
    "precision = precision_score(target_test,prediction) \n",
    "recall = recall_score(target_test,prediction) \n",
    "print(\"The F1-Score on test set: {:.4f}\".format(f1))\n",
    "print(\"The Precision on test set: {:.4f}\".format(precision))\n",
    "print(\"The Recall on test set: {:.4f}\".format(recall))\n",
    "print(\"The Accuracy-Score micro on test set: {:.4f}\".format(accuracy))"
   ]
  },
  {
   "cell_type": "code",
   "execution_count": 30,
   "metadata": {},
   "outputs": [
    {
     "name": "stdout",
     "output_type": "stream",
     "text": [
      "The F1-Score on test set: 0.8157\n",
      "The Precision on test set: 0.8157\n",
      "The Recall on test set: 0.8157\n",
      "The Accuracy-Score micro on test set: 0.8157\n"
     ]
    }
   ],
   "source": [
    "f1 = f1_score(df_target_test,prediction,average='micro')\n",
    "accuracy = accuracy_score(df_target_test,prediction) \n",
    "precision = precision_score(df_target_test,prediction,average='micro') \n",
    "recall = recall_score(df_target_test,prediction,average='micro') \n",
    "print(\"The F1-Score on test set: {:.4f}\".format(f1))\n",
    "print(\"The Precision on test set: {:.4f}\".format(precision))\n",
    "print(\"The Recall on test set: {:.4f}\".format(recall))\n",
    "print(\"The Accuracy-Score micro on test set: {:.4f}\".format(accuracy))"
   ]
  },
  {
   "cell_type": "code",
   "execution_count": null,
   "metadata": {},
   "outputs": [],
   "source": []
  }
 ],
 "metadata": {
  "kernelspec": {
   "display_name": "Python 3 (ipykernel)",
   "language": "python",
   "name": "python3"
  },
  "language_info": {
   "codemirror_mode": {
    "name": "ipython",
    "version": 3
   },
   "file_extension": ".py",
   "mimetype": "text/x-python",
   "name": "python",
   "nbconvert_exporter": "python",
   "pygments_lexer": "ipython3",
   "version": "3.8.8"
  }
 },
 "nbformat": 4,
 "nbformat_minor": 1
}