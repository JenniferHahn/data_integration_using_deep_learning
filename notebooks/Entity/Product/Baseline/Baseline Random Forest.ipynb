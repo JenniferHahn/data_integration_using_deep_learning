{
 "cells": [
  {
   "cell_type": "markdown",
   "metadata": {},
   "source": [
    "# This notebook will give a first baseline estimation for the matching of entities via a random forest algorithm as multi-class classification"
   ]
  },
  {
   "cell_type": "code",
   "execution_count": 4,
   "metadata": {},
   "outputs": [],
   "source": [
    "import os\n",
    "import pandas as pd\n",
    "import plotly.express as px\n",
    "import progressbar\n",
    "import json\n",
    "import numpy as np\n",
    "import nltk\n",
    "from nltk.corpus import stopwords\n",
    "import string\n",
    "from nltk.tokenize import word_tokenize\n",
    "from sklearn.feature_extraction.text import TfidfVectorizer\n",
    "from sklearn.feature_extraction.text import CountVectorizer\n",
    "from sklearn.ensemble import RandomForestClassifier\n",
    "from sklearn.metrics import accuracy_score, f1_score, precision_score, recall_score"
   ]
  },
  {
   "cell_type": "code",
   "execution_count": 1,
   "metadata": {},
   "outputs": [],
   "source": [
    "def remove_stopwords(token_vector, stopwords_list):\n",
    "    return token_vector.apply(lambda token_list: [word for word in token_list if word not in stopwords_list])"
   ]
  },
  {
   "cell_type": "code",
   "execution_count": 6,
   "metadata": {},
   "outputs": [],
   "source": [
    "def remove_punctuation(token_vector):\n",
    "    return token_vector.apply(lambda token_list: [word for word in token_list if word not in string.punctuation])"
   ]
  },
  {
   "cell_type": "code",
   "execution_count": 7,
   "metadata": {},
   "outputs": [],
   "source": [
    "#get path informationb\n",
    "product_path = '../../../../src/data/product'\n",
    "train_test_all_filtered_path = os.path.join(product_path, 'train_test_split/output_unfiltered_tables/large/after_manual_checking')\n"
   ]
  },
  {
   "cell_type": "code",
   "execution_count": 32,
   "metadata": {},
   "outputs": [],
   "source": [
    "#fet whole data for baseline\n",
    "df_train= pd.read_json(os.path.join(train_test_all_filtered_path,'train/concatenated_data/train_all_filtered_tables.json.gz'), compression='gzip', lines=True)\n",
    "df_test= pd.read_json(os.path.join(train_test_all_filtered_path,'test/concatenated_data/test_all_filtered_tables.json.gz'), compression='gzip', lines=True)\n",
    "df_val= pd.read_json(os.path.join(train_test_all_filtered_path,'val/concatenated_data/val_all_filtered_tables.json.gz'), compression='gzip', lines=True)"
   ]
  },
  {
   "cell_type": "code",
   "execution_count": 33,
   "metadata": {},
   "outputs": [],
   "source": [
    "ids = set(df_val.cluster_id) & set(df_test.cluster_id) & set(df_train.cluster_id)"
   ]
  },
  {
   "cell_type": "code",
   "execution_count": 34,
   "metadata": {},
   "outputs": [],
   "source": [
    "df_val = df_val[df_val['cluster_id'].isin(ids)]\n",
    "df_test = df_test[df_test['cluster_id'].isin(ids)]\n",
    "df_train = df_train[df_train['cluster_id'].isin(ids)]"
   ]
  },
  {
   "cell_type": "code",
   "execution_count": 35,
   "metadata": {},
   "outputs": [],
   "source": [
    "df_whole = pd.concat([df_train, df_test,df_val]).reset_index()"
   ]
  },
  {
   "cell_type": "markdown",
   "metadata": {},
   "source": [
    "### Combine tf-idf and tf vector based features"
   ]
  },
  {
   "cell_type": "code",
   "execution_count": 36,
   "metadata": {},
   "outputs": [],
   "source": [
    "#filter down the dataframe\n",
    "df_whole = df_whole[['name','description','cluster_id','table_id']]"
   ]
  },
  {
   "cell_type": "code",
   "execution_count": 37,
   "metadata": {},
   "outputs": [],
   "source": [
    "# fill emtpy values for description and the concat name and description\n",
    "df_whole.description.fillna(value=',', inplace=True)\n",
    "df_whole['concat_information']=df_whole['name'].astype(str)#+df_whole['description'].astype(str)\n",
    "df_whole.drop(columns=['name','description'],inplace= True)"
   ]
  },
  {
   "cell_type": "code",
   "execution_count": 38,
   "metadata": {
    "scrolled": true
   },
   "outputs": [],
   "source": [
    "#clean concated description column to use tf-idf \n",
    "df_whole['concat_information'] = df_whole['concat_information'].apply(lambda row: row.lower())\n",
    "df_whole['tokens'] = df_whole['concat_information'].apply(lambda row: word_tokenize(row))\n",
    "df_whole['tokens'] = remove_stopwords(df_whole['tokens'],stopwords.words())\n",
    "df_whole['tokens'] = remove_punctuation (df_whole['tokens'])\n",
    "df_whole.drop(columns=['concat_information'],inplace=True)"
   ]
  },
  {
   "cell_type": "code",
   "execution_count": 39,
   "metadata": {},
   "outputs": [],
   "source": [
    "#define vectorizer to match preprocessed tokes for term frequency\n",
    "def dummy(doc):\n",
    "    return doc\n",
    "\n",
    "vectorizer  = CountVectorizer(\n",
    "        tokenizer=dummy,\n",
    "        preprocessor=dummy,\n",
    "        max_features=15000)  \n",
    "tf_value = vectorizer.fit_transform(df_whole['tokens'])"
   ]
  },
  {
   "cell_type": "code",
   "execution_count": 40,
   "metadata": {},
   "outputs": [],
   "source": [
    "#define vectorizer to match preprocessed tokes\n",
    "def dummy_fun(doc):\n",
    "    return doc\n",
    "\n",
    "tfidf = TfidfVectorizer(\n",
    "    analyzer='word',\n",
    "    tokenizer=dummy_fun,\n",
    "    preprocessor=dummy_fun,\n",
    "    token_pattern=None,\n",
    "    max_features=15000)  \n",
    "tfidf_value = tfidf.fit_transform(df_whole['tokens'])"
   ]
  },
  {
   "cell_type": "code",
   "execution_count": 41,
   "metadata": {},
   "outputs": [],
   "source": [
    "df_tf = pd.DataFrame(tf_value.toarray(), columns=vectorizer.get_feature_names())\n",
    "df_tfidf = pd.DataFrame(tfidf_value.toarray(), columns=tfidf.get_feature_names())\n",
    "df_prepared = pd.concat([df_whole, df_tfidf, df_tf], axis=1)"
   ]
  },
  {
   "cell_type": "code",
   "execution_count": 42,
   "metadata": {},
   "outputs": [],
   "source": [
    "train = df_prepared[~df_prepared['table_id'].isin(df_test['table_id'].drop_duplicates().to_list())].reset_index()\n",
    "df_target_train = train['cluster_id']\n",
    "train.drop(columns=['cluster_id','table_id','tokens'],inplace= True)"
   ]
  },
  {
   "cell_type": "code",
   "execution_count": 43,
   "metadata": {},
   "outputs": [],
   "source": [
    "test = df_prepared[df_prepared['table_id'].isin(df_test['table_id'].drop_duplicates().to_list())].reset_index()\n",
    "df_target_test = test['cluster_id']\n",
    "test.drop(columns=['cluster_id','table_id','tokens'],inplace= True)"
   ]
  },
  {
   "cell_type": "code",
   "execution_count": 44,
   "metadata": {},
   "outputs": [
    {
     "name": "stdout",
     "output_type": "stream",
     "text": [
      "The F1-Score micro on test set: 0.8684\n",
      "The F1-Score macro on test set: 0.7826\n",
      "The Precision on test set: 0.8684\n",
      "The Recall on test set: 0.8684\n",
      "The Precision macro on test set: 0.8109\n",
      "The Recall macro on test set: 0.7973\n",
      "The Accuracy-Score on test set: 0.8684\n"
     ]
    },
    {
     "name": "stderr",
     "output_type": "stream",
     "text": [
      "/home/bizer-tp2021/anaconda3/lib/python3.8/site-packages/sklearn/metrics/_classification.py:1245: UndefinedMetricWarning: Precision is ill-defined and being set to 0.0 in labels with no predicted samples. Use `zero_division` parameter to control this behavior.\n",
      "  _warn_prf(average, modifier, msg_start, len(result))\n"
     ]
    }
   ],
   "source": [
    "# Baseline random forest\n",
    "rf = RandomForestClassifier()\n",
    "rf.fit(train,df_target_train)\n",
    "prediction = rf.predict(test) \n",
    "f1_mic = f1_score(df_target_test,prediction,average='micro')\n",
    "f1_mac = f1_score(df_target_test,prediction,average='macro')\n",
    "accuracy = accuracy_score(df_target_test,prediction) \n",
    "precision = precision_score(df_target_test,prediction,average='micro') \n",
    "recall = recall_score(df_target_test,prediction,average='micro') \n",
    "precision_mac = precision_score(df_target_test,prediction,average='macro') \n",
    "recall_mac = recall_score(df_target_test,prediction,average='macro') \n",
    "print(\"The F1-Score micro on test set: {:.4f}\".format(f1_mic))\n",
    "print(\"The F1-Score macro on test set: {:.4f}\".format(f1_mac))\n",
    "print(\"The Precision on test set: {:.4f}\".format(precision))\n",
    "print(\"The Recall on test set: {:.4f}\".format(recall))\n",
    "print(\"The Precision macro on test set: {:.4f}\".format(precision_mac))\n",
    "print(\"The Recall macro on test set: {:.4f}\".format(recall_mac))\n",
    "print(\"The Accuracy-Score on test set: {:.4f}\".format(accuracy))"
   ]
  },
  {
   "cell_type": "code",
   "execution_count": null,
   "metadata": {},
   "outputs": [],
   "source": []
  }
 ],
 "metadata": {
  "kernelspec": {
   "display_name": "Python 3 (ipykernel)",
   "language": "python",
   "name": "python3"
  },
  "language_info": {
   "codemirror_mode": {
    "name": "ipython",
    "version": 3
   },
   "file_extension": ".py",
   "mimetype": "text/x-python",
   "name": "python",
   "nbconvert_exporter": "python",
   "pygments_lexer": "ipython3",
   "version": "3.8.8"
  }
 },
 "nbformat": 4,
 "nbformat_minor": 1
}
