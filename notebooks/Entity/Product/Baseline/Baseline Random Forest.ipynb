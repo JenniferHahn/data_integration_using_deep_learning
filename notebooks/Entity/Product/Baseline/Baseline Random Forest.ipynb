{
 "cells": [
  {
   "cell_type": "markdown",
   "metadata": {},
   "source": [
    "# This notebook will give a first baseline estimation for the matching of entities via a random forest algorithm as multi-class classification"
   ]
  },
  {
   "cell_type": "code",
   "execution_count": 1,
   "metadata": {},
   "outputs": [],
   "source": [
    "import os\n",
    "import pandas as pd\n",
    "import plotly.express as px\n",
    "import progressbar\n",
    "import json\n",
    "import numpy as np\n",
    "import nltk\n",
    "from nltk.corpus import stopwords\n",
    "import string\n",
    "from nltk.tokenize import word_tokenize\n",
    "from sklearn.feature_extraction.text import TfidfVectorizer\n",
    "from sklearn.feature_extraction.text import CountVectorizer\n",
    "from sklearn.ensemble import RandomForestClassifier\n",
    "from sklearn.metrics import accuracy_score, f1_score, precision_score, recall_score"
   ]
  },
  {
   "cell_type": "code",
   "execution_count": 2,
   "metadata": {},
   "outputs": [],
   "source": [
    "def remove_stopwords(token_vector, stopwords_list):\n",
    "    return token_vector.apply(lambda token_list: [word for word in token_list if word not in stopwords_list])"
   ]
  },
  {
   "cell_type": "code",
   "execution_count": 3,
   "metadata": {},
   "outputs": [],
   "source": [
    "def remove_punctuation(token_vector):\n",
    "    return token_vector.apply(lambda token_list: [word for word in token_list if word not in string.punctuation])"
   ]
  },
  {
   "cell_type": "code",
   "execution_count": 4,
   "metadata": {},
   "outputs": [],
   "source": [
    "#get path informationb\n",
    "product_path = '../../../../src/data/product'\n",
    "train_test_input_filtered_path = os.path.join(product_path, 'train_test_split/input_filtered_tables')\n",
    "train_test_all_filtered_path = os.path.join(train_test_input_filtered_path, 'all')"
   ]
  },
  {
   "cell_type": "code",
   "execution_count": 5,
   "metadata": {},
   "outputs": [],
   "source": [
    "#fet whole data for baseline\n",
    "all_filtered_tables_df = pd.read_json(os.path.join(train_test_all_filtered_path,'train_test_all_filtered_tables.json.gz'), compression='gzip', lines=True)"
   ]
  },
  {
   "cell_type": "code",
   "execution_count": 6,
   "metadata": {},
   "outputs": [],
   "source": [
    "# get information about train and test table split\n",
    "product_path = '../../../../src/data/product'\n",
    "train_test_output_path = os.path.join(product_path, 'train_test_split/output_unfiltered_tables')\n",
    "zip_files_train = [file for file in os.listdir(os.path.join(train_test_output_path, 'large/train')) if file.endswith('.json.gz')]\n",
    "zip_files_test = [file for file in os.listdir(os.path.join(train_test_output_path, 'large/test')) if file.endswith('.json.gz')]"
   ]
  },
  {
   "cell_type": "markdown",
   "metadata": {},
   "source": [
    "### Only use idf-tf vector based features"
   ]
  },
  {
   "cell_type": "code",
   "execution_count": 7,
   "metadata": {},
   "outputs": [],
   "source": [
    "#filter down the dataframe\n",
    "df_whole = all_filtered_tables_df[['name','description','cluster_id','table_id']]"
   ]
  },
  {
   "cell_type": "code",
   "execution_count": 8,
   "metadata": {},
   "outputs": [
    {
     "name": "stderr",
     "output_type": "stream",
     "text": [
      "/home/bizer-tp2021/anaconda3/lib/python3.8/site-packages/pandas/core/series.py:4463: SettingWithCopyWarning: \n",
      "A value is trying to be set on a copy of a slice from a DataFrame\n",
      "\n",
      "See the caveats in the documentation: https://pandas.pydata.org/pandas-docs/stable/user_guide/indexing.html#returning-a-view-versus-a-copy\n",
      "  return super().fillna(\n",
      "/tmp/ipykernel_436305/4099819629.py:3: SettingWithCopyWarning: \n",
      "A value is trying to be set on a copy of a slice from a DataFrame.\n",
      "Try using .loc[row_indexer,col_indexer] = value instead\n",
      "\n",
      "See the caveats in the documentation: https://pandas.pydata.org/pandas-docs/stable/user_guide/indexing.html#returning-a-view-versus-a-copy\n",
      "  df_whole['concat_information']=df_whole['name'].astype(str)+df_whole['description'].astype(str)\n",
      "/home/bizer-tp2021/anaconda3/lib/python3.8/site-packages/pandas/core/frame.py:4308: SettingWithCopyWarning: \n",
      "A value is trying to be set on a copy of a slice from a DataFrame\n",
      "\n",
      "See the caveats in the documentation: https://pandas.pydata.org/pandas-docs/stable/user_guide/indexing.html#returning-a-view-versus-a-copy\n",
      "  return super().drop(\n"
     ]
    }
   ],
   "source": [
    "# fill emtpy values for description and the concat name and description\n",
    "df_whole.description.fillna(value=',', inplace=True)\n",
    "df_whole['concat_information']=df_whole['name'].astype(str)+df_whole['description'].astype(str)\n",
    "df_whole.drop(columns=['name','description'],inplace= True)"
   ]
  },
  {
   "cell_type": "code",
   "execution_count": 9,
   "metadata": {
    "scrolled": true
   },
   "outputs": [
    {
     "name": "stderr",
     "output_type": "stream",
     "text": [
      "/tmp/ipykernel_436305/256944513.py:2: SettingWithCopyWarning: \n",
      "A value is trying to be set on a copy of a slice from a DataFrame.\n",
      "Try using .loc[row_indexer,col_indexer] = value instead\n",
      "\n",
      "See the caveats in the documentation: https://pandas.pydata.org/pandas-docs/stable/user_guide/indexing.html#returning-a-view-versus-a-copy\n",
      "  df_whole['concat_information'] = df_whole['concat_information'].apply(lambda row: row.lower())\n",
      "/tmp/ipykernel_436305/256944513.py:3: SettingWithCopyWarning: \n",
      "A value is trying to be set on a copy of a slice from a DataFrame.\n",
      "Try using .loc[row_indexer,col_indexer] = value instead\n",
      "\n",
      "See the caveats in the documentation: https://pandas.pydata.org/pandas-docs/stable/user_guide/indexing.html#returning-a-view-versus-a-copy\n",
      "  df_whole['tokens'] = df_whole['concat_information'].apply(lambda row: word_tokenize(row))\n",
      "/tmp/ipykernel_436305/256944513.py:4: SettingWithCopyWarning: \n",
      "A value is trying to be set on a copy of a slice from a DataFrame.\n",
      "Try using .loc[row_indexer,col_indexer] = value instead\n",
      "\n",
      "See the caveats in the documentation: https://pandas.pydata.org/pandas-docs/stable/user_guide/indexing.html#returning-a-view-versus-a-copy\n",
      "  df_whole['tokens'] = remove_stopwords(df_whole['tokens'],stopwords.words())\n",
      "/tmp/ipykernel_436305/256944513.py:5: SettingWithCopyWarning: \n",
      "A value is trying to be set on a copy of a slice from a DataFrame.\n",
      "Try using .loc[row_indexer,col_indexer] = value instead\n",
      "\n",
      "See the caveats in the documentation: https://pandas.pydata.org/pandas-docs/stable/user_guide/indexing.html#returning-a-view-versus-a-copy\n",
      "  df_whole['tokens'] = remove_punctuation (df_whole['tokens'])\n"
     ]
    }
   ],
   "source": [
    "#clean concated description column to use tf-idf \n",
    "df_whole['concat_information'] = df_whole['concat_information'].apply(lambda row: row.lower())\n",
    "df_whole['tokens'] = df_whole['concat_information'].apply(lambda row: word_tokenize(row))\n",
    "df_whole['tokens'] = remove_stopwords(df_whole['tokens'],stopwords.words())\n",
    "df_whole['tokens'] = remove_punctuation (df_whole['tokens'])\n",
    "df_whole.drop(columns=['concat_information'],inplace=True)"
   ]
  },
  {
   "cell_type": "code",
   "execution_count": 10,
   "metadata": {},
   "outputs": [],
   "source": [
    "#define vectorizer to match preprocessed tokes\n",
    "def dummy_fun(doc):\n",
    "    return doc\n",
    "\n",
    "tfidf = TfidfVectorizer(\n",
    "    analyzer='word',\n",
    "    tokenizer=dummy_fun,\n",
    "    preprocessor=dummy_fun,\n",
    "    token_pattern=None, \n",
    "    max_features=15000)  \n",
    "tfidf_value = tfidf.fit_transform(df_whole['tokens'])"
   ]
  },
  {
   "cell_type": "code",
   "execution_count": 11,
   "metadata": {},
   "outputs": [],
   "source": [
    "df_tfidf = pd.DataFrame(tfidf_value.toarray(), columns=tfidf.get_feature_names())\n",
    "df_prepared = pd.concat([df_whole, df_tfidf], axis=1)"
   ]
  },
  {
   "cell_type": "code",
   "execution_count": 12,
   "metadata": {},
   "outputs": [],
   "source": [
    "df_train = df_prepared[df_prepared['table_id'].isin(zip_files_train)].reset_index()\n",
    "df_target_train = df_train['cluster_id']\n",
    "df_train.drop(columns=['cluster_id','table_id','tokens'],inplace= True)"
   ]
  },
  {
   "cell_type": "code",
   "execution_count": 13,
   "metadata": {},
   "outputs": [],
   "source": [
    "df_test = df_prepared[df_prepared['table_id'].isin(zip_files_test)].reset_index()\n",
    "df_target_test = df_test['cluster_id']\n",
    "df_test.drop(columns=['cluster_id','table_id','tokens'],inplace= True)"
   ]
  },
  {
   "cell_type": "code",
   "execution_count": 14,
   "metadata": {},
   "outputs": [
    {
     "name": "stdout",
     "output_type": "stream",
     "text": [
      "The F1-Score micro on test set: 0.7717\n",
      "The F1-Score on test set: 0.6596\n",
      "The Precision on test set: 0.7717\n",
      "The Recall on test set: 0.7717\n",
      "The Precision macro on test set: 0.7026\n",
      "The Recall macro on test set: 0.6725\n",
      "The Accuracy-Score on test set: 0.7717\n"
     ]
    },
    {
     "name": "stderr",
     "output_type": "stream",
     "text": [
      "/home/bizer-tp2021/anaconda3/lib/python3.8/site-packages/sklearn/metrics/_classification.py:1245: UndefinedMetricWarning: Precision is ill-defined and being set to 0.0 in labels with no predicted samples. Use `zero_division` parameter to control this behavior.\n",
      "  _warn_prf(average, modifier, msg_start, len(result))\n",
      "/home/bizer-tp2021/anaconda3/lib/python3.8/site-packages/sklearn/metrics/_classification.py:1245: UndefinedMetricWarning: Recall is ill-defined and being set to 0.0 in labels with no true samples. Use `zero_division` parameter to control this behavior.\n",
      "  _warn_prf(average, modifier, msg_start, len(result))\n"
     ]
    }
   ],
   "source": [
    "# Baseline random forest\n",
    "rf = RandomForestClassifier()\n",
    "rf.fit(df_train,df_target_train)\n",
    "prediction = rf.predict(df_test) \n",
    "f1_mic = f1_score(df_target_test,prediction,average='micro')\n",
    "f1_mac = f1_score(df_target_test,prediction,average='macro')\n",
    "accuracy = accuracy_score(df_target_test,prediction) \n",
    "precision = precision_score(df_target_test,prediction,average='micro') \n",
    "recall = recall_score(df_target_test,prediction,average='micro') \n",
    "precision_mac = precision_score(df_target_test,prediction,average='macro') \n",
    "recall_mac = recall_score(df_target_test,prediction,average='macro') \n",
    "print(\"The F1-Score micro on test set: {:.4f}\".format(f1_mic))\n",
    "print(\"The F1-Score on test set: {:.4f}\".format(f1_mac))\n",
    "print(\"The Precision on test set: {:.4f}\".format(precision))\n",
    "print(\"The Recall on test set: {:.4f}\".format(recall))\n",
    "print(\"The Precision macro on test set: {:.4f}\".format(precision_mac))\n",
    "print(\"The Recall macro on test set: {:.4f}\".format(recall_mac))\n",
    "print(\"The Accuracy-Score on test set: {:.4f}\".format(accuracy))"
   ]
  },
  {
   "cell_type": "markdown",
   "metadata": {},
   "source": [
    "### Only use tf vector based features"
   ]
  },
  {
   "cell_type": "code",
   "execution_count": 15,
   "metadata": {},
   "outputs": [],
   "source": [
    "#filter down the dataframe\n",
    "df_whole = all_filtered_tables_df[['name','description','cluster_id','table_id']]"
   ]
  },
  {
   "cell_type": "code",
   "execution_count": 16,
   "metadata": {},
   "outputs": [
    {
     "name": "stderr",
     "output_type": "stream",
     "text": [
      "/home/bizer-tp2021/anaconda3/lib/python3.8/site-packages/pandas/core/series.py:4463: SettingWithCopyWarning: \n",
      "A value is trying to be set on a copy of a slice from a DataFrame\n",
      "\n",
      "See the caveats in the documentation: https://pandas.pydata.org/pandas-docs/stable/user_guide/indexing.html#returning-a-view-versus-a-copy\n",
      "  return super().fillna(\n",
      "/tmp/ipykernel_436305/3294319364.py:3: SettingWithCopyWarning: \n",
      "A value is trying to be set on a copy of a slice from a DataFrame.\n",
      "Try using .loc[row_indexer,col_indexer] = value instead\n",
      "\n",
      "See the caveats in the documentation: https://pandas.pydata.org/pandas-docs/stable/user_guide/indexing.html#returning-a-view-versus-a-copy\n",
      "  df_whole['concat_information']=df_whole['name'].astype(str)#+df_whole['description'].astype(str)\n",
      "/home/bizer-tp2021/anaconda3/lib/python3.8/site-packages/pandas/core/frame.py:4308: SettingWithCopyWarning: \n",
      "A value is trying to be set on a copy of a slice from a DataFrame\n",
      "\n",
      "See the caveats in the documentation: https://pandas.pydata.org/pandas-docs/stable/user_guide/indexing.html#returning-a-view-versus-a-copy\n",
      "  return super().drop(\n"
     ]
    }
   ],
   "source": [
    "# fill emtpy values for description and the concat name and description\n",
    "df_whole.description.fillna(value=',', inplace=True)\n",
    "df_whole['concat_information']=df_whole['name'].astype(str)#+df_whole['description'].astype(str)\n",
    "df_whole.drop(columns=['name','description'],inplace= True)"
   ]
  },
  {
   "cell_type": "code",
   "execution_count": 17,
   "metadata": {
    "scrolled": true
   },
   "outputs": [
    {
     "name": "stderr",
     "output_type": "stream",
     "text": [
      "/tmp/ipykernel_436305/256944513.py:2: SettingWithCopyWarning: \n",
      "A value is trying to be set on a copy of a slice from a DataFrame.\n",
      "Try using .loc[row_indexer,col_indexer] = value instead\n",
      "\n",
      "See the caveats in the documentation: https://pandas.pydata.org/pandas-docs/stable/user_guide/indexing.html#returning-a-view-versus-a-copy\n",
      "  df_whole['concat_information'] = df_whole['concat_information'].apply(lambda row: row.lower())\n",
      "/tmp/ipykernel_436305/256944513.py:3: SettingWithCopyWarning: \n",
      "A value is trying to be set on a copy of a slice from a DataFrame.\n",
      "Try using .loc[row_indexer,col_indexer] = value instead\n",
      "\n",
      "See the caveats in the documentation: https://pandas.pydata.org/pandas-docs/stable/user_guide/indexing.html#returning-a-view-versus-a-copy\n",
      "  df_whole['tokens'] = df_whole['concat_information'].apply(lambda row: word_tokenize(row))\n",
      "/tmp/ipykernel_436305/256944513.py:4: SettingWithCopyWarning: \n",
      "A value is trying to be set on a copy of a slice from a DataFrame.\n",
      "Try using .loc[row_indexer,col_indexer] = value instead\n",
      "\n",
      "See the caveats in the documentation: https://pandas.pydata.org/pandas-docs/stable/user_guide/indexing.html#returning-a-view-versus-a-copy\n",
      "  df_whole['tokens'] = remove_stopwords(df_whole['tokens'],stopwords.words())\n",
      "/tmp/ipykernel_436305/256944513.py:5: SettingWithCopyWarning: \n",
      "A value is trying to be set on a copy of a slice from a DataFrame.\n",
      "Try using .loc[row_indexer,col_indexer] = value instead\n",
      "\n",
      "See the caveats in the documentation: https://pandas.pydata.org/pandas-docs/stable/user_guide/indexing.html#returning-a-view-versus-a-copy\n",
      "  df_whole['tokens'] = remove_punctuation (df_whole['tokens'])\n"
     ]
    }
   ],
   "source": [
    "#clean concated description column to use tf-idf \n",
    "df_whole['concat_information'] = df_whole['concat_information'].apply(lambda row: row.lower())\n",
    "df_whole['tokens'] = df_whole['concat_information'].apply(lambda row: word_tokenize(row))\n",
    "df_whole['tokens'] = remove_stopwords(df_whole['tokens'],stopwords.words())\n",
    "df_whole['tokens'] = remove_punctuation (df_whole['tokens'])\n",
    "df_whole.drop(columns=['concat_information'],inplace=True)"
   ]
  },
  {
   "cell_type": "code",
   "execution_count": 18,
   "metadata": {},
   "outputs": [],
   "source": [
    "#define vectorizer to match preprocessed tokes for term frequency\n",
    "def dummy(doc):\n",
    "    return doc\n",
    "\n",
    "vectorizer  = CountVectorizer(\n",
    "        tokenizer=dummy,\n",
    "        preprocessor=dummy,\n",
    "        max_features=15000)  \n",
    "tf_value = vectorizer.fit_transform(df_whole['tokens'])"
   ]
  },
  {
   "cell_type": "code",
   "execution_count": 19,
   "metadata": {},
   "outputs": [],
   "source": [
    "df_tf = pd.DataFrame(tf_value.toarray(), columns=vectorizer.get_feature_names())\n",
    "df_prepared = pd.concat([df_whole, df_tf], axis=1)"
   ]
  },
  {
   "cell_type": "code",
   "execution_count": 20,
   "metadata": {},
   "outputs": [],
   "source": [
    "df_train = df_prepared[df_prepared['table_id'].isin(zip_files_train)].reset_index()\n",
    "df_target_train = df_train['cluster_id']\n",
    "df_train.drop(columns=['cluster_id','table_id','tokens'],inplace= True)"
   ]
  },
  {
   "cell_type": "code",
   "execution_count": 21,
   "metadata": {},
   "outputs": [],
   "source": [
    "df_test = df_prepared[df_prepared['table_id'].isin(zip_files_test)].reset_index()\n",
    "df_target_test = df_test['cluster_id']\n",
    "df_test.drop(columns=['cluster_id','table_id','tokens'],inplace= True)"
   ]
  },
  {
   "cell_type": "code",
   "execution_count": 22,
   "metadata": {},
   "outputs": [
    {
     "name": "stdout",
     "output_type": "stream",
     "text": [
      "The F1-Score micro on test set: 0.8122\n",
      "The F1-Score macro on test set: 0.7295\n",
      "The Precision on test set: 0.8122\n",
      "The Recall on test set: 0.8122\n",
      "The Precision macro on test set: 0.7751\n",
      "The Recall macro on test set: 0.7365\n",
      "The Accuracy-Score on test set: 0.8122\n"
     ]
    },
    {
     "name": "stderr",
     "output_type": "stream",
     "text": [
      "/home/bizer-tp2021/anaconda3/lib/python3.8/site-packages/sklearn/metrics/_classification.py:1245: UndefinedMetricWarning: Precision is ill-defined and being set to 0.0 in labels with no predicted samples. Use `zero_division` parameter to control this behavior.\n",
      "  _warn_prf(average, modifier, msg_start, len(result))\n",
      "/home/bizer-tp2021/anaconda3/lib/python3.8/site-packages/sklearn/metrics/_classification.py:1245: UndefinedMetricWarning: Recall is ill-defined and being set to 0.0 in labels with no true samples. Use `zero_division` parameter to control this behavior.\n",
      "  _warn_prf(average, modifier, msg_start, len(result))\n"
     ]
    }
   ],
   "source": [
    "# Baseline random forest\n",
    "rf = RandomForestClassifier()\n",
    "rf.fit(df_train,df_target_train)\n",
    "prediction = rf.predict(df_test) \n",
    "f1_mic = f1_score(df_target_test,prediction,average='micro')\n",
    "f1_mac = f1_score(df_target_test,prediction,average='macro')\n",
    "accuracy = accuracy_score(df_target_test,prediction) \n",
    "precision = precision_score(df_target_test,prediction,average='micro') \n",
    "recall = recall_score(df_target_test,prediction,average='micro') \n",
    "precision_mac = precision_score(df_target_test,prediction,average='macro') \n",
    "recall_mac = recall_score(df_target_test,prediction,average='macro') \n",
    "print(\"The F1-Score micro on test set: {:.4f}\".format(f1_mic))\n",
    "print(\"The F1-Score macro on test set: {:.4f}\".format(f1_mac))\n",
    "print(\"The Precision on test set: {:.4f}\".format(precision))\n",
    "print(\"The Recall on test set: {:.4f}\".format(recall))\n",
    "print(\"The Precision macro on test set: {:.4f}\".format(precision_mac))\n",
    "print(\"The Recall macro on test set: {:.4f}\".format(recall_mac))\n",
    "print(\"The Accuracy-Score on test set: {:.4f}\".format(accuracy))"
   ]
  },
  {
   "cell_type": "markdown",
   "metadata": {},
   "source": [
    "### Combine tf-idf and tf vector based features"
   ]
  },
  {
   "cell_type": "code",
   "execution_count": 23,
   "metadata": {},
   "outputs": [],
   "source": [
    "#filter down the dataframe\n",
    "df_whole = all_filtered_tables_df[['name','description','cluster_id','table_id']]"
   ]
  },
  {
   "cell_type": "code",
   "execution_count": 24,
   "metadata": {},
   "outputs": [
    {
     "name": "stderr",
     "output_type": "stream",
     "text": [
      "/home/bizer-tp2021/anaconda3/lib/python3.8/site-packages/pandas/core/series.py:4463: SettingWithCopyWarning: \n",
      "A value is trying to be set on a copy of a slice from a DataFrame\n",
      "\n",
      "See the caveats in the documentation: https://pandas.pydata.org/pandas-docs/stable/user_guide/indexing.html#returning-a-view-versus-a-copy\n",
      "  return super().fillna(\n",
      "/tmp/ipykernel_436305/3294319364.py:3: SettingWithCopyWarning: \n",
      "A value is trying to be set on a copy of a slice from a DataFrame.\n",
      "Try using .loc[row_indexer,col_indexer] = value instead\n",
      "\n",
      "See the caveats in the documentation: https://pandas.pydata.org/pandas-docs/stable/user_guide/indexing.html#returning-a-view-versus-a-copy\n",
      "  df_whole['concat_information']=df_whole['name'].astype(str)#+df_whole['description'].astype(str)\n",
      "/home/bizer-tp2021/anaconda3/lib/python3.8/site-packages/pandas/core/frame.py:4308: SettingWithCopyWarning: \n",
      "A value is trying to be set on a copy of a slice from a DataFrame\n",
      "\n",
      "See the caveats in the documentation: https://pandas.pydata.org/pandas-docs/stable/user_guide/indexing.html#returning-a-view-versus-a-copy\n",
      "  return super().drop(\n"
     ]
    }
   ],
   "source": [
    "# fill emtpy values for description and the concat name and description\n",
    "df_whole.description.fillna(value=',', inplace=True)\n",
    "df_whole['concat_information']=df_whole['name'].astype(str)#+df_whole['description'].astype(str)\n",
    "df_whole.drop(columns=['name','description'],inplace= True)"
   ]
  },
  {
   "cell_type": "code",
   "execution_count": 25,
   "metadata": {
    "scrolled": true
   },
   "outputs": [
    {
     "name": "stderr",
     "output_type": "stream",
     "text": [
      "/tmp/ipykernel_436305/256944513.py:2: SettingWithCopyWarning: \n",
      "A value is trying to be set on a copy of a slice from a DataFrame.\n",
      "Try using .loc[row_indexer,col_indexer] = value instead\n",
      "\n",
      "See the caveats in the documentation: https://pandas.pydata.org/pandas-docs/stable/user_guide/indexing.html#returning-a-view-versus-a-copy\n",
      "  df_whole['concat_information'] = df_whole['concat_information'].apply(lambda row: row.lower())\n",
      "/tmp/ipykernel_436305/256944513.py:3: SettingWithCopyWarning: \n",
      "A value is trying to be set on a copy of a slice from a DataFrame.\n",
      "Try using .loc[row_indexer,col_indexer] = value instead\n",
      "\n",
      "See the caveats in the documentation: https://pandas.pydata.org/pandas-docs/stable/user_guide/indexing.html#returning-a-view-versus-a-copy\n",
      "  df_whole['tokens'] = df_whole['concat_information'].apply(lambda row: word_tokenize(row))\n",
      "/tmp/ipykernel_436305/256944513.py:4: SettingWithCopyWarning: \n",
      "A value is trying to be set on a copy of a slice from a DataFrame.\n",
      "Try using .loc[row_indexer,col_indexer] = value instead\n",
      "\n",
      "See the caveats in the documentation: https://pandas.pydata.org/pandas-docs/stable/user_guide/indexing.html#returning-a-view-versus-a-copy\n",
      "  df_whole['tokens'] = remove_stopwords(df_whole['tokens'],stopwords.words())\n",
      "/tmp/ipykernel_436305/256944513.py:5: SettingWithCopyWarning: \n",
      "A value is trying to be set on a copy of a slice from a DataFrame.\n",
      "Try using .loc[row_indexer,col_indexer] = value instead\n",
      "\n",
      "See the caveats in the documentation: https://pandas.pydata.org/pandas-docs/stable/user_guide/indexing.html#returning-a-view-versus-a-copy\n",
      "  df_whole['tokens'] = remove_punctuation (df_whole['tokens'])\n"
     ]
    }
   ],
   "source": [
    "#clean concated description column to use tf-idf \n",
    "df_whole['concat_information'] = df_whole['concat_information'].apply(lambda row: row.lower())\n",
    "df_whole['tokens'] = df_whole['concat_information'].apply(lambda row: word_tokenize(row))\n",
    "df_whole['tokens'] = remove_stopwords(df_whole['tokens'],stopwords.words())\n",
    "df_whole['tokens'] = remove_punctuation (df_whole['tokens'])\n",
    "df_whole.drop(columns=['concat_information'],inplace=True)"
   ]
  },
  {
   "cell_type": "code",
   "execution_count": 26,
   "metadata": {},
   "outputs": [],
   "source": [
    "#define vectorizer to match preprocessed tokes for term frequency\n",
    "def dummy(doc):\n",
    "    return doc\n",
    "\n",
    "vectorizer  = CountVectorizer(\n",
    "        tokenizer=dummy,\n",
    "        preprocessor=dummy,\n",
    "        max_features=15000)  \n",
    "tf_value = vectorizer.fit_transform(df_whole['tokens'])"
   ]
  },
  {
   "cell_type": "code",
   "execution_count": 27,
   "metadata": {},
   "outputs": [],
   "source": [
    "#define vectorizer to match preprocessed tokes\n",
    "def dummy_fun(doc):\n",
    "    return doc\n",
    "\n",
    "tfidf = TfidfVectorizer(\n",
    "    analyzer='word',\n",
    "    tokenizer=dummy_fun,\n",
    "    preprocessor=dummy_fun,\n",
    "    token_pattern=None,\n",
    "    max_features=15000)  \n",
    "tfidf_value = tfidf.fit_transform(df_whole['tokens'])"
   ]
  },
  {
   "cell_type": "code",
   "execution_count": 28,
   "metadata": {},
   "outputs": [],
   "source": [
    "df_tf = pd.DataFrame(tf_value.toarray(), columns=vectorizer.get_feature_names())\n",
    "df_tfidf = pd.DataFrame(tfidf_value.toarray(), columns=tfidf.get_feature_names())\n",
    "df_prepared = pd.concat([df_whole, df_tfidf, df_tf], axis=1)"
   ]
  },
  {
   "cell_type": "code",
   "execution_count": 29,
   "metadata": {},
   "outputs": [],
   "source": [
    "df_train = df_prepared[df_prepared['table_id'].isin(zip_files_train)].reset_index()\n",
    "df_target_train = df_train['cluster_id']\n",
    "df_train.drop(columns=['cluster_id','table_id','tokens'],inplace= True)"
   ]
  },
  {
   "cell_type": "code",
   "execution_count": 30,
   "metadata": {},
   "outputs": [],
   "source": [
    "df_test = df_prepared[df_prepared['table_id'].isin(zip_files_test)].reset_index()\n",
    "df_target_test = df_test['cluster_id']\n",
    "df_test.drop(columns=['cluster_id','table_id','tokens'],inplace= True)"
   ]
  },
  {
   "cell_type": "code",
   "execution_count": 31,
   "metadata": {},
   "outputs": [
    {
     "name": "stdout",
     "output_type": "stream",
     "text": [
      "The F1-Score micro on test set: 0.8163\n",
      "The F1-Score macro on test set: 0.7417\n",
      "The Precision on test set: 0.8163\n",
      "The Recall on test set: 0.8163\n",
      "The Precision macro on test set: 0.7873\n",
      "The Recall macro on test set: 0.7462\n",
      "The Accuracy-Score on test set: 0.8163\n"
     ]
    },
    {
     "name": "stderr",
     "output_type": "stream",
     "text": [
      "/home/bizer-tp2021/anaconda3/lib/python3.8/site-packages/sklearn/metrics/_classification.py:1245: UndefinedMetricWarning: Precision is ill-defined and being set to 0.0 in labels with no predicted samples. Use `zero_division` parameter to control this behavior.\n",
      "  _warn_prf(average, modifier, msg_start, len(result))\n",
      "/home/bizer-tp2021/anaconda3/lib/python3.8/site-packages/sklearn/metrics/_classification.py:1245: UndefinedMetricWarning: Recall is ill-defined and being set to 0.0 in labels with no true samples. Use `zero_division` parameter to control this behavior.\n",
      "  _warn_prf(average, modifier, msg_start, len(result))\n"
     ]
    }
   ],
   "source": [
    "# Baseline random forest\n",
    "rf = RandomForestClassifier()\n",
    "rf.fit(df_train,df_target_train)\n",
    "prediction = rf.predict(df_test) \n",
    "f1_mic = f1_score(df_target_test,prediction,average='micro')\n",
    "f1_mac = f1_score(df_target_test,prediction,average='macro')\n",
    "accuracy = accuracy_score(df_target_test,prediction) \n",
    "precision = precision_score(df_target_test,prediction,average='micro') \n",
    "recall = recall_score(df_target_test,prediction,average='micro') \n",
    "precision_mac = precision_score(df_target_test,prediction,average='macro') \n",
    "recall_mac = recall_score(df_target_test,prediction,average='macro') \n",
    "print(\"The F1-Score micro on test set: {:.4f}\".format(f1_mic))\n",
    "print(\"The F1-Score macro on test set: {:.4f}\".format(f1_mac))\n",
    "print(\"The Precision on test set: {:.4f}\".format(precision))\n",
    "print(\"The Recall on test set: {:.4f}\".format(recall))\n",
    "print(\"The Precision macro on test set: {:.4f}\".format(precision_mac))\n",
    "print(\"The Recall macro on test set: {:.4f}\".format(recall_mac))\n",
    "print(\"The Accuracy-Score on test set: {:.4f}\".format(accuracy))"
   ]
  }
 ],
 "metadata": {
  "kernelspec": {
   "display_name": "Python 3 (ipykernel)",
   "language": "python",
   "name": "python3"
  },
  "language_info": {
   "codemirror_mode": {
    "name": "ipython",
    "version": 3
   },
   "file_extension": ".py",
   "mimetype": "text/x-python",
   "name": "python",
   "nbconvert_exporter": "python",
   "pygments_lexer": "ipython3",
   "version": "3.8.8"
  }
 },
 "nbformat": 4,
 "nbformat_minor": 1
}