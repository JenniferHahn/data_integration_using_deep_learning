{
 "cells": [
  {
   "cell_type": "markdown",
   "id": "c0cbeb3b",
   "metadata": {},
   "source": [
    "# This notebook evaluates the predictions of the TinyBert Baseline output"
   ]
  },
  {
   "cell_type": "code",
   "execution_count": 1,
   "id": "fc2b3b68",
   "metadata": {},
   "outputs": [],
   "source": [
    "import pandas as pd\n",
    "from sklearn.metrics import f1_score\n",
    "import os"
   ]
  },
  {
   "cell_type": "code",
   "execution_count": 2,
   "id": "676dcbc9",
   "metadata": {},
   "outputs": [],
   "source": [
    "#get path information\n",
    "product_path = '../../../../src/data/product'\n",
    "train_test_all_filtered_path = os.path.join(product_path, 'train_test_split/output_unfiltered_tables/large/after_manual_checking/baselines')"
   ]
  },
  {
   "cell_type": "code",
   "execution_count": 3,
   "id": "1873fb39",
   "metadata": {},
   "outputs": [],
   "source": [
    "#load the TinyBert results\n",
    "res = pd.read_csv('TinyBert_Results/predict_results_None.txt', sep='\\t')\n",
    "res.drop('index', axis=1, inplace=True)"
   ]
  },
  {
   "cell_type": "code",
   "execution_count": 4,
   "id": "5229136e",
   "metadata": {},
   "outputs": [],
   "source": [
    "#load the test set\n",
    "real = pd.read_csv(os.path.join(train_test_all_filtered_path,'df_test.csv'))"
   ]
  },
  {
   "cell_type": "code",
   "execution_count": 16,
   "id": "aa4be28a",
   "metadata": {},
   "outputs": [
    {
     "data": {
      "text/plain": [
       "0.8329422806194275"
      ]
     },
     "execution_count": 16,
     "metadata": {},
     "output_type": "execute_result"
    }
   ],
   "source": [
    "#tinybert score\n",
    "f1_score(real.label, res.prediction, average='micro')"
   ]
  },
  {
   "cell_type": "code",
   "execution_count": 6,
   "id": "63948e57",
   "metadata": {},
   "outputs": [
    {
     "data": {
      "text/html": [
       "<div>\n",
       "<style scoped>\n",
       "    .dataframe tbody tr th:only-of-type {\n",
       "        vertical-align: middle;\n",
       "    }\n",
       "\n",
       "    .dataframe tbody tr th {\n",
       "        vertical-align: top;\n",
       "    }\n",
       "\n",
       "    .dataframe thead th {\n",
       "        text-align: right;\n",
       "    }\n",
       "</style>\n",
       "<table border=\"1\" class=\"dataframe\">\n",
       "  <thead>\n",
       "    <tr style=\"text-align: right;\">\n",
       "      <th></th>\n",
       "      <th>sentence1</th>\n",
       "      <th>label</th>\n",
       "    </tr>\n",
       "  </thead>\n",
       "  <tbody>\n",
       "    <tr>\n",
       "      <th>0</th>\n",
       "      <td>WD 2TB Elements Portable External Hard Drive -...</td>\n",
       "      <td>442</td>\n",
       "    </tr>\n",
       "    <tr>\n",
       "      <th>1</th>\n",
       "      <td>GoPro Head Strap + Quick Clip nan</td>\n",
       "      <td>591</td>\n",
       "    </tr>\n",
       "    <tr>\n",
       "      <th>2</th>\n",
       "      <td>GoPro 3 way grip Arm GoPro nan</td>\n",
       "      <td>245</td>\n",
       "    </tr>\n",
       "    <tr>\n",
       "      <th>3</th>\n",
       "      <td>Akérat Smoothing Exfoliating Cream &lt;p&gt;Targeted...</td>\n",
       "      <td>692</td>\n",
       "    </tr>\n",
       "    <tr>\n",
       "      <th>4</th>\n",
       "      <td>Moisturizing Self-Tanning Silky Gel &lt;p&gt;Non-gre...</td>\n",
       "      <td>223</td>\n",
       "    </tr>\n",
       "    <tr>\n",
       "      <th>...</th>\n",
       "      <td>...</td>\n",
       "      <td>...</td>\n",
       "    </tr>\n",
       "    <tr>\n",
       "      <th>10650</th>\n",
       "      <td>Apple Lightning to USB-C Cable (2m) Apple Ligh...</td>\n",
       "      <td>70</td>\n",
       "    </tr>\n",
       "    <tr>\n",
       "      <th>10651</th>\n",
       "      <td>Apple Lightning to VGA adapter Apple Lightning...</td>\n",
       "      <td>184</td>\n",
       "    </tr>\n",
       "    <tr>\n",
       "      <th>10652</th>\n",
       "      <td>Apple Lightning to Digital AV adapter Apple Li...</td>\n",
       "      <td>45</td>\n",
       "    </tr>\n",
       "    <tr>\n",
       "      <th>10653</th>\n",
       "      <td>Rolex Watches Oyster Perpetual GMT-Master II 1...</td>\n",
       "      <td>565</td>\n",
       "    </tr>\n",
       "    <tr>\n",
       "      <th>10654</th>\n",
       "      <td>Pendrive de 128 GB Kingston DTIG4 Memoria Flas...</td>\n",
       "      <td>54</td>\n",
       "    </tr>\n",
       "  </tbody>\n",
       "</table>\n",
       "<p>10655 rows × 2 columns</p>\n",
       "</div>"
      ],
      "text/plain": [
       "                                               sentence1  label\n",
       "0      WD 2TB Elements Portable External Hard Drive -...    442\n",
       "1                      GoPro Head Strap + Quick Clip nan    591\n",
       "2                         GoPro 3 way grip Arm GoPro nan    245\n",
       "3      Akérat Smoothing Exfoliating Cream <p>Targeted...    692\n",
       "4      Moisturizing Self-Tanning Silky Gel <p>Non-gre...    223\n",
       "...                                                  ...    ...\n",
       "10650  Apple Lightning to USB-C Cable (2m) Apple Ligh...     70\n",
       "10651  Apple Lightning to VGA adapter Apple Lightning...    184\n",
       "10652  Apple Lightning to Digital AV adapter Apple Li...     45\n",
       "10653  Rolex Watches Oyster Perpetual GMT-Master II 1...    565\n",
       "10654  Pendrive de 128 GB Kingston DTIG4 Memoria Flas...     54\n",
       "\n",
       "[10655 rows x 2 columns]"
      ]
     },
     "execution_count": 6,
     "metadata": {},
     "output_type": "execute_result"
    }
   ],
   "source": [
    "real"
   ]
  },
  {
   "cell_type": "code",
   "execution_count": 31,
   "id": "9157f13d",
   "metadata": {},
   "outputs": [
    {
     "data": {
      "text/plain": [
       "1410"
      ]
     },
     "execution_count": 31,
     "metadata": {},
     "output_type": "execute_result"
    }
   ],
   "source": [
    "real.label.nunique()"
   ]
  },
  {
   "cell_type": "code",
   "execution_count": 15,
   "id": "47546c5e",
   "metadata": {},
   "outputs": [
    {
     "data": {
      "text/plain": [
       "0        442\n",
       "1        591\n",
       "2        245\n",
       "3        570\n",
       "4        569\n",
       "        ... \n",
       "10650     70\n",
       "10651    184\n",
       "10652    648\n",
       "10653    565\n",
       "10654     54\n",
       "Name: prediction, Length: 10655, dtype: int64"
      ]
     },
     "execution_count": 15,
     "metadata": {},
     "output_type": "execute_result"
    }
   ],
   "source": [
    "res.prediction"
   ]
  },
  {
   "cell_type": "code",
   "execution_count": 10,
   "id": "683875a4",
   "metadata": {},
   "outputs": [],
   "source": [
    "final = pd.concat([real,res], axis=1)"
   ]
  },
  {
   "cell_type": "code",
   "execution_count": 13,
   "id": "3c7bc510",
   "metadata": {},
   "outputs": [
    {
     "data": {
      "text/plain": [
       "<pandas.core.groupby.generic.DataFrameGroupBy object at 0x7ffa30cc0b80>"
      ]
     },
     "execution_count": 13,
     "metadata": {},
     "output_type": "execute_result"
    }
   ],
   "source": [
    "final.groupby('label')"
   ]
  },
  {
   "cell_type": "code",
   "execution_count": 35,
   "id": "d3117677",
   "metadata": {},
   "outputs": [],
   "source": [
    "f1_scores = f1_score(real.label, res.prediction, average=None, labels=real.label)\n",
    "f1_scores_with_labels = {label:score for label,score in zip(real.label, f1_scores)}"
   ]
  },
  {
   "cell_type": "code",
   "execution_count": 43,
   "id": "90cb2007",
   "metadata": {},
   "outputs": [],
   "source": [
    "df_f1 = pd.DataFrame.from_dict(f1_scores_with_labels, orient=\"index\").reset_index().rename(columns={'index':'label',0:'f1'}).sort_values(by=['label'])"
   ]
  },
  {
   "cell_type": "code",
   "execution_count": 54,
   "id": "0e554094",
   "metadata": {},
   "outputs": [],
   "source": [
    "df_join_sentence = pd.merge(df_f1, real.drop_duplicates(subset=['label']), how=\"left\", on=[\"label\", \"label\"])"
   ]
  },
  {
   "cell_type": "code",
   "execution_count": 55,
   "id": "f8c3faa9",
   "metadata": {
    "scrolled": true
   },
   "outputs": [
    {
     "data": {
      "text/html": [
       "<div>\n",
       "<style scoped>\n",
       "    .dataframe tbody tr th:only-of-type {\n",
       "        vertical-align: middle;\n",
       "    }\n",
       "\n",
       "    .dataframe tbody tr th {\n",
       "        vertical-align: top;\n",
       "    }\n",
       "\n",
       "    .dataframe thead th {\n",
       "        text-align: right;\n",
       "    }\n",
       "</style>\n",
       "<table border=\"1\" class=\"dataframe\">\n",
       "  <thead>\n",
       "    <tr style=\"text-align: right;\">\n",
       "      <th></th>\n",
       "      <th>label</th>\n",
       "      <th>f1</th>\n",
       "      <th>sentence1</th>\n",
       "    </tr>\n",
       "  </thead>\n",
       "  <tbody>\n",
       "    <tr>\n",
       "      <th>0</th>\n",
       "      <td>0</td>\n",
       "      <td>1.000000</td>\n",
       "      <td>Canon EOS REBEL T7i Body EOS Rebel T7i The EOS...</td>\n",
       "    </tr>\n",
       "    <tr>\n",
       "      <th>1</th>\n",
       "      <td>1</td>\n",
       "      <td>0.500000</td>\n",
       "      <td>PHILIPS 24 LCD LED BACKLIGHT 1920X1080 VGA HDM...</td>\n",
       "    </tr>\n",
       "    <tr>\n",
       "      <th>2</th>\n",
       "      <td>2</td>\n",
       "      <td>1.000000</td>\n",
       "      <td>Ổ Cứng SSD SAMSUNG 970 PRO 512GB NVMe M.2 PCIe...</td>\n",
       "    </tr>\n",
       "    <tr>\n",
       "      <th>3</th>\n",
       "      <td>3</td>\n",
       "      <td>0.400000</td>\n",
       "      <td>Intel Core i9-9900X 3.5 GHz Ten-Core LGA 2066 ...</td>\n",
       "    </tr>\n",
       "    <tr>\n",
       "      <th>4</th>\n",
       "      <td>4</td>\n",
       "      <td>0.250000</td>\n",
       "      <td>Canon CL-38 Inkjet Cartridge Page Life 205pp 9...</td>\n",
       "    </tr>\n",
       "    <tr>\n",
       "      <th>...</th>\n",
       "      <td>...</td>\n",
       "      <td>...</td>\n",
       "      <td>...</td>\n",
       "    </tr>\n",
       "    <tr>\n",
       "      <th>1405</th>\n",
       "      <td>1405</td>\n",
       "      <td>1.000000</td>\n",
       "      <td>7.5 cu. ft. Smart Electric Dryer with Steam Sa...</td>\n",
       "    </tr>\n",
       "    <tr>\n",
       "      <th>1406</th>\n",
       "      <td>1406</td>\n",
       "      <td>1.000000</td>\n",
       "      <td>Kendal Slate Ambleside Beige KS01 Eastern CT F...</td>\n",
       "    </tr>\n",
       "    <tr>\n",
       "      <th>1407</th>\n",
       "      <td>1407</td>\n",
       "      <td>1.000000</td>\n",
       "      <td>Profiles Matte Cappuccino 0009 2 T and H Floor...</td>\n",
       "    </tr>\n",
       "    <tr>\n",
       "      <th>1408</th>\n",
       "      <td>1408</td>\n",
       "      <td>0.977778</td>\n",
       "      <td>5.9 cu. ft. Freestanding Electric Range with C...</td>\n",
       "    </tr>\n",
       "    <tr>\n",
       "      <th>1409</th>\n",
       "      <td>1409</td>\n",
       "      <td>0.857143</td>\n",
       "      <td>Xiaomi Redmi Note 7 Pro 6.3 inch 6GB RAM 128GB...</td>\n",
       "    </tr>\n",
       "  </tbody>\n",
       "</table>\n",
       "<p>1410 rows × 3 columns</p>\n",
       "</div>"
      ],
      "text/plain": [
       "      label        f1                                          sentence1\n",
       "0         0  1.000000  Canon EOS REBEL T7i Body EOS Rebel T7i The EOS...\n",
       "1         1  0.500000  PHILIPS 24 LCD LED BACKLIGHT 1920X1080 VGA HDM...\n",
       "2         2  1.000000  Ổ Cứng SSD SAMSUNG 970 PRO 512GB NVMe M.2 PCIe...\n",
       "3         3  0.400000  Intel Core i9-9900X 3.5 GHz Ten-Core LGA 2066 ...\n",
       "4         4  0.250000  Canon CL-38 Inkjet Cartridge Page Life 205pp 9...\n",
       "...     ...       ...                                                ...\n",
       "1405   1405  1.000000  7.5 cu. ft. Smart Electric Dryer with Steam Sa...\n",
       "1406   1406  1.000000  Kendal Slate Ambleside Beige KS01 Eastern CT F...\n",
       "1407   1407  1.000000  Profiles Matte Cappuccino 0009 2 T and H Floor...\n",
       "1408   1408  0.977778  5.9 cu. ft. Freestanding Electric Range with C...\n",
       "1409   1409  0.857143  Xiaomi Redmi Note 7 Pro 6.3 inch 6GB RAM 128GB...\n",
       "\n",
       "[1410 rows x 3 columns]"
      ]
     },
     "execution_count": 55,
     "metadata": {},
     "output_type": "execute_result"
    }
   ],
   "source": [
    "df_join_sentence"
   ]
  },
  {
   "cell_type": "code",
   "execution_count": 60,
   "id": "396eb1dc",
   "metadata": {},
   "outputs": [],
   "source": [
    "pd.set_option(\"max_colwidth\", 100)\n",
    "pd.set_option('display.max_rows', None)"
   ]
  },
  {
   "cell_type": "code",
   "execution_count": 69,
   "id": "b265b6d1",
   "metadata": {},
   "outputs": [
    {
     "data": {
      "text/plain": [
       "101"
      ]
     },
     "execution_count": 69,
     "metadata": {},
     "output_type": "execute_result"
    }
   ],
   "source": [
    "len(df_join_sentence[df_join_sentence.f1==0.000000])"
   ]
  },
  {
   "cell_type": "code",
   "execution_count": 62,
   "id": "bf8e25d9",
   "metadata": {},
   "outputs": [
    {
     "data": {
      "text/html": [
       "<div>\n",
       "<style scoped>\n",
       "    .dataframe tbody tr th:only-of-type {\n",
       "        vertical-align: middle;\n",
       "    }\n",
       "\n",
       "    .dataframe tbody tr th {\n",
       "        vertical-align: top;\n",
       "    }\n",
       "\n",
       "    .dataframe thead th {\n",
       "        text-align: right;\n",
       "    }\n",
       "</style>\n",
       "<table border=\"1\" class=\"dataframe\">\n",
       "  <thead>\n",
       "    <tr style=\"text-align: right;\">\n",
       "      <th></th>\n",
       "      <th>sentence1</th>\n",
       "      <th>label</th>\n",
       "    </tr>\n",
       "  </thead>\n",
       "  <tbody>\n",
       "    <tr>\n",
       "      <th>2439</th>\n",
       "      <td>Ổ Cứng SSD SAMSUNG 970 PRO 512GB NVMe M.2 PCIe Gen 3 x4 512MB Cache (MZ-V7P512BW) Nâng cao hiệu ...</td>\n",
       "      <td>2</td>\n",
       "    </tr>\n",
       "    <tr>\n",
       "      <th>4671</th>\n",
       "      <td>Samsung 970 PRO 512GB MZ-V7P512BW Disco Solido SSD, M.2 2280, PCIe 3.0 x4 NVMe, 512GB, controlad...</td>\n",
       "      <td>2</td>\n",
       "    </tr>\n",
       "    <tr>\n",
       "      <th>5378</th>\n",
       "      <td>Samsung 512GB 970 Pro NVMe M.2 MZ-V7P512BW Kapasite: 512GBOkuma/Yazma: 3500MB/s / 2300MB/sArabir...</td>\n",
       "      <td>2</td>\n",
       "    </tr>\n",
       "    <tr>\n",
       "      <th>6647</th>\n",
       "      <td>Samsung 970 PRO 512GB - NVMe PCIe M.2 2280 SSD | MZ-V7P512BW Experience the best. For intensive ...</td>\n",
       "      <td>2</td>\n",
       "    </tr>\n",
       "    <tr>\n",
       "      <th>9484</th>\n",
       "      <td>Samsung 970 PRO 512 Go SSD M.2 - PCI-Express 3.0 NVMe - Contrôleur Samsung Phoenix - Lecture max...</td>\n",
       "      <td>2</td>\n",
       "    </tr>\n",
       "  </tbody>\n",
       "</table>\n",
       "</div>"
      ],
      "text/plain": [
       "                                                                                                sentence1  \\\n",
       "2439  Ổ Cứng SSD SAMSUNG 970 PRO 512GB NVMe M.2 PCIe Gen 3 x4 512MB Cache (MZ-V7P512BW) Nâng cao hiệu ...   \n",
       "4671  Samsung 970 PRO 512GB MZ-V7P512BW Disco Solido SSD, M.2 2280, PCIe 3.0 x4 NVMe, 512GB, controlad...   \n",
       "5378  Samsung 512GB 970 Pro NVMe M.2 MZ-V7P512BW Kapasite: 512GBOkuma/Yazma: 3500MB/s / 2300MB/sArabir...   \n",
       "6647  Samsung 970 PRO 512GB - NVMe PCIe M.2 2280 SSD | MZ-V7P512BW Experience the best. For intensive ...   \n",
       "9484  Samsung 970 PRO 512 Go SSD M.2 - PCI-Express 3.0 NVMe - Contrôleur Samsung Phoenix - Lecture max...   \n",
       "\n",
       "      label  \n",
       "2439      2  \n",
       "4671      2  \n",
       "5378      2  \n",
       "6647      2  \n",
       "9484      2  "
      ]
     },
     "execution_count": 62,
     "metadata": {},
     "output_type": "execute_result"
    }
   ],
   "source": [
    "real[real.label==2]"
   ]
  },
  {
   "cell_type": "code",
   "execution_count": 74,
   "id": "26ff3eab",
   "metadata": {},
   "outputs": [],
   "source": [
    "pd.merge(real, df_f1, how=\"left\", on=[\"label\", \"label\"]).sort_values(by=['label']).to_excel('f1_per_cluster_baseline.xlsx')"
   ]
  },
  {
   "cell_type": "code",
   "execution_count": null,
   "id": "dd0184a5",
   "metadata": {},
   "outputs": [],
   "source": []
  }
 ],
 "metadata": {
  "kernelspec": {
   "display_name": "Python 3 (ipykernel)",
   "language": "python",
   "name": "python3"
  },
  "language_info": {
   "codemirror_mode": {
    "name": "ipython",
    "version": 3
   },
   "file_extension": ".py",
   "mimetype": "text/x-python",
   "name": "python",
   "nbconvert_exporter": "python",
   "pygments_lexer": "ipython3",
   "version": "3.8.8"
  }
 },
 "nbformat": 4,
 "nbformat_minor": 5
}
