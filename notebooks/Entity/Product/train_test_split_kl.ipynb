{
 "cells": [
  {
   "cell_type": "code",
   "execution_count": 1,
   "id": "51ab17dd",
   "metadata": {},
   "outputs": [],
   "source": [
    "import pandas as pd\n",
    "import numpy as np\n",
    "import json\n",
    "import gzip\n",
    "import os\n",
    "import os.path\n",
    "from os import listdir\n",
    "import multiprocessing\n",
    "from tqdm import tqdm\n",
    "import mmap\n",
    "from multiprocessing import Pool\n",
    "import seaborn as sns\n",
    "import matplotlib.pyplot as plt\n",
    "import py_entitymatching as em\n",
    "import py_stringmatching as sm\n",
    "import scipy\n",
    "from scipy.io import arff\n",
    "from sklearn import preprocessing\n",
    "#from sklearn.model_selection import train_test_split\n",
    "from skmultilearn.model_selection import iterative_train_test_split\n",
    "from iterstrat.ml_stratifiers import MultilabelStratifiedShuffleSplit"
   ]
  },
  {
   "cell_type": "code",
   "execution_count": 3,
   "id": "830e4f7e",
   "metadata": {},
   "outputs": [
    {
     "ename": "NameError",
     "evalue": "name 'path_parent' is not defined",
     "output_type": "error",
     "traceback": [
      "\u001b[0;31m---------------------------------------------------------------------------\u001b[0m",
      "\u001b[0;31mNameError\u001b[0m                                 Traceback (most recent call last)",
      "\u001b[0;32m/tmp/ipykernel_1817348/4137250706.py\u001b[0m in \u001b[0;36m<module>\u001b[0;34m\u001b[0m\n\u001b[1;32m      1\u001b[0m \u001b[0mproduct_path\u001b[0m \u001b[0;34m=\u001b[0m \u001b[0;34m'../../src/data/product'\u001b[0m\u001b[0;34m\u001b[0m\u001b[0;34m\u001b[0m\u001b[0m\n\u001b[1;32m      2\u001b[0m \u001b[0mcluster_path\u001b[0m \u001b[0;34m=\u001b[0m \u001b[0mos\u001b[0m\u001b[0;34m.\u001b[0m\u001b[0mpath\u001b[0m\u001b[0;34m.\u001b[0m\u001b[0mjoin\u001b[0m\u001b[0;34m(\u001b[0m\u001b[0mproduct_path\u001b[0m\u001b[0;34m,\u001b[0m \u001b[0;34m'lspc2020_to_tablecorpus/Cleaned'\u001b[0m\u001b[0;34m)\u001b[0m\u001b[0;34m\u001b[0m\u001b[0;34m\u001b[0m\u001b[0m\n\u001b[0;32m----> 3\u001b[0;31m \u001b[0mnotebook_path\u001b[0m \u001b[0;34m=\u001b[0m \u001b[0mos\u001b[0m\u001b[0;34m.\u001b[0m\u001b[0mpath\u001b[0m\u001b[0;34m.\u001b[0m\u001b[0mjoin\u001b[0m\u001b[0;34m(\u001b[0m\u001b[0mpath_parent\u001b[0m\u001b[0;34m,\u001b[0m\u001b[0;34m'notebooks'\u001b[0m\u001b[0;34m)\u001b[0m\u001b[0;34m\u001b[0m\u001b[0;34m\u001b[0m\u001b[0m\n\u001b[0m",
      "\u001b[0;31mNameError\u001b[0m: name 'path_parent' is not defined"
     ]
    }
   ],
   "source": [
    "product_path = '../../src/data/product'\n",
    "cluster_path = os.path.join(product_path, 'lspc2020_to_tablecorpus/Cleaned')\n",
    "notebook_path = os.path.join(path_parent,'notebooks')"
   ]
  },
  {
   "cell_type": "code",
   "execution_count": 10,
   "id": "f6eb6a64",
   "metadata": {},
   "outputs": [],
   "source": [
    "'''\n",
    "entities = ['Bikes', 'Cars', 'Clothes', 'Drugstore', 'Electronics', 'Technology', 'Tools', 'Random']\n",
    "count = 0\n",
    "for entity in entities:\n",
    "    df_category1 = pd.read_csv(os.path.join(mapping_corpus_path_2,\n",
    "                                            '{}_clusters_all_8_tables_post_processed_lower_threshold.csv'.format(\n",
    "                                                entity)))\n",
    "    df_category1['category'] = entity.lower()\n",
    "    if count == 0:\n",
    "        df_concat = df_category1\n",
    "    if count > 0:\n",
    "        df_concat = pd.concat([df_category1, df_category2]).drop(columns=['Unnamed: 0', 'Unnamed: 0.1', 'Valid'])\n",
    "    df_category2 = df_concat\n",
    "    count += 1\n",
    "    \n",
    "df_concat\n",
    "'''"
   ]
  },
  {
   "cell_type": "code",
   "execution_count": 13,
   "id": "73125f26",
   "metadata": {},
   "outputs": [],
   "source": [
    "#unique_clusters_df = pd.read_excel(os.path.join(original_notebook_path, 'Final_lower threshold.xlsx'))"
   ]
  },
  {
   "cell_type": "code",
   "execution_count": 19,
   "id": "22ddb3f6",
   "metadata": {},
   "outputs": [],
   "source": [
    "#unique_clusters = unique_clusters_df['cluster_id'].to_list()"
   ]
  },
  {
   "cell_type": "code",
   "execution_count": 22,
   "id": "7b447b8b",
   "metadata": {},
   "outputs": [],
   "source": [
    "#df_all = df_concat[df_concat['cluster_id'].isin(unique_clusters)]\n",
    "#df_all"
   ]
  },
  {
   "cell_type": "code",
   "execution_count": 26,
   "id": "1bf32442",
   "metadata": {},
   "outputs": [],
   "source": [
    "'''\n",
    "product_target = df_all['cluster_id']\n",
    "product_data = df_all.drop(columns='cluster_id')\n",
    "\n",
    "# create the train/test split\n",
    "data_train, data_test, target_train, target_test = train_test_split(product_data, product_target, test_size=0.3, random_state=42, stratify=product_target)\n",
    "'''"
   ]
  },
  {
   "cell_type": "code",
   "execution_count": null,
   "id": "9866bd8a",
   "metadata": {},
   "outputs": [],
   "source": [
    "entities = ['Bikes', 'Cars', 'Clothes', 'Drugstore', 'Electronics', 'Technology', 'Tools', 'Random']\n",
    "for entity in entities:\n",
    "    df_category = pd.read_csv(os.path.join(cluster_path,\n",
    "                                                '{}_clusters_all_8_tables_post_processed_lower_threshold.csv'.format(\n",
    "                                                    entity)))"
   ]
  }
 ],
 "metadata": {
  "kernelspec": {
   "display_name": "Python 3 (ipykernel)",
   "language": "python",
   "name": "python3"
  },
  "language_info": {
   "codemirror_mode": {
    "name": "ipython",
    "version": 3
   },
   "file_extension": ".py",
   "mimetype": "text/x-python",
   "name": "python",
   "nbconvert_exporter": "python",
   "pygments_lexer": "ipython3",
   "version": "3.8.8"
  }
 },
 "nbformat": 4,
 "nbformat_minor": 5
}
