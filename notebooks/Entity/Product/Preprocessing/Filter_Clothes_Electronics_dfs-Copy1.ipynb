{
 "cells": [
  {
   "cell_type": "code",
   "execution_count": 1,
   "id": "1c6dbea9",
   "metadata": {},
   "outputs": [],
   "source": [
    "import pandas as pd\n",
    "import json \n",
    "import gzip\n",
    "import os"
   ]
  },
  {
   "cell_type": "code",
   "execution_count": 2,
   "id": "c2064631",
   "metadata": {},
   "outputs": [],
   "source": [
    "data_path = '../src/data'\n",
    "mapping_corpus_path_2 = data_path + r'/product/lspc2020_to_tablecorpus/Cleaned'\n",
    "notebook_path = '../notebooks'"
   ]
  },
  {
   "cell_type": "code",
   "execution_count": null,
   "id": "aa247ee9",
   "metadata": {},
   "outputs": [],
   "source": [
    "cluster_df = pd.read_json(os.path.join(mapping_corpus_path_2, 'df_large_matched.json'), compression='gzip', orient='records', lines=True)"
   ]
  },
  {
   "cell_type": "code",
   "execution_count": null,
   "id": "ae650f8e",
   "metadata": {},
   "outputs": [],
   "source": [
    "electronics_final_entities_df = pd.read_csv(os.path.join(notebook_path, 'electronics_clusters_15_tables.csv'), index_col=None)\n",
    "electronics_final_entities_list = electronics_final_entities_df['cluster_id']"
   ]
  },
  {
   "cell_type": "code",
   "execution_count": null,
   "id": "92e4e986",
   "metadata": {},
   "outputs": [],
   "source": [
    "clothes_final_entities_df = pd.read_csv(os.path.join(notebook_path, 'clothes_clusters_10_tables.csv'), index_col=None)\n",
    "clothes_final_entities_list = clothes_final_entities_df['cluster_id']"
   ]
  },
  {
   "cell_type": "code",
   "execution_count": null,
   "id": "a7030984",
   "metadata": {},
   "outputs": [],
   "source": [
    "electronics_clusters_all_15_df = cluster_df[cluster_df['cluster_id'].isin(electronics_final_entities_list)]"
   ]
  },
  {
   "cell_type": "code",
   "execution_count": null,
   "id": "2723d93c",
   "metadata": {},
   "outputs": [],
   "source": [
    "clothes_clusters_all_10_df = cluster_df[cluster_df['cluster_id'].isin(clothes_final_entities_list)]"
   ]
  },
  {
   "cell_type": "code",
   "execution_count": null,
   "id": "c6ddba82",
   "metadata": {},
   "outputs": [],
   "source": [
    "electronics_clusters_all_15_df.to_csv(os.path.join(mapping_corpus_path_2, 'electronics_clusters_all_15_tables.csv'), columns=None)"
   ]
  },
  {
   "cell_type": "code",
   "execution_count": null,
   "id": "f61fb258",
   "metadata": {},
   "outputs": [],
   "source": [
    "clothes_clusters_all_10_df.to_csv(os.path.join(mapping_corpus_path_2, 'clothes_clusters_all_10_tables.csv'), columns=None)"
   ]
  }
 ],
 "metadata": {
  "kernelspec": {
   "display_name": "Python 3 (ipykernel)",
   "language": "python",
   "name": "python3"
  },
  "language_info": {
   "codemirror_mode": {
    "name": "ipython",
    "version": 3
   },
   "file_extension": ".py",
   "mimetype": "text/x-python",
   "name": "python",
   "nbconvert_exporter": "python",
   "pygments_lexer": "ipython3",
   "version": "3.8.8"
  }
 },
 "nbformat": 4,
 "nbformat_minor": 5
}
