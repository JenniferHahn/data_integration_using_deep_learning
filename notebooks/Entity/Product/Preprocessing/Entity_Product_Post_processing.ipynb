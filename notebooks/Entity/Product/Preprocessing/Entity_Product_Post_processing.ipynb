{
 "cells": [
  {
   "cell_type": "code",
   "execution_count": 1,
   "id": "organized-timber",
   "metadata": {},
   "outputs": [],
   "source": [
    "import pandas as pd\n",
    "import json \n",
    "import gzip\n",
    "import os\n",
    "\n",
    "import nltk\n",
    "from nltk.corpus import stopwords\n",
    "import string\n",
    "from gensim.models.doc2vec import Doc2Vec, TaggedDocument\n",
    "from nltk.tokenize import word_tokenize"
   ]
  },
  {
   "cell_type": "code",
   "execution_count": 2,
   "id": "unexpected-appraisal",
   "metadata": {},
   "outputs": [],
   "source": [
    "data_path = '../../../src/data'\n",
    "mapping_corpus_path_2 = data_path + r'/product/lspc2020_to_tablecorpus/Cleaned'\n",
    "notebook_path = '../notebooks'\n",
    "product_path = os.path.join(data_path, 'product')"
   ]
  },
  {
   "cell_type": "code",
   "execution_count": 3,
   "id": "civil-protection",
   "metadata": {},
   "outputs": [],
   "source": [
    "#cluster_df = pd.read_json(os.path.join(mapping_corpus_path_2, 'df_large_matched.json'), compression='gzip', orient='records', lines=True)\n",
    "#clothes_cluster_df = pd.read_json(os.path.join(mapping_corpus_path_2, 'joined_clothes_v3.json'), compression='gzip', orient='records', lines=True)\n",
    "#bikes_cluster_df = pd.read_json(os.path.join(mapping_corpus_path_2, 'joined_bikes.json'), compression='gzip', orient='records', lines=True)\n",
    "#cars_cluster_df = pd.read_json(os.path.join(mapping_corpus_path_2, 'joined_cars.json'), compression='gzip', orient='records', lines=True)\n",
    "#drugstore_cluster_df = pd.read_json(os.path.join(mapping_corpus_path_2, 'joined_drugstore.json'), compression='gzip', orient='records', lines=True)\n",
    "#electronics_cluster_df = pd.read_json(os.path.join(mapping_corpus_path_2, 'joined_electronics_v3.json'), compression='gzip', orient='records', lines=True)\n",
    "#technology_cluster_df = pd.read_json(os.path.join(mapping_corpus_path_2, 'joined_technology.json'), compression='gzip', orient='records', lines=True)\n",
    "tools_cluster_df = pd.read_json(os.path.join(mapping_corpus_path_2, 'joined_tools.json'), compression='gzip', orient='records', lines=True)\n",
    "#random_cluster_df = pd.read_json(os.path.join(mapping_corpus_path_2, 'joined_random.json'), compression='gzip', orient='records', lines=True)"
   ]
  },
  {
   "cell_type": "code",
   "execution_count": 4,
   "id": "individual-viewer",
   "metadata": {},
   "outputs": [],
   "source": [
    "clothes_final_entities_df = pd.read_csv(os.path.join(mapping_corpus_path_2, 'Clothes_cluster_8_tables.csv'), index_col=None)\n",
    "clothes_final_entities_list = clothes_final_entities_df['cluster_id']"
   ]
  },
  {
   "cell_type": "code",
   "execution_count": 4,
   "id": "d3439c90",
   "metadata": {},
   "outputs": [],
   "source": [
    "bikes_final_entities_df = pd.read_csv(os.path.join(mapping_corpus_path_2, 'Bikes_cluster_8_tables.csv'), index_col=None)\n",
    "bikes_final_entities_list = bikes_final_entities_df['cluster_id']"
   ]
  },
  {
   "cell_type": "code",
   "execution_count": 10,
   "id": "b3ec9566",
   "metadata": {},
   "outputs": [],
   "source": [
    "cars_final_entities_df = pd.read_csv(os.path.join(mapping_corpus_path_2, 'Cars_cluster_8_tables.csv'), index_col=None)\n",
    "cars_final_entities_list = cars_final_entities_df['cluster_id']"
   ]
  },
  {
   "cell_type": "code",
   "execution_count": 6,
   "id": "df12dc9d",
   "metadata": {},
   "outputs": [],
   "source": [
    "drugstore_final_entities_df = pd.read_csv(os.path.join(mapping_corpus_path_2, 'Drugstore_cluster_8_tables.csv'), index_col=None)\n",
    "drugstore_final_entities_list = drugstore_final_entities_df['cluster_id']"
   ]
  },
  {
   "cell_type": "code",
   "execution_count": 9,
   "id": "07014839",
   "metadata": {},
   "outputs": [],
   "source": [
    "electronics_final_entities_df = pd.read_csv(os.path.join(mapping_corpus_path_2, 'Electronics_cluster_8_tables.csv'), index_col=None)\n",
    "electronics_final_entities_list = electronics_final_entities_df['cluster_id']"
   ]
  },
  {
   "cell_type": "code",
   "execution_count": 13,
   "id": "825ca8bf",
   "metadata": {},
   "outputs": [],
   "source": [
    "technology_final_entities_df = pd.read_csv(os.path.join(mapping_corpus_path_2, 'Technology_cluster_8_tables.csv'), index_col=None)\n",
    "technology_final_entities_list = technology_final_entities_df['cluster_id']"
   ]
  },
  {
   "cell_type": "code",
   "execution_count": 4,
   "id": "8c35cded",
   "metadata": {},
   "outputs": [],
   "source": [
    "tools_final_entities_df = pd.read_csv(os.path.join(mapping_corpus_path_2, 'Tools_cluster_8_tables.csv'), index_col=None)\n",
    "tools_final_entities_list = tools_final_entities_df['cluster_id']"
   ]
  },
  {
   "cell_type": "code",
   "execution_count": 7,
   "id": "76e169a8",
   "metadata": {},
   "outputs": [],
   "source": [
    "random_final_entities_df = pd.read_csv(os.path.join(mapping_corpus_path_2, 'Random_cluster_8_tables.csv'), index_col=None)\n",
    "random_final_entities_list = random_final_entities_df['cluster_id']"
   ]
  },
  {
   "cell_type": "code",
   "execution_count": 5,
   "id": "enabling-rolling",
   "metadata": {},
   "outputs": [],
   "source": [
    "#clothes_clusters_all_8_df = clothes_cluster_df[clothes_cluster_df['cluster_id'].isin(clothes_final_entities_list)]\n",
    "#bikes_clusters_all_8_df = bikes_cluster_df[bikes_cluster_df['cluster_id'].isin(bikes_final_entities_list)]\n",
    "#cars_clusters_all_8_df = cars_cluster_df[cars_cluster_df['cluster_id'].isin(cars_final_entities_list)]\n",
    "#drugstore_clusters_all_8_df = drugstore_cluster_df[drugstore_cluster_df['cluster_id'].isin(drugstore_final_entities_list)]\n",
    "#electronics_clusters_all_8_df = electronics_cluster_df[electronics_cluster_df['cluster_id'].isin(electronics_final_entities_list)]\n",
    "#technology_clusters_all_8_df = technology_cluster_df[technology_cluster_df['cluster_id'].isin(technology_final_entities_list)]\n",
    "tools_clusters_all_8_df = tools_cluster_df[tools_cluster_df['cluster_id'].isin(tools_final_entities_list)]\n",
    "#random_clusters_all_8_df = random_cluster_df[random_cluster_df['cluster_id'].isin(random_final_entities_list)]\n",
    "\n",
    "#clothes_clusters_all_8_df.to_csv(os.path.join(mapping_corpus_path_2, 'Clothes_clusters_all_8_tables_v3.csv'), columns=None)\n",
    "#bikes_clusters_all_8_df.to_csv(os.path.join(mapping_corpus_path_2, 'Bikes_clusters_all_8_tables.csv'), columns=None)\n",
    "#cars_clusters_all_8_df.to_csv(os.path.join(mapping_corpus_path_2, 'Cars_clusters_all_8_tables.csv'), columns=None)\n",
    "#drugstore_clusters_all_8_df.to_csv(os.path.join(mapping_corpus_path_2, 'Drugstore_clusters_all_8_tables.csv'), columns=None)\n",
    "#electronics_clusters_all_8_df.to_csv(os.path.join(mapping_corpus_path_2, 'Electronics_clusters_all_8_tables.csv'), columns=None)\n",
    "#technology_clusters_all_8_df.to_csv(os.path.join(mapping_corpus_path_2, 'Technology_clusters_all_8_tables.csv'), columns=None)\n",
    "tools_clusters_all_8_df.to_csv(os.path.join(mapping_corpus_path_2, 'Tools_clusters_all_8_tables.csv'), columns=None)\n",
    "#random_clusters_all_8_df.to_csv(os.path.join(mapping_corpus_path_2, 'Random_clusters_all_8_tables.csv'), columns=None)"
   ]
  },
  {
   "cell_type": "markdown",
   "id": "interior-comedy",
   "metadata": {},
   "source": [
    "# Run from here"
   ]
  },
  {
   "cell_type": "code",
   "execution_count": 85,
   "id": "future-darwin",
   "metadata": {},
   "outputs": [],
   "source": [
    "def remove_stopwords(token_vector, stopwords_list):\n",
    "    return token_vector.apply(lambda token_list: [word for word in token_list if word not in stopwords_list])\n",
    "\n",
    "def remove_punctuation(token_vector):\n",
    "    return token_vector.apply(lambda token_list: [word for word in token_list if word not in string.punctuation])\n",
    "\n",
    "def jaccard_similarity_score(original, translation):\n",
    "    intersect = set(original).intersection(set(translation))\n",
    "    union = set(original).union(set(translation))\n",
    "    try:\n",
    "        return len(intersect) / len(union)\n",
    "    except ZeroDivisionError:\n",
    "        return 0"
   ]
  },
  {
   "cell_type": "code",
   "execution_count": 86,
   "id": "faced-stations",
   "metadata": {},
   "outputs": [],
   "source": [
    "# read final dataframes with all cluster_ids left for electronics and clothes\n",
    "electronics_clusters_all_15_df = pd.read_csv(os.path.join(mapping_corpus_path_2, 'electronics_clusters_all_10_tables.csv'), index_col=None)\n",
    "clothes_clusters_all_10_df = pd.read_csv(os.path.join(mapping_corpus_path_2, 'clothes_clusters_all_8_tables_v2.csv'), index_col=None)"
   ]
  },
  {
   "cell_type": "code",
   "execution_count": 87,
   "id": "specific-brown",
   "metadata": {},
   "outputs": [],
   "source": [
    "# generate lists for final cluster_ids for electronics and clothes\n",
    "electronics_final_entities_df = pd.read_csv(os.path.join(notebook_path, 'electronics10.csv'),index_col=None)\n",
    "electronics_final_entities_list = electronics_final_entities_df['cluster_id']\n",
    "\n",
    "clothes_final_entities_df = pd.read_csv(os.path.join(notebook_path, 'clothes8.csv'),index_col=None)\n",
    "clothes_final_entities_list = clothes_final_entities_df['cluster_id']"
   ]
  },
  {
   "cell_type": "code",
   "execution_count": 88,
   "id": "banned-drinking",
   "metadata": {},
   "outputs": [],
   "source": [
    "# generate lists for valid electronics and clothes brands\n",
    "with open(os.path.join(product_path, 'brands_dict.json'), 'r', encoding='utf-8') as f:\n",
    "    brands_dict = json.load(f)\n",
    "\n",
    "electronics_valid_brands = brands_dict['electronics_total']\n",
    "clothes_valid_brands = brands_dict['clothes']"
   ]
  },
  {
   "cell_type": "code",
   "execution_count": 89,
   "id": "cosmetic-stomach",
   "metadata": {},
   "outputs": [],
   "source": [
    "# lowercase name column for similarity measure\n",
    "electronics_clusters_all_15_df['name'] = electronics_clusters_all_15_df['name'].apply(lambda row: str(row).lower())\n",
    "clothes_clusters_all_10_df['name'] = clothes_clusters_all_10_df['name'].apply(lambda row: str(row).lower())"
   ]
  },
  {
   "cell_type": "code",
   "execution_count": 90,
   "id": "intelligent-chambers",
   "metadata": {},
   "outputs": [],
   "source": [
    "# use tokenizer for name column to get tokens for training the model, remove stopwords and punctuation\n",
    "electronics_clusters_all_15_df['tokens'] = electronics_clusters_all_15_df['name'].apply(lambda row: word_tokenize(row))\n",
    "electronics_clusters_all_15_df['tokens'] = remove_stopwords(electronics_clusters_all_15_df['tokens'], stopwords.words())\n",
    "electronics_clusters_all_15_df['tokens'] = remove_punctuation(electronics_clusters_all_15_df['tokens'])\n",
    "\n",
    "clothes_clusters_all_10_df['tokens'] = clothes_clusters_all_10_df['name'].apply(lambda row: word_tokenize(row))\n",
    "clothes_clusters_all_10_df['tokens'] = remove_stopwords(clothes_clusters_all_10_df['tokens'],stopwords.words())\n",
    "clothes_clusters_all_10_df['tokens'] = remove_punctuation(clothes_clusters_all_10_df['tokens'])"
   ]
  },
  {
   "cell_type": "code",
   "execution_count": 91,
   "id": "piano-pharmacology",
   "metadata": {},
   "outputs": [],
   "source": [
    "# get tagged words\n",
    "tagged_data_electronics = [TaggedDocument(words=_d, tags=[str(i)]) for i, _d in enumerate(electronics_clusters_all_15_df['tokens'])]\n",
    "tagged_data_clothes = [TaggedDocument(words=_d, tags=[str(i)]) for i, _d in enumerate(clothes_clusters_all_10_df['tokens'])]"
   ]
  },
  {
   "cell_type": "code",
   "execution_count": 92,
   "id": "alert-smoke",
   "metadata": {},
   "outputs": [],
   "source": [
    "# build model and vocabulary for electronics (do same for clothes later)\n",
    "model_electronics = Doc2Vec(vector_size=50, min_count=5, epochs=25, dm=0)\n",
    "model_electronics.build_vocab(tagged_data_electronics)\n",
    "# Train model\n",
    "model_electronics.train(tagged_data_electronics, total_examples=model_electronics.corpus_count, epochs=25)"
   ]
  },
  {
   "cell_type": "markdown",
   "id": "communist-jurisdiction",
   "metadata": {},
   "source": [
    "### Change index label for testing here"
   ]
  },
  {
   "cell_type": "code",
   "execution_count": 93,
   "id": "narrative-shirt",
   "metadata": {},
   "outputs": [],
   "source": [
    "electronics_single_cluster_id_df = electronics_clusters_all_15_df[electronics_clusters_all_15_df['cluster_id']==6443]"
   ]
  },
  {
   "cell_type": "code",
   "execution_count": 94,
   "id": "light-little",
   "metadata": {},
   "outputs": [
    {
     "data": {
      "text/plain": [
       "['canon']"
      ]
     },
     "execution_count": 94,
     "metadata": {},
     "output_type": "execute_result"
    }
   ],
   "source": [
    "valid_brands = list(filter(lambda brand: brand in electronics_valid_brands, electronics_single_cluster_id_df['brand'].apply(lambda element: str(element).lower())))\n",
    "valid_brands"
   ]
  },
  {
   "cell_type": "code",
   "execution_count": 95,
   "id": "devoted-president",
   "metadata": {},
   "outputs": [
    {
     "data": {
      "text/plain": [
       "'canon'"
      ]
     },
     "execution_count": 95,
     "metadata": {},
     "output_type": "execute_result"
    }
   ],
   "source": [
    "most_common_brand = max(valid_brands, key=valid_brands.count)\n",
    "most_common_brand"
   ]
  },
  {
   "cell_type": "code",
   "execution_count": 96,
   "id": "tribal-timber",
   "metadata": {},
   "outputs": [
    {
     "data": {
      "text/plain": [
       "12364"
      ]
     },
     "execution_count": 96,
     "metadata": {},
     "output_type": "execute_result"
    }
   ],
   "source": [
    "index_most_common = electronics_single_cluster_id_df[electronics_single_cluster_id_df['brand'].apply(lambda element: str(element).lower()) == most_common_brand].index[0]\n",
    "index_most_common"
   ]
  },
  {
   "cell_type": "code",
   "execution_count": 97,
   "id": "polished-advocacy",
   "metadata": {},
   "outputs": [
    {
     "data": {
      "text/plain": [
       "[('21566', 0.9851230382919312),\n",
       " ('3948', 0.8569894433021545),\n",
       " ('20010', 0.8507872819900513),\n",
       " ('25232', 0.8477321267127991),\n",
       " ('3836', 0.8462553024291992),\n",
       " ('23270', 0.8415756821632385),\n",
       " ('15601', 0.8415008187294006),\n",
       " ('2904', 0.8403884768486023),\n",
       " ('9752', 0.8388829827308655),\n",
       " ('4784', 0.8385568857192993),\n",
       " ('21195', 0.8344157934188843),\n",
       " ('6900', 0.831012487411499),\n",
       " ('20373', 0.8295968174934387),\n",
       " ('6153', 0.829455554485321),\n",
       " ('3329', 0.8289289474487305),\n",
       " ('25194', 0.8281686902046204),\n",
       " ('22589', 0.827642023563385),\n",
       " ('21642', 0.8270741701126099),\n",
       " ('20288', 0.8238865733146667),\n",
       " ('24369', 0.8164963126182556),\n",
       " ('6326', 0.7067199349403381),\n",
       " ('14616', 0.6413354277610779),\n",
       " ('19881', 0.1598285734653473),\n",
       " ('24100', -0.09242138266563416)]"
      ]
     },
     "execution_count": 97,
     "metadata": {},
     "output_type": "execute_result"
    }
   ],
   "source": [
    "similar_doc = model_electronics.docvecs.most_similar(f'{index_most_common}', topn=electronics_clusters_all_15_df.shape[0])\n",
    "similar_doc_cluster = [tup for tup in similar_doc if int(tup[0]) in list(electronics_single_cluster_id_df.index)]\n",
    "similar_doc_cluster"
   ]
  },
  {
   "cell_type": "code",
   "execution_count": 98,
   "id": "92e2b610",
   "metadata": {},
   "outputs": [
    {
     "data": {
      "text/plain": [
       "['21566',\n",
       " '3948',\n",
       " '20010',\n",
       " '25232',\n",
       " '3836',\n",
       " '23270',\n",
       " '15601',\n",
       " '2904',\n",
       " '9752',\n",
       " '4784',\n",
       " '21195',\n",
       " '6900',\n",
       " '20373',\n",
       " '6153',\n",
       " '3329',\n",
       " '25194',\n",
       " '22589',\n",
       " '21642',\n",
       " '20288',\n",
       " '24369',\n",
       " '6326',\n",
       " '14616',\n",
       " '19881',\n",
       " '24100']"
      ]
     },
     "execution_count": 98,
     "metadata": {},
     "output_type": "execute_result"
    }
   ],
   "source": [
    "similar_doc_cluster_indices = [tup[0] for tup in similar_doc_cluster]\n",
    "similar_doc_cluster_indices"
   ]
  },
  {
   "cell_type": "code",
   "execution_count": 99,
   "id": "cc1ef234",
   "metadata": {},
   "outputs": [],
   "source": [
    "similar_doc_cluster_df = pd.DataFrame(list(similar_doc_cluster), columns=['index','doc2vec'])"
   ]
  },
  {
   "cell_type": "code",
   "execution_count": 100,
   "id": "98e4da0a",
   "metadata": {},
   "outputs": [],
   "source": [
    "similar_doc_cluster_df['index'] = [int(i) for i in similar_doc_cluster_df['index']]"
   ]
  },
  {
   "cell_type": "code",
   "execution_count": 101,
   "id": "certain-bahamas",
   "metadata": {},
   "outputs": [
    {
     "data": {
      "text/plain": [
       "0.4815068542957306"
      ]
     },
     "execution_count": 101,
     "metadata": {},
     "output_type": "execute_result"
    }
   ],
   "source": [
    "similar_doc_cluster_similarities = [tup[1] for tup in similar_doc_cluster]\n",
    "similar_doc_cluster_distances = [abs(x - similar_doc_cluster_similarities[i - 1]) for i, x in enumerate(similar_doc_cluster_similarities)][1:]\n",
    "max_distance = max(similar_doc_cluster_distances)\n",
    "max_distance"
   ]
  },
  {
   "cell_type": "code",
   "execution_count": 102,
   "id": "coated-healing",
   "metadata": {},
   "outputs": [
    {
     "data": {
      "text/plain": [
       "21"
      ]
     },
     "execution_count": 102,
     "metadata": {},
     "output_type": "execute_result"
    }
   ],
   "source": [
    "max_distance_index = similar_doc_cluster_distances.index(max_distance)\n",
    "max_distance_index"
   ]
  },
  {
   "cell_type": "code",
   "execution_count": 103,
   "id": "impaired-deadline",
   "metadata": {},
   "outputs": [
    {
     "data": {
      "text/plain": [
       "2904           z-man games carcassonne 3 princess & dragon\n",
       "3329        earthbath ultra-mild wild cherry puppy shampoo\n",
       "3836                               eric javits phoenix hat\n",
       "3948           earthbath shampoing sans larmes pour chiots\n",
       "4784                 macallan carn mor 1989 26yo 42.5% abv\n",
       "6153          earthbath dog shampoo ultra-mild puppy, 16oz\n",
       "6326               earthbath ultra mild puppy shampoo 16oz\n",
       "6900                             star shaped lollipop mold\n",
       "9752                                     di2 ew-sd50 cable\n",
       "12364    canon eos r mirrorless digital camera with 24-...\n",
       "14616                            electric wire,200mm black\n",
       "15601                          hop cone crown caps - 12 pk\n",
       "19881                                     taproot magazine\n",
       "20010           four virtues bourbon barrel aged zinfandel\n",
       "20288               earthbath earthbath puppy shampoo 16oz\n",
       "20373                      shimano wire for di2 gear 20 cm\n",
       "21195           cocktail kingdom shaking tin - gold plated\n",
       "21566    canon eos r mirrorless camera with rf 24-105mm...\n",
       "21642       earthbath ultra-mild wild cherry puppy shampoo\n",
       "22589                   earth bath dog shampoo puppy 473ml\n",
       "23270                  earthbath puppy shampoo, 16 fl. oz.\n",
       "24100                              association/association\n",
       "24369    earthbath 472ml ultra-mild puppy shampoo wild ...\n",
       "25194                     echinacea premium - 200ml liquid\n",
       "25232           hp velotechnik scorpion fx 20 orange trike\n",
       "Name: name, dtype: object"
      ]
     },
     "execution_count": 103,
     "metadata": {},
     "output_type": "execute_result"
    }
   ],
   "source": [
    "electronics_single_cluster_id_df['name']"
   ]
  },
  {
   "cell_type": "code",
   "execution_count": 104,
   "id": "fifty-money",
   "metadata": {},
   "outputs": [
    {
     "data": {
      "text/plain": [
       "2904     0.500000\n",
       "3329     0.576923\n",
       "3836     0.423077\n",
       "3948     0.560000\n",
       "4784     0.400000\n",
       "6153     0.517241\n",
       "6326     0.464286\n",
       "6900     0.521739\n",
       "9752     0.565217\n",
       "12364    1.000000\n",
       "14616    0.480000\n",
       "15601    0.541667\n",
       "19881    0.416667\n",
       "20010    0.444444\n",
       "20288    0.357143\n",
       "20373    0.695652\n",
       "21195    0.625000\n",
       "21566    0.800000\n",
       "21642    0.576923\n",
       "22589    0.464286\n",
       "23270    0.354839\n",
       "24100    0.304348\n",
       "24369    0.629630\n",
       "25194    0.560000\n",
       "25232    0.555556\n",
       "Name: name, dtype: float64"
      ]
     },
     "execution_count": 104,
     "metadata": {},
     "output_type": "execute_result"
    }
   ],
   "source": [
    "jaccard_score = electronics_single_cluster_id_df['name'].apply(lambda row: jaccard_similarity_score(row,electronics_single_cluster_id_df['name'].loc[int(index_most_common)]))\n",
    "jaccard_score"
   ]
  },
  {
   "cell_type": "code",
   "execution_count": 105,
   "id": "bf089a6d",
   "metadata": {},
   "outputs": [],
   "source": [
    "jaccard_score_df = pd.DataFrame({'index':jaccard_score.index, 'jaccard':jaccard_score.values})"
   ]
  },
  {
   "cell_type": "code",
   "execution_count": 106,
   "id": "be0c8011",
   "metadata": {},
   "outputs": [
    {
     "data": {
      "text/html": [
       "<div>\n",
       "<style scoped>\n",
       "    .dataframe tbody tr th:only-of-type {\n",
       "        vertical-align: middle;\n",
       "    }\n",
       "\n",
       "    .dataframe tbody tr th {\n",
       "        vertical-align: top;\n",
       "    }\n",
       "\n",
       "    .dataframe thead th {\n",
       "        text-align: right;\n",
       "    }\n",
       "</style>\n",
       "<table border=\"1\" class=\"dataframe\">\n",
       "  <thead>\n",
       "    <tr style=\"text-align: right;\">\n",
       "      <th></th>\n",
       "      <th>index</th>\n",
       "      <th>jaccard</th>\n",
       "    </tr>\n",
       "  </thead>\n",
       "  <tbody>\n",
       "    <tr>\n",
       "      <th>0</th>\n",
       "      <td>2904</td>\n",
       "      <td>0.500000</td>\n",
       "    </tr>\n",
       "    <tr>\n",
       "      <th>1</th>\n",
       "      <td>3329</td>\n",
       "      <td>0.576923</td>\n",
       "    </tr>\n",
       "    <tr>\n",
       "      <th>2</th>\n",
       "      <td>3836</td>\n",
       "      <td>0.423077</td>\n",
       "    </tr>\n",
       "    <tr>\n",
       "      <th>3</th>\n",
       "      <td>3948</td>\n",
       "      <td>0.560000</td>\n",
       "    </tr>\n",
       "    <tr>\n",
       "      <th>4</th>\n",
       "      <td>4784</td>\n",
       "      <td>0.400000</td>\n",
       "    </tr>\n",
       "    <tr>\n",
       "      <th>5</th>\n",
       "      <td>6153</td>\n",
       "      <td>0.517241</td>\n",
       "    </tr>\n",
       "    <tr>\n",
       "      <th>6</th>\n",
       "      <td>6326</td>\n",
       "      <td>0.464286</td>\n",
       "    </tr>\n",
       "    <tr>\n",
       "      <th>7</th>\n",
       "      <td>6900</td>\n",
       "      <td>0.521739</td>\n",
       "    </tr>\n",
       "    <tr>\n",
       "      <th>8</th>\n",
       "      <td>9752</td>\n",
       "      <td>0.565217</td>\n",
       "    </tr>\n",
       "    <tr>\n",
       "      <th>9</th>\n",
       "      <td>12364</td>\n",
       "      <td>1.000000</td>\n",
       "    </tr>\n",
       "    <tr>\n",
       "      <th>10</th>\n",
       "      <td>14616</td>\n",
       "      <td>0.480000</td>\n",
       "    </tr>\n",
       "    <tr>\n",
       "      <th>11</th>\n",
       "      <td>15601</td>\n",
       "      <td>0.541667</td>\n",
       "    </tr>\n",
       "    <tr>\n",
       "      <th>12</th>\n",
       "      <td>19881</td>\n",
       "      <td>0.416667</td>\n",
       "    </tr>\n",
       "    <tr>\n",
       "      <th>13</th>\n",
       "      <td>20010</td>\n",
       "      <td>0.444444</td>\n",
       "    </tr>\n",
       "    <tr>\n",
       "      <th>14</th>\n",
       "      <td>20288</td>\n",
       "      <td>0.357143</td>\n",
       "    </tr>\n",
       "    <tr>\n",
       "      <th>15</th>\n",
       "      <td>20373</td>\n",
       "      <td>0.695652</td>\n",
       "    </tr>\n",
       "    <tr>\n",
       "      <th>16</th>\n",
       "      <td>21195</td>\n",
       "      <td>0.625000</td>\n",
       "    </tr>\n",
       "    <tr>\n",
       "      <th>17</th>\n",
       "      <td>21566</td>\n",
       "      <td>0.800000</td>\n",
       "    </tr>\n",
       "    <tr>\n",
       "      <th>18</th>\n",
       "      <td>21642</td>\n",
       "      <td>0.576923</td>\n",
       "    </tr>\n",
       "    <tr>\n",
       "      <th>19</th>\n",
       "      <td>22589</td>\n",
       "      <td>0.464286</td>\n",
       "    </tr>\n",
       "    <tr>\n",
       "      <th>20</th>\n",
       "      <td>23270</td>\n",
       "      <td>0.354839</td>\n",
       "    </tr>\n",
       "    <tr>\n",
       "      <th>21</th>\n",
       "      <td>24100</td>\n",
       "      <td>0.304348</td>\n",
       "    </tr>\n",
       "    <tr>\n",
       "      <th>22</th>\n",
       "      <td>24369</td>\n",
       "      <td>0.629630</td>\n",
       "    </tr>\n",
       "    <tr>\n",
       "      <th>23</th>\n",
       "      <td>25194</td>\n",
       "      <td>0.560000</td>\n",
       "    </tr>\n",
       "    <tr>\n",
       "      <th>24</th>\n",
       "      <td>25232</td>\n",
       "      <td>0.555556</td>\n",
       "    </tr>\n",
       "  </tbody>\n",
       "</table>\n",
       "</div>"
      ],
      "text/plain": [
       "    index   jaccard\n",
       "0    2904  0.500000\n",
       "1    3329  0.576923\n",
       "2    3836  0.423077\n",
       "3    3948  0.560000\n",
       "4    4784  0.400000\n",
       "5    6153  0.517241\n",
       "6    6326  0.464286\n",
       "7    6900  0.521739\n",
       "8    9752  0.565217\n",
       "9   12364  1.000000\n",
       "10  14616  0.480000\n",
       "11  15601  0.541667\n",
       "12  19881  0.416667\n",
       "13  20010  0.444444\n",
       "14  20288  0.357143\n",
       "15  20373  0.695652\n",
       "16  21195  0.625000\n",
       "17  21566  0.800000\n",
       "18  21642  0.576923\n",
       "19  22589  0.464286\n",
       "20  23270  0.354839\n",
       "21  24100  0.304348\n",
       "22  24369  0.629630\n",
       "23  25194  0.560000\n",
       "24  25232  0.555556"
      ]
     },
     "execution_count": 106,
     "metadata": {},
     "output_type": "execute_result"
    }
   ],
   "source": [
    "jaccard_score_df"
   ]
  },
  {
   "cell_type": "code",
   "execution_count": 107,
   "id": "a1e49861",
   "metadata": {},
   "outputs": [
    {
     "data": {
      "text/html": [
       "<div>\n",
       "<style scoped>\n",
       "    .dataframe tbody tr th:only-of-type {\n",
       "        vertical-align: middle;\n",
       "    }\n",
       "\n",
       "    .dataframe tbody tr th {\n",
       "        vertical-align: top;\n",
       "    }\n",
       "\n",
       "    .dataframe thead th {\n",
       "        text-align: right;\n",
       "    }\n",
       "</style>\n",
       "<table border=\"1\" class=\"dataframe\">\n",
       "  <thead>\n",
       "    <tr style=\"text-align: right;\">\n",
       "      <th></th>\n",
       "      <th>index</th>\n",
       "      <th>doc2vec</th>\n",
       "      <th>jaccard</th>\n",
       "    </tr>\n",
       "  </thead>\n",
       "  <tbody>\n",
       "    <tr>\n",
       "      <th>0</th>\n",
       "      <td>21566</td>\n",
       "      <td>0.985123</td>\n",
       "      <td>0.800000</td>\n",
       "    </tr>\n",
       "    <tr>\n",
       "      <th>1</th>\n",
       "      <td>3948</td>\n",
       "      <td>0.856989</td>\n",
       "      <td>0.560000</td>\n",
       "    </tr>\n",
       "    <tr>\n",
       "      <th>2</th>\n",
       "      <td>20010</td>\n",
       "      <td>0.850787</td>\n",
       "      <td>0.444444</td>\n",
       "    </tr>\n",
       "    <tr>\n",
       "      <th>3</th>\n",
       "      <td>25232</td>\n",
       "      <td>0.847732</td>\n",
       "      <td>0.555556</td>\n",
       "    </tr>\n",
       "    <tr>\n",
       "      <th>4</th>\n",
       "      <td>3836</td>\n",
       "      <td>0.846255</td>\n",
       "      <td>0.423077</td>\n",
       "    </tr>\n",
       "    <tr>\n",
       "      <th>5</th>\n",
       "      <td>23270</td>\n",
       "      <td>0.841576</td>\n",
       "      <td>0.354839</td>\n",
       "    </tr>\n",
       "    <tr>\n",
       "      <th>6</th>\n",
       "      <td>15601</td>\n",
       "      <td>0.841501</td>\n",
       "      <td>0.541667</td>\n",
       "    </tr>\n",
       "    <tr>\n",
       "      <th>7</th>\n",
       "      <td>2904</td>\n",
       "      <td>0.840388</td>\n",
       "      <td>0.500000</td>\n",
       "    </tr>\n",
       "    <tr>\n",
       "      <th>8</th>\n",
       "      <td>9752</td>\n",
       "      <td>0.838883</td>\n",
       "      <td>0.565217</td>\n",
       "    </tr>\n",
       "    <tr>\n",
       "      <th>9</th>\n",
       "      <td>4784</td>\n",
       "      <td>0.838557</td>\n",
       "      <td>0.400000</td>\n",
       "    </tr>\n",
       "    <tr>\n",
       "      <th>10</th>\n",
       "      <td>21195</td>\n",
       "      <td>0.834416</td>\n",
       "      <td>0.625000</td>\n",
       "    </tr>\n",
       "    <tr>\n",
       "      <th>11</th>\n",
       "      <td>6900</td>\n",
       "      <td>0.831012</td>\n",
       "      <td>0.521739</td>\n",
       "    </tr>\n",
       "    <tr>\n",
       "      <th>12</th>\n",
       "      <td>20373</td>\n",
       "      <td>0.829597</td>\n",
       "      <td>0.695652</td>\n",
       "    </tr>\n",
       "    <tr>\n",
       "      <th>13</th>\n",
       "      <td>6153</td>\n",
       "      <td>0.829456</td>\n",
       "      <td>0.517241</td>\n",
       "    </tr>\n",
       "    <tr>\n",
       "      <th>14</th>\n",
       "      <td>3329</td>\n",
       "      <td>0.828929</td>\n",
       "      <td>0.576923</td>\n",
       "    </tr>\n",
       "    <tr>\n",
       "      <th>15</th>\n",
       "      <td>25194</td>\n",
       "      <td>0.828169</td>\n",
       "      <td>0.560000</td>\n",
       "    </tr>\n",
       "    <tr>\n",
       "      <th>16</th>\n",
       "      <td>22589</td>\n",
       "      <td>0.827642</td>\n",
       "      <td>0.464286</td>\n",
       "    </tr>\n",
       "    <tr>\n",
       "      <th>17</th>\n",
       "      <td>21642</td>\n",
       "      <td>0.827074</td>\n",
       "      <td>0.576923</td>\n",
       "    </tr>\n",
       "    <tr>\n",
       "      <th>18</th>\n",
       "      <td>20288</td>\n",
       "      <td>0.823887</td>\n",
       "      <td>0.357143</td>\n",
       "    </tr>\n",
       "    <tr>\n",
       "      <th>19</th>\n",
       "      <td>24369</td>\n",
       "      <td>0.816496</td>\n",
       "      <td>0.629630</td>\n",
       "    </tr>\n",
       "    <tr>\n",
       "      <th>20</th>\n",
       "      <td>6326</td>\n",
       "      <td>0.706720</td>\n",
       "      <td>0.464286</td>\n",
       "    </tr>\n",
       "    <tr>\n",
       "      <th>21</th>\n",
       "      <td>14616</td>\n",
       "      <td>0.641335</td>\n",
       "      <td>0.480000</td>\n",
       "    </tr>\n",
       "    <tr>\n",
       "      <th>22</th>\n",
       "      <td>19881</td>\n",
       "      <td>0.159829</td>\n",
       "      <td>0.416667</td>\n",
       "    </tr>\n",
       "    <tr>\n",
       "      <th>23</th>\n",
       "      <td>24100</td>\n",
       "      <td>-0.092421</td>\n",
       "      <td>0.304348</td>\n",
       "    </tr>\n",
       "  </tbody>\n",
       "</table>\n",
       "</div>"
      ],
      "text/plain": [
       "    index   doc2vec   jaccard\n",
       "0   21566  0.985123  0.800000\n",
       "1    3948  0.856989  0.560000\n",
       "2   20010  0.850787  0.444444\n",
       "3   25232  0.847732  0.555556\n",
       "4    3836  0.846255  0.423077\n",
       "5   23270  0.841576  0.354839\n",
       "6   15601  0.841501  0.541667\n",
       "7    2904  0.840388  0.500000\n",
       "8    9752  0.838883  0.565217\n",
       "9    4784  0.838557  0.400000\n",
       "10  21195  0.834416  0.625000\n",
       "11   6900  0.831012  0.521739\n",
       "12  20373  0.829597  0.695652\n",
       "13   6153  0.829456  0.517241\n",
       "14   3329  0.828929  0.576923\n",
       "15  25194  0.828169  0.560000\n",
       "16  22589  0.827642  0.464286\n",
       "17  21642  0.827074  0.576923\n",
       "18  20288  0.823887  0.357143\n",
       "19  24369  0.816496  0.629630\n",
       "20   6326  0.706720  0.464286\n",
       "21  14616  0.641335  0.480000\n",
       "22  19881  0.159829  0.416667\n",
       "23  24100 -0.092421  0.304348"
      ]
     },
     "execution_count": 107,
     "metadata": {},
     "output_type": "execute_result"
    }
   ],
   "source": [
    "similarity_df = pd.merge(similar_doc_cluster_df, jaccard_score_df, left_on='index', right_on='index', how='left')\n",
    "similarity_df"
   ]
  },
  {
   "cell_type": "code",
   "execution_count": 108,
   "id": "642aa441",
   "metadata": {},
   "outputs": [
    {
     "data": {
      "text/html": [
       "<div>\n",
       "<style scoped>\n",
       "    .dataframe tbody tr th:only-of-type {\n",
       "        vertical-align: middle;\n",
       "    }\n",
       "\n",
       "    .dataframe tbody tr th {\n",
       "        vertical-align: top;\n",
       "    }\n",
       "\n",
       "    .dataframe thead th {\n",
       "        text-align: right;\n",
       "    }\n",
       "</style>\n",
       "<table border=\"1\" class=\"dataframe\">\n",
       "  <thead>\n",
       "    <tr style=\"text-align: right;\">\n",
       "      <th></th>\n",
       "      <th>index</th>\n",
       "      <th>doc2vec</th>\n",
       "      <th>jaccard</th>\n",
       "    </tr>\n",
       "  </thead>\n",
       "  <tbody>\n",
       "    <tr>\n",
       "      <th>0</th>\n",
       "      <td>21566</td>\n",
       "      <td>0.985123</td>\n",
       "      <td>0.8</td>\n",
       "    </tr>\n",
       "  </tbody>\n",
       "</table>\n",
       "</div>"
      ],
      "text/plain": [
       "   index   doc2vec  jaccard\n",
       "0  21566  0.985123      0.8"
      ]
     },
     "execution_count": 108,
     "metadata": {},
     "output_type": "execute_result"
    }
   ],
   "source": [
    "similarity_df[similarity_df['doc2vec']>0.97]"
   ]
  },
  {
   "cell_type": "code",
   "execution_count": 113,
   "id": "3f144fbf",
   "metadata": {},
   "outputs": [],
   "source": [
    "valid_cluster_id_df = similarity_df[(similarity_df['doc2vec']>0.97) | (similarity_df['jaccard']>0.5)]"
   ]
  },
  {
   "cell_type": "code",
   "execution_count": 114,
   "id": "e35cdb71",
   "metadata": {},
   "outputs": [
    {
     "data": {
      "text/plain": [
       "[21566,\n",
       " 3948,\n",
       " 25232,\n",
       " 15601,\n",
       " 9752,\n",
       " 21195,\n",
       " 6900,\n",
       " 20373,\n",
       " 6153,\n",
       " 3329,\n",
       " 25194,\n",
       " 21642,\n",
       " 24369]"
      ]
     },
     "execution_count": 114,
     "metadata": {},
     "output_type": "execute_result"
    }
   ],
   "source": [
    "valid_cluster_id_indices = valid_cluster_id_df['index'].to_list()\n",
    "valid_cluster_id_indices"
   ]
  },
  {
   "cell_type": "code",
   "execution_count": 119,
   "id": "fb3685cf",
   "metadata": {},
   "outputs": [
    {
     "data": {
      "text/html": [
       "<div>\n",
       "<style scoped>\n",
       "    .dataframe tbody tr th:only-of-type {\n",
       "        vertical-align: middle;\n",
       "    }\n",
       "\n",
       "    .dataframe tbody tr th {\n",
       "        vertical-align: top;\n",
       "    }\n",
       "\n",
       "    .dataframe thead th {\n",
       "        text-align: right;\n",
       "    }\n",
       "</style>\n",
       "<table border=\"1\" class=\"dataframe\">\n",
       "  <thead>\n",
       "    <tr style=\"text-align: right;\">\n",
       "      <th></th>\n",
       "      <th>Unnamed: 0</th>\n",
       "      <th>cluster_id</th>\n",
       "      <th>url</th>\n",
       "      <th>row_id</th>\n",
       "      <th>table_id</th>\n",
       "      <th>Valid</th>\n",
       "      <th>name</th>\n",
       "      <th>description</th>\n",
       "      <th>brand</th>\n",
       "      <th>tokens</th>\n",
       "    </tr>\n",
       "  </thead>\n",
       "  <tbody>\n",
       "    <tr>\n",
       "      <th>3329</th>\n",
       "      <td>3410146</td>\n",
       "      <td>6443</td>\n",
       "      <td>https://citydogmarket.com/products/earthbath-u...</td>\n",
       "      <td>8</td>\n",
       "      <td>Product_citydogmarket.com_September2020.json.gz</td>\n",
       "      <td>1</td>\n",
       "      <td>earthbath ultra-mild wild cherry puppy shampoo</td>\n",
       "      <td>Precious puppies deserve tender loving care, s...</td>\n",
       "      <td>NaN</td>\n",
       "      <td>[earthbath, ultra-mild, wild, cherry, puppy, s...</td>\n",
       "    </tr>\n",
       "    <tr>\n",
       "      <th>3948</th>\n",
       "      <td>4149391</td>\n",
       "      <td>6443</td>\n",
       "      <td>https://animauxbouffe.com/products/shampoing-e...</td>\n",
       "      <td>456</td>\n",
       "      <td>Product_animauxbouffe.com_September2020.json.gz</td>\n",
       "      <td>1</td>\n",
       "      <td>earthbath shampoing sans larmes pour chiots</td>\n",
       "      <td>Earthbath shampoingsans larmes pour chiotsLes ...</td>\n",
       "      <td>NaN</td>\n",
       "      <td>[earthbath, shampoing, sans, larmes, chiots]</td>\n",
       "    </tr>\n",
       "    <tr>\n",
       "      <th>6153</th>\n",
       "      <td>6316533</td>\n",
       "      <td>6443</td>\n",
       "      <td>https://wellbredonline.com/products/earthbath-...</td>\n",
       "      <td>40</td>\n",
       "      <td>Product_wellbredonline.com_September2020.json.gz</td>\n",
       "      <td>1</td>\n",
       "      <td>earthbath dog shampoo ultra-mild puppy, 16oz</td>\n",
       "      <td>NaN</td>\n",
       "      <td>NaN</td>\n",
       "      <td>[earthbath, shampoo, ultra-mild, puppy, 16oz]</td>\n",
       "    </tr>\n",
       "    <tr>\n",
       "      <th>6900</th>\n",
       "      <td>7309966</td>\n",
       "      <td>6443</td>\n",
       "      <td>https://www.whisknyc.com/lollipop-mold-star.html</td>\n",
       "      <td>880</td>\n",
       "      <td>Product_whisknyc.com_September2020.json.gz</td>\n",
       "      <td>1</td>\n",
       "      <td>star shaped lollipop mold</td>\n",
       "      <td>NaN</td>\n",
       "      <td>NaN</td>\n",
       "      <td>[star, shaped, lollipop, mold]</td>\n",
       "    </tr>\n",
       "    <tr>\n",
       "      <th>9752</th>\n",
       "      <td>9898481</td>\n",
       "      <td>6443</td>\n",
       "      <td>https://www.rosebikes.co.uk/shimano-di2-ew-sd5...</td>\n",
       "      <td>391</td>\n",
       "      <td>Product_rosebikes.co.uk_September2020.json.gz</td>\n",
       "      <td>1</td>\n",
       "      <td>di2 ew-sd50 cable</td>\n",
       "      <td>The thin Shimano Di2 EW-SD50 cable supplies al...</td>\n",
       "      <td>SHIMANO</td>\n",
       "      <td>[di2, ew-sd50, cable]</td>\n",
       "    </tr>\n",
       "    <tr>\n",
       "      <th>15601</th>\n",
       "      <td>15116218</td>\n",
       "      <td>6443</td>\n",
       "      <td>https://www.carolinabrewsupply.com/product/hop...</td>\n",
       "      <td>422</td>\n",
       "      <td>Product_carolinabrewsupply.com_September2020.j...</td>\n",
       "      <td>1</td>\n",
       "      <td>hop cone crown caps - 12 pk</td>\n",
       "      <td>12 Hop Cone Oxygen Barrier Bottle Caps per pac...</td>\n",
       "      <td>NaN</td>\n",
       "      <td>[hop, cone, crown, caps, 12, pk]</td>\n",
       "    </tr>\n",
       "    <tr>\n",
       "      <th>20373</th>\n",
       "      <td>19936333</td>\n",
       "      <td>6443</td>\n",
       "      <td>https://www.cyclebrother.com/cycling-component...</td>\n",
       "      <td>152</td>\n",
       "      <td>Product_cyclebrother.com_September2020.json.gz</td>\n",
       "      <td>1</td>\n",
       "      <td>shimano wire for di2 gear 20 cm</td>\n",
       "      <td>Wire/cable for Di2 gear. 200 mm.</td>\n",
       "      <td>NaN</td>\n",
       "      <td>[shimano, wire, di2, gear, 20, cm]</td>\n",
       "    </tr>\n",
       "    <tr>\n",
       "      <th>21195</th>\n",
       "      <td>20788817</td>\n",
       "      <td>6443</td>\n",
       "      <td>https://spiritanimalbk.com/product/cocktail-ki...</td>\n",
       "      <td>17</td>\n",
       "      <td>Product_spiritanimalbk.com_September2020.json.gz</td>\n",
       "      <td>1</td>\n",
       "      <td>cocktail kingdom shaking tin - gold plated</td>\n",
       "      <td>NaN</td>\n",
       "      <td>NaN</td>\n",
       "      <td>[cocktail, kingdom, shaking, tin, gold, plated]</td>\n",
       "    </tr>\n",
       "    <tr>\n",
       "      <th>21566</th>\n",
       "      <td>21057776</td>\n",
       "      <td>6443</td>\n",
       "      <td>https://www.pictureline.com/products/canon-eos...</td>\n",
       "      <td>1432</td>\n",
       "      <td>Product_pictureline.com_September2020.json.gz</td>\n",
       "      <td>1</td>\n",
       "      <td>canon eos r mirrorless camera with rf 24-105mm...</td>\n",
       "      <td>Meet Canon's new addition to the EOS System, t...</td>\n",
       "      <td>NaN</td>\n",
       "      <td>[canon, eos, r, mirrorless, camera, rf, 24-105...</td>\n",
       "    </tr>\n",
       "    <tr>\n",
       "      <th>21642</th>\n",
       "      <td>21109764</td>\n",
       "      <td>6443</td>\n",
       "      <td>https://agrifeedpetsupply.com/products/earthba...</td>\n",
       "      <td>863</td>\n",
       "      <td>Product_agrifeedpetsupply.com_September2020.js...</td>\n",
       "      <td>1</td>\n",
       "      <td>earthbath ultra-mild wild cherry puppy shampoo</td>\n",
       "      <td>Precious puppies deserve tender loving care, s...</td>\n",
       "      <td>NaN</td>\n",
       "      <td>[earthbath, ultra-mild, wild, cherry, puppy, s...</td>\n",
       "    </tr>\n",
       "    <tr>\n",
       "      <th>24369</th>\n",
       "      <td>23704300</td>\n",
       "      <td>6443</td>\n",
       "      <td>https://www.critterspet.com/products/earthbath...</td>\n",
       "      <td>476</td>\n",
       "      <td>Product_critterspet.com_September2020.json.gz</td>\n",
       "      <td>1</td>\n",
       "      <td>earthbath 472ml ultra-mild puppy shampoo wild ...</td>\n",
       "      <td>Precious puppies deserve tender loving care, s...</td>\n",
       "      <td>NaN</td>\n",
       "      <td>[earthbath, 472ml, ultra-mild, puppy, shampoo,...</td>\n",
       "    </tr>\n",
       "    <tr>\n",
       "      <th>25194</th>\n",
       "      <td>24596939</td>\n",
       "      <td>6443</td>\n",
       "      <td>https://shop.connersclinic.com/products/echina...</td>\n",
       "      <td>83</td>\n",
       "      <td>Product_connersclinic.com_September2020.json.gz</td>\n",
       "      <td>1</td>\n",
       "      <td>echinacea premium - 200ml liquid</td>\n",
       "      <td>Echinacea Premium 1:2 from Standard Processcom...</td>\n",
       "      <td>NaN</td>\n",
       "      <td>[echinacea, premium, 200ml, liquid]</td>\n",
       "    </tr>\n",
       "    <tr>\n",
       "      <th>25232</th>\n",
       "      <td>24633841</td>\n",
       "      <td>6443</td>\n",
       "      <td>https://hostelshoppe.com/products/r3-hpv9-scor...</td>\n",
       "      <td>223</td>\n",
       "      <td>Product_hostelshoppe.com_September2020.json.gz</td>\n",
       "      <td>1</td>\n",
       "      <td>hp velotechnik scorpion fx 20 orange trike</td>\n",
       "      <td>In launching the completely revamped Scorpion ...</td>\n",
       "      <td>HP Velotechnik</td>\n",
       "      <td>[hp, velotechnik, scorpion, fx, 20, orange, tr...</td>\n",
       "    </tr>\n",
       "  </tbody>\n",
       "</table>\n",
       "</div>"
      ],
      "text/plain": [
       "       Unnamed: 0  cluster_id  \\\n",
       "3329      3410146        6443   \n",
       "3948      4149391        6443   \n",
       "6153      6316533        6443   \n",
       "6900      7309966        6443   \n",
       "9752      9898481        6443   \n",
       "15601    15116218        6443   \n",
       "20373    19936333        6443   \n",
       "21195    20788817        6443   \n",
       "21566    21057776        6443   \n",
       "21642    21109764        6443   \n",
       "24369    23704300        6443   \n",
       "25194    24596939        6443   \n",
       "25232    24633841        6443   \n",
       "\n",
       "                                                     url  row_id  \\\n",
       "3329   https://citydogmarket.com/products/earthbath-u...       8   \n",
       "3948   https://animauxbouffe.com/products/shampoing-e...     456   \n",
       "6153   https://wellbredonline.com/products/earthbath-...      40   \n",
       "6900    https://www.whisknyc.com/lollipop-mold-star.html     880   \n",
       "9752   https://www.rosebikes.co.uk/shimano-di2-ew-sd5...     391   \n",
       "15601  https://www.carolinabrewsupply.com/product/hop...     422   \n",
       "20373  https://www.cyclebrother.com/cycling-component...     152   \n",
       "21195  https://spiritanimalbk.com/product/cocktail-ki...      17   \n",
       "21566  https://www.pictureline.com/products/canon-eos...    1432   \n",
       "21642  https://agrifeedpetsupply.com/products/earthba...     863   \n",
       "24369  https://www.critterspet.com/products/earthbath...     476   \n",
       "25194  https://shop.connersclinic.com/products/echina...      83   \n",
       "25232  https://hostelshoppe.com/products/r3-hpv9-scor...     223   \n",
       "\n",
       "                                                table_id  Valid  \\\n",
       "3329     Product_citydogmarket.com_September2020.json.gz      1   \n",
       "3948     Product_animauxbouffe.com_September2020.json.gz      1   \n",
       "6153    Product_wellbredonline.com_September2020.json.gz      1   \n",
       "6900          Product_whisknyc.com_September2020.json.gz      1   \n",
       "9752       Product_rosebikes.co.uk_September2020.json.gz      1   \n",
       "15601  Product_carolinabrewsupply.com_September2020.j...      1   \n",
       "20373     Product_cyclebrother.com_September2020.json.gz      1   \n",
       "21195   Product_spiritanimalbk.com_September2020.json.gz      1   \n",
       "21566      Product_pictureline.com_September2020.json.gz      1   \n",
       "21642  Product_agrifeedpetsupply.com_September2020.js...      1   \n",
       "24369      Product_critterspet.com_September2020.json.gz      1   \n",
       "25194    Product_connersclinic.com_September2020.json.gz      1   \n",
       "25232     Product_hostelshoppe.com_September2020.json.gz      1   \n",
       "\n",
       "                                                    name  \\\n",
       "3329      earthbath ultra-mild wild cherry puppy shampoo   \n",
       "3948         earthbath shampoing sans larmes pour chiots   \n",
       "6153        earthbath dog shampoo ultra-mild puppy, 16oz   \n",
       "6900                           star shaped lollipop mold   \n",
       "9752                                   di2 ew-sd50 cable   \n",
       "15601                        hop cone crown caps - 12 pk   \n",
       "20373                    shimano wire for di2 gear 20 cm   \n",
       "21195         cocktail kingdom shaking tin - gold plated   \n",
       "21566  canon eos r mirrorless camera with rf 24-105mm...   \n",
       "21642     earthbath ultra-mild wild cherry puppy shampoo   \n",
       "24369  earthbath 472ml ultra-mild puppy shampoo wild ...   \n",
       "25194                   echinacea premium - 200ml liquid   \n",
       "25232         hp velotechnik scorpion fx 20 orange trike   \n",
       "\n",
       "                                             description           brand  \\\n",
       "3329   Precious puppies deserve tender loving care, s...             NaN   \n",
       "3948   Earthbath shampoingsans larmes pour chiotsLes ...             NaN   \n",
       "6153                                                 NaN             NaN   \n",
       "6900                                                 NaN             NaN   \n",
       "9752   The thin Shimano Di2 EW-SD50 cable supplies al...         SHIMANO   \n",
       "15601  12 Hop Cone Oxygen Barrier Bottle Caps per pac...             NaN   \n",
       "20373                   Wire/cable for Di2 gear. 200 mm.             NaN   \n",
       "21195                                                NaN             NaN   \n",
       "21566  Meet Canon's new addition to the EOS System, t...             NaN   \n",
       "21642  Precious puppies deserve tender loving care, s...             NaN   \n",
       "24369  Precious puppies deserve tender loving care, s...             NaN   \n",
       "25194  Echinacea Premium 1:2 from Standard Processcom...             NaN   \n",
       "25232  In launching the completely revamped Scorpion ...  HP Velotechnik   \n",
       "\n",
       "                                                  tokens  \n",
       "3329   [earthbath, ultra-mild, wild, cherry, puppy, s...  \n",
       "3948        [earthbath, shampoing, sans, larmes, chiots]  \n",
       "6153       [earthbath, shampoo, ultra-mild, puppy, 16oz]  \n",
       "6900                      [star, shaped, lollipop, mold]  \n",
       "9752                               [di2, ew-sd50, cable]  \n",
       "15601                   [hop, cone, crown, caps, 12, pk]  \n",
       "20373                 [shimano, wire, di2, gear, 20, cm]  \n",
       "21195    [cocktail, kingdom, shaking, tin, gold, plated]  \n",
       "21566  [canon, eos, r, mirrorless, camera, rf, 24-105...  \n",
       "21642  [earthbath, ultra-mild, wild, cherry, puppy, s...  \n",
       "24369  [earthbath, 472ml, ultra-mild, puppy, shampoo,...  \n",
       "25194                [echinacea, premium, 200ml, liquid]  \n",
       "25232  [hp, velotechnik, scorpion, fx, 20, orange, tr...  "
      ]
     },
     "execution_count": 119,
     "metadata": {},
     "output_type": "execute_result"
    }
   ],
   "source": [
    "electronics_single_cluster_id_df_new = electronics_single_cluster_id_df[electronics_single_cluster_id_df.index.isin(valid_cluster_id_indices)]\n",
    "electronics_single_cluster_id_df_new"
   ]
  },
  {
   "cell_type": "code",
   "execution_count": 121,
   "id": "c0672cee",
   "metadata": {},
   "outputs": [],
   "source": [
    "model_clothes = Doc2Vec(vector_size=50, min_count=5, epochs=25, dm=0)\n",
    "model_clothes.build_vocab(tagged_data_clothes)\n",
    "# Train model\n",
    "model_clothes.train(tagged_data_clothes, total_examples=model_clothes.corpus_count, epochs=25)"
   ]
  },
  {
   "cell_type": "code",
   "execution_count": null,
   "id": "748a09be",
   "metadata": {},
   "outputs": [],
   "source": [
    "clothes_single_cluster_id_df = clothes_clusters_all_10_df[clothes_clusters_all_10_df['cluster_id'] == cluster_id]"
   ]
  },
  {
   "cell_type": "code",
   "execution_count": null,
   "id": "84a524c2",
   "metadata": {},
   "outputs": [],
   "source": [
    "['nike', 'louis vuitton', 'hermes', 'gucci', 'zalando', 'adidas', 'tiffany & co.', 'zara', 'h&m', 'cartier', 'lululemon', 'moncler', 'chanel', 'rolex', 'patek philippe', 'prada', 'uniqlo', 'chow tai fook', 'swarovski', 'burberry', 'polo ralph lauren', 'tom ford', 'the north face', 'levi’s', 'victoria’s secret', 'next', 'new balance', 'michael kors', 'skechers', 'tj maxx', 'asos', 'under armour', 'coach', 'nordstrom', 'c&a', 'chopard', 'dolce & gabbana', 'christian louboutin', 'omega', 'foot locker inc.', 'ray ban', 'macy’s', 'asics', 'vera wang', 'dior', 'puma', 'steve madden', 'brunello cucinelli', 'american eagle outfitters', 'armani', 'nine west', 'fendi', 'urban outfitters', 'salvatore ferragamo', 'hugo boss', 'old navy', 'iwc schaffhausen', 'primark', 'max mara', 'manolo blahnik', 'audemars piguet', 'diesel', 'calvin klein', 'net-a-porter', 'furla', 'gap', 'longines', 'forever 21', 'stuart weitzman', 'longchamp', 'sisley', 'lao feng xiang', 'tod’s', 'tissot', 'tommy hilfiger', 'tory burch', 'lacoste', 'topshop', 'g-star', 'aldo', 'oakley', 'cole haan', 'jimmy choo', 'valentino', 'elie taharie', 'jaeger-le coultre', 'fossil', 'vacheron constantin', 'elie saab', 'patagonia', 'bogner', 'new look', 'breguet', 'escada', 'tag heuer', 'banana republic', 'desigual', 'swatch', 'cavalli', 'ted baker']"
   ]
  },
  {
   "cell_type": "code",
   "execution_count": null,
   "id": "b20b9cc7",
   "metadata": {},
   "outputs": [],
   "source": []
  }
 ],
 "metadata": {
  "kernelspec": {
   "display_name": "Python 3 (ipykernel)",
   "language": "python",
   "name": "python3"
  },
  "language_info": {
   "codemirror_mode": {
    "name": "ipython",
    "version": 3
   },
   "file_extension": ".py",
   "mimetype": "text/x-python",
   "name": "python",
   "nbconvert_exporter": "python",
   "pygments_lexer": "ipython3",
   "version": "3.8.8"
  }
 },
 "nbformat": 4,
 "nbformat_minor": 5
}
