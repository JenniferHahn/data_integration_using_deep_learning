{
 "cells": [
  {
   "cell_type": "code",
   "execution_count": 1,
   "metadata": {},
   "outputs": [],
   "source": [
    "# Goal:  count how many rows are contained in the new files"
   ]
  },
  {
   "cell_type": "code",
   "execution_count": 14,
   "metadata": {},
   "outputs": [],
   "source": [
    "import json\n",
    "import pandas as pd\n",
    "import os"
   ]
  },
  {
   "cell_type": "code",
   "execution_count": 5,
   "metadata": {},
   "outputs": [],
   "source": [
    "person_example = pd.read_json('/Users/estelleweinstock/Google Drive/1_Studium/2_Master/3_Sem/Team Project/Data/SportsTeam/SportsTeam_top100/SportsTeam_athletique.com_September2020.json.gz', compression='gzip', lines=True)"
   ]
  },
  {
   "cell_type": "code",
   "execution_count": 8,
   "metadata": {},
   "outputs": [
    {
     "data": {
      "text/plain": [
       "Index(['row_id', 'name', 'athlete', 'memberof', 'page_url'], dtype='object')"
      ]
     },
     "execution_count": 8,
     "metadata": {},
     "output_type": "execute_result"
    }
   ],
   "source": [
    "person_example.columns"
   ]
  },
  {
   "cell_type": "code",
   "execution_count": 60,
   "metadata": {},
   "outputs": [
    {
     "data": {
      "text/plain": [
       "174"
      ]
     },
     "execution_count": 60,
     "metadata": {},
     "output_type": "execute_result"
    }
   ],
   "source": [
    "len(person_example)"
   ]
  },
  {
   "cell_type": "code",
   "execution_count": 9,
   "metadata": {},
   "outputs": [
    {
     "name": "stdout",
     "output_type": "stream",
     "text": [
      "true\n"
     ]
    }
   ],
   "source": [
    "var = 'name'\n",
    "\n",
    "if var in person_example.columns:\n",
    "    print('true')"
   ]
  },
  {
   "cell_type": "code",
   "execution_count": 12,
   "metadata": {},
   "outputs": [],
   "source": [
    "path = '/Users/estelleweinstock/Google Drive/1_Studium/2_Master/3_Sem/Team Project/Data/SportsTeam/SportsTeam_top100'"
   ]
  },
  {
   "cell_type": "code",
   "execution_count": 61,
   "metadata": {},
   "outputs": [],
   "source": [
    "def count_rows(var):\n",
    "    \"\"\"\n",
    "    counts tables with looked for variable\n",
    "    \"\"\"\n",
    "    \n",
    "    # count of variable \n",
    "    count = 0\n",
    "    count_rows = 0 \n",
    "    \n",
    "    # files \n",
    "    files = [file for file in os.listdir(path) if file.endswith('.json.gz')]\n",
    "    \n",
    "    for file in files:\n",
    "        \n",
    "        #read the file\n",
    "        df = pd.read_json(os.path.join(path, '{}'.format(file)), compression='gzip', lines=True)\n",
    "        \n",
    "        # count the looked for column\n",
    "        if var in df.columns:\n",
    "            count = count + 1\n",
    "            count_rows = count_rows + len(df)\n",
    "            \n",
    "    return count, count_rows\n"
   ]
  },
  {
   "cell_type": "code",
   "execution_count": 110,
   "metadata": {},
   "outputs": [],
   "source": [
    "# Movie - director, actor\n",
    "#path = '/Users/estelleweinstock/Google Drive/1_Studium/2_Master/3_Sem/Team Project/Data/Movie/Movie_top100'\n",
    "#path = '/Users/estelleweinstock/Google Drive/1_Studium/2_Master/3_Sem/Team Project/Data/Movie/Movie_minimum3'\n",
    "#path = '/Users/estelleweinstock/Google Drive/1_Studium/2_Master/3_Sem/Team Project/Data/Movie/Movie_rest'"
   ]
  },
  {
   "cell_type": "code",
   "execution_count": 78,
   "metadata": {},
   "outputs": [],
   "source": [
    "# MusicAlbum - byartist, name\n",
    "#path = '/Users/estelleweinstock/Google Drive/1_Studium/2_Master/3_Sem/Team Project/Data/MusicAlbum/MusicAlbum_top100'\n",
    "#path = '/Users/estelleweinstock/Google Drive/1_Studium/2_Master/3_Sem/Team Project/Data/MusicAlbum/MusicAlbum_minimum3'\n",
    "#path = '/Users/estelleweinstock/Google Drive/1_Studium/2_Master/3_Sem/Team Project/Data/MusicAlbum/MusicAlbum_rest'"
   ]
  },
  {
   "cell_type": "code",
   "execution_count": 84,
   "metadata": {},
   "outputs": [],
   "source": [
    "# Hotel - telephone\n",
    "#path = '/Users/estelleweinstock/Google Drive/1_Studium/2_Master/3_Sem/Team Project/Data/Hotel/Hotel_top100'\n",
    "#path = '/Users/estelleweinstock/Google Drive/1_Studium/2_Master/3_Sem/Team Project/Data/Hotel/Hotel_minimum3'\n",
    "#path = '/Users/estelleweinstock/Google Drive/1_Studium/2_Master/3_Sem/Team Project/Data/Hotel/Hotel_rest'"
   ]
  },
  {
   "cell_type": "code",
   "execution_count": 90,
   "metadata": {},
   "outputs": [],
   "source": [
    "# MusicRecording - inalbum\n",
    "#path = '/Users/estelleweinstock/Google Drive/1_Studium/2_Master/3_Sem/Team Project/Data/MusicRecording/MusicRecording_top100'\n",
    "#path = '/Users/estelleweinstock/Google Drive/1_Studium/2_Master/3_Sem/Team Project/Data/MusicRecording/MusicRecording_minimum3'\n",
    "#path = '/Users/estelleweinstock/Google Drive/1_Studium/2_Master/3_Sem/Team Project/Data/MusicRecording/MusicRecording_rest'"
   ]
  },
  {
   "cell_type": "code",
   "execution_count": 104,
   "metadata": {},
   "outputs": [],
   "source": [
    "# Person - name, telephone, email\n",
    "#path = '/Users/estelleweinstock/Google Drive/1_Studium/2_Master/3_Sem/Team Project/Data/Person/Person_top100'\n",
    "#path = '/Users/estelleweinstock/Google Drive/1_Studium/2_Master/3_Sem/Team Project/Data/Person/Person_minimum3'\n",
    "#path = '/Users/estelleweinstock/Google Drive/1_Studium/2_Master/3_Sem/Team Project/Data/Person/Person_rest'"
   ]
  },
  {
   "cell_type": "code",
   "execution_count": 114,
   "metadata": {},
   "outputs": [],
   "source": [
    "# Recipe - author\n",
    "#path = '/Users/estelleweinstock/Google Drive/1_Studium/2_Master/3_Sem/Team Project/Data/Recipe/Recipe_top100'\n",
    "#path = '/Users/estelleweinstock/Google Drive/1_Studium/2_Master/3_Sem/Team Project/Data/Recipe/Recipe_minimum3'"
   ]
  },
  {
   "cell_type": "code",
   "execution_count": 126,
   "metadata": {},
   "outputs": [],
   "source": [
    "# Event - location, performer, organizer\n",
    "#path = '/Users/estelleweinstock/Google Drive/1_Studium/2_Master/3_Sem/Team Project/Data/Event/Event_top100'\n",
    "#path = '/Users/estelleweinstock/Google Drive/1_Studium/2_Master/3_Sem/Team Project/Data/Event/Event_minimum3'"
   ]
  },
  {
   "cell_type": "code",
   "execution_count": 134,
   "metadata": {},
   "outputs": [],
   "source": [
    "# Book - author, publisher\n",
    "#path = '/Users/estelleweinstock/Google Drive/1_Studium/2_Master/3_Sem/Team Project/Data/Book/Book_top100'\n",
    "#path = '/Users/estelleweinstock/Google Drive/1_Studium/2_Master/3_Sem/Team Project/Data/Book/Book_minimum3'"
   ]
  },
  {
   "cell_type": "code",
   "execution_count": null,
   "metadata": {},
   "outputs": [],
   "source": [
    "# CreativeWork - publisher\n",
    "#path = '/Users/estelleweinstock/Google Drive/1_Studium/2_Master/3_Sem/Team Project/Data/CreativeWork/CreativeWork_top100'\n",
    "#path = '/Users/estelleweinstock/Google Drive/1_Studium/2_Master/3_Sem/Team Project/Data/CreativeWork/CreativeWork_minimum3'"
   ]
  },
  {
   "cell_type": "code",
   "execution_count": null,
   "metadata": {},
   "outputs": [],
   "source": [
    "# LocalBusiness - email\n",
    "#path = '/Users/estelleweinstock/Google Drive/1_Studium/2_Master/3_Sem/Team Project/Data/LocalBusiness/LocalBusiness_top100'\n",
    "#path = '/Users/estelleweinstock/Google Drive/1_Studium/2_Master/3_Sem/Team Project/Data/LocalBusiness/LocalBusiness_minimum3'"
   ]
  },
  {
   "cell_type": "code",
   "execution_count": null,
   "metadata": {},
   "outputs": [],
   "source": [
    "# Place - address, geo, telephone\n",
    "#path = '/Users/estelleweinstock/Google Drive/1_Studium/2_Master/3_Sem/Team Project/Data/Place/Place_top100'\n",
    "#path = '/Users/estelleweinstock/Google Drive/1_Studium/2_Master/3_Sem/Team Project/Data/Place/Place_minimum3'"
   ]
  },
  {
   "cell_type": "code",
   "execution_count": null,
   "metadata": {},
   "outputs": [],
   "source": [
    "# Restaurant - telephone\n",
    "#path = '/Users/estelleweinstock/Google Drive/1_Studium/2_Master/3_Sem/Team Project/Data/Restaurant/Restaurant_top100'\n",
    "#path = '/Users/estelleweinstock/Google Drive/1_Studium/2_Master/3_Sem/Team Project/Data/Restaurant/Restaurant_minimum3'"
   ]
  },
  {
   "cell_type": "code",
   "execution_count": 136,
   "metadata": {},
   "outputs": [],
   "source": [
    "# Product - isrelatedto\n",
    "#path = '/Users/estelleweinstock/Google Drive/1_Studium/2_Master/3_Sem/Team Project/Data/Product/Product_top100'"
   ]
  },
  {
   "cell_type": "code",
   "execution_count": 137,
   "metadata": {},
   "outputs": [
    {
     "data": {
      "text/plain": [
       "(0, 0)"
      ]
     },
     "execution_count": 137,
     "metadata": {},
     "output_type": "execute_result"
    }
   ],
   "source": [
    "count_rows('isrelatedto')"
   ]
  },
  {
   "cell_type": "code",
   "execution_count": null,
   "metadata": {},
   "outputs": [],
   "source": []
  }
 ],
 "metadata": {
  "kernelspec": {
   "display_name": "Python 3",
   "language": "python",
   "name": "python3"
  },
  "language_info": {
   "codemirror_mode": {
    "name": "ipython",
    "version": 3
   },
   "file_extension": ".py",
   "mimetype": "text/x-python",
   "name": "python",
   "nbconvert_exporter": "python",
   "pygments_lexer": "ipython3",
   "version": "3.8.5"
  }
 },
 "nbformat": 4,
 "nbformat_minor": 4
}
