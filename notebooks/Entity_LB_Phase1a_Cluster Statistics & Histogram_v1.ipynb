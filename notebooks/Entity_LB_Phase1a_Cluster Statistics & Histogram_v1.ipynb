{
 "cells": [
  {
   "cell_type": "code",
   "execution_count": 4,
   "id": "b6abc812",
   "metadata": {},
   "outputs": [],
   "source": [
    "# import libraries\n",
    "import os\n",
    "import pandas as pd\n",
    "import numpy as np\n",
    "\n",
    "import matplotlib.pyplot as plt\n",
    "import seaborn as sns"
   ]
  },
  {
   "cell_type": "code",
   "execution_count": 7,
   "id": "8531bbf5",
   "metadata": {},
   "outputs": [],
   "source": [
    "source_path = r\"src\\data\"\n",
    "path_LB = os.path.join(source_path, \"LocalBusines\")\n",
    "path_restaurant = os.path.join(source_path, \"Restaurant\")\n",
    "path_hotel = os.path.join(source_path, \"Hotel\")\n",
    "\n",
    "source_path = r\"C:\\Users\\chench10\\Downloads\" "
   ]
  },
  {
   "cell_type": "code",
   "execution_count": 8,
   "id": "e9d4cc3d",
   "metadata": {},
   "outputs": [
    {
     "ename": "ValueError",
     "evalue": "Expected object or value",
     "output_type": "error",
     "traceback": [
      "\u001b[0;31m---------------------------------------------------------------------------\u001b[0m",
      "\u001b[0;31mValueError\u001b[0m                                Traceback (most recent call last)",
      "\u001b[0;32m<ipython-input-8-85171ed22f81>\u001b[0m in \u001b[0;36m<module>\u001b[0;34m\u001b[0m\n\u001b[1;32m      5\u001b[0m \u001b[0;34m\u001b[0m\u001b[0m\n\u001b[1;32m      6\u001b[0m \u001b[0;31m#df_LB =  pd.read_json(os.path.join(source_path, file_LB), compression='gzip', lines=True).append()\u001b[0m\u001b[0;34m\u001b[0m\u001b[0;34m\u001b[0m\u001b[0;34m\u001b[0m\u001b[0m\n\u001b[0;32m----> 7\u001b[0;31m \u001b[0mdf_restaurant\u001b[0m \u001b[0;34m=\u001b[0m \u001b[0mpd\u001b[0m\u001b[0;34m.\u001b[0m\u001b[0mread_json\u001b[0m\u001b[0;34m(\u001b[0m\u001b[0mos\u001b[0m\u001b[0;34m.\u001b[0m\u001b[0mpath\u001b[0m\u001b[0;34m.\u001b[0m\u001b[0mjoin\u001b[0m\u001b[0;34m(\u001b[0m\u001b[0msource_path\u001b[0m\u001b[0;34m,\u001b[0m \u001b[0mfile_restaurant\u001b[0m\u001b[0;34m)\u001b[0m\u001b[0;34m,\u001b[0m \u001b[0mcompression\u001b[0m\u001b[0;34m=\u001b[0m\u001b[0;34m'gzip'\u001b[0m\u001b[0;34m,\u001b[0m \u001b[0mlines\u001b[0m\u001b[0;34m=\u001b[0m\u001b[0;32mTrue\u001b[0m\u001b[0;34m)\u001b[0m\u001b[0;34m\u001b[0m\u001b[0;34m\u001b[0m\u001b[0m\n\u001b[0m\u001b[1;32m      8\u001b[0m \u001b[0;31m#df_hotel =  pd.read_json(os.path.join(source_path, file_hotel), compression='gzip', lines=True)\u001b[0m\u001b[0;34m\u001b[0m\u001b[0;34m\u001b[0m\u001b[0;34m\u001b[0m\u001b[0m\n",
      "\u001b[0;32m~/anaconda3/lib/python3.8/site-packages/pandas/util/_decorators.py\u001b[0m in \u001b[0;36mwrapper\u001b[0;34m(*args, **kwargs)\u001b[0m\n\u001b[1;32m    197\u001b[0m                 \u001b[0;32melse\u001b[0m\u001b[0;34m:\u001b[0m\u001b[0;34m\u001b[0m\u001b[0;34m\u001b[0m\u001b[0m\n\u001b[1;32m    198\u001b[0m                     \u001b[0mkwargs\u001b[0m\u001b[0;34m[\u001b[0m\u001b[0mnew_arg_name\u001b[0m\u001b[0;34m]\u001b[0m \u001b[0;34m=\u001b[0m \u001b[0mnew_arg_value\u001b[0m\u001b[0;34m\u001b[0m\u001b[0;34m\u001b[0m\u001b[0m\n\u001b[0;32m--> 199\u001b[0;31m             \u001b[0;32mreturn\u001b[0m \u001b[0mfunc\u001b[0m\u001b[0;34m(\u001b[0m\u001b[0;34m*\u001b[0m\u001b[0margs\u001b[0m\u001b[0;34m,\u001b[0m \u001b[0;34m**\u001b[0m\u001b[0mkwargs\u001b[0m\u001b[0;34m)\u001b[0m\u001b[0;34m\u001b[0m\u001b[0;34m\u001b[0m\u001b[0m\n\u001b[0m\u001b[1;32m    200\u001b[0m \u001b[0;34m\u001b[0m\u001b[0m\n\u001b[1;32m    201\u001b[0m         \u001b[0;32mreturn\u001b[0m \u001b[0mcast\u001b[0m\u001b[0;34m(\u001b[0m\u001b[0mF\u001b[0m\u001b[0;34m,\u001b[0m \u001b[0mwrapper\u001b[0m\u001b[0;34m)\u001b[0m\u001b[0;34m\u001b[0m\u001b[0;34m\u001b[0m\u001b[0m\n",
      "\u001b[0;32m~/anaconda3/lib/python3.8/site-packages/pandas/util/_decorators.py\u001b[0m in \u001b[0;36mwrapper\u001b[0;34m(*args, **kwargs)\u001b[0m\n\u001b[1;32m    297\u001b[0m                 )\n\u001b[1;32m    298\u001b[0m                 \u001b[0mwarnings\u001b[0m\u001b[0;34m.\u001b[0m\u001b[0mwarn\u001b[0m\u001b[0;34m(\u001b[0m\u001b[0mmsg\u001b[0m\u001b[0;34m,\u001b[0m \u001b[0mFutureWarning\u001b[0m\u001b[0;34m,\u001b[0m \u001b[0mstacklevel\u001b[0m\u001b[0;34m=\u001b[0m\u001b[0mstacklevel\u001b[0m\u001b[0;34m)\u001b[0m\u001b[0;34m\u001b[0m\u001b[0;34m\u001b[0m\u001b[0m\n\u001b[0;32m--> 299\u001b[0;31m             \u001b[0;32mreturn\u001b[0m \u001b[0mfunc\u001b[0m\u001b[0;34m(\u001b[0m\u001b[0;34m*\u001b[0m\u001b[0margs\u001b[0m\u001b[0;34m,\u001b[0m \u001b[0;34m**\u001b[0m\u001b[0mkwargs\u001b[0m\u001b[0;34m)\u001b[0m\u001b[0;34m\u001b[0m\u001b[0;34m\u001b[0m\u001b[0m\n\u001b[0m\u001b[1;32m    300\u001b[0m \u001b[0;34m\u001b[0m\u001b[0m\n\u001b[1;32m    301\u001b[0m         \u001b[0;32mreturn\u001b[0m \u001b[0mwrapper\u001b[0m\u001b[0;34m\u001b[0m\u001b[0;34m\u001b[0m\u001b[0m\n",
      "\u001b[0;32m~/anaconda3/lib/python3.8/site-packages/pandas/io/json/_json.py\u001b[0m in \u001b[0;36mread_json\u001b[0;34m(path_or_buf, orient, typ, dtype, convert_axes, convert_dates, keep_default_dates, numpy, precise_float, date_unit, encoding, lines, chunksize, compression, nrows, storage_options)\u001b[0m\n\u001b[1;32m    561\u001b[0m \u001b[0;34m\u001b[0m\u001b[0m\n\u001b[1;32m    562\u001b[0m     \u001b[0;32mwith\u001b[0m \u001b[0mjson_reader\u001b[0m\u001b[0;34m:\u001b[0m\u001b[0;34m\u001b[0m\u001b[0;34m\u001b[0m\u001b[0m\n\u001b[0;32m--> 563\u001b[0;31m         \u001b[0;32mreturn\u001b[0m \u001b[0mjson_reader\u001b[0m\u001b[0;34m.\u001b[0m\u001b[0mread\u001b[0m\u001b[0;34m(\u001b[0m\u001b[0;34m)\u001b[0m\u001b[0;34m\u001b[0m\u001b[0;34m\u001b[0m\u001b[0m\n\u001b[0m\u001b[1;32m    564\u001b[0m \u001b[0;34m\u001b[0m\u001b[0m\n\u001b[1;32m    565\u001b[0m \u001b[0;34m\u001b[0m\u001b[0m\n",
      "\u001b[0;32m~/anaconda3/lib/python3.8/site-packages/pandas/io/json/_json.py\u001b[0m in \u001b[0;36mread\u001b[0;34m(self)\u001b[0m\n\u001b[1;32m    690\u001b[0m                 \u001b[0mdata\u001b[0m \u001b[0;34m=\u001b[0m \u001b[0mensure_str\u001b[0m\u001b[0;34m(\u001b[0m\u001b[0mself\u001b[0m\u001b[0;34m.\u001b[0m\u001b[0mdata\u001b[0m\u001b[0;34m)\u001b[0m\u001b[0;34m\u001b[0m\u001b[0;34m\u001b[0m\u001b[0m\n\u001b[1;32m    691\u001b[0m                 \u001b[0mdata_lines\u001b[0m \u001b[0;34m=\u001b[0m \u001b[0mdata\u001b[0m\u001b[0;34m.\u001b[0m\u001b[0msplit\u001b[0m\u001b[0;34m(\u001b[0m\u001b[0;34m\"\\n\"\u001b[0m\u001b[0;34m)\u001b[0m\u001b[0;34m\u001b[0m\u001b[0;34m\u001b[0m\u001b[0m\n\u001b[0;32m--> 692\u001b[0;31m                 \u001b[0mobj\u001b[0m \u001b[0;34m=\u001b[0m \u001b[0mself\u001b[0m\u001b[0;34m.\u001b[0m\u001b[0m_get_object_parser\u001b[0m\u001b[0;34m(\u001b[0m\u001b[0mself\u001b[0m\u001b[0;34m.\u001b[0m\u001b[0m_combine_lines\u001b[0m\u001b[0;34m(\u001b[0m\u001b[0mdata_lines\u001b[0m\u001b[0;34m)\u001b[0m\u001b[0;34m)\u001b[0m\u001b[0;34m\u001b[0m\u001b[0;34m\u001b[0m\u001b[0m\n\u001b[0m\u001b[1;32m    693\u001b[0m         \u001b[0;32melse\u001b[0m\u001b[0;34m:\u001b[0m\u001b[0;34m\u001b[0m\u001b[0;34m\u001b[0m\u001b[0m\n\u001b[1;32m    694\u001b[0m             \u001b[0mobj\u001b[0m \u001b[0;34m=\u001b[0m \u001b[0mself\u001b[0m\u001b[0;34m.\u001b[0m\u001b[0m_get_object_parser\u001b[0m\u001b[0;34m(\u001b[0m\u001b[0mself\u001b[0m\u001b[0;34m.\u001b[0m\u001b[0mdata\u001b[0m\u001b[0;34m)\u001b[0m\u001b[0;34m\u001b[0m\u001b[0;34m\u001b[0m\u001b[0m\n",
      "\u001b[0;32m~/anaconda3/lib/python3.8/site-packages/pandas/io/json/_json.py\u001b[0m in \u001b[0;36m_get_object_parser\u001b[0;34m(self, json)\u001b[0m\n\u001b[1;32m    714\u001b[0m         \u001b[0mobj\u001b[0m \u001b[0;34m=\u001b[0m \u001b[0;32mNone\u001b[0m\u001b[0;34m\u001b[0m\u001b[0;34m\u001b[0m\u001b[0m\n\u001b[1;32m    715\u001b[0m         \u001b[0;32mif\u001b[0m \u001b[0mtyp\u001b[0m \u001b[0;34m==\u001b[0m \u001b[0;34m\"frame\"\u001b[0m\u001b[0;34m:\u001b[0m\u001b[0;34m\u001b[0m\u001b[0;34m\u001b[0m\u001b[0m\n\u001b[0;32m--> 716\u001b[0;31m             \u001b[0mobj\u001b[0m \u001b[0;34m=\u001b[0m \u001b[0mFrameParser\u001b[0m\u001b[0;34m(\u001b[0m\u001b[0mjson\u001b[0m\u001b[0;34m,\u001b[0m \u001b[0;34m**\u001b[0m\u001b[0mkwargs\u001b[0m\u001b[0;34m)\u001b[0m\u001b[0;34m.\u001b[0m\u001b[0mparse\u001b[0m\u001b[0;34m(\u001b[0m\u001b[0;34m)\u001b[0m\u001b[0;34m\u001b[0m\u001b[0;34m\u001b[0m\u001b[0m\n\u001b[0m\u001b[1;32m    717\u001b[0m \u001b[0;34m\u001b[0m\u001b[0m\n\u001b[1;32m    718\u001b[0m         \u001b[0;32mif\u001b[0m \u001b[0mtyp\u001b[0m \u001b[0;34m==\u001b[0m \u001b[0;34m\"series\"\u001b[0m \u001b[0;32mor\u001b[0m \u001b[0mobj\u001b[0m \u001b[0;32mis\u001b[0m \u001b[0;32mNone\u001b[0m\u001b[0;34m:\u001b[0m\u001b[0;34m\u001b[0m\u001b[0;34m\u001b[0m\u001b[0m\n",
      "\u001b[0;32m~/anaconda3/lib/python3.8/site-packages/pandas/io/json/_json.py\u001b[0m in \u001b[0;36mparse\u001b[0;34m(self)\u001b[0m\n\u001b[1;32m    829\u001b[0m \u001b[0;34m\u001b[0m\u001b[0m\n\u001b[1;32m    830\u001b[0m         \u001b[0;32melse\u001b[0m\u001b[0;34m:\u001b[0m\u001b[0;34m\u001b[0m\u001b[0;34m\u001b[0m\u001b[0m\n\u001b[0;32m--> 831\u001b[0;31m             \u001b[0mself\u001b[0m\u001b[0;34m.\u001b[0m\u001b[0m_parse_no_numpy\u001b[0m\u001b[0;34m(\u001b[0m\u001b[0;34m)\u001b[0m\u001b[0;34m\u001b[0m\u001b[0;34m\u001b[0m\u001b[0m\n\u001b[0m\u001b[1;32m    832\u001b[0m \u001b[0;34m\u001b[0m\u001b[0m\n\u001b[1;32m    833\u001b[0m         \u001b[0;32mif\u001b[0m \u001b[0mself\u001b[0m\u001b[0;34m.\u001b[0m\u001b[0mobj\u001b[0m \u001b[0;32mis\u001b[0m \u001b[0;32mNone\u001b[0m\u001b[0;34m:\u001b[0m\u001b[0;34m\u001b[0m\u001b[0;34m\u001b[0m\u001b[0m\n",
      "\u001b[0;32m~/anaconda3/lib/python3.8/site-packages/pandas/io/json/_json.py\u001b[0m in \u001b[0;36m_parse_no_numpy\u001b[0;34m(self)\u001b[0m\n\u001b[1;32m   1077\u001b[0m         \u001b[0;32mif\u001b[0m \u001b[0morient\u001b[0m \u001b[0;34m==\u001b[0m \u001b[0;34m\"columns\"\u001b[0m\u001b[0;34m:\u001b[0m\u001b[0;34m\u001b[0m\u001b[0;34m\u001b[0m\u001b[0m\n\u001b[1;32m   1078\u001b[0m             self.obj = DataFrame(\n\u001b[0;32m-> 1079\u001b[0;31m                 \u001b[0mloads\u001b[0m\u001b[0;34m(\u001b[0m\u001b[0mjson\u001b[0m\u001b[0;34m,\u001b[0m \u001b[0mprecise_float\u001b[0m\u001b[0;34m=\u001b[0m\u001b[0mself\u001b[0m\u001b[0;34m.\u001b[0m\u001b[0mprecise_float\u001b[0m\u001b[0;34m)\u001b[0m\u001b[0;34m,\u001b[0m \u001b[0mdtype\u001b[0m\u001b[0;34m=\u001b[0m\u001b[0;32mNone\u001b[0m\u001b[0;34m\u001b[0m\u001b[0;34m\u001b[0m\u001b[0m\n\u001b[0m\u001b[1;32m   1080\u001b[0m             )\n\u001b[1;32m   1081\u001b[0m         \u001b[0;32melif\u001b[0m \u001b[0morient\u001b[0m \u001b[0;34m==\u001b[0m \u001b[0;34m\"split\"\u001b[0m\u001b[0;34m:\u001b[0m\u001b[0;34m\u001b[0m\u001b[0;34m\u001b[0m\u001b[0m\n",
      "\u001b[0;31mValueError\u001b[0m: Expected object or value"
     ]
    }
   ],
   "source": [
    "# import data\n",
    "file_LB = \"Matching_Files_LB_min3_top100\"\n",
    "file_restaurant = \"matchingRestaurant\"\n",
    "file_hotel = \"matchingHotels\"\n",
    "\n",
    "#df_LB =  pd.read_json(os.path.join(source_path, file_LB), compression='gzip', lines=True).append()\n",
    "df_restaurant = pd.read_json(os.path.join(source_path, file_restaurant), compression='gzip', lines=True)\n",
    "#df_hotel =  pd.read_json(os.path.join(source_path, file_hotel), compression='gzip', lines=True)"
   ]
  },
  {
   "cell_type": "code",
   "execution_count": null,
   "id": "707f4d0c",
   "metadata": {},
   "outputs": [],
   "source": [
    "df_restaurant"
   ]
  },
  {
   "cell_type": "code",
   "execution_count": 54,
   "id": "d81aade9",
   "metadata": {},
   "outputs": [],
   "source": [
    "class EntityCluster():\n",
    "    \"\"\"\n",
    "    create culsters and generate summary statistics for each entity tpye\n",
    "    \"\"\"\n",
    "    \n",
    "    def __init__(self, name, df=None, id_col='telephoneNorm'):\n",
    "        self.name = name\n",
    "        self.df = df\n",
    "        self.id_col = id_col\n",
    "        \n",
    "        self._create_clusters()\n",
    "        \n",
    "    @staticmethod\n",
    "    def _helperfunc(iterator, cluster, id_col='telephoneNorm', val_col='MatchingGeoPoints'):\n",
    "        key = iterator[id_col]\n",
    "        val = iterator[val_col]\n",
    "        cluster[key] = cluster[key].union(set(val))\n",
    "        \n",
    "        return cluster\n",
    "        \n",
    "        \n",
    "    def _create_clusters(self):\n",
    "        \"\"\"\n",
    "        create clusters and use the column value as the cluster identifier\n",
    "        \"\"\"\n",
    "        df = self.df\n",
    "        id_col = self.id_col\n",
    "        \n",
    "        # intialize the cluster\n",
    "        if not df is None:\n",
    "            cluster_ids = df[id_col].unique()\n",
    "            cluster = {key: set([]) for key in cluster_ids}\n",
    "            # add elements to the cluster\n",
    "            cluster = df.apply(EntityCluster._helperfunc, args=(cluster,), axis=1)[0]\n",
    "        else:\n",
    "            cluster = None\n",
    "        \n",
    "        self.cluster = cluster\n",
    "        \n",
    "    \n",
    "    def get_cluster(self):\n",
    "        return self.cluster\n",
    "                                                                            \n",
    "\n",
    "    def create_cluster_statistics(self, *args):\n",
    "        cluster = self.cluster\n",
    "        # create a dataframe for data storage\n",
    "        tmp = {}\n",
    "        for key, val in cluster.items():\n",
    "            tmp[key] = len(val)\n",
    "            \n",
    "        df_clusters = pd.DataFrame().from_dict(tmp, orient='index', columns=['frequency'])\n",
    "        df_clusters.sort_values('frequency', ascending=False, inplace=True)\n",
    "            \n",
    "        return df_clusters['frequency'].describe()\n",
    "      \n",
    "    \n",
    "    def plot_histogram(self, min_=None, max_=None, bins=None, *args): \n",
    "    \n",
    "        cluster = self.cluster\n",
    "        name =self.name\n",
    "        # create a dataframe for data storage\n",
    "        tmp = {}\n",
    "        for key, val in cluster.items():\n",
    "            tmp[key] = len(val)\n",
    "            \n",
    "        df_clusters = pd.DataFrame().from_dict(tmp, orient='index', columns=['frequency'])\n",
    "        df_clusters.sort_values('frequency', ascending=False, inplace=True)\n",
    "        \n",
    "        # plot the histogram\n",
    "        if min_ is None: \n",
    "            min_ = df_clusters.frequency.quantile(0.95) \n",
    "        if max_ is None: \n",
    "            max_ = df_clusters.frequency.max()\n",
    "        if bins is None:\n",
    "            bins = int((max_ - min_)/10)\n",
    "            \n",
    "        figure, ax= plt.subplots(figsize=(15,3))\n",
    "        subset = df_clusters[(df_clusters.frequency> min_)&(df_clusters.frequency< max_)].frequency\n",
    "        plt.title(name)\n",
    "        plt.xlabel('Cluster Size')\n",
    "        plt.hist(subset, bins=bins)"
   ]
  },
  {
   "cell_type": "markdown",
   "id": "445ec398",
   "metadata": {},
   "source": [
    "### Cluster Size"
   ]
  },
  {
   "cell_type": "markdown",
   "id": "446cd36e",
   "metadata": {},
   "source": [
    "<b> Local Business"
   ]
  },
  {
   "cell_type": "code",
   "execution_count": 55,
   "id": "3622a615",
   "metadata": {},
   "outputs": [
    {
     "data": {
      "image/png": "[encoded data removed]",
      "text/plain": [
       "<Figure size 1080x216 with 1 Axes>"
      ]
     },
     "metadata": {
      "needs_background": "light"
     },
     "output_type": "display_data"
    }
   ],
   "source": [
    "LocalBusiness = EntityCluster('Local Business', df_LB)\n",
    "cluster_statistics_LB = LocalBusiness.create_cluster_statistics()\n",
    "cluster_plot_LB = LocalBusiness.plot_histogram(bins=300)"
   ]
  },
  {
   "cell_type": "code",
   "execution_count": 56,
   "id": "6658f27a",
   "metadata": {},
   "outputs": [
    {
     "data": {
      "text/plain": [
       "count    25283.000000\n",
       "mean        19.768105\n",
       "std        129.693140\n",
       "min          2.000000\n",
       "25%          2.000000\n",
       "50%          2.000000\n",
       "75%          4.000000\n",
       "max      12704.000000\n",
       "Name: frequency, dtype: float64"
      ]
     },
     "execution_count": 56,
     "metadata": {},
     "output_type": "execute_result"
    }
   ],
   "source": [
    "cluster_statistics_LB"
   ]
  },
  {
   "cell_type": "markdown",
   "id": "964f912c",
   "metadata": {},
   "source": [
    "<b> Restaurants"
   ]
  },
  {
   "cell_type": "code",
   "execution_count": 57,
   "id": "df309b04",
   "metadata": {},
   "outputs": [
    {
     "data": {
      "image/png": "[encoded data removed]",
      "text/plain": [
       "<Figure size 1080x216 with 1 Axes>"
      ]
     },
     "metadata": {
      "needs_background": "light"
     },
     "output_type": "display_data"
    }
   ],
   "source": [
    "Restaurant = EntityCluster('Restaurant', df_restaurant)\n",
    "cluster_statistics_restaurant = Restaurant.create_cluster_statistics()\n",
    "cluster_plot_restaurant = Restaurant.plot_histogram(min_=5, max_=2000, bins=300)"
   ]
  },
  {
   "cell_type": "code",
   "execution_count": 58,
   "id": "98962563",
   "metadata": {},
   "outputs": [
    {
     "data": {
      "text/plain": [
       "count    10919.000000\n",
       "mean         5.908142\n",
       "std         22.475630\n",
       "min          2.000000\n",
       "25%          2.000000\n",
       "50%          3.000000\n",
       "75%          5.000000\n",
       "max       2032.000000\n",
       "Name: frequency, dtype: float64"
      ]
     },
     "execution_count": 58,
     "metadata": {},
     "output_type": "execute_result"
    }
   ],
   "source": [
    "cluster_statistics_restaurant"
   ]
  },
  {
   "cell_type": "markdown",
   "id": "550d79f1",
   "metadata": {},
   "source": [
    "<b>Hotels"
   ]
  },
  {
   "cell_type": "code",
   "execution_count": 59,
   "id": "54f198b5",
   "metadata": {},
   "outputs": [
    {
     "data": {
      "image/png": "[encoded data removed]",
      "text/plain": [
       "<Figure size 1080x216 with 1 Axes>"
      ]
     },
     "metadata": {
      "needs_background": "light"
     },
     "output_type": "display_data"
    }
   ],
   "source": [
    "Hotel = EntityCluster('Hotel', df_hotel)\n",
    "cluster_statistics_hotel = Hotel.create_cluster_statistics()\n",
    "cluster_plot_hotel = Hotel.plot_histogram(min_=5, max_=2000, bins=250)"
   ]
  },
  {
   "cell_type": "code",
   "execution_count": 60,
   "id": "93b2f7e3",
   "metadata": {},
   "outputs": [
    {
     "data": {
      "text/plain": [
       "count    6993.000000\n",
       "mean       67.527385\n",
       "std       215.552493\n",
       "min         2.000000\n",
       "25%         2.000000\n",
       "50%         3.000000\n",
       "75%         4.000000\n",
       "max      5183.000000\n",
       "Name: frequency, dtype: float64"
      ]
     },
     "execution_count": 60,
     "metadata": {},
     "output_type": "execute_result"
    }
   ],
   "source": [
    "cluster_statistics_hotel"
   ]
  },
  {
   "cell_type": "markdown",
   "id": "14b3fcab",
   "metadata": {},
   "source": [
    "<b> all catergories"
   ]
  },
  {
   "cell_type": "code",
   "execution_count": 61,
   "id": "9b154ad2",
   "metadata": {},
   "outputs": [],
   "source": [
    "classes = [LocalBusiness, Restaurant, Hotel]\n",
    "\n",
    "cluster_all = {}\n",
    "for c in classes:\n",
    "    cluster_all.update(c.get_cluster())"
   ]
  },
  {
   "cell_type": "code",
   "execution_count": 62,
   "id": "c31482af",
   "metadata": {},
   "outputs": [
    {
     "data": {
      "image/png": "[encoded data removed]",
      "text/plain": [
       "<Figure size 1080x216 with 1 Axes>"
      ]
     },
     "metadata": {
      "needs_background": "light"
     },
     "output_type": "display_data"
    }
   ],
   "source": [
    "AllCategories = EntityCluster('All Entities: Local Business, Restaurant, Hotel')\n",
    "AllCategories.cluster = cluster_all\n",
    "cluster_statistics_all = AllCategories.create_cluster_statistics()\n",
    "cluster_plot_all = AllCategories.plot_histogram(min_=20, max_=5000, bins=250)"
   ]
  },
  {
   "cell_type": "code",
   "execution_count": 63,
   "id": "db4bbf48",
   "metadata": {},
   "outputs": [
    {
     "data": {
      "text/plain": [
       "count    42606.000000\n",
       "mean        23.201497\n",
       "std        132.123146\n",
       "min          2.000000\n",
       "25%          2.000000\n",
       "50%          2.000000\n",
       "75%          4.000000\n",
       "max      12704.000000\n",
       "Name: frequency, dtype: float64"
      ]
     },
     "execution_count": 63,
     "metadata": {},
     "output_type": "execute_result"
    }
   ],
   "source": [
    "cluster_statistics_all"
   ]
  }
 ],
 "metadata": {
  "kernelspec": {
   "display_name": "Python 3",
   "language": "python",
   "name": "python3"
  },
  "language_info": {
   "codemirror_mode": {
    "name": "ipython",
    "version": 3
   },
   "file_extension": ".py",
   "mimetype": "text/x-python",
   "name": "python",
   "nbconvert_exporter": "python",
   "pygments_lexer": "ipython3",
   "version": "3.8.8"
  }
 },
 "nbformat": 4,
 "nbformat_minor": 5
}
