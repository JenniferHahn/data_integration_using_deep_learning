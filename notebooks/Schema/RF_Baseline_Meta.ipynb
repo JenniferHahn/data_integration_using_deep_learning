{
 "cells": [
  {
   "cell_type": "code",
   "execution_count": 88,
   "id": "718824fb",
   "metadata": {},
   "outputs": [],
   "source": [
    "# Approach not based on text\n",
    "\n",
    "import os\n",
    "import pandas as pd\n",
    "import gzip\n",
    "import json\n",
    "import numpy as np\n",
    "import nltk\n",
    "from nltk.corpus import stopwords\n",
    "import string\n",
    "from nltk.tokenize import word_tokenize\n",
    "from sklearn.feature_extraction.text import TfidfVectorizer\n",
    "from sklearn.feature_extraction.text import CountVectorizer\n",
    "from sklearn.ensemble import RandomForestClassifier\n",
    "from sklearn.metrics import accuracy_score, f1_score, precision_score, recall_score\n",
    "import re"
   ]
  },
  {
   "cell_type": "code",
   "execution_count": 89,
   "id": "7c4dae5f",
   "metadata": {},
   "outputs": [],
   "source": [
    "train = pd.read_csv('../../src/data/schemafiltereddata/TrainTestTables/small_train_prepped.csv')\n",
    "train.drop(['class', 'Unnamed: 0'], axis=1, inplace=True)"
   ]
  },
  {
   "cell_type": "code",
   "execution_count": 90,
   "id": "262caf09",
   "metadata": {},
   "outputs": [],
   "source": [
    "test = pd.read_csv('../../src/data/schemafiltereddata/TrainTestTables/test_tables_seq.csv')\n",
    "test[\"label_complete\"] = test[\"name\"] + test[\"class\"]\n",
    "test.drop(test[(test['name']=='inalbum') &(test['class']=='MusicRecording')].index, inplace=True)\n",
    "test.drop(test[(test['name']=='performer') &(test['class']=='Event')].index, inplace=True)\n",
    "test.drop(test[(test['name']=='eventattendancemode') &(test['class']=='Event')].index, inplace=True)\n",
    "test.drop(test[(test['name']=='eventstatus') &(test['class']=='Event')].index, inplace=True)\n",
    "test.shape\n",
    "test.drop(['Unnamed: 0', 'class'], axis=1, inplace=True)\n",
    "test['text'] = test.text.apply(lambda x: re.sub(\"[^0-9a-zA-Z-@]+\", \" \", x))"
   ]
  },
  {
   "cell_type": "code",
   "execution_count": 91,
   "id": "f441b4cf",
   "metadata": {},
   "outputs": [],
   "source": [
    "labels_new = {'worstratingProduct': 0,\n",
    " 'acceptsreservationsRestaurant': 1,\n",
    " 'additionalnamePerson': 2,\n",
    " 'additionalpropertyProduct': 3,\n",
    " 'addressHotel': 4,\n",
    " 'addressLocalBusiness': 5,\n",
    " 'addressPerson': 6,\n",
    " 'addressProduct': 7,\n",
    " 'addressRestaurant': 8,\n",
    " 'addresslocalityLocalBusiness': 9,\n",
    " 'addressregionLocalBusiness': 10,\n",
    " 'affiliationPerson': 11,\n",
    " 'aggregateratingBook': 12,\n",
    " 'aggregateratingCreativeWork': 13,\n",
    " 'aggregateratingHotel': 14,\n",
    " 'aggregateratingLocalBusiness': 15,\n",
    " 'aggregateratingProduct': 16,\n",
    " 'aggregateratingRecipe': 17,\n",
    " 'aggregateratingRestaurant': 18,\n",
    " 'alternatenameProduct': 19,\n",
    " 'alternativeheadlineCreativeWork': 20,\n",
    " 'areaservedLocalBusiness': 21,\n",
    " 'articlebodyCreativeWork': 22,\n",
    " 'audienceProduct': 23,\n",
    " 'authorBook': 24,\n",
    " 'authorCreativeWork': 25,\n",
    " 'authorProduct': 26,\n",
    " 'authorRecipe': 27,\n",
    " 'availabilityProduct': 28,\n",
    " 'bestratingProduct': 29,\n",
    " 'birthdatePerson': 30,\n",
    " 'birthplacePerson': 31,\n",
    " 'bookeditionBook': 32,\n",
    " 'bookformatBook': 33,\n",
    " 'brandProduct': 34,\n",
    " 'breadcrumbProduct': 35,\n",
    " 'byartistMusicAlbum': 36,\n",
    " 'byartistMusicRecording': 37,\n",
    " 'categoryProduct': 38,\n",
    " 'citystatezipLocalBusiness': 39,\n",
    " 'colorProduct': 40,\n",
    " 'commentcountCreativeWork': 41,\n",
    " 'conditionProduct': 42,\n",
    " 'contactpointLocalBusiness': 43,\n",
    " 'contactpointPerson': 44,\n",
    " 'cookingmethodRecipe': 45,\n",
    " 'cooktimeRecipe': 46,\n",
    " 'copyrightholderCreativeWork': 47,\n",
    " 'copyrightyearCreativeWork': 48,\n",
    " 'creatorCreativeWork': 49,\n",
    " 'datecreatedCreativeWork': 50,\n",
    " 'datecreatedMusicRecording': 51,\n",
    " 'datemodifiedCreativeWork': 52,\n",
    " 'datemodifiedRecipe': 53,\n",
    " 'datepublishedBook': 54,\n",
    " 'datepublishedCreativeWork': 55,\n",
    " 'datepublishedMusicRecording': 56,\n",
    " 'datepublishedProduct': 57,\n",
    " 'datepublishedRecipe': 58,\n",
    " 'deathdatePerson': 59,\n",
    " 'depthProduct': 60,\n",
    " 'disambiguatingdescriptionProduct': 61,\n",
    " 'doortimeEvent': 62,\n",
    " 'durationEvent': 63,\n",
    " 'durationMusicRecording': 64,\n",
    " 'emailHotel': 65,\n",
    " 'emailLocalBusiness': 66,\n",
    " 'emailPerson': 67,\n",
    " 'enddateEvent': 68,\n",
    " 'episodenumberTVEpisode': 69,\n",
    " 'worksforPerson': 70,\n",
    " 'familynamePerson': 71,\n",
    " 'faxnumberLocalBusiness': 72,\n",
    " 'faxnumberPerson': 73,\n",
    " 'genderPerson': 74,\n",
    " 'genreBook': 75,\n",
    " 'genreCreativeWork': 76,\n",
    " 'genreMusicRecording': 77,\n",
    " 'geoHotel': 78,\n",
    " 'geoLocalBusiness': 79,\n",
    " 'geoPlace': 80,\n",
    " 'geoProduct': 81,\n",
    " 'geoRestaurant': 82,\n",
    " 'givennamePerson': 83,\n",
    " 'gtin12Product': 84,\n",
    " 'gtin13Product': 85,\n",
    " 'gtin14Product': 86,\n",
    " 'gtin8Product': 87,\n",
    " 'gtinProduct': 88,\n",
    " 'hasmapLocalBusiness': 89,\n",
    " 'hasmenuRestaurant': 90,\n",
    " 'headlineCreativeWork': 91,\n",
    " 'headlineRecipe': 92,\n",
    " 'heightPerson': 93,\n",
    " 'heightProduct': 94,\n",
    " 'homelocationPerson': 95,\n",
    " 'identifierProduct': 96,\n",
    " 'worklocationPerson': 97,\n",
    " 'ingredientsRecipe': 98,\n",
    " 'inlanguageBook': 99,\n",
    " 'inlanguageCreativeWork': 100,\n",
    " 'interactioncountCreativeWork': 101,\n",
    " 'interactionstatisticCreativeWork': 102,\n",
    " 'interactiontypeCreativeWork': 103,\n",
    " 'isbnBook': 104,\n",
    " 'ispartofRecipe': 105,\n",
    " 'isrelatedtoProduct': 106,\n",
    " 'issimilartoProduct': 107,\n",
    " 'itemconditionProduct': 108,\n",
    " 'itemlistelementProduct': 109,\n",
    " 'jobtitlePerson': 110,\n",
    " 'keywordsCreativeWork': 111,\n",
    " 'keywordsRecipe': 112,\n",
    " 'knowslanguagePerson': 113,\n",
    " 'legalnameLocalBusiness': 114,\n",
    " 'locationEvent': 115,\n",
    " 'locationLocalBusiness': 116,\n",
    " 'mainentityofpageCreativeWork': 117,\n",
    " 'mainentityofpagePerson': 118,\n",
    " 'mainentityofpageProduct': 119,\n",
    " 'mainentityofpageRecipe': 120,\n",
    " 'makesofferPerson': 121,\n",
    " 'manufacturerProduct': 122,\n",
    " 'materialProduct': 123,\n",
    " 'memberofPerson': 124,\n",
    " 'menuRestaurant': 125,\n",
    " 'modelProduct': 126,\n",
    " 'mpnProduct': 127,\n",
    " 'nameBook': 128,\n",
    " 'nameCreativeWork': 129,\n",
    " 'nameEvent': 130,\n",
    " 'nameHotel': 131,\n",
    " 'nameLocalBusiness': 132,\n",
    " 'nameMusicAlbum': 133,\n",
    " 'nameMusicRecording': 134,\n",
    " 'namePlace': 135,\n",
    " 'nameProduct': 136,\n",
    " 'nameRecipe': 137,\n",
    " 'nameRestaurant': 138,\n",
    " 'nameTVEpisode': 139,\n",
    " 'nationalityPerson': 140,\n",
    " 'numberofpagesBook': 141,\n",
    " 'numtracksMusicAlbum': 142,\n",
    " 'nutritionRecipe': 143,\n",
    " 'weightProduct': 144,\n",
    " 'offersBook': 145,\n",
    " 'offersCreativeWork': 146,\n",
    " 'offersProduct': 147,\n",
    " 'openinghoursLocalBusiness': 148,\n",
    " 'openinghoursRestaurant': 149,\n",
    " 'openinghoursspecificationLocalBusiness': 150,\n",
    " 'openinghoursspecificationPlace': 151,\n",
    " 'openinghoursspecificationRestaurant': 152,\n",
    " 'organizerEvent': 153,\n",
    " 'partofseriesTVEpisode': 154,\n",
    " 'paymentacceptedLocalBusiness': 155,\n",
    " 'widthProduct': 156,\n",
    " 'performersEvent': 157,\n",
    " 'performtimeRecipe': 158,\n",
    " 'postalcodeLocalBusiness': 159,\n",
    " 'preptimeRecipe': 160,\n",
    " 'priceProduct': 161,\n",
    " 'pricecurrencyProduct': 162,\n",
    " 'pricerangeHotel': 163,\n",
    " 'pricerangeLocalBusiness': 164,\n",
    " 'pricerangeRestaurant': 165,\n",
    " 'publisherBook': 166,\n",
    " 'publisherCreativeWork': 167,\n",
    " 'publisherRecipe': 168,\n",
    " 'ratingvalueProduct': 169,\n",
    " 'recipecategoryRecipe': 170,\n",
    " 'recipecuisineRecipe': 171,\n",
    " 'recipeingredientRecipe': 172,\n",
    " 'recipeinstructionsRecipe': 173,\n",
    " 'recipeyieldRecipe': 174,\n",
    " 'releasedateProduct': 175,\n",
    " 'reviewLocalBusiness': 176,\n",
    " 'reviewProduct': 177,\n",
    " 'reviewRecipe': 178,\n",
    " 'reviewcountProduct': 179,\n",
    " 'reviewsProduct': 180,\n",
    " 'sameasLocalBusiness': 181,\n",
    " 'sameasPerson': 182,\n",
    " 'sameasPlace': 183,\n",
    " 'servescuisineRestaurant': 184,\n",
    " 'shop-currencyProduct': 185,\n",
    " 'starratingHotel': 186,\n",
    " 'streetaddressLocalBusiness': 187,\n",
    " 'suitablefordietRecipe': 188,\n",
    " 'telephoneHotel': 189,\n",
    " 'telephoneLocalBusiness': 190,\n",
    " 'telephonePerson': 191,\n",
    " 'telephonePlace': 192,\n",
    " 'telephoneRestaurant': 193,\n",
    " 'titleProduct': 194,\n",
    " 'totaltimeRecipe': 195,\n",
    " 'trackMusicAlbum': 196,\n",
    " 'typicalagerangeEvent': 197,\n",
    " 'versionCreativeWork': 198,\n",
    " 'weightPerson': 199,\n",
    " 'offerdetailsProduct': 200,\n",
    " 'founderLocalBusiness': 201\n",
    " #'eventattendancemodeEvent': 201,\n",
    " #'performerEvent': 202,\n",
    " #'inalbumMusicRecording': 203,\n",
    " #'eventstatusEvent': 204\n",
    " }"
   ]
  },
  {
   "cell_type": "code",
   "execution_count": 92,
   "id": "07a324e2",
   "metadata": {},
   "outputs": [],
   "source": [
    "test['label'] = test.label_complete.map(labels_new)"
   ]
  },
  {
   "cell_type": "code",
   "execution_count": 93,
   "id": "9ad64d7e",
   "metadata": {},
   "outputs": [],
   "source": [
    "test.drop(['label_complete', 'name'], axis=1, inplace=True)"
   ]
  },
  {
   "cell_type": "code",
   "execution_count": 94,
   "id": "c6d7ffa7",
   "metadata": {},
   "outputs": [
    {
     "data": {
      "text/html": [
       "<div>\n",
       "<style scoped>\n",
       "    .dataframe tbody tr th:only-of-type {\n",
       "        vertical-align: middle;\n",
       "    }\n",
       "\n",
       "    .dataframe tbody tr th {\n",
       "        vertical-align: top;\n",
       "    }\n",
       "\n",
       "    .dataframe thead th {\n",
       "        text-align: right;\n",
       "    }\n",
       "</style>\n",
       "<table border=\"1\" class=\"dataframe\">\n",
       "  <thead>\n",
       "    <tr style=\"text-align: right;\">\n",
       "      <th></th>\n",
       "      <th>text</th>\n",
       "      <th>label</th>\n",
       "    </tr>\n",
       "  </thead>\n",
       "  <tbody>\n",
       "    <tr>\n",
       "      <th>0</th>\n",
       "      <td>Bierwurst.com Cupids Dating Tips.com Ramsbury....</td>\n",
       "      <td>136</td>\n",
       "    </tr>\n",
       "    <tr>\n",
       "      <th>1</th>\n",
       "      <td>{'price': '12950', 'availability': 'https://sc...</td>\n",
       "      <td>147</td>\n",
       "    </tr>\n",
       "    <tr>\n",
       "      <th>2</th>\n",
       "      <td>Food and Drink Lifestyle &gt; Dating Travel Desig...</td>\n",
       "      <td>38</td>\n",
       "    </tr>\n",
       "    <tr>\n",
       "      <th>3</th>\n",
       "      <td>2020-09-16T02:57:04+01:00 2020-09-10T08:33:11+...</td>\n",
       "      <td>175</td>\n",
       "    </tr>\n",
       "    <tr>\n",
       "      <th>4</th>\n",
       "      <td>[{'name': 'pa_internet-archive-age', 'value': ...</td>\n",
       "      <td>3</td>\n",
       "    </tr>\n",
       "  </tbody>\n",
       "</table>\n",
       "</div>"
      ],
      "text/plain": [
       "                                                text  label\n",
       "0  Bierwurst.com Cupids Dating Tips.com Ramsbury....    136\n",
       "1  {'price': '12950', 'availability': 'https://sc...    147\n",
       "2  Food and Drink Lifestyle > Dating Travel Desig...     38\n",
       "3  2020-09-16T02:57:04+01:00 2020-09-10T08:33:11+...    175\n",
       "4  [{'name': 'pa_internet-archive-age', 'value': ...      3"
      ]
     },
     "execution_count": 94,
     "metadata": {},
     "output_type": "execute_result"
    }
   ],
   "source": [
    "train.head()"
   ]
  },
  {
   "cell_type": "code",
   "execution_count": 95,
   "id": "068a9447",
   "metadata": {},
   "outputs": [
    {
     "data": {
      "text/plain": [
       "(11356, 2)"
      ]
     },
     "execution_count": 95,
     "metadata": {},
     "output_type": "execute_result"
    }
   ],
   "source": [
    "train.shape"
   ]
  },
  {
   "cell_type": "code",
   "execution_count": 96,
   "id": "0e24365e",
   "metadata": {},
   "outputs": [
    {
     "data": {
      "text/html": [
       "<div>\n",
       "<style scoped>\n",
       "    .dataframe tbody tr th:only-of-type {\n",
       "        vertical-align: middle;\n",
       "    }\n",
       "\n",
       "    .dataframe tbody tr th {\n",
       "        vertical-align: top;\n",
       "    }\n",
       "\n",
       "    .dataframe thead th {\n",
       "        text-align: right;\n",
       "    }\n",
       "</style>\n",
       "<table border=\"1\" class=\"dataframe\">\n",
       "  <thead>\n",
       "    <tr style=\"text-align: right;\">\n",
       "      <th></th>\n",
       "      <th>text</th>\n",
       "      <th>label</th>\n",
       "    </tr>\n",
       "  </thead>\n",
       "  <tbody>\n",
       "    <tr>\n",
       "      <th>0</th>\n",
       "      <td>Plauen Indonesien Freiburg Iraq-Kurdistan Boch...</td>\n",
       "      <td>130</td>\n",
       "    </tr>\n",
       "    <tr>\n",
       "      <th>1</th>\n",
       "      <td>2022-03-27T16 30 00 01 00 2020-11-15T22 00 00 ...</td>\n",
       "      <td>68</td>\n",
       "    </tr>\n",
       "    <tr>\n",
       "      <th>2</th>\n",
       "      <td>name Abenteuer Arena name Paulussaal name Deu...</td>\n",
       "      <td>115</td>\n",
       "    </tr>\n",
       "    <tr>\n",
       "      <th>3</th>\n",
       "      <td>name Freitr umer Festival name MUNDOlogia nam...</td>\n",
       "      <td>153</td>\n",
       "    </tr>\n",
       "    <tr>\n",
       "      <th>4</th>\n",
       "      <td>M y l m kem Sunny Way RB1119A T M T 2 C NH K N...</td>\n",
       "      <td>136</td>\n",
       "    </tr>\n",
       "  </tbody>\n",
       "</table>\n",
       "</div>"
      ],
      "text/plain": [
       "                                                text  label\n",
       "0  Plauen Indonesien Freiburg Iraq-Kurdistan Boch...    130\n",
       "1  2022-03-27T16 30 00 01 00 2020-11-15T22 00 00 ...     68\n",
       "2   name Abenteuer Arena name Paulussaal name Deu...    115\n",
       "3   name Freitr umer Festival name MUNDOlogia nam...    153\n",
       "4  M y l m kem Sunny Way RB1119A T M T 2 C NH K N...    136"
      ]
     },
     "execution_count": 96,
     "metadata": {},
     "output_type": "execute_result"
    }
   ],
   "source": [
    "test.head()"
   ]
  },
  {
   "cell_type": "code",
   "execution_count": 97,
   "id": "de998075",
   "metadata": {},
   "outputs": [
    {
     "data": {
      "text/plain": [
       "(7033, 2)"
      ]
     },
     "execution_count": 97,
     "metadata": {},
     "output_type": "execute_result"
    }
   ],
   "source": [
    "test.shape"
   ]
  },
  {
   "cell_type": "code",
   "execution_count": 98,
   "id": "aa81d816",
   "metadata": {},
   "outputs": [],
   "source": [
    "data = train.append(test)"
   ]
  },
  {
   "cell_type": "code",
   "execution_count": 99,
   "id": "26c599bb",
   "metadata": {},
   "outputs": [],
   "source": [
    "def has_structure(val):\n",
    "    if re.findall(\"[{}]\",val) != []:\n",
    "        return 1\n",
    "    else:\n",
    "        return 0"
   ]
  },
  {
   "cell_type": "code",
   "execution_count": 100,
   "id": "c92ddb33",
   "metadata": {},
   "outputs": [],
   "source": [
    "def avg_word_len(string):\n",
    "    s = 0\n",
    "    string = string.split(' ')\n",
    "    for word in string:\n",
    "        #print(word)\n",
    "        s = s + len(word)\n",
    "    return (s / len(string))\n",
    "    "
   ]
  },
  {
   "cell_type": "code",
   "execution_count": 101,
   "id": "a3520543",
   "metadata": {},
   "outputs": [],
   "source": [
    "def are_dates(string):\n",
    "    if re.findall(\"(\\d+-\\d+-\\d+)\",string) != []:\n",
    "        return 1\n",
    "    else:\n",
    "        return 0"
   ]
  },
  {
   "cell_type": "code",
   "execution_count": 102,
   "id": "b700fef7",
   "metadata": {},
   "outputs": [],
   "source": [
    "data['has_structure'] = data.text.apply(has_structure)"
   ]
  },
  {
   "cell_type": "code",
   "execution_count": 103,
   "id": "a909c0e8",
   "metadata": {},
   "outputs": [],
   "source": [
    "data['len_string'] = data.text.apply(len)"
   ]
  },
  {
   "cell_type": "code",
   "execution_count": 104,
   "id": "abc26094",
   "metadata": {},
   "outputs": [],
   "source": [
    "data['avg_word_len'] = data.text.apply(avg_word_len)"
   ]
  },
  {
   "cell_type": "code",
   "execution_count": 105,
   "id": "6389ff71",
   "metadata": {},
   "outputs": [],
   "source": [
    "data['includes_dates'] = data.text.apply(are_dates)"
   ]
  },
  {
   "cell_type": "code",
   "execution_count": 106,
   "id": "12dc3acb",
   "metadata": {},
   "outputs": [
    {
     "data": {
      "text/html": [
       "<div>\n",
       "<style scoped>\n",
       "    .dataframe tbody tr th:only-of-type {\n",
       "        vertical-align: middle;\n",
       "    }\n",
       "\n",
       "    .dataframe tbody tr th {\n",
       "        vertical-align: top;\n",
       "    }\n",
       "\n",
       "    .dataframe thead th {\n",
       "        text-align: right;\n",
       "    }\n",
       "</style>\n",
       "<table border=\"1\" class=\"dataframe\">\n",
       "  <thead>\n",
       "    <tr style=\"text-align: right;\">\n",
       "      <th></th>\n",
       "      <th>text</th>\n",
       "      <th>label</th>\n",
       "      <th>has_structure</th>\n",
       "      <th>len_string</th>\n",
       "      <th>avg_word_len</th>\n",
       "      <th>includes_dates</th>\n",
       "    </tr>\n",
       "  </thead>\n",
       "  <tbody>\n",
       "    <tr>\n",
       "      <th>0</th>\n",
       "      <td>Bierwurst.com Cupids Dating Tips.com Ramsbury....</td>\n",
       "      <td>136</td>\n",
       "      <td>0</td>\n",
       "      <td>641</td>\n",
       "      <td>8.171429</td>\n",
       "      <td>0</td>\n",
       "    </tr>\n",
       "    <tr>\n",
       "      <th>1</th>\n",
       "      <td>{'price': '12950', 'availability': 'https://sc...</td>\n",
       "      <td>147</td>\n",
       "      <td>1</td>\n",
       "      <td>3768</td>\n",
       "      <td>16.288991</td>\n",
       "      <td>0</td>\n",
       "    </tr>\n",
       "    <tr>\n",
       "      <th>2</th>\n",
       "      <td>Food and Drink Lifestyle &gt; Dating Travel Desig...</td>\n",
       "      <td>38</td>\n",
       "      <td>0</td>\n",
       "      <td>664</td>\n",
       "      <td>4.937500</td>\n",
       "      <td>0</td>\n",
       "    </tr>\n",
       "    <tr>\n",
       "      <th>3</th>\n",
       "      <td>2020-09-16T02:57:04+01:00 2020-09-10T08:33:11+...</td>\n",
       "      <td>175</td>\n",
       "      <td>0</td>\n",
       "      <td>805</td>\n",
       "      <td>25.000000</td>\n",
       "      <td>1</td>\n",
       "    </tr>\n",
       "    <tr>\n",
       "      <th>4</th>\n",
       "      <td>[{'name': 'pa_internet-archive-age', 'value': ...</td>\n",
       "      <td>3</td>\n",
       "      <td>1</td>\n",
       "      <td>2213</td>\n",
       "      <td>11.947368</td>\n",
       "      <td>0</td>\n",
       "    </tr>\n",
       "    <tr>\n",
       "      <th>...</th>\n",
       "      <td>...</td>\n",
       "      <td>...</td>\n",
       "      <td>...</td>\n",
       "      <td>...</td>\n",
       "      <td>...</td>\n",
       "      <td>...</td>\n",
       "    </tr>\n",
       "    <tr>\n",
       "      <th>7028</th>\n",
       "      <td>2020-03-13T03 20 17-04 00 2020-03-22T06 15 37-...</td>\n",
       "      <td>55</td>\n",
       "      <td>0</td>\n",
       "      <td>1559</td>\n",
       "      <td>5.500000</td>\n",
       "      <td>1</td>\n",
       "    </tr>\n",
       "    <tr>\n",
       "      <th>7029</th>\n",
       "      <td>2020-03-13T03 27 30 2020-03-24T02 33 27 2020-0...</td>\n",
       "      <td>52</td>\n",
       "      <td>0</td>\n",
       "      <td>1199</td>\n",
       "      <td>5.666667</td>\n",
       "      <td>1</td>\n",
       "    </tr>\n",
       "    <tr>\n",
       "      <th>7030</th>\n",
       "      <td>name Self Driving Cars 360 url https www self...</td>\n",
       "      <td>167</td>\n",
       "      <td>0</td>\n",
       "      <td>3841</td>\n",
       "      <td>5.382060</td>\n",
       "      <td>0</td>\n",
       "    </tr>\n",
       "    <tr>\n",
       "      <th>7031</th>\n",
       "      <td>https www selfdrivingcars360 com glossary leve...</td>\n",
       "      <td>117</td>\n",
       "      <td>0</td>\n",
       "      <td>3591</td>\n",
       "      <td>8.950139</td>\n",
       "      <td>0</td>\n",
       "    </tr>\n",
       "    <tr>\n",
       "      <th>7032</th>\n",
       "      <td>The six levels of driving automation as define...</td>\n",
       "      <td>22</td>\n",
       "      <td>0</td>\n",
       "      <td>29261</td>\n",
       "      <td>5.264611</td>\n",
       "      <td>0</td>\n",
       "    </tr>\n",
       "  </tbody>\n",
       "</table>\n",
       "<p>18389 rows × 6 columns</p>\n",
       "</div>"
      ],
      "text/plain": [
       "                                                   text  label  has_structure  \\\n",
       "0     Bierwurst.com Cupids Dating Tips.com Ramsbury....    136              0   \n",
       "1     {'price': '12950', 'availability': 'https://sc...    147              1   \n",
       "2     Food and Drink Lifestyle > Dating Travel Desig...     38              0   \n",
       "3     2020-09-16T02:57:04+01:00 2020-09-10T08:33:11+...    175              0   \n",
       "4     [{'name': 'pa_internet-archive-age', 'value': ...      3              1   \n",
       "...                                                 ...    ...            ...   \n",
       "7028  2020-03-13T03 20 17-04 00 2020-03-22T06 15 37-...     55              0   \n",
       "7029  2020-03-13T03 27 30 2020-03-24T02 33 27 2020-0...     52              0   \n",
       "7030   name Self Driving Cars 360 url https www self...    167              0   \n",
       "7031  https www selfdrivingcars360 com glossary leve...    117              0   \n",
       "7032  The six levels of driving automation as define...     22              0   \n",
       "\n",
       "      len_string  avg_word_len  includes_dates  \n",
       "0            641      8.171429               0  \n",
       "1           3768     16.288991               0  \n",
       "2            664      4.937500               0  \n",
       "3            805     25.000000               1  \n",
       "4           2213     11.947368               0  \n",
       "...          ...           ...             ...  \n",
       "7028        1559      5.500000               1  \n",
       "7029        1199      5.666667               1  \n",
       "7030        3841      5.382060               0  \n",
       "7031        3591      8.950139               0  \n",
       "7032       29261      5.264611               0  \n",
       "\n",
       "[18389 rows x 6 columns]"
      ]
     },
     "execution_count": 106,
     "metadata": {},
     "output_type": "execute_result"
    }
   ],
   "source": [
    "data"
   ]
  },
  {
   "cell_type": "code",
   "execution_count": 107,
   "id": "31131c45",
   "metadata": {},
   "outputs": [],
   "source": [
    "data.drop('text', axis=1, inplace=True)"
   ]
  },
  {
   "cell_type": "code",
   "execution_count": 108,
   "id": "2aaca8d8",
   "metadata": {},
   "outputs": [],
   "source": [
    "tr = data.head(11356)"
   ]
  },
  {
   "cell_type": "code",
   "execution_count": 109,
   "id": "4d506a27",
   "metadata": {},
   "outputs": [],
   "source": [
    "te = data.tail(7033)"
   ]
  },
  {
   "cell_type": "code",
   "execution_count": 83,
   "id": "7f7dc632",
   "metadata": {},
   "outputs": [
    {
     "data": {
      "text/plain": [
       "(11356, 6)"
      ]
     },
     "execution_count": 83,
     "metadata": {},
     "output_type": "execute_result"
    }
   ],
   "source": [
    "train.shape"
   ]
  },
  {
   "cell_type": "code",
   "execution_count": 84,
   "id": "f694d191",
   "metadata": {},
   "outputs": [
    {
     "data": {
      "text/plain": [
       "(7033, 6)"
      ]
     },
     "execution_count": 84,
     "metadata": {},
     "output_type": "execute_result"
    }
   ],
   "source": [
    "test.shape"
   ]
  },
  {
   "cell_type": "code",
   "execution_count": 112,
   "id": "467a99b1",
   "metadata": {},
   "outputs": [
    {
     "data": {
      "text/html": [
       "<div>\n",
       "<style scoped>\n",
       "    .dataframe tbody tr th:only-of-type {\n",
       "        vertical-align: middle;\n",
       "    }\n",
       "\n",
       "    .dataframe tbody tr th {\n",
       "        vertical-align: top;\n",
       "    }\n",
       "\n",
       "    .dataframe thead th {\n",
       "        text-align: right;\n",
       "    }\n",
       "</style>\n",
       "<table border=\"1\" class=\"dataframe\">\n",
       "  <thead>\n",
       "    <tr style=\"text-align: right;\">\n",
       "      <th></th>\n",
       "      <th>label</th>\n",
       "      <th>has_structure</th>\n",
       "      <th>len_string</th>\n",
       "      <th>avg_word_len</th>\n",
       "      <th>includes_dates</th>\n",
       "    </tr>\n",
       "  </thead>\n",
       "  <tbody>\n",
       "    <tr>\n",
       "      <th>0</th>\n",
       "      <td>136</td>\n",
       "      <td>0</td>\n",
       "      <td>641</td>\n",
       "      <td>8.171429</td>\n",
       "      <td>0</td>\n",
       "    </tr>\n",
       "  </tbody>\n",
       "</table>\n",
       "</div>"
      ],
      "text/plain": [
       "   label  has_structure  len_string  avg_word_len  includes_dates\n",
       "0    136              0         641      8.171429               0"
      ]
     },
     "execution_count": 112,
     "metadata": {},
     "output_type": "execute_result"
    }
   ],
   "source": [
    "tr.head(1)"
   ]
  },
  {
   "cell_type": "code",
   "execution_count": 113,
   "id": "e4211259",
   "metadata": {},
   "outputs": [],
   "source": [
    "y_train = tr['label']\n",
    "X_train = tr.drop(columns=['label'])"
   ]
  },
  {
   "cell_type": "code",
   "execution_count": 114,
   "id": "ad689371",
   "metadata": {},
   "outputs": [],
   "source": [
    "y_test = te['label']\n",
    "X_test = te.drop(columns=['label'])"
   ]
  },
  {
   "cell_type": "code",
   "execution_count": 118,
   "id": "877dcb09",
   "metadata": {},
   "outputs": [
    {
     "data": {
      "text/plain": [
       "RandomForestClassifier()"
      ]
     },
     "execution_count": 118,
     "metadata": {},
     "output_type": "execute_result"
    }
   ],
   "source": [
    "# Baseline random forest\n",
    "rf = RandomForestClassifier(n_estimators=100)\n",
    "rf.fit(X_train, y_train)"
   ]
  },
  {
   "cell_type": "code",
   "execution_count": 119,
   "id": "dec2ae9d",
   "metadata": {},
   "outputs": [
    {
     "name": "stdout",
     "output_type": "stream",
     "text": [
      "The F1-Score micro on test set: 0.1210\n",
      "The F1-Score macro on test set: 0.0264\n",
      "The Precision on test set: 0.1210\n",
      "The Recall on test set: 0.1210\n",
      "The Precision macro on test set: 0.0286\n",
      "The Recall macro on test set: 0.0377\n",
      "The Accuracy-Score on test set: 0.1210\n"
     ]
    },
    {
     "name": "stderr",
     "output_type": "stream",
     "text": [
      "/home/bizer-tp2021/anaconda3/lib/python3.8/site-packages/sklearn/metrics/_classification.py:1245: UndefinedMetricWarning: Precision is ill-defined and being set to 0.0 in labels with no predicted samples. Use `zero_division` parameter to control this behavior.\n",
      "  _warn_prf(average, modifier, msg_start, len(result))\n",
      "/home/bizer-tp2021/anaconda3/lib/python3.8/site-packages/sklearn/metrics/_classification.py:1245: UndefinedMetricWarning: Recall is ill-defined and being set to 0.0 in labels with no true samples. Use `zero_division` parameter to control this behavior.\n",
      "  _warn_prf(average, modifier, msg_start, len(result))\n"
     ]
    }
   ],
   "source": [
    "prediction = rf.predict(X_test) \n",
    "f1_mic = f1_score(y_test,prediction,average='micro')\n",
    "f1_mac = f1_score(y_test,prediction,average='macro')\n",
    "accuracy = accuracy_score(y_test,prediction) \n",
    "precision = precision_score(y_test,prediction,average='micro') \n",
    "recall = recall_score(y_test,prediction,average='micro') \n",
    "precision_mac = precision_score(y_test,prediction,average='macro') \n",
    "recall_mac = recall_score(y_test,prediction,average='macro') \n",
    "print(\"The F1-Score micro on test set: {:.4f}\".format(f1_mic))\n",
    "print(\"The F1-Score macro on test set: {:.4f}\".format(f1_mac))\n",
    "print(\"The Precision on test set: {:.4f}\".format(precision))\n",
    "print(\"The Recall on test set: {:.4f}\".format(recall))\n",
    "print(\"The Precision macro on test set: {:.4f}\".format(precision_mac))\n",
    "print(\"The Recall macro on test set: {:.4f}\".format(recall_mac))\n",
    "print(\"The Accuracy-Score on test set: {:.4f}\".format(accuracy))"
   ]
  },
  {
   "cell_type": "code",
   "execution_count": null,
   "id": "f8835ed3",
   "metadata": {},
   "outputs": [],
   "source": []
  }
 ],
 "metadata": {
  "kernelspec": {
   "display_name": "Python 3 (ipykernel)",
   "language": "python",
   "name": "python3"
  },
  "language_info": {
   "codemirror_mode": {
    "name": "ipython",
    "version": 3
   },
   "file_extension": ".py",
   "mimetype": "text/x-python",
   "name": "python",
   "nbconvert_exporter": "python",
   "pygments_lexer": "ipython3",
   "version": "3.8.8"
  }
 },
 "nbformat": 4,
 "nbformat_minor": 5
}
