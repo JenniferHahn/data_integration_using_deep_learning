{
 "cells": [
  {
   "cell_type": "code",
   "execution_count": 1,
   "metadata": {},
   "outputs": [],
   "source": [
    "import pandas as pd\n",
    "import json \n",
    "import gzip\n",
    "import os\n",
    "import re as regex\n",
    "import pickle\n",
    "import progressbar"
   ]
  },
  {
   "cell_type": "code",
   "execution_count": 2,
   "metadata": {},
   "outputs": [],
   "source": [
    "#pip install progressbar2"
   ]
  },
  {
   "cell_type": "code",
   "execution_count": 3,
   "metadata": {},
   "outputs": [],
   "source": [
    "path = '../../../src/data/schemafiltereddata/TrainTestTables/'\n",
    "#small_files_train = os.listdir(path+'Small/Train/')\n",
    "small_files_train = [file for file in os.listdir(path+'Small/Train/') if file.endswith('.json.gz')]  \n",
    "#turl_input_path = os.path.join(product_path, 'TURL/input')"
   ]
  },
  {
   "cell_type": "code",
   "execution_count": 9,
   "metadata": {},
   "outputs": [
    {
     "data": {
      "text/plain": [
       "['Product_kingmemorialpark.com_September2020.json.gz',\n",
       " 'MusicRecording_bencrosbymusic.com_September2020.json.gz',\n",
       " 'Product_mycraftystencils.com_September2020.json.gz',\n",
       " 'MusicRecording_thesoutherngothicmusic.com_September2020.json.gz',\n",
       " 'Product_adh.com.vn_September2020.json.gz',\n",
       " 'MusicRecording_richardpearsonthomas.com_September2020.json.gz',\n",
       " 'MusicRecording_bellaciaobandaitaliana.com_September2020.json.gz',\n",
       " 'Event_grpride.org_September2020.json.gz',\n",
       " 'Person_financial-planning.com_September2020.json.gz',\n",
       " 'Product_prindo.co.uk_September2020.json.gz',\n",
       " 'Recipe_parveenskitchen.com_September2020.json.gz',\n",
       " 'Product_kaylule.com.tr_September2020.json.gz',\n",
       " 'LocalBusiness_inaxvn.com_September2020.json.gz',\n",
       " 'Product_weltpixel.com_September2020.json.gz',\n",
       " 'MusicRecording_sutildiscos.com_September2020.json.gz',\n",
       " 'Product_continentalacura.com_September2020.json.gz',\n",
       " 'Recipe_grapearborbandb.com_September2020.json.gz',\n",
       " 'Product_joneschevy.com_September2020.json.gz',\n",
       " 'Event_worldsmarathons.com_September2020.json.gz',\n",
       " 'MusicRecording_wallylawder.com_September2020.json.gz',\n",
       " 'Place_losranchos.org_September2020.json.gz',\n",
       " 'Recipe_northcoasteats.com_September2020.json.gz',\n",
       " 'Person_urbanleasing.com_September2020.json.gz',\n",
       " 'Product_pixilink.com_September2020.json.gz',\n",
       " 'Product_billjacobsmini.com_September2020.json.gz',\n",
       " 'Product_dailydongtam.com_September2020.json.gz',\n",
       " 'Product_redpartyshop.com_September2020.json.gz',\n",
       " 'Product_socialitelife.com_September2020.json.gz',\n",
       " 'Product_avecbd.com_September2020.json.gz',\n",
       " 'Person_primas2.com_September2020.json.gz',\n",
       " 'MusicRecording_whitenoisemusic.co.uk_September2020.json.gz',\n",
       " 'MusicRecording_cindysleemusic.com_September2020.json.gz',\n",
       " 'Recipe_moinkbox.com_September2020.json.gz',\n",
       " 'Product_colesauto.net_September2020.json.gz',\n",
       " 'Book_stephensdrivingschool.co.uk_September2020.json.gz',\n",
       " 'Product_lex-hesse.com_September2020.json.gz',\n",
       " 'CreativeWork_wuileng.org.my_September2020.json.gz',\n",
       " 'Person_teenswallow.org_September2020.json.gz',\n",
       " 'Product_drumsonsale.com_September2020.json.gz',\n",
       " 'Product_bulkapparel.com_September2020.json.gz',\n",
       " 'MusicRecording_leslietommusic.com_September2020.json.gz',\n",
       " 'Product_stiiizy.org_September2020.json.gz',\n",
       " 'CreativeWork_experimentsinopera.com_September2020.json.gz',\n",
       " 'MusicRecording_aoifescott.com_September2020.json.gz',\n",
       " 'Recipe_thecarefreekitchen.com_September2020.json.gz',\n",
       " 'Product_zoccas.com_September2020.json.gz',\n",
       " 'Product_diversitechdowndraft.com_September2020.json.gz',\n",
       " 'MusicRecording_willpreyer.com_September2020.json.gz',\n",
       " 'MusicRecording_jamesdoreworld.com_September2020.json.gz',\n",
       " 'Product_wantdo.com_September2020.json.gz',\n",
       " 'Person_gabelliconnect.com_September2020.json.gz',\n",
       " 'Product_cardermotors.com_September2020.json.gz',\n",
       " 'Person_graveslibrary.org_September2020.json.gz',\n",
       " 'MusicRecording_rudeyna.com_September2020.json.gz',\n",
       " 'MusicRecording_richkrueger.com_September2020.json.gz',\n",
       " 'Product_ascentfootwear.com.au_September2020.json.gz',\n",
       " 'Recipe_nerdymamma.com_September2020.json.gz',\n",
       " 'Product_graphite-shop.com_September2020.json.gz',\n",
       " 'Product_mercadora172.com_September2020.json.gz',\n",
       " 'Product_churchchoirs.com_September2020.json.gz',\n",
       " 'MusicRecording_anniestaninec.com_September2020.json.gz',\n",
       " 'MusicRecording_jasonbravo.com_September2020.json.gz',\n",
       " 'Event_palacedrumclinic.com_September2020.json.gz',\n",
       " 'MusicRecording_drunkwithlove.com_September2020.json.gz',\n",
       " 'Hotel_askagateway.com_September2020.json.gz',\n",
       " 'Recipe_livelikeyouarerich.com_September2020.json.gz',\n",
       " 'MusicRecording_shovelheadmusic.com_September2020.json.gz',\n",
       " 'Event_thelouisiana.net_September2020.json.gz',\n",
       " 'Product_bensonsappliance.com_September2020.json.gz',\n",
       " 'Product_jpcomputersolutions.com.au_September2020.json.gz',\n",
       " 'Event_magdaleneproject.org_September2020.json.gz',\n",
       " 'CreativeWork_apothecaryrye.co.uk_September2020.json.gz',\n",
       " 'Person_cornejodayfuneralhome.com_September2020.json.gz',\n",
       " 'Product_panoramamoveis.com.br_September2020.json.gz',\n",
       " 'Event_grandekrewe.com_September2020.json.gz',\n",
       " 'Event_nulldevice.com_September2020.json.gz',\n",
       " 'Recipe_eatgathergo.org_September2020.json.gz',\n",
       " 'Product_shiningtee.com_September2020.json.gz',\n",
       " 'Product_ksm.com.au_September2020.json.gz',\n",
       " 'MusicRecording_blackberrywayrecords.com_September2020.json.gz',\n",
       " 'MusicRecording_kateweekes.com_September2020.json.gz',\n",
       " 'MusicRecording_gemmaandthejets.com_September2020.json.gz',\n",
       " 'Product_goldstardistributor.com_September2020.json.gz',\n",
       " 'Event_work2future.org_September2020.json.gz',\n",
       " 'MusicRecording_zaksloan.com_September2020.json.gz',\n",
       " 'Product_brumate.com_September2020.json.gz',\n",
       " 'MusicRecording_chrisbolint.com_September2020.json.gz',\n",
       " 'Place_mynortheaster.com_September2020.json.gz',\n",
       " 'Product_slippermold.com_September2020.json.gz',\n",
       " 'Hotel_firsthotels.com_September2020.json.gz',\n",
       " 'CreativeWork_evoqueownersclub.co.uk_September2020.json.gz',\n",
       " 'Recipe_diabeticfoodie.com_September2020.json.gz',\n",
       " 'CreativeWork_joematarese.com_September2020.json.gz',\n",
       " 'CreativeWork_korygorgani.com_September2020.json.gz',\n",
       " 'Recipe_cookingwithnonna.com_September2020.json.gz',\n",
       " 'Hotel_ebooking.com_September2020.json.gz',\n",
       " 'Product_indiansareecollection.com_September2020.json.gz',\n",
       " 'Person_lakesidecolonialchapel.com_September2020.json.gz',\n",
       " 'Place_kozt.com_September2020.json.gz',\n",
       " 'CreativeWork_useresponse.com_September2020.json.gz',\n",
       " 'Recipe_cookingborscht.com_September2020.json.gz',\n",
       " 'CreativeWork_goldwingowners.com_September2020.json.gz',\n",
       " 'Product_batteryguy.com_September2020.json.gz',\n",
       " 'MusicRecording_surfcovejazz.com_September2020.json.gz',\n",
       " 'Product_wallsauce.com_September2020.json.gz',\n",
       " 'Person_discovertemple.com_September2020.json.gz',\n",
       " 'MusicRecording_message-songs.com_September2020.json.gz',\n",
       " 'Product_sungrubbies.com_September2020.json.gz',\n",
       " 'Recipe_mazadaar.co.uk_September2020.json.gz',\n",
       " 'Product_sprayfoampartsandsupplies.com_September2020.json.gz',\n",
       " 'Product_eleanorrose.co.uk_September2020.json.gz',\n",
       " 'Product_jameshodgehyundai.com_September2020.json.gz',\n",
       " 'Product_australianageofdinosaursmuseumshop.com_September2020.json.gz',\n",
       " 'CreativeWork_boldideaworks.com_September2020.json.gz',\n",
       " 'Place_abaton.com_September2020.json.gz',\n",
       " 'Product_totallytapas.com_September2020.json.gz',\n",
       " 'Recipe_thehungrymouse.com_September2020.json.gz',\n",
       " 'MusicRecording_thesteadywicked.com_September2020.json.gz',\n",
       " 'LocalBusiness_penrithcitychildcare.com.au_September2020.json.gz',\n",
       " 'MusicRecording_beasleysbigband.com_September2020.json.gz',\n",
       " 'Person_lordabbett.com_September2020.json.gz',\n",
       " 'Person_galatiyachts.com_September2020.json.gz',\n",
       " 'Product_daixuanauto.com_September2020.json.gz',\n",
       " 'Product_myfamilymobile.com_September2020.json.gz',\n",
       " 'Product_finestknown.com_September2020.json.gz',\n",
       " 'Product_kidsartsventura.org_September2020.json.gz',\n",
       " 'LocalBusiness_inyourarea.co.uk_September2020.json.gz',\n",
       " 'Place_wayahead.org.au_September2020.json.gz',\n",
       " 'Product_spengel-boulanger.com_September2020.json.gz',\n",
       " 'Recipe_instapottinwithpoonam.com_September2020.json.gz',\n",
       " 'Recipe_simplyghee.com_September2020.json.gz',\n",
       " 'LocalBusiness_momentumsolar.com_September2020.json.gz',\n",
       " 'Product_klimaworld.com_September2020.json.gz',\n",
       " 'Person_discoverdecrypt.org.uk_September2020.json.gz',\n",
       " 'CreativeWork_privatedrivinginstructors.com_September2020.json.gz',\n",
       " 'Product_cakeboost.com_September2020.json.gz',\n",
       " 'MusicRecording_luckymudmusic.com_September2020.json.gz',\n",
       " 'Product_buyaparcel.com_September2020.json.gz',\n",
       " 'Product_jsumo.com_September2020.json.gz',\n",
       " 'CreativeWork_arcticchat.com_September2020.json.gz',\n",
       " 'Product_sluh.org_September2020.json.gz',\n",
       " 'Product_kidwild.com_September2020.json.gz',\n",
       " 'Event_visitrolla.com_September2020.json.gz',\n",
       " 'LocalBusiness_travel-wyoming.com_September2020.json.gz',\n",
       " 'Product_surtibaby.com_September2020.json.gz',\n",
       " 'MusicRecording_debbieaslinda.com_September2020.json.gz',\n",
       " 'Product_epicmiamicondosforsale.com_September2020.json.gz',\n",
       " 'Book_elejandria.com_September2020.json.gz',\n",
       " 'MusicRecording_chordslinger.com_September2020.json.gz',\n",
       " 'MusicRecording_skiveesrock.com_September2020.json.gz',\n",
       " 'Recipe_africankaya.com_September2020.json.gz',\n",
       " 'MusicRecording_gyasiaddaemusic.com_September2020.json.gz',\n",
       " 'CreativeWork_meghiddoarchitects.com_September2020.json.gz',\n",
       " 'Product_darinarose.co.uk_September2020.json.gz',\n",
       " 'LocalBusiness_sunriseseniorliving.com_September2020.json.gz',\n",
       " 'Product_mtnempirecbs.com_September2020.json.gz',\n",
       " 'LocalBusiness_downloadtexture.com_September2020.json.gz',\n",
       " 'Product_mycanadianpharmacyrx.com_September2020.json.gz',\n",
       " 'CreativeWork_crossfitlillestrom.com_September2020.json.gz',\n",
       " 'Product_stephanies.com.au_September2020.json.gz',\n",
       " 'MusicRecording_velvetcrushomaha.com_September2020.json.gz',\n",
       " 'MusicRecording_jimrobertspercussion.com_September2020.json.gz',\n",
       " 'Product_uhrzeit.org_September2020.json.gz',\n",
       " 'MusicRecording_theveerunion.com_September2020.json.gz',\n",
       " 'Recipe_veronikaskitchen.com_September2020.json.gz',\n",
       " 'Product_wegotthebeatsrecordstore.com_September2020.json.gz',\n",
       " 'Event_morrisbrownamechurch.org_September2020.json.gz',\n",
       " 'MusicRecording_learnbluesguitarnow.com_September2020.json.gz',\n",
       " 'MusicRecording_calvinballimusic.com_September2020.json.gz',\n",
       " 'Product_spurgeonfh.com_September2020.json.gz',\n",
       " 'Person_riversidecommunityhospital.com_September2020.json.gz',\n",
       " 'Product_vaperesources.co.uk_September2020.json.gz',\n",
       " 'Event_psychodramasingapore.org_September2020.json.gz',\n",
       " 'Product_wanderingbull.com_September2020.json.gz',\n",
       " 'Product_sporthopper.com_September2020.json.gz',\n",
       " 'Product_dalerobertscomics.com_September2020.json.gz',\n",
       " 'Product_idealcrack.com_September2020.json.gz',\n",
       " 'CreativeWork_brainwave.org.nz_September2020.json.gz',\n",
       " 'CreativeWork_simracingdesign.com_September2020.json.gz',\n",
       " 'Person_bustedoffenders.com_September2020.json.gz',\n",
       " 'Product_canadiensport.com_September2020.json.gz',\n",
       " 'Product_dimobasuministros.com_September2020.json.gz',\n",
       " 'MusicRecording_ringogosv.org_September2020.json.gz',\n",
       " 'LocalBusiness_healthengine.com.au_September2020.json.gz',\n",
       " 'Person_transfermarkt.com.br_September2020.json.gz',\n",
       " 'MusicRecording_clairehamill.co.uk_September2020.json.gz',\n",
       " 'Product_flordealecrim.com.br_September2020.json.gz',\n",
       " 'Recipe_pepperhustlemembers.com_September2020.json.gz',\n",
       " 'Hotel_buyreservations.com_September2020.json.gz',\n",
       " 'Event_yescorvallis.org_September2020.json.gz',\n",
       " 'Product_poshresults.com_September2020.json.gz',\n",
       " 'MusicRecording_kimmiekc.com_September2020.json.gz',\n",
       " 'Product_mrdive.com.au_September2020.json.gz',\n",
       " 'Event_amg.org_September2020.json.gz',\n",
       " 'Recipe_australianmushrooms.com.au_September2020.json.gz',\n",
       " 'MusicRecording_ken-jacobsen.com_September2020.json.gz',\n",
       " 'MusicRecording_silvanusslaughter.com_September2020.json.gz',\n",
       " 'Event_babbacombe-sc.com_September2020.json.gz',\n",
       " 'Product_landscapersnearme.net.au_September2020.json.gz',\n",
       " 'Product_earnhardtgenesisofgilbert.com_September2020.json.gz',\n",
       " 'Product_warbyparker.com_September2020.json.gz',\n",
       " 'Product_ninija.com.ng_September2020.json.gz',\n",
       " 'Event_theorientaltheater.com_September2020.json.gz',\n",
       " 'MusicRecording_theburstandbloom.com_September2020.json.gz',\n",
       " 'Recipe_spiceeats.com_September2020.json.gz',\n",
       " 'Product_rosegal.com_September2020.json.gz',\n",
       " 'Hotel_passyeiffel.com_September2020.json.gz',\n",
       " 'MusicRecording_wheatus.com_September2020.json.gz',\n",
       " 'Event_agcmass.org_September2020.json.gz',\n",
       " 'Event_ashvalechapel.com_September2020.json.gz',\n",
       " 'Product_gdgames.com.au_September2020.json.gz',\n",
       " 'Product_jamonadomicilio.com_September2020.json.gz',\n",
       " 'Person_life-source.org_September2020.json.gz',\n",
       " 'Product_passitcertify.com_September2020.json.gz',\n",
       " 'Recipe_diythrill.com_September2020.json.gz',\n",
       " 'Product_natural-dip.com_September2020.json.gz',\n",
       " 'Product_trussgenius.com_September2020.json.gz',\n",
       " 'Product_mothersdaygifts4you.com_September2020.json.gz',\n",
       " 'LocalBusiness_atlplastic.com_September2020.json.gz',\n",
       " 'Event_chsnc.org_September2020.json.gz',\n",
       " 'CreativeWork_studiocdn.com_September2020.json.gz',\n",
       " 'Product_bookstoreacademy.com_September2020.json.gz',\n",
       " 'Product_thezone9.com_September2020.json.gz',\n",
       " 'Product_solarpowernearme.com.au_September2020.json.gz',\n",
       " 'Recipe_amiablefoods.com_September2020.json.gz',\n",
       " 'Person_schrader-howell.com_September2020.json.gz',\n",
       " 'Place_regionalfinance.com_September2020.json.gz',\n",
       " 'LocalBusiness_printplace.com_September2020.json.gz',\n",
       " 'Place_berkshires.org_September2020.json.gz',\n",
       " 'Product_painfulpleasures.com_September2020.json.gz',\n",
       " 'MusicRecording_patriktanner.com_September2020.json.gz',\n",
       " 'Product_brtmotorsport.co.uk_September2020.json.gz',\n",
       " 'CreativeWork_aprosmo.org_September2020.json.gz',\n",
       " 'Product_vdorepair.com_September2020.json.gz',\n",
       " 'Product_kubookstore.com_September2020.json.gz',\n",
       " 'Product_doluduvar.com_September2020.json.gz',\n",
       " 'Product_mcbridefuneralhometexas.com_September2020.json.gz',\n",
       " 'Recipe_aseasyasapplepie.com_September2020.json.gz',\n",
       " 'Person_buranichfuneralhome.com_September2020.json.gz',\n",
       " 'Product_mondialautosales.com_September2020.json.gz',\n",
       " 'MusicRecording_cynthiabrando.com_September2020.json.gz',\n",
       " 'Product_modelltrans.com_September2020.json.gz',\n",
       " 'Product_drkennethkim.com_September2020.json.gz',\n",
       " 'Product_affordablewatersystems.com_September2020.json.gz',\n",
       " 'Recipe_mayakitchenette.com_September2020.json.gz',\n",
       " 'MusicRecording_freddiesmusic.com_September2020.json.gz',\n",
       " 'CreativeWork_eesipeo.com_September2020.json.gz',\n",
       " 'MusicRecording_aephanemer.com_September2020.json.gz',\n",
       " 'Product_x4fire.com_September2020.json.gz',\n",
       " 'Product_dumps4u.com_September2020.json.gz',\n",
       " 'Person_cheaplivesexwebcam.com_September2020.json.gz',\n",
       " 'MusicRecording_tarynd.com_September2020.json.gz',\n",
       " 'Product_kbauthority.com_September2020.json.gz',\n",
       " 'Event_holyspiritorleans.org_September2020.json.gz',\n",
       " 'Product_milawholesale.com_September2020.json.gz',\n",
       " 'Restaurant_afternoonteaonline.co.uk_September2020.json.gz',\n",
       " 'Product_completenutrition.com_September2020.json.gz',\n",
       " 'Product_atkinsnorthlandfuneralhome.com_September2020.json.gz',\n",
       " 'Recipe_absoluteorganic.com.au_September2020.json.gz',\n",
       " 'Product_jaydenp.com_September2020.json.gz',\n",
       " 'Product_allpatchstuff.com_September2020.json.gz',\n",
       " 'Person_bongacams4.com_September2020.json.gz',\n",
       " 'Product_donghoelle.com_September2020.json.gz',\n",
       " 'Event_eastshorepgh.com_September2020.json.gz',\n",
       " 'Product_thoitrangsikimanh.com_September2020.json.gz',\n",
       " 'MusicRecording_musiclyrics.com_September2020.json.gz',\n",
       " 'Product_fancybridesmaid.com_September2020.json.gz',\n",
       " 'Person_videochati.com_September2020.json.gz',\n",
       " 'Event_oscodachamber.com_September2020.json.gz',\n",
       " 'Recipe_iwashyoudry.com_September2020.json.gz',\n",
       " 'Product_laccico.com_September2020.json.gz',\n",
       " 'MusicRecording_chartsz.com_September2020.json.gz',\n",
       " 'Product_onlineattire.com_September2020.json.gz',\n",
       " 'CreativeWork_dideashow.com_September2020.json.gz',\n",
       " 'Product_iqos.com.ua_September2020.json.gz',\n",
       " 'Product_geminisound.com_September2020.json.gz',\n",
       " 'Recipe_thecookncoach.com_September2020.json.gz',\n",
       " 'Recipe_happycowandme.com_September2020.json.gz',\n",
       " 'Hotel_marriottindiaweddings.com_September2020.json.gz',\n",
       " 'Product_anypromo.com_September2020.json.gz',\n",
       " 'Product_shop4jp.com_September2020.json.gz',\n",
       " 'Product_triumphanddisaster.com_September2020.json.gz',\n",
       " 'Product_tracklightingstore.com_September2020.json.gz',\n",
       " 'Event_jdsupra.com_September2020.json.gz',\n",
       " 'Product_fragrancex.com_September2020.json.gz',\n",
       " 'Product_wearablelife.com.au_September2020.json.gz',\n",
       " 'Product_carreraworld.com_September2020.json.gz',\n",
       " 'Event_finnsource.org_September2020.json.gz',\n",
       " 'CreativeWork_mache.org_September2020.json.gz',\n",
       " 'LocalBusiness_greeleytree.com_September2020.json.gz',\n",
       " 'Person_universaledition.com_September2020.json.gz',\n",
       " 'MusicRecording_medwyngoodall.com_September2020.json.gz',\n",
       " 'Product_blacksmithsdepot.com_September2020.json.gz',\n",
       " 'Product_gardengateknitsewcraft.co.uk_September2020.json.gz',\n",
       " 'Product_booksonkorea.com_September2020.json.gz',\n",
       " 'Product_rideontoys4u.co.uk_September2020.json.gz',\n",
       " 'MusicRecording_raggedcompanyrecordings.com_September2020.json.gz',\n",
       " 'Product_naughtyharbor.com_September2020.json.gz',\n",
       " 'CreativeWork_babygest.com_September2020.json.gz',\n",
       " 'Person_europeantour.com_September2020.json.gz',\n",
       " 'Product_viningfuneralhome.com_September2020.json.gz',\n",
       " 'Product_hippo-deals.com_September2020.json.gz',\n",
       " 'MusicRecording_thegraveyardshiftradioshow.com_September2020.json.gz',\n",
       " 'Product_herbalgoodnessco.com_September2020.json.gz',\n",
       " 'LocalBusiness_akronlife.com_September2020.json.gz',\n",
       " 'Event_universityuus.org_September2020.json.gz',\n",
       " 'MusicRecording_selectiverecords.net_September2020.json.gz',\n",
       " 'Product_eastcoasthydroponics.co.uk_September2020.json.gz',\n",
       " 'Product_ternovo.com.ua_September2020.json.gz',\n",
       " 'Product_nhathuoctructuyen.net_September2020.json.gz',\n",
       " 'LocalBusiness_top-pros.com_September2020.json.gz',\n",
       " 'MusicRecording_upwellmusic.com_September2020.json.gz',\n",
       " 'Product_furniture-fair.net_September2020.json.gz',\n",
       " 'Person_hoyfuneral.com_September2020.json.gz',\n",
       " 'MusicRecording_mikehendersonmusic.com_September2020.json.gz',\n",
       " 'Product_sheehynissanofwhitemarsh.com_September2020.json.gz',\n",
       " 'Recipe_idahopotato.com_September2020.json.gz',\n",
       " 'Hotel_americansky.co.uk_September2020.json.gz',\n",
       " 'Recipe_thewholeingredient.com_September2020.json.gz',\n",
       " 'Product_classicwatch.com_September2020.json.gz',\n",
       " 'MusicRecording_alfavalova.com_September2020.json.gz',\n",
       " 'Place_namipierce.org_September2020.json.gz',\n",
       " 'MusicRecording_getonboardalbum.com_September2020.json.gz',\n",
       " 'Product_prodirecttennis.com_September2020.json.gz',\n",
       " 'Product_dogteur.com_September2020.json.gz',\n",
       " 'Recipe_kingspoultryfarm.com_September2020.json.gz',\n",
       " 'Product_mediadevil.com_September2020.json.gz',\n",
       " 'Product_prodirectrunning.com_September2020.json.gz',\n",
       " 'Product_beddingcottage.com_September2020.json.gz',\n",
       " 'Event_icanthrive.org_September2020.json.gz',\n",
       " 'LocalBusiness_tocbcn.com_September2020.json.gz',\n",
       " 'Product_southernjarringco.com_September2020.json.gz',\n",
       " 'Product_led-technik.com.pl_September2020.json.gz',\n",
       " 'Person_gokushka.com_September2020.json.gz',\n",
       " 'Person_gladiknow.com_September2020.json.gz',\n",
       " 'Person_gep.com_September2020.json.gz',\n",
       " 'Person_worldxxxescorts.com_September2020.json.gz',\n",
       " 'Event_ignitedbytruth.org_September2020.json.gz',\n",
       " 'MusicRecording_mannyamusic.com_September2020.json.gz',\n",
       " 'Event_waytomonte.com_September2020.json.gz',\n",
       " 'Person_intercemconnect.com_September2020.json.gz',\n",
       " 'Product_discountbro.com_September2020.json.gz',\n",
       " 'Hotel_villanovo.com_September2020.json.gz',\n",
       " 'MusicRecording_solomonkingmusic.com_September2020.json.gz',\n",
       " 'Person_lhlaw.com_September2020.json.gz',\n",
       " 'Event_kjemjazz.org_September2020.json.gz',\n",
       " 'LocalBusiness_asapbailbondsman.com_September2020.json.gz',\n",
       " 'Person_whe-law.com_September2020.json.gz',\n",
       " 'Product_powersolutions.org.uk_September2020.json.gz',\n",
       " 'CreativeWork_kipzio.com_September2020.json.gz',\n",
       " 'Recipe_jillcastle.com_September2020.json.gz',\n",
       " 'MusicRecording_pacificsongsmusic.com_September2020.json.gz',\n",
       " 'Person_topyogis.com_September2020.json.gz',\n",
       " 'Product_designresearchoptics.com_September2020.json.gz',\n",
       " 'MusicRecording_younglyric.com_September2020.json.gz',\n",
       " 'CreativeWork_gotransformance.com_September2020.json.gz',\n",
       " 'Event_etkinlik.com.tr_September2020.json.gz',\n",
       " 'LocalBusiness_budgetbrake.com_September2020.json.gz',\n",
       " 'Product_masmusculo.com_September2020.json.gz',\n",
       " 'CreativeWork_thirdwaycafe.org_September2020.json.gz',\n",
       " 'Product_gpexpressauto.com_September2020.json.gz',\n",
       " 'MusicRecording_chriscoopersongs.com_September2020.json.gz',\n",
       " 'LocalBusiness_bizofit.com_September2020.json.gz',\n",
       " 'Product_doubledaggersae.com_September2020.json.gz',\n",
       " 'MusicRecording_kylematthews.com_September2020.json.gz',\n",
       " 'Product_touchdowngifts.com_September2020.json.gz',\n",
       " 'Book_loqueleo.com_September2020.json.gz',\n",
       " 'CreativeWork_midweststickershop.com_September2020.json.gz',\n",
       " 'Recipe_lacucinaitaliana.com_September2020.json.gz',\n",
       " 'Product_rcjaz.com_September2020.json.gz',\n",
       " 'Product_aromedica.com_September2020.json.gz',\n",
       " 'Product_freemusicprojects.com_September2020.json.gz',\n",
       " 'CreativeWork_loseatachieve.com_September2020.json.gz',\n",
       " 'Product_chowchowshirt.com_September2020.json.gz',\n",
       " 'Product_yumikim.com_September2020.json.gz',\n",
       " 'Event_mouterehills.org.nz_September2020.json.gz',\n",
       " 'Product_nextbatteries.com_September2020.json.gz',\n",
       " 'Product_wlbstore.com.br_September2020.json.gz',\n",
       " 'Product_acdcco.com_September2020.json.gz',\n",
       " 'Product_no1como.com_September2020.json.gz',\n",
       " 'MusicRecording_dahirsch.com_September2020.json.gz',\n",
       " 'Place_fow.org_September2020.json.gz',\n",
       " 'MusicRecording_hyefamily.com_September2020.json.gz',\n",
       " 'Event_access2independence.org_September2020.json.gz',\n",
       " 'Product_glimebox.com_September2020.json.gz',\n",
       " 'Person_copelandhammerl.com_September2020.json.gz',\n",
       " 'Recipe_zevia.com_September2020.json.gz',\n",
       " 'Product_toysoldierco.com_September2020.json.gz',\n",
       " 'Product_furiouscustoms.com_September2020.json.gz',\n",
       " 'Product_goodrubychristian.com_September2020.json.gz',\n",
       " 'Event_convergencecoaching.com_September2020.json.gz',\n",
       " 'Place_harvestcity.org_September2020.json.gz',\n",
       " 'MusicRecording_macsmn.org_September2020.json.gz',\n",
       " 'Event_317area.com_September2020.json.gz',\n",
       " 'MusicRecording_violingrrl.com_September2020.json.gz',\n",
       " 'MusicRecording_acerting.com_September2020.json.gz',\n",
       " 'MusicRecording_daniellehowle.com_September2020.json.gz',\n",
       " 'Product_order2india.com_September2020.json.gz',\n",
       " 'Product_stanlyappliance.com_September2020.json.gz',\n",
       " 'CreativeWork_okita-naika.com_September2020.json.gz',\n",
       " 'Product_quirkvwnh.com_September2020.json.gz',\n",
       " 'Product_abraa.com_September2020.json.gz',\n",
       " 'Person_austinhomesearch.com_September2020.json.gz',\n",
       " 'Event_uvconsultants.com_September2020.json.gz',\n",
       " 'Event_valhallatouring.com_September2020.json.gz',\n",
       " 'Product_ponnobd.com_September2020.json.gz',\n",
       " 'Product_bebitalia.com_September2020.json.gz',\n",
       " 'Book_libreriarivendel.com_September2020.json.gz',\n",
       " 'MusicRecording_lennysendersky.com_September2020.json.gz',\n",
       " 'MusicRecording_carriemorrisonmusic.com_September2020.json.gz',\n",
       " 'MusicRecording_whitecollarsideshow.com_September2020.json.gz',\n",
       " 'MusicRecording_thebonnevilles.co.uk_September2020.json.gz',\n",
       " 'Product_shophicksmaytag.com_September2020.json.gz',\n",
       " 'MusicRecording_theteetones.com_September2020.json.gz',\n",
       " 'Product_waclightingshop.com_September2020.json.gz',\n",
       " 'Product_banaby.co.uk_September2020.json.gz',\n",
       " 'Hotel_jdwetherspoon.com_September2020.json.gz',\n",
       " 'CreativeWork_awesomegifs.com_September2020.json.gz',\n",
       " 'Product_sancakmodel.com_September2020.json.gz',\n",
       " 'Product_lot7474.com_September2020.json.gz',\n",
       " 'MusicRecording_carolewalkermusic.com_September2020.json.gz',\n",
       " 'Product_board-club.com.ua_September2020.json.gz',\n",
       " 'CreativeWork_dtcclearning.com_September2020.json.gz',\n",
       " 'Event_hijrah.org_September2020.json.gz',\n",
       " 'CreativeWork_phc-mc.org_September2020.json.gz',\n",
       " 'Event_bohemianhall.com_September2020.json.gz',\n",
       " 'Product_schrikdraad.com_September2020.json.gz',\n",
       " 'Product_tiendadebelleza.com.mx_September2020.json.gz',\n",
       " 'LocalBusiness_covingtonyellowpages.com_September2020.json.gz',\n",
       " 'MusicAlbum_wolfgangs.com_September2020.json.gz',\n",
       " 'Product_axesstrading.com.au_September2020.json.gz',\n",
       " 'Product_x-on.com.au_September2020.json.gz',\n",
       " 'Product_southsidemarket.com_September2020.json.gz',\n",
       " 'Product_feathersmart.com_September2020.json.gz',\n",
       " 'Recipe_purelyflourish.com_September2020.json.gz',\n",
       " 'Product_votch.co.uk_September2020.json.gz',\n",
       " 'LocalBusiness_uslawns.com_September2020.json.gz',\n",
       " 'CreativeWork_bendigopropertyoptions.com.au_September2020.json.gz',\n",
       " 'Event_ostomy.org_September2020.json.gz',\n",
       " 'Product_emmi-dent.com_September2020.json.gz',\n",
       " 'Recipe_bakerbettie.com_September2020.json.gz',\n",
       " 'Product_evokedeals.com_September2020.json.gz',\n",
       " 'CreativeWork_cdf1.com_September2020.json.gz',\n",
       " 'Product_citytoyota.com_September2020.json.gz',\n",
       " 'Product_dsnepal.com_September2020.json.gz',\n",
       " 'CreativeWork_huntvalveactuators.com_September2020.json.gz',\n",
       " 'Recipe_wholetarian.com_September2020.json.gz',\n",
       " 'Recipe_beefeatergin.com_September2020.json.gz',\n",
       " 'MusicRecording_hickorygrovequartet.com_September2020.json.gz',\n",
       " 'Product_scorebmwparts.com_September2020.json.gz',\n",
       " 'LocalBusiness_mybridgeradio.net_September2020.json.gz',\n",
       " 'CreativeWork_marlerclark.com_September2020.json.gz',\n",
       " 'Product_modfuelwholesale.com_September2020.json.gz',\n",
       " 'Event_asafeplaceforhelp.org_September2020.json.gz',\n",
       " 'Product_coeursports.com_September2020.json.gz',\n",
       " 'Product_chucknash.com_September2020.json.gz',\n",
       " 'Restaurant_512area.com_September2020.json.gz',\n",
       " 'LocalBusiness_travel-british-columbia.com_September2020.json.gz',\n",
       " 'MusicAlbum_anghami.com_September2020.json.gz',\n",
       " 'Product_agrojd.com_September2020.json.gz',\n",
       " 'Product_nauticaelanzuelo.com.ar_September2020.json.gz',\n",
       " 'Product_zeetoner.com_September2020.json.gz',\n",
       " 'CreativeWork_benuegirlsarebeautiful.com_September2020.json.gz',\n",
       " 'Recipe_nomnompaleo.com_September2020.json.gz',\n",
       " 'Recipe_angelicbakehouse.com_September2020.json.gz',\n",
       " 'Person_coatsfuneralhome.com_September2020.json.gz',\n",
       " 'Product_casual-sunglasses.com_September2020.json.gz',\n",
       " 'Recipe_grilln4peace.org_September2020.json.gz',\n",
       " 'Product_ecosmart-fire.com.cn_September2020.json.gz',\n",
       " 'MusicRecording_czechandthensome.com_September2020.json.gz',\n",
       " 'Recipe_urbanfoodiekitchen.com_September2020.json.gz',\n",
       " 'Product_roxy.com.sg_September2020.json.gz',\n",
       " 'Product_cheekywipes.com_September2020.json.gz',\n",
       " 'MusicRecording_michellerose.com_September2020.json.gz',\n",
       " 'Product_eletropeldistribuidora.com.br_September2020.json.gz',\n",
       " 'LocalBusiness_katalozi.net_September2020.json.gz',\n",
       " 'Person_donnellanfuneral.com_September2020.json.gz',\n",
       " 'Product_peterselite.com_September2020.json.gz',\n",
       " 'LocalBusiness_pcarshops.com_September2020.json.gz',\n",
       " 'CreativeWork_lancasterchoiceenergy.com_September2020.json.gz',\n",
       " 'Product_flowers4rome.com_September2020.json.gz',\n",
       " 'Product_hpcfactor.com_September2020.json.gz',\n",
       " 'CreativeWork_carconsolecovers.com_September2020.json.gz',\n",
       " 'MusicRecording_jmo-arts.com_September2020.json.gz',\n",
       " 'CreativeWork_americanderbycover.com_September2020.json.gz',\n",
       " 'Product_arcongel.com.br_September2020.json.gz',\n",
       " 'Person_bffuneralhome.com_September2020.json.gz',\n",
       " 'Product_cuautobranch.com_September2020.json.gz',\n",
       " 'Product_yuwhua.com_September2020.json.gz',\n",
       " 'Product_bewooden.com_September2020.json.gz',\n",
       " 'Recipe_iheartkitchen.com_September2020.json.gz',\n",
       " 'Event_scofield.org_September2020.json.gz',\n",
       " 'Product_g-lab.com_September2020.json.gz',\n",
       " 'Person_datxanhdanang.com.vn_September2020.json.gz',\n",
       " 'MusicRecording_mistergraymusic.com_September2020.json.gz',\n",
       " 'Product_suppsrus.com.au_September2020.json.gz',\n",
       " 'Product_hermosaz.com_September2020.json.gz',\n",
       " 'Product_sneakscloud.com_September2020.json.gz',\n",
       " 'Product_chrissiecosmetics.com_September2020.json.gz',\n",
       " 'Event_capecoralnewresident.com_September2020.json.gz',\n",
       " 'MusicRecording_apolloclone.com_September2020.json.gz',\n",
       " 'Event_standards-hrc.com_September2020.json.gz',\n",
       " 'Event_aboriginalbuzz.com_September2020.json.gz',\n",
       " 'MusicRecording_paulgibbsmusic.com_September2020.json.gz',\n",
       " 'Product_mehvac.com_September2020.json.gz',\n",
       " 'Product_sportlife.com.co_September2020.json.gz',\n",
       " 'Person_radiotruyen.com_September2020.json.gz',\n",
       " 'CreativeWork_krash.com.au_September2020.json.gz',\n",
       " 'Event_941area.com_September2020.json.gz',\n",
       " 'Product_jackphelandodgeonline.com_September2020.json.gz',\n",
       " 'Event_theoasisucc.org_September2020.json.gz',\n",
       " 'Product_ehornadams.com_September2020.json.gz',\n",
       " 'Product_superstep.com.tr_September2020.json.gz',\n",
       " 'MusicRecording_scottbianchimusic.com_September2020.json.gz',\n",
       " 'Person_mealeyfuneralhomes.com_September2020.json.gz',\n",
       " 'Event_mamabeardefense.org_September2020.json.gz',\n",
       " 'CreativeWork_lifestylesgiftware.com_September2020.json.gz',\n",
       " 'Product_raygrahams.com_September2020.json.gz',\n",
       " 'Product_wardsfh.com_September2020.json.gz',\n",
       " 'Event_thebigfixblackheath.org_September2020.json.gz',\n",
       " 'CreativeWork_delouvois.com_September2020.json.gz',\n",
       " 'Product_jaguaroflivermore.com_September2020.json.gz',\n",
       " 'Recipe_veggiedesserts.com_September2020.json.gz',\n",
       " 'Product_mattcastruccihonda.com_September2020.json.gz',\n",
       " 'Product_werner-musica.com_September2020.json.gz',\n",
       " 'Recipe_semills.com_September2020.json.gz',\n",
       " 'Person_smithgroup.com_September2020.json.gz',\n",
       " 'LocalBusiness_berluti.com_September2020.json.gz',\n",
       " 'Hotel_qualitycottages.co.uk_September2020.json.gz',\n",
       " 'Person_kmblegal.com_September2020.json.gz',\n",
       " 'Product_buffingtonreed.com_September2020.json.gz',\n",
       " 'Product_wyconcosmetics.com_September2020.json.gz',\n",
       " 'Product_weightworld.uk_September2020.json.gz',\n",
       " 'MusicRecording_mypurplefox.com_September2020.json.gz',\n",
       " 'Place_foundabout.com.au_September2020.json.gz',\n",
       " 'Person_weaverfuneralhomes.com_September2020.json.gz',\n",
       " 'Event_joytutor.com_September2020.json.gz',\n",
       " 'Product_revsci.com_September2020.json.gz',\n",
       " 'Product_sliqgear.com_September2020.json.gz',\n",
       " 'Product_tophatarchery.com_September2020.json.gz',\n",
       " 'Product_tsuyubags.com_September2020.json.gz',\n",
       " 'Product_woblink.com_September2020.json.gz',\n",
       " 'Recipe_tasty-yummies.com_September2020.json.gz',\n",
       " 'Product_nissanofdalton.com_September2020.json.gz',\n",
       " 'Product_profilab24.com_September2020.json.gz',\n",
       " 'Product_rusnakpasadenaporsche.com_September2020.json.gz',\n",
       " 'MusicRecording_jettpink.com_September2020.json.gz',\n",
       " 'Product_junabazaar.com_September2020.json.gz',\n",
       " 'Product_abt.com_September2020.json.gz',\n",
       " 'Product_acuraoemparts.com_September2020.json.gz',\n",
       " 'Event_foodincanada.com_September2020.json.gz',\n",
       " 'Restaurant_restaurant-la-toque-blanche.com_September2020.json.gz',\n",
       " 'Product_cheapseatssports.com_September2020.json.gz',\n",
       " 'Event_oacp.org.uk_September2020.json.gz',\n",
       " 'Person_shuracouncil.org_September2020.json.gz',\n",
       " 'MusicRecording_amalgamationmusic.com_September2020.json.gz',\n",
       " 'MusicRecording_rinajazzlady.com_September2020.json.gz',\n",
       " 'CreativeWork_freelancergamer.com_September2020.json.gz',\n",
       " 'Product_steering.com.ua_September2020.json.gz',\n",
       " 'Product_outdoorwatersolutions.com_September2020.json.gz',\n",
       " 'MusicRecording_mihowada.com_September2020.json.gz',\n",
       " 'Product_karelzemanmuseum.com_September2020.json.gz',\n",
       " 'Person_worldcasinodirectory.com_September2020.json.gz',\n",
       " 'MusicRecording_fitzhoustonmusic.com_September2020.json.gz',\n",
       " 'Product_budducks.com_September2020.json.gz',\n",
       " 'Person_fletcherdayfuneralhome.com_September2020.json.gz',\n",
       " 'Person_curleyfuneralhome.com_September2020.json.gz',\n",
       " 'Product_mykonfig.com_September2020.json.gz',\n",
       " 'Product_onlinegenericmedicine.com_September2020.json.gz',\n",
       " 'LocalBusiness_mortarr.com_September2020.json.gz',\n",
       " 'LocalBusiness_omgsites.com_September2020.json.gz',\n",
       " 'LocalBusiness_webstyle.com_September2020.json.gz',\n",
       " 'Product_happicrafts.com_September2020.json.gz',\n",
       " 'Product_zeebaitco.com_September2020.json.gz',\n",
       " 'LocalBusiness_lovethailand.org_September2020.json.gz',\n",
       " 'Product_i-o-p.com_September2020.json.gz',\n",
       " 'Product_apsleyaustralia.com_September2020.json.gz',\n",
       " 'Event_raeoflightministries.com_September2020.json.gz',\n",
       " 'Recipe_bodhiboxmarket.com_September2020.json.gz',\n",
       " 'Product_lcgfoods.com_September2020.json.gz',\n",
       " 'LocalBusiness_troyautoglass.com_September2020.json.gz',\n",
       " 'CreativeWork_volusiariders.com_September2020.json.gz',\n",
       " 'MusicRecording_nievemusic.com_September2020.json.gz',\n",
       " 'Event_womensdevelopmenttrack.com_September2020.json.gz',\n",
       " 'CreativeWork_coldcomfortgame.com_September2020.json.gz',\n",
       " 'Product_thedealexperts.com_September2020.json.gz',\n",
       " 'Event_awesomeseating.com_September2020.json.gz',\n",
       " 'MusicRecording_orvillejohnson.com_September2020.json.gz',\n",
       " 'Product_bayactive.com.au_September2020.json.gz',\n",
       " 'LocalBusiness_beanbox.com_September2020.json.gz',\n",
       " 'Person_thomasonfuneralhome.com_September2020.json.gz',\n",
       " 'Event_sbepc.org_September2020.json.gz',\n",
       " 'Person_varnumlaw.com_September2020.json.gz',\n",
       " 'Product_keysworlds.com_September2020.json.gz',\n",
       " 'Product_bestbudbags.com_September2020.json.gz',\n",
       " 'Product_tutkumuzik.com.tr_September2020.json.gz',\n",
       " 'Product_dorseyalston.com_September2020.json.gz',\n",
       " 'Product_astonishing-nails.com_September2020.json.gz',\n",
       " 'Product_myhomeclimate.com_September2020.json.gz',\n",
       " 'CreativeWork_seatcupra.net_September2020.json.gz',\n",
       " 'Restaurant_714area.com_September2020.json.gz',\n",
       " 'Product_knit-ito.com_September2020.json.gz',\n",
       " 'Product_austinsappliance.com_September2020.json.gz',\n",
       " 'Event_visitblairsvillega.com_September2020.json.gz',\n",
       " 'Person_healthsciencessc.org_September2020.json.gz',\n",
       " 'Product_carrottees.com_September2020.json.gz',\n",
       " 'Product_beerbay.net_September2020.json.gz',\n",
       " 'Product_windscreensnearme.com.au_September2020.json.gz',\n",
       " 'Event_fishersisland.net_September2020.json.gz',\n",
       " 'Event_cheftechcookingschool.com_September2020.json.gz',\n",
       " 'MusicRecording_zachmusic.net_September2020.json.gz',\n",
       " 'Person_upcomer.com_September2020.json.gz',\n",
       " 'Product_degusipefuneralhome.com_September2020.json.gz',\n",
       " 'MusicRecording_opentothehound.com_September2020.json.gz',\n",
       " 'Person_bradyandlevesque.com_September2020.json.gz',\n",
       " 'Event_502area.com_September2020.json.gz',\n",
       " 'Person_johnsonfuneralhomes.net_September2020.json.gz',\n",
       " 'Event_migeekscene.com_September2020.json.gz',\n",
       " 'MusicRecording_vidordecker.com_September2020.json.gz',\n",
       " 'Event_bentleighfnc.com_September2020.json.gz',\n",
       " 'Product_sofiasarah.com_September2020.json.gz',\n",
       " 'Product_bellustoys.com_September2020.json.gz',\n",
       " 'Product_burtsofsavannah.com_September2020.json.gz',\n",
       " 'LocalBusiness_concordpetfoods.com_September2020.json.gz',\n",
       " 'MusicRecording_chopteeth.com_September2020.json.gz',\n",
       " 'Recipe_life44.com_September2020.json.gz',\n",
       " 'Event_theartsyhive.com_September2020.json.gz',\n",
       " 'Recipe_nutrelahealth.com_September2020.json.gz',\n",
       " 'CreativeWork_protecbaby.com_September2020.json.gz',\n",
       " 'MusicRecording_incominggroovemusic.com_September2020.json.gz',\n",
       " 'Product_toyotaofmuskegon.com_September2020.json.gz',\n",
       " 'Event_eb5investors.com_September2020.json.gz',\n",
       " 'MusicRecording_timmorse.com_September2020.json.gz',\n",
       " 'MusicRecording_teafanniemusic.com_September2020.json.gz',\n",
       " 'Product_vkkearney.com_September2020.json.gz',\n",
       " 'LocalBusiness_safetyharborchamber.com_September2020.json.gz',\n",
       " 'CreativeWork_archershoots.com_September2020.json.gz',\n",
       " 'CreativeWork_argusinsights.com_September2020.json.gz',\n",
       " 'Product_medmeg.com_September2020.json.gz',\n",
       " 'Recipe_briana-thomas.com_September2020.json.gz',\n",
       " 'Event_tysonschamber.org_September2020.json.gz',\n",
       " 'Product_pedparts.co.uk_September2020.json.gz',\n",
       " 'Event_txmn.org_September2020.json.gz',\n",
       " 'Product_classicbodyparts.com_September2020.json.gz',\n",
       " 'Product_buyatestkit.com_September2020.json.gz',\n",
       " 'Product_drganja.com_September2020.json.gz',\n",
       " 'Product_stasherbag.com_September2020.json.gz',\n",
       " 'Person_lienho.com_September2020.json.gz',\n",
       " 'Product_gmparts247.com_September2020.json.gz',\n",
       " 'Product_rightclearing.com_September2020.json.gz',\n",
       " 'CreativeWork_hybrex.com.au_September2020.json.gz',\n",
       " 'LocalBusiness_mspmag.com_September2020.json.gz',\n",
       " 'Product_montagne-librairie.com_September2020.json.gz',\n",
       " 'Product_roxaba.com_September2020.json.gz',\n",
       " 'Product_chanvaydep.net_September2020.json.gz',\n",
       " 'Restaurant_yellowpages.com_September2020.json.gz',\n",
       " 'LocalBusiness_somersetcountychamber.com_September2020.json.gz',\n",
       " 'Place_fireduplounge.com_September2020.json.gz',\n",
       " 'MusicRecording_rodesonline.net_September2020.json.gz',\n",
       " 'Person_montanaptac.org_September2020.json.gz',\n",
       " 'Product_tastypeachstudios.com_September2020.json.gz',\n",
       " 'MusicRecording_madisonolsonmusic.com_September2020.json.gz',\n",
       " 'Product_theminkyblanket.com_September2020.json.gz',\n",
       " 'Product_flowers4bangladesh.com_September2020.json.gz',\n",
       " 'MusicRecording_blueweed.com_September2020.json.gz',\n",
       " 'Person_racingandsports.com_September2020.json.gz',\n",
       " 'Person_salawus.com_September2020.json.gz',\n",
       " 'CreativeWork_orangecityiowa.com_September2020.json.gz',\n",
       " 'Event_pinnerassociation.co.uk_September2020.json.gz',\n",
       " 'Event_davecahill.com_September2020.json.gz',\n",
       " 'Place_paintballnation.co.uk_September2020.json.gz',\n",
       " 'Product_iberowine.com_September2020.json.gz',\n",
       " 'Product_dixiefurniture.com_September2020.json.gz',\n",
       " 'LocalBusiness_minirepairshops.com_September2020.json.gz',\n",
       " 'Product_ecco-verde.com_September2020.json.gz',\n",
       " 'Product_edelkrone-eu.com_September2020.json.gz',\n",
       " 'Event_trginternational.com_September2020.json.gz',\n",
       " 'Product_glennpolkautoplex.net_September2020.json.gz',\n",
       " 'Recipe_simplyorganic.com_September2020.json.gz',\n",
       " 'Product_champagneandgifts.co.uk_September2020.json.gz',\n",
       " 'Product_idahowhitewatertrail.com_September2020.json.gz',\n",
       " 'Hotel_lilmarvacations.com_September2020.json.gz',\n",
       " 'Product_showhome-furniture.com_September2020.json.gz',\n",
       " 'Product_preciseautomotivegroup.com_September2020.json.gz',\n",
       " 'Product_adoryme.com_September2020.json.gz',\n",
       " 'TVEpisode_nationalgeographic.com_September2020.json.gz',\n",
       " 'Recipe_simplegraytshirt.com_September2020.json.gz',\n",
       " 'Person_whitecase.com_September2020.json.gz',\n",
       " 'Product_ricook.com_September2020.json.gz',\n",
       " 'Product_ediagshop.com_September2020.json.gz',\n",
       " 'Person_intersinema.com_September2020.json.gz',\n",
       " 'Product_goldwin-sports.com_September2020.json.gz',\n",
       " 'Restaurant_grubsouth.com_September2020.json.gz',\n",
       " 'Person_sococulture.org_September2020.json.gz',\n",
       " 'Product_tvornicazdravehrane.com_September2020.json.gz',\n",
       " 'Event_comoxvalleyarts.com_September2020.json.gz',\n",
       " 'Product_carboncreations.com_September2020.json.gz',\n",
       " 'MusicRecording_mattiaslies.com_September2020.json.gz',\n",
       " 'Place_visitposeycounty.com_September2020.json.gz',\n",
       " 'CreativeWork_gamingsetups.com_September2020.json.gz',\n",
       " 'Event_sonsofnorwayfargo.com_September2020.json.gz',\n",
       " 'Product_flexi-northamerica.com_September2020.json.gz',\n",
       " 'Event_godlessperverts.com_September2020.json.gz',\n",
       " 'Product_phukienphongtamnavado.com_September2020.json.gz',\n",
       " 'Product_hello-neo.com_September2020.json.gz',\n",
       " 'MusicRecording_tptte.com_September2020.json.gz',\n",
       " 'Person_live24sex.net_September2020.json.gz',\n",
       " 'Product_maschbeoriginal.com_September2020.json.gz',\n",
       " 'Product_drainagecentral.co.uk_September2020.json.gz',\n",
       " 'Person_ahpeters.com_September2020.json.gz',\n",
       " 'Hotel_h-hotels.com_September2020.json.gz',\n",
       " 'Product_lifespanfitness.com.au_September2020.json.gz',\n",
       " 'Event_wab.org_September2020.json.gz',\n",
       " 'Event_decaturlibrary.org_September2020.json.gz',\n",
       " 'Product_pantilihyundai.com_September2020.json.gz',\n",
       " 'LocalBusiness_aerialandsatelliteexpress.co.uk_September2020.json.gz',\n",
       " 'LocalBusiness_annuaire-huissiers.com_September2020.json.gz',\n",
       " 'MusicRecording_katieharder.com_September2020.json.gz',\n",
       " 'MusicRecording_carlosnaranjomusic.com_September2020.json.gz',\n",
       " 'Product_bettersaferadio.com_September2020.json.gz',\n",
       " 'Product_daddytee.com_September2020.json.gz',\n",
       " 'Product_gtomega.co.uk_September2020.json.gz',\n",
       " 'Product_opeengines.com_September2020.json.gz',\n",
       " 'LocalBusiness_buscarapida.com.br_September2020.json.gz',\n",
       " 'MusicRecording_cicadarhythm.com_September2020.json.gz',\n",
       " 'LocalBusiness_bluentcad.com_September2020.json.gz',\n",
       " 'Product_savetheflowers.com_September2020.json.gz',\n",
       " 'CreativeWork_lionsheadindy.com_September2020.json.gz',\n",
       " 'Product_best-drones-direct.com_September2020.json.gz',\n",
       " 'LocalBusiness_north-shore.com.au_September2020.json.gz',\n",
       " 'LocalBusiness_cyprusmanufacturers.com_September2020.json.gz',\n",
       " 'Product_snowstyleshop.com_September2020.json.gz',\n",
       " 'MusicRecording_gaetanoletizia.com_September2020.json.gz',\n",
       " 'Event_pccsd.org_September2020.json.gz',\n",
       " 'Product_sotechco.com.vn_September2020.json.gz',\n",
       " 'Product_free-barcode-generator.net_September2020.json.gz',\n",
       " 'Product_dealerfire.com_September2020.json.gz',\n",
       " 'Person_bilytica.com.pk_September2020.json.gz',\n",
       " 'CreativeWork_bringthepixel.com_September2020.json.gz',\n",
       " 'Product_riseaboveparts.com_September2020.json.gz',\n",
       " 'Product_uniquearts.ltd.uk_September2020.json.gz',\n",
       " 'Product_champusytintes.com_September2020.json.gz',\n",
       " 'Recipe_bodyfoodfreedom.com_September2020.json.gz',\n",
       " 'Book_novelsuspects.com_September2020.json.gz',\n",
       " 'Product_apnastuff.com_September2020.json.gz',\n",
       " 'Product_nordicinteriordesign.com_September2020.json.gz',\n",
       " 'MusicRecording_markzubia.com_September2020.json.gz',\n",
       " 'Product_crownsupply.com_September2020.json.gz',\n",
       " 'CreativeWork_srinivassridhar.com_September2020.json.gz',\n",
       " 'Product_gabrini.com_September2020.json.gz',\n",
       " 'Recipe_culturediscovery.com_September2020.json.gz',\n",
       " 'Product_reemclothing.com_September2020.json.gz',\n",
       " 'Product_onlineautoparts.com.au_September2020.json.gz',\n",
       " 'MusicAlbum_genius.com_September2020.json.gz',\n",
       " 'Product_idrinkcoffee.com_September2020.json.gz',\n",
       " 'Product_elektrikall.com_September2020.json.gz',\n",
       " 'CreativeWork_transcending-stone.com_September2020.json.gz',\n",
       " 'Product_gadgetification.com_September2020.json.gz',\n",
       " 'Product_want2vape.com_September2020.json.gz',\n",
       " 'MusicRecording_davidbartleyjazz.com_September2020.json.gz',\n",
       " 'Product_novica.net_September2020.json.gz',\n",
       " 'Product_ftfindustries.com_September2020.json.gz',\n",
       " 'Product_cigabuy.com_September2020.json.gz',\n",
       " 'Product_petcaresupplies.com_September2020.json.gz',\n",
       " 'Event_venicedreamhouse.com_September2020.json.gz',\n",
       " 'Product_zgrills.com_September2020.json.gz',\n",
       " 'LocalBusiness_listofcompany.com_September2020.json.gz',\n",
       " 'Recipe_foodloveplay.com_September2020.json.gz',\n",
       " 'CreativeWork_araddoorbin.com_September2020.json.gz',\n",
       " 'MusicRecording_lyricstashan.com_September2020.json.gz',\n",
       " 'CreativeWork_steffenfreund.com_September2020.json.gz',\n",
       " 'Product_walkingpalm.com_September2020.json.gz',\n",
       " 'LocalBusiness_sicba.org_September2020.json.gz',\n",
       " 'Person_mysciencework.com_September2020.json.gz',\n",
       " 'MusicRecording_joannestacey.com_September2020.json.gz',\n",
       " 'CreativeWork_camponestep.org_September2020.json.gz',\n",
       " 'Product_colmi.com_September2020.json.gz',\n",
       " 'Product_alfaromeousaofschaumburg.com_September2020.json.gz',\n",
       " 'Product_cardinalewaymazdalasvegas.com_September2020.json.gz',\n",
       " 'Product_schwinnfitness.com_September2020.json.gz',\n",
       " 'Product_ishbuild.co.uk_September2020.json.gz',\n",
       " 'Product_cleveland.com_September2020.json.gz',\n",
       " 'MusicRecording_arthurholmesbluesband.com_September2020.json.gz',\n",
       " 'Product_greysteas.co.uk_September2020.json.gz',\n",
       " 'Product_thehandybaby.com_September2020.json.gz',\n",
       " 'Product_danscarworld.com_September2020.json.gz',\n",
       " 'MusicRecording_thehamiltonesnz.com_September2020.json.gz',\n",
       " 'Product_belasoap.com_September2020.json.gz',\n",
       " 'MusicRecording_coastlinefiddle.com_September2020.json.gz',\n",
       " 'Event_parentingsuccessnetwork.org_September2020.json.gz',\n",
       " 'Recipe_thedevilwearssalad.com_September2020.json.gz',\n",
       " 'CreativeWork_miniaturepets.net_September2020.json.gz',\n",
       " 'Product_imageofthecity.com_September2020.json.gz',\n",
       " 'Product_maviyesilajans.com_September2020.json.gz',\n",
       " 'Recipe_potato-recipe.com_September2020.json.gz',\n",
       " 'MusicRecording_siusanandzig.com_September2020.json.gz',\n",
       " 'Event_innovationfest.co.uk_September2020.json.gz',\n",
       " 'Product_isuzupartscenter.com_September2020.json.gz',\n",
       " 'Event_kiawahresort.com_September2020.json.gz',\n",
       " 'Product_thegpbox.com_September2020.json.gz',\n",
       " 'Product_footstepspodiatrygriffith.com.au_September2020.json.gz',\n",
       " 'Product_marilynmanson.com_September2020.json.gz',\n",
       " 'MusicRecording_markduggan.com_September2020.json.gz',\n",
       " 'MusicRecording_jonsteelemusic.com_September2020.json.gz',\n",
       " 'Product_danyz.co.uk_September2020.json.gz',\n",
       " 'CreativeWork_mindfulnessinschools.org_September2020.json.gz',\n",
       " 'CreativeWork_saabscene.com_September2020.json.gz',\n",
       " 'Product_quranicways.com_September2020.json.gz',\n",
       " 'Hotel_turista.com.mx_September2020.json.gz',\n",
       " 'Product_marobrothers.net_September2020.json.gz',\n",
       " 'Product_thornberrysappliance.com_September2020.json.gz',\n",
       " 'MusicRecording_donaldstephanjones.com_September2020.json.gz',\n",
       " 'Recipe_swankykitchen.com_September2020.json.gz',\n",
       " 'MusicRecording_stevecarlson.com_September2020.json.gz',\n",
       " 'Product_parsellfuneralhomes.com_September2020.json.gz',\n",
       " 'Restaurant_ubereats.com_September2020.json.gz',\n",
       " 'LocalBusiness_romanceflowers.co.uk_September2020.json.gz',\n",
       " 'Event_mikebolland.com_September2020.json.gz',\n",
       " 'CreativeWork_evelyncameron.org_September2020.json.gz',\n",
       " 'Product_islandrose.net_September2020.json.gz',\n",
       " 'Event_sunshinecentres.com_September2020.json.gz',\n",
       " 'Product_magnumtuning.com_September2020.json.gz',\n",
       " 'MusicRecording_charlotteryerson.com_September2020.json.gz',\n",
       " 'Recipe_alphafoodie.com_September2020.json.gz',\n",
       " 'Hotel_hotel-ami.com_September2020.json.gz',\n",
       " 'Product_corelle.com_September2020.json.gz',\n",
       " 'MusicRecording_woodvinescores.com_September2020.json.gz',\n",
       " 'Product_kidzmall.com.ng_September2020.json.gz',\n",
       " 'Recipe_recipe-barn.com_September2020.json.gz',\n",
       " 'Person_realtysouthotm.com_September2020.json.gz',\n",
       " 'Product_serviceholod.com.ua_September2020.json.gz',\n",
       " 'Product_hidkitsxenonlights.com_September2020.json.gz',\n",
       " 'Event_lakegeorgesteamboat.com_September2020.json.gz',\n",
       " 'Product_tiendas.com_September2020.json.gz',\n",
       " 'Event_lydiaplace.org_September2020.json.gz',\n",
       " 'Event_southlatay.org_September2020.json.gz',\n",
       " 'Event_celebratecityliving.com_September2020.json.gz',\n",
       " 'Product_blackforestvillage-shop.com_September2020.json.gz',\n",
       " 'Product_restaurantsupply.com_September2020.json.gz',\n",
       " 'Product_cocktail7.com_September2020.json.gz',\n",
       " 'CreativeWork_location-bateau-cote-dazur.com_September2020.json.gz',\n",
       " 'LocalBusiness_powerwashingbeauchamp.com_September2020.json.gz',\n",
       " 'Product_shopeflix.com_September2020.json.gz',\n",
       " 'Product_augustapparel.com_September2020.json.gz',\n",
       " 'MusicRecording_sonofian.net_September2020.json.gz',\n",
       " 'Recipe_bwqualitygrowers.com_September2020.json.gz',\n",
       " 'Product_hottubspasupplies.com_September2020.json.gz',\n",
       " 'Product_bedcomfortershop.com_September2020.json.gz',\n",
       " 'Product_ultrafitnessmail.com_September2020.json.gz',\n",
       " 'Product_smahosp.com_September2020.json.gz',\n",
       " 'Product_dechoesresale.com_September2020.json.gz',\n",
       " 'MusicRecording_wildcarrot.net_September2020.json.gz',\n",
       " 'Recipe_rosauerskitchen.com_September2020.json.gz',\n",
       " 'Event_robinsconsulting.com_September2020.json.gz',\n",
       " 'Event_leonardsax.com_September2020.json.gz',\n",
       " 'Product_theacc.com_September2020.json.gz',\n",
       " 'Product_luminossolar.com_September2020.json.gz',\n",
       " 'Recipe_runningwithspoons.com_September2020.json.gz',\n",
       " 'Product_sustainableflooring.com_September2020.json.gz',\n",
       " 'Product_aplaceforeverything.co.uk_September2020.json.gz',\n",
       " 'Product_stanmcnabbchevy.com_September2020.json.gz',\n",
       " 'Product_juvitus.com_September2020.json.gz',\n",
       " 'Book_powkidsbooks.com_September2020.json.gz',\n",
       " 'CreativeWork_dalepinnock.com_September2020.json.gz',\n",
       " 'Place_mauimagazine.net_September2020.json.gz',\n",
       " 'MusicRecording_mylifewiththethrillkillkult.com_September2020.json.gz',\n",
       " 'Product_pangeaaudio.com_September2020.json.gz',\n",
       " 'Product_tancuongxanh.com_September2020.json.gz',\n",
       " 'Event_edwardsvillechildrensmuseum.org_September2020.json.gz',\n",
       " 'MusicRecording_lounge9music.com_September2020.json.gz',\n",
       " 'Book_double-eye.com_September2020.json.gz',\n",
       " 'Product_vietnamdragontravel.com_September2020.json.gz',\n",
       " 'Event_caproasia.com_September2020.json.gz',\n",
       " 'Recipe_peasandcrayons.com_September2020.json.gz',\n",
       " 'Product_wysylka.com_September2020.json.gz',\n",
       " 'Restaurant_fastfoodinusa.com_September2020.json.gz',\n",
       " 'Product_parts-whiz.com_September2020.json.gz',\n",
       " 'CreativeWork_purrshare.com_September2020.json.gz',\n",
       " 'Recipe_melskitchencafe.com_September2020.json.gz',\n",
       " 'Recipe_bedandbroccoli.com.au_September2020.json.gz',\n",
       " 'MusicRecording_melissarappmusic.com_September2020.json.gz',\n",
       " 'Event_grants4good.com_September2020.json.gz',\n",
       " 'Product_shippingrollerconveyor.com_September2020.json.gz',\n",
       " 'Product_sorbyadamswines.com_September2020.json.gz',\n",
       " 'Product_picclick.com_September2020.json.gz',\n",
       " 'Recipe_kitrusy.com_September2020.json.gz',\n",
       " 'Restaurant_thecheesecakefactory.com_September2020.json.gz',\n",
       " 'Person_housemanfuneralhome.com_September2020.json.gz',\n",
       " 'Product_outdoor-oprema.com_September2020.json.gz',\n",
       " 'LocalBusiness_cabodiscounttours.com_September2020.json.gz',\n",
       " 'Event_alexandrahouse.org_September2020.json.gz',\n",
       " 'Product_floristik24.co.uk_September2020.json.gz',\n",
       " 'Recipe_crumbsandcaramel.com_September2020.json.gz',\n",
       " 'CreativeWork_antonys-carhire.com_September2020.json.gz',\n",
       " 'Product_coversandall.com_September2020.json.gz',\n",
       " 'MusicRecording_shawnjohnsonmusic.com_September2020.json.gz',\n",
       " 'Event_legraindefolie.com_September2020.json.gz',\n",
       " 'Product_valvekings.com_September2020.json.gz',\n",
       " 'Restaurant_absolutebarbecues.com_September2020.json.gz',\n",
       " 'Product_dripcreationz.com_September2020.json.gz',\n",
       " 'LocalBusiness_quizpatentino.net_September2020.json.gz',\n",
       " 'Recipe_germanfoods.org_September2020.json.gz',\n",
       " 'Product_rebelhillflorist.com_September2020.json.gz',\n",
       " 'LocalBusiness_cmmaworks.org_September2020.json.gz',\n",
       " 'Person_cb17brooklyn.org_September2020.json.gz',\n",
       " 'Event_imaginationstationstudios.com_September2020.json.gz',\n",
       " 'Product_explorecedarchest.com_September2020.json.gz',\n",
       " 'Product_crunchi.com_September2020.json.gz',\n",
       " 'Event_expat.com_September2020.json.gz',\n",
       " 'Product_moninformatique.net_September2020.json.gz',\n",
       " 'Recipe_rudehealth.com_September2020.json.gz',\n",
       " 'Product_johnpcondonfuneralhome.com_September2020.json.gz',\n",
       " 'MusicRecording_frankzappiamusic.com_September2020.json.gz',\n",
       " 'Product_tourguideinnepal.com_September2020.json.gz',\n",
       " 'MusicRecording_corinraymond.com_September2020.json.gz',\n",
       " 'Event_pcrsbdc.org_September2020.json.gz',\n",
       " 'Event_mcwe.com_September2020.json.gz',\n",
       " 'Product_e35shop.com_September2020.json.gz',\n",
       " 'MusicAlbum_hello-base.com_September2020.json.gz',\n",
       " 'Product_snowblowersdirect.com_September2020.json.gz',\n",
       " 'Product_ledsupply.com_September2020.json.gz',\n",
       " 'Recipe_airfryerrecipes.net_September2020.json.gz',\n",
       " 'Event_ukcraftfairs.com_September2020.json.gz',\n",
       " 'MusicRecording_forever-original.com_September2020.json.gz',\n",
       " 'Recipe_bellabistro.com_September2020.json.gz',\n",
       " 'Person_musopen.org_September2020.json.gz',\n",
       " 'Recipe_plochman.com_September2020.json.gz',\n",
       " 'Product_gmpartsxperts.com_September2020.json.gz',\n",
       " 'Event_rectoryfarm.northants.sch.uk_September2020.json.gz',\n",
       " 'Event_rembrandtswinebar.com_September2020.json.gz',\n",
       " 'Product_loveyourmelon.com_September2020.json.gz',\n",
       " 'Product_3bears.co.uk_September2020.json.gz',\n",
       " 'Recipe_wfeh.org_September2020.json.gz',\n",
       " 'MusicRecording_ricardogautreau.com_September2020.json.gz',\n",
       " 'MusicRecording_adventuresinparadisenz.com_September2020.json.gz',\n",
       " 'Person_fariesfuneralhomes.com_September2020.json.gz',\n",
       " 'Recipe_thesizzleworks.com_September2020.json.gz',\n",
       " 'Product_bluepennylady.com_September2020.json.gz',\n",
       " 'Product_donachique.com.br_September2020.json.gz',\n",
       " 'Product_theaffective.com_September2020.json.gz',\n",
       " 'Product_opto22.com_September2020.json.gz',\n",
       " 'Product_gearuptofit.org_September2020.json.gz',\n",
       " 'Person_fpdevinefuneralhome.com_September2020.json.gz',\n",
       " 'Event_lawrencedavis.com.au_September2020.json.gz',\n",
       " 'Person_texasbeekeepers.org_September2020.json.gz',\n",
       " 'Product_premiumautocars.com_September2020.json.gz',\n",
       " 'Event_lgrsc.com_September2020.json.gz',\n",
       " 'Person_swansea.ac.uk_September2020.json.gz',\n",
       " 'Product_bradlandspetsupplies.com_September2020.json.gz',\n",
       " 'Event_lancastercupcake.com_September2020.json.gz',\n",
       " 'MusicRecording_jordanmatthewyoung.com_September2020.json.gz',\n",
       " 'Person_charlesrussellspeechlys.com_September2020.json.gz',\n",
       " 'Product_splitticketing.co.uk_September2020.json.gz',\n",
       " 'Product_johnnelachkofuneralhome.com_September2020.json.gz',\n",
       " 'Recipe_zardyplants.com_September2020.json.gz',\n",
       " 'Product_instrument4you.com.ua_September2020.json.gz',\n",
       " 'Recipe_thehealthygourmet.co.uk_September2020.json.gz',\n",
       " 'Product_franksappliance.com_September2020.json.gz',\n",
       " 'MusicRecording_coniecewashington.com_September2020.json.gz',\n",
       " 'Product_volvocars-pirbrighttyres.co.uk_September2020.json.gz',\n",
       " 'Restaurant_restaurantguru.com_September2020.json.gz',\n",
       " 'Product_pullup-dip.com_September2020.json.gz',\n",
       " 'Product_victoria-vincent.com_September2020.json.gz',\n",
       " 'Product_plumbottom.net_September2020.json.gz',\n",
       " 'Product_pamycarie.com_September2020.json.gz',\n",
       " 'MusicAlbum_spotlyrics.com_September2020.json.gz',\n",
       " 'MusicRecording_rupertwatesmusic.com_September2020.json.gz',\n",
       " 'CreativeWork_thajokes.com_September2020.json.gz',\n",
       " 'Recipe_noopurskitchen.com_September2020.json.gz',\n",
       " 'Product_19yearoldcuties.com_September2020.json.gz',\n",
       " 'MusicRecording_valstarrandthebluesrocket.com_September2020.json.gz',\n",
       " 'Product_lndr.uk_September2020.json.gz',\n",
       " 'Person_thewwa.com_September2020.json.gz',\n",
       " 'Product_ecosoft-market.com.ua_September2020.json.gz',\n",
       " 'Product_houstonperformancesolutions.com_September2020.json.gz',\n",
       " 'Event_scouts.com.au_September2020.json.gz',\n",
       " 'CreativeWork_a2ndcup.com_September2020.json.gz',\n",
       " 'Book_derbygpvts.co.uk_September2020.json.gz',\n",
       " 'MusicRecording_jillcohn.com_September2020.json.gz',\n",
       " 'LocalBusiness_enjoykuta.com_September2020.json.gz',\n",
       " 'Event_downtowntucson.org_September2020.json.gz',\n",
       " 'Product_fringesport.com_September2020.json.gz',\n",
       " 'Event_destinycitycomics.com_September2020.json.gz',\n",
       " 'Event_missoulachapterhog.com_September2020.json.gz',\n",
       " 'Person_brighamfuneralchapel.com_September2020.json.gz',\n",
       " 'Recipe_gourmetwithblakely.com_September2020.json.gz',\n",
       " 'Recipe_homemademastery.com_September2020.json.gz',\n",
       " 'Product_townesquarejewelers.com_September2020.json.gz',\n",
       " 'Product_douglassmotors.uk_September2020.json.gz',\n",
       " 'Event_cakeresume.com_September2020.json.gz',\n",
       " 'Product_metrocarlimo.com_September2020.json.gz',\n",
       " 'Product_bear-family.com_September2020.json.gz',\n",
       " 'Recipe_sugarfreedom.com.au_September2020.json.gz',\n",
       " 'CreativeWork_strategex.com_September2020.json.gz',\n",
       " 'MusicRecording_jonworthythebends.com_September2020.json.gz',\n",
       " 'Recipe_baldhiker.com_September2020.json.gz',\n",
       " 'MusicRecording_audiobuzz.com_September2020.json.gz',\n",
       " 'Product_hugoboss.com_September2020.json.gz',\n",
       " 'LocalBusiness_lapelsfranchise.com_September2020.json.gz',\n",
       " 'Person_coge.org_September2020.json.gz',\n",
       " ...]"
      ]
     },
     "execution_count": 9,
     "metadata": {},
     "output_type": "execute_result"
    }
   ],
   "source": [
    "small_files_train"
   ]
  },
  {
   "cell_type": "code",
   "execution_count": 10,
   "metadata": {},
   "outputs": [
    {
     "name": "stdout",
     "output_type": "stream",
     "text": [
      "2444\n"
     ]
    }
   ],
   "source": [
    "print(len(small_files_train))"
   ]
  },
  {
   "cell_type": "code",
   "execution_count": 11,
   "metadata": {},
   "outputs": [],
   "source": [
    "#table_id = 'Product_kingmemorialpark.com_September2020.json.gz'\n",
    "df = pd.read_json(os.path.join(path + 'Small/Train/Product_kingmemorialpark.com_September2020.json.gz'), compression='gzip', lines=True)"
   ]
  },
  {
   "cell_type": "code",
   "execution_count": 12,
   "metadata": {},
   "outputs": [
    {
     "name": "stdout",
     "output_type": "stream",
     "text": [
      "Product\n"
     ]
    }
   ],
   "source": [
    "file = 'Product_kingmemorialpark.com_September2020.json.gz'\n",
    "category , file = file.split('_', 1)\n",
    "print(category)"
   ]
  },
  {
   "cell_type": "code",
   "execution_count": 13,
   "metadata": {},
   "outputs": [
    {
     "data": {
      "text/html": [
       "<div>\n",
       "<style scoped>\n",
       "    .dataframe tbody tr th:only-of-type {\n",
       "        vertical-align: middle;\n",
       "    }\n",
       "\n",
       "    .dataframe tbody tr th {\n",
       "        vertical-align: top;\n",
       "    }\n",
       "\n",
       "    .dataframe thead th {\n",
       "        text-align: right;\n",
       "    }\n",
       "</style>\n",
       "<table border=\"1\" class=\"dataframe\">\n",
       "  <thead>\n",
       "    <tr style=\"text-align: right;\">\n",
       "      <th></th>\n",
       "      <th>row_id</th>\n",
       "      <th>name</th>\n",
       "      <th>offers</th>\n",
       "      <th>url</th>\n",
       "      <th>image</th>\n",
       "      <th>aggregaterating</th>\n",
       "      <th>productid</th>\n",
       "      <th>review</th>\n",
       "      <th>itemcondition</th>\n",
       "      <th>model</th>\n",
       "      <th>page_url</th>\n",
       "    </tr>\n",
       "  </thead>\n",
       "  <tbody>\n",
       "    <tr>\n",
       "      <th>0</th>\n",
       "      <td>0</td>\n",
       "      <td>Heavenly Sentiments Spray</td>\n",
       "      <td>{'pricecurrency': 'USD', 'lowprice': '202.95',...</td>\n",
       "      <td>https://www.kingmemorialpark.com/store/standin...</td>\n",
       "      <td>https://res.cloudinary.com/picasso/image/uploa...</td>\n",
       "      <td>{'reviewcount': '4', 'ratingvalue': '5.00'}</td>\n",
       "      <td>1394</td>\n",
       "      <td>[{'author': 'from -', 'description': 'Arrangem...</td>\n",
       "      <td>NewCondition</td>\n",
       "      <td>{'sku': 'T247-2A', 'name': 'Heavenly Sentiment...</td>\n",
       "      <td>https://www.kingmemorialpark.com/store/deliver...</td>\n",
       "    </tr>\n",
       "    <tr>\n",
       "      <th>1</th>\n",
       "      <td>1</td>\n",
       "      <td>Peaceful White Lilies Basket</td>\n",
       "      <td>{'pricecurrency': 'USD', 'price': '89.95', 'av...</td>\n",
       "      <td>https://www.kingmemorialpark.com/store/best-se...</td>\n",
       "      <td>https://res.cloudinary.com/picasso/image/uploa...</td>\n",
       "      <td>{'reviewcount': '250', 'ratingvalue': '4.93'}</td>\n",
       "      <td>1442</td>\n",
       "      <td>None</td>\n",
       "      <td>NewCondition</td>\n",
       "      <td>None</td>\n",
       "      <td>https://www.kingmemorialpark.com/store/?icn=ex...</td>\n",
       "    </tr>\n",
       "    <tr>\n",
       "      <th>2</th>\n",
       "      <td>2</td>\n",
       "      <td>Full Of Love Bouquet</td>\n",
       "      <td>{'pricecurrency': 'USD', 'price': '49.95', 'av...</td>\n",
       "      <td>https://www.kingmemorialpark.com/store/best-se...</td>\n",
       "      <td>https://res.cloudinary.com/picasso/image/uploa...</td>\n",
       "      <td>{'reviewcount': '122', 'ratingvalue': '4.98'}</td>\n",
       "      <td>4358</td>\n",
       "      <td>None</td>\n",
       "      <td>NewCondition</td>\n",
       "      <td>None</td>\n",
       "      <td>https://www.kingmemorialpark.com/store/?icn=ex...</td>\n",
       "    </tr>\n",
       "    <tr>\n",
       "      <th>3</th>\n",
       "      <td>3</td>\n",
       "      <td>Sentiments of Serenity Spray</td>\n",
       "      <td>{'pricecurrency': 'USD', 'price': '139.95', 'a...</td>\n",
       "      <td>https://www.kingmemorialpark.com/store/best-se...</td>\n",
       "      <td>https://res.cloudinary.com/picasso/image/uploa...</td>\n",
       "      <td>{'ratingvalue': '4.96', 'reviewcount': '181'}</td>\n",
       "      <td>2989</td>\n",
       "      <td>None</td>\n",
       "      <td>NewCondition</td>\n",
       "      <td>None</td>\n",
       "      <td>https://www.kingmemorialpark.com/store/?icn=ex...</td>\n",
       "    </tr>\n",
       "    <tr>\n",
       "      <th>4</th>\n",
       "      <td>4</td>\n",
       "      <td>Strength &amp; Solace Spray</td>\n",
       "      <td>{'pricecurrency': 'USD', 'price': '119.95', 'a...</td>\n",
       "      <td>https://www.kingmemorialpark.com/store/best-se...</td>\n",
       "      <td>https://res.cloudinary.com/picasso/image/uploa...</td>\n",
       "      <td>{'reviewcount': '115', 'ratingvalue': '4.90'}</td>\n",
       "      <td>2988</td>\n",
       "      <td>None</td>\n",
       "      <td>NewCondition</td>\n",
       "      <td>None</td>\n",
       "      <td>https://www.kingmemorialpark.com/store/?icn=ex...</td>\n",
       "    </tr>\n",
       "    <tr>\n",
       "      <th>...</th>\n",
       "      <td>...</td>\n",
       "      <td>...</td>\n",
       "      <td>...</td>\n",
       "      <td>...</td>\n",
       "      <td>...</td>\n",
       "      <td>...</td>\n",
       "      <td>...</td>\n",
       "      <td>...</td>\n",
       "      <td>...</td>\n",
       "      <td>...</td>\n",
       "      <td>...</td>\n",
       "    </tr>\n",
       "    <tr>\n",
       "      <th>78</th>\n",
       "      <td>78</td>\n",
       "      <td>Pet Loss and Human Emotion</td>\n",
       "      <td>{'pricecurrency': 'USD', 'lowprice': '34.95', ...</td>\n",
       "      <td>https://www.kingmemorialpark.com/store/pet-los...</td>\n",
       "      <td>https://res.cloudinary.com/picasso/image/uploa...</td>\n",
       "      <td>None</td>\n",
       "      <td>754</td>\n",
       "      <td>None</td>\n",
       "      <td>NewCondition</td>\n",
       "      <td>{'sku': '9780415955768', 'image': 'https://res...</td>\n",
       "      <td>https://www.kingmemorialpark.com/store/grief-b...</td>\n",
       "    </tr>\n",
       "    <tr>\n",
       "      <th>79</th>\n",
       "      <td>79</td>\n",
       "      <td>Reflections of Glory Wreath</td>\n",
       "      <td>{'pricecurrency': 'USD', 'highprice': '212.95'...</td>\n",
       "      <td>https://www.kingmemorialpark.com/store/wreaths...</td>\n",
       "      <td>https://res.cloudinary.com/picasso/image/uploa...</td>\n",
       "      <td>{'reviewcount': '4', 'ratingvalue': '5.00'}</td>\n",
       "      <td>1470</td>\n",
       "      <td>[{'description': 'A beautiful wreath as seen o...</td>\n",
       "      <td>NewCondition</td>\n",
       "      <td>{'url': 'https://www.kingmemorialpark.com/stor...</td>\n",
       "      <td>https://www.kingmemorialpark.com/store/funeral...</td>\n",
       "    </tr>\n",
       "    <tr>\n",
       "      <th>80</th>\n",
       "      <td>80</td>\n",
       "      <td>Angel Wind Chime - Silver</td>\n",
       "      <td>{'pricecurrency': 'USD', 'lowprice': '69.95', ...</td>\n",
       "      <td>https://www.kingmemorialpark.com/store/pre-ins...</td>\n",
       "      <td>https://res.cloudinary.com/picasso/image/uploa...</td>\n",
       "      <td>None</td>\n",
       "      <td>950</td>\n",
       "      <td>None</td>\n",
       "      <td>NewCondition</td>\n",
       "      <td>[{'image': 'https://res.cloudinary.com/picasso...</td>\n",
       "      <td>https://www.kingmemorialpark.com/store/garden-...</td>\n",
       "    </tr>\n",
       "    <tr>\n",
       "      <th>81</th>\n",
       "      <td>81</td>\n",
       "      <td>Grieving Beyond Gender</td>\n",
       "      <td>{'pricecurrency': 'USD', 'highprice': '39.95',...</td>\n",
       "      <td>https://www.kingmemorialpark.com/store/grief-b...</td>\n",
       "      <td>https://res.cloudinary.com/picasso/image/uploa...</td>\n",
       "      <td>None</td>\n",
       "      <td>757</td>\n",
       "      <td>None</td>\n",
       "      <td>NewCondition</td>\n",
       "      <td>{'name': 'Grieving Beyond Gender (Standard)', ...</td>\n",
       "      <td>https://www.kingmemorialpark.com/store/grief-b...</td>\n",
       "    </tr>\n",
       "    <tr>\n",
       "      <th>82</th>\n",
       "      <td>82</td>\n",
       "      <td>Country Basket Blooms</td>\n",
       "      <td>{'pricecurrency': 'USD', 'lowprice': '67.95', ...</td>\n",
       "      <td>https://www.kingmemorialpark.com/store/baskets...</td>\n",
       "      <td>https://res.cloudinary.com/picasso/image/uploa...</td>\n",
       "      <td>{'reviewcount': '145', 'ratingvalue': '4.97'}</td>\n",
       "      <td>4357</td>\n",
       "      <td>[{'name': 'Country Basket Blooms', 'descriptio...</td>\n",
       "      <td>NewCondition</td>\n",
       "      <td>[{'name': 'Country Basket Blooms (Standard)', ...</td>\n",
       "      <td>https://www.kingmemorialpark.com/store/best-se...</td>\n",
       "    </tr>\n",
       "  </tbody>\n",
       "</table>\n",
       "<p>83 rows × 11 columns</p>\n",
       "</div>"
      ],
      "text/plain": [
       "    row_id                          name  \\\n",
       "0        0     Heavenly Sentiments Spray   \n",
       "1        1  Peaceful White Lilies Basket   \n",
       "2        2          Full Of Love Bouquet   \n",
       "3        3  Sentiments of Serenity Spray   \n",
       "4        4       Strength & Solace Spray   \n",
       "..     ...                           ...   \n",
       "78      78    Pet Loss and Human Emotion   \n",
       "79      79   Reflections of Glory Wreath   \n",
       "80      80     Angel Wind Chime - Silver   \n",
       "81      81        Grieving Beyond Gender   \n",
       "82      82         Country Basket Blooms   \n",
       "\n",
       "                                               offers  \\\n",
       "0   {'pricecurrency': 'USD', 'lowprice': '202.95',...   \n",
       "1   {'pricecurrency': 'USD', 'price': '89.95', 'av...   \n",
       "2   {'pricecurrency': 'USD', 'price': '49.95', 'av...   \n",
       "3   {'pricecurrency': 'USD', 'price': '139.95', 'a...   \n",
       "4   {'pricecurrency': 'USD', 'price': '119.95', 'a...   \n",
       "..                                                ...   \n",
       "78  {'pricecurrency': 'USD', 'lowprice': '34.95', ...   \n",
       "79  {'pricecurrency': 'USD', 'highprice': '212.95'...   \n",
       "80  {'pricecurrency': 'USD', 'lowprice': '69.95', ...   \n",
       "81  {'pricecurrency': 'USD', 'highprice': '39.95',...   \n",
       "82  {'pricecurrency': 'USD', 'lowprice': '67.95', ...   \n",
       "\n",
       "                                                  url  \\\n",
       "0   https://www.kingmemorialpark.com/store/standin...   \n",
       "1   https://www.kingmemorialpark.com/store/best-se...   \n",
       "2   https://www.kingmemorialpark.com/store/best-se...   \n",
       "3   https://www.kingmemorialpark.com/store/best-se...   \n",
       "4   https://www.kingmemorialpark.com/store/best-se...   \n",
       "..                                                ...   \n",
       "78  https://www.kingmemorialpark.com/store/pet-los...   \n",
       "79  https://www.kingmemorialpark.com/store/wreaths...   \n",
       "80  https://www.kingmemorialpark.com/store/pre-ins...   \n",
       "81  https://www.kingmemorialpark.com/store/grief-b...   \n",
       "82  https://www.kingmemorialpark.com/store/baskets...   \n",
       "\n",
       "                                                image  \\\n",
       "0   https://res.cloudinary.com/picasso/image/uploa...   \n",
       "1   https://res.cloudinary.com/picasso/image/uploa...   \n",
       "2   https://res.cloudinary.com/picasso/image/uploa...   \n",
       "3   https://res.cloudinary.com/picasso/image/uploa...   \n",
       "4   https://res.cloudinary.com/picasso/image/uploa...   \n",
       "..                                                ...   \n",
       "78  https://res.cloudinary.com/picasso/image/uploa...   \n",
       "79  https://res.cloudinary.com/picasso/image/uploa...   \n",
       "80  https://res.cloudinary.com/picasso/image/uploa...   \n",
       "81  https://res.cloudinary.com/picasso/image/uploa...   \n",
       "82  https://res.cloudinary.com/picasso/image/uploa...   \n",
       "\n",
       "                                  aggregaterating  productid  \\\n",
       "0     {'reviewcount': '4', 'ratingvalue': '5.00'}       1394   \n",
       "1   {'reviewcount': '250', 'ratingvalue': '4.93'}       1442   \n",
       "2   {'reviewcount': '122', 'ratingvalue': '4.98'}       4358   \n",
       "3   {'ratingvalue': '4.96', 'reviewcount': '181'}       2989   \n",
       "4   {'reviewcount': '115', 'ratingvalue': '4.90'}       2988   \n",
       "..                                            ...        ...   \n",
       "78                                           None        754   \n",
       "79    {'reviewcount': '4', 'ratingvalue': '5.00'}       1470   \n",
       "80                                           None        950   \n",
       "81                                           None        757   \n",
       "82  {'reviewcount': '145', 'ratingvalue': '4.97'}       4357   \n",
       "\n",
       "                                               review itemcondition  \\\n",
       "0   [{'author': 'from -', 'description': 'Arrangem...  NewCondition   \n",
       "1                                                None  NewCondition   \n",
       "2                                                None  NewCondition   \n",
       "3                                                None  NewCondition   \n",
       "4                                                None  NewCondition   \n",
       "..                                                ...           ...   \n",
       "78                                               None  NewCondition   \n",
       "79  [{'description': 'A beautiful wreath as seen o...  NewCondition   \n",
       "80                                               None  NewCondition   \n",
       "81                                               None  NewCondition   \n",
       "82  [{'name': 'Country Basket Blooms', 'descriptio...  NewCondition   \n",
       "\n",
       "                                                model  \\\n",
       "0   {'sku': 'T247-2A', 'name': 'Heavenly Sentiment...   \n",
       "1                                                None   \n",
       "2                                                None   \n",
       "3                                                None   \n",
       "4                                                None   \n",
       "..                                                ...   \n",
       "78  {'sku': '9780415955768', 'image': 'https://res...   \n",
       "79  {'url': 'https://www.kingmemorialpark.com/stor...   \n",
       "80  [{'image': 'https://res.cloudinary.com/picasso...   \n",
       "81  {'name': 'Grieving Beyond Gender (Standard)', ...   \n",
       "82  [{'name': 'Country Basket Blooms (Standard)', ...   \n",
       "\n",
       "                                             page_url  \n",
       "0   https://www.kingmemorialpark.com/store/deliver...  \n",
       "1   https://www.kingmemorialpark.com/store/?icn=ex...  \n",
       "2   https://www.kingmemorialpark.com/store/?icn=ex...  \n",
       "3   https://www.kingmemorialpark.com/store/?icn=ex...  \n",
       "4   https://www.kingmemorialpark.com/store/?icn=ex...  \n",
       "..                                                ...  \n",
       "78  https://www.kingmemorialpark.com/store/grief-b...  \n",
       "79  https://www.kingmemorialpark.com/store/funeral...  \n",
       "80  https://www.kingmemorialpark.com/store/garden-...  \n",
       "81  https://www.kingmemorialpark.com/store/grief-b...  \n",
       "82  https://www.kingmemorialpark.com/store/best-se...  \n",
       "\n",
       "[83 rows x 11 columns]"
      ]
     },
     "execution_count": 13,
     "metadata": {},
     "output_type": "execute_result"
    }
   ],
   "source": [
    "df #test for one table"
   ]
  },
  {
   "cell_type": "code",
   "execution_count": 14,
   "metadata": {},
   "outputs": [
    {
     "data": {
      "text/plain": [
       "['row_id',\n",
       " 'name',\n",
       " 'offers',\n",
       " 'url',\n",
       " 'image',\n",
       " 'aggregaterating',\n",
       " 'productid',\n",
       " 'review',\n",
       " 'itemcondition',\n",
       " 'model',\n",
       " 'page_url']"
      ]
     },
     "execution_count": 14,
     "metadata": {},
     "output_type": "execute_result"
    }
   ],
   "source": [
    "list(df.columns)"
   ]
  },
  {
   "cell_type": "code",
   "execution_count": 20,
   "metadata": {},
   "outputs": [
    {
     "data": {
      "text/plain": [
       "['Product.row_id',\n",
       " 'Product.name',\n",
       " 'Product.offers',\n",
       " 'Product.url',\n",
       " 'Product.image',\n",
       " 'Product.aggregaterating',\n",
       " 'Product.productid',\n",
       " 'Product.review',\n",
       " 'Product.itemcondition',\n",
       " 'Product.model',\n",
       " 'Product.page_url']"
      ]
     },
     "execution_count": 20,
     "metadata": {},
     "output_type": "execute_result"
    }
   ],
   "source": [
    "col_types = [] # create empty list for col types\n",
    "file = 'Product_kingmemorialpark.com_September2020.json.gz'\n",
    "category , file = file.split('_', 1) #get category for file\n",
    "for element in list(df.columns): #iterate over headers in tables\n",
    "    col_types = [category + '.' + element for element in list(df.columns)] #append category to header for col type annotation\n",
    "col_types"
   ]
  },
  {
   "cell_type": "code",
   "execution_count": 9,
   "metadata": {},
   "outputs": [],
   "source": [
    "#df_test = [list(df.columns)]"
   ]
  },
  {
   "cell_type": "code",
   "execution_count": 10,
   "metadata": {},
   "outputs": [
    {
     "data": {
      "text/plain": [
       "[['row_id',\n",
       "  'name',\n",
       "  'offers',\n",
       "  'url',\n",
       "  'image',\n",
       "  'aggregaterating',\n",
       "  'productid',\n",
       "  'review',\n",
       "  'itemcondition',\n",
       "  'model',\n",
       "  'page_url']]"
      ]
     },
     "execution_count": 10,
     "metadata": {},
     "output_type": "execute_result"
    }
   ],
   "source": [
    "#df_test"
   ]
  },
  {
   "cell_type": "code",
   "execution_count": 11,
   "metadata": {},
   "outputs": [],
   "source": [
    "# test cell representation for one table\n",
    "#df_test = df\n",
    "#cell_representation=[] # cell representation of first row\n",
    "#i = 0\n",
    "#for col in df.columns:\n",
    "    cell_representation.append([[int(i),int(0)],[df_test['row_id'][0],str(df_test[col][0])]])\n",
    "    i = i+1"
   ]
  },
  {
   "cell_type": "code",
   "execution_count": 12,
   "metadata": {},
   "outputs": [
    {
     "data": {
      "text/plain": [
       "[[[0, 0], [0, '0']],\n",
       " [[1, 0], [0, 'Heavenly Sentiments Spray']],\n",
       " [[2, 0],\n",
       "  [0,\n",
       "   \"{'pricecurrency': 'USD', 'lowprice': '202.95', 'highprice': '202.95'}\"]],\n",
       " [[3, 0],\n",
       "  [0,\n",
       "   'https://www.kingmemorialpark.com/store/standing-sprays/heavenly-sentiments-spray']],\n",
       " [[4, 0],\n",
       "  [0,\n",
       "   'https://res.cloudinary.com/picasso/image/upload/c_lpad,f_jpg,fl_progressive,h_300,q_auto,w_300/tr6abs1s5y3oazvpsmfe.jpg']],\n",
       " [[5, 0], [0, \"{'reviewcount': '4', 'ratingvalue': '5.00'}\"]],\n",
       " [[6, 0], [0, '1394']],\n",
       " [[7, 0],\n",
       "  [0,\n",
       "   '[{\\'author\\': \\'from -\\', \\'description\\': \\'Arrangement was made beautifully... I was completely satisfied...I truly recommend this service and the flowers. Very Nice Job! Thank you!\\', \\'name\\': \\'Heavenly Sentiments Spray\\', \\'datepublished\\': \\'6/19/2019\\'}, {\\'author\\': \\'from -\\', \\'datepublished\\': \\'7/29/2019\\', \\'name\\': \\'Heavenly Sentiments Spray\\', \\'description\\': \"I ordered the Heavenly Sentiments Spray around 1pm for a same-day delivery. However, I received an email shortly after ordering saying the florist couldn\\'t deliver for same-day. I called the customer service team, and together we were able to find a different florist that make a custom spray (they didn\\'t have orchids) that was perfect, looked twice as big, and really made a statement for the family. I really appreciate the service team going out of their way to call and find a different florist that understood our needs and found a creative way to meet them.\"}, {\\'datepublished\\': \\'12/5/2019\\', \\'description\\': \\'I purchased a spary for the anut of my boss after re viewing a photo online. The cusotmer service was excellent. I recieved several notifications of the arrangement and went sent. After the family viewing, my boss contacted me and stated it was the largest most beautiful arrangement there. I live in NC and am very happy that I received such wonderful service and a beautiful arrangement from this far away. I wish you had a store closer to me. Thank you\\', \\'name\\': \\'Heavenly Sentiments Spray\\', \\'author\\': \\'from Carthage - North Carolina\\'}, {\\'author\\': \\'from -\\', \\'description\\': \\'It looked even prettier in person than in the picture.\\', \\'name\\': \\'Heavenly Sentiments Spray\\', \\'datepublished\\': \\'1/25/2019\\'}]']],\n",
       " [[8, 0], [0, 'NewCondition']],\n",
       " [[9, 0],\n",
       "  [0,\n",
       "   \"{'sku': 'T247-2A', 'name': 'Heavenly Sentiments Spray (Standard)', 'url': 'https://www.kingmemorialpark.com/store/standing-sprays/heavenly-sentiments-spray', 'image': 'https://res.cloudinary.com/picasso/image/upload/c_lpad,f_jpg,fl_progressive,h_300,q_auto,w_300/tr6abs1s5y3oazvpsmfe.jpg'}\"]],\n",
       " [[10, 0],\n",
       "  [0,\n",
       "   'https://www.kingmemorialpark.com/store/delivery-location/heavenly-sentiments-spray']]]"
      ]
     },
     "execution_count": 12,
     "metadata": {},
     "output_type": "execute_result"
    }
   ],
   "source": [
    "#test cell representations\n",
    "#cell_representation"
   ]
  },
  {
   "cell_type": "code",
   "execution_count": 13,
   "metadata": {},
   "outputs": [],
   "source": [
    "#test entire table representation for one table\n",
    "#table_representation = [] #empty list for table\n",
    "#table_representation.append(table_id)#append table id"
   ]
  },
  {
   "cell_type": "code",
   "execution_count": 14,
   "metadata": {},
   "outputs": [],
   "source": [
    "#all_rows_representation = []#representation of all rows\n",
    "#j = 0\n",
    "#for i in range(len(df_test)):\n",
    "#    row_representation=[] # cell representation of single row\n",
    "#    for col in df.columns:\n",
    "#        row_representation.append([[int(j),int(0)],[df_test['row_id'][0],str(df_test[col][0])]])\n",
    "#        j = j+1\n",
    "#    #row_representation.append([[int(0),int(i)],[df_testing['row_id'][i],str(df_testing['name'][i])]])\n",
    "#    #row_representation.append([[int(1),int(i)],[df_testing['row_id'][i],str(df_testing['description'][i])]])\n",
    "#    all_rows_representation.append(row_representation) #append single cell representation to representation of all rows\n",
    "#table_representation.append(all_rows_representation)#append it to representation of whole table"
   ]
  },
  {
   "cell_type": "code",
   "execution_count": 15,
   "metadata": {},
   "outputs": [
    {
     "data": {
      "text/plain": [
       "['Product_kingmemorialpark.com_September2020.json.gz',\n",
       " [[[[0, 0], [0, '0']],\n",
       "   [[1, 0], [0, 'Heavenly Sentiments Spray']],\n",
       "   [[2, 0],\n",
       "    [0,\n",
       "     \"{'pricecurrency': 'USD', 'lowprice': '202.95', 'highprice': '202.95'}\"]],\n",
       "   [[3, 0],\n",
       "    [0,\n",
       "     'https://www.kingmemorialpark.com/store/standing-sprays/heavenly-sentiments-spray']],\n",
       "   [[4, 0],\n",
       "    [0,\n",
       "     'https://res.cloudinary.com/picasso/image/upload/c_lpad,f_jpg,fl_progressive,h_300,q_auto,w_300/tr6abs1s5y3oazvpsmfe.jpg']],\n",
       "   [[5, 0], [0, \"{'reviewcount': '4', 'ratingvalue': '5.00'}\"]],\n",
       "   [[6, 0], [0, '1394']],\n",
       "   [[7, 0],\n",
       "    [0,\n",
       "     '[{\\'author\\': \\'from -\\', \\'description\\': \\'Arrangement was made beautifully... I was completely satisfied...I truly recommend this service and the flowers. Very Nice Job! Thank you!\\', \\'name\\': \\'Heavenly Sentiments Spray\\', \\'datepublished\\': \\'6/19/2019\\'}, {\\'author\\': \\'from -\\', \\'datepublished\\': \\'7/29/2019\\', \\'name\\': \\'Heavenly Sentiments Spray\\', \\'description\\': \"I ordered the Heavenly Sentiments Spray around 1pm for a same-day delivery. However, I received an email shortly after ordering saying the florist couldn\\'t deliver for same-day. I called the customer service team, and together we were able to find a different florist that make a custom spray (they didn\\'t have orchids) that was perfect, looked twice as big, and really made a statement for the family. I really appreciate the service team going out of their way to call and find a different florist that understood our needs and found a creative way to meet them.\"}, {\\'datepublished\\': \\'12/5/2019\\', \\'description\\': \\'I purchased a spary for the anut of my boss after re viewing a photo online. The cusotmer service was excellent. I recieved several notifications of the arrangement and went sent. After the family viewing, my boss contacted me and stated it was the largest most beautiful arrangement there. I live in NC and am very happy that I received such wonderful service and a beautiful arrangement from this far away. I wish you had a store closer to me. Thank you\\', \\'name\\': \\'Heavenly Sentiments Spray\\', \\'author\\': \\'from Carthage - North Carolina\\'}, {\\'author\\': \\'from -\\', \\'description\\': \\'It looked even prettier in person than in the picture.\\', \\'name\\': \\'Heavenly Sentiments Spray\\', \\'datepublished\\': \\'1/25/2019\\'}]']],\n",
       "   [[8, 0], [0, 'NewCondition']],\n",
       "   [[9, 0],\n",
       "    [0,\n",
       "     \"{'sku': 'T247-2A', 'name': 'Heavenly Sentiments Spray (Standard)', 'url': 'https://www.kingmemorialpark.com/store/standing-sprays/heavenly-sentiments-spray', 'image': 'https://res.cloudinary.com/picasso/image/upload/c_lpad,f_jpg,fl_progressive,h_300,q_auto,w_300/tr6abs1s5y3oazvpsmfe.jpg'}\"]],\n",
       "   [[10, 0],\n",
       "    [0,\n",
       "     'https://www.kingmemorialpark.com/store/delivery-location/heavenly-sentiments-spray']]],\n",
       "  [[[11, 0], [0, '0']],\n",
       "   [[12, 0], [0, 'Heavenly Sentiments Spray']],\n",
       "   [[13, 0],\n",
       "    [0,\n",
       "     \"{'pricecurrency': 'USD', 'lowprice': '202.95', 'highprice': '202.95'}\"]],\n",
       "   [[14, 0],\n",
       "    [0,\n",
       "     'https://www.kingmemorialpark.com/store/standing-sprays/heavenly-sentiments-spray']],\n",
       "   [[15, 0],\n",
       "    [0,\n",
       "     'https://res.cloudinary.com/picasso/image/upload/c_lpad,f_jpg,fl_progressive,h_300,q_auto,w_300/tr6abs1s5y3oazvpsmfe.jpg']],\n",
       "   [[16, 0], [0, \"{'reviewcount': '4', 'ratingvalue': '5.00'}\"]],\n",
       "   [[17, 0], [0, '1394']],\n",
       "   [[18, 0],\n",
       "    [0,\n",
       "     '[{\\'author\\': \\'from -\\', \\'description\\': \\'Arrangement was made beautifully... I was completely satisfied...I truly recommend this service and the flowers. Very Nice Job! Thank you!\\', \\'name\\': \\'Heavenly Sentiments Spray\\', \\'datepublished\\': \\'6/19/2019\\'}, {\\'author\\': \\'from -\\', \\'datepublished\\': \\'7/29/2019\\', \\'name\\': \\'Heavenly Sentiments Spray\\', \\'description\\': \"I ordered the Heavenly Sentiments Spray around 1pm for a same-day delivery. However, I received an email shortly after ordering saying the florist couldn\\'t deliver for same-day. I called the customer service team, and together we were able to find a different florist that make a custom spray (they didn\\'t have orchids) that was perfect, looked twice as big, and really made a statement for the family. I really appreciate the service team going out of their way to call and find a different florist that understood our needs and found a creative way to meet them.\"}, {\\'datepublished\\': \\'12/5/2019\\', \\'description\\': \\'I purchased a spary for the anut of my boss after re viewing a photo online. The cusotmer service was excellent. I recieved several notifications of the arrangement and went sent. After the family viewing, my boss contacted me and stated it was the largest most beautiful arrangement there. I live in NC and am very happy that I received such wonderful service and a beautiful arrangement from this far away. I wish you had a store closer to me. Thank you\\', \\'name\\': \\'Heavenly Sentiments Spray\\', \\'author\\': \\'from Carthage - North Carolina\\'}, {\\'author\\': \\'from -\\', \\'description\\': \\'It looked even prettier in person than in the picture.\\', \\'name\\': \\'Heavenly Sentiments Spray\\', \\'datepublished\\': \\'1/25/2019\\'}]']],\n",
       "   [[19, 0], [0, 'NewCondition']],\n",
       "   [[20, 0],\n",
       "    [0,\n",
       "     \"{'sku': 'T247-2A', 'name': 'Heavenly Sentiments Spray (Standard)', 'url': 'https://www.kingmemorialpark.com/store/standing-sprays/heavenly-sentiments-spray', 'image': 'https://res.cloudinary.com/picasso/image/upload/c_lpad,f_jpg,fl_progressive,h_300,q_auto,w_300/tr6abs1s5y3oazvpsmfe.jpg'}\"]],\n",
       "   [[21, 0],\n",
       "    [0,\n",
       "     'https://www.kingmemorialpark.com/store/delivery-location/heavenly-sentiments-spray']]],\n",
       "  [[[22, 0], [0, '0']],\n",
       "   [[23, 0], [0, 'Heavenly Sentiments Spray']],\n",
       "   [[24, 0],\n",
       "    [0,\n",
       "     \"{'pricecurrency': 'USD', 'lowprice': '202.95', 'highprice': '202.95'}\"]],\n",
       "   [[25, 0],\n",
       "    [0,\n",
       "     'https://www.kingmemorialpark.com/store/standing-sprays/heavenly-sentiments-spray']],\n",
       "   [[26, 0],\n",
       "    [0,\n",
       "     'https://res.cloudinary.com/picasso/image/upload/c_lpad,f_jpg,fl_progressive,h_300,q_auto,w_300/tr6abs1s5y3oazvpsmfe.jpg']],\n",
       "   [[27, 0], [0, \"{'reviewcount': '4', 'ratingvalue': '5.00'}\"]],\n",
       "   [[28, 0], [0, '1394']],\n",
       "   [[29, 0],\n",
       "    [0,\n",
       "     '[{\\'author\\': \\'from -\\', \\'description\\': \\'Arrangement was made beautifully... I was completely satisfied...I truly recommend this service and the flowers. Very Nice Job! Thank you!\\', \\'name\\': \\'Heavenly Sentiments Spray\\', \\'datepublished\\': \\'6/19/2019\\'}, {\\'author\\': \\'from -\\', \\'datepublished\\': \\'7/29/2019\\', \\'name\\': \\'Heavenly Sentiments Spray\\', \\'description\\': \"I ordered the Heavenly Sentiments Spray around 1pm for a same-day delivery. However, I received an email shortly after ordering saying the florist couldn\\'t deliver for same-day. I called the customer service team, and together we were able to find a different florist that make a custom spray (they didn\\'t have orchids) that was perfect, looked twice as big, and really made a statement for the family. I really appreciate the service team going out of their way to call and find a different florist that understood our needs and found a creative way to meet them.\"}, {\\'datepublished\\': \\'12/5/2019\\', \\'description\\': \\'I purchased a spary for the anut of my boss after re viewing a photo online. The cusotmer service was excellent. I recieved several notifications of the arrangement and went sent. After the family viewing, my boss contacted me and stated it was the largest most beautiful arrangement there. I live in NC and am very happy that I received such wonderful service and a beautiful arrangement from this far away. I wish you had a store closer to me. Thank you\\', \\'name\\': \\'Heavenly Sentiments Spray\\', \\'author\\': \\'from Carthage - North Carolina\\'}, {\\'author\\': \\'from -\\', \\'description\\': \\'It looked even prettier in person than in the picture.\\', \\'name\\': \\'Heavenly Sentiments Spray\\', \\'datepublished\\': \\'1/25/2019\\'}]']],\n",
       "   [[30, 0], [0, 'NewCondition']],\n",
       "   [[31, 0],\n",
       "    [0,\n",
       "     \"{'sku': 'T247-2A', 'name': 'Heavenly Sentiments Spray (Standard)', 'url': 'https://www.kingmemorialpark.com/store/standing-sprays/heavenly-sentiments-spray', 'image': 'https://res.cloudinary.com/picasso/image/upload/c_lpad,f_jpg,fl_progressive,h_300,q_auto,w_300/tr6abs1s5y3oazvpsmfe.jpg'}\"]],\n",
       "   [[32, 0],\n",
       "    [0,\n",
       "     'https://www.kingmemorialpark.com/store/delivery-location/heavenly-sentiments-spray']]],\n",
       "  [[[33, 0], [0, '0']],\n",
       "   [[34, 0], [0, 'Heavenly Sentiments Spray']],\n",
       "   [[35, 0],\n",
       "    [0,\n",
       "     \"{'pricecurrency': 'USD', 'lowprice': '202.95', 'highprice': '202.95'}\"]],\n",
       "   [[36, 0],\n",
       "    [0,\n",
       "     'https://www.kingmemorialpark.com/store/standing-sprays/heavenly-sentiments-spray']],\n",
       "   [[37, 0],\n",
       "    [0,\n",
       "     'https://res.cloudinary.com/picasso/image/upload/c_lpad,f_jpg,fl_progressive,h_300,q_auto,w_300/tr6abs1s5y3oazvpsmfe.jpg']],\n",
       "   [[38, 0], [0, \"{'reviewcount': '4', 'ratingvalue': '5.00'}\"]],\n",
       "   [[39, 0], [0, '1394']],\n",
       "   [[40, 0],\n",
       "    [0,\n",
       "     '[{\\'author\\': \\'from -\\', \\'description\\': \\'Arrangement was made beautifully... I was completely satisfied...I truly recommend this service and the flowers. Very Nice Job! Thank you!\\', \\'name\\': \\'Heavenly Sentiments Spray\\', \\'datepublished\\': \\'6/19/2019\\'}, {\\'author\\': \\'from -\\', \\'datepublished\\': \\'7/29/2019\\', \\'name\\': \\'Heavenly Sentiments Spray\\', \\'description\\': \"I ordered the Heavenly Sentiments Spray around 1pm for a same-day delivery. However, I received an email shortly after ordering saying the florist couldn\\'t deliver for same-day. I called the customer service team, and together we were able to find a different florist that make a custom spray (they didn\\'t have orchids) that was perfect, looked twice as big, and really made a statement for the family. I really appreciate the service team going out of their way to call and find a different florist that understood our needs and found a creative way to meet them.\"}, {\\'datepublished\\': \\'12/5/2019\\', \\'description\\': \\'I purchased a spary for the anut of my boss after re viewing a photo online. The cusotmer service was excellent. I recieved several notifications of the arrangement and went sent. After the family viewing, my boss contacted me and stated it was the largest most beautiful arrangement there. I live in NC and am very happy that I received such wonderful service and a beautiful arrangement from this far away. I wish you had a store closer to me. Thank you\\', \\'name\\': \\'Heavenly Sentiments Spray\\', \\'author\\': \\'from Carthage - North Carolina\\'}, {\\'author\\': \\'from -\\', \\'description\\': \\'It looked even prettier in person than in the picture.\\', \\'name\\': \\'Heavenly Sentiments Spray\\', \\'datepublished\\': \\'1/25/2019\\'}]']],\n",
       "   [[41, 0], [0, 'NewCondition']],\n",
       "   [[42, 0],\n",
       "    [0,\n",
       "     \"{'sku': 'T247-2A', 'name': 'Heavenly Sentiments Spray (Standard)', 'url': 'https://www.kingmemorialpark.com/store/standing-sprays/heavenly-sentiments-spray', 'image': 'https://res.cloudinary.com/picasso/image/upload/c_lpad,f_jpg,fl_progressive,h_300,q_auto,w_300/tr6abs1s5y3oazvpsmfe.jpg'}\"]],\n",
       "   [[43, 0],\n",
       "    [0,\n",
       "     'https://www.kingmemorialpark.com/store/delivery-location/heavenly-sentiments-spray']]],\n",
       "  [[[44, 0], [0, '0']],\n",
       "   [[45, 0], [0, 'Heavenly Sentiments Spray']],\n",
       "   [[46, 0],\n",
       "    [0,\n",
       "     \"{'pricecurrency': 'USD', 'lowprice': '202.95', 'highprice': '202.95'}\"]],\n",
       "   [[47, 0],\n",
       "    [0,\n",
       "     'https://www.kingmemorialpark.com/store/standing-sprays/heavenly-sentiments-spray']],\n",
       "   [[48, 0],\n",
       "    [0,\n",
       "     'https://res.cloudinary.com/picasso/image/upload/c_lpad,f_jpg,fl_progressive,h_300,q_auto,w_300/tr6abs1s5y3oazvpsmfe.jpg']],\n",
       "   [[49, 0], [0, \"{'reviewcount': '4', 'ratingvalue': '5.00'}\"]],\n",
       "   [[50, 0], [0, '1394']],\n",
       "   [[51, 0],\n",
       "    [0,\n",
       "     '[{\\'author\\': \\'from -\\', \\'description\\': \\'Arrangement was made beautifully... I was completely satisfied...I truly recommend this service and the flowers. Very Nice Job! Thank you!\\', \\'name\\': \\'Heavenly Sentiments Spray\\', \\'datepublished\\': \\'6/19/2019\\'}, {\\'author\\': \\'from -\\', \\'datepublished\\': \\'7/29/2019\\', \\'name\\': \\'Heavenly Sentiments Spray\\', \\'description\\': \"I ordered the Heavenly Sentiments Spray around 1pm for a same-day delivery. However, I received an email shortly after ordering saying the florist couldn\\'t deliver for same-day. I called the customer service team, and together we were able to find a different florist that make a custom spray (they didn\\'t have orchids) that was perfect, looked twice as big, and really made a statement for the family. I really appreciate the service team going out of their way to call and find a different florist that understood our needs and found a creative way to meet them.\"}, {\\'datepublished\\': \\'12/5/2019\\', \\'description\\': \\'I purchased a spary for the anut of my boss after re viewing a photo online. The cusotmer service was excellent. I recieved several notifications of the arrangement and went sent. After the family viewing, my boss contacted me and stated it was the largest most beautiful arrangement there. I live in NC and am very happy that I received such wonderful service and a beautiful arrangement from this far away. I wish you had a store closer to me. Thank you\\', \\'name\\': \\'Heavenly Sentiments Spray\\', \\'author\\': \\'from Carthage - North Carolina\\'}, {\\'author\\': \\'from -\\', \\'description\\': \\'It looked even prettier in person than in the picture.\\', \\'name\\': \\'Heavenly Sentiments Spray\\', \\'datepublished\\': \\'1/25/2019\\'}]']],\n",
       "   [[52, 0], [0, 'NewCondition']],\n",
       "   [[53, 0],\n",
       "    [0,\n",
       "     \"{'sku': 'T247-2A', 'name': 'Heavenly Sentiments Spray (Standard)', 'url': 'https://www.kingmemorialpark.com/store/standing-sprays/heavenly-sentiments-spray', 'image': 'https://res.cloudinary.com/picasso/image/upload/c_lpad,f_jpg,fl_progressive,h_300,q_auto,w_300/tr6abs1s5y3oazvpsmfe.jpg'}\"]],\n",
       "   [[54, 0],\n",
       "    [0,\n",
       "     'https://www.kingmemorialpark.com/store/delivery-location/heavenly-sentiments-spray']]],\n",
       "  [[[55, 0], [0, '0']],\n",
       "   [[56, 0], [0, 'Heavenly Sentiments Spray']],\n",
       "   [[57, 0],\n",
       "    [0,\n",
       "     \"{'pricecurrency': 'USD', 'lowprice': '202.95', 'highprice': '202.95'}\"]],\n",
       "   [[58, 0],\n",
       "    [0,\n",
       "     'https://www.kingmemorialpark.com/store/standing-sprays/heavenly-sentiments-spray']],\n",
       "   [[59, 0],\n",
       "    [0,\n",
       "     'https://res.cloudinary.com/picasso/image/upload/c_lpad,f_jpg,fl_progressive,h_300,q_auto,w_300/tr6abs1s5y3oazvpsmfe.jpg']],\n",
       "   [[60, 0], [0, \"{'reviewcount': '4', 'ratingvalue': '5.00'}\"]],\n",
       "   [[61, 0], [0, '1394']],\n",
       "   [[62, 0],\n",
       "    [0,\n",
       "     '[{\\'author\\': \\'from -\\', \\'description\\': \\'Arrangement was made beautifully... I was completely satisfied...I truly recommend this service and the flowers. Very Nice Job! Thank you!\\', \\'name\\': \\'Heavenly Sentiments Spray\\', \\'datepublished\\': \\'6/19/2019\\'}, {\\'author\\': \\'from -\\', \\'datepublished\\': \\'7/29/2019\\', \\'name\\': \\'Heavenly Sentiments Spray\\', \\'description\\': \"I ordered the Heavenly Sentiments Spray around 1pm for a same-day delivery. However, I received an email shortly after ordering saying the florist couldn\\'t deliver for same-day. I called the customer service team, and together we were able to find a different florist that make a custom spray (they didn\\'t have orchids) that was perfect, looked twice as big, and really made a statement for the family. I really appreciate the service team going out of their way to call and find a different florist that understood our needs and found a creative way to meet them.\"}, {\\'datepublished\\': \\'12/5/2019\\', \\'description\\': \\'I purchased a spary for the anut of my boss after re viewing a photo online. The cusotmer service was excellent. I recieved several notifications of the arrangement and went sent. After the family viewing, my boss contacted me and stated it was the largest most beautiful arrangement there. I live in NC and am very happy that I received such wonderful service and a beautiful arrangement from this far away. I wish you had a store closer to me. Thank you\\', \\'name\\': \\'Heavenly Sentiments Spray\\', \\'author\\': \\'from Carthage - North Carolina\\'}, {\\'author\\': \\'from -\\', \\'description\\': \\'It looked even prettier in person than in the picture.\\', \\'name\\': \\'Heavenly Sentiments Spray\\', \\'datepublished\\': \\'1/25/2019\\'}]']],\n",
       "   [[63, 0], [0, 'NewCondition']],\n",
       "   [[64, 0],\n",
       "    [0,\n",
       "     \"{'sku': 'T247-2A', 'name': 'Heavenly Sentiments Spray (Standard)', 'url': 'https://www.kingmemorialpark.com/store/standing-sprays/heavenly-sentiments-spray', 'image': 'https://res.cloudinary.com/picasso/image/upload/c_lpad,f_jpg,fl_progressive,h_300,q_auto,w_300/tr6abs1s5y3oazvpsmfe.jpg'}\"]],\n",
       "   [[65, 0],\n",
       "    [0,\n",
       "     'https://www.kingmemorialpark.com/store/delivery-location/heavenly-sentiments-spray']]],\n",
       "  [[[66, 0], [0, '0']],\n",
       "   [[67, 0], [0, 'Heavenly Sentiments Spray']],\n",
       "   [[68, 0],\n",
       "    [0,\n",
       "     \"{'pricecurrency': 'USD', 'lowprice': '202.95', 'highprice': '202.95'}\"]],\n",
       "   [[69, 0],\n",
       "    [0,\n",
       "     'https://www.kingmemorialpark.com/store/standing-sprays/heavenly-sentiments-spray']],\n",
       "   [[70, 0],\n",
       "    [0,\n",
       "     'https://res.cloudinary.com/picasso/image/upload/c_lpad,f_jpg,fl_progressive,h_300,q_auto,w_300/tr6abs1s5y3oazvpsmfe.jpg']],\n",
       "   [[71, 0], [0, \"{'reviewcount': '4', 'ratingvalue': '5.00'}\"]],\n",
       "   [[72, 0], [0, '1394']],\n",
       "   [[73, 0],\n",
       "    [0,\n",
       "     '[{\\'author\\': \\'from -\\', \\'description\\': \\'Arrangement was made beautifully... I was completely satisfied...I truly recommend this service and the flowers. Very Nice Job! Thank you!\\', \\'name\\': \\'Heavenly Sentiments Spray\\', \\'datepublished\\': \\'6/19/2019\\'}, {\\'author\\': \\'from -\\', \\'datepublished\\': \\'7/29/2019\\', \\'name\\': \\'Heavenly Sentiments Spray\\', \\'description\\': \"I ordered the Heavenly Sentiments Spray around 1pm for a same-day delivery. However, I received an email shortly after ordering saying the florist couldn\\'t deliver for same-day. I called the customer service team, and together we were able to find a different florist that make a custom spray (they didn\\'t have orchids) that was perfect, looked twice as big, and really made a statement for the family. I really appreciate the service team going out of their way to call and find a different florist that understood our needs and found a creative way to meet them.\"}, {\\'datepublished\\': \\'12/5/2019\\', \\'description\\': \\'I purchased a spary for the anut of my boss after re viewing a photo online. The cusotmer service was excellent. I recieved several notifications of the arrangement and went sent. After the family viewing, my boss contacted me and stated it was the largest most beautiful arrangement there. I live in NC and am very happy that I received such wonderful service and a beautiful arrangement from this far away. I wish you had a store closer to me. Thank you\\', \\'name\\': \\'Heavenly Sentiments Spray\\', \\'author\\': \\'from Carthage - North Carolina\\'}, {\\'author\\': \\'from -\\', \\'description\\': \\'It looked even prettier in person than in the picture.\\', \\'name\\': \\'Heavenly Sentiments Spray\\', \\'datepublished\\': \\'1/25/2019\\'}]']],\n",
       "   [[74, 0], [0, 'NewCondition']],\n",
       "   [[75, 0],\n",
       "    [0,\n",
       "     \"{'sku': 'T247-2A', 'name': 'Heavenly Sentiments Spray (Standard)', 'url': 'https://www.kingmemorialpark.com/store/standing-sprays/heavenly-sentiments-spray', 'image': 'https://res.cloudinary.com/picasso/image/upload/c_lpad,f_jpg,fl_progressive,h_300,q_auto,w_300/tr6abs1s5y3oazvpsmfe.jpg'}\"]],\n",
       "   [[76, 0],\n",
       "    [0,\n",
       "     'https://www.kingmemorialpark.com/store/delivery-location/heavenly-sentiments-spray']]],\n",
       "  [[[77, 0], [0, '0']],\n",
       "   [[78, 0], [0, 'Heavenly Sentiments Spray']],\n",
       "   [[79, 0],\n",
       "    [0,\n",
       "     \"{'pricecurrency': 'USD', 'lowprice': '202.95', 'highprice': '202.95'}\"]],\n",
       "   [[80, 0],\n",
       "    [0,\n",
       "     'https://www.kingmemorialpark.com/store/standing-sprays/heavenly-sentiments-spray']],\n",
       "   [[81, 0],\n",
       "    [0,\n",
       "     'https://res.cloudinary.com/picasso/image/upload/c_lpad,f_jpg,fl_progressive,h_300,q_auto,w_300/tr6abs1s5y3oazvpsmfe.jpg']],\n",
       "   [[82, 0], [0, \"{'reviewcount': '4', 'ratingvalue': '5.00'}\"]],\n",
       "   [[83, 0], [0, '1394']],\n",
       "   [[84, 0],\n",
       "    [0,\n",
       "     '[{\\'author\\': \\'from -\\', \\'description\\': \\'Arrangement was made beautifully... I was completely satisfied...I truly recommend this service and the flowers. Very Nice Job! Thank you!\\', \\'name\\': \\'Heavenly Sentiments Spray\\', \\'datepublished\\': \\'6/19/2019\\'}, {\\'author\\': \\'from -\\', \\'datepublished\\': \\'7/29/2019\\', \\'name\\': \\'Heavenly Sentiments Spray\\', \\'description\\': \"I ordered the Heavenly Sentiments Spray around 1pm for a same-day delivery. However, I received an email shortly after ordering saying the florist couldn\\'t deliver for same-day. I called the customer service team, and together we were able to find a different florist that make a custom spray (they didn\\'t have orchids) that was perfect, looked twice as big, and really made a statement for the family. I really appreciate the service team going out of their way to call and find a different florist that understood our needs and found a creative way to meet them.\"}, {\\'datepublished\\': \\'12/5/2019\\', \\'description\\': \\'I purchased a spary for the anut of my boss after re viewing a photo online. The cusotmer service was excellent. I recieved several notifications of the arrangement and went sent. After the family viewing, my boss contacted me and stated it was the largest most beautiful arrangement there. I live in NC and am very happy that I received such wonderful service and a beautiful arrangement from this far away. I wish you had a store closer to me. Thank you\\', \\'name\\': \\'Heavenly Sentiments Spray\\', \\'author\\': \\'from Carthage - North Carolina\\'}, {\\'author\\': \\'from -\\', \\'description\\': \\'It looked even prettier in person than in the picture.\\', \\'name\\': \\'Heavenly Sentiments Spray\\', \\'datepublished\\': \\'1/25/2019\\'}]']],\n",
       "   [[85, 0], [0, 'NewCondition']],\n",
       "   [[86, 0],\n",
       "    [0,\n",
       "     \"{'sku': 'T247-2A', 'name': 'Heavenly Sentiments Spray (Standard)', 'url': 'https://www.kingmemorialpark.com/store/standing-sprays/heavenly-sentiments-spray', 'image': 'https://res.cloudinary.com/picasso/image/upload/c_lpad,f_jpg,fl_progressive,h_300,q_auto,w_300/tr6abs1s5y3oazvpsmfe.jpg'}\"]],\n",
       "   [[87, 0],\n",
       "    [0,\n",
       "     'https://www.kingmemorialpark.com/store/delivery-location/heavenly-sentiments-spray']]],\n",
       "  [[[88, 0], [0, '0']],\n",
       "   [[89, 0], [0, 'Heavenly Sentiments Spray']],\n",
       "   [[90, 0],\n",
       "    [0,\n",
       "     \"{'pricecurrency': 'USD', 'lowprice': '202.95', 'highprice': '202.95'}\"]],\n",
       "   [[91, 0],\n",
       "    [0,\n",
       "     'https://www.kingmemorialpark.com/store/standing-sprays/heavenly-sentiments-spray']],\n",
       "   [[92, 0],\n",
       "    [0,\n",
       "     'https://res.cloudinary.com/picasso/image/upload/c_lpad,f_jpg,fl_progressive,h_300,q_auto,w_300/tr6abs1s5y3oazvpsmfe.jpg']],\n",
       "   [[93, 0], [0, \"{'reviewcount': '4', 'ratingvalue': '5.00'}\"]],\n",
       "   [[94, 0], [0, '1394']],\n",
       "   [[95, 0],\n",
       "    [0,\n",
       "     '[{\\'author\\': \\'from -\\', \\'description\\': \\'Arrangement was made beautifully... I was completely satisfied...I truly recommend this service and the flowers. Very Nice Job! Thank you!\\', \\'name\\': \\'Heavenly Sentiments Spray\\', \\'datepublished\\': \\'6/19/2019\\'}, {\\'author\\': \\'from -\\', \\'datepublished\\': \\'7/29/2019\\', \\'name\\': \\'Heavenly Sentiments Spray\\', \\'description\\': \"I ordered the Heavenly Sentiments Spray around 1pm for a same-day delivery. However, I received an email shortly after ordering saying the florist couldn\\'t deliver for same-day. I called the customer service team, and together we were able to find a different florist that make a custom spray (they didn\\'t have orchids) that was perfect, looked twice as big, and really made a statement for the family. I really appreciate the service team going out of their way to call and find a different florist that understood our needs and found a creative way to meet them.\"}, {\\'datepublished\\': \\'12/5/2019\\', \\'description\\': \\'I purchased a spary for the anut of my boss after re viewing a photo online. The cusotmer service was excellent. I recieved several notifications of the arrangement and went sent. After the family viewing, my boss contacted me and stated it was the largest most beautiful arrangement there. I live in NC and am very happy that I received such wonderful service and a beautiful arrangement from this far away. I wish you had a store closer to me. Thank you\\', \\'name\\': \\'Heavenly Sentiments Spray\\', \\'author\\': \\'from Carthage - North Carolina\\'}, {\\'author\\': \\'from -\\', \\'description\\': \\'It looked even prettier in person than in the picture.\\', \\'name\\': \\'Heavenly Sentiments Spray\\', \\'datepublished\\': \\'1/25/2019\\'}]']],\n",
       "   [[96, 0], [0, 'NewCondition']],\n",
       "   [[97, 0],\n",
       "    [0,\n",
       "     \"{'sku': 'T247-2A', 'name': 'Heavenly Sentiments Spray (Standard)', 'url': 'https://www.kingmemorialpark.com/store/standing-sprays/heavenly-sentiments-spray', 'image': 'https://res.cloudinary.com/picasso/image/upload/c_lpad,f_jpg,fl_progressive,h_300,q_auto,w_300/tr6abs1s5y3oazvpsmfe.jpg'}\"]],\n",
       "   [[98, 0],\n",
       "    [0,\n",
       "     'https://www.kingmemorialpark.com/store/delivery-location/heavenly-sentiments-spray']]],\n",
       "  [[[99, 0], [0, '0']],\n",
       "   [[100, 0], [0, 'Heavenly Sentiments Spray']],\n",
       "   [[101, 0],\n",
       "    [0,\n",
       "     \"{'pricecurrency': 'USD', 'lowprice': '202.95', 'highprice': '202.95'}\"]],\n",
       "   [[102, 0],\n",
       "    [0,\n",
       "     'https://www.kingmemorialpark.com/store/standing-sprays/heavenly-sentiments-spray']],\n",
       "   [[103, 0],\n",
       "    [0,\n",
       "     'https://res.cloudinary.com/picasso/image/upload/c_lpad,f_jpg,fl_progressive,h_300,q_auto,w_300/tr6abs1s5y3oazvpsmfe.jpg']],\n",
       "   [[104, 0], [0, \"{'reviewcount': '4', 'ratingvalue': '5.00'}\"]],\n",
       "   [[105, 0], [0, '1394']],\n",
       "   [[106, 0],\n",
       "    [0,\n",
       "     '[{\\'author\\': \\'from -\\', \\'description\\': \\'Arrangement was made beautifully... I was completely satisfied...I truly recommend this service and the flowers. Very Nice Job! Thank you!\\', \\'name\\': \\'Heavenly Sentiments Spray\\', \\'datepublished\\': \\'6/19/2019\\'}, {\\'author\\': \\'from -\\', \\'datepublished\\': \\'7/29/2019\\', \\'name\\': \\'Heavenly Sentiments Spray\\', \\'description\\': \"I ordered the Heavenly Sentiments Spray around 1pm for a same-day delivery. However, I received an email shortly after ordering saying the florist couldn\\'t deliver for same-day. I called the customer service team, and together we were able to find a different florist that make a custom spray (they didn\\'t have orchids) that was perfect, looked twice as big, and really made a statement for the family. I really appreciate the service team going out of their way to call and find a different florist that understood our needs and found a creative way to meet them.\"}, {\\'datepublished\\': \\'12/5/2019\\', \\'description\\': \\'I purchased a spary for the anut of my boss after re viewing a photo online. The cusotmer service was excellent. I recieved several notifications of the arrangement and went sent. After the family viewing, my boss contacted me and stated it was the largest most beautiful arrangement there. I live in NC and am very happy that I received such wonderful service and a beautiful arrangement from this far away. I wish you had a store closer to me. Thank you\\', \\'name\\': \\'Heavenly Sentiments Spray\\', \\'author\\': \\'from Carthage - North Carolina\\'}, {\\'author\\': \\'from -\\', \\'description\\': \\'It looked even prettier in person than in the picture.\\', \\'name\\': \\'Heavenly Sentiments Spray\\', \\'datepublished\\': \\'1/25/2019\\'}]']],\n",
       "   [[107, 0], [0, 'NewCondition']],\n",
       "   [[108, 0],\n",
       "    [0,\n",
       "     \"{'sku': 'T247-2A', 'name': 'Heavenly Sentiments Spray (Standard)', 'url': 'https://www.kingmemorialpark.com/store/standing-sprays/heavenly-sentiments-spray', 'image': 'https://res.cloudinary.com/picasso/image/upload/c_lpad,f_jpg,fl_progressive,h_300,q_auto,w_300/tr6abs1s5y3oazvpsmfe.jpg'}\"]],\n",
       "   [[109, 0],\n",
       "    [0,\n",
       "     'https://www.kingmemorialpark.com/store/delivery-location/heavenly-sentiments-spray']]],\n",
       "  [[[110, 0], [0, '0']],\n",
       "   [[111, 0], [0, 'Heavenly Sentiments Spray']],\n",
       "   [[112, 0],\n",
       "    [0,\n",
       "     \"{'pricecurrency': 'USD', 'lowprice': '202.95', 'highprice': '202.95'}\"]],\n",
       "   [[113, 0],\n",
       "    [0,\n",
       "     'https://www.kingmemorialpark.com/store/standing-sprays/heavenly-sentiments-spray']],\n",
       "   [[114, 0],\n",
       "    [0,\n",
       "     'https://res.cloudinary.com/picasso/image/upload/c_lpad,f_jpg,fl_progressive,h_300,q_auto,w_300/tr6abs1s5y3oazvpsmfe.jpg']],\n",
       "   [[115, 0], [0, \"{'reviewcount': '4', 'ratingvalue': '5.00'}\"]],\n",
       "   [[116, 0], [0, '1394']],\n",
       "   [[117, 0],\n",
       "    [0,\n",
       "     '[{\\'author\\': \\'from -\\', \\'description\\': \\'Arrangement was made beautifully... I was completely satisfied...I truly recommend this service and the flowers. Very Nice Job! Thank you!\\', \\'name\\': \\'Heavenly Sentiments Spray\\', \\'datepublished\\': \\'6/19/2019\\'}, {\\'author\\': \\'from -\\', \\'datepublished\\': \\'7/29/2019\\', \\'name\\': \\'Heavenly Sentiments Spray\\', \\'description\\': \"I ordered the Heavenly Sentiments Spray around 1pm for a same-day delivery. However, I received an email shortly after ordering saying the florist couldn\\'t deliver for same-day. I called the customer service team, and together we were able to find a different florist that make a custom spray (they didn\\'t have orchids) that was perfect, looked twice as big, and really made a statement for the family. I really appreciate the service team going out of their way to call and find a different florist that understood our needs and found a creative way to meet them.\"}, {\\'datepublished\\': \\'12/5/2019\\', \\'description\\': \\'I purchased a spary for the anut of my boss after re viewing a photo online. The cusotmer service was excellent. I recieved several notifications of the arrangement and went sent. After the family viewing, my boss contacted me and stated it was the largest most beautiful arrangement there. I live in NC and am very happy that I received such wonderful service and a beautiful arrangement from this far away. I wish you had a store closer to me. Thank you\\', \\'name\\': \\'Heavenly Sentiments Spray\\', \\'author\\': \\'from Carthage - North Carolina\\'}, {\\'author\\': \\'from -\\', \\'description\\': \\'It looked even prettier in person than in the picture.\\', \\'name\\': \\'Heavenly Sentiments Spray\\', \\'datepublished\\': \\'1/25/2019\\'}]']],\n",
       "   [[118, 0], [0, 'NewCondition']],\n",
       "   [[119, 0],\n",
       "    [0,\n",
       "     \"{'sku': 'T247-2A', 'name': 'Heavenly Sentiments Spray (Standard)', 'url': 'https://www.kingmemorialpark.com/store/standing-sprays/heavenly-sentiments-spray', 'image': 'https://res.cloudinary.com/picasso/image/upload/c_lpad,f_jpg,fl_progressive,h_300,q_auto,w_300/tr6abs1s5y3oazvpsmfe.jpg'}\"]],\n",
       "   [[120, 0],\n",
       "    [0,\n",
       "     'https://www.kingmemorialpark.com/store/delivery-location/heavenly-sentiments-spray']]],\n",
       "  [[[121, 0], [0, '0']],\n",
       "   [[122, 0], [0, 'Heavenly Sentiments Spray']],\n",
       "   [[123, 0],\n",
       "    [0,\n",
       "     \"{'pricecurrency': 'USD', 'lowprice': '202.95', 'highprice': '202.95'}\"]],\n",
       "   [[124, 0],\n",
       "    [0,\n",
       "     'https://www.kingmemorialpark.com/store/standing-sprays/heavenly-sentiments-spray']],\n",
       "   [[125, 0],\n",
       "    [0,\n",
       "     'https://res.cloudinary.com/picasso/image/upload/c_lpad,f_jpg,fl_progressive,h_300,q_auto,w_300/tr6abs1s5y3oazvpsmfe.jpg']],\n",
       "   [[126, 0], [0, \"{'reviewcount': '4', 'ratingvalue': '5.00'}\"]],\n",
       "   [[127, 0], [0, '1394']],\n",
       "   [[128, 0],\n",
       "    [0,\n",
       "     '[{\\'author\\': \\'from -\\', \\'description\\': \\'Arrangement was made beautifully... I was completely satisfied...I truly recommend this service and the flowers. Very Nice Job! Thank you!\\', \\'name\\': \\'Heavenly Sentiments Spray\\', \\'datepublished\\': \\'6/19/2019\\'}, {\\'author\\': \\'from -\\', \\'datepublished\\': \\'7/29/2019\\', \\'name\\': \\'Heavenly Sentiments Spray\\', \\'description\\': \"I ordered the Heavenly Sentiments Spray around 1pm for a same-day delivery. However, I received an email shortly after ordering saying the florist couldn\\'t deliver for same-day. I called the customer service team, and together we were able to find a different florist that make a custom spray (they didn\\'t have orchids) that was perfect, looked twice as big, and really made a statement for the family. I really appreciate the service team going out of their way to call and find a different florist that understood our needs and found a creative way to meet them.\"}, {\\'datepublished\\': \\'12/5/2019\\', \\'description\\': \\'I purchased a spary for the anut of my boss after re viewing a photo online. The cusotmer service was excellent. I recieved several notifications of the arrangement and went sent. After the family viewing, my boss contacted me and stated it was the largest most beautiful arrangement there. I live in NC and am very happy that I received such wonderful service and a beautiful arrangement from this far away. I wish you had a store closer to me. Thank you\\', \\'name\\': \\'Heavenly Sentiments Spray\\', \\'author\\': \\'from Carthage - North Carolina\\'}, {\\'author\\': \\'from -\\', \\'description\\': \\'It looked even prettier in person than in the picture.\\', \\'name\\': \\'Heavenly Sentiments Spray\\', \\'datepublished\\': \\'1/25/2019\\'}]']],\n",
       "   [[129, 0], [0, 'NewCondition']],\n",
       "   [[130, 0],\n",
       "    [0,\n",
       "     \"{'sku': 'T247-2A', 'name': 'Heavenly Sentiments Spray (Standard)', 'url': 'https://www.kingmemorialpark.com/store/standing-sprays/heavenly-sentiments-spray', 'image': 'https://res.cloudinary.com/picasso/image/upload/c_lpad,f_jpg,fl_progressive,h_300,q_auto,w_300/tr6abs1s5y3oazvpsmfe.jpg'}\"]],\n",
       "   [[131, 0],\n",
       "    [0,\n",
       "     'https://www.kingmemorialpark.com/store/delivery-location/heavenly-sentiments-spray']]],\n",
       "  [[[132, 0], [0, '0']],\n",
       "   [[133, 0], [0, 'Heavenly Sentiments Spray']],\n",
       "   [[134, 0],\n",
       "    [0,\n",
       "     \"{'pricecurrency': 'USD', 'lowprice': '202.95', 'highprice': '202.95'}\"]],\n",
       "   [[135, 0],\n",
       "    [0,\n",
       "     'https://www.kingmemorialpark.com/store/standing-sprays/heavenly-sentiments-spray']],\n",
       "   [[136, 0],\n",
       "    [0,\n",
       "     'https://res.cloudinary.com/picasso/image/upload/c_lpad,f_jpg,fl_progressive,h_300,q_auto,w_300/tr6abs1s5y3oazvpsmfe.jpg']],\n",
       "   [[137, 0], [0, \"{'reviewcount': '4', 'ratingvalue': '5.00'}\"]],\n",
       "   [[138, 0], [0, '1394']],\n",
       "   [[139, 0],\n",
       "    [0,\n",
       "     '[{\\'author\\': \\'from -\\', \\'description\\': \\'Arrangement was made beautifully... I was completely satisfied...I truly recommend this service and the flowers. Very Nice Job! Thank you!\\', \\'name\\': \\'Heavenly Sentiments Spray\\', \\'datepublished\\': \\'6/19/2019\\'}, {\\'author\\': \\'from -\\', \\'datepublished\\': \\'7/29/2019\\', \\'name\\': \\'Heavenly Sentiments Spray\\', \\'description\\': \"I ordered the Heavenly Sentiments Spray around 1pm for a same-day delivery. However, I received an email shortly after ordering saying the florist couldn\\'t deliver for same-day. I called the customer service team, and together we were able to find a different florist that make a custom spray (they didn\\'t have orchids) that was perfect, looked twice as big, and really made a statement for the family. I really appreciate the service team going out of their way to call and find a different florist that understood our needs and found a creative way to meet them.\"}, {\\'datepublished\\': \\'12/5/2019\\', \\'description\\': \\'I purchased a spary for the anut of my boss after re viewing a photo online. The cusotmer service was excellent. I recieved several notifications of the arrangement and went sent. After the family viewing, my boss contacted me and stated it was the largest most beautiful arrangement there. I live in NC and am very happy that I received such wonderful service and a beautiful arrangement from this far away. I wish you had a store closer to me. Thank you\\', \\'name\\': \\'Heavenly Sentiments Spray\\', \\'author\\': \\'from Carthage - North Carolina\\'}, {\\'author\\': \\'from -\\', \\'description\\': \\'It looked even prettier in person than in the picture.\\', \\'name\\': \\'Heavenly Sentiments Spray\\', \\'datepublished\\': \\'1/25/2019\\'}]']],\n",
       "   [[140, 0], [0, 'NewCondition']],\n",
       "   [[141, 0],\n",
       "    [0,\n",
       "     \"{'sku': 'T247-2A', 'name': 'Heavenly Sentiments Spray (Standard)', 'url': 'https://www.kingmemorialpark.com/store/standing-sprays/heavenly-sentiments-spray', 'image': 'https://res.cloudinary.com/picasso/image/upload/c_lpad,f_jpg,fl_progressive,h_300,q_auto,w_300/tr6abs1s5y3oazvpsmfe.jpg'}\"]],\n",
       "   [[142, 0],\n",
       "    [0,\n",
       "     'https://www.kingmemorialpark.com/store/delivery-location/heavenly-sentiments-spray']]],\n",
       "  [[[143, 0], [0, '0']],\n",
       "   [[144, 0], [0, 'Heavenly Sentiments Spray']],\n",
       "   [[145, 0],\n",
       "    [0,\n",
       "     \"{'pricecurrency': 'USD', 'lowprice': '202.95', 'highprice': '202.95'}\"]],\n",
       "   [[146, 0],\n",
       "    [0,\n",
       "     'https://www.kingmemorialpark.com/store/standing-sprays/heavenly-sentiments-spray']],\n",
       "   [[147, 0],\n",
       "    [0,\n",
       "     'https://res.cloudinary.com/picasso/image/upload/c_lpad,f_jpg,fl_progressive,h_300,q_auto,w_300/tr6abs1s5y3oazvpsmfe.jpg']],\n",
       "   [[148, 0], [0, \"{'reviewcount': '4', 'ratingvalue': '5.00'}\"]],\n",
       "   [[149, 0], [0, '1394']],\n",
       "   [[150, 0],\n",
       "    [0,\n",
       "     '[{\\'author\\': \\'from -\\', \\'description\\': \\'Arrangement was made beautifully... I was completely satisfied...I truly recommend this service and the flowers. Very Nice Job! Thank you!\\', \\'name\\': \\'Heavenly Sentiments Spray\\', \\'datepublished\\': \\'6/19/2019\\'}, {\\'author\\': \\'from -\\', \\'datepublished\\': \\'7/29/2019\\', \\'name\\': \\'Heavenly Sentiments Spray\\', \\'description\\': \"I ordered the Heavenly Sentiments Spray around 1pm for a same-day delivery. However, I received an email shortly after ordering saying the florist couldn\\'t deliver for same-day. I called the customer service team, and together we were able to find a different florist that make a custom spray (they didn\\'t have orchids) that was perfect, looked twice as big, and really made a statement for the family. I really appreciate the service team going out of their way to call and find a different florist that understood our needs and found a creative way to meet them.\"}, {\\'datepublished\\': \\'12/5/2019\\', \\'description\\': \\'I purchased a spary for the anut of my boss after re viewing a photo online. The cusotmer service was excellent. I recieved several notifications of the arrangement and went sent. After the family viewing, my boss contacted me and stated it was the largest most beautiful arrangement there. I live in NC and am very happy that I received such wonderful service and a beautiful arrangement from this far away. I wish you had a store closer to me. Thank you\\', \\'name\\': \\'Heavenly Sentiments Spray\\', \\'author\\': \\'from Carthage - North Carolina\\'}, {\\'author\\': \\'from -\\', \\'description\\': \\'It looked even prettier in person than in the picture.\\', \\'name\\': \\'Heavenly Sentiments Spray\\', \\'datepublished\\': \\'1/25/2019\\'}]']],\n",
       "   [[151, 0], [0, 'NewCondition']],\n",
       "   [[152, 0],\n",
       "    [0,\n",
       "     \"{'sku': 'T247-2A', 'name': 'Heavenly Sentiments Spray (Standard)', 'url': 'https://www.kingmemorialpark.com/store/standing-sprays/heavenly-sentiments-spray', 'image': 'https://res.cloudinary.com/picasso/image/upload/c_lpad,f_jpg,fl_progressive,h_300,q_auto,w_300/tr6abs1s5y3oazvpsmfe.jpg'}\"]],\n",
       "   [[153, 0],\n",
       "    [0,\n",
       "     'https://www.kingmemorialpark.com/store/delivery-location/heavenly-sentiments-spray']]],\n",
       "  [[[154, 0], [0, '0']],\n",
       "   [[155, 0], [0, 'Heavenly Sentiments Spray']],\n",
       "   [[156, 0],\n",
       "    [0,\n",
       "     \"{'pricecurrency': 'USD', 'lowprice': '202.95', 'highprice': '202.95'}\"]],\n",
       "   [[157, 0],\n",
       "    [0,\n",
       "     'https://www.kingmemorialpark.com/store/standing-sprays/heavenly-sentiments-spray']],\n",
       "   [[158, 0],\n",
       "    [0,\n",
       "     'https://res.cloudinary.com/picasso/image/upload/c_lpad,f_jpg,fl_progressive,h_300,q_auto,w_300/tr6abs1s5y3oazvpsmfe.jpg']],\n",
       "   [[159, 0], [0, \"{'reviewcount': '4', 'ratingvalue': '5.00'}\"]],\n",
       "   [[160, 0], [0, '1394']],\n",
       "   [[161, 0],\n",
       "    [0,\n",
       "     '[{\\'author\\': \\'from -\\', \\'description\\': \\'Arrangement was made beautifully... I was completely satisfied...I truly recommend this service and the flowers. Very Nice Job! Thank you!\\', \\'name\\': \\'Heavenly Sentiments Spray\\', \\'datepublished\\': \\'6/19/2019\\'}, {\\'author\\': \\'from -\\', \\'datepublished\\': \\'7/29/2019\\', \\'name\\': \\'Heavenly Sentiments Spray\\', \\'description\\': \"I ordered the Heavenly Sentiments Spray around 1pm for a same-day delivery. However, I received an email shortly after ordering saying the florist couldn\\'t deliver for same-day. I called the customer service team, and together we were able to find a different florist that make a custom spray (they didn\\'t have orchids) that was perfect, looked twice as big, and really made a statement for the family. I really appreciate the service team going out of their way to call and find a different florist that understood our needs and found a creative way to meet them.\"}, {\\'datepublished\\': \\'12/5/2019\\', \\'description\\': \\'I purchased a spary for the anut of my boss after re viewing a photo online. The cusotmer service was excellent. I recieved several notifications of the arrangement and went sent. After the family viewing, my boss contacted me and stated it was the largest most beautiful arrangement there. I live in NC and am very happy that I received such wonderful service and a beautiful arrangement from this far away. I wish you had a store closer to me. Thank you\\', \\'name\\': \\'Heavenly Sentiments Spray\\', \\'author\\': \\'from Carthage - North Carolina\\'}, {\\'author\\': \\'from -\\', \\'description\\': \\'It looked even prettier in person than in the picture.\\', \\'name\\': \\'Heavenly Sentiments Spray\\', \\'datepublished\\': \\'1/25/2019\\'}]']],\n",
       "   [[162, 0], [0, 'NewCondition']],\n",
       "   [[163, 0],\n",
       "    [0,\n",
       "     \"{'sku': 'T247-2A', 'name': 'Heavenly Sentiments Spray (Standard)', 'url': 'https://www.kingmemorialpark.com/store/standing-sprays/heavenly-sentiments-spray', 'image': 'https://res.cloudinary.com/picasso/image/upload/c_lpad,f_jpg,fl_progressive,h_300,q_auto,w_300/tr6abs1s5y3oazvpsmfe.jpg'}\"]],\n",
       "   [[164, 0],\n",
       "    [0,\n",
       "     'https://www.kingmemorialpark.com/store/delivery-location/heavenly-sentiments-spray']]],\n",
       "  [[[165, 0], [0, '0']],\n",
       "   [[166, 0], [0, 'Heavenly Sentiments Spray']],\n",
       "   [[167, 0],\n",
       "    [0,\n",
       "     \"{'pricecurrency': 'USD', 'lowprice': '202.95', 'highprice': '202.95'}\"]],\n",
       "   [[168, 0],\n",
       "    [0,\n",
       "     'https://www.kingmemorialpark.com/store/standing-sprays/heavenly-sentiments-spray']],\n",
       "   [[169, 0],\n",
       "    [0,\n",
       "     'https://res.cloudinary.com/picasso/image/upload/c_lpad,f_jpg,fl_progressive,h_300,q_auto,w_300/tr6abs1s5y3oazvpsmfe.jpg']],\n",
       "   [[170, 0], [0, \"{'reviewcount': '4', 'ratingvalue': '5.00'}\"]],\n",
       "   [[171, 0], [0, '1394']],\n",
       "   [[172, 0],\n",
       "    [0,\n",
       "     '[{\\'author\\': \\'from -\\', \\'description\\': \\'Arrangement was made beautifully... I was completely satisfied...I truly recommend this service and the flowers. Very Nice Job! Thank you!\\', \\'name\\': \\'Heavenly Sentiments Spray\\', \\'datepublished\\': \\'6/19/2019\\'}, {\\'author\\': \\'from -\\', \\'datepublished\\': \\'7/29/2019\\', \\'name\\': \\'Heavenly Sentiments Spray\\', \\'description\\': \"I ordered the Heavenly Sentiments Spray around 1pm for a same-day delivery. However, I received an email shortly after ordering saying the florist couldn\\'t deliver for same-day. I called the customer service team, and together we were able to find a different florist that make a custom spray (they didn\\'t have orchids) that was perfect, looked twice as big, and really made a statement for the family. I really appreciate the service team going out of their way to call and find a different florist that understood our needs and found a creative way to meet them.\"}, {\\'datepublished\\': \\'12/5/2019\\', \\'description\\': \\'I purchased a spary for the anut of my boss after re viewing a photo online. The cusotmer service was excellent. I recieved several notifications of the arrangement and went sent. After the family viewing, my boss contacted me and stated it was the largest most beautiful arrangement there. I live in NC and am very happy that I received such wonderful service and a beautiful arrangement from this far away. I wish you had a store closer to me. Thank you\\', \\'name\\': \\'Heavenly Sentiments Spray\\', \\'author\\': \\'from Carthage - North Carolina\\'}, {\\'author\\': \\'from -\\', \\'description\\': \\'It looked even prettier in person than in the picture.\\', \\'name\\': \\'Heavenly Sentiments Spray\\', \\'datepublished\\': \\'1/25/2019\\'}]']],\n",
       "   [[173, 0], [0, 'NewCondition']],\n",
       "   [[174, 0],\n",
       "    [0,\n",
       "     \"{'sku': 'T247-2A', 'name': 'Heavenly Sentiments Spray (Standard)', 'url': 'https://www.kingmemorialpark.com/store/standing-sprays/heavenly-sentiments-spray', 'image': 'https://res.cloudinary.com/picasso/image/upload/c_lpad,f_jpg,fl_progressive,h_300,q_auto,w_300/tr6abs1s5y3oazvpsmfe.jpg'}\"]],\n",
       "   [[175, 0],\n",
       "    [0,\n",
       "     'https://www.kingmemorialpark.com/store/delivery-location/heavenly-sentiments-spray']]],\n",
       "  [[[176, 0], [0, '0']],\n",
       "   [[177, 0], [0, 'Heavenly Sentiments Spray']],\n",
       "   [[178, 0],\n",
       "    [0,\n",
       "     \"{'pricecurrency': 'USD', 'lowprice': '202.95', 'highprice': '202.95'}\"]],\n",
       "   [[179, 0],\n",
       "    [0,\n",
       "     'https://www.kingmemorialpark.com/store/standing-sprays/heavenly-sentiments-spray']],\n",
       "   [[180, 0],\n",
       "    [0,\n",
       "     'https://res.cloudinary.com/picasso/image/upload/c_lpad,f_jpg,fl_progressive,h_300,q_auto,w_300/tr6abs1s5y3oazvpsmfe.jpg']],\n",
       "   [[181, 0], [0, \"{'reviewcount': '4', 'ratingvalue': '5.00'}\"]],\n",
       "   [[182, 0], [0, '1394']],\n",
       "   [[183, 0],\n",
       "    [0,\n",
       "     '[{\\'author\\': \\'from -\\', \\'description\\': \\'Arrangement was made beautifully... I was completely satisfied...I truly recommend this service and the flowers. Very Nice Job! Thank you!\\', \\'name\\': \\'Heavenly Sentiments Spray\\', \\'datepublished\\': \\'6/19/2019\\'}, {\\'author\\': \\'from -\\', \\'datepublished\\': \\'7/29/2019\\', \\'name\\': \\'Heavenly Sentiments Spray\\', \\'description\\': \"I ordered the Heavenly Sentiments Spray around 1pm for a same-day delivery. However, I received an email shortly after ordering saying the florist couldn\\'t deliver for same-day. I called the customer service team, and together we were able to find a different florist that make a custom spray (they didn\\'t have orchids) that was perfect, looked twice as big, and really made a statement for the family. I really appreciate the service team going out of their way to call and find a different florist that understood our needs and found a creative way to meet them.\"}, {\\'datepublished\\': \\'12/5/2019\\', \\'description\\': \\'I purchased a spary for the anut of my boss after re viewing a photo online. The cusotmer service was excellent. I recieved several notifications of the arrangement and went sent. After the family viewing, my boss contacted me and stated it was the largest most beautiful arrangement there. I live in NC and am very happy that I received such wonderful service and a beautiful arrangement from this far away. I wish you had a store closer to me. Thank you\\', \\'name\\': \\'Heavenly Sentiments Spray\\', \\'author\\': \\'from Carthage - North Carolina\\'}, {\\'author\\': \\'from -\\', \\'description\\': \\'It looked even prettier in person than in the picture.\\', \\'name\\': \\'Heavenly Sentiments Spray\\', \\'datepublished\\': \\'1/25/2019\\'}]']],\n",
       "   [[184, 0], [0, 'NewCondition']],\n",
       "   [[185, 0],\n",
       "    [0,\n",
       "     \"{'sku': 'T247-2A', 'name': 'Heavenly Sentiments Spray (Standard)', 'url': 'https://www.kingmemorialpark.com/store/standing-sprays/heavenly-sentiments-spray', 'image': 'https://res.cloudinary.com/picasso/image/upload/c_lpad,f_jpg,fl_progressive,h_300,q_auto,w_300/tr6abs1s5y3oazvpsmfe.jpg'}\"]],\n",
       "   [[186, 0],\n",
       "    [0,\n",
       "     'https://www.kingmemorialpark.com/store/delivery-location/heavenly-sentiments-spray']]],\n",
       "  [[[187, 0], [0, '0']],\n",
       "   [[188, 0], [0, 'Heavenly Sentiments Spray']],\n",
       "   [[189, 0],\n",
       "    [0,\n",
       "     \"{'pricecurrency': 'USD', 'lowprice': '202.95', 'highprice': '202.95'}\"]],\n",
       "   [[190, 0],\n",
       "    [0,\n",
       "     'https://www.kingmemorialpark.com/store/standing-sprays/heavenly-sentiments-spray']],\n",
       "   [[191, 0],\n",
       "    [0,\n",
       "     'https://res.cloudinary.com/picasso/image/upload/c_lpad,f_jpg,fl_progressive,h_300,q_auto,w_300/tr6abs1s5y3oazvpsmfe.jpg']],\n",
       "   [[192, 0], [0, \"{'reviewcount': '4', 'ratingvalue': '5.00'}\"]],\n",
       "   [[193, 0], [0, '1394']],\n",
       "   [[194, 0],\n",
       "    [0,\n",
       "     '[{\\'author\\': \\'from -\\', \\'description\\': \\'Arrangement was made beautifully... I was completely satisfied...I truly recommend this service and the flowers. Very Nice Job! Thank you!\\', \\'name\\': \\'Heavenly Sentiments Spray\\', \\'datepublished\\': \\'6/19/2019\\'}, {\\'author\\': \\'from -\\', \\'datepublished\\': \\'7/29/2019\\', \\'name\\': \\'Heavenly Sentiments Spray\\', \\'description\\': \"I ordered the Heavenly Sentiments Spray around 1pm for a same-day delivery. However, I received an email shortly after ordering saying the florist couldn\\'t deliver for same-day. I called the customer service team, and together we were able to find a different florist that make a custom spray (they didn\\'t have orchids) that was perfect, looked twice as big, and really made a statement for the family. I really appreciate the service team going out of their way to call and find a different florist that understood our needs and found a creative way to meet them.\"}, {\\'datepublished\\': \\'12/5/2019\\', \\'description\\': \\'I purchased a spary for the anut of my boss after re viewing a photo online. The cusotmer service was excellent. I recieved several notifications of the arrangement and went sent. After the family viewing, my boss contacted me and stated it was the largest most beautiful arrangement there. I live in NC and am very happy that I received such wonderful service and a beautiful arrangement from this far away. I wish you had a store closer to me. Thank you\\', \\'name\\': \\'Heavenly Sentiments Spray\\', \\'author\\': \\'from Carthage - North Carolina\\'}, {\\'author\\': \\'from -\\', \\'description\\': \\'It looked even prettier in person than in the picture.\\', \\'name\\': \\'Heavenly Sentiments Spray\\', \\'datepublished\\': \\'1/25/2019\\'}]']],\n",
       "   [[195, 0], [0, 'NewCondition']],\n",
       "   [[196, 0],\n",
       "    [0,\n",
       "     \"{'sku': 'T247-2A', 'name': 'Heavenly Sentiments Spray (Standard)', 'url': 'https://www.kingmemorialpark.com/store/standing-sprays/heavenly-sentiments-spray', 'image': 'https://res.cloudinary.com/picasso/image/upload/c_lpad,f_jpg,fl_progressive,h_300,q_auto,w_300/tr6abs1s5y3oazvpsmfe.jpg'}\"]],\n",
       "   [[197, 0],\n",
       "    [0,\n",
       "     'https://www.kingmemorialpark.com/store/delivery-location/heavenly-sentiments-spray']]],\n",
       "  [[[198, 0], [0, '0']],\n",
       "   [[199, 0], [0, 'Heavenly Sentiments Spray']],\n",
       "   [[200, 0],\n",
       "    [0,\n",
       "     \"{'pricecurrency': 'USD', 'lowprice': '202.95', 'highprice': '202.95'}\"]],\n",
       "   [[201, 0],\n",
       "    [0,\n",
       "     'https://www.kingmemorialpark.com/store/standing-sprays/heavenly-sentiments-spray']],\n",
       "   [[202, 0],\n",
       "    [0,\n",
       "     'https://res.cloudinary.com/picasso/image/upload/c_lpad,f_jpg,fl_progressive,h_300,q_auto,w_300/tr6abs1s5y3oazvpsmfe.jpg']],\n",
       "   [[203, 0], [0, \"{'reviewcount': '4', 'ratingvalue': '5.00'}\"]],\n",
       "   [[204, 0], [0, '1394']],\n",
       "   [[205, 0],\n",
       "    [0,\n",
       "     '[{\\'author\\': \\'from -\\', \\'description\\': \\'Arrangement was made beautifully... I was completely satisfied...I truly recommend this service and the flowers. Very Nice Job! Thank you!\\', \\'name\\': \\'Heavenly Sentiments Spray\\', \\'datepublished\\': \\'6/19/2019\\'}, {\\'author\\': \\'from -\\', \\'datepublished\\': \\'7/29/2019\\', \\'name\\': \\'Heavenly Sentiments Spray\\', \\'description\\': \"I ordered the Heavenly Sentiments Spray around 1pm for a same-day delivery. However, I received an email shortly after ordering saying the florist couldn\\'t deliver for same-day. I called the customer service team, and together we were able to find a different florist that make a custom spray (they didn\\'t have orchids) that was perfect, looked twice as big, and really made a statement for the family. I really appreciate the service team going out of their way to call and find a different florist that understood our needs and found a creative way to meet them.\"}, {\\'datepublished\\': \\'12/5/2019\\', \\'description\\': \\'I purchased a spary for the anut of my boss after re viewing a photo online. The cusotmer service was excellent. I recieved several notifications of the arrangement and went sent. After the family viewing, my boss contacted me and stated it was the largest most beautiful arrangement there. I live in NC and am very happy that I received such wonderful service and a beautiful arrangement from this far away. I wish you had a store closer to me. Thank you\\', \\'name\\': \\'Heavenly Sentiments Spray\\', \\'author\\': \\'from Carthage - North Carolina\\'}, {\\'author\\': \\'from -\\', \\'description\\': \\'It looked even prettier in person than in the picture.\\', \\'name\\': \\'Heavenly Sentiments Spray\\', \\'datepublished\\': \\'1/25/2019\\'}]']],\n",
       "   [[206, 0], [0, 'NewCondition']],\n",
       "   [[207, 0],\n",
       "    [0,\n",
       "     \"{'sku': 'T247-2A', 'name': 'Heavenly Sentiments Spray (Standard)', 'url': 'https://www.kingmemorialpark.com/store/standing-sprays/heavenly-sentiments-spray', 'image': 'https://res.cloudinary.com/picasso/image/upload/c_lpad,f_jpg,fl_progressive,h_300,q_auto,w_300/tr6abs1s5y3oazvpsmfe.jpg'}\"]],\n",
       "   [[208, 0],\n",
       "    [0,\n",
       "     'https://www.kingmemorialpark.com/store/delivery-location/heavenly-sentiments-spray']]],\n",
       "  [[[209, 0], [0, '0']],\n",
       "   [[210, 0], [0, 'Heavenly Sentiments Spray']],\n",
       "   [[211, 0],\n",
       "    [0,\n",
       "     \"{'pricecurrency': 'USD', 'lowprice': '202.95', 'highprice': '202.95'}\"]],\n",
       "   [[212, 0],\n",
       "    [0,\n",
       "     'https://www.kingmemorialpark.com/store/standing-sprays/heavenly-sentiments-spray']],\n",
       "   [[213, 0],\n",
       "    [0,\n",
       "     'https://res.cloudinary.com/picasso/image/upload/c_lpad,f_jpg,fl_progressive,h_300,q_auto,w_300/tr6abs1s5y3oazvpsmfe.jpg']],\n",
       "   [[214, 0], [0, \"{'reviewcount': '4', 'ratingvalue': '5.00'}\"]],\n",
       "   [[215, 0], [0, '1394']],\n",
       "   [[216, 0],\n",
       "    [0,\n",
       "     '[{\\'author\\': \\'from -\\', \\'description\\': \\'Arrangement was made beautifully... I was completely satisfied...I truly recommend this service and the flowers. Very Nice Job! Thank you!\\', \\'name\\': \\'Heavenly Sentiments Spray\\', \\'datepublished\\': \\'6/19/2019\\'}, {\\'author\\': \\'from -\\', \\'datepublished\\': \\'7/29/2019\\', \\'name\\': \\'Heavenly Sentiments Spray\\', \\'description\\': \"I ordered the Heavenly Sentiments Spray around 1pm for a same-day delivery. However, I received an email shortly after ordering saying the florist couldn\\'t deliver for same-day. I called the customer service team, and together we were able to find a different florist that make a custom spray (they didn\\'t have orchids) that was perfect, looked twice as big, and really made a statement for the family. I really appreciate the service team going out of their way to call and find a different florist that understood our needs and found a creative way to meet them.\"}, {\\'datepublished\\': \\'12/5/2019\\', \\'description\\': \\'I purchased a spary for the anut of my boss after re viewing a photo online. The cusotmer service was excellent. I recieved several notifications of the arrangement and went sent. After the family viewing, my boss contacted me and stated it was the largest most beautiful arrangement there. I live in NC and am very happy that I received such wonderful service and a beautiful arrangement from this far away. I wish you had a store closer to me. Thank you\\', \\'name\\': \\'Heavenly Sentiments Spray\\', \\'author\\': \\'from Carthage - North Carolina\\'}, {\\'author\\': \\'from -\\', \\'description\\': \\'It looked even prettier in person than in the picture.\\', \\'name\\': \\'Heavenly Sentiments Spray\\', \\'datepublished\\': \\'1/25/2019\\'}]']],\n",
       "   [[217, 0], [0, 'NewCondition']],\n",
       "   [[218, 0],\n",
       "    [0,\n",
       "     \"{'sku': 'T247-2A', 'name': 'Heavenly Sentiments Spray (Standard)', 'url': 'https://www.kingmemorialpark.com/store/standing-sprays/heavenly-sentiments-spray', 'image': 'https://res.cloudinary.com/picasso/image/upload/c_lpad,f_jpg,fl_progressive,h_300,q_auto,w_300/tr6abs1s5y3oazvpsmfe.jpg'}\"]],\n",
       "   [[219, 0],\n",
       "    [0,\n",
       "     'https://www.kingmemorialpark.com/store/delivery-location/heavenly-sentiments-spray']]],\n",
       "  [[[220, 0], [0, '0']],\n",
       "   [[221, 0], [0, 'Heavenly Sentiments Spray']],\n",
       "   [[222, 0],\n",
       "    [0,\n",
       "     \"{'pricecurrency': 'USD', 'lowprice': '202.95', 'highprice': '202.95'}\"]],\n",
       "   [[223, 0],\n",
       "    [0,\n",
       "     'https://www.kingmemorialpark.com/store/standing-sprays/heavenly-sentiments-spray']],\n",
       "   [[224, 0],\n",
       "    [0,\n",
       "     'https://res.cloudinary.com/picasso/image/upload/c_lpad,f_jpg,fl_progressive,h_300,q_auto,w_300/tr6abs1s5y3oazvpsmfe.jpg']],\n",
       "   [[225, 0], [0, \"{'reviewcount': '4', 'ratingvalue': '5.00'}\"]],\n",
       "   [[226, 0], [0, '1394']],\n",
       "   [[227, 0],\n",
       "    [0,\n",
       "     '[{\\'author\\': \\'from -\\', \\'description\\': \\'Arrangement was made beautifully... I was completely satisfied...I truly recommend this service and the flowers. Very Nice Job! Thank you!\\', \\'name\\': \\'Heavenly Sentiments Spray\\', \\'datepublished\\': \\'6/19/2019\\'}, {\\'author\\': \\'from -\\', \\'datepublished\\': \\'7/29/2019\\', \\'name\\': \\'Heavenly Sentiments Spray\\', \\'description\\': \"I ordered the Heavenly Sentiments Spray around 1pm for a same-day delivery. However, I received an email shortly after ordering saying the florist couldn\\'t deliver for same-day. I called the customer service team, and together we were able to find a different florist that make a custom spray (they didn\\'t have orchids) that was perfect, looked twice as big, and really made a statement for the family. I really appreciate the service team going out of their way to call and find a different florist that understood our needs and found a creative way to meet them.\"}, {\\'datepublished\\': \\'12/5/2019\\', \\'description\\': \\'I purchased a spary for the anut of my boss after re viewing a photo online. The cusotmer service was excellent. I recieved several notifications of the arrangement and went sent. After the family viewing, my boss contacted me and stated it was the largest most beautiful arrangement there. I live in NC and am very happy that I received such wonderful service and a beautiful arrangement from this far away. I wish you had a store closer to me. Thank you\\', \\'name\\': \\'Heavenly Sentiments Spray\\', \\'author\\': \\'from Carthage - North Carolina\\'}, {\\'author\\': \\'from -\\', \\'description\\': \\'It looked even prettier in person than in the picture.\\', \\'name\\': \\'Heavenly Sentiments Spray\\', \\'datepublished\\': \\'1/25/2019\\'}]']],\n",
       "   [[228, 0], [0, 'NewCondition']],\n",
       "   [[229, 0],\n",
       "    [0,\n",
       "     \"{'sku': 'T247-2A', 'name': 'Heavenly Sentiments Spray (Standard)', 'url': 'https://www.kingmemorialpark.com/store/standing-sprays/heavenly-sentiments-spray', 'image': 'https://res.cloudinary.com/picasso/image/upload/c_lpad,f_jpg,fl_progressive,h_300,q_auto,w_300/tr6abs1s5y3oazvpsmfe.jpg'}\"]],\n",
       "   [[230, 0],\n",
       "    [0,\n",
       "     'https://www.kingmemorialpark.com/store/delivery-location/heavenly-sentiments-spray']]],\n",
       "  [[[231, 0], [0, '0']],\n",
       "   [[232, 0], [0, 'Heavenly Sentiments Spray']],\n",
       "   [[233, 0],\n",
       "    [0,\n",
       "     \"{'pricecurrency': 'USD', 'lowprice': '202.95', 'highprice': '202.95'}\"]],\n",
       "   [[234, 0],\n",
       "    [0,\n",
       "     'https://www.kingmemorialpark.com/store/standing-sprays/heavenly-sentiments-spray']],\n",
       "   [[235, 0],\n",
       "    [0,\n",
       "     'https://res.cloudinary.com/picasso/image/upload/c_lpad,f_jpg,fl_progressive,h_300,q_auto,w_300/tr6abs1s5y3oazvpsmfe.jpg']],\n",
       "   [[236, 0], [0, \"{'reviewcount': '4', 'ratingvalue': '5.00'}\"]],\n",
       "   [[237, 0], [0, '1394']],\n",
       "   [[238, 0],\n",
       "    [0,\n",
       "     '[{\\'author\\': \\'from -\\', \\'description\\': \\'Arrangement was made beautifully... I was completely satisfied...I truly recommend this service and the flowers. Very Nice Job! Thank you!\\', \\'name\\': \\'Heavenly Sentiments Spray\\', \\'datepublished\\': \\'6/19/2019\\'}, {\\'author\\': \\'from -\\', \\'datepublished\\': \\'7/29/2019\\', \\'name\\': \\'Heavenly Sentiments Spray\\', \\'description\\': \"I ordered the Heavenly Sentiments Spray around 1pm for a same-day delivery. However, I received an email shortly after ordering saying the florist couldn\\'t deliver for same-day. I called the customer service team, and together we were able to find a different florist that make a custom spray (they didn\\'t have orchids) that was perfect, looked twice as big, and really made a statement for the family. I really appreciate the service team going out of their way to call and find a different florist that understood our needs and found a creative way to meet them.\"}, {\\'datepublished\\': \\'12/5/2019\\', \\'description\\': \\'I purchased a spary for the anut of my boss after re viewing a photo online. The cusotmer service was excellent. I recieved several notifications of the arrangement and went sent. After the family viewing, my boss contacted me and stated it was the largest most beautiful arrangement there. I live in NC and am very happy that I received such wonderful service and a beautiful arrangement from this far away. I wish you had a store closer to me. Thank you\\', \\'name\\': \\'Heavenly Sentiments Spray\\', \\'author\\': \\'from Carthage - North Carolina\\'}, {\\'author\\': \\'from -\\', \\'description\\': \\'It looked even prettier in person than in the picture.\\', \\'name\\': \\'Heavenly Sentiments Spray\\', \\'datepublished\\': \\'1/25/2019\\'}]']],\n",
       "   [[239, 0], [0, 'NewCondition']],\n",
       "   [[240, 0],\n",
       "    [0,\n",
       "     \"{'sku': 'T247-2A', 'name': 'Heavenly Sentiments Spray (Standard)', 'url': 'https://www.kingmemorialpark.com/store/standing-sprays/heavenly-sentiments-spray', 'image': 'https://res.cloudinary.com/picasso/image/upload/c_lpad,f_jpg,fl_progressive,h_300,q_auto,w_300/tr6abs1s5y3oazvpsmfe.jpg'}\"]],\n",
       "   [[241, 0],\n",
       "    [0,\n",
       "     'https://www.kingmemorialpark.com/store/delivery-location/heavenly-sentiments-spray']]],\n",
       "  [[[242, 0], [0, '0']],\n",
       "   [[243, 0], [0, 'Heavenly Sentiments Spray']],\n",
       "   [[244, 0],\n",
       "    [0,\n",
       "     \"{'pricecurrency': 'USD', 'lowprice': '202.95', 'highprice': '202.95'}\"]],\n",
       "   [[245, 0],\n",
       "    [0,\n",
       "     'https://www.kingmemorialpark.com/store/standing-sprays/heavenly-sentiments-spray']],\n",
       "   [[246, 0],\n",
       "    [0,\n",
       "     'https://res.cloudinary.com/picasso/image/upload/c_lpad,f_jpg,fl_progressive,h_300,q_auto,w_300/tr6abs1s5y3oazvpsmfe.jpg']],\n",
       "   [[247, 0], [0, \"{'reviewcount': '4', 'ratingvalue': '5.00'}\"]],\n",
       "   [[248, 0], [0, '1394']],\n",
       "   [[249, 0],\n",
       "    [0,\n",
       "     '[{\\'author\\': \\'from -\\', \\'description\\': \\'Arrangement was made beautifully... I was completely satisfied...I truly recommend this service and the flowers. Very Nice Job! Thank you!\\', \\'name\\': \\'Heavenly Sentiments Spray\\', \\'datepublished\\': \\'6/19/2019\\'}, {\\'author\\': \\'from -\\', \\'datepublished\\': \\'7/29/2019\\', \\'name\\': \\'Heavenly Sentiments Spray\\', \\'description\\': \"I ordered the Heavenly Sentiments Spray around 1pm for a same-day delivery. However, I received an email shortly after ordering saying the florist couldn\\'t deliver for same-day. I called the customer service team, and together we were able to find a different florist that make a custom spray (they didn\\'t have orchids) that was perfect, looked twice as big, and really made a statement for the family. I really appreciate the service team going out of their way to call and find a different florist that understood our needs and found a creative way to meet them.\"}, {\\'datepublished\\': \\'12/5/2019\\', \\'description\\': \\'I purchased a spary for the anut of my boss after re viewing a photo online. The cusotmer service was excellent. I recieved several notifications of the arrangement and went sent. After the family viewing, my boss contacted me and stated it was the largest most beautiful arrangement there. I live in NC and am very happy that I received such wonderful service and a beautiful arrangement from this far away. I wish you had a store closer to me. Thank you\\', \\'name\\': \\'Heavenly Sentiments Spray\\', \\'author\\': \\'from Carthage - North Carolina\\'}, {\\'author\\': \\'from -\\', \\'description\\': \\'It looked even prettier in person than in the picture.\\', \\'name\\': \\'Heavenly Sentiments Spray\\', \\'datepublished\\': \\'1/25/2019\\'}]']],\n",
       "   [[250, 0], [0, 'NewCondition']],\n",
       "   [[251, 0],\n",
       "    [0,\n",
       "     \"{'sku': 'T247-2A', 'name': 'Heavenly Sentiments Spray (Standard)', 'url': 'https://www.kingmemorialpark.com/store/standing-sprays/heavenly-sentiments-spray', 'image': 'https://res.cloudinary.com/picasso/image/upload/c_lpad,f_jpg,fl_progressive,h_300,q_auto,w_300/tr6abs1s5y3oazvpsmfe.jpg'}\"]],\n",
       "   [[252, 0],\n",
       "    [0,\n",
       "     'https://www.kingmemorialpark.com/store/delivery-location/heavenly-sentiments-spray']]],\n",
       "  [[[253, 0], [0, '0']],\n",
       "   [[254, 0], [0, 'Heavenly Sentiments Spray']],\n",
       "   [[255, 0],\n",
       "    [0,\n",
       "     \"{'pricecurrency': 'USD', 'lowprice': '202.95', 'highprice': '202.95'}\"]],\n",
       "   [[256, 0],\n",
       "    [0,\n",
       "     'https://www.kingmemorialpark.com/store/standing-sprays/heavenly-sentiments-spray']],\n",
       "   [[257, 0],\n",
       "    [0,\n",
       "     'https://res.cloudinary.com/picasso/image/upload/c_lpad,f_jpg,fl_progressive,h_300,q_auto,w_300/tr6abs1s5y3oazvpsmfe.jpg']],\n",
       "   [[258, 0], [0, \"{'reviewcount': '4', 'ratingvalue': '5.00'}\"]],\n",
       "   [[259, 0], [0, '1394']],\n",
       "   [[260, 0],\n",
       "    [0,\n",
       "     '[{\\'author\\': \\'from -\\', \\'description\\': \\'Arrangement was made beautifully... I was completely satisfied...I truly recommend this service and the flowers. Very Nice Job! Thank you!\\', \\'name\\': \\'Heavenly Sentiments Spray\\', \\'datepublished\\': \\'6/19/2019\\'}, {\\'author\\': \\'from -\\', \\'datepublished\\': \\'7/29/2019\\', \\'name\\': \\'Heavenly Sentiments Spray\\', \\'description\\': \"I ordered the Heavenly Sentiments Spray around 1pm for a same-day delivery. However, I received an email shortly after ordering saying the florist couldn\\'t deliver for same-day. I called the customer service team, and together we were able to find a different florist that make a custom spray (they didn\\'t have orchids) that was perfect, looked twice as big, and really made a statement for the family. I really appreciate the service team going out of their way to call and find a different florist that understood our needs and found a creative way to meet them.\"}, {\\'datepublished\\': \\'12/5/2019\\', \\'description\\': \\'I purchased a spary for the anut of my boss after re viewing a photo online. The cusotmer service was excellent. I recieved several notifications of the arrangement and went sent. After the family viewing, my boss contacted me and stated it was the largest most beautiful arrangement there. I live in NC and am very happy that I received such wonderful service and a beautiful arrangement from this far away. I wish you had a store closer to me. Thank you\\', \\'name\\': \\'Heavenly Sentiments Spray\\', \\'author\\': \\'from Carthage - North Carolina\\'}, {\\'author\\': \\'from -\\', \\'description\\': \\'It looked even prettier in person than in the picture.\\', \\'name\\': \\'Heavenly Sentiments Spray\\', \\'datepublished\\': \\'1/25/2019\\'}]']],\n",
       "   [[261, 0], [0, 'NewCondition']],\n",
       "   [[262, 0],\n",
       "    [0,\n",
       "     \"{'sku': 'T247-2A', 'name': 'Heavenly Sentiments Spray (Standard)', 'url': 'https://www.kingmemorialpark.com/store/standing-sprays/heavenly-sentiments-spray', 'image': 'https://res.cloudinary.com/picasso/image/upload/c_lpad,f_jpg,fl_progressive,h_300,q_auto,w_300/tr6abs1s5y3oazvpsmfe.jpg'}\"]],\n",
       "   [[263, 0],\n",
       "    [0,\n",
       "     'https://www.kingmemorialpark.com/store/delivery-location/heavenly-sentiments-spray']]],\n",
       "  [[[264, 0], [0, '0']],\n",
       "   [[265, 0], [0, 'Heavenly Sentiments Spray']],\n",
       "   [[266, 0],\n",
       "    [0,\n",
       "     \"{'pricecurrency': 'USD', 'lowprice': '202.95', 'highprice': '202.95'}\"]],\n",
       "   [[267, 0],\n",
       "    [0,\n",
       "     'https://www.kingmemorialpark.com/store/standing-sprays/heavenly-sentiments-spray']],\n",
       "   [[268, 0],\n",
       "    [0,\n",
       "     'https://res.cloudinary.com/picasso/image/upload/c_lpad,f_jpg,fl_progressive,h_300,q_auto,w_300/tr6abs1s5y3oazvpsmfe.jpg']],\n",
       "   [[269, 0], [0, \"{'reviewcount': '4', 'ratingvalue': '5.00'}\"]],\n",
       "   [[270, 0], [0, '1394']],\n",
       "   [[271, 0],\n",
       "    [0,\n",
       "     '[{\\'author\\': \\'from -\\', \\'description\\': \\'Arrangement was made beautifully... I was completely satisfied...I truly recommend this service and the flowers. Very Nice Job! Thank you!\\', \\'name\\': \\'Heavenly Sentiments Spray\\', \\'datepublished\\': \\'6/19/2019\\'}, {\\'author\\': \\'from -\\', \\'datepublished\\': \\'7/29/2019\\', \\'name\\': \\'Heavenly Sentiments Spray\\', \\'description\\': \"I ordered the Heavenly Sentiments Spray around 1pm for a same-day delivery. However, I received an email shortly after ordering saying the florist couldn\\'t deliver for same-day. I called the customer service team, and together we were able to find a different florist that make a custom spray (they didn\\'t have orchids) that was perfect, looked twice as big, and really made a statement for the family. I really appreciate the service team going out of their way to call and find a different florist that understood our needs and found a creative way to meet them.\"}, {\\'datepublished\\': \\'12/5/2019\\', \\'description\\': \\'I purchased a spary for the anut of my boss after re viewing a photo online. The cusotmer service was excellent. I recieved several notifications of the arrangement and went sent. After the family viewing, my boss contacted me and stated it was the largest most beautiful arrangement there. I live in NC and am very happy that I received such wonderful service and a beautiful arrangement from this far away. I wish you had a store closer to me. Thank you\\', \\'name\\': \\'Heavenly Sentiments Spray\\', \\'author\\': \\'from Carthage - North Carolina\\'}, {\\'author\\': \\'from -\\', \\'description\\': \\'It looked even prettier in person than in the picture.\\', \\'name\\': \\'Heavenly Sentiments Spray\\', \\'datepublished\\': \\'1/25/2019\\'}]']],\n",
       "   [[272, 0], [0, 'NewCondition']],\n",
       "   [[273, 0],\n",
       "    [0,\n",
       "     \"{'sku': 'T247-2A', 'name': 'Heavenly Sentiments Spray (Standard)', 'url': 'https://www.kingmemorialpark.com/store/standing-sprays/heavenly-sentiments-spray', 'image': 'https://res.cloudinary.com/picasso/image/upload/c_lpad,f_jpg,fl_progressive,h_300,q_auto,w_300/tr6abs1s5y3oazvpsmfe.jpg'}\"]],\n",
       "   [[274, 0],\n",
       "    [0,\n",
       "     'https://www.kingmemorialpark.com/store/delivery-location/heavenly-sentiments-spray']]],\n",
       "  [[[275, 0], [0, '0']],\n",
       "   [[276, 0], [0, 'Heavenly Sentiments Spray']],\n",
       "   [[277, 0],\n",
       "    [0,\n",
       "     \"{'pricecurrency': 'USD', 'lowprice': '202.95', 'highprice': '202.95'}\"]],\n",
       "   [[278, 0],\n",
       "    [0,\n",
       "     'https://www.kingmemorialpark.com/store/standing-sprays/heavenly-sentiments-spray']],\n",
       "   [[279, 0],\n",
       "    [0,\n",
       "     'https://res.cloudinary.com/picasso/image/upload/c_lpad,f_jpg,fl_progressive,h_300,q_auto,w_300/tr6abs1s5y3oazvpsmfe.jpg']],\n",
       "   [[280, 0], [0, \"{'reviewcount': '4', 'ratingvalue': '5.00'}\"]],\n",
       "   [[281, 0], [0, '1394']],\n",
       "   [[282, 0],\n",
       "    [0,\n",
       "     '[{\\'author\\': \\'from -\\', \\'description\\': \\'Arrangement was made beautifully... I was completely satisfied...I truly recommend this service and the flowers. Very Nice Job! Thank you!\\', \\'name\\': \\'Heavenly Sentiments Spray\\', \\'datepublished\\': \\'6/19/2019\\'}, {\\'author\\': \\'from -\\', \\'datepublished\\': \\'7/29/2019\\', \\'name\\': \\'Heavenly Sentiments Spray\\', \\'description\\': \"I ordered the Heavenly Sentiments Spray around 1pm for a same-day delivery. However, I received an email shortly after ordering saying the florist couldn\\'t deliver for same-day. I called the customer service team, and together we were able to find a different florist that make a custom spray (they didn\\'t have orchids) that was perfect, looked twice as big, and really made a statement for the family. I really appreciate the service team going out of their way to call and find a different florist that understood our needs and found a creative way to meet them.\"}, {\\'datepublished\\': \\'12/5/2019\\', \\'description\\': \\'I purchased a spary for the anut of my boss after re viewing a photo online. The cusotmer service was excellent. I recieved several notifications of the arrangement and went sent. After the family viewing, my boss contacted me and stated it was the largest most beautiful arrangement there. I live in NC and am very happy that I received such wonderful service and a beautiful arrangement from this far away. I wish you had a store closer to me. Thank you\\', \\'name\\': \\'Heavenly Sentiments Spray\\', \\'author\\': \\'from Carthage - North Carolina\\'}, {\\'author\\': \\'from -\\', \\'description\\': \\'It looked even prettier in person than in the picture.\\', \\'name\\': \\'Heavenly Sentiments Spray\\', \\'datepublished\\': \\'1/25/2019\\'}]']],\n",
       "   [[283, 0], [0, 'NewCondition']],\n",
       "   [[284, 0],\n",
       "    [0,\n",
       "     \"{'sku': 'T247-2A', 'name': 'Heavenly Sentiments Spray (Standard)', 'url': 'https://www.kingmemorialpark.com/store/standing-sprays/heavenly-sentiments-spray', 'image': 'https://res.cloudinary.com/picasso/image/upload/c_lpad,f_jpg,fl_progressive,h_300,q_auto,w_300/tr6abs1s5y3oazvpsmfe.jpg'}\"]],\n",
       "   [[285, 0],\n",
       "    [0,\n",
       "     'https://www.kingmemorialpark.com/store/delivery-location/heavenly-sentiments-spray']]],\n",
       "  [[[286, 0], [0, '0']],\n",
       "   [[287, 0], [0, 'Heavenly Sentiments Spray']],\n",
       "   [[288, 0],\n",
       "    [0,\n",
       "     \"{'pricecurrency': 'USD', 'lowprice': '202.95', 'highprice': '202.95'}\"]],\n",
       "   [[289, 0],\n",
       "    [0,\n",
       "     'https://www.kingmemorialpark.com/store/standing-sprays/heavenly-sentiments-spray']],\n",
       "   [[290, 0],\n",
       "    [0,\n",
       "     'https://res.cloudinary.com/picasso/image/upload/c_lpad,f_jpg,fl_progressive,h_300,q_auto,w_300/tr6abs1s5y3oazvpsmfe.jpg']],\n",
       "   [[291, 0], [0, \"{'reviewcount': '4', 'ratingvalue': '5.00'}\"]],\n",
       "   [[292, 0], [0, '1394']],\n",
       "   [[293, 0],\n",
       "    [0,\n",
       "     '[{\\'author\\': \\'from -\\', \\'description\\': \\'Arrangement was made beautifully... I was completely satisfied...I truly recommend this service and the flowers. Very Nice Job! Thank you!\\', \\'name\\': \\'Heavenly Sentiments Spray\\', \\'datepublished\\': \\'6/19/2019\\'}, {\\'author\\': \\'from -\\', \\'datepublished\\': \\'7/29/2019\\', \\'name\\': \\'Heavenly Sentiments Spray\\', \\'description\\': \"I ordered the Heavenly Sentiments Spray around 1pm for a same-day delivery. However, I received an email shortly after ordering saying the florist couldn\\'t deliver for same-day. I called the customer service team, and together we were able to find a different florist that make a custom spray (they didn\\'t have orchids) that was perfect, looked twice as big, and really made a statement for the family. I really appreciate the service team going out of their way to call and find a different florist that understood our needs and found a creative way to meet them.\"}, {\\'datepublished\\': \\'12/5/2019\\', \\'description\\': \\'I purchased a spary for the anut of my boss after re viewing a photo online. The cusotmer service was excellent. I recieved several notifications of the arrangement and went sent. After the family viewing, my boss contacted me and stated it was the largest most beautiful arrangement there. I live in NC and am very happy that I received such wonderful service and a beautiful arrangement from this far away. I wish you had a store closer to me. Thank you\\', \\'name\\': \\'Heavenly Sentiments Spray\\', \\'author\\': \\'from Carthage - North Carolina\\'}, {\\'author\\': \\'from -\\', \\'description\\': \\'It looked even prettier in person than in the picture.\\', \\'name\\': \\'Heavenly Sentiments Spray\\', \\'datepublished\\': \\'1/25/2019\\'}]']],\n",
       "   [[294, 0], [0, 'NewCondition']],\n",
       "   [[295, 0],\n",
       "    [0,\n",
       "     \"{'sku': 'T247-2A', 'name': 'Heavenly Sentiments Spray (Standard)', 'url': 'https://www.kingmemorialpark.com/store/standing-sprays/heavenly-sentiments-spray', 'image': 'https://res.cloudinary.com/picasso/image/upload/c_lpad,f_jpg,fl_progressive,h_300,q_auto,w_300/tr6abs1s5y3oazvpsmfe.jpg'}\"]],\n",
       "   [[296, 0],\n",
       "    [0,\n",
       "     'https://www.kingmemorialpark.com/store/delivery-location/heavenly-sentiments-spray']]],\n",
       "  [[[297, 0], [0, '0']],\n",
       "   [[298, 0], [0, 'Heavenly Sentiments Spray']],\n",
       "   [[299, 0],\n",
       "    [0,\n",
       "     \"{'pricecurrency': 'USD', 'lowprice': '202.95', 'highprice': '202.95'}\"]],\n",
       "   [[300, 0],\n",
       "    [0,\n",
       "     'https://www.kingmemorialpark.com/store/standing-sprays/heavenly-sentiments-spray']],\n",
       "   [[301, 0],\n",
       "    [0,\n",
       "     'https://res.cloudinary.com/picasso/image/upload/c_lpad,f_jpg,fl_progressive,h_300,q_auto,w_300/tr6abs1s5y3oazvpsmfe.jpg']],\n",
       "   [[302, 0], [0, \"{'reviewcount': '4', 'ratingvalue': '5.00'}\"]],\n",
       "   [[303, 0], [0, '1394']],\n",
       "   [[304, 0],\n",
       "    [0,\n",
       "     '[{\\'author\\': \\'from -\\', \\'description\\': \\'Arrangement was made beautifully... I was completely satisfied...I truly recommend this service and the flowers. Very Nice Job! Thank you!\\', \\'name\\': \\'Heavenly Sentiments Spray\\', \\'datepublished\\': \\'6/19/2019\\'}, {\\'author\\': \\'from -\\', \\'datepublished\\': \\'7/29/2019\\', \\'name\\': \\'Heavenly Sentiments Spray\\', \\'description\\': \"I ordered the Heavenly Sentiments Spray around 1pm for a same-day delivery. However, I received an email shortly after ordering saying the florist couldn\\'t deliver for same-day. I called the customer service team, and together we were able to find a different florist that make a custom spray (they didn\\'t have orchids) that was perfect, looked twice as big, and really made a statement for the family. I really appreciate the service team going out of their way to call and find a different florist that understood our needs and found a creative way to meet them.\"}, {\\'datepublished\\': \\'12/5/2019\\', \\'description\\': \\'I purchased a spary for the anut of my boss after re viewing a photo online. The cusotmer service was excellent. I recieved several notifications of the arrangement and went sent. After the family viewing, my boss contacted me and stated it was the largest most beautiful arrangement there. I live in NC and am very happy that I received such wonderful service and a beautiful arrangement from this far away. I wish you had a store closer to me. Thank you\\', \\'name\\': \\'Heavenly Sentiments Spray\\', \\'author\\': \\'from Carthage - North Carolina\\'}, {\\'author\\': \\'from -\\', \\'description\\': \\'It looked even prettier in person than in the picture.\\', \\'name\\': \\'Heavenly Sentiments Spray\\', \\'datepublished\\': \\'1/25/2019\\'}]']],\n",
       "   [[305, 0], [0, 'NewCondition']],\n",
       "   [[306, 0],\n",
       "    [0,\n",
       "     \"{'sku': 'T247-2A', 'name': 'Heavenly Sentiments Spray (Standard)', 'url': 'https://www.kingmemorialpark.com/store/standing-sprays/heavenly-sentiments-spray', 'image': 'https://res.cloudinary.com/picasso/image/upload/c_lpad,f_jpg,fl_progressive,h_300,q_auto,w_300/tr6abs1s5y3oazvpsmfe.jpg'}\"]],\n",
       "   [[307, 0],\n",
       "    [0,\n",
       "     'https://www.kingmemorialpark.com/store/delivery-location/heavenly-sentiments-spray']]],\n",
       "  [[[308, 0], [0, '0']],\n",
       "   [[309, 0], [0, 'Heavenly Sentiments Spray']],\n",
       "   [[310, 0],\n",
       "    [0,\n",
       "     \"{'pricecurrency': 'USD', 'lowprice': '202.95', 'highprice': '202.95'}\"]],\n",
       "   [[311, 0],\n",
       "    [0,\n",
       "     'https://www.kingmemorialpark.com/store/standing-sprays/heavenly-sentiments-spray']],\n",
       "   [[312, 0],\n",
       "    [0,\n",
       "     'https://res.cloudinary.com/picasso/image/upload/c_lpad,f_jpg,fl_progressive,h_300,q_auto,w_300/tr6abs1s5y3oazvpsmfe.jpg']],\n",
       "   [[313, 0], [0, \"{'reviewcount': '4', 'ratingvalue': '5.00'}\"]],\n",
       "   [[314, 0], [0, '1394']],\n",
       "   [[315, 0],\n",
       "    [0,\n",
       "     '[{\\'author\\': \\'from -\\', \\'description\\': \\'Arrangement was made beautifully... I was completely satisfied...I truly recommend this service and the flowers. Very Nice Job! Thank you!\\', \\'name\\': \\'Heavenly Sentiments Spray\\', \\'datepublished\\': \\'6/19/2019\\'}, {\\'author\\': \\'from -\\', \\'datepublished\\': \\'7/29/2019\\', \\'name\\': \\'Heavenly Sentiments Spray\\', \\'description\\': \"I ordered the Heavenly Sentiments Spray around 1pm for a same-day delivery. However, I received an email shortly after ordering saying the florist couldn\\'t deliver for same-day. I called the customer service team, and together we were able to find a different florist that make a custom spray (they didn\\'t have orchids) that was perfect, looked twice as big, and really made a statement for the family. I really appreciate the service team going out of their way to call and find a different florist that understood our needs and found a creative way to meet them.\"}, {\\'datepublished\\': \\'12/5/2019\\', \\'description\\': \\'I purchased a spary for the anut of my boss after re viewing a photo online. The cusotmer service was excellent. I recieved several notifications of the arrangement and went sent. After the family viewing, my boss contacted me and stated it was the largest most beautiful arrangement there. I live in NC and am very happy that I received such wonderful service and a beautiful arrangement from this far away. I wish you had a store closer to me. Thank you\\', \\'name\\': \\'Heavenly Sentiments Spray\\', \\'author\\': \\'from Carthage - North Carolina\\'}, {\\'author\\': \\'from -\\', \\'description\\': \\'It looked even prettier in person than in the picture.\\', \\'name\\': \\'Heavenly Sentiments Spray\\', \\'datepublished\\': \\'1/25/2019\\'}]']],\n",
       "   [[316, 0], [0, 'NewCondition']],\n",
       "   [[317, 0],\n",
       "    [0,\n",
       "     \"{'sku': 'T247-2A', 'name': 'Heavenly Sentiments Spray (Standard)', 'url': 'https://www.kingmemorialpark.com/store/standing-sprays/heavenly-sentiments-spray', 'image': 'https://res.cloudinary.com/picasso/image/upload/c_lpad,f_jpg,fl_progressive,h_300,q_auto,w_300/tr6abs1s5y3oazvpsmfe.jpg'}\"]],\n",
       "   [[318, 0],\n",
       "    [0,\n",
       "     'https://www.kingmemorialpark.com/store/delivery-location/heavenly-sentiments-spray']]],\n",
       "  [[[319, 0], [0, '0']],\n",
       "   [[320, 0], [0, 'Heavenly Sentiments Spray']],\n",
       "   [[321, 0],\n",
       "    [0,\n",
       "     \"{'pricecurrency': 'USD', 'lowprice': '202.95', 'highprice': '202.95'}\"]],\n",
       "   [[322, 0],\n",
       "    [0,\n",
       "     'https://www.kingmemorialpark.com/store/standing-sprays/heavenly-sentiments-spray']],\n",
       "   [[323, 0],\n",
       "    [0,\n",
       "     'https://res.cloudinary.com/picasso/image/upload/c_lpad,f_jpg,fl_progressive,h_300,q_auto,w_300/tr6abs1s5y3oazvpsmfe.jpg']],\n",
       "   [[324, 0], [0, \"{'reviewcount': '4', 'ratingvalue': '5.00'}\"]],\n",
       "   [[325, 0], [0, '1394']],\n",
       "   [[326, 0],\n",
       "    [0,\n",
       "     '[{\\'author\\': \\'from -\\', \\'description\\': \\'Arrangement was made beautifully... I was completely satisfied...I truly recommend this service and the flowers. Very Nice Job! Thank you!\\', \\'name\\': \\'Heavenly Sentiments Spray\\', \\'datepublished\\': \\'6/19/2019\\'}, {\\'author\\': \\'from -\\', \\'datepublished\\': \\'7/29/2019\\', \\'name\\': \\'Heavenly Sentiments Spray\\', \\'description\\': \"I ordered the Heavenly Sentiments Spray around 1pm for a same-day delivery. However, I received an email shortly after ordering saying the florist couldn\\'t deliver for same-day. I called the customer service team, and together we were able to find a different florist that make a custom spray (they didn\\'t have orchids) that was perfect, looked twice as big, and really made a statement for the family. I really appreciate the service team going out of their way to call and find a different florist that understood our needs and found a creative way to meet them.\"}, {\\'datepublished\\': \\'12/5/2019\\', \\'description\\': \\'I purchased a spary for the anut of my boss after re viewing a photo online. The cusotmer service was excellent. I recieved several notifications of the arrangement and went sent. After the family viewing, my boss contacted me and stated it was the largest most beautiful arrangement there. I live in NC and am very happy that I received such wonderful service and a beautiful arrangement from this far away. I wish you had a store closer to me. Thank you\\', \\'name\\': \\'Heavenly Sentiments Spray\\', \\'author\\': \\'from Carthage - North Carolina\\'}, {\\'author\\': \\'from -\\', \\'description\\': \\'It looked even prettier in person than in the picture.\\', \\'name\\': \\'Heavenly Sentiments Spray\\', \\'datepublished\\': \\'1/25/2019\\'}]']],\n",
       "   [[327, 0], [0, 'NewCondition']],\n",
       "   [[328, 0],\n",
       "    [0,\n",
       "     \"{'sku': 'T247-2A', 'name': 'Heavenly Sentiments Spray (Standard)', 'url': 'https://www.kingmemorialpark.com/store/standing-sprays/heavenly-sentiments-spray', 'image': 'https://res.cloudinary.com/picasso/image/upload/c_lpad,f_jpg,fl_progressive,h_300,q_auto,w_300/tr6abs1s5y3oazvpsmfe.jpg'}\"]],\n",
       "   [[329, 0],\n",
       "    [0,\n",
       "     'https://www.kingmemorialpark.com/store/delivery-location/heavenly-sentiments-spray']]],\n",
       "  [[[330, 0], [0, '0']],\n",
       "   [[331, 0], [0, 'Heavenly Sentiments Spray']],\n",
       "   [[332, 0],\n",
       "    [0,\n",
       "     \"{'pricecurrency': 'USD', 'lowprice': '202.95', 'highprice': '202.95'}\"]],\n",
       "   [[333, 0],\n",
       "    [0,\n",
       "     'https://www.kingmemorialpark.com/store/standing-sprays/heavenly-sentiments-spray']],\n",
       "   [[334, 0],\n",
       "    [0,\n",
       "     'https://res.cloudinary.com/picasso/image/upload/c_lpad,f_jpg,fl_progressive,h_300,q_auto,w_300/tr6abs1s5y3oazvpsmfe.jpg']],\n",
       "   [[335, 0], [0, \"{'reviewcount': '4', 'ratingvalue': '5.00'}\"]],\n",
       "   [[336, 0], [0, '1394']],\n",
       "   [[337, 0],\n",
       "    [0,\n",
       "     '[{\\'author\\': \\'from -\\', \\'description\\': \\'Arrangement was made beautifully... I was completely satisfied...I truly recommend this service and the flowers. Very Nice Job! Thank you!\\', \\'name\\': \\'Heavenly Sentiments Spray\\', \\'datepublished\\': \\'6/19/2019\\'}, {\\'author\\': \\'from -\\', \\'datepublished\\': \\'7/29/2019\\', \\'name\\': \\'Heavenly Sentiments Spray\\', \\'description\\': \"I ordered the Heavenly Sentiments Spray around 1pm for a same-day delivery. However, I received an email shortly after ordering saying the florist couldn\\'t deliver for same-day. I called the customer service team, and together we were able to find a different florist that make a custom spray (they didn\\'t have orchids) that was perfect, looked twice as big, and really made a statement for the family. I really appreciate the service team going out of their way to call and find a different florist that understood our needs and found a creative way to meet them.\"}, {\\'datepublished\\': \\'12/5/2019\\', \\'description\\': \\'I purchased a spary for the anut of my boss after re viewing a photo online. The cusotmer service was excellent. I recieved several notifications of the arrangement and went sent. After the family viewing, my boss contacted me and stated it was the largest most beautiful arrangement there. I live in NC and am very happy that I received such wonderful service and a beautiful arrangement from this far away. I wish you had a store closer to me. Thank you\\', \\'name\\': \\'Heavenly Sentiments Spray\\', \\'author\\': \\'from Carthage - North Carolina\\'}, {\\'author\\': \\'from -\\', \\'description\\': \\'It looked even prettier in person than in the picture.\\', \\'name\\': \\'Heavenly Sentiments Spray\\', \\'datepublished\\': \\'1/25/2019\\'}]']],\n",
       "   [[338, 0], [0, 'NewCondition']],\n",
       "   [[339, 0],\n",
       "    [0,\n",
       "     \"{'sku': 'T247-2A', 'name': 'Heavenly Sentiments Spray (Standard)', 'url': 'https://www.kingmemorialpark.com/store/standing-sprays/heavenly-sentiments-spray', 'image': 'https://res.cloudinary.com/picasso/image/upload/c_lpad,f_jpg,fl_progressive,h_300,q_auto,w_300/tr6abs1s5y3oazvpsmfe.jpg'}\"]],\n",
       "   [[340, 0],\n",
       "    [0,\n",
       "     'https://www.kingmemorialpark.com/store/delivery-location/heavenly-sentiments-spray']]],\n",
       "  [[[341, 0], [0, '0']],\n",
       "   [[342, 0], [0, 'Heavenly Sentiments Spray']],\n",
       "   [[343, 0],\n",
       "    [0,\n",
       "     \"{'pricecurrency': 'USD', 'lowprice': '202.95', 'highprice': '202.95'}\"]],\n",
       "   [[344, 0],\n",
       "    [0,\n",
       "     'https://www.kingmemorialpark.com/store/standing-sprays/heavenly-sentiments-spray']],\n",
       "   [[345, 0],\n",
       "    [0,\n",
       "     'https://res.cloudinary.com/picasso/image/upload/c_lpad,f_jpg,fl_progressive,h_300,q_auto,w_300/tr6abs1s5y3oazvpsmfe.jpg']],\n",
       "   [[346, 0], [0, \"{'reviewcount': '4', 'ratingvalue': '5.00'}\"]],\n",
       "   [[347, 0], [0, '1394']],\n",
       "   [[348, 0],\n",
       "    [0,\n",
       "     '[{\\'author\\': \\'from -\\', \\'description\\': \\'Arrangement was made beautifully... I was completely satisfied...I truly recommend this service and the flowers. Very Nice Job! Thank you!\\', \\'name\\': \\'Heavenly Sentiments Spray\\', \\'datepublished\\': \\'6/19/2019\\'}, {\\'author\\': \\'from -\\', \\'datepublished\\': \\'7/29/2019\\', \\'name\\': \\'Heavenly Sentiments Spray\\', \\'description\\': \"I ordered the Heavenly Sentiments Spray around 1pm for a same-day delivery. However, I received an email shortly after ordering saying the florist couldn\\'t deliver for same-day. I called the customer service team, and together we were able to find a different florist that make a custom spray (they didn\\'t have orchids) that was perfect, looked twice as big, and really made a statement for the family. I really appreciate the service team going out of their way to call and find a different florist that understood our needs and found a creative way to meet them.\"}, {\\'datepublished\\': \\'12/5/2019\\', \\'description\\': \\'I purchased a spary for the anut of my boss after re viewing a photo online. The cusotmer service was excellent. I recieved several notifications of the arrangement and went sent. After the family viewing, my boss contacted me and stated it was the largest most beautiful arrangement there. I live in NC and am very happy that I received such wonderful service and a beautiful arrangement from this far away. I wish you had a store closer to me. Thank you\\', \\'name\\': \\'Heavenly Sentiments Spray\\', \\'author\\': \\'from Carthage - North Carolina\\'}, {\\'author\\': \\'from -\\', \\'description\\': \\'It looked even prettier in person than in the picture.\\', \\'name\\': \\'Heavenly Sentiments Spray\\', \\'datepublished\\': \\'1/25/2019\\'}]']],\n",
       "   [[349, 0], [0, 'NewCondition']],\n",
       "   [[350, 0],\n",
       "    [0,\n",
       "     \"{'sku': 'T247-2A', 'name': 'Heavenly Sentiments Spray (Standard)', 'url': 'https://www.kingmemorialpark.com/store/standing-sprays/heavenly-sentiments-spray', 'image': 'https://res.cloudinary.com/picasso/image/upload/c_lpad,f_jpg,fl_progressive,h_300,q_auto,w_300/tr6abs1s5y3oazvpsmfe.jpg'}\"]],\n",
       "   [[351, 0],\n",
       "    [0,\n",
       "     'https://www.kingmemorialpark.com/store/delivery-location/heavenly-sentiments-spray']]],\n",
       "  [[[352, 0], [0, '0']],\n",
       "   [[353, 0], [0, 'Heavenly Sentiments Spray']],\n",
       "   [[354, 0],\n",
       "    [0,\n",
       "     \"{'pricecurrency': 'USD', 'lowprice': '202.95', 'highprice': '202.95'}\"]],\n",
       "   [[355, 0],\n",
       "    [0,\n",
       "     'https://www.kingmemorialpark.com/store/standing-sprays/heavenly-sentiments-spray']],\n",
       "   [[356, 0],\n",
       "    [0,\n",
       "     'https://res.cloudinary.com/picasso/image/upload/c_lpad,f_jpg,fl_progressive,h_300,q_auto,w_300/tr6abs1s5y3oazvpsmfe.jpg']],\n",
       "   [[357, 0], [0, \"{'reviewcount': '4', 'ratingvalue': '5.00'}\"]],\n",
       "   [[358, 0], [0, '1394']],\n",
       "   [[359, 0],\n",
       "    [0,\n",
       "     '[{\\'author\\': \\'from -\\', \\'description\\': \\'Arrangement was made beautifully... I was completely satisfied...I truly recommend this service and the flowers. Very Nice Job! Thank you!\\', \\'name\\': \\'Heavenly Sentiments Spray\\', \\'datepublished\\': \\'6/19/2019\\'}, {\\'author\\': \\'from -\\', \\'datepublished\\': \\'7/29/2019\\', \\'name\\': \\'Heavenly Sentiments Spray\\', \\'description\\': \"I ordered the Heavenly Sentiments Spray around 1pm for a same-day delivery. However, I received an email shortly after ordering saying the florist couldn\\'t deliver for same-day. I called the customer service team, and together we were able to find a different florist that make a custom spray (they didn\\'t have orchids) that was perfect, looked twice as big, and really made a statement for the family. I really appreciate the service team going out of their way to call and find a different florist that understood our needs and found a creative way to meet them.\"}, {\\'datepublished\\': \\'12/5/2019\\', \\'description\\': \\'I purchased a spary for the anut of my boss after re viewing a photo online. The cusotmer service was excellent. I recieved several notifications of the arrangement and went sent. After the family viewing, my boss contacted me and stated it was the largest most beautiful arrangement there. I live in NC and am very happy that I received such wonderful service and a beautiful arrangement from this far away. I wish you had a store closer to me. Thank you\\', \\'name\\': \\'Heavenly Sentiments Spray\\', \\'author\\': \\'from Carthage - North Carolina\\'}, {\\'author\\': \\'from -\\', \\'description\\': \\'It looked even prettier in person than in the picture.\\', \\'name\\': \\'Heavenly Sentiments Spray\\', \\'datepublished\\': \\'1/25/2019\\'}]']],\n",
       "   [[360, 0], [0, 'NewCondition']],\n",
       "   [[361, 0],\n",
       "    [0,\n",
       "     \"{'sku': 'T247-2A', 'name': 'Heavenly Sentiments Spray (Standard)', 'url': 'https://www.kingmemorialpark.com/store/standing-sprays/heavenly-sentiments-spray', 'image': 'https://res.cloudinary.com/picasso/image/upload/c_lpad,f_jpg,fl_progressive,h_300,q_auto,w_300/tr6abs1s5y3oazvpsmfe.jpg'}\"]],\n",
       "   [[362, 0],\n",
       "    [0,\n",
       "     'https://www.kingmemorialpark.com/store/delivery-location/heavenly-sentiments-spray']]],\n",
       "  [[[363, 0], [0, '0']],\n",
       "   [[364, 0], [0, 'Heavenly Sentiments Spray']],\n",
       "   [[365, 0],\n",
       "    [0,\n",
       "     \"{'pricecurrency': 'USD', 'lowprice': '202.95', 'highprice': '202.95'}\"]],\n",
       "   [[366, 0],\n",
       "    [0,\n",
       "     'https://www.kingmemorialpark.com/store/standing-sprays/heavenly-sentiments-spray']],\n",
       "   [[367, 0],\n",
       "    [0,\n",
       "     'https://res.cloudinary.com/picasso/image/upload/c_lpad,f_jpg,fl_progressive,h_300,q_auto,w_300/tr6abs1s5y3oazvpsmfe.jpg']],\n",
       "   [[368, 0], [0, \"{'reviewcount': '4', 'ratingvalue': '5.00'}\"]],\n",
       "   [[369, 0], [0, '1394']],\n",
       "   [[370, 0],\n",
       "    [0,\n",
       "     '[{\\'author\\': \\'from -\\', \\'description\\': \\'Arrangement was made beautifully... I was completely satisfied...I truly recommend this service and the flowers. Very Nice Job! Thank you!\\', \\'name\\': \\'Heavenly Sentiments Spray\\', \\'datepublished\\': \\'6/19/2019\\'}, {\\'author\\': \\'from -\\', \\'datepublished\\': \\'7/29/2019\\', \\'name\\': \\'Heavenly Sentiments Spray\\', \\'description\\': \"I ordered the Heavenly Sentiments Spray around 1pm for a same-day delivery. However, I received an email shortly after ordering saying the florist couldn\\'t deliver for same-day. I called the customer service team, and together we were able to find a different florist that make a custom spray (they didn\\'t have orchids) that was perfect, looked twice as big, and really made a statement for the family. I really appreciate the service team going out of their way to call and find a different florist that understood our needs and found a creative way to meet them.\"}, {\\'datepublished\\': \\'12/5/2019\\', \\'description\\': \\'I purchased a spary for the anut of my boss after re viewing a photo online. The cusotmer service was excellent. I recieved several notifications of the arrangement and went sent. After the family viewing, my boss contacted me and stated it was the largest most beautiful arrangement there. I live in NC and am very happy that I received such wonderful service and a beautiful arrangement from this far away. I wish you had a store closer to me. Thank you\\', \\'name\\': \\'Heavenly Sentiments Spray\\', \\'author\\': \\'from Carthage - North Carolina\\'}, {\\'author\\': \\'from -\\', \\'description\\': \\'It looked even prettier in person than in the picture.\\', \\'name\\': \\'Heavenly Sentiments Spray\\', \\'datepublished\\': \\'1/25/2019\\'}]']],\n",
       "   [[371, 0], [0, 'NewCondition']],\n",
       "   [[372, 0],\n",
       "    [0,\n",
       "     \"{'sku': 'T247-2A', 'name': 'Heavenly Sentiments Spray (Standard)', 'url': 'https://www.kingmemorialpark.com/store/standing-sprays/heavenly-sentiments-spray', 'image': 'https://res.cloudinary.com/picasso/image/upload/c_lpad,f_jpg,fl_progressive,h_300,q_auto,w_300/tr6abs1s5y3oazvpsmfe.jpg'}\"]],\n",
       "   [[373, 0],\n",
       "    [0,\n",
       "     'https://www.kingmemorialpark.com/store/delivery-location/heavenly-sentiments-spray']]],\n",
       "  [[[374, 0], [0, '0']],\n",
       "   [[375, 0], [0, 'Heavenly Sentiments Spray']],\n",
       "   [[376, 0],\n",
       "    [0,\n",
       "     \"{'pricecurrency': 'USD', 'lowprice': '202.95', 'highprice': '202.95'}\"]],\n",
       "   [[377, 0],\n",
       "    [0,\n",
       "     'https://www.kingmemorialpark.com/store/standing-sprays/heavenly-sentiments-spray']],\n",
       "   [[378, 0],\n",
       "    [0,\n",
       "     'https://res.cloudinary.com/picasso/image/upload/c_lpad,f_jpg,fl_progressive,h_300,q_auto,w_300/tr6abs1s5y3oazvpsmfe.jpg']],\n",
       "   [[379, 0], [0, \"{'reviewcount': '4', 'ratingvalue': '5.00'}\"]],\n",
       "   [[380, 0], [0, '1394']],\n",
       "   [[381, 0],\n",
       "    [0,\n",
       "     '[{\\'author\\': \\'from -\\', \\'description\\': \\'Arrangement was made beautifully... I was completely satisfied...I truly recommend this service and the flowers. Very Nice Job! Thank you!\\', \\'name\\': \\'Heavenly Sentiments Spray\\', \\'datepublished\\': \\'6/19/2019\\'}, {\\'author\\': \\'from -\\', \\'datepublished\\': \\'7/29/2019\\', \\'name\\': \\'Heavenly Sentiments Spray\\', \\'description\\': \"I ordered the Heavenly Sentiments Spray around 1pm for a same-day delivery. However, I received an email shortly after ordering saying the florist couldn\\'t deliver for same-day. I called the customer service team, and together we were able to find a different florist that make a custom spray (they didn\\'t have orchids) that was perfect, looked twice as big, and really made a statement for the family. I really appreciate the service team going out of their way to call and find a different florist that understood our needs and found a creative way to meet them.\"}, {\\'datepublished\\': \\'12/5/2019\\', \\'description\\': \\'I purchased a spary for the anut of my boss after re viewing a photo online. The cusotmer service was excellent. I recieved several notifications of the arrangement and went sent. After the family viewing, my boss contacted me and stated it was the largest most beautiful arrangement there. I live in NC and am very happy that I received such wonderful service and a beautiful arrangement from this far away. I wish you had a store closer to me. Thank you\\', \\'name\\': \\'Heavenly Sentiments Spray\\', \\'author\\': \\'from Carthage - North Carolina\\'}, {\\'author\\': \\'from -\\', \\'description\\': \\'It looked even prettier in person than in the picture.\\', \\'name\\': \\'Heavenly Sentiments Spray\\', \\'datepublished\\': \\'1/25/2019\\'}]']],\n",
       "   [[382, 0], [0, 'NewCondition']],\n",
       "   [[383, 0],\n",
       "    [0,\n",
       "     \"{'sku': 'T247-2A', 'name': 'Heavenly Sentiments Spray (Standard)', 'url': 'https://www.kingmemorialpark.com/store/standing-sprays/heavenly-sentiments-spray', 'image': 'https://res.cloudinary.com/picasso/image/upload/c_lpad,f_jpg,fl_progressive,h_300,q_auto,w_300/tr6abs1s5y3oazvpsmfe.jpg'}\"]],\n",
       "   [[384, 0],\n",
       "    [0,\n",
       "     'https://www.kingmemorialpark.com/store/delivery-location/heavenly-sentiments-spray']]],\n",
       "  [[[385, 0], [0, '0']],\n",
       "   [[386, 0], [0, 'Heavenly Sentiments Spray']],\n",
       "   [[387, 0],\n",
       "    [0,\n",
       "     \"{'pricecurrency': 'USD', 'lowprice': '202.95', 'highprice': '202.95'}\"]],\n",
       "   [[388, 0],\n",
       "    [0,\n",
       "     'https://www.kingmemorialpark.com/store/standing-sprays/heavenly-sentiments-spray']],\n",
       "   [[389, 0],\n",
       "    [0,\n",
       "     'https://res.cloudinary.com/picasso/image/upload/c_lpad,f_jpg,fl_progressive,h_300,q_auto,w_300/tr6abs1s5y3oazvpsmfe.jpg']],\n",
       "   [[390, 0], [0, \"{'reviewcount': '4', 'ratingvalue': '5.00'}\"]],\n",
       "   [[391, 0], [0, '1394']],\n",
       "   [[392, 0],\n",
       "    [0,\n",
       "     '[{\\'author\\': \\'from -\\', \\'description\\': \\'Arrangement was made beautifully... I was completely satisfied...I truly recommend this service and the flowers. Very Nice Job! Thank you!\\', \\'name\\': \\'Heavenly Sentiments Spray\\', \\'datepublished\\': \\'6/19/2019\\'}, {\\'author\\': \\'from -\\', \\'datepublished\\': \\'7/29/2019\\', \\'name\\': \\'Heavenly Sentiments Spray\\', \\'description\\': \"I ordered the Heavenly Sentiments Spray around 1pm for a same-day delivery. However, I received an email shortly after ordering saying the florist couldn\\'t deliver for same-day. I called the customer service team, and together we were able to find a different florist that make a custom spray (they didn\\'t have orchids) that was perfect, looked twice as big, and really made a statement for the family. I really appreciate the service team going out of their way to call and find a different florist that understood our needs and found a creative way to meet them.\"}, {\\'datepublished\\': \\'12/5/2019\\', \\'description\\': \\'I purchased a spary for the anut of my boss after re viewing a photo online. The cusotmer service was excellent. I recieved several notifications of the arrangement and went sent. After the family viewing, my boss contacted me and stated it was the largest most beautiful arrangement there. I live in NC and am very happy that I received such wonderful service and a beautiful arrangement from this far away. I wish you had a store closer to me. Thank you\\', \\'name\\': \\'Heavenly Sentiments Spray\\', \\'author\\': \\'from Carthage - North Carolina\\'}, {\\'author\\': \\'from -\\', \\'description\\': \\'It looked even prettier in person than in the picture.\\', \\'name\\': \\'Heavenly Sentiments Spray\\', \\'datepublished\\': \\'1/25/2019\\'}]']],\n",
       "   [[393, 0], [0, 'NewCondition']],\n",
       "   [[394, 0],\n",
       "    [0,\n",
       "     \"{'sku': 'T247-2A', 'name': 'Heavenly Sentiments Spray (Standard)', 'url': 'https://www.kingmemorialpark.com/store/standing-sprays/heavenly-sentiments-spray', 'image': 'https://res.cloudinary.com/picasso/image/upload/c_lpad,f_jpg,fl_progressive,h_300,q_auto,w_300/tr6abs1s5y3oazvpsmfe.jpg'}\"]],\n",
       "   [[395, 0],\n",
       "    [0,\n",
       "     'https://www.kingmemorialpark.com/store/delivery-location/heavenly-sentiments-spray']]],\n",
       "  [[[396, 0], [0, '0']],\n",
       "   [[397, 0], [0, 'Heavenly Sentiments Spray']],\n",
       "   [[398, 0],\n",
       "    [0,\n",
       "     \"{'pricecurrency': 'USD', 'lowprice': '202.95', 'highprice': '202.95'}\"]],\n",
       "   [[399, 0],\n",
       "    [0,\n",
       "     'https://www.kingmemorialpark.com/store/standing-sprays/heavenly-sentiments-spray']],\n",
       "   [[400, 0],\n",
       "    [0,\n",
       "     'https://res.cloudinary.com/picasso/image/upload/c_lpad,f_jpg,fl_progressive,h_300,q_auto,w_300/tr6abs1s5y3oazvpsmfe.jpg']],\n",
       "   [[401, 0], [0, \"{'reviewcount': '4', 'ratingvalue': '5.00'}\"]],\n",
       "   [[402, 0], [0, '1394']],\n",
       "   [[403, 0],\n",
       "    [0,\n",
       "     '[{\\'author\\': \\'from -\\', \\'description\\': \\'Arrangement was made beautifully... I was completely satisfied...I truly recommend this service and the flowers. Very Nice Job! Thank you!\\', \\'name\\': \\'Heavenly Sentiments Spray\\', \\'datepublished\\': \\'6/19/2019\\'}, {\\'author\\': \\'from -\\', \\'datepublished\\': \\'7/29/2019\\', \\'name\\': \\'Heavenly Sentiments Spray\\', \\'description\\': \"I ordered the Heavenly Sentiments Spray around 1pm for a same-day delivery. However, I received an email shortly after ordering saying the florist couldn\\'t deliver for same-day. I called the customer service team, and together we were able to find a different florist that make a custom spray (they didn\\'t have orchids) that was perfect, looked twice as big, and really made a statement for the family. I really appreciate the service team going out of their way to call and find a different florist that understood our needs and found a creative way to meet them.\"}, {\\'datepublished\\': \\'12/5/2019\\', \\'description\\': \\'I purchased a spary for the anut of my boss after re viewing a photo online. The cusotmer service was excellent. I recieved several notifications of the arrangement and went sent. After the family viewing, my boss contacted me and stated it was the largest most beautiful arrangement there. I live in NC and am very happy that I received such wonderful service and a beautiful arrangement from this far away. I wish you had a store closer to me. Thank you\\', \\'name\\': \\'Heavenly Sentiments Spray\\', \\'author\\': \\'from Carthage - North Carolina\\'}, {\\'author\\': \\'from -\\', \\'description\\': \\'It looked even prettier in person than in the picture.\\', \\'name\\': \\'Heavenly Sentiments Spray\\', \\'datepublished\\': \\'1/25/2019\\'}]']],\n",
       "   [[404, 0], [0, 'NewCondition']],\n",
       "   [[405, 0],\n",
       "    [0,\n",
       "     \"{'sku': 'T247-2A', 'name': 'Heavenly Sentiments Spray (Standard)', 'url': 'https://www.kingmemorialpark.com/store/standing-sprays/heavenly-sentiments-spray', 'image': 'https://res.cloudinary.com/picasso/image/upload/c_lpad,f_jpg,fl_progressive,h_300,q_auto,w_300/tr6abs1s5y3oazvpsmfe.jpg'}\"]],\n",
       "   [[406, 0],\n",
       "    [0,\n",
       "     'https://www.kingmemorialpark.com/store/delivery-location/heavenly-sentiments-spray']]],\n",
       "  [[[407, 0], [0, '0']],\n",
       "   [[408, 0], [0, 'Heavenly Sentiments Spray']],\n",
       "   [[409, 0],\n",
       "    [0,\n",
       "     \"{'pricecurrency': 'USD', 'lowprice': '202.95', 'highprice': '202.95'}\"]],\n",
       "   [[410, 0],\n",
       "    [0,\n",
       "     'https://www.kingmemorialpark.com/store/standing-sprays/heavenly-sentiments-spray']],\n",
       "   [[411, 0],\n",
       "    [0,\n",
       "     'https://res.cloudinary.com/picasso/image/upload/c_lpad,f_jpg,fl_progressive,h_300,q_auto,w_300/tr6abs1s5y3oazvpsmfe.jpg']],\n",
       "   [[412, 0], [0, \"{'reviewcount': '4', 'ratingvalue': '5.00'}\"]],\n",
       "   [[413, 0], [0, '1394']],\n",
       "   [[414, 0],\n",
       "    [0,\n",
       "     '[{\\'author\\': \\'from -\\', \\'description\\': \\'Arrangement was made beautifully... I was completely satisfied...I truly recommend this service and the flowers. Very Nice Job! Thank you!\\', \\'name\\': \\'Heavenly Sentiments Spray\\', \\'datepublished\\': \\'6/19/2019\\'}, {\\'author\\': \\'from -\\', \\'datepublished\\': \\'7/29/2019\\', \\'name\\': \\'Heavenly Sentiments Spray\\', \\'description\\': \"I ordered the Heavenly Sentiments Spray around 1pm for a same-day delivery. However, I received an email shortly after ordering saying the florist couldn\\'t deliver for same-day. I called the customer service team, and together we were able to find a different florist that make a custom spray (they didn\\'t have orchids) that was perfect, looked twice as big, and really made a statement for the family. I really appreciate the service team going out of their way to call and find a different florist that understood our needs and found a creative way to meet them.\"}, {\\'datepublished\\': \\'12/5/2019\\', \\'description\\': \\'I purchased a spary for the anut of my boss after re viewing a photo online. The cusotmer service was excellent. I recieved several notifications of the arrangement and went sent. After the family viewing, my boss contacted me and stated it was the largest most beautiful arrangement there. I live in NC and am very happy that I received such wonderful service and a beautiful arrangement from this far away. I wish you had a store closer to me. Thank you\\', \\'name\\': \\'Heavenly Sentiments Spray\\', \\'author\\': \\'from Carthage - North Carolina\\'}, {\\'author\\': \\'from -\\', \\'description\\': \\'It looked even prettier in person than in the picture.\\', \\'name\\': \\'Heavenly Sentiments Spray\\', \\'datepublished\\': \\'1/25/2019\\'}]']],\n",
       "   [[415, 0], [0, 'NewCondition']],\n",
       "   [[416, 0],\n",
       "    [0,\n",
       "     \"{'sku': 'T247-2A', 'name': 'Heavenly Sentiments Spray (Standard)', 'url': 'https://www.kingmemorialpark.com/store/standing-sprays/heavenly-sentiments-spray', 'image': 'https://res.cloudinary.com/picasso/image/upload/c_lpad,f_jpg,fl_progressive,h_300,q_auto,w_300/tr6abs1s5y3oazvpsmfe.jpg'}\"]],\n",
       "   [[417, 0],\n",
       "    [0,\n",
       "     'https://www.kingmemorialpark.com/store/delivery-location/heavenly-sentiments-spray']]],\n",
       "  [[[418, 0], [0, '0']],\n",
       "   [[419, 0], [0, 'Heavenly Sentiments Spray']],\n",
       "   [[420, 0],\n",
       "    [0,\n",
       "     \"{'pricecurrency': 'USD', 'lowprice': '202.95', 'highprice': '202.95'}\"]],\n",
       "   [[421, 0],\n",
       "    [0,\n",
       "     'https://www.kingmemorialpark.com/store/standing-sprays/heavenly-sentiments-spray']],\n",
       "   [[422, 0],\n",
       "    [0,\n",
       "     'https://res.cloudinary.com/picasso/image/upload/c_lpad,f_jpg,fl_progressive,h_300,q_auto,w_300/tr6abs1s5y3oazvpsmfe.jpg']],\n",
       "   [[423, 0], [0, \"{'reviewcount': '4', 'ratingvalue': '5.00'}\"]],\n",
       "   [[424, 0], [0, '1394']],\n",
       "   [[425, 0],\n",
       "    [0,\n",
       "     '[{\\'author\\': \\'from -\\', \\'description\\': \\'Arrangement was made beautifully... I was completely satisfied...I truly recommend this service and the flowers. Very Nice Job! Thank you!\\', \\'name\\': \\'Heavenly Sentiments Spray\\', \\'datepublished\\': \\'6/19/2019\\'}, {\\'author\\': \\'from -\\', \\'datepublished\\': \\'7/29/2019\\', \\'name\\': \\'Heavenly Sentiments Spray\\', \\'description\\': \"I ordered the Heavenly Sentiments Spray around 1pm for a same-day delivery. However, I received an email shortly after ordering saying the florist couldn\\'t deliver for same-day. I called the customer service team, and together we were able to find a different florist that make a custom spray (they didn\\'t have orchids) that was perfect, looked twice as big, and really made a statement for the family. I really appreciate the service team going out of their way to call and find a different florist that understood our needs and found a creative way to meet them.\"}, {\\'datepublished\\': \\'12/5/2019\\', \\'description\\': \\'I purchased a spary for the anut of my boss after re viewing a photo online. The cusotmer service was excellent. I recieved several notifications of the arrangement and went sent. After the family viewing, my boss contacted me and stated it was the largest most beautiful arrangement there. I live in NC and am very happy that I received such wonderful service and a beautiful arrangement from this far away. I wish you had a store closer to me. Thank you\\', \\'name\\': \\'Heavenly Sentiments Spray\\', \\'author\\': \\'from Carthage - North Carolina\\'}, {\\'author\\': \\'from -\\', \\'description\\': \\'It looked even prettier in person than in the picture.\\', \\'name\\': \\'Heavenly Sentiments Spray\\', \\'datepublished\\': \\'1/25/2019\\'}]']],\n",
       "   [[426, 0], [0, 'NewCondition']],\n",
       "   [[427, 0],\n",
       "    [0,\n",
       "     \"{'sku': 'T247-2A', 'name': 'Heavenly Sentiments Spray (Standard)', 'url': 'https://www.kingmemorialpark.com/store/standing-sprays/heavenly-sentiments-spray', 'image': 'https://res.cloudinary.com/picasso/image/upload/c_lpad,f_jpg,fl_progressive,h_300,q_auto,w_300/tr6abs1s5y3oazvpsmfe.jpg'}\"]],\n",
       "   [[428, 0],\n",
       "    [0,\n",
       "     'https://www.kingmemorialpark.com/store/delivery-location/heavenly-sentiments-spray']]],\n",
       "  [[[429, 0], [0, '0']],\n",
       "   [[430, 0], [0, 'Heavenly Sentiments Spray']],\n",
       "   [[431, 0],\n",
       "    [0,\n",
       "     \"{'pricecurrency': 'USD', 'lowprice': '202.95', 'highprice': '202.95'}\"]],\n",
       "   [[432, 0],\n",
       "    [0,\n",
       "     'https://www.kingmemorialpark.com/store/standing-sprays/heavenly-sentiments-spray']],\n",
       "   [[433, 0],\n",
       "    [0,\n",
       "     'https://res.cloudinary.com/picasso/image/upload/c_lpad,f_jpg,fl_progressive,h_300,q_auto,w_300/tr6abs1s5y3oazvpsmfe.jpg']],\n",
       "   [[434, 0], [0, \"{'reviewcount': '4', 'ratingvalue': '5.00'}\"]],\n",
       "   [[435, 0], [0, '1394']],\n",
       "   [[436, 0],\n",
       "    [0,\n",
       "     '[{\\'author\\': \\'from -\\', \\'description\\': \\'Arrangement was made beautifully... I was completely satisfied...I truly recommend this service and the flowers. Very Nice Job! Thank you!\\', \\'name\\': \\'Heavenly Sentiments Spray\\', \\'datepublished\\': \\'6/19/2019\\'}, {\\'author\\': \\'from -\\', \\'datepublished\\': \\'7/29/2019\\', \\'name\\': \\'Heavenly Sentiments Spray\\', \\'description\\': \"I ordered the Heavenly Sentiments Spray around 1pm for a same-day delivery. However, I received an email shortly after ordering saying the florist couldn\\'t deliver for same-day. I called the customer service team, and together we were able to find a different florist that make a custom spray (they didn\\'t have orchids) that was perfect, looked twice as big, and really made a statement for the family. I really appreciate the service team going out of their way to call and find a different florist that understood our needs and found a creative way to meet them.\"}, {\\'datepublished\\': \\'12/5/2019\\', \\'description\\': \\'I purchased a spary for the anut of my boss after re viewing a photo online. The cusotmer service was excellent. I recieved several notifications of the arrangement and went sent. After the family viewing, my boss contacted me and stated it was the largest most beautiful arrangement there. I live in NC and am very happy that I received such wonderful service and a beautiful arrangement from this far away. I wish you had a store closer to me. Thank you\\', \\'name\\': \\'Heavenly Sentiments Spray\\', \\'author\\': \\'from Carthage - North Carolina\\'}, {\\'author\\': \\'from -\\', \\'description\\': \\'It looked even prettier in person than in the picture.\\', \\'name\\': \\'Heavenly Sentiments Spray\\', \\'datepublished\\': \\'1/25/2019\\'}]']],\n",
       "   [[437, 0], [0, 'NewCondition']],\n",
       "   [[438, 0],\n",
       "    [0,\n",
       "     \"{'sku': 'T247-2A', 'name': 'Heavenly Sentiments Spray (Standard)', 'url': 'https://www.kingmemorialpark.com/store/standing-sprays/heavenly-sentiments-spray', 'image': 'https://res.cloudinary.com/picasso/image/upload/c_lpad,f_jpg,fl_progressive,h_300,q_auto,w_300/tr6abs1s5y3oazvpsmfe.jpg'}\"]],\n",
       "   [[439, 0],\n",
       "    [0,\n",
       "     'https://www.kingmemorialpark.com/store/delivery-location/heavenly-sentiments-spray']]],\n",
       "  [[[440, 0], [0, '0']],\n",
       "   [[441, 0], [0, 'Heavenly Sentiments Spray']],\n",
       "   [[442, 0],\n",
       "    [0,\n",
       "     \"{'pricecurrency': 'USD', 'lowprice': '202.95', 'highprice': '202.95'}\"]],\n",
       "   [[443, 0],\n",
       "    [0,\n",
       "     'https://www.kingmemorialpark.com/store/standing-sprays/heavenly-sentiments-spray']],\n",
       "   [[444, 0],\n",
       "    [0,\n",
       "     'https://res.cloudinary.com/picasso/image/upload/c_lpad,f_jpg,fl_progressive,h_300,q_auto,w_300/tr6abs1s5y3oazvpsmfe.jpg']],\n",
       "   [[445, 0], [0, \"{'reviewcount': '4', 'ratingvalue': '5.00'}\"]],\n",
       "   [[446, 0], [0, '1394']],\n",
       "   [[447, 0],\n",
       "    [0,\n",
       "     '[{\\'author\\': \\'from -\\', \\'description\\': \\'Arrangement was made beautifully... I was completely satisfied...I truly recommend this service and the flowers. Very Nice Job! Thank you!\\', \\'name\\': \\'Heavenly Sentiments Spray\\', \\'datepublished\\': \\'6/19/2019\\'}, {\\'author\\': \\'from -\\', \\'datepublished\\': \\'7/29/2019\\', \\'name\\': \\'Heavenly Sentiments Spray\\', \\'description\\': \"I ordered the Heavenly Sentiments Spray around 1pm for a same-day delivery. However, I received an email shortly after ordering saying the florist couldn\\'t deliver for same-day. I called the customer service team, and together we were able to find a different florist that make a custom spray (they didn\\'t have orchids) that was perfect, looked twice as big, and really made a statement for the family. I really appreciate the service team going out of their way to call and find a different florist that understood our needs and found a creative way to meet them.\"}, {\\'datepublished\\': \\'12/5/2019\\', \\'description\\': \\'I purchased a spary for the anut of my boss after re viewing a photo online. The cusotmer service was excellent. I recieved several notifications of the arrangement and went sent. After the family viewing, my boss contacted me and stated it was the largest most beautiful arrangement there. I live in NC and am very happy that I received such wonderful service and a beautiful arrangement from this far away. I wish you had a store closer to me. Thank you\\', \\'name\\': \\'Heavenly Sentiments Spray\\', \\'author\\': \\'from Carthage - North Carolina\\'}, {\\'author\\': \\'from -\\', \\'description\\': \\'It looked even prettier in person than in the picture.\\', \\'name\\': \\'Heavenly Sentiments Spray\\', \\'datepublished\\': \\'1/25/2019\\'}]']],\n",
       "   [[448, 0], [0, 'NewCondition']],\n",
       "   [[449, 0],\n",
       "    [0,\n",
       "     \"{'sku': 'T247-2A', 'name': 'Heavenly Sentiments Spray (Standard)', 'url': 'https://www.kingmemorialpark.com/store/standing-sprays/heavenly-sentiments-spray', 'image': 'https://res.cloudinary.com/picasso/image/upload/c_lpad,f_jpg,fl_progressive,h_300,q_auto,w_300/tr6abs1s5y3oazvpsmfe.jpg'}\"]],\n",
       "   [[450, 0],\n",
       "    [0,\n",
       "     'https://www.kingmemorialpark.com/store/delivery-location/heavenly-sentiments-spray']]],\n",
       "  [[[451, 0], [0, '0']],\n",
       "   [[452, 0], [0, 'Heavenly Sentiments Spray']],\n",
       "   [[453, 0],\n",
       "    [0,\n",
       "     \"{'pricecurrency': 'USD', 'lowprice': '202.95', 'highprice': '202.95'}\"]],\n",
       "   [[454, 0],\n",
       "    [0,\n",
       "     'https://www.kingmemorialpark.com/store/standing-sprays/heavenly-sentiments-spray']],\n",
       "   [[455, 0],\n",
       "    [0,\n",
       "     'https://res.cloudinary.com/picasso/image/upload/c_lpad,f_jpg,fl_progressive,h_300,q_auto,w_300/tr6abs1s5y3oazvpsmfe.jpg']],\n",
       "   [[456, 0], [0, \"{'reviewcount': '4', 'ratingvalue': '5.00'}\"]],\n",
       "   [[457, 0], [0, '1394']],\n",
       "   [[458, 0],\n",
       "    [0,\n",
       "     '[{\\'author\\': \\'from -\\', \\'description\\': \\'Arrangement was made beautifully... I was completely satisfied...I truly recommend this service and the flowers. Very Nice Job! Thank you!\\', \\'name\\': \\'Heavenly Sentiments Spray\\', \\'datepublished\\': \\'6/19/2019\\'}, {\\'author\\': \\'from -\\', \\'datepublished\\': \\'7/29/2019\\', \\'name\\': \\'Heavenly Sentiments Spray\\', \\'description\\': \"I ordered the Heavenly Sentiments Spray around 1pm for a same-day delivery. However, I received an email shortly after ordering saying the florist couldn\\'t deliver for same-day. I called the customer service team, and together we were able to find a different florist that make a custom spray (they didn\\'t have orchids) that was perfect, looked twice as big, and really made a statement for the family. I really appreciate the service team going out of their way to call and find a different florist that understood our needs and found a creative way to meet them.\"}, {\\'datepublished\\': \\'12/5/2019\\', \\'description\\': \\'I purchased a spary for the anut of my boss after re viewing a photo online. The cusotmer service was excellent. I recieved several notifications of the arrangement and went sent. After the family viewing, my boss contacted me and stated it was the largest most beautiful arrangement there. I live in NC and am very happy that I received such wonderful service and a beautiful arrangement from this far away. I wish you had a store closer to me. Thank you\\', \\'name\\': \\'Heavenly Sentiments Spray\\', \\'author\\': \\'from Carthage - North Carolina\\'}, {\\'author\\': \\'from -\\', \\'description\\': \\'It looked even prettier in person than in the picture.\\', \\'name\\': \\'Heavenly Sentiments Spray\\', \\'datepublished\\': \\'1/25/2019\\'}]']],\n",
       "   [[459, 0], [0, 'NewCondition']],\n",
       "   [[460, 0],\n",
       "    [0,\n",
       "     \"{'sku': 'T247-2A', 'name': 'Heavenly Sentiments Spray (Standard)', 'url': 'https://www.kingmemorialpark.com/store/standing-sprays/heavenly-sentiments-spray', 'image': 'https://res.cloudinary.com/picasso/image/upload/c_lpad,f_jpg,fl_progressive,h_300,q_auto,w_300/tr6abs1s5y3oazvpsmfe.jpg'}\"]],\n",
       "   [[461, 0],\n",
       "    [0,\n",
       "     'https://www.kingmemorialpark.com/store/delivery-location/heavenly-sentiments-spray']]],\n",
       "  [[[462, 0], [0, '0']],\n",
       "   [[463, 0], [0, 'Heavenly Sentiments Spray']],\n",
       "   [[464, 0],\n",
       "    [0,\n",
       "     \"{'pricecurrency': 'USD', 'lowprice': '202.95', 'highprice': '202.95'}\"]],\n",
       "   [[465, 0],\n",
       "    [0,\n",
       "     'https://www.kingmemorialpark.com/store/standing-sprays/heavenly-sentiments-spray']],\n",
       "   [[466, 0],\n",
       "    [0,\n",
       "     'https://res.cloudinary.com/picasso/image/upload/c_lpad,f_jpg,fl_progressive,h_300,q_auto,w_300/tr6abs1s5y3oazvpsmfe.jpg']],\n",
       "   [[467, 0], [0, \"{'reviewcount': '4', 'ratingvalue': '5.00'}\"]],\n",
       "   [[468, 0], [0, '1394']],\n",
       "   [[469, 0],\n",
       "    [0,\n",
       "     '[{\\'author\\': \\'from -\\', \\'description\\': \\'Arrangement was made beautifully... I was completely satisfied...I truly recommend this service and the flowers. Very Nice Job! Thank you!\\', \\'name\\': \\'Heavenly Sentiments Spray\\', \\'datepublished\\': \\'6/19/2019\\'}, {\\'author\\': \\'from -\\', \\'datepublished\\': \\'7/29/2019\\', \\'name\\': \\'Heavenly Sentiments Spray\\', \\'description\\': \"I ordered the Heavenly Sentiments Spray around 1pm for a same-day delivery. However, I received an email shortly after ordering saying the florist couldn\\'t deliver for same-day. I called the customer service team, and together we were able to find a different florist that make a custom spray (they didn\\'t have orchids) that was perfect, looked twice as big, and really made a statement for the family. I really appreciate the service team going out of their way to call and find a different florist that understood our needs and found a creative way to meet them.\"}, {\\'datepublished\\': \\'12/5/2019\\', \\'description\\': \\'I purchased a spary for the anut of my boss after re viewing a photo online. The cusotmer service was excellent. I recieved several notifications of the arrangement and went sent. After the family viewing, my boss contacted me and stated it was the largest most beautiful arrangement there. I live in NC and am very happy that I received such wonderful service and a beautiful arrangement from this far away. I wish you had a store closer to me. Thank you\\', \\'name\\': \\'Heavenly Sentiments Spray\\', \\'author\\': \\'from Carthage - North Carolina\\'}, {\\'author\\': \\'from -\\', \\'description\\': \\'It looked even prettier in person than in the picture.\\', \\'name\\': \\'Heavenly Sentiments Spray\\', \\'datepublished\\': \\'1/25/2019\\'}]']],\n",
       "   [[470, 0], [0, 'NewCondition']],\n",
       "   [[471, 0],\n",
       "    [0,\n",
       "     \"{'sku': 'T247-2A', 'name': 'Heavenly Sentiments Spray (Standard)', 'url': 'https://www.kingmemorialpark.com/store/standing-sprays/heavenly-sentiments-spray', 'image': 'https://res.cloudinary.com/picasso/image/upload/c_lpad,f_jpg,fl_progressive,h_300,q_auto,w_300/tr6abs1s5y3oazvpsmfe.jpg'}\"]],\n",
       "   [[472, 0],\n",
       "    [0,\n",
       "     'https://www.kingmemorialpark.com/store/delivery-location/heavenly-sentiments-spray']]],\n",
       "  [[[473, 0], [0, '0']],\n",
       "   [[474, 0], [0, 'Heavenly Sentiments Spray']],\n",
       "   [[475, 0],\n",
       "    [0,\n",
       "     \"{'pricecurrency': 'USD', 'lowprice': '202.95', 'highprice': '202.95'}\"]],\n",
       "   [[476, 0],\n",
       "    [0,\n",
       "     'https://www.kingmemorialpark.com/store/standing-sprays/heavenly-sentiments-spray']],\n",
       "   [[477, 0],\n",
       "    [0,\n",
       "     'https://res.cloudinary.com/picasso/image/upload/c_lpad,f_jpg,fl_progressive,h_300,q_auto,w_300/tr6abs1s5y3oazvpsmfe.jpg']],\n",
       "   [[478, 0], [0, \"{'reviewcount': '4', 'ratingvalue': '5.00'}\"]],\n",
       "   [[479, 0], [0, '1394']],\n",
       "   [[480, 0],\n",
       "    [0,\n",
       "     '[{\\'author\\': \\'from -\\', \\'description\\': \\'Arrangement was made beautifully... I was completely satisfied...I truly recommend this service and the flowers. Very Nice Job! Thank you!\\', \\'name\\': \\'Heavenly Sentiments Spray\\', \\'datepublished\\': \\'6/19/2019\\'}, {\\'author\\': \\'from -\\', \\'datepublished\\': \\'7/29/2019\\', \\'name\\': \\'Heavenly Sentiments Spray\\', \\'description\\': \"I ordered the Heavenly Sentiments Spray around 1pm for a same-day delivery. However, I received an email shortly after ordering saying the florist couldn\\'t deliver for same-day. I called the customer service team, and together we were able to find a different florist that make a custom spray (they didn\\'t have orchids) that was perfect, looked twice as big, and really made a statement for the family. I really appreciate the service team going out of their way to call and find a different florist that understood our needs and found a creative way to meet them.\"}, {\\'datepublished\\': \\'12/5/2019\\', \\'description\\': \\'I purchased a spary for the anut of my boss after re viewing a photo online. The cusotmer service was excellent. I recieved several notifications of the arrangement and went sent. After the family viewing, my boss contacted me and stated it was the largest most beautiful arrangement there. I live in NC and am very happy that I received such wonderful service and a beautiful arrangement from this far away. I wish you had a store closer to me. Thank you\\', \\'name\\': \\'Heavenly Sentiments Spray\\', \\'author\\': \\'from Carthage - North Carolina\\'}, {\\'author\\': \\'from -\\', \\'description\\': \\'It looked even prettier in person than in the picture.\\', \\'name\\': \\'Heavenly Sentiments Spray\\', \\'datepublished\\': \\'1/25/2019\\'}]']],\n",
       "   [[481, 0], [0, 'NewCondition']],\n",
       "   [[482, 0],\n",
       "    [0,\n",
       "     \"{'sku': 'T247-2A', 'name': 'Heavenly Sentiments Spray (Standard)', 'url': 'https://www.kingmemorialpark.com/store/standing-sprays/heavenly-sentiments-spray', 'image': 'https://res.cloudinary.com/picasso/image/upload/c_lpad,f_jpg,fl_progressive,h_300,q_auto,w_300/tr6abs1s5y3oazvpsmfe.jpg'}\"]],\n",
       "   [[483, 0],\n",
       "    [0,\n",
       "     'https://www.kingmemorialpark.com/store/delivery-location/heavenly-sentiments-spray']]],\n",
       "  [[[484, 0], [0, '0']],\n",
       "   [[485, 0], [0, 'Heavenly Sentiments Spray']],\n",
       "   [[486, 0],\n",
       "    [0,\n",
       "     \"{'pricecurrency': 'USD', 'lowprice': '202.95', 'highprice': '202.95'}\"]],\n",
       "   [[487, 0],\n",
       "    [0,\n",
       "     'https://www.kingmemorialpark.com/store/standing-sprays/heavenly-sentiments-spray']],\n",
       "   [[488, 0],\n",
       "    [0,\n",
       "     'https://res.cloudinary.com/picasso/image/upload/c_lpad,f_jpg,fl_progressive,h_300,q_auto,w_300/tr6abs1s5y3oazvpsmfe.jpg']],\n",
       "   [[489, 0], [0, \"{'reviewcount': '4', 'ratingvalue': '5.00'}\"]],\n",
       "   [[490, 0], [0, '1394']],\n",
       "   [[491, 0],\n",
       "    [0,\n",
       "     '[{\\'author\\': \\'from -\\', \\'description\\': \\'Arrangement was made beautifully... I was completely satisfied...I truly recommend this service and the flowers. Very Nice Job! Thank you!\\', \\'name\\': \\'Heavenly Sentiments Spray\\', \\'datepublished\\': \\'6/19/2019\\'}, {\\'author\\': \\'from -\\', \\'datepublished\\': \\'7/29/2019\\', \\'name\\': \\'Heavenly Sentiments Spray\\', \\'description\\': \"I ordered the Heavenly Sentiments Spray around 1pm for a same-day delivery. However, I received an email shortly after ordering saying the florist couldn\\'t deliver for same-day. I called the customer service team, and together we were able to find a different florist that make a custom spray (they didn\\'t have orchids) that was perfect, looked twice as big, and really made a statement for the family. I really appreciate the service team going out of their way to call and find a different florist that understood our needs and found a creative way to meet them.\"}, {\\'datepublished\\': \\'12/5/2019\\', \\'description\\': \\'I purchased a spary for the anut of my boss after re viewing a photo online. The cusotmer service was excellent. I recieved several notifications of the arrangement and went sent. After the family viewing, my boss contacted me and stated it was the largest most beautiful arrangement there. I live in NC and am very happy that I received such wonderful service and a beautiful arrangement from this far away. I wish you had a store closer to me. Thank you\\', \\'name\\': \\'Heavenly Sentiments Spray\\', \\'author\\': \\'from Carthage - North Carolina\\'}, {\\'author\\': \\'from -\\', \\'description\\': \\'It looked even prettier in person than in the picture.\\', \\'name\\': \\'Heavenly Sentiments Spray\\', \\'datepublished\\': \\'1/25/2019\\'}]']],\n",
       "   [[492, 0], [0, 'NewCondition']],\n",
       "   [[493, 0],\n",
       "    [0,\n",
       "     \"{'sku': 'T247-2A', 'name': 'Heavenly Sentiments Spray (Standard)', 'url': 'https://www.kingmemorialpark.com/store/standing-sprays/heavenly-sentiments-spray', 'image': 'https://res.cloudinary.com/picasso/image/upload/c_lpad,f_jpg,fl_progressive,h_300,q_auto,w_300/tr6abs1s5y3oazvpsmfe.jpg'}\"]],\n",
       "   [[494, 0],\n",
       "    [0,\n",
       "     'https://www.kingmemorialpark.com/store/delivery-location/heavenly-sentiments-spray']]],\n",
       "  [[[495, 0], [0, '0']],\n",
       "   [[496, 0], [0, 'Heavenly Sentiments Spray']],\n",
       "   [[497, 0],\n",
       "    [0,\n",
       "     \"{'pricecurrency': 'USD', 'lowprice': '202.95', 'highprice': '202.95'}\"]],\n",
       "   [[498, 0],\n",
       "    [0,\n",
       "     'https://www.kingmemorialpark.com/store/standing-sprays/heavenly-sentiments-spray']],\n",
       "   [[499, 0],\n",
       "    [0,\n",
       "     'https://res.cloudinary.com/picasso/image/upload/c_lpad,f_jpg,fl_progressive,h_300,q_auto,w_300/tr6abs1s5y3oazvpsmfe.jpg']],\n",
       "   [[500, 0], [0, \"{'reviewcount': '4', 'ratingvalue': '5.00'}\"]],\n",
       "   [[501, 0], [0, '1394']],\n",
       "   [[502, 0],\n",
       "    [0,\n",
       "     '[{\\'author\\': \\'from -\\', \\'description\\': \\'Arrangement was made beautifully... I was completely satisfied...I truly recommend this service and the flowers. Very Nice Job! Thank you!\\', \\'name\\': \\'Heavenly Sentiments Spray\\', \\'datepublished\\': \\'6/19/2019\\'}, {\\'author\\': \\'from -\\', \\'datepublished\\': \\'7/29/2019\\', \\'name\\': \\'Heavenly Sentiments Spray\\', \\'description\\': \"I ordered the Heavenly Sentiments Spray around 1pm for a same-day delivery. However, I received an email shortly after ordering saying the florist couldn\\'t deliver for same-day. I called the customer service team, and together we were able to find a different florist that make a custom spray (they didn\\'t have orchids) that was perfect, looked twice as big, and really made a statement for the family. I really appreciate the service team going out of their way to call and find a different florist that understood our needs and found a creative way to meet them.\"}, {\\'datepublished\\': \\'12/5/2019\\', \\'description\\': \\'I purchased a spary for the anut of my boss after re viewing a photo online. The cusotmer service was excellent. I recieved several notifications of the arrangement and went sent. After the family viewing, my boss contacted me and stated it was the largest most beautiful arrangement there. I live in NC and am very happy that I received such wonderful service and a beautiful arrangement from this far away. I wish you had a store closer to me. Thank you\\', \\'name\\': \\'Heavenly Sentiments Spray\\', \\'author\\': \\'from Carthage - North Carolina\\'}, {\\'author\\': \\'from -\\', \\'description\\': \\'It looked even prettier in person than in the picture.\\', \\'name\\': \\'Heavenly Sentiments Spray\\', \\'datepublished\\': \\'1/25/2019\\'}]']],\n",
       "   [[503, 0], [0, 'NewCondition']],\n",
       "   [[504, 0],\n",
       "    [0,\n",
       "     \"{'sku': 'T247-2A', 'name': 'Heavenly Sentiments Spray (Standard)', 'url': 'https://www.kingmemorialpark.com/store/standing-sprays/heavenly-sentiments-spray', 'image': 'https://res.cloudinary.com/picasso/image/upload/c_lpad,f_jpg,fl_progressive,h_300,q_auto,w_300/tr6abs1s5y3oazvpsmfe.jpg'}\"]],\n",
       "   [[505, 0],\n",
       "    [0,\n",
       "     'https://www.kingmemorialpark.com/store/delivery-location/heavenly-sentiments-spray']]],\n",
       "  [[[506, 0], [0, '0']],\n",
       "   [[507, 0], [0, 'Heavenly Sentiments Spray']],\n",
       "   [[508, 0],\n",
       "    [0,\n",
       "     \"{'pricecurrency': 'USD', 'lowprice': '202.95', 'highprice': '202.95'}\"]],\n",
       "   [[509, 0],\n",
       "    [0,\n",
       "     'https://www.kingmemorialpark.com/store/standing-sprays/heavenly-sentiments-spray']],\n",
       "   [[510, 0],\n",
       "    [0,\n",
       "     'https://res.cloudinary.com/picasso/image/upload/c_lpad,f_jpg,fl_progressive,h_300,q_auto,w_300/tr6abs1s5y3oazvpsmfe.jpg']],\n",
       "   [[511, 0], [0, \"{'reviewcount': '4', 'ratingvalue': '5.00'}\"]],\n",
       "   [[512, 0], [0, '1394']],\n",
       "   [[513, 0],\n",
       "    [0,\n",
       "     '[{\\'author\\': \\'from -\\', \\'description\\': \\'Arrangement was made beautifully... I was completely satisfied...I truly recommend this service and the flowers. Very Nice Job! Thank you!\\', \\'name\\': \\'Heavenly Sentiments Spray\\', \\'datepublished\\': \\'6/19/2019\\'}, {\\'author\\': \\'from -\\', \\'datepublished\\': \\'7/29/2019\\', \\'name\\': \\'Heavenly Sentiments Spray\\', \\'description\\': \"I ordered the Heavenly Sentiments Spray around 1pm for a same-day delivery. However, I received an email shortly after ordering saying the florist couldn\\'t deliver for same-day. I called the customer service team, and together we were able to find a different florist that make a custom spray (they didn\\'t have orchids) that was perfect, looked twice as big, and really made a statement for the family. I really appreciate the service team going out of their way to call and find a different florist that understood our needs and found a creative way to meet them.\"}, {\\'datepublished\\': \\'12/5/2019\\', \\'description\\': \\'I purchased a spary for the anut of my boss after re viewing a photo online. The cusotmer service was excellent. I recieved several notifications of the arrangement and went sent. After the family viewing, my boss contacted me and stated it was the largest most beautiful arrangement there. I live in NC and am very happy that I received such wonderful service and a beautiful arrangement from this far away. I wish you had a store closer to me. Thank you\\', \\'name\\': \\'Heavenly Sentiments Spray\\', \\'author\\': \\'from Carthage - North Carolina\\'}, {\\'author\\': \\'from -\\', \\'description\\': \\'It looked even prettier in person than in the picture.\\', \\'name\\': \\'Heavenly Sentiments Spray\\', \\'datepublished\\': \\'1/25/2019\\'}]']],\n",
       "   [[514, 0], [0, 'NewCondition']],\n",
       "   [[515, 0],\n",
       "    [0,\n",
       "     \"{'sku': 'T247-2A', 'name': 'Heavenly Sentiments Spray (Standard)', 'url': 'https://www.kingmemorialpark.com/store/standing-sprays/heavenly-sentiments-spray', 'image': 'https://res.cloudinary.com/picasso/image/upload/c_lpad,f_jpg,fl_progressive,h_300,q_auto,w_300/tr6abs1s5y3oazvpsmfe.jpg'}\"]],\n",
       "   [[516, 0],\n",
       "    [0,\n",
       "     'https://www.kingmemorialpark.com/store/delivery-location/heavenly-sentiments-spray']]],\n",
       "  [[[517, 0], [0, '0']],\n",
       "   [[518, 0], [0, 'Heavenly Sentiments Spray']],\n",
       "   [[519, 0],\n",
       "    [0,\n",
       "     \"{'pricecurrency': 'USD', 'lowprice': '202.95', 'highprice': '202.95'}\"]],\n",
       "   [[520, 0],\n",
       "    [0,\n",
       "     'https://www.kingmemorialpark.com/store/standing-sprays/heavenly-sentiments-spray']],\n",
       "   [[521, 0],\n",
       "    [0,\n",
       "     'https://res.cloudinary.com/picasso/image/upload/c_lpad,f_jpg,fl_progressive,h_300,q_auto,w_300/tr6abs1s5y3oazvpsmfe.jpg']],\n",
       "   [[522, 0], [0, \"{'reviewcount': '4', 'ratingvalue': '5.00'}\"]],\n",
       "   [[523, 0], [0, '1394']],\n",
       "   [[524, 0],\n",
       "    [0,\n",
       "     '[{\\'author\\': \\'from -\\', \\'description\\': \\'Arrangement was made beautifully... I was completely satisfied...I truly recommend this service and the flowers. Very Nice Job! Thank you!\\', \\'name\\': \\'Heavenly Sentiments Spray\\', \\'datepublished\\': \\'6/19/2019\\'}, {\\'author\\': \\'from -\\', \\'datepublished\\': \\'7/29/2019\\', \\'name\\': \\'Heavenly Sentiments Spray\\', \\'description\\': \"I ordered the Heavenly Sentiments Spray around 1pm for a same-day delivery. However, I received an email shortly after ordering saying the florist couldn\\'t deliver for same-day. I called the customer service team, and together we were able to find a different florist that make a custom spray (they didn\\'t have orchids) that was perfect, looked twice as big, and really made a statement for the family. I really appreciate the service team going out of their way to call and find a different florist that understood our needs and found a creative way to meet them.\"}, {\\'datepublished\\': \\'12/5/2019\\', \\'description\\': \\'I purchased a spary for the anut of my boss after re viewing a photo online. The cusotmer service was excellent. I recieved several notifications of the arrangement and went sent. After the family viewing, my boss contacted me and stated it was the largest most beautiful arrangement there. I live in NC and am very happy that I received such wonderful service and a beautiful arrangement from this far away. I wish you had a store closer to me. Thank you\\', \\'name\\': \\'Heavenly Sentiments Spray\\', \\'author\\': \\'from Carthage - North Carolina\\'}, {\\'author\\': \\'from -\\', \\'description\\': \\'It looked even prettier in person than in the picture.\\', \\'name\\': \\'Heavenly Sentiments Spray\\', \\'datepublished\\': \\'1/25/2019\\'}]']],\n",
       "   [[525, 0], [0, 'NewCondition']],\n",
       "   [[526, 0],\n",
       "    [0,\n",
       "     \"{'sku': 'T247-2A', 'name': 'Heavenly Sentiments Spray (Standard)', 'url': 'https://www.kingmemorialpark.com/store/standing-sprays/heavenly-sentiments-spray', 'image': 'https://res.cloudinary.com/picasso/image/upload/c_lpad,f_jpg,fl_progressive,h_300,q_auto,w_300/tr6abs1s5y3oazvpsmfe.jpg'}\"]],\n",
       "   [[527, 0],\n",
       "    [0,\n",
       "     'https://www.kingmemorialpark.com/store/delivery-location/heavenly-sentiments-spray']]],\n",
       "  [[[528, 0], [0, '0']],\n",
       "   [[529, 0], [0, 'Heavenly Sentiments Spray']],\n",
       "   [[530, 0],\n",
       "    [0,\n",
       "     \"{'pricecurrency': 'USD', 'lowprice': '202.95', 'highprice': '202.95'}\"]],\n",
       "   [[531, 0],\n",
       "    [0,\n",
       "     'https://www.kingmemorialpark.com/store/standing-sprays/heavenly-sentiments-spray']],\n",
       "   [[532, 0],\n",
       "    [0,\n",
       "     'https://res.cloudinary.com/picasso/image/upload/c_lpad,f_jpg,fl_progressive,h_300,q_auto,w_300/tr6abs1s5y3oazvpsmfe.jpg']],\n",
       "   [[533, 0], [0, \"{'reviewcount': '4', 'ratingvalue': '5.00'}\"]],\n",
       "   [[534, 0], [0, '1394']],\n",
       "   [[535, 0],\n",
       "    [0,\n",
       "     '[{\\'author\\': \\'from -\\', \\'description\\': \\'Arrangement was made beautifully... I was completely satisfied...I truly recommend this service and the flowers. Very Nice Job! Thank you!\\', \\'name\\': \\'Heavenly Sentiments Spray\\', \\'datepublished\\': \\'6/19/2019\\'}, {\\'author\\': \\'from -\\', \\'datepublished\\': \\'7/29/2019\\', \\'name\\': \\'Heavenly Sentiments Spray\\', \\'description\\': \"I ordered the Heavenly Sentiments Spray around 1pm for a same-day delivery. However, I received an email shortly after ordering saying the florist couldn\\'t deliver for same-day. I called the customer service team, and together we were able to find a different florist that make a custom spray (they didn\\'t have orchids) that was perfect, looked twice as big, and really made a statement for the family. I really appreciate the service team going out of their way to call and find a different florist that understood our needs and found a creative way to meet them.\"}, {\\'datepublished\\': \\'12/5/2019\\', \\'description\\': \\'I purchased a spary for the anut of my boss after re viewing a photo online. The cusotmer service was excellent. I recieved several notifications of the arrangement and went sent. After the family viewing, my boss contacted me and stated it was the largest most beautiful arrangement there. I live in NC and am very happy that I received such wonderful service and a beautiful arrangement from this far away. I wish you had a store closer to me. Thank you\\', \\'name\\': \\'Heavenly Sentiments Spray\\', \\'author\\': \\'from Carthage - North Carolina\\'}, {\\'author\\': \\'from -\\', \\'description\\': \\'It looked even prettier in person than in the picture.\\', \\'name\\': \\'Heavenly Sentiments Spray\\', \\'datepublished\\': \\'1/25/2019\\'}]']],\n",
       "   [[536, 0], [0, 'NewCondition']],\n",
       "   [[537, 0],\n",
       "    [0,\n",
       "     \"{'sku': 'T247-2A', 'name': 'Heavenly Sentiments Spray (Standard)', 'url': 'https://www.kingmemorialpark.com/store/standing-sprays/heavenly-sentiments-spray', 'image': 'https://res.cloudinary.com/picasso/image/upload/c_lpad,f_jpg,fl_progressive,h_300,q_auto,w_300/tr6abs1s5y3oazvpsmfe.jpg'}\"]],\n",
       "   [[538, 0],\n",
       "    [0,\n",
       "     'https://www.kingmemorialpark.com/store/delivery-location/heavenly-sentiments-spray']]],\n",
       "  [[[539, 0], [0, '0']],\n",
       "   [[540, 0], [0, 'Heavenly Sentiments Spray']],\n",
       "   [[541, 0],\n",
       "    [0,\n",
       "     \"{'pricecurrency': 'USD', 'lowprice': '202.95', 'highprice': '202.95'}\"]],\n",
       "   [[542, 0],\n",
       "    [0,\n",
       "     'https://www.kingmemorialpark.com/store/standing-sprays/heavenly-sentiments-spray']],\n",
       "   [[543, 0],\n",
       "    [0,\n",
       "     'https://res.cloudinary.com/picasso/image/upload/c_lpad,f_jpg,fl_progressive,h_300,q_auto,w_300/tr6abs1s5y3oazvpsmfe.jpg']],\n",
       "   [[544, 0], [0, \"{'reviewcount': '4', 'ratingvalue': '5.00'}\"]],\n",
       "   [[545, 0], [0, '1394']],\n",
       "   [[546, 0],\n",
       "    [0,\n",
       "     '[{\\'author\\': \\'from -\\', \\'description\\': \\'Arrangement was made beautifully... I was completely satisfied...I truly recommend this service and the flowers. Very Nice Job! Thank you!\\', \\'name\\': \\'Heavenly Sentiments Spray\\', \\'datepublished\\': \\'6/19/2019\\'}, {\\'author\\': \\'from -\\', \\'datepublished\\': \\'7/29/2019\\', \\'name\\': \\'Heavenly Sentiments Spray\\', \\'description\\': \"I ordered the Heavenly Sentiments Spray around 1pm for a same-day delivery. However, I received an email shortly after ordering saying the florist couldn\\'t deliver for same-day. I called the customer service team, and together we were able to find a different florist that make a custom spray (they didn\\'t have orchids) that was perfect, looked twice as big, and really made a statement for the family. I really appreciate the service team going out of their way to call and find a different florist that understood our needs and found a creative way to meet them.\"}, {\\'datepublished\\': \\'12/5/2019\\', \\'description\\': \\'I purchased a spary for the anut of my boss after re viewing a photo online. The cusotmer service was excellent. I recieved several notifications of the arrangement and went sent. After the family viewing, my boss contacted me and stated it was the largest most beautiful arrangement there. I live in NC and am very happy that I received such wonderful service and a beautiful arrangement from this far away. I wish you had a store closer to me. Thank you\\', \\'name\\': \\'Heavenly Sentiments Spray\\', \\'author\\': \\'from Carthage - North Carolina\\'}, {\\'author\\': \\'from -\\', \\'description\\': \\'It looked even prettier in person than in the picture.\\', \\'name\\': \\'Heavenly Sentiments Spray\\', \\'datepublished\\': \\'1/25/2019\\'}]']],\n",
       "   [[547, 0], [0, 'NewCondition']],\n",
       "   [[548, 0],\n",
       "    [0,\n",
       "     \"{'sku': 'T247-2A', 'name': 'Heavenly Sentiments Spray (Standard)', 'url': 'https://www.kingmemorialpark.com/store/standing-sprays/heavenly-sentiments-spray', 'image': 'https://res.cloudinary.com/picasso/image/upload/c_lpad,f_jpg,fl_progressive,h_300,q_auto,w_300/tr6abs1s5y3oazvpsmfe.jpg'}\"]],\n",
       "   [[549, 0],\n",
       "    [0,\n",
       "     'https://www.kingmemorialpark.com/store/delivery-location/heavenly-sentiments-spray']]],\n",
       "  [[[550, 0], [0, '0']],\n",
       "   [[551, 0], [0, 'Heavenly Sentiments Spray']],\n",
       "   [[552, 0],\n",
       "    [0,\n",
       "     \"{'pricecurrency': 'USD', 'lowprice': '202.95', 'highprice': '202.95'}\"]],\n",
       "   [[553, 0],\n",
       "    [0,\n",
       "     'https://www.kingmemorialpark.com/store/standing-sprays/heavenly-sentiments-spray']],\n",
       "   [[554, 0],\n",
       "    [0,\n",
       "     'https://res.cloudinary.com/picasso/image/upload/c_lpad,f_jpg,fl_progressive,h_300,q_auto,w_300/tr6abs1s5y3oazvpsmfe.jpg']],\n",
       "   [[555, 0], [0, \"{'reviewcount': '4', 'ratingvalue': '5.00'}\"]],\n",
       "   [[556, 0], [0, '1394']],\n",
       "   [[557, 0],\n",
       "    [0,\n",
       "     '[{\\'author\\': \\'from -\\', \\'description\\': \\'Arrangement was made beautifully... I was completely satisfied...I truly recommend this service and the flowers. Very Nice Job! Thank you!\\', \\'name\\': \\'Heavenly Sentiments Spray\\', \\'datepublished\\': \\'6/19/2019\\'}, {\\'author\\': \\'from -\\', \\'datepublished\\': \\'7/29/2019\\', \\'name\\': \\'Heavenly Sentiments Spray\\', \\'description\\': \"I ordered the Heavenly Sentiments Spray around 1pm for a same-day delivery. However, I received an email shortly after ordering saying the florist couldn\\'t deliver for same-day. I called the customer service team, and together we were able to find a different florist that make a custom spray (they didn\\'t have orchids) that was perfect, looked twice as big, and really made a statement for the family. I really appreciate the service team going out of their way to call and find a different florist that understood our needs and found a creative way to meet them.\"}, {\\'datepublished\\': \\'12/5/2019\\', \\'description\\': \\'I purchased a spary for the anut of my boss after re viewing a photo online. The cusotmer service was excellent. I recieved several notifications of the arrangement and went sent. After the family viewing, my boss contacted me and stated it was the largest most beautiful arrangement there. I live in NC and am very happy that I received such wonderful service and a beautiful arrangement from this far away. I wish you had a store closer to me. Thank you\\', \\'name\\': \\'Heavenly Sentiments Spray\\', \\'author\\': \\'from Carthage - North Carolina\\'}, {\\'author\\': \\'from -\\', \\'description\\': \\'It looked even prettier in person than in the picture.\\', \\'name\\': \\'Heavenly Sentiments Spray\\', \\'datepublished\\': \\'1/25/2019\\'}]']],\n",
       "   [[558, 0], [0, 'NewCondition']],\n",
       "   [[559, 0],\n",
       "    [0,\n",
       "     \"{'sku': 'T247-2A', 'name': 'Heavenly Sentiments Spray (Standard)', 'url': 'https://www.kingmemorialpark.com/store/standing-sprays/heavenly-sentiments-spray', 'image': 'https://res.cloudinary.com/picasso/image/upload/c_lpad,f_jpg,fl_progressive,h_300,q_auto,w_300/tr6abs1s5y3oazvpsmfe.jpg'}\"]],\n",
       "   [[560, 0],\n",
       "    [0,\n",
       "     'https://www.kingmemorialpark.com/store/delivery-location/heavenly-sentiments-spray']]],\n",
       "  [[[561, 0], [0, '0']],\n",
       "   [[562, 0], [0, 'Heavenly Sentiments Spray']],\n",
       "   [[563, 0],\n",
       "    [0,\n",
       "     \"{'pricecurrency': 'USD', 'lowprice': '202.95', 'highprice': '202.95'}\"]],\n",
       "   [[564, 0],\n",
       "    [0,\n",
       "     'https://www.kingmemorialpark.com/store/standing-sprays/heavenly-sentiments-spray']],\n",
       "   [[565, 0],\n",
       "    [0,\n",
       "     'https://res.cloudinary.com/picasso/image/upload/c_lpad,f_jpg,fl_progressive,h_300,q_auto,w_300/tr6abs1s5y3oazvpsmfe.jpg']],\n",
       "   [[566, 0], [0, \"{'reviewcount': '4', 'ratingvalue': '5.00'}\"]],\n",
       "   [[567, 0], [0, '1394']],\n",
       "   [[568, 0],\n",
       "    [0,\n",
       "     '[{\\'author\\': \\'from -\\', \\'description\\': \\'Arrangement was made beautifully... I was completely satisfied...I truly recommend this service and the flowers. Very Nice Job! Thank you!\\', \\'name\\': \\'Heavenly Sentiments Spray\\', \\'datepublished\\': \\'6/19/2019\\'}, {\\'author\\': \\'from -\\', \\'datepublished\\': \\'7/29/2019\\', \\'name\\': \\'Heavenly Sentiments Spray\\', \\'description\\': \"I ordered the Heavenly Sentiments Spray around 1pm for a same-day delivery. However, I received an email shortly after ordering saying the florist couldn\\'t deliver for same-day. I called the customer service team, and together we were able to find a different florist that make a custom spray (they didn\\'t have orchids) that was perfect, looked twice as big, and really made a statement for the family. I really appreciate the service team going out of their way to call and find a different florist that understood our needs and found a creative way to meet them.\"}, {\\'datepublished\\': \\'12/5/2019\\', \\'description\\': \\'I purchased a spary for the anut of my boss after re viewing a photo online. The cusotmer service was excellent. I recieved several notifications of the arrangement and went sent. After the family viewing, my boss contacted me and stated it was the largest most beautiful arrangement there. I live in NC and am very happy that I received such wonderful service and a beautiful arrangement from this far away. I wish you had a store closer to me. Thank you\\', \\'name\\': \\'Heavenly Sentiments Spray\\', \\'author\\': \\'from Carthage - North Carolina\\'}, {\\'author\\': \\'from -\\', \\'description\\': \\'It looked even prettier in person than in the picture.\\', \\'name\\': \\'Heavenly Sentiments Spray\\', \\'datepublished\\': \\'1/25/2019\\'}]']],\n",
       "   [[569, 0], [0, 'NewCondition']],\n",
       "   [[570, 0],\n",
       "    [0,\n",
       "     \"{'sku': 'T247-2A', 'name': 'Heavenly Sentiments Spray (Standard)', 'url': 'https://www.kingmemorialpark.com/store/standing-sprays/heavenly-sentiments-spray', 'image': 'https://res.cloudinary.com/picasso/image/upload/c_lpad,f_jpg,fl_progressive,h_300,q_auto,w_300/tr6abs1s5y3oazvpsmfe.jpg'}\"]],\n",
       "   [[571, 0],\n",
       "    [0,\n",
       "     'https://www.kingmemorialpark.com/store/delivery-location/heavenly-sentiments-spray']]],\n",
       "  [[[572, 0], [0, '0']],\n",
       "   [[573, 0], [0, 'Heavenly Sentiments Spray']],\n",
       "   [[574, 0],\n",
       "    [0,\n",
       "     \"{'pricecurrency': 'USD', 'lowprice': '202.95', 'highprice': '202.95'}\"]],\n",
       "   [[575, 0],\n",
       "    [0,\n",
       "     'https://www.kingmemorialpark.com/store/standing-sprays/heavenly-sentiments-spray']],\n",
       "   [[576, 0],\n",
       "    [0,\n",
       "     'https://res.cloudinary.com/picasso/image/upload/c_lpad,f_jpg,fl_progressive,h_300,q_auto,w_300/tr6abs1s5y3oazvpsmfe.jpg']],\n",
       "   [[577, 0], [0, \"{'reviewcount': '4', 'ratingvalue': '5.00'}\"]],\n",
       "   [[578, 0], [0, '1394']],\n",
       "   [[579, 0],\n",
       "    [0,\n",
       "     '[{\\'author\\': \\'from -\\', \\'description\\': \\'Arrangement was made beautifully... I was completely satisfied...I truly recommend this service and the flowers. Very Nice Job! Thank you!\\', \\'name\\': \\'Heavenly Sentiments Spray\\', \\'datepublished\\': \\'6/19/2019\\'}, {\\'author\\': \\'from -\\', \\'datepublished\\': \\'7/29/2019\\', \\'name\\': \\'Heavenly Sentiments Spray\\', \\'description\\': \"I ordered the Heavenly Sentiments Spray around 1pm for a same-day delivery. However, I received an email shortly after ordering saying the florist couldn\\'t deliver for same-day. I called the customer service team, and together we were able to find a different florist that make a custom spray (they didn\\'t have orchids) that was perfect, looked twice as big, and really made a statement for the family. I really appreciate the service team going out of their way to call and find a different florist that understood our needs and found a creative way to meet them.\"}, {\\'datepublished\\': \\'12/5/2019\\', \\'description\\': \\'I purchased a spary for the anut of my boss after re viewing a photo online. The cusotmer service was excellent. I recieved several notifications of the arrangement and went sent. After the family viewing, my boss contacted me and stated it was the largest most beautiful arrangement there. I live in NC and am very happy that I received such wonderful service and a beautiful arrangement from this far away. I wish you had a store closer to me. Thank you\\', \\'name\\': \\'Heavenly Sentiments Spray\\', \\'author\\': \\'from Carthage - North Carolina\\'}, {\\'author\\': \\'from -\\', \\'description\\': \\'It looked even prettier in person than in the picture.\\', \\'name\\': \\'Heavenly Sentiments Spray\\', \\'datepublished\\': \\'1/25/2019\\'}]']],\n",
       "   [[580, 0], [0, 'NewCondition']],\n",
       "   [[581, 0],\n",
       "    [0,\n",
       "     \"{'sku': 'T247-2A', 'name': 'Heavenly Sentiments Spray (Standard)', 'url': 'https://www.kingmemorialpark.com/store/standing-sprays/heavenly-sentiments-spray', 'image': 'https://res.cloudinary.com/picasso/image/upload/c_lpad,f_jpg,fl_progressive,h_300,q_auto,w_300/tr6abs1s5y3oazvpsmfe.jpg'}\"]],\n",
       "   [[582, 0],\n",
       "    [0,\n",
       "     'https://www.kingmemorialpark.com/store/delivery-location/heavenly-sentiments-spray']]],\n",
       "  [[[583, 0], [0, '0']],\n",
       "   [[584, 0], [0, 'Heavenly Sentiments Spray']],\n",
       "   [[585, 0],\n",
       "    [0,\n",
       "     \"{'pricecurrency': 'USD', 'lowprice': '202.95', 'highprice': '202.95'}\"]],\n",
       "   [[586, 0],\n",
       "    [0,\n",
       "     'https://www.kingmemorialpark.com/store/standing-sprays/heavenly-sentiments-spray']],\n",
       "   [[587, 0],\n",
       "    [0,\n",
       "     'https://res.cloudinary.com/picasso/image/upload/c_lpad,f_jpg,fl_progressive,h_300,q_auto,w_300/tr6abs1s5y3oazvpsmfe.jpg']],\n",
       "   [[588, 0], [0, \"{'reviewcount': '4', 'ratingvalue': '5.00'}\"]],\n",
       "   [[589, 0], [0, '1394']],\n",
       "   [[590, 0],\n",
       "    [0,\n",
       "     '[{\\'author\\': \\'from -\\', \\'description\\': \\'Arrangement was made beautifully... I was completely satisfied...I truly recommend this service and the flowers. Very Nice Job! Thank you!\\', \\'name\\': \\'Heavenly Sentiments Spray\\', \\'datepublished\\': \\'6/19/2019\\'}, {\\'author\\': \\'from -\\', \\'datepublished\\': \\'7/29/2019\\', \\'name\\': \\'Heavenly Sentiments Spray\\', \\'description\\': \"I ordered the Heavenly Sentiments Spray around 1pm for a same-day delivery. However, I received an email shortly after ordering saying the florist couldn\\'t deliver for same-day. I called the customer service team, and together we were able to find a different florist that make a custom spray (they didn\\'t have orchids) that was perfect, looked twice as big, and really made a statement for the family. I really appreciate the service team going out of their way to call and find a different florist that understood our needs and found a creative way to meet them.\"}, {\\'datepublished\\': \\'12/5/2019\\', \\'description\\': \\'I purchased a spary for the anut of my boss after re viewing a photo online. The cusotmer service was excellent. I recieved several notifications of the arrangement and went sent. After the family viewing, my boss contacted me and stated it was the largest most beautiful arrangement there. I live in NC and am very happy that I received such wonderful service and a beautiful arrangement from this far away. I wish you had a store closer to me. Thank you\\', \\'name\\': \\'Heavenly Sentiments Spray\\', \\'author\\': \\'from Carthage - North Carolina\\'}, {\\'author\\': \\'from -\\', \\'description\\': \\'It looked even prettier in person than in the picture.\\', \\'name\\': \\'Heavenly Sentiments Spray\\', \\'datepublished\\': \\'1/25/2019\\'}]']],\n",
       "   [[591, 0], [0, 'NewCondition']],\n",
       "   [[592, 0],\n",
       "    [0,\n",
       "     \"{'sku': 'T247-2A', 'name': 'Heavenly Sentiments Spray (Standard)', 'url': 'https://www.kingmemorialpark.com/store/standing-sprays/heavenly-sentiments-spray', 'image': 'https://res.cloudinary.com/picasso/image/upload/c_lpad,f_jpg,fl_progressive,h_300,q_auto,w_300/tr6abs1s5y3oazvpsmfe.jpg'}\"]],\n",
       "   [[593, 0],\n",
       "    [0,\n",
       "     'https://www.kingmemorialpark.com/store/delivery-location/heavenly-sentiments-spray']]],\n",
       "  [[[594, 0], [0, '0']],\n",
       "   [[595, 0], [0, 'Heavenly Sentiments Spray']],\n",
       "   [[596, 0],\n",
       "    [0,\n",
       "     \"{'pricecurrency': 'USD', 'lowprice': '202.95', 'highprice': '202.95'}\"]],\n",
       "   [[597, 0],\n",
       "    [0,\n",
       "     'https://www.kingmemorialpark.com/store/standing-sprays/heavenly-sentiments-spray']],\n",
       "   [[598, 0],\n",
       "    [0,\n",
       "     'https://res.cloudinary.com/picasso/image/upload/c_lpad,f_jpg,fl_progressive,h_300,q_auto,w_300/tr6abs1s5y3oazvpsmfe.jpg']],\n",
       "   [[599, 0], [0, \"{'reviewcount': '4', 'ratingvalue': '5.00'}\"]],\n",
       "   [[600, 0], [0, '1394']],\n",
       "   [[601, 0],\n",
       "    [0,\n",
       "     '[{\\'author\\': \\'from -\\', \\'description\\': \\'Arrangement was made beautifully... I was completely satisfied...I truly recommend this service and the flowers. Very Nice Job! Thank you!\\', \\'name\\': \\'Heavenly Sentiments Spray\\', \\'datepublished\\': \\'6/19/2019\\'}, {\\'author\\': \\'from -\\', \\'datepublished\\': \\'7/29/2019\\', \\'name\\': \\'Heavenly Sentiments Spray\\', \\'description\\': \"I ordered the Heavenly Sentiments Spray around 1pm for a same-day delivery. However, I received an email shortly after ordering saying the florist couldn\\'t deliver for same-day. I called the customer service team, and together we were able to find a different florist that make a custom spray (they didn\\'t have orchids) that was perfect, looked twice as big, and really made a statement for the family. I really appreciate the service team going out of their way to call and find a different florist that understood our needs and found a creative way to meet them.\"}, {\\'datepublished\\': \\'12/5/2019\\', \\'description\\': \\'I purchased a spary for the anut of my boss after re viewing a photo online. The cusotmer service was excellent. I recieved several notifications of the arrangement and went sent. After the family viewing, my boss contacted me and stated it was the largest most beautiful arrangement there. I live in NC and am very happy that I received such wonderful service and a beautiful arrangement from this far away. I wish you had a store closer to me. Thank you\\', \\'name\\': \\'Heavenly Sentiments Spray\\', \\'author\\': \\'from Carthage - North Carolina\\'}, {\\'author\\': \\'from -\\', \\'description\\': \\'It looked even prettier in person than in the picture.\\', \\'name\\': \\'Heavenly Sentiments Spray\\', \\'datepublished\\': \\'1/25/2019\\'}]']],\n",
       "   [[602, 0], [0, 'NewCondition']],\n",
       "   [[603, 0],\n",
       "    [0,\n",
       "     \"{'sku': 'T247-2A', 'name': 'Heavenly Sentiments Spray (Standard)', 'url': 'https://www.kingmemorialpark.com/store/standing-sprays/heavenly-sentiments-spray', 'image': 'https://res.cloudinary.com/picasso/image/upload/c_lpad,f_jpg,fl_progressive,h_300,q_auto,w_300/tr6abs1s5y3oazvpsmfe.jpg'}\"]],\n",
       "   [[604, 0],\n",
       "    [0,\n",
       "     'https://www.kingmemorialpark.com/store/delivery-location/heavenly-sentiments-spray']]],\n",
       "  [[[605, 0], [0, '0']],\n",
       "   [[606, 0], [0, 'Heavenly Sentiments Spray']],\n",
       "   [[607, 0],\n",
       "    [0,\n",
       "     \"{'pricecurrency': 'USD', 'lowprice': '202.95', 'highprice': '202.95'}\"]],\n",
       "   [[608, 0],\n",
       "    [0,\n",
       "     'https://www.kingmemorialpark.com/store/standing-sprays/heavenly-sentiments-spray']],\n",
       "   [[609, 0],\n",
       "    [0,\n",
       "     'https://res.cloudinary.com/picasso/image/upload/c_lpad,f_jpg,fl_progressive,h_300,q_auto,w_300/tr6abs1s5y3oazvpsmfe.jpg']],\n",
       "   [[610, 0], [0, \"{'reviewcount': '4', 'ratingvalue': '5.00'}\"]],\n",
       "   [[611, 0], [0, '1394']],\n",
       "   [[612, 0],\n",
       "    [0,\n",
       "     '[{\\'author\\': \\'from -\\', \\'description\\': \\'Arrangement was made beautifully... I was completely satisfied...I truly recommend this service and the flowers. Very Nice Job! Thank you!\\', \\'name\\': \\'Heavenly Sentiments Spray\\', \\'datepublished\\': \\'6/19/2019\\'}, {\\'author\\': \\'from -\\', \\'datepublished\\': \\'7/29/2019\\', \\'name\\': \\'Heavenly Sentiments Spray\\', \\'description\\': \"I ordered the Heavenly Sentiments Spray around 1pm for a same-day delivery. However, I received an email shortly after ordering saying the florist couldn\\'t deliver for same-day. I called the customer service team, and together we were able to find a different florist that make a custom spray (they didn\\'t have orchids) that was perfect, looked twice as big, and really made a statement for the family. I really appreciate the service team going out of their way to call and find a different florist that understood our needs and found a creative way to meet them.\"}, {\\'datepublished\\': \\'12/5/2019\\', \\'description\\': \\'I purchased a spary for the anut of my boss after re viewing a photo online. The cusotmer service was excellent. I recieved several notifications of the arrangement and went sent. After the family viewing, my boss contacted me and stated it was the largest most beautiful arrangement there. I live in NC and am very happy that I received such wonderful service and a beautiful arrangement from this far away. I wish you had a store closer to me. Thank you\\', \\'name\\': \\'Heavenly Sentiments Spray\\', \\'author\\': \\'from Carthage - North Carolina\\'}, {\\'author\\': \\'from -\\', \\'description\\': \\'It looked even prettier in person than in the picture.\\', \\'name\\': \\'Heavenly Sentiments Spray\\', \\'datepublished\\': \\'1/25/2019\\'}]']],\n",
       "   [[613, 0], [0, 'NewCondition']],\n",
       "   [[614, 0],\n",
       "    [0,\n",
       "     \"{'sku': 'T247-2A', 'name': 'Heavenly Sentiments Spray (Standard)', 'url': 'https://www.kingmemorialpark.com/store/standing-sprays/heavenly-sentiments-spray', 'image': 'https://res.cloudinary.com/picasso/image/upload/c_lpad,f_jpg,fl_progressive,h_300,q_auto,w_300/tr6abs1s5y3oazvpsmfe.jpg'}\"]],\n",
       "   [[615, 0],\n",
       "    [0,\n",
       "     'https://www.kingmemorialpark.com/store/delivery-location/heavenly-sentiments-spray']]],\n",
       "  [[[616, 0], [0, '0']],\n",
       "   [[617, 0], [0, 'Heavenly Sentiments Spray']],\n",
       "   [[618, 0],\n",
       "    [0,\n",
       "     \"{'pricecurrency': 'USD', 'lowprice': '202.95', 'highprice': '202.95'}\"]],\n",
       "   [[619, 0],\n",
       "    [0,\n",
       "     'https://www.kingmemorialpark.com/store/standing-sprays/heavenly-sentiments-spray']],\n",
       "   [[620, 0],\n",
       "    [0,\n",
       "     'https://res.cloudinary.com/picasso/image/upload/c_lpad,f_jpg,fl_progressive,h_300,q_auto,w_300/tr6abs1s5y3oazvpsmfe.jpg']],\n",
       "   [[621, 0], [0, \"{'reviewcount': '4', 'ratingvalue': '5.00'}\"]],\n",
       "   [[622, 0], [0, '1394']],\n",
       "   [[623, 0],\n",
       "    [0,\n",
       "     '[{\\'author\\': \\'from -\\', \\'description\\': \\'Arrangement was made beautifully... I was completely satisfied...I truly recommend this service and the flowers. Very Nice Job! Thank you!\\', \\'name\\': \\'Heavenly Sentiments Spray\\', \\'datepublished\\': \\'6/19/2019\\'}, {\\'author\\': \\'from -\\', \\'datepublished\\': \\'7/29/2019\\', \\'name\\': \\'Heavenly Sentiments Spray\\', \\'description\\': \"I ordered the Heavenly Sentiments Spray around 1pm for a same-day delivery. However, I received an email shortly after ordering saying the florist couldn\\'t deliver for same-day. I called the customer service team, and together we were able to find a different florist that make a custom spray (they didn\\'t have orchids) that was perfect, looked twice as big, and really made a statement for the family. I really appreciate the service team going out of their way to call and find a different florist that understood our needs and found a creative way to meet them.\"}, {\\'datepublished\\': \\'12/5/2019\\', \\'description\\': \\'I purchased a spary for the anut of my boss after re viewing a photo online. The cusotmer service was excellent. I recieved several notifications of the arrangement and went sent. After the family viewing, my boss contacted me and stated it was the largest most beautiful arrangement there. I live in NC and am very happy that I received such wonderful service and a beautiful arrangement from this far away. I wish you had a store closer to me. Thank you\\', \\'name\\': \\'Heavenly Sentiments Spray\\', \\'author\\': \\'from Carthage - North Carolina\\'}, {\\'author\\': \\'from -\\', \\'description\\': \\'It looked even prettier in person than in the picture.\\', \\'name\\': \\'Heavenly Sentiments Spray\\', \\'datepublished\\': \\'1/25/2019\\'}]']],\n",
       "   [[624, 0], [0, 'NewCondition']],\n",
       "   [[625, 0],\n",
       "    [0,\n",
       "     \"{'sku': 'T247-2A', 'name': 'Heavenly Sentiments Spray (Standard)', 'url': 'https://www.kingmemorialpark.com/store/standing-sprays/heavenly-sentiments-spray', 'image': 'https://res.cloudinary.com/picasso/image/upload/c_lpad,f_jpg,fl_progressive,h_300,q_auto,w_300/tr6abs1s5y3oazvpsmfe.jpg'}\"]],\n",
       "   [[626, 0],\n",
       "    [0,\n",
       "     'https://www.kingmemorialpark.com/store/delivery-location/heavenly-sentiments-spray']]],\n",
       "  [[[627, 0], [0, '0']],\n",
       "   [[628, 0], [0, 'Heavenly Sentiments Spray']],\n",
       "   [[629, 0],\n",
       "    [0,\n",
       "     \"{'pricecurrency': 'USD', 'lowprice': '202.95', 'highprice': '202.95'}\"]],\n",
       "   [[630, 0],\n",
       "    [0,\n",
       "     'https://www.kingmemorialpark.com/store/standing-sprays/heavenly-sentiments-spray']],\n",
       "   [[631, 0],\n",
       "    [0,\n",
       "     'https://res.cloudinary.com/picasso/image/upload/c_lpad,f_jpg,fl_progressive,h_300,q_auto,w_300/tr6abs1s5y3oazvpsmfe.jpg']],\n",
       "   [[632, 0], [0, \"{'reviewcount': '4', 'ratingvalue': '5.00'}\"]],\n",
       "   [[633, 0], [0, '1394']],\n",
       "   [[634, 0],\n",
       "    [0,\n",
       "     '[{\\'author\\': \\'from -\\', \\'description\\': \\'Arrangement was made beautifully... I was completely satisfied...I truly recommend this service and the flowers. Very Nice Job! Thank you!\\', \\'name\\': \\'Heavenly Sentiments Spray\\', \\'datepublished\\': \\'6/19/2019\\'}, {\\'author\\': \\'from -\\', \\'datepublished\\': \\'7/29/2019\\', \\'name\\': \\'Heavenly Sentiments Spray\\', \\'description\\': \"I ordered the Heavenly Sentiments Spray around 1pm for a same-day delivery. However, I received an email shortly after ordering saying the florist couldn\\'t deliver for same-day. I called the customer service team, and together we were able to find a different florist that make a custom spray (they didn\\'t have orchids) that was perfect, looked twice as big, and really made a statement for the family. I really appreciate the service team going out of their way to call and find a different florist that understood our needs and found a creative way to meet them.\"}, {\\'datepublished\\': \\'12/5/2019\\', \\'description\\': \\'I purchased a spary for the anut of my boss after re viewing a photo online. The cusotmer service was excellent. I recieved several notifications of the arrangement and went sent. After the family viewing, my boss contacted me and stated it was the largest most beautiful arrangement there. I live in NC and am very happy that I received such wonderful service and a beautiful arrangement from this far away. I wish you had a store closer to me. Thank you\\', \\'name\\': \\'Heavenly Sentiments Spray\\', \\'author\\': \\'from Carthage - North Carolina\\'}, {\\'author\\': \\'from -\\', \\'description\\': \\'It looked even prettier in person than in the picture.\\', \\'name\\': \\'Heavenly Sentiments Spray\\', \\'datepublished\\': \\'1/25/2019\\'}]']],\n",
       "   [[635, 0], [0, 'NewCondition']],\n",
       "   [[636, 0],\n",
       "    [0,\n",
       "     \"{'sku': 'T247-2A', 'name': 'Heavenly Sentiments Spray (Standard)', 'url': 'https://www.kingmemorialpark.com/store/standing-sprays/heavenly-sentiments-spray', 'image': 'https://res.cloudinary.com/picasso/image/upload/c_lpad,f_jpg,fl_progressive,h_300,q_auto,w_300/tr6abs1s5y3oazvpsmfe.jpg'}\"]],\n",
       "   [[637, 0],\n",
       "    [0,\n",
       "     'https://www.kingmemorialpark.com/store/delivery-location/heavenly-sentiments-spray']]],\n",
       "  [[[638, 0], [0, '0']],\n",
       "   [[639, 0], [0, 'Heavenly Sentiments Spray']],\n",
       "   [[640, 0],\n",
       "    [0,\n",
       "     \"{'pricecurrency': 'USD', 'lowprice': '202.95', 'highprice': '202.95'}\"]],\n",
       "   [[641, 0],\n",
       "    [0,\n",
       "     'https://www.kingmemorialpark.com/store/standing-sprays/heavenly-sentiments-spray']],\n",
       "   [[642, 0],\n",
       "    [0,\n",
       "     'https://res.cloudinary.com/picasso/image/upload/c_lpad,f_jpg,fl_progressive,h_300,q_auto,w_300/tr6abs1s5y3oazvpsmfe.jpg']],\n",
       "   [[643, 0], [0, \"{'reviewcount': '4', 'ratingvalue': '5.00'}\"]],\n",
       "   [[644, 0], [0, '1394']],\n",
       "   [[645, 0],\n",
       "    [0,\n",
       "     '[{\\'author\\': \\'from -\\', \\'description\\': \\'Arrangement was made beautifully... I was completely satisfied...I truly recommend this service and the flowers. Very Nice Job! Thank you!\\', \\'name\\': \\'Heavenly Sentiments Spray\\', \\'datepublished\\': \\'6/19/2019\\'}, {\\'author\\': \\'from -\\', \\'datepublished\\': \\'7/29/2019\\', \\'name\\': \\'Heavenly Sentiments Spray\\', \\'description\\': \"I ordered the Heavenly Sentiments Spray around 1pm for a same-day delivery. However, I received an email shortly after ordering saying the florist couldn\\'t deliver for same-day. I called the customer service team, and together we were able to find a different florist that make a custom spray (they didn\\'t have orchids) that was perfect, looked twice as big, and really made a statement for the family. I really appreciate the service team going out of their way to call and find a different florist that understood our needs and found a creative way to meet them.\"}, {\\'datepublished\\': \\'12/5/2019\\', \\'description\\': \\'I purchased a spary for the anut of my boss after re viewing a photo online. The cusotmer service was excellent. I recieved several notifications of the arrangement and went sent. After the family viewing, my boss contacted me and stated it was the largest most beautiful arrangement there. I live in NC and am very happy that I received such wonderful service and a beautiful arrangement from this far away. I wish you had a store closer to me. Thank you\\', \\'name\\': \\'Heavenly Sentiments Spray\\', \\'author\\': \\'from Carthage - North Carolina\\'}, {\\'author\\': \\'from -\\', \\'description\\': \\'It looked even prettier in person than in the picture.\\', \\'name\\': \\'Heavenly Sentiments Spray\\', \\'datepublished\\': \\'1/25/2019\\'}]']],\n",
       "   [[646, 0], [0, 'NewCondition']],\n",
       "   [[647, 0],\n",
       "    [0,\n",
       "     \"{'sku': 'T247-2A', 'name': 'Heavenly Sentiments Spray (Standard)', 'url': 'https://www.kingmemorialpark.com/store/standing-sprays/heavenly-sentiments-spray', 'image': 'https://res.cloudinary.com/picasso/image/upload/c_lpad,f_jpg,fl_progressive,h_300,q_auto,w_300/tr6abs1s5y3oazvpsmfe.jpg'}\"]],\n",
       "   [[648, 0],\n",
       "    [0,\n",
       "     'https://www.kingmemorialpark.com/store/delivery-location/heavenly-sentiments-spray']]],\n",
       "  [[[649, 0], [0, '0']],\n",
       "   [[650, 0], [0, 'Heavenly Sentiments Spray']],\n",
       "   [[651, 0],\n",
       "    [0,\n",
       "     \"{'pricecurrency': 'USD', 'lowprice': '202.95', 'highprice': '202.95'}\"]],\n",
       "   [[652, 0],\n",
       "    [0,\n",
       "     'https://www.kingmemorialpark.com/store/standing-sprays/heavenly-sentiments-spray']],\n",
       "   [[653, 0],\n",
       "    [0,\n",
       "     'https://res.cloudinary.com/picasso/image/upload/c_lpad,f_jpg,fl_progressive,h_300,q_auto,w_300/tr6abs1s5y3oazvpsmfe.jpg']],\n",
       "   [[654, 0], [0, \"{'reviewcount': '4', 'ratingvalue': '5.00'}\"]],\n",
       "   [[655, 0], [0, '1394']],\n",
       "   [[656, 0],\n",
       "    [0,\n",
       "     '[{\\'author\\': \\'from -\\', \\'description\\': \\'Arrangement was made beautifully... I was completely satisfied...I truly recommend this service and the flowers. Very Nice Job! Thank you!\\', \\'name\\': \\'Heavenly Sentiments Spray\\', \\'datepublished\\': \\'6/19/2019\\'}, {\\'author\\': \\'from -\\', \\'datepublished\\': \\'7/29/2019\\', \\'name\\': \\'Heavenly Sentiments Spray\\', \\'description\\': \"I ordered the Heavenly Sentiments Spray around 1pm for a same-day delivery. However, I received an email shortly after ordering saying the florist couldn\\'t deliver for same-day. I called the customer service team, and together we were able to find a different florist that make a custom spray (they didn\\'t have orchids) that was perfect, looked twice as big, and really made a statement for the family. I really appreciate the service team going out of their way to call and find a different florist that understood our needs and found a creative way to meet them.\"}, {\\'datepublished\\': \\'12/5/2019\\', \\'description\\': \\'I purchased a spary for the anut of my boss after re viewing a photo online. The cusotmer service was excellent. I recieved several notifications of the arrangement and went sent. After the family viewing, my boss contacted me and stated it was the largest most beautiful arrangement there. I live in NC and am very happy that I received such wonderful service and a beautiful arrangement from this far away. I wish you had a store closer to me. Thank you\\', \\'name\\': \\'Heavenly Sentiments Spray\\', \\'author\\': \\'from Carthage - North Carolina\\'}, {\\'author\\': \\'from -\\', \\'description\\': \\'It looked even prettier in person than in the picture.\\', \\'name\\': \\'Heavenly Sentiments Spray\\', \\'datepublished\\': \\'1/25/2019\\'}]']],\n",
       "   [[657, 0], [0, 'NewCondition']],\n",
       "   [[658, 0],\n",
       "    [0,\n",
       "     \"{'sku': 'T247-2A', 'name': 'Heavenly Sentiments Spray (Standard)', 'url': 'https://www.kingmemorialpark.com/store/standing-sprays/heavenly-sentiments-spray', 'image': 'https://res.cloudinary.com/picasso/image/upload/c_lpad,f_jpg,fl_progressive,h_300,q_auto,w_300/tr6abs1s5y3oazvpsmfe.jpg'}\"]],\n",
       "   [[659, 0],\n",
       "    [0,\n",
       "     'https://www.kingmemorialpark.com/store/delivery-location/heavenly-sentiments-spray']]],\n",
       "  [[[660, 0], [0, '0']],\n",
       "   [[661, 0], [0, 'Heavenly Sentiments Spray']],\n",
       "   [[662, 0],\n",
       "    [0,\n",
       "     \"{'pricecurrency': 'USD', 'lowprice': '202.95', 'highprice': '202.95'}\"]],\n",
       "   [[663, 0],\n",
       "    [0,\n",
       "     'https://www.kingmemorialpark.com/store/standing-sprays/heavenly-sentiments-spray']],\n",
       "   [[664, 0],\n",
       "    [0,\n",
       "     'https://res.cloudinary.com/picasso/image/upload/c_lpad,f_jpg,fl_progressive,h_300,q_auto,w_300/tr6abs1s5y3oazvpsmfe.jpg']],\n",
       "   [[665, 0], [0, \"{'reviewcount': '4', 'ratingvalue': '5.00'}\"]],\n",
       "   [[666, 0], [0, '1394']],\n",
       "   [[667, 0],\n",
       "    [0,\n",
       "     '[{\\'author\\': \\'from -\\', \\'description\\': \\'Arrangement was made beautifully... I was completely satisfied...I truly recommend this service and the flowers. Very Nice Job! Thank you!\\', \\'name\\': \\'Heavenly Sentiments Spray\\', \\'datepublished\\': \\'6/19/2019\\'}, {\\'author\\': \\'from -\\', \\'datepublished\\': \\'7/29/2019\\', \\'name\\': \\'Heavenly Sentiments Spray\\', \\'description\\': \"I ordered the Heavenly Sentiments Spray around 1pm for a same-day delivery. However, I received an email shortly after ordering saying the florist couldn\\'t deliver for same-day. I called the customer service team, and together we were able to find a different florist that make a custom spray (they didn\\'t have orchids) that was perfect, looked twice as big, and really made a statement for the family. I really appreciate the service team going out of their way to call and find a different florist that understood our needs and found a creative way to meet them.\"}, {\\'datepublished\\': \\'12/5/2019\\', \\'description\\': \\'I purchased a spary for the anut of my boss after re viewing a photo online. The cusotmer service was excellent. I recieved several notifications of the arrangement and went sent. After the family viewing, my boss contacted me and stated it was the largest most beautiful arrangement there. I live in NC and am very happy that I received such wonderful service and a beautiful arrangement from this far away. I wish you had a store closer to me. Thank you\\', \\'name\\': \\'Heavenly Sentiments Spray\\', \\'author\\': \\'from Carthage - North Carolina\\'}, {\\'author\\': \\'from -\\', \\'description\\': \\'It looked even prettier in person than in the picture.\\', \\'name\\': \\'Heavenly Sentiments Spray\\', \\'datepublished\\': \\'1/25/2019\\'}]']],\n",
       "   [[668, 0], [0, 'NewCondition']],\n",
       "   [[669, 0],\n",
       "    [0,\n",
       "     \"{'sku': 'T247-2A', 'name': 'Heavenly Sentiments Spray (Standard)', 'url': 'https://www.kingmemorialpark.com/store/standing-sprays/heavenly-sentiments-spray', 'image': 'https://res.cloudinary.com/picasso/image/upload/c_lpad,f_jpg,fl_progressive,h_300,q_auto,w_300/tr6abs1s5y3oazvpsmfe.jpg'}\"]],\n",
       "   [[670, 0],\n",
       "    [0,\n",
       "     'https://www.kingmemorialpark.com/store/delivery-location/heavenly-sentiments-spray']]],\n",
       "  [[[671, 0], [0, '0']],\n",
       "   [[672, 0], [0, 'Heavenly Sentiments Spray']],\n",
       "   [[673, 0],\n",
       "    [0,\n",
       "     \"{'pricecurrency': 'USD', 'lowprice': '202.95', 'highprice': '202.95'}\"]],\n",
       "   [[674, 0],\n",
       "    [0,\n",
       "     'https://www.kingmemorialpark.com/store/standing-sprays/heavenly-sentiments-spray']],\n",
       "   [[675, 0],\n",
       "    [0,\n",
       "     'https://res.cloudinary.com/picasso/image/upload/c_lpad,f_jpg,fl_progressive,h_300,q_auto,w_300/tr6abs1s5y3oazvpsmfe.jpg']],\n",
       "   [[676, 0], [0, \"{'reviewcount': '4', 'ratingvalue': '5.00'}\"]],\n",
       "   [[677, 0], [0, '1394']],\n",
       "   [[678, 0],\n",
       "    [0,\n",
       "     '[{\\'author\\': \\'from -\\', \\'description\\': \\'Arrangement was made beautifully... I was completely satisfied...I truly recommend this service and the flowers. Very Nice Job! Thank you!\\', \\'name\\': \\'Heavenly Sentiments Spray\\', \\'datepublished\\': \\'6/19/2019\\'}, {\\'author\\': \\'from -\\', \\'datepublished\\': \\'7/29/2019\\', \\'name\\': \\'Heavenly Sentiments Spray\\', \\'description\\': \"I ordered the Heavenly Sentiments Spray around 1pm for a same-day delivery. However, I received an email shortly after ordering saying the florist couldn\\'t deliver for same-day. I called the customer service team, and together we were able to find a different florist that make a custom spray (they didn\\'t have orchids) that was perfect, looked twice as big, and really made a statement for the family. I really appreciate the service team going out of their way to call and find a different florist that understood our needs and found a creative way to meet them.\"}, {\\'datepublished\\': \\'12/5/2019\\', \\'description\\': \\'I purchased a spary for the anut of my boss after re viewing a photo online. The cusotmer service was excellent. I recieved several notifications of the arrangement and went sent. After the family viewing, my boss contacted me and stated it was the largest most beautiful arrangement there. I live in NC and am very happy that I received such wonderful service and a beautiful arrangement from this far away. I wish you had a store closer to me. Thank you\\', \\'name\\': \\'Heavenly Sentiments Spray\\', \\'author\\': \\'from Carthage - North Carolina\\'}, {\\'author\\': \\'from -\\', \\'description\\': \\'It looked even prettier in person than in the picture.\\', \\'name\\': \\'Heavenly Sentiments Spray\\', \\'datepublished\\': \\'1/25/2019\\'}]']],\n",
       "   [[679, 0], [0, 'NewCondition']],\n",
       "   [[680, 0],\n",
       "    [0,\n",
       "     \"{'sku': 'T247-2A', 'name': 'Heavenly Sentiments Spray (Standard)', 'url': 'https://www.kingmemorialpark.com/store/standing-sprays/heavenly-sentiments-spray', 'image': 'https://res.cloudinary.com/picasso/image/upload/c_lpad,f_jpg,fl_progressive,h_300,q_auto,w_300/tr6abs1s5y3oazvpsmfe.jpg'}\"]],\n",
       "   [[681, 0],\n",
       "    [0,\n",
       "     'https://www.kingmemorialpark.com/store/delivery-location/heavenly-sentiments-spray']]],\n",
       "  [[[682, 0], [0, '0']],\n",
       "   [[683, 0], [0, 'Heavenly Sentiments Spray']],\n",
       "   [[684, 0],\n",
       "    [0,\n",
       "     \"{'pricecurrency': 'USD', 'lowprice': '202.95', 'highprice': '202.95'}\"]],\n",
       "   [[685, 0],\n",
       "    [0,\n",
       "     'https://www.kingmemorialpark.com/store/standing-sprays/heavenly-sentiments-spray']],\n",
       "   [[686, 0],\n",
       "    [0,\n",
       "     'https://res.cloudinary.com/picasso/image/upload/c_lpad,f_jpg,fl_progressive,h_300,q_auto,w_300/tr6abs1s5y3oazvpsmfe.jpg']],\n",
       "   [[687, 0], [0, \"{'reviewcount': '4', 'ratingvalue': '5.00'}\"]],\n",
       "   [[688, 0], [0, '1394']],\n",
       "   [[689, 0],\n",
       "    [0,\n",
       "     '[{\\'author\\': \\'from -\\', \\'description\\': \\'Arrangement was made beautifully... I was completely satisfied...I truly recommend this service and the flowers. Very Nice Job! Thank you!\\', \\'name\\': \\'Heavenly Sentiments Spray\\', \\'datepublished\\': \\'6/19/2019\\'}, {\\'author\\': \\'from -\\', \\'datepublished\\': \\'7/29/2019\\', \\'name\\': \\'Heavenly Sentiments Spray\\', \\'description\\': \"I ordered the Heavenly Sentiments Spray around 1pm for a same-day delivery. However, I received an email shortly after ordering saying the florist couldn\\'t deliver for same-day. I called the customer service team, and together we were able to find a different florist that make a custom spray (they didn\\'t have orchids) that was perfect, looked twice as big, and really made a statement for the family. I really appreciate the service team going out of their way to call and find a different florist that understood our needs and found a creative way to meet them.\"}, {\\'datepublished\\': \\'12/5/2019\\', \\'description\\': \\'I purchased a spary for the anut of my boss after re viewing a photo online. The cusotmer service was excellent. I recieved several notifications of the arrangement and went sent. After the family viewing, my boss contacted me and stated it was the largest most beautiful arrangement there. I live in NC and am very happy that I received such wonderful service and a beautiful arrangement from this far away. I wish you had a store closer to me. Thank you\\', \\'name\\': \\'Heavenly Sentiments Spray\\', \\'author\\': \\'from Carthage - North Carolina\\'}, {\\'author\\': \\'from -\\', \\'description\\': \\'It looked even prettier in person than in the picture.\\', \\'name\\': \\'Heavenly Sentiments Spray\\', \\'datepublished\\': \\'1/25/2019\\'}]']],\n",
       "   [[690, 0], [0, 'NewCondition']],\n",
       "   [[691, 0],\n",
       "    [0,\n",
       "     \"{'sku': 'T247-2A', 'name': 'Heavenly Sentiments Spray (Standard)', 'url': 'https://www.kingmemorialpark.com/store/standing-sprays/heavenly-sentiments-spray', 'image': 'https://res.cloudinary.com/picasso/image/upload/c_lpad,f_jpg,fl_progressive,h_300,q_auto,w_300/tr6abs1s5y3oazvpsmfe.jpg'}\"]],\n",
       "   [[692, 0],\n",
       "    [0,\n",
       "     'https://www.kingmemorialpark.com/store/delivery-location/heavenly-sentiments-spray']]],\n",
       "  [[[693, 0], [0, '0']],\n",
       "   [[694, 0], [0, 'Heavenly Sentiments Spray']],\n",
       "   [[695, 0],\n",
       "    [0,\n",
       "     \"{'pricecurrency': 'USD', 'lowprice': '202.95', 'highprice': '202.95'}\"]],\n",
       "   [[696, 0],\n",
       "    [0,\n",
       "     'https://www.kingmemorialpark.com/store/standing-sprays/heavenly-sentiments-spray']],\n",
       "   [[697, 0],\n",
       "    [0,\n",
       "     'https://res.cloudinary.com/picasso/image/upload/c_lpad,f_jpg,fl_progressive,h_300,q_auto,w_300/tr6abs1s5y3oazvpsmfe.jpg']],\n",
       "   [[698, 0], [0, \"{'reviewcount': '4', 'ratingvalue': '5.00'}\"]],\n",
       "   [[699, 0], [0, '1394']],\n",
       "   [[700, 0],\n",
       "    [0,\n",
       "     '[{\\'author\\': \\'from -\\', \\'description\\': \\'Arrangement was made beautifully... I was completely satisfied...I truly recommend this service and the flowers. Very Nice Job! Thank you!\\', \\'name\\': \\'Heavenly Sentiments Spray\\', \\'datepublished\\': \\'6/19/2019\\'}, {\\'author\\': \\'from -\\', \\'datepublished\\': \\'7/29/2019\\', \\'name\\': \\'Heavenly Sentiments Spray\\', \\'description\\': \"I ordered the Heavenly Sentiments Spray around 1pm for a same-day delivery. However, I received an email shortly after ordering saying the florist couldn\\'t deliver for same-day. I called the customer service team, and together we were able to find a different florist that make a custom spray (they didn\\'t have orchids) that was perfect, looked twice as big, and really made a statement for the family. I really appreciate the service team going out of their way to call and find a different florist that understood our needs and found a creative way to meet them.\"}, {\\'datepublished\\': \\'12/5/2019\\', \\'description\\': \\'I purchased a spary for the anut of my boss after re viewing a photo online. The cusotmer service was excellent. I recieved several notifications of the arrangement and went sent. After the family viewing, my boss contacted me and stated it was the largest most beautiful arrangement there. I live in NC and am very happy that I received such wonderful service and a beautiful arrangement from this far away. I wish you had a store closer to me. Thank you\\', \\'name\\': \\'Heavenly Sentiments Spray\\', \\'author\\': \\'from Carthage - North Carolina\\'}, {\\'author\\': \\'from -\\', \\'description\\': \\'It looked even prettier in person than in the picture.\\', \\'name\\': \\'Heavenly Sentiments Spray\\', \\'datepublished\\': \\'1/25/2019\\'}]']],\n",
       "   [[701, 0], [0, 'NewCondition']],\n",
       "   [[702, 0],\n",
       "    [0,\n",
       "     \"{'sku': 'T247-2A', 'name': 'Heavenly Sentiments Spray (Standard)', 'url': 'https://www.kingmemorialpark.com/store/standing-sprays/heavenly-sentiments-spray', 'image': 'https://res.cloudinary.com/picasso/image/upload/c_lpad,f_jpg,fl_progressive,h_300,q_auto,w_300/tr6abs1s5y3oazvpsmfe.jpg'}\"]],\n",
       "   [[703, 0],\n",
       "    [0,\n",
       "     'https://www.kingmemorialpark.com/store/delivery-location/heavenly-sentiments-spray']]],\n",
       "  [[[704, 0], [0, '0']],\n",
       "   [[705, 0], [0, 'Heavenly Sentiments Spray']],\n",
       "   [[706, 0],\n",
       "    [0,\n",
       "     \"{'pricecurrency': 'USD', 'lowprice': '202.95', 'highprice': '202.95'}\"]],\n",
       "   [[707, 0],\n",
       "    [0,\n",
       "     'https://www.kingmemorialpark.com/store/standing-sprays/heavenly-sentiments-spray']],\n",
       "   [[708, 0],\n",
       "    [0,\n",
       "     'https://res.cloudinary.com/picasso/image/upload/c_lpad,f_jpg,fl_progressive,h_300,q_auto,w_300/tr6abs1s5y3oazvpsmfe.jpg']],\n",
       "   [[709, 0], [0, \"{'reviewcount': '4', 'ratingvalue': '5.00'}\"]],\n",
       "   [[710, 0], [0, '1394']],\n",
       "   [[711, 0],\n",
       "    [0,\n",
       "     '[{\\'author\\': \\'from -\\', \\'description\\': \\'Arrangement was made beautifully... I was completely satisfied...I truly recommend this service and the flowers. Very Nice Job! Thank you!\\', \\'name\\': \\'Heavenly Sentiments Spray\\', \\'datepublished\\': \\'6/19/2019\\'}, {\\'author\\': \\'from -\\', \\'datepublished\\': \\'7/29/2019\\', \\'name\\': \\'Heavenly Sentiments Spray\\', \\'description\\': \"I ordered the Heavenly Sentiments Spray around 1pm for a same-day delivery. However, I received an email shortly after ordering saying the florist couldn\\'t deliver for same-day. I called the customer service team, and together we were able to find a different florist that make a custom spray (they didn\\'t have orchids) that was perfect, looked twice as big, and really made a statement for the family. I really appreciate the service team going out of their way to call and find a different florist that understood our needs and found a creative way to meet them.\"}, {\\'datepublished\\': \\'12/5/2019\\', \\'description\\': \\'I purchased a spary for the anut of my boss after re viewing a photo online. The cusotmer service was excellent. I recieved several notifications of the arrangement and went sent. After the family viewing, my boss contacted me and stated it was the largest most beautiful arrangement there. I live in NC and am very happy that I received such wonderful service and a beautiful arrangement from this far away. I wish you had a store closer to me. Thank you\\', \\'name\\': \\'Heavenly Sentiments Spray\\', \\'author\\': \\'from Carthage - North Carolina\\'}, {\\'author\\': \\'from -\\', \\'description\\': \\'It looked even prettier in person than in the picture.\\', \\'name\\': \\'Heavenly Sentiments Spray\\', \\'datepublished\\': \\'1/25/2019\\'}]']],\n",
       "   [[712, 0], [0, 'NewCondition']],\n",
       "   [[713, 0],\n",
       "    [0,\n",
       "     \"{'sku': 'T247-2A', 'name': 'Heavenly Sentiments Spray (Standard)', 'url': 'https://www.kingmemorialpark.com/store/standing-sprays/heavenly-sentiments-spray', 'image': 'https://res.cloudinary.com/picasso/image/upload/c_lpad,f_jpg,fl_progressive,h_300,q_auto,w_300/tr6abs1s5y3oazvpsmfe.jpg'}\"]],\n",
       "   [[714, 0],\n",
       "    [0,\n",
       "     'https://www.kingmemorialpark.com/store/delivery-location/heavenly-sentiments-spray']]],\n",
       "  [[[715, 0], [0, '0']],\n",
       "   [[716, 0], [0, 'Heavenly Sentiments Spray']],\n",
       "   [[717, 0],\n",
       "    [0,\n",
       "     \"{'pricecurrency': 'USD', 'lowprice': '202.95', 'highprice': '202.95'}\"]],\n",
       "   [[718, 0],\n",
       "    [0,\n",
       "     'https://www.kingmemorialpark.com/store/standing-sprays/heavenly-sentiments-spray']],\n",
       "   [[719, 0],\n",
       "    [0,\n",
       "     'https://res.cloudinary.com/picasso/image/upload/c_lpad,f_jpg,fl_progressive,h_300,q_auto,w_300/tr6abs1s5y3oazvpsmfe.jpg']],\n",
       "   [[720, 0], [0, \"{'reviewcount': '4', 'ratingvalue': '5.00'}\"]],\n",
       "   [[721, 0], [0, '1394']],\n",
       "   [[722, 0],\n",
       "    [0,\n",
       "     '[{\\'author\\': \\'from -\\', \\'description\\': \\'Arrangement was made beautifully... I was completely satisfied...I truly recommend this service and the flowers. Very Nice Job! Thank you!\\', \\'name\\': \\'Heavenly Sentiments Spray\\', \\'datepublished\\': \\'6/19/2019\\'}, {\\'author\\': \\'from -\\', \\'datepublished\\': \\'7/29/2019\\', \\'name\\': \\'Heavenly Sentiments Spray\\', \\'description\\': \"I ordered the Heavenly Sentiments Spray around 1pm for a same-day delivery. However, I received an email shortly after ordering saying the florist couldn\\'t deliver for same-day. I called the customer service team, and together we were able to find a different florist that make a custom spray (they didn\\'t have orchids) that was perfect, looked twice as big, and really made a statement for the family. I really appreciate the service team going out of their way to call and find a different florist that understood our needs and found a creative way to meet them.\"}, {\\'datepublished\\': \\'12/5/2019\\', \\'description\\': \\'I purchased a spary for the anut of my boss after re viewing a photo online. The cusotmer service was excellent. I recieved several notifications of the arrangement and went sent. After the family viewing, my boss contacted me and stated it was the largest most beautiful arrangement there. I live in NC and am very happy that I received such wonderful service and a beautiful arrangement from this far away. I wish you had a store closer to me. Thank you\\', \\'name\\': \\'Heavenly Sentiments Spray\\', \\'author\\': \\'from Carthage - North Carolina\\'}, {\\'author\\': \\'from -\\', \\'description\\': \\'It looked even prettier in person than in the picture.\\', \\'name\\': \\'Heavenly Sentiments Spray\\', \\'datepublished\\': \\'1/25/2019\\'}]']],\n",
       "   [[723, 0], [0, 'NewCondition']],\n",
       "   [[724, 0],\n",
       "    [0,\n",
       "     \"{'sku': 'T247-2A', 'name': 'Heavenly Sentiments Spray (Standard)', 'url': 'https://www.kingmemorialpark.com/store/standing-sprays/heavenly-sentiments-spray', 'image': 'https://res.cloudinary.com/picasso/image/upload/c_lpad,f_jpg,fl_progressive,h_300,q_auto,w_300/tr6abs1s5y3oazvpsmfe.jpg'}\"]],\n",
       "   [[725, 0],\n",
       "    [0,\n",
       "     'https://www.kingmemorialpark.com/store/delivery-location/heavenly-sentiments-spray']]],\n",
       "  [[[726, 0], [0, '0']],\n",
       "   [[727, 0], [0, 'Heavenly Sentiments Spray']],\n",
       "   [[728, 0],\n",
       "    [0,\n",
       "     \"{'pricecurrency': 'USD', 'lowprice': '202.95', 'highprice': '202.95'}\"]],\n",
       "   [[729, 0],\n",
       "    [0,\n",
       "     'https://www.kingmemorialpark.com/store/standing-sprays/heavenly-sentiments-spray']],\n",
       "   [[730, 0],\n",
       "    [0,\n",
       "     'https://res.cloudinary.com/picasso/image/upload/c_lpad,f_jpg,fl_progressive,h_300,q_auto,w_300/tr6abs1s5y3oazvpsmfe.jpg']],\n",
       "   [[731, 0], [0, \"{'reviewcount': '4', 'ratingvalue': '5.00'}\"]],\n",
       "   [[732, 0], [0, '1394']],\n",
       "   [[733, 0],\n",
       "    [0,\n",
       "     '[{\\'author\\': \\'from -\\', \\'description\\': \\'Arrangement was made beautifully... I was completely satisfied...I truly recommend this service and the flowers. Very Nice Job! Thank you!\\', \\'name\\': \\'Heavenly Sentiments Spray\\', \\'datepublished\\': \\'6/19/2019\\'}, {\\'author\\': \\'from -\\', \\'datepublished\\': \\'7/29/2019\\', \\'name\\': \\'Heavenly Sentiments Spray\\', \\'description\\': \"I ordered the Heavenly Sentiments Spray around 1pm for a same-day delivery. However, I received an email shortly after ordering saying the florist couldn\\'t deliver for same-day. I called the customer service team, and together we were able to find a different florist that make a custom spray (they didn\\'t have orchids) that was perfect, looked twice as big, and really made a statement for the family. I really appreciate the service team going out of their way to call and find a different florist that understood our needs and found a creative way to meet them.\"}, {\\'datepublished\\': \\'12/5/2019\\', \\'description\\': \\'I purchased a spary for the anut of my boss after re viewing a photo online. The cusotmer service was excellent. I recieved several notifications of the arrangement and went sent. After the family viewing, my boss contacted me and stated it was the largest most beautiful arrangement there. I live in NC and am very happy that I received such wonderful service and a beautiful arrangement from this far away. I wish you had a store closer to me. Thank you\\', \\'name\\': \\'Heavenly Sentiments Spray\\', \\'author\\': \\'from Carthage - North Carolina\\'}, {\\'author\\': \\'from -\\', \\'description\\': \\'It looked even prettier in person than in the picture.\\', \\'name\\': \\'Heavenly Sentiments Spray\\', \\'datepublished\\': \\'1/25/2019\\'}]']],\n",
       "   [[734, 0], [0, 'NewCondition']],\n",
       "   [[735, 0],\n",
       "    [0,\n",
       "     \"{'sku': 'T247-2A', 'name': 'Heavenly Sentiments Spray (Standard)', 'url': 'https://www.kingmemorialpark.com/store/standing-sprays/heavenly-sentiments-spray', 'image': 'https://res.cloudinary.com/picasso/image/upload/c_lpad,f_jpg,fl_progressive,h_300,q_auto,w_300/tr6abs1s5y3oazvpsmfe.jpg'}\"]],\n",
       "   [[736, 0],\n",
       "    [0,\n",
       "     'https://www.kingmemorialpark.com/store/delivery-location/heavenly-sentiments-spray']]],\n",
       "  [[[737, 0], [0, '0']],\n",
       "   [[738, 0], [0, 'Heavenly Sentiments Spray']],\n",
       "   [[739, 0],\n",
       "    [0,\n",
       "     \"{'pricecurrency': 'USD', 'lowprice': '202.95', 'highprice': '202.95'}\"]],\n",
       "   [[740, 0],\n",
       "    [0,\n",
       "     'https://www.kingmemorialpark.com/store/standing-sprays/heavenly-sentiments-spray']],\n",
       "   [[741, 0],\n",
       "    [0,\n",
       "     'https://res.cloudinary.com/picasso/image/upload/c_lpad,f_jpg,fl_progressive,h_300,q_auto,w_300/tr6abs1s5y3oazvpsmfe.jpg']],\n",
       "   [[742, 0], [0, \"{'reviewcount': '4', 'ratingvalue': '5.00'}\"]],\n",
       "   [[743, 0], [0, '1394']],\n",
       "   [[744, 0],\n",
       "    [0,\n",
       "     '[{\\'author\\': \\'from -\\', \\'description\\': \\'Arrangement was made beautifully... I was completely satisfied...I truly recommend this service and the flowers. Very Nice Job! Thank you!\\', \\'name\\': \\'Heavenly Sentiments Spray\\', \\'datepublished\\': \\'6/19/2019\\'}, {\\'author\\': \\'from -\\', \\'datepublished\\': \\'7/29/2019\\', \\'name\\': \\'Heavenly Sentiments Spray\\', \\'description\\': \"I ordered the Heavenly Sentiments Spray around 1pm for a same-day delivery. However, I received an email shortly after ordering saying the florist couldn\\'t deliver for same-day. I called the customer service team, and together we were able to find a different florist that make a custom spray (they didn\\'t have orchids) that was perfect, looked twice as big, and really made a statement for the family. I really appreciate the service team going out of their way to call and find a different florist that understood our needs and found a creative way to meet them.\"}, {\\'datepublished\\': \\'12/5/2019\\', \\'description\\': \\'I purchased a spary for the anut of my boss after re viewing a photo online. The cusotmer service was excellent. I recieved several notifications of the arrangement and went sent. After the family viewing, my boss contacted me and stated it was the largest most beautiful arrangement there. I live in NC and am very happy that I received such wonderful service and a beautiful arrangement from this far away. I wish you had a store closer to me. Thank you\\', \\'name\\': \\'Heavenly Sentiments Spray\\', \\'author\\': \\'from Carthage - North Carolina\\'}, {\\'author\\': \\'from -\\', \\'description\\': \\'It looked even prettier in person than in the picture.\\', \\'name\\': \\'Heavenly Sentiments Spray\\', \\'datepublished\\': \\'1/25/2019\\'}]']],\n",
       "   [[745, 0], [0, 'NewCondition']],\n",
       "   [[746, 0],\n",
       "    [0,\n",
       "     \"{'sku': 'T247-2A', 'name': 'Heavenly Sentiments Spray (Standard)', 'url': 'https://www.kingmemorialpark.com/store/standing-sprays/heavenly-sentiments-spray', 'image': 'https://res.cloudinary.com/picasso/image/upload/c_lpad,f_jpg,fl_progressive,h_300,q_auto,w_300/tr6abs1s5y3oazvpsmfe.jpg'}\"]],\n",
       "   [[747, 0],\n",
       "    [0,\n",
       "     'https://www.kingmemorialpark.com/store/delivery-location/heavenly-sentiments-spray']]],\n",
       "  [[[748, 0], [0, '0']],\n",
       "   [[749, 0], [0, 'Heavenly Sentiments Spray']],\n",
       "   [[750, 0],\n",
       "    [0,\n",
       "     \"{'pricecurrency': 'USD', 'lowprice': '202.95', 'highprice': '202.95'}\"]],\n",
       "   [[751, 0],\n",
       "    [0,\n",
       "     'https://www.kingmemorialpark.com/store/standing-sprays/heavenly-sentiments-spray']],\n",
       "   [[752, 0],\n",
       "    [0,\n",
       "     'https://res.cloudinary.com/picasso/image/upload/c_lpad,f_jpg,fl_progressive,h_300,q_auto,w_300/tr6abs1s5y3oazvpsmfe.jpg']],\n",
       "   [[753, 0], [0, \"{'reviewcount': '4', 'ratingvalue': '5.00'}\"]],\n",
       "   [[754, 0], [0, '1394']],\n",
       "   [[755, 0],\n",
       "    [0,\n",
       "     '[{\\'author\\': \\'from -\\', \\'description\\': \\'Arrangement was made beautifully... I was completely satisfied...I truly recommend this service and the flowers. Very Nice Job! Thank you!\\', \\'name\\': \\'Heavenly Sentiments Spray\\', \\'datepublished\\': \\'6/19/2019\\'}, {\\'author\\': \\'from -\\', \\'datepublished\\': \\'7/29/2019\\', \\'name\\': \\'Heavenly Sentiments Spray\\', \\'description\\': \"I ordered the Heavenly Sentiments Spray around 1pm for a same-day delivery. However, I received an email shortly after ordering saying the florist couldn\\'t deliver for same-day. I called the customer service team, and together we were able to find a different florist that make a custom spray (they didn\\'t have orchids) that was perfect, looked twice as big, and really made a statement for the family. I really appreciate the service team going out of their way to call and find a different florist that understood our needs and found a creative way to meet them.\"}, {\\'datepublished\\': \\'12/5/2019\\', \\'description\\': \\'I purchased a spary for the anut of my boss after re viewing a photo online. The cusotmer service was excellent. I recieved several notifications of the arrangement and went sent. After the family viewing, my boss contacted me and stated it was the largest most beautiful arrangement there. I live in NC and am very happy that I received such wonderful service and a beautiful arrangement from this far away. I wish you had a store closer to me. Thank you\\', \\'name\\': \\'Heavenly Sentiments Spray\\', \\'author\\': \\'from Carthage - North Carolina\\'}, {\\'author\\': \\'from -\\', \\'description\\': \\'It looked even prettier in person than in the picture.\\', \\'name\\': \\'Heavenly Sentiments Spray\\', \\'datepublished\\': \\'1/25/2019\\'}]']],\n",
       "   [[756, 0], [0, 'NewCondition']],\n",
       "   [[757, 0],\n",
       "    [0,\n",
       "     \"{'sku': 'T247-2A', 'name': 'Heavenly Sentiments Spray (Standard)', 'url': 'https://www.kingmemorialpark.com/store/standing-sprays/heavenly-sentiments-spray', 'image': 'https://res.cloudinary.com/picasso/image/upload/c_lpad,f_jpg,fl_progressive,h_300,q_auto,w_300/tr6abs1s5y3oazvpsmfe.jpg'}\"]],\n",
       "   [[758, 0],\n",
       "    [0,\n",
       "     'https://www.kingmemorialpark.com/store/delivery-location/heavenly-sentiments-spray']]],\n",
       "  [[[759, 0], [0, '0']],\n",
       "   [[760, 0], [0, 'Heavenly Sentiments Spray']],\n",
       "   [[761, 0],\n",
       "    [0,\n",
       "     \"{'pricecurrency': 'USD', 'lowprice': '202.95', 'highprice': '202.95'}\"]],\n",
       "   [[762, 0],\n",
       "    [0,\n",
       "     'https://www.kingmemorialpark.com/store/standing-sprays/heavenly-sentiments-spray']],\n",
       "   [[763, 0],\n",
       "    [0,\n",
       "     'https://res.cloudinary.com/picasso/image/upload/c_lpad,f_jpg,fl_progressive,h_300,q_auto,w_300/tr6abs1s5y3oazvpsmfe.jpg']],\n",
       "   [[764, 0], [0, \"{'reviewcount': '4', 'ratingvalue': '5.00'}\"]],\n",
       "   [[765, 0], [0, '1394']],\n",
       "   [[766, 0],\n",
       "    [0,\n",
       "     '[{\\'author\\': \\'from -\\', \\'description\\': \\'Arrangement was made beautifully... I was completely satisfied...I truly recommend this service and the flowers. Very Nice Job! Thank you!\\', \\'name\\': \\'Heavenly Sentiments Spray\\', \\'datepublished\\': \\'6/19/2019\\'}, {\\'author\\': \\'from -\\', \\'datepublished\\': \\'7/29/2019\\', \\'name\\': \\'Heavenly Sentiments Spray\\', \\'description\\': \"I ordered the Heavenly Sentiments Spray around 1pm for a same-day delivery. However, I received an email shortly after ordering saying the florist couldn\\'t deliver for same-day. I called the customer service team, and together we were able to find a different florist that make a custom spray (they didn\\'t have orchids) that was perfect, looked twice as big, and really made a statement for the family. I really appreciate the service team going out of their way to call and find a different florist that understood our needs and found a creative way to meet them.\"}, {\\'datepublished\\': \\'12/5/2019\\', \\'description\\': \\'I purchased a spary for the anut of my boss after re viewing a photo online. The cusotmer service was excellent. I recieved several notifications of the arrangement and went sent. After the family viewing, my boss contacted me and stated it was the largest most beautiful arrangement there. I live in NC and am very happy that I received such wonderful service and a beautiful arrangement from this far away. I wish you had a store closer to me. Thank you\\', \\'name\\': \\'Heavenly Sentiments Spray\\', \\'author\\': \\'from Carthage - North Carolina\\'}, {\\'author\\': \\'from -\\', \\'description\\': \\'It looked even prettier in person than in the picture.\\', \\'name\\': \\'Heavenly Sentiments Spray\\', \\'datepublished\\': \\'1/25/2019\\'}]']],\n",
       "   [[767, 0], [0, 'NewCondition']],\n",
       "   [[768, 0],\n",
       "    [0,\n",
       "     \"{'sku': 'T247-2A', 'name': 'Heavenly Sentiments Spray (Standard)', 'url': 'https://www.kingmemorialpark.com/store/standing-sprays/heavenly-sentiments-spray', 'image': 'https://res.cloudinary.com/picasso/image/upload/c_lpad,f_jpg,fl_progressive,h_300,q_auto,w_300/tr6abs1s5y3oazvpsmfe.jpg'}\"]],\n",
       "   [[769, 0],\n",
       "    [0,\n",
       "     'https://www.kingmemorialpark.com/store/delivery-location/heavenly-sentiments-spray']]],\n",
       "  [[[770, 0], [0, '0']],\n",
       "   [[771, 0], [0, 'Heavenly Sentiments Spray']],\n",
       "   [[772, 0],\n",
       "    [0,\n",
       "     \"{'pricecurrency': 'USD', 'lowprice': '202.95', 'highprice': '202.95'}\"]],\n",
       "   [[773, 0],\n",
       "    [0,\n",
       "     'https://www.kingmemorialpark.com/store/standing-sprays/heavenly-sentiments-spray']],\n",
       "   [[774, 0],\n",
       "    [0,\n",
       "     'https://res.cloudinary.com/picasso/image/upload/c_lpad,f_jpg,fl_progressive,h_300,q_auto,w_300/tr6abs1s5y3oazvpsmfe.jpg']],\n",
       "   [[775, 0], [0, \"{'reviewcount': '4', 'ratingvalue': '5.00'}\"]],\n",
       "   [[776, 0], [0, '1394']],\n",
       "   [[777, 0],\n",
       "    [0,\n",
       "     '[{\\'author\\': \\'from -\\', \\'description\\': \\'Arrangement was made beautifully... I was completely satisfied...I truly recommend this service and the flowers. Very Nice Job! Thank you!\\', \\'name\\': \\'Heavenly Sentiments Spray\\', \\'datepublished\\': \\'6/19/2019\\'}, {\\'author\\': \\'from -\\', \\'datepublished\\': \\'7/29/2019\\', \\'name\\': \\'Heavenly Sentiments Spray\\', \\'description\\': \"I ordered the Heavenly Sentiments Spray around 1pm for a same-day delivery. However, I received an email shortly after ordering saying the florist couldn\\'t deliver for same-day. I called the customer service team, and together we were able to find a different florist that make a custom spray (they didn\\'t have orchids) that was perfect, looked twice as big, and really made a statement for the family. I really appreciate the service team going out of their way to call and find a different florist that understood our needs and found a creative way to meet them.\"}, {\\'datepublished\\': \\'12/5/2019\\', \\'description\\': \\'I purchased a spary for the anut of my boss after re viewing a photo online. The cusotmer service was excellent. I recieved several notifications of the arrangement and went sent. After the family viewing, my boss contacted me and stated it was the largest most beautiful arrangement there. I live in NC and am very happy that I received such wonderful service and a beautiful arrangement from this far away. I wish you had a store closer to me. Thank you\\', \\'name\\': \\'Heavenly Sentiments Spray\\', \\'author\\': \\'from Carthage - North Carolina\\'}, {\\'author\\': \\'from -\\', \\'description\\': \\'It looked even prettier in person than in the picture.\\', \\'name\\': \\'Heavenly Sentiments Spray\\', \\'datepublished\\': \\'1/25/2019\\'}]']],\n",
       "   [[778, 0], [0, 'NewCondition']],\n",
       "   [[779, 0],\n",
       "    [0,\n",
       "     \"{'sku': 'T247-2A', 'name': 'Heavenly Sentiments Spray (Standard)', 'url': 'https://www.kingmemorialpark.com/store/standing-sprays/heavenly-sentiments-spray', 'image': 'https://res.cloudinary.com/picasso/image/upload/c_lpad,f_jpg,fl_progressive,h_300,q_auto,w_300/tr6abs1s5y3oazvpsmfe.jpg'}\"]],\n",
       "   [[780, 0],\n",
       "    [0,\n",
       "     'https://www.kingmemorialpark.com/store/delivery-location/heavenly-sentiments-spray']]],\n",
       "  [[[781, 0], [0, '0']],\n",
       "   [[782, 0], [0, 'Heavenly Sentiments Spray']],\n",
       "   [[783, 0],\n",
       "    [0,\n",
       "     \"{'pricecurrency': 'USD', 'lowprice': '202.95', 'highprice': '202.95'}\"]],\n",
       "   [[784, 0],\n",
       "    [0,\n",
       "     'https://www.kingmemorialpark.com/store/standing-sprays/heavenly-sentiments-spray']],\n",
       "   [[785, 0],\n",
       "    [0,\n",
       "     'https://res.cloudinary.com/picasso/image/upload/c_lpad,f_jpg,fl_progressive,h_300,q_auto,w_300/tr6abs1s5y3oazvpsmfe.jpg']],\n",
       "   [[786, 0], [0, \"{'reviewcount': '4', 'ratingvalue': '5.00'}\"]],\n",
       "   [[787, 0], [0, '1394']],\n",
       "   [[788, 0],\n",
       "    [0,\n",
       "     '[{\\'author\\': \\'from -\\', \\'description\\': \\'Arrangement was made beautifully... I was completely satisfied...I truly recommend this service and the flowers. Very Nice Job! Thank you!\\', \\'name\\': \\'Heavenly Sentiments Spray\\', \\'datepublished\\': \\'6/19/2019\\'}, {\\'author\\': \\'from -\\', \\'datepublished\\': \\'7/29/2019\\', \\'name\\': \\'Heavenly Sentiments Spray\\', \\'description\\': \"I ordered the Heavenly Sentiments Spray around 1pm for a same-day delivery. However, I received an email shortly after ordering saying the florist couldn\\'t deliver for same-day. I called the customer service team, and together we were able to find a different florist that make a custom spray (they didn\\'t have orchids) that was perfect, looked twice as big, and really made a statement for the family. I really appreciate the service team going out of their way to call and find a different florist that understood our needs and found a creative way to meet them.\"}, {\\'datepublished\\': \\'12/5/2019\\', \\'description\\': \\'I purchased a spary for the anut of my boss after re viewing a photo online. The cusotmer service was excellent. I recieved several notifications of the arrangement and went sent. After the family viewing, my boss contacted me and stated it was the largest most beautiful arrangement there. I live in NC and am very happy that I received such wonderful service and a beautiful arrangement from this far away. I wish you had a store closer to me. Thank you\\', \\'name\\': \\'Heavenly Sentiments Spray\\', \\'author\\': \\'from Carthage - North Carolina\\'}, {\\'author\\': \\'from -\\', \\'description\\': \\'It looked even prettier in person than in the picture.\\', \\'name\\': \\'Heavenly Sentiments Spray\\', \\'datepublished\\': \\'1/25/2019\\'}]']],\n",
       "   [[789, 0], [0, 'NewCondition']],\n",
       "   [[790, 0],\n",
       "    [0,\n",
       "     \"{'sku': 'T247-2A', 'name': 'Heavenly Sentiments Spray (Standard)', 'url': 'https://www.kingmemorialpark.com/store/standing-sprays/heavenly-sentiments-spray', 'image': 'https://res.cloudinary.com/picasso/image/upload/c_lpad,f_jpg,fl_progressive,h_300,q_auto,w_300/tr6abs1s5y3oazvpsmfe.jpg'}\"]],\n",
       "   [[791, 0],\n",
       "    [0,\n",
       "     'https://www.kingmemorialpark.com/store/delivery-location/heavenly-sentiments-spray']]],\n",
       "  [[[792, 0], [0, '0']],\n",
       "   [[793, 0], [0, 'Heavenly Sentiments Spray']],\n",
       "   [[794, 0],\n",
       "    [0,\n",
       "     \"{'pricecurrency': 'USD', 'lowprice': '202.95', 'highprice': '202.95'}\"]],\n",
       "   [[795, 0],\n",
       "    [0,\n",
       "     'https://www.kingmemorialpark.com/store/standing-sprays/heavenly-sentiments-spray']],\n",
       "   [[796, 0],\n",
       "    [0,\n",
       "     'https://res.cloudinary.com/picasso/image/upload/c_lpad,f_jpg,fl_progressive,h_300,q_auto,w_300/tr6abs1s5y3oazvpsmfe.jpg']],\n",
       "   [[797, 0], [0, \"{'reviewcount': '4', 'ratingvalue': '5.00'}\"]],\n",
       "   [[798, 0], [0, '1394']],\n",
       "   [[799, 0],\n",
       "    [0,\n",
       "     '[{\\'author\\': \\'from -\\', \\'description\\': \\'Arrangement was made beautifully... I was completely satisfied...I truly recommend this service and the flowers. Very Nice Job! Thank you!\\', \\'name\\': \\'Heavenly Sentiments Spray\\', \\'datepublished\\': \\'6/19/2019\\'}, {\\'author\\': \\'from -\\', \\'datepublished\\': \\'7/29/2019\\', \\'name\\': \\'Heavenly Sentiments Spray\\', \\'description\\': \"I ordered the Heavenly Sentiments Spray around 1pm for a same-day delivery. However, I received an email shortly after ordering saying the florist couldn\\'t deliver for same-day. I called the customer service team, and together we were able to find a different florist that make a custom spray (they didn\\'t have orchids) that was perfect, looked twice as big, and really made a statement for the family. I really appreciate the service team going out of their way to call and find a different florist that understood our needs and found a creative way to meet them.\"}, {\\'datepublished\\': \\'12/5/2019\\', \\'description\\': \\'I purchased a spary for the anut of my boss after re viewing a photo online. The cusotmer service was excellent. I recieved several notifications of the arrangement and went sent. After the family viewing, my boss contacted me and stated it was the largest most beautiful arrangement there. I live in NC and am very happy that I received such wonderful service and a beautiful arrangement from this far away. I wish you had a store closer to me. Thank you\\', \\'name\\': \\'Heavenly Sentiments Spray\\', \\'author\\': \\'from Carthage - North Carolina\\'}, {\\'author\\': \\'from -\\', \\'description\\': \\'It looked even prettier in person than in the picture.\\', \\'name\\': \\'Heavenly Sentiments Spray\\', \\'datepublished\\': \\'1/25/2019\\'}]']],\n",
       "   [[800, 0], [0, 'NewCondition']],\n",
       "   [[801, 0],\n",
       "    [0,\n",
       "     \"{'sku': 'T247-2A', 'name': 'Heavenly Sentiments Spray (Standard)', 'url': 'https://www.kingmemorialpark.com/store/standing-sprays/heavenly-sentiments-spray', 'image': 'https://res.cloudinary.com/picasso/image/upload/c_lpad,f_jpg,fl_progressive,h_300,q_auto,w_300/tr6abs1s5y3oazvpsmfe.jpg'}\"]],\n",
       "   [[802, 0],\n",
       "    [0,\n",
       "     'https://www.kingmemorialpark.com/store/delivery-location/heavenly-sentiments-spray']]],\n",
       "  [[[803, 0], [0, '0']],\n",
       "   [[804, 0], [0, 'Heavenly Sentiments Spray']],\n",
       "   [[805, 0],\n",
       "    [0,\n",
       "     \"{'pricecurrency': 'USD', 'lowprice': '202.95', 'highprice': '202.95'}\"]],\n",
       "   [[806, 0],\n",
       "    [0,\n",
       "     'https://www.kingmemorialpark.com/store/standing-sprays/heavenly-sentiments-spray']],\n",
       "   [[807, 0],\n",
       "    [0,\n",
       "     'https://res.cloudinary.com/picasso/image/upload/c_lpad,f_jpg,fl_progressive,h_300,q_auto,w_300/tr6abs1s5y3oazvpsmfe.jpg']],\n",
       "   [[808, 0], [0, \"{'reviewcount': '4', 'ratingvalue': '5.00'}\"]],\n",
       "   [[809, 0], [0, '1394']],\n",
       "   [[810, 0],\n",
       "    [0,\n",
       "     '[{\\'author\\': \\'from -\\', \\'description\\': \\'Arrangement was made beautifully... I was completely satisfied...I truly recommend this service and the flowers. Very Nice Job! Thank you!\\', \\'name\\': \\'Heavenly Sentiments Spray\\', \\'datepublished\\': \\'6/19/2019\\'}, {\\'author\\': \\'from -\\', \\'datepublished\\': \\'7/29/2019\\', \\'name\\': \\'Heavenly Sentiments Spray\\', \\'description\\': \"I ordered the Heavenly Sentiments Spray around 1pm for a same-day delivery. However, I received an email shortly after ordering saying the florist couldn\\'t deliver for same-day. I called the customer service team, and together we were able to find a different florist that make a custom spray (they didn\\'t have orchids) that was perfect, looked twice as big, and really made a statement for the family. I really appreciate the service team going out of their way to call and find a different florist that understood our needs and found a creative way to meet them.\"}, {\\'datepublished\\': \\'12/5/2019\\', \\'description\\': \\'I purchased a spary for the anut of my boss after re viewing a photo online. The cusotmer service was excellent. I recieved several notifications of the arrangement and went sent. After the family viewing, my boss contacted me and stated it was the largest most beautiful arrangement there. I live in NC and am very happy that I received such wonderful service and a beautiful arrangement from this far away. I wish you had a store closer to me. Thank you\\', \\'name\\': \\'Heavenly Sentiments Spray\\', \\'author\\': \\'from Carthage - North Carolina\\'}, {\\'author\\': \\'from -\\', \\'description\\': \\'It looked even prettier in person than in the picture.\\', \\'name\\': \\'Heavenly Sentiments Spray\\', \\'datepublished\\': \\'1/25/2019\\'}]']],\n",
       "   [[811, 0], [0, 'NewCondition']],\n",
       "   [[812, 0],\n",
       "    [0,\n",
       "     \"{'sku': 'T247-2A', 'name': 'Heavenly Sentiments Spray (Standard)', 'url': 'https://www.kingmemorialpark.com/store/standing-sprays/heavenly-sentiments-spray', 'image': 'https://res.cloudinary.com/picasso/image/upload/c_lpad,f_jpg,fl_progressive,h_300,q_auto,w_300/tr6abs1s5y3oazvpsmfe.jpg'}\"]],\n",
       "   [[813, 0],\n",
       "    [0,\n",
       "     'https://www.kingmemorialpark.com/store/delivery-location/heavenly-sentiments-spray']]],\n",
       "  [[[814, 0], [0, '0']],\n",
       "   [[815, 0], [0, 'Heavenly Sentiments Spray']],\n",
       "   [[816, 0],\n",
       "    [0,\n",
       "     \"{'pricecurrency': 'USD', 'lowprice': '202.95', 'highprice': '202.95'}\"]],\n",
       "   [[817, 0],\n",
       "    [0,\n",
       "     'https://www.kingmemorialpark.com/store/standing-sprays/heavenly-sentiments-spray']],\n",
       "   [[818, 0],\n",
       "    [0,\n",
       "     'https://res.cloudinary.com/picasso/image/upload/c_lpad,f_jpg,fl_progressive,h_300,q_auto,w_300/tr6abs1s5y3oazvpsmfe.jpg']],\n",
       "   [[819, 0], [0, \"{'reviewcount': '4', 'ratingvalue': '5.00'}\"]],\n",
       "   [[820, 0], [0, '1394']],\n",
       "   [[821, 0],\n",
       "    [0,\n",
       "     '[{\\'author\\': \\'from -\\', \\'description\\': \\'Arrangement was made beautifully... I was completely satisfied...I truly recommend this service and the flowers. Very Nice Job! Thank you!\\', \\'name\\': \\'Heavenly Sentiments Spray\\', \\'datepublished\\': \\'6/19/2019\\'}, {\\'author\\': \\'from -\\', \\'datepublished\\': \\'7/29/2019\\', \\'name\\': \\'Heavenly Sentiments Spray\\', \\'description\\': \"I ordered the Heavenly Sentiments Spray around 1pm for a same-day delivery. However, I received an email shortly after ordering saying the florist couldn\\'t deliver for same-day. I called the customer service team, and together we were able to find a different florist that make a custom spray (they didn\\'t have orchids) that was perfect, looked twice as big, and really made a statement for the family. I really appreciate the service team going out of their way to call and find a different florist that understood our needs and found a creative way to meet them.\"}, {\\'datepublished\\': \\'12/5/2019\\', \\'description\\': \\'I purchased a spary for the anut of my boss after re viewing a photo online. The cusotmer service was excellent. I recieved several notifications of the arrangement and went sent. After the family viewing, my boss contacted me and stated it was the largest most beautiful arrangement there. I live in NC and am very happy that I received such wonderful service and a beautiful arrangement from this far away. I wish you had a store closer to me. Thank you\\', \\'name\\': \\'Heavenly Sentiments Spray\\', \\'author\\': \\'from Carthage - North Carolina\\'}, {\\'author\\': \\'from -\\', \\'description\\': \\'It looked even prettier in person than in the picture.\\', \\'name\\': \\'Heavenly Sentiments Spray\\', \\'datepublished\\': \\'1/25/2019\\'}]']],\n",
       "   [[822, 0], [0, 'NewCondition']],\n",
       "   [[823, 0],\n",
       "    [0,\n",
       "     \"{'sku': 'T247-2A', 'name': 'Heavenly Sentiments Spray (Standard)', 'url': 'https://www.kingmemorialpark.com/store/standing-sprays/heavenly-sentiments-spray', 'image': 'https://res.cloudinary.com/picasso/image/upload/c_lpad,f_jpg,fl_progressive,h_300,q_auto,w_300/tr6abs1s5y3oazvpsmfe.jpg'}\"]],\n",
       "   [[824, 0],\n",
       "    [0,\n",
       "     'https://www.kingmemorialpark.com/store/delivery-location/heavenly-sentiments-spray']]],\n",
       "  [[[825, 0], [0, '0']],\n",
       "   [[826, 0], [0, 'Heavenly Sentiments Spray']],\n",
       "   [[827, 0],\n",
       "    [0,\n",
       "     \"{'pricecurrency': 'USD', 'lowprice': '202.95', 'highprice': '202.95'}\"]],\n",
       "   [[828, 0],\n",
       "    [0,\n",
       "     'https://www.kingmemorialpark.com/store/standing-sprays/heavenly-sentiments-spray']],\n",
       "   [[829, 0],\n",
       "    [0,\n",
       "     'https://res.cloudinary.com/picasso/image/upload/c_lpad,f_jpg,fl_progressive,h_300,q_auto,w_300/tr6abs1s5y3oazvpsmfe.jpg']],\n",
       "   [[830, 0], [0, \"{'reviewcount': '4', 'ratingvalue': '5.00'}\"]],\n",
       "   [[831, 0], [0, '1394']],\n",
       "   [[832, 0],\n",
       "    [0,\n",
       "     '[{\\'author\\': \\'from -\\', \\'description\\': \\'Arrangement was made beautifully... I was completely satisfied...I truly recommend this service and the flowers. Very Nice Job! Thank you!\\', \\'name\\': \\'Heavenly Sentiments Spray\\', \\'datepublished\\': \\'6/19/2019\\'}, {\\'author\\': \\'from -\\', \\'datepublished\\': \\'7/29/2019\\', \\'name\\': \\'Heavenly Sentiments Spray\\', \\'description\\': \"I ordered the Heavenly Sentiments Spray around 1pm for a same-day delivery. However, I received an email shortly after ordering saying the florist couldn\\'t deliver for same-day. I called the customer service team, and together we were able to find a different florist that make a custom spray (they didn\\'t have orchids) that was perfect, looked twice as big, and really made a statement for the family. I really appreciate the service team going out of their way to call and find a different florist that understood our needs and found a creative way to meet them.\"}, {\\'datepublished\\': \\'12/5/2019\\', \\'description\\': \\'I purchased a spary for the anut of my boss after re viewing a photo online. The cusotmer service was excellent. I recieved several notifications of the arrangement and went sent. After the family viewing, my boss contacted me and stated it was the largest most beautiful arrangement there. I live in NC and am very happy that I received such wonderful service and a beautiful arrangement from this far away. I wish you had a store closer to me. Thank you\\', \\'name\\': \\'Heavenly Sentiments Spray\\', \\'author\\': \\'from Carthage - North Carolina\\'}, {\\'author\\': \\'from -\\', \\'description\\': \\'It looked even prettier in person than in the picture.\\', \\'name\\': \\'Heavenly Sentiments Spray\\', \\'datepublished\\': \\'1/25/2019\\'}]']],\n",
       "   [[833, 0], [0, 'NewCondition']],\n",
       "   [[834, 0],\n",
       "    [0,\n",
       "     \"{'sku': 'T247-2A', 'name': 'Heavenly Sentiments Spray (Standard)', 'url': 'https://www.kingmemorialpark.com/store/standing-sprays/heavenly-sentiments-spray', 'image': 'https://res.cloudinary.com/picasso/image/upload/c_lpad,f_jpg,fl_progressive,h_300,q_auto,w_300/tr6abs1s5y3oazvpsmfe.jpg'}\"]],\n",
       "   [[835, 0],\n",
       "    [0,\n",
       "     'https://www.kingmemorialpark.com/store/delivery-location/heavenly-sentiments-spray']]],\n",
       "  [[[836, 0], [0, '0']],\n",
       "   [[837, 0], [0, 'Heavenly Sentiments Spray']],\n",
       "   [[838, 0],\n",
       "    [0,\n",
       "     \"{'pricecurrency': 'USD', 'lowprice': '202.95', 'highprice': '202.95'}\"]],\n",
       "   [[839, 0],\n",
       "    [0,\n",
       "     'https://www.kingmemorialpark.com/store/standing-sprays/heavenly-sentiments-spray']],\n",
       "   [[840, 0],\n",
       "    [0,\n",
       "     'https://res.cloudinary.com/picasso/image/upload/c_lpad,f_jpg,fl_progressive,h_300,q_auto,w_300/tr6abs1s5y3oazvpsmfe.jpg']],\n",
       "   [[841, 0], [0, \"{'reviewcount': '4', 'ratingvalue': '5.00'}\"]],\n",
       "   [[842, 0], [0, '1394']],\n",
       "   [[843, 0],\n",
       "    [0,\n",
       "     '[{\\'author\\': \\'from -\\', \\'description\\': \\'Arrangement was made beautifully... I was completely satisfied...I truly recommend this service and the flowers. Very Nice Job! Thank you!\\', \\'name\\': \\'Heavenly Sentiments Spray\\', \\'datepublished\\': \\'6/19/2019\\'}, {\\'author\\': \\'from -\\', \\'datepublished\\': \\'7/29/2019\\', \\'name\\': \\'Heavenly Sentiments Spray\\', \\'description\\': \"I ordered the Heavenly Sentiments Spray around 1pm for a same-day delivery. However, I received an email shortly after ordering saying the florist couldn\\'t deliver for same-day. I called the customer service team, and together we were able to find a different florist that make a custom spray (they didn\\'t have orchids) that was perfect, looked twice as big, and really made a statement for the family. I really appreciate the service team going out of their way to call and find a different florist that understood our needs and found a creative way to meet them.\"}, {\\'datepublished\\': \\'12/5/2019\\', \\'description\\': \\'I purchased a spary for the anut of my boss after re viewing a photo online. The cusotmer service was excellent. I recieved several notifications of the arrangement and went sent. After the family viewing, my boss contacted me and stated it was the largest most beautiful arrangement there. I live in NC and am very happy that I received such wonderful service and a beautiful arrangement from this far away. I wish you had a store closer to me. Thank you\\', \\'name\\': \\'Heavenly Sentiments Spray\\', \\'author\\': \\'from Carthage - North Carolina\\'}, {\\'author\\': \\'from -\\', \\'description\\': \\'It looked even prettier in person than in the picture.\\', \\'name\\': \\'Heavenly Sentiments Spray\\', \\'datepublished\\': \\'1/25/2019\\'}]']],\n",
       "   [[844, 0], [0, 'NewCondition']],\n",
       "   [[845, 0],\n",
       "    [0,\n",
       "     \"{'sku': 'T247-2A', 'name': 'Heavenly Sentiments Spray (Standard)', 'url': 'https://www.kingmemorialpark.com/store/standing-sprays/heavenly-sentiments-spray', 'image': 'https://res.cloudinary.com/picasso/image/upload/c_lpad,f_jpg,fl_progressive,h_300,q_auto,w_300/tr6abs1s5y3oazvpsmfe.jpg'}\"]],\n",
       "   [[846, 0],\n",
       "    [0,\n",
       "     'https://www.kingmemorialpark.com/store/delivery-location/heavenly-sentiments-spray']]],\n",
       "  [[[847, 0], [0, '0']],\n",
       "   [[848, 0], [0, 'Heavenly Sentiments Spray']],\n",
       "   [[849, 0],\n",
       "    [0,\n",
       "     \"{'pricecurrency': 'USD', 'lowprice': '202.95', 'highprice': '202.95'}\"]],\n",
       "   [[850, 0],\n",
       "    [0,\n",
       "     'https://www.kingmemorialpark.com/store/standing-sprays/heavenly-sentiments-spray']],\n",
       "   [[851, 0],\n",
       "    [0,\n",
       "     'https://res.cloudinary.com/picasso/image/upload/c_lpad,f_jpg,fl_progressive,h_300,q_auto,w_300/tr6abs1s5y3oazvpsmfe.jpg']],\n",
       "   [[852, 0], [0, \"{'reviewcount': '4', 'ratingvalue': '5.00'}\"]],\n",
       "   [[853, 0], [0, '1394']],\n",
       "   [[854, 0],\n",
       "    [0,\n",
       "     '[{\\'author\\': \\'from -\\', \\'description\\': \\'Arrangement was made beautifully... I was completely satisfied...I truly recommend this service and the flowers. Very Nice Job! Thank you!\\', \\'name\\': \\'Heavenly Sentiments Spray\\', \\'datepublished\\': \\'6/19/2019\\'}, {\\'author\\': \\'from -\\', \\'datepublished\\': \\'7/29/2019\\', \\'name\\': \\'Heavenly Sentiments Spray\\', \\'description\\': \"I ordered the Heavenly Sentiments Spray around 1pm for a same-day delivery. However, I received an email shortly after ordering saying the florist couldn\\'t deliver for same-day. I called the customer service team, and together we were able to find a different florist that make a custom spray (they didn\\'t have orchids) that was perfect, looked twice as big, and really made a statement for the family. I really appreciate the service team going out of their way to call and find a different florist that understood our needs and found a creative way to meet them.\"}, {\\'datepublished\\': \\'12/5/2019\\', \\'description\\': \\'I purchased a spary for the anut of my boss after re viewing a photo online. The cusotmer service was excellent. I recieved several notifications of the arrangement and went sent. After the family viewing, my boss contacted me and stated it was the largest most beautiful arrangement there. I live in NC and am very happy that I received such wonderful service and a beautiful arrangement from this far away. I wish you had a store closer to me. Thank you\\', \\'name\\': \\'Heavenly Sentiments Spray\\', \\'author\\': \\'from Carthage - North Carolina\\'}, {\\'author\\': \\'from -\\', \\'description\\': \\'It looked even prettier in person than in the picture.\\', \\'name\\': \\'Heavenly Sentiments Spray\\', \\'datepublished\\': \\'1/25/2019\\'}]']],\n",
       "   [[855, 0], [0, 'NewCondition']],\n",
       "   [[856, 0],\n",
       "    [0,\n",
       "     \"{'sku': 'T247-2A', 'name': 'Heavenly Sentiments Spray (Standard)', 'url': 'https://www.kingmemorialpark.com/store/standing-sprays/heavenly-sentiments-spray', 'image': 'https://res.cloudinary.com/picasso/image/upload/c_lpad,f_jpg,fl_progressive,h_300,q_auto,w_300/tr6abs1s5y3oazvpsmfe.jpg'}\"]],\n",
       "   [[857, 0],\n",
       "    [0,\n",
       "     'https://www.kingmemorialpark.com/store/delivery-location/heavenly-sentiments-spray']]],\n",
       "  [[[858, 0], [0, '0']],\n",
       "   [[859, 0], [0, 'Heavenly Sentiments Spray']],\n",
       "   [[860, 0],\n",
       "    [0,\n",
       "     \"{'pricecurrency': 'USD', 'lowprice': '202.95', 'highprice': '202.95'}\"]],\n",
       "   [[861, 0],\n",
       "    [0,\n",
       "     'https://www.kingmemorialpark.com/store/standing-sprays/heavenly-sentiments-spray']],\n",
       "   [[862, 0],\n",
       "    [0,\n",
       "     'https://res.cloudinary.com/picasso/image/upload/c_lpad,f_jpg,fl_progressive,h_300,q_auto,w_300/tr6abs1s5y3oazvpsmfe.jpg']],\n",
       "   [[863, 0], [0, \"{'reviewcount': '4', 'ratingvalue': '5.00'}\"]],\n",
       "   [[864, 0], [0, '1394']],\n",
       "   [[865, 0],\n",
       "    [0,\n",
       "     '[{\\'author\\': \\'from -\\', \\'description\\': \\'Arrangement was made beautifully... I was completely satisfied...I truly recommend this service and the flowers. Very Nice Job! Thank you!\\', \\'name\\': \\'Heavenly Sentiments Spray\\', \\'datepublished\\': \\'6/19/2019\\'}, {\\'author\\': \\'from -\\', \\'datepublished\\': \\'7/29/2019\\', \\'name\\': \\'Heavenly Sentiments Spray\\', \\'description\\': \"I ordered the Heavenly Sentiments Spray around 1pm for a same-day delivery. However, I received an email shortly after ordering saying the florist couldn\\'t deliver for same-day. I called the customer service team, and together we were able to find a different florist that make a custom spray (they didn\\'t have orchids) that was perfect, looked twice as big, and really made a statement for the family. I really appreciate the service team going out of their way to call and find a different florist that understood our needs and found a creative way to meet them.\"}, {\\'datepublished\\': \\'12/5/2019\\', \\'description\\': \\'I purchased a spary for the anut of my boss after re viewing a photo online. The cusotmer service was excellent. I recieved several notifications of the arrangement and went sent. After the family viewing, my boss contacted me and stated it was the largest most beautiful arrangement there. I live in NC and am very happy that I received such wonderful service and a beautiful arrangement from this far away. I wish you had a store closer to me. Thank you\\', \\'name\\': \\'Heavenly Sentiments Spray\\', \\'author\\': \\'from Carthage - North Carolina\\'}, {\\'author\\': \\'from -\\', \\'description\\': \\'It looked even prettier in person than in the picture.\\', \\'name\\': \\'Heavenly Sentiments Spray\\', \\'datepublished\\': \\'1/25/2019\\'}]']],\n",
       "   [[866, 0], [0, 'NewCondition']],\n",
       "   [[867, 0],\n",
       "    [0,\n",
       "     \"{'sku': 'T247-2A', 'name': 'Heavenly Sentiments Spray (Standard)', 'url': 'https://www.kingmemorialpark.com/store/standing-sprays/heavenly-sentiments-spray', 'image': 'https://res.cloudinary.com/picasso/image/upload/c_lpad,f_jpg,fl_progressive,h_300,q_auto,w_300/tr6abs1s5y3oazvpsmfe.jpg'}\"]],\n",
       "   [[868, 0],\n",
       "    [0,\n",
       "     'https://www.kingmemorialpark.com/store/delivery-location/heavenly-sentiments-spray']]],\n",
       "  [[[869, 0], [0, '0']],\n",
       "   [[870, 0], [0, 'Heavenly Sentiments Spray']],\n",
       "   [[871, 0],\n",
       "    [0,\n",
       "     \"{'pricecurrency': 'USD', 'lowprice': '202.95', 'highprice': '202.95'}\"]],\n",
       "   [[872, 0],\n",
       "    [0,\n",
       "     'https://www.kingmemorialpark.com/store/standing-sprays/heavenly-sentiments-spray']],\n",
       "   [[873, 0],\n",
       "    [0,\n",
       "     'https://res.cloudinary.com/picasso/image/upload/c_lpad,f_jpg,fl_progressive,h_300,q_auto,w_300/tr6abs1s5y3oazvpsmfe.jpg']],\n",
       "   [[874, 0], [0, \"{'reviewcount': '4', 'ratingvalue': '5.00'}\"]],\n",
       "   [[875, 0], [0, '1394']],\n",
       "   [[876, 0],\n",
       "    [0,\n",
       "     '[{\\'author\\': \\'from -\\', \\'description\\': \\'Arrangement was made beautifully... I was completely satisfied...I truly recommend this service and the flowers. Very Nice Job! Thank you!\\', \\'name\\': \\'Heavenly Sentiments Spray\\', \\'datepublished\\': \\'6/19/2019\\'}, {\\'author\\': \\'from -\\', \\'datepublished\\': \\'7/29/2019\\', \\'name\\': \\'Heavenly Sentiments Spray\\', \\'description\\': \"I ordered the Heavenly Sentiments Spray around 1pm for a same-day delivery. However, I received an email shortly after ordering saying the florist couldn\\'t deliver for same-day. I called the customer service team, and together we were able to find a different florist that make a custom spray (they didn\\'t have orchids) that was perfect, looked twice as big, and really made a statement for the family. I really appreciate the service team going out of their way to call and find a different florist that understood our needs and found a creative way to meet them.\"}, {\\'datepublished\\': \\'12/5/2019\\', \\'description\\': \\'I purchased a spary for the anut of my boss after re viewing a photo online. The cusotmer service was excellent. I recieved several notifications of the arrangement and went sent. After the family viewing, my boss contacted me and stated it was the largest most beautiful arrangement there. I live in NC and am very happy that I received such wonderful service and a beautiful arrangement from this far away. I wish you had a store closer to me. Thank you\\', \\'name\\': \\'Heavenly Sentiments Spray\\', \\'author\\': \\'from Carthage - North Carolina\\'}, {\\'author\\': \\'from -\\', \\'description\\': \\'It looked even prettier in person than in the picture.\\', \\'name\\': \\'Heavenly Sentiments Spray\\', \\'datepublished\\': \\'1/25/2019\\'}]']],\n",
       "   [[877, 0], [0, 'NewCondition']],\n",
       "   [[878, 0],\n",
       "    [0,\n",
       "     \"{'sku': 'T247-2A', 'name': 'Heavenly Sentiments Spray (Standard)', 'url': 'https://www.kingmemorialpark.com/store/standing-sprays/heavenly-sentiments-spray', 'image': 'https://res.cloudinary.com/picasso/image/upload/c_lpad,f_jpg,fl_progressive,h_300,q_auto,w_300/tr6abs1s5y3oazvpsmfe.jpg'}\"]],\n",
       "   [[879, 0],\n",
       "    [0,\n",
       "     'https://www.kingmemorialpark.com/store/delivery-location/heavenly-sentiments-spray']]],\n",
       "  [[[880, 0], [0, '0']],\n",
       "   [[881, 0], [0, 'Heavenly Sentiments Spray']],\n",
       "   [[882, 0],\n",
       "    [0,\n",
       "     \"{'pricecurrency': 'USD', 'lowprice': '202.95', 'highprice': '202.95'}\"]],\n",
       "   [[883, 0],\n",
       "    [0,\n",
       "     'https://www.kingmemorialpark.com/store/standing-sprays/heavenly-sentiments-spray']],\n",
       "   [[884, 0],\n",
       "    [0,\n",
       "     'https://res.cloudinary.com/picasso/image/upload/c_lpad,f_jpg,fl_progressive,h_300,q_auto,w_300/tr6abs1s5y3oazvpsmfe.jpg']],\n",
       "   [[885, 0], [0, \"{'reviewcount': '4', 'ratingvalue': '5.00'}\"]],\n",
       "   [[886, 0], [0, '1394']],\n",
       "   [[887, 0],\n",
       "    [0,\n",
       "     '[{\\'author\\': \\'from -\\', \\'description\\': \\'Arrangement was made beautifully... I was completely satisfied...I truly recommend this service and the flowers. Very Nice Job! Thank you!\\', \\'name\\': \\'Heavenly Sentiments Spray\\', \\'datepublished\\': \\'6/19/2019\\'}, {\\'author\\': \\'from -\\', \\'datepublished\\': \\'7/29/2019\\', \\'name\\': \\'Heavenly Sentiments Spray\\', \\'description\\': \"I ordered the Heavenly Sentiments Spray around 1pm for a same-day delivery. However, I received an email shortly after ordering saying the florist couldn\\'t deliver for same-day. I called the customer service team, and together we were able to find a different florist that make a custom spray (they didn\\'t have orchids) that was perfect, looked twice as big, and really made a statement for the family. I really appreciate the service team going out of their way to call and find a different florist that understood our needs and found a creative way to meet them.\"}, {\\'datepublished\\': \\'12/5/2019\\', \\'description\\': \\'I purchased a spary for the anut of my boss after re viewing a photo online. The cusotmer service was excellent. I recieved several notifications of the arrangement and went sent. After the family viewing, my boss contacted me and stated it was the largest most beautiful arrangement there. I live in NC and am very happy that I received such wonderful service and a beautiful arrangement from this far away. I wish you had a store closer to me. Thank you\\', \\'name\\': \\'Heavenly Sentiments Spray\\', \\'author\\': \\'from Carthage - North Carolina\\'}, {\\'author\\': \\'from -\\', \\'description\\': \\'It looked even prettier in person than in the picture.\\', \\'name\\': \\'Heavenly Sentiments Spray\\', \\'datepublished\\': \\'1/25/2019\\'}]']],\n",
       "   [[888, 0], [0, 'NewCondition']],\n",
       "   [[889, 0],\n",
       "    [0,\n",
       "     \"{'sku': 'T247-2A', 'name': 'Heavenly Sentiments Spray (Standard)', 'url': 'https://www.kingmemorialpark.com/store/standing-sprays/heavenly-sentiments-spray', 'image': 'https://res.cloudinary.com/picasso/image/upload/c_lpad,f_jpg,fl_progressive,h_300,q_auto,w_300/tr6abs1s5y3oazvpsmfe.jpg'}\"]],\n",
       "   [[890, 0],\n",
       "    [0,\n",
       "     'https://www.kingmemorialpark.com/store/delivery-location/heavenly-sentiments-spray']]],\n",
       "  [[[891, 0], [0, '0']],\n",
       "   [[892, 0], [0, 'Heavenly Sentiments Spray']],\n",
       "   [[893, 0],\n",
       "    [0,\n",
       "     \"{'pricecurrency': 'USD', 'lowprice': '202.95', 'highprice': '202.95'}\"]],\n",
       "   [[894, 0],\n",
       "    [0,\n",
       "     'https://www.kingmemorialpark.com/store/standing-sprays/heavenly-sentiments-spray']],\n",
       "   [[895, 0],\n",
       "    [0,\n",
       "     'https://res.cloudinary.com/picasso/image/upload/c_lpad,f_jpg,fl_progressive,h_300,q_auto,w_300/tr6abs1s5y3oazvpsmfe.jpg']],\n",
       "   [[896, 0], [0, \"{'reviewcount': '4', 'ratingvalue': '5.00'}\"]],\n",
       "   [[897, 0], [0, '1394']],\n",
       "   [[898, 0],\n",
       "    [0,\n",
       "     '[{\\'author\\': \\'from -\\', \\'description\\': \\'Arrangement was made beautifully... I was completely satisfied...I truly recommend this service and the flowers. Very Nice Job! Thank you!\\', \\'name\\': \\'Heavenly Sentiments Spray\\', \\'datepublished\\': \\'6/19/2019\\'}, {\\'author\\': \\'from -\\', \\'datepublished\\': \\'7/29/2019\\', \\'name\\': \\'Heavenly Sentiments Spray\\', \\'description\\': \"I ordered the Heavenly Sentiments Spray around 1pm for a same-day delivery. However, I received an email shortly after ordering saying the florist couldn\\'t deliver for same-day. I called the customer service team, and together we were able to find a different florist that make a custom spray (they didn\\'t have orchids) that was perfect, looked twice as big, and really made a statement for the family. I really appreciate the service team going out of their way to call and find a different florist that understood our needs and found a creative way to meet them.\"}, {\\'datepublished\\': \\'12/5/2019\\', \\'description\\': \\'I purchased a spary for the anut of my boss after re viewing a photo online. The cusotmer service was excellent. I recieved several notifications of the arrangement and went sent. After the family viewing, my boss contacted me and stated it was the largest most beautiful arrangement there. I live in NC and am very happy that I received such wonderful service and a beautiful arrangement from this far away. I wish you had a store closer to me. Thank you\\', \\'name\\': \\'Heavenly Sentiments Spray\\', \\'author\\': \\'from Carthage - North Carolina\\'}, {\\'author\\': \\'from -\\', \\'description\\': \\'It looked even prettier in person than in the picture.\\', \\'name\\': \\'Heavenly Sentiments Spray\\', \\'datepublished\\': \\'1/25/2019\\'}]']],\n",
       "   [[899, 0], [0, 'NewCondition']],\n",
       "   [[900, 0],\n",
       "    [0,\n",
       "     \"{'sku': 'T247-2A', 'name': 'Heavenly Sentiments Spray (Standard)', 'url': 'https://www.kingmemorialpark.com/store/standing-sprays/heavenly-sentiments-spray', 'image': 'https://res.cloudinary.com/picasso/image/upload/c_lpad,f_jpg,fl_progressive,h_300,q_auto,w_300/tr6abs1s5y3oazvpsmfe.jpg'}\"]],\n",
       "   [[901, 0],\n",
       "    [0,\n",
       "     'https://www.kingmemorialpark.com/store/delivery-location/heavenly-sentiments-spray']]],\n",
       "  [[[902, 0], [0, '0']],\n",
       "   [[903, 0], [0, 'Heavenly Sentiments Spray']],\n",
       "   [[904, 0],\n",
       "    [0,\n",
       "     \"{'pricecurrency': 'USD', 'lowprice': '202.95', 'highprice': '202.95'}\"]],\n",
       "   [[905, 0],\n",
       "    [0,\n",
       "     'https://www.kingmemorialpark.com/store/standing-sprays/heavenly-sentiments-spray']],\n",
       "   [[906, 0],\n",
       "    [0,\n",
       "     'https://res.cloudinary.com/picasso/image/upload/c_lpad,f_jpg,fl_progressive,h_300,q_auto,w_300/tr6abs1s5y3oazvpsmfe.jpg']],\n",
       "   [[907, 0], [0, \"{'reviewcount': '4', 'ratingvalue': '5.00'}\"]],\n",
       "   [[908, 0], [0, '1394']],\n",
       "   [[909, 0],\n",
       "    [0,\n",
       "     '[{\\'author\\': \\'from -\\', \\'description\\': \\'Arrangement was made beautifully... I was completely satisfied...I truly recommend this service and the flowers. Very Nice Job! Thank you!\\', \\'name\\': \\'Heavenly Sentiments Spray\\', \\'datepublished\\': \\'6/19/2019\\'}, {\\'author\\': \\'from -\\', \\'datepublished\\': \\'7/29/2019\\', \\'name\\': \\'Heavenly Sentiments Spray\\', \\'description\\': \"I ordered the Heavenly Sentiments Spray around 1pm for a same-day delivery. However, I received an email shortly after ordering saying the florist couldn\\'t deliver for same-day. I called the customer service team, and together we were able to find a different florist that make a custom spray (they didn\\'t have orchids) that was perfect, looked twice as big, and really made a statement for the family. I really appreciate the service team going out of their way to call and find a different florist that understood our needs and found a creative way to meet them.\"}, {\\'datepublished\\': \\'12/5/2019\\', \\'description\\': \\'I purchased a spary for the anut of my boss after re viewing a photo online. The cusotmer service was excellent. I recieved several notifications of the arrangement and went sent. After the family viewing, my boss contacted me and stated it was the largest most beautiful arrangement there. I live in NC and am very happy that I received such wonderful service and a beautiful arrangement from this far away. I wish you had a store closer to me. Thank you\\', \\'name\\': \\'Heavenly Sentiments Spray\\', \\'author\\': \\'from Carthage - North Carolina\\'}, {\\'author\\': \\'from -\\', \\'description\\': \\'It looked even prettier in person than in the picture.\\', \\'name\\': \\'Heavenly Sentiments Spray\\', \\'datepublished\\': \\'1/25/2019\\'}]']],\n",
       "   [[910, 0], [0, 'NewCondition']],\n",
       "   [[911, 0],\n",
       "    [0,\n",
       "     \"{'sku': 'T247-2A', 'name': 'Heavenly Sentiments Spray (Standard)', 'url': 'https://www.kingmemorialpark.com/store/standing-sprays/heavenly-sentiments-spray', 'image': 'https://res.cloudinary.com/picasso/image/upload/c_lpad,f_jpg,fl_progressive,h_300,q_auto,w_300/tr6abs1s5y3oazvpsmfe.jpg'}\"]],\n",
       "   [[912, 0],\n",
       "    [0,\n",
       "     'https://www.kingmemorialpark.com/store/delivery-location/heavenly-sentiments-spray']]]]]"
      ]
     },
     "execution_count": 15,
     "metadata": {},
     "output_type": "execute_result"
    }
   ],
   "source": [
    "#table_representation"
   ]
  },
  {
   "cell_type": "code",
   "execution_count": 5,
   "metadata": {},
   "outputs": [
    {
     "name": "stderr",
     "output_type": "stream",
     "text": [
      "  0% (0 of 2444) |                       | Elapsed Time: 0:00:00 ETA:  --:--:--\n"
     ]
    },
    {
     "name": "stdout",
     "output_type": "stream",
     "text": [
      "/Product_kingmemorialpark.com_September2020.json.gz\n",
      "/MusicRecording_bencrosbymusic.com_September2020.json.gz\n",
      "/Product_mycraftystencils.com_September2020.json.gz\n"
     ]
    },
    {
     "name": "stderr",
     "output_type": "stream",
     "text": [
      "  0% (3 of 2444) |                       | Elapsed Time: 0:00:00 ETA:   0:02:56\n",
      "  0% (8 of 2444) |                       | Elapsed Time: 0:00:00 ETA:   0:01:37\n"
     ]
    },
    {
     "name": "stdout",
     "output_type": "stream",
     "text": [
      "/MusicRecording_thesoutherngothicmusic.com_September2020.json.gz\n",
      "/Product_adh.com.vn_September2020.json.gz\n",
      "/MusicRecording_richardpearsonthomas.com_September2020.json.gz\n",
      "/MusicRecording_bellaciaobandaitaliana.com_September2020.json.gz\n",
      "/Event_grpride.org_September2020.json.gz\n",
      "/Person_financial-planning.com_September2020.json.gz\n",
      "/Product_prindo.co.uk_September2020.json.gz\n",
      "/Recipe_parveenskitchen.com_September2020.json.gz\n"
     ]
    },
    {
     "name": "stderr",
     "output_type": "stream",
     "text": [
      "  0% (11 of 2444) |                      | Elapsed Time: 0:00:00 ETA:   0:01:37\n",
      "  0% (16 of 2444) |                      | Elapsed Time: 0:00:00 ETA:   0:01:22\n"
     ]
    },
    {
     "name": "stdout",
     "output_type": "stream",
     "text": [
      "/Product_kaylule.com.tr_September2020.json.gz\n",
      "/LocalBusiness_inaxvn.com_September2020.json.gz\n",
      "/Product_weltpixel.com_September2020.json.gz\n",
      "/MusicRecording_sutildiscos.com_September2020.json.gz\n",
      "/Product_continentalacura.com_September2020.json.gz\n",
      "/Recipe_grapearborbandb.com_September2020.json.gz\n",
      "/Product_joneschevy.com_September2020.json.gz\n",
      "/Event_worldsmarathons.com_September2020.json.gz\n"
     ]
    },
    {
     "name": "stderr",
     "output_type": "stream",
     "text": [
      "  0% (19 of 2444) |                      | Elapsed Time: 0:00:00 ETA:   0:01:41\n",
      "  1% (28 of 2444) |                      | Elapsed Time: 0:00:00 ETA:   0:01:17\n"
     ]
    },
    {
     "name": "stdout",
     "output_type": "stream",
     "text": [
      "/MusicRecording_wallylawder.com_September2020.json.gz\n",
      "/Place_losranchos.org_September2020.json.gz\n",
      "/Recipe_northcoasteats.com_September2020.json.gz\n",
      "/Person_urbanleasing.com_September2020.json.gz\n",
      "/Product_pixilink.com_September2020.json.gz\n",
      "/Product_billjacobsmini.com_September2020.json.gz\n",
      "/Product_dailydongtam.com_September2020.json.gz\n",
      "/Product_redpartyshop.com_September2020.json.gz\n",
      "/Product_socialitelife.com_September2020.json.gz\n",
      "/Product_avecbd.com_September2020.json.gz\n",
      "/Person_primas2.com_September2020.json.gz\n",
      "/MusicRecording_whitenoisemusic.co.uk_September2020.json.gz\n"
     ]
    },
    {
     "name": "stderr",
     "output_type": "stream",
     "text": [
      "  1% (31 of 2444) |                      | Elapsed Time: 0:00:01 ETA:   0:01:18\n",
      "  1% (35 of 2444) |                      | Elapsed Time: 0:00:01 ETA:   0:01:20\n"
     ]
    },
    {
     "name": "stdout",
     "output_type": "stream",
     "text": [
      "/MusicRecording_cindysleemusic.com_September2020.json.gz\n",
      "/Recipe_moinkbox.com_September2020.json.gz\n",
      "/Product_colesauto.net_September2020.json.gz\n",
      "/Book_stephensdrivingschool.co.uk_September2020.json.gz\n",
      "/Product_lex-hesse.com_September2020.json.gz\n"
     ]
    },
    {
     "name": "stderr",
     "output_type": "stream",
     "text": [
      "  1% (36 of 2444) |                      | Elapsed Time: 0:00:01 ETA:   0:01:27\n",
      "  1% (38 of 2444) |                      | Elapsed Time: 0:00:01 ETA:   0:01:29\n"
     ]
    },
    {
     "name": "stdout",
     "output_type": "stream",
     "text": [
      "/CreativeWork_wuileng.org.my_September2020.json.gz\n",
      "/Person_teenswallow.org_September2020.json.gz\n",
      "/Product_drumsonsale.com_September2020.json.gz\n",
      "/Product_bulkapparel.com_September2020.json.gz\n",
      "/MusicRecording_leslietommusic.com_September2020.json.gz\n",
      "/Product_stiiizy.org_September2020.json.gz\n",
      "/CreativeWork_experimentsinopera.com_September2020.json.gz\n"
     ]
    },
    {
     "name": "stderr",
     "output_type": "stream",
     "text": [
      "  1% (43 of 2444) |                      | Elapsed Time: 0:00:01 ETA:   0:01:25\n",
      "  2% (50 of 2444) |                      | Elapsed Time: 0:00:01 ETA:   0:01:19\n"
     ]
    },
    {
     "name": "stdout",
     "output_type": "stream",
     "text": [
      "/MusicRecording_aoifescott.com_September2020.json.gz\n",
      "/Recipe_thecarefreekitchen.com_September2020.json.gz\n",
      "/Product_zoccas.com_September2020.json.gz\n",
      "/Product_diversitechdowndraft.com_September2020.json.gz\n",
      "/MusicRecording_willpreyer.com_September2020.json.gz\n",
      "/MusicRecording_jamesdoreworld.com_September2020.json.gz\n",
      "/Product_wantdo.com_September2020.json.gz\n",
      "/Person_gabelliconnect.com_September2020.json.gz\n",
      "/Product_cardermotors.com_September2020.json.gz\n",
      "/Person_graveslibrary.org_September2020.json.gz\n",
      "/MusicRecording_rudeyna.com_September2020.json.gz\n",
      "/MusicRecording_richkrueger.com_September2020.json.gz\n",
      "/Product_ascentfootwear.com.au_September2020.json.gz\n"
     ]
    },
    {
     "name": "stderr",
     "output_type": "stream",
     "text": [
      "  2% (57 of 2444) |                      | Elapsed Time: 0:00:01 ETA:   0:01:17\n",
      "  2% (62 of 2444) |                      | Elapsed Time: 0:00:01 ETA:   0:01:16\n"
     ]
    },
    {
     "name": "stdout",
     "output_type": "stream",
     "text": [
      "/Recipe_nerdymamma.com_September2020.json.gz\n",
      "/Product_graphite-shop.com_September2020.json.gz\n",
      "/Product_mercadora172.com_September2020.json.gz\n",
      "/Product_churchchoirs.com_September2020.json.gz\n",
      "/MusicRecording_anniestaninec.com_September2020.json.gz\n",
      "/MusicRecording_jasonbravo.com_September2020.json.gz\n",
      "/Event_palacedrumclinic.com_September2020.json.gz\n",
      "/MusicRecording_drunkwithlove.com_September2020.json.gz\n",
      "/Hotel_askagateway.com_September2020.json.gz\n"
     ]
    },
    {
     "name": "stderr",
     "output_type": "stream",
     "text": [
      "  2% (69 of 2444) |                      | Elapsed Time: 0:00:02 ETA:   0:01:10\n"
     ]
    },
    {
     "name": "stdout",
     "output_type": "stream",
     "text": [
      "/Recipe_livelikeyouarerich.com_September2020.json.gz\n",
      "/MusicRecording_shovelheadmusic.com_September2020.json.gz\n",
      "/Event_thelouisiana.net_September2020.json.gz\n",
      "/Product_bensonsappliance.com_September2020.json.gz\n",
      "/Product_jpcomputersolutions.com.au_September2020.json.gz\n",
      "/Event_magdaleneproject.org_September2020.json.gz\n",
      "/CreativeWork_apothecaryrye.co.uk_September2020.json.gz\n",
      "/Person_cornejodayfuneralhome.com_September2020.json.gz\n",
      "/Product_panoramamoveis.com.br_September2020.json.gz\n"
     ]
    },
    {
     "name": "stderr",
     "output_type": "stream",
     "text": [
      "  3% (75 of 2444) |                      | Elapsed Time: 0:00:02 ETA:   0:01:08\n",
      "  3% (78 of 2444) |                      | Elapsed Time: 0:00:02 ETA:   0:01:08\n"
     ]
    },
    {
     "name": "stdout",
     "output_type": "stream",
     "text": [
      "/Event_grandekrewe.com_September2020.json.gz\n",
      "/Event_nulldevice.com_September2020.json.gz\n",
      "/Recipe_eatgathergo.org_September2020.json.gz\n",
      "/Product_shiningtee.com_September2020.json.gz\n",
      "/Product_ksm.com.au_September2020.json.gz\n"
     ]
    },
    {
     "name": "stderr",
     "output_type": "stream",
     "text": [
      "  3% (86 of 2444) |                      | Elapsed Time: 0:00:02 ETA:   0:01:04\n"
     ]
    },
    {
     "name": "stdout",
     "output_type": "stream",
     "text": [
      "/MusicRecording_blackberrywayrecords.com_September2020.json.gz\n",
      "/MusicRecording_kateweekes.com_September2020.json.gz\n",
      "/MusicRecording_gemmaandthejets.com_September2020.json.gz\n",
      "/Product_goldstardistributor.com_September2020.json.gz\n",
      "/Event_work2future.org_September2020.json.gz\n",
      "/MusicRecording_zaksloan.com_September2020.json.gz\n",
      "/Product_brumate.com_September2020.json.gz\n",
      "/MusicRecording_chrisbolint.com_September2020.json.gz\n",
      "/Place_mynortheaster.com_September2020.json.gz\n",
      "/Product_slippermold.com_September2020.json.gz\n",
      "/Hotel_firsthotels.com_September2020.json.gz\n",
      "/CreativeWork_evoqueownersclub.co.uk_September2020.json.gz\n",
      "/Recipe_diabeticfoodie.com_September2020.json.gz\n"
     ]
    },
    {
     "name": "stderr",
     "output_type": "stream",
     "text": [
      "  3% (93 of 2444) |                      | Elapsed Time: 0:00:02 ETA:   0:01:02\n",
      "  3% (96 of 2444) |                      | Elapsed Time: 0:00:02 ETA:   0:01:05\n"
     ]
    },
    {
     "name": "stdout",
     "output_type": "stream",
     "text": [
      "/CreativeWork_joematarese.com_September2020.json.gz\n",
      "/CreativeWork_korygorgani.com_September2020.json.gz\n",
      "/Recipe_cookingwithnonna.com_September2020.json.gz\n",
      "/Hotel_ebooking.com_September2020.json.gz\n",
      "/Product_indiansareecollection.com_September2020.json.gz\n"
     ]
    },
    {
     "name": "stderr",
     "output_type": "stream",
     "text": [
      "  4% (100 of 2444) |                     | Elapsed Time: 0:00:02 ETA:   0:01:06\n"
     ]
    },
    {
     "name": "stdout",
     "output_type": "stream",
     "text": [
      "/Person_lakesidecolonialchapel.com_September2020.json.gz\n",
      "/Place_kozt.com_September2020.json.gz\n",
      "/CreativeWork_useresponse.com_September2020.json.gz\n",
      "/Recipe_cookingborscht.com_September2020.json.gz\n",
      "/CreativeWork_goldwingowners.com_September2020.json.gz\n",
      "/Product_batteryguy.com_September2020.json.gz\n",
      "/MusicRecording_surfcovejazz.com_September2020.json.gz\n",
      "/Product_wallsauce.com_September2020.json.gz\n"
     ]
    },
    {
     "name": "stderr",
     "output_type": "stream",
     "text": [
      "  4% (105 of 2444) |                     | Elapsed Time: 0:00:03 ETA:   0:01:08\n",
      "  4% (112 of 2444) |                     | Elapsed Time: 0:00:03 ETA:   0:01:04\n"
     ]
    },
    {
     "name": "stdout",
     "output_type": "stream",
     "text": [
      "/Person_discovertemple.com_September2020.json.gz\n",
      "/MusicRecording_message-songs.com_September2020.json.gz\n",
      "/Product_sungrubbies.com_September2020.json.gz\n",
      "/Recipe_mazadaar.co.uk_September2020.json.gz\n",
      "/Product_sprayfoampartsandsupplies.com_September2020.json.gz\n",
      "/Product_eleanorrose.co.uk_September2020.json.gz\n",
      "/Product_jameshodgehyundai.com_September2020.json.gz\n",
      "/Product_australianageofdinosaursmuseumshop.com_September2020.json.gz\n",
      "/CreativeWork_boldideaworks.com_September2020.json.gz\n",
      "/Place_abaton.com_September2020.json.gz\n",
      "/Product_totallytapas.com_September2020.json.gz\n",
      "/Recipe_thehungrymouse.com_September2020.json.gz\n"
     ]
    },
    {
     "name": "stderr",
     "output_type": "stream",
     "text": [
      "  4% (118 of 2444) |#                    | Elapsed Time: 0:00:03 ETA:   0:01:03\n",
      "  5% (124 of 2444) |#                    | Elapsed Time: 0:00:03 ETA:   0:01:02\n",
      "  5% (126 of 2444) |#                    | Elapsed Time: 0:00:03 ETA:   0:01:03\n"
     ]
    },
    {
     "name": "stdout",
     "output_type": "stream",
     "text": [
      "/MusicRecording_thesteadywicked.com_September2020.json.gz\n",
      "/LocalBusiness_penrithcitychildcare.com.au_September2020.json.gz\n",
      "/MusicRecording_beasleysbigband.com_September2020.json.gz\n",
      "/Person_lordabbett.com_September2020.json.gz\n",
      "/Person_galatiyachts.com_September2020.json.gz\n",
      "/Product_daixuanauto.com_September2020.json.gz\n",
      "/Product_myfamilymobile.com_September2020.json.gz\n",
      "/Product_finestknown.com_September2020.json.gz\n",
      "/Product_kidsartsventura.org_September2020.json.gz\n",
      "/LocalBusiness_inyourarea.co.uk_September2020.json.gz\n"
     ]
    },
    {
     "name": "stderr",
     "output_type": "stream",
     "text": [
      "  5% (132 of 2444) |#                    | Elapsed Time: 0:00:03 ETA:   0:01:01\n"
     ]
    },
    {
     "name": "stdout",
     "output_type": "stream",
     "text": [
      "/Place_wayahead.org.au_September2020.json.gz\n",
      "/Product_spengel-boulanger.com_September2020.json.gz\n",
      "/Recipe_instapottinwithpoonam.com_September2020.json.gz\n",
      "/Recipe_simplyghee.com_September2020.json.gz\n",
      "/LocalBusiness_momentumsolar.com_September2020.json.gz\n",
      "/Product_klimaworld.com_September2020.json.gz\n",
      "/Person_discoverdecrypt.org.uk_September2020.json.gz\n",
      "/CreativeWork_privatedrivinginstructors.com_September2020.json.gz\n",
      "/Product_cakeboost.com_September2020.json.gz\n"
     ]
    },
    {
     "name": "stderr",
     "output_type": "stream",
     "text": [
      "  5% (136 of 2444) |#                    | Elapsed Time: 0:00:03 ETA:   0:01:02\n",
      "  5% (139 of 2444) |#                    | Elapsed Time: 0:00:04 ETA:   0:01:08\n"
     ]
    },
    {
     "name": "stdout",
     "output_type": "stream",
     "text": [
      "/MusicRecording_luckymudmusic.com_September2020.json.gz\n",
      "/Product_buyaparcel.com_September2020.json.gz\n",
      "/Product_jsumo.com_September2020.json.gz\n",
      "/CreativeWork_arcticchat.com_September2020.json.gz\n"
     ]
    },
    {
     "name": "stderr",
     "output_type": "stream",
     "text": [
      "  5% (140 of 2444) |#                    | Elapsed Time: 0:00:04 ETA:   0:01:14\n",
      "  6% (147 of 2444) |#                    | Elapsed Time: 0:00:04 ETA:   0:01:10\n"
     ]
    },
    {
     "name": "stdout",
     "output_type": "stream",
     "text": [
      "/Product_sluh.org_September2020.json.gz\n",
      "/Product_kidwild.com_September2020.json.gz\n",
      "/Event_visitrolla.com_September2020.json.gz\n",
      "/LocalBusiness_travel-wyoming.com_September2020.json.gz\n",
      "/Product_surtibaby.com_September2020.json.gz\n",
      "/MusicRecording_debbieaslinda.com_September2020.json.gz\n",
      "/Product_epicmiamicondosforsale.com_September2020.json.gz\n",
      "/Book_elejandria.com_September2020.json.gz\n",
      "/MusicRecording_chordslinger.com_September2020.json.gz\n",
      "/MusicRecording_skiveesrock.com_September2020.json.gz\n",
      "/Recipe_africankaya.com_September2020.json.gz\n",
      "/MusicRecording_gyasiaddaemusic.com_September2020.json.gz\n",
      "/CreativeWork_meghiddoarchitects.com_September2020.json.gz\n",
      "/Product_darinarose.co.uk_September2020.json.gz\n",
      "/LocalBusiness_sunriseseniorliving.com_September2020.json.gz\n"
     ]
    },
    {
     "name": "stderr",
     "output_type": "stream",
     "text": [
      "  6% (155 of 2444) |#                    | Elapsed Time: 0:00:04 ETA:   0:01:09\n",
      "  6% (163 of 2444) |#                    | Elapsed Time: 0:00:04 ETA:   0:01:08\n"
     ]
    },
    {
     "name": "stdout",
     "output_type": "stream",
     "text": [
      "/Product_mtnempirecbs.com_September2020.json.gz\n",
      "/LocalBusiness_downloadtexture.com_September2020.json.gz\n",
      "/Product_mycanadianpharmacyrx.com_September2020.json.gz\n",
      "/CreativeWork_crossfitlillestrom.com_September2020.json.gz\n",
      "/Product_stephanies.com.au_September2020.json.gz\n",
      "/MusicRecording_velvetcrushomaha.com_September2020.json.gz\n",
      "/MusicRecording_jimrobertspercussion.com_September2020.json.gz\n",
      "/Product_uhrzeit.org_September2020.json.gz\n",
      "/MusicRecording_theveerunion.com_September2020.json.gz\n",
      "/Recipe_veronikaskitchen.com_September2020.json.gz\n",
      "/Product_wegotthebeatsrecordstore.com_September2020.json.gz\n",
      "/Event_morrisbrownamechurch.org_September2020.json.gz\n",
      "/MusicRecording_learnbluesguitarnow.com_September2020.json.gz\n",
      "/MusicRecording_calvinballimusic.com_September2020.json.gz\n",
      "/Product_spurgeonfh.com_September2020.json.gz\n"
     ]
    },
    {
     "name": "stderr",
     "output_type": "stream",
     "text": [
      "  6% (171 of 2444) |#                    | Elapsed Time: 0:00:04 ETA:   0:01:02\n",
      "  7% (172 of 2444) |#                    | Elapsed Time: 0:00:04 ETA:   0:01:04\n"
     ]
    },
    {
     "name": "stdout",
     "output_type": "stream",
     "text": [
      "/Person_riversidecommunityhospital.com_September2020.json.gz\n",
      "/Product_vaperesources.co.uk_September2020.json.gz\n",
      "/Event_psychodramasingapore.org_September2020.json.gz\n",
      "/Product_wanderingbull.com_September2020.json.gz\n",
      "/Product_sporthopper.com_September2020.json.gz\n"
     ]
    },
    {
     "name": "stderr",
     "output_type": "stream",
     "text": [
      "  7% (175 of 2444) |#                    | Elapsed Time: 0:00:05 ETA:   0:01:04\n",
      "  7% (181 of 2444) |#                    | Elapsed Time: 0:00:05 ETA:   0:01:02\n"
     ]
    },
    {
     "name": "stdout",
     "output_type": "stream",
     "text": [
      "/Product_dalerobertscomics.com_September2020.json.gz\n",
      "/Product_idealcrack.com_September2020.json.gz\n",
      "/CreativeWork_brainwave.org.nz_September2020.json.gz\n",
      "/CreativeWork_simracingdesign.com_September2020.json.gz\n",
      "/Person_bustedoffenders.com_September2020.json.gz\n",
      "/Product_canadiensport.com_September2020.json.gz\n",
      "/Product_dimobasuministros.com_September2020.json.gz\n",
      "/MusicRecording_ringogosv.org_September2020.json.gz\n"
     ]
    },
    {
     "name": "stderr",
     "output_type": "stream",
     "text": [
      "  7% (183 of 2444) |#                    | Elapsed Time: 0:00:05 ETA:   0:01:04\n",
      "  7% (184 of 2444) |#                    | Elapsed Time: 0:00:05 ETA:   0:01:04\n"
     ]
    },
    {
     "name": "stdout",
     "output_type": "stream",
     "text": [
      "/LocalBusiness_healthengine.com.au_September2020.json.gz\n",
      "/Person_transfermarkt.com.br_September2020.json.gz\n"
     ]
    },
    {
     "name": "stderr",
     "output_type": "stream",
     "text": [
      "  7% (186 of 2444) |#                    | Elapsed Time: 0:00:05 ETA:   0:01:04\n",
      "  7% (191 of 2444) |#                    | Elapsed Time: 0:00:05 ETA:   0:01:05\n"
     ]
    },
    {
     "name": "stdout",
     "output_type": "stream",
     "text": [
      "/MusicRecording_clairehamill.co.uk_September2020.json.gz\n",
      "/Product_flordealecrim.com.br_September2020.json.gz\n",
      "/Recipe_pepperhustlemembers.com_September2020.json.gz\n",
      "/Hotel_buyreservations.com_September2020.json.gz\n",
      "/Event_yescorvallis.org_September2020.json.gz\n",
      "/Product_poshresults.com_September2020.json.gz\n",
      "/MusicRecording_kimmiekc.com_September2020.json.gz\n",
      "/Product_mrdive.com.au_September2020.json.gz\n",
      "/Event_amg.org_September2020.json.gz\n",
      "/Recipe_australianmushrooms.com.au_September2020.json.gz\n"
     ]
    },
    {
     "name": "stderr",
     "output_type": "stream",
     "text": [
      "  7% (195 of 2444) |#                    | Elapsed Time: 0:00:05 ETA:   0:01:07\n",
      "  8% (201 of 2444) |#                    | Elapsed Time: 0:00:05 ETA:   0:01:09\n"
     ]
    },
    {
     "name": "stdout",
     "output_type": "stream",
     "text": [
      "/MusicRecording_ken-jacobsen.com_September2020.json.gz\n",
      "/MusicRecording_silvanusslaughter.com_September2020.json.gz\n",
      "/Event_babbacombe-sc.com_September2020.json.gz\n",
      "/Product_landscapersnearme.net.au_September2020.json.gz\n",
      "/Product_earnhardtgenesisofgilbert.com_September2020.json.gz\n",
      "/Product_warbyparker.com_September2020.json.gz\n",
      "/Product_ninija.com.ng_September2020.json.gz\n",
      "/Event_theorientaltheater.com_September2020.json.gz\n",
      "/MusicRecording_theburstandbloom.com_September2020.json.gz\n",
      "/Recipe_spiceeats.com_September2020.json.gz\n",
      "/Product_rosegal.com_September2020.json.gz\n"
     ]
    },
    {
     "name": "stderr",
     "output_type": "stream",
     "text": [
      "  8% (206 of 2444) |#                    | Elapsed Time: 0:00:06 ETA:   0:01:45\n",
      "  8% (214 of 2444) |#                    | Elapsed Time: 0:00:06 ETA:   0:01:45\n"
     ]
    },
    {
     "name": "stdout",
     "output_type": "stream",
     "text": [
      "/Hotel_passyeiffel.com_September2020.json.gz\n",
      "/MusicRecording_wheatus.com_September2020.json.gz\n",
      "/Event_agcmass.org_September2020.json.gz\n",
      "/Event_ashvalechapel.com_September2020.json.gz\n",
      "/Product_gdgames.com.au_September2020.json.gz\n",
      "/Product_jamonadomicilio.com_September2020.json.gz\n",
      "/Person_life-source.org_September2020.json.gz\n",
      "/Product_passitcertify.com_September2020.json.gz\n",
      "/Recipe_diythrill.com_September2020.json.gz\n",
      "/Product_natural-dip.com_September2020.json.gz\n",
      "/Product_trussgenius.com_September2020.json.gz\n"
     ]
    },
    {
     "name": "stderr",
     "output_type": "stream",
     "text": [
      "  8% (217 of 2444) |#                    | Elapsed Time: 0:00:07 ETA:   0:01:41\n",
      "  8% (218 of 2444) |#                    | Elapsed Time: 0:00:07 ETA:   0:01:44\n"
     ]
    },
    {
     "name": "stdout",
     "output_type": "stream",
     "text": [
      "/Product_mothersdaygifts4you.com_September2020.json.gz\n",
      "/LocalBusiness_atlplastic.com_September2020.json.gz\n",
      "/Event_chsnc.org_September2020.json.gz\n",
      "/CreativeWork_studiocdn.com_September2020.json.gz\n",
      "/Product_bookstoreacademy.com_September2020.json.gz\n"
     ]
    },
    {
     "name": "stderr",
     "output_type": "stream",
     "text": [
      "  9% (222 of 2444) |#                    | Elapsed Time: 0:00:07 ETA:   0:01:51\n",
      "  9% (228 of 2444) |#                    | Elapsed Time: 0:00:07 ETA:   0:01:39\n"
     ]
    },
    {
     "name": "stdout",
     "output_type": "stream",
     "text": [
      "/Product_thezone9.com_September2020.json.gz\n",
      "/Product_solarpowernearme.com.au_September2020.json.gz\n",
      "/Recipe_amiablefoods.com_September2020.json.gz\n",
      "/Person_schrader-howell.com_September2020.json.gz\n",
      "/Place_regionalfinance.com_September2020.json.gz\n",
      "/LocalBusiness_printplace.com_September2020.json.gz\n",
      "/Place_berkshires.org_September2020.json.gz\n",
      "/Product_painfulpleasures.com_September2020.json.gz\n",
      "/MusicRecording_patriktanner.com_September2020.json.gz\n"
     ]
    },
    {
     "name": "stderr",
     "output_type": "stream",
     "text": [
      "  9% (232 of 2444) |#                    | Elapsed Time: 0:00:07 ETA:   0:01:37\n",
      "  9% (235 of 2444) |##                   | Elapsed Time: 0:00:07 ETA:   0:01:31\n"
     ]
    },
    {
     "name": "stdout",
     "output_type": "stream",
     "text": [
      "/Product_brtmotorsport.co.uk_September2020.json.gz\n",
      "/CreativeWork_aprosmo.org_September2020.json.gz\n",
      "/Product_vdorepair.com_September2020.json.gz\n",
      "/Product_kubookstore.com_September2020.json.gz\n",
      "/Product_doluduvar.com_September2020.json.gz\n",
      "/Product_mcbridefuneralhometexas.com_September2020.json.gz\n"
     ]
    },
    {
     "name": "stderr",
     "output_type": "stream",
     "text": [
      "  9% (244 of 2444) |##                   | Elapsed Time: 0:00:07 ETA:   0:01:30\n"
     ]
    },
    {
     "name": "stdout",
     "output_type": "stream",
     "text": [
      "/Recipe_aseasyasapplepie.com_September2020.json.gz\n",
      "/Person_buranichfuneralhome.com_September2020.json.gz\n",
      "/Product_mondialautosales.com_September2020.json.gz\n",
      "/MusicRecording_cynthiabrando.com_September2020.json.gz\n",
      "/Product_modelltrans.com_September2020.json.gz\n",
      "/Product_drkennethkim.com_September2020.json.gz\n",
      "/Product_affordablewatersystems.com_September2020.json.gz\n",
      "/Recipe_mayakitchenette.com_September2020.json.gz\n",
      "/MusicRecording_freddiesmusic.com_September2020.json.gz\n",
      "/CreativeWork_eesipeo.com_September2020.json.gz\n"
     ]
    },
    {
     "name": "stderr",
     "output_type": "stream",
     "text": [
      " 10% (247 of 2444) |##                   | Elapsed Time: 0:00:08 ETA:   0:01:47\n",
      " 10% (251 of 2444) |##                   | Elapsed Time: 0:00:08 ETA:   0:01:44\n"
     ]
    },
    {
     "name": "stdout",
     "output_type": "stream",
     "text": [
      "/MusicRecording_aephanemer.com_September2020.json.gz\n",
      "/Product_x4fire.com_September2020.json.gz\n",
      "/Product_dumps4u.com_September2020.json.gz\n",
      "/Person_cheaplivesexwebcam.com_September2020.json.gz\n",
      "/MusicRecording_tarynd.com_September2020.json.gz\n",
      "/Product_kbauthority.com_September2020.json.gz\n"
     ]
    },
    {
     "name": "stderr",
     "output_type": "stream",
     "text": [
      " 10% (253 of 2444) |##                   | Elapsed Time: 0:00:08 ETA:   0:01:47\n",
      " 10% (259 of 2444) |##                   | Elapsed Time: 0:00:08 ETA:   0:01:39\n"
     ]
    },
    {
     "name": "stdout",
     "output_type": "stream",
     "text": [
      "/Event_holyspiritorleans.org_September2020.json.gz\n",
      "/Product_milawholesale.com_September2020.json.gz\n",
      "/Restaurant_afternoonteaonline.co.uk_September2020.json.gz\n",
      "/Product_completenutrition.com_September2020.json.gz\n",
      "/Product_atkinsnorthlandfuneralhome.com_September2020.json.gz\n",
      "/Recipe_absoluteorganic.com.au_September2020.json.gz\n",
      "/Product_jaydenp.com_September2020.json.gz\n",
      "/Product_allpatchstuff.com_September2020.json.gz\n",
      "/Person_bongacams4.com_September2020.json.gz\n",
      "/Product_donghoelle.com_September2020.json.gz\n"
     ]
    },
    {
     "name": "stderr",
     "output_type": "stream",
     "text": [
      " 10% (263 of 2444) |##                   | Elapsed Time: 0:00:08 ETA:   0:01:36\n",
      " 10% (267 of 2444) |##                   | Elapsed Time: 0:00:08 ETA:   0:01:15\n"
     ]
    },
    {
     "name": "stdout",
     "output_type": "stream",
     "text": [
      "/Event_eastshorepgh.com_September2020.json.gz\n",
      "/Product_thoitrangsikimanh.com_September2020.json.gz\n",
      "/MusicRecording_musiclyrics.com_September2020.json.gz\n",
      "/Product_fancybridesmaid.com_September2020.json.gz\n",
      "/Person_videochati.com_September2020.json.gz\n",
      "/Event_oscodachamber.com_September2020.json.gz\n",
      "/Recipe_iwashyoudry.com_September2020.json.gz\n"
     ]
    },
    {
     "name": "stderr",
     "output_type": "stream",
     "text": [
      " 11% (270 of 2444) |##                   | Elapsed Time: 0:00:09 ETA:   0:01:23\n",
      " 11% (273 of 2444) |##                   | Elapsed Time: 0:00:09 ETA:   0:01:20\n"
     ]
    },
    {
     "name": "stdout",
     "output_type": "stream",
     "text": [
      "/Product_laccico.com_September2020.json.gz\n",
      "/MusicRecording_chartsz.com_September2020.json.gz\n",
      "/Product_onlineattire.com_September2020.json.gz\n",
      "/CreativeWork_dideashow.com_September2020.json.gz\n",
      "/Product_iqos.com.ua_September2020.json.gz\n",
      "/Product_geminisound.com_September2020.json.gz\n",
      "/Recipe_thecookncoach.com_September2020.json.gz\n",
      "/Recipe_happycowandme.com_September2020.json.gz\n"
     ]
    },
    {
     "name": "stderr",
     "output_type": "stream",
     "text": [
      " 11% (279 of 2444) |##                   | Elapsed Time: 0:00:09 ETA:   0:01:16\n"
     ]
    },
    {
     "name": "stdout",
     "output_type": "stream",
     "text": [
      "/Hotel_marriottindiaweddings.com_September2020.json.gz\n",
      "/Product_anypromo.com_September2020.json.gz\n"
     ]
    },
    {
     "name": "stderr",
     "output_type": "stream",
     "text": [
      " 11% (280 of 2444) |##                   | Elapsed Time: 0:00:09 ETA:   0:01:35\n",
      " 11% (281 of 2444) |##                   | Elapsed Time: 0:00:09 ETA:   0:01:37\n"
     ]
    },
    {
     "name": "stdout",
     "output_type": "stream",
     "text": [
      "/Product_shop4jp.com_September2020.json.gz\n",
      "/Product_triumphanddisaster.com_September2020.json.gz\n",
      "/Product_tracklightingstore.com_September2020.json.gz\n",
      "/Event_jdsupra.com_September2020.json.gz\n",
      "/Product_fragrancex.com_September2020.json.gz\n"
     ]
    },
    {
     "name": "stderr",
     "output_type": "stream",
     "text": [
      " 11% (285 of 2444) |##                   | Elapsed Time: 0:00:11 ETA:   0:04:20\n",
      " 11% (287 of 2444) |##                   | Elapsed Time: 0:00:11 ETA:   0:05:14\n"
     ]
    },
    {
     "name": "stdout",
     "output_type": "stream",
     "text": [
      "/Product_wearablelife.com.au_September2020.json.gz\n",
      "/Product_carreraworld.com_September2020.json.gz\n",
      "/Event_finnsource.org_September2020.json.gz\n",
      "/CreativeWork_mache.org_September2020.json.gz\n",
      "/LocalBusiness_greeleytree.com_September2020.json.gz\n"
     ]
    },
    {
     "name": "stderr",
     "output_type": "stream",
     "text": [
      " 11% (291 of 2444) |##                   | Elapsed Time: 0:00:11 ETA:   0:06:09\n"
     ]
    },
    {
     "name": "stdout",
     "output_type": "stream",
     "text": [
      "/Person_universaledition.com_September2020.json.gz\n",
      "/MusicRecording_medwyngoodall.com_September2020.json.gz\n",
      "/Product_blacksmithsdepot.com_September2020.json.gz\n",
      "/Product_gardengateknitsewcraft.co.uk_September2020.json.gz\n"
     ]
    },
    {
     "name": "stderr",
     "output_type": "stream",
     "text": [
      " 12% (294 of 2444) |##                   | Elapsed Time: 0:00:11 ETA:   0:05:15\n",
      " 12% (299 of 2444) |##                   | Elapsed Time: 0:00:11 ETA:   0:03:48\n"
     ]
    },
    {
     "name": "stdout",
     "output_type": "stream",
     "text": [
      "/Product_booksonkorea.com_September2020.json.gz\n",
      "/Product_rideontoys4u.co.uk_September2020.json.gz\n",
      "/MusicRecording_raggedcompanyrecordings.com_September2020.json.gz\n",
      "/Product_naughtyharbor.com_September2020.json.gz\n",
      "/CreativeWork_babygest.com_September2020.json.gz\n",
      "/Person_europeantour.com_September2020.json.gz\n"
     ]
    },
    {
     "name": "stderr",
     "output_type": "stream",
     "text": [
      " 12% (302 of 2444) |##                   | Elapsed Time: 0:00:11 ETA:   0:03:33\n"
     ]
    },
    {
     "name": "stdout",
     "output_type": "stream",
     "text": [
      "/Product_viningfuneralhome.com_September2020.json.gz\n",
      "/Product_hippo-deals.com_September2020.json.gz\n",
      "/MusicRecording_thegraveyardshiftradioshow.com_September2020.json.gz\n",
      "/Product_herbalgoodnessco.com_September2020.json.gz\n",
      "/LocalBusiness_akronlife.com_September2020.json.gz\n",
      "/Event_universityuus.org_September2020.json.gz\n",
      "/MusicRecording_selectiverecords.net_September2020.json.gz\n",
      "/Product_eastcoasthydroponics.co.uk_September2020.json.gz\n"
     ]
    },
    {
     "name": "stderr",
     "output_type": "stream",
     "text": [
      " 12% (308 of 2444) |##                   | Elapsed Time: 0:00:11 ETA:   0:02:55\n",
      " 12% (310 of 2444) |##                   | Elapsed Time: 0:00:12 ETA:   0:02:55\n"
     ]
    },
    {
     "name": "stdout",
     "output_type": "stream",
     "text": [
      "/Product_ternovo.com.ua_September2020.json.gz\n",
      "/Product_nhathuoctructuyen.net_September2020.json.gz\n",
      "/LocalBusiness_top-pros.com_September2020.json.gz\n",
      "/MusicRecording_upwellmusic.com_September2020.json.gz\n",
      "/Product_furniture-fair.net_September2020.json.gz\n"
     ]
    },
    {
     "name": "stderr",
     "output_type": "stream",
     "text": [
      " 12% (313 of 2444) |##                   | Elapsed Time: 0:00:12 ETA:   0:02:43\n",
      " 12% (317 of 2444) |##                   | Elapsed Time: 0:00:12 ETA:   0:02:34\n"
     ]
    },
    {
     "name": "stdout",
     "output_type": "stream",
     "text": [
      "/Person_hoyfuneral.com_September2020.json.gz\n",
      "/MusicRecording_mikehendersonmusic.com_September2020.json.gz\n",
      "/Product_sheehynissanofwhitemarsh.com_September2020.json.gz\n",
      "/Recipe_idahopotato.com_September2020.json.gz\n",
      "/Hotel_americansky.co.uk_September2020.json.gz\n",
      "/Recipe_thewholeingredient.com_September2020.json.gz\n",
      "/Product_classicwatch.com_September2020.json.gz\n",
      "/MusicRecording_alfavalova.com_September2020.json.gz\n",
      "/Place_namipierce.org_September2020.json.gz\n",
      "/MusicRecording_getonboardalbum.com_September2020.json.gz\n",
      "/Product_prodirecttennis.com_September2020.json.gz\n"
     ]
    },
    {
     "name": "stderr",
     "output_type": "stream",
     "text": [
      " 13% (324 of 2444) |##                   | Elapsed Time: 0:00:12 ETA:   0:02:36\n",
      " 13% (327 of 2444) |##                   | Elapsed Time: 0:00:13 ETA:   0:02:31\n"
     ]
    },
    {
     "name": "stdout",
     "output_type": "stream",
     "text": [
      "/Product_dogteur.com_September2020.json.gz\n",
      "/Recipe_kingspoultryfarm.com_September2020.json.gz\n",
      "/Product_mediadevil.com_September2020.json.gz\n",
      "/Product_prodirectrunning.com_September2020.json.gz\n"
     ]
    },
    {
     "name": "stderr",
     "output_type": "stream",
     "text": [
      " 13% (328 of 2444) |##                   | Elapsed Time: 0:00:13 ETA:   0:01:42\n"
     ]
    },
    {
     "name": "stdout",
     "output_type": "stream",
     "text": [
      "/Product_beddingcottage.com_September2020.json.gz\n"
     ]
    },
    {
     "name": "stderr",
     "output_type": "stream",
     "text": [
      " 13% (329 of 2444) |##                   | Elapsed Time: 0:00:13 ETA:   0:02:29\n",
      " 13% (335 of 2444) |##                   | Elapsed Time: 0:00:13 ETA:   0:02:13\n"
     ]
    },
    {
     "name": "stdout",
     "output_type": "stream",
     "text": [
      "/Event_icanthrive.org_September2020.json.gz\n",
      "/LocalBusiness_tocbcn.com_September2020.json.gz\n",
      "/Product_southernjarringco.com_September2020.json.gz\n",
      "/Product_led-technik.com.pl_September2020.json.gz\n",
      "/Person_gokushka.com_September2020.json.gz\n",
      "/Person_gladiknow.com_September2020.json.gz\n",
      "/Person_gep.com_September2020.json.gz\n",
      "/Person_worldxxxescorts.com_September2020.json.gz\n",
      "/Event_ignitedbytruth.org_September2020.json.gz\n",
      "/MusicRecording_mannyamusic.com_September2020.json.gz\n",
      "/Event_waytomonte.com_September2020.json.gz\n"
     ]
    },
    {
     "name": "stderr",
     "output_type": "stream",
     "text": [
      " 13% (341 of 2444) |##                   | Elapsed Time: 0:00:14 ETA:   0:02:12\n",
      " 14% (350 of 2444) |###                  | Elapsed Time: 0:00:14 ETA:   0:01:48\n"
     ]
    },
    {
     "name": "stdout",
     "output_type": "stream",
     "text": [
      "/Person_intercemconnect.com_September2020.json.gz\n",
      "/Product_discountbro.com_September2020.json.gz\n",
      "/Hotel_villanovo.com_September2020.json.gz\n",
      "/MusicRecording_solomonkingmusic.com_September2020.json.gz\n",
      "/Person_lhlaw.com_September2020.json.gz\n",
      "/Event_kjemjazz.org_September2020.json.gz\n",
      "/LocalBusiness_asapbailbondsman.com_September2020.json.gz\n",
      "/Person_whe-law.com_September2020.json.gz\n",
      "/Product_powersolutions.org.uk_September2020.json.gz\n",
      "/CreativeWork_kipzio.com_September2020.json.gz\n",
      "/Recipe_jillcastle.com_September2020.json.gz\n",
      "/MusicRecording_pacificsongsmusic.com_September2020.json.gz\n",
      "/Person_topyogis.com_September2020.json.gz\n",
      "/Product_designresearchoptics.com_September2020.json.gz\n"
     ]
    },
    {
     "name": "stderr",
     "output_type": "stream",
     "text": [
      " 14% (355 of 2444) |###                  | Elapsed Time: 0:00:14 ETA:   0:01:41\n",
      " 14% (359 of 2444) |###                  | Elapsed Time: 0:00:14 ETA:   0:01:41\n"
     ]
    },
    {
     "name": "stdout",
     "output_type": "stream",
     "text": [
      "/MusicRecording_younglyric.com_September2020.json.gz\n",
      "/CreativeWork_gotransformance.com_September2020.json.gz\n",
      "/Event_etkinlik.com.tr_September2020.json.gz\n",
      "/LocalBusiness_budgetbrake.com_September2020.json.gz\n",
      "/Product_masmusculo.com_September2020.json.gz\n",
      "/CreativeWork_thirdwaycafe.org_September2020.json.gz\n",
      "/Product_gpexpressauto.com_September2020.json.gz\n",
      "/MusicRecording_chriscoopersongs.com_September2020.json.gz\n",
      "/LocalBusiness_bizofit.com_September2020.json.gz\n"
     ]
    },
    {
     "name": "stderr",
     "output_type": "stream",
     "text": [
      " 14% (364 of 2444) |###                  | Elapsed Time: 0:00:14 ETA:   0:01:36\n"
     ]
    },
    {
     "name": "stdout",
     "output_type": "stream",
     "text": [
      "/Product_doubledaggersae.com_September2020.json.gz\n",
      "/MusicRecording_kylematthews.com_September2020.json.gz\n",
      "/Product_touchdowngifts.com_September2020.json.gz\n"
     ]
    },
    {
     "name": "stderr",
     "output_type": "stream",
     "text": [
      " 14% (366 of 2444) |###                  | Elapsed Time: 0:00:14 ETA:   0:01:37\n"
     ]
    },
    {
     "name": "stdout",
     "output_type": "stream",
     "text": [
      "/Book_loqueleo.com_September2020.json.gz\n",
      "/CreativeWork_midweststickershop.com_September2020.json.gz\n",
      "/Recipe_lacucinaitaliana.com_September2020.json.gz\n"
     ]
    },
    {
     "name": "stderr",
     "output_type": "stream",
     "text": [
      " 15% (369 of 2444) |###                  | Elapsed Time: 0:00:14 ETA:   0:01:40\n"
     ]
    },
    {
     "name": "stdout",
     "output_type": "stream",
     "text": [
      "/Product_rcjaz.com_September2020.json.gz\n",
      "/Product_aromedica.com_September2020.json.gz\n",
      "/Product_freemusicprojects.com_September2020.json.gz\n"
     ]
    },
    {
     "name": "stderr",
     "output_type": "stream",
     "text": [
      " 15% (372 of 2444) |###                  | Elapsed Time: 0:00:15 ETA:   0:01:35\n",
      " 15% (375 of 2444) |###                  | Elapsed Time: 0:00:15 ETA:   0:01:31\n"
     ]
    },
    {
     "name": "stdout",
     "output_type": "stream",
     "text": [
      "/CreativeWork_loseatachieve.com_September2020.json.gz\n",
      "/Product_chowchowshirt.com_September2020.json.gz\n",
      "/Product_yumikim.com_September2020.json.gz\n",
      "/Event_mouterehills.org.nz_September2020.json.gz\n",
      "/Product_nextbatteries.com_September2020.json.gz\n"
     ]
    },
    {
     "name": "stderr",
     "output_type": "stream",
     "text": [
      " 15% (377 of 2444) |###                  | Elapsed Time: 0:00:15 ETA:   0:01:34\n",
      " 15% (385 of 2444) |###                  | Elapsed Time: 0:00:15 ETA:   0:01:24\n"
     ]
    },
    {
     "name": "stdout",
     "output_type": "stream",
     "text": [
      "/Product_wlbstore.com.br_September2020.json.gz\n",
      "/Product_acdcco.com_September2020.json.gz\n",
      "/Product_no1como.com_September2020.json.gz\n",
      "/MusicRecording_dahirsch.com_September2020.json.gz\n",
      "/Place_fow.org_September2020.json.gz\n",
      "/MusicRecording_hyefamily.com_September2020.json.gz\n",
      "/Event_access2independence.org_September2020.json.gz\n",
      "/Product_glimebox.com_September2020.json.gz\n",
      "/Person_copelandhammerl.com_September2020.json.gz\n",
      "/Recipe_zevia.com_September2020.json.gz\n",
      "/Product_toysoldierco.com_September2020.json.gz\n"
     ]
    },
    {
     "name": "stderr",
     "output_type": "stream",
     "text": [
      " 15% (388 of 2444) |###                  | Elapsed Time: 0:00:15 ETA:   0:01:12\n",
      " 15% (390 of 2444) |###                  | Elapsed Time: 0:00:15 ETA:   0:01:16\n"
     ]
    },
    {
     "name": "stdout",
     "output_type": "stream",
     "text": [
      "/Product_furiouscustoms.com_September2020.json.gz\n",
      "/Product_goodrubychristian.com_September2020.json.gz\n",
      "/Event_convergencecoaching.com_September2020.json.gz\n",
      "/Place_harvestcity.org_September2020.json.gz\n",
      "/MusicRecording_macsmn.org_September2020.json.gz\n",
      "/Event_317area.com_September2020.json.gz\n",
      "/MusicRecording_violingrrl.com_September2020.json.gz\n",
      "/MusicRecording_acerting.com_September2020.json.gz\n"
     ]
    },
    {
     "name": "stderr",
     "output_type": "stream",
     "text": [
      " 16% (398 of 2444) |###                  | Elapsed Time: 0:00:16 ETA:   0:01:14\n",
      " 16% (400 of 2444) |###                  | Elapsed Time: 0:00:16 ETA:   0:01:24\n"
     ]
    },
    {
     "name": "stdout",
     "output_type": "stream",
     "text": [
      "/MusicRecording_daniellehowle.com_September2020.json.gz\n",
      "/Product_order2india.com_September2020.json.gz\n",
      "/Product_stanlyappliance.com_September2020.json.gz\n",
      "/CreativeWork_okita-naika.com_September2020.json.gz\n",
      "/Product_quirkvwnh.com_September2020.json.gz\n",
      "/Product_abraa.com_September2020.json.gz\n"
     ]
    },
    {
     "name": "stderr",
     "output_type": "stream",
     "text": [
      " 16% (402 of 2444) |###                  | Elapsed Time: 0:00:16 ETA:   0:01:31\n",
      " 16% (407 of 2444) |###                  | Elapsed Time: 0:00:16 ETA:   0:01:28\n"
     ]
    },
    {
     "name": "stdout",
     "output_type": "stream",
     "text": [
      "/Person_austinhomesearch.com_September2020.json.gz\n",
      "/Event_uvconsultants.com_September2020.json.gz\n",
      "/Event_valhallatouring.com_September2020.json.gz\n",
      "/Product_ponnobd.com_September2020.json.gz\n",
      "/Product_bebitalia.com_September2020.json.gz\n",
      "/Book_libreriarivendel.com_September2020.json.gz\n"
     ]
    },
    {
     "name": "stderr",
     "output_type": "stream",
     "text": [
      " 16% (408 of 2444) |###                  | Elapsed Time: 0:00:16 ETA:   0:01:35\n",
      " 17% (416 of 2444) |###                  | Elapsed Time: 0:00:16 ETA:   0:01:22\n"
     ]
    },
    {
     "name": "stdout",
     "output_type": "stream",
     "text": [
      "/MusicRecording_lennysendersky.com_September2020.json.gz\n",
      "/MusicRecording_carriemorrisonmusic.com_September2020.json.gz\n",
      "/MusicRecording_whitecollarsideshow.com_September2020.json.gz\n",
      "/MusicRecording_thebonnevilles.co.uk_September2020.json.gz\n",
      "/Product_shophicksmaytag.com_September2020.json.gz\n",
      "/MusicRecording_theteetones.com_September2020.json.gz\n",
      "/Product_waclightingshop.com_September2020.json.gz\n",
      "/Product_banaby.co.uk_September2020.json.gz\n",
      "/Hotel_jdwetherspoon.com_September2020.json.gz\n",
      "/CreativeWork_awesomegifs.com_September2020.json.gz\n"
     ]
    },
    {
     "name": "stderr",
     "output_type": "stream",
     "text": [
      " 17% (418 of 2444) |###                  | Elapsed Time: 0:00:17 ETA:   0:01:39\n",
      " 17% (426 of 2444) |###                  | Elapsed Time: 0:00:17 ETA:   0:01:24\n"
     ]
    },
    {
     "name": "stdout",
     "output_type": "stream",
     "text": [
      "/Product_sancakmodel.com_September2020.json.gz\n",
      "/Product_lot7474.com_September2020.json.gz\n",
      "/MusicRecording_carolewalkermusic.com_September2020.json.gz\n",
      "/Product_board-club.com.ua_September2020.json.gz\n",
      "/CreativeWork_dtcclearning.com_September2020.json.gz\n",
      "/Event_hijrah.org_September2020.json.gz\n",
      "/CreativeWork_phc-mc.org_September2020.json.gz\n",
      "/Event_bohemianhall.com_September2020.json.gz\n",
      "/Product_schrikdraad.com_September2020.json.gz\n",
      "/Product_tiendadebelleza.com.mx_September2020.json.gz\n",
      "/LocalBusiness_covingtonyellowpages.com_September2020.json.gz\n"
     ]
    },
    {
     "name": "stderr",
     "output_type": "stream",
     "text": [
      " 17% (429 of 2444) |###                  | Elapsed Time: 0:00:17 ETA:   0:01:34\n",
      " 17% (432 of 2444) |###                  | Elapsed Time: 0:00:17 ETA:   0:01:36\n"
     ]
    },
    {
     "name": "stdout",
     "output_type": "stream",
     "text": [
      "/MusicAlbum_wolfgangs.com_September2020.json.gz\n",
      "/Product_axesstrading.com.au_September2020.json.gz\n",
      "/Product_x-on.com.au_September2020.json.gz\n",
      "/Product_southsidemarket.com_September2020.json.gz\n"
     ]
    },
    {
     "name": "stderr",
     "output_type": "stream",
     "text": [
      " 17% (438 of 2444) |###                  | Elapsed Time: 0:00:17 ETA:   0:01:20\n",
      " 18% (442 of 2444) |###                  | Elapsed Time: 0:00:17 ETA:   0:01:18\n"
     ]
    },
    {
     "name": "stdout",
     "output_type": "stream",
     "text": [
      "/Product_feathersmart.com_September2020.json.gz\n",
      "/Recipe_purelyflourish.com_September2020.json.gz\n",
      "/Product_votch.co.uk_September2020.json.gz\n",
      "/LocalBusiness_uslawns.com_September2020.json.gz\n",
      "/CreativeWork_bendigopropertyoptions.com.au_September2020.json.gz\n",
      "/Event_ostomy.org_September2020.json.gz\n",
      "/Product_emmi-dent.com_September2020.json.gz\n",
      "/Recipe_bakerbettie.com_September2020.json.gz\n",
      "/Product_evokedeals.com_September2020.json.gz\n",
      "/CreativeWork_cdf1.com_September2020.json.gz\n"
     ]
    },
    {
     "name": "stderr",
     "output_type": "stream",
     "text": [
      " 18% (447 of 2444) |###                  | Elapsed Time: 0:00:18 ETA:   0:01:13\n"
     ]
    },
    {
     "name": "stdout",
     "output_type": "stream",
     "text": [
      "/Product_citytoyota.com_September2020.json.gz\n",
      "/Product_dsnepal.com_September2020.json.gz\n",
      "/CreativeWork_huntvalveactuators.com_September2020.json.gz\n",
      "/Recipe_wholetarian.com_September2020.json.gz\n",
      "/Recipe_beefeatergin.com_September2020.json.gz\n",
      "/MusicRecording_hickorygrovequartet.com_September2020.json.gz\n",
      "/Product_scorebmwparts.com_September2020.json.gz\n",
      "/LocalBusiness_mybridgeradio.net_September2020.json.gz\n",
      "/CreativeWork_marlerclark.com_September2020.json.gz\n",
      "/Product_modfuelwholesale.com_September2020.json.gz\n"
     ]
    },
    {
     "name": "stderr",
     "output_type": "stream",
     "text": [
      " 18% (453 of 2444) |###                  | Elapsed Time: 0:00:18 ETA:   0:01:16\n",
      " 18% (457 of 2444) |###                  | Elapsed Time: 0:00:18 ETA:   0:01:12\n"
     ]
    },
    {
     "name": "stdout",
     "output_type": "stream",
     "text": [
      "/Event_asafeplaceforhelp.org_September2020.json.gz\n",
      "/Product_coeursports.com_September2020.json.gz\n",
      "/Product_chucknash.com_September2020.json.gz\n",
      "/Restaurant_512area.com_September2020.json.gz\n",
      "/LocalBusiness_travel-british-columbia.com_September2020.json.gz\n",
      "/MusicAlbum_anghami.com_September2020.json.gz\n"
     ]
    },
    {
     "name": "stderr",
     "output_type": "stream",
     "text": [
      " 18% (459 of 2444) |###                  | Elapsed Time: 0:00:18 ETA:   0:01:37\n",
      " 18% (463 of 2444) |###                  | Elapsed Time: 0:00:18 ETA:   0:01:33\n"
     ]
    },
    {
     "name": "stdout",
     "output_type": "stream",
     "text": [
      "/Product_agrojd.com_September2020.json.gz\n",
      "/Product_nauticaelanzuelo.com.ar_September2020.json.gz\n",
      "/Product_zeetoner.com_September2020.json.gz\n",
      "/CreativeWork_benuegirlsarebeautiful.com_September2020.json.gz\n",
      "/Recipe_nomnompaleo.com_September2020.json.gz\n"
     ]
    },
    {
     "name": "stderr",
     "output_type": "stream",
     "text": [
      " 18% (464 of 2444) |###                  | Elapsed Time: 0:00:18 ETA:   0:01:35\n",
      " 19% (470 of 2444) |####                 | Elapsed Time: 0:00:19 ETA:   0:01:28\n"
     ]
    },
    {
     "name": "stdout",
     "output_type": "stream",
     "text": [
      "/Recipe_angelicbakehouse.com_September2020.json.gz\n",
      "/Person_coatsfuneralhome.com_September2020.json.gz\n",
      "/Product_casual-sunglasses.com_September2020.json.gz\n",
      "/Recipe_grilln4peace.org_September2020.json.gz\n",
      "/Product_ecosmart-fire.com.cn_September2020.json.gz\n",
      "/MusicRecording_czechandthensome.com_September2020.json.gz\n",
      "/Recipe_urbanfoodiekitchen.com_September2020.json.gz\n",
      "/Product_roxy.com.sg_September2020.json.gz\n",
      "/Product_cheekywipes.com_September2020.json.gz\n"
     ]
    },
    {
     "name": "stderr",
     "output_type": "stream",
     "text": [
      " 19% (473 of 2444) |####                 | Elapsed Time: 0:00:19 ETA:   0:01:27\n",
      " 19% (476 of 2444) |####                 | Elapsed Time: 0:00:19 ETA:   0:01:09\n"
     ]
    },
    {
     "name": "stdout",
     "output_type": "stream",
     "text": [
      "/MusicRecording_michellerose.com_September2020.json.gz\n",
      "/Product_eletropeldistribuidora.com.br_September2020.json.gz\n",
      "/LocalBusiness_katalozi.net_September2020.json.gz\n",
      "/Person_donnellanfuneral.com_September2020.json.gz\n",
      "/Product_peterselite.com_September2020.json.gz\n",
      "/LocalBusiness_pcarshops.com_September2020.json.gz\n"
     ]
    },
    {
     "name": "stderr",
     "output_type": "stream",
     "text": [
      " 19% (479 of 2444) |####                 | Elapsed Time: 0:00:19 ETA:   0:01:17\n",
      " 19% (485 of 2444) |####                 | Elapsed Time: 0:00:19 ETA:   0:01:13\n"
     ]
    },
    {
     "name": "stdout",
     "output_type": "stream",
     "text": [
      "/CreativeWork_lancasterchoiceenergy.com_September2020.json.gz\n",
      "/Product_flowers4rome.com_September2020.json.gz\n",
      "/Product_hpcfactor.com_September2020.json.gz\n",
      "/CreativeWork_carconsolecovers.com_September2020.json.gz\n",
      "/MusicRecording_jmo-arts.com_September2020.json.gz\n",
      "/CreativeWork_americanderbycover.com_September2020.json.gz\n",
      "/Product_arcongel.com.br_September2020.json.gz\n",
      "/Person_bffuneralhome.com_September2020.json.gz\n",
      "/Product_cuautobranch.com_September2020.json.gz\n",
      "/Product_yuwhua.com_September2020.json.gz\n",
      "/Product_bewooden.com_September2020.json.gz\n"
     ]
    },
    {
     "name": "stderr",
     "output_type": "stream",
     "text": [
      " 20% (491 of 2444) |####                 | Elapsed Time: 0:00:19 ETA:   0:01:09\n",
      " 20% (499 of 2444) |####                 | Elapsed Time: 0:00:19 ETA:   0:01:01\n"
     ]
    },
    {
     "name": "stdout",
     "output_type": "stream",
     "text": [
      "/Recipe_iheartkitchen.com_September2020.json.gz\n",
      "/Event_scofield.org_September2020.json.gz\n",
      "/Product_g-lab.com_September2020.json.gz\n",
      "/Person_datxanhdanang.com.vn_September2020.json.gz\n",
      "/MusicRecording_mistergraymusic.com_September2020.json.gz\n",
      "/Product_suppsrus.com.au_September2020.json.gz\n",
      "/Product_hermosaz.com_September2020.json.gz\n",
      "/Product_sneakscloud.com_September2020.json.gz\n",
      "/Product_chrissiecosmetics.com_September2020.json.gz\n",
      "/Event_capecoralnewresident.com_September2020.json.gz\n",
      "/MusicRecording_apolloclone.com_September2020.json.gz\n",
      "/Event_standards-hrc.com_September2020.json.gz\n",
      "/Event_aboriginalbuzz.com_September2020.json.gz\n",
      "/MusicRecording_paulgibbsmusic.com_September2020.json.gz\n",
      "/Product_mehvac.com_September2020.json.gz\n"
     ]
    },
    {
     "name": "stderr",
     "output_type": "stream",
     "text": [
      " 20% (506 of 2444) |####                 | Elapsed Time: 0:00:20 ETA:   0:01:02\n",
      " 20% (513 of 2444) |####                 | Elapsed Time: 0:00:20 ETA:   0:01:00\n"
     ]
    },
    {
     "name": "stdout",
     "output_type": "stream",
     "text": [
      "/Product_sportlife.com.co_September2020.json.gz\n",
      "/Person_radiotruyen.com_September2020.json.gz\n",
      "/CreativeWork_krash.com.au_September2020.json.gz\n",
      "/Event_941area.com_September2020.json.gz\n",
      "/Product_jackphelandodgeonline.com_September2020.json.gz\n",
      "/Event_theoasisucc.org_September2020.json.gz\n",
      "/Product_ehornadams.com_September2020.json.gz\n",
      "/Product_superstep.com.tr_September2020.json.gz\n",
      "/MusicRecording_scottbianchimusic.com_September2020.json.gz\n",
      "/Person_mealeyfuneralhomes.com_September2020.json.gz\n",
      "/Event_mamabeardefense.org_September2020.json.gz\n",
      "/CreativeWork_lifestylesgiftware.com_September2020.json.gz\n",
      "/Product_raygrahams.com_September2020.json.gz\n",
      "/Product_wardsfh.com_September2020.json.gz\n",
      "/Event_thebigfixblackheath.org_September2020.json.gz\n"
     ]
    },
    {
     "name": "stderr",
     "output_type": "stream",
     "text": [
      " 21% (522 of 2444) |####                 | Elapsed Time: 0:00:20 ETA:   0:00:57\n",
      " 21% (526 of 2444) |####                 | Elapsed Time: 0:00:20 ETA:   0:00:56\n"
     ]
    },
    {
     "name": "stdout",
     "output_type": "stream",
     "text": [
      "/CreativeWork_delouvois.com_September2020.json.gz\n",
      "/Product_jaguaroflivermore.com_September2020.json.gz\n",
      "/Recipe_veggiedesserts.com_September2020.json.gz\n",
      "/Product_mattcastruccihonda.com_September2020.json.gz\n",
      "/Product_werner-musica.com_September2020.json.gz\n",
      "/Recipe_semills.com_September2020.json.gz\n",
      "/Person_smithgroup.com_September2020.json.gz\n",
      "/LocalBusiness_berluti.com_September2020.json.gz\n",
      "/Hotel_qualitycottages.co.uk_September2020.json.gz\n",
      "/Person_kmblegal.com_September2020.json.gz\n"
     ]
    },
    {
     "name": "stderr",
     "output_type": "stream",
     "text": [
      " 21% (532 of 2444) |####                 | Elapsed Time: 0:00:20 ETA:   0:00:54\n",
      " 22% (540 of 2444) |####                 | Elapsed Time: 0:00:20 ETA:   0:00:51\n"
     ]
    },
    {
     "name": "stdout",
     "output_type": "stream",
     "text": [
      "/Product_buffingtonreed.com_September2020.json.gz\n",
      "/Product_wyconcosmetics.com_September2020.json.gz\n",
      "/Product_weightworld.uk_September2020.json.gz\n",
      "/MusicRecording_mypurplefox.com_September2020.json.gz\n",
      "/Place_foundabout.com.au_September2020.json.gz\n",
      "/Person_weaverfuneralhomes.com_September2020.json.gz\n",
      "/Event_joytutor.com_September2020.json.gz\n",
      "/Product_revsci.com_September2020.json.gz\n",
      "/Product_sliqgear.com_September2020.json.gz\n",
      "/Product_tophatarchery.com_September2020.json.gz\n",
      "/Product_tsuyubags.com_September2020.json.gz\n"
     ]
    },
    {
     "name": "stderr",
     "output_type": "stream",
     "text": [
      " 22% (543 of 2444) |####                 | Elapsed Time: 0:00:20 ETA:   0:00:52\n"
     ]
    },
    {
     "name": "stdout",
     "output_type": "stream",
     "text": [
      "/Product_woblink.com_September2020.json.gz\n",
      "/Recipe_tasty-yummies.com_September2020.json.gz\n",
      "/Product_nissanofdalton.com_September2020.json.gz\n",
      "/Product_profilab24.com_September2020.json.gz\n"
     ]
    },
    {
     "name": "stderr",
     "output_type": "stream",
     "text": [
      " 22% (545 of 2444) |####                 | Elapsed Time: 0:00:20 ETA:   0:00:45\n",
      " 22% (553 of 2444) |####                 | Elapsed Time: 0:00:20 ETA:   0:00:43\n"
     ]
    },
    {
     "name": "stdout",
     "output_type": "stream",
     "text": [
      "/Product_rusnakpasadenaporsche.com_September2020.json.gz\n",
      "/MusicRecording_jettpink.com_September2020.json.gz\n",
      "/Product_junabazaar.com_September2020.json.gz\n",
      "/Product_abt.com_September2020.json.gz\n",
      "/Product_acuraoemparts.com_September2020.json.gz\n",
      "/Event_foodincanada.com_September2020.json.gz\n",
      "/Restaurant_restaurant-la-toque-blanche.com_September2020.json.gz\n",
      "/Product_cheapseatssports.com_September2020.json.gz\n",
      "/Event_oacp.org.uk_September2020.json.gz\n",
      "/Person_shuracouncil.org_September2020.json.gz\n",
      "/MusicRecording_amalgamationmusic.com_September2020.json.gz\n",
      "/MusicRecording_rinajazzlady.com_September2020.json.gz\n",
      "/CreativeWork_freelancergamer.com_September2020.json.gz\n",
      "/Product_steering.com.ua_September2020.json.gz\n",
      "/Product_outdoorwatersolutions.com_September2020.json.gz\n",
      "/MusicRecording_mihowada.com_September2020.json.gz\n",
      "/Product_karelzemanmuseum.com_September2020.json.gz\n"
     ]
    },
    {
     "name": "stderr",
     "output_type": "stream",
     "text": [
      " 22% (562 of 2444) |####                 | Elapsed Time: 0:00:21 ETA:   0:00:40\n",
      " 23% (567 of 2444) |####                 | Elapsed Time: 0:00:21 ETA:   0:00:40\n"
     ]
    },
    {
     "name": "stdout",
     "output_type": "stream",
     "text": [
      "/Person_worldcasinodirectory.com_September2020.json.gz\n",
      "/MusicRecording_fitzhoustonmusic.com_September2020.json.gz\n",
      "/Product_budducks.com_September2020.json.gz\n",
      "/Person_fletcherdayfuneralhome.com_September2020.json.gz\n",
      "/Person_curleyfuneralhome.com_September2020.json.gz\n",
      "/Product_mykonfig.com_September2020.json.gz\n",
      "/Product_onlinegenericmedicine.com_September2020.json.gz\n",
      "/LocalBusiness_mortarr.com_September2020.json.gz\n",
      "/LocalBusiness_omgsites.com_September2020.json.gz\n",
      "/LocalBusiness_webstyle.com_September2020.json.gz\n",
      "/Product_happicrafts.com_September2020.json.gz\n"
     ]
    },
    {
     "name": "stderr",
     "output_type": "stream",
     "text": [
      " 23% (573 of 2444) |####                 | Elapsed Time: 0:00:21 ETA:   0:00:39\n",
      " 23% (576 of 2444) |####                 | Elapsed Time: 0:00:21 ETA:   0:00:38\n"
     ]
    },
    {
     "name": "stdout",
     "output_type": "stream",
     "text": [
      "/Product_zeebaitco.com_September2020.json.gz\n",
      "/LocalBusiness_lovethailand.org_September2020.json.gz\n",
      "/Product_i-o-p.com_September2020.json.gz\n",
      "/Product_apsleyaustralia.com_September2020.json.gz\n",
      "/Event_raeoflightministries.com_September2020.json.gz\n",
      "/Recipe_bodhiboxmarket.com_September2020.json.gz\n",
      "/Product_lcgfoods.com_September2020.json.gz\n",
      "/LocalBusiness_troyautoglass.com_September2020.json.gz\n",
      "/CreativeWork_volusiariders.com_September2020.json.gz\n"
     ]
    },
    {
     "name": "stderr",
     "output_type": "stream",
     "text": [
      " 23% (582 of 2444) |#####                | Elapsed Time: 0:00:21 ETA:   0:00:37\n"
     ]
    },
    {
     "name": "stdout",
     "output_type": "stream",
     "text": [
      "/MusicRecording_nievemusic.com_September2020.json.gz\n",
      "/Event_womensdevelopmenttrack.com_September2020.json.gz\n"
     ]
    },
    {
     "name": "stderr",
     "output_type": "stream",
     "text": [
      " 23% (584 of 2444) |#####                | Elapsed Time: 0:00:22 ETA:   0:01:01\n",
      " 24% (588 of 2444) |#####                | Elapsed Time: 0:00:22 ETA:   0:01:01\n",
      " 24% (594 of 2444) |#####                | Elapsed Time: 0:00:22 ETA:   0:01:00\n"
     ]
    },
    {
     "name": "stdout",
     "output_type": "stream",
     "text": [
      "/CreativeWork_coldcomfortgame.com_September2020.json.gz\n",
      "/Product_thedealexperts.com_September2020.json.gz\n",
      "/Event_awesomeseating.com_September2020.json.gz\n",
      "/MusicRecording_orvillejohnson.com_September2020.json.gz\n",
      "/Product_bayactive.com.au_September2020.json.gz\n",
      "/LocalBusiness_beanbox.com_September2020.json.gz\n",
      "/Person_thomasonfuneralhome.com_September2020.json.gz\n",
      "/Event_sbepc.org_September2020.json.gz\n",
      "/Person_varnumlaw.com_September2020.json.gz\n",
      "/Product_keysworlds.com_September2020.json.gz\n",
      "/Product_bestbudbags.com_September2020.json.gz\n",
      "/Product_tutkumuzik.com.tr_September2020.json.gz\n"
     ]
    },
    {
     "name": "stderr",
     "output_type": "stream",
     "text": [
      " 24% (598 of 2444) |#####                | Elapsed Time: 0:00:22 ETA:   0:01:05\n",
      " 24% (603 of 2444) |#####                | Elapsed Time: 0:00:22 ETA:   0:01:02\n"
     ]
    },
    {
     "name": "stdout",
     "output_type": "stream",
     "text": [
      "/Product_dorseyalston.com_September2020.json.gz\n",
      "/Product_astonishing-nails.com_September2020.json.gz\n",
      "/Product_myhomeclimate.com_September2020.json.gz\n",
      "/CreativeWork_seatcupra.net_September2020.json.gz\n",
      "/Restaurant_714area.com_September2020.json.gz\n",
      "/Product_knit-ito.com_September2020.json.gz\n",
      "/Product_austinsappliance.com_September2020.json.gz\n",
      "/Event_visitblairsvillega.com_September2020.json.gz\n"
     ]
    },
    {
     "name": "stderr",
     "output_type": "stream",
     "text": [
      " 24% (607 of 2444) |#####                | Elapsed Time: 0:00:22 ETA:   0:01:01\n",
      " 25% (612 of 2444) |#####                | Elapsed Time: 0:00:22 ETA:   0:00:57\n"
     ]
    },
    {
     "name": "stdout",
     "output_type": "stream",
     "text": [
      "/Person_healthsciencessc.org_September2020.json.gz\n",
      "/Product_carrottees.com_September2020.json.gz\n",
      "/Product_beerbay.net_September2020.json.gz\n",
      "/Product_windscreensnearme.com.au_September2020.json.gz\n",
      "/Event_fishersisland.net_September2020.json.gz\n",
      "/Event_cheftechcookingschool.com_September2020.json.gz\n",
      "/MusicRecording_zachmusic.net_September2020.json.gz\n",
      "/Person_upcomer.com_September2020.json.gz\n",
      "/Product_degusipefuneralhome.com_September2020.json.gz\n"
     ]
    },
    {
     "name": "stderr",
     "output_type": "stream",
     "text": [
      " 25% (618 of 2444) |#####                | Elapsed Time: 0:00:23 ETA:   0:00:59\n",
      " 25% (622 of 2444) |#####                | Elapsed Time: 0:00:23 ETA:   0:01:06\n"
     ]
    },
    {
     "name": "stdout",
     "output_type": "stream",
     "text": [
      "/MusicRecording_opentothehound.com_September2020.json.gz\n",
      "/Person_bradyandlevesque.com_September2020.json.gz\n",
      "/Event_502area.com_September2020.json.gz\n",
      "/Person_johnsonfuneralhomes.net_September2020.json.gz\n",
      "/Event_migeekscene.com_September2020.json.gz\n",
      "/MusicRecording_vidordecker.com_September2020.json.gz\n",
      "/Event_bentleighfnc.com_September2020.json.gz\n",
      "/Product_sofiasarah.com_September2020.json.gz\n",
      "/Product_bellustoys.com_September2020.json.gz\n",
      "/Product_burtsofsavannah.com_September2020.json.gz\n"
     ]
    },
    {
     "name": "stderr",
     "output_type": "stream",
     "text": [
      " 25% (628 of 2444) |#####                | Elapsed Time: 0:00:23 ETA:   0:01:06\n",
      " 26% (636 of 2444) |#####                | Elapsed Time: 0:00:23 ETA:   0:01:00\n"
     ]
    },
    {
     "name": "stdout",
     "output_type": "stream",
     "text": [
      "/LocalBusiness_concordpetfoods.com_September2020.json.gz\n",
      "/MusicRecording_chopteeth.com_September2020.json.gz\n",
      "/Recipe_life44.com_September2020.json.gz\n",
      "/Event_theartsyhive.com_September2020.json.gz\n",
      "/Recipe_nutrelahealth.com_September2020.json.gz\n",
      "/CreativeWork_protecbaby.com_September2020.json.gz\n",
      "/MusicRecording_incominggroovemusic.com_September2020.json.gz\n",
      "/Product_toyotaofmuskegon.com_September2020.json.gz\n",
      "/Event_eb5investors.com_September2020.json.gz\n",
      "/MusicRecording_timmorse.com_September2020.json.gz\n",
      "/MusicRecording_teafanniemusic.com_September2020.json.gz\n",
      "/Product_vkkearney.com_September2020.json.gz\n",
      "/LocalBusiness_safetyharborchamber.com_September2020.json.gz\n",
      "/CreativeWork_archershoots.com_September2020.json.gz\n",
      "/CreativeWork_argusinsights.com_September2020.json.gz\n"
     ]
    },
    {
     "name": "stderr",
     "output_type": "stream",
     "text": [
      " 26% (640 of 2444) |#####                | Elapsed Time: 0:00:23 ETA:   0:00:59\n"
     ]
    },
    {
     "name": "stdout",
     "output_type": "stream",
     "text": [
      "/Product_medmeg.com_September2020.json.gz\n",
      "/Recipe_briana-thomas.com_September2020.json.gz\n",
      "/Event_tysonschamber.org_September2020.json.gz\n",
      "/Product_pedparts.co.uk_September2020.json.gz\n",
      "/Event_txmn.org_September2020.json.gz\n",
      "/Product_classicbodyparts.com_September2020.json.gz\n"
     ]
    },
    {
     "name": "stderr",
     "output_type": "stream",
     "text": [
      " 26% (644 of 2444) |#####                | Elapsed Time: 0:00:23 ETA:   0:01:01\n",
      " 26% (647 of 2444) |#####                | Elapsed Time: 0:00:23 ETA:   0:01:02\n"
     ]
    },
    {
     "name": "stdout",
     "output_type": "stream",
     "text": [
      "/Product_buyatestkit.com_September2020.json.gz\n",
      "/Product_drganja.com_September2020.json.gz\n",
      "/Product_stasherbag.com_September2020.json.gz\n",
      "/Person_lienho.com_September2020.json.gz\n",
      "/Product_gmparts247.com_September2020.json.gz\n",
      "/Product_rightclearing.com_September2020.json.gz\n"
     ]
    },
    {
     "name": "stderr",
     "output_type": "stream",
     "text": [
      " 26% (650 of 2444) |#####                | Elapsed Time: 0:00:24 ETA:   0:01:06\n",
      " 26% (655 of 2444) |#####                | Elapsed Time: 0:00:24 ETA:   0:01:05\n"
     ]
    },
    {
     "name": "stdout",
     "output_type": "stream",
     "text": [
      "/CreativeWork_hybrex.com.au_September2020.json.gz\n",
      "/LocalBusiness_mspmag.com_September2020.json.gz\n",
      "/Product_montagne-librairie.com_September2020.json.gz\n",
      "/Product_roxaba.com_September2020.json.gz\n",
      "/Product_chanvaydep.net_September2020.json.gz\n",
      "/Restaurant_yellowpages.com_September2020.json.gz\n"
     ]
    },
    {
     "name": "stderr",
     "output_type": "stream",
     "text": [
      " 26% (657 of 2444) |#####                | Elapsed Time: 0:00:24 ETA:   0:00:49\n"
     ]
    },
    {
     "name": "stdout",
     "output_type": "stream",
     "text": [
      "/LocalBusiness_somersetcountychamber.com_September2020.json.gz\n",
      "/Place_fireduplounge.com_September2020.json.gz\n",
      "/MusicRecording_rodesonline.net_September2020.json.gz\n",
      "/Person_montanaptac.org_September2020.json.gz\n",
      "/Product_tastypeachstudios.com_September2020.json.gz\n",
      "/MusicRecording_madisonolsonmusic.com_September2020.json.gz\n",
      "/Product_theminkyblanket.com_September2020.json.gz\n",
      "/Product_flowers4bangladesh.com_September2020.json.gz\n"
     ]
    },
    {
     "name": "stderr",
     "output_type": "stream",
     "text": [
      " 27% (664 of 2444) |#####                | Elapsed Time: 0:00:24 ETA:   0:00:51\n",
      " 27% (672 of 2444) |#####                | Elapsed Time: 0:00:24 ETA:   0:00:49\n"
     ]
    },
    {
     "name": "stdout",
     "output_type": "stream",
     "text": [
      "/MusicRecording_blueweed.com_September2020.json.gz\n",
      "/Person_racingandsports.com_September2020.json.gz\n",
      "/Person_salawus.com_September2020.json.gz\n",
      "/CreativeWork_orangecityiowa.com_September2020.json.gz\n",
      "/Event_pinnerassociation.co.uk_September2020.json.gz\n",
      "/Event_davecahill.com_September2020.json.gz\n",
      "/Place_paintballnation.co.uk_September2020.json.gz\n",
      "/Product_iberowine.com_September2020.json.gz\n",
      "/Product_dixiefurniture.com_September2020.json.gz\n",
      "/LocalBusiness_minirepairshops.com_September2020.json.gz\n"
     ]
    },
    {
     "name": "stderr",
     "output_type": "stream",
     "text": [
      " 27% (674 of 2444) |#####                | Elapsed Time: 0:00:24 ETA:   0:00:51\n",
      " 27% (675 of 2444) |#####                | Elapsed Time: 0:00:24 ETA:   0:00:53\n"
     ]
    },
    {
     "name": "stdout",
     "output_type": "stream",
     "text": [
      "/Product_ecco-verde.com_September2020.json.gz\n",
      "/Product_edelkrone-eu.com_September2020.json.gz\n",
      "/Event_trginternational.com_September2020.json.gz\n",
      "/Product_glennpolkautoplex.net_September2020.json.gz\n",
      "/Recipe_simplyorganic.com_September2020.json.gz\n",
      "/Product_champagneandgifts.co.uk_September2020.json.gz\n"
     ]
    },
    {
     "name": "stderr",
     "output_type": "stream",
     "text": [
      " 27% (680 of 2444) |#####                | Elapsed Time: 0:00:25 ETA:   0:00:53\n",
      " 28% (686 of 2444) |#####                | Elapsed Time: 0:00:25 ETA:   0:00:53\n"
     ]
    },
    {
     "name": "stdout",
     "output_type": "stream",
     "text": [
      "/Product_idahowhitewatertrail.com_September2020.json.gz\n",
      "/Hotel_lilmarvacations.com_September2020.json.gz\n",
      "/Product_showhome-furniture.com_September2020.json.gz\n",
      "/Product_preciseautomotivegroup.com_September2020.json.gz\n",
      "/Product_adoryme.com_September2020.json.gz\n",
      "/TVEpisode_nationalgeographic.com_September2020.json.gz\n",
      "/Recipe_simplegraytshirt.com_September2020.json.gz\n",
      "/Person_whitecase.com_September2020.json.gz\n"
     ]
    },
    {
     "name": "stderr",
     "output_type": "stream",
     "text": [
      " 28% (688 of 2444) |#####                | Elapsed Time: 0:00:25 ETA:   0:00:54\n",
      " 28% (690 of 2444) |#####                | Elapsed Time: 0:00:25 ETA:   0:00:59\n"
     ]
    },
    {
     "name": "stdout",
     "output_type": "stream",
     "text": [
      "/Product_ricook.com_September2020.json.gz\n",
      "/Product_ediagshop.com_September2020.json.gz\n",
      "/Person_intersinema.com_September2020.json.gz\n",
      "/Product_goldwin-sports.com_September2020.json.gz\n"
     ]
    },
    {
     "name": "stderr",
     "output_type": "stream",
     "text": [
      " 28% (693 of 2444) |#####                | Elapsed Time: 0:00:25 ETA:   0:01:04\n",
      " 28% (695 of 2444) |#####                | Elapsed Time: 0:00:25 ETA:   0:01:06\n"
     ]
    },
    {
     "name": "stdout",
     "output_type": "stream",
     "text": [
      "/Restaurant_grubsouth.com_September2020.json.gz\n",
      "/Person_sococulture.org_September2020.json.gz\n",
      "/Product_tvornicazdravehrane.com_September2020.json.gz\n",
      "/Event_comoxvalleyarts.com_September2020.json.gz\n",
      "/Product_carboncreations.com_September2020.json.gz\n",
      "/MusicRecording_mattiaslies.com_September2020.json.gz\n",
      "/Place_visitposeycounty.com_September2020.json.gz\n",
      "/CreativeWork_gamingsetups.com_September2020.json.gz\n",
      "/Event_sonsofnorwayfargo.com_September2020.json.gz\n",
      "/Product_flexi-northamerica.com_September2020.json.gz\n"
     ]
    },
    {
     "name": "stderr",
     "output_type": "stream",
     "text": [
      " 28% (705 of 2444) |######               | Elapsed Time: 0:00:25 ETA:   0:00:57\n",
      " 29% (712 of 2444) |######               | Elapsed Time: 0:00:25 ETA:   0:00:53\n"
     ]
    },
    {
     "name": "stdout",
     "output_type": "stream",
     "text": [
      "/Event_godlessperverts.com_September2020.json.gz\n",
      "/Product_phukienphongtamnavado.com_September2020.json.gz\n",
      "/Product_hello-neo.com_September2020.json.gz\n",
      "/MusicRecording_tptte.com_September2020.json.gz\n",
      "/Person_live24sex.net_September2020.json.gz\n",
      "/Product_maschbeoriginal.com_September2020.json.gz\n",
      "/Product_drainagecentral.co.uk_September2020.json.gz\n",
      "/Person_ahpeters.com_September2020.json.gz\n",
      "/Hotel_h-hotels.com_September2020.json.gz\n",
      "/Product_lifespanfitness.com.au_September2020.json.gz\n",
      "/Event_wab.org_September2020.json.gz\n",
      "/Event_decaturlibrary.org_September2020.json.gz\n"
     ]
    },
    {
     "name": "stderr",
     "output_type": "stream",
     "text": [
      " 29% (716 of 2444) |######               | Elapsed Time: 0:00:25 ETA:   0:00:52\n",
      " 29% (723 of 2444) |######               | Elapsed Time: 0:00:26 ETA:   0:00:50\n"
     ]
    },
    {
     "name": "stdout",
     "output_type": "stream",
     "text": [
      "/Product_pantilihyundai.com_September2020.json.gz\n",
      "/LocalBusiness_aerialandsatelliteexpress.co.uk_September2020.json.gz\n",
      "/LocalBusiness_annuaire-huissiers.com_September2020.json.gz\n",
      "/MusicRecording_katieharder.com_September2020.json.gz\n",
      "/MusicRecording_carlosnaranjomusic.com_September2020.json.gz\n",
      "/Product_bettersaferadio.com_September2020.json.gz\n",
      "/Product_daddytee.com_September2020.json.gz\n",
      "/Product_gtomega.co.uk_September2020.json.gz\n",
      "/Product_opeengines.com_September2020.json.gz\n",
      "/LocalBusiness_buscarapida.com.br_September2020.json.gz\n",
      "/MusicRecording_cicadarhythm.com_September2020.json.gz\n",
      "/LocalBusiness_bluentcad.com_September2020.json.gz\n"
     ]
    },
    {
     "name": "stderr",
     "output_type": "stream",
     "text": [
      " 29% (729 of 2444) |######               | Elapsed Time: 0:00:26 ETA:   0:00:46\n",
      " 30% (735 of 2444) |######               | Elapsed Time: 0:00:26 ETA:   0:00:44\n"
     ]
    },
    {
     "name": "stdout",
     "output_type": "stream",
     "text": [
      "/Product_savetheflowers.com_September2020.json.gz\n",
      "/CreativeWork_lionsheadindy.com_September2020.json.gz\n",
      "/Product_best-drones-direct.com_September2020.json.gz\n",
      "/LocalBusiness_north-shore.com.au_September2020.json.gz\n",
      "/LocalBusiness_cyprusmanufacturers.com_September2020.json.gz\n",
      "/Product_snowstyleshop.com_September2020.json.gz\n",
      "/MusicRecording_gaetanoletizia.com_September2020.json.gz\n",
      "/Event_pccsd.org_September2020.json.gz\n",
      "/Product_sotechco.com.vn_September2020.json.gz\n",
      "/Product_free-barcode-generator.net_September2020.json.gz\n",
      "/Product_dealerfire.com_September2020.json.gz\n"
     ]
    },
    {
     "name": "stderr",
     "output_type": "stream",
     "text": [
      " 30% (737 of 2444) |######               | Elapsed Time: 0:00:26 ETA:   0:00:45\n",
      " 30% (738 of 2444) |######               | Elapsed Time: 0:00:26 ETA:   0:00:49\n"
     ]
    },
    {
     "name": "stdout",
     "output_type": "stream",
     "text": [
      "/Person_bilytica.com.pk_September2020.json.gz\n",
      "/CreativeWork_bringthepixel.com_September2020.json.gz\n",
      "/Product_riseaboveparts.com_September2020.json.gz\n"
     ]
    },
    {
     "name": "stderr",
     "output_type": "stream",
     "text": [
      " 30% (741 of 2444) |######               | Elapsed Time: 0:00:26 ETA:   0:00:52\n"
     ]
    },
    {
     "name": "stdout",
     "output_type": "stream",
     "text": [
      "/Product_uniquearts.ltd.uk_September2020.json.gz\n",
      "/Product_champusytintes.com_September2020.json.gz\n",
      "/Recipe_bodyfoodfreedom.com_September2020.json.gz\n",
      "/Book_novelsuspects.com_September2020.json.gz\n"
     ]
    },
    {
     "name": "stderr",
     "output_type": "stream",
     "text": [
      " 30% (744 of 2444) |######               | Elapsed Time: 0:00:26 ETA:   0:00:51\n",
      " 30% (748 of 2444) |######               | Elapsed Time: 0:00:27 ETA:   0:00:55\n"
     ]
    },
    {
     "name": "stdout",
     "output_type": "stream",
     "text": [
      "/Product_apnastuff.com_September2020.json.gz\n",
      "/Product_nordicinteriordesign.com_September2020.json.gz\n",
      "/MusicRecording_markzubia.com_September2020.json.gz\n",
      "/Product_crownsupply.com_September2020.json.gz\n",
      "/CreativeWork_srinivassridhar.com_September2020.json.gz\n",
      "/Product_gabrini.com_September2020.json.gz\n",
      "/Recipe_culturediscovery.com_September2020.json.gz\n",
      "/Product_reemclothing.com_September2020.json.gz\n",
      "/Product_onlineautoparts.com.au_September2020.json.gz\n"
     ]
    },
    {
     "name": "stderr",
     "output_type": "stream",
     "text": [
      " 30% (753 of 2444) |######               | Elapsed Time: 0:00:27 ETA:   0:00:55\n"
     ]
    },
    {
     "name": "stdout",
     "output_type": "stream",
     "text": [
      "/MusicAlbum_genius.com_September2020.json.gz\n"
     ]
    },
    {
     "name": "stderr",
     "output_type": "stream",
     "text": [
      " 30% (754 of 2444) |######               | Elapsed Time: 0:00:28 ETA:   0:03:33\n",
      " 30% (756 of 2444) |######               | Elapsed Time: 0:00:28 ETA:   0:03:17\n"
     ]
    },
    {
     "name": "stdout",
     "output_type": "stream",
     "text": [
      "/Product_idrinkcoffee.com_September2020.json.gz\n",
      "/Product_elektrikall.com_September2020.json.gz\n",
      "/CreativeWork_transcending-stone.com_September2020.json.gz\n",
      "/Product_gadgetification.com_September2020.json.gz\n",
      "/Product_want2vape.com_September2020.json.gz\n",
      "/MusicRecording_davidbartleyjazz.com_September2020.json.gz\n",
      "/Product_novica.net_September2020.json.gz\n"
     ]
    },
    {
     "name": "stderr",
     "output_type": "stream",
     "text": [
      " 31% (761 of 2444) |######               | Elapsed Time: 0:00:29 ETA:   0:03:26\n"
     ]
    },
    {
     "name": "stdout",
     "output_type": "stream",
     "text": [
      "/Product_ftfindustries.com_September2020.json.gz\n",
      "/Product_cigabuy.com_September2020.json.gz\n"
     ]
    },
    {
     "name": "stderr",
     "output_type": "stream",
     "text": [
      " 31% (763 of 2444) |######               | Elapsed Time: 0:00:29 ETA:   0:04:00\n",
      " 31% (769 of 2444) |######               | Elapsed Time: 0:00:29 ETA:   0:03:29\n"
     ]
    },
    {
     "name": "stdout",
     "output_type": "stream",
     "text": [
      "/Product_petcaresupplies.com_September2020.json.gz\n",
      "/Event_venicedreamhouse.com_September2020.json.gz\n",
      "/Product_zgrills.com_September2020.json.gz\n",
      "/LocalBusiness_listofcompany.com_September2020.json.gz\n",
      "/Recipe_foodloveplay.com_September2020.json.gz\n",
      "/CreativeWork_araddoorbin.com_September2020.json.gz\n",
      "/MusicRecording_lyricstashan.com_September2020.json.gz\n"
     ]
    },
    {
     "name": "stderr",
     "output_type": "stream",
     "text": [
      " 31% (773 of 2444) |######               | Elapsed Time: 0:00:29 ETA:   0:02:56\n",
      " 31% (780 of 2444) |######               | Elapsed Time: 0:00:29 ETA:   0:02:16\n"
     ]
    },
    {
     "name": "stdout",
     "output_type": "stream",
     "text": [
      "/CreativeWork_steffenfreund.com_September2020.json.gz\n",
      "/Product_walkingpalm.com_September2020.json.gz\n",
      "/LocalBusiness_sicba.org_September2020.json.gz\n",
      "/Person_mysciencework.com_September2020.json.gz\n",
      "/MusicRecording_joannestacey.com_September2020.json.gz\n",
      "/CreativeWork_camponestep.org_September2020.json.gz\n",
      "/Product_colmi.com_September2020.json.gz\n",
      "/Product_alfaromeousaofschaumburg.com_September2020.json.gz\n",
      "/Product_cardinalewaymazdalasvegas.com_September2020.json.gz\n",
      "/Product_schwinnfitness.com_September2020.json.gz\n",
      "/Product_ishbuild.co.uk_September2020.json.gz\n"
     ]
    },
    {
     "name": "stderr",
     "output_type": "stream",
     "text": [
      " 31% (782 of 2444) |######               | Elapsed Time: 0:00:29 ETA:   0:02:16\n"
     ]
    },
    {
     "name": "stdout",
     "output_type": "stream",
     "text": [
      "/Product_cleveland.com_September2020.json.gz\n",
      "/MusicRecording_arthurholmesbluesband.com_September2020.json.gz\n",
      "/Product_greysteas.co.uk_September2020.json.gz\n",
      "/Product_thehandybaby.com_September2020.json.gz\n",
      "/Product_danscarworld.com_September2020.json.gz\n"
     ]
    },
    {
     "name": "stderr",
     "output_type": "stream",
     "text": [
      " 32% (789 of 2444) |######               | Elapsed Time: 0:00:29 ETA:   0:01:54\n"
     ]
    },
    {
     "name": "stdout",
     "output_type": "stream",
     "text": [
      "/MusicRecording_thehamiltonesnz.com_September2020.json.gz\n",
      "/Product_belasoap.com_September2020.json.gz\n",
      "/MusicRecording_coastlinefiddle.com_September2020.json.gz\n",
      "/Event_parentingsuccessnetwork.org_September2020.json.gz\n",
      "/Recipe_thedevilwearssalad.com_September2020.json.gz\n",
      "/CreativeWork_miniaturepets.net_September2020.json.gz\n",
      "/Product_imageofthecity.com_September2020.json.gz\n",
      "/Product_maviyesilajans.com_September2020.json.gz\n",
      "/Recipe_potato-recipe.com_September2020.json.gz\n"
     ]
    },
    {
     "name": "stderr",
     "output_type": "stream",
     "text": [
      " 32% (795 of 2444) |######               | Elapsed Time: 0:00:30 ETA:   0:01:45\n",
      " 32% (801 of 2444) |######               | Elapsed Time: 0:00:30 ETA:   0:01:36\n"
     ]
    },
    {
     "name": "stdout",
     "output_type": "stream",
     "text": [
      "/MusicRecording_siusanandzig.com_September2020.json.gz\n",
      "/Event_innovationfest.co.uk_September2020.json.gz\n",
      "/Product_isuzupartscenter.com_September2020.json.gz\n",
      "/Event_kiawahresort.com_September2020.json.gz\n",
      "/Product_thegpbox.com_September2020.json.gz\n",
      "/Product_footstepspodiatrygriffith.com.au_September2020.json.gz\n",
      "/Product_marilynmanson.com_September2020.json.gz\n",
      "/MusicRecording_markduggan.com_September2020.json.gz\n",
      "/MusicRecording_jonsteelemusic.com_September2020.json.gz\n",
      "/Product_danyz.co.uk_September2020.json.gz\n",
      "/CreativeWork_mindfulnessinschools.org_September2020.json.gz\n",
      "/CreativeWork_saabscene.com_September2020.json.gz\n"
     ]
    },
    {
     "name": "stderr",
     "output_type": "stream",
     "text": [
      " 33% (807 of 2444) |######               | Elapsed Time: 0:00:30 ETA:   0:01:31\n"
     ]
    },
    {
     "name": "stdout",
     "output_type": "stream",
     "text": [
      "/Product_quranicways.com_September2020.json.gz\n",
      "/Hotel_turista.com.mx_September2020.json.gz\n"
     ]
    },
    {
     "name": "stderr",
     "output_type": "stream",
     "text": [
      " 33% (809 of 2444) |######               | Elapsed Time: 0:00:30 ETA:   0:01:02\n"
     ]
    },
    {
     "name": "stdout",
     "output_type": "stream",
     "text": [
      "/Product_marobrothers.net_September2020.json.gz\n",
      "/Product_thornberrysappliance.com_September2020.json.gz\n",
      "/MusicRecording_donaldstephanjones.com_September2020.json.gz\n",
      "/Recipe_swankykitchen.com_September2020.json.gz\n",
      "/MusicRecording_stevecarlson.com_September2020.json.gz\n",
      "/Product_parsellfuneralhomes.com_September2020.json.gz\n",
      "/Restaurant_ubereats.com_September2020.json.gz\n"
     ]
    },
    {
     "name": "stderr",
     "output_type": "stream",
     "text": [
      " 33% (816 of 2444) |#######              | Elapsed Time: 0:00:32 ETA:   0:08:03\n"
     ]
    },
    {
     "name": "stdout",
     "output_type": "stream",
     "text": [
      "/LocalBusiness_romanceflowers.co.uk_September2020.json.gz\n",
      "/Event_mikebolland.com_September2020.json.gz\n",
      "/CreativeWork_evelyncameron.org_September2020.json.gz\n",
      "/Product_islandrose.net_September2020.json.gz\n",
      "/Event_sunshinecentres.com_September2020.json.gz\n",
      "/Product_magnumtuning.com_September2020.json.gz\n"
     ]
    },
    {
     "name": "stderr",
     "output_type": "stream",
     "text": [
      " 33% (822 of 2444) |#######              | Elapsed Time: 0:00:33 ETA:   0:05:13\n"
     ]
    },
    {
     "name": "stdout",
     "output_type": "stream",
     "text": [
      "/MusicRecording_charlotteryerson.com_September2020.json.gz\n",
      "/Recipe_alphafoodie.com_September2020.json.gz\n",
      "/Hotel_hotel-ami.com_September2020.json.gz\n"
     ]
    },
    {
     "name": "stderr",
     "output_type": "stream",
     "text": [
      " 33% (825 of 2444) |#######              | Elapsed Time: 0:00:33 ETA:   0:04:49\n",
      " 33% (828 of 2444) |#######              | Elapsed Time: 0:00:33 ETA:   0:04:13\n"
     ]
    },
    {
     "name": "stdout",
     "output_type": "stream",
     "text": [
      "/Product_corelle.com_September2020.json.gz\n",
      "/MusicRecording_woodvinescores.com_September2020.json.gz\n",
      "/Product_kidzmall.com.ng_September2020.json.gz\n",
      "/Recipe_recipe-barn.com_September2020.json.gz\n",
      "/Person_realtysouthotm.com_September2020.json.gz\n",
      "/Product_serviceholod.com.ua_September2020.json.gz\n",
      "/Product_hidkitsxenonlights.com_September2020.json.gz\n",
      "/Event_lakegeorgesteamboat.com_September2020.json.gz\n",
      "/Product_tiendas.com_September2020.json.gz\n"
     ]
    },
    {
     "name": "stderr",
     "output_type": "stream",
     "text": [
      " 34% (834 of 2444) |#######              | Elapsed Time: 0:00:34 ETA:   0:03:05\n",
      " 34% (839 of 2444) |#######              | Elapsed Time: 0:00:35 ETA:   0:02:39\n"
     ]
    },
    {
     "name": "stdout",
     "output_type": "stream",
     "text": [
      "/Event_lydiaplace.org_September2020.json.gz\n",
      "/Event_southlatay.org_September2020.json.gz\n",
      "/Event_celebratecityliving.com_September2020.json.gz\n",
      "/Product_blackforestvillage-shop.com_September2020.json.gz\n",
      "/Product_restaurantsupply.com_September2020.json.gz\n",
      "/Product_cocktail7.com_September2020.json.gz\n"
     ]
    },
    {
     "name": "stderr",
     "output_type": "stream",
     "text": [
      " 34% (844 of 2444) |#######              | Elapsed Time: 0:00:35 ETA:   0:02:25\n"
     ]
    },
    {
     "name": "stdout",
     "output_type": "stream",
     "text": [
      "/CreativeWork_location-bateau-cote-dazur.com_September2020.json.gz\n",
      "/LocalBusiness_powerwashingbeauchamp.com_September2020.json.gz\n",
      "/Product_shopeflix.com_September2020.json.gz\n",
      "/Product_augustapparel.com_September2020.json.gz\n",
      "/MusicRecording_sonofian.net_September2020.json.gz\n",
      "/Recipe_bwqualitygrowers.com_September2020.json.gz\n",
      "/Product_hottubspasupplies.com_September2020.json.gz\n"
     ]
    },
    {
     "name": "stderr",
     "output_type": "stream",
     "text": [
      " 34% (847 of 2444) |#######              | Elapsed Time: 0:00:35 ETA:   0:02:16\n"
     ]
    },
    {
     "name": "stdout",
     "output_type": "stream",
     "text": [
      "/Product_bedcomfortershop.com_September2020.json.gz\n",
      "/Product_ultrafitnessmail.com_September2020.json.gz\n",
      "/Product_smahosp.com_September2020.json.gz\n"
     ]
    },
    {
     "name": "stderr",
     "output_type": "stream",
     "text": [
      " 34% (850 of 2444) |#######              | Elapsed Time: 0:00:35 ETA:   0:02:07\n",
      " 34% (851 of 2444) |#######              | Elapsed Time: 0:00:35 ETA:   0:02:09\n"
     ]
    },
    {
     "name": "stdout",
     "output_type": "stream",
     "text": [
      "/Product_dechoesresale.com_September2020.json.gz\n",
      "/MusicRecording_wildcarrot.net_September2020.json.gz\n",
      "/Recipe_rosauerskitchen.com_September2020.json.gz\n",
      "/Event_robinsconsulting.com_September2020.json.gz\n",
      "/Event_leonardsax.com_September2020.json.gz\n",
      "/Product_theacc.com_September2020.json.gz\n"
     ]
    },
    {
     "name": "stderr",
     "output_type": "stream",
     "text": [
      " 35% (856 of 2444) |#######              | Elapsed Time: 0:00:36 ETA:   0:02:53\n"
     ]
    },
    {
     "name": "stdout",
     "output_type": "stream",
     "text": [
      "/Product_luminossolar.com_September2020.json.gz\n",
      "/Recipe_runningwithspoons.com_September2020.json.gz\n",
      "/Product_sustainableflooring.com_September2020.json.gz\n",
      "/Product_aplaceforeverything.co.uk_September2020.json.gz\n"
     ]
    },
    {
     "name": "stderr",
     "output_type": "stream",
     "text": [
      " 35% (860 of 2444) |#######              | Elapsed Time: 0:00:36 ETA:   0:02:09\n",
      " 35% (867 of 2444) |#######              | Elapsed Time: 0:00:37 ETA:   0:01:54\n"
     ]
    },
    {
     "name": "stdout",
     "output_type": "stream",
     "text": [
      "/Product_stanmcnabbchevy.com_September2020.json.gz\n",
      "/Product_juvitus.com_September2020.json.gz\n",
      "/Book_powkidsbooks.com_September2020.json.gz\n",
      "/CreativeWork_dalepinnock.com_September2020.json.gz\n",
      "/Place_mauimagazine.net_September2020.json.gz\n",
      "/MusicRecording_mylifewiththethrillkillkult.com_September2020.json.gz\n",
      "/Product_pangeaaudio.com_September2020.json.gz\n",
      "/Product_tancuongxanh.com_September2020.json.gz\n",
      "/Event_edwardsvillechildrensmuseum.org_September2020.json.gz\n",
      "/MusicRecording_lounge9music.com_September2020.json.gz\n",
      "/Book_double-eye.com_September2020.json.gz\n",
      "/Product_vietnamdragontravel.com_September2020.json.gz\n",
      "/Event_caproasia.com_September2020.json.gz\n",
      "/Recipe_peasandcrayons.com_September2020.json.gz\n"
     ]
    },
    {
     "name": "stderr",
     "output_type": "stream",
     "text": [
      " 35% (874 of 2444) |#######              | Elapsed Time: 0:00:37 ETA:   0:01:47\n",
      " 35% (876 of 2444) |#######              | Elapsed Time: 0:00:37 ETA:   0:01:51\n"
     ]
    },
    {
     "name": "stdout",
     "output_type": "stream",
     "text": [
      "/Product_wysylka.com_September2020.json.gz\n",
      "/Restaurant_fastfoodinusa.com_September2020.json.gz\n",
      "/Product_parts-whiz.com_September2020.json.gz\n",
      "/CreativeWork_purrshare.com_September2020.json.gz\n",
      "/Recipe_melskitchencafe.com_September2020.json.gz\n"
     ]
    },
    {
     "name": "stderr",
     "output_type": "stream",
     "text": [
      " 35% (879 of 2444) |#######              | Elapsed Time: 0:00:37 ETA:   0:01:51\n",
      " 36% (885 of 2444) |#######              | Elapsed Time: 0:00:37 ETA:   0:01:37\n"
     ]
    },
    {
     "name": "stdout",
     "output_type": "stream",
     "text": [
      "/Recipe_bedandbroccoli.com.au_September2020.json.gz\n",
      "/MusicRecording_melissarappmusic.com_September2020.json.gz\n",
      "/Event_grants4good.com_September2020.json.gz\n",
      "/Product_shippingrollerconveyor.com_September2020.json.gz\n",
      "/Product_sorbyadamswines.com_September2020.json.gz\n",
      "/Product_picclick.com_September2020.json.gz\n",
      "/Recipe_kitrusy.com_September2020.json.gz\n",
      "/Restaurant_thecheesecakefactory.com_September2020.json.gz\n"
     ]
    },
    {
     "name": "stderr",
     "output_type": "stream",
     "text": [
      " 36% (889 of 2444) |#######              | Elapsed Time: 0:00:37 ETA:   0:01:31\n",
      " 36% (895 of 2444) |#######              | Elapsed Time: 0:00:38 ETA:   0:01:22\n"
     ]
    },
    {
     "name": "stdout",
     "output_type": "stream",
     "text": [
      "/Person_housemanfuneralhome.com_September2020.json.gz\n",
      "/Product_outdoor-oprema.com_September2020.json.gz\n",
      "/LocalBusiness_cabodiscounttours.com_September2020.json.gz\n",
      "/Event_alexandrahouse.org_September2020.json.gz\n",
      "/Product_floristik24.co.uk_September2020.json.gz\n",
      "/Recipe_crumbsandcaramel.com_September2020.json.gz\n",
      "/CreativeWork_antonys-carhire.com_September2020.json.gz\n",
      "/Product_coversandall.com_September2020.json.gz\n",
      "/MusicRecording_shawnjohnsonmusic.com_September2020.json.gz\n",
      "/Event_legraindefolie.com_September2020.json.gz\n",
      "/Product_valvekings.com_September2020.json.gz\n"
     ]
    },
    {
     "name": "stderr",
     "output_type": "stream",
     "text": [
      " 36% (898 of 2444) |#######              | Elapsed Time: 0:00:38 ETA:   0:01:20\n",
      " 36% (901 of 2444) |#######              | Elapsed Time: 0:00:38 ETA:   0:01:19\n"
     ]
    },
    {
     "name": "stdout",
     "output_type": "stream",
     "text": [
      "/Restaurant_absolutebarbecues.com_September2020.json.gz\n",
      "/Product_dripcreationz.com_September2020.json.gz\n",
      "/LocalBusiness_quizpatentino.net_September2020.json.gz\n",
      "/Recipe_germanfoods.org_September2020.json.gz\n",
      "/Product_rebelhillflorist.com_September2020.json.gz\n",
      "/LocalBusiness_cmmaworks.org_September2020.json.gz\n"
     ]
    },
    {
     "name": "stderr",
     "output_type": "stream",
     "text": [
      " 37% (905 of 2444) |#######              | Elapsed Time: 0:00:38 ETA:   0:01:16\n",
      " 37% (907 of 2444) |#######              | Elapsed Time: 0:00:38 ETA:   0:01:17\n"
     ]
    },
    {
     "name": "stdout",
     "output_type": "stream",
     "text": [
      "/Person_cb17brooklyn.org_September2020.json.gz\n",
      "/Event_imaginationstationstudios.com_September2020.json.gz\n",
      "/Product_explorecedarchest.com_September2020.json.gz\n",
      "/Product_crunchi.com_September2020.json.gz\n",
      "/Event_expat.com_September2020.json.gz\n",
      "/Product_moninformatique.net_September2020.json.gz\n",
      "/Recipe_rudehealth.com_September2020.json.gz\n"
     ]
    },
    {
     "name": "stderr",
     "output_type": "stream",
     "text": [
      " 37% (915 of 2444) |#######              | Elapsed Time: 0:00:38 ETA:   0:01:09\n",
      " 37% (920 of 2444) |#######              | Elapsed Time: 0:00:38 ETA:   0:01:06\n"
     ]
    },
    {
     "name": "stdout",
     "output_type": "stream",
     "text": [
      "/Product_johnpcondonfuneralhome.com_September2020.json.gz\n",
      "/MusicRecording_frankzappiamusic.com_September2020.json.gz\n",
      "/Product_tourguideinnepal.com_September2020.json.gz\n",
      "/MusicRecording_corinraymond.com_September2020.json.gz\n",
      "/Event_pcrsbdc.org_September2020.json.gz\n",
      "/Event_mcwe.com_September2020.json.gz\n",
      "/Product_e35shop.com_September2020.json.gz\n",
      "/MusicAlbum_hello-base.com_September2020.json.gz\n",
      "/Product_snowblowersdirect.com_September2020.json.gz\n",
      "/Product_ledsupply.com_September2020.json.gz\n",
      "/Recipe_airfryerrecipes.net_September2020.json.gz\n",
      "/Event_ukcraftfairs.com_September2020.json.gz\n"
     ]
    },
    {
     "name": "stderr",
     "output_type": "stream",
     "text": [
      " 37% (926 of 2444) |#######              | Elapsed Time: 0:00:38 ETA:   0:00:45\n"
     ]
    },
    {
     "name": "stdout",
     "output_type": "stream",
     "text": [
      "/MusicRecording_forever-original.com_September2020.json.gz\n",
      "/Recipe_bellabistro.com_September2020.json.gz\n",
      "/Person_musopen.org_September2020.json.gz\n",
      "/Recipe_plochman.com_September2020.json.gz\n",
      "/Product_gmpartsxperts.com_September2020.json.gz\n",
      "/Event_rectoryfarm.northants.sch.uk_September2020.json.gz\n",
      "/Event_rembrandtswinebar.com_September2020.json.gz\n",
      "/Product_loveyourmelon.com_September2020.json.gz\n"
     ]
    },
    {
     "name": "stderr",
     "output_type": "stream",
     "text": [
      " 38% (931 of 2444) |#######              | Elapsed Time: 0:00:39 ETA:   0:00:43\n",
      " 38% (940 of 2444) |########             | Elapsed Time: 0:00:39 ETA:   0:00:39\n"
     ]
    },
    {
     "name": "stdout",
     "output_type": "stream",
     "text": [
      "/Product_3bears.co.uk_September2020.json.gz\n",
      "/Recipe_wfeh.org_September2020.json.gz\n",
      "/MusicRecording_ricardogautreau.com_September2020.json.gz\n",
      "/MusicRecording_adventuresinparadisenz.com_September2020.json.gz\n",
      "/Person_fariesfuneralhomes.com_September2020.json.gz\n",
      "/Recipe_thesizzleworks.com_September2020.json.gz\n",
      "/Product_bluepennylady.com_September2020.json.gz\n",
      "/Product_donachique.com.br_September2020.json.gz\n",
      "/Product_theaffective.com_September2020.json.gz\n",
      "/Product_opto22.com_September2020.json.gz\n",
      "/Product_gearuptofit.org_September2020.json.gz\n"
     ]
    },
    {
     "name": "stderr",
     "output_type": "stream",
     "text": [
      " 38% (942 of 2444) |########             | Elapsed Time: 0:00:39 ETA:   0:00:42\n"
     ]
    },
    {
     "name": "stdout",
     "output_type": "stream",
     "text": [
      "/Person_fpdevinefuneralhome.com_September2020.json.gz\n",
      "/Event_lawrencedavis.com.au_September2020.json.gz\n",
      "/Person_texasbeekeepers.org_September2020.json.gz\n",
      "/Product_premiumautocars.com_September2020.json.gz\n",
      "/Event_lgrsc.com_September2020.json.gz\n",
      "/Person_swansea.ac.uk_September2020.json.gz\n",
      "/Product_bradlandspetsupplies.com_September2020.json.gz\n"
     ]
    },
    {
     "name": "stderr",
     "output_type": "stream",
     "text": [
      " 38% (949 of 2444) |########             | Elapsed Time: 0:00:39 ETA:   0:00:42\n",
      " 39% (958 of 2444) |########             | Elapsed Time: 0:00:39 ETA:   0:00:37\n"
     ]
    },
    {
     "name": "stdout",
     "output_type": "stream",
     "text": [
      "/Event_lancastercupcake.com_September2020.json.gz\n",
      "/MusicRecording_jordanmatthewyoung.com_September2020.json.gz\n",
      "/Person_charlesrussellspeechlys.com_September2020.json.gz\n",
      "/Product_splitticketing.co.uk_September2020.json.gz\n",
      "/Product_johnnelachkofuneralhome.com_September2020.json.gz\n",
      "/Recipe_zardyplants.com_September2020.json.gz\n",
      "/Product_instrument4you.com.ua_September2020.json.gz\n",
      "/Recipe_thehealthygourmet.co.uk_September2020.json.gz\n",
      "/Product_franksappliance.com_September2020.json.gz\n",
      "/MusicRecording_coniecewashington.com_September2020.json.gz\n",
      "/Product_volvocars-pirbrighttyres.co.uk_September2020.json.gz\n",
      "/Restaurant_restaurantguru.com_September2020.json.gz\n"
     ]
    },
    {
     "name": "stderr",
     "output_type": "stream",
     "text": [
      " 39% (961 of 2444) |########             | Elapsed Time: 0:00:39 ETA:   0:00:41\n"
     ]
    },
    {
     "name": "stdout",
     "output_type": "stream",
     "text": [
      "/Product_pullup-dip.com_September2020.json.gz\n",
      "/Product_victoria-vincent.com_September2020.json.gz\n",
      "/Product_plumbottom.net_September2020.json.gz\n"
     ]
    },
    {
     "name": "stderr",
     "output_type": "stream",
     "text": [
      " 39% (964 of 2444) |########             | Elapsed Time: 0:00:40 ETA:   0:00:45\n",
      " 39% (968 of 2444) |########             | Elapsed Time: 0:00:40 ETA:   0:00:44\n"
     ]
    },
    {
     "name": "stdout",
     "output_type": "stream",
     "text": [
      "/Product_pamycarie.com_September2020.json.gz\n",
      "/MusicAlbum_spotlyrics.com_September2020.json.gz\n",
      "/MusicRecording_rupertwatesmusic.com_September2020.json.gz\n",
      "/CreativeWork_thajokes.com_September2020.json.gz\n",
      "/Recipe_noopurskitchen.com_September2020.json.gz\n",
      "/Product_19yearoldcuties.com_September2020.json.gz\n",
      "/MusicRecording_valstarrandthebluesrocket.com_September2020.json.gz\n",
      "/Product_lndr.uk_September2020.json.gz\n",
      "/Person_thewwa.com_September2020.json.gz\n",
      "/Product_ecosoft-market.com.ua_September2020.json.gz\n"
     ]
    },
    {
     "name": "stderr",
     "output_type": "stream",
     "text": [
      " 39% (976 of 2444) |########             | Elapsed Time: 0:00:40 ETA:   0:00:41\n",
      " 40% (978 of 2444) |########             | Elapsed Time: 0:00:40 ETA:   0:00:42\n"
     ]
    },
    {
     "name": "stdout",
     "output_type": "stream",
     "text": [
      "/Product_houstonperformancesolutions.com_September2020.json.gz\n",
      "/Event_scouts.com.au_September2020.json.gz\n",
      "/CreativeWork_a2ndcup.com_September2020.json.gz\n",
      "/Book_derbygpvts.co.uk_September2020.json.gz\n",
      "/MusicRecording_jillcohn.com_September2020.json.gz\n",
      "/LocalBusiness_enjoykuta.com_September2020.json.gz\n",
      "/Event_downtowntucson.org_September2020.json.gz\n",
      "/Product_fringesport.com_September2020.json.gz\n",
      "/Event_destinycitycomics.com_September2020.json.gz\n"
     ]
    },
    {
     "name": "stderr",
     "output_type": "stream",
     "text": [
      " 40% (986 of 2444) |########             | Elapsed Time: 0:00:40 ETA:   0:00:41\n",
      " 40% (988 of 2444) |########             | Elapsed Time: 0:00:40 ETA:   0:00:43\n"
     ]
    },
    {
     "name": "stdout",
     "output_type": "stream",
     "text": [
      "/Event_missoulachapterhog.com_September2020.json.gz\n",
      "/Person_brighamfuneralchapel.com_September2020.json.gz\n",
      "/Recipe_gourmetwithblakely.com_September2020.json.gz\n",
      "/Recipe_homemademastery.com_September2020.json.gz\n",
      "/Product_townesquarejewelers.com_September2020.json.gz\n",
      "/Product_douglassmotors.uk_September2020.json.gz\n"
     ]
    },
    {
     "name": "stderr",
     "output_type": "stream",
     "text": [
      " 40% (990 of 2444) |########             | Elapsed Time: 0:00:40 ETA:   0:00:48\n"
     ]
    },
    {
     "name": "stdout",
     "output_type": "stream",
     "text": [
      "/Event_cakeresume.com_September2020.json.gz\n",
      "/Product_metrocarlimo.com_September2020.json.gz\n",
      "/Product_bear-family.com_September2020.json.gz\n"
     ]
    },
    {
     "name": "stderr",
     "output_type": "stream",
     "text": [
      " 40% (992 of 2444) |########             | Elapsed Time: 0:00:41 ETA:   0:00:59\n",
      " 40% (997 of 2444) |########             | Elapsed Time: 0:00:41 ETA:   0:00:59\n"
     ]
    },
    {
     "name": "stdout",
     "output_type": "stream",
     "text": [
      "/Recipe_sugarfreedom.com.au_September2020.json.gz\n",
      "/CreativeWork_strategex.com_September2020.json.gz\n",
      "/MusicRecording_jonworthythebends.com_September2020.json.gz\n",
      "/Recipe_baldhiker.com_September2020.json.gz\n",
      "/MusicRecording_audiobuzz.com_September2020.json.gz\n",
      "/Product_hugoboss.com_September2020.json.gz\n"
     ]
    },
    {
     "name": "stderr",
     "output_type": "stream",
     "text": [
      " 40% (998 of 2444) |########             | Elapsed Time: 0:00:41 ETA:   0:01:21\n",
      " 40% (1002 of 2444) |########            | Elapsed Time: 0:00:42 ETA:   0:01:17\n"
     ]
    },
    {
     "name": "stdout",
     "output_type": "stream",
     "text": [
      "/LocalBusiness_lapelsfranchise.com_September2020.json.gz\n",
      "/Person_coge.org_September2020.json.gz\n",
      "/Product_edenhousecondosforsale.com_September2020.json.gz\n",
      "/Recipe_princesspinkygirl.com_September2020.json.gz\n",
      "/Product_nulledfire.com_September2020.json.gz\n"
     ]
    },
    {
     "name": "stderr",
     "output_type": "stream",
     "text": [
      " 41% (1003 of 2444) |########            | Elapsed Time: 0:00:42 ETA:   0:01:17\n"
     ]
    },
    {
     "name": "stdout",
     "output_type": "stream",
     "text": [
      "/CreativeWork_heatherhoustonmusic.com_September2020.json.gz\n",
      "/Product_pandpsales.com_September2020.json.gz\n",
      "/Event_st-rita.org_September2020.json.gz\n"
     ]
    },
    {
     "name": "stderr",
     "output_type": "stream",
     "text": [
      " 41% (1006 of 2444) |########            | Elapsed Time: 0:00:43 ETA:   0:05:59\n",
      " 41% (1010 of 2444) |########            | Elapsed Time: 0:00:43 ETA:   0:04:22\n"
     ]
    },
    {
     "name": "stdout",
     "output_type": "stream",
     "text": [
      "/Event_staccato2011.com_September2020.json.gz\n",
      "/Product_passionzone.com.au_September2020.json.gz\n",
      "/CreativeWork_ehfnow.com_September2020.json.gz\n",
      "/Product_ferrarisappliance.com_September2020.json.gz\n",
      "/Event_beonkeys.com_September2020.json.gz\n",
      "/LocalBusiness_hawaiibaby.com_September2020.json.gz\n",
      "/Product_cocosmane.com_September2020.json.gz\n",
      "/Product_archiproducts.com_September2020.json.gz\n"
     ]
    },
    {
     "name": "stderr",
     "output_type": "stream",
     "text": [
      " 41% (1014 of 2444) |########            | Elapsed Time: 0:00:43 ETA:   0:03:31\n",
      " 41% (1017 of 2444) |########            | Elapsed Time: 0:00:44 ETA:   0:02:37\n",
      " 41% (1021 of 2444) |########            | Elapsed Time: 0:00:44 ETA:   0:02:36\n"
     ]
    },
    {
     "name": "stdout",
     "output_type": "stream",
     "text": [
      "/CreativeWork_grenault.net_September2020.json.gz\n",
      "/Product_flowers4nepal.com_September2020.json.gz\n",
      "/Product_patiocascades.co.uk_September2020.json.gz\n",
      "/Product_hallcars.com_September2020.json.gz\n",
      "/Product_egyguy.com_September2020.json.gz\n",
      "/MusicRecording_travisallison.com_September2020.json.gz\n",
      "/Person_pornohans.com_September2020.json.gz\n",
      "/MusicRecording_zindarsian.com_September2020.json.gz\n",
      "/MusicRecording_onegshemesh.com_September2020.json.gz\n",
      "/Product_majorworldchevy.com_September2020.json.gz\n"
     ]
    },
    {
     "name": "stderr",
     "output_type": "stream",
     "text": [
      " 42% (1027 of 2444) |########            | Elapsed Time: 0:00:44 ETA:   0:02:01\n",
      " 42% (1036 of 2444) |########            | Elapsed Time: 0:00:44 ETA:   0:01:32\n"
     ]
    },
    {
     "name": "stdout",
     "output_type": "stream",
     "text": [
      "/Product_thebongshop.com.au_September2020.json.gz\n",
      "/Product_elevatedfaith.com_September2020.json.gz\n",
      "/Recipe_calgarycoop.com_September2020.json.gz\n",
      "/LocalBusiness_northeastrealtors.com_September2020.json.gz\n",
      "/Product_hbcprotocols.com_September2020.json.gz\n",
      "/Person_ramsaygroupfs.com_September2020.json.gz\n",
      "/CreativeWork_royalfreeprivatepatients.com_September2020.json.gz\n",
      "/Product_volkswagenofkirkland.com_September2020.json.gz\n",
      "/MusicRecording_aylanereo.com_September2020.json.gz\n",
      "/MusicRecording_mrogers.com_September2020.json.gz\n",
      "/Product_raaqy.com_September2020.json.gz\n",
      "/Product_taylorfh.com_September2020.json.gz\n",
      "/Product_willisfinejewelry.com_September2020.json.gz\n"
     ]
    },
    {
     "name": "stderr",
     "output_type": "stream",
     "text": [
      " 42% (1039 of 2444) |########            | Elapsed Time: 0:00:44 ETA:   0:01:28\n",
      " 42% (1046 of 2444) |########            | Elapsed Time: 0:00:44 ETA:   0:01:17\n"
     ]
    },
    {
     "name": "stdout",
     "output_type": "stream",
     "text": [
      "/Recipe_muchbutter.com_September2020.json.gz\n",
      "/Event_contemplativeoutreach.org_September2020.json.gz\n",
      "/MusicRecording_rebelsnosavage.com_September2020.json.gz\n",
      "/MusicRecording_jodyhealymusic.com_September2020.json.gz\n",
      "/MusicRecording_cyrusnabipoor.com_September2020.json.gz\n",
      "/Product_uklegalknives.com_September2020.json.gz\n",
      "/Product_moon.com.hr_September2020.json.gz\n",
      "/Recipe_dancingthroughtherain.com_September2020.json.gz\n",
      "/MusicRecording_blackmagikmusic.com_September2020.json.gz\n",
      "/Product_kigurumilab.com_September2020.json.gz\n",
      "/Product_charmetee.com_September2020.json.gz\n",
      "/Product_cheng-shen.com.tw_September2020.json.gz\n",
      "/Person_mfrbee.com_September2020.json.gz\n"
     ]
    },
    {
     "name": "stderr",
     "output_type": "stream",
     "text": [
      " 43% (1052 of 2444) |########            | Elapsed Time: 0:00:44 ETA:   0:01:11\n"
     ]
    },
    {
     "name": "stdout",
     "output_type": "stream",
     "text": [
      "/Event_kasperowski.com_September2020.json.gz\n",
      "/Product_nowostey.net_September2020.json.gz\n",
      "/Product_aydry.com_September2020.json.gz\n",
      "/MusicRecording_johnmercurio.com_September2020.json.gz\n",
      "/Product_buywaiwai.com_September2020.json.gz\n"
     ]
    },
    {
     "name": "stderr",
     "output_type": "stream",
     "text": [
      " 43% (1055 of 2444) |########            | Elapsed Time: 0:00:44 ETA:   0:01:10\n",
      " 43% (1059 of 2444) |########            | Elapsed Time: 0:00:44 ETA:   0:01:08\n"
     ]
    },
    {
     "name": "stdout",
     "output_type": "stream",
     "text": [
      "/Event_smokymountaintickets.com_September2020.json.gz\n",
      "/Restaurant_canalegriaparis.com_September2020.json.gz\n",
      "/Product_nelsonmazdanorman.com_September2020.json.gz\n",
      "/Product_flowers4japan.com_September2020.json.gz\n",
      "/Product_badmintonwarehouse.com_September2020.json.gz\n",
      "/Product_froststreetwear.com_September2020.json.gz\n",
      "/Hotel_find-around.com_September2020.json.gz\n"
     ]
    },
    {
     "name": "stderr",
     "output_type": "stream",
     "text": [
      " 43% (1062 of 2444) |########            | Elapsed Time: 0:00:45 ETA:   0:01:07\n",
      " 43% (1068 of 2444) |########            | Elapsed Time: 0:00:45 ETA:   0:01:03\n"
     ]
    },
    {
     "name": "stdout",
     "output_type": "stream",
     "text": [
      "/Recipe_aimeebroussard.com_September2020.json.gz\n",
      "/Product_stlaurentvolvo.com_September2020.json.gz\n",
      "/Book_pdfcloudbook.com_September2020.json.gz\n",
      "/Person_weatherfordmortuary.com_September2020.json.gz\n",
      "/Person_highsmithfh.com_September2020.json.gz\n",
      "/Person_freevideochat69.com_September2020.json.gz\n",
      "/Recipe_welcometothefamilytable.com_September2020.json.gz\n",
      "/CreativeWork_sealandmotion.com_September2020.json.gz\n"
     ]
    },
    {
     "name": "stderr",
     "output_type": "stream",
     "text": [
      " 43% (1072 of 2444) |########            | Elapsed Time: 0:00:45 ETA:   0:01:01\n",
      " 44% (1076 of 2444) |########            | Elapsed Time: 0:00:45 ETA:   0:01:00\n"
     ]
    },
    {
     "name": "stdout",
     "output_type": "stream",
     "text": [
      "/MusicRecording_queensentertainment.com_September2020.json.gz\n",
      "/Recipe_runawayrice.com_September2020.json.gz\n",
      "/Product_aviewfrommyseat.com_September2020.json.gz\n",
      "/Person_graymortuary.com_September2020.json.gz\n",
      "/Product_fashiontrends.com.ua_September2020.json.gz\n",
      "/TVEpisode_travel-tbilisi.com_September2020.json.gz\n",
      "/Product_internetdiesel.com_September2020.json.gz\n"
     ]
    },
    {
     "name": "stderr",
     "output_type": "stream",
     "text": [
      " 44% (1078 of 2444) |########            | Elapsed Time: 0:00:45 ETA:   0:01:01\n",
      " 44% (1083 of 2444) |########            | Elapsed Time: 0:00:45 ETA:   0:01:00\n"
     ]
    },
    {
     "name": "stdout",
     "output_type": "stream",
     "text": [
      "/Product_audreyandhim.com_September2020.json.gz\n",
      "/CreativeWork_everybunnyeats.com_September2020.json.gz\n",
      "/Person_visitdenmark.com_September2020.json.gz\n",
      "/MusicRecording_thecatalinas.net_September2020.json.gz\n",
      "/Product_all-in-all-flooring-accessories.co.uk_September2020.json.gz\n",
      "/CreativeWork_altafelicita.org_September2020.json.gz\n",
      "/Product_mybestsexshop.com_September2020.json.gz\n",
      "/Product_dealgiant.co.uk_September2020.json.gz\n",
      "/MusicRecording_mattrileymusic.com_September2020.json.gz\n",
      "/Recipe_predominantlypaleo.com_September2020.json.gz\n",
      "/Product_sopefi.com_September2020.json.gz\n"
     ]
    },
    {
     "name": "stderr",
     "output_type": "stream",
     "text": [
      " 44% (1092 of 2444) |########            | Elapsed Time: 0:00:45 ETA:   0:00:32\n",
      " 44% (1096 of 2444) |########            | Elapsed Time: 0:00:45 ETA:   0:00:32\n"
     ]
    },
    {
     "name": "stdout",
     "output_type": "stream",
     "text": [
      "/Product_comboboxing.com_September2020.json.gz\n",
      "/Event_namimetsub.org_September2020.json.gz\n",
      "/Person_raywhitecranbourne.com_September2020.json.gz\n",
      "/CreativeWork_jylmachine.com_September2020.json.gz\n",
      "/MusicRecording_patrickconway.com_September2020.json.gz\n",
      "/LocalBusiness_rocklandmainstreet.org_September2020.json.gz\n",
      "/Product_worldvita.com_September2020.json.gz\n",
      "/CreativeWork_tedwardwines.com_September2020.json.gz\n",
      "/Recipe_mytasteve.com_September2020.json.gz\n"
     ]
    },
    {
     "name": "stderr",
     "output_type": "stream",
     "text": [
      " 44% (1099 of 2444) |########            | Elapsed Time: 0:00:46 ETA:   0:00:32\n"
     ]
    },
    {
     "name": "stdout",
     "output_type": "stream",
     "text": [
      "/LocalBusiness_meetaphotographer.com_September2020.json.gz\n",
      "/CreativeWork_demonscripts.com_September2020.json.gz\n",
      "/Product_vathir.com_September2020.json.gz\n",
      "/MusicRecording_luketruanmusic.com_September2020.json.gz\n",
      "/Person_springvalleyfuneral.net_September2020.json.gz\n",
      "/Product_best-steroids.org_September2020.json.gz\n",
      "/Recipe_freshplanetflavor.com_September2020.json.gz\n",
      "/Event_iowariverlanding.com_September2020.json.gz\n",
      "/Person_eimerstahl.com_September2020.json.gz\n",
      "/Event_witherslackridingschool.co.uk_September2020.json.gz\n",
      "/MusicRecording_revelationhousemusicfoundation.com_September2020.json.gz\n",
      "/Event_lifelinedatacenters.com_September2020.json.gz\n"
     ]
    },
    {
     "name": "stderr",
     "output_type": "stream",
     "text": [
      " 45% (1109 of 2444) |#########           | Elapsed Time: 0:00:46 ETA:   0:00:29\n",
      " 45% (1111 of 2444) |#########           | Elapsed Time: 0:00:46 ETA:   0:00:30\n"
     ]
    },
    {
     "name": "stdout",
     "output_type": "stream",
     "text": [
      "/MusicRecording_sammyeubankslive.com_September2020.json.gz\n",
      "/Recipe_kingshawaiian.com_September2020.json.gz\n",
      "/Product_tonnerre-de-brest.com_September2020.json.gz\n",
      "/Product_haypp.com_September2020.json.gz\n",
      "/MusicRecording_sonsofmorning.com_September2020.json.gz\n",
      "/Product_farthais.com_September2020.json.gz\n"
     ]
    },
    {
     "name": "stderr",
     "output_type": "stream",
     "text": [
      " 45% (1115 of 2444) |#########           | Elapsed Time: 0:00:46 ETA:   0:00:33\n",
      " 45% (1123 of 2444) |#########           | Elapsed Time: 0:00:46 ETA:   0:00:31\n"
     ]
    },
    {
     "name": "stdout",
     "output_type": "stream",
     "text": [
      "/Product_malibugift.com_September2020.json.gz\n",
      "/Hotel_jasperhotel.com.au_September2020.json.gz\n",
      "/CreativeWork_casadeoracion.org.mx_September2020.json.gz\n",
      "/Product_healthsmartcbd.com_September2020.json.gz\n",
      "/Product_shopmerit.com_September2020.json.gz\n",
      "/Product_shevanti.com_September2020.json.gz\n",
      "/LocalBusiness_texasstonesealers.com_September2020.json.gz\n",
      "/Event_okcorralgunclub.com_September2020.json.gz\n",
      "/Recipe_thejourneygirl.com_September2020.json.gz\n",
      "/Recipe_easysipping.co.uk_September2020.json.gz\n",
      "/Product_indymini.com_September2020.json.gz\n",
      "/Product_buglogical.com_September2020.json.gz\n",
      "/LocalBusiness_winetourism.com_September2020.json.gz\n",
      "/Product_unclefossil.com_September2020.json.gz\n"
     ]
    },
    {
     "name": "stderr",
     "output_type": "stream",
     "text": [
      " 46% (1129 of 2444) |#########           | Elapsed Time: 0:00:46 ETA:   0:00:31\n"
     ]
    },
    {
     "name": "stdout",
     "output_type": "stream",
     "text": [
      "/Product_eshop-outdoor.com_September2020.json.gz\n",
      "/Product_fishermanswarehouse.com_September2020.json.gz\n"
     ]
    },
    {
     "name": "stderr",
     "output_type": "stream",
     "text": [
      " 46% (1131 of 2444) |#########           | Elapsed Time: 0:00:46 ETA:   0:00:34\n"
     ]
    },
    {
     "name": "stdout",
     "output_type": "stream",
     "text": [
      "/Product_fantasy4us.com_September2020.json.gz\n",
      "/Product_youngerweb.com_September2020.json.gz\n",
      "/Event_holynameretreatcenter.com_September2020.json.gz\n",
      "/CreativeWork_gentlerenew.com_September2020.json.gz\n",
      "/MusicRecording_tessdunn.com_September2020.json.gz\n",
      "/Event_eyecandylv.com_September2020.json.gz\n",
      "/Product_jenkinschevroletofvenice.com_September2020.json.gz\n",
      "/Product_testequipmentusa.com_September2020.json.gz\n"
     ]
    },
    {
     "name": "stderr",
     "output_type": "stream",
     "text": [
      " 46% (1139 of 2444) |#########           | Elapsed Time: 0:00:47 ETA:   0:00:34\n",
      " 46% (1144 of 2444) |#########           | Elapsed Time: 0:00:47 ETA:   0:00:33\n"
     ]
    },
    {
     "name": "stdout",
     "output_type": "stream",
     "text": [
      "/Event_equinoxvillage.com_September2020.json.gz\n",
      "/Product_paulaschoice-eu.com_September2020.json.gz\n",
      "/Event_unexpectedproductions.org_September2020.json.gz\n",
      "/CreativeWork_acuraworld.com_September2020.json.gz\n",
      "/Product_acurapartsworld.com_September2020.json.gz\n",
      "/Recipe_diyhcg.com_September2020.json.gz\n",
      "/LocalBusiness_benchmarkitservices.com_September2020.json.gz\n",
      "/Recipe_diybeautydiva.com_September2020.json.gz\n",
      "/Event_clackamasartsalliance.org_September2020.json.gz\n",
      "/Product_cottontraders.com.au_September2020.json.gz\n",
      "/Product_flowers4manchester.com_September2020.json.gz\n"
     ]
    },
    {
     "name": "stderr",
     "output_type": "stream",
     "text": [
      " 47% (1151 of 2444) |#########           | Elapsed Time: 0:00:47 ETA:   0:00:32\n",
      " 47% (1157 of 2444) |#########           | Elapsed Time: 0:00:47 ETA:   0:00:32\n"
     ]
    },
    {
     "name": "stdout",
     "output_type": "stream",
     "text": [
      "/Product_akbestchoice.com_September2020.json.gz\n",
      "/CreativeWork_turismecv.com_September2020.json.gz\n",
      "/Place_tanglewoodmoms.com_September2020.json.gz\n",
      "/Recipe_thewholesomedish.com_September2020.json.gz\n",
      "/Product_vehicle-accessories.net_September2020.json.gz\n",
      "/CreativeWork_retfordchiro.co.uk_September2020.json.gz\n",
      "/Recipe_hungry-girl.com_September2020.json.gz\n",
      "/Product_digcompare.com_September2020.json.gz\n"
     ]
    },
    {
     "name": "stderr",
     "output_type": "stream",
     "text": [
      " 47% (1159 of 2444) |#########           | Elapsed Time: 0:00:47 ETA:   0:00:31\n",
      " 47% (1162 of 2444) |#########           | Elapsed Time: 0:00:47 ETA:   0:00:32\n"
     ]
    },
    {
     "name": "stdout",
     "output_type": "stream",
     "text": [
      "/Product_gissellemorales.com_September2020.json.gz\n",
      "/CreativeWork_honestcharley.com_September2020.json.gz\n",
      "/Event_watersedgeidaho.org_September2020.json.gz\n",
      "/Product_route21furnitureonline.com_September2020.json.gz\n",
      "/CreativeWork_trwurster.com_September2020.json.gz\n",
      "/MusicRecording_mikelounibos.com_September2020.json.gz\n",
      "/Product_relusso.com_September2020.json.gz\n"
     ]
    },
    {
     "name": "stderr",
     "output_type": "stream",
     "text": [
      " 47% (1171 of 2444) |#########           | Elapsed Time: 0:00:47 ETA:   0:00:32\n"
     ]
    },
    {
     "name": "stdout",
     "output_type": "stream",
     "text": [
      "/Product_frankletaacura.com_September2020.json.gz\n",
      "/CreativeWork_worldtourism.com_September2020.json.gz\n",
      "/LocalBusiness_jenerg.com_September2020.json.gz\n",
      "/MusicRecording_kkbceilidh.com_September2020.json.gz\n",
      "/Person_hereandnowmag.co.uk_September2020.json.gz\n",
      "/Place_visitalmere.com_September2020.json.gz\n",
      "/MusicRecording_jackieleigh.com_September2020.json.gz\n",
      "/CreativeWork_atas.net_September2020.json.gz\n",
      "/Person_novagraaf.com_September2020.json.gz\n",
      "/Product_aarlasignature.com_September2020.json.gz\n",
      "/MusicRecording_christineleemusic.com_September2020.json.gz\n",
      "/Person_avalere.com_September2020.json.gz\n",
      "/MusicRecording_tomhipps.com_September2020.json.gz\n",
      "/Product_yoursclothing.com_September2020.json.gz\n"
     ]
    },
    {
     "name": "stderr",
     "output_type": "stream",
     "text": [
      " 48% (1179 of 2444) |#########           | Elapsed Time: 0:00:47 ETA:   0:00:31\n"
     ]
    },
    {
     "name": "stdout",
     "output_type": "stream",
     "text": [
      "/MusicRecording_hiphopxtreme.com_September2020.json.gz\n",
      "/LocalBusiness_hunterberry-ru.com_September2020.json.gz\n",
      "/Product_medsengages.com_September2020.json.gz\n",
      "/Product_ellisons.co.uk_September2020.json.gz\n"
     ]
    },
    {
     "name": "stderr",
     "output_type": "stream",
     "text": [
      " 48% (1183 of 2444) |#########           | Elapsed Time: 0:00:48 ETA:   0:00:37\n",
      " 48% (1187 of 2444) |#########           | Elapsed Time: 0:00:48 ETA:   0:00:36\n"
     ]
    },
    {
     "name": "stdout",
     "output_type": "stream",
     "text": [
      "/Product_outerbanksblue.com_September2020.json.gz\n",
      "/Product_subarusource.com_September2020.json.gz\n",
      "/Product_meselondon.com_September2020.json.gz\n",
      "/Product_playandpleasure.com.au_September2020.json.gz\n",
      "/Recipe_bsinthekitchen.com_September2020.json.gz\n",
      "/Product_gorenje.com_September2020.json.gz\n",
      "/LocalBusiness_thrivevet.com_September2020.json.gz\n",
      "/Recipe_grokker.com_September2020.json.gz\n"
     ]
    },
    {
     "name": "stderr",
     "output_type": "stream",
     "text": [
      " 48% (1191 of 2444) |#########           | Elapsed Time: 0:00:48 ETA:   0:00:42\n",
      " 48% (1194 of 2444) |#########           | Elapsed Time: 0:00:48 ETA:   0:00:40\n"
     ]
    },
    {
     "name": "stdout",
     "output_type": "stream",
     "text": [
      "/MusicRecording_warrenbodleallen.com_September2020.json.gz\n",
      "/MusicRecording_young40music.com_September2020.json.gz\n",
      "/Book_ilmare.com_September2020.json.gz\n",
      "/Product_flowers4budapest.com_September2020.json.gz\n",
      "/MusicRecording_anglipiano.com_September2020.json.gz\n",
      "/CreativeWork_soaznp.com_September2020.json.gz\n",
      "/Event_artfuldreamers.com_September2020.json.gz\n",
      "/Product_mymineralife.com_September2020.json.gz\n"
     ]
    },
    {
     "name": "stderr",
     "output_type": "stream",
     "text": [
      " 49% (1201 of 2444) |#########           | Elapsed Time: 0:00:49 ETA:   0:00:38\n",
      " 49% (1205 of 2444) |#########           | Elapsed Time: 0:00:49 ETA:   0:00:37\n"
     ]
    },
    {
     "name": "stdout",
     "output_type": "stream",
     "text": [
      "/MusicRecording_paisleygroove.com_September2020.json.gz\n",
      "/Recipe_icooktoheal.com_September2020.json.gz\n",
      "/MusicRecording_neurotixband.com_September2020.json.gz\n",
      "/Product_dancetampaonline.com_September2020.json.gz\n",
      "/Recipe_philips.com.vn_September2020.json.gz\n",
      "/Person_jamyangleeds.co.uk_September2020.json.gz\n",
      "/Product_narutopoint.com_September2020.json.gz\n"
     ]
    },
    {
     "name": "stderr",
     "output_type": "stream",
     "text": [
      " 49% (1207 of 2444) |#########           | Elapsed Time: 0:00:49 ETA:   0:00:37\n",
      " 49% (1213 of 2444) |#########           | Elapsed Time: 0:00:49 ETA:   0:00:37\n"
     ]
    },
    {
     "name": "stdout",
     "output_type": "stream",
     "text": [
      "/Product_mendenhallautocenter.com_September2020.json.gz\n",
      "/Product_bestpricetravel.com_September2020.json.gz\n",
      "/Product_gremegro.com_September2020.json.gz\n",
      "/Event_retweed.com_September2020.json.gz\n",
      "/Product_gamesto.com_September2020.json.gz\n",
      "/MusicRecording_jeribrown.com_September2020.json.gz\n",
      "/TVEpisode_pakistandramas.com_September2020.json.gz\n",
      "/Recipe_chedzsnacks.com_September2020.json.gz\n",
      "/Product_texasdriveauto.com_September2020.json.gz\n",
      "/MusicRecording_heylisa.com_September2020.json.gz\n",
      "/Restaurant_954area.com_September2020.json.gz\n",
      "/CreativeWork_capturefusephotography.com_September2020.json.gz\n"
     ]
    },
    {
     "name": "stderr",
     "output_type": "stream",
     "text": [
      " 49% (1219 of 2444) |#########           | Elapsed Time: 0:00:49 ETA:   0:00:38\n"
     ]
    },
    {
     "name": "stdout",
     "output_type": "stream",
     "text": [
      "/Product_rtbshopper.com_September2020.json.gz\n",
      "/Event_conch.org.au_September2020.json.gz\n",
      "/MusicRecording_kevinwestmusic.com_September2020.json.gz\n",
      "/Recipe_sisnlaw.co.uk_September2020.json.gz\n"
     ]
    },
    {
     "name": "stderr",
     "output_type": "stream",
     "text": [
      " 50% (1222 of 2444) |##########          | Elapsed Time: 0:00:49 ETA:   0:00:49\n",
      " 50% (1225 of 2444) |##########          | Elapsed Time: 0:00:50 ETA:   0:00:54\n"
     ]
    },
    {
     "name": "stdout",
     "output_type": "stream",
     "text": [
      "/MusicRecording_istarvision.com_September2020.json.gz\n",
      "/Product_gearuptogrow.com_September2020.json.gz\n",
      "/Product_owlmedical.com_September2020.json.gz\n",
      "/Restaurant_kibrisgecekusu.com_September2020.json.gz\n",
      "/Product_mopartshirts.com_September2020.json.gz\n"
     ]
    },
    {
     "name": "stderr",
     "output_type": "stream",
     "text": [
      " 50% (1227 of 2444) |##########          | Elapsed Time: 0:00:50 ETA:   0:00:54\n",
      " 50% (1232 of 2444) |##########          | Elapsed Time: 0:00:50 ETA:   0:00:51\n"
     ]
    },
    {
     "name": "stdout",
     "output_type": "stream",
     "text": [
      "/Recipe_glitterandgraze.com_September2020.json.gz\n",
      "/CreativeWork_nuheara.com_September2020.json.gz\n",
      "/Product_flotoimports.com_September2020.json.gz\n",
      "/LocalBusiness_minube.co.uk_September2020.json.gz\n",
      "/Place_schubert.org_September2020.json.gz\n",
      "/Person_cyclingnews.com_September2020.json.gz\n",
      "/CreativeWork_wpengine.com_September2020.json.gz\n"
     ]
    },
    {
     "name": "stderr",
     "output_type": "stream",
     "text": [
      " 50% (1234 of 2444) |##########          | Elapsed Time: 0:00:50 ETA:   0:00:51\n",
      " 50% (1236 of 2444) |##########          | Elapsed Time: 0:00:50 ETA:   0:00:47\n"
     ]
    },
    {
     "name": "stdout",
     "output_type": "stream",
     "text": [
      "/MusicRecording_kengreves.com_September2020.json.gz\n",
      "/Person_greateralabamamls.com_September2020.json.gz\n",
      "/Product_2000williamsislandcondosforsale.com_September2020.json.gz\n",
      "/CreativeWork_relationshiptherapistrn.com_September2020.json.gz\n",
      "/Product_loftspamarket.com_September2020.json.gz\n",
      "/Product_e-gerovital.com_September2020.json.gz\n",
      "/Product_kirligiyim.com_September2020.json.gz\n",
      "/Restaurant_allbarone.co.uk_September2020.json.gz\n",
      "/Product_hendrickbuford.com_September2020.json.gz\n",
      "/Product_modibodi.co.uk_September2020.json.gz\n"
     ]
    },
    {
     "name": "stderr",
     "output_type": "stream",
     "text": [
      " 50% (1244 of 2444) |##########          | Elapsed Time: 0:00:50 ETA:   0:00:43\n"
     ]
    },
    {
     "name": "stdout",
     "output_type": "stream",
     "text": [
      "/Book_abebooks.co.uk_September2020.json.gz\n"
     ]
    },
    {
     "name": "stderr",
     "output_type": "stream",
     "text": [
      " 50% (1245 of 2444) |##########          | Elapsed Time: 0:00:51 ETA:   0:01:44\n",
      " 50% (1246 of 2444) |##########          | Elapsed Time: 0:00:51 ETA:   0:01:45\n"
     ]
    },
    {
     "name": "stdout",
     "output_type": "stream",
     "text": [
      "/LocalBusiness_venuebookingz.com_September2020.json.gz\n",
      "/Product_euro-mall.net_September2020.json.gz\n"
     ]
    },
    {
     "name": "stderr",
     "output_type": "stream",
     "text": [
      " 51% (1247 of 2444) |##########          | Elapsed Time: 0:00:51 ETA:   0:01:40\n",
      " 51% (1249 of 2444) |##########          | Elapsed Time: 0:00:52 ETA:   0:01:43\n"
     ]
    },
    {
     "name": "stdout",
     "output_type": "stream",
     "text": [
      "/Product_teambolt-ons.com_September2020.json.gz\n",
      "/CreativeWork_mazda3revolution.com_September2020.json.gz\n",
      "/Product_abelwest.com_September2020.json.gz\n",
      "/TVEpisode_trutv.com_September2020.json.gz\n",
      "/MusicRecording_corinnewest.com_September2020.json.gz\n",
      "/Hotel_tripadvisor.com.br_September2020.json.gz\n"
     ]
    },
    {
     "name": "stderr",
     "output_type": "stream",
     "text": [
      " 51% (1255 of 2444) |##########          | Elapsed Time: 0:00:52 ETA:   0:01:28\n",
      " 51% (1258 of 2444) |##########          | Elapsed Time: 0:00:52 ETA:   0:01:34\n"
     ]
    },
    {
     "name": "stdout",
     "output_type": "stream",
     "text": [
      "/Event_crossroadsag.net_September2020.json.gz\n",
      "/Product_guardiancremation.com_September2020.json.gz\n",
      "/Place_uvmbored.com_September2020.json.gz\n",
      "/Product_flowersandkisses.com.sg_September2020.json.gz\n",
      "/Product_brother-printers.co.uk_September2020.json.gz\n",
      "/CreativeWork_peregrinacionesguadalupanas.org_September2020.json.gz\n",
      "/CreativeWork_hivgaps.org_September2020.json.gz\n",
      "/Recipe_eclectic-domestic.com_September2020.json.gz\n",
      "/Recipe_doctoroz.com_September2020.json.gz\n",
      "/Product_electricreviews.com_September2020.json.gz\n"
     ]
    },
    {
     "name": "stderr",
     "output_type": "stream",
     "text": [
      " 51% (1264 of 2444) |##########          | Elapsed Time: 0:00:52 ETA:   0:01:21\n",
      " 51% (1268 of 2444) |##########          | Elapsed Time: 0:00:52 ETA:   0:01:39\n"
     ]
    },
    {
     "name": "stdout",
     "output_type": "stream",
     "text": [
      "/MusicRecording_9mileroots.com_September2020.json.gz\n",
      "/Product_csymarine.com_September2020.json.gz\n",
      "/CreativeWork_visitsaffronwalden.gov.uk_September2020.json.gz\n",
      "/Product_auffenbergcapehyundai.com_September2020.json.gz\n",
      "/Product_woodleeappliance.com_September2020.json.gz\n",
      "/Product_victorvalleymortuary.com_September2020.json.gz\n",
      "/LocalBusiness_photographernearme.com.au_September2020.json.gz\n"
     ]
    },
    {
     "name": "stderr",
     "output_type": "stream",
     "text": [
      " 52% (1274 of 2444) |##########          | Elapsed Time: 0:00:52 ETA:   0:01:23\n"
     ]
    },
    {
     "name": "stdout",
     "output_type": "stream",
     "text": [
      "/Product_dovechice.com_September2020.json.gz\n",
      "/LocalBusiness_visitspacecoast.com_September2020.json.gz\n",
      "/Product_location-saisonniere-nice.com_September2020.json.gz\n",
      "/Product_traffixdevices.com_September2020.json.gz\n",
      "/Event_bridgesofpbc.org_September2020.json.gz\n",
      "/Product_aukiamenswear.com_September2020.json.gz\n",
      "/Product_londonluv.com_September2020.json.gz\n"
     ]
    },
    {
     "name": "stderr",
     "output_type": "stream",
     "text": [
      " 52% (1277 of 2444) |##########          | Elapsed Time: 0:00:52 ETA:   0:01:22\n"
     ]
    },
    {
     "name": "stdout",
     "output_type": "stream",
     "text": [
      "/Recipe_deviliciouslyraw.com_September2020.json.gz\n",
      "/Product_melin.com_September2020.json.gz\n",
      "/Book_childrensbookshop.com_September2020.json.gz\n"
     ]
    },
    {
     "name": "stderr",
     "output_type": "stream",
     "text": [
      " 52% (1280 of 2444) |##########          | Elapsed Time: 0:00:55 ETA:   0:14:53\n",
      " 52% (1282 of 2444) |##########          | Elapsed Time: 0:00:55 ETA:   0:09:21\n"
     ]
    },
    {
     "name": "stdout",
     "output_type": "stream",
     "text": [
      "/Hotel_sanibelisland-captiva.com_September2020.json.gz\n",
      "/Person_glueup.com_September2020.json.gz\n",
      "/Event_bradleywell.com_September2020.json.gz\n",
      "/Product_scotward.com_September2020.json.gz\n",
      "/CreativeWork_yambamarina.com.au_September2020.json.gz\n",
      "/Recipe_passtheplants.com_September2020.json.gz\n",
      "/Product_outshop.com.br_September2020.json.gz\n",
      "/Event_domiplay.net_September2020.json.gz\n"
     ]
    },
    {
     "name": "stderr",
     "output_type": "stream",
     "text": [
      " 52% (1289 of 2444) |##########          | Elapsed Time: 0:00:55 ETA:   0:04:04\n",
      " 52% (1292 of 2444) |##########          | Elapsed Time: 0:00:55 ETA:   0:03:23\n"
     ]
    },
    {
     "name": "stdout",
     "output_type": "stream",
     "text": [
      "/Recipe_mymansbelly.com_September2020.json.gz\n",
      "/Product_kutstone.com_September2020.json.gz\n",
      "/Recipe_cookingwithveggies.com_September2020.json.gz\n",
      "/Recipe_mytastecz.com_September2020.json.gz\n",
      "/Product_quickwittedcoconut.com_September2020.json.gz\n",
      "/Product_raco.com.au_September2020.json.gz\n",
      "/Product_ourgardenpath.com_September2020.json.gz\n",
      "/Person_homepropertylawyers.com_September2020.json.gz\n",
      "/Person_dacbeachcroft.com_September2020.json.gz\n"
     ]
    },
    {
     "name": "stderr",
     "output_type": "stream",
     "text": [
      " 53% (1300 of 2444) |##########          | Elapsed Time: 0:00:55 ETA:   0:02:17\n",
      " 53% (1301 of 2444) |##########          | Elapsed Time: 0:00:55 ETA:   0:02:18\n"
     ]
    },
    {
     "name": "stdout",
     "output_type": "stream",
     "text": [
      "/CreativeWork_psikoodak.com.tr_September2020.json.gz\n",
      "/Event_emreventpark.com_September2020.json.gz\n",
      "/Product_marchefamose.com_September2020.json.gz\n",
      "/Product_twowheeltek.com_September2020.json.gz\n",
      "/Product_rongtaomedical.com_September2020.json.gz\n",
      "/Person_manaretreat.com_September2020.json.gz\n",
      "/Event_statelinebgc.org_September2020.json.gz\n"
     ]
    },
    {
     "name": "stderr",
     "output_type": "stream",
     "text": [
      " 53% (1309 of 2444) |##########          | Elapsed Time: 0:00:55 ETA:   0:01:47\n",
      " 53% (1314 of 2444) |##########          | Elapsed Time: 0:00:56 ETA:   0:01:35\n"
     ]
    },
    {
     "name": "stdout",
     "output_type": "stream",
     "text": [
      "/Product_rigworks.com_September2020.json.gz\n",
      "/Product_bestprolighting.com_September2020.json.gz\n",
      "/Product_highgatefurniture.co.uk_September2020.json.gz\n",
      "/LocalBusiness_maxmoldremoval.com_September2020.json.gz\n",
      "/Product_aikensairplanes.com_September2020.json.gz\n",
      "/Product_morningstarmotors.com_September2020.json.gz\n",
      "/CreativeWork_lite4u.net_September2020.json.gz\n",
      "/Event_adrianfreedman.com_September2020.json.gz\n",
      "/Product_casterconnection.com_September2020.json.gz\n",
      "/Product_plc4training.com_September2020.json.gz\n",
      "/MusicRecording_ashesoffolly.com_September2020.json.gz\n",
      "/CreativeWork_cazbarr.co.uk_September2020.json.gz\n"
     ]
    },
    {
     "name": "stderr",
     "output_type": "stream",
     "text": [
      " 54% (1320 of 2444) |##########          | Elapsed Time: 0:00:56 ETA:   0:01:26\n"
     ]
    },
    {
     "name": "stdout",
     "output_type": "stream",
     "text": [
      "/Product_stringtrimmersdirect.com_September2020.json.gz\n",
      "/Product_tvmay.com_September2020.json.gz\n",
      "/Event_vinegogh.com_September2020.json.gz\n",
      "/Product_lookfantastic.com.hk_September2020.json.gz\n",
      "/CreativeWork_lizardaudio.com_September2020.json.gz\n",
      "/Product_letpacificfood.com_September2020.json.gz\n",
      "/LocalBusiness_drymasterwaterdamage.com_September2020.json.gz\n",
      "/Product_seaglospa.com_September2020.json.gz\n"
     ]
    },
    {
     "name": "stderr",
     "output_type": "stream",
     "text": [
      " 54% (1328 of 2444) |##########          | Elapsed Time: 0:00:56 ETA:   0:01:14\n"
     ]
    },
    {
     "name": "stdout",
     "output_type": "stream",
     "text": [
      "/CreativeWork_scottstillsonlaw.com_September2020.json.gz\n",
      "/Hotel_willothewisp.com_September2020.json.gz\n",
      "/Person_sublimecam.com_September2020.json.gz\n",
      "/Product_sportua.com.ua_September2020.json.gz\n",
      "/MusicRecording_jcandlaney.com_September2020.json.gz\n",
      "/Person_highlandlakesrealtors.com_September2020.json.gz\n",
      "/Product_hgspecialist.com_September2020.json.gz\n",
      "/Product_apexinds.com_September2020.json.gz\n",
      "/TVEpisode_smilenet3.net_September2020.json.gz\n"
     ]
    },
    {
     "name": "stderr",
     "output_type": "stream",
     "text": [
      " 54% (1333 of 2444) |##########          | Elapsed Time: 0:00:56 ETA:   0:01:12\n",
      " 54% (1340 of 2444) |##########          | Elapsed Time: 0:00:56 ETA:   0:01:05\n"
     ]
    },
    {
     "name": "stdout",
     "output_type": "stream",
     "text": [
      "/Product_hilaptop.com_September2020.json.gz\n",
      "/Product_randymarionsavalot.net_September2020.json.gz\n",
      "/Recipe_thecreeksidecook.com_September2020.json.gz\n",
      "/Product_frankmxparts.com_September2020.json.gz\n",
      "/LocalBusiness_brewster-capecod.com_September2020.json.gz\n",
      "/Place_doorcountypulse.com_September2020.json.gz\n",
      "/CreativeWork_lassereolica.com_September2020.json.gz\n",
      "/Recipe_sugarandcloth.com_September2020.json.gz\n",
      "/MusicRecording_retroactivedanceband.com_September2020.json.gz\n",
      "/Product_ntautosports.com_September2020.json.gz\n",
      "/Event_betterreadevents.com_September2020.json.gz\n",
      "/Hotel_thonhotels.com_September2020.json.gz\n",
      "/Product_dittonwineandspirits.com_September2020.json.gz\n",
      "/Product_tulleybmwmanchester.com_September2020.json.gz\n"
     ]
    },
    {
     "name": "stderr",
     "output_type": "stream",
     "text": [
      " 55% (1347 of 2444) |###########         | Elapsed Time: 0:00:56 ETA:   0:01:00\n",
      " 55% (1354 of 2444) |###########         | Elapsed Time: 0:00:56 ETA:   0:00:56\n"
     ]
    },
    {
     "name": "stdout",
     "output_type": "stream",
     "text": [
      "/Product_prsulordenhadeiras.com_September2020.json.gz\n",
      "/Product_triganostore.com_September2020.json.gz\n",
      "/CreativeWork_elmusicomoderno.com_September2020.json.gz\n",
      "/Product_puretrim.com_September2020.json.gz\n",
      "/Product_meatcannon.com_September2020.json.gz\n",
      "/Event_globalava.org_September2020.json.gz\n",
      "/Product_southernutahpuppies.com_September2020.json.gz\n",
      "/Person_livesex18.net_September2020.json.gz\n",
      "/Person_wilsonschrammspaulding.com_September2020.json.gz\n",
      "/Product_everythingneon.com_September2020.json.gz\n"
     ]
    },
    {
     "name": "stderr",
     "output_type": "stream",
     "text": [
      " 55% (1357 of 2444) |###########         | Elapsed Time: 0:00:57 ETA:   0:00:29\n"
     ]
    },
    {
     "name": "stdout",
     "output_type": "stream",
     "text": [
      "/Event_burnedthemovie.com_September2020.json.gz\n",
      "/Recipe_againstallgrain.com_September2020.json.gz\n",
      "/Event_nmhep.org_September2020.json.gz\n",
      "/Product_shopkitten.com_September2020.json.gz\n",
      "/MusicRecording_ringode.org_September2020.json.gz\n"
     ]
    },
    {
     "name": "stderr",
     "output_type": "stream",
     "text": [
      " 55% (1362 of 2444) |###########         | Elapsed Time: 0:00:57 ETA:   0:00:31\n"
     ]
    },
    {
     "name": "stdout",
     "output_type": "stream",
     "text": [
      "/Product_lapeerfurnitureandmattress.com_September2020.json.gz\n",
      "/Product_audiogon.com_September2020.json.gz\n"
     ]
    },
    {
     "name": "stderr",
     "output_type": "stream",
     "text": [
      " 55% (1364 of 2444) |###########         | Elapsed Time: 0:00:57 ETA:   0:00:35\n",
      " 56% (1369 of 2444) |###########         | Elapsed Time: 0:00:57 ETA:   0:00:36\n"
     ]
    },
    {
     "name": "stdout",
     "output_type": "stream",
     "text": [
      "/Product_dorris-wedding.com_September2020.json.gz\n",
      "/Product_florsheim.com_September2020.json.gz\n",
      "/Product_thephunglong.com_September2020.json.gz\n",
      "/Product_wiredvapor.com_September2020.json.gz\n",
      "/Product_suissdent.com_September2020.json.gz\n",
      "/Recipe_veggiechick.com_September2020.json.gz\n",
      "/Product_ruzeshoes.com_September2020.json.gz\n"
     ]
    },
    {
     "name": "stderr",
     "output_type": "stream",
     "text": [
      " 56% (1371 of 2444) |###########         | Elapsed Time: 0:00:58 ETA:   0:00:39\n",
      " 56% (1377 of 2444) |###########         | Elapsed Time: 0:00:58 ETA:   0:00:38\n"
     ]
    },
    {
     "name": "stdout",
     "output_type": "stream",
     "text": [
      "/Product_berkenrhode.com_September2020.json.gz\n",
      "/Product_docedecoco.com.br_September2020.json.gz\n",
      "/Product_labfilterz.com_September2020.json.gz\n",
      "/Product_volkswagenmobile.com_September2020.json.gz\n",
      "/MusicRecording_johnrandolphmusic.com_September2020.json.gz\n",
      "/Product_quirkmazda.com_September2020.json.gz\n",
      "/Product_ukmobilewholesalers.co.uk_September2020.json.gz\n",
      "/Product_globalautobc.com_September2020.json.gz\n",
      "/Product_themsls.org_September2020.json.gz\n",
      "/Recipe_emmiesglobalcuisine.com_September2020.json.gz\n"
     ]
    },
    {
     "name": "stderr",
     "output_type": "stream",
     "text": [
      " 56% (1382 of 2444) |###########         | Elapsed Time: 0:00:58 ETA:   0:00:40\n",
      " 56% (1387 of 2444) |###########         | Elapsed Time: 0:00:58 ETA:   0:00:39\n"
     ]
    },
    {
     "name": "stdout",
     "output_type": "stream",
     "text": [
      "/CreativeWork_anstaylor.com_September2020.json.gz\n",
      "/Product_gandwmaytag.com_September2020.json.gz\n",
      "/CreativeWork_91-91.net_September2020.json.gz\n",
      "/Recipe_lucyandlentils.co.uk_September2020.json.gz\n",
      "/Product_calzadomicastillo.com_September2020.json.gz\n",
      "/Recipe_fastcurries.com_September2020.json.gz\n",
      "/Product_mirenesse.com_September2020.json.gz\n",
      "/CreativeWork_legaluspokersites.com_September2020.json.gz\n",
      "/CreativeWork_wisewordsfestival.co.uk_September2020.json.gz\n"
     ]
    },
    {
     "name": "stderr",
     "output_type": "stream",
     "text": [
      " 56% (1391 of 2444) |###########         | Elapsed Time: 0:00:58 ETA:   0:00:37\n"
     ]
    },
    {
     "name": "stdout",
     "output_type": "stream",
     "text": [
      "/Product_rw-co.com_September2020.json.gz\n",
      "/CreativeWork_kahlomedia.com_September2020.json.gz\n",
      "/MusicRecording_johnkellermusic.com_September2020.json.gz\n",
      "/Product_kankuchokha.com_September2020.json.gz\n"
     ]
    },
    {
     "name": "stderr",
     "output_type": "stream",
     "text": [
      " 57% (1394 of 2444) |###########         | Elapsed Time: 0:00:58 ETA:   0:00:44\n",
      " 57% (1395 of 2444) |###########         | Elapsed Time: 0:00:58 ETA:   0:00:51\n"
     ]
    },
    {
     "name": "stdout",
     "output_type": "stream",
     "text": [
      "/Product_thisisnessie.com_September2020.json.gz\n",
      "/Product_superochki.com_September2020.json.gz\n",
      "/MusicRecording_hecticwatermelon.net_September2020.json.gz\n",
      "/Product_bac-tactical.com_September2020.json.gz\n",
      "/Recipe_kitchenlaughter.com_September2020.json.gz\n",
      "/Product_garlandsinc.com_September2020.json.gz\n"
     ]
    },
    {
     "name": "stderr",
     "output_type": "stream",
     "text": [
      " 57% (1400 of 2444) |###########         | Elapsed Time: 0:00:59 ETA:   0:00:51\n"
     ]
    },
    {
     "name": "stdout",
     "output_type": "stream",
     "text": [
      "/Product_localrealestatehawaii.com_September2020.json.gz\n",
      "/Person_scarincihollenbeck.com_September2020.json.gz\n",
      "/Product_dvdbay.com_September2020.json.gz\n"
     ]
    },
    {
     "name": "stderr",
     "output_type": "stream",
     "text": [
      " 57% (1403 of 2444) |###########         | Elapsed Time: 0:00:59 ETA:   0:00:52\n",
      " 57% (1407 of 2444) |###########         | Elapsed Time: 0:00:59 ETA:   0:00:43\n"
     ]
    },
    {
     "name": "stdout",
     "output_type": "stream",
     "text": [
      "/CreativeWork_aamesaaz.org_September2020.json.gz\n",
      "/Product_cadiriri.com.br_September2020.json.gz\n",
      "/Product_gardenbuildingsdirect.co.uk_September2020.json.gz\n",
      "/Person_kpmcpa.com_September2020.json.gz\n",
      "/Product_logstains.com_September2020.json.gz\n",
      "/MusicRecording_clayjarvis.com_September2020.json.gz\n",
      "/Product_gifttree.com_September2020.json.gz\n"
     ]
    },
    {
     "name": "stderr",
     "output_type": "stream",
     "text": [
      " 57% (1410 of 2444) |###########         | Elapsed Time: 0:00:59 ETA:   0:00:42\n",
      " 57% (1412 of 2444) |###########         | Elapsed Time: 0:00:59 ETA:   0:00:44\n"
     ]
    },
    {
     "name": "stdout",
     "output_type": "stream",
     "text": [
      "/MusicRecording_tomscottmusic.com_September2020.json.gz\n",
      "/Product_drakebox.com.au_September2020.json.gz\n",
      "/MusicRecording_mindthemessenger.com_September2020.json.gz\n",
      "/Product_dawsons.co.uk_September2020.json.gz\n"
     ]
    },
    {
     "name": "stderr",
     "output_type": "stream",
     "text": [
      " 57% (1414 of 2444) |###########         | Elapsed Time: 0:01:00 ETA:   0:00:48\n"
     ]
    },
    {
     "name": "stdout",
     "output_type": "stream",
     "text": [
      "/Product_evereve.com_September2020.json.gz\n",
      "/Book_libreriasur.com.pe_September2020.json.gz\n"
     ]
    },
    {
     "name": "stderr",
     "output_type": "stream",
     "text": [
      " 57% (1416 of 2444) |###########         | Elapsed Time: 0:01:00 ETA:   0:01:13\n"
     ]
    },
    {
     "name": "stdout",
     "output_type": "stream",
     "text": [
      "/LocalBusiness_britishpapers.co.uk_September2020.json.gz\n",
      "/Book_libreriachundarata.com_September2020.json.gz\n"
     ]
    },
    {
     "name": "stderr",
     "output_type": "stream",
     "text": [
      " 58% (1418 of 2444) |###########         | Elapsed Time: 0:01:01 ETA:   0:01:36\n",
      " 58% (1423 of 2444) |###########         | Elapsed Time: 0:01:01 ETA:   0:01:30\n"
     ]
    },
    {
     "name": "stdout",
     "output_type": "stream",
     "text": [
      "/CreativeWork_nhstatechiro.com_September2020.json.gz\n",
      "/Product_bix.com.au_September2020.json.gz\n",
      "/LocalBusiness_weddingcap.com_September2020.json.gz\n",
      "/MusicAlbum_shia-online.com_September2020.json.gz\n",
      "/Product_muddypuddles.com_September2020.json.gz\n",
      "/Product_vliegervandam.com_September2020.json.gz\n",
      "/Product_toursfromhurghada.com_September2020.json.gz\n",
      "/Product_probstfamilyfunerals.com_September2020.json.gz\n",
      "/Product_dallasdrive.net_September2020.json.gz\n",
      "/MusicRecording_mantlemusicllc.com_September2020.json.gz\n",
      "/Restaurant_615area.com_September2020.json.gz\n"
     ]
    },
    {
     "name": "stderr",
     "output_type": "stream",
     "text": [
      " 58% (1429 of 2444) |###########         | Elapsed Time: 0:01:01 ETA:   0:01:15\n",
      " 58% (1430 of 2444) |###########         | Elapsed Time: 0:01:01 ETA:   0:01:18\n"
     ]
    },
    {
     "name": "stdout",
     "output_type": "stream",
     "text": [
      "/Product_therallyshack.co.uk_September2020.json.gz\n",
      "/LocalBusiness_houghton-heating.co.uk_September2020.json.gz\n",
      "/CreativeWork_kepklen.com_September2020.json.gz\n",
      "/Product_mouty-paris.com_September2020.json.gz\n",
      "/Person_pawshake.com.au_September2020.json.gz\n"
     ]
    },
    {
     "name": "stderr",
     "output_type": "stream",
     "text": [
      " 58% (1438 of 2444) |###########         | Elapsed Time: 0:01:01 ETA:   0:01:07\n"
     ]
    },
    {
     "name": "stdout",
     "output_type": "stream",
     "text": [
      "/CreativeWork_indiaztech.com_September2020.json.gz\n",
      "/Hotel_swissotel.com_September2020.json.gz\n",
      "/Event_rqi.org.au_September2020.json.gz\n",
      "/Product_wildecars.com_September2020.json.gz\n",
      "/Person_viki.com_September2020.json.gz\n"
     ]
    },
    {
     "name": "stderr",
     "output_type": "stream",
     "text": [
      " 58% (1439 of 2444) |###########         | Elapsed Time: 0:01:01 ETA:   0:01:15\n",
      " 59% (1444 of 2444) |###########         | Elapsed Time: 0:01:01 ETA:   0:01:06\n"
     ]
    },
    {
     "name": "stdout",
     "output_type": "stream",
     "text": [
      "/Event_willingalevillage.uk_September2020.json.gz\n",
      "/MusicRecording_davesadlermusic.com_September2020.json.gz\n",
      "/Product_carredeparis.com_September2020.json.gz\n",
      "/Product_norwoodeyecare.com_September2020.json.gz\n",
      "/CreativeWork_auditoryassistantshac.com_September2020.json.gz\n",
      "/Recipe_natalieshealth.com_September2020.json.gz\n",
      "/MusicRecording_patrickrettger.com_September2020.json.gz\n",
      "/Product_smmsmartmarket.com_September2020.json.gz\n",
      "/MusicRecording_aliholder.com_September2020.json.gz\n",
      "/Product_seaindependent.com_September2020.json.gz\n",
      "/Product_vintryfinewines.com_September2020.json.gz\n"
     ]
    },
    {
     "name": "stderr",
     "output_type": "stream",
     "text": [
      " 59% (1450 of 2444) |###########         | Elapsed Time: 0:01:02 ETA:   0:01:01\n",
      " 59% (1455 of 2444) |###########         | Elapsed Time: 0:01:02 ETA:   0:01:01\n"
     ]
    },
    {
     "name": "stdout",
     "output_type": "stream",
     "text": [
      "/Event_dreamingawake.co.uk_September2020.json.gz\n",
      "/MusicRecording_evarhymes.com_September2020.json.gz\n",
      "/Product_vloggingshop.com_September2020.json.gz\n",
      "/LocalBusiness_coloradospringschamberedc.com_September2020.json.gz\n",
      "/MusicRecording_peridotrecords.com_September2020.json.gz\n",
      "/Product_abiza.co.uk_September2020.json.gz\n",
      "/Product_grandresearchstore.com_September2020.json.gz\n"
     ]
    },
    {
     "name": "stderr",
     "output_type": "stream",
     "text": [
      " 59% (1457 of 2444) |###########         | Elapsed Time: 0:01:02 ETA:   0:00:50\n"
     ]
    },
    {
     "name": "stdout",
     "output_type": "stream",
     "text": [
      "/Product_element14.com_September2020.json.gz\n"
     ]
    },
    {
     "name": "stderr",
     "output_type": "stream",
     "text": [
      " 59% (1458 of 2444) |###########         | Elapsed Time: 0:01:04 ETA:   0:04:07\n",
      " 59% (1460 of 2444) |###########         | Elapsed Time: 0:01:04 ETA:   0:03:28\n"
     ]
    },
    {
     "name": "stdout",
     "output_type": "stream",
     "text": [
      "/Product_carmaautofl.com_September2020.json.gz\n",
      "/Product_parfumaria.com_September2020.json.gz\n",
      "/Product_eddbarrymotors.com_September2020.json.gz\n",
      "/Person_norwegianamerican.com_September2020.json.gz\n",
      "/Recipe_lifemadeketo.com_September2020.json.gz\n",
      "/MusicRecording_songsforlife.net_September2020.json.gz\n",
      "/Product_bestchoiceproducts.com_September2020.json.gz\n",
      "/Product_appartcloth.com_September2020.json.gz\n"
     ]
    },
    {
     "name": "stderr",
     "output_type": "stream",
     "text": [
      " 59% (1466 of 2444) |###########         | Elapsed Time: 0:01:04 ETA:   0:02:17\n",
      " 60% (1473 of 2444) |############        | Elapsed Time: 0:01:04 ETA:   0:01:39\n"
     ]
    },
    {
     "name": "stdout",
     "output_type": "stream",
     "text": [
      "/Product_solushop.com_September2020.json.gz\n",
      "/CreativeWork_arnowsolutions.com_September2020.json.gz\n",
      "/Product_qirashoppers.com_September2020.json.gz\n",
      "/Product_season7.co.uk_September2020.json.gz\n",
      "/MusicRecording_rbfent.com_September2020.json.gz\n",
      "/CreativeWork_clarksd.com_September2020.json.gz\n",
      "/Product_aspengoldmedical.com_September2020.json.gz\n",
      "/Event_roe21.org_September2020.json.gz\n",
      "/Person_codico.com_September2020.json.gz\n",
      "/Event_915area.com_September2020.json.gz\n",
      "/Product_6ave.com_September2020.json.gz\n"
     ]
    },
    {
     "name": "stderr",
     "output_type": "stream",
     "text": [
      " 60% (1477 of 2444) |############        | Elapsed Time: 0:01:04 ETA:   0:01:30\n",
      " 60% (1480 of 2444) |############        | Elapsed Time: 0:01:04 ETA:   0:01:29\n"
     ]
    },
    {
     "name": "stdout",
     "output_type": "stream",
     "text": [
      "/MusicRecording_lynnrosecurtin.com_September2020.json.gz\n",
      "/Product_pharmacygreek.com_September2020.json.gz\n",
      "/LocalBusiness_technologycouncil.com_September2020.json.gz\n",
      "/Event_julian-ritter.com_September2020.json.gz\n",
      "/Product_2trendy.com_September2020.json.gz\n",
      "/Product_autoen.com.tr_September2020.json.gz\n",
      "/Event_hartlandchamber.org_September2020.json.gz\n",
      "/MusicRecording_stuartdouglasmusic.com_September2020.json.gz\n"
     ]
    },
    {
     "name": "stderr",
     "output_type": "stream",
     "text": [
      " 60% (1485 of 2444) |############        | Elapsed Time: 0:01:04 ETA:   0:01:29\n",
      " 60% (1487 of 2444) |############        | Elapsed Time: 0:01:04 ETA:   0:01:13\n"
     ]
    },
    {
     "name": "stdout",
     "output_type": "stream",
     "text": [
      "/Product_piro89.com_September2020.json.gz\n",
      "/Recipe_thepurplepumpkinblog.co.uk_September2020.json.gz\n",
      "/Product_mccalebfuneralhome.com_September2020.json.gz\n",
      "/Person_flirtic.com_September2020.json.gz\n"
     ]
    },
    {
     "name": "stderr",
     "output_type": "stream",
     "text": [
      " 60% (1489 of 2444) |############        | Elapsed Time: 0:01:05 ETA:   0:01:12\n"
     ]
    },
    {
     "name": "stdout",
     "output_type": "stream",
     "text": [
      "/Product_pariscityvision.com_September2020.json.gz\n",
      "/LocalBusiness_allseasonsclean.co.uk_September2020.json.gz\n",
      "/Product_redfoxgoodclothes.com_September2020.json.gz\n",
      "/LocalBusiness_hukafallsjet.com_September2020.json.gz\n",
      "/CreativeWork_musiclibraryreport.com_September2020.json.gz\n",
      "/Product_jangadi.com_September2020.json.gz\n"
     ]
    },
    {
     "name": "stderr",
     "output_type": "stream",
     "text": [
      " 61% (1495 of 2444) |############        | Elapsed Time: 0:01:07 ETA:   0:05:51\n",
      " 61% (1498 of 2444) |############        | Elapsed Time: 0:01:07 ETA:   0:04:09\n"
     ]
    },
    {
     "name": "stdout",
     "output_type": "stream",
     "text": [
      "/Restaurant_pubsandclubs.com.au_September2020.json.gz\n",
      "/Recipe_mimiskitchen.net_September2020.json.gz\n",
      "/Product_diningroomsoutlet.com_September2020.json.gz\n",
      "/Place_kwahs.org_September2020.json.gz\n",
      "/MusicRecording_davidcaldwellmason.com_September2020.json.gz\n",
      "/Recipe_hayleypfleghaar.com_September2020.json.gz\n",
      "/MusicRecording_gedalyasings.com_September2020.json.gz\n",
      "/Product_kpaquatics.com_September2020.json.gz\n"
     ]
    },
    {
     "name": "stderr",
     "output_type": "stream",
     "text": [
      " 61% (1508 of 2444) |############        | Elapsed Time: 0:01:07 ETA:   0:02:02\n",
      " 61% (1515 of 2444) |############        | Elapsed Time: 0:01:07 ETA:   0:01:32\n"
     ]
    },
    {
     "name": "stdout",
     "output_type": "stream",
     "text": [
      "/CreativeWork_steamboatweddingdj.com_September2020.json.gz\n",
      "/Event_blackhorsespirit.com_September2020.json.gz\n",
      "/Event_mend.org.uk_September2020.json.gz\n",
      "/Hotel_sardegna.com_September2020.json.gz\n",
      "/Recipe_zestandlemons.com_September2020.json.gz\n",
      "/Product_fergusonfhc.com_September2020.json.gz\n",
      "/Recipe_collegeinn.com_September2020.json.gz\n",
      "/MusicRecording_thomdouvan.com_September2020.json.gz\n",
      "/CreativeWork_ebookscatolicos.com_September2020.json.gz\n",
      "/Product_fatline.com.ua_September2020.json.gz\n",
      "/Product_chester-harley-davidson.co.uk_September2020.json.gz\n",
      "/Product_gurkhatea.com_September2020.json.gz\n",
      "/Event_visitnyack.org_September2020.json.gz\n",
      "/Hotel_tajhotels.com_September2020.json.gz\n",
      "/Recipe_recipeswithessentialoils.com_September2020.json.gz\n",
      "/Event_ageekmom.com_September2020.json.gz\n"
     ]
    },
    {
     "name": "stderr",
     "output_type": "stream",
     "text": [
      " 62% (1521 of 2444) |############        | Elapsed Time: 0:01:07 ETA:   0:01:19\n",
      " 62% (1525 of 2444) |############        | Elapsed Time: 0:01:07 ETA:   0:01:12\n"
     ]
    },
    {
     "name": "stdout",
     "output_type": "stream",
     "text": [
      "/Place_theadventurecard.co.uk_September2020.json.gz\n",
      "/Product_sydneyharbourescapes.com.au_September2020.json.gz\n",
      "/Product_janesvillemazda.com_September2020.json.gz\n",
      "/Event_sirennation.org_September2020.json.gz\n",
      "/Event_bajabettyssd.com_September2020.json.gz\n",
      "/Product_diamondcbd.com_September2020.json.gz\n",
      "/Product_beadsdirect.co.uk_September2020.json.gz\n"
     ]
    },
    {
     "name": "stderr",
     "output_type": "stream",
     "text": [
      " 62% (1526 of 2444) |############        | Elapsed Time: 0:01:08 ETA:   0:01:15\n",
      " 62% (1529 of 2444) |############        | Elapsed Time: 0:01:08 ETA:   0:01:12\n"
     ]
    },
    {
     "name": "stdout",
     "output_type": "stream",
     "text": [
      "/MusicRecording_zeedee-shop.com_September2020.json.gz\n",
      "/MusicRecording_bobskon.com_September2020.json.gz\n",
      "/Product_jeparahandicraft.net_September2020.json.gz\n",
      "/Event_mankindproject.org.au_September2020.json.gz\n",
      "/Product_ecoverdirect.com_September2020.json.gz\n",
      "/Event_impactkerr.com_September2020.json.gz\n",
      "/Event_castlerock.org_September2020.json.gz\n",
      "/Hotel_magnusonhotels.com_September2020.json.gz\n",
      "/Product_lawyersnearme.net.au_September2020.json.gz\n",
      "/Person_camxtra.com_September2020.json.gz\n",
      "/CreativeWork_bahinternational.com_September2020.json.gz\n",
      "/MusicRecording_theolsonbrosband.com_September2020.json.gz\n",
      "/Recipe_foodstoragemoms.com_September2020.json.gz\n"
     ]
    },
    {
     "name": "stderr",
     "output_type": "stream",
     "text": [
      " 62% (1539 of 2444) |############        | Elapsed Time: 0:01:08 ETA:   0:00:59\n",
      " 63% (1541 of 2444) |############        | Elapsed Time: 0:01:08 ETA:   0:00:58\n"
     ]
    },
    {
     "name": "stdout",
     "output_type": "stream",
     "text": [
      "/Product_airifier.com_September2020.json.gz\n",
      "/CreativeWork_mustangevolution.com_September2020.json.gz\n",
      "/Book_blackdogandleventhal.com_September2020.json.gz\n",
      "/Event_observatorylatinamerica.org_September2020.json.gz\n",
      "/Product_midtownmilitary.com_September2020.json.gz\n"
     ]
    },
    {
     "name": "stderr",
     "output_type": "stream",
     "text": [
      " 63% (1544 of 2444) |############        | Elapsed Time: 0:01:08 ETA:   0:00:57\n",
      " 63% (1547 of 2444) |############        | Elapsed Time: 0:01:08 ETA:   0:00:56\n",
      " 63% (1551 of 2444) |############        | Elapsed Time: 0:01:08 ETA:   0:00:53\n"
     ]
    },
    {
     "name": "stdout",
     "output_type": "stream",
     "text": [
      "/Product_nudieglow.com_September2020.json.gz\n",
      "/Event_starvedrocklodge.com_September2020.json.gz\n",
      "/MusicRecording_polyphonymarimba.com_September2020.json.gz\n",
      "/LocalBusiness_selfstoragenearme.com.au_September2020.json.gz\n",
      "/Product_uconnhuskies.com_September2020.json.gz\n",
      "/Product_chateaugayfuneralhome.com_September2020.json.gz\n",
      "/Product_kitchway.co.uk_September2020.json.gz\n",
      "/Product_architecture4design.com_September2020.json.gz\n"
     ]
    },
    {
     "name": "stderr",
     "output_type": "stream",
     "text": [
      " 63% (1558 of 2444) |############        | Elapsed Time: 0:01:08 ETA:   0:00:48\n"
     ]
    },
    {
     "name": "stdout",
     "output_type": "stream",
     "text": [
      "/Recipe_keenforketo.com_September2020.json.gz\n",
      "/Product_northstarsports.com_September2020.json.gz\n",
      "/Person_darrschackowinsurance.com_September2020.json.gz\n",
      "/Recipe_modernistpantry.com_September2020.json.gz\n",
      "/Product_pensacolaharley.com_September2020.json.gz\n",
      "/LocalBusiness_semicorp.com_September2020.json.gz\n",
      "/Product_doloremrecords.com_September2020.json.gz\n",
      "/Person_openminds.com_September2020.json.gz\n",
      "/Recipe_simpleindianrecipes.com_September2020.json.gz\n"
     ]
    },
    {
     "name": "stderr",
     "output_type": "stream",
     "text": [
      " 63% (1561 of 2444) |############        | Elapsed Time: 0:01:08 ETA:   0:00:48\n",
      " 64% (1567 of 2444) |############        | Elapsed Time: 0:01:09 ETA:   0:00:45\n"
     ]
    },
    {
     "name": "stdout",
     "output_type": "stream",
     "text": [
      "/CreativeWork_ghibliforum.com_September2020.json.gz\n",
      "/Event_uberadventures.net_September2020.json.gz\n",
      "/LocalBusiness_davidmccarthyplumbing.com.au_September2020.json.gz\n",
      "/CreativeWork_10thcivicforum.com_September2020.json.gz\n",
      "/LocalBusiness_aceoftheweb.org_September2020.json.gz\n",
      "/Product_rustans-thebeautysource.com_September2020.json.gz\n",
      "/CreativeWork_1000museums.com_September2020.json.gz\n",
      "/Product_tgseurosport.com_September2020.json.gz\n",
      "/Product_desains.com_September2020.json.gz\n"
     ]
    },
    {
     "name": "stderr",
     "output_type": "stream",
     "text": [
      " 64% (1570 of 2444) |############        | Elapsed Time: 0:01:09 ETA:   0:00:45\n"
     ]
    },
    {
     "name": "stdout",
     "output_type": "stream",
     "text": [
      "/MusicRecording_curtwoodbearsman.com_September2020.json.gz\n",
      "/LocalBusiness_centexmechanical.com_September2020.json.gz\n",
      "/Event_poorclaresc.com_September2020.json.gz\n",
      "/TVEpisode_thevoiddeck.org_September2020.json.gz\n",
      "/Product_perpetualkid.com_September2020.json.gz\n"
     ]
    },
    {
     "name": "stderr",
     "output_type": "stream",
     "text": [
      " 64% (1575 of 2444) |############        | Elapsed Time: 0:01:09 ETA:   0:00:26\n",
      " 64% (1576 of 2444) |############        | Elapsed Time: 0:01:09 ETA:   0:00:29\n"
     ]
    },
    {
     "name": "stdout",
     "output_type": "stream",
     "text": [
      "/Product_eyerim.com_September2020.json.gz\n",
      "/CreativeWork_vwatlasforum.com_September2020.json.gz\n",
      "/Recipe_albertapulse.com_September2020.json.gz\n",
      "/LocalBusiness_unilodge.com.au_September2020.json.gz\n",
      "/Recipe_thevegetarianbutcher.co.uk_September2020.json.gz\n"
     ]
    },
    {
     "name": "stderr",
     "output_type": "stream",
     "text": [
      " 64% (1583 of 2444) |############        | Elapsed Time: 0:01:09 ETA:   0:00:28\n",
      " 64% (1586 of 2444) |############        | Elapsed Time: 0:01:09 ETA:   0:00:28\n"
     ]
    },
    {
     "name": "stdout",
     "output_type": "stream",
     "text": [
      "/Product_endlessetc.com_September2020.json.gz\n",
      "/Product_wild-lingerie.com_September2020.json.gz\n",
      "/LocalBusiness_locksmithsnearme.net.au_September2020.json.gz\n",
      "/CreativeWork_da-elektronika.com.ua_September2020.json.gz\n",
      "/MusicRecording_thestoneberries.com_September2020.json.gz\n",
      "/Recipe_drinklab.org_September2020.json.gz\n",
      "/Product_blister-packingmachine.com_September2020.json.gz\n",
      "/Product_volsticeauto.com_September2020.json.gz\n",
      "/Product_malishani.com_September2020.json.gz\n"
     ]
    },
    {
     "name": "stderr",
     "output_type": "stream",
     "text": [
      " 65% (1592 of 2444) |#############       | Elapsed Time: 0:01:10 ETA:   0:00:27\n"
     ]
    },
    {
     "name": "stdout",
     "output_type": "stream",
     "text": [
      "/Product_hondapartswholesaledirect.com_September2020.json.gz\n",
      "/Product_apolloautosales.com_September2020.json.gz\n",
      "/Product_familyautomotive.com_September2020.json.gz\n",
      "/Product_big12sports.com_September2020.json.gz\n"
     ]
    },
    {
     "name": "stderr",
     "output_type": "stream",
     "text": [
      " 65% (1593 of 2444) |#############       | Elapsed Time: 0:01:10 ETA:   0:00:32\n",
      " 65% (1602 of 2444) |#############       | Elapsed Time: 0:01:10 ETA:   0:00:29\n"
     ]
    },
    {
     "name": "stdout",
     "output_type": "stream",
     "text": [
      "/Book_kristophercook.com_September2020.json.gz\n",
      "/Event_gbbicycle.org_September2020.json.gz\n",
      "/TVEpisode_tiddlywikiguides.org_September2020.json.gz\n",
      "/Product_edustore.com.au_September2020.json.gz\n",
      "/CreativeWork_infogovworld.com_September2020.json.gz\n",
      "/Product_decadrypaper.com_September2020.json.gz\n",
      "/Event_ironmarkgames.com_September2020.json.gz\n",
      "/Product_landroverlouisville.com_September2020.json.gz\n",
      "/Product_megaoutdoorworld.com_September2020.json.gz\n",
      "/Product_printerpartshop.com_September2020.json.gz\n"
     ]
    },
    {
     "name": "stderr",
     "output_type": "stream",
     "text": [
      " 65% (1604 of 2444) |#############       | Elapsed Time: 0:01:10 ETA:   0:00:30\n",
      " 65% (1609 of 2444) |#############       | Elapsed Time: 0:01:10 ETA:   0:00:29\n"
     ]
    },
    {
     "name": "stdout",
     "output_type": "stream",
     "text": [
      "/Product_kunstform.org_September2020.json.gz\n",
      "/Product_vesselbags.com_September2020.json.gz\n",
      "/Product_brookswine.com_September2020.json.gz\n",
      "/Product_excelparts.co.uk_September2020.json.gz\n",
      "/Product_indrofiltermachine.com_September2020.json.gz\n",
      "/Product_albersappliance.com_September2020.json.gz\n",
      "/CreativeWork_justelite.net_September2020.json.gz\n",
      "/MusicRecording_casadymusic.com_September2020.json.gz\n",
      "/Product_rhone.com_September2020.json.gz\n",
      "/Product_punisherspb.com_September2020.json.gz\n",
      "/MusicRecording_jkwhostosay.com_September2020.json.gz\n",
      "/CreativeWork_midasrealestate.com.au_September2020.json.gz\n"
     ]
    },
    {
     "name": "stderr",
     "output_type": "stream",
     "text": [
      " 66% (1615 of 2444) |#############       | Elapsed Time: 0:01:10 ETA:   0:00:29\n",
      " 66% (1622 of 2444) |#############       | Elapsed Time: 0:01:10 ETA:   0:00:27\n"
     ]
    },
    {
     "name": "stdout",
     "output_type": "stream",
     "text": [
      "/Product_theyloveit.co.uk_September2020.json.gz\n",
      "/CreativeWork_seelegal.org_September2020.json.gz\n",
      "/Event_alovea.com_September2020.json.gz\n",
      "/Recipe_thezonghan.com_September2020.json.gz\n",
      "/Recipe_rachnacooks.com_September2020.json.gz\n",
      "/Recipe_kd316.com_September2020.json.gz\n",
      "/Event_ravennaareachamber.com_September2020.json.gz\n",
      "/Product_spreadshirt.net_September2020.json.gz\n"
     ]
    },
    {
     "name": "stderr",
     "output_type": "stream",
     "text": [
      " 66% (1623 of 2444) |#############       | Elapsed Time: 0:01:11 ETA:   0:00:33\n",
      " 66% (1632 of 2444) |#############       | Elapsed Time: 0:01:11 ETA:   0:00:29\n"
     ]
    },
    {
     "name": "stdout",
     "output_type": "stream",
     "text": [
      "/Product_tidesonhollywoodbeachhollywood.com_September2020.json.gz\n",
      "/Recipe_healthyfanz.com_September2020.json.gz\n",
      "/MusicRecording_connectedatthehit.com_September2020.json.gz\n",
      "/Product_akyolbahce.com.tr_September2020.json.gz\n",
      "/CreativeWork_ozeninc.com_September2020.json.gz\n",
      "/Product_primetools.co.uk_September2020.json.gz\n",
      "/MusicRecording_frozennorthmusic.net_September2020.json.gz\n",
      "/CreativeWork_mahoneylimited.com_September2020.json.gz\n",
      "/Person_dohacityscout.com_September2020.json.gz\n",
      "/Event_rejimus.com_September2020.json.gz\n",
      "/CreativeWork_tassahai.co.uk_September2020.json.gz\n",
      "/Product_mazdaswag.com_September2020.json.gz\n",
      "/Product_bjallraofsweden.com_September2020.json.gz\n",
      "/Person_campus-hypnoses.com_September2020.json.gz\n"
     ]
    },
    {
     "name": "stderr",
     "output_type": "stream",
     "text": [
      " 66% (1637 of 2444) |#############       | Elapsed Time: 0:01:11 ETA:   0:00:26\n",
      " 67% (1640 of 2444) |#############       | Elapsed Time: 0:01:11 ETA:   0:00:26\n"
     ]
    },
    {
     "name": "stdout",
     "output_type": "stream",
     "text": [
      "/Hotel_granoasisresort.com_September2020.json.gz\n",
      "/CreativeWork_dodge-dart.org_September2020.json.gz\n",
      "/LocalBusiness_openhours.co.uk_September2020.json.gz\n",
      "/Product_thecoffeepod.co.uk_September2020.json.gz\n",
      "/Event_athenslindyhop.com_September2020.json.gz\n"
     ]
    },
    {
     "name": "stderr",
     "output_type": "stream",
     "text": [
      " 67% (1646 of 2444) |#############       | Elapsed Time: 0:01:11 ETA:   0:00:26\n",
      " 67% (1648 of 2444) |#############       | Elapsed Time: 0:01:12 ETA:   0:00:26\n"
     ]
    },
    {
     "name": "stdout",
     "output_type": "stream",
     "text": [
      "/Product_kolhages.com_September2020.json.gz\n",
      "/Event_chewelah.org_September2020.json.gz\n",
      "/Product_traversautomotivegroup.com_September2020.json.gz\n",
      "/Recipe_mydeliciousblog.com_September2020.json.gz\n",
      "/CreativeWork_eventzpro.com_September2020.json.gz\n",
      "/Product_bemini-belgium.com_September2020.json.gz\n",
      "/Person_carsonboyer.com_September2020.json.gz\n"
     ]
    },
    {
     "name": "stderr",
     "output_type": "stream",
     "text": [
      " 67% (1651 of 2444) |#############       | Elapsed Time: 0:01:12 ETA:   0:00:28\n"
     ]
    },
    {
     "name": "stdout",
     "output_type": "stream",
     "text": [
      "/Event_cpsu.com.au_September2020.json.gz\n",
      "/Product_luxsource.com_September2020.json.gz\n",
      "/Event_travelcrestedbutte.com_September2020.json.gz\n",
      "/MusicRecording_toallmydearfriends.com_September2020.json.gz\n",
      "/Product_vs-electronic.com_September2020.json.gz\n",
      "/Event_fishersband.org_September2020.json.gz\n",
      "/CreativeWork_stephanoffmedia.com_September2020.json.gz\n"
     ]
    },
    {
     "name": "stderr",
     "output_type": "stream",
     "text": [
      " 67% (1656 of 2444) |#############       | Elapsed Time: 0:01:12 ETA:   0:00:27\n",
      " 67% (1658 of 2444) |#############       | Elapsed Time: 0:01:12 ETA:   0:00:27\n"
     ]
    },
    {
     "name": "stdout",
     "output_type": "stream",
     "text": [
      "/Product_sneakerdistrict.com_September2020.json.gz\n",
      "/Product_brim-it.com_September2020.json.gz\n",
      "/MusicRecording_junethomasmusic.com_September2020.json.gz\n",
      "/MusicRecording_shaybxxgie.com_September2020.json.gz\n",
      "/Person_stein-agency.com_September2020.json.gz\n",
      "/Event_nhscouting.org_September2020.json.gz\n",
      "/Product_mostermortuary.com_September2020.json.gz\n",
      "/Person_worksafetasmonth.com.au_September2020.json.gz\n",
      "/Product_allstars.com.sg_September2020.json.gz\n"
     ]
    },
    {
     "name": "stderr",
     "output_type": "stream",
     "text": [
      " 68% (1665 of 2444) |#############       | Elapsed Time: 0:01:12 ETA:   0:00:25\n",
      " 68% (1671 of 2444) |#############       | Elapsed Time: 0:01:12 ETA:   0:00:24\n"
     ]
    },
    {
     "name": "stdout",
     "output_type": "stream",
     "text": [
      "/Event_musichackspace.org_September2020.json.gz\n",
      "/Product_ancient-art.co.uk_September2020.json.gz\n",
      "/CreativeWork_megomotion.com_September2020.json.gz\n",
      "/Product_trionz.com_September2020.json.gz\n",
      "/Product_himiwaybike.com_September2020.json.gz\n",
      "/Product_badgerchevroletbuick.com_September2020.json.gz\n",
      "/Person_navalnews.net_September2020.json.gz\n",
      "/CreativeWork_repertoireouq.com_September2020.json.gz\n",
      "/Person_iranianlawyers.com_September2020.json.gz\n",
      "/Product_buynowfever.com_September2020.json.gz\n",
      "/Recipe_mytastehun.com_September2020.json.gz\n"
     ]
    },
    {
     "name": "stderr",
     "output_type": "stream",
     "text": [
      " 68% (1676 of 2444) |#############       | Elapsed Time: 0:01:12 ETA:   0:00:28\n",
      " 68% (1685 of 2444) |#############       | Elapsed Time: 0:01:13 ETA:   0:00:25\n"
     ]
    },
    {
     "name": "stdout",
     "output_type": "stream",
     "text": [
      "/CreativeWork_euroultrasound.com_September2020.json.gz\n",
      "/Recipe_biohawk.com.au_September2020.json.gz\n",
      "/Product_bathroom-trends.co.uk_September2020.json.gz\n",
      "/LocalBusiness_waynechamber.com_September2020.json.gz\n",
      "/Event_quakerhoughton.com_September2020.json.gz\n",
      "/Product_teesbell.com_September2020.json.gz\n",
      "/Recipe_wanderingsinmykitchen.com_September2020.json.gz\n",
      "/MusicRecording_shadcore.com_September2020.json.gz\n",
      "/Product_lala.com.vn_September2020.json.gz\n",
      "/Person_rentmen.com.br_September2020.json.gz\n",
      "/Product_geniani.com_September2020.json.gz\n",
      "/Recipe_runninginaskirt.com_September2020.json.gz\n",
      "/Recipe_gfgirl.com.au_September2020.json.gz\n",
      "/MusicRecording_fullmoonmusic.org_September2020.json.gz\n",
      "/LocalBusiness_oppettider.net_September2020.json.gz\n"
     ]
    },
    {
     "name": "stderr",
     "output_type": "stream",
     "text": [
      " 69% (1691 of 2444) |#############       | Elapsed Time: 0:01:13 ETA:   0:00:25\n",
      " 69% (1695 of 2444) |#############       | Elapsed Time: 0:01:13 ETA:   0:00:26\n"
     ]
    },
    {
     "name": "stdout",
     "output_type": "stream",
     "text": [
      "/Recipe_bertolli.co.uk_September2020.json.gz\n",
      "/Person_risefrome.com_September2020.json.gz\n",
      "/Event_joshpfeiffer.com_September2020.json.gz\n",
      "/Product_expressforu.com_September2020.json.gz\n",
      "/CreativeWork_lakenonamusicacademy.com_September2020.json.gz\n",
      "/Product_juneshine.com_September2020.json.gz\n",
      "/Recipe_lerouxkitchen.com_September2020.json.gz\n",
      "/Product_bridgewaterkia.com_September2020.json.gz\n",
      "/Product_studiogears.com_September2020.json.gz\n"
     ]
    },
    {
     "name": "stderr",
     "output_type": "stream",
     "text": [
      " 69% (1700 of 2444) |#############       | Elapsed Time: 0:01:13 ETA:   0:00:24\n",
      " 69% (1702 of 2444) |#############       | Elapsed Time: 0:01:13 ETA:   0:00:27\n"
     ]
    },
    {
     "name": "stdout",
     "output_type": "stream",
     "text": [
      "/Product_stranofeeley.com_September2020.json.gz\n",
      "/Product_treasureislandsweets.co.uk_September2020.json.gz\n",
      "/CreativeWork_dowcaidesupply.com_September2020.json.gz\n",
      "/CreativeWork_effortmark.co.uk_September2020.json.gz\n"
     ]
    },
    {
     "name": "stderr",
     "output_type": "stream",
     "text": [
      " 70% (1711 of 2444) |##############      | Elapsed Time: 0:01:14 ETA:   0:00:23\n",
      " 70% (1722 of 2444) |##############      | Elapsed Time: 0:01:14 ETA:   0:00:20\n"
     ]
    },
    {
     "name": "stdout",
     "output_type": "stream",
     "text": [
      "/CreativeWork_isodiol.com_September2020.json.gz\n",
      "/Book_stichtingkunstboek.com_September2020.json.gz\n",
      "/Product_kurumaimports.com_September2020.json.gz\n",
      "/LocalBusiness_fastappliancerepairsydney.com.au_September2020.json.gz\n",
      "/MusicRecording_katon.com_September2020.json.gz\n",
      "/MusicRecording_coleman-moore.com_September2020.json.gz\n",
      "/Product_canbella.com_September2020.json.gz\n",
      "/Product_cinqmondes.com_September2020.json.gz\n",
      "/Product_topshow.com.au_September2020.json.gz\n",
      "/LocalBusiness_myhbaworks.com_September2020.json.gz\n",
      "/Event_firstchurchfremont.org_September2020.json.gz\n",
      "/Product_monacomotorcars.com_September2020.json.gz\n",
      "/Event_thewaterhouseproject.com_September2020.json.gz\n",
      "/Product_kendallmilesdesigns.com_September2020.json.gz\n",
      "/Product_ironscaferacer.com_September2020.json.gz\n",
      "/CreativeWork_azfranchising.com_September2020.json.gz\n",
      "/MusicRecording_overtheriverband.com_September2020.json.gz\n",
      "/Event_wwbic.com_September2020.json.gz\n",
      "/Event_clubharrington.com.au_September2020.json.gz\n",
      "/Product_millenialpets.com_September2020.json.gz\n"
     ]
    },
    {
     "name": "stderr",
     "output_type": "stream",
     "text": [
      " 70% (1731 of 2444) |##############      | Elapsed Time: 0:01:14 ETA:   0:00:19\n"
     ]
    },
    {
     "name": "stdout",
     "output_type": "stream",
     "text": [
      "/CreativeWork_panificiomagda.com_September2020.json.gz\n",
      "/Product_cyeagle.com.tw_September2020.json.gz\n",
      "/Recipe_kipkitchen.com_September2020.json.gz\n",
      "/Product_littleandpureposters.com_September2020.json.gz\n",
      "/Event_dublin-georgia.com_September2020.json.gz\n",
      "/Product_mon-gn.com_September2020.json.gz\n",
      "/Event_lwvtulsa.org_September2020.json.gz\n",
      "/MusicRecording_nofrillsmusic.com_September2020.json.gz\n",
      "/Event_visitwestbranch.com_September2020.json.gz\n",
      "/Event_elclc.org_September2020.json.gz\n",
      "/Person_rolloinsurance.com_September2020.json.gz\n",
      "/LocalBusiness_selecti.org_September2020.json.gz\n",
      "/CreativeWork_palisadespool.com_September2020.json.gz\n",
      "/Product_flowers4laos.com_September2020.json.gz\n"
     ]
    },
    {
     "name": "stderr",
     "output_type": "stream",
     "text": [
      " 71% (1738 of 2444) |##############      | Elapsed Time: 0:01:14 ETA:   0:00:18\n"
     ]
    },
    {
     "name": "stdout",
     "output_type": "stream",
     "text": [
      "/Person_austinfuneralservice.com_September2020.json.gz\n",
      "/MusicRecording_leilasworldmusic.com_September2020.json.gz\n",
      "/Product_aztecdiamondequestrian.com_September2020.json.gz\n",
      "/CreativeWork_airthemes.net_September2020.json.gz\n",
      "/Recipe_naturallylt.com_September2020.json.gz\n",
      "/CreativeWork_socksrocks.com_September2020.json.gz\n",
      "/CreativeWork_trueplr.com_September2020.json.gz\n",
      "/CreativeWork_foxriveroils.com_September2020.json.gz\n",
      "/Product_thewineguyli.com_September2020.json.gz\n"
     ]
    },
    {
     "name": "stderr",
     "output_type": "stream",
     "text": [
      " 71% (1747 of 2444) |##############      | Elapsed Time: 0:01:14 ETA:   0:00:17\n",
      " 71% (1754 of 2444) |##############      | Elapsed Time: 0:01:14 ETA:   0:00:16\n"
     ]
    },
    {
     "name": "stdout",
     "output_type": "stream",
     "text": [
      "/Product_allsilver.net_September2020.json.gz\n",
      "/Place_art-bc.com_September2020.json.gz\n",
      "/CreativeWork_yucksauce.com_September2020.json.gz\n",
      "/Product_blancosyblancos.com_September2020.json.gz\n",
      "/Product_bmwofwarwick.com_September2020.json.gz\n",
      "/Recipe_themommaven.com_September2020.json.gz\n",
      "/Product_dinomerchandise.com_September2020.json.gz\n",
      "/Event_jamyangleeds.co.uk_September2020.json.gz\n",
      "/Recipe_leparfait.com_September2020.json.gz\n",
      "/Product_drummondhouseplans.com_September2020.json.gz\n"
     ]
    },
    {
     "name": "stderr",
     "output_type": "stream",
     "text": [
      " 71% (1757 of 2444) |##############      | Elapsed Time: 0:01:14 ETA:   0:00:16\n",
      " 72% (1763 of 2444) |##############      | Elapsed Time: 0:01:15 ETA:   0:00:16\n"
     ]
    },
    {
     "name": "stdout",
     "output_type": "stream",
     "text": [
      "/Person_areadevelopment.com_September2020.json.gz\n",
      "/Product_socksfiesta.com_September2020.json.gz\n",
      "/Product_goddessbra.com_September2020.json.gz\n",
      "/Product_k2.com.au_September2020.json.gz\n",
      "/Product_texaswilson.com_September2020.json.gz\n",
      "/Product_rinea.com_September2020.json.gz\n",
      "/MusicRecording_kenwank.com_September2020.json.gz\n",
      "/CreativeWork_nesttogethersleepco.com_September2020.json.gz\n",
      "/LocalBusiness_brownsburg.com_September2020.json.gz\n",
      "/Event_masshumanities.org_September2020.json.gz\n",
      "/Person_fishfocus.co.uk_September2020.json.gz\n"
     ]
    },
    {
     "name": "stderr",
     "output_type": "stream",
     "text": [
      " 72% (1769 of 2444) |##############      | Elapsed Time: 0:01:15 ETA:   0:00:16\n",
      " 72% (1780 of 2444) |##############      | Elapsed Time: 0:01:15 ETA:   0:00:15\n"
     ]
    },
    {
     "name": "stdout",
     "output_type": "stream",
     "text": [
      "/Product_vans.com.br_September2020.json.gz\n",
      "/Product_ablesia.com_September2020.json.gz\n",
      "/Product_langkampfuneralchapel.com_September2020.json.gz\n",
      "/MusicRecording_lindseygrahamministries.com_September2020.json.gz\n",
      "/MusicRecording_negomozambique.com_September2020.json.gz\n",
      "/Product_rfjp.com_September2020.json.gz\n",
      "/MusicRecording_seannoonanmusic.com_September2020.json.gz\n",
      "/Product_mdendoscopy.com_September2020.json.gz\n",
      "/Product_autosjuarezllc.com_September2020.json.gz\n",
      "/Event_lakewoodumc.com_September2020.json.gz\n",
      "/Person_foundsfuneralhome.com_September2020.json.gz\n",
      "/Product_waltonfinearts.com_September2020.json.gz\n",
      "/MusicRecording_larryconger.com_September2020.json.gz\n",
      "/MusicRecording_jimlesses.com_September2020.json.gz\n",
      "/Recipe_ourharvest.com_September2020.json.gz\n",
      "/Recipe_kosher.com_September2020.json.gz\n"
     ]
    },
    {
     "name": "stderr",
     "output_type": "stream",
     "text": [
      " 72% (1784 of 2444) |##############      | Elapsed Time: 0:01:15 ETA:   0:00:15\n",
      " 73% (1785 of 2444) |##############      | Elapsed Time: 0:01:15 ETA:   0:00:14\n"
     ]
    },
    {
     "name": "stdout",
     "output_type": "stream",
     "text": [
      "/Product_levelshoes.com_September2020.json.gz\n",
      "/MusicRecording_djsandmcs.com_September2020.json.gz\n",
      "/Person_mcgeehanfh.com_September2020.json.gz\n",
      "/Product_aobfurniture.com_September2020.json.gz\n",
      "/CreativeWork_mobilephysicianservices.com_September2020.json.gz\n",
      "/Product_gracequc.com_September2020.json.gz\n",
      "/Person_tomjames.com_September2020.json.gz\n",
      "/CreativeWork_diendantruyen.com_September2020.json.gz\n",
      "/Place_vunity.com_September2020.json.gz\n"
     ]
    },
    {
     "name": "stderr",
     "output_type": "stream",
     "text": [
      " 73% (1794 of 2444) |##############      | Elapsed Time: 0:01:15 ETA:   0:00:13\n",
      " 73% (1795 of 2444) |##############      | Elapsed Time: 0:01:15 ETA:   0:00:13\n",
      " 73% (1803 of 2444) |##############      | Elapsed Time: 0:01:15 ETA:   0:00:12\n"
     ]
    },
    {
     "name": "stdout",
     "output_type": "stream",
     "text": [
      "/LocalBusiness_buildabear.com_September2020.json.gz\n",
      "/Product_merchantquarters.com_September2020.json.gz\n",
      "/CreativeWork_ls1lt1.com_September2020.json.gz\n",
      "/CreativeWork_djloveproductions.com_September2020.json.gz\n",
      "/Recipe_gritsandchopsticks.com_September2020.json.gz\n",
      "/CreativeWork_maticsbarcelona.net_September2020.json.gz\n",
      "/CreativeWork_chaoranphoto.com_September2020.json.gz\n",
      "/Product_optlasers.com_September2020.json.gz\n",
      "/Event_outlinesurrey.org.uk_September2020.json.gz\n",
      "/MusicRecording_nineorbetta.com_September2020.json.gz\n",
      "/Event_dfla.org_September2020.json.gz\n",
      "/CreativeWork_morriscountywindowcleaning.com_September2020.json.gz\n",
      "/Event_gagapeople.com_September2020.json.gz\n",
      "/Product_kxsh365.com_September2020.json.gz\n"
     ]
    },
    {
     "name": "stderr",
     "output_type": "stream",
     "text": [
      " 73% (1807 of 2444) |##############      | Elapsed Time: 0:01:16 ETA:   0:00:15\n",
      " 74% (1810 of 2444) |##############      | Elapsed Time: 0:01:16 ETA:   0:00:16\n"
     ]
    },
    {
     "name": "stdout",
     "output_type": "stream",
     "text": [
      "/LocalBusiness_monroecountychamber.com_September2020.json.gz\n",
      "/Product_milanstyle.com_September2020.json.gz\n",
      "/Product_bestefly.com_September2020.json.gz\n",
      "/Product_thornsdiy.com_September2020.json.gz\n"
     ]
    },
    {
     "name": "stderr",
     "output_type": "stream",
     "text": [
      " 74% (1811 of 2444) |##############      | Elapsed Time: 0:01:16 ETA:   0:00:20\n",
      " 74% (1819 of 2444) |##############      | Elapsed Time: 0:01:16 ETA:   0:00:19\n"
     ]
    },
    {
     "name": "stdout",
     "output_type": "stream",
     "text": [
      "/CreativeWork_debtamerica.com_September2020.json.gz\n",
      "/Product_zhantai1990.com_September2020.json.gz\n",
      "/CreativeWork_mightypizzastone.com_September2020.json.gz\n",
      "/Person_livestonews.com.ng_September2020.json.gz\n",
      "/Hotel_sohohoteles.com_September2020.json.gz\n",
      "/Person_bosmagibson.com_September2020.json.gz\n",
      "/Product_sydneychillies.com.au_September2020.json.gz\n",
      "/LocalBusiness_vivacetep.com.br_September2020.json.gz\n",
      "/CreativeWork_tundratalk.net_September2020.json.gz\n"
     ]
    },
    {
     "name": "stderr",
     "output_type": "stream",
     "text": [
      " 74% (1820 of 2444) |##############      | Elapsed Time: 0:01:17 ETA:   0:00:22\n",
      " 74% (1826 of 2444) |##############      | Elapsed Time: 0:01:17 ETA:   0:00:22\n"
     ]
    },
    {
     "name": "stdout",
     "output_type": "stream",
     "text": [
      "/MusicRecording_devinleighmusic.com_September2020.json.gz\n",
      "/Product_fabbabeshair.com_September2020.json.gz\n",
      "/Event_legationboules.com_September2020.json.gz\n",
      "/Product_bigadventurerv.com_September2020.json.gz\n",
      "/Product_lesutilesdezinette.com_September2020.json.gz\n",
      "/Place_knittingfed.com_September2020.json.gz\n",
      "/Person_breitbart.com_September2020.json.gz\n",
      "/MusicRecording_omshaman.com_September2020.json.gz\n",
      "/Recipe_csbsjulib.com_September2020.json.gz\n",
      "/MusicRecording_memphismusicgroupinc.com_September2020.json.gz\n",
      "/Product_styleitretro.com_September2020.json.gz\n",
      "/CreativeWork_whales.org_September2020.json.gz\n",
      "/Product_hillsidechapelfh.com_September2020.json.gz\n",
      "/MusicRecording_curtwilsonmusic.com_September2020.json.gz\n",
      "/Recipe_themilakitchen.com_September2020.json.gz\n"
     ]
    },
    {
     "name": "stderr",
     "output_type": "stream",
     "text": [
      " 75% (1835 of 2444) |###############     | Elapsed Time: 0:01:17 ETA:   0:00:23\n",
      " 75% (1843 of 2444) |###############     | Elapsed Time: 0:01:17 ETA:   0:00:20\n"
     ]
    },
    {
     "name": "stdout",
     "output_type": "stream",
     "text": [
      "/MusicRecording_samsimsmusic.com_September2020.json.gz\n",
      "/Product_artecindustries.com_September2020.json.gz\n",
      "/Product_houserawlings.com_September2020.json.gz\n",
      "/Event_citizensforcleanwater.org_September2020.json.gz\n",
      "/Product_1worldcars.com_September2020.json.gz\n",
      "/CreativeWork_schaetzl-ereignismanagement.com_September2020.json.gz\n",
      "/Product_stagestep.com_September2020.json.gz\n",
      "/Product_websitedesignnearme.net.au_September2020.json.gz\n",
      "/Product_weddells.com_September2020.json.gz\n",
      "/Recipe_crownbbq.com_September2020.json.gz\n",
      "/Product_ltc-energy.com_September2020.json.gz\n",
      "/Product_topfitnessproduct.com_September2020.json.gz\n",
      "/Product_kiddimoto.co.uk_September2020.json.gz\n",
      "/MusicRecording_willmsbluegrass.com_September2020.json.gz\n",
      "/MusicRecording_cathybolton.com_September2020.json.gz\n",
      "/Event_visitemporia.com_September2020.json.gz\n"
     ]
    },
    {
     "name": "stderr",
     "output_type": "stream",
     "text": [
      " 75% (1852 of 2444) |###############     | Elapsed Time: 0:01:17 ETA:   0:00:18\n"
     ]
    },
    {
     "name": "stdout",
     "output_type": "stream",
     "text": [
      "/MusicRecording_boohagmusic.com_September2020.json.gz\n",
      "/Book_machadolibros.com_September2020.json.gz\n"
     ]
    },
    {
     "name": "stderr",
     "output_type": "stream",
     "text": [
      " 75% (1853 of 2444) |###############     | Elapsed Time: 0:01:17 ETA:   0:00:24\n",
      " 75% (1857 of 2444) |###############     | Elapsed Time: 0:01:17 ETA:   0:00:23\n",
      " 76% (1860 of 2444) |###############     | Elapsed Time: 0:01:18 ETA:   0:00:22\n"
     ]
    },
    {
     "name": "stdout",
     "output_type": "stream",
     "text": [
      "/Event_natureslinkwellness.com_September2020.json.gz\n",
      "/LocalBusiness_agrotechgumat.com_September2020.json.gz\n",
      "/Product_thompsoncares.com_September2020.json.gz\n",
      "/Product_pcpmarket.com_September2020.json.gz\n",
      "/Recipe_ontysplate.com_September2020.json.gz\n",
      "/Recipe_mamaloli.com_September2020.json.gz\n",
      "/Person_allencares.com_September2020.json.gz\n",
      "/LocalBusiness_mountvernonyellowpages.com_September2020.json.gz\n"
     ]
    },
    {
     "name": "stderr",
     "output_type": "stream",
     "text": [
      " 76% (1865 of 2444) |###############     | Elapsed Time: 0:01:18 ETA:   0:00:21\n"
     ]
    },
    {
     "name": "stdout",
     "output_type": "stream",
     "text": [
      "/Product_lahondaworld.com_September2020.json.gz\n",
      "/Product_topandwrap.com_September2020.json.gz\n",
      "/Product_mypearlsandthreads.com_September2020.json.gz\n",
      "/Product_whereez.com_September2020.json.gz\n",
      "/Product_philadelphiaeagles.com_September2020.json.gz\n"
     ]
    },
    {
     "name": "stderr",
     "output_type": "stream",
     "text": [
      " 76% (1866 of 2444) |###############     | Elapsed Time: 0:01:18 ETA:   0:00:21\n",
      " 76% (1872 of 2444) |###############     | Elapsed Time: 0:01:18 ETA:   0:00:19\n"
     ]
    },
    {
     "name": "stdout",
     "output_type": "stream",
     "text": [
      "/Person_designingbuildings.co.uk_September2020.json.gz\n",
      "/Product_urbanpalms.com_September2020.json.gz\n",
      "/Product_study24x7.com_September2020.json.gz\n",
      "/MusicRecording_catherinebent.com_September2020.json.gz\n",
      "/Product_dumpshero.com_September2020.json.gz\n",
      "/Recipe_crystalmixer.com_September2020.json.gz\n",
      "/Recipe_makergardener.com_September2020.json.gz\n",
      "/MusicRecording_jik1.com_September2020.json.gz\n",
      "/Product_holycrossmemorial.com_September2020.json.gz\n",
      "/CreativeWork_ledlightsunlimited.net_September2020.json.gz\n",
      "/Event_cslcrossroads.com_September2020.json.gz\n",
      "/Product_toplockshop.com_September2020.json.gz\n",
      "/Place_callersmart.com_September2020.json.gz\n"
     ]
    },
    {
     "name": "stderr",
     "output_type": "stream",
     "text": [
      " 76% (1879 of 2444) |###############     | Elapsed Time: 0:01:18 ETA:   0:00:16\n",
      " 77% (1884 of 2444) |###############     | Elapsed Time: 0:01:18 ETA:   0:00:17\n"
     ]
    },
    {
     "name": "stdout",
     "output_type": "stream",
     "text": [
      "/MusicRecording_phantomfireworksrecordlabel.com_September2020.json.gz\n",
      "/CreativeWork_iafflocal3066.org_September2020.json.gz\n",
      "/CreativeWork_projectthirdiopened.com_September2020.json.gz\n",
      "/Product_foundthatfilm.co.uk_September2020.json.gz\n",
      "/Product_villayasmine.com_September2020.json.gz\n",
      "/Product_aalbc.com_September2020.json.gz\n"
     ]
    },
    {
     "name": "stderr",
     "output_type": "stream",
     "text": [
      " 77% (1885 of 2444) |###############     | Elapsed Time: 0:01:19 ETA:   0:00:19\n"
     ]
    },
    {
     "name": "stdout",
     "output_type": "stream",
     "text": [
      "/CreativeWork_agilemind.com_September2020.json.gz\n",
      "/Product_fionawilson.net_September2020.json.gz\n",
      "/Event_ecocongregationscotland.org_September2020.json.gz\n",
      "/Product_aceuae.com_September2020.json.gz\n",
      "/Product_sweelee.com.my_September2020.json.gz\n"
     ]
    },
    {
     "name": "stderr",
     "output_type": "stream",
     "text": [
      " 77% (1890 of 2444) |###############     | Elapsed Time: 0:01:19 ETA:   0:00:17\n"
     ]
    },
    {
     "name": "stdout",
     "output_type": "stream",
     "text": [
      "/Product_keyphoto.com_September2020.json.gz\n",
      "/Product_briggstoyota.com_September2020.json.gz\n",
      "/Book_walkfordreams.co.uk_September2020.json.gz\n"
     ]
    },
    {
     "name": "stderr",
     "output_type": "stream",
     "text": [
      " 77% (1893 of 2444) |###############     | Elapsed Time: 0:01:19 ETA:   0:00:22\n",
      " 77% (1902 of 2444) |###############     | Elapsed Time: 0:01:19 ETA:   0:00:22\n"
     ]
    },
    {
     "name": "stdout",
     "output_type": "stream",
     "text": [
      "/Recipe_ncegg.org_September2020.json.gz\n",
      "/Product_sanchezautoteam.com_September2020.json.gz\n",
      "/Product_thegoatmilksoapstore.com_September2020.json.gz\n",
      "/Recipe_onolicioushawaii.com_September2020.json.gz\n",
      "/MusicRecording_thetaoflow.com_September2020.json.gz\n",
      "/LocalBusiness_newtonfallowell.co.uk_September2020.json.gz\n",
      "/MusicRecording_mizeryonline.com_September2020.json.gz\n",
      "/LocalBusiness_nwsignsolutions.com_September2020.json.gz\n",
      "/Product_solentwhirlpoolsandspas.com_September2020.json.gz\n",
      "/Recipe_beavertonfoods.com_September2020.json.gz\n",
      "/Product_trilogyproducts.com_September2020.json.gz\n",
      "/Book_hachettebookgroup.com_September2020.json.gz\n"
     ]
    },
    {
     "name": "stderr",
     "output_type": "stream",
     "text": [
      " 77% (1905 of 2444) |###############     | Elapsed Time: 0:01:23 ETA:   0:12:51\n",
      " 78% (1911 of 2444) |###############     | Elapsed Time: 0:01:24 ETA:   0:04:21\n"
     ]
    },
    {
     "name": "stdout",
     "output_type": "stream",
     "text": [
      "/MusicRecording_benharoldmusic.com_September2020.json.gz\n",
      "/CreativeWork_distinctivemanteldesigns.com_September2020.json.gz\n",
      "/Person_krcl.com_September2020.json.gz\n",
      "/Recipe_airfryereats.com_September2020.json.gz\n",
      "/CreativeWork_appealphotography.com_September2020.json.gz\n",
      "/Product_kindredbravely.com_September2020.json.gz\n",
      "/Product_test-equipment-rental.com_September2020.json.gz\n",
      "/Product_bioderma.com.om_September2020.json.gz\n",
      "/MusicAlbum_letras.com_September2020.json.gz\n"
     ]
    },
    {
     "name": "stderr",
     "output_type": "stream",
     "text": [
      " 78% (1914 of 2444) |###############     | Elapsed Time: 0:01:24 ETA:   0:03:31\n",
      " 78% (1919 of 2444) |###############     | Elapsed Time: 0:01:24 ETA:   0:03:29\n"
     ]
    },
    {
     "name": "stdout",
     "output_type": "stream",
     "text": [
      "/Person_saprealty.com_September2020.json.gz\n",
      "/CreativeWork_oceans-and-skies.com_September2020.json.gz\n",
      "/Person_bcg.com_September2020.json.gz\n",
      "/MusicRecording_pakhopsionic.com_September2020.json.gz\n",
      "/Recipe_anelpotgieter.com_September2020.json.gz\n",
      "/LocalBusiness_marketapts.com_September2020.json.gz\n",
      "/Product_ezouti.com_September2020.json.gz\n",
      "/Book_fishpond.com_September2020.json.gz\n"
     ]
    },
    {
     "name": "stderr",
     "output_type": "stream",
     "text": [
      " 78% (1922 of 2444) |###############     | Elapsed Time: 0:01:25 ETA:   0:02:22\n",
      " 78% (1923 of 2444) |###############     | Elapsed Time: 0:01:25 ETA:   0:02:19\n"
     ]
    },
    {
     "name": "stdout",
     "output_type": "stream",
     "text": [
      "/Product_birdandblendtea.com_September2020.json.gz\n",
      "/Hotel_barcelo.com_September2020.json.gz\n",
      "/Product_treadwayvehicles.com_September2020.json.gz\n",
      "/Product_steroidsdeal.com_September2020.json.gz\n"
     ]
    },
    {
     "name": "stderr",
     "output_type": "stream",
     "text": [
      " 78% (1928 of 2444) |###############     | Elapsed Time: 0:01:25 ETA:   0:01:54\n",
      " 79% (1932 of 2444) |###############     | Elapsed Time: 0:01:25 ETA:   0:01:40\n"
     ]
    },
    {
     "name": "stdout",
     "output_type": "stream",
     "text": [
      "/Person_arch-com.net_September2020.json.gz\n",
      "/CreativeWork_clubarmada.com_September2020.json.gz\n",
      "/Product_starlingchevy.com_September2020.json.gz\n",
      "/Product_shoppettest.com_September2020.json.gz\n",
      "/Event_neohgolf.com_September2020.json.gz\n",
      "/Product_stridestore.com.au_September2020.json.gz\n",
      "/Person_ocregister.com_September2020.json.gz\n"
     ]
    },
    {
     "name": "stderr",
     "output_type": "stream",
     "text": [
      " 79% (1934 of 2444) |###############     | Elapsed Time: 0:01:25 ETA:   0:01:35\n",
      " 79% (1941 of 2444) |###############     | Elapsed Time: 0:01:25 ETA:   0:01:19\n"
     ]
    },
    {
     "name": "stdout",
     "output_type": "stream",
     "text": [
      "/Product_samscotts.co.uk_September2020.json.gz\n",
      "/Person_carmichaelfuneralhomes.com_September2020.json.gz\n",
      "/Event_amalabs.com_September2020.json.gz\n",
      "/TVEpisode_thinkerviews.com_September2020.json.gz\n",
      "/Event_vidyaliving.com_September2020.json.gz\n",
      "/Event_offtherailsarthouse.com_September2020.json.gz\n",
      "/Recipe_glueandglitter.com_September2020.json.gz\n",
      "/Recipe_alyonascooking.com_September2020.json.gz\n",
      "/Product_theexchangeint.com_September2020.json.gz\n",
      "/Hotel_magicstay.com_September2020.json.gz\n"
     ]
    },
    {
     "name": "stderr",
     "output_type": "stream",
     "text": [
      " 79% (1943 of 2444) |###############     | Elapsed Time: 0:01:25 ETA:   0:01:16\n",
      " 79% (1947 of 2444) |###############     | Elapsed Time: 0:01:26 ETA:   0:00:24\n"
     ]
    },
    {
     "name": "stdout",
     "output_type": "stream",
     "text": [
      "/Place_optimum.com_September2020.json.gz\n",
      "/Book_hodderbibles.co.uk_September2020.json.gz\n",
      "/Product_buckinghammfg.com_September2020.json.gz\n",
      "/Person_chat-s-devushkami.com_September2020.json.gz\n",
      "/MusicRecording_damnglad.com_September2020.json.gz\n",
      "/Product_certscare.com_September2020.json.gz\n",
      "/CreativeWork_bukanbioskop.com_September2020.json.gz\n",
      "/Recipe_mustlovehome.com_September2020.json.gz\n",
      "/CreativeWork_sphosp.org_September2020.json.gz\n",
      "/Event_anandawashington.org_September2020.json.gz\n",
      "/Hotel_tripadvisor.com_September2020.json.gz\n"
     ]
    },
    {
     "name": "stderr",
     "output_type": "stream",
     "text": [
      " 79% (1954 of 2444) |###############     | Elapsed Time: 0:01:26 ETA:   0:00:23\n"
     ]
    },
    {
     "name": "stdout",
     "output_type": "stream",
     "text": [
      "/MusicRecording_oddsmusic.com_September2020.json.gz\n",
      "/Product_samsonite.co.uk_September2020.json.gz\n",
      "/Place_crichurch.org_September2020.json.gz\n",
      "/Product_streetlightrecords.com_September2020.json.gz\n"
     ]
    },
    {
     "name": "stderr",
     "output_type": "stream",
     "text": [
      " 80% (1958 of 2444) |################    | Elapsed Time: 0:01:26 ETA:   0:00:25\n",
      " 80% (1959 of 2444) |################    | Elapsed Time: 0:01:26 ETA:   0:00:26\n"
     ]
    },
    {
     "name": "stdout",
     "output_type": "stream",
     "text": [
      "/Product_nagsessentials.co.uk_September2020.json.gz\n",
      "/Product_bornoriginals.com_September2020.json.gz\n"
     ]
    },
    {
     "name": "stderr",
     "output_type": "stream",
     "text": [
      " 80% (1960 of 2444) |################    | Elapsed Time: 0:01:27 ETA:   0:00:27\n",
      " 80% (1964 of 2444) |################    | Elapsed Time: 0:01:27 ETA:   0:00:23\n"
     ]
    },
    {
     "name": "stdout",
     "output_type": "stream",
     "text": [
      "/Product_scottriceok.com_September2020.json.gz\n",
      "/Product_nvc-lighting.com.vn_September2020.json.gz\n",
      "/CreativeWork_folderwave.com_September2020.json.gz\n",
      "/Product_rapmazon.com_September2020.json.gz\n",
      "/Event_louisvillegrows.org_September2020.json.gz\n",
      "/Product_tomstrainsny.com_September2020.json.gz\n",
      "/Product_etrendshopping.com_September2020.json.gz\n",
      "/LocalBusiness_betar-ural.com_September2020.json.gz\n",
      "/Product_499downdrivetoday.com_September2020.json.gz\n"
     ]
    },
    {
     "name": "stderr",
     "output_type": "stream",
     "text": [
      " 80% (1970 of 2444) |################    | Elapsed Time: 0:01:27 ETA:   0:00:20\n",
      " 80% (1974 of 2444) |################    | Elapsed Time: 0:01:27 ETA:   0:00:19\n"
     ]
    },
    {
     "name": "stdout",
     "output_type": "stream",
     "text": [
      "/Product_rlbsalesandleasing.com_September2020.json.gz\n",
      "/Event_bostoncil.org_September2020.json.gz\n",
      "/Product_mcveighfuneralhome.com_September2020.json.gz\n",
      "/MusicRecording_coastroadrecords.com_September2020.json.gz\n",
      "/LocalBusiness_stcloudareachamber.com_September2020.json.gz\n",
      "/MusicRecording_dockellisband.com_September2020.json.gz\n",
      "/Event_soundoffexperience.com_September2020.json.gz\n"
     ]
    },
    {
     "name": "stderr",
     "output_type": "stream",
     "text": [
      " 80% (1976 of 2444) |################    | Elapsed Time: 0:01:27 ETA:   0:00:21\n",
      " 81% (1980 of 2444) |################    | Elapsed Time: 0:01:27 ETA:   0:00:21\n",
      " 81% (1989 of 2444) |################    | Elapsed Time: 0:01:27 ETA:   0:00:18\n"
     ]
    },
    {
     "name": "stdout",
     "output_type": "stream",
     "text": [
      "/Product_jtmplumbing.co.uk_September2020.json.gz\n",
      "/MusicRecording_walteregomusic.com_September2020.json.gz\n",
      "/Product_ogio.com_September2020.json.gz\n",
      "/CreativeWork_cpsucsa.org_September2020.json.gz\n",
      "/MusicRecording_louisawise.com_September2020.json.gz\n",
      "/CreativeWork_totalnutritionlongview.com_September2020.json.gz\n",
      "/Product_rdpstore.com_September2020.json.gz\n",
      "/Person_pacificlegal.org_September2020.json.gz\n",
      "/Person_bedford.gov.uk_September2020.json.gz\n",
      "/MusicRecording_differentmoon.com_September2020.json.gz\n",
      "/MusicRecording_jointchiefsmusic.com_September2020.json.gz\n",
      "/Event_nixenepublishing.com_September2020.json.gz\n",
      "/Product_dienhoa24gio.net_September2020.json.gz\n",
      "/MusicRecording_fernandootero.com_September2020.json.gz\n"
     ]
    },
    {
     "name": "stderr",
     "output_type": "stream",
     "text": [
      " 81% (1994 of 2444) |################    | Elapsed Time: 0:01:27 ETA:   0:00:18\n"
     ]
    },
    {
     "name": "stdout",
     "output_type": "stream",
     "text": [
      "/Product_mashappliances.com_September2020.json.gz\n",
      "/Product_recambiosoriginal.com_September2020.json.gz\n",
      "/Product_timetravelrecords.co.uk_September2020.json.gz\n",
      "/Product_meritshomecenter.com_September2020.json.gz\n",
      "/CreativeWork_socialproofimage.com_September2020.json.gz\n",
      "/LocalBusiness_murraychamber.org_September2020.json.gz\n",
      "/LocalBusiness_myinvestorsbank.com_September2020.json.gz\n",
      "/Product_slimenewyork.com_September2020.json.gz\n"
     ]
    },
    {
     "name": "stderr",
     "output_type": "stream",
     "text": [
      " 81% (2003 of 2444) |################    | Elapsed Time: 0:01:28 ETA:   0:00:16\n",
      " 82% (2006 of 2444) |################    | Elapsed Time: 0:01:28 ETA:   0:00:17\n"
     ]
    },
    {
     "name": "stdout",
     "output_type": "stream",
     "text": [
      "/Product_clptuning.co.uk_September2020.json.gz\n",
      "/MusicRecording_warrenearlband.com_September2020.json.gz\n",
      "/CreativeWork_designscene.net_September2020.json.gz\n",
      "/MusicRecording_evansdilemma.com_September2020.json.gz\n",
      "/Person_severson.com_September2020.json.gz\n",
      "/Recipe_monin.com_September2020.json.gz\n",
      "/Product_qray.com_September2020.json.gz\n",
      "/Product_holidaygifts4you.com_September2020.json.gz\n",
      "/Product_smartbabytoys.co.uk_September2020.json.gz\n",
      "/Product_lessensdumonde.co.uk_September2020.json.gz\n"
     ]
    },
    {
     "name": "stderr",
     "output_type": "stream",
     "text": [
      " 82% (2011 of 2444) |################    | Elapsed Time: 0:01:28 ETA:   0:00:16\n"
     ]
    },
    {
     "name": "stdout",
     "output_type": "stream",
     "text": [
      "/CreativeWork_superiorinvest.com_September2020.json.gz\n",
      "/Product_dekalboffice.com_September2020.json.gz\n",
      "/Product_novellofurniture.com_September2020.json.gz\n",
      "/Product_gianteaglecontacts.com_September2020.json.gz\n",
      "/Product_morisketa.com_September2020.json.gz\n",
      "/Person_whitakerfuneralhome.com_September2020.json.gz\n",
      "/Product_reebok.com.tr_September2020.json.gz\n",
      "/MusicRecording_mattlintonmusic.com_September2020.json.gz\n",
      "/Product_vedicpro.com_September2020.json.gz\n"
     ]
    },
    {
     "name": "stderr",
     "output_type": "stream",
     "text": [
      " 82% (2017 of 2444) |################    | Elapsed Time: 0:01:28 ETA:   0:00:16\n",
      " 82% (2021 of 2444) |################    | Elapsed Time: 0:01:28 ETA:   0:00:16\n"
     ]
    },
    {
     "name": "stdout",
     "output_type": "stream",
     "text": [
      "/MusicRecording_larrynatwick.com_September2020.json.gz\n",
      "/MusicRecording_drewallenbrown.com_September2020.json.gz\n",
      "/Product_pelipackaging.com_September2020.json.gz\n",
      "/Product_thegardencorner.com_September2020.json.gz\n",
      "/LocalBusiness_massachusetts-locksmith.com_September2020.json.gz\n",
      "/MusicRecording_briandenhertog.com_September2020.json.gz\n",
      "/Recipe_kitchen2point0.com_September2020.json.gz\n",
      "/CreativeWork_allegrafinance.com_September2020.json.gz\n"
     ]
    },
    {
     "name": "stderr",
     "output_type": "stream",
     "text": [
      " 82% (2026 of 2444) |################    | Elapsed Time: 0:01:28 ETA:   0:00:12\n"
     ]
    },
    {
     "name": "stdout",
     "output_type": "stream",
     "text": [
      "/Place_schnucks.com_September2020.json.gz\n",
      "/MusicRecording_celloboy7.com_September2020.json.gz\n",
      "/Product_tartancarpets.co.uk_September2020.json.gz\n",
      "/Recipe_thesidingsn21.co.uk_September2020.json.gz\n",
      "/Event_citycookingwestend.com_September2020.json.gz\n",
      "/Product_clubpremier.com_September2020.json.gz\n",
      "/Restaurant_opentable.com_September2020.json.gz\n"
     ]
    },
    {
     "name": "stderr",
     "output_type": "stream",
     "text": [
      " 83% (2032 of 2444) |################    | Elapsed Time: 0:01:31 ETA:   0:03:28\n",
      " 83% (2036 of 2444) |################    | Elapsed Time: 0:01:31 ETA:   0:02:07\n"
     ]
    },
    {
     "name": "stdout",
     "output_type": "stream",
     "text": [
      "/MusicRecording_esweku.com_September2020.json.gz\n",
      "/LocalBusiness_spongelle.com_September2020.json.gz\n",
      "/MusicRecording_dockersguild.com_September2020.json.gz\n",
      "/Event_nextfab.com_September2020.json.gz\n",
      "/CreativeWork_markappeal.com_September2020.json.gz\n",
      "/Book_briancassidy.net_September2020.json.gz\n",
      "/CreativeWork_jrcontractinggroup.com_September2020.json.gz\n"
     ]
    },
    {
     "name": "stderr",
     "output_type": "stream",
     "text": [
      " 83% (2039 of 2444) |################    | Elapsed Time: 0:01:32 ETA:   0:01:40\n",
      " 83% (2046 of 2444) |################    | Elapsed Time: 0:01:32 ETA:   0:01:07\n"
     ]
    },
    {
     "name": "stdout",
     "output_type": "stream",
     "text": [
      "/Recipe_recipelibrary.net_September2020.json.gz\n",
      "/CreativeWork_activstars.com_September2020.json.gz\n",
      "/Place_thetimesherald.com_September2020.json.gz\n",
      "/Person_consalusfuneralhome.com_September2020.json.gz\n",
      "/CreativeWork_emojixd.com_September2020.json.gz\n",
      "/Product_bluegold-watermakers.com_September2020.json.gz\n",
      "/Product_topshotworldwide.com_September2020.json.gz\n",
      "/Recipe_attiluskaviar.com_September2020.json.gz\n",
      "/MusicRecording_thelesters.com_September2020.json.gz\n",
      "/Product_royagreenfuneralhome.com_September2020.json.gz\n",
      "/Product_anythingforhire.com_September2020.json.gz\n"
     ]
    },
    {
     "name": "stderr",
     "output_type": "stream",
     "text": [
      " 83% (2050 of 2444) |################    | Elapsed Time: 0:01:34 ETA:   0:00:58\n",
      " 84% (2054 of 2444) |################    | Elapsed Time: 0:01:34 ETA:   0:00:54\n"
     ]
    },
    {
     "name": "stdout",
     "output_type": "stream",
     "text": [
      "/Product_revive-wear.com_September2020.json.gz\n",
      "/Product_allensummerhillfuneralhome.com_September2020.json.gz\n",
      "/Product_grisellfuneralhomes.com_September2020.json.gz\n",
      "/Event_elkgrovefoodbank.org_September2020.json.gz\n",
      "/LocalBusiness_garotalinda.com.br_September2020.json.gz\n",
      "/Event_csiac.org_September2020.json.gz\n",
      "/Product_williammurphyfuneralhomeinc.com_September2020.json.gz\n",
      "/LocalBusiness_esl-taalreizen.com_September2020.json.gz\n",
      "/Product_ninafiori.com.br_September2020.json.gz\n"
     ]
    },
    {
     "name": "stderr",
     "output_type": "stream",
     "text": [
      " 84% (2059 of 2444) |################    | Elapsed Time: 0:01:34 ETA:   0:01:01\n"
     ]
    },
    {
     "name": "stdout",
     "output_type": "stream",
     "text": [
      "/Place_visitmvl.com_September2020.json.gz\n",
      "/MusicRecording_estebanantonio-hashem.com_September2020.json.gz\n",
      "/MusicRecording_radiosprings.com_September2020.json.gz\n",
      "/MusicRecording_jeffjacobsband.com_September2020.json.gz\n",
      "/Product_discountsurgical.com_September2020.json.gz\n",
      "/Event_msia.org_September2020.json.gz\n",
      "/Product_forestremedies.com_September2020.json.gz\n",
      "/Product_wholesalesolar.com_September2020.json.gz\n"
     ]
    },
    {
     "name": "stderr",
     "output_type": "stream",
     "text": [
      " 84% (2067 of 2444) |################    | Elapsed Time: 0:01:34 ETA:   0:00:41\n",
      " 84% (2073 of 2444) |################    | Elapsed Time: 0:01:34 ETA:   0:00:40\n",
      " 85% (2079 of 2444) |#################   | Elapsed Time: 0:01:34 ETA:   0:00:27\n"
     ]
    },
    {
     "name": "stdout",
     "output_type": "stream",
     "text": [
      "/CreativeWork_persian-music.org_September2020.json.gz\n",
      "/MusicRecording_fionacrowmusic.com_September2020.json.gz\n",
      "/MusicRecording_thegrandsouthern.com_September2020.json.gz\n",
      "/Product_thepokerdepot.com_September2020.json.gz\n",
      "/CreativeWork_soopahiro.com_September2020.json.gz\n",
      "/CreativeWork_seethroughmedia.co.uk_September2020.json.gz\n",
      "/MusicRecording_rozfirth.com_September2020.json.gz\n",
      "/CreativeWork_usbridge.com_September2020.json.gz\n",
      "/LocalBusiness_nwfamn.com_September2020.json.gz\n",
      "/Person_eriereader.com_September2020.json.gz\n",
      "/Recipe_myfoodstory.com_September2020.json.gz\n",
      "/Person_cvosoft.com_September2020.json.gz\n",
      "/MusicRecording_mattwalshmusic.net_September2020.json.gz\n",
      "/Product_scoutuav.com_September2020.json.gz\n",
      "/Product_tailwinds.com_September2020.json.gz\n"
     ]
    },
    {
     "name": "stderr",
     "output_type": "stream",
     "text": [
      " 85% (2084 of 2444) |#################   | Elapsed Time: 0:01:34 ETA:   0:00:24\n"
     ]
    },
    {
     "name": "stdout",
     "output_type": "stream",
     "text": [
      "/Product_flowers4jakarta.com_September2020.json.gz\n",
      "/Event_poolerunners.co.uk_September2020.json.gz\n",
      "/Person_hartzlerfuneralhome.com_September2020.json.gz\n",
      "/Event_ltl.org.uk_September2020.json.gz\n",
      "/Place_comedycafeberlin.com_September2020.json.gz\n",
      "/Product_redvape.com_September2020.json.gz\n",
      "/Product_inmatecarepackage.net_September2020.json.gz\n",
      "/Event_thecopperdragon.com.au_September2020.json.gz\n",
      "/Product_projectorscreen.com_September2020.json.gz\n"
     ]
    },
    {
     "name": "stderr",
     "output_type": "stream",
     "text": [
      " 85% (2091 of 2444) |#################   | Elapsed Time: 0:01:35 ETA:   0:00:22\n"
     ]
    },
    {
     "name": "stdout",
     "output_type": "stream",
     "text": [
      "/MusicRecording_saxdiva.com_September2020.json.gz\n",
      "/Event_discipleschurch.net_September2020.json.gz\n",
      "/Product_balladofthebirddog.com_September2020.json.gz\n",
      "/MusicAlbum_allmusic.com_September2020.json.gz\n"
     ]
    },
    {
     "name": "stderr",
     "output_type": "stream",
     "text": [
      " 85% (2095 of 2444) |#################   | Elapsed Time: 0:01:35 ETA:   0:00:25\n",
      " 85% (2097 of 2444) |#################   | Elapsed Time: 0:01:35 ETA:   0:00:25\n"
     ]
    },
    {
     "name": "stdout",
     "output_type": "stream",
     "text": [
      "/LocalBusiness_urbanlaunches.com_September2020.json.gz\n",
      "/Hotel_w-reservation.com_September2020.json.gz\n",
      "/Product_hummelman.com_September2020.json.gz\n",
      "/Restaurant_lubys.com_September2020.json.gz\n",
      "/Product_kiaparts.com_September2020.json.gz\n",
      "/MusicRecording_clarinetconspiracy.com_September2020.json.gz\n",
      "/MusicRecording_lawmusic-online.co.uk_September2020.json.gz\n",
      "/LocalBusiness_eatdrinkguides.co.uk_September2020.json.gz\n"
     ]
    },
    {
     "name": "stderr",
     "output_type": "stream",
     "text": [
      " 86% (2104 of 2444) |#################   | Elapsed Time: 0:01:36 ETA:   0:00:24\n",
      " 86% (2111 of 2444) |#################   | Elapsed Time: 0:01:36 ETA:   0:00:12\n"
     ]
    },
    {
     "name": "stdout",
     "output_type": "stream",
     "text": [
      "/Product_karmaganics.com_September2020.json.gz\n",
      "/CreativeWork_shinrishi-ishikawa.com_September2020.json.gz\n",
      "/Event_agentzip.com_September2020.json.gz\n",
      "/Product_valdegamers.com_September2020.json.gz\n",
      "/Event_downtownbismarck.com_September2020.json.gz\n",
      "/Person_uvmbored.com_September2020.json.gz\n",
      "/Product_ketabcity.com_September2020.json.gz\n",
      "/Product_hamptonironworks.com_September2020.json.gz\n",
      "/Product_shopdishstatesboro.com_September2020.json.gz\n"
     ]
    },
    {
     "name": "stderr",
     "output_type": "stream",
     "text": [
      " 86% (2113 of 2444) |#################   | Elapsed Time: 0:01:36 ETA:   0:00:12\n"
     ]
    },
    {
     "name": "stdout",
     "output_type": "stream",
     "text": [
      "/Product_sansoleil.com_September2020.json.gz\n",
      "/Product_worldoemparts.com_September2020.json.gz\n",
      "/Hotel_go-illinois.net_September2020.json.gz\n",
      "/MusicRecording_jimadkinsmusic.com_September2020.json.gz\n",
      "/Product_scaglionebimbi.com_September2020.json.gz\n",
      "/Person_youtheater.com_September2020.json.gz\n",
      "/CreativeWork_rboi.com_September2020.json.gz\n",
      "/Product_overlookboots.com_September2020.json.gz\n"
     ]
    },
    {
     "name": "stderr",
     "output_type": "stream",
     "text": [
      " 86% (2120 of 2444) |#################   | Elapsed Time: 0:01:36 ETA:   0:00:12\n",
      " 86% (2124 of 2444) |#################   | Elapsed Time: 0:01:36 ETA:   0:00:14\n"
     ]
    },
    {
     "name": "stdout",
     "output_type": "stream",
     "text": [
      "/Product_motoduro.co.uk_September2020.json.gz\n",
      "/Product_antlux.com_September2020.json.gz\n",
      "/Event_wvtourism.com_September2020.json.gz\n",
      "/Product_portcharlotteflorist.net_September2020.json.gz\n",
      "/Event_shepherdofthedesertelca.org_September2020.json.gz\n",
      "/MusicRecording_irritablehedgehog.com_September2020.json.gz\n",
      "/Product_tigaraego.com_September2020.json.gz\n",
      "/Product_welmode.com_September2020.json.gz\n"
     ]
    },
    {
     "name": "stderr",
     "output_type": "stream",
     "text": [
      " 87% (2129 of 2444) |#################   | Elapsed Time: 0:01:37 ETA:   0:00:16\n",
      " 87% (2135 of 2444) |#################   | Elapsed Time: 0:01:37 ETA:   0:00:15\n"
     ]
    },
    {
     "name": "stdout",
     "output_type": "stream",
     "text": [
      "/Product_venum.com_September2020.json.gz\n",
      "/Product_flowers4bradford.com_September2020.json.gz\n",
      "/Product_omegamotorshouston.com_September2020.json.gz\n",
      "/Product_acuraofmodesto.com_September2020.json.gz\n",
      "/Product_sternbergchevrolet.com_September2020.json.gz\n",
      "/Product_zizzz.co.uk_September2020.json.gz\n",
      "/Product_bulksupplements.com_September2020.json.gz\n",
      "/Product_sieuthiyte.com.vn_September2020.json.gz\n",
      "/Product_candlemart.com_September2020.json.gz\n",
      "/Event_deerose.net_September2020.json.gz\n",
      "/Product_vega-rumia.com.pl_September2020.json.gz\n",
      "/Product_compressornow.com_September2020.json.gz\n"
     ]
    },
    {
     "name": "stderr",
     "output_type": "stream",
     "text": [
      " 87% (2143 of 2444) |#################   | Elapsed Time: 0:01:37 ETA:   0:00:13\n"
     ]
    },
    {
     "name": "stdout",
     "output_type": "stream",
     "text": [
      "/Product_shaftesburytyres.co.uk_September2020.json.gz\n",
      "/Product_timeformecatalog.com_September2020.json.gz\n",
      "/MusicRecording_bonestodust.com_September2020.json.gz\n",
      "/Product_chirpbooks.com_September2020.json.gz\n"
     ]
    },
    {
     "name": "stderr",
     "output_type": "stream",
     "text": [
      " 87% (2144 of 2444) |#################   | Elapsed Time: 0:01:37 ETA:   0:00:12\n",
      " 87% (2147 of 2444) |#################   | Elapsed Time: 0:01:38 ETA:   0:00:13\n"
     ]
    },
    {
     "name": "stdout",
     "output_type": "stream",
     "text": [
      "/Place_mountbakerexperience.com_September2020.json.gz\n",
      "/MusicRecording_rodbestmusic.com_September2020.json.gz\n",
      "/LocalBusiness_dentonartmusicfood.com_September2020.json.gz\n",
      "/Product_cbdamericanshaman.com_September2020.json.gz\n",
      "/Product_cpwtruckstuff.com_September2020.json.gz\n"
     ]
    },
    {
     "name": "stderr",
     "output_type": "stream",
     "text": [
      " 88% (2155 of 2444) |#################   | Elapsed Time: 0:01:38 ETA:   0:00:13\n",
      " 88% (2159 of 2444) |#################   | Elapsed Time: 0:01:38 ETA:   0:00:12\n"
     ]
    },
    {
     "name": "stdout",
     "output_type": "stream",
     "text": [
      "/Product_gzekai.com_September2020.json.gz\n",
      "/Event_hhchamber.com_September2020.json.gz\n",
      "/CreativeWork_costadeigabbiani.com_September2020.json.gz\n",
      "/CreativeWork_checkupcenter.net_September2020.json.gz\n",
      "/Event_vineyardfellowship.org_September2020.json.gz\n",
      "/Person_virtualuffizi.com_September2020.json.gz\n",
      "/MusicRecording_wright-mark.com_September2020.json.gz\n",
      "/MusicRecording_theechampagneband.com_September2020.json.gz\n",
      "/Product_grandnordauto.com_September2020.json.gz\n",
      "/Person_johntumeltycriminaldefense.com_September2020.json.gz\n",
      "/Hotel_koshervillasorlando.com_September2020.json.gz\n",
      "/Event_thevillagesinsurance.com_September2020.json.gz\n"
     ]
    },
    {
     "name": "stderr",
     "output_type": "stream",
     "text": [
      " 88% (2165 of 2444) |#################   | Elapsed Time: 0:01:38 ETA:   0:00:11\n",
      " 88% (2166 of 2444) |#################   | Elapsed Time: 0:01:38 ETA:   0:00:11\n"
     ]
    },
    {
     "name": "stdout",
     "output_type": "stream",
     "text": [
      "/Hotel_princesayaiza.com_September2020.json.gz\n",
      "/Product_isleofskyetyres.co.uk_September2020.json.gz\n",
      "/CreativeWork_blackparrotsigns.com_September2020.json.gz\n",
      "/CreativeWork_leicesterbasketball.co.uk_September2020.json.gz\n",
      "/LocalBusiness_edugorilla.com_September2020.json.gz\n",
      "/CreativeWork_carrollwoodcenter.org_September2020.json.gz\n"
     ]
    },
    {
     "name": "stderr",
     "output_type": "stream",
     "text": [
      " 88% (2167 of 2444) |#################   | Elapsed Time: 0:01:39 ETA:   0:00:15\n",
      " 88% (2175 of 2444) |#################   | Elapsed Time: 0:01:39 ETA:   0:00:13\n"
     ]
    },
    {
     "name": "stdout",
     "output_type": "stream",
     "text": [
      "/Product_thebabycradle.com_September2020.json.gz\n",
      "/MusicRecording_jeffwilliamsmusix.com_September2020.json.gz\n",
      "/Product_whitsundaydivecentre.com.au_September2020.json.gz\n",
      "/Recipe_keepinglifesane.com_September2020.json.gz\n",
      "/MusicRecording_johnandreherrmann.com_September2020.json.gz\n",
      "/MusicRecording_cowboy-lone.com_September2020.json.gz\n",
      "/Product_dropee.com_September2020.json.gz\n",
      "/Product_circuitstransistors.com_September2020.json.gz\n",
      "/Recipe_countryrecipebook.com_September2020.json.gz\n",
      "/CreativeWork_wavahusada.com_September2020.json.gz\n"
     ]
    },
    {
     "name": "stderr",
     "output_type": "stream",
     "text": [
      " 89% (2182 of 2444) |#################   | Elapsed Time: 0:01:39 ETA:   0:00:13\n"
     ]
    },
    {
     "name": "stdout",
     "output_type": "stream",
     "text": [
      "/Product_wmtech.net_September2020.json.gz\n",
      "/Product_thebomberstore.com_September2020.json.gz\n",
      "/Event_marlboroughchamber.org_September2020.json.gz\n",
      "/MusicRecording_lawniewallace.com_September2020.json.gz\n",
      "/Product_kittelbergerflorist.com_September2020.json.gz\n",
      "/Place_eventcheckknox.com_September2020.json.gz\n",
      "/Product_swiatrowerow.com.pl_September2020.json.gz\n",
      "/Recipe_mysanfranciscokitchen.com_September2020.json.gz\n",
      "/Product_stairrunnerstore.com_September2020.json.gz\n",
      "/Event_kidpass.com_September2020.json.gz\n"
     ]
    },
    {
     "name": "stderr",
     "output_type": "stream",
     "text": [
      " 89% (2187 of 2444) |#################   | Elapsed Time: 0:01:39 ETA:   0:00:12\n",
      " 89% (2189 of 2444) |#################   | Elapsed Time: 0:01:39 ETA:   0:00:12\n"
     ]
    },
    {
     "name": "stdout",
     "output_type": "stream",
     "text": [
      "/Product_shopiranart.com_September2020.json.gz\n",
      "/Person_hdpornos.net_September2020.json.gz\n",
      "/Product_brenengenkia.com_September2020.json.gz\n",
      "/Event_greatbarringtonseniors.org_September2020.json.gz\n"
     ]
    },
    {
     "name": "stderr",
     "output_type": "stream",
     "text": [
      " 89% (2197 of 2444) |#################   | Elapsed Time: 0:01:39 ETA:   0:00:11\n",
      " 90% (2204 of 2444) |##################  | Elapsed Time: 0:01:39 ETA:   0:00:10\n"
     ]
    },
    {
     "name": "stdout",
     "output_type": "stream",
     "text": [
      "/Person_merahputih.com_September2020.json.gz\n",
      "/Product_electriciansnearme.net.au_September2020.json.gz\n",
      "/Place_midlothiansciencefestival.com_September2020.json.gz\n",
      "/MusicRecording_clockwisecanada.com_September2020.json.gz\n",
      "/Product_postoakmotors.com_September2020.json.gz\n",
      "/Product_oemgenuineparts.com_September2020.json.gz\n",
      "/Event_midamericaosha.org_September2020.json.gz\n",
      "/Product_cochine.co.uk_September2020.json.gz\n",
      "/MusicRecording_looomis.com_September2020.json.gz\n",
      "/Event_afsmountaineering.co.uk_September2020.json.gz\n",
      "/Product_sozcukitabevi.com_September2020.json.gz\n",
      "/Event_infrastructuremagazine.com.au_September2020.json.gz\n",
      "/Product_namyapress.com_September2020.json.gz\n",
      "/Product_241hotelcard.com_September2020.json.gz\n",
      "/MusicRecording_michaellewismusic.net_September2020.json.gz\n",
      "/Recipe_cheapfamilyrecipes.co.uk_September2020.json.gz\n",
      "/Event_nferias.com_September2020.json.gz\n"
     ]
    },
    {
     "name": "stderr",
     "output_type": "stream",
     "text": [
      " 90% (2208 of 2444) |##################  | Elapsed Time: 0:01:40 ETA:   0:00:08\n",
      " 90% (2216 of 2444) |##################  | Elapsed Time: 0:01:40 ETA:   0:00:07\n"
     ]
    },
    {
     "name": "stdout",
     "output_type": "stream",
     "text": [
      "/Event_janamariefoundation.org_September2020.json.gz\n",
      "/Event_delawarehospice.org_September2020.json.gz\n",
      "/MusicRecording_nickrocks.com_September2020.json.gz\n",
      "/CreativeWork_clevadesk.com_September2020.json.gz\n",
      "/CreativeWork_stagforhim.com_September2020.json.gz\n",
      "/Product_grayeppersonmazda.com_September2020.json.gz\n",
      "/Product_topwritingreviews.com_September2020.json.gz\n",
      "/MusicRecording_timbranom.com_September2020.json.gz\n",
      "/Person_visitbostonuk.com_September2020.json.gz\n",
      "/MusicRecording_joeheinemann.com_September2020.json.gz\n",
      "/Recipe_foodfolksandfun.net_September2020.json.gz\n",
      "/CreativeWork_ironwordpress.com_September2020.json.gz\n"
     ]
    },
    {
     "name": "stderr",
     "output_type": "stream",
     "text": [
      " 90% (2221 of 2444) |##################  | Elapsed Time: 0:01:40 ETA:   0:00:08\n"
     ]
    },
    {
     "name": "stdout",
     "output_type": "stream",
     "text": [
      "/Product_wallcover.com_September2020.json.gz\n",
      "/MusicRecording_patricknapper.com_September2020.json.gz\n",
      "/Product_ghostpepperstore.com_September2020.json.gz\n",
      "/Product_tresspa.com_September2020.json.gz\n",
      "/MusicRecording_danmenzone.com_September2020.json.gz\n",
      "/MusicAlbum_cdunsigned.com_September2020.json.gz\n",
      "/Product_24s.com_September2020.json.gz\n"
     ]
    },
    {
     "name": "stderr",
     "output_type": "stream",
     "text": [
      " 91% (2227 of 2444) |##################  | Elapsed Time: 0:01:40 ETA:   0:00:08\n",
      " 91% (2234 of 2444) |##################  | Elapsed Time: 0:01:41 ETA:   0:00:07\n"
     ]
    },
    {
     "name": "stdout",
     "output_type": "stream",
     "text": [
      "/Person_talialrodgers.com_September2020.json.gz\n",
      "/Product_desrs.com_September2020.json.gz\n",
      "/Product_thevintagephoenix.com_September2020.json.gz\n",
      "/Product_urbanmonkey.com_September2020.json.gz\n",
      "/Product_garrettssportinggoods.com_September2020.json.gz\n",
      "/CreativeWork_libertycreeknorth.com_September2020.json.gz\n",
      "/Product_hogdogvests.com_September2020.json.gz\n",
      "/LocalBusiness_modernmsg.com_September2020.json.gz\n"
     ]
    },
    {
     "name": "stderr",
     "output_type": "stream",
     "text": [
      " 91% (2236 of 2444) |##################  | Elapsed Time: 0:01:41 ETA:   0:00:06\n"
     ]
    },
    {
     "name": "stdout",
     "output_type": "stream",
     "text": [
      "/Product_shopnowtop.com_September2020.json.gz\n",
      "/Place_bloomingdales.com_September2020.json.gz\n",
      "/CreativeWork_larrygrenadier.com_September2020.json.gz\n",
      "/Book_libreriavirgo.com.mx_September2020.json.gz\n"
     ]
    },
    {
     "name": "stderr",
     "output_type": "stream",
     "text": [
      " 91% (2239 of 2444) |##################  | Elapsed Time: 0:01:44 ETA:   0:03:54\n",
      " 91% (2242 of 2444) |##################  | Elapsed Time: 0:01:44 ETA:   0:01:59\n"
     ]
    },
    {
     "name": "stdout",
     "output_type": "stream",
     "text": [
      "/Book_trishjohnsongolf.co.uk_September2020.json.gz\n",
      "/MusicRecording_ursularicks.net_September2020.json.gz\n",
      "/Product_desflora.com.au_September2020.json.gz\n",
      "/Recipe_msihua.com_September2020.json.gz\n",
      "/MusicRecording_markmathismusic.com_September2020.json.gz\n",
      "/Person_saberfoundations.com_September2020.json.gz\n",
      "/Event_berksnetworking.com_September2020.json.gz\n",
      "/Recipe_webindia123.com_September2020.json.gz\n"
     ]
    },
    {
     "name": "stderr",
     "output_type": "stream",
     "text": [
      " 91% (2247 of 2444) |##################  | Elapsed Time: 0:01:44 ETA:   0:01:05\n"
     ]
    },
    {
     "name": "stdout",
     "output_type": "stream",
     "text": [
      "/MusicRecording_blankysworld.com_September2020.json.gz\n",
      "/Product_vedance.com_September2020.json.gz\n",
      "/Product_redriverreloading.com_September2020.json.gz\n",
      "/Product_babys-mart.co.uk_September2020.json.gz\n"
     ]
    },
    {
     "name": "stderr",
     "output_type": "stream",
     "text": [
      " 92% (2251 of 2444) |##################  | Elapsed Time: 0:01:45 ETA:   0:00:50\n",
      " 92% (2252 of 2444) |##################  | Elapsed Time: 0:01:45 ETA:   0:00:48\n"
     ]
    },
    {
     "name": "stdout",
     "output_type": "stream",
     "text": [
      "/Recipe_sara-bell.com_September2020.json.gz\n",
      "/Product_99bookscart.com_September2020.json.gz\n"
     ]
    },
    {
     "name": "stderr",
     "output_type": "stream",
     "text": [
      " 92% (2253 of 2444) |##################  | Elapsed Time: 0:01:45 ETA:   0:00:46\n",
      " 92% (2258 of 2444) |##################  | Elapsed Time: 0:01:45 ETA:   0:00:36\n"
     ]
    },
    {
     "name": "stdout",
     "output_type": "stream",
     "text": [
      "/Product_modwalls.com_September2020.json.gz\n",
      "/Event_catalystcareergroup.com_September2020.json.gz\n",
      "/Product_viet-craft.com_September2020.json.gz\n",
      "/Hotel_accomodationinathens.com_September2020.json.gz\n",
      "/Product_cyberzoneonline.com_September2020.json.gz\n",
      "/MusicRecording_guitaretab.com_September2020.json.gz\n"
     ]
    },
    {
     "name": "stderr",
     "output_type": "stream",
     "text": [
      " 92% (2259 of 2444) |##################  | Elapsed Time: 0:01:45 ETA:   0:00:36\n"
     ]
    },
    {
     "name": "stdout",
     "output_type": "stream",
     "text": [
      "/Product_thehennaguys.com_September2020.json.gz\n",
      "/Product_tringastro.co.uk_September2020.json.gz\n",
      "/Product_premieradultfactoryoutlet.com_September2020.json.gz\n",
      "/LocalBusiness_lcca.com_September2020.json.gz\n",
      "/Product_sunsmilessandals.com_September2020.json.gz\n",
      "/Recipe_recetasgratis.net_September2020.json.gz\n"
     ]
    },
    {
     "name": "stderr",
     "output_type": "stream",
     "text": [
      " 92% (2265 of 2444) |##################  | Elapsed Time: 0:01:46 ETA:   0:00:20\n",
      " 92% (2266 of 2444) |##################  | Elapsed Time: 0:01:46 ETA:   0:00:20\n"
     ]
    },
    {
     "name": "stdout",
     "output_type": "stream",
     "text": [
      "/Product_thumzup.net_September2020.json.gz\n",
      "/Product_aaeglass.com_September2020.json.gz\n"
     ]
    },
    {
     "name": "stderr",
     "output_type": "stream",
     "text": [
      " 92% (2271 of 2444) |##################  | Elapsed Time: 0:01:47 ETA:   0:00:17\n"
     ]
    },
    {
     "name": "stdout",
     "output_type": "stream",
     "text": [
      "/Product_overboots.com.br_September2020.json.gz\n",
      "/Product_serenehouse.com_September2020.json.gz\n",
      "/MusicRecording_beltanaspellsinger.com_September2020.json.gz\n",
      "/Product_hancockfuneralhome.net_September2020.json.gz\n",
      "/CreativeWork_aspirefurniture.com.au_September2020.json.gz\n",
      "/Recipe_isabeleats.com_September2020.json.gz\n",
      "/MusicRecording_dixonbrothersmusic.com_September2020.json.gz\n",
      "/MusicRecording_elaudiman.com_September2020.json.gz\n",
      "/Product_ushio.com_September2020.json.gz\n"
     ]
    },
    {
     "name": "stderr",
     "output_type": "stream",
     "text": [
      " 93% (2276 of 2444) |##################  | Elapsed Time: 0:01:47 ETA:   0:00:14\n",
      " 93% (2281 of 2444) |##################  | Elapsed Time: 0:01:47 ETA:   0:00:12\n"
     ]
    },
    {
     "name": "stdout",
     "output_type": "stream",
     "text": [
      "/Product_mcubes.net_September2020.json.gz\n",
      "/Product_victorianauto.com_September2020.json.gz\n",
      "/Person_deitti.net_September2020.json.gz\n",
      "/Person_stambroseseymour.org_September2020.json.gz\n",
      "/Product_snapware.com_September2020.json.gz\n",
      "/Recipe_largefamilytable.com_September2020.json.gz\n",
      "/CreativeWork_squizo.com.br_September2020.json.gz\n",
      "/Product_numeralpaint.com_September2020.json.gz\n",
      "/Recipe_stylishcravings.com_September2020.json.gz\n",
      "/Event_downtownartsdistrict.com_September2020.json.gz\n",
      "/Product_bostonbakehouse.com.au_September2020.json.gz\n",
      "/CreativeWork_nexusallianceltd.com.ng_September2020.json.gz\n"
     ]
    },
    {
     "name": "stderr",
     "output_type": "stream",
     "text": [
      " 93% (2288 of 2444) |##################  | Elapsed Time: 0:01:47 ETA:   0:00:10\n"
     ]
    },
    {
     "name": "stdout",
     "output_type": "stream",
     "text": [
      "/Hotel_reservations.com_September2020.json.gz\n"
     ]
    },
    {
     "name": "stderr",
     "output_type": "stream",
     "text": [
      " 93% (2289 of 2444) |##################  | Elapsed Time: 0:01:49 ETA:   0:06:04\n",
      " 93% (2290 of 2444) |##################  | Elapsed Time: 0:01:49 ETA:   0:06:02\n"
     ]
    },
    {
     "name": "stdout",
     "output_type": "stream",
     "text": [
      "/MusicRecording_bryanfontez.com_September2020.json.gz\n",
      "/CreativeWork_epiccuisine.com_September2020.json.gz\n",
      "/Person_comfortfuneralhome.com_September2020.json.gz\n",
      "/CreativeWork_byaliceorganizasyon.com_September2020.json.gz\n",
      "/Product_homebase.co.uk_September2020.json.gz\n"
     ]
    },
    {
     "name": "stderr",
     "output_type": "stream",
     "text": [
      " 93% (2294 of 2444) |##################  | Elapsed Time: 0:01:51 ETA:   0:01:42\n"
     ]
    },
    {
     "name": "stdout",
     "output_type": "stream",
     "text": [
      "/CreativeWork_shortcircuitmedia.com_September2020.json.gz\n",
      "/Event_thirdeyecomics.com_September2020.json.gz\n",
      "/MusicRecording_mwgilbert.com_September2020.json.gz\n",
      "/Product_kova-promotional-products.co.uk_September2020.json.gz\n",
      "/Product_hallmark.com_September2020.json.gz\n"
     ]
    },
    {
     "name": "stderr",
     "output_type": "stream",
     "text": [
      " 94% (2299 of 2444) |##################  | Elapsed Time: 0:01:52 ETA:   0:00:33\n",
      " 94% (2303 of 2444) |##################  | Elapsed Time: 0:01:52 ETA:   0:00:24\n"
     ]
    },
    {
     "name": "stdout",
     "output_type": "stream",
     "text": [
      "/Product_greenway.com_September2020.json.gz\n",
      "/Event_schoolsdebate.com_September2020.json.gz\n",
      "/Product_obdprice.co.uk_September2020.json.gz\n",
      "/CreativeWork_dewabatch.com_September2020.json.gz\n",
      "/Product_babor.com_September2020.json.gz\n"
     ]
    },
    {
     "name": "stderr",
     "output_type": "stream",
     "text": [
      " 94% (2309 of 2444) |##################  | Elapsed Time: 0:01:52 ETA:   0:00:17\n"
     ]
    },
    {
     "name": "stdout",
     "output_type": "stream",
     "text": [
      "/CreativeWork_morganbrown.com_September2020.json.gz\n",
      "/Product_5dmovietheater.com_September2020.json.gz\n",
      "/LocalBusiness_mszconsultancy.com_September2020.json.gz\n",
      "/Event_headssurf.com.au_September2020.json.gz\n",
      "/Product_mendochocolateco.com_September2020.json.gz\n",
      "/Product_elrinconscrap.com_September2020.json.gz\n",
      "/Event_hifiindy.com_September2020.json.gz\n",
      "/LocalBusiness_5starweddingdirectory.com_September2020.json.gz\n",
      "/Product_holssen.com_September2020.json.gz\n",
      "/Product_betterelectricappliances.com_September2020.json.gz\n",
      "/LocalBusiness_smileypete.com_September2020.json.gz\n",
      "/Product_noblecompanyonlinestore.com_September2020.json.gz\n"
     ]
    },
    {
     "name": "stderr",
     "output_type": "stream",
     "text": [
      " 94% (2316 of 2444) |##################  | Elapsed Time: 0:01:52 ETA:   0:00:12\n",
      " 94% (2321 of 2444) |##################  | Elapsed Time: 0:01:52 ETA:   0:00:12\n",
      " 95% (2322 of 2444) |################### | Elapsed Time: 0:01:52 ETA:   0:00:10\n"
     ]
    },
    {
     "name": "stdout",
     "output_type": "stream",
     "text": [
      "/MusicRecording_2ugly2hold.com_September2020.json.gz\n",
      "/Product_nonstopfishingshaman.com_September2020.json.gz\n",
      "/CreativeWork_simply-enough.com_September2020.json.gz\n",
      "/Product_equipper.com_September2020.json.gz\n",
      "/MusicRecording_theandersonsband.com_September2020.json.gz\n",
      "/Product_wallersindustrialonline.com_September2020.json.gz\n",
      "/Event_jfsdallas.org_September2020.json.gz\n",
      "/Book_librairiehorloge.com_September2020.json.gz\n"
     ]
    },
    {
     "name": "stderr",
     "output_type": "stream",
     "text": [
      " 95% (2325 of 2444) |################### | Elapsed Time: 0:01:52 ETA:   0:00:09\n",
      " 95% (2328 of 2444) |################### | Elapsed Time: 0:01:52 ETA:   0:00:09\n"
     ]
    },
    {
     "name": "stdout",
     "output_type": "stream",
     "text": [
      "/Recipe_westviamidwest.com_September2020.json.gz\n",
      "/Product_gianedavicollezioni.com_September2020.json.gz\n",
      "/Product_lfhair.com.au_September2020.json.gz\n",
      "/Product_formula1.com_September2020.json.gz\n",
      "/MusicRecording_joematera.com_September2020.json.gz\n",
      "/CreativeWork_gohacktech.com_September2020.json.gz\n",
      "/LocalBusiness_sunburstshutters.com_September2020.json.gz\n",
      "/MusicRecording_raywinch.net_September2020.json.gz\n",
      "/Product_laurensilva.com_September2020.json.gz\n"
     ]
    },
    {
     "name": "stderr",
     "output_type": "stream",
     "text": [
      " 95% (2335 of 2444) |################### | Elapsed Time: 0:01:53 ETA:   0:00:07\n"
     ]
    },
    {
     "name": "stdout",
     "output_type": "stream",
     "text": [
      "/CreativeWork_gratitude-network.org_September2020.json.gz\n",
      "/Hotel_muchoviaje.com_September2020.json.gz\n",
      "/LocalBusiness_foxfield-inn.com_September2020.json.gz\n",
      "/CreativeWork_affi-iaff.org_September2020.json.gz\n"
     ]
    },
    {
     "name": "stderr",
     "output_type": "stream",
     "text": [
      " 95% (2343 of 2444) |################### | Elapsed Time: 0:01:53 ETA:   0:00:06\n",
      " 96% (2350 of 2444) |################### | Elapsed Time: 0:01:53 ETA:   0:00:05\n"
     ]
    },
    {
     "name": "stdout",
     "output_type": "stream",
     "text": [
      "/Recipe_timeforchangekitchen.com_September2020.json.gz\n",
      "/MusicRecording_thunderridgerecords.com_September2020.json.gz\n",
      "/Hotel_ytlhotels.com_September2020.json.gz\n",
      "/TVEpisode_dragonsubtitles.com_September2020.json.gz\n",
      "/LocalBusiness_cairnsfitness.org_September2020.json.gz\n",
      "/CreativeWork_fjoergyn.com_September2020.json.gz\n",
      "/MusicRecording_thelivingstonsmusic.com_September2020.json.gz\n",
      "/Event_icertis.com_September2020.json.gz\n",
      "/Product_eyewearpacking.com_September2020.json.gz\n",
      "/Recipe_ejuiceclones.com_September2020.json.gz\n",
      "/Place_wpresort.com_September2020.json.gz\n",
      "/LocalBusiness_meridiansenior.com_September2020.json.gz\n",
      "/Event_dbqfair.com_September2020.json.gz\n",
      "/Product_daynighthealthcare.com_September2020.json.gz\n",
      "/MusicRecording_jimodgren.com_September2020.json.gz\n",
      "/Event_gjincubator.org_September2020.json.gz\n",
      "/Product_hendricksubaruhoover.com_September2020.json.gz\n",
      "/Product_ghost-white-toner.com_September2020.json.gz\n",
      "/Product_allnewrock.com_September2020.json.gz\n"
     ]
    },
    {
     "name": "stderr",
     "output_type": "stream",
     "text": [
      " 96% (2356 of 2444) |################### | Elapsed Time: 0:01:53 ETA:   0:00:03\n",
      " 96% (2362 of 2444) |################### | Elapsed Time: 0:01:53 ETA:   0:00:02\n"
     ]
    },
    {
     "name": "stdout",
     "output_type": "stream",
     "text": [
      "/Product_hondaofcleveland.com_September2020.json.gz\n",
      "/MusicRecording_mamasblacksheep.com_September2020.json.gz\n",
      "/Product_liftinggearstore.co.uk_September2020.json.gz\n",
      "/MusicRecording_pureclassicalguitar.com_September2020.json.gz\n",
      "/Recipe_sweetopia.net_September2020.json.gz\n",
      "/Product_dopeneons.com_September2020.json.gz\n",
      "/CreativeWork_puritanboard.com_September2020.json.gz\n",
      "/Event_ecscience.org_September2020.json.gz\n",
      "/Book_comeurom.net_September2020.json.gz\n",
      "/Product_leatherfurnitureexpo.com_September2020.json.gz\n",
      "/Hotel_hotelscombined.com.sg_September2020.json.gz\n"
     ]
    },
    {
     "name": "stderr",
     "output_type": "stream",
     "text": [
      " 96% (2367 of 2444) |################### | Elapsed Time: 0:01:53 ETA:   0:00:02\n",
      " 96% (2370 of 2444) |################### | Elapsed Time: 0:01:54 ETA:   0:00:02\n"
     ]
    },
    {
     "name": "stdout",
     "output_type": "stream",
     "text": [
      "/LocalBusiness_infinitishops.com_September2020.json.gz\n",
      "/Person_thefencepost.com_September2020.json.gz\n",
      "/Product_northcountryfire.com_September2020.json.gz\n",
      "/Event_spokanevalleychamber.org_September2020.json.gz\n",
      "/Product_sunbeltpaper-packaging.com_September2020.json.gz\n",
      "/LocalBusiness_storageking.com.au_September2020.json.gz\n"
     ]
    },
    {
     "name": "stderr",
     "output_type": "stream",
     "text": [
      " 97% (2374 of 2444) |################### | Elapsed Time: 0:01:54 ETA:   0:00:02\n"
     ]
    },
    {
     "name": "stdout",
     "output_type": "stream",
     "text": [
      "/Product_lockesupply.com_September2020.json.gz\n",
      "/Product_meetharmony.com_September2020.json.gz\n",
      "/Event_charlestownwvkiwanis.org_September2020.json.gz\n",
      "/Person_artsper.com_September2020.json.gz\n"
     ]
    },
    {
     "name": "stderr",
     "output_type": "stream",
     "text": [
      " 97% (2377 of 2444) |################### | Elapsed Time: 0:01:54 ETA:   0:00:02\n",
      " 97% (2383 of 2444) |################### | Elapsed Time: 0:01:54 ETA:   0:00:02\n",
      " 97% (2389 of 2444) |################### | Elapsed Time: 0:01:55 ETA:   0:00:01\n"
     ]
    },
    {
     "name": "stdout",
     "output_type": "stream",
     "text": [
      "/MusicRecording_ronibenhur.com_September2020.json.gz\n",
      "/CreativeWork_montalvoasesores.com_September2020.json.gz\n",
      "/Place_thebigshoot.co.uk_September2020.json.gz\n",
      "/Product_connellfuneral.com_September2020.json.gz\n",
      "/Product_alquilaconwestindies.com_September2020.json.gz\n",
      "/MusicRecording_ronfomusicart.com_September2020.json.gz\n",
      "/Event_halleckvineyard.com_September2020.json.gz\n",
      "/CreativeWork_websiterouter.com_September2020.json.gz\n",
      "/Product_the-perfume-lounge.com_September2020.json.gz\n",
      "/CreativeWork_lolriot.com_September2020.json.gz\n",
      "/Product_vienthongbaongan.com_September2020.json.gz\n",
      "/Product_tekpanda.com_September2020.json.gz\n",
      "/Product_fetishzone.net_September2020.json.gz\n"
     ]
    },
    {
     "name": "stderr",
     "output_type": "stream",
     "text": [
      " 97% (2393 of 2444) |################### | Elapsed Time: 0:01:55 ETA:   0:00:01\n",
      " 98% (2397 of 2444) |################### | Elapsed Time: 0:01:55 ETA:   0:00:01\n"
     ]
    },
    {
     "name": "stdout",
     "output_type": "stream",
     "text": [
      "/Product_zivipf.com_September2020.json.gz\n",
      "/Product_amicanda.com_September2020.json.gz\n",
      "/MusicRecording_frankrehak.com_September2020.json.gz\n",
      "/Product_traxtrader.com_September2020.json.gz\n",
      "/Event_maryjoseph.org_September2020.json.gz\n",
      "/Product_justforfishing.com_September2020.json.gz\n",
      "/Product_adogslove.com_September2020.json.gz\n",
      "/Product_sarinacam.com_September2020.json.gz\n"
     ]
    },
    {
     "name": "stderr",
     "output_type": "stream",
     "text": [
      " 98% (2400 of 2444) |################### | Elapsed Time: 0:01:55 ETA:   0:00:01\n"
     ]
    },
    {
     "name": "stdout",
     "output_type": "stream",
     "text": [
      "/Product_browsandcompany.com_September2020.json.gz\n",
      "/Restaurant_202area.com_September2020.json.gz\n",
      "/Product_calikites.com_September2020.json.gz\n",
      "/Event_readingtogoplaces.org_September2020.json.gz\n",
      "/Product_kittsona.com_September2020.json.gz\n"
     ]
    },
    {
     "name": "stderr",
     "output_type": "stream",
     "text": [
      " 98% (2403 of 2444) |################### | Elapsed Time: 0:01:55 ETA:   0:00:01\n",
      " 98% (2405 of 2444) |################### | Elapsed Time: 0:01:55 ETA:   0:00:01\n"
     ]
    },
    {
     "name": "stdout",
     "output_type": "stream",
     "text": [
      "/Book_hachette-education.com_September2020.json.gz\n",
      "/Event_mccoc.org.au_September2020.json.gz\n",
      "/Event_krishnadas.com_September2020.json.gz\n",
      "/Product_graceandthorn.com_September2020.json.gz\n",
      "/MusicRecording_stevenfletchermusic.com_September2020.json.gz\n",
      "/Product_kipling-usa.com_September2020.json.gz\n"
     ]
    },
    {
     "name": "stderr",
     "output_type": "stream",
     "text": [
      " 98% (2409 of 2444) |################### | Elapsed Time: 0:01:55 ETA:   0:00:01\n",
      " 98% (2411 of 2444) |################### | Elapsed Time: 0:01:56 ETA:   0:00:01\n"
     ]
    },
    {
     "name": "stdout",
     "output_type": "stream",
     "text": [
      "/Person_sharesmagazine.co.uk_September2020.json.gz\n",
      "/Product_egyptian-symbols.com_September2020.json.gz\n",
      "/Product_megashop.com.pk_September2020.json.gz\n",
      "/Product_simplecellshop.com_September2020.json.gz\n"
     ]
    },
    {
     "name": "stderr",
     "output_type": "stream",
     "text": [
      " 98% (2413 of 2444) |################### | Elapsed Time: 0:01:56 ETA:   0:00:01\n",
      " 98% (2414 of 2444) |################### | Elapsed Time: 0:01:56 ETA:   0:00:01\n"
     ]
    },
    {
     "name": "stdout",
     "output_type": "stream",
     "text": [
      "/Person_ukrainebrides.net_September2020.json.gz\n",
      "/Recipe_mykoreankitchen.com_September2020.json.gz\n",
      "/MusicRecording_johndowlingbanjo.com_September2020.json.gz\n",
      "/Event_bcwood.com_September2020.json.gz\n",
      "/Recipe_tashasartisanfoods.com_September2020.json.gz\n",
      "/Product_neogen.com_September2020.json.gz\n"
     ]
    },
    {
     "name": "stderr",
     "output_type": "stream",
     "text": [
      " 98% (2419 of 2444) |################### | Elapsed Time: 0:01:56 ETA:   0:00:01\n",
      " 99% (2420 of 2444) |################### | Elapsed Time: 0:01:56 ETA:   0:00:01\n"
     ]
    },
    {
     "name": "stdout",
     "output_type": "stream",
     "text": [
      "/Product_watercraftsuperstore.net_September2020.json.gz\n",
      "/LocalBusiness_nccabuildingpros.com_September2020.json.gz\n",
      "/Product_currentbody.com_September2020.json.gz\n"
     ]
    },
    {
     "name": "stderr",
     "output_type": "stream",
     "text": [
      " 99% (2422 of 2444) |################### | Elapsed Time: 0:01:56 ETA:   0:00:01\n",
      " 99% (2426 of 2444) |################### | Elapsed Time: 0:01:56 ETA:   0:00:00\n"
     ]
    },
    {
     "name": "stdout",
     "output_type": "stream",
     "text": [
      "/CreativeWork_oceanedge.net_September2020.json.gz\n",
      "/Product_1001pieces.com_September2020.json.gz\n",
      "/Product_cyclinghack.com_September2020.json.gz\n",
      "/MusicRecording_longtimegoneband.com_September2020.json.gz\n",
      "/Product_exclusivesexshop.com_September2020.json.gz\n",
      "/Product_evans.co.uk_September2020.json.gz\n"
     ]
    },
    {
     "name": "stderr",
     "output_type": "stream",
     "text": [
      " 99% (2428 of 2444) |################### | Elapsed Time: 0:01:57 ETA:   0:00:00\n",
      " 99% (2432 of 2444) |################### | Elapsed Time: 0:01:57 ETA:   0:00:00\n"
     ]
    },
    {
     "name": "stdout",
     "output_type": "stream",
     "text": [
      "/MusicRecording_lazyscorsese.com_September2020.json.gz\n",
      "/Event_nationwideministry.com_September2020.json.gz\n",
      "/MusicRecording_dougyflyswatter.com_September2020.json.gz\n",
      "/Product_davidwebb.com_September2020.json.gz\n",
      "/Product_destinationautosllc.com_September2020.json.gz\n",
      "/Product_gamesplanet.com_September2020.json.gz\n"
     ]
    },
    {
     "name": "stderr",
     "output_type": "stream",
     "text": [
      " 99% (2435 of 2444) |################### | Elapsed Time: 0:01:57 ETA:   0:00:00\n",
      " 99% (2440 of 2444) |################### | Elapsed Time: 0:01:57 ETA:   0:00:00\n"
     ]
    },
    {
     "name": "stdout",
     "output_type": "stream",
     "text": [
      "/Product_weigelfuneralhome.com_September2020.json.gz\n",
      "/Product_maybeloan.com_September2020.json.gz\n",
      "/MusicRecording_timothyrhyme.com_September2020.json.gz\n",
      "/Event_rforh.com_September2020.json.gz\n",
      "/Product_personalprojector.co.uk_September2020.json.gz\n",
      "/LocalBusiness_mytownishere.com_September2020.json.gz\n",
      "/Recipe_finishedwithsalt.com_September2020.json.gz\n",
      "/LocalBusiness_snohomishyellowpages.com_September2020.json.gz\n"
     ]
    },
    {
     "name": "stderr",
     "output_type": "stream",
     "text": [
      " 99% (2443 of 2444) |################### | Elapsed Time: 0:01:57 ETA:   0:00:00\n"
     ]
    },
    {
     "name": "stdout",
     "output_type": "stream",
     "text": [
      "/Product_dyerchevy.com_September2020.json.gz\n",
      "/Book_cogito-shop.com_September2020.json.gz\n"
     ]
    },
    {
     "name": "stderr",
     "output_type": "stream",
     "text": [
      "100% (2444 of 2444) |####################| Elapsed Time: 0:01:58 ETA:  00:00:00\n",
      "100% (2444 of 2444) |####################| Elapsed Time: 0:01:58 Time:  0:01:58\n"
     ]
    }
   ],
   "source": [
    "#get all tables in Small/Train, append into a repective series and get an entire list of all small training representations\n",
    "count = 0\n",
    "j = 0\n",
    "train_representation=[] #representation of whole training set\n",
    "with progressbar.ProgressBar(max_value=len(small_files_train)) as bar:\n",
    "    inputdir = '../../../src/data/schemafiltereddata/TrainTestTables/Small/Train/'\n",
    "    files = [file for file in os.listdir(inputdir) if file.endswith('.json.gz')]  \n",
    "    for file in files:\n",
    "    #for file in small_files_train:\n",
    "        print('/{}'.format(file))\n",
    "        df = pd.read_json(os.path.join(inputdir, '{}'.format(file)), compression='gzip', lines=True)\n",
    "        #if('description' in df.columns)== False: # check if description column given\n",
    "        #    df['description'] = ''\n",
    "        #if ('name' in df.columns)== False: # check if description column given\n",
    "        #    df['name'] = x = df.page_url.apply(lambda x: x.split(\"/\")[4])\n",
    "        #df['header']=''#empty string for headers\n",
    "        table_representation = [] #empty list for table\n",
    "        table_representation.append(file)#append filename table id\n",
    "        table_representation.append('')#append page title -> not relevant\n",
    "        table_representation.append('')#append wikipedia page id -> not given\n",
    "        table_representation.append('')#append information about entity --> TO DO !!\n",
    "        table_representation.append('')#append table caption -> not given\n",
    "        table_representation.append(list(df.columns)) #append headers\n",
    "        cells_representation = []#representation of all rows\n",
    "        for i in range(len(df)):\n",
    "            cell_representation=[] # cell representation of single row\n",
    "            for col in df.columns: #get column content for each column\n",
    "                cell_representation.append([[int(j),int(i)],[df['row_id'][i],str(df[col][i])]])\n",
    "                j += 1\n",
    "            cells_representation.append(cell_representation) #append single cell representation to representation of all rows\n",
    "        table_representation.append(cells_representation)#append it to representation of whole table\n",
    "        col_types = [] # create empty list for col types\n",
    "        category , file = file.split('_', 1) #get category for file\n",
    "        for element in list(df.columns): #iterate over headers in tables\n",
    "            col_types = [category + '.' + element for element in list(df.columns)] #append category to header for col type annotation\n",
    "        table_representation.append(col_types) #append col type annotation \n",
    "        train_representation.append(table_representation)\n",
    "        count += 1\n",
    "        bar.update(count)"
   ]
  },
  {
   "cell_type": "code",
   "execution_count": 5,
   "metadata": {},
   "outputs": [],
   "source": [
    "train_representation"
   ]
  },
  {
   "cell_type": "code",
   "execution_count": null,
   "metadata": {},
   "outputs": [
    {
     "data": {
      "text/html": [
       "<div>\n",
       "<style scoped>\n",
       "    .dataframe tbody tr th:only-of-type {\n",
       "        vertical-align: middle;\n",
       "    }\n",
       "\n",
       "    .dataframe tbody tr th {\n",
       "        vertical-align: top;\n",
       "    }\n",
       "\n",
       "    .dataframe thead th {\n",
       "        text-align: right;\n",
       "    }\n",
       "</style>\n",
       "<table border=\"1\" class=\"dataframe\">\n",
       "  <thead>\n",
       "    <tr style=\"text-align: right;\">\n",
       "      <th></th>\n",
       "      <th>_id</th>\n",
       "      <th>pgTitle</th>\n",
       "      <th>sectionTitle</th>\n",
       "      <th>tableCaption</th>\n",
       "      <th>pgId</th>\n",
       "      <th>tableId</th>\n",
       "      <th>tableData</th>\n",
       "      <th>tableHeaders</th>\n",
       "      <th>processed_tableHeaders</th>\n",
       "      <th>merged_row</th>\n",
       "      <th>entityCell</th>\n",
       "      <th>entityColumn</th>\n",
       "      <th>column_type</th>\n",
       "      <th>unique</th>\n",
       "      <th>entity_count</th>\n",
       "      <th>subject_column</th>\n",
       "    </tr>\n",
       "  </thead>\n",
       "  <tbody>\n",
       "    <tr>\n",
       "      <th>0</th>\n",
       "      <td>27295818-29</td>\n",
       "      <td>2010–11 Rangers F.C. season</td>\n",
       "      <td>Overall</td>\n",
       "      <td></td>\n",
       "      <td>27295818</td>\n",
       "      <td>29</td>\n",
       "      <td>[[{'text': 'Scottish Premier League', 'surface...</td>\n",
       "      <td>[[Competition, Started round, Current position...</td>\n",
       "      <td>[competition, started round, current position ...</td>\n",
       "      <td>[]</td>\n",
       "      <td>[[1, 0, 0, 0, 0, 0], [1, 1, 0, 1, 0, 0], [1, 1...</td>\n",
       "      <td>[0, 1, 3]</td>\n",
       "      <td>[0, 0, 4, 0, 4, 4]</td>\n",
       "      <td>[1.0, 1.0, 0, 1.0, 0, 0]</td>\n",
       "      <td>13</td>\n",
       "      <td>0</td>\n",
       "    </tr>\n",
       "    <tr>\n",
       "      <th>1</th>\n",
       "      <td>27298128-1</td>\n",
       "      <td>Kagawa At-large district (House of Councillors)</td>\n",
       "      <td>Elected Councillors</td>\n",
       "      <td></td>\n",
       "      <td>27298128</td>\n",
       "      <td>1</td>\n",
       "      <td>[[{'text': 'Hajime Miyoshi ( Co-op )', 'surfac...</td>\n",
       "      <td>[[class of 1947, election year, class of 1950]...</td>\n",
       "      <td>[class of 1947 #1 (1947: #1, 6-year term), ele...</td>\n",
       "      <td>[]</td>\n",
       "      <td>[[0, 1, 1], [0, 1, 1], [0, 1, 1], [0, 1, 1], [...</td>\n",
       "      <td>[0, 1, 2]</td>\n",
       "      <td>[0, 0, 0]</td>\n",
       "      <td>[0.2, 1.0, 0.208333333333333]</td>\n",
       "      <td>66</td>\n",
       "      <td>1</td>\n",
       "    </tr>\n",
       "    <tr>\n",
       "      <th>2</th>\n",
       "      <td>27298635-1</td>\n",
       "      <td>List of museums in Northumberland</td>\n",
       "      <td></td>\n",
       "      <td>See also</td>\n",
       "      <td>27298635</td>\n",
       "      <td>1</td>\n",
       "      <td>[[{'text': 'Alnwick Castle', 'surfaceLinks': [...</td>\n",
       "      <td>[[Name, Image, Town/City, Type, Summary]]</td>\n",
       "      <td>[name, image, town/city, type, summary]</td>\n",
       "      <td>[]</td>\n",
       "      <td>[[1, 0, 1, 0, 1], [0, 0, 1, 0, 1], [1, 0, 1, 0...</td>\n",
       "      <td>[0, 2, 4]</td>\n",
       "      <td>[0, 2, 0, 4, 0]</td>\n",
       "      <td>[1.0, 0, 0.6578947368421051, 0, 0.580645161290...</td>\n",
       "      <td>97</td>\n",
       "      <td>0</td>\n",
       "    </tr>\n",
       "    <tr>\n",
       "      <th>3</th>\n",
       "      <td>27308318-1</td>\n",
       "      <td>List of museums in North Yorkshire</td>\n",
       "      <td></td>\n",
       "      <td>Defunct museums</td>\n",
       "      <td>27308318</td>\n",
       "      <td>1</td>\n",
       "      <td>[[{'text': 'Aldborough Roman Site', 'surfaceLi...</td>\n",
       "      <td>[[Name, Image, Town/City, Region, Type, Summary]]</td>\n",
       "      <td>[name, image, town/city, region, type, summary]</td>\n",
       "      <td>[]</td>\n",
       "      <td>[[1, 0, 1, 1, 0, 1], [1, 0, 1, 1, 0, 1], [1, 0...</td>\n",
       "      <td>[0, 2, 3, 5]</td>\n",
       "      <td>[0, 2, 0, 0, 4, 0]</td>\n",
       "      <td>[1.0, 0, 0.5783132530120481, 0.132530120481927...</td>\n",
       "      <td>276</td>\n",
       "      <td>0</td>\n",
       "    </tr>\n",
       "    <tr>\n",
       "      <th>4</th>\n",
       "      <td>6675886-1</td>\n",
       "      <td>Indy Japan 300</td>\n",
       "      <td>Past winners</td>\n",
       "      <td>USAC Championship Car history (Non-championsh...</td>\n",
       "      <td>6675886</td>\n",
       "      <td>1</td>\n",
       "      <td>[[{'text': '1966', 'surfaceLinks': []}, {'text...</td>\n",
       "      <td>[[Season, Date, Driver, Team, Chassis, Engine,...</td>\n",
       "      <td>[season season, date date, driver driver, team...</td>\n",
       "      <td>[1, 7]</td>\n",
       "      <td>[[0, 0, 1, 1, 1, 1, 0, 0, 0, 0, 0], [0, 0, 0, ...</td>\n",
       "      <td>[0, 2, 3, 4, 5, 10]</td>\n",
       "      <td>[0, 4, 0, 0, 0, 0, 2, 4, 4, 4, 0]</td>\n",
       "      <td>[1.0, 0, 0.7333333333333331, 0.5, 0.2, 0.2, 0,...</td>\n",
       "      <td>82</td>\n",
       "      <td>0</td>\n",
       "    </tr>\n",
       "    <tr>\n",
       "      <th>...</th>\n",
       "      <td>...</td>\n",
       "      <td>...</td>\n",
       "      <td>...</td>\n",
       "      <td>...</td>\n",
       "      <td>...</td>\n",
       "      <td>...</td>\n",
       "      <td>...</td>\n",
       "      <td>...</td>\n",
       "      <td>...</td>\n",
       "      <td>...</td>\n",
       "      <td>...</td>\n",
       "      <td>...</td>\n",
       "      <td>...</td>\n",
       "      <td>...</td>\n",
       "      <td>...</td>\n",
       "      <td>...</td>\n",
       "    </tr>\n",
       "    <tr>\n",
       "      <th>4959</th>\n",
       "      <td>8086435-1</td>\n",
       "      <td>112 discography</td>\n",
       "      <td>Studio albums</td>\n",
       "      <td>List of studio albums, with selected chart pos...</td>\n",
       "      <td>8086435</td>\n",
       "      <td>1</td>\n",
       "      <td>[[{'text': '112', 'surfaceLinks': [{'surface':...</td>\n",
       "      <td>[[Title, Album details, Peak chart positions, ...</td>\n",
       "      <td>[title title, album details album details, pea...</td>\n",
       "      <td>[5]</td>\n",
       "      <td>[[1, 1, 0, 0, 0, 0, 0, 0, 0, 0, 1], [1, 0, 0, ...</td>\n",
       "      <td>[0, 1, 10]</td>\n",
       "      <td>[0, 0, 2, 2, 4, 4, 4, 4, 4, 4, 0]</td>\n",
       "      <td>[1.0, 1.0, 0, 0, 0, 0, 0, 0, 0, 0, 1.0]</td>\n",
       "      <td>9</td>\n",
       "      <td>0</td>\n",
       "    </tr>\n",
       "    <tr>\n",
       "      <th>4960</th>\n",
       "      <td>808980-1</td>\n",
       "      <td>List of rulers of Austria</td>\n",
       "      <td>House of Babenberg</td>\n",
       "      <td></td>\n",
       "      <td>808980</td>\n",
       "      <td>1</td>\n",
       "      <td>[[{'text': 'Leopold I the Illustrious (Luitpol...</td>\n",
       "      <td>[[Name, Portrait, Birth, Marriages, Death]]</td>\n",
       "      <td>[name, portrait, birth, marriages, death]</td>\n",
       "      <td>[]</td>\n",
       "      <td>[[1, 0, 0, 1, 1], [1, 0, 1, 0, 0], [1, 0, 1, 0...</td>\n",
       "      <td>[0, 2, 3, 4]</td>\n",
       "      <td>[0, 2, 0, 0, 0]</td>\n",
       "      <td>[1.0, 0, 0.7142857142857141, 1.0, 1.0]</td>\n",
       "      <td>24</td>\n",
       "      <td>0</td>\n",
       "    </tr>\n",
       "    <tr>\n",
       "      <th>4961</th>\n",
       "      <td>808980-2</td>\n",
       "      <td>List of rulers of Austria</td>\n",
       "      <td>House of Babenberg</td>\n",
       "      <td></td>\n",
       "      <td>808980</td>\n",
       "      <td>2</td>\n",
       "      <td>[[{'text': 'Henry II Jasomirgott (Heinrich Jas...</td>\n",
       "      <td>[[Name, Portrait, Birth, Marriages, Death]]</td>\n",
       "      <td>[name, portrait, birth, marriages, death]</td>\n",
       "      <td>[]</td>\n",
       "      <td>[[1, 0, 1, 1, 0], [1, 0, 1, 1, 1], [1, 0, 1, 0...</td>\n",
       "      <td>[0, 2, 3, 4]</td>\n",
       "      <td>[0, 2, 0, 0, 0]</td>\n",
       "      <td>[1.0, 0, 0.8, 1.0, 1.0]</td>\n",
       "      <td>18</td>\n",
       "      <td>0</td>\n",
       "    </tr>\n",
       "    <tr>\n",
       "      <th>4962</th>\n",
       "      <td>809525-4</td>\n",
       "      <td>NBA Conference Finals</td>\n",
       "      <td>Division Finals</td>\n",
       "      <td></td>\n",
       "      <td>809525</td>\n",
       "      <td>4</td>\n",
       "      <td>[[{'text': '1949', 'surfaceLinks': [{'surface'...</td>\n",
       "      <td>[[Year, Champion, Runner-up, Result]]</td>\n",
       "      <td>[year, champion, runner-up, result]</td>\n",
       "      <td>[]</td>\n",
       "      <td>[[1, 1, 1, 0], [1, 1, 1, 0], [1, 1, 1, 0], [1,...</td>\n",
       "      <td>[0, 1, 2]</td>\n",
       "      <td>[0, 0, 0, 4]</td>\n",
       "      <td>[1.0, 0.27272727272727204, 0.318181818181818, 0]</td>\n",
       "      <td>66</td>\n",
       "      <td>0</td>\n",
       "    </tr>\n",
       "    <tr>\n",
       "      <th>4963</th>\n",
       "      <td>8097449-11</td>\n",
       "      <td>Countries playing Australian rules football</td>\n",
       "      <td>Oceania</td>\n",
       "      <td></td>\n",
       "      <td>8097449</td>\n",
       "      <td>11</td>\n",
       "      <td>[[{'text': 'Australia', 'surfaceLinks': []}, {...</td>\n",
       "      <td>[[Country, Overview, National team, Major team...</td>\n",
       "      <td>[country, overview, national team, major teams...</td>\n",
       "      <td>[]</td>\n",
       "      <td>[[0, 1, 1, 1, 1, 1, 1, 0], [1, 1, 1, 0, 0, 0, ...</td>\n",
       "      <td>[0, 1, 2, 3, 4, 5, 6, 7]</td>\n",
       "      <td>[0, 0, 0, 0, 0, 0, 0, 0]</td>\n",
       "      <td>[1.0, 1.0, 1.0, 1.0, 1.0, 1.0, 1.0, 0.5]</td>\n",
       "      <td>29</td>\n",
       "      <td>0</td>\n",
       "    </tr>\n",
       "  </tbody>\n",
       "</table>\n",
       "<p>4964 rows × 16 columns</p>\n",
       "</div>"
      ],
      "text/plain": [
       "              _id                                          pgTitle  \\\n",
       "0     27295818-29                      2010–11 Rangers F.C. season   \n",
       "1      27298128-1  Kagawa At-large district (House of Councillors)   \n",
       "2      27298635-1                List of museums in Northumberland   \n",
       "3      27308318-1               List of museums in North Yorkshire   \n",
       "4       6675886-1                                   Indy Japan 300   \n",
       "...           ...                                              ...   \n",
       "4959    8086435-1                                  112 discography   \n",
       "4960     808980-1                        List of rulers of Austria   \n",
       "4961     808980-2                        List of rulers of Austria   \n",
       "4962     809525-4                            NBA Conference Finals   \n",
       "4963   8097449-11      Countries playing Australian rules football   \n",
       "\n",
       "             sectionTitle                                       tableCaption  \\\n",
       "0                 Overall                                                      \n",
       "1     Elected Councillors                                                      \n",
       "2                                                                   See also   \n",
       "3                                                            Defunct museums   \n",
       "4            Past winners   USAC Championship Car history (Non-championsh...   \n",
       "...                   ...                                                ...   \n",
       "4959        Studio albums  List of studio albums, with selected chart pos...   \n",
       "4960   House of Babenberg                                                      \n",
       "4961   House of Babenberg                                                      \n",
       "4962      Division Finals                                                      \n",
       "4963              Oceania                                                      \n",
       "\n",
       "          pgId  tableId                                          tableData  \\\n",
       "0     27295818       29  [[{'text': 'Scottish Premier League', 'surface...   \n",
       "1     27298128        1  [[{'text': 'Hajime Miyoshi ( Co-op )', 'surfac...   \n",
       "2     27298635        1  [[{'text': 'Alnwick Castle', 'surfaceLinks': [...   \n",
       "3     27308318        1  [[{'text': 'Aldborough Roman Site', 'surfaceLi...   \n",
       "4      6675886        1  [[{'text': '1966', 'surfaceLinks': []}, {'text...   \n",
       "...        ...      ...                                                ...   \n",
       "4959   8086435        1  [[{'text': '112', 'surfaceLinks': [{'surface':...   \n",
       "4960    808980        1  [[{'text': 'Leopold I the Illustrious (Luitpol...   \n",
       "4961    808980        2  [[{'text': 'Henry II Jasomirgott (Heinrich Jas...   \n",
       "4962    809525        4  [[{'text': '1949', 'surfaceLinks': [{'surface'...   \n",
       "4963   8097449       11  [[{'text': 'Australia', 'surfaceLinks': []}, {...   \n",
       "\n",
       "                                           tableHeaders  \\\n",
       "0     [[Competition, Started round, Current position...   \n",
       "1     [[class of 1947, election year, class of 1950]...   \n",
       "2             [[Name, Image, Town/City, Type, Summary]]   \n",
       "3     [[Name, Image, Town/City, Region, Type, Summary]]   \n",
       "4     [[Season, Date, Driver, Team, Chassis, Engine,...   \n",
       "...                                                 ...   \n",
       "4959  [[Title, Album details, Peak chart positions, ...   \n",
       "4960        [[Name, Portrait, Birth, Marriages, Death]]   \n",
       "4961        [[Name, Portrait, Birth, Marriages, Death]]   \n",
       "4962              [[Year, Champion, Runner-up, Result]]   \n",
       "4963  [[Country, Overview, National team, Major team...   \n",
       "\n",
       "                                 processed_tableHeaders merged_row  \\\n",
       "0     [competition, started round, current position ...         []   \n",
       "1     [class of 1947 #1 (1947: #1, 6-year term), ele...         []   \n",
       "2               [name, image, town/city, type, summary]         []   \n",
       "3       [name, image, town/city, region, type, summary]         []   \n",
       "4     [season season, date date, driver driver, team...     [1, 7]   \n",
       "...                                                 ...        ...   \n",
       "4959  [title title, album details album details, pea...        [5]   \n",
       "4960          [name, portrait, birth, marriages, death]         []   \n",
       "4961          [name, portrait, birth, marriages, death]         []   \n",
       "4962                [year, champion, runner-up, result]         []   \n",
       "4963  [country, overview, national team, major teams...         []   \n",
       "\n",
       "                                             entityCell  \\\n",
       "0     [[1, 0, 0, 0, 0, 0], [1, 1, 0, 1, 0, 0], [1, 1...   \n",
       "1     [[0, 1, 1], [0, 1, 1], [0, 1, 1], [0, 1, 1], [...   \n",
       "2     [[1, 0, 1, 0, 1], [0, 0, 1, 0, 1], [1, 0, 1, 0...   \n",
       "3     [[1, 0, 1, 1, 0, 1], [1, 0, 1, 1, 0, 1], [1, 0...   \n",
       "4     [[0, 0, 1, 1, 1, 1, 0, 0, 0, 0, 0], [0, 0, 0, ...   \n",
       "...                                                 ...   \n",
       "4959  [[1, 1, 0, 0, 0, 0, 0, 0, 0, 0, 1], [1, 0, 0, ...   \n",
       "4960  [[1, 0, 0, 1, 1], [1, 0, 1, 0, 0], [1, 0, 1, 0...   \n",
       "4961  [[1, 0, 1, 1, 0], [1, 0, 1, 1, 1], [1, 0, 1, 0...   \n",
       "4962  [[1, 1, 1, 0], [1, 1, 1, 0], [1, 1, 1, 0], [1,...   \n",
       "4963  [[0, 1, 1, 1, 1, 1, 1, 0], [1, 1, 1, 0, 0, 0, ...   \n",
       "\n",
       "                  entityColumn                        column_type  \\\n",
       "0                    [0, 1, 3]                 [0, 0, 4, 0, 4, 4]   \n",
       "1                    [0, 1, 2]                          [0, 0, 0]   \n",
       "2                    [0, 2, 4]                    [0, 2, 0, 4, 0]   \n",
       "3                 [0, 2, 3, 5]                 [0, 2, 0, 0, 4, 0]   \n",
       "4          [0, 2, 3, 4, 5, 10]  [0, 4, 0, 0, 0, 0, 2, 4, 4, 4, 0]   \n",
       "...                        ...                                ...   \n",
       "4959                [0, 1, 10]  [0, 0, 2, 2, 4, 4, 4, 4, 4, 4, 0]   \n",
       "4960              [0, 2, 3, 4]                    [0, 2, 0, 0, 0]   \n",
       "4961              [0, 2, 3, 4]                    [0, 2, 0, 0, 0]   \n",
       "4962                 [0, 1, 2]                       [0, 0, 0, 4]   \n",
       "4963  [0, 1, 2, 3, 4, 5, 6, 7]           [0, 0, 0, 0, 0, 0, 0, 0]   \n",
       "\n",
       "                                                 unique  entity_count  \\\n",
       "0                              [1.0, 1.0, 0, 1.0, 0, 0]            13   \n",
       "1                         [0.2, 1.0, 0.208333333333333]            66   \n",
       "2     [1.0, 0, 0.6578947368421051, 0, 0.580645161290...            97   \n",
       "3     [1.0, 0, 0.5783132530120481, 0.132530120481927...           276   \n",
       "4     [1.0, 0, 0.7333333333333331, 0.5, 0.2, 0.2, 0,...            82   \n",
       "...                                                 ...           ...   \n",
       "4959            [1.0, 1.0, 0, 0, 0, 0, 0, 0, 0, 0, 1.0]             9   \n",
       "4960             [1.0, 0, 0.7142857142857141, 1.0, 1.0]            24   \n",
       "4961                            [1.0, 0, 0.8, 1.0, 1.0]            18   \n",
       "4962   [1.0, 0.27272727272727204, 0.318181818181818, 0]            66   \n",
       "4963           [1.0, 1.0, 1.0, 1.0, 1.0, 1.0, 1.0, 0.5]            29   \n",
       "\n",
       "      subject_column  \n",
       "0                  0  \n",
       "1                  1  \n",
       "2                  0  \n",
       "3                  0  \n",
       "4                  0  \n",
       "...              ...  \n",
       "4959               0  \n",
       "4960               0  \n",
       "4961               0  \n",
       "4962               0  \n",
       "4963               0  \n",
       "\n",
       "[4964 rows x 16 columns]"
      ]
     },
     "execution_count": 7,
     "metadata": {},
     "output_type": "execute_result"
    }
   ],
   "source": [
    "wiki_col_type_df"
   ]
  },
  {
   "cell_type": "code",
   "execution_count": null,
   "metadata": {},
   "outputs": [],
   "source": []
  }
 ],
 "metadata": {
  "interpreter": {
   "hash": "31f2aee4e71d21fbe5cf8b01ff0e069b9275f58929596ceb00d14d90e3e16cd6"
  },
  "kernelspec": {
   "display_name": "Python 3 (ipykernel)",
   "language": "python",
   "name": "python3"
  },
  "language_info": {
   "codemirror_mode": {
    "name": "ipython",
    "version": 3
   },
   "file_extension": ".py",
   "mimetype": "text/x-python",
   "name": "python",
   "nbconvert_exporter": "python",
   "pygments_lexer": "ipython3",
   "version": "3.9.2"
  }
 },
 "nbformat": 4,
 "nbformat_minor": 2
}
