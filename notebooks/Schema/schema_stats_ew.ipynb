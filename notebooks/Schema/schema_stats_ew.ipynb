{
 "cells": [
  {
   "cell_type": "code",
   "execution_count": 1,
   "id": "580704af",
   "metadata": {},
   "outputs": [],
   "source": [
    "import os\n",
    "import pandas as pd\n",
    "import json\n",
    "import gzip\n",
    "import fasttext\n",
    "import numpy as np"
   ]
  },
  {
   "cell_type": "markdown",
   "id": "7b0746fa",
   "metadata": {},
   "source": [
    "## Hotel"
   ]
  },
  {
   "cell_type": "code",
   "execution_count": 41,
   "id": "dff165f0",
   "metadata": {},
   "outputs": [],
   "source": [
    "path = '/work-ceph/bizer-tp2021/data_integration_using_deep_learning/src/data/Hotel/Hotel_top100/cleaned'"
   ]
  },
  {
   "cell_type": "code",
   "execution_count": 48,
   "id": "fbdc666f",
   "metadata": {},
   "outputs": [],
   "source": [
    "path = '/work-ceph/bizer-tp2021/data_integration_using_deep_learning/src/data/Hotel/Hotel_minimum3/cleaned'"
   ]
  },
  {
   "cell_type": "code",
   "execution_count": 45,
   "id": "7533516b",
   "metadata": {},
   "outputs": [],
   "source": [
    "files1 = [file for file in os.listdir(path) if file.endswith('.json.gz')]"
   ]
  },
  {
   "cell_type": "code",
   "execution_count": 51,
   "id": "e5182cb0",
   "metadata": {},
   "outputs": [],
   "source": [
    "files = [file for file in os.listdir(path) if file.endswith('.json.gz')]"
   ]
  },
  {
   "cell_type": "code",
   "execution_count": 47,
   "id": "e3aa5d64",
   "metadata": {},
   "outputs": [
    {
     "data": {
      "text/plain": [
       "53"
      ]
     },
     "execution_count": 47,
     "metadata": {},
     "output_type": "execute_result"
    }
   ],
   "source": [
    "len(files1)"
   ]
  },
  {
   "cell_type": "code",
   "execution_count": 50,
   "id": "a011c61c",
   "metadata": {},
   "outputs": [
    {
     "data": {
      "text/plain": [
       "1043"
      ]
     },
     "execution_count": 50,
     "metadata": {},
     "output_type": "execute_result"
    }
   ],
   "source": [
    "len(files2)"
   ]
  },
  {
   "cell_type": "code",
   "execution_count": 52,
   "id": "df7627aa",
   "metadata": {},
   "outputs": [],
   "source": [
    "#column_count = []\n",
    "\n",
    "for file in files:\n",
    "    # read file\n",
    "    df = pd.read_json(os.path.join(path, '{}'.format(file)), compression='gzip', lines=True)\n",
    "\n",
    "    for x in df.columns:\n",
    "        column_count.append(x)"
   ]
  },
  {
   "cell_type": "code",
   "execution_count": 53,
   "id": "9148c27f",
   "metadata": {},
   "outputs": [
    {
     "data": {
      "text/plain": [
       "8971"
      ]
     },
     "execution_count": 53,
     "metadata": {},
     "output_type": "execute_result"
    }
   ],
   "source": [
    "len(column_count)"
   ]
  },
  {
   "cell_type": "code",
   "execution_count": 54,
   "id": "77766f1d",
   "metadata": {},
   "outputs": [
    {
     "data": {
      "text/plain": [
       "1096"
      ]
     },
     "execution_count": 54,
     "metadata": {},
     "output_type": "execute_result"
    }
   ],
   "source": [
    "len(files1)+ len(files2)"
   ]
  },
  {
   "cell_type": "code",
   "execution_count": 55,
   "id": "510d5602",
   "metadata": {},
   "outputs": [
    {
     "data": {
      "text/plain": [
       "{'row_id': 1.0,\n",
       " 'name': 0.9835766423357665,\n",
       " 'address': 0.9005474452554745,\n",
       " 'starrating': 0.20802919708029197,\n",
       " 'image': 0.1897810218978102,\n",
       " 'page_url': 1.0,\n",
       " 'description': 0.6231751824817519,\n",
       " 'aggregaterating': 0.41514598540145986,\n",
       " 'pricerange': 0.4543795620437956,\n",
       " 'geo': 0.4443430656934307,\n",
       " 'availablelanguage': 0.02737226277372263,\n",
       " 'checkintime': 0.06934306569343066,\n",
       " 'checkouttime': 0.058394160583941604,\n",
       " 'petsallowed': 0.02645985401459854,\n",
       " 'containsplace': 0.03923357664233577,\n",
       " 'openinghours': 0.02281021897810219,\n",
       " 'paymentaccepted': 0.055656934306569344,\n",
       " 'currenciesaccepted': 0.021897810218978103,\n",
       " 'photo': 0.10583941605839416,\n",
       " 'telephone': 0.6514598540145985,\n",
       " 'amenityfeature': 0.09032846715328467,\n",
       " 'alternatename': 0.03193430656934307,\n",
       " 'containedinplace': 0.0036496350364963502,\n",
       " 'photos': 0.005474452554744526,\n",
       " 'location': 0.03102189781021898,\n",
       " 'url': 0.15328467153284672,\n",
       " 'hasmap': 0.012773722627737226,\n",
       " 'brand': 0.0364963503649635,\n",
       " 'reviews': 0.017335766423357664,\n",
       " 'makesoffer': 0.009124087591240875,\n",
       " 'faxnumber': 0.07116788321167883,\n",
       " 'branchof': 0.01824817518248175,\n",
       " 'review': 0.06751824817518248,\n",
       " 'audience': 0.0036496350364963502,\n",
       " 'email': 0.10766423357664233,\n",
       " 'latitude': 0.005474452554744526,\n",
       " 'longitude': 0.005474452554744526,\n",
       " 'ratingvalue': 0.010948905109489052,\n",
       " 'award': 0.004562043795620438,\n",
       " 'reviewbody': 0.0009124087591240876,\n",
       " 'author': 0.002737226277372263,\n",
       " 'interactionstatistic': 0.0009124087591240876,\n",
       " 'numberofrooms': 0.006386861313868613,\n",
       " 'openinghoursspecification': 0.013686131386861315,\n",
       " 'memberof': 0.006386861313868613,\n",
       " 'parentorganization': 0.011861313868613138,\n",
       " 'breadcrumb': 0.0009124087591240876,\n",
       " 'datepublished': 0.0036496350364963502,\n",
       " 'articlebody': 0.0009124087591240876,\n",
       " 'headline': 0.0009124087591240876,\n",
       " 'map': 0.004562043795620438,\n",
       " 'contactpoint': 0.02645985401459854,\n",
       " 'enddate': 0.012773722627737226,\n",
       " 'startdate': 0.012773722627737226,\n",
       " 'subjectof': 0.0009124087591240876,\n",
       " 'branchcode': 0.002737226277372263,\n",
       " 'members': 0.0009124087591240876,\n",
       " 'logo': 0.013686131386861315,\n",
       " 'legalname': 0.005474452554744526,\n",
       " 'foundingdate': 0.0009124087591240876,\n",
       " 'maximumattendeecapacity': 0.0009124087591240876,\n",
       " 'smokingallowed': 0.006386861313868613,\n",
       " 'title': 0.0018248175182481751,\n",
       " 'offers': 0.002737226277372263,\n",
       " 'hotel-infos-details': 0.0009124087591240876,\n",
       " 'hotel-infos-adress': 0.0009124087591240876,\n",
       " 'keywords': 0.0018248175182481751,\n",
       " 'bestrating': 0.005474452554744526,\n",
       " 'pricecurrency': 0.0009124087591240876,\n",
       " 'offeredby': 0.0009124087591240876,\n",
       " 'ratingcount': 0.0009124087591240876,\n",
       " 'worstrating': 0.004562043795620438,\n",
       " 'addresslocality': 0.0018248175182481751,\n",
       " 'postalcode': 0.0009124087591240876,\n",
       " 'addressregion': 0.0009124087591240876,\n",
       " 'addresscountry': 0.0009124087591240876,\n",
       " 'special_rate_description': 0.0009124087591240876,\n",
       " 'mainentityofpage': 0.0036496350364963502,\n",
       " 'founder': 0.0009124087591240876,\n",
       " 'sameas': 0.010036496350364963,\n",
       " 'member': 0.0009124087591240876,\n",
       " 'containedin': 0.0018248175182481751,\n",
       " 'additionalproperty': 0.002737226277372263,\n",
       " 'hotelbrand': 0.0009124087591240876,\n",
       " 'hotelcode': 0.0009124087591240876,\n",
       " 'reviewcount': 0.002737226277372263,\n",
       " 'releasedate': 0.0009124087591240876,\n",
       " 'areaserved': 0.002737226277372263,\n",
       " 'maps': 0.0009124087591240876,\n",
       " 'naics': 0.0009124087591240876,\n",
       " 'isicv4': 0.0009124087591240876,\n",
       " 'streetaddress': 0.0009124087591240876,\n",
       " 'itemlistelement': 0.0009124087591240876,\n",
       " 'occupancy': 0.0009124087591240876,\n",
       " 'acceptsreservations': 0.0009124087591240876,\n",
       " 'itemreviewed': 0.0009124087591240876,\n",
       " 'dateupdated': 0.0009124087591240876,\n",
       " 'employee': 0.0009124087591240876}"
      ]
     },
     "metadata": {},
     "output_type": "display_data"
    }
   ],
   "source": [
    "y_dict = {i:column_count.count(i) / 1096 for i in column_count}\n",
    "display(y_dict)"
   ]
  },
  {
   "cell_type": "code",
   "execution_count": 56,
   "id": "87346799",
   "metadata": {},
   "outputs": [],
   "source": [
    "dict_sorted = dict(sorted(y_dict.items(), key=lambda item: item[1]))\n",
    "(pd.DataFrame.from_dict(data=dict_sorted, orient='index').to_csv('Hotel_stats.csv', header=False))"
   ]
  },
  {
   "cell_type": "code",
   "execution_count": 29,
   "id": "312819ee",
   "metadata": {},
   "outputs": [],
   "source": []
  },
  {
   "cell_type": "markdown",
   "id": "86184817",
   "metadata": {},
   "source": [
    "## Restaurant"
   ]
  },
  {
   "cell_type": "code",
   "execution_count": 66,
   "id": "23fb897c",
   "metadata": {},
   "outputs": [],
   "source": [
    "path = '/work-ceph/bizer-tp2021/data_integration_using_deep_learning/src/data/Restaurant/Restaurant_top100/cleaned'"
   ]
  },
  {
   "cell_type": "code",
   "execution_count": 69,
   "id": "892514a6",
   "metadata": {},
   "outputs": [],
   "source": [
    "path = '/work-ceph/bizer-tp2021/data_integration_using_deep_learning/src/data/Restaurant/Restaurant_minimum3/cleaned'"
   ]
  },
  {
   "cell_type": "code",
   "execution_count": 70,
   "id": "c788e1ad",
   "metadata": {},
   "outputs": [],
   "source": [
    "filesMovie = [file for file in os.listdir(path) if file.endswith('.json.gz')]"
   ]
  },
  {
   "cell_type": "code",
   "execution_count": 59,
   "id": "adcddd43",
   "metadata": {},
   "outputs": [
    {
     "data": {
      "text/plain": [
       "64"
      ]
     },
     "execution_count": 59,
     "metadata": {},
     "output_type": "execute_result"
    }
   ],
   "source": [
    "len(filesMovie)"
   ]
  },
  {
   "cell_type": "code",
   "execution_count": 71,
   "id": "41e9669a",
   "metadata": {},
   "outputs": [
    {
     "data": {
      "text/plain": [
       "1093"
      ]
     },
     "execution_count": 71,
     "metadata": {},
     "output_type": "execute_result"
    }
   ],
   "source": [
    "len(filesMovie)"
   ]
  },
  {
   "cell_type": "code",
   "execution_count": 65,
   "id": "0a2434e9",
   "metadata": {},
   "outputs": [
    {
     "data": {
      "text/plain": [
       "1157"
      ]
     },
     "execution_count": 65,
     "metadata": {},
     "output_type": "execute_result"
    }
   ],
   "source": [
    "64+1093"
   ]
  },
  {
   "cell_type": "code",
   "execution_count": 72,
   "id": "54771c82",
   "metadata": {},
   "outputs": [],
   "source": [
    "#column_count = []\n",
    "\n",
    "for file in filesMovie:\n",
    "    # read file\n",
    "    df = pd.read_json(os.path.join(path, '{}'.format(file)), compression='gzip', lines=True)\n",
    "\n",
    "    for x in df.columns:\n",
    "        column_count.append(x)"
   ]
  },
  {
   "cell_type": "code",
   "execution_count": 73,
   "id": "f88bab74",
   "metadata": {},
   "outputs": [
    {
     "data": {
      "text/plain": [
       "{'row_id': 1.0,\n",
       " 'name': 0.9878997407087294,\n",
       " 'address': 0.898876404494382,\n",
       " 'telephone': 0.8271391529818496,\n",
       " 'servescuisine': 0.6248919619706137,\n",
       " 'description': 0.4131374243733794,\n",
       " 'parentorganization': 0.0025929127052722557,\n",
       " 'page_url': 1.0,\n",
       " 'aggregaterating': 0.3690579083837511,\n",
       " 'pricerange': 0.5548833189282627,\n",
       " 'geo': 0.592048401037165,\n",
       " 'openinghours': 0.14088159031979255,\n",
       " 'review': 0.08383751080380294,\n",
       " 'photo': 0.04840103716508211,\n",
       " 'additionalproperty': 0.003457216940363008,\n",
       " 'reviews': 0.00432152117545376,\n",
       " 'image': 0.20570440795159897,\n",
       " 'paymentaccepted': 0.07865168539325842,\n",
       " 'email': 0.05790838375108038,\n",
       " 'hasmenu': 0.2722558340535869,\n",
       " 'acceptsreservations': 0.2636127917026793,\n",
       " 'url': 0.37856525496974935,\n",
       " 'opens': 0.021607605877268798,\n",
       " 'closes': 0.020743301642178046,\n",
       " 'validthrough': 0.020743301642178046,\n",
       " 'validfrom': 0.020743301642178046,\n",
       " 'location': 0.05704407951598963,\n",
       " 'rating': 0.00432152117545376,\n",
       " 'category': 0.005185825410544511,\n",
       " 'occasions': 0.000864304235090752,\n",
       " 'features': 0.000864304235090752,\n",
       " 'openinghoursspecification': 0.2601555747623163,\n",
       " 'currenciesaccepted': 0.01296456352636128,\n",
       " 'hasoffercatalog': 0.0025929127052722557,\n",
       " 'potentialaction': 0.027657735522904063,\n",
       " 'amenityfeature': 0.01296456352636128,\n",
       " 'makesoffer': 0.006914433880726016,\n",
       " 'sameas': 0.00864304235090752,\n",
       " 'interactionstatistic': 0.000864304235090752,\n",
       " 'hasmap': 0.006050129645635264,\n",
       " 'mainentityofpage': 0.00950734658599827,\n",
       " 'logo': 0.010371650821089023,\n",
       " 'productid': 0.000864304235090752,\n",
       " 'faxnumber': 0.011235955056179775,\n",
       " 'areaserved': 0.010371650821089023,\n",
       " 'startdate': 0.029386343993085567,\n",
       " 'enddate': 0.029386343993085567,\n",
       " 'menu': 0.10458081244598098,\n",
       " 'legalname': 0.001728608470181504,\n",
       " 'contactpoint': 0.00432152117545376,\n",
       " 'position': 0.000864304235090752,\n",
       " 'containedinplace': 0.0025929127052722557,\n",
       " 'latitude': 0.001728608470181504,\n",
       " 'longitude': 0.001728608470181504,\n",
       " 'interactioncount': 0.003457216940363008,\n",
       " 'ratingvalue': 0.0025929127052722557,\n",
       " 'ratingcount': 0.001728608470181504,\n",
       " 'identifier': 0.001728608470181504,\n",
       " 'photos': 0.000864304235090752,\n",
       " 'alternatename': 0.006050129645635264,\n",
       " 'ingredients': 0.000864304235090752,\n",
       " 'naics': 0.005185825410544511,\n",
       " 'memberof': 0.001728608470181504,\n",
       " 'headline': 0.005185825410544511,\n",
       " 'streetaddress': 0.00432152117545376,\n",
       " 'addresslocality': 0.001728608470181504,\n",
       " 'award': 0.001728608470181504,\n",
       " 'offers': 0.000864304235090752,\n",
       " 'datemodified': 0.000864304235090752,\n",
       " 'event': 0.005185825410544511,\n",
       " 'servicearea': 0.001728608470181504,\n",
       " 'brand': 0.007778738115816767,\n",
       " 'haswifi': 0.000864304235090752,\n",
       " 'foundingdate': 0.001728608470181504,\n",
       " 'employee': 0.00432152117545376,\n",
       " 'numberofemployees': 0.000864304235090752,\n",
       " 'acceptedpaymentmethod': 0.001728608470181504,\n",
       " 'branchcode': 0.001728608470181504,\n",
       " 'author': 0.0025929127052722557,\n",
       " 'keywords': 0.000864304235090752,\n",
       " 'branchof': 0.001728608470181504,\n",
       " 'containedin': 0.000864304235090752,\n",
       " 'datepublished': 0.001728608470181504,\n",
       " 'dateupdated': 0.000864304235090752,\n",
       " 'price': 0.000864304235090752,\n",
       " 'starrating': 0.0025929127052722557,\n",
       " 'publicaccess': 0.000864304235090752,\n",
       " 'text': 0.000864304235090752,\n",
       " 'reviewbody': 0.000864304235090752,\n",
       " 'smokingallowed': 0.000864304235090752,\n",
       " 'postalcode': 0.000864304235090752,\n",
       " 'addressregion': 0.000864304235090752,\n",
       " 'publisher': 0.000864304235090752,\n",
       " 'contacttype': 0.000864304235090752,\n",
       " 'employees': 0.000864304235090752,\n",
       " 'phone': 0.000864304235090752,\n",
       " 'bestrating': 0.001728608470181504,\n",
       " 'map': 0.000864304235090752,\n",
       " 'reviewcount': 0.000864304235090752,\n",
       " 'worstrating': 0.000864304235090752,\n",
       " 'restaurant': 0.000864304235090752,\n",
       " 'restaurant-type': 0.000864304235090752}"
      ]
     },
     "metadata": {},
     "output_type": "display_data"
    }
   ],
   "source": [
    "y_dict_movie = {i:column_count.count(i) / 1157 for i in column_count}\n",
    "display(y_dict_movie)"
   ]
  },
  {
   "cell_type": "code",
   "execution_count": 74,
   "id": "32b7d724",
   "metadata": {},
   "outputs": [],
   "source": [
    "movie_dict_sorted = dict(sorted(y_dict_movie.items(), key=lambda item: item[1]))"
   ]
  },
  {
   "cell_type": "code",
   "execution_count": 75,
   "id": "4c07d2e4",
   "metadata": {},
   "outputs": [],
   "source": [
    "(pd.DataFrame.from_dict(data=movie_dict_sorted, orient='index').to_csv('Restaurant_stats.csv', header=False))"
   ]
  },
  {
   "cell_type": "markdown",
   "id": "adf96a28",
   "metadata": {},
   "source": [
    "## Music Recording"
   ]
  },
  {
   "cell_type": "code",
   "execution_count": 11,
   "id": "172923d5",
   "metadata": {},
   "outputs": [],
   "source": [
    "path = '/work-ceph/bizer-tp2021/data_integration_using_deep_learning/src/data/data/MusicRecording/All'"
   ]
  },
  {
   "cell_type": "code",
   "execution_count": 12,
   "id": "d2cc957e",
   "metadata": {},
   "outputs": [],
   "source": [
    "#path = '../data/data/MusicRecording/All'\n",
    "files = [file for file in os.listdir(path) if file.endswith('.json.gz')]\n",
    "column_count = []\n",
    "\n",
    "for file in files:\n",
    "    # read file\n",
    "    df = pd.read_json(os.path.join(path, '{}'.format(file)), compression='gzip', lines=True)\n",
    "\n",
    "    for x in df.columns:\n",
    "        column_count.append(x)"
   ]
  },
  {
   "cell_type": "code",
   "execution_count": 13,
   "id": "07300f7b",
   "metadata": {},
   "outputs": [
    {
     "data": {
      "text/plain": [
       "{'row_id': 1.0,\n",
       " 'name': 0.9979819931698231,\n",
       " 'duration': 0.9680223533064266,\n",
       " 'byartist': 0.9302235330642658,\n",
       " 'page_url': 1.0,\n",
       " 'inalbum': 0.7148401117665322,\n",
       " 'url': 0.034538963054951875,\n",
       " 'datepublished': 0.018084445824278175,\n",
       " 'genre': 0.012961813101521266,\n",
       " 'datecreated': 0.012573734864948774,\n",
       " 'image': 0.003725551071095933,\n",
       " 'audio': 0.0030270102452654457,\n",
       " 'inlanguage': 0.0018627755355479665,\n",
       " 'aggregaterating': 0.004113629307668426,\n",
       " 'publisher': 0.001552312946289972,\n",
       " 'copyrightyear': 0.0006209251785159888,\n",
       " 'reviewrating': 7.76156473144986e-05,\n",
       " 'interactioncount': 0.0038031667184104316,\n",
       " 'creator': 0.0012418503570319776,\n",
       " 'description': 0.012340887923005278,\n",
       " 'author': 0.0024837007140639552,\n",
       " 'datemodified': 0.0016299285936044706,\n",
       " 'headline': 0.0014746972989754734,\n",
       " 'mainentityofpage': 0.0003104625892579944,\n",
       " 'track': 0.005355479664700404,\n",
       " 'title': 0.004501707544240919,\n",
       " 'price': 0.0023284694194349582,\n",
       " 'isrccode': 0.0010090034150884819,\n",
       " 'position': 0.0014746972989754734,\n",
       " 'offers': 0.0016299285936044706,\n",
       " 'recordingof': 0.0014746972989754734,\n",
       " 'contributor': 7.76156473144986e-05,\n",
       " 'nmatrix': 7.76156473144986e-05,\n",
       " 'video': 0.000776156473144986,\n",
       " 'text': 0.0012418503570319776,\n",
       " 'copyrightholder': 0.00046569388388699164,\n",
       " 'review': 0.00046569388388699164,\n",
       " 'popularityscore': 7.76156473144986e-05,\n",
       " 'producer': 0.0009313877677739833,\n",
       " 'lyrics': 0.000388078236572493,\n",
       " 'license': 0.00023284694194349582,\n",
       " 'keywords': 0.0014746972989754734,\n",
       " 'interactionstatistic': 0.0010090034150884819,\n",
       " 'identifier': 0.0001552312946289972,\n",
       " 'provider': 0.00046569388388699164,\n",
       " 'version': 0.00046569388388699164,\n",
       " 'ispartof': 0.0001552312946289972,\n",
       " 'thumbnailurl': 0.0008537721204594847,\n",
       " 'inplaylist': 0.0003104625892579944,\n",
       " 'thumbnail': 7.76156473144986e-05,\n",
       " 'brand': 0.00023284694194349582,\n",
       " 'sameas': 7.76156473144986e-05,\n",
       " 'potentialaction': 0.00023284694194349582,\n",
       " 'releasedevent': 0.0001552312946289972,\n",
       " 'embedurl': 7.76156473144986e-05,\n",
       " 'tracks': 0.0001552312946289972,\n",
       " 'year': 7.76156473144986e-05,\n",
       " 'commentcount': 0.00046569388388699164,\n",
       " 'alternativeheadline': 0.0001552312946289972,\n",
       " 'musician': 7.76156473144986e-05,\n",
       " 'encoding': 7.76156473144986e-05,\n",
       " 'bestrating': 7.76156473144986e-05,\n",
       " 'uploaddate': 7.76156473144986e-05,\n",
       " 'accountableperson': 7.76156473144986e-05,\n",
       " 'isaccessibleforfree': 0.00023284694194349582,\n",
       " 'isfamilyfriendly': 7.76156473144986e-05,\n",
       " 'accessmodesufficient': 7.76156473144986e-05,\n",
       " 'accessmode': 7.76156473144986e-05,\n",
       " 'gtin8': 7.76156473144986e-05,\n",
       " 'sku': 7.76156473144986e-05,\n",
       " 'audience': 0.0001552312946289972,\n",
       " 'about': 0.000388078236572493,\n",
       " 'photo': 7.76156473144986e-05,\n",
       " 'alternatename': 0.0001552312946289972,\n",
       " 'discussionurl': 0.0001552312946289972,\n",
       " 'locationcreated': 7.76156473144986e-05,\n",
       " 'articlesection': 7.76156473144986e-05,\n",
       " 'haspart': 7.76156473144986e-05,\n",
       " 'encodingformat': 0.00023284694194349582,\n",
       " 'awards': 7.76156473144986e-05,\n",
       " 'instrument': 7.76156473144986e-05,\n",
       " 'chordsblock': 0.0003104625892579944,\n",
       " 'composer': 7.76156473144986e-05,\n",
       " 'iswccode': 7.76156473144986e-05,\n",
       " 'contentsize': 7.76156473144986e-05,\n",
       " 'cat_num': 7.76156473144986e-05,\n",
       " 'ensemble': 7.76156473144986e-05,\n",
       " 'label': 7.76156473144986e-05,\n",
       " 'conductor': 7.76156473144986e-05,\n",
       " 'soloists': 7.76156473144986e-05,\n",
       " 'chords': 7.76156473144986e-05,\n",
       " 'timerequired': 7.76156473144986e-05,\n",
       " 'sourceorganization': 7.76156473144986e-05,\n",
       " 'disambiguatingdescription': 7.76156473144986e-05,\n",
       " 'comment': 7.76156473144986e-05,\n",
       " 'mainentity': 7.76156473144986e-05,\n",
       " 'sdpublisher': 7.76156473144986e-05,\n",
       " 'itemlistelement': 7.76156473144986e-05,\n",
       " 'performer': 7.76156473144986e-05}"
      ]
     },
     "metadata": {},
     "output_type": "display_data"
    }
   ],
   "source": [
    "y_dict = {i:column_count.count(i) / len(files) for i in column_count}\n",
    "display(y_dict)"
   ]
  },
  {
   "cell_type": "code",
   "execution_count": 14,
   "id": "0b2f334c",
   "metadata": {},
   "outputs": [],
   "source": [
    "dict_sorted = dict(sorted(y_dict.items(), key=lambda item: item[1]))\n",
    "(pd.DataFrame.from_dict(data=dict_sorted, orient='index').to_csv('MusicRecording_stats.csv', header=False))"
   ]
  },
  {
   "cell_type": "markdown",
   "id": "1cac24db",
   "metadata": {},
   "source": [
    "## MusicAlbum"
   ]
  },
  {
   "cell_type": "code",
   "execution_count": 16,
   "id": "b244d465",
   "metadata": {},
   "outputs": [],
   "source": [
    "path = '/work-ceph/bizer-tp2021/data_integration_using_deep_learning/src/data/data/MusicAlbum/All'\n",
    "files = [file for file in os.listdir(path) if file.endswith('.json.gz')]\n",
    "column_count = []\n",
    "\n",
    "for file in files:\n",
    "    # read file\n",
    "    df = pd.read_json(os.path.join(path, '{}'.format(file)), compression='gzip', lines=True)\n",
    "\n",
    "    for x in df.columns:\n",
    "        column_count.append(x)"
   ]
  },
  {
   "cell_type": "code",
   "execution_count": 17,
   "id": "2efb22d1",
   "metadata": {},
   "outputs": [
    {
     "data": {
      "text/plain": [
       "{'row_id': 1.0,\n",
       " 'name': 0.9656357388316151,\n",
       " 'numtracks': 0.41580756013745707,\n",
       " 'track': 0.5189003436426117,\n",
       " 'byartist': 0.6185567010309279,\n",
       " 'url': 0.27147766323024053,\n",
       " 'page_url': 1.0,\n",
       " 'genre': 0.16838487972508592,\n",
       " 'description': 0.3333333333333333,\n",
       " 'image': 0.12371134020618557,\n",
       " 'publisher': 0.08247422680412371,\n",
       " 'albumrelease': 0.048109965635738834,\n",
       " 'inlanguage': 0.01718213058419244,\n",
       " 'albumreleasetype': 0.048109965635738834,\n",
       " 'releasedevent': 0.010309278350515464,\n",
       " 'locationcreated': 0.006872852233676976,\n",
       " 'datecreated': 0.09965635738831616,\n",
       " 'mainentityofpage': 0.024054982817869417,\n",
       " 'ispartof': 0.010309278350515464,\n",
       " 'offers': 0.13058419243986255,\n",
       " 'datepublished': 0.20962199312714777,\n",
       " 'aggregaterating': 0.0859106529209622,\n",
       " 'potentialaction': 0.024054982817869417,\n",
       " 'sameas': 0.01718213058419244,\n",
       " 'copyrightyear': 0.037800687285223365,\n",
       " 'author': 0.058419243986254296,\n",
       " 'keywords': 0.041237113402061855,\n",
       " 'fileformat': 0.01718213058419244,\n",
       " 'tracks': 0.05154639175257732,\n",
       " 'title': 0.041237113402061855,\n",
       " 'sku': 0.013745704467353952,\n",
       " '\\\\\"byartist\\\\\"': 0.044673539518900345,\n",
       " 'copyrightholder': 0.010309278350515464,\n",
       " 'headline': 0.020618556701030927,\n",
       " 'identifier': 0.01718213058419244,\n",
       " 'review': 0.037800687285223365,\n",
       " 'numberofpages': 0.003436426116838488,\n",
       " 'ean': 0.003436426116838488,\n",
       " 'about': 0.010309278350515464,\n",
       " 'interactionstatistic': 0.010309278350515464,\n",
       " 'albumproductiontype': 0.024054982817869417,\n",
       " 'commentcount': 0.006872852233676976,\n",
       " 'audio': 0.006872852233676976,\n",
       " 'provider': 0.010309278350515464,\n",
       " 'reviewrating': 0.003436426116838488,\n",
       " 'creator': 0.006872852233676976,\n",
       " 'alternativeheadline': 0.003436426116838488,\n",
       " 'accountableperson': 0.003436426116838488,\n",
       " 'workexample': 0.003436426116838488,\n",
       " 'interactioncount': 0.006872852233676976,\n",
       " 'datemodified': 0.01718213058419244,\n",
       " 'thumbnailurl': 0.010309278350515464,\n",
       " 'alternatename': 0.006872852233676976,\n",
       " 'catalognumber': 0.006872852233676976,\n",
       " 'musicreleaseformat': 0.006872852233676976,\n",
       " 'recordlabel': 0.006872852233676976,\n",
       " 'video': 0.003436426116838488,\n",
       " 'releasedate': 0.003436426116838488,\n",
       " 'artist': 0.003436426116838488,\n",
       " 'sourceorganization': 0.003436426116838488}"
      ]
     },
     "metadata": {},
     "output_type": "display_data"
    }
   ],
   "source": [
    "y_dict = {i:column_count.count(i) / len(files) for i in column_count}\n",
    "display(y_dict)"
   ]
  },
  {
   "cell_type": "code",
   "execution_count": 18,
   "id": "1e974551",
   "metadata": {},
   "outputs": [],
   "source": [
    "dict_sorted = dict(sorted(y_dict.items(), key=lambda item: item[1]))\n",
    "(pd.DataFrame.from_dict(data=dict_sorted, orient='index').to_csv('MusicAlbum_stats.csv', header=False))"
   ]
  },
  {
   "cell_type": "markdown",
   "id": "07fb778b",
   "metadata": {},
   "source": [
    "## LocalBusiness\n"
   ]
  },
  {
   "cell_type": "code",
   "execution_count": 76,
   "id": "28565d1c",
   "metadata": {},
   "outputs": [],
   "source": [
    "path = '/work-ceph/bizer-tp2021/data_integration_using_deep_learning/src/data/LocalBusiness/LocalBusiness_top100/cleaned'"
   ]
  },
  {
   "cell_type": "code",
   "execution_count": 80,
   "id": "f2829a32",
   "metadata": {},
   "outputs": [],
   "source": [
    "path = '/work-ceph/bizer-tp2021/data_integration_using_deep_learning/src/data/LocalBusiness/LocalBusiness_minimum3/cleaned'"
   ]
  },
  {
   "cell_type": "code",
   "execution_count": 81,
   "id": "1a883ddb",
   "metadata": {},
   "outputs": [],
   "source": [
    "files = [file for file in os.listdir(path) if file.endswith('.json.gz')]"
   ]
  },
  {
   "cell_type": "code",
   "execution_count": 78,
   "id": "8292b94c",
   "metadata": {},
   "outputs": [
    {
     "data": {
      "text/plain": [
       "53"
      ]
     },
     "execution_count": 78,
     "metadata": {},
     "output_type": "execute_result"
    }
   ],
   "source": [
    "len(files)"
   ]
  },
  {
   "cell_type": "code",
   "execution_count": 82,
   "id": "fd903179",
   "metadata": {},
   "outputs": [
    {
     "data": {
      "text/plain": [
       "11747"
      ]
     },
     "execution_count": 82,
     "metadata": {},
     "output_type": "execute_result"
    }
   ],
   "source": [
    "len(files)"
   ]
  },
  {
   "cell_type": "code",
   "execution_count": 83,
   "id": "38eb0721",
   "metadata": {},
   "outputs": [
    {
     "data": {
      "text/plain": [
       "11800"
      ]
     },
     "execution_count": 83,
     "metadata": {},
     "output_type": "execute_result"
    }
   ],
   "source": [
    "53 + 11747"
   ]
  },
  {
   "cell_type": "code",
   "execution_count": 84,
   "id": "335b1eea",
   "metadata": {},
   "outputs": [],
   "source": [
    "#column_count = []\n",
    "\n",
    "for file in files:\n",
    "    # read file\n",
    "    df = pd.read_json(os.path.join(path, '{}'.format(file)), compression='gzip', lines=True)\n",
    "\n",
    "    for x in df.columns:\n",
    "        column_count.append(x)"
   ]
  },
  {
   "cell_type": "code",
   "execution_count": 85,
   "id": "fc05b4e5",
   "metadata": {},
   "outputs": [
    {
     "data": {
      "text/plain": [
       "{'row_id': 1.0,\n",
       " 'name': 0.9600847457627119,\n",
       " 'address': 0.9033898305084745,\n",
       " 'telephone': 0.7299152542372881,\n",
       " 'page_url': 1.0,\n",
       " 'aggregaterating': 0.1811864406779661,\n",
       " 'pricerange': 0.2588135593220339,\n",
       " 'openinghours': 0.10279661016949153,\n",
       " 'url': 0.1994915254237288,\n",
       " 'paymentaccepted': 0.01923728813559322,\n",
       " 'currenciesaccepted': 0.008898305084745763,\n",
       " 'geo': 0.29533898305084744,\n",
       " 'review': 0.052033898305084744,\n",
       " 'email': 0.17677966101694914,\n",
       " 'openinghoursspecification': 0.0671186440677966,\n",
       " 'description': 0.5401694915254237,\n",
       " 'image': 0.17754237288135594,\n",
       " 'areaserved': 0.02254237288135593,\n",
       " 'brand': 0.008389830508474576,\n",
       " 'knowsabout': 0.001016949152542373,\n",
       " 'price': 0.0006779661016949153,\n",
       " 'serialnumber': 0.00016949152542372882,\n",
       " 'faxnumber': 0.11,\n",
       " 'logo': 0.018220338983050848,\n",
       " 'datemodified': 0.002542372881355932,\n",
       " 'hasmap': 0.011016949152542373,\n",
       " 'sameas': 0.11906779661016949,\n",
       " 'hasoffercatalog': 0.004491525423728814,\n",
       " 'publicaccess': 0.0015254237288135593,\n",
       " 'location': 0.021864406779661016,\n",
       " 'employee': 0.006864406779661017,\n",
       " 'legalname': 0.02788135593220339,\n",
       " 'fax': 0.0005932203389830508,\n",
       " 'interactioncount': 0.001694915254237288,\n",
       " 'founder': 0.01677966101694915,\n",
       " 'owns': 0.012627118644067797,\n",
       " 'contactpoint': 0.04754237288135593,\n",
       " 'reviews': 0.0019491525423728814,\n",
       " 'employees': 0.000423728813559322,\n",
       " 'about': 0.004406779661016949,\n",
       " 'streetaddress': 0.020677966101694915,\n",
       " 'addresslocality': 0.02169491525423729,\n",
       " 'addressregion': 0.020677966101694915,\n",
       " 'postalcode': 0.020593220338983052,\n",
       " 'citystatezip': 0.01677966101694915,\n",
       " 'photos': 0.013305084745762712,\n",
       " 'photo': 0.018559322033898304,\n",
       " 'alternatename': 0.003559322033898305,\n",
       " 'department': 0.001271186440677966,\n",
       " 'makesoffer': 0.005932203389830509,\n",
       " 'map': 0.002288135593220339,\n",
       " 'award': 0.0006779661016949153,\n",
       " 'isicv4': 0.00576271186440678,\n",
       " 'foundingdate': 0.00423728813559322,\n",
       " 'parentorganization': 0.004661016949152543,\n",
       " 'additionalproperty': 0.001694915254237288,\n",
       " 'city': 0.00016949152542372882,\n",
       " 'state': 0.0002542372881355932,\n",
       " 'county': 8.474576271186441e-05,\n",
       " 'employeeid': 8.474576271186441e-05,\n",
       " 'firstname': 8.474576271186441e-05,\n",
       " 'fullname': 8.474576271186441e-05,\n",
       " 'licensedata': 8.474576271186441e-05,\n",
       " 'nmlsid': 8.474576271186441e-05,\n",
       " 'officephone': 8.474576271186441e-05,\n",
       " 'suffdataforcta': 8.474576271186441e-05,\n",
       " 'longitude': 0.000847457627118644,\n",
       " 'latitude': 0.000847457627118644,\n",
       " 'numberofemployees': 0.001271186440677966,\n",
       " 'ratingvalue': 0.001271186440677966,\n",
       " 'ratingcount': 0.0006779661016949153,\n",
       " 'bestrating': 0.00016949152542372882,\n",
       " 'worstrating': 8.474576271186441e-05,\n",
       " 'itemreviewed': 8.474576271186441e-05,\n",
       " 'postcode': 8.474576271186441e-05,\n",
       " 'startdate': 0.006440677966101695,\n",
       " 'enddate': 0.00576271186440678,\n",
       " 'amenityfeature': 0.0016101694915254237,\n",
       " 'articlebody': 0.0005932203389830508,\n",
       " 'naics': 0.0013559322033898306,\n",
       " 'additionaltype': 0.00288135593220339,\n",
       " 'whatsapp': 8.474576271186441e-05,\n",
       " 'offers': 0.001864406779661017,\n",
       " 'category': 0.0002542372881355932,\n",
       " 'community-number': 8.474576271186441e-05,\n",
       " 'knowslanguage': 0.00033898305084745765,\n",
       " 'headline': 0.0022033898305084745,\n",
       " 'author': 0.0017796610169491525,\n",
       " 'datepublished': 0.002033898305084746,\n",
       " 'publisher': 0.001016949152542373,\n",
       " 'keywords': 0.0006779661016949153,\n",
       " 'contacttype': 0.00033898305084745765,\n",
       " 'vatid': 0.001440677966101695,\n",
       " 'member': 0.0005084745762711864,\n",
       " 'additional_phone': 0.00016949152542372882,\n",
       " 'breadcrumb': 0.000423728813559322,\n",
       " 'memberof': 0.001016949152542373,\n",
       " 'mainentityofpage': 0.002711864406779661,\n",
       " 'mainentity': 0.0002542372881355932,\n",
       " 'slogan': 0.0006779661016949153,\n",
       " 'distance': 0.0007627118644067797,\n",
       " 'mobilebusiness': 0.0007627118644067797,\n",
       " 'locationmobile': 8.474576271186441e-05,\n",
       " 'disambiguatingdescription': 0.000423728813559322,\n",
       " 'servicetype': 0.0005084745762711864,\n",
       " 'potentialaction': 0.001864406779661017,\n",
       " 'servicearea': 0.001016949152542373,\n",
       " 'branchof': 0.0036440677966101693,\n",
       " 'maximumattendeecapacity': 0.0002542372881355932,\n",
       " 'containedinplace': 0.0005932203389830508,\n",
       " 'id': 0.00033898305084745765,\n",
       " 'isaccessibleforfree': 0.0006779661016949153,\n",
       " 'branchcode': 0.0022033898305084745,\n",
       " 'issimilarto': 8.474576271186441e-05,\n",
       " 'addresscountry': 0.001271186440677966,\n",
       " 'dateupdated': 8.474576271186441e-05,\n",
       " 'jobtitle': 0.00016949152542372882,\n",
       " 'taxid': 0.001016949152542373,\n",
       " 'duns': 0.00016949152542372882,\n",
       " 'hasmenu': 0.00016949152542372882,\n",
       " 'identifier': 0.000423728813559322,\n",
       " 'leicode': 8.474576271186441e-05,\n",
       " 'servescuisine': 0.0005084745762711864,\n",
       " 'mail': 8.474576271186441e-05,\n",
       " 'adresse': 8.474576271186441e-05,\n",
       " 'nom': 8.474576271186441e-05,\n",
       " \"validation%20de%20l'avis\": 8.474576271186441e-05,\n",
       " 'gu00e9olocalisation': 8.474576271186441e-05,\n",
       " 'tu00e9lu00e9phone': 8.474576271186441e-05,\n",
       " 'inlanguage': 0.0002542372881355932,\n",
       " 'reviewcount': 0.00033898305084745765,\n",
       " 'reviewbody': 0.000423728813559322,\n",
       " 'caption': 8.474576271186441e-05,\n",
       " 'servicephone': 8.474576271186441e-05,\n",
       " 'maddress': 8.474576271186441e-05,\n",
       " 'smokingallowed': 0.00016949152542372882,\n",
       " 'mobile': 8.474576271186441e-05,\n",
       " 'datecreated': 0.00033898305084745765,\n",
       " 'alternativeheadline': 8.474576271186441e-05,\n",
       " 'events': 0.0015254237288135593,\n",
       " 'contactpoints': 0.00016949152542372882,\n",
       " 'itemlistelement': 0.0005932203389830508,\n",
       " 'pricecurrency': 0.00016949152542372882,\n",
       " 'availability': 8.474576271186441e-05,\n",
       " 'businessfunction': 8.474576271186441e-05,\n",
       " 'tollfree': 0.0005084745762711864,\n",
       " 'reviewrating': 0.0005932203389830508,\n",
       " 'clearfix': 8.474576271186441e-05,\n",
       " 'numberofrooms': 8.474576271186441e-05,\n",
       " 'eht': 8.474576271186441e-05,\n",
       " 'thumbnailurl': 8.474576271186441e-05,\n",
       " 'website': 0.000423728813559322,\n",
       " 'blogpost': 0.00016949152542372882,\n",
       " 'ispartof': 0.00016949152542372882,\n",
       " 'event': 0.0002542372881355932,\n",
       " 'webaddress': 8.474576271186441e-05,\n",
       " 'opens': 0.0002542372881355932,\n",
       " 'closes': 0.0002542372881355932,\n",
       " 'sku': 0.0005084745762711864,\n",
       " 'interactionstatistic': 8.474576271186441e-05,\n",
       " 'circle': 8.474576271186441e-05,\n",
       " 'title': 0.0005084745762711864,\n",
       " 'listingemail': 0.0002542372881355932,\n",
       " 'height': 8.474576271186441e-05,\n",
       " 'width': 8.474576271186441e-05,\n",
       " 'containsplace': 0.00016949152542372882,\n",
       " 'maincontentofpage': 0.000423728813559322,\n",
       " 'hascredential': 0.0002542372881355932,\n",
       " 'comment': 8.474576271186441e-05,\n",
       " 'dateposted': 8.474576271186441e-05,\n",
       " 'occupationalcategory': 8.474576271186441e-05,\n",
       " 'end_date': 8.474576271186441e-05,\n",
       " 'post_id': 8.474576271186441e-05,\n",
       " 'start_date': 8.474576271186441e-05,\n",
       " 'mpn': 0.00016949152542372882,\n",
       " 'zipcode': 8.474576271186441e-05,\n",
       " 'productid': 0.00016949152542372882,\n",
       " 'specialopeninghoursspecification': 0.0002542372881355932,\n",
       " 'suborganization': 8.474576271186441e-05,\n",
       " 'awards': 8.474576271186441e-05,\n",
       " 'founders': 0.0002542372881355932,\n",
       " 'foundinglocation': 8.474576271186441e-05,\n",
       " 'speakable': 0.00016949152542372882,\n",
       " 'tourbookingpage': 8.474576271186441e-05,\n",
       " 'phone': 0.00016949152542372882,\n",
       " 'participatesinmedicare': 8.474576271186441e-05,\n",
       " 'header-title-text': 8.474576271186441e-05,\n",
       " 'containedin': 0.0002542372881355932,\n",
       " 'primaryimageofpage': 8.474576271186441e-05,\n",
       " 'availablelanguage': 8.474576271186441e-05,\n",
       " 'userinteractioncount': 8.474576271186441e-05,\n",
       " 'acceptedpaymentmethod': 8.474576271186441e-05,\n",
       " 'hasmerchantreturnpolicy': 8.474576271186441e-05,\n",
       " 'postaladdress': 8.474576271186441e-05,\n",
       " 'acceptsreservations': 0.00016949152542372882,\n",
       " 'haspos': 8.474576271186441e-05,\n",
       " 'availableservice': 8.474576271186441e-05,\n",
       " 'position': 8.474576271186441e-05,\n",
       " 'type': 8.474576271186441e-05,\n",
       " 'virtualcategory': 8.474576271186441e-05,\n",
       " 'audience': 0.00016949152542372882,\n",
       " 'restaurant': 8.474576271186441e-05,\n",
       " 'golfcourse': 8.474576271186441e-05,\n",
       " 'receivinghours': 8.474576271186441e-05,\n",
       " 'provider': 8.474576271186441e-05,\n",
       " 'hascourseinstance': 8.474576271186441e-05,\n",
       " 'phonenumber': 8.474576271186441e-05,\n",
       " 'text': 8.474576271186441e-05,\n",
       " 'target': 8.474576271186441e-05,\n",
       " 'isrelatedto': 8.474576271186441e-05}"
      ]
     },
     "metadata": {},
     "output_type": "display_data"
    }
   ],
   "source": [
    "y_dict = {i:column_count.count(i) / 11800 for i in column_count}\n",
    "display(y_dict)"
   ]
  },
  {
   "cell_type": "code",
   "execution_count": 86,
   "id": "4b065143",
   "metadata": {},
   "outputs": [],
   "source": [
    "dict_sorted = dict(sorted(y_dict.items(), key=lambda item: item[1]))\n",
    "(pd.DataFrame.from_dict(data=dict_sorted, orient='index').to_csv('LocalBusiness_stats.csv', header=False))"
   ]
  },
  {
   "cell_type": "markdown",
   "id": "441f2bd4",
   "metadata": {},
   "source": [
    "## Product"
   ]
  },
  {
   "cell_type": "code",
   "execution_count": 3,
   "id": "ef90b9bc",
   "metadata": {},
   "outputs": [],
   "source": [
    "path = '/work-ceph/bizer-tp2021/data_integration_using_deep_learning/src/data/product/product_top100/cleaned'"
   ]
  },
  {
   "cell_type": "code",
   "execution_count": 9,
   "id": "01e9ab79",
   "metadata": {},
   "outputs": [],
   "source": [
    "path = '/work-ceph/bizer-tp2021/data_integration_using_deep_learning/src/data/product/product_minimum3/cleaned'"
   ]
  },
  {
   "cell_type": "code",
   "execution_count": 10,
   "id": "c593f197",
   "metadata": {},
   "outputs": [],
   "source": [
    "files = [file for file in os.listdir(path) if file.endswith('.json.gz')]"
   ]
  },
  {
   "cell_type": "code",
   "execution_count": 5,
   "id": "c9aecd3b",
   "metadata": {},
   "outputs": [
    {
     "data": {
      "text/plain": [
       "75"
      ]
     },
     "execution_count": 5,
     "metadata": {},
     "output_type": "execute_result"
    }
   ],
   "source": [
    "len(files)"
   ]
  },
  {
   "cell_type": "code",
   "execution_count": 11,
   "id": "2a082a72",
   "metadata": {},
   "outputs": [
    {
     "data": {
      "text/plain": [
       "435107"
      ]
     },
     "execution_count": 11,
     "metadata": {},
     "output_type": "execute_result"
    }
   ],
   "source": [
    "len(files)"
   ]
  },
  {
   "cell_type": "code",
   "execution_count": 91,
   "id": "7a128f1f",
   "metadata": {},
   "outputs": [
    {
     "data": {
      "text/plain": [
       "435182"
      ]
     },
     "execution_count": 91,
     "metadata": {},
     "output_type": "execute_result"
    }
   ],
   "source": [
    "75 + 435107"
   ]
  },
  {
   "cell_type": "code",
   "execution_count": 12,
   "id": "54cffd61",
   "metadata": {},
   "outputs": [],
   "source": [
    "files = files[0:100000]"
   ]
  },
  {
   "cell_type": "code",
   "execution_count": 17,
   "id": "478e9389",
   "metadata": {},
   "outputs": [],
   "source": [
    "files = [file for file in os.listdir(path) if file.endswith('.json.gz')]\n",
    "files = files[100000:200000]"
   ]
  },
  {
   "cell_type": "code",
   "execution_count": 20,
   "id": "ded2bc42",
   "metadata": {},
   "outputs": [],
   "source": [
    "files = [file for file in os.listdir(path) if file.endswith('.json.gz')]\n",
    "files = files[200000:300000]"
   ]
  },
  {
   "cell_type": "code",
   "execution_count": 23,
   "id": "26ab6dca",
   "metadata": {},
   "outputs": [],
   "source": [
    "files = [file for file in os.listdir(path) if file.endswith('.json.gz')]\n",
    "files = files[300000:400000]"
   ]
  },
  {
   "cell_type": "code",
   "execution_count": 26,
   "id": "7be33c29",
   "metadata": {},
   "outputs": [],
   "source": [
    "files = [file for file in os.listdir(path) if file.endswith('.json.gz')]\n",
    "files = files[400000:]"
   ]
  },
  {
   "cell_type": "code",
   "execution_count": 27,
   "id": "1cd3ddd9",
   "metadata": {},
   "outputs": [],
   "source": [
    "#column_count = []\n",
    "\n",
    "for file in files:\n",
    "    # read file\n",
    "    df = pd.read_json(os.path.join(path, '{}'.format(file)), compression='gzip', lines=True)\n",
    "\n",
    "    for x in df.columns:\n",
    "        column_count.append(x)"
   ]
  },
  {
   "cell_type": "code",
   "execution_count": 28,
   "id": "6f2ddaa7",
   "metadata": {},
   "outputs": [],
   "source": [
    "textfile = open(\"product5.txt\", \"w\")\n",
    "for element in column_count:\n",
    "    textfile.write(element + \"\\n\")\n",
    "textfile.close()"
   ]
  },
  {
   "cell_type": "code",
   "execution_count": 111,
   "id": "8c8bc9ad",
   "metadata": {},
   "outputs": [
    {
     "data": {
      "text/plain": [
       "3020558"
      ]
     },
     "execution_count": 111,
     "metadata": {},
     "output_type": "execute_result"
    }
   ],
   "source": [
    "len(column_count)"
   ]
  },
  {
   "cell_type": "code",
   "execution_count": 2,
   "id": "ca291afd",
   "metadata": {},
   "outputs": [
    {
     "ename": "FileNotFoundError",
     "evalue": "[Errno 2] No such file or directory: 'untitled1.txt'",
     "output_type": "error",
     "traceback": [
      "\u001b[0;31m---------------------------------------------------------------------------\u001b[0m",
      "\u001b[0;31mFileNotFoundError\u001b[0m                         Traceback (most recent call last)",
      "\u001b[0;32m<ipython-input-2-fd370796d146>\u001b[0m in \u001b[0;36m<module>\u001b[0;34m\u001b[0m\n\u001b[0;32m----> 1\u001b[0;31m \u001b[0mmy_file\u001b[0m \u001b[0;34m=\u001b[0m \u001b[0mopen\u001b[0m\u001b[0;34m(\u001b[0m\u001b[0;34m\"untitled1.txt\"\u001b[0m\u001b[0;34m,\u001b[0m \u001b[0;34m\"r\"\u001b[0m\u001b[0;34m)\u001b[0m\u001b[0;34m\u001b[0m\u001b[0;34m\u001b[0m\u001b[0m\n\u001b[0m\u001b[1;32m      2\u001b[0m \u001b[0mcolumn_count\u001b[0m \u001b[0;34m=\u001b[0m \u001b[0mmy_file\u001b[0m\u001b[0;34m.\u001b[0m\u001b[0mread\u001b[0m\u001b[0;34m(\u001b[0m\u001b[0;34m)\u001b[0m\u001b[0;34m\u001b[0m\u001b[0;34m\u001b[0m\u001b[0m\n",
      "\u001b[0;31mFileNotFoundError\u001b[0m: [Errno 2] No such file or directory: 'untitled1.txt'"
     ]
    }
   ],
   "source": [
    "my_file = open(\"product5.txt\", \"r\")\n",
    "column_count = my_file.read()"
   ]
  },
  {
   "cell_type": "code",
   "execution_count": 29,
   "id": "23b4bbfb",
   "metadata": {},
   "outputs": [
    {
     "data": {
      "text/html": [
       "<div>\n",
       "<style scoped>\n",
       "    .dataframe tbody tr th:only-of-type {\n",
       "        vertical-align: middle;\n",
       "    }\n",
       "\n",
       "    .dataframe tbody tr th {\n",
       "        vertical-align: top;\n",
       "    }\n",
       "\n",
       "    .dataframe thead th {\n",
       "        text-align: right;\n",
       "    }\n",
       "</style>\n",
       "<table border=\"1\" class=\"dataframe\">\n",
       "  <thead>\n",
       "    <tr style=\"text-align: right;\">\n",
       "      <th></th>\n",
       "      <th>0</th>\n",
       "      <th>count</th>\n",
       "      <th>num_tables</th>\n",
       "      <th>percentage</th>\n",
       "    </tr>\n",
       "  </thead>\n",
       "  <tbody>\n",
       "    <tr>\n",
       "      <th>0</th>\n",
       "      <td></td>\n",
       "      <td>11</td>\n",
       "      <td>435182</td>\n",
       "      <td>0.000025</td>\n",
       "    </tr>\n",
       "    <tr>\n",
       "      <th>1</th>\n",
       "      <td>0</td>\n",
       "      <td>3</td>\n",
       "      <td>435182</td>\n",
       "      <td>0.000007</td>\n",
       "    </tr>\n",
       "    <tr>\n",
       "      <th>2</th>\n",
       "      <td>1495718282</td>\n",
       "      <td>1</td>\n",
       "      <td>435182</td>\n",
       "      <td>0.000002</td>\n",
       "    </tr>\n",
       "    <tr>\n",
       "      <th>3</th>\n",
       "      <td>1553368827</td>\n",
       "      <td>1</td>\n",
       "      <td>435182</td>\n",
       "      <td>0.000002</td>\n",
       "    </tr>\n",
       "    <tr>\n",
       "      <th>4</th>\n",
       "      <td>&lt;br</td>\n",
       "      <td>1</td>\n",
       "      <td>435182</td>\n",
       "      <td>0.000002</td>\n",
       "    </tr>\n",
       "    <tr>\n",
       "      <th>...</th>\n",
       "      <td>...</td>\n",
       "      <td>...</td>\n",
       "      <td>...</td>\n",
       "      <td>...</td>\n",
       "    </tr>\n",
       "    <tr>\n",
       "      <th>1423</th>\n",
       "      <td>yemkost</td>\n",
       "      <td>1</td>\n",
       "      <td>435182</td>\n",
       "      <td>0.000002</td>\n",
       "    </tr>\n",
       "    <tr>\n",
       "      <th>1424</th>\n",
       "      <td>z</td>\n",
       "      <td>1</td>\n",
       "      <td>435182</td>\n",
       "      <td>0.000002</td>\n",
       "    </tr>\n",
       "    <tr>\n",
       "      <th>1425</th>\n",
       "      <td>z59</td>\n",
       "      <td>1</td>\n",
       "      <td>435182</td>\n",
       "      <td>0.000002</td>\n",
       "    </tr>\n",
       "    <tr>\n",
       "      <th>1426</th>\n",
       "      <td>zaglublenie</td>\n",
       "      <td>1</td>\n",
       "      <td>435182</td>\n",
       "      <td>0.000002</td>\n",
       "    </tr>\n",
       "    <tr>\n",
       "      <th>1427</th>\n",
       "      <td>zona</td>\n",
       "      <td>1</td>\n",
       "      <td>435182</td>\n",
       "      <td>0.000002</td>\n",
       "    </tr>\n",
       "  </tbody>\n",
       "</table>\n",
       "<p>1428 rows × 4 columns</p>\n",
       "</div>"
      ],
      "text/plain": [
       "                0  count  num_tables  percentage\n",
       "0                     11      435182    0.000025\n",
       "1               0      3      435182    0.000007\n",
       "2      1495718282      1      435182    0.000002\n",
       "3      1553368827      1      435182    0.000002\n",
       "4             <br      1      435182    0.000002\n",
       "...           ...    ...         ...         ...\n",
       "1423      yemkost      1      435182    0.000002\n",
       "1424            z      1      435182    0.000002\n",
       "1425          z59      1      435182    0.000002\n",
       "1426  zaglublenie      1      435182    0.000002\n",
       "1427         zona      1      435182    0.000002\n",
       "\n",
       "[1428 rows x 4 columns]"
      ]
     },
     "execution_count": 29,
     "metadata": {},
     "output_type": "execute_result"
    }
   ],
   "source": [
    "test = pd.DataFrame(column_count)\n",
    "test['count']=0\n",
    "test['num_tables'] = 435182\n",
    "test = test.groupby(0).agg({'count':'count','num_tables':'first'}).reset_index()\n",
    "test['percentage'] = test['count']/test['num_tables']\n",
    "test"
   ]
  },
  {
   "cell_type": "code",
   "execution_count": 35,
   "id": "92635148",
   "metadata": {},
   "outputs": [],
   "source": [
    "test.sort_values(by='percentage', ascending=False).to_csv('Product_stats.csv', header=False)"
   ]
  },
  {
   "cell_type": "code",
   "execution_count": 31,
   "id": "0930d37e",
   "metadata": {},
   "outputs": [
    {
     "ename": "KeyboardInterrupt",
     "evalue": "",
     "output_type": "error",
     "traceback": [
      "\u001b[0;31m---------------------------------------------------------------------------\u001b[0m",
      "\u001b[0;31mKeyboardInterrupt\u001b[0m                         Traceback (most recent call last)",
      "\u001b[0;32m<ipython-input-31-013de1490a28>\u001b[0m in \u001b[0;36m<module>\u001b[0;34m\u001b[0m\n\u001b[0;32m----> 1\u001b[0;31m \u001b[0my_dict\u001b[0m \u001b[0;34m=\u001b[0m \u001b[0;34m{\u001b[0m\u001b[0mi\u001b[0m\u001b[0;34m:\u001b[0m\u001b[0mcolumn_count\u001b[0m\u001b[0;34m.\u001b[0m\u001b[0mcount\u001b[0m\u001b[0;34m(\u001b[0m\u001b[0mi\u001b[0m\u001b[0;34m)\u001b[0m \u001b[0;34m/\u001b[0m \u001b[0;36m435182\u001b[0m \u001b[0;32mfor\u001b[0m \u001b[0mi\u001b[0m \u001b[0;32min\u001b[0m \u001b[0mcolumn_count\u001b[0m\u001b[0;34m}\u001b[0m\u001b[0;34m\u001b[0m\u001b[0;34m\u001b[0m\u001b[0m\n\u001b[0m\u001b[1;32m      2\u001b[0m \u001b[0mdisplay\u001b[0m\u001b[0;34m(\u001b[0m\u001b[0my_dict\u001b[0m\u001b[0;34m)\u001b[0m\u001b[0;34m\u001b[0m\u001b[0;34m\u001b[0m\u001b[0m\n",
      "\u001b[0;32m<ipython-input-31-013de1490a28>\u001b[0m in \u001b[0;36m<dictcomp>\u001b[0;34m(.0)\u001b[0m\n\u001b[0;32m----> 1\u001b[0;31m \u001b[0my_dict\u001b[0m \u001b[0;34m=\u001b[0m \u001b[0;34m{\u001b[0m\u001b[0mi\u001b[0m\u001b[0;34m:\u001b[0m\u001b[0mcolumn_count\u001b[0m\u001b[0;34m.\u001b[0m\u001b[0mcount\u001b[0m\u001b[0;34m(\u001b[0m\u001b[0mi\u001b[0m\u001b[0;34m)\u001b[0m \u001b[0;34m/\u001b[0m \u001b[0;36m435182\u001b[0m \u001b[0;32mfor\u001b[0m \u001b[0mi\u001b[0m \u001b[0;32min\u001b[0m \u001b[0mcolumn_count\u001b[0m\u001b[0;34m}\u001b[0m\u001b[0;34m\u001b[0m\u001b[0;34m\u001b[0m\u001b[0m\n\u001b[0m\u001b[1;32m      2\u001b[0m \u001b[0mdisplay\u001b[0m\u001b[0;34m(\u001b[0m\u001b[0my_dict\u001b[0m\u001b[0;34m)\u001b[0m\u001b[0;34m\u001b[0m\u001b[0;34m\u001b[0m\u001b[0m\n",
      "\u001b[0;31mKeyboardInterrupt\u001b[0m: "
     ]
    }
   ],
   "source": [
    "y_dict = {i:column_count.count(i) / 435182 for i in column_count}\n",
    "display(y_dict)"
   ]
  },
  {
   "cell_type": "code",
   "execution_count": null,
   "id": "2b20a881",
   "metadata": {},
   "outputs": [],
   "source": [
    "dict_sorted = dict(sorted(y_dict.items(), key=lambda item: item[1]))\n",
    "(pd.DataFrame.from_dict(data=dict_sorted, orient='index').to_csv('Product_stats.csv', header=False))"
   ]
  },
  {
   "cell_type": "code",
   "execution_count": null,
   "id": "43748f3f",
   "metadata": {},
   "outputs": [],
   "source": []
  },
  {
   "cell_type": "code",
   "execution_count": null,
   "id": "4624eb35",
   "metadata": {},
   "outputs": [],
   "source": []
  },
  {
   "cell_type": "code",
   "execution_count": null,
   "id": "a9f513b9",
   "metadata": {},
   "outputs": [],
   "source": []
  },
  {
   "cell_type": "code",
   "execution_count": 33,
   "id": "95578ee4",
   "metadata": {},
   "outputs": [],
   "source": [
    "person.rename(columns={'7.79423226812159e-05': 'percentage'}, inplace=True)"
   ]
  },
  {
   "cell_type": "code",
   "execution_count": 34,
   "id": "c5b5373b",
   "metadata": {},
   "outputs": [],
   "source": [
    "person_desc = person.sort_values('percentage', ascending = False)"
   ]
  },
  {
   "cell_type": "code",
   "execution_count": 35,
   "id": "2a0e69e2",
   "metadata": {},
   "outputs": [
    {
     "data": {
      "text/html": [
       "<div>\n",
       "<style scoped>\n",
       "    .dataframe tbody tr th:only-of-type {\n",
       "        vertical-align: middle;\n",
       "    }\n",
       "\n",
       "    .dataframe tbody tr th {\n",
       "        vertical-align: top;\n",
       "    }\n",
       "\n",
       "    .dataframe thead th {\n",
       "        text-align: right;\n",
       "    }\n",
       "</style>\n",
       "<table border=\"1\" class=\"dataframe\">\n",
       "  <thead>\n",
       "    <tr style=\"text-align: right;\">\n",
       "      <th></th>\n",
       "      <th>givennamemeanings</th>\n",
       "      <th>percentage</th>\n",
       "    </tr>\n",
       "  </thead>\n",
       "  <tbody>\n",
       "    <tr>\n",
       "      <th>238</th>\n",
       "      <td>page_url</td>\n",
       "      <td>1.000000</td>\n",
       "    </tr>\n",
       "    <tr>\n",
       "      <th>237</th>\n",
       "      <td>row_id</td>\n",
       "      <td>1.000000</td>\n",
       "    </tr>\n",
       "    <tr>\n",
       "      <th>236</th>\n",
       "      <td>name</td>\n",
       "      <td>0.911769</td>\n",
       "    </tr>\n",
       "    <tr>\n",
       "      <th>235</th>\n",
       "      <td>description</td>\n",
       "      <td>0.609899</td>\n",
       "    </tr>\n",
       "    <tr>\n",
       "      <th>234</th>\n",
       "      <td>image</td>\n",
       "      <td>0.604677</td>\n",
       "    </tr>\n",
       "  </tbody>\n",
       "</table>\n",
       "</div>"
      ],
      "text/plain": [
       "    givennamemeanings  percentage\n",
       "238          page_url    1.000000\n",
       "237            row_id    1.000000\n",
       "236              name    0.911769\n",
       "235       description    0.609899\n",
       "234             image    0.604677"
      ]
     },
     "metadata": {},
     "output_type": "display_data"
    }
   ],
   "source": [
    "display(person_desc[person_desc['percentage']>= 0.5])"
   ]
  },
  {
   "cell_type": "code",
   "execution_count": 36,
   "id": "73f139d5",
   "metadata": {},
   "outputs": [
    {
     "data": {
      "text/html": [
       "<div>\n",
       "<style scoped>\n",
       "    .dataframe tbody tr th:only-of-type {\n",
       "        vertical-align: middle;\n",
       "    }\n",
       "\n",
       "    .dataframe tbody tr th {\n",
       "        vertical-align: top;\n",
       "    }\n",
       "\n",
       "    .dataframe thead th {\n",
       "        text-align: right;\n",
       "    }\n",
       "</style>\n",
       "<table border=\"1\" class=\"dataframe\">\n",
       "  <thead>\n",
       "    <tr style=\"text-align: right;\">\n",
       "      <th></th>\n",
       "      <th>givennamemeanings</th>\n",
       "      <th>percentage</th>\n",
       "    </tr>\n",
       "  </thead>\n",
       "  <tbody>\n",
       "    <tr>\n",
       "      <th>238</th>\n",
       "      <td>page_url</td>\n",
       "      <td>1.000000</td>\n",
       "    </tr>\n",
       "    <tr>\n",
       "      <th>237</th>\n",
       "      <td>row_id</td>\n",
       "      <td>1.000000</td>\n",
       "    </tr>\n",
       "    <tr>\n",
       "      <th>236</th>\n",
       "      <td>name</td>\n",
       "      <td>0.911769</td>\n",
       "    </tr>\n",
       "    <tr>\n",
       "      <th>235</th>\n",
       "      <td>description</td>\n",
       "      <td>0.609899</td>\n",
       "    </tr>\n",
       "    <tr>\n",
       "      <th>234</th>\n",
       "      <td>image</td>\n",
       "      <td>0.604677</td>\n",
       "    </tr>\n",
       "    <tr>\n",
       "      <th>233</th>\n",
       "      <td>mainentityofpage</td>\n",
       "      <td>0.492751</td>\n",
       "    </tr>\n",
       "    <tr>\n",
       "      <th>232</th>\n",
       "      <td>jobtitle</td>\n",
       "      <td>0.137256</td>\n",
       "    </tr>\n",
       "    <tr>\n",
       "      <th>231</th>\n",
       "      <td>birthdate</td>\n",
       "      <td>0.126033</td>\n",
       "    </tr>\n",
       "    <tr>\n",
       "      <th>230</th>\n",
       "      <td>givenname</td>\n",
       "      <td>0.120265</td>\n",
       "    </tr>\n",
       "    <tr>\n",
       "      <th>229</th>\n",
       "      <td>familyname</td>\n",
       "      <td>0.118394</td>\n",
       "    </tr>\n",
       "    <tr>\n",
       "      <th>228</th>\n",
       "      <td>telephone</td>\n",
       "      <td>0.117225</td>\n",
       "    </tr>\n",
       "    <tr>\n",
       "      <th>227</th>\n",
       "      <td>email</td>\n",
       "      <td>0.109275</td>\n",
       "    </tr>\n",
       "    <tr>\n",
       "      <th>226</th>\n",
       "      <td>deathdate</td>\n",
       "      <td>0.081528</td>\n",
       "    </tr>\n",
       "    <tr>\n",
       "      <th>225</th>\n",
       "      <td>additionalname</td>\n",
       "      <td>0.079267</td>\n",
       "    </tr>\n",
       "    <tr>\n",
       "      <th>224</th>\n",
       "      <td>url</td>\n",
       "      <td>0.062432</td>\n",
       "    </tr>\n",
       "  </tbody>\n",
       "</table>\n",
       "</div>"
      ],
      "text/plain": [
       "    givennamemeanings  percentage\n",
       "238          page_url    1.000000\n",
       "237            row_id    1.000000\n",
       "236              name    0.911769\n",
       "235       description    0.609899\n",
       "234             image    0.604677\n",
       "233  mainentityofpage    0.492751\n",
       "232          jobtitle    0.137256\n",
       "231         birthdate    0.126033\n",
       "230         givenname    0.120265\n",
       "229        familyname    0.118394\n",
       "228         telephone    0.117225\n",
       "227             email    0.109275\n",
       "226         deathdate    0.081528\n",
       "225    additionalname    0.079267\n",
       "224               url    0.062432"
      ]
     },
     "metadata": {},
     "output_type": "display_data"
    }
   ],
   "source": [
    "display(person_desc[:15])"
   ]
  },
  {
   "cell_type": "code",
   "execution_count": 37,
   "id": "df6aa328",
   "metadata": {},
   "outputs": [
    {
     "data": {
      "text/html": [
       "<div>\n",
       "<style scoped>\n",
       "    .dataframe tbody tr th:only-of-type {\n",
       "        vertical-align: middle;\n",
       "    }\n",
       "\n",
       "    .dataframe tbody tr th {\n",
       "        vertical-align: top;\n",
       "    }\n",
       "\n",
       "    .dataframe thead th {\n",
       "        text-align: right;\n",
       "    }\n",
       "</style>\n",
       "<table border=\"1\" class=\"dataframe\">\n",
       "  <thead>\n",
       "    <tr style=\"text-align: right;\">\n",
       "      <th></th>\n",
       "      <th>person_columnname</th>\n",
       "      <th>percentage</th>\n",
       "    </tr>\n",
       "  </thead>\n",
       "  <tbody>\n",
       "    <tr>\n",
       "      <th>238</th>\n",
       "      <td>page_url</td>\n",
       "      <td>1.000000</td>\n",
       "    </tr>\n",
       "    <tr>\n",
       "      <th>237</th>\n",
       "      <td>row_id</td>\n",
       "      <td>1.000000</td>\n",
       "    </tr>\n",
       "    <tr>\n",
       "      <th>236</th>\n",
       "      <td>name</td>\n",
       "      <td>0.911769</td>\n",
       "    </tr>\n",
       "    <tr>\n",
       "      <th>235</th>\n",
       "      <td>description</td>\n",
       "      <td>0.609899</td>\n",
       "    </tr>\n",
       "    <tr>\n",
       "      <th>234</th>\n",
       "      <td>image</td>\n",
       "      <td>0.604677</td>\n",
       "    </tr>\n",
       "  </tbody>\n",
       "</table>\n",
       "</div>"
      ],
      "text/plain": [
       "    person_columnname  percentage\n",
       "238          page_url    1.000000\n",
       "237            row_id    1.000000\n",
       "236              name    0.911769\n",
       "235       description    0.609899\n",
       "234             image    0.604677"
      ]
     },
     "execution_count": 37,
     "metadata": {},
     "output_type": "execute_result"
    }
   ],
   "source": [
    "person_desc.rename(columns={'givennamemeanings': 'person_columnname'}, inplace=True)\n",
    "person_desc.head()"
   ]
  },
  {
   "cell_type": "code",
   "execution_count": 38,
   "id": "41c4db8d",
   "metadata": {},
   "outputs": [
    {
     "data": {
      "text/html": [
       "<div>\n",
       "<style scoped>\n",
       "    .dataframe tbody tr th:only-of-type {\n",
       "        vertical-align: middle;\n",
       "    }\n",
       "\n",
       "    .dataframe tbody tr th {\n",
       "        vertical-align: top;\n",
       "    }\n",
       "\n",
       "    .dataframe thead th {\n",
       "        text-align: right;\n",
       "    }\n",
       "</style>\n",
       "<table border=\"1\" class=\"dataframe\">\n",
       "  <thead>\n",
       "    <tr style=\"text-align: right;\">\n",
       "      <th></th>\n",
       "      <th>person_columnname</th>\n",
       "      <th>percentage</th>\n",
       "    </tr>\n",
       "  </thead>\n",
       "  <tbody>\n",
       "    <tr>\n",
       "      <th>238</th>\n",
       "      <td>page_url</td>\n",
       "      <td>1.000000</td>\n",
       "    </tr>\n",
       "    <tr>\n",
       "      <th>237</th>\n",
       "      <td>row_id</td>\n",
       "      <td>1.000000</td>\n",
       "    </tr>\n",
       "    <tr>\n",
       "      <th>236</th>\n",
       "      <td>name</td>\n",
       "      <td>0.911769</td>\n",
       "    </tr>\n",
       "    <tr>\n",
       "      <th>235</th>\n",
       "      <td>description</td>\n",
       "      <td>0.609899</td>\n",
       "    </tr>\n",
       "    <tr>\n",
       "      <th>234</th>\n",
       "      <td>image</td>\n",
       "      <td>0.604677</td>\n",
       "    </tr>\n",
       "    <tr>\n",
       "      <th>233</th>\n",
       "      <td>mainentityofpage</td>\n",
       "      <td>0.492751</td>\n",
       "    </tr>\n",
       "    <tr>\n",
       "      <th>232</th>\n",
       "      <td>jobtitle</td>\n",
       "      <td>0.137256</td>\n",
       "    </tr>\n",
       "    <tr>\n",
       "      <th>231</th>\n",
       "      <td>birthdate</td>\n",
       "      <td>0.126033</td>\n",
       "    </tr>\n",
       "    <tr>\n",
       "      <th>230</th>\n",
       "      <td>givenname</td>\n",
       "      <td>0.120265</td>\n",
       "    </tr>\n",
       "    <tr>\n",
       "      <th>229</th>\n",
       "      <td>familyname</td>\n",
       "      <td>0.118394</td>\n",
       "    </tr>\n",
       "    <tr>\n",
       "      <th>228</th>\n",
       "      <td>telephone</td>\n",
       "      <td>0.117225</td>\n",
       "    </tr>\n",
       "    <tr>\n",
       "      <th>227</th>\n",
       "      <td>email</td>\n",
       "      <td>0.109275</td>\n",
       "    </tr>\n",
       "    <tr>\n",
       "      <th>226</th>\n",
       "      <td>deathdate</td>\n",
       "      <td>0.081528</td>\n",
       "    </tr>\n",
       "    <tr>\n",
       "      <th>225</th>\n",
       "      <td>additionalname</td>\n",
       "      <td>0.079267</td>\n",
       "    </tr>\n",
       "    <tr>\n",
       "      <th>224</th>\n",
       "      <td>url</td>\n",
       "      <td>0.062432</td>\n",
       "    </tr>\n",
       "  </tbody>\n",
       "</table>\n",
       "</div>"
      ],
      "text/plain": [
       "    person_columnname  percentage\n",
       "238          page_url    1.000000\n",
       "237            row_id    1.000000\n",
       "236              name    0.911769\n",
       "235       description    0.609899\n",
       "234             image    0.604677\n",
       "233  mainentityofpage    0.492751\n",
       "232          jobtitle    0.137256\n",
       "231         birthdate    0.126033\n",
       "230         givenname    0.120265\n",
       "229        familyname    0.118394\n",
       "228         telephone    0.117225\n",
       "227             email    0.109275\n",
       "226         deathdate    0.081528\n",
       "225    additionalname    0.079267\n",
       "224               url    0.062432"
      ]
     },
     "metadata": {},
     "output_type": "display_data"
    }
   ],
   "source": [
    "person = person_desc\n",
    "display(person[:15])"
   ]
  },
  {
   "cell_type": "markdown",
   "id": "4ed46bd3",
   "metadata": {},
   "source": [
    "## Movie"
   ]
  },
  {
   "cell_type": "code",
   "execution_count": 10,
   "id": "d771cda7",
   "metadata": {},
   "outputs": [
    {
     "data": {
      "text/html": [
       "<div>\n",
       "<style scoped>\n",
       "    .dataframe tbody tr th:only-of-type {\n",
       "        vertical-align: middle;\n",
       "    }\n",
       "\n",
       "    .dataframe tbody tr th {\n",
       "        vertical-align: top;\n",
       "    }\n",
       "\n",
       "    .dataframe thead th {\n",
       "        text-align: right;\n",
       "    }\n",
       "</style>\n",
       "<table border=\"1\" class=\"dataframe\">\n",
       "  <thead>\n",
       "    <tr style=\"text-align: right;\">\n",
       "      <th></th>\n",
       "      <th>translator</th>\n",
       "      <th>7.79423226812159e-05</th>\n",
       "    </tr>\n",
       "  </thead>\n",
       "  <tbody>\n",
       "    <tr>\n",
       "      <th>0</th>\n",
       "      <td>audience</td>\n",
       "      <td>0.000078</td>\n",
       "    </tr>\n",
       "    <tr>\n",
       "      <th>1</th>\n",
       "      <td>audio</td>\n",
       "      <td>0.000078</td>\n",
       "    </tr>\n",
       "    <tr>\n",
       "      <th>2</th>\n",
       "      <td>date</td>\n",
       "      <td>0.000078</td>\n",
       "    </tr>\n",
       "    <tr>\n",
       "      <th>3</th>\n",
       "      <td>ispartof</td>\n",
       "      <td>0.000078</td>\n",
       "    </tr>\n",
       "    <tr>\n",
       "      <th>4</th>\n",
       "      <td>reviewcount</td>\n",
       "      <td>0.000078</td>\n",
       "    </tr>\n",
       "    <tr>\n",
       "      <th>...</th>\n",
       "      <td>...</td>\n",
       "      <td>...</td>\n",
       "    </tr>\n",
       "    <tr>\n",
       "      <th>107</th>\n",
       "      <td>director</td>\n",
       "      <td>0.062354</td>\n",
       "    </tr>\n",
       "    <tr>\n",
       "      <th>108</th>\n",
       "      <td>description</td>\n",
       "      <td>0.078800</td>\n",
       "    </tr>\n",
       "    <tr>\n",
       "      <th>109</th>\n",
       "      <td>name</td>\n",
       "      <td>0.102494</td>\n",
       "    </tr>\n",
       "    <tr>\n",
       "      <th>110</th>\n",
       "      <td>row_id</td>\n",
       "      <td>0.106703</td>\n",
       "    </tr>\n",
       "    <tr>\n",
       "      <th>111</th>\n",
       "      <td>page_url</td>\n",
       "      <td>0.106703</td>\n",
       "    </tr>\n",
       "  </tbody>\n",
       "</table>\n",
       "<p>112 rows × 2 columns</p>\n",
       "</div>"
      ],
      "text/plain": [
       "      translator  7.79423226812159e-05\n",
       "0       audience              0.000078\n",
       "1          audio              0.000078\n",
       "2           date              0.000078\n",
       "3       ispartof              0.000078\n",
       "4    reviewcount              0.000078\n",
       "..           ...                   ...\n",
       "107     director              0.062354\n",
       "108  description              0.078800\n",
       "109         name              0.102494\n",
       "110       row_id              0.106703\n",
       "111     page_url              0.106703\n",
       "\n",
       "[112 rows x 2 columns]"
      ]
     },
     "metadata": {},
     "output_type": "display_data"
    }
   ],
   "source": [
    "movie = pd.read_csv(path + 'Movie_stats.csv')\n",
    "display(movie)"
   ]
  },
  {
   "cell_type": "code",
   "execution_count": 11,
   "id": "7c4f69ce",
   "metadata": {},
   "outputs": [],
   "source": [
    "movie.rename(columns={'7.79423226812159e-05': 'percentage'}, inplace=True)\n",
    "movie.rename(columns={'translator': 'movie_columnname'}, inplace=True)\n",
    "movie_desc = movie.sort_values('percentage', ascending = False)"
   ]
  },
  {
   "cell_type": "code",
   "execution_count": 12,
   "id": "32cdea11",
   "metadata": {},
   "outputs": [
    {
     "data": {
      "text/html": [
       "<div>\n",
       "<style scoped>\n",
       "    .dataframe tbody tr th:only-of-type {\n",
       "        vertical-align: middle;\n",
       "    }\n",
       "\n",
       "    .dataframe tbody tr th {\n",
       "        vertical-align: top;\n",
       "    }\n",
       "\n",
       "    .dataframe thead th {\n",
       "        text-align: right;\n",
       "    }\n",
       "</style>\n",
       "<table border=\"1\" class=\"dataframe\">\n",
       "  <thead>\n",
       "    <tr style=\"text-align: right;\">\n",
       "      <th></th>\n",
       "      <th>movie_columnname</th>\n",
       "      <th>percentage</th>\n",
       "    </tr>\n",
       "  </thead>\n",
       "  <tbody>\n",
       "    <tr>\n",
       "      <th>111</th>\n",
       "      <td>page_url</td>\n",
       "      <td>0.106703</td>\n",
       "    </tr>\n",
       "    <tr>\n",
       "      <th>110</th>\n",
       "      <td>row_id</td>\n",
       "      <td>0.106703</td>\n",
       "    </tr>\n",
       "    <tr>\n",
       "      <th>109</th>\n",
       "      <td>name</td>\n",
       "      <td>0.102494</td>\n",
       "    </tr>\n",
       "  </tbody>\n",
       "</table>\n",
       "</div>"
      ],
      "text/plain": [
       "    movie_columnname  percentage\n",
       "111         page_url    0.106703\n",
       "110           row_id    0.106703\n",
       "109             name    0.102494"
      ]
     },
     "metadata": {},
     "output_type": "display_data"
    }
   ],
   "source": [
    "display(movie_desc[movie_desc['percentage']>= 0.1])"
   ]
  },
  {
   "cell_type": "code",
   "execution_count": 16,
   "id": "d653c155",
   "metadata": {},
   "outputs": [
    {
     "name": "stdout",
     "output_type": "stream",
     "text": [
      "1369\n"
     ]
    }
   ],
   "source": [
    "print(len(os.listdir(path + 'data/Movie/All')))"
   ]
  },
  {
   "cell_type": "code",
   "execution_count": 18,
   "id": "7cf9e25c",
   "metadata": {},
   "outputs": [],
   "source": [
    "movie_desc['tables'] = (movie_desc['percentage'] * (len(os.listdir(path + 'data/Movie/All'))))"
   ]
  },
  {
   "cell_type": "markdown",
   "id": "3c4f722d",
   "metadata": {},
   "source": [
    "### Movie tables"
   ]
  },
  {
   "cell_type": "code",
   "execution_count": 19,
   "id": "924841b7",
   "metadata": {},
   "outputs": [
    {
     "data": {
      "text/html": [
       "<div>\n",
       "<style scoped>\n",
       "    .dataframe tbody tr th:only-of-type {\n",
       "        vertical-align: middle;\n",
       "    }\n",
       "\n",
       "    .dataframe tbody tr th {\n",
       "        vertical-align: top;\n",
       "    }\n",
       "\n",
       "    .dataframe thead th {\n",
       "        text-align: right;\n",
       "    }\n",
       "</style>\n",
       "<table border=\"1\" class=\"dataframe\">\n",
       "  <thead>\n",
       "    <tr style=\"text-align: right;\">\n",
       "      <th></th>\n",
       "      <th>movie_columnname</th>\n",
       "      <th>movie_percentage</th>\n",
       "      <th>movie_tables</th>\n",
       "    </tr>\n",
       "  </thead>\n",
       "  <tbody>\n",
       "    <tr>\n",
       "      <th>111</th>\n",
       "      <td>page_url</td>\n",
       "      <td>0.106703</td>\n",
       "      <td>146.076461</td>\n",
       "    </tr>\n",
       "    <tr>\n",
       "      <th>110</th>\n",
       "      <td>row_id</td>\n",
       "      <td>0.106703</td>\n",
       "      <td>146.076461</td>\n",
       "    </tr>\n",
       "    <tr>\n",
       "      <th>109</th>\n",
       "      <td>name</td>\n",
       "      <td>0.102494</td>\n",
       "      <td>140.314497</td>\n",
       "    </tr>\n",
       "    <tr>\n",
       "      <th>108</th>\n",
       "      <td>description</td>\n",
       "      <td>0.078800</td>\n",
       "      <td>107.876773</td>\n",
       "    </tr>\n",
       "    <tr>\n",
       "      <th>107</th>\n",
       "      <td>director</td>\n",
       "      <td>0.062354</td>\n",
       "      <td>85.362432</td>\n",
       "    </tr>\n",
       "    <tr>\n",
       "      <th>106</th>\n",
       "      <td>aggregaterating</td>\n",
       "      <td>0.049337</td>\n",
       "      <td>67.543024</td>\n",
       "    </tr>\n",
       "    <tr>\n",
       "      <th>105</th>\n",
       "      <td>datecreated</td>\n",
       "      <td>0.041465</td>\n",
       "      <td>56.766017</td>\n",
       "    </tr>\n",
       "    <tr>\n",
       "      <th>104</th>\n",
       "      <td>duration</td>\n",
       "      <td>0.039439</td>\n",
       "      <td>53.991738</td>\n",
       "    </tr>\n",
       "    <tr>\n",
       "      <th>103</th>\n",
       "      <td>genre</td>\n",
       "      <td>0.037490</td>\n",
       "      <td>51.324162</td>\n",
       "    </tr>\n",
       "    <tr>\n",
       "      <th>102</th>\n",
       "      <td>datepublished</td>\n",
       "      <td>0.037256</td>\n",
       "      <td>51.004053</td>\n",
       "    </tr>\n",
       "    <tr>\n",
       "      <th>101</th>\n",
       "      <td>actor</td>\n",
       "      <td>0.033983</td>\n",
       "      <td>46.522525</td>\n",
       "    </tr>\n",
       "    <tr>\n",
       "      <th>100</th>\n",
       "      <td>headline</td>\n",
       "      <td>0.026968</td>\n",
       "      <td>36.919252</td>\n",
       "    </tr>\n",
       "    <tr>\n",
       "      <th>99</th>\n",
       "      <td>image</td>\n",
       "      <td>0.022915</td>\n",
       "      <td>31.370694</td>\n",
       "    </tr>\n",
       "    <tr>\n",
       "      <th>98</th>\n",
       "      <td>url</td>\n",
       "      <td>0.021980</td>\n",
       "      <td>30.090257</td>\n",
       "    </tr>\n",
       "    <tr>\n",
       "      <th>97</th>\n",
       "      <td>actors</td>\n",
       "      <td>0.020421</td>\n",
       "      <td>27.956196</td>\n",
       "    </tr>\n",
       "  </tbody>\n",
       "</table>\n",
       "</div>"
      ],
      "text/plain": [
       "    movie_columnname  movie_percentage  movie_tables\n",
       "111         page_url          0.106703    146.076461\n",
       "110           row_id          0.106703    146.076461\n",
       "109             name          0.102494    140.314497\n",
       "108      description          0.078800    107.876773\n",
       "107         director          0.062354     85.362432\n",
       "106  aggregaterating          0.049337     67.543024\n",
       "105      datecreated          0.041465     56.766017\n",
       "104         duration          0.039439     53.991738\n",
       "103            genre          0.037490     51.324162\n",
       "102    datepublished          0.037256     51.004053\n",
       "101            actor          0.033983     46.522525\n",
       "100         headline          0.026968     36.919252\n",
       "99             image          0.022915     31.370694\n",
       "98               url          0.021980     30.090257\n",
       "97            actors          0.020421     27.956196"
      ]
     },
     "metadata": {},
     "output_type": "display_data"
    }
   ],
   "source": [
    "movie_desc.rename(columns={'percentage': 'movie_percentage'}, inplace=True)\n",
    "movie_desc.rename(columns={'tables':'movie_tables'}, inplace=True)\n",
    "display(movie_desc[:15])"
   ]
  },
  {
   "cell_type": "code",
   "execution_count": 28,
   "id": "7de5ab18",
   "metadata": {},
   "outputs": [
    {
     "data": {
      "text/html": [
       "<div>\n",
       "<style scoped>\n",
       "    .dataframe tbody tr th:only-of-type {\n",
       "        vertical-align: middle;\n",
       "    }\n",
       "\n",
       "    .dataframe tbody tr th {\n",
       "        vertical-align: top;\n",
       "    }\n",
       "\n",
       "    .dataframe thead th {\n",
       "        text-align: right;\n",
       "    }\n",
       "</style>\n",
       "<table border=\"1\" class=\"dataframe\">\n",
       "  <thead>\n",
       "    <tr style=\"text-align: right;\">\n",
       "      <th></th>\n",
       "      <th>movie_columnname</th>\n",
       "      <th>movie_percentage</th>\n",
       "      <th>movie_tables</th>\n",
       "    </tr>\n",
       "  </thead>\n",
       "  <tbody>\n",
       "    <tr>\n",
       "      <th>109</th>\n",
       "      <td>name</td>\n",
       "      <td>0.102494</td>\n",
       "      <td>140.314497</td>\n",
       "    </tr>\n",
       "    <tr>\n",
       "      <th>108</th>\n",
       "      <td>description</td>\n",
       "      <td>0.078800</td>\n",
       "      <td>107.876773</td>\n",
       "    </tr>\n",
       "    <tr>\n",
       "      <th>107</th>\n",
       "      <td>director</td>\n",
       "      <td>0.062354</td>\n",
       "      <td>85.362432</td>\n",
       "    </tr>\n",
       "    <tr>\n",
       "      <th>106</th>\n",
       "      <td>aggregaterating</td>\n",
       "      <td>0.049337</td>\n",
       "      <td>67.543024</td>\n",
       "    </tr>\n",
       "    <tr>\n",
       "      <th>105</th>\n",
       "      <td>datecreated</td>\n",
       "      <td>0.041465</td>\n",
       "      <td>56.766017</td>\n",
       "    </tr>\n",
       "    <tr>\n",
       "      <th>104</th>\n",
       "      <td>duration</td>\n",
       "      <td>0.039439</td>\n",
       "      <td>53.991738</td>\n",
       "    </tr>\n",
       "    <tr>\n",
       "      <th>103</th>\n",
       "      <td>genre</td>\n",
       "      <td>0.037490</td>\n",
       "      <td>51.324162</td>\n",
       "    </tr>\n",
       "    <tr>\n",
       "      <th>102</th>\n",
       "      <td>datepublished</td>\n",
       "      <td>0.037256</td>\n",
       "      <td>51.004053</td>\n",
       "    </tr>\n",
       "    <tr>\n",
       "      <th>101</th>\n",
       "      <td>actor</td>\n",
       "      <td>0.033983</td>\n",
       "      <td>46.522525</td>\n",
       "    </tr>\n",
       "    <tr>\n",
       "      <th>100</th>\n",
       "      <td>headline</td>\n",
       "      <td>0.026968</td>\n",
       "      <td>36.919252</td>\n",
       "    </tr>\n",
       "    <tr>\n",
       "      <th>99</th>\n",
       "      <td>image</td>\n",
       "      <td>0.022915</td>\n",
       "      <td>31.370694</td>\n",
       "    </tr>\n",
       "    <tr>\n",
       "      <th>98</th>\n",
       "      <td>url</td>\n",
       "      <td>0.021980</td>\n",
       "      <td>30.090257</td>\n",
       "    </tr>\n",
       "    <tr>\n",
       "      <th>97</th>\n",
       "      <td>actors</td>\n",
       "      <td>0.020421</td>\n",
       "      <td>27.956196</td>\n",
       "    </tr>\n",
       "    <tr>\n",
       "      <th>96</th>\n",
       "      <td>author</td>\n",
       "      <td>0.019330</td>\n",
       "      <td>26.462354</td>\n",
       "    </tr>\n",
       "    <tr>\n",
       "      <th>95</th>\n",
       "      <td>ratingvalue</td>\n",
       "      <td>0.011925</td>\n",
       "      <td>16.325565</td>\n",
       "    </tr>\n",
       "  </tbody>\n",
       "</table>\n",
       "</div>"
      ],
      "text/plain": [
       "    movie_columnname  movie_percentage  movie_tables\n",
       "109             name          0.102494    140.314497\n",
       "108      description          0.078800    107.876773\n",
       "107         director          0.062354     85.362432\n",
       "106  aggregaterating          0.049337     67.543024\n",
       "105      datecreated          0.041465     56.766017\n",
       "104         duration          0.039439     53.991738\n",
       "103            genre          0.037490     51.324162\n",
       "102    datepublished          0.037256     51.004053\n",
       "101            actor          0.033983     46.522525\n",
       "100         headline          0.026968     36.919252\n",
       "99             image          0.022915     31.370694\n",
       "98               url          0.021980     30.090257\n",
       "97            actors          0.020421     27.956196\n",
       "96            author          0.019330     26.462354\n",
       "95       ratingvalue          0.011925     16.325565"
      ]
     },
     "metadata": {},
     "output_type": "display_data"
    }
   ],
   "source": [
    "movie = movie_desc.drop([111, 110])\n",
    "display(movie[:15])"
   ]
  },
  {
   "cell_type": "code",
   "execution_count": 136,
   "id": "cf60cb25",
   "metadata": {},
   "outputs": [],
   "source": [
    "movie.to_csv('Movie_stats.csv', sep=',', na_rep='', header=True, index=True)"
   ]
  },
  {
   "cell_type": "code",
   "execution_count": 69,
   "id": "efe95641",
   "metadata": {},
   "outputs": [],
   "source": [
    "threshold = 10\n",
    "moreThanThreshold = movie[movie['movie_tables'] >= 10]"
   ]
  },
  {
   "cell_type": "code",
   "execution_count": 79,
   "id": "2acd6fc2",
   "metadata": {},
   "outputs": [
    {
     "data": {
      "text/plain": [
       "<matplotlib.legend.Legend at 0x7f4f45af64c0>"
      ]
     },
     "execution_count": 79,
     "metadata": {},
     "output_type": "execute_result"
    },
    {
     "data": {
      "image/png": "[encoded data removed]",
      "text/plain": [
       "<Figure size 1440x360 with 1 Axes>"
      ]
     },
     "metadata": {
      "needs_background": "light"
     },
     "output_type": "display_data"
    }
   ],
   "source": [
    "plt = moreThanThreshold.plot(x='movie_columnname', y=['movie_tables'], kind='bar', figsize=(20,5))\n",
    "plt.set_ylabel(\"Number of tables\")\n",
    "plt.set_xlabel(\"\")\n",
    "plt.legend(loc=\"upper right\")\n"
   ]
  },
  {
   "cell_type": "code",
   "execution_count": 39,
   "id": "8e49857f",
   "metadata": {},
   "outputs": [],
   "source": [
    "person['tables'] = (person_desc['percentage'] * (len(os.listdir(path + 'data/Person/All'))))"
   ]
  },
  {
   "cell_type": "markdown",
   "id": "2a7c6cc1",
   "metadata": {},
   "source": [
    "### Person tables"
   ]
  },
  {
   "cell_type": "code",
   "execution_count": 51,
   "id": "c691a5dc",
   "metadata": {},
   "outputs": [
    {
     "data": {
      "text/html": [
       "<div>\n",
       "<style scoped>\n",
       "    .dataframe tbody tr th:only-of-type {\n",
       "        vertical-align: middle;\n",
       "    }\n",
       "\n",
       "    .dataframe tbody tr th {\n",
       "        vertical-align: top;\n",
       "    }\n",
       "\n",
       "    .dataframe thead th {\n",
       "        text-align: right;\n",
       "    }\n",
       "</style>\n",
       "<table border=\"1\" class=\"dataframe\">\n",
       "  <thead>\n",
       "    <tr style=\"text-align: right;\">\n",
       "      <th></th>\n",
       "      <th>person_columnname</th>\n",
       "      <th>person_percentage</th>\n",
       "      <th>person_tables</th>\n",
       "    </tr>\n",
       "  </thead>\n",
       "  <tbody>\n",
       "    <tr>\n",
       "      <th>236</th>\n",
       "      <td>name</td>\n",
       "      <td>0.911769</td>\n",
       "      <td>11698.0</td>\n",
       "    </tr>\n",
       "    <tr>\n",
       "      <th>235</th>\n",
       "      <td>description</td>\n",
       "      <td>0.609899</td>\n",
       "      <td>7825.0</td>\n",
       "    </tr>\n",
       "    <tr>\n",
       "      <th>234</th>\n",
       "      <td>image</td>\n",
       "      <td>0.604677</td>\n",
       "      <td>7758.0</td>\n",
       "    </tr>\n",
       "    <tr>\n",
       "      <th>233</th>\n",
       "      <td>mainentityofpage</td>\n",
       "      <td>0.492751</td>\n",
       "      <td>6322.0</td>\n",
       "    </tr>\n",
       "    <tr>\n",
       "      <th>232</th>\n",
       "      <td>jobtitle</td>\n",
       "      <td>0.137256</td>\n",
       "      <td>1761.0</td>\n",
       "    </tr>\n",
       "    <tr>\n",
       "      <th>231</th>\n",
       "      <td>birthdate</td>\n",
       "      <td>0.126033</td>\n",
       "      <td>1617.0</td>\n",
       "    </tr>\n",
       "    <tr>\n",
       "      <th>230</th>\n",
       "      <td>givenname</td>\n",
       "      <td>0.120265</td>\n",
       "      <td>1543.0</td>\n",
       "    </tr>\n",
       "    <tr>\n",
       "      <th>229</th>\n",
       "      <td>familyname</td>\n",
       "      <td>0.118394</td>\n",
       "      <td>1519.0</td>\n",
       "    </tr>\n",
       "    <tr>\n",
       "      <th>228</th>\n",
       "      <td>telephone</td>\n",
       "      <td>0.117225</td>\n",
       "      <td>1504.0</td>\n",
       "    </tr>\n",
       "    <tr>\n",
       "      <th>227</th>\n",
       "      <td>email</td>\n",
       "      <td>0.109275</td>\n",
       "      <td>1402.0</td>\n",
       "    </tr>\n",
       "    <tr>\n",
       "      <th>226</th>\n",
       "      <td>deathdate</td>\n",
       "      <td>0.081528</td>\n",
       "      <td>1046.0</td>\n",
       "    </tr>\n",
       "    <tr>\n",
       "      <th>225</th>\n",
       "      <td>additionalname</td>\n",
       "      <td>0.079267</td>\n",
       "      <td>1017.0</td>\n",
       "    </tr>\n",
       "    <tr>\n",
       "      <th>224</th>\n",
       "      <td>url</td>\n",
       "      <td>0.062432</td>\n",
       "      <td>801.0</td>\n",
       "    </tr>\n",
       "    <tr>\n",
       "      <th>223</th>\n",
       "      <td>gender</td>\n",
       "      <td>0.057833</td>\n",
       "      <td>742.0</td>\n",
       "    </tr>\n",
       "    <tr>\n",
       "      <th>222</th>\n",
       "      <td>worksfor</td>\n",
       "      <td>0.039049</td>\n",
       "      <td>501.0</td>\n",
       "    </tr>\n",
       "    <tr>\n",
       "      <th>221</th>\n",
       "      <td>height</td>\n",
       "      <td>0.038426</td>\n",
       "      <td>493.0</td>\n",
       "    </tr>\n",
       "    <tr>\n",
       "      <th>220</th>\n",
       "      <td>address</td>\n",
       "      <td>0.037568</td>\n",
       "      <td>482.0</td>\n",
       "    </tr>\n",
       "    <tr>\n",
       "      <th>219</th>\n",
       "      <td>nationality</td>\n",
       "      <td>0.037256</td>\n",
       "      <td>478.0</td>\n",
       "    </tr>\n",
       "    <tr>\n",
       "      <th>218</th>\n",
       "      <td>weight</td>\n",
       "      <td>0.034606</td>\n",
       "      <td>444.0</td>\n",
       "    </tr>\n",
       "    <tr>\n",
       "      <th>217</th>\n",
       "      <td>affiliation</td>\n",
       "      <td>0.033593</td>\n",
       "      <td>431.0</td>\n",
       "    </tr>\n",
       "    <tr>\n",
       "      <th>216</th>\n",
       "      <td>homelocation</td>\n",
       "      <td>0.031099</td>\n",
       "      <td>399.0</td>\n",
       "    </tr>\n",
       "    <tr>\n",
       "      <th>215</th>\n",
       "      <td>knowslanguage</td>\n",
       "      <td>0.023617</td>\n",
       "      <td>303.0</td>\n",
       "    </tr>\n",
       "    <tr>\n",
       "      <th>214</th>\n",
       "      <td>makesoffer</td>\n",
       "      <td>0.021434</td>\n",
       "      <td>275.0</td>\n",
       "    </tr>\n",
       "    <tr>\n",
       "      <th>213</th>\n",
       "      <td>sameas</td>\n",
       "      <td>0.019252</td>\n",
       "      <td>247.0</td>\n",
       "    </tr>\n",
       "    <tr>\n",
       "      <th>211</th>\n",
       "      <td>aiablogid</td>\n",
       "      <td>0.014186</td>\n",
       "      <td>182.0</td>\n",
       "    </tr>\n",
       "    <tr>\n",
       "      <th>212</th>\n",
       "      <td>aiapostid</td>\n",
       "      <td>0.014186</td>\n",
       "      <td>182.0</td>\n",
       "    </tr>\n",
       "    <tr>\n",
       "      <th>210</th>\n",
       "      <td>birthplace</td>\n",
       "      <td>0.012315</td>\n",
       "      <td>158.0</td>\n",
       "    </tr>\n",
       "    <tr>\n",
       "      <th>209</th>\n",
       "      <td>memberof</td>\n",
       "      <td>0.011613</td>\n",
       "      <td>149.0</td>\n",
       "    </tr>\n",
       "    <tr>\n",
       "      <th>208</th>\n",
       "      <td>faxnumber</td>\n",
       "      <td>0.011302</td>\n",
       "      <td>145.0</td>\n",
       "    </tr>\n",
       "    <tr>\n",
       "      <th>207</th>\n",
       "      <td>worklocation</td>\n",
       "      <td>0.009821</td>\n",
       "      <td>126.0</td>\n",
       "    </tr>\n",
       "  </tbody>\n",
       "</table>\n",
       "</div>"
      ],
      "text/plain": [
       "    person_columnname  person_percentage  person_tables\n",
       "236              name           0.911769        11698.0\n",
       "235       description           0.609899         7825.0\n",
       "234             image           0.604677         7758.0\n",
       "233  mainentityofpage           0.492751         6322.0\n",
       "232          jobtitle           0.137256         1761.0\n",
       "231         birthdate           0.126033         1617.0\n",
       "230         givenname           0.120265         1543.0\n",
       "229        familyname           0.118394         1519.0\n",
       "228         telephone           0.117225         1504.0\n",
       "227             email           0.109275         1402.0\n",
       "226         deathdate           0.081528         1046.0\n",
       "225    additionalname           0.079267         1017.0\n",
       "224               url           0.062432          801.0\n",
       "223            gender           0.057833          742.0\n",
       "222          worksfor           0.039049          501.0\n",
       "221            height           0.038426          493.0\n",
       "220           address           0.037568          482.0\n",
       "219       nationality           0.037256          478.0\n",
       "218            weight           0.034606          444.0\n",
       "217       affiliation           0.033593          431.0\n",
       "216      homelocation           0.031099          399.0\n",
       "215     knowslanguage           0.023617          303.0\n",
       "214        makesoffer           0.021434          275.0\n",
       "213            sameas           0.019252          247.0\n",
       "211         aiablogid           0.014186          182.0\n",
       "212         aiapostid           0.014186          182.0\n",
       "210        birthplace           0.012315          158.0\n",
       "209          memberof           0.011613          149.0\n",
       "208         faxnumber           0.011302          145.0\n",
       "207      worklocation           0.009821          126.0"
      ]
     },
     "metadata": {},
     "output_type": "display_data"
    }
   ],
   "source": [
    "person = person_desc.drop([238,237])\n",
    "person.rename(columns={'percentage': 'person_percentage'}, inplace=True)\n",
    "person.rename(columns={'tables':'person_tables'}, inplace=True)\n",
    "display(person[:30])"
   ]
  },
  {
   "cell_type": "code",
   "execution_count": 137,
   "id": "86f52003",
   "metadata": {},
   "outputs": [],
   "source": [
    "person.to_csv('Person_stats.csv', sep=',', na_rep='', header=True, index=True)"
   ]
  },
  {
   "cell_type": "code",
   "execution_count": 81,
   "id": "5ea83fe0",
   "metadata": {},
   "outputs": [],
   "source": [
    "threshold = 10\n",
    "moreThanThreshold = person[person['person_tables'] >= 100]"
   ]
  },
  {
   "cell_type": "code",
   "execution_count": 87,
   "id": "bf5a7655",
   "metadata": {},
   "outputs": [
    {
     "data": {
      "text/plain": [
       "<matplotlib.legend.Legend at 0x7f4f4589d250>"
      ]
     },
     "execution_count": 87,
     "metadata": {},
     "output_type": "execute_result"
    },
    {
     "data": {
      "image/png": "[encoded data removed]",
      "text/plain": [
       "<Figure size 1440x360 with 1 Axes>"
      ]
     },
     "metadata": {
      "needs_background": "light"
     },
     "output_type": "display_data"
    }
   ],
   "source": [
    "plotData = moreThanThreshold\n",
    "plt = plotData.plot(x ='person_columnname', y =['person_tables'], kind='bar',figsize=(20,5))\n",
    "plt.set_ylabel(\"Number of tables\")\n",
    "plt.set_xlabel(\"\")\n",
    "plt.legend(loc=\"upper right\")\n",
    "\n",
    "#x = np.arange(len(person['person_columnname']))\n",
    "#y = person['person_tables']\n",
    "\n",
    "#for i,j in zip(x,y):\n",
    "#    if (j < 1000): \n",
    " #       plt.annotate(str(round(j, 2)), xy=(i,j))"
   ]
  },
  {
   "cell_type": "code",
   "execution_count": 141,
   "id": "cdba9a35",
   "metadata": {},
   "outputs": [
    {
     "data": {
      "text/html": [
       "<div>\n",
       "<style scoped>\n",
       "    .dataframe tbody tr th:only-of-type {\n",
       "        vertical-align: middle;\n",
       "    }\n",
       "\n",
       "    .dataframe tbody tr th {\n",
       "        vertical-align: top;\n",
       "    }\n",
       "\n",
       "    .dataframe thead th {\n",
       "        text-align: right;\n",
       "    }\n",
       "</style>\n",
       "<table border=\"1\" class=\"dataframe\">\n",
       "  <thead>\n",
       "    <tr style=\"text-align: right;\">\n",
       "      <th></th>\n",
       "      <th>position</th>\n",
       "      <th>0.009009009009009009</th>\n",
       "    </tr>\n",
       "  </thead>\n",
       "  <tbody>\n",
       "    <tr>\n",
       "      <th>0</th>\n",
       "      <td>subjectof</td>\n",
       "      <td>0.009009</td>\n",
       "    </tr>\n",
       "    <tr>\n",
       "      <th>1</th>\n",
       "      <td>comment</td>\n",
       "      <td>0.009009</td>\n",
       "    </tr>\n",
       "    <tr>\n",
       "      <th>2</th>\n",
       "      <td>cssselector</td>\n",
       "      <td>0.009009</td>\n",
       "    </tr>\n",
       "    <tr>\n",
       "      <th>3</th>\n",
       "      <td>commentcount</td>\n",
       "      <td>0.009009</td>\n",
       "    </tr>\n",
       "    <tr>\n",
       "      <th>4</th>\n",
       "      <td>interactionstatistic</td>\n",
       "      <td>0.009009</td>\n",
       "    </tr>\n",
       "  </tbody>\n",
       "</table>\n",
       "</div>"
      ],
      "text/plain": [
       "               position  0.009009009009009009\n",
       "0             subjectof              0.009009\n",
       "1               comment              0.009009\n",
       "2           cssselector              0.009009\n",
       "3          commentcount              0.009009\n",
       "4  interactionstatistic              0.009009"
      ]
     },
     "execution_count": 141,
     "metadata": {},
     "output_type": "execute_result"
    }
   ],
   "source": [
    "dataset = pd.read_csv(path + 'Dataset_stats.csv')\n",
    "dataset.head()"
   ]
  },
  {
   "cell_type": "code",
   "execution_count": 146,
   "id": "699836cb",
   "metadata": {},
   "outputs": [],
   "source": [
    "dataset.rename(columns={'0.009009009009009009': 'dataset_percentage'}, inplace=True)\n",
    "dataset.rename(columns={'position':'dataset_columnname'}, inplace=True)"
   ]
  },
  {
   "cell_type": "code",
   "execution_count": 147,
   "id": "8bc3a511",
   "metadata": {},
   "outputs": [],
   "source": [
    "dataset = dataset.sort_values('dataset_percentage', ascending = False)"
   ]
  },
  {
   "cell_type": "code",
   "execution_count": 148,
   "id": "40fb79ee",
   "metadata": {},
   "outputs": [],
   "source": [
    "dataset['dataset_tables'] = (dataset['dataset_percentage'] * (len(os.listdir(path + 'data/Dataset/All'))))"
   ]
  },
  {
   "cell_type": "markdown",
   "id": "6ac5ef7e",
   "metadata": {},
   "source": [
    "### Dataset tables"
   ]
  },
  {
   "cell_type": "code",
   "execution_count": 151,
   "id": "ebdb633d",
   "metadata": {},
   "outputs": [
    {
     "data": {
      "text/html": [
       "<div>\n",
       "<style scoped>\n",
       "    .dataframe tbody tr th:only-of-type {\n",
       "        vertical-align: middle;\n",
       "    }\n",
       "\n",
       "    .dataframe tbody tr th {\n",
       "        vertical-align: top;\n",
       "    }\n",
       "\n",
       "    .dataframe thead th {\n",
       "        text-align: right;\n",
       "    }\n",
       "</style>\n",
       "<table border=\"1\" class=\"dataframe\">\n",
       "  <thead>\n",
       "    <tr style=\"text-align: right;\">\n",
       "      <th></th>\n",
       "      <th>dataset_columnname</th>\n",
       "      <th>dataset_percentage</th>\n",
       "      <th>dataset_tables</th>\n",
       "    </tr>\n",
       "  </thead>\n",
       "  <tbody>\n",
       "    <tr>\n",
       "      <th>48</th>\n",
       "      <td>name</td>\n",
       "      <td>0.972973</td>\n",
       "      <td>108.0</td>\n",
       "    </tr>\n",
       "    <tr>\n",
       "      <th>47</th>\n",
       "      <td>description</td>\n",
       "      <td>0.936937</td>\n",
       "      <td>104.0</td>\n",
       "    </tr>\n",
       "    <tr>\n",
       "      <th>46</th>\n",
       "      <td>keywords</td>\n",
       "      <td>0.504505</td>\n",
       "      <td>56.0</td>\n",
       "    </tr>\n",
       "    <tr>\n",
       "      <th>45</th>\n",
       "      <td>distribution</td>\n",
       "      <td>0.441441</td>\n",
       "      <td>49.0</td>\n",
       "    </tr>\n",
       "    <tr>\n",
       "      <th>44</th>\n",
       "      <td>creator</td>\n",
       "      <td>0.414414</td>\n",
       "      <td>46.0</td>\n",
       "    </tr>\n",
       "    <tr>\n",
       "      <th>43</th>\n",
       "      <td>datemodified</td>\n",
       "      <td>0.396396</td>\n",
       "      <td>44.0</td>\n",
       "    </tr>\n",
       "    <tr>\n",
       "      <th>42</th>\n",
       "      <td>includedindatacatalog</td>\n",
       "      <td>0.315315</td>\n",
       "      <td>35.0</td>\n",
       "    </tr>\n",
       "    <tr>\n",
       "      <th>41</th>\n",
       "      <td>datepublished</td>\n",
       "      <td>0.279279</td>\n",
       "      <td>31.0</td>\n",
       "    </tr>\n",
       "    <tr>\n",
       "      <th>40</th>\n",
       "      <td>publisher</td>\n",
       "      <td>0.261261</td>\n",
       "      <td>29.0</td>\n",
       "    </tr>\n",
       "    <tr>\n",
       "      <th>39</th>\n",
       "      <td>url</td>\n",
       "      <td>0.243243</td>\n",
       "      <td>27.0</td>\n",
       "    </tr>\n",
       "    <tr>\n",
       "      <th>38</th>\n",
       "      <td>spatialcoverage</td>\n",
       "      <td>0.207207</td>\n",
       "      <td>23.0</td>\n",
       "    </tr>\n",
       "    <tr>\n",
       "      <th>37</th>\n",
       "      <td>identifier</td>\n",
       "      <td>0.207207</td>\n",
       "      <td>23.0</td>\n",
       "    </tr>\n",
       "    <tr>\n",
       "      <th>36</th>\n",
       "      <td>license</td>\n",
       "      <td>0.207207</td>\n",
       "      <td>23.0</td>\n",
       "    </tr>\n",
       "    <tr>\n",
       "      <th>35</th>\n",
       "      <td>temporalcoverage</td>\n",
       "      <td>0.162162</td>\n",
       "      <td>18.0</td>\n",
       "    </tr>\n",
       "    <tr>\n",
       "      <th>34</th>\n",
       "      <td>datecreated</td>\n",
       "      <td>0.126126</td>\n",
       "      <td>14.0</td>\n",
       "    </tr>\n",
       "  </tbody>\n",
       "</table>\n",
       "</div>"
      ],
      "text/plain": [
       "       dataset_columnname  dataset_percentage  dataset_tables\n",
       "48                   name            0.972973           108.0\n",
       "47            description            0.936937           104.0\n",
       "46               keywords            0.504505            56.0\n",
       "45           distribution            0.441441            49.0\n",
       "44                creator            0.414414            46.0\n",
       "43           datemodified            0.396396            44.0\n",
       "42  includedindatacatalog            0.315315            35.0\n",
       "41          datepublished            0.279279            31.0\n",
       "40              publisher            0.261261            29.0\n",
       "39                    url            0.243243            27.0\n",
       "38        spatialcoverage            0.207207            23.0\n",
       "37             identifier            0.207207            23.0\n",
       "36                license            0.207207            23.0\n",
       "35       temporalcoverage            0.162162            18.0\n",
       "34            datecreated            0.126126            14.0"
      ]
     },
     "metadata": {},
     "output_type": "display_data"
    }
   ],
   "source": [
    "dataset = dataset.drop([50,49])\n",
    "display(dataset[:15])"
   ]
  },
  {
   "cell_type": "code",
   "execution_count": 152,
   "id": "2d698116",
   "metadata": {},
   "outputs": [],
   "source": [
    "dataset.to_csv('Dataset_stats.csv', sep=',', na_rep='', header=True, index=True)"
   ]
  },
  {
   "cell_type": "code",
   "execution_count": 111,
   "id": "f30552ba",
   "metadata": {},
   "outputs": [
    {
     "data": {
      "text/html": [
       "<div>\n",
       "<style scoped>\n",
       "    .dataframe tbody tr th:only-of-type {\n",
       "        vertical-align: middle;\n",
       "    }\n",
       "\n",
       "    .dataframe tbody tr th {\n",
       "        vertical-align: top;\n",
       "    }\n",
       "\n",
       "    .dataframe thead th {\n",
       "        text-align: right;\n",
       "    }\n",
       "</style>\n",
       "<table border=\"1\" class=\"dataframe\">\n",
       "  <thead>\n",
       "    <tr style=\"text-align: right;\">\n",
       "      <th></th>\n",
       "      <th>link</th>\n",
       "      <th>0.0001950078003120125</th>\n",
       "    </tr>\n",
       "  </thead>\n",
       "  <tbody>\n",
       "    <tr>\n",
       "      <th>0</th>\n",
       "      <td>interactionstatistic</td>\n",
       "      <td>0.000195</td>\n",
       "    </tr>\n",
       "    <tr>\n",
       "      <th>1</th>\n",
       "      <td>datecreated</td>\n",
       "      <td>0.000195</td>\n",
       "    </tr>\n",
       "    <tr>\n",
       "      <th>2</th>\n",
       "      <td>accommodationcategory</td>\n",
       "      <td>0.000195</td>\n",
       "    </tr>\n",
       "    <tr>\n",
       "      <th>3</th>\n",
       "      <td>location</td>\n",
       "      <td>0.000195</td>\n",
       "    </tr>\n",
       "    <tr>\n",
       "      <th>4</th>\n",
       "      <td>suborganization</td>\n",
       "      <td>0.000195</td>\n",
       "    </tr>\n",
       "  </tbody>\n",
       "</table>\n",
       "</div>"
      ],
      "text/plain": [
       "                    link  0.0001950078003120125\n",
       "0   interactionstatistic               0.000195\n",
       "1            datecreated               0.000195\n",
       "2  accommodationcategory               0.000195\n",
       "3               location               0.000195\n",
       "4        suborganization               0.000195"
      ]
     },
     "execution_count": 111,
     "metadata": {},
     "output_type": "execute_result"
    }
   ],
   "source": [
    "place = pd.read_csv(path + 'Place_stats.csv')\n",
    "place.head()"
   ]
  },
  {
   "cell_type": "code",
   "execution_count": 112,
   "id": "56c57747",
   "metadata": {},
   "outputs": [],
   "source": [
    "place.rename(columns={'0.0001950078003120125': 'percentage'}, inplace=True)\n",
    "place.rename(columns={'link': 'place_columnname'}, inplace=True)"
   ]
  },
  {
   "cell_type": "code",
   "execution_count": 113,
   "id": "76863e31",
   "metadata": {},
   "outputs": [],
   "source": [
    "place = place.sort_values('percentage', ascending = False)"
   ]
  },
  {
   "cell_type": "code",
   "execution_count": 116,
   "id": "44b1db69",
   "metadata": {},
   "outputs": [],
   "source": [
    "place['tables'] = (place['percentage'] * (len(os.listdir(path + 'data/Dataset/All'))))"
   ]
  },
  {
   "cell_type": "markdown",
   "id": "18776bcc",
   "metadata": {},
   "source": [
    "### Place tables"
   ]
  },
  {
   "cell_type": "code",
   "execution_count": 117,
   "id": "2d2bcc52",
   "metadata": {},
   "outputs": [
    {
     "data": {
      "text/html": [
       "<div>\n",
       "<style scoped>\n",
       "    .dataframe tbody tr th:only-of-type {\n",
       "        vertical-align: middle;\n",
       "    }\n",
       "\n",
       "    .dataframe tbody tr th {\n",
       "        vertical-align: top;\n",
       "    }\n",
       "\n",
       "    .dataframe thead th {\n",
       "        text-align: right;\n",
       "    }\n",
       "</style>\n",
       "<table border=\"1\" class=\"dataframe\">\n",
       "  <thead>\n",
       "    <tr style=\"text-align: right;\">\n",
       "      <th></th>\n",
       "      <th>place_columnname</th>\n",
       "      <th>percentage</th>\n",
       "      <th>tables</th>\n",
       "    </tr>\n",
       "  </thead>\n",
       "  <tbody>\n",
       "    <tr>\n",
       "      <th>103</th>\n",
       "      <td>page_url</td>\n",
       "      <td>1.000000</td>\n",
       "      <td>111.000000</td>\n",
       "    </tr>\n",
       "    <tr>\n",
       "      <th>102</th>\n",
       "      <td>row_id</td>\n",
       "      <td>1.000000</td>\n",
       "      <td>111.000000</td>\n",
       "    </tr>\n",
       "    <tr>\n",
       "      <th>101</th>\n",
       "      <td>address</td>\n",
       "      <td>0.930967</td>\n",
       "      <td>103.337363</td>\n",
       "    </tr>\n",
       "    <tr>\n",
       "      <th>100</th>\n",
       "      <td>name</td>\n",
       "      <td>0.841069</td>\n",
       "      <td>93.358619</td>\n",
       "    </tr>\n",
       "    <tr>\n",
       "      <th>99</th>\n",
       "      <td>geo</td>\n",
       "      <td>0.643721</td>\n",
       "      <td>71.453003</td>\n",
       "    </tr>\n",
       "    <tr>\n",
       "      <th>98</th>\n",
       "      <td>telephone</td>\n",
       "      <td>0.337168</td>\n",
       "      <td>37.425702</td>\n",
       "    </tr>\n",
       "    <tr>\n",
       "      <th>97</th>\n",
       "      <td>description</td>\n",
       "      <td>0.303627</td>\n",
       "      <td>33.702613</td>\n",
       "    </tr>\n",
       "    <tr>\n",
       "      <th>96</th>\n",
       "      <td>url</td>\n",
       "      <td>0.123440</td>\n",
       "      <td>13.701833</td>\n",
       "    </tr>\n",
       "    <tr>\n",
       "      <th>95</th>\n",
       "      <td>sameas</td>\n",
       "      <td>0.112520</td>\n",
       "      <td>12.489665</td>\n",
       "    </tr>\n",
       "    <tr>\n",
       "      <th>94</th>\n",
       "      <td>photo</td>\n",
       "      <td>0.106864</td>\n",
       "      <td>11.861934</td>\n",
       "    </tr>\n",
       "    <tr>\n",
       "      <th>93</th>\n",
       "      <td>openinghoursspecification</td>\n",
       "      <td>0.033736</td>\n",
       "      <td>3.744735</td>\n",
       "    </tr>\n",
       "    <tr>\n",
       "      <th>91</th>\n",
       "      <td>branchcode</td>\n",
       "      <td>0.020281</td>\n",
       "      <td>2.251170</td>\n",
       "    </tr>\n",
       "    <tr>\n",
       "      <th>92</th>\n",
       "      <td>hasmap</td>\n",
       "      <td>0.020281</td>\n",
       "      <td>2.251170</td>\n",
       "    </tr>\n",
       "    <tr>\n",
       "      <th>90</th>\n",
       "      <td>image</td>\n",
       "      <td>0.018526</td>\n",
       "      <td>2.056357</td>\n",
       "    </tr>\n",
       "    <tr>\n",
       "      <th>89</th>\n",
       "      <td>aggregaterating</td>\n",
       "      <td>0.018331</td>\n",
       "      <td>2.034711</td>\n",
       "    </tr>\n",
       "  </tbody>\n",
       "</table>\n",
       "</div>"
      ],
      "text/plain": [
       "              place_columnname  percentage      tables\n",
       "103                   page_url    1.000000  111.000000\n",
       "102                     row_id    1.000000  111.000000\n",
       "101                    address    0.930967  103.337363\n",
       "100                       name    0.841069   93.358619\n",
       "99                         geo    0.643721   71.453003\n",
       "98                   telephone    0.337168   37.425702\n",
       "97                 description    0.303627   33.702613\n",
       "96                         url    0.123440   13.701833\n",
       "95                      sameas    0.112520   12.489665\n",
       "94                       photo    0.106864   11.861934\n",
       "93   openinghoursspecification    0.033736    3.744735\n",
       "91                  branchcode    0.020281    2.251170\n",
       "92                      hasmap    0.020281    2.251170\n",
       "90                       image    0.018526    2.056357\n",
       "89             aggregaterating    0.018331    2.034711"
      ]
     },
     "metadata": {},
     "output_type": "display_data"
    }
   ],
   "source": [
    "display(place[:15])"
   ]
  },
  {
   "cell_type": "code",
   "execution_count": 120,
   "id": "4abcf82e",
   "metadata": {},
   "outputs": [],
   "source": [
    "place.rename(columns = {'percentage' : 'place_percentage'}, inplace=True)\n",
    "place.rename(columns = {'tables' : 'place_tables'}, inplace=True)\n",
    "place = place.drop([103,102])"
   ]
  },
  {
   "cell_type": "code",
   "execution_count": 121,
   "id": "8662630b",
   "metadata": {},
   "outputs": [
    {
     "data": {
      "text/html": [
       "<div>\n",
       "<style scoped>\n",
       "    .dataframe tbody tr th:only-of-type {\n",
       "        vertical-align: middle;\n",
       "    }\n",
       "\n",
       "    .dataframe tbody tr th {\n",
       "        vertical-align: top;\n",
       "    }\n",
       "\n",
       "    .dataframe thead th {\n",
       "        text-align: right;\n",
       "    }\n",
       "</style>\n",
       "<table border=\"1\" class=\"dataframe\">\n",
       "  <thead>\n",
       "    <tr style=\"text-align: right;\">\n",
       "      <th></th>\n",
       "      <th>place_columnname</th>\n",
       "      <th>place_percentage</th>\n",
       "      <th>place_tables</th>\n",
       "    </tr>\n",
       "  </thead>\n",
       "  <tbody>\n",
       "    <tr>\n",
       "      <th>101</th>\n",
       "      <td>address</td>\n",
       "      <td>0.930967</td>\n",
       "      <td>103.337363</td>\n",
       "    </tr>\n",
       "    <tr>\n",
       "      <th>100</th>\n",
       "      <td>name</td>\n",
       "      <td>0.841069</td>\n",
       "      <td>93.358619</td>\n",
       "    </tr>\n",
       "    <tr>\n",
       "      <th>99</th>\n",
       "      <td>geo</td>\n",
       "      <td>0.643721</td>\n",
       "      <td>71.453003</td>\n",
       "    </tr>\n",
       "    <tr>\n",
       "      <th>98</th>\n",
       "      <td>telephone</td>\n",
       "      <td>0.337168</td>\n",
       "      <td>37.425702</td>\n",
       "    </tr>\n",
       "    <tr>\n",
       "      <th>97</th>\n",
       "      <td>description</td>\n",
       "      <td>0.303627</td>\n",
       "      <td>33.702613</td>\n",
       "    </tr>\n",
       "    <tr>\n",
       "      <th>96</th>\n",
       "      <td>url</td>\n",
       "      <td>0.123440</td>\n",
       "      <td>13.701833</td>\n",
       "    </tr>\n",
       "    <tr>\n",
       "      <th>95</th>\n",
       "      <td>sameas</td>\n",
       "      <td>0.112520</td>\n",
       "      <td>12.489665</td>\n",
       "    </tr>\n",
       "    <tr>\n",
       "      <th>94</th>\n",
       "      <td>photo</td>\n",
       "      <td>0.106864</td>\n",
       "      <td>11.861934</td>\n",
       "    </tr>\n",
       "    <tr>\n",
       "      <th>93</th>\n",
       "      <td>openinghoursspecification</td>\n",
       "      <td>0.033736</td>\n",
       "      <td>3.744735</td>\n",
       "    </tr>\n",
       "    <tr>\n",
       "      <th>91</th>\n",
       "      <td>branchcode</td>\n",
       "      <td>0.020281</td>\n",
       "      <td>2.251170</td>\n",
       "    </tr>\n",
       "    <tr>\n",
       "      <th>92</th>\n",
       "      <td>hasmap</td>\n",
       "      <td>0.020281</td>\n",
       "      <td>2.251170</td>\n",
       "    </tr>\n",
       "    <tr>\n",
       "      <th>90</th>\n",
       "      <td>image</td>\n",
       "      <td>0.018526</td>\n",
       "      <td>2.056357</td>\n",
       "    </tr>\n",
       "    <tr>\n",
       "      <th>89</th>\n",
       "      <td>aggregaterating</td>\n",
       "      <td>0.018331</td>\n",
       "      <td>2.034711</td>\n",
       "    </tr>\n",
       "    <tr>\n",
       "      <th>88</th>\n",
       "      <td>logo</td>\n",
       "      <td>0.013261</td>\n",
       "      <td>1.471919</td>\n",
       "    </tr>\n",
       "    <tr>\n",
       "      <th>87</th>\n",
       "      <td>addresslocality</td>\n",
       "      <td>0.006435</td>\n",
       "      <td>0.714314</td>\n",
       "    </tr>\n",
       "  </tbody>\n",
       "</table>\n",
       "</div>"
      ],
      "text/plain": [
       "              place_columnname  place_percentage  place_tables\n",
       "101                    address          0.930967    103.337363\n",
       "100                       name          0.841069     93.358619\n",
       "99                         geo          0.643721     71.453003\n",
       "98                   telephone          0.337168     37.425702\n",
       "97                 description          0.303627     33.702613\n",
       "96                         url          0.123440     13.701833\n",
       "95                      sameas          0.112520     12.489665\n",
       "94                       photo          0.106864     11.861934\n",
       "93   openinghoursspecification          0.033736      3.744735\n",
       "91                  branchcode          0.020281      2.251170\n",
       "92                      hasmap          0.020281      2.251170\n",
       "90                       image          0.018526      2.056357\n",
       "89             aggregaterating          0.018331      2.034711\n",
       "88                        logo          0.013261      1.471919\n",
       "87             addresslocality          0.006435      0.714314"
      ]
     },
     "metadata": {},
     "output_type": "display_data"
    }
   ],
   "source": [
    "display(place[:15])"
   ]
  },
  {
   "cell_type": "code",
   "execution_count": 138,
   "id": "58271f08",
   "metadata": {},
   "outputs": [],
   "source": [
    "place.to_csv('Place_stats.csv', sep=',', na_rep='', header=True, index=True)"
   ]
  },
  {
   "cell_type": "code",
   "execution_count": 122,
   "id": "98673386",
   "metadata": {},
   "outputs": [],
   "source": [
    "threshold = 10\n",
    "moreThanThreshold = place[place['place_tables'] >= 10]"
   ]
  },
  {
   "cell_type": "code",
   "execution_count": 123,
   "id": "28fe4e2b",
   "metadata": {},
   "outputs": [
    {
     "data": {
      "text/plain": [
       "<matplotlib.legend.Legend at 0x7f4f4454aa60>"
      ]
     },
     "execution_count": 123,
     "metadata": {},
     "output_type": "execute_result"
    },
    {
     "data": {
      "image/png": "[encoded data removed]",
      "text/plain": [
       "<Figure size 1440x360 with 1 Axes>"
      ]
     },
     "metadata": {
      "needs_background": "light"
     },
     "output_type": "display_data"
    }
   ],
   "source": [
    "plotData = moreThanThreshold\n",
    "plt = plotData.plot(x='place_columnname', y=['place_tables'], kind='bar', figsize=(20,5))\n",
    "plt.set_ylabel(\"Number of tables\")\n",
    "plt.set_xlabel(\"\")\n",
    "plt.legend(loc=\"upper right\")"
   ]
  },
  {
   "cell_type": "markdown",
   "id": "ce4387a1",
   "metadata": {},
   "source": [
    "## Events\n",
    "Get percentage and number of tables for each column"
   ]
  },
  {
   "cell_type": "code",
   "execution_count": 51,
   "id": "9fed6731",
   "metadata": {},
   "outputs": [],
   "source": [
    "path = 'data/Event/All'\n",
    "files = [file for file in os.listdir(path) if file.endswith('.json.gz')]\n",
    "column_count = []\n",
    "\n",
    "for file in files:\n",
    "    # read file\n",
    "    df = pd.read_json(os.path.join(path, '{}'.format(file)), compression='gzip', lines=True)\n",
    "\n",
    "    for x in df.columns:\n",
    "        column_count.append(x)"
   ]
  },
  {
   "cell_type": "code",
   "execution_count": 54,
   "id": "f03cc4d4",
   "metadata": {},
   "outputs": [
    {
     "data": {
      "text/plain": [
       "{'row_id': 1.0,\n",
       " 'startdate': 0.9924768518518519,\n",
       " 'name': 0.9772524928774928,\n",
       " 'enddate': 0.8464654558404558,\n",
       " 'description': 0.7865918803418803,\n",
       " 'location': 0.8219818376068376,\n",
       " 'performer': 0.5022702991452992,\n",
       " 'organizer': 0.3050658831908832,\n",
       " 'page_url': 1.0,\n",
       " 'eventstatus': 0.17370014245014245,\n",
       " 'attendees': 8.903133903133904e-05,\n",
       " 'offers': 0.26259793447293445,\n",
       " 'eventattendancemode': 0.09001068376068376,\n",
       " 'image': 0.06922186609686609,\n",
       " 'url': 0.08622685185185185,\n",
       " 'performers': 0.007167022792022792,\n",
       " 'doortime': 0.007879273504273504,\n",
       " 'about': 0.03690349002849003,\n",
       " 'duration': 0.03125,\n",
       " 'thumbnail': 8.903133903133904e-05,\n",
       " 'isaccessibleforfree': 0.002492877492877493,\n",
       " 'typicalagerange': 0.00734508547008547,\n",
       " 'summary': 0.010772792022792023,\n",
       " 'alternatename': 0.004718660968660969,\n",
       " 'disambiguatingdescription': 0.0007122507122507123,\n",
       " 'maximumattendeecapacity': 0.0020922364672364673,\n",
       " 'mainentityofpage': 0.004184472934472935,\n",
       " 'geo': 0.0014245014245014246,\n",
       " 'address': 0.0035612535612535613,\n",
       " 'community': 0.001736111111111111,\n",
       " 'aggregaterating': 0.005119301994301995,\n",
       " 'inlanguage': 0.005208333333333333,\n",
       " 'remainingattendeecapacity': 0.002136752136752137,\n",
       " 'keywords': 0.0005787037037037037,\n",
       " 'datecreated': 0.0007122507122507123,\n",
       " 'sponsor': 0.0005787037037037037,\n",
       " 'datepublished': 0.0007567663817663817,\n",
       " 'headline': 0.0004896723646723647,\n",
       " 'datemodified': 0.00035612535612535614,\n",
       " 'publisher': 0.0004896723646723647,\n",
       " 'potentialaction': 0.0003116096866096866,\n",
       " 'addressregion': 0.0007567663817663817,\n",
       " 'highprice': 0.00022257834757834758,\n",
       " 'previousstartdate': 0.00035612535612535614,\n",
       " 'identifier': 0.001379985754985755,\n",
       " 'review': 0.00044515669515669517,\n",
       " 'price': 0.001201923076923077,\n",
       " 'openinghoursspecifications': 4.451566951566952e-05,\n",
       " 'telephone': 0.001469017094017094,\n",
       " 'sameas': 0.0004896723646723647,\n",
       " 'pricecurrency': 0.00040064102564102563,\n",
       " 'funder': 0.001379985754985755,\n",
       " 'subevent': 0.0005787037037037037,\n",
       " 'addresscountry': 0.00013354700854700856,\n",
       " 'workperformed': 8.903133903133904e-05,\n",
       " 'workfeatured': 4.451566951566952e-05,\n",
       " 'location.address': 8.903133903133904e-05,\n",
       " 'location.name': 8.903133903133904e-05,\n",
       " 'dtstart': 8.903133903133904e-05,\n",
       " 'eventattendencemode': 0.00017806267806267807,\n",
       " 'amenityfeature': 4.451566951566952e-05,\n",
       " 'alternativeheadline': 8.903133903133904e-05,\n",
       " 'attendee': 0.0007122507122507123,\n",
       " 'date': 4.451566951566952e-05,\n",
       " 'additionaltype': 0.00017806267806267807,\n",
       " 'audience': 0.00040064102564102563,\n",
       " 'email': 0.0005787037037037037,\n",
       " 'starttime': 4.451566951566952e-05,\n",
       " 'documents': 0.00017806267806267807,\n",
       " 'event': 8.903133903133904e-05,\n",
       " 'caption': 4.451566951566952e-05,\n",
       " 'superevent': 0.00013354700854700856,\n",
       " 'pricerange': 0.00022257834757834758,\n",
       " 'author': 0.0004896723646723647,\n",
       " 'country': 4.451566951566952e-05,\n",
       " 'dateupdated': 4.451566951566952e-05,\n",
       " 'videoformat': 4.451566951566952e-05,\n",
       " 'workpresented': 4.451566951566952e-05,\n",
       " 'articlebody': 0.00013354700854700856,\n",
       " 'contactpoint': 0.00017806267806267807,\n",
       " 'photo': 0.00013354700854700856,\n",
       " 'legalname': 4.451566951566952e-05,\n",
       " 'photos': 4.451566951566952e-05,\n",
       " 'eventschedule': 0.00013354700854700856,\n",
       " 'subjectof': 8.903133903133904e-05,\n",
       " 'place': 4.451566951566952e-05,\n",
       " 'director': 4.451566951566952e-05,\n",
       " 'datetime': 4.451566951566952e-05,\n",
       " 'exifdata': 4.451566951566952e-05,\n",
       " 'contributor': 0.00022257834757834758,\n",
       " 'articlesection': 0.0002670940170940171,\n",
       " 'text': 0.00017806267806267807,\n",
       " 'category': 0.00017806267806267807,\n",
       " 'availability': 0.00013354700854700856,\n",
       " 'validfrom': 0.00013354700854700856,\n",
       " 'availabilitystarts': 4.451566951566952e-05,\n",
       " 'reviewer': 4.451566951566952e-05,\n",
       " 'openinghours': 4.451566951566952e-05,\n",
       " 'interactioncount': 8.903133903133904e-05,\n",
       " 'recordedin': 8.903133903133904e-05,\n",
       " 'subevents': 4.451566951566952e-05,\n",
       " 'latitude': 4.451566951566952e-05,\n",
       " 'longitude': 4.451566951566952e-05,\n",
       " 'creator': 8.903133903133904e-05,\n",
       " 'title': 0.00013354700854700856,\n",
       " 'dateposted': 0.00013354700854700856,\n",
       " 'department': 4.451566951566952e-05,\n",
       " 'lowprice': 4.451566951566952e-05,\n",
       " 'addresslocality': 0.00017806267806267807,\n",
       " 'streetaddress': 0.00013354700854700856,\n",
       " 'postalcode': 0.00013354700854700856,\n",
       " 'brand': 4.451566951566952e-05,\n",
       " 'sku': 4.451566951566952e-05,\n",
       " 'googlecalendar': 8.903133903133904e-05,\n",
       " 'ratingvalue': 4.451566951566952e-05,\n",
       " 'eventtypes': 8.903133903133904e-05,\n",
       " 'scientificareas': 4.451566951566952e-05,\n",
       " 'series': 4.451566951566952e-05,\n",
       " 'hasaudiovideo': 4.451566951566952e-05,\n",
       " 'ispastevent': 4.451566951566952e-05,\n",
       " 'relatedtopics': 4.451566951566952e-05,\n",
       " 'p><meta': 4.451566951566952e-05,\n",
       " 'content=': 4.451566951566952e-05,\n",
       " 'itemprop=performer': 4.451566951566952e-05,\n",
       " 'pm': 4.451566951566952e-05,\n",
       " '-': 4.451566951566952e-05,\n",
       " 'productid': 4.451566951566952e-05,\n",
       " 'endtdate': 4.451566951566952e-05,\n",
       " 'composer': 8.903133903133904e-05,\n",
       " 'faxnumber': 4.451566951566952e-05,\n",
       " 'offer': 4.451566951566952e-05,\n",
       " '9': 4.451566951566952e-05,\n",
       " '0': 4.451566951566952e-05,\n",
       " '1': 4.451566951566952e-05,\n",
       " '2': 4.451566951566952e-05,\n",
       " '3': 4.451566951566952e-05,\n",
       " '4': 4.451566951566952e-05,\n",
       " '5': 4.451566951566952e-05,\n",
       " '6': 4.451566951566952e-05,\n",
       " '7': 4.451566951566952e-05,\n",
       " '8': 4.451566951566952e-05,\n",
       " 'scientifictopics': 4.451566951566952e-05,\n",
       " 'breadcrumb': 4.451566951566952e-05,\n",
       " 'time': 4.451566951566952e-05,\n",
       " 'videocode': 4.451566951566952e-05}"
      ]
     },
     "metadata": {},
     "output_type": "display_data"
    }
   ],
   "source": [
    "y_dict = {i:column_count.count(i) / len(files) for i in column_count}\n",
    "display(y_dict)"
   ]
  },
  {
   "cell_type": "code",
   "execution_count": 60,
   "id": "1dfa751d",
   "metadata": {},
   "outputs": [],
   "source": [
    "dict_sorted = dict(sorted(y_dict.items(), key=lambda item: item[1]))\n",
    "(pd.DataFrame.from_dict(data=dict_sorted, orient='index').to_csv('Events_stats.csv', header=['percentage']))"
   ]
  },
  {
   "cell_type": "code",
   "execution_count": 104,
   "id": "9168c30b",
   "metadata": {},
   "outputs": [
    {
     "data": {
      "text/html": [
       "<div>\n",
       "<style scoped>\n",
       "    .dataframe tbody tr th:only-of-type {\n",
       "        vertical-align: middle;\n",
       "    }\n",
       "\n",
       "    .dataframe tbody tr th {\n",
       "        vertical-align: top;\n",
       "    }\n",
       "\n",
       "    .dataframe thead th {\n",
       "        text-align: right;\n",
       "    }\n",
       "</style>\n",
       "<table border=\"1\" class=\"dataframe\">\n",
       "  <thead>\n",
       "    <tr style=\"text-align: right;\">\n",
       "      <th></th>\n",
       "      <th>Unnamed: 0</th>\n",
       "      <th>percentage</th>\n",
       "    </tr>\n",
       "  </thead>\n",
       "  <tbody>\n",
       "    <tr>\n",
       "      <th>0</th>\n",
       "      <td>openinghoursspecifications</td>\n",
       "      <td>0.000045</td>\n",
       "    </tr>\n",
       "    <tr>\n",
       "      <th>1</th>\n",
       "      <td>workfeatured</td>\n",
       "      <td>0.000045</td>\n",
       "    </tr>\n",
       "    <tr>\n",
       "      <th>2</th>\n",
       "      <td>amenityfeature</td>\n",
       "      <td>0.000045</td>\n",
       "    </tr>\n",
       "    <tr>\n",
       "      <th>3</th>\n",
       "      <td>date</td>\n",
       "      <td>0.000045</td>\n",
       "    </tr>\n",
       "    <tr>\n",
       "      <th>4</th>\n",
       "      <td>starttime</td>\n",
       "      <td>0.000045</td>\n",
       "    </tr>\n",
       "  </tbody>\n",
       "</table>\n",
       "</div>"
      ],
      "text/plain": [
       "                   Unnamed: 0  percentage\n",
       "0  openinghoursspecifications    0.000045\n",
       "1                workfeatured    0.000045\n",
       "2              amenityfeature    0.000045\n",
       "3                        date    0.000045\n",
       "4                   starttime    0.000045"
      ]
     },
     "execution_count": 104,
     "metadata": {},
     "output_type": "execute_result"
    }
   ],
   "source": [
    "events = pd.read_csv(path +'Events_stats.csv')\n",
    "events.head()"
   ]
  },
  {
   "cell_type": "code",
   "execution_count": 105,
   "id": "9df212f2",
   "metadata": {},
   "outputs": [],
   "source": [
    "events = events.sort_values('percentage', ascending = False)"
   ]
  },
  {
   "cell_type": "code",
   "execution_count": 106,
   "id": "ce522c7a",
   "metadata": {},
   "outputs": [],
   "source": [
    "events['tables'] = (events['percentage'] * (len(os.listdir(path + 'data/Event/All'))))\n",
    "events.rename(columns={'Unnamed: 0': 'events_columnname'}, inplace=True)\n",
    "events.rename(columns={'precentage':'events_percentage'}, inplace=True)\n",
    "events.rename(columns={'tables':'events_tables'}, inplace=True)"
   ]
  },
  {
   "cell_type": "markdown",
   "id": "fa03ca55",
   "metadata": {},
   "source": [
    "### Event tables"
   ]
  },
  {
   "cell_type": "code",
   "execution_count": 107,
   "id": "7df053db",
   "metadata": {},
   "outputs": [],
   "source": [
    "events = events.drop([144,143])"
   ]
  },
  {
   "cell_type": "code",
   "execution_count": 108,
   "id": "f6be9a16",
   "metadata": {},
   "outputs": [
    {
     "data": {
      "text/html": [
       "<div>\n",
       "<style scoped>\n",
       "    .dataframe tbody tr th:only-of-type {\n",
       "        vertical-align: middle;\n",
       "    }\n",
       "\n",
       "    .dataframe tbody tr th {\n",
       "        vertical-align: top;\n",
       "    }\n",
       "\n",
       "    .dataframe thead th {\n",
       "        text-align: right;\n",
       "    }\n",
       "</style>\n",
       "<table border=\"1\" class=\"dataframe\">\n",
       "  <thead>\n",
       "    <tr style=\"text-align: right;\">\n",
       "      <th></th>\n",
       "      <th>events_columnname</th>\n",
       "      <th>percentage</th>\n",
       "      <th>events_tables</th>\n",
       "    </tr>\n",
       "  </thead>\n",
       "  <tbody>\n",
       "    <tr>\n",
       "      <th>142</th>\n",
       "      <td>startdate</td>\n",
       "      <td>0.992477</td>\n",
       "      <td>22295.0</td>\n",
       "    </tr>\n",
       "    <tr>\n",
       "      <th>141</th>\n",
       "      <td>name</td>\n",
       "      <td>0.977252</td>\n",
       "      <td>21953.0</td>\n",
       "    </tr>\n",
       "    <tr>\n",
       "      <th>140</th>\n",
       "      <td>enddate</td>\n",
       "      <td>0.846465</td>\n",
       "      <td>19015.0</td>\n",
       "    </tr>\n",
       "    <tr>\n",
       "      <th>139</th>\n",
       "      <td>location</td>\n",
       "      <td>0.821982</td>\n",
       "      <td>18465.0</td>\n",
       "    </tr>\n",
       "    <tr>\n",
       "      <th>138</th>\n",
       "      <td>description</td>\n",
       "      <td>0.786592</td>\n",
       "      <td>17670.0</td>\n",
       "    </tr>\n",
       "    <tr>\n",
       "      <th>137</th>\n",
       "      <td>performer</td>\n",
       "      <td>0.502270</td>\n",
       "      <td>11283.0</td>\n",
       "    </tr>\n",
       "    <tr>\n",
       "      <th>136</th>\n",
       "      <td>organizer</td>\n",
       "      <td>0.305066</td>\n",
       "      <td>6853.0</td>\n",
       "    </tr>\n",
       "    <tr>\n",
       "      <th>135</th>\n",
       "      <td>offers</td>\n",
       "      <td>0.262598</td>\n",
       "      <td>5899.0</td>\n",
       "    </tr>\n",
       "    <tr>\n",
       "      <th>134</th>\n",
       "      <td>eventstatus</td>\n",
       "      <td>0.173700</td>\n",
       "      <td>3902.0</td>\n",
       "    </tr>\n",
       "    <tr>\n",
       "      <th>133</th>\n",
       "      <td>eventattendancemode</td>\n",
       "      <td>0.090011</td>\n",
       "      <td>2022.0</td>\n",
       "    </tr>\n",
       "    <tr>\n",
       "      <th>132</th>\n",
       "      <td>url</td>\n",
       "      <td>0.086227</td>\n",
       "      <td>1937.0</td>\n",
       "    </tr>\n",
       "    <tr>\n",
       "      <th>131</th>\n",
       "      <td>image</td>\n",
       "      <td>0.069222</td>\n",
       "      <td>1555.0</td>\n",
       "    </tr>\n",
       "    <tr>\n",
       "      <th>130</th>\n",
       "      <td>about</td>\n",
       "      <td>0.036903</td>\n",
       "      <td>829.0</td>\n",
       "    </tr>\n",
       "    <tr>\n",
       "      <th>129</th>\n",
       "      <td>duration</td>\n",
       "      <td>0.031250</td>\n",
       "      <td>702.0</td>\n",
       "    </tr>\n",
       "    <tr>\n",
       "      <th>128</th>\n",
       "      <td>summary</td>\n",
       "      <td>0.010773</td>\n",
       "      <td>242.0</td>\n",
       "    </tr>\n",
       "    <tr>\n",
       "      <th>127</th>\n",
       "      <td>doortime</td>\n",
       "      <td>0.007879</td>\n",
       "      <td>177.0</td>\n",
       "    </tr>\n",
       "    <tr>\n",
       "      <th>126</th>\n",
       "      <td>typicalagerange</td>\n",
       "      <td>0.007345</td>\n",
       "      <td>165.0</td>\n",
       "    </tr>\n",
       "    <tr>\n",
       "      <th>125</th>\n",
       "      <td>performers</td>\n",
       "      <td>0.007167</td>\n",
       "      <td>161.0</td>\n",
       "    </tr>\n",
       "    <tr>\n",
       "      <th>124</th>\n",
       "      <td>inlanguage</td>\n",
       "      <td>0.005208</td>\n",
       "      <td>117.0</td>\n",
       "    </tr>\n",
       "    <tr>\n",
       "      <th>123</th>\n",
       "      <td>aggregaterating</td>\n",
       "      <td>0.005119</td>\n",
       "      <td>115.0</td>\n",
       "    </tr>\n",
       "    <tr>\n",
       "      <th>122</th>\n",
       "      <td>alternatename</td>\n",
       "      <td>0.004719</td>\n",
       "      <td>106.0</td>\n",
       "    </tr>\n",
       "    <tr>\n",
       "      <th>121</th>\n",
       "      <td>mainentityofpage</td>\n",
       "      <td>0.004184</td>\n",
       "      <td>94.0</td>\n",
       "    </tr>\n",
       "    <tr>\n",
       "      <th>120</th>\n",
       "      <td>address</td>\n",
       "      <td>0.003561</td>\n",
       "      <td>80.0</td>\n",
       "    </tr>\n",
       "    <tr>\n",
       "      <th>119</th>\n",
       "      <td>isaccessibleforfree</td>\n",
       "      <td>0.002493</td>\n",
       "      <td>56.0</td>\n",
       "    </tr>\n",
       "    <tr>\n",
       "      <th>118</th>\n",
       "      <td>remainingattendeecapacity</td>\n",
       "      <td>0.002137</td>\n",
       "      <td>48.0</td>\n",
       "    </tr>\n",
       "  </tbody>\n",
       "</table>\n",
       "</div>"
      ],
      "text/plain": [
       "             events_columnname  percentage  events_tables\n",
       "142                  startdate    0.992477        22295.0\n",
       "141                       name    0.977252        21953.0\n",
       "140                    enddate    0.846465        19015.0\n",
       "139                   location    0.821982        18465.0\n",
       "138                description    0.786592        17670.0\n",
       "137                  performer    0.502270        11283.0\n",
       "136                  organizer    0.305066         6853.0\n",
       "135                     offers    0.262598         5899.0\n",
       "134                eventstatus    0.173700         3902.0\n",
       "133        eventattendancemode    0.090011         2022.0\n",
       "132                        url    0.086227         1937.0\n",
       "131                      image    0.069222         1555.0\n",
       "130                      about    0.036903          829.0\n",
       "129                   duration    0.031250          702.0\n",
       "128                    summary    0.010773          242.0\n",
       "127                   doortime    0.007879          177.0\n",
       "126            typicalagerange    0.007345          165.0\n",
       "125                 performers    0.007167          161.0\n",
       "124                 inlanguage    0.005208          117.0\n",
       "123            aggregaterating    0.005119          115.0\n",
       "122              alternatename    0.004719          106.0\n",
       "121           mainentityofpage    0.004184           94.0\n",
       "120                    address    0.003561           80.0\n",
       "119        isaccessibleforfree    0.002493           56.0\n",
       "118  remainingattendeecapacity    0.002137           48.0"
      ]
     },
     "metadata": {},
     "output_type": "display_data"
    }
   ],
   "source": [
    "display(events[:25])"
   ]
  },
  {
   "cell_type": "code",
   "execution_count": 139,
   "id": "761042f4",
   "metadata": {},
   "outputs": [],
   "source": [
    "events.to_csv('Events_stats.csv', sep=',', na_rep='', header=True, index=True)"
   ]
  },
  {
   "cell_type": "code",
   "execution_count": 109,
   "id": "ee6424b0",
   "metadata": {},
   "outputs": [],
   "source": [
    "threshold = 30\n",
    "moreThanThreshold = events[events['events_tables'] >= 30]"
   ]
  },
  {
   "cell_type": "code",
   "execution_count": 110,
   "id": "112b064f",
   "metadata": {},
   "outputs": [
    {
     "data": {
      "text/plain": [
       "<matplotlib.legend.Legend at 0x7f4f45b80160>"
      ]
     },
     "execution_count": 110,
     "metadata": {},
     "output_type": "execute_result"
    },
    {
     "data": {
      "image/png": "[encoded data removed]",
      "text/plain": [
       "<Figure size 1440x360 with 1 Axes>"
      ]
     },
     "metadata": {
      "needs_background": "light"
     },
     "output_type": "display_data"
    }
   ],
   "source": [
    "plotData = moreThanThreshold\n",
    "plt = plotData.plot(x='events_columnname', y=['events_tables'], kind='bar', figsize=(20,5))\n",
    "plt.set_ylabel(\"Number of tables\")\n",
    "plt.set_xlabel(\"\")\n",
    "plt.legend(loc=\"upper right\")"
   ]
  },
  {
   "cell_type": "code",
   "execution_count": 59,
   "id": "0d24a060",
   "metadata": {},
   "outputs": [],
   "source": [
    "import matplotlib.pyplot as plt"
   ]
  },
  {
   "cell_type": "code",
   "execution_count": 108,
   "id": "7baf4628",
   "metadata": {},
   "outputs": [],
   "source": [
    "threshold = 10\n",
    "moreThanThreshold = dataset[dataset['dataset_tables'] >= 10]"
   ]
  },
  {
   "cell_type": "code",
   "execution_count": 115,
   "id": "008a5f12",
   "metadata": {},
   "outputs": [
    {
     "data": {
      "text/plain": [
       "<matplotlib.legend.Legend at 0x7ff925109e50>"
      ]
     },
     "execution_count": 115,
     "metadata": {},
     "output_type": "execute_result"
    },
    {
     "data": {
      "image/png": "[encoded data removed]",
      "text/plain": [
       "<Figure size 1440x360 with 1 Axes>"
      ]
     },
     "metadata": {
      "needs_background": "light"
     },
     "output_type": "display_data"
    }
   ],
   "source": [
    "plotData = moreThanThreshold\n",
    "plt = plotData.plot(x='dataset_columnname', y=['dataset_tables'], kind='bar', figsize=(20,5))\n",
    "plt.set_ylabel(\"Number of tables\")\n",
    "plt.set_xlabel(\"\")\n",
    "plt.legend(loc=\"upper right\")"
   ]
  },
  {
   "cell_type": "code",
   "execution_count": null,
   "id": "20509abb",
   "metadata": {},
   "outputs": [],
   "source": []
  },
  {
   "cell_type": "code",
   "execution_count": null,
   "id": "06517762",
   "metadata": {},
   "outputs": [],
   "source": []
  }
 ],
 "metadata": {
  "kernelspec": {
   "display_name": "Python 3",
   "language": "python",
   "name": "python3"
  },
  "language_info": {
   "codemirror_mode": {
    "name": "ipython",
    "version": 3
   },
   "file_extension": ".py",
   "mimetype": "text/x-python",
   "name": "python",
   "nbconvert_exporter": "python",
   "pygments_lexer": "ipython3",
   "version": "3.8.8"
  }
 },
 "nbformat": 4,
 "nbformat_minor": 5
}
