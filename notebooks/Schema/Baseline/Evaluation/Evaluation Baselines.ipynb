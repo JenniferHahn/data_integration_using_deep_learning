{
 "cells": [
  {
   "cell_type": "markdown",
   "id": "9d2bdb1b",
   "metadata": {},
   "source": [
    "# Evaluation of Baselines"
   ]
  },
  {
   "cell_type": "markdown",
   "id": "2b20d4dc",
   "metadata": {},
   "source": [
    "@Jen, fyi die Namen von den Klassen sind ganz unten im Notebook, weil die etwas bulky sind :D"
   ]
  },
  {
   "cell_type": "code",
   "execution_count": 1,
   "id": "79c88934",
   "metadata": {},
   "outputs": [],
   "source": [
    "from sklearn.metrics import f1_score\n",
    "import pandas as pd\n",
    "from matplotlib.pyplot import figure"
   ]
  },
  {
   "cell_type": "code",
   "execution_count": 2,
   "id": "1873fb39",
   "metadata": {},
   "outputs": [],
   "source": [
    "roberta_res = pd.read_csv('../../../../src/data/schemafiltereddata/roberta_predict_results_None.txt', sep='\\t')"
   ]
  },
  {
   "cell_type": "code",
   "execution_count": 3,
   "id": "4f603f56",
   "metadata": {},
   "outputs": [],
   "source": [
    "distilbert_res = pd.read_csv('../../../../src/data/schemafiltereddata/distilbert_predict_results_None.txt', sep='\\t')"
   ]
  },
  {
   "cell_type": "code",
   "execution_count": 4,
   "id": "d4847374",
   "metadata": {},
   "outputs": [],
   "source": [
    "bert_res = pd.read_csv('../../../../src/data/schemafiltereddata/bert_predict_results_None.txt', sep='\\t')"
   ]
  },
  {
   "cell_type": "code",
   "execution_count": 5,
   "id": "4b156b10",
   "metadata": {},
   "outputs": [],
   "source": [
    "#res = pd.read_csv(\"predict_results_None_tinybert_large_2epochs.txt\", sep=\"\\t\")"
   ]
  },
  {
   "cell_type": "code",
   "execution_count": 6,
   "id": "602836c8",
   "metadata": {},
   "outputs": [],
   "source": [
    "tinybert_res = pd.read_csv(\"predict_results_None_tinybert_large_25epochs.txt\", sep=\"\\t\")"
   ]
  },
  {
   "cell_type": "code",
   "execution_count": 7,
   "id": "c57e5a11",
   "metadata": {},
   "outputs": [],
   "source": [
    "small_tinybert = pd.read_csv(\"predict_results_tinybert_small.txt\", sep=\"\\t\")"
   ]
  },
  {
   "cell_type": "code",
   "execution_count": 8,
   "id": "6266b476",
   "metadata": {},
   "outputs": [],
   "source": [
    "tinybert_res.drop('index', axis=1, inplace=True)"
   ]
  },
  {
   "cell_type": "code",
   "execution_count": 9,
   "id": "5229136e",
   "metadata": {},
   "outputs": [],
   "source": [
    "real = pd.read_csv('../../../../src/data/schemafiltereddata/TrainTestTables/test_tables_9000_prepped.csv')"
   ]
  },
  {
   "cell_type": "markdown",
   "id": "70a77a3d",
   "metadata": {},
   "source": [
    "### F1 Scores"
   ]
  },
  {
   "cell_type": "code",
   "execution_count": 10,
   "id": "aa4be28a",
   "metadata": {},
   "outputs": [
    {
     "data": {
      "text/plain": [
       "0.8030199177485686"
      ]
     },
     "execution_count": 10,
     "metadata": {},
     "output_type": "execute_result"
    }
   ],
   "source": [
    "#roberta\n",
    "f1_score(roberta_res.prediction, real.label, average='micro')"
   ]
  },
  {
   "cell_type": "code",
   "execution_count": 11,
   "id": "b0d8585d",
   "metadata": {},
   "outputs": [
    {
     "data": {
      "text/plain": [
       "0.8019312958632369"
      ]
     },
     "execution_count": 11,
     "metadata": {},
     "output_type": "execute_result"
    }
   ],
   "source": [
    "# distilbert\n",
    "f1_score(distilbert_res.prediction, real.label, average='micro')"
   ]
  },
  {
   "cell_type": "code",
   "execution_count": 12,
   "id": "98517212",
   "metadata": {},
   "outputs": [
    {
     "data": {
      "text/plain": [
       "0.8014071445851141"
      ]
     },
     "execution_count": 12,
     "metadata": {},
     "output_type": "execute_result"
    }
   ],
   "source": [
    "# bert\n",
    "f1_score(bert_res.prediction, real.label, average='micro')"
   ]
  },
  {
   "cell_type": "code",
   "execution_count": 13,
   "id": "287600b8",
   "metadata": {},
   "outputs": [
    {
     "data": {
      "text/plain": [
       "0.7592532860253205"
      ]
     },
     "execution_count": 13,
     "metadata": {},
     "output_type": "execute_result"
    }
   ],
   "source": [
    "# tinybert large - 25 epochs\n",
    "f1_score(tinybert_res.prediction, real.label, average='micro')"
   ]
  },
  {
   "cell_type": "code",
   "execution_count": 14,
   "id": "2edc3366",
   "metadata": {},
   "outputs": [
    {
     "data": {
      "text/plain": [
       "0.7592532860253205"
      ]
     },
     "execution_count": 14,
     "metadata": {},
     "output_type": "execute_result"
    }
   ],
   "source": [
    "# tinybert small - 25 epochs\n",
    "f1_score(small_tinybert.prediction, real.label, average='micro')"
   ]
  },
  {
   "cell_type": "markdown",
   "id": "b25ffe2b",
   "metadata": {},
   "source": [
    "### Evaluation of Results"
   ]
  },
  {
   "cell_type": "markdown",
   "id": "8d8f5324",
   "metadata": {},
   "source": [
    "Create dataset"
   ]
  },
  {
   "cell_type": "code",
   "execution_count": 10,
   "id": "6d8bb973",
   "metadata": {},
   "outputs": [],
   "source": [
    "# we join the predictions to the test dataset to compare them\n",
    "real['tinybert_pred'] = tinybert_res.prediction"
   ]
  },
  {
   "cell_type": "code",
   "execution_count": 11,
   "id": "cc1d95f1",
   "metadata": {},
   "outputs": [],
   "source": [
    "real['roberta_pred'] = roberta_res.prediction"
   ]
  },
  {
   "cell_type": "code",
   "execution_count": 12,
   "id": "659e4174",
   "metadata": {},
   "outputs": [],
   "source": [
    "real['bert_pred'] = bert_res.prediction"
   ]
  },
  {
   "cell_type": "code",
   "execution_count": 13,
   "id": "141e8bf2",
   "metadata": {},
   "outputs": [],
   "source": [
    "real['distilbert_pred'] = distilbert_res.prediction"
   ]
  },
  {
   "cell_type": "code",
   "execution_count": 14,
   "id": "df35a1bd",
   "metadata": {},
   "outputs": [],
   "source": [
    "real.drop(['Unnamed: 0'], axis=1, inplace=True)"
   ]
  },
  {
   "cell_type": "code",
   "execution_count": 15,
   "id": "c24791f9",
   "metadata": {},
   "outputs": [
    {
     "data": {
      "text/html": [
       "<div>\n",
       "<style scoped>\n",
       "    .dataframe tbody tr th:only-of-type {\n",
       "        vertical-align: middle;\n",
       "    }\n",
       "\n",
       "    .dataframe tbody tr th {\n",
       "        vertical-align: top;\n",
       "    }\n",
       "\n",
       "    .dataframe thead th {\n",
       "        text-align: right;\n",
       "    }\n",
       "</style>\n",
       "<table border=\"1\" class=\"dataframe\">\n",
       "  <thead>\n",
       "    <tr style=\"text-align: right;\">\n",
       "      <th></th>\n",
       "      <th>text</th>\n",
       "      <th>label</th>\n",
       "      <th>tinybert_pred</th>\n",
       "      <th>roberta_pred</th>\n",
       "      <th>bert_pred</th>\n",
       "      <th>distilbert_pred</th>\n",
       "    </tr>\n",
       "  </thead>\n",
       "  <tbody>\n",
       "    <tr>\n",
       "      <th>0</th>\n",
       "      <td>Comedy Improv at Arts Garage 2020-12-10 Shows ...</td>\n",
       "      <td>130</td>\n",
       "      <td>135</td>\n",
       "      <td>130</td>\n",
       "      <td>130</td>\n",
       "      <td>130</td>\n",
       "    </tr>\n",
       "    <tr>\n",
       "      <th>1</th>\n",
       "      <td>2020-12-10T21 30 00-05 00 2020-12-10T21 30 00-...</td>\n",
       "      <td>68</td>\n",
       "      <td>68</td>\n",
       "      <td>68</td>\n",
       "      <td>68</td>\n",
       "      <td>68</td>\n",
       "    </tr>\n",
       "    <tr>\n",
       "      <th>2</th>\n",
       "      <td>name Arts Garage name Bob Carter 8217 s Actor...</td>\n",
       "      <td>115</td>\n",
       "      <td>115</td>\n",
       "      <td>115</td>\n",
       "      <td>115</td>\n",
       "      <td>115</td>\n",
       "    </tr>\n",
       "    <tr>\n",
       "      <th>3</th>\n",
       "      <td>name Mod 27 Improv telephone 561-223-1651 ema...</td>\n",
       "      <td>153</td>\n",
       "      <td>153</td>\n",
       "      <td>153</td>\n",
       "      <td>153</td>\n",
       "      <td>153</td>\n",
       "    </tr>\n",
       "    <tr>\n",
       "      <th>4</th>\n",
       "      <td>My Front Door Lord Have Mercy Sold Out Wedding...</td>\n",
       "      <td>134</td>\n",
       "      <td>134</td>\n",
       "      <td>134</td>\n",
       "      <td>134</td>\n",
       "      <td>134</td>\n",
       "    </tr>\n",
       "    <tr>\n",
       "      <th>...</th>\n",
       "      <td>...</td>\n",
       "      <td>...</td>\n",
       "      <td>...</td>\n",
       "      <td>...</td>\n",
       "      <td>...</td>\n",
       "      <td>...</td>\n",
       "    </tr>\n",
       "    <tr>\n",
       "      <th>49599</th>\n",
       "      <td>url https eutrade-shop com epages f7e4b224-a2...</td>\n",
       "      <td>147</td>\n",
       "      <td>147</td>\n",
       "      <td>147</td>\n",
       "      <td>147</td>\n",
       "      <td>147</td>\n",
       "    </tr>\n",
       "    <tr>\n",
       "      <th>49600</th>\n",
       "      <td>4 5 5 3 5 5 5 4 3 5 3 5 5 5 3 5 1 5 5 4 3 3 5 ...</td>\n",
       "      <td>38</td>\n",
       "      <td>169</td>\n",
       "      <td>186</td>\n",
       "      <td>169</td>\n",
       "      <td>186</td>\n",
       "    </tr>\n",
       "    <tr>\n",
       "      <th>49601</th>\n",
       "      <td>http schema org NewCondition http schema org N...</td>\n",
       "      <td>108</td>\n",
       "      <td>108</td>\n",
       "      <td>108</td>\n",
       "      <td>108</td>\n",
       "      <td>108</td>\n",
       "    </tr>\n",
       "    <tr>\n",
       "      <th>49602</th>\n",
       "      <td>4313042590504 0 4313042595028 0 4313042595066 ...</td>\n",
       "      <td>85</td>\n",
       "      <td>191</td>\n",
       "      <td>85</td>\n",
       "      <td>85</td>\n",
       "      <td>85</td>\n",
       "    </tr>\n",
       "    <tr>\n",
       "      <th>49603</th>\n",
       "      <td>price 2 20 pricecurrency EUR price 6 60 price...</td>\n",
       "      <td>106</td>\n",
       "      <td>145</td>\n",
       "      <td>145</td>\n",
       "      <td>145</td>\n",
       "      <td>145</td>\n",
       "    </tr>\n",
       "  </tbody>\n",
       "</table>\n",
       "<p>49604 rows × 6 columns</p>\n",
       "</div>"
      ],
      "text/plain": [
       "                                                    text  label  \\\n",
       "0      Comedy Improv at Arts Garage 2020-12-10 Shows ...    130   \n",
       "1      2020-12-10T21 30 00-05 00 2020-12-10T21 30 00-...     68   \n",
       "2       name Arts Garage name Bob Carter 8217 s Actor...    115   \n",
       "3       name Mod 27 Improv telephone 561-223-1651 ema...    153   \n",
       "4      My Front Door Lord Have Mercy Sold Out Wedding...    134   \n",
       "...                                                  ...    ...   \n",
       "49599   url https eutrade-shop com epages f7e4b224-a2...    147   \n",
       "49600  4 5 5 3 5 5 5 4 3 5 3 5 5 5 3 5 1 5 5 4 3 3 5 ...     38   \n",
       "49601  http schema org NewCondition http schema org N...    108   \n",
       "49602  4313042590504 0 4313042595028 0 4313042595066 ...     85   \n",
       "49603   price 2 20 pricecurrency EUR price 6 60 price...    106   \n",
       "\n",
       "       tinybert_pred  roberta_pred  bert_pred  distilbert_pred  \n",
       "0                135           130        130              130  \n",
       "1                 68            68         68               68  \n",
       "2                115           115        115              115  \n",
       "3                153           153        153              153  \n",
       "4                134           134        134              134  \n",
       "...              ...           ...        ...              ...  \n",
       "49599            147           147        147              147  \n",
       "49600            169           186        169              186  \n",
       "49601            108           108        108              108  \n",
       "49602            191            85         85               85  \n",
       "49603            145           145        145              145  \n",
       "\n",
       "[49604 rows x 6 columns]"
      ]
     },
     "execution_count": 15,
     "metadata": {},
     "output_type": "execute_result"
    }
   ],
   "source": [
    "real"
   ]
  },
  {
   "cell_type": "code",
   "execution_count": 16,
   "id": "cfce0497",
   "metadata": {},
   "outputs": [
    {
     "data": {
      "text/plain": [
       "201"
      ]
     },
     "execution_count": 16,
     "metadata": {},
     "output_type": "execute_result"
    }
   ],
   "source": [
    "real.label.max()"
   ]
  },
  {
   "cell_type": "code",
   "execution_count": 17,
   "id": "60ce1c1b",
   "metadata": {},
   "outputs": [
    {
     "data": {
      "text/html": [
       "<div>\n",
       "<style scoped>\n",
       "    .dataframe tbody tr th:only-of-type {\n",
       "        vertical-align: middle;\n",
       "    }\n",
       "\n",
       "    .dataframe tbody tr th {\n",
       "        vertical-align: top;\n",
       "    }\n",
       "\n",
       "    .dataframe thead th {\n",
       "        text-align: right;\n",
       "    }\n",
       "</style>\n",
       "<table border=\"1\" class=\"dataframe\">\n",
       "  <thead>\n",
       "    <tr style=\"text-align: right;\">\n",
       "      <th></th>\n",
       "      <th>text</th>\n",
       "      <th>label</th>\n",
       "      <th>tinybert_pred</th>\n",
       "      <th>roberta_pred</th>\n",
       "      <th>bert_pred</th>\n",
       "      <th>distilbert_pred</th>\n",
       "    </tr>\n",
       "  </thead>\n",
       "  <tbody>\n",
       "    <tr>\n",
       "      <th>5931</th>\n",
       "      <td>Yes Not Available No Yes Yes Yes Yes Not Avail...</td>\n",
       "      <td>1</td>\n",
       "      <td>1</td>\n",
       "      <td>87</td>\n",
       "      <td>127</td>\n",
       "      <td>1</td>\n",
       "    </tr>\n",
       "    <tr>\n",
       "      <th>20646</th>\n",
       "      <td>Reservations Reservations Reservations Reserva...</td>\n",
       "      <td>1</td>\n",
       "      <td>131</td>\n",
       "      <td>127</td>\n",
       "      <td>164</td>\n",
       "      <td>164</td>\n",
       "    </tr>\n",
       "    <tr>\n",
       "      <th>23679</th>\n",
       "      <td>True True True True True True True True True T...</td>\n",
       "      <td>1</td>\n",
       "      <td>1</td>\n",
       "      <td>120</td>\n",
       "      <td>120</td>\n",
       "      <td>1</td>\n",
       "    </tr>\n",
       "    <tr>\n",
       "      <th>45460</th>\n",
       "      <td>Yes Yes Yes Yes Yes Yes Yes Yes Yes Yes Yes Ye...</td>\n",
       "      <td>1</td>\n",
       "      <td>1</td>\n",
       "      <td>1</td>\n",
       "      <td>1</td>\n",
       "      <td>1</td>\n",
       "    </tr>\n",
       "  </tbody>\n",
       "</table>\n",
       "</div>"
      ],
      "text/plain": [
       "                                                    text  label  \\\n",
       "5931   Yes Not Available No Yes Yes Yes Yes Not Avail...      1   \n",
       "20646  Reservations Reservations Reservations Reserva...      1   \n",
       "23679  True True True True True True True True True T...      1   \n",
       "45460  Yes Yes Yes Yes Yes Yes Yes Yes Yes Yes Yes Ye...      1   \n",
       "\n",
       "       tinybert_pred  roberta_pred  bert_pred  distilbert_pred  \n",
       "5931               1            87        127                1  \n",
       "20646            131           127        164              164  \n",
       "23679              1           120        120                1  \n",
       "45460              1             1          1                1  "
      ]
     },
     "execution_count": 17,
     "metadata": {},
     "output_type": "execute_result"
    }
   ],
   "source": [
    "real[real['label']==1]"
   ]
  },
  {
   "cell_type": "code",
   "execution_count": 18,
   "id": "4ff3218e",
   "metadata": {},
   "outputs": [
    {
     "name": "stdout",
     "output_type": "stream",
     "text": [
      "Label: 0\n",
      "tinybert: 0.967741935483871\n",
      "roberta: 0.967741935483871\n",
      "bert: 0.967741935483871\n",
      "distilbert: 0.967741935483871\n",
      "Label: 1\n",
      "tinybert: 0.75\n",
      "roberta: 0.25\n",
      "bert: 0.25\n",
      "distilbert: 0.75\n",
      "Label: 2\n",
      "tinybert: 0.9390243902439024\n",
      "roberta: 0.9512195121951219\n",
      "bert: 0.9573170731707317\n",
      "distilbert: 0.9512195121951219\n",
      "Label: 3\n",
      "tinybert: 0.9280575539568345\n",
      "roberta: 0.9568345323741008\n",
      "bert: 0.9568345323741008\n",
      "distilbert: 0.9496402877697842\n",
      "Label: 4\n",
      "tinybert: 0.4727272727272727\n",
      "roberta: 0.6363636363636364\n",
      "bert: 0.5909090909090909\n",
      "distilbert: 0.6\n",
      "Label: 5\n",
      "tinybert: 0.7088948787061995\n",
      "roberta: 0.9164420485175202\n",
      "bert: 0.9056603773584906\n",
      "distilbert: 0.894878706199461\n",
      "Label: 6\n",
      "tinybert: 0.3387096774193548\n",
      "roberta: 0.17741935483870971\n",
      "bert: 0.24193548387096775\n",
      "distilbert: 0.20967741935483872\n",
      "Label: 7\n",
      "tinybert: 0.3333333333333333\n",
      "roberta: 0.14285714285714285\n",
      "bert: 0.2857142857142857\n",
      "distilbert: 0.3333333333333333\n",
      "Label: 8\n",
      "tinybert: 0.31666666666666665\n",
      "roberta: 0.0\n",
      "bert: 0.03333333333333333\n",
      "distilbert: 0.26666666666666666\n",
      "Label: 9\n",
      "tinybert: 0.4000000000000001\n",
      "roberta: 0.68\n",
      "bert: 0.8399999999999999\n",
      "distilbert: 0.8399999999999999\n",
      "Label: 10\n",
      "tinybert: 0.8333333333333334\n",
      "roberta: 0.9583333333333334\n",
      "bert: 0.9166666666666666\n",
      "distilbert: 0.9583333333333334\n",
      "Label: 11\n",
      "tinybert: 0.3559322033898305\n",
      "roberta: 0.4406779661016949\n",
      "bert: 0.4576271186440678\n",
      "distilbert: 0.423728813559322\n",
      "Label: 12\n",
      "tinybert: 0.4000000000000001\n",
      "roberta: 0.6\n",
      "bert: 0.6666666666666666\n",
      "distilbert: 0.5333333333333333\n",
      "Label: 13\n",
      "tinybert: 0.15384615384615385\n",
      "roberta: 0.23076923076923078\n",
      "bert: 0.0\n",
      "distilbert: 0.0\n",
      "Label: 14\n",
      "tinybert: 0.4634146341463415\n",
      "roberta: 0.3902439024390244\n",
      "bert: 0.36585365853658536\n",
      "distilbert: 0.2682926829268293\n",
      "Label: 15\n",
      "tinybert: 0.4311926605504588\n",
      "roberta: 0.44036697247706424\n",
      "bert: 0.47706422018348627\n",
      "distilbert: 0.47706422018348627\n",
      "Label: 16\n",
      "tinybert: 0.9284497444633731\n",
      "roberta: 0.969335604770017\n",
      "bert: 0.9704713231118682\n",
      "distilbert: 0.9716070414537195\n",
      "Label: 17\n",
      "tinybert: 0.8148148148148148\n",
      "roberta: 0.744107744107744\n",
      "bert: 0.7542087542087542\n",
      "distilbert: 0.7912457912457911\n",
      "Label: 18\n",
      "tinybert: 0.0\n",
      "roberta: 0.0\n",
      "bert: 0.0\n",
      "distilbert: 0.0\n",
      "Label: 19\n",
      "tinybert: 0.2608695652173913\n",
      "roberta: 0.17391304347826086\n",
      "bert: 0.21739130434782608\n",
      "distilbert: 0.21739130434782608\n",
      "Label: 20\n",
      "tinybert: 0.6404494382022472\n",
      "roberta: 0.0449438202247191\n",
      "bert: 0.033707865168539325\n",
      "distilbert: 0.033707865168539325\n",
      "Label: 21\n",
      "tinybert: 0.16666666666666666\n",
      "roberta: 0.375\n",
      "bert: 0.4166666666666667\n",
      "distilbert: 0.4583333333333333\n",
      "Label: 22\n",
      "tinybert: 0.5416666666666666\n",
      "roberta: 0.7916666666666666\n",
      "bert: 0.7083333333333334\n",
      "distilbert: 0.7083333333333334\n",
      "Label: 23\n",
      "tinybert: 0.75\n",
      "roberta: 0.7857142857142857\n",
      "bert: 0.7857142857142857\n",
      "distilbert: 0.8214285714285714\n",
      "Label: 24\n",
      "tinybert: 0.6101694915254238\n",
      "roberta: 0.7966101694915254\n",
      "bert: 0.7627118644067796\n",
      "distilbert: 0.7627118644067796\n",
      "Label: 25\n",
      "tinybert: 0.3769889840881273\n",
      "roberta: 0.631578947368421\n",
      "bert: 0.35862913096695226\n",
      "distilbert: 0.5116279069767442\n",
      "Label: 26\n",
      "tinybert: 0.10000000000000002\n",
      "roberta: 0.0\n",
      "bert: 0.0\n",
      "distilbert: 0.0\n",
      "Label: 27\n",
      "tinybert: 0.4483870967741935\n",
      "roberta: 0.6903225806451613\n",
      "bert: 0.646774193548387\n",
      "distilbert: 0.6645161290322581\n",
      "Label: 28\n",
      "tinybert: 0.9642857142857143\n",
      "roberta: 0.9642857142857143\n",
      "bert: 0.9642857142857143\n",
      "distilbert: 0.9642857142857143\n",
      "Label: 29\n",
      "tinybert: 0.972972972972973\n",
      "roberta: 0.972972972972973\n",
      "bert: 0.972972972972973\n",
      "distilbert: 0.972972972972973\n",
      "Label: 30\n",
      "tinybert: 0.9637096774193549\n",
      "roberta: 0.9637096774193549\n",
      "bert: 0.9838709677419355\n",
      "distilbert: 0.9798387096774194\n",
      "Label: 31\n",
      "tinybert: 0.5714285714285714\n",
      "roberta: 0.8571428571428571\n",
      "bert: 0.8571428571428571\n",
      "distilbert: 0.8571428571428571\n",
      "Label: 32\n",
      "tinybert: 0.5833333333333334\n",
      "roberta: 0.6666666666666666\n",
      "bert: 0.5833333333333334\n",
      "distilbert: 0.6666666666666666\n",
      "Label: 33\n",
      "tinybert: 0.896551724137931\n",
      "roberta: 0.9655172413793104\n",
      "bert: 0.896551724137931\n",
      "distilbert: 0.9310344827586207\n",
      "Label: 34\n",
      "tinybert: 0.7193831267009375\n",
      "roberta: 0.8412458421530088\n",
      "bert: 0.8379195645600243\n",
      "distilbert: 0.8309646205019655\n",
      "Label: 35\n",
      "tinybert: 0.6363636363636364\n",
      "roberta: 0.8484848484848486\n",
      "bert: 0.7878787878787878\n",
      "distilbert: 0.8484848484848486\n",
      "Label: 36\n",
      "tinybert: 0.35714285714285715\n",
      "roberta: 0.35714285714285715\n",
      "bert: 0.35714285714285715\n",
      "distilbert: 0.42857142857142855\n",
      "Label: 37\n",
      "tinybert: 0.716796875\n",
      "roberta: 0.849609375\n",
      "bert: 0.8427734375\n",
      "distilbert: 0.8349609375\n",
      "Label: 38\n",
      "tinybert: 0.7683257918552037\n",
      "roberta: 0.8497737556561086\n",
      "bert: 0.857918552036199\n",
      "distilbert: 0.8633484162895928\n",
      "Label: 39\n",
      "tinybert: 0.6190476190476191\n",
      "roberta: 0.9047619047619048\n",
      "bert: 0.9523809523809523\n",
      "distilbert: 0.9047619047619048\n",
      "Label: 40\n",
      "tinybert: 0.9420935412026726\n",
      "roberta: 0.9599109131403119\n",
      "bert: 0.9621380846325167\n",
      "distilbert: 0.9599109131403119\n",
      "Label: 41\n",
      "tinybert: 0.6428571428571429\n",
      "roberta: 0.6785714285714286\n",
      "bert: 0.6785714285714286\n",
      "distilbert: 0.6428571428571429\n",
      "Label: 42\n",
      "tinybert: 0.3142857142857143\n",
      "roberta: 0.6285714285714286\n",
      "bert: 0.2857142857142857\n",
      "distilbert: 0.2857142857142857\n",
      "Label: 43\n",
      "tinybert: 0.9818181818181818\n",
      "roberta: 0.9818181818181818\n",
      "bert: 0.9818181818181818\n",
      "distilbert: 0.9818181818181818\n",
      "Label: 44\n",
      "tinybert: 0.9375\n",
      "roberta: 0.9375\n",
      "bert: 0.9375\n",
      "distilbert: 0.9375\n",
      "Label: 45\n",
      "tinybert: 0.92\n",
      "roberta: 0.96\n",
      "bert: 0.96\n",
      "distilbert: 1.0\n",
      "Label: 46\n",
      "tinybert: 0.7546125461254612\n",
      "roberta: 0.7693726937269372\n",
      "bert: 0.7583025830258303\n",
      "distilbert: 0.7472324723247232\n",
      "Label: 47\n",
      "tinybert: 0.16666666666666666\n",
      "roberta: 0.3333333333333333\n",
      "bert: 0.16666666666666666\n",
      "distilbert: 0.3333333333333333\n",
      "Label: 48\n",
      "tinybert: 0.38461538461538464\n",
      "roberta: 0.0\n",
      "bert: 0.46153846153846156\n",
      "distilbert: 0.46153846153846156\n",
      "Label: 49\n",
      "tinybert: 0.0\n",
      "roberta: 0.0\n",
      "bert: 0.0\n",
      "distilbert: 0.0\n",
      "Label: 50\n",
      "tinybert: 0.49038461538461536\n",
      "roberta: 0.2403846153846154\n",
      "bert: 0.33653846153846156\n",
      "distilbert: 0.19230769230769232\n",
      "Label: 51\n",
      "tinybert: 0.5\n",
      "roberta: 0.3333333333333333\n",
      "bert: 0.5\n",
      "distilbert: 0.25\n",
      "Label: 52\n",
      "tinybert: 0.5123456790123457\n",
      "roberta: 0.6617283950617284\n",
      "bert: 0.44938271604938274\n",
      "distilbert: 0.5049382716049383\n",
      "Label: 53\n",
      "tinybert: 0.05000000000000001\n",
      "roberta: 0.0\n",
      "bert: 0.0\n",
      "distilbert: 0.0\n",
      "Label: 54\n",
      "tinybert: 0.5434782608695652\n",
      "roberta: 0.45652173913043476\n",
      "bert: 0.5\n",
      "distilbert: 0.5\n",
      "Label: 55\n",
      "tinybert: 0.4051841746248295\n",
      "roberta: 0.31377899045020463\n",
      "bert: 0.5511596180081856\n",
      "distilbert: 0.5061391541609823\n",
      "Label: 56\n",
      "tinybert: 0.5217391304347826\n",
      "roberta: 0.5652173913043478\n",
      "bert: 0.6086956521739131\n",
      "distilbert: 0.6086956521739131\n",
      "Label: 57\n",
      "tinybert: 0.0\n",
      "roberta: 0.0\n",
      "bert: 0.0\n",
      "distilbert: 0.0\n",
      "Label: 58\n",
      "tinybert: 0.6842105263157895\n",
      "roberta: 0.6654135338345865\n",
      "bert: 0.674812030075188\n",
      "distilbert: 0.693609022556391\n",
      "Label: 59\n",
      "tinybert: 0.9171597633136095\n",
      "roberta: 0.9289940828402367\n",
      "bert: 0.9112426035502958\n",
      "distilbert: 0.9112426035502958\n",
      "Label: 60\n",
      "tinybert: 0.47674418604651164\n",
      "roberta: 0.29069767441860467\n",
      "bert: 0.0755813953488372\n",
      "distilbert: 0.2558139534883721\n",
      "Label: 61\n",
      "tinybert: 0.25\n",
      "roberta: 0.25\n",
      "bert: 0.08333333333333333\n",
      "distilbert: 0.3333333333333333\n",
      "Label: 62\n",
      "tinybert: 0.16666666666666666\n",
      "roberta: 0.08333333333333333\n",
      "bert: 0.08333333333333333\n",
      "distilbert: 0.16666666666666666\n",
      "Label: 63\n",
      "tinybert: 0.8333333333333334\n",
      "roberta: 0.3333333333333333\n",
      "bert: 0.6666666666666666\n",
      "distilbert: 0.6666666666666666\n",
      "Label: 64\n",
      "tinybert: 0.9888372093023255\n",
      "roberta: 0.9906976744186047\n",
      "bert: 0.9916279069767442\n",
      "distilbert: 0.9916279069767442\n",
      "Label: 65\n",
      "tinybert: 0.42857142857142855\n",
      "roberta: 0.5714285714285714\n",
      "bert: 0.5714285714285714\n",
      "distilbert: 0.6428571428571429\n",
      "Label: 66\n",
      "tinybert: 0.881118881118881\n",
      "roberta: 0.951048951048951\n",
      "bert: 0.9370629370629371\n",
      "distilbert: 0.965034965034965\n",
      "Label: 67\n",
      "tinybert: 0.7710843373493976\n",
      "roberta: 0.8072289156626506\n",
      "bert: 0.8433734939759037\n",
      "distilbert: 0.7951807228915663\n",
      "Label: 68\n",
      "tinybert: 0.9642126789366053\n",
      "roberta: 0.9713701431492842\n",
      "bert: 0.9744376278118609\n",
      "distilbert: 0.9703476482617587\n",
      "Label: 69\n",
      "tinybert: 0.7857142857142857\n",
      "roberta: 0.7857142857142857\n",
      "bert: 0.6428571428571429\n",
      "distilbert: 0.7857142857142857\n",
      "Label: 70\n",
      "tinybert: 0.37142857142857144\n",
      "roberta: 0.5142857142857142\n",
      "bert: 0.45714285714285713\n",
      "distilbert: 0.4857142857142857\n",
      "Label: 71\n",
      "tinybert: 0.9414225941422594\n",
      "roberta: 0.9539748953974896\n",
      "bert: 0.9539748953974896\n",
      "distilbert: 0.9497907949790795\n",
      "Label: 72\n",
      "tinybert: 0.030303030303030304\n",
      "roberta: 0.0\n",
      "bert: 0.0\n",
      "distilbert: 0.0\n",
      "Label: 73\n",
      "tinybert: 0.043478260869565216\n",
      "roberta: 0.043478260869565216\n",
      "bert: 0.0\n",
      "distilbert: 0.0\n",
      "Label: 74\n",
      "tinybert: 0.9711538461538461\n",
      "roberta: 0.9807692307692307\n",
      "bert: 0.9903846153846154\n",
      "distilbert: 0.9807692307692307\n",
      "Label: 75\n",
      "tinybert: 0.8666666666666667\n",
      "roberta: 0.9333333333333333\n",
      "bert: 0.9333333333333333\n",
      "distilbert: 0.9333333333333333\n",
      "Label: 76\n",
      "tinybert: 0.1111111111111111\n",
      "roberta: 0.2222222222222222\n",
      "bert: 0.3333333333333333\n",
      "distilbert: 0.2222222222222222\n",
      "Label: 77\n",
      "tinybert: 0.8666666666666667\n",
      "roberta: 0.8666666666666667\n",
      "bert: 0.8666666666666667\n",
      "distilbert: 0.9333333333333333\n",
      "Label: 78\n",
      "tinybert: 0.15\n",
      "roberta: 0.0\n",
      "bert: 0.0\n",
      "distilbert: 0.06666666666666667\n"
     ]
    },
    {
     "name": "stdout",
     "output_type": "stream",
     "text": [
      "Label: 79\n",
      "tinybert: 0.7120418848167539\n",
      "roberta: 0.7539267015706806\n",
      "bert: 0.8167539267015707\n",
      "distilbert: 0.7591623036649215\n",
      "Label: 80\n",
      "tinybert: 0.5118110236220472\n",
      "roberta: 0.7795275590551181\n",
      "bert: 0.7480314960629921\n",
      "distilbert: 0.7637795275590551\n",
      "Label: 81\n",
      "tinybert: 0.16666666666666666\n",
      "roberta: 0.0\n",
      "bert: 0.1111111111111111\n",
      "distilbert: 0.0\n",
      "Label: 82\n",
      "tinybert: 0.09090909090909091\n",
      "roberta: 0.0\n",
      "bert: 0.0\n",
      "distilbert: 0.0\n",
      "Label: 83\n",
      "tinybert: 0.9666666666666667\n",
      "roberta: 0.975\n",
      "bert: 0.975\n",
      "distilbert: 0.9666666666666667\n",
      "Label: 84\n",
      "tinybert: 0.5163043478260869\n",
      "roberta: 0.6195652173913043\n",
      "bert: 0.6195652173913043\n",
      "distilbert: 0.5706521739130435\n",
      "Label: 85\n",
      "tinybert: 0.6858638743455497\n",
      "roberta: 0.7722513089005235\n",
      "bert: 0.7827225130890052\n",
      "distilbert: 0.7931937172774869\n",
      "Label: 86\n",
      "tinybert: 0.05555555555555555\n",
      "roberta: 0.0\n",
      "bert: 0.0\n",
      "distilbert: 0.0\n",
      "Label: 87\n",
      "tinybert: 0.3858267716535433\n",
      "roberta: 0.3543307086614173\n",
      "bert: 0.3858267716535433\n",
      "distilbert: 0.37795275590551175\n",
      "Label: 88\n",
      "tinybert: 0.14285714285714285\n",
      "roberta: 0.0\n",
      "bert: 0.0\n",
      "distilbert: 0.03296703296703297\n",
      "Label: 89\n",
      "tinybert: 0.6666666666666666\n",
      "roberta: 0.6666666666666666\n",
      "bert: 0.6666666666666666\n",
      "distilbert: 0.6666666666666666\n",
      "Label: 90\n",
      "tinybert: 0.3333333333333333\n",
      "roberta: 1.0\n",
      "bert: 1.0\n",
      "distilbert: 1.0\n",
      "Label: 91\n",
      "tinybert: 0.28182941903584674\n",
      "roberta: 0.5871446229913473\n",
      "bert: 0.2978986402966625\n",
      "distilbert: 0.35599505562422745\n",
      "Label: 92\n",
      "tinybert: 0.0\n",
      "roberta: 0.0\n",
      "bert: 0.0\n",
      "distilbert: 0.0\n",
      "Label: 93\n",
      "tinybert: 0.9384615384615385\n",
      "roberta: 0.9076923076923076\n",
      "bert: 0.9384615384615385\n",
      "distilbert: 0.9384615384615385\n",
      "Label: 94\n",
      "tinybert: 0.34972677595628415\n",
      "roberta: 0.6229508196721312\n",
      "bert: 0.8579234972677595\n",
      "distilbert: 0.6994535519125683\n",
      "Label: 95\n",
      "tinybert: 0.8000000000000002\n",
      "roberta: 0.8000000000000002\n",
      "bert: 0.8000000000000002\n",
      "distilbert: 0.8000000000000002\n",
      "Label: 96\n",
      "tinybert: 0.5277777777777778\n",
      "roberta: 0.5277777777777778\n",
      "bert: 0.5\n",
      "distilbert: 0.4861111111111111\n",
      "Label: 97\n",
      "tinybert: 0.26666666666666666\n",
      "roberta: 0.20000000000000004\n",
      "bert: 0.26666666666666666\n",
      "distilbert: 0.06666666666666667\n",
      "Label: 98\n",
      "tinybert: 0.23134328358208955\n",
      "roberta: 0.0\n",
      "bert: 0.007462686567164179\n",
      "distilbert: 0.014925373134328358\n",
      "Label: 99\n",
      "tinybert: 0.9565217391304348\n",
      "roberta: 0.9565217391304348\n",
      "bert: 0.9130434782608695\n",
      "distilbert: 0.9565217391304348\n",
      "Label: 100\n",
      "tinybert: 0.8823529411764706\n",
      "roberta: 0.9411764705882353\n",
      "bert: 0.8823529411764706\n",
      "distilbert: 0.9411764705882353\n",
      "Label: 101\n",
      "tinybert: 0.7777777777777778\n",
      "roberta: 0.7777777777777778\n",
      "bert: 0.7777777777777778\n",
      "distilbert: 0.7777777777777778\n",
      "Label: 102\n",
      "tinybert: 1.0\n",
      "roberta: 1.0\n",
      "bert: 1.0\n",
      "distilbert: 1.0\n",
      "Label: 103\n",
      "tinybert: 1.0\n",
      "roberta: 1.0\n",
      "bert: 1.0\n",
      "distilbert: 1.0\n",
      "Label: 104\n",
      "tinybert: 0.8043478260869565\n",
      "roberta: 0.8478260869565218\n",
      "bert: 0.8260869565217391\n",
      "distilbert: 0.8260869565217391\n",
      "Label: 105\n",
      "tinybert: 0.6861924686192469\n",
      "roberta: 0.6652719665271967\n",
      "bert: 0.6778242677824268\n",
      "distilbert: 0.6778242677824268\n",
      "Label: 106\n",
      "tinybert: 0.5\n",
      "roberta: 0.61\n",
      "bert: 0.69\n",
      "distilbert: 0.54\n",
      "Label: 107\n",
      "tinybert: 0.25\n",
      "roberta: 0.0\n",
      "bert: 0.0\n",
      "distilbert: 0.0625\n",
      "Label: 108\n",
      "tinybert: 0.9955489614243324\n",
      "roberta: 0.9851632047477745\n",
      "bert: 0.9970326409495549\n",
      "distilbert: 0.9970326409495549\n",
      "Label: 109\n",
      "tinybert: 0.0\n",
      "roberta: 0.0\n",
      "bert: 0.0\n",
      "distilbert: 0.0\n",
      "Label: 110\n",
      "tinybert: 0.8584905660377359\n",
      "roberta: 0.9056603773584906\n",
      "bert: 0.9339622641509434\n",
      "distilbert: 0.9056603773584906\n",
      "Label: 111\n",
      "tinybert: 0.08333333333333333\n",
      "roberta: 0.08333333333333333\n",
      "bert: 0.0\n",
      "distilbert: 0.08333333333333333\n",
      "Label: 112\n",
      "tinybert: 0.6439628482972136\n",
      "roberta: 0.8297213622291022\n",
      "bert: 0.8173374613003096\n",
      "distilbert: 0.7801857585139319\n",
      "Label: 113\n",
      "tinybert: 0.875\n",
      "roberta: 0.875\n",
      "bert: 0.875\n",
      "distilbert: 0.875\n",
      "Label: 114\n",
      "tinybert: 0.07407407407407407\n",
      "roberta: 0.0\n",
      "bert: 0.0\n",
      "distilbert: 0.0\n",
      "Label: 115\n",
      "tinybert: 0.8897876643073811\n",
      "roberta: 0.9352881698685541\n",
      "bert: 0.9261880687563196\n",
      "distilbert: 0.923154701718908\n",
      "Label: 116\n",
      "tinybert: 0.25\n",
      "roberta: 0.25\n",
      "bert: 0.25\n",
      "distilbert: 0.25\n",
      "Label: 117\n",
      "tinybert: 0.4151291512915129\n",
      "roberta: 0.08856088560885608\n",
      "bert: 0.0996309963099631\n",
      "distilbert: 0.1014760147601476\n",
      "Label: 118\n",
      "tinybert: 0.0\n",
      "roberta: 0.0\n",
      "bert: 0.0\n",
      "distilbert: 0.0\n",
      "Label: 119\n",
      "tinybert: 0.8529411764705882\n",
      "roberta: 0.8725490196078431\n",
      "bert: 0.9019607843137255\n",
      "distilbert: 0.8823529411764706\n",
      "Label: 120\n",
      "tinybert: 0.9467213114754098\n",
      "roberta: 0.9877049180327869\n",
      "bert: 0.9836065573770492\n",
      "distilbert: 0.9672131147540983\n",
      "Label: 121\n",
      "tinybert: 0.9459459459459459\n",
      "roberta: 0.9459459459459459\n",
      "bert: 0.918918918918919\n",
      "distilbert: 0.9459459459459459\n",
      "Label: 122\n",
      "tinybert: 0.29492455418381347\n",
      "roberta: 0.262002743484225\n",
      "bert: 0.2812071330589849\n",
      "distilbert: 0.3168724279835391\n",
      "Label: 123\n",
      "tinybert: 0.3333333333333333\n",
      "roberta: 0.2777777777777778\n",
      "bert: 0.3888888888888889\n",
      "distilbert: 0.3333333333333333\n",
      "Label: 124\n",
      "tinybert: 0.125\n",
      "roberta: 0.0625\n",
      "bert: 0.25\n",
      "distilbert: 0.125\n",
      "Label: 125\n",
      "tinybert: 0.5\n",
      "roberta: 0.0\n",
      "bert: 0.0\n",
      "distilbert: 0.0\n",
      "Label: 126\n",
      "tinybert: 0.6992125984251969\n",
      "roberta: 0.6267716535433071\n",
      "bert: 0.6425196850393701\n",
      "distilbert: 0.6346456692913386\n",
      "Label: 127\n",
      "tinybert: 0.8094321462945139\n",
      "roberta: 0.8912415784408084\n",
      "bert: 0.8820981713185756\n",
      "distilbert: 0.8820981713185756\n",
      "Label: 128\n",
      "tinybert: 0.546875\n",
      "roberta: 0.75\n",
      "bert: 0.765625\n",
      "distilbert: 0.609375\n",
      "Label: 129\n",
      "tinybert: 0.15789473684210525\n",
      "roberta: 0.24736842105263157\n",
      "bert: 0.5263157894736842\n",
      "distilbert: 0.47543859649122805\n",
      "Label: 130\n",
      "tinybert: 0.841\n",
      "roberta: 0.916\n",
      "bert: 0.935\n",
      "distilbert: 0.92\n",
      "Label: 131\n",
      "tinybert: 0.8347826086956521\n",
      "roberta: 0.791304347826087\n",
      "bert: 0.8521739130434782\n",
      "distilbert: 0.8695652173913043\n",
      "Label: 132\n",
      "tinybert: 0.5324324324324324\n",
      "roberta: 0.6702702702702703\n",
      "bert: 0.7054054054054054\n",
      "distilbert: 0.7189189189189189\n",
      "Label: 133\n",
      "tinybert: 0.325\n",
      "roberta: 0.45\n",
      "bert: 0.47500000000000003\n",
      "distilbert: 0.5\n",
      "Label: 134\n",
      "tinybert: 0.9378995433789954\n",
      "roberta: 0.9662100456621004\n",
      "bert: 0.9616438356164384\n",
      "distilbert: 0.9634703196347032\n",
      "Label: 135\n",
      "tinybert: 0.648\n",
      "roberta: 0.68\n",
      "bert: 0.696\n",
      "distilbert: 0.704\n",
      "Label: 136\n",
      "tinybert: 0.8856079404466501\n",
      "roberta: 0.9414392059553349\n",
      "bert: 0.9424317617866005\n",
      "distilbert: 0.9419354838709677\n",
      "Label: 137\n",
      "tinybert: 0.9517906336088154\n",
      "roberta: 0.9807162534435262\n",
      "bert: 0.9696969696969697\n",
      "distilbert: 0.9683195592286501\n",
      "Label: 138\n",
      "tinybert: 0.6833333333333333\n",
      "roberta: 0.8000000000000002\n",
      "bert: 0.75\n",
      "distilbert: 0.7833333333333333\n",
      "Label: 139\n",
      "tinybert: 0.6451612903225806\n",
      "roberta: 0.8064516129032258\n",
      "bert: 0.8064516129032258\n",
      "distilbert: 0.8064516129032258\n",
      "Label: 140\n",
      "tinybert: 0.864406779661017\n",
      "roberta: 0.8305084745762712\n",
      "bert: 0.8305084745762712\n",
      "distilbert: 0.847457627118644\n",
      "Label: 141\n",
      "tinybert: 0.75\n",
      "roberta: 0.85\n",
      "bert: 0.775\n",
      "distilbert: 0.825\n",
      "Label: 142\n",
      "tinybert: 0.55\n",
      "roberta: 0.65\n",
      "bert: 0.6\n",
      "distilbert: 0.6\n",
      "Label: 143\n",
      "tinybert: 0.9966555183946488\n",
      "roberta: 1.0\n",
      "bert: 1.0\n",
      "distilbert: 1.0\n",
      "Label: 144\n",
      "tinybert: 0.0\n",
      "roberta: 0.0\n",
      "bert: 0.0\n",
      "distilbert: 0.0\n",
      "Label: 145\n",
      "tinybert: 0.4230769230769231\n",
      "roberta: 0.2692307692307692\n",
      "bert: 0.2692307692307692\n",
      "distilbert: 0.2692307692307692\n",
      "Label: 146\n",
      "tinybert: 0.0\n",
      "roberta: 0.0\n",
      "bert: 0.0\n",
      "distilbert: 0.0\n",
      "Label: 147\n",
      "tinybert: 0.9839668994052236\n",
      "roberta: 0.9945694336695112\n",
      "bert: 0.9925006464959917\n",
      "distilbert: 0.9943108352728213\n",
      "Label: 148\n",
      "tinybert: 0.9347826086956522\n",
      "roberta: 0.9782608695652174\n",
      "bert: 1.0\n",
      "distilbert: 0.9891304347826086\n",
      "Label: 149\n",
      "tinybert: 0.5625\n",
      "roberta: 0.5\n",
      "bert: 0.3125\n",
      "distilbert: 0.5625\n",
      "Label: 150\n",
      "tinybert: 0.9117647058823528\n",
      "roberta: 0.9411764705882353\n",
      "bert: 0.9558823529411765\n",
      "distilbert: 0.9558823529411765\n",
      "Label: 151\n",
      "tinybert: 0.9285714285714286\n",
      "roberta: 0.5714285714285714\n",
      "bert: 0.5714285714285714\n",
      "distilbert: 0.5714285714285714\n",
      "Label: 152\n",
      "tinybert: 0.6666666666666666\n",
      "roberta: 0.5555555555555556\n",
      "bert: 0.2222222222222222\n",
      "distilbert: 0.6666666666666666\n",
      "Label: 153\n",
      "tinybert: 0.7959183673469388\n",
      "roberta: 0.8290816326530612\n",
      "bert: 0.8392857142857143\n",
      "distilbert: 0.8341836734693878\n",
      "Label: 154\n",
      "tinybert: 0.4583333333333333\n",
      "roberta: 0.6666666666666666\n",
      "bert: 0.7083333333333334\n",
      "distilbert: 0.625\n",
      "Label: 155\n",
      "tinybert: 1.0\n",
      "roberta: 1.0\n",
      "bert: 1.0\n",
      "distilbert: 1.0\n",
      "Label: 156\n",
      "tinybert: 0.25925925925925924\n",
      "roberta: 0.10052910052910052\n",
      "bert: 0.047619047619047616\n",
      "distilbert: 0.13756613756613756\n",
      "Label: 157\n",
      "tinybert: 0.25\n",
      "roberta: 0.375\n",
      "bert: 0.4166666666666667\n",
      "distilbert: 0.375\n",
      "Label: 158\n",
      "tinybert: 0.42553191489361697\n",
      "roberta: 0.2765957446808511\n",
      "bert: 0.21276595744680848\n",
      "distilbert: 0.2978723404255319\n",
      "Label: 159\n",
      "tinybert: 0.3333333333333333\n",
      "roberta: 0.5416666666666666\n",
      "bert: 0.5\n",
      "distilbert: 0.5416666666666666\n",
      "Label: 160\n",
      "tinybert: 0.8799283154121865\n",
      "roberta: 0.8727598566308243\n",
      "bert: 0.899641577060932\n",
      "distilbert: 0.8906810035842294\n",
      "Label: 161\n",
      "tinybert: 0.8780487804878049\n"
     ]
    },
    {
     "name": "stdout",
     "output_type": "stream",
     "text": [
      "roberta: 0.9121951219512195\n",
      "bert: 0.8878048780487805\n",
      "distilbert: 0.8926829268292683\n",
      "Label: 162\n",
      "tinybert: 0.6428571428571429\n",
      "roberta: 0.12857142857142856\n",
      "bert: 0.0\n",
      "distilbert: 0.0\n",
      "Label: 163\n",
      "tinybert: 0.6078431372549019\n",
      "roberta: 0.7058823529411765\n",
      "bert: 0.6274509803921569\n",
      "distilbert: 0.6274509803921569\n",
      "Label: 164\n",
      "tinybert: 0.8440860215053764\n",
      "roberta: 0.8870967741935484\n",
      "bert: 0.8817204301075269\n",
      "distilbert: 0.8709677419354839\n",
      "Label: 165\n",
      "tinybert: 0.0851063829787234\n",
      "roberta: 0.0\n",
      "bert: 0.0\n",
      "distilbert: 0.06382978723404255\n",
      "Label: 166\n",
      "tinybert: 0.6274509803921569\n",
      "roberta: 0.6666666666666666\n",
      "bert: 0.7254901960784313\n",
      "distilbert: 0.7254901960784313\n",
      "Label: 167\n",
      "tinybert: 0.4505327245053272\n",
      "roberta: 0.2191780821917808\n",
      "bert: 0.4916286149162861\n",
      "distilbert: 0.3318112633181126\n",
      "Label: 168\n",
      "tinybert: 0.1875\n",
      "roberta: 0.0\n",
      "bert: 0.0\n",
      "distilbert: 0.0\n",
      "Label: 169\n",
      "tinybert: 0.7948717948717948\n",
      "roberta: 0.8461538461538461\n",
      "bert: 0.8205128205128205\n",
      "distilbert: 0.8717948717948718\n",
      "Label: 170\n",
      "tinybert: 0.9466666666666667\n",
      "roberta: 0.96\n",
      "bert: 0.9511111111111111\n",
      "distilbert: 0.9666666666666667\n",
      "Label: 171\n",
      "tinybert: 0.8927536231884058\n",
      "roberta: 0.9130434782608695\n",
      "bert: 0.9217391304347826\n",
      "distilbert: 0.927536231884058\n",
      "Label: 172\n",
      "tinybert: 0.8686006825938567\n",
      "roberta: 0.9931740614334471\n",
      "bert: 0.9931740614334471\n",
      "distilbert: 0.984641638225256\n",
      "Label: 173\n",
      "tinybert: 0.9885057471264368\n",
      "roberta: 0.9870689655172413\n",
      "bert: 0.9913793103448276\n",
      "distilbert: 0.9913793103448276\n",
      "Label: 174\n",
      "tinybert: 0.9793459552495697\n",
      "roberta: 0.9879518072289156\n",
      "bert: 0.9862306368330465\n",
      "distilbert: 0.9879518072289156\n",
      "Label: 175\n",
      "tinybert: 0.6983805668016194\n",
      "roberta: 0.7955465587044535\n",
      "bert: 0.7550607287449391\n",
      "distilbert: 0.7550607287449391\n",
      "Label: 176\n",
      "tinybert: 0.43243243243243246\n",
      "roberta: 0.4594594594594595\n",
      "bert: 0.5675675675675675\n",
      "distilbert: 0.6216216216216216\n",
      "Label: 177\n",
      "tinybert: 0.9602272727272727\n",
      "roberta: 0.9727272727272728\n",
      "bert: 0.9784090909090909\n",
      "distilbert: 0.9727272727272728\n",
      "Label: 178\n",
      "tinybert: 0.7777777777777778\n",
      "roberta: 0.7777777777777778\n",
      "bert: 0.7222222222222222\n",
      "distilbert: 0.7222222222222222\n",
      "Label: 179\n",
      "tinybert: 0.5135135135135135\n",
      "roberta: 0.5675675675675675\n",
      "bert: 0.7297297297297297\n",
      "distilbert: 0.6756756756756757\n",
      "Label: 180\n",
      "tinybert: 0.0\n",
      "roberta: 0.0\n",
      "bert: 0.0\n",
      "distilbert: 0.0\n",
      "Label: 181\n",
      "tinybert: 0.8333333333333334\n",
      "roberta: 0.8541666666666666\n",
      "bert: 0.8541666666666666\n",
      "distilbert: 0.8958333333333334\n",
      "Label: 182\n",
      "tinybert: 0.5454545454545454\n",
      "roberta: 0.0\n",
      "bert: 0.36363636363636365\n",
      "distilbert: 0.36363636363636365\n",
      "Label: 183\n",
      "tinybert: 0.75\n",
      "roberta: 0.8333333333333334\n",
      "bert: 0.9583333333333334\n",
      "distilbert: 0.8333333333333334\n",
      "Label: 184\n",
      "tinybert: 0.8235294117647058\n",
      "roberta: 0.8235294117647058\n",
      "bert: 0.8431372549019607\n",
      "distilbert: 0.8039215686274509\n",
      "Label: 185\n",
      "tinybert: 0.6179775280898876\n",
      "roberta: 0.8876404494382022\n",
      "bert: 1.0\n",
      "distilbert: 1.0\n",
      "Label: 186\n",
      "tinybert: 0.8214285714285714\n",
      "roberta: 0.8928571428571429\n",
      "bert: 0.8571428571428571\n",
      "distilbert: 0.8571428571428571\n",
      "Label: 187\n",
      "tinybert: 0.7916666666666666\n",
      "roberta: 0.9583333333333334\n",
      "bert: 0.9583333333333334\n",
      "distilbert: 0.9583333333333334\n",
      "Label: 188\n",
      "tinybert: 0.8399999999999999\n",
      "roberta: 0.88\n",
      "bert: 0.96\n",
      "distilbert: 0.88\n",
      "Label: 189\n",
      "tinybert: 0.275\n",
      "roberta: 0.225\n",
      "bert: 0.2875\n",
      "distilbert: 0.275\n",
      "Label: 190\n",
      "tinybert: 0.5783132530120482\n",
      "roberta: 0.819277108433735\n",
      "bert: 0.8102409638554217\n",
      "distilbert: 0.75\n",
      "Label: 191\n",
      "tinybert: 0.4298245614035088\n",
      "roberta: 0.6403508771929824\n",
      "bert: 0.5789473684210527\n",
      "distilbert: 0.5789473684210527\n",
      "Label: 192\n",
      "tinybert: 0.3389830508474576\n",
      "roberta: 0.23728813559322035\n",
      "bert: 0.23728813559322035\n",
      "distilbert: 0.3559322033898305\n",
      "Label: 193\n",
      "tinybert: 0.0983606557377049\n",
      "roberta: 0.0983606557377049\n",
      "bert: 0.0\n",
      "distilbert: 0.0\n",
      "Label: 194\n",
      "tinybert: 0.59375\n",
      "roberta: 0.5625\n",
      "bert: 0.625\n",
      "distilbert: 0.65625\n",
      "Label: 195\n",
      "tinybert: 0.805327868852459\n",
      "roberta: 0.8545081967213115\n",
      "bert: 0.8319672131147541\n",
      "distilbert: 0.8483606557377049\n",
      "Label: 196\n",
      "tinybert: 0.875\n",
      "roberta: 0.9166666666666666\n",
      "bert: 0.9166666666666666\n",
      "distilbert: 0.875\n",
      "Label: 197\n",
      "tinybert: 1.0\n",
      "roberta: 0.9375\n",
      "bert: 1.0\n",
      "distilbert: 1.0\n",
      "Label: 198\n",
      "tinybert: 0.625\n",
      "roberta: 0.5625\n",
      "bert: 0.625\n",
      "distilbert: 0.5\n",
      "Label: 199\n",
      "tinybert: 0.9322033898305084\n",
      "roberta: 0.9322033898305084\n",
      "bert: 0.9491525423728814\n",
      "distilbert: 0.9491525423728814\n",
      "Label: 200\n",
      "tinybert: 0.9263959390862944\n",
      "roberta: 0.9416243654822335\n",
      "bert: 0.9441624365482234\n",
      "distilbert: 0.9441624365482234\n"
     ]
    }
   ],
   "source": [
    "df = pd.DataFrame()\n",
    "label_list = []\n",
    "tinybert_list = []\n",
    "roberta_list = []\n",
    "bert_list = []\n",
    "distilbert_list = []\n",
    "for i in range(0, 201):\n",
    "    print('Label:', i)\n",
    "    print('tinybert:', f1_score(real[real['label']==i].label, real[real['label']==i].tinybert_pred, average='micro'))\n",
    "    print('roberta:', f1_score(real[real['label']==i].label, real[real['label']==i].roberta_pred, average='micro'))\n",
    "    print('bert:', f1_score(real[real['label']==i].label, real[real['label']==i].bert_pred, average='micro'))\n",
    "    print('distilbert:', f1_score(real[real['label']==i].label, real[real['label']==i].distilbert_pred, average='micro'))\n",
    "    \n",
    "    label_list.append(i)\n",
    "    tinybert_list.append(f1_score(real[real['label']==i].label, real[real['label']==i].tinybert_pred, average='micro'))\n",
    "    roberta_list.append(f1_score(real[real['label']==i].label, real[real['label']==i].roberta_pred, average='micro'))\n",
    "    bert_list.append(f1_score(real[real['label']==i].label, real[real['label']==i].bert_pred, average='micro'))\n",
    "    distilbert_list.append(f1_score(real[real['label']==i].label, real[real['label']==i].distilbert_pred, average='micro'))\n",
    "\n",
    "df['Label'] = label_list\n",
    "df['TinyBert'] = tinybert_list\n",
    "df['Roberta'] = roberta_list\n",
    "df['Bert'] = bert_list\n",
    "df['Distilbert'] = distilbert_list\n",
    "\n",
    "df.to_excel('F1_scores_matching.xlsx')"
   ]
  },
  {
   "cell_type": "markdown",
   "id": "49cd98ae",
   "metadata": {},
   "source": [
    "Which test colums are especially often misclassified?"
   ]
  },
  {
   "cell_type": "code",
   "execution_count": 19,
   "id": "96a60cc5",
   "metadata": {},
   "outputs": [
    {
     "data": {
      "text/plain": [
       "0      0.032258\n",
       "1      0.250000\n",
       "2      0.060976\n",
       "3      0.071942\n",
       "4      0.527273\n",
       "         ...   \n",
       "197         NaN\n",
       "198    0.375000\n",
       "199    0.067797\n",
       "200    0.073604\n",
       "201    1.000000\n",
       "Name: label, Length: 202, dtype: float64"
      ]
     },
     "execution_count": 19,
     "metadata": {},
     "output_type": "execute_result"
    }
   ],
   "source": [
    "real[real['label'] != real['tinybert_pred']].label.value_counts().sort_index() / real.label.value_counts().sort_index()"
   ]
  },
  {
   "cell_type": "code",
   "execution_count": 20,
   "id": "e438dc32",
   "metadata": {},
   "outputs": [],
   "source": [
    "relative_fails = (real[real['label'] != real['tinybert_pred']].label.value_counts().sort_index() / real.label.value_counts().sort_index())"
   ]
  },
  {
   "cell_type": "code",
   "execution_count": 21,
   "id": "f357a240",
   "metadata": {},
   "outputs": [
    {
     "data": {
      "text/plain": [
       "72     0.969697\n",
       "180    1.000000\n",
       "92     1.000000\n",
       "109    1.000000\n",
       "57     1.000000\n",
       "49     1.000000\n",
       "118    1.000000\n",
       "144    1.000000\n",
       "18     1.000000\n",
       "146    1.000000\n",
       "201    1.000000\n",
       "102         NaN\n",
       "103         NaN\n",
       "155         NaN\n",
       "197         NaN\n",
       "Name: label, dtype: float64"
      ]
     },
     "execution_count": 21,
     "metadata": {},
     "output_type": "execute_result"
    }
   ],
   "source": [
    "relative_fails.sort_values().tail(15)"
   ]
  },
  {
   "cell_type": "code",
   "execution_count": 22,
   "id": "9d168fab",
   "metadata": {
    "scrolled": true
   },
   "outputs": [
    {
     "data": {
      "text/plain": [
       "<AxesSubplot:>"
      ]
     },
     "execution_count": 22,
     "metadata": {},
     "output_type": "execute_result"
    },
    {
     "data": {
      "image/png": "[encoded data removed]",
      "text/plain": [
       "<Figure size 2000x1200 with 1 Axes>"
      ]
     },
     "metadata": {
      "needs_background": "light"
     },
     "output_type": "display_data"
    }
   ],
   "source": [
    "\n",
    "figure(figsize=(25, 15), dpi=80)\n",
    "relative_fails.sort_values().plot(kind='bar', color='cornflowerblue')"
   ]
  },
  {
   "cell_type": "code",
   "execution_count": 23,
   "id": "766b28ab",
   "metadata": {},
   "outputs": [
    {
     "data": {
      "text/plain": [
       "<AxesSubplot:>"
      ]
     },
     "execution_count": 23,
     "metadata": {},
     "output_type": "execute_result"
    },
    {
     "data": {
      "image/png": "[encoded data removed]",
      "text/plain": [
       "<Figure size 2000x1200 with 1 Axes>"
      ]
     },
     "metadata": {
      "needs_background": "light"
     },
     "output_type": "display_data"
    }
   ],
   "source": [
    "relative_fails = (real[real['label'] != real['roberta_pred']].label.value_counts().sort_index() / real.label.value_counts().sort_index())\n",
    "figure(figsize=(25, 15), dpi=80)\n",
    "relative_fails.sort_values().plot(kind='bar', color='cornflowerblue')"
   ]
  },
  {
   "cell_type": "code",
   "execution_count": 24,
   "id": "73e1128d",
   "metadata": {},
   "outputs": [
    {
     "data": {
      "text/plain": [
       "<AxesSubplot:>"
      ]
     },
     "execution_count": 24,
     "metadata": {},
     "output_type": "execute_result"
    },
    {
     "data": {
      "image/png": "[encoded data removed]",
      "text/plain": [
       "<Figure size 2000x1200 with 1 Axes>"
      ]
     },
     "metadata": {
      "needs_background": "light"
     },
     "output_type": "display_data"
    }
   ],
   "source": [
    "relative_fails = (real[real['label'] != real['bert_pred']].label.value_counts().sort_index() / real.label.value_counts().sort_index())\n",
    "figure(figsize=(25, 15), dpi=80)\n",
    "relative_fails.sort_values().plot(kind='bar', color='cornflowerblue')"
   ]
  },
  {
   "cell_type": "code",
   "execution_count": 25,
   "id": "8b253b2f",
   "metadata": {},
   "outputs": [
    {
     "data": {
      "text/plain": [
       "<AxesSubplot:>"
      ]
     },
     "execution_count": 25,
     "metadata": {},
     "output_type": "execute_result"
    },
    {
     "data": {
      "image/png": "[encoded data removed]",
      "text/plain": [
       "<Figure size 2000x1200 with 1 Axes>"
      ]
     },
     "metadata": {
      "needs_background": "light"
     },
     "output_type": "display_data"
    }
   ],
   "source": [
    "relative_fails = (real[real['label'] != real['distilbert_pred']].label.value_counts().sort_index() / real.label.value_counts().sort_index())\n",
    "figure(figsize=(25, 15), dpi=80)\n",
    "relative_fails.sort_values().plot(kind='bar', color='cornflowerblue')"
   ]
  },
  {
   "cell_type": "code",
   "execution_count": 26,
   "id": "0bf6b557",
   "metadata": {},
   "outputs": [
    {
     "data": {
      "text/plain": [
       "<AxesSubplot:>"
      ]
     },
     "execution_count": 26,
     "metadata": {},
     "output_type": "execute_result"
    },
    {
     "data": {
      "image/png": "[encoded data removed]",
      "text/plain": [
       "<Figure size 432x288 with 1 Axes>"
      ]
     },
     "metadata": {
      "needs_background": "light"
     },
     "output_type": "display_data"
    }
   ],
   "source": [
    "relative_fails.sort_values().plot()"
   ]
  },
  {
   "cell_type": "code",
   "execution_count": 27,
   "id": "92ffb9c3",
   "metadata": {},
   "outputs": [
    {
     "data": {
      "text/plain": [
       "108    0.002967\n",
       "147    0.005689\n",
       "64     0.008372\n",
       "173    0.008621\n",
       "148    0.010870\n",
       "174    0.012048\n",
       "172    0.015358\n",
       "43     0.018182\n",
       "74     0.019231\n",
       "30     0.020161\n",
       "29     0.027027\n",
       "177    0.027273\n",
       "16     0.028393\n",
       "68     0.029652\n",
       "137    0.031680\n",
       "0      0.032258\n",
       "120    0.032787\n",
       "170    0.033333\n",
       "83     0.033333\n",
       "66     0.034965\n",
       "28     0.035714\n",
       "134    0.036530\n",
       "40     0.040089\n",
       "187    0.041667\n",
       "10     0.041667\n",
       "99     0.043478\n",
       "150    0.044118\n",
       "2      0.048780\n",
       "71     0.050209\n",
       "3      0.050360\n",
       "199    0.050847\n",
       "121    0.054054\n",
       "200    0.055838\n",
       "136    0.058065\n",
       "100    0.058824\n",
       "93     0.061538\n",
       "44     0.062500\n",
       "77     0.066667\n",
       "75     0.066667\n",
       "33     0.068966\n",
       "Name: label, dtype: float64"
      ]
     },
     "execution_count": 27,
     "metadata": {},
     "output_type": "execute_result"
    }
   ],
   "source": [
    "relative_fails.sort_values().head(40)"
   ]
  },
  {
   "cell_type": "code",
   "execution_count": 28,
   "id": "856ba44e",
   "metadata": {},
   "outputs": [
    {
     "data": {
      "text/plain": [
       "117    0.898524\n",
       "111    0.916667\n",
       "78     0.933333\n",
       "97     0.933333\n",
       "165    0.936170\n",
       "107    0.937500\n",
       "20     0.966292\n",
       "88     0.967033\n",
       "98     0.985075\n",
       "162    1.000000\n",
       "13     1.000000\n",
       "18     1.000000\n",
       "26     1.000000\n",
       "49     1.000000\n",
       "53     1.000000\n",
       "193    1.000000\n",
       "57     1.000000\n",
       "72     1.000000\n",
       "73     1.000000\n",
       "168    1.000000\n",
       "81     1.000000\n",
       "86     1.000000\n",
       "92     1.000000\n",
       "109    1.000000\n",
       "114    1.000000\n",
       "118    1.000000\n",
       "125    1.000000\n",
       "180    1.000000\n",
       "144    1.000000\n",
       "146    1.000000\n",
       "82     1.000000\n",
       "201    1.000000\n",
       "45          NaN\n",
       "90          NaN\n",
       "102         NaN\n",
       "103         NaN\n",
       "143         NaN\n",
       "155         NaN\n",
       "185         NaN\n",
       "197         NaN\n",
       "Name: label, dtype: float64"
      ]
     },
     "execution_count": 28,
     "metadata": {},
     "output_type": "execute_result"
    }
   ],
   "source": [
    "# nas are perfectly classified\n",
    "relative_fails.sort_values().tail(40)"
   ]
  },
  {
   "cell_type": "markdown",
   "id": "e9da5fad",
   "metadata": {},
   "source": [
    "- 180    reviewsProduct\n",
    "- 92     headlineRecipe\n",
    "- 109    itemlistelementProduct\n",
    "- 57     datepublishedProduct\n",
    "- 49     copyrightyearCreativeWork\n",
    "- 118    mainentityofpageCreativeWork\n",
    "- 144    weightProduct\n",
    "- 18     aggregateratingRecipe\n",
    "- 146    offersBook\n",
    "- 201    founderLocalBusiness"
   ]
  },
  {
   "cell_type": "code",
   "execution_count": 29,
   "id": "05a7820a",
   "metadata": {},
   "outputs": [
    {
     "data": {
      "text/html": [
       "<div>\n",
       "<style scoped>\n",
       "    .dataframe tbody tr th:only-of-type {\n",
       "        vertical-align: middle;\n",
       "    }\n",
       "\n",
       "    .dataframe tbody tr th {\n",
       "        vertical-align: top;\n",
       "    }\n",
       "\n",
       "    .dataframe thead th {\n",
       "        text-align: right;\n",
       "    }\n",
       "</style>\n",
       "<table border=\"1\" class=\"dataframe\">\n",
       "  <thead>\n",
       "    <tr style=\"text-align: right;\">\n",
       "      <th></th>\n",
       "      <th>text</th>\n",
       "      <th>label</th>\n",
       "      <th>tinybert_pred</th>\n",
       "      <th>roberta_pred</th>\n",
       "      <th>bert_pred</th>\n",
       "      <th>distilbert_pred</th>\n",
       "    </tr>\n",
       "  </thead>\n",
       "  <tbody>\n",
       "    <tr>\n",
       "      <th>1216</th>\n",
       "      <td>reviewbody Fabian was great to deal with and ...</td>\n",
       "      <td>180</td>\n",
       "      <td>176</td>\n",
       "      <td>176</td>\n",
       "      <td>176</td>\n",
       "      <td>176</td>\n",
       "    </tr>\n",
       "    <tr>\n",
       "      <th>33054</th>\n",
       "      <td>datepublished 2019-08-06 14 06 31 author Mich...</td>\n",
       "      <td>180</td>\n",
       "      <td>176</td>\n",
       "      <td>177</td>\n",
       "      <td>177</td>\n",
       "      <td>177</td>\n",
       "    </tr>\n",
       "    <tr>\n",
       "      <th>40775</th>\n",
       "      <td>datepublished 2017-11-08 description I work w...</td>\n",
       "      <td>180</td>\n",
       "      <td>177</td>\n",
       "      <td>177</td>\n",
       "      <td>177</td>\n",
       "      <td>177</td>\n",
       "    </tr>\n",
       "    <tr>\n",
       "      <th>48620</th>\n",
       "      <td>name The perfect level of calories for a deli...</td>\n",
       "      <td>180</td>\n",
       "      <td>178</td>\n",
       "      <td>178</td>\n",
       "      <td>178</td>\n",
       "      <td>178</td>\n",
       "    </tr>\n",
       "  </tbody>\n",
       "</table>\n",
       "</div>"
      ],
      "text/plain": [
       "                                                    text  label  \\\n",
       "1216    reviewbody Fabian was great to deal with and ...    180   \n",
       "33054   datepublished 2019-08-06 14 06 31 author Mich...    180   \n",
       "40775   datepublished 2017-11-08 description I work w...    180   \n",
       "48620   name The perfect level of calories for a deli...    180   \n",
       "\n",
       "       tinybert_pred  roberta_pred  bert_pred  distilbert_pred  \n",
       "1216             176           176        176              176  \n",
       "33054            176           177        177              177  \n",
       "40775            177           177        177              177  \n",
       "48620            178           178        178              178  "
      ]
     },
     "execution_count": 29,
     "metadata": {},
     "output_type": "execute_result"
    }
   ],
   "source": [
    "real[real['label']==180]\n",
    "# reviewsProduct "
   ]
  },
  {
   "cell_type": "code",
   "execution_count": 30,
   "id": "27e8dfeb",
   "metadata": {},
   "outputs": [
    {
     "data": {
      "text/html": [
       "<div>\n",
       "<style scoped>\n",
       "    .dataframe tbody tr th:only-of-type {\n",
       "        vertical-align: middle;\n",
       "    }\n",
       "\n",
       "    .dataframe tbody tr th {\n",
       "        vertical-align: top;\n",
       "    }\n",
       "\n",
       "    .dataframe thead th {\n",
       "        text-align: right;\n",
       "    }\n",
       "</style>\n",
       "<table border=\"1\" class=\"dataframe\">\n",
       "  <thead>\n",
       "    <tr style=\"text-align: right;\">\n",
       "      <th></th>\n",
       "      <th>text</th>\n",
       "      <th>label</th>\n",
       "      <th>tinybert_pred</th>\n",
       "      <th>roberta_pred</th>\n",
       "      <th>bert_pred</th>\n",
       "      <th>distilbert_pred</th>\n",
       "    </tr>\n",
       "  </thead>\n",
       "  <tbody>\n",
       "    <tr>\n",
       "      <th>1216</th>\n",
       "      <td>reviewbody Fabian was great to deal with and ...</td>\n",
       "      <td>180</td>\n",
       "      <td>176</td>\n",
       "      <td>176</td>\n",
       "      <td>176</td>\n",
       "      <td>176</td>\n",
       "    </tr>\n",
       "    <tr>\n",
       "      <th>33054</th>\n",
       "      <td>datepublished 2019-08-06 14 06 31 author Mich...</td>\n",
       "      <td>180</td>\n",
       "      <td>176</td>\n",
       "      <td>177</td>\n",
       "      <td>177</td>\n",
       "      <td>177</td>\n",
       "    </tr>\n",
       "    <tr>\n",
       "      <th>40775</th>\n",
       "      <td>datepublished 2017-11-08 description I work w...</td>\n",
       "      <td>180</td>\n",
       "      <td>177</td>\n",
       "      <td>177</td>\n",
       "      <td>177</td>\n",
       "      <td>177</td>\n",
       "    </tr>\n",
       "    <tr>\n",
       "      <th>48620</th>\n",
       "      <td>name The perfect level of calories for a deli...</td>\n",
       "      <td>180</td>\n",
       "      <td>178</td>\n",
       "      <td>178</td>\n",
       "      <td>178</td>\n",
       "      <td>178</td>\n",
       "    </tr>\n",
       "  </tbody>\n",
       "</table>\n",
       "</div>"
      ],
      "text/plain": [
       "                                                    text  label  \\\n",
       "1216    reviewbody Fabian was great to deal with and ...    180   \n",
       "33054   datepublished 2019-08-06 14 06 31 author Mich...    180   \n",
       "40775   datepublished 2017-11-08 description I work w...    180   \n",
       "48620   name The perfect level of calories for a deli...    180   \n",
       "\n",
       "       tinybert_pred  roberta_pred  bert_pred  distilbert_pred  \n",
       "1216             176           176        176              176  \n",
       "33054            176           177        177              177  \n",
       "40775            177           177        177              177  \n",
       "48620            178           178        178              178  "
      ]
     },
     "execution_count": 30,
     "metadata": {},
     "output_type": "execute_result"
    }
   ],
   "source": [
    "real[real['label']==180]"
   ]
  },
  {
   "cell_type": "code",
   "execution_count": 31,
   "id": "b8b49dd8",
   "metadata": {},
   "outputs": [
    {
     "data": {
      "text/html": [
       "<div>\n",
       "<style scoped>\n",
       "    .dataframe tbody tr th:only-of-type {\n",
       "        vertical-align: middle;\n",
       "    }\n",
       "\n",
       "    .dataframe tbody tr th {\n",
       "        vertical-align: top;\n",
       "    }\n",
       "\n",
       "    .dataframe thead th {\n",
       "        text-align: right;\n",
       "    }\n",
       "</style>\n",
       "<table border=\"1\" class=\"dataframe\">\n",
       "  <thead>\n",
       "    <tr style=\"text-align: right;\">\n",
       "      <th></th>\n",
       "      <th>text</th>\n",
       "      <th>label</th>\n",
       "      <th>tinybert_pred</th>\n",
       "      <th>roberta_pred</th>\n",
       "      <th>bert_pred</th>\n",
       "      <th>distilbert_pred</th>\n",
       "    </tr>\n",
       "  </thead>\n",
       "  <tbody>\n",
       "    <tr>\n",
       "      <th>2919</th>\n",
       "      <td>jobtitle Manager telephone 918037405009 name ...</td>\n",
       "      <td>201</td>\n",
       "      <td>153</td>\n",
       "      <td>47</td>\n",
       "      <td>153</td>\n",
       "      <td>153</td>\n",
       "    </tr>\n",
       "    <tr>\n",
       "      <th>25829</th>\n",
       "      <td>BIZE G rald SZYMANSKI Stephanie BERTRAND Marie...</td>\n",
       "      <td>201</td>\n",
       "      <td>83</td>\n",
       "      <td>83</td>\n",
       "      <td>34</td>\n",
       "      <td>83</td>\n",
       "    </tr>\n",
       "  </tbody>\n",
       "</table>\n",
       "</div>"
      ],
      "text/plain": [
       "                                                    text  label  \\\n",
       "2919    jobtitle Manager telephone 918037405009 name ...    201   \n",
       "25829  BIZE G rald SZYMANSKI Stephanie BERTRAND Marie...    201   \n",
       "\n",
       "       tinybert_pred  roberta_pred  bert_pred  distilbert_pred  \n",
       "2919             153            47        153              153  \n",
       "25829             83            83         34               83  "
      ]
     },
     "execution_count": 31,
     "metadata": {},
     "output_type": "execute_result"
    }
   ],
   "source": [
    "real[real['label']==201]"
   ]
  },
  {
   "cell_type": "code",
   "execution_count": null,
   "id": "9fb5ce31",
   "metadata": {},
   "outputs": [],
   "source": []
  },
  {
   "cell_type": "code",
   "execution_count": 32,
   "id": "f5a68639",
   "metadata": {},
   "outputs": [
    {
     "data": {
      "text/html": [
       "<div>\n",
       "<style scoped>\n",
       "    .dataframe tbody tr th:only-of-type {\n",
       "        vertical-align: middle;\n",
       "    }\n",
       "\n",
       "    .dataframe tbody tr th {\n",
       "        vertical-align: top;\n",
       "    }\n",
       "\n",
       "    .dataframe thead th {\n",
       "        text-align: right;\n",
       "    }\n",
       "</style>\n",
       "<table border=\"1\" class=\"dataframe\">\n",
       "  <thead>\n",
       "    <tr style=\"text-align: right;\">\n",
       "      <th></th>\n",
       "      <th>text</th>\n",
       "      <th>label</th>\n",
       "      <th>tinybert_pred</th>\n",
       "      <th>roberta_pred</th>\n",
       "      <th>bert_pred</th>\n",
       "      <th>distilbert_pred</th>\n",
       "    </tr>\n",
       "  </thead>\n",
       "  <tbody>\n",
       "    <tr>\n",
       "      <th>2656</th>\n",
       "      <td>Lemony Angel Hair Pasta with Crab Turkey Spina...</td>\n",
       "      <td>92</td>\n",
       "      <td>137</td>\n",
       "      <td>137</td>\n",
       "      <td>137</td>\n",
       "      <td>137</td>\n",
       "    </tr>\n",
       "    <tr>\n",
       "      <th>2904</th>\n",
       "      <td>O melhor biscoito de chocolate do mundo saiba...</td>\n",
       "      <td>92</td>\n",
       "      <td>173</td>\n",
       "      <td>173</td>\n",
       "      <td>137</td>\n",
       "      <td>137</td>\n",
       "    </tr>\n",
       "    <tr>\n",
       "      <th>5005</th>\n",
       "      <td>Black Pepper Biscuits with Sweet Corn and Saus...</td>\n",
       "      <td>92</td>\n",
       "      <td>137</td>\n",
       "      <td>137</td>\n",
       "      <td>137</td>\n",
       "      <td>137</td>\n",
       "    </tr>\n",
       "    <tr>\n",
       "      <th>9394</th>\n",
       "      <td>PINEAPPLE COCONUT SMOOTHIE SALTED CARAMEL SMOO...</td>\n",
       "      <td>92</td>\n",
       "      <td>137</td>\n",
       "      <td>137</td>\n",
       "      <td>137</td>\n",
       "      <td>137</td>\n",
       "    </tr>\n",
       "    <tr>\n",
       "      <th>11470</th>\n",
       "      <td>Chicken Samosas with Cilantro-Yogurt Dip Blanc...</td>\n",
       "      <td>92</td>\n",
       "      <td>137</td>\n",
       "      <td>137</td>\n",
       "      <td>137</td>\n",
       "      <td>137</td>\n",
       "    </tr>\n",
       "    <tr>\n",
       "      <th>28259</th>\n",
       "      <td>Grilled Buffalo Wings with Avocado Blue Cheese...</td>\n",
       "      <td>92</td>\n",
       "      <td>137</td>\n",
       "      <td>137</td>\n",
       "      <td>137</td>\n",
       "      <td>137</td>\n",
       "    </tr>\n",
       "    <tr>\n",
       "      <th>30805</th>\n",
       "      <td>Hummingbird Cake Loaded Bacon and Cheddar Bake...</td>\n",
       "      <td>92</td>\n",
       "      <td>137</td>\n",
       "      <td>137</td>\n",
       "      <td>137</td>\n",
       "      <td>137</td>\n",
       "    </tr>\n",
       "    <tr>\n",
       "      <th>31179</th>\n",
       "      <td>Jack Monroe s Paddington Bear sponge puddings ...</td>\n",
       "      <td>92</td>\n",
       "      <td>137</td>\n",
       "      <td>137</td>\n",
       "      <td>137</td>\n",
       "      <td>137</td>\n",
       "    </tr>\n",
       "    <tr>\n",
       "      <th>35774</th>\n",
       "      <td>Creamy boccoli pasta with loads of green peas ...</td>\n",
       "      <td>92</td>\n",
       "      <td>137</td>\n",
       "      <td>137</td>\n",
       "      <td>137</td>\n",
       "      <td>137</td>\n",
       "    </tr>\n",
       "    <tr>\n",
       "      <th>37645</th>\n",
       "      <td>Gluten Free Coconut Shrimp Cheesy Eggs-in-a-cu...</td>\n",
       "      <td>92</td>\n",
       "      <td>137</td>\n",
       "      <td>137</td>\n",
       "      <td>137</td>\n",
       "      <td>137</td>\n",
       "    </tr>\n",
       "    <tr>\n",
       "      <th>40601</th>\n",
       "      <td>Homemade Dark Chicken Stock Recipe made with L...</td>\n",
       "      <td>92</td>\n",
       "      <td>137</td>\n",
       "      <td>137</td>\n",
       "      <td>137</td>\n",
       "      <td>137</td>\n",
       "    </tr>\n",
       "    <tr>\n",
       "      <th>41232</th>\n",
       "      <td>Parchment Baked Salmon and Zucchini Tomato Pes...</td>\n",
       "      <td>92</td>\n",
       "      <td>137</td>\n",
       "      <td>137</td>\n",
       "      <td>137</td>\n",
       "      <td>137</td>\n",
       "    </tr>\n",
       "    <tr>\n",
       "      <th>44442</th>\n",
       "      <td>Lomo al trapo Colombian coal-roasted beef Heal...</td>\n",
       "      <td>92</td>\n",
       "      <td>137</td>\n",
       "      <td>137</td>\n",
       "      <td>137</td>\n",
       "      <td>137</td>\n",
       "    </tr>\n",
       "    <tr>\n",
       "      <th>46573</th>\n",
       "      <td>Savory Vegetable Cheesecake Coffee Chococcino ...</td>\n",
       "      <td>92</td>\n",
       "      <td>137</td>\n",
       "      <td>137</td>\n",
       "      <td>137</td>\n",
       "      <td>137</td>\n",
       "    </tr>\n",
       "  </tbody>\n",
       "</table>\n",
       "</div>"
      ],
      "text/plain": [
       "                                                    text  label  \\\n",
       "2656   Lemony Angel Hair Pasta with Crab Turkey Spina...     92   \n",
       "2904    O melhor biscoito de chocolate do mundo saiba...     92   \n",
       "5005   Black Pepper Biscuits with Sweet Corn and Saus...     92   \n",
       "9394   PINEAPPLE COCONUT SMOOTHIE SALTED CARAMEL SMOO...     92   \n",
       "11470  Chicken Samosas with Cilantro-Yogurt Dip Blanc...     92   \n",
       "28259  Grilled Buffalo Wings with Avocado Blue Cheese...     92   \n",
       "30805  Hummingbird Cake Loaded Bacon and Cheddar Bake...     92   \n",
       "31179  Jack Monroe s Paddington Bear sponge puddings ...     92   \n",
       "35774  Creamy boccoli pasta with loads of green peas ...     92   \n",
       "37645  Gluten Free Coconut Shrimp Cheesy Eggs-in-a-cu...     92   \n",
       "40601  Homemade Dark Chicken Stock Recipe made with L...     92   \n",
       "41232  Parchment Baked Salmon and Zucchini Tomato Pes...     92   \n",
       "44442  Lomo al trapo Colombian coal-roasted beef Heal...     92   \n",
       "46573  Savory Vegetable Cheesecake Coffee Chococcino ...     92   \n",
       "\n",
       "       tinybert_pred  roberta_pred  bert_pred  distilbert_pred  \n",
       "2656             137           137        137              137  \n",
       "2904             173           173        137              137  \n",
       "5005             137           137        137              137  \n",
       "9394             137           137        137              137  \n",
       "11470            137           137        137              137  \n",
       "28259            137           137        137              137  \n",
       "30805            137           137        137              137  \n",
       "31179            137           137        137              137  \n",
       "35774            137           137        137              137  \n",
       "37645            137           137        137              137  \n",
       "40601            137           137        137              137  \n",
       "41232            137           137        137              137  \n",
       "44442            137           137        137              137  \n",
       "46573            137           137        137              137  "
      ]
     },
     "execution_count": 32,
     "metadata": {},
     "output_type": "execute_result"
    }
   ],
   "source": [
    "real[real['label']==92]\n",
    "# headlineRecipe wird oft verwechselt mit 137 -> nameRecipe"
   ]
  },
  {
   "cell_type": "code",
   "execution_count": 33,
   "id": "0a76f942",
   "metadata": {},
   "outputs": [
    {
     "data": {
      "text/html": [
       "<div>\n",
       "<style scoped>\n",
       "    .dataframe tbody tr th:only-of-type {\n",
       "        vertical-align: middle;\n",
       "    }\n",
       "\n",
       "    .dataframe tbody tr th {\n",
       "        vertical-align: top;\n",
       "    }\n",
       "\n",
       "    .dataframe thead th {\n",
       "        text-align: right;\n",
       "    }\n",
       "</style>\n",
       "<table border=\"1\" class=\"dataframe\">\n",
       "  <thead>\n",
       "    <tr style=\"text-align: right;\">\n",
       "      <th></th>\n",
       "      <th>text</th>\n",
       "      <th>label</th>\n",
       "      <th>tinybert_pred</th>\n",
       "      <th>roberta_pred</th>\n",
       "      <th>bert_pred</th>\n",
       "      <th>distilbert_pred</th>\n",
       "    </tr>\n",
       "  </thead>\n",
       "  <tbody>\n",
       "    <tr>\n",
       "      <th>2656</th>\n",
       "      <td>Lemony Angel Hair Pasta with Crab Turkey Spina...</td>\n",
       "      <td>92</td>\n",
       "      <td>137</td>\n",
       "      <td>137</td>\n",
       "      <td>137</td>\n",
       "      <td>137</td>\n",
       "    </tr>\n",
       "    <tr>\n",
       "      <th>2904</th>\n",
       "      <td>O melhor biscoito de chocolate do mundo saiba...</td>\n",
       "      <td>92</td>\n",
       "      <td>173</td>\n",
       "      <td>173</td>\n",
       "      <td>137</td>\n",
       "      <td>137</td>\n",
       "    </tr>\n",
       "    <tr>\n",
       "      <th>5005</th>\n",
       "      <td>Black Pepper Biscuits with Sweet Corn and Saus...</td>\n",
       "      <td>92</td>\n",
       "      <td>137</td>\n",
       "      <td>137</td>\n",
       "      <td>137</td>\n",
       "      <td>137</td>\n",
       "    </tr>\n",
       "    <tr>\n",
       "      <th>9394</th>\n",
       "      <td>PINEAPPLE COCONUT SMOOTHIE SALTED CARAMEL SMOO...</td>\n",
       "      <td>92</td>\n",
       "      <td>137</td>\n",
       "      <td>137</td>\n",
       "      <td>137</td>\n",
       "      <td>137</td>\n",
       "    </tr>\n",
       "    <tr>\n",
       "      <th>11470</th>\n",
       "      <td>Chicken Samosas with Cilantro-Yogurt Dip Blanc...</td>\n",
       "      <td>92</td>\n",
       "      <td>137</td>\n",
       "      <td>137</td>\n",
       "      <td>137</td>\n",
       "      <td>137</td>\n",
       "    </tr>\n",
       "    <tr>\n",
       "      <th>28259</th>\n",
       "      <td>Grilled Buffalo Wings with Avocado Blue Cheese...</td>\n",
       "      <td>92</td>\n",
       "      <td>137</td>\n",
       "      <td>137</td>\n",
       "      <td>137</td>\n",
       "      <td>137</td>\n",
       "    </tr>\n",
       "    <tr>\n",
       "      <th>30805</th>\n",
       "      <td>Hummingbird Cake Loaded Bacon and Cheddar Bake...</td>\n",
       "      <td>92</td>\n",
       "      <td>137</td>\n",
       "      <td>137</td>\n",
       "      <td>137</td>\n",
       "      <td>137</td>\n",
       "    </tr>\n",
       "    <tr>\n",
       "      <th>31179</th>\n",
       "      <td>Jack Monroe s Paddington Bear sponge puddings ...</td>\n",
       "      <td>92</td>\n",
       "      <td>137</td>\n",
       "      <td>137</td>\n",
       "      <td>137</td>\n",
       "      <td>137</td>\n",
       "    </tr>\n",
       "    <tr>\n",
       "      <th>35774</th>\n",
       "      <td>Creamy boccoli pasta with loads of green peas ...</td>\n",
       "      <td>92</td>\n",
       "      <td>137</td>\n",
       "      <td>137</td>\n",
       "      <td>137</td>\n",
       "      <td>137</td>\n",
       "    </tr>\n",
       "    <tr>\n",
       "      <th>37645</th>\n",
       "      <td>Gluten Free Coconut Shrimp Cheesy Eggs-in-a-cu...</td>\n",
       "      <td>92</td>\n",
       "      <td>137</td>\n",
       "      <td>137</td>\n",
       "      <td>137</td>\n",
       "      <td>137</td>\n",
       "    </tr>\n",
       "    <tr>\n",
       "      <th>40601</th>\n",
       "      <td>Homemade Dark Chicken Stock Recipe made with L...</td>\n",
       "      <td>92</td>\n",
       "      <td>137</td>\n",
       "      <td>137</td>\n",
       "      <td>137</td>\n",
       "      <td>137</td>\n",
       "    </tr>\n",
       "    <tr>\n",
       "      <th>41232</th>\n",
       "      <td>Parchment Baked Salmon and Zucchini Tomato Pes...</td>\n",
       "      <td>92</td>\n",
       "      <td>137</td>\n",
       "      <td>137</td>\n",
       "      <td>137</td>\n",
       "      <td>137</td>\n",
       "    </tr>\n",
       "    <tr>\n",
       "      <th>44442</th>\n",
       "      <td>Lomo al trapo Colombian coal-roasted beef Heal...</td>\n",
       "      <td>92</td>\n",
       "      <td>137</td>\n",
       "      <td>137</td>\n",
       "      <td>137</td>\n",
       "      <td>137</td>\n",
       "    </tr>\n",
       "    <tr>\n",
       "      <th>46573</th>\n",
       "      <td>Savory Vegetable Cheesecake Coffee Chococcino ...</td>\n",
       "      <td>92</td>\n",
       "      <td>137</td>\n",
       "      <td>137</td>\n",
       "      <td>137</td>\n",
       "      <td>137</td>\n",
       "    </tr>\n",
       "  </tbody>\n",
       "</table>\n",
       "</div>"
      ],
      "text/plain": [
       "                                                    text  label  \\\n",
       "2656   Lemony Angel Hair Pasta with Crab Turkey Spina...     92   \n",
       "2904    O melhor biscoito de chocolate do mundo saiba...     92   \n",
       "5005   Black Pepper Biscuits with Sweet Corn and Saus...     92   \n",
       "9394   PINEAPPLE COCONUT SMOOTHIE SALTED CARAMEL SMOO...     92   \n",
       "11470  Chicken Samosas with Cilantro-Yogurt Dip Blanc...     92   \n",
       "28259  Grilled Buffalo Wings with Avocado Blue Cheese...     92   \n",
       "30805  Hummingbird Cake Loaded Bacon and Cheddar Bake...     92   \n",
       "31179  Jack Monroe s Paddington Bear sponge puddings ...     92   \n",
       "35774  Creamy boccoli pasta with loads of green peas ...     92   \n",
       "37645  Gluten Free Coconut Shrimp Cheesy Eggs-in-a-cu...     92   \n",
       "40601  Homemade Dark Chicken Stock Recipe made with L...     92   \n",
       "41232  Parchment Baked Salmon and Zucchini Tomato Pes...     92   \n",
       "44442  Lomo al trapo Colombian coal-roasted beef Heal...     92   \n",
       "46573  Savory Vegetable Cheesecake Coffee Chococcino ...     92   \n",
       "\n",
       "       tinybert_pred  roberta_pred  bert_pred  distilbert_pred  \n",
       "2656             137           137        137              137  \n",
       "2904             173           173        137              137  \n",
       "5005             137           137        137              137  \n",
       "9394             137           137        137              137  \n",
       "11470            137           137        137              137  \n",
       "28259            137           137        137              137  \n",
       "30805            137           137        137              137  \n",
       "31179            137           137        137              137  \n",
       "35774            137           137        137              137  \n",
       "37645            137           137        137              137  \n",
       "40601            137           137        137              137  \n",
       "41232            137           137        137              137  \n",
       "44442            137           137        137              137  \n",
       "46573            137           137        137              137  "
      ]
     },
     "execution_count": 33,
     "metadata": {},
     "output_type": "execute_result"
    }
   ],
   "source": [
    "real[real['label']==92]"
   ]
  },
  {
   "cell_type": "code",
   "execution_count": 34,
   "id": "39c1b43a",
   "metadata": {},
   "outputs": [
    {
     "data": {
      "text/html": [
       "<div>\n",
       "<style scoped>\n",
       "    .dataframe tbody tr th:only-of-type {\n",
       "        vertical-align: middle;\n",
       "    }\n",
       "\n",
       "    .dataframe tbody tr th {\n",
       "        vertical-align: top;\n",
       "    }\n",
       "\n",
       "    .dataframe thead th {\n",
       "        text-align: right;\n",
       "    }\n",
       "</style>\n",
       "<table border=\"1\" class=\"dataframe\">\n",
       "  <thead>\n",
       "    <tr style=\"text-align: right;\">\n",
       "      <th></th>\n",
       "      <th>text</th>\n",
       "      <th>label</th>\n",
       "      <th>tinybert_pred</th>\n",
       "      <th>roberta_pred</th>\n",
       "      <th>bert_pred</th>\n",
       "      <th>distilbert_pred</th>\n",
       "    </tr>\n",
       "  </thead>\n",
       "  <tbody>\n",
       "    <tr>\n",
       "      <th>7</th>\n",
       "      <td>Sinigang Na Buntot ng Baboy Low Carb Katsu Cur...</td>\n",
       "      <td>137</td>\n",
       "      <td>137</td>\n",
       "      <td>137</td>\n",
       "      <td>137</td>\n",
       "      <td>137</td>\n",
       "    </tr>\n",
       "    <tr>\n",
       "      <th>17</th>\n",
       "      <td>Peach Cake Recipe using Fresh Peaches Canned G...</td>\n",
       "      <td>137</td>\n",
       "      <td>137</td>\n",
       "      <td>137</td>\n",
       "      <td>137</td>\n",
       "      <td>137</td>\n",
       "    </tr>\n",
       "    <tr>\n",
       "      <th>46</th>\n",
       "      <td>Whisky Woodland Punch FLAVORS OF THE FAR EAST ...</td>\n",
       "      <td>137</td>\n",
       "      <td>137</td>\n",
       "      <td>137</td>\n",
       "      <td>137</td>\n",
       "      <td>137</td>\n",
       "    </tr>\n",
       "    <tr>\n",
       "      <th>69</th>\n",
       "      <td>Cranberry S mores Chocolate-Wrapped Present Ca...</td>\n",
       "      <td>137</td>\n",
       "      <td>137</td>\n",
       "      <td>137</td>\n",
       "      <td>137</td>\n",
       "      <td>137</td>\n",
       "    </tr>\n",
       "    <tr>\n",
       "      <th>123</th>\n",
       "      <td>BAKED VADA PAV - MUMBAI STYLE Jasmine sharbat ...</td>\n",
       "      <td>137</td>\n",
       "      <td>137</td>\n",
       "      <td>137</td>\n",
       "      <td>137</td>\n",
       "      <td>137</td>\n",
       "    </tr>\n",
       "    <tr>\n",
       "      <th>...</th>\n",
       "      <td>...</td>\n",
       "      <td>...</td>\n",
       "      <td>...</td>\n",
       "      <td>...</td>\n",
       "      <td>...</td>\n",
       "      <td>...</td>\n",
       "    </tr>\n",
       "    <tr>\n",
       "      <th>49341</th>\n",
       "      <td>Chicken Tortilla Soup Simple and Tasty Refried...</td>\n",
       "      <td>137</td>\n",
       "      <td>137</td>\n",
       "      <td>137</td>\n",
       "      <td>137</td>\n",
       "      <td>137</td>\n",
       "    </tr>\n",
       "    <tr>\n",
       "      <th>49358</th>\n",
       "      <td>Pita Bread Sweet Pepper Semolina Bread Motley ...</td>\n",
       "      <td>137</td>\n",
       "      <td>137</td>\n",
       "      <td>136</td>\n",
       "      <td>137</td>\n",
       "      <td>137</td>\n",
       "    </tr>\n",
       "    <tr>\n",
       "      <th>49391</th>\n",
       "      <td>Lemon Bars Strawberry Orange Sorbet Curried Ch...</td>\n",
       "      <td>137</td>\n",
       "      <td>137</td>\n",
       "      <td>137</td>\n",
       "      <td>137</td>\n",
       "      <td>137</td>\n",
       "    </tr>\n",
       "    <tr>\n",
       "      <th>49432</th>\n",
       "      <td>Beef Vegetable Soup Recipe SARABASAB Vegetable...</td>\n",
       "      <td>137</td>\n",
       "      <td>112</td>\n",
       "      <td>137</td>\n",
       "      <td>137</td>\n",
       "      <td>137</td>\n",
       "    </tr>\n",
       "    <tr>\n",
       "      <th>49554</th>\n",
       "      <td>Slow Cooker Spiced Mulled Wine with Pomegranat...</td>\n",
       "      <td>137</td>\n",
       "      <td>112</td>\n",
       "      <td>137</td>\n",
       "      <td>137</td>\n",
       "      <td>137</td>\n",
       "    </tr>\n",
       "  </tbody>\n",
       "</table>\n",
       "<p>726 rows × 6 columns</p>\n",
       "</div>"
      ],
      "text/plain": [
       "                                                    text  label  \\\n",
       "7      Sinigang Na Buntot ng Baboy Low Carb Katsu Cur...    137   \n",
       "17     Peach Cake Recipe using Fresh Peaches Canned G...    137   \n",
       "46     Whisky Woodland Punch FLAVORS OF THE FAR EAST ...    137   \n",
       "69     Cranberry S mores Chocolate-Wrapped Present Ca...    137   \n",
       "123    BAKED VADA PAV - MUMBAI STYLE Jasmine sharbat ...    137   \n",
       "...                                                  ...    ...   \n",
       "49341  Chicken Tortilla Soup Simple and Tasty Refried...    137   \n",
       "49358  Pita Bread Sweet Pepper Semolina Bread Motley ...    137   \n",
       "49391  Lemon Bars Strawberry Orange Sorbet Curried Ch...    137   \n",
       "49432  Beef Vegetable Soup Recipe SARABASAB Vegetable...    137   \n",
       "49554  Slow Cooker Spiced Mulled Wine with Pomegranat...    137   \n",
       "\n",
       "       tinybert_pred  roberta_pred  bert_pred  distilbert_pred  \n",
       "7                137           137        137              137  \n",
       "17               137           137        137              137  \n",
       "46               137           137        137              137  \n",
       "69               137           137        137              137  \n",
       "123              137           137        137              137  \n",
       "...              ...           ...        ...              ...  \n",
       "49341            137           137        137              137  \n",
       "49358            137           136        137              137  \n",
       "49391            137           137        137              137  \n",
       "49432            112           137        137              137  \n",
       "49554            112           137        137              137  \n",
       "\n",
       "[726 rows x 6 columns]"
      ]
     },
     "execution_count": 34,
     "metadata": {},
     "output_type": "execute_result"
    }
   ],
   "source": [
    "real[real['label']==137]"
   ]
  },
  {
   "cell_type": "code",
   "execution_count": 35,
   "id": "73298d32",
   "metadata": {},
   "outputs": [
    {
     "data": {
      "text/html": [
       "<div>\n",
       "<style scoped>\n",
       "    .dataframe tbody tr th:only-of-type {\n",
       "        vertical-align: middle;\n",
       "    }\n",
       "\n",
       "    .dataframe tbody tr th {\n",
       "        vertical-align: top;\n",
       "    }\n",
       "\n",
       "    .dataframe thead th {\n",
       "        text-align: right;\n",
       "    }\n",
       "</style>\n",
       "<table border=\"1\" class=\"dataframe\">\n",
       "  <thead>\n",
       "    <tr style=\"text-align: right;\">\n",
       "      <th></th>\n",
       "      <th>text</th>\n",
       "      <th>label</th>\n",
       "      <th>tinybert_pred</th>\n",
       "      <th>roberta_pred</th>\n",
       "      <th>bert_pred</th>\n",
       "      <th>distilbert_pred</th>\n",
       "    </tr>\n",
       "  </thead>\n",
       "  <tbody>\n",
       "    <tr>\n",
       "      <th>9234</th>\n",
       "      <td>price US 122 00 price US 400 00 price US 400 ...</td>\n",
       "      <td>146</td>\n",
       "      <td>147</td>\n",
       "      <td>147</td>\n",
       "      <td>147</td>\n",
       "      <td>147</td>\n",
       "    </tr>\n",
       "    <tr>\n",
       "      <th>10476</th>\n",
       "      <td>price free-with-the-core availability instock...</td>\n",
       "      <td>146</td>\n",
       "      <td>145</td>\n",
       "      <td>147</td>\n",
       "      <td>147</td>\n",
       "      <td>147</td>\n",
       "    </tr>\n",
       "    <tr>\n",
       "      <th>14796</th>\n",
       "      <td>price 265 00 pricecurrency USD price 395 00 p...</td>\n",
       "      <td>146</td>\n",
       "      <td>147</td>\n",
       "      <td>147</td>\n",
       "      <td>147</td>\n",
       "      <td>147</td>\n",
       "    </tr>\n",
       "    <tr>\n",
       "      <th>15032</th>\n",
       "      <td>price 10 00 pricecurrency USD price 20 00 pri...</td>\n",
       "      <td>146</td>\n",
       "      <td>106</td>\n",
       "      <td>147</td>\n",
       "      <td>147</td>\n",
       "      <td>147</td>\n",
       "    </tr>\n",
       "    <tr>\n",
       "      <th>16068</th>\n",
       "      <td>pricecurrency USD price 3 24 availability InS...</td>\n",
       "      <td>146</td>\n",
       "      <td>147</td>\n",
       "      <td>147</td>\n",
       "      <td>147</td>\n",
       "      <td>147</td>\n",
       "    </tr>\n",
       "    <tr>\n",
       "      <th>16585</th>\n",
       "      <td>price 0 00 pricecurrency USD price 10 50 pric...</td>\n",
       "      <td>146</td>\n",
       "      <td>147</td>\n",
       "      <td>147</td>\n",
       "      <td>147</td>\n",
       "      <td>147</td>\n",
       "    </tr>\n",
       "    <tr>\n",
       "      <th>26628</th>\n",
       "      <td>availability http schema org InStock name tud...</td>\n",
       "      <td>146</td>\n",
       "      <td>147</td>\n",
       "      <td>147</td>\n",
       "      <td>147</td>\n",
       "      <td>147</td>\n",
       "    </tr>\n",
       "    <tr>\n",
       "      <th>29510</th>\n",
       "      <td>price 0 price 0 price 0 price 0 price 0 price...</td>\n",
       "      <td>146</td>\n",
       "      <td>147</td>\n",
       "      <td>147</td>\n",
       "      <td>147</td>\n",
       "      <td>147</td>\n",
       "    </tr>\n",
       "    <tr>\n",
       "      <th>39596</th>\n",
       "      <td>seller comiXology seller comiXology seller Co...</td>\n",
       "      <td>146</td>\n",
       "      <td>34</td>\n",
       "      <td>34</td>\n",
       "      <td>34</td>\n",
       "      <td>34</td>\n",
       "    </tr>\n",
       "    <tr>\n",
       "      <th>47573</th>\n",
       "      <td>pricecurrency USD price 9 95 pricecurrency US...</td>\n",
       "      <td>146</td>\n",
       "      <td>147</td>\n",
       "      <td>147</td>\n",
       "      <td>147</td>\n",
       "      <td>147</td>\n",
       "    </tr>\n",
       "  </tbody>\n",
       "</table>\n",
       "</div>"
      ],
      "text/plain": [
       "                                                    text  label  \\\n",
       "9234    price US 122 00 price US 400 00 price US 400 ...    146   \n",
       "10476   price free-with-the-core availability instock...    146   \n",
       "14796   price 265 00 pricecurrency USD price 395 00 p...    146   \n",
       "15032   price 10 00 pricecurrency USD price 20 00 pri...    146   \n",
       "16068   pricecurrency USD price 3 24 availability InS...    146   \n",
       "16585   price 0 00 pricecurrency USD price 10 50 pric...    146   \n",
       "26628   availability http schema org InStock name tud...    146   \n",
       "29510   price 0 price 0 price 0 price 0 price 0 price...    146   \n",
       "39596   seller comiXology seller comiXology seller Co...    146   \n",
       "47573   pricecurrency USD price 9 95 pricecurrency US...    146   \n",
       "\n",
       "       tinybert_pred  roberta_pred  bert_pred  distilbert_pred  \n",
       "9234             147           147        147              147  \n",
       "10476            145           147        147              147  \n",
       "14796            147           147        147              147  \n",
       "15032            106           147        147              147  \n",
       "16068            147           147        147              147  \n",
       "16585            147           147        147              147  \n",
       "26628            147           147        147              147  \n",
       "29510            147           147        147              147  \n",
       "39596             34            34         34               34  \n",
       "47573            147           147        147              147  "
      ]
     },
     "execution_count": 35,
     "metadata": {},
     "output_type": "execute_result"
    }
   ],
   "source": [
    "real[real['label']==146]\n",
    "# 146 often confused with 147"
   ]
  },
  {
   "cell_type": "code",
   "execution_count": 36,
   "id": "b914a68f",
   "metadata": {},
   "outputs": [
    {
     "data": {
      "text/html": [
       "<div>\n",
       "<style scoped>\n",
       "    .dataframe tbody tr th:only-of-type {\n",
       "        vertical-align: middle;\n",
       "    }\n",
       "\n",
       "    .dataframe tbody tr th {\n",
       "        vertical-align: top;\n",
       "    }\n",
       "\n",
       "    .dataframe thead th {\n",
       "        text-align: right;\n",
       "    }\n",
       "</style>\n",
       "<table border=\"1\" class=\"dataframe\">\n",
       "  <thead>\n",
       "    <tr style=\"text-align: right;\">\n",
       "      <th></th>\n",
       "      <th>text</th>\n",
       "      <th>label</th>\n",
       "      <th>tinybert_pred</th>\n",
       "      <th>roberta_pred</th>\n",
       "      <th>bert_pred</th>\n",
       "      <th>distilbert_pred</th>\n",
       "    </tr>\n",
       "  </thead>\n",
       "  <tbody>\n",
       "    <tr>\n",
       "      <th>891</th>\n",
       "      <td>All Ages 18 All Ages All Ages All Ages All Ag...</td>\n",
       "      <td>197</td>\n",
       "      <td>197</td>\n",
       "      <td>197</td>\n",
       "      <td>197</td>\n",
       "      <td>197</td>\n",
       "    </tr>\n",
       "    <tr>\n",
       "      <th>8783</th>\n",
       "      <td>ALL AGES Kid Friendly ALL AGES ALL AGES ALL AG...</td>\n",
       "      <td>197</td>\n",
       "      <td>197</td>\n",
       "      <td>38</td>\n",
       "      <td>197</td>\n",
       "      <td>197</td>\n",
       "    </tr>\n",
       "    <tr>\n",
       "      <th>14275</th>\n",
       "      <td>All Ages All Ages All Ages All Ages All Ages ...</td>\n",
       "      <td>197</td>\n",
       "      <td>197</td>\n",
       "      <td>197</td>\n",
       "      <td>197</td>\n",
       "      <td>197</td>\n",
       "    </tr>\n",
       "    <tr>\n",
       "      <th>17019</th>\n",
       "      <td>All Ages All Ages All Ages All Ages All Ages A...</td>\n",
       "      <td>197</td>\n",
       "      <td>197</td>\n",
       "      <td>197</td>\n",
       "      <td>197</td>\n",
       "      <td>197</td>\n",
       "    </tr>\n",
       "    <tr>\n",
       "      <th>19561</th>\n",
       "      <td>20-88 24-80 23-85 21-87 20-78 23-90 21-85 25-8...</td>\n",
       "      <td>197</td>\n",
       "      <td>197</td>\n",
       "      <td>197</td>\n",
       "      <td>197</td>\n",
       "      <td>197</td>\n",
       "    </tr>\n",
       "    <tr>\n",
       "      <th>26060</th>\n",
       "      <td>21 21 All Ages No Minors 21 21 All Ages 21 21 ...</td>\n",
       "      <td>197</td>\n",
       "      <td>197</td>\n",
       "      <td>197</td>\n",
       "      <td>197</td>\n",
       "      <td>197</td>\n",
       "    </tr>\n",
       "    <tr>\n",
       "      <th>26814</th>\n",
       "      <td>No Minors No Minors No Minors No Minors No Min...</td>\n",
       "      <td>197</td>\n",
       "      <td>197</td>\n",
       "      <td>197</td>\n",
       "      <td>197</td>\n",
       "      <td>197</td>\n",
       "    </tr>\n",
       "    <tr>\n",
       "      <th>28262</th>\n",
       "      <td>All Ages Licensed No Minors No Minors No Minor...</td>\n",
       "      <td>197</td>\n",
       "      <td>197</td>\n",
       "      <td>197</td>\n",
       "      <td>197</td>\n",
       "      <td>197</td>\n",
       "    </tr>\n",
       "    <tr>\n",
       "      <th>29690</th>\n",
       "      <td>16- 16- 16- 16- 16- 16- 16- 16- 16- 16- 16- 16...</td>\n",
       "      <td>197</td>\n",
       "      <td>197</td>\n",
       "      <td>197</td>\n",
       "      <td>197</td>\n",
       "      <td>197</td>\n",
       "    </tr>\n",
       "    <tr>\n",
       "      <th>34131</th>\n",
       "      <td>All Ages Licensed All Ages No Minors All Ages ...</td>\n",
       "      <td>197</td>\n",
       "      <td>197</td>\n",
       "      <td>197</td>\n",
       "      <td>197</td>\n",
       "      <td>197</td>\n",
       "    </tr>\n",
       "    <tr>\n",
       "      <th>37993</th>\n",
       "      <td>All Ages All Ages All Ages All Ages All Ages A...</td>\n",
       "      <td>197</td>\n",
       "      <td>197</td>\n",
       "      <td>197</td>\n",
       "      <td>197</td>\n",
       "      <td>197</td>\n",
       "    </tr>\n",
       "    <tr>\n",
       "      <th>38019</th>\n",
       "      <td>Over 21 Over 21 Over 21 Over 21 Over 21 All Ag...</td>\n",
       "      <td>197</td>\n",
       "      <td>197</td>\n",
       "      <td>197</td>\n",
       "      <td>197</td>\n",
       "      <td>197</td>\n",
       "    </tr>\n",
       "    <tr>\n",
       "      <th>43770</th>\n",
       "      <td>All Ages Licensed All Ages Licensed No Minors ...</td>\n",
       "      <td>197</td>\n",
       "      <td>197</td>\n",
       "      <td>197</td>\n",
       "      <td>197</td>\n",
       "      <td>197</td>\n",
       "    </tr>\n",
       "    <tr>\n",
       "      <th>43788</th>\n",
       "      <td>All Ages No Minors All Ages No Minors All Ages...</td>\n",
       "      <td>197</td>\n",
       "      <td>197</td>\n",
       "      <td>197</td>\n",
       "      <td>197</td>\n",
       "      <td>197</td>\n",
       "    </tr>\n",
       "    <tr>\n",
       "      <th>45827</th>\n",
       "      <td>All Ages All Ages All Ages All Ages All Ages A...</td>\n",
       "      <td>197</td>\n",
       "      <td>197</td>\n",
       "      <td>197</td>\n",
       "      <td>197</td>\n",
       "      <td>197</td>\n",
       "    </tr>\n",
       "    <tr>\n",
       "      <th>48670</th>\n",
       "      <td>All Ages All Ages All Ages All Ages All Ages A...</td>\n",
       "      <td>197</td>\n",
       "      <td>197</td>\n",
       "      <td>197</td>\n",
       "      <td>197</td>\n",
       "      <td>197</td>\n",
       "    </tr>\n",
       "  </tbody>\n",
       "</table>\n",
       "</div>"
      ],
      "text/plain": [
       "                                                    text  label  \\\n",
       "891     All Ages 18 All Ages All Ages All Ages All Ag...    197   \n",
       "8783   ALL AGES Kid Friendly ALL AGES ALL AGES ALL AG...    197   \n",
       "14275   All Ages All Ages All Ages All Ages All Ages ...    197   \n",
       "17019  All Ages All Ages All Ages All Ages All Ages A...    197   \n",
       "19561  20-88 24-80 23-85 21-87 20-78 23-90 21-85 25-8...    197   \n",
       "26060  21 21 All Ages No Minors 21 21 All Ages 21 21 ...    197   \n",
       "26814  No Minors No Minors No Minors No Minors No Min...    197   \n",
       "28262  All Ages Licensed No Minors No Minors No Minor...    197   \n",
       "29690  16- 16- 16- 16- 16- 16- 16- 16- 16- 16- 16- 16...    197   \n",
       "34131  All Ages Licensed All Ages No Minors All Ages ...    197   \n",
       "37993  All Ages All Ages All Ages All Ages All Ages A...    197   \n",
       "38019  Over 21 Over 21 Over 21 Over 21 Over 21 All Ag...    197   \n",
       "43770  All Ages Licensed All Ages Licensed No Minors ...    197   \n",
       "43788  All Ages No Minors All Ages No Minors All Ages...    197   \n",
       "45827  All Ages All Ages All Ages All Ages All Ages A...    197   \n",
       "48670  All Ages All Ages All Ages All Ages All Ages A...    197   \n",
       "\n",
       "       tinybert_pred  roberta_pred  bert_pred  distilbert_pred  \n",
       "891              197           197        197              197  \n",
       "8783             197            38        197              197  \n",
       "14275            197           197        197              197  \n",
       "17019            197           197        197              197  \n",
       "19561            197           197        197              197  \n",
       "26060            197           197        197              197  \n",
       "26814            197           197        197              197  \n",
       "28262            197           197        197              197  \n",
       "29690            197           197        197              197  \n",
       "34131            197           197        197              197  \n",
       "37993            197           197        197              197  \n",
       "38019            197           197        197              197  \n",
       "43770            197           197        197              197  \n",
       "43788            197           197        197              197  \n",
       "45827            197           197        197              197  \n",
       "48670            197           197        197              197  "
      ]
     },
     "execution_count": 36,
     "metadata": {},
     "output_type": "execute_result"
    }
   ],
   "source": [
    "real[real['label']==197]\n",
    "# NANs are perfectly classified"
   ]
  },
  {
   "cell_type": "markdown",
   "id": "0089dbac",
   "metadata": {},
   "source": [
    "Was passiert mit leerem Text -> wird immer zu 164 klassifiziert??"
   ]
  },
  {
   "cell_type": "code",
   "execution_count": 37,
   "id": "40057803",
   "metadata": {},
   "outputs": [
    {
     "data": {
      "text/html": [
       "<div>\n",
       "<style scoped>\n",
       "    .dataframe tbody tr th:only-of-type {\n",
       "        vertical-align: middle;\n",
       "    }\n",
       "\n",
       "    .dataframe tbody tr th {\n",
       "        vertical-align: top;\n",
       "    }\n",
       "\n",
       "    .dataframe thead th {\n",
       "        text-align: right;\n",
       "    }\n",
       "</style>\n",
       "<table border=\"1\" class=\"dataframe\">\n",
       "  <thead>\n",
       "    <tr style=\"text-align: right;\">\n",
       "      <th></th>\n",
       "      <th>text</th>\n",
       "      <th>label</th>\n",
       "      <th>tinybert_pred</th>\n",
       "      <th>roberta_pred</th>\n",
       "      <th>bert_pred</th>\n",
       "      <th>distilbert_pred</th>\n",
       "    </tr>\n",
       "  </thead>\n",
       "  <tbody>\n",
       "    <tr>\n",
       "      <th>100</th>\n",
       "      <td></td>\n",
       "      <td>164</td>\n",
       "      <td>164</td>\n",
       "      <td>164</td>\n",
       "      <td>164</td>\n",
       "      <td>164</td>\n",
       "    </tr>\n",
       "    <tr>\n",
       "      <th>107</th>\n",
       "      <td></td>\n",
       "      <td>164</td>\n",
       "      <td>164</td>\n",
       "      <td>164</td>\n",
       "      <td>164</td>\n",
       "      <td>164</td>\n",
       "    </tr>\n",
       "    <tr>\n",
       "      <th>192</th>\n",
       "      <td></td>\n",
       "      <td>189</td>\n",
       "      <td>164</td>\n",
       "      <td>164</td>\n",
       "      <td>164</td>\n",
       "      <td>164</td>\n",
       "    </tr>\n",
       "    <tr>\n",
       "      <th>199</th>\n",
       "      <td></td>\n",
       "      <td>165</td>\n",
       "      <td>164</td>\n",
       "      <td>164</td>\n",
       "      <td>164</td>\n",
       "      <td>164</td>\n",
       "    </tr>\n",
       "    <tr>\n",
       "      <th>810</th>\n",
       "      <td></td>\n",
       "      <td>189</td>\n",
       "      <td>164</td>\n",
       "      <td>164</td>\n",
       "      <td>164</td>\n",
       "      <td>164</td>\n",
       "    </tr>\n",
       "    <tr>\n",
       "      <th>...</th>\n",
       "      <td>...</td>\n",
       "      <td>...</td>\n",
       "      <td>...</td>\n",
       "      <td>...</td>\n",
       "      <td>...</td>\n",
       "      <td>...</td>\n",
       "    </tr>\n",
       "    <tr>\n",
       "      <th>48636</th>\n",
       "      <td></td>\n",
       "      <td>164</td>\n",
       "      <td>164</td>\n",
       "      <td>164</td>\n",
       "      <td>164</td>\n",
       "      <td>164</td>\n",
       "    </tr>\n",
       "    <tr>\n",
       "      <th>48697</th>\n",
       "      <td></td>\n",
       "      <td>163</td>\n",
       "      <td>164</td>\n",
       "      <td>164</td>\n",
       "      <td>164</td>\n",
       "      <td>164</td>\n",
       "    </tr>\n",
       "    <tr>\n",
       "      <th>48963</th>\n",
       "      <td></td>\n",
       "      <td>164</td>\n",
       "      <td>164</td>\n",
       "      <td>164</td>\n",
       "      <td>164</td>\n",
       "      <td>164</td>\n",
       "    </tr>\n",
       "    <tr>\n",
       "      <th>49595</th>\n",
       "      <td></td>\n",
       "      <td>25</td>\n",
       "      <td>164</td>\n",
       "      <td>164</td>\n",
       "      <td>164</td>\n",
       "      <td>164</td>\n",
       "    </tr>\n",
       "    <tr>\n",
       "      <th>49597</th>\n",
       "      <td></td>\n",
       "      <td>76</td>\n",
       "      <td>164</td>\n",
       "      <td>164</td>\n",
       "      <td>164</td>\n",
       "      <td>164</td>\n",
       "    </tr>\n",
       "  </tbody>\n",
       "</table>\n",
       "<p>151 rows × 6 columns</p>\n",
       "</div>"
      ],
      "text/plain": [
       "      text  label  tinybert_pred  roberta_pred  bert_pred  distilbert_pred\n",
       "100           164            164           164        164              164\n",
       "107           164            164           164        164              164\n",
       "192           189            164           164        164              164\n",
       "199           165            164           164        164              164\n",
       "810           189            164           164        164              164\n",
       "...    ...    ...            ...           ...        ...              ...\n",
       "48636         164            164           164        164              164\n",
       "48697         163            164           164        164              164\n",
       "48963         164            164           164        164              164\n",
       "49595          25            164           164        164              164\n",
       "49597          76            164           164        164              164\n",
       "\n",
       "[151 rows x 6 columns]"
      ]
     },
     "execution_count": 37,
     "metadata": {},
     "output_type": "execute_result"
    }
   ],
   "source": [
    "real[real['text']==\" \"]\n",
    "# 164 -> pricerangeLocalBusiness"
   ]
  },
  {
   "cell_type": "code",
   "execution_count": 38,
   "id": "c387a0f8",
   "metadata": {},
   "outputs": [
    {
     "data": {
      "text/plain": [
       "                                                                                                                                                                                                                                                                                                                                                                                                                                                                                                                                                                                                                                                                                                                                                                                                                                                                                                                                                                                                                                                                                                                                                                                                                                                                                                                                                                                                                                                                                                                                                                                                                                                                                                                                                                                                                                                                                                                                                                                                                                                                                                                                                                                                                                                                                                                                                                                                                                                                                                                                                                                                                                                                                                                                                                                                                                                                                                                                                                                                                                                                                                                                                                                                                                                                                                                                                                                                                                                                                                                                                                                                                                                                                                                                                                                                                                                                                                                                                                                                                                                                                                                                                                                                                                                                                                                                                                                                                                                                                                                                                                                                                                                                                                                                                                                                                                                                                                                                                                                                                                                                                                                                                                                                                                                                                                                                                                                                                                                                                                                                                                                                                                                                                                                                                                                                                                                                                                                                                                                                                                                                                                                                                                                                                                                                                                                                                                                                                                                                                                                                                                                                                                                                                                                                                                                                                                                                                                                                                                                                                                                                                                                                                                                                                                                                                                                                                                                                                                                                                                                                                                                                                                                                                                                                                                       82\n",
       "RUB RUB RUB RUB RUB RUB RUB RUB RUB RUB RUB RUB RUB RUB RUB RUB RUB RUB RUB RUB RUB RUB RUB RUB                                                                                                                                                                                                                                                                                                                                                                                                                                                                                                                                                                                                                                                                                                                                                                                                                                                                                                                                                                                                                                                                                                                                                                                                                                                                                                                                                                                                                                                                                                                                                                                                                                                                                                                                                                                                                                                                                                                                                                                                                                                                                                                                                                                                                                                                                                                                                                                                                                                                                                                                                                                                                                                                                                                                                                                                                                                                                                                                                                                                                                                                                                                                                                                                                                                                                                                                                                                                                                                                                                                                                                                                                                                                                                                                                                                                                                                                                                                                                                                                                                                                                                                                                                                                                                                                                                                                                                                                                                                                                                                                                                                                                                                                                                                                                                                                                                                                                                                                                                                                                                                                                                                                                                                                                                                                                                                                                                                                                                                                                                                                                                                                                                                                                                                                                                                                                                                                                                                                                                                                                                                                                                                                                                                                                                                                                                                                                                                                                                                                                                                                                                                                                                                                                                                                                                                                                                                                                                                                                                                                                                                                                                                                                                                                                                                                                                                                                                                                                                                                                                                                                                                                                                                                         3\n",
       " 20-500 20-500 20-500 20-500 20-500 20-500 20-500 20-500 20-500 20-500 20-500 20-500 20-500 20-500 20-500 20-500 20-500 20-500 20-500 20-500 20-500 20-500 20-500 20-500 20-500 20-500 20-500                                                                                                                                                                                                                                                                                                                                                                                                                                                                                                                                                                                                                                                                                                                                                                                                                                                                                                                                                                                                                                                                                                                                                                                                                                                                                                                                                                                                                                                                                                                                                                                                                                                                                                                                                                                                                                                                                                                                                                                                                                                                                                                                                                                                                                                                                                                                                                                                                                                                                                                                                                                                                                                                                                                                                                                                                                                                                                                                                                                                                                                                                                                                                                                                                                                                                                                                                                                                                                                                                                                                                                                                                                                                                                                                                                                                                                                                                                                                                                                                                                                                                                                                                                                                                                                                                                                                                                                                                                                                                                                                                                                                                                                                                                                                                                                                                                                                                                                                                                                                                                                                                                                                                                                                                                                                                                                                                                                                                                                                                                                                                                                                                                                                                                                                                                                                                                                                                                                                                                                                                                                                                                                                                                                                                                                                                                                                                                                                                                                                                                                                                                                                                                                                                                                                                                                                                                                                                                                                                                                                                                                                                                                                                                                                                                                                                                                                                                                                                                                                                                                                                                           2\n",
       "RUB RUB RUB RUB RUB RUB RUB RUB RUB RUB RUB RUB RUB RUB RUB RUB RUB RUB RUB RUB RUB RUB RUB                                                                                                                                                                                                                                                                                                                                                                                                                                                                                                                                                                                                                                                                                                                                                                                                                                                                                                                                                                                                                                                                                                                                                                                                                                                                                                                                                                                                                                                                                                                                                                                                                                                                                                                                                                                                                                                                                                                                                                                                                                                                                                                                                                                                                                                                                                                                                                                                                                                                                                                                                                                                                                                                                                                                                                                                                                                                                                                                                                                                                                                                                                                                                                                                                                                                                                                                                                                                                                                                                                                                                                                                                                                                                                                                                                                                                                                                                                                                                                                                                                                                                                                                                                                                                                                                                                                                                                                                                                                                                                                                                                                                                                                                                                                                                                                                                                                                                                                                                                                                                                                                                                                                                                                                                                                                                                                                                                                                                                                                                                                                                                                                                                                                                                                                                                                                                                                                                                                                                                                                                                                                                                                                                                                                                                                                                                                                                                                                                                                                                                                                                                                                                                                                                                                                                                                                                                                                                                                                                                                                                                                                                                                                                                                                                                                                                                                                                                                                                                                                                                                                                                                                                                                                             2\n",
       " - - - - - - - - - - - - - - - - - - - - - -                                                                                                                                                                                                                                                                                                                                                                                                                                                                                                                                                                                                                                                                                                                                                                                                                                                                                                                                                                                                                                                                                                                                                                                                                                                                                                                                                                                                                                                                                                                                                                                                                                                                                                                                                                                                                                                                                                                                                                                                                                                                                                                                                                                                                                                                                                                                                                                                                                                                                                                                                                                                                                                                                                                                                                                                                                                                                                                                                                                                                                                                                                                                                                                                                                                                                                                                                                                                                                                                                                                                                                                                                                                                                                                                                                                                                                                                                                                                                                                                                                                                                                                                                                                                                                                                                                                                                                                                                                                                                                                                                                                                                                                                                                                                                                                                                                                                                                                                                                                                                                                                                                                                                                                                                                                                                                                                                                                                                                                                                                                                                                                                                                                                                                                                                                                                                                                                                                                                                                                                                                                                                                                                                                                                                                                                                                                                                                                                                                                                                                                                                                                                                                                                                                                                                                                                                                                                                                                                                                                                                                                                                                                                                                                                                                                                                                                                                                                                                                                                                                                                                                                                                                                                                                                            2\n",
       "                                                                                                                                                                                                                                                                                                                                                                                                                                                                                                                                                                                                                                                                                                                                                                                                                                                                                                                                                                                                                                                                                                                                                                                                                                                                                                                                                                                                                                                                                                                                                                                                                                                                                                                                                                                                                                                                                                                                                                                                                                                                                                                                                                                                                                                                                                                                                                                                                                                                                                                                                                                                                                                                                                                                                                                                                                                                                                                                                                                                                                                                                                                                                                                                                                                                                                                                                                                                                                                                                                                                                                                                                                                                                                                                                                                                                                                                                                                                                                                                                                                                                                                                                                                                                                                                                                                                                                                                                                                                                                                                                                                                                                                                                                                                                                                                                                                                                                                                                                                                                                                                                                                                                                                                                                                                                                                                                                                                                                                                                                                                                                                                                                                                                                                                                                                                                                                                                                                                                                                                                                                                                                                                                                                                                                                                                                                                                                                                                                                                                                                                                                                                                                                                                                                                                                                                                                                                                                                                                                                                                                                                                                                                                                                                                                                                                                                                                                                                                                                                                                                                                                                                                                                                                                                                                                       ..\n",
       "USD USD USD USD USD USD USD USD USD USD USD USD USD USD USD USD USD USD USD USD USD USD USD USD USD USD USD USD USD                                                                                                                                                                                                                                                                                                                                                                                                                                                                                                                                                                                                                                                                                                                                                                                                                                                                                                                                                                                                                                                                                                                                                                                                                                                                                                                                                                                                                                                                                                                                                                                                                                                                                                                                                                                                                                                                                                                                                                                                                                                                                                                                                                                                                                                                                                                                                                                                                                                                                                                                                                                                                                                                                                                                                                                                                                                                                                                                                                                                                                                                                                                                                                                                                                                                                                                                                                                                                                                                                                                                                                                                                                                                                                                                                                                                                                                                                                                                                                                                                                                                                                                                                                                                                                                                                                                                                                                                                                                                                                                                                                                                                                                                                                                                                                                                                                                                                                                                                                                                                                                                                                                                                                                                                                                                                                                                                                                                                                                                                                                                                                                                                                                                                                                                                                                                                                                                                                                                                                                                                                                                                                                                                                                                                                                                                                                                                                                                                                                                                                                                                                                                                                                                                                                                                                                                                                                                                                                                                                                                                                                                                                                                                                                                                                                                                                                                                                                                                                                                                                                                                                                                                                                     1\n",
       " 8358 0 8358 0 8358 0 8358 0 8358 0 8358 0 8358 0 8358 0 8358 0 8358 0 8358 0 8358 0 8358 0 8358 0 8358 0 8358 0 8358 0 8358 0 8358 0 8358 0 8358 0 8358 0 8358 0 8358 0 8358 0 8358 0 8358 0 8358 0 8358 0 8358 0 8358 0 8358 0 8358 0 8358 0 8358 0 8358 0 8358 0 8358 0 8358 0 8358 0 8358 0 8358 0 8358 0 8358 0 8358 0 8358 0 8358 0 8358 0 8358 0 8358 0 8358 0 8358 0 8358 0 8358 0 8358 0 8358 0 8358 0 8358 0 8358 0 8358 0 8358 0 8358 0 8358 0 8358 0 8358 0 8358 0 8358 0 8358 0 8358 0 8358 0 8358 0 8358 0 8358 0 8358 0 8358 0 8358 0 8358 0 8358 0 8358 0 8358 0 8358 0 8358 0 8358 0 8358 0 8358 0 8358 0 8358 0 8358 0 8358 0 8358 0 8358 0 8358 0 8358 0 8358 0 8358 0 8358 0 8358 0 8358 0 8358 0 8358 0 8358 0 8358 0 8358 0 8358 0 8358 0 8358 0 8358 0 8358 0 8358 0 8358 0 8358 0 8358 0 8358 0 8358 0 8358 0 8358 0 8358 0 8358 0 8358 0 8358 0 8358 0 8358 0 8358 0 8358 0 8358 0 8358 0 8358 0 8358 0 8358 0 8358 0 8358 0 8358 0 8358 0 8358 0 8358 0 8358 0 8358 0 8358 0 8358 0 8358 0 8358 0 8358 0 8358 0 8358 0 8358 0 8358 0 8358 0 8358 0 8358 0 8358 0 8358 0 8358 0 8358 0 8358 0 8358 0 8358 0 8358 0 8358 0 8358 0 8358 0 8358 0 8358 0 8358 0 8358 0 8358 0 8358 0 8358 0 8358 0 8358 0 8358 0 8358 0 8358 0 8358 0 8358 0 8358 0 8358 0 8358 0 8358 0 8358 0 8358 0 8358 0 8358 0 8358 0 8358 0 8358 0 8358 0 8358 0 8358 0 8358 0 8358 0 8358 0 8358 0 8358 0 8358 0 8358 0 8358 0 8358 0 8358 0 8358 0 8358 0 8358 0 8358 0 8358 0 8358 0 8358 0 8358 0 8358 0 8358 0 8358 0 8358 0 8358 0 8358 0 8358 0 8358 0 8358 0 8358 0 8358 0 8358 0 8358 0 8358 0 8358 0 8358 0 8358 0 8358 0 8358 0 8358 0 8358 0 8358 0 8358 0 8358 0 8358 0 8358 0 8358 0 8358 0 8358 0 8358 0 8358 0 8358 0 8358 0 8358 0 8358 0 8358 0 8358 0 8358 0 8358 0 8358 0 8358 0 8358 0 8358 0 8358 0 8358 0 8358 0 8358 0 8358 0 8358 0 8358 0 8358 0 8358 0 8358 0 8358 0 8358 0 8358 0 8358 0 8358 0 8358 0 8358 0 8358 0 8358 0 8358 0 8358 0 8358 0 8358 0 8358 0 8358 0 8358 0 8358 0 8358 0 8358 0 8358 0 8358 0 8358 0 8358 0 8358 0 8358 0 8358 0 8358 0 8358 0 8358 0 8358 0 8358 0 8358 0 8358 0 8358 0 8358 0 8358 0 8358 0 8358 0 8358 0 8358 0 8358 0 8358 0 8358 0 8358 0 8358 0 8358 0 8358 0 8358 0 8358 0 8358 0 8358 0 8358 0 8358 0 8358 0 8358 0 8358 0 8358 0 8358 0 8358 0 8358 0 8358 0 8358 0 8358 0 8358 0 8358 0 8358 0 8358 0 8358 0 8358 0 8358 0 8358 0 8358 0 8358 0 8358 0 8358 0 8358 0 8358 0 8358 0 8358 0 8358 0 8358 0 8358 0 8358 0 8358 0 8358 0                                                                                                                                                                                                                                                                                                                                                                                                                                                                                                                                                                                                                                                                                                                                                                                                                                                                                                                                                                                                                                                                                                                                                                                                                                                                                                                                                                                                                                                                                                                                                                                                                                                                                                                                                                                                                                                                                                                                                                                                                                                                                                                                                                                                                                                                                                                                                                                                                                                                                                                                                                                                                                                                                                                                                                                                                                                                                                                                                                                                                                                                                                                                                                                                                                                                                                                                                                                                                                                                                                                                                                                                                                                                                                                                                                                                                                                                                                                                                                                                                                                                                                                                                                                                                                                                                                                                                                                                                                                                                                                                                                                                                                                                                                                                                                                                                                                                                                                                                                                                                                                                                                                                                                                                                                                                1\n",
       "n a n a n a n a n a n a n a n a n a n a n a n a n a n a n a n a n a n a n a n a n a n a n a n a n a n a n a n a n a n a n a n a n a n a n a n a n a n a n a n a n a n a n a n a n a                                                                                                                                                                                                                                                                                                                                                                                                                                                                                                                                                                                                                                                                                                                                                                                                                                                                                                                                                                                                                                                                                                                                                                                                                                                                                                                                                                                                                                                                                                                                                                                                                                                                                                                                                                                                                                                                                                                                                                                                                                                                                                                                                                                                                                                                                                                                                                                                                                                                                                                                                                                                                                                                                                                                                                                                                                                                                                                                                                                                                                                                                                                                                                                                                                                                                                                                                                                                                                                                                                                                                                                                                                                                                                                                                                                                                                                                                                                                                                                                                                                                                                                                                                                                                                                                                                                                                                                                                                                                                                                                                                                                                                                                                                                                                                                                                                                                                                                                                                                                                                                                                                                                                                                                                                                                                                                                                                                                                                                                                                                                                                                                                                                                                                                                                                                                                                                                                                                                                                                                                                                                                                                                                                                                                                                                                                                                                                                                                                                                                                                                                                                                                                                                                                                                                                                                                                                                                                                                                                                                                                                                                                                                                                                                                                                                                                                                                                                                                                                                                                                                                                                     1\n",
       "200 - 500 200 - 500 200 - 500 200 - 500 200 - 500 200 - 500 200 - 500 200 - 500 200 - 500 200 - 500 200 - 500 200 - 500 200 - 500 200 - 500 200 - 500 200 - 500 200 - 500 200 - 500 200 - 500 200 - 500 200 - 500 200 - 500 200 - 500 200 - 500 200 - 500 200 - 500 200 - 500 200 - 500 200 - 500 200 - 500 200 - 500 200 - 500 200 - 500 200 - 500 200 - 500 200 - 500 200 - 500 200 - 500 200 - 500 200 - 500 200 - 500 200 - 500 200 - 500 200 - 500 200 - 500 200 - 500 200 - 500 200 - 500 200 - 500 200 - 500 200 - 500 200 - 500 200 - 500 200 - 500 200 - 500 200 - 500 200 - 500 200 - 500 200 - 500 200 - 500 200 - 500 200 - 500 200 - 500 200 - 500 200 - 500 200 - 500 200 - 500 200 - 500 200 - 500 200 - 500 200 - 500 200 - 500 200 - 500 200 - 500 200 - 500 200 - 500 200 - 500 200 - 500 200 - 500 200 - 500 200 - 500 200 - 500 200 - 500 200 - 500 200 - 500 200 - 500 200 - 500 200 - 500 200 - 500 200 - 500 200 - 500 200 - 500 200 - 500 200 - 500 200 - 500 200 - 500 200 - 500 200 - 500 200 - 500 200 - 500 200 - 500 200 - 500 200 - 500 200 - 500 200 - 500 200 - 500 200 - 500 200 - 500 200 - 500 200 - 500 200 - 500 200 - 500 200 - 500 200 - 500 200 - 500 200 - 500 200 - 500 200 - 500 200 - 500 200 - 500 200 - 500 200 - 500 200 - 500 200 - 500 200 - 500 200 - 500 200 - 500 200 - 500 200 - 500 200 - 500 200 - 500 200 - 500 200 - 500 200 - 500 200 - 500 200 - 500 200 - 500 200 - 500 200 - 500 200 - 500 200 - 500 200 - 500 200 - 500 200 - 500 200 - 500 200 - 500 200 - 500 200 - 500 200 - 500 200 - 500 200 - 500 200 - 500 200 - 500 200 - 500 200 - 500 200 - 500 200 - 500 200 - 500 200 - 500 200 - 500 200 - 500 200 - 500 200 - 500 200 - 500 200 - 500 200 - 500 200 - 500 200 - 500 200 - 500 200 - 500 200 - 500 200 - 500 200 - 500 200 - 500 200 - 500 200 - 500 200 - 500 200 - 500 200 - 500 200 - 500 200 - 500 200 - 500 200 - 500 200 - 500 200 - 500 200 - 500 200 - 500 200 - 500 200 - 500 200 - 500 200 - 500 200 - 500 200 - 500 200 - 500 200 - 500 200 - 500 200 - 500 200 - 500 200 - 500 200 - 500 200 - 500 200 - 500 200 - 500 200 - 500 200 - 500 200 - 500 200 - 500 200 - 500 200 - 500 200 - 500 200 - 500 200 - 500 200 - 500 200 - 500 200 - 500 200 - 500 200 - 500 200 - 500 200 - 500 200 - 500 200 - 500 200 - 500 200 - 500 200 - 500 200 - 500 200 - 500 200 - 500 200 - 500 200 - 500 200 - 500 200 - 500 200 - 500 200 - 500 200 - 500 200 - 500 200 - 500 200 - 500 200 - 500 200 - 500 200 - 500 200 - 500 200 - 500 200 - 500 200 - 500 200 - 500 200 - 500 200 - 500 200 - 500 200 - 500 200 - 500 200 - 500 200 - 500 200 - 500 200 - 500 200 - 500 200 - 500 200 - 500 200 - 500 200 - 500 200 - 500 200 - 500 200 - 500 200 - 500 200 - 500 200 - 500 200 - 500 200 - 500 200 - 500 200 - 500 200 - 500 200 - 500 200 - 500 200 - 500 200 - 500 200 - 500 200 - 500 200 - 500 200 - 500 200 - 500 200 - 500 200 - 500 200 - 500 200 - 500 200 - 500 200 - 500 200 - 500 200 - 500 200 - 500 200 - 500 200 - 500 200 - 500 200 - 500 200 - 500 200 - 500 200 - 500 200 - 500 200 - 500 200 - 500 200 - 500 200 - 500 200 - 500 200 - 500 200 - 500 200 - 500 200 - 500 200 - 500 200 - 500 200 - 500 200 - 500 200 - 500 200 - 500 200 - 500 200 - 500 200 - 500 200 - 500 200 - 500 200 - 500 200 - 500 200 - 500 200 - 500 200 - 500 200 - 500 200 - 500 200 - 500 200 - 500 200 - 500 200 - 500 200 - 500 200 - 500 200 - 500 200 - 500 200 - 500 200 - 500 200 - 500 200 - 500 200 - 500 200 - 500 200 - 500 200 - 500 200 - 500 200 - 500 200 - 500 200 - 500 200 - 500 200 - 500 200 - 500 200 - 500 200 - 500 200 - 500 200 - 500 200 - 500 200 - 500 200 - 500 200 - 500 200 - 500 200 - 500 200 - 500 200 - 500 200 - 500 200 - 500 200 - 500 200 - 500 200 - 500 200 - 500 200 - 500 200 - 500 200 - 500 200 - 500 200 - 500 200 - 500 200 - 500 200 - 500 200 - 500 200 - 500 200 - 500 200 - 500 200 - 500 200 - 500 200 - 500 200 - 500 200 - 500 200 - 500 200 - 500 200 - 500 200 - 500 200 - 500 200 - 500 200 - 500 200 - 500 200 - 500 200 - 500 200 - 500 200 - 500 200 - 500 200 - 500 200 - 500 200 - 500 200 - 500 200 - 500 200 - 500 200 - 500 200 - 500 200 - 500 200 - 500 200 - 500 200 - 500 200 - 500 200 - 500 200 - 500 200 - 500 200 - 500 200 - 500 200 - 500 200 - 500 200 - 500 200 - 500 200 - 500 200 - 500 200 - 500 200 - 500 200 - 500 200 - 500 200 - 500 200 - 500 200 - 500 200 - 500 200 - 500 200 - 500 200 - 500 200 - 500 200 - 500 200 - 500 200 - 500 200 - 500 200 - 500 200 - 500 200 - 500 200 - 500 200 - 500 200 - 500 200 - 500 200 - 500 200 - 500 200 - 500 200 - 500 200 - 500 200 - 500 200 - 500 200 - 500 200 - 500 200 - 500 200 - 500 200 - 500 200 - 500 200 - 500 200 - 500 200 - 500 200 - 500 200 - 500 200 - 500 200 - 500 200 - 500 200 - 500 200 - 500 200 - 500 200 - 500 200 - 500 200 - 500 200 - 500 200 - 500 200 - 500 200 - 500 200 - 500 200 - 500 200 - 500 200 - 500 200 - 500 200 - 500 200 - 500 200 - 500 200 - 500 200 - 500 200 - 500 200 - 500 200 - 500 200 - 500 200 - 500 200 - 500 200 - 500 200 - 500 200 - 500 200 - 500 200 - 500 200 - 500 200 - 500 200 - 500 200 - 500 200 - 500 200 - 500 200 - 500 200 - 500 200 - 500 200 - 500 200 - 500 200 - 500 200 - 500 200 - 500 200 - 500 200 - 500 200 - 500 200 - 500 200 - 500 200 - 500 200 - 500 200 - 500 200 - 500 200 - 500 200 - 500 200 - 500 200 - 500 200 - 500 200 - 500 200 - 500 200 - 500 200 - 500 200 - 500 200 - 500 200 - 500 200 - 500 200 - 500 200 - 500 200 - 500 200 - 500 200 - 500 200 - 500 200 - 500 200 - 500 200 - 500 200 - 500 200 - 500 200 - 500 200 - 500 200 - 500 200 - 500 200 - 500 200 - 500 200 - 500 200 - 500 200 - 500 200 - 500 200 - 500 200 - 500 200 - 500 200 - 500 200 - 500 200 - 500 200 - 500 200 - 500 200 - 500 200 - 500 200 - 500 200 - 500 200 - 500 200 - 500 200 - 500 200 - 500 200 - 500 200 - 500 200 - 500 200 - 500 200 - 500 200 - 500 200 - 500 200 - 500 200 - 500 200 - 500 200 - 500 200 - 500 200 - 500 200 - 500 200 - 500 200 - 500 200 - 500 200 - 500 200 - 500 200 - 500 200 - 500 200 - 500 200 - 500 200 - 500 200 - 500 200 - 500 200 - 500 200 - 500 200 - 500 200 - 500 200 - 500 200 - 500 200 - 500 200 - 500 200 - 500 200 - 500 200 - 500 200 - 500 200 - 500 200 - 500 200 - 500 200 - 500 200 - 500 200 - 500 200 - 500 200 - 500 200 - 500 200 - 500 200 - 500 200 - 500 200 - 500 200 - 500 200 - 500 200 - 500 200 - 500 200 - 500 200 - 500 200 - 500 200 - 500 200 - 500 200 - 500 200 - 500 200 - 500 200 - 500 200 - 500 200 - 500 200 - 500 200 - 500 200 - 500 200 - 500 200 - 500 200 - 500 200 - 500 200 - 500 200 - 500 200 - 500 200 - 500 200 - 500 200 - 500 200 - 500 200 - 500 200 - 500 200 - 500 200 - 500 200 - 500 200 - 500 200 - 500 200 - 500 200 - 500 200 - 500 200 - 500 200 - 500 200 - 500 200 - 500 200 - 500 200 - 500 200 - 500 200 - 500 200 - 500 200 - 500 200 - 500 200 - 500 200 - 500 200 - 500 200 - 500 200 - 500 200 - 500 200 - 500 200 - 500 200 - 500 200 - 500 200 - 500 200 - 500 200 - 500 200 - 500 200 - 500 200 - 500 200 - 500 200 - 500 200 - 500 200 - 500 200 - 500 200 - 500 200 - 500 200 - 500 200 - 500 200 - 500 200 - 500 200 - 500 200 - 500 200 - 500 200 - 500 200 - 500 200 - 500 200 - 500 200 - 500 200 - 500 200 - 500 200 - 500 200 - 500 200 - 500 200 - 500 200 - 500 200 - 500 200 - 500 200 - 500 200 - 500 200 - 500 200 - 500 200 - 500 200 - 500 200 - 500 200 - 500 200 - 500 200 - 500 200 - 500 200 - 500 200 - 500 200 - 500 200 - 500 200 - 500 200 - 500 200 - 500 200 - 500 200 - 500 200 - 500 200 - 500 200 - 500 200 - 500 200 - 500 200 - 500 200 - 500 200 - 500 200 - 500 200 - 500 200 - 500 200 - 500 200 - 500 200 - 500 200 - 500     1\n",
       "n a n a n a n a n a n a n a n a n a n a n a n a n a n a n a n a n a n a n a n a n a n a n a n a n a n a n a n a n a n a n a n a n a n a n a n a n a n a n a n a n a n a n a n a n a n a n a n a n a n a n a n a n a n a n a n a n a n a n a n a n a n a n a n a n a n a n a n a n a n a n a n a n a n a n a n a n a n a n a n a n a n a n a n a n a n a n a n a n a n a n a n a n a n a n a n a n a n a n a n a n a n a n a n a n a n a n a n a n a n a n a n a n a n a n a n a n a n a n a n a n a n a n a n a n a n a n a n a n a n a n a n a n a n a n a n a n a n a n a n a n a n a n a n a n a n a n a n a n a n a n a n a n a n a n a n a n a n a n a n a n a n a n a n a n a n a n a n a n a n a n a n a n a n a n a                                                                                                                                                                                                                                                                                                                                                                                                                                                                                                                                                                                                                                                                                                                                                                                                                                                                                                                                                                                                                                                                                                                                                                                                                                                                                                                                                                                                                                                                                                                                                                                                                                                                                                                                                                                                                                                                                                                                                                                                                                                                                                                                                                                                                                                                                                                                                                                                                                                                                                                                                                                                                                                                                                                                                                                                                                                                                                                                                                                                                                                                                                                                                                                                                                                                                                                                                                                                                                                                                                                                                                                                                                                                                                                                                                                                                                                                                                                                                                                                                                                                                                                                                                                                                                                                                                                                                                                                                                                                                                                                                                                                                                                                                                                                                                                                                                                                                                                                                                                                                                                                                                                                                                                                                                                                                                                                                                                                                                                                                                                                                                                                                                                                                                                                                                                                                                                                                                                                                                                                                                                                                                                                                                                                                                                                                                                                                                                                                                                                                                                                                                                                                                                                                                                                                                                                                                                                                                                                                                                                                                             1\n",
       "Name: text, Length: 100, dtype: int64"
      ]
     },
     "execution_count": 38,
     "metadata": {},
     "output_type": "execute_result"
    }
   ],
   "source": [
    "# test set has in general weird values for 164 \n",
    "real[real['label']==164].text.value_counts()"
   ]
  },
  {
   "cell_type": "code",
   "execution_count": 39,
   "id": "e2354d20",
   "metadata": {},
   "outputs": [
    {
     "ename": "AttributeError",
     "evalue": "'DataFrame' object has no attribute 'pred'",
     "output_type": "error",
     "traceback": [
      "\u001b[0;31m---------------------------------------------------------------------------\u001b[0m",
      "\u001b[0;31mAttributeError\u001b[0m                            Traceback (most recent call last)",
      "\u001b[0;32m/tmp/ipykernel_2219135/3852534927.py\u001b[0m in \u001b[0;36m<module>\u001b[0;34m\u001b[0m\n\u001b[0;32m----> 1\u001b[0;31m \u001b[0mreal\u001b[0m\u001b[0;34m[\u001b[0m\u001b[0mreal\u001b[0m\u001b[0;34m[\u001b[0m\u001b[0;34m'text'\u001b[0m\u001b[0;34m]\u001b[0m\u001b[0;34m==\u001b[0m\u001b[0;34m\" \"\u001b[0m\u001b[0;34m]\u001b[0m\u001b[0;34m.\u001b[0m\u001b[0mpred\u001b[0m\u001b[0;34m.\u001b[0m\u001b[0mvalue_counts\u001b[0m\u001b[0;34m(\u001b[0m\u001b[0;34m)\u001b[0m\u001b[0;34m\u001b[0m\u001b[0;34m\u001b[0m\u001b[0m\n\u001b[0m",
      "\u001b[0;32m~/anaconda3/lib/python3.8/site-packages/pandas/core/generic.py\u001b[0m in \u001b[0;36m__getattr__\u001b[0;34m(self, name)\u001b[0m\n\u001b[1;32m   5463\u001b[0m             \u001b[0;32mif\u001b[0m \u001b[0mself\u001b[0m\u001b[0;34m.\u001b[0m\u001b[0m_info_axis\u001b[0m\u001b[0;34m.\u001b[0m\u001b[0m_can_hold_identifiers_and_holds_name\u001b[0m\u001b[0;34m(\u001b[0m\u001b[0mname\u001b[0m\u001b[0;34m)\u001b[0m\u001b[0;34m:\u001b[0m\u001b[0;34m\u001b[0m\u001b[0;34m\u001b[0m\u001b[0m\n\u001b[1;32m   5464\u001b[0m                 \u001b[0;32mreturn\u001b[0m \u001b[0mself\u001b[0m\u001b[0;34m[\u001b[0m\u001b[0mname\u001b[0m\u001b[0;34m]\u001b[0m\u001b[0;34m\u001b[0m\u001b[0;34m\u001b[0m\u001b[0m\n\u001b[0;32m-> 5465\u001b[0;31m             \u001b[0;32mreturn\u001b[0m \u001b[0mobject\u001b[0m\u001b[0;34m.\u001b[0m\u001b[0m__getattribute__\u001b[0m\u001b[0;34m(\u001b[0m\u001b[0mself\u001b[0m\u001b[0;34m,\u001b[0m \u001b[0mname\u001b[0m\u001b[0;34m)\u001b[0m\u001b[0;34m\u001b[0m\u001b[0;34m\u001b[0m\u001b[0m\n\u001b[0m\u001b[1;32m   5466\u001b[0m \u001b[0;34m\u001b[0m\u001b[0m\n\u001b[1;32m   5467\u001b[0m     \u001b[0;32mdef\u001b[0m \u001b[0m__setattr__\u001b[0m\u001b[0;34m(\u001b[0m\u001b[0mself\u001b[0m\u001b[0;34m,\u001b[0m \u001b[0mname\u001b[0m\u001b[0;34m:\u001b[0m \u001b[0mstr\u001b[0m\u001b[0;34m,\u001b[0m \u001b[0mvalue\u001b[0m\u001b[0;34m)\u001b[0m \u001b[0;34m->\u001b[0m \u001b[0;32mNone\u001b[0m\u001b[0;34m:\u001b[0m\u001b[0;34m\u001b[0m\u001b[0;34m\u001b[0m\u001b[0m\n",
      "\u001b[0;31mAttributeError\u001b[0m: 'DataFrame' object has no attribute 'pred'"
     ]
    }
   ],
   "source": [
    "real[real['text']==\" \"].pred.value_counts()"
   ]
  },
  {
   "cell_type": "markdown",
   "id": "60194f44",
   "metadata": {},
   "source": [
    "What columns are they misclassified with?"
   ]
  },
  {
   "cell_type": "code",
   "execution_count": null,
   "id": "e55c2032",
   "metadata": {},
   "outputs": [],
   "source": [
    "figure(figsize=(20, 250), dpi=80)\n",
    "real[real['label'] != real['pred']].groupby('label').pred.value_counts().plot(kind='barh')"
   ]
  },
  {
   "cell_type": "code",
   "execution_count": null,
   "id": "eb8b1db9",
   "metadata": {},
   "outputs": [],
   "source": []
  },
  {
   "cell_type": "code",
   "execution_count": null,
   "id": "464bd4cd",
   "metadata": {},
   "outputs": [],
   "source": []
  },
  {
   "cell_type": "code",
   "execution_count": null,
   "id": "b8d26a6d",
   "metadata": {},
   "outputs": [],
   "source": [
    "print(real[real['label'] != real['pred']].groupby('label').pred.value_counts())"
   ]
  },
  {
   "cell_type": "markdown",
   "id": "1cc219a9",
   "metadata": {},
   "source": [
    "What are possible reasons for this misclassification -> data type, values of columns (e.g. empty, random etc.)"
   ]
  },
  {
   "cell_type": "code",
   "execution_count": 41,
   "id": "1dcf1d6f",
   "metadata": {},
   "outputs": [],
   "source": [
    "labels_new = {'worstratingProduct': 0,\n",
    " 'acceptsreservationsRestaurant': 1,\n",
    " 'additionalnamePerson': 2,\n",
    " 'additionalpropertyProduct': 3,\n",
    " 'addressHotel': 4,\n",
    " 'addressLocalBusiness': 5,\n",
    " 'addressPerson': 6,\n",
    " 'addressProduct': 7,\n",
    " 'addressRestaurant': 8,\n",
    " 'addresslocalityLocalBusiness': 9,\n",
    " 'addressregionLocalBusiness': 10,\n",
    " 'affiliationPerson': 11,\n",
    " 'aggregateratingBook': 12,\n",
    " 'aggregateratingCreativeWork': 13,\n",
    " 'aggregateratingHotel': 14,\n",
    " 'aggregateratingLocalBusiness': 15,\n",
    " 'aggregateratingProduct': 16,\n",
    " 'aggregateratingRecipe': 17,\n",
    " 'aggregateratingRestaurant': 18,\n",
    " 'alternatenameProduct': 19,\n",
    " 'alternativeheadlineCreativeWork': 20,\n",
    " 'areaservedLocalBusiness': 21,\n",
    " 'articlebodyCreativeWork': 22,\n",
    " 'audienceProduct': 23,\n",
    " 'authorBook': 24,\n",
    " 'authorCreativeWork': 25,\n",
    " 'authorProduct': 26,\n",
    " 'authorRecipe': 27,\n",
    " 'availabilityProduct': 28,\n",
    " 'bestratingProduct': 29,\n",
    " 'birthdatePerson': 30,\n",
    " 'birthplacePerson': 31,\n",
    " 'bookeditionBook': 32,\n",
    " 'bookformatBook': 33,\n",
    " 'brandProduct': 34,\n",
    " 'breadcrumbProduct': 35,\n",
    " 'byartistMusicAlbum': 36,\n",
    " 'byartistMusicRecording': 37,\n",
    " 'categoryProduct': 38,\n",
    " 'citystatezipLocalBusiness': 39,\n",
    " 'colorProduct': 40,\n",
    " 'commentcountCreativeWork': 41,\n",
    " 'conditionProduct': 42,\n",
    " 'contactpointLocalBusiness': 43,\n",
    " 'contactpointPerson': 44,\n",
    " 'cookingmethodRecipe': 45,\n",
    " 'cooktimeRecipe': 46,\n",
    " 'copyrightholderCreativeWork': 47,\n",
    " 'copyrightyearCreativeWork': 48,\n",
    " 'creatorCreativeWork': 49,\n",
    " 'datecreatedCreativeWork': 50,\n",
    " 'datecreatedMusicRecording': 51,\n",
    " 'datemodifiedCreativeWork': 52,\n",
    " 'datemodifiedRecipe': 53,\n",
    " 'datepublishedBook': 54,\n",
    " 'datepublishedCreativeWork': 55,\n",
    " 'datepublishedMusicRecording': 56,\n",
    " 'datepublishedProduct': 57,\n",
    " 'datepublishedRecipe': 58,\n",
    " 'deathdatePerson': 59,\n",
    " 'depthProduct': 60,\n",
    " 'disambiguatingdescriptionProduct': 61,\n",
    " 'doortimeEvent': 62,\n",
    " 'durationEvent': 63,\n",
    " 'durationMusicRecording': 64,\n",
    " 'emailHotel': 65,\n",
    " 'emailLocalBusiness': 66,\n",
    " 'emailPerson': 67,\n",
    " 'enddateEvent': 68,\n",
    " 'episodenumberTVEpisode': 69,\n",
    " 'worksforPerson': 70,\n",
    " 'familynamePerson': 71,\n",
    " 'faxnumberLocalBusiness': 72,\n",
    " 'faxnumberPerson': 73,\n",
    " 'genderPerson': 74,\n",
    " 'genreBook': 75,\n",
    " 'genreCreativeWork': 76,\n",
    " 'genreMusicRecording': 77,\n",
    " 'geoHotel': 78,\n",
    " 'geoLocalBusiness': 79,\n",
    " 'geoPlace': 80,\n",
    " 'geoProduct': 81,\n",
    " 'geoRestaurant': 82,\n",
    " 'givennamePerson': 83,\n",
    " 'gtin12Product': 84,\n",
    " 'gtin13Product': 85,\n",
    " 'gtin14Product': 86,\n",
    " 'gtin8Product': 87,\n",
    " 'gtinProduct': 88,\n",
    " 'hasmapLocalBusiness': 89,\n",
    " 'hasmenuRestaurant': 90,\n",
    " 'headlineCreativeWork': 91,\n",
    " 'headlineRecipe': 92,\n",
    " 'heightPerson': 93,\n",
    " 'heightProduct': 94,\n",
    " 'homelocationPerson': 95,\n",
    " 'identifierProduct': 96,\n",
    " 'worklocationPerson': 97,\n",
    " 'ingredientsRecipe': 98,\n",
    " 'inlanguageBook': 99,\n",
    " 'inlanguageCreativeWork': 100,\n",
    " 'interactioncountCreativeWork': 101,\n",
    " 'interactionstatisticCreativeWork': 102,\n",
    " 'interactiontypeCreativeWork': 103,\n",
    " 'isbnBook': 104,\n",
    " 'ispartofRecipe': 105,\n",
    " 'isrelatedtoProduct': 106,\n",
    " 'issimilartoProduct': 107,\n",
    " 'itemconditionProduct': 108,\n",
    " 'itemlistelementProduct': 109,\n",
    " 'jobtitlePerson': 110,\n",
    " 'keywordsCreativeWork': 111,\n",
    " 'keywordsRecipe': 112,\n",
    " 'knowslanguagePerson': 113,\n",
    " 'legalnameLocalBusiness': 114,\n",
    " 'locationEvent': 115,\n",
    " 'locationLocalBusiness': 116,\n",
    " 'mainentityofpageCreativeWork': 117,\n",
    " 'mainentityofpagePerson': 118,\n",
    " 'mainentityofpageProduct': 119,\n",
    " 'mainentityofpageRecipe': 120,\n",
    " 'makesofferPerson': 121,\n",
    " 'manufacturerProduct': 122,\n",
    " 'materialProduct': 123,\n",
    " 'memberofPerson': 124,\n",
    " 'menuRestaurant': 125,\n",
    " 'modelProduct': 126,\n",
    " 'mpnProduct': 127,\n",
    " 'nameBook': 128,\n",
    " 'nameCreativeWork': 129,\n",
    " 'nameEvent': 130,\n",
    " 'nameHotel': 131,\n",
    " 'nameLocalBusiness': 132,\n",
    " 'nameMusicAlbum': 133,\n",
    " 'nameMusicRecording': 134,\n",
    " 'namePlace': 135,\n",
    " 'nameProduct': 136,\n",
    " 'nameRecipe': 137,\n",
    " 'nameRestaurant': 138,\n",
    " 'nameTVEpisode': 139,\n",
    " 'nationalityPerson': 140,\n",
    " 'numberofpagesBook': 141,\n",
    " 'numtracksMusicAlbum': 142,\n",
    " 'nutritionRecipe': 143,\n",
    " 'weightProduct': 144,\n",
    " 'offersBook': 145,\n",
    " 'offersCreativeWork': 146,\n",
    " 'offersProduct': 147,\n",
    " 'openinghoursLocalBusiness': 148,\n",
    " 'openinghoursRestaurant': 149,\n",
    " 'openinghoursspecificationLocalBusiness': 150,\n",
    " 'openinghoursspecificationPlace': 151,\n",
    " 'openinghoursspecificationRestaurant': 152,\n",
    " 'organizerEvent': 153,\n",
    " 'partofseriesTVEpisode': 154,\n",
    " 'paymentacceptedLocalBusiness': 155,\n",
    " 'widthProduct': 156,\n",
    " 'performersEvent': 157,\n",
    " 'performtimeRecipe': 158,\n",
    " 'postalcodeLocalBusiness': 159,\n",
    " 'preptimeRecipe': 160,\n",
    " 'priceProduct': 161,\n",
    " 'pricecurrencyProduct': 162,\n",
    " 'pricerangeHotel': 163,\n",
    " 'pricerangeLocalBusiness': 164,\n",
    " 'pricerangeRestaurant': 165,\n",
    " 'publisherBook': 166,\n",
    " 'publisherCreativeWork': 167,\n",
    " 'publisherRecipe': 168,\n",
    " 'ratingvalueProduct': 169,\n",
    " 'recipecategoryRecipe': 170,\n",
    " 'recipecuisineRecipe': 171,\n",
    " 'recipeingredientRecipe': 172,\n",
    " 'recipeinstructionsRecipe': 173,\n",
    " 'recipeyieldRecipe': 174,\n",
    " 'releasedateProduct': 175,\n",
    " 'reviewLocalBusiness': 176,\n",
    " 'reviewProduct': 177,\n",
    " 'reviewRecipe': 178,\n",
    " 'reviewcountProduct': 179,\n",
    " 'reviewsProduct': 180,\n",
    " 'sameasLocalBusiness': 181,\n",
    " 'sameasPerson': 182,\n",
    " 'sameasPlace': 183,\n",
    " 'servescuisineRestaurant': 184,\n",
    " 'shop-currencyProduct': 185,\n",
    " 'starratingHotel': 186,\n",
    " 'streetaddressLocalBusiness': 187,\n",
    " 'suitablefordietRecipe': 188,\n",
    " 'telephoneHotel': 189,\n",
    " 'telephoneLocalBusiness': 190,\n",
    " 'telephonePerson': 191,\n",
    " 'telephonePlace': 192,\n",
    " 'telephoneRestaurant': 193,\n",
    " 'titleProduct': 194,\n",
    " 'totaltimeRecipe': 195,\n",
    " 'trackMusicAlbum': 196,\n",
    " 'typicalagerangeEvent': 197,\n",
    " 'versionCreativeWork': 198,\n",
    " 'weightPerson': 199,\n",
    " 'offerdetailsProduct': 200,\n",
    " 'founderLocalBusiness': 201}"
   ]
  },
  {
   "cell_type": "code",
   "execution_count": 42,
   "id": "711952ae",
   "metadata": {},
   "outputs": [],
   "source": [
    "df = pd.Series(labels_new)"
   ]
  },
  {
   "cell_type": "code",
   "execution_count": 43,
   "id": "f86db463",
   "metadata": {},
   "outputs": [],
   "source": [
    "path = '/work-ceph/bizer-tp2021/data_integration_using_deep_learning/src/data/data/CSV_files'"
   ]
  },
  {
   "cell_type": "code",
   "execution_count": 44,
   "id": "31fa449f",
   "metadata": {},
   "outputs": [],
   "source": [
    "files = pd.read_csv(path + '/all_files_cleaned.csv')"
   ]
  },
  {
   "cell_type": "code",
   "execution_count": 45,
   "id": "e86e29ac",
   "metadata": {},
   "outputs": [
    {
     "data": {
      "text/html": [
       "<div>\n",
       "<style scoped>\n",
       "    .dataframe tbody tr th:only-of-type {\n",
       "        vertical-align: middle;\n",
       "    }\n",
       "\n",
       "    .dataframe tbody tr th {\n",
       "        vertical-align: top;\n",
       "    }\n",
       "\n",
       "    .dataframe thead th {\n",
       "        text-align: right;\n",
       "    }\n",
       "</style>\n",
       "<table border=\"1\" class=\"dataframe\">\n",
       "  <thead>\n",
       "    <tr style=\"text-align: right;\">\n",
       "      <th></th>\n",
       "      <th>Unnamed: 0</th>\n",
       "      <th>schema_type</th>\n",
       "      <th>column_name</th>\n",
       "      <th>data_type</th>\n",
       "      <th>percentage</th>\n",
       "      <th>filename</th>\n",
       "      <th>num_tables</th>\n",
       "      <th>prob_matches</th>\n",
       "    </tr>\n",
       "  </thead>\n",
       "  <tbody>\n",
       "    <tr>\n",
       "      <th>0</th>\n",
       "      <td>0</td>\n",
       "      <td>name/ Product_stats.csv</td>\n",
       "      <td>name</td>\n",
       "      <td>string</td>\n",
       "      <td>0.994361</td>\n",
       "      <td>Product_stats.csv</td>\n",
       "      <td>432728.0</td>\n",
       "      <td>product_name</td>\n",
       "    </tr>\n",
       "    <tr>\n",
       "      <th>1</th>\n",
       "      <td>1</td>\n",
       "      <td>offers/ Product_stats.csv</td>\n",
       "      <td>offers</td>\n",
       "      <td>string</td>\n",
       "      <td>0.964249</td>\n",
       "      <td>Product_stats.csv</td>\n",
       "      <td>419624.0</td>\n",
       "      <td>offer</td>\n",
       "    </tr>\n",
       "    <tr>\n",
       "      <th>2</th>\n",
       "      <td>2</td>\n",
       "      <td>brand/ Product_stats.csv</td>\n",
       "      <td>brand</td>\n",
       "      <td>string</td>\n",
       "      <td>0.403728</td>\n",
       "      <td>Product_stats.csv</td>\n",
       "      <td>175695.0</td>\n",
       "      <td>product_name</td>\n",
       "    </tr>\n",
       "    <tr>\n",
       "      <th>3</th>\n",
       "      <td>3</td>\n",
       "      <td>headline/ CreativeWork_stats.csv</td>\n",
       "      <td>headline</td>\n",
       "      <td>string</td>\n",
       "      <td>0.939871</td>\n",
       "      <td>CreativeWork_stats.csv</td>\n",
       "      <td>76451.0</td>\n",
       "      <td>headline</td>\n",
       "    </tr>\n",
       "    <tr>\n",
       "      <th>4</th>\n",
       "      <td>4</td>\n",
       "      <td>author/ CreativeWork_stats.csv</td>\n",
       "      <td>author</td>\n",
       "      <td>string</td>\n",
       "      <td>0.776499</td>\n",
       "      <td>CreativeWork_stats.csv</td>\n",
       "      <td>63162.0</td>\n",
       "      <td>person_name</td>\n",
       "    </tr>\n",
       "    <tr>\n",
       "      <th>...</th>\n",
       "      <td>...</td>\n",
       "      <td>...</td>\n",
       "      <td>...</td>\n",
       "      <td>...</td>\n",
       "      <td>...</td>\n",
       "      <td>...</td>\n",
       "      <td>...</td>\n",
       "      <td>...</td>\n",
       "    </tr>\n",
       "    <tr>\n",
       "      <th>202</th>\n",
       "      <td>203</td>\n",
       "      <td>numtracks/ MusicAlbum_stats.csv</td>\n",
       "      <td>numtracks</td>\n",
       "      <td>int</td>\n",
       "      <td>0.415808</td>\n",
       "      <td>MusicAlbum_stats.csv</td>\n",
       "      <td>121.0</td>\n",
       "      <td>number</td>\n",
       "    </tr>\n",
       "    <tr>\n",
       "      <th>203</th>\n",
       "      <td>204</td>\n",
       "      <td>menu/ Restaurant_stats.csv</td>\n",
       "      <td>menu</td>\n",
       "      <td>string</td>\n",
       "      <td>0.104581</td>\n",
       "      <td>Restaurant_stats.csv</td>\n",
       "      <td>121.0</td>\n",
       "      <td>text_description</td>\n",
       "    </tr>\n",
       "    <tr>\n",
       "      <th>204</th>\n",
       "      <td>205</td>\n",
       "      <td>contactpoint/ Person_stats.csv</td>\n",
       "      <td>contactpoint</td>\n",
       "      <td>string</td>\n",
       "      <td>0.009353</td>\n",
       "      <td>Person_stats.csv</td>\n",
       "      <td>120.0</td>\n",
       "      <td>text_description</td>\n",
       "    </tr>\n",
       "    <tr>\n",
       "      <th>205</th>\n",
       "      <td>206</td>\n",
       "      <td>email/ Hotel_stats.csv</td>\n",
       "      <td>email</td>\n",
       "      <td>string</td>\n",
       "      <td>0.107664</td>\n",
       "      <td>Hotel_stats.csv</td>\n",
       "      <td>118.0</td>\n",
       "      <td>email</td>\n",
       "    </tr>\n",
       "    <tr>\n",
       "      <th>206</th>\n",
       "      <td>207</td>\n",
       "      <td>episodenumber/ TVEpisode_stats.csv</td>\n",
       "      <td>episodenumber</td>\n",
       "      <td>int</td>\n",
       "      <td>0.475610</td>\n",
       "      <td>TVEpisode_stats.csv</td>\n",
       "      <td>117.0</td>\n",
       "      <td>number</td>\n",
       "    </tr>\n",
       "  </tbody>\n",
       "</table>\n",
       "<p>207 rows × 8 columns</p>\n",
       "</div>"
      ],
      "text/plain": [
       "     Unnamed: 0                         schema_type    column_name data_type  \\\n",
       "0             0             name/ Product_stats.csv           name    string   \n",
       "1             1           offers/ Product_stats.csv         offers    string   \n",
       "2             2            brand/ Product_stats.csv          brand    string   \n",
       "3             3    headline/ CreativeWork_stats.csv       headline    string   \n",
       "4             4      author/ CreativeWork_stats.csv         author    string   \n",
       "..          ...                                 ...            ...       ...   \n",
       "202         203     numtracks/ MusicAlbum_stats.csv      numtracks       int   \n",
       "203         204          menu/ Restaurant_stats.csv           menu    string   \n",
       "204         205      contactpoint/ Person_stats.csv   contactpoint    string   \n",
       "205         206              email/ Hotel_stats.csv          email    string   \n",
       "206         207  episodenumber/ TVEpisode_stats.csv  episodenumber       int   \n",
       "\n",
       "     percentage                filename  num_tables      prob_matches  \n",
       "0      0.994361       Product_stats.csv    432728.0      product_name  \n",
       "1      0.964249       Product_stats.csv    419624.0             offer  \n",
       "2      0.403728       Product_stats.csv    175695.0      product_name  \n",
       "3      0.939871  CreativeWork_stats.csv     76451.0          headline  \n",
       "4      0.776499  CreativeWork_stats.csv     63162.0       person_name  \n",
       "..          ...                     ...         ...               ...  \n",
       "202    0.415808    MusicAlbum_stats.csv       121.0            number  \n",
       "203    0.104581    Restaurant_stats.csv       121.0  text_description  \n",
       "204    0.009353        Person_stats.csv       120.0  text_description  \n",
       "205    0.107664         Hotel_stats.csv       118.0             email  \n",
       "206    0.475610     TVEpisode_stats.csv       117.0            number  \n",
       "\n",
       "[207 rows x 8 columns]"
      ]
     },
     "execution_count": 45,
     "metadata": {},
     "output_type": "execute_result"
    }
   ],
   "source": [
    "files"
   ]
  },
  {
   "cell_type": "code",
   "execution_count": 46,
   "id": "0fc511a2",
   "metadata": {},
   "outputs": [],
   "source": [
    "files['labels_new'] = files['column_name'] + files['filename'].str.split('_').str[0] \n",
    "new_df = files[['labels_new', 'data_type', 'filename']]\n",
    "df_match = pd.DataFrame({'index': df.index, 'vals': df.values})\n",
    "ultimate = pd.merge(new_df, df_match, left_on='labels_new', right_on='index')\n",
    "ultimate.drop(['labels_new'], axis=1, inplace=True)\n"
   ]
  },
  {
   "cell_type": "code",
   "execution_count": 47,
   "id": "2c8e9942",
   "metadata": {},
   "outputs": [],
   "source": [
    "real_new = pd.merge(real, ultimate, left_on='label', right_on='vals')\n",
    "real_new.drop(['vals'], inplace=True, axis=1)"
   ]
  },
  {
   "cell_type": "code",
   "execution_count": null,
   "id": "f82c0a10",
   "metadata": {},
   "outputs": [],
   "source": []
  },
  {
   "cell_type": "code",
   "execution_count": 73,
   "id": "d0c3215b",
   "metadata": {},
   "outputs": [
    {
     "data": {
      "text/plain": [
       "string         39449\n",
       "datetime        6918\n",
       "float           1800\n",
       "int             1008\n",
       "geolocation      429\n",
       "Name: data_type, dtype: int64"
      ]
     },
     "execution_count": 73,
     "metadata": {},
     "output_type": "execute_result"
    }
   ],
   "source": [
    "real_new.data_type.value_counts()"
   ]
  },
  {
   "cell_type": "markdown",
   "id": "bcf0fb63",
   "metadata": {},
   "source": [
    "Shows how much problems the models have with the different datatypes"
   ]
  },
  {
   "cell_type": "code",
   "execution_count": 74,
   "id": "2a910a1f",
   "metadata": {},
   "outputs": [
    {
     "data": {
      "text/plain": [
       "<AxesSubplot:>"
      ]
     },
     "execution_count": 74,
     "metadata": {},
     "output_type": "execute_result"
    },
    {
     "data": {
      "image/png": "[encoded data removed]",
      "text/plain": [
       "<Figure size 432x288 with 1 Axes>"
      ]
     },
     "metadata": {
      "needs_background": "light"
     },
     "output_type": "display_data"
    }
   ],
   "source": [
    "(real_new[real_new['label']!= real_new['tinybert_pred']].data_type.value_counts() / real_new.data_type.value_counts()).plot(kind='bar', color='cornflowerblue')"
   ]
  },
  {
   "cell_type": "code",
   "execution_count": 48,
   "id": "d4f4bcad",
   "metadata": {},
   "outputs": [
    {
     "data": {
      "text/html": [
       "<div>\n",
       "<style scoped>\n",
       "    .dataframe tbody tr th:only-of-type {\n",
       "        vertical-align: middle;\n",
       "    }\n",
       "\n",
       "    .dataframe tbody tr th {\n",
       "        vertical-align: top;\n",
       "    }\n",
       "\n",
       "    .dataframe thead th {\n",
       "        text-align: right;\n",
       "    }\n",
       "</style>\n",
       "<table border=\"1\" class=\"dataframe\">\n",
       "  <thead>\n",
       "    <tr style=\"text-align: right;\">\n",
       "      <th></th>\n",
       "      <th>text</th>\n",
       "      <th>label</th>\n",
       "      <th>tinybert_pred</th>\n",
       "      <th>roberta_pred</th>\n",
       "      <th>bert_pred</th>\n",
       "      <th>distilbert_pred</th>\n",
       "      <th>data_type</th>\n",
       "      <th>filename</th>\n",
       "      <th>index</th>\n",
       "    </tr>\n",
       "  </thead>\n",
       "  <tbody>\n",
       "    <tr>\n",
       "      <th>0</th>\n",
       "      <td>Comedy Improv at Arts Garage 2020-12-10 Shows ...</td>\n",
       "      <td>130</td>\n",
       "      <td>135</td>\n",
       "      <td>130</td>\n",
       "      <td>130</td>\n",
       "      <td>130</td>\n",
       "      <td>string</td>\n",
       "      <td>Event_stats.csv</td>\n",
       "      <td>nameEvent</td>\n",
       "    </tr>\n",
       "    <tr>\n",
       "      <th>1</th>\n",
       "      <td>Inspirada Fall Community Garage Sale Grand Ope...</td>\n",
       "      <td>130</td>\n",
       "      <td>130</td>\n",
       "      <td>130</td>\n",
       "      <td>130</td>\n",
       "      <td>130</td>\n",
       "      <td>string</td>\n",
       "      <td>Event_stats.csv</td>\n",
       "      <td>nameEvent</td>\n",
       "    </tr>\n",
       "    <tr>\n",
       "      <th>2</th>\n",
       "      <td>Safer Recruitment Refresher Half Day Training ...</td>\n",
       "      <td>130</td>\n",
       "      <td>130</td>\n",
       "      <td>130</td>\n",
       "      <td>130</td>\n",
       "      <td>130</td>\n",
       "      <td>string</td>\n",
       "      <td>Event_stats.csv</td>\n",
       "      <td>nameEvent</td>\n",
       "    </tr>\n",
       "    <tr>\n",
       "      <th>3</th>\n",
       "      <td>Ladies Lunch Presentation Night 70 Years Coope...</td>\n",
       "      <td>130</td>\n",
       "      <td>130</td>\n",
       "      <td>130</td>\n",
       "      <td>130</td>\n",
       "      <td>130</td>\n",
       "      <td>string</td>\n",
       "      <td>Event_stats.csv</td>\n",
       "      <td>nameEvent</td>\n",
       "    </tr>\n",
       "    <tr>\n",
       "      <th>4</th>\n",
       "      <td>Norwich Book Store - Frank Toms talks about hi...</td>\n",
       "      <td>130</td>\n",
       "      <td>130</td>\n",
       "      <td>130</td>\n",
       "      <td>130</td>\n",
       "      <td>130</td>\n",
       "      <td>string</td>\n",
       "      <td>Event_stats.csv</td>\n",
       "      <td>nameEvent</td>\n",
       "    </tr>\n",
       "    <tr>\n",
       "      <th>...</th>\n",
       "      <td>...</td>\n",
       "      <td>...</td>\n",
       "      <td>...</td>\n",
       "      <td>...</td>\n",
       "      <td>...</td>\n",
       "      <td>...</td>\n",
       "      <td>...</td>\n",
       "      <td>...</td>\n",
       "      <td>...</td>\n",
       "    </tr>\n",
       "    <tr>\n",
       "      <th>49599</th>\n",
       "      <td>2020-10-29T07 30 00 000Z 2020-11-14T08 00 00 0...</td>\n",
       "      <td>62</td>\n",
       "      <td>68</td>\n",
       "      <td>68</td>\n",
       "      <td>68</td>\n",
       "      <td>68</td>\n",
       "      <td>datetime</td>\n",
       "      <td>Event_stats.csv</td>\n",
       "      <td>doortimeEvent</td>\n",
       "    </tr>\n",
       "    <tr>\n",
       "      <th>49600</th>\n",
       "      <td>2020-02-29T03 00 00 000Z 2020-02-15T04 30 00 0...</td>\n",
       "      <td>62</td>\n",
       "      <td>68</td>\n",
       "      <td>68</td>\n",
       "      <td>68</td>\n",
       "      <td>68</td>\n",
       "      <td>datetime</td>\n",
       "      <td>Event_stats.csv</td>\n",
       "      <td>doortimeEvent</td>\n",
       "    </tr>\n",
       "    <tr>\n",
       "      <th>49601</th>\n",
       "      <td>2019-12-29 17 00 00 2020-10-07 19 00 00 2019-0...</td>\n",
       "      <td>62</td>\n",
       "      <td>55</td>\n",
       "      <td>68</td>\n",
       "      <td>68</td>\n",
       "      <td>68</td>\n",
       "      <td>datetime</td>\n",
       "      <td>Event_stats.csv</td>\n",
       "      <td>doortimeEvent</td>\n",
       "    </tr>\n",
       "    <tr>\n",
       "      <th>49602</th>\n",
       "      <td>2020-10-31T02 00 00-07 00 2021-03-20T03 00 00-...</td>\n",
       "      <td>62</td>\n",
       "      <td>68</td>\n",
       "      <td>68</td>\n",
       "      <td>68</td>\n",
       "      <td>68</td>\n",
       "      <td>datetime</td>\n",
       "      <td>Event_stats.csv</td>\n",
       "      <td>doortimeEvent</td>\n",
       "    </tr>\n",
       "    <tr>\n",
       "      <th>49603</th>\n",
       "      <td>2019-12-12 19 30 00 2020-09-17 19 00 00 2020-0...</td>\n",
       "      <td>62</td>\n",
       "      <td>68</td>\n",
       "      <td>68</td>\n",
       "      <td>68</td>\n",
       "      <td>68</td>\n",
       "      <td>datetime</td>\n",
       "      <td>Event_stats.csv</td>\n",
       "      <td>doortimeEvent</td>\n",
       "    </tr>\n",
       "  </tbody>\n",
       "</table>\n",
       "<p>49604 rows × 9 columns</p>\n",
       "</div>"
      ],
      "text/plain": [
       "                                                    text  label  \\\n",
       "0      Comedy Improv at Arts Garage 2020-12-10 Shows ...    130   \n",
       "1      Inspirada Fall Community Garage Sale Grand Ope...    130   \n",
       "2      Safer Recruitment Refresher Half Day Training ...    130   \n",
       "3      Ladies Lunch Presentation Night 70 Years Coope...    130   \n",
       "4      Norwich Book Store - Frank Toms talks about hi...    130   \n",
       "...                                                  ...    ...   \n",
       "49599  2020-10-29T07 30 00 000Z 2020-11-14T08 00 00 0...     62   \n",
       "49600  2020-02-29T03 00 00 000Z 2020-02-15T04 30 00 0...     62   \n",
       "49601  2019-12-29 17 00 00 2020-10-07 19 00 00 2019-0...     62   \n",
       "49602  2020-10-31T02 00 00-07 00 2021-03-20T03 00 00-...     62   \n",
       "49603  2019-12-12 19 30 00 2020-09-17 19 00 00 2020-0...     62   \n",
       "\n",
       "       tinybert_pred  roberta_pred  bert_pred  distilbert_pred data_type  \\\n",
       "0                135           130        130              130    string   \n",
       "1                130           130        130              130    string   \n",
       "2                130           130        130              130    string   \n",
       "3                130           130        130              130    string   \n",
       "4                130           130        130              130    string   \n",
       "...              ...           ...        ...              ...       ...   \n",
       "49599             68            68         68               68  datetime   \n",
       "49600             68            68         68               68  datetime   \n",
       "49601             55            68         68               68  datetime   \n",
       "49602             68            68         68               68  datetime   \n",
       "49603             68            68         68               68  datetime   \n",
       "\n",
       "              filename          index  \n",
       "0      Event_stats.csv      nameEvent  \n",
       "1      Event_stats.csv      nameEvent  \n",
       "2      Event_stats.csv      nameEvent  \n",
       "3      Event_stats.csv      nameEvent  \n",
       "4      Event_stats.csv      nameEvent  \n",
       "...                ...            ...  \n",
       "49599  Event_stats.csv  doortimeEvent  \n",
       "49600  Event_stats.csv  doortimeEvent  \n",
       "49601  Event_stats.csv  doortimeEvent  \n",
       "49602  Event_stats.csv  doortimeEvent  \n",
       "49603  Event_stats.csv  doortimeEvent  \n",
       "\n",
       "[49604 rows x 9 columns]"
      ]
     },
     "execution_count": 48,
     "metadata": {},
     "output_type": "execute_result"
    }
   ],
   "source": [
    "real_new"
   ]
  },
  {
   "cell_type": "code",
   "execution_count": 49,
   "id": "f604a1d9",
   "metadata": {},
   "outputs": [
    {
     "name": "stdout",
     "output_type": "stream",
     "text": [
      "string : 0.7797155821440341\n",
      "datetime : 0.7575888985255854\n",
      "float : 0.4988888888888889\n",
      "geolocation : 0.5034965034965035\n",
      "int : 0.5436507936507936\n"
     ]
    }
   ],
   "source": [
    "for t in real_new['data_type'].unique():\n",
    "    print(t, ':', f1_score(real_new[real_new['data_type']== t].label, real_new[real_new['data_type']== t].tinybert_pred, average='micro')) \n",
    "    "
   ]
  },
  {
   "cell_type": "code",
   "execution_count": 75,
   "id": "9239fc59",
   "metadata": {},
   "outputs": [
    {
     "data": {
      "text/plain": [
       "<AxesSubplot:>"
      ]
     },
     "execution_count": 75,
     "metadata": {},
     "output_type": "execute_result"
    },
    {
     "data": {
      "image/png": "[encoded data removed]",
      "text/plain": [
       "<Figure size 432x288 with 1 Axes>"
      ]
     },
     "metadata": {
      "needs_background": "light"
     },
     "output_type": "display_data"
    }
   ],
   "source": [
    "(real_new[real_new['label']!= real_new['roberta_pred']].data_type.value_counts() / real_new.data_type.value_counts()).plot(kind='bar',color='cornflowerblue')"
   ]
  },
  {
   "cell_type": "code",
   "execution_count": 76,
   "id": "55a314aa",
   "metadata": {},
   "outputs": [
    {
     "data": {
      "text/plain": [
       "<AxesSubplot:>"
      ]
     },
     "execution_count": 76,
     "metadata": {},
     "output_type": "execute_result"
    },
    {
     "data": {
      "image/png": "[encoded data removed]",
      "text/plain": [
       "<Figure size 432x288 with 1 Axes>"
      ]
     },
     "metadata": {
      "needs_background": "light"
     },
     "output_type": "display_data"
    }
   ],
   "source": [
    "(real_new[real_new['label']!= real_new['bert_pred']].data_type.value_counts() / real_new.data_type.value_counts()).plot(kind='bar',color='cornflowerblue')"
   ]
  },
  {
   "cell_type": "code",
   "execution_count": 77,
   "id": "3180b64c",
   "metadata": {},
   "outputs": [
    {
     "data": {
      "text/plain": [
       "<AxesSubplot:>"
      ]
     },
     "execution_count": 77,
     "metadata": {},
     "output_type": "execute_result"
    },
    {
     "data": {
      "image/png": "[encoded data removed]",
      "text/plain": [
       "<Figure size 432x288 with 1 Axes>"
      ]
     },
     "metadata": {
      "needs_background": "light"
     },
     "output_type": "display_data"
    }
   ],
   "source": [
    "(real_new[real_new['label']!= real_new['distilbert_pred']].data_type.value_counts() / real_new.data_type.value_counts()).plot(kind='bar',color='cornflowerblue')"
   ]
  },
  {
   "cell_type": "code",
   "execution_count": 78,
   "id": "cf66247e",
   "metadata": {},
   "outputs": [
    {
     "data": {
      "text/html": [
       "<div>\n",
       "<style scoped>\n",
       "    .dataframe tbody tr th:only-of-type {\n",
       "        vertical-align: middle;\n",
       "    }\n",
       "\n",
       "    .dataframe tbody tr th {\n",
       "        vertical-align: top;\n",
       "    }\n",
       "\n",
       "    .dataframe thead th {\n",
       "        text-align: right;\n",
       "    }\n",
       "</style>\n",
       "<table border=\"1\" class=\"dataframe\">\n",
       "  <thead>\n",
       "    <tr style=\"text-align: right;\">\n",
       "      <th></th>\n",
       "      <th>text</th>\n",
       "      <th>label</th>\n",
       "      <th>tinybert_pred</th>\n",
       "      <th>roberta_pred</th>\n",
       "      <th>bert_pred</th>\n",
       "      <th>distilbert_pred</th>\n",
       "      <th>data_type</th>\n",
       "      <th>filename</th>\n",
       "      <th>index</th>\n",
       "    </tr>\n",
       "  </thead>\n",
       "  <tbody>\n",
       "    <tr>\n",
       "      <th>0</th>\n",
       "      <td>Comedy Improv at Arts Garage 2020-12-10 Shows ...</td>\n",
       "      <td>130</td>\n",
       "      <td>135</td>\n",
       "      <td>130</td>\n",
       "      <td>130</td>\n",
       "      <td>130</td>\n",
       "      <td>string</td>\n",
       "      <td>Event_stats.csv</td>\n",
       "      <td>nameEvent</td>\n",
       "    </tr>\n",
       "    <tr>\n",
       "      <th>1</th>\n",
       "      <td>Inspirada Fall Community Garage Sale Grand Ope...</td>\n",
       "      <td>130</td>\n",
       "      <td>130</td>\n",
       "      <td>130</td>\n",
       "      <td>130</td>\n",
       "      <td>130</td>\n",
       "      <td>string</td>\n",
       "      <td>Event_stats.csv</td>\n",
       "      <td>nameEvent</td>\n",
       "    </tr>\n",
       "    <tr>\n",
       "      <th>2</th>\n",
       "      <td>Safer Recruitment Refresher Half Day Training ...</td>\n",
       "      <td>130</td>\n",
       "      <td>130</td>\n",
       "      <td>130</td>\n",
       "      <td>130</td>\n",
       "      <td>130</td>\n",
       "      <td>string</td>\n",
       "      <td>Event_stats.csv</td>\n",
       "      <td>nameEvent</td>\n",
       "    </tr>\n",
       "    <tr>\n",
       "      <th>3</th>\n",
       "      <td>Ladies Lunch Presentation Night 70 Years Coope...</td>\n",
       "      <td>130</td>\n",
       "      <td>130</td>\n",
       "      <td>130</td>\n",
       "      <td>130</td>\n",
       "      <td>130</td>\n",
       "      <td>string</td>\n",
       "      <td>Event_stats.csv</td>\n",
       "      <td>nameEvent</td>\n",
       "    </tr>\n",
       "    <tr>\n",
       "      <th>4</th>\n",
       "      <td>Norwich Book Store - Frank Toms talks about hi...</td>\n",
       "      <td>130</td>\n",
       "      <td>130</td>\n",
       "      <td>130</td>\n",
       "      <td>130</td>\n",
       "      <td>130</td>\n",
       "      <td>string</td>\n",
       "      <td>Event_stats.csv</td>\n",
       "      <td>nameEvent</td>\n",
       "    </tr>\n",
       "    <tr>\n",
       "      <th>...</th>\n",
       "      <td>...</td>\n",
       "      <td>...</td>\n",
       "      <td>...</td>\n",
       "      <td>...</td>\n",
       "      <td>...</td>\n",
       "      <td>...</td>\n",
       "      <td>...</td>\n",
       "      <td>...</td>\n",
       "      <td>...</td>\n",
       "    </tr>\n",
       "    <tr>\n",
       "      <th>49599</th>\n",
       "      <td>2020-10-29T07 30 00 000Z 2020-11-14T08 00 00 0...</td>\n",
       "      <td>62</td>\n",
       "      <td>68</td>\n",
       "      <td>68</td>\n",
       "      <td>68</td>\n",
       "      <td>68</td>\n",
       "      <td>datetime</td>\n",
       "      <td>Event_stats.csv</td>\n",
       "      <td>doortimeEvent</td>\n",
       "    </tr>\n",
       "    <tr>\n",
       "      <th>49600</th>\n",
       "      <td>2020-02-29T03 00 00 000Z 2020-02-15T04 30 00 0...</td>\n",
       "      <td>62</td>\n",
       "      <td>68</td>\n",
       "      <td>68</td>\n",
       "      <td>68</td>\n",
       "      <td>68</td>\n",
       "      <td>datetime</td>\n",
       "      <td>Event_stats.csv</td>\n",
       "      <td>doortimeEvent</td>\n",
       "    </tr>\n",
       "    <tr>\n",
       "      <th>49601</th>\n",
       "      <td>2019-12-29 17 00 00 2020-10-07 19 00 00 2019-0...</td>\n",
       "      <td>62</td>\n",
       "      <td>55</td>\n",
       "      <td>68</td>\n",
       "      <td>68</td>\n",
       "      <td>68</td>\n",
       "      <td>datetime</td>\n",
       "      <td>Event_stats.csv</td>\n",
       "      <td>doortimeEvent</td>\n",
       "    </tr>\n",
       "    <tr>\n",
       "      <th>49602</th>\n",
       "      <td>2020-10-31T02 00 00-07 00 2021-03-20T03 00 00-...</td>\n",
       "      <td>62</td>\n",
       "      <td>68</td>\n",
       "      <td>68</td>\n",
       "      <td>68</td>\n",
       "      <td>68</td>\n",
       "      <td>datetime</td>\n",
       "      <td>Event_stats.csv</td>\n",
       "      <td>doortimeEvent</td>\n",
       "    </tr>\n",
       "    <tr>\n",
       "      <th>49603</th>\n",
       "      <td>2019-12-12 19 30 00 2020-09-17 19 00 00 2020-0...</td>\n",
       "      <td>62</td>\n",
       "      <td>68</td>\n",
       "      <td>68</td>\n",
       "      <td>68</td>\n",
       "      <td>68</td>\n",
       "      <td>datetime</td>\n",
       "      <td>Event_stats.csv</td>\n",
       "      <td>doortimeEvent</td>\n",
       "    </tr>\n",
       "  </tbody>\n",
       "</table>\n",
       "<p>49604 rows × 9 columns</p>\n",
       "</div>"
      ],
      "text/plain": [
       "                                                    text  label  \\\n",
       "0      Comedy Improv at Arts Garage 2020-12-10 Shows ...    130   \n",
       "1      Inspirada Fall Community Garage Sale Grand Ope...    130   \n",
       "2      Safer Recruitment Refresher Half Day Training ...    130   \n",
       "3      Ladies Lunch Presentation Night 70 Years Coope...    130   \n",
       "4      Norwich Book Store - Frank Toms talks about hi...    130   \n",
       "...                                                  ...    ...   \n",
       "49599  2020-10-29T07 30 00 000Z 2020-11-14T08 00 00 0...     62   \n",
       "49600  2020-02-29T03 00 00 000Z 2020-02-15T04 30 00 0...     62   \n",
       "49601  2019-12-29 17 00 00 2020-10-07 19 00 00 2019-0...     62   \n",
       "49602  2020-10-31T02 00 00-07 00 2021-03-20T03 00 00-...     62   \n",
       "49603  2019-12-12 19 30 00 2020-09-17 19 00 00 2020-0...     62   \n",
       "\n",
       "       tinybert_pred  roberta_pred  bert_pred  distilbert_pred data_type  \\\n",
       "0                135           130        130              130    string   \n",
       "1                130           130        130              130    string   \n",
       "2                130           130        130              130    string   \n",
       "3                130           130        130              130    string   \n",
       "4                130           130        130              130    string   \n",
       "...              ...           ...        ...              ...       ...   \n",
       "49599             68            68         68               68  datetime   \n",
       "49600             68            68         68               68  datetime   \n",
       "49601             55            68         68               68  datetime   \n",
       "49602             68            68         68               68  datetime   \n",
       "49603             68            68         68               68  datetime   \n",
       "\n",
       "              filename          index  \n",
       "0      Event_stats.csv      nameEvent  \n",
       "1      Event_stats.csv      nameEvent  \n",
       "2      Event_stats.csv      nameEvent  \n",
       "3      Event_stats.csv      nameEvent  \n",
       "4      Event_stats.csv      nameEvent  \n",
       "...                ...            ...  \n",
       "49599  Event_stats.csv  doortimeEvent  \n",
       "49600  Event_stats.csv  doortimeEvent  \n",
       "49601  Event_stats.csv  doortimeEvent  \n",
       "49602  Event_stats.csv  doortimeEvent  \n",
       "49603  Event_stats.csv  doortimeEvent  \n",
       "\n",
       "[49604 rows x 9 columns]"
      ]
     },
     "execution_count": 78,
     "metadata": {},
     "output_type": "execute_result"
    }
   ],
   "source": [
    "real_new"
   ]
  },
  {
   "cell_type": "markdown",
   "id": "e8d74a60",
   "metadata": {},
   "source": [
    "When gtin numbers are confused, then often with other gtin numbers eg 85"
   ]
  },
  {
   "cell_type": "code",
   "execution_count": 79,
   "id": "387348fb",
   "metadata": {},
   "outputs": [
    {
     "data": {
      "text/html": [
       "<div>\n",
       "<style scoped>\n",
       "    .dataframe tbody tr th:only-of-type {\n",
       "        vertical-align: middle;\n",
       "    }\n",
       "\n",
       "    .dataframe tbody tr th {\n",
       "        vertical-align: top;\n",
       "    }\n",
       "\n",
       "    .dataframe thead th {\n",
       "        text-align: right;\n",
       "    }\n",
       "</style>\n",
       "<table border=\"1\" class=\"dataframe\">\n",
       "  <thead>\n",
       "    <tr style=\"text-align: right;\">\n",
       "      <th></th>\n",
       "      <th>text</th>\n",
       "      <th>label</th>\n",
       "      <th>tinybert_pred</th>\n",
       "      <th>roberta_pred</th>\n",
       "      <th>bert_pred</th>\n",
       "      <th>distilbert_pred</th>\n",
       "      <th>data_type</th>\n",
       "      <th>filename</th>\n",
       "      <th>index</th>\n",
       "    </tr>\n",
       "  </thead>\n",
       "  <tbody>\n",
       "    <tr>\n",
       "      <th>39388</th>\n",
       "      <td>629269001179 0 629269000264 0 628055856535 0 ...</td>\n",
       "      <td>84</td>\n",
       "      <td>84</td>\n",
       "      <td>84</td>\n",
       "      <td>84</td>\n",
       "      <td>84</td>\n",
       "      <td>int</td>\n",
       "      <td>Product_stats.csv</td>\n",
       "      <td>gtin12Product</td>\n",
       "    </tr>\n",
       "    <tr>\n",
       "      <th>39389</th>\n",
       "      <td>831362001462 0 698231727393 0 90127685617 0 8...</td>\n",
       "      <td>84</td>\n",
       "      <td>85</td>\n",
       "      <td>85</td>\n",
       "      <td>85</td>\n",
       "      <td>85</td>\n",
       "      <td>int</td>\n",
       "      <td>Product_stats.csv</td>\n",
       "      <td>gtin12Product</td>\n",
       "    </tr>\n",
       "    <tr>\n",
       "      <th>39390</th>\n",
       "      <td>685349612338 0 685349604999 0 853017115768 0 6...</td>\n",
       "      <td>84</td>\n",
       "      <td>85</td>\n",
       "      <td>84</td>\n",
       "      <td>84</td>\n",
       "      <td>84</td>\n",
       "      <td>int</td>\n",
       "      <td>Product_stats.csv</td>\n",
       "      <td>gtin12Product</td>\n",
       "    </tr>\n",
       "    <tr>\n",
       "      <th>39391</th>\n",
       "      <td>735048124837 0 804763626459 0 48019200950 0 75...</td>\n",
       "      <td>84</td>\n",
       "      <td>127</td>\n",
       "      <td>85</td>\n",
       "      <td>85</td>\n",
       "      <td>85</td>\n",
       "      <td>int</td>\n",
       "      <td>Product_stats.csv</td>\n",
       "      <td>gtin12Product</td>\n",
       "    </tr>\n",
       "    <tr>\n",
       "      <th>39392</th>\n",
       "      <td>37733005156 0 37733007129 0 37733007723 0 3444...</td>\n",
       "      <td>84</td>\n",
       "      <td>85</td>\n",
       "      <td>85</td>\n",
       "      <td>85</td>\n",
       "      <td>85</td>\n",
       "      <td>int</td>\n",
       "      <td>Product_stats.csv</td>\n",
       "      <td>gtin12Product</td>\n",
       "    </tr>\n",
       "    <tr>\n",
       "      <th>...</th>\n",
       "      <td>...</td>\n",
       "      <td>...</td>\n",
       "      <td>...</td>\n",
       "      <td>...</td>\n",
       "      <td>...</td>\n",
       "      <td>...</td>\n",
       "      <td>...</td>\n",
       "      <td>...</td>\n",
       "      <td>...</td>\n",
       "    </tr>\n",
       "    <tr>\n",
       "      <th>39567</th>\n",
       "      <td>811886011352 811886011338 811886011024 8118860...</td>\n",
       "      <td>84</td>\n",
       "      <td>84</td>\n",
       "      <td>85</td>\n",
       "      <td>84</td>\n",
       "      <td>84</td>\n",
       "      <td>int</td>\n",
       "      <td>Product_stats.csv</td>\n",
       "      <td>gtin12Product</td>\n",
       "    </tr>\n",
       "    <tr>\n",
       "      <th>39568</th>\n",
       "      <td>075679872340 683904634870 602577047480 8143370...</td>\n",
       "      <td>84</td>\n",
       "      <td>84</td>\n",
       "      <td>84</td>\n",
       "      <td>84</td>\n",
       "      <td>84</td>\n",
       "      <td>int</td>\n",
       "      <td>Product_stats.csv</td>\n",
       "      <td>gtin12Product</td>\n",
       "    </tr>\n",
       "    <tr>\n",
       "      <th>39569</th>\n",
       "      <td>715191088859 728614687812 615293798352 7151910...</td>\n",
       "      <td>84</td>\n",
       "      <td>190</td>\n",
       "      <td>84</td>\n",
       "      <td>84</td>\n",
       "      <td>84</td>\n",
       "      <td>int</td>\n",
       "      <td>Product_stats.csv</td>\n",
       "      <td>gtin12Product</td>\n",
       "    </tr>\n",
       "    <tr>\n",
       "      <th>39570</th>\n",
       "      <td>8600053193 0 8600053193 0 8600053193 0 860005...</td>\n",
       "      <td>84</td>\n",
       "      <td>127</td>\n",
       "      <td>87</td>\n",
       "      <td>190</td>\n",
       "      <td>85</td>\n",
       "      <td>int</td>\n",
       "      <td>Product_stats.csv</td>\n",
       "      <td>gtin12Product</td>\n",
       "    </tr>\n",
       "    <tr>\n",
       "      <th>39571</th>\n",
       "      <td>653341867094 0 870964312347 0 22011663333 0 61...</td>\n",
       "      <td>84</td>\n",
       "      <td>85</td>\n",
       "      <td>84</td>\n",
       "      <td>84</td>\n",
       "      <td>84</td>\n",
       "      <td>int</td>\n",
       "      <td>Product_stats.csv</td>\n",
       "      <td>gtin12Product</td>\n",
       "    </tr>\n",
       "  </tbody>\n",
       "</table>\n",
       "<p>184 rows × 9 columns</p>\n",
       "</div>"
      ],
      "text/plain": [
       "                                                    text  label  \\\n",
       "39388   629269001179 0 629269000264 0 628055856535 0 ...     84   \n",
       "39389   831362001462 0 698231727393 0 90127685617 0 8...     84   \n",
       "39390  685349612338 0 685349604999 0 853017115768 0 6...     84   \n",
       "39391  735048124837 0 804763626459 0 48019200950 0 75...     84   \n",
       "39392  37733005156 0 37733007129 0 37733007723 0 3444...     84   \n",
       "...                                                  ...    ...   \n",
       "39567  811886011352 811886011338 811886011024 8118860...     84   \n",
       "39568  075679872340 683904634870 602577047480 8143370...     84   \n",
       "39569  715191088859 728614687812 615293798352 7151910...     84   \n",
       "39570   8600053193 0 8600053193 0 8600053193 0 860005...     84   \n",
       "39571  653341867094 0 870964312347 0 22011663333 0 61...     84   \n",
       "\n",
       "       tinybert_pred  roberta_pred  bert_pred  distilbert_pred data_type  \\\n",
       "39388             84            84         84               84       int   \n",
       "39389             85            85         85               85       int   \n",
       "39390             85            84         84               84       int   \n",
       "39391            127            85         85               85       int   \n",
       "39392             85            85         85               85       int   \n",
       "...              ...           ...        ...              ...       ...   \n",
       "39567             84            85         84               84       int   \n",
       "39568             84            84         84               84       int   \n",
       "39569            190            84         84               84       int   \n",
       "39570            127            87        190               85       int   \n",
       "39571             85            84         84               84       int   \n",
       "\n",
       "                filename          index  \n",
       "39388  Product_stats.csv  gtin12Product  \n",
       "39389  Product_stats.csv  gtin12Product  \n",
       "39390  Product_stats.csv  gtin12Product  \n",
       "39391  Product_stats.csv  gtin12Product  \n",
       "39392  Product_stats.csv  gtin12Product  \n",
       "...                  ...            ...  \n",
       "39567  Product_stats.csv  gtin12Product  \n",
       "39568  Product_stats.csv  gtin12Product  \n",
       "39569  Product_stats.csv  gtin12Product  \n",
       "39570  Product_stats.csv  gtin12Product  \n",
       "39571  Product_stats.csv  gtin12Product  \n",
       "\n",
       "[184 rows x 9 columns]"
      ]
     },
     "execution_count": 79,
     "metadata": {},
     "output_type": "execute_result"
    }
   ],
   "source": [
    "real_new[real_new['label']==84]"
   ]
  },
  {
   "cell_type": "code",
   "execution_count": 80,
   "id": "a5e4feed",
   "metadata": {},
   "outputs": [
    {
     "data": {
      "text/html": [
       "<div>\n",
       "<style scoped>\n",
       "    .dataframe tbody tr th:only-of-type {\n",
       "        vertical-align: middle;\n",
       "    }\n",
       "\n",
       "    .dataframe tbody tr th {\n",
       "        vertical-align: top;\n",
       "    }\n",
       "\n",
       "    .dataframe thead th {\n",
       "        text-align: right;\n",
       "    }\n",
       "</style>\n",
       "<table border=\"1\" class=\"dataframe\">\n",
       "  <thead>\n",
       "    <tr style=\"text-align: right;\">\n",
       "      <th></th>\n",
       "      <th>text</th>\n",
       "      <th>label</th>\n",
       "      <th>tinybert_pred</th>\n",
       "      <th>roberta_pred</th>\n",
       "      <th>bert_pred</th>\n",
       "      <th>distilbert_pred</th>\n",
       "      <th>data_type</th>\n",
       "      <th>filename</th>\n",
       "      <th>index</th>\n",
       "    </tr>\n",
       "  </thead>\n",
       "  <tbody>\n",
       "    <tr>\n",
       "      <th>43843</th>\n",
       "      <td>7321428469419 0 8032767441293 0 8032766030245...</td>\n",
       "      <td>85</td>\n",
       "      <td>85</td>\n",
       "      <td>85</td>\n",
       "      <td>85</td>\n",
       "      <td>85</td>\n",
       "      <td>int</td>\n",
       "      <td>Product_stats.csv</td>\n",
       "      <td>gtin13Product</td>\n",
       "    </tr>\n",
       "    <tr>\n",
       "      <th>43844</th>\n",
       "      <td>5400568165077 5400568164599 5400568169259 5400...</td>\n",
       "      <td>85</td>\n",
       "      <td>85</td>\n",
       "      <td>85</td>\n",
       "      <td>85</td>\n",
       "      <td>85</td>\n",
       "      <td>int</td>\n",
       "      <td>Product_stats.csv</td>\n",
       "      <td>gtin13Product</td>\n",
       "    </tr>\n",
       "    <tr>\n",
       "      <th>43845</th>\n",
       "      <td>5050293851815 605168520508 934048300108 93191...</td>\n",
       "      <td>85</td>\n",
       "      <td>127</td>\n",
       "      <td>85</td>\n",
       "      <td>85</td>\n",
       "      <td>84</td>\n",
       "      <td>int</td>\n",
       "      <td>Product_stats.csv</td>\n",
       "      <td>gtin13Product</td>\n",
       "    </tr>\n",
       "    <tr>\n",
       "      <th>43846</th>\n",
       "      <td>5021346418620 0 5021346407846 0 5021346392784...</td>\n",
       "      <td>85</td>\n",
       "      <td>85</td>\n",
       "      <td>85</td>\n",
       "      <td>85</td>\n",
       "      <td>85</td>\n",
       "      <td>int</td>\n",
       "      <td>Product_stats.csv</td>\n",
       "      <td>gtin13Product</td>\n",
       "    </tr>\n",
       "    <tr>\n",
       "      <th>43847</th>\n",
       "      <td>86428260332 0 84692204090 0 3760065138526 0 4...</td>\n",
       "      <td>85</td>\n",
       "      <td>85</td>\n",
       "      <td>85</td>\n",
       "      <td>85</td>\n",
       "      <td>85</td>\n",
       "      <td>int</td>\n",
       "      <td>Product_stats.csv</td>\n",
       "      <td>gtin13Product</td>\n",
       "    </tr>\n",
       "    <tr>\n",
       "      <th>...</th>\n",
       "      <td>...</td>\n",
       "      <td>...</td>\n",
       "      <td>...</td>\n",
       "      <td>...</td>\n",
       "      <td>...</td>\n",
       "      <td>...</td>\n",
       "      <td>...</td>\n",
       "      <td>...</td>\n",
       "      <td>...</td>\n",
       "    </tr>\n",
       "    <tr>\n",
       "      <th>44220</th>\n",
       "      <td>9354593061315 0 9354593140904 0 9354593105767 ...</td>\n",
       "      <td>85</td>\n",
       "      <td>85</td>\n",
       "      <td>85</td>\n",
       "      <td>85</td>\n",
       "      <td>85</td>\n",
       "      <td>int</td>\n",
       "      <td>Product_stats.csv</td>\n",
       "      <td>gtin13Product</td>\n",
       "    </tr>\n",
       "    <tr>\n",
       "      <th>44221</th>\n",
       "      <td>23114220003 0 5060472802439 0 5060475073713 0 ...</td>\n",
       "      <td>85</td>\n",
       "      <td>84</td>\n",
       "      <td>85</td>\n",
       "      <td>85</td>\n",
       "      <td>85</td>\n",
       "      <td>int</td>\n",
       "      <td>Product_stats.csv</td>\n",
       "      <td>gtin13Product</td>\n",
       "    </tr>\n",
       "    <tr>\n",
       "      <th>44222</th>\n",
       "      <td>7081477964067 0 7081477606370 0 7081443227127 ...</td>\n",
       "      <td>85</td>\n",
       "      <td>85</td>\n",
       "      <td>85</td>\n",
       "      <td>84</td>\n",
       "      <td>84</td>\n",
       "      <td>int</td>\n",
       "      <td>Product_stats.csv</td>\n",
       "      <td>gtin13Product</td>\n",
       "    </tr>\n",
       "    <tr>\n",
       "      <th>44223</th>\n",
       "      <td>3760271272212 3760271270553 3760271272700 3760...</td>\n",
       "      <td>85</td>\n",
       "      <td>85</td>\n",
       "      <td>85</td>\n",
       "      <td>85</td>\n",
       "      <td>85</td>\n",
       "      <td>int</td>\n",
       "      <td>Product_stats.csv</td>\n",
       "      <td>gtin13Product</td>\n",
       "    </tr>\n",
       "    <tr>\n",
       "      <th>44224</th>\n",
       "      <td>4313042590504 0 4313042595028 0 4313042595066 ...</td>\n",
       "      <td>85</td>\n",
       "      <td>191</td>\n",
       "      <td>85</td>\n",
       "      <td>85</td>\n",
       "      <td>85</td>\n",
       "      <td>int</td>\n",
       "      <td>Product_stats.csv</td>\n",
       "      <td>gtin13Product</td>\n",
       "    </tr>\n",
       "  </tbody>\n",
       "</table>\n",
       "<p>382 rows × 9 columns</p>\n",
       "</div>"
      ],
      "text/plain": [
       "                                                    text  label  \\\n",
       "43843   7321428469419 0 8032767441293 0 8032766030245...     85   \n",
       "43844  5400568165077 5400568164599 5400568169259 5400...     85   \n",
       "43845   5050293851815 605168520508 934048300108 93191...     85   \n",
       "43846   5021346418620 0 5021346407846 0 5021346392784...     85   \n",
       "43847   86428260332 0 84692204090 0 3760065138526 0 4...     85   \n",
       "...                                                  ...    ...   \n",
       "44220  9354593061315 0 9354593140904 0 9354593105767 ...     85   \n",
       "44221  23114220003 0 5060472802439 0 5060475073713 0 ...     85   \n",
       "44222  7081477964067 0 7081477606370 0 7081443227127 ...     85   \n",
       "44223  3760271272212 3760271270553 3760271272700 3760...     85   \n",
       "44224  4313042590504 0 4313042595028 0 4313042595066 ...     85   \n",
       "\n",
       "       tinybert_pred  roberta_pred  bert_pred  distilbert_pred data_type  \\\n",
       "43843             85            85         85               85       int   \n",
       "43844             85            85         85               85       int   \n",
       "43845            127            85         85               84       int   \n",
       "43846             85            85         85               85       int   \n",
       "43847             85            85         85               85       int   \n",
       "...              ...           ...        ...              ...       ...   \n",
       "44220             85            85         85               85       int   \n",
       "44221             84            85         85               85       int   \n",
       "44222             85            85         84               84       int   \n",
       "44223             85            85         85               85       int   \n",
       "44224            191            85         85               85       int   \n",
       "\n",
       "                filename          index  \n",
       "43843  Product_stats.csv  gtin13Product  \n",
       "43844  Product_stats.csv  gtin13Product  \n",
       "43845  Product_stats.csv  gtin13Product  \n",
       "43846  Product_stats.csv  gtin13Product  \n",
       "43847  Product_stats.csv  gtin13Product  \n",
       "...                  ...            ...  \n",
       "44220  Product_stats.csv  gtin13Product  \n",
       "44221  Product_stats.csv  gtin13Product  \n",
       "44222  Product_stats.csv  gtin13Product  \n",
       "44223  Product_stats.csv  gtin13Product  \n",
       "44224  Product_stats.csv  gtin13Product  \n",
       "\n",
       "[382 rows x 9 columns]"
      ]
     },
     "execution_count": 80,
     "metadata": {},
     "output_type": "execute_result"
    }
   ],
   "source": [
    "real_new[real_new['label']==85]"
   ]
  },
  {
   "cell_type": "code",
   "execution_count": 81,
   "id": "f28ad7ae",
   "metadata": {},
   "outputs": [],
   "source": [
    "# distinguish classes -> Hotel etc. \n",
    "# avrg f1 score per class -> comparable ?"
   ]
  },
  {
   "cell_type": "code",
   "execution_count": 82,
   "id": "2840027f",
   "metadata": {},
   "outputs": [
    {
     "data": {
      "text/plain": [
       "0        Event_stats.csv\n",
       "1        Event_stats.csv\n",
       "2        Event_stats.csv\n",
       "3        Event_stats.csv\n",
       "4        Event_stats.csv\n",
       "              ...       \n",
       "49599    Event_stats.csv\n",
       "49600    Event_stats.csv\n",
       "49601    Event_stats.csv\n",
       "49602    Event_stats.csv\n",
       "49603    Event_stats.csv\n",
       "Name: filename, Length: 49604, dtype: object"
      ]
     },
     "execution_count": 82,
     "metadata": {},
     "output_type": "execute_result"
    }
   ],
   "source": [
    "real_new.filename"
   ]
  },
  {
   "cell_type": "code",
   "execution_count": 83,
   "id": "ad98add5",
   "metadata": {},
   "outputs": [],
   "source": [
    "products = real_new[real_new['filename']=='Product_stats.csv']"
   ]
  },
  {
   "cell_type": "code",
   "execution_count": 84,
   "id": "1e2a5718",
   "metadata": {},
   "outputs": [
    {
     "data": {
      "text/plain": [
       "0.8125679968667043"
      ]
     },
     "execution_count": 84,
     "metadata": {},
     "output_type": "execute_result"
    }
   ],
   "source": [
    "f1_score(products.label, products.tinybert_pred, average='micro')"
   ]
  },
  {
   "cell_type": "code",
   "execution_count": 85,
   "id": "28bb731d",
   "metadata": {},
   "outputs": [
    {
     "data": {
      "text/plain": [
       "0.8576961573610689"
      ]
     },
     "execution_count": 85,
     "metadata": {},
     "output_type": "execute_result"
    }
   ],
   "source": [
    "f1_score(products.label, products.roberta_pred, average='micro')"
   ]
  },
  {
   "cell_type": "code",
   "execution_count": 86,
   "id": "64824466",
   "metadata": {},
   "outputs": [
    {
     "data": {
      "text/plain": [
       "0.857870229339832"
      ]
     },
     "execution_count": 86,
     "metadata": {},
     "output_type": "execute_result"
    }
   ],
   "source": [
    "f1_score(products.label, products.bert_pred, average='micro')"
   ]
  },
  {
   "cell_type": "code",
   "execution_count": 87,
   "id": "f9f02a6b",
   "metadata": {},
   "outputs": [
    {
     "data": {
      "text/plain": [
       "0.8582618912920492"
      ]
     },
     "execution_count": 87,
     "metadata": {},
     "output_type": "execute_result"
    }
   ],
   "source": [
    "f1_score(products.label, products.distilbert_pred, average='micro')"
   ]
  },
  {
   "cell_type": "code",
   "execution_count": 88,
   "id": "900b8941",
   "metadata": {},
   "outputs": [],
   "source": [
    "recipe = real_new[real_new['filename']=='Recipe_stats.csv']\n",
    "creativework = real_new[real_new['filename']=='CreativeWork_stats.csv']\n",
    "event = real_new[real_new['filename']=='Event_stats.csv']\n",
    "musicrecording = real_new[real_new['filename']=='MusicRecording_stats.csv']\n",
    "localbusiness = real_new[real_new['filename']=='LocalBusiness_stats.csv']\n",
    "person = real_new[real_new['filename']=='Person_stats.csv']\n",
    "hotel = real_new[real_new['filename']=='Hotel_stats.csv']\n",
    "book = real_new[real_new['filename']=='Book_stats.csv']\n",
    "place = real_new[real_new['filename']=='Place_stats.csv']\n",
    "restaurant = real_new[real_new['filename']=='Restaurant_stats.csv']\n",
    "musicalbum = real_new[real_new['filename']=='MusicAlbum_stats.csv']\n",
    "tvepisode = real_new[real_new['filename']=='TVEpisode_stats.csv']"
   ]
  },
  {
   "cell_type": "code",
   "execution_count": 89,
   "id": "c6096e18",
   "metadata": {},
   "outputs": [
    {
     "data": {
      "text/plain": [
       "0.8155910543130992"
      ]
     },
     "execution_count": 89,
     "metadata": {},
     "output_type": "execute_result"
    }
   ],
   "source": [
    "f1_score(recipe.label, recipe.tinybert_pred, average='micro')"
   ]
  },
  {
   "cell_type": "code",
   "execution_count": 90,
   "id": "39eaf66b",
   "metadata": {},
   "outputs": [
    {
     "data": {
      "text/plain": [
       "0.8518849840255591"
      ]
     },
     "execution_count": 90,
     "metadata": {},
     "output_type": "execute_result"
    }
   ],
   "source": [
    "f1_score(recipe.label, recipe.roberta_pred, average='micro')"
   ]
  },
  {
   "cell_type": "code",
   "execution_count": 91,
   "id": "488f3b34",
   "metadata": {},
   "outputs": [
    {
     "data": {
      "text/plain": [
       "0.8479233226837061"
      ]
     },
     "execution_count": 91,
     "metadata": {},
     "output_type": "execute_result"
    }
   ],
   "source": [
    "f1_score(recipe.label, recipe.bert_pred, average='micro')"
   ]
  },
  {
   "cell_type": "code",
   "execution_count": 92,
   "id": "a0e74ae2",
   "metadata": {},
   "outputs": [
    {
     "data": {
      "text/plain": [
       "0.8506070287539936"
      ]
     },
     "execution_count": 92,
     "metadata": {},
     "output_type": "execute_result"
    }
   ],
   "source": [
    "f1_score(recipe.label, recipe.distilbert_pred, average='micro')"
   ]
  },
  {
   "cell_type": "code",
   "execution_count": 66,
   "id": "473622a4",
   "metadata": {},
   "outputs": [
    {
     "data": {
      "text/plain": [
       "0.40106266031513377"
      ]
     },
     "execution_count": 66,
     "metadata": {},
     "output_type": "execute_result"
    }
   ],
   "source": [
    "f1_score(creativework.label, creativework.tinybert_pred, average='micro')"
   ]
  },
  {
   "cell_type": "code",
   "execution_count": 93,
   "id": "c1db69c4",
   "metadata": {},
   "outputs": [
    {
     "data": {
      "text/plain": [
       "0.4301942103334555"
      ]
     },
     "execution_count": 93,
     "metadata": {},
     "output_type": "execute_result"
    }
   ],
   "source": [
    "f1_score(creativework.label, creativework.roberta_pred, average='micro')"
   ]
  },
  {
   "cell_type": "code",
   "execution_count": 94,
   "id": "2eb7283b",
   "metadata": {},
   "outputs": [
    {
     "data": {
      "text/plain": [
       "0.4115060461707586"
      ]
     },
     "execution_count": 94,
     "metadata": {},
     "output_type": "execute_result"
    }
   ],
   "source": [
    "f1_score(creativework.label, creativework.bert_pred, average='micro')"
   ]
  },
  {
   "cell_type": "code",
   "execution_count": 95,
   "id": "e5e8dbfc",
   "metadata": {},
   "outputs": [
    {
     "data": {
      "text/plain": [
       "0.41791865152070357"
      ]
     },
     "execution_count": 95,
     "metadata": {},
     "output_type": "execute_result"
    }
   ],
   "source": [
    "f1_score(creativework.label, creativework.distilbert_pred, average='micro')"
   ]
  },
  {
   "cell_type": "code",
   "execution_count": null,
   "id": "9350d255",
   "metadata": {},
   "outputs": [],
   "source": []
  },
  {
   "cell_type": "code",
   "execution_count": 99,
   "id": "8cf8a95e",
   "metadata": {},
   "outputs": [
    {
     "data": {
      "text/plain": [
       "0.870832239432922"
      ]
     },
     "execution_count": 99,
     "metadata": {},
     "output_type": "execute_result"
    }
   ],
   "source": [
    "f1_score(event.label, event.tinybert_pred, average='micro')"
   ]
  },
  {
   "cell_type": "code",
   "execution_count": 96,
   "id": "ca48196e",
   "metadata": {},
   "outputs": [
    {
     "data": {
      "text/plain": [
       "0.9104751903386715"
      ]
     },
     "execution_count": 96,
     "metadata": {},
     "output_type": "execute_result"
    }
   ],
   "source": [
    "f1_score(event.label, event.roberta_pred, average='micro')"
   ]
  },
  {
   "cell_type": "code",
   "execution_count": 97,
   "id": "f83e08c8",
   "metadata": {},
   "outputs": [
    {
     "data": {
      "text/plain": [
       "0.917038592806511"
      ]
     },
     "execution_count": 97,
     "metadata": {},
     "output_type": "execute_result"
    }
   ],
   "source": [
    "f1_score(event.label, event.bert_pred, average='micro')"
   ]
  },
  {
   "cell_type": "code",
   "execution_count": 98,
   "id": "5a136609",
   "metadata": {},
   "outputs": [
    {
     "data": {
      "text/plain": [
       "0.910212654239958"
      ]
     },
     "execution_count": 98,
     "metadata": {},
     "output_type": "execute_result"
    }
   ],
   "source": [
    "f1_score(event.label, event.distilbert_pred, average='micro')"
   ]
  },
  {
   "cell_type": "code",
   "execution_count": null,
   "id": "8fa0b8d9",
   "metadata": {},
   "outputs": [],
   "source": []
  },
  {
   "cell_type": "code",
   "execution_count": 68,
   "id": "0f67b3c9",
   "metadata": {},
   "outputs": [
    {
     "data": {
      "text/plain": [
       "0.8800863131935882"
      ]
     },
     "execution_count": 68,
     "metadata": {},
     "output_type": "execute_result"
    }
   ],
   "source": [
    "f1_score(musicrecording.label, musicrecording.tinybert_pred, average='micro')\n"
   ]
  },
  {
   "cell_type": "code",
   "execution_count": 100,
   "id": "ac80b7eb",
   "metadata": {},
   "outputs": [
    {
     "data": {
      "text/plain": [
       "0.9318742293464858"
      ]
     },
     "execution_count": 100,
     "metadata": {},
     "output_type": "execute_result"
    }
   ],
   "source": [
    "f1_score(musicrecording.label, musicrecording.roberta_pred, average='micro')\n"
   ]
  },
  {
   "cell_type": "code",
   "execution_count": 101,
   "id": "70de78cf",
   "metadata": {},
   "outputs": [
    {
     "data": {
      "text/plain": [
       "0.9294081381011098"
      ]
     },
     "execution_count": 101,
     "metadata": {},
     "output_type": "execute_result"
    }
   ],
   "source": [
    "f1_score(musicrecording.label, musicrecording.bert_pred, average='micro')\n"
   ]
  },
  {
   "cell_type": "code",
   "execution_count": 102,
   "id": "ac1d3015",
   "metadata": {},
   "outputs": [
    {
     "data": {
      "text/plain": [
       "0.9269420468557337"
      ]
     },
     "execution_count": 102,
     "metadata": {},
     "output_type": "execute_result"
    }
   ],
   "source": [
    "f1_score(musicrecording.label, musicrecording.distilbert_pred, average='micro')\n"
   ]
  },
  {
   "cell_type": "code",
   "execution_count": null,
   "id": "f7626a2a",
   "metadata": {},
   "outputs": [],
   "source": []
  },
  {
   "cell_type": "code",
   "execution_count": 69,
   "id": "c43d340e",
   "metadata": {},
   "outputs": [
    {
     "data": {
      "text/plain": [
       "0.6602764155149353"
      ]
     },
     "execution_count": 69,
     "metadata": {},
     "output_type": "execute_result"
    }
   ],
   "source": [
    "f1_score(localbusiness.label, localbusiness.tinybert_pred, average='micro')\n"
   ]
  },
  {
   "cell_type": "code",
   "execution_count": 104,
   "id": "dc432337",
   "metadata": {},
   "outputs": [
    {
     "data": {
      "text/plain": [
       "0.7806509139545253"
      ]
     },
     "execution_count": 104,
     "metadata": {},
     "output_type": "execute_result"
    }
   ],
   "source": [
    "f1_score(localbusiness.label, localbusiness.roberta_pred, average='micro')\n"
   ]
  },
  {
   "cell_type": "code",
   "execution_count": 105,
   "id": "4f49b774",
   "metadata": {},
   "outputs": [
    {
     "data": {
      "text/plain": [
       "0.7940258582255907"
      ]
     },
     "execution_count": 105,
     "metadata": {},
     "output_type": "execute_result"
    }
   ],
   "source": [
    "f1_score(localbusiness.label, localbusiness.bert_pred, average='micro')\n"
   ]
  },
  {
   "cell_type": "code",
   "execution_count": 106,
   "id": "712735a3",
   "metadata": {},
   "outputs": [
    {
     "data": {
      "text/plain": [
       "0.7837717342844405"
      ]
     },
     "execution_count": 106,
     "metadata": {},
     "output_type": "execute_result"
    }
   ],
   "source": [
    "f1_score(localbusiness.label, localbusiness.distilbert_pred, average='micro')\n"
   ]
  },
  {
   "cell_type": "code",
   "execution_count": null,
   "id": "7fde6b5b",
   "metadata": {},
   "outputs": [],
   "source": []
  },
  {
   "cell_type": "code",
   "execution_count": 70,
   "id": "d9660afe",
   "metadata": {},
   "outputs": [
    {
     "data": {
      "text/plain": [
       "0.8201107011070111"
      ]
     },
     "execution_count": 70,
     "metadata": {},
     "output_type": "execute_result"
    }
   ],
   "source": [
    "f1_score(person.label, person.tinybert_pred, average='micro')\n"
   ]
  },
  {
   "cell_type": "code",
   "execution_count": 107,
   "id": "b4b18268",
   "metadata": {},
   "outputs": [
    {
     "data": {
      "text/plain": [
       "0.8404059040590407"
      ]
     },
     "execution_count": 107,
     "metadata": {},
     "output_type": "execute_result"
    }
   ],
   "source": [
    "f1_score(person.label, person.roberta_pred, average='micro')\n"
   ]
  },
  {
   "cell_type": "code",
   "execution_count": 108,
   "id": "97fc52ce",
   "metadata": {},
   "outputs": [
    {
     "data": {
      "text/plain": [
       "0.8477859778597786"
      ]
     },
     "execution_count": 108,
     "metadata": {},
     "output_type": "execute_result"
    }
   ],
   "source": [
    "f1_score(person.label, person.bert_pred, average='micro')\n"
   ]
  },
  {
   "cell_type": "code",
   "execution_count": 109,
   "id": "be22d5d7",
   "metadata": {},
   "outputs": [
    {
     "data": {
      "text/plain": [
       "0.8380996309963099"
      ]
     },
     "execution_count": 109,
     "metadata": {},
     "output_type": "execute_result"
    }
   ],
   "source": [
    "f1_score(person.label, person.distilbert_pred, average='micro')\n"
   ]
  },
  {
   "cell_type": "code",
   "execution_count": null,
   "id": "a6f8ac67",
   "metadata": {},
   "outputs": [],
   "source": []
  },
  {
   "cell_type": "code",
   "execution_count": 71,
   "id": "98cb14e9",
   "metadata": {},
   "outputs": [
    {
     "data": {
      "text/plain": [
       "0.5170340681362725"
      ]
     },
     "execution_count": 71,
     "metadata": {},
     "output_type": "execute_result"
    }
   ],
   "source": [
    "f1_score(hotel.label, hotel.tinybert_pred, average='micro')\n"
   ]
  },
  {
   "cell_type": "code",
   "execution_count": 110,
   "id": "c78c7a33",
   "metadata": {},
   "outputs": [
    {
     "data": {
      "text/plain": [
       "0.5290581162324649"
      ]
     },
     "execution_count": 110,
     "metadata": {},
     "output_type": "execute_result"
    }
   ],
   "source": [
    "f1_score(hotel.label, hotel.roberta_pred, average='micro')\n"
   ]
  },
  {
   "cell_type": "code",
   "execution_count": 111,
   "id": "7be16cea",
   "metadata": {},
   "outputs": [
    {
     "data": {
      "text/plain": [
       "0.531062124248497"
      ]
     },
     "execution_count": 111,
     "metadata": {},
     "output_type": "execute_result"
    }
   ],
   "source": [
    "f1_score(hotel.label, hotel.bert_pred, average='micro')\n"
   ]
  },
  {
   "cell_type": "code",
   "execution_count": 112,
   "id": "068d4aac",
   "metadata": {},
   "outputs": [
    {
     "data": {
      "text/plain": [
       "0.5370741482965932"
      ]
     },
     "execution_count": 112,
     "metadata": {},
     "output_type": "execute_result"
    }
   ],
   "source": [
    "f1_score(hotel.label, hotel.distilbert_pred, average='micro')\n"
   ]
  },
  {
   "cell_type": "code",
   "execution_count": null,
   "id": "a9fd965b",
   "metadata": {},
   "outputs": [],
   "source": []
  },
  {
   "cell_type": "code",
   "execution_count": 72,
   "id": "17de4c5a",
   "metadata": {},
   "outputs": [
    {
     "data": {
      "text/plain": [
       "0.6572769953051644"
      ]
     },
     "execution_count": 72,
     "metadata": {},
     "output_type": "execute_result"
    }
   ],
   "source": [
    "f1_score(book.label, book.tinybert_pred, average='micro')\n"
   ]
  },
  {
   "cell_type": "code",
   "execution_count": 113,
   "id": "d033e57b",
   "metadata": {},
   "outputs": [
    {
     "data": {
      "text/plain": [
       "0.7300469483568076"
      ]
     },
     "execution_count": 113,
     "metadata": {},
     "output_type": "execute_result"
    }
   ],
   "source": [
    "f1_score(book.label, book.roberta_pred, average='micro')\n"
   ]
  },
  {
   "cell_type": "code",
   "execution_count": 114,
   "id": "e045d746",
   "metadata": {},
   "outputs": [
    {
     "data": {
      "text/plain": [
       "0.7230046948356808"
      ]
     },
     "execution_count": 114,
     "metadata": {},
     "output_type": "execute_result"
    }
   ],
   "source": [
    "f1_score(book.label, book.bert_pred, average='micro')\n"
   ]
  },
  {
   "cell_type": "code",
   "execution_count": 115,
   "id": "61e0358c",
   "metadata": {},
   "outputs": [
    {
     "data": {
      "text/plain": [
       "0.7065727699530516"
      ]
     },
     "execution_count": 115,
     "metadata": {},
     "output_type": "execute_result"
    }
   ],
   "source": [
    "f1_score(book.label, book.distilbert_pred, average='micro')\n"
   ]
  },
  {
   "cell_type": "code",
   "execution_count": null,
   "id": "b22e16fe",
   "metadata": {},
   "outputs": [],
   "source": []
  },
  {
   "cell_type": "code",
   "execution_count": 73,
   "id": "c692ab00",
   "metadata": {},
   "outputs": [
    {
     "data": {
      "text/plain": [
       "0.5318627450980392"
      ]
     },
     "execution_count": 73,
     "metadata": {},
     "output_type": "execute_result"
    }
   ],
   "source": [
    "f1_score(place.label, place.tinybert_pred, average='micro')\n"
   ]
  },
  {
   "cell_type": "code",
   "execution_count": 116,
   "id": "39ad5c49",
   "metadata": {},
   "outputs": [
    {
     "data": {
      "text/plain": [
       "0.5882352941176471"
      ]
     },
     "execution_count": 116,
     "metadata": {},
     "output_type": "execute_result"
    }
   ],
   "source": [
    "f1_score(place.label, place.roberta_pred, average='micro')\n"
   ]
  },
  {
   "cell_type": "code",
   "execution_count": 117,
   "id": "6eaa35ba",
   "metadata": {},
   "outputs": [
    {
     "data": {
      "text/plain": [
       "0.5906862745098039"
      ]
     },
     "execution_count": 117,
     "metadata": {},
     "output_type": "execute_result"
    }
   ],
   "source": [
    "f1_score(place.label, place.bert_pred, average='micro')\n"
   ]
  },
  {
   "cell_type": "code",
   "execution_count": 118,
   "id": "1c8d8dc1",
   "metadata": {},
   "outputs": [
    {
     "data": {
      "text/plain": [
       "0.625"
      ]
     },
     "execution_count": 118,
     "metadata": {},
     "output_type": "execute_result"
    }
   ],
   "source": [
    "f1_score(place.label, place.distilbert_pred, average='micro')\n"
   ]
  },
  {
   "cell_type": "code",
   "execution_count": null,
   "id": "c58c322f",
   "metadata": {},
   "outputs": [],
   "source": []
  },
  {
   "cell_type": "code",
   "execution_count": null,
   "id": "2af3013a",
   "metadata": {},
   "outputs": [],
   "source": []
  },
  {
   "cell_type": "code",
   "execution_count": 74,
   "id": "d96f285e",
   "metadata": {},
   "outputs": [
    {
     "data": {
      "text/plain": [
       "0.37362637362637363"
      ]
     },
     "execution_count": 74,
     "metadata": {},
     "output_type": "execute_result"
    }
   ],
   "source": [
    "f1_score(restaurant.label, restaurant.tinybert_pred, average='micro')"
   ]
  },
  {
   "cell_type": "code",
   "execution_count": 119,
   "id": "f14ee8d3",
   "metadata": {},
   "outputs": [
    {
     "data": {
      "text/plain": [
       "0.31868131868131866"
      ]
     },
     "execution_count": 119,
     "metadata": {},
     "output_type": "execute_result"
    }
   ],
   "source": [
    "f1_score(restaurant.label, restaurant.roberta_pred, average='micro')"
   ]
  },
  {
   "cell_type": "code",
   "execution_count": 120,
   "id": "1b713846",
   "metadata": {},
   "outputs": [
    {
     "data": {
      "text/plain": [
       "0.2857142857142857"
      ]
     },
     "execution_count": 120,
     "metadata": {},
     "output_type": "execute_result"
    }
   ],
   "source": [
    "f1_score(restaurant.label, restaurant.bert_pred, average='micro')"
   ]
  },
  {
   "cell_type": "code",
   "execution_count": 121,
   "id": "187eb823",
   "metadata": {},
   "outputs": [
    {
     "data": {
      "text/plain": [
       "0.3598901098901099"
      ]
     },
     "execution_count": 121,
     "metadata": {},
     "output_type": "execute_result"
    }
   ],
   "source": [
    "f1_score(restaurant.label, restaurant.distilbert_pred, average='micro')"
   ]
  },
  {
   "cell_type": "code",
   "execution_count": null,
   "id": "fa222ca5",
   "metadata": {},
   "outputs": [],
   "source": []
  },
  {
   "cell_type": "code",
   "execution_count": 75,
   "id": "e19e55cb",
   "metadata": {},
   "outputs": [
    {
     "data": {
      "text/plain": [
       "0.49107142857142855"
      ]
     },
     "execution_count": 75,
     "metadata": {},
     "output_type": "execute_result"
    }
   ],
   "source": [
    "f1_score(musicalbum.label, musicalbum.tinybert_pred, average='micro')"
   ]
  },
  {
   "cell_type": "code",
   "execution_count": 122,
   "id": "1b2711f4",
   "metadata": {},
   "outputs": [
    {
     "data": {
      "text/plain": [
       "0.5625"
      ]
     },
     "execution_count": 122,
     "metadata": {},
     "output_type": "execute_result"
    }
   ],
   "source": [
    "f1_score(musicalbum.label, musicalbum.roberta_pred, average='micro')"
   ]
  },
  {
   "cell_type": "code",
   "execution_count": 123,
   "id": "9b271a18",
   "metadata": {},
   "outputs": [
    {
     "data": {
      "text/plain": [
       "0.5625"
      ]
     },
     "execution_count": 123,
     "metadata": {},
     "output_type": "execute_result"
    }
   ],
   "source": [
    "f1_score(musicalbum.label, musicalbum.bert_pred, average='micro')"
   ]
  },
  {
   "cell_type": "code",
   "execution_count": 124,
   "id": "3c0349be",
   "metadata": {},
   "outputs": [
    {
     "data": {
      "text/plain": [
       "0.5803571428571429"
      ]
     },
     "execution_count": 124,
     "metadata": {},
     "output_type": "execute_result"
    }
   ],
   "source": [
    "f1_score(musicalbum.label, musicalbum.distilbert_pred, average='micro')"
   ]
  },
  {
   "cell_type": "code",
   "execution_count": null,
   "id": "9facb3d4",
   "metadata": {},
   "outputs": [],
   "source": []
  },
  {
   "cell_type": "code",
   "execution_count": 126,
   "id": "c800fd07",
   "metadata": {},
   "outputs": [
    {
     "data": {
      "text/plain": [
       "0.6086956521739131"
      ]
     },
     "execution_count": 126,
     "metadata": {},
     "output_type": "execute_result"
    }
   ],
   "source": [
    "f1_score(tvepisode.label, tvepisode.tinybert_pred, average='micro')"
   ]
  },
  {
   "cell_type": "code",
   "execution_count": 127,
   "id": "7df27a9f",
   "metadata": {},
   "outputs": [
    {
     "data": {
      "text/plain": [
       "0.7536231884057971"
      ]
     },
     "execution_count": 127,
     "metadata": {},
     "output_type": "execute_result"
    }
   ],
   "source": [
    "f1_score(tvepisode.label, tvepisode.roberta_pred, average='micro')"
   ]
  },
  {
   "cell_type": "code",
   "execution_count": 128,
   "id": "c7c41adf",
   "metadata": {},
   "outputs": [
    {
     "data": {
      "text/plain": [
       "0.7391304347826085"
      ]
     },
     "execution_count": 128,
     "metadata": {},
     "output_type": "execute_result"
    }
   ],
   "source": [
    "f1_score(tvepisode.label, tvepisode.bert_pred, average='micro')"
   ]
  },
  {
   "cell_type": "code",
   "execution_count": 129,
   "id": "c0665a0b",
   "metadata": {},
   "outputs": [
    {
     "data": {
      "text/plain": [
       "0.7391304347826085"
      ]
     },
     "execution_count": 129,
     "metadata": {},
     "output_type": "execute_result"
    }
   ],
   "source": [
    "f1_score(tvepisode.label, tvepisode.distilbert_pred, average='micro')"
   ]
  },
  {
   "cell_type": "code",
   "execution_count": null,
   "id": "dd3e7027",
   "metadata": {},
   "outputs": [],
   "source": []
  },
  {
   "cell_type": "code",
   "execution_count": null,
   "id": "53b88293",
   "metadata": {},
   "outputs": [],
   "source": []
  }
 ],
 "metadata": {
  "kernelspec": {
   "display_name": "Python 3 (ipykernel)",
   "language": "python",
   "name": "python3"
  },
  "language_info": {
   "codemirror_mode": {
    "name": "ipython",
    "version": 3
   },
   "file_extension": ".py",
   "mimetype": "text/x-python",
   "name": "python",
   "nbconvert_exporter": "python",
   "pygments_lexer": "ipython3",
   "version": "3.8.8"
  }
 },
 "nbformat": 4,
 "nbformat_minor": 5
}
