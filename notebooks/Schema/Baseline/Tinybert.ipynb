{
 "cells": [
  {
   "cell_type": "code",
   "execution_count": 1,
   "id": "72a6ca3f",
   "metadata": {},
   "outputs": [
    {
     "name": "stdout",
     "output_type": "stream",
     "text": [
      "Requirement already satisfied: simpletransformers in /home/bizer-tp2021/anaconda3/lib/python3.8/site-packages (0.63.3)\n",
      "Requirement already satisfied: tensorboard in /home/bizer-tp2021/anaconda3/lib/python3.8/site-packages (from simpletransformers) (2.7.0)\n",
      "Requirement already satisfied: scipy in /home/bizer-tp2021/anaconda3/lib/python3.8/site-packages (from simpletransformers) (1.7.2)\n",
      "Requirement already satisfied: requests in /home/bizer-tp2021/anaconda3/lib/python3.8/site-packages (from simpletransformers) (2.25.1)\n",
      "Requirement already satisfied: numpy in /home/bizer-tp2021/anaconda3/lib/python3.8/site-packages (from simpletransformers) (1.21.4)\n",
      "Requirement already satisfied: scikit-learn in /home/bizer-tp2021/anaconda3/lib/python3.8/site-packages (from simpletransformers) (0.24.1)\n",
      "Requirement already satisfied: streamlit in /home/bizer-tp2021/anaconda3/lib/python3.8/site-packages (from simpletransformers) (1.2.0)\n",
      "Requirement already satisfied: tqdm>=4.47.0 in /home/bizer-tp2021/anaconda3/lib/python3.8/site-packages (from simpletransformers) (4.62.3)\n",
      "Requirement already satisfied: wandb>=0.10.32 in /home/bizer-tp2021/anaconda3/lib/python3.8/site-packages (from simpletransformers) (0.12.6)\n",
      "Requirement already satisfied: pandas in /home/bizer-tp2021/anaconda3/lib/python3.8/site-packages (from simpletransformers) (1.2.4)\n",
      "Requirement already satisfied: sentencepiece in /home/bizer-tp2021/anaconda3/lib/python3.8/site-packages (from simpletransformers) (0.1.91)\n",
      "Requirement already satisfied: regex in /home/bizer-tp2021/anaconda3/lib/python3.8/site-packages (from simpletransformers) (2021.4.4)\n",
      "Requirement already satisfied: seqeval in /home/bizer-tp2021/anaconda3/lib/python3.8/site-packages (from simpletransformers) (1.2.2)\n",
      "Requirement already satisfied: transformers>=4.6.0 in /home/bizer-tp2021/anaconda3/lib/python3.8/site-packages (from simpletransformers) (4.12.3)\n",
      "Requirement already satisfied: datasets in /home/bizer-tp2021/anaconda3/lib/python3.8/site-packages (from simpletransformers) (1.15.1)\n",
      "Requirement already satisfied: tokenizers in /home/bizer-tp2021/anaconda3/lib/python3.8/site-packages (from simpletransformers) (0.10.3)\n",
      "Requirement already satisfied: huggingface-hub<1.0,>=0.1.0 in /home/bizer-tp2021/anaconda3/lib/python3.8/site-packages (from transformers>=4.6.0->simpletransformers) (0.1.2)\n",
      "Requirement already satisfied: pyyaml>=5.1 in /home/bizer-tp2021/anaconda3/lib/python3.8/site-packages (from transformers>=4.6.0->simpletransformers) (5.4.1)\n",
      "Requirement already satisfied: filelock in /home/bizer-tp2021/anaconda3/lib/python3.8/site-packages (from transformers>=4.6.0->simpletransformers) (3.3.2)\n",
      "Requirement already satisfied: packaging>=20.0 in /home/bizer-tp2021/anaconda3/lib/python3.8/site-packages (from transformers>=4.6.0->simpletransformers) (20.9)\n",
      "Requirement already satisfied: sacremoses in /home/bizer-tp2021/anaconda3/lib/python3.8/site-packages (from transformers>=4.6.0->simpletransformers) (0.0.46)\n",
      "Requirement already satisfied: typing-extensions>=3.7.4.3 in /home/bizer-tp2021/anaconda3/lib/python3.8/site-packages (from huggingface-hub<1.0,>=0.1.0->transformers>=4.6.0->simpletransformers) (3.7.4.3)\n",
      "Requirement already satisfied: pyparsing>=2.0.2 in /home/bizer-tp2021/anaconda3/lib/python3.8/site-packages (from packaging>=20.0->transformers>=4.6.0->simpletransformers) (2.4.7)\n",
      "Requirement already satisfied: python-dateutil>=2.6.1 in /home/bizer-tp2021/anaconda3/lib/python3.8/site-packages (from wandb>=0.10.32->simpletransformers) (2.8.1)\n",
      "Requirement already satisfied: promise<3,>=2.0 in /home/bizer-tp2021/anaconda3/lib/python3.8/site-packages (from wandb>=0.10.32->simpletransformers) (2.3)\n",
      "Requirement already satisfied: docker-pycreds>=0.4.0 in /home/bizer-tp2021/anaconda3/lib/python3.8/site-packages (from wandb>=0.10.32->simpletransformers) (0.4.0)\n",
      "Requirement already satisfied: sentry-sdk>=1.0.0 in /home/bizer-tp2021/anaconda3/lib/python3.8/site-packages (from wandb>=0.10.32->simpletransformers) (1.4.3)\n",
      "Requirement already satisfied: subprocess32>=3.5.3 in /home/bizer-tp2021/anaconda3/lib/python3.8/site-packages (from wandb>=0.10.32->simpletransformers) (3.5.4)\n",
      "Requirement already satisfied: configparser>=3.8.1 in /home/bizer-tp2021/anaconda3/lib/python3.8/site-packages (from wandb>=0.10.32->simpletransformers) (5.1.0)\n",
      "Requirement already satisfied: six>=1.13.0 in /home/bizer-tp2021/anaconda3/lib/python3.8/site-packages (from wandb>=0.10.32->simpletransformers) (1.15.0)\n",
      "Requirement already satisfied: Click!=8.0.0,>=7.0 in /home/bizer-tp2021/anaconda3/lib/python3.8/site-packages (from wandb>=0.10.32->simpletransformers) (7.1.2)\n",
      "Requirement already satisfied: yaspin>=1.0.0 in /home/bizer-tp2021/anaconda3/lib/python3.8/site-packages (from wandb>=0.10.32->simpletransformers) (2.1.0)\n",
      "Requirement already satisfied: psutil>=5.0.0 in /home/bizer-tp2021/anaconda3/lib/python3.8/site-packages (from wandb>=0.10.32->simpletransformers) (5.8.0)\n",
      "Requirement already satisfied: protobuf>=3.12.0 in /home/bizer-tp2021/anaconda3/lib/python3.8/site-packages (from wandb>=0.10.32->simpletransformers) (3.19.1)\n",
      "Requirement already satisfied: pathtools in /home/bizer-tp2021/anaconda3/lib/python3.8/site-packages (from wandb>=0.10.32->simpletransformers) (0.1.2)\n",
      "Requirement already satisfied: GitPython>=1.0.0 in /home/bizer-tp2021/anaconda3/lib/python3.8/site-packages (from wandb>=0.10.32->simpletransformers) (3.1.24)\n",
      "Requirement already satisfied: shortuuid>=0.5.0 in /home/bizer-tp2021/anaconda3/lib/python3.8/site-packages (from wandb>=0.10.32->simpletransformers) (1.0.8)\n",
      "Requirement already satisfied: gitdb<5,>=4.0.1 in /home/bizer-tp2021/anaconda3/lib/python3.8/site-packages (from GitPython>=1.0.0->wandb>=0.10.32->simpletransformers) (4.0.9)\n",
      "Requirement already satisfied: smmap<6,>=3.0.1 in /home/bizer-tp2021/anaconda3/lib/python3.8/site-packages (from gitdb<5,>=4.0.1->GitPython>=1.0.0->wandb>=0.10.32->simpletransformers) (5.0.0)\n",
      "Requirement already satisfied: urllib3<1.27,>=1.21.1 in /home/bizer-tp2021/anaconda3/lib/python3.8/site-packages (from requests->simpletransformers) (1.26.4)\n",
      "Requirement already satisfied: chardet<5,>=3.0.2 in /home/bizer-tp2021/anaconda3/lib/python3.8/site-packages (from requests->simpletransformers) (4.0.0)\n",
      "Requirement already satisfied: idna<3,>=2.5 in /home/bizer-tp2021/anaconda3/lib/python3.8/site-packages (from requests->simpletransformers) (2.10)\n",
      "Requirement already satisfied: certifi>=2017.4.17 in /home/bizer-tp2021/anaconda3/lib/python3.8/site-packages (from requests->simpletransformers) (2021.10.8)\n",
      "Requirement already satisfied: termcolor<2.0.0,>=1.1.0 in /home/bizer-tp2021/anaconda3/lib/python3.8/site-packages (from yaspin>=1.0.0->wandb>=0.10.32->simpletransformers) (1.1.0)\n",
      "Requirement already satisfied: fsspec[http]>=2021.05.0 in /home/bizer-tp2021/anaconda3/lib/python3.8/site-packages (from datasets->simpletransformers) (2021.11.0)\n",
      "Requirement already satisfied: dill in /home/bizer-tp2021/anaconda3/lib/python3.8/site-packages (from datasets->simpletransformers) (0.3.4)\n",
      "Requirement already satisfied: aiohttp in /home/bizer-tp2021/anaconda3/lib/python3.8/site-packages (from datasets->simpletransformers) (3.8.1)\n",
      "Requirement already satisfied: multiprocess in /home/bizer-tp2021/anaconda3/lib/python3.8/site-packages (from datasets->simpletransformers) (0.70.12.2)\n",
      "Requirement already satisfied: pyarrow!=4.0.0,>=1.0.0 in /home/bizer-tp2021/anaconda3/lib/python3.8/site-packages (from datasets->simpletransformers) (6.0.0)\n",
      "Requirement already satisfied: xxhash in /home/bizer-tp2021/anaconda3/lib/python3.8/site-packages (from datasets->simpletransformers) (2.0.2)\n",
      "Requirement already satisfied: charset-normalizer<3.0,>=2.0 in /home/bizer-tp2021/anaconda3/lib/python3.8/site-packages (from aiohttp->datasets->simpletransformers) (2.0.7)\n",
      "Requirement already satisfied: aiosignal>=1.1.2 in /home/bizer-tp2021/anaconda3/lib/python3.8/site-packages (from aiohttp->datasets->simpletransformers) (1.2.0)\n",
      "Requirement already satisfied: attrs>=17.3.0 in /home/bizer-tp2021/anaconda3/lib/python3.8/site-packages (from aiohttp->datasets->simpletransformers) (20.3.0)\n",
      "Requirement already satisfied: yarl<2.0,>=1.0 in /home/bizer-tp2021/anaconda3/lib/python3.8/site-packages (from aiohttp->datasets->simpletransformers) (1.7.2)\n",
      "Requirement already satisfied: async-timeout<5.0,>=4.0.0a3 in /home/bizer-tp2021/anaconda3/lib/python3.8/site-packages (from aiohttp->datasets->simpletransformers) (4.0.1)\n",
      "Requirement already satisfied: frozenlist>=1.1.1 in /home/bizer-tp2021/anaconda3/lib/python3.8/site-packages (from aiohttp->datasets->simpletransformers) (1.2.0)\n",
      "Requirement already satisfied: multidict<7.0,>=4.5 in /home/bizer-tp2021/anaconda3/lib/python3.8/site-packages (from aiohttp->datasets->simpletransformers) (5.2.0)\n"
     ]
    },
    {
     "name": "stdout",
     "output_type": "stream",
     "text": [
      "Requirement already satisfied: pytz>=2017.3 in /home/bizer-tp2021/anaconda3/lib/python3.8/site-packages (from pandas->simpletransformers) (2021.1)\n",
      "Requirement already satisfied: joblib in /home/bizer-tp2021/anaconda3/lib/python3.8/site-packages (from sacremoses->transformers>=4.6.0->simpletransformers) (1.0.1)\n",
      "Requirement already satisfied: threadpoolctl>=2.0.0 in /home/bizer-tp2021/anaconda3/lib/python3.8/site-packages (from scikit-learn->simpletransformers) (2.1.0)\n",
      "Requirement already satisfied: toml in /home/bizer-tp2021/anaconda3/lib/python3.8/site-packages (from streamlit->simpletransformers) (0.10.2)\n",
      "Requirement already satisfied: blinker in /home/bizer-tp2021/anaconda3/lib/python3.8/site-packages (from streamlit->simpletransformers) (1.4)\n",
      "Requirement already satisfied: altair>=3.2.0 in /home/bizer-tp2021/anaconda3/lib/python3.8/site-packages (from streamlit->simpletransformers) (4.1.0)\n",
      "Requirement already satisfied: pydeck>=0.1.dev5 in /home/bizer-tp2021/anaconda3/lib/python3.8/site-packages (from streamlit->simpletransformers) (0.7.1)\n",
      "Requirement already satisfied: validators in /home/bizer-tp2021/anaconda3/lib/python3.8/site-packages (from streamlit->simpletransformers) (0.18.2)\n",
      "Requirement already satisfied: tornado>=5.0 in /home/bizer-tp2021/anaconda3/lib/python3.8/site-packages (from streamlit->simpletransformers) (6.1)\n",
      "Requirement already satisfied: tzlocal in /home/bizer-tp2021/anaconda3/lib/python3.8/site-packages (from streamlit->simpletransformers) (4.1)\n",
      "Requirement already satisfied: pympler>=0.9 in /home/bizer-tp2021/anaconda3/lib/python3.8/site-packages (from streamlit->simpletransformers) (0.9)\n",
      "Requirement already satisfied: cachetools>=4.0 in /home/bizer-tp2021/anaconda3/lib/python3.8/site-packages (from streamlit->simpletransformers) (4.2.4)\n",
      "Requirement already satisfied: watchdog in /home/bizer-tp2021/anaconda3/lib/python3.8/site-packages (from streamlit->simpletransformers) (1.0.2)\n",
      "Requirement already satisfied: astor in /home/bizer-tp2021/anaconda3/lib/python3.8/site-packages (from streamlit->simpletransformers) (0.8.1)\n",
      "Requirement already satisfied: pillow>=6.2.0 in /home/bizer-tp2021/anaconda3/lib/python3.8/site-packages (from streamlit->simpletransformers) (8.2.0)\n",
      "Requirement already satisfied: base58 in /home/bizer-tp2021/anaconda3/lib/python3.8/site-packages (from streamlit->simpletransformers) (2.1.1)\n",
      "Requirement already satisfied: entrypoints in /home/bizer-tp2021/anaconda3/lib/python3.8/site-packages (from altair>=3.2.0->streamlit->simpletransformers) (0.3)\n",
      "Requirement already satisfied: toolz in /home/bizer-tp2021/anaconda3/lib/python3.8/site-packages (from altair>=3.2.0->streamlit->simpletransformers) (0.11.1)\n",
      "Requirement already satisfied: jsonschema in /home/bizer-tp2021/anaconda3/lib/python3.8/site-packages (from altair>=3.2.0->streamlit->simpletransformers) (3.2.0)\n",
      "Requirement already satisfied: jinja2 in /home/bizer-tp2021/anaconda3/lib/python3.8/site-packages (from altair>=3.2.0->streamlit->simpletransformers) (2.11.3)\n",
      "Requirement already satisfied: ipywidgets>=7.0.0 in /home/bizer-tp2021/anaconda3/lib/python3.8/site-packages (from pydeck>=0.1.dev5->streamlit->simpletransformers) (7.6.3)\n",
      "Requirement already satisfied: ipykernel>=5.1.2 in /home/bizer-tp2021/anaconda3/lib/python3.8/site-packages (from pydeck>=0.1.dev5->streamlit->simpletransformers) (6.5.1)\n",
      "Requirement already satisfied: traitlets>=4.3.2 in /home/bizer-tp2021/anaconda3/lib/python3.8/site-packages (from pydeck>=0.1.dev5->streamlit->simpletransformers) (5.1.1)\n",
      "Requirement already satisfied: debugpy<2.0,>=1.0.0 in /home/bizer-tp2021/anaconda3/lib/python3.8/site-packages (from ipykernel>=5.1.2->pydeck>=0.1.dev5->streamlit->simpletransformers) (1.5.1)\n",
      "Requirement already satisfied: jupyter-client<8.0 in /home/bizer-tp2021/anaconda3/lib/python3.8/site-packages (from ipykernel>=5.1.2->pydeck>=0.1.dev5->streamlit->simpletransformers) (6.1.12)\n",
      "Requirement already satisfied: matplotlib-inline<0.2.0,>=0.1.0 in /home/bizer-tp2021/anaconda3/lib/python3.8/site-packages (from ipykernel>=5.1.2->pydeck>=0.1.dev5->streamlit->simpletransformers) (0.1.3)\n",
      "Requirement already satisfied: ipython>=7.23.1 in /home/bizer-tp2021/anaconda3/lib/python3.8/site-packages (from ipykernel>=5.1.2->pydeck>=0.1.dev5->streamlit->simpletransformers) (7.29.0)\n",
      "Requirement already satisfied: decorator in /home/bizer-tp2021/anaconda3/lib/python3.8/site-packages (from ipython>=7.23.1->ipykernel>=5.1.2->pydeck>=0.1.dev5->streamlit->simpletransformers) (5.0.6)\n",
      "Requirement already satisfied: prompt-toolkit!=3.0.0,!=3.0.1,<3.1.0,>=2.0.0 in /home/bizer-tp2021/anaconda3/lib/python3.8/site-packages (from ipython>=7.23.1->ipykernel>=5.1.2->pydeck>=0.1.dev5->streamlit->simpletransformers) (3.0.17)\n",
      "Requirement already satisfied: setuptools>=18.5 in /home/bizer-tp2021/anaconda3/lib/python3.8/site-packages (from ipython>=7.23.1->ipykernel>=5.1.2->pydeck>=0.1.dev5->streamlit->simpletransformers) (52.0.0.post20210125)\n",
      "Requirement already satisfied: pickleshare in /home/bizer-tp2021/anaconda3/lib/python3.8/site-packages (from ipython>=7.23.1->ipykernel>=5.1.2->pydeck>=0.1.dev5->streamlit->simpletransformers) (0.7.5)\n",
      "Requirement already satisfied: pexpect>4.3 in /home/bizer-tp2021/anaconda3/lib/python3.8/site-packages (from ipython>=7.23.1->ipykernel>=5.1.2->pydeck>=0.1.dev5->streamlit->simpletransformers) (4.8.0)\n",
      "Requirement already satisfied: backcall in /home/bizer-tp2021/anaconda3/lib/python3.8/site-packages (from ipython>=7.23.1->ipykernel>=5.1.2->pydeck>=0.1.dev5->streamlit->simpletransformers) (0.2.0)\n",
      "Requirement already satisfied: pygments in /home/bizer-tp2021/anaconda3/lib/python3.8/site-packages (from ipython>=7.23.1->ipykernel>=5.1.2->pydeck>=0.1.dev5->streamlit->simpletransformers) (2.8.1)\n",
      "Requirement already satisfied: jedi>=0.16 in /home/bizer-tp2021/anaconda3/lib/python3.8/site-packages (from ipython>=7.23.1->ipykernel>=5.1.2->pydeck>=0.1.dev5->streamlit->simpletransformers) (0.17.2)\n",
      "Requirement already satisfied: nbformat>=4.2.0 in /home/bizer-tp2021/anaconda3/lib/python3.8/site-packages (from ipywidgets>=7.0.0->pydeck>=0.1.dev5->streamlit->simpletransformers) (5.1.3)\n",
      "Requirement already satisfied: jupyterlab-widgets>=1.0.0 in /home/bizer-tp2021/anaconda3/lib/python3.8/site-packages (from ipywidgets>=7.0.0->pydeck>=0.1.dev5->streamlit->simpletransformers) (1.0.0)\n",
      "Requirement already satisfied: widgetsnbextension~=3.5.0 in /home/bizer-tp2021/anaconda3/lib/python3.8/site-packages (from ipywidgets>=7.0.0->pydeck>=0.1.dev5->streamlit->simpletransformers) (3.5.1)\n",
      "Requirement already satisfied: parso<0.8.0,>=0.7.0 in /home/bizer-tp2021/anaconda3/lib/python3.8/site-packages (from jedi>=0.16->ipython>=7.23.1->ipykernel>=5.1.2->pydeck>=0.1.dev5->streamlit->simpletransformers) (0.7.0)\n",
      "Requirement already satisfied: MarkupSafe>=0.23 in /home/bizer-tp2021/anaconda3/lib/python3.8/site-packages (from jinja2->altair>=3.2.0->streamlit->simpletransformers) (1.1.1)\n",
      "Requirement already satisfied: jupyter-core>=4.6.0 in /home/bizer-tp2021/anaconda3/lib/python3.8/site-packages (from jupyter-client<8.0->ipykernel>=5.1.2->pydeck>=0.1.dev5->streamlit->simpletransformers) (4.7.1)\n",
      "Requirement already satisfied: pyzmq>=13 in /home/bizer-tp2021/anaconda3/lib/python3.8/site-packages (from jupyter-client<8.0->ipykernel>=5.1.2->pydeck>=0.1.dev5->streamlit->simpletransformers) (20.0.0)\n",
      "Requirement already satisfied: ipython-genutils in /home/bizer-tp2021/anaconda3/lib/python3.8/site-packages (from nbformat>=4.2.0->ipywidgets>=7.0.0->pydeck>=0.1.dev5->streamlit->simpletransformers) (0.2.0)\n",
      "Requirement already satisfied: pyrsistent>=0.14.0 in /home/bizer-tp2021/anaconda3/lib/python3.8/site-packages (from jsonschema->altair>=3.2.0->streamlit->simpletransformers) (0.17.3)\n",
      "Requirement already satisfied: ptyprocess>=0.5 in /home/bizer-tp2021/anaconda3/lib/python3.8/site-packages (from pexpect>4.3->ipython>=7.23.1->ipykernel>=5.1.2->pydeck>=0.1.dev5->streamlit->simpletransformers) (0.7.0)\n",
      "Requirement already satisfied: wcwidth in /home/bizer-tp2021/anaconda3/lib/python3.8/site-packages (from prompt-toolkit!=3.0.0,!=3.0.1,<3.1.0,>=2.0.0->ipython>=7.23.1->ipykernel>=5.1.2->pydeck>=0.1.dev5->streamlit->simpletransformers) (0.2.5)\n"
     ]
    },
    {
     "name": "stdout",
     "output_type": "stream",
     "text": [
      "Requirement already satisfied: notebook>=4.4.1 in /home/bizer-tp2021/anaconda3/lib/python3.8/site-packages (from widgetsnbextension~=3.5.0->ipywidgets>=7.0.0->pydeck>=0.1.dev5->streamlit->simpletransformers) (6.3.0)\n",
      "Requirement already satisfied: terminado>=0.8.3 in /home/bizer-tp2021/anaconda3/lib/python3.8/site-packages (from notebook>=4.4.1->widgetsnbextension~=3.5.0->ipywidgets>=7.0.0->pydeck>=0.1.dev5->streamlit->simpletransformers) (0.9.4)\n",
      "Requirement already satisfied: argon2-cffi in /home/bizer-tp2021/anaconda3/lib/python3.8/site-packages (from notebook>=4.4.1->widgetsnbextension~=3.5.0->ipywidgets>=7.0.0->pydeck>=0.1.dev5->streamlit->simpletransformers) (20.1.0)\n",
      "Requirement already satisfied: Send2Trash>=1.5.0 in /home/bizer-tp2021/anaconda3/lib/python3.8/site-packages (from notebook>=4.4.1->widgetsnbextension~=3.5.0->ipywidgets>=7.0.0->pydeck>=0.1.dev5->streamlit->simpletransformers) (1.5.0)\n",
      "Requirement already satisfied: prometheus-client in /home/bizer-tp2021/anaconda3/lib/python3.8/site-packages (from notebook>=4.4.1->widgetsnbextension~=3.5.0->ipywidgets>=7.0.0->pydeck>=0.1.dev5->streamlit->simpletransformers) (0.10.1)\n",
      "Requirement already satisfied: nbconvert in /home/bizer-tp2021/anaconda3/lib/python3.8/site-packages (from notebook>=4.4.1->widgetsnbextension~=3.5.0->ipywidgets>=7.0.0->pydeck>=0.1.dev5->streamlit->simpletransformers) (6.0.7)\n",
      "Requirement already satisfied: cffi>=1.0.0 in /home/bizer-tp2021/anaconda3/lib/python3.8/site-packages (from argon2-cffi->notebook>=4.4.1->widgetsnbextension~=3.5.0->ipywidgets>=7.0.0->pydeck>=0.1.dev5->streamlit->simpletransformers) (1.14.5)\n",
      "Requirement already satisfied: pycparser in /home/bizer-tp2021/anaconda3/lib/python3.8/site-packages (from cffi>=1.0.0->argon2-cffi->notebook>=4.4.1->widgetsnbextension~=3.5.0->ipywidgets>=7.0.0->pydeck>=0.1.dev5->streamlit->simpletransformers) (2.20)\n",
      "Requirement already satisfied: bleach in /home/bizer-tp2021/anaconda3/lib/python3.8/site-packages (from nbconvert->notebook>=4.4.1->widgetsnbextension~=3.5.0->ipywidgets>=7.0.0->pydeck>=0.1.dev5->streamlit->simpletransformers) (3.3.0)\n",
      "Requirement already satisfied: defusedxml in /home/bizer-tp2021/anaconda3/lib/python3.8/site-packages (from nbconvert->notebook>=4.4.1->widgetsnbextension~=3.5.0->ipywidgets>=7.0.0->pydeck>=0.1.dev5->streamlit->simpletransformers) (0.7.1)\n",
      "Requirement already satisfied: jupyterlab-pygments in /home/bizer-tp2021/anaconda3/lib/python3.8/site-packages (from nbconvert->notebook>=4.4.1->widgetsnbextension~=3.5.0->ipywidgets>=7.0.0->pydeck>=0.1.dev5->streamlit->simpletransformers) (0.1.2)\n",
      "Requirement already satisfied: testpath in /home/bizer-tp2021/anaconda3/lib/python3.8/site-packages (from nbconvert->notebook>=4.4.1->widgetsnbextension~=3.5.0->ipywidgets>=7.0.0->pydeck>=0.1.dev5->streamlit->simpletransformers) (0.4.4)\n",
      "Requirement already satisfied: nbclient<0.6.0,>=0.5.0 in /home/bizer-tp2021/anaconda3/lib/python3.8/site-packages (from nbconvert->notebook>=4.4.1->widgetsnbextension~=3.5.0->ipywidgets>=7.0.0->pydeck>=0.1.dev5->streamlit->simpletransformers) (0.5.3)\n",
      "Requirement already satisfied: mistune<2,>=0.8.1 in /home/bizer-tp2021/anaconda3/lib/python3.8/site-packages (from nbconvert->notebook>=4.4.1->widgetsnbextension~=3.5.0->ipywidgets>=7.0.0->pydeck>=0.1.dev5->streamlit->simpletransformers) (0.8.4)\n",
      "Requirement already satisfied: pandocfilters>=1.4.1 in /home/bizer-tp2021/anaconda3/lib/python3.8/site-packages (from nbconvert->notebook>=4.4.1->widgetsnbextension~=3.5.0->ipywidgets>=7.0.0->pydeck>=0.1.dev5->streamlit->simpletransformers) (1.4.3)\n",
      "Requirement already satisfied: nest-asyncio in /home/bizer-tp2021/anaconda3/lib/python3.8/site-packages (from nbclient<0.6.0,>=0.5.0->nbconvert->notebook>=4.4.1->widgetsnbextension~=3.5.0->ipywidgets>=7.0.0->pydeck>=0.1.dev5->streamlit->simpletransformers) (1.5.1)\n",
      "Requirement already satisfied: async-generator in /home/bizer-tp2021/anaconda3/lib/python3.8/site-packages (from nbclient<0.6.0,>=0.5.0->nbconvert->notebook>=4.4.1->widgetsnbextension~=3.5.0->ipywidgets>=7.0.0->pydeck>=0.1.dev5->streamlit->simpletransformers) (1.10)\n",
      "Requirement already satisfied: webencodings in /home/bizer-tp2021/anaconda3/lib/python3.8/site-packages (from bleach->nbconvert->notebook>=4.4.1->widgetsnbextension~=3.5.0->ipywidgets>=7.0.0->pydeck>=0.1.dev5->streamlit->simpletransformers) (0.5.1)\n",
      "Requirement already satisfied: google-auth<3,>=1.6.3 in /home/bizer-tp2021/anaconda3/lib/python3.8/site-packages (from tensorboard->simpletransformers) (2.3.3)\n",
      "Requirement already satisfied: markdown>=2.6.8 in /home/bizer-tp2021/anaconda3/lib/python3.8/site-packages (from tensorboard->simpletransformers) (3.3.5)\n",
      "Requirement already satisfied: grpcio>=1.24.3 in /home/bizer-tp2021/anaconda3/lib/python3.8/site-packages (from tensorboard->simpletransformers) (1.41.1)\n",
      "Requirement already satisfied: absl-py>=0.4 in /home/bizer-tp2021/anaconda3/lib/python3.8/site-packages (from tensorboard->simpletransformers) (1.0.0)\n",
      "Requirement already satisfied: wheel>=0.26 in /home/bizer-tp2021/anaconda3/lib/python3.8/site-packages (from tensorboard->simpletransformers) (0.36.2)\n",
      "Requirement already satisfied: werkzeug>=0.11.15 in /home/bizer-tp2021/anaconda3/lib/python3.8/site-packages (from tensorboard->simpletransformers) (1.0.1)\n",
      "Requirement already satisfied: google-auth-oauthlib<0.5,>=0.4.1 in /home/bizer-tp2021/anaconda3/lib/python3.8/site-packages (from tensorboard->simpletransformers) (0.4.6)\n",
      "Requirement already satisfied: tensorboard-plugin-wit>=1.6.0 in /home/bizer-tp2021/anaconda3/lib/python3.8/site-packages (from tensorboard->simpletransformers) (1.8.0)\n",
      "Requirement already satisfied: tensorboard-data-server<0.7.0,>=0.6.0 in /home/bizer-tp2021/anaconda3/lib/python3.8/site-packages (from tensorboard->simpletransformers) (0.6.1)\n",
      "Requirement already satisfied: pyasn1-modules>=0.2.1 in /home/bizer-tp2021/anaconda3/lib/python3.8/site-packages (from google-auth<3,>=1.6.3->tensorboard->simpletransformers) (0.2.8)\n",
      "Requirement already satisfied: rsa<5,>=3.1.4 in /home/bizer-tp2021/anaconda3/lib/python3.8/site-packages (from google-auth<3,>=1.6.3->tensorboard->simpletransformers) (4.7.2)\n",
      "Requirement already satisfied: requests-oauthlib>=0.7.0 in /home/bizer-tp2021/anaconda3/lib/python3.8/site-packages (from google-auth-oauthlib<0.5,>=0.4.1->tensorboard->simpletransformers) (1.3.0)\n",
      "Requirement already satisfied: importlib-metadata>='4.4' in /home/bizer-tp2021/anaconda3/lib/python3.8/site-packages (from markdown>=2.6.8->tensorboard->simpletransformers) (3.10.0)\n",
      "Requirement already satisfied: zipp>=0.5 in /home/bizer-tp2021/anaconda3/lib/python3.8/site-packages (from importlib-metadata>='4.4'->markdown>=2.6.8->tensorboard->simpletransformers) (3.4.1)\n",
      "Requirement already satisfied: pyasn1<0.5.0,>=0.4.6 in /home/bizer-tp2021/anaconda3/lib/python3.8/site-packages (from pyasn1-modules>=0.2.1->google-auth<3,>=1.6.3->tensorboard->simpletransformers) (0.4.8)\n",
      "Requirement already satisfied: oauthlib>=3.0.0 in /home/bizer-tp2021/anaconda3/lib/python3.8/site-packages (from requests-oauthlib>=0.7.0->google-auth-oauthlib<0.5,>=0.4.1->tensorboard->simpletransformers) (3.1.1)\n",
      "Requirement already satisfied: backports.zoneinfo in /home/bizer-tp2021/anaconda3/lib/python3.8/site-packages (from tzlocal->streamlit->simpletransformers) (0.2.1)\n",
      "Requirement already satisfied: pytz-deprecation-shim in /home/bizer-tp2021/anaconda3/lib/python3.8/site-packages (from tzlocal->streamlit->simpletransformers) (0.1.0.post0)\n",
      "Requirement already satisfied: tzdata in /home/bizer-tp2021/anaconda3/lib/python3.8/site-packages (from pytz-deprecation-shim->tzlocal->streamlit->simpletransformers) (2021.5)\n"
     ]
    }
   ],
   "source": [
    "!pip install simpletransformers"
   ]
  },
  {
   "cell_type": "code",
   "execution_count": 31,
   "id": "1dbe2c2e",
   "metadata": {},
   "outputs": [],
   "source": [
    "import pandas as pd\n",
    "import re\n",
    "import numpy as np\n",
    "import sklearn"
   ]
  },
  {
   "cell_type": "code",
   "execution_count": 41,
   "id": "b3484c49",
   "metadata": {},
   "outputs": [],
   "source": [
    "train = pd.read_csv('../../../src/data/schemafiltereddata/TrainTestTables/CSV/small_tables_seq.csv')\n",
    "test = pd.read_csv('../../../src/data/schemafiltereddata/TrainTestTables/test_tables_seq_9000.csv')"
   ]
  },
  {
   "cell_type": "code",
   "execution_count": 42,
   "id": "745d0d0d",
   "metadata": {},
   "outputs": [],
   "source": [
    "train[\"label_complete\"] = train[\"name\"] + train[\"class\"]\n",
    "test[\"label_complete\"] = test[\"name\"] + test[\"class\"]"
   ]
  },
  {
   "cell_type": "code",
   "execution_count": 43,
   "id": "c708f6e1",
   "metadata": {},
   "outputs": [
    {
     "data": {
      "text/plain": [
       "13236"
      ]
     },
     "execution_count": 43,
     "metadata": {},
     "output_type": "execute_result"
    }
   ],
   "source": [
    "train.shape[0]"
   ]
  },
  {
   "cell_type": "code",
   "execution_count": 48,
   "id": "b40a9dc3",
   "metadata": {},
   "outputs": [
    {
     "ename": "ValueError",
     "evalue": "operands could not be broadcast together with shapes (202,) (201,) ",
     "output_type": "error",
     "traceback": [
      "\u001b[0;31m---------------------------------------------------------------------------\u001b[0m",
      "\u001b[0;31mValueError\u001b[0m                                Traceback (most recent call last)",
      "\u001b[0;32m/tmp/ipykernel_1174321/4089021690.py\u001b[0m in \u001b[0;36m<module>\u001b[0;34m\u001b[0m\n\u001b[0;32m----> 1\u001b[0;31m \u001b[0mtest\u001b[0m\u001b[0;34m.\u001b[0m\u001b[0mlabel_complete\u001b[0m\u001b[0;34m.\u001b[0m\u001b[0munique\u001b[0m\u001b[0;34m(\u001b[0m\u001b[0;34m)\u001b[0m \u001b[0;34m-\u001b[0m \u001b[0mtrain\u001b[0m\u001b[0;34m.\u001b[0m\u001b[0mlabel_complete\u001b[0m\u001b[0;34m.\u001b[0m\u001b[0munique\u001b[0m\u001b[0;34m(\u001b[0m\u001b[0;34m)\u001b[0m\u001b[0;34m\u001b[0m\u001b[0;34m\u001b[0m\u001b[0m\n\u001b[0m",
      "\u001b[0;31mValueError\u001b[0m: operands could not be broadcast together with shapes (202,) (201,) "
     ]
    }
   ],
   "source": [
    "test.label_complete.unique() - train.label_complete.unique()"
   ]
  },
  {
   "cell_type": "code",
   "execution_count": 69,
   "id": "1a261d13",
   "metadata": {},
   "outputs": [
    {
     "data": {
      "text/plain": [
       "['mainentityofpagePerson']"
      ]
     },
     "execution_count": 69,
     "metadata": {},
     "output_type": "execute_result"
    }
   ],
   "source": [
    "\n",
    "list(set(list(test.label_complete.unique())) - set(list(train.label_complete.unique())))"
   ]
  },
  {
   "cell_type": "code",
   "execution_count": 68,
   "id": "20ce7fb6",
   "metadata": {},
   "outputs": [
    {
     "data": {
      "text/plain": [
       "202"
      ]
     },
     "execution_count": 68,
     "metadata": {},
     "output_type": "execute_result"
    }
   ],
   "source": [
    "len(test.label_complete.unique())"
   ]
  },
  {
   "cell_type": "code",
   "execution_count": null,
   "id": "f10ab759",
   "metadata": {},
   "outputs": [],
   "source": []
  },
  {
   "cell_type": "code",
   "execution_count": 73,
   "id": "4ee67f62",
   "metadata": {},
   "outputs": [],
   "source": [
    "test = test[test['label_complete']!='mainentityofpagePerson']\n"
   ]
  },
  {
   "cell_type": "code",
   "execution_count": 56,
   "id": "fb0a70a4",
   "metadata": {},
   "outputs": [],
   "source": [
    "train.drop(train[(train['name']=='inalbum') &(train['class']=='MusicRecording')].index, inplace=True)\n",
    "train.drop(train[(train['name']=='performer') &(train['class']=='Event')].index, inplace=True)\n",
    "train.drop(train[(train['name']=='eventattendancemode') &(train['class']=='Event')].index, inplace=True)\n",
    "train.drop(train[(train['name']=='eventstatus') &(train['class']=='Event')].index, inplace=True)"
   ]
  },
  {
   "cell_type": "code",
   "execution_count": 59,
   "id": "b2589eaa",
   "metadata": {},
   "outputs": [
    {
     "data": {
      "text/plain": [
       "(48535, 5)"
      ]
     },
     "execution_count": 59,
     "metadata": {},
     "output_type": "execute_result"
    }
   ],
   "source": [
    "test.drop(test[(test['name']=='inalbum') &(test['class']=='MusicRecording')].index, inplace=True)\n",
    "test.drop(test[(test['name']=='performer') &(test['class']=='Event')].index, inplace=True)\n",
    "test.drop(test[(test['name']=='eventattendancemode') &(test['class']=='Event')].index, inplace=True)\n",
    "test.drop(test[(test['name']=='eventstatus') &(test['class']=='Event')].index, inplace=True)\n",
    "test.drop(test[(test['name']=='mainentityofpagePerson') ].index, inplace=True)\n",
    "test.shape"
   ]
  },
  {
   "cell_type": "code",
   "execution_count": null,
   "id": "3f835992",
   "metadata": {},
   "outputs": [],
   "source": [
    "test.drop(test[(test['name']=='eventstatus') &(test['class']=='Event')].index, inplace=True)"
   ]
  },
  {
   "cell_type": "code",
   "execution_count": 60,
   "id": "98fdbc8c",
   "metadata": {},
   "outputs": [
    {
     "data": {
      "text/html": [
       "<div>\n",
       "<style scoped>\n",
       "    .dataframe tbody tr th:only-of-type {\n",
       "        vertical-align: middle;\n",
       "    }\n",
       "\n",
       "    .dataframe tbody tr th {\n",
       "        vertical-align: top;\n",
       "    }\n",
       "\n",
       "    .dataframe thead th {\n",
       "        text-align: right;\n",
       "    }\n",
       "</style>\n",
       "<table border=\"1\" class=\"dataframe\">\n",
       "  <thead>\n",
       "    <tr style=\"text-align: right;\">\n",
       "      <th></th>\n",
       "      <th>Unnamed: 0</th>\n",
       "      <th>text</th>\n",
       "      <th>name</th>\n",
       "      <th>class</th>\n",
       "      <th>label_complete</th>\n",
       "    </tr>\n",
       "  </thead>\n",
       "  <tbody>\n",
       "    <tr>\n",
       "      <th>0</th>\n",
       "      <td>0</td>\n",
       "      <td>Plauen | Indonesien Freiburg | Iraq-Kurdistan ...</td>\n",
       "      <td>name</td>\n",
       "      <td>Event</td>\n",
       "      <td>nameEvent</td>\n",
       "    </tr>\n",
       "    <tr>\n",
       "      <th>1</th>\n",
       "      <td>1</td>\n",
       "      <td>2022-03-27T16:30:00+01:00 2020-11-15T22:00:00+...</td>\n",
       "      <td>enddate</td>\n",
       "      <td>Event</td>\n",
       "      <td>enddateEvent</td>\n",
       "    </tr>\n",
       "    <tr>\n",
       "      <th>2</th>\n",
       "      <td>2</td>\n",
       "      <td>{'name': 'Abenteuer Arena'},{'name': 'Paulussa...</td>\n",
       "      <td>location</td>\n",
       "      <td>Event</td>\n",
       "      <td>locationEvent</td>\n",
       "    </tr>\n",
       "    <tr>\n",
       "      <th>3</th>\n",
       "      <td>3</td>\n",
       "      <td>{'name': 'Freiträumer Festival'},{'name': 'MUN...</td>\n",
       "      <td>organizer</td>\n",
       "      <td>Event</td>\n",
       "      <td>organizerEvent</td>\n",
       "    </tr>\n",
       "    <tr>\n",
       "      <th>4</th>\n",
       "      <td>4</td>\n",
       "      <td>Máy làm kem Sunny Way RB1119A TỦ MÁT 2 CÁNH KÍ...</td>\n",
       "      <td>name</td>\n",
       "      <td>Product</td>\n",
       "      <td>nameProduct</td>\n",
       "    </tr>\n",
       "  </tbody>\n",
       "</table>\n",
       "</div>"
      ],
      "text/plain": [
       "   Unnamed: 0                                               text       name  \\\n",
       "0           0  Plauen | Indonesien Freiburg | Iraq-Kurdistan ...       name   \n",
       "1           1  2022-03-27T16:30:00+01:00 2020-11-15T22:00:00+...    enddate   \n",
       "2           2  {'name': 'Abenteuer Arena'},{'name': 'Paulussa...   location   \n",
       "3           3  {'name': 'Freiträumer Festival'},{'name': 'MUN...  organizer   \n",
       "4           4  Máy làm kem Sunny Way RB1119A TỦ MÁT 2 CÁNH KÍ...       name   \n",
       "\n",
       "     class  label_complete  \n",
       "0    Event       nameEvent  \n",
       "1    Event    enddateEvent  \n",
       "2    Event   locationEvent  \n",
       "3    Event  organizerEvent  \n",
       "4  Product     nameProduct  "
      ]
     },
     "execution_count": 60,
     "metadata": {},
     "output_type": "execute_result"
    }
   ],
   "source": [
    "test.head()"
   ]
  },
  {
   "cell_type": "code",
   "execution_count": 61,
   "id": "b33d7bde",
   "metadata": {},
   "outputs": [],
   "source": [
    "train.drop(['Unnamed: 0', 'class'], axis=1, inplace=True)\n",
    "test.drop(['Unnamed: 0', 'class'], axis=1, inplace=True)"
   ]
  },
  {
   "cell_type": "code",
   "execution_count": 62,
   "id": "e219d837",
   "metadata": {},
   "outputs": [],
   "source": [
    "train['text'] = train.text.apply(lambda x: re.sub(\"[^0-9a-zA-Z-@]+\", \" \", x))\n",
    "test['text'] = test.text.apply(lambda x: re.sub(\"[^0-9a-zA-Z-@]+\", \" \", x))"
   ]
  },
  {
   "cell_type": "code",
   "execution_count": 74,
   "id": "b6546e4a",
   "metadata": {},
   "outputs": [
    {
     "data": {
      "text/plain": [
       "201"
      ]
     },
     "execution_count": 74,
     "metadata": {},
     "output_type": "execute_result"
    }
   ],
   "source": [
    "len(set(test.label_complete.unique()))"
   ]
  },
  {
   "cell_type": "code",
   "execution_count": 75,
   "id": "ddfc0973",
   "metadata": {},
   "outputs": [
    {
     "data": {
      "text/plain": [
       "201"
      ]
     },
     "execution_count": 75,
     "metadata": {},
     "output_type": "execute_result"
    }
   ],
   "source": [
    "len(set(train.label_complete.unique()))"
   ]
  },
  {
   "cell_type": "code",
   "execution_count": 76,
   "id": "3dc5cddb",
   "metadata": {},
   "outputs": [],
   "source": [
    "num_columns = len(set.union(set(test.label_complete.unique()), set(train.label_complete.unique())))"
   ]
  },
  {
   "cell_type": "code",
   "execution_count": 77,
   "id": "1d1d02a5",
   "metadata": {},
   "outputs": [
    {
     "data": {
      "text/plain": [
       "set()"
      ]
     },
     "execution_count": 77,
     "metadata": {},
     "output_type": "execute_result"
    }
   ],
   "source": [
    "set(test.label_complete.unique()).difference(set(train.label_complete.unique()))"
   ]
  },
  {
   "cell_type": "code",
   "execution_count": 80,
   "id": "fad6aebd",
   "metadata": {},
   "outputs": [],
   "source": [
    "labels_new = {'worstratingProduct': 0,\n",
    " 'acceptsreservationsRestaurant': 1,\n",
    " 'additionalnamePerson': 2,\n",
    " 'additionalpropertyProduct': 3,\n",
    " 'addressHotel': 4,\n",
    " 'addressLocalBusiness': 5,\n",
    " 'addressPerson': 6,\n",
    " 'addressProduct': 7,\n",
    " 'addressRestaurant': 8,\n",
    " 'addresslocalityLocalBusiness': 9,\n",
    " 'addressregionLocalBusiness': 10,\n",
    " 'affiliationPerson': 11,\n",
    " 'aggregateratingBook': 12,\n",
    " 'aggregateratingCreativeWork': 13,\n",
    " 'aggregateratingHotel': 14,\n",
    " 'aggregateratingLocalBusiness': 15,\n",
    " 'aggregateratingProduct': 16,\n",
    " 'aggregateratingRecipe': 17,\n",
    " 'aggregateratingRestaurant': 18,\n",
    " 'alternatenameProduct': 19,\n",
    " 'alternativeheadlineCreativeWork': 20,\n",
    " 'areaservedLocalBusiness': 21,\n",
    " 'articlebodyCreativeWork': 22,\n",
    " 'audienceProduct': 23,\n",
    " 'authorBook': 24,\n",
    " 'authorCreativeWork': 25,\n",
    " 'authorProduct': 26,\n",
    " 'authorRecipe': 27,\n",
    " 'availabilityProduct': 28,\n",
    " 'bestratingProduct': 29,\n",
    " 'birthdatePerson': 30,\n",
    " 'birthplacePerson': 31,\n",
    " 'bookeditionBook': 32,\n",
    " 'bookformatBook': 33,\n",
    " 'brandProduct': 34,\n",
    " 'breadcrumbProduct': 35,\n",
    " 'byartistMusicAlbum': 36,\n",
    " 'byartistMusicRecording': 37,\n",
    " 'categoryProduct': 38,\n",
    " 'citystatezipLocalBusiness': 39,\n",
    " 'colorProduct': 40,\n",
    " 'commentcountCreativeWork': 41,\n",
    " 'conditionProduct': 42,\n",
    " 'contactpointLocalBusiness': 43,\n",
    " 'contactpointPerson': 44,\n",
    " 'cookingmethodRecipe': 45,\n",
    " 'cooktimeRecipe': 46,\n",
    " 'copyrightholderCreativeWork': 47,\n",
    " 'copyrightyearCreativeWork': 48,\n",
    " 'creatorCreativeWork': 49,\n",
    " 'datecreatedCreativeWork': 50,\n",
    " 'datecreatedMusicRecording': 51,\n",
    " 'datemodifiedCreativeWork': 52,\n",
    " 'datemodifiedRecipe': 53,\n",
    " 'datepublishedBook': 54,\n",
    " 'datepublishedCreativeWork': 55,\n",
    " 'datepublishedMusicRecording': 56,\n",
    " 'datepublishedProduct': 57,\n",
    " 'datepublishedRecipe': 58,\n",
    " 'deathdatePerson': 59,\n",
    " 'depthProduct': 60,\n",
    " 'disambiguatingdescriptionProduct': 61,\n",
    " 'doortimeEvent': 62,\n",
    " 'durationEvent': 63,\n",
    " 'durationMusicRecording': 64,\n",
    " 'emailHotel': 65,\n",
    " 'emailLocalBusiness': 66,\n",
    " 'emailPerson': 67,\n",
    " 'enddateEvent': 68,\n",
    " 'episodenumberTVEpisode': 69,\n",
    " 'worksforPerson': 70,\n",
    " 'familynamePerson': 71,\n",
    " 'faxnumberLocalBusiness': 72,\n",
    " 'faxnumberPerson': 73,\n",
    " 'genderPerson': 74,\n",
    " 'genreBook': 75,\n",
    " 'genreCreativeWork': 76,\n",
    " 'genreMusicRecording': 77,\n",
    " 'geoHotel': 78,\n",
    " 'geoLocalBusiness': 79,\n",
    " 'geoPlace': 80,\n",
    " 'geoProduct': 81,\n",
    " 'geoRestaurant': 82,\n",
    " 'givennamePerson': 83,\n",
    " 'gtin12Product': 84,\n",
    " 'gtin13Product': 85,\n",
    " 'gtin14Product': 86,\n",
    " 'gtin8Product': 87,\n",
    " 'gtinProduct': 88,\n",
    " 'hasmapLocalBusiness': 89,\n",
    " 'hasmenuRestaurant': 90,\n",
    " 'headlineCreativeWork': 91,\n",
    " 'headlineRecipe': 92,\n",
    " 'heightPerson': 93,\n",
    " 'heightProduct': 94,\n",
    " 'homelocationPerson': 95,\n",
    " 'identifierProduct': 96,\n",
    " 'worklocationPerson': 97,\n",
    " 'ingredientsRecipe': 98,\n",
    " 'inlanguageBook': 99,\n",
    " 'inlanguageCreativeWork': 100,\n",
    " 'interactioncountCreativeWork': 101,\n",
    " 'interactionstatisticCreativeWork': 102,\n",
    " 'interactiontypeCreativeWork': 103,\n",
    " 'isbnBook': 104,\n",
    " 'ispartofRecipe': 105,\n",
    " 'isrelatedtoProduct': 106,\n",
    " 'issimilartoProduct': 107,\n",
    " 'itemconditionProduct': 108,\n",
    " 'itemlistelementProduct': 109,\n",
    " 'jobtitlePerson': 110,\n",
    " 'keywordsCreativeWork': 111,\n",
    " 'keywordsRecipe': 112,\n",
    " 'knowslanguagePerson': 113,\n",
    " 'legalnameLocalBusiness': 114,\n",
    " 'locationEvent': 115,\n",
    " 'locationLocalBusiness': 116,\n",
    " 'mainentityofpageCreativeWork': 117,\n",
    " 'founderLocalBusiness': 118,\n",
    " 'mainentityofpageProduct': 119,\n",
    " 'mainentityofpageRecipe': 120,\n",
    " 'makesofferPerson': 121,\n",
    " 'manufacturerProduct': 122,\n",
    " 'materialProduct': 123,\n",
    " 'memberofPerson': 124,\n",
    " 'menuRestaurant': 125,\n",
    " 'modelProduct': 126,\n",
    " 'mpnProduct': 127,\n",
    " 'nameBook': 128,\n",
    " 'nameCreativeWork': 129,\n",
    " 'nameEvent': 130,\n",
    " 'nameHotel': 131,\n",
    " 'nameLocalBusiness': 132,\n",
    " 'nameMusicAlbum': 133,\n",
    " 'nameMusicRecording': 134,\n",
    " 'namePlace': 135,\n",
    " 'nameProduct': 136,\n",
    " 'nameRecipe': 137,\n",
    " 'nameRestaurant': 138,\n",
    " 'nameTVEpisode': 139,\n",
    " 'nationalityPerson': 140,\n",
    " 'numberofpagesBook': 141,\n",
    " 'numtracksMusicAlbum': 142,\n",
    " 'nutritionRecipe': 143,\n",
    " 'weightProduct': 144,\n",
    " 'offersBook': 145,\n",
    " 'offersCreativeWork': 146,\n",
    " 'offersProduct': 147,\n",
    " 'openinghoursLocalBusiness': 148,\n",
    " 'openinghoursRestaurant': 149,\n",
    " 'openinghoursspecificationLocalBusiness': 150,\n",
    " 'openinghoursspecificationPlace': 151,\n",
    " 'openinghoursspecificationRestaurant': 152,\n",
    " 'organizerEvent': 153,\n",
    " 'partofseriesTVEpisode': 154,\n",
    " 'paymentacceptedLocalBusiness': 155,\n",
    " 'widthProduct': 156,\n",
    " 'performersEvent': 157,\n",
    " 'performtimeRecipe': 158,\n",
    " 'postalcodeLocalBusiness': 159,\n",
    " 'preptimeRecipe': 160,\n",
    " 'priceProduct': 161,\n",
    " 'pricecurrencyProduct': 162,\n",
    " 'pricerangeHotel': 163,\n",
    " 'pricerangeLocalBusiness': 164,\n",
    " 'pricerangeRestaurant': 165,\n",
    " 'publisherBook': 166,\n",
    " 'publisherCreativeWork': 167,\n",
    " 'publisherRecipe': 168,\n",
    " 'ratingvalueProduct': 169,\n",
    " 'recipecategoryRecipe': 170,\n",
    " 'recipecuisineRecipe': 171,\n",
    " 'recipeingredientRecipe': 172,\n",
    " 'recipeinstructionsRecipe': 173,\n",
    " 'recipeyieldRecipe': 174,\n",
    " 'releasedateProduct': 175,\n",
    " 'reviewLocalBusiness': 176,\n",
    " 'reviewProduct': 177,\n",
    " 'reviewRecipe': 178,\n",
    " 'reviewcountProduct': 179,\n",
    " 'reviewsProduct': 180,\n",
    " 'sameasLocalBusiness': 181,\n",
    " 'sameasPerson': 182,\n",
    " 'sameasPlace': 183,\n",
    " 'servescuisineRestaurant': 184,\n",
    " 'shop-currencyProduct': 185,\n",
    " 'starratingHotel': 186,\n",
    " 'streetaddressLocalBusiness': 187,\n",
    " 'suitablefordietRecipe': 188,\n",
    " 'telephoneHotel': 189,\n",
    " 'telephoneLocalBusiness': 190,\n",
    " 'telephonePerson': 191,\n",
    " 'telephonePlace': 192,\n",
    " 'telephoneRestaurant': 193,\n",
    " 'titleProduct': 194,\n",
    " 'totaltimeRecipe': 195,\n",
    " 'trackMusicAlbum': 196,\n",
    " 'typicalagerangeEvent': 197,\n",
    " 'versionCreativeWork': 198,\n",
    " 'weightPerson': 199,\n",
    " 'offerdetailsProduct': 200\n",
    " #'eventattendancemodeEvent': 201,\n",
    " #'performerEvent': 202,\n",
    " #'inalbumMusicRecording': 203,\n",
    " #'eventstatusEvent': 204,\n",
    " #'mainentityofpagePerson': 118,\n",
    " }"
   ]
  },
  {
   "cell_type": "code",
   "execution_count": 81,
   "id": "e91c52c6",
   "metadata": {},
   "outputs": [
    {
     "name": "stderr",
     "output_type": "stream",
     "text": [
      "/tmp/ipykernel_1174321/2948527013.py:2: SettingWithCopyWarning: \n",
      "A value is trying to be set on a copy of a slice from a DataFrame.\n",
      "Try using .loc[row_indexer,col_indexer] = value instead\n",
      "\n",
      "See the caveats in the documentation: https://pandas.pydata.org/pandas-docs/stable/user_guide/indexing.html#returning-a-view-versus-a-copy\n",
      "  test['label'] = test.label_complete.map(labels_new)\n",
      "/home/bizer-tp2021/anaconda3/lib/python3.8/site-packages/pandas/core/frame.py:4308: SettingWithCopyWarning: \n",
      "A value is trying to be set on a copy of a slice from a DataFrame\n",
      "\n",
      "See the caveats in the documentation: https://pandas.pydata.org/pandas-docs/stable/user_guide/indexing.html#returning-a-view-versus-a-copy\n",
      "  return super().drop(\n"
     ]
    }
   ],
   "source": [
    "train['label'] = train.label_complete.map(labels_new)\n",
    "test['label'] = test.label_complete.map(labels_new)\n",
    "train.drop(['label_complete', 'name'], axis=1, inplace=True)\n",
    "test.drop(['label_complete', 'name'], axis=1, inplace=True)"
   ]
  },
  {
   "cell_type": "code",
   "execution_count": 82,
   "id": "d77b9273",
   "metadata": {},
   "outputs": [
    {
     "data": {
      "text/plain": [
       "201"
      ]
     },
     "execution_count": 82,
     "metadata": {},
     "output_type": "execute_result"
    }
   ],
   "source": [
    "len(train.label.unique())"
   ]
  },
  {
   "cell_type": "code",
   "execution_count": 83,
   "id": "9b41bb57",
   "metadata": {},
   "outputs": [
    {
     "data": {
      "text/plain": [
       "201"
      ]
     },
     "execution_count": 83,
     "metadata": {},
     "output_type": "execute_result"
    }
   ],
   "source": [
    "len(test.label.unique())"
   ]
  },
  {
   "cell_type": "code",
   "execution_count": 84,
   "id": "53f33372",
   "metadata": {},
   "outputs": [
    {
     "data": {
      "text/plain": [
       "set()"
      ]
     },
     "execution_count": 84,
     "metadata": {},
     "output_type": "execute_result"
    }
   ],
   "source": [
    "set(test.label.unique()).difference(set(train.label.unique()))"
   ]
  },
  {
   "cell_type": "code",
   "execution_count": 85,
   "id": "e8c4c55b",
   "metadata": {},
   "outputs": [],
   "source": [
    "train.to_csv('Data/small_train_prepped.csv', index=False)"
   ]
  },
  {
   "cell_type": "code",
   "execution_count": 86,
   "id": "8cf4d4f2",
   "metadata": {},
   "outputs": [],
   "source": [
    "test.to_csv('Data/test_prepped.csv', index=False)"
   ]
  },
  {
   "cell_type": "code",
   "execution_count": null,
   "id": "495586b0",
   "metadata": {},
   "outputs": [],
   "source": []
  },
  {
   "cell_type": "code",
   "execution_count": null,
   "id": "5143a4cf",
   "metadata": {},
   "outputs": [],
   "source": []
  },
  {
   "cell_type": "code",
   "execution_count": 87,
   "id": "e4db18f1",
   "metadata": {},
   "outputs": [],
   "source": [
    "# arguments\n",
    "train_args = {\n",
    "    'num_train_epochs': 25,\n",
    "    'overwrite_output_dir': True\n",
    "}"
   ]
  },
  {
   "cell_type": "code",
   "execution_count": 90,
   "id": "9ba1b189",
   "metadata": {},
   "outputs": [
    {
     "ename": "KeyError",
     "evalue": "'huawei-noah/TinyBERT_General_4L_312D'",
     "output_type": "error",
     "traceback": [
      "\u001b[0;31m---------------------------------------------------------------------------\u001b[0m",
      "\u001b[0;31mKeyError\u001b[0m                                  Traceback (most recent call last)",
      "\u001b[0;32m/tmp/ipykernel_1174321/1414709737.py\u001b[0m in \u001b[0;36m<module>\u001b[0;34m\u001b[0m\n\u001b[1;32m      1\u001b[0m \u001b[0;32mfrom\u001b[0m \u001b[0msimpletransformers\u001b[0m\u001b[0;34m.\u001b[0m\u001b[0mclassification\u001b[0m \u001b[0;32mimport\u001b[0m \u001b[0mClassificationModel\u001b[0m\u001b[0;34m\u001b[0m\u001b[0;34m\u001b[0m\u001b[0m\n\u001b[1;32m      2\u001b[0m \u001b[0;34m\u001b[0m\u001b[0m\n\u001b[0;32m----> 3\u001b[0;31m model = ClassificationModel(\n\u001b[0m\u001b[1;32m      4\u001b[0m     \u001b[0;34m\"huawei-noah/TinyBERT_General_4L_312D\"\u001b[0m\u001b[0;34m,\u001b[0m \u001b[0;34m'huawei-noah/TinyBERT_General_4L_312D'\u001b[0m\u001b[0;34m,\u001b[0m \u001b[0margs\u001b[0m\u001b[0;34m=\u001b[0m\u001b[0mtrain_args\u001b[0m\u001b[0;34m,\u001b[0m \u001b[0mnum_labels\u001b[0m\u001b[0;34m=\u001b[0m\u001b[0;36m201\u001b[0m\u001b[0;34m\u001b[0m\u001b[0;34m\u001b[0m\u001b[0m\n\u001b[1;32m      5\u001b[0m )\n",
      "\u001b[0;32m~/anaconda3/lib/python3.8/site-packages/simpletransformers/classification/classification_model.py\u001b[0m in \u001b[0;36m__init__\u001b[0;34m(self, model_type, model_name, tokenizer_type, tokenizer_name, num_labels, weight, args, use_cuda, cuda_device, onnx_execution_provider, **kwargs)\u001b[0m\n\u001b[1;32m    328\u001b[0m             \u001b[0mself\u001b[0m\u001b[0;34m.\u001b[0m\u001b[0margs\u001b[0m\u001b[0;34m.\u001b[0m\u001b[0mlabels_list\u001b[0m \u001b[0;34m=\u001b[0m \u001b[0;34m[\u001b[0m\u001b[0mi\u001b[0m \u001b[0;32mfor\u001b[0m \u001b[0mi\u001b[0m \u001b[0;32min\u001b[0m \u001b[0mrange\u001b[0m\u001b[0;34m(\u001b[0m\u001b[0mlen_labels_list\u001b[0m\u001b[0;34m)\u001b[0m\u001b[0;34m]\u001b[0m\u001b[0;34m\u001b[0m\u001b[0;34m\u001b[0m\u001b[0m\n\u001b[1;32m    329\u001b[0m \u001b[0;34m\u001b[0m\u001b[0m\n\u001b[0;32m--> 330\u001b[0;31m         \u001b[0mconfig_class\u001b[0m\u001b[0;34m,\u001b[0m \u001b[0mmodel_class\u001b[0m\u001b[0;34m,\u001b[0m \u001b[0mtokenizer_class\u001b[0m \u001b[0;34m=\u001b[0m \u001b[0mMODEL_CLASSES\u001b[0m\u001b[0;34m[\u001b[0m\u001b[0mmodel_type\u001b[0m\u001b[0;34m]\u001b[0m\u001b[0;34m\u001b[0m\u001b[0;34m\u001b[0m\u001b[0m\n\u001b[0m\u001b[1;32m    331\u001b[0m \u001b[0;34m\u001b[0m\u001b[0m\n\u001b[1;32m    332\u001b[0m         \u001b[0;32mif\u001b[0m \u001b[0mtokenizer_type\u001b[0m \u001b[0;32mis\u001b[0m \u001b[0;32mnot\u001b[0m \u001b[0;32mNone\u001b[0m\u001b[0;34m:\u001b[0m\u001b[0;34m\u001b[0m\u001b[0;34m\u001b[0m\u001b[0m\n",
      "\u001b[0;31mKeyError\u001b[0m: 'huawei-noah/TinyBERT_General_4L_312D'"
     ]
    }
   ],
   "source": [
    "from simpletransformers.classification import ClassificationModel\n",
    "\n",
    "model = ClassificationModel(\n",
    "    \"huawei-noah/TinyBERT_General_4L_312D\", 'huawei-noah/TinyBERT_General_4L_312D', args=train_args, num_labels=201\n",
    ")"
   ]
  },
  {
   "cell_type": "code",
   "execution_count": null,
   "id": "72338b82",
   "metadata": {},
   "outputs": [],
   "source": []
  }
 ],
 "metadata": {
  "kernelspec": {
   "display_name": "Python 3 (ipykernel)",
   "language": "python",
   "name": "python3"
  },
  "language_info": {
   "codemirror_mode": {
    "name": "ipython",
    "version": 3
   },
   "file_extension": ".py",
   "mimetype": "text/x-python",
   "name": "python",
   "nbconvert_exporter": "python",
   "pygments_lexer": "ipython3",
   "version": "3.8.8"
  }
 },
 "nbformat": 4,
 "nbformat_minor": 5
}
