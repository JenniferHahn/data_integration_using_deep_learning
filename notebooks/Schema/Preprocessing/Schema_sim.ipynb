{
 "cells": [
  {
   "cell_type": "code",
   "execution_count": 1,
   "id": "bd3a3450",
   "metadata": {},
   "outputs": [],
   "source": [
    "#!pip install sister"
   ]
  },
  {
   "cell_type": "code",
   "execution_count": 2,
   "id": "0b5f52f1",
   "metadata": {},
   "outputs": [
    {
     "name": "stdout",
     "output_type": "stream",
     "text": [
      "Loading model...\n"
     ]
    },
    {
     "name": "stderr",
     "output_type": "stream",
     "text": [
      "Warning : `load_model` does not return WordVectorModel or SupervisedModel any more, but a `FastText` object which is very similar.\n"
     ]
    }
   ],
   "source": [
    "import sister\n",
    "embedder = sister.MeanEmbedding(lang=\"en\")"
   ]
  },
  {
   "cell_type": "code",
   "execution_count": 3,
   "id": "a402c51b",
   "metadata": {},
   "outputs": [],
   "source": [
    "import os\n",
    "import pandas as pd\n",
    "import json\n",
    "import gzip\n",
    "import fasttext\n",
    "import matplotlib.pyplot as plt\n",
    "import seaborn as sns\n",
    "import re"
   ]
  },
  {
   "cell_type": "code",
   "execution_count": 4,
   "id": "129fa5c3",
   "metadata": {},
   "outputs": [],
   "source": [
    "all_files_cleaned = pd.read_csv('/work-ceph/bizer-tp2021/data_integration_using_deep_learning/src/data/data/CSV_files/all_files_cleaned.csv')"
   ]
  },
  {
   "cell_type": "code",
   "execution_count": 5,
   "id": "a0028acf",
   "metadata": {},
   "outputs": [
    {
     "data": {
      "text/plain": [
       "text_description    50\n",
       "person_name         15\n",
       "number              15\n",
       "date                14\n",
       "place               11\n",
       "rating              10\n",
       "address             10\n",
       "time                 9\n",
       "name                 7\n",
       "Name: prob_matches, dtype: int64"
      ]
     },
     "execution_count": 5,
     "metadata": {},
     "output_type": "execute_result"
    }
   ],
   "source": [
    "all_files_cleaned.prob_matches.value_counts().head(9)"
   ]
  },
  {
   "cell_type": "code",
   "execution_count": 10,
   "id": "706043ae",
   "metadata": {},
   "outputs": [
    {
     "data": {
      "text/html": [
       "<div>\n",
       "<style scoped>\n",
       "    .dataframe tbody tr th:only-of-type {\n",
       "        vertical-align: middle;\n",
       "    }\n",
       "\n",
       "    .dataframe tbody tr th {\n",
       "        vertical-align: top;\n",
       "    }\n",
       "\n",
       "    .dataframe thead th {\n",
       "        text-align: right;\n",
       "    }\n",
       "</style>\n",
       "<table border=\"1\" class=\"dataframe\">\n",
       "  <thead>\n",
       "    <tr style=\"text-align: right;\">\n",
       "      <th></th>\n",
       "      <th>Unnamed: 0</th>\n",
       "      <th>schema_type</th>\n",
       "      <th>column_name</th>\n",
       "      <th>data_type</th>\n",
       "      <th>percentage</th>\n",
       "      <th>filename</th>\n",
       "      <th>num_tables</th>\n",
       "      <th>prob_matches</th>\n",
       "    </tr>\n",
       "  </thead>\n",
       "  <tbody>\n",
       "    <tr>\n",
       "      <th>6</th>\n",
       "      <td>6</td>\n",
       "      <td>aggregaterating/ Product_stats.csv</td>\n",
       "      <td>aggregaterating</td>\n",
       "      <td>string</td>\n",
       "      <td>0.084252</td>\n",
       "      <td>Product_stats.csv</td>\n",
       "      <td>36665.000000</td>\n",
       "      <td>rating</td>\n",
       "    </tr>\n",
       "    <tr>\n",
       "      <th>48</th>\n",
       "      <td>49</td>\n",
       "      <td>aggregaterating/ Recipe_stats.csv</td>\n",
       "      <td>aggregaterating</td>\n",
       "      <td>string</td>\n",
       "      <td>0.422382</td>\n",
       "      <td>Recipe_stats.csv</td>\n",
       "      <td>3695.000000</td>\n",
       "      <td>rating</td>\n",
       "    </tr>\n",
       "    <tr>\n",
       "      <th>60</th>\n",
       "      <td>61</td>\n",
       "      <td>aggregaterating/ LocalBusiness_stats.csv</td>\n",
       "      <td>aggregaterating</td>\n",
       "      <td>string</td>\n",
       "      <td>0.181186</td>\n",
       "      <td>LocalBusiness_stats.csv</td>\n",
       "      <td>2138.000000</td>\n",
       "      <td>rating</td>\n",
       "    </tr>\n",
       "    <tr>\n",
       "      <th>121</th>\n",
       "      <td>122</td>\n",
       "      <td>aggregaterating/ CreativeWork_stats.csv</td>\n",
       "      <td>aggregaterating</td>\n",
       "      <td>string</td>\n",
       "      <td>0.005901</td>\n",
       "      <td>CreativeWork_stats.csv</td>\n",
       "      <td>480.000000</td>\n",
       "      <td>rating</td>\n",
       "    </tr>\n",
       "    <tr>\n",
       "      <th>123</th>\n",
       "      <td>124</td>\n",
       "      <td>ratingvalue/ Product_stats.csv</td>\n",
       "      <td>ratingvalue</td>\n",
       "      <td>string</td>\n",
       "      <td>0.001062</td>\n",
       "      <td>Product_stats.csv</td>\n",
       "      <td>462.000000</td>\n",
       "      <td>rating</td>\n",
       "    </tr>\n",
       "    <tr>\n",
       "      <th>124</th>\n",
       "      <td>125</td>\n",
       "      <td>aggregaterating/ Hotel_stats.csv</td>\n",
       "      <td>aggregaterating</td>\n",
       "      <td>string</td>\n",
       "      <td>0.415146</td>\n",
       "      <td>Hotel_stats.csv</td>\n",
       "      <td>455.000000</td>\n",
       "      <td>rating</td>\n",
       "    </tr>\n",
       "    <tr>\n",
       "      <th>128</th>\n",
       "      <td>129</td>\n",
       "      <td>aggregaterating/ Restaurant_stats.csv</td>\n",
       "      <td>aggregaterating</td>\n",
       "      <td>string</td>\n",
       "      <td>0.369058</td>\n",
       "      <td>Restaurant_stats.csv</td>\n",
       "      <td>427.000000</td>\n",
       "      <td>rating</td>\n",
       "    </tr>\n",
       "    <tr>\n",
       "      <th>133</th>\n",
       "      <td>134</td>\n",
       "      <td>bestrating/ Product_stats.csv</td>\n",
       "      <td>bestrating</td>\n",
       "      <td>string</td>\n",
       "      <td>0.000807</td>\n",
       "      <td>Product_stats.csv</td>\n",
       "      <td>351.000000</td>\n",
       "      <td>rating</td>\n",
       "    </tr>\n",
       "    <tr>\n",
       "      <th>146</th>\n",
       "      <td>147</td>\n",
       "      <td>aggregaterating/ Book_stats.csv</td>\n",
       "      <td>aggregaterating</td>\n",
       "      <td>string</td>\n",
       "      <td>0.157643</td>\n",
       "      <td>Book_stats.csv</td>\n",
       "      <td>297.157643</td>\n",
       "      <td>rating</td>\n",
       "    </tr>\n",
       "    <tr>\n",
       "      <th>150</th>\n",
       "      <td>151</td>\n",
       "      <td>worstrating/ Product_stats.csv</td>\n",
       "      <td>worstrating</td>\n",
       "      <td>string</td>\n",
       "      <td>0.000616</td>\n",
       "      <td>Product_stats.csv</td>\n",
       "      <td>268.000000</td>\n",
       "      <td>rating</td>\n",
       "    </tr>\n",
       "  </tbody>\n",
       "</table>\n",
       "</div>"
      ],
      "text/plain": [
       "     Unnamed: 0                               schema_type      column_name  \\\n",
       "6             6        aggregaterating/ Product_stats.csv  aggregaterating   \n",
       "48           49         aggregaterating/ Recipe_stats.csv  aggregaterating   \n",
       "60           61  aggregaterating/ LocalBusiness_stats.csv  aggregaterating   \n",
       "121         122   aggregaterating/ CreativeWork_stats.csv  aggregaterating   \n",
       "123         124            ratingvalue/ Product_stats.csv      ratingvalue   \n",
       "124         125          aggregaterating/ Hotel_stats.csv  aggregaterating   \n",
       "128         129     aggregaterating/ Restaurant_stats.csv  aggregaterating   \n",
       "133         134             bestrating/ Product_stats.csv       bestrating   \n",
       "146         147           aggregaterating/ Book_stats.csv  aggregaterating   \n",
       "150         151            worstrating/ Product_stats.csv      worstrating   \n",
       "\n",
       "    data_type  percentage                 filename    num_tables prob_matches  \n",
       "6      string    0.084252        Product_stats.csv  36665.000000       rating  \n",
       "48     string    0.422382         Recipe_stats.csv   3695.000000       rating  \n",
       "60     string    0.181186  LocalBusiness_stats.csv   2138.000000       rating  \n",
       "121    string    0.005901   CreativeWork_stats.csv    480.000000       rating  \n",
       "123    string    0.001062        Product_stats.csv    462.000000       rating  \n",
       "124    string    0.415146          Hotel_stats.csv    455.000000       rating  \n",
       "128    string    0.369058     Restaurant_stats.csv    427.000000       rating  \n",
       "133    string    0.000807        Product_stats.csv    351.000000       rating  \n",
       "146    string    0.157643           Book_stats.csv    297.157643       rating  \n",
       "150    string    0.000616        Product_stats.csv    268.000000       rating  "
      ]
     },
     "execution_count": 10,
     "metadata": {},
     "output_type": "execute_result"
    }
   ],
   "source": [
    "all_files_cleaned[all_files_cleaned['prob_matches'] == 'rating']"
   ]
  },
  {
   "cell_type": "code",
   "execution_count": 103,
   "id": "a1ca0463",
   "metadata": {},
   "outputs": [],
   "source": [
    "# read all files from prob_matches file\n",
    "#path = '/work-ceph/bizer-tp2021/data_integration_using_deep_learning/src/data/Restaurant/Restaurant_minimum3/cleaned'\n",
    "path = '/work-ceph/bizer-tp2021/data_integration_using_deep_learning/src/data/data/Book/All'\n",
    "#path = '/work-ceph/bizer-tp2021/data_integration_using_deep_learning/src/data/product/product_top100/cleaned'\n",
    "csv_files = [file for file in os.listdir(path) if file.endswith('.gz')]\n",
    "\n",
    "# append all columns which have the column name -> maybe easier to just use 1 or 2 columns -> less computation time\n",
    "right_tables = []\n",
    "col = 'aggregaterating'\n",
    "#col = 'ratingvalue'\n",
    "#col = 'bestrating'\n",
    "#col = 'worstrating'\n",
    "\n",
    "# get first few files with looked for column\n",
    "for file in csv_files:\n",
    "    df = pd.read_json(os.path.join(path, '{}'.format(file)), compression='gzip', lines=True)\n",
    "    if col in df.columns:\n",
    "        right_tables.append(file)\n",
    "        if len(right_tables) > 10:\n",
    "            break"
   ]
  },
  {
   "cell_type": "code",
   "execution_count": 104,
   "id": "3b1d6b59",
   "metadata": {},
   "outputs": [
    {
     "data": {
      "text/plain": [
       "['Book_loyalbooks.com_September2020.json.gz',\n",
       " 'Book_hyip.com_September2020.json.gz',\n",
       " 'Book_buythiz.com_September2020.json.gz',\n",
       " 'Book_jafaripub.com_September2020.json.gz',\n",
       " 'Book_stephensdrivingschool.co.uk_September2020.json.gz',\n",
       " 'Book_senscritique.com_September2020.json.gz',\n",
       " 'Book_french-bookys.org_September2020.json.gz',\n",
       " 'Book_pandora-ring.org.uk_September2020.json.gz',\n",
       " 'Book_apogeonline.com_September2020.json.gz',\n",
       " 'Book_romancecomics.com_September2020.json.gz',\n",
       " 'Book_publicvm.com_September2020.json.gz']"
      ]
     },
     "execution_count": 104,
     "metadata": {},
     "output_type": "execute_result"
    }
   ],
   "source": [
    "right_tables"
   ]
  },
  {
   "cell_type": "code",
   "execution_count": 105,
   "id": "62cdc20d",
   "metadata": {},
   "outputs": [],
   "source": [
    "# read tables\n",
    "vals = []\n",
    "for file in right_tables:\n",
    "    df = pd.read_json(os.path.join(path, '{}'.format(file)), compression='gzip', lines=True)\n",
    "    vals.append(df[col].to_list())"
   ]
  },
  {
   "cell_type": "code",
   "execution_count": 106,
   "id": "2f256081",
   "metadata": {},
   "outputs": [],
   "source": [
    "vals_new = []\n",
    "# basic cleaning (check if needed)\n",
    "for elem in vals:\n",
    "    for e in elem:\n",
    "        vals_new.append(re.sub(\"[{}:,'']+\", '', str(e)))"
   ]
  },
  {
   "cell_type": "code",
   "execution_count": 107,
   "id": "f7ccea7a",
   "metadata": {},
   "outputs": [],
   "source": [
    "# get mean embedding vector for each row\n",
    "\n",
    "#vector_product_aggregaterating = embedder(' '.join(word[0] for word in vals_new))\n",
    "#vector_product_ratingvalue = embedder(' '.join(word[0] for word in vals_new))\n",
    "#vector_product_bestrating = embedder(' '.join(word[0] for word in vals_new))\n",
    "#vector_product_worstrating = embedder(' '.join(word[0] for word in vals_new))\n",
    "#vector_recipe_aggregaterating = embedder(' '.join(word[0] for word in vals_new))\n",
    "#vector_localbusiness_aggregaterating = embedder(' '.join(word[0] for word in vals_new))\n",
    "#vector_creativework_aggregaterating = embedder(' '.join(word[0] for word in vals_new))\n",
    "#vector_hotel_aggregaterating = embedder(' '.join(word[0] for word in vals_new))\n",
    "#vector_restaurant_aggregaterating = embedder(' '.join(word[0] for word in vals_new))\n",
    "vector_book_aggregaterating = embedder(' '.join(word[0] for word in vals_new))\n"
   ]
  },
  {
   "cell_type": "code",
   "execution_count": 116,
   "id": "16e0d67e",
   "metadata": {},
   "outputs": [
    {
     "name": "stdout",
     "output_type": "stream",
     "text": [
      "0.967116117477417\n"
     ]
    }
   ],
   "source": [
    "# cosine similarity\n",
    "from scipy import spatial\n",
    "cosine_similarity = 1 - spatial.distance.cosine(vector_hotel_aggregaterating, vector_book_aggregaterating)\n",
    "print(cosine_similarity)"
   ]
  },
  {
   "cell_type": "code",
   "execution_count": null,
   "id": "45cdcb93",
   "metadata": {},
   "outputs": [],
   "source": []
  },
  {
   "cell_type": "code",
   "execution_count": null,
   "id": "75d64b69",
   "metadata": {},
   "outputs": [],
   "source": []
  }
 ],
 "metadata": {
  "kernelspec": {
   "display_name": "Python 3",
   "language": "python",
   "name": "python3"
  },
  "language_info": {
   "codemirror_mode": {
    "name": "ipython",
    "version": 3
   },
   "file_extension": ".py",
   "mimetype": "text/x-python",
   "name": "python",
   "nbconvert_exporter": "python",
   "pygments_lexer": "ipython3",
   "version": "3.8.8"
  }
 },
 "nbformat": 4,
 "nbformat_minor": 5
}
