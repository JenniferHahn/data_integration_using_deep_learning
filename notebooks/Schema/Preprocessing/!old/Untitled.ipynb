{
 "cells": [
  {
   "cell_type": "code",
   "execution_count": 6,
   "id": "99b0850d",
   "metadata": {},
   "outputs": [],
   "source": [
    "# import libraries\n",
    "import os\n",
    "import pandas as pd\n",
    "import json\n",
    "import gzip\n",
    "import fasttext \n",
    "import matplotlib.pyplot as plt\n",
    "import seaborn as sns\n",
    "import re\n",
    "import pandas as pd\n",
    "import re\n",
    "import numpy as np\n",
    "import sklearn"
   ]
  },
  {
   "cell_type": "code",
   "execution_count": 2,
   "id": "bafac39c",
   "metadata": {},
   "outputs": [],
   "source": [
    "small = pd.read_csv('../../../src/data/schemafiltereddata/TrainTestTables/CSV/medium_tables_seq.csv')"
   ]
  },
  {
   "cell_type": "code",
   "execution_count": 3,
   "id": "9157b75b",
   "metadata": {},
   "outputs": [
    {
     "data": {
      "text/html": [
       "<div>\n",
       "<style scoped>\n",
       "    .dataframe tbody tr th:only-of-type {\n",
       "        vertical-align: middle;\n",
       "    }\n",
       "\n",
       "    .dataframe tbody tr th {\n",
       "        vertical-align: top;\n",
       "    }\n",
       "\n",
       "    .dataframe thead th {\n",
       "        text-align: right;\n",
       "    }\n",
       "</style>\n",
       "<table border=\"1\" class=\"dataframe\">\n",
       "  <thead>\n",
       "    <tr style=\"text-align: right;\">\n",
       "      <th></th>\n",
       "      <th>Unnamed: 0</th>\n",
       "      <th>text</th>\n",
       "      <th>name</th>\n",
       "      <th>class</th>\n",
       "      <th>label_complete</th>\n",
       "    </tr>\n",
       "  </thead>\n",
       "  <tbody>\n",
       "    <tr>\n",
       "      <th>0</th>\n",
       "      <td>0</td>\n",
       "      <td>Heavenly Sentiments Spray Peaceful White Lilie...</td>\n",
       "      <td>name</td>\n",
       "      <td>Product</td>\n",
       "      <td>nameProduct</td>\n",
       "    </tr>\n",
       "    <tr>\n",
       "      <th>1</th>\n",
       "      <td>1</td>\n",
       "      <td>{'pricecurrency': 'USD', 'lowprice': '202.95',...</td>\n",
       "      <td>offers</td>\n",
       "      <td>Product</td>\n",
       "      <td>offersProduct</td>\n",
       "    </tr>\n",
       "    <tr>\n",
       "      <th>2</th>\n",
       "      <td>2</td>\n",
       "      <td>{'reviewcount': '4', 'ratingvalue': '5.00'},{'...</td>\n",
       "      <td>aggregaterating</td>\n",
       "      <td>Product</td>\n",
       "      <td>aggregateratingProduct</td>\n",
       "    </tr>\n",
       "    <tr>\n",
       "      <th>3</th>\n",
       "      <td>3</td>\n",
       "      <td>[{'author': 'from -', 'description': 'Arrangem...</td>\n",
       "      <td>review</td>\n",
       "      <td>Product</td>\n",
       "      <td>reviewProduct</td>\n",
       "    </tr>\n",
       "    <tr>\n",
       "      <th>4</th>\n",
       "      <td>4</td>\n",
       "      <td>NewCondition NewCondition NewCondition NewCond...</td>\n",
       "      <td>itemcondition</td>\n",
       "      <td>Product</td>\n",
       "      <td>itemconditionProduct</td>\n",
       "    </tr>\n",
       "    <tr>\n",
       "      <th>...</th>\n",
       "      <td>...</td>\n",
       "      <td>...</td>\n",
       "      <td>...</td>\n",
       "      <td>...</td>\n",
       "      <td>...</td>\n",
       "    </tr>\n",
       "    <tr>\n",
       "      <th>21452</th>\n",
       "      <td>21452</td>\n",
       "      <td>5.0 cu. ft. Smart Front Load Washer with Load ...</td>\n",
       "      <td>name</td>\n",
       "      <td>Product</td>\n",
       "      <td>nameProduct</td>\n",
       "    </tr>\n",
       "    <tr>\n",
       "      <th>21453</th>\n",
       "      <td>21453</td>\n",
       "      <td>{'pricecurrency': 'USD', 'price': '1349.99', '...</td>\n",
       "      <td>offers</td>\n",
       "      <td>Product</td>\n",
       "      <td>offersProduct</td>\n",
       "    </tr>\n",
       "    <tr>\n",
       "      <th>21454</th>\n",
       "      <td>21454</td>\n",
       "      <td>{'name': 'Whirlpool'},{'name': 'GE Appliances'...</td>\n",
       "      <td>brand</td>\n",
       "      <td>Product</td>\n",
       "      <td>brandProduct</td>\n",
       "    </tr>\n",
       "    <tr>\n",
       "      <th>21455</th>\n",
       "      <td>21455</td>\n",
       "      <td>{'reviewcount': '7', 'itemreviewed': '5.0 cu. ...</td>\n",
       "      <td>aggregaterating</td>\n",
       "      <td>Product</td>\n",
       "      <td>aggregateratingProduct</td>\n",
       "    </tr>\n",
       "    <tr>\n",
       "      <th>21456</th>\n",
       "      <td>21456</td>\n",
       "      <td>WFW9620HC JGS760SELSS GWE23GENDS LDC24370SW WE...</td>\n",
       "      <td>mpn</td>\n",
       "      <td>Product</td>\n",
       "      <td>mpnProduct</td>\n",
       "    </tr>\n",
       "  </tbody>\n",
       "</table>\n",
       "<p>20587 rows × 5 columns</p>\n",
       "</div>"
      ],
      "text/plain": [
       "       Unnamed: 0                                               text  \\\n",
       "0               0  Heavenly Sentiments Spray Peaceful White Lilie...   \n",
       "1               1  {'pricecurrency': 'USD', 'lowprice': '202.95',...   \n",
       "2               2  {'reviewcount': '4', 'ratingvalue': '5.00'},{'...   \n",
       "3               3  [{'author': 'from -', 'description': 'Arrangem...   \n",
       "4               4  NewCondition NewCondition NewCondition NewCond...   \n",
       "...           ...                                                ...   \n",
       "21452       21452  5.0 cu. ft. Smart Front Load Washer with Load ...   \n",
       "21453       21453  {'pricecurrency': 'USD', 'price': '1349.99', '...   \n",
       "21454       21454  {'name': 'Whirlpool'},{'name': 'GE Appliances'...   \n",
       "21455       21455  {'reviewcount': '7', 'itemreviewed': '5.0 cu. ...   \n",
       "21456       21456  WFW9620HC JGS760SELSS GWE23GENDS LDC24370SW WE...   \n",
       "\n",
       "                  name    class          label_complete  \n",
       "0                 name  Product             nameProduct  \n",
       "1               offers  Product           offersProduct  \n",
       "2      aggregaterating  Product  aggregateratingProduct  \n",
       "3               review  Product           reviewProduct  \n",
       "4        itemcondition  Product    itemconditionProduct  \n",
       "...                ...      ...                     ...  \n",
       "21452             name  Product             nameProduct  \n",
       "21453           offers  Product           offersProduct  \n",
       "21454            brand  Product            brandProduct  \n",
       "21455  aggregaterating  Product  aggregateratingProduct  \n",
       "21456              mpn  Product              mpnProduct  \n",
       "\n",
       "[20587 rows x 5 columns]"
      ]
     },
     "execution_count": 3,
     "metadata": {},
     "output_type": "execute_result"
    }
   ],
   "source": [
    "small.drop(small[(small['name']=='inalbum') &(small['class']=='MusicRecording')].index, inplace=True)\n",
    "small.drop(small[(small['name']=='performer') &(small['class']=='Event')].index, inplace=True)\n",
    "small.drop(small[(small['name']=='eventattendancemode') &(small['class']=='Event')].index, inplace=True)\n",
    "small.drop(small[(small['name']=='eventstatus') &(small['class']=='Event')].index, inplace=True)\n",
    "small.drop(small[(small['name']=='owns') &(small['class']=='LocalBusiness')].index, inplace=True)\n",
    "small[\"label_complete\"] = small[\"name\"] + small[\"class\"]\n",
    "num_columns = len(set.union(set(small.label_complete.unique())))\n",
    "small"
   ]
  },
  {
   "cell_type": "code",
   "execution_count": 5,
   "id": "c5dd0afd",
   "metadata": {},
   "outputs": [
    {
     "data": {
      "text/html": [
       "<div>\n",
       "<style scoped>\n",
       "    .dataframe tbody tr th:only-of-type {\n",
       "        vertical-align: middle;\n",
       "    }\n",
       "\n",
       "    .dataframe tbody tr th {\n",
       "        vertical-align: top;\n",
       "    }\n",
       "\n",
       "    .dataframe thead th {\n",
       "        text-align: right;\n",
       "    }\n",
       "</style>\n",
       "<table border=\"1\" class=\"dataframe\">\n",
       "  <thead>\n",
       "    <tr style=\"text-align: right;\">\n",
       "      <th></th>\n",
       "      <th>Unnamed: 0</th>\n",
       "      <th>text</th>\n",
       "      <th>name</th>\n",
       "      <th>class</th>\n",
       "      <th>label_complete</th>\n",
       "    </tr>\n",
       "  </thead>\n",
       "  <tbody>\n",
       "    <tr>\n",
       "      <th>0</th>\n",
       "      <td>0</td>\n",
       "      <td>Plauen | Indonesien Freiburg | Iraq-Kurdistan ...</td>\n",
       "      <td>name</td>\n",
       "      <td>Event</td>\n",
       "      <td>nameEvent</td>\n",
       "    </tr>\n",
       "    <tr>\n",
       "      <th>1</th>\n",
       "      <td>1</td>\n",
       "      <td>2022-03-27T16:30:00+01:00 2020-11-15T22:00:00+...</td>\n",
       "      <td>enddate</td>\n",
       "      <td>Event</td>\n",
       "      <td>enddateEvent</td>\n",
       "    </tr>\n",
       "    <tr>\n",
       "      <th>2</th>\n",
       "      <td>2</td>\n",
       "      <td>{'name': 'Abenteuer Arena'},{'name': 'Paulussa...</td>\n",
       "      <td>location</td>\n",
       "      <td>Event</td>\n",
       "      <td>locationEvent</td>\n",
       "    </tr>\n",
       "    <tr>\n",
       "      <th>3</th>\n",
       "      <td>3</td>\n",
       "      <td>{'name': 'Freiträumer Festival'},{'name': 'MUN...</td>\n",
       "      <td>organizer</td>\n",
       "      <td>Event</td>\n",
       "      <td>organizerEvent</td>\n",
       "    </tr>\n",
       "    <tr>\n",
       "      <th>4</th>\n",
       "      <td>4</td>\n",
       "      <td>Máy làm kem Sunny Way RB1119A TỦ MÁT 2 CÁNH KÍ...</td>\n",
       "      <td>name</td>\n",
       "      <td>Product</td>\n",
       "      <td>nameProduct</td>\n",
       "    </tr>\n",
       "    <tr>\n",
       "      <th>...</th>\n",
       "      <td>...</td>\n",
       "      <td>...</td>\n",
       "      <td>...</td>\n",
       "      <td>...</td>\n",
       "      <td>...</td>\n",
       "    </tr>\n",
       "    <tr>\n",
       "      <th>48530</th>\n",
       "      <td>48530</td>\n",
       "      <td>{'name': 'Virtually'},{'name': 'Virtually'},{'...</td>\n",
       "      <td>location</td>\n",
       "      <td>Event</td>\n",
       "      <td>locationEvent</td>\n",
       "    </tr>\n",
       "    <tr>\n",
       "      <th>48531</th>\n",
       "      <td>48531</td>\n",
       "      <td>{'email': 'c&amp;#104;i&amp;#108;&amp;#100;&amp;#114;&amp;#101;n&amp;#...</td>\n",
       "      <td>organizer</td>\n",
       "      <td>Event</td>\n",
       "      <td>organizerEvent</td>\n",
       "    </tr>\n",
       "    <tr>\n",
       "      <th>48532</th>\n",
       "      <td>48532</td>\n",
       "      <td>Marina Olivier Celia Tatjana Valentine Gaia Ré...</td>\n",
       "      <td>givenname</td>\n",
       "      <td>Person</td>\n",
       "      <td>givennamePerson</td>\n",
       "    </tr>\n",
       "    <tr>\n",
       "      <th>48533</th>\n",
       "      <td>48533</td>\n",
       "      <td>Shunina de LAGARDE van der Beek Mavrenko BOITE...</td>\n",
       "      <td>familyname</td>\n",
       "      <td>Person</td>\n",
       "      <td>familynamePerson</td>\n",
       "    </tr>\n",
       "    <tr>\n",
       "      <th>48534</th>\n",
       "      <td>48534</td>\n",
       "      <td>01 55 23 08 08 +34 934 637 114 +37120234640 ...</td>\n",
       "      <td>telephone</td>\n",
       "      <td>Person</td>\n",
       "      <td>telephonePerson</td>\n",
       "    </tr>\n",
       "  </tbody>\n",
       "</table>\n",
       "<p>48535 rows × 5 columns</p>\n",
       "</div>"
      ],
      "text/plain": [
       "       Unnamed: 0                                               text  \\\n",
       "0               0  Plauen | Indonesien Freiburg | Iraq-Kurdistan ...   \n",
       "1               1  2022-03-27T16:30:00+01:00 2020-11-15T22:00:00+...   \n",
       "2               2  {'name': 'Abenteuer Arena'},{'name': 'Paulussa...   \n",
       "3               3  {'name': 'Freiträumer Festival'},{'name': 'MUN...   \n",
       "4               4  Máy làm kem Sunny Way RB1119A TỦ MÁT 2 CÁNH KÍ...   \n",
       "...           ...                                                ...   \n",
       "48530       48530  {'name': 'Virtually'},{'name': 'Virtually'},{'...   \n",
       "48531       48531  {'email': 'c&#104;i&#108;&#100;&#114;&#101;n&#...   \n",
       "48532       48532  Marina Olivier Celia Tatjana Valentine Gaia Ré...   \n",
       "48533       48533  Shunina de LAGARDE van der Beek Mavrenko BOITE...   \n",
       "48534       48534    01 55 23 08 08 +34 934 637 114 +37120234640 ...   \n",
       "\n",
       "             name    class    label_complete  \n",
       "0            name    Event         nameEvent  \n",
       "1         enddate    Event      enddateEvent  \n",
       "2        location    Event     locationEvent  \n",
       "3       organizer    Event    organizerEvent  \n",
       "4            name  Product       nameProduct  \n",
       "...           ...      ...               ...  \n",
       "48530    location    Event     locationEvent  \n",
       "48531   organizer    Event    organizerEvent  \n",
       "48532   givenname   Person   givennamePerson  \n",
       "48533  familyname   Person  familynamePerson  \n",
       "48534   telephone   Person   telephonePerson  \n",
       "\n",
       "[48535 rows x 5 columns]"
      ]
     },
     "execution_count": 5,
     "metadata": {},
     "output_type": "execute_result"
    }
   ],
   "source": [
    "test = pd.read_csv('../../../src/data/schemafiltereddata/TrainTestTables/test_tables_seq_9000.csv')\n",
    "test.drop(test[(test['name']=='inalbum') &(test['class']=='MusicRecording')].index, inplace=True)\n",
    "test.drop(test[(test['name']=='performer') &(test['class']=='Event')].index, inplace=True)\n",
    "test.drop(test[(test['name']=='eventattendancemode') &(test['class']=='Event')].index, inplace=True)\n",
    "test.drop(test[(test['name']=='eventstatus') &(test['class']=='Event')].index, inplace=True)\n",
    "test.drop(test[(test['name']=='owns') &(test['class']=='LocalBusiness')].index, inplace=True)\n",
    "test[\"label_complete\"] = test[\"name\"] + test[\"class\"]\n",
    "num_columns = len(set.union(set(test.label_complete.unique())))\n",
    "test"
   ]
  },
  {
   "cell_type": "code",
   "execution_count": 6,
   "id": "c3a77d80",
   "metadata": {},
   "outputs": [],
   "source": [
    "test.drop(['Unnamed: 0','class'], axis=1, inplace=True)\n",
    "test['text'] = test.text.apply(lambda x: re.sub(\"[^0-9a-zA-Z-@]+\", \" \", x))"
   ]
  },
  {
   "cell_type": "code",
   "execution_count": 7,
   "id": "fe2f43f7",
   "metadata": {},
   "outputs": [],
   "source": [
    "small.drop(['Unnamed: 0','class'], axis=1, inplace=True)\n",
    "small['text'] = small.text.apply(lambda x: re.sub(\"[^0-9a-zA-Z-@]+\", \" \", x))"
   ]
  },
  {
   "cell_type": "code",
   "execution_count": 21,
   "id": "3db73bbe",
   "metadata": {},
   "outputs": [],
   "source": [
    "labels_new = {'worstratingProduct': 0,\n",
    " 'acceptsreservationsRestaurant': 1,\n",
    " 'additionalnamePerson': 2,\n",
    " 'additionalpropertyProduct': 3,\n",
    " 'addressHotel': 4,\n",
    " 'addressLocalBusiness': 5,\n",
    " 'addressPerson': 6,\n",
    " 'addressProduct': 7,\n",
    " 'addressRestaurant': 8,\n",
    " 'addresslocalityLocalBusiness': 9,\n",
    " 'addressregionLocalBusiness': 10,\n",
    " 'affiliationPerson': 11,\n",
    " 'aggregateratingBook': 12,\n",
    " 'aggregateratingCreativeWork': 13,\n",
    " 'aggregateratingHotel': 14,\n",
    " 'aggregateratingLocalBusiness': 15,\n",
    " 'aggregateratingProduct': 16,\n",
    " 'aggregateratingRecipe': 17,\n",
    " 'aggregateratingRestaurant': 18,\n",
    " 'alternatenameProduct': 19,\n",
    " 'alternativeheadlineCreativeWork': 20,\n",
    " 'areaservedLocalBusiness': 21,\n",
    " 'articlebodyCreativeWork': 22,\n",
    " 'audienceProduct': 23,\n",
    " 'authorBook': 24,\n",
    " 'authorCreativeWork': 25,\n",
    " 'authorProduct': 26,\n",
    " 'authorRecipe': 27,\n",
    " 'availabilityProduct': 28,\n",
    " 'bestratingProduct': 29,\n",
    " 'birthdatePerson': 30,\n",
    " 'birthplacePerson': 31,\n",
    " 'bookeditionBook': 32,\n",
    " 'bookformatBook': 33,\n",
    " 'brandProduct': 34,\n",
    " 'breadcrumbProduct': 35,\n",
    " 'byartistMusicAlbum': 36,\n",
    " 'byartistMusicRecording': 37,\n",
    " 'categoryProduct': 38,\n",
    " 'citystatezipLocalBusiness': 39,\n",
    " 'colorProduct': 40,\n",
    " 'commentcountCreativeWork': 41,\n",
    " 'conditionProduct': 42,\n",
    " 'contactpointLocalBusiness': 43,\n",
    " 'contactpointPerson': 44,\n",
    " 'cookingmethodRecipe': 45,\n",
    " 'cooktimeRecipe': 46,\n",
    " 'copyrightholderCreativeWork': 47,\n",
    " 'copyrightyearCreativeWork': 48,\n",
    " 'creatorCreativeWork': 49,\n",
    " 'datecreatedCreativeWork': 50,\n",
    " 'datecreatedMusicRecording': 51,\n",
    " 'datemodifiedCreativeWork': 52,\n",
    " 'datemodifiedRecipe': 53,\n",
    " 'datepublishedBook': 54,\n",
    " 'datepublishedCreativeWork': 55,\n",
    " 'datepublishedMusicRecording': 56,\n",
    " 'datepublishedProduct': 57,\n",
    " 'datepublishedRecipe': 58,\n",
    " 'deathdatePerson': 59,\n",
    " 'depthProduct': 60,\n",
    " 'disambiguatingdescriptionProduct': 61,\n",
    " 'doortimeEvent': 62,\n",
    " 'durationEvent': 63,\n",
    " 'durationMusicRecording': 64,\n",
    " 'emailHotel': 65,\n",
    " 'emailLocalBusiness': 66,\n",
    " 'emailPerson': 67,\n",
    " 'enddateEvent': 68,\n",
    " 'episodenumberTVEpisode': 69,\n",
    " 'worksforPerson': 70,\n",
    " 'familynamePerson': 71,\n",
    " 'faxnumberLocalBusiness': 72,\n",
    " 'faxnumberPerson': 73,\n",
    " 'genderPerson': 74,\n",
    " 'genreBook': 75,\n",
    " 'genreCreativeWork': 76,\n",
    " 'genreMusicRecording': 77,\n",
    " 'geoHotel': 78,\n",
    " 'geoLocalBusiness': 79,\n",
    " 'geoPlace': 80,\n",
    " 'geoProduct': 81,\n",
    " 'geoRestaurant': 82,\n",
    " 'givennamePerson': 83,\n",
    " 'gtin12Product': 84,\n",
    " 'gtin13Product': 85,\n",
    " 'gtin14Product': 86,\n",
    " 'gtin8Product': 87,\n",
    " 'gtinProduct': 88,\n",
    " 'hasmapLocalBusiness': 89,\n",
    " 'hasmenuRestaurant': 90,\n",
    " 'headlineCreativeWork': 91,\n",
    " 'headlineRecipe': 92,\n",
    " 'heightPerson': 93,\n",
    " 'heightProduct': 94,\n",
    " 'homelocationPerson': 95,\n",
    " 'identifierProduct': 96,\n",
    " 'worklocationPerson': 97,\n",
    " 'ingredientsRecipe': 98,\n",
    " 'inlanguageBook': 99,\n",
    " 'inlanguageCreativeWork': 100,\n",
    " 'interactioncountCreativeWork': 101,\n",
    " 'interactionstatisticCreativeWork': 102,\n",
    " 'interactiontypeCreativeWork': 103,\n",
    " 'isbnBook': 104,\n",
    " 'ispartofRecipe': 105,\n",
    " 'isrelatedtoProduct': 106,\n",
    " 'issimilartoProduct': 107,\n",
    " 'itemconditionProduct': 108,\n",
    " 'itemlistelementProduct': 109,\n",
    " 'jobtitlePerson': 110,\n",
    " 'keywordsCreativeWork': 111,\n",
    " 'keywordsRecipe': 112,\n",
    " 'knowslanguagePerson': 113,\n",
    " 'legalnameLocalBusiness': 114,\n",
    " 'locationEvent': 115,\n",
    " 'locationLocalBusiness': 116,\n",
    " 'mainentityofpageCreativeWork': 117,\n",
    " 'weightProduct': 118,\n",
    " 'mainentityofpageProduct': 119,\n",
    " 'mainentityofpageRecipe': 120,\n",
    " 'makesofferPerson': 121,\n",
    " 'manufacturerProduct': 122,\n",
    " 'materialProduct': 123,\n",
    " 'memberofPerson': 124,\n",
    " 'menuRestaurant': 125,\n",
    " 'modelProduct': 126,\n",
    " 'mpnProduct': 127,\n",
    " 'nameBook': 128,\n",
    " 'nameCreativeWork': 129,\n",
    " 'nameEvent': 130,\n",
    " 'nameHotel': 131,\n",
    " 'nameLocalBusiness': 132,\n",
    " 'nameMusicAlbum': 133,\n",
    " 'nameMusicRecording': 134,\n",
    " 'namePlace': 135,\n",
    " 'nameProduct': 136,\n",
    " 'nameRecipe': 137,\n",
    " 'nameRestaurant': 138,\n",
    " 'nameTVEpisode': 139,\n",
    " 'nationalityPerson': 140,\n",
    " 'numberofpagesBook': 141,\n",
    " 'numtracksMusicAlbum': 142,\n",
    " 'nutritionRecipe': 143,\n",
    " 'weightPerson': 144,\n",
    " 'offersBook': 145,\n",
    " 'offersCreativeWork': 146,\n",
    " 'offersProduct': 147,\n",
    " 'openinghoursLocalBusiness': 148,\n",
    " 'openinghoursRestaurant': 149,\n",
    " 'openinghoursspecificationLocalBusiness': 150,\n",
    " 'openinghoursspecificationPlace': 151,\n",
    " 'openinghoursspecificationRestaurant': 152,\n",
    " 'organizerEvent': 153,\n",
    " 'partofseriesTVEpisode': 154,\n",
    " 'paymentacceptedLocalBusiness': 155,\n",
    " 'widthProduct': 156,\n",
    " 'performersEvent': 157,\n",
    " 'performtimeRecipe': 158,\n",
    " 'postalcodeLocalBusiness': 159,\n",
    " 'preptimeRecipe': 160,\n",
    " 'priceProduct': 161,\n",
    " 'pricecurrencyProduct': 162,\n",
    " 'pricerangeHotel': 163,\n",
    " 'pricerangeLocalBusiness': 164,\n",
    " 'pricerangeRestaurant': 165,\n",
    " 'publisherBook': 166,\n",
    " 'publisherCreativeWork': 167,\n",
    " 'publisherRecipe': 168,\n",
    " 'ratingvalueProduct': 169,\n",
    " 'recipecategoryRecipe': 170,\n",
    " 'recipecuisineRecipe': 171,\n",
    " 'recipeingredientRecipe': 172,\n",
    " 'recipeinstructionsRecipe': 173,\n",
    " 'recipeyieldRecipe': 174,\n",
    " 'releasedateProduct': 175,\n",
    " 'reviewLocalBusiness': 176,\n",
    " 'reviewProduct': 177,\n",
    " 'reviewRecipe': 178,\n",
    " 'reviewcountProduct': 179,\n",
    " 'reviewsProduct': 180,\n",
    " 'sameasLocalBusiness': 181,\n",
    " 'sameasPerson': 182,\n",
    " 'sameasPlace': 183,\n",
    " 'servescuisineRestaurant': 184,\n",
    " 'shop-currencyProduct': 185,\n",
    " 'starratingHotel': 186,\n",
    " 'streetaddressLocalBusiness': 187,\n",
    " 'suitablefordietRecipe': 188,\n",
    " 'telephoneHotel': 189,\n",
    " 'telephoneLocalBusiness': 190,\n",
    " 'telephonePerson': 191,\n",
    " 'telephonePlace': 192,\n",
    " 'telephoneRestaurant': 193,\n",
    " 'titleProduct': 194,\n",
    " 'totaltimeRecipe': 195,\n",
    " 'trackMusicAlbum': 196,\n",
    " 'typicalagerangeEvent': 197,\n",
    " 'versionCreativeWork': 198\n",
    " #'offerdetailsProduct': 144,\n",
    "# 'founderLocalBusiness': 118,\n",
    " # 'mainentityofpagePerson': 118,\n",
    " #'eventattendancemodeEvent': 201,\n",
    " #'performerEvent': 202,\n",
    " #'inalbumMusicRecording': 203,\n",
    " #'eventstatusEvent': 204\n",
    " }"
   ]
  },
  {
   "cell_type": "code",
   "execution_count": 9,
   "id": "65c95509",
   "metadata": {},
   "outputs": [],
   "source": [
    "medium = small\n"
   ]
  },
  {
   "cell_type": "code",
   "execution_count": 10,
   "id": "892c57d4",
   "metadata": {},
   "outputs": [
    {
     "data": {
      "text/html": [
       "<div>\n",
       "<style scoped>\n",
       "    .dataframe tbody tr th:only-of-type {\n",
       "        vertical-align: middle;\n",
       "    }\n",
       "\n",
       "    .dataframe tbody tr th {\n",
       "        vertical-align: top;\n",
       "    }\n",
       "\n",
       "    .dataframe thead th {\n",
       "        text-align: right;\n",
       "    }\n",
       "</style>\n",
       "<table border=\"1\" class=\"dataframe\">\n",
       "  <thead>\n",
       "    <tr style=\"text-align: right;\">\n",
       "      <th></th>\n",
       "      <th>text</th>\n",
       "      <th>label</th>\n",
       "    </tr>\n",
       "  </thead>\n",
       "  <tbody>\n",
       "    <tr>\n",
       "      <th>0</th>\n",
       "      <td>Plauen Indonesien Freiburg Iraq-Kurdistan Boch...</td>\n",
       "      <td>130.0</td>\n",
       "    </tr>\n",
       "    <tr>\n",
       "      <th>1</th>\n",
       "      <td>2022-03-27T16 30 00 01 00 2020-11-15T22 00 00 ...</td>\n",
       "      <td>68.0</td>\n",
       "    </tr>\n",
       "    <tr>\n",
       "      <th>2</th>\n",
       "      <td>name Abenteuer Arena name Paulussaal name Deu...</td>\n",
       "      <td>115.0</td>\n",
       "    </tr>\n",
       "    <tr>\n",
       "      <th>3</th>\n",
       "      <td>name Freitr umer Festival name MUNDOlogia nam...</td>\n",
       "      <td>153.0</td>\n",
       "    </tr>\n",
       "    <tr>\n",
       "      <th>4</th>\n",
       "      <td>M y l m kem Sunny Way RB1119A T M T 2 C NH K N...</td>\n",
       "      <td>136.0</td>\n",
       "    </tr>\n",
       "    <tr>\n",
       "      <th>...</th>\n",
       "      <td>...</td>\n",
       "      <td>...</td>\n",
       "    </tr>\n",
       "    <tr>\n",
       "      <th>48530</th>\n",
       "      <td>name Virtually name Virtually name Virtually ...</td>\n",
       "      <td>115.0</td>\n",
       "    </tr>\n",
       "    <tr>\n",
       "      <th>48531</th>\n",
       "      <td>email c 104 i 108 100 114 101 n 115 st 97 f 1...</td>\n",
       "      <td>153.0</td>\n",
       "    </tr>\n",
       "    <tr>\n",
       "      <th>48532</th>\n",
       "      <td>Marina Olivier Celia Tatjana Valentine Gaia R ...</td>\n",
       "      <td>83.0</td>\n",
       "    </tr>\n",
       "    <tr>\n",
       "      <th>48533</th>\n",
       "      <td>Shunina de LAGARDE van der Beek Mavrenko BOITE...</td>\n",
       "      <td>71.0</td>\n",
       "    </tr>\n",
       "    <tr>\n",
       "      <th>48534</th>\n",
       "      <td>01 55 23 08 08 34 934 637 114 37120234640 33 ...</td>\n",
       "      <td>191.0</td>\n",
       "    </tr>\n",
       "  </tbody>\n",
       "</table>\n",
       "<p>48535 rows × 2 columns</p>\n",
       "</div>"
      ],
      "text/plain": [
       "                                                    text  label\n",
       "0      Plauen Indonesien Freiburg Iraq-Kurdistan Boch...  130.0\n",
       "1      2022-03-27T16 30 00 01 00 2020-11-15T22 00 00 ...   68.0\n",
       "2       name Abenteuer Arena name Paulussaal name Deu...  115.0\n",
       "3       name Freitr umer Festival name MUNDOlogia nam...  153.0\n",
       "4      M y l m kem Sunny Way RB1119A T M T 2 C NH K N...  136.0\n",
       "...                                                  ...    ...\n",
       "48530   name Virtually name Virtually name Virtually ...  115.0\n",
       "48531   email c 104 i 108 100 114 101 n 115 st 97 f 1...  153.0\n",
       "48532  Marina Olivier Celia Tatjana Valentine Gaia R ...   83.0\n",
       "48533  Shunina de LAGARDE van der Beek Mavrenko BOITE...   71.0\n",
       "48534   01 55 23 08 08 34 934 637 114 37120234640 33 ...  191.0\n",
       "\n",
       "[48535 rows x 2 columns]"
      ]
     },
     "execution_count": 10,
     "metadata": {},
     "output_type": "execute_result"
    }
   ],
   "source": [
    "test['label'] = test.label_complete.map(labels_new)\n",
    "\n",
    "test.drop(['label_complete', 'name'], axis=1, inplace=True)\n",
    "test"
   ]
  },
  {
   "cell_type": "code",
   "execution_count": 11,
   "id": "4aa0dbfa",
   "metadata": {},
   "outputs": [
    {
     "data": {
      "text/html": [
       "<div>\n",
       "<style scoped>\n",
       "    .dataframe tbody tr th:only-of-type {\n",
       "        vertical-align: middle;\n",
       "    }\n",
       "\n",
       "    .dataframe tbody tr th {\n",
       "        vertical-align: top;\n",
       "    }\n",
       "\n",
       "    .dataframe thead th {\n",
       "        text-align: right;\n",
       "    }\n",
       "</style>\n",
       "<table border=\"1\" class=\"dataframe\">\n",
       "  <thead>\n",
       "    <tr style=\"text-align: right;\">\n",
       "      <th></th>\n",
       "      <th>text</th>\n",
       "      <th>label</th>\n",
       "    </tr>\n",
       "  </thead>\n",
       "  <tbody>\n",
       "    <tr>\n",
       "      <th>0</th>\n",
       "      <td>Heavenly Sentiments Spray Peaceful White Lilie...</td>\n",
       "      <td>136.0</td>\n",
       "    </tr>\n",
       "    <tr>\n",
       "      <th>1</th>\n",
       "      <td>pricecurrency USD lowprice 202 95 highprice 2...</td>\n",
       "      <td>147.0</td>\n",
       "    </tr>\n",
       "    <tr>\n",
       "      <th>2</th>\n",
       "      <td>reviewcount 4 ratingvalue 5 00 reviewcount 25...</td>\n",
       "      <td>16.0</td>\n",
       "    </tr>\n",
       "    <tr>\n",
       "      <th>3</th>\n",
       "      <td>author from - description Arrangement was mad...</td>\n",
       "      <td>177.0</td>\n",
       "    </tr>\n",
       "    <tr>\n",
       "      <th>4</th>\n",
       "      <td>NewCondition NewCondition NewCondition NewCond...</td>\n",
       "      <td>108.0</td>\n",
       "    </tr>\n",
       "    <tr>\n",
       "      <th>...</th>\n",
       "      <td>...</td>\n",
       "      <td>...</td>\n",
       "    </tr>\n",
       "    <tr>\n",
       "      <th>21452</th>\n",
       "      <td>5 0 cu ft Smart Front Load Washer with Load Go...</td>\n",
       "      <td>136.0</td>\n",
       "    </tr>\n",
       "    <tr>\n",
       "      <th>21453</th>\n",
       "      <td>pricecurrency USD price 1349 99 availability ...</td>\n",
       "      <td>147.0</td>\n",
       "    </tr>\n",
       "    <tr>\n",
       "      <th>21454</th>\n",
       "      <td>name Whirlpool name GE Appliances name GE App...</td>\n",
       "      <td>34.0</td>\n",
       "    </tr>\n",
       "    <tr>\n",
       "      <th>21455</th>\n",
       "      <td>reviewcount 7 itemreviewed 5 0 cu ft Smart Fr...</td>\n",
       "      <td>16.0</td>\n",
       "    </tr>\n",
       "    <tr>\n",
       "      <th>21456</th>\n",
       "      <td>WFW9620HC JGS760SELSS GWE23GENDS LDC24370SW WE...</td>\n",
       "      <td>127.0</td>\n",
       "    </tr>\n",
       "  </tbody>\n",
       "</table>\n",
       "<p>20587 rows × 2 columns</p>\n",
       "</div>"
      ],
      "text/plain": [
       "                                                    text  label\n",
       "0      Heavenly Sentiments Spray Peaceful White Lilie...  136.0\n",
       "1       pricecurrency USD lowprice 202 95 highprice 2...  147.0\n",
       "2       reviewcount 4 ratingvalue 5 00 reviewcount 25...   16.0\n",
       "3       author from - description Arrangement was mad...  177.0\n",
       "4      NewCondition NewCondition NewCondition NewCond...  108.0\n",
       "...                                                  ...    ...\n",
       "21452  5 0 cu ft Smart Front Load Washer with Load Go...  136.0\n",
       "21453   pricecurrency USD price 1349 99 availability ...  147.0\n",
       "21454   name Whirlpool name GE Appliances name GE App...   34.0\n",
       "21455   reviewcount 7 itemreviewed 5 0 cu ft Smart Fr...   16.0\n",
       "21456  WFW9620HC JGS760SELSS GWE23GENDS LDC24370SW WE...  127.0\n",
       "\n",
       "[20587 rows x 2 columns]"
      ]
     },
     "execution_count": 11,
     "metadata": {},
     "output_type": "execute_result"
    }
   ],
   "source": [
    "medium['label'] = medium.label_complete.map(labels_new)\n",
    "\n",
    "medium.drop(['label_complete', 'name'], axis=1, inplace=True)\n",
    "medium"
   ]
  },
  {
   "cell_type": "code",
   "execution_count": 12,
   "id": "9c444df3",
   "metadata": {},
   "outputs": [],
   "source": [
    "test = test[~test['label'].isna()]"
   ]
  },
  {
   "cell_type": "code",
   "execution_count": 13,
   "id": "3d4f0ae0",
   "metadata": {},
   "outputs": [],
   "source": [
    "medium = medium[~medium['label'].isna()]"
   ]
  },
  {
   "cell_type": "code",
   "execution_count": 14,
   "id": "7ce1b367",
   "metadata": {},
   "outputs": [
    {
     "name": "stderr",
     "output_type": "stream",
     "text": [
      "/tmp/ipykernel_1523150/2755059116.py:1: SettingWithCopyWarning: \n",
      "A value is trying to be set on a copy of a slice from a DataFrame.\n",
      "Try using .loc[row_indexer,col_indexer] = value instead\n",
      "\n",
      "See the caveats in the documentation: https://pandas.pydata.org/pandas-docs/stable/user_guide/indexing.html#returning-a-view-versus-a-copy\n",
      "  test['label'] = test.label.astype(int)\n"
     ]
    }
   ],
   "source": [
    "test['label'] = test.label.astype(int)"
   ]
  },
  {
   "cell_type": "code",
   "execution_count": 15,
   "id": "6ce78946",
   "metadata": {},
   "outputs": [
    {
     "name": "stderr",
     "output_type": "stream",
     "text": [
      "/tmp/ipykernel_1523150/3777025901.py:1: SettingWithCopyWarning: \n",
      "A value is trying to be set on a copy of a slice from a DataFrame.\n",
      "Try using .loc[row_indexer,col_indexer] = value instead\n",
      "\n",
      "See the caveats in the documentation: https://pandas.pydata.org/pandas-docs/stable/user_guide/indexing.html#returning-a-view-versus-a-copy\n",
      "  medium['label'] = medium.label.astype(int)\n"
     ]
    }
   ],
   "source": [
    "medium['label'] = medium.label.astype(int)"
   ]
  },
  {
   "cell_type": "code",
   "execution_count": 16,
   "id": "76f0db47",
   "metadata": {},
   "outputs": [
    {
     "data": {
      "text/plain": [
       "199"
      ]
     },
     "execution_count": 16,
     "metadata": {},
     "output_type": "execute_result"
    }
   ],
   "source": [
    "len (test['label'].unique())"
   ]
  },
  {
   "cell_type": "code",
   "execution_count": 17,
   "id": "322516e5",
   "metadata": {},
   "outputs": [
    {
     "data": {
      "text/plain": [
       "199"
      ]
     },
     "execution_count": 17,
     "metadata": {},
     "output_type": "execute_result"
    }
   ],
   "source": [
    "len (medium['label'].unique())"
   ]
  },
  {
   "cell_type": "code",
   "execution_count": 18,
   "id": "a1b1c675",
   "metadata": {},
   "outputs": [],
   "source": [
    "med_list = medium['label'].unique()"
   ]
  },
  {
   "cell_type": "code",
   "execution_count": 19,
   "id": "2d19ea29",
   "metadata": {},
   "outputs": [],
   "source": [
    "test_list = test['label'].unique()"
   ]
  },
  {
   "cell_type": "code",
   "execution_count": 20,
   "id": "341de8d1",
   "metadata": {},
   "outputs": [
    {
     "data": {
      "text/plain": [
       "set()"
      ]
     },
     "execution_count": 20,
     "metadata": {},
     "output_type": "execute_result"
    }
   ],
   "source": [
    "set(test_list) - set(med_list)"
   ]
  },
  {
   "cell_type": "code",
   "execution_count": 21,
   "id": "db0a34e2",
   "metadata": {},
   "outputs": [
    {
     "data": {
      "text/plain": [
       "set()"
      ]
     },
     "execution_count": 21,
     "metadata": {},
     "output_type": "execute_result"
    }
   ],
   "source": [
    "set(med_list) - set(test_list)"
   ]
  },
  {
   "cell_type": "code",
   "execution_count": 23,
   "id": "98e16b99",
   "metadata": {},
   "outputs": [
    {
     "data": {
      "text/plain": [
       "True"
      ]
     },
     "execution_count": 23,
     "metadata": {},
     "output_type": "execute_result"
    }
   ],
   "source": [
    "sorted(medium.label.unique()) ==sorted(test.label.unique())"
   ]
  },
  {
   "cell_type": "markdown",
   "id": "755d692a",
   "metadata": {},
   "source": [
    "# Read in mid set "
   ]
  },
  {
   "cell_type": "code",
   "execution_count": 25,
   "id": "197d12ad",
   "metadata": {},
   "outputs": [],
   "source": [
    "test.to_csv('../../../src/data/schemafiltereddata/TrainTestTables/tinybert/test_tables_prepped.csv', index=False)"
   ]
  },
  {
   "cell_type": "code",
   "execution_count": 26,
   "id": "82cc00ba",
   "metadata": {},
   "outputs": [],
   "source": [
    "medium.to_csv('../../../src/data/schemafiltereddata/TrainTestTables/tinybert/medium_train_tables_prepped.csv', index=False)"
   ]
  },
  {
   "cell_type": "code",
   "execution_count": 2,
   "id": "1b97b84e",
   "metadata": {},
   "outputs": [],
   "source": [
    "test_med = pd.read_csv('../../../src/data/schemafiltereddata/TrainTestTables/tinybert/test_tables_prepped.csv')"
   ]
  },
  {
   "cell_type": "code",
   "execution_count": 10,
   "id": "daecdba3",
   "metadata": {},
   "outputs": [],
   "source": [
    "# 2 epochs\n",
    "\n",
    "pred_med = pd.read_csv('../../../src/data/schemafiltereddata/TrainTestTables/tinybert/predict_results_None.txt', sep='\\t')"
   ]
  },
  {
   "cell_type": "code",
   "execution_count": 3,
   "id": "dd08644d",
   "metadata": {},
   "outputs": [],
   "source": [
    "from sklearn.metrics import f1_score\n",
    "import pandas as pd\n",
    "from matplotlib.pyplot import figure"
   ]
  },
  {
   "cell_type": "code",
   "execution_count": 12,
   "id": "77a2eea8",
   "metadata": {},
   "outputs": [
    {
     "data": {
      "text/plain": [
       "0.5623171083542843"
      ]
     },
     "execution_count": 12,
     "metadata": {},
     "output_type": "execute_result"
    }
   ],
   "source": [
    "f1_score(pred_med.prediction, test_med.label, average='micro')"
   ]
  },
  {
   "cell_type": "code",
   "execution_count": 3,
   "id": "16b990cb",
   "metadata": {},
   "outputs": [],
   "source": [
    "pred_med = pd.read_csv('../../../src/data/schemafiltereddata/TrainTestTables/tinybert/predict_results_None.txt', sep='\\t')"
   ]
  },
  {
   "cell_type": "code",
   "execution_count": 4,
   "id": "097be53e",
   "metadata": {},
   "outputs": [],
   "source": [
    "from sklearn.metrics import f1_score\n",
    "import pandas as pd\n",
    "from matplotlib.pyplot import figure"
   ]
  },
  {
   "cell_type": "code",
   "execution_count": 5,
   "id": "29353b94",
   "metadata": {},
   "outputs": [
    {
     "data": {
      "text/plain": [
       "0.7050653258047233"
      ]
     },
     "execution_count": 5,
     "metadata": {},
     "output_type": "execute_result"
    }
   ],
   "source": [
    "f1_score(pred_med.prediction, test_med.label, average='micro')"
   ]
  },
  {
   "cell_type": "markdown",
   "id": "9b156b53",
   "metadata": {},
   "source": [
    "# Small"
   ]
  },
  {
   "cell_type": "code",
   "execution_count": 14,
   "id": "9cbcfacb",
   "metadata": {},
   "outputs": [],
   "source": [
    "small = pd.read_csv('../../../src/data/schemafiltereddata/TrainTestTables/CSV/small_tables_seq.csv')"
   ]
  },
  {
   "cell_type": "code",
   "execution_count": 15,
   "id": "c94e8bdf",
   "metadata": {},
   "outputs": [
    {
     "data": {
      "text/html": [
       "<div>\n",
       "<style scoped>\n",
       "    .dataframe tbody tr th:only-of-type {\n",
       "        vertical-align: middle;\n",
       "    }\n",
       "\n",
       "    .dataframe tbody tr th {\n",
       "        vertical-align: top;\n",
       "    }\n",
       "\n",
       "    .dataframe thead th {\n",
       "        text-align: right;\n",
       "    }\n",
       "</style>\n",
       "<table border=\"1\" class=\"dataframe\">\n",
       "  <thead>\n",
       "    <tr style=\"text-align: right;\">\n",
       "      <th></th>\n",
       "      <th>Unnamed: 0</th>\n",
       "      <th>text</th>\n",
       "      <th>name</th>\n",
       "      <th>class</th>\n",
       "      <th>label_complete</th>\n",
       "    </tr>\n",
       "  </thead>\n",
       "  <tbody>\n",
       "    <tr>\n",
       "      <th>0</th>\n",
       "      <td>0</td>\n",
       "      <td>Heavenly Sentiments Spray Peaceful White Lilie...</td>\n",
       "      <td>name</td>\n",
       "      <td>Product</td>\n",
       "      <td>nameProduct</td>\n",
       "    </tr>\n",
       "    <tr>\n",
       "      <th>1</th>\n",
       "      <td>1</td>\n",
       "      <td>{'pricecurrency': 'USD', 'lowprice': '202.95',...</td>\n",
       "      <td>offers</td>\n",
       "      <td>Product</td>\n",
       "      <td>offersProduct</td>\n",
       "    </tr>\n",
       "    <tr>\n",
       "      <th>2</th>\n",
       "      <td>2</td>\n",
       "      <td>{'reviewcount': '4', 'ratingvalue': '5.00'},{'...</td>\n",
       "      <td>aggregaterating</td>\n",
       "      <td>Product</td>\n",
       "      <td>aggregateratingProduct</td>\n",
       "    </tr>\n",
       "    <tr>\n",
       "      <th>3</th>\n",
       "      <td>3</td>\n",
       "      <td>[{'author': 'from -', 'description': 'Arrangem...</td>\n",
       "      <td>review</td>\n",
       "      <td>Product</td>\n",
       "      <td>reviewProduct</td>\n",
       "    </tr>\n",
       "    <tr>\n",
       "      <th>4</th>\n",
       "      <td>4</td>\n",
       "      <td>NewCondition NewCondition NewCondition NewCond...</td>\n",
       "      <td>itemcondition</td>\n",
       "      <td>Product</td>\n",
       "      <td>itemconditionProduct</td>\n",
       "    </tr>\n",
       "    <tr>\n",
       "      <th>...</th>\n",
       "      <td>...</td>\n",
       "      <td>...</td>\n",
       "      <td>...</td>\n",
       "      <td>...</td>\n",
       "      <td>...</td>\n",
       "    </tr>\n",
       "    <tr>\n",
       "      <th>13231</th>\n",
       "      <td>13231</td>\n",
       "      <td>{'name': 'Бахрах-М', 'address': 'Россия'},{'ad...</td>\n",
       "      <td>publisher</td>\n",
       "      <td>Book</td>\n",
       "      <td>publisherBook</td>\n",
       "    </tr>\n",
       "    <tr>\n",
       "      <th>13232</th>\n",
       "      <td>13232</td>\n",
       "      <td>{'pricecurrency': 'RUB', 'availability': 'http...</td>\n",
       "      <td>offers</td>\n",
       "      <td>Book</td>\n",
       "      <td>offersBook</td>\n",
       "    </tr>\n",
       "    <tr>\n",
       "      <th>13233</th>\n",
       "      <td>13233</td>\n",
       "      <td>2011.0,2016.0,2006.0,2018.0,2016.0,2020.0,2013...</td>\n",
       "      <td>datepublished</td>\n",
       "      <td>Book</td>\n",
       "      <td>datepublishedBook</td>\n",
       "    </tr>\n",
       "    <tr>\n",
       "      <th>13234</th>\n",
       "      <td>13234</td>\n",
       "      <td>736 140 560 208 208 32 288   576 272 264 286 2...</td>\n",
       "      <td>numberofpages</td>\n",
       "      <td>Book</td>\n",
       "      <td>numberofpagesBook</td>\n",
       "    </tr>\n",
       "    <tr>\n",
       "      <th>13235</th>\n",
       "      <td>13235</td>\n",
       "      <td>Hardcover Hardcover Ebook Hardcover Hardcover ...</td>\n",
       "      <td>bookformat</td>\n",
       "      <td>Book</td>\n",
       "      <td>bookformatBook</td>\n",
       "    </tr>\n",
       "  </tbody>\n",
       "</table>\n",
       "<p>13236 rows × 5 columns</p>\n",
       "</div>"
      ],
      "text/plain": [
       "       Unnamed: 0                                               text  \\\n",
       "0               0  Heavenly Sentiments Spray Peaceful White Lilie...   \n",
       "1               1  {'pricecurrency': 'USD', 'lowprice': '202.95',...   \n",
       "2               2  {'reviewcount': '4', 'ratingvalue': '5.00'},{'...   \n",
       "3               3  [{'author': 'from -', 'description': 'Arrangem...   \n",
       "4               4  NewCondition NewCondition NewCondition NewCond...   \n",
       "...           ...                                                ...   \n",
       "13231       13231  {'name': 'Бахрах-М', 'address': 'Россия'},{'ad...   \n",
       "13232       13232  {'pricecurrency': 'RUB', 'availability': 'http...   \n",
       "13233       13233  2011.0,2016.0,2006.0,2018.0,2016.0,2020.0,2013...   \n",
       "13234       13234  736 140 560 208 208 32 288   576 272 264 286 2...   \n",
       "13235       13235  Hardcover Hardcover Ebook Hardcover Hardcover ...   \n",
       "\n",
       "                  name    class          label_complete  \n",
       "0                 name  Product             nameProduct  \n",
       "1               offers  Product           offersProduct  \n",
       "2      aggregaterating  Product  aggregateratingProduct  \n",
       "3               review  Product           reviewProduct  \n",
       "4        itemcondition  Product    itemconditionProduct  \n",
       "...                ...      ...                     ...  \n",
       "13231        publisher     Book           publisherBook  \n",
       "13232           offers     Book              offersBook  \n",
       "13233    datepublished     Book       datepublishedBook  \n",
       "13234    numberofpages     Book       numberofpagesBook  \n",
       "13235       bookformat     Book          bookformatBook  \n",
       "\n",
       "[13236 rows x 5 columns]"
      ]
     },
     "execution_count": 15,
     "metadata": {},
     "output_type": "execute_result"
    }
   ],
   "source": [
    "small.drop(small[(small['name']=='inalbum') &(small['class']=='MusicRecording')].index, inplace=True)\n",
    "small.drop(small[(small['name']=='performer') &(small['class']=='Event')].index, inplace=True)\n",
    "small.drop(small[(small['name']=='eventattendancemode') &(small['class']=='Event')].index, inplace=True)\n",
    "small.drop(small[(small['name']=='eventstatus') &(small['class']=='Event')].index, inplace=True)\n",
    "small.drop(small[(small['name']=='owns') &(small['class']=='LocalBusiness')].index, inplace=True)\n",
    "small[\"label_complete\"] = small[\"name\"] + small[\"class\"]\n",
    "num_columns = len(set.union(set(small.label_complete.unique())))\n",
    "small"
   ]
  },
  {
   "cell_type": "code",
   "execution_count": 16,
   "id": "daa21c41",
   "metadata": {},
   "outputs": [
    {
     "data": {
      "text/html": [
       "<div>\n",
       "<style scoped>\n",
       "    .dataframe tbody tr th:only-of-type {\n",
       "        vertical-align: middle;\n",
       "    }\n",
       "\n",
       "    .dataframe tbody tr th {\n",
       "        vertical-align: top;\n",
       "    }\n",
       "\n",
       "    .dataframe thead th {\n",
       "        text-align: right;\n",
       "    }\n",
       "</style>\n",
       "<table border=\"1\" class=\"dataframe\">\n",
       "  <thead>\n",
       "    <tr style=\"text-align: right;\">\n",
       "      <th></th>\n",
       "      <th>Unnamed: 0</th>\n",
       "      <th>text</th>\n",
       "      <th>name</th>\n",
       "      <th>class</th>\n",
       "      <th>label_complete</th>\n",
       "    </tr>\n",
       "  </thead>\n",
       "  <tbody>\n",
       "    <tr>\n",
       "      <th>0</th>\n",
       "      <td>0</td>\n",
       "      <td>Plauen | Indonesien Freiburg | Iraq-Kurdistan ...</td>\n",
       "      <td>name</td>\n",
       "      <td>Event</td>\n",
       "      <td>nameEvent</td>\n",
       "    </tr>\n",
       "    <tr>\n",
       "      <th>1</th>\n",
       "      <td>1</td>\n",
       "      <td>2022-03-27T16:30:00+01:00 2020-11-15T22:00:00+...</td>\n",
       "      <td>enddate</td>\n",
       "      <td>Event</td>\n",
       "      <td>enddateEvent</td>\n",
       "    </tr>\n",
       "    <tr>\n",
       "      <th>2</th>\n",
       "      <td>2</td>\n",
       "      <td>{'name': 'Abenteuer Arena'},{'name': 'Paulussa...</td>\n",
       "      <td>location</td>\n",
       "      <td>Event</td>\n",
       "      <td>locationEvent</td>\n",
       "    </tr>\n",
       "    <tr>\n",
       "      <th>3</th>\n",
       "      <td>3</td>\n",
       "      <td>{'name': 'Freiträumer Festival'},{'name': 'MUN...</td>\n",
       "      <td>organizer</td>\n",
       "      <td>Event</td>\n",
       "      <td>organizerEvent</td>\n",
       "    </tr>\n",
       "    <tr>\n",
       "      <th>4</th>\n",
       "      <td>4</td>\n",
       "      <td>Máy làm kem Sunny Way RB1119A TỦ MÁT 2 CÁNH KÍ...</td>\n",
       "      <td>name</td>\n",
       "      <td>Product</td>\n",
       "      <td>nameProduct</td>\n",
       "    </tr>\n",
       "    <tr>\n",
       "      <th>...</th>\n",
       "      <td>...</td>\n",
       "      <td>...</td>\n",
       "      <td>...</td>\n",
       "      <td>...</td>\n",
       "      <td>...</td>\n",
       "    </tr>\n",
       "    <tr>\n",
       "      <th>48530</th>\n",
       "      <td>48530</td>\n",
       "      <td>{'name': 'Virtually'},{'name': 'Virtually'},{'...</td>\n",
       "      <td>location</td>\n",
       "      <td>Event</td>\n",
       "      <td>locationEvent</td>\n",
       "    </tr>\n",
       "    <tr>\n",
       "      <th>48531</th>\n",
       "      <td>48531</td>\n",
       "      <td>{'email': 'c&amp;#104;i&amp;#108;&amp;#100;&amp;#114;&amp;#101;n&amp;#...</td>\n",
       "      <td>organizer</td>\n",
       "      <td>Event</td>\n",
       "      <td>organizerEvent</td>\n",
       "    </tr>\n",
       "    <tr>\n",
       "      <th>48532</th>\n",
       "      <td>48532</td>\n",
       "      <td>Marina Olivier Celia Tatjana Valentine Gaia Ré...</td>\n",
       "      <td>givenname</td>\n",
       "      <td>Person</td>\n",
       "      <td>givennamePerson</td>\n",
       "    </tr>\n",
       "    <tr>\n",
       "      <th>48533</th>\n",
       "      <td>48533</td>\n",
       "      <td>Shunina de LAGARDE van der Beek Mavrenko BOITE...</td>\n",
       "      <td>familyname</td>\n",
       "      <td>Person</td>\n",
       "      <td>familynamePerson</td>\n",
       "    </tr>\n",
       "    <tr>\n",
       "      <th>48534</th>\n",
       "      <td>48534</td>\n",
       "      <td>01 55 23 08 08 +34 934 637 114 +37120234640 ...</td>\n",
       "      <td>telephone</td>\n",
       "      <td>Person</td>\n",
       "      <td>telephonePerson</td>\n",
       "    </tr>\n",
       "  </tbody>\n",
       "</table>\n",
       "<p>48535 rows × 5 columns</p>\n",
       "</div>"
      ],
      "text/plain": [
       "       Unnamed: 0                                               text  \\\n",
       "0               0  Plauen | Indonesien Freiburg | Iraq-Kurdistan ...   \n",
       "1               1  2022-03-27T16:30:00+01:00 2020-11-15T22:00:00+...   \n",
       "2               2  {'name': 'Abenteuer Arena'},{'name': 'Paulussa...   \n",
       "3               3  {'name': 'Freiträumer Festival'},{'name': 'MUN...   \n",
       "4               4  Máy làm kem Sunny Way RB1119A TỦ MÁT 2 CÁNH KÍ...   \n",
       "...           ...                                                ...   \n",
       "48530       48530  {'name': 'Virtually'},{'name': 'Virtually'},{'...   \n",
       "48531       48531  {'email': 'c&#104;i&#108;&#100;&#114;&#101;n&#...   \n",
       "48532       48532  Marina Olivier Celia Tatjana Valentine Gaia Ré...   \n",
       "48533       48533  Shunina de LAGARDE van der Beek Mavrenko BOITE...   \n",
       "48534       48534    01 55 23 08 08 +34 934 637 114 +37120234640 ...   \n",
       "\n",
       "             name    class    label_complete  \n",
       "0            name    Event         nameEvent  \n",
       "1         enddate    Event      enddateEvent  \n",
       "2        location    Event     locationEvent  \n",
       "3       organizer    Event    organizerEvent  \n",
       "4            name  Product       nameProduct  \n",
       "...           ...      ...               ...  \n",
       "48530    location    Event     locationEvent  \n",
       "48531   organizer    Event    organizerEvent  \n",
       "48532   givenname   Person   givennamePerson  \n",
       "48533  familyname   Person  familynamePerson  \n",
       "48534   telephone   Person   telephonePerson  \n",
       "\n",
       "[48535 rows x 5 columns]"
      ]
     },
     "execution_count": 16,
     "metadata": {},
     "output_type": "execute_result"
    }
   ],
   "source": [
    "test = pd.read_csv('../../../src/data/schemafiltereddata/TrainTestTables/test_tables_seq_9000.csv')\n",
    "test.drop(test[(test['name']=='inalbum') &(test['class']=='MusicRecording')].index, inplace=True)\n",
    "test.drop(test[(test['name']=='performer') &(test['class']=='Event')].index, inplace=True)\n",
    "test.drop(test[(test['name']=='eventattendancemode') &(test['class']=='Event')].index, inplace=True)\n",
    "test.drop(test[(test['name']=='eventstatus') &(test['class']=='Event')].index, inplace=True)\n",
    "test.drop(test[(test['name']=='owns') &(test['class']=='LocalBusiness')].index, inplace=True)\n",
    "test[\"label_complete\"] = test[\"name\"] + test[\"class\"]\n",
    "num_columns = len(set.union(set(test.label_complete.unique())))\n",
    "test"
   ]
  },
  {
   "cell_type": "code",
   "execution_count": 17,
   "id": "4a2d653f",
   "metadata": {},
   "outputs": [],
   "source": [
    "test.drop(['Unnamed: 0','class'], axis=1, inplace=True)\n",
    "test['text'] = test.text.apply(lambda x: re.sub(\"[^0-9a-zA-Z-@]+\", \" \", x))"
   ]
  },
  {
   "cell_type": "code",
   "execution_count": 18,
   "id": "6db52002",
   "metadata": {},
   "outputs": [],
   "source": [
    "small.drop(['Unnamed: 0','class'], axis=1, inplace=True)\n",
    "small['text'] = small.text.apply(lambda x: re.sub(\"[^0-9a-zA-Z-@]+\", \" \", x))"
   ]
  },
  {
   "cell_type": "code",
   "execution_count": 22,
   "id": "42f9cb0c",
   "metadata": {},
   "outputs": [
    {
     "data": {
      "text/html": [
       "<div>\n",
       "<style scoped>\n",
       "    .dataframe tbody tr th:only-of-type {\n",
       "        vertical-align: middle;\n",
       "    }\n",
       "\n",
       "    .dataframe tbody tr th {\n",
       "        vertical-align: top;\n",
       "    }\n",
       "\n",
       "    .dataframe thead th {\n",
       "        text-align: right;\n",
       "    }\n",
       "</style>\n",
       "<table border=\"1\" class=\"dataframe\">\n",
       "  <thead>\n",
       "    <tr style=\"text-align: right;\">\n",
       "      <th></th>\n",
       "      <th>text</th>\n",
       "      <th>label</th>\n",
       "    </tr>\n",
       "  </thead>\n",
       "  <tbody>\n",
       "    <tr>\n",
       "      <th>0</th>\n",
       "      <td>Plauen Indonesien Freiburg Iraq-Kurdistan Boch...</td>\n",
       "      <td>130.0</td>\n",
       "    </tr>\n",
       "    <tr>\n",
       "      <th>1</th>\n",
       "      <td>2022-03-27T16 30 00 01 00 2020-11-15T22 00 00 ...</td>\n",
       "      <td>68.0</td>\n",
       "    </tr>\n",
       "    <tr>\n",
       "      <th>2</th>\n",
       "      <td>name Abenteuer Arena name Paulussaal name Deu...</td>\n",
       "      <td>115.0</td>\n",
       "    </tr>\n",
       "    <tr>\n",
       "      <th>3</th>\n",
       "      <td>name Freitr umer Festival name MUNDOlogia nam...</td>\n",
       "      <td>153.0</td>\n",
       "    </tr>\n",
       "    <tr>\n",
       "      <th>4</th>\n",
       "      <td>M y l m kem Sunny Way RB1119A T M T 2 C NH K N...</td>\n",
       "      <td>136.0</td>\n",
       "    </tr>\n",
       "    <tr>\n",
       "      <th>...</th>\n",
       "      <td>...</td>\n",
       "      <td>...</td>\n",
       "    </tr>\n",
       "    <tr>\n",
       "      <th>48530</th>\n",
       "      <td>name Virtually name Virtually name Virtually ...</td>\n",
       "      <td>115.0</td>\n",
       "    </tr>\n",
       "    <tr>\n",
       "      <th>48531</th>\n",
       "      <td>email c 104 i 108 100 114 101 n 115 st 97 f 1...</td>\n",
       "      <td>153.0</td>\n",
       "    </tr>\n",
       "    <tr>\n",
       "      <th>48532</th>\n",
       "      <td>Marina Olivier Celia Tatjana Valentine Gaia R ...</td>\n",
       "      <td>83.0</td>\n",
       "    </tr>\n",
       "    <tr>\n",
       "      <th>48533</th>\n",
       "      <td>Shunina de LAGARDE van der Beek Mavrenko BOITE...</td>\n",
       "      <td>71.0</td>\n",
       "    </tr>\n",
       "    <tr>\n",
       "      <th>48534</th>\n",
       "      <td>01 55 23 08 08 34 934 637 114 37120234640 33 ...</td>\n",
       "      <td>191.0</td>\n",
       "    </tr>\n",
       "  </tbody>\n",
       "</table>\n",
       "<p>48535 rows × 2 columns</p>\n",
       "</div>"
      ],
      "text/plain": [
       "                                                    text  label\n",
       "0      Plauen Indonesien Freiburg Iraq-Kurdistan Boch...  130.0\n",
       "1      2022-03-27T16 30 00 01 00 2020-11-15T22 00 00 ...   68.0\n",
       "2       name Abenteuer Arena name Paulussaal name Deu...  115.0\n",
       "3       name Freitr umer Festival name MUNDOlogia nam...  153.0\n",
       "4      M y l m kem Sunny Way RB1119A T M T 2 C NH K N...  136.0\n",
       "...                                                  ...    ...\n",
       "48530   name Virtually name Virtually name Virtually ...  115.0\n",
       "48531   email c 104 i 108 100 114 101 n 115 st 97 f 1...  153.0\n",
       "48532  Marina Olivier Celia Tatjana Valentine Gaia R ...   83.0\n",
       "48533  Shunina de LAGARDE van der Beek Mavrenko BOITE...   71.0\n",
       "48534   01 55 23 08 08 34 934 637 114 37120234640 33 ...  191.0\n",
       "\n",
       "[48535 rows x 2 columns]"
      ]
     },
     "execution_count": 22,
     "metadata": {},
     "output_type": "execute_result"
    }
   ],
   "source": [
    "test['label'] = test.label_complete.map(labels_new)\n",
    "\n",
    "test.drop(['label_complete', 'name'], axis=1, inplace=True)\n",
    "test"
   ]
  },
  {
   "cell_type": "code",
   "execution_count": 23,
   "id": "78f16718",
   "metadata": {},
   "outputs": [
    {
     "data": {
      "text/html": [
       "<div>\n",
       "<style scoped>\n",
       "    .dataframe tbody tr th:only-of-type {\n",
       "        vertical-align: middle;\n",
       "    }\n",
       "\n",
       "    .dataframe tbody tr th {\n",
       "        vertical-align: top;\n",
       "    }\n",
       "\n",
       "    .dataframe thead th {\n",
       "        text-align: right;\n",
       "    }\n",
       "</style>\n",
       "<table border=\"1\" class=\"dataframe\">\n",
       "  <thead>\n",
       "    <tr style=\"text-align: right;\">\n",
       "      <th></th>\n",
       "      <th>text</th>\n",
       "      <th>label</th>\n",
       "    </tr>\n",
       "  </thead>\n",
       "  <tbody>\n",
       "    <tr>\n",
       "      <th>0</th>\n",
       "      <td>Heavenly Sentiments Spray Peaceful White Lilie...</td>\n",
       "      <td>136.0</td>\n",
       "    </tr>\n",
       "    <tr>\n",
       "      <th>1</th>\n",
       "      <td>pricecurrency USD lowprice 202 95 highprice 2...</td>\n",
       "      <td>147.0</td>\n",
       "    </tr>\n",
       "    <tr>\n",
       "      <th>2</th>\n",
       "      <td>reviewcount 4 ratingvalue 5 00 reviewcount 25...</td>\n",
       "      <td>16.0</td>\n",
       "    </tr>\n",
       "    <tr>\n",
       "      <th>3</th>\n",
       "      <td>author from - description Arrangement was mad...</td>\n",
       "      <td>177.0</td>\n",
       "    </tr>\n",
       "    <tr>\n",
       "      <th>4</th>\n",
       "      <td>NewCondition NewCondition NewCondition NewCond...</td>\n",
       "      <td>108.0</td>\n",
       "    </tr>\n",
       "    <tr>\n",
       "      <th>...</th>\n",
       "      <td>...</td>\n",
       "      <td>...</td>\n",
       "    </tr>\n",
       "    <tr>\n",
       "      <th>13231</th>\n",
       "      <td>name - address address name name - address na...</td>\n",
       "      <td>166.0</td>\n",
       "    </tr>\n",
       "    <tr>\n",
       "      <th>13232</th>\n",
       "      <td>pricecurrency RUB availability http schema or...</td>\n",
       "      <td>145.0</td>\n",
       "    </tr>\n",
       "    <tr>\n",
       "      <th>13233</th>\n",
       "      <td>2011 0 2016 0 2006 0 2018 0 2016 0 2020 0 2013...</td>\n",
       "      <td>54.0</td>\n",
       "    </tr>\n",
       "    <tr>\n",
       "      <th>13234</th>\n",
       "      <td>736 140 560 208 208 32 288 576 272 264 286 229...</td>\n",
       "      <td>141.0</td>\n",
       "    </tr>\n",
       "    <tr>\n",
       "      <th>13235</th>\n",
       "      <td>Hardcover Hardcover Ebook Hardcover Hardcover ...</td>\n",
       "      <td>33.0</td>\n",
       "    </tr>\n",
       "  </tbody>\n",
       "</table>\n",
       "<p>13236 rows × 2 columns</p>\n",
       "</div>"
      ],
      "text/plain": [
       "                                                    text  label\n",
       "0      Heavenly Sentiments Spray Peaceful White Lilie...  136.0\n",
       "1       pricecurrency USD lowprice 202 95 highprice 2...  147.0\n",
       "2       reviewcount 4 ratingvalue 5 00 reviewcount 25...   16.0\n",
       "3       author from - description Arrangement was mad...  177.0\n",
       "4      NewCondition NewCondition NewCondition NewCond...  108.0\n",
       "...                                                  ...    ...\n",
       "13231   name - address address name name - address na...  166.0\n",
       "13232   pricecurrency RUB availability http schema or...  145.0\n",
       "13233  2011 0 2016 0 2006 0 2018 0 2016 0 2020 0 2013...   54.0\n",
       "13234  736 140 560 208 208 32 288 576 272 264 286 229...  141.0\n",
       "13235  Hardcover Hardcover Ebook Hardcover Hardcover ...   33.0\n",
       "\n",
       "[13236 rows x 2 columns]"
      ]
     },
     "execution_count": 23,
     "metadata": {},
     "output_type": "execute_result"
    }
   ],
   "source": [
    "small['label'] = small.label_complete.map(labels_new)\n",
    "\n",
    "small.drop(['label_complete', 'name'], axis=1, inplace=True)\n",
    "small"
   ]
  },
  {
   "cell_type": "code",
   "execution_count": 24,
   "id": "4cec171f",
   "metadata": {},
   "outputs": [],
   "source": [
    "test = test[~test['label'].isna()]"
   ]
  },
  {
   "cell_type": "code",
   "execution_count": 25,
   "id": "2442be40",
   "metadata": {},
   "outputs": [],
   "source": [
    "small = small[~small['label'].isna()]"
   ]
  },
  {
   "cell_type": "code",
   "execution_count": 26,
   "id": "9e460388",
   "metadata": {},
   "outputs": [
    {
     "name": "stderr",
     "output_type": "stream",
     "text": [
      "/tmp/ipykernel_1526305/2755059116.py:1: SettingWithCopyWarning: \n",
      "A value is trying to be set on a copy of a slice from a DataFrame.\n",
      "Try using .loc[row_indexer,col_indexer] = value instead\n",
      "\n",
      "See the caveats in the documentation: https://pandas.pydata.org/pandas-docs/stable/user_guide/indexing.html#returning-a-view-versus-a-copy\n",
      "  test['label'] = test.label.astype(int)\n"
     ]
    }
   ],
   "source": [
    "test['label'] = test.label.astype(int)"
   ]
  },
  {
   "cell_type": "code",
   "execution_count": 27,
   "id": "4b21d18b",
   "metadata": {},
   "outputs": [
    {
     "name": "stderr",
     "output_type": "stream",
     "text": [
      "/tmp/ipykernel_1526305/1106728590.py:1: SettingWithCopyWarning: \n",
      "A value is trying to be set on a copy of a slice from a DataFrame.\n",
      "Try using .loc[row_indexer,col_indexer] = value instead\n",
      "\n",
      "See the caveats in the documentation: https://pandas.pydata.org/pandas-docs/stable/user_guide/indexing.html#returning-a-view-versus-a-copy\n",
      "  small['label'] = small.label.astype(int)\n"
     ]
    }
   ],
   "source": [
    "small['label'] = small.label.astype(int)"
   ]
  },
  {
   "cell_type": "code",
   "execution_count": 28,
   "id": "66b7c845",
   "metadata": {},
   "outputs": [
    {
     "data": {
      "text/plain": [
       "199"
      ]
     },
     "execution_count": 28,
     "metadata": {},
     "output_type": "execute_result"
    }
   ],
   "source": [
    "len (test['label'].unique())"
   ]
  },
  {
   "cell_type": "code",
   "execution_count": 29,
   "id": "fdf0315e",
   "metadata": {},
   "outputs": [
    {
     "data": {
      "text/plain": [
       "199"
      ]
     },
     "execution_count": 29,
     "metadata": {},
     "output_type": "execute_result"
    }
   ],
   "source": [
    "len (small['label'].unique())"
   ]
  },
  {
   "cell_type": "code",
   "execution_count": 30,
   "id": "116fd5e1",
   "metadata": {},
   "outputs": [],
   "source": [
    "small_list = small['label'].unique()"
   ]
  },
  {
   "cell_type": "code",
   "execution_count": 31,
   "id": "4d4285bb",
   "metadata": {},
   "outputs": [],
   "source": [
    "test_list = test['label'].unique()"
   ]
  },
  {
   "cell_type": "code",
   "execution_count": 32,
   "id": "290c2d9f",
   "metadata": {},
   "outputs": [
    {
     "data": {
      "text/plain": [
       "set()"
      ]
     },
     "execution_count": 32,
     "metadata": {},
     "output_type": "execute_result"
    }
   ],
   "source": [
    "set(test_list) - set(small_list)"
   ]
  },
  {
   "cell_type": "code",
   "execution_count": 33,
   "id": "279abc74",
   "metadata": {},
   "outputs": [
    {
     "data": {
      "text/plain": [
       "set()"
      ]
     },
     "execution_count": 33,
     "metadata": {},
     "output_type": "execute_result"
    }
   ],
   "source": [
    "set(small_list) - set(test_list)"
   ]
  },
  {
   "cell_type": "code",
   "execution_count": 34,
   "id": "3959189d",
   "metadata": {},
   "outputs": [
    {
     "data": {
      "text/plain": [
       "True"
      ]
     },
     "execution_count": 34,
     "metadata": {},
     "output_type": "execute_result"
    }
   ],
   "source": [
    "sorted(small.label.unique()) ==sorted(test.label.unique())"
   ]
  },
  {
   "cell_type": "code",
   "execution_count": 35,
   "id": "c043b4a5",
   "metadata": {},
   "outputs": [],
   "source": [
    "test.to_csv('../../../src/data/schemafiltereddata/TrainTestTables/tinybert/test_tables_prepped_small.csv', index=False)"
   ]
  },
  {
   "cell_type": "code",
   "execution_count": 36,
   "id": "ca0a08d9",
   "metadata": {},
   "outputs": [],
   "source": [
    "small.to_csv('../../../src/data/schemafiltereddata/TrainTestTables/tinybert/small_train_tables_prepped.csv', index=False)"
   ]
  },
  {
   "cell_type": "markdown",
   "id": "8706dca6",
   "metadata": {},
   "source": [
    "# Eval small"
   ]
  },
  {
   "cell_type": "code",
   "execution_count": 7,
   "id": "8d8f1cbe",
   "metadata": {},
   "outputs": [],
   "source": [
    "from sklearn.metrics import f1_score\n",
    "import pandas as pd\n",
    "from matplotlib.pyplot import figure"
   ]
  },
  {
   "cell_type": "code",
   "execution_count": 8,
   "id": "c457ca51",
   "metadata": {},
   "outputs": [],
   "source": [
    "test_small = pd.read_csv('../../../src/data/schemafiltereddata/TrainTestTables/tinybert/test_tables_prepped_small.csv')"
   ]
  },
  {
   "cell_type": "code",
   "execution_count": 9,
   "id": "1c0868ff",
   "metadata": {},
   "outputs": [],
   "source": [
    "pred_small = pd.read_csv('../../../src/data/schemafiltereddata/TrainTestTables/tinybert/predict_small.txt', sep='\\t')"
   ]
  },
  {
   "cell_type": "code",
   "execution_count": 11,
   "id": "5f395924",
   "metadata": {},
   "outputs": [
    {
     "data": {
      "text/plain": [
       "0.6908873593537485"
      ]
     },
     "execution_count": 11,
     "metadata": {},
     "output_type": "execute_result"
    }
   ],
   "source": [
    "f1_score(pred_small.prediction, test_small.label, average='micro')"
   ]
  },
  {
   "cell_type": "code",
   "execution_count": null,
   "id": "a70cb99e",
   "metadata": {},
   "outputs": [],
   "source": []
  }
 ],
 "metadata": {
  "kernelspec": {
   "display_name": "Python 3 (ipykernel)",
   "language": "python",
   "name": "python3"
  },
  "language_info": {
   "codemirror_mode": {
    "name": "ipython",
    "version": 3
   },
   "file_extension": ".py",
   "mimetype": "text/x-python",
   "name": "python",
   "nbconvert_exporter": "python",
   "pygments_lexer": "ipython3",
   "version": "3.8.8"
  }
 },
 "nbformat": 4,
 "nbformat_minor": 5
}
