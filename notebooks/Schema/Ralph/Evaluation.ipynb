{
 "cells": [
  {
   "cell_type": "code",
   "execution_count": 5,
   "id": "8ae5a94e",
   "metadata": {},
   "outputs": [],
   "source": [
    "from sklearn.metrics import f1_score\n",
    "import pandas as pd\n",
    "from matplotlib.pyplot import figure"
   ]
  },
  {
   "cell_type": "code",
   "execution_count": 6,
   "id": "ea7d58ff",
   "metadata": {},
   "outputs": [],
   "source": [
    "big_res = pd.read_csv('/work-ceph/bizer-tp2021/data_integration_using_deep_learning/Subfolder_contrastive_learning/Use_case_schema/results/output_large.csv')"
   ]
  },
  {
   "cell_type": "code",
   "execution_count": 7,
   "id": "69616308",
   "metadata": {},
   "outputs": [
    {
     "data": {
      "text/html": [
       "<div>\n",
       "<style scoped>\n",
       "    .dataframe tbody tr th:only-of-type {\n",
       "        vertical-align: middle;\n",
       "    }\n",
       "\n",
       "    .dataframe tbody tr th {\n",
       "        vertical-align: top;\n",
       "    }\n",
       "\n",
       "    .dataframe thead th {\n",
       "        text-align: right;\n",
       "    }\n",
       "</style>\n",
       "<table border=\"1\" class=\"dataframe\">\n",
       "  <thead>\n",
       "    <tr style=\"text-align: right;\">\n",
       "      <th></th>\n",
       "      <th>labels</th>\n",
       "      <th>predictions</th>\n",
       "    </tr>\n",
       "  </thead>\n",
       "  <tbody>\n",
       "    <tr>\n",
       "      <th>0</th>\n",
       "      <td>130</td>\n",
       "      <td>130</td>\n",
       "    </tr>\n",
       "    <tr>\n",
       "      <th>1</th>\n",
       "      <td>68</td>\n",
       "      <td>68</td>\n",
       "    </tr>\n",
       "    <tr>\n",
       "      <th>2</th>\n",
       "      <td>115</td>\n",
       "      <td>115</td>\n",
       "    </tr>\n",
       "    <tr>\n",
       "      <th>3</th>\n",
       "      <td>153</td>\n",
       "      <td>153</td>\n",
       "    </tr>\n",
       "    <tr>\n",
       "      <th>4</th>\n",
       "      <td>134</td>\n",
       "      <td>134</td>\n",
       "    </tr>\n",
       "    <tr>\n",
       "      <th>...</th>\n",
       "      <td>...</td>\n",
       "      <td>...</td>\n",
       "    </tr>\n",
       "    <tr>\n",
       "      <th>49599</th>\n",
       "      <td>147</td>\n",
       "      <td>147</td>\n",
       "    </tr>\n",
       "    <tr>\n",
       "      <th>49600</th>\n",
       "      <td>38</td>\n",
       "      <td>186</td>\n",
       "    </tr>\n",
       "    <tr>\n",
       "      <th>49601</th>\n",
       "      <td>108</td>\n",
       "      <td>108</td>\n",
       "    </tr>\n",
       "    <tr>\n",
       "      <th>49602</th>\n",
       "      <td>85</td>\n",
       "      <td>127</td>\n",
       "    </tr>\n",
       "    <tr>\n",
       "      <th>49603</th>\n",
       "      <td>106</td>\n",
       "      <td>145</td>\n",
       "    </tr>\n",
       "  </tbody>\n",
       "</table>\n",
       "<p>49604 rows × 2 columns</p>\n",
       "</div>"
      ],
      "text/plain": [
       "       labels  predictions\n",
       "0         130          130\n",
       "1          68           68\n",
       "2         115          115\n",
       "3         153          153\n",
       "4         134          134\n",
       "...       ...          ...\n",
       "49599     147          147\n",
       "49600      38          186\n",
       "49601     108          108\n",
       "49602      85          127\n",
       "49603     106          145\n",
       "\n",
       "[49604 rows x 2 columns]"
      ]
     },
     "execution_count": 7,
     "metadata": {},
     "output_type": "execute_result"
    }
   ],
   "source": [
    "big_res"
   ]
  },
  {
   "cell_type": "code",
   "execution_count": 8,
   "id": "ad0e6402",
   "metadata": {},
   "outputs": [],
   "source": [
    "medium_res = big_res"
   ]
  },
  {
   "cell_type": "code",
   "execution_count": 9,
   "id": "ccb7b22f",
   "metadata": {},
   "outputs": [
    {
     "data": {
      "text/plain": [
       "memoryview"
      ]
     },
     "execution_count": 9,
     "metadata": {},
     "output_type": "execute_result"
    }
   ],
   "source": [
    "memoryview"
   ]
  },
  {
   "cell_type": "markdown",
   "id": "f1cbaa00",
   "metadata": {},
   "source": [
    "F1 Score per label"
   ]
  },
  {
   "cell_type": "code",
   "execution_count": 10,
   "id": "aee9be3f",
   "metadata": {},
   "outputs": [],
   "source": [
    "df = pd.DataFrame()\n",
    "label_list = []\n",
    "medium_list = []\n",
    "for i in range(0, 201):\n",
    "    score =  f1_score(medium_res[medium_res['labels']==i].labels, medium_res[medium_res['labels']==i].predictions, average='micro')\n",
    "    \n",
    "    label_list.append(i)\n",
    "    medium_list.append(score)\n",
    "df['Label'] = label_list\n",
    "df['Medium'] = medium_list"
   ]
  },
  {
   "cell_type": "code",
   "execution_count": 11,
   "id": "973abe4a",
   "metadata": {},
   "outputs": [],
   "source": [
    "#df.to_csv('Ralph_model_class_f1_score_big.csv')"
   ]
  },
  {
   "cell_type": "code",
   "execution_count": 12,
   "id": "68cc2676",
   "metadata": {},
   "outputs": [],
   "source": [
    "fails = medium_res[medium_res['labels']!= medium_res['predictions']]"
   ]
  },
  {
   "cell_type": "code",
   "execution_count": 13,
   "id": "2121b20f",
   "metadata": {},
   "outputs": [],
   "source": [
    "labels_new = {'worstratingProduct': 0,\n",
    " 'acceptsreservationsRestaurant': 1,\n",
    " 'additionalnamePerson': 2,\n",
    " 'additionalpropertyProduct': 3,\n",
    " 'addressHotel': 4,\n",
    " 'addressLocalBusiness': 5,\n",
    " 'addressPerson': 6,\n",
    " 'addressProduct': 7,\n",
    " 'addressRestaurant': 8,\n",
    " 'addresslocalityLocalBusiness': 9,\n",
    " 'addressregionLocalBusiness': 10,\n",
    " 'affiliationPerson': 11,\n",
    " 'aggregateratingBook': 12,\n",
    " 'aggregateratingCreativeWork': 13,\n",
    " 'aggregateratingHotel': 14,\n",
    " 'aggregateratingLocalBusiness': 15,\n",
    " 'aggregateratingProduct': 16,\n",
    " 'aggregateratingRecipe': 17,\n",
    " 'aggregateratingRestaurant': 18,\n",
    " 'alternatenameProduct': 19,\n",
    " 'alternativeheadlineCreativeWork': 20,\n",
    " 'areaservedLocalBusiness': 21,\n",
    " 'articlebodyCreativeWork': 22,\n",
    " 'audienceProduct': 23,\n",
    " 'authorBook': 24,\n",
    " 'authorCreativeWork': 25,\n",
    " 'authorProduct': 26,\n",
    " 'authorRecipe': 27,\n",
    " 'availabilityProduct': 28,\n",
    " 'bestratingProduct': 29,\n",
    " 'birthdatePerson': 30,\n",
    " 'birthplacePerson': 31,\n",
    " 'bookeditionBook': 32,\n",
    " 'bookformatBook': 33,\n",
    " 'brandProduct': 34,\n",
    " 'breadcrumbProduct': 35,\n",
    " 'byartistMusicAlbum': 36,\n",
    " 'byartistMusicRecording': 37,\n",
    " 'categoryProduct': 38,\n",
    " 'citystatezipLocalBusiness': 39,\n",
    " 'colorProduct': 40,\n",
    " 'commentcountCreativeWork': 41,\n",
    " 'conditionProduct': 42,\n",
    " 'contactpointLocalBusiness': 43,\n",
    " 'contactpointPerson': 44,\n",
    " 'cookingmethodRecipe': 45,\n",
    " 'cooktimeRecipe': 46,\n",
    " 'copyrightholderCreativeWork': 47,\n",
    " 'copyrightyearCreativeWork': 48,\n",
    " 'creatorCreativeWork': 49,\n",
    " 'datecreatedCreativeWork': 50,\n",
    " 'datecreatedMusicRecording': 51,\n",
    " 'datemodifiedCreativeWork': 52,\n",
    " 'datemodifiedRecipe': 53,\n",
    " 'datepublishedBook': 54,\n",
    " 'datepublishedCreativeWork': 55,\n",
    " 'datepublishedMusicRecording': 56,\n",
    " 'datepublishedProduct': 57,\n",
    " 'datepublishedRecipe': 58,\n",
    " 'deathdatePerson': 59,\n",
    " 'depthProduct': 60,\n",
    " 'disambiguatingdescriptionProduct': 61,\n",
    " 'doortimeEvent': 62,\n",
    " 'durationEvent': 63,\n",
    " 'durationMusicRecording': 64,\n",
    " 'emailHotel': 65,\n",
    " 'emailLocalBusiness': 66,\n",
    " 'emailPerson': 67,\n",
    " 'enddateEvent': 68,\n",
    " 'episodenumberTVEpisode': 69,\n",
    " 'worksforPerson': 70,\n",
    " 'familynamePerson': 71,\n",
    " 'faxnumberLocalBusiness': 72,\n",
    " 'faxnumberPerson': 73,\n",
    " 'genderPerson': 74,\n",
    " 'genreBook': 75,\n",
    " 'genreCreativeWork': 76,\n",
    " 'genreMusicRecording': 77,\n",
    " 'geoHotel': 78,\n",
    " 'geoLocalBusiness': 79,\n",
    " 'geoPlace': 80,\n",
    " 'geoProduct': 81,\n",
    " 'geoRestaurant': 82,\n",
    " 'givennamePerson': 83,\n",
    " 'gtin12Product': 84,\n",
    " 'gtin13Product': 85,\n",
    " 'gtin14Product': 86,\n",
    " 'gtin8Product': 87,\n",
    " 'gtinProduct': 88,\n",
    " 'hasmapLocalBusiness': 89,\n",
    " 'hasmenuRestaurant': 90,\n",
    " 'headlineCreativeWork': 91,\n",
    " 'headlineRecipe': 92,\n",
    " 'heightPerson': 93,\n",
    " 'heightProduct': 94,\n",
    " 'homelocationPerson': 95,\n",
    " 'identifierProduct': 96,\n",
    " 'worklocationPerson': 97,\n",
    " 'ingredientsRecipe': 98,\n",
    " 'inlanguageBook': 99,\n",
    " 'inlanguageCreativeWork': 100,\n",
    " 'interactioncountCreativeWork': 101,\n",
    " 'interactionstatisticCreativeWork': 102,\n",
    " 'interactiontypeCreativeWork': 103,\n",
    " 'isbnBook': 104,\n",
    " 'ispartofRecipe': 105,\n",
    " 'isrelatedtoProduct': 106,\n",
    " 'issimilartoProduct': 107,\n",
    " 'itemconditionProduct': 108,\n",
    " 'itemlistelementProduct': 109,\n",
    " 'jobtitlePerson': 110,\n",
    " 'keywordsCreativeWork': 111,\n",
    " 'keywordsRecipe': 112,\n",
    " 'knowslanguagePerson': 113,\n",
    " 'legalnameLocalBusiness': 114,\n",
    " 'locationEvent': 115,\n",
    " 'locationLocalBusiness': 116,\n",
    " 'mainentityofpageCreativeWork': 117,\n",
    " 'mainentityofpagePerson': 118,\n",
    " 'mainentityofpageProduct': 119,\n",
    " 'mainentityofpageRecipe': 120,\n",
    " 'makesofferPerson': 121,\n",
    " 'manufacturerProduct': 122,\n",
    " 'materialProduct': 123,\n",
    " 'memberofPerson': 124,\n",
    " 'menuRestaurant': 125,\n",
    " 'modelProduct': 126,\n",
    " 'mpnProduct': 127,\n",
    " 'nameBook': 128,\n",
    " 'nameCreativeWork': 129,\n",
    " 'nameEvent': 130,\n",
    " 'nameHotel': 131,\n",
    " 'nameLocalBusiness': 132,\n",
    " 'nameMusicAlbum': 133,\n",
    " 'nameMusicRecording': 134,\n",
    " 'namePlace': 135,\n",
    " 'nameProduct': 136,\n",
    " 'nameRecipe': 137,\n",
    " 'nameRestaurant': 138,\n",
    " 'nameTVEpisode': 139,\n",
    " 'nationalityPerson': 140,\n",
    " 'numberofpagesBook': 141,\n",
    " 'numtracksMusicAlbum': 142,\n",
    " 'nutritionRecipe': 143,\n",
    " 'weightProduct': 144,\n",
    " 'offersBook': 145,\n",
    " 'offersCreativeWork': 146,\n",
    " 'offersProduct': 147,\n",
    " 'openinghoursLocalBusiness': 148,\n",
    " 'openinghoursRestaurant': 149,\n",
    " 'openinghoursspecificationLocalBusiness': 150,\n",
    " 'openinghoursspecificationPlace': 151,\n",
    " 'openinghoursspecificationRestaurant': 152,\n",
    " 'organizerEvent': 153,\n",
    " 'partofseriesTVEpisode': 154,\n",
    " 'paymentacceptedLocalBusiness': 155,\n",
    " 'widthProduct': 156,\n",
    " 'performersEvent': 157,\n",
    " 'performtimeRecipe': 158,\n",
    " 'postalcodeLocalBusiness': 159,\n",
    " 'preptimeRecipe': 160,\n",
    " 'priceProduct': 161,\n",
    " 'pricecurrencyProduct': 162,\n",
    " 'pricerangeHotel': 163,\n",
    " 'pricerangeLocalBusiness': 164,\n",
    " 'pricerangeRestaurant': 165,\n",
    " 'publisherBook': 166,\n",
    " 'publisherCreativeWork': 167,\n",
    " 'publisherRecipe': 168,\n",
    " 'ratingvalueProduct': 169,\n",
    " 'recipecategoryRecipe': 170,\n",
    " 'recipecuisineRecipe': 171,\n",
    " 'recipeingredientRecipe': 172,\n",
    " 'recipeinstructionsRecipe': 173,\n",
    " 'recipeyieldRecipe': 174,\n",
    " 'releasedateProduct': 175,\n",
    " 'reviewLocalBusiness': 176,\n",
    " 'reviewProduct': 177,\n",
    " 'reviewRecipe': 178,\n",
    " 'reviewcountProduct': 179,\n",
    " 'reviewsProduct': 180,\n",
    " 'sameasLocalBusiness': 181,\n",
    " 'sameasPerson': 182,\n",
    " 'sameasPlace': 183,\n",
    " 'servescuisineRestaurant': 184,\n",
    " 'shop-currencyProduct': 185,\n",
    " 'starratingHotel': 186,\n",
    " 'streetaddressLocalBusiness': 187,\n",
    " 'suitablefordietRecipe': 188,\n",
    " 'telephoneHotel': 189,\n",
    " 'telephoneLocalBusiness': 190,\n",
    " 'telephonePerson': 191,\n",
    " 'telephonePlace': 192,\n",
    " 'telephoneRestaurant': 193,\n",
    " 'titleProduct': 194,\n",
    " 'totaltimeRecipe': 195,\n",
    " 'trackMusicAlbum': 196,\n",
    " 'typicalagerangeEvent': 197,\n",
    " 'versionCreativeWork': 198,\n",
    " 'weightPerson': 199,\n",
    " 'offerdetailsProduct': 200,\n",
    " 'founderLocalBusiness': 201}"
   ]
  },
  {
   "cell_type": "code",
   "execution_count": 14,
   "id": "0e12253c",
   "metadata": {},
   "outputs": [],
   "source": [
    "df = pd.Series(labels_new)"
   ]
  },
  {
   "cell_type": "code",
   "execution_count": 15,
   "id": "85b88378",
   "metadata": {},
   "outputs": [],
   "source": [
    "path = '/work-ceph/bizer-tp2021/data_integration_using_deep_learning/src/data/data/CSV_files'\n",
    "files = pd.read_csv(path + '/all_files_cleaned.csv')"
   ]
  },
  {
   "cell_type": "code",
   "execution_count": 16,
   "id": "1a1d9619",
   "metadata": {},
   "outputs": [],
   "source": [
    "files['labels_new'] = files['column_name'] + files['filename'].str.split('_').str[0] \n",
    "new_df = files[['labels_new', 'data_type', 'filename']]\n",
    "df_match = pd.DataFrame({'index': df.index, 'vals': df.values})\n",
    "ultimate = pd.merge(new_df, df_match, left_on='labels_new', right_on='index')\n",
    "ultimate.drop(['labels_new'], axis=1, inplace=True)"
   ]
  },
  {
   "cell_type": "code",
   "execution_count": 17,
   "id": "a6122672",
   "metadata": {},
   "outputs": [],
   "source": [
    "real_new = pd.merge(medium_res, ultimate, left_on='labels', right_on='vals')\n"
   ]
  },
  {
   "cell_type": "code",
   "execution_count": 18,
   "id": "cac79df6",
   "metadata": {},
   "outputs": [
    {
     "data": {
      "text/plain": [
       "<AxesSubplot:>"
      ]
     },
     "execution_count": 18,
     "metadata": {},
     "output_type": "execute_result"
    },
    {
     "data": {
      "image/png": "[encoded data removed]",
      "text/plain": [
       "<Figure size 432x288 with 1 Axes>"
      ]
     },
     "metadata": {
      "needs_background": "light"
     },
     "output_type": "display_data"
    }
   ],
   "source": [
    "(real_new[real_new['labels']!= real_new['predictions']].data_type.value_counts() / real_new.data_type.value_counts()).plot(kind='bar', color='cornflowerblue')"
   ]
  },
  {
   "cell_type": "code",
   "execution_count": 20,
   "id": "b3604bdc",
   "metadata": {},
   "outputs": [
    {
     "data": {
      "text/html": [
       "<div>\n",
       "<style scoped>\n",
       "    .dataframe tbody tr th:only-of-type {\n",
       "        vertical-align: middle;\n",
       "    }\n",
       "\n",
       "    .dataframe tbody tr th {\n",
       "        vertical-align: top;\n",
       "    }\n",
       "\n",
       "    .dataframe thead th {\n",
       "        text-align: right;\n",
       "    }\n",
       "</style>\n",
       "<table border=\"1\" class=\"dataframe\">\n",
       "  <thead>\n",
       "    <tr style=\"text-align: right;\">\n",
       "      <th></th>\n",
       "      <th>labels</th>\n",
       "      <th>predictions</th>\n",
       "      <th>data_type</th>\n",
       "      <th>filename</th>\n",
       "      <th>index</th>\n",
       "      <th>vals</th>\n",
       "    </tr>\n",
       "  </thead>\n",
       "  <tbody>\n",
       "    <tr>\n",
       "      <th>43843</th>\n",
       "      <td>85</td>\n",
       "      <td>85</td>\n",
       "      <td>int</td>\n",
       "      <td>Product_stats.csv</td>\n",
       "      <td>gtin13Product</td>\n",
       "      <td>85</td>\n",
       "    </tr>\n",
       "    <tr>\n",
       "      <th>43844</th>\n",
       "      <td>85</td>\n",
       "      <td>85</td>\n",
       "      <td>int</td>\n",
       "      <td>Product_stats.csv</td>\n",
       "      <td>gtin13Product</td>\n",
       "      <td>85</td>\n",
       "    </tr>\n",
       "    <tr>\n",
       "      <th>43845</th>\n",
       "      <td>85</td>\n",
       "      <td>85</td>\n",
       "      <td>int</td>\n",
       "      <td>Product_stats.csv</td>\n",
       "      <td>gtin13Product</td>\n",
       "      <td>85</td>\n",
       "    </tr>\n",
       "    <tr>\n",
       "      <th>43846</th>\n",
       "      <td>85</td>\n",
       "      <td>85</td>\n",
       "      <td>int</td>\n",
       "      <td>Product_stats.csv</td>\n",
       "      <td>gtin13Product</td>\n",
       "      <td>85</td>\n",
       "    </tr>\n",
       "    <tr>\n",
       "      <th>43847</th>\n",
       "      <td>85</td>\n",
       "      <td>85</td>\n",
       "      <td>int</td>\n",
       "      <td>Product_stats.csv</td>\n",
       "      <td>gtin13Product</td>\n",
       "      <td>85</td>\n",
       "    </tr>\n",
       "    <tr>\n",
       "      <th>...</th>\n",
       "      <td>...</td>\n",
       "      <td>...</td>\n",
       "      <td>...</td>\n",
       "      <td>...</td>\n",
       "      <td>...</td>\n",
       "      <td>...</td>\n",
       "    </tr>\n",
       "    <tr>\n",
       "      <th>44220</th>\n",
       "      <td>85</td>\n",
       "      <td>85</td>\n",
       "      <td>int</td>\n",
       "      <td>Product_stats.csv</td>\n",
       "      <td>gtin13Product</td>\n",
       "      <td>85</td>\n",
       "    </tr>\n",
       "    <tr>\n",
       "      <th>44221</th>\n",
       "      <td>85</td>\n",
       "      <td>84</td>\n",
       "      <td>int</td>\n",
       "      <td>Product_stats.csv</td>\n",
       "      <td>gtin13Product</td>\n",
       "      <td>85</td>\n",
       "    </tr>\n",
       "    <tr>\n",
       "      <th>44222</th>\n",
       "      <td>85</td>\n",
       "      <td>85</td>\n",
       "      <td>int</td>\n",
       "      <td>Product_stats.csv</td>\n",
       "      <td>gtin13Product</td>\n",
       "      <td>85</td>\n",
       "    </tr>\n",
       "    <tr>\n",
       "      <th>44223</th>\n",
       "      <td>85</td>\n",
       "      <td>85</td>\n",
       "      <td>int</td>\n",
       "      <td>Product_stats.csv</td>\n",
       "      <td>gtin13Product</td>\n",
       "      <td>85</td>\n",
       "    </tr>\n",
       "    <tr>\n",
       "      <th>44224</th>\n",
       "      <td>85</td>\n",
       "      <td>127</td>\n",
       "      <td>int</td>\n",
       "      <td>Product_stats.csv</td>\n",
       "      <td>gtin13Product</td>\n",
       "      <td>85</td>\n",
       "    </tr>\n",
       "  </tbody>\n",
       "</table>\n",
       "<p>382 rows × 6 columns</p>\n",
       "</div>"
      ],
      "text/plain": [
       "       labels  predictions data_type           filename          index  vals\n",
       "43843      85           85       int  Product_stats.csv  gtin13Product    85\n",
       "43844      85           85       int  Product_stats.csv  gtin13Product    85\n",
       "43845      85           85       int  Product_stats.csv  gtin13Product    85\n",
       "43846      85           85       int  Product_stats.csv  gtin13Product    85\n",
       "43847      85           85       int  Product_stats.csv  gtin13Product    85\n",
       "...       ...          ...       ...                ...            ...   ...\n",
       "44220      85           85       int  Product_stats.csv  gtin13Product    85\n",
       "44221      85           84       int  Product_stats.csv  gtin13Product    85\n",
       "44222      85           85       int  Product_stats.csv  gtin13Product    85\n",
       "44223      85           85       int  Product_stats.csv  gtin13Product    85\n",
       "44224      85          127       int  Product_stats.csv  gtin13Product    85\n",
       "\n",
       "[382 rows x 6 columns]"
      ]
     },
     "execution_count": 20,
     "metadata": {},
     "output_type": "execute_result"
    }
   ],
   "source": [
    "real_new[real_new['labels']==85]"
   ]
  },
  {
   "cell_type": "code",
   "execution_count": 27,
   "id": "01be824f",
   "metadata": {},
   "outputs": [
    {
     "data": {
      "text/html": [
       "<div>\n",
       "<style scoped>\n",
       "    .dataframe tbody tr th:only-of-type {\n",
       "        vertical-align: middle;\n",
       "    }\n",
       "\n",
       "    .dataframe tbody tr th {\n",
       "        vertical-align: top;\n",
       "    }\n",
       "\n",
       "    .dataframe thead th {\n",
       "        text-align: right;\n",
       "    }\n",
       "</style>\n",
       "<table border=\"1\" class=\"dataframe\">\n",
       "  <thead>\n",
       "    <tr style=\"text-align: right;\">\n",
       "      <th></th>\n",
       "      <th>labels</th>\n",
       "      <th>predictions</th>\n",
       "      <th>data_type</th>\n",
       "      <th>filename</th>\n",
       "      <th>index</th>\n",
       "      <th>vals</th>\n",
       "    </tr>\n",
       "  </thead>\n",
       "  <tbody>\n",
       "    <tr>\n",
       "      <th>43843</th>\n",
       "      <td>85</td>\n",
       "      <td>85</td>\n",
       "      <td>int</td>\n",
       "      <td>Product_stats.csv</td>\n",
       "      <td>gtin13Product</td>\n",
       "      <td>85</td>\n",
       "    </tr>\n",
       "    <tr>\n",
       "      <th>43844</th>\n",
       "      <td>85</td>\n",
       "      <td>85</td>\n",
       "      <td>int</td>\n",
       "      <td>Product_stats.csv</td>\n",
       "      <td>gtin13Product</td>\n",
       "      <td>85</td>\n",
       "    </tr>\n",
       "    <tr>\n",
       "      <th>43845</th>\n",
       "      <td>85</td>\n",
       "      <td>85</td>\n",
       "      <td>int</td>\n",
       "      <td>Product_stats.csv</td>\n",
       "      <td>gtin13Product</td>\n",
       "      <td>85</td>\n",
       "    </tr>\n",
       "    <tr>\n",
       "      <th>43846</th>\n",
       "      <td>85</td>\n",
       "      <td>85</td>\n",
       "      <td>int</td>\n",
       "      <td>Product_stats.csv</td>\n",
       "      <td>gtin13Product</td>\n",
       "      <td>85</td>\n",
       "    </tr>\n",
       "    <tr>\n",
       "      <th>43847</th>\n",
       "      <td>85</td>\n",
       "      <td>85</td>\n",
       "      <td>int</td>\n",
       "      <td>Product_stats.csv</td>\n",
       "      <td>gtin13Product</td>\n",
       "      <td>85</td>\n",
       "    </tr>\n",
       "    <tr>\n",
       "      <th>...</th>\n",
       "      <td>...</td>\n",
       "      <td>...</td>\n",
       "      <td>...</td>\n",
       "      <td>...</td>\n",
       "      <td>...</td>\n",
       "      <td>...</td>\n",
       "    </tr>\n",
       "    <tr>\n",
       "      <th>44220</th>\n",
       "      <td>85</td>\n",
       "      <td>85</td>\n",
       "      <td>int</td>\n",
       "      <td>Product_stats.csv</td>\n",
       "      <td>gtin13Product</td>\n",
       "      <td>85</td>\n",
       "    </tr>\n",
       "    <tr>\n",
       "      <th>44221</th>\n",
       "      <td>85</td>\n",
       "      <td>84</td>\n",
       "      <td>int</td>\n",
       "      <td>Product_stats.csv</td>\n",
       "      <td>gtin13Product</td>\n",
       "      <td>85</td>\n",
       "    </tr>\n",
       "    <tr>\n",
       "      <th>44222</th>\n",
       "      <td>85</td>\n",
       "      <td>85</td>\n",
       "      <td>int</td>\n",
       "      <td>Product_stats.csv</td>\n",
       "      <td>gtin13Product</td>\n",
       "      <td>85</td>\n",
       "    </tr>\n",
       "    <tr>\n",
       "      <th>44223</th>\n",
       "      <td>85</td>\n",
       "      <td>85</td>\n",
       "      <td>int</td>\n",
       "      <td>Product_stats.csv</td>\n",
       "      <td>gtin13Product</td>\n",
       "      <td>85</td>\n",
       "    </tr>\n",
       "    <tr>\n",
       "      <th>44224</th>\n",
       "      <td>85</td>\n",
       "      <td>127</td>\n",
       "      <td>int</td>\n",
       "      <td>Product_stats.csv</td>\n",
       "      <td>gtin13Product</td>\n",
       "      <td>85</td>\n",
       "    </tr>\n",
       "  </tbody>\n",
       "</table>\n",
       "<p>382 rows × 6 columns</p>\n",
       "</div>"
      ],
      "text/plain": [
       "       labels  predictions data_type           filename          index  vals\n",
       "43843      85           85       int  Product_stats.csv  gtin13Product    85\n",
       "43844      85           85       int  Product_stats.csv  gtin13Product    85\n",
       "43845      85           85       int  Product_stats.csv  gtin13Product    85\n",
       "43846      85           85       int  Product_stats.csv  gtin13Product    85\n",
       "43847      85           85       int  Product_stats.csv  gtin13Product    85\n",
       "...       ...          ...       ...                ...            ...   ...\n",
       "44220      85           85       int  Product_stats.csv  gtin13Product    85\n",
       "44221      85           84       int  Product_stats.csv  gtin13Product    85\n",
       "44222      85           85       int  Product_stats.csv  gtin13Product    85\n",
       "44223      85           85       int  Product_stats.csv  gtin13Product    85\n",
       "44224      85          127       int  Product_stats.csv  gtin13Product    85\n",
       "\n",
       "[382 rows x 6 columns]"
      ]
     },
     "execution_count": 27,
     "metadata": {},
     "output_type": "execute_result"
    }
   ],
   "source": [
    "f1_score(real_new[real_new['index']== 'gtin13Product'].labels, real_new[real_new['index']== 'gtin13Product'].predictions, average='micro') "
   ]
  },
  {
   "cell_type": "code",
   "execution_count": 32,
   "id": "a7f8f6a9",
   "metadata": {},
   "outputs": [
    {
     "name": "stdout",
     "output_type": "stream",
     "text": [
      "nameEvent : 0.885\n",
      "enddateEvent : 0.9652351738241309\n",
      "locationEvent : 0.9079878665318504\n",
      "organizerEvent : 0.7895408163265306\n",
      "nameMusicRecording : 0.947945205479452\n",
      "durationMusicRecording : 0.986046511627907\n",
      "byartistMusicRecording : 0.7255859375\n",
      "nameRecipe : 0.9683195592286501\n",
      "recipeinstructionsRecipe : 0.9870689655172413\n",
      "authorRecipe : 0.5596774193548387\n",
      "recipeyieldRecipe : 0.9655765920826161\n",
      "preptimeRecipe : 0.8422939068100358\n",
      "cooktimeRecipe : 0.7177121771217713\n",
      "recipecategoryRecipe : 0.9511111111111111\n",
      "aggregateratingRecipe : 0.7575757575757576\n",
      "keywordsRecipe : 0.7801857585139319\n",
      "ingredientsRecipe : 0.07462686567164178\n",
      "recipeingredientRecipe : 0.9795221843003413\n",
      "datepublishedRecipe : 0.6353383458646616\n",
      "totaltimeRecipe : 0.8114754098360656\n",
      "recipecuisineRecipe : 0.9043478260869565\n",
      "nutritionRecipe : 0.9966555183946488\n",
      "mainentityofpageRecipe : 0.9262295081967213\n",
      "ispartofRecipe : 0.707112970711297\n",
      "headlineCreativeWork : 0.377008652657602\n",
      "authorCreativeWork : 0.48714810281517745\n",
      "interactiontypeCreativeWork : 1.0\n",
      "nameLocalBusiness : 0.5162162162162162\n",
      "addressLocalBusiness : 0.9029649595687331\n",
      "addresslocalityLocalBusiness : 0.56\n",
      "addressregionLocalBusiness : 0.7916666666666666\n",
      "streetaddressLocalBusiness : 0.875\n",
      "postalcodeLocalBusiness : 0.2916666666666667\n",
      "citystatezipLocalBusiness : 0.8095238095238095\n",
      "nameProduct : 0.9161290322580645\n",
      "offersProduct : 0.9860356865787432\n",
      "categoryProduct : 0.7665158371040725\n",
      "itemconditionProduct : 0.9896142433234422\n",
      "isrelatedtoProduct : 0.42999999999999994\n",
      "brandProduct : 0.8185666767462957\n",
      "mpnProduct : 0.8373435996150145\n",
      "offerdetailsProduct : 0.8832487309644669\n",
      "aggregateratingProduct : 0.9505962521294717\n",
      "reviewProduct : 0.968181818181818\n",
      "telephoneLocalBusiness : 0.6927710843373494\n",
      "geoLocalBusiness : 0.774869109947644\n",
      "pricerangeLocalBusiness : 0.8118279569892473\n",
      "emailLocalBusiness : 0.916083916083916\n",
      "openinghoursLocalBusiness : 1.0\n",
      "areaservedLocalBusiness : 0.20833333333333334\n",
      "faxnumberLocalBusiness : 0.06060606060606061\n",
      "releasedateProduct : 0.6578947368421053\n",
      "colorProduct : 0.9354120267260579\n",
      "manufacturerProduct : 0.149519890260631\n",
      "modelProduct : 0.631496062992126\n",
      "jobtitlePerson : 0.8679245283018869\n",
      "emailPerson : 0.7710843373493976\n",
      "genderPerson : 0.9807692307692307\n",
      "namePlace : 0.608\n",
      "geoPlace : 0.716535433070866\n",
      "telephonePlace : 0.19491525423728814\n",
      "gtin12Product : 0.44021739130434784\n",
      "datepublishedCreativeWork : 0.36289222373806274\n",
      "datemodifiedCreativeWork : 0.5407407407407407\n",
      "nameCreativeWork : 0.1456140350877193\n",
      "publisherCreativeWork : 0.2633181126331811\n",
      "mainentityofpageCreativeWork : 0.27490774907749077\n",
      "aggregateratingLocalBusiness : 0.22935779816513763\n",
      "reviewLocalBusiness : 0.10810810810810811\n",
      "nameHotel : 0.8521739130434782\n",
      "addressHotel : 0.39090909090909093\n",
      "telephoneHotel : 0.2125\n",
      "geoHotel : 0.10000000000000002\n",
      "nameRestaurant : 0.7666666666666667\n",
      "addressRestaurant : 0.16666666666666666\n",
      "telephoneRestaurant : 0.06557377049180328\n",
      "servescuisineRestaurant : 0.8039215686274509\n",
      "geoRestaurant : 0.030303030303030304\n",
      "pricerangeRestaurant : 0.02127659574468085\n",
      "gtin14Product : 0.05555555555555555\n",
      "commentcountCreativeWork : 0.5357142857142857\n",
      "identifierProduct : 0.4027777777777778\n",
      "gtin13Product : 0.6963350785340314\n",
      "openinghoursspecificationLocalBusiness : 0.8970588235294118\n",
      "telephonePerson : 0.39473684210526316\n",
      "nameTVEpisode : 0.6774193548387096\n",
      "episodenumberTVEpisode : 0.42857142857142855\n",
      "addressPerson : 0.1935483870967742\n",
      "interactionstatisticCreativeWork : 1.0\n",
      "priceProduct : 0.8000000000000002\n",
      "pricecurrencyProduct : 0.17142857142857143\n",
      "datecreatedCreativeWork : 0.3173076923076923\n",
      "alternativeheadlineCreativeWork : 0.7640449438202248\n",
      "gtin8Product : 0.30708661417322836\n",
      "nameBook : 0.59375\n",
      "authorBook : 0.711864406779661\n",
      "publisherBook : 0.5490196078431373\n",
      "datepublishedBook : 0.391304347826087\n",
      "inlanguageBook : 0.9565217391304348\n",
      "genreBook : 0.8000000000000002\n",
      "performtimeRecipe : 0.1702127659574468\n",
      "suitablefordietRecipe : 0.92\n",
      "birthdatePerson : 0.9717741935483871\n",
      "givennamePerson : 0.9458333333333333\n",
      "familynamePerson : 0.9372384937238494\n",
      "deathdatePerson : 0.893491124260355\n",
      "additionalnamePerson : 0.9634146341463414\n",
      "gtinProduct : 0.0989010989010989\n",
      "worksforPerson : 0.3\n",
      "sameasPerson : 0.18181818181818182\n",
      "mainentityofpageProduct : 0.8137254901960784\n",
      "heightProduct : 0.45901639344262296\n",
      "contactpointLocalBusiness : 0.8909090909090909\n",
      "legalnameLocalBusiness : 0.0\n",
      "widthProduct : 0.2857142857142857\n",
      "depthProduct : 0.3488372093023256\n",
      "partofseriesTVEpisode : 0.375\n",
      "inlanguageCreativeWork : 0.8235294117647058\n",
      "shop-currencyProduct : 0.8202247191011236\n",
      "typicalagerangeEvent : 0.8125\n",
      "performersEvent : 0.125\n",
      "sameasLocalBusiness : 0.8125\n",
      "isbnBook : 0.8260869565217391\n",
      "numberofpagesBook : 0.7250000000000001\n",
      "bookformatBook : 0.9310344827586207\n",
      "heightPerson : 0.8769230769230769\n",
      "nationalityPerson : 0.7627118644067796\n",
      "weightPerson : 0.9322033898305084\n",
      "homelocationPerson : 0.7555555555555555\n",
      "knowslanguagePerson : 0.825\n",
      "makesofferPerson : 0.8648648648648649\n",
      "alternatenameProduct : 0.043478260869565216\n",
      "affiliationPerson : 0.2542372881355932\n",
      "titleProduct : 0.5625\n",
      "additionalpropertyProduct : 0.935251798561151\n",
      "conditionProduct : 0.20000000000000004\n",
      "addressProduct : 0.0\n",
      "geoProduct : 0.1111111111111111\n",
      "reviewsProduct : 0.0\n",
      "birthplacePerson : 0.42857142857142855\n",
      "articlebodyCreativeWork : 0.3333333333333333\n",
      "faxnumberPerson : 0.08695652173913043\n",
      "mainentityofpagePerson : 0.0\n",
      "hasmenuRestaurant : 0.6666666666666666\n",
      "openinghoursRestaurant : 0.1875\n",
      "materialProduct : 0.16666666666666666\n",
      "aggregateratingHotel : 0.2682926829268293\n",
      "issimilartoProduct : 0.125\n",
      "versionCreativeWork : 0.4375\n",
      "pricerangeHotel : 0.5882352941176471\n",
      "reviewcountProduct : 0.4864864864864865\n",
      "ratingvalueProduct : 0.7948717948717948\n",
      "bestratingProduct : 0.9459459459459459\n",
      "worstratingProduct : 1.0\n",
      "reviewRecipe : 0.7222222222222222\n",
      "nameMusicAlbum : 0.3\n",
      "byartistMusicAlbum : 0.07142857142857142\n",
      "datemodifiedRecipe : 0.0\n",
      "headlineRecipe : 0.0\n",
      "worklocationPerson : 0.0\n",
      "publisherRecipe : 0.0\n",
      "founderLocalBusiness : 0.0\n",
      "creatorCreativeWork : 0.0\n",
      "contactpointPerson : 0.9375\n",
      "memberofPerson : 0.0625\n",
      "datepublishedMusicRecording : 0.391304347826087\n",
      "offersBook : 0.0\n",
      "cookingmethodRecipe : 0.8000000000000002\n",
      "authorProduct : 0.0\n",
      "datepublishedProduct : 0.0\n",
      "hasmapLocalBusiness : 0.6666666666666666\n",
      "trackMusicAlbum : 0.75\n",
      "audienceProduct : 0.7142857142857143\n",
      "starratingHotel : 0.6785714285714286\n",
      "disambiguatingdescriptionProduct : 0.08333333333333333\n",
      "locationLocalBusiness : 0.25\n",
      "genreMusicRecording : 0.6\n",
      "datecreatedMusicRecording : 0.3333333333333333\n",
      "breadcrumbProduct : 0.36363636363636365\n",
      "acceptsreservationsRestaurant : 0.5\n",
      "openinghoursspecificationRestaurant : 0.2222222222222222\n",
      "sameasPlace : 0.7916666666666666\n",
      "paymentacceptedLocalBusiness : 1.0\n",
      "emailHotel : 0.5\n",
      "aggregateratingBook : 0.4666666666666667\n",
      "numtracksMusicAlbum : 0.25\n",
      "aggregateratingRestaurant : 0.0\n",
      "availabilityProduct : 0.9285714285714286\n",
      "copyrightholderCreativeWork : 0.0\n",
      "copyrightyearCreativeWork : 0.15384615384615385\n",
      "bookeditionBook : 0.5833333333333334\n",
      "keywordsCreativeWork : 0.08333333333333333\n",
      "aggregateratingCreativeWork : 0.0\n",
      "offersCreativeWork : 0.10000000000000002\n",
      "interactioncountCreativeWork : 0.7777777777777778\n",
      "genreCreativeWork : 0.0\n",
      "itemlistelementProduct : 0.0\n",
      "openinghoursspecificationPlace : 0.7142857142857143\n",
      "weightProduct : 0.0\n",
      "menuRestaurant : 0.0\n",
      "durationEvent : 0.16666666666666666\n",
      "doortimeEvent : 0.08333333333333333\n"
     ]
    }
   ],
   "source": [
    "for index in real_new['index'].unique():\n",
    "    print(index, ':', f1_score(real_new[real_new['index']== index].labels, real_new[real_new['index']== index].predictions, average='micro')) \n",
    "    "
   ]
  },
  {
   "cell_type": "code",
   "execution_count": null,
   "id": "c109dc9c",
   "metadata": {},
   "outputs": [],
   "source": [
    "real_new.groupyby"
   ]
  },
  {
   "cell_type": "code",
   "execution_count": 33,
   "id": "889df953",
   "metadata": {},
   "outputs": [
    {
     "name": "stdout",
     "output_type": "stream",
     "text": [
      "string : 0.7906410808892494\n",
      "datetime : 0.7363399826539463\n",
      "float : 0.4933333333333334\n",
      "geolocation : 0.578088578088578\n",
      "int : 0.498015873015873\n"
     ]
    }
   ],
   "source": [
    "for t in real_new['data_type'].unique():\n",
    "    print(t, ':', f1_score(real_new[real_new['data_type']== t].labels, real_new[real_new['data_type']== t].predictions, average='micro')) \n",
    "    "
   ]
  },
  {
   "cell_type": "code",
   "execution_count": 34,
   "id": "6f1bbcef",
   "metadata": {},
   "outputs": [],
   "source": [
    "products = real_new[real_new['filename']=='Product_stats.csv']\n",
    "recipe = real_new[real_new['filename']=='Recipe_stats.csv']\n",
    "creativework = real_new[real_new['filename']=='CreativeWork_stats.csv']\n",
    "event = real_new[real_new['filename']=='Event_stats.csv']\n",
    "musicrecording = real_new[real_new['filename']=='MusicRecording_stats.csv']\n",
    "localbusiness = real_new[real_new['filename']=='LocalBusiness_stats.csv']\n",
    "person = real_new[real_new['filename']=='Person_stats.csv']\n",
    "hotel = real_new[real_new['filename']=='Hotel_stats.csv']\n",
    "book = real_new[real_new['filename']=='Book_stats.csv']\n",
    "place = real_new[real_new['filename']=='Place_stats.csv']\n",
    "restaurant = real_new[real_new['filename']=='Restaurant_stats.csv']\n",
    "musicalbum = real_new[real_new['filename']=='MusicAlbum_stats.csv']\n",
    "tvepisode = real_new[real_new['filename']=='TVEpisode_stats.csv']"
   ]
  },
  {
   "cell_type": "code",
   "execution_count": 22,
   "id": "d94a9dc0",
   "metadata": {},
   "outputs": [
    {
     "data": {
      "text/plain": [
       "0.8238391574916227"
      ]
     },
     "execution_count": 22,
     "metadata": {},
     "output_type": "execute_result"
    }
   ],
   "source": [
    "# products\n",
    "f1_score(products.labels, products.predictions, average='micro')"
   ]
  },
  {
   "cell_type": "code",
   "execution_count": 23,
   "id": "91223484",
   "metadata": {},
   "outputs": [
    {
     "data": {
      "text/plain": [
       "0.8241533546325879"
      ]
     },
     "execution_count": 23,
     "metadata": {},
     "output_type": "execute_result"
    }
   ],
   "source": [
    "# recipe\n",
    "f1_score(recipe.labels, recipe.predictions, average='micro')"
   ]
  },
  {
   "cell_type": "code",
   "execution_count": 24,
   "id": "4444f0e7",
   "metadata": {},
   "outputs": [
    {
     "data": {
      "text/plain": [
       "0.38750458043239283"
      ]
     },
     "execution_count": 24,
     "metadata": {},
     "output_type": "execute_result"
    }
   ],
   "source": [
    "# creativeWork\n",
    "f1_score(creativework.labels, creativework.predictions, average='micro')"
   ]
  },
  {
   "cell_type": "code",
   "execution_count": 35,
   "id": "8ec10304",
   "metadata": {},
   "outputs": [
    {
     "data": {
      "text/plain": [
       "0.88317143607246"
      ]
     },
     "execution_count": 35,
     "metadata": {},
     "output_type": "execute_result"
    }
   ],
   "source": [
    "# event\n",
    "f1_score(event.labels, event.predictions, average='micro')"
   ]
  },
  {
   "cell_type": "code",
   "execution_count": 25,
   "id": "416ebbf4",
   "metadata": {},
   "outputs": [
    {
     "data": {
      "text/plain": [
       "0.8825524044389641"
      ]
     },
     "execution_count": 25,
     "metadata": {},
     "output_type": "execute_result"
    }
   ],
   "source": [
    "# musicrecording\n",
    "f1_score(musicrecording.labels, musicrecording.predictions, average='micro')"
   ]
  },
  {
   "cell_type": "code",
   "execution_count": 26,
   "id": "8c958b6b",
   "metadata": {},
   "outputs": [
    {
     "data": {
      "text/plain": [
       "0.6995095853767276"
      ]
     },
     "execution_count": 26,
     "metadata": {},
     "output_type": "execute_result"
    }
   ],
   "source": [
    "# localbusiness\n",
    "f1_score(localbusiness.labels, localbusiness.predictions, average='micro')"
   ]
  },
  {
   "cell_type": "code",
   "execution_count": 27,
   "id": "ab952ce5",
   "metadata": {},
   "outputs": [
    {
     "data": {
      "text/plain": [
       "0.7961254612546126"
      ]
     },
     "execution_count": 27,
     "metadata": {},
     "output_type": "execute_result"
    }
   ],
   "source": [
    "# person\n",
    "f1_score(person.labels, person.predictions, average='micro')"
   ]
  },
  {
   "cell_type": "code",
   "execution_count": 28,
   "id": "cb539f1b",
   "metadata": {},
   "outputs": [
    {
     "data": {
      "text/plain": [
       "0.46292585170340683"
      ]
     },
     "execution_count": 28,
     "metadata": {},
     "output_type": "execute_result"
    }
   ],
   "source": [
    "# hotel\n",
    "f1_score(hotel.labels, hotel.predictions, average='micro')"
   ]
  },
  {
   "cell_type": "code",
   "execution_count": 29,
   "id": "4bbd38e1",
   "metadata": {},
   "outputs": [
    {
     "data": {
      "text/plain": [
       "0.6291079812206573"
      ]
     },
     "execution_count": 29,
     "metadata": {},
     "output_type": "execute_result"
    }
   ],
   "source": [
    "f1_score(book.labels, book.predictions, average='micro')"
   ]
  },
  {
   "cell_type": "code",
   "execution_count": 30,
   "id": "392b00bb",
   "metadata": {},
   "outputs": [
    {
     "data": {
      "text/plain": [
       "0.5367647058823529"
      ]
     },
     "execution_count": 30,
     "metadata": {},
     "output_type": "execute_result"
    }
   ],
   "source": [
    "f1_score(place.labels, place.predictions, average='micro')"
   ]
  },
  {
   "cell_type": "code",
   "execution_count": 31,
   "id": "bed3ae56",
   "metadata": {},
   "outputs": [
    {
     "data": {
      "text/plain": [
       "0.3131868131868132"
      ]
     },
     "execution_count": 31,
     "metadata": {},
     "output_type": "execute_result"
    }
   ],
   "source": [
    "f1_score(restaurant.labels, restaurant.predictions, average='micro')"
   ]
  },
  {
   "cell_type": "code",
   "execution_count": 32,
   "id": "c8b61ca2",
   "metadata": {},
   "outputs": [
    {
     "data": {
      "text/plain": [
       "0.33035714285714285"
      ]
     },
     "execution_count": 32,
     "metadata": {},
     "output_type": "execute_result"
    }
   ],
   "source": [
    "f1_score(musicalbum.labels, musicalbum.predictions, average='micro')"
   ]
  },
  {
   "cell_type": "code",
   "execution_count": 33,
   "id": "4f39b641",
   "metadata": {},
   "outputs": [
    {
     "data": {
      "text/plain": [
       "0.5217391304347826"
      ]
     },
     "execution_count": 33,
     "metadata": {},
     "output_type": "execute_result"
    }
   ],
   "source": [
    "f1_score(tvepisode.labels, tvepisode.predictions, average='micro')"
   ]
  },
  {
   "cell_type": "code",
   "execution_count": 4,
   "id": "9db1a9e4",
   "metadata": {},
   "outputs": [
    {
     "ename": "NameError",
     "evalue": "name 'real_new' is not defined",
     "output_type": "error",
     "traceback": [
      "\u001b[0;31m---------------------------------------------------------------------------\u001b[0m",
      "\u001b[0;31mNameError\u001b[0m                                 Traceback (most recent call last)",
      "\u001b[0;32m/tmp/ipykernel_2216389/1311126274.py\u001b[0m in \u001b[0;36m<module>\u001b[0;34m\u001b[0m\n\u001b[0;32m----> 1\u001b[0;31m \u001b[0mreal_new\u001b[0m\u001b[0;34m\u001b[0m\u001b[0;34m\u001b[0m\u001b[0m\n\u001b[0m",
      "\u001b[0;31mNameError\u001b[0m: name 'real_new' is not defined"
     ]
    }
   ],
   "source": [
    "real_new"
   ]
  },
  {
   "cell_type": "code",
   "execution_count": null,
   "id": "17fd801e",
   "metadata": {},
   "outputs": [],
   "source": [
    "f1_scores_combined.data_type.value_counts()"
   ]
  },
  {
   "cell_type": "code",
   "execution_count": 35,
   "id": "6ddc0aa0",
   "metadata": {},
   "outputs": [
    {
     "data": {
      "text/html": [
       "<div>\n",
       "<style scoped>\n",
       "    .dataframe tbody tr th:only-of-type {\n",
       "        vertical-align: middle;\n",
       "    }\n",
       "\n",
       "    .dataframe tbody tr th {\n",
       "        vertical-align: top;\n",
       "    }\n",
       "\n",
       "    .dataframe thead th {\n",
       "        text-align: right;\n",
       "    }\n",
       "</style>\n",
       "<table border=\"1\" class=\"dataframe\">\n",
       "  <thead>\n",
       "    <tr style=\"text-align: right;\">\n",
       "      <th></th>\n",
       "      <th>{</th>\n",
       "    </tr>\n",
       "  </thead>\n",
       "  <tbody>\n",
       "    <tr>\n",
       "      <th>\"predict_accuracy\": 0.75310458833965</th>\n",
       "      <td>NaN</td>\n",
       "    </tr>\n",
       "    <tr>\n",
       "      <th>\"predict_f1\": 0.7531045883396501</th>\n",
       "      <td>NaN</td>\n",
       "    </tr>\n",
       "    <tr>\n",
       "      <th>\"predict_loss\": 2.255171060562134</th>\n",
       "      <td>NaN</td>\n",
       "    </tr>\n",
       "    <tr>\n",
       "      <th>\"predict_precision\": 0.75310458833965</th>\n",
       "      <td>NaN</td>\n",
       "    </tr>\n",
       "    <tr>\n",
       "      <th>\"predict_recall\": 0.75310458833965</th>\n",
       "      <td>NaN</td>\n",
       "    </tr>\n",
       "    <tr>\n",
       "      <th>\"predict_runtime\": 197.8242</th>\n",
       "      <td>NaN</td>\n",
       "    </tr>\n",
       "    <tr>\n",
       "      <th>\"predict_samples\": 49604</th>\n",
       "      <td>NaN</td>\n",
       "    </tr>\n",
       "    <tr>\n",
       "      <th>\"predict_samples_per_second\": 250.748</th>\n",
       "      <td>NaN</td>\n",
       "    </tr>\n",
       "    <tr>\n",
       "      <th>\"predict_steps_per_second\": 31.346</th>\n",
       "      <td>NaN</td>\n",
       "    </tr>\n",
       "    <tr>\n",
       "      <th>}</th>\n",
       "      <td>NaN</td>\n",
       "    </tr>\n",
       "  </tbody>\n",
       "</table>\n",
       "</div>"
      ],
      "text/plain": [
       "                                            {\n",
       "    \"predict_accuracy\": 0.75310458833965  NaN\n",
       "    \"predict_f1\": 0.7531045883396501      NaN\n",
       "    \"predict_loss\": 2.255171060562134     NaN\n",
       "    \"predict_precision\": 0.75310458833965 NaN\n",
       "    \"predict_recall\": 0.75310458833965    NaN\n",
       "    \"predict_runtime\": 197.8242           NaN\n",
       "    \"predict_samples\": 49604              NaN\n",
       "    \"predict_samples_per_second\": 250.748 NaN\n",
       "    \"predict_steps_per_second\": 31.346    NaN\n",
       "}                                         NaN"
      ]
     },
     "execution_count": 35,
     "metadata": {},
     "output_type": "execute_result"
    }
   ],
   "source": [
    "pd.read_csv('/work-ceph/bizer-tp2021/data_integration_using_deep_learning/Subfolder_contrastive_learning/Use_case_schema/contrastive-product-matching/reports/CPU/contrastive-ft-siamese/computers-small-128-5e-05-0.07-frozen-roberta-base/0/predict_results.json')"
   ]
  },
  {
   "cell_type": "code",
   "execution_count": null,
   "id": "64858f1b",
   "metadata": {},
   "outputs": [],
   "source": []
  }
 ],
 "metadata": {
  "kernelspec": {
   "display_name": "Python 3 (ipykernel)",
   "language": "python",
   "name": "python3"
  },
  "language_info": {
   "codemirror_mode": {
    "name": "ipython",
    "version": 3
   },
   "file_extension": ".py",
   "mimetype": "text/x-python",
   "name": "python",
   "nbconvert_exporter": "python",
   "pygments_lexer": "ipython3",
   "version": "3.8.8"
  }
 },
 "nbformat": 4,
 "nbformat_minor": 5
}
