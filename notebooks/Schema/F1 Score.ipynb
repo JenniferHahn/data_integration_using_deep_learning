{
 "cells": [
  {
   "cell_type": "code",
   "execution_count": 1,
   "id": "fc2b3b68",
   "metadata": {},
   "outputs": [],
   "source": [
    "import pandas as pd"
   ]
  },
  {
   "cell_type": "code",
   "execution_count": 11,
   "id": "1873fb39",
   "metadata": {},
   "outputs": [],
   "source": [
    "res = pd.read_csv('../../src/data/schemafiltereddata/roberta_predict_results_None.txt', sep='\\t')"
   ]
  },
  {
   "cell_type": "code",
   "execution_count": 2,
   "id": "4f603f56",
   "metadata": {},
   "outputs": [],
   "source": [
    "res = pd.read_csv('../../src/data/schemafiltereddata/distilbert_predict_results_None.txt', sep='\\t')"
   ]
  },
  {
   "cell_type": "code",
   "execution_count": 8,
   "id": "d4847374",
   "metadata": {},
   "outputs": [],
   "source": [
    "res = pd.read_csv('../../src/data/schemafiltereddata/bert_predict_results_None.txt', sep='\\t')"
   ]
  },
  {
   "cell_type": "code",
   "execution_count": 3,
   "id": "6266b476",
   "metadata": {},
   "outputs": [],
   "source": [
    "res.drop('index', axis=1, inplace=True)"
   ]
  },
  {
   "cell_type": "code",
   "execution_count": 4,
   "id": "5229136e",
   "metadata": {},
   "outputs": [],
   "source": [
    "real = pd.read_csv('../../src/data/schemafiltereddata/TrainTestTables/test_tables_9000_prepped.csv')"
   ]
  },
  {
   "cell_type": "code",
   "execution_count": 6,
   "id": "79c88934",
   "metadata": {},
   "outputs": [],
   "source": [
    "from sklearn.metrics import f1_score"
   ]
  },
  {
   "cell_type": "code",
   "execution_count": 12,
   "id": "aa4be28a",
   "metadata": {},
   "outputs": [
    {
     "data": {
      "text/plain": [
       "0.8030199177485686"
      ]
     },
     "execution_count": 12,
     "metadata": {},
     "output_type": "execute_result"
    }
   ],
   "source": [
    "#roberta\n",
    "f1_score(res.prediction, real.label, average='micro')"
   ]
  },
  {
   "cell_type": "code",
   "execution_count": 7,
   "id": "b0d8585d",
   "metadata": {},
   "outputs": [
    {
     "data": {
      "text/plain": [
       "0.8019312958632369"
      ]
     },
     "execution_count": 7,
     "metadata": {},
     "output_type": "execute_result"
    }
   ],
   "source": [
    "# distilbert\n",
    "f1_score(res.prediction, real.label, average='micro')"
   ]
  },
  {
   "cell_type": "code",
   "execution_count": 9,
   "id": "98517212",
   "metadata": {},
   "outputs": [
    {
     "data": {
      "text/plain": [
       "0.8014071445851141"
      ]
     },
     "execution_count": 9,
     "metadata": {},
     "output_type": "execute_result"
    }
   ],
   "source": [
    "# bert\n",
    "f1_score(res.prediction, real.label, average='micro')"
   ]
  },
  {
   "cell_type": "code",
   "execution_count": null,
   "id": "7ebb57db",
   "metadata": {},
   "outputs": [],
   "source": []
  }
 ],
 "metadata": {
  "kernelspec": {
   "display_name": "Python 3 (ipykernel)",
   "language": "python",
   "name": "python3"
  },
  "language_info": {
   "codemirror_mode": {
    "name": "ipython",
    "version": 3
   },
   "file_extension": ".py",
   "mimetype": "text/x-python",
   "name": "python",
   "nbconvert_exporter": "python",
   "pygments_lexer": "ipython3",
   "version": "3.8.8"
  }
 },
 "nbformat": 4,
 "nbformat_minor": 5
}
