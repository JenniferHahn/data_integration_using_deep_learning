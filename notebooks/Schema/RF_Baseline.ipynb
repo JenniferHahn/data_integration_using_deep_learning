{
 "cells": [
  {
   "cell_type": "code",
   "execution_count": 1,
   "id": "a1f94f38",
   "metadata": {},
   "outputs": [],
   "source": [
    "import os\n",
    "import pandas as pd\n",
    "import gzip\n",
    "import json\n",
    "import numpy as np\n",
    "import nltk\n",
    "from nltk.corpus import stopwords\n",
    "import string\n",
    "from nltk.tokenize import word_tokenize\n",
    "from sklearn.feature_extraction.text import TfidfVectorizer\n",
    "from sklearn.feature_extraction.text import CountVectorizer\n",
    "from sklearn.ensemble import RandomForestClassifier\n",
    "from sklearn.metrics import accuracy_score, f1_score, precision_score, recall_score\n",
    "import re"
   ]
  },
  {
   "cell_type": "code",
   "execution_count": 2,
   "id": "8e15f146",
   "metadata": {},
   "outputs": [],
   "source": [
    "train = pd.read_csv('../../src/data/schemafiltereddata/TrainTestTables/small_train_prepped.csv')"
   ]
  },
  {
   "cell_type": "code",
   "execution_count": 3,
   "id": "1f58ecfa",
   "metadata": {},
   "outputs": [],
   "source": [
    "train.drop(['class', 'Unnamed: 0'], axis=1, inplace=True)"
   ]
  },
  {
   "cell_type": "code",
   "execution_count": 4,
   "id": "62558c50",
   "metadata": {},
   "outputs": [],
   "source": [
    "test = pd.read_csv('../../src/data/schemafiltereddata/TrainTestTables/test_tables_seq.csv')\n",
    "test[\"label_complete\"] = test[\"name\"] + test[\"class\"]"
   ]
  },
  {
   "cell_type": "code",
   "execution_count": 5,
   "id": "ae1a0e6a",
   "metadata": {},
   "outputs": [
    {
     "data": {
      "text/plain": [
       "(7033, 5)"
      ]
     },
     "execution_count": 5,
     "metadata": {},
     "output_type": "execute_result"
    }
   ],
   "source": [
    "test.drop(test[(test['name']=='inalbum') &(test['class']=='MusicRecording')].index, inplace=True)\n",
    "test.drop(test[(test['name']=='performer') &(test['class']=='Event')].index, inplace=True)\n",
    "test.drop(test[(test['name']=='eventattendancemode') &(test['class']=='Event')].index, inplace=True)\n",
    "test.drop(test[(test['name']=='eventstatus') &(test['class']=='Event')].index, inplace=True)\n",
    "test.shape"
   ]
  },
  {
   "cell_type": "code",
   "execution_count": 6,
   "id": "ea9e029f",
   "metadata": {},
   "outputs": [],
   "source": [
    "test.drop(['Unnamed: 0', 'class'], axis=1, inplace=True)"
   ]
  },
  {
   "cell_type": "code",
   "execution_count": 7,
   "id": "86103542",
   "metadata": {},
   "outputs": [],
   "source": [
    "test['text'] = test.text.apply(lambda x: re.sub(\"[^0-9a-zA-Z-@]+\", \" \", x))"
   ]
  },
  {
   "cell_type": "code",
   "execution_count": 8,
   "id": "fb5772c4",
   "metadata": {},
   "outputs": [],
   "source": [
    "labels_new = {'worstratingProduct': 0,\n",
    " 'acceptsreservationsRestaurant': 1,\n",
    " 'additionalnamePerson': 2,\n",
    " 'additionalpropertyProduct': 3,\n",
    " 'addressHotel': 4,\n",
    " 'addressLocalBusiness': 5,\n",
    " 'addressPerson': 6,\n",
    " 'addressProduct': 7,\n",
    " 'addressRestaurant': 8,\n",
    " 'addresslocalityLocalBusiness': 9,\n",
    " 'addressregionLocalBusiness': 10,\n",
    " 'affiliationPerson': 11,\n",
    " 'aggregateratingBook': 12,\n",
    " 'aggregateratingCreativeWork': 13,\n",
    " 'aggregateratingHotel': 14,\n",
    " 'aggregateratingLocalBusiness': 15,\n",
    " 'aggregateratingProduct': 16,\n",
    " 'aggregateratingRecipe': 17,\n",
    " 'aggregateratingRestaurant': 18,\n",
    " 'alternatenameProduct': 19,\n",
    " 'alternativeheadlineCreativeWork': 20,\n",
    " 'areaservedLocalBusiness': 21,\n",
    " 'articlebodyCreativeWork': 22,\n",
    " 'audienceProduct': 23,\n",
    " 'authorBook': 24,\n",
    " 'authorCreativeWork': 25,\n",
    " 'authorProduct': 26,\n",
    " 'authorRecipe': 27,\n",
    " 'availabilityProduct': 28,\n",
    " 'bestratingProduct': 29,\n",
    " 'birthdatePerson': 30,\n",
    " 'birthplacePerson': 31,\n",
    " 'bookeditionBook': 32,\n",
    " 'bookformatBook': 33,\n",
    " 'brandProduct': 34,\n",
    " 'breadcrumbProduct': 35,\n",
    " 'byartistMusicAlbum': 36,\n",
    " 'byartistMusicRecording': 37,\n",
    " 'categoryProduct': 38,\n",
    " 'citystatezipLocalBusiness': 39,\n",
    " 'colorProduct': 40,\n",
    " 'commentcountCreativeWork': 41,\n",
    " 'conditionProduct': 42,\n",
    " 'contactpointLocalBusiness': 43,\n",
    " 'contactpointPerson': 44,\n",
    " 'cookingmethodRecipe': 45,\n",
    " 'cooktimeRecipe': 46,\n",
    " 'copyrightholderCreativeWork': 47,\n",
    " 'copyrightyearCreativeWork': 48,\n",
    " 'creatorCreativeWork': 49,\n",
    " 'datecreatedCreativeWork': 50,\n",
    " 'datecreatedMusicRecording': 51,\n",
    " 'datemodifiedCreativeWork': 52,\n",
    " 'datemodifiedRecipe': 53,\n",
    " 'datepublishedBook': 54,\n",
    " 'datepublishedCreativeWork': 55,\n",
    " 'datepublishedMusicRecording': 56,\n",
    " 'datepublishedProduct': 57,\n",
    " 'datepublishedRecipe': 58,\n",
    " 'deathdatePerson': 59,\n",
    " 'depthProduct': 60,\n",
    " 'disambiguatingdescriptionProduct': 61,\n",
    " 'doortimeEvent': 62,\n",
    " 'durationEvent': 63,\n",
    " 'durationMusicRecording': 64,\n",
    " 'emailHotel': 65,\n",
    " 'emailLocalBusiness': 66,\n",
    " 'emailPerson': 67,\n",
    " 'enddateEvent': 68,\n",
    " 'episodenumberTVEpisode': 69,\n",
    " 'worksforPerson': 70,\n",
    " 'familynamePerson': 71,\n",
    " 'faxnumberLocalBusiness': 72,\n",
    " 'faxnumberPerson': 73,\n",
    " 'genderPerson': 74,\n",
    " 'genreBook': 75,\n",
    " 'genreCreativeWork': 76,\n",
    " 'genreMusicRecording': 77,\n",
    " 'geoHotel': 78,\n",
    " 'geoLocalBusiness': 79,\n",
    " 'geoPlace': 80,\n",
    " 'geoProduct': 81,\n",
    " 'geoRestaurant': 82,\n",
    " 'givennamePerson': 83,\n",
    " 'gtin12Product': 84,\n",
    " 'gtin13Product': 85,\n",
    " 'gtin14Product': 86,\n",
    " 'gtin8Product': 87,\n",
    " 'gtinProduct': 88,\n",
    " 'hasmapLocalBusiness': 89,\n",
    " 'hasmenuRestaurant': 90,\n",
    " 'headlineCreativeWork': 91,\n",
    " 'headlineRecipe': 92,\n",
    " 'heightPerson': 93,\n",
    " 'heightProduct': 94,\n",
    " 'homelocationPerson': 95,\n",
    " 'identifierProduct': 96,\n",
    " 'worklocationPerson': 97,\n",
    " 'ingredientsRecipe': 98,\n",
    " 'inlanguageBook': 99,\n",
    " 'inlanguageCreativeWork': 100,\n",
    " 'interactioncountCreativeWork': 101,\n",
    " 'interactionstatisticCreativeWork': 102,\n",
    " 'interactiontypeCreativeWork': 103,\n",
    " 'isbnBook': 104,\n",
    " 'ispartofRecipe': 105,\n",
    " 'isrelatedtoProduct': 106,\n",
    " 'issimilartoProduct': 107,\n",
    " 'itemconditionProduct': 108,\n",
    " 'itemlistelementProduct': 109,\n",
    " 'jobtitlePerson': 110,\n",
    " 'keywordsCreativeWork': 111,\n",
    " 'keywordsRecipe': 112,\n",
    " 'knowslanguagePerson': 113,\n",
    " 'legalnameLocalBusiness': 114,\n",
    " 'locationEvent': 115,\n",
    " 'locationLocalBusiness': 116,\n",
    " 'mainentityofpageCreativeWork': 117,\n",
    " 'mainentityofpagePerson': 118,\n",
    " 'mainentityofpageProduct': 119,\n",
    " 'mainentityofpageRecipe': 120,\n",
    " 'makesofferPerson': 121,\n",
    " 'manufacturerProduct': 122,\n",
    " 'materialProduct': 123,\n",
    " 'memberofPerson': 124,\n",
    " 'menuRestaurant': 125,\n",
    " 'modelProduct': 126,\n",
    " 'mpnProduct': 127,\n",
    " 'nameBook': 128,\n",
    " 'nameCreativeWork': 129,\n",
    " 'nameEvent': 130,\n",
    " 'nameHotel': 131,\n",
    " 'nameLocalBusiness': 132,\n",
    " 'nameMusicAlbum': 133,\n",
    " 'nameMusicRecording': 134,\n",
    " 'namePlace': 135,\n",
    " 'nameProduct': 136,\n",
    " 'nameRecipe': 137,\n",
    " 'nameRestaurant': 138,\n",
    " 'nameTVEpisode': 139,\n",
    " 'nationalityPerson': 140,\n",
    " 'numberofpagesBook': 141,\n",
    " 'numtracksMusicAlbum': 142,\n",
    " 'nutritionRecipe': 143,\n",
    " 'weightProduct': 144,\n",
    " 'offersBook': 145,\n",
    " 'offersCreativeWork': 146,\n",
    " 'offersProduct': 147,\n",
    " 'openinghoursLocalBusiness': 148,\n",
    " 'openinghoursRestaurant': 149,\n",
    " 'openinghoursspecificationLocalBusiness': 150,\n",
    " 'openinghoursspecificationPlace': 151,\n",
    " 'openinghoursspecificationRestaurant': 152,\n",
    " 'organizerEvent': 153,\n",
    " 'partofseriesTVEpisode': 154,\n",
    " 'paymentacceptedLocalBusiness': 155,\n",
    " 'widthProduct': 156,\n",
    " 'performersEvent': 157,\n",
    " 'performtimeRecipe': 158,\n",
    " 'postalcodeLocalBusiness': 159,\n",
    " 'preptimeRecipe': 160,\n",
    " 'priceProduct': 161,\n",
    " 'pricecurrencyProduct': 162,\n",
    " 'pricerangeHotel': 163,\n",
    " 'pricerangeLocalBusiness': 164,\n",
    " 'pricerangeRestaurant': 165,\n",
    " 'publisherBook': 166,\n",
    " 'publisherCreativeWork': 167,\n",
    " 'publisherRecipe': 168,\n",
    " 'ratingvalueProduct': 169,\n",
    " 'recipecategoryRecipe': 170,\n",
    " 'recipecuisineRecipe': 171,\n",
    " 'recipeingredientRecipe': 172,\n",
    " 'recipeinstructionsRecipe': 173,\n",
    " 'recipeyieldRecipe': 174,\n",
    " 'releasedateProduct': 175,\n",
    " 'reviewLocalBusiness': 176,\n",
    " 'reviewProduct': 177,\n",
    " 'reviewRecipe': 178,\n",
    " 'reviewcountProduct': 179,\n",
    " 'reviewsProduct': 180,\n",
    " 'sameasLocalBusiness': 181,\n",
    " 'sameasPerson': 182,\n",
    " 'sameasPlace': 183,\n",
    " 'servescuisineRestaurant': 184,\n",
    " 'shop-currencyProduct': 185,\n",
    " 'starratingHotel': 186,\n",
    " 'streetaddressLocalBusiness': 187,\n",
    " 'suitablefordietRecipe': 188,\n",
    " 'telephoneHotel': 189,\n",
    " 'telephoneLocalBusiness': 190,\n",
    " 'telephonePerson': 191,\n",
    " 'telephonePlace': 192,\n",
    " 'telephoneRestaurant': 193,\n",
    " 'titleProduct': 194,\n",
    " 'totaltimeRecipe': 195,\n",
    " 'trackMusicAlbum': 196,\n",
    " 'typicalagerangeEvent': 197,\n",
    " 'versionCreativeWork': 198,\n",
    " 'weightPerson': 199,\n",
    " 'offerdetailsProduct': 200,\n",
    " 'founderLocalBusiness': 201\n",
    " #'eventattendancemodeEvent': 201,\n",
    " #'performerEvent': 202,\n",
    " #'inalbumMusicRecording': 203,\n",
    " #'eventstatusEvent': 204\n",
    " }"
   ]
  },
  {
   "cell_type": "code",
   "execution_count": 9,
   "id": "0ee5cfd5",
   "metadata": {},
   "outputs": [],
   "source": [
    "test['label'] = test.label_complete.map(labels_new)"
   ]
  },
  {
   "cell_type": "code",
   "execution_count": 10,
   "id": "d7990ae1",
   "metadata": {},
   "outputs": [],
   "source": [
    "test.drop(['label_complete', 'name'], axis=1, inplace=True)"
   ]
  },
  {
   "cell_type": "code",
   "execution_count": 11,
   "id": "3e7a41aa",
   "metadata": {},
   "outputs": [],
   "source": [
    "def remove_stopwords(token_vector, stopwords_list):\n",
    "    return token_vector.apply(lambda token_list: [word for word in token_list if word not in stopwords_list])"
   ]
  },
  {
   "cell_type": "code",
   "execution_count": 12,
   "id": "7c7b23a1",
   "metadata": {},
   "outputs": [],
   "source": [
    "def remove_punctuation(token_vector):\n",
    "    return token_vector.apply(lambda token_list: [word for word in token_list if word not in string.punctuation])"
   ]
  },
  {
   "cell_type": "code",
   "execution_count": 13,
   "id": "55660bda",
   "metadata": {},
   "outputs": [],
   "source": [
    "train['train'] = 1"
   ]
  },
  {
   "cell_type": "code",
   "execution_count": 14,
   "id": "28560076",
   "metadata": {},
   "outputs": [],
   "source": [
    "test['train'] = 0"
   ]
  },
  {
   "cell_type": "code",
   "execution_count": 15,
   "id": "bcfe410c",
   "metadata": {},
   "outputs": [
    {
     "name": "stderr",
     "output_type": "stream",
     "text": [
      "[nltk_data] Downloading package punkt to /home/bizer-\n",
      "[nltk_data]     tp2021/nltk_data...\n",
      "[nltk_data]   Package punkt is already up-to-date!\n"
     ]
    },
    {
     "data": {
      "text/plain": [
       "True"
      ]
     },
     "execution_count": 15,
     "metadata": {},
     "output_type": "execute_result"
    }
   ],
   "source": [
    "nltk.download('punkt')"
   ]
  },
  {
   "cell_type": "code",
   "execution_count": 16,
   "id": "3c27fb9c",
   "metadata": {},
   "outputs": [
    {
     "name": "stderr",
     "output_type": "stream",
     "text": [
      "[nltk_data] Downloading package stopwords to /home/bizer-\n",
      "[nltk_data]     tp2021/nltk_data...\n",
      "[nltk_data]   Package stopwords is already up-to-date!\n"
     ]
    },
    {
     "data": {
      "text/plain": [
       "True"
      ]
     },
     "execution_count": 16,
     "metadata": {},
     "output_type": "execute_result"
    }
   ],
   "source": [
    "nltk.download('stopwords')"
   ]
  },
  {
   "cell_type": "code",
   "execution_count": 17,
   "id": "277ada17",
   "metadata": {},
   "outputs": [],
   "source": [
    "data = train.append(test)"
   ]
  },
  {
   "cell_type": "code",
   "execution_count": 18,
   "id": "0cb1ed7d",
   "metadata": {},
   "outputs": [
    {
     "data": {
      "text/plain": [
       "(18389, 3)"
      ]
     },
     "execution_count": 18,
     "metadata": {},
     "output_type": "execute_result"
    }
   ],
   "source": [
    "data.shape"
   ]
  },
  {
   "cell_type": "code",
   "execution_count": 19,
   "id": "e5d3eec9",
   "metadata": {},
   "outputs": [],
   "source": [
    "data['concat'] = data['text'].apply(lambda row: row.lower())"
   ]
  },
  {
   "cell_type": "code",
   "execution_count": 20,
   "id": "d577c613",
   "metadata": {},
   "outputs": [],
   "source": [
    "data['tokens'] = data['concat'].apply(lambda row: word_tokenize(row))"
   ]
  },
  {
   "cell_type": "code",
   "execution_count": 21,
   "id": "be961cb5",
   "metadata": {},
   "outputs": [],
   "source": [
    "data['tokens'] = remove_stopwords(data['tokens'], stopwords.words())"
   ]
  },
  {
   "cell_type": "code",
   "execution_count": 22,
   "id": "1cb956dd",
   "metadata": {},
   "outputs": [],
   "source": [
    "data['tokens'] = remove_punctuation(data['tokens'])"
   ]
  },
  {
   "cell_type": "code",
   "execution_count": 23,
   "id": "4958ffc8",
   "metadata": {},
   "outputs": [],
   "source": [
    "data.drop(columns=['concat'],inplace=True)"
   ]
  },
  {
   "cell_type": "code",
   "execution_count": 24,
   "id": "4d71e6ee",
   "metadata": {},
   "outputs": [],
   "source": [
    "data.to_csv('../../src/data/schemafiltereddata/TrainTestTables/tokenized_rf.csv')"
   ]
  },
  {
   "cell_type": "markdown",
   "id": "2b6abab3",
   "metadata": {},
   "source": [
    "Einlesen"
   ]
  },
  {
   "cell_type": "code",
   "execution_count": 122,
   "id": "b6870544",
   "metadata": {},
   "outputs": [],
   "source": [
    "data = pd.read_csv('../../src/data/schemafiltereddata/TrainTestTables/tokenized_rf.csv')"
   ]
  },
  {
   "cell_type": "code",
   "execution_count": 123,
   "id": "05d4844a",
   "metadata": {},
   "outputs": [],
   "source": [
    "data.drop(['Unnamed: 0', 'text'], axis=1, inplace=True)"
   ]
  },
  {
   "cell_type": "code",
   "execution_count": 124,
   "id": "41f83246",
   "metadata": {},
   "outputs": [],
   "source": [
    "train = data.head(11356)"
   ]
  },
  {
   "cell_type": "code",
   "execution_count": 125,
   "id": "e826da51",
   "metadata": {},
   "outputs": [],
   "source": [
    "test = data.tail(7033)"
   ]
  },
  {
   "cell_type": "code",
   "execution_count": 126,
   "id": "c83b3eb3",
   "metadata": {},
   "outputs": [],
   "source": [
    "def dummy(doc):\n",
    "    return doc\n",
    "\n",
    "vectorizer  = CountVectorizer(\n",
    "        tokenizer=dummy,\n",
    "        preprocessor=dummy,\n",
    "        max_features=30000,\n",
    "        binary=True)  \n",
    "tf_value = vectorizer.fit_transform(train['tokens'])"
   ]
  },
  {
   "cell_type": "code",
   "execution_count": 127,
   "id": "c953b895",
   "metadata": {},
   "outputs": [],
   "source": [
    "#define vectorizer to match preprocessed tokes\n",
    "#def dummy_fun(doc):\n",
    " #   return doc\n",
    "\n",
    "#tfidf = TfidfVectorizer(\n",
    " #   analyzer='word',\n",
    "  #  tokenizer=dummy_fun,\n",
    "   # preprocessor=dummy_fun,\n",
    "    #token_pattern=None,\n",
    "    #max_features=15000)  \n",
    "#tfidf_value = tfidf.fit_transform(data['tokens'])"
   ]
  },
  {
   "cell_type": "code",
   "execution_count": 20,
   "id": "048193fd",
   "metadata": {},
   "outputs": [],
   "source": [
    "#df_tfidf = pd.DataFrame(tfidf_value.toarray(), columns=tfidf.get_feature_names())"
   ]
  },
  {
   "cell_type": "code",
   "execution_count": 15,
   "id": "e48d180e",
   "metadata": {},
   "outputs": [],
   "source": [
    "#df_tf = pd.DataFrame(tf_value.toarray(), columns=vectorizer.get_feature_names())"
   ]
  },
  {
   "cell_type": "code",
   "execution_count": 22,
   "id": "d719d65c",
   "metadata": {},
   "outputs": [],
   "source": [
    "#df_tf = pd.DataFrame(tf_value.toarray(), columns=vectorizer.get_feature_names())\n",
    "#df_tfidf = pd.DataFrame(tfidf_value.toarray(), columns=tfidf.get_feature_names())\n",
    "#df_prepared = pd.concat([data.reset_index(), df_tfidf, df_tf], axis=1)"
   ]
  },
  {
   "cell_type": "markdown",
   "id": "5b03b1d2",
   "metadata": {},
   "source": [
    "Train"
   ]
  },
  {
   "cell_type": "code",
   "execution_count": 128,
   "id": "2455e0ca",
   "metadata": {},
   "outputs": [],
   "source": [
    "df_tf = pd.DataFrame(tf_value.toarray(), columns=vectorizer.get_feature_names())"
   ]
  },
  {
   "cell_type": "code",
   "execution_count": 129,
   "id": "27346bbd",
   "metadata": {},
   "outputs": [],
   "source": [
    "train = pd.concat([train.reset_index(), df_tf], axis=1)"
   ]
  },
  {
   "cell_type": "code",
   "execution_count": 130,
   "id": "d98fae6c",
   "metadata": {},
   "outputs": [],
   "source": [
    "train.drop(['index'], inplace=True, axis=1)"
   ]
  },
  {
   "cell_type": "markdown",
   "id": "4bd155f1",
   "metadata": {},
   "source": [
    "Test"
   ]
  },
  {
   "cell_type": "code",
   "execution_count": 131,
   "id": "942a86e5",
   "metadata": {},
   "outputs": [],
   "source": [
    "test_vec = vectorizer.transform(test['tokens'])"
   ]
  },
  {
   "cell_type": "code",
   "execution_count": 132,
   "id": "0be821ba",
   "metadata": {},
   "outputs": [],
   "source": [
    "df_tf_test = pd.DataFrame(test_vec.toarray(), columns=vectorizer.get_feature_names())"
   ]
  },
  {
   "cell_type": "code",
   "execution_count": 133,
   "id": "972fd2d3",
   "metadata": {},
   "outputs": [],
   "source": [
    "test = pd.concat([test.reset_index(), df_tf_test], axis=1)"
   ]
  },
  {
   "cell_type": "code",
   "execution_count": 43,
   "id": "897aa5ed",
   "metadata": {},
   "outputs": [],
   "source": [
    "#y_train = train['label']\n",
    "#X_train = train.drop(columns=['tokens','label', 'text', 'train'])"
   ]
  },
  {
   "cell_type": "code",
   "execution_count": 134,
   "id": "bbf900bc",
   "metadata": {},
   "outputs": [],
   "source": [
    "y_train = train['label']"
   ]
  },
  {
   "cell_type": "code",
   "execution_count": 135,
   "id": "04364b20",
   "metadata": {},
   "outputs": [],
   "source": [
    "X_train = train.drop(columns=['tokens','label', 'train'])"
   ]
  },
  {
   "cell_type": "code",
   "execution_count": 74,
   "id": "ecdefba9",
   "metadata": {},
   "outputs": [],
   "source": [
    "#y_train = y_train.iloc[:, 0]"
   ]
  },
  {
   "cell_type": "code",
   "execution_count": 136,
   "id": "06519225",
   "metadata": {},
   "outputs": [],
   "source": [
    "y_test = test['label']\n",
    "X_test = test.drop(columns=['tokens','label', 'train'])"
   ]
  },
  {
   "cell_type": "code",
   "execution_count": 33,
   "id": "4a20e8d8",
   "metadata": {},
   "outputs": [],
   "source": [
    "#y_test = y_test.iloc[:, 0]"
   ]
  },
  {
   "cell_type": "code",
   "execution_count": 137,
   "id": "ab5cd8a4",
   "metadata": {},
   "outputs": [
    {
     "data": {
      "text/plain": [
       "int64    3798\n",
       "dtype: int64"
      ]
     },
     "execution_count": 137,
     "metadata": {},
     "output_type": "execute_result"
    }
   ],
   "source": [
    "X_train.dtypes.value_counts()"
   ]
  },
  {
   "cell_type": "code",
   "execution_count": 138,
   "id": "825cbdc6",
   "metadata": {},
   "outputs": [
    {
     "data": {
      "text/plain": [
       "RandomForestClassifier()"
      ]
     },
     "execution_count": 138,
     "metadata": {},
     "output_type": "execute_result"
    }
   ],
   "source": [
    "# Baseline random forest\n",
    "rf = RandomForestClassifier()\n",
    "rf.fit(X_train, y_train)"
   ]
  },
  {
   "cell_type": "code",
   "execution_count": 139,
   "id": "8bf91de6",
   "metadata": {},
   "outputs": [],
   "source": [
    "X_test.drop('index', axis=1, inplace=True)"
   ]
  },
  {
   "cell_type": "code",
   "execution_count": 140,
   "id": "f10684f0",
   "metadata": {},
   "outputs": [
    {
     "name": "stdout",
     "output_type": "stream",
     "text": [
      "The F1-Score micro on test set: 0.2758\n",
      "The F1-Score macro on test set: 0.1402\n",
      "The Precision on test set: 0.2758\n",
      "The Recall on test set: 0.2758\n",
      "The Precision macro on test set: 0.1914\n",
      "The Recall macro on test set: 0.1495\n",
      "The Accuracy-Score on test set: 0.2758\n"
     ]
    },
    {
     "name": "stderr",
     "output_type": "stream",
     "text": [
      "/home/bizer-tp2021/anaconda3/lib/python3.8/site-packages/sklearn/metrics/_classification.py:1245: UndefinedMetricWarning: Precision is ill-defined and being set to 0.0 in labels with no predicted samples. Use `zero_division` parameter to control this behavior.\n",
      "  _warn_prf(average, modifier, msg_start, len(result))\n",
      "/home/bizer-tp2021/anaconda3/lib/python3.8/site-packages/sklearn/metrics/_classification.py:1245: UndefinedMetricWarning: Recall is ill-defined and being set to 0.0 in labels with no true samples. Use `zero_division` parameter to control this behavior.\n",
      "  _warn_prf(average, modifier, msg_start, len(result))\n"
     ]
    }
   ],
   "source": [
    "prediction = rf.predict(X_test) \n",
    "f1_mic = f1_score(y_test,prediction,average='micro')\n",
    "f1_mac = f1_score(y_test,prediction,average='macro')\n",
    "accuracy = accuracy_score(y_test,prediction) \n",
    "precision = precision_score(y_test,prediction,average='micro') \n",
    "recall = recall_score(y_test,prediction,average='micro') \n",
    "precision_mac = precision_score(y_test,prediction,average='macro') \n",
    "recall_mac = recall_score(y_test,prediction,average='macro') \n",
    "print(\"The F1-Score micro on test set: {:.4f}\".format(f1_mic))\n",
    "print(\"The F1-Score macro on test set: {:.4f}\".format(f1_mac))\n",
    "print(\"The Precision on test set: {:.4f}\".format(precision))\n",
    "print(\"The Recall on test set: {:.4f}\".format(recall))\n",
    "print(\"The Precision macro on test set: {:.4f}\".format(precision_mac))\n",
    "print(\"The Recall macro on test set: {:.4f}\".format(recall_mac))\n",
    "print(\"The Accuracy-Score on test set: {:.4f}\".format(accuracy))"
   ]
  },
  {
   "cell_type": "code",
   "execution_count": null,
   "id": "291a97dd",
   "metadata": {},
   "outputs": [],
   "source": [
    "data.tokens[0].strip('][').split(', ').append(['0'])\n",
    "s = set(data.tokens[0].strip('][').split(', '))\n",
    "for i in range(1, data.shape[0]):\n",
    "    s.update(data.tokens[i].strip('][').split(', '))\n",
    "    \n",
    "len(s)"
   ]
  },
  {
   "cell_type": "code",
   "execution_count": 56,
   "id": "41d57b9a",
   "metadata": {},
   "outputs": [],
   "source": [
    "l = list(s)"
   ]
  },
  {
   "cell_type": "code",
   "execution_count": null,
   "id": "6e48ddd6",
   "metadata": {},
   "outputs": [],
   "source": [
    "for col in l:\n",
    "    data[col] = \"\""
   ]
  },
  {
   "cell_type": "code",
   "execution_count": null,
   "id": "6e06677d",
   "metadata": {},
   "outputs": [],
   "source": [
    "data"
   ]
  },
  {
   "cell_type": "code",
   "execution_count": null,
   "id": "dda72951",
   "metadata": {},
   "outputs": [],
   "source": [
    "for el in data.tokens.split():\n",
    "    for colname in l:\n",
    "    if el == colname:\n",
    "        data[colname] = 1\n",
    "    else:\n",
    "        data[colname] = 0"
   ]
  },
  {
   "cell_type": "code",
   "execution_count": null,
   "id": "dcdb25a5",
   "metadata": {},
   "outputs": [],
   "source": []
  }
 ],
 "metadata": {
  "kernelspec": {
   "display_name": "Python 3 (ipykernel)",
   "language": "python",
   "name": "python3"
  },
  "language_info": {
   "codemirror_mode": {
    "name": "ipython",
    "version": 3
   },
   "file_extension": ".py",
   "mimetype": "text/x-python",
   "name": "python",
   "nbconvert_exporter": "python",
   "pygments_lexer": "ipython3",
   "version": "3.8.8"
  }
 },
 "nbformat": 4,
 "nbformat_minor": 5
}
