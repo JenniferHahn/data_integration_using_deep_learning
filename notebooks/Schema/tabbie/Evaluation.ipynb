{
 "cells": [
  {
   "cell_type": "code",
   "execution_count": 1,
   "id": "0fa2b4eb",
   "metadata": {},
   "outputs": [
    {
     "name": "stdout",
     "output_type": "stream",
     "text": [
      "accuracy:  1.0\n",
      "micro f1:  1.0\n",
      "macro f1:  1.0\n",
      "weighted f1:  1.0\n"
     ]
    }
   ],
   "source": [
    "import json\n",
    "import os\n",
    "import pandas as pd\n",
    "pd.set_option('display.max_colwidth', 1000)\n",
    "\n",
    "# y_pred\n",
    "parent_path = os.path.dirname(os.getcwd())\n",
    "#fp = \".\\out_model\\pred_test.jsonl\"   # output of Tabbie\n",
    "fp = parent_path + \"/tabbie/evaluation/small-100-shuffled/pred_test.jsonl\"\n",
    "with open(fp, 'r') as json_file:\n",
    "    json_list = list(json_file)\n",
    "\n",
    "# initiate a dataframe\n",
    "df_pred = pd.DataFrame(columns=['fname','col_id','cluster_id'])\n",
    "\n",
    "for j in json_list:\n",
    "    result = json.loads(j)\n",
    "    fname = result['table_id']\n",
    "    col_ids = result['col_labels']\n",
    "\n",
    "    for i in col_ids:\n",
    "        df_pred = df_pred.append({'fname': fname, 'col_id': i, 'cluster_id': result['header'][i]}, ignore_index=True)\n",
    "df_pred.sort_values(['fname', 'col_id'], ascending=[True, True], inplace=True)\n",
    "\n",
    "selection_dict = {}\n",
    "keys = df_pred['fname'].unique()\n",
    "for key in keys:\n",
    "    value = df_pred[df_pred['fname']==key]['col_id'].tolist()\n",
    "    selection_dict[key] = value\n",
    "\n",
    "# y_true\n",
    "parent_path = os.path.dirname(os.getcwd())\n",
    "#test_table_path = parent_path + \"/src/data/LocalBusiness/Splitting_TabbieData/Train_Test/test tables\"   #TO CHANGE\n",
    "#test_label_path = parent_path + \"/src/data/LocalBusiness/Splitting_TabbieData/Train_Test\"         #TO CHANGE\n",
    "\n",
    "test_table_path = \"../../../src/data/schemafiltereddata/tabbie/without-100/test\"   #TO CHANGE\n",
    "test_label_path = \"../../../src/data/schemafiltereddata/tabbie/without-100\"\n",
    "\n",
    "# initiate a dataframe\n",
    "df_true = pd.DataFrame(columns=['fname','col_id','cluster_id'])\n",
    "\n",
    "#test_labels = pd.read_csv(os.path.join(test_label_path, 'test_label.csv'))\n",
    "#test_labels = pd.read_csv(os.path.join(test_label_path, 'test_label_new.csv'))\n",
    "test_labels = pd.read_csv(os.path.join(test_label_path, 'test_label_without-100.csv'))\n",
    "if 'Unnamed: 0' in test_labels.columns:\n",
    "    test_labels.drop(columns=['Unnamed: 0'], inplace= True)\n",
    "\n",
    "tables = test_labels['fname'].unique()\n",
    "for t in tables:\n",
    "    tmp = pd.read_csv(os.path.join(test_table_path, t)) # change to read_json...\n",
    "    \n",
    "    fname = os.path.splitext(t)[0]\n",
    "    for i in range(len(tmp.columns)):\n",
    "        df_true = df_true.append({'fname':fname, 'col_id': i, 'cluster_id': tmp.columns[i]}, ignore_index=True)\n",
    "\n",
    "# filter for including only predicted instances\n",
    "df_true2 = pd.DataFrame(columns=['fname','col_id','cluster_id'])\n",
    "\n",
    "for key in selection_dict.keys():\n",
    "    value = selection_dict[key]\n",
    "    tmp = df_true[df_true['fname']== key]\n",
    "    tmp2 = tmp[tmp['col_id'].isin(value)]\n",
    "    df_true2 = pd.concat([df_true2, tmp2], ignore_index=True)\n",
    "df_true2.sort_values(['fname', 'col_id'], ascending=[True, True], inplace=True)\n",
    "\n",
    "# Evaluation\n",
    "from sklearn.metrics import accuracy_score, f1_score\n",
    "y_true = df_true2['cluster_id'].astype(str)\n",
    "y_pred = df_pred['cluster_id'].astype(str)\n",
    "\n",
    "print(\"accuracy: \", accuracy_score(y_true, y_pred))\n",
    "print(\"micro f1: \", f1_score(y_true, y_pred, average='micro'))\n",
    "print(\"macro f1: \", f1_score(y_true, y_pred, average='macro'))\n",
    "print(\"weighted f1: \", f1_score(y_true, y_pred, average='weighted'))\n"
   ]
  },
  {
   "cell_type": "code",
   "execution_count": 8,
   "id": "dec62822",
   "metadata": {},
   "outputs": [
    {
     "data": {
      "text/plain": [
       "False"
      ]
     },
     "execution_count": 8,
     "metadata": {},
     "output_type": "execute_result"
    }
   ],
   "source": [
    "df_pred['cluster_id'].equals(df_true2['cluster_id'])"
   ]
  },
  {
   "cell_type": "code",
   "execution_count": 19,
   "id": "a15b1e55",
   "metadata": {},
   "outputs": [
    {
     "data": {
      "text/plain": [
       "array(['name', 'numberofpages', 'datepublished', ..., 'partofseries',\n",
       "       'name', 'partofseries'], dtype=object)"
      ]
     },
     "execution_count": 19,
     "metadata": {},
     "output_type": "execute_result"
    }
   ],
   "source": [
    "df_pred['cluster_id'].values"
   ]
  },
  {
   "cell_type": "code",
   "execution_count": 9,
   "id": "4fd44632",
   "metadata": {},
   "outputs": [
    {
     "data": {
      "text/plain": [
       "34374             name\n",
       "34375    numberofpages\n",
       "34376    datepublished\n",
       "34377        publisher\n",
       "34378       bookformat\n",
       "             ...      \n",
       "46033     partofseries\n",
       "25976             name\n",
       "25977     partofseries\n",
       "43128             name\n",
       "43129     partofseries\n",
       "Name: cluster_id, Length: 50709, dtype: object"
      ]
     },
     "execution_count": 9,
     "metadata": {},
     "output_type": "execute_result"
    }
   ],
   "source": [
    "df_pred['cluster_id']"
   ]
  },
  {
   "cell_type": "code",
   "execution_count": 13,
   "id": "50ed4414",
   "metadata": {},
   "outputs": [
    {
     "data": {
      "text/html": [
       "<div>\n",
       "<style scoped>\n",
       "    .dataframe tbody tr th:only-of-type {\n",
       "        vertical-align: middle;\n",
       "    }\n",
       "\n",
       "    .dataframe tbody tr th {\n",
       "        vertical-align: top;\n",
       "    }\n",
       "\n",
       "    .dataframe thead th {\n",
       "        text-align: right;\n",
       "    }\n",
       "</style>\n",
       "<table border=\"1\" class=\"dataframe\">\n",
       "  <thead>\n",
       "    <tr style=\"text-align: right;\">\n",
       "      <th></th>\n",
       "      <th>fname</th>\n",
       "      <th>col_id</th>\n",
       "      <th>cluster_id</th>\n",
       "    </tr>\n",
       "  </thead>\n",
       "  <tbody>\n",
       "    <tr>\n",
       "      <th>0</th>\n",
       "      <td>Book_4thestate.co.uk_September2020</td>\n",
       "      <td>0</td>\n",
       "      <td>name</td>\n",
       "    </tr>\n",
       "    <tr>\n",
       "      <th>1</th>\n",
       "      <td>Book_4thestate.co.uk_September2020</td>\n",
       "      <td>1</td>\n",
       "      <td>numberofpages</td>\n",
       "    </tr>\n",
       "    <tr>\n",
       "      <th>2</th>\n",
       "      <td>Book_4thestate.co.uk_September2020</td>\n",
       "      <td>2</td>\n",
       "      <td>datepublished</td>\n",
       "    </tr>\n",
       "    <tr>\n",
       "      <th>3</th>\n",
       "      <td>Book_4thestate.co.uk_September2020</td>\n",
       "      <td>3</td>\n",
       "      <td>publisher</td>\n",
       "    </tr>\n",
       "    <tr>\n",
       "      <th>4</th>\n",
       "      <td>Book_4thestate.co.uk_September2020</td>\n",
       "      <td>4</td>\n",
       "      <td>bookformat</td>\n",
       "    </tr>\n",
       "    <tr>\n",
       "      <th>...</th>\n",
       "      <td>...</td>\n",
       "      <td>...</td>\n",
       "      <td>...</td>\n",
       "    </tr>\n",
       "    <tr>\n",
       "      <th>50704</th>\n",
       "      <td>TVEpisode_watermarkthefilm.com_September2020</td>\n",
       "      <td>1</td>\n",
       "      <td>partofseries</td>\n",
       "    </tr>\n",
       "    <tr>\n",
       "      <th>50705</th>\n",
       "      <td>TVEpisode_ww2d.org_September2020</td>\n",
       "      <td>0</td>\n",
       "      <td>name</td>\n",
       "    </tr>\n",
       "    <tr>\n",
       "      <th>50706</th>\n",
       "      <td>TVEpisode_ww2d.org_September2020</td>\n",
       "      <td>1</td>\n",
       "      <td>partofseries</td>\n",
       "    </tr>\n",
       "    <tr>\n",
       "      <th>50707</th>\n",
       "      <td>TVEpisode_zebrahead.org_September2020</td>\n",
       "      <td>0</td>\n",
       "      <td>name</td>\n",
       "    </tr>\n",
       "    <tr>\n",
       "      <th>50708</th>\n",
       "      <td>TVEpisode_zebrahead.org_September2020</td>\n",
       "      <td>1</td>\n",
       "      <td>partofseries</td>\n",
       "    </tr>\n",
       "  </tbody>\n",
       "</table>\n",
       "<p>50709 rows × 3 columns</p>\n",
       "</div>"
      ],
      "text/plain": [
       "                                              fname col_id     cluster_id\n",
       "0                Book_4thestate.co.uk_September2020      0           name\n",
       "1                Book_4thestate.co.uk_September2020      1  numberofpages\n",
       "2                Book_4thestate.co.uk_September2020      2  datepublished\n",
       "3                Book_4thestate.co.uk_September2020      3      publisher\n",
       "4                Book_4thestate.co.uk_September2020      4     bookformat\n",
       "...                                             ...    ...            ...\n",
       "50704  TVEpisode_watermarkthefilm.com_September2020      1   partofseries\n",
       "50705              TVEpisode_ww2d.org_September2020      0           name\n",
       "50706              TVEpisode_ww2d.org_September2020      1   partofseries\n",
       "50707         TVEpisode_zebrahead.org_September2020      0           name\n",
       "50708         TVEpisode_zebrahead.org_September2020      1   partofseries\n",
       "\n",
       "[50709 rows x 3 columns]"
      ]
     },
     "execution_count": 13,
     "metadata": {},
     "output_type": "execute_result"
    }
   ],
   "source": [
    "df_true2"
   ]
  },
  {
   "cell_type": "code",
   "execution_count": 15,
   "id": "8602dc39",
   "metadata": {},
   "outputs": [
    {
     "data": {
      "text/plain": [
       "array(['name', 'numberofpages', 'datepublished', ..., 'partofseries',\n",
       "       'name', 'partofseries'], dtype=object)"
      ]
     },
     "execution_count": 15,
     "metadata": {},
     "output_type": "execute_result"
    }
   ],
   "source": [
    "df_true2['cluster_id'].values"
   ]
  },
  {
   "cell_type": "code",
   "execution_count": 17,
   "id": "746b3238",
   "metadata": {},
   "outputs": [],
   "source": [
    "vergleich = pd.DataFrame({'A': df_pred['cluster_id'].values, 'B': df_true2['cluster_id'].values}, )"
   ]
  },
  {
   "cell_type": "code",
   "execution_count": 18,
   "id": "275d486e",
   "metadata": {},
   "outputs": [
    {
     "data": {
      "text/html": [
       "<div>\n",
       "<style scoped>\n",
       "    .dataframe tbody tr th:only-of-type {\n",
       "        vertical-align: middle;\n",
       "    }\n",
       "\n",
       "    .dataframe tbody tr th {\n",
       "        vertical-align: top;\n",
       "    }\n",
       "\n",
       "    .dataframe thead th {\n",
       "        text-align: right;\n",
       "    }\n",
       "</style>\n",
       "<table border=\"1\" class=\"dataframe\">\n",
       "  <thead>\n",
       "    <tr style=\"text-align: right;\">\n",
       "      <th></th>\n",
       "      <th>A</th>\n",
       "      <th>B</th>\n",
       "    </tr>\n",
       "  </thead>\n",
       "  <tbody>\n",
       "  </tbody>\n",
       "</table>\n",
       "</div>"
      ],
      "text/plain": [
       "Empty DataFrame\n",
       "Columns: [A, B]\n",
       "Index: []"
      ]
     },
     "execution_count": 18,
     "metadata": {},
     "output_type": "execute_result"
    }
   ],
   "source": [
    "vergleich.loc[~(vergleich['A'] == vergleich['B'])]\n"
   ]
  },
  {
   "cell_type": "code",
   "execution_count": 5,
   "id": "051d0a94",
   "metadata": {},
   "outputs": [
    {
     "data": {
      "text/html": [
       "<div>\n",
       "<style scoped>\n",
       "    .dataframe tbody tr th:only-of-type {\n",
       "        vertical-align: middle;\n",
       "    }\n",
       "\n",
       "    .dataframe tbody tr th {\n",
       "        vertical-align: top;\n",
       "    }\n",
       "\n",
       "    .dataframe thead th {\n",
       "        text-align: right;\n",
       "    }\n",
       "</style>\n",
       "<table border=\"1\" class=\"dataframe\">\n",
       "  <thead>\n",
       "    <tr style=\"text-align: right;\">\n",
       "      <th></th>\n",
       "      <th>fname</th>\n",
       "      <th>col_id</th>\n",
       "      <th>cluster_id</th>\n",
       "    </tr>\n",
       "  </thead>\n",
       "  <tbody>\n",
       "    <tr>\n",
       "      <th>0</th>\n",
       "      <td>Book_4thestate.co.uk_September2020</td>\n",
       "      <td>0</td>\n",
       "      <td>name</td>\n",
       "    </tr>\n",
       "    <tr>\n",
       "      <th>1</th>\n",
       "      <td>Book_4thestate.co.uk_September2020</td>\n",
       "      <td>1</td>\n",
       "      <td>numberofpages</td>\n",
       "    </tr>\n",
       "    <tr>\n",
       "      <th>2</th>\n",
       "      <td>Book_4thestate.co.uk_September2020</td>\n",
       "      <td>2</td>\n",
       "      <td>datepublished</td>\n",
       "    </tr>\n",
       "    <tr>\n",
       "      <th>3</th>\n",
       "      <td>Book_4thestate.co.uk_September2020</td>\n",
       "      <td>3</td>\n",
       "      <td>publisher</td>\n",
       "    </tr>\n",
       "    <tr>\n",
       "      <th>4</th>\n",
       "      <td>Book_4thestate.co.uk_September2020</td>\n",
       "      <td>4</td>\n",
       "      <td>bookformat</td>\n",
       "    </tr>\n",
       "    <tr>\n",
       "      <th>...</th>\n",
       "      <td>...</td>\n",
       "      <td>...</td>\n",
       "      <td>...</td>\n",
       "    </tr>\n",
       "    <tr>\n",
       "      <th>50704</th>\n",
       "      <td>TVEpisode_watermarkthefilm.com_September2020</td>\n",
       "      <td>1</td>\n",
       "      <td>partofseries</td>\n",
       "    </tr>\n",
       "    <tr>\n",
       "      <th>50705</th>\n",
       "      <td>TVEpisode_ww2d.org_September2020</td>\n",
       "      <td>0</td>\n",
       "      <td>name</td>\n",
       "    </tr>\n",
       "    <tr>\n",
       "      <th>50706</th>\n",
       "      <td>TVEpisode_ww2d.org_September2020</td>\n",
       "      <td>1</td>\n",
       "      <td>partofseries</td>\n",
       "    </tr>\n",
       "    <tr>\n",
       "      <th>50707</th>\n",
       "      <td>TVEpisode_zebrahead.org_September2020</td>\n",
       "      <td>0</td>\n",
       "      <td>name</td>\n",
       "    </tr>\n",
       "    <tr>\n",
       "      <th>50708</th>\n",
       "      <td>TVEpisode_zebrahead.org_September2020</td>\n",
       "      <td>1</td>\n",
       "      <td>partofseries</td>\n",
       "    </tr>\n",
       "  </tbody>\n",
       "</table>\n",
       "<p>50709 rows × 3 columns</p>\n",
       "</div>"
      ],
      "text/plain": [
       "                                              fname col_id     cluster_id\n",
       "0                Book_4thestate.co.uk_September2020      0           name\n",
       "1                Book_4thestate.co.uk_September2020      1  numberofpages\n",
       "2                Book_4thestate.co.uk_September2020      2  datepublished\n",
       "3                Book_4thestate.co.uk_September2020      3      publisher\n",
       "4                Book_4thestate.co.uk_September2020      4     bookformat\n",
       "...                                             ...    ...            ...\n",
       "50704  TVEpisode_watermarkthefilm.com_September2020      1   partofseries\n",
       "50705              TVEpisode_ww2d.org_September2020      0           name\n",
       "50706              TVEpisode_ww2d.org_September2020      1   partofseries\n",
       "50707         TVEpisode_zebrahead.org_September2020      0           name\n",
       "50708         TVEpisode_zebrahead.org_September2020      1   partofseries\n",
       "\n",
       "[50709 rows x 3 columns]"
      ]
     },
     "execution_count": 5,
     "metadata": {},
     "output_type": "execute_result"
    }
   ],
   "source": [
    "df_true2"
   ]
  },
  {
   "cell_type": "code",
   "execution_count": null,
   "id": "8559de8a",
   "metadata": {},
   "outputs": [],
   "source": [
    "\n",
    "test_table_path = \"../../../src/data/schemafiltereddata/tabbie/test\"   #TO CHANGE\n",
    "test_label_path = \"../../../src/data/schemafiltereddata/tabbie\"\n",
    "\n",
    "# initiate a dataframe\n",
    "df_true = pd.DataFrame(columns=['fname','col_id','cluster_id'])\n",
    "\n",
    "#test_labels = pd.read_csv(os.path.join(test_label_path, 'test_label.csv'))\n",
    "test_labels = pd.read_csv(os.path.join(test_label_path, 'test_label_new.csv'))"
   ]
  },
  {
   "cell_type": "code",
   "execution_count": null,
   "id": "d5545921",
   "metadata": {},
   "outputs": [],
   "source": [
    "tables = test_labels['fname'].unique()\n",
    "for t in tables:\n",
    "    tmp = pd.read_csv(os.path.join(test_table_path, t)) \n",
    "    fname = os.path.splitext(t)[0]\n",
    "    for i in range(len(tmp.columns)):\n",
    "        df_true = df_true.append({'fname':fname, 'col_id': i, 'cluster_id': tmp.columns[i]}, ignore_index=True)\n"
   ]
  },
  {
   "cell_type": "code",
   "execution_count": null,
   "id": "c0c64bdc",
   "metadata": {},
   "outputs": [],
   "source": []
  }
 ],
 "metadata": {
  "kernelspec": {
   "display_name": "Python 3 (ipykernel)",
   "language": "python",
   "name": "python3"
  },
  "language_info": {
   "codemirror_mode": {
    "name": "ipython",
    "version": 3
   },
   "file_extension": ".py",
   "mimetype": "text/x-python",
   "name": "python",
   "nbconvert_exporter": "python",
   "pygments_lexer": "ipython3",
   "version": "3.8.8"
  }
 },
 "nbformat": 4,
 "nbformat_minor": 5
}
