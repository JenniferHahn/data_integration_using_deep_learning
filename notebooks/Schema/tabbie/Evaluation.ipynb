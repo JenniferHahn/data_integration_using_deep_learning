{
 "cells": [
  {
   "cell_type": "code",
   "execution_count": 4,
   "id": "54115941",
   "metadata": {},
   "outputs": [],
   "source": [
    "import json\n",
    "import os\n",
    "import pandas as pd\n",
    "pd.set_option('display.max_colwidth', 1000)"
   ]
  },
  {
   "cell_type": "code",
   "execution_count": 5,
   "id": "d8ce5553",
   "metadata": {},
   "outputs": [],
   "source": [
    "# y_pred\n",
    "parent_path = os.path.dirname(os.getcwd())\n",
    "#fp = \".\\out_model\\pred_test.jsonl\"   # output of Tabbie\n",
    "fp = parent_path + \"/tabbie/evaluation/small-100/pred_test.jsonl\"\n",
    "with open(fp, 'r') as json_file:\n",
    "    json_list = list(json_file)"
   ]
  },
  {
   "cell_type": "code",
   "execution_count": null,
   "id": "bb8b8fc4",
   "metadata": {},
   "outputs": [],
   "source": [
    "df_pred = pd.DataFrame(columns=['fname','col_id','cluster_id'])\n",
    "\n",
    "for j in json_list:\n",
    "    result = json.loads(j)\n",
    "    fname = result['table_id']\n",
    "    col_ids = result['col_labels']"
   ]
  },
  {
   "cell_type": "code",
   "execution_count": null,
   "id": "598ee366",
   "metadata": {},
   "outputs": [],
   "source": [
    "for i in col_ids:\n",
    "        df_pred = df_pred.append({'fname': fname, 'col_id': i, 'cluster_id': result['header'][i]}, ignore_index=True)"
   ]
  },
  {
   "cell_type": "code",
   "execution_count": null,
   "id": "1cb24aaf",
   "metadata": {},
   "outputs": [],
   "source": [
    "df_pred"
   ]
  },
  {
   "cell_type": "code",
   "execution_count": null,
   "id": "21ac6eed",
   "metadata": {},
   "outputs": [],
   "source": [
    "df_pred.sort_values(['fname', 'col_id'], ascending=[True, True], inplace=True)\n"
   ]
  },
  {
   "cell_type": "code",
   "execution_count": null,
   "id": "2159f7a9",
   "metadata": {},
   "outputs": [],
   "source": [
    "selection_dict = {}\n",
    "keys = df_pred['fname'].unique()\n",
    "for key in keys:\n",
    "    value = df_pred[df_pred['fname']==key]['col_id'].tolist()\n",
    "    selection_dict[key] = value\n"
   ]
  },
  {
   "cell_type": "code",
   "execution_count": null,
   "id": "0fa2b4eb",
   "metadata": {},
   "outputs": [],
   "source": [
    "import json\n",
    "import os\n",
    "import pandas as pd\n",
    "pd.set_option('display.max_colwidth', 1000)\n",
    "\n",
    "# y_pred\n",
    "parent_path = os.path.dirname(os.getcwd())\n",
    "#fp = \".\\out_model\\pred_test.jsonl\"   # output of Tabbie\n",
    "fp = parent_path + \"/tabbie/evaluation/small_max25(len64)/pred_test.jsonl\"\n",
    "with open(fp, 'r') as json_file:\n",
    "    json_list = list(json_file)\n",
    "\n",
    "# initiate a dataframe\n",
    "df_pred = pd.DataFrame(columns=['fname','col_id','cluster_id'])\n",
    "\n",
    "for j in json_list:\n",
    "    result = json.loads(j)\n",
    "    fname = result['table_id']\n",
    "    col_ids = result['col_labels']\n",
    "\n",
    "    for i in col_ids:\n",
    "        df_pred = df_pred.append({'fname': fname, 'col_id': i, 'cluster_id': result['header'][i]}, ignore_index=True)\n",
    "df_pred.sort_values(['fname', 'col_id'], ascending=[True, True], inplace=True)\n",
    "\n",
    "selection_dict = {}\n",
    "keys = df_pred['fname'].unique()\n",
    "for key in keys:\n",
    "    value = df_pred[df_pred['fname']==key]['col_id'].tolist()\n",
    "    selection_dict[key] = value\n",
    "\n",
    "# y_true\n",
    "parent_path = os.path.dirname(os.getcwd())\n",
    "#test_table_path = parent_path + \"/src/data/LocalBusiness/Splitting_TabbieData/Train_Test/test tables\"   #TO CHANGE\n",
    "#test_label_path = parent_path + \"/src/data/LocalBusiness/Splitting_TabbieData/Train_Test\"         #TO CHANGE\n",
    "\n",
    "test_table_path = \"../../../src/data/schemafiltereddata/tabbie/test\"   #TO CHANGE\n",
    "test_label_path = \"../../../src/data/schemafiltereddata/tabbie/\"\n",
    "\n",
    "# initiate a dataframe\n",
    "df_true = pd.DataFrame(columns=['fname','col_id','cluster_id'])\n",
    "\n",
    "#test_labels = pd.read_csv(os.path.join(test_label_path, 'test_label.csv'))\n",
    "test_labels = pd.read_csv(os.path.join(test_label_path, 'test_label_new.csv'))\n",
    "if 'Unnamed: 0' in test_labels.columns:\n",
    "    test_labels.drop(columns=['Unnamed: 0'], inplace= True)\n",
    "\n",
    "tables = test_labels['fname'].unique()\n",
    "for t in tables:\n",
    "    tmp = pd.read_csv(os.path.join(test_table_path, t)) # change to read_json...\n",
    "    \n",
    "    fname = os.path.splitext(t)[0]\n",
    "    for i in range(len(tmp.columns)):\n",
    "        df_true = df_true.append({'fname':fname, 'col_id': i, 'cluster_id': tmp.columns[i]}, ignore_index=True)\n",
    "\n",
    "# filter for including only predicted instances\n",
    "df_true2 = pd.DataFrame(columns=['fname','col_id','cluster_id'])\n",
    "\n",
    "for key in selection_dict.keys():\n",
    "    value = selection_dict[key]\n",
    "    tmp = df_true[df_true['fname']== key]\n",
    "    tmp2 = tmp[tmp['col_id'].isin(value)]\n",
    "    df_true2 = pd.concat([df_true2, tmp2], ignore_index=True)\n",
    "df_true2.sort_values(['fname', 'col_id'], ascending=[True, True], inplace=True)\n",
    "\n",
    "# Evaluation\n",
    "from sklearn.metrics import accuracy_score, f1_score\n",
    "y_true = df_true2['cluster_id'].astype(str)\n",
    "y_pred = df_pred['cluster_id'].astype(str)\n",
    "\n",
    "print(\"accuracy: \", accuracy_score(y_true, y_pred))\n",
    "print(\"micro f1: \", f1_score(y_true, y_pred, average='micro'))\n",
    "print(\"macro f1: \", f1_score(y_true, y_pred, average='macro'))\n",
    "print(\"weighted f1: \", f1_score(y_true, y_pred, average='weighted'))\n"
   ]
  },
  {
   "cell_type": "code",
   "execution_count": null,
   "id": "dec62822",
   "metadata": {},
   "outputs": [],
   "source": [
    "df_pred"
   ]
  },
  {
   "cell_type": "code",
   "execution_count": null,
   "id": "051d0a94",
   "metadata": {},
   "outputs": [],
   "source": [
    "df_true2"
   ]
  },
  {
   "cell_type": "code",
   "execution_count": null,
   "id": "8559de8a",
   "metadata": {},
   "outputs": [],
   "source": [
    "\n",
    "test_table_path = \"../../../src/data/schemafiltereddata/tabbie/test\"   #TO CHANGE\n",
    "test_label_path = \"../../../src/data/schemafiltereddata/tabbie\"\n",
    "\n",
    "# initiate a dataframe\n",
    "df_true = pd.DataFrame(columns=['fname','col_id','cluster_id'])\n",
    "\n",
    "#test_labels = pd.read_csv(os.path.join(test_label_path, 'test_label.csv'))\n",
    "test_labels = pd.read_csv(os.path.join(test_label_path, 'test_label_new.csv'))"
   ]
  },
  {
   "cell_type": "code",
   "execution_count": null,
   "id": "d5545921",
   "metadata": {},
   "outputs": [],
   "source": [
    "tables = test_labels['fname'].unique()\n",
    "for t in tables:\n",
    "    tmp = pd.read_csv(os.path.join(test_table_path, t)) \n",
    "    fname = os.path.splitext(t)[0]\n",
    "    for i in range(len(tmp.columns)):\n",
    "        df_true = df_true.append({'fname':fname, 'col_id': i, 'cluster_id': tmp.columns[i]}, ignore_index=True)\n"
   ]
  },
  {
   "cell_type": "code",
   "execution_count": null,
   "id": "c0c64bdc",
   "metadata": {},
   "outputs": [],
   "source": []
  }
 ],
 "metadata": {
  "kernelspec": {
   "display_name": "Python 3 (ipykernel)",
   "language": "python",
   "name": "python3"
  },
  "language_info": {
   "codemirror_mode": {
    "name": "ipython",
    "version": 3
   },
   "file_extension": ".py",
   "mimetype": "text/x-python",
   "name": "python",
   "nbconvert_exporter": "python",
   "pygments_lexer": "ipython3",
   "version": "3.8.8"
  }
 },
 "nbformat": 4,
 "nbformat_minor": 5
}
