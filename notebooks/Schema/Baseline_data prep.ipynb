{
 "cells": [
  {
   "cell_type": "markdown",
   "id": "ba617a88",
   "metadata": {},
   "source": [
    "This notebook includes data prep and execution of baseline model. Notebook is now built for book class since there is no ready to use train / test set."
   ]
  },
  {
   "cell_type": "markdown",
   "id": "c410b280",
   "metadata": {},
   "source": [
    "### Data Prep"
   ]
  },
  {
   "cell_type": "code",
   "execution_count": null,
   "id": "004c8296",
   "metadata": {},
   "outputs": [],
   "source": [
    "# import libraries\n",
    "import os\n",
    "import pandas as pd\n",
    "import json\n",
    "import gzip\n",
    "import fasttext \n",
    "import matplotlib.pyplot as plt\n",
    "import seaborn as sns\n",
    "import re"
   ]
  },
  {
   "cell_type": "code",
   "execution_count": null,
   "id": "eef22083",
   "metadata": {},
   "outputs": [],
   "source": [
    "# Train set\n",
    "path = '../../src/data/schemafiltereddata/TrainTestTables/Large/Train'\n",
    "files = [file for file in os.listdir(path) if file.endswith('.json.gz')]"
   ]
  },
  {
   "cell_type": "code",
   "execution_count": null,
   "id": "8302809c",
   "metadata": {},
   "outputs": [],
   "source": [
    "# Test set\n",
    "path = '../../src/data/schemafiltereddata/TrainTestTables/Test'\n",
    "files = [file for file in os.listdir(path) if file.endswith('.json.gz')]"
   ]
  },
  {
   "cell_type": "code",
   "execution_count": null,
   "id": "960b9305",
   "metadata": {},
   "outputs": [],
   "source": [
    "len(files)"
   ]
  },
  {
   "cell_type": "code",
   "execution_count": null,
   "id": "615e5758",
   "metadata": {},
   "outputs": [],
   "source": [
    "Product = ['name',\n",
    " 'offers',\n",
    " 'brand',\n",
    " 'aggregaterating',\n",
    " 'mpn',\n",
    " 'category',\n",
    " 'review',\n",
    " 'manufacturer',\n",
    " 'itemcondition',\n",
    " 'model',\n",
    " 'weight',\n",
    " 'price',\n",
    " 'gtin13',\n",
    " 'releasedate',\n",
    " 'color',\n",
    " 'mainentityofpage',\n",
    " 'isrelatedto',\n",
    " 'gtin12',\n",
    " 'pricecurrency',\n",
    " 'width',\n",
    " 'height',\n",
    " 'additionalproperty',\n",
    " 'depth',\n",
    " 'gtin8',\n",
    " 'gtin',\n",
    " 'identifier',\n",
    " 'availability',\n",
    " 'gtin14',\n",
    " 'shop-currency',\n",
    " 'reviewcount',\n",
    " 'ratingvalue',\n",
    " 'issimilarto',\n",
    " 'itemlistelement',\n",
    " 'bestrating',\n",
    " 'condition',\n",
    " 'worstrating',\n",
    " 'alternatename',\n",
    " 'audience',\n",
    " 'breadcrumb',\n",
    " 'material',\n",
    " 'disambiguatingdescription',\n",
    " 'title',\n",
    " 'address',\n",
    " 'author',\n",
    " 'offerdetails',\n",
    " 'reviews',\n",
    " 'geo',\n",
    " 'datepublished']"
   ]
  },
  {
   "cell_type": "code",
   "execution_count": null,
   "id": "68941112",
   "metadata": {},
   "outputs": [],
   "source": [
    "CreativeWork = ['headline',\n",
    " 'author',\n",
    " 'datepublished',\n",
    " 'datemodified',\n",
    " 'name',\n",
    " 'publisher',\n",
    " 'mainentityofpage',\n",
    " 'interactionstatistic',\n",
    " 'datecreated',\n",
    " 'alternativeheadline',\n",
    " 'keywords',\n",
    " 'articlebody',\n",
    " 'aggregaterating',\n",
    " 'interactioncount',\n",
    " 'inlanguage',\n",
    " 'commentcount',\n",
    " 'interactiontype',\n",
    " 'creator',\n",
    " 'genre',\n",
    " 'version',\n",
    " 'offers',\n",
    " 'copyrightholder',\n",
    " 'copyrightyear']"
   ]
  },
  {
   "cell_type": "code",
   "execution_count": null,
   "id": "b33c8bdb",
   "metadata": {},
   "outputs": [],
   "source": [
    "Event = ['name',\n",
    " 'enddate',\n",
    " 'location',\n",
    " 'organizer',\n",
    " 'duration',\n",
    " 'doortime',\n",
    " 'typicalagerange',\n",
    " 'performers']"
   ]
  },
  {
   "cell_type": "code",
   "execution_count": null,
   "id": "4071ea39",
   "metadata": {},
   "outputs": [],
   "source": [
    "MusicRecording = ['name',\n",
    " 'duration',\n",
    " 'byartist',\n",
    " 'datepublished',\n",
    " 'genre',\n",
    " 'datecreated']"
   ]
  },
  {
   "cell_type": "code",
   "execution_count": null,
   "id": "ddbe393b",
   "metadata": {},
   "outputs": [],
   "source": [
    "LocalBusiness = ['name',\n",
    " 'address',\n",
    " 'telephone',\n",
    " 'geo',\n",
    " 'pricerange',\n",
    " 'aggregaterating',\n",
    " 'email',\n",
    " 'sameas',\n",
    " 'faxnumber',\n",
    " 'openinghours',\n",
    " 'openinghoursspecification',\n",
    " 'review',\n",
    " 'contactpoint',\n",
    " 'legalname',\n",
    " 'areaserved',\n",
    " 'location',\n",
    " 'addresslocality',\n",
    " 'addressregion',\n",
    " 'streetaddress',\n",
    " 'postalcode',\n",
    " 'paymentaccepted',\n",
    " 'founder',\n",
    " 'citystatezip',\n",
    " 'owns',\n",
    " 'hasmap']"
   ]
  },
  {
   "cell_type": "code",
   "execution_count": null,
   "id": "9b97fcfe",
   "metadata": {},
   "outputs": [],
   "source": [
    "Recipe = ['name',\n",
    " 'recipeinstructions',\n",
    " 'author',\n",
    " 'recipeyield',\n",
    " 'recipeingredient',\n",
    " 'preptime',\n",
    " 'cooktime',\n",
    " 'datepublished',\n",
    " 'totaltime',\n",
    " 'recipecategory',\n",
    " 'recipecuisine',\n",
    " 'aggregaterating',\n",
    " 'keywords',\n",
    " 'nutrition',\n",
    " 'mainentityofpage',\n",
    " 'ispartof',\n",
    " 'ingredients',\n",
    " 'performtime',\n",
    " 'cookingmethod',\n",
    " 'review',\n",
    " 'suitablefordiet',\n",
    " 'datemodified',\n",
    " 'publisher',\n",
    " 'headline']"
   ]
  },
  {
   "cell_type": "code",
   "execution_count": null,
   "id": "2d2adfa8",
   "metadata": {},
   "outputs": [],
   "source": [
    "Person = ['mainentityofpage',\n",
    " 'jobtitle',\n",
    " 'birthdate',\n",
    " 'givenname',\n",
    " 'familyname',\n",
    " 'telephone',\n",
    " 'email',\n",
    " 'deathdate',\n",
    " 'additionalname',\n",
    " 'gender',\n",
    " 'worksfor',\n",
    " 'height',\n",
    " 'address',\n",
    " 'nationality',\n",
    " 'weight',\n",
    " 'affiliation',\n",
    " 'homelocation',\n",
    " 'knowslanguage',\n",
    " 'makesoffer',\n",
    " 'sameas',\n",
    " 'birthplace',\n",
    " 'memberof',\n",
    " 'faxnumber',\n",
    " 'worklocation',\n",
    " 'contactpoint']"
   ]
  },
  {
   "cell_type": "code",
   "execution_count": null,
   "id": "8dfc84cf",
   "metadata": {},
   "outputs": [],
   "source": [
    "Place = ['name', 'geo', 'telephone', 'sameas', 'openinghoursspecification']"
   ]
  },
  {
   "cell_type": "code",
   "execution_count": null,
   "id": "954b3676",
   "metadata": {},
   "outputs": [],
   "source": [
    "Book = ['name',\n",
    " 'author',\n",
    " 'isbn',\n",
    " 'publisher',\n",
    " 'offers',\n",
    " 'datepublished',\n",
    " 'numberofpages',\n",
    " 'bookformat',\n",
    " 'inlanguage',\n",
    " 'genre',\n",
    " 'aggregaterating',\n",
    " 'bookedition']"
   ]
  },
  {
   "cell_type": "code",
   "execution_count": null,
   "id": "25ca03c2",
   "metadata": {},
   "outputs": [],
   "source": [
    "Restaurant = ['name',\n",
    " 'address',\n",
    " 'telephone',\n",
    " 'servescuisine',\n",
    " 'geo',\n",
    " 'pricerange',\n",
    " 'aggregaterating',\n",
    " 'hasmenu',\n",
    " 'acceptsreservations',\n",
    " 'openinghoursspecification',\n",
    " 'openinghours',\n",
    " 'menu']"
   ]
  },
  {
   "cell_type": "code",
   "execution_count": null,
   "id": "7b2061bf",
   "metadata": {},
   "outputs": [],
   "source": [
    "Hotel = ['name',\n",
    " 'address',\n",
    " 'telephone',\n",
    " 'pricerange',\n",
    " 'geo',\n",
    " 'aggregaterating',\n",
    " 'starrating',\n",
    " 'email']"
   ]
  },
  {
   "cell_type": "code",
   "execution_count": null,
   "id": "d681bac7",
   "metadata": {},
   "outputs": [],
   "source": [
    "MusicAlbum = ['name', 'byartist', 'track', 'numtracks']"
   ]
  },
  {
   "cell_type": "code",
   "execution_count": null,
   "id": "6523bcb3",
   "metadata": {},
   "outputs": [],
   "source": [
    "TVEpisode = ['name', 'partofseries', 'episodenumber']"
   ]
  },
  {
   "cell_type": "code",
   "execution_count": null,
   "id": "9489b64e",
   "metadata": {},
   "outputs": [],
   "source": [
    "# creation of general dataframe to hold data\n",
    "tables = pd.DataFrame(columns=['text', 'name', 'class'])"
   ]
  },
  {
   "cell_type": "code",
   "execution_count": null,
   "id": "c4bc69d4",
   "metadata": {},
   "outputs": [],
   "source": [
    "d = {'Product': Product, 'CreativeWork': CreativeWork, 'Event': Event, 'MusicRecording': MusicRecording, \n",
    "     'LocalBusiness': LocalBusiness, 'Recipe': Recipe, 'Person': Person, 'Place': Place, 'Book': Book, \n",
    "     'Restaurant': Restaurant, 'Hotel': Hotel, 'MusicAlbum': MusicAlbum, 'TVEpisode': TVEpisode}"
   ]
  },
  {
   "cell_type": "code",
   "execution_count": null,
   "id": "203f777a",
   "metadata": {},
   "outputs": [],
   "source": [
    "# gets concatenated rows of target columns\n",
    "# muss eig noch mal fingetuned werden mit prüfung aus welcher kategorie es kommt\n",
    "for file in files:\n",
    "    # read file\n",
    "    df = pd.read_json(os.path.join(path, '{}'.format(file)), compression='gzip', lines=True)\n",
    "    \n",
    "    # look for target columns\n",
    "    for target in d[file.split('_')[0]]:\n",
    "        if target in df.columns:\n",
    "            print(target)\n",
    "            print(df.columns)\n",
    "            df[target] = df[target].fillna(' ')\n",
    "            try:\n",
    "                tables = tables.append({'text': ' '.join(df[target].tolist()), 'name': target, 'class': file.split('_')[0]}, ignore_index=True)\n",
    "            except:\n",
    "                tables = tables.append({'text': ','.join(str(v) for v in df[target]), 'name': target, 'class': file.split('_')[0]}, ignore_index=True)\n",
    "            #book_tables.append({'text': ''.join(map(str, df[target])), 'name': target}, ignore_index=True)"
   ]
  },
  {
   "cell_type": "code",
   "execution_count": null,
   "id": "0fec3736",
   "metadata": {},
   "outputs": [],
   "source": [
    "# replace non alphanumeric signs ? -> }\n",
    "\n",
    "#..."
   ]
  },
  {
   "cell_type": "code",
   "execution_count": null,
   "id": "15067d58",
   "metadata": {},
   "outputs": [],
   "source": [
    "# kick out non-english text?\n",
    "\n",
    "#..."
   ]
  },
  {
   "cell_type": "code",
   "execution_count": null,
   "id": "dbec0a21",
   "metadata": {},
   "outputs": [],
   "source": [
    "tables.head()"
   ]
  },
  {
   "cell_type": "code",
   "execution_count": null,
   "id": "e5a87f10",
   "metadata": {},
   "outputs": [],
   "source": [
    "tables.shape"
   ]
  },
  {
   "cell_type": "code",
   "execution_count": null,
   "id": "819af9a3",
   "metadata": {},
   "outputs": [],
   "source": [
    "# beispiel von test small\n",
    "#pd.read_json(os.path.join(path, '{}'.format(files[0])), compression='gzip', lines=True)\n",
    "# warum sind teilweise columns gleich?"
   ]
  },
  {
   "cell_type": "code",
   "execution_count": null,
   "id": "847dd534",
   "metadata": {},
   "outputs": [],
   "source": [
    "tables[tables.text.duplicated()]"
   ]
  },
  {
   "cell_type": "code",
   "execution_count": null,
   "id": "0065c3d2",
   "metadata": {},
   "outputs": [],
   "source": [
    "# duplicates -> why??\n",
    "tables.text.duplicated().sum()"
   ]
  },
  {
   "cell_type": "code",
   "execution_count": null,
   "id": "77750c05",
   "metadata": {},
   "outputs": [],
   "source": [
    "# kick duplicates out - could be inspected further - not always clear case to kick them out\n",
    "#tableswod = tables[~tables.text.duplicated()]"
   ]
  },
  {
   "cell_type": "code",
   "execution_count": null,
   "id": "f303f3f0",
   "metadata": {},
   "outputs": [],
   "source": [
    "#tableswod.shape"
   ]
  },
  {
   "cell_type": "markdown",
   "id": "09c0cad4",
   "metadata": {},
   "source": [
    "Distribution of relations is not even"
   ]
  },
  {
   "cell_type": "code",
   "execution_count": null,
   "id": "e8b65721",
   "metadata": {},
   "outputs": [],
   "source": [
    "#tables_train = tables"
   ]
  },
  {
   "cell_type": "code",
   "execution_count": null,
   "id": "0a903d28",
   "metadata": {},
   "outputs": [],
   "source": [
    "tables_test = tables"
   ]
  },
  {
   "cell_type": "code",
   "execution_count": null,
   "id": "0c0bd82c",
   "metadata": {},
   "outputs": [],
   "source": [
    "tables_train"
   ]
  },
  {
   "cell_type": "code",
   "execution_count": null,
   "id": "996c3bf4",
   "metadata": {},
   "outputs": [],
   "source": [
    "#tables_train.to_csv(\"../../src/data/schemafiltereddata/TrainTestTables/Small/Train/tables.csv\")"
   ]
  },
  {
   "cell_type": "code",
   "execution_count": null,
   "id": "27dd8a54",
   "metadata": {},
   "outputs": [],
   "source": [
    "#tables_train.to_csv(\"../../src/data/schemafiltereddata/TrainTestTables/large_tables_seq.csv\")"
   ]
  },
  {
   "cell_type": "code",
   "execution_count": null,
   "id": "ed9874ed",
   "metadata": {},
   "outputs": [],
   "source": [
    "tables_test.to_csv(\"../../src/data/schemafiltereddata/TrainTestTables/test_tables_seq.csv\")"
   ]
  },
  {
   "cell_type": "code",
   "execution_count": null,
   "id": "f6c4ebb6",
   "metadata": {},
   "outputs": [],
   "source": []
  }
 ],
 "metadata": {
  "kernelspec": {
   "display_name": "Python 3 (ipykernel)",
   "language": "python",
   "name": "python3"
  },
  "language_info": {
   "codemirror_mode": {
    "name": "ipython",
    "version": 3
   },
   "file_extension": ".py",
   "mimetype": "text/x-python",
   "name": "python",
   "nbconvert_exporter": "python",
   "pygments_lexer": "ipython3",
   "version": "3.8.8"
  }
 },
 "nbformat": 4,
 "nbformat_minor": 5
}
